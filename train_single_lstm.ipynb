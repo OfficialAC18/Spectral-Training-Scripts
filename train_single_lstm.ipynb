{
 "cells": [
  {
   "cell_type": "code",
   "execution_count": 1,
   "metadata": {},
   "outputs": [],
   "source": [
    "#Call Main and let it run\n",
    "from training_insilico_lstm import main"
   ]
  },
  {
   "cell_type": "code",
   "execution_count": 2,
   "metadata": {},
   "outputs": [
    {
     "data": {
      "text/html": [
       "<div class=\"tuneStatus\">\n",
       "  <div style=\"display: flex;flex-direction: row\">\n",
       "    <div style=\"display: flex;flex-direction: column;\">\n",
       "      <h3>Tune Status</h3>\n",
       "      <table>\n",
       "<tbody>\n",
       "<tr><td>Current time:</td><td>2024-08-19 13:45:27</td></tr>\n",
       "<tr><td>Running for: </td><td>00:12:12.24        </td></tr>\n",
       "<tr><td>Memory:      </td><td>55.4/1007.5 GiB    </td></tr>\n",
       "</tbody>\n",
       "</table>\n",
       "    </div>\n",
       "    <div class=\"vDivider\"></div>\n",
       "    <div class=\"systemInfo\">\n",
       "      <h3>System Info</h3>\n",
       "      Using AsyncHyperBand: num_stopped=10<br>Bracket: Iter 60.000: -0.26114706504852214 | Iter 30.000: -0.2853380818950369 | Iter 15.000: -0.7280236130699198<br>Logical resource usage: 24.0/96 CPUs, 0.5/1 GPUs (0.0/1.0 accelerator_type:A30)\n",
       "    </div>\n",
       "    \n",
       "  </div>\n",
       "  <div class=\"hDivider\"></div>\n",
       "  <div class=\"trialStatus\">\n",
       "    <h3>Trial Status</h3>\n",
       "    <table>\n",
       "<thead>\n",
       "<tr><th>Trial name                      </th><th>status    </th><th>loc               </th><th style=\"text-align: right;\">  dp</th><th style=\"text-align: right;\">  hidden_size</th><th style=\"text-align: right;\">        lr</th><th style=\"text-align: right;\">  num_layers</th><th style=\"text-align: right;\">  iter</th><th style=\"text-align: right;\">  total time (s)</th><th style=\"text-align: right;\">    loss</th><th style=\"text-align: right;\">  accuracy</th><th style=\"text-align: right;\">      f1</th></tr>\n",
       "</thead>\n",
       "<tbody>\n",
       "<tr><td>tune_with_parameters_3497d_00000</td><td>TERMINATED</td><td>10.211.4.4:1894660</td><td style=\"text-align: right;\">0.2 </td><td style=\"text-align: right;\">          400</td><td style=\"text-align: right;\">0.00218818</td><td style=\"text-align: right;\">           1</td><td style=\"text-align: right;\">   100</td><td style=\"text-align: right;\">        469.651 </td><td style=\"text-align: right;\">0.24104 </td><td style=\"text-align: right;\">  0.854   </td><td style=\"text-align: right;\">0.857964</td></tr>\n",
       "<tr><td>tune_with_parameters_3497d_00001</td><td>TERMINATED</td><td>10.211.4.4:1894685</td><td style=\"text-align: right;\">0.2 </td><td style=\"text-align: right;\">          500</td><td style=\"text-align: right;\">0.00807421</td><td style=\"text-align: right;\">           2</td><td style=\"text-align: right;\">    15</td><td style=\"text-align: right;\">         64.0816</td><td style=\"text-align: right;\">1.09519 </td><td style=\"text-align: right;\">  0.418667</td><td style=\"text-align: right;\">0.415473</td></tr>\n",
       "<tr><td>tune_with_parameters_3497d_00002</td><td>TERMINATED</td><td>10.211.4.4:1913127</td><td style=\"text-align: right;\">0.25</td><td style=\"text-align: right;\">          500</td><td style=\"text-align: right;\">0.0485901 </td><td style=\"text-align: right;\">           1</td><td style=\"text-align: right;\">    60</td><td style=\"text-align: right;\">        317.861 </td><td style=\"text-align: right;\">0.279472</td><td style=\"text-align: right;\">  0.833333</td><td style=\"text-align: right;\">0.838084</td></tr>\n",
       "<tr><td>tune_with_parameters_3497d_00003</td><td>TERMINATED</td><td>10.211.4.4:1987830</td><td style=\"text-align: right;\">0.1 </td><td style=\"text-align: right;\">          500</td><td style=\"text-align: right;\">0.00243749</td><td style=\"text-align: right;\">           1</td><td style=\"text-align: right;\">    15</td><td style=\"text-align: right;\">         57.5389</td><td style=\"text-align: right;\">0.445049</td><td style=\"text-align: right;\">  0.841   </td><td style=\"text-align: right;\">0.843068</td></tr>\n",
       "<tr><td>tune_with_parameters_3497d_00004</td><td>TERMINATED</td><td>10.211.4.4:2002492</td><td style=\"text-align: right;\">0.5 </td><td style=\"text-align: right;\">          200</td><td style=\"text-align: right;\">0.0537356 </td><td style=\"text-align: right;\">           2</td><td style=\"text-align: right;\">    15</td><td style=\"text-align: right;\">         53.9999</td><td style=\"text-align: right;\">0.551705</td><td style=\"text-align: right;\">  0.672667</td><td style=\"text-align: right;\">0.673212</td></tr>\n",
       "<tr><td>tune_with_parameters_3497d_00005</td><td>TERMINATED</td><td>10.211.4.4:2005156</td><td style=\"text-align: right;\">0.25</td><td style=\"text-align: right;\">          400</td><td style=\"text-align: right;\">0.0168799 </td><td style=\"text-align: right;\">           3</td><td style=\"text-align: right;\">    15</td><td style=\"text-align: right;\">         77.9803</td><td style=\"text-align: right;\">1.09791 </td><td style=\"text-align: right;\">  0.347667</td><td style=\"text-align: right;\">0.33727 </td></tr>\n",
       "<tr><td>tune_with_parameters_3497d_00006</td><td>TERMINATED</td><td>10.211.4.4:2016402</td><td style=\"text-align: right;\">0.25</td><td style=\"text-align: right;\">          200</td><td style=\"text-align: right;\">0.00611997</td><td style=\"text-align: right;\">           2</td><td style=\"text-align: right;\">    15</td><td style=\"text-align: right;\">         53.3452</td><td style=\"text-align: right;\">1.08598 </td><td style=\"text-align: right;\">  0.519667</td><td style=\"text-align: right;\">0.520327</td></tr>\n",
       "<tr><td>tune_with_parameters_3497d_00007</td><td>TERMINATED</td><td>10.211.4.4:2023458</td><td style=\"text-align: right;\">0.25</td><td style=\"text-align: right;\">          500</td><td style=\"text-align: right;\">0.00471397</td><td style=\"text-align: right;\">           2</td><td style=\"text-align: right;\">    15</td><td style=\"text-align: right;\">         55.2554</td><td style=\"text-align: right;\">0.860307</td><td style=\"text-align: right;\">  0.708333</td><td style=\"text-align: right;\">0.715089</td></tr>\n",
       "<tr><td>tune_with_parameters_3497d_00008</td><td>TERMINATED</td><td>10.211.4.4:2029911</td><td style=\"text-align: right;\">0.25</td><td style=\"text-align: right;\">          500</td><td style=\"text-align: right;\">0.00147909</td><td style=\"text-align: right;\">           3</td><td style=\"text-align: right;\">    15</td><td style=\"text-align: right;\">         96.6797</td><td style=\"text-align: right;\">1.09804 </td><td style=\"text-align: right;\">  0.350333</td><td style=\"text-align: right;\">0.347578</td></tr>\n",
       "<tr><td>tune_with_parameters_3497d_00009</td><td>TERMINATED</td><td>10.211.4.4:2038319</td><td style=\"text-align: right;\">0.5 </td><td style=\"text-align: right;\">          500</td><td style=\"text-align: right;\">0.0146671 </td><td style=\"text-align: right;\">           1</td><td style=\"text-align: right;\">    30</td><td style=\"text-align: right;\">         95.1443</td><td style=\"text-align: right;\">0.561441</td><td style=\"text-align: right;\">  0.665333</td><td style=\"text-align: right;\">0.665332</td></tr>\n",
       "</tbody>\n",
       "</table>\n",
       "  </div>\n",
       "</div>\n",
       "<style>\n",
       ".tuneStatus {\n",
       "  color: var(--jp-ui-font-color1);\n",
       "}\n",
       ".tuneStatus .systemInfo {\n",
       "  display: flex;\n",
       "  flex-direction: column;\n",
       "}\n",
       ".tuneStatus td {\n",
       "  white-space: nowrap;\n",
       "}\n",
       ".tuneStatus .trialStatus {\n",
       "  display: flex;\n",
       "  flex-direction: column;\n",
       "}\n",
       ".tuneStatus h3 {\n",
       "  font-weight: bold;\n",
       "}\n",
       ".tuneStatus .hDivider {\n",
       "  border-bottom-width: var(--jp-border-width);\n",
       "  border-bottom-color: var(--jp-border-color0);\n",
       "  border-bottom-style: solid;\n",
       "}\n",
       ".tuneStatus .vDivider {\n",
       "  border-left-width: var(--jp-border-width);\n",
       "  border-left-color: var(--jp-border-color0);\n",
       "  border-left-style: solid;\n",
       "  margin: 0.5em 1em 0.5em 1em;\n",
       "}\n",
       "</style>\n"
      ],
      "text/plain": [
       "<IPython.core.display.HTML object>"
      ]
     },
     "metadata": {},
     "output_type": "display_data"
    },
    {
     "name": "stderr",
     "output_type": "stream",
     "text": [
      "\u001b[36m(tune_with_parameters pid=1894660)\u001b[0m /users/k23058970/miniforge3/envs/Training/lib/python3.10/site-packages/torch/nn/modules/lazy.py:181: UserWarning: Lazy modules are a new feature under heavy development so changes to the API or functionality can happen at any moment.\n",
      "\u001b[36m(tune_with_parameters pid=1894660)\u001b[0m   warnings.warn('Lazy modules are a new feature under heavy development '\n"
     ]
    },
    {
     "name": "stdout",
     "output_type": "stream",
     "text": [
      "\u001b[36m(tune_with_parameters pid=1894660)\u001b[0m loss: 1.102\n"
     ]
    },
    {
     "name": "stderr",
     "output_type": "stream",
     "text": [
      "Val Epoch:0: 0it [00:00, ?it/s]1894660)\u001b[0m \n",
      "\u001b[36m(tune_with_parameters pid=1894685)\u001b[0m /users/k23058970/miniforge3/envs/Training/lib/python3.10/site-packages/torch/nn/modules/lazy.py:181: UserWarning: Lazy modules are a new feature under heavy development so changes to the API or functionality can happen at any moment.\n",
      "\u001b[36m(tune_with_parameters pid=1894685)\u001b[0m   warnings.warn('Lazy modules are a new feature under heavy development '\n",
      "Val Epoch:0: 1it [00:00,  3.57it/s]660)\u001b[0m \n",
      "Val Epoch:0: 2it [00:00,  3.93it/s]660)\u001b[0m \n",
      "Val Epoch:0: 6it [00:00, 10.92it/s]660)\u001b[0m \n",
      "Val Epoch:0: 8it [00:00,  9.12it/s]660)\u001b[0m \n",
      "Val Epoch:0: 14it [00:01, 17.95it/s]60)\u001b[0m \n",
      "Val Epoch:0: 47it [00:01, 25.83it/s]60)\u001b[0m \n",
      "\u001b[36m(tune_with_parameters pid=1894660)\u001b[0m Checkpoint successfully created at: Checkpoint(filesystem=local, path=/scratch/users/k23058970/Model training/results/Single Peak LSTM Null/tune_with_parameters_2024-08-19_13-32-44/tune_with_parameters_3497d_00000_0_dp=0.2000,hidden_size=400,lr=0.0022,num_layers=1_2024-08-19_13-33-15/checkpoint_000000)\n",
      "\u001b[36m(tune_with_parameters pid=1894685)\u001b[0m /scratch/users/k23058970/Model training/training_insilico_lstm.py:63: RuntimeWarning: invalid value encountered in divide\n",
      "\u001b[36m(tune_with_parameters pid=1894685)\u001b[0m   self.precision = self.tp/(self.tp + self.fp)\n"
     ]
    },
    {
     "name": "stdout",
     "output_type": "stream",
     "text": [
      "\u001b[36m(tune_with_parameters pid=1894660)\u001b[0m /tmp/tmpyd_rugc6/checkpoint.pt\n",
      "\u001b[36m(tune_with_parameters pid=1894660)\u001b[0m loss: 1.078\u001b[32m [repeated 30x across cluster] (Ray deduplicates logs by default. Set RAY_DEDUP_LOGS=0 to disable log deduplication, or see https://docs.ray.io/en/master/ray-observability/user-guides/configure-logging.html#log-deduplication for more options.)\u001b[0m\n",
      "\u001b[36m(tune_with_parameters pid=1894685)\u001b[0m /tmp/tmp726v8z_u/checkpoint.pt\n"
     ]
    },
    {
     "name": "stderr",
     "output_type": "stream",
     "text": [
      "Val Epoch:1: 0it [00:00, ?it/s]\u001b[32m [repeated 2x across cluster]\u001b[0m\n",
      "Val Epoch:0: 35it [00:01, 40.50it/s]\u001b[32m [repeated 10x across cluster]\u001b[0m\n",
      "Val Epoch:0: 47it [00:01, 39.81it/s]85)\u001b[0m \n",
      "\u001b[36m(tune_with_parameters pid=1894685)\u001b[0m Checkpoint successfully created at: Checkpoint(filesystem=local, path=/scratch/users/k23058970/Model training/results/Single Peak LSTM Null/tune_with_parameters_2024-08-19_13-32-44/tune_with_parameters_3497d_00001_1_dp=0.2000,hidden_size=500,lr=0.0081,num_layers=2_2024-08-19_13-33-15/checkpoint_000000)\n"
     ]
    },
    {
     "name": "stdout",
     "output_type": "stream",
     "text": [
      "\u001b[36m(tune_with_parameters pid=1894660)\u001b[0m /tmp/tmp3mt22nf4/checkpoint.pt\n",
      "\u001b[36m(tune_with_parameters pid=1894685)\u001b[0m loss: 1.104\u001b[32m [repeated 29x across cluster]\u001b[0m\n"
     ]
    },
    {
     "name": "stderr",
     "output_type": "stream",
     "text": [
      "\u001b[36m(tune_with_parameters pid=1894660)\u001b[0m Checkpoint successfully created at: Checkpoint(filesystem=local, path=/scratch/users/k23058970/Model training/results/Single Peak LSTM Null/tune_with_parameters_2024-08-19_13-32-44/tune_with_parameters_3497d_00000_0_dp=0.2000,hidden_size=400,lr=0.0022,num_layers=1_2024-08-19_13-33-15/checkpoint_000001)\n"
     ]
    },
    {
     "name": "stdout",
     "output_type": "stream",
     "text": [
      "\u001b[36m(tune_with_parameters pid=1894685)\u001b[0m /tmp/tmpqj80bo7s/checkpoint.pt\n"
     ]
    },
    {
     "name": "stderr",
     "output_type": "stream",
     "text": [
      "Val Epoch:2: 0it [00:00, ?it/s]\u001b[32m [repeated 2x across cluster]\u001b[0m\n",
      "Val Epoch:1: 47it [00:00, 53.18it/s]\u001b[32m [repeated 17x across cluster]\u001b[0m\n",
      "\u001b[36m(tune_with_parameters pid=1894685)\u001b[0m Checkpoint successfully created at: Checkpoint(filesystem=local, path=/scratch/users/k23058970/Model training/results/Single Peak LSTM Null/tune_with_parameters_2024-08-19_13-32-44/tune_with_parameters_3497d_00001_1_dp=0.2000,hidden_size=500,lr=0.0081,num_layers=2_2024-08-19_13-33-15/checkpoint_000001)\n"
     ]
    },
    {
     "name": "stdout",
     "output_type": "stream",
     "text": [
      "\u001b[36m(tune_with_parameters pid=1894660)\u001b[0m /tmp/tmpx7cwsz33/checkpoint.pt\n",
      "\u001b[36m(tune_with_parameters pid=1894685)\u001b[0m loss: 1.099\u001b[32m [repeated 30x across cluster]\u001b[0m\n",
      "\u001b[36m(tune_with_parameters pid=1894685)\u001b[0m /tmp/tmpdo9hvc0r/checkpoint.pt\n"
     ]
    },
    {
     "name": "stderr",
     "output_type": "stream",
     "text": [
      "\u001b[36m(tune_with_parameters pid=1894660)\u001b[0m Checkpoint successfully created at: Checkpoint(filesystem=local, path=/scratch/users/k23058970/Model training/results/Single Peak LSTM Null/tune_with_parameters_2024-08-19_13-32-44/tune_with_parameters_3497d_00000_0_dp=0.2000,hidden_size=400,lr=0.0022,num_layers=1_2024-08-19_13-33-15/checkpoint_000002)\n",
      "Val Epoch:3: 0it [00:00, ?it/s]\u001b[32m [repeated 2x across cluster]\u001b[0m\n",
      "Val Epoch:2: 47it [00:01, 35.38it/s]\u001b[32m [repeated 18x across cluster]\u001b[0m\n",
      "\u001b[36m(tune_with_parameters pid=1894685)\u001b[0m Checkpoint successfully created at: Checkpoint(filesystem=local, path=/scratch/users/k23058970/Model training/results/Single Peak LSTM Null/tune_with_parameters_2024-08-19_13-32-44/tune_with_parameters_3497d_00001_1_dp=0.2000,hidden_size=500,lr=0.0081,num_layers=2_2024-08-19_13-33-15/checkpoint_000002)\n"
     ]
    },
    {
     "name": "stdout",
     "output_type": "stream",
     "text": [
      "\u001b[36m(tune_with_parameters pid=1894660)\u001b[0m /tmp/tmp3ick90vl/checkpoint.pt\n",
      "\u001b[36m(tune_with_parameters pid=1894685)\u001b[0m loss: 1.098\u001b[32m [repeated 30x across cluster]\u001b[0m\n"
     ]
    },
    {
     "name": "stderr",
     "output_type": "stream",
     "text": [
      "\u001b[36m(tune_with_parameters pid=1894660)\u001b[0m Checkpoint successfully created at: Checkpoint(filesystem=local, path=/scratch/users/k23058970/Model training/results/Single Peak LSTM Null/tune_with_parameters_2024-08-19_13-32-44/tune_with_parameters_3497d_00000_0_dp=0.2000,hidden_size=400,lr=0.0022,num_layers=1_2024-08-19_13-33-15/checkpoint_000003)\n",
      "Val Epoch:4: 0it [00:00, ?it/s]\u001b[32m [repeated 2x across cluster]\u001b[0m\n",
      "Val Epoch:3: 47it [00:01, 38.98it/s]\u001b[32m [repeated 18x across cluster]\u001b[0m\n"
     ]
    },
    {
     "name": "stdout",
     "output_type": "stream",
     "text": [
      "\u001b[36m(tune_with_parameters pid=1894660)\u001b[0m /tmp/tmpypbl5eod/checkpoint.pt\n",
      "\u001b[36m(tune_with_parameters pid=1894685)\u001b[0m loss: 1.098\u001b[32m [repeated 30x across cluster]\u001b[0m\n"
     ]
    },
    {
     "name": "stderr",
     "output_type": "stream",
     "text": [
      "Val Epoch:4: 47it [00:00, 51.27it/s]60)\u001b[0m \n",
      "\u001b[36m(tune_with_parameters pid=1894660)\u001b[0m Checkpoint successfully created at: Checkpoint(filesystem=local, path=/scratch/users/k23058970/Model training/results/Single Peak LSTM Null/tune_with_parameters_2024-08-19_13-32-44/tune_with_parameters_3497d_00000_0_dp=0.2000,hidden_size=400,lr=0.0022,num_layers=1_2024-08-19_13-33-15/checkpoint_000004)\n",
      "Val Epoch:5: 0it [00:00, ?it/s]\u001b[32m [repeated 2x across cluster]\u001b[0m\n",
      "Val Epoch:4: 47it [00:01, 24.01it/s]\u001b[32m [repeated 14x across cluster]\u001b[0m\n"
     ]
    },
    {
     "name": "stdout",
     "output_type": "stream",
     "text": [
      "\u001b[36m(tune_with_parameters pid=1894660)\u001b[0m /tmp/tmpf6opcoy7/checkpoint.pt\n",
      "\u001b[36m(tune_with_parameters pid=1894685)\u001b[0m loss: 1.097\u001b[32m [repeated 30x across cluster]\u001b[0m\n",
      "\u001b[36m(tune_with_parameters pid=1894685)\u001b[0m /tmp/tmp9phbgqny/checkpoint.pt\n"
     ]
    },
    {
     "name": "stderr",
     "output_type": "stream",
     "text": [
      "\u001b[36m(tune_with_parameters pid=1894660)\u001b[0m Checkpoint successfully created at: Checkpoint(filesystem=local, path=/scratch/users/k23058970/Model training/results/Single Peak LSTM Null/tune_with_parameters_2024-08-19_13-32-44/tune_with_parameters_3497d_00000_0_dp=0.2000,hidden_size=400,lr=0.0022,num_layers=1_2024-08-19_13-33-15/checkpoint_000005)\n",
      "Val Epoch:6: 0it [00:00, ?it/s]\u001b[32m [repeated 2x across cluster]\u001b[0m\n",
      "Val Epoch:5: 47it [00:00, 48.80it/s]\u001b[32m [repeated 17x across cluster]\u001b[0m\n",
      "\u001b[36m(tune_with_parameters pid=1894685)\u001b[0m Checkpoint successfully created at: Checkpoint(filesystem=local, path=/scratch/users/k23058970/Model training/results/Single Peak LSTM Null/tune_with_parameters_2024-08-19_13-32-44/tune_with_parameters_3497d_00001_1_dp=0.2000,hidden_size=500,lr=0.0081,num_layers=2_2024-08-19_13-33-15/checkpoint_000003)\n",
      "Val Epoch:6: 47it [00:01, 36.84it/s]60)\u001b[0m \n"
     ]
    },
    {
     "name": "stdout",
     "output_type": "stream",
     "text": [
      "\u001b[36m(tune_with_parameters pid=1894660)\u001b[0m loss: 0.515\u001b[32m [repeated 31x across cluster]\u001b[0m\n",
      "\u001b[36m(tune_with_parameters pid=1894685)\u001b[0m /tmp/tmpyqvkkhsj/checkpoint.pt\n"
     ]
    },
    {
     "name": "stderr",
     "output_type": "stream",
     "text": [
      "\u001b[36m(tune_with_parameters pid=1894685)\u001b[0m Checkpoint successfully created at: Checkpoint(filesystem=local, path=/scratch/users/k23058970/Model training/results/Single Peak LSTM Null/tune_with_parameters_2024-08-19_13-32-44/tune_with_parameters_3497d_00001_1_dp=0.2000,hidden_size=500,lr=0.0081,num_layers=2_2024-08-19_13-33-15/checkpoint_000004)\n",
      "Val Epoch:7: 0it [00:00, ?it/s]\u001b[32m [repeated 2x across cluster]\u001b[0m\n",
      "Val Epoch:6: 38it [00:02, 34.32it/s]\u001b[32m [repeated 14x across cluster]\u001b[0m\n",
      "Val Epoch:6: 47it [00:02, 21.56it/s]85)\u001b[0m \n"
     ]
    },
    {
     "name": "stdout",
     "output_type": "stream",
     "text": [
      "\u001b[36m(tune_with_parameters pid=1894660)\u001b[0m /tmp/tmp2f0wgs1h/checkpoint.pt\n",
      "\u001b[36m(tune_with_parameters pid=1894685)\u001b[0m loss: 1.096\u001b[32m [repeated 29x across cluster]\u001b[0m\n"
     ]
    },
    {
     "name": "stderr",
     "output_type": "stream",
     "text": [
      "Val Epoch:7: 47it [00:02, 23.34it/s]60)\u001b[0m \n",
      "\u001b[36m(tune_with_parameters pid=1894660)\u001b[0m Checkpoint successfully created at: Checkpoint(filesystem=local, path=/scratch/users/k23058970/Model training/results/Single Peak LSTM Null/tune_with_parameters_2024-08-19_13-32-44/tune_with_parameters_3497d_00000_0_dp=0.2000,hidden_size=400,lr=0.0022,num_layers=1_2024-08-19_13-33-15/checkpoint_000006)\n"
     ]
    },
    {
     "name": "stdout",
     "output_type": "stream",
     "text": [
      "\u001b[36m(tune_with_parameters pid=1894685)\u001b[0m /tmp/tmp3o9k0qve/checkpoint.pt\n"
     ]
    },
    {
     "name": "stderr",
     "output_type": "stream",
     "text": [
      "Val Epoch:8: 0it [00:00, ?it/s]\u001b[32m [repeated 2x across cluster]\u001b[0m\n",
      "Val Epoch:7: 47it [00:01, 32.90it/s]\u001b[32m [repeated 15x across cluster]\u001b[0m\n",
      "\u001b[36m(tune_with_parameters pid=1894685)\u001b[0m Checkpoint successfully created at: Checkpoint(filesystem=local, path=/scratch/users/k23058970/Model training/results/Single Peak LSTM Null/tune_with_parameters_2024-08-19_13-32-44/tune_with_parameters_3497d_00001_1_dp=0.2000,hidden_size=500,lr=0.0081,num_layers=2_2024-08-19_13-33-15/checkpoint_000005)\n"
     ]
    },
    {
     "name": "stdout",
     "output_type": "stream",
     "text": [
      "\u001b[36m(tune_with_parameters pid=1894685)\u001b[0m loss: 1.095\u001b[32m [repeated 29x across cluster]\u001b[0m\n",
      "\u001b[36m(tune_with_parameters pid=1894660)\u001b[0m /tmp/tmp1hq5n8pz/checkpoint.pt\n"
     ]
    },
    {
     "name": "stderr",
     "output_type": "stream",
     "text": [
      "\u001b[36m(tune_with_parameters pid=1894660)\u001b[0m Checkpoint successfully created at: Checkpoint(filesystem=local, path=/scratch/users/k23058970/Model training/results/Single Peak LSTM Null/tune_with_parameters_2024-08-19_13-32-44/tune_with_parameters_3497d_00000_0_dp=0.2000,hidden_size=400,lr=0.0022,num_layers=1_2024-08-19_13-33-15/checkpoint_000007)\n",
      "Val Epoch:9: 0it [00:00, ?it/s]\u001b[32m [repeated 2x across cluster]\u001b[0m\n",
      "Val Epoch:8: 47it [00:01, 29.13it/s]\u001b[32m [repeated 17x across cluster]\u001b[0m\n"
     ]
    },
    {
     "name": "stdout",
     "output_type": "stream",
     "text": [
      "\u001b[36m(tune_with_parameters pid=1894660)\u001b[0m /tmp/tmpz9qjq2ih/checkpoint.pt\n",
      "\u001b[36m(tune_with_parameters pid=1894660)\u001b[0m loss: 0.385\u001b[32m [repeated 16x across cluster]\u001b[0m\n"
     ]
    },
    {
     "name": "stderr",
     "output_type": "stream",
     "text": [
      "\u001b[36m(tune_with_parameters pid=1894660)\u001b[0m Checkpoint successfully created at: Checkpoint(filesystem=local, path=/scratch/users/k23058970/Model training/results/Single Peak LSTM Null/tune_with_parameters_2024-08-19_13-32-44/tune_with_parameters_3497d_00000_0_dp=0.2000,hidden_size=400,lr=0.0022,num_layers=1_2024-08-19_13-33-15/checkpoint_000008)\n",
      "Val Epoch:10: 0it [00:00, ?it/s]894660)\u001b[0m \n",
      "Val Epoch:10: 25it [00:00, 47.80it/s]\u001b[32m [repeated 11x across cluster]\u001b[0m\n"
     ]
    },
    {
     "name": "stdout",
     "output_type": "stream",
     "text": [
      "\u001b[36m(tune_with_parameters pid=1894660)\u001b[0m /tmp/tmpcxe21vfz/checkpoint.pt\n"
     ]
    },
    {
     "name": "stderr",
     "output_type": "stream",
     "text": [
      "\u001b[36m(tune_with_parameters pid=1894660)\u001b[0m Checkpoint successfully created at: Checkpoint(filesystem=local, path=/scratch/users/k23058970/Model training/results/Single Peak LSTM Null/tune_with_parameters_2024-08-19_13-32-44/tune_with_parameters_3497d_00000_0_dp=0.2000,hidden_size=400,lr=0.0022,num_layers=1_2024-08-19_13-33-15/checkpoint_000009)\n"
     ]
    },
    {
     "name": "stdout",
     "output_type": "stream",
     "text": [
      "\u001b[36m(tune_with_parameters pid=1894660)\u001b[0m loss: 0.413\u001b[32m [repeated 16x across cluster]\u001b[0m\n"
     ]
    },
    {
     "name": "stderr",
     "output_type": "stream",
     "text": [
      "Val Epoch:11: 0it [00:00, ?it/s]894660)\u001b[0m \n",
      "Val Epoch:11: 22it [00:00, 49.67it/s]\u001b[32m [repeated 7x across cluster]\u001b[0m\n"
     ]
    },
    {
     "name": "stdout",
     "output_type": "stream",
     "text": [
      "\u001b[36m(tune_with_parameters pid=1894660)\u001b[0m /tmp/tmp8gfexk6s/checkpoint.pt\n"
     ]
    },
    {
     "name": "stderr",
     "output_type": "stream",
     "text": [
      "\u001b[36m(tune_with_parameters pid=1894660)\u001b[0m Checkpoint successfully created at: Checkpoint(filesystem=local, path=/scratch/users/k23058970/Model training/results/Single Peak LSTM Null/tune_with_parameters_2024-08-19_13-32-44/tune_with_parameters_3497d_00000_0_dp=0.2000,hidden_size=400,lr=0.0022,num_layers=1_2024-08-19_13-33-15/checkpoint_000010)\n"
     ]
    },
    {
     "name": "stdout",
     "output_type": "stream",
     "text": [
      "\u001b[36m(tune_with_parameters pid=1894660)\u001b[0m loss: 0.246\u001b[32m [repeated 15x across cluster]\u001b[0m\n"
     ]
    },
    {
     "name": "stderr",
     "output_type": "stream",
     "text": [
      "\u001b[36m(tune_with_parameters pid=1913127)\u001b[0m /users/k23058970/miniforge3/envs/Training/lib/python3.10/site-packages/torch/nn/modules/lazy.py:181: UserWarning: Lazy modules are a new feature under heavy development so changes to the API or functionality can happen at any moment.\n",
      "\u001b[36m(tune_with_parameters pid=1913127)\u001b[0m   warnings.warn('Lazy modules are a new feature under heavy development '\n",
      "Val Epoch:12: 0it [00:00, ?it/s]894660)\u001b[0m \n",
      "Val Epoch:12: 34it [00:00, 47.19it/s]\u001b[32m [repeated 9x across cluster]\u001b[0m\n"
     ]
    },
    {
     "name": "stdout",
     "output_type": "stream",
     "text": [
      "\u001b[36m(tune_with_parameters pid=1894660)\u001b[0m /tmp/tmpa9h25pmr/checkpoint.pt\n"
     ]
    },
    {
     "name": "stderr",
     "output_type": "stream",
     "text": [
      "\u001b[36m(tune_with_parameters pid=1894660)\u001b[0m Checkpoint successfully created at: Checkpoint(filesystem=local, path=/scratch/users/k23058970/Model training/results/Single Peak LSTM Null/tune_with_parameters_2024-08-19_13-32-44/tune_with_parameters_3497d_00000_0_dp=0.2000,hidden_size=400,lr=0.0022,num_layers=1_2024-08-19_13-33-15/checkpoint_000011)\n"
     ]
    },
    {
     "name": "stdout",
     "output_type": "stream",
     "text": [
      "\u001b[36m(tune_with_parameters pid=1894660)\u001b[0m loss: 0.336\u001b[32m [repeated 24x across cluster]\u001b[0m\n"
     ]
    },
    {
     "name": "stderr",
     "output_type": "stream",
     "text": [
      "Val Epoch:0: 0it [00:00, ?it/s]1913127)\u001b[0m \n",
      "Val Epoch:13: 15it [00:00, 36.17it/s]\u001b[32m [repeated 16x across cluster]\u001b[0m\n",
      "\u001b[36m(tune_with_parameters pid=1913127)\u001b[0m Checkpoint successfully created at: Checkpoint(filesystem=local, path=/scratch/users/k23058970/Model training/results/Single Peak LSTM Null/tune_with_parameters_2024-08-19_13-32-44/tune_with_parameters_3497d_00002_2_dp=0.2500,hidden_size=500,lr=0.0486,num_layers=1_2024-08-19_13-33-15/checkpoint_000000)\n"
     ]
    },
    {
     "name": "stdout",
     "output_type": "stream",
     "text": [
      "\u001b[36m(tune_with_parameters pid=1913127)\u001b[0m /tmp/tmpcjkwg6_o/checkpoint.pt\n",
      "\u001b[36m(tune_with_parameters pid=1894660)\u001b[0m loss: 0.196\u001b[32m [repeated 25x across cluster]\u001b[0m\n"
     ]
    },
    {
     "name": "stderr",
     "output_type": "stream",
     "text": [
      "Val Epoch:1: 0it [00:00, ?it/s]\u001b[32m [repeated 2x across cluster]\u001b[0m\n",
      "Val Epoch:1: 24it [00:00, 39.06it/s]\u001b[32m [repeated 11x across cluster]\u001b[0m\n",
      "Val Epoch:1: 47it [00:01, 26.59it/s]27)\u001b[0m \n",
      "\u001b[36m(tune_with_parameters pid=1913127)\u001b[0m Checkpoint successfully created at: Checkpoint(filesystem=local, path=/scratch/users/k23058970/Model training/results/Single Peak LSTM Null/tune_with_parameters_2024-08-19_13-32-44/tune_with_parameters_3497d_00002_2_dp=0.2500,hidden_size=500,lr=0.0486,num_layers=1_2024-08-19_13-33-15/checkpoint_000001)\n"
     ]
    },
    {
     "name": "stdout",
     "output_type": "stream",
     "text": [
      "\u001b[36m(tune_with_parameters pid=1913127)\u001b[0m /tmp/tmpj9gb6y9z/checkpoint.pt\n",
      "\u001b[36m(tune_with_parameters pid=1913127)\u001b[0m loss: 0.329\u001b[32m [repeated 27x across cluster]\u001b[0m\n"
     ]
    },
    {
     "name": "stderr",
     "output_type": "stream",
     "text": [
      "Val Epoch:2: 0it [00:00, ?it/s]\u001b[32m [repeated 2x across cluster]\u001b[0m\n",
      "Val Epoch:14: 47it [00:01, 28.80it/s]\u001b[32m [repeated 11x across cluster]\u001b[0m\n",
      "Val Epoch:2: 47it [00:01, 33.87it/s]27)\u001b[0m \n",
      "\u001b[36m(tune_with_parameters pid=1913127)\u001b[0m Checkpoint successfully created at: Checkpoint(filesystem=local, path=/scratch/users/k23058970/Model training/results/Single Peak LSTM Null/tune_with_parameters_2024-08-19_13-32-44/tune_with_parameters_3497d_00002_2_dp=0.2500,hidden_size=500,lr=0.0486,num_layers=1_2024-08-19_13-33-15/checkpoint_000002)\n"
     ]
    },
    {
     "name": "stdout",
     "output_type": "stream",
     "text": [
      "\u001b[36m(tune_with_parameters pid=1913127)\u001b[0m /tmp/tmpg2bbekaa/checkpoint.pt\n",
      "\u001b[36m(tune_with_parameters pid=1913127)\u001b[0m loss: 0.214\u001b[32m [repeated 29x across cluster]\u001b[0m\n"
     ]
    },
    {
     "name": "stderr",
     "output_type": "stream",
     "text": [
      "Val Epoch:3: 0it [00:00, ?it/s]\u001b[32m [repeated 2x across cluster]\u001b[0m\n",
      "Val Epoch:15: 47it [00:01, 28.46it/s]\u001b[32m [repeated 16x across cluster]\u001b[0m\n"
     ]
    },
    {
     "name": "stdout",
     "output_type": "stream",
     "text": [
      "\u001b[36m(tune_with_parameters pid=1913127)\u001b[0m /tmp/tmpoer9k6m5/checkpoint.pt\n",
      "\u001b[36m(tune_with_parameters pid=1894660)\u001b[0m loss: 0.297\u001b[32m [repeated 29x across cluster]\u001b[0m\n"
     ]
    },
    {
     "name": "stderr",
     "output_type": "stream",
     "text": [
      "\u001b[36m(tune_with_parameters pid=1913127)\u001b[0m Checkpoint successfully created at: Checkpoint(filesystem=local, path=/scratch/users/k23058970/Model training/results/Single Peak LSTM Null/tune_with_parameters_2024-08-19_13-32-44/tune_with_parameters_3497d_00002_2_dp=0.2500,hidden_size=500,lr=0.0486,num_layers=1_2024-08-19_13-33-15/checkpoint_000003)\n",
      "Val Epoch:16: 47it [00:01, 30.28it/s]0)\u001b[0m \n",
      "Val Epoch:4: 0it [00:00, ?it/s]\u001b[32m [repeated 2x across cluster]\u001b[0m\n",
      "Val Epoch:16: 39it [00:01, 37.62it/s]\u001b[32m [repeated 15x across cluster]\u001b[0m\n"
     ]
    },
    {
     "name": "stdout",
     "output_type": "stream",
     "text": [
      "\u001b[36m(tune_with_parameters pid=1894660)\u001b[0m loss: 0.286\u001b[32m [repeated 30x across cluster]\u001b[0m\n",
      "\u001b[36m(tune_with_parameters pid=1894660)\u001b[0m /tmp/tmphemxbnw6/checkpoint.pt\n"
     ]
    },
    {
     "name": "stderr",
     "output_type": "stream",
     "text": [
      "\u001b[36m(tune_with_parameters pid=1894660)\u001b[0m Checkpoint successfully created at: Checkpoint(filesystem=local, path=/scratch/users/k23058970/Model training/results/Single Peak LSTM Null/tune_with_parameters_2024-08-19_13-32-44/tune_with_parameters_3497d_00000_0_dp=0.2000,hidden_size=400,lr=0.0022,num_layers=1_2024-08-19_13-33-15/checkpoint_000012)\n",
      "Val Epoch:5: 0it [00:00, ?it/s]\u001b[32m [repeated 2x across cluster]\u001b[0m\n",
      "Val Epoch:17: 47it [00:01, 25.01it/s]\u001b[32m [repeated 18x across cluster]\u001b[0m\n"
     ]
    },
    {
     "name": "stdout",
     "output_type": "stream",
     "text": [
      "\u001b[36m(tune_with_parameters pid=1894660)\u001b[0m loss: 0.277\u001b[32m [repeated 25x across cluster]\u001b[0m\n"
     ]
    },
    {
     "name": "stderr",
     "output_type": "stream",
     "text": [
      "Val Epoch:5: 47it [00:01, 35.68it/s]27)\u001b[0m \n"
     ]
    },
    {
     "name": "stdout",
     "output_type": "stream",
     "text": [
      "\u001b[36m(tune_with_parameters pid=1894660)\u001b[0m loss: 0.290\u001b[32m [repeated 22x across cluster]\u001b[0m\n"
     ]
    },
    {
     "name": "stderr",
     "output_type": "stream",
     "text": [
      "Val Epoch:6: 0it [00:00, ?it/s]\u001b[32m [repeated 2x across cluster]\u001b[0m\n",
      "Val Epoch:18: 47it [00:01, 23.96it/s]\u001b[32m [repeated 16x across cluster]\u001b[0m\n"
     ]
    },
    {
     "name": "stdout",
     "output_type": "stream",
     "text": [
      "\u001b[36m(tune_with_parameters pid=1913127)\u001b[0m loss: 0.287\u001b[32m [repeated 19x across cluster]\u001b[0m\n"
     ]
    },
    {
     "name": "stderr",
     "output_type": "stream",
     "text": [
      "Val Epoch:7: 0it [00:00, ?it/s]\u001b[32m [repeated 2x across cluster]\u001b[0m\n",
      "Val Epoch:19: 47it [00:01, 25.16it/s]\u001b[32m [repeated 17x across cluster]\u001b[0m\n"
     ]
    },
    {
     "name": "stdout",
     "output_type": "stream",
     "text": [
      "\u001b[36m(tune_with_parameters pid=1913127)\u001b[0m loss: 0.280\u001b[32m [repeated 27x across cluster]\u001b[0m\n"
     ]
    },
    {
     "name": "stderr",
     "output_type": "stream",
     "text": [
      "Val Epoch:8: 0it [00:00, ?it/s]\u001b[32m [repeated 2x across cluster]\u001b[0m\n",
      "Val Epoch:20: 47it [00:01, 26.90it/s]\u001b[32m [repeated 17x across cluster]\u001b[0m\n"
     ]
    },
    {
     "name": "stdout",
     "output_type": "stream",
     "text": [
      "\u001b[36m(tune_with_parameters pid=1913127)\u001b[0m loss: 0.162\u001b[32m [repeated 28x across cluster]\u001b[0m\n",
      "\u001b[36m(tune_with_parameters pid=1894660)\u001b[0m /tmp/tmp1vnnmgrw/checkpoint.pt\n"
     ]
    },
    {
     "name": "stderr",
     "output_type": "stream",
     "text": [
      "\u001b[36m(tune_with_parameters pid=1894660)\u001b[0m Checkpoint successfully created at: Checkpoint(filesystem=local, path=/scratch/users/k23058970/Model training/results/Single Peak LSTM Null/tune_with_parameters_2024-08-19_13-32-44/tune_with_parameters_3497d_00000_0_dp=0.2000,hidden_size=400,lr=0.0022,num_layers=1_2024-08-19_13-33-15/checkpoint_000013)\n",
      "Val Epoch:9: 0it [00:00, ?it/s]\u001b[32m [repeated 2x across cluster]\u001b[0m\n",
      "Val Epoch:21: 47it [00:01, 37.50it/s]\u001b[32m [repeated 16x across cluster]\u001b[0m\n"
     ]
    },
    {
     "name": "stdout",
     "output_type": "stream",
     "text": [
      "\u001b[36m(tune_with_parameters pid=1894660)\u001b[0m loss: 0.261\u001b[32m [repeated 26x across cluster]\u001b[0m\n",
      "\u001b[36m(tune_with_parameters pid=1913127)\u001b[0m /tmp/tmpsdy2lwwu/checkpoint.pt\n"
     ]
    },
    {
     "name": "stderr",
     "output_type": "stream",
     "text": [
      "Val Epoch:9: 47it [00:01, 37.51it/s]27)\u001b[0m \n",
      "\u001b[36m(tune_with_parameters pid=1913127)\u001b[0m Checkpoint successfully created at: Checkpoint(filesystem=local, path=/scratch/users/k23058970/Model training/results/Single Peak LSTM Null/tune_with_parameters_2024-08-19_13-32-44/tune_with_parameters_3497d_00002_2_dp=0.2500,hidden_size=500,lr=0.0486,num_layers=1_2024-08-19_13-33-15/checkpoint_000004)\n"
     ]
    },
    {
     "name": "stdout",
     "output_type": "stream",
     "text": [
      "\u001b[36m(tune_with_parameters pid=1894660)\u001b[0m /tmp/tmpvbin0t00/checkpoint.pt\n"
     ]
    },
    {
     "name": "stderr",
     "output_type": "stream",
     "text": [
      "\u001b[36m(tune_with_parameters pid=1894660)\u001b[0m Checkpoint successfully created at: Checkpoint(filesystem=local, path=/scratch/users/k23058970/Model training/results/Single Peak LSTM Null/tune_with_parameters_2024-08-19_13-32-44/tune_with_parameters_3497d_00000_0_dp=0.2000,hidden_size=400,lr=0.0022,num_layers=1_2024-08-19_13-33-15/checkpoint_000014)\n",
      "Val Epoch:10: 0it [00:00, ?it/s]\u001b[32m [repeated 2x across cluster]\u001b[0m\n",
      "Val Epoch:22: 47it [00:01, 45.82it/s]\u001b[32m [repeated 16x across cluster]\u001b[0m\n"
     ]
    },
    {
     "name": "stdout",
     "output_type": "stream",
     "text": [
      "\u001b[36m(tune_with_parameters pid=1894660)\u001b[0m loss: 0.265\u001b[32m [repeated 25x across cluster]\u001b[0m\n",
      "\u001b[36m(tune_with_parameters pid=1913127)\u001b[0m /tmp/tmp0uilf3u9/checkpoint.pt\n"
     ]
    },
    {
     "name": "stderr",
     "output_type": "stream",
     "text": [
      "\u001b[36m(tune_with_parameters pid=1913127)\u001b[0m Checkpoint successfully created at: Checkpoint(filesystem=local, path=/scratch/users/k23058970/Model training/results/Single Peak LSTM Null/tune_with_parameters_2024-08-19_13-32-44/tune_with_parameters_3497d_00002_2_dp=0.2500,hidden_size=500,lr=0.0486,num_layers=1_2024-08-19_13-33-15/checkpoint_000005)\n"
     ]
    },
    {
     "name": "stdout",
     "output_type": "stream",
     "text": [
      "\u001b[36m(tune_with_parameters pid=1894660)\u001b[0m loss: 0.273\u001b[32m [repeated 21x across cluster]\u001b[0m\n"
     ]
    },
    {
     "name": "stderr",
     "output_type": "stream",
     "text": [
      "Val Epoch:11: 0it [00:00, ?it/s]\u001b[32m [repeated 2x across cluster]\u001b[0m\n",
      "Val Epoch:23: 47it [00:01, 42.56it/s]\u001b[32m [repeated 17x across cluster]\u001b[0m\n"
     ]
    },
    {
     "name": "stdout",
     "output_type": "stream",
     "text": [
      "\u001b[36m(tune_with_parameters pid=1913127)\u001b[0m /tmp/tmp61xc8k_d/checkpoint.pt\n"
     ]
    },
    {
     "name": "stderr",
     "output_type": "stream",
     "text": [
      "\u001b[36m(tune_with_parameters pid=1913127)\u001b[0m Checkpoint successfully created at: Checkpoint(filesystem=local, path=/scratch/users/k23058970/Model training/results/Single Peak LSTM Null/tune_with_parameters_2024-08-19_13-32-44/tune_with_parameters_3497d_00002_2_dp=0.2500,hidden_size=500,lr=0.0486,num_layers=1_2024-08-19_13-33-15/checkpoint_000006)\n"
     ]
    },
    {
     "name": "stdout",
     "output_type": "stream",
     "text": [
      "\u001b[36m(tune_with_parameters pid=1894660)\u001b[0m /tmp/tmpwae8wgf4/checkpoint.pt\n",
      "\u001b[36m(tune_with_parameters pid=1913127)\u001b[0m loss: 0.285\u001b[32m [repeated 22x across cluster]\u001b[0m\n"
     ]
    },
    {
     "name": "stderr",
     "output_type": "stream",
     "text": [
      "Val Epoch:24: 47it [00:01, 42.26it/s]0)\u001b[0m \n",
      "Val Epoch:12: 0it [00:00, ?it/s]\u001b[32m [repeated 2x across cluster]\u001b[0m\n",
      "Val Epoch:24: 38it [00:00, 48.67it/s]\u001b[32m [repeated 16x across cluster]\u001b[0m\n",
      "\u001b[36m(tune_with_parameters pid=1894660)\u001b[0m Checkpoint successfully created at: Checkpoint(filesystem=local, path=/scratch/users/k23058970/Model training/results/Single Peak LSTM Null/tune_with_parameters_2024-08-19_13-32-44/tune_with_parameters_3497d_00000_0_dp=0.2000,hidden_size=400,lr=0.0022,num_layers=1_2024-08-19_13-33-15/checkpoint_000015)\n",
      "Val Epoch:12: 47it [00:01, 43.27it/s]\u001b[32m [repeated 2x across cluster]\u001b[0m\n"
     ]
    },
    {
     "name": "stdout",
     "output_type": "stream",
     "text": [
      "\u001b[36m(tune_with_parameters pid=1913127)\u001b[0m loss: 0.279\u001b[32m [repeated 27x across cluster]\u001b[0m\n",
      "\u001b[36m(tune_with_parameters pid=1894660)\u001b[0m /tmp/tmp88jr6q2j/checkpoint.pt\n"
     ]
    },
    {
     "name": "stderr",
     "output_type": "stream",
     "text": [
      "\u001b[36m(tune_with_parameters pid=1894660)\u001b[0m Checkpoint successfully created at: Checkpoint(filesystem=local, path=/scratch/users/k23058970/Model training/results/Single Peak LSTM Null/tune_with_parameters_2024-08-19_13-32-44/tune_with_parameters_3497d_00000_0_dp=0.2000,hidden_size=400,lr=0.0022,num_layers=1_2024-08-19_13-33-15/checkpoint_000016)\n",
      "Val Epoch:13: 0it [00:00, ?it/s]\u001b[32m [repeated 2x across cluster]\u001b[0m\n",
      "Val Epoch:25: 47it [00:01, 36.58it/s]\u001b[32m [repeated 13x across cluster]\u001b[0m\n"
     ]
    },
    {
     "name": "stdout",
     "output_type": "stream",
     "text": [
      "\u001b[36m(tune_with_parameters pid=1894660)\u001b[0m loss: 0.263\u001b[32m [repeated 28x across cluster]\u001b[0m\n"
     ]
    },
    {
     "name": "stderr",
     "output_type": "stream",
     "text": [
      "Val Epoch:26: 47it [00:00, 52.38it/s]0)\u001b[0m \n",
      "Val Epoch:14: 0it [00:00, ?it/s]\u001b[32m [repeated 2x across cluster]\u001b[0m\n",
      "Val Epoch:26: 36it [00:00, 52.84it/s]\u001b[32m [repeated 14x across cluster]\u001b[0m\n"
     ]
    },
    {
     "name": "stdout",
     "output_type": "stream",
     "text": [
      "\u001b[36m(tune_with_parameters pid=1894660)\u001b[0m loss: 0.260\u001b[32m [repeated 27x across cluster]\u001b[0m\n",
      "\u001b[36m(tune_with_parameters pid=1894660)\u001b[0m /tmp/tmphjm0sjno/checkpoint.pt\n"
     ]
    },
    {
     "name": "stderr",
     "output_type": "stream",
     "text": [
      "\u001b[36m(tune_with_parameters pid=1894660)\u001b[0m Checkpoint successfully created at: Checkpoint(filesystem=local, path=/scratch/users/k23058970/Model training/results/Single Peak LSTM Null/tune_with_parameters_2024-08-19_13-32-44/tune_with_parameters_3497d_00000_0_dp=0.2000,hidden_size=400,lr=0.0022,num_layers=1_2024-08-19_13-33-15/checkpoint_000017)\n",
      "Val Epoch:15: 0it [00:00, ?it/s]\u001b[32m [repeated 2x across cluster]\u001b[0m\n",
      "Val Epoch:27: 47it [00:01, 39.30it/s]\u001b[32m [repeated 17x across cluster]\u001b[0m\n"
     ]
    },
    {
     "name": "stdout",
     "output_type": "stream",
     "text": [
      "\u001b[36m(tune_with_parameters pid=1894660)\u001b[0m loss: 0.248\u001b[32m [repeated 27x across cluster]\u001b[0m\n"
     ]
    },
    {
     "name": "stderr",
     "output_type": "stream",
     "text": [
      "Val Epoch:28: 47it [00:01, 40.51it/s]0)\u001b[0m \n"
     ]
    },
    {
     "name": "stdout",
     "output_type": "stream",
     "text": [
      "\u001b[36m(tune_with_parameters pid=1913127)\u001b[0m loss: 0.269\u001b[32m [repeated 26x across cluster]\u001b[0m\n"
     ]
    },
    {
     "name": "stderr",
     "output_type": "stream",
     "text": [
      "Val Epoch:16: 0it [00:00, ?it/s]\u001b[32m [repeated 2x across cluster]\u001b[0m\n",
      "Val Epoch:28: 40it [00:00, 38.49it/s]\u001b[32m [repeated 15x across cluster]\u001b[0m\n"
     ]
    },
    {
     "name": "stdout",
     "output_type": "stream",
     "text": [
      "\u001b[36m(tune_with_parameters pid=1894660)\u001b[0m /tmp/tmp0x3xrdpq/checkpoint.pt\n"
     ]
    },
    {
     "name": "stderr",
     "output_type": "stream",
     "text": [
      "\u001b[36m(tune_with_parameters pid=1894660)\u001b[0m Checkpoint successfully created at: Checkpoint(filesystem=local, path=/scratch/users/k23058970/Model training/results/Single Peak LSTM Null/tune_with_parameters_2024-08-19_13-32-44/tune_with_parameters_3497d_00000_0_dp=0.2000,hidden_size=400,lr=0.0022,num_layers=1_2024-08-19_13-33-15/checkpoint_000018)\n"
     ]
    },
    {
     "name": "stdout",
     "output_type": "stream",
     "text": [
      "\u001b[36m(tune_with_parameters pid=1913127)\u001b[0m loss: 0.282\u001b[32m [repeated 19x across cluster]\u001b[0m\n"
     ]
    },
    {
     "name": "stderr",
     "output_type": "stream",
     "text": [
      "Val Epoch:17: 0it [00:00, ?it/s]\u001b[32m [repeated 2x across cluster]\u001b[0m\n",
      "Val Epoch:29: 47it [00:01, 38.35it/s]\u001b[32m [repeated 18x across cluster]\u001b[0m\n"
     ]
    },
    {
     "name": "stdout",
     "output_type": "stream",
     "text": [
      "\u001b[36m(tune_with_parameters pid=1913127)\u001b[0m loss: 0.271\u001b[32m [repeated 26x across cluster]\u001b[0m\n",
      "\u001b[36m(tune_with_parameters pid=1894660)\u001b[0m /tmp/tmp43jrkc_g/checkpoint.pt\n"
     ]
    },
    {
     "name": "stderr",
     "output_type": "stream",
     "text": [
      "Val Epoch:30: 47it [00:01, 38.65it/s]0)\u001b[0m \n",
      "\u001b[36m(tune_with_parameters pid=1894660)\u001b[0m Checkpoint successfully created at: Checkpoint(filesystem=local, path=/scratch/users/k23058970/Model training/results/Single Peak LSTM Null/tune_with_parameters_2024-08-19_13-32-44/tune_with_parameters_3497d_00000_0_dp=0.2000,hidden_size=400,lr=0.0022,num_layers=1_2024-08-19_13-33-15/checkpoint_000019)\n",
      "Val Epoch:18: 0it [00:00, ?it/s]\u001b[32m [repeated 2x across cluster]\u001b[0m\n",
      "Val Epoch:30: 39it [00:01, 46.66it/s]\u001b[32m [repeated 16x across cluster]\u001b[0m\n"
     ]
    },
    {
     "name": "stdout",
     "output_type": "stream",
     "text": [
      "\u001b[36m(tune_with_parameters pid=1913127)\u001b[0m loss: 0.292\u001b[32m [repeated 28x across cluster]\u001b[0m\n"
     ]
    },
    {
     "name": "stderr",
     "output_type": "stream",
     "text": [
      "Val Epoch:31: 47it [00:00, 47.25it/s]0)\u001b[0m \n",
      "Val Epoch:19: 0it [00:00, ?it/s]\u001b[32m [repeated 2x across cluster]\u001b[0m\n",
      "Val Epoch:31: 38it [00:00, 54.51it/s]\u001b[32m [repeated 16x across cluster]\u001b[0m\n"
     ]
    },
    {
     "name": "stdout",
     "output_type": "stream",
     "text": [
      "\u001b[36m(tune_with_parameters pid=1913127)\u001b[0m /tmp/tmplf6we0wr/checkpoint.pt\n"
     ]
    },
    {
     "name": "stderr",
     "output_type": "stream",
     "text": [
      "\u001b[36m(tune_with_parameters pid=1913127)\u001b[0m Checkpoint successfully created at: Checkpoint(filesystem=local, path=/scratch/users/k23058970/Model training/results/Single Peak LSTM Null/tune_with_parameters_2024-08-19_13-32-44/tune_with_parameters_3497d_00002_2_dp=0.2500,hidden_size=500,lr=0.0486,num_layers=1_2024-08-19_13-33-15/checkpoint_000007)\n"
     ]
    },
    {
     "name": "stdout",
     "output_type": "stream",
     "text": [
      "\u001b[36m(tune_with_parameters pid=1913127)\u001b[0m loss: 0.261\u001b[32m [repeated 28x across cluster]\u001b[0m\n"
     ]
    },
    {
     "name": "stderr",
     "output_type": "stream",
     "text": [
      "Val Epoch:32: 47it [00:01, 29.39it/s]0)\u001b[0m \n",
      "Val Epoch:20: 0it [00:00, ?it/s]\u001b[32m [repeated 2x across cluster]\u001b[0m\n",
      "Val Epoch:32: 39it [00:01, 44.85it/s]\u001b[32m [repeated 16x across cluster]\u001b[0m\n"
     ]
    },
    {
     "name": "stdout",
     "output_type": "stream",
     "text": [
      "\u001b[36m(tune_with_parameters pid=1894660)\u001b[0m loss: 0.240\u001b[32m [repeated 27x across cluster]\u001b[0m\n"
     ]
    },
    {
     "name": "stderr",
     "output_type": "stream",
     "text": [
      "Val Epoch:21: 0it [00:00, ?it/s]\u001b[32m [repeated 2x across cluster]\u001b[0m\n",
      "Val Epoch:33: 47it [00:01, 38.81it/s]\u001b[32m [repeated 17x across cluster]\u001b[0m\n"
     ]
    },
    {
     "name": "stdout",
     "output_type": "stream",
     "text": [
      "\u001b[36m(tune_with_parameters pid=1894660)\u001b[0m loss: 0.241\u001b[32m [repeated 28x across cluster]\u001b[0m\n",
      "\u001b[36m(tune_with_parameters pid=1913127)\u001b[0m loss: 0.272\u001b[32m [repeated 22x across cluster]\u001b[0m\n"
     ]
    },
    {
     "name": "stderr",
     "output_type": "stream",
     "text": [
      "Val Epoch:22: 0it [00:00, ?it/s]\u001b[32m [repeated 2x across cluster]\u001b[0m\n",
      "Val Epoch:34: 47it [00:02, 23.43it/s]\u001b[32m [repeated 21x across cluster]\u001b[0m\n"
     ]
    },
    {
     "name": "stdout",
     "output_type": "stream",
     "text": [
      "\u001b[36m(tune_with_parameters pid=1894660)\u001b[0m loss: 0.188\u001b[32m [repeated 21x across cluster]\u001b[0m\n"
     ]
    },
    {
     "name": "stderr",
     "output_type": "stream",
     "text": [
      "Val Epoch:23: 0it [00:00, ?it/s]\u001b[32m [repeated 2x across cluster]\u001b[0m\n",
      "Val Epoch:35: 47it [00:01, 30.21it/s]\u001b[32m [repeated 17x across cluster]\u001b[0m\n",
      "Val Epoch:23: 47it [00:01, 45.51it/s]7)\u001b[0m \n"
     ]
    },
    {
     "name": "stdout",
     "output_type": "stream",
     "text": [
      "\u001b[36m(tune_with_parameters pid=1913127)\u001b[0m loss: 0.258\u001b[32m [repeated 27x across cluster]\u001b[0m\n"
     ]
    },
    {
     "name": "stderr",
     "output_type": "stream",
     "text": [
      "Val Epoch:24: 0it [00:00, ?it/s]\u001b[32m [repeated 2x across cluster]\u001b[0m\n",
      "Val Epoch:36: 47it [00:01, 42.12it/s]\u001b[32m [repeated 16x across cluster]\u001b[0m\n"
     ]
    },
    {
     "name": "stdout",
     "output_type": "stream",
     "text": [
      "\u001b[36m(tune_with_parameters pid=1913127)\u001b[0m loss: 0.252\u001b[32m [repeated 25x across cluster]\u001b[0m\n"
     ]
    },
    {
     "name": "stderr",
     "output_type": "stream",
     "text": [
      "Val Epoch:25: 0it [00:00, ?it/s]\u001b[32m [repeated 2x across cluster]\u001b[0m\n",
      "Val Epoch:37: 47it [00:01, 38.18it/s]\u001b[32m [repeated 17x across cluster]\u001b[0m\n"
     ]
    },
    {
     "name": "stdout",
     "output_type": "stream",
     "text": [
      "\u001b[36m(tune_with_parameters pid=1913127)\u001b[0m loss: 0.313\u001b[32m [repeated 30x across cluster]\u001b[0m\n"
     ]
    },
    {
     "name": "stderr",
     "output_type": "stream",
     "text": [
      "Val Epoch:26: 0it [00:00, ?it/s]\u001b[32m [repeated 2x across cluster]\u001b[0m\n",
      "Val Epoch:38: 47it [00:02, 21.80it/s]\u001b[32m [repeated 18x across cluster]\u001b[0m\n",
      "Val Epoch:26: 14it [00:00, 23.59it/s]7)\u001b[0m \n"
     ]
    },
    {
     "name": "stdout",
     "output_type": "stream",
     "text": [
      "\u001b[36m(tune_with_parameters pid=1913127)\u001b[0m loss: 0.378\u001b[32m [repeated 30x across cluster]\u001b[0m\n"
     ]
    },
    {
     "name": "stderr",
     "output_type": "stream",
     "text": [
      "Val Epoch:27: 0it [00:00, ?it/s]\u001b[32m [repeated 2x across cluster]\u001b[0m\n",
      "Val Epoch:39: 47it [00:01, 25.37it/s]\u001b[32m [repeated 16x across cluster]\u001b[0m\n"
     ]
    },
    {
     "name": "stdout",
     "output_type": "stream",
     "text": [
      "\u001b[36m(tune_with_parameters pid=1913127)\u001b[0m loss: 0.321\u001b[32m [repeated 30x across cluster]\u001b[0m\n",
      "\u001b[36m(tune_with_parameters pid=1894660)\u001b[0m /tmp/tmp3woipppj/checkpoint.pt\n"
     ]
    },
    {
     "name": "stderr",
     "output_type": "stream",
     "text": [
      "\u001b[36m(tune_with_parameters pid=1894660)\u001b[0m Checkpoint successfully created at: Checkpoint(filesystem=local, path=/scratch/users/k23058970/Model training/results/Single Peak LSTM Null/tune_with_parameters_2024-08-19_13-32-44/tune_with_parameters_3497d_00000_0_dp=0.2000,hidden_size=400,lr=0.0022,num_layers=1_2024-08-19_13-33-15/checkpoint_000020)\n",
      "Val Epoch:28: 0it [00:00, ?it/s]\u001b[32m [repeated 2x across cluster]\u001b[0m\n",
      "Val Epoch:40: 47it [00:01, 27.78it/s]\u001b[32m [repeated 18x across cluster]\u001b[0m\n"
     ]
    },
    {
     "name": "stdout",
     "output_type": "stream",
     "text": [
      "\u001b[36m(tune_with_parameters pid=1913127)\u001b[0m loss: 0.271\u001b[32m [repeated 30x across cluster]\u001b[0m\n"
     ]
    },
    {
     "name": "stderr",
     "output_type": "stream",
     "text": [
      "Val Epoch:29: 0it [00:00, ?it/s]\u001b[32m [repeated 2x across cluster]\u001b[0m\n",
      "Val Epoch:41: 47it [00:01, 35.72it/s]\u001b[32m [repeated 17x across cluster]\u001b[0m\n"
     ]
    },
    {
     "name": "stdout",
     "output_type": "stream",
     "text": [
      "\u001b[36m(tune_with_parameters pid=1894660)\u001b[0m loss: 0.241\u001b[32m [repeated 27x across cluster]\u001b[0m\n"
     ]
    },
    {
     "name": "stderr",
     "output_type": "stream",
     "text": [
      "Val Epoch:29: 47it [00:01, 43.52it/s]7)\u001b[0m \n"
     ]
    },
    {
     "name": "stdout",
     "output_type": "stream",
     "text": [
      "\u001b[36m(tune_with_parameters pid=1913127)\u001b[0m \n"
     ]
    },
    {
     "name": "stderr",
     "output_type": "stream",
     "text": [
      "Val Epoch:30: 0it [00:00, ?it/s]\u001b[32m [repeated 2x across cluster]\u001b[0m\n",
      "Val Epoch:42: 38it [00:01, 39.24it/s]\u001b[32m [repeated 14x across cluster]\u001b[0m\n",
      "Val Epoch:42: 47it [00:01, 32.29it/s]0)\u001b[0m \n"
     ]
    },
    {
     "name": "stdout",
     "output_type": "stream",
     "text": [
      "\u001b[36m(tune_with_parameters pid=1894660)\u001b[0m loss: 0.239\u001b[32m [repeated 27x across cluster]\u001b[0m\n"
     ]
    },
    {
     "name": "stderr",
     "output_type": "stream",
     "text": [
      "Val Epoch:30: 47it [00:00, 48.26it/s]7)\u001b[0m \n",
      "\u001b[36m(tune_with_parameters pid=1913127)\u001b[0m Checkpoint successfully created at: Checkpoint(filesystem=local, path=/scratch/users/k23058970/Model training/results/Single Peak LSTM Null/tune_with_parameters_2024-08-19_13-32-44/tune_with_parameters_3497d_00002_2_dp=0.2500,hidden_size=500,lr=0.0486,num_layers=1_2024-08-19_13-33-15/checkpoint_000008)\n"
     ]
    },
    {
     "name": "stdout",
     "output_type": "stream",
     "text": [
      "\u001b[36m(tune_with_parameters pid=1913127)\u001b[0m /tmp/tmpqqc244e8/checkpoint.pt\n",
      "\u001b[36m(tune_with_parameters pid=1894660)\u001b[0m loss: 0.239\u001b[32m [repeated 30x across cluster]\u001b[0m\n"
     ]
    },
    {
     "name": "stderr",
     "output_type": "stream",
     "text": [
      "Val Epoch:31: 0it [00:00, ?it/s]\u001b[32m [repeated 2x across cluster]\u001b[0m\n",
      "Val Epoch:43: 47it [00:01, 36.11it/s]\u001b[32m [repeated 17x across cluster]\u001b[0m\n",
      "Val Epoch:44: 47it [00:01, 25.94it/s]0)\u001b[0m \n"
     ]
    },
    {
     "name": "stdout",
     "output_type": "stream",
     "text": [
      "\u001b[36m(tune_with_parameters pid=1894660)\u001b[0m loss: 0.226\u001b[32m [repeated 20x across cluster]\u001b[0m\n"
     ]
    },
    {
     "name": "stderr",
     "output_type": "stream",
     "text": [
      "Val Epoch:32: 0it [00:00, ?it/s]\u001b[32m [repeated 2x across cluster]\u001b[0m\n",
      "Val Epoch:44: 39it [00:01, 41.72it/s]\u001b[32m [repeated 17x across cluster]\u001b[0m\n",
      "Val Epoch:45: 47it [00:01, 24.02it/s]0)\u001b[0m \n"
     ]
    },
    {
     "name": "stdout",
     "output_type": "stream",
     "text": [
      "\u001b[36m(tune_with_parameters pid=1894660)\u001b[0m loss: 0.185\u001b[32m [repeated 21x across cluster]\u001b[0m\n"
     ]
    },
    {
     "name": "stderr",
     "output_type": "stream",
     "text": [
      "Val Epoch:33: 0it [00:00, ?it/s]\u001b[32m [repeated 2x across cluster]\u001b[0m\n",
      "Val Epoch:45: 38it [00:01, 40.52it/s]\u001b[32m [repeated 18x across cluster]\u001b[0m\n"
     ]
    },
    {
     "name": "stdout",
     "output_type": "stream",
     "text": [
      "\u001b[36m(tune_with_parameters pid=1913127)\u001b[0m loss: 0.278\u001b[32m [repeated 27x across cluster]\u001b[0m\n"
     ]
    },
    {
     "name": "stderr",
     "output_type": "stream",
     "text": [
      "Val Epoch:34: 0it [00:00, ?it/s]\u001b[32m [repeated 2x across cluster]\u001b[0m\n",
      "Val Epoch:46: 47it [00:01, 29.69it/s]\u001b[32m [repeated 19x across cluster]\u001b[0m\n"
     ]
    },
    {
     "name": "stdout",
     "output_type": "stream",
     "text": [
      "\u001b[36m(tune_with_parameters pid=1913127)\u001b[0m loss: 0.241\u001b[32m [repeated 28x across cluster]\u001b[0m\n"
     ]
    },
    {
     "name": "stderr",
     "output_type": "stream",
     "text": [
      "Val Epoch:35: 0it [00:00, ?it/s]\u001b[32m [repeated 2x across cluster]\u001b[0m\n",
      "Val Epoch:47: 47it [00:01, 39.49it/s]\u001b[32m [repeated 17x across cluster]\u001b[0m\n"
     ]
    },
    {
     "name": "stdout",
     "output_type": "stream",
     "text": [
      "\u001b[36m(tune_with_parameters pid=1894660)\u001b[0m loss: 0.242\u001b[32m [repeated 29x across cluster]\u001b[0m\n"
     ]
    },
    {
     "name": "stderr",
     "output_type": "stream",
     "text": [
      "Val Epoch:36: 0it [00:00, ?it/s]\u001b[32m [repeated 2x across cluster]\u001b[0m\n",
      "Val Epoch:48: 47it [00:01, 36.61it/s]\u001b[32m [repeated 18x across cluster]\u001b[0m\n"
     ]
    },
    {
     "name": "stdout",
     "output_type": "stream",
     "text": [
      "\u001b[36m(tune_with_parameters pid=1894660)\u001b[0m loss: 0.235\u001b[32m [repeated 27x across cluster]\u001b[0m\n"
     ]
    },
    {
     "name": "stderr",
     "output_type": "stream",
     "text": [
      "Val Epoch:36: 47it [00:01, 38.59it/s]7)\u001b[0m \n",
      "Val Epoch:37: 0it [00:00, ?it/s]\u001b[32m [repeated 2x across cluster]\u001b[0m\n",
      "Val Epoch:49: 47it [00:01, 27.49it/s]\u001b[32m [repeated 16x across cluster]\u001b[0m\n"
     ]
    },
    {
     "name": "stdout",
     "output_type": "stream",
     "text": [
      "\u001b[36m(tune_with_parameters pid=1894660)\u001b[0m loss: 0.235\u001b[32m [repeated 26x across cluster]\u001b[0m\n",
      "\u001b[36m(tune_with_parameters pid=1894660)\u001b[0m loss: 0.224\u001b[32m [repeated 23x across cluster]\u001b[0m\n"
     ]
    },
    {
     "name": "stderr",
     "output_type": "stream",
     "text": [
      "Val Epoch:38: 0it [00:00, ?it/s]\u001b[32m [repeated 2x across cluster]\u001b[0m\n",
      "Val Epoch:50: 47it [00:00, 47.51it/s]\u001b[32m [repeated 17x across cluster]\u001b[0m\n",
      "Val Epoch:51: 47it [00:01, 26.36it/s]0)\u001b[0m \n"
     ]
    },
    {
     "name": "stdout",
     "output_type": "stream",
     "text": [
      "\u001b[36m(tune_with_parameters pid=1894660)\u001b[0m loss: 0.316\u001b[32m [repeated 21x across cluster]\u001b[0m\n"
     ]
    },
    {
     "name": "stderr",
     "output_type": "stream",
     "text": [
      "Val Epoch:39: 0it [00:00, ?it/s]\u001b[32m [repeated 2x across cluster]\u001b[0m\n",
      "Val Epoch:51: 40it [00:01, 43.60it/s]\u001b[32m [repeated 16x across cluster]\u001b[0m\n"
     ]
    },
    {
     "name": "stdout",
     "output_type": "stream",
     "text": [
      "\u001b[36m(tune_with_parameters pid=1913127)\u001b[0m loss: 0.274\u001b[32m [repeated 27x across cluster]\u001b[0m\n"
     ]
    },
    {
     "name": "stderr",
     "output_type": "stream",
     "text": [
      "Val Epoch:40: 0it [00:00, ?it/s]\u001b[32m [repeated 2x across cluster]\u001b[0m\n",
      "Val Epoch:52: 47it [00:01, 42.29it/s]\u001b[32m [repeated 16x across cluster]\u001b[0m\n"
     ]
    },
    {
     "name": "stdout",
     "output_type": "stream",
     "text": [
      "\u001b[36m(tune_with_parameters pid=1894660)\u001b[0m loss: 0.236\u001b[32m [repeated 24x across cluster]\u001b[0m\n"
     ]
    },
    {
     "name": "stderr",
     "output_type": "stream",
     "text": [
      "Val Epoch:41: 0it [00:00, ?it/s]\u001b[32m [repeated 2x across cluster]\u001b[0m\n",
      "Val Epoch:53: 47it [00:01, 41.38it/s]\u001b[32m [repeated 16x across cluster]\u001b[0m\n"
     ]
    },
    {
     "name": "stdout",
     "output_type": "stream",
     "text": [
      "\u001b[36m(tune_with_parameters pid=1894660)\u001b[0m loss: 0.227\u001b[32m [repeated 26x across cluster]\u001b[0m\n"
     ]
    },
    {
     "name": "stderr",
     "output_type": "stream",
     "text": [
      "Val Epoch:42: 0it [00:00, ?it/s]\u001b[32m [repeated 2x across cluster]\u001b[0m\n",
      "Val Epoch:54: 47it [00:01, 35.03it/s]\u001b[32m [repeated 17x across cluster]\u001b[0m\n"
     ]
    },
    {
     "name": "stdout",
     "output_type": "stream",
     "text": [
      "\u001b[36m(tune_with_parameters pid=1894660)\u001b[0m loss: 0.243\u001b[32m [repeated 27x across cluster]\u001b[0m\n",
      "\u001b[36m(tune_with_parameters pid=1894660)\u001b[0m /tmp/tmpkebx_gpz/checkpoint.pt\n"
     ]
    },
    {
     "name": "stderr",
     "output_type": "stream",
     "text": [
      "\u001b[36m(tune_with_parameters pid=1894660)\u001b[0m Checkpoint successfully created at: Checkpoint(filesystem=local, path=/scratch/users/k23058970/Model training/results/Single Peak LSTM Null/tune_with_parameters_2024-08-19_13-32-44/tune_with_parameters_3497d_00000_0_dp=0.2000,hidden_size=400,lr=0.0022,num_layers=1_2024-08-19_13-33-15/checkpoint_000021)\n"
     ]
    },
    {
     "name": "stdout",
     "output_type": "stream",
     "text": [
      "\u001b[36m(tune_with_parameters pid=1913127)\u001b[0m loss: 0.276\u001b[32m [repeated 25x across cluster]\u001b[0m\n"
     ]
    },
    {
     "name": "stderr",
     "output_type": "stream",
     "text": [
      "Val Epoch:43: 0it [00:00, ?it/s]\u001b[32m [repeated 2x across cluster]\u001b[0m\n",
      "Val Epoch:55: 47it [00:01, 39.45it/s]\u001b[32m [repeated 18x across cluster]\u001b[0m\n"
     ]
    },
    {
     "name": "stdout",
     "output_type": "stream",
     "text": [
      "\u001b[36m(tune_with_parameters pid=1913127)\u001b[0m loss: 0.277\u001b[32m [repeated 25x across cluster]\u001b[0m\n"
     ]
    },
    {
     "name": "stderr",
     "output_type": "stream",
     "text": [
      "Val Epoch:44: 0it [00:00, ?it/s]\u001b[32m [repeated 2x across cluster]\u001b[0m\n",
      "Val Epoch:56: 47it [00:00, 50.78it/s]\u001b[32m [repeated 16x across cluster]\u001b[0m\n",
      "Val Epoch:44: 47it [00:01, 37.92it/s]7)\u001b[0m \n"
     ]
    },
    {
     "name": "stdout",
     "output_type": "stream",
     "text": [
      "\u001b[36m(tune_with_parameters pid=1913127)\u001b[0m loss: 0.287\u001b[32m [repeated 24x across cluster]\u001b[0m\n"
     ]
    },
    {
     "name": "stderr",
     "output_type": "stream",
     "text": [
      "Val Epoch:45: 0it [00:00, ?it/s]\u001b[32m [repeated 2x across cluster]\u001b[0m\n",
      "Val Epoch:57: 47it [00:00, 50.97it/s]\u001b[32m [repeated 15x across cluster]\u001b[0m\n"
     ]
    },
    {
     "name": "stdout",
     "output_type": "stream",
     "text": [
      "\u001b[36m(tune_with_parameters pid=1894660)\u001b[0m loss: 0.235\u001b[32m [repeated 25x across cluster]\u001b[0m\n"
     ]
    },
    {
     "name": "stderr",
     "output_type": "stream",
     "text": [
      "Val Epoch:46: 0it [00:00, ?it/s]\u001b[32m [repeated 2x across cluster]\u001b[0m\n",
      "Val Epoch:58: 47it [00:00, 49.88it/s]\u001b[32m [repeated 17x across cluster]\u001b[0m\n",
      "Val Epoch:46: 47it [00:00, 47.14it/s]7)\u001b[0m \n"
     ]
    },
    {
     "name": "stdout",
     "output_type": "stream",
     "text": [
      "\u001b[36m(tune_with_parameters pid=1894660)\u001b[0m loss: 0.224\u001b[32m [repeated 27x across cluster]\u001b[0m\n"
     ]
    },
    {
     "name": "stderr",
     "output_type": "stream",
     "text": [
      "Val Epoch:47: 0it [00:00, ?it/s]\u001b[32m [repeated 2x across cluster]\u001b[0m\n",
      "Val Epoch:59: 47it [00:01, 32.53it/s]\u001b[32m [repeated 15x across cluster]\u001b[0m\n"
     ]
    },
    {
     "name": "stdout",
     "output_type": "stream",
     "text": [
      "\u001b[36m(tune_with_parameters pid=1894660)\u001b[0m loss: 0.228\u001b[32m [repeated 24x across cluster]\u001b[0m\n"
     ]
    },
    {
     "name": "stderr",
     "output_type": "stream",
     "text": [
      "Val Epoch:60: 47it [00:01, 38.59it/s]0)\u001b[0m \n"
     ]
    },
    {
     "name": "stdout",
     "output_type": "stream",
     "text": [
      "\u001b[36m(tune_with_parameters pid=1913127)\u001b[0m loss: 0.267\u001b[32m [repeated 25x across cluster]\u001b[0m\n"
     ]
    },
    {
     "name": "stderr",
     "output_type": "stream",
     "text": [
      "Val Epoch:48: 0it [00:00, ?it/s]\u001b[32m [repeated 2x across cluster]\u001b[0m\n",
      "Val Epoch:60: 39it [00:01, 54.67it/s]\u001b[32m [repeated 15x across cluster]\u001b[0m\n"
     ]
    },
    {
     "name": "stdout",
     "output_type": "stream",
     "text": [
      "\u001b[36m(tune_with_parameters pid=1913127)\u001b[0m loss: 0.271\u001b[32m [repeated 24x across cluster]\u001b[0m\n"
     ]
    },
    {
     "name": "stderr",
     "output_type": "stream",
     "text": [
      "Val Epoch:49: 0it [00:00, ?it/s]\u001b[32m [repeated 2x across cluster]\u001b[0m\n",
      "Val Epoch:61: 47it [00:01, 38.68it/s]\u001b[32m [repeated 18x across cluster]\u001b[0m\n"
     ]
    },
    {
     "name": "stdout",
     "output_type": "stream",
     "text": [
      "\u001b[36m(tune_with_parameters pid=1913127)\u001b[0m loss: 0.269\u001b[32m [repeated 25x across cluster]\u001b[0m\n"
     ]
    },
    {
     "name": "stderr",
     "output_type": "stream",
     "text": [
      "Val Epoch:50: 0it [00:00, ?it/s]\u001b[32m [repeated 2x across cluster]\u001b[0m\n",
      "Val Epoch:62: 47it [00:01, 46.45it/s]\u001b[32m [repeated 17x across cluster]\u001b[0m\n",
      "Val Epoch:50: 47it [00:01, 41.46it/s]7)\u001b[0m \n"
     ]
    },
    {
     "name": "stdout",
     "output_type": "stream",
     "text": [
      "\u001b[36m(tune_with_parameters pid=1894660)\u001b[0m loss: 0.179\u001b[32m [repeated 26x across cluster]\u001b[0m\n"
     ]
    },
    {
     "name": "stderr",
     "output_type": "stream",
     "text": [
      "Val Epoch:64: 0it [00:00, ?it/s]\u001b[32m [repeated 2x across cluster]\u001b[0m\n",
      "Val Epoch:63: 47it [00:01, 27.89it/s]\u001b[32m [repeated 18x across cluster]\u001b[0m\n"
     ]
    },
    {
     "name": "stdout",
     "output_type": "stream",
     "text": [
      "\u001b[36m(tune_with_parameters pid=1894660)\u001b[0m loss: 0.230\u001b[32m [repeated 21x across cluster]\u001b[0m\n"
     ]
    },
    {
     "name": "stderr",
     "output_type": "stream",
     "text": [
      "Val Epoch:65: 0it [00:00, ?it/s]894660)\u001b[0m \n",
      "Val Epoch:65: 17it [00:00, 52.89it/s]\u001b[32m [repeated 10x across cluster]\u001b[0m\n",
      "Val Epoch:65: 47it [00:00, 52.96it/s]0)\u001b[0m \n"
     ]
    },
    {
     "name": "stdout",
     "output_type": "stream",
     "text": [
      "\u001b[36m(tune_with_parameters pid=1894660)\u001b[0m loss: 0.223\u001b[32m [repeated 15x across cluster]\u001b[0m\n"
     ]
    },
    {
     "name": "stderr",
     "output_type": "stream",
     "text": [
      "\u001b[36m(tune_with_parameters pid=1987830)\u001b[0m /users/k23058970/miniforge3/envs/Training/lib/python3.10/site-packages/torch/nn/modules/lazy.py:181: UserWarning: Lazy modules are a new feature under heavy development so changes to the API or functionality can happen at any moment.\n",
      "\u001b[36m(tune_with_parameters pid=1987830)\u001b[0m   warnings.warn('Lazy modules are a new feature under heavy development '\n",
      "Val Epoch:66: 0it [00:00, ?it/s]894660)\u001b[0m \n"
     ]
    },
    {
     "name": "stdout",
     "output_type": "stream",
     "text": [
      "\u001b[36m(tune_with_parameters pid=1894660)\u001b[0m loss: 0.224\u001b[32m [repeated 21x across cluster]\u001b[0m\n"
     ]
    },
    {
     "name": "stderr",
     "output_type": "stream",
     "text": [
      "Val Epoch:67: 0it [00:00, ?it/s]894660)\u001b[0m \n",
      "Val Epoch:66: 47it [00:01, 46.09it/s]\u001b[32m [repeated 10x across cluster]\u001b[0m\n",
      "Val Epoch:0: 0it [00:00, ?it/s]1987830)\u001b[0m \n"
     ]
    },
    {
     "name": "stdout",
     "output_type": "stream",
     "text": [
      "\u001b[36m(tune_with_parameters pid=1987830)\u001b[0m /tmp/tmp5pjut5kd/checkpoint.pt\n"
     ]
    },
    {
     "name": "stderr",
     "output_type": "stream",
     "text": [
      "\u001b[36m(tune_with_parameters pid=1987830)\u001b[0m Checkpoint successfully created at: Checkpoint(filesystem=local, path=/scratch/users/k23058970/Model training/results/Single Peak LSTM Null/tune_with_parameters_2024-08-19_13-32-44/tune_with_parameters_3497d_00003_3_dp=0.1000,hidden_size=500,lr=0.0024,num_layers=1_2024-08-19_13-33-15/checkpoint_000000)\n"
     ]
    },
    {
     "name": "stdout",
     "output_type": "stream",
     "text": [
      "\u001b[36m(tune_with_parameters pid=1894660)\u001b[0m loss: 0.227\u001b[32m [repeated 23x across cluster]\u001b[0m\n"
     ]
    },
    {
     "name": "stderr",
     "output_type": "stream",
     "text": [
      "Val Epoch:0: 47it [00:01, 32.60it/s]\u001b[32m [repeated 17x across cluster]\u001b[0m\n",
      "Val Epoch:68: 0it [00:00, ?it/s]894660)\u001b[0m \n",
      "Val Epoch:1: 0it [00:00, ?it/s]1987830)\u001b[0m \n"
     ]
    },
    {
     "name": "stdout",
     "output_type": "stream",
     "text": [
      "\u001b[36m(tune_with_parameters pid=1894660)\u001b[0m loss: 0.226\u001b[32m [repeated 26x across cluster]\u001b[0m\n"
     ]
    },
    {
     "name": "stderr",
     "output_type": "stream",
     "text": [
      "Val Epoch:1: 47it [00:02, 22.94it/s]30)\u001b[0m \n"
     ]
    },
    {
     "name": "stdout",
     "output_type": "stream",
     "text": [
      "\u001b[36m(tune_with_parameters pid=1987830)\u001b[0m /tmp/tmp_zrfmi3y/checkpoint.pt\n"
     ]
    },
    {
     "name": "stderr",
     "output_type": "stream",
     "text": [
      "\u001b[36m(tune_with_parameters pid=1987830)\u001b[0m Checkpoint successfully created at: Checkpoint(filesystem=local, path=/scratch/users/k23058970/Model training/results/Single Peak LSTM Null/tune_with_parameters_2024-08-19_13-32-44/tune_with_parameters_3497d_00003_3_dp=0.1000,hidden_size=500,lr=0.0024,num_layers=1_2024-08-19_13-33-15/checkpoint_000001)\n",
      "Val Epoch:1: 39it [00:01, 36.50it/s]\u001b[32m [repeated 17x across cluster]\u001b[0m\n",
      "Val Epoch:69: 0it [00:00, ?it/s]894660)\u001b[0m \n",
      "Val Epoch:2: 0it [00:00, ?it/s]1987830)\u001b[0m \n"
     ]
    },
    {
     "name": "stdout",
     "output_type": "stream",
     "text": [
      "\u001b[36m(tune_with_parameters pid=1894660)\u001b[0m loss: 0.278\u001b[32m [repeated 29x across cluster]\u001b[0m\n"
     ]
    },
    {
     "name": "stderr",
     "output_type": "stream",
     "text": [
      "Val Epoch:2: 47it [00:01, 29.78it/s]\u001b[32m [repeated 18x across cluster]\u001b[0m\n",
      "Val Epoch:70: 0it [00:00, ?it/s]894660)\u001b[0m \n",
      "Val Epoch:70: 47it [00:01, 35.11it/s]0)\u001b[0m \n",
      "Val Epoch:3: 0it [00:00, ?it/s]1987830)\u001b[0m \n"
     ]
    },
    {
     "name": "stdout",
     "output_type": "stream",
     "text": [
      "\u001b[36m(tune_with_parameters pid=1894660)\u001b[0m loss: 0.177\u001b[32m [repeated 30x across cluster]\u001b[0m\n",
      "\u001b[36m(tune_with_parameters pid=1987830)\u001b[0m /tmp/tmprlf6fvhu/checkpoint.pt\n"
     ]
    },
    {
     "name": "stderr",
     "output_type": "stream",
     "text": [
      "\u001b[36m(tune_with_parameters pid=1987830)\u001b[0m Checkpoint successfully created at: Checkpoint(filesystem=local, path=/scratch/users/k23058970/Model training/results/Single Peak LSTM Null/tune_with_parameters_2024-08-19_13-32-44/tune_with_parameters_3497d_00003_3_dp=0.1000,hidden_size=500,lr=0.0024,num_layers=1_2024-08-19_13-33-15/checkpoint_000002)\n",
      "Val Epoch:3: 47it [00:01, 28.65it/s]\u001b[32m [repeated 16x across cluster]\u001b[0m\n",
      "Val Epoch:71: 0it [00:00, ?it/s]894660)\u001b[0m \n",
      "Val Epoch:71: 47it [00:00, 47.61it/s]0)\u001b[0m \n"
     ]
    },
    {
     "name": "stdout",
     "output_type": "stream",
     "text": [
      "\u001b[36m(tune_with_parameters pid=1894660)\u001b[0m loss: 0.264\u001b[32m [repeated 28x across cluster]\u001b[0m\n"
     ]
    },
    {
     "name": "stderr",
     "output_type": "stream",
     "text": [
      "Val Epoch:4: 0it [00:00, ?it/s]1987830)\u001b[0m \n"
     ]
    },
    {
     "name": "stdout",
     "output_type": "stream",
     "text": [
      "\u001b[36m(tune_with_parameters pid=1987830)\u001b[0m /tmp/tmp2xsy6pqr/checkpoint.pt\n"
     ]
    },
    {
     "name": "stderr",
     "output_type": "stream",
     "text": [
      "\u001b[36m(tune_with_parameters pid=1987830)\u001b[0m Checkpoint successfully created at: Checkpoint(filesystem=local, path=/scratch/users/k23058970/Model training/results/Single Peak LSTM Null/tune_with_parameters_2024-08-19_13-32-44/tune_with_parameters_3497d_00003_3_dp=0.1000,hidden_size=500,lr=0.0024,num_layers=1_2024-08-19_13-33-15/checkpoint_000003)\n",
      "Val Epoch:4: 39it [00:01, 44.68it/s]\u001b[32m [repeated 14x across cluster]\u001b[0m\n",
      "Val Epoch:4: 47it [00:01, 35.96it/s]30)\u001b[0m \n"
     ]
    },
    {
     "name": "stdout",
     "output_type": "stream",
     "text": [
      "\u001b[36m(tune_with_parameters pid=1987830)\u001b[0m loss: 0.688\u001b[32m [repeated 26x across cluster]\u001b[0m\n"
     ]
    },
    {
     "name": "stderr",
     "output_type": "stream",
     "text": [
      "Val Epoch:5: 0it [00:00, ?it/s]\u001b[32m [repeated 2x across cluster]\u001b[0m\n"
     ]
    },
    {
     "name": "stdout",
     "output_type": "stream",
     "text": [
      "\u001b[36m(tune_with_parameters pid=1987830)\u001b[0m /tmp/tmprg8yklyy/checkpoint.pt\n"
     ]
    },
    {
     "name": "stderr",
     "output_type": "stream",
     "text": [
      "\u001b[36m(tune_with_parameters pid=1987830)\u001b[0m Checkpoint successfully created at: Checkpoint(filesystem=local, path=/scratch/users/k23058970/Model training/results/Single Peak LSTM Null/tune_with_parameters_2024-08-19_13-32-44/tune_with_parameters_3497d_00003_3_dp=0.1000,hidden_size=500,lr=0.0024,num_layers=1_2024-08-19_13-33-15/checkpoint_000004)\n",
      "Val Epoch:5: 47it [00:00, 50.59it/s]\u001b[32m [repeated 16x across cluster]\u001b[0m\n"
     ]
    },
    {
     "name": "stdout",
     "output_type": "stream",
     "text": [
      "\u001b[36m(tune_with_parameters pid=1987830)\u001b[0m loss: 0.594\u001b[32m [repeated 26x across cluster]\u001b[0m\n"
     ]
    },
    {
     "name": "stderr",
     "output_type": "stream",
     "text": [
      "Val Epoch:6: 0it [00:00, ?it/s]\u001b[32m [repeated 2x across cluster]\u001b[0m\n"
     ]
    },
    {
     "name": "stdout",
     "output_type": "stream",
     "text": [
      "\u001b[36m(tune_with_parameters pid=1987830)\u001b[0m /tmp/tmpxzz_dw6q/checkpoint.pt\n"
     ]
    },
    {
     "name": "stderr",
     "output_type": "stream",
     "text": [
      "\u001b[36m(tune_with_parameters pid=1987830)\u001b[0m Checkpoint successfully created at: Checkpoint(filesystem=local, path=/scratch/users/k23058970/Model training/results/Single Peak LSTM Null/tune_with_parameters_2024-08-19_13-32-44/tune_with_parameters_3497d_00003_3_dp=0.1000,hidden_size=500,lr=0.0024,num_layers=1_2024-08-19_13-33-15/checkpoint_000005)\n"
     ]
    },
    {
     "name": "stdout",
     "output_type": "stream",
     "text": [
      "\u001b[36m(tune_with_parameters pid=1894660)\u001b[0m loss: 0.232\u001b[32m [repeated 25x across cluster]\u001b[0m\n"
     ]
    },
    {
     "name": "stderr",
     "output_type": "stream",
     "text": [
      "Val Epoch:6: 47it [00:01, 34.28it/s]\u001b[32m [repeated 17x across cluster]\u001b[0m\n",
      "Val Epoch:74: 47it [00:00, 48.30it/s]0)\u001b[0m \n",
      "Val Epoch:7: 0it [00:00, ?it/s]\u001b[32m [repeated 2x across cluster]\u001b[0m\n"
     ]
    },
    {
     "name": "stdout",
     "output_type": "stream",
     "text": [
      "\u001b[36m(tune_with_parameters pid=1894660)\u001b[0m loss: 0.230\u001b[32m [repeated 26x across cluster]\u001b[0m\n",
      "\u001b[36m(tune_with_parameters pid=1987830)\u001b[0m /tmp/tmppxp7utqp/checkpoint.pt\n"
     ]
    },
    {
     "name": "stderr",
     "output_type": "stream",
     "text": [
      "\u001b[36m(tune_with_parameters pid=1987830)\u001b[0m Checkpoint successfully created at: Checkpoint(filesystem=local, path=/scratch/users/k23058970/Model training/results/Single Peak LSTM Null/tune_with_parameters_2024-08-19_13-32-44/tune_with_parameters_3497d_00003_3_dp=0.1000,hidden_size=500,lr=0.0024,num_layers=1_2024-08-19_13-33-15/checkpoint_000006)\n",
      "Val Epoch:7: 47it [00:01, 26.50it/s]\u001b[32m [repeated 16x across cluster]\u001b[0m\n",
      "Val Epoch:75: 47it [00:00, 47.53it/s]0)\u001b[0m \n",
      "Val Epoch:76: 0it [00:00, ?it/s]\u001b[32m [repeated 2x across cluster]\u001b[0m\n",
      "Val Epoch:76: 39it [00:00, 56.34it/s]\u001b[32m [repeated 12x across cluster]\u001b[0m\n"
     ]
    },
    {
     "name": "stdout",
     "output_type": "stream",
     "text": [
      "\u001b[36m(tune_with_parameters pid=1894660)\u001b[0m loss: 0.225\u001b[32m [repeated 19x across cluster]\u001b[0m\n"
     ]
    },
    {
     "name": "stderr",
     "output_type": "stream",
     "text": [
      "Val Epoch:77: 0it [00:00, ?it/s]894660)\u001b[0m \n",
      "Val Epoch:77: 47it [00:00, 57.37it/s]\u001b[32m [repeated 10x across cluster]\u001b[0m\n",
      "\u001b[36m(tune_with_parameters pid=2002492)\u001b[0m /users/k23058970/miniforge3/envs/Training/lib/python3.10/site-packages/torch/nn/modules/lazy.py:181: UserWarning: Lazy modules are a new feature under heavy development so changes to the API or functionality can happen at any moment.\n",
      "\u001b[36m(tune_with_parameters pid=2002492)\u001b[0m   warnings.warn('Lazy modules are a new feature under heavy development '\n"
     ]
    },
    {
     "name": "stdout",
     "output_type": "stream",
     "text": [
      "\u001b[36m(tune_with_parameters pid=2002492)\u001b[0m loss: 1.109\u001b[32m [repeated 15x across cluster]\u001b[0m\n"
     ]
    },
    {
     "name": "stderr",
     "output_type": "stream",
     "text": [
      "Val Epoch:0: 0it [00:00, ?it/s]2002492)\u001b[0m \n",
      "Val Epoch:77: 47it [00:01, 44.43it/s]0)\u001b[0m \n",
      "Val Epoch:0: 1it [00:00,  5.79it/s]492)\u001b[0m \n",
      "Val Epoch:0: 12it [00:00, 49.97it/s]92)\u001b[0m \n",
      "Val Epoch:0: 20it [00:00, 59.54it/s]92)\u001b[0m \n",
      "Val Epoch:0: 27it [00:01, 21.91it/s]92)\u001b[0m \n",
      "Val Epoch:0: 34it [00:01, 28.07it/s]92)\u001b[0m \n",
      "Val Epoch:0: 40it [00:01, 32.66it/s]92)\u001b[0m \n",
      "Val Epoch:0: 46it [00:01, 37.55it/s]92)\u001b[0m \n",
      "Val Epoch:0: 47it [00:01, 32.80it/s]92)\u001b[0m \n"
     ]
    },
    {
     "name": "stdout",
     "output_type": "stream",
     "text": [
      "\u001b[36m(tune_with_parameters pid=2002492)\u001b[0m /tmp/tmp_2qazftt/checkpoint.pt\n"
     ]
    },
    {
     "name": "stderr",
     "output_type": "stream",
     "text": [
      "\u001b[36m(tune_with_parameters pid=2002492)\u001b[0m Checkpoint successfully created at: Checkpoint(filesystem=local, path=/scratch/users/k23058970/Model training/results/Single Peak LSTM Null/tune_with_parameters_2024-08-19_13-32-44/tune_with_parameters_3497d_00004_4_dp=0.5000,hidden_size=200,lr=0.0537,num_layers=2_2024-08-19_13-33-15/checkpoint_000000)\n"
     ]
    },
    {
     "name": "stdout",
     "output_type": "stream",
     "text": [
      "\u001b[36m(tune_with_parameters pid=2002492)\u001b[0m loss: 0.828\u001b[32m [repeated 17x across cluster]\u001b[0m\n"
     ]
    },
    {
     "name": "stderr",
     "output_type": "stream",
     "text": [
      "\u001b[36m(tune_with_parameters pid=2005156)\u001b[0m /users/k23058970/miniforge3/envs/Training/lib/python3.10/site-packages/torch/nn/modules/lazy.py:181: UserWarning: Lazy modules are a new feature under heavy development so changes to the API or functionality can happen at any moment.\n",
      "\u001b[36m(tune_with_parameters pid=2005156)\u001b[0m   warnings.warn('Lazy modules are a new feature under heavy development '\n",
      "Val Epoch:1: 0it [00:00, ?it/s]2002492)\u001b[0m \n",
      "Val Epoch:1: 1it [00:00,  3.50it/s]492)\u001b[0m \n",
      "Val Epoch:1: 9it [00:00, 28.08it/s]492)\u001b[0m \n",
      "Val Epoch:1: 17it [00:00, 42.83it/s]92)\u001b[0m \n",
      "Val Epoch:1: 24it [00:00, 49.03it/s]92)\u001b[0m \n",
      "Val Epoch:1: 30it [00:00, 50.47it/s]92)\u001b[0m \n",
      "Val Epoch:1: 39it [00:00, 57.31it/s]92)\u001b[0m \n",
      "Val Epoch:1: 47it [00:01, 45.45it/s]92)\u001b[0m \n",
      "\u001b[36m(tune_with_parameters pid=2002492)\u001b[0m Checkpoint successfully created at: Checkpoint(filesystem=local, path=/scratch/users/k23058970/Model training/results/Single Peak LSTM Null/tune_with_parameters_2024-08-19_13-32-44/tune_with_parameters_3497d_00004_4_dp=0.5000,hidden_size=200,lr=0.0537,num_layers=2_2024-08-19_13-33-15/checkpoint_000001)\n"
     ]
    },
    {
     "name": "stdout",
     "output_type": "stream",
     "text": [
      "\u001b[36m(tune_with_parameters pid=2002492)\u001b[0m /tmp/tmp2he3n4bu/checkpoint.pt\n",
      "\u001b[36m(tune_with_parameters pid=2002492)\u001b[0m loss: 0.609\u001b[32m [repeated 14x across cluster]\u001b[0m\n"
     ]
    },
    {
     "name": "stderr",
     "output_type": "stream",
     "text": [
      "Val Epoch:2: 0it [00:00, ?it/s]2002492)\u001b[0m \n",
      "Val Epoch:2: 5it [00:00, 47.27it/s]492)\u001b[0m \n",
      "Val Epoch:2: 10it [00:00, 17.62it/s]92)\u001b[0m \n",
      "Val Epoch:2: 13it [00:00, 14.85it/s]92)\u001b[0m \n",
      "Val Epoch:2: 20it [00:00, 25.28it/s]92)\u001b[0m \n",
      "Val Epoch:2: 29it [00:01, 29.89it/s]92)\u001b[0m \n"
     ]
    },
    {
     "name": "stdout",
     "output_type": "stream",
     "text": [
      "\u001b[36m(tune_with_parameters pid=2002492)\u001b[0m /tmp/tmpdeuniedu/checkpoint.pt\n",
      "\u001b[36m(tune_with_parameters pid=2005156)\u001b[0m loss: 1.100\u001b[32m [repeated 28x across cluster]\u001b[0m\n"
     ]
    },
    {
     "name": "stderr",
     "output_type": "stream",
     "text": [
      "\u001b[36m(tune_with_parameters pid=2002492)\u001b[0m Checkpoint successfully created at: Checkpoint(filesystem=local, path=/scratch/users/k23058970/Model training/results/Single Peak LSTM Null/tune_with_parameters_2024-08-19_13-32-44/tune_with_parameters_3497d_00004_4_dp=0.5000,hidden_size=200,lr=0.0537,num_layers=2_2024-08-19_13-33-15/checkpoint_000002)\n"
     ]
    },
    {
     "name": "stdout",
     "output_type": "stream",
     "text": [
      "\u001b[36m(tune_with_parameters pid=2005156)\u001b[0m /tmp/tmphhhx20wy/checkpoint.pt\n"
     ]
    },
    {
     "name": "stderr",
     "output_type": "stream",
     "text": [
      "Val Epoch:3: 0it [00:00, ?it/s]\u001b[32m [repeated 2x across cluster]\u001b[0m\n",
      "Val Epoch:0: 47it [00:01, 32.65it/s]\u001b[32m [repeated 12x across cluster]\u001b[0m\n",
      "\u001b[36m(tune_with_parameters pid=2005156)\u001b[0m Checkpoint successfully created at: Checkpoint(filesystem=local, path=/scratch/users/k23058970/Model training/results/Single Peak LSTM Null/tune_with_parameters_2024-08-19_13-32-44/tune_with_parameters_3497d_00005_5_dp=0.2500,hidden_size=400,lr=0.0169,num_layers=3_2024-08-19_13-33-15/checkpoint_000000)\n",
      "Val Epoch:3: 47it [00:02, 22.44it/s]92)\u001b[0m \n",
      "\u001b[36m(tune_with_parameters pid=2002492)\u001b[0m Checkpoint successfully created at: Checkpoint(filesystem=local, path=/scratch/users/k23058970/Model training/results/Single Peak LSTM Null/tune_with_parameters_2024-08-19_13-32-44/tune_with_parameters_3497d_00004_4_dp=0.5000,hidden_size=200,lr=0.0537,num_layers=2_2024-08-19_13-33-15/checkpoint_000003)\n"
     ]
    },
    {
     "name": "stdout",
     "output_type": "stream",
     "text": [
      "\u001b[36m(tune_with_parameters pid=2002492)\u001b[0m /tmp/tmpa2w4auil/checkpoint.pt\n",
      "\u001b[36m(tune_with_parameters pid=2005156)\u001b[0m loss: 1.099\u001b[32m [repeated 30x across cluster]\u001b[0m\n",
      "\u001b[36m(tune_with_parameters pid=2005156)\u001b[0m /tmp/tmp10tuuij1/checkpoint.pt\n"
     ]
    },
    {
     "name": "stderr",
     "output_type": "stream",
     "text": [
      "Val Epoch:4: 0it [00:00, ?it/s]\u001b[32m [repeated 2x across cluster]\u001b[0m\n",
      "Val Epoch:1: 47it [00:01, 35.97it/s]\u001b[32m [repeated 16x across cluster]\u001b[0m\n",
      "\u001b[36m(tune_with_parameters pid=2005156)\u001b[0m Checkpoint successfully created at: Checkpoint(filesystem=local, path=/scratch/users/k23058970/Model training/results/Single Peak LSTM Null/tune_with_parameters_2024-08-19_13-32-44/tune_with_parameters_3497d_00005_5_dp=0.2500,hidden_size=400,lr=0.0169,num_layers=3_2024-08-19_13-33-15/checkpoint_000001)\n"
     ]
    },
    {
     "name": "stdout",
     "output_type": "stream",
     "text": [
      "\u001b[36m(tune_with_parameters pid=2002492)\u001b[0m /tmp/tmpaw7xaxh_/checkpoint.pt\n",
      "\u001b[36m(tune_with_parameters pid=2005156)\u001b[0m loss: 1.099\u001b[32m [repeated 30x across cluster]\u001b[0m\n"
     ]
    },
    {
     "name": "stderr",
     "output_type": "stream",
     "text": [
      "\u001b[36m(tune_with_parameters pid=2002492)\u001b[0m Checkpoint successfully created at: Checkpoint(filesystem=local, path=/scratch/users/k23058970/Model training/results/Single Peak LSTM Null/tune_with_parameters_2024-08-19_13-32-44/tune_with_parameters_3497d_00004_4_dp=0.5000,hidden_size=200,lr=0.0537,num_layers=2_2024-08-19_13-33-15/checkpoint_000004)\n"
     ]
    },
    {
     "name": "stdout",
     "output_type": "stream",
     "text": [
      "\u001b[36m(tune_with_parameters pid=2005156)\u001b[0m /tmp/tmpdrdoc00q/checkpoint.pt\n"
     ]
    },
    {
     "name": "stderr",
     "output_type": "stream",
     "text": [
      "Val Epoch:5: 0it [00:00, ?it/s]\u001b[32m [repeated 2x across cluster]\u001b[0m\n",
      "Val Epoch:2: 47it [00:02, 23.12it/s]\u001b[32m [repeated 16x across cluster]\u001b[0m\n",
      "\u001b[36m(tune_with_parameters pid=2005156)\u001b[0m Checkpoint successfully created at: Checkpoint(filesystem=local, path=/scratch/users/k23058970/Model training/results/Single Peak LSTM Null/tune_with_parameters_2024-08-19_13-32-44/tune_with_parameters_3497d_00005_5_dp=0.2500,hidden_size=400,lr=0.0169,num_layers=3_2024-08-19_13-33-15/checkpoint_000002)\n"
     ]
    },
    {
     "name": "stdout",
     "output_type": "stream",
     "text": [
      "\u001b[36m(tune_with_parameters pid=2005156)\u001b[0m loss: 1.098\u001b[32m [repeated 30x across cluster]\u001b[0m\n",
      "\u001b[36m(tune_with_parameters pid=2002492)\u001b[0m /tmp/tmp3wm5pzat/checkpoint.pt\n"
     ]
    },
    {
     "name": "stderr",
     "output_type": "stream",
     "text": [
      "\u001b[36m(tune_with_parameters pid=2002492)\u001b[0m Checkpoint successfully created at: Checkpoint(filesystem=local, path=/scratch/users/k23058970/Model training/results/Single Peak LSTM Null/tune_with_parameters_2024-08-19_13-32-44/tune_with_parameters_3497d_00004_4_dp=0.5000,hidden_size=200,lr=0.0537,num_layers=2_2024-08-19_13-33-15/checkpoint_000005)\n"
     ]
    },
    {
     "name": "stdout",
     "output_type": "stream",
     "text": [
      "\u001b[36m(tune_with_parameters pid=2002492)\u001b[0m \n",
      "\u001b[36m(tune_with_parameters pid=2002492)\u001b[0m loss: 0.558\u001b[32m [repeated 26x across cluster]\u001b[0m\n"
     ]
    },
    {
     "name": "stderr",
     "output_type": "stream",
     "text": [
      "Val Epoch:6: 0it [00:00, ?it/s]\u001b[32m [repeated 2x across cluster]\u001b[0m\n",
      "Val Epoch:3: 47it [00:00, 48.08it/s]\u001b[32m [repeated 17x across cluster]\u001b[0m\n"
     ]
    },
    {
     "name": "stdout",
     "output_type": "stream",
     "text": [
      "\u001b[36m(tune_with_parameters pid=2005156)\u001b[0m loss: 1.098\u001b[32m [repeated 15x across cluster]\u001b[0m\n"
     ]
    },
    {
     "name": "stderr",
     "output_type": "stream",
     "text": [
      "Val Epoch:7: 0it [00:00, ?it/s]\u001b[32m [repeated 2x across cluster]\u001b[0m\n",
      "Val Epoch:4: 47it [00:01, 24.36it/s]\u001b[32m [repeated 18x across cluster]\u001b[0m\n"
     ]
    },
    {
     "name": "stdout",
     "output_type": "stream",
     "text": [
      "\u001b[36m(tune_with_parameters pid=2002492)\u001b[0m /tmp/tmpok72lndg/checkpoint.pt\n"
     ]
    },
    {
     "name": "stderr",
     "output_type": "stream",
     "text": [
      "\u001b[36m(tune_with_parameters pid=2002492)\u001b[0m Checkpoint successfully created at: Checkpoint(filesystem=local, path=/scratch/users/k23058970/Model training/results/Single Peak LSTM Null/tune_with_parameters_2024-08-19_13-32-44/tune_with_parameters_3497d_00004_4_dp=0.5000,hidden_size=200,lr=0.0537,num_layers=2_2024-08-19_13-33-15/checkpoint_000006)\n"
     ]
    },
    {
     "name": "stdout",
     "output_type": "stream",
     "text": [
      "\u001b[36m(tune_with_parameters pid=2005156)\u001b[0m loss: 1.097\u001b[32m [repeated 20x across cluster]\u001b[0m\n"
     ]
    },
    {
     "name": "stderr",
     "output_type": "stream",
     "text": [
      "Val Epoch:6: 0it [00:00, ?it/s]\u001b[32m [repeated 2x across cluster]\u001b[0m\n",
      "Val Epoch:5: 47it [00:01, 36.37it/s]\u001b[32m [repeated 18x across cluster]\u001b[0m\n"
     ]
    },
    {
     "name": "stdout",
     "output_type": "stream",
     "text": [
      "\u001b[36m(tune_with_parameters pid=2005156)\u001b[0m loss: 1.098\u001b[32m [repeated 16x across cluster]\u001b[0m\n"
     ]
    },
    {
     "name": "stderr",
     "output_type": "stream",
     "text": [
      "Val Epoch:7: 0it [00:00, ?it/s]2005156)\u001b[0m \n",
      "Val Epoch:7: 34it [00:00, 57.19it/s]\u001b[32m [repeated 12x across cluster]\u001b[0m\n"
     ]
    },
    {
     "name": "stdout",
     "output_type": "stream",
     "text": [
      "\u001b[36m(tune_with_parameters pid=2005156)\u001b[0m loss: 1.097\u001b[32m [repeated 15x across cluster]\u001b[0m\n"
     ]
    },
    {
     "name": "stderr",
     "output_type": "stream",
     "text": [
      "\u001b[36m(tune_with_parameters pid=2016402)\u001b[0m /users/k23058970/miniforge3/envs/Training/lib/python3.10/site-packages/torch/nn/modules/lazy.py:181: UserWarning: Lazy modules are a new feature under heavy development so changes to the API or functionality can happen at any moment.\n",
      "\u001b[36m(tune_with_parameters pid=2016402)\u001b[0m   warnings.warn('Lazy modules are a new feature under heavy development '\n",
      "Val Epoch:8: 0it [00:00, ?it/s]2005156)\u001b[0m \n",
      "Val Epoch:8: 1it [00:00,  1.35it/s]\u001b[32m [repeated 4x across cluster]\u001b[0m\n"
     ]
    },
    {
     "name": "stdout",
     "output_type": "stream",
     "text": [
      "\u001b[36m(tune_with_parameters pid=2005156)\u001b[0m loss: 1.098\u001b[32m [repeated 17x across cluster]\u001b[0m\n"
     ]
    },
    {
     "name": "stderr",
     "output_type": "stream",
     "text": [
      "Val Epoch:9: 0it [00:00, ?it/s]2005156)\u001b[0m \n",
      "Val Epoch:9: 7it [00:00, 16.88it/s]\u001b[32m [repeated 8x across cluster]\u001b[0m\n"
     ]
    },
    {
     "name": "stdout",
     "output_type": "stream",
     "text": [
      "\u001b[36m(tune_with_parameters pid=2005156)\u001b[0m loss: 1.097\u001b[32m [repeated 25x across cluster]\u001b[0m\n"
     ]
    },
    {
     "name": "stderr",
     "output_type": "stream",
     "text": [
      "Val Epoch:0: 0it [00:00, ?it/s]2016402)\u001b[0m \n"
     ]
    },
    {
     "name": "stdout",
     "output_type": "stream",
     "text": [
      "\u001b[36m(tune_with_parameters pid=2016402)\u001b[0m /tmp/tmpj6jgbfxw/checkpoint.pt\n"
     ]
    },
    {
     "name": "stderr",
     "output_type": "stream",
     "text": [
      "\u001b[36m(tune_with_parameters pid=2016402)\u001b[0m /scratch/users/k23058970/Model training/training_insilico_lstm.py:63: RuntimeWarning: invalid value encountered in divide\n",
      "\u001b[36m(tune_with_parameters pid=2016402)\u001b[0m   self.precision = self.tp/(self.tp + self.fp)\n",
      "\u001b[36m(tune_with_parameters pid=2016402)\u001b[0m Checkpoint successfully created at: Checkpoint(filesystem=local, path=/scratch/users/k23058970/Model training/results/Single Peak LSTM Null/tune_with_parameters_2024-08-19_13-32-44/tune_with_parameters_3497d_00006_6_dp=0.2500,hidden_size=200,lr=0.0061,num_layers=2_2024-08-19_13-33-15/checkpoint_000000)\n",
      "Val Epoch:0: 47it [00:01, 36.36it/s]\u001b[32m [repeated 15x across cluster]\u001b[0m\n"
     ]
    },
    {
     "name": "stdout",
     "output_type": "stream",
     "text": [
      "\u001b[36m(tune_with_parameters pid=2016402)\u001b[0m loss: 1.098\u001b[32m [repeated 25x across cluster]\u001b[0m\n"
     ]
    },
    {
     "name": "stderr",
     "output_type": "stream",
     "text": [
      "Val Epoch:1: 0it [00:00, ?it/s]\u001b[32m [repeated 2x across cluster]\u001b[0m\n"
     ]
    },
    {
     "name": "stdout",
     "output_type": "stream",
     "text": [
      "\u001b[36m(tune_with_parameters pid=2016402)\u001b[0m /tmp/tmpg1tcvjio/checkpoint.pt\n"
     ]
    },
    {
     "name": "stderr",
     "output_type": "stream",
     "text": [
      "\u001b[36m(tune_with_parameters pid=2016402)\u001b[0m Checkpoint successfully created at: Checkpoint(filesystem=local, path=/scratch/users/k23058970/Model training/results/Single Peak LSTM Null/tune_with_parameters_2024-08-19_13-32-44/tune_with_parameters_3497d_00006_6_dp=0.2500,hidden_size=200,lr=0.0061,num_layers=2_2024-08-19_13-33-15/checkpoint_000001)\n"
     ]
    },
    {
     "name": "stdout",
     "output_type": "stream",
     "text": [
      "\u001b[36m(tune_with_parameters pid=2005156)\u001b[0m loss: 1.098\u001b[32m [repeated 25x across cluster]\u001b[0m\n"
     ]
    },
    {
     "name": "stderr",
     "output_type": "stream",
     "text": [
      "Val Epoch:1: 47it [00:00, 52.12it/s]\u001b[32m [repeated 17x across cluster]\u001b[0m\n",
      "Val Epoch:2: 0it [00:00, ?it/s]\u001b[32m [repeated 2x across cluster]\u001b[0m\n",
      "Val Epoch:2: 47it [00:01, 28.27it/s]02)\u001b[0m \n",
      "\u001b[36m(tune_with_parameters pid=2016402)\u001b[0m Checkpoint successfully created at: Checkpoint(filesystem=local, path=/scratch/users/k23058970/Model training/results/Single Peak LSTM Null/tune_with_parameters_2024-08-19_13-32-44/tune_with_parameters_3497d_00006_6_dp=0.2500,hidden_size=200,lr=0.0061,num_layers=2_2024-08-19_13-33-15/checkpoint_000002)\n"
     ]
    },
    {
     "name": "stdout",
     "output_type": "stream",
     "text": [
      "\u001b[36m(tune_with_parameters pid=2016402)\u001b[0m /tmp/tmp7koltym5/checkpoint.pt\n",
      "\u001b[36m(tune_with_parameters pid=2016402)\u001b[0m loss: 1.095\u001b[32m [repeated 14x across cluster]\u001b[0m\n"
     ]
    },
    {
     "name": "stderr",
     "output_type": "stream",
     "text": [
      "Val Epoch:2: 37it [00:01, 42.33it/s]\u001b[32m [repeated 17x across cluster]\u001b[0m\n",
      "Val Epoch:3: 0it [00:00, ?it/s]2016402)\u001b[0m \n"
     ]
    },
    {
     "name": "stdout",
     "output_type": "stream",
     "text": [
      "\u001b[36m(tune_with_parameters pid=2016402)\u001b[0m /tmp/tmp7sd_o2eo/checkpoint.pt\n"
     ]
    },
    {
     "name": "stderr",
     "output_type": "stream",
     "text": [
      "\u001b[36m(tune_with_parameters pid=2016402)\u001b[0m Checkpoint successfully created at: Checkpoint(filesystem=local, path=/scratch/users/k23058970/Model training/results/Single Peak LSTM Null/tune_with_parameters_2024-08-19_13-32-44/tune_with_parameters_3497d_00006_6_dp=0.2500,hidden_size=200,lr=0.0061,num_layers=2_2024-08-19_13-33-15/checkpoint_000003)\n"
     ]
    },
    {
     "name": "stdout",
     "output_type": "stream",
     "text": [
      "\u001b[36m(tune_with_parameters pid=2016402)\u001b[0m loss: 1.093\u001b[32m [repeated 19x across cluster]\u001b[0m\n"
     ]
    },
    {
     "name": "stderr",
     "output_type": "stream",
     "text": [
      "Val Epoch:4: 0it [00:00, ?it/s]2016402)\u001b[0m \n",
      "Val Epoch:3: 47it [00:01, 34.67it/s]\u001b[32m [repeated 8x across cluster]\u001b[0m\n"
     ]
    },
    {
     "name": "stdout",
     "output_type": "stream",
     "text": [
      "\u001b[36m(tune_with_parameters pid=2016402)\u001b[0m /tmp/tmpl2ngpdcz/checkpoint.pt\n"
     ]
    },
    {
     "name": "stderr",
     "output_type": "stream",
     "text": [
      "\u001b[36m(tune_with_parameters pid=2016402)\u001b[0m Checkpoint successfully created at: Checkpoint(filesystem=local, path=/scratch/users/k23058970/Model training/results/Single Peak LSTM Null/tune_with_parameters_2024-08-19_13-32-44/tune_with_parameters_3497d_00006_6_dp=0.2500,hidden_size=200,lr=0.0061,num_layers=2_2024-08-19_13-33-15/checkpoint_000004)\n",
      "\u001b[36m(tune_with_parameters pid=2023458)\u001b[0m /users/k23058970/miniforge3/envs/Training/lib/python3.10/site-packages/torch/nn/modules/lazy.py:181: UserWarning: Lazy modules are a new feature under heavy development so changes to the API or functionality can happen at any moment.\n",
      "\u001b[36m(tune_with_parameters pid=2023458)\u001b[0m   warnings.warn('Lazy modules are a new feature under heavy development '\n"
     ]
    },
    {
     "name": "stdout",
     "output_type": "stream",
     "text": [
      "\u001b[36m(tune_with_parameters pid=2016402)\u001b[0m loss: 1.092\u001b[32m [repeated 14x across cluster]\u001b[0m\n"
     ]
    },
    {
     "name": "stderr",
     "output_type": "stream",
     "text": [
      "Val Epoch:5: 0it [00:00, ?it/s]2016402)\u001b[0m \n",
      "Val Epoch:4: 47it [00:01, 34.78it/s]\u001b[32m [repeated 8x across cluster]\u001b[0m\n"
     ]
    },
    {
     "name": "stdout",
     "output_type": "stream",
     "text": [
      "\u001b[36m(tune_with_parameters pid=2016402)\u001b[0m /tmp/tmpwfjd48bl/checkpoint.pt\n"
     ]
    },
    {
     "name": "stderr",
     "output_type": "stream",
     "text": [
      "\u001b[36m(tune_with_parameters pid=2016402)\u001b[0m Checkpoint successfully created at: Checkpoint(filesystem=local, path=/scratch/users/k23058970/Model training/results/Single Peak LSTM Null/tune_with_parameters_2024-08-19_13-32-44/tune_with_parameters_3497d_00006_6_dp=0.2500,hidden_size=200,lr=0.0061,num_layers=2_2024-08-19_13-33-15/checkpoint_000005)\n"
     ]
    },
    {
     "name": "stdout",
     "output_type": "stream",
     "text": [
      "\u001b[36m(tune_with_parameters pid=2016402)\u001b[0m loss: 1.091\u001b[32m [repeated 21x across cluster]\u001b[0m\n",
      "\u001b[36m(tune_with_parameters pid=2016402)\u001b[0m \n"
     ]
    },
    {
     "name": "stderr",
     "output_type": "stream",
     "text": [
      "Val Epoch:0: 0it [00:00, ?it/s]2023458)\u001b[0m \n",
      "Val Epoch:5: 47it [00:01, 27.06it/s]\u001b[32m [repeated 9x across cluster]\u001b[0m\n"
     ]
    },
    {
     "name": "stdout",
     "output_type": "stream",
     "text": [
      "\u001b[36m(tune_with_parameters pid=2023458)\u001b[0m /tmp/tmpiy4we3vk/checkpoint.pt\n"
     ]
    },
    {
     "name": "stderr",
     "output_type": "stream",
     "text": [
      "\u001b[36m(tune_with_parameters pid=2023458)\u001b[0m Checkpoint successfully created at: Checkpoint(filesystem=local, path=/scratch/users/k23058970/Model training/results/Single Peak LSTM Null/tune_with_parameters_2024-08-19_13-32-44/tune_with_parameters_3497d_00007_7_dp=0.2500,hidden_size=500,lr=0.0047,num_layers=2_2024-08-19_13-33-15/checkpoint_000000)\n"
     ]
    },
    {
     "name": "stdout",
     "output_type": "stream",
     "text": [
      "\u001b[36m(tune_with_parameters pid=2016402)\u001b[0m loss: 1.088\u001b[32m [repeated 20x across cluster]\u001b[0m\n"
     ]
    },
    {
     "name": "stderr",
     "output_type": "stream",
     "text": [
      "Val Epoch:7: 0it [00:00, ?it/s]\u001b[32m [repeated 2x across cluster]\u001b[0m\n",
      "Val Epoch:6: 47it [00:01, 33.16it/s]\u001b[32m [repeated 14x across cluster]\u001b[0m\n",
      "Val Epoch:7: 47it [00:01, 37.61it/s]02)\u001b[0m \n",
      "\u001b[36m(tune_with_parameters pid=2016402)\u001b[0m Checkpoint successfully created at: Checkpoint(filesystem=local, path=/scratch/users/k23058970/Model training/results/Single Peak LSTM Null/tune_with_parameters_2024-08-19_13-32-44/tune_with_parameters_3497d_00006_6_dp=0.2500,hidden_size=200,lr=0.0061,num_layers=2_2024-08-19_13-33-15/checkpoint_000006)\n"
     ]
    },
    {
     "name": "stdout",
     "output_type": "stream",
     "text": [
      "\u001b[36m(tune_with_parameters pid=2016402)\u001b[0m /tmp/tmp5ph5hmnp/checkpoint.pt\n",
      "\u001b[36m(tune_with_parameters pid=2023458)\u001b[0m /tmp/tmpnn777ua9/checkpoint.pt\n",
      "\u001b[36m(tune_with_parameters pid=2023458)\u001b[0m loss: 1.088\u001b[32m [repeated 28x across cluster]\u001b[0m\n"
     ]
    },
    {
     "name": "stderr",
     "output_type": "stream",
     "text": [
      "Val Epoch:2: 0it [00:00, ?it/s]\u001b[32m [repeated 2x across cluster]\u001b[0m\n",
      "Val Epoch:1: 47it [00:01, 41.13it/s]\u001b[32m [repeated 15x across cluster]\u001b[0m\n",
      "\u001b[36m(tune_with_parameters pid=2023458)\u001b[0m Checkpoint successfully created at: Checkpoint(filesystem=local, path=/scratch/users/k23058970/Model training/results/Single Peak LSTM Null/tune_with_parameters_2024-08-19_13-32-44/tune_with_parameters_3497d_00007_7_dp=0.2500,hidden_size=500,lr=0.0047,num_layers=2_2024-08-19_13-33-15/checkpoint_000001)\n"
     ]
    },
    {
     "name": "stdout",
     "output_type": "stream",
     "text": [
      "\u001b[36m(tune_with_parameters pid=2023458)\u001b[0m /tmp/tmpv34pwtvg/checkpoint.pt\n"
     ]
    },
    {
     "name": "stderr",
     "output_type": "stream",
     "text": [
      "\u001b[36m(tune_with_parameters pid=2023458)\u001b[0m Checkpoint successfully created at: Checkpoint(filesystem=local, path=/scratch/users/k23058970/Model training/results/Single Peak LSTM Null/tune_with_parameters_2024-08-19_13-32-44/tune_with_parameters_3497d_00007_7_dp=0.2500,hidden_size=500,lr=0.0047,num_layers=2_2024-08-19_13-33-15/checkpoint_000002)\n"
     ]
    },
    {
     "name": "stdout",
     "output_type": "stream",
     "text": [
      "\u001b[36m(tune_with_parameters pid=2023458)\u001b[0m loss: 1.076\u001b[32m [repeated 16x across cluster]\u001b[0m\n"
     ]
    },
    {
     "name": "stderr",
     "output_type": "stream",
     "text": [
      "Val Epoch:3: 0it [00:00, ?it/s]2023458)\u001b[0m \n",
      "Val Epoch:2: 47it [00:00, 50.09it/s]\u001b[32m [repeated 7x across cluster]\u001b[0m\n"
     ]
    },
    {
     "name": "stdout",
     "output_type": "stream",
     "text": [
      "\u001b[36m(tune_with_parameters pid=2023458)\u001b[0m /tmp/tmp8usyp708/checkpoint.pt\n"
     ]
    },
    {
     "name": "stderr",
     "output_type": "stream",
     "text": [
      "\u001b[36m(tune_with_parameters pid=2023458)\u001b[0m Checkpoint successfully created at: Checkpoint(filesystem=local, path=/scratch/users/k23058970/Model training/results/Single Peak LSTM Null/tune_with_parameters_2024-08-19_13-32-44/tune_with_parameters_3497d_00007_7_dp=0.2500,hidden_size=500,lr=0.0047,num_layers=2_2024-08-19_13-33-15/checkpoint_000003)\n"
     ]
    },
    {
     "name": "stdout",
     "output_type": "stream",
     "text": [
      "\u001b[36m(tune_with_parameters pid=2023458)\u001b[0m loss: 1.064\u001b[32m [repeated 15x across cluster]\u001b[0m\n"
     ]
    },
    {
     "name": "stderr",
     "output_type": "stream",
     "text": [
      "\u001b[36m(tune_with_parameters pid=2029911)\u001b[0m /users/k23058970/miniforge3/envs/Training/lib/python3.10/site-packages/torch/nn/modules/lazy.py:181: UserWarning: Lazy modules are a new feature under heavy development so changes to the API or functionality can happen at any moment.\n",
      "\u001b[36m(tune_with_parameters pid=2029911)\u001b[0m   warnings.warn('Lazy modules are a new feature under heavy development '\n"
     ]
    },
    {
     "name": "stdout",
     "output_type": "stream",
     "text": [
      "\u001b[36m(tune_with_parameters pid=2023458)\u001b[0m \n"
     ]
    },
    {
     "name": "stderr",
     "output_type": "stream",
     "text": [
      "Val Epoch:4: 0it [00:00, ?it/s]2023458)\u001b[0m \n",
      "Val Epoch:3: 47it [00:01, 40.45it/s]\u001b[32m [repeated 8x across cluster]\u001b[0m\n"
     ]
    },
    {
     "name": "stdout",
     "output_type": "stream",
     "text": [
      "\u001b[36m(tune_with_parameters pid=2023458)\u001b[0m /tmp/tmpkeqr2pmg/checkpoint.pt\n"
     ]
    },
    {
     "name": "stderr",
     "output_type": "stream",
     "text": [
      "\u001b[36m(tune_with_parameters pid=2023458)\u001b[0m Checkpoint successfully created at: Checkpoint(filesystem=local, path=/scratch/users/k23058970/Model training/results/Single Peak LSTM Null/tune_with_parameters_2024-08-19_13-32-44/tune_with_parameters_3497d_00007_7_dp=0.2500,hidden_size=500,lr=0.0047,num_layers=2_2024-08-19_13-33-15/checkpoint_000004)\n"
     ]
    },
    {
     "name": "stdout",
     "output_type": "stream",
     "text": [
      "\u001b[36m(tune_with_parameters pid=2023458)\u001b[0m loss: 1.047\u001b[32m [repeated 15x across cluster]\u001b[0m\n"
     ]
    },
    {
     "name": "stderr",
     "output_type": "stream",
     "text": [
      "Val Epoch:5: 0it [00:00, ?it/s]2023458)\u001b[0m \n",
      "Val Epoch:4: 47it [00:00, 47.25it/s]\u001b[32m [repeated 7x across cluster]\u001b[0m\n",
      "Val Epoch:0: 0it [00:00, ?it/s]2029911)\u001b[0m \n"
     ]
    },
    {
     "name": "stdout",
     "output_type": "stream",
     "text": [
      "\u001b[36m(tune_with_parameters pid=2023458)\u001b[0m /tmp/tmpejz_8p2j/checkpoint.pt\n",
      "\u001b[36m(tune_with_parameters pid=2029911)\u001b[0m loss: 1.099\u001b[32m [repeated 29x across cluster]\u001b[0m\n"
     ]
    },
    {
     "name": "stderr",
     "output_type": "stream",
     "text": [
      "\u001b[36m(tune_with_parameters pid=2023458)\u001b[0m Checkpoint successfully created at: Checkpoint(filesystem=local, path=/scratch/users/k23058970/Model training/results/Single Peak LSTM Null/tune_with_parameters_2024-08-19_13-32-44/tune_with_parameters_3497d_00007_7_dp=0.2500,hidden_size=500,lr=0.0047,num_layers=2_2024-08-19_13-33-15/checkpoint_000005)\n"
     ]
    },
    {
     "name": "stdout",
     "output_type": "stream",
     "text": [
      "\u001b[36m(tune_with_parameters pid=2029911)\u001b[0m /tmp/tmpnt4hzpeo/checkpoint.pt\n"
     ]
    },
    {
     "name": "stderr",
     "output_type": "stream",
     "text": [
      "Val Epoch:0: 47it [00:01, 30.93it/s]\u001b[32m [repeated 16x across cluster]\u001b[0m\n",
      "Val Epoch:6: 0it [00:00, ?it/s]2023458)\u001b[0m \n"
     ]
    },
    {
     "name": "stdout",
     "output_type": "stream",
     "text": [
      "\u001b[36m(tune_with_parameters pid=2029911)\u001b[0m loss: 1.099\u001b[32m [repeated 20x across cluster]\u001b[0m\n"
     ]
    },
    {
     "name": "stderr",
     "output_type": "stream",
     "text": [
      "\u001b[36m(tune_with_parameters pid=2029911)\u001b[0m Checkpoint successfully created at: Checkpoint(filesystem=local, path=/scratch/users/k23058970/Model training/results/Single Peak LSTM Null/tune_with_parameters_2024-08-19_13-32-44/tune_with_parameters_3497d_00008_8_dp=0.2500,hidden_size=500,lr=0.0015,num_layers=3_2024-08-19_13-33-15/checkpoint_000000)\n"
     ]
    },
    {
     "name": "stdout",
     "output_type": "stream",
     "text": [
      "\u001b[36m(tune_with_parameters pid=2023458)\u001b[0m /tmp/tmp145c1vzo/checkpoint.pt\n"
     ]
    },
    {
     "name": "stderr",
     "output_type": "stream",
     "text": [
      "\u001b[36m(tune_with_parameters pid=2023458)\u001b[0m Checkpoint successfully created at: Checkpoint(filesystem=local, path=/scratch/users/k23058970/Model training/results/Single Peak LSTM Null/tune_with_parameters_2024-08-19_13-32-44/tune_with_parameters_3497d_00007_7_dp=0.2500,hidden_size=500,lr=0.0047,num_layers=2_2024-08-19_13-33-15/checkpoint_000006)\n",
      "Val Epoch:1: 0it [00:00, ?it/s]2029911)\u001b[0m \n",
      "Val Epoch:6: 47it [00:01, 41.55it/s]\u001b[32m [repeated 9x across cluster]\u001b[0m\n"
     ]
    },
    {
     "name": "stdout",
     "output_type": "stream",
     "text": [
      "\u001b[36m(tune_with_parameters pid=2029911)\u001b[0m loss: 1.098\u001b[32m [repeated 27x across cluster]\u001b[0m\n"
     ]
    },
    {
     "name": "stderr",
     "output_type": "stream",
     "text": [
      "Val Epoch:2: 0it [00:00, ?it/s]\u001b[32m [repeated 2x across cluster]\u001b[0m\n",
      "Val Epoch:7: 47it [00:01, 34.45it/s]\u001b[32m [repeated 18x across cluster]\u001b[0m\n"
     ]
    },
    {
     "name": "stdout",
     "output_type": "stream",
     "text": [
      "\u001b[36m(tune_with_parameters pid=2029911)\u001b[0m loss: 1.097\u001b[32m [repeated 14x across cluster]\u001b[0m\n"
     ]
    },
    {
     "name": "stderr",
     "output_type": "stream",
     "text": [
      "Val Epoch:3: 0it [00:00, ?it/s]2029911)\u001b[0m \n",
      "Val Epoch:3: 1it [00:00,  7.82it/s]\u001b[32m [repeated 11x across cluster]\u001b[0m\n"
     ]
    },
    {
     "name": "stdout",
     "output_type": "stream",
     "text": [
      "\u001b[36m(tune_with_parameters pid=2029911)\u001b[0m loss: 1.097\u001b[32m [repeated 15x across cluster]\u001b[0m\n"
     ]
    },
    {
     "name": "stderr",
     "output_type": "stream",
     "text": [
      "\u001b[36m(tune_with_parameters pid=2038319)\u001b[0m /users/k23058970/miniforge3/envs/Training/lib/python3.10/site-packages/torch/nn/modules/lazy.py:181: UserWarning: Lazy modules are a new feature under heavy development so changes to the API or functionality can happen at any moment.\n",
      "\u001b[36m(tune_with_parameters pid=2038319)\u001b[0m   warnings.warn('Lazy modules are a new feature under heavy development '\n",
      "Val Epoch:4: 0it [00:00, ?it/s]2029911)\u001b[0m \n",
      "Val Epoch:3: 47it [00:01, 28.84it/s]\u001b[32m [repeated 7x across cluster]\u001b[0m\n",
      "Val Epoch:4: 47it [00:01, 31.41it/s]11)\u001b[0m \n"
     ]
    },
    {
     "name": "stdout",
     "output_type": "stream",
     "text": [
      "\u001b[36m(tune_with_parameters pid=2029911)\u001b[0m loss: 1.100\u001b[32m [repeated 15x across cluster]\u001b[0m\n"
     ]
    },
    {
     "name": "stderr",
     "output_type": "stream",
     "text": [
      "Val Epoch:5: 0it [00:00, ?it/s]2029911)\u001b[0m \n",
      "Val Epoch:4: 39it [00:01, 47.74it/s]\u001b[32m [repeated 7x across cluster]\u001b[0m\n",
      "Val Epoch:0: 0it [00:00, ?it/s]2038319)\u001b[0m \n"
     ]
    },
    {
     "name": "stdout",
     "output_type": "stream",
     "text": [
      "\u001b[36m(tune_with_parameters pid=2029911)\u001b[0m loss: 1.100\u001b[32m [repeated 30x across cluster]\u001b[0m\n",
      "\u001b[36m(tune_with_parameters pid=2038319)\u001b[0m /tmp/tmppv072afz/checkpoint.pt\n"
     ]
    },
    {
     "name": "stderr",
     "output_type": "stream",
     "text": [
      "\u001b[36m(tune_with_parameters pid=2038319)\u001b[0m Checkpoint successfully created at: Checkpoint(filesystem=local, path=/scratch/users/k23058970/Model training/results/Single Peak LSTM Null/tune_with_parameters_2024-08-19_13-32-44/tune_with_parameters_3497d_00009_9_dp=0.5000,hidden_size=500,lr=0.0147,num_layers=1_2024-08-19_13-33-15/checkpoint_000000)\n",
      "Val Epoch:0: 47it [00:01, 30.45it/s]\u001b[32m [repeated 18x across cluster]\u001b[0m\n",
      "Val Epoch:6: 0it [00:00, ?it/s]2029911)\u001b[0m \n",
      "Val Epoch:1: 0it [00:00, ?it/s]2038319)\u001b[0m \n"
     ]
    },
    {
     "name": "stdout",
     "output_type": "stream",
     "text": [
      "\u001b[36m(tune_with_parameters pid=2029911)\u001b[0m loss: 1.100\u001b[32m [repeated 30x across cluster]\u001b[0m\n",
      "\u001b[36m(tune_with_parameters pid=2038319)\u001b[0m /tmp/tmpx_qgyknl/checkpoint.pt\n"
     ]
    },
    {
     "name": "stderr",
     "output_type": "stream",
     "text": [
      "\u001b[36m(tune_with_parameters pid=2038319)\u001b[0m Checkpoint successfully created at: Checkpoint(filesystem=local, path=/scratch/users/k23058970/Model training/results/Single Peak LSTM Null/tune_with_parameters_2024-08-19_13-32-44/tune_with_parameters_3497d_00009_9_dp=0.5000,hidden_size=500,lr=0.0147,num_layers=1_2024-08-19_13-33-15/checkpoint_000001)\n",
      "Val Epoch:2: 0it [00:00, ?it/s]2038319)\u001b[0m \n",
      "Val Epoch:1: 47it [00:02, 21.96it/s]\u001b[32m [repeated 18x across cluster]\u001b[0m\n",
      "Val Epoch:7: 0it [00:00, ?it/s]2029911)\u001b[0m \n",
      "Val Epoch:7: 47it [00:01, 32.66it/s]11)\u001b[0m \n",
      "\u001b[36m(tune_with_parameters pid=2038319)\u001b[0m Checkpoint successfully created at: Checkpoint(filesystem=local, path=/scratch/users/k23058970/Model training/results/Single Peak LSTM Null/tune_with_parameters_2024-08-19_13-32-44/tune_with_parameters_3497d_00009_9_dp=0.5000,hidden_size=500,lr=0.0147,num_layers=1_2024-08-19_13-33-15/checkpoint_000002)\n"
     ]
    },
    {
     "name": "stdout",
     "output_type": "stream",
     "text": [
      "\u001b[36m(tune_with_parameters pid=2038319)\u001b[0m /tmp/tmp3tsugr07/checkpoint.pt\n",
      "\u001b[36m(tune_with_parameters pid=2038319)\u001b[0m loss: 0.641\u001b[32m [repeated 29x across cluster]\u001b[0m\n"
     ]
    },
    {
     "name": "stderr",
     "output_type": "stream",
     "text": [
      "Val Epoch:2: 47it [00:01, 29.45it/s]\u001b[32m [repeated 16x across cluster]\u001b[0m\n",
      "Val Epoch:3: 0it [00:00, ?it/s]2038319)\u001b[0m \n",
      "Val Epoch:8: 0it [00:00, ?it/s]2029911)\u001b[0m \n"
     ]
    },
    {
     "name": "stdout",
     "output_type": "stream",
     "text": [
      "\u001b[36m(tune_with_parameters pid=2038319)\u001b[0m /tmp/tmp_mi07v6m/checkpoint.pt\n",
      "\u001b[36m(tune_with_parameters pid=2029911)\u001b[0m loss: 1.099\u001b[32m [repeated 30x across cluster]\u001b[0m\n"
     ]
    },
    {
     "name": "stderr",
     "output_type": "stream",
     "text": [
      "\u001b[36m(tune_with_parameters pid=2038319)\u001b[0m Checkpoint successfully created at: Checkpoint(filesystem=local, path=/scratch/users/k23058970/Model training/results/Single Peak LSTM Null/tune_with_parameters_2024-08-19_13-32-44/tune_with_parameters_3497d_00009_9_dp=0.5000,hidden_size=500,lr=0.0147,num_layers=1_2024-08-19_13-33-15/checkpoint_000003)\n",
      "Val Epoch:8: 47it [00:01, 33.13it/s]11)\u001b[0m \n",
      "Val Epoch:8: 37it [00:00, 62.72it/s]\u001b[32m [repeated 16x across cluster]\u001b[0m\n",
      "Val Epoch:4: 0it [00:00, ?it/s]2038319)\u001b[0m \n"
     ]
    },
    {
     "name": "stdout",
     "output_type": "stream",
     "text": [
      "\u001b[36m(tune_with_parameters pid=2029911)\u001b[0m loss: 1.099\u001b[32m [repeated 28x across cluster]\u001b[0m\n"
     ]
    },
    {
     "name": "stderr",
     "output_type": "stream",
     "text": [
      "Val Epoch:9: 0it [00:00, ?it/s]2029911)\u001b[0m \n"
     ]
    },
    {
     "name": "stdout",
     "output_type": "stream",
     "text": [
      "\u001b[36m(tune_with_parameters pid=2038319)\u001b[0m /tmp/tmpno0l_0zz/checkpoint.pt\n"
     ]
    },
    {
     "name": "stderr",
     "output_type": "stream",
     "text": [
      "\u001b[36m(tune_with_parameters pid=2038319)\u001b[0m Checkpoint successfully created at: Checkpoint(filesystem=local, path=/scratch/users/k23058970/Model training/results/Single Peak LSTM Null/tune_with_parameters_2024-08-19_13-32-44/tune_with_parameters_3497d_00009_9_dp=0.5000,hidden_size=500,lr=0.0147,num_layers=1_2024-08-19_13-33-15/checkpoint_000004)\n"
     ]
    },
    {
     "name": "stdout",
     "output_type": "stream",
     "text": [
      "\u001b[36m(tune_with_parameters pid=2029911)\u001b[0m loss: 1.098\u001b[32m [repeated 25x across cluster]\u001b[0m\n"
     ]
    },
    {
     "name": "stderr",
     "output_type": "stream",
     "text": [
      "Val Epoch:9: 47it [00:01, 29.40it/s]\u001b[32m [repeated 18x across cluster]\u001b[0m\n",
      "Val Epoch:5: 0it [00:00, ?it/s]2038319)\u001b[0m \n"
     ]
    },
    {
     "name": "stdout",
     "output_type": "stream",
     "text": [
      "\u001b[36m(tune_with_parameters pid=2038319)\u001b[0m /tmp/tmpxcktic3h/checkpoint.pt\n"
     ]
    },
    {
     "name": "stderr",
     "output_type": "stream",
     "text": [
      "\u001b[36m(tune_with_parameters pid=2038319)\u001b[0m Checkpoint successfully created at: Checkpoint(filesystem=local, path=/scratch/users/k23058970/Model training/results/Single Peak LSTM Null/tune_with_parameters_2024-08-19_13-32-44/tune_with_parameters_3497d_00009_9_dp=0.5000,hidden_size=500,lr=0.0147,num_layers=1_2024-08-19_13-33-15/checkpoint_000005)\n",
      "Val Epoch:10: 0it [00:00, ?it/s]029911)\u001b[0m \n"
     ]
    },
    {
     "name": "stdout",
     "output_type": "stream",
     "text": [
      "\u001b[36m(tune_with_parameters pid=2029911)\u001b[0m loss: 1.091\u001b[32m [repeated 16x across cluster]\u001b[0m\n"
     ]
    },
    {
     "name": "stderr",
     "output_type": "stream",
     "text": [
      "Val Epoch:10: 47it [00:01, 32.99it/s]\u001b[32m [repeated 17x across cluster]\u001b[0m\n",
      "Val Epoch:6: 0it [00:00, ?it/s]2038319)\u001b[0m \n"
     ]
    },
    {
     "name": "stdout",
     "output_type": "stream",
     "text": [
      "\u001b[36m(tune_with_parameters pid=2038319)\u001b[0m /tmp/tmpe68pytb6/checkpoint.pt\n"
     ]
    },
    {
     "name": "stderr",
     "output_type": "stream",
     "text": [
      "\u001b[36m(tune_with_parameters pid=2038319)\u001b[0m Checkpoint successfully created at: Checkpoint(filesystem=local, path=/scratch/users/k23058970/Model training/results/Single Peak LSTM Null/tune_with_parameters_2024-08-19_13-32-44/tune_with_parameters_3497d_00009_9_dp=0.5000,hidden_size=500,lr=0.0147,num_layers=1_2024-08-19_13-33-15/checkpoint_000006)\n",
      "Val Epoch:11: 0it [00:00, ?it/s]029911)\u001b[0m \n"
     ]
    },
    {
     "name": "stdout",
     "output_type": "stream",
     "text": [
      "\u001b[36m(tune_with_parameters pid=2038319)\u001b[0m loss: 0.575\u001b[32m [repeated 28x across cluster]\u001b[0m\n"
     ]
    },
    {
     "name": "stderr",
     "output_type": "stream",
     "text": [
      "Val Epoch:11: 47it [00:01, 46.96it/s]1)\u001b[0m \n",
      "Val Epoch:11: 38it [00:00, 51.43it/s]\u001b[32m [repeated 16x across cluster]\u001b[0m\n"
     ]
    },
    {
     "name": "stdout",
     "output_type": "stream",
     "text": [
      "\u001b[36m(tune_with_parameters pid=2029911)\u001b[0m loss: 1.098\u001b[32m [repeated 23x across cluster]\u001b[0m\n"
     ]
    },
    {
     "name": "stderr",
     "output_type": "stream",
     "text": [
      "Val Epoch:12: 0it [00:00, ?it/s]\u001b[32m [repeated 2x across cluster]\u001b[0m\n",
      "Val Epoch:12: 47it [00:01, 32.26it/s]\u001b[32m [repeated 19x across cluster]\u001b[0m\n"
     ]
    },
    {
     "name": "stdout",
     "output_type": "stream",
     "text": [
      "\u001b[36m(tune_with_parameters pid=2029911)\u001b[0m /tmp/tmpb9m3r5m8/checkpoint.pt\n"
     ]
    },
    {
     "name": "stderr",
     "output_type": "stream",
     "text": [
      "Val Epoch:8: 47it [00:01, 36.74it/s]19)\u001b[0m \n",
      "\u001b[36m(tune_with_parameters pid=2038319)\u001b[0m Checkpoint successfully created at: Checkpoint(filesystem=local, path=/scratch/users/k23058970/Model training/results/Single Peak LSTM Null/tune_with_parameters_2024-08-19_13-32-44/tune_with_parameters_3497d_00009_9_dp=0.5000,hidden_size=500,lr=0.0147,num_layers=1_2024-08-19_13-33-15/checkpoint_000007)\n"
     ]
    },
    {
     "name": "stdout",
     "output_type": "stream",
     "text": [
      "\u001b[36m(tune_with_parameters pid=2038319)\u001b[0m /tmp/tmpp__vj7xv/checkpoint.pt\n",
      "\u001b[36m(tune_with_parameters pid=2038319)\u001b[0m loss: 0.579\u001b[32m [repeated 21x across cluster]\u001b[0m\n"
     ]
    },
    {
     "name": "stderr",
     "output_type": "stream",
     "text": [
      "Val Epoch:9: 0it [00:00, ?it/s]\u001b[32m [repeated 2x across cluster]\u001b[0m\n",
      "Val Epoch:9: 47it [00:00, 103.45it/s]\u001b[32m [repeated 11x across cluster]\u001b[0m\n",
      "\u001b[36m(tune_with_parameters pid=2029911)\u001b[0m Checkpoint successfully created at: Checkpoint(filesystem=local, path=/scratch/users/k23058970/Model training/results/Single Peak LSTM Null/tune_with_parameters_2024-08-19_13-32-44/tune_with_parameters_3497d_00008_8_dp=0.2500,hidden_size=500,lr=0.0015,num_layers=3_2024-08-19_13-33-15/checkpoint_000001)\n",
      "Val Epoch:10: 29it [00:00, 89.63it/s]9)\u001b[0m \n"
     ]
    },
    {
     "name": "stdout",
     "output_type": "stream",
     "text": [
      "\u001b[36m(tune_with_parameters pid=2038319)\u001b[0m /tmp/tmpmxy5omw2/checkpoint.pt\n",
      "\u001b[36m(tune_with_parameters pid=2038319)\u001b[0m loss: 0.556\u001b[32m [repeated 24x across cluster]\u001b[0m\n"
     ]
    },
    {
     "name": "stderr",
     "output_type": "stream",
     "text": [
      "\u001b[36m(tune_with_parameters pid=2038319)\u001b[0m Checkpoint successfully created at: Checkpoint(filesystem=local, path=/scratch/users/k23058970/Model training/results/Single Peak LSTM Null/tune_with_parameters_2024-08-19_13-32-44/tune_with_parameters_3497d_00009_9_dp=0.5000,hidden_size=500,lr=0.0147,num_layers=1_2024-08-19_13-33-15/checkpoint_000008)\n",
      "Val Epoch:11: 0it [00:00, ?it/s]\u001b[32m [repeated 2x across cluster]\u001b[0m\n",
      "Val Epoch:11: 47it [00:00, 95.82it/s] )\u001b[0m \n",
      "Val Epoch:11: 29it [00:00, 96.45it/s]\u001b[32m [repeated 6x across cluster]\u001b[0m\n"
     ]
    },
    {
     "name": "stdout",
     "output_type": "stream",
     "text": [
      "\u001b[36m(tune_with_parameters pid=2038319)\u001b[0m loss: 0.572\u001b[32m [repeated 31x across cluster]\u001b[0m\n"
     ]
    },
    {
     "name": "stderr",
     "output_type": "stream",
     "text": [
      "Val Epoch:13: 0it [00:00, ?it/s]\u001b[32m [repeated 2x across cluster]\u001b[0m\n",
      "Val Epoch:13: 47it [00:00, 69.21it/s]9)\u001b[0m \n",
      "Val Epoch:13: 28it [00:00, 71.88it/s]\u001b[32m [repeated 8x across cluster]\u001b[0m\n"
     ]
    },
    {
     "name": "stdout",
     "output_type": "stream",
     "text": [
      "\u001b[36m(tune_with_parameters pid=2038319)\u001b[0m loss: 0.460\u001b[32m [repeated 30x across cluster]\u001b[0m\n"
     ]
    },
    {
     "name": "stderr",
     "output_type": "stream",
     "text": [
      "Val Epoch:15: 0it [00:00, ?it/s]\u001b[32m [repeated 2x across cluster]\u001b[0m\n",
      "Val Epoch:15: 47it [00:00, 72.04it/s]9)\u001b[0m \n",
      "Val Epoch:15: 28it [00:00, 73.48it/s]\u001b[32m [repeated 8x across cluster]\u001b[0m\n",
      "Val Epoch:16: 47it [00:00, 90.26it/s] )\u001b[0m \n"
     ]
    },
    {
     "name": "stdout",
     "output_type": "stream",
     "text": [
      "\u001b[36m(tune_with_parameters pid=2038319)\u001b[0m loss: 0.654\u001b[32m [repeated 30x across cluster]\u001b[0m\n"
     ]
    },
    {
     "name": "stderr",
     "output_type": "stream",
     "text": [
      "Val Epoch:17: 0it [00:00, ?it/s]\u001b[32m [repeated 2x across cluster]\u001b[0m\n",
      "Val Epoch:17: 47it [00:00, 89.79it/s] )\u001b[0m \n",
      "\u001b[36m(tune_with_parameters pid=2038319)\u001b[0m Checkpoint successfully created at: Checkpoint(filesystem=local, path=/scratch/users/k23058970/Model training/results/Single Peak LSTM Null/tune_with_parameters_2024-08-19_13-32-44/tune_with_parameters_3497d_00009_9_dp=0.5000,hidden_size=500,lr=0.0147,num_layers=1_2024-08-19_13-33-15/checkpoint_000009)\n"
     ]
    },
    {
     "name": "stdout",
     "output_type": "stream",
     "text": [
      "\u001b[36m(tune_with_parameters pid=2038319)\u001b[0m /tmp/tmpw58lkte7/checkpoint.pt\n"
     ]
    },
    {
     "name": "stderr",
     "output_type": "stream",
     "text": [
      "Val Epoch:17: 26it [00:00, 86.33it/s]\u001b[32m [repeated 6x across cluster]\u001b[0m\n"
     ]
    },
    {
     "name": "stdout",
     "output_type": "stream",
     "text": [
      "\u001b[36m(tune_with_parameters pid=2038319)\u001b[0m loss: 0.671\u001b[32m [repeated 30x across cluster]\u001b[0m\n"
     ]
    },
    {
     "name": "stderr",
     "output_type": "stream",
     "text": [
      "Val Epoch:19: 0it [00:00, ?it/s]\u001b[32m [repeated 2x across cluster]\u001b[0m\n",
      "2024-08-19 13:45:27,355\tINFO tune.py:1009 -- Wrote the latest version of all result files and experiment state to '/scratch/users/k23058970/Model training/results/Single Peak LSTM Null/tune_with_parameters_2024-08-19_13-32-44' in 0.0491s.\n",
      "2024-08-19 13:45:27,371\tINFO tune.py:1041 -- Total run time: 732.29 seconds (732.19 seconds for the tuning loop).\n",
      "/users/k23058970/miniforge3/envs/Training/lib/python3.10/site-packages/torch/nn/modules/lazy.py:181: UserWarning: Lazy modules are a new feature under heavy development so changes to the API or functionality can happen at any moment.\n",
      "  warnings.warn('Lazy modules are a new feature under heavy development '\n"
     ]
    },
    {
     "name": "stdout",
     "output_type": "stream",
     "text": [
      "Best trial config: {'hidden_size': 400, 'num_layers': 1, 'dp': 0.2, 'l1': 16, 'l2': 1024, 'lr': 0.0021881780547626096}\n",
      "Best trial final validation loss: 0.24103969192885338\n",
      "Best trial final validation accuracy: 0.854\n",
      "Best trial f1-score: 0.8579638997713724\n"
     ]
    },
    {
     "ename": "RuntimeError",
     "evalue": "Error(s) in loading state_dict for InSilicoLSTM:\n\tsize mismatch for lstm1.weight_ih_l0: copying a param with shape torch.Size([1600, 852]) from checkpoint, the shape in current model is torch.Size([1600, 900]).",
     "output_type": "error",
     "traceback": [
      "\u001b[0;31m---------------------------------------------------------------------------\u001b[0m",
      "\u001b[0;31mRuntimeError\u001b[0m                              Traceback (most recent call last)",
      "Cell \u001b[0;32mIn[2], line 2\u001b[0m\n\u001b[1;32m      1\u001b[0m DATASET_DIR \u001b[38;5;241m=\u001b[39m \u001b[38;5;124m\"\u001b[39m\u001b[38;5;124m/scratch/users/k23058970/Model training/Null Dataset/Single Peak\u001b[39m\u001b[38;5;124m\"\u001b[39m\n\u001b[0;32m----> 2\u001b[0m \u001b[43mmain\u001b[49m\u001b[43m(\u001b[49m\u001b[43mdataset_dir\u001b[49m\u001b[38;5;241;43m=\u001b[39;49m\u001b[43mDATASET_DIR\u001b[49m\u001b[43m,\u001b[49m\u001b[43mdset_name\u001b[49m\u001b[43m \u001b[49m\u001b[38;5;241;43m=\u001b[39;49m\u001b[43m \u001b[49m\u001b[38;5;124;43m\"\u001b[39;49m\u001b[38;5;124;43mSingle Peak LSTM Null\u001b[39;49m\u001b[38;5;124;43m\"\u001b[39;49m\u001b[43m)\u001b[49m\n",
      "File \u001b[0;32m/scratch/users/k23058970/Model training/training_insilico_lstm.py:348\u001b[0m, in \u001b[0;36mmain\u001b[0;34m(dataset_dir, num_samples, max_num_epochs, gpus_per_trial, dset_name)\u001b[0m\n\u001b[1;32m    342\u001b[0m \u001b[38;5;28mprint\u001b[39m(\u001b[38;5;124m\"\u001b[39m\u001b[38;5;124mBest trial final validation accuracy: \u001b[39m\u001b[38;5;132;01m{}\u001b[39;00m\u001b[38;5;124m\"\u001b[39m\u001b[38;5;241m.\u001b[39mformat(\n\u001b[1;32m    343\u001b[0m     best_result\u001b[38;5;241m.\u001b[39mmetrics[\u001b[38;5;124m\"\u001b[39m\u001b[38;5;124maccuracy\u001b[39m\u001b[38;5;124m\"\u001b[39m]))\n\u001b[1;32m    344\u001b[0m \u001b[38;5;28mprint\u001b[39m(\u001b[38;5;124m\"\u001b[39m\u001b[38;5;124mBest trial f1-score: \u001b[39m\u001b[38;5;132;01m{}\u001b[39;00m\u001b[38;5;124m\"\u001b[39m\u001b[38;5;241m.\u001b[39mformat(\n\u001b[1;32m    345\u001b[0m     best_result\u001b[38;5;241m.\u001b[39mmetrics[\u001b[38;5;124m'\u001b[39m\u001b[38;5;124mf1\u001b[39m\u001b[38;5;124m'\u001b[39m]\n\u001b[1;32m    346\u001b[0m ))\n\u001b[0;32m--> 348\u001b[0m \u001b[43mtest_best_model\u001b[49m\u001b[43m(\u001b[49m\u001b[43mbest_result\u001b[49m\u001b[43m,\u001b[49m\u001b[43mdataset_dir\u001b[49m\u001b[38;5;241;43m=\u001b[39;49m\u001b[43mdataset_dir\u001b[49m\u001b[43m)\u001b[49m\n",
      "File \u001b[0;32m/scratch/users/k23058970/Model training/training_insilico_lstm.py:278\u001b[0m, in \u001b[0;36mtest_best_model\u001b[0;34m(best_config, dataset_dir)\u001b[0m\n\u001b[1;32m    275\u001b[0m checkpoint_path \u001b[38;5;241m=\u001b[39m os\u001b[38;5;241m.\u001b[39mpath\u001b[38;5;241m.\u001b[39mjoin(best_config\u001b[38;5;241m.\u001b[39mcheckpoint\u001b[38;5;241m.\u001b[39mto_directory(), \u001b[38;5;124m\"\u001b[39m\u001b[38;5;124mcheckpoint.pt\u001b[39m\u001b[38;5;124m\"\u001b[39m)\n\u001b[1;32m    277\u001b[0m model_state, _ \u001b[38;5;241m=\u001b[39m torch\u001b[38;5;241m.\u001b[39mload(checkpoint_path)\n\u001b[0;32m--> 278\u001b[0m \u001b[43mbest_model\u001b[49m\u001b[38;5;241;43m.\u001b[39;49m\u001b[43mload_state_dict\u001b[49m\u001b[43m(\u001b[49m\u001b[43mmodel_state\u001b[49m\u001b[43m)\u001b[49m\n\u001b[1;32m    279\u001b[0m test_dset \u001b[38;5;241m=\u001b[39m ExVivoDataset(\u001b[38;5;124mf\u001b[39m\u001b[38;5;124m\"\u001b[39m\u001b[38;5;132;01m{\u001b[39;00mdataset_dir\u001b[38;5;132;01m}\u001b[39;00m\u001b[38;5;124m/Test\u001b[39m\u001b[38;5;124m\"\u001b[39m)\n\u001b[1;32m    281\u001b[0m test_dataloader \u001b[38;5;241m=\u001b[39m DataLoader(\n\u001b[1;32m    282\u001b[0m     test_dset,\n\u001b[1;32m    283\u001b[0m     batch_size\u001b[38;5;241m=\u001b[39m\u001b[38;5;241m512\u001b[39m,\n\u001b[1;32m    284\u001b[0m     shuffle\u001b[38;5;241m=\u001b[39m\u001b[38;5;28;01mTrue\u001b[39;00m,\n\u001b[1;32m    285\u001b[0m     num_workers\u001b[38;5;241m=\u001b[39m\u001b[38;5;241m8\u001b[39m,\n\u001b[1;32m    286\u001b[0m )\n",
      "File \u001b[0;32m~/miniforge3/envs/Training/lib/python3.10/site-packages/torch/nn/modules/module.py:2189\u001b[0m, in \u001b[0;36mModule.load_state_dict\u001b[0;34m(self, state_dict, strict, assign)\u001b[0m\n\u001b[1;32m   2184\u001b[0m         error_msgs\u001b[38;5;241m.\u001b[39minsert(\n\u001b[1;32m   2185\u001b[0m             \u001b[38;5;241m0\u001b[39m, \u001b[38;5;124m'\u001b[39m\u001b[38;5;124mMissing key(s) in state_dict: \u001b[39m\u001b[38;5;132;01m{}\u001b[39;00m\u001b[38;5;124m. \u001b[39m\u001b[38;5;124m'\u001b[39m\u001b[38;5;241m.\u001b[39mformat(\n\u001b[1;32m   2186\u001b[0m                 \u001b[38;5;124m'\u001b[39m\u001b[38;5;124m, \u001b[39m\u001b[38;5;124m'\u001b[39m\u001b[38;5;241m.\u001b[39mjoin(\u001b[38;5;124mf\u001b[39m\u001b[38;5;124m'\u001b[39m\u001b[38;5;124m\"\u001b[39m\u001b[38;5;132;01m{\u001b[39;00mk\u001b[38;5;132;01m}\u001b[39;00m\u001b[38;5;124m\"\u001b[39m\u001b[38;5;124m'\u001b[39m \u001b[38;5;28;01mfor\u001b[39;00m k \u001b[38;5;129;01min\u001b[39;00m missing_keys)))\n\u001b[1;32m   2188\u001b[0m \u001b[38;5;28;01mif\u001b[39;00m \u001b[38;5;28mlen\u001b[39m(error_msgs) \u001b[38;5;241m>\u001b[39m \u001b[38;5;241m0\u001b[39m:\n\u001b[0;32m-> 2189\u001b[0m     \u001b[38;5;28;01mraise\u001b[39;00m \u001b[38;5;167;01mRuntimeError\u001b[39;00m(\u001b[38;5;124m'\u001b[39m\u001b[38;5;124mError(s) in loading state_dict for \u001b[39m\u001b[38;5;132;01m{}\u001b[39;00m\u001b[38;5;124m:\u001b[39m\u001b[38;5;130;01m\\n\u001b[39;00m\u001b[38;5;130;01m\\t\u001b[39;00m\u001b[38;5;132;01m{}\u001b[39;00m\u001b[38;5;124m'\u001b[39m\u001b[38;5;241m.\u001b[39mformat(\n\u001b[1;32m   2190\u001b[0m                        \u001b[38;5;28mself\u001b[39m\u001b[38;5;241m.\u001b[39m\u001b[38;5;18m__class__\u001b[39m\u001b[38;5;241m.\u001b[39m\u001b[38;5;18m__name__\u001b[39m, \u001b[38;5;124m\"\u001b[39m\u001b[38;5;130;01m\\n\u001b[39;00m\u001b[38;5;130;01m\\t\u001b[39;00m\u001b[38;5;124m\"\u001b[39m\u001b[38;5;241m.\u001b[39mjoin(error_msgs)))\n\u001b[1;32m   2191\u001b[0m \u001b[38;5;28;01mreturn\u001b[39;00m _IncompatibleKeys(missing_keys, unexpected_keys)\n",
      "\u001b[0;31mRuntimeError\u001b[0m: Error(s) in loading state_dict for InSilicoLSTM:\n\tsize mismatch for lstm1.weight_ih_l0: copying a param with shape torch.Size([1600, 852]) from checkpoint, the shape in current model is torch.Size([1600, 900])."
     ]
    }
   ],
   "source": [
    "DATASET_DIR = \"/scratch/users/k23058970/Model training/Null Dataset/Single Peak\"\n",
    "main(dataset_dir=DATASET_DIR,dset_name = \"Single Peak LSTM Null\")"
   ]
  },
  {
   "cell_type": "code",
   "execution_count": null,
   "metadata": {},
   "outputs": [],
   "source": []
  }
 ],
 "metadata": {
  "kernelspec": {
   "display_name": "Training",
   "language": "python",
   "name": "training"
  },
  "language_info": {
   "codemirror_mode": {
    "name": "ipython",
    "version": 3
   },
   "file_extension": ".py",
   "mimetype": "text/x-python",
   "name": "python",
   "nbconvert_exporter": "python",
   "pygments_lexer": "ipython3",
   "version": "3.10.14"
  }
 },
 "nbformat": 4,
 "nbformat_minor": 4
}
