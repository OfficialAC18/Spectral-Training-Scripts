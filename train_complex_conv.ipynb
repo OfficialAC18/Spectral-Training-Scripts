{
 "cells": [
  {
   "cell_type": "code",
   "execution_count": 1,
   "id": "5d115776-afdf-4da6-9552-79b0bae74001",
   "metadata": {},
   "outputs": [],
   "source": [
    "#Call Main and let it run\n",
    "from training_insilico_conv import main"
   ]
  },
  {
   "cell_type": "code",
   "execution_count": null,
   "id": "b9b5ace6-a806-4353-948a-8112482fd7ce",
   "metadata": {},
   "outputs": [
    {
     "data": {
      "text/html": [
       "<div class=\"tuneStatus\">\n",
       "  <div style=\"display: flex;flex-direction: row\">\n",
       "    <div style=\"display: flex;flex-direction: column;\">\n",
       "      <h3>Tune Status</h3>\n",
       "      <table>\n",
       "<tbody>\n",
       "<tr><td>Current time:</td><td>2024-08-19 23:26:43</td></tr>\n",
       "<tr><td>Running for: </td><td>00:31:29.63        </td></tr>\n",
       "<tr><td>Memory:      </td><td>76.8/1007.5 GiB    </td></tr>\n",
       "</tbody>\n",
       "</table>\n",
       "    </div>\n",
       "    <div class=\"vDivider\"></div>\n",
       "    <div class=\"systemInfo\">\n",
       "      <h3>System Info</h3>\n",
       "      Using AsyncHyperBand: num_stopped=7<br>Bracket: Iter 60.000: -2.988729203905755e-05 | Iter 30.000: -9.092919190684467e-05 | Iter 15.000: -0.0003476776630045509<br>Logical resource usage: 48.0/96 CPUs, 1.0/1 GPUs (0.0/1.0 accelerator_type:A30)\n",
       "    </div>\n",
       "    \n",
       "  </div>\n",
       "  <div class=\"hDivider\"></div>\n",
       "  <div class=\"trialStatus\">\n",
       "    <h3>Trial Status</h3>\n",
       "    <table>\n",
       "<thead>\n",
       "<tr><th>Trial name                      </th><th>status    </th><th>loc               </th><th style=\"text-align: right;\">  dp</th><th style=\"text-align: right;\">  k1</th><th style=\"text-align: right;\">  k2</th><th style=\"text-align: right;\">  k3</th><th style=\"text-align: right;\">  k4</th><th style=\"text-align: right;\">        lr</th><th style=\"text-align: right;\">  iter</th><th style=\"text-align: right;\">  total time (s)</th><th style=\"text-align: right;\">       loss</th><th style=\"text-align: right;\">  accuracy</th><th style=\"text-align: right;\">      f1</th></tr>\n",
       "</thead>\n",
       "<tbody>\n",
       "<tr><td>tune_with_parameters_b687f_00006</td><td>RUNNING   </td><td>10.211.4.4:2877306</td><td style=\"text-align: right;\"> 0.2</td><td style=\"text-align: right;\">   3</td><td style=\"text-align: right;\">   3</td><td style=\"text-align: right;\">   7</td><td style=\"text-align: right;\">   5</td><td style=\"text-align: right;\">0.0112687 </td><td style=\"text-align: right;\">    16</td><td style=\"text-align: right;\">        138.804 </td><td style=\"text-align: right;\">0.000327883</td><td style=\"text-align: right;\">  1       </td><td style=\"text-align: right;\">1       </td></tr>\n",
       "<tr><td>tune_with_parameters_b687f_00008</td><td>RUNNING   </td><td>10.211.4.4:2896064</td><td style=\"text-align: right;\"> 0.5</td><td style=\"text-align: right;\">   5</td><td style=\"text-align: right;\">   1</td><td style=\"text-align: right;\">   7</td><td style=\"text-align: right;\">   1</td><td style=\"text-align: right;\">0.00269068</td><td style=\"text-align: right;\">      </td><td style=\"text-align: right;\">                </td><td style=\"text-align: right;\">           </td><td style=\"text-align: right;\">          </td><td style=\"text-align: right;\">        </td></tr>\n",
       "<tr><td>tune_with_parameters_b687f_00009</td><td>PENDING   </td><td>                  </td><td style=\"text-align: right;\"> 0.2</td><td style=\"text-align: right;\">   7</td><td style=\"text-align: right;\">   5</td><td style=\"text-align: right;\">   5</td><td style=\"text-align: right;\">   3</td><td style=\"text-align: right;\">0.0230406 </td><td style=\"text-align: right;\">      </td><td style=\"text-align: right;\">                </td><td style=\"text-align: right;\">           </td><td style=\"text-align: right;\">          </td><td style=\"text-align: right;\">        </td></tr>\n",
       "<tr><td>tune_with_parameters_b687f_00000</td><td>TERMINATED</td><td>10.211.4.4:2624208</td><td style=\"text-align: right;\"> 0.1</td><td style=\"text-align: right;\">   1</td><td style=\"text-align: right;\">   5</td><td style=\"text-align: right;\">   3</td><td style=\"text-align: right;\">   5</td><td style=\"text-align: right;\">0.0159854 </td><td style=\"text-align: right;\">   100</td><td style=\"text-align: right;\">        851.743 </td><td style=\"text-align: right;\">3.29531e-05</td><td style=\"text-align: right;\">  1       </td><td style=\"text-align: right;\">1       </td></tr>\n",
       "<tr><td>tune_with_parameters_b687f_00001</td><td>TERMINATED</td><td>10.211.4.4:2624209</td><td style=\"text-align: right;\"> 0.2</td><td style=\"text-align: right;\">   1</td><td style=\"text-align: right;\">   7</td><td style=\"text-align: right;\">   5</td><td style=\"text-align: right;\">   3</td><td style=\"text-align: right;\">0.0049396 </td><td style=\"text-align: right;\">   100</td><td style=\"text-align: right;\">        893.617 </td><td style=\"text-align: right;\">1.78334e-05</td><td style=\"text-align: right;\">  1       </td><td style=\"text-align: right;\">1       </td></tr>\n",
       "<tr><td>tune_with_parameters_b687f_00002</td><td>TERMINATED</td><td>10.211.4.4:2759010</td><td style=\"text-align: right;\"> 0.2</td><td style=\"text-align: right;\">   1</td><td style=\"text-align: right;\">   3</td><td style=\"text-align: right;\">   5</td><td style=\"text-align: right;\">   1</td><td style=\"text-align: right;\">0.00842556</td><td style=\"text-align: right;\">   100</td><td style=\"text-align: right;\">        873.143 </td><td style=\"text-align: right;\">2.56308e-05</td><td style=\"text-align: right;\">  1       </td><td style=\"text-align: right;\">1       </td></tr>\n",
       "<tr><td>tune_with_parameters_b687f_00003</td><td>TERMINATED</td><td>10.211.4.4:2764810</td><td style=\"text-align: right;\"> 0.2</td><td style=\"text-align: right;\">   1</td><td style=\"text-align: right;\">   7</td><td style=\"text-align: right;\">   5</td><td style=\"text-align: right;\">   1</td><td style=\"text-align: right;\">0.00711888</td><td style=\"text-align: right;\">    15</td><td style=\"text-align: right;\">         94.8114</td><td style=\"text-align: right;\">0.00793905 </td><td style=\"text-align: right;\">  0.996333</td><td style=\"text-align: right;\">0.996338</td></tr>\n",
       "<tr><td>tune_with_parameters_b687f_00004</td><td>TERMINATED</td><td>10.211.4.4:2780078</td><td style=\"text-align: right;\"> 0.5</td><td style=\"text-align: right;\">   1</td><td style=\"text-align: right;\">   1</td><td style=\"text-align: right;\">   5</td><td style=\"text-align: right;\">   3</td><td style=\"text-align: right;\">0.00597843</td><td style=\"text-align: right;\">    15</td><td style=\"text-align: right;\">         99.5475</td><td style=\"text-align: right;\">0.00469837 </td><td style=\"text-align: right;\">  1       </td><td style=\"text-align: right;\">1       </td></tr>\n",
       "<tr><td>tune_with_parameters_b687f_00005</td><td>TERMINATED</td><td>10.211.4.4:2795286</td><td style=\"text-align: right;\"> 0.1</td><td style=\"text-align: right;\">   7</td><td style=\"text-align: right;\">   1</td><td style=\"text-align: right;\">   3</td><td style=\"text-align: right;\">   5</td><td style=\"text-align: right;\">0.0484403 </td><td style=\"text-align: right;\">    60</td><td style=\"text-align: right;\">        600.365 </td><td style=\"text-align: right;\">3.36521e-05</td><td style=\"text-align: right;\">  1       </td><td style=\"text-align: right;\">1       </td></tr>\n",
       "<tr><td>tune_with_parameters_b687f_00007</td><td>TERMINATED</td><td>10.211.4.4:2879387</td><td style=\"text-align: right;\"> 0.5</td><td style=\"text-align: right;\">   3</td><td style=\"text-align: right;\">   3</td><td style=\"text-align: right;\">   3</td><td style=\"text-align: right;\">   5</td><td style=\"text-align: right;\">0.00699652</td><td style=\"text-align: right;\">    15</td><td style=\"text-align: right;\">        110.837 </td><td style=\"text-align: right;\">0.00174192 </td><td style=\"text-align: right;\">  1       </td><td style=\"text-align: right;\">1       </td></tr>\n",
       "</tbody>\n",
       "</table>\n",
       "  </div>\n",
       "</div>\n",
       "<style>\n",
       ".tuneStatus {\n",
       "  color: var(--jp-ui-font-color1);\n",
       "}\n",
       ".tuneStatus .systemInfo {\n",
       "  display: flex;\n",
       "  flex-direction: column;\n",
       "}\n",
       ".tuneStatus td {\n",
       "  white-space: nowrap;\n",
       "}\n",
       ".tuneStatus .trialStatus {\n",
       "  display: flex;\n",
       "  flex-direction: column;\n",
       "}\n",
       ".tuneStatus h3 {\n",
       "  font-weight: bold;\n",
       "}\n",
       ".tuneStatus .hDivider {\n",
       "  border-bottom-width: var(--jp-border-width);\n",
       "  border-bottom-color: var(--jp-border-color0);\n",
       "  border-bottom-style: solid;\n",
       "}\n",
       ".tuneStatus .vDivider {\n",
       "  border-left-width: var(--jp-border-width);\n",
       "  border-left-color: var(--jp-border-color0);\n",
       "  border-left-style: solid;\n",
       "  margin: 0.5em 1em 0.5em 1em;\n",
       "}\n",
       "</style>\n"
      ],
      "text/plain": [
       "<IPython.core.display.HTML object>"
      ]
     },
     "metadata": {},
     "output_type": "display_data"
    },
    {
     "name": "stderr",
     "output_type": "stream",
     "text": [
      "\u001b[36m(tune_with_parameters pid=2624209)\u001b[0m /users/k23058970/miniforge3/envs/Training/lib/python3.10/site-packages/torch/nn/modules/lazy.py:181: UserWarning: Lazy modules are a new feature under heavy development so changes to the API or functionality can happen at any moment.\n",
      "\u001b[36m(tune_with_parameters pid=2624209)\u001b[0m   warnings.warn('Lazy modules are a new feature under heavy development '\n"
     ]
    },
    {
     "name": "stdout",
     "output_type": "stream",
     "text": [
      "\u001b[36m(tune_with_parameters pid=2624209)\u001b[0m loss: 0.979\n",
      "\u001b[36m(tune_with_parameters pid=2624209)\u001b[0m loss: 0.598\n",
      "\u001b[36m(tune_with_parameters pid=2624209)\u001b[0m loss: 0.527\n",
      "\u001b[36m(tune_with_parameters pid=2624209)\u001b[0m loss: 0.489\n"
     ]
    },
    {
     "name": "stderr",
     "output_type": "stream",
     "text": [
      "Val Epoch:0: 0it [00:00, ?it/s]2624209)\u001b[0m \n",
      "\u001b[36m(tune_with_parameters pid=2624208)\u001b[0m /users/k23058970/miniforge3/envs/Training/lib/python3.10/site-packages/torch/nn/modules/lazy.py:181: UserWarning: Lazy modules are a new feature under heavy development so changes to the API or functionality can happen at any moment.\n",
      "\u001b[36m(tune_with_parameters pid=2624208)\u001b[0m   warnings.warn('Lazy modules are a new feature under heavy development '\n",
      "Val Epoch:0: 1it [00:00,  4.42it/s]209)\u001b[0m \n",
      "Val Epoch:0: 6it [00:00, 20.46it/s]209)\u001b[0m \n"
     ]
    },
    {
     "name": "stdout",
     "output_type": "stream",
     "text": [
      "\u001b[36m(tune_with_parameters pid=2624208)\u001b[0m loss: 0.487\u001b[32m [repeated 24x across cluster] (Ray deduplicates logs by default. Set RAY_DEDUP_LOGS=0 to disable log deduplication, or see https://docs.ray.io/en/master/ray-observability/user-guides/configure-logging.html#log-deduplication for more options.)\u001b[0m\n"
     ]
    },
    {
     "name": "stderr",
     "output_type": "stream",
     "text": [
      "Val Epoch:0: 12it [00:00, 31.84it/s]09)\u001b[0m \n",
      "Val Epoch:0: 16it [00:00, 29.29it/s]09)\u001b[0m \n",
      "Val Epoch:0: 21it [00:00, 33.60it/s]09)\u001b[0m \n",
      "Val Epoch:0: 27it [00:00, 39.84it/s]09)\u001b[0m \n",
      "Val Epoch:0: 32it [00:01, 27.83it/s]09)\u001b[0m \n",
      "Val Epoch:0: 36it [00:01, 17.76it/s]09)\u001b[0m \n",
      "Val Epoch:0: 41it [00:01, 22.34it/s]09)\u001b[0m \n",
      "Val Epoch:0: 47it [00:01, 25.34it/s]09)\u001b[0m \n",
      "\u001b[36m(tune_with_parameters pid=2624209)\u001b[0m Checkpoint successfully created at: Checkpoint(filesystem=local, path=/scratch/users/k23058970/Model training/results/Complex Peak Conv Null/tune_with_parameters_2024-08-19_22-54-38/tune_with_parameters_b687f_00001_1_dp=0.2000,k1=1,k2=7,k3=5,k4=3,lr=0.0049_2024-08-19_22-55-13/checkpoint_000000)\n"
     ]
    },
    {
     "name": "stdout",
     "output_type": "stream",
     "text": [
      "\u001b[36m(tune_with_parameters pid=2624209)\u001b[0m /tmp/tmpahgkxbev/checkpoint.pt\n",
      "\u001b[36m(tune_with_parameters pid=2624208)\u001b[0m /tmp/tmpv6p5assw/checkpoint.pt\n",
      "\u001b[36m(tune_with_parameters pid=2624209)\u001b[0m loss: 0.001\u001b[32m [repeated 8x across cluster]\u001b[0m\n"
     ]
    },
    {
     "name": "stderr",
     "output_type": "stream",
     "text": [
      "Val Epoch:1: 0it [00:00, ?it/s]\u001b[32m [repeated 2x across cluster]\u001b[0m\n",
      "Val Epoch:0: 47it [00:02, 18.41it/s]\u001b[32m [repeated 11x across cluster]\u001b[0m\n",
      "\u001b[36m(tune_with_parameters pid=2624208)\u001b[0m Checkpoint successfully created at: Checkpoint(filesystem=local, path=/scratch/users/k23058970/Model training/results/Complex Peak Conv Null/tune_with_parameters_2024-08-19_22-54-38/tune_with_parameters_b687f_00000_0_dp=0.1000,k1=1,k2=5,k3=3,k4=5,lr=0.0160_2024-08-19_22-55-13/checkpoint_000000)\n"
     ]
    },
    {
     "name": "stdout",
     "output_type": "stream",
     "text": [
      "\u001b[36m(tune_with_parameters pid=2624208)\u001b[0m loss: 0.094\u001b[32m [repeated 24x across cluster]\u001b[0m\n",
      "\u001b[36m(tune_with_parameters pid=2624208)\u001b[0m /tmp/tmp_p8v_vcx/checkpoint.pt\n"
     ]
    },
    {
     "name": "stderr",
     "output_type": "stream",
     "text": [
      "\u001b[36m(tune_with_parameters pid=2624208)\u001b[0m Checkpoint successfully created at: Checkpoint(filesystem=local, path=/scratch/users/k23058970/Model training/results/Complex Peak Conv Null/tune_with_parameters_2024-08-19_22-54-38/tune_with_parameters_b687f_00000_0_dp=0.1000,k1=1,k2=5,k3=3,k4=5,lr=0.0160_2024-08-19_22-55-13/checkpoint_000001)\n"
     ]
    },
    {
     "name": "stdout",
     "output_type": "stream",
     "text": [
      "\u001b[36m(tune_with_parameters pid=2624209)\u001b[0m loss: 0.001\u001b[32m [repeated 11x across cluster]\u001b[0m\n"
     ]
    },
    {
     "name": "stderr",
     "output_type": "stream",
     "text": [
      "Val Epoch:2: 0it [00:00, ?it/s]\u001b[32m [repeated 2x across cluster]\u001b[0m\n",
      "Val Epoch:1: 47it [00:02, 18.21it/s]\u001b[32m [repeated 25x across cluster]\u001b[0m\n"
     ]
    },
    {
     "name": "stdout",
     "output_type": "stream",
     "text": [
      "\u001b[36m(tune_with_parameters pid=2624209)\u001b[0m loss: 0.000\u001b[32m [repeated 20x across cluster]\u001b[0m\n",
      "\u001b[36m(tune_with_parameters pid=2624209)\u001b[0m loss: 0.000\u001b[32m [repeated 21x across cluster]\u001b[0m\n"
     ]
    },
    {
     "name": "stderr",
     "output_type": "stream",
     "text": [
      "Val Epoch:3: 0it [00:00, ?it/s]\u001b[32m [repeated 2x across cluster]\u001b[0m\n",
      "Val Epoch:2: 47it [00:02, 17.64it/s]\u001b[32m [repeated 24x across cluster]\u001b[0m\n"
     ]
    },
    {
     "name": "stdout",
     "output_type": "stream",
     "text": [
      "\u001b[36m(tune_with_parameters pid=2624209)\u001b[0m loss: 0.000\u001b[32m [repeated 10x across cluster]\u001b[0m\n",
      "\u001b[36m(tune_with_parameters pid=2624209)\u001b[0m loss: 0.000\u001b[32m [repeated 24x across cluster]\u001b[0m\n"
     ]
    },
    {
     "name": "stderr",
     "output_type": "stream",
     "text": [
      "Val Epoch:4: 0it [00:00, ?it/s]\u001b[32m [repeated 2x across cluster]\u001b[0m\n",
      "Val Epoch:3: 47it [00:02, 17.39it/s]\u001b[32m [repeated 25x across cluster]\u001b[0m\n",
      "Val Epoch:4: 47it [00:02, 23.46it/s]09)\u001b[0m \n"
     ]
    },
    {
     "name": "stdout",
     "output_type": "stream",
     "text": [
      "\u001b[36m(tune_with_parameters pid=2624209)\u001b[0m loss: 0.000\u001b[32m [repeated 8x across cluster]\u001b[0m\n"
     ]
    },
    {
     "name": "stderr",
     "output_type": "stream",
     "text": [
      "Val Epoch:5: 0it [00:00, ?it/s]\u001b[32m [repeated 2x across cluster]\u001b[0m\n",
      "Val Epoch:4: 47it [00:02, 19.51it/s]\u001b[32m [repeated 21x across cluster]\u001b[0m\n"
     ]
    },
    {
     "name": "stdout",
     "output_type": "stream",
     "text": [
      "\u001b[36m(tune_with_parameters pid=2624208)\u001b[0m loss: 0.001\u001b[32m [repeated 26x across cluster]\u001b[0m\n",
      "\u001b[36m(tune_with_parameters pid=2624209)\u001b[0m loss: 0.000\u001b[32m [repeated 14x across cluster]\u001b[0m\n"
     ]
    },
    {
     "name": "stderr",
     "output_type": "stream",
     "text": [
      "Val Epoch:6: 0it [00:00, ?it/s]\u001b[32m [repeated 2x across cluster]\u001b[0m\n",
      "Val Epoch:5: 47it [00:01, 24.06it/s]\u001b[32m [repeated 23x across cluster]\u001b[0m\n"
     ]
    },
    {
     "name": "stdout",
     "output_type": "stream",
     "text": [
      "\u001b[36m(tune_with_parameters pid=2624209)\u001b[0m loss: 0.000\u001b[32m [repeated 17x across cluster]\u001b[0m\n",
      "\u001b[36m(tune_with_parameters pid=2624208)\u001b[0m loss: 0.001\u001b[32m [repeated 25x across cluster]\u001b[0m\n"
     ]
    },
    {
     "name": "stderr",
     "output_type": "stream",
     "text": [
      "Val Epoch:7: 0it [00:00, ?it/s]\u001b[32m [repeated 2x across cluster]\u001b[0m\n",
      "Val Epoch:6: 47it [00:02, 19.26it/s]\u001b[32m [repeated 23x across cluster]\u001b[0m\n"
     ]
    },
    {
     "name": "stdout",
     "output_type": "stream",
     "text": [
      "\u001b[36m(tune_with_parameters pid=2624209)\u001b[0m loss: 0.000\u001b[32m [repeated 9x across cluster]\u001b[0m\n"
     ]
    },
    {
     "name": "stderr",
     "output_type": "stream",
     "text": [
      "Val Epoch:8: 0it [00:00, ?it/s]\u001b[32m [repeated 2x across cluster]\u001b[0m\n",
      "Val Epoch:7: 47it [00:02, 16.58it/s]\u001b[32m [repeated 21x across cluster]\u001b[0m\n"
     ]
    },
    {
     "name": "stdout",
     "output_type": "stream",
     "text": [
      "\u001b[36m(tune_with_parameters pid=2624209)\u001b[0m loss: 0.000\u001b[32m [repeated 26x across cluster]\u001b[0m\n"
     ]
    },
    {
     "name": "stderr",
     "output_type": "stream",
     "text": [
      "Val Epoch:9: 0it [00:00, ?it/s]\u001b[32m [repeated 2x across cluster]\u001b[0m\n",
      "Val Epoch:8: 47it [00:01, 24.27it/s]\u001b[32m [repeated 22x across cluster]\u001b[0m\n"
     ]
    },
    {
     "name": "stdout",
     "output_type": "stream",
     "text": [
      "\u001b[36m(tune_with_parameters pid=2624209)\u001b[0m loss: 0.000\u001b[32m [repeated 29x across cluster]\u001b[0m\n",
      "\u001b[36m(tune_with_parameters pid=2624209)\u001b[0m loss: 0.000\u001b[32m [repeated 9x across cluster]\u001b[0m\n"
     ]
    },
    {
     "name": "stderr",
     "output_type": "stream",
     "text": [
      "Val Epoch:10: 0it [00:00, ?it/s]\u001b[32m [repeated 2x across cluster]\u001b[0m\n",
      "Val Epoch:9: 47it [00:02, 16.38it/s]\u001b[32m [repeated 27x across cluster]\u001b[0m\n",
      "Val Epoch:10: 47it [00:02, 21.58it/s]8)\u001b[0m \n"
     ]
    },
    {
     "name": "stdout",
     "output_type": "stream",
     "text": [
      "\u001b[36m(tune_with_parameters pid=2624208)\u001b[0m loss: 0.000\u001b[32m [repeated 22x across cluster]\u001b[0m\n"
     ]
    },
    {
     "name": "stderr",
     "output_type": "stream",
     "text": [
      "Val Epoch:11: 0it [00:00, ?it/s]\u001b[32m [repeated 2x across cluster]\u001b[0m\n",
      "Val Epoch:10: 47it [00:02, 20.16it/s]\u001b[32m [repeated 23x across cluster]\u001b[0m\n"
     ]
    },
    {
     "name": "stdout",
     "output_type": "stream",
     "text": [
      "\u001b[36m(tune_with_parameters pid=2624209)\u001b[0m loss: 0.000\u001b[32m [repeated 27x across cluster]\u001b[0m\n"
     ]
    },
    {
     "name": "stderr",
     "output_type": "stream",
     "text": [
      "Val Epoch:11: 47it [00:02, 19.79it/s]9)\u001b[0m \n"
     ]
    },
    {
     "name": "stdout",
     "output_type": "stream",
     "text": [
      "\u001b[36m(tune_with_parameters pid=2624208)\u001b[0m loss: 0.001\u001b[32m [repeated 12x across cluster]\u001b[0m\n"
     ]
    },
    {
     "name": "stderr",
     "output_type": "stream",
     "text": [
      "Val Epoch:12: 0it [00:00, ?it/s]\u001b[32m [repeated 2x across cluster]\u001b[0m\n",
      "Val Epoch:11: 42it [00:02, 27.07it/s]\u001b[32m [repeated 22x across cluster]\u001b[0m\n"
     ]
    },
    {
     "name": "stdout",
     "output_type": "stream",
     "text": [
      "\u001b[36m(tune_with_parameters pid=2624208)\u001b[0m loss: 0.000\u001b[32m [repeated 21x across cluster]\u001b[0m\n"
     ]
    },
    {
     "name": "stderr",
     "output_type": "stream",
     "text": [
      "Val Epoch:12: 47it [00:02, 18.73it/s]9)\u001b[0m \n",
      "Val Epoch:13: 0it [00:00, ?it/s]\u001b[32m [repeated 2x across cluster]\u001b[0m\n",
      "Val Epoch:12: 43it [00:02, 25.35it/s]\u001b[32m [repeated 22x across cluster]\u001b[0m\n"
     ]
    },
    {
     "name": "stdout",
     "output_type": "stream",
     "text": [
      "\u001b[36m(tune_with_parameters pid=2624209)\u001b[0m loss: 0.000\u001b[32m [repeated 25x across cluster]\u001b[0m\n",
      "\u001b[36m(tune_with_parameters pid=2624209)\u001b[0m loss: 0.000\u001b[32m [repeated 12x across cluster]\u001b[0m\n"
     ]
    },
    {
     "name": "stderr",
     "output_type": "stream",
     "text": [
      "Val Epoch:14: 0it [00:00, ?it/s]\u001b[32m [repeated 2x across cluster]\u001b[0m\n",
      "Val Epoch:13: 47it [00:01, 25.26it/s]\u001b[32m [repeated 23x across cluster]\u001b[0m\n"
     ]
    },
    {
     "name": "stdout",
     "output_type": "stream",
     "text": [
      "\u001b[36m(tune_with_parameters pid=2624208)\u001b[0m loss: 0.000\u001b[32m [repeated 23x across cluster]\u001b[0m\n"
     ]
    },
    {
     "name": "stderr",
     "output_type": "stream",
     "text": [
      "Val Epoch:14: 0it [00:00, ?it/s]624209)\u001b[0m \n",
      "Val Epoch:14: 47it [00:02, 23.43it/s]\u001b[32m [repeated 23x across cluster]\u001b[0m\n",
      "Val Epoch:15: 0it [00:00, ?it/s]624208)\u001b[0m \n"
     ]
    },
    {
     "name": "stdout",
     "output_type": "stream",
     "text": [
      "\u001b[36m(tune_with_parameters pid=2624209)\u001b[0m loss: 0.000\u001b[32m [repeated 24x across cluster]\u001b[0m\n"
     ]
    },
    {
     "name": "stderr",
     "output_type": "stream",
     "text": [
      "Val Epoch:15: 19it [00:00, 28.76it/s]\u001b[32m [repeated 5x across cluster]\u001b[0m\n"
     ]
    },
    {
     "name": "stdout",
     "output_type": "stream",
     "text": [
      "\u001b[36m(tune_with_parameters pid=2624209)\u001b[0m loss: 0.000\u001b[32m [repeated 12x across cluster]\u001b[0m\n"
     ]
    },
    {
     "name": "stderr",
     "output_type": "stream",
     "text": [
      "Val Epoch:16: 0it [00:00, ?it/s]\u001b[32m [repeated 2x across cluster]\u001b[0m\n",
      "Val Epoch:15: 47it [00:01, 27.33it/s]\u001b[32m [repeated 19x across cluster]\u001b[0m\n"
     ]
    },
    {
     "name": "stdout",
     "output_type": "stream",
     "text": [
      "\u001b[36m(tune_with_parameters pid=2624208)\u001b[0m loss: 0.000\u001b[32m [repeated 24x across cluster]\u001b[0m\n"
     ]
    },
    {
     "name": "stderr",
     "output_type": "stream",
     "text": [
      "Val Epoch:16: 0it [00:00, ?it/s]624209)\u001b[0m \n",
      "Val Epoch:16: 44it [00:01, 34.40it/s]\u001b[32m [repeated 23x across cluster]\u001b[0m\n"
     ]
    },
    {
     "name": "stdout",
     "output_type": "stream",
     "text": [
      "\u001b[36m(tune_with_parameters pid=2624208)\u001b[0m loss: 0.000\u001b[32m [repeated 18x across cluster]\u001b[0m\n"
     ]
    },
    {
     "name": "stderr",
     "output_type": "stream",
     "text": [
      "Val Epoch:17: 0it [00:00, ?it/s]624208)\u001b[0m \n",
      "Val Epoch:17: 41it [00:01, 35.56it/s]\u001b[32m [repeated 11x across cluster]\u001b[0m\n"
     ]
    },
    {
     "name": "stdout",
     "output_type": "stream",
     "text": [
      "\u001b[36m(tune_with_parameters pid=2624208)\u001b[0m loss: 0.000\u001b[32m [repeated 16x across cluster]\u001b[0m\n"
     ]
    },
    {
     "name": "stderr",
     "output_type": "stream",
     "text": [
      "Val Epoch:17: 0it [00:00, ?it/s]624209)\u001b[0m \n",
      "Val Epoch:18: 0it [00:00, ?it/s]624208)\u001b[0m \n",
      "Val Epoch:17: 47it [00:01, 28.19it/s]\u001b[32m [repeated 14x across cluster]\u001b[0m\n"
     ]
    },
    {
     "name": "stdout",
     "output_type": "stream",
     "text": [
      "\u001b[36m(tune_with_parameters pid=2624209)\u001b[0m loss: 0.000\u001b[32m [repeated 20x across cluster]\u001b[0m\n"
     ]
    },
    {
     "name": "stderr",
     "output_type": "stream",
     "text": [
      "Val Epoch:18: 0it [00:00, ?it/s]624209)\u001b[0m \n",
      "Val Epoch:18: 1it [00:00,  2.21it/s]\u001b[32m [repeated 12x across cluster]\u001b[0m\n"
     ]
    },
    {
     "name": "stdout",
     "output_type": "stream",
     "text": [
      "\u001b[36m(tune_with_parameters pid=2624208)\u001b[0m loss: 0.000\u001b[32m [repeated 14x across cluster]\u001b[0m\n"
     ]
    },
    {
     "name": "stderr",
     "output_type": "stream",
     "text": [
      "Val Epoch:19: 0it [00:00, ?it/s]624208)\u001b[0m \n",
      "Val Epoch:19: 1it [00:00,  2.79it/s]\u001b[32m [repeated 13x across cluster]\u001b[0m\n"
     ]
    },
    {
     "name": "stdout",
     "output_type": "stream",
     "text": [
      "\u001b[36m(tune_with_parameters pid=2624209)\u001b[0m loss: 0.000\u001b[32m [repeated 21x across cluster]\u001b[0m\n"
     ]
    },
    {
     "name": "stderr",
     "output_type": "stream",
     "text": [
      "Val Epoch:19: 0it [00:00, ?it/s]624209)\u001b[0m \n",
      "Val Epoch:19: 41it [00:01, 31.45it/s]\u001b[32m [repeated 22x across cluster]\u001b[0m\n"
     ]
    },
    {
     "name": "stdout",
     "output_type": "stream",
     "text": [
      "\u001b[36m(tune_with_parameters pid=2624208)\u001b[0m loss: 0.000\u001b[32m [repeated 19x across cluster]\u001b[0m\n"
     ]
    },
    {
     "name": "stderr",
     "output_type": "stream",
     "text": [
      "Val Epoch:20: 0it [00:00, ?it/s]624208)\u001b[0m \n",
      "Val Epoch:20: 47it [00:01, 29.62it/s]\u001b[32m [repeated 14x across cluster]\u001b[0m\n"
     ]
    },
    {
     "name": "stdout",
     "output_type": "stream",
     "text": [
      "\u001b[36m(tune_with_parameters pid=2624208)\u001b[0m loss: 0.000\u001b[32m [repeated 17x across cluster]\u001b[0m\n"
     ]
    },
    {
     "name": "stderr",
     "output_type": "stream",
     "text": [
      "Val Epoch:20: 0it [00:00, ?it/s]624209)\u001b[0m \n",
      "Val Epoch:21: 0it [00:00, ?it/s]624208)\u001b[0m \n",
      "Val Epoch:21: 6it [00:00,  9.05it/s]\u001b[32m [repeated 15x across cluster]\u001b[0m\n"
     ]
    },
    {
     "name": "stdout",
     "output_type": "stream",
     "text": [
      "\u001b[36m(tune_with_parameters pid=2624209)\u001b[0m loss: 0.000\u001b[32m [repeated 17x across cluster]\u001b[0m\n"
     ]
    },
    {
     "name": "stderr",
     "output_type": "stream",
     "text": [
      "Val Epoch:21: 0it [00:00, ?it/s]624209)\u001b[0m \n",
      "Val Epoch:21: 5it [00:01,  5.34it/s]\u001b[32m [repeated 11x across cluster]\u001b[0m\n"
     ]
    },
    {
     "name": "stdout",
     "output_type": "stream",
     "text": [
      "\u001b[36m(tune_with_parameters pid=2624208)\u001b[0m loss: 0.000\u001b[32m [repeated 18x across cluster]\u001b[0m\n"
     ]
    },
    {
     "name": "stderr",
     "output_type": "stream",
     "text": [
      "Val Epoch:22: 0it [00:00, ?it/s]624208)\u001b[0m \n",
      "Val Epoch:22: 36it [00:01, 23.43it/s]\u001b[32m [repeated 20x across cluster]\u001b[0m\n"
     ]
    },
    {
     "name": "stdout",
     "output_type": "stream",
     "text": [
      "\u001b[36m(tune_with_parameters pid=2624209)\u001b[0m loss: 0.000\u001b[32m [repeated 13x across cluster]\u001b[0m\n"
     ]
    },
    {
     "name": "stderr",
     "output_type": "stream",
     "text": [
      "Val Epoch:22: 0it [00:00, ?it/s]624209)\u001b[0m \n",
      "Val Epoch:22: 26it [00:01, 19.87it/s]\u001b[32m [repeated 10x across cluster]\u001b[0m\n"
     ]
    },
    {
     "name": "stdout",
     "output_type": "stream",
     "text": [
      "\u001b[36m(tune_with_parameters pid=2624208)\u001b[0m loss: 0.000\u001b[32m [repeated 20x across cluster]\u001b[0m\n"
     ]
    },
    {
     "name": "stderr",
     "output_type": "stream",
     "text": [
      "Val Epoch:23: 0it [00:00, ?it/s]624208)\u001b[0m \n"
     ]
    },
    {
     "name": "stdout",
     "output_type": "stream",
     "text": [
      "\u001b[36m(tune_with_parameters pid=2624209)\u001b[0m loss: 0.000\u001b[32m [repeated 12x across cluster]\u001b[0m\n"
     ]
    },
    {
     "name": "stderr",
     "output_type": "stream",
     "text": [
      "Val Epoch:23: 47it [00:01, 24.47it/s]\u001b[32m [repeated 17x across cluster]\u001b[0m\n",
      "Val Epoch:23: 0it [00:00, ?it/s]624209)\u001b[0m \n",
      "Val Epoch:23: 47it [00:01, 27.42it/s]9)\u001b[0m \n",
      "Val Epoch:24: 0it [00:00, ?it/s]624208)\u001b[0m \n"
     ]
    },
    {
     "name": "stdout",
     "output_type": "stream",
     "text": [
      "\u001b[36m(tune_with_parameters pid=2624209)\u001b[0m loss: 0.000\u001b[32m [repeated 21x across cluster]\u001b[0m\n"
     ]
    },
    {
     "name": "stderr",
     "output_type": "stream",
     "text": [
      "Val Epoch:24: 47it [00:01, 32.67it/s]\u001b[32m [repeated 20x across cluster]\u001b[0m\n",
      "Val Epoch:24: 24it [00:00, 36.21it/s]8)\u001b[0m \n",
      "Val Epoch:24: 0it [00:00, ?it/s]624209)\u001b[0m \n"
     ]
    },
    {
     "name": "stdout",
     "output_type": "stream",
     "text": [
      "\u001b[36m(tune_with_parameters pid=2624208)\u001b[0m loss: 0.000\u001b[32m [repeated 23x across cluster]\u001b[0m\n"
     ]
    },
    {
     "name": "stderr",
     "output_type": "stream",
     "text": [
      "Val Epoch:24: 25it [00:01, 31.59it/s]\u001b[32m [repeated 7x across cluster]\u001b[0m\n",
      "Val Epoch:25: 0it [00:00, ?it/s]624208)\u001b[0m \n"
     ]
    },
    {
     "name": "stdout",
     "output_type": "stream",
     "text": [
      "\u001b[36m(tune_with_parameters pid=2624209)\u001b[0m loss: 0.000\u001b[32m [repeated 11x across cluster]\u001b[0m\n"
     ]
    },
    {
     "name": "stderr",
     "output_type": "stream",
     "text": [
      "Val Epoch:25: 47it [00:01, 24.10it/s]\u001b[32m [repeated 16x across cluster]\u001b[0m\n",
      "Val Epoch:25: 0it [00:00, ?it/s]624209)\u001b[0m \n"
     ]
    },
    {
     "name": "stdout",
     "output_type": "stream",
     "text": [
      "\u001b[36m(tune_with_parameters pid=2624208)\u001b[0m loss: 0.000\u001b[32m [repeated 22x across cluster]\u001b[0m\n"
     ]
    },
    {
     "name": "stderr",
     "output_type": "stream",
     "text": [
      "Val Epoch:26: 0it [00:00, ?it/s]624208)\u001b[0m \n"
     ]
    },
    {
     "name": "stdout",
     "output_type": "stream",
     "text": [
      "\u001b[36m(tune_with_parameters pid=2624209)\u001b[0m loss: 0.000\u001b[32m [repeated 12x across cluster]\u001b[0m\n"
     ]
    },
    {
     "name": "stderr",
     "output_type": "stream",
     "text": [
      "Val Epoch:26: 47it [00:02, 19.01it/s]\u001b[32m [repeated 24x across cluster]\u001b[0m\n",
      "Val Epoch:26: 0it [00:00, ?it/s]624209)\u001b[0m \n",
      "Val Epoch:27: 0it [00:00, ?it/s]624208)\u001b[0m \n"
     ]
    },
    {
     "name": "stdout",
     "output_type": "stream",
     "text": [
      "\u001b[36m(tune_with_parameters pid=2624209)\u001b[0m loss: 0.000\u001b[32m [repeated 21x across cluster]\u001b[0m\n",
      "\u001b[36m(tune_with_parameters pid=2624208)\u001b[0m loss: 0.000\u001b[32m [repeated 25x across cluster]\u001b[0m\n"
     ]
    },
    {
     "name": "stderr",
     "output_type": "stream",
     "text": [
      "Val Epoch:27: 47it [00:03, 15.50it/s]\u001b[32m [repeated 22x across cluster]\u001b[0m\n",
      "Val Epoch:27: 0it [00:00, ?it/s]624209)\u001b[0m \n",
      "Val Epoch:28: 0it [00:00, ?it/s]624208)\u001b[0m \n",
      "Val Epoch:28: 39it [00:01, 46.47it/s]8)\u001b[0m \n",
      "Val Epoch:28: 47it [00:02, 22.42it/s]8)\u001b[0m \n"
     ]
    },
    {
     "name": "stdout",
     "output_type": "stream",
     "text": [
      "\u001b[36m(tune_with_parameters pid=2624209)\u001b[0m loss: 0.000\u001b[32m [repeated 12x across cluster]\u001b[0m\n"
     ]
    },
    {
     "name": "stderr",
     "output_type": "stream",
     "text": [
      "Val Epoch:27: 47it [00:02, 22.73it/s]\u001b[32m [repeated 18x across cluster]\u001b[0m\n",
      "Val Epoch:28: 0it [00:00, ?it/s]624209)\u001b[0m \n",
      "Val Epoch:29: 0it [00:00, ?it/s]624208)\u001b[0m \n",
      "Val Epoch:28: 47it [00:02, 19.56it/s]9)\u001b[0m \n"
     ]
    },
    {
     "name": "stdout",
     "output_type": "stream",
     "text": [
      "\u001b[36m(tune_with_parameters pid=2624209)\u001b[0m loss: 0.000\u001b[32m [repeated 23x across cluster]\u001b[0m\n",
      "\u001b[36m(tune_with_parameters pid=2624209)\u001b[0m loss: 0.000\u001b[32m [repeated 26x across cluster]\u001b[0m\n"
     ]
    },
    {
     "name": "stderr",
     "output_type": "stream",
     "text": [
      "Val Epoch:30: 0it [00:00, ?it/s]624208)\u001b[0m \n",
      "Val Epoch:29: 41it [00:02, 12.91it/s]\u001b[32m [repeated 21x across cluster]\u001b[0m\n",
      "Val Epoch:29: 47it [00:02, 17.08it/s]8)\u001b[0m \n",
      "Val Epoch:29: 0it [00:00, ?it/s]624209)\u001b[0m \n"
     ]
    },
    {
     "name": "stdout",
     "output_type": "stream",
     "text": [
      "\u001b[36m(tune_with_parameters pid=2624209)\u001b[0m loss: 0.000\u001b[32m [repeated 7x across cluster]\u001b[0m\n"
     ]
    },
    {
     "name": "stderr",
     "output_type": "stream",
     "text": [
      "Val Epoch:29: 47it [00:02, 21.86it/s]\u001b[32m [repeated 23x across cluster]\u001b[0m\n",
      "Val Epoch:31: 0it [00:00, ?it/s]624208)\u001b[0m \n",
      "Val Epoch:30: 0it [00:00, ?it/s]624209)\u001b[0m \n"
     ]
    },
    {
     "name": "stdout",
     "output_type": "stream",
     "text": [
      "\u001b[36m(tune_with_parameters pid=2624208)\u001b[0m loss: 0.000\u001b[32m [repeated 27x across cluster]\u001b[0m\n",
      "\u001b[36m(tune_with_parameters pid=2624208)\u001b[0m loss: 0.000\u001b[32m [repeated 26x across cluster]\u001b[0m\n"
     ]
    },
    {
     "name": "stderr",
     "output_type": "stream",
     "text": [
      "Val Epoch:30: 47it [00:02, 18.92it/s]\u001b[32m [repeated 23x across cluster]\u001b[0m\n",
      "Val Epoch:32: 0it [00:00, ?it/s]624208)\u001b[0m \n",
      "Val Epoch:31: 0it [00:00, ?it/s]624209)\u001b[0m \n"
     ]
    },
    {
     "name": "stdout",
     "output_type": "stream",
     "text": [
      "\u001b[36m(tune_with_parameters pid=2624209)\u001b[0m loss: 0.000\u001b[32m [repeated 6x across cluster]\u001b[0m\n"
     ]
    },
    {
     "name": "stderr",
     "output_type": "stream",
     "text": [
      "Val Epoch:31: 47it [00:02, 17.74it/s]\u001b[32m [repeated 22x across cluster]\u001b[0m\n",
      "Val Epoch:33: 0it [00:00, ?it/s]624208)\u001b[0m \n"
     ]
    },
    {
     "name": "stdout",
     "output_type": "stream",
     "text": [
      "\u001b[36m(tune_with_parameters pid=2624209)\u001b[0m loss: 0.000\u001b[32m [repeated 26x across cluster]\u001b[0m\n"
     ]
    },
    {
     "name": "stderr",
     "output_type": "stream",
     "text": [
      "Val Epoch:32: 0it [00:00, ?it/s]624209)\u001b[0m \n",
      "Val Epoch:32: 47it [00:02, 16.32it/s]9)\u001b[0m \n"
     ]
    },
    {
     "name": "stdout",
     "output_type": "stream",
     "text": [
      "\u001b[36m(tune_with_parameters pid=2624208)\u001b[0m loss: 0.000\u001b[32m [repeated 11x across cluster]\u001b[0m\n"
     ]
    },
    {
     "name": "stderr",
     "output_type": "stream",
     "text": [
      "Val Epoch:32: 41it [00:02, 24.97it/s]\u001b[32m [repeated 22x across cluster]\u001b[0m\n",
      "Val Epoch:34: 0it [00:00, ?it/s]624208)\u001b[0m \n",
      "Val Epoch:33: 0it [00:00, ?it/s]624209)\u001b[0m \n"
     ]
    },
    {
     "name": "stdout",
     "output_type": "stream",
     "text": [
      "\u001b[36m(tune_with_parameters pid=2624208)\u001b[0m loss: 0.000\u001b[32m [repeated 21x across cluster]\u001b[0m\n"
     ]
    },
    {
     "name": "stderr",
     "output_type": "stream",
     "text": [
      "Val Epoch:33: 47it [00:03, 13.98it/s]\u001b[32m [repeated 24x across cluster]\u001b[0m\n",
      "Val Epoch:35: 0it [00:00, ?it/s]624208)\u001b[0m \n"
     ]
    },
    {
     "name": "stdout",
     "output_type": "stream",
     "text": [
      "\u001b[36m(tune_with_parameters pid=2624209)\u001b[0m loss: 0.000\u001b[32m [repeated 24x across cluster]\u001b[0m\n"
     ]
    },
    {
     "name": "stderr",
     "output_type": "stream",
     "text": [
      "Val Epoch:34: 0it [00:00, ?it/s]624209)\u001b[0m \n",
      "Val Epoch:34: 38it [00:01, 27.94it/s]\u001b[32m [repeated 21x across cluster]\u001b[0m\n"
     ]
    },
    {
     "name": "stdout",
     "output_type": "stream",
     "text": [
      "\u001b[36m(tune_with_parameters pid=2624209)\u001b[0m loss: 0.000\u001b[32m [repeated 14x across cluster]\u001b[0m\n"
     ]
    },
    {
     "name": "stderr",
     "output_type": "stream",
     "text": [
      "Val Epoch:36: 0it [00:00, ?it/s]624208)\u001b[0m \n",
      "Val Epoch:36: 36it [00:02, 22.42it/s]\u001b[32m [repeated 11x across cluster]\u001b[0m\n"
     ]
    },
    {
     "name": "stdout",
     "output_type": "stream",
     "text": [
      "\u001b[36m(tune_with_parameters pid=2624208)\u001b[0m loss: 0.000\u001b[32m [repeated 19x across cluster]\u001b[0m\n"
     ]
    },
    {
     "name": "stderr",
     "output_type": "stream",
     "text": [
      "Val Epoch:35: 0it [00:00, ?it/s]624209)\u001b[0m \n"
     ]
    },
    {
     "name": "stdout",
     "output_type": "stream",
     "text": [
      "\u001b[36m(tune_with_parameters pid=2624208)\u001b[0m loss: 0.000\u001b[32m [repeated 21x across cluster]\u001b[0m\n"
     ]
    },
    {
     "name": "stderr",
     "output_type": "stream",
     "text": [
      "Val Epoch:35: 47it [00:02, 22.53it/s]\u001b[32m [repeated 15x across cluster]\u001b[0m\n",
      "Val Epoch:37: 0it [00:00, ?it/s]624208)\u001b[0m \n",
      "Val Epoch:36: 0it [00:00, ?it/s]624209)\u001b[0m \n"
     ]
    },
    {
     "name": "stdout",
     "output_type": "stream",
     "text": [
      "\u001b[36m(tune_with_parameters pid=2624208)\u001b[0m loss: 0.000\u001b[32m [repeated 15x across cluster]\u001b[0m\n"
     ]
    },
    {
     "name": "stderr",
     "output_type": "stream",
     "text": [
      "Val Epoch:36: 24it [00:01, 30.09it/s]\u001b[32m [repeated 17x across cluster]\u001b[0m\n",
      "Val Epoch:38: 0it [00:00, ?it/s]624208)\u001b[0m \n"
     ]
    },
    {
     "name": "stdout",
     "output_type": "stream",
     "text": [
      "\u001b[36m(tune_with_parameters pid=2624209)\u001b[0m loss: 0.000\u001b[32m [repeated 19x across cluster]\u001b[0m\n"
     ]
    },
    {
     "name": "stderr",
     "output_type": "stream",
     "text": [
      "Val Epoch:38: 4it [00:00,  6.90it/s]\u001b[32m [repeated 7x across cluster]\u001b[0m\n",
      "Val Epoch:37: 0it [00:00, ?it/s]624209)\u001b[0m \n"
     ]
    },
    {
     "name": "stdout",
     "output_type": "stream",
     "text": [
      "\u001b[36m(tune_with_parameters pid=2624208)\u001b[0m loss: 0.000\u001b[32m [repeated 16x across cluster]\u001b[0m\n"
     ]
    },
    {
     "name": "stderr",
     "output_type": "stream",
     "text": [
      "Val Epoch:37: 47it [00:01, 33.33it/s]\u001b[32m [repeated 19x across cluster]\u001b[0m\n",
      "Val Epoch:39: 0it [00:00, ?it/s]624208)\u001b[0m \n"
     ]
    },
    {
     "name": "stdout",
     "output_type": "stream",
     "text": [
      "\u001b[36m(tune_with_parameters pid=2624209)\u001b[0m loss: 0.000\u001b[32m [repeated 17x across cluster]\u001b[0m\n"
     ]
    },
    {
     "name": "stderr",
     "output_type": "stream",
     "text": [
      "Val Epoch:38: 0it [00:00, ?it/s]624209)\u001b[0m \n",
      "Val Epoch:38: 1it [00:00,  1.85it/s]\u001b[32m [repeated 12x across cluster]\u001b[0m\n"
     ]
    },
    {
     "name": "stdout",
     "output_type": "stream",
     "text": [
      "\u001b[36m(tune_with_parameters pid=2624208)\u001b[0m loss: 0.000\u001b[32m [repeated 21x across cluster]\u001b[0m\n"
     ]
    },
    {
     "name": "stderr",
     "output_type": "stream",
     "text": [
      "Val Epoch:40: 0it [00:00, ?it/s]624208)\u001b[0m \n",
      "Val Epoch:40: 29it [00:01, 21.81it/s]\u001b[32m [repeated 19x across cluster]\u001b[0m\n"
     ]
    },
    {
     "name": "stdout",
     "output_type": "stream",
     "text": [
      "\u001b[36m(tune_with_parameters pid=2624209)\u001b[0m loss: 0.000\u001b[32m [repeated 15x across cluster]\u001b[0m\n"
     ]
    },
    {
     "name": "stderr",
     "output_type": "stream",
     "text": [
      "Val Epoch:39: 0it [00:00, ?it/s]624209)\u001b[0m \n",
      "Val Epoch:39: 19it [00:01, 24.88it/s]\u001b[32m [repeated 10x across cluster]\u001b[0m\n"
     ]
    },
    {
     "name": "stdout",
     "output_type": "stream",
     "text": [
      "\u001b[36m(tune_with_parameters pid=2624209)\u001b[0m loss: 0.000\u001b[32m [repeated 17x across cluster]\u001b[0m\n"
     ]
    },
    {
     "name": "stderr",
     "output_type": "stream",
     "text": [
      "Val Epoch:41: 0it [00:00, ?it/s]624208)\u001b[0m \n",
      "Val Epoch:41: 47it [00:01, 31.42it/s]8)\u001b[0m \n",
      "Val Epoch:40: 0it [00:00, ?it/s]624209)\u001b[0m \n",
      "Val Epoch:41: 40it [00:01, 36.40it/s]\u001b[32m [repeated 16x across cluster]\u001b[0m\n"
     ]
    },
    {
     "name": "stdout",
     "output_type": "stream",
     "text": [
      "\u001b[36m(tune_with_parameters pid=2624208)\u001b[0m loss: 0.000\u001b[32m [repeated 20x across cluster]\u001b[0m\n",
      "\u001b[36m(tune_with_parameters pid=2624209)\u001b[0m loss: 0.000\u001b[32m [repeated 12x across cluster]\u001b[0m\n"
     ]
    },
    {
     "name": "stderr",
     "output_type": "stream",
     "text": [
      "Val Epoch:41: 0it [00:00, ?it/s]\u001b[32m [repeated 2x across cluster]\u001b[0m\n",
      "Val Epoch:42: 47it [00:01, 30.28it/s]\u001b[32m [repeated 22x across cluster]\u001b[0m\n"
     ]
    },
    {
     "name": "stdout",
     "output_type": "stream",
     "text": [
      "\u001b[36m(tune_with_parameters pid=2624209)\u001b[0m loss: 0.000\u001b[32m [repeated 25x across cluster]\u001b[0m\n",
      "\u001b[36m(tune_with_parameters pid=2624208)\u001b[0m loss: 0.000\u001b[32m [repeated 25x across cluster]\u001b[0m\n"
     ]
    },
    {
     "name": "stderr",
     "output_type": "stream",
     "text": [
      "Val Epoch:42: 0it [00:00, ?it/s]\u001b[32m [repeated 2x across cluster]\u001b[0m\n",
      "Val Epoch:43: 47it [00:02, 19.12it/s]\u001b[32m [repeated 23x across cluster]\u001b[0m\n",
      "Val Epoch:44: 17it [00:00, 30.34it/s]8)\u001b[0m \n"
     ]
    },
    {
     "name": "stdout",
     "output_type": "stream",
     "text": [
      "\u001b[36m(tune_with_parameters pid=2624208)\u001b[0m loss: 0.000\u001b[32m [repeated 8x across cluster]\u001b[0m\n"
     ]
    },
    {
     "name": "stderr",
     "output_type": "stream",
     "text": [
      "Val Epoch:43: 0it [00:00, ?it/s]\u001b[32m [repeated 2x across cluster]\u001b[0m\n",
      "Val Epoch:44: 47it [00:02, 21.77it/s]\u001b[32m [repeated 22x across cluster]\u001b[0m\n"
     ]
    },
    {
     "name": "stdout",
     "output_type": "stream",
     "text": [
      "\u001b[36m(tune_with_parameters pid=2624209)\u001b[0m loss: 0.000\u001b[32m [repeated 27x across cluster]\u001b[0m\n",
      "\u001b[36m(tune_with_parameters pid=2624209)\u001b[0m loss: 0.000\u001b[32m [repeated 27x across cluster]\u001b[0m\n"
     ]
    },
    {
     "name": "stderr",
     "output_type": "stream",
     "text": [
      "Val Epoch:44: 0it [00:00, ?it/s]\u001b[32m [repeated 2x across cluster]\u001b[0m\n",
      "Val Epoch:45: 47it [00:02, 19.52it/s]\u001b[32m [repeated 23x across cluster]\u001b[0m\n"
     ]
    },
    {
     "name": "stdout",
     "output_type": "stream",
     "text": [
      "\u001b[36m(tune_with_parameters pid=2624209)\u001b[0m loss: 0.000\u001b[32m [repeated 5x across cluster]\u001b[0m\n"
     ]
    },
    {
     "name": "stderr",
     "output_type": "stream",
     "text": [
      "Val Epoch:45: 0it [00:00, ?it/s]\u001b[32m [repeated 2x across cluster]\u001b[0m\n",
      "Val Epoch:46: 47it [00:02, 18.35it/s]\u001b[32m [repeated 23x across cluster]\u001b[0m\n"
     ]
    },
    {
     "name": "stdout",
     "output_type": "stream",
     "text": [
      "\u001b[36m(tune_with_parameters pid=2624208)\u001b[0m loss: 0.000\u001b[32m [repeated 28x across cluster]\u001b[0m\n"
     ]
    },
    {
     "name": "stderr",
     "output_type": "stream",
     "text": [
      "Val Epoch:48: 0it [00:00, ?it/s]\u001b[32m [repeated 2x across cluster]\u001b[0m\n",
      "Val Epoch:45: 47it [00:01, 25.50it/s]\u001b[32m [repeated 24x across cluster]\u001b[0m\n"
     ]
    },
    {
     "name": "stdout",
     "output_type": "stream",
     "text": [
      "\u001b[36m(tune_with_parameters pid=2624209)\u001b[0m loss: 0.000\u001b[32m [repeated 30x across cluster]\u001b[0m\n"
     ]
    },
    {
     "name": "stderr",
     "output_type": "stream",
     "text": [
      "Val Epoch:47: 0it [00:00, ?it/s]\u001b[32m [repeated 2x across cluster]\u001b[0m\n",
      "Val Epoch:48: 47it [00:02, 22.48it/s]\u001b[32m [repeated 23x across cluster]\u001b[0m\n",
      "Val Epoch:47: 47it [00:02, 21.93it/s]9)\u001b[0m \n"
     ]
    },
    {
     "name": "stdout",
     "output_type": "stream",
     "text": [
      "\u001b[36m(tune_with_parameters pid=2624208)\u001b[0m loss: 0.000\u001b[32m [repeated 30x across cluster]\u001b[0m\n"
     ]
    },
    {
     "name": "stderr",
     "output_type": "stream",
     "text": [
      "Val Epoch:50: 0it [00:00, ?it/s]\u001b[32m [repeated 2x across cluster]\u001b[0m\n",
      "Val Epoch:49: 47it [00:01, 24.62it/s]\u001b[32m [repeated 21x across cluster]\u001b[0m\n"
     ]
    },
    {
     "name": "stdout",
     "output_type": "stream",
     "text": [
      "\u001b[36m(tune_with_parameters pid=2624209)\u001b[0m loss: 0.000\u001b[32m [repeated 29x across cluster]\u001b[0m\n",
      "\u001b[36m(tune_with_parameters pid=2624208)\u001b[0m loss: 0.000\u001b[32m [repeated 8x across cluster]\u001b[0m\n"
     ]
    },
    {
     "name": "stderr",
     "output_type": "stream",
     "text": [
      "Val Epoch:51: 0it [00:00, ?it/s]\u001b[32m [repeated 2x across cluster]\u001b[0m\n",
      "Val Epoch:48: 47it [00:02, 18.07it/s]\u001b[32m [repeated 24x across cluster]\u001b[0m\n",
      "Val Epoch:51: 47it [00:02, 16.01it/s]8)\u001b[0m \n"
     ]
    },
    {
     "name": "stdout",
     "output_type": "stream",
     "text": [
      "\u001b[36m(tune_with_parameters pid=2624208)\u001b[0m loss: 0.000\u001b[32m [repeated 23x across cluster]\u001b[0m\n"
     ]
    },
    {
     "name": "stderr",
     "output_type": "stream",
     "text": [
      "Val Epoch:52: 0it [00:00, ?it/s]\u001b[32m [repeated 2x across cluster]\u001b[0m\n",
      "Val Epoch:49: 47it [00:02, 21.31it/s]\u001b[32m [repeated 22x across cluster]\u001b[0m\n"
     ]
    },
    {
     "name": "stdout",
     "output_type": "stream",
     "text": [
      "\u001b[36m(tune_with_parameters pid=2624209)\u001b[0m loss: 0.000\u001b[32m [repeated 26x across cluster]\u001b[0m\n"
     ]
    },
    {
     "name": "stderr",
     "output_type": "stream",
     "text": [
      "Val Epoch:52: 47it [00:02, 22.39it/s]8)\u001b[0m \n"
     ]
    },
    {
     "name": "stdout",
     "output_type": "stream",
     "text": [
      "\u001b[36m(tune_with_parameters pid=2624208)\u001b[0m loss: 0.000\u001b[32m [repeated 13x across cluster]\u001b[0m\n",
      "\u001b[36m(tune_with_parameters pid=2624209)\u001b[0m \n"
     ]
    },
    {
     "name": "stderr",
     "output_type": "stream",
     "text": [
      "Val Epoch:53: 0it [00:00, ?it/s]\u001b[32m [repeated 2x across cluster]\u001b[0m\n",
      "Val Epoch:50: 47it [00:02, 20.13it/s]\u001b[32m [repeated 22x across cluster]\u001b[0m\n"
     ]
    },
    {
     "name": "stdout",
     "output_type": "stream",
     "text": [
      "\u001b[36m(tune_with_parameters pid=2624208)\u001b[0m loss: 0.000\u001b[32m [repeated 21x across cluster]\u001b[0m\n",
      "\u001b[36m(tune_with_parameters pid=2624209)\u001b[0m loss: 0.000\u001b[32m [repeated 24x across cluster]\u001b[0m\n"
     ]
    },
    {
     "name": "stderr",
     "output_type": "stream",
     "text": [
      "Val Epoch:54: 0it [00:00, ?it/s]\u001b[32m [repeated 2x across cluster]\u001b[0m\n",
      "Val Epoch:51: 47it [00:02, 22.17it/s]\u001b[32m [repeated 22x across cluster]\u001b[0m\n"
     ]
    },
    {
     "name": "stdout",
     "output_type": "stream",
     "text": [
      "\u001b[36m(tune_with_parameters pid=2624208)\u001b[0m loss: 0.000\u001b[32m [repeated 11x across cluster]\u001b[0m\n"
     ]
    },
    {
     "name": "stderr",
     "output_type": "stream",
     "text": [
      "Val Epoch:55: 0it [00:00, ?it/s]\u001b[32m [repeated 2x across cluster]\u001b[0m\n",
      "Val Epoch:52: 47it [00:01, 30.27it/s]\u001b[32m [repeated 24x across cluster]\u001b[0m\n"
     ]
    },
    {
     "name": "stdout",
     "output_type": "stream",
     "text": [
      "\u001b[36m(tune_with_parameters pid=2624209)\u001b[0m loss: 0.000\u001b[32m [repeated 21x across cluster]\u001b[0m\n"
     ]
    },
    {
     "name": "stderr",
     "output_type": "stream",
     "text": [
      "Val Epoch:53: 0it [00:00, ?it/s]624209)\u001b[0m \n",
      "Val Epoch:53: 44it [00:01, 31.85it/s]\u001b[32m [repeated 23x across cluster]\u001b[0m\n"
     ]
    },
    {
     "name": "stdout",
     "output_type": "stream",
     "text": [
      "\u001b[36m(tune_with_parameters pid=2624208)\u001b[0m loss: 0.000\u001b[32m [repeated 11x across cluster]\u001b[0m\n"
     ]
    },
    {
     "name": "stderr",
     "output_type": "stream",
     "text": [
      "Val Epoch:56: 0it [00:00, ?it/s]624208)\u001b[0m \n",
      "Val Epoch:56: 34it [00:01, 36.17it/s]\u001b[32m [repeated 10x across cluster]\u001b[0m\n"
     ]
    },
    {
     "name": "stdout",
     "output_type": "stream",
     "text": [
      "\u001b[36m(tune_with_parameters pid=2624209)\u001b[0m loss: 0.000\u001b[32m [repeated 21x across cluster]\u001b[0m\n"
     ]
    },
    {
     "name": "stderr",
     "output_type": "stream",
     "text": [
      "Val Epoch:54: 0it [00:00, ?it/s]624209)\u001b[0m \n"
     ]
    },
    {
     "name": "stdout",
     "output_type": "stream",
     "text": [
      "\u001b[36m(tune_with_parameters pid=2624209)\u001b[0m loss: 0.000\u001b[32m [repeated 21x across cluster]\u001b[0m\n"
     ]
    },
    {
     "name": "stderr",
     "output_type": "stream",
     "text": [
      "Val Epoch:57: 0it [00:00, ?it/s]624208)\u001b[0m \n",
      "Val Epoch:54: 47it [00:01, 25.11it/s]\u001b[32m [repeated 15x across cluster]\u001b[0m\n"
     ]
    },
    {
     "name": "stdout",
     "output_type": "stream",
     "text": [
      "\u001b[36m(tune_with_parameters pid=2624208)\u001b[0m loss: 0.000\u001b[32m [repeated 14x across cluster]\u001b[0m\n"
     ]
    },
    {
     "name": "stderr",
     "output_type": "stream",
     "text": [
      "Val Epoch:55: 0it [00:00, ?it/s]624209)\u001b[0m \n",
      "Val Epoch:55: 3it [00:00,  8.44it/s]\u001b[32m [repeated 14x across cluster]\u001b[0m\n",
      "Val Epoch:58: 0it [00:00, ?it/s]624208)\u001b[0m \n"
     ]
    },
    {
     "name": "stdout",
     "output_type": "stream",
     "text": [
      "\u001b[36m(tune_with_parameters pid=2624209)\u001b[0m loss: 0.000\u001b[32m [repeated 18x across cluster]\u001b[0m\n"
     ]
    },
    {
     "name": "stderr",
     "output_type": "stream",
     "text": [
      "Val Epoch:58: 3it [00:00,  5.23it/s]\u001b[32m [repeated 12x across cluster]\u001b[0m\n",
      "Val Epoch:56: 0it [00:00, ?it/s]624209)\u001b[0m \n"
     ]
    },
    {
     "name": "stdout",
     "output_type": "stream",
     "text": [
      "\u001b[36m(tune_with_parameters pid=2624208)\u001b[0m loss: 0.000\u001b[32m [repeated 18x across cluster]\u001b[0m\n"
     ]
    },
    {
     "name": "stderr",
     "output_type": "stream",
     "text": [
      "Val Epoch:56: 39it [00:01, 35.35it/s]\u001b[32m [repeated 19x across cluster]\u001b[0m\n",
      "Val Epoch:59: 0it [00:00, ?it/s]624208)\u001b[0m \n"
     ]
    },
    {
     "name": "stdout",
     "output_type": "stream",
     "text": [
      "\u001b[36m(tune_with_parameters pid=2624208)\u001b[0m loss: 0.000\u001b[32m [repeated 15x across cluster]\u001b[0m\n"
     ]
    },
    {
     "name": "stderr",
     "output_type": "stream",
     "text": [
      "Val Epoch:59: 47it [00:01, 23.98it/s]\u001b[32m [repeated 12x across cluster]\u001b[0m\n",
      "Val Epoch:57: 0it [00:00, ?it/s]624209)\u001b[0m \n"
     ]
    },
    {
     "name": "stdout",
     "output_type": "stream",
     "text": [
      "\u001b[36m(tune_with_parameters pid=2624209)\u001b[0m loss: 0.000\u001b[32m [repeated 18x across cluster]\u001b[0m\n"
     ]
    },
    {
     "name": "stderr",
     "output_type": "stream",
     "text": [
      "Val Epoch:60: 0it [00:00, ?it/s]624208)\u001b[0m \n",
      "Val Epoch:60: 13it [00:01, 19.76it/s]\u001b[32m [repeated 15x across cluster]\u001b[0m\n"
     ]
    },
    {
     "name": "stdout",
     "output_type": "stream",
     "text": [
      "\u001b[36m(tune_with_parameters pid=2624209)\u001b[0m loss: 0.000\u001b[32m [repeated 20x across cluster]\u001b[0m\n"
     ]
    },
    {
     "name": "stderr",
     "output_type": "stream",
     "text": [
      "Val Epoch:58: 0it [00:00, ?it/s]624209)\u001b[0m \n",
      "Val Epoch:58: 36it [00:01, 32.80it/s]\u001b[32m [repeated 17x across cluster]\u001b[0m\n",
      "Val Epoch:61: 0it [00:00, ?it/s]624208)\u001b[0m \n"
     ]
    },
    {
     "name": "stdout",
     "output_type": "stream",
     "text": [
      "\u001b[36m(tune_with_parameters pid=2624209)\u001b[0m loss: 0.000\u001b[32m [repeated 16x across cluster]\u001b[0m\n"
     ]
    },
    {
     "name": "stderr",
     "output_type": "stream",
     "text": [
      "Val Epoch:61: 47it [00:01, 24.98it/s]\u001b[32m [repeated 13x across cluster]\u001b[0m\n",
      "Val Epoch:59: 0it [00:00, ?it/s]624209)\u001b[0m \n"
     ]
    },
    {
     "name": "stdout",
     "output_type": "stream",
     "text": [
      "\u001b[36m(tune_with_parameters pid=2624208)\u001b[0m loss: 0.000\u001b[32m [repeated 21x across cluster]\u001b[0m\n"
     ]
    },
    {
     "name": "stderr",
     "output_type": "stream",
     "text": [
      "Val Epoch:62: 0it [00:00, ?it/s]624208)\u001b[0m \n",
      "Val Epoch:62: 30it [00:01, 27.71it/s]\u001b[32m [repeated 20x across cluster]\u001b[0m\n"
     ]
    },
    {
     "name": "stdout",
     "output_type": "stream",
     "text": [
      "\u001b[36m(tune_with_parameters pid=2624208)\u001b[0m loss: 0.000\u001b[32m [repeated 14x across cluster]\u001b[0m\n"
     ]
    },
    {
     "name": "stderr",
     "output_type": "stream",
     "text": [
      "Val Epoch:60: 0it [00:00, ?it/s]624209)\u001b[0m \n",
      "Val Epoch:60: 25it [00:01, 24.80it/s]\u001b[32m [repeated 11x across cluster]\u001b[0m\n"
     ]
    },
    {
     "name": "stdout",
     "output_type": "stream",
     "text": [
      "\u001b[36m(tune_with_parameters pid=2624209)\u001b[0m loss: 0.000\u001b[32m [repeated 22x across cluster]\u001b[0m\n"
     ]
    },
    {
     "name": "stderr",
     "output_type": "stream",
     "text": [
      "Val Epoch:63: 0it [00:00, ?it/s]624208)\u001b[0m \n"
     ]
    },
    {
     "name": "stdout",
     "output_type": "stream",
     "text": [
      "\u001b[36m(tune_with_parameters pid=2624209)\u001b[0m loss: 0.000\u001b[32m [repeated 19x across cluster]\u001b[0m\n"
     ]
    },
    {
     "name": "stderr",
     "output_type": "stream",
     "text": [
      "Val Epoch:63: 47it [00:01, 29.62it/s]\u001b[32m [repeated 17x across cluster]\u001b[0m\n",
      "Val Epoch:61: 0it [00:00, ?it/s]624209)\u001b[0m \n",
      "Val Epoch:64: 0it [00:00, ?it/s]624208)\u001b[0m \n"
     ]
    },
    {
     "name": "stdout",
     "output_type": "stream",
     "text": [
      "\u001b[36m(tune_with_parameters pid=2624209)\u001b[0m loss: 0.000\u001b[32m [repeated 13x across cluster]\u001b[0m\n",
      "\u001b[36m(tune_with_parameters pid=2624208)\u001b[0m loss: 0.000\u001b[32m [repeated 24x across cluster]\u001b[0m\n"
     ]
    },
    {
     "name": "stderr",
     "output_type": "stream",
     "text": [
      "Val Epoch:64: 47it [00:02, 19.13it/s]\u001b[32m [repeated 22x across cluster]\u001b[0m\n",
      "Val Epoch:62: 0it [00:00, ?it/s]624209)\u001b[0m \n",
      "Val Epoch:65: 0it [00:00, ?it/s]624208)\u001b[0m \n"
     ]
    },
    {
     "name": "stdout",
     "output_type": "stream",
     "text": [
      "\u001b[36m(tune_with_parameters pid=2624208)\u001b[0m loss: 0.000\u001b[32m [repeated 8x across cluster]\u001b[0m\n"
     ]
    },
    {
     "name": "stderr",
     "output_type": "stream",
     "text": [
      "Val Epoch:65: 47it [00:02, 20.05it/s]\u001b[32m [repeated 23x across cluster]\u001b[0m\n",
      "Val Epoch:63: 0it [00:00, ?it/s]624209)\u001b[0m \n",
      "Val Epoch:66: 0it [00:00, ?it/s]624208)\u001b[0m \n"
     ]
    },
    {
     "name": "stdout",
     "output_type": "stream",
     "text": [
      "\u001b[36m(tune_with_parameters pid=2624209)\u001b[0m loss: 0.000\u001b[32m [repeated 26x across cluster]\u001b[0m\n",
      "\u001b[36m(tune_with_parameters pid=2624209)\u001b[0m loss: 0.000\u001b[32m [repeated 25x across cluster]\u001b[0m\n"
     ]
    },
    {
     "name": "stderr",
     "output_type": "stream",
     "text": [
      "Val Epoch:66: 47it [00:02, 22.90it/s]\u001b[32m [repeated 21x across cluster]\u001b[0m\n",
      "Val Epoch:64: 0it [00:00, ?it/s]624209)\u001b[0m \n",
      "Val Epoch:67: 0it [00:00, ?it/s]624208)\u001b[0m \n"
     ]
    },
    {
     "name": "stdout",
     "output_type": "stream",
     "text": [
      "\u001b[36m(tune_with_parameters pid=2624209)\u001b[0m loss: 0.000\u001b[32m [repeated 8x across cluster]\u001b[0m\n"
     ]
    },
    {
     "name": "stderr",
     "output_type": "stream",
     "text": [
      "Val Epoch:67: 47it [00:02, 21.08it/s]\u001b[32m [repeated 22x across cluster]\u001b[0m\n",
      "Val Epoch:65: 0it [00:00, ?it/s]624209)\u001b[0m \n"
     ]
    },
    {
     "name": "stdout",
     "output_type": "stream",
     "text": [
      "\u001b[36m(tune_with_parameters pid=2624208)\u001b[0m loss: 0.000\u001b[32m [repeated 26x across cluster]\u001b[0m\n"
     ]
    },
    {
     "name": "stderr",
     "output_type": "stream",
     "text": [
      "Val Epoch:68: 0it [00:00, ?it/s]624208)\u001b[0m \n"
     ]
    },
    {
     "name": "stdout",
     "output_type": "stream",
     "text": [
      "\u001b[36m(tune_with_parameters pid=2624208)\u001b[0m loss: 0.000\u001b[32m [repeated 12x across cluster]\u001b[0m\n"
     ]
    },
    {
     "name": "stderr",
     "output_type": "stream",
     "text": [
      "Val Epoch:68: 47it [00:02, 22.97it/s]\u001b[32m [repeated 23x across cluster]\u001b[0m\n",
      "Val Epoch:66: 0it [00:00, ?it/s]624209)\u001b[0m \n",
      "Val Epoch:69: 0it [00:00, ?it/s]624208)\u001b[0m \n"
     ]
    },
    {
     "name": "stdout",
     "output_type": "stream",
     "text": [
      "\u001b[36m(tune_with_parameters pid=2624209)\u001b[0m loss: 0.000\u001b[32m [repeated 19x across cluster]\u001b[0m\n",
      "\u001b[36m(tune_with_parameters pid=2624208)\u001b[0m loss: 0.000\u001b[32m [repeated 26x across cluster]\u001b[0m\n"
     ]
    },
    {
     "name": "stderr",
     "output_type": "stream",
     "text": [
      "Val Epoch:69: 47it [00:02, 23.24it/s]\u001b[32m [repeated 23x across cluster]\u001b[0m\n",
      "Val Epoch:67: 0it [00:00, ?it/s]624209)\u001b[0m \n",
      "Val Epoch:70: 0it [00:00, ?it/s]624208)\u001b[0m \n"
     ]
    },
    {
     "name": "stdout",
     "output_type": "stream",
     "text": [
      "\u001b[36m(tune_with_parameters pid=2624209)\u001b[0m loss: 0.000\u001b[32m [repeated 9x across cluster]\u001b[0m\n"
     ]
    },
    {
     "name": "stderr",
     "output_type": "stream",
     "text": [
      "Val Epoch:70: 47it [00:01, 24.16it/s]\u001b[32m [repeated 23x across cluster]\u001b[0m\n",
      "Val Epoch:68: 0it [00:00, ?it/s]624209)\u001b[0m \n",
      "Val Epoch:71: 0it [00:00, ?it/s]624208)\u001b[0m \n"
     ]
    },
    {
     "name": "stdout",
     "output_type": "stream",
     "text": [
      "\u001b[36m(tune_with_parameters pid=2624209)\u001b[0m loss: 0.000\u001b[32m [repeated 25x across cluster]\u001b[0m\n"
     ]
    },
    {
     "name": "stderr",
     "output_type": "stream",
     "text": [
      "Val Epoch:71: 47it [00:01, 25.26it/s]\u001b[32m [repeated 22x across cluster]\u001b[0m\n",
      "Val Epoch:69: 0it [00:00, ?it/s]624209)\u001b[0m \n"
     ]
    },
    {
     "name": "stdout",
     "output_type": "stream",
     "text": [
      "\u001b[36m(tune_with_parameters pid=2624208)\u001b[0m loss: 0.000\u001b[32m [repeated 29x across cluster]\u001b[0m\n"
     ]
    },
    {
     "name": "stderr",
     "output_type": "stream",
     "text": [
      "Val Epoch:72: 0it [00:00, ?it/s]624208)\u001b[0m \n"
     ]
    },
    {
     "name": "stdout",
     "output_type": "stream",
     "text": [
      "\u001b[36m(tune_with_parameters pid=2624208)\u001b[0m loss: 0.000\u001b[32m [repeated 13x across cluster]\u001b[0m\n"
     ]
    },
    {
     "name": "stderr",
     "output_type": "stream",
     "text": [
      "Val Epoch:72: 47it [00:01, 30.46it/s]\u001b[32m [repeated 23x across cluster]\u001b[0m\n",
      "Val Epoch:70: 0it [00:00, ?it/s]624209)\u001b[0m \n",
      "Val Epoch:73: 0it [00:00, ?it/s]624208)\u001b[0m \n"
     ]
    },
    {
     "name": "stdout",
     "output_type": "stream",
     "text": [
      "\u001b[36m(tune_with_parameters pid=2624208)\u001b[0m loss: 0.000\u001b[32m [repeated 18x across cluster]\u001b[0m\n"
     ]
    },
    {
     "name": "stderr",
     "output_type": "stream",
     "text": [
      "Val Epoch:74: 0it [00:00, ?it/s]624208)\u001b[0m \n",
      "Val Epoch:70: 47it [00:01, 24.82it/s]\u001b[32m [repeated 23x across cluster]\u001b[0m\n"
     ]
    },
    {
     "name": "stdout",
     "output_type": "stream",
     "text": [
      "\u001b[36m(tune_with_parameters pid=2624209)\u001b[0m loss: 0.000\u001b[32m [repeated 29x across cluster]\u001b[0m\n"
     ]
    },
    {
     "name": "stderr",
     "output_type": "stream",
     "text": [
      "Val Epoch:71: 0it [00:00, ?it/s]624209)\u001b[0m \n",
      "Val Epoch:71: 47it [00:02, 21.80it/s]9)\u001b[0m \n"
     ]
    },
    {
     "name": "stdout",
     "output_type": "stream",
     "text": [
      "\u001b[36m(tune_with_parameters pid=2624209)\u001b[0m loss: 0.000\u001b[32m [repeated 12x across cluster]\u001b[0m\n"
     ]
    },
    {
     "name": "stderr",
     "output_type": "stream",
     "text": [
      "Val Epoch:71: 41it [00:01, 21.52it/s]\u001b[32m [repeated 22x across cluster]\u001b[0m\n",
      "Val Epoch:75: 0it [00:00, ?it/s]624208)\u001b[0m \n",
      "Val Epoch:72: 0it [00:00, ?it/s]624209)\u001b[0m \n"
     ]
    },
    {
     "name": "stdout",
     "output_type": "stream",
     "text": [
      "\u001b[36m(tune_with_parameters pid=2624208)\u001b[0m loss: 0.000\u001b[32m [repeated 19x across cluster]\u001b[0m\n"
     ]
    },
    {
     "name": "stderr",
     "output_type": "stream",
     "text": [
      "Val Epoch:72: 47it [00:02, 20.26it/s]\u001b[32m [repeated 24x across cluster]\u001b[0m\n",
      "Val Epoch:76: 0it [00:00, ?it/s]624208)\u001b[0m \n"
     ]
    },
    {
     "name": "stdout",
     "output_type": "stream",
     "text": [
      "\u001b[36m(tune_with_parameters pid=2624209)\u001b[0m loss: 0.000\u001b[32m [repeated 25x across cluster]\u001b[0m\n"
     ]
    },
    {
     "name": "stderr",
     "output_type": "stream",
     "text": [
      "Val Epoch:73: 0it [00:00, ?it/s]624209)\u001b[0m \n"
     ]
    },
    {
     "name": "stdout",
     "output_type": "stream",
     "text": [
      "\u001b[36m(tune_with_parameters pid=2624208)\u001b[0m loss: 0.000\u001b[32m [repeated 11x across cluster]\u001b[0m\n"
     ]
    },
    {
     "name": "stderr",
     "output_type": "stream",
     "text": [
      "Val Epoch:73: 47it [00:02, 16.19it/s]\u001b[32m [repeated 23x across cluster]\u001b[0m\n",
      "Val Epoch:77: 0it [00:00, ?it/s]624208)\u001b[0m \n"
     ]
    },
    {
     "name": "stdout",
     "output_type": "stream",
     "text": [
      "\u001b[36m(tune_with_parameters pid=2624209)\u001b[0m loss: 0.000\u001b[32m [repeated 23x across cluster]\u001b[0m\n"
     ]
    },
    {
     "name": "stderr",
     "output_type": "stream",
     "text": [
      "Val Epoch:74: 0it [00:00, ?it/s]624209)\u001b[0m \n"
     ]
    },
    {
     "name": "stdout",
     "output_type": "stream",
     "text": [
      "\u001b[36m(tune_with_parameters pid=2624209)\u001b[0m loss: 0.000\u001b[32m [repeated 20x across cluster]\u001b[0m\n"
     ]
    },
    {
     "name": "stderr",
     "output_type": "stream",
     "text": [
      "Val Epoch:74: 47it [00:01, 28.25it/s]\u001b[32m [repeated 25x across cluster]\u001b[0m\n",
      "Val Epoch:78: 0it [00:00, ?it/s]624208)\u001b[0m \n",
      "Val Epoch:75: 0it [00:00, ?it/s]624209)\u001b[0m \n"
     ]
    },
    {
     "name": "stdout",
     "output_type": "stream",
     "text": [
      "\u001b[36m(tune_with_parameters pid=2624208)\u001b[0m loss: 0.000\u001b[32m [repeated 14x across cluster]\u001b[0m\n"
     ]
    },
    {
     "name": "stderr",
     "output_type": "stream",
     "text": [
      "Val Epoch:75: 29it [00:01, 29.61it/s]\u001b[32m [repeated 19x across cluster]\u001b[0m\n",
      "Val Epoch:79: 0it [00:00, ?it/s]624208)\u001b[0m \n"
     ]
    },
    {
     "name": "stdout",
     "output_type": "stream",
     "text": [
      "\u001b[36m(tune_with_parameters pid=2624209)\u001b[0m loss: 0.000\u001b[32m [repeated 20x across cluster]\u001b[0m\n"
     ]
    },
    {
     "name": "stderr",
     "output_type": "stream",
     "text": [
      "Val Epoch:79: 24it [00:01, 24.62it/s]\u001b[32m [repeated 10x across cluster]\u001b[0m\n",
      "Val Epoch:76: 0it [00:00, ?it/s]624209)\u001b[0m \n"
     ]
    },
    {
     "name": "stdout",
     "output_type": "stream",
     "text": [
      "\u001b[36m(tune_with_parameters pid=2624209)\u001b[0m loss: 0.000\u001b[32m [repeated 15x across cluster]\u001b[0m\n"
     ]
    },
    {
     "name": "stderr",
     "output_type": "stream",
     "text": [
      "Val Epoch:76: 47it [00:01, 33.22it/s]\u001b[32m [repeated 18x across cluster]\u001b[0m\n",
      "Val Epoch:80: 0it [00:00, ?it/s]624208)\u001b[0m \n"
     ]
    },
    {
     "name": "stdout",
     "output_type": "stream",
     "text": [
      "\u001b[36m(tune_with_parameters pid=2624208)\u001b[0m loss: 0.000\u001b[32m [repeated 22x across cluster]\u001b[0m\n"
     ]
    },
    {
     "name": "stderr",
     "output_type": "stream",
     "text": [
      "Val Epoch:77: 0it [00:00, ?it/s]624209)\u001b[0m \n",
      "Val Epoch:77: 25it [00:01, 31.82it/s]\u001b[32m [repeated 19x across cluster]\u001b[0m\n"
     ]
    },
    {
     "name": "stdout",
     "output_type": "stream",
     "text": [
      "\u001b[36m(tune_with_parameters pid=2624209)\u001b[0m loss: 0.000\u001b[32m [repeated 19x across cluster]\u001b[0m\n"
     ]
    },
    {
     "name": "stderr",
     "output_type": "stream",
     "text": [
      "Val Epoch:81: 0it [00:00, ?it/s]624208)\u001b[0m \n",
      "Val Epoch:81: 43it [00:01, 36.19it/s]\u001b[32m [repeated 16x across cluster]\u001b[0m\n",
      "Val Epoch:78: 0it [00:00, ?it/s]624209)\u001b[0m \n"
     ]
    },
    {
     "name": "stdout",
     "output_type": "stream",
     "text": [
      "\u001b[36m(tune_with_parameters pid=2624208)\u001b[0m loss: 0.000\u001b[32m [repeated 18x across cluster]\u001b[0m\n"
     ]
    },
    {
     "name": "stderr",
     "output_type": "stream",
     "text": [
      "Val Epoch:78: 47it [00:02, 21.50it/s]\u001b[32m [repeated 13x across cluster]\u001b[0m\n",
      "Val Epoch:82: 0it [00:00, ?it/s]624208)\u001b[0m \n"
     ]
    },
    {
     "name": "stdout",
     "output_type": "stream",
     "text": [
      "\u001b[36m(tune_with_parameters pid=2624209)\u001b[0m loss: 0.000\u001b[32m [repeated 16x across cluster]\u001b[0m\n"
     ]
    },
    {
     "name": "stderr",
     "output_type": "stream",
     "text": [
      "Val Epoch:79: 0it [00:00, ?it/s]624209)\u001b[0m \n",
      "Val Epoch:79: 1it [00:00,  2.81it/s]\u001b[32m [repeated 12x across cluster]\u001b[0m\n"
     ]
    },
    {
     "name": "stdout",
     "output_type": "stream",
     "text": [
      "\u001b[36m(tune_with_parameters pid=2624209)\u001b[0m loss: 0.000\u001b[32m [repeated 18x across cluster]\u001b[0m\n"
     ]
    },
    {
     "name": "stderr",
     "output_type": "stream",
     "text": [
      "Val Epoch:83: 0it [00:00, ?it/s]624208)\u001b[0m \n",
      "Val Epoch:83: 32it [00:01, 24.12it/s]\u001b[32m [repeated 18x across cluster]\u001b[0m\n",
      "Val Epoch:83: 47it [00:01, 25.73it/s]8)\u001b[0m \n"
     ]
    },
    {
     "name": "stdout",
     "output_type": "stream",
     "text": [
      "\u001b[36m(tune_with_parameters pid=2624209)\u001b[0m loss: 0.000\u001b[32m [repeated 21x across cluster]\u001b[0m\n"
     ]
    },
    {
     "name": "stderr",
     "output_type": "stream",
     "text": [
      "Val Epoch:80: 0it [00:00, ?it/s]624209)\u001b[0m \n",
      "Val Epoch:80: 47it [00:02, 23.43it/s]\u001b[32m [repeated 13x across cluster]\u001b[0m\n"
     ]
    },
    {
     "name": "stdout",
     "output_type": "stream",
     "text": [
      "\u001b[36m(tune_with_parameters pid=2624209)\u001b[0m loss: 0.000\u001b[32m [repeated 18x across cluster]\u001b[0m\n"
     ]
    },
    {
     "name": "stderr",
     "output_type": "stream",
     "text": [
      "Val Epoch:84: 0it [00:00, ?it/s]624208)\u001b[0m \n",
      "Val Epoch:84: 47it [00:01, 30.14it/s]8)\u001b[0m \n",
      "Val Epoch:81: 0it [00:00, ?it/s]624209)\u001b[0m \n",
      "Val Epoch:84: 40it [00:01, 36.79it/s]\u001b[32m [repeated 10x across cluster]\u001b[0m\n"
     ]
    },
    {
     "name": "stdout",
     "output_type": "stream",
     "text": [
      "\u001b[36m(tune_with_parameters pid=2624208)\u001b[0m loss: 0.000\u001b[32m [repeated 20x across cluster]\u001b[0m\n"
     ]
    },
    {
     "name": "stderr",
     "output_type": "stream",
     "text": [
      "Val Epoch:85: 0it [00:00, ?it/s]624208)\u001b[0m \n",
      "Val Epoch:85: 42it [00:01, 34.42it/s]\u001b[32m [repeated 21x across cluster]\u001b[0m\n"
     ]
    },
    {
     "name": "stdout",
     "output_type": "stream",
     "text": [
      "\u001b[36m(tune_with_parameters pid=2624209)\u001b[0m loss: 0.000\u001b[32m [repeated 11x across cluster]\u001b[0m\n"
     ]
    },
    {
     "name": "stderr",
     "output_type": "stream",
     "text": [
      "Val Epoch:82: 0it [00:00, ?it/s]624209)\u001b[0m \n",
      "Val Epoch:82: 6it [00:00,  9.86it/s]\u001b[32m [repeated 3x across cluster]\u001b[0m\n"
     ]
    },
    {
     "name": "stdout",
     "output_type": "stream",
     "text": [
      "\u001b[36m(tune_with_parameters pid=2624209)\u001b[0m loss: 0.000\u001b[32m [repeated 24x across cluster]\u001b[0m\n"
     ]
    },
    {
     "name": "stderr",
     "output_type": "stream",
     "text": [
      "Val Epoch:86: 47it [00:02, 22.52it/s]8)\u001b[0m \n"
     ]
    },
    {
     "name": "stdout",
     "output_type": "stream",
     "text": [
      "\u001b[36m(tune_with_parameters pid=2624208)\u001b[0m loss: 0.000\u001b[32m [repeated 25x across cluster]\u001b[0m\n"
     ]
    },
    {
     "name": "stderr",
     "output_type": "stream",
     "text": [
      "Val Epoch:83: 0it [00:00, ?it/s]\u001b[32m [repeated 2x across cluster]\u001b[0m\n",
      "Val Epoch:86: 41it [00:01, 32.21it/s]\u001b[32m [repeated 19x across cluster]\u001b[0m\n"
     ]
    },
    {
     "name": "stdout",
     "output_type": "stream",
     "text": [
      "\u001b[36m(tune_with_parameters pid=2624209)\u001b[0m loss: 0.000\u001b[32m [repeated 8x across cluster]\u001b[0m\n"
     ]
    },
    {
     "name": "stderr",
     "output_type": "stream",
     "text": [
      "Val Epoch:84: 0it [00:00, ?it/s]\u001b[32m [repeated 2x across cluster]\u001b[0m\n",
      "Val Epoch:87: 47it [00:02, 19.67it/s]\u001b[32m [repeated 22x across cluster]\u001b[0m\n",
      "Val Epoch:84: 7it [00:00, 17.81it/s]09)\u001b[0m \n"
     ]
    },
    {
     "name": "stdout",
     "output_type": "stream",
     "text": [
      "\u001b[36m(tune_with_parameters pid=2624208)\u001b[0m loss: 0.000\u001b[32m [repeated 23x across cluster]\u001b[0m\n"
     ]
    },
    {
     "name": "stderr",
     "output_type": "stream",
     "text": [
      "Val Epoch:84: 47it [00:02, 19.08it/s]9)\u001b[0m \n"
     ]
    },
    {
     "name": "stdout",
     "output_type": "stream",
     "text": [
      "\u001b[36m(tune_with_parameters pid=2624209)\u001b[0m loss: 0.000\u001b[32m [repeated 12x across cluster]\u001b[0m\n"
     ]
    },
    {
     "name": "stderr",
     "output_type": "stream",
     "text": [
      "Val Epoch:85: 0it [00:00, ?it/s]\u001b[32m [repeated 2x across cluster]\u001b[0m\n",
      "Val Epoch:88: 47it [00:02, 19.18it/s]\u001b[32m [repeated 22x across cluster]\u001b[0m\n"
     ]
    },
    {
     "name": "stdout",
     "output_type": "stream",
     "text": [
      "\u001b[36m(tune_with_parameters pid=2624209)\u001b[0m loss: 0.000\u001b[32m [repeated 22x across cluster]\u001b[0m\n"
     ]
    },
    {
     "name": "stderr",
     "output_type": "stream",
     "text": [
      "Val Epoch:89: 47it [00:02, 20.20it/s]8)\u001b[0m \n",
      "Val Epoch:86: 0it [00:00, ?it/s]\u001b[32m [repeated 2x across cluster]\u001b[0m\n",
      "Val Epoch:89: 42it [00:02, 26.08it/s]\u001b[32m [repeated 22x across cluster]\u001b[0m\n"
     ]
    },
    {
     "name": "stdout",
     "output_type": "stream",
     "text": [
      "\u001b[36m(tune_with_parameters pid=2624208)\u001b[0m loss: 0.000\u001b[32m [repeated 27x across cluster]\u001b[0m\n"
     ]
    },
    {
     "name": "stderr",
     "output_type": "stream",
     "text": [
      "Val Epoch:90: 47it [00:02, 19.75it/s]8)\u001b[0m \n"
     ]
    },
    {
     "name": "stdout",
     "output_type": "stream",
     "text": [
      "\u001b[36m(tune_with_parameters pid=2624209)\u001b[0m loss: 0.000\u001b[32m [repeated 13x across cluster]\u001b[0m\n"
     ]
    },
    {
     "name": "stderr",
     "output_type": "stream",
     "text": [
      "Val Epoch:87: 0it [00:00, ?it/s]\u001b[32m [repeated 2x across cluster]\u001b[0m\n",
      "Val Epoch:90: 40it [00:02, 26.94it/s]\u001b[32m [repeated 21x across cluster]\u001b[0m\n",
      "Val Epoch:87: 47it [00:02, 19.93it/s]9)\u001b[0m \n"
     ]
    },
    {
     "name": "stdout",
     "output_type": "stream",
     "text": [
      "\u001b[36m(tune_with_parameters pid=2624209)\u001b[0m loss: 0.000\u001b[32m [repeated 20x across cluster]\u001b[0m\n"
     ]
    },
    {
     "name": "stderr",
     "output_type": "stream",
     "text": [
      "Val Epoch:88: 0it [00:00, ?it/s]\u001b[32m [repeated 2x across cluster]\u001b[0m\n",
      "Val Epoch:91: 47it [00:03, 14.51it/s]\u001b[32m [repeated 23x across cluster]\u001b[0m\n"
     ]
    },
    {
     "name": "stdout",
     "output_type": "stream",
     "text": [
      "\u001b[36m(tune_with_parameters pid=2624208)\u001b[0m loss: 0.000\u001b[32m [repeated 26x across cluster]\u001b[0m\n",
      "\u001b[36m(tune_with_parameters pid=2624208)\u001b[0m loss: 0.000\u001b[32m [repeated 9x across cluster]\u001b[0m\n"
     ]
    },
    {
     "name": "stderr",
     "output_type": "stream",
     "text": [
      "Val Epoch:89: 0it [00:00, ?it/s]\u001b[32m [repeated 2x across cluster]\u001b[0m\n",
      "Val Epoch:92: 47it [00:02, 17.98it/s]\u001b[32m [repeated 24x across cluster]\u001b[0m\n"
     ]
    },
    {
     "name": "stdout",
     "output_type": "stream",
     "text": [
      "\u001b[36m(tune_with_parameters pid=2624209)\u001b[0m loss: 0.000\u001b[32m [repeated 25x across cluster]\u001b[0m\n",
      "\u001b[36m(tune_with_parameters pid=2624208)\u001b[0m loss: 0.000\u001b[32m [repeated 26x across cluster]\u001b[0m\n"
     ]
    },
    {
     "name": "stderr",
     "output_type": "stream",
     "text": [
      "Val Epoch:90: 0it [00:00, ?it/s]\u001b[32m [repeated 2x across cluster]\u001b[0m\n",
      "Val Epoch:93: 47it [00:02, 23.32it/s]\u001b[32m [repeated 22x across cluster]\u001b[0m\n"
     ]
    },
    {
     "name": "stdout",
     "output_type": "stream",
     "text": [
      "\u001b[36m(tune_with_parameters pid=2624209)\u001b[0m loss: 0.000\u001b[32m [repeated 8x across cluster]\u001b[0m\n"
     ]
    },
    {
     "name": "stderr",
     "output_type": "stream",
     "text": [
      "Val Epoch:91: 0it [00:00, ?it/s]\u001b[32m [repeated 2x across cluster]\u001b[0m\n",
      "Val Epoch:94: 47it [00:02, 19.50it/s]\u001b[32m [repeated 23x across cluster]\u001b[0m\n",
      "Val Epoch:91: 14it [00:01,  7.85it/s]9)\u001b[0m \n"
     ]
    },
    {
     "name": "stdout",
     "output_type": "stream",
     "text": [
      "\u001b[36m(tune_with_parameters pid=2624209)\u001b[0m loss: 0.000\u001b[32m [repeated 26x across cluster]\u001b[0m\n",
      "\u001b[36m(tune_with_parameters pid=2624208)\u001b[0m loss: 0.000\u001b[32m [repeated 26x across cluster]\u001b[0m\n"
     ]
    },
    {
     "name": "stderr",
     "output_type": "stream",
     "text": [
      "Val Epoch:96: 0it [00:00, ?it/s]\u001b[32m [repeated 2x across cluster]\u001b[0m\n",
      "Val Epoch:95: 47it [00:02, 18.61it/s]\u001b[32m [repeated 22x across cluster]\u001b[0m\n",
      "Val Epoch:92: 47it [00:01, 24.14it/s]9)\u001b[0m \n"
     ]
    },
    {
     "name": "stdout",
     "output_type": "stream",
     "text": [
      "\u001b[36m(tune_with_parameters pid=2624209)\u001b[0m loss: 0.000\u001b[32m [repeated 10x across cluster]\u001b[0m\n"
     ]
    },
    {
     "name": "stderr",
     "output_type": "stream",
     "text": [
      "Val Epoch:97: 0it [00:00, ?it/s]\u001b[32m [repeated 2x across cluster]\u001b[0m\n",
      "Val Epoch:96: 40it [00:02, 34.94it/s]\u001b[32m [repeated 21x across cluster]\u001b[0m\n",
      "Val Epoch:96: 47it [00:02, 16.51it/s]8)\u001b[0m \n"
     ]
    },
    {
     "name": "stdout",
     "output_type": "stream",
     "text": [
      "\u001b[36m(tune_with_parameters pid=2624209)\u001b[0m loss: 0.000\u001b[32m [repeated 24x across cluster]\u001b[0m\n"
     ]
    },
    {
     "name": "stderr",
     "output_type": "stream",
     "text": [
      "Val Epoch:94: 0it [00:00, ?it/s]\u001b[32m [repeated 2x across cluster]\u001b[0m\n",
      "Val Epoch:93: 47it [00:01, 30.58it/s]\u001b[32m [repeated 22x across cluster]\u001b[0m\n"
     ]
    },
    {
     "name": "stdout",
     "output_type": "stream",
     "text": [
      "\u001b[36m(tune_with_parameters pid=2624209)\u001b[0m loss: 0.000\u001b[32m [repeated 15x across cluster]\u001b[0m\n"
     ]
    },
    {
     "name": "stderr",
     "output_type": "stream",
     "text": [
      "Val Epoch:95: 0it [00:00, ?it/s]624209)\u001b[0m \n",
      "Val Epoch:94: 47it [00:01, 28.41it/s]\u001b[32m [repeated 11x across cluster]\u001b[0m\n"
     ]
    },
    {
     "name": "stdout",
     "output_type": "stream",
     "text": [
      "\u001b[36m(tune_with_parameters pid=2624209)\u001b[0m loss: 0.000\u001b[32m [repeated 15x across cluster]\u001b[0m\n"
     ]
    },
    {
     "name": "stderr",
     "output_type": "stream",
     "text": [
      "\u001b[36m(tune_with_parameters pid=2759010)\u001b[0m /users/k23058970/miniforge3/envs/Training/lib/python3.10/site-packages/torch/nn/modules/lazy.py:181: UserWarning: Lazy modules are a new feature under heavy development so changes to the API or functionality can happen at any moment.\n",
      "\u001b[36m(tune_with_parameters pid=2759010)\u001b[0m   warnings.warn('Lazy modules are a new feature under heavy development '\n",
      "Val Epoch:96: 0it [00:00, ?it/s]624209)\u001b[0m \n",
      "Val Epoch:95: 47it [00:01, 34.60it/s]\u001b[32m [repeated 11x across cluster]\u001b[0m\n"
     ]
    },
    {
     "name": "stdout",
     "output_type": "stream",
     "text": [
      "\u001b[36m(tune_with_parameters pid=2759010)\u001b[0m loss: 1.005\u001b[32m [repeated 15x across cluster]\u001b[0m\n",
      "\u001b[36m(tune_with_parameters pid=2624209)\u001b[0m loss: 0.000\u001b[32m [repeated 21x across cluster]\u001b[0m\n"
     ]
    },
    {
     "name": "stderr",
     "output_type": "stream",
     "text": [
      "Val Epoch:0: 0it [00:00, ?it/s]2759010)\u001b[0m \n",
      "Val Epoch:96: 47it [00:01, 23.91it/s]\u001b[32m [repeated 13x across cluster]\u001b[0m\n",
      "Val Epoch:97: 0it [00:00, ?it/s]624209)\u001b[0m \n"
     ]
    },
    {
     "name": "stdout",
     "output_type": "stream",
     "text": [
      "\u001b[36m(tune_with_parameters pid=2759010)\u001b[0m /tmp/tmphdrwgf5d/checkpoint.pt\n"
     ]
    },
    {
     "name": "stderr",
     "output_type": "stream",
     "text": [
      "\u001b[36m(tune_with_parameters pid=2759010)\u001b[0m Checkpoint successfully created at: Checkpoint(filesystem=local, path=/scratch/users/k23058970/Model training/results/Complex Peak Conv Null/tune_with_parameters_2024-08-19_22-54-38/tune_with_parameters_b687f_00002_2_dp=0.2000,k1=1,k2=3,k3=5,k4=1,lr=0.0084_2024-08-19_22-55-13/checkpoint_000000)\n"
     ]
    },
    {
     "name": "stdout",
     "output_type": "stream",
     "text": [
      "\u001b[36m(tune_with_parameters pid=2759010)\u001b[0m loss: 0.004\u001b[32m [repeated 11x across cluster]\u001b[0m\n"
     ]
    },
    {
     "name": "stderr",
     "output_type": "stream",
     "text": [
      "Val Epoch:97: 47it [00:02, 21.30it/s]\u001b[32m [repeated 23x across cluster]\u001b[0m\n",
      "Val Epoch:1: 0it [00:00, ?it/s]2759010)\u001b[0m \n"
     ]
    },
    {
     "name": "stdout",
     "output_type": "stream",
     "text": [
      "\u001b[36m(tune_with_parameters pid=2624209)\u001b[0m loss: 0.000\u001b[32m [repeated 25x across cluster]\u001b[0m\n"
     ]
    },
    {
     "name": "stderr",
     "output_type": "stream",
     "text": [
      "Val Epoch:98: 0it [00:00, ?it/s]624209)\u001b[0m \n"
     ]
    },
    {
     "name": "stdout",
     "output_type": "stream",
     "text": [
      "\u001b[36m(tune_with_parameters pid=2759010)\u001b[0m /tmp/tmprv0sjxk3/checkpoint.pt\n"
     ]
    },
    {
     "name": "stderr",
     "output_type": "stream",
     "text": [
      "\u001b[36m(tune_with_parameters pid=2759010)\u001b[0m Checkpoint successfully created at: Checkpoint(filesystem=local, path=/scratch/users/k23058970/Model training/results/Complex Peak Conv Null/tune_with_parameters_2024-08-19_22-54-38/tune_with_parameters_b687f_00002_2_dp=0.2000,k1=1,k2=3,k3=5,k4=1,lr=0.0084_2024-08-19_22-55-13/checkpoint_000001)\n"
     ]
    },
    {
     "name": "stdout",
     "output_type": "stream",
     "text": [
      "\u001b[36m(tune_with_parameters pid=2759010)\u001b[0m loss: 0.001\u001b[32m [repeated 11x across cluster]\u001b[0m\n"
     ]
    },
    {
     "name": "stderr",
     "output_type": "stream",
     "text": [
      "Val Epoch:98: 47it [00:01, 25.16it/s]\u001b[32m [repeated 23x across cluster]\u001b[0m\n",
      "Val Epoch:2: 0it [00:00, ?it/s]2759010)\u001b[0m \n"
     ]
    },
    {
     "name": "stdout",
     "output_type": "stream",
     "text": [
      "\u001b[36m(tune_with_parameters pid=2759010)\u001b[0m loss: 0.001\u001b[32m [repeated 12x across cluster]\u001b[0m\n"
     ]
    },
    {
     "name": "stderr",
     "output_type": "stream",
     "text": [
      "Val Epoch:3: 0it [00:00, ?it/s]2759010)\u001b[0m \n",
      "Val Epoch:2: 47it [00:01, 37.64it/s]\u001b[32m [repeated 9x across cluster]\u001b[0m\n"
     ]
    },
    {
     "name": "stdout",
     "output_type": "stream",
     "text": [
      "\u001b[36m(tune_with_parameters pid=2759010)\u001b[0m loss: 0.000\u001b[32m [repeated 10x across cluster]\u001b[0m\n"
     ]
    },
    {
     "name": "stderr",
     "output_type": "stream",
     "text": [
      "\u001b[36m(tune_with_parameters pid=2764810)\u001b[0m /users/k23058970/miniforge3/envs/Training/lib/python3.10/site-packages/torch/nn/modules/lazy.py:181: UserWarning: Lazy modules are a new feature under heavy development so changes to the API or functionality can happen at any moment.\n",
      "\u001b[36m(tune_with_parameters pid=2764810)\u001b[0m   warnings.warn('Lazy modules are a new feature under heavy development '\n",
      "Val Epoch:4: 0it [00:00, ?it/s]2759010)\u001b[0m \n",
      "Val Epoch:3: 47it [00:01, 31.34it/s]\u001b[32m [repeated 12x across cluster]\u001b[0m\n",
      "Val Epoch:4: 47it [00:02, 19.93it/s]10)\u001b[0m \n"
     ]
    },
    {
     "name": "stdout",
     "output_type": "stream",
     "text": [
      "\u001b[36m(tune_with_parameters pid=2759010)\u001b[0m loss: 0.000\u001b[32m [repeated 15x across cluster]\u001b[0m\n"
     ]
    },
    {
     "name": "stderr",
     "output_type": "stream",
     "text": [
      "Val Epoch:5: 0it [00:00, ?it/s]2759010)\u001b[0m \n",
      "Val Epoch:4: 39it [00:02, 23.82it/s]\u001b[32m [repeated 8x across cluster]\u001b[0m\n"
     ]
    },
    {
     "name": "stdout",
     "output_type": "stream",
     "text": [
      "\u001b[36m(tune_with_parameters pid=2764810)\u001b[0m loss: 0.564\u001b[32m [repeated 29x across cluster]\u001b[0m\n",
      "\u001b[36m(tune_with_parameters pid=2764810)\u001b[0m /tmp/tmpjvadi5lv/checkpoint.pt\n"
     ]
    },
    {
     "name": "stderr",
     "output_type": "stream",
     "text": [
      "\u001b[36m(tune_with_parameters pid=2764810)\u001b[0m Checkpoint successfully created at: Checkpoint(filesystem=local, path=/scratch/users/k23058970/Model training/results/Complex Peak Conv Null/tune_with_parameters_2024-08-19_22-54-38/tune_with_parameters_b687f_00003_3_dp=0.2000,k1=1,k2=7,k3=5,k4=1,lr=0.0071_2024-08-19_22-55-13/checkpoint_000000)\n"
     ]
    },
    {
     "name": "stdout",
     "output_type": "stream",
     "text": [
      "\u001b[36m(tune_with_parameters pid=2759010)\u001b[0m loss: 0.000\u001b[32m [repeated 11x across cluster]\u001b[0m\n"
     ]
    },
    {
     "name": "stderr",
     "output_type": "stream",
     "text": [
      "Val Epoch:6: 0it [00:00, ?it/s]\u001b[32m [repeated 2x across cluster]\u001b[0m\n",
      "Val Epoch:0: 47it [00:01, 23.99it/s]\u001b[32m [repeated 22x across cluster]\u001b[0m\n",
      "Val Epoch:1: 47it [00:01, 27.70it/s]10)\u001b[0m \n",
      "\u001b[36m(tune_with_parameters pid=2764810)\u001b[0m Checkpoint successfully created at: Checkpoint(filesystem=local, path=/scratch/users/k23058970/Model training/results/Complex Peak Conv Null/tune_with_parameters_2024-08-19_22-54-38/tune_with_parameters_b687f_00003_3_dp=0.2000,k1=1,k2=7,k3=5,k4=1,lr=0.0071_2024-08-19_22-55-13/checkpoint_000001)\n"
     ]
    },
    {
     "name": "stdout",
     "output_type": "stream",
     "text": [
      "\u001b[36m(tune_with_parameters pid=2764810)\u001b[0m /tmp/tmp8kkhtjes/checkpoint.pt\n",
      "\u001b[36m(tune_with_parameters pid=2764810)\u001b[0m loss: 0.112\u001b[32m [repeated 19x across cluster]\u001b[0m\n",
      "\u001b[36m(tune_with_parameters pid=2759010)\u001b[0m loss: 0.000\u001b[32m [repeated 25x across cluster]\u001b[0m\n"
     ]
    },
    {
     "name": "stderr",
     "output_type": "stream",
     "text": [
      "Val Epoch:2: 0it [00:00, ?it/s]\u001b[32m [repeated 2x across cluster]\u001b[0m\n",
      "Val Epoch:6: 47it [00:02, 17.00it/s]\u001b[32m [repeated 22x across cluster]\u001b[0m\n"
     ]
    },
    {
     "name": "stdout",
     "output_type": "stream",
     "text": [
      "\u001b[36m(tune_with_parameters pid=2764810)\u001b[0m /tmp/tmp4pujjt_f/checkpoint.pt\n"
     ]
    },
    {
     "name": "stderr",
     "output_type": "stream",
     "text": [
      "\u001b[36m(tune_with_parameters pid=2764810)\u001b[0m Checkpoint successfully created at: Checkpoint(filesystem=local, path=/scratch/users/k23058970/Model training/results/Complex Peak Conv Null/tune_with_parameters_2024-08-19_22-54-38/tune_with_parameters_b687f_00003_3_dp=0.2000,k1=1,k2=7,k3=5,k4=1,lr=0.0071_2024-08-19_22-55-13/checkpoint_000002)\n",
      "Val Epoch:7: 47it [00:01, 26.96it/s]10)\u001b[0m \n"
     ]
    },
    {
     "name": "stdout",
     "output_type": "stream",
     "text": [
      "\u001b[36m(tune_with_parameters pid=2759010)\u001b[0m loss: 0.000\u001b[32m [repeated 11x across cluster]\u001b[0m\n"
     ]
    },
    {
     "name": "stderr",
     "output_type": "stream",
     "text": [
      "Val Epoch:3: 0it [00:00, ?it/s]\u001b[32m [repeated 2x across cluster]\u001b[0m\n",
      "Val Epoch:7: 42it [00:01, 18.31it/s]\u001b[32m [repeated 20x across cluster]\u001b[0m\n"
     ]
    },
    {
     "name": "stdout",
     "output_type": "stream",
     "text": [
      "\u001b[36m(tune_with_parameters pid=2764810)\u001b[0m loss: 0.002\u001b[32m [repeated 25x across cluster]\u001b[0m\n"
     ]
    },
    {
     "name": "stderr",
     "output_type": "stream",
     "text": [
      "Val Epoch:4: 0it [00:00, ?it/s]\u001b[32m [repeated 2x across cluster]\u001b[0m\n",
      "Val Epoch:8: 47it [00:03, 13.92it/s]\u001b[32m [repeated 22x across cluster]\u001b[0m\n"
     ]
    },
    {
     "name": "stdout",
     "output_type": "stream",
     "text": [
      "\u001b[36m(tune_with_parameters pid=2759010)\u001b[0m loss: 0.000\u001b[32m [repeated 26x across cluster]\u001b[0m\n",
      "\u001b[36m(tune_with_parameters pid=2764810)\u001b[0m /tmp/tmpe0uote3v/checkpoint.pt\n"
     ]
    },
    {
     "name": "stderr",
     "output_type": "stream",
     "text": [
      "\u001b[36m(tune_with_parameters pid=2764810)\u001b[0m Checkpoint successfully created at: Checkpoint(filesystem=local, path=/scratch/users/k23058970/Model training/results/Complex Peak Conv Null/tune_with_parameters_2024-08-19_22-54-38/tune_with_parameters_b687f_00003_3_dp=0.2000,k1=1,k2=7,k3=5,k4=1,lr=0.0071_2024-08-19_22-55-13/checkpoint_000003)\n"
     ]
    },
    {
     "name": "stdout",
     "output_type": "stream",
     "text": [
      "\u001b[36m(tune_with_parameters pid=2759010)\u001b[0m loss: 0.000\u001b[32m [repeated 11x across cluster]\u001b[0m\n"
     ]
    },
    {
     "name": "stderr",
     "output_type": "stream",
     "text": [
      "Val Epoch:5: 0it [00:00, ?it/s]\u001b[32m [repeated 2x across cluster]\u001b[0m\n",
      "Val Epoch:9: 47it [00:02, 18.92it/s]\u001b[32m [repeated 25x across cluster]\u001b[0m\n"
     ]
    },
    {
     "name": "stdout",
     "output_type": "stream",
     "text": [
      "\u001b[36m(tune_with_parameters pid=2764810)\u001b[0m /tmp/tmpnbr_qdpc/checkpoint.pt\n"
     ]
    },
    {
     "name": "stderr",
     "output_type": "stream",
     "text": [
      "\u001b[36m(tune_with_parameters pid=2764810)\u001b[0m Checkpoint successfully created at: Checkpoint(filesystem=local, path=/scratch/users/k23058970/Model training/results/Complex Peak Conv Null/tune_with_parameters_2024-08-19_22-54-38/tune_with_parameters_b687f_00003_3_dp=0.2000,k1=1,k2=7,k3=5,k4=1,lr=0.0071_2024-08-19_22-55-13/checkpoint_000004)\n"
     ]
    },
    {
     "name": "stdout",
     "output_type": "stream",
     "text": [
      "\u001b[36m(tune_with_parameters pid=2764810)\u001b[0m loss: 0.003\u001b[32m [repeated 23x across cluster]\u001b[0m\n",
      "\u001b[36m(tune_with_parameters pid=2759010)\u001b[0m loss: 0.000\u001b[32m [repeated 24x across cluster]\u001b[0m\n"
     ]
    },
    {
     "name": "stderr",
     "output_type": "stream",
     "text": [
      "Val Epoch:6: 0it [00:00, ?it/s]\u001b[32m [repeated 2x across cluster]\u001b[0m\n",
      "Val Epoch:10: 47it [00:02, 22.99it/s]\u001b[32m [repeated 23x across cluster]\u001b[0m\n"
     ]
    },
    {
     "name": "stdout",
     "output_type": "stream",
     "text": [
      "\u001b[36m(tune_with_parameters pid=2764810)\u001b[0m loss: 0.007\u001b[32m [repeated 10x across cluster]\u001b[0m\n"
     ]
    },
    {
     "name": "stderr",
     "output_type": "stream",
     "text": [
      "Val Epoch:7: 0it [00:00, ?it/s]\u001b[32m [repeated 2x across cluster]\u001b[0m\n",
      "Val Epoch:11: 47it [00:02, 21.16it/s]\u001b[32m [repeated 24x across cluster]\u001b[0m\n"
     ]
    },
    {
     "name": "stdout",
     "output_type": "stream",
     "text": [
      "\u001b[36m(tune_with_parameters pid=2759010)\u001b[0m loss: 0.000\u001b[32m [repeated 22x across cluster]\u001b[0m\n",
      "\u001b[36m(tune_with_parameters pid=2764810)\u001b[0m loss: 0.006\u001b[32m [repeated 11x across cluster]\u001b[0m\n"
     ]
    },
    {
     "name": "stderr",
     "output_type": "stream",
     "text": [
      "Val Epoch:8: 0it [00:00, ?it/s]\u001b[32m [repeated 2x across cluster]\u001b[0m\n",
      "Val Epoch:12: 47it [00:02, 21.80it/s]\u001b[32m [repeated 23x across cluster]\u001b[0m\n"
     ]
    },
    {
     "name": "stdout",
     "output_type": "stream",
     "text": [
      "\u001b[36m(tune_with_parameters pid=2764810)\u001b[0m loss: 0.007\u001b[32m [repeated 23x across cluster]\u001b[0m\n",
      "\u001b[36m(tune_with_parameters pid=2759010)\u001b[0m loss: 0.000\u001b[32m [repeated 18x across cluster]\u001b[0m\n"
     ]
    },
    {
     "name": "stderr",
     "output_type": "stream",
     "text": [
      "Val Epoch:9: 0it [00:00, ?it/s]\u001b[32m [repeated 2x across cluster]\u001b[0m\n",
      "Val Epoch:13: 47it [00:01, 30.75it/s]\u001b[32m [repeated 25x across cluster]\u001b[0m\n",
      "Val Epoch:14: 0it [00:00, ?it/s]759010)\u001b[0m \n",
      "Val Epoch:14: 47it [00:01, 26.47it/s]\u001b[32m [repeated 23x across cluster]\u001b[0m\n"
     ]
    },
    {
     "name": "stdout",
     "output_type": "stream",
     "text": [
      "\u001b[36m(tune_with_parameters pid=2759010)\u001b[0m loss: 0.000\u001b[32m [repeated 12x across cluster]\u001b[0m\n"
     ]
    },
    {
     "name": "stderr",
     "output_type": "stream",
     "text": [
      "Val Epoch:15: 0it [00:00, ?it/s]759010)\u001b[0m \n",
      "Val Epoch:15: 1it [00:00,  2.27it/s]10)\u001b[0m \n",
      "Val Epoch:15: 7it [00:00, 16.01it/s]10)\u001b[0m \n",
      "Val Epoch:15: 13it [00:00, 26.92it/s]0)\u001b[0m \n",
      "Val Epoch:15: 20it [00:00, 36.42it/s]0)\u001b[0m \n",
      "Val Epoch:15: 26it [00:00, 42.46it/s]0)\u001b[0m \n",
      "Val Epoch:15: 32it [00:01, 41.77it/s]0)\u001b[0m \n",
      "Val Epoch:15: 37it [00:01, 43.54it/s]0)\u001b[0m \n",
      "Val Epoch:15: 44it [00:01, 48.45it/s]0)\u001b[0m \n",
      "Val Epoch:15: 47it [00:01, 35.82it/s]0)\u001b[0m \n"
     ]
    },
    {
     "name": "stdout",
     "output_type": "stream",
     "text": [
      "\u001b[36m(tune_with_parameters pid=2759010)\u001b[0m loss: 0.000\u001b[32m [repeated 15x across cluster]\u001b[0m\n"
     ]
    },
    {
     "name": "stderr",
     "output_type": "stream",
     "text": [
      "Val Epoch:16: 0it [00:00, ?it/s]759010)\u001b[0m \n",
      "Val Epoch:16: 1it [00:00,  2.85it/s]10)\u001b[0m \n",
      "Val Epoch:16: 5it [00:00, 13.20it/s]10)\u001b[0m \n",
      "Val Epoch:16: 8it [00:00, 16.34it/s]10)\u001b[0m \n",
      "\u001b[36m(tune_with_parameters pid=2780078)\u001b[0m /users/k23058970/miniforge3/envs/Training/lib/python3.10/site-packages/torch/nn/modules/lazy.py:181: UserWarning: Lazy modules are a new feature under heavy development so changes to the API or functionality can happen at any moment.\n",
      "\u001b[36m(tune_with_parameters pid=2780078)\u001b[0m   warnings.warn('Lazy modules are a new feature under heavy development '\n",
      "Val Epoch:16: 12it [00:00, 20.76it/s]0)\u001b[0m \n",
      "Val Epoch:16: 16it [00:00, 24.11it/s]0)\u001b[0m \n",
      "Val Epoch:16: 22it [00:00, 33.23it/s]0)\u001b[0m \n",
      "Val Epoch:16: 30it [00:01, 44.59it/s]0)\u001b[0m \n",
      "Val Epoch:16: 37it [00:01, 51.19it/s]0)\u001b[0m \n",
      "Val Epoch:16: 43it [00:01, 51.41it/s]0)\u001b[0m \n",
      "Val Epoch:16: 47it [00:01, 34.17it/s]0)\u001b[0m \n"
     ]
    },
    {
     "name": "stdout",
     "output_type": "stream",
     "text": [
      "\u001b[36m(tune_with_parameters pid=2759010)\u001b[0m loss: 0.000\u001b[32m [repeated 15x across cluster]\u001b[0m\n"
     ]
    },
    {
     "name": "stderr",
     "output_type": "stream",
     "text": [
      "Val Epoch:17: 0it [00:00, ?it/s]759010)\u001b[0m \n"
     ]
    },
    {
     "name": "stdout",
     "output_type": "stream",
     "text": [
      "\u001b[36m(tune_with_parameters pid=2780078)\u001b[0m loss: 0.582\u001b[32m [repeated 19x across cluster]\u001b[0m\n"
     ]
    },
    {
     "name": "stderr",
     "output_type": "stream",
     "text": [
      "Val Epoch:17: 1it [00:00,  2.19it/s]10)\u001b[0m \n",
      "Val Epoch:17: 6it [00:00, 13.26it/s]10)\u001b[0m \n",
      "Val Epoch:17: 10it [00:00, 19.75it/s]0)\u001b[0m \n",
      "Val Epoch:17: 14it [00:00, 23.89it/s]0)\u001b[0m \n",
      "Val Epoch:17: 18it [00:00, 27.81it/s]0)\u001b[0m \n",
      "Val Epoch:17: 22it [00:00, 30.78it/s]0)\u001b[0m \n",
      "Val Epoch:17: 26it [00:01, 32.62it/s]0)\u001b[0m \n",
      "Val Epoch:17: 30it [00:01, 33.33it/s]0)\u001b[0m \n",
      "Val Epoch:17: 35it [00:01, 37.60it/s]0)\u001b[0m \n",
      "Val Epoch:17: 39it [00:01, 34.63it/s]0)\u001b[0m \n",
      "Val Epoch:17: 43it [00:01, 33.60it/s]0)\u001b[0m \n",
      "Val Epoch:17: 47it [00:01, 27.52it/s]0)\u001b[0m \n",
      "Val Epoch:0: 0it [00:00, ?it/s]2780078)\u001b[0m \n"
     ]
    },
    {
     "name": "stdout",
     "output_type": "stream",
     "text": [
      "\u001b[36m(tune_with_parameters pid=2759010)\u001b[0m loss: 0.000\u001b[32m [repeated 18x across cluster]\u001b[0m\n"
     ]
    },
    {
     "name": "stderr",
     "output_type": "stream",
     "text": [
      "Val Epoch:0: 1it [00:00,  5.23it/s]078)\u001b[0m \n",
      "Val Epoch:0: 7it [00:00, 27.48it/s]078)\u001b[0m \n",
      "Val Epoch:0: 11it [00:00, 29.29it/s]78)\u001b[0m \n",
      "Val Epoch:0: 16it [00:00, 34.98it/s]78)\u001b[0m \n",
      "Val Epoch:0: 20it [00:00, 36.06it/s]78)\u001b[0m \n",
      "Val Epoch:0: 24it [00:00, 34.07it/s]78)\u001b[0m \n",
      "Val Epoch:0: 28it [00:00, 33.83it/s]78)\u001b[0m \n",
      "Val Epoch:0: 35it [00:01, 41.21it/s]78)\u001b[0m \n",
      "Val Epoch:0: 40it [00:01, 37.68it/s]78)\u001b[0m \n",
      "Val Epoch:0: 45it [00:01, 39.29it/s]78)\u001b[0m \n",
      "Val Epoch:0: 47it [00:01, 33.61it/s]78)\u001b[0m \n"
     ]
    },
    {
     "name": "stdout",
     "output_type": "stream",
     "text": [
      "\u001b[36m(tune_with_parameters pid=2780078)\u001b[0m /tmp/tmpgxt5k2i0/checkpoint.pt\n"
     ]
    },
    {
     "name": "stderr",
     "output_type": "stream",
     "text": [
      "\u001b[36m(tune_with_parameters pid=2780078)\u001b[0m Checkpoint successfully created at: Checkpoint(filesystem=local, path=/scratch/users/k23058970/Model training/results/Complex Peak Conv Null/tune_with_parameters_2024-08-19_22-54-38/tune_with_parameters_b687f_00004_4_dp=0.5000,k1=1,k2=1,k3=5,k4=3,lr=0.0060_2024-08-19_22-55-13/checkpoint_000000)\n",
      "Val Epoch:18: 0it [00:00, ?it/s]759010)\u001b[0m \n"
     ]
    },
    {
     "name": "stdout",
     "output_type": "stream",
     "text": [
      "\u001b[36m(tune_with_parameters pid=2759010)\u001b[0m loss: 0.000\u001b[32m [repeated 14x across cluster]\u001b[0m\n"
     ]
    },
    {
     "name": "stderr",
     "output_type": "stream",
     "text": [
      "Val Epoch:18: 47it [00:02, 21.87it/s]\u001b[32m [repeated 12x across cluster]\u001b[0m\n",
      "Val Epoch:1: 0it [00:00, ?it/s]2780078)\u001b[0m \n",
      "Val Epoch:19: 0it [00:00, ?it/s]759010)\u001b[0m \n",
      "\u001b[36m(tune_with_parameters pid=2780078)\u001b[0m Checkpoint successfully created at: Checkpoint(filesystem=local, path=/scratch/users/k23058970/Model training/results/Complex Peak Conv Null/tune_with_parameters_2024-08-19_22-54-38/tune_with_parameters_b687f_00004_4_dp=0.5000,k1=1,k2=1,k3=5,k4=3,lr=0.0060_2024-08-19_22-55-13/checkpoint_000001)\n"
     ]
    },
    {
     "name": "stdout",
     "output_type": "stream",
     "text": [
      "\u001b[36m(tune_with_parameters pid=2780078)\u001b[0m /tmp/tmpgz99224f/checkpoint.pt\n",
      "\u001b[36m(tune_with_parameters pid=2759010)\u001b[0m loss: 0.000\u001b[32m [repeated 23x across cluster]\u001b[0m\n",
      "\u001b[36m(tune_with_parameters pid=2759010)\u001b[0m loss: 0.000\u001b[32m [repeated 19x across cluster]\u001b[0m\n"
     ]
    },
    {
     "name": "stderr",
     "output_type": "stream",
     "text": [
      "Val Epoch:19: 47it [00:01, 26.22it/s]\u001b[32m [repeated 22x across cluster]\u001b[0m\n",
      "Val Epoch:2: 0it [00:00, ?it/s]2780078)\u001b[0m \n",
      "Val Epoch:20: 0it [00:00, ?it/s]759010)\u001b[0m \n"
     ]
    },
    {
     "name": "stdout",
     "output_type": "stream",
     "text": [
      "\u001b[36m(tune_with_parameters pid=2780078)\u001b[0m /tmp/tmpz20tpfik/checkpoint.pt\n"
     ]
    },
    {
     "name": "stderr",
     "output_type": "stream",
     "text": [
      "\u001b[36m(tune_with_parameters pid=2780078)\u001b[0m Checkpoint successfully created at: Checkpoint(filesystem=local, path=/scratch/users/k23058970/Model training/results/Complex Peak Conv Null/tune_with_parameters_2024-08-19_22-54-38/tune_with_parameters_b687f_00004_4_dp=0.5000,k1=1,k2=1,k3=5,k4=3,lr=0.0060_2024-08-19_22-55-13/checkpoint_000002)\n"
     ]
    },
    {
     "name": "stdout",
     "output_type": "stream",
     "text": [
      "\u001b[36m(tune_with_parameters pid=2780078)\u001b[0m loss: 0.020\u001b[32m [repeated 12x across cluster]\u001b[0m\n",
      "\u001b[36m(tune_with_parameters pid=2759010)\u001b[0m loss: 0.000\u001b[32m [repeated 27x across cluster]\u001b[0m\n"
     ]
    },
    {
     "name": "stderr",
     "output_type": "stream",
     "text": [
      "Val Epoch:20: 47it [00:02, 18.77it/s]\u001b[32m [repeated 23x across cluster]\u001b[0m\n",
      "Val Epoch:3: 0it [00:00, ?it/s]2780078)\u001b[0m \n",
      "Val Epoch:21: 0it [00:00, ?it/s]759010)\u001b[0m \n",
      "Val Epoch:3: 47it [00:02, 28.96it/s]78)\u001b[0m \n"
     ]
    },
    {
     "name": "stdout",
     "output_type": "stream",
     "text": [
      "\u001b[36m(tune_with_parameters pid=2780078)\u001b[0m /tmp/tmps8shqy_h/checkpoint.pt\n"
     ]
    },
    {
     "name": "stderr",
     "output_type": "stream",
     "text": [
      "\u001b[36m(tune_with_parameters pid=2780078)\u001b[0m Checkpoint successfully created at: Checkpoint(filesystem=local, path=/scratch/users/k23058970/Model training/results/Complex Peak Conv Null/tune_with_parameters_2024-08-19_22-54-38/tune_with_parameters_b687f_00004_4_dp=0.5000,k1=1,k2=1,k3=5,k4=3,lr=0.0060_2024-08-19_22-55-13/checkpoint_000003)\n"
     ]
    },
    {
     "name": "stdout",
     "output_type": "stream",
     "text": [
      "\u001b[36m(tune_with_parameters pid=2780078)\u001b[0m loss: 0.016\u001b[32m [repeated 9x across cluster]\u001b[0m\n"
     ]
    },
    {
     "name": "stderr",
     "output_type": "stream",
     "text": [
      "Val Epoch:21: 47it [00:01, 27.52it/s]\u001b[32m [repeated 19x across cluster]\u001b[0m\n",
      "Val Epoch:4: 0it [00:00, ?it/s]2780078)\u001b[0m \n",
      "Val Epoch:22: 0it [00:00, ?it/s]759010)\u001b[0m \n"
     ]
    },
    {
     "name": "stdout",
     "output_type": "stream",
     "text": [
      "\u001b[36m(tune_with_parameters pid=2780078)\u001b[0m loss: 0.009\u001b[32m [repeated 24x across cluster]\u001b[0m\n"
     ]
    },
    {
     "name": "stderr",
     "output_type": "stream",
     "text": [
      "Val Epoch:23: 0it [00:00, ?it/s]759010)\u001b[0m \n",
      "Val Epoch:4: 47it [00:02, 17.39it/s]\u001b[32m [repeated 23x across cluster]\u001b[0m\n",
      "Val Epoch:5: 0it [00:00, ?it/s]2780078)\u001b[0m \n"
     ]
    },
    {
     "name": "stdout",
     "output_type": "stream",
     "text": [
      "\u001b[36m(tune_with_parameters pid=2759010)\u001b[0m loss: 0.000\u001b[32m [repeated 30x across cluster]\u001b[0m\n",
      "\u001b[36m(tune_with_parameters pid=2780078)\u001b[0m /tmp/tmpv0wyqaee/checkpoint.pt\n"
     ]
    },
    {
     "name": "stderr",
     "output_type": "stream",
     "text": [
      "\u001b[36m(tune_with_parameters pid=2780078)\u001b[0m Checkpoint successfully created at: Checkpoint(filesystem=local, path=/scratch/users/k23058970/Model training/results/Complex Peak Conv Null/tune_with_parameters_2024-08-19_22-54-38/tune_with_parameters_b687f_00004_4_dp=0.5000,k1=1,k2=1,k3=5,k4=3,lr=0.0060_2024-08-19_22-55-13/checkpoint_000004)\n"
     ]
    },
    {
     "name": "stdout",
     "output_type": "stream",
     "text": [
      "\u001b[36m(tune_with_parameters pid=2780078)\u001b[0m loss: 0.008\u001b[32m [repeated 29x across cluster]\u001b[0m\n"
     ]
    },
    {
     "name": "stderr",
     "output_type": "stream",
     "text": [
      "Val Epoch:5: 47it [00:01, 27.85it/s]\u001b[32m [repeated 22x across cluster]\u001b[0m\n",
      "Val Epoch:24: 0it [00:00, ?it/s]759010)\u001b[0m \n",
      "Val Epoch:6: 0it [00:00, ?it/s]2780078)\u001b[0m \n"
     ]
    },
    {
     "name": "stdout",
     "output_type": "stream",
     "text": [
      "\u001b[36m(tune_with_parameters pid=2759010)\u001b[0m loss: 0.000\u001b[32m [repeated 7x across cluster]\u001b[0m\n"
     ]
    },
    {
     "name": "stderr",
     "output_type": "stream",
     "text": [
      "Val Epoch:6: 47it [00:02, 20.70it/s]\u001b[32m [repeated 23x across cluster]\u001b[0m\n",
      "Val Epoch:25: 0it [00:00, ?it/s]759010)\u001b[0m \n",
      "Val Epoch:7: 0it [00:00, ?it/s]2780078)\u001b[0m \n"
     ]
    },
    {
     "name": "stdout",
     "output_type": "stream",
     "text": [
      "\u001b[36m(tune_with_parameters pid=2759010)\u001b[0m loss: 0.000\u001b[32m [repeated 24x across cluster]\u001b[0m\n"
     ]
    },
    {
     "name": "stderr",
     "output_type": "stream",
     "text": [
      "Val Epoch:8: 0it [00:00, ?it/s]2780078)\u001b[0m \n",
      "Val Epoch:7: 47it [00:01, 24.63it/s]\u001b[32m [repeated 24x across cluster]\u001b[0m\n",
      "Val Epoch:26: 0it [00:00, ?it/s]759010)\u001b[0m \n"
     ]
    },
    {
     "name": "stdout",
     "output_type": "stream",
     "text": [
      "\u001b[36m(tune_with_parameters pid=2759010)\u001b[0m loss: 0.000\u001b[32m [repeated 30x across cluster]\u001b[0m\n"
     ]
    },
    {
     "name": "stderr",
     "output_type": "stream",
     "text": [
      "Val Epoch:27: 0it [00:00, ?it/s]759010)\u001b[0m \n",
      "Val Epoch:8: 47it [00:02, 21.88it/s]\u001b[32m [repeated 23x across cluster]\u001b[0m\n",
      "Val Epoch:9: 0it [00:00, ?it/s]2780078)\u001b[0m \n"
     ]
    },
    {
     "name": "stdout",
     "output_type": "stream",
     "text": [
      "\u001b[36m(tune_with_parameters pid=2759010)\u001b[0m loss: 0.000\u001b[32m [repeated 30x across cluster]\u001b[0m\n"
     ]
    },
    {
     "name": "stderr",
     "output_type": "stream",
     "text": [
      "Val Epoch:27: 47it [00:01, 29.29it/s]\u001b[32m [repeated 21x across cluster]\u001b[0m\n",
      "Val Epoch:28: 0it [00:00, ?it/s]759010)\u001b[0m \n"
     ]
    },
    {
     "name": "stdout",
     "output_type": "stream",
     "text": [
      "\u001b[36m(tune_with_parameters pid=2759010)\u001b[0m loss: 0.000\u001b[32m [repeated 15x across cluster]\u001b[0m\n"
     ]
    },
    {
     "name": "stderr",
     "output_type": "stream",
     "text": [
      "Val Epoch:29: 0it [00:00, ?it/s]759010)\u001b[0m \n",
      "Val Epoch:28: 47it [00:01, 28.76it/s]\u001b[32m [repeated 11x across cluster]\u001b[0m\n",
      "\u001b[36m(tune_with_parameters pid=2795286)\u001b[0m /users/k23058970/miniforge3/envs/Training/lib/python3.10/site-packages/torch/nn/modules/lazy.py:181: UserWarning: Lazy modules are a new feature under heavy development so changes to the API or functionality can happen at any moment.\n",
      "\u001b[36m(tune_with_parameters pid=2795286)\u001b[0m   warnings.warn('Lazy modules are a new feature under heavy development '\n"
     ]
    },
    {
     "name": "stdout",
     "output_type": "stream",
     "text": [
      "\u001b[36m(tune_with_parameters pid=2759010)\u001b[0m loss: 0.000\u001b[32m [repeated 15x across cluster]\u001b[0m\n"
     ]
    },
    {
     "name": "stderr",
     "output_type": "stream",
     "text": [
      "Val Epoch:30: 0it [00:00, ?it/s]759010)\u001b[0m \n",
      "Val Epoch:29: 47it [00:01, 26.54it/s]\u001b[32m [repeated 13x across cluster]\u001b[0m\n"
     ]
    },
    {
     "name": "stdout",
     "output_type": "stream",
     "text": [
      "\u001b[36m(tune_with_parameters pid=2795286)\u001b[0m loss: 1.204\u001b[32m [repeated 15x across cluster]\u001b[0m\n"
     ]
    },
    {
     "name": "stderr",
     "output_type": "stream",
     "text": [
      "Val Epoch:0: 0it [00:00, ?it/s]2795286)\u001b[0m \n",
      "Val Epoch:30: 47it [00:01, 29.05it/s]\u001b[32m [repeated 11x across cluster]\u001b[0m\n"
     ]
    },
    {
     "name": "stdout",
     "output_type": "stream",
     "text": [
      "\u001b[36m(tune_with_parameters pid=2759010)\u001b[0m loss: 0.000\u001b[32m [repeated 24x across cluster]\u001b[0m\n",
      "\u001b[36m(tune_with_parameters pid=2795286)\u001b[0m /tmp/tmplppal8pe/checkpoint.pt\n"
     ]
    },
    {
     "name": "stderr",
     "output_type": "stream",
     "text": [
      "Val Epoch:0: 47it [00:01, 32.87it/s]86)\u001b[0m \n",
      "\u001b[36m(tune_with_parameters pid=2795286)\u001b[0m Checkpoint successfully created at: Checkpoint(filesystem=local, path=/scratch/users/k23058970/Model training/results/Complex Peak Conv Null/tune_with_parameters_2024-08-19_22-54-38/tune_with_parameters_b687f_00005_5_dp=0.1000,k1=7,k2=1,k3=3,k4=5,lr=0.0484_2024-08-19_22-55-13/checkpoint_000000)\n"
     ]
    },
    {
     "name": "stdout",
     "output_type": "stream",
     "text": [
      "\u001b[36m(tune_with_parameters pid=2795286)\u001b[0m loss: 0.003\u001b[32m [repeated 10x across cluster]\u001b[0m\n"
     ]
    },
    {
     "name": "stderr",
     "output_type": "stream",
     "text": [
      "Val Epoch:1: 0it [00:00, ?it/s]\u001b[32m [repeated 2x across cluster]\u001b[0m\n",
      "Val Epoch:31: 47it [00:02, 23.16it/s]\u001b[32m [repeated 21x across cluster]\u001b[0m\n",
      "Val Epoch:31: 2it [00:00,  2.74it/s]10)\u001b[0m \n"
     ]
    },
    {
     "name": "stdout",
     "output_type": "stream",
     "text": [
      "\u001b[36m(tune_with_parameters pid=2759010)\u001b[0m loss: 0.000\u001b[32m [repeated 25x across cluster]\u001b[0m\n",
      "\u001b[36m(tune_with_parameters pid=2759010)\u001b[0m loss: 0.000\u001b[32m [repeated 12x across cluster]\u001b[0m\n"
     ]
    },
    {
     "name": "stderr",
     "output_type": "stream",
     "text": [
      "Val Epoch:2: 0it [00:00, ?it/s]\u001b[32m [repeated 2x across cluster]\u001b[0m\n",
      "Val Epoch:32: 47it [00:02, 19.72it/s]\u001b[32m [repeated 27x across cluster]\u001b[0m\n"
     ]
    },
    {
     "name": "stdout",
     "output_type": "stream",
     "text": [
      "\u001b[36m(tune_with_parameters pid=2795286)\u001b[0m loss: 0.000\u001b[32m [repeated 19x across cluster]\u001b[0m\n"
     ]
    },
    {
     "name": "stderr",
     "output_type": "stream",
     "text": [
      "Val Epoch:34: 0it [00:00, ?it/s]\u001b[32m [repeated 2x across cluster]\u001b[0m\n",
      "Val Epoch:33: 47it [00:01, 25.28it/s]\u001b[32m [repeated 24x across cluster]\u001b[0m\n"
     ]
    },
    {
     "name": "stdout",
     "output_type": "stream",
     "text": [
      "\u001b[36m(tune_with_parameters pid=2759010)\u001b[0m loss: 0.000\u001b[32m [repeated 30x across cluster]\u001b[0m\n",
      "\u001b[36m(tune_with_parameters pid=2795286)\u001b[0m loss: 0.000\u001b[32m [repeated 27x across cluster]\u001b[0m\n"
     ]
    },
    {
     "name": "stderr",
     "output_type": "stream",
     "text": [
      "Val Epoch:35: 0it [00:00, ?it/s]\u001b[32m [repeated 2x across cluster]\u001b[0m\n",
      "Val Epoch:3: 47it [00:02, 17.66it/s]\u001b[32m [repeated 27x across cluster]\u001b[0m\n"
     ]
    },
    {
     "name": "stdout",
     "output_type": "stream",
     "text": [
      "\u001b[36m(tune_with_parameters pid=2759010)\u001b[0m loss: 0.000\u001b[32m [repeated 6x across cluster]\u001b[0m\n"
     ]
    },
    {
     "name": "stderr",
     "output_type": "stream",
     "text": [
      "Val Epoch:36: 0it [00:00, ?it/s]\u001b[32m [repeated 2x across cluster]\u001b[0m\n",
      "Val Epoch:4: 47it [00:02, 20.69it/s]\u001b[32m [repeated 23x across cluster]\u001b[0m\n"
     ]
    },
    {
     "name": "stdout",
     "output_type": "stream",
     "text": [
      "\u001b[36m(tune_with_parameters pid=2795286)\u001b[0m loss: 0.000\u001b[32m [repeated 24x across cluster]\u001b[0m\n"
     ]
    },
    {
     "name": "stderr",
     "output_type": "stream",
     "text": [
      "Val Epoch:5: 0it [00:00, ?it/s]2795286)\u001b[0m \n",
      "Val Epoch:5: 36it [00:02, 26.96it/s]\u001b[32m [repeated 24x across cluster]\u001b[0m\n"
     ]
    },
    {
     "name": "stdout",
     "output_type": "stream",
     "text": [
      "\u001b[36m(tune_with_parameters pid=2759010)\u001b[0m loss: 0.000\u001b[32m [repeated 8x across cluster]\u001b[0m\n"
     ]
    },
    {
     "name": "stderr",
     "output_type": "stream",
     "text": [
      "Val Epoch:37: 0it [00:00, ?it/s]759010)\u001b[0m \n",
      "Val Epoch:37: 2it [00:00,  8.16it/s]\u001b[32m [repeated 4x across cluster]\u001b[0m\n"
     ]
    },
    {
     "name": "stdout",
     "output_type": "stream",
     "text": [
      "\u001b[36m(tune_with_parameters pid=2795286)\u001b[0m loss: 0.000\u001b[32m [repeated 23x across cluster]\u001b[0m\n"
     ]
    },
    {
     "name": "stderr",
     "output_type": "stream",
     "text": [
      "Val Epoch:6: 0it [00:00, ?it/s]2795286)\u001b[0m \n",
      "Val Epoch:6: 32it [00:01, 23.57it/s]\u001b[32m [repeated 20x across cluster]\u001b[0m\n"
     ]
    },
    {
     "name": "stdout",
     "output_type": "stream",
     "text": [
      "\u001b[36m(tune_with_parameters pid=2759010)\u001b[0m loss: 0.000\u001b[32m [repeated 11x across cluster]\u001b[0m\n"
     ]
    },
    {
     "name": "stderr",
     "output_type": "stream",
     "text": [
      "Val Epoch:38: 0it [00:00, ?it/s]759010)\u001b[0m \n",
      "Val Epoch:38: 28it [00:01, 31.58it/s]\u001b[32m [repeated 12x across cluster]\u001b[0m\n"
     ]
    },
    {
     "name": "stdout",
     "output_type": "stream",
     "text": [
      "\u001b[36m(tune_with_parameters pid=2759010)\u001b[0m loss: 0.000\u001b[32m [repeated 18x across cluster]\u001b[0m\n"
     ]
    },
    {
     "name": "stderr",
     "output_type": "stream",
     "text": [
      "Val Epoch:7: 0it [00:00, ?it/s]2795286)\u001b[0m \n",
      "Val Epoch:7: 41it [00:01, 35.21it/s]\u001b[32m [repeated 16x across cluster]\u001b[0m\n"
     ]
    },
    {
     "name": "stdout",
     "output_type": "stream",
     "text": [
      "\u001b[36m(tune_with_parameters pid=2759010)\u001b[0m loss: 0.000\u001b[32m [repeated 19x across cluster]\u001b[0m\n"
     ]
    },
    {
     "name": "stderr",
     "output_type": "stream",
     "text": [
      "Val Epoch:39: 0it [00:00, ?it/s]759010)\u001b[0m \n"
     ]
    },
    {
     "name": "stdout",
     "output_type": "stream",
     "text": [
      "\u001b[36m(tune_with_parameters pid=2759010)\u001b[0m loss: 0.000\u001b[32m [repeated 17x across cluster]\u001b[0m\n"
     ]
    },
    {
     "name": "stderr",
     "output_type": "stream",
     "text": [
      "Val Epoch:39: 47it [00:01, 23.85it/s]\u001b[32m [repeated 15x across cluster]\u001b[0m\n",
      "Val Epoch:8: 0it [00:00, ?it/s]2795286)\u001b[0m \n",
      "Val Epoch:40: 0it [00:00, ?it/s]759010)\u001b[0m \n"
     ]
    },
    {
     "name": "stdout",
     "output_type": "stream",
     "text": [
      "\u001b[36m(tune_with_parameters pid=2795286)\u001b[0m loss: 0.000\u001b[32m [repeated 14x across cluster]\u001b[0m\n"
     ]
    },
    {
     "name": "stderr",
     "output_type": "stream",
     "text": [
      "Val Epoch:40: 39it [00:01, 30.76it/s]\u001b[32m [repeated 23x across cluster]\u001b[0m\n",
      "Val Epoch:9: 0it [00:00, ?it/s]2795286)\u001b[0m \n"
     ]
    },
    {
     "name": "stdout",
     "output_type": "stream",
     "text": [
      "\u001b[36m(tune_with_parameters pid=2759010)\u001b[0m loss: 0.000\u001b[32m [repeated 21x across cluster]\u001b[0m\n"
     ]
    },
    {
     "name": "stderr",
     "output_type": "stream",
     "text": [
      "Val Epoch:9: 18it [00:01, 19.36it/s]\u001b[32m [repeated 7x across cluster]\u001b[0m\n",
      "Val Epoch:41: 0it [00:00, ?it/s]759010)\u001b[0m \n"
     ]
    },
    {
     "name": "stdout",
     "output_type": "stream",
     "text": [
      "\u001b[36m(tune_with_parameters pid=2759010)\u001b[0m loss: 0.000\u001b[32m [repeated 12x across cluster]\u001b[0m\n"
     ]
    },
    {
     "name": "stderr",
     "output_type": "stream",
     "text": [
      "Val Epoch:41: 47it [00:01, 28.27it/s]\u001b[32m [repeated 19x across cluster]\u001b[0m\n",
      "Val Epoch:10: 0it [00:00, ?it/s]795286)\u001b[0m \n"
     ]
    },
    {
     "name": "stdout",
     "output_type": "stream",
     "text": [
      "\u001b[36m(tune_with_parameters pid=2759010)\u001b[0m loss: 0.000\u001b[32m [repeated 23x across cluster]\u001b[0m\n"
     ]
    },
    {
     "name": "stderr",
     "output_type": "stream",
     "text": [
      "Val Epoch:42: 0it [00:00, ?it/s]759010)\u001b[0m \n"
     ]
    },
    {
     "name": "stdout",
     "output_type": "stream",
     "text": [
      "\u001b[36m(tune_with_parameters pid=2795286)\u001b[0m loss: 0.000\u001b[32m [repeated 12x across cluster]\u001b[0m\n"
     ]
    },
    {
     "name": "stderr",
     "output_type": "stream",
     "text": [
      "Val Epoch:42: 47it [00:02, 22.02it/s]\u001b[32m [repeated 26x across cluster]\u001b[0m\n",
      "Val Epoch:11: 0it [00:00, ?it/s]795286)\u001b[0m \n",
      "Val Epoch:43: 0it [00:00, ?it/s]759010)\u001b[0m \n"
     ]
    },
    {
     "name": "stdout",
     "output_type": "stream",
     "text": [
      "\u001b[36m(tune_with_parameters pid=2795286)\u001b[0m loss: 0.000\u001b[32m [repeated 20x across cluster]\u001b[0m\n",
      "\u001b[36m(tune_with_parameters pid=2759010)\u001b[0m loss: 0.000\u001b[32m [repeated 25x across cluster]\u001b[0m\n"
     ]
    },
    {
     "name": "stderr",
     "output_type": "stream",
     "text": [
      "Val Epoch:43: 47it [00:02, 22.11it/s]\u001b[32m [repeated 24x across cluster]\u001b[0m\n",
      "Val Epoch:12: 0it [00:00, ?it/s]795286)\u001b[0m \n",
      "Val Epoch:44: 0it [00:00, ?it/s]759010)\u001b[0m \n"
     ]
    },
    {
     "name": "stdout",
     "output_type": "stream",
     "text": [
      "\u001b[36m(tune_with_parameters pid=2795286)\u001b[0m loss: 0.000\u001b[32m [repeated 5x across cluster]\u001b[0m\n"
     ]
    },
    {
     "name": "stderr",
     "output_type": "stream",
     "text": [
      "Val Epoch:44: 47it [00:02, 17.15it/s]\u001b[32m [repeated 28x across cluster]\u001b[0m\n",
      "Val Epoch:13: 0it [00:00, ?it/s]795286)\u001b[0m \n",
      "Val Epoch:45: 0it [00:00, ?it/s]759010)\u001b[0m \n"
     ]
    },
    {
     "name": "stdout",
     "output_type": "stream",
     "text": [
      "\u001b[36m(tune_with_parameters pid=2759010)\u001b[0m loss: 0.000\u001b[32m [repeated 30x across cluster]\u001b[0m\n"
     ]
    },
    {
     "name": "stderr",
     "output_type": "stream",
     "text": [
      "Val Epoch:46: 0it [00:00, ?it/s]759010)\u001b[0m \n",
      "Val Epoch:13: 47it [00:02, 20.05it/s]\u001b[32m [repeated 23x across cluster]\u001b[0m\n"
     ]
    },
    {
     "name": "stdout",
     "output_type": "stream",
     "text": [
      "\u001b[36m(tune_with_parameters pid=2795286)\u001b[0m loss: 0.000\u001b[32m [repeated 28x across cluster]\u001b[0m\n"
     ]
    },
    {
     "name": "stderr",
     "output_type": "stream",
     "text": [
      "Val Epoch:14: 0it [00:00, ?it/s]795286)\u001b[0m \n"
     ]
    },
    {
     "name": "stdout",
     "output_type": "stream",
     "text": [
      "\u001b[36m(tune_with_parameters pid=2795286)\u001b[0m loss: 0.000\u001b[32m [repeated 9x across cluster]\u001b[0m\n"
     ]
    },
    {
     "name": "stderr",
     "output_type": "stream",
     "text": [
      "Val Epoch:14: 47it [00:02, 17.07it/s]\u001b[32m [repeated 25x across cluster]\u001b[0m\n",
      "Val Epoch:47: 0it [00:00, ?it/s]759010)\u001b[0m \n"
     ]
    },
    {
     "name": "stdout",
     "output_type": "stream",
     "text": [
      "\u001b[36m(tune_with_parameters pid=2795286)\u001b[0m loss: 0.000\u001b[32m [repeated 22x across cluster]\u001b[0m\n"
     ]
    },
    {
     "name": "stderr",
     "output_type": "stream",
     "text": [
      "Val Epoch:15: 0it [00:00, ?it/s]795286)\u001b[0m \n"
     ]
    },
    {
     "name": "stdout",
     "output_type": "stream",
     "text": [
      "\u001b[36m(tune_with_parameters pid=2759010)\u001b[0m loss: 0.000\u001b[32m [repeated 7x across cluster]\u001b[0m\n"
     ]
    },
    {
     "name": "stderr",
     "output_type": "stream",
     "text": [
      "Val Epoch:15: 47it [00:02, 20.63it/s]\u001b[32m [repeated 27x across cluster]\u001b[0m\n",
      "Val Epoch:48: 0it [00:00, ?it/s]759010)\u001b[0m \n"
     ]
    },
    {
     "name": "stdout",
     "output_type": "stream",
     "text": [
      "\u001b[36m(tune_with_parameters pid=2795286)\u001b[0m loss: 0.000\u001b[32m [repeated 22x across cluster]\u001b[0m\n"
     ]
    },
    {
     "name": "stderr",
     "output_type": "stream",
     "text": [
      "Val Epoch:16: 0it [00:00, ?it/s]795286)\u001b[0m \n",
      "Val Epoch:16: 44it [00:01, 32.45it/s]\u001b[32m [repeated 24x across cluster]\u001b[0m\n"
     ]
    },
    {
     "name": "stdout",
     "output_type": "stream",
     "text": [
      "\u001b[36m(tune_with_parameters pid=2759010)\u001b[0m loss: 0.000\u001b[32m [repeated 13x across cluster]\u001b[0m\n"
     ]
    },
    {
     "name": "stderr",
     "output_type": "stream",
     "text": [
      "Val Epoch:49: 0it [00:00, ?it/s]759010)\u001b[0m \n",
      "Val Epoch:49: 24it [00:00, 35.80it/s]\u001b[32m [repeated 7x across cluster]\u001b[0m\n"
     ]
    },
    {
     "name": "stdout",
     "output_type": "stream",
     "text": [
      "\u001b[36m(tune_with_parameters pid=2759010)\u001b[0m loss: 0.000\u001b[32m [repeated 17x across cluster]\u001b[0m\n"
     ]
    },
    {
     "name": "stderr",
     "output_type": "stream",
     "text": [
      "Val Epoch:17: 0it [00:00, ?it/s]795286)\u001b[0m \n",
      "Val Epoch:17: 41it [00:01, 28.67it/s]\u001b[32m [repeated 17x across cluster]\u001b[0m\n"
     ]
    },
    {
     "name": "stdout",
     "output_type": "stream",
     "text": [
      "\u001b[36m(tune_with_parameters pid=2795286)\u001b[0m loss: 0.000\u001b[32m [repeated 18x across cluster]\u001b[0m\n"
     ]
    },
    {
     "name": "stderr",
     "output_type": "stream",
     "text": [
      "Val Epoch:50: 0it [00:00, ?it/s]759010)\u001b[0m \n",
      "Val Epoch:50: 47it [00:01, 24.65it/s]\u001b[32m [repeated 14x across cluster]\u001b[0m\n"
     ]
    },
    {
     "name": "stdout",
     "output_type": "stream",
     "text": [
      "\u001b[36m(tune_with_parameters pid=2759010)\u001b[0m loss: 0.000\u001b[32m [repeated 18x across cluster]\u001b[0m\n"
     ]
    },
    {
     "name": "stderr",
     "output_type": "stream",
     "text": [
      "Val Epoch:18: 0it [00:00, ?it/s]795286)\u001b[0m \n",
      "Val Epoch:18: 47it [00:02, 20.84it/s]\u001b[32m [repeated 13x across cluster]\u001b[0m\n",
      "Val Epoch:51: 0it [00:00, ?it/s]759010)\u001b[0m \n"
     ]
    },
    {
     "name": "stdout",
     "output_type": "stream",
     "text": [
      "\u001b[36m(tune_with_parameters pid=2795286)\u001b[0m loss: 0.000\u001b[32m [repeated 15x across cluster]\u001b[0m\n"
     ]
    },
    {
     "name": "stderr",
     "output_type": "stream",
     "text": [
      "Val Epoch:19: 0it [00:00, ?it/s]795286)\u001b[0m \n",
      "Val Epoch:19: 2it [00:00,  4.66it/s]\u001b[32m [repeated 14x across cluster]\u001b[0m\n"
     ]
    },
    {
     "name": "stdout",
     "output_type": "stream",
     "text": [
      "\u001b[36m(tune_with_parameters pid=2759010)\u001b[0m loss: 0.000\u001b[32m [repeated 19x across cluster]\u001b[0m\n"
     ]
    },
    {
     "name": "stderr",
     "output_type": "stream",
     "text": [
      "Val Epoch:52: 0it [00:00, ?it/s]759010)\u001b[0m \n",
      "Val Epoch:52: 45it [00:01, 36.98it/s]\u001b[32m [repeated 23x across cluster]\u001b[0m\n"
     ]
    },
    {
     "name": "stdout",
     "output_type": "stream",
     "text": [
      "\u001b[36m(tune_with_parameters pid=2759010)\u001b[0m loss: 0.000\u001b[32m [repeated 15x across cluster]\u001b[0m\n"
     ]
    },
    {
     "name": "stderr",
     "output_type": "stream",
     "text": [
      "Val Epoch:20: 0it [00:00, ?it/s]795286)\u001b[0m \n",
      "Val Epoch:20: 10it [00:00, 15.00it/s]\u001b[32m [repeated 4x across cluster]\u001b[0m\n"
     ]
    },
    {
     "name": "stdout",
     "output_type": "stream",
     "text": [
      "\u001b[36m(tune_with_parameters pid=2759010)\u001b[0m loss: 0.000\u001b[32m [repeated 21x across cluster]\u001b[0m\n"
     ]
    },
    {
     "name": "stderr",
     "output_type": "stream",
     "text": [
      "Val Epoch:53: 0it [00:00, ?it/s]759010)\u001b[0m \n"
     ]
    },
    {
     "name": "stdout",
     "output_type": "stream",
     "text": [
      "\u001b[36m(tune_with_parameters pid=2759010)\u001b[0m loss: 0.000\u001b[32m [repeated 16x across cluster]\u001b[0m\n"
     ]
    },
    {
     "name": "stderr",
     "output_type": "stream",
     "text": [
      "Val Epoch:21: 0it [00:00, ?it/s]795286)\u001b[0m \n",
      "Val Epoch:53: 47it [00:01, 24.77it/s]\u001b[32m [repeated 21x across cluster]\u001b[0m\n"
     ]
    },
    {
     "name": "stdout",
     "output_type": "stream",
     "text": [
      "\u001b[36m(tune_with_parameters pid=2795286)\u001b[0m loss: 0.000\u001b[32m [repeated 15x across cluster]\u001b[0m\n",
      "\u001b[36m(tune_with_parameters pid=2795286)\u001b[0m loss: 0.000\u001b[32m [repeated 22x across cluster]\u001b[0m\n"
     ]
    },
    {
     "name": "stderr",
     "output_type": "stream",
     "text": [
      "Val Epoch:22: 0it [00:00, ?it/s]\u001b[32m [repeated 2x across cluster]\u001b[0m\n",
      "Val Epoch:54: 47it [00:02, 19.28it/s]\u001b[32m [repeated 27x across cluster]\u001b[0m\n",
      "Val Epoch:55: 47it [00:02, 21.40it/s]0)\u001b[0m \n"
     ]
    },
    {
     "name": "stdout",
     "output_type": "stream",
     "text": [
      "\u001b[36m(tune_with_parameters pid=2759010)\u001b[0m loss: 0.000\u001b[32m [repeated 9x across cluster]\u001b[0m\n"
     ]
    },
    {
     "name": "stderr",
     "output_type": "stream",
     "text": [
      "Val Epoch:56: 0it [00:00, ?it/s]\u001b[32m [repeated 2x across cluster]\u001b[0m\n",
      "Val Epoch:55: 40it [00:01, 18.88it/s]\u001b[32m [repeated 23x across cluster]\u001b[0m\n"
     ]
    },
    {
     "name": "stdout",
     "output_type": "stream",
     "text": [
      "\u001b[36m(tune_with_parameters pid=2795286)\u001b[0m loss: 0.000\u001b[32m [repeated 28x across cluster]\u001b[0m\n",
      "\u001b[36m(tune_with_parameters pid=2795286)\u001b[0m loss: 0.000\u001b[32m [repeated 11x across cluster]\u001b[0m\n"
     ]
    },
    {
     "name": "stderr",
     "output_type": "stream",
     "text": [
      "Val Epoch:57: 0it [00:00, ?it/s]\u001b[32m [repeated 2x across cluster]\u001b[0m\n",
      "Val Epoch:23: 47it [00:02, 17.24it/s]\u001b[32m [repeated 24x across cluster]\u001b[0m\n"
     ]
    },
    {
     "name": "stdout",
     "output_type": "stream",
     "text": [
      "\u001b[36m(tune_with_parameters pid=2759010)\u001b[0m loss: 0.000\u001b[32m [repeated 20x across cluster]\u001b[0m\n"
     ]
    },
    {
     "name": "stderr",
     "output_type": "stream",
     "text": [
      "Val Epoch:24: 47it [00:02, 20.12it/s]6)\u001b[0m \n"
     ]
    },
    {
     "name": "stdout",
     "output_type": "stream",
     "text": [
      "\u001b[36m(tune_with_parameters pid=2795286)\u001b[0m loss: 0.000\u001b[32m [repeated 23x across cluster]\u001b[0m\n"
     ]
    },
    {
     "name": "stderr",
     "output_type": "stream",
     "text": [
      "Val Epoch:58: 0it [00:00, ?it/s]\u001b[32m [repeated 2x across cluster]\u001b[0m\n",
      "Val Epoch:24: 42it [00:02, 30.05it/s]\u001b[32m [repeated 24x across cluster]\u001b[0m\n"
     ]
    },
    {
     "name": "stdout",
     "output_type": "stream",
     "text": [
      "\u001b[36m(tune_with_parameters pid=2759010)\u001b[0m loss: 0.000\u001b[32m [repeated 9x across cluster]\u001b[0m\n"
     ]
    },
    {
     "name": "stderr",
     "output_type": "stream",
     "text": [
      "Val Epoch:25: 0it [00:00, ?it/s]795286)\u001b[0m \n",
      "Val Epoch:25: 32it [00:01, 27.52it/s]\u001b[32m [repeated 22x across cluster]\u001b[0m\n",
      "Val Epoch:25: 47it [00:02, 22.04it/s]6)\u001b[0m \n",
      "Val Epoch:59: 0it [00:00, ?it/s]759010)\u001b[0m \n"
     ]
    },
    {
     "name": "stdout",
     "output_type": "stream",
     "text": [
      "\u001b[36m(tune_with_parameters pid=2795286)\u001b[0m loss: 0.000\u001b[32m [repeated 21x across cluster]\u001b[0m\n"
     ]
    },
    {
     "name": "stderr",
     "output_type": "stream",
     "text": [
      "Val Epoch:59: 16it [00:00, 29.75it/s]\u001b[32m [repeated 7x across cluster]\u001b[0m\n",
      "Val Epoch:26: 0it [00:00, ?it/s]795286)\u001b[0m \n"
     ]
    },
    {
     "name": "stdout",
     "output_type": "stream",
     "text": [
      "\u001b[36m(tune_with_parameters pid=2759010)\u001b[0m loss: 0.000\u001b[32m [repeated 14x across cluster]\u001b[0m\n"
     ]
    },
    {
     "name": "stderr",
     "output_type": "stream",
     "text": [
      "Val Epoch:26: 47it [00:01, 24.14it/s]\u001b[32m [repeated 22x across cluster]\u001b[0m\n",
      "Val Epoch:60: 0it [00:00, ?it/s]759010)\u001b[0m \n"
     ]
    },
    {
     "name": "stdout",
     "output_type": "stream",
     "text": [
      "\u001b[36m(tune_with_parameters pid=2795286)\u001b[0m loss: 0.000\u001b[32m [repeated 17x across cluster]\u001b[0m\n"
     ]
    },
    {
     "name": "stderr",
     "output_type": "stream",
     "text": [
      "Val Epoch:60: 47it [00:01, 23.65it/s]\u001b[32m [repeated 12x across cluster]\u001b[0m\n",
      "Val Epoch:27: 0it [00:00, ?it/s]795286)\u001b[0m \n",
      "Val Epoch:27: 5it [00:00, 13.74it/s]86)\u001b[0m \n"
     ]
    },
    {
     "name": "stdout",
     "output_type": "stream",
     "text": [
      "\u001b[36m(tune_with_parameters pid=2759010)\u001b[0m loss: 0.000\u001b[32m [repeated 17x across cluster]\u001b[0m\n"
     ]
    },
    {
     "name": "stderr",
     "output_type": "stream",
     "text": [
      "Val Epoch:61: 0it [00:00, ?it/s]759010)\u001b[0m \n",
      "Val Epoch:61: 20it [00:00, 31.36it/s]\u001b[32m [repeated 17x across cluster]\u001b[0m\n"
     ]
    },
    {
     "name": "stdout",
     "output_type": "stream",
     "text": [
      "\u001b[36m(tune_with_parameters pid=2759010)\u001b[0m loss: 0.000\u001b[32m [repeated 13x across cluster]\u001b[0m\n"
     ]
    },
    {
     "name": "stderr",
     "output_type": "stream",
     "text": [
      "Val Epoch:28: 0it [00:00, ?it/s]795286)\u001b[0m \n",
      "Val Epoch:28: 1it [00:00,  1.57it/s]\u001b[32m [repeated 8x across cluster]\u001b[0m\n"
     ]
    },
    {
     "name": "stdout",
     "output_type": "stream",
     "text": [
      "\u001b[36m(tune_with_parameters pid=2795286)\u001b[0m loss: 0.000\u001b[32m [repeated 21x across cluster]\u001b[0m\n"
     ]
    },
    {
     "name": "stderr",
     "output_type": "stream",
     "text": [
      "Val Epoch:62: 0it [00:00, ?it/s]759010)\u001b[0m \n"
     ]
    },
    {
     "name": "stdout",
     "output_type": "stream",
     "text": [
      "\u001b[36m(tune_with_parameters pid=2759010)\u001b[0m loss: 0.000\u001b[32m [repeated 17x across cluster]\u001b[0m\n"
     ]
    },
    {
     "name": "stderr",
     "output_type": "stream",
     "text": [
      "Val Epoch:62: 47it [00:01, 31.26it/s]\u001b[32m [repeated 24x across cluster]\u001b[0m\n",
      "Val Epoch:29: 0it [00:00, ?it/s]795286)\u001b[0m \n",
      "Val Epoch:63: 0it [00:00, ?it/s]759010)\u001b[0m \n"
     ]
    },
    {
     "name": "stdout",
     "output_type": "stream",
     "text": [
      "\u001b[36m(tune_with_parameters pid=2795286)\u001b[0m loss: 0.000\u001b[32m [repeated 14x across cluster]\u001b[0m\n",
      "\u001b[36m(tune_with_parameters pid=2795286)\u001b[0m loss: 0.000\u001b[32m [repeated 25x across cluster]\u001b[0m\n"
     ]
    },
    {
     "name": "stderr",
     "output_type": "stream",
     "text": [
      "Val Epoch:63: 47it [00:02, 16.96it/s]\u001b[32m [repeated 27x across cluster]\u001b[0m\n",
      "Val Epoch:30: 0it [00:00, ?it/s]795286)\u001b[0m \n",
      "Val Epoch:64: 0it [00:00, ?it/s]759010)\u001b[0m \n"
     ]
    },
    {
     "name": "stdout",
     "output_type": "stream",
     "text": [
      "\u001b[36m(tune_with_parameters pid=2759010)\u001b[0m loss: 0.000\u001b[32m [repeated 8x across cluster]\u001b[0m\n"
     ]
    },
    {
     "name": "stderr",
     "output_type": "stream",
     "text": [
      "Val Epoch:64: 47it [00:02, 21.65it/s]\u001b[32m [repeated 25x across cluster]\u001b[0m\n",
      "Val Epoch:31: 0it [00:00, ?it/s]795286)\u001b[0m \n",
      "Val Epoch:65: 0it [00:00, ?it/s]759010)\u001b[0m \n"
     ]
    },
    {
     "name": "stdout",
     "output_type": "stream",
     "text": [
      "\u001b[36m(tune_with_parameters pid=2759010)\u001b[0m loss: 0.000\u001b[32m [repeated 26x across cluster]\u001b[0m\n"
     ]
    },
    {
     "name": "stderr",
     "output_type": "stream",
     "text": [
      "Val Epoch:66: 0it [00:00, ?it/s]759010)\u001b[0m \n",
      "Val Epoch:31: 47it [00:02, 18.19it/s]\u001b[32m [repeated 25x across cluster]\u001b[0m\n"
     ]
    },
    {
     "name": "stdout",
     "output_type": "stream",
     "text": [
      "\u001b[36m(tune_with_parameters pid=2795286)\u001b[0m loss: 0.000\u001b[32m [repeated 28x across cluster]\u001b[0m\n"
     ]
    },
    {
     "name": "stderr",
     "output_type": "stream",
     "text": [
      "Val Epoch:32: 0it [00:00, ?it/s]795286)\u001b[0m \n"
     ]
    },
    {
     "name": "stdout",
     "output_type": "stream",
     "text": [
      "\u001b[36m(tune_with_parameters pid=2759010)\u001b[0m loss: 0.000\u001b[32m [repeated 5x across cluster]\u001b[0m\n"
     ]
    },
    {
     "name": "stderr",
     "output_type": "stream",
     "text": [
      "Val Epoch:32: 47it [00:02, 16.30it/s]\u001b[32m [repeated 25x across cluster]\u001b[0m\n",
      "Val Epoch:67: 0it [00:00, ?it/s]759010)\u001b[0m \n"
     ]
    },
    {
     "name": "stdout",
     "output_type": "stream",
     "text": [
      "\u001b[36m(tune_with_parameters pid=2795286)\u001b[0m loss: 0.000\u001b[32m [repeated 25x across cluster]\u001b[0m\n"
     ]
    },
    {
     "name": "stderr",
     "output_type": "stream",
     "text": [
      "Val Epoch:33: 0it [00:00, ?it/s]795286)\u001b[0m \n",
      "Val Epoch:33: 30it [00:02, 25.23it/s]\u001b[32m [repeated 22x across cluster]\u001b[0m\n"
     ]
    },
    {
     "name": "stdout",
     "output_type": "stream",
     "text": [
      "\u001b[36m(tune_with_parameters pid=2795286)\u001b[0m loss: 0.000\u001b[32m [repeated 9x across cluster]\u001b[0m\n"
     ]
    },
    {
     "name": "stderr",
     "output_type": "stream",
     "text": [
      "Val Epoch:68: 0it [00:00, ?it/s]759010)\u001b[0m \n",
      "Val Epoch:68: 1it [00:00,  2.26it/s]\u001b[32m [repeated 6x across cluster]\u001b[0m\n"
     ]
    },
    {
     "name": "stdout",
     "output_type": "stream",
     "text": [
      "\u001b[36m(tune_with_parameters pid=2759010)\u001b[0m loss: 0.000\u001b[32m [repeated 20x across cluster]\u001b[0m\n"
     ]
    },
    {
     "name": "stderr",
     "output_type": "stream",
     "text": [
      "Val Epoch:34: 0it [00:00, ?it/s]795286)\u001b[0m \n",
      "Val Epoch:34: 25it [00:01, 25.07it/s]\u001b[32m [repeated 18x across cluster]\u001b[0m\n"
     ]
    },
    {
     "name": "stdout",
     "output_type": "stream",
     "text": [
      "\u001b[36m(tune_with_parameters pid=2759010)\u001b[0m loss: 0.000\u001b[32m [repeated 16x across cluster]\u001b[0m\n"
     ]
    },
    {
     "name": "stderr",
     "output_type": "stream",
     "text": [
      "Val Epoch:69: 0it [00:00, ?it/s]759010)\u001b[0m \n",
      "Val Epoch:69: 31it [00:01, 22.29it/s]\u001b[32m [repeated 13x across cluster]\u001b[0m\n"
     ]
    },
    {
     "name": "stdout",
     "output_type": "stream",
     "text": [
      "\u001b[36m(tune_with_parameters pid=2759010)\u001b[0m loss: 0.000\u001b[32m [repeated 18x across cluster]\u001b[0m\n"
     ]
    },
    {
     "name": "stderr",
     "output_type": "stream",
     "text": [
      "Val Epoch:35: 0it [00:00, ?it/s]795286)\u001b[0m \n",
      "Val Epoch:35: 45it [00:02, 22.95it/s]\u001b[32m [repeated 17x across cluster]\u001b[0m\n"
     ]
    },
    {
     "name": "stdout",
     "output_type": "stream",
     "text": [
      "\u001b[36m(tune_with_parameters pid=2795286)\u001b[0m loss: 0.000\u001b[32m [repeated 18x across cluster]\u001b[0m\n"
     ]
    },
    {
     "name": "stderr",
     "output_type": "stream",
     "text": [
      "Val Epoch:70: 0it [00:00, ?it/s]759010)\u001b[0m \n",
      "Val Epoch:36: 0it [00:00, ?it/s]795286)\u001b[0m \n",
      "Val Epoch:70: 47it [00:01, 25.46it/s]\u001b[32m [repeated 13x across cluster]\u001b[0m\n"
     ]
    },
    {
     "name": "stdout",
     "output_type": "stream",
     "text": [
      "\u001b[36m(tune_with_parameters pid=2759010)\u001b[0m loss: 0.000\u001b[32m [repeated 17x across cluster]\u001b[0m\n"
     ]
    },
    {
     "name": "stderr",
     "output_type": "stream",
     "text": [
      "Val Epoch:71: 0it [00:00, ?it/s]759010)\u001b[0m \n",
      "Val Epoch:71: 11it [00:00, 22.74it/s]\u001b[32m [repeated 16x across cluster]\u001b[0m\n"
     ]
    },
    {
     "name": "stdout",
     "output_type": "stream",
     "text": [
      "\u001b[36m(tune_with_parameters pid=2795286)\u001b[0m loss: 0.000\u001b[32m [repeated 14x across cluster]\u001b[0m\n"
     ]
    },
    {
     "name": "stderr",
     "output_type": "stream",
     "text": [
      "Val Epoch:37: 0it [00:00, ?it/s]795286)\u001b[0m \n",
      "Val Epoch:37: 1it [00:00,  1.48it/s]\u001b[32m [repeated 10x across cluster]\u001b[0m\n"
     ]
    },
    {
     "name": "stdout",
     "output_type": "stream",
     "text": [
      "\u001b[36m(tune_with_parameters pid=2759010)\u001b[0m loss: 0.000\u001b[32m [repeated 19x across cluster]\u001b[0m\n"
     ]
    },
    {
     "name": "stderr",
     "output_type": "stream",
     "text": [
      "Val Epoch:72: 0it [00:00, ?it/s]759010)\u001b[0m \n",
      "Val Epoch:72: 47it [00:02, 21.96it/s]\u001b[32m [repeated 24x across cluster]\u001b[0m\n"
     ]
    },
    {
     "name": "stdout",
     "output_type": "stream",
     "text": [
      "\u001b[36m(tune_with_parameters pid=2795286)\u001b[0m loss: 0.000\u001b[32m [repeated 11x across cluster]\u001b[0m\n"
     ]
    },
    {
     "name": "stderr",
     "output_type": "stream",
     "text": [
      "Val Epoch:38: 0it [00:00, ?it/s]795286)\u001b[0m \n",
      "Val Epoch:38: 1it [00:00,  6.32it/s]86)\u001b[0m \n",
      "Val Epoch:38: 5it [00:00, 19.01it/s]86)\u001b[0m \n"
     ]
    },
    {
     "name": "stdout",
     "output_type": "stream",
     "text": [
      "\u001b[36m(tune_with_parameters pid=2759010)\u001b[0m loss: 0.000\u001b[32m [repeated 21x across cluster]\u001b[0m\n"
     ]
    },
    {
     "name": "stderr",
     "output_type": "stream",
     "text": [
      "Val Epoch:38: 9it [00:00, 26.46it/s]86)\u001b[0m \n",
      "Val Epoch:38: 12it [00:00, 26.07it/s]6)\u001b[0m \n",
      "Val Epoch:38: 16it [00:00, 29.33it/s]6)\u001b[0m \n",
      "Val Epoch:38: 20it [00:00, 28.94it/s]6)\u001b[0m \n",
      "Val Epoch:38: 24it [00:00, 30.87it/s]6)\u001b[0m \n",
      "Val Epoch:38: 28it [00:01, 30.61it/s]6)\u001b[0m \n",
      "Val Epoch:38: 32it [00:01, 32.16it/s]6)\u001b[0m \n",
      "Val Epoch:38: 36it [00:01, 29.91it/s]6)\u001b[0m \n",
      "Val Epoch:38: 41it [00:01, 32.08it/s]6)\u001b[0m \n",
      "Val Epoch:38: 45it [00:02, 13.28it/s]6)\u001b[0m \n",
      "Val Epoch:38: 47it [00:02, 17.40it/s]6)\u001b[0m \n",
      "Val Epoch:73: 0it [00:00, ?it/s]759010)\u001b[0m \n"
     ]
    },
    {
     "name": "stdout",
     "output_type": "stream",
     "text": [
      "\u001b[36m(tune_with_parameters pid=2759010)\u001b[0m loss: 0.000\u001b[32m [repeated 8x across cluster]\u001b[0m\n"
     ]
    },
    {
     "name": "stderr",
     "output_type": "stream",
     "text": [
      "Val Epoch:39: 0it [00:00, ?it/s]795286)\u001b[0m \n",
      "Val Epoch:73: 47it [00:02, 17.50it/s]\u001b[32m [repeated 15x across cluster]\u001b[0m\n"
     ]
    },
    {
     "name": "stdout",
     "output_type": "stream",
     "text": [
      "\u001b[36m(tune_with_parameters pid=2759010)\u001b[0m loss: 0.000\u001b[32m [repeated 25x across cluster]\u001b[0m\n",
      "\u001b[36m(tune_with_parameters pid=2795286)\u001b[0m loss: 0.000\u001b[32m [repeated 11x across cluster]\u001b[0m\n"
     ]
    },
    {
     "name": "stderr",
     "output_type": "stream",
     "text": [
      "Val Epoch:40: 0it [00:00, ?it/s]\u001b[32m [repeated 2x across cluster]\u001b[0m\n",
      "Val Epoch:74: 47it [00:02, 19.61it/s]\u001b[32m [repeated 26x across cluster]\u001b[0m\n",
      "Val Epoch:75: 47it [00:02, 18.56it/s]0)\u001b[0m \n"
     ]
    },
    {
     "name": "stdout",
     "output_type": "stream",
     "text": [
      "\u001b[36m(tune_with_parameters pid=2795286)\u001b[0m loss: 0.000\u001b[32m [repeated 20x across cluster]\u001b[0m\n",
      "\u001b[36m(tune_with_parameters pid=2759010)\u001b[0m loss: 0.000\u001b[32m [repeated 24x across cluster]\u001b[0m\n"
     ]
    },
    {
     "name": "stderr",
     "output_type": "stream",
     "text": [
      "Val Epoch:76: 0it [00:00, ?it/s]\u001b[32m [repeated 2x across cluster]\u001b[0m\n",
      "Val Epoch:75: 43it [00:02, 15.55it/s]\u001b[32m [repeated 23x across cluster]\u001b[0m\n"
     ]
    },
    {
     "name": "stdout",
     "output_type": "stream",
     "text": [
      "\u001b[36m(tune_with_parameters pid=2759010)\u001b[0m loss: 0.000\u001b[32m [repeated 7x across cluster]\u001b[0m\n"
     ]
    },
    {
     "name": "stderr",
     "output_type": "stream",
     "text": [
      "Val Epoch:77: 0it [00:00, ?it/s]\u001b[32m [repeated 2x across cluster]\u001b[0m\n",
      "Val Epoch:41: 47it [00:02, 19.23it/s]\u001b[32m [repeated 25x across cluster]\u001b[0m\n"
     ]
    },
    {
     "name": "stdout",
     "output_type": "stream",
     "text": [
      "\u001b[36m(tune_with_parameters pid=2795286)\u001b[0m loss: 0.000\u001b[32m [repeated 26x across cluster]\u001b[0m\n",
      "\u001b[36m(tune_with_parameters pid=2759010)\u001b[0m loss: 0.000\u001b[32m [repeated 9x across cluster]\u001b[0m\n"
     ]
    },
    {
     "name": "stderr",
     "output_type": "stream",
     "text": [
      "Val Epoch:78: 0it [00:00, ?it/s]\u001b[32m [repeated 2x across cluster]\u001b[0m\n",
      "Val Epoch:42: 47it [00:02, 18.36it/s]\u001b[32m [repeated 25x across cluster]\u001b[0m\n"
     ]
    },
    {
     "name": "stdout",
     "output_type": "stream",
     "text": [
      "\u001b[36m(tune_with_parameters pid=2795286)\u001b[0m loss: 0.000\u001b[32m [repeated 22x across cluster]\u001b[0m\n",
      "\u001b[36m(tune_with_parameters pid=2795286)\u001b[0m loss: 0.000\u001b[32m [repeated 11x across cluster]\u001b[0m\n"
     ]
    },
    {
     "name": "stderr",
     "output_type": "stream",
     "text": [
      "Val Epoch:79: 0it [00:00, ?it/s]\u001b[32m [repeated 2x across cluster]\u001b[0m\n",
      "Val Epoch:43: 47it [00:02, 18.97it/s]\u001b[32m [repeated 26x across cluster]\u001b[0m\n"
     ]
    },
    {
     "name": "stdout",
     "output_type": "stream",
     "text": [
      "\u001b[36m(tune_with_parameters pid=2795286)\u001b[0m loss: 0.000\u001b[32m [repeated 19x across cluster]\u001b[0m\n"
     ]
    },
    {
     "name": "stderr",
     "output_type": "stream",
     "text": [
      "Val Epoch:44: 0it [00:00, ?it/s]795286)\u001b[0m \n",
      "Val Epoch:44: 33it [00:01, 28.90it/s]\u001b[32m [repeated 22x across cluster]\u001b[0m\n"
     ]
    },
    {
     "name": "stdout",
     "output_type": "stream",
     "text": [
      "\u001b[36m(tune_with_parameters pid=2759010)\u001b[0m loss: 0.000\u001b[32m [repeated 16x across cluster]\u001b[0m\n"
     ]
    },
    {
     "name": "stderr",
     "output_type": "stream",
     "text": [
      "Val Epoch:80: 0it [00:00, ?it/s]759010)\u001b[0m \n",
      "Val Epoch:80: 21it [00:01, 29.08it/s]\u001b[32m [repeated 10x across cluster]\u001b[0m\n"
     ]
    },
    {
     "name": "stdout",
     "output_type": "stream",
     "text": [
      "\u001b[36m(tune_with_parameters pid=2795286)\u001b[0m loss: 0.000\u001b[32m [repeated 16x across cluster]\u001b[0m\n"
     ]
    },
    {
     "name": "stderr",
     "output_type": "stream",
     "text": [
      "Val Epoch:45: 0it [00:00, ?it/s]795286)\u001b[0m \n",
      "Val Epoch:45: 36it [00:01, 27.84it/s]\u001b[32m [repeated 16x across cluster]\u001b[0m\n"
     ]
    },
    {
     "name": "stdout",
     "output_type": "stream",
     "text": [
      "\u001b[36m(tune_with_parameters pid=2759010)\u001b[0m loss: 0.000\u001b[32m [repeated 15x across cluster]\u001b[0m\n"
     ]
    },
    {
     "name": "stderr",
     "output_type": "stream",
     "text": [
      "Val Epoch:81: 0it [00:00, ?it/s]759010)\u001b[0m \n"
     ]
    },
    {
     "name": "stdout",
     "output_type": "stream",
     "text": [
      "\u001b[36m(tune_with_parameters pid=2759010)\u001b[0m loss: 0.000\u001b[32m [repeated 16x across cluster]\u001b[0m\n"
     ]
    },
    {
     "name": "stderr",
     "output_type": "stream",
     "text": [
      "Val Epoch:81: 47it [00:01, 31.84it/s]\u001b[32m [repeated 14x across cluster]\u001b[0m\n",
      "Val Epoch:46: 0it [00:00, ?it/s]795286)\u001b[0m \n",
      "Val Epoch:82: 0it [00:00, ?it/s]759010)\u001b[0m \n"
     ]
    },
    {
     "name": "stdout",
     "output_type": "stream",
     "text": [
      "\u001b[36m(tune_with_parameters pid=2795286)\u001b[0m loss: 0.000\u001b[32m [repeated 15x across cluster]\u001b[0m\n"
     ]
    },
    {
     "name": "stderr",
     "output_type": "stream",
     "text": [
      "Val Epoch:82: 38it [00:01, 27.17it/s]\u001b[32m [repeated 23x across cluster]\u001b[0m\n"
     ]
    },
    {
     "name": "stdout",
     "output_type": "stream",
     "text": [
      "\u001b[36m(tune_with_parameters pid=2795286)\u001b[0m loss: 0.000\u001b[32m [repeated 22x across cluster]\u001b[0m\n"
     ]
    },
    {
     "name": "stderr",
     "output_type": "stream",
     "text": [
      "Val Epoch:47: 0it [00:00, ?it/s]795286)\u001b[0m \n",
      "Val Epoch:47: 1it [00:00,  1.31it/s]\u001b[32m [repeated 3x across cluster]\u001b[0m\n",
      "Val Epoch:83: 0it [00:00, ?it/s]759010)\u001b[0m \n"
     ]
    },
    {
     "name": "stdout",
     "output_type": "stream",
     "text": [
      "\u001b[36m(tune_with_parameters pid=2795286)\u001b[0m loss: 0.000\u001b[32m [repeated 8x across cluster]\u001b[0m\n",
      "\u001b[36m(tune_with_parameters pid=2759010)\u001b[0m loss: 0.000\u001b[32m [repeated 24x across cluster]\u001b[0m\n"
     ]
    },
    {
     "name": "stderr",
     "output_type": "stream",
     "text": [
      "Val Epoch:83: 47it [00:03, 15.40it/s]\u001b[32m [repeated 27x across cluster]\u001b[0m\n",
      "Val Epoch:48: 0it [00:00, ?it/s]795286)\u001b[0m \n",
      "Val Epoch:84: 0it [00:00, ?it/s]759010)\u001b[0m \n"
     ]
    },
    {
     "name": "stdout",
     "output_type": "stream",
     "text": [
      "\u001b[36m(tune_with_parameters pid=2759010)\u001b[0m loss: 0.000\u001b[32m [repeated 7x across cluster]\u001b[0m\n"
     ]
    },
    {
     "name": "stderr",
     "output_type": "stream",
     "text": [
      "Val Epoch:84: 47it [00:02, 22.92it/s]\u001b[32m [repeated 25x across cluster]\u001b[0m\n",
      "Val Epoch:49: 0it [00:00, ?it/s]795286)\u001b[0m \n"
     ]
    },
    {
     "name": "stdout",
     "output_type": "stream",
     "text": [
      "\u001b[36m(tune_with_parameters pid=2759010)\u001b[0m loss: 0.000\u001b[32m [repeated 27x across cluster]\u001b[0m\n"
     ]
    },
    {
     "name": "stderr",
     "output_type": "stream",
     "text": [
      "Val Epoch:85: 0it [00:00, ?it/s]759010)\u001b[0m \n",
      "Val Epoch:85: 47it [00:02, 19.00it/s]0)\u001b[0m \n"
     ]
    },
    {
     "name": "stdout",
     "output_type": "stream",
     "text": [
      "\u001b[36m(tune_with_parameters pid=2759010)\u001b[0m loss: 0.000\u001b[32m [repeated 8x across cluster]\u001b[0m\n"
     ]
    },
    {
     "name": "stderr",
     "output_type": "stream",
     "text": [
      "Val Epoch:86: 0it [00:00, ?it/s]759010)\u001b[0m \n",
      "Val Epoch:85: 42it [00:01, 40.85it/s]\u001b[32m [repeated 25x across cluster]\u001b[0m\n",
      "Val Epoch:50: 0it [00:00, ?it/s]795286)\u001b[0m \n"
     ]
    },
    {
     "name": "stdout",
     "output_type": "stream",
     "text": [
      "\u001b[36m(tune_with_parameters pid=2759010)\u001b[0m loss: 0.000\u001b[32m [repeated 23x across cluster]\u001b[0m\n",
      "\u001b[36m(tune_with_parameters pid=2795286)\u001b[0m \n",
      "\u001b[36m(tune_with_parameters pid=2759010)\u001b[0m loss: 0.000\u001b[32m [repeated 24x across cluster]\u001b[0m\n"
     ]
    },
    {
     "name": "stderr",
     "output_type": "stream",
     "text": [
      "Val Epoch:50: 47it [00:03, 14.75it/s]\u001b[32m [repeated 26x across cluster]\u001b[0m\n",
      "Val Epoch:87: 0it [00:00, ?it/s]759010)\u001b[0m \n",
      "Val Epoch:51: 0it [00:00, ?it/s]795286)\u001b[0m \n"
     ]
    },
    {
     "name": "stdout",
     "output_type": "stream",
     "text": [
      "\u001b[36m(tune_with_parameters pid=2759010)\u001b[0m loss: 0.000\u001b[32m [repeated 7x across cluster]\u001b[0m\n"
     ]
    },
    {
     "name": "stderr",
     "output_type": "stream",
     "text": [
      "Val Epoch:51: 47it [00:02, 16.02it/s]\u001b[32m [repeated 25x across cluster]\u001b[0m\n",
      "Val Epoch:88: 0it [00:00, ?it/s]759010)\u001b[0m \n"
     ]
    },
    {
     "name": "stdout",
     "output_type": "stream",
     "text": [
      "\u001b[36m(tune_with_parameters pid=2795286)\u001b[0m loss: 0.000\u001b[32m [repeated 26x across cluster]\u001b[0m\n"
     ]
    },
    {
     "name": "stderr",
     "output_type": "stream",
     "text": [
      "Val Epoch:52: 0it [00:00, ?it/s]795286)\u001b[0m \n"
     ]
    },
    {
     "name": "stdout",
     "output_type": "stream",
     "text": [
      "\u001b[36m(tune_with_parameters pid=2795286)\u001b[0m loss: 0.000\u001b[32m [repeated 9x across cluster]\u001b[0m\n"
     ]
    },
    {
     "name": "stderr",
     "output_type": "stream",
     "text": [
      "Val Epoch:52: 47it [00:02, 18.26it/s]\u001b[32m [repeated 25x across cluster]\u001b[0m\n",
      "Val Epoch:89: 0it [00:00, ?it/s]759010)\u001b[0m \n"
     ]
    },
    {
     "name": "stdout",
     "output_type": "stream",
     "text": [
      "\u001b[36m(tune_with_parameters pid=2795286)\u001b[0m loss: 0.000\u001b[32m [repeated 22x across cluster]\u001b[0m\n"
     ]
    },
    {
     "name": "stderr",
     "output_type": "stream",
     "text": [
      "Val Epoch:53: 0it [00:00, ?it/s]795286)\u001b[0m \n"
     ]
    },
    {
     "name": "stdout",
     "output_type": "stream",
     "text": [
      "\u001b[36m(tune_with_parameters pid=2759010)\u001b[0m loss: 0.000\u001b[32m [repeated 8x across cluster]\u001b[0m\n"
     ]
    },
    {
     "name": "stderr",
     "output_type": "stream",
     "text": [
      "Val Epoch:53: 47it [00:02, 15.81it/s]\u001b[32m [repeated 25x across cluster]\u001b[0m\n",
      "Val Epoch:90: 0it [00:00, ?it/s]759010)\u001b[0m \n"
     ]
    },
    {
     "name": "stdout",
     "output_type": "stream",
     "text": [
      "\u001b[36m(tune_with_parameters pid=2759010)\u001b[0m loss: 0.000\u001b[32m [repeated 22x across cluster]\u001b[0m\n"
     ]
    },
    {
     "name": "stderr",
     "output_type": "stream",
     "text": [
      "Val Epoch:54: 0it [00:00, ?it/s]795286)\u001b[0m \n",
      "Val Epoch:54: 25it [00:01, 23.64it/s]\u001b[32m [repeated 21x across cluster]\u001b[0m\n"
     ]
    },
    {
     "name": "stdout",
     "output_type": "stream",
     "text": [
      "\u001b[36m(tune_with_parameters pid=2759010)\u001b[0m loss: 0.000\u001b[32m [repeated 17x across cluster]\u001b[0m\n"
     ]
    },
    {
     "name": "stderr",
     "output_type": "stream",
     "text": [
      "Val Epoch:91: 0it [00:00, ?it/s]759010)\u001b[0m \n",
      "Val Epoch:91: 28it [00:01, 31.22it/s]\u001b[32m [repeated 14x across cluster]\u001b[0m\n"
     ]
    },
    {
     "name": "stdout",
     "output_type": "stream",
     "text": [
      "\u001b[36m(tune_with_parameters pid=2759010)\u001b[0m loss: 0.000\u001b[32m [repeated 15x across cluster]\u001b[0m\n"
     ]
    },
    {
     "name": "stderr",
     "output_type": "stream",
     "text": [
      "Val Epoch:55: 0it [00:00, ?it/s]795286)\u001b[0m \n",
      "Val Epoch:55: 13it [00:01, 11.53it/s]\u001b[32m [repeated 9x across cluster]\u001b[0m\n"
     ]
    },
    {
     "name": "stdout",
     "output_type": "stream",
     "text": [
      "\u001b[36m(tune_with_parameters pid=2759010)\u001b[0m loss: 0.000\u001b[32m [repeated 14x across cluster]\u001b[0m\n"
     ]
    },
    {
     "name": "stderr",
     "output_type": "stream",
     "text": [
      "Val Epoch:92: 0it [00:00, ?it/s]759010)\u001b[0m \n",
      "Val Epoch:92: 36it [00:01, 28.15it/s]\u001b[32m [repeated 18x across cluster]\u001b[0m\n"
     ]
    },
    {
     "name": "stdout",
     "output_type": "stream",
     "text": [
      "\u001b[36m(tune_with_parameters pid=2795286)\u001b[0m loss: 0.000\u001b[32m [repeated 19x across cluster]\u001b[0m\n"
     ]
    },
    {
     "name": "stderr",
     "output_type": "stream",
     "text": [
      "Val Epoch:56: 0it [00:00, ?it/s]795286)\u001b[0m \n",
      "Val Epoch:56: 33it [00:01, 29.72it/s]\u001b[32m [repeated 12x across cluster]\u001b[0m\n"
     ]
    },
    {
     "name": "stdout",
     "output_type": "stream",
     "text": [
      "\u001b[36m(tune_with_parameters pid=2795286)\u001b[0m loss: 0.000\u001b[32m [repeated 14x across cluster]\u001b[0m\n"
     ]
    },
    {
     "name": "stderr",
     "output_type": "stream",
     "text": [
      "Val Epoch:93: 0it [00:00, ?it/s]759010)\u001b[0m \n",
      "Val Epoch:93: 47it [00:01, 24.44it/s]0)\u001b[0m \n"
     ]
    },
    {
     "name": "stdout",
     "output_type": "stream",
     "text": [
      "\u001b[36m(tune_with_parameters pid=2795286)\u001b[0m loss: 0.000\u001b[32m [repeated 17x across cluster]\u001b[0m\n"
     ]
    },
    {
     "name": "stderr",
     "output_type": "stream",
     "text": [
      "Val Epoch:57: 0it [00:00, ?it/s]795286)\u001b[0m \n",
      "Val Epoch:93: 42it [00:01, 32.32it/s]\u001b[32m [repeated 14x across cluster]\u001b[0m\n"
     ]
    },
    {
     "name": "stdout",
     "output_type": "stream",
     "text": [
      "\u001b[36m(tune_with_parameters pid=2795286)\u001b[0m loss: 0.000\u001b[32m [repeated 13x across cluster]\u001b[0m\n"
     ]
    },
    {
     "name": "stderr",
     "output_type": "stream",
     "text": [
      "Val Epoch:94: 0it [00:00, ?it/s]759010)\u001b[0m \n",
      "Val Epoch:94: 20it [00:01, 23.26it/s]\u001b[32m [repeated 20x across cluster]\u001b[0m\n",
      "Val Epoch:58: 0it [00:00, ?it/s]795286)\u001b[0m \n"
     ]
    },
    {
     "name": "stdout",
     "output_type": "stream",
     "text": [
      "\u001b[36m(tune_with_parameters pid=2759010)\u001b[0m loss: 0.000\u001b[32m [repeated 22x across cluster]\u001b[0m\n"
     ]
    },
    {
     "name": "stderr",
     "output_type": "stream",
     "text": [
      "Val Epoch:58: 1it [00:00,  1.07it/s]\u001b[32m [repeated 7x across cluster]\u001b[0m\n"
     ]
    },
    {
     "name": "stdout",
     "output_type": "stream",
     "text": [
      "\u001b[36m(tune_with_parameters pid=2759010)\u001b[0m loss: 0.000\u001b[32m [repeated 6x across cluster]\u001b[0m\n"
     ]
    },
    {
     "name": "stderr",
     "output_type": "stream",
     "text": [
      "Val Epoch:96: 0it [00:00, ?it/s]\u001b[32m [repeated 2x across cluster]\u001b[0m\n",
      "Val Epoch:95: 47it [00:02, 22.11it/s]\u001b[32m [repeated 24x across cluster]\u001b[0m\n"
     ]
    },
    {
     "name": "stdout",
     "output_type": "stream",
     "text": [
      "\u001b[36m(tune_with_parameters pid=2759010)\u001b[0m loss: 0.000\u001b[32m [repeated 15x across cluster]\u001b[0m\n"
     ]
    },
    {
     "name": "stderr",
     "output_type": "stream",
     "text": [
      "\u001b[36m(tune_with_parameters pid=2877306)\u001b[0m /users/k23058970/miniforge3/envs/Training/lib/python3.10/site-packages/torch/nn/modules/lazy.py:181: UserWarning: Lazy modules are a new feature under heavy development so changes to the API or functionality can happen at any moment.\n",
      "\u001b[36m(tune_with_parameters pid=2877306)\u001b[0m   warnings.warn('Lazy modules are a new feature under heavy development '\n",
      "Val Epoch:96: 47it [00:01, 34.50it/s]\u001b[32m [repeated 10x across cluster]\u001b[0m\n",
      "Val Epoch:97: 0it [00:00, ?it/s]759010)\u001b[0m \n"
     ]
    },
    {
     "name": "stdout",
     "output_type": "stream",
     "text": [
      "\u001b[36m(tune_with_parameters pid=2877306)\u001b[0m loss: 1.058\u001b[32m [repeated 15x across cluster]\u001b[0m\n"
     ]
    },
    {
     "name": "stderr",
     "output_type": "stream",
     "text": [
      "Val Epoch:97: 47it [00:01, 44.61it/s]\u001b[32m [repeated 9x across cluster]\u001b[0m\n",
      "Val Epoch:0: 0it [00:00, ?it/s]2877306)\u001b[0m \n"
     ]
    },
    {
     "name": "stdout",
     "output_type": "stream",
     "text": [
      "\u001b[36m(tune_with_parameters pid=2877306)\u001b[0m /tmp/tmp2kjwuthf/checkpoint.pt\n",
      "\u001b[36m(tune_with_parameters pid=2877306)\u001b[0m loss: 0.210\u001b[32m [repeated 14x across cluster]\u001b[0m\n"
     ]
    },
    {
     "name": "stderr",
     "output_type": "stream",
     "text": [
      "\u001b[36m(tune_with_parameters pid=2877306)\u001b[0m Checkpoint successfully created at: Checkpoint(filesystem=local, path=/scratch/users/k23058970/Model training/results/Complex Peak Conv Null/tune_with_parameters_2024-08-19_22-54-38/tune_with_parameters_b687f_00006_6_dp=0.2000,k1=3,k2=3,k3=7,k4=5,lr=0.0113_2024-08-19_22-55-13/checkpoint_000000)\n",
      "\u001b[36m(tune_with_parameters pid=2879387)\u001b[0m /users/k23058970/miniforge3/envs/Training/lib/python3.10/site-packages/torch/nn/modules/lazy.py:181: UserWarning: Lazy modules are a new feature under heavy development so changes to the API or functionality can happen at any moment.\n",
      "\u001b[36m(tune_with_parameters pid=2879387)\u001b[0m   warnings.warn('Lazy modules are a new feature under heavy development '\n"
     ]
    },
    {
     "name": "stdout",
     "output_type": "stream",
     "text": [
      "\u001b[36m(tune_with_parameters pid=2877306)\u001b[0m loss: 0.005\u001b[32m [repeated 14x across cluster]\u001b[0m\n"
     ]
    },
    {
     "name": "stderr",
     "output_type": "stream",
     "text": [
      "Val Epoch:1: 0it [00:00, ?it/s]2877306)\u001b[0m \n",
      "Val Epoch:0: 47it [00:01, 28.81it/s]\u001b[32m [repeated 10x across cluster]\u001b[0m\n"
     ]
    },
    {
     "name": "stdout",
     "output_type": "stream",
     "text": [
      "\u001b[36m(tune_with_parameters pid=2877306)\u001b[0m /tmp/tmpcveme4eo/checkpoint.pt\n"
     ]
    },
    {
     "name": "stderr",
     "output_type": "stream",
     "text": [
      "\u001b[36m(tune_with_parameters pid=2877306)\u001b[0m Checkpoint successfully created at: Checkpoint(filesystem=local, path=/scratch/users/k23058970/Model training/results/Complex Peak Conv Null/tune_with_parameters_2024-08-19_22-54-38/tune_with_parameters_b687f_00006_6_dp=0.2000,k1=3,k2=3,k3=7,k4=5,lr=0.0113_2024-08-19_22-55-13/checkpoint_000001)\n"
     ]
    },
    {
     "name": "stdout",
     "output_type": "stream",
     "text": [
      "\u001b[36m(tune_with_parameters pid=2879387)\u001b[0m loss: 0.525\u001b[32m [repeated 10x across cluster]\u001b[0m\n"
     ]
    },
    {
     "name": "stderr",
     "output_type": "stream",
     "text": [
      "Val Epoch:0: 0it [00:00, ?it/s]2879387)\u001b[0m \n",
      "Val Epoch:1: 47it [00:01, 29.02it/s]\u001b[32m [repeated 12x across cluster]\u001b[0m\n",
      "Val Epoch:2: 0it [00:00, ?it/s]2877306)\u001b[0m \n"
     ]
    },
    {
     "name": "stdout",
     "output_type": "stream",
     "text": [
      "\u001b[36m(tune_with_parameters pid=2879387)\u001b[0m /tmp/tmpbnuxluig/checkpoint.pt\n",
      "\u001b[36m(tune_with_parameters pid=2877306)\u001b[0m loss: 0.002\u001b[32m [repeated 21x across cluster]\u001b[0m\n"
     ]
    },
    {
     "name": "stderr",
     "output_type": "stream",
     "text": [
      "\u001b[36m(tune_with_parameters pid=2879387)\u001b[0m Checkpoint successfully created at: Checkpoint(filesystem=local, path=/scratch/users/k23058970/Model training/results/Complex Peak Conv Null/tune_with_parameters_2024-08-19_22-54-38/tune_with_parameters_b687f_00007_7_dp=0.5000,k1=3,k2=3,k3=3,k4=5,lr=0.0070_2024-08-19_22-55-14/checkpoint_000000)\n",
      "Val Epoch:2: 47it [00:02, 21.73it/s]06)\u001b[0m \n"
     ]
    },
    {
     "name": "stdout",
     "output_type": "stream",
     "text": [
      "\u001b[36m(tune_with_parameters pid=2877306)\u001b[0m loss: 0.001\u001b[32m [repeated 19x across cluster]\u001b[0m\n"
     ]
    },
    {
     "name": "stderr",
     "output_type": "stream",
     "text": [
      "Val Epoch:2: 43it [00:01, 19.12it/s]\u001b[32m [repeated 21x across cluster]\u001b[0m\n",
      "Val Epoch:1: 0it [00:00, ?it/s]2879387)\u001b[0m \n",
      "Val Epoch:3: 0it [00:00, ?it/s]2877306)\u001b[0m \n"
     ]
    },
    {
     "name": "stdout",
     "output_type": "stream",
     "text": [
      "\u001b[36m(tune_with_parameters pid=2879387)\u001b[0m /tmp/tmp31tmfmal/checkpoint.pt\n"
     ]
    },
    {
     "name": "stderr",
     "output_type": "stream",
     "text": [
      "\u001b[36m(tune_with_parameters pid=2879387)\u001b[0m Checkpoint successfully created at: Checkpoint(filesystem=local, path=/scratch/users/k23058970/Model training/results/Complex Peak Conv Null/tune_with_parameters_2024-08-19_22-54-38/tune_with_parameters_b687f_00007_7_dp=0.5000,k1=3,k2=3,k3=3,k4=5,lr=0.0070_2024-08-19_22-55-14/checkpoint_000001)\n"
     ]
    },
    {
     "name": "stdout",
     "output_type": "stream",
     "text": [
      "\u001b[36m(tune_with_parameters pid=2879387)\u001b[0m loss: 0.024\u001b[32m [repeated 12x across cluster]\u001b[0m\n",
      "\u001b[36m(tune_with_parameters pid=2879387)\u001b[0m loss: 0.021\u001b[32m [repeated 24x across cluster]\u001b[0m\n"
     ]
    },
    {
     "name": "stderr",
     "output_type": "stream",
     "text": [
      "Val Epoch:3: 47it [00:02, 22.18it/s]\u001b[32m [repeated 23x across cluster]\u001b[0m\n",
      "Val Epoch:2: 0it [00:00, ?it/s]2879387)\u001b[0m \n",
      "Val Epoch:4: 0it [00:00, ?it/s]2877306)\u001b[0m \n"
     ]
    },
    {
     "name": "stdout",
     "output_type": "stream",
     "text": [
      "\u001b[36m(tune_with_parameters pid=2879387)\u001b[0m /tmp/tmpvh6zq387/checkpoint.pt\n"
     ]
    },
    {
     "name": "stderr",
     "output_type": "stream",
     "text": [
      "\u001b[36m(tune_with_parameters pid=2879387)\u001b[0m Checkpoint successfully created at: Checkpoint(filesystem=local, path=/scratch/users/k23058970/Model training/results/Complex Peak Conv Null/tune_with_parameters_2024-08-19_22-54-38/tune_with_parameters_b687f_00007_7_dp=0.5000,k1=3,k2=3,k3=3,k4=5,lr=0.0070_2024-08-19_22-55-14/checkpoint_000002)\n"
     ]
    },
    {
     "name": "stdout",
     "output_type": "stream",
     "text": [
      "\u001b[36m(tune_with_parameters pid=2877306)\u001b[0m loss: 0.001\u001b[32m [repeated 8x across cluster]\u001b[0m\n"
     ]
    },
    {
     "name": "stderr",
     "output_type": "stream",
     "text": [
      "Val Epoch:4: 47it [00:02, 17.66it/s]\u001b[32m [repeated 22x across cluster]\u001b[0m\n",
      "Val Epoch:3: 0it [00:00, ?it/s]2879387)\u001b[0m \n"
     ]
    },
    {
     "name": "stdout",
     "output_type": "stream",
     "text": [
      "\u001b[36m(tune_with_parameters pid=2877306)\u001b[0m loss: 0.001\u001b[32m [repeated 26x across cluster]\u001b[0m\n"
     ]
    },
    {
     "name": "stderr",
     "output_type": "stream",
     "text": [
      "Val Epoch:5: 0it [00:00, ?it/s]2877306)\u001b[0m \n"
     ]
    },
    {
     "name": "stdout",
     "output_type": "stream",
     "text": [
      "\u001b[36m(tune_with_parameters pid=2877306)\u001b[0m loss: 0.001\u001b[32m [repeated 8x across cluster]\u001b[0m\n"
     ]
    },
    {
     "name": "stderr",
     "output_type": "stream",
     "text": [
      "Val Epoch:5: 47it [00:02, 18.07it/s]\u001b[32m [repeated 24x across cluster]\u001b[0m\n",
      "Val Epoch:4: 0it [00:00, ?it/s]2879387)\u001b[0m \n",
      "Val Epoch:6: 0it [00:00, ?it/s]2877306)\u001b[0m \n",
      "Val Epoch:4: 47it [00:02, 22.59it/s]87)\u001b[0m \n",
      "\u001b[36m(tune_with_parameters pid=2879387)\u001b[0m Checkpoint successfully created at: Checkpoint(filesystem=local, path=/scratch/users/k23058970/Model training/results/Complex Peak Conv Null/tune_with_parameters_2024-08-19_22-54-38/tune_with_parameters_b687f_00007_7_dp=0.5000,k1=3,k2=3,k3=3,k4=5,lr=0.0070_2024-08-19_22-55-14/checkpoint_000003)\n"
     ]
    },
    {
     "name": "stdout",
     "output_type": "stream",
     "text": [
      "\u001b[36m(tune_with_parameters pid=2879387)\u001b[0m /tmp/tmplo9ei26m/checkpoint.pt\n",
      "\u001b[36m(tune_with_parameters pid=2877306)\u001b[0m loss: 0.001\u001b[32m [repeated 23x across cluster]\u001b[0m\n",
      "\u001b[36m(tune_with_parameters pid=2877306)\u001b[0m loss: 0.001\u001b[32m [repeated 19x across cluster]\u001b[0m\n"
     ]
    },
    {
     "name": "stderr",
     "output_type": "stream",
     "text": [
      "Val Epoch:6: 47it [00:02, 21.15it/s]\u001b[32m [repeated 19x across cluster]\u001b[0m\n",
      "Val Epoch:5: 0it [00:00, ?it/s]2879387)\u001b[0m \n",
      "Val Epoch:7: 0it [00:00, ?it/s]2877306)\u001b[0m \n"
     ]
    },
    {
     "name": "stdout",
     "output_type": "stream",
     "text": [
      "\u001b[36m(tune_with_parameters pid=2879387)\u001b[0m loss: 0.002\u001b[32m [repeated 12x across cluster]\u001b[0m\n",
      "\u001b[36m(tune_with_parameters pid=2877306)\u001b[0m loss: 0.000\u001b[32m [repeated 19x across cluster]\u001b[0m\n"
     ]
    },
    {
     "name": "stderr",
     "output_type": "stream",
     "text": [
      "Val Epoch:7: 47it [00:02, 21.60it/s]\u001b[32m [repeated 22x across cluster]\u001b[0m\n",
      "Val Epoch:6: 0it [00:00, ?it/s]2879387)\u001b[0m \n",
      "Val Epoch:8: 0it [00:00, ?it/s]2877306)\u001b[0m \n"
     ]
    },
    {
     "name": "stdout",
     "output_type": "stream",
     "text": [
      "\u001b[36m(tune_with_parameters pid=2879387)\u001b[0m loss: 0.003\u001b[32m [repeated 13x across cluster]\u001b[0m\n"
     ]
    },
    {
     "name": "stderr",
     "output_type": "stream",
     "text": [
      "Val Epoch:8: 47it [00:01, 24.64it/s]\u001b[32m [repeated 22x across cluster]\u001b[0m\n",
      "Val Epoch:7: 0it [00:00, ?it/s]2879387)\u001b[0m \n"
     ]
    },
    {
     "name": "stdout",
     "output_type": "stream",
     "text": [
      "\u001b[36m(tune_with_parameters pid=2877306)\u001b[0m loss: 0.000\u001b[32m [repeated 22x across cluster]\u001b[0m\n"
     ]
    },
    {
     "name": "stderr",
     "output_type": "stream",
     "text": [
      "Val Epoch:9: 0it [00:00, ?it/s]2877306)\u001b[0m \n",
      "Val Epoch:9: 47it [00:01, 42.12it/s]\u001b[32m [repeated 22x across cluster]\u001b[0m\n"
     ]
    },
    {
     "name": "stdout",
     "output_type": "stream",
     "text": [
      "\u001b[36m(tune_with_parameters pid=2879387)\u001b[0m loss: 0.003\u001b[32m [repeated 12x across cluster]\u001b[0m\n"
     ]
    },
    {
     "name": "stderr",
     "output_type": "stream",
     "text": [
      "Val Epoch:8: 0it [00:00, ?it/s]2879387)\u001b[0m \n",
      "Val Epoch:8: 11it [00:00, 20.04it/s]\u001b[32m [repeated 5x across cluster]\u001b[0m\n"
     ]
    },
    {
     "name": "stdout",
     "output_type": "stream",
     "text": [
      "\u001b[36m(tune_with_parameters pid=2877306)\u001b[0m loss: 0.000\u001b[32m [repeated 21x across cluster]\u001b[0m\n"
     ]
    },
    {
     "name": "stderr",
     "output_type": "stream",
     "text": [
      "Val Epoch:10: 0it [00:00, ?it/s]877306)\u001b[0m \n"
     ]
    },
    {
     "name": "stdout",
     "output_type": "stream",
     "text": [
      "\u001b[36m(tune_with_parameters pid=2879387)\u001b[0m loss: 0.002\u001b[32m [repeated 15x across cluster]\u001b[0m\n"
     ]
    },
    {
     "name": "stderr",
     "output_type": "stream",
     "text": [
      "Val Epoch:10: 47it [00:01, 24.78it/s]\u001b[32m [repeated 18x across cluster]\u001b[0m\n",
      "Val Epoch:9: 0it [00:00, ?it/s]2879387)\u001b[0m \n",
      "Val Epoch:9: 47it [00:01, 35.77it/s]87)\u001b[0m \n"
     ]
    },
    {
     "name": "stdout",
     "output_type": "stream",
     "text": [
      "\u001b[36m(tune_with_parameters pid=2879387)\u001b[0m loss: 0.001\u001b[32m [repeated 17x across cluster]\u001b[0m\n"
     ]
    },
    {
     "name": "stderr",
     "output_type": "stream",
     "text": [
      "Val Epoch:11: 0it [00:00, ?it/s]877306)\u001b[0m \n",
      "Val Epoch:11: 34it [00:01, 23.00it/s]\u001b[32m [repeated 18x across cluster]\u001b[0m\n"
     ]
    },
    {
     "name": "stdout",
     "output_type": "stream",
     "text": [
      "\u001b[36m(tune_with_parameters pid=2877306)\u001b[0m loss: 0.000\u001b[32m [repeated 17x across cluster]\u001b[0m\n"
     ]
    },
    {
     "name": "stderr",
     "output_type": "stream",
     "text": [
      "Val Epoch:10: 0it [00:00, ?it/s]879387)\u001b[0m \n",
      "Val Epoch:12: 0it [00:00, ?it/s]877306)\u001b[0m \n",
      "Val Epoch:10: 47it [00:01, 33.99it/s]\u001b[32m [repeated 14x across cluster]\u001b[0m\n"
     ]
    },
    {
     "name": "stdout",
     "output_type": "stream",
     "text": [
      "\u001b[36m(tune_with_parameters pid=2877306)\u001b[0m loss: 0.000\u001b[32m [repeated 14x across cluster]\u001b[0m\n"
     ]
    },
    {
     "name": "stderr",
     "output_type": "stream",
     "text": [
      "Val Epoch:13: 0it [00:00, ?it/s]877306)\u001b[0m \n",
      "Val Epoch:12: 47it [00:01, 26.62it/s]\u001b[32m [repeated 13x across cluster]\u001b[0m\n",
      "Val Epoch:13: 47it [00:01, 35.90it/s]6)\u001b[0m \n"
     ]
    },
    {
     "name": "stdout",
     "output_type": "stream",
     "text": [
      "\u001b[36m(tune_with_parameters pid=2877306)\u001b[0m loss: 0.000\u001b[32m [repeated 15x across cluster]\u001b[0m\n"
     ]
    },
    {
     "name": "stderr",
     "output_type": "stream",
     "text": [
      "\u001b[36m(tune_with_parameters pid=2896064)\u001b[0m /users/k23058970/miniforge3/envs/Training/lib/python3.10/site-packages/torch/nn/modules/lazy.py:181: UserWarning: Lazy modules are a new feature under heavy development so changes to the API or functionality can happen at any moment.\n",
      "\u001b[36m(tune_with_parameters pid=2896064)\u001b[0m   warnings.warn('Lazy modules are a new feature under heavy development '\n",
      "Val Epoch:14: 0it [00:00, ?it/s]877306)\u001b[0m \n",
      "Val Epoch:13: 40it [00:01, 43.69it/s]\u001b[32m [repeated 9x across cluster]\u001b[0m\n"
     ]
    },
    {
     "name": "stdout",
     "output_type": "stream",
     "text": [
      "\u001b[36m(tune_with_parameters pid=2896064)\u001b[0m loss: 1.109\u001b[32m [repeated 15x across cluster]\u001b[0m\n"
     ]
    }
   ],
   "source": [
    "DATASET_DIR = \"/scratch/users/k23058970/Model training/Null Dataset/Complex Peak\"\n",
    "main(dataset_dir=DATASET_DIR,dset_name = \"Complex Peak Conv Null\")"
   ]
  },
  {
   "cell_type": "code",
   "execution_count": null,
   "id": "4335c910-9f28-4a55-a7f4-b336f589199d",
   "metadata": {},
   "outputs": [],
   "source": [
    " "
   ]
  }
 ],
 "metadata": {
  "kernelspec": {
   "display_name": "Training",
   "language": "python",
   "name": "training"
  },
  "language_info": {
   "codemirror_mode": {
    "name": "ipython",
    "version": 3
   },
   "file_extension": ".py",
   "mimetype": "text/x-python",
   "name": "python",
   "nbconvert_exporter": "python",
   "pygments_lexer": "ipython3",
   "version": "3.10.14"
  }
 },
 "nbformat": 4,
 "nbformat_minor": 5
}
