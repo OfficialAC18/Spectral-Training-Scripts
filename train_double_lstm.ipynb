{
 "cells": [
  {
   "cell_type": "code",
   "execution_count": 1,
   "id": "8c8211e3-33b5-48af-be3b-8c8fe468fc1d",
   "metadata": {},
   "outputs": [],
   "source": [
    "#Call Main and let it run\n",
    "from training_insilico_lstm import main"
   ]
  },
  {
   "cell_type": "code",
   "execution_count": 2,
   "id": "c329fb08-6c5d-42fa-99bf-560dc170a20e",
   "metadata": {},
   "outputs": [
    {
     "data": {
      "text/html": [
       "<div class=\"tuneStatus\">\n",
       "  <div style=\"display: flex;flex-direction: row\">\n",
       "    <div style=\"display: flex;flex-direction: column;\">\n",
       "      <h3>Tune Status</h3>\n",
       "      <table>\n",
       "<tbody>\n",
       "<tr><td>Current time:</td><td>2024-08-19 22:42:23</td></tr>\n",
       "<tr><td>Running for: </td><td>00:33:44.64        </td></tr>\n",
       "<tr><td>Memory:      </td><td>62.2/1007.5 GiB    </td></tr>\n",
       "</tbody>\n",
       "</table>\n",
       "    </div>\n",
       "    <div class=\"vDivider\"></div>\n",
       "    <div class=\"systemInfo\">\n",
       "      <h3>System Info</h3>\n",
       "      Using AsyncHyperBand: num_stopped=10<br>Bracket: Iter 60.000: -0.5647872388362885 | Iter 30.000: -0.6557056954566468 | Iter 15.000: -1.0965803252889756<br>Logical resource usage: 24.0/96 CPUs, 0.5/1 GPUs (0.0/1.0 accelerator_type:A30)\n",
       "    </div>\n",
       "    \n",
       "  </div>\n",
       "  <div class=\"hDivider\"></div>\n",
       "  <div class=\"trialStatus\">\n",
       "    <h3>Trial Status</h3>\n",
       "    <table>\n",
       "<thead>\n",
       "<tr><th>Trial name                      </th><th>status    </th><th>loc               </th><th style=\"text-align: right;\">  dp</th><th style=\"text-align: right;\">  hidden_size</th><th style=\"text-align: right;\">        lr</th><th style=\"text-align: right;\">  num_layers</th><th style=\"text-align: right;\">  iter</th><th style=\"text-align: right;\">  total time (s)</th><th style=\"text-align: right;\">    loss</th><th style=\"text-align: right;\">  accuracy</th><th style=\"text-align: right;\">      f1</th></tr>\n",
       "</thead>\n",
       "<tbody>\n",
       "<tr><td>tune_with_parameters_34c49_00000</td><td>TERMINATED</td><td>10.211.4.4:2366816</td><td style=\"text-align: right;\"> 0.2</td><td style=\"text-align: right;\">          500</td><td style=\"text-align: right;\">0.00100492</td><td style=\"text-align: right;\">           3</td><td style=\"text-align: right;\">   100</td><td style=\"text-align: right;\">        636.826 </td><td style=\"text-align: right;\">1.09552 </td><td style=\"text-align: right;\">  0.396   </td><td style=\"text-align: right;\">0.395928</td></tr>\n",
       "<tr><td>tune_with_parameters_34c49_00001</td><td>TERMINATED</td><td>10.211.4.4:2366817</td><td style=\"text-align: right;\"> 0.5</td><td style=\"text-align: right;\">          300</td><td style=\"text-align: right;\">0.00508493</td><td style=\"text-align: right;\">           3</td><td style=\"text-align: right;\">   100</td><td style=\"text-align: right;\">        566.44  </td><td style=\"text-align: right;\">0.605044</td><td style=\"text-align: right;\">  0.647667</td><td style=\"text-align: right;\">0.648364</td></tr>\n",
       "<tr><td>tune_with_parameters_34c49_00002</td><td>TERMINATED</td><td>10.211.4.4:2456841</td><td style=\"text-align: right;\"> 0.2</td><td style=\"text-align: right;\">          200</td><td style=\"text-align: right;\">0.0128376 </td><td style=\"text-align: right;\">           3</td><td style=\"text-align: right;\">    15</td><td style=\"text-align: right;\">         66.6091</td><td style=\"text-align: right;\">1.09837 </td><td style=\"text-align: right;\">  0.348333</td><td style=\"text-align: right;\">0.343211</td></tr>\n",
       "<tr><td>tune_with_parameters_34c49_00003</td><td>TERMINATED</td><td>10.211.4.4:2464995</td><td style=\"text-align: right;\"> 0.2</td><td style=\"text-align: right;\">          500</td><td style=\"text-align: right;\">0.00110233</td><td style=\"text-align: right;\">           3</td><td style=\"text-align: right;\">    15</td><td style=\"text-align: right;\">         68.013 </td><td style=\"text-align: right;\">1.0989  </td><td style=\"text-align: right;\">  0.326667</td><td style=\"text-align: right;\">0.224407</td></tr>\n",
       "<tr><td>tune_with_parameters_34c49_00004</td><td>TERMINATED</td><td>10.211.4.4:2465477</td><td style=\"text-align: right;\"> 0.1</td><td style=\"text-align: right;\">          500</td><td style=\"text-align: right;\">0.0013274 </td><td style=\"text-align: right;\">           1</td><td style=\"text-align: right;\">   100</td><td style=\"text-align: right;\">        550.751 </td><td style=\"text-align: right;\">0.141002</td><td style=\"text-align: right;\">  0.931   </td><td style=\"text-align: right;\">0.932122</td></tr>\n",
       "<tr><td>tune_with_parameters_34c49_00005</td><td>TERMINATED</td><td>10.211.4.4:2473129</td><td style=\"text-align: right;\"> 0.5</td><td style=\"text-align: right;\">          100</td><td style=\"text-align: right;\">0.00247566</td><td style=\"text-align: right;\">           1</td><td style=\"text-align: right;\">   100</td><td style=\"text-align: right;\">        594.506 </td><td style=\"text-align: right;\">0.549569</td><td style=\"text-align: right;\">  0.665333</td><td style=\"text-align: right;\">0.665436</td></tr>\n",
       "<tr><td>tune_with_parameters_34c49_00006</td><td>TERMINATED</td><td>10.211.4.4:2530226</td><td style=\"text-align: right;\"> 0.2</td><td style=\"text-align: right;\">          400</td><td style=\"text-align: right;\">0.00126469</td><td style=\"text-align: right;\">           3</td><td style=\"text-align: right;\">    15</td><td style=\"text-align: right;\">         72.6457</td><td style=\"text-align: right;\">1.0983  </td><td style=\"text-align: right;\">  0.335   </td><td style=\"text-align: right;\">0.246667</td></tr>\n",
       "<tr><td>tune_with_parameters_34c49_00007</td><td>TERMINATED</td><td>10.211.4.4:2539037</td><td style=\"text-align: right;\"> 0.1</td><td style=\"text-align: right;\">          100</td><td style=\"text-align: right;\">0.00424869</td><td style=\"text-align: right;\">           3</td><td style=\"text-align: right;\">    30</td><td style=\"text-align: right;\">        174.175 </td><td style=\"text-align: right;\">1.08383 </td><td style=\"text-align: right;\">  0.436333</td><td style=\"text-align: right;\">0.41264 </td></tr>\n",
       "<tr><td>tune_with_parameters_34c49_00008</td><td>TERMINATED</td><td>10.211.4.4:2542840</td><td style=\"text-align: right;\"> 0.5</td><td style=\"text-align: right;\">          200</td><td style=\"text-align: right;\">0.0718    </td><td style=\"text-align: right;\">           1</td><td style=\"text-align: right;\">   100</td><td style=\"text-align: right;\">        674.421 </td><td style=\"text-align: right;\">0.550493</td><td style=\"text-align: right;\">  0.667667</td><td style=\"text-align: right;\">0.667272</td></tr>\n",
       "<tr><td>tune_with_parameters_34c49_00009</td><td>TERMINATED</td><td>10.211.4.4:2559202</td><td style=\"text-align: right;\"> 0.2</td><td style=\"text-align: right;\">          400</td><td style=\"text-align: right;\">0.00120251</td><td style=\"text-align: right;\">           1</td><td style=\"text-align: right;\">   100</td><td style=\"text-align: right;\">        529.215 </td><td style=\"text-align: right;\">0.270826</td><td style=\"text-align: right;\">  0.848333</td><td style=\"text-align: right;\">0.852555</td></tr>\n",
       "</tbody>\n",
       "</table>\n",
       "  </div>\n",
       "</div>\n",
       "<style>\n",
       ".tuneStatus {\n",
       "  color: var(--jp-ui-font-color1);\n",
       "}\n",
       ".tuneStatus .systemInfo {\n",
       "  display: flex;\n",
       "  flex-direction: column;\n",
       "}\n",
       ".tuneStatus td {\n",
       "  white-space: nowrap;\n",
       "}\n",
       ".tuneStatus .trialStatus {\n",
       "  display: flex;\n",
       "  flex-direction: column;\n",
       "}\n",
       ".tuneStatus h3 {\n",
       "  font-weight: bold;\n",
       "}\n",
       ".tuneStatus .hDivider {\n",
       "  border-bottom-width: var(--jp-border-width);\n",
       "  border-bottom-color: var(--jp-border-color0);\n",
       "  border-bottom-style: solid;\n",
       "}\n",
       ".tuneStatus .vDivider {\n",
       "  border-left-width: var(--jp-border-width);\n",
       "  border-left-color: var(--jp-border-color0);\n",
       "  border-left-style: solid;\n",
       "  margin: 0.5em 1em 0.5em 1em;\n",
       "}\n",
       "</style>\n"
      ],
      "text/plain": [
       "<IPython.core.display.HTML object>"
      ]
     },
     "metadata": {},
     "output_type": "display_data"
    },
    {
     "name": "stderr",
     "output_type": "stream",
     "text": [
      "\u001b[36m(tune_with_parameters pid=2366817)\u001b[0m /users/k23058970/miniforge3/envs/Training/lib/python3.10/site-packages/torch/nn/modules/lazy.py:181: UserWarning: Lazy modules are a new feature under heavy development so changes to the API or functionality can happen at any moment.\n",
      "\u001b[36m(tune_with_parameters pid=2366817)\u001b[0m   warnings.warn('Lazy modules are a new feature under heavy development '\n"
     ]
    },
    {
     "name": "stdout",
     "output_type": "stream",
     "text": [
      "\u001b[36m(tune_with_parameters pid=2366816)\u001b[0m loss: 1.104\n"
     ]
    },
    {
     "name": "stderr",
     "output_type": "stream",
     "text": [
      "Val Epoch:0: 0it [00:00, ?it/s]2366816)\u001b[0m \n",
      "\u001b[36m(tune_with_parameters pid=2366816)\u001b[0m /users/k23058970/miniforge3/envs/Training/lib/python3.10/site-packages/torch/nn/modules/lazy.py:181: UserWarning: Lazy modules are a new feature under heavy development so changes to the API or functionality can happen at any moment.\n",
      "\u001b[36m(tune_with_parameters pid=2366816)\u001b[0m   warnings.warn('Lazy modules are a new feature under heavy development '\n",
      "Val Epoch:0: 1it [00:00,  1.04it/s]816)\u001b[0m \n",
      "Val Epoch:0: 47it [00:01, 31.52it/s]17)\u001b[0m \n",
      "\u001b[36m(tune_with_parameters pid=2366817)\u001b[0m Checkpoint successfully created at: Checkpoint(filesystem=local, path=/scratch/users/k23058970/Model training/results/Double Peak LSTM Null/tune_with_parameters_2024-08-19_22-08-05/tune_with_parameters_34c49_00001_1_dp=0.5000,hidden_size=300,lr=0.0051,num_layers=3_2024-08-19_22-08-39/checkpoint_000000)\n"
     ]
    },
    {
     "name": "stdout",
     "output_type": "stream",
     "text": [
      "\u001b[36m(tune_with_parameters pid=2366816)\u001b[0m /tmp/tmpx69drkjo/checkpoint.pt\n",
      "\u001b[36m(tune_with_parameters pid=2366817)\u001b[0m loss: 1.106\u001b[32m [repeated 29x across cluster] (Ray deduplicates logs by default. Set RAY_DEDUP_LOGS=0 to disable log deduplication, or see https://docs.ray.io/en/master/ray-observability/user-guides/configure-logging.html#log-deduplication for more options.)\u001b[0m\n",
      "\u001b[36m(tune_with_parameters pid=2366817)\u001b[0m /tmp/tmpdgnk4qlx/checkpoint.pt\n",
      "\u001b[36m(tune_with_parameters pid=2366817)\u001b[0m loss: 1.101\u001b[32m [repeated 29x across cluster]\u001b[0m\n"
     ]
    },
    {
     "name": "stderr",
     "output_type": "stream",
     "text": [
      "Val Epoch:1: 0it [00:00, ?it/s]\u001b[32m [repeated 2x across cluster]\u001b[0m\n",
      "Val Epoch:0: 47it [00:01, 24.78it/s]\u001b[32m [repeated 15x across cluster]\u001b[0m\n",
      "\u001b[36m(tune_with_parameters pid=2366816)\u001b[0m Checkpoint successfully created at: Checkpoint(filesystem=local, path=/scratch/users/k23058970/Model training/results/Double Peak LSTM Null/tune_with_parameters_2024-08-19_22-08-05/tune_with_parameters_34c49_00000_0_dp=0.2000,hidden_size=500,lr=0.0010,num_layers=3_2024-08-19_22-08-39/checkpoint_000000)\n",
      "Val Epoch:1: 12it [00:01, 15.35it/s]17)\u001b[0m \n"
     ]
    },
    {
     "name": "stdout",
     "output_type": "stream",
     "text": [
      "\u001b[36m(tune_with_parameters pid=2366817)\u001b[0m /tmp/tmp7tdfxnga/checkpoint.pt\n",
      "\u001b[36m(tune_with_parameters pid=2366816)\u001b[0m /tmp/tmp4ciocfs8/checkpoint.pt\n"
     ]
    },
    {
     "name": "stderr",
     "output_type": "stream",
     "text": [
      "\u001b[36m(tune_with_parameters pid=2366817)\u001b[0m Checkpoint successfully created at: Checkpoint(filesystem=local, path=/scratch/users/k23058970/Model training/results/Double Peak LSTM Null/tune_with_parameters_2024-08-19_22-08-05/tune_with_parameters_34c49_00001_1_dp=0.5000,hidden_size=300,lr=0.0051,num_layers=3_2024-08-19_22-08-39/checkpoint_000001)\n"
     ]
    },
    {
     "name": "stdout",
     "output_type": "stream",
     "text": [
      "\u001b[36m(tune_with_parameters pid=2366817)\u001b[0m loss: 1.100\u001b[32m [repeated 11x across cluster]\u001b[0m\n"
     ]
    },
    {
     "name": "stderr",
     "output_type": "stream",
     "text": [
      "Val Epoch:2: 0it [00:00, ?it/s]\u001b[32m [repeated 2x across cluster]\u001b[0m\n",
      "Val Epoch:1: 47it [00:01, 32.72it/s]\u001b[32m [repeated 17x across cluster]\u001b[0m\n",
      "\u001b[36m(tune_with_parameters pid=2366816)\u001b[0m Checkpoint successfully created at: Checkpoint(filesystem=local, path=/scratch/users/k23058970/Model training/results/Double Peak LSTM Null/tune_with_parameters_2024-08-19_22-08-05/tune_with_parameters_34c49_00000_0_dp=0.2000,hidden_size=500,lr=0.0010,num_layers=3_2024-08-19_22-08-39/checkpoint_000001)\n",
      "Val Epoch:2: 47it [00:02, 18.77it/s]17)\u001b[0m \n"
     ]
    },
    {
     "name": "stdout",
     "output_type": "stream",
     "text": [
      "\u001b[36m(tune_with_parameters pid=2366817)\u001b[0m /tmp/tmpgngm93kv/checkpoint.pt\n",
      "\u001b[36m(tune_with_parameters pid=2366816)\u001b[0m loss: 1.099\u001b[32m [repeated 20x across cluster]\u001b[0m\n"
     ]
    },
    {
     "name": "stderr",
     "output_type": "stream",
     "text": [
      "\u001b[36m(tune_with_parameters pid=2366817)\u001b[0m Checkpoint successfully created at: Checkpoint(filesystem=local, path=/scratch/users/k23058970/Model training/results/Double Peak LSTM Null/tune_with_parameters_2024-08-19_22-08-05/tune_with_parameters_34c49_00001_1_dp=0.5000,hidden_size=300,lr=0.0051,num_layers=3_2024-08-19_22-08-39/checkpoint_000002)\n"
     ]
    },
    {
     "name": "stdout",
     "output_type": "stream",
     "text": [
      "\u001b[36m(tune_with_parameters pid=2366816)\u001b[0m /tmp/tmp18jgkoog/checkpoint.pt\n"
     ]
    },
    {
     "name": "stderr",
     "output_type": "stream",
     "text": [
      "Val Epoch:3: 0it [00:00, ?it/s]\u001b[32m [repeated 2x across cluster]\u001b[0m\n",
      "Val Epoch:2: 47it [00:01, 36.22it/s]\u001b[32m [repeated 17x across cluster]\u001b[0m\n",
      "\u001b[36m(tune_with_parameters pid=2366816)\u001b[0m Checkpoint successfully created at: Checkpoint(filesystem=local, path=/scratch/users/k23058970/Model training/results/Double Peak LSTM Null/tune_with_parameters_2024-08-19_22-08-05/tune_with_parameters_34c49_00000_0_dp=0.2000,hidden_size=500,lr=0.0010,num_layers=3_2024-08-19_22-08-39/checkpoint_000002)\n"
     ]
    },
    {
     "name": "stdout",
     "output_type": "stream",
     "text": [
      "\u001b[36m(tune_with_parameters pid=2366816)\u001b[0m loss: 1.099\u001b[32m [repeated 29x across cluster]\u001b[0m\n",
      "\u001b[36m(tune_with_parameters pid=2366817)\u001b[0m /tmp/tmptea358hk/checkpoint.pt\n"
     ]
    },
    {
     "name": "stderr",
     "output_type": "stream",
     "text": [
      "\u001b[36m(tune_with_parameters pid=2366817)\u001b[0m Checkpoint successfully created at: Checkpoint(filesystem=local, path=/scratch/users/k23058970/Model training/results/Double Peak LSTM Null/tune_with_parameters_2024-08-19_22-08-05/tune_with_parameters_34c49_00001_1_dp=0.5000,hidden_size=300,lr=0.0051,num_layers=3_2024-08-19_22-08-39/checkpoint_000003)\n",
      "Val Epoch:3: 47it [00:02, 21.81it/s]16)\u001b[0m \n"
     ]
    },
    {
     "name": "stdout",
     "output_type": "stream",
     "text": [
      "\u001b[36m(tune_with_parameters pid=2366816)\u001b[0m /tmp/tmp582vrdws/checkpoint.pt\n",
      "\u001b[36m(tune_with_parameters pid=2366817)\u001b[0m loss: 1.099\u001b[32m [repeated 12x across cluster]\u001b[0m\n"
     ]
    },
    {
     "name": "stderr",
     "output_type": "stream",
     "text": [
      "Val Epoch:4: 0it [00:00, ?it/s]\u001b[32m [repeated 2x across cluster]\u001b[0m\n",
      "Val Epoch:3: 40it [00:01, 22.25it/s]\u001b[32m [repeated 18x across cluster]\u001b[0m\n",
      "\u001b[36m(tune_with_parameters pid=2366816)\u001b[0m Checkpoint successfully created at: Checkpoint(filesystem=local, path=/scratch/users/k23058970/Model training/results/Double Peak LSTM Null/tune_with_parameters_2024-08-19_22-08-05/tune_with_parameters_34c49_00000_0_dp=0.2000,hidden_size=500,lr=0.0010,num_layers=3_2024-08-19_22-08-39/checkpoint_000003)\n"
     ]
    },
    {
     "name": "stdout",
     "output_type": "stream",
     "text": [
      "\u001b[36m(tune_with_parameters pid=2366817)\u001b[0m loss: 1.098\u001b[32m [repeated 22x across cluster]\u001b[0m\n",
      "\u001b[36m(tune_with_parameters pid=2366816)\u001b[0m /tmp/tmp1u41dhlr/checkpoint.pt\n"
     ]
    },
    {
     "name": "stderr",
     "output_type": "stream",
     "text": [
      "\u001b[36m(tune_with_parameters pid=2366816)\u001b[0m Checkpoint successfully created at: Checkpoint(filesystem=local, path=/scratch/users/k23058970/Model training/results/Double Peak LSTM Null/tune_with_parameters_2024-08-19_22-08-05/tune_with_parameters_34c49_00000_0_dp=0.2000,hidden_size=500,lr=0.0010,num_layers=3_2024-08-19_22-08-39/checkpoint_000004)\n",
      "Val Epoch:5: 0it [00:00, ?it/s]\u001b[32m [repeated 2x across cluster]\u001b[0m\n",
      "Val Epoch:4: 47it [00:01, 24.30it/s]\u001b[32m [repeated 21x across cluster]\u001b[0m\n"
     ]
    },
    {
     "name": "stdout",
     "output_type": "stream",
     "text": [
      "\u001b[36m(tune_with_parameters pid=2366816)\u001b[0m loss: 1.098\u001b[32m [repeated 25x across cluster]\u001b[0m\n"
     ]
    },
    {
     "name": "stderr",
     "output_type": "stream",
     "text": [
      "Val Epoch:5: 47it [00:02, 22.76it/s]16)\u001b[0m \n"
     ]
    },
    {
     "name": "stdout",
     "output_type": "stream",
     "text": [
      "\u001b[36m(tune_with_parameters pid=2366816)\u001b[0m /tmp/tmpph88pwk4/checkpoint.pt\n"
     ]
    },
    {
     "name": "stderr",
     "output_type": "stream",
     "text": [
      "\u001b[36m(tune_with_parameters pid=2366816)\u001b[0m Checkpoint successfully created at: Checkpoint(filesystem=local, path=/scratch/users/k23058970/Model training/results/Double Peak LSTM Null/tune_with_parameters_2024-08-19_22-08-05/tune_with_parameters_34c49_00000_0_dp=0.2000,hidden_size=500,lr=0.0010,num_layers=3_2024-08-19_22-08-39/checkpoint_000005)\n"
     ]
    },
    {
     "name": "stdout",
     "output_type": "stream",
     "text": [
      "\u001b[36m(tune_with_parameters pid=2366817)\u001b[0m loss: 1.100\u001b[32m [repeated 12x across cluster]\u001b[0m\n"
     ]
    },
    {
     "name": "stderr",
     "output_type": "stream",
     "text": [
      "Val Epoch:6: 0it [00:00, ?it/s]\u001b[32m [repeated 2x across cluster]\u001b[0m\n",
      "Val Epoch:5: 38it [00:01, 27.81it/s]\u001b[32m [repeated 18x across cluster]\u001b[0m\n"
     ]
    },
    {
     "name": "stdout",
     "output_type": "stream",
     "text": [
      "\u001b[36m(tune_with_parameters pid=2366817)\u001b[0m loss: 1.097\u001b[32m [repeated 22x across cluster]\u001b[0m\n"
     ]
    },
    {
     "name": "stderr",
     "output_type": "stream",
     "text": [
      "Val Epoch:6: 0it [00:00, ?it/s]2366816)\u001b[0m \n",
      "Val Epoch:6: 45it [00:01, 41.92it/s]\u001b[32m [repeated 19x across cluster]\u001b[0m\n"
     ]
    },
    {
     "name": "stdout",
     "output_type": "stream",
     "text": [
      "\u001b[36m(tune_with_parameters pid=2366816)\u001b[0m /tmp/tmpbt09m5nz/checkpoint.pt\n"
     ]
    },
    {
     "name": "stderr",
     "output_type": "stream",
     "text": [
      "\u001b[36m(tune_with_parameters pid=2366816)\u001b[0m Checkpoint successfully created at: Checkpoint(filesystem=local, path=/scratch/users/k23058970/Model training/results/Double Peak LSTM Null/tune_with_parameters_2024-08-19_22-08-05/tune_with_parameters_34c49_00000_0_dp=0.2000,hidden_size=500,lr=0.0010,num_layers=3_2024-08-19_22-08-39/checkpoint_000006)\n",
      "Val Epoch:7: 0it [00:00, ?it/s]2366817)\u001b[0m \n"
     ]
    },
    {
     "name": "stdout",
     "output_type": "stream",
     "text": [
      "\u001b[36m(tune_with_parameters pid=2366816)\u001b[0m loss: 1.099\u001b[32m [repeated 20x across cluster]\u001b[0m\n"
     ]
    },
    {
     "name": "stderr",
     "output_type": "stream",
     "text": [
      "Val Epoch:7: 47it [00:01, 33.82it/s]\u001b[32m [repeated 11x across cluster]\u001b[0m\n"
     ]
    },
    {
     "name": "stdout",
     "output_type": "stream",
     "text": [
      "\u001b[36m(tune_with_parameters pid=2366816)\u001b[0m /tmp/tmpyl839eas/checkpoint.pt\n"
     ]
    },
    {
     "name": "stderr",
     "output_type": "stream",
     "text": [
      "\u001b[36m(tune_with_parameters pid=2366816)\u001b[0m Checkpoint successfully created at: Checkpoint(filesystem=local, path=/scratch/users/k23058970/Model training/results/Double Peak LSTM Null/tune_with_parameters_2024-08-19_22-08-05/tune_with_parameters_34c49_00000_0_dp=0.2000,hidden_size=500,lr=0.0010,num_layers=3_2024-08-19_22-08-39/checkpoint_000007)\n",
      "Val Epoch:7: 0it [00:00, ?it/s]2366816)\u001b[0m \n"
     ]
    },
    {
     "name": "stdout",
     "output_type": "stream",
     "text": [
      "\u001b[36m(tune_with_parameters pid=2366817)\u001b[0m loss: 1.098\u001b[32m [repeated 19x across cluster]\u001b[0m\n"
     ]
    },
    {
     "name": "stderr",
     "output_type": "stream",
     "text": [
      "Val Epoch:8: 0it [00:00, ?it/s]2366817)\u001b[0m \n",
      "Val Epoch:8: 13it [00:00, 24.19it/s]\u001b[32m [repeated 13x across cluster]\u001b[0m\n",
      "Val Epoch:8: 47it [00:01, 29.80it/s]17)\u001b[0m \n"
     ]
    },
    {
     "name": "stdout",
     "output_type": "stream",
     "text": [
      "\u001b[36m(tune_with_parameters pid=2366817)\u001b[0m loss: 1.098\u001b[32m [repeated 22x across cluster]\u001b[0m\n"
     ]
    },
    {
     "name": "stderr",
     "output_type": "stream",
     "text": [
      "Val Epoch:8: 0it [00:00, ?it/s]2366816)\u001b[0m \n"
     ]
    },
    {
     "name": "stdout",
     "output_type": "stream",
     "text": [
      "\u001b[36m(tune_with_parameters pid=2366816)\u001b[0m /tmp/tmpnkuoh8gd/checkpoint.pt\n"
     ]
    },
    {
     "name": "stderr",
     "output_type": "stream",
     "text": [
      "\u001b[36m(tune_with_parameters pid=2366816)\u001b[0m Checkpoint successfully created at: Checkpoint(filesystem=local, path=/scratch/users/k23058970/Model training/results/Double Peak LSTM Null/tune_with_parameters_2024-08-19_22-08-05/tune_with_parameters_34c49_00000_0_dp=0.2000,hidden_size=500,lr=0.0010,num_layers=3_2024-08-19_22-08-39/checkpoint_000008)\n",
      "Val Epoch:9: 0it [00:00, ?it/s]2366817)\u001b[0m \n",
      "Val Epoch:8: 47it [00:01, 39.62it/s]\u001b[32m [repeated 16x across cluster]\u001b[0m\n"
     ]
    },
    {
     "name": "stdout",
     "output_type": "stream",
     "text": [
      "\u001b[36m(tune_with_parameters pid=2366816)\u001b[0m loss: 1.099\u001b[32m [repeated 20x across cluster]\u001b[0m\n",
      "\u001b[36m(tune_with_parameters pid=2366817)\u001b[0m /tmp/tmp8u9uj1lk/checkpoint.pt\n"
     ]
    },
    {
     "name": "stderr",
     "output_type": "stream",
     "text": [
      "\u001b[36m(tune_with_parameters pid=2366817)\u001b[0m Checkpoint successfully created at: Checkpoint(filesystem=local, path=/scratch/users/k23058970/Model training/results/Double Peak LSTM Null/tune_with_parameters_2024-08-19_22-08-05/tune_with_parameters_34c49_00001_1_dp=0.5000,hidden_size=300,lr=0.0051,num_layers=3_2024-08-19_22-08-39/checkpoint_000004)\n"
     ]
    },
    {
     "name": "stdout",
     "output_type": "stream",
     "text": [
      "\u001b[36m(tune_with_parameters pid=2366817)\u001b[0m loss: 1.098\u001b[32m [repeated 21x across cluster]\u001b[0m\n"
     ]
    },
    {
     "name": "stderr",
     "output_type": "stream",
     "text": [
      "Val Epoch:10: 0it [00:00, ?it/s]\u001b[32m [repeated 2x across cluster]\u001b[0m\n",
      "Val Epoch:9: 47it [00:01, 27.18it/s]\u001b[32m [repeated 20x across cluster]\u001b[0m\n"
     ]
    },
    {
     "name": "stdout",
     "output_type": "stream",
     "text": [
      "\u001b[36m(tune_with_parameters pid=2366817)\u001b[0m loss: 1.097\u001b[32m [repeated 21x across cluster]\u001b[0m\n"
     ]
    },
    {
     "name": "stderr",
     "output_type": "stream",
     "text": [
      "Val Epoch:10: 0it [00:00, ?it/s]366816)\u001b[0m \n",
      "Val Epoch:10: 12it [00:00, 34.80it/s]\u001b[32m [repeated 14x across cluster]\u001b[0m\n",
      "Val Epoch:10: 47it [00:01, 37.29it/s]6)\u001b[0m \n",
      "Val Epoch:11: 0it [00:00, ?it/s]366817)\u001b[0m \n"
     ]
    },
    {
     "name": "stdout",
     "output_type": "stream",
     "text": [
      "\u001b[36m(tune_with_parameters pid=2366816)\u001b[0m loss: 1.098\u001b[32m [repeated 18x across cluster]\u001b[0m\n"
     ]
    },
    {
     "name": "stderr",
     "output_type": "stream",
     "text": [
      "Val Epoch:11: 42it [00:02, 36.97it/s]\u001b[32m [repeated 14x across cluster]\u001b[0m\n",
      "Val Epoch:11: 0it [00:00, ?it/s]366816)\u001b[0m \n"
     ]
    },
    {
     "name": "stdout",
     "output_type": "stream",
     "text": [
      "\u001b[36m(tune_with_parameters pid=2366817)\u001b[0m loss: 1.098\u001b[32m [repeated 20x across cluster]\u001b[0m\n"
     ]
    },
    {
     "name": "stderr",
     "output_type": "stream",
     "text": [
      "Val Epoch:12: 0it [00:00, ?it/s]366817)\u001b[0m \n",
      "Val Epoch:11: 47it [00:01, 24.59it/s]\u001b[32m [repeated 12x across cluster]\u001b[0m\n"
     ]
    },
    {
     "name": "stdout",
     "output_type": "stream",
     "text": [
      "\u001b[36m(tune_with_parameters pid=2366817)\u001b[0m loss: 1.098\u001b[32m [repeated 23x across cluster]\u001b[0m\n"
     ]
    },
    {
     "name": "stderr",
     "output_type": "stream",
     "text": [
      "Val Epoch:12: 0it [00:00, ?it/s]366816)\u001b[0m \n",
      "Val Epoch:12: 20it [00:00, 45.37it/s]\u001b[32m [repeated 14x across cluster]\u001b[0m\n",
      "Val Epoch:13: 0it [00:00, ?it/s]366817)\u001b[0m \n"
     ]
    },
    {
     "name": "stdout",
     "output_type": "stream",
     "text": [
      "\u001b[36m(tune_with_parameters pid=2366816)\u001b[0m loss: 1.098\u001b[32m [repeated 19x across cluster]\u001b[0m\n"
     ]
    },
    {
     "name": "stderr",
     "output_type": "stream",
     "text": [
      "Val Epoch:13: 47it [00:01, 26.00it/s]\u001b[32m [repeated 15x across cluster]\u001b[0m\n",
      "Val Epoch:13: 0it [00:00, ?it/s]366816)\u001b[0m \n"
     ]
    },
    {
     "name": "stdout",
     "output_type": "stream",
     "text": [
      "\u001b[36m(tune_with_parameters pid=2366817)\u001b[0m loss: 1.098\u001b[32m [repeated 16x across cluster]\u001b[0m\n"
     ]
    },
    {
     "name": "stderr",
     "output_type": "stream",
     "text": [
      "Val Epoch:14: 0it [00:00, ?it/s]366817)\u001b[0m \n",
      "Val Epoch:14: 1it [00:00,  1.81it/s]\u001b[32m [repeated 11x across cluster]\u001b[0m\n"
     ]
    },
    {
     "name": "stdout",
     "output_type": "stream",
     "text": [
      "\u001b[36m(tune_with_parameters pid=2366817)\u001b[0m loss: 1.097\u001b[32m [repeated 23x across cluster]\u001b[0m\n"
     ]
    },
    {
     "name": "stderr",
     "output_type": "stream",
     "text": [
      "Val Epoch:14: 47it [00:01, 30.20it/s]6)\u001b[0m \n"
     ]
    },
    {
     "name": "stdout",
     "output_type": "stream",
     "text": [
      "\u001b[36m(tune_with_parameters pid=2366817)\u001b[0m \n"
     ]
    },
    {
     "name": "stderr",
     "output_type": "stream",
     "text": [
      "Val Epoch:15: 0it [00:00, ?it/s]\u001b[32m [repeated 2x across cluster]\u001b[0m\n",
      "Val Epoch:14: 36it [00:01, 39.56it/s]\u001b[32m [repeated 17x across cluster]\u001b[0m\n"
     ]
    },
    {
     "name": "stdout",
     "output_type": "stream",
     "text": [
      "\u001b[36m(tune_with_parameters pid=2366816)\u001b[0m loss: 1.098\u001b[32m [repeated 23x across cluster]\u001b[0m\n",
      "\u001b[36m(tune_with_parameters pid=2366817)\u001b[0m loss: 1.097\u001b[32m [repeated 21x across cluster]\u001b[0m\n"
     ]
    },
    {
     "name": "stderr",
     "output_type": "stream",
     "text": [
      "Val Epoch:16: 0it [00:00, ?it/s]\u001b[32m [repeated 2x across cluster]\u001b[0m\n",
      "Val Epoch:15: 47it [00:01, 25.78it/s]\u001b[32m [repeated 20x across cluster]\u001b[0m\n"
     ]
    },
    {
     "name": "stdout",
     "output_type": "stream",
     "text": [
      "\u001b[36m(tune_with_parameters pid=2366817)\u001b[0m loss: 1.097\u001b[32m [repeated 19x across cluster]\u001b[0m\n"
     ]
    },
    {
     "name": "stderr",
     "output_type": "stream",
     "text": [
      "Val Epoch:17: 0it [00:00, ?it/s]\u001b[32m [repeated 2x across cluster]\u001b[0m\n",
      "Val Epoch:16: 47it [00:01, 29.28it/s]\u001b[32m [repeated 18x across cluster]\u001b[0m\n",
      "Val Epoch:17: 47it [00:01, 24.04it/s]7)\u001b[0m \n"
     ]
    },
    {
     "name": "stdout",
     "output_type": "stream",
     "text": [
      "\u001b[36m(tune_with_parameters pid=2366817)\u001b[0m loss: 1.098\u001b[32m [repeated 22x across cluster]\u001b[0m\n"
     ]
    },
    {
     "name": "stderr",
     "output_type": "stream",
     "text": [
      "Val Epoch:17: 0it [00:00, ?it/s]366816)\u001b[0m \n",
      "Val Epoch:17: 39it [00:01, 43.60it/s]\u001b[32m [repeated 16x across cluster]\u001b[0m\n"
     ]
    },
    {
     "name": "stdout",
     "output_type": "stream",
     "text": [
      "\u001b[36m(tune_with_parameters pid=2366816)\u001b[0m /tmp/tmpg5vvhqla/checkpoint.pt\n"
     ]
    },
    {
     "name": "stderr",
     "output_type": "stream",
     "text": [
      "\u001b[36m(tune_with_parameters pid=2366816)\u001b[0m Checkpoint successfully created at: Checkpoint(filesystem=local, path=/scratch/users/k23058970/Model training/results/Double Peak LSTM Null/tune_with_parameters_2024-08-19_22-08-05/tune_with_parameters_34c49_00000_0_dp=0.2000,hidden_size=500,lr=0.0010,num_layers=3_2024-08-19_22-08-39/checkpoint_000009)\n"
     ]
    },
    {
     "name": "stdout",
     "output_type": "stream",
     "text": [
      "\u001b[36m(tune_with_parameters pid=2366816)\u001b[0m loss: 1.098\u001b[32m [repeated 22x across cluster]\u001b[0m\n"
     ]
    },
    {
     "name": "stderr",
     "output_type": "stream",
     "text": [
      "Val Epoch:18: 0it [00:00, ?it/s]366817)\u001b[0m \n",
      "Val Epoch:18: 47it [00:01, 37.23it/s]7)\u001b[0m \n",
      "Val Epoch:18: 39it [00:01, 43.48it/s]\u001b[32m [repeated 10x across cluster]\u001b[0m\n"
     ]
    },
    {
     "name": "stdout",
     "output_type": "stream",
     "text": [
      "\u001b[36m(tune_with_parameters pid=2366817)\u001b[0m loss: 1.097\u001b[32m [repeated 17x across cluster]\u001b[0m\n"
     ]
    },
    {
     "name": "stderr",
     "output_type": "stream",
     "text": [
      "Val Epoch:19: 0it [00:00, ?it/s]\u001b[32m [repeated 2x across cluster]\u001b[0m\n",
      "Val Epoch:19: 39it [00:01, 40.95it/s]\u001b[32m [repeated 17x across cluster]\u001b[0m\n"
     ]
    },
    {
     "name": "stdout",
     "output_type": "stream",
     "text": [
      "\u001b[36m(tune_with_parameters pid=2366817)\u001b[0m loss: 1.099\u001b[32m [repeated 21x across cluster]\u001b[0m\n"
     ]
    },
    {
     "name": "stderr",
     "output_type": "stream",
     "text": [
      "Val Epoch:20: 0it [00:00, ?it/s]\u001b[32m [repeated 2x across cluster]\u001b[0m\n",
      "Val Epoch:19: 47it [00:01, 32.65it/s]\u001b[32m [repeated 12x across cluster]\u001b[0m\n"
     ]
    },
    {
     "name": "stdout",
     "output_type": "stream",
     "text": [
      "\u001b[36m(tune_with_parameters pid=2366816)\u001b[0m loss: 1.098\u001b[32m [repeated 23x across cluster]\u001b[0m\n"
     ]
    },
    {
     "name": "stderr",
     "output_type": "stream",
     "text": [
      "Val Epoch:20: 0it [00:00, ?it/s]366816)\u001b[0m \n",
      "Val Epoch:20: 39it [00:01, 44.25it/s]\u001b[32m [repeated 19x across cluster]\u001b[0m\n"
     ]
    },
    {
     "name": "stdout",
     "output_type": "stream",
     "text": [
      "\u001b[36m(tune_with_parameters pid=2366817)\u001b[0m loss: 1.097\u001b[32m [repeated 20x across cluster]\u001b[0m\n"
     ]
    },
    {
     "name": "stderr",
     "output_type": "stream",
     "text": [
      "Val Epoch:21: 0it [00:00, ?it/s]366817)\u001b[0m \n",
      "Val Epoch:21: 47it [00:01, 31.46it/s]7)\u001b[0m \n",
      "Val Epoch:21: 40it [00:01, 42.10it/s]\u001b[32m [repeated 10x across cluster]\u001b[0m\n"
     ]
    },
    {
     "name": "stdout",
     "output_type": "stream",
     "text": [
      "\u001b[36m(tune_with_parameters pid=2366817)\u001b[0m loss: 1.096\u001b[32m [repeated 23x across cluster]\u001b[0m\n"
     ]
    },
    {
     "name": "stderr",
     "output_type": "stream",
     "text": [
      "Val Epoch:21: 0it [00:00, ?it/s]366816)\u001b[0m \n",
      "Val Epoch:22: 0it [00:00, ?it/s]366817)\u001b[0m \n"
     ]
    },
    {
     "name": "stdout",
     "output_type": "stream",
     "text": [
      "\u001b[36m(tune_with_parameters pid=2366817)\u001b[0m /tmp/tmp189rvuqe/checkpoint.pt\n"
     ]
    },
    {
     "name": "stderr",
     "output_type": "stream",
     "text": [
      "\u001b[36m(tune_with_parameters pid=2366817)\u001b[0m Checkpoint successfully created at: Checkpoint(filesystem=local, path=/scratch/users/k23058970/Model training/results/Double Peak LSTM Null/tune_with_parameters_2024-08-19_22-08-05/tune_with_parameters_34c49_00001_1_dp=0.5000,hidden_size=300,lr=0.0051,num_layers=3_2024-08-19_22-08-39/checkpoint_000005)\n",
      "Val Epoch:22: 47it [00:01, 38.46it/s]\u001b[32m [repeated 20x across cluster]\u001b[0m\n"
     ]
    },
    {
     "name": "stdout",
     "output_type": "stream",
     "text": [
      "\u001b[36m(tune_with_parameters pid=2366816)\u001b[0m loss: 1.099\u001b[32m [repeated 22x across cluster]\u001b[0m\n",
      "\u001b[36m(tune_with_parameters pid=2366816)\u001b[0m loss: 1.098\u001b[32m [repeated 25x across cluster]\u001b[0m\n"
     ]
    },
    {
     "name": "stderr",
     "output_type": "stream",
     "text": [
      "Val Epoch:23: 0it [00:00, ?it/s]\u001b[32m [repeated 2x across cluster]\u001b[0m\n",
      "Val Epoch:22: 47it [00:01, 34.01it/s]\u001b[32m [repeated 10x across cluster]\u001b[0m\n",
      "Val Epoch:23: 35it [00:01, 43.05it/s]7)\u001b[0m \n"
     ]
    },
    {
     "name": "stdout",
     "output_type": "stream",
     "text": [
      "\u001b[36m(tune_with_parameters pid=2366816)\u001b[0m /tmp/tmp5ll1ygv3/checkpoint.pt\n"
     ]
    },
    {
     "name": "stderr",
     "output_type": "stream",
     "text": [
      "\u001b[36m(tune_with_parameters pid=2366816)\u001b[0m Checkpoint successfully created at: Checkpoint(filesystem=local, path=/scratch/users/k23058970/Model training/results/Double Peak LSTM Null/tune_with_parameters_2024-08-19_22-08-05/tune_with_parameters_34c49_00000_0_dp=0.2000,hidden_size=500,lr=0.0010,num_layers=3_2024-08-19_22-08-39/checkpoint_000010)\n"
     ]
    },
    {
     "name": "stdout",
     "output_type": "stream",
     "text": [
      "\u001b[36m(tune_with_parameters pid=2366817)\u001b[0m loss: 1.096\u001b[32m [repeated 19x across cluster]\u001b[0m\n"
     ]
    },
    {
     "name": "stderr",
     "output_type": "stream",
     "text": [
      "Val Epoch:24: 0it [00:00, ?it/s]\u001b[32m [repeated 2x across cluster]\u001b[0m\n",
      "Val Epoch:23: 47it [00:01, 32.18it/s]\u001b[32m [repeated 18x across cluster]\u001b[0m\n"
     ]
    },
    {
     "name": "stdout",
     "output_type": "stream",
     "text": [
      "\u001b[36m(tune_with_parameters pid=2366817)\u001b[0m /tmp/tmp3qdb3mk1/checkpoint.pt\n"
     ]
    },
    {
     "name": "stderr",
     "output_type": "stream",
     "text": [
      "\u001b[36m(tune_with_parameters pid=2366817)\u001b[0m Checkpoint successfully created at: Checkpoint(filesystem=local, path=/scratch/users/k23058970/Model training/results/Double Peak LSTM Null/tune_with_parameters_2024-08-19_22-08-05/tune_with_parameters_34c49_00001_1_dp=0.5000,hidden_size=300,lr=0.0051,num_layers=3_2024-08-19_22-08-39/checkpoint_000006)\n"
     ]
    },
    {
     "name": "stdout",
     "output_type": "stream",
     "text": [
      "\u001b[36m(tune_with_parameters pid=2366817)\u001b[0m loss: 1.096\u001b[32m [repeated 23x across cluster]\u001b[0m\n"
     ]
    },
    {
     "name": "stderr",
     "output_type": "stream",
     "text": [
      "Val Epoch:24: 0it [00:00, ?it/s]366816)\u001b[0m \n",
      "Val Epoch:24: 36it [00:01, 39.78it/s]\u001b[32m [repeated 17x across cluster]\u001b[0m\n",
      "Val Epoch:25: 0it [00:00, ?it/s]366817)\u001b[0m \n"
     ]
    },
    {
     "name": "stdout",
     "output_type": "stream",
     "text": [
      "\u001b[36m(tune_with_parameters pid=2366816)\u001b[0m loss: 1.098\u001b[32m [repeated 21x across cluster]\u001b[0m\n"
     ]
    },
    {
     "name": "stderr",
     "output_type": "stream",
     "text": [
      "Val Epoch:25: 47it [00:01, 24.26it/s]\u001b[32m [repeated 13x across cluster]\u001b[0m\n",
      "Val Epoch:25: 0it [00:00, ?it/s]366816)\u001b[0m \n"
     ]
    },
    {
     "name": "stdout",
     "output_type": "stream",
     "text": [
      "\u001b[36m(tune_with_parameters pid=2366816)\u001b[0m loss: 1.098\u001b[32m [repeated 20x across cluster]\u001b[0m\n"
     ]
    },
    {
     "name": "stderr",
     "output_type": "stream",
     "text": [
      "Val Epoch:26: 0it [00:00, ?it/s]366817)\u001b[0m \n",
      "Val Epoch:26: 31it [00:01, 36.99it/s]\u001b[32m [repeated 17x across cluster]\u001b[0m\n"
     ]
    },
    {
     "name": "stdout",
     "output_type": "stream",
     "text": [
      "\u001b[36m(tune_with_parameters pid=2366817)\u001b[0m loss: 1.096\u001b[32m [repeated 19x across cluster]\u001b[0m\n"
     ]
    },
    {
     "name": "stderr",
     "output_type": "stream",
     "text": [
      "Val Epoch:26: 0it [00:00, ?it/s]366816)\u001b[0m \n",
      "Val Epoch:27: 0it [00:00, ?it/s]366817)\u001b[0m \n",
      "Val Epoch:26: 47it [00:01, 24.96it/s]\u001b[32m [repeated 13x across cluster]\u001b[0m\n"
     ]
    },
    {
     "name": "stdout",
     "output_type": "stream",
     "text": [
      "\u001b[36m(tune_with_parameters pid=2366816)\u001b[0m loss: 1.098\u001b[32m [repeated 22x across cluster]\u001b[0m\n",
      "\u001b[36m(tune_with_parameters pid=2366817)\u001b[0m loss: 1.095\u001b[32m [repeated 20x across cluster]\u001b[0m\n"
     ]
    },
    {
     "name": "stderr",
     "output_type": "stream",
     "text": [
      "Val Epoch:28: 0it [00:00, ?it/s]\u001b[32m [repeated 2x across cluster]\u001b[0m\n",
      "Val Epoch:27: 47it [00:01, 26.84it/s]\u001b[32m [repeated 23x across cluster]\u001b[0m\n"
     ]
    },
    {
     "name": "stdout",
     "output_type": "stream",
     "text": [
      "\u001b[36m(tune_with_parameters pid=2366817)\u001b[0m loss: 1.096\u001b[32m [repeated 20x across cluster]\u001b[0m\n"
     ]
    },
    {
     "name": "stderr",
     "output_type": "stream",
     "text": [
      "Val Epoch:28: 0it [00:00, ?it/s]366816)\u001b[0m \n",
      "Val Epoch:28: 44it [00:02, 34.69it/s]\u001b[32m [repeated 19x across cluster]\u001b[0m\n",
      "Val Epoch:29: 0it [00:00, ?it/s]366817)\u001b[0m \n"
     ]
    },
    {
     "name": "stdout",
     "output_type": "stream",
     "text": [
      "\u001b[36m(tune_with_parameters pid=2366816)\u001b[0m loss: 1.098\u001b[32m [repeated 21x across cluster]\u001b[0m\n"
     ]
    },
    {
     "name": "stderr",
     "output_type": "stream",
     "text": [
      "Val Epoch:29: 47it [00:01, 27.17it/s]\u001b[32m [repeated 11x across cluster]\u001b[0m\n",
      "Val Epoch:29: 0it [00:00, ?it/s]366816)\u001b[0m \n"
     ]
    },
    {
     "name": "stdout",
     "output_type": "stream",
     "text": [
      "\u001b[36m(tune_with_parameters pid=2366816)\u001b[0m loss: 1.098\u001b[32m [repeated 23x across cluster]\u001b[0m\n"
     ]
    },
    {
     "name": "stderr",
     "output_type": "stream",
     "text": [
      "Val Epoch:30: 0it [00:00, ?it/s]366817)\u001b[0m \n",
      "Val Epoch:30: 47it [00:01, 34.80it/s]\u001b[32m [repeated 21x across cluster]\u001b[0m\n"
     ]
    },
    {
     "name": "stdout",
     "output_type": "stream",
     "text": [
      "\u001b[36m(tune_with_parameters pid=2366817)\u001b[0m loss: 1.094\u001b[32m [repeated 18x across cluster]\u001b[0m\n"
     ]
    },
    {
     "name": "stderr",
     "output_type": "stream",
     "text": [
      "Val Epoch:31: 0it [00:00, ?it/s]\u001b[32m [repeated 2x across cluster]\u001b[0m\n",
      "Val Epoch:30: 47it [00:01, 28.44it/s]\u001b[32m [repeated 10x across cluster]\u001b[0m\n"
     ]
    },
    {
     "name": "stdout",
     "output_type": "stream",
     "text": [
      "\u001b[36m(tune_with_parameters pid=2366817)\u001b[0m /tmp/tmp079rc1q7/checkpoint.pt\n"
     ]
    },
    {
     "name": "stderr",
     "output_type": "stream",
     "text": [
      "\u001b[36m(tune_with_parameters pid=2366817)\u001b[0m Checkpoint successfully created at: Checkpoint(filesystem=local, path=/scratch/users/k23058970/Model training/results/Double Peak LSTM Null/tune_with_parameters_2024-08-19_22-08-05/tune_with_parameters_34c49_00001_1_dp=0.5000,hidden_size=300,lr=0.0051,num_layers=3_2024-08-19_22-08-39/checkpoint_000007)\n"
     ]
    },
    {
     "name": "stdout",
     "output_type": "stream",
     "text": [
      "\u001b[36m(tune_with_parameters pid=2366817)\u001b[0m loss: 1.097\u001b[32m [repeated 21x across cluster]\u001b[0m\n"
     ]
    },
    {
     "name": "stderr",
     "output_type": "stream",
     "text": [
      "Val Epoch:31: 0it [00:00, ?it/s]366816)\u001b[0m \n",
      "Val Epoch:31: 27it [00:00, 34.43it/s]\u001b[32m [repeated 16x across cluster]\u001b[0m\n",
      "Val Epoch:31: 47it [00:01, 33.49it/s]6)\u001b[0m \n",
      "Val Epoch:32: 0it [00:00, ?it/s]366817)\u001b[0m \n"
     ]
    },
    {
     "name": "stdout",
     "output_type": "stream",
     "text": [
      "\u001b[36m(tune_with_parameters pid=2366816)\u001b[0m loss: 1.098\u001b[32m [repeated 21x across cluster]\u001b[0m\n"
     ]
    },
    {
     "name": "stderr",
     "output_type": "stream",
     "text": [
      "Val Epoch:32: 47it [00:01, 34.92it/s]\u001b[32m [repeated 11x across cluster]\u001b[0m\n",
      "Val Epoch:32: 7it [00:00, 23.39it/s]17)\u001b[0m \n"
     ]
    },
    {
     "name": "stdout",
     "output_type": "stream",
     "text": [
      "\u001b[36m(tune_with_parameters pid=2366816)\u001b[0m /tmp/tmpv11wgl3c/checkpoint.pt\n"
     ]
    },
    {
     "name": "stderr",
     "output_type": "stream",
     "text": [
      "\u001b[36m(tune_with_parameters pid=2366816)\u001b[0m Checkpoint successfully created at: Checkpoint(filesystem=local, path=/scratch/users/k23058970/Model training/results/Double Peak LSTM Null/tune_with_parameters_2024-08-19_22-08-05/tune_with_parameters_34c49_00000_0_dp=0.2000,hidden_size=500,lr=0.0010,num_layers=3_2024-08-19_22-08-39/checkpoint_000011)\n",
      "Val Epoch:32: 0it [00:00, ?it/s]366816)\u001b[0m \n"
     ]
    },
    {
     "name": "stdout",
     "output_type": "stream",
     "text": [
      "\u001b[36m(tune_with_parameters pid=2366817)\u001b[0m loss: 1.094\u001b[32m [repeated 23x across cluster]\u001b[0m\n"
     ]
    },
    {
     "name": "stderr",
     "output_type": "stream",
     "text": [
      "Val Epoch:33: 0it [00:00, ?it/s]366817)\u001b[0m \n",
      "Val Epoch:33: 36it [00:02, 36.08it/s]\u001b[32m [repeated 18x across cluster]\u001b[0m\n",
      "Val Epoch:33: 0it [00:00, ?it/s]366816)\u001b[0m \n"
     ]
    },
    {
     "name": "stdout",
     "output_type": "stream",
     "text": [
      "\u001b[36m(tune_with_parameters pid=2366817)\u001b[0m loss: 1.093\u001b[32m [repeated 23x across cluster]\u001b[0m\n"
     ]
    },
    {
     "name": "stderr",
     "output_type": "stream",
     "text": [
      "Val Epoch:34: 0it [00:00, ?it/s]366817)\u001b[0m \n",
      "Val Epoch:33: 47it [00:01, 30.46it/s]\u001b[32m [repeated 13x across cluster]\u001b[0m\n"
     ]
    },
    {
     "name": "stdout",
     "output_type": "stream",
     "text": [
      "\u001b[36m(tune_with_parameters pid=2366817)\u001b[0m /tmp/tmpix81dsxa/checkpoint.pt\n",
      "\u001b[36m(tune_with_parameters pid=2366816)\u001b[0m loss: 1.098\u001b[32m [repeated 19x across cluster]\u001b[0m\n"
     ]
    },
    {
     "name": "stderr",
     "output_type": "stream",
     "text": [
      "\u001b[36m(tune_with_parameters pid=2366817)\u001b[0m Checkpoint successfully created at: Checkpoint(filesystem=local, path=/scratch/users/k23058970/Model training/results/Double Peak LSTM Null/tune_with_parameters_2024-08-19_22-08-05/tune_with_parameters_34c49_00001_1_dp=0.5000,hidden_size=300,lr=0.0051,num_layers=3_2024-08-19_22-08-39/checkpoint_000008)\n",
      "Val Epoch:34: 0it [00:00, ?it/s]366816)\u001b[0m \n",
      "Val Epoch:34: 43it [00:01, 43.60it/s]\u001b[32m [repeated 19x across cluster]\u001b[0m\n"
     ]
    },
    {
     "name": "stdout",
     "output_type": "stream",
     "text": [
      "\u001b[36m(tune_with_parameters pid=2366817)\u001b[0m loss: 1.093\u001b[32m [repeated 20x across cluster]\u001b[0m\n"
     ]
    },
    {
     "name": "stderr",
     "output_type": "stream",
     "text": [
      "Val Epoch:35: 0it [00:00, ?it/s]366817)\u001b[0m \n",
      "Val Epoch:35: 47it [00:01, 27.79it/s]\u001b[32m [repeated 13x across cluster]\u001b[0m\n"
     ]
    },
    {
     "name": "stdout",
     "output_type": "stream",
     "text": [
      "\u001b[36m(tune_with_parameters pid=2366817)\u001b[0m loss: 1.093\u001b[32m [repeated 21x across cluster]\u001b[0m\n"
     ]
    },
    {
     "name": "stderr",
     "output_type": "stream",
     "text": [
      "Val Epoch:36: 0it [00:00, ?it/s]\u001b[32m [repeated 2x across cluster]\u001b[0m\n",
      "Val Epoch:36: 23it [00:00, 36.19it/s]\u001b[32m [repeated 16x across cluster]\u001b[0m\n"
     ]
    },
    {
     "name": "stdout",
     "output_type": "stream",
     "text": [
      "\u001b[36m(tune_with_parameters pid=2366817)\u001b[0m loss: 1.098\u001b[32m [repeated 21x across cluster]\u001b[0m\n"
     ]
    },
    {
     "name": "stderr",
     "output_type": "stream",
     "text": [
      "Val Epoch:36: 0it [00:00, ?it/s]366816)\u001b[0m \n"
     ]
    },
    {
     "name": "stdout",
     "output_type": "stream",
     "text": [
      "\u001b[36m(tune_with_parameters pid=2366816)\u001b[0m /tmp/tmpqp13aqan/checkpoint.pt\n"
     ]
    },
    {
     "name": "stderr",
     "output_type": "stream",
     "text": [
      "\u001b[36m(tune_with_parameters pid=2366816)\u001b[0m Checkpoint successfully created at: Checkpoint(filesystem=local, path=/scratch/users/k23058970/Model training/results/Double Peak LSTM Null/tune_with_parameters_2024-08-19_22-08-05/tune_with_parameters_34c49_00000_0_dp=0.2000,hidden_size=500,lr=0.0010,num_layers=3_2024-08-19_22-08-39/checkpoint_000012)\n",
      "Val Epoch:37: 0it [00:00, ?it/s]366817)\u001b[0m \n",
      "Val Epoch:36: 47it [00:01, 29.67it/s]\u001b[32m [repeated 16x across cluster]\u001b[0m\n"
     ]
    },
    {
     "name": "stdout",
     "output_type": "stream",
     "text": [
      "\u001b[36m(tune_with_parameters pid=2366816)\u001b[0m loss: 1.098\u001b[32m [repeated 22x across cluster]\u001b[0m\n"
     ]
    },
    {
     "name": "stderr",
     "output_type": "stream",
     "text": [
      "Val Epoch:37: 0it [00:00, ?it/s]366816)\u001b[0m \n",
      "Val Epoch:37: 35it [00:01, 37.07it/s]\u001b[32m [repeated 17x across cluster]\u001b[0m\n"
     ]
    },
    {
     "name": "stdout",
     "output_type": "stream",
     "text": [
      "\u001b[36m(tune_with_parameters pid=2366817)\u001b[0m loss: 1.092\u001b[32m [repeated 23x across cluster]\u001b[0m\n",
      "\u001b[36m(tune_with_parameters pid=2366816)\u001b[0m /tmp/tmper75kg2r/checkpoint.pt\n"
     ]
    },
    {
     "name": "stderr",
     "output_type": "stream",
     "text": [
      "\u001b[36m(tune_with_parameters pid=2366816)\u001b[0m Checkpoint successfully created at: Checkpoint(filesystem=local, path=/scratch/users/k23058970/Model training/results/Double Peak LSTM Null/tune_with_parameters_2024-08-19_22-08-05/tune_with_parameters_34c49_00000_0_dp=0.2000,hidden_size=500,lr=0.0010,num_layers=3_2024-08-19_22-08-39/checkpoint_000013)\n",
      "Val Epoch:38: 0it [00:00, ?it/s]366817)\u001b[0m \n",
      "Val Epoch:38: 47it [00:01, 36.78it/s]7)\u001b[0m \n"
     ]
    },
    {
     "name": "stdout",
     "output_type": "stream",
     "text": [
      "\u001b[36m(tune_with_parameters pid=2366817)\u001b[0m loss: 1.093\u001b[32m [repeated 16x across cluster]\u001b[0m\n"
     ]
    },
    {
     "name": "stderr",
     "output_type": "stream",
     "text": [
      "Val Epoch:38: 39it [00:01, 40.77it/s]\u001b[32m [repeated 12x across cluster]\u001b[0m\n",
      "Val Epoch:38: 0it [00:00, ?it/s]366816)\u001b[0m \n",
      "Val Epoch:39: 0it [00:00, ?it/s]366817)\u001b[0m \n"
     ]
    },
    {
     "name": "stdout",
     "output_type": "stream",
     "text": [
      "\u001b[36m(tune_with_parameters pid=2366816)\u001b[0m loss: 1.098\u001b[32m [repeated 20x across cluster]\u001b[0m\n",
      "\u001b[36m(tune_with_parameters pid=2366817)\u001b[0m /tmp/tmpzgmy16g1/checkpoint.pt\n"
     ]
    },
    {
     "name": "stderr",
     "output_type": "stream",
     "text": [
      "\u001b[36m(tune_with_parameters pid=2366817)\u001b[0m Checkpoint successfully created at: Checkpoint(filesystem=local, path=/scratch/users/k23058970/Model training/results/Double Peak LSTM Null/tune_with_parameters_2024-08-19_22-08-05/tune_with_parameters_34c49_00001_1_dp=0.5000,hidden_size=300,lr=0.0051,num_layers=3_2024-08-19_22-08-39/checkpoint_000009)\n",
      "Val Epoch:39: 47it [00:01, 31.26it/s]\u001b[32m [repeated 21x across cluster]\u001b[0m\n",
      "Val Epoch:39: 0it [00:00, ?it/s]366816)\u001b[0m \n"
     ]
    },
    {
     "name": "stdout",
     "output_type": "stream",
     "text": [
      "\u001b[36m(tune_with_parameters pid=2366817)\u001b[0m loss: 1.091\u001b[32m [repeated 22x across cluster]\u001b[0m\n"
     ]
    },
    {
     "name": "stderr",
     "output_type": "stream",
     "text": [
      "Val Epoch:40: 0it [00:00, ?it/s]366817)\u001b[0m \n",
      "Val Epoch:39: 47it [00:01, 30.66it/s]\u001b[32m [repeated 10x across cluster]\u001b[0m\n"
     ]
    },
    {
     "name": "stdout",
     "output_type": "stream",
     "text": [
      "\u001b[36m(tune_with_parameters pid=2366817)\u001b[0m /tmp/tmp_e7lrnee/checkpoint.pt\n"
     ]
    },
    {
     "name": "stderr",
     "output_type": "stream",
     "text": [
      "\u001b[36m(tune_with_parameters pid=2366817)\u001b[0m Checkpoint successfully created at: Checkpoint(filesystem=local, path=/scratch/users/k23058970/Model training/results/Double Peak LSTM Null/tune_with_parameters_2024-08-19_22-08-05/tune_with_parameters_34c49_00001_1_dp=0.5000,hidden_size=300,lr=0.0051,num_layers=3_2024-08-19_22-08-39/checkpoint_000010)\n"
     ]
    },
    {
     "name": "stdout",
     "output_type": "stream",
     "text": [
      "\u001b[36m(tune_with_parameters pid=2366816)\u001b[0m loss: 1.098\u001b[32m [repeated 16x across cluster]\u001b[0m\n"
     ]
    },
    {
     "name": "stderr",
     "output_type": "stream",
     "text": [
      "Val Epoch:40: 0it [00:00, ?it/s]366816)\u001b[0m \n",
      "Val Epoch:40: 40it [00:01, 42.07it/s]\u001b[32m [repeated 19x across cluster]\u001b[0m\n",
      "Val Epoch:40: 47it [00:01, 35.65it/s]6)\u001b[0m \n",
      "Val Epoch:41: 0it [00:00, ?it/s]366817)\u001b[0m \n"
     ]
    },
    {
     "name": "stdout",
     "output_type": "stream",
     "text": [
      "\u001b[36m(tune_with_parameters pid=2366816)\u001b[0m loss: 1.097\u001b[32m [repeated 24x across cluster]\u001b[0m\n"
     ]
    },
    {
     "name": "stderr",
     "output_type": "stream",
     "text": [
      "Val Epoch:41: 47it [00:01, 30.85it/s]\u001b[32m [repeated 11x across cluster]\u001b[0m\n",
      "Val Epoch:41: 0it [00:00, ?it/s]366816)\u001b[0m \n"
     ]
    },
    {
     "name": "stdout",
     "output_type": "stream",
     "text": [
      "\u001b[36m(tune_with_parameters pid=2366817)\u001b[0m loss: 1.091\u001b[32m [repeated 21x across cluster]\u001b[0m\n"
     ]
    },
    {
     "name": "stderr",
     "output_type": "stream",
     "text": [
      "Val Epoch:42: 0it [00:00, ?it/s]366817)\u001b[0m \n",
      "Val Epoch:42: 13it [00:00, 21.78it/s]\u001b[32m [repeated 14x across cluster]\u001b[0m\n"
     ]
    },
    {
     "name": "stdout",
     "output_type": "stream",
     "text": [
      "\u001b[36m(tune_with_parameters pid=2366817)\u001b[0m loss: 1.089\u001b[32m [repeated 25x across cluster]\u001b[0m\n"
     ]
    },
    {
     "name": "stderr",
     "output_type": "stream",
     "text": [
      "Val Epoch:42: 0it [00:00, ?it/s]366816)\u001b[0m \n",
      "Val Epoch:43: 0it [00:00, ?it/s]366817)\u001b[0m \n",
      "Val Epoch:42: 47it [00:01, 30.10it/s]\u001b[32m [repeated 17x across cluster]\u001b[0m\n"
     ]
    },
    {
     "name": "stdout",
     "output_type": "stream",
     "text": [
      "\u001b[36m(tune_with_parameters pid=2366816)\u001b[0m loss: 1.097\u001b[32m [repeated 19x across cluster]\u001b[0m\n"
     ]
    },
    {
     "name": "stderr",
     "output_type": "stream",
     "text": [
      "Val Epoch:43: 0it [00:00, ?it/s]366816)\u001b[0m \n",
      "Val Epoch:43: 47it [00:01, 39.28it/s]\u001b[32m [repeated 19x across cluster]\u001b[0m\n",
      "Val Epoch:44: 0it [00:00, ?it/s]366817)\u001b[0m \n"
     ]
    },
    {
     "name": "stdout",
     "output_type": "stream",
     "text": [
      "\u001b[36m(tune_with_parameters pid=2366816)\u001b[0m loss: 1.097\u001b[32m [repeated 25x across cluster]\u001b[0m\n",
      "\u001b[36m(tune_with_parameters pid=2366817)\u001b[0m /tmp/tmpz3ix1fdx/checkpoint.pt\n"
     ]
    },
    {
     "name": "stderr",
     "output_type": "stream",
     "text": [
      "\u001b[36m(tune_with_parameters pid=2366817)\u001b[0m Checkpoint successfully created at: Checkpoint(filesystem=local, path=/scratch/users/k23058970/Model training/results/Double Peak LSTM Null/tune_with_parameters_2024-08-19_22-08-05/tune_with_parameters_34c49_00001_1_dp=0.5000,hidden_size=300,lr=0.0051,num_layers=3_2024-08-19_22-08-39/checkpoint_000011)\n",
      "Val Epoch:44: 47it [00:01, 30.20it/s]\u001b[32m [repeated 9x across cluster]\u001b[0m\n",
      "Val Epoch:44: 0it [00:00, ?it/s]366816)\u001b[0m \n"
     ]
    },
    {
     "name": "stdout",
     "output_type": "stream",
     "text": [
      "\u001b[36m(tune_with_parameters pid=2366817)\u001b[0m loss: 1.087\u001b[32m [repeated 21x across cluster]\u001b[0m\n"
     ]
    },
    {
     "name": "stderr",
     "output_type": "stream",
     "text": [
      "Val Epoch:45: 0it [00:00, ?it/s]366817)\u001b[0m \n"
     ]
    },
    {
     "name": "stdout",
     "output_type": "stream",
     "text": [
      "\u001b[36m(tune_with_parameters pid=2366817)\u001b[0m /tmp/tmp90_iis0c/checkpoint.pt\n"
     ]
    },
    {
     "name": "stderr",
     "output_type": "stream",
     "text": [
      "\u001b[36m(tune_with_parameters pid=2366817)\u001b[0m Checkpoint successfully created at: Checkpoint(filesystem=local, path=/scratch/users/k23058970/Model training/results/Double Peak LSTM Null/tune_with_parameters_2024-08-19_22-08-05/tune_with_parameters_34c49_00001_1_dp=0.5000,hidden_size=300,lr=0.0051,num_layers=3_2024-08-19_22-08-39/checkpoint_000012)\n"
     ]
    },
    {
     "name": "stdout",
     "output_type": "stream",
     "text": [
      "\u001b[36m(tune_with_parameters pid=2366816)\u001b[0m loss: 1.097\u001b[32m [repeated 23x across cluster]\u001b[0m\n"
     ]
    },
    {
     "name": "stderr",
     "output_type": "stream",
     "text": [
      "Val Epoch:45: 47it [00:01, 38.45it/s]\u001b[32m [repeated 21x across cluster]\u001b[0m\n",
      "Val Epoch:45: 0it [00:00, ?it/s]366816)\u001b[0m \n",
      "Val Epoch:46: 0it [00:00, ?it/s]366817)\u001b[0m \n"
     ]
    },
    {
     "name": "stdout",
     "output_type": "stream",
     "text": [
      "\u001b[36m(tune_with_parameters pid=2366816)\u001b[0m loss: 1.097\u001b[32m [repeated 16x across cluster]\u001b[0m\n"
     ]
    },
    {
     "name": "stderr",
     "output_type": "stream",
     "text": [
      "Val Epoch:46: 30it [00:01, 35.33it/s]\u001b[32m [repeated 16x across cluster]\u001b[0m\n"
     ]
    },
    {
     "name": "stdout",
     "output_type": "stream",
     "text": [
      "\u001b[36m(tune_with_parameters pid=2366817)\u001b[0m /tmp/tmp_kczksxj/checkpoint.pt\n"
     ]
    },
    {
     "name": "stderr",
     "output_type": "stream",
     "text": [
      "\u001b[36m(tune_with_parameters pid=2366817)\u001b[0m Checkpoint successfully created at: Checkpoint(filesystem=local, path=/scratch/users/k23058970/Model training/results/Double Peak LSTM Null/tune_with_parameters_2024-08-19_22-08-05/tune_with_parameters_34c49_00001_1_dp=0.5000,hidden_size=300,lr=0.0051,num_layers=3_2024-08-19_22-08-39/checkpoint_000013)\n",
      "Val Epoch:46: 0it [00:00, ?it/s]366816)\u001b[0m \n"
     ]
    },
    {
     "name": "stdout",
     "output_type": "stream",
     "text": [
      "\u001b[36m(tune_with_parameters pid=2366817)\u001b[0m loss: 1.085\u001b[32m [repeated 22x across cluster]\u001b[0m\n"
     ]
    },
    {
     "name": "stderr",
     "output_type": "stream",
     "text": [
      "Val Epoch:47: 0it [00:00, ?it/s]366817)\u001b[0m \n",
      "Val Epoch:46: 47it [00:01, 33.01it/s]\u001b[32m [repeated 14x across cluster]\u001b[0m\n",
      "Val Epoch:47: 47it [00:02, 21.89it/s]7)\u001b[0m \n"
     ]
    },
    {
     "name": "stdout",
     "output_type": "stream",
     "text": [
      "\u001b[36m(tune_with_parameters pid=2366817)\u001b[0m loss: 1.084\u001b[32m [repeated 19x across cluster]\u001b[0m\n"
     ]
    },
    {
     "name": "stderr",
     "output_type": "stream",
     "text": [
      "Val Epoch:47: 0it [00:00, ?it/s]366816)\u001b[0m \n",
      "Val Epoch:47: 40it [00:01, 35.62it/s]\u001b[32m [repeated 8x across cluster]\u001b[0m\n",
      "Val Epoch:48: 0it [00:00, ?it/s]366817)\u001b[0m \n"
     ]
    },
    {
     "name": "stdout",
     "output_type": "stream",
     "text": [
      "\u001b[36m(tune_with_parameters pid=2366816)\u001b[0m loss: 1.097\u001b[32m [repeated 20x across cluster]\u001b[0m\n",
      "\u001b[36m(tune_with_parameters pid=2366817)\u001b[0m /tmp/tmp5qkt9drg/checkpoint.pt\n"
     ]
    },
    {
     "name": "stderr",
     "output_type": "stream",
     "text": [
      "\u001b[36m(tune_with_parameters pid=2366817)\u001b[0m Checkpoint successfully created at: Checkpoint(filesystem=local, path=/scratch/users/k23058970/Model training/results/Double Peak LSTM Null/tune_with_parameters_2024-08-19_22-08-05/tune_with_parameters_34c49_00001_1_dp=0.5000,hidden_size=300,lr=0.0051,num_layers=3_2024-08-19_22-08-39/checkpoint_000014)\n",
      "Val Epoch:48: 47it [00:01, 26.25it/s]\u001b[32m [repeated 20x across cluster]\u001b[0m\n",
      "Val Epoch:48: 0it [00:00, ?it/s]366816)\u001b[0m \n"
     ]
    },
    {
     "name": "stdout",
     "output_type": "stream",
     "text": [
      "\u001b[36m(tune_with_parameters pid=2366817)\u001b[0m loss: 1.083\u001b[32m [repeated 21x across cluster]\u001b[0m\n"
     ]
    },
    {
     "name": "stderr",
     "output_type": "stream",
     "text": [
      "Val Epoch:49: 0it [00:00, ?it/s]366817)\u001b[0m \n",
      "Val Epoch:49: 33it [00:01, 37.87it/s]\u001b[32m [repeated 17x across cluster]\u001b[0m\n"
     ]
    },
    {
     "name": "stdout",
     "output_type": "stream",
     "text": [
      "\u001b[36m(tune_with_parameters pid=2366817)\u001b[0m loss: 1.081\u001b[32m [repeated 25x across cluster]\u001b[0m\n"
     ]
    },
    {
     "name": "stderr",
     "output_type": "stream",
     "text": [
      "Val Epoch:49: 0it [00:00, ?it/s]366816)\u001b[0m \n",
      "Val Epoch:50: 0it [00:00, ?it/s]366817)\u001b[0m \n",
      "Val Epoch:49: 47it [00:01, 36.01it/s]\u001b[32m [repeated 12x across cluster]\u001b[0m\n"
     ]
    },
    {
     "name": "stdout",
     "output_type": "stream",
     "text": [
      "\u001b[36m(tune_with_parameters pid=2366816)\u001b[0m loss: 1.097\u001b[32m [repeated 19x across cluster]\u001b[0m\n"
     ]
    },
    {
     "name": "stderr",
     "output_type": "stream",
     "text": [
      "Val Epoch:50: 0it [00:00, ?it/s]366816)\u001b[0m \n",
      "Val Epoch:50: 38it [00:01, 36.40it/s]\u001b[32m [repeated 18x across cluster]\u001b[0m\n"
     ]
    },
    {
     "name": "stdout",
     "output_type": "stream",
     "text": [
      "\u001b[36m(tune_with_parameters pid=2366817)\u001b[0m loss: 1.077\u001b[32m [repeated 20x across cluster]\u001b[0m\n"
     ]
    },
    {
     "name": "stderr",
     "output_type": "stream",
     "text": [
      "Val Epoch:51: 0it [00:00, ?it/s]366817)\u001b[0m \n",
      "Val Epoch:51: 47it [00:01, 30.50it/s]\u001b[32m [repeated 12x across cluster]\u001b[0m\n"
     ]
    },
    {
     "name": "stdout",
     "output_type": "stream",
     "text": [
      "\u001b[36m(tune_with_parameters pid=2366817)\u001b[0m loss: 1.075\u001b[32m [repeated 20x across cluster]\u001b[0m\n"
     ]
    },
    {
     "name": "stderr",
     "output_type": "stream",
     "text": [
      "Val Epoch:51: 0it [00:00, ?it/s]366816)\u001b[0m \n",
      "Val Epoch:52: 0it [00:00, ?it/s]366817)\u001b[0m \n",
      "Val Epoch:52: 40it [00:01, 39.76it/s]\u001b[32m [repeated 18x across cluster]\u001b[0m\n"
     ]
    },
    {
     "name": "stdout",
     "output_type": "stream",
     "text": [
      "\u001b[36m(tune_with_parameters pid=2366816)\u001b[0m loss: 1.097\u001b[32m [repeated 21x across cluster]\u001b[0m\n"
     ]
    },
    {
     "name": "stderr",
     "output_type": "stream",
     "text": [
      "Val Epoch:52: 0it [00:00, ?it/s]366816)\u001b[0m \n",
      "Val Epoch:53: 0it [00:00, ?it/s]366817)\u001b[0m \n",
      "Val Epoch:52: 47it [00:02, 20.52it/s]\u001b[32m [repeated 12x across cluster]\u001b[0m\n"
     ]
    },
    {
     "name": "stdout",
     "output_type": "stream",
     "text": [
      "\u001b[36m(tune_with_parameters pid=2366816)\u001b[0m loss: 1.097\u001b[32m [repeated 24x across cluster]\u001b[0m\n",
      "\u001b[36m(tune_with_parameters pid=2366817)\u001b[0m loss: 1.064\u001b[32m [repeated 21x across cluster]\u001b[0m\n"
     ]
    },
    {
     "name": "stderr",
     "output_type": "stream",
     "text": [
      "Val Epoch:54: 0it [00:00, ?it/s]\u001b[32m [repeated 2x across cluster]\u001b[0m\n",
      "Val Epoch:53: 47it [00:01, 28.26it/s]\u001b[32m [repeated 20x across cluster]\u001b[0m\n"
     ]
    },
    {
     "name": "stdout",
     "output_type": "stream",
     "text": [
      "\u001b[36m(tune_with_parameters pid=2366817)\u001b[0m /tmp/tmp5g02dvk5/checkpoint.pt\n"
     ]
    },
    {
     "name": "stderr",
     "output_type": "stream",
     "text": [
      "\u001b[36m(tune_with_parameters pid=2366817)\u001b[0m Checkpoint successfully created at: Checkpoint(filesystem=local, path=/scratch/users/k23058970/Model training/results/Double Peak LSTM Null/tune_with_parameters_2024-08-19_22-08-05/tune_with_parameters_34c49_00001_1_dp=0.5000,hidden_size=300,lr=0.0051,num_layers=3_2024-08-19_22-08-39/checkpoint_000015)\n"
     ]
    },
    {
     "name": "stdout",
     "output_type": "stream",
     "text": [
      "\u001b[36m(tune_with_parameters pid=2366817)\u001b[0m loss: 1.060\u001b[32m [repeated 24x across cluster]\u001b[0m\n"
     ]
    },
    {
     "name": "stderr",
     "output_type": "stream",
     "text": [
      "Val Epoch:54: 0it [00:00, ?it/s]366816)\u001b[0m \n",
      "Val Epoch:54: 30it [00:01, 41.43it/s]\u001b[32m [repeated 17x across cluster]\u001b[0m\n",
      "Val Epoch:55: 0it [00:00, ?it/s]366817)\u001b[0m \n"
     ]
    },
    {
     "name": "stdout",
     "output_type": "stream",
     "text": [
      "\u001b[36m(tune_with_parameters pid=2366817)\u001b[0m loss: 1.053\u001b[32m [repeated 22x across cluster]\u001b[0m\n"
     ]
    },
    {
     "name": "stderr",
     "output_type": "stream",
     "text": [
      "Val Epoch:55: 47it [00:01, 26.29it/s]\u001b[32m [repeated 14x across cluster]\u001b[0m\n",
      "Val Epoch:55: 0it [00:00, ?it/s]366816)\u001b[0m \n"
     ]
    },
    {
     "name": "stdout",
     "output_type": "stream",
     "text": [
      "\u001b[36m(tune_with_parameters pid=2366816)\u001b[0m /tmp/tmpmouaa3gy/checkpoint.pt\n"
     ]
    },
    {
     "name": "stderr",
     "output_type": "stream",
     "text": [
      "\u001b[36m(tune_with_parameters pid=2366816)\u001b[0m Checkpoint successfully created at: Checkpoint(filesystem=local, path=/scratch/users/k23058970/Model training/results/Double Peak LSTM Null/tune_with_parameters_2024-08-19_22-08-05/tune_with_parameters_34c49_00000_0_dp=0.2000,hidden_size=500,lr=0.0010,num_layers=3_2024-08-19_22-08-39/checkpoint_000014)\n",
      "Val Epoch:56: 0it [00:00, ?it/s]366817)\u001b[0m \n"
     ]
    },
    {
     "name": "stdout",
     "output_type": "stream",
     "text": [
      "\u001b[36m(tune_with_parameters pid=2366816)\u001b[0m loss: 1.096\u001b[32m [repeated 23x across cluster]\u001b[0m\n",
      "\u001b[36m(tune_with_parameters pid=2366817)\u001b[0m /tmp/tmp8u0jumk0/checkpoint.pt\n"
     ]
    },
    {
     "name": "stderr",
     "output_type": "stream",
     "text": [
      "Val Epoch:56: 47it [00:01, 36.09it/s]\u001b[32m [repeated 20x across cluster]\u001b[0m\n",
      "\u001b[36m(tune_with_parameters pid=2366817)\u001b[0m Checkpoint successfully created at: Checkpoint(filesystem=local, path=/scratch/users/k23058970/Model training/results/Double Peak LSTM Null/tune_with_parameters_2024-08-19_22-08-05/tune_with_parameters_34c49_00001_1_dp=0.5000,hidden_size=300,lr=0.0051,num_layers=3_2024-08-19_22-08-39/checkpoint_000016)\n",
      "Val Epoch:56: 0it [00:00, ?it/s]366816)\u001b[0m \n"
     ]
    },
    {
     "name": "stdout",
     "output_type": "stream",
     "text": [
      "\u001b[36m(tune_with_parameters pid=2366817)\u001b[0m loss: 1.037\u001b[32m [repeated 21x across cluster]\u001b[0m\n"
     ]
    },
    {
     "name": "stderr",
     "output_type": "stream",
     "text": [
      "Val Epoch:57: 0it [00:00, ?it/s]366817)\u001b[0m \n",
      "Val Epoch:56: 47it [00:01, 24.94it/s]\u001b[32m [repeated 11x across cluster]\u001b[0m\n",
      "Val Epoch:57: 47it [00:01, 33.68it/s]7)\u001b[0m \n"
     ]
    },
    {
     "name": "stdout",
     "output_type": "stream",
     "text": [
      "\u001b[36m(tune_with_parameters pid=2366817)\u001b[0m loss: 1.025\u001b[32m [repeated 24x across cluster]\u001b[0m\n"
     ]
    },
    {
     "name": "stderr",
     "output_type": "stream",
     "text": [
      "Val Epoch:58: 0it [00:00, ?it/s]\u001b[32m [repeated 2x across cluster]\u001b[0m\n",
      "Val Epoch:57: 47it [00:01, 37.16it/s]\u001b[32m [repeated 17x across cluster]\u001b[0m\n"
     ]
    },
    {
     "name": "stdout",
     "output_type": "stream",
     "text": [
      "\u001b[36m(tune_with_parameters pid=2366816)\u001b[0m loss: 1.097\u001b[32m [repeated 21x across cluster]\u001b[0m\n"
     ]
    },
    {
     "name": "stderr",
     "output_type": "stream",
     "text": [
      "Val Epoch:58: 0it [00:00, ?it/s]366816)\u001b[0m \n",
      "Val Epoch:58: 34it [00:01, 39.66it/s]\u001b[32m [repeated 17x across cluster]\u001b[0m\n",
      "Val Epoch:58: 47it [00:01, 28.42it/s]6)\u001b[0m \n",
      "Val Epoch:59: 0it [00:00, ?it/s]366817)\u001b[0m \n"
     ]
    },
    {
     "name": "stdout",
     "output_type": "stream",
     "text": [
      "\u001b[36m(tune_with_parameters pid=2366816)\u001b[0m loss: 1.097\u001b[32m [repeated 26x across cluster]\u001b[0m\n"
     ]
    },
    {
     "name": "stderr",
     "output_type": "stream",
     "text": [
      "Val Epoch:59: 47it [00:01, 31.72it/s]\u001b[32m [repeated 11x across cluster]\u001b[0m\n",
      "Val Epoch:59: 0it [00:00, ?it/s]366816)\u001b[0m \n"
     ]
    },
    {
     "name": "stdout",
     "output_type": "stream",
     "text": [
      "\u001b[36m(tune_with_parameters pid=2366817)\u001b[0m loss: 0.958\u001b[32m [repeated 18x across cluster]\u001b[0m\n"
     ]
    },
    {
     "name": "stderr",
     "output_type": "stream",
     "text": [
      "Val Epoch:60: 0it [00:00, ?it/s]366817)\u001b[0m \n",
      "Val Epoch:60: 28it [00:00, 45.85it/s]\u001b[32m [repeated 16x across cluster]\u001b[0m\n"
     ]
    },
    {
     "name": "stdout",
     "output_type": "stream",
     "text": [
      "\u001b[36m(tune_with_parameters pid=2366817)\u001b[0m /tmp/tmp49em5rqf/checkpoint.pt\n"
     ]
    },
    {
     "name": "stderr",
     "output_type": "stream",
     "text": [
      "\u001b[36m(tune_with_parameters pid=2366817)\u001b[0m Checkpoint successfully created at: Checkpoint(filesystem=local, path=/scratch/users/k23058970/Model training/results/Double Peak LSTM Null/tune_with_parameters_2024-08-19_22-08-05/tune_with_parameters_34c49_00001_1_dp=0.5000,hidden_size=300,lr=0.0051,num_layers=3_2024-08-19_22-08-39/checkpoint_000017)\n"
     ]
    },
    {
     "name": "stdout",
     "output_type": "stream",
     "text": [
      "\u001b[36m(tune_with_parameters pid=2366817)\u001b[0m loss: 0.933\u001b[32m [repeated 22x across cluster]\u001b[0m\n"
     ]
    },
    {
     "name": "stderr",
     "output_type": "stream",
     "text": [
      "Val Epoch:61: 0it [00:00, ?it/s]\u001b[32m [repeated 2x across cluster]\u001b[0m\n",
      "Val Epoch:60: 47it [00:01, 32.05it/s]\u001b[32m [repeated 14x across cluster]\u001b[0m\n"
     ]
    },
    {
     "name": "stdout",
     "output_type": "stream",
     "text": [
      "\u001b[36m(tune_with_parameters pid=2366816)\u001b[0m loss: 1.097\u001b[32m [repeated 25x across cluster]\u001b[0m\n",
      "\u001b[36m(tune_with_parameters pid=2366817)\u001b[0m /tmp/tmp0kkdh7s7/checkpoint.pt\n"
     ]
    },
    {
     "name": "stderr",
     "output_type": "stream",
     "text": [
      "\u001b[36m(tune_with_parameters pid=2366817)\u001b[0m Checkpoint successfully created at: Checkpoint(filesystem=local, path=/scratch/users/k23058970/Model training/results/Double Peak LSTM Null/tune_with_parameters_2024-08-19_22-08-05/tune_with_parameters_34c49_00001_1_dp=0.5000,hidden_size=300,lr=0.0051,num_layers=3_2024-08-19_22-08-39/checkpoint_000018)\n"
     ]
    },
    {
     "name": "stdout",
     "output_type": "stream",
     "text": [
      "\u001b[36m(tune_with_parameters pid=2366817)\u001b[0m loss: 0.859\u001b[32m [repeated 20x across cluster]\u001b[0m\n"
     ]
    },
    {
     "name": "stderr",
     "output_type": "stream",
     "text": [
      "Val Epoch:62: 0it [00:00, ?it/s]\u001b[32m [repeated 2x across cluster]\u001b[0m\n",
      "Val Epoch:61: 47it [00:01, 32.25it/s]\u001b[32m [repeated 21x across cluster]\u001b[0m\n"
     ]
    },
    {
     "name": "stdout",
     "output_type": "stream",
     "text": [
      "\u001b[36m(tune_with_parameters pid=2366817)\u001b[0m /tmp/tmpcv2l8o36/checkpoint.pt\n"
     ]
    },
    {
     "name": "stderr",
     "output_type": "stream",
     "text": [
      "\u001b[36m(tune_with_parameters pid=2366817)\u001b[0m Checkpoint successfully created at: Checkpoint(filesystem=local, path=/scratch/users/k23058970/Model training/results/Double Peak LSTM Null/tune_with_parameters_2024-08-19_22-08-05/tune_with_parameters_34c49_00001_1_dp=0.5000,hidden_size=300,lr=0.0051,num_layers=3_2024-08-19_22-08-39/checkpoint_000019)\n"
     ]
    },
    {
     "name": "stdout",
     "output_type": "stream",
     "text": [
      "\u001b[36m(tune_with_parameters pid=2366817)\u001b[0m loss: 0.820\u001b[32m [repeated 19x across cluster]\u001b[0m\n"
     ]
    },
    {
     "name": "stderr",
     "output_type": "stream",
     "text": [
      "Val Epoch:63: 0it [00:00, ?it/s]\u001b[32m [repeated 2x across cluster]\u001b[0m\n",
      "Val Epoch:62: 47it [00:01, 40.71it/s]\u001b[32m [repeated 19x across cluster]\u001b[0m\n"
     ]
    },
    {
     "name": "stdout",
     "output_type": "stream",
     "text": [
      "\u001b[36m(tune_with_parameters pid=2366817)\u001b[0m /tmp/tmpvkomjugp/checkpoint.pt\n"
     ]
    },
    {
     "name": "stderr",
     "output_type": "stream",
     "text": [
      "\u001b[36m(tune_with_parameters pid=2366817)\u001b[0m Checkpoint successfully created at: Checkpoint(filesystem=local, path=/scratch/users/k23058970/Model training/results/Double Peak LSTM Null/tune_with_parameters_2024-08-19_22-08-05/tune_with_parameters_34c49_00001_1_dp=0.5000,hidden_size=300,lr=0.0051,num_layers=3_2024-08-19_22-08-39/checkpoint_000020)\n"
     ]
    },
    {
     "name": "stdout",
     "output_type": "stream",
     "text": [
      "\u001b[36m(tune_with_parameters pid=2366817)\u001b[0m loss: 0.812\u001b[32m [repeated 24x across cluster]\u001b[0m\n"
     ]
    },
    {
     "name": "stderr",
     "output_type": "stream",
     "text": [
      "Val Epoch:64: 0it [00:00, ?it/s]\u001b[32m [repeated 2x across cluster]\u001b[0m\n",
      "Val Epoch:63: 47it [00:01, 37.11it/s]\u001b[32m [repeated 19x across cluster]\u001b[0m\n"
     ]
    },
    {
     "name": "stdout",
     "output_type": "stream",
     "text": [
      "\u001b[36m(tune_with_parameters pid=2366816)\u001b[0m loss: 1.097\u001b[32m [repeated 26x across cluster]\u001b[0m\n",
      "\u001b[36m(tune_with_parameters pid=2366817)\u001b[0m /tmp/tmpgr_lea4w/checkpoint.pt\n"
     ]
    },
    {
     "name": "stderr",
     "output_type": "stream",
     "text": [
      "\u001b[36m(tune_with_parameters pid=2366817)\u001b[0m Checkpoint successfully created at: Checkpoint(filesystem=local, path=/scratch/users/k23058970/Model training/results/Double Peak LSTM Null/tune_with_parameters_2024-08-19_22-08-05/tune_with_parameters_34c49_00001_1_dp=0.5000,hidden_size=300,lr=0.0051,num_layers=3_2024-08-19_22-08-39/checkpoint_000021)\n"
     ]
    },
    {
     "name": "stdout",
     "output_type": "stream",
     "text": [
      "\u001b[36m(tune_with_parameters pid=2366816)\u001b[0m /tmp/tmpjaaox5je/checkpoint.pt\n",
      "\u001b[36m(tune_with_parameters pid=2366817)\u001b[0m loss: 0.743\u001b[32m [repeated 11x across cluster]\u001b[0m\n"
     ]
    },
    {
     "name": "stderr",
     "output_type": "stream",
     "text": [
      "Val Epoch:65: 0it [00:00, ?it/s]\u001b[32m [repeated 2x across cluster]\u001b[0m\n",
      "Val Epoch:64: 47it [00:02, 18.78it/s]\u001b[32m [repeated 22x across cluster]\u001b[0m\n",
      "\u001b[36m(tune_with_parameters pid=2366816)\u001b[0m Checkpoint successfully created at: Checkpoint(filesystem=local, path=/scratch/users/k23058970/Model training/results/Double Peak LSTM Null/tune_with_parameters_2024-08-19_22-08-05/tune_with_parameters_34c49_00000_0_dp=0.2000,hidden_size=500,lr=0.0010,num_layers=3_2024-08-19_22-08-39/checkpoint_000015)\n"
     ]
    },
    {
     "name": "stdout",
     "output_type": "stream",
     "text": [
      "\u001b[36m(tune_with_parameters pid=2366817)\u001b[0m /tmp/tmpckdeysh1/checkpoint.pt\n"
     ]
    },
    {
     "name": "stderr",
     "output_type": "stream",
     "text": [
      "\u001b[36m(tune_with_parameters pid=2366817)\u001b[0m Checkpoint successfully created at: Checkpoint(filesystem=local, path=/scratch/users/k23058970/Model training/results/Double Peak LSTM Null/tune_with_parameters_2024-08-19_22-08-05/tune_with_parameters_34c49_00001_1_dp=0.5000,hidden_size=300,lr=0.0051,num_layers=3_2024-08-19_22-08-39/checkpoint_000022)\n"
     ]
    },
    {
     "name": "stdout",
     "output_type": "stream",
     "text": [
      "\u001b[36m(tune_with_parameters pid=2366817)\u001b[0m loss: 0.748\u001b[32m [repeated 23x across cluster]\u001b[0m\n"
     ]
    },
    {
     "name": "stderr",
     "output_type": "stream",
     "text": [
      "Val Epoch:66: 0it [00:00, ?it/s]\u001b[32m [repeated 2x across cluster]\u001b[0m\n",
      "Val Epoch:65: 47it [00:01, 30.23it/s]\u001b[32m [repeated 20x across cluster]\u001b[0m\n"
     ]
    },
    {
     "name": "stdout",
     "output_type": "stream",
     "text": [
      "\u001b[36m(tune_with_parameters pid=2366816)\u001b[0m loss: 1.097\u001b[32m [repeated 26x across cluster]\u001b[0m\n"
     ]
    },
    {
     "name": "stderr",
     "output_type": "stream",
     "text": [
      "Val Epoch:66: 47it [00:02, 21.94it/s]6)\u001b[0m \n"
     ]
    },
    {
     "name": "stdout",
     "output_type": "stream",
     "text": [
      "\u001b[36m(tune_with_parameters pid=2366817)\u001b[0m loss: 0.684\u001b[32m [repeated 20x across cluster]\u001b[0m\n"
     ]
    },
    {
     "name": "stderr",
     "output_type": "stream",
     "text": [
      "Val Epoch:67: 0it [00:00, ?it/s]\u001b[32m [repeated 2x across cluster]\u001b[0m\n",
      "Val Epoch:66: 41it [00:01, 37.61it/s]\u001b[32m [repeated 20x across cluster]\u001b[0m\n"
     ]
    },
    {
     "name": "stdout",
     "output_type": "stream",
     "text": [
      "\u001b[36m(tune_with_parameters pid=2366817)\u001b[0m /tmp/tmp4uc7clxj/checkpoint.pt\n"
     ]
    },
    {
     "name": "stderr",
     "output_type": "stream",
     "text": [
      "\u001b[36m(tune_with_parameters pid=2366817)\u001b[0m Checkpoint successfully created at: Checkpoint(filesystem=local, path=/scratch/users/k23058970/Model training/results/Double Peak LSTM Null/tune_with_parameters_2024-08-19_22-08-05/tune_with_parameters_34c49_00001_1_dp=0.5000,hidden_size=300,lr=0.0051,num_layers=3_2024-08-19_22-08-39/checkpoint_000023)\n"
     ]
    },
    {
     "name": "stdout",
     "output_type": "stream",
     "text": [
      "\u001b[36m(tune_with_parameters pid=2366817)\u001b[0m loss: 0.657\u001b[32m [repeated 15x across cluster]\u001b[0m\n"
     ]
    },
    {
     "name": "stderr",
     "output_type": "stream",
     "text": [
      "Val Epoch:68: 0it [00:00, ?it/s]\u001b[32m [repeated 2x across cluster]\u001b[0m\n",
      "Val Epoch:67: 47it [00:02, 19.96it/s]\u001b[32m [repeated 20x across cluster]\u001b[0m\n"
     ]
    },
    {
     "name": "stdout",
     "output_type": "stream",
     "text": [
      "\u001b[36m(tune_with_parameters pid=2366817)\u001b[0m /tmp/tmpgnxwaae3/checkpoint.pt\n",
      "\u001b[36m(tune_with_parameters pid=2366816)\u001b[0m loss: 1.097\u001b[32m [repeated 28x across cluster]\u001b[0m\n"
     ]
    },
    {
     "name": "stderr",
     "output_type": "stream",
     "text": [
      "\u001b[36m(tune_with_parameters pid=2366817)\u001b[0m Checkpoint successfully created at: Checkpoint(filesystem=local, path=/scratch/users/k23058970/Model training/results/Double Peak LSTM Null/tune_with_parameters_2024-08-19_22-08-05/tune_with_parameters_34c49_00001_1_dp=0.5000,hidden_size=300,lr=0.0051,num_layers=3_2024-08-19_22-08-39/checkpoint_000024)\n",
      "Val Epoch:69: 0it [00:00, ?it/s]\u001b[32m [repeated 2x across cluster]\u001b[0m\n",
      "Val Epoch:68: 47it [00:01, 29.68it/s]\u001b[32m [repeated 19x across cluster]\u001b[0m\n"
     ]
    },
    {
     "name": "stdout",
     "output_type": "stream",
     "text": [
      "\u001b[36m(tune_with_parameters pid=2366816)\u001b[0m loss: 1.096\u001b[32m [repeated 30x across cluster]\u001b[0m\n",
      "\u001b[36m(tune_with_parameters pid=2366816)\u001b[0m loss: 1.097\u001b[32m [repeated 17x across cluster]\u001b[0m\n"
     ]
    },
    {
     "name": "stderr",
     "output_type": "stream",
     "text": [
      "Val Epoch:70: 0it [00:00, ?it/s]\u001b[32m [repeated 2x across cluster]\u001b[0m\n",
      "Val Epoch:69: 47it [00:01, 24.41it/s]\u001b[32m [repeated 20x across cluster]\u001b[0m\n"
     ]
    },
    {
     "name": "stdout",
     "output_type": "stream",
     "text": [
      "\u001b[36m(tune_with_parameters pid=2366817)\u001b[0m /tmp/tmpqtew4i9d/checkpoint.pt\n"
     ]
    },
    {
     "name": "stderr",
     "output_type": "stream",
     "text": [
      "\u001b[36m(tune_with_parameters pid=2366817)\u001b[0m Checkpoint successfully created at: Checkpoint(filesystem=local, path=/scratch/users/k23058970/Model training/results/Double Peak LSTM Null/tune_with_parameters_2024-08-19_22-08-05/tune_with_parameters_34c49_00001_1_dp=0.5000,hidden_size=300,lr=0.0051,num_layers=3_2024-08-19_22-08-39/checkpoint_000025)\n"
     ]
    },
    {
     "name": "stdout",
     "output_type": "stream",
     "text": [
      "\u001b[36m(tune_with_parameters pid=2366817)\u001b[0m loss: 0.613\u001b[32m [repeated 15x across cluster]\u001b[0m\n"
     ]
    },
    {
     "name": "stderr",
     "output_type": "stream",
     "text": [
      "Val Epoch:71: 0it [00:00, ?it/s]\u001b[32m [repeated 2x across cluster]\u001b[0m\n",
      "Val Epoch:70: 47it [00:02, 21.64it/s]\u001b[32m [repeated 18x across cluster]\u001b[0m\n"
     ]
    },
    {
     "name": "stdout",
     "output_type": "stream",
     "text": [
      "\u001b[36m(tune_with_parameters pid=2366817)\u001b[0m loss: 0.639\u001b[32m [repeated 29x across cluster]\u001b[0m\n",
      "\u001b[36m(tune_with_parameters pid=2366816)\u001b[0m \n"
     ]
    },
    {
     "name": "stderr",
     "output_type": "stream",
     "text": [
      "Val Epoch:72: 0it [00:00, ?it/s]\u001b[32m [repeated 2x across cluster]\u001b[0m\n",
      "Val Epoch:71: 47it [00:01, 25.63it/s]\u001b[32m [repeated 20x across cluster]\u001b[0m\n"
     ]
    },
    {
     "name": "stdout",
     "output_type": "stream",
     "text": [
      "\u001b[36m(tune_with_parameters pid=2366817)\u001b[0m loss: 0.585\u001b[32m [repeated 30x across cluster]\u001b[0m\n"
     ]
    },
    {
     "name": "stderr",
     "output_type": "stream",
     "text": [
      "Val Epoch:73: 0it [00:00, ?it/s]\u001b[32m [repeated 2x across cluster]\u001b[0m\n",
      "Val Epoch:72: 47it [00:01, 27.58it/s]\u001b[32m [repeated 19x across cluster]\u001b[0m\n"
     ]
    },
    {
     "name": "stdout",
     "output_type": "stream",
     "text": [
      "\u001b[36m(tune_with_parameters pid=2366816)\u001b[0m loss: 1.093\u001b[32m [repeated 30x across cluster]\u001b[0m\n"
     ]
    },
    {
     "name": "stderr",
     "output_type": "stream",
     "text": [
      "Val Epoch:74: 0it [00:00, ?it/s]\u001b[32m [repeated 2x across cluster]\u001b[0m\n",
      "Val Epoch:73: 47it [00:01, 36.05it/s]\u001b[32m [repeated 20x across cluster]\u001b[0m\n"
     ]
    },
    {
     "name": "stdout",
     "output_type": "stream",
     "text": [
      "\u001b[36m(tune_with_parameters pid=2366816)\u001b[0m loss: 1.091\u001b[32m [repeated 15x across cluster]\u001b[0m\n"
     ]
    },
    {
     "name": "stderr",
     "output_type": "stream",
     "text": [
      "Val Epoch:75: 0it [00:00, ?it/s]366816)\u001b[0m \n",
      "Val Epoch:74: 47it [00:01, 44.68it/s]\u001b[32m [repeated 8x across cluster]\u001b[0m\n"
     ]
    },
    {
     "name": "stdout",
     "output_type": "stream",
     "text": [
      "\u001b[36m(tune_with_parameters pid=2366816)\u001b[0m loss: 1.097\u001b[32m [repeated 15x across cluster]\u001b[0m\n"
     ]
    },
    {
     "name": "stderr",
     "output_type": "stream",
     "text": [
      "\u001b[36m(tune_with_parameters pid=2456841)\u001b[0m /users/k23058970/miniforge3/envs/Training/lib/python3.10/site-packages/torch/nn/modules/lazy.py:181: UserWarning: Lazy modules are a new feature under heavy development so changes to the API or functionality can happen at any moment.\n",
      "\u001b[36m(tune_with_parameters pid=2456841)\u001b[0m   warnings.warn('Lazy modules are a new feature under heavy development '\n",
      "Val Epoch:76: 0it [00:00, ?it/s]366816)\u001b[0m \n",
      "Val Epoch:75: 47it [00:01, 32.13it/s]\u001b[32m [repeated 10x across cluster]\u001b[0m\n"
     ]
    },
    {
     "name": "stdout",
     "output_type": "stream",
     "text": [
      "\u001b[36m(tune_with_parameters pid=2366816)\u001b[0m loss: 1.096\u001b[32m [repeated 15x across cluster]\u001b[0m\n"
     ]
    },
    {
     "name": "stderr",
     "output_type": "stream",
     "text": [
      "Val Epoch:77: 0it [00:00, ?it/s]366816)\u001b[0m \n",
      "Val Epoch:76: 47it [00:02, 22.89it/s]\u001b[32m [repeated 8x across cluster]\u001b[0m\n",
      "Val Epoch:0: 0it [00:00, ?it/s]2456841)\u001b[0m \n",
      "\u001b[36m(tune_with_parameters pid=2456841)\u001b[0m /scratch/users/k23058970/Model training/training_insilico_lstm.py:63: RuntimeWarning: invalid value encountered in divide\n",
      "\u001b[36m(tune_with_parameters pid=2456841)\u001b[0m   self.precision = self.tp/(self.tp + self.fp)\n",
      "\u001b[36m(tune_with_parameters pid=2456841)\u001b[0m Checkpoint successfully created at: Checkpoint(filesystem=local, path=/scratch/users/k23058970/Model training/results/Double Peak LSTM Null/tune_with_parameters_2024-08-19_22-08-05/tune_with_parameters_34c49_00002_2_dp=0.2000,hidden_size=200,lr=0.0128,num_layers=3_2024-08-19_22-08-39/checkpoint_000000)\n"
     ]
    },
    {
     "name": "stdout",
     "output_type": "stream",
     "text": [
      "\u001b[36m(tune_with_parameters pid=2366816)\u001b[0m loss: 1.098\u001b[32m [repeated 30x across cluster]\u001b[0m\n",
      "\u001b[36m(tune_with_parameters pid=2456841)\u001b[0m /tmp/tmpztzhqv60/checkpoint.pt\n"
     ]
    },
    {
     "name": "stderr",
     "output_type": "stream",
     "text": [
      "Val Epoch:0: 47it [00:01, 26.80it/s]\u001b[32m [repeated 19x across cluster]\u001b[0m\n",
      "Val Epoch:78: 0it [00:00, ?it/s]366816)\u001b[0m \n",
      "Val Epoch:1: 0it [00:00, ?it/s]2456841)\u001b[0m \n"
     ]
    },
    {
     "name": "stdout",
     "output_type": "stream",
     "text": [
      "\u001b[36m(tune_with_parameters pid=2456841)\u001b[0m /tmp/tmpweq2d4ol/checkpoint.pt\n",
      "\u001b[36m(tune_with_parameters pid=2456841)\u001b[0m loss: 1.100\u001b[32m [repeated 29x across cluster]\u001b[0m\n"
     ]
    },
    {
     "name": "stderr",
     "output_type": "stream",
     "text": [
      "Val Epoch:1: 47it [00:02, 20.71it/s]41)\u001b[0m \n",
      "\u001b[36m(tune_with_parameters pid=2456841)\u001b[0m Checkpoint successfully created at: Checkpoint(filesystem=local, path=/scratch/users/k23058970/Model training/results/Double Peak LSTM Null/tune_with_parameters_2024-08-19_22-08-05/tune_with_parameters_34c49_00002_2_dp=0.2000,hidden_size=200,lr=0.0128,num_layers=3_2024-08-19_22-08-39/checkpoint_000001)\n",
      "Val Epoch:1: 41it [00:01, 35.74it/s]\u001b[32m [repeated 20x across cluster]\u001b[0m\n",
      "Val Epoch:79: 0it [00:00, ?it/s]366816)\u001b[0m \n"
     ]
    },
    {
     "name": "stdout",
     "output_type": "stream",
     "text": [
      "\u001b[36m(tune_with_parameters pid=2456841)\u001b[0m loss: 1.099\u001b[32m [repeated 30x across cluster]\u001b[0m\n"
     ]
    },
    {
     "name": "stderr",
     "output_type": "stream",
     "text": [
      "Val Epoch:2: 0it [00:00, ?it/s]2456841)\u001b[0m \n"
     ]
    },
    {
     "name": "stdout",
     "output_type": "stream",
     "text": [
      "\u001b[36m(tune_with_parameters pid=2456841)\u001b[0m /tmp/tmpklxm9k9h/checkpoint.pt\n"
     ]
    },
    {
     "name": "stderr",
     "output_type": "stream",
     "text": [
      "\u001b[36m(tune_with_parameters pid=2456841)\u001b[0m Checkpoint successfully created at: Checkpoint(filesystem=local, path=/scratch/users/k23058970/Model training/results/Double Peak LSTM Null/tune_with_parameters_2024-08-19_22-08-05/tune_with_parameters_34c49_00002_2_dp=0.2000,hidden_size=200,lr=0.0128,num_layers=3_2024-08-19_22-08-39/checkpoint_000002)\n"
     ]
    },
    {
     "name": "stdout",
     "output_type": "stream",
     "text": [
      "\u001b[36m(tune_with_parameters pid=2366816)\u001b[0m loss: 1.096\u001b[32m [repeated 18x across cluster]\u001b[0m\n"
     ]
    },
    {
     "name": "stderr",
     "output_type": "stream",
     "text": [
      "Val Epoch:2: 47it [00:01, 25.01it/s]\u001b[32m [repeated 20x across cluster]\u001b[0m\n",
      "Val Epoch:80: 0it [00:00, ?it/s]366816)\u001b[0m \n",
      "Val Epoch:3: 0it [00:00, ?it/s]2456841)\u001b[0m \n"
     ]
    },
    {
     "name": "stdout",
     "output_type": "stream",
     "text": [
      "\u001b[36m(tune_with_parameters pid=2456841)\u001b[0m /tmp/tmp06fcwdzr/checkpoint.pt\n"
     ]
    },
    {
     "name": "stderr",
     "output_type": "stream",
     "text": [
      "\u001b[36m(tune_with_parameters pid=2456841)\u001b[0m Checkpoint successfully created at: Checkpoint(filesystem=local, path=/scratch/users/k23058970/Model training/results/Double Peak LSTM Null/tune_with_parameters_2024-08-19_22-08-05/tune_with_parameters_34c49_00002_2_dp=0.2000,hidden_size=200,lr=0.0128,num_layers=3_2024-08-19_22-08-39/checkpoint_000003)\n"
     ]
    },
    {
     "name": "stdout",
     "output_type": "stream",
     "text": [
      "\u001b[36m(tune_with_parameters pid=2456841)\u001b[0m loss: 1.098\u001b[32m [repeated 15x across cluster]\u001b[0m\n"
     ]
    },
    {
     "name": "stderr",
     "output_type": "stream",
     "text": [
      "Val Epoch:3: 47it [00:01, 24.33it/s]\u001b[32m [repeated 19x across cluster]\u001b[0m\n",
      "Val Epoch:81: 0it [00:00, ?it/s]366816)\u001b[0m \n",
      "Val Epoch:4: 0it [00:00, ?it/s]2456841)\u001b[0m \n",
      "Val Epoch:4: 5it [00:00, 15.37it/s]841)\u001b[0m \n"
     ]
    },
    {
     "name": "stdout",
     "output_type": "stream",
     "text": [
      "\u001b[36m(tune_with_parameters pid=2366816)\u001b[0m loss: 1.093\u001b[32m [repeated 28x across cluster]\u001b[0m\n",
      "\u001b[36m(tune_with_parameters pid=2456841)\u001b[0m /tmp/tmp3lxia1bz/checkpoint.pt\n"
     ]
    },
    {
     "name": "stderr",
     "output_type": "stream",
     "text": [
      "\u001b[36m(tune_with_parameters pid=2456841)\u001b[0m Checkpoint successfully created at: Checkpoint(filesystem=local, path=/scratch/users/k23058970/Model training/results/Double Peak LSTM Null/tune_with_parameters_2024-08-19_22-08-05/tune_with_parameters_34c49_00002_2_dp=0.2000,hidden_size=200,lr=0.0128,num_layers=3_2024-08-19_22-08-39/checkpoint_000004)\n",
      "Val Epoch:4: 47it [00:02, 23.08it/s]\u001b[32m [repeated 19x across cluster]\u001b[0m\n",
      "Val Epoch:82: 0it [00:00, ?it/s]366816)\u001b[0m \n",
      "Val Epoch:5: 0it [00:00, ?it/s]2456841)\u001b[0m \n"
     ]
    },
    {
     "name": "stdout",
     "output_type": "stream",
     "text": [
      "\u001b[36m(tune_with_parameters pid=2366816)\u001b[0m loss: 1.093\u001b[32m [repeated 30x across cluster]\u001b[0m\n",
      "\u001b[36m(tune_with_parameters pid=2456841)\u001b[0m /tmp/tmp_iwb_b3p/checkpoint.pt\n"
     ]
    },
    {
     "name": "stderr",
     "output_type": "stream",
     "text": [
      "\u001b[36m(tune_with_parameters pid=2456841)\u001b[0m Checkpoint successfully created at: Checkpoint(filesystem=local, path=/scratch/users/k23058970/Model training/results/Double Peak LSTM Null/tune_with_parameters_2024-08-19_22-08-05/tune_with_parameters_34c49_00002_2_dp=0.2000,hidden_size=200,lr=0.0128,num_layers=3_2024-08-19_22-08-39/checkpoint_000005)\n",
      "Val Epoch:5: 47it [00:01, 24.48it/s]\u001b[32m [repeated 20x across cluster]\u001b[0m\n",
      "Val Epoch:83: 0it [00:00, ?it/s]366816)\u001b[0m \n",
      "Val Epoch:6: 0it [00:00, ?it/s]2456841)\u001b[0m \n"
     ]
    },
    {
     "name": "stdout",
     "output_type": "stream",
     "text": [
      "\u001b[36m(tune_with_parameters pid=2456841)\u001b[0m /tmp/tmpy5xi8uyf/checkpoint.pt\n",
      "\u001b[36m(tune_with_parameters pid=2456841)\u001b[0m loss: 1.099\u001b[32m [repeated 29x across cluster]\u001b[0m\n"
     ]
    },
    {
     "name": "stderr",
     "output_type": "stream",
     "text": [
      "\u001b[36m(tune_with_parameters pid=2456841)\u001b[0m Checkpoint successfully created at: Checkpoint(filesystem=local, path=/scratch/users/k23058970/Model training/results/Double Peak LSTM Null/tune_with_parameters_2024-08-19_22-08-05/tune_with_parameters_34c49_00002_2_dp=0.2000,hidden_size=200,lr=0.0128,num_layers=3_2024-08-19_22-08-39/checkpoint_000006)\n",
      "Val Epoch:7: 0it [00:00, ?it/s]2456841)\u001b[0m \n",
      "Val Epoch:6: 47it [00:01, 40.10it/s]\u001b[32m [repeated 18x across cluster]\u001b[0m\n",
      "\u001b[36m(tune_with_parameters pid=2464995)\u001b[0m /users/k23058970/miniforge3/envs/Training/lib/python3.10/site-packages/torch/nn/modules/lazy.py:181: UserWarning: Lazy modules are a new feature under heavy development so changes to the API or functionality can happen at any moment.\n",
      "\u001b[36m(tune_with_parameters pid=2464995)\u001b[0m   warnings.warn('Lazy modules are a new feature under heavy development '\n",
      "Val Epoch:7: 47it [00:01, 40.37it/s]\u001b[32m [repeated 8x across cluster]\u001b[0m\n"
     ]
    },
    {
     "name": "stdout",
     "output_type": "stream",
     "text": [
      "\u001b[36m(tune_with_parameters pid=2464995)\u001b[0m loss: 1.104\u001b[32m [repeated 16x across cluster]\u001b[0m\n"
     ]
    },
    {
     "name": "stderr",
     "output_type": "stream",
     "text": [
      "\u001b[36m(tune_with_parameters pid=2465477)\u001b[0m /users/k23058970/miniforge3/envs/Training/lib/python3.10/site-packages/torch/nn/modules/lazy.py:181: UserWarning: Lazy modules are a new feature under heavy development so changes to the API or functionality can happen at any moment.\n",
      "\u001b[36m(tune_with_parameters pid=2465477)\u001b[0m   warnings.warn('Lazy modules are a new feature under heavy development '\n",
      "Val Epoch:0: 0it [00:00, ?it/s]2464995)\u001b[0m \n",
      "Val Epoch:0: 1it [00:00,  3.31it/s]995)\u001b[0m \n",
      "Val Epoch:0: 10it [00:00, 29.45it/s]95)\u001b[0m \n",
      "Val Epoch:0: 17it [00:00, 41.42it/s]95)\u001b[0m \n",
      "Val Epoch:0: 23it [00:00, 46.85it/s]95)\u001b[0m \n",
      "Val Epoch:0: 30it [00:00, 53.62it/s]95)\u001b[0m \n",
      "Val Epoch:0: 37it [00:00, 55.16it/s]95)\u001b[0m \n",
      "Val Epoch:0: 44it [00:00, 56.73it/s]95)\u001b[0m \n",
      "Val Epoch:0: 47it [00:01, 45.77it/s]95)\u001b[0m \n",
      "\u001b[36m(tune_with_parameters pid=2464995)\u001b[0m /scratch/users/k23058970/Model training/training_insilico_lstm.py:63: RuntimeWarning: invalid value encountered in divide\n",
      "\u001b[36m(tune_with_parameters pid=2464995)\u001b[0m   self.precision = self.tp/(self.tp + self.fp)\n"
     ]
    },
    {
     "name": "stdout",
     "output_type": "stream",
     "text": [
      "\u001b[36m(tune_with_parameters pid=2464995)\u001b[0m /tmp/tmpgm2mhxhr/checkpoint.pt\n"
     ]
    },
    {
     "name": "stderr",
     "output_type": "stream",
     "text": [
      "\u001b[36m(tune_with_parameters pid=2464995)\u001b[0m Checkpoint successfully created at: Checkpoint(filesystem=local, path=/scratch/users/k23058970/Model training/results/Double Peak LSTM Null/tune_with_parameters_2024-08-19_22-08-05/tune_with_parameters_34c49_00003_3_dp=0.2000,hidden_size=500,lr=0.0011,num_layers=3_2024-08-19_22-08-39/checkpoint_000000)\n"
     ]
    },
    {
     "name": "stdout",
     "output_type": "stream",
     "text": [
      "\u001b[36m(tune_with_parameters pid=2464995)\u001b[0m loss: 1.092\u001b[32m [repeated 15x across cluster]\u001b[0m\n"
     ]
    },
    {
     "name": "stderr",
     "output_type": "stream",
     "text": [
      "Val Epoch:1: 0it [00:00, ?it/s]2464995)\u001b[0m \n",
      "Val Epoch:1: 1it [00:00,  7.62it/s]995)\u001b[0m \n",
      "Val Epoch:1: 2it [00:00,  5.96it/s]995)\u001b[0m \n",
      "Val Epoch:1: 4it [00:00,  7.11it/s]995)\u001b[0m \n",
      "Val Epoch:1: 6it [00:00,  8.57it/s]995)\u001b[0m \n",
      "Val Epoch:0: 0it [00:00, ?it/s]2465477)\u001b[0m \n",
      "Val Epoch:1: 8it [00:00,  8.94it/s]995)\u001b[0m \n",
      "Val Epoch:1: 10it [00:01,  7.96it/s]95)\u001b[0m \n",
      "Val Epoch:1: 16it [00:01, 16.52it/s]95)\u001b[0m \n"
     ]
    },
    {
     "name": "stdout",
     "output_type": "stream",
     "text": [
      "\u001b[36m(tune_with_parameters pid=2464995)\u001b[0m /tmp/tmpdd0nab29/checkpoint.pt\n",
      "\u001b[36m(tune_with_parameters pid=2465477)\u001b[0m loss: 1.095\u001b[32m [repeated 29x across cluster]\u001b[0m\n",
      "\u001b[36m(tune_with_parameters pid=2465477)\u001b[0m /tmp/tmp757r6tl8/checkpoint.pt\n"
     ]
    },
    {
     "name": "stderr",
     "output_type": "stream",
     "text": [
      "\u001b[36m(tune_with_parameters pid=2464995)\u001b[0m Checkpoint successfully created at: Checkpoint(filesystem=local, path=/scratch/users/k23058970/Model training/results/Double Peak LSTM Null/tune_with_parameters_2024-08-19_22-08-05/tune_with_parameters_34c49_00003_3_dp=0.2000,hidden_size=500,lr=0.0011,num_layers=3_2024-08-19_22-08-39/checkpoint_000001)\n",
      "\u001b[36m(tune_with_parameters pid=2465477)\u001b[0m /scratch/users/k23058970/Model training/training_insilico_lstm.py:63: RuntimeWarning: invalid value encountered in divide\n",
      "\u001b[36m(tune_with_parameters pid=2465477)\u001b[0m   self.precision = self.tp/(self.tp + self.fp)\n"
     ]
    },
    {
     "name": "stdout",
     "output_type": "stream",
     "text": [
      "\u001b[36m(tune_with_parameters pid=2465477)\u001b[0m loss: 1.067\u001b[32m [repeated 29x across cluster]\u001b[0m\n"
     ]
    },
    {
     "name": "stderr",
     "output_type": "stream",
     "text": [
      "Val Epoch:0: 47it [00:01, 33.84it/s]\u001b[32m [repeated 15x across cluster]\u001b[0m\n",
      "Val Epoch:2: 0it [00:00, ?it/s]2464995)\u001b[0m \n",
      "\u001b[36m(tune_with_parameters pid=2465477)\u001b[0m Checkpoint successfully created at: Checkpoint(filesystem=local, path=/scratch/users/k23058970/Model training/results/Double Peak LSTM Null/tune_with_parameters_2024-08-19_22-08-05/tune_with_parameters_34c49_00004_4_dp=0.1000,hidden_size=500,lr=0.0013,num_layers=1_2024-08-19_22-08-39/checkpoint_000000)\n",
      "Val Epoch:1: 0it [00:00, ?it/s]2465477)\u001b[0m \n"
     ]
    },
    {
     "name": "stdout",
     "output_type": "stream",
     "text": [
      "\u001b[36m(tune_with_parameters pid=2464995)\u001b[0m /tmp/tmpc0gl31b2/checkpoint.pt\n",
      "\u001b[36m(tune_with_parameters pid=2465477)\u001b[0m /tmp/tmp60_63gro/checkpoint.pt\n"
     ]
    },
    {
     "name": "stderr",
     "output_type": "stream",
     "text": [
      "\u001b[36m(tune_with_parameters pid=2464995)\u001b[0m Checkpoint successfully created at: Checkpoint(filesystem=local, path=/scratch/users/k23058970/Model training/results/Double Peak LSTM Null/tune_with_parameters_2024-08-19_22-08-05/tune_with_parameters_34c49_00003_3_dp=0.2000,hidden_size=500,lr=0.0011,num_layers=3_2024-08-19_22-08-39/checkpoint_000002)\n",
      "Val Epoch:1: 47it [00:01, 29.95it/s]77)\u001b[0m \n"
     ]
    },
    {
     "name": "stdout",
     "output_type": "stream",
     "text": [
      "\u001b[36m(tune_with_parameters pid=2464995)\u001b[0m loss: 1.097\u001b[32m [repeated 4x across cluster]\u001b[0m\n"
     ]
    },
    {
     "name": "stderr",
     "output_type": "stream",
     "text": [
      "Val Epoch:2: 0it [00:00, ?it/s]2465477)\u001b[0m \n",
      "Val Epoch:1: 37it [00:01, 41.40it/s]\u001b[32m [repeated 21x across cluster]\u001b[0m\n",
      "\u001b[36m(tune_with_parameters pid=2465477)\u001b[0m Checkpoint successfully created at: Checkpoint(filesystem=local, path=/scratch/users/k23058970/Model training/results/Double Peak LSTM Null/tune_with_parameters_2024-08-19_22-08-05/tune_with_parameters_34c49_00004_4_dp=0.1000,hidden_size=500,lr=0.0013,num_layers=1_2024-08-19_22-08-39/checkpoint_000001)\n",
      "Val Epoch:3: 0it [00:00, ?it/s]2464995)\u001b[0m \n",
      "Val Epoch:2: 47it [00:01, 29.60it/s]77)\u001b[0m \n",
      "\u001b[36m(tune_with_parameters pid=2464995)\u001b[0m Checkpoint successfully created at: Checkpoint(filesystem=local, path=/scratch/users/k23058970/Model training/results/Double Peak LSTM Null/tune_with_parameters_2024-08-19_22-08-05/tune_with_parameters_34c49_00003_3_dp=0.2000,hidden_size=500,lr=0.0011,num_layers=3_2024-08-19_22-08-39/checkpoint_000003)\n"
     ]
    },
    {
     "name": "stdout",
     "output_type": "stream",
     "text": [
      "\u001b[36m(tune_with_parameters pid=2464995)\u001b[0m /tmp/tmprmvxy7kw/checkpoint.pt\n",
      "\u001b[36m(tune_with_parameters pid=2465477)\u001b[0m loss: 1.035\u001b[32m [repeated 27x across cluster]\u001b[0m\n",
      "\u001b[36m(tune_with_parameters pid=2465477)\u001b[0m /tmp/tmp0mksjb5r/checkpoint.pt\n"
     ]
    },
    {
     "name": "stderr",
     "output_type": "stream",
     "text": [
      "Val Epoch:3: 47it [00:01, 39.79it/s]\u001b[32m [repeated 18x across cluster]\u001b[0m\n",
      "Val Epoch:3: 0it [00:00, ?it/s]2465477)\u001b[0m \n",
      "\u001b[36m(tune_with_parameters pid=2465477)\u001b[0m Checkpoint successfully created at: Checkpoint(filesystem=local, path=/scratch/users/k23058970/Model training/results/Double Peak LSTM Null/tune_with_parameters_2024-08-19_22-08-05/tune_with_parameters_34c49_00004_4_dp=0.1000,hidden_size=500,lr=0.0013,num_layers=1_2024-08-19_22-08-39/checkpoint_000002)\n",
      "Val Epoch:4: 0it [00:00, ?it/s]2464995)\u001b[0m \n"
     ]
    },
    {
     "name": "stdout",
     "output_type": "stream",
     "text": [
      "\u001b[36m(tune_with_parameters pid=2465477)\u001b[0m /tmp/tmpslch89_r/checkpoint.pt\n",
      "\u001b[36m(tune_with_parameters pid=2464995)\u001b[0m loss: 1.100\u001b[32m [repeated 30x across cluster]\u001b[0m\n"
     ]
    },
    {
     "name": "stderr",
     "output_type": "stream",
     "text": [
      "\u001b[36m(tune_with_parameters pid=2465477)\u001b[0m Checkpoint successfully created at: Checkpoint(filesystem=local, path=/scratch/users/k23058970/Model training/results/Double Peak LSTM Null/tune_with_parameters_2024-08-19_22-08-05/tune_with_parameters_34c49_00004_4_dp=0.1000,hidden_size=500,lr=0.0013,num_layers=1_2024-08-19_22-08-39/checkpoint_000003)\n"
     ]
    },
    {
     "name": "stdout",
     "output_type": "stream",
     "text": [
      "\u001b[36m(tune_with_parameters pid=2464995)\u001b[0m /tmp/tmpajb1whuk/checkpoint.pt\n",
      "\u001b[36m(tune_with_parameters pid=2464995)\u001b[0m loss: 1.100\u001b[32m [repeated 29x across cluster]\u001b[0m\n"
     ]
    },
    {
     "name": "stderr",
     "output_type": "stream",
     "text": [
      "Val Epoch:3: 47it [00:01, 23.51it/s]\u001b[32m [repeated 22x across cluster]\u001b[0m\n",
      "Val Epoch:4: 0it [00:00, ?it/s]2465477)\u001b[0m \n",
      "\u001b[36m(tune_with_parameters pid=2464995)\u001b[0m Checkpoint successfully created at: Checkpoint(filesystem=local, path=/scratch/users/k23058970/Model training/results/Double Peak LSTM Null/tune_with_parameters_2024-08-19_22-08-05/tune_with_parameters_34c49_00003_3_dp=0.2000,hidden_size=500,lr=0.0011,num_layers=3_2024-08-19_22-08-39/checkpoint_000004)\n",
      "Val Epoch:5: 0it [00:00, ?it/s]2464995)\u001b[0m \n"
     ]
    },
    {
     "name": "stdout",
     "output_type": "stream",
     "text": [
      "\u001b[36m(tune_with_parameters pid=2465477)\u001b[0m /tmp/tmpgkw58fh8/checkpoint.pt\n"
     ]
    },
    {
     "name": "stderr",
     "output_type": "stream",
     "text": [
      "\u001b[36m(tune_with_parameters pid=2465477)\u001b[0m Checkpoint successfully created at: Checkpoint(filesystem=local, path=/scratch/users/k23058970/Model training/results/Double Peak LSTM Null/tune_with_parameters_2024-08-19_22-08-05/tune_with_parameters_34c49_00004_4_dp=0.1000,hidden_size=500,lr=0.0013,num_layers=1_2024-08-19_22-08-39/checkpoint_000004)\n"
     ]
    },
    {
     "name": "stdout",
     "output_type": "stream",
     "text": [
      "\u001b[36m(tune_with_parameters pid=2464995)\u001b[0m /tmp/tmpp_doqhfz/checkpoint.pt\n",
      "\u001b[36m(tune_with_parameters pid=2464995)\u001b[0m loss: 1.099\u001b[32m [repeated 7x across cluster]\u001b[0m\n"
     ]
    },
    {
     "name": "stderr",
     "output_type": "stream",
     "text": [
      "Val Epoch:5: 47it [00:02, 23.46it/s]\u001b[32m [repeated 20x across cluster]\u001b[0m\n",
      "Val Epoch:5: 0it [00:00, ?it/s]2465477)\u001b[0m \n",
      "\u001b[36m(tune_with_parameters pid=2464995)\u001b[0m Checkpoint successfully created at: Checkpoint(filesystem=local, path=/scratch/users/k23058970/Model training/results/Double Peak LSTM Null/tune_with_parameters_2024-08-19_22-08-05/tune_with_parameters_34c49_00003_3_dp=0.2000,hidden_size=500,lr=0.0011,num_layers=3_2024-08-19_22-08-39/checkpoint_000005)\n",
      "Val Epoch:6: 0it [00:00, ?it/s]2464995)\u001b[0m \n",
      "Val Epoch:5: 47it [00:01, 25.86it/s]77)\u001b[0m \n"
     ]
    },
    {
     "name": "stdout",
     "output_type": "stream",
     "text": [
      "\u001b[36m(tune_with_parameters pid=2465477)\u001b[0m loss: 0.872\u001b[32m [repeated 25x across cluster]\u001b[0m\n",
      "\u001b[36m(tune_with_parameters pid=2464995)\u001b[0m /tmp/tmpbbga2u36/checkpoint.pt\n"
     ]
    },
    {
     "name": "stderr",
     "output_type": "stream",
     "text": [
      "\u001b[36m(tune_with_parameters pid=2464995)\u001b[0m Checkpoint successfully created at: Checkpoint(filesystem=local, path=/scratch/users/k23058970/Model training/results/Double Peak LSTM Null/tune_with_parameters_2024-08-19_22-08-05/tune_with_parameters_34c49_00003_3_dp=0.2000,hidden_size=500,lr=0.0011,num_layers=3_2024-08-19_22-08-39/checkpoint_000006)\n",
      "Val Epoch:6: 47it [00:01, 26.22it/s]\u001b[32m [repeated 17x across cluster]\u001b[0m\n",
      "Val Epoch:6: 0it [00:00, ?it/s]2465477)\u001b[0m \n"
     ]
    },
    {
     "name": "stdout",
     "output_type": "stream",
     "text": [
      "\u001b[36m(tune_with_parameters pid=2464995)\u001b[0m loss: 1.100\u001b[32m [repeated 27x across cluster]\u001b[0m\n"
     ]
    },
    {
     "name": "stderr",
     "output_type": "stream",
     "text": [
      "Val Epoch:7: 0it [00:00, ?it/s]2464995)\u001b[0m \n"
     ]
    },
    {
     "name": "stdout",
     "output_type": "stream",
     "text": [
      "\u001b[36m(tune_with_parameters pid=2465477)\u001b[0m loss: 0.794\u001b[32m [repeated 14x across cluster]\u001b[0m\n"
     ]
    },
    {
     "name": "stderr",
     "output_type": "stream",
     "text": [
      "Val Epoch:7: 47it [00:02, 21.81it/s]\u001b[32m [repeated 22x across cluster]\u001b[0m\n",
      "Val Epoch:7: 0it [00:00, ?it/s]2465477)\u001b[0m \n"
     ]
    },
    {
     "name": "stdout",
     "output_type": "stream",
     "text": [
      "\u001b[36m(tune_with_parameters pid=2465477)\u001b[0m /tmp/tmp2i2f6ylu/checkpoint.pt\n"
     ]
    },
    {
     "name": "stderr",
     "output_type": "stream",
     "text": [
      "\u001b[36m(tune_with_parameters pid=2465477)\u001b[0m Checkpoint successfully created at: Checkpoint(filesystem=local, path=/scratch/users/k23058970/Model training/results/Double Peak LSTM Null/tune_with_parameters_2024-08-19_22-08-05/tune_with_parameters_34c49_00004_4_dp=0.1000,hidden_size=500,lr=0.0013,num_layers=1_2024-08-19_22-08-39/checkpoint_000005)\n"
     ]
    },
    {
     "name": "stdout",
     "output_type": "stream",
     "text": [
      "\u001b[36m(tune_with_parameters pid=2465477)\u001b[0m loss: 0.736\u001b[32m [repeated 12x across cluster]\u001b[0m\n"
     ]
    },
    {
     "name": "stderr",
     "output_type": "stream",
     "text": [
      "Val Epoch:8: 0it [00:00, ?it/s]2465477)\u001b[0m \n",
      "Val Epoch:7: 47it [00:01, 40.43it/s]\u001b[32m [repeated 10x across cluster]\u001b[0m\n"
     ]
    },
    {
     "name": "stdout",
     "output_type": "stream",
     "text": [
      "\u001b[36m(tune_with_parameters pid=2465477)\u001b[0m /tmp/tmpk861wv62/checkpoint.pt\n"
     ]
    },
    {
     "name": "stderr",
     "output_type": "stream",
     "text": [
      "\u001b[36m(tune_with_parameters pid=2465477)\u001b[0m Checkpoint successfully created at: Checkpoint(filesystem=local, path=/scratch/users/k23058970/Model training/results/Double Peak LSTM Null/tune_with_parameters_2024-08-19_22-08-05/tune_with_parameters_34c49_00004_4_dp=0.1000,hidden_size=500,lr=0.0013,num_layers=1_2024-08-19_22-08-39/checkpoint_000006)\n"
     ]
    },
    {
     "name": "stdout",
     "output_type": "stream",
     "text": [
      "\u001b[36m(tune_with_parameters pid=2465477)\u001b[0m loss: 0.680\u001b[32m [repeated 10x across cluster]\u001b[0m\n"
     ]
    },
    {
     "name": "stderr",
     "output_type": "stream",
     "text": [
      "\u001b[36m(tune_with_parameters pid=2473129)\u001b[0m /users/k23058970/miniforge3/envs/Training/lib/python3.10/site-packages/torch/nn/modules/lazy.py:181: UserWarning: Lazy modules are a new feature under heavy development so changes to the API or functionality can happen at any moment.\n",
      "\u001b[36m(tune_with_parameters pid=2473129)\u001b[0m   warnings.warn('Lazy modules are a new feature under heavy development '\n",
      "Val Epoch:8: 47it [00:01, 31.41it/s]\u001b[32m [repeated 8x across cluster]\u001b[0m\n",
      "Val Epoch:9: 0it [00:00, ?it/s]2465477)\u001b[0m \n"
     ]
    },
    {
     "name": "stdout",
     "output_type": "stream",
     "text": [
      "\u001b[36m(tune_with_parameters pid=2465477)\u001b[0m /tmp/tmphkwwy8c5/checkpoint.pt\n"
     ]
    },
    {
     "name": "stderr",
     "output_type": "stream",
     "text": [
      "\u001b[36m(tune_with_parameters pid=2465477)\u001b[0m Checkpoint successfully created at: Checkpoint(filesystem=local, path=/scratch/users/k23058970/Model training/results/Double Peak LSTM Null/tune_with_parameters_2024-08-19_22-08-05/tune_with_parameters_34c49_00004_4_dp=0.1000,hidden_size=500,lr=0.0013,num_layers=1_2024-08-19_22-08-39/checkpoint_000007)\n"
     ]
    },
    {
     "name": "stdout",
     "output_type": "stream",
     "text": [
      "\u001b[36m(tune_with_parameters pid=2465477)\u001b[0m loss: 0.608\u001b[32m [repeated 12x across cluster]\u001b[0m\n"
     ]
    },
    {
     "name": "stderr",
     "output_type": "stream",
     "text": [
      "Val Epoch:10: 0it [00:00, ?it/s]465477)\u001b[0m \n",
      "Val Epoch:9: 47it [00:01, 38.83it/s]\u001b[32m [repeated 8x across cluster]\u001b[0m\n"
     ]
    },
    {
     "name": "stdout",
     "output_type": "stream",
     "text": [
      "\u001b[36m(tune_with_parameters pid=2473129)\u001b[0m loss: 1.105\u001b[32m [repeated 27x across cluster]\u001b[0m\n"
     ]
    },
    {
     "name": "stderr",
     "output_type": "stream",
     "text": [
      "Val Epoch:0: 0it [00:00, ?it/s]2473129)\u001b[0m \n"
     ]
    },
    {
     "name": "stdout",
     "output_type": "stream",
     "text": [
      "\u001b[36m(tune_with_parameters pid=2473129)\u001b[0m /tmp/tmp10egw8p8/checkpoint.pt\n"
     ]
    },
    {
     "name": "stderr",
     "output_type": "stream",
     "text": [
      "\u001b[36m(tune_with_parameters pid=2473129)\u001b[0m /scratch/users/k23058970/Model training/training_insilico_lstm.py:63: RuntimeWarning: invalid value encountered in divide\n",
      "\u001b[36m(tune_with_parameters pid=2473129)\u001b[0m   self.precision = self.tp/(self.tp + self.fp)\n",
      "\u001b[36m(tune_with_parameters pid=2473129)\u001b[0m Checkpoint successfully created at: Checkpoint(filesystem=local, path=/scratch/users/k23058970/Model training/results/Double Peak LSTM Null/tune_with_parameters_2024-08-19_22-08-05/tune_with_parameters_34c49_00005_5_dp=0.5000,hidden_size=100,lr=0.0025,num_layers=1_2024-08-19_22-08-39/checkpoint_000000)\n"
     ]
    },
    {
     "name": "stdout",
     "output_type": "stream",
     "text": [
      "\u001b[36m(tune_with_parameters pid=2473129)\u001b[0m loss: 1.081\u001b[32m [repeated 18x across cluster]\u001b[0m\n"
     ]
    },
    {
     "name": "stderr",
     "output_type": "stream",
     "text": [
      "Val Epoch:0: 47it [00:01, 29.48it/s]\u001b[32m [repeated 19x across cluster]\u001b[0m\n",
      "Val Epoch:11: 0it [00:00, ?it/s]465477)\u001b[0m \n"
     ]
    },
    {
     "name": "stdout",
     "output_type": "stream",
     "text": [
      "\u001b[36m(tune_with_parameters pid=2465477)\u001b[0m /tmp/tmp53hukyyv/checkpoint.pt\n"
     ]
    },
    {
     "name": "stderr",
     "output_type": "stream",
     "text": [
      "Val Epoch:1: 0it [00:00, ?it/s]2473129)\u001b[0m \n",
      "\u001b[36m(tune_with_parameters pid=2465477)\u001b[0m Checkpoint successfully created at: Checkpoint(filesystem=local, path=/scratch/users/k23058970/Model training/results/Double Peak LSTM Null/tune_with_parameters_2024-08-19_22-08-05/tune_with_parameters_34c49_00004_4_dp=0.1000,hidden_size=500,lr=0.0013,num_layers=1_2024-08-19_22-08-39/checkpoint_000008)\n"
     ]
    },
    {
     "name": "stdout",
     "output_type": "stream",
     "text": [
      "\u001b[36m(tune_with_parameters pid=2465477)\u001b[0m loss: 0.544\u001b[32m [repeated 18x across cluster]\u001b[0m\n",
      "\u001b[36m(tune_with_parameters pid=2473129)\u001b[0m /tmp/tmptxz7ovba/checkpoint.pt\n"
     ]
    },
    {
     "name": "stderr",
     "output_type": "stream",
     "text": [
      "Val Epoch:1: 47it [00:01, 29.34it/s]29)\u001b[0m \n",
      "\u001b[36m(tune_with_parameters pid=2473129)\u001b[0m Checkpoint successfully created at: Checkpoint(filesystem=local, path=/scratch/users/k23058970/Model training/results/Double Peak LSTM Null/tune_with_parameters_2024-08-19_22-08-05/tune_with_parameters_34c49_00005_5_dp=0.5000,hidden_size=100,lr=0.0025,num_layers=1_2024-08-19_22-08-39/checkpoint_000001)\n",
      "Val Epoch:1: 39it [00:01, 39.14it/s]\u001b[32m [repeated 18x across cluster]\u001b[0m\n",
      "Val Epoch:12: 0it [00:00, ?it/s]465477)\u001b[0m \n"
     ]
    },
    {
     "name": "stdout",
     "output_type": "stream",
     "text": [
      "\u001b[36m(tune_with_parameters pid=2473129)\u001b[0m loss: 1.014\u001b[32m [repeated 24x across cluster]\u001b[0m\n",
      "\u001b[36m(tune_with_parameters pid=2465477)\u001b[0m /tmp/tmp70bxo04a/checkpoint.pt\n"
     ]
    },
    {
     "name": "stderr",
     "output_type": "stream",
     "text": [
      "Val Epoch:2: 0it [00:00, ?it/s]2473129)\u001b[0m \n",
      "\u001b[36m(tune_with_parameters pid=2465477)\u001b[0m Checkpoint successfully created at: Checkpoint(filesystem=local, path=/scratch/users/k23058970/Model training/results/Double Peak LSTM Null/tune_with_parameters_2024-08-19_22-08-05/tune_with_parameters_34c49_00004_4_dp=0.1000,hidden_size=500,lr=0.0013,num_layers=1_2024-08-19_22-08-39/checkpoint_000009)\n"
     ]
    },
    {
     "name": "stdout",
     "output_type": "stream",
     "text": [
      "\u001b[36m(tune_with_parameters pid=2473129)\u001b[0m /tmp/tmp2grfi6h9/checkpoint.pt\n"
     ]
    },
    {
     "name": "stderr",
     "output_type": "stream",
     "text": [
      "\u001b[36m(tune_with_parameters pid=2473129)\u001b[0m Checkpoint successfully created at: Checkpoint(filesystem=local, path=/scratch/users/k23058970/Model training/results/Double Peak LSTM Null/tune_with_parameters_2024-08-19_22-08-05/tune_with_parameters_34c49_00005_5_dp=0.5000,hidden_size=100,lr=0.0025,num_layers=1_2024-08-19_22-08-39/checkpoint_000002)\n"
     ]
    },
    {
     "name": "stdout",
     "output_type": "stream",
     "text": [
      "\u001b[36m(tune_with_parameters pid=2473129)\u001b[0m loss: 0.978\u001b[32m [repeated 20x across cluster]\u001b[0m\n"
     ]
    },
    {
     "name": "stderr",
     "output_type": "stream",
     "text": [
      "Val Epoch:2: 47it [00:01, 38.82it/s]\u001b[32m [repeated 18x across cluster]\u001b[0m\n",
      "Val Epoch:13: 0it [00:00, ?it/s]465477)\u001b[0m \n"
     ]
    },
    {
     "name": "stdout",
     "output_type": "stream",
     "text": [
      "\u001b[36m(tune_with_parameters pid=2465477)\u001b[0m /tmp/tmp8ztiltbp/checkpoint.pt\n"
     ]
    },
    {
     "name": "stderr",
     "output_type": "stream",
     "text": [
      "Val Epoch:3: 0it [00:00, ?it/s]2473129)\u001b[0m \n",
      "\u001b[36m(tune_with_parameters pid=2465477)\u001b[0m Checkpoint successfully created at: Checkpoint(filesystem=local, path=/scratch/users/k23058970/Model training/results/Double Peak LSTM Null/tune_with_parameters_2024-08-19_22-08-05/tune_with_parameters_34c49_00004_4_dp=0.1000,hidden_size=500,lr=0.0013,num_layers=1_2024-08-19_22-08-39/checkpoint_000010)\n"
     ]
    },
    {
     "name": "stdout",
     "output_type": "stream",
     "text": [
      "\u001b[36m(tune_with_parameters pid=2465477)\u001b[0m loss: 0.494\u001b[32m [repeated 17x across cluster]\u001b[0m\n"
     ]
    },
    {
     "name": "stderr",
     "output_type": "stream",
     "text": [
      "Val Epoch:3: 47it [00:01, 27.27it/s]29)\u001b[0m \n",
      "\u001b[36m(tune_with_parameters pid=2473129)\u001b[0m Checkpoint successfully created at: Checkpoint(filesystem=local, path=/scratch/users/k23058970/Model training/results/Double Peak LSTM Null/tune_with_parameters_2024-08-19_22-08-05/tune_with_parameters_34c49_00005_5_dp=0.5000,hidden_size=100,lr=0.0025,num_layers=1_2024-08-19_22-08-39/checkpoint_000003)\n"
     ]
    },
    {
     "name": "stdout",
     "output_type": "stream",
     "text": [
      "\u001b[36m(tune_with_parameters pid=2473129)\u001b[0m /tmp/tmp5bl9m430/checkpoint.pt\n"
     ]
    },
    {
     "name": "stderr",
     "output_type": "stream",
     "text": [
      "Val Epoch:3: 38it [00:01, 39.09it/s]\u001b[32m [repeated 17x across cluster]\u001b[0m\n",
      "Val Epoch:14: 0it [00:00, ?it/s]465477)\u001b[0m \n",
      "Val Epoch:4: 0it [00:00, ?it/s]2473129)\u001b[0m \n",
      "Val Epoch:14: 47it [00:01, 27.08it/s]7)\u001b[0m \n",
      "\u001b[36m(tune_with_parameters pid=2465477)\u001b[0m Checkpoint successfully created at: Checkpoint(filesystem=local, path=/scratch/users/k23058970/Model training/results/Double Peak LSTM Null/tune_with_parameters_2024-08-19_22-08-05/tune_with_parameters_34c49_00004_4_dp=0.1000,hidden_size=500,lr=0.0013,num_layers=1_2024-08-19_22-08-39/checkpoint_000011)\n"
     ]
    },
    {
     "name": "stdout",
     "output_type": "stream",
     "text": [
      "\u001b[36m(tune_with_parameters pid=2465477)\u001b[0m /tmp/tmpzrri8t1z/checkpoint.pt\n",
      "\u001b[36m(tune_with_parameters pid=2473129)\u001b[0m loss: 0.910\u001b[32m [repeated 25x across cluster]\u001b[0m\n",
      "\u001b[36m(tune_with_parameters pid=2473129)\u001b[0m /tmp/tmppvj8wcj2/checkpoint.pt\n"
     ]
    },
    {
     "name": "stderr",
     "output_type": "stream",
     "text": [
      "Val Epoch:4: 47it [00:01, 25.46it/s]\u001b[32m [repeated 17x across cluster]\u001b[0m\n",
      "Val Epoch:15: 0it [00:00, ?it/s]465477)\u001b[0m \n",
      "\u001b[36m(tune_with_parameters pid=2473129)\u001b[0m Checkpoint successfully created at: Checkpoint(filesystem=local, path=/scratch/users/k23058970/Model training/results/Double Peak LSTM Null/tune_with_parameters_2024-08-19_22-08-05/tune_with_parameters_34c49_00005_5_dp=0.5000,hidden_size=100,lr=0.0025,num_layers=1_2024-08-19_22-08-39/checkpoint_000004)\n"
     ]
    },
    {
     "name": "stdout",
     "output_type": "stream",
     "text": [
      "\u001b[36m(tune_with_parameters pid=2473129)\u001b[0m loss: 0.858\u001b[32m [repeated 27x across cluster]\u001b[0m\n"
     ]
    },
    {
     "name": "stderr",
     "output_type": "stream",
     "text": [
      "Val Epoch:5: 0it [00:00, ?it/s]2473129)\u001b[0m \n"
     ]
    },
    {
     "name": "stdout",
     "output_type": "stream",
     "text": [
      "\u001b[36m(tune_with_parameters pid=2465477)\u001b[0m /tmp/tmp29pa3d15/checkpoint.pt\n"
     ]
    },
    {
     "name": "stderr",
     "output_type": "stream",
     "text": [
      "\u001b[36m(tune_with_parameters pid=2465477)\u001b[0m Checkpoint successfully created at: Checkpoint(filesystem=local, path=/scratch/users/k23058970/Model training/results/Double Peak LSTM Null/tune_with_parameters_2024-08-19_22-08-05/tune_with_parameters_34c49_00004_4_dp=0.1000,hidden_size=500,lr=0.0013,num_layers=1_2024-08-19_22-08-39/checkpoint_000012)\n"
     ]
    },
    {
     "name": "stdout",
     "output_type": "stream",
     "text": [
      "\u001b[36m(tune_with_parameters pid=2473129)\u001b[0m /tmp/tmppew88gso/checkpoint.pt\n",
      "\u001b[36m(tune_with_parameters pid=2465477)\u001b[0m loss: 0.446\u001b[32m [repeated 8x across cluster]\u001b[0m\n"
     ]
    },
    {
     "name": "stderr",
     "output_type": "stream",
     "text": [
      "Val Epoch:5: 47it [00:01, 24.22it/s]\u001b[32m [repeated 19x across cluster]\u001b[0m\n",
      "Val Epoch:16: 0it [00:00, ?it/s]465477)\u001b[0m \n",
      "\u001b[36m(tune_with_parameters pid=2473129)\u001b[0m Checkpoint successfully created at: Checkpoint(filesystem=local, path=/scratch/users/k23058970/Model training/results/Double Peak LSTM Null/tune_with_parameters_2024-08-19_22-08-05/tune_with_parameters_34c49_00005_5_dp=0.5000,hidden_size=100,lr=0.0025,num_layers=1_2024-08-19_22-08-39/checkpoint_000005)\n",
      "Val Epoch:6: 0it [00:00, ?it/s]2473129)\u001b[0m \n"
     ]
    },
    {
     "name": "stdout",
     "output_type": "stream",
     "text": [
      "\u001b[36m(tune_with_parameters pid=2465477)\u001b[0m /tmp/tmpiphl0mww/checkpoint.pt\n",
      "\u001b[36m(tune_with_parameters pid=2473129)\u001b[0m loss: 0.821\u001b[32m [repeated 25x across cluster]\u001b[0m\n"
     ]
    },
    {
     "name": "stderr",
     "output_type": "stream",
     "text": [
      "\u001b[36m(tune_with_parameters pid=2465477)\u001b[0m Checkpoint successfully created at: Checkpoint(filesystem=local, path=/scratch/users/k23058970/Model training/results/Double Peak LSTM Null/tune_with_parameters_2024-08-19_22-08-05/tune_with_parameters_34c49_00004_4_dp=0.1000,hidden_size=500,lr=0.0013,num_layers=1_2024-08-19_22-08-39/checkpoint_000013)\n",
      "Val Epoch:6: 47it [00:01, 27.06it/s]29)\u001b[0m \n",
      "Val Epoch:6: 39it [00:01, 26.12it/s]\u001b[32m [repeated 17x across cluster]\u001b[0m\n",
      "Val Epoch:17: 0it [00:00, ?it/s]465477)\u001b[0m \n"
     ]
    },
    {
     "name": "stdout",
     "output_type": "stream",
     "text": [
      "\u001b[36m(tune_with_parameters pid=2473129)\u001b[0m loss: 0.789\u001b[32m [repeated 29x across cluster]\u001b[0m\n"
     ]
    },
    {
     "name": "stderr",
     "output_type": "stream",
     "text": [
      "Val Epoch:7: 0it [00:00, ?it/s]2473129)\u001b[0m \n"
     ]
    },
    {
     "name": "stdout",
     "output_type": "stream",
     "text": [
      "\u001b[36m(tune_with_parameters pid=2465477)\u001b[0m /tmp/tmpmbqenpt7/checkpoint.pt\n"
     ]
    },
    {
     "name": "stderr",
     "output_type": "stream",
     "text": [
      "Val Epoch:7: 33it [00:00, 55.40it/s]29)\u001b[0m \n",
      "\u001b[36m(tune_with_parameters pid=2465477)\u001b[0m Checkpoint successfully created at: Checkpoint(filesystem=local, path=/scratch/users/k23058970/Model training/results/Double Peak LSTM Null/tune_with_parameters_2024-08-19_22-08-05/tune_with_parameters_34c49_00004_4_dp=0.1000,hidden_size=500,lr=0.0013,num_layers=1_2024-08-19_22-08-39/checkpoint_000014)\n",
      "Val Epoch:7: 47it [00:01, 26.41it/s]29)\u001b[0m \n"
     ]
    },
    {
     "name": "stdout",
     "output_type": "stream",
     "text": [
      "\u001b[36m(tune_with_parameters pid=2473129)\u001b[0m loss: 0.775\u001b[32m [repeated 18x across cluster]\u001b[0m\n"
     ]
    },
    {
     "name": "stderr",
     "output_type": "stream",
     "text": [
      "Val Epoch:7: 39it [00:00, 51.71it/s]\u001b[32m [repeated 16x across cluster]\u001b[0m\n",
      "Val Epoch:18: 0it [00:00, ?it/s]465477)\u001b[0m \n",
      "Val Epoch:8: 0it [00:00, ?it/s]2473129)\u001b[0m \n"
     ]
    },
    {
     "name": "stdout",
     "output_type": "stream",
     "text": [
      "\u001b[36m(tune_with_parameters pid=2465477)\u001b[0m /tmp/tmp1ewncsx3/checkpoint.pt\n",
      "\u001b[36m(tune_with_parameters pid=2473129)\u001b[0m /tmp/tmpd8e7wwm4/checkpoint.pt\n"
     ]
    },
    {
     "name": "stderr",
     "output_type": "stream",
     "text": [
      "\u001b[36m(tune_with_parameters pid=2465477)\u001b[0m Checkpoint successfully created at: Checkpoint(filesystem=local, path=/scratch/users/k23058970/Model training/results/Double Peak LSTM Null/tune_with_parameters_2024-08-19_22-08-05/tune_with_parameters_34c49_00004_4_dp=0.1000,hidden_size=500,lr=0.0013,num_layers=1_2024-08-19_22-08-39/checkpoint_000015)\n"
     ]
    },
    {
     "name": "stdout",
     "output_type": "stream",
     "text": [
      "\u001b[36m(tune_with_parameters pid=2465477)\u001b[0m loss: 0.382\u001b[32m [repeated 14x across cluster]\u001b[0m\n"
     ]
    },
    {
     "name": "stderr",
     "output_type": "stream",
     "text": [
      "Val Epoch:8: 47it [00:01, 27.49it/s]\u001b[32m [repeated 20x across cluster]\u001b[0m\n",
      "Val Epoch:19: 0it [00:00, ?it/s]465477)\u001b[0m \n",
      "\u001b[36m(tune_with_parameters pid=2473129)\u001b[0m Checkpoint successfully created at: Checkpoint(filesystem=local, path=/scratch/users/k23058970/Model training/results/Double Peak LSTM Null/tune_with_parameters_2024-08-19_22-08-05/tune_with_parameters_34c49_00005_5_dp=0.5000,hidden_size=100,lr=0.0025,num_layers=1_2024-08-19_22-08-39/checkpoint_000006)\n",
      "Val Epoch:9: 0it [00:00, ?it/s]2473129)\u001b[0m \n",
      "Val Epoch:19: 47it [00:01, 33.87it/s]7)\u001b[0m \n",
      "\u001b[36m(tune_with_parameters pid=2465477)\u001b[0m Checkpoint successfully created at: Checkpoint(filesystem=local, path=/scratch/users/k23058970/Model training/results/Double Peak LSTM Null/tune_with_parameters_2024-08-19_22-08-05/tune_with_parameters_34c49_00004_4_dp=0.1000,hidden_size=500,lr=0.0013,num_layers=1_2024-08-19_22-08-39/checkpoint_000016)\n"
     ]
    },
    {
     "name": "stdout",
     "output_type": "stream",
     "text": [
      "\u001b[36m(tune_with_parameters pid=2465477)\u001b[0m /tmp/tmpyzk8kyig/checkpoint.pt\n",
      "\u001b[36m(tune_with_parameters pid=2473129)\u001b[0m loss: 0.756\u001b[32m [repeated 29x across cluster]\u001b[0m\n"
     ]
    },
    {
     "name": "stderr",
     "output_type": "stream",
     "text": [
      "Val Epoch:10: 0it [00:00, ?it/s]473129)\u001b[0m \n",
      "Val Epoch:9: 47it [00:01, 31.02it/s]\u001b[32m [repeated 17x across cluster]\u001b[0m\n",
      "Val Epoch:20: 0it [00:00, ?it/s]465477)\u001b[0m \n",
      "Val Epoch:10: 36it [00:01, 43.42it/s]9)\u001b[0m \n"
     ]
    },
    {
     "name": "stdout",
     "output_type": "stream",
     "text": [
      "\u001b[36m(tune_with_parameters pid=2473129)\u001b[0m /tmp/tmptxnj3aja/checkpoint.pt\n",
      "\u001b[36m(tune_with_parameters pid=2465477)\u001b[0m loss: 0.356\u001b[32m [repeated 30x across cluster]\u001b[0m\n"
     ]
    },
    {
     "name": "stderr",
     "output_type": "stream",
     "text": [
      "\u001b[36m(tune_with_parameters pid=2473129)\u001b[0m Checkpoint successfully created at: Checkpoint(filesystem=local, path=/scratch/users/k23058970/Model training/results/Double Peak LSTM Null/tune_with_parameters_2024-08-19_22-08-05/tune_with_parameters_34c49_00005_5_dp=0.5000,hidden_size=100,lr=0.0025,num_layers=1_2024-08-19_22-08-39/checkpoint_000007)\n"
     ]
    },
    {
     "name": "stdout",
     "output_type": "stream",
     "text": [
      "\u001b[36m(tune_with_parameters pid=2465477)\u001b[0m loss: 0.338\u001b[32m [repeated 28x across cluster]\u001b[0m\n"
     ]
    },
    {
     "name": "stderr",
     "output_type": "stream",
     "text": [
      "Val Epoch:20: 47it [00:02, 18.14it/s]\u001b[32m [repeated 17x across cluster]\u001b[0m\n",
      "Val Epoch:11: 0it [00:00, ?it/s]473129)\u001b[0m \n",
      "Val Epoch:21: 0it [00:00, ?it/s]465477)\u001b[0m \n"
     ]
    },
    {
     "name": "stdout",
     "output_type": "stream",
     "text": [
      "\u001b[36m(tune_with_parameters pid=2473129)\u001b[0m /tmp/tmphff5_gmr/checkpoint.pt\n",
      "\u001b[36m(tune_with_parameters pid=2465477)\u001b[0m /tmp/tmp8k8mma1p/checkpoint.pt\n"
     ]
    },
    {
     "name": "stderr",
     "output_type": "stream",
     "text": [
      "\u001b[36m(tune_with_parameters pid=2473129)\u001b[0m Checkpoint successfully created at: Checkpoint(filesystem=local, path=/scratch/users/k23058970/Model training/results/Double Peak LSTM Null/tune_with_parameters_2024-08-19_22-08-05/tune_with_parameters_34c49_00005_5_dp=0.5000,hidden_size=100,lr=0.0025,num_layers=1_2024-08-19_22-08-39/checkpoint_000008)\n"
     ]
    },
    {
     "name": "stdout",
     "output_type": "stream",
     "text": [
      "\u001b[36m(tune_with_parameters pid=2465477)\u001b[0m loss: 0.331\u001b[32m [repeated 9x across cluster]\u001b[0m\n"
     ]
    },
    {
     "name": "stderr",
     "output_type": "stream",
     "text": [
      "Val Epoch:11: 47it [00:02, 19.26it/s]\u001b[32m [repeated 19x across cluster]\u001b[0m\n",
      "Val Epoch:12: 0it [00:00, ?it/s]473129)\u001b[0m \n",
      "\u001b[36m(tune_with_parameters pid=2465477)\u001b[0m Checkpoint successfully created at: Checkpoint(filesystem=local, path=/scratch/users/k23058970/Model training/results/Double Peak LSTM Null/tune_with_parameters_2024-08-19_22-08-05/tune_with_parameters_34c49_00004_4_dp=0.1000,hidden_size=500,lr=0.0013,num_layers=1_2024-08-19_22-08-39/checkpoint_000017)\n",
      "Val Epoch:22: 0it [00:00, ?it/s]465477)\u001b[0m \n",
      "Val Epoch:12: 47it [00:02, 22.52it/s]9)\u001b[0m \n",
      "\u001b[36m(tune_with_parameters pid=2473129)\u001b[0m Checkpoint successfully created at: Checkpoint(filesystem=local, path=/scratch/users/k23058970/Model training/results/Double Peak LSTM Null/tune_with_parameters_2024-08-19_22-08-05/tune_with_parameters_34c49_00005_5_dp=0.5000,hidden_size=100,lr=0.0025,num_layers=1_2024-08-19_22-08-39/checkpoint_000009)\n"
     ]
    },
    {
     "name": "stdout",
     "output_type": "stream",
     "text": [
      "\u001b[36m(tune_with_parameters pid=2473129)\u001b[0m /tmp/tmp_e432yn9/checkpoint.pt\n",
      "\u001b[36m(tune_with_parameters pid=2465477)\u001b[0m loss: 0.326\u001b[32m [repeated 23x across cluster]\u001b[0m\n"
     ]
    },
    {
     "name": "stderr",
     "output_type": "stream",
     "text": [
      "Val Epoch:22: 42it [00:01, 36.48it/s]\u001b[32m [repeated 15x across cluster]\u001b[0m\n",
      "Val Epoch:13: 0it [00:00, ?it/s]473129)\u001b[0m \n",
      "Val Epoch:22: 47it [00:02, 23.24it/s]7)\u001b[0m \n",
      "Val Epoch:23: 0it [00:00, ?it/s]465477)\u001b[0m \n"
     ]
    },
    {
     "name": "stdout",
     "output_type": "stream",
     "text": [
      "\u001b[36m(tune_with_parameters pid=2465477)\u001b[0m /tmp/tmpo1zqmt1x/checkpoint.pt\n",
      "\u001b[36m(tune_with_parameters pid=2465477)\u001b[0m loss: 0.304\u001b[32m [repeated 30x across cluster]\u001b[0m\n"
     ]
    },
    {
     "name": "stderr",
     "output_type": "stream",
     "text": [
      "\u001b[36m(tune_with_parameters pid=2465477)\u001b[0m Checkpoint successfully created at: Checkpoint(filesystem=local, path=/scratch/users/k23058970/Model training/results/Double Peak LSTM Null/tune_with_parameters_2024-08-19_22-08-05/tune_with_parameters_34c49_00004_4_dp=0.1000,hidden_size=500,lr=0.0013,num_layers=1_2024-08-19_22-08-39/checkpoint_000018)\n",
      "Val Epoch:23: 47it [00:02, 19.50it/s]\u001b[32m [repeated 22x across cluster]\u001b[0m\n",
      "Val Epoch:14: 0it [00:00, ?it/s]473129)\u001b[0m \n",
      "Val Epoch:24: 0it [00:00, ?it/s]465477)\u001b[0m \n"
     ]
    },
    {
     "name": "stdout",
     "output_type": "stream",
     "text": [
      "\u001b[36m(tune_with_parameters pid=2473129)\u001b[0m loss: 0.713\u001b[32m [repeated 31x across cluster]\u001b[0m\n"
     ]
    },
    {
     "name": "stderr",
     "output_type": "stream",
     "text": [
      "Val Epoch:24: 47it [00:02, 22.45it/s]\u001b[32m [repeated 18x across cluster]\u001b[0m\n",
      "Val Epoch:15: 0it [00:00, ?it/s]473129)\u001b[0m \n",
      "Val Epoch:25: 0it [00:00, ?it/s]465477)\u001b[0m \n"
     ]
    },
    {
     "name": "stdout",
     "output_type": "stream",
     "text": [
      "\u001b[36m(tune_with_parameters pid=2473129)\u001b[0m /tmp/tmps17aej5m/checkpoint.pt\n",
      "\u001b[36m(tune_with_parameters pid=2465477)\u001b[0m loss: 0.285\u001b[32m [repeated 29x across cluster]\u001b[0m\n"
     ]
    },
    {
     "name": "stderr",
     "output_type": "stream",
     "text": [
      "\u001b[36m(tune_with_parameters pid=2473129)\u001b[0m Checkpoint successfully created at: Checkpoint(filesystem=local, path=/scratch/users/k23058970/Model training/results/Double Peak LSTM Null/tune_with_parameters_2024-08-19_22-08-05/tune_with_parameters_34c49_00005_5_dp=0.5000,hidden_size=100,lr=0.0025,num_layers=1_2024-08-19_22-08-39/checkpoint_000010)\n"
     ]
    },
    {
     "name": "stdout",
     "output_type": "stream",
     "text": [
      "\u001b[36m(tune_with_parameters pid=2465477)\u001b[0m /tmp/tmphhvtlqmk/checkpoint.pt\n",
      "\u001b[36m(tune_with_parameters pid=2465477)\u001b[0m loss: 0.275\u001b[32m [repeated 28x across cluster]\u001b[0m\n"
     ]
    },
    {
     "name": "stderr",
     "output_type": "stream",
     "text": [
      "Val Epoch:25: 47it [00:01, 29.01it/s]\u001b[32m [repeated 18x across cluster]\u001b[0m\n",
      "Val Epoch:16: 0it [00:00, ?it/s]473129)\u001b[0m \n",
      "\u001b[36m(tune_with_parameters pid=2465477)\u001b[0m Checkpoint successfully created at: Checkpoint(filesystem=local, path=/scratch/users/k23058970/Model training/results/Double Peak LSTM Null/tune_with_parameters_2024-08-19_22-08-05/tune_with_parameters_34c49_00004_4_dp=0.1000,hidden_size=500,lr=0.0013,num_layers=1_2024-08-19_22-08-39/checkpoint_000019)\n",
      "Val Epoch:26: 0it [00:00, ?it/s]465477)\u001b[0m \n",
      "Val Epoch:16: 46it [00:02, 25.29it/s]9)\u001b[0m \n"
     ]
    },
    {
     "name": "stdout",
     "output_type": "stream",
     "text": [
      "\u001b[36m(tune_with_parameters pid=2473129)\u001b[0m /tmp/tmpgliy3b16/checkpoint.pt\n"
     ]
    },
    {
     "name": "stderr",
     "output_type": "stream",
     "text": [
      "\u001b[36m(tune_with_parameters pid=2473129)\u001b[0m Checkpoint successfully created at: Checkpoint(filesystem=local, path=/scratch/users/k23058970/Model training/results/Double Peak LSTM Null/tune_with_parameters_2024-08-19_22-08-05/tune_with_parameters_34c49_00005_5_dp=0.5000,hidden_size=100,lr=0.0025,num_layers=1_2024-08-19_22-08-39/checkpoint_000011)\n"
     ]
    },
    {
     "name": "stdout",
     "output_type": "stream",
     "text": [
      "\u001b[36m(tune_with_parameters pid=2465477)\u001b[0m /tmp/tmp07k8m3xw/checkpoint.pt\n",
      "\u001b[36m(tune_with_parameters pid=2465477)\u001b[0m loss: 0.275\u001b[32m [repeated 12x across cluster]\u001b[0m\n"
     ]
    },
    {
     "name": "stderr",
     "output_type": "stream",
     "text": [
      "Val Epoch:26: 47it [00:02, 21.12it/s]\u001b[32m [repeated 19x across cluster]\u001b[0m\n",
      "Val Epoch:17: 0it [00:00, ?it/s]473129)\u001b[0m \n",
      "\u001b[36m(tune_with_parameters pid=2465477)\u001b[0m Checkpoint successfully created at: Checkpoint(filesystem=local, path=/scratch/users/k23058970/Model training/results/Double Peak LSTM Null/tune_with_parameters_2024-08-19_22-08-05/tune_with_parameters_34c49_00004_4_dp=0.1000,hidden_size=500,lr=0.0013,num_layers=1_2024-08-19_22-08-39/checkpoint_000020)\n",
      "Val Epoch:27: 0it [00:00, ?it/s]465477)\u001b[0m \n"
     ]
    },
    {
     "name": "stdout",
     "output_type": "stream",
     "text": [
      "\u001b[36m(tune_with_parameters pid=2473129)\u001b[0m loss: 0.562\u001b[32m [repeated 21x across cluster]\u001b[0m\n"
     ]
    },
    {
     "name": "stderr",
     "output_type": "stream",
     "text": [
      "Val Epoch:27: 47it [00:01, 27.80it/s]\u001b[32m [repeated 20x across cluster]\u001b[0m\n",
      "Val Epoch:18: 0it [00:00, ?it/s]473129)\u001b[0m \n",
      "Val Epoch:28: 0it [00:00, ?it/s]465477)\u001b[0m \n"
     ]
    },
    {
     "name": "stdout",
     "output_type": "stream",
     "text": [
      "\u001b[36m(tune_with_parameters pid=2473129)\u001b[0m loss: 0.795\u001b[32m [repeated 30x across cluster]\u001b[0m\n"
     ]
    },
    {
     "name": "stderr",
     "output_type": "stream",
     "text": [
      "Val Epoch:28: 47it [00:01, 30.07it/s]\u001b[32m [repeated 19x across cluster]\u001b[0m\n",
      "Val Epoch:19: 0it [00:00, ?it/s]473129)\u001b[0m \n"
     ]
    },
    {
     "name": "stdout",
     "output_type": "stream",
     "text": [
      "\u001b[36m(tune_with_parameters pid=2465477)\u001b[0m loss: 0.250\u001b[32m [repeated 29x across cluster]\u001b[0m\n"
     ]
    },
    {
     "name": "stderr",
     "output_type": "stream",
     "text": [
      "Val Epoch:29: 0it [00:00, ?it/s]465477)\u001b[0m \n"
     ]
    },
    {
     "name": "stdout",
     "output_type": "stream",
     "text": [
      "\u001b[36m(tune_with_parameters pid=2473129)\u001b[0m loss: 0.632\u001b[32m [repeated 19x across cluster]\u001b[0m\n"
     ]
    },
    {
     "name": "stderr",
     "output_type": "stream",
     "text": [
      "Val Epoch:29: 47it [00:01, 24.24it/s]\u001b[32m [repeated 18x across cluster]\u001b[0m\n",
      "Val Epoch:20: 0it [00:00, ?it/s]473129)\u001b[0m \n",
      "Val Epoch:30: 0it [00:00, ?it/s]465477)\u001b[0m \n"
     ]
    },
    {
     "name": "stdout",
     "output_type": "stream",
     "text": [
      "\u001b[36m(tune_with_parameters pid=2473129)\u001b[0m loss: 0.631\u001b[32m [repeated 15x across cluster]\u001b[0m\n"
     ]
    },
    {
     "name": "stderr",
     "output_type": "stream",
     "text": [
      "Val Epoch:30: 47it [00:02, 22.86it/s]\u001b[32m [repeated 19x across cluster]\u001b[0m\n",
      "Val Epoch:21: 0it [00:00, ?it/s]473129)\u001b[0m \n",
      "Val Epoch:31: 0it [00:00, ?it/s]465477)\u001b[0m \n"
     ]
    },
    {
     "name": "stdout",
     "output_type": "stream",
     "text": [
      "\u001b[36m(tune_with_parameters pid=2473129)\u001b[0m loss: 0.640\u001b[32m [repeated 27x across cluster]\u001b[0m\n"
     ]
    },
    {
     "name": "stderr",
     "output_type": "stream",
     "text": [
      "Val Epoch:31: 47it [00:02, 20.86it/s]\u001b[32m [repeated 20x across cluster]\u001b[0m\n",
      "Val Epoch:22: 0it [00:00, ?it/s]473129)\u001b[0m \n",
      "Val Epoch:32: 0it [00:00, ?it/s]465477)\u001b[0m \n"
     ]
    },
    {
     "name": "stdout",
     "output_type": "stream",
     "text": [
      "\u001b[36m(tune_with_parameters pid=2473129)\u001b[0m loss: 0.516\u001b[32m [repeated 30x across cluster]\u001b[0m\n"
     ]
    },
    {
     "name": "stderr",
     "output_type": "stream",
     "text": [
      "Val Epoch:32: 47it [00:02, 22.02it/s]\u001b[32m [repeated 19x across cluster]\u001b[0m\n",
      "Val Epoch:23: 0it [00:00, ?it/s]473129)\u001b[0m \n"
     ]
    },
    {
     "name": "stdout",
     "output_type": "stream",
     "text": [
      "\u001b[36m(tune_with_parameters pid=2465477)\u001b[0m loss: 0.231\u001b[32m [repeated 29x across cluster]\u001b[0m\n"
     ]
    },
    {
     "name": "stderr",
     "output_type": "stream",
     "text": [
      "Val Epoch:33: 0it [00:00, ?it/s]465477)\u001b[0m \n",
      "Val Epoch:23: 47it [00:01, 30.80it/s]9)\u001b[0m \n"
     ]
    },
    {
     "name": "stdout",
     "output_type": "stream",
     "text": [
      "\u001b[36m(tune_with_parameters pid=2473129)\u001b[0m loss: 0.621\u001b[32m [repeated 19x across cluster]\u001b[0m\n"
     ]
    },
    {
     "name": "stderr",
     "output_type": "stream",
     "text": [
      "Val Epoch:33: 47it [00:01, 25.90it/s]\u001b[32m [repeated 18x across cluster]\u001b[0m\n",
      "Val Epoch:24: 0it [00:00, ?it/s]473129)\u001b[0m \n",
      "Val Epoch:24: 35it [00:01, 44.39it/s]9)\u001b[0m \n",
      "Val Epoch:34: 0it [00:00, ?it/s]465477)\u001b[0m \n"
     ]
    },
    {
     "name": "stdout",
     "output_type": "stream",
     "text": [
      "\u001b[36m(tune_with_parameters pid=2473129)\u001b[0m /tmp/tmpn4lpth7d/checkpoint.pt\n"
     ]
    },
    {
     "name": "stderr",
     "output_type": "stream",
     "text": [
      "\u001b[36m(tune_with_parameters pid=2473129)\u001b[0m Checkpoint successfully created at: Checkpoint(filesystem=local, path=/scratch/users/k23058970/Model training/results/Double Peak LSTM Null/tune_with_parameters_2024-08-19_22-08-05/tune_with_parameters_34c49_00005_5_dp=0.5000,hidden_size=100,lr=0.0025,num_layers=1_2024-08-19_22-08-39/checkpoint_000012)\n"
     ]
    },
    {
     "name": "stdout",
     "output_type": "stream",
     "text": [
      "\u001b[36m(tune_with_parameters pid=2473129)\u001b[0m loss: 0.578\u001b[32m [repeated 14x across cluster]\u001b[0m\n",
      "\u001b[36m(tune_with_parameters pid=2465477)\u001b[0m /tmp/tmp0ap_yl4n/checkpoint.pt\n"
     ]
    },
    {
     "name": "stderr",
     "output_type": "stream",
     "text": [
      "Val Epoch:34: 47it [00:02, 20.47it/s]\u001b[32m [repeated 19x across cluster]\u001b[0m\n",
      "Val Epoch:25: 0it [00:00, ?it/s]473129)\u001b[0m \n",
      "\u001b[36m(tune_with_parameters pid=2465477)\u001b[0m Checkpoint successfully created at: Checkpoint(filesystem=local, path=/scratch/users/k23058970/Model training/results/Double Peak LSTM Null/tune_with_parameters_2024-08-19_22-08-05/tune_with_parameters_34c49_00004_4_dp=0.1000,hidden_size=500,lr=0.0013,num_layers=1_2024-08-19_22-08-39/checkpoint_000021)\n",
      "Val Epoch:35: 0it [00:00, ?it/s]465477)\u001b[0m \n"
     ]
    },
    {
     "name": "stdout",
     "output_type": "stream",
     "text": [
      "\u001b[36m(tune_with_parameters pid=2473129)\u001b[0m loss: 0.677\u001b[32m [repeated 28x across cluster]\u001b[0m\n"
     ]
    },
    {
     "name": "stderr",
     "output_type": "stream",
     "text": [
      "Val Epoch:35: 47it [00:01, 25.88it/s]\u001b[32m [repeated 22x across cluster]\u001b[0m\n",
      "Val Epoch:26: 0it [00:00, ?it/s]473129)\u001b[0m \n"
     ]
    },
    {
     "name": "stdout",
     "output_type": "stream",
     "text": [
      "\u001b[36m(tune_with_parameters pid=2465477)\u001b[0m loss: 0.218\u001b[32m [repeated 27x across cluster]\u001b[0m\n"
     ]
    },
    {
     "name": "stderr",
     "output_type": "stream",
     "text": [
      "Val Epoch:36: 0it [00:00, ?it/s]465477)\u001b[0m \n"
     ]
    },
    {
     "name": "stdout",
     "output_type": "stream",
     "text": [
      "\u001b[36m(tune_with_parameters pid=2465477)\u001b[0m /tmp/tmpnn3tynzb/checkpoint.pt\n"
     ]
    },
    {
     "name": "stderr",
     "output_type": "stream",
     "text": [
      "\u001b[36m(tune_with_parameters pid=2465477)\u001b[0m Checkpoint successfully created at: Checkpoint(filesystem=local, path=/scratch/users/k23058970/Model training/results/Double Peak LSTM Null/tune_with_parameters_2024-08-19_22-08-05/tune_with_parameters_34c49_00004_4_dp=0.1000,hidden_size=500,lr=0.0013,num_layers=1_2024-08-19_22-08-39/checkpoint_000022)\n"
     ]
    },
    {
     "name": "stdout",
     "output_type": "stream",
     "text": [
      "\u001b[36m(tune_with_parameters pid=2465477)\u001b[0m loss: 0.215\u001b[32m [repeated 16x across cluster]\u001b[0m\n"
     ]
    },
    {
     "name": "stderr",
     "output_type": "stream",
     "text": [
      "Val Epoch:36: 47it [00:02, 18.16it/s]\u001b[32m [repeated 20x across cluster]\u001b[0m\n",
      "Val Epoch:27: 0it [00:00, ?it/s]473129)\u001b[0m \n",
      "Val Epoch:37: 0it [00:00, ?it/s]465477)\u001b[0m \n"
     ]
    },
    {
     "name": "stdout",
     "output_type": "stream",
     "text": [
      "\u001b[36m(tune_with_parameters pid=2473129)\u001b[0m /tmp/tmpmy73ifms/checkpoint.pt\n"
     ]
    },
    {
     "name": "stderr",
     "output_type": "stream",
     "text": [
      "\u001b[36m(tune_with_parameters pid=2473129)\u001b[0m Checkpoint successfully created at: Checkpoint(filesystem=local, path=/scratch/users/k23058970/Model training/results/Double Peak LSTM Null/tune_with_parameters_2024-08-19_22-08-05/tune_with_parameters_34c49_00005_5_dp=0.5000,hidden_size=100,lr=0.0025,num_layers=1_2024-08-19_22-08-39/checkpoint_000013)\n"
     ]
    },
    {
     "name": "stdout",
     "output_type": "stream",
     "text": [
      "\u001b[36m(tune_with_parameters pid=2473129)\u001b[0m loss: 0.486\u001b[32m [repeated 17x across cluster]\u001b[0m\n"
     ]
    },
    {
     "name": "stderr",
     "output_type": "stream",
     "text": [
      "Val Epoch:37: 47it [00:02, 20.40it/s]\u001b[32m [repeated 22x across cluster]\u001b[0m\n",
      "Val Epoch:28: 0it [00:00, ?it/s]473129)\u001b[0m \n"
     ]
    },
    {
     "name": "stdout",
     "output_type": "stream",
     "text": [
      "\u001b[36m(tune_with_parameters pid=2465477)\u001b[0m loss: 0.207\u001b[32m [repeated 26x across cluster]\u001b[0m\n"
     ]
    },
    {
     "name": "stderr",
     "output_type": "stream",
     "text": [
      "Val Epoch:38: 0it [00:00, ?it/s]465477)\u001b[0m \n"
     ]
    },
    {
     "name": "stdout",
     "output_type": "stream",
     "text": [
      "\u001b[36m(tune_with_parameters pid=2465477)\u001b[0m loss: 0.197\u001b[32m [repeated 18x across cluster]\u001b[0m\n"
     ]
    },
    {
     "name": "stderr",
     "output_type": "stream",
     "text": [
      "Val Epoch:38: 47it [00:02, 20.59it/s]\u001b[32m [repeated 22x across cluster]\u001b[0m\n",
      "Val Epoch:29: 0it [00:00, ?it/s]473129)\u001b[0m \n",
      "Val Epoch:39: 0it [00:00, ?it/s]465477)\u001b[0m \n",
      "Val Epoch:29: 47it [00:01, 26.37it/s]9)\u001b[0m \n"
     ]
    },
    {
     "name": "stdout",
     "output_type": "stream",
     "text": [
      "\u001b[36m(tune_with_parameters pid=2473129)\u001b[0m loss: 0.592\u001b[32m [repeated 19x across cluster]\u001b[0m\n"
     ]
    },
    {
     "name": "stderr",
     "output_type": "stream",
     "text": [
      "Val Epoch:39: 47it [00:01, 24.20it/s]\u001b[32m [repeated 21x across cluster]\u001b[0m\n",
      "Val Epoch:30: 0it [00:00, ?it/s]473129)\u001b[0m \n"
     ]
    },
    {
     "name": "stdout",
     "output_type": "stream",
     "text": [
      "\u001b[36m(tune_with_parameters pid=2473129)\u001b[0m /tmp/tmpdzn46xhz/checkpoint.pt\n"
     ]
    },
    {
     "name": "stderr",
     "output_type": "stream",
     "text": [
      "\u001b[36m(tune_with_parameters pid=2473129)\u001b[0m Checkpoint successfully created at: Checkpoint(filesystem=local, path=/scratch/users/k23058970/Model training/results/Double Peak LSTM Null/tune_with_parameters_2024-08-19_22-08-05/tune_with_parameters_34c49_00005_5_dp=0.5000,hidden_size=100,lr=0.0025,num_layers=1_2024-08-19_22-08-39/checkpoint_000014)\n",
      "Val Epoch:40: 0it [00:00, ?it/s]465477)\u001b[0m \n"
     ]
    },
    {
     "name": "stdout",
     "output_type": "stream",
     "text": [
      "\u001b[36m(tune_with_parameters pid=2473129)\u001b[0m loss: 0.545\u001b[32m [repeated 27x across cluster]\u001b[0m\n"
     ]
    },
    {
     "name": "stderr",
     "output_type": "stream",
     "text": [
      "Val Epoch:40: 47it [00:01, 24.27it/s]7)\u001b[0m \n",
      "Val Epoch:40: 39it [00:01, 38.11it/s]\u001b[32m [repeated 19x across cluster]\u001b[0m\n",
      "Val Epoch:31: 0it [00:00, ?it/s]473129)\u001b[0m \n"
     ]
    },
    {
     "name": "stdout",
     "output_type": "stream",
     "text": [
      "\u001b[36m(tune_with_parameters pid=2465477)\u001b[0m loss: 0.203\u001b[32m [repeated 25x across cluster]\u001b[0m\n"
     ]
    },
    {
     "name": "stderr",
     "output_type": "stream",
     "text": [
      "Val Epoch:41: 0it [00:00, ?it/s]465477)\u001b[0m \n"
     ]
    },
    {
     "name": "stdout",
     "output_type": "stream",
     "text": [
      "\u001b[36m(tune_with_parameters pid=2465477)\u001b[0m loss: 0.202\u001b[32m [repeated 21x across cluster]\u001b[0m\n"
     ]
    },
    {
     "name": "stderr",
     "output_type": "stream",
     "text": [
      "Val Epoch:41: 47it [00:01, 29.65it/s]\u001b[32m [repeated 20x across cluster]\u001b[0m\n",
      "Val Epoch:32: 0it [00:00, ?it/s]473129)\u001b[0m \n",
      "Val Epoch:32: 37it [00:01, 39.04it/s]9)\u001b[0m \n",
      "Val Epoch:42: 0it [00:00, ?it/s]465477)\u001b[0m \n"
     ]
    },
    {
     "name": "stdout",
     "output_type": "stream",
     "text": [
      "\u001b[36m(tune_with_parameters pid=2473129)\u001b[0m loss: 0.577\u001b[32m [repeated 18x across cluster]\u001b[0m\n"
     ]
    },
    {
     "name": "stderr",
     "output_type": "stream",
     "text": [
      "Val Epoch:42: 47it [00:01, 31.37it/s]\u001b[32m [repeated 18x across cluster]\u001b[0m\n",
      "Val Epoch:33: 0it [00:00, ?it/s]473129)\u001b[0m \n"
     ]
    },
    {
     "name": "stdout",
     "output_type": "stream",
     "text": [
      "\u001b[36m(tune_with_parameters pid=2465477)\u001b[0m loss: 0.201\u001b[32m [repeated 24x across cluster]\u001b[0m\n"
     ]
    },
    {
     "name": "stderr",
     "output_type": "stream",
     "text": [
      "Val Epoch:43: 0it [00:00, ?it/s]465477)\u001b[0m \n"
     ]
    },
    {
     "name": "stdout",
     "output_type": "stream",
     "text": [
      "\u001b[36m(tune_with_parameters pid=2465477)\u001b[0m loss: 0.198\u001b[32m [repeated 20x across cluster]\u001b[0m\n"
     ]
    },
    {
     "name": "stderr",
     "output_type": "stream",
     "text": [
      "Val Epoch:43: 47it [00:01, 31.80it/s]\u001b[32m [repeated 20x across cluster]\u001b[0m\n",
      "Val Epoch:34: 0it [00:00, ?it/s]473129)\u001b[0m \n",
      "Val Epoch:44: 0it [00:00, ?it/s]465477)\u001b[0m \n"
     ]
    },
    {
     "name": "stdout",
     "output_type": "stream",
     "text": [
      "\u001b[36m(tune_with_parameters pid=2473129)\u001b[0m loss: 0.590\u001b[32m [repeated 18x across cluster]\u001b[0m\n"
     ]
    },
    {
     "name": "stderr",
     "output_type": "stream",
     "text": [
      "Val Epoch:44: 47it [00:01, 36.93it/s]\u001b[32m [repeated 20x across cluster]\u001b[0m\n",
      "Val Epoch:35: 0it [00:00, ?it/s]473129)\u001b[0m \n"
     ]
    },
    {
     "name": "stdout",
     "output_type": "stream",
     "text": [
      "\u001b[36m(tune_with_parameters pid=2473129)\u001b[0m /tmp/tmpe1pqvq7f/checkpoint.pt\n"
     ]
    },
    {
     "name": "stderr",
     "output_type": "stream",
     "text": [
      "\u001b[36m(tune_with_parameters pid=2473129)\u001b[0m Checkpoint successfully created at: Checkpoint(filesystem=local, path=/scratch/users/k23058970/Model training/results/Double Peak LSTM Null/tune_with_parameters_2024-08-19_22-08-05/tune_with_parameters_34c49_00005_5_dp=0.5000,hidden_size=100,lr=0.0025,num_layers=1_2024-08-19_22-08-39/checkpoint_000015)\n",
      "Val Epoch:45: 0it [00:00, ?it/s]465477)\u001b[0m \n"
     ]
    },
    {
     "name": "stdout",
     "output_type": "stream",
     "text": [
      "\u001b[36m(tune_with_parameters pid=2473129)\u001b[0m loss: 0.681\u001b[32m [repeated 24x across cluster]\u001b[0m\n"
     ]
    },
    {
     "name": "stderr",
     "output_type": "stream",
     "text": [
      "Val Epoch:45: 47it [00:01, 33.28it/s]\u001b[32m [repeated 20x across cluster]\u001b[0m\n",
      "Val Epoch:36: 0it [00:00, ?it/s]473129)\u001b[0m \n"
     ]
    },
    {
     "name": "stdout",
     "output_type": "stream",
     "text": [
      "\u001b[36m(tune_with_parameters pid=2465477)\u001b[0m loss: 0.194\u001b[32m [repeated 27x across cluster]\u001b[0m\n"
     ]
    },
    {
     "name": "stderr",
     "output_type": "stream",
     "text": [
      "Val Epoch:46: 0it [00:00, ?it/s]465477)\u001b[0m \n"
     ]
    },
    {
     "name": "stdout",
     "output_type": "stream",
     "text": [
      "\u001b[36m(tune_with_parameters pid=2473129)\u001b[0m loss: 0.581\u001b[32m [repeated 17x across cluster]\u001b[0m\n"
     ]
    },
    {
     "name": "stderr",
     "output_type": "stream",
     "text": [
      "Val Epoch:46: 47it [00:01, 29.57it/s]\u001b[32m [repeated 20x across cluster]\u001b[0m\n",
      "Val Epoch:37: 0it [00:00, ?it/s]473129)\u001b[0m \n",
      "Val Epoch:37: 47it [00:01, 44.75it/s]9)\u001b[0m \n",
      "Val Epoch:47: 0it [00:00, ?it/s]465477)\u001b[0m \n"
     ]
    },
    {
     "name": "stdout",
     "output_type": "stream",
     "text": [
      "\u001b[36m(tune_with_parameters pid=2473129)\u001b[0m loss: 0.576\u001b[32m [repeated 21x across cluster]\u001b[0m\n"
     ]
    },
    {
     "name": "stderr",
     "output_type": "stream",
     "text": [
      "Val Epoch:47: 47it [00:01, 28.89it/s]\u001b[32m [repeated 17x across cluster]\u001b[0m\n",
      "Val Epoch:38: 0it [00:00, ?it/s]473129)\u001b[0m \n"
     ]
    },
    {
     "name": "stdout",
     "output_type": "stream",
     "text": [
      "\u001b[36m(tune_with_parameters pid=2473129)\u001b[0m loss: 0.609\u001b[32m [repeated 25x across cluster]\u001b[0m\n"
     ]
    },
    {
     "name": "stderr",
     "output_type": "stream",
     "text": [
      "Val Epoch:48: 0it [00:00, ?it/s]465477)\u001b[0m \n",
      "Val Epoch:48: 47it [00:01, 28.30it/s]\u001b[32m [repeated 20x across cluster]\u001b[0m\n",
      "Val Epoch:39: 0it [00:00, ?it/s]473129)\u001b[0m \n"
     ]
    },
    {
     "name": "stdout",
     "output_type": "stream",
     "text": [
      "\u001b[36m(tune_with_parameters pid=2465477)\u001b[0m loss: 0.182\u001b[32m [repeated 23x across cluster]\u001b[0m\n"
     ]
    },
    {
     "name": "stderr",
     "output_type": "stream",
     "text": [
      "Val Epoch:49: 0it [00:00, ?it/s]465477)\u001b[0m \n"
     ]
    },
    {
     "name": "stdout",
     "output_type": "stream",
     "text": [
      "\u001b[36m(tune_with_parameters pid=2465477)\u001b[0m loss: 0.190\u001b[32m [repeated 19x across cluster]\u001b[0m\n"
     ]
    },
    {
     "name": "stderr",
     "output_type": "stream",
     "text": [
      "Val Epoch:49: 47it [00:01, 37.51it/s]\u001b[32m [repeated 20x across cluster]\u001b[0m\n"
     ]
    },
    {
     "name": "stdout",
     "output_type": "stream",
     "text": [
      "\u001b[36m(tune_with_parameters pid=2473129)\u001b[0m /tmp/tmpco6h1d57/checkpoint.pt\n"
     ]
    },
    {
     "name": "stderr",
     "output_type": "stream",
     "text": [
      "\u001b[36m(tune_with_parameters pid=2473129)\u001b[0m Checkpoint successfully created at: Checkpoint(filesystem=local, path=/scratch/users/k23058970/Model training/results/Double Peak LSTM Null/tune_with_parameters_2024-08-19_22-08-05/tune_with_parameters_34c49_00005_5_dp=0.5000,hidden_size=100,lr=0.0025,num_layers=1_2024-08-19_22-08-39/checkpoint_000016)\n",
      "Val Epoch:40: 0it [00:00, ?it/s]473129)\u001b[0m \n",
      "Val Epoch:50: 0it [00:00, ?it/s]465477)\u001b[0m \n"
     ]
    },
    {
     "name": "stdout",
     "output_type": "stream",
     "text": [
      "\u001b[36m(tune_with_parameters pid=2473129)\u001b[0m loss: 0.574\u001b[32m [repeated 23x across cluster]\u001b[0m\n",
      "\u001b[36m(tune_with_parameters pid=2465477)\u001b[0m /tmp/tmp4oy94svj/checkpoint.pt\n",
      "\u001b[36m(tune_with_parameters pid=2473129)\u001b[0m \n"
     ]
    },
    {
     "name": "stderr",
     "output_type": "stream",
     "text": [
      "Val Epoch:50: 47it [00:01, 27.84it/s]\u001b[32m [repeated 21x across cluster]\u001b[0m\n",
      "\u001b[36m(tune_with_parameters pid=2465477)\u001b[0m Checkpoint successfully created at: Checkpoint(filesystem=local, path=/scratch/users/k23058970/Model training/results/Double Peak LSTM Null/tune_with_parameters_2024-08-19_22-08-05/tune_with_parameters_34c49_00004_4_dp=0.1000,hidden_size=500,lr=0.0013,num_layers=1_2024-08-19_22-08-39/checkpoint_000023)\n",
      "Val Epoch:41: 0it [00:00, ?it/s]473129)\u001b[0m \n",
      "Val Epoch:41: 42it [00:01, 43.94it/s]9)\u001b[0m \n"
     ]
    },
    {
     "name": "stdout",
     "output_type": "stream",
     "text": [
      "\u001b[36m(tune_with_parameters pid=2465477)\u001b[0m loss: 0.182\u001b[32m [repeated 23x across cluster]\u001b[0m\n"
     ]
    },
    {
     "name": "stderr",
     "output_type": "stream",
     "text": [
      "Val Epoch:51: 0it [00:00, ?it/s]465477)\u001b[0m \n",
      "Val Epoch:51: 39it [00:01, 42.82it/s]\u001b[32m [repeated 16x across cluster]\u001b[0m\n",
      "Val Epoch:51: 47it [00:01, 34.16it/s]7)\u001b[0m \n"
     ]
    },
    {
     "name": "stdout",
     "output_type": "stream",
     "text": [
      "\u001b[36m(tune_with_parameters pid=2465477)\u001b[0m loss: 0.197\u001b[32m [repeated 22x across cluster]\u001b[0m\n"
     ]
    },
    {
     "name": "stderr",
     "output_type": "stream",
     "text": [
      "Val Epoch:42: 0it [00:00, ?it/s]473129)\u001b[0m \n",
      "Val Epoch:52: 0it [00:00, ?it/s]465477)\u001b[0m \n",
      "Val Epoch:52: 22it [00:01, 32.86it/s]\u001b[32m [repeated 14x across cluster]\u001b[0m\n"
     ]
    },
    {
     "name": "stdout",
     "output_type": "stream",
     "text": [
      "\u001b[36m(tune_with_parameters pid=2465477)\u001b[0m loss: 0.193\u001b[32m [repeated 21x across cluster]\u001b[0m\n"
     ]
    },
    {
     "name": "stderr",
     "output_type": "stream",
     "text": [
      "Val Epoch:43: 0it [00:00, ?it/s]473129)\u001b[0m \n",
      "Val Epoch:53: 0it [00:00, ?it/s]465477)\u001b[0m \n",
      "Val Epoch:43: 47it [00:01, 24.59it/s]\u001b[32m [repeated 15x across cluster]\u001b[0m\n"
     ]
    },
    {
     "name": "stdout",
     "output_type": "stream",
     "text": [
      "\u001b[36m(tune_with_parameters pid=2473129)\u001b[0m loss: 0.575\u001b[32m [repeated 24x across cluster]\u001b[0m\n",
      "\u001b[36m(tune_with_parameters pid=2473129)\u001b[0m /tmp/tmp51pgybnu/checkpoint.pt\n"
     ]
    },
    {
     "name": "stderr",
     "output_type": "stream",
     "text": [
      "\u001b[36m(tune_with_parameters pid=2473129)\u001b[0m Checkpoint successfully created at: Checkpoint(filesystem=local, path=/scratch/users/k23058970/Model training/results/Double Peak LSTM Null/tune_with_parameters_2024-08-19_22-08-05/tune_with_parameters_34c49_00005_5_dp=0.5000,hidden_size=100,lr=0.0025,num_layers=1_2024-08-19_22-08-39/checkpoint_000017)\n",
      "Val Epoch:44: 0it [00:00, ?it/s]473129)\u001b[0m \n",
      "Val Epoch:44: 47it [00:01, 26.35it/s]\u001b[32m [repeated 19x across cluster]\u001b[0m\n"
     ]
    },
    {
     "name": "stdout",
     "output_type": "stream",
     "text": [
      "\u001b[36m(tune_with_parameters pid=2465477)\u001b[0m loss: 0.173\u001b[32m [repeated 19x across cluster]\u001b[0m\n"
     ]
    },
    {
     "name": "stderr",
     "output_type": "stream",
     "text": [
      "Val Epoch:54: 0it [00:00, ?it/s]465477)\u001b[0m \n"
     ]
    },
    {
     "name": "stdout",
     "output_type": "stream",
     "text": [
      "\u001b[36m(tune_with_parameters pid=2465477)\u001b[0m loss: 0.172\u001b[32m [repeated 23x across cluster]\u001b[0m\n"
     ]
    },
    {
     "name": "stderr",
     "output_type": "stream",
     "text": [
      "Val Epoch:54: 47it [00:01, 32.55it/s]\u001b[32m [repeated 10x across cluster]\u001b[0m\n",
      "Val Epoch:45: 0it [00:00, ?it/s]473129)\u001b[0m \n",
      "Val Epoch:55: 0it [00:00, ?it/s]465477)\u001b[0m \n"
     ]
    },
    {
     "name": "stdout",
     "output_type": "stream",
     "text": [
      "\u001b[36m(tune_with_parameters pid=2473129)\u001b[0m loss: 0.566\u001b[32m [repeated 18x across cluster]\u001b[0m\n"
     ]
    },
    {
     "name": "stderr",
     "output_type": "stream",
     "text": [
      "Val Epoch:55: 47it [00:01, 30.10it/s]\u001b[32m [repeated 19x across cluster]\u001b[0m\n",
      "Val Epoch:46: 0it [00:00, ?it/s]473129)\u001b[0m \n"
     ]
    },
    {
     "name": "stdout",
     "output_type": "stream",
     "text": [
      "\u001b[36m(tune_with_parameters pid=2465477)\u001b[0m loss: 0.177\u001b[32m [repeated 21x across cluster]\u001b[0m\n"
     ]
    },
    {
     "name": "stderr",
     "output_type": "stream",
     "text": [
      "Val Epoch:56: 0it [00:00, ?it/s]465477)\u001b[0m \n",
      "Val Epoch:46: 47it [00:01, 29.99it/s]\u001b[32m [repeated 9x across cluster]\u001b[0m\n"
     ]
    },
    {
     "name": "stdout",
     "output_type": "stream",
     "text": [
      "\u001b[36m(tune_with_parameters pid=2465477)\u001b[0m /tmp/tmp7qs701b0/checkpoint.pt\n"
     ]
    },
    {
     "name": "stderr",
     "output_type": "stream",
     "text": [
      "\u001b[36m(tune_with_parameters pid=2465477)\u001b[0m Checkpoint successfully created at: Checkpoint(filesystem=local, path=/scratch/users/k23058970/Model training/results/Double Peak LSTM Null/tune_with_parameters_2024-08-19_22-08-05/tune_with_parameters_34c49_00004_4_dp=0.1000,hidden_size=500,lr=0.0013,num_layers=1_2024-08-19_22-08-39/checkpoint_000024)\n"
     ]
    },
    {
     "name": "stdout",
     "output_type": "stream",
     "text": [
      "\u001b[36m(tune_with_parameters pid=2465477)\u001b[0m loss: 0.158\u001b[32m [repeated 23x across cluster]\u001b[0m\n"
     ]
    },
    {
     "name": "stderr",
     "output_type": "stream",
     "text": [
      "Val Epoch:57: 0it [00:00, ?it/s]\u001b[32m [repeated 2x across cluster]\u001b[0m\n",
      "Val Epoch:47: 47it [00:01, 33.39it/s]\u001b[32m [repeated 20x across cluster]\u001b[0m\n"
     ]
    },
    {
     "name": "stdout",
     "output_type": "stream",
     "text": [
      "\u001b[36m(tune_with_parameters pid=2473129)\u001b[0m loss: 0.571\u001b[32m [repeated 23x across cluster]\u001b[0m\n",
      "\u001b[36m(tune_with_parameters pid=2465477)\u001b[0m loss: 0.174\u001b[32m [repeated 24x across cluster]\u001b[0m\n"
     ]
    },
    {
     "name": "stderr",
     "output_type": "stream",
     "text": [
      "Val Epoch:58: 0it [00:00, ?it/s]\u001b[32m [repeated 2x across cluster]\u001b[0m\n",
      "Val Epoch:48: 47it [00:01, 34.28it/s]\u001b[32m [repeated 20x across cluster]\u001b[0m\n"
     ]
    },
    {
     "name": "stdout",
     "output_type": "stream",
     "text": [
      "\u001b[36m(tune_with_parameters pid=2465477)\u001b[0m loss: 0.174\u001b[32m [repeated 16x across cluster]\u001b[0m\n"
     ]
    },
    {
     "name": "stderr",
     "output_type": "stream",
     "text": [
      "Val Epoch:59: 0it [00:00, ?it/s]\u001b[32m [repeated 2x across cluster]\u001b[0m\n",
      "Val Epoch:49: 47it [00:01, 27.42it/s]\u001b[32m [repeated 20x across cluster]\u001b[0m\n"
     ]
    },
    {
     "name": "stdout",
     "output_type": "stream",
     "text": [
      "\u001b[36m(tune_with_parameters pid=2465477)\u001b[0m loss: 0.117\u001b[32m [repeated 23x across cluster]\u001b[0m\n"
     ]
    },
    {
     "name": "stderr",
     "output_type": "stream",
     "text": [
      "Val Epoch:60: 0it [00:00, ?it/s]\u001b[32m [repeated 2x across cluster]\u001b[0m\n",
      "Val Epoch:50: 47it [00:01, 24.74it/s]\u001b[32m [repeated 21x across cluster]\u001b[0m\n"
     ]
    },
    {
     "name": "stdout",
     "output_type": "stream",
     "text": [
      "\u001b[36m(tune_with_parameters pid=2473129)\u001b[0m loss: 0.570\u001b[32m [repeated 26x across cluster]\u001b[0m\n",
      "\u001b[36m(tune_with_parameters pid=2465477)\u001b[0m loss: 0.178\u001b[32m [repeated 14x across cluster]\u001b[0m\n"
     ]
    },
    {
     "name": "stderr",
     "output_type": "stream",
     "text": [
      "Val Epoch:61: 0it [00:00, ?it/s]\u001b[32m [repeated 2x across cluster]\u001b[0m\n",
      "Val Epoch:51: 47it [00:01, 30.66it/s]\u001b[32m [repeated 20x across cluster]\u001b[0m\n"
     ]
    },
    {
     "name": "stdout",
     "output_type": "stream",
     "text": [
      "\u001b[36m(tune_with_parameters pid=2465477)\u001b[0m loss: 0.086\u001b[32m [repeated 20x across cluster]\u001b[0m\n"
     ]
    },
    {
     "name": "stderr",
     "output_type": "stream",
     "text": [
      "Val Epoch:62: 0it [00:00, ?it/s]\u001b[32m [repeated 2x across cluster]\u001b[0m\n",
      "Val Epoch:52: 47it [00:02, 22.19it/s]\u001b[32m [repeated 23x across cluster]\u001b[0m\n"
     ]
    },
    {
     "name": "stdout",
     "output_type": "stream",
     "text": [
      "\u001b[36m(tune_with_parameters pid=2473129)\u001b[0m loss: 0.561\u001b[32m [repeated 27x across cluster]\u001b[0m\n"
     ]
    },
    {
     "name": "stderr",
     "output_type": "stream",
     "text": [
      "Val Epoch:53: 47it [00:02, 17.82it/s]9)\u001b[0m \n"
     ]
    },
    {
     "name": "stdout",
     "output_type": "stream",
     "text": [
      "\u001b[36m(tune_with_parameters pid=2465477)\u001b[0m loss: 0.176\u001b[32m [repeated 16x across cluster]\u001b[0m\n"
     ]
    },
    {
     "name": "stderr",
     "output_type": "stream",
     "text": [
      "Val Epoch:63: 0it [00:00, ?it/s]\u001b[32m [repeated 2x across cluster]\u001b[0m\n",
      "Val Epoch:53: 40it [00:02, 31.57it/s]\u001b[32m [repeated 18x across cluster]\u001b[0m\n",
      "Val Epoch:54: 18it [00:01, 20.78it/s]9)\u001b[0m \n"
     ]
    },
    {
     "name": "stdout",
     "output_type": "stream",
     "text": [
      "\u001b[36m(tune_with_parameters pid=2465477)\u001b[0m loss: 0.163\u001b[32m [repeated 21x across cluster]\u001b[0m\n"
     ]
    },
    {
     "name": "stderr",
     "output_type": "stream",
     "text": [
      "Val Epoch:64: 0it [00:00, ?it/s]\u001b[32m [repeated 2x across cluster]\u001b[0m\n",
      "Val Epoch:54: 47it [00:01, 23.85it/s]\u001b[32m [repeated 19x across cluster]\u001b[0m\n"
     ]
    },
    {
     "name": "stdout",
     "output_type": "stream",
     "text": [
      "\u001b[36m(tune_with_parameters pid=2465477)\u001b[0m loss: 0.174\u001b[32m [repeated 26x across cluster]\u001b[0m\n"
     ]
    },
    {
     "name": "stderr",
     "output_type": "stream",
     "text": [
      "Val Epoch:65: 0it [00:00, ?it/s]\u001b[32m [repeated 2x across cluster]\u001b[0m\n",
      "Val Epoch:55: 47it [00:01, 25.68it/s]\u001b[32m [repeated 19x across cluster]\u001b[0m\n"
     ]
    },
    {
     "name": "stdout",
     "output_type": "stream",
     "text": [
      "\u001b[36m(tune_with_parameters pid=2473129)\u001b[0m loss: 0.566\u001b[32m [repeated 26x across cluster]\u001b[0m\n",
      "\u001b[36m(tune_with_parameters pid=2473129)\u001b[0m loss: 0.570\u001b[32m [repeated 17x across cluster]\u001b[0m\n"
     ]
    },
    {
     "name": "stderr",
     "output_type": "stream",
     "text": [
      "Val Epoch:66: 0it [00:00, ?it/s]\u001b[32m [repeated 2x across cluster]\u001b[0m\n",
      "Val Epoch:56: 47it [00:02, 21.46it/s]\u001b[32m [repeated 23x across cluster]\u001b[0m\n"
     ]
    },
    {
     "name": "stdout",
     "output_type": "stream",
     "text": [
      "\u001b[36m(tune_with_parameters pid=2465477)\u001b[0m /tmp/tmpwgzvu5f2/checkpoint.pt\n"
     ]
    },
    {
     "name": "stderr",
     "output_type": "stream",
     "text": [
      "\u001b[36m(tune_with_parameters pid=2465477)\u001b[0m Checkpoint successfully created at: Checkpoint(filesystem=local, path=/scratch/users/k23058970/Model training/results/Double Peak LSTM Null/tune_with_parameters_2024-08-19_22-08-05/tune_with_parameters_34c49_00004_4_dp=0.1000,hidden_size=500,lr=0.0013,num_layers=1_2024-08-19_22-08-39/checkpoint_000025)\n"
     ]
    },
    {
     "name": "stdout",
     "output_type": "stream",
     "text": [
      "\u001b[36m(tune_with_parameters pid=2465477)\u001b[0m loss: 0.164\u001b[32m [repeated 18x across cluster]\u001b[0m\n"
     ]
    },
    {
     "name": "stderr",
     "output_type": "stream",
     "text": [
      "Val Epoch:67: 0it [00:00, ?it/s]\u001b[32m [repeated 2x across cluster]\u001b[0m\n",
      "Val Epoch:57: 47it [00:02, 18.51it/s]\u001b[32m [repeated 20x across cluster]\u001b[0m\n"
     ]
    },
    {
     "name": "stdout",
     "output_type": "stream",
     "text": [
      "\u001b[36m(tune_with_parameters pid=2473129)\u001b[0m loss: 0.565\u001b[32m [repeated 28x across cluster]\u001b[0m\n",
      "\u001b[36m(tune_with_parameters pid=2473129)\u001b[0m loss: 0.561\u001b[32m [repeated 17x across cluster]\u001b[0m\n"
     ]
    },
    {
     "name": "stderr",
     "output_type": "stream",
     "text": [
      "Val Epoch:68: 0it [00:00, ?it/s]\u001b[32m [repeated 2x across cluster]\u001b[0m\n",
      "Val Epoch:58: 47it [00:02, 21.91it/s]\u001b[32m [repeated 20x across cluster]\u001b[0m\n"
     ]
    },
    {
     "name": "stdout",
     "output_type": "stream",
     "text": [
      "\u001b[36m(tune_with_parameters pid=2465477)\u001b[0m loss: 0.164\u001b[32m [repeated 17x across cluster]\u001b[0m\n"
     ]
    },
    {
     "name": "stderr",
     "output_type": "stream",
     "text": [
      "Val Epoch:69: 0it [00:00, ?it/s]\u001b[32m [repeated 2x across cluster]\u001b[0m\n",
      "Val Epoch:59: 47it [00:02, 18.50it/s]\u001b[32m [repeated 21x across cluster]\u001b[0m\n",
      "Val Epoch:69: 30it [00:01, 41.43it/s]7)\u001b[0m \n"
     ]
    },
    {
     "name": "stdout",
     "output_type": "stream",
     "text": [
      "\u001b[36m(tune_with_parameters pid=2465477)\u001b[0m loss: 0.089\u001b[32m [repeated 27x across cluster]\u001b[0m\n"
     ]
    },
    {
     "name": "stderr",
     "output_type": "stream",
     "text": [
      "Val Epoch:70: 0it [00:00, ?it/s]\u001b[32m [repeated 2x across cluster]\u001b[0m\n",
      "Val Epoch:60: 47it [00:01, 24.85it/s]\u001b[32m [repeated 18x across cluster]\u001b[0m\n"
     ]
    },
    {
     "name": "stdout",
     "output_type": "stream",
     "text": [
      "\u001b[36m(tune_with_parameters pid=2473129)\u001b[0m loss: 0.559\u001b[32m [repeated 29x across cluster]\u001b[0m\n",
      "\u001b[36m(tune_with_parameters pid=2465477)\u001b[0m loss: 0.150\u001b[32m [repeated 20x across cluster]\u001b[0m\n"
     ]
    },
    {
     "name": "stderr",
     "output_type": "stream",
     "text": [
      "Val Epoch:71: 0it [00:00, ?it/s]\u001b[32m [repeated 2x across cluster]\u001b[0m\n",
      "Val Epoch:61: 47it [00:02, 20.86it/s]\u001b[32m [repeated 19x across cluster]\u001b[0m\n"
     ]
    },
    {
     "name": "stdout",
     "output_type": "stream",
     "text": [
      "\u001b[36m(tune_with_parameters pid=2473129)\u001b[0m loss: 0.485\u001b[32m [repeated 15x across cluster]\u001b[0m\n"
     ]
    },
    {
     "name": "stderr",
     "output_type": "stream",
     "text": [
      "Val Epoch:72: 0it [00:00, ?it/s]\u001b[32m [repeated 2x across cluster]\u001b[0m\n",
      "Val Epoch:62: 47it [00:02, 19.83it/s]\u001b[32m [repeated 22x across cluster]\u001b[0m\n"
     ]
    },
    {
     "name": "stdout",
     "output_type": "stream",
     "text": [
      "\u001b[36m(tune_with_parameters pid=2465477)\u001b[0m loss: 0.156\u001b[32m [repeated 26x across cluster]\u001b[0m\n"
     ]
    },
    {
     "name": "stderr",
     "output_type": "stream",
     "text": [
      "Val Epoch:73: 0it [00:00, ?it/s]\u001b[32m [repeated 2x across cluster]\u001b[0m\n",
      "Val Epoch:63: 47it [00:01, 25.39it/s]\u001b[32m [repeated 19x across cluster]\u001b[0m\n"
     ]
    },
    {
     "name": "stdout",
     "output_type": "stream",
     "text": [
      "\u001b[36m(tune_with_parameters pid=2473129)\u001b[0m loss: 0.554\u001b[32m [repeated 28x across cluster]\u001b[0m\n",
      "\u001b[36m(tune_with_parameters pid=2473129)\u001b[0m loss: 0.556\u001b[32m [repeated 10x across cluster]\u001b[0m\n"
     ]
    },
    {
     "name": "stderr",
     "output_type": "stream",
     "text": [
      "Val Epoch:65: 0it [00:00, ?it/s]\u001b[32m [repeated 2x across cluster]\u001b[0m\n",
      "Val Epoch:64: 47it [00:00, 47.02it/s]\u001b[32m [repeated 16x across cluster]\u001b[0m\n"
     ]
    },
    {
     "name": "stdout",
     "output_type": "stream",
     "text": [
      "\u001b[36m(tune_with_parameters pid=2473129)\u001b[0m loss: 0.558\u001b[32m [repeated 16x across cluster]\u001b[0m\n"
     ]
    },
    {
     "name": "stderr",
     "output_type": "stream",
     "text": [
      "Val Epoch:66: 0it [00:00, ?it/s]473129)\u001b[0m \n",
      "Val Epoch:65: 47it [00:00, 58.53it/s]\u001b[32m [repeated 7x across cluster]\u001b[0m\n"
     ]
    },
    {
     "name": "stdout",
     "output_type": "stream",
     "text": [
      "\u001b[36m(tune_with_parameters pid=2473129)\u001b[0m loss: 0.549\u001b[32m [repeated 7x across cluster]\u001b[0m\n"
     ]
    },
    {
     "name": "stderr",
     "output_type": "stream",
     "text": [
      "\u001b[36m(tune_with_parameters pid=2530226)\u001b[0m /users/k23058970/miniforge3/envs/Training/lib/python3.10/site-packages/torch/nn/modules/lazy.py:181: UserWarning: Lazy modules are a new feature under heavy development so changes to the API or functionality can happen at any moment.\n",
      "\u001b[36m(tune_with_parameters pid=2530226)\u001b[0m   warnings.warn('Lazy modules are a new feature under heavy development '\n",
      "Val Epoch:67: 0it [00:00, ?it/s]473129)\u001b[0m \n",
      "Val Epoch:66: 47it [00:02, 22.30it/s]\u001b[32m [repeated 11x across cluster]\u001b[0m\n",
      "Val Epoch:67: 47it [00:01, 30.03it/s]9)\u001b[0m \n"
     ]
    },
    {
     "name": "stdout",
     "output_type": "stream",
     "text": [
      "\u001b[36m(tune_with_parameters pid=2473129)\u001b[0m loss: 0.571\u001b[32m [repeated 14x across cluster]\u001b[0m\n"
     ]
    },
    {
     "name": "stderr",
     "output_type": "stream",
     "text": [
      "Val Epoch:68: 0it [00:00, ?it/s]473129)\u001b[0m \n",
      "Val Epoch:67: 36it [00:01, 46.32it/s]\u001b[32m [repeated 7x across cluster]\u001b[0m\n"
     ]
    },
    {
     "name": "stdout",
     "output_type": "stream",
     "text": [
      "\u001b[36m(tune_with_parameters pid=2530226)\u001b[0m loss: 1.101\u001b[32m [repeated 27x across cluster]\u001b[0m\n"
     ]
    },
    {
     "name": "stderr",
     "output_type": "stream",
     "text": [
      "Val Epoch:0: 0it [00:00, ?it/s]2530226)\u001b[0m \n",
      "\u001b[36m(tune_with_parameters pid=2530226)\u001b[0m /scratch/users/k23058970/Model training/training_insilico_lstm.py:63: RuntimeWarning: invalid value encountered in divide\n",
      "\u001b[36m(tune_with_parameters pid=2530226)\u001b[0m   self.precision = self.tp/(self.tp + self.fp)\n",
      "\u001b[36m(tune_with_parameters pid=2530226)\u001b[0m Checkpoint successfully created at: Checkpoint(filesystem=local, path=/scratch/users/k23058970/Model training/results/Double Peak LSTM Null/tune_with_parameters_2024-08-19_22-08-05/tune_with_parameters_34c49_00006_6_dp=0.2000,hidden_size=400,lr=0.0013,num_layers=3_2024-08-19_22-08-39/checkpoint_000000)\n"
     ]
    },
    {
     "name": "stdout",
     "output_type": "stream",
     "text": [
      "\u001b[36m(tune_with_parameters pid=2530226)\u001b[0m /tmp/tmp2gn02djx/checkpoint.pt\n",
      "\u001b[36m(tune_with_parameters pid=2530226)\u001b[0m loss: 1.103\u001b[32m [repeated 17x across cluster]\u001b[0m\n"
     ]
    },
    {
     "name": "stderr",
     "output_type": "stream",
     "text": [
      "Val Epoch:0: 47it [00:01, 25.47it/s]\u001b[32m [repeated 18x across cluster]\u001b[0m\n",
      "Val Epoch:69: 0it [00:00, ?it/s]473129)\u001b[0m \n",
      "Val Epoch:1: 0it [00:00, ?it/s]2530226)\u001b[0m \n"
     ]
    },
    {
     "name": "stdout",
     "output_type": "stream",
     "text": [
      "\u001b[36m(tune_with_parameters pid=2473129)\u001b[0m loss: 0.564\u001b[32m [repeated 20x across cluster]\u001b[0m\n",
      "\u001b[36m(tune_with_parameters pid=2530226)\u001b[0m /tmp/tmpn4meyzq4/checkpoint.pt\n"
     ]
    },
    {
     "name": "stderr",
     "output_type": "stream",
     "text": [
      "\u001b[36m(tune_with_parameters pid=2530226)\u001b[0m Checkpoint successfully created at: Checkpoint(filesystem=local, path=/scratch/users/k23058970/Model training/results/Double Peak LSTM Null/tune_with_parameters_2024-08-19_22-08-05/tune_with_parameters_34c49_00006_6_dp=0.2000,hidden_size=400,lr=0.0013,num_layers=3_2024-08-19_22-08-39/checkpoint_000001)\n",
      "Val Epoch:1: 47it [00:02, 22.88it/s]\u001b[32m [repeated 21x across cluster]\u001b[0m\n",
      "Val Epoch:70: 0it [00:00, ?it/s]473129)\u001b[0m \n"
     ]
    },
    {
     "name": "stdout",
     "output_type": "stream",
     "text": [
      "\u001b[36m(tune_with_parameters pid=2530226)\u001b[0m loss: 1.100\u001b[32m [repeated 24x across cluster]\u001b[0m\n"
     ]
    },
    {
     "name": "stderr",
     "output_type": "stream",
     "text": [
      "Val Epoch:2: 0it [00:00, ?it/s]2530226)\u001b[0m \n"
     ]
    },
    {
     "name": "stdout",
     "output_type": "stream",
     "text": [
      "\u001b[36m(tune_with_parameters pid=2530226)\u001b[0m loss: 1.100\u001b[32m [repeated 21x across cluster]\u001b[0m\n"
     ]
    },
    {
     "name": "stderr",
     "output_type": "stream",
     "text": [
      "Val Epoch:2: 47it [00:01, 32.73it/s]\u001b[32m [repeated 20x across cluster]\u001b[0m\n",
      "Val Epoch:71: 0it [00:00, ?it/s]473129)\u001b[0m \n",
      "Val Epoch:3: 0it [00:00, ?it/s]2530226)\u001b[0m \n"
     ]
    },
    {
     "name": "stdout",
     "output_type": "stream",
     "text": [
      "\u001b[36m(tune_with_parameters pid=2473129)\u001b[0m loss: 0.538\u001b[32m [repeated 16x across cluster]\u001b[0m\n",
      "\u001b[36m(tune_with_parameters pid=2530226)\u001b[0m /tmp/tmp571niodc/checkpoint.pt\n"
     ]
    },
    {
     "name": "stderr",
     "output_type": "stream",
     "text": [
      "\u001b[36m(tune_with_parameters pid=2530226)\u001b[0m Checkpoint successfully created at: Checkpoint(filesystem=local, path=/scratch/users/k23058970/Model training/results/Double Peak LSTM Null/tune_with_parameters_2024-08-19_22-08-05/tune_with_parameters_34c49_00006_6_dp=0.2000,hidden_size=400,lr=0.0013,num_layers=3_2024-08-19_22-08-39/checkpoint_000002)\n",
      "Val Epoch:3: 47it [00:01, 32.39it/s]\u001b[32m [repeated 20x across cluster]\u001b[0m\n",
      "Val Epoch:72: 0it [00:00, ?it/s]473129)\u001b[0m \n"
     ]
    },
    {
     "name": "stdout",
     "output_type": "stream",
     "text": [
      "\u001b[36m(tune_with_parameters pid=2530226)\u001b[0m loss: 1.099\u001b[32m [repeated 22x across cluster]\u001b[0m\n"
     ]
    },
    {
     "name": "stderr",
     "output_type": "stream",
     "text": [
      "Val Epoch:4: 0it [00:00, ?it/s]2530226)\u001b[0m \n",
      "Val Epoch:4: 46it [00:01, 48.23it/s]\u001b[32m [repeated 19x across cluster]\u001b[0m\n"
     ]
    },
    {
     "name": "stdout",
     "output_type": "stream",
     "text": [
      "\u001b[36m(tune_with_parameters pid=2530226)\u001b[0m /tmp/tmpyomd4ryq/checkpoint.pt\n"
     ]
    },
    {
     "name": "stderr",
     "output_type": "stream",
     "text": [
      "\u001b[36m(tune_with_parameters pid=2530226)\u001b[0m Checkpoint successfully created at: Checkpoint(filesystem=local, path=/scratch/users/k23058970/Model training/results/Double Peak LSTM Null/tune_with_parameters_2024-08-19_22-08-05/tune_with_parameters_34c49_00006_6_dp=0.2000,hidden_size=400,lr=0.0013,num_layers=3_2024-08-19_22-08-39/checkpoint_000003)\n"
     ]
    },
    {
     "name": "stdout",
     "output_type": "stream",
     "text": [
      "\u001b[36m(tune_with_parameters pid=2530226)\u001b[0m loss: 1.099\u001b[32m [repeated 22x across cluster]\u001b[0m\n"
     ]
    },
    {
     "name": "stderr",
     "output_type": "stream",
     "text": [
      "Val Epoch:73: 0it [00:00, ?it/s]473129)\u001b[0m \n",
      "Val Epoch:5: 0it [00:00, ?it/s]2530226)\u001b[0m \n",
      "Val Epoch:73: 47it [00:01, 36.12it/s]\u001b[32m [repeated 11x across cluster]\u001b[0m\n"
     ]
    },
    {
     "name": "stdout",
     "output_type": "stream",
     "text": [
      "\u001b[36m(tune_with_parameters pid=2530226)\u001b[0m /tmp/tmp87ky91de/checkpoint.pt\n",
      "\u001b[36m(tune_with_parameters pid=2473129)\u001b[0m loss: 0.557\u001b[32m [repeated 21x across cluster]\u001b[0m\n"
     ]
    },
    {
     "name": "stderr",
     "output_type": "stream",
     "text": [
      "\u001b[36m(tune_with_parameters pid=2530226)\u001b[0m Checkpoint successfully created at: Checkpoint(filesystem=local, path=/scratch/users/k23058970/Model training/results/Double Peak LSTM Null/tune_with_parameters_2024-08-19_22-08-05/tune_with_parameters_34c49_00006_6_dp=0.2000,hidden_size=400,lr=0.0013,num_layers=3_2024-08-19_22-08-39/checkpoint_000004)\n",
      "Val Epoch:74: 0it [00:00, ?it/s]473129)\u001b[0m \n",
      "Val Epoch:74: 47it [00:01, 36.02it/s]\u001b[32m [repeated 19x across cluster]\u001b[0m\n"
     ]
    },
    {
     "name": "stdout",
     "output_type": "stream",
     "text": [
      "\u001b[36m(tune_with_parameters pid=2530226)\u001b[0m loss: 1.099\u001b[32m [repeated 19x across cluster]\u001b[0m\n"
     ]
    },
    {
     "name": "stderr",
     "output_type": "stream",
     "text": [
      "Val Epoch:6: 0it [00:00, ?it/s]2530226)\u001b[0m \n"
     ]
    },
    {
     "name": "stdout",
     "output_type": "stream",
     "text": [
      "\u001b[36m(tune_with_parameters pid=2530226)\u001b[0m /tmp/tmpx7eokphu/checkpoint.pt\n"
     ]
    },
    {
     "name": "stderr",
     "output_type": "stream",
     "text": [
      "\u001b[36m(tune_with_parameters pid=2530226)\u001b[0m Checkpoint successfully created at: Checkpoint(filesystem=local, path=/scratch/users/k23058970/Model training/results/Double Peak LSTM Null/tune_with_parameters_2024-08-19_22-08-05/tune_with_parameters_34c49_00006_6_dp=0.2000,hidden_size=400,lr=0.0013,num_layers=3_2024-08-19_22-08-39/checkpoint_000005)\n",
      "Val Epoch:6: 47it [00:02, 23.39it/s]\u001b[32m [repeated 9x across cluster]\u001b[0m\n"
     ]
    },
    {
     "name": "stdout",
     "output_type": "stream",
     "text": [
      "\u001b[36m(tune_with_parameters pid=2530226)\u001b[0m loss: 1.098\u001b[32m [repeated 20x across cluster]\u001b[0m\n"
     ]
    },
    {
     "name": "stderr",
     "output_type": "stream",
     "text": [
      "Val Epoch:75: 0it [00:00, ?it/s]473129)\u001b[0m \n",
      "Val Epoch:7: 0it [00:00, ?it/s]2530226)\u001b[0m \n",
      "Val Epoch:7: 15it [00:00, 25.73it/s]\u001b[32m [repeated 14x across cluster]\u001b[0m\n"
     ]
    },
    {
     "name": "stdout",
     "output_type": "stream",
     "text": [
      "\u001b[36m(tune_with_parameters pid=2473129)\u001b[0m loss: 0.560\u001b[32m [repeated 21x across cluster]\u001b[0m\n",
      "\u001b[36m(tune_with_parameters pid=2530226)\u001b[0m /tmp/tmpees_ho6_/checkpoint.pt\n"
     ]
    },
    {
     "name": "stderr",
     "output_type": "stream",
     "text": [
      "\u001b[36m(tune_with_parameters pid=2530226)\u001b[0m Checkpoint successfully created at: Checkpoint(filesystem=local, path=/scratch/users/k23058970/Model training/results/Double Peak LSTM Null/tune_with_parameters_2024-08-19_22-08-05/tune_with_parameters_34c49_00006_6_dp=0.2000,hidden_size=400,lr=0.0013,num_layers=3_2024-08-19_22-08-39/checkpoint_000006)\n",
      "Val Epoch:76: 47it [00:01, 25.34it/s]9)\u001b[0m \n"
     ]
    },
    {
     "name": "stdout",
     "output_type": "stream",
     "text": [
      "\u001b[36m(tune_with_parameters pid=2473129)\u001b[0m loss: 0.558\u001b[32m [repeated 9x across cluster]\u001b[0m\n"
     ]
    },
    {
     "name": "stderr",
     "output_type": "stream",
     "text": [
      "Val Epoch:77: 0it [00:00, ?it/s]\u001b[32m [repeated 2x across cluster]\u001b[0m\n",
      "Val Epoch:76: 40it [00:01, 41.52it/s]\u001b[32m [repeated 15x across cluster]\u001b[0m\n"
     ]
    },
    {
     "name": "stdout",
     "output_type": "stream",
     "text": [
      "\u001b[36m(tune_with_parameters pid=2473129)\u001b[0m loss: 0.550\u001b[32m [repeated 14x across cluster]\u001b[0m\n"
     ]
    },
    {
     "name": "stderr",
     "output_type": "stream",
     "text": [
      "Val Epoch:78: 0it [00:00, ?it/s]473129)\u001b[0m \n",
      "Val Epoch:77: 47it [00:01, 42.49it/s]\u001b[32m [repeated 8x across cluster]\u001b[0m\n"
     ]
    },
    {
     "name": "stdout",
     "output_type": "stream",
     "text": [
      "\u001b[36m(tune_with_parameters pid=2473129)\u001b[0m loss: 0.502\u001b[32m [repeated 12x across cluster]\u001b[0m\n"
     ]
    },
    {
     "name": "stderr",
     "output_type": "stream",
     "text": [
      "\u001b[36m(tune_with_parameters pid=2539037)\u001b[0m /users/k23058970/miniforge3/envs/Training/lib/python3.10/site-packages/torch/nn/modules/lazy.py:181: UserWarning: Lazy modules are a new feature under heavy development so changes to the API or functionality can happen at any moment.\n",
      "\u001b[36m(tune_with_parameters pid=2539037)\u001b[0m   warnings.warn('Lazy modules are a new feature under heavy development '\n",
      "Val Epoch:79: 0it [00:00, ?it/s]473129)\u001b[0m \n",
      "Val Epoch:78: 47it [00:01, 27.72it/s]\u001b[32m [repeated 10x across cluster]\u001b[0m\n",
      "Val Epoch:79: 41it [00:01, 21.45it/s]9)\u001b[0m \n"
     ]
    },
    {
     "name": "stdout",
     "output_type": "stream",
     "text": [
      "\u001b[36m(tune_with_parameters pid=2473129)\u001b[0m loss: 0.579\u001b[32m [repeated 15x across cluster]\u001b[0m\n"
     ]
    },
    {
     "name": "stderr",
     "output_type": "stream",
     "text": [
      "Val Epoch:0: 0it [00:00, ?it/s]2539037)\u001b[0m \n",
      "Val Epoch:79: 47it [00:01, 26.32it/s]\u001b[32m [repeated 6x across cluster]\u001b[0m\n",
      "Val Epoch:80: 0it [00:00, ?it/s]473129)\u001b[0m \n",
      "\u001b[36m(tune_with_parameters pid=2539037)\u001b[0m /scratch/users/k23058970/Model training/training_insilico_lstm.py:63: RuntimeWarning: invalid value encountered in divide\n",
      "\u001b[36m(tune_with_parameters pid=2539037)\u001b[0m   self.precision = self.tp/(self.tp + self.fp)\n",
      "\u001b[36m(tune_with_parameters pid=2539037)\u001b[0m Checkpoint successfully created at: Checkpoint(filesystem=local, path=/scratch/users/k23058970/Model training/results/Double Peak LSTM Null/tune_with_parameters_2024-08-19_22-08-05/tune_with_parameters_34c49_00007_7_dp=0.1000,hidden_size=100,lr=0.0042,num_layers=3_2024-08-19_22-08-39/checkpoint_000000)\n"
     ]
    },
    {
     "name": "stdout",
     "output_type": "stream",
     "text": [
      "\u001b[36m(tune_with_parameters pid=2539037)\u001b[0m /tmp/tmpp1qpl26g/checkpoint.pt\n",
      "\u001b[36m(tune_with_parameters pid=2473129)\u001b[0m loss: 0.568\u001b[32m [repeated 29x across cluster]\u001b[0m\n"
     ]
    },
    {
     "name": "stderr",
     "output_type": "stream",
     "text": [
      "Val Epoch:81: 0it [00:00, ?it/s]473129)\u001b[0m \n",
      "Val Epoch:80: 47it [00:01, 34.61it/s]\u001b[32m [repeated 23x across cluster]\u001b[0m\n",
      "Val Epoch:1: 0it [00:00, ?it/s]2539037)\u001b[0m \n"
     ]
    },
    {
     "name": "stdout",
     "output_type": "stream",
     "text": [
      "\u001b[36m(tune_with_parameters pid=2539037)\u001b[0m /tmp/tmp6wfvj1fi/checkpoint.pt\n",
      "\u001b[36m(tune_with_parameters pid=2539037)\u001b[0m loss: 1.100\u001b[32m [repeated 30x across cluster]\u001b[0m\n"
     ]
    },
    {
     "name": "stderr",
     "output_type": "stream",
     "text": [
      "\u001b[36m(tune_with_parameters pid=2539037)\u001b[0m Checkpoint successfully created at: Checkpoint(filesystem=local, path=/scratch/users/k23058970/Model training/results/Double Peak LSTM Null/tune_with_parameters_2024-08-19_22-08-05/tune_with_parameters_34c49_00007_7_dp=0.1000,hidden_size=100,lr=0.0042,num_layers=3_2024-08-19_22-08-39/checkpoint_000001)\n",
      "Val Epoch:2: 0it [00:00, ?it/s]2539037)\u001b[0m \n",
      "Val Epoch:1: 47it [00:01, 33.99it/s]\u001b[32m [repeated 19x across cluster]\u001b[0m\n"
     ]
    },
    {
     "name": "stdout",
     "output_type": "stream",
     "text": [
      "\u001b[36m(tune_with_parameters pid=2539037)\u001b[0m loss: 1.101\u001b[32m [repeated 16x across cluster]\u001b[0m\n"
     ]
    },
    {
     "name": "stderr",
     "output_type": "stream",
     "text": [
      "Val Epoch:3: 0it [00:00, ?it/s]2539037)\u001b[0m \n",
      "Val Epoch:2: 47it [00:01, 40.43it/s]\u001b[32m [repeated 8x across cluster]\u001b[0m\n"
     ]
    },
    {
     "name": "stdout",
     "output_type": "stream",
     "text": [
      "\u001b[36m(tune_with_parameters pid=2539037)\u001b[0m loss: 1.097\u001b[32m [repeated 15x across cluster]\u001b[0m\n"
     ]
    },
    {
     "name": "stderr",
     "output_type": "stream",
     "text": [
      "\u001b[36m(tune_with_parameters pid=2542840)\u001b[0m /users/k23058970/miniforge3/envs/Training/lib/python3.10/site-packages/torch/nn/modules/lazy.py:181: UserWarning: Lazy modules are a new feature under heavy development so changes to the API or functionality can happen at any moment.\n",
      "\u001b[36m(tune_with_parameters pid=2542840)\u001b[0m   warnings.warn('Lazy modules are a new feature under heavy development '\n",
      "Val Epoch:4: 0it [00:00, ?it/s]2539037)\u001b[0m \n",
      "Val Epoch:3: 47it [00:01, 23.75it/s]\u001b[32m [repeated 11x across cluster]\u001b[0m\n"
     ]
    },
    {
     "name": "stdout",
     "output_type": "stream",
     "text": [
      "\u001b[36m(tune_with_parameters pid=2539037)\u001b[0m loss: 1.092\u001b[32m [repeated 15x across cluster]\u001b[0m\n"
     ]
    },
    {
     "name": "stderr",
     "output_type": "stream",
     "text": [
      "Val Epoch:5: 0it [00:00, ?it/s]2539037)\u001b[0m \n",
      "Val Epoch:4: 47it [00:01, 39.41it/s]\u001b[32m [repeated 8x across cluster]\u001b[0m\n"
     ]
    },
    {
     "name": "stdout",
     "output_type": "stream",
     "text": [
      "\u001b[36m(tune_with_parameters pid=2539037)\u001b[0m loss: 1.104\u001b[32m [repeated 30x across cluster]\u001b[0m\n",
      "\u001b[36m(tune_with_parameters pid=2542840)\u001b[0m /tmp/tmp5u3vihym/checkpoint.pt\n"
     ]
    },
    {
     "name": "stderr",
     "output_type": "stream",
     "text": [
      "\u001b[36m(tune_with_parameters pid=2542840)\u001b[0m Checkpoint successfully created at: Checkpoint(filesystem=local, path=/scratch/users/k23058970/Model training/results/Double Peak LSTM Null/tune_with_parameters_2024-08-19_22-08-05/tune_with_parameters_34c49_00008_8_dp=0.5000,hidden_size=200,lr=0.0718,num_layers=1_2024-08-19_22-08-39/checkpoint_000000)\n",
      "Val Epoch:6: 0it [00:00, ?it/s]\u001b[32m [repeated 2x across cluster]\u001b[0m\n",
      "Val Epoch:0: 47it [00:01, 27.80it/s]\u001b[32m [repeated 19x across cluster]\u001b[0m\n"
     ]
    },
    {
     "name": "stdout",
     "output_type": "stream",
     "text": [
      "\u001b[36m(tune_with_parameters pid=2539037)\u001b[0m /tmp/tmploqaldr5/checkpoint.pt\n",
      "\u001b[36m(tune_with_parameters pid=2542840)\u001b[0m loss: 0.573\u001b[32m [repeated 29x across cluster]\u001b[0m\n"
     ]
    },
    {
     "name": "stderr",
     "output_type": "stream",
     "text": [
      "\u001b[36m(tune_with_parameters pid=2539037)\u001b[0m Checkpoint successfully created at: Checkpoint(filesystem=local, path=/scratch/users/k23058970/Model training/results/Double Peak LSTM Null/tune_with_parameters_2024-08-19_22-08-05/tune_with_parameters_34c49_00007_7_dp=0.1000,hidden_size=100,lr=0.0042,num_layers=3_2024-08-19_22-08-39/checkpoint_000002)\n",
      "Val Epoch:1: 47it [00:02, 22.60it/s]40)\u001b[0m \n"
     ]
    },
    {
     "name": "stdout",
     "output_type": "stream",
     "text": [
      "\u001b[36m(tune_with_parameters pid=2542840)\u001b[0m /tmp/tmpf9nuvkkc/checkpoint.pt\n"
     ]
    },
    {
     "name": "stderr",
     "output_type": "stream",
     "text": [
      "Val Epoch:7: 0it [00:00, ?it/s]\u001b[32m [repeated 2x across cluster]\u001b[0m\n",
      "Val Epoch:1: 41it [00:01, 24.25it/s]\u001b[32m [repeated 17x across cluster]\u001b[0m\n"
     ]
    },
    {
     "name": "stdout",
     "output_type": "stream",
     "text": [
      "\u001b[36m(tune_with_parameters pid=2542840)\u001b[0m loss: 0.566\u001b[32m [repeated 27x across cluster]\u001b[0m\n"
     ]
    },
    {
     "name": "stderr",
     "output_type": "stream",
     "text": [
      "\u001b[36m(tune_with_parameters pid=2542840)\u001b[0m Checkpoint successfully created at: Checkpoint(filesystem=local, path=/scratch/users/k23058970/Model training/results/Double Peak LSTM Null/tune_with_parameters_2024-08-19_22-08-05/tune_with_parameters_34c49_00008_8_dp=0.5000,hidden_size=200,lr=0.0718,num_layers=1_2024-08-19_22-08-39/checkpoint_000001)\n",
      "Val Epoch:7: 47it [00:02, 18.98it/s]37)\u001b[0m \n"
     ]
    },
    {
     "name": "stdout",
     "output_type": "stream",
     "text": [
      "\u001b[36m(tune_with_parameters pid=2542840)\u001b[0m /tmp/tmpuejnbplo/checkpoint.pt\n"
     ]
    },
    {
     "name": "stderr",
     "output_type": "stream",
     "text": [
      "\u001b[36m(tune_with_parameters pid=2542840)\u001b[0m Checkpoint successfully created at: Checkpoint(filesystem=local, path=/scratch/users/k23058970/Model training/results/Double Peak LSTM Null/tune_with_parameters_2024-08-19_22-08-05/tune_with_parameters_34c49_00008_8_dp=0.5000,hidden_size=200,lr=0.0718,num_layers=1_2024-08-19_22-08-39/checkpoint_000002)\n"
     ]
    },
    {
     "name": "stdout",
     "output_type": "stream",
     "text": [
      "\u001b[36m(tune_with_parameters pid=2539037)\u001b[0m loss: 1.097\u001b[32m [repeated 17x across cluster]\u001b[0m\n"
     ]
    },
    {
     "name": "stderr",
     "output_type": "stream",
     "text": [
      "Val Epoch:8: 0it [00:00, ?it/s]\u001b[32m [repeated 2x across cluster]\u001b[0m\n",
      "Val Epoch:2: 40it [00:02, 31.50it/s]\u001b[32m [repeated 17x across cluster]\u001b[0m\n",
      "Val Epoch:2: 47it [00:02, 18.11it/s]40)\u001b[0m \n"
     ]
    },
    {
     "name": "stdout",
     "output_type": "stream",
     "text": [
      "\u001b[36m(tune_with_parameters pid=2539037)\u001b[0m loss: 1.107\u001b[32m [repeated 17x across cluster]\u001b[0m\n",
      "\u001b[36m(tune_with_parameters pid=2542840)\u001b[0m /tmp/tmpbew54xv4/checkpoint.pt\n"
     ]
    },
    {
     "name": "stderr",
     "output_type": "stream",
     "text": [
      "\u001b[36m(tune_with_parameters pid=2542840)\u001b[0m Checkpoint successfully created at: Checkpoint(filesystem=local, path=/scratch/users/k23058970/Model training/results/Double Peak LSTM Null/tune_with_parameters_2024-08-19_22-08-05/tune_with_parameters_34c49_00008_8_dp=0.5000,hidden_size=200,lr=0.0718,num_layers=1_2024-08-19_22-08-39/checkpoint_000003)\n",
      "Val Epoch:9: 0it [00:00, ?it/s]\u001b[32m [repeated 2x across cluster]\u001b[0m\n",
      "Val Epoch:3: 47it [00:01, 26.63it/s]\u001b[32m [repeated 20x across cluster]\u001b[0m\n"
     ]
    },
    {
     "name": "stdout",
     "output_type": "stream",
     "text": [
      "\u001b[36m(tune_with_parameters pid=2542840)\u001b[0m loss: 0.562\u001b[32m [repeated 26x across cluster]\u001b[0m\n",
      "\u001b[36m(tune_with_parameters pid=2539037)\u001b[0m loss: 1.096\u001b[32m [repeated 16x across cluster]\u001b[0m\n"
     ]
    },
    {
     "name": "stderr",
     "output_type": "stream",
     "text": [
      "Val Epoch:10: 0it [00:00, ?it/s]\u001b[32m [repeated 2x across cluster]\u001b[0m\n",
      "Val Epoch:4: 47it [00:02, 21.29it/s]\u001b[32m [repeated 21x across cluster]\u001b[0m\n"
     ]
    },
    {
     "name": "stdout",
     "output_type": "stream",
     "text": [
      "\u001b[36m(tune_with_parameters pid=2539037)\u001b[0m loss: 1.096\u001b[32m [repeated 21x across cluster]\u001b[0m\n"
     ]
    },
    {
     "name": "stderr",
     "output_type": "stream",
     "text": [
      "Val Epoch:11: 0it [00:00, ?it/s]\u001b[32m [repeated 2x across cluster]\u001b[0m\n",
      "Val Epoch:5: 47it [00:01, 25.36it/s]\u001b[32m [repeated 21x across cluster]\u001b[0m\n"
     ]
    },
    {
     "name": "stdout",
     "output_type": "stream",
     "text": [
      "\u001b[36m(tune_with_parameters pid=2539037)\u001b[0m loss: 1.104\u001b[32m [repeated 27x across cluster]\u001b[0m\n"
     ]
    },
    {
     "name": "stderr",
     "output_type": "stream",
     "text": [
      "Val Epoch:12: 0it [00:00, ?it/s]\u001b[32m [repeated 2x across cluster]\u001b[0m\n",
      "Val Epoch:6: 47it [00:02, 23.36it/s]\u001b[32m [repeated 19x across cluster]\u001b[0m\n"
     ]
    },
    {
     "name": "stdout",
     "output_type": "stream",
     "text": [
      "\u001b[36m(tune_with_parameters pid=2542840)\u001b[0m loss: 0.551\u001b[32m [repeated 27x across cluster]\u001b[0m\n"
     ]
    },
    {
     "name": "stderr",
     "output_type": "stream",
     "text": [
      "Val Epoch:7: 47it [00:02, 23.03it/s]40)\u001b[0m \n"
     ]
    },
    {
     "name": "stdout",
     "output_type": "stream",
     "text": [
      "\u001b[36m(tune_with_parameters pid=2539037)\u001b[0m loss: 1.095\u001b[32m [repeated 13x across cluster]\u001b[0m\n"
     ]
    },
    {
     "name": "stderr",
     "output_type": "stream",
     "text": [
      "Val Epoch:13: 0it [00:00, ?it/s]\u001b[32m [repeated 2x across cluster]\u001b[0m\n",
      "Val Epoch:7: 35it [00:01, 28.59it/s]\u001b[32m [repeated 17x across cluster]\u001b[0m\n"
     ]
    },
    {
     "name": "stdout",
     "output_type": "stream",
     "text": [
      "\u001b[36m(tune_with_parameters pid=2539037)\u001b[0m loss: 1.097\u001b[32m [repeated 20x across cluster]\u001b[0m\n"
     ]
    },
    {
     "name": "stderr",
     "output_type": "stream",
     "text": [
      "Val Epoch:14: 0it [00:00, ?it/s]\u001b[32m [repeated 2x across cluster]\u001b[0m\n",
      "Val Epoch:8: 47it [00:01, 26.46it/s]\u001b[32m [repeated 20x across cluster]\u001b[0m\n"
     ]
    },
    {
     "name": "stdout",
     "output_type": "stream",
     "text": [
      "\u001b[36m(tune_with_parameters pid=2542840)\u001b[0m loss: 0.540\u001b[32m [repeated 26x across cluster]\u001b[0m\n",
      "\u001b[36m(tune_with_parameters pid=2539037)\u001b[0m /tmp/tmpa7hppn6h/checkpoint.pt\n"
     ]
    },
    {
     "name": "stderr",
     "output_type": "stream",
     "text": [
      "\u001b[36m(tune_with_parameters pid=2539037)\u001b[0m Checkpoint successfully created at: Checkpoint(filesystem=local, path=/scratch/users/k23058970/Model training/results/Double Peak LSTM Null/tune_with_parameters_2024-08-19_22-08-05/tune_with_parameters_34c49_00007_7_dp=0.1000,hidden_size=100,lr=0.0042,num_layers=3_2024-08-19_22-08-39/checkpoint_000003)\n"
     ]
    },
    {
     "name": "stdout",
     "output_type": "stream",
     "text": [
      "\u001b[36m(tune_with_parameters pid=2539037)\u001b[0m loss: 1.094\u001b[32m [repeated 15x across cluster]\u001b[0m\n"
     ]
    },
    {
     "name": "stderr",
     "output_type": "stream",
     "text": [
      "Val Epoch:15: 0it [00:00, ?it/s]\u001b[32m [repeated 2x across cluster]\u001b[0m\n",
      "Val Epoch:9: 47it [00:01, 24.92it/s]\u001b[32m [repeated 20x across cluster]\u001b[0m\n"
     ]
    },
    {
     "name": "stdout",
     "output_type": "stream",
     "text": [
      "\u001b[36m(tune_with_parameters pid=2539037)\u001b[0m loss: 1.094\u001b[32m [repeated 20x across cluster]\u001b[0m\n"
     ]
    },
    {
     "name": "stderr",
     "output_type": "stream",
     "text": [
      "Val Epoch:16: 0it [00:00, ?it/s]\u001b[32m [repeated 2x across cluster]\u001b[0m\n",
      "Val Epoch:10: 47it [00:01, 28.10it/s]\u001b[32m [repeated 19x across cluster]\u001b[0m\n"
     ]
    },
    {
     "name": "stdout",
     "output_type": "stream",
     "text": [
      "\u001b[36m(tune_with_parameters pid=2539037)\u001b[0m loss: 1.103\u001b[32m [repeated 29x across cluster]\u001b[0m\n",
      "\u001b[36m(tune_with_parameters pid=2542840)\u001b[0m /tmp/tmp42b5fgyd/checkpoint.pt\n"
     ]
    },
    {
     "name": "stderr",
     "output_type": "stream",
     "text": [
      "\u001b[36m(tune_with_parameters pid=2542840)\u001b[0m Checkpoint successfully created at: Checkpoint(filesystem=local, path=/scratch/users/k23058970/Model training/results/Double Peak LSTM Null/tune_with_parameters_2024-08-19_22-08-05/tune_with_parameters_34c49_00008_8_dp=0.5000,hidden_size=200,lr=0.0718,num_layers=1_2024-08-19_22-08-39/checkpoint_000004)\n",
      "Val Epoch:17: 0it [00:00, ?it/s]\u001b[32m [repeated 2x across cluster]\u001b[0m\n",
      "Val Epoch:11: 47it [00:01, 23.58it/s]\u001b[32m [repeated 20x across cluster]\u001b[0m\n"
     ]
    },
    {
     "name": "stdout",
     "output_type": "stream",
     "text": [
      "\u001b[36m(tune_with_parameters pid=2542840)\u001b[0m loss: 0.558\u001b[32m [repeated 29x across cluster]\u001b[0m\n",
      "\u001b[36m(tune_with_parameters pid=2542840)\u001b[0m loss: 0.555\u001b[32m [repeated 17x across cluster]\u001b[0m\n"
     ]
    },
    {
     "name": "stderr",
     "output_type": "stream",
     "text": [
      "Val Epoch:18: 0it [00:00, ?it/s]\u001b[32m [repeated 2x across cluster]\u001b[0m\n",
      "Val Epoch:12: 47it [00:01, 28.18it/s]\u001b[32m [repeated 20x across cluster]\u001b[0m\n"
     ]
    },
    {
     "name": "stdout",
     "output_type": "stream",
     "text": [
      "\u001b[36m(tune_with_parameters pid=2539037)\u001b[0m /tmp/tmpowkaoils/checkpoint.pt\n"
     ]
    },
    {
     "name": "stderr",
     "output_type": "stream",
     "text": [
      "\u001b[36m(tune_with_parameters pid=2539037)\u001b[0m Checkpoint successfully created at: Checkpoint(filesystem=local, path=/scratch/users/k23058970/Model training/results/Double Peak LSTM Null/tune_with_parameters_2024-08-19_22-08-05/tune_with_parameters_34c49_00007_7_dp=0.1000,hidden_size=100,lr=0.0042,num_layers=3_2024-08-19_22-08-39/checkpoint_000004)\n"
     ]
    },
    {
     "name": "stdout",
     "output_type": "stream",
     "text": [
      "\u001b[36m(tune_with_parameters pid=2539037)\u001b[0m loss: 1.093\u001b[32m [repeated 14x across cluster]\u001b[0m\n"
     ]
    },
    {
     "name": "stderr",
     "output_type": "stream",
     "text": [
      "Val Epoch:19: 0it [00:00, ?it/s]\u001b[32m [repeated 2x across cluster]\u001b[0m\n",
      "Val Epoch:13: 47it [00:02, 21.49it/s]\u001b[32m [repeated 18x across cluster]\u001b[0m\n"
     ]
    },
    {
     "name": "stdout",
     "output_type": "stream",
     "text": [
      "\u001b[36m(tune_with_parameters pid=2542840)\u001b[0m loss: 0.547\u001b[32m [repeated 28x across cluster]\u001b[0m\n",
      "\u001b[36m(tune_with_parameters pid=2539037)\u001b[0m loss: 1.090\u001b[32m [repeated 17x across cluster]\u001b[0m\n"
     ]
    },
    {
     "name": "stderr",
     "output_type": "stream",
     "text": [
      "Val Epoch:20: 0it [00:00, ?it/s]\u001b[32m [repeated 2x across cluster]\u001b[0m\n",
      "Val Epoch:14: 47it [00:01, 24.68it/s]\u001b[32m [repeated 20x across cluster]\u001b[0m\n"
     ]
    },
    {
     "name": "stdout",
     "output_type": "stream",
     "text": [
      "\u001b[36m(tune_with_parameters pid=2539037)\u001b[0m /tmp/tmpunjoi6lk/checkpoint.pt\n"
     ]
    },
    {
     "name": "stderr",
     "output_type": "stream",
     "text": [
      "\u001b[36m(tune_with_parameters pid=2539037)\u001b[0m Checkpoint successfully created at: Checkpoint(filesystem=local, path=/scratch/users/k23058970/Model training/results/Double Peak LSTM Null/tune_with_parameters_2024-08-19_22-08-05/tune_with_parameters_34c49_00007_7_dp=0.1000,hidden_size=100,lr=0.0042,num_layers=3_2024-08-19_22-08-39/checkpoint_000005)\n"
     ]
    },
    {
     "name": "stdout",
     "output_type": "stream",
     "text": [
      "\u001b[36m(tune_with_parameters pid=2539037)\u001b[0m loss: 1.086\u001b[32m [repeated 17x across cluster]\u001b[0m\n"
     ]
    },
    {
     "name": "stderr",
     "output_type": "stream",
     "text": [
      "Val Epoch:21: 0it [00:00, ?it/s]\u001b[32m [repeated 2x across cluster]\u001b[0m\n",
      "Val Epoch:15: 47it [00:02, 22.80it/s]\u001b[32m [repeated 19x across cluster]\u001b[0m\n"
     ]
    },
    {
     "name": "stdout",
     "output_type": "stream",
     "text": [
      "\u001b[36m(tune_with_parameters pid=2539037)\u001b[0m loss: 1.092\u001b[32m [repeated 28x across cluster]\u001b[0m\n"
     ]
    },
    {
     "name": "stderr",
     "output_type": "stream",
     "text": [
      "Val Epoch:22: 0it [00:00, ?it/s]\u001b[32m [repeated 2x across cluster]\u001b[0m\n",
      "Val Epoch:16: 47it [00:02, 18.06it/s]\u001b[32m [repeated 20x across cluster]\u001b[0m\n"
     ]
    },
    {
     "name": "stdout",
     "output_type": "stream",
     "text": [
      "\u001b[36m(tune_with_parameters pid=2539037)\u001b[0m /tmp/tmp3jn2erlw/checkpoint.pt\n",
      "\u001b[36m(tune_with_parameters pid=2542840)\u001b[0m loss: 0.551\u001b[32m [repeated 29x across cluster]\u001b[0m\n"
     ]
    },
    {
     "name": "stderr",
     "output_type": "stream",
     "text": [
      "\u001b[36m(tune_with_parameters pid=2539037)\u001b[0m Checkpoint successfully created at: Checkpoint(filesystem=local, path=/scratch/users/k23058970/Model training/results/Double Peak LSTM Null/tune_with_parameters_2024-08-19_22-08-05/tune_with_parameters_34c49_00007_7_dp=0.1000,hidden_size=100,lr=0.0042,num_layers=3_2024-08-19_22-08-39/checkpoint_000006)\n",
      "Val Epoch:18: 0it [00:00, ?it/s]\u001b[32m [repeated 2x across cluster]\u001b[0m\n",
      "Val Epoch:17: 47it [00:01, 25.92it/s]\u001b[32m [repeated 17x across cluster]\u001b[0m\n"
     ]
    },
    {
     "name": "stdout",
     "output_type": "stream",
     "text": [
      "\u001b[36m(tune_with_parameters pid=2542840)\u001b[0m loss: 0.484\u001b[32m [repeated 16x across cluster]\u001b[0m\n"
     ]
    },
    {
     "name": "stderr",
     "output_type": "stream",
     "text": [
      "Val Epoch:19: 0it [00:00, ?it/s]542840)\u001b[0m \n",
      "Val Epoch:18: 47it [00:01, 43.43it/s]\u001b[32m [repeated 8x across cluster]\u001b[0m\n"
     ]
    },
    {
     "name": "stdout",
     "output_type": "stream",
     "text": [
      "\u001b[36m(tune_with_parameters pid=2542840)\u001b[0m loss: 0.650\u001b[32m [repeated 15x across cluster]\u001b[0m\n"
     ]
    },
    {
     "name": "stderr",
     "output_type": "stream",
     "text": [
      "\u001b[36m(tune_with_parameters pid=2559202)\u001b[0m /users/k23058970/miniforge3/envs/Training/lib/python3.10/site-packages/torch/nn/modules/lazy.py:181: UserWarning: Lazy modules are a new feature under heavy development so changes to the API or functionality can happen at any moment.\n",
      "\u001b[36m(tune_with_parameters pid=2559202)\u001b[0m   warnings.warn('Lazy modules are a new feature under heavy development '\n",
      "Val Epoch:20: 0it [00:00, ?it/s]542840)\u001b[0m \n",
      "Val Epoch:19: 47it [00:01, 25.54it/s]\u001b[32m [repeated 11x across cluster]\u001b[0m\n",
      "Val Epoch:20: 47it [00:01, 42.51it/s]0)\u001b[0m \n"
     ]
    },
    {
     "name": "stdout",
     "output_type": "stream",
     "text": [
      "\u001b[36m(tune_with_parameters pid=2542840)\u001b[0m /tmp/tmpfz6yml42/checkpoint.pt\n",
      "\u001b[36m(tune_with_parameters pid=2542840)\u001b[0m loss: 0.547\u001b[32m [repeated 14x across cluster]\u001b[0m\n"
     ]
    },
    {
     "name": "stderr",
     "output_type": "stream",
     "text": [
      "\u001b[36m(tune_with_parameters pid=2542840)\u001b[0m Checkpoint successfully created at: Checkpoint(filesystem=local, path=/scratch/users/k23058970/Model training/results/Double Peak LSTM Null/tune_with_parameters_2024-08-19_22-08-05/tune_with_parameters_34c49_00008_8_dp=0.5000,hidden_size=200,lr=0.0718,num_layers=1_2024-08-19_22-08-39/checkpoint_000005)\n",
      "Val Epoch:21: 0it [00:00, ?it/s]542840)\u001b[0m \n",
      "Val Epoch:20: 37it [00:00, 35.20it/s]\u001b[32m [repeated 6x across cluster]\u001b[0m\n",
      "Val Epoch:0: 0it [00:00, ?it/s]2559202)\u001b[0m \n",
      "Val Epoch:0: 47it [00:01, 27.08it/s]02)\u001b[0m \n",
      "\u001b[36m(tune_with_parameters pid=2559202)\u001b[0m /scratch/users/k23058970/Model training/training_insilico_lstm.py:63: RuntimeWarning: invalid value encountered in divide\n",
      "\u001b[36m(tune_with_parameters pid=2559202)\u001b[0m   self.precision = self.tp/(self.tp + self.fp)\n",
      "\u001b[36m(tune_with_parameters pid=2559202)\u001b[0m Checkpoint successfully created at: Checkpoint(filesystem=local, path=/scratch/users/k23058970/Model training/results/Double Peak LSTM Null/tune_with_parameters_2024-08-19_22-08-05/tune_with_parameters_34c49_00009_9_dp=0.2000,hidden_size=400,lr=0.0012,num_layers=1_2024-08-19_22-08-39/checkpoint_000000)\n"
     ]
    },
    {
     "name": "stdout",
     "output_type": "stream",
     "text": [
      "\u001b[36m(tune_with_parameters pid=2559202)\u001b[0m /tmp/tmpbibljr9y/checkpoint.pt\n",
      "\u001b[36m(tune_with_parameters pid=2559202)\u001b[0m loss: 1.086\u001b[32m [repeated 30x across cluster]\u001b[0m\n"
     ]
    },
    {
     "name": "stderr",
     "output_type": "stream",
     "text": [
      "Val Epoch:1: 0it [00:00, ?it/s]2559202)\u001b[0m \n",
      "Val Epoch:21: 47it [00:01, 27.93it/s]\u001b[32m [repeated 18x across cluster]\u001b[0m\n",
      "Val Epoch:22: 0it [00:00, ?it/s]542840)\u001b[0m \n"
     ]
    },
    {
     "name": "stdout",
     "output_type": "stream",
     "text": [
      "\u001b[36m(tune_with_parameters pid=2559202)\u001b[0m /tmp/tmp0dcx1mo5/checkpoint.pt\n",
      "\u001b[36m(tune_with_parameters pid=2542840)\u001b[0m loss: 0.544\u001b[32m [repeated 30x across cluster]\u001b[0m\n"
     ]
    },
    {
     "name": "stderr",
     "output_type": "stream",
     "text": [
      "\u001b[36m(tune_with_parameters pid=2559202)\u001b[0m Checkpoint successfully created at: Checkpoint(filesystem=local, path=/scratch/users/k23058970/Model training/results/Double Peak LSTM Null/tune_with_parameters_2024-08-19_22-08-05/tune_with_parameters_34c49_00009_9_dp=0.2000,hidden_size=400,lr=0.0012,num_layers=1_2024-08-19_22-08-39/checkpoint_000001)\n",
      "Val Epoch:23: 0it [00:00, ?it/s]542840)\u001b[0m \n",
      "Val Epoch:1: 47it [00:01, 29.76it/s]\u001b[32m [repeated 19x across cluster]\u001b[0m\n",
      "Val Epoch:2: 0it [00:00, ?it/s]2559202)\u001b[0m \n"
     ]
    },
    {
     "name": "stdout",
     "output_type": "stream",
     "text": [
      "\u001b[36m(tune_with_parameters pid=2542840)\u001b[0m loss: 0.653\u001b[32m [repeated 31x across cluster]\u001b[0m\n",
      "\u001b[36m(tune_with_parameters pid=2559202)\u001b[0m /tmp/tmpmb3_ni3z/checkpoint.pt\n"
     ]
    },
    {
     "name": "stderr",
     "output_type": "stream",
     "text": [
      "\u001b[36m(tune_with_parameters pid=2559202)\u001b[0m Checkpoint successfully created at: Checkpoint(filesystem=local, path=/scratch/users/k23058970/Model training/results/Double Peak LSTM Null/tune_with_parameters_2024-08-19_22-08-05/tune_with_parameters_34c49_00009_9_dp=0.2000,hidden_size=400,lr=0.0012,num_layers=1_2024-08-19_22-08-39/checkpoint_000002)\n",
      "Val Epoch:2: 47it [00:02, 21.14it/s]\u001b[32m [repeated 22x across cluster]\u001b[0m\n",
      "Val Epoch:24: 0it [00:00, ?it/s]542840)\u001b[0m \n",
      "Val Epoch:3: 0it [00:00, ?it/s]2559202)\u001b[0m \n"
     ]
    },
    {
     "name": "stdout",
     "output_type": "stream",
     "text": [
      "\u001b[36m(tune_with_parameters pid=2542840)\u001b[0m loss: 0.581\u001b[32m [repeated 30x across cluster]\u001b[0m\n",
      "\u001b[36m(tune_with_parameters pid=2559202)\u001b[0m /tmp/tmp38pig5rt/checkpoint.pt\n"
     ]
    },
    {
     "name": "stderr",
     "output_type": "stream",
     "text": [
      "\u001b[36m(tune_with_parameters pid=2559202)\u001b[0m Checkpoint successfully created at: Checkpoint(filesystem=local, path=/scratch/users/k23058970/Model training/results/Double Peak LSTM Null/tune_with_parameters_2024-08-19_22-08-05/tune_with_parameters_34c49_00009_9_dp=0.2000,hidden_size=400,lr=0.0012,num_layers=1_2024-08-19_22-08-39/checkpoint_000003)\n",
      "Val Epoch:3: 47it [00:01, 27.66it/s]\u001b[32m [repeated 21x across cluster]\u001b[0m\n",
      "Val Epoch:25: 0it [00:00, ?it/s]542840)\u001b[0m \n",
      "Val Epoch:4: 0it [00:00, ?it/s]2559202)\u001b[0m \n"
     ]
    },
    {
     "name": "stdout",
     "output_type": "stream",
     "text": [
      "\u001b[36m(tune_with_parameters pid=2542840)\u001b[0m loss: 0.467\u001b[32m [repeated 30x across cluster]\u001b[0m\n",
      "\u001b[36m(tune_with_parameters pid=2559202)\u001b[0m /tmp/tmpcedxlbe3/checkpoint.pt\n"
     ]
    },
    {
     "name": "stderr",
     "output_type": "stream",
     "text": [
      "\u001b[36m(tune_with_parameters pid=2559202)\u001b[0m Checkpoint successfully created at: Checkpoint(filesystem=local, path=/scratch/users/k23058970/Model training/results/Double Peak LSTM Null/tune_with_parameters_2024-08-19_22-08-05/tune_with_parameters_34c49_00009_9_dp=0.2000,hidden_size=400,lr=0.0012,num_layers=1_2024-08-19_22-08-39/checkpoint_000004)\n",
      "Val Epoch:4: 47it [00:01, 26.33it/s]\u001b[32m [repeated 20x across cluster]\u001b[0m\n",
      "Val Epoch:26: 0it [00:00, ?it/s]542840)\u001b[0m \n",
      "Val Epoch:5: 0it [00:00, ?it/s]2559202)\u001b[0m \n"
     ]
    },
    {
     "name": "stdout",
     "output_type": "stream",
     "text": [
      "\u001b[36m(tune_with_parameters pid=2542840)\u001b[0m loss: 0.519\u001b[32m [repeated 30x across cluster]\u001b[0m\n",
      "\u001b[36m(tune_with_parameters pid=2559202)\u001b[0m /tmp/tmpl00ntdo7/checkpoint.pt\n"
     ]
    },
    {
     "name": "stderr",
     "output_type": "stream",
     "text": [
      "\u001b[36m(tune_with_parameters pid=2559202)\u001b[0m Checkpoint successfully created at: Checkpoint(filesystem=local, path=/scratch/users/k23058970/Model training/results/Double Peak LSTM Null/tune_with_parameters_2024-08-19_22-08-05/tune_with_parameters_34c49_00009_9_dp=0.2000,hidden_size=400,lr=0.0012,num_layers=1_2024-08-19_22-08-39/checkpoint_000005)\n",
      "Val Epoch:5: 47it [00:02, 21.36it/s]\u001b[32m [repeated 20x across cluster]\u001b[0m\n",
      "Val Epoch:27: 0it [00:00, ?it/s]542840)\u001b[0m \n"
     ]
    },
    {
     "name": "stdout",
     "output_type": "stream",
     "text": [
      "\u001b[36m(tune_with_parameters pid=2559202)\u001b[0m loss: 0.926\u001b[32m [repeated 28x across cluster]\u001b[0m\n"
     ]
    },
    {
     "name": "stderr",
     "output_type": "stream",
     "text": [
      "Val Epoch:6: 0it [00:00, ?it/s]2559202)\u001b[0m \n"
     ]
    },
    {
     "name": "stdout",
     "output_type": "stream",
     "text": [
      "\u001b[36m(tune_with_parameters pid=2559202)\u001b[0m loss: 0.900\u001b[32m [repeated 15x across cluster]\u001b[0m\n"
     ]
    },
    {
     "name": "stderr",
     "output_type": "stream",
     "text": [
      "Val Epoch:6: 47it [00:02, 22.05it/s]\u001b[32m [repeated 19x across cluster]\u001b[0m\n",
      "Val Epoch:28: 0it [00:00, ?it/s]542840)\u001b[0m \n",
      "Val Epoch:7: 0it [00:00, ?it/s]2559202)\u001b[0m \n"
     ]
    },
    {
     "name": "stdout",
     "output_type": "stream",
     "text": [
      "\u001b[36m(tune_with_parameters pid=2542840)\u001b[0m loss: 0.616\u001b[32m [repeated 17x across cluster]\u001b[0m\n"
     ]
    },
    {
     "name": "stderr",
     "output_type": "stream",
     "text": [
      "Val Epoch:7: 47it [00:02, 21.72it/s]\u001b[32m [repeated 19x across cluster]\u001b[0m\n",
      "Val Epoch:29: 0it [00:00, ?it/s]542840)\u001b[0m \n"
     ]
    },
    {
     "name": "stdout",
     "output_type": "stream",
     "text": [
      "\u001b[36m(tune_with_parameters pid=2559202)\u001b[0m loss: 0.834\u001b[32m [repeated 28x across cluster]\u001b[0m\n"
     ]
    },
    {
     "name": "stderr",
     "output_type": "stream",
     "text": [
      "Val Epoch:8: 0it [00:00, ?it/s]2559202)\u001b[0m \n"
     ]
    },
    {
     "name": "stdout",
     "output_type": "stream",
     "text": [
      "\u001b[36m(tune_with_parameters pid=2559202)\u001b[0m /tmp/tmpbpu4nsuk/checkpoint.pt\n"
     ]
    },
    {
     "name": "stderr",
     "output_type": "stream",
     "text": [
      "\u001b[36m(tune_with_parameters pid=2559202)\u001b[0m Checkpoint successfully created at: Checkpoint(filesystem=local, path=/scratch/users/k23058970/Model training/results/Double Peak LSTM Null/tune_with_parameters_2024-08-19_22-08-05/tune_with_parameters_34c49_00009_9_dp=0.2000,hidden_size=400,lr=0.0012,num_layers=1_2024-08-19_22-08-39/checkpoint_000006)\n"
     ]
    },
    {
     "name": "stdout",
     "output_type": "stream",
     "text": [
      "\u001b[36m(tune_with_parameters pid=2542840)\u001b[0m loss: 0.552\u001b[32m [repeated 19x across cluster]\u001b[0m\n"
     ]
    },
    {
     "name": "stderr",
     "output_type": "stream",
     "text": [
      "Val Epoch:8: 47it [00:01, 23.71it/s]\u001b[32m [repeated 20x across cluster]\u001b[0m\n",
      "Val Epoch:30: 0it [00:00, ?it/s]542840)\u001b[0m \n",
      "Val Epoch:9: 0it [00:00, ?it/s]2559202)\u001b[0m \n"
     ]
    },
    {
     "name": "stdout",
     "output_type": "stream",
     "text": [
      "\u001b[36m(tune_with_parameters pid=2542840)\u001b[0m loss: 0.541\u001b[32m [repeated 16x across cluster]\u001b[0m\n"
     ]
    },
    {
     "name": "stderr",
     "output_type": "stream",
     "text": [
      "Val Epoch:9: 47it [00:02, 18.60it/s]\u001b[32m [repeated 21x across cluster]\u001b[0m\n",
      "Val Epoch:31: 0it [00:00, ?it/s]542840)\u001b[0m \n",
      "Val Epoch:10: 0it [00:00, ?it/s]559202)\u001b[0m \n"
     ]
    },
    {
     "name": "stdout",
     "output_type": "stream",
     "text": [
      "\u001b[36m(tune_with_parameters pid=2542840)\u001b[0m loss: 0.599\u001b[32m [repeated 27x across cluster]\u001b[0m\n"
     ]
    },
    {
     "name": "stderr",
     "output_type": "stream",
     "text": [
      "Val Epoch:10: 47it [00:02, 17.59it/s]\u001b[32m [repeated 19x across cluster]\u001b[0m\n",
      "Val Epoch:32: 0it [00:00, ?it/s]542840)\u001b[0m \n"
     ]
    },
    {
     "name": "stdout",
     "output_type": "stream",
     "text": [
      "\u001b[36m(tune_with_parameters pid=2559202)\u001b[0m loss: 0.692\u001b[32m [repeated 26x across cluster]\u001b[0m\n"
     ]
    },
    {
     "name": "stderr",
     "output_type": "stream",
     "text": [
      "Val Epoch:11: 0it [00:00, ?it/s]559202)\u001b[0m \n"
     ]
    },
    {
     "name": "stdout",
     "output_type": "stream",
     "text": [
      "\u001b[36m(tune_with_parameters pid=2559202)\u001b[0m loss: 0.669\u001b[32m [repeated 22x across cluster]\u001b[0m\n"
     ]
    },
    {
     "name": "stderr",
     "output_type": "stream",
     "text": [
      "Val Epoch:11: 47it [00:01, 38.84it/s]\u001b[32m [repeated 20x across cluster]\u001b[0m\n",
      "Val Epoch:33: 0it [00:00, ?it/s]542840)\u001b[0m \n",
      "Val Epoch:12: 0it [00:00, ?it/s]559202)\u001b[0m \n"
     ]
    },
    {
     "name": "stdout",
     "output_type": "stream",
     "text": [
      "\u001b[36m(tune_with_parameters pid=2542840)\u001b[0m loss: 0.557\u001b[32m [repeated 18x across cluster]\u001b[0m\n"
     ]
    },
    {
     "name": "stderr",
     "output_type": "stream",
     "text": [
      "Val Epoch:12: 47it [00:01, 30.18it/s]\u001b[32m [repeated 20x across cluster]\u001b[0m\n",
      "Val Epoch:34: 0it [00:00, ?it/s]542840)\u001b[0m \n"
     ]
    },
    {
     "name": "stdout",
     "output_type": "stream",
     "text": [
      "\u001b[36m(tune_with_parameters pid=2559202)\u001b[0m loss: 0.631\u001b[32m [repeated 22x across cluster]\u001b[0m\n"
     ]
    },
    {
     "name": "stderr",
     "output_type": "stream",
     "text": [
      "Val Epoch:13: 0it [00:00, ?it/s]559202)\u001b[0m \n",
      "Val Epoch:13: 47it [00:01, 30.19it/s]\u001b[32m [repeated 19x across cluster]\u001b[0m\n"
     ]
    },
    {
     "name": "stdout",
     "output_type": "stream",
     "text": [
      "\u001b[36m(tune_with_parameters pid=2559202)\u001b[0m loss: 0.607\u001b[32m [repeated 23x across cluster]\u001b[0m\n"
     ]
    },
    {
     "name": "stderr",
     "output_type": "stream",
     "text": [
      "Val Epoch:35: 0it [00:00, ?it/s]542840)\u001b[0m \n",
      "Val Epoch:35: 47it [00:01, 25.22it/s]0)\u001b[0m \n",
      "Val Epoch:14: 0it [00:00, ?it/s]559202)\u001b[0m \n"
     ]
    },
    {
     "name": "stdout",
     "output_type": "stream",
     "text": [
      "\u001b[36m(tune_with_parameters pid=2559202)\u001b[0m /tmp/tmpdw_ymbih/checkpoint.pt\n"
     ]
    },
    {
     "name": "stderr",
     "output_type": "stream",
     "text": [
      "\u001b[36m(tune_with_parameters pid=2559202)\u001b[0m Checkpoint successfully created at: Checkpoint(filesystem=local, path=/scratch/users/k23058970/Model training/results/Double Peak LSTM Null/tune_with_parameters_2024-08-19_22-08-05/tune_with_parameters_34c49_00009_9_dp=0.2000,hidden_size=400,lr=0.0012,num_layers=1_2024-08-19_22-08-39/checkpoint_000007)\n"
     ]
    },
    {
     "name": "stdout",
     "output_type": "stream",
     "text": [
      "\u001b[36m(tune_with_parameters pid=2542840)\u001b[0m loss: 0.557\u001b[32m [repeated 20x across cluster]\u001b[0m\n"
     ]
    },
    {
     "name": "stderr",
     "output_type": "stream",
     "text": [
      "Val Epoch:14: 47it [00:01, 31.31it/s]\u001b[32m [repeated 18x across cluster]\u001b[0m\n",
      "Val Epoch:36: 0it [00:00, ?it/s]542840)\u001b[0m \n",
      "Val Epoch:15: 0it [00:00, ?it/s]559202)\u001b[0m \n"
     ]
    },
    {
     "name": "stdout",
     "output_type": "stream",
     "text": [
      "\u001b[36m(tune_with_parameters pid=2542840)\u001b[0m loss: 0.530\u001b[32m [repeated 21x across cluster]\u001b[0m\n",
      "\u001b[36m(tune_with_parameters pid=2559202)\u001b[0m /tmp/tmpxhmh5kho/checkpoint.pt\n"
     ]
    },
    {
     "name": "stderr",
     "output_type": "stream",
     "text": [
      "\u001b[36m(tune_with_parameters pid=2559202)\u001b[0m Checkpoint successfully created at: Checkpoint(filesystem=local, path=/scratch/users/k23058970/Model training/results/Double Peak LSTM Null/tune_with_parameters_2024-08-19_22-08-05/tune_with_parameters_34c49_00009_9_dp=0.2000,hidden_size=400,lr=0.0012,num_layers=1_2024-08-19_22-08-39/checkpoint_000008)\n",
      "Val Epoch:15: 47it [00:01, 33.27it/s]\u001b[32m [repeated 19x across cluster]\u001b[0m\n",
      "Val Epoch:37: 0it [00:00, ?it/s]542840)\u001b[0m \n"
     ]
    },
    {
     "name": "stdout",
     "output_type": "stream",
     "text": [
      "\u001b[36m(tune_with_parameters pid=2559202)\u001b[0m loss: 0.570\u001b[32m [repeated 23x across cluster]\u001b[0m\n"
     ]
    },
    {
     "name": "stderr",
     "output_type": "stream",
     "text": [
      "Val Epoch:16: 0it [00:00, ?it/s]559202)\u001b[0m \n",
      "Val Epoch:37: 47it [00:01, 32.04it/s]\u001b[32m [repeated 9x across cluster]\u001b[0m\n"
     ]
    },
    {
     "name": "stdout",
     "output_type": "stream",
     "text": [
      "\u001b[36m(tune_with_parameters pid=2559202)\u001b[0m /tmp/tmpu862g5f4/checkpoint.pt\n"
     ]
    },
    {
     "name": "stderr",
     "output_type": "stream",
     "text": [
      "\u001b[36m(tune_with_parameters pid=2559202)\u001b[0m Checkpoint successfully created at: Checkpoint(filesystem=local, path=/scratch/users/k23058970/Model training/results/Double Peak LSTM Null/tune_with_parameters_2024-08-19_22-08-05/tune_with_parameters_34c49_00009_9_dp=0.2000,hidden_size=400,lr=0.0012,num_layers=1_2024-08-19_22-08-39/checkpoint_000009)\n"
     ]
    },
    {
     "name": "stdout",
     "output_type": "stream",
     "text": [
      "\u001b[36m(tune_with_parameters pid=2559202)\u001b[0m loss: 0.552\u001b[32m [repeated 20x across cluster]\u001b[0m\n"
     ]
    },
    {
     "name": "stderr",
     "output_type": "stream",
     "text": [
      "Val Epoch:38: 0it [00:00, ?it/s]542840)\u001b[0m \n",
      "Val Epoch:38: 26it [00:01, 31.48it/s]\u001b[32m [repeated 17x across cluster]\u001b[0m\n",
      "Val Epoch:38: 47it [00:01, 25.44it/s]0)\u001b[0m \n",
      "Val Epoch:17: 0it [00:00, ?it/s]559202)\u001b[0m \n"
     ]
    },
    {
     "name": "stdout",
     "output_type": "stream",
     "text": [
      "\u001b[36m(tune_with_parameters pid=2542840)\u001b[0m loss: 0.543\u001b[32m [repeated 20x across cluster]\u001b[0m\n",
      "\u001b[36m(tune_with_parameters pid=2559202)\u001b[0m /tmp/tmp914kipv9/checkpoint.pt\n"
     ]
    },
    {
     "name": "stderr",
     "output_type": "stream",
     "text": [
      "\u001b[36m(tune_with_parameters pid=2559202)\u001b[0m Checkpoint successfully created at: Checkpoint(filesystem=local, path=/scratch/users/k23058970/Model training/results/Double Peak LSTM Null/tune_with_parameters_2024-08-19_22-08-05/tune_with_parameters_34c49_00009_9_dp=0.2000,hidden_size=400,lr=0.0012,num_layers=1_2024-08-19_22-08-39/checkpoint_000010)\n",
      "Val Epoch:17: 47it [00:01, 25.30it/s]\u001b[32m [repeated 12x across cluster]\u001b[0m\n",
      "Val Epoch:39: 0it [00:00, ?it/s]542840)\u001b[0m \n"
     ]
    },
    {
     "name": "stdout",
     "output_type": "stream",
     "text": [
      "\u001b[36m(tune_with_parameters pid=2542840)\u001b[0m loss: 0.673\u001b[32m [repeated 21x across cluster]\u001b[0m\n"
     ]
    },
    {
     "name": "stderr",
     "output_type": "stream",
     "text": [
      "Val Epoch:18: 0it [00:00, ?it/s]559202)\u001b[0m \n",
      "Val Epoch:18: 45it [00:01, 42.66it/s]\u001b[32m [repeated 18x across cluster]\u001b[0m\n"
     ]
    },
    {
     "name": "stdout",
     "output_type": "stream",
     "text": [
      "\u001b[36m(tune_with_parameters pid=2559202)\u001b[0m /tmp/tmpe2ro0os4/checkpoint.pt\n"
     ]
    },
    {
     "name": "stderr",
     "output_type": "stream",
     "text": [
      "\u001b[36m(tune_with_parameters pid=2559202)\u001b[0m Checkpoint successfully created at: Checkpoint(filesystem=local, path=/scratch/users/k23058970/Model training/results/Double Peak LSTM Null/tune_with_parameters_2024-08-19_22-08-05/tune_with_parameters_34c49_00009_9_dp=0.2000,hidden_size=400,lr=0.0012,num_layers=1_2024-08-19_22-08-39/checkpoint_000011)\n"
     ]
    },
    {
     "name": "stdout",
     "output_type": "stream",
     "text": [
      "\u001b[36m(tune_with_parameters pid=2559202)\u001b[0m loss: 0.548\u001b[32m [repeated 22x across cluster]\u001b[0m\n"
     ]
    },
    {
     "name": "stderr",
     "output_type": "stream",
     "text": [
      "Val Epoch:40: 47it [00:01, 33.58it/s]0)\u001b[0m \n",
      "Val Epoch:19: 0it [00:00, ?it/s]\u001b[32m [repeated 2x across cluster]\u001b[0m\n",
      "Val Epoch:40: 37it [00:01, 37.96it/s]\u001b[32m [repeated 9x across cluster]\u001b[0m\n"
     ]
    },
    {
     "name": "stdout",
     "output_type": "stream",
     "text": [
      "\u001b[36m(tune_with_parameters pid=2559202)\u001b[0m /tmp/tmp3pkk3hpb/checkpoint.pt\n"
     ]
    },
    {
     "name": "stderr",
     "output_type": "stream",
     "text": [
      "\u001b[36m(tune_with_parameters pid=2559202)\u001b[0m Checkpoint successfully created at: Checkpoint(filesystem=local, path=/scratch/users/k23058970/Model training/results/Double Peak LSTM Null/tune_with_parameters_2024-08-19_22-08-05/tune_with_parameters_34c49_00009_9_dp=0.2000,hidden_size=400,lr=0.0012,num_layers=1_2024-08-19_22-08-39/checkpoint_000012)\n"
     ]
    },
    {
     "name": "stdout",
     "output_type": "stream",
     "text": [
      "\u001b[36m(tune_with_parameters pid=2542840)\u001b[0m loss: 0.553\u001b[32m [repeated 24x across cluster]\u001b[0m\n"
     ]
    },
    {
     "name": "stderr",
     "output_type": "stream",
     "text": [
      "Val Epoch:20: 0it [00:00, ?it/s]\u001b[32m [repeated 2x across cluster]\u001b[0m\n",
      "Val Epoch:41: 47it [00:01, 36.89it/s]\u001b[32m [repeated 20x across cluster]\u001b[0m\n"
     ]
    },
    {
     "name": "stdout",
     "output_type": "stream",
     "text": [
      "\u001b[36m(tune_with_parameters pid=2542840)\u001b[0m loss: 0.540\u001b[32m [repeated 26x across cluster]\u001b[0m\n",
      "\u001b[36m(tune_with_parameters pid=2559202)\u001b[0m /tmp/tmpjmd0feg3/checkpoint.pt\n"
     ]
    },
    {
     "name": "stderr",
     "output_type": "stream",
     "text": [
      "\u001b[36m(tune_with_parameters pid=2559202)\u001b[0m Checkpoint successfully created at: Checkpoint(filesystem=local, path=/scratch/users/k23058970/Model training/results/Double Peak LSTM Null/tune_with_parameters_2024-08-19_22-08-05/tune_with_parameters_34c49_00009_9_dp=0.2000,hidden_size=400,lr=0.0012,num_layers=1_2024-08-19_22-08-39/checkpoint_000013)\n"
     ]
    },
    {
     "name": "stdout",
     "output_type": "stream",
     "text": [
      "\u001b[36m(tune_with_parameters pid=2542840)\u001b[0m loss: 0.564\u001b[32m [repeated 15x across cluster]\u001b[0m\n"
     ]
    },
    {
     "name": "stderr",
     "output_type": "stream",
     "text": [
      "Val Epoch:21: 0it [00:00, ?it/s]\u001b[32m [repeated 2x across cluster]\u001b[0m\n",
      "Val Epoch:42: 47it [00:01, 33.98it/s]\u001b[32m [repeated 20x across cluster]\u001b[0m\n"
     ]
    },
    {
     "name": "stdout",
     "output_type": "stream",
     "text": [
      "\u001b[36m(tune_with_parameters pid=2559202)\u001b[0m /tmp/tmpiejll5vc/checkpoint.pt\n"
     ]
    },
    {
     "name": "stderr",
     "output_type": "stream",
     "text": [
      "\u001b[36m(tune_with_parameters pid=2559202)\u001b[0m Checkpoint successfully created at: Checkpoint(filesystem=local, path=/scratch/users/k23058970/Model training/results/Double Peak LSTM Null/tune_with_parameters_2024-08-19_22-08-05/tune_with_parameters_34c49_00009_9_dp=0.2000,hidden_size=400,lr=0.0012,num_layers=1_2024-08-19_22-08-39/checkpoint_000014)\n"
     ]
    },
    {
     "name": "stdout",
     "output_type": "stream",
     "text": [
      "\u001b[36m(tune_with_parameters pid=2559202)\u001b[0m loss: 0.478\u001b[32m [repeated 23x across cluster]\u001b[0m\n"
     ]
    },
    {
     "name": "stderr",
     "output_type": "stream",
     "text": [
      "Val Epoch:22: 0it [00:00, ?it/s]\u001b[32m [repeated 2x across cluster]\u001b[0m\n",
      "Val Epoch:43: 47it [00:01, 31.15it/s]\u001b[32m [repeated 20x across cluster]\u001b[0m\n"
     ]
    },
    {
     "name": "stdout",
     "output_type": "stream",
     "text": [
      "\u001b[36m(tune_with_parameters pid=2542840)\u001b[0m loss: 0.556\u001b[32m [repeated 24x across cluster]\u001b[0m\n",
      "\u001b[36m(tune_with_parameters pid=2559202)\u001b[0m loss: 0.464\u001b[32m [repeated 17x across cluster]\u001b[0m\n"
     ]
    },
    {
     "name": "stderr",
     "output_type": "stream",
     "text": [
      "Val Epoch:23: 0it [00:00, ?it/s]\u001b[32m [repeated 2x across cluster]\u001b[0m\n",
      "Val Epoch:44: 47it [00:01, 31.23it/s]\u001b[32m [repeated 19x across cluster]\u001b[0m\n"
     ]
    },
    {
     "name": "stdout",
     "output_type": "stream",
     "text": [
      "\u001b[36m(tune_with_parameters pid=2559202)\u001b[0m /tmp/tmp7mxkqk7z/checkpoint.pt\n"
     ]
    },
    {
     "name": "stderr",
     "output_type": "stream",
     "text": [
      "\u001b[36m(tune_with_parameters pid=2559202)\u001b[0m Checkpoint successfully created at: Checkpoint(filesystem=local, path=/scratch/users/k23058970/Model training/results/Double Peak LSTM Null/tune_with_parameters_2024-08-19_22-08-05/tune_with_parameters_34c49_00009_9_dp=0.2000,hidden_size=400,lr=0.0012,num_layers=1_2024-08-19_22-08-39/checkpoint_000015)\n"
     ]
    },
    {
     "name": "stdout",
     "output_type": "stream",
     "text": [
      "\u001b[36m(tune_with_parameters pid=2559202)\u001b[0m loss: 0.439\u001b[32m [repeated 20x across cluster]\u001b[0m\n"
     ]
    },
    {
     "name": "stderr",
     "output_type": "stream",
     "text": [
      "Val Epoch:24: 0it [00:00, ?it/s]\u001b[32m [repeated 2x across cluster]\u001b[0m\n",
      "Val Epoch:45: 47it [00:02, 22.39it/s]\u001b[32m [repeated 22x across cluster]\u001b[0m\n",
      "Val Epoch:24: 47it [00:01, 40.88it/s]2)\u001b[0m \n"
     ]
    },
    {
     "name": "stdout",
     "output_type": "stream",
     "text": [
      "\u001b[36m(tune_with_parameters pid=2559202)\u001b[0m /tmp/tmpe2g86hth/checkpoint.pt\n",
      "\u001b[36m(tune_with_parameters pid=2542840)\u001b[0m loss: 0.538\u001b[32m [repeated 27x across cluster]\u001b[0m\n"
     ]
    },
    {
     "name": "stderr",
     "output_type": "stream",
     "text": [
      "\u001b[36m(tune_with_parameters pid=2559202)\u001b[0m Checkpoint successfully created at: Checkpoint(filesystem=local, path=/scratch/users/k23058970/Model training/results/Double Peak LSTM Null/tune_with_parameters_2024-08-19_22-08-05/tune_with_parameters_34c49_00009_9_dp=0.2000,hidden_size=400,lr=0.0012,num_layers=1_2024-08-19_22-08-39/checkpoint_000016)\n"
     ]
    },
    {
     "name": "stdout",
     "output_type": "stream",
     "text": [
      "\u001b[36m(tune_with_parameters pid=2559202)\u001b[0m loss: 0.441\u001b[32m [repeated 22x across cluster]\u001b[0m\n"
     ]
    },
    {
     "name": "stderr",
     "output_type": "stream",
     "text": [
      "Val Epoch:25: 0it [00:00, ?it/s]\u001b[32m [repeated 2x across cluster]\u001b[0m\n",
      "Val Epoch:46: 47it [00:02, 20.62it/s]\u001b[32m [repeated 16x across cluster]\u001b[0m\n"
     ]
    },
    {
     "name": "stdout",
     "output_type": "stream",
     "text": [
      "\u001b[36m(tune_with_parameters pid=2559202)\u001b[0m loss: 0.442\u001b[32m [repeated 12x across cluster]\u001b[0m\n"
     ]
    },
    {
     "name": "stderr",
     "output_type": "stream",
     "text": [
      "Val Epoch:26: 0it [00:00, ?it/s]\u001b[32m [repeated 2x across cluster]\u001b[0m\n",
      "Val Epoch:47: 47it [00:02, 20.14it/s]\u001b[32m [repeated 19x across cluster]\u001b[0m\n"
     ]
    },
    {
     "name": "stdout",
     "output_type": "stream",
     "text": [
      "\u001b[36m(tune_with_parameters pid=2559202)\u001b[0m /tmp/tmpv21wdmbm/checkpoint.pt\n"
     ]
    },
    {
     "name": "stderr",
     "output_type": "stream",
     "text": [
      "\u001b[36m(tune_with_parameters pid=2559202)\u001b[0m Checkpoint successfully created at: Checkpoint(filesystem=local, path=/scratch/users/k23058970/Model training/results/Double Peak LSTM Null/tune_with_parameters_2024-08-19_22-08-05/tune_with_parameters_34c49_00009_9_dp=0.2000,hidden_size=400,lr=0.0012,num_layers=1_2024-08-19_22-08-39/checkpoint_000017)\n"
     ]
    },
    {
     "name": "stdout",
     "output_type": "stream",
     "text": [
      "\u001b[36m(tune_with_parameters pid=2559202)\u001b[0m loss: 0.326\u001b[32m [repeated 27x across cluster]\u001b[0m\n"
     ]
    },
    {
     "name": "stderr",
     "output_type": "stream",
     "text": [
      "Val Epoch:48: 47it [00:01, 26.46it/s]0)\u001b[0m \n",
      "Val Epoch:27: 0it [00:00, ?it/s]\u001b[32m [repeated 2x across cluster]\u001b[0m\n",
      "Val Epoch:48: 40it [00:01, 24.46it/s]\u001b[32m [repeated 18x across cluster]\u001b[0m\n"
     ]
    },
    {
     "name": "stdout",
     "output_type": "stream",
     "text": [
      "\u001b[36m(tune_with_parameters pid=2559202)\u001b[0m loss: 0.365\u001b[32m [repeated 30x across cluster]\u001b[0m\n"
     ]
    },
    {
     "name": "stderr",
     "output_type": "stream",
     "text": [
      "Val Epoch:28: 0it [00:00, ?it/s]\u001b[32m [repeated 2x across cluster]\u001b[0m\n",
      "Val Epoch:49: 47it [00:01, 25.65it/s]\u001b[32m [repeated 20x across cluster]\u001b[0m\n"
     ]
    },
    {
     "name": "stdout",
     "output_type": "stream",
     "text": [
      "\u001b[36m(tune_with_parameters pid=2542840)\u001b[0m loss: 0.547\u001b[32m [repeated 29x across cluster]\u001b[0m\n",
      "\u001b[36m(tune_with_parameters pid=2559202)\u001b[0m /tmp/tmporcgn5v8/checkpoint.pt\n"
     ]
    },
    {
     "name": "stderr",
     "output_type": "stream",
     "text": [
      "\u001b[36m(tune_with_parameters pid=2559202)\u001b[0m Checkpoint successfully created at: Checkpoint(filesystem=local, path=/scratch/users/k23058970/Model training/results/Double Peak LSTM Null/tune_with_parameters_2024-08-19_22-08-05/tune_with_parameters_34c49_00009_9_dp=0.2000,hidden_size=400,lr=0.0012,num_layers=1_2024-08-19_22-08-39/checkpoint_000018)\n"
     ]
    },
    {
     "name": "stdout",
     "output_type": "stream",
     "text": [
      "\u001b[36m(tune_with_parameters pid=2542840)\u001b[0m loss: 0.544\u001b[32m [repeated 20x across cluster]\u001b[0m\n"
     ]
    },
    {
     "name": "stderr",
     "output_type": "stream",
     "text": [
      "Val Epoch:29: 0it [00:00, ?it/s]\u001b[32m [repeated 2x across cluster]\u001b[0m\n",
      "Val Epoch:50: 47it [00:01, 28.68it/s]\u001b[32m [repeated 19x across cluster]\u001b[0m\n"
     ]
    },
    {
     "name": "stdout",
     "output_type": "stream",
     "text": [
      "\u001b[36m(tune_with_parameters pid=2559202)\u001b[0m /tmp/tmpd4r41y26/checkpoint.pt\n"
     ]
    },
    {
     "name": "stderr",
     "output_type": "stream",
     "text": [
      "\u001b[36m(tune_with_parameters pid=2559202)\u001b[0m Checkpoint successfully created at: Checkpoint(filesystem=local, path=/scratch/users/k23058970/Model training/results/Double Peak LSTM Null/tune_with_parameters_2024-08-19_22-08-05/tune_with_parameters_34c49_00009_9_dp=0.2000,hidden_size=400,lr=0.0012,num_layers=1_2024-08-19_22-08-39/checkpoint_000019)\n",
      "Val Epoch:51: 47it [00:02, 21.08it/s]0)\u001b[0m \n"
     ]
    },
    {
     "name": "stdout",
     "output_type": "stream",
     "text": [
      "\u001b[36m(tune_with_parameters pid=2559202)\u001b[0m loss: 0.376\u001b[32m [repeated 12x across cluster]\u001b[0m\n"
     ]
    },
    {
     "name": "stderr",
     "output_type": "stream",
     "text": [
      "Val Epoch:30: 0it [00:00, ?it/s]\u001b[32m [repeated 2x across cluster]\u001b[0m\n",
      "Val Epoch:51: 40it [00:01, 46.63it/s]\u001b[32m [repeated 17x across cluster]\u001b[0m\n"
     ]
    },
    {
     "name": "stdout",
     "output_type": "stream",
     "text": [
      "\u001b[36m(tune_with_parameters pid=2559202)\u001b[0m loss: 0.374\u001b[32m [repeated 29x across cluster]\u001b[0m\n"
     ]
    },
    {
     "name": "stderr",
     "output_type": "stream",
     "text": [
      "Val Epoch:31: 0it [00:00, ?it/s]\u001b[32m [repeated 2x across cluster]\u001b[0m\n",
      "Val Epoch:52: 47it [00:01, 25.56it/s]\u001b[32m [repeated 20x across cluster]\u001b[0m\n",
      "Val Epoch:53: 47it [00:01, 43.55it/s]0)\u001b[0m \n"
     ]
    },
    {
     "name": "stdout",
     "output_type": "stream",
     "text": [
      "\u001b[36m(tune_with_parameters pid=2542840)\u001b[0m loss: 0.620\u001b[32m [repeated 30x across cluster]\u001b[0m\n"
     ]
    },
    {
     "name": "stderr",
     "output_type": "stream",
     "text": [
      "Val Epoch:54: 0it [00:00, ?it/s]\u001b[32m [repeated 2x across cluster]\u001b[0m\n",
      "Val Epoch:31: 47it [00:01, 30.25it/s]\u001b[32m [repeated 18x across cluster]\u001b[0m\n"
     ]
    },
    {
     "name": "stdout",
     "output_type": "stream",
     "text": [
      "\u001b[36m(tune_with_parameters pid=2559202)\u001b[0m /tmp/tmpmex0wk9o/checkpoint.pt\n",
      "\u001b[36m(tune_with_parameters pid=2559202)\u001b[0m loss: 0.371\u001b[32m [repeated 29x across cluster]\u001b[0m\n"
     ]
    },
    {
     "name": "stderr",
     "output_type": "stream",
     "text": [
      "\u001b[36m(tune_with_parameters pid=2559202)\u001b[0m Checkpoint successfully created at: Checkpoint(filesystem=local, path=/scratch/users/k23058970/Model training/results/Double Peak LSTM Null/tune_with_parameters_2024-08-19_22-08-05/tune_with_parameters_34c49_00009_9_dp=0.2000,hidden_size=400,lr=0.0012,num_layers=1_2024-08-19_22-08-39/checkpoint_000020)\n",
      "Val Epoch:55: 0it [00:00, ?it/s]\u001b[32m [repeated 2x across cluster]\u001b[0m\n",
      "Val Epoch:32: 47it [00:02, 22.26it/s]\u001b[32m [repeated 23x across cluster]\u001b[0m\n",
      "Val Epoch:55: 47it [00:02, 17.31it/s]0)\u001b[0m \n"
     ]
    },
    {
     "name": "stdout",
     "output_type": "stream",
     "text": [
      "\u001b[36m(tune_with_parameters pid=2542840)\u001b[0m loss: 0.582\u001b[32m [repeated 31x across cluster]\u001b[0m\n"
     ]
    },
    {
     "name": "stderr",
     "output_type": "stream",
     "text": [
      "Val Epoch:56: 0it [00:00, ?it/s]\u001b[32m [repeated 2x across cluster]\u001b[0m\n",
      "Val Epoch:33: 47it [00:02, 19.46it/s]\u001b[32m [repeated 19x across cluster]\u001b[0m\n"
     ]
    },
    {
     "name": "stdout",
     "output_type": "stream",
     "text": [
      "\u001b[36m(tune_with_parameters pid=2559202)\u001b[0m loss: 0.357\u001b[32m [repeated 28x across cluster]\u001b[0m\n",
      "\u001b[36m(tune_with_parameters pid=2559202)\u001b[0m /tmp/tmpc4kjn41e/checkpoint.pt\n"
     ]
    },
    {
     "name": "stderr",
     "output_type": "stream",
     "text": [
      "\u001b[36m(tune_with_parameters pid=2559202)\u001b[0m Checkpoint successfully created at: Checkpoint(filesystem=local, path=/scratch/users/k23058970/Model training/results/Double Peak LSTM Null/tune_with_parameters_2024-08-19_22-08-05/tune_with_parameters_34c49_00009_9_dp=0.2000,hidden_size=400,lr=0.0012,num_layers=1_2024-08-19_22-08-39/checkpoint_000021)\n"
     ]
    },
    {
     "name": "stdout",
     "output_type": "stream",
     "text": [
      "\u001b[36m(tune_with_parameters pid=2542840)\u001b[0m loss: 0.541\u001b[32m [repeated 17x across cluster]\u001b[0m\n"
     ]
    },
    {
     "name": "stderr",
     "output_type": "stream",
     "text": [
      "Val Epoch:57: 0it [00:00, ?it/s]\u001b[32m [repeated 2x across cluster]\u001b[0m\n",
      "Val Epoch:34: 47it [00:02, 21.84it/s]\u001b[32m [repeated 19x across cluster]\u001b[0m\n"
     ]
    },
    {
     "name": "stdout",
     "output_type": "stream",
     "text": [
      "\u001b[36m(tune_with_parameters pid=2542840)\u001b[0m loss: 0.555\u001b[32m [repeated 17x across cluster]\u001b[0m\n",
      "\u001b[36m(tune_with_parameters pid=2559202)\u001b[0m /tmp/tmpvqxc_5cj/checkpoint.pt\n"
     ]
    },
    {
     "name": "stderr",
     "output_type": "stream",
     "text": [
      "\u001b[36m(tune_with_parameters pid=2559202)\u001b[0m Checkpoint successfully created at: Checkpoint(filesystem=local, path=/scratch/users/k23058970/Model training/results/Double Peak LSTM Null/tune_with_parameters_2024-08-19_22-08-05/tune_with_parameters_34c49_00009_9_dp=0.2000,hidden_size=400,lr=0.0012,num_layers=1_2024-08-19_22-08-39/checkpoint_000022)\n",
      "Val Epoch:58: 0it [00:00, ?it/s]\u001b[32m [repeated 2x across cluster]\u001b[0m\n",
      "Val Epoch:35: 47it [00:02, 21.73it/s]\u001b[32m [repeated 19x across cluster]\u001b[0m\n"
     ]
    },
    {
     "name": "stdout",
     "output_type": "stream",
     "text": [
      "\u001b[36m(tune_with_parameters pid=2542840)\u001b[0m loss: 0.528\u001b[32m [repeated 28x across cluster]\u001b[0m\n"
     ]
    },
    {
     "name": "stderr",
     "output_type": "stream",
     "text": [
      "Val Epoch:59: 0it [00:00, ?it/s]\u001b[32m [repeated 2x across cluster]\u001b[0m\n",
      "Val Epoch:36: 47it [00:01, 28.19it/s]\u001b[32m [repeated 20x across cluster]\u001b[0m\n"
     ]
    },
    {
     "name": "stdout",
     "output_type": "stream",
     "text": [
      "\u001b[36m(tune_with_parameters pid=2542840)\u001b[0m loss: 0.617\u001b[32m [repeated 30x across cluster]\u001b[0m\n"
     ]
    },
    {
     "name": "stderr",
     "output_type": "stream",
     "text": [
      "Val Epoch:60: 0it [00:00, ?it/s]\u001b[32m [repeated 2x across cluster]\u001b[0m\n",
      "Val Epoch:37: 47it [00:02, 21.10it/s]\u001b[32m [repeated 20x across cluster]\u001b[0m\n"
     ]
    },
    {
     "name": "stdout",
     "output_type": "stream",
     "text": [
      "\u001b[36m(tune_with_parameters pid=2559202)\u001b[0m loss: 0.335\u001b[32m [repeated 27x across cluster]\u001b[0m\n",
      "\u001b[36m(tune_with_parameters pid=2559202)\u001b[0m loss: 0.337\u001b[32m [repeated 18x across cluster]\u001b[0m\n"
     ]
    },
    {
     "name": "stderr",
     "output_type": "stream",
     "text": [
      "Val Epoch:61: 0it [00:00, ?it/s]\u001b[32m [repeated 2x across cluster]\u001b[0m\n",
      "Val Epoch:38: 47it [00:01, 27.11it/s]\u001b[32m [repeated 19x across cluster]\u001b[0m\n"
     ]
    },
    {
     "name": "stdout",
     "output_type": "stream",
     "text": [
      "\u001b[36m(tune_with_parameters pid=2542840)\u001b[0m loss: 0.554\u001b[32m [repeated 18x across cluster]\u001b[0m\n"
     ]
    },
    {
     "name": "stderr",
     "output_type": "stream",
     "text": [
      "Val Epoch:62: 0it [00:00, ?it/s]\u001b[32m [repeated 2x across cluster]\u001b[0m\n",
      "Val Epoch:39: 47it [00:01, 26.00it/s]\u001b[32m [repeated 20x across cluster]\u001b[0m\n",
      "Val Epoch:62: 47it [00:01, 38.46it/s]0)\u001b[0m \n"
     ]
    },
    {
     "name": "stdout",
     "output_type": "stream",
     "text": [
      "\u001b[36m(tune_with_parameters pid=2542840)\u001b[0m loss: 0.605\u001b[32m [repeated 27x across cluster]\u001b[0m\n",
      "\u001b[36m(tune_with_parameters pid=2559202)\u001b[0m /tmp/tmpass46q8p/checkpoint.pt\n"
     ]
    },
    {
     "name": "stderr",
     "output_type": "stream",
     "text": [
      "\u001b[36m(tune_with_parameters pid=2559202)\u001b[0m Checkpoint successfully created at: Checkpoint(filesystem=local, path=/scratch/users/k23058970/Model training/results/Double Peak LSTM Null/tune_with_parameters_2024-08-19_22-08-05/tune_with_parameters_34c49_00009_9_dp=0.2000,hidden_size=400,lr=0.0012,num_layers=1_2024-08-19_22-08-39/checkpoint_000023)\n",
      "Val Epoch:63: 0it [00:00, ?it/s]\u001b[32m [repeated 2x across cluster]\u001b[0m\n",
      "Val Epoch:40: 47it [00:01, 24.71it/s]\u001b[32m [repeated 19x across cluster]\u001b[0m\n"
     ]
    },
    {
     "name": "stdout",
     "output_type": "stream",
     "text": [
      "\u001b[36m(tune_with_parameters pid=2559202)\u001b[0m loss: 0.329\u001b[32m [repeated 26x across cluster]\u001b[0m\n",
      "\u001b[36m(tune_with_parameters pid=2559202)\u001b[0m loss: 0.326\u001b[32m [repeated 18x across cluster]\u001b[0m\n"
     ]
    },
    {
     "name": "stderr",
     "output_type": "stream",
     "text": [
      "Val Epoch:64: 0it [00:00, ?it/s]\u001b[32m [repeated 2x across cluster]\u001b[0m\n",
      "Val Epoch:41: 47it [00:01, 31.76it/s]\u001b[32m [repeated 19x across cluster]\u001b[0m\n"
     ]
    },
    {
     "name": "stdout",
     "output_type": "stream",
     "text": [
      "\u001b[36m(tune_with_parameters pid=2542840)\u001b[0m loss: 0.542\u001b[32m [repeated 23x across cluster]\u001b[0m\n"
     ]
    },
    {
     "name": "stderr",
     "output_type": "stream",
     "text": [
      "Val Epoch:65: 0it [00:00, ?it/s]\u001b[32m [repeated 2x across cluster]\u001b[0m\n",
      "Val Epoch:42: 47it [00:01, 36.66it/s]\u001b[32m [repeated 20x across cluster]\u001b[0m\n"
     ]
    },
    {
     "name": "stdout",
     "output_type": "stream",
     "text": [
      "\u001b[36m(tune_with_parameters pid=2542840)\u001b[0m loss: 0.499\u001b[32m [repeated 25x across cluster]\u001b[0m\n",
      "\u001b[36m(tune_with_parameters pid=2559202)\u001b[0m /tmp/tmprzmljvf8/checkpoint.pt\n"
     ]
    },
    {
     "name": "stderr",
     "output_type": "stream",
     "text": [
      "\u001b[36m(tune_with_parameters pid=2559202)\u001b[0m Checkpoint successfully created at: Checkpoint(filesystem=local, path=/scratch/users/k23058970/Model training/results/Double Peak LSTM Null/tune_with_parameters_2024-08-19_22-08-05/tune_with_parameters_34c49_00009_9_dp=0.2000,hidden_size=400,lr=0.0012,num_layers=1_2024-08-19_22-08-39/checkpoint_000024)\n",
      "Val Epoch:66: 1it [00:00,  7.31it/s]40)\u001b[0m \n",
      "Val Epoch:43: 0it [00:00, ?it/s]559202)\u001b[0m \n",
      "Val Epoch:43: 47it [00:01, 28.28it/s]\u001b[32m [repeated 20x across cluster]\u001b[0m\n"
     ]
    },
    {
     "name": "stdout",
     "output_type": "stream",
     "text": [
      "\u001b[36m(tune_with_parameters pid=2559202)\u001b[0m loss: 0.320\u001b[32m [repeated 23x across cluster]\u001b[0m\n"
     ]
    },
    {
     "name": "stderr",
     "output_type": "stream",
     "text": [
      "Val Epoch:44: 0it [00:00, ?it/s]559202)\u001b[0m \n",
      "Val Epoch:44: 34it [00:00, 45.33it/s]2)\u001b[0m \n",
      "Val Epoch:44: 47it [00:01, 35.63it/s]2)\u001b[0m \n"
     ]
    },
    {
     "name": "stdout",
     "output_type": "stream",
     "text": [
      "\u001b[36m(tune_with_parameters pid=2542840)\u001b[0m loss: 0.549\u001b[32m [repeated 22x across cluster]\u001b[0m\n"
     ]
    },
    {
     "name": "stderr",
     "output_type": "stream",
     "text": [
      "Val Epoch:44: 40it [00:01, 44.46it/s]\u001b[32m [repeated 16x across cluster]\u001b[0m\n",
      "Val Epoch:67: 0it [00:00, ?it/s]542840)\u001b[0m \n",
      "Val Epoch:45: 0it [00:00, ?it/s]559202)\u001b[0m \n"
     ]
    },
    {
     "name": "stdout",
     "output_type": "stream",
     "text": [
      "\u001b[36m(tune_with_parameters pid=2542840)\u001b[0m loss: 0.541\u001b[32m [repeated 18x across cluster]\u001b[0m\n"
     ]
    },
    {
     "name": "stderr",
     "output_type": "stream",
     "text": [
      "Val Epoch:45: 47it [00:01, 28.07it/s]\u001b[32m [repeated 20x across cluster]\u001b[0m\n",
      "Val Epoch:68: 0it [00:00, ?it/s]542840)\u001b[0m \n"
     ]
    },
    {
     "name": "stdout",
     "output_type": "stream",
     "text": [
      "\u001b[36m(tune_with_parameters pid=2559202)\u001b[0m loss: 0.314\u001b[32m [repeated 21x across cluster]\u001b[0m\n"
     ]
    },
    {
     "name": "stderr",
     "output_type": "stream",
     "text": [
      "Val Epoch:46: 0it [00:00, ?it/s]559202)\u001b[0m \n"
     ]
    },
    {
     "name": "stdout",
     "output_type": "stream",
     "text": [
      "\u001b[36m(tune_with_parameters pid=2559202)\u001b[0m /tmp/tmpmu81cv6b/checkpoint.pt\n"
     ]
    },
    {
     "name": "stderr",
     "output_type": "stream",
     "text": [
      "\u001b[36m(tune_with_parameters pid=2559202)\u001b[0m Checkpoint successfully created at: Checkpoint(filesystem=local, path=/scratch/users/k23058970/Model training/results/Double Peak LSTM Null/tune_with_parameters_2024-08-19_22-08-05/tune_with_parameters_34c49_00009_9_dp=0.2000,hidden_size=400,lr=0.0012,num_layers=1_2024-08-19_22-08-39/checkpoint_000025)\n",
      "Val Epoch:46: 47it [00:01, 29.74it/s]\u001b[32m [repeated 19x across cluster]\u001b[0m\n"
     ]
    },
    {
     "name": "stdout",
     "output_type": "stream",
     "text": [
      "\u001b[36m(tune_with_parameters pid=2559202)\u001b[0m loss: 0.312\u001b[32m [repeated 23x across cluster]\u001b[0m\n"
     ]
    },
    {
     "name": "stderr",
     "output_type": "stream",
     "text": [
      "Val Epoch:69: 0it [00:00, ?it/s]542840)\u001b[0m \n",
      "Val Epoch:47: 0it [00:00, ?it/s]559202)\u001b[0m \n"
     ]
    },
    {
     "name": "stdout",
     "output_type": "stream",
     "text": [
      "\u001b[36m(tune_with_parameters pid=2542840)\u001b[0m loss: 0.546\u001b[32m [repeated 22x across cluster]\u001b[0m\n"
     ]
    },
    {
     "name": "stderr",
     "output_type": "stream",
     "text": [
      "Val Epoch:47: 47it [00:01, 38.32it/s]\u001b[32m [repeated 18x across cluster]\u001b[0m\n"
     ]
    },
    {
     "name": "stdout",
     "output_type": "stream",
     "text": [
      "\u001b[36m(tune_with_parameters pid=2542840)\u001b[0m loss: 0.557\u001b[32m [repeated 23x across cluster]\u001b[0m\n"
     ]
    },
    {
     "name": "stderr",
     "output_type": "stream",
     "text": [
      "Val Epoch:48: 0it [00:00, ?it/s]\u001b[32m [repeated 2x across cluster]\u001b[0m\n",
      "Val Epoch:48: 47it [00:01, 40.70it/s]2)\u001b[0m \n",
      "Val Epoch:48: 39it [00:00, 42.84it/s]\u001b[32m [repeated 18x across cluster]\u001b[0m\n"
     ]
    },
    {
     "name": "stdout",
     "output_type": "stream",
     "text": [
      "\u001b[36m(tune_with_parameters pid=2542840)\u001b[0m loss: 0.442\u001b[32m [repeated 22x across cluster]\u001b[0m\n"
     ]
    },
    {
     "name": "stderr",
     "output_type": "stream",
     "text": [
      "Val Epoch:49: 0it [00:00, ?it/s]\u001b[32m [repeated 2x across cluster]\u001b[0m\n",
      "Val Epoch:49: 45it [00:01, 44.06it/s]\u001b[32m [repeated 18x across cluster]\u001b[0m\n"
     ]
    },
    {
     "name": "stdout",
     "output_type": "stream",
     "text": [
      "\u001b[36m(tune_with_parameters pid=2559202)\u001b[0m loss: 0.325\u001b[32m [repeated 24x across cluster]\u001b[0m\n"
     ]
    },
    {
     "name": "stderr",
     "output_type": "stream",
     "text": [
      "Val Epoch:72: 0it [00:00, ?it/s]542840)\u001b[0m \n",
      "Val Epoch:50: 0it [00:00, ?it/s]559202)\u001b[0m \n",
      "Val Epoch:72: 47it [00:01, 31.32it/s]\u001b[32m [repeated 11x across cluster]\u001b[0m\n"
     ]
    },
    {
     "name": "stdout",
     "output_type": "stream",
     "text": [
      "\u001b[36m(tune_with_parameters pid=2559202)\u001b[0m loss: 0.230\u001b[32m [repeated 20x across cluster]\u001b[0m\n"
     ]
    },
    {
     "name": "stderr",
     "output_type": "stream",
     "text": [
      "Val Epoch:73: 0it [00:00, ?it/s]542840)\u001b[0m \n",
      "Val Epoch:73: 47it [00:01, 31.81it/s]\u001b[32m [repeated 19x across cluster]\u001b[0m\n",
      "Val Epoch:51: 0it [00:00, ?it/s]559202)\u001b[0m \n"
     ]
    },
    {
     "name": "stdout",
     "output_type": "stream",
     "text": [
      "\u001b[36m(tune_with_parameters pid=2542840)\u001b[0m loss: 0.542\u001b[32m [repeated 24x across cluster]\u001b[0m\n"
     ]
    },
    {
     "name": "stderr",
     "output_type": "stream",
     "text": [
      "Val Epoch:51: 47it [00:01, 32.10it/s]\u001b[32m [repeated 9x across cluster]\u001b[0m\n",
      "Val Epoch:74: 0it [00:00, ?it/s]542840)\u001b[0m \n"
     ]
    },
    {
     "name": "stdout",
     "output_type": "stream",
     "text": [
      "\u001b[36m(tune_with_parameters pid=2542840)\u001b[0m loss: 0.449\u001b[32m [repeated 23x across cluster]\u001b[0m\n"
     ]
    },
    {
     "name": "stderr",
     "output_type": "stream",
     "text": [
      "Val Epoch:52: 0it [00:00, ?it/s]559202)\u001b[0m \n",
      "Val Epoch:52: 47it [00:01, 27.07it/s]2)\u001b[0m \n",
      "Val Epoch:52: 37it [00:01, 37.81it/s]\u001b[32m [repeated 19x across cluster]\u001b[0m\n"
     ]
    },
    {
     "name": "stdout",
     "output_type": "stream",
     "text": [
      "\u001b[36m(tune_with_parameters pid=2559202)\u001b[0m loss: 0.302\u001b[32m [repeated 22x across cluster]\u001b[0m\n"
     ]
    },
    {
     "name": "stderr",
     "output_type": "stream",
     "text": [
      "Val Epoch:53: 0it [00:00, ?it/s]\u001b[32m [repeated 2x across cluster]\u001b[0m\n",
      "Val Epoch:75: 47it [00:01, 37.69it/s]\u001b[32m [repeated 9x across cluster]\u001b[0m\n"
     ]
    },
    {
     "name": "stdout",
     "output_type": "stream",
     "text": [
      "\u001b[36m(tune_with_parameters pid=2542840)\u001b[0m loss: 0.553\u001b[32m [repeated 22x across cluster]\u001b[0m\n"
     ]
    },
    {
     "name": "stderr",
     "output_type": "stream",
     "text": [
      "Val Epoch:76: 0it [00:00, ?it/s]542840)\u001b[0m \n",
      "Val Epoch:76: 33it [00:01, 42.88it/s]\u001b[32m [repeated 15x across cluster]\u001b[0m\n",
      "Val Epoch:54: 0it [00:00, ?it/s]559202)\u001b[0m \n"
     ]
    },
    {
     "name": "stdout",
     "output_type": "stream",
     "text": [
      "\u001b[36m(tune_with_parameters pid=2542840)\u001b[0m loss: 0.565\u001b[32m [repeated 24x across cluster]\u001b[0m\n"
     ]
    },
    {
     "name": "stderr",
     "output_type": "stream",
     "text": [
      "Val Epoch:54: 47it [00:01, 39.61it/s]\u001b[32m [repeated 12x across cluster]\u001b[0m\n",
      "Val Epoch:77: 47it [00:01, 26.44it/s]0)\u001b[0m \n"
     ]
    },
    {
     "name": "stdout",
     "output_type": "stream",
     "text": [
      "\u001b[36m(tune_with_parameters pid=2542840)\u001b[0m loss: 0.581\u001b[32m [repeated 20x across cluster]\u001b[0m\n"
     ]
    },
    {
     "name": "stderr",
     "output_type": "stream",
     "text": [
      "Val Epoch:55: 0it [00:00, ?it/s]\u001b[32m [repeated 2x across cluster]\u001b[0m\n",
      "Val Epoch:55: 38it [00:01, 42.97it/s]\u001b[32m [repeated 16x across cluster]\u001b[0m\n"
     ]
    },
    {
     "name": "stdout",
     "output_type": "stream",
     "text": [
      "\u001b[36m(tune_with_parameters pid=2559202)\u001b[0m loss: 0.280\u001b[32m [repeated 24x across cluster]\u001b[0m\n"
     ]
    },
    {
     "name": "stderr",
     "output_type": "stream",
     "text": [
      "Val Epoch:78: 0it [00:00, ?it/s]542840)\u001b[0m \n",
      "Val Epoch:56: 0it [00:00, ?it/s]559202)\u001b[0m \n",
      "Val Epoch:78: 47it [00:01, 35.01it/s]\u001b[32m [repeated 12x across cluster]\u001b[0m\n"
     ]
    },
    {
     "name": "stdout",
     "output_type": "stream",
     "text": [
      "\u001b[36m(tune_with_parameters pid=2542840)\u001b[0m loss: 0.539\u001b[32m [repeated 23x across cluster]\u001b[0m\n"
     ]
    },
    {
     "name": "stderr",
     "output_type": "stream",
     "text": [
      "Val Epoch:57: 0it [00:00, ?it/s]\u001b[32m [repeated 2x across cluster]\u001b[0m\n",
      "Val Epoch:79: 47it [00:01, 23.97it/s]\u001b[32m [repeated 21x across cluster]\u001b[0m\n"
     ]
    },
    {
     "name": "stdout",
     "output_type": "stream",
     "text": [
      "\u001b[36m(tune_with_parameters pid=2542840)\u001b[0m loss: 0.553\u001b[32m [repeated 24x across cluster]\u001b[0m\n"
     ]
    },
    {
     "name": "stderr",
     "output_type": "stream",
     "text": [
      "Val Epoch:80: 0it [00:00, ?it/s]542840)\u001b[0m \n",
      "Val Epoch:80: 37it [00:01, 39.53it/s]\u001b[32m [repeated 18x across cluster]\u001b[0m\n"
     ]
    },
    {
     "name": "stdout",
     "output_type": "stream",
     "text": [
      "\u001b[36m(tune_with_parameters pid=2559202)\u001b[0m loss: 0.276\u001b[32m [repeated 20x across cluster]\u001b[0m\n"
     ]
    },
    {
     "name": "stderr",
     "output_type": "stream",
     "text": [
      "Val Epoch:58: 0it [00:00, ?it/s]559202)\u001b[0m \n",
      "Val Epoch:58: 47it [00:01, 36.32it/s]\u001b[32m [repeated 12x across cluster]\u001b[0m\n"
     ]
    },
    {
     "name": "stdout",
     "output_type": "stream",
     "text": [
      "\u001b[36m(tune_with_parameters pid=2559202)\u001b[0m loss: 0.276\u001b[32m [repeated 24x across cluster]\u001b[0m\n"
     ]
    },
    {
     "name": "stderr",
     "output_type": "stream",
     "text": [
      "Val Epoch:81: 0it [00:00, ?it/s]542840)\u001b[0m \n",
      "Val Epoch:59: 0it [00:00, ?it/s]559202)\u001b[0m \n",
      "Val Epoch:59: 47it [00:01, 29.03it/s]2)\u001b[0m \n"
     ]
    },
    {
     "name": "stdout",
     "output_type": "stream",
     "text": [
      "\u001b[36m(tune_with_parameters pid=2542840)\u001b[0m loss: 0.539\u001b[32m [repeated 20x across cluster]\u001b[0m\n"
     ]
    },
    {
     "name": "stderr",
     "output_type": "stream",
     "text": [
      "Val Epoch:59: 37it [00:01, 43.28it/s]\u001b[32m [repeated 18x across cluster]\u001b[0m\n",
      "Val Epoch:82: 0it [00:00, ?it/s]542840)\u001b[0m \n",
      "Val Epoch:60: 0it [00:00, ?it/s]559202)\u001b[0m \n",
      "Val Epoch:82: 47it [00:01, 27.27it/s]0)\u001b[0m \n"
     ]
    },
    {
     "name": "stdout",
     "output_type": "stream",
     "text": [
      "\u001b[36m(tune_with_parameters pid=2542840)\u001b[0m loss: 0.549\u001b[32m [repeated 25x across cluster]\u001b[0m\n"
     ]
    },
    {
     "name": "stderr",
     "output_type": "stream",
     "text": [
      "Val Epoch:60: 47it [00:01, 30.90it/s]\u001b[32m [repeated 18x across cluster]\u001b[0m\n",
      "Val Epoch:83: 0it [00:00, ?it/s]542840)\u001b[0m \n"
     ]
    },
    {
     "name": "stdout",
     "output_type": "stream",
     "text": [
      "\u001b[36m(tune_with_parameters pid=2542840)\u001b[0m loss: 0.515\u001b[32m [repeated 20x across cluster]\u001b[0m\n"
     ]
    },
    {
     "name": "stderr",
     "output_type": "stream",
     "text": [
      "Val Epoch:61: 0it [00:00, ?it/s]559202)\u001b[0m \n",
      "Val Epoch:83: 47it [00:01, 27.91it/s]\u001b[32m [repeated 11x across cluster]\u001b[0m\n"
     ]
    },
    {
     "name": "stdout",
     "output_type": "stream",
     "text": [
      "\u001b[36m(tune_with_parameters pid=2559202)\u001b[0m loss: 0.277\u001b[32m [repeated 24x across cluster]\u001b[0m\n"
     ]
    },
    {
     "name": "stderr",
     "output_type": "stream",
     "text": [
      "Val Epoch:62: 0it [00:00, ?it/s]\u001b[32m [repeated 2x across cluster]\u001b[0m\n",
      "Val Epoch:84: 47it [00:01, 39.83it/s]\u001b[32m [repeated 19x across cluster]\u001b[0m\n"
     ]
    },
    {
     "name": "stdout",
     "output_type": "stream",
     "text": [
      "\u001b[36m(tune_with_parameters pid=2542840)\u001b[0m loss: 0.543\u001b[32m [repeated 25x across cluster]\u001b[0m\n"
     ]
    },
    {
     "name": "stderr",
     "output_type": "stream",
     "text": [
      "Val Epoch:85: 47it [00:01, 31.53it/s]0)\u001b[0m \n",
      "Val Epoch:63: 0it [00:00, ?it/s]\u001b[32m [repeated 2x across cluster]\u001b[0m\n",
      "Val Epoch:85: 40it [00:01, 37.10it/s]\u001b[32m [repeated 19x across cluster]\u001b[0m\n"
     ]
    },
    {
     "name": "stdout",
     "output_type": "stream",
     "text": [
      "\u001b[36m(tune_with_parameters pid=2542840)\u001b[0m loss: 0.560\u001b[32m [repeated 24x across cluster]\u001b[0m\n"
     ]
    },
    {
     "name": "stderr",
     "output_type": "stream",
     "text": [
      "Val Epoch:86: 47it [00:01, 39.22it/s]0)\u001b[0m \n"
     ]
    },
    {
     "name": "stdout",
     "output_type": "stream",
     "text": [
      "\u001b[36m(tune_with_parameters pid=2559202)\u001b[0m loss: 0.273\u001b[32m [repeated 17x across cluster]\u001b[0m\n"
     ]
    },
    {
     "name": "stderr",
     "output_type": "stream",
     "text": [
      "Val Epoch:64: 0it [00:00, ?it/s]\u001b[32m [repeated 2x across cluster]\u001b[0m\n",
      "Val Epoch:86: 35it [00:00, 44.83it/s]\u001b[32m [repeated 17x across cluster]\u001b[0m\n"
     ]
    },
    {
     "name": "stdout",
     "output_type": "stream",
     "text": [
      "\u001b[36m(tune_with_parameters pid=2559202)\u001b[0m loss: 0.251\u001b[32m [repeated 21x across cluster]\u001b[0m\n",
      "\u001b[36m(tune_with_parameters pid=2542840)\u001b[0m /tmp/tmpeaizwr1e/checkpoint.pt\n"
     ]
    },
    {
     "name": "stderr",
     "output_type": "stream",
     "text": [
      "\u001b[36m(tune_with_parameters pid=2542840)\u001b[0m Checkpoint successfully created at: Checkpoint(filesystem=local, path=/scratch/users/k23058970/Model training/results/Double Peak LSTM Null/tune_with_parameters_2024-08-19_22-08-05/tune_with_parameters_34c49_00008_8_dp=0.5000,hidden_size=200,lr=0.0718,num_layers=1_2024-08-19_22-08-39/checkpoint_000006)\n",
      "Val Epoch:65: 0it [00:00, ?it/s]\u001b[32m [repeated 2x across cluster]\u001b[0m\n",
      "Val Epoch:87: 47it [00:01, 34.09it/s]\u001b[32m [repeated 18x across cluster]\u001b[0m\n"
     ]
    },
    {
     "name": "stdout",
     "output_type": "stream",
     "text": [
      "\u001b[36m(tune_with_parameters pid=2542840)\u001b[0m loss: 0.555\u001b[32m [repeated 25x across cluster]\u001b[0m\n"
     ]
    },
    {
     "name": "stderr",
     "output_type": "stream",
     "text": [
      "Val Epoch:88: 47it [00:01, 32.50it/s]0)\u001b[0m \n"
     ]
    },
    {
     "name": "stdout",
     "output_type": "stream",
     "text": [
      "\u001b[36m(tune_with_parameters pid=2542840)\u001b[0m loss: 0.558\u001b[32m [repeated 21x across cluster]\u001b[0m\n"
     ]
    },
    {
     "name": "stderr",
     "output_type": "stream",
     "text": [
      "Val Epoch:66: 0it [00:00, ?it/s]\u001b[32m [repeated 2x across cluster]\u001b[0m\n",
      "Val Epoch:88: 42it [00:01, 42.61it/s]\u001b[32m [repeated 18x across cluster]\u001b[0m\n"
     ]
    },
    {
     "name": "stdout",
     "output_type": "stream",
     "text": [
      "\u001b[36m(tune_with_parameters pid=2559202)\u001b[0m loss: 0.276\u001b[32m [repeated 17x across cluster]\u001b[0m\n"
     ]
    },
    {
     "name": "stderr",
     "output_type": "stream",
     "text": [
      "Val Epoch:67: 0it [00:00, ?it/s]\u001b[32m [repeated 2x across cluster]\u001b[0m\n",
      "Val Epoch:89: 47it [00:01, 31.41it/s]\u001b[32m [repeated 19x across cluster]\u001b[0m\n"
     ]
    },
    {
     "name": "stdout",
     "output_type": "stream",
     "text": [
      "\u001b[36m(tune_with_parameters pid=2559202)\u001b[0m /tmp/tmpdkyt34fw/checkpoint.pt\n"
     ]
    },
    {
     "name": "stderr",
     "output_type": "stream",
     "text": [
      "\u001b[36m(tune_with_parameters pid=2559202)\u001b[0m Checkpoint successfully created at: Checkpoint(filesystem=local, path=/scratch/users/k23058970/Model training/results/Double Peak LSTM Null/tune_with_parameters_2024-08-19_22-08-05/tune_with_parameters_34c49_00009_9_dp=0.2000,hidden_size=400,lr=0.0012,num_layers=1_2024-08-19_22-08-39/checkpoint_000026)\n"
     ]
    },
    {
     "name": "stdout",
     "output_type": "stream",
     "text": [
      "\u001b[36m(tune_with_parameters pid=2559202)\u001b[0m loss: 0.341\u001b[32m [repeated 26x across cluster]\u001b[0m\n"
     ]
    },
    {
     "name": "stderr",
     "output_type": "stream",
     "text": [
      "Val Epoch:68: 0it [00:00, ?it/s]\u001b[32m [repeated 2x across cluster]\u001b[0m\n",
      "Val Epoch:90: 47it [00:01, 30.06it/s]\u001b[32m [repeated 20x across cluster]\u001b[0m\n"
     ]
    },
    {
     "name": "stdout",
     "output_type": "stream",
     "text": [
      "\u001b[36m(tune_with_parameters pid=2542840)\u001b[0m loss: 0.552\u001b[32m [repeated 23x across cluster]\u001b[0m\n",
      "\u001b[36m(tune_with_parameters pid=2559202)\u001b[0m /tmp/tmpfrwlgi2a/checkpoint.pt\n"
     ]
    },
    {
     "name": "stderr",
     "output_type": "stream",
     "text": [
      "\u001b[36m(tune_with_parameters pid=2559202)\u001b[0m Checkpoint successfully created at: Checkpoint(filesystem=local, path=/scratch/users/k23058970/Model training/results/Double Peak LSTM Null/tune_with_parameters_2024-08-19_22-08-05/tune_with_parameters_34c49_00009_9_dp=0.2000,hidden_size=400,lr=0.0012,num_layers=1_2024-08-19_22-08-39/checkpoint_000027)\n"
     ]
    },
    {
     "name": "stdout",
     "output_type": "stream",
     "text": [
      "\u001b[36m(tune_with_parameters pid=2542840)\u001b[0m loss: 0.551\u001b[32m [repeated 19x across cluster]\u001b[0m\n"
     ]
    },
    {
     "name": "stderr",
     "output_type": "stream",
     "text": [
      "Val Epoch:69: 0it [00:00, ?it/s]\u001b[32m [repeated 2x across cluster]\u001b[0m\n",
      "Val Epoch:91: 47it [00:01, 28.34it/s]\u001b[32m [repeated 19x across cluster]\u001b[0m\n"
     ]
    },
    {
     "name": "stdout",
     "output_type": "stream",
     "text": [
      "\u001b[36m(tune_with_parameters pid=2559202)\u001b[0m loss: 0.290\u001b[32m [repeated 18x across cluster]\u001b[0m\n"
     ]
    },
    {
     "name": "stderr",
     "output_type": "stream",
     "text": [
      "Val Epoch:92: 47it [00:01, 24.06it/s]0)\u001b[0m \n",
      "Val Epoch:70: 0it [00:00, ?it/s]\u001b[32m [repeated 2x across cluster]\u001b[0m\n",
      "Val Epoch:92: 39it [00:01, 35.39it/s]\u001b[32m [repeated 20x across cluster]\u001b[0m\n"
     ]
    },
    {
     "name": "stdout",
     "output_type": "stream",
     "text": [
      "\u001b[36m(tune_with_parameters pid=2559202)\u001b[0m loss: 0.281\u001b[32m [repeated 20x across cluster]\u001b[0m\n"
     ]
    },
    {
     "name": "stderr",
     "output_type": "stream",
     "text": [
      "2024-08-19 22:42:23,816\tINFO tune.py:1009 -- Wrote the latest version of all result files and experiment state to '/scratch/users/k23058970/Model training/results/Double Peak LSTM Null/tune_with_parameters_2024-08-19_22-08-05' in 0.0471s.\n",
      "2024-08-19 22:42:23,825\tINFO tune.py:1041 -- Total run time: 2024.69 seconds (2024.59 seconds for the tuning loop).\n"
     ]
    },
    {
     "name": "stdout",
     "output_type": "stream",
     "text": [
      "Best trial config: {'hidden_size': 500, 'num_layers': 1, 'dp': 0.1, 'l1': 32, 'l2': 16, 'lr': 0.0013274002065234065}\n",
      "Best trial final validation loss: 0.14100233608103813\n",
      "Best trial final validation accuracy: 0.931\n",
      "Best trial f1-score: 0.932121753692627\n"
     ]
    },
    {
     "name": "stderr",
     "output_type": "stream",
     "text": [
      "/users/k23058970/miniforge3/envs/Training/lib/python3.10/site-packages/torch/nn/modules/lazy.py:181: UserWarning: Lazy modules are a new feature under heavy development so changes to the API or functionality can happen at any moment.\n",
      "  warnings.warn('Lazy modules are a new feature under heavy development '\n",
      "Test Epoch: 100%|██████████| 47/47 [00:03<00:00, 14.75it/s]"
     ]
    },
    {
     "name": "stdout",
     "output_type": "stream",
     "text": [
      "Best Test Set Accuracy:0.9173333333333333\n",
      "Best F1-Score: <training_insilico_lstm.F1_score_running object at 0x7c9aa5d1cee0>\n"
     ]
    },
    {
     "name": "stderr",
     "output_type": "stream",
     "text": [
      "\n"
     ]
    }
   ],
   "source": [
    "DATASET_DIR = \"/scratch/users/k23058970/Model training/Null Dataset/Double Peak\"\n",
    "main(dataset_dir=DATASET_DIR,dset_name = \"Double Peak LSTM Null\")"
   ]
  },
  {
   "cell_type": "code",
   "execution_count": null,
   "id": "0c63eef3-4744-4768-9263-4df84d5acc7b",
   "metadata": {},
   "outputs": [],
   "source": []
  }
 ],
 "metadata": {
  "kernelspec": {
   "display_name": "Training",
   "language": "python",
   "name": "training"
  },
  "language_info": {
   "codemirror_mode": {
    "name": "ipython",
    "version": 3
   },
   "file_extension": ".py",
   "mimetype": "text/x-python",
   "name": "python",
   "nbconvert_exporter": "python",
   "pygments_lexer": "ipython3",
   "version": "3.10.14"
  }
 },
 "nbformat": 4,
 "nbformat_minor": 5
}
