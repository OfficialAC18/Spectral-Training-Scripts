{
 "cells": [
  {
   "cell_type": "code",
   "execution_count": 1,
   "id": "8c8211e3-33b5-48af-be3b-8c8fe468fc1d",
   "metadata": {},
   "outputs": [],
   "source": [
    "#Call Main and let it run\n",
    "from training_two_class_exvivo_lstm import main"
   ]
  },
  {
   "cell_type": "code",
   "execution_count": 2,
   "id": "c329fb08-6c5d-42fa-99bf-560dc170a20e",
   "metadata": {},
   "outputs": [
    {
     "data": {
      "text/html": [
       "<div class=\"tuneStatus\">\n",
       "  <div style=\"display: flex;flex-direction: row\">\n",
       "    <div style=\"display: flex;flex-direction: column;\">\n",
       "      <h3>Tune Status</h3>\n",
       "      <table>\n",
       "<tbody>\n",
       "<tr><td>Current time:</td><td>2024-07-30 22:42:28</td></tr>\n",
       "<tr><td>Running for: </td><td>04:26:43.01        </td></tr>\n",
       "<tr><td>Memory:      </td><td>148.1/1007.5 GiB   </td></tr>\n",
       "</tbody>\n",
       "</table>\n",
       "    </div>\n",
       "    <div class=\"vDivider\"></div>\n",
       "    <div class=\"systemInfo\">\n",
       "      <h3>System Info</h3>\n",
       "      Using AsyncHyperBand: num_stopped=1<br>Bracket: Iter 960.000: None | Iter 480.000: None | Iter 240.000: None | Iter 120.000: None | Iter 60.000: None | Iter 30.000: -0.6040276196869937 | Iter 15.000: -0.5992415899580175<br>Logical resource usage: 96.0/96 CPUs, 0.8/1 GPUs (0.0/1.0 accelerator_type:A30)\n",
       "    </div>\n",
       "    \n",
       "  </div>\n",
       "  <div class=\"hDivider\"></div>\n",
       "  <div class=\"trialStatus\">\n",
       "    <h3>Trial Status</h3>\n",
       "    <table>\n",
       "<thead>\n",
       "<tr><th>Trial name                      </th><th>status    </th><th>loc               </th><th style=\"text-align: right;\">  dp</th><th style=\"text-align: right;\">  hidden_size</th><th style=\"text-align: right;\">        lr</th><th style=\"text-align: right;\">  num_layers</th><th style=\"text-align: right;\">  iter</th><th style=\"text-align: right;\">  total time (s)</th><th style=\"text-align: right;\">    loss</th><th style=\"text-align: right;\">  accuracy</th><th style=\"text-align: right;\">      f1</th></tr>\n",
       "</thead>\n",
       "<tbody>\n",
       "<tr><td>tune_with_parameters_5bcb0_00001</td><td>RUNNING   </td><td>10.211.4.4:3287704</td><td style=\"text-align: right;\">0.5 </td><td style=\"text-align: right;\">          100</td><td style=\"text-align: right;\">0.0130929 </td><td style=\"text-align: right;\">           5</td><td style=\"text-align: right;\">    28</td><td style=\"text-align: right;\">        15598.7 </td><td style=\"text-align: right;\">0.597172</td><td style=\"text-align: right;\">  0.740238</td><td style=\"text-align: right;\">0.629744</td></tr>\n",
       "<tr><td>tune_with_parameters_5bcb0_00002</td><td>RUNNING   </td><td>10.211.4.4:3287705</td><td style=\"text-align: right;\">0.2 </td><td style=\"text-align: right;\">          100</td><td style=\"text-align: right;\">0.0046169 </td><td style=\"text-align: right;\">           2</td><td style=\"text-align: right;\">    37</td><td style=\"text-align: right;\">        15926.4 </td><td style=\"text-align: right;\">0.600442</td><td style=\"text-align: right;\">  0.74022 </td><td style=\"text-align: right;\">0.629735</td></tr>\n",
       "<tr><td>tune_with_parameters_5bcb0_00003</td><td>RUNNING   </td><td>10.211.4.4:3287706</td><td style=\"text-align: right;\">0.25</td><td style=\"text-align: right;\">          500</td><td style=\"text-align: right;\">0.0934021 </td><td style=\"text-align: right;\">           5</td><td style=\"text-align: right;\">    36</td><td style=\"text-align: right;\">        15946.2 </td><td style=\"text-align: right;\">0.599104</td><td style=\"text-align: right;\">  0.740238</td><td style=\"text-align: right;\">0.629744</td></tr>\n",
       "<tr><td>tune_with_parameters_5bcb0_00004</td><td>RUNNING   </td><td>10.211.4.4:3602604</td><td style=\"text-align: right;\">0.25</td><td style=\"text-align: right;\">          300</td><td style=\"text-align: right;\">0.00295292</td><td style=\"text-align: right;\">           5</td><td style=\"text-align: right;\">     6</td><td style=\"text-align: right;\">         2005.33</td><td style=\"text-align: right;\">0.599423</td><td style=\"text-align: right;\">  0.740238</td><td style=\"text-align: right;\">0.629744</td></tr>\n",
       "<tr><td>tune_with_parameters_5bcb0_00005</td><td>PENDING   </td><td>                  </td><td style=\"text-align: right;\">0.5 </td><td style=\"text-align: right;\">          100</td><td style=\"text-align: right;\">0.029226  </td><td style=\"text-align: right;\">           3</td><td style=\"text-align: right;\">      </td><td style=\"text-align: right;\">                </td><td style=\"text-align: right;\">        </td><td style=\"text-align: right;\">          </td><td style=\"text-align: right;\">        </td></tr>\n",
       "<tr><td>tune_with_parameters_5bcb0_00006</td><td>PENDING   </td><td>                  </td><td style=\"text-align: right;\">0.1 </td><td style=\"text-align: right;\">          500</td><td style=\"text-align: right;\">0.0273939 </td><td style=\"text-align: right;\">           5</td><td style=\"text-align: right;\">      </td><td style=\"text-align: right;\">                </td><td style=\"text-align: right;\">        </td><td style=\"text-align: right;\">          </td><td style=\"text-align: right;\">        </td></tr>\n",
       "<tr><td>tune_with_parameters_5bcb0_00007</td><td>PENDING   </td><td>                  </td><td style=\"text-align: right;\">0.1 </td><td style=\"text-align: right;\">          200</td><td style=\"text-align: right;\">0.00107712</td><td style=\"text-align: right;\">           4</td><td style=\"text-align: right;\">      </td><td style=\"text-align: right;\">                </td><td style=\"text-align: right;\">        </td><td style=\"text-align: right;\">          </td><td style=\"text-align: right;\">        </td></tr>\n",
       "<tr><td>tune_with_parameters_5bcb0_00008</td><td>PENDING   </td><td>                  </td><td style=\"text-align: right;\">0.2 </td><td style=\"text-align: right;\">          200</td><td style=\"text-align: right;\">0.00564937</td><td style=\"text-align: right;\">           1</td><td style=\"text-align: right;\">      </td><td style=\"text-align: right;\">                </td><td style=\"text-align: right;\">        </td><td style=\"text-align: right;\">          </td><td style=\"text-align: right;\">        </td></tr>\n",
       "<tr><td>tune_with_parameters_5bcb0_00009</td><td>PENDING   </td><td>                  </td><td style=\"text-align: right;\">0.5 </td><td style=\"text-align: right;\">          400</td><td style=\"text-align: right;\">0.00127019</td><td style=\"text-align: right;\">           1</td><td style=\"text-align: right;\">      </td><td style=\"text-align: right;\">                </td><td style=\"text-align: right;\">        </td><td style=\"text-align: right;\">          </td><td style=\"text-align: right;\">        </td></tr>\n",
       "<tr><td>tune_with_parameters_5bcb0_00010</td><td>PENDING   </td><td>                  </td><td style=\"text-align: right;\">0.1 </td><td style=\"text-align: right;\">          100</td><td style=\"text-align: right;\">0.0114394 </td><td style=\"text-align: right;\">           4</td><td style=\"text-align: right;\">      </td><td style=\"text-align: right;\">                </td><td style=\"text-align: right;\">        </td><td style=\"text-align: right;\">          </td><td style=\"text-align: right;\">        </td></tr>\n",
       "<tr><td>tune_with_parameters_5bcb0_00011</td><td>PENDING   </td><td>                  </td><td style=\"text-align: right;\">0.25</td><td style=\"text-align: right;\">          300</td><td style=\"text-align: right;\">0.00122909</td><td style=\"text-align: right;\">           2</td><td style=\"text-align: right;\">      </td><td style=\"text-align: right;\">                </td><td style=\"text-align: right;\">        </td><td style=\"text-align: right;\">          </td><td style=\"text-align: right;\">        </td></tr>\n",
       "<tr><td>tune_with_parameters_5bcb0_00012</td><td>PENDING   </td><td>                  </td><td style=\"text-align: right;\">0.5 </td><td style=\"text-align: right;\">          100</td><td style=\"text-align: right;\">0.0095605 </td><td style=\"text-align: right;\">           1</td><td style=\"text-align: right;\">      </td><td style=\"text-align: right;\">                </td><td style=\"text-align: right;\">        </td><td style=\"text-align: right;\">          </td><td style=\"text-align: right;\">        </td></tr>\n",
       "<tr><td>tune_with_parameters_5bcb0_00013</td><td>PENDING   </td><td>                  </td><td style=\"text-align: right;\">0.5 </td><td style=\"text-align: right;\">          400</td><td style=\"text-align: right;\">0.00351573</td><td style=\"text-align: right;\">           1</td><td style=\"text-align: right;\">      </td><td style=\"text-align: right;\">                </td><td style=\"text-align: right;\">        </td><td style=\"text-align: right;\">          </td><td style=\"text-align: right;\">        </td></tr>\n",
       "<tr><td>tune_with_parameters_5bcb0_00014</td><td>PENDING   </td><td>                  </td><td style=\"text-align: right;\">0.25</td><td style=\"text-align: right;\">          100</td><td style=\"text-align: right;\">0.0222126 </td><td style=\"text-align: right;\">           1</td><td style=\"text-align: right;\">      </td><td style=\"text-align: right;\">                </td><td style=\"text-align: right;\">        </td><td style=\"text-align: right;\">          </td><td style=\"text-align: right;\">        </td></tr>\n",
       "<tr><td>tune_with_parameters_5bcb0_00015</td><td>PENDING   </td><td>                  </td><td style=\"text-align: right;\">0.2 </td><td style=\"text-align: right;\">          300</td><td style=\"text-align: right;\">0.0334629 </td><td style=\"text-align: right;\">           2</td><td style=\"text-align: right;\">      </td><td style=\"text-align: right;\">                </td><td style=\"text-align: right;\">        </td><td style=\"text-align: right;\">          </td><td style=\"text-align: right;\">        </td></tr>\n",
       "<tr><td>tune_with_parameters_5bcb0_00016</td><td>PENDING   </td><td>                  </td><td style=\"text-align: right;\">0.1 </td><td style=\"text-align: right;\">          500</td><td style=\"text-align: right;\">0.00580549</td><td style=\"text-align: right;\">           4</td><td style=\"text-align: right;\">      </td><td style=\"text-align: right;\">                </td><td style=\"text-align: right;\">        </td><td style=\"text-align: right;\">          </td><td style=\"text-align: right;\">        </td></tr>\n",
       "<tr><td>tune_with_parameters_5bcb0_00017</td><td>PENDING   </td><td>                  </td><td style=\"text-align: right;\">0.2 </td><td style=\"text-align: right;\">          200</td><td style=\"text-align: right;\">0.00799881</td><td style=\"text-align: right;\">           1</td><td style=\"text-align: right;\">      </td><td style=\"text-align: right;\">                </td><td style=\"text-align: right;\">        </td><td style=\"text-align: right;\">          </td><td style=\"text-align: right;\">        </td></tr>\n",
       "<tr><td>tune_with_parameters_5bcb0_00018</td><td>PENDING   </td><td>                  </td><td style=\"text-align: right;\">0.5 </td><td style=\"text-align: right;\">          400</td><td style=\"text-align: right;\">0.0105466 </td><td style=\"text-align: right;\">           2</td><td style=\"text-align: right;\">      </td><td style=\"text-align: right;\">                </td><td style=\"text-align: right;\">        </td><td style=\"text-align: right;\">          </td><td style=\"text-align: right;\">        </td></tr>\n",
       "<tr><td>tune_with_parameters_5bcb0_00019</td><td>PENDING   </td><td>                  </td><td style=\"text-align: right;\">0.1 </td><td style=\"text-align: right;\">          300</td><td style=\"text-align: right;\">0.00133821</td><td style=\"text-align: right;\">           3</td><td style=\"text-align: right;\">      </td><td style=\"text-align: right;\">                </td><td style=\"text-align: right;\">        </td><td style=\"text-align: right;\">          </td><td style=\"text-align: right;\">        </td></tr>\n",
       "<tr><td>tune_with_parameters_5bcb0_00020</td><td>PENDING   </td><td>                  </td><td style=\"text-align: right;\">0.25</td><td style=\"text-align: right;\">          100</td><td style=\"text-align: right;\">0.0845673 </td><td style=\"text-align: right;\">           3</td><td style=\"text-align: right;\">      </td><td style=\"text-align: right;\">                </td><td style=\"text-align: right;\">        </td><td style=\"text-align: right;\">          </td><td style=\"text-align: right;\">        </td></tr>\n",
       "<tr><td>tune_with_parameters_5bcb0_00021</td><td>PENDING   </td><td>                  </td><td style=\"text-align: right;\">0.5 </td><td style=\"text-align: right;\">          300</td><td style=\"text-align: right;\">0.00801403</td><td style=\"text-align: right;\">           2</td><td style=\"text-align: right;\">      </td><td style=\"text-align: right;\">                </td><td style=\"text-align: right;\">        </td><td style=\"text-align: right;\">          </td><td style=\"text-align: right;\">        </td></tr>\n",
       "<tr><td>tune_with_parameters_5bcb0_00022</td><td>PENDING   </td><td>                  </td><td style=\"text-align: right;\">0.1 </td><td style=\"text-align: right;\">          300</td><td style=\"text-align: right;\">0.00743306</td><td style=\"text-align: right;\">           4</td><td style=\"text-align: right;\">      </td><td style=\"text-align: right;\">                </td><td style=\"text-align: right;\">        </td><td style=\"text-align: right;\">          </td><td style=\"text-align: right;\">        </td></tr>\n",
       "<tr><td>tune_with_parameters_5bcb0_00023</td><td>PENDING   </td><td>                  </td><td style=\"text-align: right;\">0.25</td><td style=\"text-align: right;\">          100</td><td style=\"text-align: right;\">0.0454379 </td><td style=\"text-align: right;\">           2</td><td style=\"text-align: right;\">      </td><td style=\"text-align: right;\">                </td><td style=\"text-align: right;\">        </td><td style=\"text-align: right;\">          </td><td style=\"text-align: right;\">        </td></tr>\n",
       "<tr><td>tune_with_parameters_5bcb0_00024</td><td>PENDING   </td><td>                  </td><td style=\"text-align: right;\">0.25</td><td style=\"text-align: right;\">          200</td><td style=\"text-align: right;\">0.00660794</td><td style=\"text-align: right;\">           1</td><td style=\"text-align: right;\">      </td><td style=\"text-align: right;\">                </td><td style=\"text-align: right;\">        </td><td style=\"text-align: right;\">          </td><td style=\"text-align: right;\">        </td></tr>\n",
       "<tr><td>tune_with_parameters_5bcb0_00025</td><td>PENDING   </td><td>                  </td><td style=\"text-align: right;\">0.25</td><td style=\"text-align: right;\">          200</td><td style=\"text-align: right;\">0.00657515</td><td style=\"text-align: right;\">           2</td><td style=\"text-align: right;\">      </td><td style=\"text-align: right;\">                </td><td style=\"text-align: right;\">        </td><td style=\"text-align: right;\">          </td><td style=\"text-align: right;\">        </td></tr>\n",
       "<tr><td>tune_with_parameters_5bcb0_00026</td><td>PENDING   </td><td>                  </td><td style=\"text-align: right;\">0.5 </td><td style=\"text-align: right;\">          400</td><td style=\"text-align: right;\">0.00388757</td><td style=\"text-align: right;\">           2</td><td style=\"text-align: right;\">      </td><td style=\"text-align: right;\">                </td><td style=\"text-align: right;\">        </td><td style=\"text-align: right;\">          </td><td style=\"text-align: right;\">        </td></tr>\n",
       "<tr><td>tune_with_parameters_5bcb0_00027</td><td>PENDING   </td><td>                  </td><td style=\"text-align: right;\">0.25</td><td style=\"text-align: right;\">          200</td><td style=\"text-align: right;\">0.00261967</td><td style=\"text-align: right;\">           5</td><td style=\"text-align: right;\">      </td><td style=\"text-align: right;\">                </td><td style=\"text-align: right;\">        </td><td style=\"text-align: right;\">          </td><td style=\"text-align: right;\">        </td></tr>\n",
       "<tr><td>tune_with_parameters_5bcb0_00028</td><td>PENDING   </td><td>                  </td><td style=\"text-align: right;\">0.5 </td><td style=\"text-align: right;\">          300</td><td style=\"text-align: right;\">0.00735322</td><td style=\"text-align: right;\">           4</td><td style=\"text-align: right;\">      </td><td style=\"text-align: right;\">                </td><td style=\"text-align: right;\">        </td><td style=\"text-align: right;\">          </td><td style=\"text-align: right;\">        </td></tr>\n",
       "<tr><td>tune_with_parameters_5bcb0_00029</td><td>PENDING   </td><td>                  </td><td style=\"text-align: right;\">0.2 </td><td style=\"text-align: right;\">          400</td><td style=\"text-align: right;\">0.0029217 </td><td style=\"text-align: right;\">           2</td><td style=\"text-align: right;\">      </td><td style=\"text-align: right;\">                </td><td style=\"text-align: right;\">        </td><td style=\"text-align: right;\">          </td><td style=\"text-align: right;\">        </td></tr>\n",
       "<tr><td>tune_with_parameters_5bcb0_00030</td><td>PENDING   </td><td>                  </td><td style=\"text-align: right;\">0.2 </td><td style=\"text-align: right;\">          100</td><td style=\"text-align: right;\">0.00368843</td><td style=\"text-align: right;\">           4</td><td style=\"text-align: right;\">      </td><td style=\"text-align: right;\">                </td><td style=\"text-align: right;\">        </td><td style=\"text-align: right;\">          </td><td style=\"text-align: right;\">        </td></tr>\n",
       "<tr><td>tune_with_parameters_5bcb0_00031</td><td>PENDING   </td><td>                  </td><td style=\"text-align: right;\">0.1 </td><td style=\"text-align: right;\">          300</td><td style=\"text-align: right;\">0.0625632 </td><td style=\"text-align: right;\">           1</td><td style=\"text-align: right;\">      </td><td style=\"text-align: right;\">                </td><td style=\"text-align: right;\">        </td><td style=\"text-align: right;\">          </td><td style=\"text-align: right;\">        </td></tr>\n",
       "<tr><td>tune_with_parameters_5bcb0_00032</td><td>PENDING   </td><td>                  </td><td style=\"text-align: right;\">0.1 </td><td style=\"text-align: right;\">          500</td><td style=\"text-align: right;\">0.0219746 </td><td style=\"text-align: right;\">           2</td><td style=\"text-align: right;\">      </td><td style=\"text-align: right;\">                </td><td style=\"text-align: right;\">        </td><td style=\"text-align: right;\">          </td><td style=\"text-align: right;\">        </td></tr>\n",
       "<tr><td>tune_with_parameters_5bcb0_00033</td><td>PENDING   </td><td>                  </td><td style=\"text-align: right;\">0.1 </td><td style=\"text-align: right;\">          300</td><td style=\"text-align: right;\">0.00432637</td><td style=\"text-align: right;\">           4</td><td style=\"text-align: right;\">      </td><td style=\"text-align: right;\">                </td><td style=\"text-align: right;\">        </td><td style=\"text-align: right;\">          </td><td style=\"text-align: right;\">        </td></tr>\n",
       "<tr><td>tune_with_parameters_5bcb0_00034</td><td>PENDING   </td><td>                  </td><td style=\"text-align: right;\">0.5 </td><td style=\"text-align: right;\">          200</td><td style=\"text-align: right;\">0.0010468 </td><td style=\"text-align: right;\">           1</td><td style=\"text-align: right;\">      </td><td style=\"text-align: right;\">                </td><td style=\"text-align: right;\">        </td><td style=\"text-align: right;\">          </td><td style=\"text-align: right;\">        </td></tr>\n",
       "<tr><td>tune_with_parameters_5bcb0_00035</td><td>PENDING   </td><td>                  </td><td style=\"text-align: right;\">0.5 </td><td style=\"text-align: right;\">          100</td><td style=\"text-align: right;\">0.0657647 </td><td style=\"text-align: right;\">           5</td><td style=\"text-align: right;\">      </td><td style=\"text-align: right;\">                </td><td style=\"text-align: right;\">        </td><td style=\"text-align: right;\">          </td><td style=\"text-align: right;\">        </td></tr>\n",
       "<tr><td>tune_with_parameters_5bcb0_00036</td><td>PENDING   </td><td>                  </td><td style=\"text-align: right;\">0.25</td><td style=\"text-align: right;\">          300</td><td style=\"text-align: right;\">0.0144862 </td><td style=\"text-align: right;\">           3</td><td style=\"text-align: right;\">      </td><td style=\"text-align: right;\">                </td><td style=\"text-align: right;\">        </td><td style=\"text-align: right;\">          </td><td style=\"text-align: right;\">        </td></tr>\n",
       "<tr><td>tune_with_parameters_5bcb0_00037</td><td>PENDING   </td><td>                  </td><td style=\"text-align: right;\">0.2 </td><td style=\"text-align: right;\">          300</td><td style=\"text-align: right;\">0.00744   </td><td style=\"text-align: right;\">           1</td><td style=\"text-align: right;\">      </td><td style=\"text-align: right;\">                </td><td style=\"text-align: right;\">        </td><td style=\"text-align: right;\">          </td><td style=\"text-align: right;\">        </td></tr>\n",
       "<tr><td>tune_with_parameters_5bcb0_00038</td><td>PENDING   </td><td>                  </td><td style=\"text-align: right;\">0.25</td><td style=\"text-align: right;\">          500</td><td style=\"text-align: right;\">0.0271043 </td><td style=\"text-align: right;\">           5</td><td style=\"text-align: right;\">      </td><td style=\"text-align: right;\">                </td><td style=\"text-align: right;\">        </td><td style=\"text-align: right;\">          </td><td style=\"text-align: right;\">        </td></tr>\n",
       "<tr><td>tune_with_parameters_5bcb0_00039</td><td>PENDING   </td><td>                  </td><td style=\"text-align: right;\">0.5 </td><td style=\"text-align: right;\">          200</td><td style=\"text-align: right;\">0.0322131 </td><td style=\"text-align: right;\">           3</td><td style=\"text-align: right;\">      </td><td style=\"text-align: right;\">                </td><td style=\"text-align: right;\">        </td><td style=\"text-align: right;\">          </td><td style=\"text-align: right;\">        </td></tr>\n",
       "<tr><td>tune_with_parameters_5bcb0_00040</td><td>PENDING   </td><td>                  </td><td style=\"text-align: right;\">0.5 </td><td style=\"text-align: right;\">          300</td><td style=\"text-align: right;\">0.0106599 </td><td style=\"text-align: right;\">           1</td><td style=\"text-align: right;\">      </td><td style=\"text-align: right;\">                </td><td style=\"text-align: right;\">        </td><td style=\"text-align: right;\">          </td><td style=\"text-align: right;\">        </td></tr>\n",
       "<tr><td>tune_with_parameters_5bcb0_00041</td><td>PENDING   </td><td>                  </td><td style=\"text-align: right;\">0.1 </td><td style=\"text-align: right;\">          400</td><td style=\"text-align: right;\">0.0756717 </td><td style=\"text-align: right;\">           5</td><td style=\"text-align: right;\">      </td><td style=\"text-align: right;\">                </td><td style=\"text-align: right;\">        </td><td style=\"text-align: right;\">          </td><td style=\"text-align: right;\">        </td></tr>\n",
       "<tr><td>tune_with_parameters_5bcb0_00042</td><td>PENDING   </td><td>                  </td><td style=\"text-align: right;\">0.5 </td><td style=\"text-align: right;\">          500</td><td style=\"text-align: right;\">0.0105159 </td><td style=\"text-align: right;\">           1</td><td style=\"text-align: right;\">      </td><td style=\"text-align: right;\">                </td><td style=\"text-align: right;\">        </td><td style=\"text-align: right;\">          </td><td style=\"text-align: right;\">        </td></tr>\n",
       "<tr><td>tune_with_parameters_5bcb0_00043</td><td>PENDING   </td><td>                  </td><td style=\"text-align: right;\">0.25</td><td style=\"text-align: right;\">          200</td><td style=\"text-align: right;\">0.0133116 </td><td style=\"text-align: right;\">           1</td><td style=\"text-align: right;\">      </td><td style=\"text-align: right;\">                </td><td style=\"text-align: right;\">        </td><td style=\"text-align: right;\">          </td><td style=\"text-align: right;\">        </td></tr>\n",
       "<tr><td>tune_with_parameters_5bcb0_00044</td><td>PENDING   </td><td>                  </td><td style=\"text-align: right;\">0.1 </td><td style=\"text-align: right;\">          300</td><td style=\"text-align: right;\">0.0384738 </td><td style=\"text-align: right;\">           1</td><td style=\"text-align: right;\">      </td><td style=\"text-align: right;\">                </td><td style=\"text-align: right;\">        </td><td style=\"text-align: right;\">          </td><td style=\"text-align: right;\">        </td></tr>\n",
       "<tr><td>tune_with_parameters_5bcb0_00045</td><td>PENDING   </td><td>                  </td><td style=\"text-align: right;\">0.1 </td><td style=\"text-align: right;\">          500</td><td style=\"text-align: right;\">0.0439264 </td><td style=\"text-align: right;\">           2</td><td style=\"text-align: right;\">      </td><td style=\"text-align: right;\">                </td><td style=\"text-align: right;\">        </td><td style=\"text-align: right;\">          </td><td style=\"text-align: right;\">        </td></tr>\n",
       "<tr><td>tune_with_parameters_5bcb0_00046</td><td>PENDING   </td><td>                  </td><td style=\"text-align: right;\">0.25</td><td style=\"text-align: right;\">          400</td><td style=\"text-align: right;\">0.00712257</td><td style=\"text-align: right;\">           1</td><td style=\"text-align: right;\">      </td><td style=\"text-align: right;\">                </td><td style=\"text-align: right;\">        </td><td style=\"text-align: right;\">          </td><td style=\"text-align: right;\">        </td></tr>\n",
       "<tr><td>tune_with_parameters_5bcb0_00047</td><td>PENDING   </td><td>                  </td><td style=\"text-align: right;\">0.2 </td><td style=\"text-align: right;\">          400</td><td style=\"text-align: right;\">0.00200285</td><td style=\"text-align: right;\">           4</td><td style=\"text-align: right;\">      </td><td style=\"text-align: right;\">                </td><td style=\"text-align: right;\">        </td><td style=\"text-align: right;\">          </td><td style=\"text-align: right;\">        </td></tr>\n",
       "<tr><td>tune_with_parameters_5bcb0_00048</td><td>PENDING   </td><td>                  </td><td style=\"text-align: right;\">0.2 </td><td style=\"text-align: right;\">          500</td><td style=\"text-align: right;\">0.0367236 </td><td style=\"text-align: right;\">           1</td><td style=\"text-align: right;\">      </td><td style=\"text-align: right;\">                </td><td style=\"text-align: right;\">        </td><td style=\"text-align: right;\">          </td><td style=\"text-align: right;\">        </td></tr>\n",
       "<tr><td>tune_with_parameters_5bcb0_00049</td><td>PENDING   </td><td>                  </td><td style=\"text-align: right;\">0.1 </td><td style=\"text-align: right;\">          400</td><td style=\"text-align: right;\">0.0543238 </td><td style=\"text-align: right;\">           4</td><td style=\"text-align: right;\">      </td><td style=\"text-align: right;\">                </td><td style=\"text-align: right;\">        </td><td style=\"text-align: right;\">          </td><td style=\"text-align: right;\">        </td></tr>\n",
       "<tr><td>tune_with_parameters_5bcb0_00000</td><td>TERMINATED</td><td>10.211.4.4:3287703</td><td style=\"text-align: right;\">0.5 </td><td style=\"text-align: right;\">          100</td><td style=\"text-align: right;\">0.00420435</td><td style=\"text-align: right;\">           2</td><td style=\"text-align: right;\">    30</td><td style=\"text-align: right;\">        13730.5 </td><td style=\"text-align: right;\">0.605165</td><td style=\"text-align: right;\">  0.737982</td><td style=\"text-align: right;\">0.630843</td></tr>\n",
       "</tbody>\n",
       "</table>\n",
       "  </div>\n",
       "</div>\n",
       "<style>\n",
       ".tuneStatus {\n",
       "  color: var(--jp-ui-font-color1);\n",
       "}\n",
       ".tuneStatus .systemInfo {\n",
       "  display: flex;\n",
       "  flex-direction: column;\n",
       "}\n",
       ".tuneStatus td {\n",
       "  white-space: nowrap;\n",
       "}\n",
       ".tuneStatus .trialStatus {\n",
       "  display: flex;\n",
       "  flex-direction: column;\n",
       "}\n",
       ".tuneStatus h3 {\n",
       "  font-weight: bold;\n",
       "}\n",
       ".tuneStatus .hDivider {\n",
       "  border-bottom-width: var(--jp-border-width);\n",
       "  border-bottom-color: var(--jp-border-color0);\n",
       "  border-bottom-style: solid;\n",
       "}\n",
       ".tuneStatus .vDivider {\n",
       "  border-left-width: var(--jp-border-width);\n",
       "  border-left-color: var(--jp-border-color0);\n",
       "  border-left-style: solid;\n",
       "  margin: 0.5em 1em 0.5em 1em;\n",
       "}\n",
       "</style>\n"
      ],
      "text/plain": [
       "<IPython.core.display.HTML object>"
      ]
     },
     "metadata": {},
     "output_type": "display_data"
    },
    {
     "name": "stderr",
     "output_type": "stream",
     "text": [
      "\u001b[36m(tune_with_parameters pid=3287704)\u001b[0m /users/k23058970/miniforge3/envs/Training/lib/python3.10/site-packages/torch/utils/data/dataloader.py:558: UserWarning: This DataLoader will create 8 worker processes in total. Our suggested max number of worker in current system is 2, which is smaller than what this DataLoader is going to create. Please be aware that excessive worker creation might get DataLoader running slow or even freeze, lower the worker number to avoid potential slowness/freeze if necessary.\n",
      "\u001b[36m(tune_with_parameters pid=3287704)\u001b[0m   warnings.warn(_create_warning_msg(\n",
      "\u001b[36m(tune_with_parameters pid=3287705)\u001b[0m /users/k23058970/miniforge3/envs/Training/lib/python3.10/site-packages/torch/utils/data/dataloader.py:558: UserWarning: This DataLoader will create 8 worker processes in total. Our suggested max number of worker in current system is 2, which is smaller than what this DataLoader is going to create. Please be aware that excessive worker creation might get DataLoader running slow or even freeze, lower the worker number to avoid potential slowness/freeze if necessary.\n",
      "\u001b[36m(tune_with_parameters pid=3287705)\u001b[0m   warnings.warn(_create_warning_msg(\n",
      "\u001b[36m(tune_with_parameters pid=3287703)\u001b[0m /users/k23058970/miniforge3/envs/Training/lib/python3.10/site-packages/torch/utils/data/dataloader.py:558: UserWarning: This DataLoader will create 8 worker processes in total. Our suggested max number of worker in current system is 2, which is smaller than what this DataLoader is going to create. Please be aware that excessive worker creation might get DataLoader running slow or even freeze, lower the worker number to avoid potential slowness/freeze if necessary.\n",
      "\u001b[36m(tune_with_parameters pid=3287703)\u001b[0m   warnings.warn(_create_warning_msg(\n",
      "\u001b[36m(tune_with_parameters pid=3287704)\u001b[0m /users/k23058970/miniforge3/envs/Training/lib/python3.10/site-packages/torch/nn/modules/lazy.py:181: UserWarning: Lazy modules are a new feature under heavy development so changes to the API or functionality can happen at any moment.\n",
      "\u001b[36m(tune_with_parameters pid=3287704)\u001b[0m   warnings.warn('Lazy modules are a new feature under heavy development '\n",
      "\u001b[36m(tune_with_parameters pid=3287706)\u001b[0m /users/k23058970/miniforge3/envs/Training/lib/python3.10/site-packages/torch/utils/data/dataloader.py:558: UserWarning: This DataLoader will create 8 worker processes in total. Our suggested max number of worker in current system is 2, which is smaller than what this DataLoader is going to create. Please be aware that excessive worker creation might get DataLoader running slow or even freeze, lower the worker number to avoid potential slowness/freeze if necessary.\n",
      "\u001b[36m(tune_with_parameters pid=3287706)\u001b[0m   warnings.warn(_create_warning_msg(\n",
      "\u001b[36m(tune_with_parameters pid=3287705)\u001b[0m /users/k23058970/miniforge3/envs/Training/lib/python3.10/site-packages/torch/nn/modules/lazy.py:181: UserWarning: Lazy modules are a new feature under heavy development so changes to the API or functionality can happen at any moment.\n",
      "\u001b[36m(tune_with_parameters pid=3287705)\u001b[0m   warnings.warn('Lazy modules are a new feature under heavy development '\n",
      "\u001b[36m(tune_with_parameters pid=3287703)\u001b[0m /users/k23058970/miniforge3/envs/Training/lib/python3.10/site-packages/torch/nn/modules/lazy.py:181: UserWarning: Lazy modules are a new feature under heavy development so changes to the API or functionality can happen at any moment.\n",
      "\u001b[36m(tune_with_parameters pid=3287703)\u001b[0m   warnings.warn('Lazy modules are a new feature under heavy development '\n",
      "\u001b[36m(tune_with_parameters pid=3287704)\u001b[0m /users/k23058970/miniforge3/envs/Training/lib/python3.10/site-packages/torch/utils/data/dataloader.py:558: UserWarning: This DataLoader will create 8 worker processes in total. Our suggested max number of worker in current system is 2, which is smaller than what this DataLoader is going to create. Please be aware that excessive worker creation might get DataLoader running slow or even freeze, lower the worker number to avoid potential slowness/freeze if necessary.\n",
      "\u001b[36m(tune_with_parameters pid=3287704)\u001b[0m   warnings.warn(_create_warning_msg(\n"
     ]
    },
    {
     "name": "stdout",
     "output_type": "stream",
     "text": [
      "\u001b[36m(tune_with_parameters pid=3287704)\u001b[0m loss: 0.667\n"
     ]
    },
    {
     "name": "stderr",
     "output_type": "stream",
     "text": [
      "\u001b[36m(tune_with_parameters pid=3287706)\u001b[0m /users/k23058970/miniforge3/envs/Training/lib/python3.10/site-packages/torch/nn/modules/lazy.py:181: UserWarning: Lazy modules are a new feature under heavy development so changes to the API or functionality can happen at any moment.\n",
      "\u001b[36m(tune_with_parameters pid=3287706)\u001b[0m   warnings.warn('Lazy modules are a new feature under heavy development '\n",
      "\u001b[36m(tune_with_parameters pid=3287703)\u001b[0m /users/k23058970/miniforge3/envs/Training/lib/python3.10/site-packages/torch/utils/data/dataloader.py:558: UserWarning: This DataLoader will create 8 worker processes in total. Our suggested max number of worker in current system is 2, which is smaller than what this DataLoader is going to create. Please be aware that excessive worker creation might get DataLoader running slow or even freeze, lower the worker number to avoid potential slowness/freeze if necessary.\n",
      "\u001b[36m(tune_with_parameters pid=3287703)\u001b[0m   warnings.warn(_create_warning_msg(\n",
      "\u001b[36m(tune_with_parameters pid=3287705)\u001b[0m /users/k23058970/miniforge3/envs/Training/lib/python3.10/site-packages/torch/utils/data/dataloader.py:558: UserWarning: This DataLoader will create 8 worker processes in total. Our suggested max number of worker in current system is 2, which is smaller than what this DataLoader is going to create. Please be aware that excessive worker creation might get DataLoader running slow or even freeze, lower the worker number to avoid potential slowness/freeze if necessary.\n",
      "\u001b[36m(tune_with_parameters pid=3287705)\u001b[0m   warnings.warn(_create_warning_msg(\n",
      "\u001b[36m(tune_with_parameters pid=3287706)\u001b[0m /users/k23058970/miniforge3/envs/Training/lib/python3.10/site-packages/torch/utils/data/dataloader.py:558: UserWarning: This DataLoader will create 8 worker processes in total. Our suggested max number of worker in current system is 2, which is smaller than what this DataLoader is going to create. Please be aware that excessive worker creation might get DataLoader running slow or even freeze, lower the worker number to avoid potential slowness/freeze if necessary.\n",
      "\u001b[36m(tune_with_parameters pid=3287706)\u001b[0m   warnings.warn(_create_warning_msg(\n"
     ]
    },
    {
     "name": "stdout",
     "output_type": "stream",
     "text": [
      "\u001b[36m(tune_with_parameters pid=3287703)\u001b[0m loss: 0.707\n",
      "\u001b[36m(tune_with_parameters pid=3287705)\u001b[0m loss: 0.709\n",
      "\u001b[36m(tune_with_parameters pid=3287706)\u001b[0m loss: 0.753\n",
      "\u001b[36m(tune_with_parameters pid=3287704)\u001b[0m loss: 0.661\n",
      "\u001b[36m(tune_with_parameters pid=3287703)\u001b[0m loss: 0.655\n",
      "\u001b[36m(tune_with_parameters pid=3287706)\u001b[0m loss: 0.666\n",
      "\u001b[36m(tune_with_parameters pid=3287705)\u001b[0m loss: 0.687\n",
      "\u001b[36m(tune_with_parameters pid=3287704)\u001b[0m loss: 0.660\n",
      "\u001b[36m(tune_with_parameters pid=3287703)\u001b[0m loss: 0.649\n",
      "\u001b[36m(tune_with_parameters pid=3287706)\u001b[0m loss: 0.662\n",
      "\u001b[36m(tune_with_parameters pid=3287705)\u001b[0m loss: 0.675\n",
      "\u001b[36m(tune_with_parameters pid=3287704)\u001b[0m loss: 0.659\n",
      "\u001b[36m(tune_with_parameters pid=3287703)\u001b[0m loss: 0.643\n",
      "\u001b[36m(tune_with_parameters pid=3287706)\u001b[0m loss: 0.660\n",
      "\u001b[36m(tune_with_parameters pid=3287704)\u001b[0m loss: 0.658\n",
      "\u001b[36m(tune_with_parameters pid=3287705)\u001b[0m loss: 0.669\n",
      "\u001b[36m(tune_with_parameters pid=3287703)\u001b[0m loss: 0.641\n",
      "\u001b[36m(tune_with_parameters pid=3287706)\u001b[0m loss: 0.659\n"
     ]
    },
    {
     "name": "stderr",
     "output_type": "stream",
     "text": [
      "Val Epoch:0: 0it [00:00, ?it/s]3287704)\u001b[0m \n",
      "Val Epoch:0: 1it [00:06,  6.04s/it]704)\u001b[0m \n",
      "Val Epoch:0: 2it [00:06,  2.63s/it]704)\u001b[0m \n",
      "Val Epoch:0: 3it [00:07,  2.05s/it]704)\u001b[0m \n",
      "Val Epoch:0: 4it [00:07,  1.34s/it]704)\u001b[0m \n",
      "Val Epoch:0: 5it [00:08,  1.05it/s]704)\u001b[0m \n",
      "Val Epoch:0: 6it [00:08,  1.45it/s]704)\u001b[0m \n",
      "Val Epoch:0: 8it [00:08,  2.42it/s]704)\u001b[0m \n",
      "Val Epoch:0: 9it [00:09,  2.14it/s]704)\u001b[0m \n",
      "Val Epoch:0: 10it [00:09,  1.82it/s]04)\u001b[0m \n",
      "Val Epoch:0: 11it [00:10,  1.51it/s]04)\u001b[0m \n",
      "Val Epoch:0: 12it [00:11,  1.93it/s]04)\u001b[0m \n",
      "Val Epoch:0: 13it [00:11,  2.38it/s]04)\u001b[0m \n",
      "Val Epoch:0: 14it [00:11,  2.28it/s]04)\u001b[0m \n",
      "Val Epoch:0: 15it [00:11,  2.64it/s]04)\u001b[0m \n",
      "Val Epoch:0: 16it [00:12,  3.06it/s]04)\u001b[0m \n",
      "Val Epoch:0: 17it [00:12,  2.18it/s]04)\u001b[0m \n",
      "Val Epoch:0: 18it [00:13,  2.61it/s]04)\u001b[0m \n",
      "Val Epoch:0: 19it [00:15,  1.16it/s]04)\u001b[0m \n",
      "Val Epoch:0: 20it [00:15,  1.57it/s]04)\u001b[0m \n",
      "Val Epoch:0: 22it [00:15,  2.73it/s]04)\u001b[0m \n",
      "Val Epoch:0: 24it [00:15,  3.99it/s]04)\u001b[0m \n",
      "Val Epoch:0: 26it [00:16,  3.87it/s]04)\u001b[0m \n",
      "Val Epoch:0: 27it [00:16,  3.22it/s]04)\u001b[0m \n",
      "Val Epoch:0: 29it [00:16,  4.27it/s]04)\u001b[0m \n",
      "Val Epoch:0: 32it [00:16,  6.77it/s]04)\u001b[0m \n",
      "Val Epoch:0: 34it [00:18,  2.71it/s]04)\u001b[0m \n",
      "Val Epoch:0: 35it [00:19,  2.12it/s]04)\u001b[0m \n",
      "Val Epoch:0: 37it [00:19,  2.89it/s]04)\u001b[0m \n",
      "Val Epoch:0: 38it [00:20,  3.11it/s]04)\u001b[0m \n",
      "Val Epoch:0: 39it [00:20,  3.14it/s]04)\u001b[0m \n",
      "Val Epoch:0: 40it [00:20,  3.44it/s]04)\u001b[0m \n",
      "Val Epoch:0: 41it [00:21,  2.47it/s]04)\u001b[0m \n",
      "Val Epoch:0: 42it [00:22,  1.89it/s]04)\u001b[0m \n",
      "Val Epoch:0: 43it [00:23,  1.37it/s]04)\u001b[0m \n",
      "Val Epoch:0: 44it [00:23,  1.78it/s]04)\u001b[0m \n",
      "Val Epoch:0: 46it [00:23,  2.49it/s]04)\u001b[0m \n",
      "Val Epoch:0: 47it [00:24,  2.39it/s]04)\u001b[0m \n",
      "Val Epoch:0: 49it [00:26,  1.63it/s]04)\u001b[0m \n",
      "Val Epoch:0: 50it [00:27,  1.15it/s]04)\u001b[0m \n",
      "Val Epoch:0: 51it [00:28,  1.33it/s]04)\u001b[0m \n",
      "Val Epoch:0: 57it [00:31,  1.71it/s]04)\u001b[0m \n",
      "Val Epoch:0: 0it [00:00, ?it/s]3287703)\u001b[0m \n",
      "Val Epoch:0: 58it [00:32,  1.39it/s]04)\u001b[0m \n",
      "Val Epoch:0: 59it [00:34,  1.23it/s]04)\u001b[0m \n",
      "Val Epoch:0: 61it [00:34,  1.69it/s]04)\u001b[0m \n",
      "Val Epoch:0: 62it [00:34,  1.98it/s]04)\u001b[0m \n",
      "Val Epoch:0: 63it [00:34,  2.32it/s]04)\u001b[0m \n",
      "Val Epoch:0: 64it [00:34,  2.80it/s]04)\u001b[0m \n",
      "Val Epoch:0: 65it [00:36,  1.56it/s]04)\u001b[0m \n",
      "Val Epoch:0: 66it [00:36,  1.93it/s]04)\u001b[0m \n",
      "Val Epoch:0: 67it [00:37,  1.54it/s]04)\u001b[0m \n",
      "Val Epoch:0: 68it [00:37,  1.74it/s]04)\u001b[0m \n",
      "Val Epoch:0: 69it [00:38,  2.01it/s]04)\u001b[0m \n",
      "Val Epoch:0: 70it [00:38,  1.77it/s]04)\u001b[0m \n",
      "Val Epoch:0: 13it [00:11,  1.85it/s]\u001b[32m [repeated 21x across cluster] (Ray deduplicates logs by default. Set RAY_DEDUP_LOGS=0 to disable log deduplication, or see https://docs.ray.io/en/master/ray-observability/user-guides/configure-logging.html#log-deduplication for more options.)\u001b[0m\n",
      "Val Epoch:0: 0it [00:00, ?it/s]3287706)\u001b[0m \n",
      "Val Epoch:0: 97it [00:49,  2.30it/s]\u001b[32m [repeated 28x across cluster]\u001b[0m\n",
      "\u001b[36m(tune_with_parameters pid=3287704)\u001b[0m /scratch/users/k23058970/Model training/training_two_class_exvivo_lstm.py:63: RuntimeWarning: invalid value encountered in divide\n",
      "\u001b[36m(tune_with_parameters pid=3287704)\u001b[0m   self.precision = self.tp/(self.tp + self.fp)\n",
      "Val Epoch:0: 110it [00:54,  2.01it/s]\u001b[32m [repeated 19x across cluster]\u001b[0m\n"
     ]
    },
    {
     "name": "stdout",
     "output_type": "stream",
     "text": [
      "\u001b[36m(tune_with_parameters pid=3287704)\u001b[0m /tmp/tmpv52g8e2d/checkpoint.pt\n"
     ]
    },
    {
     "name": "stderr",
     "output_type": "stream",
     "text": [
      "\u001b[36m(tune_with_parameters pid=3287704)\u001b[0m Checkpoint successfully created at: Checkpoint(filesystem=local, path=/scratch/users/k23058970/Model training/results/NSQ vs All LSTM/tune_with_parameters_2024-07-30_18-14-50/tune_with_parameters_5bcb0_00001_1_dp=0.5000,hidden_size=100,lr=0.0131,num_layers=5_2024-07-30_18-15-47/checkpoint_000000)\n",
      "Val Epoch:0: 13it [00:11,  1.54it/s]\u001b[32m [repeated 18x across cluster]\u001b[0m\n",
      "Val Epoch:0: 62it [00:31,  2.38it/s]03)\u001b[0m \n",
      "Val Epoch:0: 25it [00:17,  1.64it/s]\u001b[32m [repeated 20x across cluster]\u001b[0m\n",
      "Val Epoch:0: 39it [00:22,  3.29it/s]\u001b[32m [repeated 18x across cluster]\u001b[0m\n",
      "Val Epoch:0: 74it [00:39,  1.32it/s]03)\u001b[0m \n",
      "Val Epoch:0: 76it [00:40,  1.73it/s]03)\u001b[0m \n"
     ]
    },
    {
     "name": "stdout",
     "output_type": "stream",
     "text": [
      "\u001b[36m(tune_with_parameters pid=3287704)\u001b[0m loss: 0.674\n"
     ]
    },
    {
     "name": "stderr",
     "output_type": "stream",
     "text": [
      "Val Epoch:0: 46it [00:27,  1.80it/s]\u001b[32m [repeated 11x across cluster]\u001b[0m\n",
      "Val Epoch:0: 57it [00:32,  1.15it/s]\u001b[32m [repeated 19x across cluster]\u001b[0m\n",
      "Val Epoch:0: 66it [00:37,  1.44it/s]06)\u001b[0m \n",
      "Val Epoch:0: 68it [00:38,  2.09it/s]\u001b[32m [repeated 18x across cluster]\u001b[0m\n"
     ]
    },
    {
     "name": "stdout",
     "output_type": "stream",
     "text": [
      "\u001b[36m(tune_with_parameters pid=3287703)\u001b[0m /tmp/tmp1q9o48n1/checkpoint.pt\n"
     ]
    },
    {
     "name": "stderr",
     "output_type": "stream",
     "text": [
      "Val Epoch:0: 79it [00:42,  2.72it/s]\u001b[32m [repeated 16x across cluster]\u001b[0m\n",
      "\u001b[36m(tune_with_parameters pid=3287703)\u001b[0m Checkpoint successfully created at: Checkpoint(filesystem=local, path=/scratch/users/k23058970/Model training/results/NSQ vs All LSTM/tune_with_parameters_2024-07-30_18-14-50/tune_with_parameters_5bcb0_00000_0_dp=0.5000,hidden_size=100,lr=0.0042,num_layers=2_2024-07-30_18-15-46/checkpoint_000000)\n",
      "Val Epoch:0: 89it [00:49,  1.05it/s]\u001b[32m [repeated 10x across cluster]\u001b[0m\n"
     ]
    },
    {
     "name": "stdout",
     "output_type": "stream",
     "text": [
      "\u001b[36m(tune_with_parameters pid=3287705)\u001b[0m loss: 0.665\n"
     ]
    },
    {
     "name": "stderr",
     "output_type": "stream",
     "text": [
      "Val Epoch:0: 97it [00:54,  1.07s/it]\u001b[32m [repeated 7x across cluster]\u001b[0m\n",
      "\u001b[36m(tune_with_parameters pid=3287706)\u001b[0m /scratch/users/k23058970/Model training/training_two_class_exvivo_lstm.py:63: RuntimeWarning: invalid value encountered in divide\n",
      "\u001b[36m(tune_with_parameters pid=3287706)\u001b[0m   self.precision = self.tp/(self.tp + self.fp)\n"
     ]
    },
    {
     "name": "stdout",
     "output_type": "stream",
     "text": [
      "\u001b[36m(tune_with_parameters pid=3287703)\u001b[0m loss: 0.648\n",
      "\u001b[36m(tune_with_parameters pid=3287706)\u001b[0m /tmp/tmp7kps9gf4/checkpoint.pt\n"
     ]
    },
    {
     "name": "stderr",
     "output_type": "stream",
     "text": [
      "\u001b[36m(tune_with_parameters pid=3287706)\u001b[0m Checkpoint successfully created at: Checkpoint(filesystem=local, path=/scratch/users/k23058970/Model training/results/NSQ vs All LSTM/tune_with_parameters_2024-07-30_18-14-50/tune_with_parameters_5bcb0_00003_3_dp=0.2500,hidden_size=500,lr=0.0934,num_layers=5_2024-07-30_18-15-47/checkpoint_000000)\n",
      "Val Epoch:0: 110it [00:58,  1.89it/s]\u001b[32m [repeated 7x across cluster]\u001b[0m\n"
     ]
    },
    {
     "name": "stdout",
     "output_type": "stream",
     "text": [
      "\u001b[36m(tune_with_parameters pid=3287706)\u001b[0m loss: 0.674\n"
     ]
    },
    {
     "name": "stderr",
     "output_type": "stream",
     "text": [
      "Val Epoch:0: 0it [00:00, ?it/s]3287705)\u001b[0m \n",
      "Val Epoch:0: 1it [00:04,  4.91s/it]705)\u001b[0m \n",
      "Val Epoch:0: 2it [00:05,  2.13s/it]705)\u001b[0m \n",
      "Val Epoch:0: 3it [00:05,  1.22s/it]705)\u001b[0m \n",
      "Val Epoch:0: 4it [00:05,  1.23it/s]705)\u001b[0m \n",
      "Val Epoch:0: 5it [00:05,  1.71it/s]705)\u001b[0m \n",
      "Val Epoch:0: 6it [00:05,  2.22it/s]705)\u001b[0m \n",
      "Val Epoch:0: 7it [00:05,  2.82it/s]705)\u001b[0m \n",
      "Val Epoch:0: 8it [00:06,  3.39it/s]705)\u001b[0m \n",
      "Val Epoch:0: 9it [00:08,  1.13it/s]705)\u001b[0m \n",
      "Val Epoch:0: 10it [00:08,  1.43it/s]05)\u001b[0m \n",
      "Val Epoch:0: 12it [00:08,  2.39it/s]05)\u001b[0m \n",
      "Val Epoch:0: 13it [00:09,  2.57it/s]05)\u001b[0m \n",
      "Val Epoch:0: 14it [00:09,  2.94it/s]05)\u001b[0m \n",
      "Val Epoch:0: 15it [00:09,  3.18it/s]05)\u001b[0m \n",
      "Val Epoch:0: 17it [00:12,  1.37it/s]05)\u001b[0m \n",
      "Val Epoch:0: 19it [00:12,  2.08it/s]05)\u001b[0m \n",
      "Val Epoch:0: 20it [00:12,  2.41it/s]05)\u001b[0m \n",
      "Val Epoch:0: 21it [00:12,  2.58it/s]05)\u001b[0m \n",
      "Val Epoch:0: 23it [00:13,  3.20it/s]05)\u001b[0m \n",
      "Val Epoch:0: 24it [00:13,  3.11it/s]05)\u001b[0m \n",
      "Val Epoch:0: 25it [00:16,  1.05s/it]05)\u001b[0m \n",
      "Val Epoch:0: 26it [00:16,  1.22it/s]05)\u001b[0m \n",
      "Val Epoch:0: 27it [00:17,  1.49it/s]05)\u001b[0m \n",
      "Val Epoch:0: 28it [00:17,  1.94it/s]05)\u001b[0m \n",
      "Val Epoch:0: 29it [00:17,  2.40it/s]05)\u001b[0m \n",
      "Val Epoch:0: 31it [00:17,  3.02it/s]05)\u001b[0m \n",
      "Val Epoch:0: 33it [00:20,  1.44it/s]05)\u001b[0m \n",
      "Val Epoch:0: 34it [00:20,  1.72it/s]05)\u001b[0m \n",
      "Val Epoch:0: 36it [00:20,  2.48it/s]05)\u001b[0m \n",
      "Val Epoch:0: 38it [00:21,  3.38it/s]05)\u001b[0m \n",
      "Val Epoch:0: 39it [00:21,  3.63it/s]05)\u001b[0m \n",
      "Val Epoch:0: 40it [00:21,  3.82it/s]05)\u001b[0m \n",
      "Val Epoch:0: 41it [00:25,  1.09s/it]05)\u001b[0m \n",
      "Val Epoch:0: 42it [00:25,  1.17it/s]05)\u001b[0m \n",
      "Val Epoch:0: 43it [00:25,  1.45it/s]05)\u001b[0m \n",
      "Val Epoch:0: 45it [00:25,  2.15it/s]05)\u001b[0m \n",
      "Val Epoch:0: 47it [00:26,  3.07it/s]05)\u001b[0m \n",
      "Val Epoch:0: 48it [00:26,  3.33it/s]05)\u001b[0m \n",
      "Val Epoch:0: 49it [00:29,  1.07it/s]05)\u001b[0m \n",
      "Val Epoch:0: 50it [00:29,  1.29it/s]05)\u001b[0m \n",
      "Val Epoch:0: 51it [00:29,  1.62it/s]05)\u001b[0m \n",
      "Val Epoch:0: 52it [00:29,  2.06it/s]05)\u001b[0m \n",
      "Val Epoch:0: 54it [00:30,  3.30it/s]05)\u001b[0m \n",
      "Val Epoch:0: 55it [00:30,  3.89it/s]05)\u001b[0m \n",
      "Val Epoch:0: 57it [00:31,  2.56it/s]05)\u001b[0m \n",
      "Val Epoch:0: 58it [00:31,  3.04it/s]05)\u001b[0m \n",
      "Val Epoch:0: 59it [00:31,  3.32it/s]05)\u001b[0m \n",
      "Val Epoch:0: 62it [00:31,  5.49it/s]05)\u001b[0m \n",
      "Val Epoch:0: 64it [00:32,  6.80it/s]05)\u001b[0m \n"
     ]
    },
    {
     "name": "stdout",
     "output_type": "stream",
     "text": [
      "\u001b[36m(tune_with_parameters pid=3287704)\u001b[0m loss: 0.658\n"
     ]
    },
    {
     "name": "stderr",
     "output_type": "stream",
     "text": [
      "Val Epoch:0: 66it [00:32,  5.23it/s]05)\u001b[0m \n",
      "Val Epoch:0: 67it [00:32,  5.45it/s]05)\u001b[0m \n",
      "Val Epoch:0: 68it [00:34,  2.36it/s]05)\u001b[0m \n",
      "Val Epoch:0: 69it [00:34,  2.42it/s]05)\u001b[0m \n",
      "Val Epoch:0: 70it [00:34,  2.65it/s]05)\u001b[0m \n",
      "Val Epoch:0: 71it [00:35,  2.78it/s]05)\u001b[0m \n",
      "Val Epoch:0: 72it [00:35,  3.16it/s]05)\u001b[0m \n",
      "Val Epoch:0: 73it [00:35,  3.81it/s]05)\u001b[0m \n",
      "Val Epoch:0: 74it [00:36,  2.24it/s]05)\u001b[0m \n",
      "Val Epoch:0: 76it [00:37,  2.36it/s]05)\u001b[0m \n",
      "Val Epoch:0: 78it [00:38,  2.05it/s]05)\u001b[0m \n",
      "Val Epoch:0: 79it [00:38,  2.40it/s]05)\u001b[0m \n",
      "Val Epoch:0: 80it [00:38,  2.94it/s]05)\u001b[0m \n",
      "Val Epoch:0: 81it [00:39,  2.34it/s]05)\u001b[0m \n",
      "Val Epoch:0: 82it [00:40,  1.43it/s]05)\u001b[0m \n",
      "Val Epoch:0: 83it [00:40,  1.85it/s]05)\u001b[0m \n"
     ]
    },
    {
     "name": "stdout",
     "output_type": "stream",
     "text": [
      "\u001b[36m(tune_with_parameters pid=3287703)\u001b[0m loss: 0.643\n"
     ]
    },
    {
     "name": "stderr",
     "output_type": "stream",
     "text": [
      "Val Epoch:0: 84it [00:41,  1.52it/s]05)\u001b[0m \n",
      "Val Epoch:0: 86it [00:42,  1.92it/s]05)\u001b[0m \n",
      "Val Epoch:0: 87it [00:42,  2.33it/s]05)\u001b[0m \n",
      "Val Epoch:0: 90it [00:44,  2.17it/s]05)\u001b[0m \n",
      "Val Epoch:0: 91it [00:44,  2.38it/s]05)\u001b[0m \n",
      "Val Epoch:0: 92it [00:44,  2.53it/s]05)\u001b[0m \n",
      "Val Epoch:0: 93it [00:47,  1.22it/s]05)\u001b[0m \n",
      "Val Epoch:0: 94it [00:47,  1.37it/s]05)\u001b[0m \n",
      "Val Epoch:0: 95it [00:47,  1.68it/s]05)\u001b[0m \n",
      "Val Epoch:0: 96it [00:47,  2.04it/s]05)\u001b[0m \n",
      "Val Epoch:0: 98it [00:48,  2.67it/s]05)\u001b[0m \n",
      "Val Epoch:0: 99it [00:48,  2.66it/s]05)\u001b[0m \n",
      "Val Epoch:0: 100it [00:49,  2.09it/s]5)\u001b[0m \n",
      "Val Epoch:0: 101it [00:50,  1.80it/s]5)\u001b[0m \n",
      "Val Epoch:0: 102it [00:50,  2.24it/s]5)\u001b[0m \n",
      "Val Epoch:0: 103it [00:50,  2.72it/s]5)\u001b[0m \n",
      "Val Epoch:0: 104it [00:50,  3.20it/s]5)\u001b[0m \n",
      "Val Epoch:0: 105it [00:51,  3.23it/s]5)\u001b[0m \n",
      "Val Epoch:0: 106it [00:52,  1.77it/s]5)\u001b[0m \n",
      "Val Epoch:0: 108it [00:52,  2.45it/s]5)\u001b[0m \n",
      "Val Epoch:0: 109it [00:54,  1.62it/s]5)\u001b[0m \n",
      "Val Epoch:0: 110it [00:54,  1.97it/s]5)\u001b[0m \n",
      "Val Epoch:0: 110it [00:55,  1.98it/s]5)\u001b[0m \n",
      "\u001b[36m(tune_with_parameters pid=3287705)\u001b[0m /scratch/users/k23058970/Model training/training_two_class_exvivo_lstm.py:63: RuntimeWarning: invalid value encountered in divide\n",
      "\u001b[36m(tune_with_parameters pid=3287705)\u001b[0m   self.precision = self.tp/(self.tp + self.fp)\n"
     ]
    },
    {
     "name": "stdout",
     "output_type": "stream",
     "text": [
      "\u001b[36m(tune_with_parameters pid=3287705)\u001b[0m /tmp/tmphsps7xxi/checkpoint.pt\n"
     ]
    },
    {
     "name": "stderr",
     "output_type": "stream",
     "text": [
      "\u001b[36m(tune_with_parameters pid=3287705)\u001b[0m Checkpoint successfully created at: Checkpoint(filesystem=local, path=/scratch/users/k23058970/Model training/results/NSQ vs All LSTM/tune_with_parameters_2024-07-30_18-14-50/tune_with_parameters_5bcb0_00002_2_dp=0.2000,hidden_size=100,lr=0.0046,num_layers=2_2024-07-30_18-15-47/checkpoint_000000)\n"
     ]
    },
    {
     "name": "stdout",
     "output_type": "stream",
     "text": [
      "\u001b[36m(tune_with_parameters pid=3287706)\u001b[0m loss: 0.657\n",
      "\u001b[36m(tune_with_parameters pid=3287705)\u001b[0m loss: 0.643\n",
      "\u001b[36m(tune_with_parameters pid=3287703)\u001b[0m loss: 0.640\n",
      "\u001b[36m(tune_with_parameters pid=3287704)\u001b[0m loss: 0.657\n",
      "\u001b[36m(tune_with_parameters pid=3287706)\u001b[0m loss: 0.657\n",
      "\u001b[36m(tune_with_parameters pid=3287705)\u001b[0m loss: 0.654\n",
      "\u001b[36m(tune_with_parameters pid=3287703)\u001b[0m loss: 0.642\n",
      "\u001b[36m(tune_with_parameters pid=3287706)\u001b[0m loss: 0.657\n",
      "\u001b[36m(tune_with_parameters pid=3287704)\u001b[0m loss: 0.658\n",
      "\u001b[36m(tune_with_parameters pid=3287703)\u001b[0m loss: 0.641\n",
      "\u001b[36m(tune_with_parameters pid=3287705)\u001b[0m loss: 0.653\n",
      "\u001b[36m(tune_with_parameters pid=3287706)\u001b[0m loss: 0.657\n"
     ]
    },
    {
     "name": "stderr",
     "output_type": "stream",
     "text": [
      "Val Epoch:1: 0it [00:00, ?it/s]3287703)\u001b[0m \n",
      "Val Epoch:1: 1it [00:05,  5.91s/it]703)\u001b[0m \n",
      "Val Epoch:1: 2it [00:06,  2.56s/it]703)\u001b[0m \n",
      "Val Epoch:1: 3it [00:07,  2.02s/it]703)\u001b[0m \n",
      "Val Epoch:1: 4it [00:07,  1.30s/it]703)\u001b[0m \n",
      "Val Epoch:1: 5it [00:08,  1.04it/s]703)\u001b[0m \n",
      "Val Epoch:1: 7it [00:08,  1.70it/s]703)\u001b[0m \n",
      "Val Epoch:1: 8it [00:08,  2.09it/s]703)\u001b[0m \n",
      "Val Epoch:1: 9it [00:12,  1.36s/it]703)\u001b[0m \n",
      "Val Epoch:1: 10it [00:12,  1.02s/it]03)\u001b[0m \n",
      "Val Epoch:1: 11it [00:13,  1.14it/s]03)\u001b[0m \n",
      "Val Epoch:1: 12it [00:13,  1.52it/s]03)\u001b[0m \n",
      "Val Epoch:1: 13it [00:13,  1.93it/s]03)\u001b[0m \n",
      "Val Epoch:1: 14it [00:13,  2.29it/s]03)\u001b[0m \n",
      "Val Epoch:1: 15it [00:13,  2.74it/s]03)\u001b[0m \n",
      "Val Epoch:1: 16it [00:13,  3.45it/s]03)\u001b[0m \n",
      "Val Epoch:1: 17it [00:17,  1.35s/it]03)\u001b[0m \n",
      "Val Epoch:1: 19it [00:17,  1.28it/s]03)\u001b[0m \n",
      "Val Epoch:1: 21it [00:18,  2.02it/s]03)\u001b[0m \n",
      "Val Epoch:1: 23it [00:18,  2.93it/s]03)\u001b[0m \n",
      "Val Epoch:1: 25it [00:20,  1.49it/s]03)\u001b[0m \n",
      "Val Epoch:1: 26it [00:21,  1.65it/s]03)\u001b[0m \n",
      "Val Epoch:1: 28it [00:21,  2.29it/s]03)\u001b[0m \n",
      "Val Epoch:1: 29it [00:21,  2.56it/s]03)\u001b[0m \n",
      "Val Epoch:1: 30it [00:21,  2.92it/s]03)\u001b[0m \n",
      "Val Epoch:1: 31it [00:22,  2.97it/s]03)\u001b[0m \n",
      "Val Epoch:1: 32it [00:22,  3.39it/s]03)\u001b[0m \n",
      "Val Epoch:1: 33it [00:25,  1.04s/it]03)\u001b[0m \n",
      "Val Epoch:1: 34it [00:25,  1.27it/s]03)\u001b[0m \n",
      "Val Epoch:1: 35it [00:25,  1.63it/s]03)\u001b[0m \n",
      "Val Epoch:1: 36it [00:25,  2.01it/s]03)\u001b[0m \n",
      "Val Epoch:1: 37it [00:26,  2.53it/s]03)\u001b[0m \n",
      "Val Epoch:1: 38it [00:26,  3.15it/s]03)\u001b[0m \n",
      "Val Epoch:1: 39it [00:26,  3.21it/s]03)\u001b[0m \n",
      "Val Epoch:1: 40it [00:26,  3.81it/s]03)\u001b[0m \n",
      "Val Epoch:1: 41it [00:30,  1.43s/it]03)\u001b[0m \n",
      "Val Epoch:1: 42it [00:30,  1.04s/it]03)\u001b[0m \n",
      "Val Epoch:1: 43it [00:31,  1.28it/s]03)\u001b[0m \n",
      "Val Epoch:1: 44it [00:31,  1.69it/s]03)\u001b[0m \n",
      "Val Epoch:1: 45it [00:31,  1.93it/s]03)\u001b[0m \n",
      "Val Epoch:1: 46it [00:32,  2.03it/s]03)\u001b[0m \n",
      "Val Epoch:1: 47it [00:32,  2.56it/s]03)\u001b[0m \n"
     ]
    },
    {
     "name": "stdout",
     "output_type": "stream",
     "text": [
      "\u001b[36m(tune_with_parameters pid=3287704)\u001b[0m loss: 0.657\n"
     ]
    },
    {
     "name": "stderr",
     "output_type": "stream",
     "text": [
      "Val Epoch:1: 49it [00:38,  1.62s/it]03)\u001b[0m \n",
      "Val Epoch:1: 50it [00:38,  1.26s/it]03)\u001b[0m \n",
      "Val Epoch:1: 51it [00:38,  1.02it/s]03)\u001b[0m \n",
      "Val Epoch:1: 52it [00:38,  1.29it/s]03)\u001b[0m \n",
      "Val Epoch:1: 0it [00:00, ?it/s]3287706)\u001b[0m \n",
      "Val Epoch:1: 54it [00:39,  2.08it/s]03)\u001b[0m \n",
      "Val Epoch:1: 55it [00:39,  2.39it/s]03)\u001b[0m \n",
      "Val Epoch:1: 56it [00:39,  2.82it/s]03)\u001b[0m \n",
      "Val Epoch:1: 2it [00:04,  2.05s/it]\u001b[32m [repeated 2x across cluster]\u001b[0m\n",
      "Val Epoch:1: 13it [00:09,  2.59it/s]\u001b[32m [repeated 19x across cluster]\u001b[0m\n",
      "Val Epoch:1: 79it [00:53,  2.90it/s]\u001b[32m [repeated 17x across cluster]\u001b[0m\n",
      "Val Epoch:1: 34it [00:21,  1.06it/s]\u001b[32m [repeated 14x across cluster]\u001b[0m\n",
      "Val Epoch:1: 94it [01:05,  2.04it/s]\u001b[32m [repeated 15x across cluster]\u001b[0m\n",
      "Val Epoch:1: 57it [00:31,  3.78it/s]\u001b[32m [repeated 12x across cluster]\u001b[0m\n"
     ]
    },
    {
     "name": "stdout",
     "output_type": "stream",
     "text": [
      "\u001b[36m(tune_with_parameters pid=3287705)\u001b[0m loss: 0.652\n"
     ]
    },
    {
     "name": "stderr",
     "output_type": "stream",
     "text": [
      "Val Epoch:1: 68it [00:36,  2.52it/s]\u001b[32m [repeated 22x across cluster]\u001b[0m\n"
     ]
    },
    {
     "name": "stdout",
     "output_type": "stream",
     "text": [
      "\u001b[36m(tune_with_parameters pid=3287703)\u001b[0m /tmp/tmpdb001d00/checkpoint.pt\n"
     ]
    },
    {
     "name": "stderr",
     "output_type": "stream",
     "text": [
      "\u001b[36m(tune_with_parameters pid=3287703)\u001b[0m Checkpoint successfully created at: Checkpoint(filesystem=local, path=/scratch/users/k23058970/Model training/results/NSQ vs All LSTM/tune_with_parameters_2024-07-30_18-14-50/tune_with_parameters_5bcb0_00000_0_dp=0.5000,hidden_size=100,lr=0.0042,num_layers=2_2024-07-30_18-15-46/checkpoint_000001)\n",
      "Val Epoch:1: 86it [00:41,  3.56it/s]\u001b[32m [repeated 14x across cluster]\u001b[0m\n",
      "Val Epoch:1: 97it [00:47,  1.42it/s]\u001b[32m [repeated 9x across cluster]\u001b[0m\n",
      "Val Epoch:1: 110it [00:53,  2.04it/s]\u001b[32m [repeated 10x across cluster]\u001b[0m\n"
     ]
    },
    {
     "name": "stdout",
     "output_type": "stream",
     "text": [
      "\u001b[36m(tune_with_parameters pid=3287703)\u001b[0m loss: 0.654\n"
     ]
    },
    {
     "name": "stderr",
     "output_type": "stream",
     "text": [
      "Val Epoch:1: 0it [00:00, ?it/s]3287704)\u001b[0m \n",
      "Val Epoch:1: 1it [00:05,  5.97s/it]704)\u001b[0m \n",
      "Val Epoch:1: 2it [00:06,  2.57s/it]704)\u001b[0m \n",
      "Val Epoch:1: 3it [00:06,  1.47s/it]704)\u001b[0m \n",
      "Val Epoch:1: 4it [00:06,  1.08it/s]704)\u001b[0m \n",
      "Val Epoch:1: 6it [00:06,  1.89it/s]704)\u001b[0m \n",
      "Val Epoch:1: 7it [00:06,  2.29it/s]704)\u001b[0m \n",
      "Val Epoch:1: 9it [00:08,  2.07it/s]704)\u001b[0m \n"
     ]
    },
    {
     "name": "stdout",
     "output_type": "stream",
     "text": [
      "\u001b[36m(tune_with_parameters pid=3287706)\u001b[0m loss: 0.672\n"
     ]
    },
    {
     "name": "stderr",
     "output_type": "stream",
     "text": [
      "Val Epoch:1: 10it [00:09,  1.64it/s]04)\u001b[0m \n",
      "Val Epoch:1: 11it [00:09,  2.06it/s]04)\u001b[0m \n",
      "Val Epoch:1: 12it [00:09,  2.44it/s]04)\u001b[0m \n",
      "Val Epoch:1: 14it [00:09,  3.50it/s]04)\u001b[0m \n",
      "Val Epoch:1: 15it [00:09,  3.37it/s]04)\u001b[0m \n",
      "Val Epoch:1: 17it [00:12,  1.34it/s]04)\u001b[0m \n",
      "Val Epoch:1: 18it [00:13,  1.27it/s]04)\u001b[0m \n",
      "Val Epoch:1: 20it [00:14,  1.83it/s]04)\u001b[0m \n",
      "Val Epoch:1: 21it [00:14,  1.98it/s]04)\u001b[0m \n",
      "Val Epoch:1: 22it [00:14,  2.16it/s]04)\u001b[0m \n",
      "Val Epoch:1: 23it [00:15,  2.61it/s]04)\u001b[0m \n",
      "Val Epoch:1: 24it [00:15,  2.65it/s]04)\u001b[0m \n",
      "Val Epoch:1: 25it [00:18,  1.10s/it]04)\u001b[0m \n",
      "Val Epoch:1: 26it [00:19,  1.14s/it]04)\u001b[0m \n",
      "Val Epoch:1: 27it [00:19,  1.20it/s]04)\u001b[0m \n",
      "Val Epoch:1: 28it [00:19,  1.54it/s]04)\u001b[0m \n",
      "Val Epoch:1: 29it [00:20,  1.96it/s]04)\u001b[0m \n",
      "Val Epoch:1: 30it [00:20,  2.39it/s]04)\u001b[0m \n",
      "Val Epoch:1: 31it [00:20,  2.76it/s]04)\u001b[0m \n",
      "Val Epoch:1: 32it [00:20,  2.85it/s]04)\u001b[0m \n",
      "Val Epoch:1: 33it [00:22,  1.14it/s]04)\u001b[0m \n",
      "Val Epoch:1: 34it [00:24,  1.17s/it]04)\u001b[0m \n",
      "Val Epoch:1: 36it [00:25,  1.54it/s]04)\u001b[0m \n",
      "Val Epoch:1: 37it [00:25,  1.80it/s]04)\u001b[0m \n",
      "Val Epoch:1: 39it [00:25,  2.87it/s]04)\u001b[0m \n",
      "Val Epoch:1: 40it [00:25,  3.13it/s]04)\u001b[0m \n",
      "Val Epoch:1: 41it [00:29,  1.21s/it]04)\u001b[0m \n",
      "Val Epoch:1: 42it [00:30,  1.17s/it]04)\u001b[0m \n",
      "Val Epoch:1: 43it [00:30,  1.11it/s]04)\u001b[0m \n",
      "Val Epoch:1: 44it [00:31,  1.43it/s]04)\u001b[0m \n",
      "Val Epoch:1: 45it [00:31,  1.75it/s]04)\u001b[0m \n",
      "Val Epoch:1: 46it [00:31,  2.09it/s]04)\u001b[0m \n",
      "Val Epoch:1: 47it [00:31,  2.64it/s]04)\u001b[0m \n",
      "Val Epoch:1: 48it [00:32,  2.61it/s]04)\u001b[0m \n",
      "Val Epoch:1: 49it [00:34,  1.13it/s]04)\u001b[0m \n",
      "Val Epoch:1: 50it [00:36,  1.24s/it]04)\u001b[0m \n",
      "Val Epoch:1: 52it [00:36,  1.40it/s]04)\u001b[0m \n",
      "Val Epoch:1: 53it [00:36,  1.76it/s]04)\u001b[0m \n",
      "Val Epoch:1: 55it [00:36,  2.81it/s]04)\u001b[0m \n",
      "Val Epoch:1: 57it [00:37,  3.46it/s]04)\u001b[0m \n",
      "Val Epoch:1: 58it [00:38,  1.79it/s]04)\u001b[0m \n",
      "Val Epoch:1: 59it [00:38,  2.14it/s]04)\u001b[0m \n",
      "Val Epoch:1: 61it [00:39,  2.81it/s]04)\u001b[0m \n",
      "Val Epoch:1: 62it [00:39,  3.06it/s]04)\u001b[0m \n",
      "Val Epoch:1: 63it [00:39,  3.44it/s]04)\u001b[0m \n",
      "Val Epoch:1: 64it [00:39,  3.45it/s]04)\u001b[0m \n",
      "Val Epoch:1: 65it [00:40,  3.56it/s]04)\u001b[0m \n",
      "Val Epoch:1: 66it [00:44,  1.47s/it]04)\u001b[0m \n",
      "Val Epoch:1: 67it [00:44,  1.10s/it]04)\u001b[0m \n",
      "Val Epoch:1: 68it [00:45,  1.19it/s]04)\u001b[0m \n",
      "Val Epoch:1: 69it [00:45,  1.55it/s]04)\u001b[0m \n",
      "Val Epoch:1: 70it [00:45,  1.97it/s]04)\u001b[0m \n",
      "Val Epoch:1: 71it [00:45,  2.28it/s]04)\u001b[0m \n",
      "Val Epoch:1: 72it [00:45,  2.77it/s]04)\u001b[0m \n",
      "Val Epoch:1: 73it [00:46,  1.98it/s]04)\u001b[0m \n",
      "Val Epoch:1: 74it [00:49,  1.28s/it]04)\u001b[0m \n",
      "Val Epoch:1: 78it [00:50,  1.94it/s]04)\u001b[0m \n",
      "Val Epoch:1: 79it [00:50,  2.22it/s]04)\u001b[0m \n",
      "Val Epoch:1: 81it [00:51,  2.20it/s]04)\u001b[0m \n",
      "Val Epoch:1: 82it [00:55,  1.17s/it]04)\u001b[0m \n",
      "Val Epoch:1: 83it [00:55,  1.03it/s]04)\u001b[0m \n",
      "Val Epoch:1: 85it [00:55,  1.49it/s]04)\u001b[0m \n",
      "Val Epoch:1: 86it [00:56,  1.81it/s]04)\u001b[0m \n",
      "Val Epoch:1: 87it [00:56,  2.21it/s]04)\u001b[0m \n",
      "Val Epoch:1: 88it [00:56,  2.72it/s]04)\u001b[0m \n",
      "Val Epoch:1: 89it [00:56,  2.44it/s]04)\u001b[0m \n",
      "Val Epoch:1: 90it [01:00,  1.46s/it]04)\u001b[0m \n",
      "Val Epoch:1: 91it [01:01,  1.12s/it]04)\u001b[0m \n",
      "Val Epoch:1: 92it [01:01,  1.18it/s]04)\u001b[0m \n",
      "Val Epoch:1: 93it [01:01,  1.53it/s]04)\u001b[0m \n",
      "Val Epoch:1: 94it [01:01,  1.73it/s]04)\u001b[0m \n",
      "Val Epoch:1: 95it [01:02,  2.15it/s]04)\u001b[0m \n",
      "Val Epoch:1: 96it [01:02,  2.59it/s]04)\u001b[0m \n",
      "Val Epoch:1: 97it [01:03,  1.85it/s]04)\u001b[0m \n",
      "Val Epoch:1: 98it [01:06,  1.21s/it]04)\u001b[0m \n",
      "Val Epoch:1: 101it [01:06,  1.78it/s]4)\u001b[0m \n",
      "Val Epoch:1: 103it [01:06,  2.51it/s]4)\u001b[0m \n",
      "Val Epoch:1: 104it [01:06,  2.94it/s]4)\u001b[0m \n",
      "Val Epoch:1: 106it [01:08,  1.98it/s]4)\u001b[0m \n",
      "Val Epoch:1: 107it [01:08,  2.28it/s]4)\u001b[0m \n",
      "Val Epoch:1: 110it [01:09,  1.58it/s]4)\u001b[0m \n"
     ]
    },
    {
     "name": "stdout",
     "output_type": "stream",
     "text": [
      "\u001b[36m(tune_with_parameters pid=3287704)\u001b[0m loss: 0.667\n",
      "\u001b[36m(tune_with_parameters pid=3287705)\u001b[0m loss: 0.652\n",
      "\u001b[36m(tune_with_parameters pid=3287706)\u001b[0m loss: 0.656\n",
      "\u001b[36m(tune_with_parameters pid=3287703)\u001b[0m loss: 0.664\n"
     ]
    },
    {
     "name": "stderr",
     "output_type": "stream",
     "text": [
      "Val Epoch:1: 0it [00:00, ?it/s]3287705)\u001b[0m \n",
      "Val Epoch:1: 1it [00:05,  5.93s/it]705)\u001b[0m \n",
      "Val Epoch:1: 3it [00:06,  1.65s/it]705)\u001b[0m \n",
      "Val Epoch:1: 5it [00:06,  1.18it/s]705)\u001b[0m \n",
      "Val Epoch:1: 6it [00:07,  1.22it/s]705)\u001b[0m \n",
      "Val Epoch:1: 7it [00:07,  1.43it/s]705)\u001b[0m \n",
      "Val Epoch:1: 8it [00:07,  1.73it/s]705)\u001b[0m \n",
      "Val Epoch:1: 9it [00:09,  1.01s/it]705)\u001b[0m \n",
      "Val Epoch:1: 10it [00:10,  1.02it/s]05)\u001b[0m \n",
      "Val Epoch:1: 11it [00:11,  1.31it/s]05)\u001b[0m \n",
      "Val Epoch:1: 13it [00:11,  2.09it/s]05)\u001b[0m \n",
      "Val Epoch:1: 14it [00:11,  2.40it/s]05)\u001b[0m \n",
      "Val Epoch:1: 15it [00:11,  2.56it/s]05)\u001b[0m \n",
      "Val Epoch:1: 17it [00:14,  1.21it/s]05)\u001b[0m \n",
      "Val Epoch:1: 18it [00:16,  1.02s/it]05)\u001b[0m \n",
      "Val Epoch:1: 20it [00:16,  1.52it/s]05)\u001b[0m \n",
      "Val Epoch:1: 21it [00:16,  1.78it/s]05)\u001b[0m \n",
      "Val Epoch:1: 22it [00:17,  1.85it/s]05)\u001b[0m \n",
      "Val Epoch:1: 23it [00:17,  2.11it/s]05)\u001b[0m \n",
      "Val Epoch:1: 25it [00:19,  1.29it/s]05)\u001b[0m \n",
      "Val Epoch:1: 26it [00:21,  1.06it/s]05)\u001b[0m \n",
      "Val Epoch:1: 27it [00:21,  1.32it/s]05)\u001b[0m \n",
      "Val Epoch:1: 28it [00:21,  1.70it/s]05)\u001b[0m \n",
      "Val Epoch:1: 29it [00:21,  2.14it/s]05)\u001b[0m \n",
      "Val Epoch:1: 31it [00:22,  3.09it/s]05)\u001b[0m \n",
      "Val Epoch:1: 32it [00:22,  3.55it/s]05)\u001b[0m \n",
      "Val Epoch:1: 33it [00:25,  1.12it/s]05)\u001b[0m \n",
      "Val Epoch:1: 34it [00:26,  1.12s/it]05)\u001b[0m \n",
      "Val Epoch:1: 35it [00:26,  1.17it/s]05)\u001b[0m \n",
      "Val Epoch:1: 36it [00:27,  1.47it/s]05)\u001b[0m \n",
      "Val Epoch:1: 38it [00:27,  2.38it/s]05)\u001b[0m \n",
      "Val Epoch:1: 39it [00:27,  2.60it/s]05)\u001b[0m \n",
      "Val Epoch:1: 40it [00:27,  3.11it/s]05)\u001b[0m \n",
      "Val Epoch:1: 41it [00:30,  1.12it/s]05)\u001b[0m \n",
      "Val Epoch:1: 42it [00:31,  1.13it/s]05)\u001b[0m \n",
      "Val Epoch:1: 43it [00:31,  1.44it/s]05)\u001b[0m \n",
      "Val Epoch:1: 45it [00:31,  2.30it/s]05)\u001b[0m \n",
      "Val Epoch:1: 46it [00:31,  2.25it/s]05)\u001b[0m \n",
      "Val Epoch:1: 47it [00:32,  2.63it/s]05)\u001b[0m \n",
      "Val Epoch:1: 48it [00:32,  2.93it/s]05)\u001b[0m \n",
      "Val Epoch:1: 49it [00:34,  1.07it/s]05)\u001b[0m \n",
      "Val Epoch:1: 50it [00:35,  1.08it/s]05)\u001b[0m \n",
      "Val Epoch:1: 51it [00:35,  1.41it/s]05)\u001b[0m \n",
      "Val Epoch:1: 52it [00:36,  1.81it/s]05)\u001b[0m \n",
      "Val Epoch:1: 54it [00:36,  2.13it/s]05)\u001b[0m \n",
      "Val Epoch:1: 55it [00:37,  2.54it/s]05)\u001b[0m \n",
      "Val Epoch:1: 57it [00:40,  1.06it/s]05)\u001b[0m \n",
      "Val Epoch:1: 58it [00:40,  1.30it/s]05)\u001b[0m \n",
      "Val Epoch:1: 59it [00:40,  1.63it/s]05)\u001b[0m \n",
      "Val Epoch:1: 60it [00:41,  1.69it/s]05)\u001b[0m \n",
      "Val Epoch:1: 61it [00:41,  2.12it/s]05)\u001b[0m \n",
      "Val Epoch:1: 62it [00:42,  1.61it/s]05)\u001b[0m \n",
      "Val Epoch:1: 63it [00:42,  2.01it/s]05)\u001b[0m \n",
      "Val Epoch:1: 64it [00:42,  2.41it/s]05)\u001b[0m \n"
     ]
    },
    {
     "name": "stdout",
     "output_type": "stream",
     "text": [
      "\u001b[36m(tune_with_parameters pid=3287706)\u001b[0m loss: 0.657\n"
     ]
    },
    {
     "name": "stderr",
     "output_type": "stream",
     "text": [
      "Val Epoch:1: 65it [00:46,  1.48s/it]05)\u001b[0m \n",
      "Val Epoch:1: 66it [00:47,  1.10s/it]05)\u001b[0m \n",
      "Val Epoch:1: 67it [00:47,  1.21it/s]05)\u001b[0m \n",
      "Val Epoch:1: 69it [00:47,  2.02it/s]05)\u001b[0m \n",
      "Val Epoch:1: 70it [00:48,  1.90it/s]05)\u001b[0m \n",
      "Val Epoch:1: 71it [00:48,  2.27it/s]05)\u001b[0m \n",
      "Val Epoch:1: 72it [00:48,  2.71it/s]05)\u001b[0m \n",
      "Val Epoch:1: 73it [00:52,  1.30s/it]05)\u001b[0m \n",
      "Val Epoch:1: 74it [00:52,  1.01s/it]05)\u001b[0m \n",
      "Val Epoch:1: 77it [00:52,  1.95it/s]05)\u001b[0m \n",
      "Val Epoch:1: 78it [00:54,  1.38it/s]05)\u001b[0m \n",
      "Val Epoch:1: 79it [00:54,  1.69it/s]05)\u001b[0m \n",
      "Val Epoch:1: 80it [00:54,  2.05it/s]05)\u001b[0m \n"
     ]
    },
    {
     "name": "stdout",
     "output_type": "stream",
     "text": [
      "\u001b[36m(tune_with_parameters pid=3287704)\u001b[0m loss: 0.657\n"
     ]
    },
    {
     "name": "stderr",
     "output_type": "stream",
     "text": [
      "Val Epoch:1: 81it [00:57,  1.01s/it]05)\u001b[0m \n",
      "Val Epoch:1: 84it [00:57,  1.99it/s]05)\u001b[0m \n",
      "Val Epoch:1: 86it [00:57,  2.50it/s]05)\u001b[0m \n",
      "Val Epoch:1: 88it [00:57,  3.41it/s]05)\u001b[0m \n",
      "Val Epoch:1: 89it [01:01,  1.19it/s]05)\u001b[0m \n",
      "Val Epoch:1: 90it [01:01,  1.38it/s]05)\u001b[0m \n",
      "Val Epoch:1: 91it [01:01,  1.66it/s]05)\u001b[0m \n",
      "Val Epoch:1: 92it [01:01,  1.87it/s]05)\u001b[0m \n",
      "Val Epoch:1: 93it [01:02,  2.10it/s]05)\u001b[0m \n",
      "Val Epoch:1: 94it [01:02,  2.17it/s]05)\u001b[0m \n",
      "Val Epoch:1: 95it [01:02,  2.66it/s]05)\u001b[0m \n",
      "Val Epoch:1: 96it [01:02,  3.13it/s]05)\u001b[0m \n",
      "Val Epoch:1: 97it [01:06,  1.20s/it]05)\u001b[0m \n",
      "Val Epoch:1: 98it [01:06,  1.13it/s]05)\u001b[0m \n",
      "Val Epoch:1: 100it [01:06,  1.89it/s]5)\u001b[0m \n",
      "Val Epoch:1: 101it [01:06,  2.28it/s]5)\u001b[0m \n",
      "Val Epoch:1: 102it [01:07,  2.09it/s]5)\u001b[0m \n",
      "Val Epoch:1: 103it [01:07,  2.51it/s]5)\u001b[0m \n",
      "Val Epoch:1: 104it [01:07,  3.00it/s]5)\u001b[0m \n",
      "Val Epoch:1: 105it [01:11,  1.25s/it]5)\u001b[0m \n",
      "Val Epoch:1: 106it [01:11,  1.08it/s]5)\u001b[0m \n",
      "Val Epoch:1: 108it [01:11,  1.77it/s]5)\u001b[0m \n",
      "Val Epoch:1: 110it [01:13,  1.49it/s]5)\u001b[0m \n"
     ]
    },
    {
     "name": "stdout",
     "output_type": "stream",
     "text": [
      "\u001b[36m(tune_with_parameters pid=3287703)\u001b[0m loss: 0.663\n",
      "\u001b[36m(tune_with_parameters pid=3287706)\u001b[0m loss: 0.657\u001b[32m [repeated 2x across cluster]\u001b[0m\n",
      "\u001b[36m(tune_with_parameters pid=3287704)\u001b[0m loss: 0.657\n",
      "\u001b[36m(tune_with_parameters pid=3287703)\u001b[0m loss: 0.660\n",
      "\u001b[36m(tune_with_parameters pid=3287706)\u001b[0m loss: 0.657\u001b[32m [repeated 2x across cluster]\u001b[0m\n"
     ]
    },
    {
     "name": "stderr",
     "output_type": "stream",
     "text": [
      "Val Epoch:2: 0it [00:00, ?it/s]3287706)\u001b[0m \n",
      "Val Epoch:2: 1it [00:05,  5.61s/it]706)\u001b[0m \n",
      "Val Epoch:2: 2it [00:06,  2.84s/it]706)\u001b[0m \n",
      "Val Epoch:2: 3it [00:06,  1.76s/it]706)\u001b[0m \n",
      "Val Epoch:2: 7it [00:07,  1.85it/s]706)\u001b[0m \n",
      "Val Epoch:2: 8it [00:07,  2.19it/s]706)\u001b[0m \n",
      "Val Epoch:2: 9it [00:08,  1.99it/s]706)\u001b[0m \n",
      "Val Epoch:2: 10it [00:08,  2.38it/s]06)\u001b[0m \n",
      "Val Epoch:2: 11it [00:08,  2.67it/s]06)\u001b[0m \n",
      "Val Epoch:2: 12it [00:08,  3.24it/s]06)\u001b[0m \n",
      "Val Epoch:2: 13it [00:08,  3.76it/s]06)\u001b[0m \n",
      "Val Epoch:2: 14it [00:08,  4.49it/s]06)\u001b[0m \n",
      "Val Epoch:2: 15it [00:08,  5.24it/s]06)\u001b[0m \n",
      "Val Epoch:2: 17it [00:10,  2.75it/s]06)\u001b[0m \n",
      "Val Epoch:2: 18it [00:10,  2.85it/s]06)\u001b[0m \n"
     ]
    },
    {
     "name": "stdout",
     "output_type": "stream",
     "text": [
      "\u001b[36m(tune_with_parameters pid=3287704)\u001b[0m loss: 0.657\n"
     ]
    },
    {
     "name": "stderr",
     "output_type": "stream",
     "text": [
      "Val Epoch:2: 19it [00:11,  2.19it/s]06)\u001b[0m \n",
      "Val Epoch:2: 21it [00:11,  3.20it/s]06)\u001b[0m \n",
      "Val Epoch:2: 22it [00:11,  3.59it/s]06)\u001b[0m \n",
      "Val Epoch:2: 24it [00:11,  5.15it/s]06)\u001b[0m \n",
      "Val Epoch:2: 25it [00:13,  1.65it/s]06)\u001b[0m \n",
      "Val Epoch:2: 26it [00:13,  2.03it/s]06)\u001b[0m \n",
      "Val Epoch:2: 27it [00:14,  1.94it/s]06)\u001b[0m \n",
      "Val Epoch:2: 29it [00:14,  2.85it/s]06)\u001b[0m \n",
      "Val Epoch:2: 30it [00:14,  3.22it/s]06)\u001b[0m \n",
      "Val Epoch:2: 31it [00:15,  3.55it/s]06)\u001b[0m \n",
      "Val Epoch:2: 33it [00:18,  1.28it/s]06)\u001b[0m \n",
      "Val Epoch:2: 34it [00:18,  1.50it/s]06)\u001b[0m \n",
      "Val Epoch:2: 35it [00:18,  1.77it/s]06)\u001b[0m \n",
      "Val Epoch:2: 37it [00:18,  2.63it/s]06)\u001b[0m \n",
      "Val Epoch:2: 38it [00:19,  2.43it/s]06)\u001b[0m \n",
      "Val Epoch:2: 39it [00:19,  2.93it/s]06)\u001b[0m \n",
      "Val Epoch:2: 40it [00:19,  3.30it/s]06)\u001b[0m \n",
      "Val Epoch:2: 41it [00:21,  1.47it/s]06)\u001b[0m \n",
      "Val Epoch:2: 43it [00:21,  2.28it/s]06)\u001b[0m \n",
      "Val Epoch:2: 44it [00:22,  2.08it/s]06)\u001b[0m \n",
      "Val Epoch:2: 45it [00:22,  2.45it/s]06)\u001b[0m \n",
      "Val Epoch:2: 46it [00:22,  2.87it/s]06)\u001b[0m \n",
      "Val Epoch:2: 47it [00:22,  3.11it/s]06)\u001b[0m \n",
      "Val Epoch:2: 48it [00:23,  3.45it/s]06)\u001b[0m \n",
      "Val Epoch:2: 49it [00:26,  1.06s/it]06)\u001b[0m \n",
      "Val Epoch:2: 50it [00:26,  1.25it/s]06)\u001b[0m \n",
      "Val Epoch:2: 51it [00:26,  1.60it/s]06)\u001b[0m \n",
      "Val Epoch:2: 52it [00:26,  2.08it/s]06)\u001b[0m \n",
      "Val Epoch:2: 53it [00:26,  2.22it/s]06)\u001b[0m \n",
      "Val Epoch:2: 55it [00:27,  3.43it/s]06)\u001b[0m \n",
      "Val Epoch:2: 56it [00:27,  3.82it/s]06)\u001b[0m \n",
      "Val Epoch:2: 57it [00:30,  1.01it/s]06)\u001b[0m \n",
      "Val Epoch:2: 58it [00:30,  1.32it/s]06)\u001b[0m \n",
      "Val Epoch:2: 59it [00:30,  1.70it/s]06)\u001b[0m \n",
      "Val Epoch:2: 60it [00:30,  1.98it/s]06)\u001b[0m \n",
      "Val Epoch:2: 62it [00:31,  2.50it/s]06)\u001b[0m \n",
      "Val Epoch:2: 63it [00:31,  2.84it/s]06)\u001b[0m \n",
      "Val Epoch:2: 64it [00:31,  3.39it/s]06)\u001b[0m \n",
      "Val Epoch:2: 65it [00:33,  1.52it/s]06)\u001b[0m \n",
      "Val Epoch:2: 66it [00:33,  1.81it/s]06)\u001b[0m \n",
      "Val Epoch:2: 67it [00:34,  1.99it/s]06)\u001b[0m \n",
      "Val Epoch:2: 68it [00:34,  2.48it/s]06)\u001b[0m \n",
      "Val Epoch:2: 70it [00:34,  2.65it/s]06)\u001b[0m \n",
      "Val Epoch:2: 71it [00:35,  3.03it/s]06)\u001b[0m \n",
      "Val Epoch:2: 72it [00:35,  3.41it/s]06)\u001b[0m \n",
      "Val Epoch:2: 73it [00:37,  1.28it/s]06)\u001b[0m \n",
      "Val Epoch:2: 74it [00:38,  1.27it/s]06)\u001b[0m \n",
      "Val Epoch:2: 75it [00:38,  1.68it/s]06)\u001b[0m \n",
      "Val Epoch:2: 76it [00:38,  2.21it/s]06)\u001b[0m \n",
      "Val Epoch:2: 78it [00:38,  3.14it/s]06)\u001b[0m \n",
      "Val Epoch:2: 80it [00:38,  4.58it/s]06)\u001b[0m \n",
      "Val Epoch:2: 81it [00:40,  2.00it/s]06)\u001b[0m \n",
      "Val Epoch:2: 82it [00:41,  1.68it/s]06)\u001b[0m \n",
      "Val Epoch:2: 83it [00:41,  2.11it/s]06)\u001b[0m \n",
      "Val Epoch:2: 84it [00:41,  2.54it/s]06)\u001b[0m \n",
      "Val Epoch:2: 85it [00:41,  3.06it/s]06)\u001b[0m \n",
      "Val Epoch:2: 87it [00:42,  4.23it/s]06)\u001b[0m \n",
      "Val Epoch:2: 88it [00:42,  4.21it/s]06)\u001b[0m \n",
      "Val Epoch:2: 89it [00:44,  1.47it/s]06)\u001b[0m \n",
      "Val Epoch:2: 90it [00:46,  1.02it/s]06)\u001b[0m \n",
      "Val Epoch:2: 91it [00:46,  1.33it/s]06)\u001b[0m \n",
      "Val Epoch:2: 92it [00:46,  1.69it/s]06)\u001b[0m \n",
      "Val Epoch:2: 93it [00:46,  2.02it/s]06)\u001b[0m \n",
      "Val Epoch:2: 94it [00:47,  2.17it/s]06)\u001b[0m \n",
      "Val Epoch:2: 96it [00:47,  3.08it/s]06)\u001b[0m \n"
     ]
    },
    {
     "name": "stdout",
     "output_type": "stream",
     "text": [
      "\u001b[36m(tune_with_parameters pid=3287703)\u001b[0m loss: 0.658\n"
     ]
    },
    {
     "name": "stderr",
     "output_type": "stream",
     "text": [
      "Val Epoch:2: 97it [00:48,  1.55it/s]06)\u001b[0m \n",
      "Val Epoch:2: 98it [00:49,  1.56it/s]06)\u001b[0m \n",
      "Val Epoch:2: 99it [00:50,  1.55it/s]06)\u001b[0m \n",
      "Val Epoch:2: 101it [00:50,  2.38it/s]6)\u001b[0m \n",
      "Val Epoch:2: 103it [00:50,  3.38it/s]6)\u001b[0m \n",
      "Val Epoch:2: 104it [00:50,  3.53it/s]6)\u001b[0m \n",
      "Val Epoch:2: 105it [00:52,  1.78it/s]6)\u001b[0m \n",
      "Val Epoch:2: 106it [00:53,  1.52it/s]6)\u001b[0m \n",
      "Val Epoch:2: 107it [00:53,  1.82it/s]6)\u001b[0m \n",
      "Val Epoch:2: 108it [00:53,  2.20it/s]6)\u001b[0m \n",
      "Val Epoch:2: 110it [00:55,  1.99it/s]6)\u001b[0m \n"
     ]
    },
    {
     "name": "stdout",
     "output_type": "stream",
     "text": [
      "\u001b[36m(tune_with_parameters pid=3287706)\u001b[0m loss: 0.659\u001b[32m [repeated 2x across cluster]\u001b[0m\n"
     ]
    },
    {
     "name": "stderr",
     "output_type": "stream",
     "text": [
      "Val Epoch:2: 0it [00:00, ?it/s]3287703)\u001b[0m \n",
      "Val Epoch:2: 1it [00:05,  5.56s/it]703)\u001b[0m \n",
      "Val Epoch:2: 2it [00:05,  2.43s/it]703)\u001b[0m \n",
      "Val Epoch:2: 3it [00:06,  1.85s/it]703)\u001b[0m \n",
      "Val Epoch:2: 4it [00:07,  1.18s/it]703)\u001b[0m \n",
      "Val Epoch:2: 6it [00:07,  1.65it/s]703)\u001b[0m \n",
      "Val Epoch:2: 7it [00:07,  1.93it/s]703)\u001b[0m \n",
      "Val Epoch:2: 8it [00:07,  2.33it/s]703)\u001b[0m \n",
      "Val Epoch:2: 9it [00:09,  1.32it/s]703)\u001b[0m \n",
      "Val Epoch:2: 10it [00:09,  1.74it/s]03)\u001b[0m \n",
      "Val Epoch:2: 13it [00:10,  2.60it/s]03)\u001b[0m \n",
      "Val Epoch:2: 14it [00:10,  2.65it/s]03)\u001b[0m \n",
      "Val Epoch:2: 15it [00:10,  3.02it/s]03)\u001b[0m \n",
      "Val Epoch:2: 17it [00:13,  1.45it/s]03)\u001b[0m \n",
      "Val Epoch:2: 18it [00:13,  1.77it/s]03)\u001b[0m \n",
      "Val Epoch:2: 19it [00:13,  2.17it/s]03)\u001b[0m \n",
      "Val Epoch:2: 20it [00:13,  2.39it/s]03)\u001b[0m \n",
      "Val Epoch:2: 21it [00:14,  2.08it/s]03)\u001b[0m \n",
      "Val Epoch:2: 23it [00:14,  3.09it/s]03)\u001b[0m \n",
      "Val Epoch:2: 24it [00:14,  3.37it/s]03)\u001b[0m \n",
      "Val Epoch:2: 25it [00:18,  1.26s/it]03)\u001b[0m \n",
      "Val Epoch:2: 26it [00:19,  1.03it/s]03)\u001b[0m \n"
     ]
    },
    {
     "name": "stdout",
     "output_type": "stream",
     "text": [
      "\u001b[36m(tune_with_parameters pid=3287704)\u001b[0m loss: 0.657\n"
     ]
    },
    {
     "name": "stderr",
     "output_type": "stream",
     "text": [
      "Val Epoch:2: 28it [00:19,  1.56it/s]03)\u001b[0m \n",
      "Val Epoch:2: 29it [00:19,  1.86it/s]03)\u001b[0m \n",
      "Val Epoch:2: 30it [00:19,  2.21it/s]03)\u001b[0m \n",
      "Val Epoch:2: 31it [00:20,  2.59it/s]03)\u001b[0m \n",
      "Val Epoch:2: 32it [00:20,  2.97it/s]03)\u001b[0m \n",
      "Val Epoch:2: 33it [00:24,  1.35s/it]03)\u001b[0m \n",
      "Val Epoch:2: 34it [00:24,  1.01s/it]03)\u001b[0m \n",
      "Val Epoch:2: 35it [00:24,  1.23it/s]03)\u001b[0m \n",
      "Val Epoch:2: 36it [00:24,  1.59it/s]03)\u001b[0m \n",
      "Val Epoch:2: 37it [00:25,  2.08it/s]03)\u001b[0m \n",
      "Val Epoch:2: 38it [00:25,  2.07it/s]03)\u001b[0m \n",
      "Val Epoch:2: 39it [00:25,  2.58it/s]03)\u001b[0m \n",
      "Val Epoch:2: 40it [00:25,  3.24it/s]03)\u001b[0m \n",
      "Val Epoch:2: 41it [00:29,  1.39s/it]03)\u001b[0m \n",
      "Val Epoch:2: 42it [00:29,  1.02s/it]03)\u001b[0m \n",
      "Val Epoch:2: 43it [00:30,  1.18it/s]03)\u001b[0m \n",
      "Val Epoch:2: 44it [00:30,  1.58it/s]03)\u001b[0m \n",
      "Val Epoch:2: 46it [00:30,  2.62it/s]03)\u001b[0m \n",
      "Val Epoch:2: 47it [00:31,  3.08it/s]03)\u001b[0m \n",
      "Val Epoch:2: 48it [00:31,  3.54it/s]03)\u001b[0m \n",
      "Val Epoch:2: 49it [00:34,  1.23s/it]03)\u001b[0m \n",
      "Val Epoch:2: 51it [00:34,  1.43it/s]03)\u001b[0m \n",
      "Val Epoch:2: 52it [00:34,  1.78it/s]03)\u001b[0m \n",
      "Val Epoch:2: 53it [00:35,  2.19it/s]03)\u001b[0m \n",
      "Val Epoch:2: 54it [00:35,  2.72it/s]03)\u001b[0m \n",
      "Val Epoch:2: 55it [00:35,  2.85it/s]03)\u001b[0m \n",
      "Val Epoch:2: 56it [00:36,  2.27it/s]03)\u001b[0m \n",
      "Val Epoch:2: 57it [00:39,  1.21s/it]03)\u001b[0m \n",
      "Val Epoch:2: 60it [00:39,  1.70it/s]03)\u001b[0m \n",
      "Val Epoch:2: 63it [00:39,  2.80it/s]03)\u001b[0m \n",
      "Val Epoch:2: 65it [00:42,  1.44it/s]03)\u001b[0m \n",
      "Val Epoch:2: 66it [00:42,  1.64it/s]03)\u001b[0m \n",
      "Val Epoch:2: 67it [00:43,  1.85it/s]03)\u001b[0m \n",
      "Val Epoch:2: 69it [00:43,  2.59it/s]03)\u001b[0m \n",
      "Val Epoch:2: 70it [00:43,  2.90it/s]03)\u001b[0m \n",
      "Val Epoch:2: 71it [00:43,  3.13it/s]03)\u001b[0m \n",
      "Val Epoch:2: 73it [00:47,  1.15it/s]03)\u001b[0m \n",
      "Val Epoch:2: 74it [00:47,  1.36it/s]03)\u001b[0m \n",
      "Val Epoch:2: 76it [00:47,  1.88it/s]03)\u001b[0m \n",
      "Val Epoch:2: 77it [00:48,  1.95it/s]03)\u001b[0m \n",
      "Val Epoch:2: 78it [00:48,  2.11it/s]03)\u001b[0m \n",
      "Val Epoch:2: 79it [00:48,  2.54it/s]03)\u001b[0m \n",
      "Val Epoch:2: 80it [00:49,  2.63it/s]03)\u001b[0m \n"
     ]
    },
    {
     "name": "stdout",
     "output_type": "stream",
     "text": [
      "\u001b[36m(tune_with_parameters pid=3287706)\u001b[0m loss: 0.657\n"
     ]
    },
    {
     "name": "stderr",
     "output_type": "stream",
     "text": [
      "Val Epoch:2: 81it [00:52,  1.19s/it]03)\u001b[0m \n",
      "Val Epoch:2: 82it [00:52,  1.07it/s]03)\u001b[0m \n",
      "Val Epoch:2: 83it [00:53,  1.39it/s]03)\u001b[0m \n",
      "Val Epoch:2: 84it [00:53,  1.79it/s]03)\u001b[0m \n",
      "Val Epoch:2: 85it [00:53,  1.75it/s]03)\u001b[0m \n",
      "Val Epoch:2: 86it [00:54,  1.91it/s]03)\u001b[0m \n",
      "Val Epoch:2: 87it [00:54,  2.39it/s]03)\u001b[0m \n"
     ]
    },
    {
     "name": "stdout",
     "output_type": "stream",
     "text": [
      "\u001b[36m(tune_with_parameters pid=3287705)\u001b[0m loss: 0.647\n"
     ]
    },
    {
     "name": "stderr",
     "output_type": "stream",
     "text": [
      "Val Epoch:2: 89it [00:58,  1.20s/it]03)\u001b[0m \n",
      "Val Epoch:2: 90it [00:58,  1.05it/s]03)\u001b[0m \n",
      "Val Epoch:2: 91it [00:58,  1.34it/s]03)\u001b[0m \n",
      "Val Epoch:2: 93it [00:59,  1.72it/s]03)\u001b[0m \n",
      "Val Epoch:2: 94it [01:00,  1.81it/s]03)\u001b[0m \n",
      "Val Epoch:2: 95it [01:00,  2.11it/s]03)\u001b[0m \n",
      "Val Epoch:2: 96it [01:00,  2.51it/s]03)\u001b[0m \n",
      "Val Epoch:2: 97it [01:04,  1.27s/it]03)\u001b[0m \n",
      "Val Epoch:2: 98it [01:04,  1.05it/s]03)\u001b[0m \n",
      "Val Epoch:2: 99it [01:04,  1.41it/s]03)\u001b[0m \n",
      "Val Epoch:2: 100it [01:04,  1.74it/s]3)\u001b[0m \n",
      "Val Epoch:2: 101it [01:05,  1.66it/s]3)\u001b[0m \n",
      "Val Epoch:2: 103it [01:05,  2.62it/s]3)\u001b[0m \n",
      "Val Epoch:2: 104it [01:05,  3.13it/s]3)\u001b[0m \n",
      "Val Epoch:2: 105it [01:07,  1.20it/s]3)\u001b[0m \n",
      "Val Epoch:2: 108it [01:08,  2.31it/s]3)\u001b[0m \n",
      "Val Epoch:2: 109it [01:08,  2.66it/s]3)\u001b[0m \n",
      "Val Epoch:2: 110it [01:09,  1.59it/s]3)\u001b[0m \n",
      "Val Epoch:2: 0it [00:00, ?it/s]3287704)\u001b[0m \n"
     ]
    },
    {
     "name": "stdout",
     "output_type": "stream",
     "text": [
      "\u001b[36m(tune_with_parameters pid=3287703)\u001b[0m loss: 0.671\n"
     ]
    },
    {
     "name": "stderr",
     "output_type": "stream",
     "text": [
      "Val Epoch:2: 1it [00:05,  5.94s/it]704)\u001b[0m \n",
      "Val Epoch:2: 2it [00:06,  2.55s/it]704)\u001b[0m \n",
      "Val Epoch:2: 3it [00:06,  1.60s/it]704)\u001b[0m \n",
      "Val Epoch:2: 4it [00:07,  1.16s/it]704)\u001b[0m \n",
      "Val Epoch:2: 5it [00:07,  1.02s/it]704)\u001b[0m \n",
      "Val Epoch:2: 6it [00:08,  1.17it/s]704)\u001b[0m \n",
      "Val Epoch:2: 7it [00:08,  1.56it/s]704)\u001b[0m \n",
      "Val Epoch:2: 8it [00:08,  2.03it/s]704)\u001b[0m \n",
      "Val Epoch:2: 9it [00:10,  1.01it/s]704)\u001b[0m \n",
      "Val Epoch:2: 10it [00:11,  1.32it/s]04)\u001b[0m \n",
      "Val Epoch:2: 11it [00:11,  1.70it/s]04)\u001b[0m \n",
      "Val Epoch:2: 13it [00:12,  1.69it/s]04)\u001b[0m \n",
      "Val Epoch:2: 14it [00:13,  1.80it/s]04)\u001b[0m \n",
      "Val Epoch:2: 15it [00:13,  2.14it/s]04)\u001b[0m \n",
      "Val Epoch:2: 16it [00:13,  2.44it/s]04)\u001b[0m \n",
      "Val Epoch:2: 17it [00:15,  1.05it/s]04)\u001b[0m \n",
      "Val Epoch:2: 19it [00:16,  1.72it/s]04)\u001b[0m \n",
      "Val Epoch:2: 20it [00:16,  2.00it/s]04)\u001b[0m \n",
      "Val Epoch:2: 21it [00:16,  2.37it/s]04)\u001b[0m \n",
      "Val Epoch:2: 22it [00:16,  2.51it/s]04)\u001b[0m \n",
      "Val Epoch:2: 25it [00:19,  1.58it/s]04)\u001b[0m \n",
      "Val Epoch:2: 26it [00:19,  1.77it/s]04)\u001b[0m \n",
      "Val Epoch:2: 27it [00:19,  2.15it/s]04)\u001b[0m \n",
      "Val Epoch:2: 28it [00:20,  1.93it/s]04)\u001b[0m \n",
      "Val Epoch:2: 29it [00:20,  2.36it/s]04)\u001b[0m \n",
      "Val Epoch:2: 30it [00:21,  2.47it/s]04)\u001b[0m \n",
      "Val Epoch:2: 31it [00:21,  2.16it/s]04)\u001b[0m \n",
      "Val Epoch:2: 33it [00:23,  1.37it/s]04)\u001b[0m \n",
      "Val Epoch:2: 34it [00:24,  1.66it/s]04)\u001b[0m \n",
      "Val Epoch:2: 35it [00:24,  1.99it/s]04)\u001b[0m \n",
      "Val Epoch:2: 36it [00:25,  1.45it/s]04)\u001b[0m \n",
      "Val Epoch:2: 37it [00:25,  1.83it/s]04)\u001b[0m \n",
      "Val Epoch:2: 38it [00:25,  2.18it/s]04)\u001b[0m \n",
      "Val Epoch:2: 39it [00:26,  2.31it/s]04)\u001b[0m \n",
      "Val Epoch:2: 41it [00:28,  1.18it/s]04)\u001b[0m \n",
      "Val Epoch:2: 44it [00:30,  1.43it/s]04)\u001b[0m \n",
      "Val Epoch:2: 45it [00:30,  1.66it/s]04)\u001b[0m \n",
      "Val Epoch:2: 46it [00:31,  1.61it/s]04)\u001b[0m \n",
      "Val Epoch:2: 47it [00:31,  1.89it/s]04)\u001b[0m \n",
      "Val Epoch:2: 48it [00:31,  2.24it/s]04)\u001b[0m \n",
      "Val Epoch:2: 49it [00:34,  1.05it/s]04)\u001b[0m \n",
      "Val Epoch:2: 51it [00:34,  1.72it/s]04)\u001b[0m \n",
      "Val Epoch:2: 52it [00:36,  1.06it/s]04)\u001b[0m \n",
      "Val Epoch:2: 53it [00:36,  1.35it/s]04)\u001b[0m \n",
      "Val Epoch:2: 54it [00:36,  1.59it/s]04)\u001b[0m \n",
      "Val Epoch:2: 55it [00:37,  1.91it/s]04)\u001b[0m \n",
      "Val Epoch:2: 56it [00:37,  2.14it/s]04)\u001b[0m \n",
      "Val Epoch:2: 57it [00:40,  1.13s/it]04)\u001b[0m \n",
      "Val Epoch:2: 58it [00:40,  1.15it/s]04)\u001b[0m \n",
      "Val Epoch:2: 59it [00:40,  1.49it/s]04)\u001b[0m \n",
      "Val Epoch:2: 60it [00:42,  1.06it/s]04)\u001b[0m \n",
      "Val Epoch:2: 61it [00:42,  1.38it/s]04)\u001b[0m \n",
      "Val Epoch:2: 62it [00:43,  1.41it/s]04)\u001b[0m \n",
      "Val Epoch:2: 63it [00:43,  1.74it/s]04)\u001b[0m \n",
      "Val Epoch:2: 64it [00:43,  2.17it/s]04)\u001b[0m \n",
      "Val Epoch:2: 65it [00:45,  1.32it/s]04)\u001b[0m \n",
      "Val Epoch:2: 67it [00:45,  2.05it/s]04)\u001b[0m \n",
      "Val Epoch:2: 68it [00:46,  1.75it/s]04)\u001b[0m \n",
      "Val Epoch:2: 70it [00:46,  2.19it/s]04)\u001b[0m \n",
      "Val Epoch:2: 71it [00:46,  2.66it/s]04)\u001b[0m \n",
      "Val Epoch:2: 72it [00:47,  3.24it/s]04)\u001b[0m \n",
      "Val Epoch:2: 73it [00:48,  1.60it/s]04)\u001b[0m \n",
      "Val Epoch:2: 76it [00:48,  2.96it/s]04)\u001b[0m \n",
      "Val Epoch:2: 77it [00:49,  2.34it/s]04)\u001b[0m \n",
      "Val Epoch:2: 78it [00:50,  2.19it/s]04)\u001b[0m \n",
      "Val Epoch:2: 79it [00:50,  2.55it/s]04)\u001b[0m \n",
      "Val Epoch:2: 80it [00:50,  2.73it/s]04)\u001b[0m \n",
      "Val Epoch:2: 81it [00:53,  1.01it/s]04)\u001b[0m \n",
      "Val Epoch:2: 82it [00:53,  1.33it/s]04)\u001b[0m \n",
      "Val Epoch:2: 83it [00:53,  1.68it/s]04)\u001b[0m \n",
      "Val Epoch:2: 84it [00:54,  1.84it/s]04)\u001b[0m \n",
      "Val Epoch:2: 85it [00:54,  1.74it/s]04)\u001b[0m \n",
      "Val Epoch:2: 86it [00:55,  1.79it/s]04)\u001b[0m \n",
      "Val Epoch:2: 87it [00:55,  2.23it/s]04)\u001b[0m \n",
      "Val Epoch:2: 89it [00:58,  1.04it/s]04)\u001b[0m \n",
      "Val Epoch:2: 90it [00:58,  1.29it/s]04)\u001b[0m \n",
      "Val Epoch:2: 91it [00:59,  1.51it/s]04)\u001b[0m \n",
      "Val Epoch:2: 93it [01:00,  1.48it/s]04)\u001b[0m \n",
      "Val Epoch:2: 95it [01:00,  2.26it/s]04)\u001b[0m \n",
      "Val Epoch:2: 96it [01:00,  2.60it/s]04)\u001b[0m \n",
      "Val Epoch:2: 97it [01:04,  1.19s/it]04)\u001b[0m \n",
      "Val Epoch:2: 99it [01:04,  1.32it/s]04)\u001b[0m \n"
     ]
    },
    {
     "name": "stdout",
     "output_type": "stream",
     "text": [
      "\u001b[36m(tune_with_parameters pid=3287706)\u001b[0m loss: 0.657\n"
     ]
    },
    {
     "name": "stderr",
     "output_type": "stream",
     "text": [
      "Val Epoch:2: 100it [01:05,  1.52it/s]4)\u001b[0m \n",
      "Val Epoch:2: 101it [01:05,  1.51it/s]4)\u001b[0m \n",
      "Val Epoch:2: 102it [01:06,  1.83it/s]4)\u001b[0m \n",
      "Val Epoch:2: 103it [01:06,  2.21it/s]4)\u001b[0m \n",
      "Val Epoch:2: 105it [01:09,  1.17it/s]4)\u001b[0m \n",
      "Val Epoch:2: 106it [01:09,  1.44it/s]4)\u001b[0m \n",
      "Val Epoch:2: 107it [01:09,  1.77it/s]4)\u001b[0m \n",
      "Val Epoch:2: 108it [01:09,  2.18it/s]4)\u001b[0m \n",
      "Val Epoch:2: 109it [01:09,  2.35it/s]4)\u001b[0m \n",
      "Val Epoch:2: 110it [01:10,  2.83it/s]4)\u001b[0m \n",
      "Val Epoch:2: 110it [01:11,  1.54it/s]4)\u001b[0m \n"
     ]
    },
    {
     "name": "stdout",
     "output_type": "stream",
     "text": [
      "\u001b[36m(tune_with_parameters pid=3287704)\u001b[0m loss: 0.665\n",
      "\u001b[36m(tune_with_parameters pid=3287705)\u001b[0m loss: 0.645\n",
      "\u001b[36m(tune_with_parameters pid=3287703)\u001b[0m loss: 0.657\n"
     ]
    },
    {
     "name": "stderr",
     "output_type": "stream",
     "text": [
      "Val Epoch:2: 0it [00:00, ?it/s]3287705)\u001b[0m \n"
     ]
    },
    {
     "name": "stdout",
     "output_type": "stream",
     "text": [
      "\u001b[36m(tune_with_parameters pid=3287706)\u001b[0m loss: 0.657\n"
     ]
    },
    {
     "name": "stderr",
     "output_type": "stream",
     "text": [
      "Val Epoch:2: 1it [00:05,  5.89s/it]705)\u001b[0m \n",
      "Val Epoch:2: 3it [00:05,  1.57s/it]705)\u001b[0m \n",
      "Val Epoch:2: 5it [00:06,  1.17it/s]705)\u001b[0m \n",
      "Val Epoch:2: 7it [00:06,  1.88it/s]705)\u001b[0m \n",
      "Val Epoch:2: 8it [00:06,  2.29it/s]705)\u001b[0m \n",
      "Val Epoch:2: 9it [00:08,  1.46it/s]705)\u001b[0m \n",
      "Val Epoch:2: 10it [00:08,  1.82it/s]05)\u001b[0m \n",
      "Val Epoch:2: 11it [00:08,  2.21it/s]05)\u001b[0m \n",
      "Val Epoch:2: 12it [00:09,  1.57it/s]05)\u001b[0m \n",
      "Val Epoch:2: 14it [00:09,  2.56it/s]05)\u001b[0m \n",
      "Val Epoch:2: 15it [00:09,  2.90it/s]05)\u001b[0m \n",
      "Val Epoch:2: 16it [00:10,  3.20it/s]05)\u001b[0m \n",
      "Val Epoch:2: 17it [00:13,  1.18s/it]05)\u001b[0m \n",
      "Val Epoch:2: 19it [00:13,  1.40it/s]05)\u001b[0m \n",
      "Val Epoch:2: 20it [00:14,  1.26it/s]05)\u001b[0m \n",
      "Val Epoch:2: 21it [00:15,  1.44it/s]05)\u001b[0m \n",
      "Val Epoch:2: 22it [00:15,  1.77it/s]05)\u001b[0m \n",
      "Val Epoch:2: 23it [00:15,  2.15it/s]05)\u001b[0m \n",
      "Val Epoch:2: 24it [00:15,  2.61it/s]05)\u001b[0m \n",
      "Val Epoch:2: 25it [00:19,  1.19s/it]05)\u001b[0m \n",
      "Val Epoch:2: 26it [00:19,  1.12it/s]05)\u001b[0m \n",
      "Val Epoch:2: 27it [00:19,  1.34it/s]05)\u001b[0m \n",
      "Val Epoch:2: 28it [00:21,  1.05it/s]05)\u001b[0m \n",
      "Val Epoch:2: 29it [00:21,  1.40it/s]05)\u001b[0m \n",
      "Val Epoch:2: 30it [00:21,  1.80it/s]05)\u001b[0m \n",
      "Val Epoch:2: 31it [00:21,  2.16it/s]05)\u001b[0m \n",
      "Val Epoch:2: 33it [00:24,  1.18it/s]05)\u001b[0m \n",
      "Val Epoch:2: 34it [00:24,  1.49it/s]05)\u001b[0m \n",
      "Val Epoch:2: 35it [00:24,  1.86it/s]05)\u001b[0m \n",
      "Val Epoch:2: 36it [00:25,  1.64it/s]05)\u001b[0m \n",
      "Val Epoch:2: 37it [00:25,  2.00it/s]05)\u001b[0m \n",
      "Val Epoch:2: 38it [00:25,  2.41it/s]05)\u001b[0m \n",
      "Val Epoch:2: 39it [00:26,  2.92it/s]05)\u001b[0m \n",
      "Val Epoch:2: 40it [00:26,  3.45it/s]05)\u001b[0m \n",
      "Val Epoch:2: 41it [00:29,  1.16s/it]05)\u001b[0m \n",
      "Val Epoch:2: 42it [00:29,  1.13it/s]05)\u001b[0m \n",
      "Val Epoch:2: 44it [00:31,  1.20it/s]05)\u001b[0m \n",
      "Val Epoch:2: 45it [00:31,  1.50it/s]05)\u001b[0m \n",
      "Val Epoch:2: 47it [00:31,  2.21it/s]05)\u001b[0m \n",
      "Val Epoch:2: 48it [00:31,  2.53it/s]05)\u001b[0m \n",
      "Val Epoch:2: 49it [00:35,  1.15s/it]05)\u001b[0m \n",
      "Val Epoch:2: 51it [00:35,  1.42it/s]05)\u001b[0m \n",
      "Val Epoch:2: 52it [00:35,  1.50it/s]05)\u001b[0m \n",
      "Val Epoch:2: 53it [00:36,  1.88it/s]05)\u001b[0m \n",
      "Val Epoch:2: 54it [00:36,  2.36it/s]05)\u001b[0m \n",
      "Val Epoch:2: 56it [00:36,  3.56it/s]05)\u001b[0m \n",
      "Val Epoch:2: 57it [00:37,  2.32it/s]05)\u001b[0m \n",
      "Val Epoch:2: 59it [00:38,  2.48it/s]05)\u001b[0m \n",
      "Val Epoch:2: 60it [00:38,  2.12it/s]05)\u001b[0m \n",
      "Val Epoch:2: 61it [00:38,  2.53it/s]05)\u001b[0m \n",
      "Val Epoch:2: 62it [00:39,  2.91it/s]05)\u001b[0m \n",
      "Val Epoch:2: 63it [00:39,  3.15it/s]05)\u001b[0m \n",
      "Val Epoch:2: 64it [00:39,  3.54it/s]05)\u001b[0m \n",
      "Val Epoch:2: 65it [00:41,  1.13it/s]05)\u001b[0m \n",
      "Val Epoch:2: 66it [00:42,  1.40it/s]05)\u001b[0m \n",
      "Val Epoch:2: 67it [00:43,  1.38it/s]05)\u001b[0m \n",
      "Val Epoch:2: 68it [00:44,  1.17it/s]05)\u001b[0m \n",
      "Val Epoch:2: 69it [00:44,  1.55it/s]05)\u001b[0m \n",
      "Val Epoch:2: 70it [00:44,  1.93it/s]05)\u001b[0m \n",
      "Val Epoch:2: 71it [00:44,  2.40it/s]05)\u001b[0m \n",
      "Val Epoch:2: 73it [00:47,  1.19it/s]05)\u001b[0m \n",
      "Val Epoch:2: 74it [00:47,  1.49it/s]05)\u001b[0m \n",
      "Val Epoch:2: 75it [00:48,  1.37it/s]05)\u001b[0m \n",
      "Val Epoch:2: 76it [00:49,  1.05it/s]05)\u001b[0m \n",
      "Val Epoch:2: 77it [00:50,  1.36it/s]05)\u001b[0m \n",
      "Val Epoch:2: 78it [00:50,  1.72it/s]05)\u001b[0m \n",
      "Val Epoch:2: 79it [00:50,  2.15it/s]05)\u001b[0m \n",
      "Val Epoch:2: 80it [00:50,  2.71it/s]05)\u001b[0m \n",
      "Val Epoch:2: 81it [00:52,  1.20it/s]05)\u001b[0m \n",
      "Val Epoch:2: 82it [00:52,  1.56it/s]05)\u001b[0m \n"
     ]
    },
    {
     "name": "stdout",
     "output_type": "stream",
     "text": [
      "\u001b[36m(tune_with_parameters pid=3287704)\u001b[0m loss: 0.658\n"
     ]
    },
    {
     "name": "stderr",
     "output_type": "stream",
     "text": [
      "Val Epoch:2: 83it [00:53,  1.51it/s]05)\u001b[0m \n",
      "Val Epoch:2: 84it [00:55,  1.03s/it]05)\u001b[0m \n",
      "Val Epoch:2: 85it [00:55,  1.30it/s]05)\u001b[0m \n",
      "Val Epoch:2: 86it [00:55,  1.65it/s]05)\u001b[0m \n",
      "Val Epoch:2: 87it [00:55,  2.08it/s]05)\u001b[0m \n",
      "Val Epoch:2: 88it [00:56,  2.51it/s]05)\u001b[0m \n",
      "Val Epoch:2: 89it [00:58,  1.16it/s]05)\u001b[0m \n",
      "Val Epoch:2: 90it [00:58,  1.47it/s]05)\u001b[0m \n",
      "Val Epoch:2: 91it [00:59,  1.31it/s]05)\u001b[0m \n",
      "Val Epoch:2: 92it [01:01,  1.05s/it]05)\u001b[0m \n",
      "Val Epoch:2: 93it [01:01,  1.28it/s]05)\u001b[0m \n",
      "Val Epoch:2: 94it [01:01,  1.53it/s]05)\u001b[0m \n",
      "Val Epoch:2: 95it [01:01,  1.82it/s]05)\u001b[0m \n",
      "Val Epoch:2: 97it [01:03,  1.35it/s]05)\u001b[0m \n",
      "Val Epoch:2: 98it [01:04,  1.63it/s]05)\u001b[0m \n",
      "Val Epoch:2: 99it [01:04,  1.54it/s]05)\u001b[0m \n",
      "Val Epoch:2: 100it [01:05,  1.33it/s]5)\u001b[0m \n",
      "Val Epoch:2: 103it [01:05,  2.65it/s]5)\u001b[0m \n",
      "Val Epoch:2: 105it [01:06,  2.79it/s]5)\u001b[0m \n",
      "Val Epoch:2: 107it [01:06,  3.61it/s]5)\u001b[0m \n",
      "Val Epoch:2: 108it [01:07,  2.63it/s]5)\u001b[0m \n",
      "Val Epoch:2: 109it [01:07,  2.94it/s]5)\u001b[0m \n",
      "Val Epoch:2: 110it [01:07,  3.37it/s]5)\u001b[0m \n",
      "Val Epoch:2: 110it [01:09,  1.58it/s]5)\u001b[0m \n"
     ]
    },
    {
     "name": "stdout",
     "output_type": "stream",
     "text": [
      "\u001b[36m(tune_with_parameters pid=3287705)\u001b[0m loss: 0.655\n",
      "\u001b[36m(tune_with_parameters pid=3287703)\u001b[0m loss: 0.657\n"
     ]
    },
    {
     "name": "stderr",
     "output_type": "stream",
     "text": [
      "Val Epoch:3: 0it [00:00, ?it/s]3287706)\u001b[0m \n",
      "Val Epoch:3: 1it [00:04,  4.54s/it]706)\u001b[0m \n",
      "Val Epoch:3: 2it [00:04,  2.13s/it]706)\u001b[0m \n",
      "Val Epoch:3: 4it [00:05,  1.01s/it]706)\u001b[0m \n",
      "Val Epoch:3: 5it [00:05,  1.29it/s]706)\u001b[0m \n",
      "Val Epoch:3: 6it [00:06,  1.51it/s]706)\u001b[0m \n",
      "Val Epoch:3: 7it [00:06,  1.98it/s]706)\u001b[0m \n",
      "Val Epoch:3: 8it [00:06,  2.38it/s]706)\u001b[0m \n",
      "Val Epoch:3: 9it [00:07,  2.34it/s]706)\u001b[0m \n",
      "Val Epoch:3: 10it [00:07,  2.88it/s]06)\u001b[0m \n",
      "Val Epoch:3: 11it [00:07,  3.31it/s]06)\u001b[0m \n",
      "Val Epoch:3: 12it [00:07,  4.10it/s]06)\u001b[0m \n",
      "Val Epoch:3: 13it [00:08,  3.36it/s]06)\u001b[0m \n",
      "Val Epoch:3: 14it [00:08,  4.17it/s]06)\u001b[0m \n",
      "Val Epoch:3: 16it [00:08,  5.11it/s]06)\u001b[0m \n",
      "Val Epoch:3: 17it [00:08,  4.45it/s]06)\u001b[0m \n",
      "Val Epoch:3: 18it [00:08,  4.40it/s]06)\u001b[0m \n",
      "Val Epoch:3: 19it [00:09,  4.97it/s]06)\u001b[0m \n",
      "Val Epoch:3: 20it [00:09,  5.68it/s]06)\u001b[0m \n",
      "Val Epoch:3: 21it [00:10,  2.77it/s]06)\u001b[0m \n",
      "Val Epoch:3: 22it [00:10,  2.89it/s]06)\u001b[0m \n",
      "Val Epoch:3: 23it [00:10,  3.17it/s]06)\u001b[0m \n",
      "Val Epoch:3: 24it [00:11,  2.87it/s]06)\u001b[0m \n",
      "Val Epoch:3: 25it [00:11,  2.04it/s]06)\u001b[0m \n",
      "Val Epoch:3: 26it [00:12,  1.65it/s]06)\u001b[0m \n",
      "Val Epoch:3: 27it [00:13,  1.64it/s]06)\u001b[0m \n",
      "Val Epoch:3: 28it [00:13,  2.06it/s]06)\u001b[0m \n",
      "Val Epoch:3: 29it [00:13,  2.51it/s]06)\u001b[0m \n",
      "Val Epoch:3: 30it [00:14,  2.40it/s]06)\u001b[0m \n",
      "Val Epoch:3: 31it [00:14,  2.87it/s]06)\u001b[0m \n",
      "Val Epoch:3: 32it [00:15,  1.98it/s]06)\u001b[0m \n",
      "Val Epoch:3: 33it [00:16,  1.37it/s]06)\u001b[0m \n",
      "Val Epoch:3: 34it [00:16,  1.52it/s]06)\u001b[0m \n",
      "Val Epoch:3: 35it [00:18,  1.19it/s]06)\u001b[0m \n",
      "Val Epoch:3: 36it [00:18,  1.58it/s]06)\u001b[0m \n",
      "Val Epoch:3: 37it [00:18,  2.02it/s]06)\u001b[0m \n",
      "Val Epoch:3: 38it [00:18,  2.51it/s]06)\u001b[0m \n",
      "Val Epoch:3: 39it [00:18,  2.98it/s]06)\u001b[0m \n",
      "Val Epoch:3: 40it [00:19,  2.93it/s]06)\u001b[0m \n",
      "Val Epoch:3: 41it [00:20,  1.48it/s]06)\u001b[0m \n",
      "Val Epoch:3: 42it [00:21,  1.40it/s]06)\u001b[0m \n",
      "Val Epoch:3: 44it [00:22,  1.58it/s]06)\u001b[0m \n",
      "Val Epoch:3: 45it [00:22,  2.04it/s]06)\u001b[0m \n",
      "Val Epoch:3: 46it [00:23,  2.57it/s]06)\u001b[0m \n",
      "Val Epoch:3: 47it [00:23,  3.05it/s]06)\u001b[0m \n",
      "Val Epoch:3: 48it [00:23,  3.12it/s]06)\u001b[0m \n",
      "Val Epoch:3: 49it [00:26,  1.05it/s]06)\u001b[0m \n",
      "Val Epoch:3: 50it [00:26,  1.38it/s]06)\u001b[0m \n",
      "Val Epoch:3: 51it [00:26,  1.36it/s]06)\u001b[0m \n",
      "Val Epoch:3: 52it [00:27,  1.70it/s]06)\u001b[0m \n",
      "Val Epoch:3: 53it [00:27,  2.15it/s]06)\u001b[0m \n",
      "Val Epoch:3: 54it [00:27,  2.69it/s]06)\u001b[0m \n",
      "Val Epoch:3: 55it [00:27,  3.25it/s]06)\u001b[0m \n",
      "Val Epoch:3: 56it [00:28,  2.86it/s]06)\u001b[0m \n"
     ]
    },
    {
     "name": "stdout",
     "output_type": "stream",
     "text": [
      "\u001b[36m(tune_with_parameters pid=3287704)\u001b[0m loss: 0.658\u001b[32m [repeated 2x across cluster]\u001b[0m\n"
     ]
    },
    {
     "name": "stderr",
     "output_type": "stream",
     "text": [
      "Val Epoch:3: 57it [00:30,  1.23it/s]06)\u001b[0m \n",
      "Val Epoch:3: 59it [00:31,  1.31it/s]06)\u001b[0m \n",
      "Val Epoch:3: 60it [00:31,  1.62it/s]06)\u001b[0m \n",
      "Val Epoch:3: 62it [00:31,  2.34it/s]06)\u001b[0m \n",
      "Val Epoch:3: 63it [00:32,  2.63it/s]06)\u001b[0m \n",
      "Val Epoch:3: 64it [00:32,  2.62it/s]06)\u001b[0m \n",
      "Val Epoch:3: 65it [00:34,  1.25it/s]06)\u001b[0m \n",
      "Val Epoch:3: 67it [00:35,  1.68it/s]06)\u001b[0m \n",
      "Val Epoch:3: 68it [00:35,  2.07it/s]06)\u001b[0m \n",
      "Val Epoch:3: 69it [00:35,  2.39it/s]06)\u001b[0m \n",
      "Val Epoch:3: 70it [00:35,  2.65it/s]06)\u001b[0m \n",
      "Val Epoch:3: 71it [00:36,  2.99it/s]06)\u001b[0m \n",
      "Val Epoch:3: 72it [00:36,  2.61it/s]06)\u001b[0m \n",
      "Val Epoch:3: 73it [00:37,  1.56it/s]06)\u001b[0m \n",
      "Val Epoch:3: 76it [00:37,  3.24it/s]06)\u001b[0m \n",
      "Val Epoch:3: 78it [00:38,  3.32it/s]06)\u001b[0m \n",
      "Val Epoch:3: 81it [00:40,  2.49it/s]06)\u001b[0m \n",
      "Val Epoch:3: 82it [00:40,  2.72it/s]06)\u001b[0m \n",
      "Val Epoch:3: 83it [00:40,  3.02it/s]06)\u001b[0m \n",
      "Val Epoch:3: 85it [00:40,  4.09it/s]06)\u001b[0m \n",
      "Val Epoch:3: 86it [00:40,  4.49it/s]06)\u001b[0m \n",
      "Val Epoch:3: 87it [00:40,  4.89it/s]06)\u001b[0m \n",
      "Val Epoch:3: 88it [00:41,  4.99it/s]06)\u001b[0m \n",
      "Val Epoch:3: 89it [00:44,  1.06it/s]06)\u001b[0m \n",
      "Val Epoch:3: 90it [00:44,  1.36it/s]06)\u001b[0m \n",
      "Val Epoch:3: 91it [00:44,  1.73it/s]06)\u001b[0m \n",
      "Val Epoch:3: 93it [00:44,  2.75it/s]06)\u001b[0m \n",
      "Val Epoch:3: 94it [00:45,  2.76it/s]06)\u001b[0m \n",
      "Val Epoch:3: 95it [00:45,  3.05it/s]06)\u001b[0m \n",
      "Val Epoch:3: 96it [00:45,  3.47it/s]06)\u001b[0m \n",
      "Val Epoch:3: 97it [00:47,  1.13it/s]06)\u001b[0m \n",
      "Val Epoch:3: 99it [00:48,  1.89it/s]06)\u001b[0m \n",
      "Val Epoch:3: 100it [00:48,  2.20it/s]6)\u001b[0m \n",
      "Val Epoch:3: 101it [00:48,  2.65it/s]6)\u001b[0m \n",
      "Val Epoch:3: 102it [00:48,  2.91it/s]6)\u001b[0m \n",
      "Val Epoch:3: 103it [00:48,  3.31it/s]6)\u001b[0m \n",
      "Val Epoch:3: 105it [00:51,  1.41it/s]6)\u001b[0m \n",
      "Val Epoch:3: 106it [00:51,  1.76it/s]6)\u001b[0m \n",
      "Val Epoch:3: 107it [00:51,  2.16it/s]6)\u001b[0m \n",
      "Val Epoch:3: 108it [00:51,  2.67it/s]6)\u001b[0m \n",
      "Val Epoch:3: 110it [00:51,  4.17it/s]6)\u001b[0m \n",
      "Val Epoch:3: 110it [00:53,  2.05it/s]6)\u001b[0m \n"
     ]
    },
    {
     "name": "stdout",
     "output_type": "stream",
     "text": [
      "\u001b[36m(tune_with_parameters pid=3287705)\u001b[0m loss: 0.644\n",
      "\u001b[36m(tune_with_parameters pid=3287706)\u001b[0m loss: 0.649\n",
      "\u001b[36m(tune_with_parameters pid=3287703)\u001b[0m loss: 0.656\n",
      "\u001b[36m(tune_with_parameters pid=3287704)\u001b[0m loss: 0.657\n",
      "\u001b[36m(tune_with_parameters pid=3287706)\u001b[0m loss: 0.658\n",
      "\u001b[36m(tune_with_parameters pid=3287705)\u001b[0m loss: 0.643\n",
      "\u001b[36m(tune_with_parameters pid=3287703)\u001b[0m loss: 0.656\n",
      "\u001b[36m(tune_with_parameters pid=3287706)\u001b[0m loss: 0.657\n"
     ]
    },
    {
     "name": "stderr",
     "output_type": "stream",
     "text": [
      "Val Epoch:3: 0it [00:00, ?it/s]3287703)\u001b[0m \n"
     ]
    },
    {
     "name": "stdout",
     "output_type": "stream",
     "text": [
      "\u001b[36m(tune_with_parameters pid=3287704)\u001b[0m loss: 0.657\n"
     ]
    },
    {
     "name": "stderr",
     "output_type": "stream",
     "text": [
      "Val Epoch:3: 1it [00:06,  6.77s/it]703)\u001b[0m \n",
      "Val Epoch:3: 2it [00:06,  2.90s/it]703)\u001b[0m \n",
      "Val Epoch:3: 3it [00:07,  1.68s/it]703)\u001b[0m \n",
      "Val Epoch:3: 5it [00:07,  1.18it/s]703)\u001b[0m \n",
      "Val Epoch:3: 6it [00:07,  1.52it/s]703)\u001b[0m \n",
      "Val Epoch:3: 7it [00:08,  1.80it/s]703)\u001b[0m \n",
      "Val Epoch:3: 9it [00:12,  1.32s/it]703)\u001b[0m \n",
      "Val Epoch:3: 10it [00:12,  1.06s/it]03)\u001b[0m \n",
      "Val Epoch:3: 11it [00:13,  1.20it/s]03)\u001b[0m \n",
      "Val Epoch:3: 12it [00:13,  1.52it/s]03)\u001b[0m \n",
      "Val Epoch:3: 13it [00:13,  1.94it/s]03)\u001b[0m \n",
      "Val Epoch:3: 14it [00:13,  2.37it/s]03)\u001b[0m \n",
      "Val Epoch:3: 15it [00:13,  2.74it/s]03)\u001b[0m \n",
      "Val Epoch:3: 17it [00:15,  1.43it/s]03)\u001b[0m \n",
      "Val Epoch:3: 18it [00:16,  1.77it/s]03)\u001b[0m \n",
      "Val Epoch:3: 19it [00:16,  2.20it/s]03)\u001b[0m \n",
      "Val Epoch:3: 21it [00:16,  3.40it/s]03)\u001b[0m \n",
      "Val Epoch:3: 24it [00:16,  4.57it/s]03)\u001b[0m \n",
      "Val Epoch:3: 25it [00:17,  4.49it/s]03)\u001b[0m \n",
      "Val Epoch:3: 26it [00:19,  1.29it/s]03)\u001b[0m \n",
      "Val Epoch:3: 27it [00:20,  1.48it/s]03)\u001b[0m \n",
      "Val Epoch:3: 29it [00:20,  2.16it/s]03)\u001b[0m \n",
      "Val Epoch:3: 30it [00:20,  2.49it/s]03)\u001b[0m \n",
      "Val Epoch:3: 32it [00:20,  3.39it/s]03)\u001b[0m \n",
      "Val Epoch:3: 33it [00:21,  2.77it/s]03)\u001b[0m \n",
      "Val Epoch:3: 34it [00:23,  1.46it/s]03)\u001b[0m \n",
      "Val Epoch:3: 35it [00:23,  1.65it/s]03)\u001b[0m \n",
      "Val Epoch:3: 36it [00:23,  1.98it/s]03)\u001b[0m \n",
      "Val Epoch:3: 37it [00:24,  2.24it/s]03)\u001b[0m \n",
      "Val Epoch:3: 38it [00:24,  2.54it/s]03)\u001b[0m \n",
      "Val Epoch:3: 39it [00:24,  2.92it/s]03)\u001b[0m \n",
      "Val Epoch:3: 40it [00:25,  2.90it/s]03)\u001b[0m \n",
      "Val Epoch:3: 41it [00:26,  1.83it/s]03)\u001b[0m \n",
      "Val Epoch:3: 42it [00:26,  1.78it/s]03)\u001b[0m \n",
      "Val Epoch:3: 43it [00:28,  1.06it/s]03)\u001b[0m \n",
      "Val Epoch:3: 45it [00:28,  1.68it/s]03)\u001b[0m \n",
      "Val Epoch:3: 46it [00:29,  2.04it/s]03)\u001b[0m \n",
      "Val Epoch:3: 48it [00:29,  2.96it/s]03)\u001b[0m \n",
      "Val Epoch:3: 49it [00:33,  1.12s/it]03)\u001b[0m \n",
      "Val Epoch:3: 51it [00:33,  1.29it/s]03)\u001b[0m \n",
      "Val Epoch:3: 52it [00:33,  1.54it/s]03)\u001b[0m \n",
      "Val Epoch:3: 53it [00:34,  1.75it/s]03)\u001b[0m \n",
      "Val Epoch:3: 55it [00:34,  2.69it/s]03)\u001b[0m \n",
      "Val Epoch:3: 56it [00:34,  2.49it/s]03)\u001b[0m \n"
     ]
    },
    {
     "name": "stdout",
     "output_type": "stream",
     "text": [
      "\u001b[36m(tune_with_parameters pid=3287705)\u001b[0m loss: 0.641\n"
     ]
    },
    {
     "name": "stderr",
     "output_type": "stream",
     "text": [
      "Val Epoch:3: 57it [00:38,  1.19s/it]03)\u001b[0m \n",
      "Val Epoch:3: 58it [00:38,  1.11it/s]03)\u001b[0m \n",
      "Val Epoch:3: 59it [00:38,  1.28it/s]03)\u001b[0m \n",
      "Val Epoch:3: 61it [00:38,  2.17it/s]03)\u001b[0m \n",
      "Val Epoch:3: 62it [00:39,  2.16it/s]03)\u001b[0m \n",
      "Val Epoch:3: 63it [00:39,  2.60it/s]03)\u001b[0m \n",
      "Val Epoch:3: 64it [00:40,  2.22it/s]03)\u001b[0m \n",
      "Val Epoch:3: 65it [00:43,  1.16s/it]03)\u001b[0m \n",
      "Val Epoch:3: 66it [00:43,  1.11it/s]03)\u001b[0m \n",
      "Val Epoch:3: 67it [00:43,  1.48it/s]03)\u001b[0m \n",
      "Val Epoch:3: 68it [00:43,  1.70it/s]03)\u001b[0m \n",
      "Val Epoch:3: 69it [00:44,  2.10it/s]03)\u001b[0m \n",
      "Val Epoch:3: 70it [00:44,  2.07it/s]03)\u001b[0m \n",
      "Val Epoch:3: 71it [00:44,  2.53it/s]03)\u001b[0m \n",
      "Val Epoch:3: 72it [00:45,  2.37it/s]03)\u001b[0m \n",
      "Val Epoch:3: 73it [00:49,  1.47s/it]03)\u001b[0m \n",
      "Val Epoch:3: 76it [00:49,  1.48it/s]03)\u001b[0m \n",
      "Val Epoch:3: 78it [00:50,  1.65it/s]03)\u001b[0m \n",
      "Val Epoch:3: 80it [00:50,  2.23it/s]03)\u001b[0m \n",
      "Val Epoch:3: 81it [00:53,  1.09it/s]03)\u001b[0m \n",
      "Val Epoch:3: 82it [00:53,  1.31it/s]03)\u001b[0m \n",
      "Val Epoch:3: 84it [00:54,  1.90it/s]03)\u001b[0m \n",
      "Val Epoch:3: 85it [00:54,  2.29it/s]03)\u001b[0m \n",
      "Val Epoch:3: 86it [00:54,  2.74it/s]03)\u001b[0m \n",
      "Val Epoch:3: 87it [00:54,  3.37it/s]03)\u001b[0m \n",
      "Val Epoch:3: 88it [00:54,  3.98it/s]03)\u001b[0m \n",
      "Val Epoch:3: 89it [00:59,  1.59s/it]03)\u001b[0m \n",
      "Val Epoch:3: 90it [01:00,  1.27s/it]03)\u001b[0m \n",
      "Val Epoch:3: 91it [01:00,  1.06it/s]03)\u001b[0m \n",
      "Val Epoch:3: 92it [01:00,  1.42it/s]03)\u001b[0m \n",
      "Val Epoch:3: 93it [01:00,  1.87it/s]03)\u001b[0m \n",
      "Val Epoch:3: 94it [01:00,  2.13it/s]03)\u001b[0m \n",
      "Val Epoch:3: 95it [01:00,  2.61it/s]03)\u001b[0m \n",
      "Val Epoch:3: 96it [01:01,  3.18it/s]03)\u001b[0m \n",
      "Val Epoch:3: 0it [00:00, ?it/s]3287704)\u001b[0m \n",
      "Val Epoch:3: 97it [01:05,  1.64s/it]03)\u001b[0m \n",
      "Val Epoch:3: 98it [01:06,  1.23s/it]03)\u001b[0m \n",
      "Val Epoch:3: 99it [01:06,  1.07it/s]03)\u001b[0m \n",
      "Val Epoch:3: 100it [01:06,  1.43it/s]3)\u001b[0m \n",
      "Val Epoch:3: 101it [01:06,  1.81it/s]3)\u001b[0m \n",
      "Val Epoch:3: 103it [01:06,  2.92it/s]3)\u001b[0m \n",
      "Val Epoch:3: 104it [01:07,  3.25it/s]3)\u001b[0m \n",
      "Val Epoch:3: 106it [01:11,  1.07it/s]3)\u001b[0m \n",
      "Val Epoch:3: 108it [01:11,  1.76it/s]\u001b[32m [repeated 2x across cluster]\u001b[0m\n",
      "Val Epoch:3: 13it [00:10,  2.06it/s]\u001b[32m [repeated 13x across cluster]\u001b[0m\n",
      "Val Epoch:3: 22it [00:15,  2.08it/s]\u001b[32m [repeated 6x across cluster]\u001b[0m\n",
      "Val Epoch:3: 31it [00:20,  2.39it/s]\u001b[32m [repeated 6x across cluster]\u001b[0m\n"
     ]
    },
    {
     "name": "stdout",
     "output_type": "stream",
     "text": [
      "\u001b[36m(tune_with_parameters pid=3287703)\u001b[0m loss: 0.654\n"
     ]
    },
    {
     "name": "stderr",
     "output_type": "stream",
     "text": [
      "Val Epoch:3: 39it [00:25,  2.32it/s]\u001b[32m [repeated 8x across cluster]\u001b[0m\n"
     ]
    },
    {
     "name": "stdout",
     "output_type": "stream",
     "text": [
      "\u001b[36m(tune_with_parameters pid=3287706)\u001b[0m loss: 0.657\n"
     ]
    },
    {
     "name": "stderr",
     "output_type": "stream",
     "text": [
      "Val Epoch:3: 47it [00:31,  2.11it/s]\u001b[32m [repeated 7x across cluster]\u001b[0m\n",
      "Val Epoch:3: 55it [00:36,  2.39it/s]\u001b[32m [repeated 8x across cluster]\u001b[0m\n",
      "Val Epoch:3: 66it [00:42,  1.74it/s]\u001b[32m [repeated 7x across cluster]\u001b[0m\n",
      "Val Epoch:3: 74it [00:47,  1.23s/it]\u001b[32m [repeated 7x across cluster]\u001b[0m\n",
      "Val Epoch:3: 82it [00:53,  1.23s/it]\u001b[32m [repeated 6x across cluster]\u001b[0m\n",
      "Val Epoch:3: 91it [00:58,  1.07it/s]\u001b[32m [repeated 8x across cluster]\u001b[0m\n",
      "Val Epoch:3: 99it [01:03,  1.11it/s]\u001b[32m [repeated 7x across cluster]\u001b[0m\n",
      "Val Epoch:3: 109it [01:09,  1.53it/s]\u001b[32m [repeated 9x across cluster]\u001b[0m\n"
     ]
    },
    {
     "name": "stdout",
     "output_type": "stream",
     "text": [
      "\u001b[36m(tune_with_parameters pid=3287704)\u001b[0m loss: 0.674\n",
      "\u001b[36m(tune_with_parameters pid=3287705)\u001b[0m loss: 0.639\n",
      "\u001b[36m(tune_with_parameters pid=3287706)\u001b[0m loss: 0.657\n",
      "\u001b[36m(tune_with_parameters pid=3287703)\u001b[0m loss: 0.657\n"
     ]
    },
    {
     "name": "stderr",
     "output_type": "stream",
     "text": [
      "Val Epoch:3: 0it [00:00, ?it/s]3287705)\u001b[0m \n",
      "Val Epoch:3: 110it [01:09,  1.58it/s]4)\u001b[0m \n",
      "Val Epoch:3: 1it [00:04,  4.12s/it]705)\u001b[0m \n",
      "Val Epoch:3: 4it [00:04,  1.18it/s]705)\u001b[0m \n",
      "Val Epoch:3: 5it [00:04,  1.51it/s]705)\u001b[0m \n",
      "Val Epoch:3: 7it [00:04,  2.51it/s]705)\u001b[0m \n",
      "Val Epoch:3: 9it [00:09,  1.14s/it]705)\u001b[0m \n",
      "Val Epoch:3: 10it [00:09,  1.02it/s]05)\u001b[0m \n",
      "Val Epoch:3: 11it [00:09,  1.27it/s]05)\u001b[0m \n",
      "Val Epoch:3: 13it [00:10,  1.88it/s]05)\u001b[0m \n",
      "Val Epoch:3: 14it [00:10,  2.18it/s]05)\u001b[0m \n",
      "Val Epoch:3: 15it [00:10,  2.17it/s]05)\u001b[0m \n",
      "Val Epoch:3: 16it [00:11,  2.54it/s]05)\u001b[0m \n",
      "Val Epoch:3: 17it [00:13,  1.02it/s]05)\u001b[0m \n",
      "Val Epoch:3: 18it [00:13,  1.34it/s]05)\u001b[0m \n",
      "Val Epoch:4: 0it [00:00, ?it/s]3287706)\u001b[0m \n",
      "Val Epoch:3: 19it [00:14,  1.18it/s]05)\u001b[0m \n",
      "Val Epoch:3: 21it [00:15,  1.78it/s]05)\u001b[0m \n",
      "Val Epoch:3: 22it [00:15,  1.86it/s]05)\u001b[0m \n",
      "Val Epoch:3: 23it [00:15,  2.30it/s]05)\u001b[0m \n",
      "Val Epoch:3: 25it [00:17,  1.71it/s]05)\u001b[0m \n",
      "Val Epoch:3: 26it [00:17,  2.09it/s]05)\u001b[0m \n",
      "Val Epoch:3: 27it [00:20,  1.11s/it]05)\u001b[0m \n",
      "Val Epoch:4: 1it [00:05,  5.87s/it]706)\u001b[0m \n",
      "Val Epoch:4: 2it [00:05,  2.49s/it]706)\u001b[0m \n",
      "Val Epoch:3: 36it [00:25,  1.17it/s]\u001b[32m [repeated 14x across cluster]\u001b[0m\n",
      "Val Epoch:3: 45it [00:30,  1.47it/s]\u001b[32m [repeated 20x across cluster]\u001b[0m\n",
      "Val Epoch:4: 39it [00:21,  4.09it/s]\u001b[32m [repeated 20x across cluster]\u001b[0m\n",
      "Val Epoch:3: 67it [00:41,  1.12it/s]\u001b[32m [repeated 16x across cluster]\u001b[0m\n",
      "Val Epoch:4: 60it [00:31,  1.81it/s]\u001b[32m [repeated 16x across cluster]\u001b[0m\n",
      "Val Epoch:4: 69it [00:36,  1.49it/s]\u001b[32m [repeated 17x across cluster]\u001b[0m\n",
      "Val Epoch:3: 91it [00:57,  1.24s/it]\u001b[32m [repeated 18x across cluster]\u001b[0m\n"
     ]
    },
    {
     "name": "stdout",
     "output_type": "stream",
     "text": [
      "\u001b[36m(tune_with_parameters pid=3287704)\u001b[0m loss: 0.656\n"
     ]
    },
    {
     "name": "stderr",
     "output_type": "stream",
     "text": [
      "Val Epoch:4: 92it [00:47,  1.70it/s]\u001b[32m [repeated 14x across cluster]\u001b[0m\n"
     ]
    },
    {
     "name": "stdout",
     "output_type": "stream",
     "text": [
      "\u001b[36m(tune_with_parameters pid=3287706)\u001b[0m loss: 0.637\n",
      "\u001b[36m(tune_with_parameters pid=3287703)\u001b[0m loss: 0.656\u001b[32m [repeated 2x across cluster]\u001b[0m\n",
      "\u001b[36m(tune_with_parameters pid=3287705)\u001b[0m loss: 0.633\n",
      "\u001b[36m(tune_with_parameters pid=3287704)\u001b[0m loss: 0.657\n",
      "\u001b[36m(tune_with_parameters pid=3287703)\u001b[0m loss: 0.657\u001b[32m [repeated 2x across cluster]\u001b[0m\n",
      "\u001b[36m(tune_with_parameters pid=3287705)\u001b[0m loss: 0.630\n",
      "\u001b[36m(tune_with_parameters pid=3287706)\u001b[0m loss: 0.658\n",
      "\u001b[36m(tune_with_parameters pid=3287704)\u001b[0m loss: 0.657\n",
      "\u001b[36m(tune_with_parameters pid=3287703)\u001b[0m loss: 0.657\n",
      "\u001b[36m(tune_with_parameters pid=3287705)\u001b[0m loss: 0.627\n",
      "\u001b[36m(tune_with_parameters pid=3287706)\u001b[0m loss: 0.657\n"
     ]
    },
    {
     "name": "stderr",
     "output_type": "stream",
     "text": [
      "Val Epoch:4: 0it [00:00, ?it/s]3287703)\u001b[0m \n",
      "Val Epoch:4: 110it [00:52,  2.09it/s]\u001b[32m [repeated 20x across cluster]\u001b[0m\n",
      "Val Epoch:4: 3it [00:05,  1.21s/it]\u001b[32m [repeated 3x across cluster]\u001b[0m\n",
      "Val Epoch:4: 11it [00:10,  1.32it/s]\u001b[32m [repeated 7x across cluster]\u001b[0m\n"
     ]
    },
    {
     "name": "stdout",
     "output_type": "stream",
     "text": [
      "\u001b[36m(tune_with_parameters pid=3287704)\u001b[0m loss: 0.657\n"
     ]
    },
    {
     "name": "stderr",
     "output_type": "stream",
     "text": [
      "Val Epoch:4: 21it [00:15,  2.03it/s]\u001b[32m [repeated 9x across cluster]\u001b[0m\n",
      "Val Epoch:4: 26it [00:20,  1.01s/it]\u001b[32m [repeated 4x across cluster]\u001b[0m\n",
      "Val Epoch:4: 34it [00:25,  1.09it/s]\u001b[32m [repeated 6x across cluster]\u001b[0m\n",
      "Val Epoch:4: 41it [00:31,  1.50s/it]\u001b[32m [repeated 6x across cluster]\u001b[0m\n",
      "Val Epoch:4: 57it [00:38,  1.20s/it]\u001b[32m [repeated 11x across cluster]\u001b[0m\n",
      "Val Epoch:4: 65it [00:44,  1.38s/it]\u001b[32m [repeated 5x across cluster]\u001b[0m\n"
     ]
    },
    {
     "name": "stdout",
     "output_type": "stream",
     "text": [
      "\u001b[36m(tune_with_parameters pid=3287705)\u001b[0m loss: 0.622\n"
     ]
    },
    {
     "name": "stderr",
     "output_type": "stream",
     "text": [
      "Val Epoch:4: 73it [00:50,  1.16s/it]\u001b[32m [repeated 7x across cluster]\u001b[0m\n",
      "Val Epoch:4: 81it [00:55,  1.05s/it]\u001b[32m [repeated 6x across cluster]\u001b[0m\n"
     ]
    },
    {
     "name": "stdout",
     "output_type": "stream",
     "text": [
      "\u001b[36m(tune_with_parameters pid=3287706)\u001b[0m loss: 0.657\n"
     ]
    },
    {
     "name": "stderr",
     "output_type": "stream",
     "text": [
      "Val Epoch:4: 89it [01:01,  1.55s/it]\u001b[32m [repeated 8x across cluster]\u001b[0m\n",
      "Val Epoch:4: 105it [01:07,  1.28it/s]\u001b[32m [repeated 10x across cluster]\u001b[0m\n",
      "Val Epoch:4: 0it [00:00, ?it/s]3287704)\u001b[0m \n",
      "Val Epoch:4: 110it [01:10,  1.56it/s]\u001b[32m [repeated 3x across cluster]\u001b[0m\n",
      "Val Epoch:4: 1it [00:06,  6.57s/it]704)\u001b[0m \n",
      "Val Epoch:4: 2it [00:07,  3.13s/it]704)\u001b[0m \n",
      "Val Epoch:4: 3it [00:08,  2.08s/it]704)\u001b[0m \n",
      "Val Epoch:4: 4it [00:08,  1.40s/it]704)\u001b[0m \n",
      "Val Epoch:4: 6it [00:09,  1.04it/s]704)\u001b[0m \n",
      "Val Epoch:4: 7it [00:09,  1.32it/s]704)\u001b[0m \n",
      "Val Epoch:4: 8it [00:10,  1.51it/s]704)\u001b[0m \n"
     ]
    },
    {
     "name": "stdout",
     "output_type": "stream",
     "text": [
      "\u001b[36m(tune_with_parameters pid=3287703)\u001b[0m loss: 0.649\n"
     ]
    },
    {
     "name": "stderr",
     "output_type": "stream",
     "text": [
      "Val Epoch:4: 9it [00:11,  1.25it/s]704)\u001b[0m \n",
      "Val Epoch:4: 10it [00:11,  1.42it/s]04)\u001b[0m \n",
      "Val Epoch:4: 11it [00:12,  1.51it/s]04)\u001b[0m \n",
      "Val Epoch:4: 13it [00:12,  2.58it/s]04)\u001b[0m \n",
      "Val Epoch:4: 15it [00:12,  3.59it/s]04)\u001b[0m \n",
      "Val Epoch:4: 17it [00:13,  2.72it/s]04)\u001b[0m \n",
      "Val Epoch:4: 19it [00:13,  3.76it/s]04)\u001b[0m \n",
      "Val Epoch:4: 21it [00:14,  4.30it/s]04)\u001b[0m \n",
      "Val Epoch:4: 22it [00:14,  3.75it/s]04)\u001b[0m \n",
      "Val Epoch:4: 24it [00:14,  4.91it/s]04)\u001b[0m \n",
      "Val Epoch:4: 25it [00:17,  1.30it/s]04)\u001b[0m \n",
      "Val Epoch:4: 26it [00:18,  1.39it/s]04)\u001b[0m \n",
      "Val Epoch:4: 27it [00:18,  1.54it/s]04)\u001b[0m \n",
      "Val Epoch:4: 29it [00:19,  1.96it/s]04)\u001b[0m \n",
      "Val Epoch:4: 30it [00:21,  1.24it/s]04)\u001b[0m \n",
      "Val Epoch:4: 31it [00:21,  1.55it/s]04)\u001b[0m \n",
      "Val Epoch:4: 32it [00:21,  1.96it/s]04)\u001b[0m \n",
      "Val Epoch:4: 0it [00:00, ?it/s]3287705)\u001b[0m \n",
      "Val Epoch:4: 33it [00:24,  1.16s/it]04)\u001b[0m \n",
      "Val Epoch:4: 34it [00:25,  1.17s/it]04)\u001b[0m \n",
      "Val Epoch:4: 35it [00:26,  1.01it/s]04)\u001b[0m \n",
      "Val Epoch:4: 36it [00:26,  1.21it/s]04)\u001b[0m \n",
      "Val Epoch:4: 37it [00:26,  1.55it/s]04)\u001b[0m \n",
      "Val Epoch:4: 38it [00:27,  1.57it/s]04)\u001b[0m \n",
      "Val Epoch:4: 40it [00:28,  1.95it/s]04)\u001b[0m \n",
      "Val Epoch:4: 41it [00:30,  1.06s/it]04)\u001b[0m \n",
      "Val Epoch:5: 0it [00:00, ?it/s]3287706)\u001b[0m \n",
      "Val Epoch:4: 1it [00:07,  7.20s/it]705)\u001b[0m \n",
      "Val Epoch:4: 49it [00:36,  1.08s/it]\u001b[32m [repeated 22x across cluster]\u001b[0m\n",
      "Val Epoch:4: 18it [00:17,  2.14it/s]\u001b[32m [repeated 21x across cluster]\u001b[0m\n",
      "Val Epoch:5: 18it [00:14,  1.54it/s]06)\u001b[0m \n",
      "Val Epoch:4: 39it [00:23,  3.39it/s]\u001b[32m [repeated 34x across cluster]\u001b[0m\n",
      "Val Epoch:5: 44it [00:24,  2.06it/s]\u001b[32m [repeated 23x across cluster]\u001b[0m\n",
      "Val Epoch:5: 52it [00:29,  1.31it/s]\u001b[32m [repeated 22x across cluster]\u001b[0m\n",
      "Val Epoch:4: 67it [00:38,  1.22it/s]\u001b[32m [repeated 24x across cluster]\u001b[0m\n",
      "Val Epoch:5: 73it [00:40,  1.47it/s]\u001b[32m [repeated 25x across cluster]\u001b[0m\n",
      "Val Epoch:5: 84it [00:45,  2.19it/s]\u001b[32m [repeated 29x across cluster]\u001b[0m\n",
      "Val Epoch:4: 110it [00:54,  2.02it/s]\u001b[32m [repeated 23x across cluster]\u001b[0m\n",
      "Val Epoch:5: 110it [00:57,  1.92it/s]\u001b[32m [repeated 6x across cluster]\u001b[0m\n"
     ]
    },
    {
     "name": "stdout",
     "output_type": "stream",
     "text": [
      "\u001b[36m(tune_with_parameters pid=3287704)\u001b[0m loss: 0.661\n",
      "\u001b[36m(tune_with_parameters pid=3287705)\u001b[0m loss: 0.604\n",
      "\u001b[36m(tune_with_parameters pid=3287703)\u001b[0m loss: 0.657\u001b[32m [repeated 2x across cluster]\u001b[0m\n",
      "\u001b[36m(tune_with_parameters pid=3287705)\u001b[0m loss: 0.590\n",
      "\u001b[36m(tune_with_parameters pid=3287706)\u001b[0m loss: 0.656\n",
      "\u001b[36m(tune_with_parameters pid=3287704)\u001b[0m loss: 0.657\n",
      "\u001b[36m(tune_with_parameters pid=3287703)\u001b[0m loss: 0.657\n",
      "\u001b[36m(tune_with_parameters pid=3287705)\u001b[0m loss: 0.583\n",
      "\u001b[36m(tune_with_parameters pid=3287706)\u001b[0m loss: 0.657\n",
      "\u001b[36m(tune_with_parameters pid=3287704)\u001b[0m loss: 0.657\n",
      "\u001b[36m(tune_with_parameters pid=3287705)\u001b[0m loss: 0.579\n",
      "\u001b[36m(tune_with_parameters pid=3287703)\u001b[0m loss: 0.656\n",
      "\u001b[36m(tune_with_parameters pid=3287706)\u001b[0m loss: 0.657\n",
      "\u001b[36m(tune_with_parameters pid=3287704)\u001b[0m loss: 0.657\n",
      "\u001b[36m(tune_with_parameters pid=3287705)\u001b[0m loss: 0.573\n",
      "\u001b[36m(tune_with_parameters pid=3287706)\u001b[0m loss: 0.657\n",
      "\u001b[36m(tune_with_parameters pid=3287703)\u001b[0m loss: 0.656\n"
     ]
    },
    {
     "name": "stderr",
     "output_type": "stream",
     "text": [
      "Val Epoch:5: 0it [00:00, ?it/s]3287705)\u001b[0m \n",
      "Val Epoch:5: 1it [00:01,  1.75s/it]705)\u001b[0m \n",
      "Val Epoch:5: 2it [00:02,  1.05it/s]705)\u001b[0m \n",
      "Val Epoch:5: 3it [00:02,  1.76it/s]705)\u001b[0m \n",
      "Val Epoch:5: 4it [00:02,  2.24it/s]705)\u001b[0m \n",
      "Val Epoch:5: 6it [00:02,  3.84it/s]705)\u001b[0m \n",
      "Val Epoch:5: 8it [00:02,  5.82it/s]705)\u001b[0m \n",
      "Val Epoch:5: 10it [00:04,  2.46it/s]05)\u001b[0m \n",
      "Val Epoch:5: 13it [00:04,  3.73it/s]05)\u001b[0m \n",
      "Val Epoch:5: 15it [00:04,  4.55it/s]05)\u001b[0m \n",
      "Val Epoch:5: 16it [00:05,  4.67it/s]05)\u001b[0m \n",
      "Val Epoch:5: 17it [00:05,  4.67it/s]05)\u001b[0m \n",
      "Val Epoch:5: 18it [00:06,  2.28it/s]05)\u001b[0m \n",
      "Val Epoch:5: 20it [00:06,  3.26it/s]05)\u001b[0m \n",
      "Val Epoch:5: 21it [00:06,  3.45it/s]05)\u001b[0m \n",
      "Val Epoch:5: 23it [00:07,  4.90it/s]05)\u001b[0m \n",
      "Val Epoch:5: 25it [00:07,  4.85it/s]05)\u001b[0m \n",
      "Val Epoch:6: 0it [00:00, ?it/s]3287706)\u001b[0m \n",
      "Val Epoch:5: 26it [00:09,  1.93it/s]05)\u001b[0m \n",
      "Val Epoch:5: 28it [00:09,  2.76it/s]05)\u001b[0m \n",
      "Val Epoch:5: 30it [00:09,  3.78it/s]05)\u001b[0m \n",
      "Val Epoch:5: 31it [00:09,  4.21it/s]05)\u001b[0m \n",
      "Val Epoch:6: 9it [00:03,  3.11it/s]\u001b[32m [repeated 9x across cluster]\u001b[0m\n",
      "Val Epoch:6: 42it [00:08,  8.14it/s]\u001b[32m [repeated 28x across cluster]\u001b[0m\n",
      "Val Epoch:6: 66it [00:14,  3.01it/s]\u001b[32m [repeated 23x across cluster]\u001b[0m\n",
      "Val Epoch:5: 0it [00:00, ?it/s]3287703)\u001b[0m \n"
     ]
    },
    {
     "name": "stdout",
     "output_type": "stream",
     "text": [
      "\u001b[36m(tune_with_parameters pid=3287704)\u001b[0m loss: 0.657\n"
     ]
    },
    {
     "name": "stderr",
     "output_type": "stream",
     "text": [
      "Val Epoch:5: 12it [00:04,  4.08it/s]\u001b[32m [repeated 32x across cluster]\u001b[0m\n",
      "Val Epoch:6: 109it [00:25,  2.48it/s]\u001b[32m [repeated 35x across cluster]\u001b[0m\n",
      "Val Epoch:5: 34it [00:18,  1.69s/it]\u001b[32m [repeated 11x across cluster]\u001b[0m\n",
      "Val Epoch:5: 42it [00:25,  1.51s/it]\u001b[32m [repeated 7x across cluster]\u001b[0m\n",
      "Val Epoch:5: 50it [00:31,  1.27s/it]\u001b[32m [repeated 8x across cluster]\u001b[0m\n"
     ]
    },
    {
     "name": "stdout",
     "output_type": "stream",
     "text": [
      "\u001b[36m(tune_with_parameters pid=3287706)\u001b[0m loss: 0.650\n"
     ]
    },
    {
     "name": "stderr",
     "output_type": "stream",
     "text": [
      "Val Epoch:5: 67it [00:38,  1.39it/s]03)\u001b[0m \n",
      "Val Epoch:5: 65it [00:35,  5.32it/s]\u001b[32m [repeated 12x across cluster]\u001b[0m\n",
      "Val Epoch:5: 75it [00:44,  1.20it/s]\u001b[32m [repeated 4x across cluster]\u001b[0m\n",
      "Val Epoch:5: 86it [00:49,  2.73it/s]03)\u001b[0m \n",
      "Val Epoch:5: 88it [00:49,  2.95it/s]\u001b[32m [repeated 9x across cluster]\u001b[0m\n",
      "Val Epoch:5: 91it [00:54,  1.21s/it]\u001b[32m [repeated 3x across cluster]\u001b[0m\n",
      "Val Epoch:5: 98it [01:00,  1.30s/it]\u001b[32m [repeated 7x across cluster]\u001b[0m\n",
      "Val Epoch:5: 0it [00:00, ?it/s]3287704)\u001b[0m \n",
      "Val Epoch:5: 110it [01:05,  1.67it/s]\u001b[32m [repeated 11x across cluster]\u001b[0m\n",
      "Val Epoch:5: 10it [00:07,  1.53it/s]\u001b[32m [repeated 8x across cluster]\u001b[0m\n",
      "Val Epoch:5: 17it [00:12,  1.08it/s]\u001b[32m [repeated 6x across cluster]\u001b[0m\n",
      "Val Epoch:5: 25it [00:18,  1.04s/it]\u001b[32m [repeated 7x across cluster]\u001b[0m\n"
     ]
    },
    {
     "name": "stdout",
     "output_type": "stream",
     "text": [
      "\u001b[36m(tune_with_parameters pid=3287703)\u001b[0m loss: 0.664\u001b[32m [repeated 2x across cluster]\u001b[0m\n"
     ]
    },
    {
     "name": "stderr",
     "output_type": "stream",
     "text": [
      "Val Epoch:5: 33it [00:24,  1.02it/s]\u001b[32m [repeated 8x across cluster]\u001b[0m\n",
      "Val Epoch:5: 41it [00:30,  1.02it/s]\u001b[32m [repeated 7x across cluster]\u001b[0m\n",
      "Val Epoch:5: 57it [00:37,  1.39it/s]\u001b[32m [repeated 9x across cluster]\u001b[0m\n",
      "Val Epoch:5: 60it [00:37,  2.14it/s]04)\u001b[0m \n",
      "Val Epoch:5: 65it [00:42,  1.09s/it]\u001b[32m [repeated 6x across cluster]\u001b[0m\n",
      "Val Epoch:5: 73it [00:48,  1.49s/it]\u001b[32m [repeated 8x across cluster]\u001b[0m\n",
      "Val Epoch:5: 81it [00:53,  1.17s/it]\u001b[32m [repeated 8x across cluster]\u001b[0m\n",
      "Val Epoch:5: 89it [00:58,  1.16s/it]\u001b[32m [repeated 8x across cluster]\u001b[0m\n"
     ]
    },
    {
     "name": "stdout",
     "output_type": "stream",
     "text": [
      "\u001b[36m(tune_with_parameters pid=3287706)\u001b[0m loss: 0.657\n",
      "\u001b[36m(tune_with_parameters pid=3287705)\u001b[0m loss: 0.548\n"
     ]
    },
    {
     "name": "stderr",
     "output_type": "stream",
     "text": [
      "Val Epoch:5: 105it [01:05,  1.37it/s]\u001b[32m [repeated 11x across cluster]\u001b[0m\n"
     ]
    },
    {
     "name": "stdout",
     "output_type": "stream",
     "text": [
      "\u001b[36m(tune_with_parameters pid=3287704)\u001b[0m loss: 0.660\n",
      "\u001b[36m(tune_with_parameters pid=3287703)\u001b[0m loss: 0.656\n",
      "\u001b[36m(tune_with_parameters pid=3287705)\u001b[0m loss: 0.552\n",
      "\u001b[36m(tune_with_parameters pid=3287706)\u001b[0m loss: 0.657\n",
      "\u001b[36m(tune_with_parameters pid=3287704)\u001b[0m loss: 0.657\n",
      "\u001b[36m(tune_with_parameters pid=3287705)\u001b[0m loss: 0.555\n",
      "\u001b[36m(tune_with_parameters pid=3287703)\u001b[0m loss: 0.656\u001b[32m [repeated 2x across cluster]\u001b[0m\n",
      "\u001b[36m(tune_with_parameters pid=3287704)\u001b[0m loss: 0.657\n",
      "\u001b[36m(tune_with_parameters pid=3287706)\u001b[0m loss: 0.657\n",
      "\u001b[36m(tune_with_parameters pid=3287703)\u001b[0m loss: 0.656\u001b[32m [repeated 2x across cluster]\u001b[0m\n"
     ]
    },
    {
     "name": "stderr",
     "output_type": "stream",
     "text": [
      "Val Epoch:7: 0it [00:00, ?it/s]3287706)\u001b[0m \n",
      "Val Epoch:5: 110it [01:08,  1.62it/s]\u001b[32m [repeated 3x across cluster]\u001b[0m\n",
      "Val Epoch:6: 0it [00:00, ?it/s]3287705)\u001b[0m \n",
      "Val Epoch:7: 1it [00:05,  5.62s/it]706)\u001b[0m \n",
      "Val Epoch:7: 3it [00:06,  1.64s/it]706)\u001b[0m \n",
      "Val Epoch:7: 4it [00:06,  1.29s/it]706)\u001b[0m \n",
      "Val Epoch:7: 5it [00:06,  1.08it/s]706)\u001b[0m \n",
      "Val Epoch:7: 6it [00:07,  1.44it/s]706)\u001b[0m \n",
      "Val Epoch:7: 7it [00:07,  1.74it/s]706)\u001b[0m \n",
      "Val Epoch:7: 9it [00:08,  2.16it/s]706)\u001b[0m \n",
      "Val Epoch:7: 10it [00:08,  1.93it/s]06)\u001b[0m \n",
      "Val Epoch:6: 7it [00:07,  1.90it/s]\u001b[32m [repeated 11x across cluster]\u001b[0m\n",
      "Val Epoch:7: 25it [00:16,  2.51it/s]\u001b[32m [repeated 17x across cluster]\u001b[0m\n",
      "Val Epoch:6: 26it [00:18,  1.67it/s]\u001b[32m [repeated 20x across cluster]\u001b[0m\n",
      "Val Epoch:6: 47it [00:23,  4.29it/s]\u001b[32m [repeated 24x across cluster]\u001b[0m\n",
      "Val Epoch:6: 57it [00:28,  2.75it/s]\u001b[32m [repeated 15x across cluster]\u001b[0m\n",
      "Val Epoch:6: 66it [00:33,  1.42it/s]\u001b[32m [repeated 18x across cluster]\u001b[0m\n",
      "Val Epoch:6: 76it [00:39,  1.56it/s]\u001b[32m [repeated 18x across cluster]\u001b[0m\n",
      "Val Epoch:6: 89it [00:44,  2.82it/s]\u001b[32m [repeated 19x across cluster]\u001b[0m\n",
      "Val Epoch:7: 92it [00:48,  1.82it/s]06)\u001b[0m \n",
      "Val Epoch:7: 98it [00:50,  1.77it/s]06)\u001b[0m \n",
      "Val Epoch:7: 105it [00:54,  2.16it/s]\u001b[32m [repeated 21x across cluster]\u001b[0m\n"
     ]
    },
    {
     "name": "stdout",
     "output_type": "stream",
     "text": [
      "\u001b[36m(tune_with_parameters pid=3287704)\u001b[0m loss: 0.657\n",
      "\u001b[36m(tune_with_parameters pid=3287705)\u001b[0m /tmp/tmp5q5npw_a/checkpoint.pt\n"
     ]
    },
    {
     "name": "stderr",
     "output_type": "stream",
     "text": [
      "\u001b[36m(tune_with_parameters pid=3287705)\u001b[0m Checkpoint successfully created at: Checkpoint(filesystem=local, path=/scratch/users/k23058970/Model training/results/NSQ vs All LSTM/tune_with_parameters_2024-07-30_18-14-50/tune_with_parameters_5bcb0_00002_2_dp=0.2000,hidden_size=100,lr=0.0046,num_layers=2_2024-07-30_18-15-47/checkpoint_000001)\n"
     ]
    },
    {
     "name": "stdout",
     "output_type": "stream",
     "text": [
      "\u001b[36m(tune_with_parameters pid=3287706)\u001b[0m loss: 0.657\n",
      "\u001b[36m(tune_with_parameters pid=3287703)\u001b[0m loss: 0.656\u001b[32m [repeated 2x across cluster]\u001b[0m\n",
      "\u001b[36m(tune_with_parameters pid=3287706)\u001b[0m loss: 0.657\n",
      "\u001b[36m(tune_with_parameters pid=3287705)\u001b[0m loss: 0.553\n"
     ]
    },
    {
     "name": "stderr",
     "output_type": "stream",
     "text": [
      "Val Epoch:6: 0it [00:00, ?it/s]3287703)\u001b[0m \n",
      "Val Epoch:6: 110it [00:53,  2.06it/s]\u001b[32m [repeated 8x across cluster]\u001b[0m\n"
     ]
    },
    {
     "name": "stdout",
     "output_type": "stream",
     "text": [
      "\u001b[36m(tune_with_parameters pid=3287704)\u001b[0m loss: 0.657\n"
     ]
    },
    {
     "name": "stderr",
     "output_type": "stream",
     "text": [
      "Val Epoch:6: 1it [00:06,  6.02s/it]703)\u001b[0m \n",
      "Val Epoch:6: 2it [00:06,  2.79s/it]703)\u001b[0m \n",
      "Val Epoch:6: 3it [00:07,  1.79s/it]703)\u001b[0m \n",
      "Val Epoch:6: 4it [00:07,  1.15s/it]703)\u001b[0m \n",
      "Val Epoch:6: 5it [00:07,  1.24it/s]703)\u001b[0m \n",
      "Val Epoch:6: 6it [00:07,  1.61it/s]703)\u001b[0m \n",
      "Val Epoch:6: 7it [00:07,  2.08it/s]703)\u001b[0m \n",
      "Val Epoch:6: 8it [00:08,  2.17it/s]703)\u001b[0m \n",
      "Val Epoch:6: 9it [00:10,  1.21it/s]703)\u001b[0m \n",
      "Val Epoch:6: 10it [00:11,  1.13s/it]03)\u001b[0m \n",
      "Val Epoch:6: 12it [00:12,  1.57it/s]03)\u001b[0m \n",
      "Val Epoch:6: 13it [00:12,  1.80it/s]03)\u001b[0m \n",
      "Val Epoch:6: 15it [00:12,  2.87it/s]03)\u001b[0m \n",
      "Val Epoch:6: 16it [00:13,  2.96it/s]03)\u001b[0m \n",
      "Val Epoch:6: 17it [00:13,  2.20it/s]03)\u001b[0m \n",
      "Val Epoch:6: 18it [00:17,  1.42s/it]03)\u001b[0m \n",
      "Val Epoch:6: 19it [00:18,  1.07s/it]03)\u001b[0m \n",
      "Val Epoch:6: 20it [00:18,  1.24it/s]03)\u001b[0m \n",
      "Val Epoch:6: 21it [00:18,  1.53it/s]03)\u001b[0m \n",
      "Val Epoch:6: 22it [00:18,  1.98it/s]03)\u001b[0m \n",
      "Val Epoch:6: 23it [00:18,  2.50it/s]03)\u001b[0m \n",
      "Val Epoch:6: 24it [00:18,  3.04it/s]03)\u001b[0m \n",
      "Val Epoch:6: 25it [00:19,  3.12it/s]03)\u001b[0m \n",
      "Val Epoch:6: 26it [00:23,  1.50s/it]03)\u001b[0m \n",
      "Val Epoch:6: 27it [00:23,  1.14s/it]03)\u001b[0m \n",
      "Val Epoch:6: 28it [00:23,  1.16it/s]03)\u001b[0m \n",
      "Val Epoch:6: 30it [00:24,  1.99it/s]03)\u001b[0m \n",
      "Val Epoch:6: 32it [00:24,  3.08it/s]03)\u001b[0m \n",
      "Val Epoch:6: 33it [00:24,  3.36it/s]03)\u001b[0m \n",
      "Val Epoch:6: 34it [00:26,  1.29it/s]03)\u001b[0m \n",
      "Val Epoch:6: 35it [00:27,  1.56it/s]03)\u001b[0m \n",
      "Val Epoch:6: 36it [00:27,  1.98it/s]03)\u001b[0m \n",
      "Val Epoch:6: 38it [00:27,  2.88it/s]03)\u001b[0m \n",
      "Val Epoch:6: 40it [00:27,  4.05it/s]03)\u001b[0m \n",
      "Val Epoch:6: 41it [00:27,  3.99it/s]03)\u001b[0m \n",
      "Val Epoch:6: 42it [00:32,  1.23s/it]03)\u001b[0m \n",
      "Val Epoch:6: 44it [00:32,  1.31it/s]03)\u001b[0m \n",
      "Val Epoch:6: 45it [00:32,  1.56it/s]03)\u001b[0m \n",
      "Val Epoch:6: 46it [00:32,  1.88it/s]03)\u001b[0m \n",
      "Val Epoch:6: 48it [00:33,  2.79it/s]03)\u001b[0m \n",
      "Val Epoch:6: 49it [00:33,  2.96it/s]03)\u001b[0m \n",
      "Val Epoch:6: 50it [00:37,  1.19s/it]03)\u001b[0m \n",
      "Val Epoch:6: 51it [00:37,  1.01it/s]03)\u001b[0m \n",
      "Val Epoch:6: 52it [00:37,  1.30it/s]03)\u001b[0m \n",
      "Val Epoch:6: 53it [00:37,  1.67it/s]03)\u001b[0m \n",
      "Val Epoch:6: 54it [00:38,  2.10it/s]03)\u001b[0m \n",
      "Val Epoch:6: 55it [00:38,  2.64it/s]03)\u001b[0m \n",
      "Val Epoch:6: 56it [00:38,  3.22it/s]03)\u001b[0m \n",
      "Val Epoch:6: 57it [00:38,  3.68it/s]03)\u001b[0m \n",
      "Val Epoch:6: 58it [00:42,  1.33s/it]03)\u001b[0m \n",
      "Val Epoch:6: 59it [00:42,  1.02s/it]03)\u001b[0m \n",
      "Val Epoch:6: 61it [00:43,  1.51it/s]03)\u001b[0m \n",
      "Val Epoch:6: 62it [00:43,  1.89it/s]03)\u001b[0m \n",
      "Val Epoch:6: 63it [00:43,  2.31it/s]03)\u001b[0m \n",
      "Val Epoch:6: 65it [00:43,  2.89it/s]03)\u001b[0m \n",
      "Val Epoch:6: 66it [00:47,  1.21s/it]03)\u001b[0m \n",
      "Val Epoch:6: 67it [00:48,  1.01s/it]03)\u001b[0m \n",
      "Val Epoch:6: 68it [00:48,  1.25it/s]03)\u001b[0m \n",
      "Val Epoch:6: 69it [00:48,  1.61it/s]03)\u001b[0m \n",
      "Val Epoch:6: 70it [00:48,  1.98it/s]03)\u001b[0m \n",
      "Val Epoch:6: 71it [00:49,  2.47it/s]03)\u001b[0m \n",
      "Val Epoch:6: 72it [00:49,  2.94it/s]03)\u001b[0m \n",
      "Val Epoch:6: 74it [00:52,  1.00s/it]03)\u001b[0m \n",
      "Val Epoch:6: 75it [00:53,  1.22it/s]03)\u001b[0m \n",
      "Val Epoch:6: 77it [00:53,  1.84it/s]03)\u001b[0m \n",
      "Val Epoch:6: 78it [00:53,  2.14it/s]03)\u001b[0m \n",
      "Val Epoch:6: 80it [00:53,  2.84it/s]03)\u001b[0m \n",
      "Val Epoch:6: 81it [00:54,  3.32it/s]03)\u001b[0m \n",
      "Val Epoch:6: 82it [00:55,  1.52it/s]03)\u001b[0m \n",
      "Val Epoch:6: 86it [00:56,  3.34it/s]03)\u001b[0m \n",
      "Val Epoch:6: 89it [00:56,  4.72it/s]03)\u001b[0m \n",
      "Val Epoch:6: 91it [01:01,  1.19it/s]03)\u001b[0m \n",
      "Val Epoch:6: 93it [01:02,  1.43it/s]03)\u001b[0m \n",
      "Val Epoch:6: 94it [01:02,  1.56it/s]03)\u001b[0m \n",
      "Val Epoch:6: 96it [01:02,  2.18it/s]03)\u001b[0m \n",
      "Val Epoch:6: 97it [01:02,  2.23it/s]03)\u001b[0m \n",
      "Val Epoch:6: 0it [00:00, ?it/s]3287704)\u001b[0m \n",
      "Val Epoch:6: 98it [01:05,  1.01it/s]03)\u001b[0m \n",
      "Val Epoch:6: 99it [01:06,  1.21it/s]03)\u001b[0m \n",
      "Val Epoch:6: 101it [01:06,  1.87it/s]3)\u001b[0m \n",
      "Val Epoch:6: 102it [01:06,  2.23it/s]3)\u001b[0m \n",
      "Val Epoch:6: 103it [01:06,  2.59it/s]3)\u001b[0m \n",
      "Val Epoch:6: 104it [01:06,  3.10it/s]3)\u001b[0m \n",
      "Val Epoch:6: 105it [01:07,  3.58it/s]3)\u001b[0m \n",
      "Val Epoch:6: 1it [00:05,  5.19s/it]704)\u001b[0m \n",
      "Val Epoch:6: 2it [00:05,  2.24s/it]704)\u001b[0m \n",
      "Val Epoch:6: 3it [00:05,  1.32s/it]704)\u001b[0m \n",
      "Val Epoch:6: 5it [00:06,  1.40it/s]704)\u001b[0m \n",
      "Val Epoch:6: 6it [00:06,  1.77it/s]704)\u001b[0m \n",
      "Val Epoch:6: 7it [00:06,  1.87it/s]704)\u001b[0m \n",
      "Val Epoch:6: 8it [00:06,  2.23it/s]704)\u001b[0m \n",
      "Val Epoch:6: 14it [00:10,  2.15it/s]\u001b[32m [repeated 10x across cluster]\u001b[0m\n",
      "Val Epoch:6: 17it [00:15,  1.58s/it]\u001b[32m [repeated 3x across cluster]\u001b[0m\n",
      "Val Epoch:6: 25it [00:21,  1.02s/it]\u001b[32m [repeated 7x across cluster]\u001b[0m\n"
     ]
    },
    {
     "name": "stdout",
     "output_type": "stream",
     "text": [
      "\u001b[36m(tune_with_parameters pid=3287705)\u001b[0m loss: 0.584\n"
     ]
    },
    {
     "name": "stderr",
     "output_type": "stream",
     "text": [
      "Val Epoch:6: 39it [00:26,  2.19it/s]\u001b[32m [repeated 8x across cluster]\u001b[0m\n",
      "Val Epoch:6: 47it [00:32,  2.25it/s]\u001b[32m [repeated 6x across cluster]\u001b[0m\n",
      "Val Epoch:6: 57it [00:39,  1.17it/s]\u001b[32m [repeated 7x across cluster]\u001b[0m\n",
      "Val Epoch:6: 65it [00:44,  1.04s/it]\u001b[32m [repeated 8x across cluster]\u001b[0m\n",
      "Val Epoch:6: 73it [00:50,  1.21s/it]\u001b[32m [repeated 7x across cluster]\u001b[0m\n",
      "Val Epoch:6: 87it [00:56,  1.71it/s]\u001b[32m [repeated 12x across cluster]\u001b[0m\n",
      "Val Epoch:6: 95it [01:01,  1.84it/s]\u001b[32m [repeated 8x across cluster]\u001b[0m\n",
      "Val Epoch:6: 105it [01:09,  1.22s/it]\u001b[32m [repeated 10x across cluster]\u001b[0m\n"
     ]
    },
    {
     "name": "stdout",
     "output_type": "stream",
     "text": [
      "\u001b[36m(tune_with_parameters pid=3287704)\u001b[0m loss: 0.665\u001b[32m [repeated 3x across cluster]\u001b[0m\n",
      "\u001b[36m(tune_with_parameters pid=3287705)\u001b[0m loss: 0.615\n",
      "\u001b[36m(tune_with_parameters pid=3287706)\u001b[0m loss: 0.657\n",
      "\u001b[36m(tune_with_parameters pid=3287703)\u001b[0m loss: 0.655\n",
      "\u001b[36m(tune_with_parameters pid=3287705)\u001b[0m loss: 0.629\n",
      "\u001b[36m(tune_with_parameters pid=3287706)\u001b[0m loss: 0.657\u001b[32m [repeated 2x across cluster]\u001b[0m\n"
     ]
    },
    {
     "name": "stderr",
     "output_type": "stream",
     "text": [
      "Val Epoch:7: 0it [00:00, ?it/s]3287705)\u001b[0m \n",
      "Val Epoch:6: 110it [01:11,  1.53it/s]\u001b[32m [repeated 5x across cluster]\u001b[0m\n",
      "Val Epoch:7: 6it [00:05,  1.54it/s]\u001b[32m [repeated 5x across cluster]\u001b[0m\n",
      "Val Epoch:8: 0it [00:00, ?it/s]3287706)\u001b[0m \n",
      "Val Epoch:7: 16it [00:08,  3.55it/s]\u001b[32m [repeated 8x across cluster]\u001b[0m\n"
     ]
    },
    {
     "name": "stdout",
     "output_type": "stream",
     "text": [
      "\u001b[36m(tune_with_parameters pid=3287703)\u001b[0m loss: 0.656\n"
     ]
    },
    {
     "name": "stderr",
     "output_type": "stream",
     "text": [
      "Val Epoch:7: 25it [00:16,  1.06it/s]\u001b[32m [repeated 8x across cluster]\u001b[0m\n",
      "Val Epoch:8: 12it [00:10,  2.26it/s]06)\u001b[0m \n",
      "Val Epoch:7: 37it [00:21,  2.05it/s]\u001b[32m [repeated 20x across cluster]\u001b[0m\n",
      "Val Epoch:8: 24it [00:15,  2.56it/s]\u001b[32m [repeated 19x across cluster]\u001b[0m\n",
      "Val Epoch:7: 58it [00:32,  1.67it/s]\u001b[32m [repeated 17x across cluster]\u001b[0m\n",
      "Val Epoch:7: 71it [00:37,  3.25it/s]\u001b[32m [repeated 18x across cluster]\u001b[0m\n",
      "Val Epoch:8: 53it [00:31,  2.18it/s]\u001b[32m [repeated 19x across cluster]\u001b[0m\n",
      "Val Epoch:8: 64it [00:37,  1.56it/s]\u001b[32m [repeated 18x across cluster]\u001b[0m\n",
      "Val Epoch:7: 91it [00:49,  1.31it/s]05)\u001b[0m \n",
      "Val Epoch:7: 102it [00:53,  3.09it/s]\u001b[32m [repeated 15x across cluster]\u001b[0m\n"
     ]
    },
    {
     "name": "stdout",
     "output_type": "stream",
     "text": [
      "\u001b[36m(tune_with_parameters pid=3287705)\u001b[0m /tmp/tmpvtjv8f9n/checkpoint.pt\n"
     ]
    },
    {
     "name": "stderr",
     "output_type": "stream",
     "text": [
      "Val Epoch:8: 88it [00:47,  3.68it/s]\u001b[32m [repeated 21x across cluster]\u001b[0m\n",
      "\u001b[36m(tune_with_parameters pid=3287705)\u001b[0m Checkpoint successfully created at: Checkpoint(filesystem=local, path=/scratch/users/k23058970/Model training/results/NSQ vs All LSTM/tune_with_parameters_2024-07-30_18-14-50/tune_with_parameters_5bcb0_00002_2_dp=0.2000,hidden_size=100,lr=0.0046,num_layers=2_2024-07-30_18-15-47/checkpoint_000002)\n",
      "Val Epoch:8: 101it [00:53,  2.44it/s]\u001b[32m [repeated 12x across cluster]\u001b[0m\n"
     ]
    },
    {
     "name": "stdout",
     "output_type": "stream",
     "text": [
      "\u001b[36m(tune_with_parameters pid=3287704)\u001b[0m loss: 0.656\n",
      "\u001b[36m(tune_with_parameters pid=3287706)\u001b[0m loss: 0.640\u001b[32m [repeated 2x across cluster]\u001b[0m\n",
      "\u001b[36m(tune_with_parameters pid=3287703)\u001b[0m loss: 0.655\n",
      "\u001b[36m(tune_with_parameters pid=3287705)\u001b[0m loss: 0.657\n",
      "\u001b[36m(tune_with_parameters pid=3287706)\u001b[0m loss: 0.657\n",
      "\u001b[36m(tune_with_parameters pid=3287704)\u001b[0m loss: 0.656\n",
      "\u001b[36m(tune_with_parameters pid=3287703)\u001b[0m loss: 0.655\n",
      "\u001b[36m(tune_with_parameters pid=3287705)\u001b[0m loss: 0.661\n",
      "\u001b[36m(tune_with_parameters pid=3287706)\u001b[0m loss: 0.657\n",
      "\u001b[36m(tune_with_parameters pid=3287704)\u001b[0m loss: 0.657\n"
     ]
    },
    {
     "name": "stderr",
     "output_type": "stream",
     "text": [
      "Val Epoch:7: 0it [00:00, ?it/s]3287703)\u001b[0m \n",
      "Val Epoch:8: 110it [00:57,  1.90it/s]\u001b[32m [repeated 9x across cluster]\u001b[0m\n",
      "Val Epoch:7: 2it [00:05,  2.84s/it]\u001b[32m [repeated 2x across cluster]\u001b[0m\n",
      "Val Epoch:7: 10it [00:11,  1.23s/it]\u001b[32m [repeated 8x across cluster]\u001b[0m\n",
      "Val Epoch:7: 12it [00:11,  1.45it/s]03)\u001b[0m \n",
      "Val Epoch:7: 18it [00:18,  1.39s/it]\u001b[32m [repeated 5x across cluster]\u001b[0m\n",
      "Val Epoch:7: 29it [00:23,  1.72it/s]\u001b[32m [repeated 10x across cluster]\u001b[0m\n",
      "Val Epoch:7: 32it [00:23,  3.09it/s]03)\u001b[0m \n",
      "Val Epoch:7: 36it [00:28,  1.46it/s]\u001b[32m [repeated 4x across cluster]\u001b[0m\n",
      "Val Epoch:7: 50it [00:33,  1.94it/s]\u001b[32m [repeated 9x across cluster]\u001b[0m\n"
     ]
    },
    {
     "name": "stdout",
     "output_type": "stream",
     "text": [
      "\u001b[36m(tune_with_parameters pid=3287705)\u001b[0m loss: 0.663\n"
     ]
    },
    {
     "name": "stderr",
     "output_type": "stream",
     "text": [
      "Val Epoch:7: 61it [00:39,  1.69it/s]\u001b[32m [repeated 10x across cluster]\u001b[0m\n",
      "Val Epoch:7: 69it [00:44,  1.16s/it]\u001b[32m [repeated 8x across cluster]\u001b[0m\n"
     ]
    },
    {
     "name": "stdout",
     "output_type": "stream",
     "text": [
      "\u001b[36m(tune_with_parameters pid=3287706)\u001b[0m loss: 0.657\n"
     ]
    },
    {
     "name": "stderr",
     "output_type": "stream",
     "text": [
      "Val Epoch:7: 77it [00:50,  1.21s/it]\u001b[32m [repeated 8x across cluster]\u001b[0m\n",
      "Val Epoch:7: 0it [00:00, ?it/s]3287704)\u001b[0m \n",
      "Val Epoch:7: 85it [00:57,  1.16s/it]\u001b[32m [repeated 8x across cluster]\u001b[0m\n",
      "Val Epoch:7: 87it [00:58,  1.23it/s]03)\u001b[0m \n",
      "Val Epoch:7: 97it [01:02,  2.90it/s]\u001b[32m [repeated 16x across cluster]\u001b[0m\n",
      "Val Epoch:7: 30it [00:13,  3.88it/s]\u001b[32m [repeated 22x across cluster]\u001b[0m\n",
      "Val Epoch:7: 47it [00:19,  3.51it/s]\u001b[32m [repeated 12x across cluster]\u001b[0m\n"
     ]
    },
    {
     "name": "stdout",
     "output_type": "stream",
     "text": [
      "\u001b[36m(tune_with_parameters pid=3287703)\u001b[0m loss: 0.665\n"
     ]
    },
    {
     "name": "stderr",
     "output_type": "stream",
     "text": [
      "Val Epoch:7: 65it [00:24,  2.39it/s]\u001b[32m [repeated 11x across cluster]\u001b[0m\n",
      "Val Epoch:7: 81it [00:30,  2.11it/s]\u001b[32m [repeated 10x across cluster]\u001b[0m\n",
      "Val Epoch:7: 105it [00:36,  3.30it/s]\u001b[32m [repeated 10x across cluster]\u001b[0m\n"
     ]
    },
    {
     "name": "stdout",
     "output_type": "stream",
     "text": [
      "\u001b[36m(tune_with_parameters pid=3287705)\u001b[0m loss: 0.663\n",
      "\u001b[36m(tune_with_parameters pid=3287704)\u001b[0m loss: 0.644\n",
      "\u001b[36m(tune_with_parameters pid=3287706)\u001b[0m loss: 0.657\n"
     ]
    },
    {
     "name": "stderr",
     "output_type": "stream",
     "text": [
      "Val Epoch:8: 0it [00:00, ?it/s]3287705)\u001b[0m \n",
      "Val Epoch:7: 110it [00:38,  2.87it/s]\u001b[32m [repeated 4x across cluster]\u001b[0m\n",
      "Val Epoch:8: 1it [00:05,  5.23s/it]705)\u001b[0m \n",
      "Val Epoch:8: 2it [00:05,  2.27s/it]705)\u001b[0m \n",
      "Val Epoch:8: 4it [00:05,  1.05it/s]705)\u001b[0m \n",
      "Val Epoch:8: 5it [00:06,  1.17it/s]705)\u001b[0m \n",
      "Val Epoch:8: 6it [00:06,  1.55it/s]705)\u001b[0m \n",
      "Val Epoch:8: 8it [00:06,  2.49it/s]705)\u001b[0m \n",
      "Val Epoch:8: 9it [00:09,  1.17it/s]705)\u001b[0m \n",
      "Val Epoch:8: 10it [00:09,  1.34it/s]05)\u001b[0m \n",
      "Val Epoch:8: 11it [00:09,  1.70it/s]05)\u001b[0m \n",
      "Val Epoch:8: 12it [00:10,  1.45it/s]05)\u001b[0m \n",
      "Val Epoch:8: 13it [00:10,  1.76it/s]05)\u001b[0m \n",
      "Val Epoch:8: 14it [00:11,  2.22it/s]05)\u001b[0m \n",
      "Val Epoch:8: 16it [00:11,  2.77it/s]05)\u001b[0m \n",
      "Val Epoch:8: 17it [00:13,  1.47it/s]05)\u001b[0m \n",
      "Val Epoch:8: 18it [00:13,  1.84it/s]05)\u001b[0m \n",
      "Val Epoch:8: 19it [00:14,  1.49it/s]05)\u001b[0m \n",
      "Val Epoch:8: 20it [00:15,  1.43it/s]05)\u001b[0m \n",
      "Val Epoch:8: 22it [00:15,  2.36it/s]05)\u001b[0m \n",
      "Val Epoch:8: 23it [00:15,  2.26it/s]05)\u001b[0m \n",
      "Val Epoch:8: 25it [00:17,  1.49it/s]05)\u001b[0m \n",
      "Val Epoch:8: 26it [00:18,  1.72it/s]05)\u001b[0m \n",
      "Val Epoch:9: 0it [00:00, ?it/s]3287706)\u001b[0m \n",
      "Val Epoch:8: 27it [00:19,  1.40it/s]05)\u001b[0m \n",
      "Val Epoch:8: 28it [00:20,  1.23it/s]05)\u001b[0m \n",
      "Val Epoch:8: 29it [00:20,  1.52it/s]05)\u001b[0m \n",
      "Val Epoch:8: 30it [00:20,  1.98it/s]05)\u001b[0m \n",
      "Val Epoch:8: 31it [00:20,  2.39it/s]05)\u001b[0m \n",
      "Val Epoch:8: 33it [00:22,  1.48it/s]05)\u001b[0m \n",
      "Val Epoch:8: 34it [00:23,  1.63it/s]05)\u001b[0m \n",
      "Val Epoch:8: 35it [00:23,  2.00it/s]05)\u001b[0m \n",
      "Val Epoch:8: 45it [00:28,  1.62it/s]\u001b[32m [repeated 18x across cluster]\u001b[0m\n"
     ]
    },
    {
     "name": "stdout",
     "output_type": "stream",
     "text": [
      "\u001b[36m(tune_with_parameters pid=3287703)\u001b[0m loss: 0.655\n"
     ]
    },
    {
     "name": "stderr",
     "output_type": "stream",
     "text": [
      "Val Epoch:9: 26it [00:14,  1.87it/s]\u001b[32m [repeated 21x across cluster]\u001b[0m\n",
      "Val Epoch:8: 73it [00:39,  1.07it/s]\u001b[32m [repeated 18x across cluster]\u001b[0m\n",
      "Val Epoch:9: 49it [00:26,  1.11it/s]\u001b[32m [repeated 20x across cluster]\u001b[0m\n",
      "Val Epoch:8: 97it [00:50,  1.21it/s]\u001b[32m [repeated 20x across cluster]\u001b[0m\n",
      "Val Epoch:9: 73it [00:37,  1.33it/s]\u001b[32m [repeated 19x across cluster]\u001b[0m\n",
      "Val Epoch:9: 87it [00:43,  1.76it/s]\u001b[32m [repeated 11x across cluster]\u001b[0m\n",
      "Val Epoch:9: 97it [00:49,  1.13it/s]\u001b[32m [repeated 9x across cluster]\u001b[0m\n"
     ]
    },
    {
     "name": "stdout",
     "output_type": "stream",
     "text": [
      "\u001b[36m(tune_with_parameters pid=3287705)\u001b[0m loss: 0.662\n"
     ]
    },
    {
     "name": "stderr",
     "output_type": "stream",
     "text": [
      "Val Epoch:9: 110it [00:54,  2.01it/s]\u001b[32m [repeated 11x across cluster]\u001b[0m\n"
     ]
    },
    {
     "name": "stdout",
     "output_type": "stream",
     "text": [
      "\u001b[36m(tune_with_parameters pid=3287704)\u001b[0m loss: 0.657\n",
      "\u001b[36m(tune_with_parameters pid=3287706)\u001b[0m loss: 0.669\n",
      "\u001b[36m(tune_with_parameters pid=3287703)\u001b[0m loss: 0.655\n",
      "\u001b[36m(tune_with_parameters pid=3287705)\u001b[0m loss: 0.660\n",
      "\u001b[36m(tune_with_parameters pid=3287706)\u001b[0m loss: 0.657\n",
      "\u001b[36m(tune_with_parameters pid=3287704)\u001b[0m loss: 0.657\n",
      "\u001b[36m(tune_with_parameters pid=3287705)\u001b[0m loss: 0.660\n",
      "\u001b[36m(tune_with_parameters pid=3287703)\u001b[0m loss: 0.655\n",
      "\u001b[36m(tune_with_parameters pid=3287704)\u001b[0m loss: 0.657\u001b[32m [repeated 2x across cluster]\u001b[0m\n",
      "\u001b[36m(tune_with_parameters pid=3287705)\u001b[0m loss: 0.659\n",
      "\u001b[36m(tune_with_parameters pid=3287706)\u001b[0m loss: 0.657\n",
      "\u001b[36m(tune_with_parameters pid=3287703)\u001b[0m loss: 0.655\n",
      "\u001b[36m(tune_with_parameters pid=3287705)\u001b[0m loss: 0.659\n",
      "\u001b[36m(tune_with_parameters pid=3287706)\u001b[0m loss: 0.657\u001b[32m [repeated 2x across cluster]\u001b[0m\n"
     ]
    },
    {
     "name": "stderr",
     "output_type": "stream",
     "text": [
      "Val Epoch:8: 0it [00:00, ?it/s]3287703)\u001b[0m \n",
      "Val Epoch:8: 1it [00:03,  3.17s/it]703)\u001b[0m \n",
      "Val Epoch:8: 3it [00:03,  1.14it/s]703)\u001b[0m \n",
      "Val Epoch:8: 6it [00:03,  2.70it/s]703)\u001b[0m \n",
      "Val Epoch:8: 8it [00:03,  3.35it/s]703)\u001b[0m \n",
      "Val Epoch:8: 10it [00:04,  2.52it/s]03)\u001b[0m \n",
      "Val Epoch:8: 11it [00:05,  2.86it/s]03)\u001b[0m \n",
      "Val Epoch:8: 12it [00:05,  3.31it/s]03)\u001b[0m \n",
      "Val Epoch:8: 13it [00:05,  3.94it/s]03)\u001b[0m \n",
      "Val Epoch:8: 15it [00:05,  5.70it/s]03)\u001b[0m \n",
      "Val Epoch:8: 17it [00:06,  4.76it/s]03)\u001b[0m \n",
      "Val Epoch:8: 18it [00:06,  5.22it/s]03)\u001b[0m \n",
      "Val Epoch:8: 19it [00:06,  5.83it/s]03)\u001b[0m \n",
      "Val Epoch:8: 22it [00:06,  8.83it/s]03)\u001b[0m \n",
      "Val Epoch:8: 24it [00:07,  3.99it/s]03)\u001b[0m \n",
      "Val Epoch:8: 25it [00:07,  4.29it/s]03)\u001b[0m \n",
      "Val Epoch:8: 27it [00:08,  4.17it/s]03)\u001b[0m \n",
      "Val Epoch:8: 29it [00:08,  5.41it/s]03)\u001b[0m \n",
      "Val Epoch:8: 31it [00:11,  1.77it/s]03)\u001b[0m \n",
      "Val Epoch:8: 32it [00:11,  2.08it/s]03)\u001b[0m \n",
      "Val Epoch:8: 33it [00:11,  2.40it/s]03)\u001b[0m \n",
      "Val Epoch:8: 35it [00:11,  3.24it/s]03)\u001b[0m \n",
      "Val Epoch:8: 36it [00:11,  3.55it/s]03)\u001b[0m \n",
      "Val Epoch:8: 37it [00:11,  3.96it/s]03)\u001b[0m \n",
      "Val Epoch:8: 38it [00:12,  4.44it/s]03)\u001b[0m \n",
      "Val Epoch:8: 39it [00:15,  1.01it/s]03)\u001b[0m \n",
      "Val Epoch:8: 40it [00:15,  1.27it/s]03)\u001b[0m \n",
      "Val Epoch:8: 41it [00:15,  1.46it/s]03)\u001b[0m \n",
      "Val Epoch:8: 42it [00:16,  1.89it/s]03)\u001b[0m \n",
      "Val Epoch:8: 43it [00:16,  2.36it/s]03)\u001b[0m \n",
      "Val Epoch:8: 44it [00:16,  2.82it/s]03)\u001b[0m \n",
      "Val Epoch:8: 45it [00:16,  3.39it/s]03)\u001b[0m \n",
      "Val Epoch:8: 47it [00:21,  1.19s/it]03)\u001b[0m \n",
      "Val Epoch:8: 49it [00:21,  1.33it/s]03)\u001b[0m \n",
      "Val Epoch:8: 50it [00:21,  1.51it/s]03)\u001b[0m \n",
      "Val Epoch:8: 51it [00:21,  1.67it/s]03)\u001b[0m \n",
      "Val Epoch:8: 52it [00:22,  1.90it/s]03)\u001b[0m \n",
      "Val Epoch:8: 53it [00:22,  2.20it/s]03)\u001b[0m \n",
      "Val Epoch:8: 54it [00:22,  2.73it/s]03)\u001b[0m \n",
      "Val Epoch:9: 0it [00:00, ?it/s]3287705)\u001b[0m \n",
      "Val Epoch:8: 55it [00:24,  1.53it/s]03)\u001b[0m \n",
      "Val Epoch:8: 56it [00:25,  1.35it/s]03)\u001b[0m \n",
      "Val Epoch:8: 57it [00:25,  1.65it/s]03)\u001b[0m \n",
      "Val Epoch:8: 59it [00:25,  2.63it/s]03)\u001b[0m \n",
      "Val Epoch:8: 61it [00:25,  3.55it/s]03)\u001b[0m \n",
      "Val Epoch:9: 2it [00:04,  2.07s/it]\u001b[32m [repeated 2x across cluster]\u001b[0m\n",
      "Val Epoch:9: 15it [00:09,  2.35it/s]\u001b[32m [repeated 18x across cluster]\u001b[0m\n",
      "Val Epoch:8: 74it [00:37,  1.11it/s]\u001b[32m [repeated 7x across cluster]\u001b[0m\n",
      "Val Epoch:10: 0it [00:00, ?it/s]287706)\u001b[0m \n",
      "Val Epoch:8: 82it [00:42,  1.41it/s]\u001b[32m [repeated 16x across cluster]\u001b[0m\n",
      "Val Epoch:8: 0it [00:00, ?it/s]3287704)\u001b[0m \n",
      "Val Epoch:8: 3it [00:06,  1.75s/it]704)\u001b[0m \n",
      "Val Epoch:10: 11it [00:08,  2.53it/s]\u001b[32m [repeated 28x across cluster]\u001b[0m\n",
      "Val Epoch:10: 18it [00:11,  1.93it/s]6)\u001b[0m \n",
      "Val Epoch:9: 53it [00:30,  1.74it/s]\u001b[32m [repeated 30x across cluster]\u001b[0m\n",
      "Val Epoch:9: 65it [00:35,  1.72it/s]\u001b[32m [repeated 42x across cluster]\u001b[0m\n",
      "Val Epoch:9: 73it [00:40,  1.20it/s]\u001b[32m [repeated 22x across cluster]\u001b[0m\n",
      "Val Epoch:10: 45it [00:25,  2.12it/s]6)\u001b[0m \n",
      "Val Epoch:10: 50it [00:28,  1.35it/s]\u001b[32m [repeated 15x across cluster]\u001b[0m\n",
      "Val Epoch:9: 88it [00:47,  2.83it/s]\u001b[32m [repeated 2x across cluster]\u001b[0m\n",
      "Val Epoch:8: 42it [00:33,  1.25s/it]\u001b[32m [repeated 24x across cluster]\u001b[0m\n",
      "Val Epoch:8: 50it [00:38,  1.22s/it]\u001b[32m [repeated 28x across cluster]\u001b[0m\n"
     ]
    },
    {
     "name": "stdout",
     "output_type": "stream",
     "text": [
      "\u001b[36m(tune_with_parameters pid=3287703)\u001b[0m loss: 0.649\n"
     ]
    },
    {
     "name": "stderr",
     "output_type": "stream",
     "text": [
      "Val Epoch:10: 85it [00:44,  2.01it/s]\u001b[32m [repeated 26x across cluster]\u001b[0m\n",
      "Val Epoch:10: 93it [00:49,  1.88it/s]\u001b[32m [repeated 7x across cluster]\u001b[0m\n",
      "Val Epoch:10: 100it [00:55,  1.41it/s]\u001b[32m [repeated 15x across cluster]\u001b[0m\n"
     ]
    },
    {
     "name": "stdout",
     "output_type": "stream",
     "text": [
      "\u001b[36m(tune_with_parameters pid=3287705)\u001b[0m loss: 0.631\n"
     ]
    },
    {
     "name": "stderr",
     "output_type": "stream",
     "text": [
      "Val Epoch:8: 90it [01:02,  1.02it/s]\u001b[32m [repeated 19x across cluster]\u001b[0m\n",
      "Val Epoch:8: 98it [01:08,  1.10s/it]\u001b[32m [repeated 5x across cluster]\u001b[0m\n"
     ]
    },
    {
     "name": "stdout",
     "output_type": "stream",
     "text": [
      "\u001b[36m(tune_with_parameters pid=3287706)\u001b[0m loss: 0.668\n"
     ]
    },
    {
     "name": "stderr",
     "output_type": "stream",
     "text": [
      "Val Epoch:8: 110it [01:14,  1.48it/s]\u001b[32m [repeated 11x across cluster]\u001b[0m\n"
     ]
    },
    {
     "name": "stdout",
     "output_type": "stream",
     "text": [
      "\u001b[36m(tune_with_parameters pid=3287704)\u001b[0m loss: 0.655\n",
      "\u001b[36m(tune_with_parameters pid=3287705)\u001b[0m loss: 0.653\n",
      "\u001b[36m(tune_with_parameters pid=3287703)\u001b[0m loss: 0.655\n",
      "\u001b[36m(tune_with_parameters pid=3287704)\u001b[0m loss: 0.658\u001b[32m [repeated 2x across cluster]\u001b[0m\n",
      "\u001b[36m(tune_with_parameters pid=3287705)\u001b[0m loss: 0.652\n",
      "\u001b[36m(tune_with_parameters pid=3287706)\u001b[0m loss: 0.657\n",
      "\u001b[36m(tune_with_parameters pid=3287703)\u001b[0m loss: 0.655\n",
      "\u001b[36m(tune_with_parameters pid=3287704)\u001b[0m loss: 0.657\n",
      "\u001b[36m(tune_with_parameters pid=3287706)\u001b[0m loss: 0.657\u001b[32m [repeated 2x across cluster]\u001b[0m\n",
      "\u001b[36m(tune_with_parameters pid=3287703)\u001b[0m loss: 0.655\n",
      "\u001b[36m(tune_with_parameters pid=3287705)\u001b[0m loss: 0.651\n",
      "\u001b[36m(tune_with_parameters pid=3287706)\u001b[0m loss: 0.657\n",
      "\u001b[36m(tune_with_parameters pid=3287704)\u001b[0m loss: 0.657\n"
     ]
    },
    {
     "name": "stderr",
     "output_type": "stream",
     "text": [
      "Val Epoch:10: 0it [00:00, ?it/s]287705)\u001b[0m \n",
      "Val Epoch:10: 1it [00:04,  4.10s/it]05)\u001b[0m \n",
      "Val Epoch:10: 3it [00:04,  1.25s/it]05)\u001b[0m \n",
      "Val Epoch:10: 4it [00:04,  1.14it/s]05)\u001b[0m \n",
      "Val Epoch:10: 5it [00:06,  1.07s/it]05)\u001b[0m \n",
      "Val Epoch:10: 6it [00:06,  1.29it/s]05)\u001b[0m \n",
      "Val Epoch:10: 7it [00:06,  1.76it/s]05)\u001b[0m \n",
      "Val Epoch:10: 8it [00:06,  2.20it/s]05)\u001b[0m \n",
      "Val Epoch:10: 9it [00:07,  1.48it/s]05)\u001b[0m \n",
      "Val Epoch:10: 11it [00:08,  1.97it/s]5)\u001b[0m \n",
      "Val Epoch:10: 12it [00:08,  2.34it/s]5)\u001b[0m \n",
      "Val Epoch:10: 13it [00:09,  2.38it/s]5)\u001b[0m \n",
      "Val Epoch:10: 14it [00:09,  2.81it/s]5)\u001b[0m \n",
      "Val Epoch:10: 16it [00:09,  4.05it/s]5)\u001b[0m \n",
      "Val Epoch:10: 17it [00:11,  1.29it/s]5)\u001b[0m \n",
      "Val Epoch:10: 18it [00:12,  1.59it/s]5)\u001b[0m \n",
      "Val Epoch:10: 19it [00:12,  1.97it/s]5)\u001b[0m \n",
      "Val Epoch:10: 20it [00:12,  2.43it/s]5)\u001b[0m \n",
      "Val Epoch:10: 21it [00:13,  1.44it/s]5)\u001b[0m \n",
      "Val Epoch:10: 22it [00:14,  1.74it/s]5)\u001b[0m \n",
      "Val Epoch:10: 23it [00:14,  2.25it/s]5)\u001b[0m \n",
      "Val Epoch:10: 24it [00:14,  2.64it/s]5)\u001b[0m \n",
      "Val Epoch:10: 25it [00:15,  1.84it/s]5)\u001b[0m \n",
      "Val Epoch:10: 27it [00:16,  2.13it/s]5)\u001b[0m \n",
      "Val Epoch:10: 28it [00:16,  2.55it/s]5)\u001b[0m \n",
      "Val Epoch:10: 29it [00:17,  2.02it/s]5)\u001b[0m \n",
      "Val Epoch:10: 31it [00:17,  3.13it/s]5)\u001b[0m \n",
      "Val Epoch:10: 32it [00:17,  3.41it/s]5)\u001b[0m \n",
      "Val Epoch:10: 33it [00:19,  1.56it/s]5)\u001b[0m \n",
      "Val Epoch:10: 34it [00:20,  1.48it/s]5)\u001b[0m \n",
      "Val Epoch:10: 35it [00:20,  1.89it/s]5)\u001b[0m \n",
      "Val Epoch:10: 37it [00:21,  1.85it/s]5)\u001b[0m \n",
      "Val Epoch:10: 38it [00:21,  2.29it/s]5)\u001b[0m \n",
      "Val Epoch:10: 39it [00:21,  2.63it/s]5)\u001b[0m \n",
      "Val Epoch:10: 41it [00:24,  1.19it/s]5)\u001b[0m \n",
      "Val Epoch:10: 42it [00:24,  1.46it/s]5)\u001b[0m \n",
      "Val Epoch:10: 43it [00:24,  1.73it/s]5)\u001b[0m \n",
      "Val Epoch:10: 44it [00:25,  1.79it/s]5)\u001b[0m \n",
      "Val Epoch:10: 45it [00:26,  1.31it/s]5)\u001b[0m \n",
      "Val Epoch:10: 47it [00:26,  2.22it/s]5)\u001b[0m \n",
      "Val Epoch:10: 48it [00:27,  2.67it/s]5)\u001b[0m \n",
      "Val Epoch:10: 49it [00:29,  1.24it/s]5)\u001b[0m \n",
      "Val Epoch:11: 0it [00:00, ?it/s]287706)\u001b[0m \n",
      "Val Epoch:10: 50it [00:30,  1.03it/s]5)\u001b[0m \n",
      "Val Epoch:10: 51it [00:30,  1.34it/s]5)\u001b[0m \n",
      "Val Epoch:10: 52it [00:30,  1.70it/s]5)\u001b[0m \n",
      "Val Epoch:10: 53it [00:31,  1.96it/s]5)\u001b[0m \n",
      "Val Epoch:10: 54it [00:31,  2.42it/s]5)\u001b[0m \n",
      "Val Epoch:10: 55it [00:31,  2.96it/s]5)\u001b[0m \n",
      "Val Epoch:10: 57it [00:32,  2.13it/s]5)\u001b[0m \n",
      "Val Epoch:10: 58it [00:33,  2.37it/s]5)\u001b[0m \n",
      "Val Epoch:10: 66it [00:35,  2.71it/s]5)\u001b[0m \n",
      "Val Epoch:11: 14it [00:07,  2.39it/s]\u001b[32m [repeated 18x across cluster]\u001b[0m\n",
      "Val Epoch:11: 10it [00:06,  1.66it/s]6)\u001b[0m \n",
      "Val Epoch:10: 81it [00:43,  1.44it/s]\u001b[32m [repeated 17x across cluster]\u001b[0m\n",
      "Val Epoch:11: 33it [00:18,  1.06it/s]\u001b[32m [repeated 18x across cluster]\u001b[0m\n",
      "Val Epoch:11: 42it [00:22,  1.39it/s]6)\u001b[0m \n",
      "Val Epoch:10: 101it [00:53,  2.00it/s]\u001b[32m [repeated 18x across cluster]\u001b[0m\n"
     ]
    },
    {
     "name": "stdout",
     "output_type": "stream",
     "text": [
      "\u001b[36m(tune_with_parameters pid=3287703)\u001b[0m loss: 0.654\n"
     ]
    },
    {
     "name": "stderr",
     "output_type": "stream",
     "text": [
      "Val Epoch:11: 57it [00:30,  1.03s/it]\u001b[32m [repeated 20x across cluster]\u001b[0m\n",
      "Val Epoch:11: 73it [00:38,  1.02s/it]\u001b[32m [repeated 13x across cluster]\u001b[0m\n",
      "Val Epoch:11: 87it [00:43,  2.63it/s]\u001b[32m [repeated 12x across cluster]\u001b[0m\n"
     ]
    },
    {
     "name": "stdout",
     "output_type": "stream",
     "text": [
      "\u001b[36m(tune_with_parameters pid=3287705)\u001b[0m loss: 0.670\n"
     ]
    },
    {
     "name": "stderr",
     "output_type": "stream",
     "text": [
      "Val Epoch:11: 97it [00:50,  1.14it/s]\u001b[32m [repeated 8x across cluster]\u001b[0m\n",
      "Val Epoch:11: 100it [00:51,  1.78it/s])\u001b[0m \n",
      "Val Epoch:11: 110it [00:55,  1.97it/s]\u001b[32m [repeated 7x across cluster]\u001b[0m\n"
     ]
    },
    {
     "name": "stdout",
     "output_type": "stream",
     "text": [
      "\u001b[36m(tune_with_parameters pid=3287706)\u001b[0m loss: 0.659\n",
      "\u001b[36m(tune_with_parameters pid=3287704)\u001b[0m loss: 0.657\n"
     ]
    },
    {
     "name": "stderr",
     "output_type": "stream",
     "text": [
      "Val Epoch:9: 0it [00:00, ?it/s]3287703)\u001b[0m \n",
      "Val Epoch:9: 1it [00:05,  5.60s/it]703)\u001b[0m \n",
      "Val Epoch:9: 2it [00:05,  2.45s/it]703)\u001b[0m \n",
      "Val Epoch:9: 3it [00:06,  1.61s/it]703)\u001b[0m \n",
      "Val Epoch:9: 5it [00:07,  1.03s/it]703)\u001b[0m \n",
      "Val Epoch:9: 6it [00:07,  1.31it/s]703)\u001b[0m \n",
      "Val Epoch:9: 7it [00:08,  1.51it/s]703)\u001b[0m \n",
      "Val Epoch:9: 8it [00:08,  1.84it/s]703)\u001b[0m \n",
      "Val Epoch:9: 9it [00:09,  1.28it/s]703)\u001b[0m \n",
      "Val Epoch:9: 10it [00:12,  1.26s/it]03)\u001b[0m \n",
      "Val Epoch:9: 11it [00:12,  1.08it/s]03)\u001b[0m \n",
      "Val Epoch:9: 12it [00:13,  1.14it/s]03)\u001b[0m \n",
      "Val Epoch:9: 13it [00:13,  1.38it/s]03)\u001b[0m \n",
      "Val Epoch:9: 14it [00:13,  1.66it/s]03)\u001b[0m \n",
      "Val Epoch:9: 15it [00:14,  1.92it/s]03)\u001b[0m \n",
      "Val Epoch:9: 16it [00:14,  2.21it/s]03)\u001b[0m \n",
      "Val Epoch:9: 17it [00:14,  2.10it/s]03)\u001b[0m \n",
      "Val Epoch:9: 18it [00:16,  1.38it/s]03)\u001b[0m \n",
      "Val Epoch:9: 19it [00:16,  1.71it/s]03)\u001b[0m \n",
      "Val Epoch:9: 20it [00:16,  2.05it/s]03)\u001b[0m \n",
      "Val Epoch:9: 21it [00:17,  1.60it/s]03)\u001b[0m \n",
      "Val Epoch:9: 22it [00:17,  2.00it/s]03)\u001b[0m \n",
      "Val Epoch:9: 23it [00:18,  2.44it/s]03)\u001b[0m \n",
      "Val Epoch:9: 24it [00:18,  3.09it/s]03)\u001b[0m \n",
      "Val Epoch:9: 25it [00:18,  3.68it/s]03)\u001b[0m \n",
      "Val Epoch:9: 26it [00:20,  1.42it/s]03)\u001b[0m \n",
      "Val Epoch:9: 27it [00:20,  1.82it/s]03)\u001b[0m \n",
      "Val Epoch:9: 28it [00:22,  1.17s/it]03)\u001b[0m \n",
      "Val Epoch:9: 29it [00:23,  1.08it/s]03)\u001b[0m \n",
      "Val Epoch:9: 30it [00:23,  1.26it/s]03)\u001b[0m \n",
      "Val Epoch:9: 31it [00:23,  1.66it/s]03)\u001b[0m \n",
      "Val Epoch:9: 33it [00:24,  2.66it/s]03)\u001b[0m \n",
      "Val Epoch:9: 34it [00:24,  2.21it/s]03)\u001b[0m \n",
      "Val Epoch:9: 35it [00:25,  2.23it/s]03)\u001b[0m \n",
      "Val Epoch:9: 36it [00:26,  1.35it/s]03)\u001b[0m \n",
      "Val Epoch:9: 37it [00:27,  1.52it/s]03)\u001b[0m \n",
      "Val Epoch:9: 38it [00:27,  1.85it/s]03)\u001b[0m \n",
      "Val Epoch:9: 39it [00:27,  2.39it/s]03)\u001b[0m \n",
      "Val Epoch:9: 41it [00:27,  3.51it/s]03)\u001b[0m \n",
      "Val Epoch:9: 44it [00:30,  1.62it/s]03)\u001b[0m \n",
      "Val Epoch:9: 45it [00:30,  1.82it/s]03)\u001b[0m \n",
      "Val Epoch:9: 47it [00:31,  2.53it/s]03)\u001b[0m \n",
      "Val Epoch:9: 48it [00:31,  2.73it/s]03)\u001b[0m \n",
      "Val Epoch:9: 49it [00:31,  2.93it/s]03)\u001b[0m \n",
      "Val Epoch:9: 51it [00:32,  3.55it/s]03)\u001b[0m \n",
      "Val Epoch:9: 52it [00:34,  1.32it/s]03)\u001b[0m \n",
      "Val Epoch:9: 53it [00:36,  1.04it/s]03)\u001b[0m \n",
      "Val Epoch:9: 55it [00:36,  1.63it/s]03)\u001b[0m \n",
      "Val Epoch:9: 56it [00:36,  1.91it/s]03)\u001b[0m \n",
      "Val Epoch:9: 57it [00:36,  2.17it/s]03)\u001b[0m \n",
      "Val Epoch:9: 59it [00:37,  3.09it/s]03)\u001b[0m \n",
      "Val Epoch:9: 60it [00:39,  1.30it/s]03)\u001b[0m \n",
      "Val Epoch:9: 61it [00:40,  1.02it/s]03)\u001b[0m \n",
      "Val Epoch:9: 62it [00:41,  1.21it/s]03)\u001b[0m \n",
      "Val Epoch:9: 63it [00:41,  1.33it/s]03)\u001b[0m \n",
      "Val Epoch:9: 64it [00:42,  1.60it/s]03)\u001b[0m \n",
      "Val Epoch:9: 66it [00:42,  2.52it/s]03)\u001b[0m \n",
      "Val Epoch:9: 67it [00:42,  2.94it/s]03)\u001b[0m \n",
      "Val Epoch:9: 68it [00:45,  1.03it/s]03)\u001b[0m \n",
      "Val Epoch:9: 69it [00:47,  1.38s/it]03)\u001b[0m \n",
      "Val Epoch:9: 71it [00:48,  1.23it/s]03)\u001b[0m \n",
      "Val Epoch:9: 72it [00:48,  1.46it/s]03)\u001b[0m \n",
      "Val Epoch:9: 0it [00:00, ?it/s]3287704)\u001b[0m \n",
      "Val Epoch:9: 73it [00:48,  1.69it/s]03)\u001b[0m \n",
      "Val Epoch:9: 75it [00:48,  2.40it/s]03)\u001b[0m \n"
     ]
    },
    {
     "name": "stdout",
     "output_type": "stream",
     "text": [
      "\u001b[36m(tune_with_parameters pid=3287705)\u001b[0m loss: 0.656\n"
     ]
    },
    {
     "name": "stderr",
     "output_type": "stream",
     "text": [
      "Val Epoch:9: 76it [00:51,  1.15it/s]03)\u001b[0m \n",
      "Val Epoch:9: 77it [00:53,  1.12s/it]03)\u001b[0m \n",
      "Val Epoch:9: 79it [00:53,  1.40it/s]03)\u001b[0m \n",
      "Val Epoch:9: 80it [00:53,  1.69it/s]03)\u001b[0m \n",
      "Val Epoch:9: 92it [00:59,  2.24it/s]\u001b[32m [repeated 16x across cluster]\u001b[0m\n",
      "Val Epoch:9: 100it [01:04,  2.04it/s]\u001b[32m [repeated 16x across cluster]\u001b[0m\n",
      "Val Epoch:9: 27it [00:20,  1.08it/s]\u001b[32m [repeated 13x across cluster]\u001b[0m\n",
      "Val Epoch:9: 37it [00:26,  1.63it/s]\u001b[32m [repeated 12x across cluster]\u001b[0m\n"
     ]
    },
    {
     "name": "stdout",
     "output_type": "stream",
     "text": [
      "\u001b[36m(tune_with_parameters pid=3287706)\u001b[0m loss: 0.657\n"
     ]
    },
    {
     "name": "stderr",
     "output_type": "stream",
     "text": [
      "Val Epoch:9: 44it [00:31,  1.34it/s]04)\u001b[0m \n",
      "Val Epoch:9: 41it [00:30,  1.15s/it]\u001b[32m [repeated 3x across cluster]\u001b[0m\n",
      "Val Epoch:9: 49it [00:37,  1.41s/it]\u001b[32m [repeated 5x across cluster]\u001b[0m\n"
     ]
    },
    {
     "name": "stdout",
     "output_type": "stream",
     "text": [
      "\u001b[36m(tune_with_parameters pid=3287703)\u001b[0m loss: 0.633\n"
     ]
    },
    {
     "name": "stderr",
     "output_type": "stream",
     "text": [
      "Val Epoch:9: 64it [00:42,  2.87it/s]04)\u001b[0m \n",
      "Val Epoch:9: 62it [00:42,  2.12it/s]\u001b[32m [repeated 8x across cluster]\u001b[0m\n",
      "Val Epoch:9: 66it [00:45,  1.32it/s]04)\u001b[0m \n",
      "Val Epoch:9: 72it [00:47,  2.68it/s]\u001b[32m [repeated 6x across cluster]\u001b[0m\n",
      "Val Epoch:9: 78it [00:52,  1.50it/s]\u001b[32m [repeated 5x across cluster]\u001b[0m\n",
      "Val Epoch:9: 85it [00:58,  1.32it/s]\u001b[32m [repeated 6x across cluster]\u001b[0m\n",
      "Val Epoch:9: 93it [01:03,  1.79it/s]\u001b[32m [repeated 7x across cluster]\u001b[0m\n",
      "Val Epoch:9: 102it [01:08,  2.09it/s]\u001b[32m [repeated 9x across cluster]\u001b[0m\n"
     ]
    },
    {
     "name": "stdout",
     "output_type": "stream",
     "text": [
      "\u001b[36m(tune_with_parameters pid=3287704)\u001b[0m loss: 0.656\n",
      "\u001b[36m(tune_with_parameters pid=3287705)\u001b[0m loss: 0.656\n",
      "\u001b[36m(tune_with_parameters pid=3287706)\u001b[0m loss: 0.657\n",
      "\u001b[36m(tune_with_parameters pid=3287703)\u001b[0m loss: 0.651\n",
      "\u001b[36m(tune_with_parameters pid=3287705)\u001b[0m loss: 0.656\n",
      "\u001b[36m(tune_with_parameters pid=3287704)\u001b[0m loss: 0.657\n",
      "\u001b[36m(tune_with_parameters pid=3287706)\u001b[0m loss: 0.657\n",
      "\u001b[36m(tune_with_parameters pid=3287705)\u001b[0m loss: 0.656\n",
      "\u001b[36m(tune_with_parameters pid=3287703)\u001b[0m loss: 0.651\n",
      "\u001b[36m(tune_with_parameters pid=3287706)\u001b[0m loss: 0.657\n"
     ]
    },
    {
     "name": "stderr",
     "output_type": "stream",
     "text": [
      "Val Epoch:11: 0it [00:00, ?it/s]287705)\u001b[0m \n",
      "Val Epoch:9: 110it [01:11,  1.54it/s]\u001b[32m [repeated 7x across cluster]\u001b[0m\n"
     ]
    },
    {
     "name": "stdout",
     "output_type": "stream",
     "text": [
      "\u001b[36m(tune_with_parameters pid=3287704)\u001b[0m loss: 0.657\n"
     ]
    },
    {
     "name": "stderr",
     "output_type": "stream",
     "text": [
      "Val Epoch:11: 17it [00:05,  3.68it/s]\u001b[32m [repeated 12x across cluster]\u001b[0m\n",
      "Val Epoch:11: 42it [00:10,  5.44it/s]\u001b[32m [repeated 13x across cluster]\u001b[0m\n",
      "Val Epoch:11: 65it [00:15,  2.79it/s]\u001b[32m [repeated 16x across cluster]\u001b[0m\n",
      "Val Epoch:12: 0it [00:00, ?it/s]287706)\u001b[0m \n",
      "Val Epoch:11: 81it [00:20,  2.02it/s]\u001b[32m [repeated 19x across cluster]\u001b[0m\n",
      "Val Epoch:12: 18it [00:09,  1.50it/s]\u001b[32m [repeated 16x across cluster]\u001b[0m\n",
      "Val Epoch:12: 30it [00:15,  2.59it/s]\u001b[32m [repeated 23x across cluster]\u001b[0m\n",
      "Val Epoch:12: 42it [00:21,  1.25it/s]\u001b[32m [repeated 14x across cluster]\u001b[0m\n",
      "Val Epoch:12: 52it [00:27,  1.70it/s]\u001b[32m [repeated 9x across cluster]\u001b[0m\n",
      "Val Epoch:12: 61it [00:32,  1.56it/s]\u001b[32m [repeated 8x across cluster]\u001b[0m\n"
     ]
    },
    {
     "name": "stdout",
     "output_type": "stream",
     "text": [
      "\u001b[36m(tune_with_parameters pid=3287705)\u001b[0m loss: 0.659\n"
     ]
    },
    {
     "name": "stderr",
     "output_type": "stream",
     "text": [
      "Val Epoch:12: 74it [00:39,  1.16it/s]\u001b[32m [repeated 11x across cluster]\u001b[0m\n",
      "Val Epoch:12: 80it [00:41,  2.81it/s]6)\u001b[0m \n",
      "Val Epoch:12: 87it [00:45,  2.39it/s]\u001b[32m [repeated 9x across cluster]\u001b[0m\n"
     ]
    },
    {
     "name": "stdout",
     "output_type": "stream",
     "text": [
      "\u001b[36m(tune_with_parameters pid=3287703)\u001b[0m loss: 0.651\n"
     ]
    },
    {
     "name": "stderr",
     "output_type": "stream",
     "text": [
      "Val Epoch:12: 98it [00:50,  1.57it/s]\u001b[32m [repeated 8x across cluster]\u001b[0m\n",
      "Val Epoch:12: 110it [00:55,  1.96it/s]\u001b[32m [repeated 12x across cluster]\u001b[0m\n"
     ]
    },
    {
     "name": "stdout",
     "output_type": "stream",
     "text": [
      "\u001b[36m(tune_with_parameters pid=3287706)\u001b[0m loss: 0.663\n",
      "\u001b[36m(tune_with_parameters pid=3287704)\u001b[0m loss: 0.657\n",
      "\u001b[36m(tune_with_parameters pid=3287705)\u001b[0m loss: 0.653\n",
      "\u001b[36m(tune_with_parameters pid=3287703)\u001b[0m loss: 0.650\n",
      "\u001b[36m(tune_with_parameters pid=3287704)\u001b[0m loss: 0.657\u001b[32m [repeated 2x across cluster]\u001b[0m\n",
      "\u001b[36m(tune_with_parameters pid=3287705)\u001b[0m loss: 0.654\n"
     ]
    },
    {
     "name": "stderr",
     "output_type": "stream",
     "text": [
      "Val Epoch:10: 0it [00:00, ?it/s]287703)\u001b[0m \n",
      "Val Epoch:10: 1it [00:06,  6.01s/it]03)\u001b[0m \n",
      "Val Epoch:10: 2it [00:06,  2.66s/it]03)\u001b[0m \n",
      "Val Epoch:10: 3it [00:06,  1.52s/it]03)\u001b[0m \n",
      "Val Epoch:10: 4it [00:06,  1.01s/it]03)\u001b[0m \n",
      "Val Epoch:10: 6it [00:08,  1.14it/s]03)\u001b[0m \n",
      "Val Epoch:10: 7it [00:08,  1.53it/s]03)\u001b[0m \n",
      "Val Epoch:10: 8it [00:08,  1.94it/s]03)\u001b[0m \n",
      "Val Epoch:10: 9it [00:10,  1.38it/s]03)\u001b[0m \n",
      "Val Epoch:10: 10it [00:10,  1.75it/s]3)\u001b[0m \n",
      "Val Epoch:10: 11it [00:10,  2.20it/s]3)\u001b[0m \n",
      "Val Epoch:10: 12it [00:10,  2.60it/s]3)\u001b[0m \n",
      "Val Epoch:10: 13it [00:11,  1.64it/s]3)\u001b[0m \n",
      "Val Epoch:10: 15it [00:12,  2.59it/s]3)\u001b[0m \n",
      "Val Epoch:10: 17it [00:14,  1.52it/s]3)\u001b[0m \n",
      "Val Epoch:10: 18it [00:14,  1.78it/s]3)\u001b[0m \n",
      "Val Epoch:10: 19it [00:14,  2.12it/s]3)\u001b[0m \n",
      "Val Epoch:10: 20it [00:15,  2.27it/s]3)\u001b[0m \n",
      "Val Epoch:10: 21it [00:15,  2.02it/s]3)\u001b[0m \n",
      "Val Epoch:10: 22it [00:15,  2.47it/s]3)\u001b[0m \n",
      "Val Epoch:10: 23it [00:16,  2.98it/s]3)\u001b[0m \n",
      "Val Epoch:10: 24it [00:16,  2.49it/s]3)\u001b[0m \n",
      "Val Epoch:10: 25it [00:18,  1.17it/s]3)\u001b[0m \n",
      "Val Epoch:10: 26it [00:18,  1.42it/s]3)\u001b[0m \n",
      "Val Epoch:10: 27it [00:19,  1.81it/s]3)\u001b[0m \n",
      "Val Epoch:10: 28it [00:19,  2.15it/s]3)\u001b[0m \n",
      "Val Epoch:10: 29it [00:19,  2.23it/s]3)\u001b[0m \n",
      "Val Epoch:10: 31it [00:19,  3.58it/s]3)\u001b[0m \n",
      "Val Epoch:10: 32it [00:20,  4.14it/s]3)\u001b[0m \n",
      "Val Epoch:10: 33it [00:20,  2.93it/s]3)\u001b[0m \n",
      "Val Epoch:10: 34it [00:20,  3.57it/s]3)\u001b[0m \n",
      "Val Epoch:10: 35it [00:20,  4.32it/s]3)\u001b[0m \n",
      "Val Epoch:10: 36it [00:20,  5.15it/s]3)\u001b[0m \n",
      "Val Epoch:10: 37it [00:21,  2.67it/s]3)\u001b[0m \n",
      "Val Epoch:10: 38it [00:22,  3.09it/s]3)\u001b[0m \n",
      "Val Epoch:10: 39it [00:22,  3.57it/s]3)\u001b[0m \n",
      "Val Epoch:10: 41it [00:24,  1.32it/s]3)\u001b[0m \n",
      "Val Epoch:10: 43it [00:25,  1.90it/s]3)\u001b[0m \n",
      "Val Epoch:10: 45it [00:25,  2.10it/s]3)\u001b[0m \n",
      "Val Epoch:10: 47it [00:26,  2.86it/s]3)\u001b[0m \n",
      "Val Epoch:10: 48it [00:26,  2.53it/s]3)\u001b[0m \n",
      "Val Epoch:10: 49it [00:28,  1.45it/s]3)\u001b[0m \n",
      "Val Epoch:10: 51it [00:28,  2.06it/s]3)\u001b[0m \n",
      "Val Epoch:10: 53it [00:29,  2.52it/s]3)\u001b[0m \n",
      "Val Epoch:10: 55it [00:29,  2.74it/s]3)\u001b[0m \n",
      "Val Epoch:10: 57it [00:32,  1.41it/s]3)\u001b[0m \n",
      "Val Epoch:10: 59it [00:32,  1.96it/s]3)\u001b[0m \n",
      "Val Epoch:10: 60it [00:33,  2.25it/s]3)\u001b[0m \n"
     ]
    },
    {
     "name": "stdout",
     "output_type": "stream",
     "text": [
      "\u001b[36m(tune_with_parameters pid=3287706)\u001b[0m loss: 0.656\n"
     ]
    },
    {
     "name": "stderr",
     "output_type": "stream",
     "text": [
      "Val Epoch:10: 61it [00:34,  1.66it/s]3)\u001b[0m \n",
      "Val Epoch:10: 63it [00:34,  2.41it/s]3)\u001b[0m \n",
      "Val Epoch:10: 64it [00:34,  2.67it/s]3)\u001b[0m \n",
      "Val Epoch:10: 65it [00:36,  1.60it/s]3)\u001b[0m \n",
      "Val Epoch:10: 66it [00:36,  1.97it/s]3)\u001b[0m \n",
      "Val Epoch:10: 67it [00:36,  2.17it/s]3)\u001b[0m \n",
      "Val Epoch:10: 68it [00:36,  2.26it/s]3)\u001b[0m \n",
      "Val Epoch:10: 69it [00:37,  2.05it/s]3)\u001b[0m \n",
      "Val Epoch:10: 71it [00:37,  3.33it/s]3)\u001b[0m \n",
      "Val Epoch:10: 72it [00:37,  3.69it/s]3)\u001b[0m \n",
      "Val Epoch:10: 73it [00:40,  1.26it/s]3)\u001b[0m \n",
      "Val Epoch:10: 74it [00:40,  1.47it/s]3)\u001b[0m \n",
      "Val Epoch:10: 75it [00:41,  1.49it/s]3)\u001b[0m \n",
      "Val Epoch:10: 77it [00:42,  1.39it/s]3)\u001b[0m \n",
      "Val Epoch:10: 79it [00:42,  2.09it/s]3)\u001b[0m \n",
      "Val Epoch:10: 80it [00:43,  2.39it/s]3)\u001b[0m \n",
      "Val Epoch:10: 81it [00:44,  1.39it/s]3)\u001b[0m \n",
      "Val Epoch:10: 82it [00:45,  1.27it/s]3)\u001b[0m \n",
      "Val Epoch:10: 83it [00:46,  1.49it/s]3)\u001b[0m \n",
      "Val Epoch:10: 84it [00:47,  1.28it/s]3)\u001b[0m \n",
      "Val Epoch:10: 85it [00:47,  1.36it/s]3)\u001b[0m \n",
      "Val Epoch:10: 86it [00:48,  1.37it/s]3)\u001b[0m \n",
      "Val Epoch:10: 0it [00:00, ?it/s]287704)\u001b[0m \n",
      "Val Epoch:10: 87it [00:49,  1.52it/s]3)\u001b[0m \n",
      "Val Epoch:10: 88it [00:49,  2.01it/s]3)\u001b[0m \n",
      "Val Epoch:10: 89it [00:49,  2.04it/s]3)\u001b[0m \n",
      "Val Epoch:10: 91it [00:49,  3.30it/s]3)\u001b[0m \n",
      "Val Epoch:10: 92it [00:50,  3.42it/s]3)\u001b[0m \n",
      "Val Epoch:10: 93it [00:50,  3.61it/s]3)\u001b[0m \n",
      "Val Epoch:10: 94it [00:50,  3.90it/s]3)\u001b[0m \n",
      "Val Epoch:10: 95it [00:50,  4.50it/s]3)\u001b[0m \n",
      "Val Epoch:10: 97it [00:50,  6.69it/s]3)\u001b[0m \n",
      "Val Epoch:10: 98it [00:51,  3.64it/s]3)\u001b[0m \n",
      "Val Epoch:10: 99it [00:51,  3.31it/s]3)\u001b[0m \n",
      "Val Epoch:10: 100it [00:52,  2.61it/s])\u001b[0m \n",
      "Val Epoch:10: 10it [00:08,  1.09it/s]\u001b[32m [repeated 18x across cluster]\u001b[0m\n",
      "Val Epoch:10: 13it [00:09,  2.33it/s]4)\u001b[0m \n",
      "Val Epoch:10: 18it [00:14,  1.43s/it]\u001b[32m [repeated 7x across cluster]\u001b[0m\n",
      "Val Epoch:10: 26it [00:21,  1.23s/it]\u001b[32m [repeated 7x across cluster]\u001b[0m\n",
      "Val Epoch:10: 34it [00:26,  1.20s/it]\u001b[32m [repeated 7x across cluster]\u001b[0m\n"
     ]
    },
    {
     "name": "stdout",
     "output_type": "stream",
     "text": [
      "\u001b[36m(tune_with_parameters pid=3287703)\u001b[0m loss: 0.651\n"
     ]
    },
    {
     "name": "stderr",
     "output_type": "stream",
     "text": [
      "Val Epoch:10: 47it [00:31,  2.97it/s]\u001b[32m [repeated 10x across cluster]\u001b[0m\n",
      "Val Epoch:10: 57it [00:37,  1.89it/s]\u001b[32m [repeated 8x across cluster]\u001b[0m\n",
      "Val Epoch:10: 64it [00:42,  1.87it/s]\u001b[32m [repeated 6x across cluster]\u001b[0m\n",
      "Val Epoch:10: 72it [00:47,  2.09it/s]\u001b[32m [repeated 7x across cluster]\u001b[0m\n"
     ]
    },
    {
     "name": "stdout",
     "output_type": "stream",
     "text": [
      "\u001b[36m(tune_with_parameters pid=3287705)\u001b[0m loss: 0.654\n"
     ]
    },
    {
     "name": "stderr",
     "output_type": "stream",
     "text": [
      "Val Epoch:10: 81it [00:53,  1.73it/s]\u001b[32m [repeated 9x across cluster]\u001b[0m\n",
      "Val Epoch:10: 88it [00:58,  2.32it/s]\u001b[32m [repeated 7x across cluster]\u001b[0m\n",
      "Val Epoch:10: 98it [01:03,  1.93it/s]\u001b[32m [repeated 8x across cluster]\u001b[0m\n",
      "Val Epoch:10: 108it [01:09,  1.65it/s])\u001b[0m \n",
      "Val Epoch:10: 106it [01:08,  1.31it/s]\u001b[32m [repeated 8x across cluster]\u001b[0m\n"
     ]
    },
    {
     "name": "stdout",
     "output_type": "stream",
     "text": [
      "\u001b[36m(tune_with_parameters pid=3287706)\u001b[0m loss: 0.657\n",
      "\u001b[36m(tune_with_parameters pid=3287704)\u001b[0m loss: 0.640\n",
      "\u001b[36m(tune_with_parameters pid=3287703)\u001b[0m loss: 0.652\n",
      "\u001b[36m(tune_with_parameters pid=3287705)\u001b[0m loss: 0.653\n",
      "\u001b[36m(tune_with_parameters pid=3287706)\u001b[0m loss: 0.657\n"
     ]
    },
    {
     "name": "stderr",
     "output_type": "stream",
     "text": [
      "Val Epoch:12: 0it [00:00, ?it/s]287705)\u001b[0m \n",
      "Val Epoch:10: 110it [01:11,  1.54it/s]\u001b[32m [repeated 3x across cluster]\u001b[0m\n",
      "Val Epoch:12: 1it [00:05,  5.52s/it]05)\u001b[0m \n",
      "Val Epoch:12: 2it [00:06,  3.00s/it]05)\u001b[0m \n",
      "Val Epoch:12: 4it [00:07,  1.33s/it]05)\u001b[0m \n",
      "Val Epoch:12: 5it [00:07,  1.04s/it]05)\u001b[0m \n",
      "Val Epoch:12: 6it [00:08,  1.05it/s]05)\u001b[0m \n",
      "Val Epoch:12: 7it [00:08,  1.37it/s]05)\u001b[0m \n",
      "Val Epoch:12: 8it [00:09,  1.69it/s]05)\u001b[0m \n",
      "Val Epoch:12: 9it [00:09,  1.74it/s]05)\u001b[0m \n",
      "Val Epoch:12: 10it [00:10,  1.26it/s]5)\u001b[0m \n",
      "Val Epoch:12: 11it [00:11,  1.70it/s]5)\u001b[0m \n",
      "Val Epoch:12: 13it [00:11,  2.94it/s]5)\u001b[0m \n",
      "Val Epoch:12: 15it [00:11,  3.83it/s]5)\u001b[0m \n",
      "Val Epoch:12: 16it [00:11,  4.41it/s]5)\u001b[0m \n",
      "Val Epoch:12: 17it [00:12,  2.73it/s]5)\u001b[0m \n",
      "Val Epoch:12: 20it [00:12,  4.18it/s]5)\u001b[0m \n",
      "Val Epoch:12: 21it [00:12,  4.44it/s]5)\u001b[0m \n",
      "Val Epoch:12: 24it [00:13,  6.22it/s]5)\u001b[0m \n",
      "Val Epoch:12: 25it [00:15,  2.12it/s]5)\u001b[0m \n",
      "Val Epoch:12: 26it [00:15,  2.17it/s]5)\u001b[0m \n",
      "Val Epoch:12: 27it [00:15,  2.59it/s]5)\u001b[0m \n",
      "Val Epoch:12: 28it [00:16,  1.84it/s]5)\u001b[0m \n",
      "Val Epoch:12: 29it [00:16,  2.09it/s]5)\u001b[0m \n",
      "Val Epoch:12: 30it [00:17,  2.33it/s]5)\u001b[0m \n",
      "Val Epoch:12: 31it [00:17,  2.70it/s]5)\u001b[0m \n",
      "Val Epoch:12: 33it [00:18,  2.40it/s]5)\u001b[0m \n",
      "Val Epoch:12: 34it [00:18,  2.76it/s]5)\u001b[0m \n",
      "Val Epoch:12: 35it [00:19,  2.30it/s]5)\u001b[0m \n"
     ]
    },
    {
     "name": "stdout",
     "output_type": "stream",
     "text": [
      "\u001b[36m(tune_with_parameters pid=3287704)\u001b[0m loss: 0.657\n"
     ]
    },
    {
     "name": "stderr",
     "output_type": "stream",
     "text": [
      "Val Epoch:12: 36it [00:20,  1.73it/s]5)\u001b[0m \n",
      "Val Epoch:12: 37it [00:20,  2.05it/s]5)\u001b[0m \n",
      "Val Epoch:12: 38it [00:20,  2.46it/s]5)\u001b[0m \n",
      "Val Epoch:12: 39it [00:20,  3.07it/s]5)\u001b[0m \n",
      "Val Epoch:12: 40it [00:21,  3.09it/s]5)\u001b[0m \n",
      "Val Epoch:12: 41it [00:23,  1.17it/s]5)\u001b[0m \n",
      "Val Epoch:12: 42it [00:23,  1.48it/s]5)\u001b[0m \n",
      "Val Epoch:12: 43it [00:24,  1.43it/s]5)\u001b[0m \n",
      "Val Epoch:12: 44it [00:24,  1.91it/s]5)\u001b[0m \n",
      "Val Epoch:12: 45it [00:25,  1.55it/s]5)\u001b[0m \n"
     ]
    },
    {
     "name": "stdout",
     "output_type": "stream",
     "text": [
      "\u001b[36m(tune_with_parameters pid=3287703)\u001b[0m loss: 0.653\n"
     ]
    },
    {
     "name": "stderr",
     "output_type": "stream",
     "text": [
      "Val Epoch:12: 46it [00:25,  1.85it/s]5)\u001b[0m \n",
      "Val Epoch:12: 48it [00:25,  2.68it/s]5)\u001b[0m \n",
      "Val Epoch:12: 49it [00:27,  1.41it/s]5)\u001b[0m \n",
      "Val Epoch:12: 50it [00:27,  1.65it/s]5)\u001b[0m \n",
      "Val Epoch:12: 51it [00:29,  1.19it/s]5)\u001b[0m \n",
      "Val Epoch:12: 53it [00:29,  1.81it/s]5)\u001b[0m \n",
      "Val Epoch:12: 54it [00:31,  1.23it/s]5)\u001b[0m \n",
      "Val Epoch:12: 55it [00:31,  1.56it/s]5)\u001b[0m \n",
      "Val Epoch:12: 56it [00:31,  1.99it/s]5)\u001b[0m \n",
      "Val Epoch:12: 57it [00:32,  2.05it/s]5)\u001b[0m \n",
      "Val Epoch:12: 58it [00:32,  2.59it/s]5)\u001b[0m \n",
      "Val Epoch:13: 0it [00:00, ?it/s]287706)\u001b[0m \n",
      "Val Epoch:12: 59it [00:33,  1.60it/s]5)\u001b[0m \n",
      "Val Epoch:12: 60it [00:33,  2.01it/s]5)\u001b[0m \n",
      "Val Epoch:12: 61it [00:33,  2.47it/s]5)\u001b[0m \n",
      "Val Epoch:12: 62it [00:35,  1.44it/s]5)\u001b[0m \n",
      "Val Epoch:12: 63it [00:35,  1.76it/s]5)\u001b[0m \n",
      "Val Epoch:12: 65it [00:35,  2.52it/s]5)\u001b[0m \n",
      "Val Epoch:12: 66it [00:36,  2.49it/s]5)\u001b[0m \n",
      "Val Epoch:12: 67it [00:37,  1.50it/s]5)\u001b[0m \n",
      "Val Epoch:12: 68it [00:37,  1.87it/s]5)\u001b[0m \n",
      "Val Epoch:12: 69it [00:38,  2.31it/s]5)\u001b[0m \n",
      "Val Epoch:12: 75it [00:41,  1.84it/s]\u001b[32m [repeated 13x across cluster]\u001b[0m\n",
      "Val Epoch:13: 18it [00:10,  2.60it/s]6)\u001b[0m \n",
      "Val Epoch:12: 91it [00:46,  1.51it/s]\u001b[32m [repeated 18x across cluster]\u001b[0m\n",
      "Val Epoch:12: 100it [00:52,  1.43it/s]\u001b[32m [repeated 15x across cluster]\u001b[0m\n",
      "Val Epoch:13: 43it [00:24,  1.52it/s]\u001b[32m [repeated 19x across cluster]\u001b[0m\n",
      "Val Epoch:13: 53it [00:29,  1.94it/s]\u001b[32m [repeated 9x across cluster]\u001b[0m\n",
      "Val Epoch:13: 62it [00:34,  2.12it/s]\u001b[32m [repeated 7x across cluster]\u001b[0m\n",
      "Val Epoch:13: 74it [00:39,  2.22it/s]\u001b[32m [repeated 11x across cluster]\u001b[0m\n"
     ]
    },
    {
     "name": "stdout",
     "output_type": "stream",
     "text": [
      "\u001b[36m(tune_with_parameters pid=3287705)\u001b[0m loss: 0.608\n"
     ]
    },
    {
     "name": "stderr",
     "output_type": "stream",
     "text": [
      "Val Epoch:13: 86it [00:44,  2.40it/s]\u001b[32m [repeated 9x across cluster]\u001b[0m\n",
      "Val Epoch:13: 97it [00:50,  2.11it/s]\u001b[32m [repeated 10x across cluster]\u001b[0m\n",
      "Val Epoch:13: 106it [00:55,  1.13it/s]\u001b[32m [repeated 8x across cluster]\u001b[0m\n"
     ]
    },
    {
     "name": "stdout",
     "output_type": "stream",
     "text": [
      "\u001b[36m(tune_with_parameters pid=3287706)\u001b[0m loss: 0.651\n",
      "\u001b[36m(tune_with_parameters pid=3287703)\u001b[0m loss: 0.654\n",
      "\u001b[36m(tune_with_parameters pid=3287704)\u001b[0m loss: 0.657\n",
      "\u001b[36m(tune_with_parameters pid=3287705)\u001b[0m loss: 0.653\n",
      "\u001b[36m(tune_with_parameters pid=3287706)\u001b[0m loss: 0.658\n",
      "\u001b[36m(tune_with_parameters pid=3287703)\u001b[0m loss: 0.654\n"
     ]
    },
    {
     "name": "stderr",
     "output_type": "stream",
     "text": [
      "Val Epoch:11: 0it [00:00, ?it/s]287703)\u001b[0m \n",
      "Val Epoch:13: 110it [00:57,  1.90it/s]\u001b[32m [repeated 4x across cluster]\u001b[0m\n"
     ]
    },
    {
     "name": "stdout",
     "output_type": "stream",
     "text": [
      "\u001b[36m(tune_with_parameters pid=3287704)\u001b[0m loss: 0.657\n"
     ]
    },
    {
     "name": "stderr",
     "output_type": "stream",
     "text": [
      "Val Epoch:11: 1it [00:05,  5.15s/it]03)\u001b[0m \n",
      "Val Epoch:11: 2it [00:07,  3.28s/it]03)\u001b[0m \n"
     ]
    },
    {
     "name": "stdout",
     "output_type": "stream",
     "text": [
      "\u001b[36m(tune_with_parameters pid=3287705)\u001b[0m loss: 0.652\n"
     ]
    },
    {
     "name": "stderr",
     "output_type": "stream",
     "text": [
      "Val Epoch:11: 3it [00:07,  2.12s/it]03)\u001b[0m \n",
      "Val Epoch:11: 5it [00:08,  1.04s/it]03)\u001b[0m \n",
      "Val Epoch:11: 6it [00:08,  1.27it/s]03)\u001b[0m \n",
      "Val Epoch:11: 7it [00:08,  1.67it/s]03)\u001b[0m \n",
      "Val Epoch:11: 8it [00:08,  1.86it/s]03)\u001b[0m \n",
      "Val Epoch:11: 9it [00:09,  2.18it/s]03)\u001b[0m \n",
      "Val Epoch:11: 10it [00:09,  2.29it/s]3)\u001b[0m \n",
      "Val Epoch:11: 11it [00:09,  2.81it/s]3)\u001b[0m \n",
      "Val Epoch:11: 13it [00:10,  4.08it/s]3)\u001b[0m \n",
      "Val Epoch:11: 15it [00:10,  5.81it/s]3)\u001b[0m \n",
      "Val Epoch:11: 16it [00:10,  5.12it/s]3)\u001b[0m \n",
      "Val Epoch:11: 17it [00:10,  4.13it/s]3)\u001b[0m \n",
      "Val Epoch:11: 18it [00:13,  1.23it/s]3)\u001b[0m \n",
      "Val Epoch:11: 19it [00:13,  1.43it/s]3)\u001b[0m \n",
      "Val Epoch:11: 20it [00:13,  1.78it/s]3)\u001b[0m \n",
      "Val Epoch:11: 21it [00:14,  2.22it/s]3)\u001b[0m \n",
      "Val Epoch:11: 22it [00:14,  2.66it/s]3)\u001b[0m \n",
      "Val Epoch:11: 23it [00:14,  3.13it/s]3)\u001b[0m \n",
      "Val Epoch:11: 24it [00:14,  3.24it/s]3)\u001b[0m \n",
      "Val Epoch:11: 25it [00:15,  2.67it/s]3)\u001b[0m \n",
      "Val Epoch:11: 26it [00:17,  1.14it/s]3)\u001b[0m \n",
      "Val Epoch:11: 27it [00:17,  1.38it/s]3)\u001b[0m \n",
      "Val Epoch:11: 28it [00:17,  1.69it/s]3)\u001b[0m \n",
      "Val Epoch:11: 29it [00:18,  2.20it/s]3)\u001b[0m \n",
      "Val Epoch:11: 30it [00:18,  2.73it/s]3)\u001b[0m \n",
      "Val Epoch:11: 31it [00:18,  3.30it/s]3)\u001b[0m \n",
      "Val Epoch:11: 32it [00:18,  3.05it/s]3)\u001b[0m \n",
      "Val Epoch:11: 33it [00:19,  1.75it/s]3)\u001b[0m \n",
      "Val Epoch:11: 34it [00:21,  1.16it/s]3)\u001b[0m \n",
      "Val Epoch:11: 36it [00:22,  1.58it/s]3)\u001b[0m \n",
      "Val Epoch:11: 37it [00:22,  2.04it/s]3)\u001b[0m \n",
      "Val Epoch:11: 38it [00:22,  2.50it/s]3)\u001b[0m \n",
      "Val Epoch:11: 39it [00:22,  3.00it/s]3)\u001b[0m \n",
      "Val Epoch:11: 40it [00:23,  2.42it/s]3)\u001b[0m \n",
      "Val Epoch:11: 41it [00:23,  2.45it/s]3)\u001b[0m \n",
      "Val Epoch:11: 42it [00:25,  1.21it/s]3)\u001b[0m \n",
      "Val Epoch:11: 43it [00:26,  1.13it/s]3)\u001b[0m \n",
      "Val Epoch:11: 44it [00:26,  1.45it/s]3)\u001b[0m \n",
      "Val Epoch:11: 45it [00:27,  1.86it/s]3)\u001b[0m \n",
      "Val Epoch:11: 46it [00:27,  2.30it/s]3)\u001b[0m \n",
      "Val Epoch:11: 48it [00:27,  3.15it/s]3)\u001b[0m \n",
      "Val Epoch:11: 49it [00:28,  2.23it/s]3)\u001b[0m \n",
      "Val Epoch:11: 50it [00:30,  1.04it/s]3)\u001b[0m \n",
      "Val Epoch:11: 51it [00:31,  1.15it/s]3)\u001b[0m \n",
      "Val Epoch:11: 53it [00:32,  1.72it/s]3)\u001b[0m \n",
      "Val Epoch:11: 54it [00:32,  2.14it/s]3)\u001b[0m \n",
      "Val Epoch:11: 55it [00:32,  2.50it/s]3)\u001b[0m \n",
      "Val Epoch:11: 56it [00:32,  2.72it/s]3)\u001b[0m \n",
      "Val Epoch:11: 57it [00:32,  2.70it/s]3)\u001b[0m \n",
      "Val Epoch:11: 58it [00:35,  1.11it/s]3)\u001b[0m \n",
      "Val Epoch:11: 59it [00:35,  1.30it/s]3)\u001b[0m \n",
      "Val Epoch:11: 60it [00:35,  1.65it/s]3)\u001b[0m \n",
      "Val Epoch:11: 62it [00:36,  2.62it/s]3)\u001b[0m \n",
      "Val Epoch:11: 63it [00:36,  3.04it/s]3)\u001b[0m \n",
      "Val Epoch:11: 64it [00:36,  3.30it/s]3)\u001b[0m \n",
      "Val Epoch:11: 65it [00:36,  3.60it/s]3)\u001b[0m \n"
     ]
    },
    {
     "name": "stdout",
     "output_type": "stream",
     "text": [
      "\u001b[36m(tune_with_parameters pid=3287706)\u001b[0m loss: 0.657\n"
     ]
    },
    {
     "name": "stderr",
     "output_type": "stream",
     "text": [
      "Val Epoch:11: 66it [00:38,  1.26it/s]3)\u001b[0m \n",
      "Val Epoch:11: 67it [00:39,  1.57it/s]3)\u001b[0m \n",
      "Val Epoch:11: 70it [00:39,  3.23it/s]3)\u001b[0m \n",
      "Val Epoch:11: 71it [00:39,  3.72it/s]3)\u001b[0m \n",
      "Val Epoch:11: 72it [00:39,  3.90it/s]3)\u001b[0m \n",
      "Val Epoch:11: 73it [00:39,  3.22it/s]3)\u001b[0m \n",
      "Val Epoch:11: 74it [00:40,  2.81it/s]3)\u001b[0m \n",
      "Val Epoch:11: 76it [00:41,  3.18it/s]3)\u001b[0m \n",
      "Val Epoch:11: 78it [00:41,  3.23it/s]3)\u001b[0m \n",
      "Val Epoch:11: 79it [00:42,  2.95it/s]3)\u001b[0m \n",
      "Val Epoch:11: 80it [00:42,  2.41it/s]3)\u001b[0m \n",
      "Val Epoch:11: 81it [00:43,  1.62it/s]3)\u001b[0m \n",
      "Val Epoch:11: 82it [00:44,  1.44it/s]3)\u001b[0m \n",
      "Val Epoch:11: 83it [00:45,  1.70it/s]3)\u001b[0m \n",
      "Val Epoch:11: 84it [00:45,  1.92it/s]3)\u001b[0m \n",
      "Val Epoch:11: 85it [00:46,  1.41it/s]3)\u001b[0m \n",
      "Val Epoch:11: 88it [00:47,  1.97it/s]3)\u001b[0m \n",
      "Val Epoch:11: 89it [00:48,  1.65it/s]3)\u001b[0m \n",
      "Val Epoch:11: 90it [00:49,  1.65it/s]3)\u001b[0m \n",
      "Val Epoch:11: 91it [00:49,  1.97it/s]3)\u001b[0m \n",
      "Val Epoch:11: 92it [00:49,  2.47it/s]3)\u001b[0m \n",
      "Val Epoch:11: 93it [00:49,  2.42it/s]3)\u001b[0m \n",
      "Val Epoch:11: 94it [00:51,  1.66it/s]3)\u001b[0m \n",
      "Val Epoch:11: 95it [00:51,  2.11it/s]3)\u001b[0m \n",
      "Val Epoch:11: 96it [00:51,  1.77it/s]3)\u001b[0m \n",
      "Val Epoch:11: 97it [00:52,  1.63it/s]3)\u001b[0m \n",
      "Val Epoch:11: 98it [00:53,  1.40it/s]3)\u001b[0m \n",
      "Val Epoch:11: 99it [00:53,  1.73it/s]3)\u001b[0m \n",
      "Val Epoch:11: 100it [00:54,  2.17it/s])\u001b[0m \n",
      "Val Epoch:11: 101it [00:54,  1.95it/s])\u001b[0m \n",
      "Val Epoch:11: 103it [00:55,  2.84it/s])\u001b[0m \n",
      "Val Epoch:11: 104it [00:56,  1.86it/s])\u001b[0m \n",
      "Val Epoch:11: 105it [00:56,  2.07it/s])\u001b[0m \n",
      "Val Epoch:11: 106it [00:56,  2.06it/s])\u001b[0m \n",
      "Val Epoch:11: 107it [00:57,  2.50it/s])\u001b[0m \n",
      "Val Epoch:11: 108it [00:57,  2.51it/s])\u001b[0m \n",
      "Val Epoch:11: 109it [00:57,  2.53it/s])\u001b[0m \n",
      "Val Epoch:11: 110it [00:59,  1.85it/s])\u001b[0m \n"
     ]
    },
    {
     "name": "stdout",
     "output_type": "stream",
     "text": [
      "\u001b[36m(tune_with_parameters pid=3287703)\u001b[0m loss: 0.651\n",
      "\u001b[36m(tune_with_parameters pid=3287705)\u001b[0m loss: 0.652\n",
      "\u001b[36m(tune_with_parameters pid=3287704)\u001b[0m loss: 0.657\n",
      "\u001b[36m(tune_with_parameters pid=3287706)\u001b[0m loss: 0.657\n",
      "\u001b[36m(tune_with_parameters pid=3287703)\u001b[0m loss: 0.653\n"
     ]
    },
    {
     "name": "stderr",
     "output_type": "stream",
     "text": [
      "Val Epoch:11: 0it [00:00, ?it/s]287704)\u001b[0m \n",
      "Val Epoch:11: 1it [00:07,  7.25s/it]04)\u001b[0m \n",
      "Val Epoch:11: 2it [00:07,  3.37s/it]04)\u001b[0m \n",
      "Val Epoch:11: 4it [00:08,  1.23s/it]04)\u001b[0m \n",
      "Val Epoch:11: 5it [00:08,  1.16it/s]04)\u001b[0m \n",
      "Val Epoch:11: 6it [00:08,  1.55it/s]04)\u001b[0m \n",
      "Val Epoch:11: 7it [00:09,  1.60it/s]04)\u001b[0m \n",
      "Val Epoch:11: 8it [00:09,  2.00it/s]04)\u001b[0m \n"
     ]
    },
    {
     "name": "stdout",
     "output_type": "stream",
     "text": [
      "\u001b[36m(tune_with_parameters pid=3287705)\u001b[0m loss: 0.651\n"
     ]
    },
    {
     "name": "stderr",
     "output_type": "stream",
     "text": [
      "Val Epoch:11: 9it [00:12,  1.37s/it]04)\u001b[0m \n",
      "Val Epoch:11: 10it [00:13,  1.17s/it]4)\u001b[0m \n",
      "Val Epoch:11: 11it [00:13,  1.12it/s]4)\u001b[0m \n",
      "Val Epoch:11: 12it [00:13,  1.49it/s]4)\u001b[0m \n",
      "Val Epoch:11: 13it [00:14,  1.89it/s]4)\u001b[0m \n",
      "Val Epoch:11: 15it [00:14,  2.31it/s]4)\u001b[0m \n",
      "Val Epoch:11: 16it [00:14,  2.75it/s]4)\u001b[0m \n",
      "Val Epoch:11: 17it [00:18,  1.20s/it]4)\u001b[0m \n",
      "Val Epoch:11: 18it [00:18,  1.05it/s]4)\u001b[0m \n",
      "Val Epoch:11: 21it [00:19,  2.04it/s]4)\u001b[0m \n",
      "Val Epoch:11: 23it [00:19,  2.85it/s]4)\u001b[0m \n",
      "Val Epoch:11: 24it [00:19,  3.16it/s]4)\u001b[0m \n",
      "Val Epoch:11: 25it [00:21,  1.51it/s]4)\u001b[0m \n",
      "Val Epoch:11: 26it [00:22,  1.38it/s]4)\u001b[0m \n",
      "Val Epoch:11: 29it [00:22,  2.29it/s]4)\u001b[0m \n",
      "Val Epoch:11: 31it [00:23,  2.77it/s]4)\u001b[0m \n",
      "Val Epoch:11: 32it [00:23,  3.03it/s]4)\u001b[0m \n",
      "Val Epoch:11: 33it [00:27,  1.17s/it]4)\u001b[0m \n",
      "Val Epoch:11: 34it [00:28,  1.10s/it]4)\u001b[0m \n",
      "Val Epoch:11: 35it [00:28,  1.15it/s]4)\u001b[0m \n",
      "Val Epoch:11: 36it [00:28,  1.45it/s]4)\u001b[0m \n",
      "Val Epoch:11: 37it [00:29,  1.79it/s]4)\u001b[0m \n",
      "Val Epoch:11: 38it [00:29,  2.21it/s]4)\u001b[0m \n",
      "Val Epoch:11: 40it [00:29,  3.32it/s]4)\u001b[0m \n",
      "Val Epoch:11: 41it [00:32,  1.07it/s]4)\u001b[0m \n",
      "Val Epoch:11: 42it [00:33,  1.14it/s]4)\u001b[0m \n",
      "Val Epoch:11: 43it [00:33,  1.39it/s]4)\u001b[0m \n",
      "Val Epoch:11: 44it [00:33,  1.73it/s]4)\u001b[0m \n",
      "Val Epoch:11: 45it [00:33,  2.14it/s]4)\u001b[0m \n",
      "Val Epoch:11: 46it [00:33,  2.54it/s]4)\u001b[0m \n",
      "Val Epoch:11: 48it [00:34,  3.67it/s]4)\u001b[0m \n",
      "Val Epoch:11: 49it [00:37,  1.10s/it]4)\u001b[0m \n"
     ]
    },
    {
     "name": "stdout",
     "output_type": "stream",
     "text": [
      "\u001b[36m(tune_with_parameters pid=3287706)\u001b[0m loss: 0.657\n"
     ]
    },
    {
     "name": "stderr",
     "output_type": "stream",
     "text": [
      "Val Epoch:11: 50it [00:39,  1.12s/it]4)\u001b[0m \n",
      "Val Epoch:11: 51it [00:39,  1.10it/s]4)\u001b[0m \n",
      "Val Epoch:11: 52it [00:39,  1.41it/s]4)\u001b[0m \n",
      "Val Epoch:11: 53it [00:39,  1.76it/s]4)\u001b[0m \n",
      "Val Epoch:11: 55it [00:40,  2.77it/s]4)\u001b[0m \n",
      "Val Epoch:11: 56it [00:40,  2.78it/s]4)\u001b[0m \n",
      "Val Epoch:11: 57it [00:44,  1.29s/it]4)\u001b[0m \n",
      "Val Epoch:11: 59it [00:44,  1.20it/s]4)\u001b[0m \n",
      "Val Epoch:11: 60it [00:44,  1.48it/s]4)\u001b[0m \n",
      "Val Epoch:11: 61it [00:45,  1.82it/s]4)\u001b[0m \n",
      "Val Epoch:11: 63it [00:45,  2.45it/s]4)\u001b[0m \n",
      "Val Epoch:11: 65it [00:49,  1.10it/s]4)\u001b[0m \n",
      "Val Epoch:11: 69it [00:49,  2.19it/s]4)\u001b[0m \n",
      "Val Epoch:11: 71it [00:49,  2.59it/s]4)\u001b[0m \n",
      "Val Epoch:11: 73it [00:52,  1.57it/s]4)\u001b[0m \n",
      "Val Epoch:11: 75it [00:52,  2.03it/s]4)\u001b[0m \n",
      "Val Epoch:11: 76it [00:52,  2.29it/s]4)\u001b[0m \n",
      "Val Epoch:11: 77it [00:52,  2.64it/s]4)\u001b[0m \n",
      "Val Epoch:11: 78it [00:52,  3.10it/s]4)\u001b[0m \n",
      "Val Epoch:11: 79it [00:53,  3.15it/s]4)\u001b[0m \n",
      "Val Epoch:11: 81it [00:58,  1.21s/it]4)\u001b[0m \n",
      "Val Epoch:11: 82it [00:58,  1.02it/s]4)\u001b[0m \n",
      "Val Epoch:11: 83it [00:58,  1.27it/s]4)\u001b[0m \n",
      "Val Epoch:11: 84it [00:58,  1.56it/s]4)\u001b[0m \n",
      "Val Epoch:11: 85it [00:58,  1.87it/s]4)\u001b[0m \n",
      "Val Epoch:11: 88it [00:59,  2.68it/s]4)\u001b[0m \n",
      "Val Epoch:13: 0it [00:00, ?it/s]287705)\u001b[0m \n",
      "Val Epoch:11: 89it [01:05,  1.70s/it]4)\u001b[0m \n",
      "Val Epoch:11: 90it [01:05,  1.31s/it]4)\u001b[0m \n",
      "Val Epoch:11: 91it [01:05,  1.03s/it]4)\u001b[0m \n",
      "Val Epoch:11: 93it [01:06,  1.49it/s]4)\u001b[0m \n",
      "Val Epoch:11: 94it [01:06,  1.68it/s]4)\u001b[0m \n",
      "Val Epoch:11: 96it [01:06,  2.45it/s]4)\u001b[0m \n",
      "Val Epoch:11: 97it [01:10,  1.21s/it]4)\u001b[0m \n",
      "Val Epoch:13: 1it [00:07,  7.01s/it]05)\u001b[0m \n",
      "Val Epoch:11: 106it [01:15,  1.17it/s])\u001b[0m \n",
      "Val Epoch:13: 16it [00:12,  4.17it/s]\u001b[32m [repeated 23x across cluster]\u001b[0m\n"
     ]
    },
    {
     "name": "stdout",
     "output_type": "stream",
     "text": [
      "\u001b[36m(tune_with_parameters pid=3287703)\u001b[0m loss: 0.654\n"
     ]
    },
    {
     "name": "stderr",
     "output_type": "stream",
     "text": [
      "Val Epoch:13: 33it [00:19,  1.93it/s]\u001b[32m [repeated 11x across cluster]\u001b[0m\n",
      "Val Epoch:13: 42it [00:25,  1.32it/s]\u001b[32m [repeated 7x across cluster]\u001b[0m\n",
      "Val Epoch:13: 44it [00:26,  1.64it/s]5)\u001b[0m \n",
      "Val Epoch:14: 0it [00:00, ?it/s]287706)\u001b[0m \n",
      "Val Epoch:13: 51it [00:30,  1.33it/s]\u001b[32m [repeated 6x across cluster]\u001b[0m\n"
     ]
    },
    {
     "name": "stdout",
     "output_type": "stream",
     "text": [
      "\u001b[36m(tune_with_parameters pid=3287704)\u001b[0m loss: 0.655\n"
     ]
    },
    {
     "name": "stderr",
     "output_type": "stream",
     "text": [
      "Val Epoch:13: 62it [00:35,  2.59it/s]\u001b[32m [repeated 18x across cluster]\u001b[0m\n",
      "Val Epoch:13: 73it [00:41,  1.52it/s]\u001b[32m [repeated 16x across cluster]\u001b[0m\n",
      "Val Epoch:13: 89it [00:46,  4.40it/s]\u001b[32m [repeated 24x across cluster]\u001b[0m\n",
      "Val Epoch:13: 98it [00:51,  1.38it/s]\u001b[32m [repeated 16x across cluster]\u001b[0m\n",
      "Val Epoch:14: 55it [00:29,  3.24it/s]\u001b[32m [repeated 21x across cluster]\u001b[0m\n",
      "Val Epoch:14: 65it [00:37,  1.11it/s]\u001b[32m [repeated 9x across cluster]\u001b[0m\n",
      "Val Epoch:14: 74it [00:42,  1.42it/s]\u001b[32m [repeated 9x across cluster]\u001b[0m\n"
     ]
    },
    {
     "name": "stdout",
     "output_type": "stream",
     "text": [
      "\u001b[36m(tune_with_parameters pid=3287705)\u001b[0m loss: 0.660\n"
     ]
    },
    {
     "name": "stderr",
     "output_type": "stream",
     "text": [
      "Val Epoch:14: 89it [00:48,  2.10it/s]\u001b[32m [repeated 9x across cluster]\u001b[0m\n",
      "Val Epoch:14: 105it [00:54,  2.01it/s]\u001b[32m [repeated 9x across cluster]\u001b[0m\n"
     ]
    },
    {
     "name": "stdout",
     "output_type": "stream",
     "text": [
      "\u001b[36m(tune_with_parameters pid=3287706)\u001b[0m loss: 0.664\n",
      "\u001b[36m(tune_with_parameters pid=3287703)\u001b[0m loss: 0.653\n",
      "\u001b[36m(tune_with_parameters pid=3287704)\u001b[0m loss: 0.657\n",
      "\u001b[36m(tune_with_parameters pid=3287705)\u001b[0m loss: 0.649\n",
      "\u001b[36m(tune_with_parameters pid=3287706)\u001b[0m loss: 0.657\n",
      "\u001b[36m(tune_with_parameters pid=3287703)\u001b[0m loss: 0.653\n",
      "\u001b[36m(tune_with_parameters pid=3287705)\u001b[0m loss: 0.649\n"
     ]
    },
    {
     "name": "stderr",
     "output_type": "stream",
     "text": [
      "Val Epoch:12: 0it [00:00, ?it/s]287703)\u001b[0m \n",
      "Val Epoch:14: 110it [00:56,  1.93it/s]\u001b[32m [repeated 5x across cluster]\u001b[0m\n"
     ]
    },
    {
     "name": "stdout",
     "output_type": "stream",
     "text": [
      "\u001b[36m(tune_with_parameters pid=3287704)\u001b[0m loss: 0.657\n"
     ]
    },
    {
     "name": "stderr",
     "output_type": "stream",
     "text": [
      "Val Epoch:12: 16it [00:05,  5.98it/s]\u001b[32m [repeated 10x across cluster]\u001b[0m\n",
      "Val Epoch:12: 34it [00:10,  2.36it/s]\u001b[32m [repeated 13x across cluster]\u001b[0m\n",
      "Val Epoch:12: 44it [00:16,  1.32it/s]\u001b[32m [repeated 10x across cluster]\u001b[0m\n"
     ]
    },
    {
     "name": "stdout",
     "output_type": "stream",
     "text": [
      "\u001b[36m(tune_with_parameters pid=3287706)\u001b[0m loss: 0.657\n"
     ]
    },
    {
     "name": "stderr",
     "output_type": "stream",
     "text": [
      "Val Epoch:12: 54it [00:21,  1.81it/s]3)\u001b[0m \n",
      "Val Epoch:12: 52it [00:20,  1.23it/s]\u001b[32m [repeated 6x across cluster]\u001b[0m\n",
      "Val Epoch:12: 65it [00:27,  1.78it/s]\u001b[32m [repeated 10x across cluster]\u001b[0m\n",
      "Val Epoch:12: 76it [00:33,  1.31it/s]\u001b[32m [repeated 9x across cluster]\u001b[0m\n",
      "Val Epoch:12: 92it [00:38,  3.89it/s]\u001b[32m [repeated 12x across cluster]\u001b[0m\n",
      "Val Epoch:12: 102it [00:43,  2.54it/s])\u001b[0m \n",
      "Val Epoch:12: 100it [00:43,  2.40it/s]\u001b[32m [repeated 7x across cluster]\u001b[0m\n"
     ]
    },
    {
     "name": "stdout",
     "output_type": "stream",
     "text": [
      "\u001b[36m(tune_with_parameters pid=3287703)\u001b[0m loss: 0.658\n",
      "\u001b[36m(tune_with_parameters pid=3287705)\u001b[0m loss: 0.649\n",
      "\u001b[36m(tune_with_parameters pid=3287706)\u001b[0m loss: 0.657\n",
      "\u001b[36m(tune_with_parameters pid=3287704)\u001b[0m loss: 0.657\n",
      "\u001b[36m(tune_with_parameters pid=3287703)\u001b[0m loss: 0.653\n",
      "\u001b[36m(tune_with_parameters pid=3287705)\u001b[0m loss: 0.649\n",
      "\u001b[36m(tune_with_parameters pid=3287706)\u001b[0m loss: 0.657\n"
     ]
    },
    {
     "name": "stderr",
     "output_type": "stream",
     "text": [
      "Val Epoch:14: 0it [00:00, ?it/s]287705)\u001b[0m \n",
      "Val Epoch:12: 110it [00:48,  2.26it/s]\u001b[32m [repeated 9x across cluster]\u001b[0m\n",
      "Val Epoch:14: 1it [00:06,  6.84s/it]05)\u001b[0m \n",
      "Val Epoch:14: 2it [00:07,  3.07s/it]05)\u001b[0m \n",
      "Val Epoch:14: 3it [00:07,  1.87s/it]05)\u001b[0m \n",
      "Val Epoch:14: 4it [00:07,  1.20s/it]05)\u001b[0m \n",
      "Val Epoch:14: 5it [00:08,  1.18it/s]05)\u001b[0m \n",
      "Val Epoch:14: 7it [00:08,  2.11it/s]05)\u001b[0m \n",
      "Val Epoch:14: 8it [00:08,  2.49it/s]05)\u001b[0m \n",
      "Val Epoch:14: 9it [00:10,  1.06it/s]05)\u001b[0m \n",
      "Val Epoch:14: 10it [00:11,  1.29it/s]5)\u001b[0m \n",
      "Val Epoch:14: 11it [00:11,  1.65it/s]5)\u001b[0m \n",
      "Val Epoch:14: 12it [00:11,  1.69it/s]5)\u001b[0m \n",
      "Val Epoch:14: 13it [00:12,  2.17it/s]5)\u001b[0m \n",
      "Val Epoch:14: 14it [00:12,  2.75it/s]5)\u001b[0m \n",
      "Val Epoch:14: 16it [00:12,  3.33it/s]5)\u001b[0m \n",
      "Val Epoch:14: 17it [00:14,  1.76it/s]5)\u001b[0m \n",
      "Val Epoch:14: 18it [00:14,  1.75it/s]5)\u001b[0m \n",
      "Val Epoch:14: 19it [00:14,  2.01it/s]5)\u001b[0m \n",
      "Val Epoch:14: 20it [00:15,  2.41it/s]5)\u001b[0m \n",
      "Val Epoch:14: 23it [00:15,  4.74it/s]5)\u001b[0m \n",
      "Val Epoch:14: 25it [00:16,  3.55it/s]5)\u001b[0m \n",
      "Val Epoch:14: 26it [00:16,  3.71it/s]5)\u001b[0m \n",
      "Val Epoch:14: 27it [00:16,  3.98it/s]5)\u001b[0m \n",
      "Val Epoch:14: 28it [00:17,  1.88it/s]5)\u001b[0m \n",
      "Val Epoch:14: 29it [00:18,  2.31it/s]5)\u001b[0m \n",
      "Val Epoch:14: 30it [00:18,  2.70it/s]5)\u001b[0m \n",
      "Val Epoch:14: 31it [00:18,  3.16it/s]5)\u001b[0m \n",
      "Val Epoch:14: 32it [00:18,  3.76it/s]5)\u001b[0m \n"
     ]
    },
    {
     "name": "stdout",
     "output_type": "stream",
     "text": [
      "\u001b[36m(tune_with_parameters pid=3287704)\u001b[0m loss: 0.657\n"
     ]
    },
    {
     "name": "stderr",
     "output_type": "stream",
     "text": [
      "Val Epoch:14: 33it [00:19,  1.80it/s]5)\u001b[0m \n",
      "Val Epoch:14: 34it [00:20,  2.22it/s]5)\u001b[0m \n",
      "Val Epoch:14: 35it [00:20,  2.81it/s]5)\u001b[0m \n",
      "Val Epoch:14: 36it [00:21,  1.49it/s]5)\u001b[0m \n",
      "Val Epoch:14: 37it [00:21,  1.92it/s]5)\u001b[0m \n",
      "Val Epoch:14: 39it [00:22,  3.03it/s]5)\u001b[0m \n",
      "Val Epoch:14: 40it [00:22,  3.38it/s]5)\u001b[0m \n",
      "Val Epoch:14: 41it [00:23,  1.99it/s]5)\u001b[0m \n",
      "Val Epoch:14: 42it [00:23,  2.48it/s]5)\u001b[0m \n",
      "Val Epoch:14: 43it [00:23,  3.09it/s]5)\u001b[0m \n",
      "Val Epoch:14: 44it [00:25,  1.29it/s]5)\u001b[0m \n",
      "Val Epoch:14: 45it [00:25,  1.66it/s]5)\u001b[0m \n",
      "Val Epoch:14: 46it [00:25,  2.16it/s]5)\u001b[0m \n",
      "Val Epoch:14: 47it [00:25,  2.72it/s]5)\u001b[0m \n",
      "Val Epoch:14: 48it [00:26,  2.31it/s]5)\u001b[0m \n",
      "Val Epoch:14: 49it [00:27,  1.47it/s]5)\u001b[0m \n",
      "Val Epoch:14: 51it [00:27,  2.47it/s]5)\u001b[0m \n",
      "Val Epoch:14: 52it [00:28,  2.05it/s]5)\u001b[0m \n",
      "Val Epoch:14: 53it [00:28,  2.45it/s]5)\u001b[0m \n",
      "Val Epoch:14: 54it [00:29,  2.83it/s]5)\u001b[0m \n",
      "Val Epoch:14: 55it [00:29,  3.43it/s]5)\u001b[0m \n",
      "Val Epoch:14: 56it [00:29,  2.43it/s]5)\u001b[0m \n",
      "Val Epoch:14: 57it [00:30,  1.84it/s]5)\u001b[0m \n",
      "Val Epoch:14: 58it [00:31,  2.05it/s]5)\u001b[0m \n",
      "Val Epoch:14: 59it [00:31,  2.29it/s]5)\u001b[0m \n",
      "Val Epoch:14: 60it [00:33,  1.26it/s]5)\u001b[0m \n",
      "Val Epoch:14: 61it [00:33,  1.61it/s]5)\u001b[0m \n",
      "Val Epoch:14: 62it [00:33,  2.10it/s]5)\u001b[0m \n",
      "Val Epoch:14: 63it [00:33,  2.32it/s]5)\u001b[0m \n",
      "Val Epoch:14: 64it [00:34,  2.06it/s]5)\u001b[0m \n"
     ]
    },
    {
     "name": "stdout",
     "output_type": "stream",
     "text": [
      "\u001b[36m(tune_with_parameters pid=3287703)\u001b[0m loss: 0.653\n"
     ]
    },
    {
     "name": "stderr",
     "output_type": "stream",
     "text": [
      "Val Epoch:14: 66it [00:36,  1.27it/s]5)\u001b[0m \n",
      "Val Epoch:14: 67it [00:37,  1.42it/s]5)\u001b[0m \n",
      "Val Epoch:14: 68it [00:38,  1.03it/s]5)\u001b[0m \n",
      "Val Epoch:14: 69it [00:39,  1.37it/s]5)\u001b[0m \n",
      "Val Epoch:14: 71it [00:39,  2.36it/s]5)\u001b[0m \n",
      "Val Epoch:14: 72it [00:39,  2.06it/s]5)\u001b[0m \n",
      "Val Epoch:14: 73it [00:41,  1.17it/s]5)\u001b[0m \n",
      "Val Epoch:14: 74it [00:41,  1.49it/s]5)\u001b[0m \n",
      "Val Epoch:15: 0it [00:00, ?it/s]287706)\u001b[0m \n",
      "Val Epoch:14: 75it [00:42,  1.88it/s]5)\u001b[0m \n",
      "Val Epoch:14: 76it [00:43,  1.35it/s]5)\u001b[0m \n",
      "Val Epoch:14: 77it [00:43,  1.68it/s]5)\u001b[0m \n",
      "Val Epoch:14: 79it [00:43,  2.75it/s]5)\u001b[0m \n",
      "Val Epoch:14: 80it [00:44,  2.55it/s]5)\u001b[0m \n",
      "Val Epoch:14: 81it [00:45,  2.00it/s]5)\u001b[0m \n",
      "Val Epoch:14: 92it [00:48,  2.27it/s]\u001b[32m [repeated 15x across cluster]\u001b[0m\n",
      "Val Epoch:15: 22it [00:11,  3.49it/s]6)\u001b[0m \n",
      "Val Epoch:14: 101it [00:53,  1.73it/s]\u001b[32m [repeated 19x across cluster]\u001b[0m\n",
      "Val Epoch:15: 28it [00:15,  1.54it/s]6)\u001b[0m \n",
      "Val Epoch:14: 110it [00:59,  1.86it/s]\u001b[32m [repeated 13x across cluster]\u001b[0m\n",
      "Val Epoch:15: 42it [00:22,  1.54it/s]\u001b[32m [repeated 8x across cluster]\u001b[0m\n",
      "Val Epoch:15: 49it [00:27,  1.15it/s]\u001b[32m [repeated 6x across cluster]\u001b[0m\n",
      "Val Epoch:15: 65it [00:33,  3.59it/s]\u001b[32m [repeated 12x across cluster]\u001b[0m\n"
     ]
    },
    {
     "name": "stdout",
     "output_type": "stream",
     "text": [
      "\u001b[36m(tune_with_parameters pid=3287705)\u001b[0m loss: 0.665\n"
     ]
    },
    {
     "name": "stderr",
     "output_type": "stream",
     "text": [
      "Val Epoch:15: 77it [00:38,  2.65it/s]\u001b[32m [repeated 9x across cluster]\u001b[0m\n",
      "Val Epoch:15: 85it [00:43,  2.34it/s]\u001b[32m [repeated 8x across cluster]\u001b[0m\n",
      "Val Epoch:12: 0it [00:00, ?it/s]287704)\u001b[0m \n",
      "Val Epoch:15: 94it [00:48,  2.60it/s]6)\u001b[0m \n",
      "Val Epoch:15: 92it [00:48,  1.92it/s]\u001b[32m [repeated 6x across cluster]\u001b[0m\n",
      "Val Epoch:12: 3it [00:07,  1.96s/it]\u001b[32m [repeated 12x across cluster]\u001b[0m\n",
      "Val Epoch:12: 13it [00:12,  1.55it/s]\u001b[32m [repeated 14x across cluster]\u001b[0m\n",
      "Val Epoch:12: 25it [00:20,  1.10it/s]\u001b[32m [repeated 10x across cluster]\u001b[0m\n",
      "Val Epoch:12: 34it [00:26,  1.11s/it]\u001b[32m [repeated 9x across cluster]\u001b[0m\n"
     ]
    },
    {
     "name": "stdout",
     "output_type": "stream",
     "text": [
      "\u001b[36m(tune_with_parameters pid=3287706)\u001b[0m loss: 0.660\n"
     ]
    },
    {
     "name": "stderr",
     "output_type": "stream",
     "text": [
      "Val Epoch:12: 42it [00:33,  1.50s/it]\u001b[32m [repeated 7x across cluster]\u001b[0m\n",
      "Val Epoch:12: 53it [00:39,  1.45it/s]\u001b[32m [repeated 11x across cluster]\u001b[0m\n",
      "Val Epoch:12: 63it [00:45,  2.23it/s]\u001b[32m [repeated 8x across cluster]\u001b[0m\n"
     ]
    },
    {
     "name": "stdout",
     "output_type": "stream",
     "text": [
      "\u001b[36m(tune_with_parameters pid=3287703)\u001b[0m loss: 0.653\n"
     ]
    },
    {
     "name": "stderr",
     "output_type": "stream",
     "text": [
      "Val Epoch:12: 73it [00:50,  1.47it/s]\u001b[32m [repeated 6x across cluster]\u001b[0m\n",
      "Val Epoch:12: 81it [00:56,  1.11s/it]\u001b[32m [repeated 8x across cluster]\u001b[0m\n",
      "Val Epoch:12: 89it [01:02,  1.25s/it]\u001b[32m [repeated 8x across cluster]\u001b[0m\n",
      "Val Epoch:12: 97it [01:07,  1.16s/it]\u001b[32m [repeated 6x across cluster]\u001b[0m\n",
      "Val Epoch:12: 110it [01:13,  1.49it/s]\u001b[32m [repeated 9x across cluster]\u001b[0m\n"
     ]
    },
    {
     "name": "stdout",
     "output_type": "stream",
     "text": [
      "\u001b[36m(tune_with_parameters pid=3287705)\u001b[0m loss: 0.648\n",
      "\u001b[36m(tune_with_parameters pid=3287704)\u001b[0m loss: 0.657\n",
      "\u001b[36m(tune_with_parameters pid=3287706)\u001b[0m loss: 0.658\n",
      "\u001b[36m(tune_with_parameters pid=3287703)\u001b[0m loss: 0.653\n",
      "\u001b[36m(tune_with_parameters pid=3287705)\u001b[0m loss: 0.647\n"
     ]
    },
    {
     "name": "stderr",
     "output_type": "stream",
     "text": [
      "Val Epoch:13: 0it [00:00, ?it/s]287703)\u001b[0m \n",
      "Val Epoch:13: 1it [00:02,  2.65s/it]03)\u001b[0m \n",
      "Val Epoch:13: 2it [00:03,  1.31s/it]03)\u001b[0m \n",
      "Val Epoch:13: 5it [00:03,  2.44it/s]03)\u001b[0m \n",
      "Val Epoch:13: 7it [00:03,  3.76it/s]03)\u001b[0m \n",
      "Val Epoch:13: 9it [00:04,  2.64it/s]03)\u001b[0m \n",
      "Val Epoch:13: 11it [00:04,  3.70it/s]3)\u001b[0m \n",
      "Val Epoch:13: 13it [00:05,  3.88it/s]3)\u001b[0m \n",
      "Val Epoch:13: 15it [00:05,  5.16it/s]3)\u001b[0m \n",
      "Val Epoch:13: 17it [00:06,  3.53it/s]3)\u001b[0m \n",
      "Val Epoch:13: 18it [00:06,  2.77it/s]3)\u001b[0m \n",
      "Val Epoch:13: 21it [00:06,  4.50it/s]3)\u001b[0m \n",
      "Val Epoch:13: 23it [00:07,  5.27it/s]3)\u001b[0m \n",
      "Val Epoch:13: 25it [00:07,  4.27it/s]3)\u001b[0m \n"
     ]
    },
    {
     "name": "stdout",
     "output_type": "stream",
     "text": [
      "\u001b[36m(tune_with_parameters pid=3287704)\u001b[0m loss: 0.657\n"
     ]
    },
    {
     "name": "stderr",
     "output_type": "stream",
     "text": [
      "Val Epoch:13: 26it [00:08,  3.10it/s]3)\u001b[0m \n",
      "Val Epoch:13: 27it [00:08,  3.58it/s]3)\u001b[0m \n",
      "Val Epoch:13: 29it [00:08,  5.03it/s]3)\u001b[0m \n",
      "Val Epoch:13: 31it [00:08,  6.36it/s]3)\u001b[0m \n",
      "Val Epoch:13: 33it [00:09,  4.53it/s]3)\u001b[0m \n",
      "Val Epoch:13: 34it [00:10,  3.33it/s]3)\u001b[0m \n",
      "Val Epoch:13: 38it [00:10,  6.11it/s]3)\u001b[0m \n",
      "Val Epoch:13: 40it [00:10,  6.80it/s]3)\u001b[0m \n",
      "Val Epoch:13: 42it [00:11,  3.96it/s]3)\u001b[0m \n",
      "Val Epoch:13: 43it [00:11,  4.17it/s]3)\u001b[0m \n",
      "Val Epoch:13: 47it [00:12,  7.28it/s]3)\u001b[0m \n",
      "Val Epoch:13: 49it [00:13,  3.57it/s]3)\u001b[0m \n"
     ]
    },
    {
     "name": "stdout",
     "output_type": "stream",
     "text": [
      "\u001b[36m(tune_with_parameters pid=3287706)\u001b[0m loss: 0.658\n"
     ]
    },
    {
     "name": "stderr",
     "output_type": "stream",
     "text": [
      "Val Epoch:13: 51it [00:13,  3.89it/s]3)\u001b[0m \n",
      "Val Epoch:13: 52it [00:13,  4.15it/s]3)\u001b[0m \n",
      "Val Epoch:13: 53it [00:14,  4.62it/s]3)\u001b[0m \n",
      "Val Epoch:13: 55it [00:14,  5.74it/s]3)\u001b[0m \n",
      "Val Epoch:13: 57it [00:15,  3.22it/s]3)\u001b[0m \n",
      "Val Epoch:13: 58it [00:15,  3.22it/s]3)\u001b[0m \n",
      "Val Epoch:13: 59it [00:15,  3.73it/s]3)\u001b[0m \n",
      "Val Epoch:13: 60it [00:15,  4.32it/s]3)\u001b[0m \n",
      "Val Epoch:13: 61it [00:16,  4.72it/s]3)\u001b[0m \n",
      "Val Epoch:13: 64it [00:16,  7.54it/s]3)\u001b[0m \n",
      "Val Epoch:13: 66it [00:17,  3.52it/s]3)\u001b[0m \n",
      "Val Epoch:13: 69it [00:17,  5.26it/s]3)\u001b[0m \n",
      "Val Epoch:13: 71it [00:17,  6.07it/s]3)\u001b[0m \n",
      "Val Epoch:13: 73it [00:18,  3.59it/s]3)\u001b[0m \n",
      "Val Epoch:13: 76it [00:19,  5.17it/s]3)\u001b[0m \n",
      "Val Epoch:13: 78it [00:19,  5.74it/s]3)\u001b[0m \n",
      "Val Epoch:13: 80it [00:19,  6.97it/s]3)\u001b[0m \n",
      "Val Epoch:13: 82it [00:20,  3.81it/s]3)\u001b[0m \n",
      "Val Epoch:13: 83it [00:20,  3.86it/s]3)\u001b[0m \n",
      "Val Epoch:13: 85it [00:21,  4.94it/s]3)\u001b[0m \n",
      "Val Epoch:13: 88it [00:21,  6.87it/s]3)\u001b[0m \n",
      "Val Epoch:13: 90it [00:22,  3.46it/s]3)\u001b[0m \n",
      "Val Epoch:13: 92it [00:22,  4.27it/s]3)\u001b[0m \n",
      "Val Epoch:13: 93it [00:22,  4.52it/s]3)\u001b[0m \n",
      "Val Epoch:13: 95it [00:23,  5.43it/s]3)\u001b[0m \n",
      "Val Epoch:13: 97it [00:24,  3.58it/s]3)\u001b[0m \n",
      "Val Epoch:13: 99it [00:24,  4.58it/s]3)\u001b[0m \n",
      "Val Epoch:13: 100it [00:24,  5.06it/s])\u001b[0m \n",
      "Val Epoch:13: 103it [00:24,  6.92it/s])\u001b[0m \n",
      "Val Epoch:13: 105it [00:25,  3.96it/s])\u001b[0m \n",
      "Val Epoch:13: 107it [00:25,  5.17it/s])\u001b[0m \n",
      "Val Epoch:13: 109it [00:25,  5.53it/s])\u001b[0m \n",
      "Val Epoch:13: 110it [00:26,  4.13it/s])\u001b[0m \n"
     ]
    },
    {
     "name": "stdout",
     "output_type": "stream",
     "text": [
      "\u001b[36m(tune_with_parameters pid=3287703)\u001b[0m loss: 0.644\n",
      "\u001b[36m(tune_with_parameters pid=3287705)\u001b[0m loss: 0.646\n",
      "\u001b[36m(tune_with_parameters pid=3287706)\u001b[0m loss: 0.657\n",
      "\u001b[36m(tune_with_parameters pid=3287704)\u001b[0m loss: 0.658\n",
      "\u001b[36m(tune_with_parameters pid=3287703)\u001b[0m loss: 0.651\n",
      "\u001b[36m(tune_with_parameters pid=3287705)\u001b[0m loss: 0.646\n",
      "\u001b[36m(tune_with_parameters pid=3287706)\u001b[0m loss: 0.657\n"
     ]
    },
    {
     "name": "stderr",
     "output_type": "stream",
     "text": [
      "Val Epoch:15: 0it [00:00, ?it/s]287705)\u001b[0m \n",
      "Val Epoch:15: 1it [00:05,  5.20s/it]05)\u001b[0m \n",
      "Val Epoch:15: 2it [00:05,  2.41s/it]05)\u001b[0m \n",
      "Val Epoch:15: 3it [00:05,  1.45s/it]05)\u001b[0m \n",
      "Val Epoch:15: 4it [00:06,  1.05it/s]05)\u001b[0m \n",
      "Val Epoch:15: 5it [00:06,  1.47it/s]05)\u001b[0m \n",
      "Val Epoch:15: 6it [00:07,  1.47it/s]05)\u001b[0m \n",
      "Val Epoch:15: 7it [00:07,  1.59it/s]05)\u001b[0m \n",
      "Val Epoch:15: 8it [00:07,  2.08it/s]05)\u001b[0m \n",
      "Val Epoch:15: 9it [00:09,  1.12it/s]05)\u001b[0m \n",
      "Val Epoch:15: 10it [00:09,  1.42it/s]5)\u001b[0m \n",
      "Val Epoch:15: 11it [00:11,  1.02s/it]5)\u001b[0m \n",
      "Val Epoch:15: 12it [00:11,  1.31it/s]5)\u001b[0m \n",
      "Val Epoch:15: 13it [00:11,  1.65it/s]5)\u001b[0m \n",
      "Val Epoch:15: 14it [00:12,  2.10it/s]5)\u001b[0m \n",
      "Val Epoch:15: 15it [00:12,  2.23it/s]5)\u001b[0m \n",
      "Val Epoch:15: 16it [00:12,  2.68it/s]5)\u001b[0m \n",
      "Val Epoch:15: 17it [00:13,  1.79it/s]5)\u001b[0m \n",
      "Val Epoch:15: 18it [00:14,  1.89it/s]5)\u001b[0m \n",
      "Val Epoch:15: 19it [00:15,  1.24it/s]5)\u001b[0m \n",
      "Val Epoch:15: 20it [00:15,  1.50it/s]5)\u001b[0m \n",
      "Val Epoch:15: 21it [00:16,  1.95it/s]5)\u001b[0m \n",
      "Val Epoch:15: 22it [00:16,  2.37it/s]5)\u001b[0m \n",
      "Val Epoch:15: 23it [00:16,  2.99it/s]5)\u001b[0m \n",
      "Val Epoch:15: 24it [00:16,  3.49it/s]5)\u001b[0m \n",
      "Val Epoch:15: 25it [00:17,  2.53it/s]5)\u001b[0m \n",
      "Val Epoch:15: 26it [00:18,  1.75it/s]5)\u001b[0m \n",
      "Val Epoch:15: 27it [00:18,  2.18it/s]5)\u001b[0m \n",
      "Val Epoch:15: 28it [00:18,  2.70it/s]5)\u001b[0m \n",
      "Val Epoch:15: 29it [00:18,  3.11it/s]5)\u001b[0m \n",
      "Val Epoch:15: 30it [00:19,  3.45it/s]5)\u001b[0m \n",
      "Val Epoch:15: 31it [00:19,  3.33it/s]5)\u001b[0m \n",
      "Val Epoch:15: 32it [00:19,  3.84it/s]5)\u001b[0m \n",
      "Val Epoch:15: 33it [00:22,  1.00it/s]5)\u001b[0m \n",
      "Val Epoch:15: 34it [00:22,  1.20it/s]5)\u001b[0m \n",
      "Val Epoch:15: 35it [00:23,  1.32it/s]5)\u001b[0m \n",
      "Val Epoch:15: 36it [00:23,  1.72it/s]5)\u001b[0m \n",
      "Val Epoch:15: 37it [00:23,  2.23it/s]5)\u001b[0m \n",
      "Val Epoch:15: 39it [00:23,  3.12it/s]5)\u001b[0m \n",
      "Val Epoch:15: 40it [00:24,  3.61it/s]5)\u001b[0m \n"
     ]
    },
    {
     "name": "stdout",
     "output_type": "stream",
     "text": [
      "\u001b[36m(tune_with_parameters pid=3287704)\u001b[0m loss: 0.657\n"
     ]
    },
    {
     "name": "stderr",
     "output_type": "stream",
     "text": [
      "Val Epoch:15: 41it [00:25,  1.46it/s]5)\u001b[0m \n",
      "Val Epoch:15: 42it [00:26,  1.67it/s]5)\u001b[0m \n",
      "Val Epoch:15: 43it [00:26,  1.74it/s]5)\u001b[0m \n",
      "Val Epoch:15: 44it [00:27,  1.79it/s]5)\u001b[0m \n",
      "Val Epoch:15: 45it [00:27,  2.10it/s]5)\u001b[0m \n",
      "Val Epoch:15: 47it [00:27,  3.39it/s]5)\u001b[0m \n",
      "Val Epoch:15: 48it [00:28,  3.45it/s]5)\u001b[0m \n",
      "Val Epoch:15: 49it [00:29,  1.85it/s]5)\u001b[0m \n",
      "Val Epoch:15: 50it [00:29,  2.28it/s]5)\u001b[0m \n",
      "Val Epoch:15: 53it [00:30,  3.43it/s]5)\u001b[0m \n",
      "Val Epoch:15: 54it [00:30,  3.50it/s]5)\u001b[0m \n",
      "Val Epoch:15: 55it [00:30,  4.18it/s]5)\u001b[0m \n",
      "Val Epoch:15: 56it [00:30,  3.74it/s]5)\u001b[0m \n",
      "Val Epoch:15: 57it [00:32,  1.41it/s]5)\u001b[0m \n",
      "Val Epoch:15: 58it [00:33,  1.44it/s]5)\u001b[0m \n",
      "Val Epoch:15: 59it [00:34,  1.45it/s]5)\u001b[0m \n",
      "Val Epoch:15: 60it [00:34,  1.61it/s]5)\u001b[0m \n",
      "Val Epoch:15: 61it [00:34,  1.94it/s]5)\u001b[0m \n",
      "Val Epoch:15: 62it [00:35,  1.98it/s]5)\u001b[0m \n",
      "Val Epoch:15: 64it [00:35,  2.82it/s]5)\u001b[0m \n",
      "Val Epoch:15: 65it [00:37,  1.33it/s]5)\u001b[0m \n",
      "Val Epoch:16: 0it [00:00, ?it/s]287706)\u001b[0m \n"
     ]
    },
    {
     "name": "stdout",
     "output_type": "stream",
     "text": [
      "\u001b[36m(tune_with_parameters pid=3287703)\u001b[0m loss: 0.652\n"
     ]
    },
    {
     "name": "stderr",
     "output_type": "stream",
     "text": [
      "Val Epoch:15: 66it [00:39,  1.05it/s]5)\u001b[0m \n",
      "Val Epoch:15: 67it [00:39,  1.24it/s]5)\u001b[0m \n",
      "Val Epoch:15: 68it [00:39,  1.42it/s]5)\u001b[0m \n",
      "Val Epoch:15: 69it [00:40,  1.86it/s]5)\u001b[0m \n",
      "Val Epoch:15: 70it [00:40,  2.16it/s]5)\u001b[0m \n",
      "Val Epoch:15: 71it [00:40,  2.66it/s]5)\u001b[0m \n",
      "Val Epoch:15: 73it [00:42,  1.76it/s]5)\u001b[0m \n",
      "Val Epoch:15: 74it [00:43,  1.53it/s]5)\u001b[0m \n",
      "Val Epoch:15: 75it [00:44,  1.34it/s]5)\u001b[0m \n",
      "Val Epoch:15: 76it [00:44,  1.69it/s]5)\u001b[0m \n",
      "Val Epoch:15: 77it [00:45,  1.45it/s]\u001b[32m [repeated 2x across cluster]\u001b[0m\n",
      "Val Epoch:16: 14it [00:12,  2.15it/s]\u001b[32m [repeated 22x across cluster]\u001b[0m\n",
      "Val Epoch:15: 92it [00:52,  1.83it/s]5)\u001b[0m \n",
      "Val Epoch:16: 24it [00:17,  2.74it/s]\u001b[32m [repeated 16x across cluster]\u001b[0m\n",
      "Val Epoch:16: 42it [00:24,  2.00it/s]\u001b[32m [repeated 23x across cluster]\u001b[0m\n",
      "Val Epoch:16: 51it [00:30,  1.23it/s]\u001b[32m [repeated 8x across cluster]\u001b[0m\n",
      "Val Epoch:16: 59it [00:35,  1.31it/s]\u001b[32m [repeated 8x across cluster]\u001b[0m\n",
      "Val Epoch:16: 72it [00:40,  2.56it/s]\u001b[32m [repeated 12x across cluster]\u001b[0m\n"
     ]
    },
    {
     "name": "stdout",
     "output_type": "stream",
     "text": [
      "\u001b[36m(tune_with_parameters pid=3287705)\u001b[0m loss: 0.642\n"
     ]
    },
    {
     "name": "stderr",
     "output_type": "stream",
     "text": [
      "Val Epoch:16: 81it [00:46,  1.64it/s]\u001b[32m [repeated 9x across cluster]\u001b[0m\n",
      "Val Epoch:16: 91it [00:51,  1.71it/s]\u001b[32m [repeated 10x across cluster]\u001b[0m\n",
      "Val Epoch:16: 105it [00:56,  1.36it/s]\u001b[32m [repeated 12x across cluster]\u001b[0m\n",
      "Val Epoch:16: 107it [00:57,  1.69it/s])\u001b[0m \n"
     ]
    },
    {
     "name": "stdout",
     "output_type": "stream",
     "text": [
      "\u001b[36m(tune_with_parameters pid=3287706)\u001b[0m loss: 0.660\n",
      "\u001b[36m(tune_with_parameters pid=3287703)\u001b[0m loss: 0.652\n",
      "\u001b[36m(tune_with_parameters pid=3287704)\u001b[0m loss: 0.657\n",
      "\u001b[36m(tune_with_parameters pid=3287705)\u001b[0m loss: 0.644\n",
      "\u001b[36m(tune_with_parameters pid=3287706)\u001b[0m loss: 0.657\n"
     ]
    },
    {
     "name": "stderr",
     "output_type": "stream",
     "text": [
      "Val Epoch:13: 0it [00:00, ?it/s]287704)\u001b[0m \n",
      "Val Epoch:16: 110it [00:59,  1.83it/s]\u001b[32m [repeated 4x across cluster]\u001b[0m\n",
      "Val Epoch:13: 1it [00:06,  6.00s/it]04)\u001b[0m \n",
      "Val Epoch:13: 2it [00:06,  2.71s/it]04)\u001b[0m \n",
      "Val Epoch:13: 3it [00:07,  2.07s/it]04)\u001b[0m \n",
      "Val Epoch:13: 4it [00:09,  2.10s/it]04)\u001b[0m \n",
      "Val Epoch:13: 5it [00:10,  1.46s/it]04)\u001b[0m \n",
      "Val Epoch:13: 7it [00:10,  1.13it/s]04)\u001b[0m \n",
      "Val Epoch:13: 9it [00:11,  1.54it/s]04)\u001b[0m \n",
      "Val Epoch:13: 11it [00:11,  2.01it/s]4)\u001b[0m \n",
      "Val Epoch:13: 12it [00:13,  1.24it/s]4)\u001b[0m \n",
      "Val Epoch:13: 13it [00:14,  1.50it/s]4)\u001b[0m \n",
      "Val Epoch:13: 14it [00:14,  1.82it/s]4)\u001b[0m \n",
      "Val Epoch:13: 15it [00:14,  2.04it/s]4)\u001b[0m \n",
      "Val Epoch:13: 17it [00:16,  1.37it/s]4)\u001b[0m \n",
      "Val Epoch:13: 18it [00:16,  1.70it/s]4)\u001b[0m \n",
      "Val Epoch:13: 19it [00:17,  1.59it/s]4)\u001b[0m \n",
      "Val Epoch:13: 20it [00:18,  1.32it/s]4)\u001b[0m \n",
      "Val Epoch:13: 21it [00:18,  1.65it/s]4)\u001b[0m \n",
      "Val Epoch:13: 22it [00:19,  2.08it/s]4)\u001b[0m \n",
      "Val Epoch:13: 23it [00:19,  2.53it/s]4)\u001b[0m \n",
      "Val Epoch:13: 25it [00:20,  1.95it/s]4)\u001b[0m \n",
      "Val Epoch:13: 28it [00:22,  1.87it/s]4)\u001b[0m \n",
      "Val Epoch:13: 29it [00:22,  2.16it/s]4)\u001b[0m \n",
      "Val Epoch:13: 30it [00:22,  2.45it/s]4)\u001b[0m \n",
      "Val Epoch:13: 31it [00:22,  2.65it/s]4)\u001b[0m \n",
      "Val Epoch:13: 32it [00:23,  3.01it/s]4)\u001b[0m \n",
      "Val Epoch:13: 33it [00:24,  2.09it/s]4)\u001b[0m \n",
      "Val Epoch:13: 34it [00:25,  1.58it/s]4)\u001b[0m \n",
      "Val Epoch:13: 35it [00:25,  1.82it/s]4)\u001b[0m \n"
     ]
    },
    {
     "name": "stdout",
     "output_type": "stream",
     "text": [
      "\u001b[36m(tune_with_parameters pid=3287703)\u001b[0m loss: 0.652\n"
     ]
    },
    {
     "name": "stderr",
     "output_type": "stream",
     "text": [
      "Val Epoch:13: 36it [00:27,  1.04it/s]4)\u001b[0m \n",
      "Val Epoch:13: 37it [00:27,  1.28it/s]4)\u001b[0m \n",
      "Val Epoch:13: 40it [00:28,  2.44it/s]4)\u001b[0m \n",
      "Val Epoch:13: 41it [00:29,  1.49it/s]4)\u001b[0m \n",
      "Val Epoch:13: 43it [00:30,  1.86it/s]4)\u001b[0m \n",
      "Val Epoch:13: 44it [00:32,  1.07s/it]4)\u001b[0m \n",
      "Val Epoch:13: 45it [00:33,  1.23it/s]4)\u001b[0m \n",
      "Val Epoch:13: 46it [00:33,  1.53it/s]4)\u001b[0m \n",
      "Val Epoch:13: 47it [00:33,  1.93it/s]4)\u001b[0m \n",
      "Val Epoch:13: 48it [00:33,  2.25it/s]4)\u001b[0m \n",
      "Val Epoch:13: 49it [00:35,  1.33it/s]4)\u001b[0m \n",
      "Val Epoch:13: 50it [00:35,  1.55it/s]4)\u001b[0m \n",
      "Val Epoch:13: 51it [00:35,  1.99it/s]4)\u001b[0m \n",
      "Val Epoch:13: 52it [00:37,  1.00it/s]4)\u001b[0m \n",
      "Val Epoch:13: 54it [00:38,  1.66it/s]4)\u001b[0m \n",
      "Val Epoch:13: 55it [00:38,  2.08it/s]4)\u001b[0m \n",
      "Val Epoch:13: 56it [00:38,  2.24it/s]4)\u001b[0m \n",
      "Val Epoch:13: 57it [00:40,  1.12it/s]4)\u001b[0m \n",
      "Val Epoch:13: 58it [00:41,  1.21it/s]4)\u001b[0m \n",
      "Val Epoch:13: 59it [00:41,  1.60it/s]4)\u001b[0m \n",
      "Val Epoch:13: 60it [00:44,  1.37s/it]4)\u001b[0m \n",
      "Val Epoch:13: 61it [00:44,  1.01s/it]4)\u001b[0m \n",
      "Val Epoch:13: 62it [00:45,  1.31it/s]4)\u001b[0m \n",
      "Val Epoch:13: 63it [00:45,  1.45it/s]4)\u001b[0m \n",
      "Val Epoch:13: 65it [00:45,  2.36it/s]4)\u001b[0m \n",
      "Val Epoch:13: 66it [00:46,  2.09it/s]4)\u001b[0m \n",
      "Val Epoch:13: 67it [00:47,  1.94it/s]4)\u001b[0m \n",
      "Val Epoch:13: 68it [00:48,  1.32it/s]4)\u001b[0m \n",
      "Val Epoch:13: 70it [00:49,  1.70it/s]4)\u001b[0m \n",
      "Val Epoch:13: 71it [00:49,  1.97it/s]4)\u001b[0m \n",
      "Val Epoch:13: 73it [00:50,  2.01it/s]4)\u001b[0m \n",
      "Val Epoch:13: 74it [00:50,  2.50it/s]4)\u001b[0m \n",
      "Val Epoch:13: 75it [00:51,  2.61it/s]4)\u001b[0m \n",
      "Val Epoch:13: 76it [00:52,  1.59it/s]4)\u001b[0m \n",
      "Val Epoch:13: 77it [00:52,  1.91it/s]4)\u001b[0m \n",
      "Val Epoch:13: 78it [00:52,  2.36it/s]4)\u001b[0m \n",
      "Val Epoch:13: 79it [00:53,  2.24it/s]4)\u001b[0m \n",
      "Val Epoch:13: 80it [00:53,  2.66it/s]4)\u001b[0m \n",
      "Val Epoch:13: 81it [00:55,  1.40it/s]4)\u001b[0m \n",
      "Val Epoch:13: 82it [00:55,  1.79it/s]4)\u001b[0m \n",
      "Val Epoch:13: 83it [00:55,  2.00it/s]4)\u001b[0m \n",
      "Val Epoch:13: 84it [00:57,  1.06s/it]4)\u001b[0m \n",
      "Val Epoch:13: 85it [00:58,  1.17it/s]4)\u001b[0m \n",
      "Val Epoch:13: 86it [00:58,  1.51it/s]4)\u001b[0m \n",
      "Val Epoch:13: 87it [00:59,  1.62it/s]4)\u001b[0m \n",
      "Val Epoch:13: 89it [01:01,  1.26it/s]4)\u001b[0m \n",
      "Val Epoch:13: 91it [01:01,  1.60it/s]4)\u001b[0m \n",
      "Val Epoch:13: 92it [01:03,  1.19it/s]4)\u001b[0m \n",
      "Val Epoch:13: 93it [01:03,  1.47it/s]4)\u001b[0m \n"
     ]
    },
    {
     "name": "stdout",
     "output_type": "stream",
     "text": [
      "\u001b[36m(tune_with_parameters pid=3287705)\u001b[0m loss: 0.643\n"
     ]
    },
    {
     "name": "stderr",
     "output_type": "stream",
     "text": [
      "Val Epoch:13: 94it [01:04,  1.52it/s]4)\u001b[0m \n",
      "Val Epoch:13: 95it [01:04,  1.59it/s]4)\u001b[0m \n",
      "Val Epoch:13: 96it [01:05,  1.86it/s]4)\u001b[0m \n",
      "Val Epoch:13: 97it [01:06,  1.13it/s]4)\u001b[0m \n",
      "Val Epoch:13: 98it [01:07,  1.44it/s]4)\u001b[0m \n",
      "Val Epoch:13: 99it [01:07,  1.70it/s]4)\u001b[0m \n",
      "Val Epoch:13: 100it [01:09,  1.10it/s])\u001b[0m \n",
      "Val Epoch:13: 101it [01:09,  1.37it/s])\u001b[0m \n",
      "Val Epoch:13: 102it [01:09,  1.76it/s])\u001b[0m \n",
      "Val Epoch:13: 103it [01:09,  2.25it/s])\u001b[0m \n",
      "Val Epoch:13: 104it [01:09,  2.70it/s])\u001b[0m \n",
      "Val Epoch:13: 105it [01:10,  1.82it/s])\u001b[0m \n",
      "Val Epoch:13: 106it [01:11,  2.27it/s])\u001b[0m \n",
      "Val Epoch:13: 107it [01:11,  2.94it/s])\u001b[0m \n",
      "Val Epoch:13: 108it [01:12,  1.31it/s])\u001b[0m \n",
      "Val Epoch:13: 109it [01:13,  1.73it/s])\u001b[0m \n",
      "Val Epoch:13: 110it [01:13,  2.02it/s])\u001b[0m \n",
      "Val Epoch:13: 110it [01:14,  1.48it/s])\u001b[0m \n",
      "Val Epoch:14: 0it [00:00, ?it/s]287703)\u001b[0m \n",
      "Val Epoch:14: 1it [00:07,  7.89s/it]03)\u001b[0m \n",
      "Val Epoch:14: 2it [00:08,  3.36s/it]03)\u001b[0m \n",
      "Val Epoch:14: 3it [00:08,  1.92s/it]03)\u001b[0m \n"
     ]
    },
    {
     "name": "stdout",
     "output_type": "stream",
     "text": [
      "\u001b[36m(tune_with_parameters pid=3287704)\u001b[0m loss: 0.660\n"
     ]
    },
    {
     "name": "stderr",
     "output_type": "stream",
     "text": [
      "Val Epoch:14: 4it [00:08,  1.33s/it]03)\u001b[0m \n",
      "Val Epoch:14: 5it [00:08,  1.10it/s]03)\u001b[0m \n",
      "Val Epoch:14: 7it [00:09,  1.81it/s]03)\u001b[0m \n",
      "Val Epoch:14: 8it [00:09,  2.05it/s]03)\u001b[0m \n",
      "Val Epoch:14: 9it [00:11,  1.12it/s]03)\u001b[0m \n",
      "Val Epoch:14: 10it [00:11,  1.34it/s]3)\u001b[0m \n",
      "Val Epoch:14: 11it [00:12,  1.65it/s]3)\u001b[0m \n",
      "Val Epoch:14: 12it [00:12,  2.07it/s]3)\u001b[0m \n",
      "Val Epoch:14: 13it [00:12,  2.33it/s]3)\u001b[0m \n",
      "Val Epoch:14: 15it [00:13,  3.22it/s]3)\u001b[0m \n",
      "Val Epoch:14: 16it [00:13,  3.79it/s]3)\u001b[0m \n"
     ]
    },
    {
     "name": "stdout",
     "output_type": "stream",
     "text": [
      "\u001b[36m(tune_with_parameters pid=3287706)\u001b[0m loss: 0.657\n"
     ]
    },
    {
     "name": "stderr",
     "output_type": "stream",
     "text": [
      "Val Epoch:14: 17it [00:15,  1.10it/s]3)\u001b[0m \n",
      "Val Epoch:14: 19it [00:16,  1.76it/s]3)\u001b[0m \n",
      "Val Epoch:14: 20it [00:16,  1.87it/s]3)\u001b[0m \n",
      "Val Epoch:14: 21it [00:16,  2.24it/s]3)\u001b[0m \n",
      "Val Epoch:14: 22it [00:16,  2.66it/s]3)\u001b[0m \n",
      "Val Epoch:14: 23it [00:17,  2.64it/s]3)\u001b[0m \n",
      "Val Epoch:14: 24it [00:17,  2.57it/s]3)\u001b[0m \n",
      "Val Epoch:14: 25it [00:20,  1.07s/it]3)\u001b[0m \n",
      "Val Epoch:14: 26it [00:20,  1.25it/s]3)\u001b[0m \n",
      "Val Epoch:14: 27it [00:20,  1.58it/s]3)\u001b[0m \n",
      "Val Epoch:14: 28it [00:21,  1.70it/s]3)\u001b[0m \n",
      "Val Epoch:14: 29it [00:21,  1.96it/s]3)\u001b[0m \n",
      "Val Epoch:14: 30it [00:21,  2.23it/s]3)\u001b[0m \n",
      "Val Epoch:14: 31it [00:22,  2.85it/s]3)\u001b[0m \n",
      "Val Epoch:14: 32it [00:22,  3.14it/s]3)\u001b[0m \n",
      "Val Epoch:14: 33it [00:24,  1.25it/s]3)\u001b[0m \n",
      "Val Epoch:14: 34it [00:24,  1.62it/s]3)\u001b[0m \n",
      "Val Epoch:14: 35it [00:24,  2.05it/s]3)\u001b[0m \n",
      "Val Epoch:14: 36it [00:25,  1.99it/s]3)\u001b[0m \n",
      "Val Epoch:14: 37it [00:25,  2.56it/s]3)\u001b[0m \n",
      "Val Epoch:14: 39it [00:25,  4.04it/s]3)\u001b[0m \n",
      "Val Epoch:14: 41it [00:26,  2.18it/s]3)\u001b[0m \n",
      "Val Epoch:14: 42it [00:27,  2.62it/s]3)\u001b[0m \n",
      "Val Epoch:14: 44it [00:27,  3.54it/s]3)\u001b[0m \n",
      "Val Epoch:14: 45it [00:28,  2.30it/s]3)\u001b[0m \n",
      "Val Epoch:14: 46it [00:28,  2.68it/s]3)\u001b[0m \n",
      "Val Epoch:14: 47it [00:28,  3.03it/s]3)\u001b[0m \n",
      "Val Epoch:14: 48it [00:28,  3.59it/s]3)\u001b[0m \n",
      "Val Epoch:14: 49it [00:30,  1.43it/s]3)\u001b[0m \n",
      "Val Epoch:14: 50it [00:30,  1.88it/s]3)\u001b[0m \n",
      "Val Epoch:14: 51it [00:30,  2.35it/s]3)\u001b[0m \n",
      "Val Epoch:14: 52it [00:31,  2.34it/s]3)\u001b[0m \n",
      "Val Epoch:14: 53it [00:31,  2.18it/s]3)\u001b[0m \n",
      "Val Epoch:14: 54it [00:32,  2.72it/s]3)\u001b[0m \n",
      "Val Epoch:14: 55it [00:32,  3.19it/s]3)\u001b[0m \n",
      "Val Epoch:14: 57it [00:34,  1.29it/s]3)\u001b[0m \n",
      "Val Epoch:14: 58it [00:35,  1.57it/s]3)\u001b[0m \n",
      "Val Epoch:14: 59it [00:35,  1.81it/s]3)\u001b[0m \n",
      "Val Epoch:14: 60it [00:35,  2.31it/s]3)\u001b[0m \n",
      "Val Epoch:14: 61it [00:36,  1.75it/s]3)\u001b[0m \n",
      "Val Epoch:14: 62it [00:36,  2.23it/s]3)\u001b[0m \n",
      "Val Epoch:14: 63it [00:36,  2.69it/s]3)\u001b[0m \n",
      "Val Epoch:14: 64it [00:36,  3.23it/s]3)\u001b[0m \n",
      "Val Epoch:14: 65it [00:39,  1.11it/s]3)\u001b[0m \n",
      "Val Epoch:14: 66it [00:39,  1.39it/s]3)\u001b[0m \n",
      "Val Epoch:14: 67it [00:40,  1.45it/s]3)\u001b[0m \n",
      "Val Epoch:14: 68it [00:40,  1.55it/s]3)\u001b[0m \n",
      "Val Epoch:14: 69it [00:40,  1.90it/s]3)\u001b[0m \n",
      "Val Epoch:14: 70it [00:41,  2.16it/s]3)\u001b[0m \n",
      "Val Epoch:14: 71it [00:41,  2.63it/s]3)\u001b[0m \n",
      "Val Epoch:14: 72it [00:41,  2.84it/s]3)\u001b[0m \n",
      "Val Epoch:14: 73it [00:43,  1.18it/s]3)\u001b[0m \n",
      "Val Epoch:14: 75it [00:44,  1.83it/s]3)\u001b[0m \n",
      "Val Epoch:14: 76it [00:44,  2.08it/s]3)\u001b[0m \n",
      "Val Epoch:14: 77it [00:44,  1.96it/s]3)\u001b[0m \n",
      "Val Epoch:14: 79it [00:45,  2.98it/s]3)\u001b[0m \n",
      "Val Epoch:14: 80it [00:45,  2.90it/s]3)\u001b[0m \n",
      "Val Epoch:14: 81it [00:47,  1.18it/s]3)\u001b[0m \n",
      "Val Epoch:14: 82it [00:48,  1.49it/s]3)\u001b[0m \n",
      "Val Epoch:14: 83it [00:48,  1.84it/s]3)\u001b[0m \n",
      "Val Epoch:14: 84it [00:48,  2.07it/s]3)\u001b[0m \n",
      "Val Epoch:14: 85it [00:49,  2.00it/s]3)\u001b[0m \n",
      "Val Epoch:14: 87it [00:49,  3.19it/s]3)\u001b[0m \n",
      "Val Epoch:14: 88it [00:49,  2.62it/s]3)\u001b[0m \n",
      "Val Epoch:14: 89it [00:52,  1.16it/s]3)\u001b[0m \n",
      "Val Epoch:14: 90it [00:52,  1.44it/s]3)\u001b[0m \n",
      "Val Epoch:14: 91it [00:52,  1.82it/s]3)\u001b[0m \n",
      "Val Epoch:14: 92it [00:52,  2.22it/s]3)\u001b[0m \n",
      "Val Epoch:14: 93it [00:53,  2.41it/s]3)\u001b[0m \n",
      "Val Epoch:14: 94it [00:53,  2.56it/s]3)\u001b[0m \n",
      "Val Epoch:14: 95it [00:53,  2.89it/s]3)\u001b[0m \n",
      "Val Epoch:14: 96it [00:54,  2.39it/s]3)\u001b[0m \n",
      "Val Epoch:14: 97it [00:55,  1.71it/s]3)\u001b[0m \n",
      "Val Epoch:14: 99it [00:55,  2.90it/s]3)\u001b[0m \n",
      "Val Epoch:14: 100it [00:56,  2.14it/s])\u001b[0m \n",
      "Val Epoch:14: 102it [00:56,  3.05it/s])\u001b[0m \n",
      "Val Epoch:14: 103it [00:56,  3.52it/s])\u001b[0m \n",
      "Val Epoch:14: 104it [00:56,  3.70it/s])\u001b[0m \n",
      "Val Epoch:14: 105it [00:56,  4.20it/s])\u001b[0m \n",
      "Val Epoch:14: 106it [00:57,  3.26it/s])\u001b[0m \n",
      "Val Epoch:14: 108it [00:58,  2.33it/s])\u001b[0m \n",
      "Val Epoch:14: 109it [00:58,  2.55it/s])\u001b[0m \n",
      "Val Epoch:14: 110it [01:00,  1.82it/s])\u001b[0m \n"
     ]
    },
    {
     "name": "stdout",
     "output_type": "stream",
     "text": [
      "\u001b[36m(tune_with_parameters pid=3287705)\u001b[0m loss: 0.644\n",
      "\u001b[36m(tune_with_parameters pid=3287703)\u001b[0m loss: 0.643\n",
      "\u001b[36m(tune_with_parameters pid=3287706)\u001b[0m loss: 0.657\n",
      "\u001b[36m(tune_with_parameters pid=3287704)\u001b[0m loss: 0.657\n",
      "\u001b[36m(tune_with_parameters pid=3287705)\u001b[0m loss: 0.647\n",
      "\u001b[36m(tune_with_parameters pid=3287703)\u001b[0m loss: 0.652\n",
      "\u001b[36m(tune_with_parameters pid=3287706)\u001b[0m loss: 0.657\n"
     ]
    },
    {
     "name": "stderr",
     "output_type": "stream",
     "text": [
      "Val Epoch:16: 0it [00:00, ?it/s]287705)\u001b[0m \n",
      "Val Epoch:16: 1it [00:02,  2.90s/it]05)\u001b[0m \n",
      "Val Epoch:16: 2it [00:03,  1.74s/it]05)\u001b[0m \n",
      "Val Epoch:16: 3it [00:04,  1.03s/it]05)\u001b[0m \n",
      "Val Epoch:16: 4it [00:04,  1.32it/s]05)\u001b[0m \n",
      "Val Epoch:16: 5it [00:04,  1.78it/s]05)\u001b[0m \n",
      "Val Epoch:16: 6it [00:04,  2.34it/s]05)\u001b[0m \n",
      "Val Epoch:16: 7it [00:04,  2.96it/s]05)\u001b[0m \n",
      "Val Epoch:16: 8it [00:05,  3.01it/s]05)\u001b[0m \n",
      "Val Epoch:16: 9it [00:07,  1.17it/s]05)\u001b[0m \n",
      "Val Epoch:16: 10it [00:07,  1.37it/s]5)\u001b[0m \n",
      "Val Epoch:16: 11it [00:07,  1.77it/s]5)\u001b[0m \n",
      "Val Epoch:16: 12it [00:09,  1.22it/s]5)\u001b[0m \n",
      "Val Epoch:16: 13it [00:09,  1.61it/s]5)\u001b[0m \n",
      "Val Epoch:16: 14it [00:09,  1.75it/s]5)\u001b[0m \n",
      "Val Epoch:16: 15it [00:10,  2.03it/s]5)\u001b[0m \n",
      "Val Epoch:16: 17it [00:12,  1.41it/s]5)\u001b[0m \n",
      "Val Epoch:16: 19it [00:12,  2.17it/s]5)\u001b[0m \n",
      "Val Epoch:16: 20it [00:12,  2.51it/s]5)\u001b[0m \n",
      "Val Epoch:16: 21it [00:13,  1.84it/s]5)\u001b[0m \n",
      "Val Epoch:16: 24it [00:13,  3.07it/s]5)\u001b[0m \n",
      "Val Epoch:16: 25it [00:16,  1.29it/s]5)\u001b[0m \n",
      "Val Epoch:16: 26it [00:16,  1.55it/s]5)\u001b[0m \n",
      "Val Epoch:16: 27it [00:16,  1.85it/s]5)\u001b[0m \n",
      "Val Epoch:16: 28it [00:17,  1.63it/s]5)\u001b[0m \n",
      "Val Epoch:16: 29it [00:17,  1.90it/s]5)\u001b[0m \n",
      "Val Epoch:16: 30it [00:18,  2.35it/s]5)\u001b[0m \n",
      "Val Epoch:16: 31it [00:18,  2.82it/s]5)\u001b[0m \n",
      "Val Epoch:16: 32it [00:18,  3.36it/s]5)\u001b[0m \n",
      "Val Epoch:16: 33it [00:20,  1.12it/s]5)\u001b[0m \n",
      "Val Epoch:16: 34it [00:20,  1.46it/s]5)\u001b[0m \n",
      "Val Epoch:16: 35it [00:21,  1.90it/s]5)\u001b[0m \n",
      "Val Epoch:16: 36it [00:21,  2.24it/s]5)\u001b[0m \n",
      "Val Epoch:16: 37it [00:21,  2.19it/s]5)\u001b[0m \n",
      "Val Epoch:16: 38it [00:22,  2.69it/s]5)\u001b[0m \n",
      "Val Epoch:16: 39it [00:22,  3.18it/s]5)\u001b[0m \n",
      "Val Epoch:16: 42it [00:24,  1.74it/s]5)\u001b[0m \n",
      "Val Epoch:16: 43it [00:24,  2.20it/s]5)\u001b[0m \n",
      "Val Epoch:16: 44it [00:25,  2.24it/s]5)\u001b[0m \n",
      "Val Epoch:16: 45it [00:25,  2.19it/s]5)\u001b[0m \n",
      "Val Epoch:16: 46it [00:25,  2.58it/s]5)\u001b[0m \n",
      "Val Epoch:16: 47it [00:26,  3.22it/s]5)\u001b[0m \n",
      "Val Epoch:16: 49it [00:30,  1.11s/it]5)\u001b[0m \n",
      "Val Epoch:16: 50it [00:30,  1.09it/s]5)\u001b[0m \n",
      "Val Epoch:16: 51it [00:30,  1.38it/s]5)\u001b[0m \n",
      "Val Epoch:16: 53it [00:30,  2.18it/s]5)\u001b[0m \n",
      "Val Epoch:16: 55it [00:31,  3.21it/s]5)\u001b[0m \n",
      "Val Epoch:16: 57it [00:31,  3.52it/s]5)\u001b[0m \n",
      "Val Epoch:16: 58it [00:31,  4.05it/s]5)\u001b[0m \n",
      "Val Epoch:16: 59it [00:31,  4.57it/s]5)\u001b[0m \n",
      "Val Epoch:16: 61it [00:32,  3.07it/s]5)\u001b[0m \n",
      "Val Epoch:16: 62it [00:32,  3.52it/s]5)\u001b[0m \n"
     ]
    },
    {
     "name": "stdout",
     "output_type": "stream",
     "text": [
      "\u001b[36m(tune_with_parameters pid=3287704)\u001b[0m loss: 0.657\n"
     ]
    },
    {
     "name": "stderr",
     "output_type": "stream",
     "text": [
      "Val Epoch:16: 65it [00:36,  1.30it/s]5)\u001b[0m \n",
      "Val Epoch:16: 66it [00:36,  1.53it/s]5)\u001b[0m \n",
      "Val Epoch:16: 68it [00:37,  1.88it/s]5)\u001b[0m \n",
      "Val Epoch:16: 69it [00:37,  1.94it/s]5)\u001b[0m \n",
      "Val Epoch:16: 71it [00:38,  2.70it/s]5)\u001b[0m \n",
      "Val Epoch:16: 72it [00:38,  3.11it/s]5)\u001b[0m \n",
      "Val Epoch:17: 0it [00:00, ?it/s]287706)\u001b[0m \n",
      "Val Epoch:16: 73it [00:40,  1.38it/s]5)\u001b[0m \n",
      "Val Epoch:16: 74it [00:40,  1.69it/s]5)\u001b[0m \n",
      "Val Epoch:16: 75it [00:40,  1.99it/s]5)\u001b[0m \n",
      "Val Epoch:16: 76it [00:41,  2.20it/s]5)\u001b[0m \n",
      "Val Epoch:16: 77it [00:41,  2.19it/s]5)\u001b[0m \n",
      "Val Epoch:16: 78it [00:41,  2.66it/s]5)\u001b[0m \n",
      "Val Epoch:16: 79it [00:41,  3.11it/s]5)\u001b[0m \n",
      "Val Epoch:16: 80it [00:42,  3.72it/s]5)\u001b[0m \n",
      "Val Epoch:16: 82it [00:44,  1.62it/s]5)\u001b[0m \n",
      "Val Epoch:17: 9it [00:08,  1.19it/s]\u001b[32m [repeated 14x across cluster]\u001b[0m\n",
      "Val Epoch:16: 98it [00:53,  1.47it/s]\u001b[32m [repeated 19x across cluster]\u001b[0m\n",
      "Val Epoch:17: 22it [00:14,  2.71it/s]6)\u001b[0m \n"
     ]
    },
    {
     "name": "stdout",
     "output_type": "stream",
     "text": [
      "\u001b[36m(tune_with_parameters pid=3287703)\u001b[0m loss: 0.652\n"
     ]
    },
    {
     "name": "stderr",
     "output_type": "stream",
     "text": [
      "Val Epoch:16: 110it [00:58,  1.87it/s]\u001b[32m [repeated 22x across cluster]\u001b[0m\n",
      "Val Epoch:17: 42it [00:23,  1.90it/s]6)\u001b[0m \n",
      "Val Epoch:17: 40it [00:21,  3.89it/s]\u001b[32m [repeated 7x across cluster]\u001b[0m\n",
      "Val Epoch:17: 49it [00:28,  1.56it/s]\u001b[32m [repeated 7x across cluster]\u001b[0m\n",
      "Val Epoch:17: 60it [00:34,  2.67it/s]\u001b[32m [repeated 11x across cluster]\u001b[0m\n"
     ]
    },
    {
     "name": "stdout",
     "output_type": "stream",
     "text": [
      "\u001b[36m(tune_with_parameters pid=3287705)\u001b[0m loss: 0.678\n"
     ]
    },
    {
     "name": "stderr",
     "output_type": "stream",
     "text": [
      "Val Epoch:17: 69it [00:39,  1.82it/s]\u001b[32m [repeated 8x across cluster]\u001b[0m\n",
      "Val Epoch:17: 78it [00:45,  1.06it/s]\u001b[32m [repeated 8x across cluster]\u001b[0m\n",
      "Val Epoch:17: 82it [00:46,  2.31it/s]6)\u001b[0m \n",
      "Val Epoch:17: 90it [00:50,  2.63it/s]\u001b[32m [repeated 10x across cluster]\u001b[0m\n",
      "Val Epoch:17: 105it [00:55,  4.19it/s]\u001b[32m [repeated 12x across cluster]\u001b[0m\n"
     ]
    },
    {
     "name": "stdout",
     "output_type": "stream",
     "text": [
      "\u001b[36m(tune_with_parameters pid=3287706)\u001b[0m loss: 0.673\n",
      "\u001b[36m(tune_with_parameters pid=3287703)\u001b[0m loss: 0.651\n",
      "\u001b[36m(tune_with_parameters pid=3287704)\u001b[0m loss: 0.657\n",
      "\u001b[36m(tune_with_parameters pid=3287705)\u001b[0m loss: 0.663\n",
      "\u001b[36m(tune_with_parameters pid=3287706)\u001b[0m loss: 0.658\n",
      "\u001b[36m(tune_with_parameters pid=3287703)\u001b[0m loss: 0.651\n",
      "\u001b[36m(tune_with_parameters pid=3287705)\u001b[0m loss: 0.663\n",
      "\u001b[36m(tune_with_parameters pid=3287704)\u001b[0m loss: 0.657\n"
     ]
    },
    {
     "name": "stderr",
     "output_type": "stream",
     "text": [
      "Val Epoch:15: 0it [00:00, ?it/s]287703)\u001b[0m \n",
      "Val Epoch:17: 110it [00:59,  1.85it/s]\u001b[32m [repeated 6x across cluster]\u001b[0m\n"
     ]
    },
    {
     "name": "stdout",
     "output_type": "stream",
     "text": [
      "\u001b[36m(tune_with_parameters pid=3287706)\u001b[0m loss: 0.658\n"
     ]
    },
    {
     "name": "stderr",
     "output_type": "stream",
     "text": [
      "Val Epoch:15: 1it [00:06,  6.18s/it]03)\u001b[0m \n",
      "Val Epoch:15: 2it [00:06,  2.68s/it]03)\u001b[0m \n",
      "Val Epoch:15: 3it [00:06,  1.71s/it]03)\u001b[0m \n",
      "Val Epoch:15: 4it [00:07,  1.12s/it]03)\u001b[0m \n",
      "Val Epoch:15: 5it [00:08,  1.08s/it]03)\u001b[0m \n",
      "Val Epoch:15: 6it [00:08,  1.13it/s]03)\u001b[0m \n",
      "Val Epoch:15: 8it [00:09,  1.78it/s]03)\u001b[0m \n",
      "Val Epoch:15: 9it [00:10,  1.34it/s]03)\u001b[0m \n",
      "Val Epoch:15: 11it [00:10,  2.14it/s]3)\u001b[0m \n",
      "Val Epoch:15: 13it [00:11,  2.39it/s]3)\u001b[0m \n",
      "Val Epoch:15: 14it [00:11,  2.50it/s]3)\u001b[0m \n",
      "Val Epoch:15: 15it [00:11,  2.67it/s]3)\u001b[0m \n",
      "Val Epoch:15: 16it [00:12,  2.98it/s]3)\u001b[0m \n",
      "Val Epoch:15: 17it [00:12,  2.18it/s]3)\u001b[0m \n",
      "Val Epoch:15: 18it [00:13,  2.66it/s]3)\u001b[0m \n",
      "Val Epoch:15: 20it [00:14,  1.96it/s]3)\u001b[0m \n",
      "Val Epoch:15: 21it [00:14,  2.18it/s]3)\u001b[0m \n",
      "Val Epoch:15: 22it [00:15,  2.06it/s]3)\u001b[0m \n",
      "Val Epoch:15: 24it [00:15,  2.98it/s]3)\u001b[0m \n",
      "Val Epoch:15: 25it [00:17,  1.55it/s]3)\u001b[0m \n",
      "Val Epoch:15: 27it [00:17,  2.08it/s]3)\u001b[0m \n",
      "Val Epoch:15: 28it [00:18,  1.81it/s]3)\u001b[0m \n",
      "Val Epoch:15: 29it [00:18,  2.16it/s]3)\u001b[0m \n",
      "Val Epoch:15: 30it [00:19,  2.08it/s]3)\u001b[0m \n",
      "Val Epoch:15: 32it [00:19,  3.01it/s]3)\u001b[0m \n",
      "Val Epoch:15: 33it [00:21,  1.28it/s]3)\u001b[0m \n",
      "Val Epoch:15: 35it [00:21,  1.95it/s]3)\u001b[0m \n",
      "Val Epoch:15: 36it [00:22,  1.79it/s]3)\u001b[0m \n",
      "Val Epoch:15: 37it [00:22,  1.93it/s]3)\u001b[0m \n",
      "Val Epoch:15: 38it [00:23,  2.01it/s]3)\u001b[0m \n",
      "Val Epoch:15: 39it [00:23,  2.44it/s]3)\u001b[0m \n",
      "Val Epoch:15: 40it [00:23,  2.88it/s]3)\u001b[0m \n",
      "Val Epoch:15: 41it [00:25,  1.23it/s]3)\u001b[0m \n",
      "Val Epoch:15: 42it [00:25,  1.64it/s]3)\u001b[0m \n",
      "Val Epoch:15: 43it [00:25,  1.98it/s]3)\u001b[0m \n",
      "Val Epoch:15: 44it [00:26,  1.81it/s]3)\u001b[0m \n",
      "Val Epoch:15: 45it [00:27,  1.97it/s]3)\u001b[0m \n",
      "Val Epoch:15: 46it [00:27,  2.30it/s]3)\u001b[0m \n",
      "Val Epoch:15: 47it [00:27,  2.82it/s]3)\u001b[0m \n",
      "Val Epoch:15: 48it [00:27,  2.97it/s]3)\u001b[0m \n",
      "Val Epoch:15: 49it [00:30,  1.04it/s]3)\u001b[0m \n",
      "Val Epoch:15: 51it [00:30,  1.69it/s]3)\u001b[0m \n",
      "Val Epoch:15: 52it [00:31,  1.68it/s]3)\u001b[0m \n",
      "Val Epoch:15: 54it [00:31,  2.62it/s]3)\u001b[0m \n",
      "Val Epoch:15: 55it [00:31,  2.97it/s]3)\u001b[0m \n",
      "Val Epoch:15: 56it [00:31,  3.44it/s]3)\u001b[0m \n",
      "Val Epoch:15: 57it [00:33,  1.57it/s]3)\u001b[0m \n",
      "Val Epoch:15: 59it [00:33,  2.03it/s]3)\u001b[0m \n",
      "Val Epoch:15: 60it [00:35,  1.47it/s]3)\u001b[0m \n",
      "Val Epoch:15: 61it [00:35,  1.47it/s]3)\u001b[0m \n",
      "Val Epoch:15: 62it [00:36,  1.69it/s]3)\u001b[0m \n",
      "Val Epoch:15: 64it [00:36,  2.58it/s]3)\u001b[0m \n",
      "Val Epoch:15: 65it [00:37,  1.68it/s]3)\u001b[0m \n",
      "Val Epoch:15: 67it [00:37,  2.52it/s]3)\u001b[0m \n",
      "Val Epoch:15: 68it [00:39,  1.68it/s]3)\u001b[0m \n",
      "Val Epoch:15: 69it [00:39,  1.88it/s]3)\u001b[0m \n",
      "Val Epoch:15: 70it [00:39,  2.16it/s]3)\u001b[0m \n",
      "Val Epoch:15: 73it [00:40,  2.61it/s]3)\u001b[0m \n",
      "Val Epoch:15: 75it [00:40,  3.44it/s]3)\u001b[0m \n",
      "Val Epoch:15: 76it [00:41,  2.84it/s]3)\u001b[0m \n",
      "Val Epoch:15: 77it [00:41,  2.74it/s]3)\u001b[0m \n",
      "Val Epoch:15: 78it [00:42,  3.02it/s]3)\u001b[0m \n",
      "Val Epoch:15: 79it [00:42,  3.12it/s]3)\u001b[0m \n",
      "Val Epoch:15: 80it [00:43,  2.53it/s]3)\u001b[0m \n",
      "Val Epoch:15: 81it [00:45,  1.11it/s]3)\u001b[0m \n",
      "Val Epoch:15: 82it [00:45,  1.39it/s]3)\u001b[0m \n",
      "Val Epoch:15: 83it [00:46,  1.56it/s]3)\u001b[0m \n",
      "Val Epoch:15: 84it [00:46,  1.64it/s]3)\u001b[0m \n",
      "Val Epoch:15: 85it [00:46,  2.02it/s]3)\u001b[0m \n",
      "Val Epoch:15: 86it [00:47,  2.29it/s]3)\u001b[0m \n",
      "Val Epoch:15: 87it [00:47,  2.42it/s]3)\u001b[0m \n",
      "Val Epoch:15: 88it [00:47,  2.29it/s]3)\u001b[0m \n",
      "Val Epoch:14: 0it [00:00, ?it/s]287704)\u001b[0m \n",
      "Val Epoch:15: 89it [00:50,  1.10s/it]3)\u001b[0m \n",
      "Val Epoch:15: 90it [00:50,  1.23it/s]3)\u001b[0m \n",
      "Val Epoch:15: 91it [00:50,  1.61it/s]3)\u001b[0m \n",
      "Val Epoch:15: 92it [00:51,  1.75it/s]3)\u001b[0m \n",
      "Val Epoch:15: 93it [00:51,  2.24it/s]3)\u001b[0m \n",
      "Val Epoch:15: 94it [00:52,  2.08it/s]3)\u001b[0m \n",
      "Val Epoch:15: 95it [00:52,  2.10it/s]3)\u001b[0m \n",
      "Val Epoch:15: 96it [00:52,  2.51it/s]3)\u001b[0m \n",
      "Val Epoch:15: 105it [00:58,  1.42it/s]\u001b[32m [repeated 15x across cluster]\u001b[0m\n",
      "Val Epoch:14: 17it [00:15,  1.11s/it]\u001b[32m [repeated 14x across cluster]\u001b[0m\n"
     ]
    },
    {
     "name": "stdout",
     "output_type": "stream",
     "text": [
      "\u001b[36m(tune_with_parameters pid=3287705)\u001b[0m loss: 0.663\n"
     ]
    },
    {
     "name": "stderr",
     "output_type": "stream",
     "text": [
      "Val Epoch:14: 25it [00:21,  1.25s/it]\u001b[32m [repeated 8x across cluster]\u001b[0m\n",
      "Val Epoch:14: 34it [00:26,  1.39it/s]4)\u001b[0m \n",
      "Val Epoch:14: 35it [00:27,  1.27it/s]\u001b[32m [repeated 5x across cluster]\u001b[0m\n"
     ]
    },
    {
     "name": "stdout",
     "output_type": "stream",
     "text": [
      "\u001b[36m(tune_with_parameters pid=3287703)\u001b[0m loss: 0.635\n"
     ]
    },
    {
     "name": "stderr",
     "output_type": "stream",
     "text": [
      "Val Epoch:14: 42it [00:32,  1.07it/s]\u001b[32m [repeated 6x across cluster]\u001b[0m\n",
      "Val Epoch:14: 51it [00:39,  1.05s/it]\u001b[32m [repeated 7x across cluster]\u001b[0m\n",
      "Val Epoch:14: 61it [00:44,  2.35it/s]\u001b[32m [repeated 9x across cluster]\u001b[0m\n",
      "Val Epoch:14: 68it [00:49,  1.45it/s]\u001b[32m [repeated 6x across cluster]\u001b[0m\n"
     ]
    },
    {
     "name": "stdout",
     "output_type": "stream",
     "text": [
      "\u001b[36m(tune_with_parameters pid=3287706)\u001b[0m loss: 0.657\n"
     ]
    },
    {
     "name": "stderr",
     "output_type": "stream",
     "text": [
      "Val Epoch:14: 78it [00:55,  2.25it/s]\u001b[32m [repeated 9x across cluster]\u001b[0m\n",
      "Val Epoch:14: 84it [01:00,  1.40it/s]\u001b[32m [repeated 6x across cluster]\u001b[0m\n",
      "Val Epoch:14: 92it [01:06,  1.16it/s]\u001b[32m [repeated 8x across cluster]\u001b[0m\n",
      "Val Epoch:14: 100it [01:11,  1.46it/s]\u001b[32m [repeated 8x across cluster]\u001b[0m\n",
      "Val Epoch:14: 110it [01:17,  1.42it/s]\u001b[32m [repeated 10x across cluster]\u001b[0m\n"
     ]
    },
    {
     "name": "stdout",
     "output_type": "stream",
     "text": [
      "\u001b[36m(tune_with_parameters pid=3287704)\u001b[0m loss: 0.642\n",
      "\u001b[36m(tune_with_parameters pid=3287705)\u001b[0m loss: 0.662\n",
      "\u001b[36m(tune_with_parameters pid=3287703)\u001b[0m loss: 0.651\n",
      "\u001b[36m(tune_with_parameters pid=3287706)\u001b[0m loss: 0.657\n"
     ]
    },
    {
     "name": "stderr",
     "output_type": "stream",
     "text": [
      "Val Epoch:17: 0it [00:00, ?it/s]287705)\u001b[0m \n",
      "Val Epoch:17: 1it [00:04,  4.46s/it]05)\u001b[0m \n",
      "Val Epoch:17: 2it [00:05,  2.52s/it]05)\u001b[0m \n",
      "Val Epoch:17: 3it [00:06,  1.85s/it]05)\u001b[0m \n",
      "Val Epoch:17: 5it [00:06,  1.16it/s]05)\u001b[0m \n",
      "Val Epoch:17: 6it [00:07,  1.49it/s]05)\u001b[0m \n",
      "Val Epoch:17: 7it [00:07,  1.90it/s]05)\u001b[0m \n",
      "Val Epoch:17: 8it [00:07,  1.86it/s]05)\u001b[0m \n",
      "Val Epoch:17: 9it [00:08,  1.54it/s]05)\u001b[0m \n",
      "Val Epoch:17: 10it [00:09,  1.29it/s]5)\u001b[0m \n",
      "Val Epoch:17: 11it [00:10,  1.12it/s]5)\u001b[0m \n",
      "Val Epoch:17: 12it [00:11,  1.41it/s]5)\u001b[0m \n",
      "Val Epoch:17: 13it [00:11,  1.86it/s]5)\u001b[0m \n",
      "Val Epoch:17: 14it [00:11,  2.23it/s]5)\u001b[0m \n",
      "Val Epoch:17: 15it [00:12,  2.27it/s]5)\u001b[0m \n",
      "Val Epoch:17: 16it [00:12,  2.59it/s]5)\u001b[0m \n",
      "Val Epoch:17: 17it [00:13,  1.64it/s]5)\u001b[0m \n",
      "Val Epoch:17: 18it [00:13,  1.81it/s]5)\u001b[0m \n",
      "Val Epoch:17: 19it [00:13,  2.34it/s]5)\u001b[0m \n",
      "Val Epoch:17: 20it [00:14,  2.70it/s]5)\u001b[0m \n",
      "Val Epoch:17: 21it [00:15,  2.03it/s]5)\u001b[0m \n",
      "Val Epoch:17: 22it [00:15,  2.48it/s]5)\u001b[0m \n",
      "Val Epoch:17: 23it [00:15,  2.10it/s]5)\u001b[0m \n",
      "Val Epoch:17: 24it [00:16,  2.63it/s]5)\u001b[0m \n",
      "Val Epoch:17: 25it [00:18,  1.12it/s]5)\u001b[0m \n",
      "Val Epoch:17: 26it [00:18,  1.18it/s]5)\u001b[0m \n",
      "Val Epoch:17: 27it [00:19,  1.32it/s]5)\u001b[0m \n",
      "Val Epoch:17: 28it [00:19,  1.47it/s]5)\u001b[0m \n",
      "Val Epoch:17: 29it [00:20,  1.67it/s]5)\u001b[0m \n",
      "Val Epoch:17: 30it [00:20,  2.03it/s]5)\u001b[0m \n",
      "Val Epoch:17: 31it [00:20,  2.50it/s]5)\u001b[0m \n",
      "Val Epoch:17: 32it [00:20,  2.98it/s]5)\u001b[0m \n",
      "Val Epoch:17: 33it [00:22,  1.64it/s]5)\u001b[0m \n",
      "Val Epoch:17: 34it [00:23,  1.07it/s]5)\u001b[0m \n",
      "Val Epoch:17: 35it [00:24,  1.42it/s]5)\u001b[0m \n",
      "Val Epoch:17: 36it [00:24,  1.87it/s]5)\u001b[0m \n",
      "Val Epoch:17: 37it [00:24,  2.38it/s]5)\u001b[0m \n",
      "Val Epoch:17: 38it [00:24,  2.87it/s]5)\u001b[0m \n",
      "Val Epoch:17: 39it [00:24,  3.56it/s]5)\u001b[0m \n",
      "Val Epoch:17: 40it [00:24,  4.18it/s]5)\u001b[0m \n",
      "Val Epoch:17: 41it [00:26,  1.79it/s]5)\u001b[0m \n",
      "Val Epoch:17: 42it [00:26,  1.94it/s]5)\u001b[0m \n",
      "Val Epoch:17: 43it [00:26,  2.38it/s]5)\u001b[0m \n",
      "Val Epoch:17: 44it [00:26,  3.00it/s]5)\u001b[0m \n",
      "Val Epoch:17: 46it [00:27,  3.27it/s]5)\u001b[0m \n",
      "Val Epoch:17: 47it [00:28,  2.22it/s]5)\u001b[0m \n",
      "Val Epoch:17: 48it [00:28,  2.76it/s]5)\u001b[0m \n",
      "Val Epoch:17: 49it [00:29,  1.71it/s]5)\u001b[0m \n",
      "Val Epoch:17: 50it [00:30,  1.29it/s]5)\u001b[0m \n",
      "Val Epoch:17: 51it [00:31,  1.54it/s]5)\u001b[0m \n",
      "Val Epoch:17: 53it [00:31,  2.18it/s]5)\u001b[0m \n",
      "Val Epoch:17: 54it [00:31,  2.64it/s]5)\u001b[0m \n",
      "Val Epoch:17: 55it [00:31,  3.08it/s]5)\u001b[0m \n",
      "Val Epoch:17: 56it [00:31,  3.69it/s]5)\u001b[0m \n",
      "Val Epoch:17: 57it [00:34,  1.12it/s]5)\u001b[0m \n",
      "Val Epoch:17: 58it [00:36,  1.18s/it]5)\u001b[0m \n",
      "Val Epoch:17: 59it [00:36,  1.06it/s]5)\u001b[0m \n",
      "Val Epoch:17: 60it [00:36,  1.40it/s]5)\u001b[0m \n",
      "Val Epoch:17: 61it [00:37,  1.81it/s]5)\u001b[0m \n",
      "Val Epoch:17: 62it [00:37,  2.19it/s]5)\u001b[0m \n",
      "Val Epoch:17: 63it [00:38,  1.61it/s]5)\u001b[0m \n",
      "Val Epoch:17: 64it [00:38,  2.00it/s]5)\u001b[0m \n",
      "Val Epoch:18: 0it [00:00, ?it/s]287706)\u001b[0m \n",
      "Val Epoch:17: 65it [00:39,  1.80it/s]5)\u001b[0m \n",
      "Val Epoch:17: 66it [00:40,  1.35it/s]5)\u001b[0m \n",
      "Val Epoch:17: 67it [00:40,  1.77it/s]5)\u001b[0m \n",
      "Val Epoch:17: 69it [00:40,  2.86it/s]5)\u001b[0m \n",
      "Val Epoch:17: 70it [00:40,  3.31it/s]5)\u001b[0m \n",
      "Val Epoch:17: 71it [00:41,  2.67it/s]5)\u001b[0m \n",
      "Val Epoch:17: 72it [00:41,  3.08it/s]5)\u001b[0m \n",
      "Val Epoch:17: 73it [00:42,  1.82it/s]5)\u001b[0m \n",
      "Val Epoch:18: 1it [00:04,  4.45s/it]06)\u001b[0m \n",
      "Val Epoch:18: 2it [00:04,  2.00s/it]06)\u001b[0m \n",
      "Val Epoch:18: 4it [00:05,  1.10it/s]06)\u001b[0m \n",
      "Val Epoch:18: 12it [00:09,  1.62it/s]\u001b[32m [repeated 16x across cluster]\u001b[0m\n",
      "Val Epoch:18: 21it [00:15,  1.74it/s]\u001b[32m [repeated 16x across cluster]\u001b[0m\n"
     ]
    },
    {
     "name": "stdout",
     "output_type": "stream",
     "text": [
      "\u001b[36m(tune_with_parameters pid=3287704)\u001b[0m loss: 0.658\n"
     ]
    },
    {
     "name": "stderr",
     "output_type": "stream",
     "text": [
      "Val Epoch:17: 100it [00:58,  1.78it/s]\u001b[32m [repeated 19x across cluster]\u001b[0m\n",
      "Val Epoch:18: 46it [00:25,  2.93it/s]\u001b[32m [repeated 18x across cluster]\u001b[0m\n"
     ]
    },
    {
     "name": "stdout",
     "output_type": "stream",
     "text": [
      "\u001b[36m(tune_with_parameters pid=3287703)\u001b[0m loss: 0.651\n"
     ]
    },
    {
     "name": "stderr",
     "output_type": "stream",
     "text": [
      "Val Epoch:18: 56it [00:30,  2.53it/s]\u001b[32m [repeated 10x across cluster]\u001b[0m\n",
      "Val Epoch:18: 67it [00:36,  1.96it/s]\u001b[32m [repeated 10x across cluster]\u001b[0m\n",
      "Val Epoch:18: 78it [00:41,  2.19it/s]\u001b[32m [repeated 11x across cluster]\u001b[0m\n"
     ]
    },
    {
     "name": "stdout",
     "output_type": "stream",
     "text": [
      "\u001b[36m(tune_with_parameters pid=3287705)\u001b[0m loss: 0.636\n"
     ]
    },
    {
     "name": "stderr",
     "output_type": "stream",
     "text": [
      "Val Epoch:18: 87it [00:46,  2.30it/s]\u001b[32m [repeated 8x across cluster]\u001b[0m\n",
      "Val Epoch:18: 98it [00:52,  1.40it/s]\u001b[32m [repeated 10x across cluster]\u001b[0m\n"
     ]
    },
    {
     "name": "stdout",
     "output_type": "stream",
     "text": [
      "\u001b[36m(tune_with_parameters pid=3287706)\u001b[0m loss: 0.657\n",
      "\u001b[36m(tune_with_parameters pid=3287703)\u001b[0m loss: 0.651\n",
      "\u001b[36m(tune_with_parameters pid=3287705)\u001b[0m loss: 0.642\n",
      "\u001b[36m(tune_with_parameters pid=3287706)\u001b[0m loss: 0.657\u001b[32m [repeated 2x across cluster]\u001b[0m\n",
      "\u001b[36m(tune_with_parameters pid=3287703)\u001b[0m loss: 0.651\n",
      "\u001b[36m(tune_with_parameters pid=3287705)\u001b[0m loss: 0.641\n",
      "\u001b[36m(tune_with_parameters pid=3287704)\u001b[0m loss: 0.658\n"
     ]
    },
    {
     "name": "stderr",
     "output_type": "stream",
     "text": [
      "Val Epoch:16: 0it [00:00, ?it/s]287703)\u001b[0m \n",
      "Val Epoch:18: 110it [00:54,  2.01it/s]\u001b[32m [repeated 7x across cluster]\u001b[0m\n"
     ]
    },
    {
     "name": "stdout",
     "output_type": "stream",
     "text": [
      "\u001b[36m(tune_with_parameters pid=3287706)\u001b[0m loss: 0.657\n"
     ]
    },
    {
     "name": "stderr",
     "output_type": "stream",
     "text": [
      "Val Epoch:16: 1it [00:05,  5.43s/it]03)\u001b[0m \n",
      "Val Epoch:16: 2it [00:05,  2.33s/it]03)\u001b[0m \n",
      "Val Epoch:16: 3it [00:05,  1.41s/it]03)\u001b[0m \n",
      "Val Epoch:16: 4it [00:06,  1.03s/it]03)\u001b[0m \n",
      "Val Epoch:16: 5it [00:06,  1.15it/s]03)\u001b[0m \n",
      "Val Epoch:16: 6it [00:07,  1.38it/s]03)\u001b[0m \n",
      "Val Epoch:16: 7it [00:07,  1.86it/s]03)\u001b[0m \n",
      "Val Epoch:16: 8it [00:08,  1.93it/s]03)\u001b[0m \n",
      "Val Epoch:16: 9it [00:10,  1.10s/it]03)\u001b[0m \n",
      "Val Epoch:16: 11it [00:10,  1.61it/s]3)\u001b[0m \n",
      "Val Epoch:16: 12it [00:10,  1.90it/s]3)\u001b[0m \n",
      "Val Epoch:16: 14it [00:10,  3.00it/s]3)\u001b[0m \n",
      "Val Epoch:16: 16it [00:11,  3.61it/s]3)\u001b[0m \n",
      "Val Epoch:16: 17it [00:12,  1.63it/s]3)\u001b[0m \n",
      "Val Epoch:16: 19it [00:13,  2.32it/s]3)\u001b[0m \n",
      "Val Epoch:16: 20it [00:13,  2.17it/s]3)\u001b[0m \n",
      "Val Epoch:16: 21it [00:14,  2.35it/s]3)\u001b[0m \n",
      "Val Epoch:16: 22it [00:14,  2.75it/s]3)\u001b[0m \n",
      "Val Epoch:16: 23it [00:14,  3.29it/s]3)\u001b[0m \n",
      "Val Epoch:16: 25it [00:17,  1.34it/s]3)\u001b[0m \n",
      "Val Epoch:16: 26it [00:17,  1.60it/s]3)\u001b[0m \n",
      "Val Epoch:16: 27it [00:17,  1.71it/s]3)\u001b[0m \n",
      "Val Epoch:16: 28it [00:18,  2.00it/s]3)\u001b[0m \n",
      "Val Epoch:16: 29it [00:18,  2.15it/s]3)\u001b[0m \n",
      "Val Epoch:16: 31it [00:18,  3.33it/s]3)\u001b[0m \n",
      "Val Epoch:16: 32it [00:19,  2.94it/s]3)\u001b[0m \n",
      "Val Epoch:16: 33it [00:21,  1.09it/s]3)\u001b[0m \n",
      "Val Epoch:16: 34it [00:21,  1.41it/s]3)\u001b[0m \n",
      "Val Epoch:16: 35it [00:22,  1.78it/s]3)\u001b[0m \n",
      "Val Epoch:16: 36it [00:22,  1.96it/s]3)\u001b[0m \n",
      "Val Epoch:16: 37it [00:22,  2.38it/s]3)\u001b[0m \n",
      "Val Epoch:16: 38it [00:22,  2.52it/s]3)\u001b[0m \n",
      "Val Epoch:16: 39it [00:23,  2.78it/s]3)\u001b[0m \n",
      "Val Epoch:16: 40it [00:23,  2.82it/s]3)\u001b[0m \n",
      "Val Epoch:16: 41it [00:25,  1.33it/s]3)\u001b[0m \n",
      "Val Epoch:16: 42it [00:25,  1.73it/s]3)\u001b[0m \n",
      "Val Epoch:16: 43it [00:25,  1.77it/s]3)\u001b[0m \n",
      "Val Epoch:16: 44it [00:26,  1.56it/s]3)\u001b[0m \n",
      "Val Epoch:16: 45it [00:27,  1.91it/s]3)\u001b[0m \n",
      "Val Epoch:16: 46it [00:27,  2.40it/s]3)\u001b[0m \n",
      "Val Epoch:16: 47it [00:27,  2.97it/s]3)\u001b[0m \n",
      "Val Epoch:16: 49it [00:29,  1.40it/s]3)\u001b[0m \n",
      "Val Epoch:16: 51it [00:30,  1.77it/s]3)\u001b[0m \n",
      "Val Epoch:16: 52it [00:31,  1.54it/s]3)\u001b[0m \n",
      "Val Epoch:16: 53it [00:31,  1.71it/s]3)\u001b[0m \n",
      "Val Epoch:16: 54it [00:31,  2.11it/s]3)\u001b[0m \n",
      "Val Epoch:16: 55it [00:32,  2.56it/s]3)\u001b[0m \n",
      "Val Epoch:16: 57it [00:33,  2.15it/s]3)\u001b[0m \n",
      "Val Epoch:16: 58it [00:33,  2.50it/s]3)\u001b[0m \n",
      "Val Epoch:16: 59it [00:33,  2.64it/s]3)\u001b[0m \n",
      "Val Epoch:16: 60it [00:35,  1.52it/s]3)\u001b[0m \n",
      "Val Epoch:16: 61it [00:35,  1.74it/s]3)\u001b[0m \n",
      "Val Epoch:16: 63it [00:35,  2.72it/s]3)\u001b[0m \n",
      "Val Epoch:16: 64it [00:35,  2.77it/s]3)\u001b[0m \n",
      "Val Epoch:16: 65it [00:37,  1.46it/s]3)\u001b[0m \n",
      "Val Epoch:16: 66it [00:37,  1.82it/s]3)\u001b[0m \n",
      "Val Epoch:16: 67it [00:38,  1.69it/s]3)\u001b[0m \n",
      "Val Epoch:16: 68it [00:39,  1.47it/s]3)\u001b[0m \n",
      "Val Epoch:16: 69it [00:39,  1.58it/s]3)\u001b[0m \n",
      "Val Epoch:16: 70it [00:40,  2.03it/s]3)\u001b[0m \n",
      "Val Epoch:16: 71it [00:40,  2.46it/s]3)\u001b[0m \n",
      "Val Epoch:16: 72it [00:40,  2.93it/s]3)\u001b[0m \n",
      "Val Epoch:16: 73it [00:41,  1.60it/s]3)\u001b[0m \n",
      "Val Epoch:16: 75it [00:42,  1.90it/s]3)\u001b[0m \n",
      "Val Epoch:16: 76it [00:42,  2.23it/s]3)\u001b[0m \n",
      "Val Epoch:16: 77it [00:42,  2.61it/s]3)\u001b[0m \n",
      "Val Epoch:16: 78it [00:43,  2.99it/s]3)\u001b[0m \n",
      "Val Epoch:16: 79it [00:43,  3.51it/s]3)\u001b[0m \n",
      "Val Epoch:16: 81it [00:46,  1.20it/s]3)\u001b[0m \n",
      "Val Epoch:16: 82it [00:46,  1.41it/s]3)\u001b[0m \n",
      "Val Epoch:16: 84it [00:46,  2.07it/s]3)\u001b[0m \n",
      "Val Epoch:16: 85it [00:47,  2.39it/s]3)\u001b[0m \n",
      "Val Epoch:16: 86it [00:47,  2.74it/s]3)\u001b[0m \n",
      "Val Epoch:16: 87it [00:47,  3.11it/s]3)\u001b[0m \n",
      "Val Epoch:16: 88it [00:48,  2.84it/s]3)\u001b[0m \n",
      "Val Epoch:16: 89it [00:50,  1.21it/s]3)\u001b[0m \n",
      "Val Epoch:16: 91it [00:50,  1.91it/s]3)\u001b[0m \n",
      "Val Epoch:16: 92it [00:50,  2.10it/s]3)\u001b[0m \n",
      "Val Epoch:16: 93it [00:50,  2.37it/s]3)\u001b[0m \n",
      "Val Epoch:16: 94it [00:51,  1.99it/s]3)\u001b[0m \n",
      "Val Epoch:16: 95it [00:51,  2.45it/s]3)\u001b[0m \n",
      "Val Epoch:16: 96it [00:52,  2.82it/s]3)\u001b[0m \n",
      "Val Epoch:16: 97it [00:53,  1.27it/s]3)\u001b[0m \n",
      "Val Epoch:16: 99it [00:55,  1.42it/s]3)\u001b[0m \n",
      "Val Epoch:16: 100it [00:55,  1.53it/s])\u001b[0m \n",
      "Val Epoch:16: 101it [00:56,  1.68it/s])\u001b[0m \n",
      "Val Epoch:16: 102it [00:56,  2.11it/s])\u001b[0m \n",
      "Val Epoch:16: 103it [00:56,  2.58it/s])\u001b[0m \n",
      "Val Epoch:16: 104it [00:56,  2.93it/s])\u001b[0m \n",
      "Val Epoch:16: 105it [00:58,  1.35it/s])\u001b[0m \n",
      "Val Epoch:16: 106it [00:58,  1.73it/s])\u001b[0m \n",
      "Val Epoch:16: 107it [00:58,  2.22it/s])\u001b[0m \n",
      "Val Epoch:16: 108it [00:58,  2.77it/s])\u001b[0m \n",
      "Val Epoch:16: 109it [00:58,  3.19it/s])\u001b[0m \n",
      "Val Epoch:16: 110it [01:00,  1.81it/s])\u001b[0m \n"
     ]
    },
    {
     "name": "stdout",
     "output_type": "stream",
     "text": [
      "\u001b[36m(tune_with_parameters pid=3287705)\u001b[0m loss: 0.641\n",
      "\u001b[36m(tune_with_parameters pid=3287703)\u001b[0m loss: 0.657\n",
      "\u001b[36m(tune_with_parameters pid=3287706)\u001b[0m loss: 0.657\n",
      "\u001b[36m(tune_with_parameters pid=3287704)\u001b[0m loss: 0.657\n",
      "\u001b[36m(tune_with_parameters pid=3287705)\u001b[0m loss: 0.641\n",
      "\u001b[36m(tune_with_parameters pid=3287703)\u001b[0m loss: 0.651\n"
     ]
    },
    {
     "name": "stderr",
     "output_type": "stream",
     "text": [
      "Val Epoch:15: 0it [00:00, ?it/s]287704)\u001b[0m \n",
      "Val Epoch:15: 1it [00:02,  2.05s/it]04)\u001b[0m \n",
      "Val Epoch:15: 2it [00:02,  1.14s/it]04)\u001b[0m \n"
     ]
    },
    {
     "name": "stdout",
     "output_type": "stream",
     "text": [
      "\u001b[36m(tune_with_parameters pid=3287706)\u001b[0m loss: 0.657\n"
     ]
    },
    {
     "name": "stderr",
     "output_type": "stream",
     "text": [
      "Val Epoch:15: 5it [00:02,  2.44it/s]04)\u001b[0m \n",
      "Val Epoch:15: 6it [00:03,  2.85it/s]04)\u001b[0m \n",
      "Val Epoch:15: 7it [00:03,  3.28it/s]04)\u001b[0m \n",
      "Val Epoch:15: 9it [00:04,  2.80it/s]04)\u001b[0m \n",
      "Val Epoch:15: 10it [00:04,  2.46it/s]4)\u001b[0m \n",
      "Val Epoch:15: 12it [00:04,  3.61it/s]4)\u001b[0m \n",
      "Val Epoch:15: 13it [00:05,  2.65it/s]4)\u001b[0m \n",
      "Val Epoch:15: 15it [00:05,  3.83it/s]4)\u001b[0m \n",
      "Val Epoch:15: 16it [00:05,  4.21it/s]4)\u001b[0m \n",
      "Val Epoch:15: 17it [00:07,  1.94it/s]4)\u001b[0m \n",
      "Val Epoch:15: 18it [00:07,  1.98it/s]4)\u001b[0m \n",
      "Val Epoch:15: 19it [00:07,  2.49it/s]4)\u001b[0m \n",
      "Val Epoch:15: 20it [00:08,  2.91it/s]4)\u001b[0m \n",
      "Val Epoch:15: 21it [00:08,  3.11it/s]4)\u001b[0m \n",
      "Val Epoch:15: 24it [00:08,  5.92it/s]4)\u001b[0m \n",
      "Val Epoch:18: 0it [00:00, ?it/s]287705)\u001b[0m \n",
      "Val Epoch:15: 26it [00:10,  2.66it/s]4)\u001b[0m \n",
      "Val Epoch:15: 27it [00:10,  3.06it/s]4)\u001b[0m \n",
      "Val Epoch:15: 31it [00:10,  5.61it/s]4)\u001b[0m \n",
      "Val Epoch:15: 33it [00:12,  2.44it/s]4)\u001b[0m \n",
      "Val Epoch:15: 34it [00:12,  2.82it/s]4)\u001b[0m \n",
      "Val Epoch:15: 38it [00:12,  4.06it/s]\u001b[32m [repeated 5x across cluster]\u001b[0m\n",
      "Val Epoch:15: 56it [00:17,  5.15it/s]\u001b[32m [repeated 26x across cluster]\u001b[0m\n",
      "Val Epoch:15: 62it [00:20,  4.02it/s]4)\u001b[0m \n",
      "Val Epoch:15: 74it [00:22,  4.03it/s]\u001b[32m [repeated 22x across cluster]\u001b[0m\n",
      "Val Epoch:15: 78it [00:24,  2.90it/s]4)\u001b[0m \n",
      "Val Epoch:18: 71it [00:18,  3.86it/s]\u001b[32m [repeated 22x across cluster]\u001b[0m\n",
      "Val Epoch:19: 0it [00:00, ?it/s]287706)\u001b[0m \n",
      "Val Epoch:15: 93it [00:33,  1.38it/s]\u001b[32m [repeated 15x across cluster]\u001b[0m\n",
      "Val Epoch:18: 90it [00:28,  1.61it/s]\u001b[32m [repeated 26x across cluster]\u001b[0m\n",
      "Val Epoch:19: 20it [00:12,  2.13it/s]\u001b[32m [repeated 31x across cluster]\u001b[0m\n",
      "Val Epoch:19: 31it [00:18,  1.79it/s]\u001b[32m [repeated 15x across cluster]\u001b[0m\n"
     ]
    },
    {
     "name": "stdout",
     "output_type": "stream",
     "text": [
      "\u001b[36m(tune_with_parameters pid=3287703)\u001b[0m loss: 0.651\n"
     ]
    },
    {
     "name": "stderr",
     "output_type": "stream",
     "text": [
      "Val Epoch:19: 41it [00:26,  1.00s/it]\u001b[32m [repeated 9x across cluster]\u001b[0m\n",
      "Val Epoch:19: 50it [00:32,  1.07s/it]\u001b[32m [repeated 8x across cluster]\u001b[0m\n"
     ]
    },
    {
     "name": "stdout",
     "output_type": "stream",
     "text": [
      "\u001b[36m(tune_with_parameters pid=3287704)\u001b[0m loss: 0.661\n",
      "\u001b[36m(tune_with_parameters pid=3287705)\u001b[0m loss: 0.652\n"
     ]
    },
    {
     "name": "stderr",
     "output_type": "stream",
     "text": [
      "Val Epoch:19: 63it [00:38,  2.15it/s]\u001b[32m [repeated 12x across cluster]\u001b[0m\n",
      "Val Epoch:19: 69it [00:41,  2.69it/s]6)\u001b[0m \n",
      "Val Epoch:19: 73it [00:43,  1.41it/s]\u001b[32m [repeated 8x across cluster]\u001b[0m\n",
      "Val Epoch:19: 82it [00:49,  1.17it/s]\u001b[32m [repeated 8x across cluster]\u001b[0m\n",
      "Val Epoch:19: 97it [00:55,  2.01it/s]\u001b[32m [repeated 12x across cluster]\u001b[0m\n",
      "Val Epoch:19: 99it [00:55,  2.67it/s]6)\u001b[0m \n",
      "Val Epoch:19: 108it [01:00,  1.74it/s]\u001b[32m [repeated 9x across cluster]\u001b[0m\n"
     ]
    },
    {
     "name": "stdout",
     "output_type": "stream",
     "text": [
      "\u001b[36m(tune_with_parameters pid=3287706)\u001b[0m loss: 0.656\n",
      "\u001b[36m(tune_with_parameters pid=3287703)\u001b[0m loss: 0.651\n",
      "\u001b[36m(tune_with_parameters pid=3287705)\u001b[0m loss: 0.638\n",
      "\u001b[36m(tune_with_parameters pid=3287704)\u001b[0m loss: 0.660\n",
      "\u001b[36m(tune_with_parameters pid=3287706)\u001b[0m loss: 0.657\n",
      "\u001b[36m(tune_with_parameters pid=3287703)\u001b[0m loss: 0.651\n",
      "\u001b[36m(tune_with_parameters pid=3287705)\u001b[0m loss: 0.638\n"
     ]
    },
    {
     "name": "stderr",
     "output_type": "stream",
     "text": [
      "Val Epoch:17: 0it [00:00, ?it/s]287703)\u001b[0m \n",
      "Val Epoch:19: 110it [01:02,  1.77it/s]\u001b[32m [repeated 3x across cluster]\u001b[0m\n"
     ]
    },
    {
     "name": "stdout",
     "output_type": "stream",
     "text": [
      "\u001b[36m(tune_with_parameters pid=3287706)\u001b[0m loss: 0.657\n"
     ]
    },
    {
     "name": "stderr",
     "output_type": "stream",
     "text": [
      "Val Epoch:17: 1it [00:06,  6.47s/it]03)\u001b[0m \n",
      "Val Epoch:17: 2it [00:06,  2.76s/it]03)\u001b[0m \n",
      "Val Epoch:17: 3it [00:06,  1.59s/it]03)\u001b[0m \n",
      "Val Epoch:17: 4it [00:07,  1.05s/it]03)\u001b[0m \n",
      "Val Epoch:17: 5it [00:07,  1.26it/s]03)\u001b[0m \n",
      "Val Epoch:17: 6it [00:07,  1.47it/s]03)\u001b[0m \n",
      "Val Epoch:17: 7it [00:08,  1.91it/s]03)\u001b[0m \n",
      "Val Epoch:17: 8it [00:08,  1.87it/s]03)\u001b[0m \n",
      "Val Epoch:17: 9it [00:09,  1.27it/s]03)\u001b[0m \n",
      "Val Epoch:17: 10it [00:10,  1.66it/s]3)\u001b[0m \n",
      "Val Epoch:17: 11it [00:11,  1.06it/s]3)\u001b[0m \n",
      "Val Epoch:17: 12it [00:12,  1.42it/s]3)\u001b[0m \n",
      "Val Epoch:17: 14it [00:12,  2.32it/s]3)\u001b[0m \n",
      "Val Epoch:17: 15it [00:12,  2.25it/s]3)\u001b[0m \n",
      "Val Epoch:17: 16it [00:13,  2.51it/s]3)\u001b[0m \n",
      "Val Epoch:17: 17it [00:15,  1.13it/s]3)\u001b[0m \n"
     ]
    },
    {
     "name": "stdout",
     "output_type": "stream",
     "text": [
      "\u001b[36m(tune_with_parameters pid=3287704)\u001b[0m loss: 0.658\n"
     ]
    },
    {
     "name": "stderr",
     "output_type": "stream",
     "text": [
      "Val Epoch:17: 19it [00:15,  1.79it/s]3)\u001b[0m \n",
      "Val Epoch:17: 21it [00:16,  2.15it/s]3)\u001b[0m \n",
      "Val Epoch:17: 23it [00:16,  3.04it/s]3)\u001b[0m \n",
      "Val Epoch:17: 24it [00:16,  3.40it/s]3)\u001b[0m \n",
      "Val Epoch:17: 25it [00:17,  2.30it/s]3)\u001b[0m \n",
      "Val Epoch:17: 27it [00:17,  3.05it/s]3)\u001b[0m \n",
      "Val Epoch:17: 28it [00:17,  3.32it/s]3)\u001b[0m \n",
      "Val Epoch:17: 29it [00:18,  2.98it/s]3)\u001b[0m \n",
      "Val Epoch:17: 30it [00:18,  3.39it/s]3)\u001b[0m \n",
      "Val Epoch:17: 31it [00:18,  3.71it/s]3)\u001b[0m \n",
      "Val Epoch:17: 32it [00:19,  3.23it/s]3)\u001b[0m \n",
      "Val Epoch:17: 33it [00:21,  1.05it/s]3)\u001b[0m \n",
      "Val Epoch:17: 34it [00:21,  1.36it/s]3)\u001b[0m \n",
      "Val Epoch:17: 35it [00:22,  1.67it/s]3)\u001b[0m \n",
      "Val Epoch:17: 37it [00:22,  2.20it/s]3)\u001b[0m \n",
      "Val Epoch:17: 38it [00:23,  2.22it/s]3)\u001b[0m \n",
      "Val Epoch:17: 39it [00:23,  2.28it/s]3)\u001b[0m \n",
      "Val Epoch:17: 40it [00:23,  2.30it/s]3)\u001b[0m \n",
      "Val Epoch:17: 41it [00:26,  1.03it/s]3)\u001b[0m \n",
      "Val Epoch:17: 42it [00:26,  1.32it/s]3)\u001b[0m \n",
      "Val Epoch:17: 43it [00:26,  1.57it/s]3)\u001b[0m \n",
      "Val Epoch:17: 45it [00:27,  1.69it/s]3)\u001b[0m \n",
      "Val Epoch:17: 46it [00:28,  2.05it/s]3)\u001b[0m \n",
      "Val Epoch:17: 47it [00:28,  2.44it/s]3)\u001b[0m \n",
      "Val Epoch:17: 48it [00:28,  2.55it/s]3)\u001b[0m \n",
      "Val Epoch:17: 49it [00:30,  1.18it/s]3)\u001b[0m \n",
      "Val Epoch:17: 50it [00:30,  1.53it/s]3)\u001b[0m \n",
      "Val Epoch:17: 51it [00:31,  1.91it/s]3)\u001b[0m \n",
      "Val Epoch:17: 52it [00:31,  2.48it/s]3)\u001b[0m \n",
      "Val Epoch:17: 53it [00:31,  2.21it/s]3)\u001b[0m \n",
      "Val Epoch:17: 54it [00:32,  2.54it/s]3)\u001b[0m \n",
      "Val Epoch:17: 55it [00:32,  2.22it/s]3)\u001b[0m \n",
      "Val Epoch:17: 56it [00:33,  2.07it/s]3)\u001b[0m \n",
      "Val Epoch:17: 57it [00:34,  1.22it/s]3)\u001b[0m \n",
      "Val Epoch:17: 58it [00:34,  1.58it/s]3)\u001b[0m \n",
      "Val Epoch:17: 60it [00:35,  2.50it/s]3)\u001b[0m \n",
      "Val Epoch:17: 61it [00:36,  1.27it/s]3)\u001b[0m \n",
      "Val Epoch:17: 62it [00:37,  1.64it/s]3)\u001b[0m \n",
      "Val Epoch:17: 64it [00:37,  2.37it/s]3)\u001b[0m \n",
      "Val Epoch:17: 65it [00:39,  1.28it/s]3)\u001b[0m \n",
      "Val Epoch:17: 66it [00:39,  1.55it/s]3)\u001b[0m \n",
      "Val Epoch:17: 67it [00:39,  1.95it/s]3)\u001b[0m \n",
      "Val Epoch:17: 68it [00:40,  2.41it/s]3)\u001b[0m \n",
      "Val Epoch:17: 69it [00:40,  2.88it/s]3)\u001b[0m \n",
      "Val Epoch:17: 70it [00:40,  2.65it/s]3)\u001b[0m \n",
      "Val Epoch:17: 71it [00:40,  3.33it/s]3)\u001b[0m \n",
      "Val Epoch:17: 72it [00:41,  2.25it/s]3)\u001b[0m \n",
      "Val Epoch:17: 73it [00:43,  1.02s/it]3)\u001b[0m \n",
      "Val Epoch:17: 75it [00:44,  1.52it/s]3)\u001b[0m \n",
      "Val Epoch:17: 77it [00:45,  1.92it/s]3)\u001b[0m \n",
      "Val Epoch:17: 78it [00:45,  2.17it/s]3)\u001b[0m \n",
      "Val Epoch:17: 79it [00:45,  2.50it/s]3)\u001b[0m \n",
      "Val Epoch:17: 81it [00:46,  2.17it/s]3)\u001b[0m \n",
      "Val Epoch:17: 85it [00:47,  3.01it/s]3)\u001b[0m \n",
      "Val Epoch:17: 86it [00:47,  3.18it/s]3)\u001b[0m \n",
      "Val Epoch:17: 87it [00:48,  3.15it/s]3)\u001b[0m \n",
      "Val Epoch:17: 88it [00:48,  3.68it/s]3)\u001b[0m \n",
      "Val Epoch:17: 89it [00:50,  1.29it/s]3)\u001b[0m \n",
      "Val Epoch:17: 90it [00:50,  1.60it/s]3)\u001b[0m \n",
      "Val Epoch:17: 92it [00:51,  2.22it/s]3)\u001b[0m \n",
      "Val Epoch:17: 93it [00:51,  2.67it/s]3)\u001b[0m \n",
      "Val Epoch:17: 94it [00:51,  2.53it/s]3)\u001b[0m \n",
      "Val Epoch:17: 95it [00:52,  2.10it/s]3)\u001b[0m \n",
      "Val Epoch:17: 96it [00:52,  2.47it/s]3)\u001b[0m \n",
      "Val Epoch:17: 97it [00:54,  1.08it/s]3)\u001b[0m \n",
      "Val Epoch:17: 99it [00:55,  1.74it/s]3)\u001b[0m \n",
      "Val Epoch:17: 100it [00:55,  2.10it/s])\u001b[0m \n",
      "Val Epoch:17: 101it [00:55,  1.99it/s])\u001b[0m \n",
      "Val Epoch:17: 102it [00:56,  2.47it/s])\u001b[0m \n",
      "Val Epoch:17: 103it [00:56,  2.56it/s])\u001b[0m \n",
      "Val Epoch:17: 105it [00:58,  1.32it/s])\u001b[0m \n",
      "Val Epoch:17: 107it [00:59,  2.03it/s])\u001b[0m \n",
      "Val Epoch:17: 108it [00:59,  2.41it/s])\u001b[0m \n",
      "Val Epoch:17: 109it [00:59,  2.65it/s])\u001b[0m \n",
      "Val Epoch:17: 110it [01:00,  1.81it/s])\u001b[0m \n"
     ]
    },
    {
     "name": "stdout",
     "output_type": "stream",
     "text": [
      "\u001b[36m(tune_with_parameters pid=3287705)\u001b[0m loss: 0.637\n",
      "\u001b[36m(tune_with_parameters pid=3287703)\u001b[0m loss: 0.633\n",
      "\u001b[36m(tune_with_parameters pid=3287706)\u001b[0m loss: 0.657\n",
      "\u001b[36m(tune_with_parameters pid=3287704)\u001b[0m loss: 0.657\n",
      "\u001b[36m(tune_with_parameters pid=3287705)\u001b[0m loss: 0.636\n",
      "\u001b[36m(tune_with_parameters pid=3287703)\u001b[0m loss: 0.648\n",
      "\u001b[36m(tune_with_parameters pid=3287706)\u001b[0m loss: 0.657\n"
     ]
    },
    {
     "name": "stderr",
     "output_type": "stream",
     "text": [
      "Val Epoch:19: 0it [00:00, ?it/s]287705)\u001b[0m \n",
      "Val Epoch:19: 1it [00:06,  6.84s/it]05)\u001b[0m \n",
      "Val Epoch:19: 3it [00:07,  1.87s/it]05)\u001b[0m \n",
      "Val Epoch:19: 4it [00:07,  1.27s/it]05)\u001b[0m \n",
      "Val Epoch:19: 5it [00:07,  1.08it/s]05)\u001b[0m \n",
      "Val Epoch:19: 7it [00:07,  1.89it/s]05)\u001b[0m \n",
      "Val Epoch:19: 9it [00:08,  2.22it/s]05)\u001b[0m \n",
      "Val Epoch:19: 11it [00:08,  2.94it/s]5)\u001b[0m \n",
      "Val Epoch:19: 12it [00:08,  2.97it/s]5)\u001b[0m \n",
      "Val Epoch:19: 13it [00:09,  3.22it/s]5)\u001b[0m \n",
      "Val Epoch:19: 14it [00:09,  3.27it/s]5)\u001b[0m \n",
      "Val Epoch:19: 15it [00:09,  2.92it/s]5)\u001b[0m \n",
      "Val Epoch:19: 16it [00:10,  2.83it/s]5)\u001b[0m \n",
      "Val Epoch:19: 17it [00:12,  1.06it/s]5)\u001b[0m \n",
      "Val Epoch:19: 18it [00:13,  1.05it/s]5)\u001b[0m \n",
      "Val Epoch:19: 19it [00:13,  1.36it/s]5)\u001b[0m \n",
      "Val Epoch:19: 20it [00:14,  1.75it/s]5)\u001b[0m \n",
      "Val Epoch:19: 21it [00:14,  2.21it/s]5)\u001b[0m \n",
      "Val Epoch:19: 23it [00:14,  3.34it/s]5)\u001b[0m \n",
      "Val Epoch:19: 24it [00:14,  3.33it/s]5)\u001b[0m \n",
      "Val Epoch:19: 25it [00:17,  1.20it/s]5)\u001b[0m \n",
      "Val Epoch:19: 26it [00:18,  1.18it/s]5)\u001b[0m \n",
      "Val Epoch:19: 27it [00:18,  1.49it/s]5)\u001b[0m \n",
      "Val Epoch:19: 29it [00:18,  2.42it/s]5)\u001b[0m \n",
      "Val Epoch:19: 30it [00:18,  2.78it/s]5)\u001b[0m \n",
      "Val Epoch:19: 31it [00:18,  3.21it/s]5)\u001b[0m \n",
      "Val Epoch:19: 32it [00:19,  3.01it/s]5)\u001b[0m \n",
      "Val Epoch:19: 33it [00:21,  1.00s/it]5)\u001b[0m \n",
      "Val Epoch:19: 34it [00:22,  1.30it/s]5)\u001b[0m \n",
      "Val Epoch:19: 35it [00:22,  1.68it/s]5)\u001b[0m \n",
      "Val Epoch:19: 36it [00:22,  1.94it/s]5)\u001b[0m \n",
      "Val Epoch:19: 37it [00:22,  2.42it/s]5)\u001b[0m \n",
      "Val Epoch:19: 39it [00:23,  3.70it/s]5)\u001b[0m \n",
      "Val Epoch:19: 40it [00:23,  3.22it/s]5)\u001b[0m \n",
      "Val Epoch:19: 41it [00:26,  1.02s/it]5)\u001b[0m \n",
      "Val Epoch:19: 42it [00:26,  1.28it/s]5)\u001b[0m \n",
      "Val Epoch:19: 43it [00:26,  1.54it/s]5)\u001b[0m \n",
      "Val Epoch:19: 44it [00:27,  1.78it/s]5)\u001b[0m \n",
      "Val Epoch:19: 45it [00:27,  2.23it/s]5)\u001b[0m \n",
      "Val Epoch:19: 47it [00:27,  3.49it/s]5)\u001b[0m \n",
      "Val Epoch:19: 48it [00:28,  2.64it/s]5)\u001b[0m \n",
      "Val Epoch:19: 49it [00:30,  1.19it/s]5)\u001b[0m \n",
      "Val Epoch:19: 50it [00:30,  1.53it/s]5)\u001b[0m \n",
      "Val Epoch:19: 51it [00:30,  1.93it/s]5)\u001b[0m \n",
      "Val Epoch:19: 53it [00:31,  2.94it/s]5)\u001b[0m \n",
      "Val Epoch:19: 54it [00:31,  3.23it/s]5)\u001b[0m \n",
      "Val Epoch:19: 55it [00:31,  3.60it/s]5)\u001b[0m \n",
      "Val Epoch:19: 56it [00:31,  3.25it/s]5)\u001b[0m \n",
      "Val Epoch:19: 57it [00:34,  1.09s/it]5)\u001b[0m \n",
      "Val Epoch:19: 58it [00:35,  1.21it/s]5)\u001b[0m \n",
      "Val Epoch:19: 59it [00:35,  1.48it/s]5)\u001b[0m \n",
      "Val Epoch:19: 61it [00:35,  2.47it/s]5)\u001b[0m \n",
      "Val Epoch:19: 62it [00:35,  2.85it/s]5)\u001b[0m \n",
      "Val Epoch:19: 63it [00:35,  3.42it/s]5)\u001b[0m \n",
      "Val Epoch:19: 64it [00:36,  3.36it/s]5)\u001b[0m \n",
      "Val Epoch:19: 65it [00:38,  1.25it/s]5)\u001b[0m \n",
      "Val Epoch:19: 69it [00:38,  3.01it/s]5)\u001b[0m \n",
      "Val Epoch:19: 71it [00:38,  3.51it/s]5)\u001b[0m \n",
      "Val Epoch:19: 72it [00:39,  3.56it/s]5)\u001b[0m \n",
      "Val Epoch:19: 73it [00:41,  1.55it/s]5)\u001b[0m \n",
      "Val Epoch:19: 74it [00:41,  1.87it/s]5)\u001b[0m \n",
      "Val Epoch:19: 75it [00:41,  2.21it/s]5)\u001b[0m \n",
      "Val Epoch:19: 76it [00:41,  2.68it/s]5)\u001b[0m \n",
      "Val Epoch:19: 79it [00:41,  4.44it/s]5)\u001b[0m \n",
      "Val Epoch:19: 80it [00:42,  4.48it/s]5)\u001b[0m \n",
      "Val Epoch:19: 82it [00:46,  1.22it/s]5)\u001b[0m \n",
      "Val Epoch:19: 83it [00:46,  1.57it/s]5)\u001b[0m \n",
      "Val Epoch:19: 84it [00:46,  1.94it/s]5)\u001b[0m \n",
      "Val Epoch:19: 85it [00:46,  2.36it/s]5)\u001b[0m \n",
      "Val Epoch:19: 86it [00:46,  2.95it/s]5)\u001b[0m \n",
      "Val Epoch:19: 87it [00:47,  2.74it/s]5)\u001b[0m \n",
      "Val Epoch:19: 88it [00:47,  2.27it/s]5)\u001b[0m \n",
      "Val Epoch:19: 89it [00:51,  1.36s/it]5)\u001b[0m \n",
      "Val Epoch:19: 90it [00:51,  1.00s/it]5)\u001b[0m \n",
      "Val Epoch:19: 91it [00:51,  1.32it/s]5)\u001b[0m \n",
      "Val Epoch:19: 92it [00:51,  1.70it/s]5)\u001b[0m \n",
      "Val Epoch:19: 93it [00:51,  2.16it/s]5)\u001b[0m \n",
      "Val Epoch:19: 94it [00:52,  2.03it/s]5)\u001b[0m \n",
      "Val Epoch:20: 0it [00:00, ?it/s]287706)\u001b[0m \n",
      "Val Epoch:19: 95it [00:53,  2.02it/s]5)\u001b[0m \n",
      "Val Epoch:19: 96it [00:53,  2.58it/s]5)\u001b[0m \n",
      "Val Epoch:19: 97it [00:55,  1.10s/it]5)\u001b[0m \n",
      "Val Epoch:19: 99it [00:56,  1.59it/s]5)\u001b[0m \n",
      "Val Epoch:19: 100it [00:56,  1.79it/s])\u001b[0m \n",
      "Val Epoch:19: 101it [00:56,  2.20it/s])\u001b[0m \n",
      "Val Epoch:19: 103it [00:56,  3.42it/s])\u001b[0m \n",
      "Val Epoch:19: 104it [00:56,  3.85it/s])\u001b[0m \n",
      "Val Epoch:20: 1it [00:04,  4.95s/it]06)\u001b[0m \n"
     ]
    },
    {
     "name": "stdout",
     "output_type": "stream",
     "text": [
      "\u001b[36m(tune_with_parameters pid=3287704)\u001b[0m loss: 0.657\n"
     ]
    },
    {
     "name": "stderr",
     "output_type": "stream",
     "text": [
      "Val Epoch:20: 9it [00:10,  1.00it/s]\u001b[32m [repeated 13x across cluster]\u001b[0m\n",
      "Val Epoch:20: 24it [00:15,  3.70it/s]\u001b[32m [repeated 11x across cluster]\u001b[0m\n"
     ]
    },
    {
     "name": "stdout",
     "output_type": "stream",
     "text": [
      "\u001b[36m(tune_with_parameters pid=3287703)\u001b[0m loss: 0.648\n"
     ]
    },
    {
     "name": "stderr",
     "output_type": "stream",
     "text": [
      "Val Epoch:20: 34it [00:22,  1.14it/s]\u001b[32m [repeated 10x across cluster]\u001b[0m\n"
     ]
    },
    {
     "name": "stdout",
     "output_type": "stream",
     "text": [
      "\u001b[36m(tune_with_parameters pid=3287705)\u001b[0m loss: 0.633\n"
     ]
    },
    {
     "name": "stderr",
     "output_type": "stream",
     "text": [
      "Val Epoch:20: 45it [00:27,  2.08it/s]\u001b[32m [repeated 11x across cluster]\u001b[0m\n",
      "Val Epoch:20: 55it [00:32,  2.83it/s]\u001b[32m [repeated 9x across cluster]\u001b[0m\n",
      "Val Epoch:20: 66it [00:38,  1.45it/s]\u001b[32m [repeated 9x across cluster]\u001b[0m\n",
      "Val Epoch:20: 76it [00:44,  1.47it/s]\u001b[32m [repeated 9x across cluster]\u001b[0m\n",
      "Val Epoch:20: 90it [00:51,  1.06it/s]\u001b[32m [repeated 10x across cluster]\u001b[0m\n",
      "Val Epoch:20: 99it [00:57,  1.08it/s]\u001b[32m [repeated 8x across cluster]\u001b[0m\n",
      "Val Epoch:16: 0it [00:00, ?it/s]287704)\u001b[0m \n",
      "Val Epoch:20: 110it [01:01,  1.78it/s]\u001b[32m [repeated 9x across cluster]\u001b[0m\n"
     ]
    },
    {
     "name": "stdout",
     "output_type": "stream",
     "text": [
      "\u001b[36m(tune_with_parameters pid=3287706)\u001b[0m loss: 0.650\n"
     ]
    },
    {
     "name": "stderr",
     "output_type": "stream",
     "text": [
      "Val Epoch:16: 2it [00:05,  2.22s/it]\u001b[32m [repeated 2x across cluster]\u001b[0m\n",
      "Val Epoch:16: 11it [00:10,  1.34it/s]\u001b[32m [repeated 6x across cluster]\u001b[0m\n",
      "Val Epoch:16: 18it [00:15,  1.03s/it]\u001b[32m [repeated 6x across cluster]\u001b[0m\n",
      "Val Epoch:16: 22it [00:16,  2.05it/s]4)\u001b[0m \n",
      "Val Epoch:16: 26it [00:20,  1.30it/s]4)\u001b[0m \n",
      "Val Epoch:16: 27it [00:21,  1.14it/s]\u001b[32m [repeated 4x across cluster]\u001b[0m\n",
      "Val Epoch:16: 34it [00:25,  1.41it/s]4)\u001b[0m \n",
      "Val Epoch:16: 40it [00:26,  3.04it/s]\u001b[32m [repeated 10x across cluster]\u001b[0m\n",
      "Val Epoch:16: 49it [00:34,  1.17it/s]\u001b[32m [repeated 7x across cluster]\u001b[0m\n"
     ]
    },
    {
     "name": "stdout",
     "output_type": "stream",
     "text": [
      "\u001b[36m(tune_with_parameters pid=3287703)\u001b[0m loss: 0.648\n"
     ]
    },
    {
     "name": "stderr",
     "output_type": "stream",
     "text": [
      "Val Epoch:16: 69it [00:39,  2.30it/s]\u001b[32m [repeated 13x across cluster]\u001b[0m\n"
     ]
    },
    {
     "name": "stdout",
     "output_type": "stream",
     "text": [
      "\u001b[36m(tune_with_parameters pid=3287705)\u001b[0m loss: 0.634\n"
     ]
    },
    {
     "name": "stderr",
     "output_type": "stream",
     "text": [
      "Val Epoch:16: 89it [00:44,  2.90it/s]\u001b[32m [repeated 13x across cluster]\u001b[0m\n",
      "Val Epoch:16: 109it [00:50,  3.71it/s]\u001b[32m [repeated 13x across cluster]\u001b[0m\n"
     ]
    },
    {
     "name": "stdout",
     "output_type": "stream",
     "text": [
      "\u001b[36m(tune_with_parameters pid=3287704)\u001b[0m loss: 0.656\n",
      "\u001b[36m(tune_with_parameters pid=3287706)\u001b[0m loss: 0.658\n",
      "\u001b[36m(tune_with_parameters pid=3287703)\u001b[0m loss: 0.647\n",
      "\u001b[36m(tune_with_parameters pid=3287705)\u001b[0m loss: 0.632\n"
     ]
    },
    {
     "name": "stderr",
     "output_type": "stream",
     "text": [
      "Val Epoch:18: 0it [00:00, ?it/s]287703)\u001b[0m \n",
      "Val Epoch:16: 110it [00:50,  2.16it/s]\u001b[32m [repeated 2x across cluster]\u001b[0m\n"
     ]
    },
    {
     "name": "stdout",
     "output_type": "stream",
     "text": [
      "\u001b[36m(tune_with_parameters pid=3287706)\u001b[0m loss: 0.657\n"
     ]
    },
    {
     "name": "stderr",
     "output_type": "stream",
     "text": [
      "Val Epoch:18: 9it [00:04,  2.26it/s]\u001b[32m [repeated 6x across cluster]\u001b[0m\n",
      "Val Epoch:18: 29it [00:10,  3.18it/s]\u001b[32m [repeated 12x across cluster]\u001b[0m\n"
     ]
    },
    {
     "name": "stdout",
     "output_type": "stream",
     "text": [
      "\u001b[36m(tune_with_parameters pid=3287704)\u001b[0m loss: 0.657\n"
     ]
    },
    {
     "name": "stderr",
     "output_type": "stream",
     "text": [
      "Val Epoch:18: 41it [00:16,  1.28it/s]\u001b[32m [repeated 9x across cluster]\u001b[0m\n",
      "Val Epoch:18: 48it [00:17,  3.76it/s]3)\u001b[0m \n",
      "Val Epoch:18: 55it [00:21,  3.35it/s]\u001b[32m [repeated 9x across cluster]\u001b[0m\n",
      "Val Epoch:18: 65it [00:28,  1.09it/s]\u001b[32m [repeated 8x across cluster]\u001b[0m\n",
      "Val Epoch:18: 70it [00:29,  3.02it/s]3)\u001b[0m \n",
      "Val Epoch:18: 76it [00:36,  1.18s/it]\u001b[32m [repeated 8x across cluster]\u001b[0m\n",
      "Val Epoch:18: 83it [00:39,  2.09it/s]3)\u001b[0m \n"
     ]
    },
    {
     "name": "stdout",
     "output_type": "stream",
     "text": [
      "\u001b[36m(tune_with_parameters pid=3287705)\u001b[0m loss: 0.631\n"
     ]
    },
    {
     "name": "stderr",
     "output_type": "stream",
     "text": [
      "Val Epoch:18: 97it [00:42,  3.09it/s]\u001b[32m [repeated 11x across cluster]\u001b[0m\n"
     ]
    },
    {
     "name": "stdout",
     "output_type": "stream",
     "text": [
      "\u001b[36m(tune_with_parameters pid=3287703)\u001b[0m loss: 0.650\n",
      "\u001b[36m(tune_with_parameters pid=3287706)\u001b[0m loss: 0.657\n",
      "\u001b[36m(tune_with_parameters pid=3287705)\u001b[0m loss: 0.631\n",
      "\u001b[36m(tune_with_parameters pid=3287703)\u001b[0m loss: 0.646\u001b[32m [repeated 2x across cluster]\u001b[0m\n",
      "\u001b[36m(tune_with_parameters pid=3287706)\u001b[0m loss: 0.657\n"
     ]
    },
    {
     "name": "stderr",
     "output_type": "stream",
     "text": [
      "Val Epoch:20: 0it [00:00, ?it/s]287705)\u001b[0m \n",
      "Val Epoch:18: 110it [00:45,  2.43it/s]\u001b[32m [repeated 7x across cluster]\u001b[0m\n",
      "Val Epoch:20: 2it [00:06,  2.87s/it]\u001b[32m [repeated 2x across cluster]\u001b[0m\n",
      "Val Epoch:20: 17it [00:12,  1.19it/s]\u001b[32m [repeated 12x across cluster]\u001b[0m\n",
      "Val Epoch:20: 26it [00:17,  1.57it/s]\u001b[32m [repeated 6x across cluster]\u001b[0m\n",
      "Val Epoch:20: 41it [00:24,  1.42it/s]\u001b[32m [repeated 11x across cluster]\u001b[0m\n",
      "Val Epoch:20: 57it [00:31,  1.77it/s]\u001b[32m [repeated 9x across cluster]\u001b[0m\n",
      "Val Epoch:20: 81it [00:37,  4.28it/s]\u001b[32m [repeated 13x across cluster]\u001b[0m\n",
      "Val Epoch:21: 0it [00:00, ?it/s]287706)\u001b[0m \n",
      "Val Epoch:21: 12it [00:04,  3.87it/s]\u001b[32m [repeated 20x across cluster]\u001b[0m\n",
      "Val Epoch:21: 36it [00:09,  3.47it/s]\u001b[32m [repeated 18x across cluster]\u001b[0m\n"
     ]
    },
    {
     "name": "stdout",
     "output_type": "stream",
     "text": [
      "\u001b[36m(tune_with_parameters pid=3287704)\u001b[0m loss: 0.657\n"
     ]
    },
    {
     "name": "stderr",
     "output_type": "stream",
     "text": [
      "Val Epoch:21: 46it [00:11,  3.99it/s]6)\u001b[0m \n",
      "Val Epoch:21: 57it [00:14,  3.23it/s]\u001b[32m [repeated 11x across cluster]\u001b[0m\n",
      "Val Epoch:21: 83it [00:20,  4.21it/s]\u001b[32m [repeated 14x across cluster]\u001b[0m\n",
      "Val Epoch:21: 99it [00:25,  1.56it/s]\u001b[32m [repeated 12x across cluster]\u001b[0m\n",
      "Val Epoch:21: 110it [00:30,  3.58it/s]\u001b[32m [repeated 10x across cluster]\u001b[0m\n"
     ]
    },
    {
     "name": "stdout",
     "output_type": "stream",
     "text": [
      "\u001b[36m(tune_with_parameters pid=3287706)\u001b[0m loss: 0.655\u001b[32m [repeated 3x across cluster]\u001b[0m\n",
      "\u001b[36m(tune_with_parameters pid=3287703)\u001b[0m loss: 0.645\n",
      "\u001b[36m(tune_with_parameters pid=3287705)\u001b[0m loss: 0.626\n",
      "\u001b[36m(tune_with_parameters pid=3287704)\u001b[0m loss: 0.657\n",
      "\u001b[36m(tune_with_parameters pid=3287704)\u001b[0m \n",
      "\u001b[36m(tune_with_parameters pid=3287706)\u001b[0m loss: 0.657\n"
     ]
    },
    {
     "name": "stderr",
     "output_type": "stream",
     "text": [
      "Val Epoch:17: 0it [00:00, ?it/s]287704)\u001b[0m \n",
      "Val Epoch:17: 1it [00:02,  2.51s/it]04)\u001b[0m \n",
      "Val Epoch:17: 2it [00:02,  1.27s/it]04)\u001b[0m \n",
      "Val Epoch:17: 3it [00:03,  1.36it/s]04)\u001b[0m \n",
      "Val Epoch:17: 4it [00:03,  1.65it/s]04)\u001b[0m \n",
      "Val Epoch:17: 5it [00:03,  2.34it/s]04)\u001b[0m \n"
     ]
    },
    {
     "name": "stdout",
     "output_type": "stream",
     "text": [
      "\u001b[36m(tune_with_parameters pid=3287703)\u001b[0m loss: 0.645\n",
      "\u001b[36m(tune_with_parameters pid=3287705)\u001b[0m loss: 0.624\n"
     ]
    },
    {
     "name": "stderr",
     "output_type": "stream",
     "text": [
      "Val Epoch:17: 7it [00:03,  3.61it/s]04)\u001b[0m \n",
      "Val Epoch:17: 8it [00:03,  4.27it/s]04)\u001b[0m \n",
      "Val Epoch:17: 9it [00:04,  2.42it/s]04)\u001b[0m \n",
      "Val Epoch:17: 10it [00:05,  2.68it/s]4)\u001b[0m \n",
      "Val Epoch:17: 11it [00:05,  3.37it/s]4)\u001b[0m \n",
      "Val Epoch:17: 12it [00:05,  3.85it/s]4)\u001b[0m \n",
      "Val Epoch:17: 14it [00:05,  4.58it/s]4)\u001b[0m \n",
      "Val Epoch:17: 15it [00:05,  5.19it/s]4)\u001b[0m \n",
      "Val Epoch:17: 16it [00:05,  5.74it/s]4)\u001b[0m \n",
      "Val Epoch:17: 17it [00:06,  2.54it/s]4)\u001b[0m \n",
      "Val Epoch:17: 18it [00:07,  2.81it/s]4)\u001b[0m \n",
      "Val Epoch:17: 19it [00:07,  3.51it/s]4)\u001b[0m \n",
      "Val Epoch:17: 20it [00:07,  3.12it/s]4)\u001b[0m \n",
      "Val Epoch:17: 21it [00:07,  3.39it/s]4)\u001b[0m \n",
      "Val Epoch:17: 22it [00:08,  3.73it/s]4)\u001b[0m \n",
      "Val Epoch:17: 23it [00:08,  3.87it/s]4)\u001b[0m \n",
      "Val Epoch:17: 24it [00:08,  3.78it/s]4)\u001b[0m \n",
      "Val Epoch:17: 25it [00:11,  1.00s/it]4)\u001b[0m \n",
      "Val Epoch:17: 26it [00:11,  1.23it/s]4)\u001b[0m \n",
      "Val Epoch:17: 27it [00:11,  1.61it/s]4)\u001b[0m \n",
      "Val Epoch:17: 28it [00:12,  2.06it/s]4)\u001b[0m \n",
      "Val Epoch:17: 29it [00:12,  2.47it/s]4)\u001b[0m \n",
      "Val Epoch:17: 30it [00:12,  2.70it/s]4)\u001b[0m \n",
      "Val Epoch:17: 31it [00:12,  2.72it/s]4)\u001b[0m \n",
      "Val Epoch:17: 32it [00:13,  2.53it/s]4)\u001b[0m \n",
      "Val Epoch:17: 33it [00:16,  1.13s/it]4)\u001b[0m \n",
      "Val Epoch:17: 34it [00:16,  1.19it/s]4)\u001b[0m \n",
      "Val Epoch:17: 35it [00:16,  1.56it/s]4)\u001b[0m \n",
      "Val Epoch:17: 36it [00:17,  1.36it/s]4)\u001b[0m \n",
      "Val Epoch:17: 37it [00:17,  1.58it/s]4)\u001b[0m \n",
      "Val Epoch:17: 39it [00:18,  2.24it/s]4)\u001b[0m \n",
      "Val Epoch:17: 40it [00:18,  2.61it/s]4)\u001b[0m \n",
      "Val Epoch:17: 41it [00:23,  1.50s/it]4)\u001b[0m \n",
      "Val Epoch:17: 43it [00:23,  1.04it/s]4)\u001b[0m \n",
      "Val Epoch:17: 44it [00:23,  1.28it/s]4)\u001b[0m \n",
      "Val Epoch:17: 45it [00:24,  1.57it/s]4)\u001b[0m \n",
      "Val Epoch:17: 47it [00:24,  2.20it/s]4)\u001b[0m \n",
      "Val Epoch:17: 48it [00:24,  2.41it/s]4)\u001b[0m \n",
      "Val Epoch:17: 49it [00:28,  1.19s/it]4)\u001b[0m \n",
      "Val Epoch:17: 51it [00:28,  1.35it/s]4)\u001b[0m \n",
      "Val Epoch:17: 52it [00:28,  1.63it/s]4)\u001b[0m \n",
      "Val Epoch:17: 53it [00:29,  1.82it/s]4)\u001b[0m \n",
      "Val Epoch:17: 54it [00:29,  2.30it/s]4)\u001b[0m \n",
      "Val Epoch:17: 55it [00:29,  2.77it/s]4)\u001b[0m \n",
      "Val Epoch:17: 56it [00:29,  3.29it/s]4)\u001b[0m \n",
      "Val Epoch:17: 57it [00:34,  1.50s/it]4)\u001b[0m \n",
      "Val Epoch:17: 58it [00:34,  1.11s/it]4)\u001b[0m \n",
      "Val Epoch:17: 59it [00:34,  1.18it/s]4)\u001b[0m \n",
      "Val Epoch:17: 60it [00:34,  1.52it/s]4)\u001b[0m \n",
      "Val Epoch:17: 62it [00:34,  2.50it/s]4)\u001b[0m \n",
      "Val Epoch:17: 63it [00:34,  2.96it/s]4)\u001b[0m \n",
      "Val Epoch:17: 64it [00:35,  2.88it/s]4)\u001b[0m \n",
      "Val Epoch:17: 65it [00:39,  1.31s/it]4)\u001b[0m \n",
      "Val Epoch:17: 66it [00:39,  1.02it/s]4)\u001b[0m \n",
      "Val Epoch:17: 67it [00:39,  1.36it/s]4)\u001b[0m \n",
      "Val Epoch:17: 68it [00:39,  1.78it/s]4)\u001b[0m \n",
      "Val Epoch:17: 69it [00:39,  2.28it/s]4)\u001b[0m \n",
      "Val Epoch:17: 71it [00:39,  3.45it/s]4)\u001b[0m \n",
      "Val Epoch:17: 72it [00:40,  3.05it/s]4)\u001b[0m \n"
     ]
    },
    {
     "name": "stdout",
     "output_type": "stream",
     "text": [
      "\u001b[36m(tune_with_parameters pid=3287706)\u001b[0m loss: 0.657\n"
     ]
    },
    {
     "name": "stderr",
     "output_type": "stream",
     "text": [
      "Val Epoch:17: 73it [00:43,  1.07it/s]4)\u001b[0m \n",
      "Val Epoch:17: 74it [00:43,  1.38it/s]4)\u001b[0m \n",
      "Val Epoch:17: 75it [00:43,  1.78it/s]4)\u001b[0m \n",
      "Val Epoch:17: 76it [00:43,  2.12it/s]4)\u001b[0m \n",
      "Val Epoch:17: 77it [00:43,  2.26it/s]4)\u001b[0m \n",
      "Val Epoch:17: 78it [00:44,  2.33it/s]4)\u001b[0m \n",
      "Val Epoch:17: 79it [00:44,  2.58it/s]4)\u001b[0m \n",
      "Val Epoch:17: 81it [00:48,  1.03s/it]4)\u001b[0m \n",
      "Val Epoch:17: 82it [00:48,  1.23it/s]4)\u001b[0m \n",
      "Val Epoch:17: 83it [00:48,  1.52it/s]4)\u001b[0m \n",
      "Val Epoch:17: 84it [00:49,  1.61it/s]4)\u001b[0m \n",
      "Val Epoch:17: 85it [00:49,  1.77it/s]4)\u001b[0m \n",
      "Val Epoch:17: 86it [00:49,  2.20it/s]4)\u001b[0m \n",
      "Val Epoch:17: 87it [00:50,  1.58it/s]4)\u001b[0m \n",
      "Val Epoch:17: 88it [00:51,  1.68it/s]4)\u001b[0m \n",
      "Val Epoch:17: 89it [00:54,  1.40s/it]4)\u001b[0m \n",
      "Val Epoch:17: 90it [00:54,  1.02s/it]4)\u001b[0m \n",
      "Val Epoch:17: 91it [00:54,  1.33it/s]4)\u001b[0m \n",
      "Val Epoch:17: 92it [00:55,  1.70it/s]4)\u001b[0m \n",
      "Val Epoch:17: 93it [00:55,  1.70it/s]4)\u001b[0m \n",
      "Val Epoch:17: 94it [00:56,  1.90it/s]4)\u001b[0m \n",
      "Val Epoch:17: 95it [00:56,  2.37it/s]4)\u001b[0m \n",
      "Val Epoch:17: 96it [00:56,  2.40it/s]4)\u001b[0m \n",
      "Val Epoch:19: 0it [00:00, ?it/s]287703)\u001b[0m \n",
      "Val Epoch:17: 97it [01:01,  1.63s/it]4)\u001b[0m \n",
      "Val Epoch:17: 99it [01:01,  1.04it/s]4)\u001b[0m \n",
      "Val Epoch:17: 100it [01:01,  1.25it/s])\u001b[0m \n",
      "Val Epoch:17: 101it [01:01,  1.53it/s])\u001b[0m \n",
      "Val Epoch:17: 102it [01:02,  1.68it/s])\u001b[0m \n",
      "Val Epoch:17: 103it [01:02,  1.91it/s])\u001b[0m \n",
      "Val Epoch:17: 109it [01:06,  2.04it/s]\u001b[32m [repeated 9x across cluster]\u001b[0m\n",
      "Val Epoch:19: 18it [00:13,  1.36it/s]\u001b[32m [repeated 10x across cluster]\u001b[0m\n",
      "Val Epoch:19: 26it [00:18,  1.05it/s]\u001b[32m [repeated 6x across cluster]\u001b[0m\n",
      "Val Epoch:19: 34it [00:24,  1.07it/s]\u001b[32m [repeated 7x across cluster]\u001b[0m\n",
      "Val Epoch:19: 43it [00:29,  1.26it/s]\u001b[32m [repeated 8x across cluster]\u001b[0m\n"
     ]
    },
    {
     "name": "stdout",
     "output_type": "stream",
     "text": [
      "\u001b[36m(tune_with_parameters pid=3287704)\u001b[0m loss: 0.665\n"
     ]
    },
    {
     "name": "stderr",
     "output_type": "stream",
     "text": [
      "Val Epoch:19: 57it [00:34,  2.71it/s]\u001b[32m [repeated 11x across cluster]\u001b[0m\n",
      "Val Epoch:19: 66it [00:39,  1.79it/s]\u001b[32m [repeated 7x across cluster]\u001b[0m\n"
     ]
    },
    {
     "name": "stdout",
     "output_type": "stream",
     "text": [
      "\u001b[36m(tune_with_parameters pid=3287705)\u001b[0m loss: 0.625\n"
     ]
    },
    {
     "name": "stderr",
     "output_type": "stream",
     "text": [
      "Val Epoch:19: 79it [00:44,  2.56it/s]\u001b[32m [repeated 12x across cluster]\u001b[0m\n",
      "Val Epoch:19: 90it [00:51,  1.21it/s]\u001b[32m [repeated 10x across cluster]\u001b[0m\n",
      "Val Epoch:19: 100it [00:56,  1.77it/s]\u001b[32m [repeated 8x across cluster]\u001b[0m\n",
      "Val Epoch:19: 110it [01:02,  1.77it/s]\u001b[32m [repeated 9x across cluster]\u001b[0m\n"
     ]
    },
    {
     "name": "stdout",
     "output_type": "stream",
     "text": [
      "\u001b[36m(tune_with_parameters pid=3287703)\u001b[0m /tmp/tmpxibnx1rg/checkpoint.pt\n"
     ]
    },
    {
     "name": "stderr",
     "output_type": "stream",
     "text": [
      "\u001b[36m(tune_with_parameters pid=3287703)\u001b[0m Checkpoint successfully created at: Checkpoint(filesystem=local, path=/scratch/users/k23058970/Model training/results/NSQ vs All LSTM/tune_with_parameters_2024-07-30_18-14-50/tune_with_parameters_5bcb0_00000_0_dp=0.5000,hidden_size=100,lr=0.0042,num_layers=2_2024-07-30_18-15-46/checkpoint_000002)\n"
     ]
    },
    {
     "name": "stdout",
     "output_type": "stream",
     "text": [
      "\u001b[36m(tune_with_parameters pid=3287703)\u001b[0m loss: 0.641\n",
      "\u001b[36m(tune_with_parameters pid=3287705)\u001b[0m loss: 0.635\u001b[32m [repeated 2x across cluster]\u001b[0m\n",
      "\u001b[36m(tune_with_parameters pid=3287704)\u001b[0m loss: 0.656\n",
      "\u001b[36m(tune_with_parameters pid=3287706)\u001b[0m loss: 0.657\n"
     ]
    },
    {
     "name": "stderr",
     "output_type": "stream",
     "text": [
      "Val Epoch:21: 0it [00:00, ?it/s]287705)\u001b[0m \n",
      "Val Epoch:21: 1it [00:04,  4.90s/it]05)\u001b[0m \n",
      "Val Epoch:21: 2it [00:06,  2.90s/it]05)\u001b[0m \n",
      "Val Epoch:21: 3it [00:06,  1.65s/it]05)\u001b[0m \n",
      "Val Epoch:21: 4it [00:06,  1.08s/it]05)\u001b[0m \n",
      "Val Epoch:21: 5it [00:06,  1.31it/s]05)\u001b[0m \n",
      "Val Epoch:21: 8it [00:07,  2.36it/s]05)\u001b[0m \n",
      "Val Epoch:21: 9it [00:08,  2.29it/s]05)\u001b[0m \n",
      "Val Epoch:21: 10it [00:09,  1.55it/s]5)\u001b[0m \n",
      "Val Epoch:21: 11it [00:09,  1.87it/s]5)\u001b[0m \n",
      "Val Epoch:21: 12it [00:09,  2.31it/s]5)\u001b[0m \n",
      "Val Epoch:21: 13it [00:09,  2.71it/s]5)\u001b[0m \n",
      "Val Epoch:21: 14it [00:10,  3.01it/s]5)\u001b[0m \n",
      "Val Epoch:21: 15it [00:10,  2.67it/s]5)\u001b[0m \n",
      "Val Epoch:21: 16it [00:11,  2.10it/s]5)\u001b[0m \n",
      "Val Epoch:21: 17it [00:11,  1.95it/s]5)\u001b[0m \n",
      "Val Epoch:21: 18it [00:13,  1.18it/s]5)\u001b[0m \n",
      "Val Epoch:21: 19it [00:13,  1.52it/s]5)\u001b[0m \n",
      "Val Epoch:21: 20it [00:13,  1.96it/s]5)\u001b[0m \n",
      "Val Epoch:21: 21it [00:14,  2.41it/s]5)\u001b[0m \n",
      "Val Epoch:21: 22it [00:14,  2.12it/s]5)\u001b[0m \n",
      "Val Epoch:21: 23it [00:14,  2.62it/s]5)\u001b[0m \n",
      "Val Epoch:21: 24it [00:15,  2.54it/s]5)\u001b[0m \n",
      "Val Epoch:21: 25it [00:16,  1.60it/s]5)\u001b[0m \n",
      "Val Epoch:21: 26it [00:17,  1.18it/s]5)\u001b[0m \n",
      "Val Epoch:21: 27it [00:18,  1.52it/s]5)\u001b[0m \n",
      "Val Epoch:21: 28it [00:18,  1.98it/s]5)\u001b[0m \n",
      "Val Epoch:21: 29it [00:18,  2.55it/s]5)\u001b[0m \n",
      "Val Epoch:21: 30it [00:18,  2.90it/s]5)\u001b[0m \n",
      "Val Epoch:21: 31it [00:18,  3.44it/s]5)\u001b[0m \n",
      "Val Epoch:21: 32it [00:19,  3.06it/s]5)\u001b[0m \n",
      "Val Epoch:21: 33it [00:20,  1.82it/s]5)\u001b[0m \n",
      "Val Epoch:21: 34it [00:22,  1.00it/s]5)\u001b[0m \n",
      "Val Epoch:21: 35it [00:22,  1.29it/s]5)\u001b[0m \n",
      "Val Epoch:21: 36it [00:22,  1.60it/s]5)\u001b[0m \n",
      "Val Epoch:21: 38it [00:23,  2.40it/s]5)\u001b[0m \n",
      "Val Epoch:21: 39it [00:23,  2.60it/s]5)\u001b[0m \n",
      "Val Epoch:21: 40it [00:23,  2.51it/s]5)\u001b[0m \n",
      "Val Epoch:21: 41it [00:24,  2.34it/s]5)\u001b[0m \n",
      "Val Epoch:21: 42it [00:26,  1.32it/s]5)\u001b[0m \n",
      "Val Epoch:21: 43it [00:26,  1.70it/s]5)\u001b[0m \n",
      "Val Epoch:21: 44it [00:26,  2.12it/s]5)\u001b[0m \n",
      "Val Epoch:21: 45it [00:26,  2.64it/s]5)\u001b[0m \n",
      "Val Epoch:21: 46it [00:26,  3.19it/s]5)\u001b[0m \n",
      "Val Epoch:21: 47it [00:26,  3.34it/s]5)\u001b[0m \n",
      "Val Epoch:21: 48it [00:27,  2.55it/s]5)\u001b[0m \n",
      "Val Epoch:21: 49it [00:28,  1.56it/s]5)\u001b[0m \n",
      "Val Epoch:21: 50it [00:30,  1.22it/s]5)\u001b[0m \n",
      "Val Epoch:21: 51it [00:30,  1.65it/s]5)\u001b[0m \n",
      "Val Epoch:21: 53it [00:30,  2.66it/s]5)\u001b[0m \n",
      "Val Epoch:21: 54it [00:30,  3.06it/s]5)\u001b[0m \n",
      "Val Epoch:21: 55it [00:30,  3.45it/s]5)\u001b[0m \n",
      "Val Epoch:21: 56it [00:31,  3.45it/s]5)\u001b[0m \n",
      "Val Epoch:21: 57it [00:32,  2.06it/s]5)\u001b[0m \n",
      "Val Epoch:21: 58it [00:32,  2.02it/s]5)\u001b[0m \n",
      "Val Epoch:21: 61it [00:32,  4.05it/s]5)\u001b[0m \n",
      "Val Epoch:21: 63it [00:32,  5.34it/s]5)\u001b[0m \n",
      "Val Epoch:21: 65it [00:34,  2.81it/s]5)\u001b[0m \n",
      "Val Epoch:21: 66it [00:34,  2.52it/s]5)\u001b[0m \n",
      "Val Epoch:21: 68it [00:35,  3.35it/s]5)\u001b[0m \n",
      "Val Epoch:21: 70it [00:35,  3.58it/s]5)\u001b[0m \n",
      "Val Epoch:21: 73it [00:35,  5.51it/s]5)\u001b[0m \n",
      "Val Epoch:21: 75it [00:36,  3.52it/s]5)\u001b[0m \n",
      "Val Epoch:21: 79it [00:36,  5.93it/s]5)\u001b[0m \n",
      "Val Epoch:21: 81it [00:37,  4.43it/s]5)\u001b[0m \n",
      "Val Epoch:22: 0it [00:00, ?it/s]287706)\u001b[0m \n",
      "Val Epoch:21: 83it [00:38,  3.55it/s]5)\u001b[0m \n",
      "Val Epoch:21: 84it [00:38,  3.93it/s]5)\u001b[0m \n",
      "Val Epoch:21: 85it [00:38,  4.35it/s]5)\u001b[0m \n",
      "Val Epoch:21: 86it [00:38,  4.51it/s]5)\u001b[0m \n",
      "Val Epoch:21: 88it [00:39,  5.78it/s]5)\u001b[0m \n",
      "Val Epoch:21: 89it [00:39,  4.94it/s]5)\u001b[0m \n",
      "Val Epoch:21: 90it [00:39,  3.50it/s]5)\u001b[0m \n",
      "Val Epoch:21: 91it [00:40,  4.03it/s]5)\u001b[0m \n",
      "Val Epoch:21: 93it [00:40,  5.41it/s]5)\u001b[0m \n",
      "Val Epoch:21: 94it [00:40,  3.94it/s]5)\u001b[0m \n",
      "Val Epoch:22: 1it [00:02,  2.72s/it]06)\u001b[0m \n",
      "Val Epoch:22: 32it [00:07,  5.68it/s]6)\u001b[0m \n",
      "Val Epoch:22: 29it [00:07,  5.21it/s]\u001b[32m [repeated 27x across cluster]\u001b[0m\n",
      "Val Epoch:22: 51it [00:12,  3.76it/s]\u001b[32m [repeated 13x across cluster]\u001b[0m\n"
     ]
    },
    {
     "name": "stdout",
     "output_type": "stream",
     "text": [
      "\u001b[36m(tune_with_parameters pid=3287705)\u001b[0m loss: 0.629\u001b[32m [repeated 2x across cluster]\u001b[0m\n"
     ]
    },
    {
     "name": "stderr",
     "output_type": "stream",
     "text": [
      "Val Epoch:22: 75it [00:17,  3.84it/s]\u001b[32m [repeated 16x across cluster]\u001b[0m\n"
     ]
    },
    {
     "name": "stdout",
     "output_type": "stream",
     "text": [
      "\u001b[36m(tune_with_parameters pid=3287703)\u001b[0m loss: 0.643\n",
      "\u001b[36m(tune_with_parameters pid=3287704)\u001b[0m loss: 0.656\n"
     ]
    },
    {
     "name": "stderr",
     "output_type": "stream",
     "text": [
      "Val Epoch:22: 97it [00:23,  2.19it/s]\u001b[32m [repeated 14x across cluster]\u001b[0m\n",
      "Val Epoch:22: 110it [00:29,  3.68it/s]\u001b[32m [repeated 12x across cluster]\u001b[0m\n"
     ]
    },
    {
     "name": "stdout",
     "output_type": "stream",
     "text": [
      "\u001b[36m(tune_with_parameters pid=3287706)\u001b[0m loss: 0.648\n",
      "\u001b[36m(tune_with_parameters pid=3287705)\u001b[0m loss: 0.663\n",
      "\u001b[36m(tune_with_parameters pid=3287703)\u001b[0m loss: 0.642\n",
      "\u001b[36m(tune_with_parameters pid=3287704)\u001b[0m loss: 0.657\n",
      "\u001b[36m(tune_with_parameters pid=3287705)\u001b[0m loss: 0.663\u001b[32m [repeated 2x across cluster]\u001b[0m\n",
      "\u001b[36m(tune_with_parameters pid=3287703)\u001b[0m loss: 0.647\n",
      "\u001b[36m(tune_with_parameters pid=3287706)\u001b[0m loss: 0.657\n",
      "\u001b[36m(tune_with_parameters pid=3287704)\u001b[0m loss: 0.657\n"
     ]
    },
    {
     "name": "stderr",
     "output_type": "stream",
     "text": [
      "Val Epoch:20: 0it [00:00, ?it/s]287703)\u001b[0m \n",
      "Val Epoch:20: 1it [00:07,  7.63s/it]03)\u001b[0m \n",
      "Val Epoch:20: 2it [00:08,  3.41s/it]03)\u001b[0m \n",
      "Val Epoch:20: 3it [00:08,  1.94s/it]03)\u001b[0m \n",
      "Val Epoch:20: 4it [00:08,  1.25s/it]03)\u001b[0m \n",
      "Val Epoch:20: 5it [00:08,  1.13it/s]03)\u001b[0m \n",
      "Val Epoch:20: 6it [00:08,  1.54it/s]03)\u001b[0m \n",
      "Val Epoch:20: 7it [00:09,  1.96it/s]03)\u001b[0m \n",
      "Val Epoch:20: 8it [00:09,  2.06it/s]03)\u001b[0m \n",
      "Val Epoch:20: 9it [00:11,  1.09it/s]03)\u001b[0m \n",
      "Val Epoch:20: 10it [00:12,  1.16it/s]3)\u001b[0m \n",
      "Val Epoch:20: 11it [00:12,  1.49it/s]3)\u001b[0m \n",
      "Val Epoch:20: 13it [00:12,  2.52it/s]3)\u001b[0m \n",
      "Val Epoch:20: 14it [00:12,  2.94it/s]3)\u001b[0m \n",
      "Val Epoch:20: 15it [00:12,  3.42it/s]3)\u001b[0m \n",
      "Val Epoch:20: 16it [00:13,  3.23it/s]3)\u001b[0m \n",
      "Val Epoch:20: 17it [00:15,  1.34it/s]3)\u001b[0m \n",
      "Val Epoch:20: 18it [00:15,  1.70it/s]3)\u001b[0m \n",
      "Val Epoch:20: 19it [00:15,  1.69it/s]3)\u001b[0m \n",
      "Val Epoch:20: 21it [00:16,  2.39it/s]3)\u001b[0m \n",
      "Val Epoch:20: 22it [00:16,  2.73it/s]3)\u001b[0m \n",
      "Val Epoch:20: 24it [00:17,  3.17it/s]3)\u001b[0m \n",
      "Val Epoch:20: 25it [00:17,  2.59it/s]3)\u001b[0m \n",
      "Val Epoch:20: 26it [00:19,  1.51it/s]3)\u001b[0m \n",
      "Val Epoch:20: 27it [00:19,  1.80it/s]3)\u001b[0m \n",
      "Val Epoch:20: 28it [00:19,  2.23it/s]3)\u001b[0m \n",
      "Val Epoch:20: 29it [00:19,  2.74it/s]3)\u001b[0m \n",
      "Val Epoch:20: 30it [00:19,  2.96it/s]3)\u001b[0m \n",
      "Val Epoch:20: 31it [00:20,  3.47it/s]3)\u001b[0m \n",
      "Val Epoch:20: 32it [00:20,  3.29it/s]3)\u001b[0m \n",
      "Val Epoch:20: 33it [00:22,  1.47it/s]3)\u001b[0m \n",
      "Val Epoch:20: 34it [00:23,  1.13it/s]3)\u001b[0m \n",
      "Val Epoch:20: 35it [00:24,  1.20it/s]3)\u001b[0m \n",
      "Val Epoch:20: 36it [00:24,  1.57it/s]3)\u001b[0m \n",
      "Val Epoch:20: 37it [00:24,  2.01it/s]3)\u001b[0m \n",
      "Val Epoch:20: 38it [00:24,  2.27it/s]3)\u001b[0m \n",
      "Val Epoch:20: 39it [00:25,  2.72it/s]3)\u001b[0m \n",
      "Val Epoch:20: 40it [00:25,  2.88it/s]3)\u001b[0m \n",
      "Val Epoch:20: 41it [00:25,  2.68it/s]3)\u001b[0m \n",
      "Val Epoch:20: 42it [00:26,  1.65it/s]3)\u001b[0m \n",
      "Val Epoch:20: 43it [00:28,  1.27it/s]3)\u001b[0m \n",
      "Val Epoch:20: 44it [00:28,  1.66it/s]3)\u001b[0m \n",
      "Val Epoch:20: 45it [00:28,  2.12it/s]3)\u001b[0m \n",
      "Val Epoch:20: 46it [00:28,  2.60it/s]3)\u001b[0m \n"
     ]
    },
    {
     "name": "stdout",
     "output_type": "stream",
     "text": [
      "\u001b[36m(tune_with_parameters pid=3287705)\u001b[0m loss: 0.663\n"
     ]
    },
    {
     "name": "stderr",
     "output_type": "stream",
     "text": [
      "Val Epoch:20: 47it [00:29,  2.32it/s]3)\u001b[0m \n",
      "Val Epoch:20: 48it [00:29,  2.91it/s]3)\u001b[0m \n",
      "Val Epoch:20: 49it [00:30,  1.90it/s]3)\u001b[0m \n",
      "Val Epoch:20: 50it [00:31,  1.49it/s]3)\u001b[0m \n",
      "Val Epoch:20: 51it [00:31,  1.92it/s]3)\u001b[0m \n",
      "Val Epoch:20: 52it [00:32,  1.52it/s]3)\u001b[0m \n",
      "Val Epoch:20: 53it [00:32,  1.78it/s]3)\u001b[0m \n",
      "Val Epoch:20: 54it [00:32,  2.18it/s]3)\u001b[0m \n",
      "Val Epoch:20: 55it [00:33,  2.08it/s]3)\u001b[0m \n",
      "Val Epoch:20: 56it [00:33,  2.60it/s]3)\u001b[0m \n",
      "Val Epoch:20: 57it [00:34,  2.36it/s]3)\u001b[0m \n",
      "Val Epoch:20: 58it [00:35,  1.42it/s]3)\u001b[0m \n",
      "Val Epoch:20: 59it [00:36,  1.23it/s]3)\u001b[0m \n",
      "Val Epoch:20: 60it [00:37,  1.43it/s]3)\u001b[0m \n",
      "Val Epoch:20: 61it [00:37,  1.80it/s]3)\u001b[0m \n",
      "Val Epoch:20: 62it [00:37,  1.96it/s]3)\u001b[0m \n",
      "Val Epoch:20: 63it [00:37,  2.48it/s]3)\u001b[0m \n",
      "Val Epoch:20: 64it [00:38,  2.35it/s]3)\u001b[0m \n",
      "Val Epoch:20: 65it [00:39,  1.92it/s]3)\u001b[0m \n",
      "Val Epoch:20: 66it [00:40,  1.39it/s]3)\u001b[0m \n",
      "Val Epoch:20: 67it [00:40,  1.62it/s]3)\u001b[0m \n",
      "Val Epoch:20: 68it [00:40,  1.83it/s]3)\u001b[0m \n",
      "Val Epoch:20: 69it [00:41,  2.02it/s]3)\u001b[0m \n",
      "Val Epoch:20: 71it [00:41,  2.86it/s]3)\u001b[0m \n",
      "Val Epoch:20: 72it [00:42,  2.75it/s]3)\u001b[0m \n",
      "Val Epoch:20: 73it [00:42,  2.22it/s]3)\u001b[0m \n",
      "Val Epoch:20: 74it [00:43,  1.86it/s]3)\u001b[0m \n",
      "Val Epoch:20: 75it [00:44,  1.69it/s]3)\u001b[0m \n",
      "Val Epoch:20: 76it [00:44,  2.14it/s]3)\u001b[0m \n",
      "Val Epoch:20: 77it [00:44,  2.39it/s]3)\u001b[0m \n",
      "Val Epoch:20: 78it [00:45,  2.38it/s]3)\u001b[0m \n",
      "Val Epoch:20: 79it [00:45,  2.82it/s]3)\u001b[0m \n",
      "Val Epoch:20: 81it [00:46,  2.08it/s]3)\u001b[0m \n",
      "Val Epoch:20: 82it [00:47,  1.60it/s]3)\u001b[0m \n",
      "Val Epoch:20: 83it [00:48,  1.82it/s]3)\u001b[0m \n",
      "Val Epoch:20: 84it [00:48,  2.07it/s]3)\u001b[0m \n",
      "Val Epoch:20: 85it [00:48,  2.27it/s]3)\u001b[0m \n",
      "Val Epoch:20: 86it [00:49,  2.15it/s]3)\u001b[0m \n",
      "Val Epoch:20: 88it [00:49,  2.69it/s]3)\u001b[0m \n",
      "Val Epoch:20: 89it [00:50,  1.77it/s]3)\u001b[0m \n",
      "Val Epoch:20: 90it [00:51,  1.65it/s]3)\u001b[0m \n",
      "Val Epoch:20: 91it [00:51,  2.04it/s]3)\u001b[0m \n",
      "Val Epoch:20: 92it [00:51,  2.51it/s]3)\u001b[0m \n",
      "Val Epoch:20: 93it [00:52,  2.85it/s]3)\u001b[0m \n",
      "Val Epoch:20: 94it [00:52,  2.53it/s]3)\u001b[0m \n",
      "Val Epoch:20: 95it [00:52,  3.01it/s]3)\u001b[0m \n",
      "Val Epoch:20: 96it [00:53,  3.04it/s]3)\u001b[0m \n",
      "Val Epoch:20: 97it [00:54,  1.67it/s]3)\u001b[0m \n",
      "Val Epoch:20: 98it [00:55,  1.18it/s]3)\u001b[0m \n",
      "Val Epoch:20: 100it [00:56,  2.02it/s])\u001b[0m \n",
      "Val Epoch:20: 101it [00:56,  2.31it/s])\u001b[0m \n",
      "Val Epoch:20: 102it [00:56,  2.88it/s])\u001b[0m \n",
      "Val Epoch:20: 103it [00:56,  3.45it/s])\u001b[0m \n",
      "Val Epoch:20: 104it [00:56,  4.01it/s])\u001b[0m \n",
      "Val Epoch:20: 105it [00:57,  2.71it/s])\u001b[0m \n",
      "Val Epoch:20: 106it [00:58,  1.63it/s])\u001b[0m \n",
      "Val Epoch:20: 107it [00:58,  2.14it/s])\u001b[0m \n",
      "Val Epoch:20: 108it [00:59,  2.76it/s])\u001b[0m \n",
      "Val Epoch:20: 109it [00:59,  2.69it/s])\u001b[0m \n",
      "Val Epoch:20: 110it [01:01,  1.80it/s])\u001b[0m \n"
     ]
    },
    {
     "name": "stdout",
     "output_type": "stream",
     "text": [
      "\u001b[36m(tune_with_parameters pid=3287703)\u001b[0m /tmp/tmp_0vtbz9z/checkpoint.pt\n"
     ]
    },
    {
     "name": "stderr",
     "output_type": "stream",
     "text": [
      "\u001b[36m(tune_with_parameters pid=3287703)\u001b[0m Checkpoint successfully created at: Checkpoint(filesystem=local, path=/scratch/users/k23058970/Model training/results/NSQ vs All LSTM/tune_with_parameters_2024-07-30_18-14-50/tune_with_parameters_5bcb0_00000_0_dp=0.5000,hidden_size=100,lr=0.0042,num_layers=2_2024-07-30_18-15-46/checkpoint_000003)\n",
      "Val Epoch:18: 0it [00:00, ?it/s]287704)\u001b[0m \n",
      "Val Epoch:18: 1it [00:05,  5.87s/it]04)\u001b[0m \n",
      "Val Epoch:18: 2it [00:06,  2.66s/it]04)\u001b[0m \n",
      "Val Epoch:18: 3it [00:06,  1.53s/it]04)\u001b[0m \n",
      "Val Epoch:18: 4it [00:07,  1.22s/it]04)\u001b[0m \n",
      "Val Epoch:18: 5it [00:07,  1.15it/s]04)\u001b[0m \n",
      "Val Epoch:18: 6it [00:07,  1.54it/s]04)\u001b[0m \n",
      "Val Epoch:18: 7it [00:08,  1.71it/s]04)\u001b[0m \n"
     ]
    },
    {
     "name": "stdout",
     "output_type": "stream",
     "text": [
      "\u001b[36m(tune_with_parameters pid=3287706)\u001b[0m loss: 0.657\n"
     ]
    },
    {
     "name": "stderr",
     "output_type": "stream",
     "text": [
      "Val Epoch:18: 8it [00:08,  2.04it/s]04)\u001b[0m \n",
      "Val Epoch:18: 9it [00:12,  1.48s/it]04)\u001b[0m \n",
      "Val Epoch:18: 10it [00:12,  1.09s/it]4)\u001b[0m \n",
      "Val Epoch:18: 11it [00:12,  1.23it/s]4)\u001b[0m \n",
      "Val Epoch:18: 12it [00:13,  1.19it/s]4)\u001b[0m \n",
      "Val Epoch:18: 13it [00:13,  1.47it/s]4)\u001b[0m \n",
      "Val Epoch:18: 14it [00:13,  1.80it/s]4)\u001b[0m \n",
      "Val Epoch:18: 15it [00:14,  2.13it/s]4)\u001b[0m \n",
      "Val Epoch:18: 16it [00:14,  2.59it/s]4)\u001b[0m \n"
     ]
    },
    {
     "name": "stdout",
     "output_type": "stream",
     "text": [
      "\u001b[36m(tune_with_parameters pid=3287703)\u001b[0m loss: 0.643\n"
     ]
    },
    {
     "name": "stderr",
     "output_type": "stream",
     "text": [
      "Val Epoch:18: 17it [00:17,  1.24s/it]4)\u001b[0m \n",
      "Val Epoch:18: 19it [00:17,  1.39it/s]4)\u001b[0m \n",
      "Val Epoch:18: 20it [00:18,  1.52it/s]4)\u001b[0m \n",
      "Val Epoch:18: 21it [00:18,  1.74it/s]4)\u001b[0m \n",
      "Val Epoch:18: 22it [00:20,  1.03it/s]4)\u001b[0m \n",
      "Val Epoch:18: 23it [00:21,  1.27it/s]4)\u001b[0m \n",
      "Val Epoch:18: 24it [00:21,  1.67it/s]4)\u001b[0m \n",
      "Val Epoch:18: 25it [00:23,  1.17s/it]4)\u001b[0m \n",
      "Val Epoch:18: 27it [00:24,  1.41it/s]4)\u001b[0m \n",
      "Val Epoch:18: 28it [00:24,  1.73it/s]4)\u001b[0m \n",
      "Val Epoch:18: 29it [00:24,  1.89it/s]4)\u001b[0m \n",
      "Val Epoch:18: 31it [00:24,  2.74it/s]4)\u001b[0m \n",
      "Val Epoch:18: 32it [00:25,  2.81it/s]4)\u001b[0m \n",
      "Val Epoch:18: 33it [00:28,  1.16s/it]4)\u001b[0m \n",
      "Val Epoch:18: 34it [00:28,  1.11it/s]4)\u001b[0m \n",
      "Val Epoch:18: 35it [00:29,  1.35it/s]4)\u001b[0m \n",
      "Val Epoch:18: 36it [00:29,  1.76it/s]4)\u001b[0m \n",
      "Val Epoch:18: 37it [00:29,  2.07it/s]4)\u001b[0m \n",
      "Val Epoch:18: 39it [00:29,  3.00it/s]4)\u001b[0m \n",
      "Val Epoch:18: 40it [00:30,  2.90it/s]4)\u001b[0m \n",
      "Val Epoch:18: 41it [00:34,  1.31s/it]4)\u001b[0m \n",
      "Val Epoch:18: 42it [00:34,  1.00s/it]4)\u001b[0m \n",
      "Val Epoch:18: 44it [00:34,  1.59it/s]4)\u001b[0m \n",
      "Val Epoch:18: 45it [00:35,  1.75it/s]4)\u001b[0m \n",
      "Val Epoch:18: 47it [00:35,  2.33it/s]4)\u001b[0m \n",
      "Val Epoch:18: 49it [00:38,  1.20it/s]4)\u001b[0m \n",
      "Val Epoch:18: 50it [00:38,  1.45it/s]4)\u001b[0m \n",
      "Val Epoch:18: 51it [00:39,  1.75it/s]4)\u001b[0m \n",
      "Val Epoch:18: 53it [00:39,  2.62it/s]4)\u001b[0m \n",
      "Val Epoch:18: 54it [00:39,  2.71it/s]4)\u001b[0m \n",
      "Val Epoch:18: 55it [00:39,  2.99it/s]4)\u001b[0m \n",
      "Val Epoch:18: 56it [00:40,  2.62it/s]4)\u001b[0m \n",
      "Val Epoch:18: 57it [00:44,  1.41s/it]4)\u001b[0m \n",
      "Val Epoch:18: 58it [00:44,  1.06s/it]4)\u001b[0m \n",
      "Val Epoch:18: 59it [00:44,  1.23it/s]4)\u001b[0m \n",
      "Val Epoch:18: 60it [00:45,  1.58it/s]4)\u001b[0m \n",
      "Val Epoch:18: 61it [00:45,  1.88it/s]4)\u001b[0m \n",
      "Val Epoch:18: 63it [00:45,  2.86it/s]4)\u001b[0m \n",
      "Val Epoch:18: 64it [00:46,  2.79it/s]4)\u001b[0m \n",
      "Val Epoch:18: 65it [00:50,  1.38s/it]4)\u001b[0m \n",
      "Val Epoch:18: 66it [00:50,  1.06s/it]4)\u001b[0m \n",
      "Val Epoch:18: 67it [00:50,  1.23it/s]4)\u001b[0m \n",
      "Val Epoch:18: 68it [00:50,  1.58it/s]4)\u001b[0m \n",
      "Val Epoch:18: 70it [00:51,  2.61it/s]4)\u001b[0m \n",
      "Val Epoch:18: 71it [00:51,  2.68it/s]4)\u001b[0m \n",
      "Val Epoch:18: 72it [00:51,  3.12it/s]4)\u001b[0m \n",
      "Val Epoch:18: 73it [00:56,  1.70s/it]4)\u001b[0m \n",
      "Val Epoch:18: 74it [00:57,  1.27s/it]4)\u001b[0m \n",
      "Val Epoch:18: 75it [00:57,  1.02s/it]4)\u001b[0m \n",
      "Val Epoch:18: 76it [00:57,  1.26it/s]4)\u001b[0m \n",
      "Val Epoch:18: 77it [00:57,  1.65it/s]4)\u001b[0m \n",
      "Val Epoch:18: 79it [00:58,  2.65it/s]4)\u001b[0m \n",
      "Val Epoch:18: 80it [00:58,  2.73it/s]4)\u001b[0m \n"
     ]
    },
    {
     "name": "stdout",
     "output_type": "stream",
     "text": [
      "\u001b[36m(tune_with_parameters pid=3287705)\u001b[0m loss: 0.663\n"
     ]
    },
    {
     "name": "stderr",
     "output_type": "stream",
     "text": [
      "Val Epoch:18: 81it [01:01,  1.15s/it]4)\u001b[0m \n",
      "Val Epoch:18: 82it [01:02,  1.09it/s]4)\u001b[0m \n",
      "Val Epoch:18: 83it [01:02,  1.41it/s]4)\u001b[0m \n",
      "Val Epoch:18: 84it [01:02,  1.80it/s]4)\u001b[0m \n",
      "Val Epoch:18: 85it [01:02,  2.23it/s]4)\u001b[0m \n",
      "Val Epoch:18: 86it [01:03,  2.37it/s]4)\u001b[0m \n",
      "Val Epoch:18: 87it [01:03,  2.69it/s]4)\u001b[0m \n",
      "Val Epoch:18: 88it [01:03,  3.17it/s]4)\u001b[0m \n",
      "Val Epoch:18: 89it [01:07,  1.35s/it]4)\u001b[0m \n",
      "Val Epoch:18: 90it [01:07,  1.04s/it]4)\u001b[0m \n",
      "Val Epoch:18: 91it [01:07,  1.27it/s]4)\u001b[0m \n",
      "Val Epoch:18: 93it [01:08,  1.96it/s]4)\u001b[0m \n",
      "Val Epoch:18: 94it [01:08,  2.00it/s]4)\u001b[0m \n",
      "Val Epoch:18: 95it [01:08,  2.32it/s]4)\u001b[0m \n",
      "Val Epoch:18: 96it [01:09,  2.71it/s]4)\u001b[0m \n",
      "Val Epoch:18: 97it [01:13,  1.38s/it]4)\u001b[0m \n",
      "Val Epoch:18: 99it [01:13,  1.23it/s]4)\u001b[0m \n",
      "Val Epoch:18: 100it [01:13,  1.51it/s])\u001b[0m \n",
      "Val Epoch:18: 101it [01:13,  1.89it/s])\u001b[0m \n",
      "Val Epoch:18: 102it [01:13,  2.25it/s])\u001b[0m \n",
      "Val Epoch:18: 103it [01:14,  2.50it/s])\u001b[0m \n",
      "Val Epoch:18: 104it [01:14,  2.90it/s])\u001b[0m \n",
      "Val Epoch:18: 105it [01:17,  1.26s/it])\u001b[0m \n",
      "Val Epoch:18: 107it [01:17,  1.38it/s])\u001b[0m \n",
      "Val Epoch:18: 108it [01:18,  1.71it/s])\u001b[0m \n",
      "Val Epoch:18: 109it [01:18,  2.13it/s])\u001b[0m \n",
      "Val Epoch:18: 110it [01:18,  2.65it/s])\u001b[0m \n",
      "Val Epoch:18: 110it [01:20,  1.37it/s])\u001b[0m \n"
     ]
    },
    {
     "name": "stdout",
     "output_type": "stream",
     "text": [
      "\u001b[36m(tune_with_parameters pid=3287704)\u001b[0m loss: 0.647\n",
      "\u001b[36m(tune_with_parameters pid=3287706)\u001b[0m loss: 0.657\n"
     ]
    },
    {
     "name": "stderr",
     "output_type": "stream",
     "text": [
      "Val Epoch:22: 0it [00:00, ?it/s]287705)\u001b[0m \n"
     ]
    },
    {
     "name": "stdout",
     "output_type": "stream",
     "text": [
      "\u001b[36m(tune_with_parameters pid=3287703)\u001b[0m loss: 0.658\n"
     ]
    },
    {
     "name": "stderr",
     "output_type": "stream",
     "text": [
      "Val Epoch:22: 1it [00:04,  4.42s/it]05)\u001b[0m \n",
      "Val Epoch:22: 2it [00:05,  2.36s/it]05)\u001b[0m \n",
      "Val Epoch:22: 3it [00:06,  1.62s/it]05)\u001b[0m \n",
      "Val Epoch:22: 4it [00:06,  1.24s/it]05)\u001b[0m \n",
      "Val Epoch:22: 6it [00:06,  1.58it/s]05)\u001b[0m \n",
      "Val Epoch:22: 7it [00:07,  1.97it/s]05)\u001b[0m \n",
      "Val Epoch:22: 8it [00:07,  2.37it/s]05)\u001b[0m \n",
      "Val Epoch:22: 9it [00:07,  2.22it/s]05)\u001b[0m \n",
      "Val Epoch:22: 10it [00:08,  1.77it/s]5)\u001b[0m \n",
      "Val Epoch:22: 11it [00:09,  1.78it/s]5)\u001b[0m \n",
      "Val Epoch:22: 12it [00:10,  1.19it/s]5)\u001b[0m \n",
      "Val Epoch:22: 13it [00:10,  1.56it/s]5)\u001b[0m \n",
      "Val Epoch:22: 14it [00:11,  1.99it/s]5)\u001b[0m \n",
      "Val Epoch:22: 15it [00:11,  2.39it/s]5)\u001b[0m \n",
      "Val Epoch:22: 17it [00:12,  1.76it/s]5)\u001b[0m \n",
      "Val Epoch:22: 18it [00:12,  2.18it/s]5)\u001b[0m \n",
      "Val Epoch:22: 19it [00:13,  2.39it/s]5)\u001b[0m \n",
      "Val Epoch:22: 20it [00:13,  2.89it/s]5)\u001b[0m \n",
      "Val Epoch:22: 24it [00:13,  5.80it/s]5)\u001b[0m \n",
      "Val Epoch:22: 25it [00:14,  3.72it/s]5)\u001b[0m \n",
      "Val Epoch:22: 26it [00:14,  4.19it/s]5)\u001b[0m \n",
      "Val Epoch:22: 27it [00:15,  2.60it/s]5)\u001b[0m \n",
      "Val Epoch:22: 28it [00:15,  2.96it/s]5)\u001b[0m \n",
      "Val Epoch:22: 29it [00:15,  3.46it/s]5)\u001b[0m \n",
      "Val Epoch:22: 32it [00:15,  5.97it/s]5)\u001b[0m \n",
      "Val Epoch:22: 33it [00:16,  4.08it/s]5)\u001b[0m \n",
      "Val Epoch:22: 34it [00:16,  3.46it/s]5)\u001b[0m \n",
      "Val Epoch:22: 35it [00:17,  3.72it/s]5)\u001b[0m \n",
      "Val Epoch:22: 36it [00:17,  3.69it/s]5)\u001b[0m \n",
      "Val Epoch:22: 38it [00:17,  5.27it/s]5)\u001b[0m \n",
      "Val Epoch:22: 40it [00:17,  6.21it/s]5)\u001b[0m \n",
      "Val Epoch:22: 41it [00:17,  5.55it/s]5)\u001b[0m \n",
      "Val Epoch:22: 42it [00:18,  4.66it/s]5)\u001b[0m \n",
      "Val Epoch:22: 43it [00:18,  4.33it/s]5)\u001b[0m \n",
      "Val Epoch:22: 44it [00:18,  4.72it/s]5)\u001b[0m \n",
      "Val Epoch:22: 46it [00:18,  6.47it/s]5)\u001b[0m \n",
      "Val Epoch:22: 48it [00:19,  8.05it/s]5)\u001b[0m \n",
      "Val Epoch:22: 49it [00:19,  6.73it/s]5)\u001b[0m \n",
      "Val Epoch:22: 50it [00:19,  5.18it/s]5)\u001b[0m \n",
      "Val Epoch:22: 51it [00:20,  2.59it/s]5)\u001b[0m \n",
      "Val Epoch:22: 52it [00:20,  2.75it/s]5)\u001b[0m \n",
      "Val Epoch:22: 53it [00:20,  3.38it/s]5)\u001b[0m \n",
      "Val Epoch:22: 55it [00:21,  4.92it/s]5)\u001b[0m \n",
      "Val Epoch:22: 57it [00:21,  5.82it/s]5)\u001b[0m \n",
      "Val Epoch:22: 58it [00:21,  5.16it/s]5)\u001b[0m \n",
      "Val Epoch:22: 59it [00:22,  3.73it/s]5)\u001b[0m \n",
      "Val Epoch:22: 60it [00:22,  4.26it/s]5)\u001b[0m \n",
      "Val Epoch:22: 61it [00:22,  4.92it/s]5)\u001b[0m \n",
      "Val Epoch:22: 63it [00:22,  7.12it/s]5)\u001b[0m \n",
      "Val Epoch:22: 65it [00:22,  7.80it/s]5)\u001b[0m \n",
      "Val Epoch:22: 66it [00:22,  6.67it/s]5)\u001b[0m \n",
      "Val Epoch:22: 67it [00:23,  3.51it/s]5)\u001b[0m \n",
      "Val Epoch:22: 69it [00:23,  5.22it/s]5)\u001b[0m \n",
      "Val Epoch:22: 71it [00:23,  6.68it/s]5)\u001b[0m \n",
      "Val Epoch:22: 73it [00:24,  6.69it/s]5)\u001b[0m \n",
      "Val Epoch:22: 74it [00:24,  6.15it/s]5)\u001b[0m \n",
      "Val Epoch:22: 75it [00:24,  4.46it/s]5)\u001b[0m \n",
      "Val Epoch:22: 76it [00:25,  3.17it/s]5)\u001b[0m \n",
      "Val Epoch:22: 79it [00:25,  4.83it/s]5)\u001b[0m \n",
      "Val Epoch:22: 81it [00:26,  5.22it/s]5)\u001b[0m \n",
      "Val Epoch:22: 82it [00:26,  5.52it/s]5)\u001b[0m \n",
      "Val Epoch:22: 83it [00:26,  3.52it/s]5)\u001b[0m \n",
      "Val Epoch:22: 84it [00:27,  2.70it/s]5)\u001b[0m \n",
      "Val Epoch:22: 85it [00:27,  3.24it/s]5)\u001b[0m \n",
      "Val Epoch:22: 87it [00:27,  4.95it/s]5)\u001b[0m \n",
      "Val Epoch:22: 89it [00:28,  4.22it/s]5)\u001b[0m \n",
      "Val Epoch:22: 90it [00:28,  3.85it/s]5)\u001b[0m \n",
      "Val Epoch:22: 91it [00:28,  4.11it/s]5)\u001b[0m \n",
      "Val Epoch:22: 92it [00:29,  3.41it/s]5)\u001b[0m \n",
      "Val Epoch:22: 94it [00:29,  4.35it/s]5)\u001b[0m \n",
      "Val Epoch:23: 0it [00:00, ?it/s]287706)\u001b[0m \n",
      "Val Epoch:22: 97it [00:29,  6.15it/s]5)\u001b[0m \n",
      "Val Epoch:22: 98it [00:30,  6.59it/s]5)\u001b[0m \n",
      "Val Epoch:22: 99it [00:30,  4.71it/s]5)\u001b[0m \n",
      "Val Epoch:22: 100it [00:31,  2.41it/s])\u001b[0m \n",
      "Val Epoch:22: 103it [00:31,  4.18it/s])\u001b[0m \n",
      "Val Epoch:23: 9it [00:03,  3.28it/s]\u001b[32m [repeated 9x across cluster]\u001b[0m\n",
      "Val Epoch:23: 34it [00:09,  3.04it/s]\u001b[32m [repeated 15x across cluster]\u001b[0m\n",
      "Val Epoch:23: 49it [00:14,  1.87it/s]\u001b[32m [repeated 6x across cluster]\u001b[0m\n"
     ]
    },
    {
     "name": "stdout",
     "output_type": "stream",
     "text": [
      "\u001b[36m(tune_with_parameters pid=3287705)\u001b[0m loss: 0.661\n"
     ]
    },
    {
     "name": "stderr",
     "output_type": "stream",
     "text": [
      "Val Epoch:23: 66it [00:21,  1.44it/s]6)\u001b[0m \n",
      "Val Epoch:23: 64it [00:18,  3.64it/s]\u001b[32m [repeated 9x across cluster]\u001b[0m\n",
      "Val Epoch:23: 81it [00:30,  1.00it/s]\u001b[32m [repeated 13x across cluster]\u001b[0m\n",
      "Val Epoch:23: 95it [00:35,  2.87it/s]\u001b[32m [repeated 13x across cluster]\u001b[0m\n"
     ]
    },
    {
     "name": "stdout",
     "output_type": "stream",
     "text": [
      "\u001b[36m(tune_with_parameters pid=3287703)\u001b[0m loss: 0.658\n"
     ]
    },
    {
     "name": "stderr",
     "output_type": "stream",
     "text": [
      "Val Epoch:23: 105it [00:42,  1.18it/s]\u001b[32m [repeated 8x across cluster]\u001b[0m\n"
     ]
    },
    {
     "name": "stdout",
     "output_type": "stream",
     "text": [
      "\u001b[36m(tune_with_parameters pid=3287704)\u001b[0m loss: 0.657\n",
      "\u001b[36m(tune_with_parameters pid=3287706)\u001b[0m loss: 0.629\n",
      "\u001b[36m(tune_with_parameters pid=3287705)\u001b[0m loss: 0.661\n",
      "\u001b[36m(tune_with_parameters pid=3287703)\u001b[0m loss: 0.657\n",
      "\u001b[36m(tune_with_parameters pid=3287706)\u001b[0m loss: 0.658\n",
      "\u001b[36m(tune_with_parameters pid=3287704)\u001b[0m loss: 0.658\n",
      "\u001b[36m(tune_with_parameters pid=3287705)\u001b[0m loss: 0.661\n",
      "\u001b[36m(tune_with_parameters pid=3287703)\u001b[0m loss: 0.657\n",
      "\u001b[36m(tune_with_parameters pid=3287706)\u001b[0m loss: 0.657\n"
     ]
    },
    {
     "name": "stderr",
     "output_type": "stream",
     "text": [
      "Val Epoch:21: 0it [00:00, ?it/s]287703)\u001b[0m \n",
      "Val Epoch:23: 110it [00:43,  2.54it/s]\u001b[32m [repeated 4x across cluster]\u001b[0m\n",
      "Val Epoch:21: 12it [00:05,  4.08it/s]\u001b[32m [repeated 10x across cluster]\u001b[0m\n",
      "Val Epoch:21: 25it [00:10,  1.30it/s]\u001b[32m [repeated 11x across cluster]\u001b[0m\n",
      "Val Epoch:21: 33it [00:15,  1.25s/it]\u001b[32m [repeated 7x across cluster]\u001b[0m\n"
     ]
    },
    {
     "name": "stdout",
     "output_type": "stream",
     "text": [
      "\u001b[36m(tune_with_parameters pid=3287704)\u001b[0m loss: 0.658\n",
      "\u001b[36m(tune_with_parameters pid=3287705)\u001b[0m loss: 0.662\n"
     ]
    },
    {
     "name": "stderr",
     "output_type": "stream",
     "text": [
      "Val Epoch:21: 49it [00:22,  1.61it/s]\u001b[32m [repeated 13x across cluster]\u001b[0m\n",
      "Val Epoch:21: 63it [00:27,  2.73it/s]\u001b[32m [repeated 13x across cluster]\u001b[0m\n",
      "Val Epoch:21: 71it [00:32,  2.15it/s]\u001b[32m [repeated 6x across cluster]\u001b[0m\n",
      "Val Epoch:21: 83it [00:38,  2.04it/s]\u001b[32m [repeated 10x across cluster]\u001b[0m\n",
      "Val Epoch:21: 88it [00:38,  4.61it/s]3)\u001b[0m \n",
      "Val Epoch:21: 90it [00:39,  3.96it/s]3)\u001b[0m \n",
      "Val Epoch:21: 96it [00:40,  4.31it/s]3)\u001b[0m \n",
      "Val Epoch:21: 109it [00:43,  6.09it/s]\u001b[32m [repeated 13x across cluster]\u001b[0m\n"
     ]
    },
    {
     "name": "stdout",
     "output_type": "stream",
     "text": [
      "\u001b[36m(tune_with_parameters pid=3287703)\u001b[0m loss: 0.646\n",
      "\u001b[36m(tune_with_parameters pid=3287706)\u001b[0m loss: 0.657\n",
      "\u001b[36m(tune_with_parameters pid=3287705)\u001b[0m loss: 0.661\n",
      "\u001b[36m(tune_with_parameters pid=3287704)\u001b[0m loss: 0.657\n",
      "\u001b[36m(tune_with_parameters pid=3287703)\u001b[0m loss: 0.655\n"
     ]
    },
    {
     "name": "stderr",
     "output_type": "stream",
     "text": [
      "Val Epoch:23: 0it [00:00, ?it/s]287705)\u001b[0m \n",
      "Val Epoch:21: 110it [00:43,  2.51it/s])\u001b[0m \n"
     ]
    },
    {
     "name": "stdout",
     "output_type": "stream",
     "text": [
      "\u001b[36m(tune_with_parameters pid=3287706)\u001b[0m loss: 0.657\n"
     ]
    },
    {
     "name": "stderr",
     "output_type": "stream",
     "text": [
      "Val Epoch:23: 1it [00:02,  2.24s/it]05)\u001b[0m \n",
      "Val Epoch:23: 2it [00:02,  1.18s/it]05)\u001b[0m \n",
      "Val Epoch:23: 4it [00:02,  2.01it/s]05)\u001b[0m \n",
      "Val Epoch:23: 7it [00:03,  3.69it/s]05)\u001b[0m \n",
      "Val Epoch:23: 8it [00:03,  3.88it/s]05)\u001b[0m \n",
      "Val Epoch:23: 9it [00:04,  2.55it/s]05)\u001b[0m \n",
      "Val Epoch:23: 10it [00:04,  2.88it/s]5)\u001b[0m \n",
      "Val Epoch:23: 12it [00:04,  4.09it/s]5)\u001b[0m \n",
      "Val Epoch:23: 14it [00:04,  5.07it/s]5)\u001b[0m \n",
      "Val Epoch:23: 16it [00:05,  5.99it/s]5)\u001b[0m \n",
      "Val Epoch:23: 17it [00:05,  5.02it/s]5)\u001b[0m \n",
      "Val Epoch:23: 18it [00:06,  3.40it/s]5)\u001b[0m \n",
      "Val Epoch:23: 21it [00:06,  5.85it/s]5)\u001b[0m \n",
      "Val Epoch:23: 23it [00:06,  4.89it/s]5)\u001b[0m \n",
      "Val Epoch:23: 25it [00:07,  4.16it/s]5)\u001b[0m \n",
      "Val Epoch:23: 26it [00:07,  3.21it/s]5)\u001b[0m \n",
      "Val Epoch:23: 28it [00:08,  4.31it/s]5)\u001b[0m \n",
      "Val Epoch:23: 30it [00:08,  4.78it/s]5)\u001b[0m \n",
      "Val Epoch:23: 31it [00:08,  5.22it/s]5)\u001b[0m \n",
      "Val Epoch:23: 33it [00:09,  3.53it/s]5)\u001b[0m \n",
      "Val Epoch:23: 34it [00:09,  3.96it/s]5)\u001b[0m \n",
      "Val Epoch:23: 36it [00:09,  5.21it/s]5)\u001b[0m \n",
      "Val Epoch:23: 38it [00:10,  4.69it/s]5)\u001b[0m \n",
      "Val Epoch:23: 41it [00:12,  2.73it/s]5)\u001b[0m \n",
      "Val Epoch:23: 42it [00:12,  2.75it/s]5)\u001b[0m \n",
      "Val Epoch:23: 43it [00:12,  3.12it/s]5)\u001b[0m \n",
      "Val Epoch:23: 44it [00:12,  3.50it/s]5)\u001b[0m \n",
      "Val Epoch:23: 46it [00:13,  3.03it/s]5)\u001b[0m \n",
      "Val Epoch:23: 47it [00:13,  3.37it/s]5)\u001b[0m \n",
      "Val Epoch:23: 48it [00:13,  3.89it/s]5)\u001b[0m \n",
      "Val Epoch:23: 49it [00:15,  1.80it/s]5)\u001b[0m \n",
      "Val Epoch:23: 50it [00:15,  1.84it/s]5)\u001b[0m \n",
      "Val Epoch:23: 51it [00:16,  2.02it/s]5)\u001b[0m \n",
      "Val Epoch:23: 53it [00:16,  3.30it/s]5)\u001b[0m \n",
      "Val Epoch:23: 54it [00:16,  2.46it/s]5)\u001b[0m \n",
      "Val Epoch:23: 55it [00:17,  2.45it/s]5)\u001b[0m \n",
      "Val Epoch:23: 56it [00:17,  2.90it/s]5)\u001b[0m \n",
      "Val Epoch:23: 57it [00:18,  2.28it/s]5)\u001b[0m \n",
      "Val Epoch:23: 58it [00:19,  1.42it/s]5)\u001b[0m \n",
      "Val Epoch:23: 61it [00:19,  2.85it/s]5)\u001b[0m \n",
      "Val Epoch:23: 62it [00:19,  3.31it/s]5)\u001b[0m \n",
      "Val Epoch:23: 63it [00:20,  3.19it/s]5)\u001b[0m \n",
      "Val Epoch:23: 65it [00:22,  1.86it/s]5)\u001b[0m \n",
      "Val Epoch:23: 66it [00:24,  1.13it/s]5)\u001b[0m \n",
      "Val Epoch:23: 67it [00:24,  1.29it/s]5)\u001b[0m \n",
      "Val Epoch:23: 68it [00:24,  1.62it/s]5)\u001b[0m \n",
      "Val Epoch:23: 69it [00:24,  2.04it/s]5)\u001b[0m \n",
      "Val Epoch:23: 71it [00:25,  2.55it/s]5)\u001b[0m \n",
      "Val Epoch:23: 73it [00:27,  1.75it/s]5)\u001b[0m \n",
      "Val Epoch:23: 74it [00:27,  1.76it/s]5)\u001b[0m \n",
      "Val Epoch:23: 75it [00:27,  2.10it/s]5)\u001b[0m \n",
      "Val Epoch:23: 77it [00:28,  2.61it/s]5)\u001b[0m \n",
      "Val Epoch:19: 0it [00:00, ?it/s]287704)\u001b[0m \n",
      "Val Epoch:23: 78it [00:28,  2.94it/s]5)\u001b[0m \n",
      "Val Epoch:23: 79it [00:28,  2.92it/s]5)\u001b[0m \n",
      "Val Epoch:23: 80it [00:28,  3.52it/s]5)\u001b[0m \n",
      "Val Epoch:23: 81it [00:29,  2.07it/s]5)\u001b[0m \n",
      "Val Epoch:23: 82it [00:31,  1.18it/s]5)\u001b[0m \n",
      "Val Epoch:23: 86it [00:32,  2.63it/s]5)\u001b[0m \n",
      "Val Epoch:23: 87it [00:32,  2.40it/s]5)\u001b[0m \n",
      "Val Epoch:23: 89it [00:33,  2.09it/s]5)\u001b[0m \n",
      "Val Epoch:23: 95it [00:38,  1.63it/s]\u001b[32m [repeated 13x across cluster]\u001b[0m\n",
      "Val Epoch:24: 0it [00:00, ?it/s]287706)\u001b[0m \n",
      "Val Epoch:23: 106it [00:43,  2.03it/s]\u001b[32m [repeated 17x across cluster]\u001b[0m\n",
      "Val Epoch:24: 24it [00:06,  6.75it/s]\u001b[32m [repeated 28x across cluster]\u001b[0m\n"
     ]
    },
    {
     "name": "stdout",
     "output_type": "stream",
     "text": [
      "\u001b[36m(tune_with_parameters pid=3287705)\u001b[0m loss: 0.672\n"
     ]
    },
    {
     "name": "stderr",
     "output_type": "stream",
     "text": [
      "Val Epoch:19: 50it [00:24,  2.22it/s]\u001b[32m [repeated 21x across cluster]\u001b[0m\n",
      "Val Epoch:19: 71it [00:30,  4.39it/s]\u001b[32m [repeated 24x across cluster]\u001b[0m\n"
     ]
    },
    {
     "name": "stdout",
     "output_type": "stream",
     "text": [
      "\u001b[36m(tune_with_parameters pid=3287703)\u001b[0m loss: 0.655\n"
     ]
    },
    {
     "name": "stderr",
     "output_type": "stream",
     "text": [
      "Val Epoch:24: 90it [00:22,  3.50it/s]\u001b[32m [repeated 24x across cluster]\u001b[0m\n",
      "Val Epoch:19: 110it [00:41,  2.67it/s]\u001b[32m [repeated 20x across cluster]\u001b[0m\n"
     ]
    },
    {
     "name": "stdout",
     "output_type": "stream",
     "text": [
      "\u001b[36m(tune_with_parameters pid=3287706)\u001b[0m loss: 0.647\n",
      "\u001b[36m(tune_with_parameters pid=3287704)\u001b[0m loss: 0.648\n",
      "\u001b[36m(tune_with_parameters pid=3287705)\u001b[0m loss: 0.661\n",
      "\u001b[36m(tune_with_parameters pid=3287703)\u001b[0m loss: 0.654\n",
      "\u001b[36m(tune_with_parameters pid=3287706)\u001b[0m loss: 0.656\n",
      "\u001b[36m(tune_with_parameters pid=3287704)\u001b[0m loss: 0.658\n",
      "\u001b[36m(tune_with_parameters pid=3287705)\u001b[0m loss: 0.661\n",
      "\u001b[36m(tune_with_parameters pid=3287703)\u001b[0m loss: 0.654\n",
      "\u001b[36m(tune_with_parameters pid=3287706)\u001b[0m loss: 0.657\n"
     ]
    },
    {
     "name": "stderr",
     "output_type": "stream",
     "text": [
      "Val Epoch:22: 0it [00:00, ?it/s]287703)\u001b[0m \n",
      "Val Epoch:22: 1it [00:05,  5.27s/it]03)\u001b[0m \n",
      "Val Epoch:22: 2it [00:05,  2.42s/it]03)\u001b[0m \n",
      "Val Epoch:22: 3it [00:05,  1.38s/it]03)\u001b[0m \n",
      "Val Epoch:22: 4it [00:06,  1.10it/s]03)\u001b[0m \n",
      "Val Epoch:22: 5it [00:06,  1.19it/s]03)\u001b[0m \n",
      "Val Epoch:22: 6it [00:07,  1.30it/s]03)\u001b[0m \n",
      "Val Epoch:22: 7it [00:07,  1.74it/s]03)\u001b[0m \n",
      "Val Epoch:22: 8it [00:07,  1.91it/s]03)\u001b[0m \n",
      "Val Epoch:22: 9it [00:08,  1.71it/s]03)\u001b[0m \n",
      "Val Epoch:22: 11it [00:09,  1.84it/s]3)\u001b[0m \n",
      "Val Epoch:22: 12it [00:09,  2.24it/s]3)\u001b[0m \n",
      "Val Epoch:22: 14it [00:10,  3.18it/s]3)\u001b[0m \n",
      "Val Epoch:22: 15it [00:10,  3.16it/s]3)\u001b[0m \n",
      "Val Epoch:22: 16it [00:10,  3.53it/s]3)\u001b[0m \n",
      "Val Epoch:22: 17it [00:12,  1.27it/s]3)\u001b[0m \n",
      "Val Epoch:22: 18it [00:14,  1.09it/s]3)\u001b[0m \n",
      "Val Epoch:22: 19it [00:14,  1.34it/s]3)\u001b[0m \n",
      "Val Epoch:22: 20it [00:14,  1.71it/s]3)\u001b[0m \n",
      "Val Epoch:22: 21it [00:14,  2.11it/s]3)\u001b[0m \n",
      "Val Epoch:22: 22it [00:15,  2.22it/s]3)\u001b[0m \n",
      "Val Epoch:22: 23it [00:15,  2.66it/s]3)\u001b[0m \n",
      "Val Epoch:22: 24it [00:15,  3.30it/s]3)\u001b[0m \n",
      "Val Epoch:22: 25it [00:16,  1.63it/s]3)\u001b[0m \n",
      "Val Epoch:22: 26it [00:17,  1.52it/s]3)\u001b[0m \n",
      "Val Epoch:22: 27it [00:17,  1.74it/s]3)\u001b[0m \n",
      "Val Epoch:22: 28it [00:18,  2.27it/s]3)\u001b[0m \n",
      "Val Epoch:22: 29it [00:18,  2.81it/s]3)\u001b[0m \n",
      "Val Epoch:22: 30it [00:18,  3.02it/s]3)\u001b[0m \n",
      "Val Epoch:22: 31it [00:18,  3.10it/s]3)\u001b[0m \n",
      "Val Epoch:22: 33it [00:21,  1.47it/s]3)\u001b[0m \n",
      "Val Epoch:22: 34it [00:21,  1.48it/s]3)\u001b[0m \n",
      "Val Epoch:22: 35it [00:22,  1.42it/s]3)\u001b[0m \n",
      "Val Epoch:22: 37it [00:23,  1.94it/s]3)\u001b[0m \n",
      "Val Epoch:22: 38it [00:23,  1.63it/s]3)\u001b[0m \n",
      "Val Epoch:22: 39it [00:24,  1.97it/s]3)\u001b[0m \n",
      "Val Epoch:22: 41it [00:25,  1.72it/s]3)\u001b[0m \n",
      "Val Epoch:22: 42it [00:26,  1.75it/s]3)\u001b[0m \n",
      "Val Epoch:22: 43it [00:26,  2.12it/s]3)\u001b[0m \n",
      "Val Epoch:22: 44it [00:26,  2.51it/s]3)\u001b[0m \n",
      "Val Epoch:22: 45it [00:26,  2.51it/s]3)\u001b[0m \n",
      "Val Epoch:22: 46it [00:27,  2.32it/s]3)\u001b[0m \n",
      "Val Epoch:22: 48it [00:27,  3.43it/s]3)\u001b[0m \n",
      "Val Epoch:22: 49it [00:30,  1.02it/s]3)\u001b[0m \n",
      "Val Epoch:22: 50it [00:30,  1.26it/s]3)\u001b[0m \n",
      "Val Epoch:22: 51it [00:31,  1.50it/s]3)\u001b[0m \n",
      "Val Epoch:22: 52it [00:31,  1.86it/s]3)\u001b[0m \n",
      "Val Epoch:22: 53it [00:31,  1.92it/s]3)\u001b[0m \n",
      "Val Epoch:22: 54it [00:32,  2.29it/s]3)\u001b[0m \n"
     ]
    },
    {
     "name": "stdout",
     "output_type": "stream",
     "text": [
      "\u001b[36m(tune_with_parameters pid=3287705)\u001b[0m loss: 0.661\n"
     ]
    },
    {
     "name": "stderr",
     "output_type": "stream",
     "text": [
      "Val Epoch:22: 55it [00:32,  2.46it/s]3)\u001b[0m \n",
      "Val Epoch:22: 56it [00:32,  2.91it/s]3)\u001b[0m \n",
      "Val Epoch:22: 57it [00:34,  1.33it/s]3)\u001b[0m \n",
      "Val Epoch:22: 58it [00:34,  1.48it/s]3)\u001b[0m \n",
      "Val Epoch:22: 59it [00:35,  1.93it/s]3)\u001b[0m \n",
      "Val Epoch:22: 60it [00:35,  2.38it/s]3)\u001b[0m \n",
      "Val Epoch:22: 61it [00:35,  2.24it/s]3)\u001b[0m \n",
      "Val Epoch:22: 62it [00:36,  1.78it/s]3)\u001b[0m \n",
      "Val Epoch:22: 64it [00:36,  2.83it/s]3)\u001b[0m \n",
      "Val Epoch:22: 65it [00:38,  1.51it/s]3)\u001b[0m \n",
      "Val Epoch:22: 66it [00:38,  1.91it/s]3)\u001b[0m \n",
      "Val Epoch:22: 68it [00:38,  3.01it/s]3)\u001b[0m \n",
      "Val Epoch:22: 69it [00:38,  3.56it/s]3)\u001b[0m \n",
      "Val Epoch:22: 70it [00:39,  3.44it/s]3)\u001b[0m \n",
      "Val Epoch:22: 71it [00:39,  3.76it/s]3)\u001b[0m \n",
      "Val Epoch:22: 72it [00:39,  3.96it/s]3)\u001b[0m \n",
      "Val Epoch:22: 73it [00:41,  1.15it/s]3)\u001b[0m \n",
      "Val Epoch:22: 74it [00:42,  1.13it/s]3)\u001b[0m \n",
      "Val Epoch:22: 75it [00:43,  1.48it/s]3)\u001b[0m \n",
      "Val Epoch:22: 76it [00:43,  1.84it/s]3)\u001b[0m \n",
      "Val Epoch:22: 77it [00:43,  2.14it/s]3)\u001b[0m \n",
      "Val Epoch:22: 78it [00:44,  2.09it/s]3)\u001b[0m \n",
      "Val Epoch:22: 79it [00:44,  2.47it/s]3)\u001b[0m \n",
      "Val Epoch:22: 80it [00:44,  3.06it/s]3)\u001b[0m \n",
      "Val Epoch:22: 81it [00:45,  1.50it/s]3)\u001b[0m \n",
      "Val Epoch:22: 82it [00:47,  1.26it/s]3)\u001b[0m \n",
      "Val Epoch:22: 83it [00:47,  1.53it/s]3)\u001b[0m \n",
      "Val Epoch:22: 85it [00:47,  2.54it/s]3)\u001b[0m \n",
      "Val Epoch:22: 86it [00:48,  2.23it/s]3)\u001b[0m \n",
      "Val Epoch:22: 87it [00:48,  2.39it/s]3)\u001b[0m \n",
      "Val Epoch:22: 89it [00:49,  1.85it/s]3)\u001b[0m \n",
      "Val Epoch:22: 90it [00:50,  1.73it/s]3)\u001b[0m \n",
      "Val Epoch:22: 92it [00:51,  2.31it/s]3)\u001b[0m \n",
      "Val Epoch:22: 93it [00:51,  2.70it/s]3)\u001b[0m \n",
      "Val Epoch:22: 94it [00:52,  2.11it/s]3)\u001b[0m \n"
     ]
    },
    {
     "name": "stdout",
     "output_type": "stream",
     "text": [
      "\u001b[36m(tune_with_parameters pid=3287704)\u001b[0m loss: 0.657\n"
     ]
    },
    {
     "name": "stderr",
     "output_type": "stream",
     "text": [
      "Val Epoch:22: 96it [00:52,  3.21it/s]3)\u001b[0m \n",
      "Val Epoch:22: 97it [00:54,  1.46it/s]3)\u001b[0m \n",
      "Val Epoch:22: 98it [00:54,  1.45it/s]3)\u001b[0m \n",
      "Val Epoch:22: 99it [00:55,  1.76it/s]3)\u001b[0m \n",
      "Val Epoch:22: 100it [00:55,  2.21it/s])\u001b[0m \n",
      "Val Epoch:22: 101it [00:55,  2.72it/s])\u001b[0m \n",
      "Val Epoch:22: 102it [00:55,  2.34it/s])\u001b[0m \n",
      "Val Epoch:22: 103it [00:56,  2.78it/s])\u001b[0m \n",
      "Val Epoch:22: 105it [00:58,  1.58it/s])\u001b[0m \n",
      "Val Epoch:22: 106it [00:58,  1.74it/s])\u001b[0m \n",
      "Val Epoch:22: 107it [00:58,  2.15it/s])\u001b[0m \n",
      "Val Epoch:22: 108it [00:58,  2.65it/s])\u001b[0m \n",
      "Val Epoch:22: 109it [00:58,  3.04it/s])\u001b[0m \n",
      "Val Epoch:22: 110it [01:00,  1.81it/s])\u001b[0m \n"
     ]
    },
    {
     "name": "stdout",
     "output_type": "stream",
     "text": [
      "\u001b[36m(tune_with_parameters pid=3287703)\u001b[0m loss: 0.649\n",
      "\u001b[36m(tune_with_parameters pid=3287706)\u001b[0m loss: 0.657\n",
      "\u001b[36m(tune_with_parameters pid=3287705)\u001b[0m loss: 0.661\n",
      "\u001b[36m(tune_with_parameters pid=3287704)\u001b[0m loss: 0.657\n",
      "\u001b[36m(tune_with_parameters pid=3287703)\u001b[0m loss: 0.653\n"
     ]
    },
    {
     "name": "stderr",
     "output_type": "stream",
     "text": [
      "Val Epoch:24: 0it [00:00, ?it/s]287705)\u001b[0m \n"
     ]
    },
    {
     "name": "stdout",
     "output_type": "stream",
     "text": [
      "\u001b[36m(tune_with_parameters pid=3287706)\u001b[0m loss: 0.657\n"
     ]
    },
    {
     "name": "stderr",
     "output_type": "stream",
     "text": [
      "Val Epoch:24: 1it [00:07,  7.39s/it]05)\u001b[0m \n",
      "Val Epoch:24: 3it [00:07,  2.02s/it]05)\u001b[0m \n",
      "Val Epoch:24: 4it [00:07,  1.38s/it]05)\u001b[0m \n",
      "Val Epoch:24: 5it [00:07,  1.03it/s]05)\u001b[0m \n",
      "Val Epoch:24: 6it [00:08,  1.33it/s]05)\u001b[0m \n",
      "Val Epoch:24: 7it [00:08,  1.74it/s]05)\u001b[0m \n",
      "Val Epoch:24: 8it [00:08,  2.20it/s]05)\u001b[0m \n",
      "Val Epoch:24: 9it [00:10,  1.07it/s]05)\u001b[0m \n",
      "Val Epoch:24: 10it [00:10,  1.41it/s]5)\u001b[0m \n",
      "Val Epoch:24: 11it [00:11,  1.81it/s]5)\u001b[0m \n",
      "Val Epoch:24: 12it [00:11,  2.25it/s]5)\u001b[0m \n",
      "Val Epoch:24: 14it [00:11,  3.46it/s]5)\u001b[0m \n",
      "Val Epoch:24: 15it [00:11,  3.39it/s]5)\u001b[0m \n",
      "Val Epoch:24: 16it [00:12,  2.75it/s]5)\u001b[0m \n",
      "Val Epoch:24: 17it [00:15,  1.04s/it]5)\u001b[0m \n",
      "Val Epoch:24: 18it [00:15,  1.20it/s]5)\u001b[0m \n",
      "Val Epoch:24: 19it [00:15,  1.54it/s]5)\u001b[0m \n",
      "Val Epoch:24: 20it [00:15,  1.95it/s]5)\u001b[0m \n",
      "Val Epoch:24: 21it [00:16,  2.43it/s]5)\u001b[0m \n",
      "Val Epoch:24: 22it [00:16,  2.55it/s]5)\u001b[0m \n",
      "Val Epoch:24: 23it [00:16,  2.98it/s]5)\u001b[0m \n",
      "Val Epoch:24: 24it [00:17,  2.66it/s]5)\u001b[0m \n",
      "Val Epoch:24: 25it [00:20,  1.21s/it]5)\u001b[0m \n",
      "Val Epoch:24: 26it [00:20,  1.11it/s]5)\u001b[0m \n",
      "Val Epoch:24: 27it [00:20,  1.47it/s]5)\u001b[0m \n",
      "Val Epoch:24: 28it [00:20,  1.88it/s]5)\u001b[0m \n",
      "Val Epoch:24: 29it [00:20,  2.47it/s]5)\u001b[0m \n",
      "Val Epoch:24: 30it [00:21,  2.93it/s]5)\u001b[0m \n",
      "Val Epoch:24: 31it [00:21,  3.55it/s]5)\u001b[0m \n",
      "Val Epoch:24: 32it [00:21,  3.26it/s]5)\u001b[0m \n",
      "Val Epoch:24: 33it [00:23,  1.37it/s]5)\u001b[0m \n",
      "Val Epoch:24: 34it [00:23,  1.79it/s]5)\u001b[0m \n",
      "Val Epoch:24: 35it [00:23,  1.86it/s]5)\u001b[0m \n",
      "Val Epoch:24: 36it [00:24,  1.61it/s]5)\u001b[0m \n",
      "Val Epoch:24: 37it [00:24,  2.00it/s]5)\u001b[0m \n",
      "Val Epoch:24: 38it [00:25,  2.47it/s]5)\u001b[0m \n",
      "Val Epoch:24: 40it [00:25,  3.37it/s]5)\u001b[0m \n",
      "Val Epoch:24: 41it [00:27,  1.41it/s]5)\u001b[0m \n",
      "Val Epoch:24: 42it [00:27,  1.78it/s]5)\u001b[0m \n",
      "Val Epoch:24: 43it [00:27,  2.09it/s]5)\u001b[0m \n",
      "Val Epoch:24: 45it [00:28,  3.20it/s]5)\u001b[0m \n",
      "Val Epoch:24: 46it [00:28,  3.24it/s]5)\u001b[0m \n",
      "Val Epoch:24: 47it [00:28,  3.60it/s]5)\u001b[0m \n",
      "Val Epoch:24: 48it [00:28,  3.46it/s]5)\u001b[0m \n",
      "Val Epoch:24: 49it [00:31,  1.05it/s]5)\u001b[0m \n",
      "Val Epoch:24: 51it [00:31,  1.72it/s]5)\u001b[0m \n",
      "Val Epoch:24: 52it [00:32,  1.98it/s]5)\u001b[0m \n",
      "Val Epoch:24: 53it [00:32,  2.34it/s]5)\u001b[0m \n",
      "Val Epoch:24: 54it [00:32,  2.75it/s]5)\u001b[0m \n",
      "Val Epoch:24: 55it [00:32,  3.08it/s]5)\u001b[0m \n",
      "Val Epoch:24: 56it [00:33,  2.82it/s]5)\u001b[0m \n",
      "Val Epoch:24: 57it [00:35,  1.02it/s]5)\u001b[0m \n",
      "Val Epoch:24: 58it [00:35,  1.34it/s]5)\u001b[0m \n",
      "Val Epoch:24: 59it [00:35,  1.72it/s]5)\u001b[0m \n",
      "Val Epoch:24: 60it [00:36,  2.17it/s]5)\u001b[0m \n",
      "Val Epoch:24: 62it [00:36,  2.87it/s]5)\u001b[0m \n",
      "Val Epoch:24: 63it [00:36,  3.26it/s]5)\u001b[0m \n",
      "Val Epoch:24: 64it [00:37,  3.22it/s]5)\u001b[0m \n",
      "Val Epoch:24: 65it [00:39,  1.06it/s]5)\u001b[0m \n",
      "Val Epoch:24: 66it [00:39,  1.38it/s]5)\u001b[0m \n",
      "Val Epoch:24: 67it [00:40,  1.52it/s]5)\u001b[0m \n",
      "Val Epoch:24: 68it [00:40,  1.62it/s]5)\u001b[0m \n",
      "Val Epoch:24: 70it [00:41,  2.53it/s]5)\u001b[0m \n",
      "Val Epoch:24: 71it [00:41,  3.00it/s]5)\u001b[0m \n",
      "Val Epoch:24: 72it [00:41,  2.83it/s]5)\u001b[0m \n",
      "Val Epoch:24: 74it [00:45,  1.14it/s]5)\u001b[0m \n",
      "Val Epoch:24: 75it [00:45,  1.42it/s]5)\u001b[0m \n",
      "Val Epoch:24: 77it [00:45,  2.09it/s]5)\u001b[0m \n",
      "Val Epoch:24: 78it [00:46,  2.41it/s]5)\u001b[0m \n",
      "Val Epoch:24: 80it [00:46,  2.69it/s]5)\u001b[0m \n",
      "Val Epoch:24: 81it [00:48,  1.56it/s]5)\u001b[0m \n",
      "Val Epoch:24: 82it [00:48,  1.92it/s]5)\u001b[0m \n",
      "Val Epoch:24: 83it [00:48,  2.26it/s]5)\u001b[0m \n",
      "Val Epoch:24: 84it [00:48,  2.31it/s]5)\u001b[0m \n",
      "Val Epoch:24: 85it [00:49,  2.70it/s]5)\u001b[0m \n",
      "Val Epoch:24: 87it [00:49,  3.84it/s]5)\u001b[0m \n",
      "Val Epoch:24: 88it [00:49,  4.28it/s]5)\u001b[0m \n",
      "Val Epoch:24: 89it [00:52,  1.04it/s]5)\u001b[0m \n",
      "Val Epoch:24: 91it [00:52,  1.64it/s]5)\u001b[0m \n",
      "Val Epoch:24: 92it [00:53,  1.86it/s]5)\u001b[0m \n",
      "Val Epoch:24: 93it [00:53,  2.27it/s]5)\u001b[0m \n",
      "Val Epoch:24: 94it [00:53,  2.53it/s]5)\u001b[0m \n",
      "Val Epoch:24: 96it [00:54,  3.14it/s]5)\u001b[0m \n",
      "Val Epoch:24: 97it [00:55,  1.76it/s]5)\u001b[0m \n",
      "Val Epoch:24: 98it [00:55,  2.13it/s]5)\u001b[0m \n",
      "Val Epoch:24: 100it [00:55,  3.25it/s])\u001b[0m \n",
      "Val Epoch:24: 102it [00:55,  4.52it/s])\u001b[0m \n",
      "Val Epoch:24: 104it [00:56,  5.50it/s])\u001b[0m \n",
      "Val Epoch:24: 105it [00:59,  1.23it/s])\u001b[0m \n",
      "Val Epoch:24: 106it [00:59,  1.36it/s])\u001b[0m \n",
      "Val Epoch:24: 107it [01:00,  1.70it/s])\u001b[0m \n",
      "Val Epoch:24: 108it [01:00,  2.15it/s])\u001b[0m \n",
      "Val Epoch:24: 109it [01:00,  2.63it/s])\u001b[0m \n",
      "Val Epoch:24: 110it [01:02,  1.77it/s])\u001b[0m \n",
      "Val Epoch:25: 0it [00:00, ?it/s]287706)\u001b[0m \n",
      "Val Epoch:25: 1it [00:07,  7.16s/it]06)\u001b[0m \n",
      "Val Epoch:25: 2it [00:07,  3.33s/it]06)\u001b[0m \n",
      "Val Epoch:25: 3it [00:08,  1.95s/it]06)\u001b[0m \n",
      "Val Epoch:25: 5it [00:08,  1.14it/s]06)\u001b[0m \n",
      "Val Epoch:25: 6it [00:08,  1.48it/s]06)\u001b[0m \n",
      "Val Epoch:25: 7it [00:08,  1.62it/s]06)\u001b[0m \n",
      "Val Epoch:25: 8it [00:09,  1.76it/s]06)\u001b[0m \n",
      "Val Epoch:25: 9it [00:11,  1.09s/it]06)\u001b[0m \n",
      "Val Epoch:25: 10it [00:12,  1.14it/s]6)\u001b[0m \n",
      "Val Epoch:25: 11it [00:12,  1.50it/s]6)\u001b[0m \n",
      "Val Epoch:25: 13it [00:12,  2.50it/s]6)\u001b[0m \n",
      "Val Epoch:25: 14it [00:12,  2.84it/s]6)\u001b[0m \n",
      "Val Epoch:25: 15it [00:12,  3.15it/s]6)\u001b[0m \n",
      "Val Epoch:25: 17it [00:15,  1.36it/s]6)\u001b[0m \n",
      "Val Epoch:25: 18it [00:16,  1.35it/s]6)\u001b[0m \n",
      "Val Epoch:25: 19it [00:16,  1.60it/s]6)\u001b[0m \n",
      "Val Epoch:25: 20it [00:16,  1.89it/s]6)\u001b[0m \n",
      "Val Epoch:25: 21it [00:16,  2.28it/s]6)\u001b[0m \n",
      "Val Epoch:25: 22it [00:17,  2.83it/s]6)\u001b[0m \n",
      "Val Epoch:25: 23it [00:17,  3.27it/s]6)\u001b[0m \n"
     ]
    },
    {
     "name": "stdout",
     "output_type": "stream",
     "text": [
      "\u001b[36m(tune_with_parameters pid=3287705)\u001b[0m loss: 0.678\n"
     ]
    },
    {
     "name": "stderr",
     "output_type": "stream",
     "text": [
      "Val Epoch:25: 25it [00:20,  1.24it/s]6)\u001b[0m \n",
      "Val Epoch:25: 26it [00:20,  1.35it/s]6)\u001b[0m \n",
      "Val Epoch:25: 28it [00:20,  2.07it/s]6)\u001b[0m \n",
      "Val Epoch:25: 29it [00:21,  2.41it/s]6)\u001b[0m \n",
      "Val Epoch:25: 32it [00:21,  4.20it/s]6)\u001b[0m \n",
      "Val Epoch:25: 33it [00:22,  1.99it/s]6)\u001b[0m \n",
      "Val Epoch:25: 34it [00:23,  1.91it/s]6)\u001b[0m \n",
      "Val Epoch:25: 35it [00:23,  2.24it/s]6)\u001b[0m \n",
      "Val Epoch:25: 36it [00:23,  2.65it/s]6)\u001b[0m \n",
      "Val Epoch:25: 37it [00:23,  3.06it/s]6)\u001b[0m \n",
      "Val Epoch:25: 38it [00:24,  3.52it/s]6)\u001b[0m \n",
      "Val Epoch:25: 39it [00:24,  3.65it/s]6)\u001b[0m \n",
      "Val Epoch:25: 41it [00:27,  1.33it/s]6)\u001b[0m \n",
      "Val Epoch:25: 42it [00:27,  1.35it/s]6)\u001b[0m \n",
      "Val Epoch:25: 43it [00:27,  1.65it/s]6)\u001b[0m \n",
      "Val Epoch:25: 45it [00:28,  2.31it/s]6)\u001b[0m \n",
      "Val Epoch:25: 47it [00:28,  3.13it/s]6)\u001b[0m \n",
      "Val Epoch:25: 48it [00:28,  3.42it/s]6)\u001b[0m \n",
      "Val Epoch:25: 49it [00:31,  1.31it/s]6)\u001b[0m \n",
      "Val Epoch:25: 50it [00:32,  1.27it/s]6)\u001b[0m \n",
      "Val Epoch:25: 51it [00:32,  1.62it/s]6)\u001b[0m \n",
      "Val Epoch:25: 52it [00:32,  2.01it/s]6)\u001b[0m \n",
      "Val Epoch:25: 53it [00:32,  2.43it/s]6)\u001b[0m \n",
      "Val Epoch:25: 54it [00:32,  2.88it/s]6)\u001b[0m \n",
      "Val Epoch:25: 55it [00:32,  3.33it/s]6)\u001b[0m \n",
      "Val Epoch:25: 56it [00:33,  3.96it/s]6)\u001b[0m \n",
      "Val Epoch:25: 57it [00:35,  1.15it/s]6)\u001b[0m \n",
      "Val Epoch:25: 58it [00:36,  1.19it/s]6)\u001b[0m \n",
      "Val Epoch:25: 59it [00:36,  1.55it/s]6)\u001b[0m \n",
      "Val Epoch:25: 60it [00:36,  1.99it/s]6)\u001b[0m \n",
      "Val Epoch:25: 61it [00:36,  2.28it/s]6)\u001b[0m \n",
      "Val Epoch:25: 63it [00:37,  3.42it/s]6)\u001b[0m \n",
      "Val Epoch:25: 64it [00:37,  3.45it/s]6)\u001b[0m \n"
     ]
    },
    {
     "name": "stdout",
     "output_type": "stream",
     "text": [
      "\u001b[36m(tune_with_parameters pid=3287703)\u001b[0m loss: 0.653\n"
     ]
    },
    {
     "name": "stderr",
     "output_type": "stream",
     "text": [
      "Val Epoch:25: 65it [00:40,  1.07it/s]6)\u001b[0m \n",
      "Val Epoch:25: 66it [00:40,  1.29it/s]6)\u001b[0m \n",
      "Val Epoch:25: 67it [00:40,  1.67it/s]6)\u001b[0m \n",
      "Val Epoch:25: 68it [00:40,  2.11it/s]6)\u001b[0m \n",
      "Val Epoch:25: 69it [00:40,  2.60it/s]6)\u001b[0m \n",
      "Val Epoch:25: 70it [00:41,  3.00it/s]6)\u001b[0m \n",
      "Val Epoch:25: 71it [00:41,  3.57it/s]6)\u001b[0m \n",
      "Val Epoch:25: 72it [00:41,  4.22it/s]6)\u001b[0m \n",
      "Val Epoch:25: 73it [00:44,  1.12s/it]6)\u001b[0m \n",
      "Val Epoch:25: 74it [00:45,  1.07it/s]6)\u001b[0m \n",
      "Val Epoch:25: 75it [00:45,  1.39it/s]6)\u001b[0m \n",
      "Val Epoch:25: 76it [00:45,  1.76it/s]6)\u001b[0m \n",
      "Val Epoch:25: 78it [00:45,  2.82it/s]6)\u001b[0m \n",
      "Val Epoch:25: 79it [00:45,  3.18it/s]6)\u001b[0m \n",
      "Val Epoch:25: 80it [00:46,  3.28it/s]6)\u001b[0m \n",
      "Val Epoch:25: 81it [00:49,  1.01s/it]6)\u001b[0m \n",
      "Val Epoch:25: 82it [00:49,  1.28it/s]6)\u001b[0m \n",
      "Val Epoch:25: 83it [00:49,  1.66it/s]6)\u001b[0m \n",
      "Val Epoch:25: 84it [00:49,  2.08it/s]6)\u001b[0m \n",
      "Val Epoch:25: 85it [00:49,  2.53it/s]6)\u001b[0m \n",
      "Val Epoch:25: 86it [00:50,  2.90it/s]6)\u001b[0m \n",
      "Val Epoch:25: 87it [00:50,  3.54it/s]6)\u001b[0m \n",
      "Val Epoch:25: 88it [00:50,  3.89it/s]6)\u001b[0m \n",
      "Val Epoch:25: 89it [00:52,  1.09it/s]6)\u001b[0m \n",
      "Val Epoch:25: 91it [00:53,  1.85it/s]6)\u001b[0m \n",
      "Val Epoch:25: 92it [00:53,  2.25it/s]6)\u001b[0m \n",
      "Val Epoch:25: 93it [00:53,  2.59it/s]6)\u001b[0m \n",
      "Val Epoch:25: 94it [00:53,  2.37it/s]6)\u001b[0m \n",
      "Val Epoch:25: 95it [00:53,  3.00it/s]6)\u001b[0m \n",
      "Val Epoch:25: 96it [00:54,  3.55it/s]6)\u001b[0m \n",
      "Val Epoch:25: 97it [00:56,  1.31it/s]6)\u001b[0m \n",
      "Val Epoch:25: 98it [00:56,  1.38it/s]6)\u001b[0m \n",
      "Val Epoch:25: 99it [00:56,  1.78it/s]6)\u001b[0m \n",
      "Val Epoch:25: 100it [00:57,  2.26it/s])\u001b[0m \n",
      "Val Epoch:25: 101it [00:57,  2.83it/s])\u001b[0m \n",
      "Val Epoch:25: 102it [00:57,  3.36it/s])\u001b[0m \n",
      "Val Epoch:25: 103it [00:57,  3.87it/s])\u001b[0m \n",
      "Val Epoch:25: 105it [00:59,  1.60it/s])\u001b[0m \n",
      "Val Epoch:25: 106it [00:59,  1.83it/s])\u001b[0m \n",
      "Val Epoch:25: 107it [01:00,  2.28it/s])\u001b[0m \n",
      "Val Epoch:25: 108it [01:00,  2.77it/s])\u001b[0m \n",
      "Val Epoch:25: 109it [01:00,  3.30it/s])\u001b[0m \n",
      "Val Epoch:25: 110it [01:01,  1.78it/s])\u001b[0m \n"
     ]
    },
    {
     "name": "stdout",
     "output_type": "stream",
     "text": [
      "\u001b[36m(tune_with_parameters pid=3287704)\u001b[0m loss: 0.657\n",
      "\u001b[36m(tune_with_parameters pid=3287706)\u001b[0m loss: 0.680\n",
      "\u001b[36m(tune_with_parameters pid=3287705)\u001b[0m loss: 0.660\n"
     ]
    },
    {
     "name": "stderr",
     "output_type": "stream",
     "text": [
      "Val Epoch:20: 0it [00:00, ?it/s]287704)\u001b[0m \n",
      "Val Epoch:20: 1it [00:05,  5.54s/it]04)\u001b[0m \n",
      "Val Epoch:20: 2it [00:05,  2.48s/it]04)\u001b[0m \n",
      "Val Epoch:20: 3it [00:06,  1.78s/it]04)\u001b[0m \n",
      "Val Epoch:20: 4it [00:07,  1.16s/it]04)\u001b[0m \n",
      "Val Epoch:20: 5it [00:07,  1.11it/s]04)\u001b[0m \n",
      "Val Epoch:20: 6it [00:07,  1.54it/s]04)\u001b[0m \n",
      "Val Epoch:20: 7it [00:08,  1.79it/s]04)\u001b[0m \n",
      "Val Epoch:20: 8it [00:08,  2.20it/s]04)\u001b[0m \n"
     ]
    },
    {
     "name": "stdout",
     "output_type": "stream",
     "text": [
      "\u001b[36m(tune_with_parameters pid=3287703)\u001b[0m loss: 0.653\n"
     ]
    },
    {
     "name": "stderr",
     "output_type": "stream",
     "text": [
      "Val Epoch:20: 9it [00:08,  2.04it/s]04)\u001b[0m \n",
      "Val Epoch:20: 10it [00:10,  1.16it/s]4)\u001b[0m \n",
      "Val Epoch:20: 11it [00:10,  1.42it/s]4)\u001b[0m \n",
      "Val Epoch:20: 12it [00:11,  1.84it/s]4)\u001b[0m \n",
      "Val Epoch:20: 13it [00:11,  2.23it/s]4)\u001b[0m \n",
      "Val Epoch:20: 14it [00:11,  2.71it/s]4)\u001b[0m \n",
      "Val Epoch:20: 15it [00:11,  3.13it/s]4)\u001b[0m \n",
      "Val Epoch:20: 16it [00:12,  2.63it/s]4)\u001b[0m \n",
      "Val Epoch:20: 17it [00:14,  1.06it/s]4)\u001b[0m \n",
      "Val Epoch:20: 18it [00:16,  1.32s/it]4)\u001b[0m \n",
      "Val Epoch:20: 19it [00:16,  1.04it/s]4)\u001b[0m \n",
      "Val Epoch:20: 21it [00:17,  1.42it/s]4)\u001b[0m \n",
      "Val Epoch:20: 22it [00:17,  1.62it/s]4)\u001b[0m \n",
      "Val Epoch:20: 23it [00:18,  1.96it/s]4)\u001b[0m \n",
      "Val Epoch:20: 24it [00:18,  2.47it/s]4)\u001b[0m \n",
      "Val Epoch:20: 25it [00:20,  1.14it/s]4)\u001b[0m \n",
      "Val Epoch:20: 27it [00:22,  1.19it/s]4)\u001b[0m \n",
      "Val Epoch:20: 28it [00:22,  1.52it/s]4)\u001b[0m \n",
      "Val Epoch:20: 29it [00:22,  1.76it/s]4)\u001b[0m \n",
      "Val Epoch:20: 30it [00:23,  1.95it/s]4)\u001b[0m \n",
      "Val Epoch:20: 31it [00:23,  2.20it/s]4)\u001b[0m \n",
      "Val Epoch:20: 32it [00:23,  2.54it/s]4)\u001b[0m \n",
      "Val Epoch:20: 33it [00:25,  1.15it/s]4)\u001b[0m \n",
      "Val Epoch:20: 34it [00:27,  1.09s/it]4)\u001b[0m \n",
      "Val Epoch:20: 35it [00:27,  1.16it/s]4)\u001b[0m \n",
      "Val Epoch:20: 36it [00:27,  1.54it/s]4)\u001b[0m \n",
      "Val Epoch:20: 37it [00:28,  1.85it/s]4)\u001b[0m \n",
      "Val Epoch:20: 38it [00:28,  1.69it/s]4)\u001b[0m \n",
      "Val Epoch:20: 39it [00:28,  2.12it/s]4)\u001b[0m \n",
      "Val Epoch:20: 40it [00:29,  2.60it/s]4)\u001b[0m \n",
      "Val Epoch:20: 41it [00:31,  1.03s/it]4)\u001b[0m \n",
      "Val Epoch:20: 42it [00:32,  1.02it/s]4)\u001b[0m \n",
      "Val Epoch:20: 43it [00:32,  1.36it/s]4)\u001b[0m \n",
      "Val Epoch:20: 44it [00:32,  1.75it/s]4)\u001b[0m \n",
      "Val Epoch:20: 45it [00:33,  1.62it/s]4)\u001b[0m \n",
      "Val Epoch:20: 46it [00:35,  1.01s/it]4)\u001b[0m \n",
      "Val Epoch:20: 47it [00:35,  1.25it/s]4)\u001b[0m \n",
      "Val Epoch:20: 48it [00:36,  1.61it/s]4)\u001b[0m \n",
      "Val Epoch:20: 49it [00:37,  1.33it/s]4)\u001b[0m \n",
      "Val Epoch:20: 50it [00:37,  1.45it/s]4)\u001b[0m \n",
      "Val Epoch:20: 51it [00:37,  1.79it/s]4)\u001b[0m \n",
      "Val Epoch:20: 53it [00:39,  1.62it/s]4)\u001b[0m \n",
      "Val Epoch:20: 54it [00:40,  1.50it/s]4)\u001b[0m \n",
      "Val Epoch:20: 55it [00:40,  1.67it/s]4)\u001b[0m \n",
      "Val Epoch:20: 56it [00:40,  2.11it/s]4)\u001b[0m \n",
      "Val Epoch:20: 57it [00:41,  1.56it/s]4)\u001b[0m \n",
      "Val Epoch:20: 58it [00:42,  1.81it/s]4)\u001b[0m \n",
      "Val Epoch:20: 59it [00:42,  1.69it/s]4)\u001b[0m \n",
      "Val Epoch:20: 60it [00:43,  1.90it/s]4)\u001b[0m \n",
      "Val Epoch:20: 61it [00:44,  1.12it/s]4)\u001b[0m \n",
      "Val Epoch:20: 63it [00:45,  1.49it/s]4)\u001b[0m \n",
      "Val Epoch:20: 64it [00:46,  1.92it/s]4)\u001b[0m \n",
      "Val Epoch:20: 65it [00:48,  1.01it/s]4)\u001b[0m \n",
      "Val Epoch:20: 66it [00:48,  1.10it/s]4)\u001b[0m \n",
      "Val Epoch:20: 67it [00:49,  1.46it/s]4)\u001b[0m \n",
      "Val Epoch:20: 69it [00:50,  1.47it/s]4)\u001b[0m \n",
      "Val Epoch:20: 70it [00:52,  1.07s/it]4)\u001b[0m \n",
      "Val Epoch:20: 72it [00:52,  1.49it/s]4)\u001b[0m \n",
      "Val Epoch:20: 73it [00:53,  1.43it/s]4)\u001b[0m \n",
      "Val Epoch:20: 75it [00:54,  1.86it/s]4)\u001b[0m \n",
      "Val Epoch:20: 76it [00:54,  2.23it/s]4)\u001b[0m \n",
      "Val Epoch:20: 77it [00:56,  1.25it/s]4)\u001b[0m \n"
     ]
    },
    {
     "name": "stdout",
     "output_type": "stream",
     "text": [
      "\u001b[36m(tune_with_parameters pid=3287706)\u001b[0m loss: 0.656\n"
     ]
    },
    {
     "name": "stderr",
     "output_type": "stream",
     "text": [
      "Val Epoch:20: 78it [00:58,  1.11s/it]4)\u001b[0m \n",
      "Val Epoch:20: 80it [00:58,  1.46it/s]4)\u001b[0m \n",
      "Val Epoch:20: 81it [00:59,  1.50it/s]4)\u001b[0m \n",
      "Val Epoch:20: 83it [01:00,  1.71it/s]4)\u001b[0m \n",
      "Val Epoch:20: 85it [01:01,  1.44it/s]4)\u001b[0m \n",
      "Val Epoch:20: 86it [01:03,  1.01it/s]4)\u001b[0m \n",
      "Val Epoch:20: 87it [01:04,  1.19it/s]4)\u001b[0m \n",
      "Val Epoch:20: 89it [01:04,  1.81it/s]4)\u001b[0m \n",
      "Val Epoch:20: 90it [01:04,  2.05it/s]4)\u001b[0m \n",
      "Val Epoch:20: 91it [01:05,  1.83it/s]4)\u001b[0m \n",
      "Val Epoch:20: 92it [01:05,  2.17it/s]4)\u001b[0m \n",
      "Val Epoch:20: 93it [01:05,  2.47it/s]4)\u001b[0m \n",
      "Val Epoch:20: 94it [01:08,  1.08s/it]4)\u001b[0m \n",
      "Val Epoch:20: 96it [01:09,  1.47it/s]4)\u001b[0m \n",
      "Val Epoch:20: 97it [01:09,  1.81it/s]4)\u001b[0m \n",
      "Val Epoch:20: 99it [01:09,  2.49it/s]4)\u001b[0m \n",
      "Val Epoch:20: 101it [01:09,  3.25it/s])\u001b[0m \n",
      "Val Epoch:20: 102it [01:10,  2.30it/s])\u001b[0m \n",
      "Val Epoch:20: 104it [01:10,  3.37it/s])\u001b[0m \n",
      "Val Epoch:20: 106it [01:11,  4.33it/s])\u001b[0m \n",
      "Val Epoch:20: 108it [01:11,  5.84it/s])\u001b[0m \n",
      "Val Epoch:20: 110it [01:12,  4.05it/s])\u001b[0m \n",
      "Val Epoch:20: 110it [01:12,  1.51it/s])\u001b[0m \n"
     ]
    },
    {
     "name": "stdout",
     "output_type": "stream",
     "text": [
      "\u001b[36m(tune_with_parameters pid=3287705)\u001b[0m loss: 0.659\n",
      "\u001b[36m(tune_with_parameters pid=3287704)\u001b[0m loss: 0.639\n",
      "\u001b[36m(tune_with_parameters pid=3287703)\u001b[0m loss: 0.653\n",
      "\u001b[36m(tune_with_parameters pid=3287706)\u001b[0m loss: 0.657\n"
     ]
    },
    {
     "name": "stderr",
     "output_type": "stream",
     "text": [
      "Val Epoch:23: 0it [00:00, ?it/s]287703)\u001b[0m \n",
      "Val Epoch:23: 1it [00:05,  5.67s/it]03)\u001b[0m \n",
      "Val Epoch:23: 2it [00:05,  2.44s/it]03)\u001b[0m \n",
      "Val Epoch:23: 3it [00:08,  2.42s/it]03)\u001b[0m \n",
      "Val Epoch:23: 4it [00:08,  1.50s/it]03)\u001b[0m \n",
      "Val Epoch:23: 5it [00:08,  1.09s/it]03)\u001b[0m \n",
      "Val Epoch:23: 7it [00:08,  1.71it/s]03)\u001b[0m \n",
      "Val Epoch:23: 8it [00:09,  2.06it/s]03)\u001b[0m \n",
      "Val Epoch:23: 9it [00:09,  1.74it/s]03)\u001b[0m \n",
      "Val Epoch:23: 10it [00:11,  1.39it/s]3)\u001b[0m \n",
      "Val Epoch:23: 11it [00:12,  1.07it/s]3)\u001b[0m \n",
      "Val Epoch:23: 13it [00:12,  1.68it/s]3)\u001b[0m \n",
      "Val Epoch:23: 14it [00:13,  2.02it/s]3)\u001b[0m \n",
      "Val Epoch:23: 15it [00:13,  2.37it/s]3)\u001b[0m \n",
      "Val Epoch:23: 17it [00:13,  2.81it/s]3)\u001b[0m \n",
      "Val Epoch:23: 18it [00:14,  2.64it/s]3)\u001b[0m \n",
      "Val Epoch:23: 19it [00:15,  1.70it/s]3)\u001b[0m \n",
      "Val Epoch:23: 20it [00:15,  2.09it/s]3)\u001b[0m \n",
      "Val Epoch:23: 21it [00:15,  2.60it/s]3)\u001b[0m \n",
      "Val Epoch:23: 22it [00:16,  2.39it/s]3)\u001b[0m \n",
      "Val Epoch:23: 23it [00:16,  2.64it/s]3)\u001b[0m \n",
      "Val Epoch:23: 25it [00:17,  2.17it/s]3)\u001b[0m \n",
      "Val Epoch:23: 26it [00:18,  1.86it/s]3)\u001b[0m \n",
      "Val Epoch:23: 27it [00:19,  1.80it/s]3)\u001b[0m \n",
      "Val Epoch:23: 28it [00:19,  1.89it/s]3)\u001b[0m \n",
      "Val Epoch:23: 29it [00:19,  2.01it/s]3)\u001b[0m \n",
      "Val Epoch:23: 30it [00:20,  2.38it/s]3)\u001b[0m \n",
      "Val Epoch:23: 31it [00:20,  2.16it/s]3)\u001b[0m \n",
      "Val Epoch:23: 32it [00:20,  2.54it/s]3)\u001b[0m \n",
      "Val Epoch:23: 33it [00:22,  1.49it/s]3)\u001b[0m \n",
      "Val Epoch:23: 34it [00:22,  1.45it/s]3)\u001b[0m \n",
      "Val Epoch:23: 35it [00:23,  1.78it/s]3)\u001b[0m \n",
      "Val Epoch:23: 36it [00:23,  2.15it/s]3)\u001b[0m \n",
      "Val Epoch:23: 38it [00:24,  2.65it/s]3)\u001b[0m \n",
      "Val Epoch:23: 39it [00:24,  2.70it/s]3)\u001b[0m \n",
      "Val Epoch:23: 41it [00:25,  2.16it/s]3)\u001b[0m \n",
      "Val Epoch:23: 42it [00:27,  1.31it/s]3)\u001b[0m \n",
      "Val Epoch:23: 43it [00:27,  1.54it/s]3)\u001b[0m \n",
      "Val Epoch:23: 44it [00:27,  1.95it/s]3)\u001b[0m \n",
      "Val Epoch:23: 45it [00:28,  2.19it/s]3)\u001b[0m \n",
      "Val Epoch:23: 46it [00:28,  2.66it/s]3)\u001b[0m \n",
      "Val Epoch:23: 47it [00:28,  2.72it/s]3)\u001b[0m \n",
      "Val Epoch:23: 48it [00:28,  3.07it/s]3)\u001b[0m \n",
      "Val Epoch:23: 49it [00:29,  2.84it/s]3)\u001b[0m \n",
      "Val Epoch:23: 50it [00:31,  1.03it/s]3)\u001b[0m \n",
      "Val Epoch:23: 51it [00:32,  1.14it/s]3)\u001b[0m \n"
     ]
    },
    {
     "name": "stdout",
     "output_type": "stream",
     "text": [
      "\u001b[36m(tune_with_parameters pid=3287705)\u001b[0m loss: 0.656\n"
     ]
    },
    {
     "name": "stderr",
     "output_type": "stream",
     "text": [
      "Val Epoch:23: 52it [00:32,  1.31it/s]3)\u001b[0m \n",
      "Val Epoch:23: 53it [00:33,  1.70it/s]3)\u001b[0m \n",
      "Val Epoch:23: 54it [00:33,  2.13it/s]3)\u001b[0m \n",
      "Val Epoch:23: 55it [00:33,  2.39it/s]3)\u001b[0m \n",
      "Val Epoch:23: 56it [00:33,  2.79it/s]3)\u001b[0m \n",
      "Val Epoch:23: 57it [00:34,  2.45it/s]3)\u001b[0m \n",
      "Val Epoch:23: 58it [00:35,  1.26it/s]3)\u001b[0m \n",
      "Val Epoch:23: 59it [00:36,  1.41it/s]3)\u001b[0m \n",
      "Val Epoch:23: 60it [00:36,  1.65it/s]3)\u001b[0m \n",
      "Val Epoch:23: 61it [00:37,  1.91it/s]3)\u001b[0m \n",
      "Val Epoch:23: 62it [00:37,  1.86it/s]3)\u001b[0m \n",
      "Val Epoch:23: 63it [00:38,  2.09it/s]3)\u001b[0m \n",
      "Val Epoch:23: 65it [00:38,  2.70it/s]3)\u001b[0m \n",
      "Val Epoch:23: 66it [00:39,  1.93it/s]3)\u001b[0m \n",
      "Val Epoch:23: 67it [00:40,  1.86it/s]3)\u001b[0m \n",
      "Val Epoch:23: 68it [00:41,  1.55it/s]3)\u001b[0m \n",
      "Val Epoch:23: 69it [00:41,  1.74it/s]3)\u001b[0m \n",
      "Val Epoch:23: 71it [00:41,  2.76it/s]3)\u001b[0m \n",
      "Val Epoch:23: 72it [00:41,  3.11it/s]3)\u001b[0m \n",
      "Val Epoch:23: 73it [00:42,  3.02it/s]3)\u001b[0m \n",
      "Val Epoch:23: 74it [00:43,  1.55it/s]3)\u001b[0m \n",
      "Val Epoch:23: 75it [00:44,  1.74it/s]3)\u001b[0m \n",
      "Val Epoch:23: 76it [00:45,  1.19it/s]3)\u001b[0m \n",
      "Val Epoch:23: 77it [00:45,  1.55it/s]3)\u001b[0m \n",
      "Val Epoch:23: 78it [00:45,  1.90it/s]3)\u001b[0m \n",
      "Val Epoch:23: 79it [00:46,  2.15it/s]3)\u001b[0m \n",
      "Val Epoch:23: 80it [00:46,  2.58it/s]3)\u001b[0m \n",
      "Val Epoch:23: 81it [00:46,  2.41it/s]3)\u001b[0m \n",
      "Val Epoch:23: 82it [00:48,  1.19it/s]3)\u001b[0m \n",
      "Val Epoch:23: 83it [00:49,  1.46it/s]3)\u001b[0m \n",
      "Val Epoch:23: 84it [00:49,  1.77it/s]3)\u001b[0m \n",
      "Val Epoch:23: 85it [00:49,  1.98it/s]3)\u001b[0m \n",
      "Val Epoch:23: 87it [00:50,  2.75it/s]3)\u001b[0m \n",
      "Val Epoch:23: 88it [00:50,  3.17it/s]3)\u001b[0m \n",
      "Val Epoch:23: 89it [00:50,  3.03it/s]3)\u001b[0m \n",
      "Val Epoch:23: 90it [00:52,  1.39it/s]3)\u001b[0m \n",
      "Val Epoch:23: 91it [00:52,  1.75it/s]3)\u001b[0m \n",
      "Val Epoch:23: 92it [00:54,  1.27it/s]3)\u001b[0m \n",
      "Val Epoch:23: 93it [00:54,  1.57it/s]3)\u001b[0m \n",
      "Val Epoch:23: 94it [00:54,  1.75it/s]3)\u001b[0m \n",
      "Val Epoch:23: 96it [00:54,  2.73it/s]3)\u001b[0m \n",
      "Val Epoch:23: 97it [00:55,  2.71it/s]3)\u001b[0m \n",
      "Val Epoch:23: 98it [00:56,  1.65it/s]3)\u001b[0m \n",
      "Val Epoch:23: 100it [00:57,  1.82it/s])\u001b[0m \n",
      "Val Epoch:23: 101it [00:57,  2.20it/s])\u001b[0m \n",
      "Val Epoch:23: 102it [00:57,  2.62it/s])\u001b[0m \n",
      "Val Epoch:23: 103it [00:57,  3.13it/s])\u001b[0m \n",
      "Val Epoch:23: 104it [00:58,  3.40it/s])\u001b[0m \n",
      "Val Epoch:23: 106it [01:00,  1.76it/s])\u001b[0m \n",
      "Val Epoch:23: 107it [01:00,  2.14it/s])\u001b[0m \n"
     ]
    },
    {
     "name": "stdout",
     "output_type": "stream",
     "text": [
      "\u001b[36m(tune_with_parameters pid=3287704)\u001b[0m loss: 0.656\n"
     ]
    },
    {
     "name": "stderr",
     "output_type": "stream",
     "text": [
      "Val Epoch:23: 108it [01:00,  1.93it/s])\u001b[0m \n",
      "Val Epoch:23: 109it [01:00,  2.42it/s])\u001b[0m \n",
      "Val Epoch:23: 110it [01:01,  2.99it/s])\u001b[0m \n",
      "Val Epoch:23: 110it [01:02,  1.75it/s])\u001b[0m \n"
     ]
    },
    {
     "name": "stdout",
     "output_type": "stream",
     "text": [
      "\u001b[36m(tune_with_parameters pid=3287703)\u001b[0m loss: 0.667\n",
      "\u001b[36m(tune_with_parameters pid=3287706)\u001b[0m loss: 0.657\n",
      "\u001b[36m(tune_with_parameters pid=3287705)\u001b[0m loss: 0.654\n",
      "\u001b[36m(tune_with_parameters pid=3287703)\u001b[0m loss: 0.652\n"
     ]
    },
    {
     "name": "stderr",
     "output_type": "stream",
     "text": [
      "Val Epoch:25: 0it [00:00, ?it/s]287705)\u001b[0m \n"
     ]
    },
    {
     "name": "stdout",
     "output_type": "stream",
     "text": [
      "\u001b[36m(tune_with_parameters pid=3287706)\u001b[0m loss: 0.657\n",
      "\u001b[36m(tune_with_parameters pid=3287704)\u001b[0m loss: 0.657\n"
     ]
    },
    {
     "name": "stderr",
     "output_type": "stream",
     "text": [
      "Val Epoch:25: 1it [00:06,  6.00s/it]05)\u001b[0m \n",
      "Val Epoch:25: 2it [00:06,  2.93s/it]05)\u001b[0m \n",
      "Val Epoch:25: 3it [00:07,  1.70s/it]05)\u001b[0m \n",
      "Val Epoch:25: 4it [00:07,  1.10s/it]05)\u001b[0m \n",
      "Val Epoch:25: 5it [00:07,  1.34it/s]05)\u001b[0m \n",
      "Val Epoch:25: 6it [00:07,  1.82it/s]05)\u001b[0m \n",
      "Val Epoch:25: 7it [00:07,  2.14it/s]05)\u001b[0m \n",
      "Val Epoch:25: 8it [00:08,  2.29it/s]05)\u001b[0m \n",
      "Val Epoch:25: 9it [00:09,  1.15it/s]05)\u001b[0m \n",
      "Val Epoch:25: 10it [00:10,  1.16it/s]5)\u001b[0m \n",
      "Val Epoch:25: 12it [00:11,  2.13it/s]5)\u001b[0m \n",
      "Val Epoch:25: 14it [00:11,  3.54it/s]5)\u001b[0m \n",
      "Val Epoch:25: 16it [00:11,  4.36it/s]5)\u001b[0m \n",
      "Val Epoch:25: 17it [00:13,  1.70it/s]5)\u001b[0m \n",
      "Val Epoch:25: 18it [00:13,  1.66it/s]5)\u001b[0m \n",
      "Val Epoch:25: 19it [00:14,  1.99it/s]5)\u001b[0m \n",
      "Val Epoch:25: 21it [00:14,  2.40it/s]5)\u001b[0m \n",
      "Val Epoch:25: 22it [00:14,  2.81it/s]5)\u001b[0m \n",
      "Val Epoch:25: 23it [00:15,  3.16it/s]5)\u001b[0m \n",
      "Val Epoch:25: 24it [00:15,  2.94it/s]5)\u001b[0m \n",
      "Val Epoch:25: 25it [00:17,  1.40it/s]5)\u001b[0m \n",
      "Val Epoch:25: 26it [00:17,  1.48it/s]5)\u001b[0m \n",
      "Val Epoch:25: 27it [00:17,  1.94it/s]5)\u001b[0m \n",
      "Val Epoch:25: 28it [00:18,  2.27it/s]5)\u001b[0m \n",
      "Val Epoch:25: 29it [00:18,  2.36it/s]5)\u001b[0m \n",
      "Val Epoch:25: 30it [00:18,  2.71it/s]5)\u001b[0m \n",
      "Val Epoch:25: 31it [00:19,  2.83it/s]5)\u001b[0m \n",
      "Val Epoch:25: 32it [00:19,  3.23it/s]5)\u001b[0m \n",
      "Val Epoch:25: 33it [00:21,  1.04it/s]5)\u001b[0m \n",
      "Val Epoch:25: 34it [00:22,  1.01it/s]5)\u001b[0m \n",
      "Val Epoch:25: 35it [00:23,  1.34it/s]5)\u001b[0m \n",
      "Val Epoch:25: 36it [00:23,  1.66it/s]5)\u001b[0m \n",
      "Val Epoch:25: 37it [00:23,  2.08it/s]5)\u001b[0m \n",
      "Val Epoch:25: 39it [00:23,  3.11it/s]5)\u001b[0m \n",
      "Val Epoch:25: 40it [00:24,  2.78it/s]5)\u001b[0m \n",
      "Val Epoch:25: 41it [00:25,  1.53it/s]5)\u001b[0m \n",
      "Val Epoch:25: 42it [00:27,  1.19it/s]5)\u001b[0m \n",
      "Val Epoch:25: 43it [00:27,  1.48it/s]5)\u001b[0m \n",
      "Val Epoch:25: 44it [00:27,  1.86it/s]5)\u001b[0m \n",
      "Val Epoch:25: 45it [00:27,  2.25it/s]5)\u001b[0m \n",
      "Val Epoch:25: 47it [00:28,  3.14it/s]5)\u001b[0m \n",
      "Val Epoch:25: 48it [00:28,  3.04it/s]5)\u001b[0m \n",
      "Val Epoch:25: 49it [00:30,  1.42it/s]5)\u001b[0m \n",
      "Val Epoch:25: 50it [00:30,  1.53it/s]5)\u001b[0m \n",
      "Val Epoch:25: 51it [00:30,  1.91it/s]5)\u001b[0m \n",
      "Val Epoch:25: 52it [00:31,  1.88it/s]5)\u001b[0m \n",
      "Val Epoch:25: 53it [00:31,  2.33it/s]5)\u001b[0m \n",
      "Val Epoch:25: 54it [00:31,  2.70it/s]5)\u001b[0m \n",
      "Val Epoch:25: 55it [00:32,  3.21it/s]5)\u001b[0m \n",
      "Val Epoch:25: 56it [00:32,  2.52it/s]5)\u001b[0m \n",
      "Val Epoch:25: 57it [00:34,  1.46it/s]5)\u001b[0m \n",
      "Val Epoch:25: 58it [00:34,  1.35it/s]5)\u001b[0m \n",
      "Val Epoch:25: 59it [00:35,  1.76it/s]5)\u001b[0m \n",
      "Val Epoch:25: 60it [00:35,  1.87it/s]5)\u001b[0m \n",
      "Val Epoch:25: 61it [00:35,  2.27it/s]5)\u001b[0m \n",
      "Val Epoch:25: 64it [00:36,  3.14it/s]5)\u001b[0m \n",
      "Val Epoch:25: 65it [00:38,  1.35it/s]5)\u001b[0m \n",
      "Val Epoch:25: 66it [00:39,  1.23it/s]5)\u001b[0m \n",
      "Val Epoch:25: 67it [00:39,  1.59it/s]5)\u001b[0m \n",
      "Val Epoch:25: 68it [00:39,  2.00it/s]5)\u001b[0m \n",
      "Val Epoch:25: 69it [00:39,  2.47it/s]5)\u001b[0m \n",
      "Val Epoch:25: 70it [00:40,  2.90it/s]5)\u001b[0m \n",
      "Val Epoch:25: 72it [00:40,  4.52it/s]5)\u001b[0m \n",
      "Val Epoch:25: 73it [00:40,  3.06it/s]5)\u001b[0m \n",
      "Val Epoch:25: 74it [00:42,  1.85it/s]5)\u001b[0m \n",
      "Val Epoch:25: 75it [00:42,  2.30it/s]5)\u001b[0m \n",
      "Val Epoch:25: 76it [00:42,  2.87it/s]5)\u001b[0m \n",
      "Val Epoch:25: 77it [00:42,  2.46it/s]5)\u001b[0m \n",
      "Val Epoch:25: 82it [00:45,  1.82it/s]5)\u001b[0m \n",
      "Val Epoch:25: 83it [00:46,  2.02it/s]5)\u001b[0m \n",
      "Val Epoch:25: 84it [00:46,  2.34it/s]5)\u001b[0m \n",
      "Val Epoch:25: 86it [00:46,  3.04it/s]5)\u001b[0m \n",
      "Val Epoch:25: 87it [00:47,  2.79it/s]5)\u001b[0m \n",
      "Val Epoch:25: 88it [00:47,  2.55it/s]5)\u001b[0m \n",
      "Val Epoch:25: 90it [00:50,  1.20it/s]5)\u001b[0m \n",
      "Val Epoch:25: 91it [00:50,  1.46it/s]5)\u001b[0m \n",
      "Val Epoch:25: 92it [00:51,  1.53it/s]5)\u001b[0m \n",
      "Val Epoch:25: 93it [00:52,  1.30it/s]5)\u001b[0m \n",
      "Val Epoch:25: 94it [00:52,  1.46it/s]5)\u001b[0m \n",
      "Val Epoch:25: 95it [00:53,  1.88it/s]5)\u001b[0m \n",
      "Val Epoch:25: 96it [00:53,  2.28it/s]5)\u001b[0m \n",
      "Val Epoch:25: 97it [00:53,  2.26it/s]5)\u001b[0m \n",
      "Val Epoch:25: 98it [00:55,  1.05it/s]5)\u001b[0m \n",
      "Val Epoch:25: 99it [00:56,  1.12it/s]5)\u001b[0m \n",
      "Val Epoch:25: 101it [00:57,  1.60it/s])\u001b[0m \n",
      "Val Epoch:25: 102it [00:57,  1.72it/s])\u001b[0m \n",
      "Val Epoch:26: 0it [00:00, ?it/s]287706)\u001b[0m \n",
      "Val Epoch:25: 104it [00:58,  1.88it/s])\u001b[0m \n",
      "Val Epoch:25: 105it [00:58,  2.06it/s])\u001b[0m \n",
      "Val Epoch:25: 106it [01:00,  1.26it/s])\u001b[0m \n",
      "Val Epoch:25: 107it [01:00,  1.58it/s])\u001b[0m \n",
      "Val Epoch:25: 109it [01:01,  2.13it/s])\u001b[0m \n",
      "Val Epoch:25: 110it [01:01,  2.54it/s])\u001b[0m \n",
      "Val Epoch:25: 110it [01:02,  1.75it/s])\u001b[0m \n",
      "Val Epoch:26: 2it [00:06,  2.92s/it]\u001b[32m [repeated 2x across cluster]\u001b[0m\n",
      "Val Epoch:26: 10it [00:11,  1.68it/s]6)\u001b[0m \n",
      "Val Epoch:26: 12it [00:12,  1.73it/s]6)\u001b[0m \n",
      "Val Epoch:26: 8it [00:09,  2.29it/s]\u001b[32m [repeated 6x across cluster]\u001b[0m\n",
      "Val Epoch:26: 25it [00:18,  1.35it/s]\u001b[32m [repeated 11x across cluster]\u001b[0m\n"
     ]
    },
    {
     "name": "stdout",
     "output_type": "stream",
     "text": [
      "\u001b[36m(tune_with_parameters pid=3287705)\u001b[0m loss: 0.615\n"
     ]
    },
    {
     "name": "stderr",
     "output_type": "stream",
     "text": [
      "Val Epoch:26: 36it [00:24,  1.04it/s]\u001b[32m [repeated 11x across cluster]\u001b[0m\n",
      "Val Epoch:26: 45it [00:29,  1.27it/s]6)\u001b[0m \n",
      "Val Epoch:26: 46it [00:30,  1.65it/s]\u001b[32m [repeated 7x across cluster]\u001b[0m\n",
      "Val Epoch:26: 58it [00:37,  1.13it/s]\u001b[32m [repeated 11x across cluster]\u001b[0m\n",
      "Val Epoch:26: 68it [00:42,  1.32it/s]\u001b[32m [repeated 10x across cluster]\u001b[0m\n",
      "Val Epoch:26: 81it [00:48,  1.95it/s]\u001b[32m [repeated 13x across cluster]\u001b[0m\n"
     ]
    },
    {
     "name": "stdout",
     "output_type": "stream",
     "text": [
      "\u001b[36m(tune_with_parameters pid=3287703)\u001b[0m loss: 0.652\n"
     ]
    },
    {
     "name": "stderr",
     "output_type": "stream",
     "text": [
      "Val Epoch:26: 90it [00:54,  1.05it/s]\u001b[32m [repeated 8x across cluster]\u001b[0m\n",
      "Val Epoch:26: 104it [00:59,  4.14it/s]\u001b[32m [repeated 12x across cluster]\u001b[0m\n"
     ]
    },
    {
     "name": "stdout",
     "output_type": "stream",
     "text": [
      "\u001b[36m(tune_with_parameters pid=3287704)\u001b[0m loss: 0.657\n",
      "\u001b[36m(tune_with_parameters pid=3287706)\u001b[0m loss: 0.655\n",
      "\u001b[36m(tune_with_parameters pid=3287705)\u001b[0m loss: 0.637\n",
      "\u001b[36m(tune_with_parameters pid=3287703)\u001b[0m loss: 0.652\n",
      "\u001b[36m(tune_with_parameters pid=3287706)\u001b[0m loss: 0.657\n",
      "\u001b[36m(tune_with_parameters pid=3287704)\u001b[0m loss: 0.657\n",
      "\u001b[36m(tune_with_parameters pid=3287705)\u001b[0m loss: 0.646\n",
      "\u001b[36m(tune_with_parameters pid=3287703)\u001b[0m loss: 0.652\n"
     ]
    },
    {
     "name": "stderr",
     "output_type": "stream",
     "text": [
      "Val Epoch:21: 0it [00:00, ?it/s]287704)\u001b[0m \n",
      "Val Epoch:26: 110it [01:04,  1.72it/s]\u001b[32m [repeated 7x across cluster]\u001b[0m\n",
      "Val Epoch:21: 9it [00:05,  2.23it/s]\u001b[32m [repeated 8x across cluster]\u001b[0m\n"
     ]
    },
    {
     "name": "stdout",
     "output_type": "stream",
     "text": [
      "\u001b[36m(tune_with_parameters pid=3287706)\u001b[0m loss: 0.657\n"
     ]
    },
    {
     "name": "stderr",
     "output_type": "stream",
     "text": [
      "Val Epoch:21: 29it [00:10,  3.30it/s]\u001b[32m [repeated 16x across cluster]\u001b[0m\n",
      "Val Epoch:21: 49it [00:17,  2.05it/s]\u001b[32m [repeated 13x across cluster]\u001b[0m\n",
      "Val Epoch:24: 0it [00:00, ?it/s]287703)\u001b[0m \n",
      "Val Epoch:21: 66it [00:22,  2.63it/s]\u001b[32m [repeated 18x across cluster]\u001b[0m\n",
      "Val Epoch:21: 78it [00:24,  4.93it/s]4)\u001b[0m \n"
     ]
    },
    {
     "name": "stdout",
     "output_type": "stream",
     "text": [
      "\u001b[36m(tune_with_parameters pid=3287705)\u001b[0m loss: 0.651\n"
     ]
    },
    {
     "name": "stderr",
     "output_type": "stream",
     "text": [
      "Val Epoch:21: 86it [00:27,  3.29it/s]\u001b[32m [repeated 25x across cluster]\u001b[0m\n",
      "Val Epoch:24: 54it [00:14,  2.93it/s]\u001b[32m [repeated 26x across cluster]\u001b[0m\n",
      "Val Epoch:24: 65it [00:19,  2.79it/s]\u001b[32m [repeated 19x across cluster]\u001b[0m\n",
      "Val Epoch:24: 74it [00:26,  1.28s/it]\u001b[32m [repeated 8x across cluster]\u001b[0m\n",
      "Val Epoch:24: 81it [00:29,  1.97it/s]3)\u001b[0m \n",
      "Val Epoch:24: 85it [00:31,  1.84it/s]\u001b[32m [repeated 7x across cluster]\u001b[0m\n",
      "Val Epoch:24: 97it [00:36,  3.10it/s]\u001b[32m [repeated 10x across cluster]\u001b[0m\n"
     ]
    },
    {
     "name": "stdout",
     "output_type": "stream",
     "text": [
      "\u001b[36m(tune_with_parameters pid=3287704)\u001b[0m loss: 0.663\n"
     ]
    },
    {
     "name": "stderr",
     "output_type": "stream",
     "text": [
      "Val Epoch:24: 109it [00:42,  2.25it/s]\u001b[32m [repeated 11x across cluster]\u001b[0m\n"
     ]
    },
    {
     "name": "stdout",
     "output_type": "stream",
     "text": [
      "\u001b[36m(tune_with_parameters pid=3287703)\u001b[0m loss: 0.632\n",
      "\u001b[36m(tune_with_parameters pid=3287705)\u001b[0m loss: 0.654\u001b[32m [repeated 2x across cluster]\u001b[0m\n"
     ]
    },
    {
     "name": "stderr",
     "output_type": "stream",
     "text": [
      "Val Epoch:26: 0it [00:00, ?it/s]287705)\u001b[0m \n",
      "Val Epoch:24: 110it [00:44,  2.47it/s]\u001b[32m [repeated 2x across cluster]\u001b[0m\n"
     ]
    },
    {
     "name": "stdout",
     "output_type": "stream",
     "text": [
      "\u001b[36m(tune_with_parameters pid=3287706)\u001b[0m loss: 0.657\n",
      "\u001b[36m(tune_with_parameters pid=3287704)\u001b[0m loss: 0.657\n"
     ]
    },
    {
     "name": "stderr",
     "output_type": "stream",
     "text": [
      "Val Epoch:26: 13it [00:05,  5.72it/s]\u001b[32m [repeated 12x across cluster]\u001b[0m\n",
      "Val Epoch:26: 33it [00:10,  2.95it/s]\u001b[32m [repeated 15x across cluster]\u001b[0m\n",
      "Val Epoch:26: 59it [00:15,  3.35it/s]\u001b[32m [repeated 19x across cluster]\u001b[0m\n",
      "Val Epoch:26: 83it [00:20,  3.07it/s]\u001b[32m [repeated 13x across cluster]\u001b[0m\n",
      "Val Epoch:26: 98it [00:27,  1.56it/s]\u001b[32m [repeated 10x across cluster]\u001b[0m\n",
      "Val Epoch:26: 107it [00:33,  1.35it/s]\u001b[32m [repeated 8x across cluster]\u001b[0m\n",
      "Val Epoch:27: 0it [00:00, ?it/s]287706)\u001b[0m \n",
      "Val Epoch:27: 1it [00:04,  4.60s/it]\u001b[32m [repeated 4x across cluster]\u001b[0m\n",
      "Val Epoch:27: 10it [00:10,  1.51it/s]\u001b[32m [repeated 8x across cluster]\u001b[0m\n",
      "Val Epoch:27: 16it [00:12,  3.46it/s]6)\u001b[0m \n",
      "Val Epoch:27: 19it [00:15,  1.35it/s]\u001b[32m [repeated 7x across cluster]\u001b[0m\n",
      "Val Epoch:27: 32it [00:20,  3.26it/s]\u001b[32m [repeated 12x across cluster]\u001b[0m\n"
     ]
    },
    {
     "name": "stdout",
     "output_type": "stream",
     "text": [
      "\u001b[36m(tune_with_parameters pid=3287705)\u001b[0m loss: 0.658\u001b[32m [repeated 2x across cluster]\u001b[0m\n"
     ]
    },
    {
     "name": "stderr",
     "output_type": "stream",
     "text": [
      "Val Epoch:27: 41it [00:26,  2.23it/s]\u001b[32m [repeated 8x across cluster]\u001b[0m\n",
      "Val Epoch:27: 49it [00:31,  1.41it/s]\u001b[32m [repeated 6x across cluster]\u001b[0m\n",
      "Val Epoch:27: 62it [00:36,  3.01it/s]\u001b[32m [repeated 12x across cluster]\u001b[0m\n",
      "Val Epoch:27: 73it [00:42,  1.56it/s]\u001b[32m [repeated 10x across cluster]\u001b[0m\n",
      "Val Epoch:27: 89it [00:47,  4.84it/s]\u001b[32m [repeated 10x across cluster]\u001b[0m\n"
     ]
    },
    {
     "name": "stdout",
     "output_type": "stream",
     "text": [
      "\u001b[36m(tune_with_parameters pid=3287703)\u001b[0m loss: 0.659\n"
     ]
    },
    {
     "name": "stderr",
     "output_type": "stream",
     "text": [
      "Val Epoch:27: 110it [00:53,  2.07it/s]\u001b[32m [repeated 14x across cluster]\u001b[0m\n"
     ]
    },
    {
     "name": "stdout",
     "output_type": "stream",
     "text": [
      "\u001b[36m(tune_with_parameters pid=3287706)\u001b[0m loss: 0.658\n",
      "\u001b[36m(tune_with_parameters pid=3287705)\u001b[0m loss: 0.662\u001b[32m [repeated 2x across cluster]\u001b[0m\n",
      "\u001b[36m(tune_with_parameters pid=3287703)\u001b[0m loss: 0.659\n",
      "\u001b[36m(tune_with_parameters pid=3287706)\u001b[0m loss: 0.656\n",
      "\u001b[36m(tune_with_parameters pid=3287704)\u001b[0m loss: 0.657\n",
      "\u001b[36m(tune_with_parameters pid=3287705)\u001b[0m loss: 0.662\n",
      "\u001b[36m(tune_with_parameters pid=3287703)\u001b[0m loss: 0.659\n",
      "\u001b[36m(tune_with_parameters pid=3287706)\u001b[0m loss: 0.656\n"
     ]
    },
    {
     "name": "stderr",
     "output_type": "stream",
     "text": [
      "Val Epoch:25: 0it [00:00, ?it/s]287703)\u001b[0m \n",
      "Val Epoch:25: 1it [00:05,  5.92s/it]03)\u001b[0m \n",
      "Val Epoch:25: 2it [00:07,  3.26s/it]03)\u001b[0m \n",
      "Val Epoch:25: 3it [00:07,  1.89s/it]03)\u001b[0m \n",
      "Val Epoch:25: 6it [00:08,  1.41it/s]03)\u001b[0m \n",
      "Val Epoch:25: 7it [00:08,  1.82it/s]03)\u001b[0m \n",
      "Val Epoch:25: 8it [00:08,  1.87it/s]03)\u001b[0m \n",
      "Val Epoch:25: 9it [00:09,  1.42it/s]03)\u001b[0m \n",
      "Val Epoch:25: 10it [00:11,  1.17it/s]3)\u001b[0m \n",
      "Val Epoch:25: 11it [00:11,  1.30it/s]3)\u001b[0m \n",
      "Val Epoch:25: 12it [00:11,  1.68it/s]3)\u001b[0m \n",
      "Val Epoch:25: 13it [00:12,  1.56it/s]3)\u001b[0m \n",
      "Val Epoch:25: 14it [00:12,  1.97it/s]3)\u001b[0m \n",
      "Val Epoch:25: 15it [00:13,  2.17it/s]3)\u001b[0m \n",
      "Val Epoch:25: 17it [00:13,  2.52it/s]3)\u001b[0m \n",
      "Val Epoch:25: 18it [00:14,  1.94it/s]3)\u001b[0m \n",
      "Val Epoch:25: 19it [00:14,  2.32it/s]3)\u001b[0m \n",
      "Val Epoch:25: 20it [00:15,  2.45it/s]3)\u001b[0m \n",
      "Val Epoch:25: 21it [00:16,  1.57it/s]3)\u001b[0m \n",
      "Val Epoch:25: 23it [00:16,  2.21it/s]3)\u001b[0m \n",
      "Val Epoch:25: 24it [00:17,  2.56it/s]3)\u001b[0m \n"
     ]
    },
    {
     "name": "stdout",
     "output_type": "stream",
     "text": [
      "\u001b[36m(tune_with_parameters pid=3287705)\u001b[0m loss: 0.662\n"
     ]
    },
    {
     "name": "stderr",
     "output_type": "stream",
     "text": [
      "Val Epoch:25: 25it [00:18,  1.70it/s]3)\u001b[0m \n",
      "Val Epoch:25: 26it [00:18,  1.81it/s]3)\u001b[0m \n",
      "Val Epoch:25: 27it [00:19,  1.83it/s]3)\u001b[0m \n",
      "Val Epoch:25: 28it [00:20,  1.62it/s]3)\u001b[0m \n",
      "Val Epoch:25: 29it [00:20,  1.40it/s]3)\u001b[0m \n",
      "Val Epoch:25: 30it [00:21,  1.71it/s]3)\u001b[0m \n",
      "Val Epoch:25: 31it [00:21,  2.10it/s]3)\u001b[0m \n",
      "Val Epoch:25: 32it [00:22,  1.93it/s]3)\u001b[0m \n",
      "Val Epoch:25: 33it [00:22,  2.00it/s]3)\u001b[0m \n",
      "Val Epoch:25: 34it [00:23,  2.00it/s]3)\u001b[0m \n",
      "Val Epoch:25: 35it [00:23,  2.60it/s]3)\u001b[0m \n",
      "Val Epoch:25: 36it [00:23,  3.34it/s]3)\u001b[0m \n",
      "Val Epoch:25: 37it [00:23,  3.52it/s]3)\u001b[0m \n",
      "Val Epoch:25: 39it [00:23,  5.63it/s]3)\u001b[0m \n",
      "Val Epoch:25: 41it [00:23,  5.89it/s]3)\u001b[0m \n",
      "Val Epoch:25: 42it [00:24,  4.25it/s]3)\u001b[0m \n"
     ]
    },
    {
     "name": "stdout",
     "output_type": "stream",
     "text": [
      "\u001b[36m(tune_with_parameters pid=3287704)\u001b[0m loss: 0.657\n"
     ]
    },
    {
     "name": "stderr",
     "output_type": "stream",
     "text": [
      "Val Epoch:25: 43it [00:24,  4.03it/s]3)\u001b[0m \n",
      "Val Epoch:25: 44it [00:25,  3.48it/s]3)\u001b[0m \n",
      "Val Epoch:25: 45it [00:25,  2.54it/s]3)\u001b[0m \n",
      "Val Epoch:25: 46it [00:25,  3.20it/s]3)\u001b[0m \n",
      "Val Epoch:25: 48it [00:25,  4.98it/s]3)\u001b[0m \n",
      "Val Epoch:25: 49it [00:26,  5.00it/s]3)\u001b[0m \n",
      "Val Epoch:25: 50it [00:26,  3.88it/s]3)\u001b[0m \n",
      "Val Epoch:25: 52it [00:26,  4.47it/s]3)\u001b[0m \n",
      "Val Epoch:25: 53it [00:27,  4.22it/s]3)\u001b[0m \n",
      "Val Epoch:25: 54it [00:27,  4.75it/s]3)\u001b[0m \n",
      "Val Epoch:25: 57it [00:27,  6.92it/s]3)\u001b[0m \n",
      "Val Epoch:25: 58it [00:28,  5.11it/s]3)\u001b[0m \n",
      "Val Epoch:25: 59it [00:28,  5.07it/s]3)\u001b[0m \n",
      "Val Epoch:25: 60it [00:28,  5.11it/s]3)\u001b[0m \n",
      "Val Epoch:25: 61it [00:28,  3.69it/s]3)\u001b[0m \n",
      "Val Epoch:25: 62it [00:29,  4.24it/s]3)\u001b[0m \n",
      "Val Epoch:25: 63it [00:29,  4.64it/s]3)\u001b[0m \n",
      "Val Epoch:25: 65it [00:29,  6.60it/s]3)\u001b[0m \n",
      "Val Epoch:25: 66it [00:29,  6.66it/s]3)\u001b[0m \n",
      "Val Epoch:25: 67it [00:29,  7.17it/s]3)\u001b[0m \n",
      "Val Epoch:25: 68it [00:30,  3.99it/s]3)\u001b[0m \n",
      "Val Epoch:25: 70it [00:30,  4.64it/s]3)\u001b[0m \n",
      "Val Epoch:25: 71it [00:30,  5.14it/s]3)\u001b[0m \n",
      "Val Epoch:25: 73it [00:30,  5.96it/s]3)\u001b[0m \n",
      "Val Epoch:25: 74it [00:31,  4.64it/s]3)\u001b[0m \n",
      "Val Epoch:25: 75it [00:31,  5.14it/s]3)\u001b[0m \n",
      "Val Epoch:25: 76it [00:31,  4.28it/s]3)\u001b[0m \n",
      "Val Epoch:25: 77it [00:32,  4.16it/s]3)\u001b[0m \n",
      "Val Epoch:25: 78it [00:32,  4.85it/s]3)\u001b[0m \n",
      "Val Epoch:25: 79it [00:32,  5.05it/s]3)\u001b[0m \n",
      "Val Epoch:25: 80it [00:32,  5.86it/s]3)\u001b[0m \n",
      "Val Epoch:25: 82it [00:33,  3.72it/s]3)\u001b[0m \n",
      "Val Epoch:25: 83it [00:33,  3.64it/s]3)\u001b[0m \n",
      "Val Epoch:25: 85it [00:33,  5.37it/s]3)\u001b[0m \n",
      "Val Epoch:25: 86it [00:33,  4.81it/s]3)\u001b[0m \n",
      "Val Epoch:25: 88it [00:33,  6.81it/s]3)\u001b[0m \n",
      "Val Epoch:25: 90it [00:34,  4.91it/s]3)\u001b[0m \n",
      "Val Epoch:25: 91it [00:35,  3.25it/s]3)\u001b[0m \n",
      "Val Epoch:25: 93it [00:35,  4.49it/s]3)\u001b[0m \n",
      "Val Epoch:25: 94it [00:35,  4.75it/s]3)\u001b[0m \n",
      "Val Epoch:25: 95it [00:35,  5.29it/s]3)\u001b[0m \n",
      "Val Epoch:25: 96it [00:35,  5.76it/s]3)\u001b[0m \n",
      "Val Epoch:25: 97it [00:36,  4.24it/s]3)\u001b[0m \n",
      "Val Epoch:25: 98it [00:36,  4.93it/s]3)\u001b[0m \n",
      "Val Epoch:25: 99it [00:36,  3.30it/s]3)\u001b[0m \n",
      "Val Epoch:25: 101it [00:37,  4.89it/s])\u001b[0m \n",
      "Val Epoch:25: 104it [00:37,  8.00it/s])\u001b[0m \n",
      "Val Epoch:25: 106it [00:37,  6.11it/s])\u001b[0m \n",
      "Val Epoch:25: 107it [00:37,  5.67it/s])\u001b[0m \n",
      "Val Epoch:25: 108it [00:38,  5.68it/s])\u001b[0m \n",
      "Val Epoch:25: 110it [00:38,  2.83it/s])\u001b[0m \n"
     ]
    },
    {
     "name": "stdout",
     "output_type": "stream",
     "text": [
      "\u001b[36m(tune_with_parameters pid=3287706)\u001b[0m loss: 0.657\n"
     ]
    },
    {
     "name": "stderr",
     "output_type": "stream",
     "text": [
      "Val Epoch:22: 0it [00:00, ?it/s]287704)\u001b[0m \n",
      "Val Epoch:22: 1it [00:04,  4.13s/it]04)\u001b[0m \n",
      "Val Epoch:22: 2it [00:04,  1.78s/it]04)\u001b[0m \n",
      "Val Epoch:22: 3it [00:04,  1.04s/it]04)\u001b[0m \n",
      "Val Epoch:22: 4it [00:04,  1.46it/s]04)\u001b[0m \n",
      "Val Epoch:22: 5it [00:05,  1.58it/s]04)\u001b[0m \n",
      "Val Epoch:22: 6it [00:05,  2.07it/s]04)\u001b[0m \n",
      "Val Epoch:22: 7it [00:05,  2.39it/s]04)\u001b[0m \n",
      "Val Epoch:22: 9it [00:07,  1.30it/s]04)\u001b[0m \n",
      "Val Epoch:22: 10it [00:08,  1.64it/s]4)\u001b[0m \n",
      "Val Epoch:22: 11it [00:08,  2.08it/s]4)\u001b[0m \n",
      "Val Epoch:22: 12it [00:08,  2.58it/s]4)\u001b[0m \n",
      "Val Epoch:22: 13it [00:09,  1.88it/s]4)\u001b[0m \n",
      "Val Epoch:22: 15it [00:09,  2.99it/s]4)\u001b[0m \n",
      "Val Epoch:22: 16it [00:09,  3.45it/s]4)\u001b[0m \n",
      "Val Epoch:22: 17it [00:12,  1.17it/s]4)\u001b[0m \n",
      "Val Epoch:22: 18it [00:12,  1.49it/s]4)\u001b[0m \n",
      "Val Epoch:22: 19it [00:12,  1.89it/s]4)\u001b[0m \n",
      "Val Epoch:22: 20it [00:12,  2.02it/s]4)\u001b[0m \n",
      "Val Epoch:22: 21it [00:13,  1.95it/s]4)\u001b[0m \n",
      "Val Epoch:22: 23it [00:13,  2.41it/s]4)\u001b[0m \n",
      "Val Epoch:22: 24it [00:14,  2.85it/s]4)\u001b[0m \n",
      "Val Epoch:22: 25it [00:16,  1.06it/s]4)\u001b[0m \n",
      "Val Epoch:22: 26it [00:16,  1.36it/s]4)\u001b[0m \n",
      "Val Epoch:22: 27it [00:17,  1.74it/s]4)\u001b[0m \n",
      "Val Epoch:22: 28it [00:17,  2.02it/s]4)\u001b[0m \n",
      "Val Epoch:22: 30it [00:17,  3.22it/s]4)\u001b[0m \n",
      "Val Epoch:22: 31it [00:18,  2.77it/s]4)\u001b[0m \n",
      "Val Epoch:22: 32it [00:18,  3.46it/s]4)\u001b[0m \n"
     ]
    },
    {
     "name": "stdout",
     "output_type": "stream",
     "text": [
      "\u001b[36m(tune_with_parameters pid=3287705)\u001b[0m loss: 0.661\n"
     ]
    },
    {
     "name": "stderr",
     "output_type": "stream",
     "text": [
      "Val Epoch:22: 33it [00:21,  1.05s/it]4)\u001b[0m \n",
      "Val Epoch:22: 36it [00:21,  2.03it/s]4)\u001b[0m \n",
      "Val Epoch:22: 37it [00:22,  1.85it/s]4)\u001b[0m \n",
      "Val Epoch:22: 38it [00:22,  2.24it/s]4)\u001b[0m \n",
      "Val Epoch:22: 39it [00:22,  2.79it/s]4)\u001b[0m \n",
      "Val Epoch:22: 40it [00:22,  3.42it/s]4)\u001b[0m \n",
      "Val Epoch:22: 41it [00:25,  1.10s/it]4)\u001b[0m \n",
      "Val Epoch:22: 43it [00:25,  1.51it/s]4)\u001b[0m \n",
      "Val Epoch:22: 44it [00:26,  1.50it/s]4)\u001b[0m \n",
      "Val Epoch:22: 45it [00:26,  1.72it/s]4)\u001b[0m \n",
      "Val Epoch:22: 47it [00:26,  2.73it/s]4)\u001b[0m \n",
      "Val Epoch:22: 48it [00:27,  2.92it/s]4)\u001b[0m \n",
      "Val Epoch:22: 49it [00:28,  1.45it/s]4)\u001b[0m \n",
      "Val Epoch:22: 51it [00:29,  2.19it/s]4)\u001b[0m \n",
      "Val Epoch:22: 52it [00:30,  1.74it/s]4)\u001b[0m \n",
      "Val Epoch:22: 53it [00:30,  2.10it/s]4)\u001b[0m \n",
      "Val Epoch:22: 54it [00:30,  2.55it/s]4)\u001b[0m \n",
      "Val Epoch:22: 55it [00:30,  3.06it/s]4)\u001b[0m \n",
      "Val Epoch:22: 56it [00:30,  3.35it/s]4)\u001b[0m \n",
      "Val Epoch:22: 57it [00:31,  3.99it/s]4)\u001b[0m \n",
      "Val Epoch:22: 58it [00:31,  4.09it/s]4)\u001b[0m \n",
      "Val Epoch:22: 59it [00:31,  3.25it/s]4)\u001b[0m \n",
      "Val Epoch:22: 60it [00:32,  3.04it/s]4)\u001b[0m \n",
      "Val Epoch:22: 63it [00:32,  6.03it/s]4)\u001b[0m \n",
      "Val Epoch:22: 65it [00:32,  6.97it/s]4)\u001b[0m \n",
      "Val Epoch:22: 67it [00:33,  3.27it/s]4)\u001b[0m \n",
      "Val Epoch:22: 68it [00:34,  3.17it/s]4)\u001b[0m \n",
      "Val Epoch:22: 69it [00:34,  3.57it/s]4)\u001b[0m \n",
      "Val Epoch:22: 71it [00:34,  4.93it/s]4)\u001b[0m \n",
      "Val Epoch:22: 73it [00:34,  5.53it/s]4)\u001b[0m \n",
      "Val Epoch:22: 75it [00:35,  4.00it/s]4)\u001b[0m \n",
      "Val Epoch:22: 76it [00:35,  3.41it/s]4)\u001b[0m \n",
      "Val Epoch:22: 77it [00:36,  3.87it/s]4)\u001b[0m \n",
      "Val Epoch:22: 80it [00:36,  6.02it/s]4)\u001b[0m \n",
      "Val Epoch:22: 83it [00:37,  4.33it/s]4)\u001b[0m \n",
      "Val Epoch:22: 84it [00:37,  3.87it/s]4)\u001b[0m \n",
      "Val Epoch:22: 86it [00:37,  5.18it/s]4)\u001b[0m \n",
      "Val Epoch:22: 87it [00:37,  5.60it/s]4)\u001b[0m \n",
      "Val Epoch:22: 89it [00:38,  5.30it/s]4)\u001b[0m \n",
      "Val Epoch:22: 91it [00:38,  4.11it/s]4)\u001b[0m \n",
      "Val Epoch:22: 92it [00:39,  3.91it/s]4)\u001b[0m \n",
      "Val Epoch:22: 94it [00:39,  4.92it/s]4)\u001b[0m \n",
      "Val Epoch:22: 95it [00:39,  5.46it/s]4)\u001b[0m \n",
      "Val Epoch:22: 97it [00:39,  7.37it/s]4)\u001b[0m \n",
      "Val Epoch:22: 99it [00:40,  6.44it/s]4)\u001b[0m \n",
      "Val Epoch:22: 100it [00:40,  4.81it/s])\u001b[0m \n",
      "Val Epoch:22: 102it [00:40,  6.41it/s])\u001b[0m \n",
      "Val Epoch:22: 105it [00:40,  8.99it/s])\u001b[0m \n"
     ]
    },
    {
     "name": "stdout",
     "output_type": "stream",
     "text": [
      "\u001b[36m(tune_with_parameters pid=3287706)\u001b[0m loss: 0.657\n"
     ]
    },
    {
     "name": "stderr",
     "output_type": "stream",
     "text": [
      "Val Epoch:22: 107it [00:41,  5.74it/s])\u001b[0m \n",
      "Val Epoch:22: 108it [00:42,  3.96it/s])\u001b[0m \n",
      "Val Epoch:22: 110it [00:42,  2.56it/s])\u001b[0m \n",
      "Val Epoch:27: 0it [00:00, ?it/s]287705)\u001b[0m \n",
      "Val Epoch:27: 1it [00:01,  1.64s/it]05)\u001b[0m \n",
      "Val Epoch:27: 2it [00:02,  1.01it/s]05)\u001b[0m \n",
      "Val Epoch:27: 4it [00:02,  2.45it/s]05)\u001b[0m \n",
      "Val Epoch:27: 6it [00:02,  4.09it/s]05)\u001b[0m \n",
      "Val Epoch:27: 9it [00:02,  6.36it/s]05)\u001b[0m \n",
      "Val Epoch:27: 11it [00:03,  3.90it/s]5)\u001b[0m \n",
      "Val Epoch:27: 13it [00:03,  5.02it/s]5)\u001b[0m \n",
      "Val Epoch:27: 15it [00:04,  5.42it/s]5)\u001b[0m \n"
     ]
    },
    {
     "name": "stdout",
     "output_type": "stream",
     "text": [
      "\u001b[36m(tune_with_parameters pid=3287704)\u001b[0m loss: 0.650\n"
     ]
    },
    {
     "name": "stderr",
     "output_type": "stream",
     "text": [
      "Val Epoch:27: 18it [00:04,  5.19it/s]5)\u001b[0m \n",
      "Val Epoch:27: 20it [00:04,  6.08it/s]5)\u001b[0m \n",
      "Val Epoch:27: 22it [00:05,  3.99it/s]5)\u001b[0m \n",
      "Val Epoch:27: 24it [00:05,  5.10it/s]5)\u001b[0m \n",
      "Val Epoch:27: 26it [00:06,  5.11it/s]5)\u001b[0m \n",
      "Val Epoch:27: 29it [00:06,  7.10it/s]5)\u001b[0m \n",
      "Val Epoch:27: 31it [00:06,  5.59it/s]5)\u001b[0m \n",
      "Val Epoch:27: 34it [00:07,  6.29it/s]5)\u001b[0m \n",
      "Val Epoch:27: 35it [00:07,  5.74it/s]5)\u001b[0m \n",
      "Val Epoch:27: 36it [00:07,  5.21it/s]5)\u001b[0m \n",
      "Val Epoch:27: 37it [00:08,  5.68it/s]5)\u001b[0m \n",
      "Val Epoch:27: 39it [00:08,  7.16it/s]5)\u001b[0m \n",
      "Val Epoch:27: 42it [00:08,  5.91it/s]5)\u001b[0m \n",
      "Val Epoch:27: 43it [00:09,  5.60it/s]5)\u001b[0m \n",
      "Val Epoch:27: 45it [00:09,  7.25it/s]5)\u001b[0m \n",
      "Val Epoch:27: 47it [00:09,  7.14it/s]5)\u001b[0m \n",
      "Val Epoch:27: 52it [00:09, 10.77it/s]5)\u001b[0m \n",
      "Val Epoch:27: 54it [00:10,  6.55it/s]5)\u001b[0m \n",
      "Val Epoch:27: 57it [00:10,  8.59it/s]5)\u001b[0m \n",
      "Val Epoch:27: 59it [00:10,  9.35it/s]5)\u001b[0m \n",
      "Val Epoch:27: 61it [00:11,  6.88it/s]5)\u001b[0m \n",
      "Val Epoch:27: 63it [00:11,  4.76it/s]5)\u001b[0m \n",
      "Val Epoch:27: 64it [00:12,  4.76it/s]5)\u001b[0m \n",
      "Val Epoch:27: 65it [00:12,  4.73it/s]5)\u001b[0m \n",
      "Val Epoch:27: 67it [00:12,  5.11it/s]5)\u001b[0m \n",
      "Val Epoch:27: 69it [00:12,  6.04it/s]5)\u001b[0m \n",
      "Val Epoch:27: 70it [00:13,  3.47it/s]5)\u001b[0m \n",
      "Val Epoch:27: 74it [00:13,  6.29it/s]5)\u001b[0m \n",
      "Val Epoch:27: 76it [00:14,  4.61it/s]5)\u001b[0m \n",
      "Val Epoch:27: 77it [00:14,  4.73it/s]5)\u001b[0m \n",
      "Val Epoch:27: 78it [00:16,  1.92it/s]5)\u001b[0m \n",
      "Val Epoch:28: 0it [00:00, ?it/s]287706)\u001b[0m \n",
      "Val Epoch:27: 80it [00:16,  2.65it/s]5)\u001b[0m \n",
      "Val Epoch:27: 81it [00:17,  3.06it/s]5)\u001b[0m \n",
      "Val Epoch:27: 83it [00:17,  4.07it/s]5)\u001b[0m \n",
      "Val Epoch:27: 84it [00:17,  3.30it/s]5)\u001b[0m \n",
      "Val Epoch:27: 85it [00:17,  3.75it/s]5)\u001b[0m \n",
      "Val Epoch:27: 86it [00:20,  1.34it/s]5)\u001b[0m \n",
      "Val Epoch:27: 87it [00:20,  1.71it/s]5)\u001b[0m \n",
      "Val Epoch:27: 88it [00:20,  2.06it/s]5)\u001b[0m \n",
      "Val Epoch:27: 89it [00:20,  2.56it/s]5)\u001b[0m \n",
      "Val Epoch:27: 90it [00:20,  2.99it/s]5)\u001b[0m \n",
      "Val Epoch:27: 91it [00:20,  3.57it/s]5)\u001b[0m \n",
      "Val Epoch:28: 13it [00:08,  2.43it/s]\u001b[32m [repeated 21x across cluster]\u001b[0m\n",
      "Val Epoch:28: 25it [00:13,  1.45it/s]\u001b[32m [repeated 14x across cluster]\u001b[0m\n",
      "Val Epoch:28: 41it [00:20,  1.67it/s]\u001b[32m [repeated 11x across cluster]\u001b[0m\n"
     ]
    },
    {
     "name": "stdout",
     "output_type": "stream",
     "text": [
      "\u001b[36m(tune_with_parameters pid=3287705)\u001b[0m loss: 0.683\n"
     ]
    },
    {
     "name": "stderr",
     "output_type": "stream",
     "text": [
      "Val Epoch:28: 58it [00:26,  2.18it/s]6)\u001b[0m \n",
      "Val Epoch:28: 56it [00:24,  5.46it/s]\u001b[32m [repeated 11x across cluster]\u001b[0m\n",
      "Val Epoch:28: 81it [00:32,  3.94it/s]\u001b[32m [repeated 16x across cluster]\u001b[0m\n"
     ]
    },
    {
     "name": "stdout",
     "output_type": "stream",
     "text": [
      "\u001b[36m(tune_with_parameters pid=3287706)\u001b[0m loss: 0.664\n",
      "\u001b[36m(tune_with_parameters pid=3287704)\u001b[0m loss: 0.657\n",
      "\u001b[36m(tune_with_parameters pid=3287705)\u001b[0m loss: 0.661\n",
      "\u001b[36m(tune_with_parameters pid=3287706)\u001b[0m loss: 0.657\n"
     ]
    },
    {
     "name": "stderr",
     "output_type": "stream",
     "text": [
      "\u001b[36m(tune_with_parameters pid=3602604)\u001b[0m /users/k23058970/miniforge3/envs/Training/lib/python3.10/site-packages/torch/utils/data/dataloader.py:558: UserWarning: This DataLoader will create 8 worker processes in total. Our suggested max number of worker in current system is 2, which is smaller than what this DataLoader is going to create. Please be aware that excessive worker creation might get DataLoader running slow or even freeze, lower the worker number to avoid potential slowness/freeze if necessary.\n",
      "\u001b[36m(tune_with_parameters pid=3602604)\u001b[0m   warnings.warn(_create_warning_msg(\n",
      "Val Epoch:28: 110it [00:36,  3.01it/s]\u001b[32m [repeated 15x across cluster]\u001b[0m\n"
     ]
    },
    {
     "name": "stdout",
     "output_type": "stream",
     "text": [
      "\u001b[36m(tune_with_parameters pid=3287705)\u001b[0m loss: 0.661\n",
      "\u001b[36m(tune_with_parameters pid=3287706)\u001b[0m loss: 0.657\u001b[32m [repeated 2x across cluster]\u001b[0m\n"
     ]
    },
    {
     "name": "stderr",
     "output_type": "stream",
     "text": [
      "\u001b[36m(tune_with_parameters pid=3602604)\u001b[0m /users/k23058970/miniforge3/envs/Training/lib/python3.10/site-packages/torch/nn/modules/lazy.py:181: UserWarning: Lazy modules are a new feature under heavy development so changes to the API or functionality can happen at any moment.\n",
      "\u001b[36m(tune_with_parameters pid=3602604)\u001b[0m   warnings.warn('Lazy modules are a new feature under heavy development '\n"
     ]
    },
    {
     "name": "stdout",
     "output_type": "stream",
     "text": [
      "\u001b[36m(tune_with_parameters pid=3287705)\u001b[0m loss: 0.660\n"
     ]
    },
    {
     "name": "stderr",
     "output_type": "stream",
     "text": [
      "\u001b[36m(tune_with_parameters pid=3602604)\u001b[0m /users/k23058970/miniforge3/envs/Training/lib/python3.10/site-packages/torch/utils/data/dataloader.py:558: UserWarning: This DataLoader will create 8 worker processes in total. Our suggested max number of worker in current system is 2, which is smaller than what this DataLoader is going to create. Please be aware that excessive worker creation might get DataLoader running slow or even freeze, lower the worker number to avoid potential slowness/freeze if necessary.\n",
      "\u001b[36m(tune_with_parameters pid=3602604)\u001b[0m   warnings.warn(_create_warning_msg(\n"
     ]
    },
    {
     "name": "stdout",
     "output_type": "stream",
     "text": [
      "\u001b[36m(tune_with_parameters pid=3287704)\u001b[0m loss: 0.657\n",
      "\u001b[36m(tune_with_parameters pid=3602604)\u001b[0m loss: 0.704\n",
      "\u001b[36m(tune_with_parameters pid=3287706)\u001b[0m loss: 0.657\n",
      "\u001b[36m(tune_with_parameters pid=3287705)\u001b[0m loss: 0.660\n",
      "\u001b[36m(tune_with_parameters pid=3602604)\u001b[0m loss: 0.661\n",
      "\u001b[36m(tune_with_parameters pid=3287706)\u001b[0m loss: 0.657\n"
     ]
    },
    {
     "name": "stderr",
     "output_type": "stream",
     "text": [
      "Val Epoch:28: 0it [00:00, ?it/s]287705)\u001b[0m \n",
      "Val Epoch:28: 1it [00:06,  6.63s/it]05)\u001b[0m \n",
      "Val Epoch:28: 3it [00:06,  1.79s/it]05)\u001b[0m \n",
      "Val Epoch:28: 4it [00:07,  1.33s/it]05)\u001b[0m \n",
      "Val Epoch:28: 5it [00:07,  1.02it/s]05)\u001b[0m \n",
      "Val Epoch:28: 6it [00:07,  1.29it/s]05)\u001b[0m \n",
      "Val Epoch:28: 7it [00:08,  1.68it/s]05)\u001b[0m \n",
      "Val Epoch:28: 8it [00:08,  2.10it/s]05)\u001b[0m \n",
      "Val Epoch:28: 9it [00:09,  1.42it/s]05)\u001b[0m \n",
      "Val Epoch:28: 10it [00:09,  1.83it/s]5)\u001b[0m \n",
      "Val Epoch:28: 11it [00:10,  1.34it/s]5)\u001b[0m \n",
      "Val Epoch:28: 12it [00:11,  1.63it/s]5)\u001b[0m \n",
      "Val Epoch:28: 13it [00:11,  2.02it/s]5)\u001b[0m \n",
      "Val Epoch:28: 14it [00:12,  1.86it/s]5)\u001b[0m \n",
      "Val Epoch:28: 15it [00:12,  2.36it/s]5)\u001b[0m \n",
      "Val Epoch:28: 16it [00:12,  2.86it/s]5)\u001b[0m \n",
      "Val Epoch:28: 17it [00:14,  1.39it/s]5)\u001b[0m \n",
      "Val Epoch:28: 18it [00:14,  1.82it/s]5)\u001b[0m \n",
      "Val Epoch:28: 19it [00:14,  1.80it/s]5)\u001b[0m \n",
      "Val Epoch:28: 20it [00:15,  1.54it/s]5)\u001b[0m \n",
      "Val Epoch:28: 21it [00:15,  1.99it/s]5)\u001b[0m \n",
      "Val Epoch:28: 23it [00:15,  3.17it/s]5)\u001b[0m \n",
      "Val Epoch:28: 24it [00:16,  3.52it/s]5)\u001b[0m \n",
      "Val Epoch:28: 25it [00:17,  1.45it/s]5)\u001b[0m \n",
      "Val Epoch:28: 26it [00:18,  1.72it/s]5)\u001b[0m \n"
     ]
    },
    {
     "name": "stdout",
     "output_type": "stream",
     "text": [
      "\u001b[36m(tune_with_parameters pid=3287704)\u001b[0m loss: 0.657\n"
     ]
    },
    {
     "name": "stderr",
     "output_type": "stream",
     "text": [
      "Val Epoch:28: 27it [00:19,  1.36it/s]5)\u001b[0m \n",
      "Val Epoch:28: 29it [00:19,  2.11it/s]5)\u001b[0m \n",
      "Val Epoch:28: 31it [00:19,  3.02it/s]5)\u001b[0m \n",
      "Val Epoch:28: 33it [00:22,  1.66it/s]5)\u001b[0m \n",
      "Val Epoch:28: 34it [00:22,  1.94it/s]5)\u001b[0m \n",
      "Val Epoch:28: 35it [00:22,  2.01it/s]5)\u001b[0m \n",
      "Val Epoch:28: 36it [00:23,  1.81it/s]5)\u001b[0m \n",
      "Val Epoch:28: 37it [00:23,  2.26it/s]5)\u001b[0m \n",
      "Val Epoch:28: 38it [00:23,  2.69it/s]5)\u001b[0m \n",
      "Val Epoch:28: 39it [00:23,  3.10it/s]5)\u001b[0m \n",
      "Val Epoch:28: 40it [00:24,  3.68it/s]5)\u001b[0m \n",
      "Val Epoch:28: 41it [00:26,  1.25it/s]5)\u001b[0m \n",
      "Val Epoch:28: 43it [00:26,  1.71it/s]5)\u001b[0m \n",
      "Val Epoch:28: 44it [00:27,  1.68it/s]5)\u001b[0m \n",
      "Val Epoch:28: 45it [00:27,  2.04it/s]5)\u001b[0m \n",
      "Val Epoch:28: 47it [00:28,  2.57it/s]5)\u001b[0m \n",
      "Val Epoch:28: 48it [00:28,  2.86it/s]5)\u001b[0m \n",
      "Val Epoch:28: 49it [00:30,  1.44it/s]5)\u001b[0m \n",
      "Val Epoch:28: 50it [00:30,  1.80it/s]5)\u001b[0m \n",
      "Val Epoch:28: 51it [00:30,  2.20it/s]5)\u001b[0m \n",
      "Val Epoch:28: 52it [00:31,  2.02it/s]5)\u001b[0m \n",
      "Val Epoch:28: 53it [00:31,  2.50it/s]5)\u001b[0m \n",
      "Val Epoch:28: 54it [00:31,  3.00it/s]5)\u001b[0m \n",
      "Val Epoch:28: 55it [00:31,  2.79it/s]5)\u001b[0m \n",
      "Val Epoch:28: 56it [00:31,  3.20it/s]5)\u001b[0m \n",
      "Val Epoch:28: 57it [00:34,  1.06s/it]5)\u001b[0m \n",
      "Val Epoch:28: 58it [00:35,  1.24it/s]5)\u001b[0m \n",
      "Val Epoch:28: 59it [00:35,  1.28it/s]5)\u001b[0m \n",
      "Val Epoch:28: 60it [00:36,  1.55it/s]5)\u001b[0m \n",
      "Val Epoch:28: 62it [00:36,  2.27it/s]5)\u001b[0m \n",
      "Val Epoch:28: 63it [00:36,  2.39it/s]5)\u001b[0m \n",
      "Val Epoch:28: 64it [00:36,  2.91it/s]5)\u001b[0m \n",
      "Val Epoch:28: 65it [00:37,  1.99it/s]5)\u001b[0m \n",
      "Val Epoch:28: 66it [00:38,  2.07it/s]5)\u001b[0m \n",
      "Val Epoch:28: 67it [00:39,  1.43it/s]5)\u001b[0m \n",
      "Val Epoch:28: 68it [00:39,  1.80it/s]5)\u001b[0m \n",
      "Val Epoch:28: 70it [00:40,  2.35it/s]5)\u001b[0m \n",
      "Val Epoch:28: 71it [00:40,  2.75it/s]5)\u001b[0m \n",
      "Val Epoch:28: 73it [00:42,  1.73it/s]5)\u001b[0m \n",
      "Val Epoch:28: 74it [00:42,  1.91it/s]5)\u001b[0m \n",
      "Val Epoch:28: 75it [00:43,  1.37it/s]5)\u001b[0m \n",
      "Val Epoch:28: 76it [00:44,  1.65it/s]5)\u001b[0m \n",
      "Val Epoch:28: 77it [00:44,  2.10it/s]5)\u001b[0m \n",
      "Val Epoch:28: 79it [00:44,  3.10it/s]5)\u001b[0m \n",
      "Val Epoch:28: 80it [00:44,  3.58it/s]5)\u001b[0m \n",
      "Val Epoch:28: 81it [00:45,  1.89it/s]5)\u001b[0m \n",
      "Val Epoch:28: 82it [00:46,  2.19it/s]5)\u001b[0m \n",
      "Val Epoch:28: 83it [00:47,  1.44it/s]5)\u001b[0m \n",
      "Val Epoch:28: 84it [00:47,  1.89it/s]5)\u001b[0m \n",
      "Val Epoch:28: 85it [00:47,  2.33it/s]5)\u001b[0m \n",
      "Val Epoch:28: 86it [00:48,  1.96it/s]5)\u001b[0m \n",
      "Val Epoch:28: 87it [00:48,  2.52it/s]5)\u001b[0m \n",
      "Val Epoch:28: 89it [00:50,  1.89it/s]5)\u001b[0m \n",
      "Val Epoch:28: 90it [00:50,  1.61it/s]5)\u001b[0m \n",
      "Val Epoch:28: 91it [00:51,  1.52it/s]5)\u001b[0m \n",
      "Val Epoch:28: 92it [00:52,  1.64it/s]5)\u001b[0m \n",
      "Val Epoch:29: 0it [00:00, ?it/s]287706)\u001b[0m \n",
      "Val Epoch:28: 94it [00:52,  2.15it/s]5)\u001b[0m \n",
      "Val Epoch:28: 95it [00:53,  2.02it/s]5)\u001b[0m \n",
      "Val Epoch:28: 96it [00:53,  2.43it/s]5)\u001b[0m \n",
      "Val Epoch:28: 97it [00:54,  1.97it/s]5)\u001b[0m \n",
      "Val Epoch:28: 98it [00:55,  1.69it/s]5)\u001b[0m \n",
      "Val Epoch:28: 99it [00:56,  1.16it/s]5)\u001b[0m \n",
      "Val Epoch:28: 100it [00:56,  1.46it/s])\u001b[0m \n",
      "Val Epoch:28: 102it [00:57,  2.33it/s])\u001b[0m \n",
      "Val Epoch:28: 103it [00:57,  2.30it/s])\u001b[0m \n",
      "Val Epoch:28: 105it [00:58,  2.88it/s])\u001b[0m \n",
      "Val Epoch:29: 1it [00:05,  5.44s/it]06)\u001b[0m \n",
      "Val Epoch:29: 15it [00:11,  2.49it/s]\u001b[32m [repeated 14x across cluster]\u001b[0m\n",
      "Val Epoch:29: 22it [00:16,  1.94it/s]\u001b[32m [repeated 5x across cluster]\u001b[0m\n",
      "Val Epoch:29: 33it [00:23,  1.43it/s]\u001b[32m [repeated 9x across cluster]\u001b[0m\n"
     ]
    },
    {
     "name": "stdout",
     "output_type": "stream",
     "text": [
      "\u001b[36m(tune_with_parameters pid=3287705)\u001b[0m loss: 0.657\n"
     ]
    },
    {
     "name": "stderr",
     "output_type": "stream",
     "text": [
      "Val Epoch:29: 45it [00:28,  1.84it/s]\u001b[32m [repeated 11x across cluster]\u001b[0m\n",
      "Val Epoch:29: 55it [00:33,  2.17it/s]\u001b[32m [repeated 7x across cluster]\u001b[0m\n",
      "Val Epoch:23: 0it [00:00, ?it/s]287704)\u001b[0m \n",
      "Val Epoch:29: 63it [00:38,  2.07it/s]\u001b[32m [repeated 6x across cluster]\u001b[0m\n",
      "Val Epoch:23: 6it [00:07,  1.64it/s]\u001b[32m [repeated 15x across cluster]\u001b[0m\n",
      "Val Epoch:23: 12it [00:12,  1.28it/s]\u001b[32m [repeated 13x across cluster]\u001b[0m\n"
     ]
    },
    {
     "name": "stdout",
     "output_type": "stream",
     "text": [
      "\u001b[36m(tune_with_parameters pid=3602604)\u001b[0m loss: 0.659\n"
     ]
    },
    {
     "name": "stderr",
     "output_type": "stream",
     "text": [
      "Val Epoch:23: 18it [00:17,  1.00s/it]\u001b[32m [repeated 14x across cluster]\u001b[0m\n",
      "Val Epoch:29: 98it [00:57,  1.90it/s]6)\u001b[0m \n",
      "Val Epoch:29: 102it [00:59,  2.42it/s]\u001b[32m [repeated 16x across cluster]\u001b[0m\n",
      "Val Epoch:29: 106it [01:00,  2.48it/s])\u001b[0m \n",
      "Val Epoch:23: 37it [00:27,  1.90it/s]\u001b[32m [repeated 14x across cluster]\u001b[0m\n",
      "Val Epoch:23: 43it [00:34,  1.10s/it]\u001b[32m [repeated 4x across cluster]\u001b[0m\n",
      "Val Epoch:23: 54it [00:41,  1.25it/s]\u001b[32m [repeated 10x across cluster]\u001b[0m\n"
     ]
    },
    {
     "name": "stdout",
     "output_type": "stream",
     "text": [
      "\u001b[36m(tune_with_parameters pid=3287706)\u001b[0m loss: 0.661\n"
     ]
    },
    {
     "name": "stderr",
     "output_type": "stream",
     "text": [
      "Val Epoch:23: 62it [00:47,  1.03it/s]\u001b[32m [repeated 7x across cluster]\u001b[0m\n",
      "Val Epoch:23: 70it [00:52,  1.02it/s]\u001b[32m [repeated 8x across cluster]\u001b[0m\n",
      "Val Epoch:23: 78it [00:58,  1.06it/s]\u001b[32m [repeated 7x across cluster]\u001b[0m\n",
      "Val Epoch:23: 87it [01:04,  1.27it/s]4)\u001b[0m \n",
      "Val Epoch:23: 85it [01:01,  2.16it/s]\u001b[32m [repeated 4x across cluster]\u001b[0m\n",
      "Val Epoch:23: 94it [01:10,  1.15it/s]\u001b[32m [repeated 6x across cluster]\u001b[0m\n",
      "Val Epoch:23: 102it [01:15,  1.00s/it]\u001b[32m [repeated 6x across cluster]\u001b[0m\n"
     ]
    },
    {
     "name": "stdout",
     "output_type": "stream",
     "text": [
      "\u001b[36m(tune_with_parameters pid=3287704)\u001b[0m loss: 0.667\n",
      "\u001b[36m(tune_with_parameters pid=3602604)\u001b[0m loss: 0.659\u001b[32m [repeated 2x across cluster]\u001b[0m\n",
      "\u001b[36m(tune_with_parameters pid=3287706)\u001b[0m loss: 0.657\n",
      "\u001b[36m(tune_with_parameters pid=3287705)\u001b[0m loss: 0.661\n",
      "\u001b[36m(tune_with_parameters pid=3602604)\u001b[0m loss: 0.658\n",
      "\u001b[36m(tune_with_parameters pid=3287704)\u001b[0m loss: 0.655\n",
      "\u001b[36m(tune_with_parameters pid=3287706)\u001b[0m loss: 0.657\n"
     ]
    },
    {
     "name": "stderr",
     "output_type": "stream",
     "text": [
      "Val Epoch:0: 0it [00:00, ?it/s]3602604)\u001b[0m \n",
      "Val Epoch:23: 110it [01:19,  1.38it/s]\u001b[32m [repeated 6x across cluster]\u001b[0m\n",
      "Val Epoch:0: 1it [00:05,  5.73s/it]604)\u001b[0m \n",
      "Val Epoch:0: 2it [00:05,  2.43s/it]604)\u001b[0m \n",
      "Val Epoch:0: 3it [00:06,  1.52s/it]604)\u001b[0m \n",
      "Val Epoch:0: 4it [00:06,  1.03s/it]604)\u001b[0m \n",
      "Val Epoch:0: 5it [00:06,  1.28it/s]604)\u001b[0m \n",
      "Val Epoch:0: 6it [00:07,  1.55it/s]604)\u001b[0m \n",
      "Val Epoch:0: 7it [00:07,  1.67it/s]604)\u001b[0m \n",
      "Val Epoch:0: 8it [00:08,  1.79it/s]604)\u001b[0m \n",
      "Val Epoch:0: 9it [00:08,  1.91it/s]604)\u001b[0m \n",
      "Val Epoch:0: 10it [00:09,  1.64it/s]04)\u001b[0m \n",
      "Val Epoch:0: 11it [00:09,  1.91it/s]04)\u001b[0m \n",
      "Val Epoch:0: 12it [00:10,  2.37it/s]04)\u001b[0m \n",
      "Val Epoch:0: 13it [00:10,  2.11it/s]04)\u001b[0m \n",
      "Val Epoch:0: 14it [00:10,  2.64it/s]04)\u001b[0m \n",
      "Val Epoch:0: 15it [00:10,  3.03it/s]04)\u001b[0m \n",
      "Val Epoch:0: 16it [00:11,  3.60it/s]04)\u001b[0m \n",
      "Val Epoch:0: 17it [00:12,  2.20it/s]04)\u001b[0m \n",
      "Val Epoch:0: 18it [00:12,  1.87it/s]04)\u001b[0m \n",
      "Val Epoch:0: 19it [00:13,  1.92it/s]04)\u001b[0m \n",
      "Val Epoch:0: 20it [00:13,  2.33it/s]04)\u001b[0m \n",
      "Val Epoch:0: 21it [00:13,  2.43it/s]04)\u001b[0m \n",
      "Val Epoch:0: 22it [00:14,  2.81it/s]04)\u001b[0m \n",
      "Val Epoch:0: 23it [00:14,  2.23it/s]04)\u001b[0m \n",
      "Val Epoch:0: 24it [00:14,  2.74it/s]04)\u001b[0m \n",
      "Val Epoch:0: 25it [00:16,  1.52it/s]04)\u001b[0m \n",
      "Val Epoch:0: 26it [00:16,  1.51it/s]04)\u001b[0m \n",
      "Val Epoch:0: 27it [00:17,  1.57it/s]04)\u001b[0m \n",
      "Val Epoch:0: 28it [00:17,  2.02it/s]04)\u001b[0m \n",
      "Val Epoch:0: 29it [00:18,  2.16it/s]04)\u001b[0m \n",
      "Val Epoch:0: 30it [00:18,  2.69it/s]04)\u001b[0m \n",
      "Val Epoch:0: 31it [00:18,  2.20it/s]04)\u001b[0m \n",
      "Val Epoch:0: 32it [00:19,  2.47it/s]04)\u001b[0m \n",
      "Val Epoch:0: 33it [00:20,  1.72it/s]04)\u001b[0m \n",
      "Val Epoch:0: 34it [00:21,  1.15it/s]04)\u001b[0m \n",
      "Val Epoch:0: 35it [00:21,  1.50it/s]04)\u001b[0m \n",
      "Val Epoch:0: 36it [00:22,  1.91it/s]04)\u001b[0m \n",
      "Val Epoch:0: 37it [00:22,  1.67it/s]04)\u001b[0m \n",
      "Val Epoch:0: 38it [00:22,  2.14it/s]04)\u001b[0m \n",
      "Val Epoch:0: 39it [00:23,  2.65it/s]04)\u001b[0m \n",
      "Val Epoch:0: 40it [00:23,  2.77it/s]04)\u001b[0m \n",
      "Val Epoch:0: 41it [00:24,  1.44it/s]04)\u001b[0m \n",
      "Val Epoch:0: 42it [00:25,  1.31it/s]04)\u001b[0m \n",
      "Val Epoch:0: 44it [00:26,  2.24it/s]04)\u001b[0m \n",
      "Val Epoch:0: 46it [00:26,  2.90it/s]04)\u001b[0m \n",
      "Val Epoch:0: 47it [00:26,  3.09it/s]04)\u001b[0m \n",
      "Val Epoch:0: 48it [00:26,  3.11it/s]04)\u001b[0m \n",
      "Val Epoch:0: 49it [00:27,  3.67it/s]04)\u001b[0m \n",
      "Val Epoch:0: 50it [00:27,  2.69it/s]04)\u001b[0m \n",
      "Val Epoch:0: 51it [00:27,  3.31it/s]04)\u001b[0m \n",
      "Val Epoch:0: 54it [00:28,  5.64it/s]04)\u001b[0m \n",
      "Val Epoch:0: 57it [00:28,  4.90it/s]04)\u001b[0m \n",
      "Val Epoch:0: 58it [00:29,  3.41it/s]04)\u001b[0m \n"
     ]
    },
    {
     "name": "stdout",
     "output_type": "stream",
     "text": [
      "\u001b[36m(tune_with_parameters pid=3287705)\u001b[0m loss: 0.660\n"
     ]
    },
    {
     "name": "stderr",
     "output_type": "stream",
     "text": [
      "Val Epoch:0: 59it [00:29,  3.81it/s]04)\u001b[0m \n",
      "Val Epoch:0: 61it [00:29,  4.70it/s]04)\u001b[0m \n",
      "Val Epoch:0: 62it [00:29,  5.26it/s]04)\u001b[0m \n",
      "Val Epoch:0: 64it [00:30,  4.98it/s]04)\u001b[0m \n",
      "Val Epoch:0: 65it [00:30,  3.65it/s]04)\u001b[0m \n",
      "Val Epoch:0: 66it [00:31,  4.09it/s]04)\u001b[0m \n",
      "Val Epoch:0: 67it [00:31,  4.66it/s]04)\u001b[0m \n",
      "Val Epoch:0: 69it [00:31,  5.96it/s]04)\u001b[0m \n",
      "Val Epoch:0: 70it [00:31,  5.30it/s]04)\u001b[0m \n",
      "Val Epoch:0: 72it [00:32,  5.25it/s]04)\u001b[0m \n",
      "Val Epoch:0: 73it [00:32,  4.50it/s]04)\u001b[0m \n",
      "Val Epoch:0: 74it [00:32,  4.22it/s]04)\u001b[0m \n",
      "Val Epoch:0: 76it [00:33,  4.80it/s]04)\u001b[0m \n",
      "Val Epoch:0: 77it [00:33,  4.14it/s]04)\u001b[0m \n",
      "Val Epoch:0: 78it [00:33,  4.51it/s]04)\u001b[0m \n",
      "Val Epoch:0: 79it [00:33,  5.05it/s]04)\u001b[0m \n",
      "Val Epoch:0: 81it [00:34,  4.94it/s]04)\u001b[0m \n",
      "Val Epoch:0: 82it [00:34,  5.07it/s]04)\u001b[0m \n",
      "Val Epoch:0: 84it [00:34,  6.37it/s]04)\u001b[0m \n",
      "Val Epoch:0: 85it [00:35,  3.38it/s]04)\u001b[0m \n",
      "Val Epoch:0: 87it [00:35,  4.79it/s]04)\u001b[0m \n",
      "Val Epoch:0: 88it [00:35,  3.50it/s]04)\u001b[0m \n",
      "Val Epoch:0: 89it [00:36,  3.66it/s]04)\u001b[0m \n",
      "Val Epoch:0: 90it [00:36,  4.27it/s]04)\u001b[0m \n",
      "Val Epoch:0: 91it [00:36,  4.88it/s]04)\u001b[0m \n",
      "Val Epoch:0: 92it [00:36,  5.65it/s]04)\u001b[0m \n",
      "Val Epoch:0: 93it [00:36,  6.09it/s]04)\u001b[0m \n",
      "Val Epoch:0: 94it [00:36,  5.72it/s]04)\u001b[0m \n",
      "Val Epoch:0: 96it [00:37,  4.96it/s]04)\u001b[0m \n",
      "Val Epoch:0: 98it [00:37,  4.22it/s]04)\u001b[0m \n",
      "Val Epoch:0: 99it [00:38,  4.82it/s]04)\u001b[0m \n",
      "Val Epoch:0: 101it [00:38,  5.77it/s]4)\u001b[0m \n",
      "Val Epoch:0: 102it [00:38,  5.12it/s]4)\u001b[0m \n",
      "Val Epoch:0: 104it [00:39,  4.43it/s]4)\u001b[0m \n",
      "Val Epoch:0: 106it [00:39,  5.29it/s]4)\u001b[0m \n",
      "Val Epoch:0: 108it [00:39,  6.74it/s]4)\u001b[0m \n",
      "Val Epoch:0: 109it [00:39,  7.18it/s]4)\u001b[0m \n",
      "Val Epoch:0: 110it [00:40,  2.72it/s]4)\u001b[0m \n",
      "\u001b[36m(tune_with_parameters pid=3602604)\u001b[0m /scratch/users/k23058970/Model training/training_two_class_exvivo_lstm.py:63: RuntimeWarning: invalid value encountered in divide\n",
      "\u001b[36m(tune_with_parameters pid=3602604)\u001b[0m   self.precision = self.tp/(self.tp + self.fp)\n"
     ]
    },
    {
     "name": "stdout",
     "output_type": "stream",
     "text": [
      "\u001b[36m(tune_with_parameters pid=3602604)\u001b[0m /tmp/tmpng_46kq8/checkpoint.pt\n"
     ]
    },
    {
     "name": "stderr",
     "output_type": "stream",
     "text": [
      "\u001b[36m(tune_with_parameters pid=3602604)\u001b[0m Checkpoint successfully created at: Checkpoint(filesystem=local, path=/scratch/users/k23058970/Model training/results/NSQ vs All LSTM/tune_with_parameters_2024-07-30_18-14-50/tune_with_parameters_5bcb0_00004_4_dp=0.2500,hidden_size=300,lr=0.0030,num_layers=5_2024-07-30_18-15-47/checkpoint_000000)\n"
     ]
    },
    {
     "name": "stdout",
     "output_type": "stream",
     "text": [
      "\u001b[36m(tune_with_parameters pid=3287706)\u001b[0m loss: 0.657\n",
      "\u001b[36m(tune_with_parameters pid=3287705)\u001b[0m loss: 0.660\u001b[32m [repeated 3x across cluster]\u001b[0m\n",
      "\u001b[36m(tune_with_parameters pid=3602604)\u001b[0m loss: 0.657\n",
      "\u001b[36m(tune_with_parameters pid=3287706)\u001b[0m loss: 0.657\n"
     ]
    },
    {
     "name": "stderr",
     "output_type": "stream",
     "text": [
      "Val Epoch:29: 0it [00:00, ?it/s]287705)\u001b[0m \n",
      "Val Epoch:29: 1it [00:06,  6.16s/it]05)\u001b[0m \n",
      "Val Epoch:29: 3it [00:07,  1.94s/it]05)\u001b[0m \n",
      "Val Epoch:29: 5it [00:07,  1.15s/it]05)\u001b[0m \n",
      "Val Epoch:29: 6it [00:08,  1.14it/s]05)\u001b[0m \n",
      "Val Epoch:29: 7it [00:08,  1.49it/s]05)\u001b[0m \n",
      "Val Epoch:29: 9it [00:09,  1.47it/s]05)\u001b[0m \n",
      "Val Epoch:29: 10it [00:09,  1.70it/s]5)\u001b[0m \n",
      "Val Epoch:29: 11it [00:10,  1.38it/s]5)\u001b[0m \n",
      "Val Epoch:29: 13it [00:11,  1.81it/s]5)\u001b[0m \n",
      "Val Epoch:29: 14it [00:11,  2.13it/s]5)\u001b[0m \n",
      "Val Epoch:29: 15it [00:12,  2.45it/s]5)\u001b[0m \n",
      "Val Epoch:29: 16it [00:12,  2.96it/s]5)\u001b[0m \n",
      "Val Epoch:29: 17it [00:13,  1.50it/s]5)\u001b[0m \n",
      "Val Epoch:29: 18it [00:13,  1.88it/s]5)\u001b[0m \n",
      "Val Epoch:29: 19it [00:14,  2.09it/s]5)\u001b[0m \n",
      "Val Epoch:29: 20it [00:14,  2.54it/s]5)\u001b[0m \n",
      "Val Epoch:29: 21it [00:15,  1.95it/s]5)\u001b[0m \n",
      "Val Epoch:29: 22it [00:15,  1.83it/s]5)\u001b[0m \n",
      "Val Epoch:29: 23it [00:15,  2.36it/s]5)\u001b[0m \n",
      "Val Epoch:29: 24it [00:16,  2.82it/s]5)\u001b[0m \n",
      "Val Epoch:29: 25it [00:18,  1.26it/s]5)\u001b[0m \n",
      "Val Epoch:29: 26it [00:18,  1.62it/s]5)\u001b[0m \n",
      "Val Epoch:29: 27it [00:18,  1.79it/s]5)\u001b[0m \n",
      "Val Epoch:29: 28it [00:19,  1.89it/s]5)\u001b[0m \n",
      "Val Epoch:29: 29it [00:19,  2.26it/s]5)\u001b[0m \n",
      "Val Epoch:29: 30it [00:20,  1.82it/s]5)\u001b[0m \n",
      "Val Epoch:29: 31it [00:20,  2.26it/s]5)\u001b[0m \n",
      "Val Epoch:29: 32it [00:20,  2.28it/s]5)\u001b[0m \n",
      "Val Epoch:29: 33it [00:23,  1.00s/it]5)\u001b[0m \n",
      "Val Epoch:29: 34it [00:23,  1.32it/s]5)\u001b[0m \n",
      "Val Epoch:29: 35it [00:23,  1.66it/s]5)\u001b[0m \n",
      "Val Epoch:29: 37it [00:24,  1.95it/s]5)\u001b[0m \n",
      "Val Epoch:29: 38it [00:24,  2.34it/s]5)\u001b[0m \n",
      "Val Epoch:29: 39it [00:24,  2.73it/s]5)\u001b[0m \n",
      "Val Epoch:29: 41it [00:26,  1.51it/s]5)\u001b[0m \n",
      "Val Epoch:29: 42it [00:26,  1.80it/s]5)\u001b[0m \n",
      "Val Epoch:29: 43it [00:27,  1.89it/s]5)\u001b[0m \n",
      "Val Epoch:29: 45it [00:27,  2.46it/s]5)\u001b[0m \n",
      "Val Epoch:29: 49it [00:29,  2.51it/s]5)\u001b[0m \n",
      "Val Epoch:29: 52it [00:29,  3.74it/s]5)\u001b[0m \n",
      "Val Epoch:29: 53it [00:29,  4.09it/s]5)\u001b[0m \n",
      "Val Epoch:29: 56it [00:29,  5.45it/s]5)\u001b[0m \n",
      "Val Epoch:29: 57it [00:30,  3.99it/s]5)\u001b[0m \n",
      "Val Epoch:29: 59it [00:31,  4.01it/s]5)\u001b[0m \n",
      "Val Epoch:29: 61it [00:31,  4.66it/s]5)\u001b[0m \n",
      "Val Epoch:29: 62it [00:31,  5.08it/s]5)\u001b[0m \n",
      "Val Epoch:29: 64it [00:31,  6.36it/s]5)\u001b[0m \n"
     ]
    },
    {
     "name": "stdout",
     "output_type": "stream",
     "text": [
      "\u001b[36m(tune_with_parameters pid=3287704)\u001b[0m loss: 0.657\n"
     ]
    },
    {
     "name": "stderr",
     "output_type": "stream",
     "text": [
      "Val Epoch:29: 65it [00:31,  5.87it/s]5)\u001b[0m \n",
      "Val Epoch:29: 66it [00:32,  4.99it/s]5)\u001b[0m \n",
      "Val Epoch:29: 67it [00:32,  3.32it/s]5)\u001b[0m \n",
      "Val Epoch:29: 69it [00:32,  5.00it/s]5)\u001b[0m \n",
      "Val Epoch:29: 70it [00:33,  5.27it/s]5)\u001b[0m \n",
      "Val Epoch:29: 71it [00:33,  5.89it/s]5)\u001b[0m \n",
      "Val Epoch:29: 73it [00:33,  6.54it/s]5)\u001b[0m \n",
      "Val Epoch:29: 74it [00:33,  6.99it/s]5)\u001b[0m \n",
      "Val Epoch:29: 75it [00:34,  3.75it/s]5)\u001b[0m \n",
      "Val Epoch:29: 77it [00:34,  4.39it/s]5)\u001b[0m \n",
      "Val Epoch:29: 78it [00:34,  4.55it/s]5)\u001b[0m \n",
      "Val Epoch:29: 81it [00:34,  7.00it/s]5)\u001b[0m \n",
      "Val Epoch:29: 82it [00:35,  6.58it/s]5)\u001b[0m \n",
      "Val Epoch:29: 83it [00:36,  2.75it/s]5)\u001b[0m \n",
      "Val Epoch:29: 84it [00:36,  3.00it/s]5)\u001b[0m \n",
      "Val Epoch:29: 86it [00:36,  4.32it/s]5)\u001b[0m \n",
      "Val Epoch:29: 87it [00:36,  4.84it/s]5)\u001b[0m \n",
      "Val Epoch:29: 89it [00:37,  5.69it/s]5)\u001b[0m \n",
      "Val Epoch:29: 90it [00:37,  4.16it/s]5)\u001b[0m \n",
      "Val Epoch:29: 91it [00:38,  2.82it/s]5)\u001b[0m \n",
      "Val Epoch:29: 92it [00:38,  2.78it/s]5)\u001b[0m \n",
      "Val Epoch:29: 93it [00:38,  2.89it/s]5)\u001b[0m \n",
      "Val Epoch:30: 0it [00:00, ?it/s]287706)\u001b[0m \n",
      "Val Epoch:29: 94it [00:39,  2.54it/s]5)\u001b[0m \n",
      "Val Epoch:29: 95it [00:39,  2.91it/s]5)\u001b[0m \n",
      "Val Epoch:29: 97it [00:39,  3.82it/s]5)\u001b[0m \n",
      "Val Epoch:29: 98it [00:40,  4.39it/s]5)\u001b[0m \n",
      "Val Epoch:29: 99it [00:40,  4.03it/s]5)\u001b[0m \n",
      "Val Epoch:29: 101it [00:40,  4.51it/s])\u001b[0m \n",
      "Val Epoch:29: 103it [00:40,  5.87it/s])\u001b[0m \n",
      "Val Epoch:29: 106it [00:41,  8.40it/s])\u001b[0m \n",
      "Val Epoch:30: 20it [00:06,  4.86it/s]\u001b[32m [repeated 18x across cluster]\u001b[0m\n",
      "Val Epoch:30: 41it [00:11,  3.67it/s]\u001b[32m [repeated 13x across cluster]\u001b[0m\n"
     ]
    },
    {
     "name": "stdout",
     "output_type": "stream",
     "text": [
      "\u001b[36m(tune_with_parameters pid=3287705)\u001b[0m loss: 0.661\n"
     ]
    },
    {
     "name": "stderr",
     "output_type": "stream",
     "text": [
      "Val Epoch:30: 65it [00:16,  3.30it/s]\u001b[32m [repeated 13x across cluster]\u001b[0m\n",
      "Val Epoch:30: 81it [00:23,  1.08it/s]\u001b[32m [repeated 12x across cluster]\u001b[0m\n"
     ]
    },
    {
     "name": "stdout",
     "output_type": "stream",
     "text": [
      "\u001b[36m(tune_with_parameters pid=3602604)\u001b[0m loss: 0.656\n"
     ]
    },
    {
     "name": "stderr",
     "output_type": "stream",
     "text": [
      "Val Epoch:30: 91it [00:28,  1.43it/s]\u001b[32m [repeated 8x across cluster]\u001b[0m\n",
      "Val Epoch:30: 105it [00:35,  1.43it/s]\u001b[32m [repeated 13x across cluster]\u001b[0m\n"
     ]
    },
    {
     "name": "stdout",
     "output_type": "stream",
     "text": [
      "\u001b[36m(tune_with_parameters pid=3287706)\u001b[0m loss: 0.646\n",
      "\u001b[36m(tune_with_parameters pid=3287704)\u001b[0m loss: 0.657\n",
      "\u001b[36m(tune_with_parameters pid=3287705)\u001b[0m loss: 0.660\n",
      "\u001b[36m(tune_with_parameters pid=3602604)\u001b[0m loss: 0.657\n"
     ]
    },
    {
     "name": "stderr",
     "output_type": "stream",
     "text": [
      "Val Epoch:24: 0it [00:00, ?it/s]287704)\u001b[0m \n",
      "Val Epoch:30: 110it [00:37,  2.91it/s]\u001b[32m [repeated 4x across cluster]\u001b[0m\n"
     ]
    },
    {
     "name": "stdout",
     "output_type": "stream",
     "text": [
      "\u001b[36m(tune_with_parameters pid=3287706)\u001b[0m loss: 0.657\n"
     ]
    },
    {
     "name": "stderr",
     "output_type": "stream",
     "text": [
      "Val Epoch:24: 10it [00:05,  2.10it/s]\u001b[32m [repeated 9x across cluster]\u001b[0m\n",
      "Val Epoch:24: 31it [00:10,  4.50it/s]\u001b[32m [repeated 13x across cluster]\u001b[0m\n",
      "Val Epoch:24: 49it [00:16,  2.62it/s]\u001b[32m [repeated 12x across cluster]\u001b[0m\n",
      "Val Epoch:24: 69it [00:21,  4.10it/s]\u001b[32m [repeated 12x across cluster]\u001b[0m\n"
     ]
    },
    {
     "name": "stdout",
     "output_type": "stream",
     "text": [
      "\u001b[36m(tune_with_parameters pid=3287705)\u001b[0m loss: 0.660\n"
     ]
    },
    {
     "name": "stderr",
     "output_type": "stream",
     "text": [
      "Val Epoch:24: 81it [00:28,  1.09it/s]\u001b[32m [repeated 10x across cluster]\u001b[0m\n",
      "Val Epoch:24: 89it [00:34,  1.12s/it]\u001b[32m [repeated 7x across cluster]\u001b[0m\n"
     ]
    },
    {
     "name": "stdout",
     "output_type": "stream",
     "text": [
      "\u001b[36m(tune_with_parameters pid=3602604)\u001b[0m loss: 0.657\n"
     ]
    },
    {
     "name": "stderr",
     "output_type": "stream",
     "text": [
      "Val Epoch:24: 98it [00:40,  1.06it/s]\u001b[32m [repeated 9x across cluster]\u001b[0m\n",
      "Val Epoch:24: 106it [00:46,  1.09s/it]\u001b[32m [repeated 7x across cluster]\u001b[0m\n"
     ]
    },
    {
     "name": "stdout",
     "output_type": "stream",
     "text": [
      "\u001b[36m(tune_with_parameters pid=3287704)\u001b[0m loss: 0.645\n",
      "\u001b[36m(tune_with_parameters pid=3287706)\u001b[0m loss: 0.657\n"
     ]
    },
    {
     "name": "stderr",
     "output_type": "stream",
     "text": [
      "Val Epoch:1: 0it [00:00, ?it/s]3602604)\u001b[0m \n",
      "Val Epoch:24: 110it [00:49,  2.22it/s]\u001b[32m [repeated 5x across cluster]\u001b[0m\n",
      "Val Epoch:1: 18it [00:06,  2.88it/s]\u001b[32m [repeated 10x across cluster]\u001b[0m\n",
      "Val Epoch:1: 42it [00:12,  1.79it/s]\u001b[32m [repeated 11x across cluster]\u001b[0m\n"
     ]
    },
    {
     "name": "stdout",
     "output_type": "stream",
     "text": [
      "\u001b[36m(tune_with_parameters pid=3287705)\u001b[0m loss: 0.660\n"
     ]
    },
    {
     "name": "stderr",
     "output_type": "stream",
     "text": [
      "Val Epoch:1: 57it [00:19,  1.71it/s]\u001b[32m [repeated 13x across cluster]\u001b[0m\n",
      "Val Epoch:1: 68it [00:24,  2.02it/s]\u001b[32m [repeated 10x across cluster]\u001b[0m\n",
      "Val Epoch:1: 79it [00:29,  2.77it/s]\u001b[32m [repeated 9x across cluster]\u001b[0m\n",
      "Val Epoch:1: 89it [00:36,  1.29it/s]\u001b[32m [repeated 9x across cluster]\u001b[0m\n",
      "Val Epoch:1: 99it [00:41,  1.45it/s]\u001b[32m [repeated 8x across cluster]\u001b[0m\n"
     ]
    },
    {
     "name": "stdout",
     "output_type": "stream",
     "text": [
      "\u001b[36m(tune_with_parameters pid=3602604)\u001b[0m loss: 0.650\n",
      "\u001b[36m(tune_with_parameters pid=3287704)\u001b[0m loss: 0.657\u001b[32m [repeated 2x across cluster]\u001b[0m\n",
      "\u001b[36m(tune_with_parameters pid=3287705)\u001b[0m loss: 0.659\n",
      "\u001b[36m(tune_with_parameters pid=3602604)\u001b[0m loss: 0.656\n"
     ]
    },
    {
     "name": "stderr",
     "output_type": "stream",
     "text": [
      "Val Epoch:30: 0it [00:00, ?it/s]287705)\u001b[0m \n",
      "Val Epoch:1: 110it [00:43,  2.52it/s]\u001b[32m [repeated 6x across cluster]\u001b[0m\n",
      "Val Epoch:30: 14it [00:05,  5.16it/s]\u001b[32m [repeated 8x across cluster]\u001b[0m\n",
      "Val Epoch:30: 26it [00:07,  5.54it/s]5)\u001b[0m \n",
      "Val Epoch:30: 36it [00:10,  3.43it/s]\u001b[32m [repeated 13x across cluster]\u001b[0m\n",
      "Val Epoch:30: 53it [00:15,  2.28it/s]\u001b[32m [repeated 13x across cluster]\u001b[0m\n",
      "Val Epoch:30: 65it [00:20,  2.48it/s]\u001b[32m [repeated 10x across cluster]\u001b[0m\n",
      "Val Epoch:30: 76it [00:27,  1.34it/s]\u001b[32m [repeated 9x across cluster]\u001b[0m\n",
      "Val Epoch:30: 87it [00:32,  2.24it/s]\u001b[32m [repeated 10x across cluster]\u001b[0m\n",
      "Val Epoch:31: 0it [00:00, ?it/s]287706)\u001b[0m \n",
      "Val Epoch:30: 93it [00:37,  1.03it/s]\u001b[32m [repeated 6x across cluster]\u001b[0m\n"
     ]
    },
    {
     "name": "stdout",
     "output_type": "stream",
     "text": [
      "\u001b[36m(tune_with_parameters pid=3287704)\u001b[0m loss: 0.657\u001b[32m [repeated 2x across cluster]\u001b[0m\n"
     ]
    },
    {
     "name": "stderr",
     "output_type": "stream",
     "text": [
      "Val Epoch:30: 106it [00:42,  2.39it/s]\u001b[32m [repeated 13x across cluster]\u001b[0m\n",
      "Val Epoch:31: 25it [00:11,  2.94it/s]\u001b[32m [repeated 16x across cluster]\u001b[0m\n"
     ]
    },
    {
     "name": "stdout",
     "output_type": "stream",
     "text": [
      "\u001b[36m(tune_with_parameters pid=3287705)\u001b[0m loss: 0.652\n"
     ]
    },
    {
     "name": "stderr",
     "output_type": "stream",
     "text": [
      "Val Epoch:31: 49it [00:17,  2.73it/s]\u001b[32m [repeated 13x across cluster]\u001b[0m\n",
      "Val Epoch:31: 73it [00:23,  3.22it/s]\u001b[32m [repeated 15x across cluster]\u001b[0m\n"
     ]
    },
    {
     "name": "stdout",
     "output_type": "stream",
     "text": [
      "\u001b[36m(tune_with_parameters pid=3602604)\u001b[0m loss: 0.657\n"
     ]
    },
    {
     "name": "stderr",
     "output_type": "stream",
     "text": [
      "Val Epoch:31: 106it [00:28,  5.54it/s]\u001b[32m [repeated 20x across cluster]\u001b[0m\n"
     ]
    },
    {
     "name": "stdout",
     "output_type": "stream",
     "text": [
      "\u001b[36m(tune_with_parameters pid=3287706)\u001b[0m loss: 0.654\n",
      "\u001b[36m(tune_with_parameters pid=3287704)\u001b[0m loss: 0.657\n",
      "\u001b[36m(tune_with_parameters pid=3602604)\u001b[0m loss: 0.657\u001b[32m [repeated 2x across cluster]\u001b[0m\n",
      "\u001b[36m(tune_with_parameters pid=3287706)\u001b[0m loss: 0.656\n",
      "\u001b[36m(tune_with_parameters pid=3287705)\u001b[0m loss: 0.659\n",
      "\u001b[36m(tune_with_parameters pid=3287704)\u001b[0m loss: 0.657\u001b[32m [repeated 2x across cluster]\u001b[0m\n",
      "\u001b[36m(tune_with_parameters pid=3287706)\u001b[0m loss: 0.657\n"
     ]
    },
    {
     "name": "stderr",
     "output_type": "stream",
     "text": [
      "Val Epoch:2: 0it [00:00, ?it/s]3602604)\u001b[0m \n",
      "Val Epoch:31: 110it [00:29,  3.70it/s]\u001b[32m [repeated 3x across cluster]\u001b[0m\n",
      "Val Epoch:2: 11it [00:03,  6.13it/s]04)\u001b[0m \n",
      "Val Epoch:2: 18it [00:05,  4.87it/s]\u001b[32m [repeated 11x across cluster]\u001b[0m\n",
      "Val Epoch:2: 42it [00:10,  4.76it/s]\u001b[32m [repeated 14x across cluster]\u001b[0m\n",
      "Val Epoch:2: 66it [00:15,  2.61it/s]\u001b[32m [repeated 14x across cluster]\u001b[0m\n"
     ]
    },
    {
     "name": "stdout",
     "output_type": "stream",
     "text": [
      "\u001b[36m(tune_with_parameters pid=3287705)\u001b[0m loss: 0.659\n"
     ]
    },
    {
     "name": "stderr",
     "output_type": "stream",
     "text": [
      "Val Epoch:25: 0it [00:00, ?it/s]287704)\u001b[0m \n",
      "Val Epoch:25: 1it [00:02,  2.80s/it]\u001b[32m [repeated 12x across cluster]\u001b[0m\n",
      "Val Epoch:25: 3it [00:03,  1.14it/s]04)\u001b[0m \n",
      "Val Epoch:25: 23it [00:08,  4.35it/s]\u001b[32m [repeated 25x across cluster]\u001b[0m\n",
      "Val Epoch:25: 33it [00:15,  1.31s/it]\u001b[32m [repeated 8x across cluster]\u001b[0m\n",
      "Val Epoch:25: 41it [00:21,  1.17s/it]\u001b[32m [repeated 7x across cluster]\u001b[0m\n"
     ]
    },
    {
     "name": "stdout",
     "output_type": "stream",
     "text": [
      "\u001b[36m(tune_with_parameters pid=3602604)\u001b[0m loss: 0.672\n"
     ]
    },
    {
     "name": "stderr",
     "output_type": "stream",
     "text": [
      "Val Epoch:25: 49it [00:26,  1.17s/it]\u001b[32m [repeated 8x across cluster]\u001b[0m\n"
     ]
    },
    {
     "name": "stdout",
     "output_type": "stream",
     "text": [
      "\u001b[36m(tune_with_parameters pid=3287706)\u001b[0m loss: 0.657\n"
     ]
    },
    {
     "name": "stderr",
     "output_type": "stream",
     "text": [
      "Val Epoch:25: 57it [00:32,  1.25s/it]\u001b[32m [repeated 7x across cluster]\u001b[0m\n",
      "Val Epoch:25: 67it [00:37,  1.29it/s]\u001b[32m [repeated 9x across cluster]\u001b[0m\n",
      "Val Epoch:25: 81it [00:43,  2.16it/s]\u001b[32m [repeated 11x across cluster]\u001b[0m\n",
      "Val Epoch:25: 104it [00:48,  6.61it/s]\u001b[32m [repeated 17x across cluster]\u001b[0m\n"
     ]
    },
    {
     "name": "stdout",
     "output_type": "stream",
     "text": [
      "\u001b[36m(tune_with_parameters pid=3287704)\u001b[0m loss: 0.666\n",
      "\u001b[36m(tune_with_parameters pid=3287705)\u001b[0m loss: 0.659\n",
      "\u001b[36m(tune_with_parameters pid=3287706)\u001b[0m loss: 0.657\n",
      "\u001b[36m(tune_with_parameters pid=3602604)\u001b[0m loss: 0.657\n"
     ]
    },
    {
     "name": "stderr",
     "output_type": "stream",
     "text": [
      "Val Epoch:31: 0it [00:00, ?it/s]287705)\u001b[0m \n",
      "Val Epoch:25: 110it [00:51,  2.13it/s]\u001b[32m [repeated 4x across cluster]\u001b[0m\n",
      "Val Epoch:31: 12it [00:05,  2.40it/s]\u001b[32m [repeated 10x across cluster]\u001b[0m\n",
      "Val Epoch:31: 40it [00:10,  6.09it/s]\u001b[32m [repeated 15x across cluster]\u001b[0m\n",
      "Val Epoch:31: 60it [00:15,  2.38it/s]\u001b[32m [repeated 12x across cluster]\u001b[0m\n",
      "Val Epoch:32: 0it [00:00, ?it/s]287706)\u001b[0m \n",
      "Val Epoch:31: 85it [00:20,  3.84it/s]\u001b[32m [repeated 20x across cluster]\u001b[0m\n",
      "Val Epoch:32: 30it [00:08,  4.75it/s]6)\u001b[0m \n",
      "Val Epoch:32: 27it [00:08,  3.26it/s]\u001b[32m [repeated 27x across cluster]\u001b[0m\n",
      "Val Epoch:32: 42it [00:15,  1.30it/s]\u001b[32m [repeated 11x across cluster]\u001b[0m\n",
      "Val Epoch:32: 57it [00:21,  2.53it/s]\u001b[32m [repeated 11x across cluster]\u001b[0m\n"
     ]
    },
    {
     "name": "stdout",
     "output_type": "stream",
     "text": [
      "\u001b[36m(tune_with_parameters pid=3287705)\u001b[0m loss: 0.666\n"
     ]
    },
    {
     "name": "stderr",
     "output_type": "stream",
     "text": [
      "Val Epoch:32: 67it [00:26,  1.45it/s]\u001b[32m [repeated 8x across cluster]\u001b[0m\n"
     ]
    },
    {
     "name": "stdout",
     "output_type": "stream",
     "text": [
      "\u001b[36m(tune_with_parameters pid=3287704)\u001b[0m loss: 0.657\n"
     ]
    },
    {
     "name": "stderr",
     "output_type": "stream",
     "text": [
      "Val Epoch:32: 81it [00:32,  1.93it/s]\u001b[32m [repeated 11x across cluster]\u001b[0m\n",
      "Val Epoch:32: 91it [00:38,  1.22it/s]\u001b[32m [repeated 9x across cluster]\u001b[0m\n",
      "Val Epoch:32: 107it [00:43,  3.90it/s]\u001b[32m [repeated 11x across cluster]\u001b[0m\n"
     ]
    },
    {
     "name": "stdout",
     "output_type": "stream",
     "text": [
      "\u001b[36m(tune_with_parameters pid=3287706)\u001b[0m loss: 0.652\u001b[32m [repeated 2x across cluster]\u001b[0m\n",
      "\u001b[36m(tune_with_parameters pid=3287705)\u001b[0m loss: 0.658\n",
      "\u001b[36m(tune_with_parameters pid=3602604)\u001b[0m loss: 0.657\n",
      "\u001b[36m(tune_with_parameters pid=3287704)\u001b[0m loss: 0.657\n",
      "\u001b[36m(tune_with_parameters pid=3287706)\u001b[0m loss: 0.657\n",
      "\u001b[36m(tune_with_parameters pid=3287705)\u001b[0m loss: 0.659\n",
      "\u001b[36m(tune_with_parameters pid=3602604)\u001b[0m loss: 0.657\n",
      "\u001b[36m(tune_with_parameters pid=3287706)\u001b[0m loss: 0.657\n",
      "\u001b[36m(tune_with_parameters pid=3287704)\u001b[0m loss: 0.658\n"
     ]
    },
    {
     "name": "stderr",
     "output_type": "stream",
     "text": [
      "Val Epoch:3: 0it [00:00, ?it/s]3602604)\u001b[0m \n",
      "Val Epoch:32: 110it [00:44,  2.49it/s]\u001b[32m [repeated 2x across cluster]\u001b[0m\n",
      "Val Epoch:3: 1it [00:05,  5.35s/it]604)\u001b[0m \n",
      "Val Epoch:3: 2it [00:05,  2.30s/it]604)\u001b[0m \n",
      "Val Epoch:3: 4it [00:05,  1.10it/s]604)\u001b[0m \n",
      "Val Epoch:3: 5it [00:05,  1.48it/s]604)\u001b[0m \n",
      "Val Epoch:3: 6it [00:06,  1.91it/s]604)\u001b[0m \n",
      "Val Epoch:3: 7it [00:06,  2.49it/s]604)\u001b[0m \n",
      "Val Epoch:3: 8it [00:06,  2.43it/s]604)\u001b[0m \n",
      "Val Epoch:3: 9it [00:08,  1.01it/s]604)\u001b[0m \n",
      "Val Epoch:3: 11it [00:09,  1.73it/s]04)\u001b[0m \n",
      "Val Epoch:3: 12it [00:09,  2.05it/s]04)\u001b[0m \n",
      "Val Epoch:3: 13it [00:09,  2.44it/s]04)\u001b[0m \n",
      "Val Epoch:3: 14it [00:09,  2.84it/s]04)\u001b[0m \n",
      "Val Epoch:3: 15it [00:09,  3.25it/s]04)\u001b[0m \n",
      "Val Epoch:3: 16it [00:10,  2.78it/s]04)\u001b[0m \n",
      "Val Epoch:3: 17it [00:11,  1.64it/s]04)\u001b[0m \n",
      "Val Epoch:3: 18it [00:11,  2.10it/s]04)\u001b[0m \n",
      "Val Epoch:3: 19it [00:11,  2.65it/s]04)\u001b[0m \n",
      "Val Epoch:3: 20it [00:12,  3.31it/s]04)\u001b[0m \n",
      "Val Epoch:3: 21it [00:12,  3.91it/s]04)\u001b[0m \n",
      "Val Epoch:3: 22it [00:12,  3.58it/s]04)\u001b[0m \n",
      "Val Epoch:3: 23it [00:12,  3.95it/s]04)\u001b[0m \n",
      "Val Epoch:3: 24it [00:13,  2.68it/s]04)\u001b[0m \n",
      "Val Epoch:3: 25it [00:15,  1.03s/it]04)\u001b[0m \n",
      "Val Epoch:3: 26it [00:16,  1.29it/s]04)\u001b[0m \n",
      "Val Epoch:3: 28it [00:16,  1.83it/s]04)\u001b[0m \n",
      "Val Epoch:3: 29it [00:16,  2.18it/s]04)\u001b[0m \n",
      "Val Epoch:3: 30it [00:17,  2.59it/s]04)\u001b[0m \n",
      "Val Epoch:3: 31it [00:17,  3.04it/s]04)\u001b[0m \n",
      "Val Epoch:3: 32it [00:17,  3.24it/s]04)\u001b[0m \n",
      "Val Epoch:3: 33it [00:20,  1.07s/it]04)\u001b[0m \n",
      "Val Epoch:3: 34it [00:20,  1.24it/s]04)\u001b[0m \n",
      "Val Epoch:3: 35it [00:20,  1.60it/s]04)\u001b[0m \n",
      "Val Epoch:3: 36it [00:20,  1.99it/s]04)\u001b[0m \n",
      "Val Epoch:3: 37it [00:21,  2.36it/s]04)\u001b[0m \n",
      "Val Epoch:3: 38it [00:21,  2.08it/s]04)\u001b[0m \n",
      "Val Epoch:3: 39it [00:22,  2.57it/s]04)\u001b[0m \n",
      "Val Epoch:3: 40it [00:22,  2.84it/s]04)\u001b[0m \n",
      "Val Epoch:3: 41it [00:24,  1.10it/s]04)\u001b[0m \n",
      "Val Epoch:3: 42it [00:24,  1.37it/s]04)\u001b[0m \n",
      "Val Epoch:3: 43it [00:25,  1.68it/s]04)\u001b[0m \n",
      "Val Epoch:3: 44it [00:25,  1.79it/s]04)\u001b[0m \n",
      "Val Epoch:3: 45it [00:25,  2.20it/s]04)\u001b[0m \n",
      "Val Epoch:3: 46it [00:26,  1.93it/s]04)\u001b[0m \n",
      "Val Epoch:3: 47it [00:26,  2.48it/s]04)\u001b[0m \n",
      "Val Epoch:3: 48it [00:26,  2.62it/s]04)\u001b[0m \n",
      "Val Epoch:3: 49it [00:28,  1.24it/s]04)\u001b[0m \n",
      "Val Epoch:3: 50it [00:28,  1.57it/s]04)\u001b[0m \n",
      "Val Epoch:3: 51it [00:29,  1.94it/s]04)\u001b[0m \n",
      "Val Epoch:3: 52it [00:29,  2.38it/s]04)\u001b[0m \n",
      "Val Epoch:3: 54it [00:30,  2.46it/s]04)\u001b[0m \n",
      "Val Epoch:3: 55it [00:30,  2.39it/s]04)\u001b[0m \n",
      "Val Epoch:3: 56it [00:31,  2.36it/s]04)\u001b[0m \n",
      "Val Epoch:3: 57it [00:33,  1.16it/s]04)\u001b[0m \n",
      "Val Epoch:3: 58it [00:33,  1.52it/s]04)\u001b[0m \n"
     ]
    },
    {
     "name": "stdout",
     "output_type": "stream",
     "text": [
      "\u001b[36m(tune_with_parameters pid=3287705)\u001b[0m loss: 0.659\n"
     ]
    },
    {
     "name": "stderr",
     "output_type": "stream",
     "text": [
      "Val Epoch:3: 60it [00:33,  1.97it/s]04)\u001b[0m \n",
      "Val Epoch:3: 63it [00:34,  3.41it/s]04)\u001b[0m \n",
      "Val Epoch:3: 65it [00:34,  3.23it/s]04)\u001b[0m \n",
      "Val Epoch:3: 67it [00:34,  4.36it/s]04)\u001b[0m \n",
      "Val Epoch:3: 69it [00:34,  5.61it/s]04)\u001b[0m \n",
      "Val Epoch:3: 71it [00:35,  6.69it/s]04)\u001b[0m \n",
      "Val Epoch:3: 73it [00:36,  3.96it/s]04)\u001b[0m \n",
      "Val Epoch:3: 75it [00:36,  4.92it/s]04)\u001b[0m \n",
      "Val Epoch:3: 76it [00:36,  3.83it/s]04)\u001b[0m \n",
      "Val Epoch:3: 78it [00:37,  4.53it/s]04)\u001b[0m \n",
      "Val Epoch:3: 80it [00:37,  5.89it/s]04)\u001b[0m \n",
      "Val Epoch:3: 81it [00:38,  3.31it/s]04)\u001b[0m \n",
      "Val Epoch:3: 82it [00:38,  3.79it/s]04)\u001b[0m \n",
      "Val Epoch:3: 84it [00:38,  5.14it/s]04)\u001b[0m \n",
      "Val Epoch:3: 86it [00:38,  6.84it/s]04)\u001b[0m \n",
      "Val Epoch:3: 88it [00:38,  7.11it/s]04)\u001b[0m \n",
      "Val Epoch:3: 90it [00:39,  5.00it/s]04)\u001b[0m \n",
      "Val Epoch:3: 91it [00:39,  5.30it/s]04)\u001b[0m \n",
      "Val Epoch:3: 92it [00:39,  5.35it/s]04)\u001b[0m \n",
      "Val Epoch:3: 94it [00:40,  5.59it/s]04)\u001b[0m \n",
      "Val Epoch:3: 95it [00:40,  5.74it/s]04)\u001b[0m \n",
      "Val Epoch:3: 96it [00:40,  6.28it/s]04)\u001b[0m \n",
      "Val Epoch:3: 97it [00:40,  3.91it/s]04)\u001b[0m \n",
      "Val Epoch:3: 98it [00:41,  3.36it/s]04)\u001b[0m \n",
      "Val Epoch:3: 100it [00:41,  4.64it/s]4)\u001b[0m \n",
      "Val Epoch:3: 101it [00:41,  5.27it/s]4)\u001b[0m \n",
      "Val Epoch:3: 105it [00:42,  6.25it/s]4)\u001b[0m \n",
      "Val Epoch:3: 106it [00:42,  4.44it/s]4)\u001b[0m \n",
      "Val Epoch:3: 109it [00:42,  6.84it/s]4)\u001b[0m \n",
      "Val Epoch:3: 110it [00:43,  2.52it/s]4)\u001b[0m \n"
     ]
    },
    {
     "name": "stdout",
     "output_type": "stream",
     "text": [
      "\u001b[36m(tune_with_parameters pid=3602604)\u001b[0m loss: 0.661\n",
      "\u001b[36m(tune_with_parameters pid=3287704)\u001b[0m loss: 0.657\u001b[32m [repeated 2x across cluster]\u001b[0m\n",
      "\u001b[36m(tune_with_parameters pid=3287706)\u001b[0m loss: 0.657\u001b[32m [repeated 2x across cluster]\u001b[0m\n"
     ]
    },
    {
     "name": "stderr",
     "output_type": "stream",
     "text": [
      "Val Epoch:32: 0it [00:00, ?it/s]287705)\u001b[0m \n",
      "Val Epoch:32: 1it [00:05,  5.73s/it]05)\u001b[0m \n",
      "Val Epoch:26: 0it [00:00, ?it/s]287704)\u001b[0m \n",
      "Val Epoch:32: 2it [00:06,  2.55s/it]05)\u001b[0m \n",
      "Val Epoch:32: 3it [00:06,  1.52s/it]05)\u001b[0m \n",
      "Val Epoch:32: 4it [00:07,  1.28s/it]05)\u001b[0m \n",
      "Val Epoch:32: 5it [00:07,  1.13it/s]05)\u001b[0m \n",
      "Val Epoch:32: 6it [00:07,  1.43it/s]05)\u001b[0m \n",
      "Val Epoch:32: 7it [00:07,  1.85it/s]05)\u001b[0m \n",
      "Val Epoch:32: 9it [00:09,  1.62it/s]05)\u001b[0m \n",
      "Val Epoch:32: 10it [00:09,  1.79it/s]5)\u001b[0m \n",
      "Val Epoch:32: 11it [00:10,  1.59it/s]5)\u001b[0m \n",
      "Val Epoch:26: 2it [00:07,  3.05s/it]\u001b[32m [repeated 3x across cluster]\u001b[0m\n",
      "Val Epoch:32: 21it [00:16,  1.83it/s]\u001b[32m [repeated 13x across cluster]\u001b[0m\n",
      "Val Epoch:26: 17it [00:17,  1.04s/it]\u001b[32m [repeated 16x across cluster]\u001b[0m\n",
      "Val Epoch:32: 42it [00:26,  3.04it/s]\u001b[32m [repeated 16x across cluster]\u001b[0m\n",
      "Val Epoch:26: 39it [00:28,  3.94it/s]\u001b[32m [repeated 23x across cluster]\u001b[0m\n",
      "Val Epoch:33: 0it [00:00, ?it/s]287706)\u001b[0m \n",
      "Val Epoch:26: 52it [00:33,  3.21it/s]\u001b[32m [repeated 19x across cluster]\u001b[0m\n",
      "Val Epoch:33: 18it [00:05,  3.33it/s]\u001b[32m [repeated 41x across cluster]\u001b[0m\n",
      "Val Epoch:33: 44it [00:11,  2.65it/s]\u001b[32m [repeated 35x across cluster]\u001b[0m\n",
      "Val Epoch:33: 68it [00:16,  6.15it/s]\u001b[32m [repeated 30x across cluster]\u001b[0m\n"
     ]
    },
    {
     "name": "stdout",
     "output_type": "stream",
     "text": [
      "\u001b[36m(tune_with_parameters pid=3287705)\u001b[0m loss: 0.649\u001b[32m [repeated 2x across cluster]\u001b[0m\n"
     ]
    },
    {
     "name": "stderr",
     "output_type": "stream",
     "text": [
      "Val Epoch:33: 91it [00:21,  3.95it/s]\u001b[32m [repeated 21x across cluster]\u001b[0m\n",
      "Val Epoch:33: 110it [00:27,  4.04it/s]\u001b[32m [repeated 15x across cluster]\u001b[0m\n"
     ]
    },
    {
     "name": "stdout",
     "output_type": "stream",
     "text": [
      "\u001b[36m(tune_with_parameters pid=3287704)\u001b[0m loss: 0.663\u001b[32m [repeated 2x across cluster]\u001b[0m\n",
      "\u001b[36m(tune_with_parameters pid=3287706)\u001b[0m loss: 0.658\n",
      "\u001b[36m(tune_with_parameters pid=3287705)\u001b[0m loss: 0.657\n",
      "\u001b[36m(tune_with_parameters pid=3287706)\u001b[0m loss: 0.657\u001b[32m [repeated 2x across cluster]\u001b[0m\n",
      "\u001b[36m(tune_with_parameters pid=3287704)\u001b[0m loss: 0.658\n",
      "\u001b[36m(tune_with_parameters pid=3287705)\u001b[0m loss: 0.658\n",
      "\u001b[36m(tune_with_parameters pid=3602604)\u001b[0m loss: 0.657\n",
      "\u001b[36m(tune_with_parameters pid=3287706)\u001b[0m loss: 0.656\n"
     ]
    },
    {
     "name": "stderr",
     "output_type": "stream",
     "text": [
      "Val Epoch:4: 0it [00:00, ?it/s]3602604)\u001b[0m \n",
      "Val Epoch:4: 1it [00:01,  1.67s/it]604)\u001b[0m \n",
      "Val Epoch:4: 2it [00:01,  1.26it/s]604)\u001b[0m \n",
      "Val Epoch:4: 4it [00:02,  1.73it/s]604)\u001b[0m \n",
      "Val Epoch:4: 5it [00:02,  2.31it/s]604)\u001b[0m \n",
      "Val Epoch:4: 7it [00:02,  3.93it/s]604)\u001b[0m \n",
      "Val Epoch:4: 9it [00:03,  4.59it/s]604)\u001b[0m \n",
      "Val Epoch:4: 11it [00:03,  5.55it/s]04)\u001b[0m \n",
      "Val Epoch:4: 12it [00:04,  3.98it/s]04)\u001b[0m \n",
      "Val Epoch:4: 14it [00:04,  5.05it/s]04)\u001b[0m \n",
      "Val Epoch:4: 17it [00:04,  6.98it/s]04)\u001b[0m \n"
     ]
    },
    {
     "name": "stdout",
     "output_type": "stream",
     "text": [
      "\u001b[36m(tune_with_parameters pid=3287704)\u001b[0m loss: 0.658\n"
     ]
    },
    {
     "name": "stderr",
     "output_type": "stream",
     "text": [
      "Val Epoch:4: 18it [00:04,  5.10it/s]04)\u001b[0m \n",
      "Val Epoch:4: 19it [00:05,  4.83it/s]04)\u001b[0m \n",
      "Val Epoch:4: 20it [00:05,  3.19it/s]04)\u001b[0m \n",
      "Val Epoch:4: 21it [00:06,  3.63it/s]04)\u001b[0m \n",
      "Val Epoch:4: 22it [00:06,  4.18it/s]04)\u001b[0m \n",
      "Val Epoch:4: 24it [00:06,  5.83it/s]04)\u001b[0m \n",
      "Val Epoch:4: 26it [00:06,  6.07it/s]04)\u001b[0m \n",
      "Val Epoch:4: 27it [00:06,  4.78it/s]04)\u001b[0m \n",
      "Val Epoch:4: 28it [00:07,  3.67it/s]04)\u001b[0m \n",
      "Val Epoch:4: 30it [00:07,  5.16it/s]04)\u001b[0m \n",
      "Val Epoch:4: 32it [00:07,  6.51it/s]04)\u001b[0m \n",
      "Val Epoch:4: 33it [00:07,  6.57it/s]04)\u001b[0m \n",
      "Val Epoch:4: 34it [00:08,  6.31it/s]04)\u001b[0m \n",
      "Val Epoch:4: 35it [00:09,  2.83it/s]04)\u001b[0m \n",
      "Val Epoch:4: 36it [00:09,  3.07it/s]04)\u001b[0m \n",
      "Val Epoch:4: 38it [00:09,  3.04it/s]04)\u001b[0m \n",
      "Val Epoch:4: 39it [00:10,  3.53it/s]04)\u001b[0m \n",
      "Val Epoch:4: 41it [00:10,  5.07it/s]04)\u001b[0m \n",
      "Val Epoch:4: 43it [00:10,  4.63it/s]04)\u001b[0m \n",
      "Val Epoch:4: 44it [00:10,  5.14it/s]04)\u001b[0m \n",
      "Val Epoch:4: 45it [00:11,  5.53it/s]04)\u001b[0m \n",
      "Val Epoch:4: 46it [00:11,  5.25it/s]04)\u001b[0m \n",
      "Val Epoch:4: 48it [00:11,  6.40it/s]04)\u001b[0m \n",
      "Val Epoch:4: 50it [00:11,  8.19it/s]04)\u001b[0m \n",
      "Val Epoch:4: 51it [00:12,  4.27it/s]04)\u001b[0m \n",
      "Val Epoch:4: 52it [00:12,  4.24it/s]04)\u001b[0m \n",
      "Val Epoch:4: 54it [00:12,  4.47it/s]04)\u001b[0m \n",
      "Val Epoch:4: 56it [00:13,  5.27it/s]04)\u001b[0m \n",
      "Val Epoch:4: 57it [00:13,  5.50it/s]04)\u001b[0m \n"
     ]
    },
    {
     "name": "stdout",
     "output_type": "stream",
     "text": [
      "\u001b[36m(tune_with_parameters pid=3287705)\u001b[0m loss: 0.658\n"
     ]
    },
    {
     "name": "stderr",
     "output_type": "stream",
     "text": [
      "Val Epoch:4: 59it [00:14,  2.68it/s]04)\u001b[0m \n",
      "Val Epoch:4: 60it [00:15,  2.23it/s]04)\u001b[0m \n",
      "Val Epoch:4: 62it [00:16,  2.21it/s]04)\u001b[0m \n",
      "Val Epoch:4: 63it [00:16,  2.54it/s]04)\u001b[0m \n",
      "Val Epoch:4: 64it [00:16,  2.94it/s]04)\u001b[0m \n",
      "Val Epoch:4: 65it [00:16,  3.30it/s]04)\u001b[0m \n",
      "Val Epoch:4: 66it [00:17,  2.70it/s]04)\u001b[0m \n",
      "Val Epoch:4: 67it [00:19,  1.31it/s]04)\u001b[0m \n",
      "Val Epoch:4: 68it [00:19,  1.52it/s]04)\u001b[0m \n",
      "Val Epoch:4: 69it [00:19,  1.93it/s]04)\u001b[0m \n",
      "Val Epoch:4: 71it [00:20,  2.61it/s]04)\u001b[0m \n",
      "Val Epoch:4: 72it [00:20,  2.41it/s]04)\u001b[0m \n",
      "Val Epoch:4: 73it [00:21,  2.95it/s]04)\u001b[0m \n",
      "Val Epoch:4: 75it [00:23,  1.49it/s]04)\u001b[0m \n",
      "Val Epoch:4: 76it [00:23,  1.83it/s]04)\u001b[0m \n",
      "Val Epoch:4: 77it [00:23,  2.21it/s]04)\u001b[0m \n",
      "Val Epoch:4: 78it [00:23,  2.32it/s]04)\u001b[0m \n",
      "Val Epoch:4: 79it [00:24,  2.74it/s]04)\u001b[0m \n",
      "Val Epoch:4: 80it [00:24,  2.68it/s]04)\u001b[0m \n",
      "Val Epoch:4: 81it [00:24,  2.90it/s]04)\u001b[0m \n",
      "Val Epoch:4: 82it [00:24,  3.11it/s]04)\u001b[0m \n",
      "Val Epoch:4: 83it [00:26,  1.35it/s]04)\u001b[0m \n",
      "Val Epoch:4: 84it [00:26,  1.79it/s]04)\u001b[0m \n",
      "Val Epoch:4: 85it [00:26,  2.31it/s]04)\u001b[0m \n",
      "Val Epoch:4: 86it [00:27,  2.20it/s]04)\u001b[0m \n",
      "Val Epoch:4: 87it [00:27,  2.60it/s]04)\u001b[0m \n",
      "Val Epoch:4: 88it [00:28,  2.32it/s]04)\u001b[0m \n",
      "Val Epoch:4: 89it [00:28,  3.00it/s]04)\u001b[0m \n",
      "Val Epoch:4: 90it [00:28,  3.31it/s]04)\u001b[0m \n",
      "Val Epoch:4: 91it [00:30,  1.30it/s]04)\u001b[0m \n",
      "Val Epoch:4: 92it [00:31,  1.39it/s]04)\u001b[0m \n",
      "Val Epoch:4: 93it [00:31,  1.73it/s]04)\u001b[0m \n",
      "Val Epoch:4: 94it [00:32,  1.33it/s]04)\u001b[0m \n",
      "Val Epoch:4: 95it [00:32,  1.75it/s]04)\u001b[0m \n",
      "Val Epoch:4: 96it [00:32,  2.17it/s]04)\u001b[0m \n",
      "Val Epoch:4: 97it [00:33,  2.57it/s]04)\u001b[0m \n",
      "Val Epoch:4: 99it [00:34,  1.74it/s]04)\u001b[0m \n",
      "Val Epoch:4: 100it [00:35,  1.56it/s]4)\u001b[0m \n",
      "Val Epoch:4: 101it [00:35,  1.75it/s]4)\u001b[0m \n",
      "Val Epoch:4: 103it [00:35,  2.76it/s]4)\u001b[0m \n",
      "Val Epoch:4: 104it [00:36,  3.18it/s]4)\u001b[0m \n",
      "Val Epoch:4: 105it [00:36,  3.49it/s]4)\u001b[0m \n",
      "Val Epoch:4: 106it [00:36,  3.97it/s]4)\u001b[0m \n",
      "Val Epoch:4: 107it [00:38,  1.44it/s]4)\u001b[0m \n",
      "Val Epoch:4: 108it [00:39,  1.45it/s]4)\u001b[0m \n",
      "Val Epoch:4: 109it [00:39,  1.81it/s]4)\u001b[0m \n",
      "Val Epoch:4: 110it [00:40,  2.70it/s]4)\u001b[0m \n"
     ]
    },
    {
     "name": "stdout",
     "output_type": "stream",
     "text": [
      "\u001b[36m(tune_with_parameters pid=3287706)\u001b[0m loss: 0.657\n",
      "\u001b[36m(tune_with_parameters pid=3602604)\u001b[0m loss: 0.658\n",
      "\u001b[36m(tune_with_parameters pid=3287705)\u001b[0m loss: 0.658\n",
      "\u001b[36m(tune_with_parameters pid=3287704)\u001b[0m loss: 0.657\n",
      "\u001b[36m(tune_with_parameters pid=3287706)\u001b[0m loss: 0.657\n",
      "\u001b[36m(tune_with_parameters pid=3602604)\u001b[0m loss: 0.657\n"
     ]
    },
    {
     "name": "stderr",
     "output_type": "stream",
     "text": [
      "Val Epoch:33: 0it [00:00, ?it/s]287705)\u001b[0m \n",
      "Val Epoch:33: 1it [00:03,  3.46s/it]05)\u001b[0m \n",
      "Val Epoch:33: 2it [00:03,  1.56s/it]05)\u001b[0m \n",
      "Val Epoch:33: 5it [00:03,  2.02it/s]05)\u001b[0m \n",
      "Val Epoch:33: 6it [00:04,  2.45it/s]05)\u001b[0m \n",
      "Val Epoch:33: 9it [00:04,  2.87it/s]05)\u001b[0m \n",
      "Val Epoch:33: 11it [00:05,  3.99it/s]5)\u001b[0m \n",
      "Val Epoch:33: 13it [00:05,  5.12it/s]5)\u001b[0m \n",
      "Val Epoch:33: 15it [00:05,  6.56it/s]5)\u001b[0m \n",
      "Val Epoch:33: 17it [00:06,  3.39it/s]5)\u001b[0m \n",
      "Val Epoch:33: 18it [00:06,  3.84it/s]5)\u001b[0m \n",
      "Val Epoch:33: 19it [00:06,  4.33it/s]5)\u001b[0m \n",
      "Val Epoch:33: 20it [00:07,  4.08it/s]5)\u001b[0m \n",
      "Val Epoch:33: 22it [00:07,  5.41it/s]5)\u001b[0m \n",
      "Val Epoch:33: 24it [00:07,  6.65it/s]5)\u001b[0m \n",
      "Val Epoch:33: 25it [00:08,  4.12it/s]5)\u001b[0m \n",
      "Val Epoch:33: 27it [00:08,  3.43it/s]5)\u001b[0m \n",
      "Val Epoch:33: 28it [00:08,  3.95it/s]5)\u001b[0m \n",
      "Val Epoch:33: 30it [00:09,  5.41it/s]5)\u001b[0m \n",
      "Val Epoch:33: 32it [00:09,  7.07it/s]5)\u001b[0m \n",
      "Val Epoch:33: 34it [00:09,  6.11it/s]5)\u001b[0m \n",
      "Val Epoch:33: 35it [00:09,  4.69it/s]5)\u001b[0m \n",
      "Val Epoch:33: 38it [00:10,  6.91it/s]5)\u001b[0m \n",
      "Val Epoch:33: 39it [00:10,  6.79it/s]5)\u001b[0m \n",
      "Val Epoch:33: 41it [00:11,  3.74it/s]5)\u001b[0m \n",
      "Val Epoch:33: 42it [00:11,  4.10it/s]5)\u001b[0m \n",
      "Val Epoch:33: 43it [00:12,  3.23it/s]5)\u001b[0m \n",
      "Val Epoch:33: 45it [00:12,  4.62it/s]5)\u001b[0m \n",
      "Val Epoch:33: 46it [00:12,  4.33it/s]5)\u001b[0m \n",
      "Val Epoch:33: 48it [00:12,  5.76it/s]5)\u001b[0m \n",
      "Val Epoch:33: 49it [00:13,  3.47it/s]5)\u001b[0m \n",
      "Val Epoch:33: 51it [00:13,  4.32it/s]5)\u001b[0m \n",
      "Val Epoch:33: 54it [00:13,  6.56it/s]5)\u001b[0m \n",
      "Val Epoch:33: 56it [00:14,  7.00it/s]5)\u001b[0m \n",
      "Val Epoch:33: 57it [00:15,  3.25it/s]5)\u001b[0m \n",
      "Val Epoch:33: 58it [00:15,  3.62it/s]5)\u001b[0m \n",
      "Val Epoch:34: 0it [00:00, ?it/s]287706)\u001b[0m \n",
      "Val Epoch:33: 59it [00:16,  2.42it/s]5)\u001b[0m \n",
      "Val Epoch:33: 61it [00:16,  3.59it/s]5)\u001b[0m \n",
      "Val Epoch:33: 63it [00:16,  5.01it/s]5)\u001b[0m \n",
      "Val Epoch:33: 65it [00:16,  4.31it/s]5)\u001b[0m \n",
      "Val Epoch:33: 67it [00:17,  3.91it/s]5)\u001b[0m \n",
      "Val Epoch:33: 68it [00:17,  4.34it/s]5)\u001b[0m \n",
      "Val Epoch:33: 69it [00:19,  2.07it/s]5)\u001b[0m \n",
      "Val Epoch:33: 70it [00:19,  2.40it/s]5)\u001b[0m \n",
      "Val Epoch:33: 72it [00:19,  3.44it/s]5)\u001b[0m \n",
      "Val Epoch:34: 3it [00:04,  1.28s/it]\u001b[32m [repeated 2x across cluster]\u001b[0m\n",
      "Val Epoch:34: 15it [00:09,  3.11it/s]\u001b[32m [repeated 19x across cluster]\u001b[0m\n",
      "Val Epoch:33: 92it [00:30,  2.01it/s]\u001b[32m [repeated 18x across cluster]\u001b[0m\n",
      "Val Epoch:34: 34it [00:20,  1.50it/s]\u001b[32m [repeated 20x across cluster]\u001b[0m\n",
      "Val Epoch:34: 48it [00:25,  4.82it/s]\u001b[32m [repeated 20x across cluster]\u001b[0m\n",
      "Val Epoch:34: 56it [00:30,  2.19it/s]\u001b[32m [repeated 6x across cluster]\u001b[0m\n",
      "Val Epoch:34: 73it [00:36,  4.92it/s]\u001b[32m [repeated 9x across cluster]\u001b[0m\n"
     ]
    },
    {
     "name": "stdout",
     "output_type": "stream",
     "text": [
      "\u001b[36m(tune_with_parameters pid=3287705)\u001b[0m loss: 0.671\n",
      "\u001b[36m(tune_with_parameters pid=3287704)\u001b[0m loss: 0.657\n"
     ]
    },
    {
     "name": "stderr",
     "output_type": "stream",
     "text": [
      "Val Epoch:34: 98it [00:41,  3.67it/s]\u001b[32m [repeated 15x across cluster]\u001b[0m\n"
     ]
    },
    {
     "name": "stdout",
     "output_type": "stream",
     "text": [
      "\u001b[36m(tune_with_parameters pid=3287706)\u001b[0m loss: 0.656\u001b[32m [repeated 2x across cluster]\u001b[0m\n"
     ]
    },
    {
     "name": "stderr",
     "output_type": "stream",
     "text": [
      "2024-07-30 22:42:28,934\tWARNING tune.py:219 -- Stop signal received (e.g. via SIGINT/Ctrl+C), ending Ray Tune run. This will try to checkpoint the experiment state one last time. Press CTRL+C (or send SIGINT/SIGKILL/SIGTERM) to skip. \n",
      "2024-07-30 22:42:28,974\tINFO tune.py:1009 -- Wrote the latest version of all result files and experiment state to '/scratch/users/k23058970/Model training/results/NSQ vs All LSTM/tune_with_parameters_2024-07-30_18-14-50' in 0.0391s.\n",
      "Exception ignored in: <bound method IPythonKernel._clean_thread_parent_frames of <ipykernel.ipkernel.IPythonKernel object at 0x7cfce14d5e70>>\n",
      "Traceback (most recent call last):\n",
      "  File \"/users/k23058970/miniforge3/envs/Training/lib/python3.10/site-packages/ipykernel/ipkernel.py\", line 775, in _clean_thread_parent_frames\n",
      "    def _clean_thread_parent_frames(\n",
      "KeyboardInterrupt: \n",
      "\n",
      "KeyboardInterrupt\n",
      "\n",
      "Val Epoch:27: 0it [00:00, ?it/s]287704)\u001b[0m \n",
      "Val Epoch:27: 1it [00:06,  6.34s/it]04)\u001b[0m \n",
      "Val Epoch:27: 2it [00:07,  3.48s/it]04)\u001b[0m \n",
      "Val Epoch:27: 3it [00:07,  1.97s/it]04)\u001b[0m \n",
      "Val Epoch:27: 4it [00:08,  1.28s/it]04)\u001b[0m \n",
      "Val Epoch:27: 5it [00:08,  1.12it/s]04)\u001b[0m \n",
      "Val Epoch:27: 6it [00:08,  1.41it/s]04)\u001b[0m \n",
      "Val Epoch:27: 7it [00:09,  1.63it/s]04)\u001b[0m \n",
      "Val Epoch:27: 8it [00:09,  2.14it/s]04)\u001b[0m \n",
      "Val Epoch:27: 9it [00:10,  1.40it/s]04)\u001b[0m \n",
      "Val Epoch:27: 10it [00:11,  1.58it/s]4)\u001b[0m \n",
      "Val Epoch:27: 11it [00:11,  2.12it/s]4)\u001b[0m \n",
      "Val Epoch:27: 13it [00:11,  3.56it/s]4)\u001b[0m \n",
      "Val Epoch:27: 14it [00:11,  4.18it/s]4)\u001b[0m \n",
      "Val Epoch:27: 15it [00:11,  4.78it/s]4)\u001b[0m \n",
      "Val Epoch:27: 16it [00:11,  5.39it/s]4)\u001b[0m \n",
      "Val Epoch:27: 17it [00:13,  1.64it/s]4)\u001b[0m \n",
      "Val Epoch:27: 19it [00:13,  2.73it/s]4)\u001b[0m \n",
      "Val Epoch:27: 22it [00:13,  4.82it/s]4)\u001b[0m \n",
      "Val Epoch:27: 25it [00:16,  2.11it/s]4)\u001b[0m \n",
      "Val Epoch:27: 27it [00:16,  2.76it/s]4)\u001b[0m \n",
      "Val Epoch:27: 29it [00:16,  3.48it/s]4)\u001b[0m \n",
      "Val Epoch:27: 31it [00:16,  4.21it/s]4)\u001b[0m \n"
     ]
    },
    {
     "name": "stdout",
     "output_type": "stream",
     "text": [
      "\u001b[36m(tune_with_parameters pid=3287705)\u001b[0m loss: 0.659\n"
     ]
    },
    {
     "name": "stderr",
     "output_type": "stream",
     "text": [
      "Val Epoch:27: 33it [00:18,  2.63it/s]4)\u001b[0m \n",
      "Val Epoch:27: 35it [00:18,  3.50it/s]4)\u001b[0m \n",
      "Val Epoch:27: 37it [00:18,  4.54it/s]4)\u001b[0m \n",
      "Val Epoch:27: 39it [00:18,  5.00it/s]4)\u001b[0m \n",
      "Val Epoch:27: 41it [00:20,  2.58it/s]4)\u001b[0m \n",
      "Val Epoch:27: 43it [00:20,  3.33it/s]4)\u001b[0m \n",
      "Val Epoch:27: 45it [00:20,  4.40it/s]4)\u001b[0m \n",
      "Val Epoch:27: 47it [00:21,  4.56it/s]4)\u001b[0m \n",
      "Val Epoch:27: 50it [00:22,  3.58it/s]4)\u001b[0m \n",
      "Val Epoch:27: 52it [00:22,  4.61it/s]4)\u001b[0m \n",
      "Val Epoch:27: 55it [00:22,  5.56it/s]4)\u001b[0m \n"
     ]
    },
    {
     "name": "stdout",
     "output_type": "stream",
     "text": [
      "\u001b[36m(tune_with_parameters pid=3602604)\u001b[0m loss: 0.657\n"
     ]
    },
    {
     "name": "stderr",
     "output_type": "stream",
     "text": [
      "Val Epoch:27: 57it [00:24,  2.87it/s]4)\u001b[0m \n",
      "Val Epoch:27: 60it [00:24,  4.24it/s]4)\u001b[0m \n",
      "Val Epoch:27: 62it [00:24,  4.90it/s]4)\u001b[0m \n",
      "Val Epoch:27: 63it [00:24,  5.13it/s]4)\u001b[0m \n",
      "Val Epoch:27: 64it [00:25,  4.69it/s]4)\u001b[0m \n",
      "Val Epoch:27: 65it [00:26,  1.85it/s]4)\u001b[0m \n",
      "Val Epoch:27: 67it [00:27,  2.73it/s]4)\u001b[0m \n",
      "Val Epoch:27: 70it [00:27,  4.42it/s]4)\u001b[0m \n",
      "Val Epoch:27: 72it [00:27,  5.08it/s]4)\u001b[0m \n",
      "Val Epoch:27: 74it [00:29,  2.74it/s]4)\u001b[0m \n",
      "Val Epoch:27: 75it [00:29,  2.66it/s]4)\u001b[0m \n",
      "Val Epoch:27: 77it [00:29,  3.67it/s]4)\u001b[0m \n",
      "Val Epoch:27: 79it [00:29,  4.84it/s]4)\u001b[0m \n",
      "Val Epoch:27: 81it [00:31,  2.72it/s]4)\u001b[0m \n",
      "Val Epoch:27: 83it [00:31,  3.70it/s]4)\u001b[0m \n",
      "Val Epoch:27: 85it [00:31,  4.52it/s]4)\u001b[0m \n",
      "Val Epoch:27: 87it [00:31,  5.67it/s]4)\u001b[0m \n"
     ]
    },
    {
     "name": "stdout",
     "output_type": "stream",
     "text": [
      "\u001b[36m(tune_with_parameters pid=3287706)\u001b[0m loss: 0.658\n"
     ]
    },
    {
     "name": "stderr",
     "output_type": "stream",
     "text": [
      "Val Epoch:27: 89it [00:33,  2.78it/s]4)\u001b[0m \n",
      "Val Epoch:27: 91it [00:33,  3.45it/s]4)\u001b[0m \n",
      "Val Epoch:27: 93it [00:33,  4.42it/s]4)\u001b[0m \n",
      "Val Epoch:27: 94it [00:33,  4.39it/s]4)\u001b[0m \n",
      "Val Epoch:27: 95it [00:33,  4.94it/s]4)\u001b[0m \n",
      "Val Epoch:27: 97it [00:35,  2.33it/s]4)\u001b[0m \n",
      "Val Epoch:27: 99it [00:35,  3.01it/s]4)\u001b[0m \n",
      "Val Epoch:27: 101it [00:36,  3.95it/s])\u001b[0m \n",
      "Val Epoch:27: 105it [00:37,  3.34it/s])\u001b[0m \n",
      "Val Epoch:27: 107it [00:37,  4.18it/s])\u001b[0m \n",
      "Val Epoch:27: 110it [00:37,  5.84it/s])\u001b[0m \n",
      "Val Epoch:27: 110it [00:38,  2.85it/s])\u001b[0m \n"
     ]
    },
    {
     "name": "stdout",
     "output_type": "stream",
     "text": [
      "\u001b[36m(tune_with_parameters pid=3287705)\u001b[0m loss: 0.658\n",
      "\u001b[36m(tune_with_parameters pid=3602604)\u001b[0m loss: 0.657\n",
      "\u001b[36m(tune_with_parameters pid=3287706)\u001b[0m loss: 0.657\n"
     ]
    },
    {
     "name": "stderr",
     "output_type": "stream",
     "text": [
      "Val Epoch:5: 0it [00:00, ?it/s]3602604)\u001b[0m \n",
      "Val Epoch:5: 1it [00:01,  1.50s/it]604)\u001b[0m \n",
      "Val Epoch:5: 4it [00:01,  2.83it/s]604)\u001b[0m \n",
      "Val Epoch:5: 5it [00:02,  2.49it/s]604)\u001b[0m \n",
      "Val Epoch:5: 7it [00:02,  3.22it/s]604)\u001b[0m \n",
      "Val Epoch:5: 9it [00:03,  3.79it/s]604)\u001b[0m \n",
      "Val Epoch:5: 10it [00:03,  3.26it/s]04)\u001b[0m \n",
      "Val Epoch:5: 11it [00:03,  3.85it/s]04)\u001b[0m \n",
      "Val Epoch:5: 12it [00:03,  4.25it/s]04)\u001b[0m \n",
      "Val Epoch:5: 13it [00:04,  2.59it/s]04)\u001b[0m \n",
      "Val Epoch:5: 14it [00:04,  3.13it/s]04)\u001b[0m \n",
      "Val Epoch:5: 16it [00:04,  4.41it/s]04)\u001b[0m \n",
      "Val Epoch:5: 17it [00:05,  2.73it/s]04)\u001b[0m \n",
      "Val Epoch:5: 18it [00:06,  2.65it/s]04)\u001b[0m \n",
      "Val Epoch:5: 19it [00:06,  3.21it/s]04)\u001b[0m \n",
      "Val Epoch:5: 20it [00:06,  2.75it/s]04)\u001b[0m \n",
      "Val Epoch:5: 21it [00:07,  3.08it/s]04)\u001b[0m \n",
      "Val Epoch:5: 22it [00:07,  3.59it/s]04)\u001b[0m \n",
      "Val Epoch:5: 23it [00:07,  4.06it/s]04)\u001b[0m \n",
      "Val Epoch:5: 24it [00:07,  4.67it/s]04)\u001b[0m \n",
      "Val Epoch:5: 25it [00:09,  1.60it/s]04)\u001b[0m \n",
      "Val Epoch:5: 26it [00:09,  1.47it/s]04)\u001b[0m \n",
      "Val Epoch:5: 27it [00:10,  1.95it/s]04)\u001b[0m \n",
      "Val Epoch:5: 28it [00:10,  2.53it/s]04)\u001b[0m \n",
      "Val Epoch:5: 29it [00:10,  2.64it/s]04)\u001b[0m \n",
      "Val Epoch:5: 30it [00:10,  3.25it/s]04)\u001b[0m \n",
      "Val Epoch:5: 31it [00:10,  3.47it/s]04)\u001b[0m \n",
      "Val Epoch:5: 32it [00:11,  3.75it/s]04)\u001b[0m \n",
      "Val Epoch:5: 33it [00:11,  2.84it/s]04)\u001b[0m \n",
      "Val Epoch:5: 34it [00:12,  1.78it/s]04)\u001b[0m \n",
      "Val Epoch:5: 35it [00:12,  2.19it/s]04)\u001b[0m \n",
      "Val Epoch:5: 36it [00:13,  1.76it/s]04)\u001b[0m \n",
      "Val Epoch:5: 38it [00:14,  2.61it/s]04)\u001b[0m \n",
      "Val Epoch:5: 40it [00:14,  3.53it/s]04)\u001b[0m \n",
      "Val Epoch:5: 41it [00:14,  3.97it/s]04)\u001b[0m \n",
      "Val Epoch:5: 42it [00:15,  1.90it/s]04)\u001b[0m \n",
      "Val Epoch:5: 43it [00:15,  2.38it/s]04)\u001b[0m \n",
      "Val Epoch:5: 44it [00:16,  2.39it/s]04)\u001b[0m \n",
      "Val Epoch:5: 45it [00:16,  2.91it/s]04)\u001b[0m \n",
      "Val Epoch:5: 46it [00:16,  3.41it/s]04)\u001b[0m \n",
      "Val Epoch:5: 48it [00:16,  4.72it/s]04)\u001b[0m \n",
      "Val Epoch:5: 49it [00:17,  4.93it/s]04)\u001b[0m \n",
      "Val Epoch:5: 50it [00:18,  1.83it/s]04)\u001b[0m \n",
      "Val Epoch:5: 51it [00:18,  2.31it/s]04)\u001b[0m \n",
      "Val Epoch:5: 52it [00:19,  2.44it/s]04)\u001b[0m \n",
      "Val Epoch:5: 53it [00:19,  3.00it/s]04)\u001b[0m \n",
      "Val Epoch:5: 54it [00:19,  3.34it/s]04)\u001b[0m \n",
      "Val Epoch:5: 55it [00:19,  3.07it/s]04)\u001b[0m \n",
      "Val Epoch:5: 56it [00:19,  3.66it/s]04)\u001b[0m \n",
      "Val Epoch:5: 57it [00:20,  4.09it/s]04)\u001b[0m \n"
     ]
    },
    {
     "name": "stdout",
     "output_type": "stream",
     "text": [
      "\u001b[36m(tune_with_parameters pid=3287705)\u001b[0m loss: 0.658\n"
     ]
    },
    {
     "name": "stderr",
     "output_type": "stream",
     "text": [
      "Val Epoch:5: 58it [00:21,  1.59it/s]04)\u001b[0m \n",
      "Val Epoch:5: 59it [00:21,  2.08it/s]04)\u001b[0m \n",
      "Val Epoch:5: 60it [00:23,  1.18it/s]04)\u001b[0m \n",
      "Val Epoch:5: 62it [00:23,  1.91it/s]04)\u001b[0m \n",
      "Val Epoch:5: 63it [00:23,  2.37it/s]04)\u001b[0m \n",
      "Val Epoch:5: 65it [00:24,  3.56it/s]04)\u001b[0m \n",
      "Val Epoch:5: 66it [00:24,  2.83it/s]04)\u001b[0m \n",
      "Val Epoch:5: 67it [00:24,  2.94it/s]04)\u001b[0m \n",
      "Val Epoch:5: 68it [00:25,  2.16it/s]04)\u001b[0m \n",
      "Val Epoch:5: 69it [00:25,  2.68it/s]04)\u001b[0m \n",
      "Val Epoch:5: 70it [00:26,  3.24it/s]04)\u001b[0m \n",
      "Val Epoch:5: 71it [00:26,  3.83it/s]04)\u001b[0m \n",
      "Val Epoch:5: 73it [00:26,  5.87it/s]04)\u001b[0m \n",
      "Val Epoch:5: 74it [00:29,  1.06it/s]04)\u001b[0m \n",
      "Val Epoch:5: 75it [00:29,  1.37it/s]04)\u001b[0m \n",
      "Val Epoch:5: 76it [00:30,  1.17it/s]04)\u001b[0m \n",
      "Val Epoch:5: 77it [00:31,  1.53it/s]04)\u001b[0m \n",
      "Val Epoch:5: 79it [00:31,  2.49it/s]04)\u001b[0m \n",
      "Val Epoch:5: 80it [00:31,  2.95it/s]04)\u001b[0m \n",
      "Val Epoch:5: 81it [00:31,  3.41it/s]04)\u001b[0m \n",
      "Val Epoch:5: 82it [00:32,  2.16it/s]04)\u001b[0m \n",
      "Val Epoch:5: 83it [00:32,  2.70it/s]04)\u001b[0m \n",
      "Val Epoch:5: 84it [00:33,  1.91it/s]04)\u001b[0m \n",
      "Val Epoch:5: 86it [00:33,  3.18it/s]04)\u001b[0m \n",
      "Val Epoch:5: 88it [00:33,  4.67it/s]04)\u001b[0m \n",
      "Val Epoch:5: 90it [00:34,  5.28it/s]04)\u001b[0m \n",
      "Val Epoch:5: 92it [00:34,  3.58it/s]04)\u001b[0m \n",
      "Val Epoch:5: 94it [00:35,  4.28it/s]04)\u001b[0m \n",
      "Val Epoch:5: 97it [00:35,  6.43it/s]04)\u001b[0m \n",
      "Val Epoch:5: 99it [00:35,  5.69it/s]04)\u001b[0m \n",
      "Val Epoch:5: 100it [00:36,  4.14it/s]4)\u001b[0m \n",
      "Val Epoch:5: 103it [00:36,  6.26it/s]4)\u001b[0m \n",
      "Val Epoch:5: 107it [00:36,  9.32it/s]4)\u001b[0m \n",
      "Val Epoch:5: 109it [00:37,  6.61it/s]4)\u001b[0m \n",
      "Val Epoch:5: 110it [00:37,  2.91it/s]4)\u001b[0m \n"
     ]
    },
    {
     "name": "stdout",
     "output_type": "stream",
     "text": [
      "\u001b[36m(tune_with_parameters pid=3287706)\u001b[0m loss: 0.657\n",
      "\u001b[36m(tune_with_parameters pid=3287705)\u001b[0m loss: 0.659\n",
      "\u001b[36m(tune_with_parameters pid=3287706)\u001b[0m loss: 0.657\n"
     ]
    },
    {
     "name": "stderr",
     "output_type": "stream",
     "text": [
      "Val Epoch:34: 0it [00:00, ?it/s]287705)\u001b[0m \n",
      "Val Epoch:34: 1it [00:02,  2.60s/it]05)\u001b[0m \n",
      "Val Epoch:34: 3it [00:02,  1.37it/s]05)\u001b[0m \n",
      "Val Epoch:34: 5it [00:02,  2.40it/s]05)\u001b[0m \n",
      "Val Epoch:34: 7it [00:03,  3.57it/s]05)\u001b[0m \n",
      "Val Epoch:34: 9it [00:04,  2.60it/s]05)\u001b[0m \n",
      "Val Epoch:34: 10it [00:04,  2.53it/s]5)\u001b[0m \n",
      "Val Epoch:34: 12it [00:04,  3.59it/s]5)\u001b[0m \n",
      "Val Epoch:34: 13it [00:05,  3.80it/s]5)\u001b[0m \n",
      "Val Epoch:34: 15it [00:05,  5.42it/s]5)\u001b[0m \n",
      "Val Epoch:34: 17it [00:05,  3.92it/s]5)\u001b[0m \n",
      "Val Epoch:34: 18it [00:06,  3.57it/s]5)\u001b[0m \n",
      "Val Epoch:34: 23it [00:06,  7.63it/s]5)\u001b[0m \n",
      "Val Epoch:34: 25it [00:07,  4.85it/s]5)\u001b[0m \n",
      "Val Epoch:34: 27it [00:07,  5.36it/s]5)\u001b[0m \n",
      "Val Epoch:34: 29it [00:07,  5.89it/s]5)\u001b[0m \n",
      "Val Epoch:34: 31it [00:07,  7.19it/s]5)\u001b[0m \n",
      "Val Epoch:34: 33it [00:09,  3.39it/s]5)\u001b[0m \n",
      "Val Epoch:34: 37it [00:10,  3.45it/s]5)\u001b[0m \n",
      "Val Epoch:34: 41it [00:12,  2.55it/s]5)\u001b[0m \n",
      "Val Epoch:34: 42it [00:13,  2.61it/s]5)\u001b[0m \n",
      "Val Epoch:34: 43it [00:13,  2.81it/s]5)\u001b[0m \n",
      "Val Epoch:34: 45it [00:13,  2.75it/s]5)\u001b[0m \n",
      "Val Epoch:35: 0it [00:00, ?it/s]287706)\u001b[0m \n",
      "Val Epoch:34: 49it [00:15,  2.52it/s]5)\u001b[0m \n",
      "Val Epoch:34: 50it [00:15,  2.70it/s]5)\u001b[0m \n",
      "Val Epoch:34: 51it [00:16,  2.99it/s]5)\u001b[0m \n",
      "Val Epoch:34: 53it [00:16,  3.82it/s]5)\u001b[0m \n",
      "Val Epoch:34: 56it [00:16,  5.47it/s]5)\u001b[0m \n",
      "Val Epoch:34: 62it [00:18,  5.07it/s]\u001b[32m [repeated 7x across cluster]\u001b[0m\n",
      "Val Epoch:34: 80it [00:22,  5.81it/s]5)\u001b[0m \n",
      "Val Epoch:34: 81it [00:23,  3.01it/s]\u001b[32m [repeated 24x across cluster]\u001b[0m\n",
      "Val Epoch:35: 73it [00:13, 15.97it/s]\u001b[32m [repeated 27x across cluster]\u001b[0m\n"
     ]
    }
   ],
   "source": [
    "DATASET_DIR = \"/scratch/users/k23058970/Spectral Dataset/NSQ vs All (Revised)\"\n",
    "main(dataset_dir=DATASET_DIR,dset_name = \"NSQ vs All LSTM\")"
   ]
  },
  {
   "cell_type": "code",
   "execution_count": null,
   "id": "0c63eef3-4744-4768-9263-4df84d5acc7b",
   "metadata": {},
   "outputs": [],
   "source": []
  }
 ],
 "metadata": {
  "kernelspec": {
   "display_name": "Training",
   "language": "python",
   "name": "training"
  },
  "language_info": {
   "codemirror_mode": {
    "name": "ipython",
    "version": 3
   },
   "file_extension": ".py",
   "mimetype": "text/x-python",
   "name": "python",
   "nbconvert_exporter": "python",
   "pygments_lexer": "ipython3",
   "version": "3.10.14"
  }
 },
 "nbformat": 4,
 "nbformat_minor": 5
}
