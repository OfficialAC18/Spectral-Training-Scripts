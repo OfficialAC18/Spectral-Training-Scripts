{
 "cells": [
  {
   "cell_type": "code",
   "execution_count": 1,
   "id": "5d115776-afdf-4da6-9552-79b0bae74001",
   "metadata": {},
   "outputs": [],
   "source": [
    "#Call Main and let it run\n",
    "from training_insilico_lstm import main"
   ]
  },
  {
   "cell_type": "code",
   "execution_count": null,
   "id": "b9b5ace6-a806-4353-948a-8112482fd7ce",
   "metadata": {},
   "outputs": [
    {
     "data": {
      "text/html": [
       "<div class=\"tuneStatus\">\n",
       "  <div style=\"display: flex;flex-direction: row\">\n",
       "    <div style=\"display: flex;flex-direction: column;\">\n",
       "      <h3>Tune Status</h3>\n",
       "      <table>\n",
       "<tbody>\n",
       "<tr><td>Current time:</td><td>2024-08-19 23:25:24</td></tr>\n",
       "<tr><td>Running for: </td><td>00:29:28.36        </td></tr>\n",
       "<tr><td>Memory:      </td><td>76.6/1007.5 GiB    </td></tr>\n",
       "</tbody>\n",
       "</table>\n",
       "    </div>\n",
       "    <div class=\"vDivider\"></div>\n",
       "    <div class=\"systemInfo\">\n",
       "      <h3>System Info</h3>\n",
       "      Using AsyncHyperBand: num_stopped=6<br>Bracket: Iter 60.000: -0.27737829247687723 | Iter 30.000: -0.28530142416662363 | Iter 15.000: -0.5584210743929477<br>Logical resource usage: 48.0/96 CPUs, 1.0/1 GPUs (0.0/1.0 accelerator_type:A30)\n",
       "    </div>\n",
       "    \n",
       "  </div>\n",
       "  <div class=\"hDivider\"></div>\n",
       "  <div class=\"trialStatus\">\n",
       "    <h3>Trial Status</h3>\n",
       "    <table>\n",
       "<thead>\n",
       "<tr><th>Trial name                      </th><th>status    </th><th>loc               </th><th style=\"text-align: right;\">  dp</th><th style=\"text-align: right;\">  hidden_size</th><th style=\"text-align: right;\">        lr</th><th style=\"text-align: right;\">  num_layers</th><th style=\"text-align: right;\">  iter</th><th style=\"text-align: right;\">  total time (s)</th><th style=\"text-align: right;\">    loss</th><th style=\"text-align: right;\">  accuracy</th><th style=\"text-align: right;\">      f1</th></tr>\n",
       "</thead>\n",
       "<tbody>\n",
       "<tr><td>tune_with_parameters_cf806_00003</td><td>RUNNING   </td><td>10.211.4.4:2778909</td><td style=\"text-align: right;\">0.25</td><td style=\"text-align: right;\">          300</td><td style=\"text-align: right;\">0.0033781 </td><td style=\"text-align: right;\">           1</td><td style=\"text-align: right;\">    86</td><td style=\"text-align: right;\">         787.471</td><td style=\"text-align: right;\">0.244836</td><td style=\"text-align: right;\">  0.855333</td><td style=\"text-align: right;\">0.859409</td></tr>\n",
       "<tr><td>tune_with_parameters_cf806_00007</td><td>RUNNING   </td><td>10.211.4.4:2844440</td><td style=\"text-align: right;\">0.2 </td><td style=\"text-align: right;\">          200</td><td style=\"text-align: right;\">0.046202  </td><td style=\"text-align: right;\">           1</td><td style=\"text-align: right;\">    35</td><td style=\"text-align: right;\">         297.32 </td><td style=\"text-align: right;\">0.210619</td><td style=\"text-align: right;\">  0.871   </td><td style=\"text-align: right;\">0.874546</td></tr>\n",
       "<tr><td>tune_with_parameters_cf806_00008</td><td>PENDING   </td><td>                  </td><td style=\"text-align: right;\">0.25</td><td style=\"text-align: right;\">          400</td><td style=\"text-align: right;\">0.0140942 </td><td style=\"text-align: right;\">           3</td><td style=\"text-align: right;\">      </td><td style=\"text-align: right;\">                </td><td style=\"text-align: right;\">        </td><td style=\"text-align: right;\">          </td><td style=\"text-align: right;\">        </td></tr>\n",
       "<tr><td>tune_with_parameters_cf806_00009</td><td>PENDING   </td><td>                  </td><td style=\"text-align: right;\">0.1 </td><td style=\"text-align: right;\">          200</td><td style=\"text-align: right;\">0.00165547</td><td style=\"text-align: right;\">           1</td><td style=\"text-align: right;\">      </td><td style=\"text-align: right;\">                </td><td style=\"text-align: right;\">        </td><td style=\"text-align: right;\">          </td><td style=\"text-align: right;\">        </td></tr>\n",
       "<tr><td>tune_with_parameters_cf806_00000</td><td>TERMINATED</td><td>10.211.4.4:2633007</td><td style=\"text-align: right;\">0.5 </td><td style=\"text-align: right;\">          300</td><td style=\"text-align: right;\">0.00321   </td><td style=\"text-align: right;\">           2</td><td style=\"text-align: right;\">    15</td><td style=\"text-align: right;\">         104.218</td><td style=\"text-align: right;\">0.783744</td><td style=\"text-align: right;\">  0.500333</td><td style=\"text-align: right;\">0.52323 </td></tr>\n",
       "<tr><td>tune_with_parameters_cf806_00001</td><td>TERMINATED</td><td>10.211.4.4:2633008</td><td style=\"text-align: right;\">0.2 </td><td style=\"text-align: right;\">          100</td><td style=\"text-align: right;\">0.0117644 </td><td style=\"text-align: right;\">           3</td><td style=\"text-align: right;\">   100</td><td style=\"text-align: right;\">         941.731</td><td style=\"text-align: right;\">0.586686</td><td style=\"text-align: right;\">  0.596667</td><td style=\"text-align: right;\">0.602956</td></tr>\n",
       "<tr><td>tune_with_parameters_cf806_00002</td><td>TERMINATED</td><td>10.211.4.4:2652194</td><td style=\"text-align: right;\">0.25</td><td style=\"text-align: right;\">          400</td><td style=\"text-align: right;\">0.0632501 </td><td style=\"text-align: right;\">           2</td><td style=\"text-align: right;\">   100</td><td style=\"text-align: right;\">         933.222</td><td style=\"text-align: right;\">0.258127</td><td style=\"text-align: right;\">  0.841333</td><td style=\"text-align: right;\">0.845828</td></tr>\n",
       "<tr><td>tune_with_parameters_cf806_00004</td><td>TERMINATED</td><td>10.211.4.4:2793447</td><td style=\"text-align: right;\">0.1 </td><td style=\"text-align: right;\">          400</td><td style=\"text-align: right;\">0.0355332 </td><td style=\"text-align: right;\">           3</td><td style=\"text-align: right;\">    15</td><td style=\"text-align: right;\">         114.705</td><td style=\"text-align: right;\">0.522935</td><td style=\"text-align: right;\">  0.625667</td><td style=\"text-align: right;\">0.573771</td></tr>\n",
       "<tr><td>tune_with_parameters_cf806_00005</td><td>TERMINATED</td><td>10.211.4.4:2809933</td><td style=\"text-align: right;\">0.25</td><td style=\"text-align: right;\">          400</td><td style=\"text-align: right;\">0.00153592</td><td style=\"text-align: right;\">           2</td><td style=\"text-align: right;\">    15</td><td style=\"text-align: right;\">         115.416</td><td style=\"text-align: right;\">1.004   </td><td style=\"text-align: right;\">  0.589667</td><td style=\"text-align: right;\">0.557421</td></tr>\n",
       "<tr><td>tune_with_parameters_cf806_00006</td><td>TERMINATED</td><td>10.211.4.4:2826806</td><td style=\"text-align: right;\">0.5 </td><td style=\"text-align: right;\">          300</td><td style=\"text-align: right;\">0.0740556 </td><td style=\"text-align: right;\">           3</td><td style=\"text-align: right;\">    15</td><td style=\"text-align: right;\">         115.81 </td><td style=\"text-align: right;\">0.790593</td><td style=\"text-align: right;\">  0.490667</td><td style=\"text-align: right;\">0.512824</td></tr>\n",
       "</tbody>\n",
       "</table>\n",
       "  </div>\n",
       "</div>\n",
       "<style>\n",
       ".tuneStatus {\n",
       "  color: var(--jp-ui-font-color1);\n",
       "}\n",
       ".tuneStatus .systemInfo {\n",
       "  display: flex;\n",
       "  flex-direction: column;\n",
       "}\n",
       ".tuneStatus td {\n",
       "  white-space: nowrap;\n",
       "}\n",
       ".tuneStatus .trialStatus {\n",
       "  display: flex;\n",
       "  flex-direction: column;\n",
       "}\n",
       ".tuneStatus h3 {\n",
       "  font-weight: bold;\n",
       "}\n",
       ".tuneStatus .hDivider {\n",
       "  border-bottom-width: var(--jp-border-width);\n",
       "  border-bottom-color: var(--jp-border-color0);\n",
       "  border-bottom-style: solid;\n",
       "}\n",
       ".tuneStatus .vDivider {\n",
       "  border-left-width: var(--jp-border-width);\n",
       "  border-left-color: var(--jp-border-color0);\n",
       "  border-left-style: solid;\n",
       "  margin: 0.5em 1em 0.5em 1em;\n",
       "}\n",
       "</style>\n"
      ],
      "text/plain": [
       "<IPython.core.display.HTML object>"
      ]
     },
     "metadata": {},
     "output_type": "display_data"
    },
    {
     "name": "stderr",
     "output_type": "stream",
     "text": [
      "\u001b[36m(tune_with_parameters pid=2633008)\u001b[0m /users/k23058970/miniforge3/envs/Training/lib/python3.10/site-packages/torch/nn/modules/lazy.py:181: UserWarning: Lazy modules are a new feature under heavy development so changes to the API or functionality can happen at any moment.\n",
      "\u001b[36m(tune_with_parameters pid=2633008)\u001b[0m   warnings.warn('Lazy modules are a new feature under heavy development '\n"
     ]
    },
    {
     "name": "stdout",
     "output_type": "stream",
     "text": [
      "\u001b[36m(tune_with_parameters pid=2633008)\u001b[0m loss: 1.096\n",
      "\u001b[36m(tune_with_parameters pid=2633008)\u001b[0m loss: 1.098\n",
      "\u001b[36m(tune_with_parameters pid=2633008)\u001b[0m loss: 1.099\n"
     ]
    },
    {
     "name": "stderr",
     "output_type": "stream",
     "text": [
      "Val Epoch:0: 0it [00:00, ?it/s]2633008)\u001b[0m \n",
      "\u001b[36m(tune_with_parameters pid=2633007)\u001b[0m /users/k23058970/miniforge3/envs/Training/lib/python3.10/site-packages/torch/nn/modules/lazy.py:181: UserWarning: Lazy modules are a new feature under heavy development so changes to the API or functionality can happen at any moment.\n",
      "\u001b[36m(tune_with_parameters pid=2633007)\u001b[0m   warnings.warn('Lazy modules are a new feature under heavy development '\n",
      "Val Epoch:0: 1it [00:00,  7.14it/s]008)\u001b[0m \n"
     ]
    },
    {
     "name": "stdout",
     "output_type": "stream",
     "text": [
      "\u001b[36m(tune_with_parameters pid=2633007)\u001b[0m loss: 1.094\u001b[32m [repeated 25x across cluster] (Ray deduplicates logs by default. Set RAY_DEDUP_LOGS=0 to disable log deduplication, or see https://docs.ray.io/en/master/ray-observability/user-guides/configure-logging.html#log-deduplication for more options.)\u001b[0m\n"
     ]
    },
    {
     "name": "stderr",
     "output_type": "stream",
     "text": [
      "Val Epoch:0: 4it [00:00, 18.52it/s]008)\u001b[0m \n",
      "Val Epoch:0: 8it [00:00, 24.73it/s]008)\u001b[0m \n",
      "Val Epoch:0: 12it [00:00, 29.25it/s]08)\u001b[0m \n",
      "Val Epoch:0: 18it [00:00, 33.44it/s]08)\u001b[0m \n",
      "Val Epoch:0: 22it [00:01, 13.20it/s]08)\u001b[0m \n",
      "Val Epoch:0: 25it [00:01, 10.94it/s]08)\u001b[0m \n",
      "Val Epoch:0: 28it [00:01, 12.81it/s]08)\u001b[0m \n",
      "\u001b[36m(tune_with_parameters pid=2633008)\u001b[0m /scratch/users/k23058970/Model training/training_insilico_lstm.py:63: RuntimeWarning: invalid value encountered in divide\n",
      "\u001b[36m(tune_with_parameters pid=2633008)\u001b[0m   self.precision = self.tp/(self.tp + self.fp)\n"
     ]
    },
    {
     "name": "stdout",
     "output_type": "stream",
     "text": [
      "\u001b[36m(tune_with_parameters pid=2633008)\u001b[0m /tmp/tmpu8qvvk_6/checkpoint.pt\n"
     ]
    },
    {
     "name": "stderr",
     "output_type": "stream",
     "text": [
      "\u001b[36m(tune_with_parameters pid=2633008)\u001b[0m Checkpoint successfully created at: Checkpoint(filesystem=local, path=/scratch/users/k23058970/Model training/results/Complex Peak LSTM Null/tune_with_parameters_2024-08-19_22-55-16/tune_with_parameters_cf806_00001_1_dp=0.2000,hidden_size=100,lr=0.0118,num_layers=3_2024-08-19_22-55-55/checkpoint_000000)\n"
     ]
    },
    {
     "name": "stdout",
     "output_type": "stream",
     "text": [
      "\u001b[36m(tune_with_parameters pid=2633007)\u001b[0m /tmp/tmpp__v7kkk/checkpoint.pt\n",
      "\u001b[36m(tune_with_parameters pid=2633007)\u001b[0m loss: 1.091\u001b[32m [repeated 6x across cluster]\u001b[0m\n"
     ]
    },
    {
     "name": "stderr",
     "output_type": "stream",
     "text": [
      "Val Epoch:1: 0it [00:00, ?it/s]\u001b[32m [repeated 2x across cluster]\u001b[0m\n",
      "Val Epoch:0: 47it [00:02, 17.63it/s]\u001b[32m [repeated 18x across cluster]\u001b[0m\n",
      "\u001b[36m(tune_with_parameters pid=2633007)\u001b[0m Checkpoint successfully created at: Checkpoint(filesystem=local, path=/scratch/users/k23058970/Model training/results/Complex Peak LSTM Null/tune_with_parameters_2024-08-19_22-55-16/tune_with_parameters_cf806_00000_0_dp=0.5000,hidden_size=300,lr=0.0032,num_layers=2_2024-08-19_22-55-55/checkpoint_000000)\n"
     ]
    },
    {
     "name": "stdout",
     "output_type": "stream",
     "text": [
      "\u001b[36m(tune_with_parameters pid=2633007)\u001b[0m loss: 1.071\u001b[32m [repeated 26x across cluster]\u001b[0m\n",
      "\u001b[36m(tune_with_parameters pid=2633008)\u001b[0m /tmp/tmperpqhzqh/checkpoint.pt\n"
     ]
    },
    {
     "name": "stderr",
     "output_type": "stream",
     "text": [
      "\u001b[36m(tune_with_parameters pid=2633008)\u001b[0m Checkpoint successfully created at: Checkpoint(filesystem=local, path=/scratch/users/k23058970/Model training/results/Complex Peak LSTM Null/tune_with_parameters_2024-08-19_22-55-16/tune_with_parameters_cf806_00001_1_dp=0.2000,hidden_size=100,lr=0.0118,num_layers=3_2024-08-19_22-55-55/checkpoint_000001)\n"
     ]
    },
    {
     "name": "stdout",
     "output_type": "stream",
     "text": [
      "\u001b[36m(tune_with_parameters pid=2633007)\u001b[0m /tmp/tmpaautf01v/checkpoint.pt\n",
      "\u001b[36m(tune_with_parameters pid=2633008)\u001b[0m loss: 1.093\u001b[32m [repeated 4x across cluster]\u001b[0m\n"
     ]
    },
    {
     "name": "stderr",
     "output_type": "stream",
     "text": [
      "Val Epoch:2: 0it [00:00, ?it/s]\u001b[32m [repeated 2x across cluster]\u001b[0m\n",
      "Val Epoch:1: 47it [00:03, 14.84it/s]\u001b[32m [repeated 23x across cluster]\u001b[0m\n",
      "\u001b[36m(tune_with_parameters pid=2633007)\u001b[0m Checkpoint successfully created at: Checkpoint(filesystem=local, path=/scratch/users/k23058970/Model training/results/Complex Peak LSTM Null/tune_with_parameters_2024-08-19_22-55-16/tune_with_parameters_cf806_00000_0_dp=0.5000,hidden_size=300,lr=0.0032,num_layers=2_2024-08-19_22-55-55/checkpoint_000001)\n"
     ]
    },
    {
     "name": "stdout",
     "output_type": "stream",
     "text": [
      "\u001b[36m(tune_with_parameters pid=2633007)\u001b[0m loss: 1.032\u001b[32m [repeated 25x across cluster]\u001b[0m\n",
      "\u001b[36m(tune_with_parameters pid=2633007)\u001b[0m /tmp/tmpa6gzrnab/checkpoint.pt\n"
     ]
    },
    {
     "name": "stderr",
     "output_type": "stream",
     "text": [
      "\u001b[36m(tune_with_parameters pid=2633007)\u001b[0m Checkpoint successfully created at: Checkpoint(filesystem=local, path=/scratch/users/k23058970/Model training/results/Complex Peak LSTM Null/tune_with_parameters_2024-08-19_22-55-16/tune_with_parameters_cf806_00000_0_dp=0.5000,hidden_size=300,lr=0.0032,num_layers=2_2024-08-19_22-55-55/checkpoint_000002)\n"
     ]
    },
    {
     "name": "stdout",
     "output_type": "stream",
     "text": [
      "\u001b[36m(tune_with_parameters pid=2633007)\u001b[0m loss: 0.961\u001b[32m [repeated 7x across cluster]\u001b[0m\n"
     ]
    },
    {
     "name": "stderr",
     "output_type": "stream",
     "text": [
      "Val Epoch:3: 0it [00:00, ?it/s]\u001b[32m [repeated 2x across cluster]\u001b[0m\n",
      "Val Epoch:2: 47it [00:02, 16.76it/s]\u001b[32m [repeated 27x across cluster]\u001b[0m\n"
     ]
    },
    {
     "name": "stdout",
     "output_type": "stream",
     "text": [
      "\u001b[36m(tune_with_parameters pid=2633007)\u001b[0m loss: 0.956\u001b[32m [repeated 22x across cluster]\u001b[0m\n",
      "\u001b[36m(tune_with_parameters pid=2633008)\u001b[0m /tmp/tmpj3f3y1yv/checkpoint.pt\n"
     ]
    },
    {
     "name": "stderr",
     "output_type": "stream",
     "text": [
      "Val Epoch:3: 47it [00:02, 22.60it/s]08)\u001b[0m \n",
      "\u001b[36m(tune_with_parameters pid=2633008)\u001b[0m Checkpoint successfully created at: Checkpoint(filesystem=local, path=/scratch/users/k23058970/Model training/results/Complex Peak LSTM Null/tune_with_parameters_2024-08-19_22-55-16/tune_with_parameters_cf806_00001_1_dp=0.2000,hidden_size=100,lr=0.0118,num_layers=3_2024-08-19_22-55-55/checkpoint_000002)\n",
      "Val Epoch:3: 0it [00:00, ?it/s]2633007)\u001b[0m \n",
      "Val Epoch:3: 32it [00:02, 23.51it/s]\u001b[32m [repeated 20x across cluster]\u001b[0m\n"
     ]
    },
    {
     "name": "stdout",
     "output_type": "stream",
     "text": [
      "\u001b[36m(tune_with_parameters pid=2633008)\u001b[0m loss: 1.069\u001b[32m [repeated 8x across cluster]\u001b[0m\n"
     ]
    },
    {
     "name": "stderr",
     "output_type": "stream",
     "text": [
      "Val Epoch:4: 0it [00:00, ?it/s]2633008)\u001b[0m \n",
      "Val Epoch:3: 47it [00:02, 18.73it/s]07)\u001b[0m \n",
      "Val Epoch:3: 40it [00:02, 28.45it/s]\u001b[32m [repeated 2x across cluster]\u001b[0m\n"
     ]
    },
    {
     "name": "stdout",
     "output_type": "stream",
     "text": [
      "\u001b[36m(tune_with_parameters pid=2633007)\u001b[0m loss: 0.866\u001b[32m [repeated 22x across cluster]\u001b[0m\n",
      "\u001b[36m(tune_with_parameters pid=2633008)\u001b[0m /tmp/tmpsfl802dk/checkpoint.pt\n"
     ]
    },
    {
     "name": "stderr",
     "output_type": "stream",
     "text": [
      "\u001b[36m(tune_with_parameters pid=2633008)\u001b[0m Checkpoint successfully created at: Checkpoint(filesystem=local, path=/scratch/users/k23058970/Model training/results/Complex Peak LSTM Null/tune_with_parameters_2024-08-19_22-55-16/tune_with_parameters_cf806_00001_1_dp=0.2000,hidden_size=100,lr=0.0118,num_layers=3_2024-08-19_22-55-55/checkpoint_000003)\n",
      "Val Epoch:4: 0it [00:00, ?it/s]2633007)\u001b[0m \n",
      "Val Epoch:4: 30it [00:01, 23.22it/s]\u001b[32m [repeated 22x across cluster]\u001b[0m\n"
     ]
    },
    {
     "name": "stdout",
     "output_type": "stream",
     "text": [
      "\u001b[36m(tune_with_parameters pid=2633007)\u001b[0m /tmp/tmpw0zsu06u/checkpoint.pt\n",
      "\u001b[36m(tune_with_parameters pid=2633008)\u001b[0m loss: 1.015\u001b[32m [repeated 9x across cluster]\u001b[0m\n"
     ]
    },
    {
     "name": "stderr",
     "output_type": "stream",
     "text": [
      "Val Epoch:5: 0it [00:00, ?it/s]2633008)\u001b[0m \n",
      "\u001b[36m(tune_with_parameters pid=2633007)\u001b[0m Checkpoint successfully created at: Checkpoint(filesystem=local, path=/scratch/users/k23058970/Model training/results/Complex Peak LSTM Null/tune_with_parameters_2024-08-19_22-55-16/tune_with_parameters_cf806_00000_0_dp=0.5000,hidden_size=300,lr=0.0032,num_layers=2_2024-08-19_22-55-55/checkpoint_000003)\n",
      "Val Epoch:4: 47it [00:02, 20.05it/s]\u001b[32m [repeated 4x across cluster]\u001b[0m\n"
     ]
    },
    {
     "name": "stdout",
     "output_type": "stream",
     "text": [
      "\u001b[36m(tune_with_parameters pid=2633008)\u001b[0m /tmp/tmpofzkrtzu/checkpoint.pt\n",
      "\u001b[36m(tune_with_parameters pid=2633007)\u001b[0m loss: 0.817\u001b[32m [repeated 23x across cluster]\u001b[0m\n"
     ]
    },
    {
     "name": "stderr",
     "output_type": "stream",
     "text": [
      "\u001b[36m(tune_with_parameters pid=2633008)\u001b[0m Checkpoint successfully created at: Checkpoint(filesystem=local, path=/scratch/users/k23058970/Model training/results/Complex Peak LSTM Null/tune_with_parameters_2024-08-19_22-55-16/tune_with_parameters_cf806_00001_1_dp=0.2000,hidden_size=100,lr=0.0118,num_layers=3_2024-08-19_22-55-55/checkpoint_000004)\n",
      "Val Epoch:5: 0it [00:00, ?it/s]2633007)\u001b[0m \n",
      "Val Epoch:5: 43it [00:02, 31.56it/s]\u001b[32m [repeated 26x across cluster]\u001b[0m\n"
     ]
    },
    {
     "name": "stdout",
     "output_type": "stream",
     "text": [
      "\u001b[36m(tune_with_parameters pid=2633007)\u001b[0m /tmp/tmphqs_j10j/checkpoint.pt\n",
      "\u001b[36m(tune_with_parameters pid=2633008)\u001b[0m loss: 0.809\u001b[32m [repeated 11x across cluster]\u001b[0m\n"
     ]
    },
    {
     "name": "stderr",
     "output_type": "stream",
     "text": [
      "Val Epoch:6: 0it [00:00, ?it/s]2633008)\u001b[0m \n",
      "\u001b[36m(tune_with_parameters pid=2633007)\u001b[0m Checkpoint successfully created at: Checkpoint(filesystem=local, path=/scratch/users/k23058970/Model training/results/Complex Peak LSTM Null/tune_with_parameters_2024-08-19_22-55-16/tune_with_parameters_cf806_00000_0_dp=0.5000,hidden_size=300,lr=0.0032,num_layers=2_2024-08-19_22-55-55/checkpoint_000004)\n",
      "Val Epoch:6: 1it [00:00,  1.46it/s]\u001b[32m [repeated 2x across cluster]\u001b[0m\n"
     ]
    },
    {
     "name": "stdout",
     "output_type": "stream",
     "text": [
      "\u001b[36m(tune_with_parameters pid=2633008)\u001b[0m /tmp/tmpx2v5vzt1/checkpoint.pt\n"
     ]
    },
    {
     "name": "stderr",
     "output_type": "stream",
     "text": [
      "\u001b[36m(tune_with_parameters pid=2633008)\u001b[0m Checkpoint successfully created at: Checkpoint(filesystem=local, path=/scratch/users/k23058970/Model training/results/Complex Peak LSTM Null/tune_with_parameters_2024-08-19_22-55-16/tune_with_parameters_cf806_00001_1_dp=0.2000,hidden_size=100,lr=0.0118,num_layers=3_2024-08-19_22-55-55/checkpoint_000005)\n"
     ]
    },
    {
     "name": "stdout",
     "output_type": "stream",
     "text": [
      "\u001b[36m(tune_with_parameters pid=2633008)\u001b[0m loss: 0.656\u001b[32m [repeated 20x across cluster]\u001b[0m\n"
     ]
    },
    {
     "name": "stderr",
     "output_type": "stream",
     "text": [
      "Val Epoch:6: 0it [00:00, ?it/s]2633007)\u001b[0m \n",
      "Val Epoch:6: 32it [00:02, 23.94it/s]\u001b[32m [repeated 20x across cluster]\u001b[0m\n"
     ]
    },
    {
     "name": "stdout",
     "output_type": "stream",
     "text": [
      "\u001b[36m(tune_with_parameters pid=2633007)\u001b[0m /tmp/tmptlsclqng/checkpoint.pt\n",
      "\u001b[36m(tune_with_parameters pid=2633008)\u001b[0m loss: 0.623\u001b[32m [repeated 21x across cluster]\u001b[0m\n"
     ]
    },
    {
     "name": "stderr",
     "output_type": "stream",
     "text": [
      "Val Epoch:7: 0it [00:00, ?it/s]2633008)\u001b[0m \n",
      "\u001b[36m(tune_with_parameters pid=2633007)\u001b[0m Checkpoint successfully created at: Checkpoint(filesystem=local, path=/scratch/users/k23058970/Model training/results/Complex Peak LSTM Null/tune_with_parameters_2024-08-19_22-55-16/tune_with_parameters_cf806_00000_0_dp=0.5000,hidden_size=300,lr=0.0032,num_layers=2_2024-08-19_22-55-55/checkpoint_000005)\n",
      "Val Epoch:6: 47it [00:03, 13.47it/s]\u001b[32m [repeated 4x across cluster]\u001b[0m\n"
     ]
    },
    {
     "name": "stdout",
     "output_type": "stream",
     "text": [
      "\u001b[36m(tune_with_parameters pid=2633008)\u001b[0m loss: 0.558\u001b[32m [repeated 9x across cluster]\u001b[0m\n"
     ]
    },
    {
     "name": "stderr",
     "output_type": "stream",
     "text": [
      "Val Epoch:7: 0it [00:00, ?it/s]2633007)\u001b[0m \n",
      "Val Epoch:7: 28it [00:02, 23.76it/s]\u001b[32m [repeated 22x across cluster]\u001b[0m\n"
     ]
    },
    {
     "name": "stdout",
     "output_type": "stream",
     "text": [
      "\u001b[36m(tune_with_parameters pid=2633007)\u001b[0m loss: 0.789\u001b[32m [repeated 21x across cluster]\u001b[0m\n"
     ]
    },
    {
     "name": "stderr",
     "output_type": "stream",
     "text": [
      "Val Epoch:8: 0it [00:00, ?it/s]2633008)\u001b[0m \n",
      "Val Epoch:7: 47it [00:03, 15.30it/s]\u001b[32m [repeated 6x across cluster]\u001b[0m\n"
     ]
    },
    {
     "name": "stdout",
     "output_type": "stream",
     "text": [
      "\u001b[36m(tune_with_parameters pid=2633008)\u001b[0m loss: 0.557\u001b[32m [repeated 10x across cluster]\u001b[0m\n"
     ]
    },
    {
     "name": "stderr",
     "output_type": "stream",
     "text": [
      "Val Epoch:9: 0it [00:00, ?it/s]\u001b[32m [repeated 2x across cluster]\u001b[0m\n",
      "Val Epoch:8: 47it [00:02, 19.47it/s]\u001b[32m [repeated 28x across cluster]\u001b[0m\n"
     ]
    },
    {
     "name": "stdout",
     "output_type": "stream",
     "text": [
      "\u001b[36m(tune_with_parameters pid=2633008)\u001b[0m loss: 0.554\u001b[32m [repeated 14x across cluster]\u001b[0m\n"
     ]
    },
    {
     "name": "stderr",
     "output_type": "stream",
     "text": [
      "Val Epoch:10: 0it [00:00, ?it/s]633008)\u001b[0m \n",
      "Val Epoch:9: 47it [00:01, 26.13it/s]\u001b[32m [repeated 11x across cluster]\u001b[0m\n"
     ]
    },
    {
     "name": "stdout",
     "output_type": "stream",
     "text": [
      "\u001b[36m(tune_with_parameters pid=2633008)\u001b[0m loss: 0.632\u001b[32m [repeated 15x across cluster]\u001b[0m\n"
     ]
    },
    {
     "name": "stderr",
     "output_type": "stream",
     "text": [
      "\u001b[36m(tune_with_parameters pid=2652194)\u001b[0m /users/k23058970/miniforge3/envs/Training/lib/python3.10/site-packages/torch/nn/modules/lazy.py:181: UserWarning: Lazy modules are a new feature under heavy development so changes to the API or functionality can happen at any moment.\n",
      "\u001b[36m(tune_with_parameters pid=2652194)\u001b[0m   warnings.warn('Lazy modules are a new feature under heavy development '\n",
      "Val Epoch:10: 47it [00:02, 17.97it/s]\u001b[32m [repeated 11x across cluster]\u001b[0m\n",
      "Val Epoch:11: 0it [00:00, ?it/s]633008)\u001b[0m \n"
     ]
    },
    {
     "name": "stdout",
     "output_type": "stream",
     "text": [
      "\u001b[36m(tune_with_parameters pid=2633008)\u001b[0m /tmp/tmplcdyy70x/checkpoint.pt\n",
      "\u001b[36m(tune_with_parameters pid=2633008)\u001b[0m loss: 0.599\u001b[32m [repeated 14x across cluster]\u001b[0m\n"
     ]
    },
    {
     "name": "stderr",
     "output_type": "stream",
     "text": [
      "\u001b[36m(tune_with_parameters pid=2633008)\u001b[0m Checkpoint successfully created at: Checkpoint(filesystem=local, path=/scratch/users/k23058970/Model training/results/Complex Peak LSTM Null/tune_with_parameters_2024-08-19_22-55-16/tune_with_parameters_cf806_00001_1_dp=0.2000,hidden_size=100,lr=0.0118,num_layers=3_2024-08-19_22-55-55/checkpoint_000006)\n"
     ]
    },
    {
     "name": "stdout",
     "output_type": "stream",
     "text": [
      "\u001b[36m(tune_with_parameters pid=2652194)\u001b[0m loss: 1.095\u001b[32m [repeated 15x across cluster]\u001b[0m\n"
     ]
    },
    {
     "name": "stderr",
     "output_type": "stream",
     "text": [
      "Val Epoch:12: 0it [00:00, ?it/s]633008)\u001b[0m \n",
      "Val Epoch:11: 47it [00:01, 32.33it/s]\u001b[32m [repeated 10x across cluster]\u001b[0m\n",
      "Val Epoch:12: 47it [00:01, 25.69it/s]8)\u001b[0m \n"
     ]
    },
    {
     "name": "stdout",
     "output_type": "stream",
     "text": [
      "\u001b[36m(tune_with_parameters pid=2633008)\u001b[0m loss: 0.544\u001b[32m [repeated 13x across cluster]\u001b[0m\n"
     ]
    },
    {
     "name": "stderr",
     "output_type": "stream",
     "text": [
      "Val Epoch:0: 0it [00:00, ?it/s]2652194)\u001b[0m \n",
      "Val Epoch:0: 6it [00:00, 14.99it/s]\u001b[32m [repeated 12x across cluster]\u001b[0m\n",
      "\u001b[36m(tune_with_parameters pid=2652194)\u001b[0m /scratch/users/k23058970/Model training/training_insilico_lstm.py:63: RuntimeWarning: invalid value encountered in divide\n",
      "\u001b[36m(tune_with_parameters pid=2652194)\u001b[0m   self.precision = self.tp/(self.tp + self.fp)\n"
     ]
    },
    {
     "name": "stdout",
     "output_type": "stream",
     "text": [
      "\u001b[36m(tune_with_parameters pid=2652194)\u001b[0m /tmp/tmpwxv3gu4p/checkpoint.pt\n"
     ]
    },
    {
     "name": "stderr",
     "output_type": "stream",
     "text": [
      "\u001b[36m(tune_with_parameters pid=2652194)\u001b[0m Checkpoint successfully created at: Checkpoint(filesystem=local, path=/scratch/users/k23058970/Model training/results/Complex Peak LSTM Null/tune_with_parameters_2024-08-19_22-55-16/tune_with_parameters_cf806_00002_2_dp=0.2500,hidden_size=400,lr=0.0633,num_layers=2_2024-08-19_22-55-55/checkpoint_000000)\n"
     ]
    },
    {
     "name": "stdout",
     "output_type": "stream",
     "text": [
      "\u001b[36m(tune_with_parameters pid=2652194)\u001b[0m loss: 0.636\u001b[32m [repeated 15x across cluster]\u001b[0m\n"
     ]
    },
    {
     "name": "stderr",
     "output_type": "stream",
     "text": [
      "Val Epoch:13: 0it [00:00, ?it/s]633008)\u001b[0m \n",
      "Val Epoch:13: 1it [00:00,  1.26it/s]\u001b[32m [repeated 12x across cluster]\u001b[0m\n"
     ]
    },
    {
     "name": "stdout",
     "output_type": "stream",
     "text": [
      "\u001b[36m(tune_with_parameters pid=2652194)\u001b[0m loss: 0.626\u001b[32m [repeated 15x across cluster]\u001b[0m\n"
     ]
    },
    {
     "name": "stderr",
     "output_type": "stream",
     "text": [
      "Val Epoch:1: 0it [00:00, ?it/s]2652194)\u001b[0m \n",
      "Val Epoch:1: 20it [00:01, 21.00it/s]\u001b[32m [repeated 18x across cluster]\u001b[0m\n"
     ]
    },
    {
     "name": "stdout",
     "output_type": "stream",
     "text": [
      "\u001b[36m(tune_with_parameters pid=2652194)\u001b[0m /tmp/tmpi1b58us0/checkpoint.pt\n"
     ]
    },
    {
     "name": "stderr",
     "output_type": "stream",
     "text": [
      "\u001b[36m(tune_with_parameters pid=2652194)\u001b[0m Checkpoint successfully created at: Checkpoint(filesystem=local, path=/scratch/users/k23058970/Model training/results/Complex Peak LSTM Null/tune_with_parameters_2024-08-19_22-55-16/tune_with_parameters_cf806_00002_2_dp=0.2500,hidden_size=400,lr=0.0633,num_layers=2_2024-08-19_22-55-55/checkpoint_000001)\n"
     ]
    },
    {
     "name": "stdout",
     "output_type": "stream",
     "text": [
      "\u001b[36m(tune_with_parameters pid=2633008)\u001b[0m loss: 0.601\u001b[32m [repeated 16x across cluster]\u001b[0m\n"
     ]
    },
    {
     "name": "stderr",
     "output_type": "stream",
     "text": [
      "Val Epoch:14: 0it [00:00, ?it/s]633008)\u001b[0m \n",
      "Val Epoch:1: 47it [00:01, 24.93it/s]\u001b[32m [repeated 7x across cluster]\u001b[0m\n"
     ]
    },
    {
     "name": "stdout",
     "output_type": "stream",
     "text": [
      "\u001b[36m(tune_with_parameters pid=2633008)\u001b[0m loss: 0.575\u001b[32m [repeated 15x across cluster]\u001b[0m\n"
     ]
    },
    {
     "name": "stderr",
     "output_type": "stream",
     "text": [
      "Val Epoch:2: 0it [00:00, ?it/s]2652194)\u001b[0m \n",
      "Val Epoch:2: 1it [00:00,  2.68it/s]\u001b[32m [repeated 13x across cluster]\u001b[0m\n",
      "Val Epoch:2: 47it [00:01, 23.60it/s]94)\u001b[0m \n"
     ]
    },
    {
     "name": "stdout",
     "output_type": "stream",
     "text": [
      "\u001b[36m(tune_with_parameters pid=2633008)\u001b[0m loss: 0.598\u001b[32m [repeated 14x across cluster]\u001b[0m\n"
     ]
    },
    {
     "name": "stderr",
     "output_type": "stream",
     "text": [
      "Val Epoch:15: 0it [00:00, ?it/s]633008)\u001b[0m \n",
      "Val Epoch:2: 42it [00:01, 32.95it/s]\u001b[32m [repeated 10x across cluster]\u001b[0m\n"
     ]
    },
    {
     "name": "stdout",
     "output_type": "stream",
     "text": [
      "\u001b[36m(tune_with_parameters pid=2652194)\u001b[0m loss: 0.624\u001b[32m [repeated 16x across cluster]\u001b[0m\n"
     ]
    },
    {
     "name": "stderr",
     "output_type": "stream",
     "text": [
      "Val Epoch:3: 0it [00:00, ?it/s]2652194)\u001b[0m \n",
      "Val Epoch:3: 11it [00:01, 16.07it/s]\u001b[32m [repeated 16x across cluster]\u001b[0m\n"
     ]
    },
    {
     "name": "stdout",
     "output_type": "stream",
     "text": [
      "\u001b[36m(tune_with_parameters pid=2652194)\u001b[0m /tmp/tmpdaku3sn4/checkpoint.pt\n"
     ]
    },
    {
     "name": "stderr",
     "output_type": "stream",
     "text": [
      "\u001b[36m(tune_with_parameters pid=2652194)\u001b[0m Checkpoint successfully created at: Checkpoint(filesystem=local, path=/scratch/users/k23058970/Model training/results/Complex Peak LSTM Null/tune_with_parameters_2024-08-19_22-55-16/tune_with_parameters_cf806_00002_2_dp=0.2500,hidden_size=400,lr=0.0633,num_layers=2_2024-08-19_22-55-55/checkpoint_000002)\n"
     ]
    },
    {
     "name": "stdout",
     "output_type": "stream",
     "text": [
      "\u001b[36m(tune_with_parameters pid=2633008)\u001b[0m loss: 0.587\u001b[32m [repeated 15x across cluster]\u001b[0m\n"
     ]
    },
    {
     "name": "stderr",
     "output_type": "stream",
     "text": [
      "Val Epoch:16: 0it [00:00, ?it/s]633008)\u001b[0m \n",
      "Val Epoch:16: 1it [00:00,  1.58it/s]\u001b[32m [repeated 10x across cluster]\u001b[0m\n"
     ]
    },
    {
     "name": "stdout",
     "output_type": "stream",
     "text": [
      "\u001b[36m(tune_with_parameters pid=2633008)\u001b[0m loss: 0.614\u001b[32m [repeated 16x across cluster]\u001b[0m\n"
     ]
    },
    {
     "name": "stderr",
     "output_type": "stream",
     "text": [
      "Val Epoch:4: 0it [00:00, ?it/s]2652194)\u001b[0m \n",
      "Val Epoch:4: 13it [00:00, 20.78it/s]\u001b[32m [repeated 15x across cluster]\u001b[0m\n"
     ]
    },
    {
     "name": "stdout",
     "output_type": "stream",
     "text": [
      "\u001b[36m(tune_with_parameters pid=2652194)\u001b[0m /tmp/tmpk4v5vwcz/checkpoint.pt\n"
     ]
    },
    {
     "name": "stderr",
     "output_type": "stream",
     "text": [
      "\u001b[36m(tune_with_parameters pid=2652194)\u001b[0m Checkpoint successfully created at: Checkpoint(filesystem=local, path=/scratch/users/k23058970/Model training/results/Complex Peak LSTM Null/tune_with_parameters_2024-08-19_22-55-16/tune_with_parameters_cf806_00002_2_dp=0.2500,hidden_size=400,lr=0.0633,num_layers=2_2024-08-19_22-55-55/checkpoint_000003)\n"
     ]
    },
    {
     "name": "stdout",
     "output_type": "stream",
     "text": [
      "\u001b[36m(tune_with_parameters pid=2633008)\u001b[0m loss: 0.589\u001b[32m [repeated 13x across cluster]\u001b[0m\n"
     ]
    },
    {
     "name": "stderr",
     "output_type": "stream",
     "text": [
      "Val Epoch:17: 0it [00:00, ?it/s]633008)\u001b[0m \n",
      "Val Epoch:17: 1it [00:00,  1.53it/s]\u001b[32m [repeated 10x across cluster]\u001b[0m\n"
     ]
    },
    {
     "name": "stdout",
     "output_type": "stream",
     "text": [
      "\u001b[36m(tune_with_parameters pid=2633008)\u001b[0m loss: 0.592\u001b[32m [repeated 16x across cluster]\u001b[0m\n"
     ]
    },
    {
     "name": "stderr",
     "output_type": "stream",
     "text": [
      "Val Epoch:5: 0it [00:00, ?it/s]2652194)\u001b[0m \n",
      "Val Epoch:5: 31it [00:01, 23.87it/s]\u001b[32m [repeated 21x across cluster]\u001b[0m\n",
      "Val Epoch:5: 47it [00:01, 25.63it/s]94)\u001b[0m \n"
     ]
    },
    {
     "name": "stdout",
     "output_type": "stream",
     "text": [
      "\u001b[36m(tune_with_parameters pid=2652194)\u001b[0m /tmp/tmps8o4vaqx/checkpoint.pt\n"
     ]
    },
    {
     "name": "stderr",
     "output_type": "stream",
     "text": [
      "\u001b[36m(tune_with_parameters pid=2652194)\u001b[0m Checkpoint successfully created at: Checkpoint(filesystem=local, path=/scratch/users/k23058970/Model training/results/Complex Peak LSTM Null/tune_with_parameters_2024-08-19_22-55-16/tune_with_parameters_cf806_00002_2_dp=0.2500,hidden_size=400,lr=0.0633,num_layers=2_2024-08-19_22-55-55/checkpoint_000004)\n"
     ]
    },
    {
     "name": "stdout",
     "output_type": "stream",
     "text": [
      "\u001b[36m(tune_with_parameters pid=2652194)\u001b[0m loss: 0.301\u001b[32m [repeated 17x across cluster]\u001b[0m\n"
     ]
    },
    {
     "name": "stderr",
     "output_type": "stream",
     "text": [
      "Val Epoch:18: 0it [00:00, ?it/s]633008)\u001b[0m \n",
      "Val Epoch:18: 7it [00:00, 20.96it/s]\u001b[32m [repeated 6x across cluster]\u001b[0m\n"
     ]
    },
    {
     "name": "stdout",
     "output_type": "stream",
     "text": [
      "\u001b[36m(tune_with_parameters pid=2633008)\u001b[0m loss: 0.582\u001b[32m [repeated 17x across cluster]\u001b[0m\n"
     ]
    },
    {
     "name": "stderr",
     "output_type": "stream",
     "text": [
      "Val Epoch:6: 0it [00:00, ?it/s]2652194)\u001b[0m \n",
      "Val Epoch:6: 47it [00:02, 21.05it/s]\u001b[32m [repeated 22x across cluster]\u001b[0m\n"
     ]
    },
    {
     "name": "stdout",
     "output_type": "stream",
     "text": [
      "\u001b[36m(tune_with_parameters pid=2652194)\u001b[0m /tmp/tmpn_jid2zg/checkpoint.pt\n"
     ]
    },
    {
     "name": "stderr",
     "output_type": "stream",
     "text": [
      "\u001b[36m(tune_with_parameters pid=2652194)\u001b[0m Checkpoint successfully created at: Checkpoint(filesystem=local, path=/scratch/users/k23058970/Model training/results/Complex Peak LSTM Null/tune_with_parameters_2024-08-19_22-55-16/tune_with_parameters_cf806_00002_2_dp=0.2500,hidden_size=400,lr=0.0633,num_layers=2_2024-08-19_22-55-55/checkpoint_000005)\n"
     ]
    },
    {
     "name": "stdout",
     "output_type": "stream",
     "text": [
      "\u001b[36m(tune_with_parameters pid=2633008)\u001b[0m loss: 0.592\u001b[32m [repeated 13x across cluster]\u001b[0m\n"
     ]
    },
    {
     "name": "stderr",
     "output_type": "stream",
     "text": [
      "Val Epoch:19: 0it [00:00, ?it/s]633008)\u001b[0m \n",
      "Val Epoch:19: 27it [00:01, 23.76it/s]\u001b[32m [repeated 7x across cluster]\u001b[0m\n"
     ]
    },
    {
     "name": "stdout",
     "output_type": "stream",
     "text": [
      "\u001b[36m(tune_with_parameters pid=2633008)\u001b[0m loss: 0.585\u001b[32m [repeated 16x across cluster]\u001b[0m\n"
     ]
    },
    {
     "name": "stderr",
     "output_type": "stream",
     "text": [
      "Val Epoch:7: 0it [00:00, ?it/s]2652194)\u001b[0m \n",
      "Val Epoch:7: 43it [00:02, 29.33it/s]\u001b[32m [repeated 19x across cluster]\u001b[0m\n"
     ]
    },
    {
     "name": "stdout",
     "output_type": "stream",
     "text": [
      "\u001b[36m(tune_with_parameters pid=2652194)\u001b[0m /tmp/tmpnxo20m6j/checkpoint.pt\n"
     ]
    },
    {
     "name": "stderr",
     "output_type": "stream",
     "text": [
      "\u001b[36m(tune_with_parameters pid=2652194)\u001b[0m Checkpoint successfully created at: Checkpoint(filesystem=local, path=/scratch/users/k23058970/Model training/results/Complex Peak LSTM Null/tune_with_parameters_2024-08-19_22-55-16/tune_with_parameters_cf806_00002_2_dp=0.2500,hidden_size=400,lr=0.0633,num_layers=2_2024-08-19_22-55-55/checkpoint_000006)\n"
     ]
    },
    {
     "name": "stdout",
     "output_type": "stream",
     "text": [
      "\u001b[36m(tune_with_parameters pid=2652194)\u001b[0m loss: 0.281\u001b[32m [repeated 18x across cluster]\u001b[0m\n"
     ]
    },
    {
     "name": "stderr",
     "output_type": "stream",
     "text": [
      "Val Epoch:20: 0it [00:00, ?it/s]633008)\u001b[0m \n",
      "Val Epoch:8: 0it [00:00, ?it/s]2652194)\u001b[0m \n",
      "Val Epoch:20: 47it [00:02, 20.12it/s]\u001b[32m [repeated 15x across cluster]\u001b[0m\n"
     ]
    },
    {
     "name": "stdout",
     "output_type": "stream",
     "text": [
      "\u001b[36m(tune_with_parameters pid=2633008)\u001b[0m loss: 0.596\u001b[32m [repeated 16x across cluster]\u001b[0m\n"
     ]
    },
    {
     "name": "stderr",
     "output_type": "stream",
     "text": [
      "Val Epoch:21: 0it [00:00, ?it/s]633008)\u001b[0m \n",
      "Val Epoch:21: 1it [00:00,  1.22it/s]\u001b[32m [repeated 14x across cluster]\u001b[0m\n"
     ]
    },
    {
     "name": "stdout",
     "output_type": "stream",
     "text": [
      "\u001b[36m(tune_with_parameters pid=2652194)\u001b[0m loss: 0.262\u001b[32m [repeated 14x across cluster]\u001b[0m\n"
     ]
    },
    {
     "name": "stderr",
     "output_type": "stream",
     "text": [
      "Val Epoch:9: 0it [00:00, ?it/s]2652194)\u001b[0m \n"
     ]
    },
    {
     "name": "stdout",
     "output_type": "stream",
     "text": [
      "\u001b[36m(tune_with_parameters pid=2633008)\u001b[0m loss: 0.595\u001b[32m [repeated 17x across cluster]\u001b[0m\n"
     ]
    },
    {
     "name": "stderr",
     "output_type": "stream",
     "text": [
      "Val Epoch:9: 1it [00:00,  1.56it/s]\u001b[32m [repeated 13x across cluster]\u001b[0m\n",
      "Val Epoch:22: 0it [00:00, ?it/s]633008)\u001b[0m \n",
      "Val Epoch:22: 11it [00:00, 16.19it/s]\u001b[32m [repeated 14x across cluster]\u001b[0m\n"
     ]
    },
    {
     "name": "stdout",
     "output_type": "stream",
     "text": [
      "\u001b[36m(tune_with_parameters pid=2652194)\u001b[0m loss: 0.275\u001b[32m [repeated 14x across cluster]\u001b[0m\n"
     ]
    },
    {
     "name": "stderr",
     "output_type": "stream",
     "text": [
      "Val Epoch:10: 0it [00:00, ?it/s]652194)\u001b[0m \n",
      "Val Epoch:10: 1it [00:00,  1.45it/s]\u001b[32m [repeated 10x across cluster]\u001b[0m\n"
     ]
    },
    {
     "name": "stdout",
     "output_type": "stream",
     "text": [
      "\u001b[36m(tune_with_parameters pid=2633008)\u001b[0m loss: 0.580\u001b[32m [repeated 16x across cluster]\u001b[0m\n"
     ]
    },
    {
     "name": "stderr",
     "output_type": "stream",
     "text": [
      "Val Epoch:23: 0it [00:00, ?it/s]633008)\u001b[0m \n"
     ]
    },
    {
     "name": "stdout",
     "output_type": "stream",
     "text": [
      "\u001b[36m(tune_with_parameters pid=2652194)\u001b[0m loss: 0.304\u001b[32m [repeated 13x across cluster]\u001b[0m\n"
     ]
    },
    {
     "name": "stderr",
     "output_type": "stream",
     "text": [
      "Val Epoch:23: 1it [00:00,  1.69it/s]\u001b[32m [repeated 14x across cluster]\u001b[0m\n",
      "Val Epoch:23: 35it [00:01, 30.35it/s]8)\u001b[0m \n",
      "Val Epoch:11: 0it [00:00, ?it/s]652194)\u001b[0m \n"
     ]
    },
    {
     "name": "stdout",
     "output_type": "stream",
     "text": [
      "\u001b[36m(tune_with_parameters pid=2633008)\u001b[0m loss: 0.595\u001b[32m [repeated 16x across cluster]\u001b[0m\n"
     ]
    },
    {
     "name": "stderr",
     "output_type": "stream",
     "text": [
      "Val Epoch:11: 1it [00:00,  1.23it/s]\u001b[32m [repeated 11x across cluster]\u001b[0m\n",
      "Val Epoch:11: 9it [00:01, 11.86it/s]94)\u001b[0m \n",
      "Val Epoch:24: 0it [00:00, ?it/s]633008)\u001b[0m \n",
      "Val Epoch:24: 11it [00:00, 21.55it/s]\u001b[32m [repeated 13x across cluster]\u001b[0m\n"
     ]
    },
    {
     "name": "stdout",
     "output_type": "stream",
     "text": [
      "\u001b[36m(tune_with_parameters pid=2652194)\u001b[0m loss: 0.826\u001b[32m [repeated 15x across cluster]\u001b[0m\n"
     ]
    },
    {
     "name": "stderr",
     "output_type": "stream",
     "text": [
      "Val Epoch:24: 47it [00:01, 23.86it/s]8)\u001b[0m \n",
      "Val Epoch:12: 0it [00:00, ?it/s]652194)\u001b[0m \n"
     ]
    },
    {
     "name": "stdout",
     "output_type": "stream",
     "text": [
      "\u001b[36m(tune_with_parameters pid=2633008)\u001b[0m loss: 0.600\u001b[32m [repeated 15x across cluster]\u001b[0m\n"
     ]
    },
    {
     "name": "stderr",
     "output_type": "stream",
     "text": [
      "Val Epoch:12: 1it [00:00,  1.52it/s]\u001b[32m [repeated 9x across cluster]\u001b[0m\n",
      "Val Epoch:25: 0it [00:00, ?it/s]633008)\u001b[0m \n",
      "Val Epoch:25: 1it [00:00,  2.00it/s]\u001b[32m [repeated 14x across cluster]\u001b[0m\n"
     ]
    },
    {
     "name": "stdout",
     "output_type": "stream",
     "text": [
      "\u001b[36m(tune_with_parameters pid=2652194)\u001b[0m loss: 0.617\u001b[32m [repeated 13x across cluster]\u001b[0m\n"
     ]
    },
    {
     "name": "stderr",
     "output_type": "stream",
     "text": [
      "Val Epoch:13: 0it [00:00, ?it/s]652194)\u001b[0m \n",
      "Val Epoch:25: 47it [00:02, 21.76it/s]\u001b[32m [repeated 12x across cluster]\u001b[0m\n"
     ]
    },
    {
     "name": "stdout",
     "output_type": "stream",
     "text": [
      "\u001b[36m(tune_with_parameters pid=2633008)\u001b[0m loss: 0.588\u001b[32m [repeated 18x across cluster]\u001b[0m\n"
     ]
    },
    {
     "name": "stderr",
     "output_type": "stream",
     "text": [
      "Val Epoch:26: 0it [00:00, ?it/s]633008)\u001b[0m \n",
      "Val Epoch:26: 15it [00:00, 25.19it/s]\u001b[32m [repeated 17x across cluster]\u001b[0m\n"
     ]
    },
    {
     "name": "stdout",
     "output_type": "stream",
     "text": [
      "\u001b[36m(tune_with_parameters pid=2652194)\u001b[0m loss: 0.444\u001b[32m [repeated 15x across cluster]\u001b[0m\n"
     ]
    },
    {
     "name": "stderr",
     "output_type": "stream",
     "text": [
      "Val Epoch:14: 0it [00:00, ?it/s]652194)\u001b[0m \n",
      "Val Epoch:14: 5it [00:00, 13.25it/s]\u001b[32m [repeated 10x across cluster]\u001b[0m\n"
     ]
    },
    {
     "name": "stdout",
     "output_type": "stream",
     "text": [
      "\u001b[36m(tune_with_parameters pid=2633008)\u001b[0m loss: 0.589\u001b[32m [repeated 17x across cluster]\u001b[0m\n"
     ]
    },
    {
     "name": "stderr",
     "output_type": "stream",
     "text": [
      "Val Epoch:27: 0it [00:00, ?it/s]633008)\u001b[0m \n",
      "Val Epoch:27: 15it [00:00, 22.83it/s]\u001b[32m [repeated 15x across cluster]\u001b[0m\n"
     ]
    },
    {
     "name": "stdout",
     "output_type": "stream",
     "text": [
      "\u001b[36m(tune_with_parameters pid=2652194)\u001b[0m loss: 0.427\u001b[32m [repeated 12x across cluster]\u001b[0m\n"
     ]
    },
    {
     "name": "stderr",
     "output_type": "stream",
     "text": [
      "Val Epoch:27: 47it [00:01, 23.70it/s]8)\u001b[0m \n",
      "Val Epoch:15: 0it [00:00, ?it/s]652194)\u001b[0m \n",
      "Val Epoch:15: 5it [00:00, 17.75it/s]\u001b[32m [repeated 8x across cluster]\u001b[0m\n"
     ]
    },
    {
     "name": "stdout",
     "output_type": "stream",
     "text": [
      "\u001b[36m(tune_with_parameters pid=2633008)\u001b[0m loss: 0.591\u001b[32m [repeated 17x across cluster]\u001b[0m\n"
     ]
    },
    {
     "name": "stderr",
     "output_type": "stream",
     "text": [
      "Val Epoch:28: 0it [00:00, ?it/s]633008)\u001b[0m \n",
      "Val Epoch:28: 5it [00:01,  6.19it/s]\u001b[32m [repeated 12x across cluster]\u001b[0m\n"
     ]
    },
    {
     "name": "stdout",
     "output_type": "stream",
     "text": [
      "\u001b[36m(tune_with_parameters pid=2652194)\u001b[0m loss: 0.283\u001b[32m [repeated 14x across cluster]\u001b[0m\n"
     ]
    },
    {
     "name": "stderr",
     "output_type": "stream",
     "text": [
      "Val Epoch:16: 0it [00:00, ?it/s]652194)\u001b[0m \n",
      "Val Epoch:16: 1it [00:01,  1.07s/it]\u001b[32m [repeated 11x across cluster]\u001b[0m\n"
     ]
    },
    {
     "name": "stdout",
     "output_type": "stream",
     "text": [
      "\u001b[36m(tune_with_parameters pid=2633008)\u001b[0m loss: 0.583\u001b[32m [repeated 14x across cluster]\u001b[0m\n"
     ]
    },
    {
     "name": "stderr",
     "output_type": "stream",
     "text": [
      "Val Epoch:29: 0it [00:00, ?it/s]633008)\u001b[0m \n"
     ]
    },
    {
     "name": "stdout",
     "output_type": "stream",
     "text": [
      "\u001b[36m(tune_with_parameters pid=2652194)\u001b[0m loss: 0.287\u001b[32m [repeated 16x across cluster]\u001b[0m\n"
     ]
    },
    {
     "name": "stderr",
     "output_type": "stream",
     "text": [
      "Val Epoch:29: 1it [00:00,  1.03it/s]\u001b[32m [repeated 13x across cluster]\u001b[0m\n",
      "Val Epoch:17: 0it [00:00, ?it/s]652194)\u001b[0m \n"
     ]
    },
    {
     "name": "stdout",
     "output_type": "stream",
     "text": [
      "\u001b[36m(tune_with_parameters pid=2633008)\u001b[0m loss: 0.586\u001b[32m [repeated 14x across cluster]\u001b[0m\n"
     ]
    },
    {
     "name": "stderr",
     "output_type": "stream",
     "text": [
      "Val Epoch:17: 18it [00:01, 14.81it/s]\u001b[32m [repeated 17x across cluster]\u001b[0m\n",
      "Val Epoch:30: 0it [00:00, ?it/s]633008)\u001b[0m \n",
      "Val Epoch:30: 2it [00:00,  2.75it/s]\u001b[32m [repeated 9x across cluster]\u001b[0m\n"
     ]
    },
    {
     "name": "stdout",
     "output_type": "stream",
     "text": [
      "\u001b[36m(tune_with_parameters pid=2652194)\u001b[0m loss: 0.298\u001b[32m [repeated 17x across cluster]\u001b[0m\n"
     ]
    },
    {
     "name": "stderr",
     "output_type": "stream",
     "text": [
      "Val Epoch:18: 0it [00:00, ?it/s]652194)\u001b[0m \n",
      "Val Epoch:18: 17it [00:00, 25.21it/s]\u001b[32m [repeated 17x across cluster]\u001b[0m\n"
     ]
    },
    {
     "name": "stdout",
     "output_type": "stream",
     "text": [
      "\u001b[36m(tune_with_parameters pid=2633008)\u001b[0m loss: 0.597\u001b[32m [repeated 12x across cluster]\u001b[0m\n"
     ]
    },
    {
     "name": "stderr",
     "output_type": "stream",
     "text": [
      "Val Epoch:31: 0it [00:00, ?it/s]633008)\u001b[0m \n",
      "Val Epoch:18: 47it [00:02, 21.86it/s]\u001b[32m [repeated 8x across cluster]\u001b[0m\n"
     ]
    },
    {
     "name": "stdout",
     "output_type": "stream",
     "text": [
      "\u001b[36m(tune_with_parameters pid=2652194)\u001b[0m loss: 0.287\u001b[32m [repeated 19x across cluster]\u001b[0m\n"
     ]
    },
    {
     "name": "stderr",
     "output_type": "stream",
     "text": [
      "Val Epoch:19: 0it [00:00, ?it/s]652194)\u001b[0m \n",
      "Val Epoch:19: 16it [00:01, 22.46it/s]4)\u001b[0m \n",
      "Val Epoch:19: 8it [00:00, 13.17it/s]\u001b[32m [repeated 16x across cluster]\u001b[0m\n"
     ]
    },
    {
     "name": "stdout",
     "output_type": "stream",
     "text": [
      "\u001b[36m(tune_with_parameters pid=2633008)\u001b[0m loss: 0.593\u001b[32m [repeated 12x across cluster]\u001b[0m\n"
     ]
    },
    {
     "name": "stderr",
     "output_type": "stream",
     "text": [
      "Val Epoch:32: 0it [00:00, ?it/s]633008)\u001b[0m \n",
      "Val Epoch:19: 47it [00:02, 19.20it/s]\u001b[32m [repeated 8x across cluster]\u001b[0m\n"
     ]
    },
    {
     "name": "stdout",
     "output_type": "stream",
     "text": [
      "\u001b[36m(tune_with_parameters pid=2652194)\u001b[0m loss: 0.507\u001b[32m [repeated 18x across cluster]\u001b[0m\n"
     ]
    },
    {
     "name": "stderr",
     "output_type": "stream",
     "text": [
      "Val Epoch:20: 0it [00:00, ?it/s]652194)\u001b[0m \n",
      "Val Epoch:20: 10it [00:00, 20.40it/s]\u001b[32m [repeated 16x across cluster]\u001b[0m\n"
     ]
    },
    {
     "name": "stdout",
     "output_type": "stream",
     "text": [
      "\u001b[36m(tune_with_parameters pid=2633008)\u001b[0m loss: 0.599\u001b[32m [repeated 10x across cluster]\u001b[0m\n"
     ]
    },
    {
     "name": "stderr",
     "output_type": "stream",
     "text": [
      "Val Epoch:33: 0it [00:00, ?it/s]633008)\u001b[0m \n",
      "Val Epoch:20: 47it [00:01, 23.73it/s]\u001b[32m [repeated 9x across cluster]\u001b[0m\n"
     ]
    },
    {
     "name": "stdout",
     "output_type": "stream",
     "text": [
      "\u001b[36m(tune_with_parameters pid=2652194)\u001b[0m loss: 0.294\u001b[32m [repeated 21x across cluster]\u001b[0m\n"
     ]
    },
    {
     "name": "stderr",
     "output_type": "stream",
     "text": [
      "Val Epoch:21: 0it [00:00, ?it/s]652194)\u001b[0m \n",
      "Val Epoch:21: 45it [00:01, 25.18it/s]\u001b[32m [repeated 25x across cluster]\u001b[0m\n"
     ]
    },
    {
     "name": "stdout",
     "output_type": "stream",
     "text": [
      "\u001b[36m(tune_with_parameters pid=2633008)\u001b[0m loss: 0.592\u001b[32m [repeated 11x across cluster]\u001b[0m\n"
     ]
    },
    {
     "name": "stderr",
     "output_type": "stream",
     "text": [
      "Val Epoch:34: 0it [00:00, ?it/s]633008)\u001b[0m \n",
      "Val Epoch:34: 1it [00:00,  2.69it/s]\u001b[32m [repeated 2x across cluster]\u001b[0m\n"
     ]
    },
    {
     "name": "stdout",
     "output_type": "stream",
     "text": [
      "\u001b[36m(tune_with_parameters pid=2652194)\u001b[0m loss: 0.344\u001b[32m [repeated 20x across cluster]\u001b[0m\n"
     ]
    },
    {
     "name": "stderr",
     "output_type": "stream",
     "text": [
      "Val Epoch:22: 0it [00:00, ?it/s]652194)\u001b[0m \n"
     ]
    },
    {
     "name": "stdout",
     "output_type": "stream",
     "text": [
      "\u001b[36m(tune_with_parameters pid=2633008)\u001b[0m loss: 0.586\u001b[32m [repeated 11x across cluster]\u001b[0m\n"
     ]
    },
    {
     "name": "stderr",
     "output_type": "stream",
     "text": [
      "Val Epoch:22: 47it [00:02, 18.19it/s]\u001b[32m [repeated 24x across cluster]\u001b[0m\n",
      "Val Epoch:35: 0it [00:00, ?it/s]633008)\u001b[0m \n"
     ]
    },
    {
     "name": "stdout",
     "output_type": "stream",
     "text": [
      "\u001b[36m(tune_with_parameters pid=2652194)\u001b[0m loss: 0.287\u001b[32m [repeated 23x across cluster]\u001b[0m\n"
     ]
    },
    {
     "name": "stderr",
     "output_type": "stream",
     "text": [
      "Val Epoch:23: 0it [00:00, ?it/s]652194)\u001b[0m \n",
      "Val Epoch:23: 35it [00:01, 21.67it/s]\u001b[32m [repeated 23x across cluster]\u001b[0m\n"
     ]
    },
    {
     "name": "stdout",
     "output_type": "stream",
     "text": [
      "\u001b[36m(tune_with_parameters pid=2633008)\u001b[0m loss: 0.591\u001b[32m [repeated 12x across cluster]\u001b[0m\n"
     ]
    },
    {
     "name": "stderr",
     "output_type": "stream",
     "text": [
      "Val Epoch:36: 0it [00:00, ?it/s]633008)\u001b[0m \n",
      "Val Epoch:36: 1it [00:00,  1.82it/s]\u001b[32m [repeated 4x across cluster]\u001b[0m\n",
      "Val Epoch:24: 0it [00:00, ?it/s]652194)\u001b[0m \n"
     ]
    },
    {
     "name": "stdout",
     "output_type": "stream",
     "text": [
      "\u001b[36m(tune_with_parameters pid=2633008)\u001b[0m loss: 0.575\u001b[32m [repeated 19x across cluster]\u001b[0m\n",
      "\u001b[36m(tune_with_parameters pid=2652194)\u001b[0m /tmp/tmptms5yy5g/checkpoint.pt\n"
     ]
    },
    {
     "name": "stderr",
     "output_type": "stream",
     "text": [
      "\u001b[36m(tune_with_parameters pid=2652194)\u001b[0m Checkpoint successfully created at: Checkpoint(filesystem=local, path=/scratch/users/k23058970/Model training/results/Complex Peak LSTM Null/tune_with_parameters_2024-08-19_22-55-16/tune_with_parameters_cf806_00002_2_dp=0.2500,hidden_size=400,lr=0.0633,num_layers=2_2024-08-19_22-55-55/checkpoint_000007)\n",
      "Val Epoch:24: 47it [00:02, 18.40it/s]\u001b[32m [repeated 26x across cluster]\u001b[0m\n"
     ]
    },
    {
     "name": "stdout",
     "output_type": "stream",
     "text": [
      "\u001b[36m(tune_with_parameters pid=2652194)\u001b[0m loss: 0.278\u001b[32m [repeated 20x across cluster]\u001b[0m\n"
     ]
    },
    {
     "name": "stderr",
     "output_type": "stream",
     "text": [
      "Val Epoch:37: 0it [00:00, ?it/s]633008)\u001b[0m \n",
      "Val Epoch:37: 24it [00:01, 25.05it/s]\u001b[32m [repeated 7x across cluster]\u001b[0m\n"
     ]
    },
    {
     "name": "stdout",
     "output_type": "stream",
     "text": [
      "\u001b[36m(tune_with_parameters pid=2633008)\u001b[0m loss: 0.593\u001b[32m [repeated 12x across cluster]\u001b[0m\n"
     ]
    },
    {
     "name": "stderr",
     "output_type": "stream",
     "text": [
      "Val Epoch:25: 0it [00:00, ?it/s]652194)\u001b[0m \n",
      "Val Epoch:25: 33it [00:01, 32.58it/s]\u001b[32m [repeated 14x across cluster]\u001b[0m\n",
      "Val Epoch:38: 0it [00:00, ?it/s]633008)\u001b[0m \n"
     ]
    },
    {
     "name": "stdout",
     "output_type": "stream",
     "text": [
      "\u001b[36m(tune_with_parameters pid=2652194)\u001b[0m loss: 0.275\u001b[32m [repeated 19x across cluster]\u001b[0m\n"
     ]
    },
    {
     "name": "stderr",
     "output_type": "stream",
     "text": [
      "Val Epoch:38: 19it [00:01, 24.87it/s]\u001b[32m [repeated 9x across cluster]\u001b[0m\n",
      "Val Epoch:26: 0it [00:00, ?it/s]652194)\u001b[0m \n"
     ]
    },
    {
     "name": "stdout",
     "output_type": "stream",
     "text": [
      "\u001b[36m(tune_with_parameters pid=2633008)\u001b[0m loss: 0.585\u001b[32m [repeated 14x across cluster]\u001b[0m\n"
     ]
    },
    {
     "name": "stderr",
     "output_type": "stream",
     "text": [
      "Val Epoch:26: 40it [00:02, 31.55it/s]\u001b[32m [repeated 18x across cluster]\u001b[0m\n",
      "Val Epoch:39: 0it [00:00, ?it/s]633008)\u001b[0m \n"
     ]
    },
    {
     "name": "stdout",
     "output_type": "stream",
     "text": [
      "\u001b[36m(tune_with_parameters pid=2652194)\u001b[0m loss: 0.284\u001b[32m [repeated 17x across cluster]\u001b[0m\n"
     ]
    },
    {
     "name": "stderr",
     "output_type": "stream",
     "text": [
      "Val Epoch:39: 26it [00:01, 24.14it/s]\u001b[32m [repeated 9x across cluster]\u001b[0m\n",
      "Val Epoch:27: 0it [00:00, ?it/s]652194)\u001b[0m \n"
     ]
    },
    {
     "name": "stdout",
     "output_type": "stream",
     "text": [
      "\u001b[36m(tune_with_parameters pid=2633008)\u001b[0m loss: 0.607\u001b[32m [repeated 15x across cluster]\u001b[0m\n"
     ]
    },
    {
     "name": "stderr",
     "output_type": "stream",
     "text": [
      "Val Epoch:27: 44it [00:01, 27.17it/s]\u001b[32m [repeated 17x across cluster]\u001b[0m\n",
      "Val Epoch:40: 0it [00:00, ?it/s]633008)\u001b[0m \n",
      "Val Epoch:40: 20it [00:01, 20.17it/s]\u001b[32m [repeated 7x across cluster]\u001b[0m\n"
     ]
    },
    {
     "name": "stdout",
     "output_type": "stream",
     "text": [
      "\u001b[36m(tune_with_parameters pid=2652194)\u001b[0m loss: 0.279\u001b[32m [repeated 16x across cluster]\u001b[0m\n"
     ]
    },
    {
     "name": "stderr",
     "output_type": "stream",
     "text": [
      "Val Epoch:28: 0it [00:00, ?it/s]652194)\u001b[0m \n"
     ]
    },
    {
     "name": "stdout",
     "output_type": "stream",
     "text": [
      "\u001b[36m(tune_with_parameters pid=2633008)\u001b[0m loss: 0.587\u001b[32m [repeated 13x across cluster]\u001b[0m\n"
     ]
    },
    {
     "name": "stderr",
     "output_type": "stream",
     "text": [
      "Val Epoch:28: 39it [00:01, 22.82it/s]\u001b[32m [repeated 18x across cluster]\u001b[0m\n",
      "Val Epoch:41: 0it [00:00, ?it/s]633008)\u001b[0m \n",
      "Val Epoch:41: 11it [00:00, 17.66it/s]\u001b[32m [repeated 7x across cluster]\u001b[0m\n"
     ]
    },
    {
     "name": "stdout",
     "output_type": "stream",
     "text": [
      "\u001b[36m(tune_with_parameters pid=2652194)\u001b[0m loss: 0.285\u001b[32m [repeated 18x across cluster]\u001b[0m\n"
     ]
    },
    {
     "name": "stderr",
     "output_type": "stream",
     "text": [
      "Val Epoch:29: 0it [00:00, ?it/s]652194)\u001b[0m \n",
      "Val Epoch:29: 46it [00:01, 34.98it/s]\u001b[32m [repeated 20x across cluster]\u001b[0m\n"
     ]
    },
    {
     "name": "stdout",
     "output_type": "stream",
     "text": [
      "\u001b[36m(tune_with_parameters pid=2633008)\u001b[0m loss: 0.585\u001b[32m [repeated 14x across cluster]\u001b[0m\n"
     ]
    },
    {
     "name": "stderr",
     "output_type": "stream",
     "text": [
      "Val Epoch:42: 0it [00:00, ?it/s]633008)\u001b[0m \n",
      "Val Epoch:42: 29it [00:01, 35.34it/s]\u001b[32m [repeated 9x across cluster]\u001b[0m\n"
     ]
    },
    {
     "name": "stdout",
     "output_type": "stream",
     "text": [
      "\u001b[36m(tune_with_parameters pid=2652194)\u001b[0m loss: 0.285\u001b[32m [repeated 20x across cluster]\u001b[0m\n"
     ]
    },
    {
     "name": "stderr",
     "output_type": "stream",
     "text": [
      "Val Epoch:30: 0it [00:00, ?it/s]652194)\u001b[0m \n",
      "Val Epoch:30: 47it [00:02, 17.97it/s]\u001b[32m [repeated 18x across cluster]\u001b[0m\n"
     ]
    },
    {
     "name": "stdout",
     "output_type": "stream",
     "text": [
      "\u001b[36m(tune_with_parameters pid=2633008)\u001b[0m loss: 0.595\u001b[32m [repeated 12x across cluster]\u001b[0m\n"
     ]
    },
    {
     "name": "stderr",
     "output_type": "stream",
     "text": [
      "Val Epoch:43: 0it [00:00, ?it/s]633008)\u001b[0m \n",
      "Val Epoch:43: 25it [00:01, 22.97it/s]\u001b[32m [repeated 8x across cluster]\u001b[0m\n"
     ]
    },
    {
     "name": "stdout",
     "output_type": "stream",
     "text": [
      "\u001b[36m(tune_with_parameters pid=2633008)\u001b[0m loss: 0.568\u001b[32m [repeated 17x across cluster]\u001b[0m\n"
     ]
    },
    {
     "name": "stderr",
     "output_type": "stream",
     "text": [
      "Val Epoch:31: 0it [00:00, ?it/s]652194)\u001b[0m \n",
      "Val Epoch:31: 31it [00:02, 21.59it/s]\u001b[32m [repeated 14x across cluster]\u001b[0m\n"
     ]
    },
    {
     "name": "stdout",
     "output_type": "stream",
     "text": [
      "\u001b[36m(tune_with_parameters pid=2633008)\u001b[0m loss: 0.581\u001b[32m [repeated 15x across cluster]\u001b[0m\n"
     ]
    },
    {
     "name": "stderr",
     "output_type": "stream",
     "text": [
      "Val Epoch:44: 0it [00:00, ?it/s]633008)\u001b[0m \n",
      "Val Epoch:44: 9it [00:00, 13.13it/s]\u001b[32m [repeated 8x across cluster]\u001b[0m\n"
     ]
    },
    {
     "name": "stdout",
     "output_type": "stream",
     "text": [
      "\u001b[36m(tune_with_parameters pid=2633008)\u001b[0m loss: 0.501\u001b[32m [repeated 16x across cluster]\u001b[0m\n"
     ]
    },
    {
     "name": "stderr",
     "output_type": "stream",
     "text": [
      "Val Epoch:32: 0it [00:00, ?it/s]652194)\u001b[0m \n",
      "Val Epoch:32: 9it [00:00, 14.26it/s]94)\u001b[0m \n",
      "Val Epoch:32: 43it [00:01, 35.53it/s]\u001b[32m [repeated 17x across cluster]\u001b[0m\n"
     ]
    },
    {
     "name": "stdout",
     "output_type": "stream",
     "text": [
      "\u001b[36m(tune_with_parameters pid=2633008)\u001b[0m loss: 0.592\u001b[32m [repeated 16x across cluster]\u001b[0m\n"
     ]
    },
    {
     "name": "stderr",
     "output_type": "stream",
     "text": [
      "Val Epoch:45: 0it [00:00, ?it/s]633008)\u001b[0m \n",
      "Val Epoch:45: 1it [00:00,  3.95it/s]\u001b[32m [repeated 2x across cluster]\u001b[0m\n",
      "Val Epoch:33: 0it [00:00, ?it/s]652194)\u001b[0m \n"
     ]
    },
    {
     "name": "stdout",
     "output_type": "stream",
     "text": [
      "\u001b[36m(tune_with_parameters pid=2633008)\u001b[0m loss: 0.650\u001b[32m [repeated 16x across cluster]\u001b[0m\n",
      "\u001b[36m(tune_with_parameters pid=2633008)\u001b[0m loss: 0.594\u001b[32m [repeated 21x across cluster]\u001b[0m\n"
     ]
    },
    {
     "name": "stderr",
     "output_type": "stream",
     "text": [
      "Val Epoch:33: 47it [00:01, 28.84it/s]\u001b[32m [repeated 24x across cluster]\u001b[0m\n",
      "Val Epoch:46: 0it [00:00, ?it/s]633008)\u001b[0m \n",
      "Val Epoch:34: 0it [00:00, ?it/s]652194)\u001b[0m \n"
     ]
    },
    {
     "name": "stdout",
     "output_type": "stream",
     "text": [
      "\u001b[36m(tune_with_parameters pid=2633008)\u001b[0m loss: 0.603\u001b[32m [repeated 10x across cluster]\u001b[0m\n"
     ]
    },
    {
     "name": "stderr",
     "output_type": "stream",
     "text": [
      "Val Epoch:34: 46it [00:02, 28.61it/s]\u001b[32m [repeated 27x across cluster]\u001b[0m\n",
      "Val Epoch:47: 0it [00:00, ?it/s]633008)\u001b[0m \n",
      "Val Epoch:34: 47it [00:03, 15.33it/s]4)\u001b[0m \n"
     ]
    },
    {
     "name": "stdout",
     "output_type": "stream",
     "text": [
      "\u001b[36m(tune_with_parameters pid=2652194)\u001b[0m loss: 0.281\u001b[32m [repeated 23x across cluster]\u001b[0m\n"
     ]
    },
    {
     "name": "stderr",
     "output_type": "stream",
     "text": [
      "Val Epoch:47: 1it [00:00,  2.36it/s]08)\u001b[0m \n",
      "Val Epoch:47: 6it [00:00, 13.97it/s]08)\u001b[0m \n",
      "Val Epoch:47: 11it [00:00, 21.61it/s]8)\u001b[0m \n",
      "Val Epoch:47: 16it [00:00, 26.49it/s]8)\u001b[0m \n",
      "Val Epoch:47: 20it [00:00, 27.70it/s]8)\u001b[0m \n",
      "Val Epoch:47: 24it [00:01, 30.12it/s]8)\u001b[0m \n",
      "Val Epoch:47: 28it [00:01, 30.73it/s]8)\u001b[0m \n",
      "Val Epoch:47: 32it [00:01, 31.52it/s]8)\u001b[0m \n",
      "Val Epoch:47: 36it [00:01, 33.49it/s]8)\u001b[0m \n",
      "Val Epoch:47: 40it [00:01, 23.08it/s]8)\u001b[0m \n",
      "Val Epoch:47: 43it [00:01, 23.88it/s]8)\u001b[0m \n"
     ]
    },
    {
     "name": "stdout",
     "output_type": "stream",
     "text": [
      "\u001b[36m(tune_with_parameters pid=2652194)\u001b[0m \n"
     ]
    },
    {
     "name": "stderr",
     "output_type": "stream",
     "text": [
      "Val Epoch:47: 47it [00:01, 23.99it/s]8)\u001b[0m \n",
      "Val Epoch:35: 0it [00:00, ?it/s]652194)\u001b[0m \n"
     ]
    },
    {
     "name": "stdout",
     "output_type": "stream",
     "text": [
      "\u001b[36m(tune_with_parameters pid=2633008)\u001b[0m loss: 0.608\u001b[32m [repeated 12x across cluster]\u001b[0m\n"
     ]
    },
    {
     "name": "stderr",
     "output_type": "stream",
     "text": [
      "Val Epoch:35: 47it [00:02, 17.95it/s]\u001b[32m [repeated 13x across cluster]\u001b[0m\n",
      "Val Epoch:48: 0it [00:00, ?it/s]633008)\u001b[0m \n"
     ]
    },
    {
     "name": "stdout",
     "output_type": "stream",
     "text": [
      "\u001b[36m(tune_with_parameters pid=2652194)\u001b[0m loss: 0.276\u001b[32m [repeated 18x across cluster]\u001b[0m\n"
     ]
    },
    {
     "name": "stderr",
     "output_type": "stream",
     "text": [
      "Val Epoch:36: 0it [00:00, ?it/s]652194)\u001b[0m \n",
      "Val Epoch:36: 17it [00:00, 27.58it/s]\u001b[32m [repeated 19x across cluster]\u001b[0m\n"
     ]
    },
    {
     "name": "stdout",
     "output_type": "stream",
     "text": [
      "\u001b[36m(tune_with_parameters pid=2633008)\u001b[0m loss: 0.596\u001b[32m [repeated 13x across cluster]\u001b[0m\n"
     ]
    },
    {
     "name": "stderr",
     "output_type": "stream",
     "text": [
      "Val Epoch:49: 0it [00:00, ?it/s]633008)\u001b[0m \n",
      "Val Epoch:49: 1it [00:00,  1.51it/s]\u001b[32m [repeated 9x across cluster]\u001b[0m\n"
     ]
    },
    {
     "name": "stdout",
     "output_type": "stream",
     "text": [
      "\u001b[36m(tune_with_parameters pid=2652194)\u001b[0m loss: 0.274\u001b[32m [repeated 18x across cluster]\u001b[0m\n"
     ]
    },
    {
     "name": "stderr",
     "output_type": "stream",
     "text": [
      "Val Epoch:37: 0it [00:00, ?it/s]652194)\u001b[0m \n",
      "Val Epoch:37: 31it [00:01, 28.48it/s]\u001b[32m [repeated 21x across cluster]\u001b[0m\n",
      "\u001b[36m(tune_with_parameters pid=2652194)\u001b[0m \n"
     ]
    },
    {
     "name": "stdout",
     "output_type": "stream",
     "text": [
      "\u001b[36m(tune_with_parameters pid=2633008)\u001b[0m loss: 0.592\u001b[32m [repeated 15x across cluster]\u001b[0m\n"
     ]
    },
    {
     "name": "stderr",
     "output_type": "stream",
     "text": [
      "Val Epoch:50: 0it [00:00, ?it/s]633008)\u001b[0m \n",
      "Val Epoch:50: 18it [00:01, 19.02it/s]\u001b[32m [repeated 9x across cluster]\u001b[0m\n"
     ]
    },
    {
     "name": "stdout",
     "output_type": "stream",
     "text": [
      "\u001b[36m(tune_with_parameters pid=2633008)\u001b[0m loss: 0.606\u001b[32m [repeated 17x across cluster]\u001b[0m\n"
     ]
    },
    {
     "name": "stderr",
     "output_type": "stream",
     "text": [
      "Val Epoch:38: 0it [00:00, ?it/s]652194)\u001b[0m \n",
      "Val Epoch:38: 25it [00:01, 26.95it/s]\u001b[32m [repeated 14x across cluster]\u001b[0m\n"
     ]
    },
    {
     "name": "stdout",
     "output_type": "stream",
     "text": [
      "\u001b[36m(tune_with_parameters pid=2652194)\u001b[0m loss: 0.242\u001b[32m [repeated 15x across cluster]\u001b[0m\n"
     ]
    },
    {
     "name": "stderr",
     "output_type": "stream",
     "text": [
      "Val Epoch:51: 0it [00:00, ?it/s]633008)\u001b[0m \n",
      "Val Epoch:51: 25it [00:01, 31.85it/s]\u001b[32m [repeated 12x across cluster]\u001b[0m\n"
     ]
    },
    {
     "name": "stdout",
     "output_type": "stream",
     "text": [
      "\u001b[36m(tune_with_parameters pid=2652194)\u001b[0m loss: 0.278\u001b[32m [repeated 16x across cluster]\u001b[0m\n"
     ]
    },
    {
     "name": "stderr",
     "output_type": "stream",
     "text": [
      "Val Epoch:39: 0it [00:00, ?it/s]652194)\u001b[0m \n",
      "Val Epoch:39: 13it [00:00, 24.19it/s]4)\u001b[0m \n",
      "Val Epoch:39: 36it [00:01, 31.93it/s]\u001b[32m [repeated 12x across cluster]\u001b[0m\n",
      "Val Epoch:39: 47it [00:01, 27.88it/s]4)\u001b[0m \n"
     ]
    },
    {
     "name": "stdout",
     "output_type": "stream",
     "text": [
      "\u001b[36m(tune_with_parameters pid=2652194)\u001b[0m loss: 0.264\u001b[32m [repeated 19x across cluster]\u001b[0m\n"
     ]
    },
    {
     "name": "stderr",
     "output_type": "stream",
     "text": [
      "Val Epoch:52: 0it [00:00, ?it/s]633008)\u001b[0m \n",
      "Val Epoch:52: 27it [00:01, 28.92it/s]\u001b[32m [repeated 8x across cluster]\u001b[0m\n",
      "Val Epoch:40: 0it [00:00, ?it/s]652194)\u001b[0m \n"
     ]
    },
    {
     "name": "stdout",
     "output_type": "stream",
     "text": [
      "\u001b[36m(tune_with_parameters pid=2633008)\u001b[0m loss: 0.581\u001b[32m [repeated 16x across cluster]\u001b[0m\n"
     ]
    },
    {
     "name": "stderr",
     "output_type": "stream",
     "text": [
      "Val Epoch:40: 41it [00:01, 29.44it/s]\u001b[32m [repeated 16x across cluster]\u001b[0m\n",
      "Val Epoch:53: 0it [00:00, ?it/s]633008)\u001b[0m \n"
     ]
    },
    {
     "name": "stdout",
     "output_type": "stream",
     "text": [
      "\u001b[36m(tune_with_parameters pid=2652194)\u001b[0m loss: 0.270\u001b[32m [repeated 17x across cluster]\u001b[0m\n"
     ]
    },
    {
     "name": "stderr",
     "output_type": "stream",
     "text": [
      "Val Epoch:53: 40it [00:02, 25.29it/s]\u001b[32m [repeated 12x across cluster]\u001b[0m\n",
      "Val Epoch:41: 0it [00:00, ?it/s]652194)\u001b[0m \n"
     ]
    },
    {
     "name": "stdout",
     "output_type": "stream",
     "text": [
      "\u001b[36m(tune_with_parameters pid=2633008)\u001b[0m loss: 0.591\u001b[32m [repeated 16x across cluster]\u001b[0m\n"
     ]
    },
    {
     "name": "stderr",
     "output_type": "stream",
     "text": [
      "Val Epoch:41: 36it [00:02, 27.98it/s]\u001b[32m [repeated 14x across cluster]\u001b[0m\n",
      "Val Epoch:41: 47it [00:02, 18.17it/s]4)\u001b[0m \n",
      "Val Epoch:54: 0it [00:00, ?it/s]633008)\u001b[0m \n"
     ]
    },
    {
     "name": "stdout",
     "output_type": "stream",
     "text": [
      "\u001b[36m(tune_with_parameters pid=2652194)\u001b[0m loss: 0.283\u001b[32m [repeated 16x across cluster]\u001b[0m\n"
     ]
    },
    {
     "name": "stderr",
     "output_type": "stream",
     "text": [
      "Val Epoch:54: 38it [00:02, 20.75it/s]\u001b[32m [repeated 13x across cluster]\u001b[0m\n",
      "Val Epoch:42: 0it [00:00, ?it/s]652194)\u001b[0m \n"
     ]
    },
    {
     "name": "stdout",
     "output_type": "stream",
     "text": [
      "\u001b[36m(tune_with_parameters pid=2633008)\u001b[0m loss: 0.588\u001b[32m [repeated 14x across cluster]\u001b[0m\n"
     ]
    },
    {
     "name": "stderr",
     "output_type": "stream",
     "text": [
      "Val Epoch:42: 43it [00:01, 26.56it/s]\u001b[32m [repeated 13x across cluster]\u001b[0m\n",
      "Val Epoch:55: 0it [00:00, ?it/s]633008)\u001b[0m \n"
     ]
    },
    {
     "name": "stdout",
     "output_type": "stream",
     "text": [
      "\u001b[36m(tune_with_parameters pid=2652194)\u001b[0m loss: 0.274\u001b[32m [repeated 16x across cluster]\u001b[0m\n"
     ]
    },
    {
     "name": "stderr",
     "output_type": "stream",
     "text": [
      "Val Epoch:55: 46it [00:02, 22.08it/s]\u001b[32m [repeated 14x across cluster]\u001b[0m\n",
      "Val Epoch:43: 0it [00:00, ?it/s]652194)\u001b[0m \n"
     ]
    },
    {
     "name": "stdout",
     "output_type": "stream",
     "text": [
      "\u001b[36m(tune_with_parameters pid=2633008)\u001b[0m loss: 0.590\u001b[32m [repeated 14x across cluster]\u001b[0m\n"
     ]
    },
    {
     "name": "stderr",
     "output_type": "stream",
     "text": [
      "Val Epoch:43: 42it [00:01, 17.96it/s]\u001b[32m [repeated 12x across cluster]\u001b[0m\n",
      "Val Epoch:56: 0it [00:00, ?it/s]633008)\u001b[0m \n"
     ]
    },
    {
     "name": "stdout",
     "output_type": "stream",
     "text": [
      "\u001b[36m(tune_with_parameters pid=2652194)\u001b[0m loss: 0.276\u001b[32m [repeated 16x across cluster]\u001b[0m\n"
     ]
    },
    {
     "name": "stderr",
     "output_type": "stream",
     "text": [
      "Val Epoch:56: 45it [00:02, 18.90it/s]\u001b[32m [repeated 14x across cluster]\u001b[0m\n",
      "Val Epoch:44: 0it [00:00, ?it/s]652194)\u001b[0m \n"
     ]
    },
    {
     "name": "stdout",
     "output_type": "stream",
     "text": [
      "\u001b[36m(tune_with_parameters pid=2633008)\u001b[0m loss: 0.587\u001b[32m [repeated 15x across cluster]\u001b[0m\n"
     ]
    },
    {
     "name": "stderr",
     "output_type": "stream",
     "text": [
      "Val Epoch:44: 47it [00:02, 19.66it/s]\u001b[32m [repeated 13x across cluster]\u001b[0m\n",
      "Val Epoch:57: 0it [00:00, ?it/s]633008)\u001b[0m \n"
     ]
    },
    {
     "name": "stdout",
     "output_type": "stream",
     "text": [
      "\u001b[36m(tune_with_parameters pid=2652194)\u001b[0m loss: 0.275\u001b[32m [repeated 16x across cluster]\u001b[0m\n"
     ]
    },
    {
     "name": "stderr",
     "output_type": "stream",
     "text": [
      "Val Epoch:45: 0it [00:00, ?it/s]652194)\u001b[0m \n",
      "Val Epoch:45: 20it [00:00, 31.78it/s]\u001b[32m [repeated 18x across cluster]\u001b[0m\n"
     ]
    },
    {
     "name": "stdout",
     "output_type": "stream",
     "text": [
      "\u001b[36m(tune_with_parameters pid=2633008)\u001b[0m loss: 0.585\u001b[32m [repeated 14x across cluster]\u001b[0m\n"
     ]
    },
    {
     "name": "stderr",
     "output_type": "stream",
     "text": [
      "Val Epoch:58: 0it [00:00, ?it/s]633008)\u001b[0m \n",
      "Val Epoch:45: 47it [00:01, 28.53it/s]\u001b[32m [repeated 7x across cluster]\u001b[0m\n"
     ]
    },
    {
     "name": "stdout",
     "output_type": "stream",
     "text": [
      "\u001b[36m(tune_with_parameters pid=2652194)\u001b[0m loss: 0.281\u001b[32m [repeated 16x across cluster]\u001b[0m\n"
     ]
    },
    {
     "name": "stderr",
     "output_type": "stream",
     "text": [
      "Val Epoch:46: 0it [00:00, ?it/s]652194)\u001b[0m \n",
      "Val Epoch:46: 23it [00:01, 27.23it/s]\u001b[32m [repeated 18x across cluster]\u001b[0m\n"
     ]
    },
    {
     "name": "stdout",
     "output_type": "stream",
     "text": [
      "\u001b[36m(tune_with_parameters pid=2633008)\u001b[0m loss: 0.592\u001b[32m [repeated 16x across cluster]\u001b[0m\n"
     ]
    },
    {
     "name": "stderr",
     "output_type": "stream",
     "text": [
      "Val Epoch:59: 0it [00:00, ?it/s]633008)\u001b[0m \n",
      "Val Epoch:59: 9it [00:01,  9.42it/s]\u001b[32m [repeated 9x across cluster]\u001b[0m\n"
     ]
    },
    {
     "name": "stdout",
     "output_type": "stream",
     "text": [
      "\u001b[36m(tune_with_parameters pid=2652194)\u001b[0m loss: 0.272\u001b[32m [repeated 15x across cluster]\u001b[0m\n"
     ]
    },
    {
     "name": "stderr",
     "output_type": "stream",
     "text": [
      "Val Epoch:47: 0it [00:00, ?it/s]652194)\u001b[0m \n",
      "Val Epoch:47: 16it [00:01, 16.40it/s]\u001b[32m [repeated 16x across cluster]\u001b[0m\n"
     ]
    },
    {
     "name": "stdout",
     "output_type": "stream",
     "text": [
      "\u001b[36m(tune_with_parameters pid=2633008)\u001b[0m loss: 0.600\u001b[32m [repeated 15x across cluster]\u001b[0m\n"
     ]
    },
    {
     "name": "stderr",
     "output_type": "stream",
     "text": [
      "Val Epoch:60: 0it [00:00, ?it/s]633008)\u001b[0m \n",
      "Val Epoch:60: 30it [00:02, 18.87it/s]\u001b[32m [repeated 16x across cluster]\u001b[0m\n"
     ]
    },
    {
     "name": "stdout",
     "output_type": "stream",
     "text": [
      "\u001b[36m(tune_with_parameters pid=2652194)\u001b[0m loss: 0.273\u001b[32m [repeated 15x across cluster]\u001b[0m\n"
     ]
    },
    {
     "name": "stderr",
     "output_type": "stream",
     "text": [
      "Val Epoch:48: 0it [00:00, ?it/s]652194)\u001b[0m \n",
      "Val Epoch:48: 6it [00:01,  7.39it/s]\u001b[32m [repeated 7x across cluster]\u001b[0m\n"
     ]
    },
    {
     "name": "stdout",
     "output_type": "stream",
     "text": [
      "\u001b[36m(tune_with_parameters pid=2633008)\u001b[0m loss: 0.591\u001b[32m [repeated 15x across cluster]\u001b[0m\n"
     ]
    },
    {
     "name": "stderr",
     "output_type": "stream",
     "text": [
      "Val Epoch:61: 0it [00:00, ?it/s]633008)\u001b[0m \n",
      "Val Epoch:61: 21it [00:01, 23.55it/s]\u001b[32m [repeated 17x across cluster]\u001b[0m\n"
     ]
    },
    {
     "name": "stdout",
     "output_type": "stream",
     "text": [
      "\u001b[36m(tune_with_parameters pid=2652194)\u001b[0m loss: 0.274\u001b[32m [repeated 14x across cluster]\u001b[0m\n"
     ]
    },
    {
     "name": "stderr",
     "output_type": "stream",
     "text": [
      "Val Epoch:49: 0it [00:00, ?it/s]652194)\u001b[0m \n",
      "Val Epoch:49: 4it [00:00,  5.72it/s]94)\u001b[0m \n",
      "Val Epoch:61: 47it [00:02, 21.75it/s]\u001b[32m [repeated 8x across cluster]\u001b[0m\n"
     ]
    },
    {
     "name": "stdout",
     "output_type": "stream",
     "text": [
      "\u001b[36m(tune_with_parameters pid=2633008)\u001b[0m loss: 0.591\u001b[32m [repeated 16x across cluster]\u001b[0m\n"
     ]
    },
    {
     "name": "stderr",
     "output_type": "stream",
     "text": [
      "Val Epoch:62: 0it [00:00, ?it/s]633008)\u001b[0m \n",
      "Val Epoch:62: 25it [00:01, 27.94it/s]\u001b[32m [repeated 22x across cluster]\u001b[0m\n"
     ]
    },
    {
     "name": "stdout",
     "output_type": "stream",
     "text": [
      "\u001b[36m(tune_with_parameters pid=2652194)\u001b[0m loss: 0.275\u001b[32m [repeated 13x across cluster]\u001b[0m\n"
     ]
    },
    {
     "name": "stderr",
     "output_type": "stream",
     "text": [
      "Val Epoch:50: 0it [00:00, ?it/s]652194)\u001b[0m \n",
      "Val Epoch:50: 1it [00:01,  1.15s/it]\u001b[32m [repeated 6x across cluster]\u001b[0m\n"
     ]
    },
    {
     "name": "stdout",
     "output_type": "stream",
     "text": [
      "\u001b[36m(tune_with_parameters pid=2633008)\u001b[0m loss: 0.594\u001b[32m [repeated 17x across cluster]\u001b[0m\n"
     ]
    },
    {
     "name": "stderr",
     "output_type": "stream",
     "text": [
      "Val Epoch:63: 0it [00:00, ?it/s]633008)\u001b[0m \n",
      "Val Epoch:63: 29it [00:01, 23.69it/s]\u001b[32m [repeated 22x across cluster]\u001b[0m\n"
     ]
    },
    {
     "name": "stdout",
     "output_type": "stream",
     "text": [
      "\u001b[36m(tune_with_parameters pid=2652194)\u001b[0m loss: 0.281\u001b[32m [repeated 12x across cluster]\u001b[0m\n"
     ]
    },
    {
     "name": "stderr",
     "output_type": "stream",
     "text": [
      "Val Epoch:51: 0it [00:00, ?it/s]652194)\u001b[0m \n",
      "Val Epoch:51: 1it [00:00,  2.29it/s]\u001b[32m [repeated 6x across cluster]\u001b[0m\n"
     ]
    },
    {
     "name": "stdout",
     "output_type": "stream",
     "text": [
      "\u001b[36m(tune_with_parameters pid=2633008)\u001b[0m loss: 0.586\u001b[32m [repeated 20x across cluster]\u001b[0m\n"
     ]
    },
    {
     "name": "stderr",
     "output_type": "stream",
     "text": [
      "Val Epoch:64: 0it [00:00, ?it/s]633008)\u001b[0m \n",
      "Val Epoch:64: 29it [00:01, 26.42it/s]\u001b[32m [repeated 20x across cluster]\u001b[0m\n"
     ]
    },
    {
     "name": "stdout",
     "output_type": "stream",
     "text": [
      "\u001b[36m(tune_with_parameters pid=2652194)\u001b[0m loss: 0.283\u001b[32m [repeated 10x across cluster]\u001b[0m\n"
     ]
    },
    {
     "name": "stderr",
     "output_type": "stream",
     "text": [
      "Val Epoch:52: 0it [00:00, ?it/s]652194)\u001b[0m \n",
      "Val Epoch:64: 47it [00:02, 18.12it/s]\u001b[32m [repeated 6x across cluster]\u001b[0m\n"
     ]
    },
    {
     "name": "stdout",
     "output_type": "stream",
     "text": [
      "\u001b[36m(tune_with_parameters pid=2633008)\u001b[0m loss: 0.590\u001b[32m [repeated 19x across cluster]\u001b[0m\n"
     ]
    },
    {
     "name": "stderr",
     "output_type": "stream",
     "text": [
      "Val Epoch:65: 0it [00:00, ?it/s]633008)\u001b[0m \n",
      "Val Epoch:65: 24it [00:01, 30.89it/s]\u001b[32m [repeated 19x across cluster]\u001b[0m\n"
     ]
    },
    {
     "name": "stdout",
     "output_type": "stream",
     "text": [
      "\u001b[36m(tune_with_parameters pid=2652194)\u001b[0m loss: 0.274\u001b[32m [repeated 11x across cluster]\u001b[0m\n"
     ]
    },
    {
     "name": "stderr",
     "output_type": "stream",
     "text": [
      "Val Epoch:53: 0it [00:00, ?it/s]652194)\u001b[0m \n",
      "Val Epoch:65: 47it [00:01, 23.59it/s]\u001b[32m [repeated 6x across cluster]\u001b[0m\n"
     ]
    },
    {
     "name": "stdout",
     "output_type": "stream",
     "text": [
      "\u001b[36m(tune_with_parameters pid=2633008)\u001b[0m loss: 0.591\u001b[32m [repeated 22x across cluster]\u001b[0m\n"
     ]
    },
    {
     "name": "stderr",
     "output_type": "stream",
     "text": [
      "Val Epoch:66: 0it [00:00, ?it/s]633008)\u001b[0m \n",
      "Val Epoch:66: 29it [00:01, 25.26it/s]\u001b[32m [repeated 21x across cluster]\u001b[0m\n"
     ]
    },
    {
     "name": "stdout",
     "output_type": "stream",
     "text": [
      "\u001b[36m(tune_with_parameters pid=2652194)\u001b[0m loss: 0.274\u001b[32m [repeated 11x across cluster]\u001b[0m\n"
     ]
    },
    {
     "name": "stderr",
     "output_type": "stream",
     "text": [
      "Val Epoch:54: 0it [00:00, ?it/s]652194)\u001b[0m \n",
      "Val Epoch:54: 5it [00:01,  5.29it/s]\u001b[32m [repeated 6x across cluster]\u001b[0m\n"
     ]
    },
    {
     "name": "stdout",
     "output_type": "stream",
     "text": [
      "\u001b[36m(tune_with_parameters pid=2633008)\u001b[0m loss: 0.586\u001b[32m [repeated 18x across cluster]\u001b[0m\n"
     ]
    },
    {
     "name": "stderr",
     "output_type": "stream",
     "text": [
      "Val Epoch:67: 0it [00:00, ?it/s]633008)\u001b[0m \n",
      "Val Epoch:67: 43it [00:01, 29.55it/s]\u001b[32m [repeated 21x across cluster]\u001b[0m\n"
     ]
    },
    {
     "name": "stdout",
     "output_type": "stream",
     "text": [
      "\u001b[36m(tune_with_parameters pid=2652194)\u001b[0m loss: 0.272\u001b[32m [repeated 15x across cluster]\u001b[0m\n"
     ]
    },
    {
     "name": "stderr",
     "output_type": "stream",
     "text": [
      "Val Epoch:55: 0it [00:00, ?it/s]652194)\u001b[0m \n",
      "Val Epoch:55: 34it [00:01, 28.71it/s]\u001b[32m [repeated 10x across cluster]\u001b[0m\n"
     ]
    },
    {
     "name": "stdout",
     "output_type": "stream",
     "text": [
      "\u001b[36m(tune_with_parameters pid=2633008)\u001b[0m loss: 0.583\u001b[32m [repeated 15x across cluster]\u001b[0m\n"
     ]
    },
    {
     "name": "stderr",
     "output_type": "stream",
     "text": [
      "Val Epoch:68: 9it [00:00, 25.44it/s]08)\u001b[0m \n",
      "Val Epoch:68: 0it [00:00, ?it/s]633008)\u001b[0m \n",
      "Val Epoch:68: 47it [00:01, 28.73it/s]\u001b[32m [repeated 14x across cluster]\u001b[0m\n"
     ]
    },
    {
     "name": "stdout",
     "output_type": "stream",
     "text": [
      "\u001b[36m(tune_with_parameters pid=2633008)\u001b[0m loss: 0.595\u001b[32m [repeated 16x across cluster]\u001b[0m\n"
     ]
    },
    {
     "name": "stderr",
     "output_type": "stream",
     "text": [
      "Val Epoch:56: 0it [00:00, ?it/s]652194)\u001b[0m \n",
      "Val Epoch:56: 12it [00:00, 23.34it/s]\u001b[32m [repeated 4x across cluster]\u001b[0m\n"
     ]
    },
    {
     "name": "stdout",
     "output_type": "stream",
     "text": [
      "\u001b[36m(tune_with_parameters pid=2633008)\u001b[0m loss: 0.589\u001b[32m [repeated 15x across cluster]\u001b[0m\n"
     ]
    },
    {
     "name": "stderr",
     "output_type": "stream",
     "text": [
      "Val Epoch:69: 0it [00:00, ?it/s]633008)\u001b[0m \n",
      "Val Epoch:69: 47it [00:01, 25.38it/s]\u001b[32m [repeated 20x across cluster]\u001b[0m\n"
     ]
    },
    {
     "name": "stdout",
     "output_type": "stream",
     "text": [
      "\u001b[36m(tune_with_parameters pid=2633008)\u001b[0m loss: 0.579\u001b[32m [repeated 16x across cluster]\u001b[0m\n"
     ]
    },
    {
     "name": "stderr",
     "output_type": "stream",
     "text": [
      "Val Epoch:57: 0it [00:00, ?it/s]652194)\u001b[0m \n",
      "Val Epoch:57: 7it [00:00, 16.17it/s]\u001b[32m [repeated 3x across cluster]\u001b[0m\n"
     ]
    },
    {
     "name": "stdout",
     "output_type": "stream",
     "text": [
      "\u001b[36m(tune_with_parameters pid=2633008)\u001b[0m loss: 0.590\u001b[32m [repeated 14x across cluster]\u001b[0m\n"
     ]
    },
    {
     "name": "stderr",
     "output_type": "stream",
     "text": [
      "Val Epoch:70: 0it [00:00, ?it/s]633008)\u001b[0m \n",
      "Val Epoch:70: 17it [00:01, 23.32it/s]\u001b[32m [repeated 15x across cluster]\u001b[0m\n"
     ]
    },
    {
     "name": "stdout",
     "output_type": "stream",
     "text": [
      "\u001b[36m(tune_with_parameters pid=2633008)\u001b[0m loss: 0.561\u001b[32m [repeated 13x across cluster]\u001b[0m\n"
     ]
    },
    {
     "name": "stderr",
     "output_type": "stream",
     "text": [
      "Val Epoch:58: 0it [00:00, ?it/s]652194)\u001b[0m \n",
      "Val Epoch:70: 47it [00:02, 21.16it/s]\u001b[32m [repeated 7x across cluster]\u001b[0m\n"
     ]
    },
    {
     "name": "stdout",
     "output_type": "stream",
     "text": [
      "\u001b[36m(tune_with_parameters pid=2633008)\u001b[0m loss: 0.593\u001b[32m [repeated 17x across cluster]\u001b[0m\n"
     ]
    },
    {
     "name": "stderr",
     "output_type": "stream",
     "text": [
      "Val Epoch:71: 0it [00:00, ?it/s]633008)\u001b[0m \n",
      "Val Epoch:71: 15it [00:01, 16.12it/s]\u001b[32m [repeated 16x across cluster]\u001b[0m\n"
     ]
    },
    {
     "name": "stdout",
     "output_type": "stream",
     "text": [
      "\u001b[36m(tune_with_parameters pid=2652194)\u001b[0m \n",
      "\u001b[36m(tune_with_parameters pid=2633008)\u001b[0m loss: 0.591\u001b[32m [repeated 15x across cluster]\u001b[0m\n"
     ]
    },
    {
     "name": "stderr",
     "output_type": "stream",
     "text": [
      "Val Epoch:59: 0it [00:00, ?it/s]652194)\u001b[0m \n",
      "Val Epoch:71: 47it [00:02, 19.93it/s]\u001b[32m [repeated 7x across cluster]\u001b[0m\n"
     ]
    },
    {
     "name": "stdout",
     "output_type": "stream",
     "text": [
      "\u001b[36m(tune_with_parameters pid=2652194)\u001b[0m loss: 0.256\u001b[32m [repeated 19x across cluster]\u001b[0m\n"
     ]
    },
    {
     "name": "stderr",
     "output_type": "stream",
     "text": [
      "Val Epoch:72: 0it [00:00, ?it/s]633008)\u001b[0m \n",
      "Val Epoch:72: 7it [00:00, 16.39it/s]\u001b[32m [repeated 14x across cluster]\u001b[0m\n"
     ]
    },
    {
     "name": "stdout",
     "output_type": "stream",
     "text": [
      "\u001b[36m(tune_with_parameters pid=2633008)\u001b[0m loss: 0.591\u001b[32m [repeated 14x across cluster]\u001b[0m\n"
     ]
    },
    {
     "name": "stderr",
     "output_type": "stream",
     "text": [
      "Val Epoch:60: 0it [00:00, ?it/s]652194)\u001b[0m \n",
      "Val Epoch:60: 1it [00:01,  1.06s/it]\u001b[32m [repeated 11x across cluster]\u001b[0m\n"
     ]
    },
    {
     "name": "stdout",
     "output_type": "stream",
     "text": [
      "\u001b[36m(tune_with_parameters pid=2652194)\u001b[0m loss: 0.204\u001b[32m [repeated 14x across cluster]\u001b[0m\n"
     ]
    },
    {
     "name": "stderr",
     "output_type": "stream",
     "text": [
      "Val Epoch:73: 0it [00:00, ?it/s]633008)\u001b[0m \n",
      "Val Epoch:73: 42it [00:01, 23.73it/s]\u001b[32m [repeated 21x across cluster]\u001b[0m\n"
     ]
    },
    {
     "name": "stdout",
     "output_type": "stream",
     "text": [
      "\u001b[36m(tune_with_parameters pid=2633008)\u001b[0m loss: 0.597\u001b[32m [repeated 20x across cluster]\u001b[0m\n"
     ]
    },
    {
     "name": "stderr",
     "output_type": "stream",
     "text": [
      "Val Epoch:61: 0it [00:00, ?it/s]652194)\u001b[0m \n",
      "Val Epoch:61: 1it [00:00,  1.28it/s]\u001b[32m [repeated 3x across cluster]\u001b[0m\n"
     ]
    },
    {
     "name": "stdout",
     "output_type": "stream",
     "text": [
      "\u001b[36m(tune_with_parameters pid=2652194)\u001b[0m loss: 0.283\u001b[32m [repeated 11x across cluster]\u001b[0m\n"
     ]
    },
    {
     "name": "stderr",
     "output_type": "stream",
     "text": [
      "Val Epoch:74: 0it [00:00, ?it/s]633008)\u001b[0m \n",
      "Val Epoch:74: 40it [00:01, 33.39it/s]\u001b[32m [repeated 21x across cluster]\u001b[0m\n"
     ]
    },
    {
     "name": "stdout",
     "output_type": "stream",
     "text": [
      "\u001b[36m(tune_with_parameters pid=2652194)\u001b[0m loss: 0.281\u001b[32m [repeated 20x across cluster]\u001b[0m\n"
     ]
    },
    {
     "name": "stderr",
     "output_type": "stream",
     "text": [
      "Val Epoch:62: 0it [00:00, ?it/s]652194)\u001b[0m \n",
      "Val Epoch:62: 1it [00:01,  1.35s/it]\u001b[32m [repeated 3x across cluster]\u001b[0m\n"
     ]
    },
    {
     "name": "stdout",
     "output_type": "stream",
     "text": [
      "\u001b[36m(tune_with_parameters pid=2652194)\u001b[0m loss: 0.231\u001b[32m [repeated 9x across cluster]\u001b[0m\n"
     ]
    },
    {
     "name": "stderr",
     "output_type": "stream",
     "text": [
      "Val Epoch:75: 0it [00:00, ?it/s]633008)\u001b[0m \n"
     ]
    },
    {
     "name": "stdout",
     "output_type": "stream",
     "text": [
      "\u001b[36m(tune_with_parameters pid=2652194)\u001b[0m loss: 0.276\u001b[32m [repeated 21x across cluster]\u001b[0m\n"
     ]
    },
    {
     "name": "stderr",
     "output_type": "stream",
     "text": [
      "Val Epoch:63: 0it [00:00, ?it/s]652194)\u001b[0m \n",
      "Val Epoch:75: 47it [00:02, 16.03it/s]\u001b[32m [repeated 23x across cluster]\u001b[0m\n"
     ]
    },
    {
     "name": "stdout",
     "output_type": "stream",
     "text": [
      "\u001b[36m(tune_with_parameters pid=2652194)\u001b[0m loss: 0.362\u001b[32m [repeated 9x across cluster]\u001b[0m\n"
     ]
    },
    {
     "name": "stderr",
     "output_type": "stream",
     "text": [
      "Val Epoch:76: 0it [00:00, ?it/s]633008)\u001b[0m \n",
      "Val Epoch:76: 29it [00:02, 24.30it/s]\u001b[32m [repeated 23x across cluster]\u001b[0m\n"
     ]
    },
    {
     "name": "stdout",
     "output_type": "stream",
     "text": [
      "\u001b[36m(tune_with_parameters pid=2633008)\u001b[0m loss: 0.582\u001b[32m [repeated 23x across cluster]\u001b[0m\n"
     ]
    },
    {
     "name": "stderr",
     "output_type": "stream",
     "text": [
      "Val Epoch:64: 0it [00:00, ?it/s]652194)\u001b[0m \n",
      "Val Epoch:64: 1it [00:00,  1.53it/s]\u001b[32m [repeated 5x across cluster]\u001b[0m\n",
      "Val Epoch:77: 0it [00:00, ?it/s]633008)\u001b[0m \n"
     ]
    },
    {
     "name": "stdout",
     "output_type": "stream",
     "text": [
      "\u001b[36m(tune_with_parameters pid=2652194)\u001b[0m loss: 0.270\u001b[32m [repeated 9x across cluster]\u001b[0m\n"
     ]
    },
    {
     "name": "stderr",
     "output_type": "stream",
     "text": [
      "Val Epoch:77: 47it [00:02, 16.19it/s]\u001b[32m [repeated 26x across cluster]\u001b[0m\n",
      "Val Epoch:65: 0it [00:00, ?it/s]652194)\u001b[0m \n"
     ]
    },
    {
     "name": "stdout",
     "output_type": "stream",
     "text": [
      "\u001b[36m(tune_with_parameters pid=2633008)\u001b[0m loss: 0.590\u001b[32m [repeated 23x across cluster]\u001b[0m\n"
     ]
    },
    {
     "name": "stderr",
     "output_type": "stream",
     "text": [
      "Val Epoch:65: 1it [00:00,  1.67it/s]94)\u001b[0m \n",
      "Val Epoch:65: 5it [00:00,  8.75it/s]94)\u001b[0m \n",
      "Val Epoch:65: 8it [00:00, 13.09it/s]94)\u001b[0m \n",
      "Val Epoch:65: 11it [00:00, 16.61it/s]4)\u001b[0m \n",
      "Val Epoch:65: 16it [00:01, 23.35it/s]4)\u001b[0m \n",
      "Val Epoch:65: 20it [00:01, 20.89it/s]4)\u001b[0m \n",
      "Val Epoch:65: 24it [00:01, 24.35it/s]4)\u001b[0m \n",
      "Val Epoch:65: 29it [00:01, 29.07it/s]4)\u001b[0m \n",
      "Val Epoch:65: 33it [00:01, 26.49it/s]4)\u001b[0m \n",
      "Val Epoch:65: 38it [00:01, 30.82it/s]4)\u001b[0m \n",
      "Val Epoch:65: 43it [00:01, 34.58it/s]4)\u001b[0m \n",
      "Val Epoch:65: 47it [00:02, 23.14it/s]4)\u001b[0m \n"
     ]
    },
    {
     "name": "stdout",
     "output_type": "stream",
     "text": [
      "\u001b[36m(tune_with_parameters pid=2652194)\u001b[0m /tmp/tmpdpf5ctvg/checkpoint.pt\n"
     ]
    },
    {
     "name": "stderr",
     "output_type": "stream",
     "text": [
      "\u001b[36m(tune_with_parameters pid=2652194)\u001b[0m Checkpoint successfully created at: Checkpoint(filesystem=local, path=/scratch/users/k23058970/Model training/results/Complex Peak LSTM Null/tune_with_parameters_2024-08-19_22-55-16/tune_with_parameters_cf806_00002_2_dp=0.2500,hidden_size=400,lr=0.0633,num_layers=2_2024-08-19_22-55-55/checkpoint_000008)\n",
      "Val Epoch:78: 0it [00:00, ?it/s]633008)\u001b[0m \n",
      "Val Epoch:78: 28it [00:02, 21.18it/s]\u001b[32m [repeated 12x across cluster]\u001b[0m\n"
     ]
    },
    {
     "name": "stdout",
     "output_type": "stream",
     "text": [
      "\u001b[36m(tune_with_parameters pid=2652194)\u001b[0m loss: 0.229\u001b[32m [repeated 6x across cluster]\u001b[0m\n",
      "\u001b[36m(tune_with_parameters pid=2652194)\u001b[0m loss: 0.280\u001b[32m [repeated 21x across cluster]\u001b[0m\n"
     ]
    },
    {
     "name": "stderr",
     "output_type": "stream",
     "text": [
      "Val Epoch:66: 0it [00:00, ?it/s]652194)\u001b[0m \n",
      "Val Epoch:78: 47it [00:03, 13.18it/s]\u001b[32m [repeated 6x across cluster]\u001b[0m\n"
     ]
    },
    {
     "name": "stdout",
     "output_type": "stream",
     "text": [
      "\u001b[36m(tune_with_parameters pid=2652194)\u001b[0m loss: 0.343\u001b[32m [repeated 8x across cluster]\u001b[0m\n"
     ]
    },
    {
     "name": "stderr",
     "output_type": "stream",
     "text": [
      "Val Epoch:79: 0it [00:00, ?it/s]633008)\u001b[0m \n",
      "Val Epoch:79: 39it [00:02, 24.90it/s]\u001b[32m [repeated 22x across cluster]\u001b[0m\n"
     ]
    },
    {
     "name": "stdout",
     "output_type": "stream",
     "text": [
      "\u001b[36m(tune_with_parameters pid=2633008)\u001b[0m loss: 0.588\u001b[32m [repeated 24x across cluster]\u001b[0m\n"
     ]
    },
    {
     "name": "stderr",
     "output_type": "stream",
     "text": [
      "Val Epoch:67: 0it [00:00, ?it/s]652194)\u001b[0m \n",
      "Val Epoch:79: 47it [00:02, 16.70it/s]\u001b[32m [repeated 2x across cluster]\u001b[0m\n"
     ]
    },
    {
     "name": "stdout",
     "output_type": "stream",
     "text": [
      "\u001b[36m(tune_with_parameters pid=2652194)\u001b[0m loss: 0.222\u001b[32m [repeated 6x across cluster]\u001b[0m\n",
      "\u001b[36m(tune_with_parameters pid=2633008)\u001b[0m /tmp/tmpegihk2gz/checkpoint.pt\n"
     ]
    },
    {
     "name": "stderr",
     "output_type": "stream",
     "text": [
      "\u001b[36m(tune_with_parameters pid=2633008)\u001b[0m Checkpoint successfully created at: Checkpoint(filesystem=local, path=/scratch/users/k23058970/Model training/results/Complex Peak LSTM Null/tune_with_parameters_2024-08-19_22-55-16/tune_with_parameters_cf806_00001_1_dp=0.2000,hidden_size=100,lr=0.0118,num_layers=3_2024-08-19_22-55-55/checkpoint_000007)\n"
     ]
    },
    {
     "name": "stdout",
     "output_type": "stream",
     "text": [
      "\u001b[36m(tune_with_parameters pid=2633008)\u001b[0m loss: 0.592\u001b[32m [repeated 25x across cluster]\u001b[0m\n"
     ]
    },
    {
     "name": "stderr",
     "output_type": "stream",
     "text": [
      "Val Epoch:68: 0it [00:00, ?it/s]\u001b[32m [repeated 2x across cluster]\u001b[0m\n",
      "Val Epoch:80: 47it [00:03, 11.98it/s]\u001b[32m [repeated 23x across cluster]\u001b[0m\n"
     ]
    },
    {
     "name": "stdout",
     "output_type": "stream",
     "text": [
      "\u001b[36m(tune_with_parameters pid=2652194)\u001b[0m loss: 0.292\u001b[32m [repeated 6x across cluster]\u001b[0m\n",
      "\u001b[36m(tune_with_parameters pid=2633008)\u001b[0m loss: 0.587\u001b[32m [repeated 24x across cluster]\u001b[0m\n"
     ]
    },
    {
     "name": "stderr",
     "output_type": "stream",
     "text": [
      "Val Epoch:69: 0it [00:00, ?it/s]\u001b[32m [repeated 2x across cluster]\u001b[0m\n",
      "Val Epoch:81: 47it [00:03, 15.31it/s]\u001b[32m [repeated 25x across cluster]\u001b[0m\n"
     ]
    },
    {
     "name": "stdout",
     "output_type": "stream",
     "text": [
      "\u001b[36m(tune_with_parameters pid=2652194)\u001b[0m loss: 0.263\u001b[32m [repeated 7x across cluster]\u001b[0m\n"
     ]
    },
    {
     "name": "stderr",
     "output_type": "stream",
     "text": [
      "Val Epoch:70: 0it [00:00, ?it/s]\u001b[32m [repeated 2x across cluster]\u001b[0m\n",
      "Val Epoch:82: 47it [00:02, 20.23it/s]\u001b[32m [repeated 25x across cluster]\u001b[0m\n"
     ]
    },
    {
     "name": "stdout",
     "output_type": "stream",
     "text": [
      "\u001b[36m(tune_with_parameters pid=2633008)\u001b[0m loss: 0.586\u001b[32m [repeated 26x across cluster]\u001b[0m\n",
      "\u001b[36m(tune_with_parameters pid=2633008)\u001b[0m loss: 0.576\u001b[32m [repeated 6x across cluster]\u001b[0m\n"
     ]
    },
    {
     "name": "stderr",
     "output_type": "stream",
     "text": [
      "Val Epoch:71: 0it [00:00, ?it/s]\u001b[32m [repeated 2x across cluster]\u001b[0m\n",
      "Val Epoch:83: 47it [00:02, 18.79it/s]\u001b[32m [repeated 23x across cluster]\u001b[0m\n"
     ]
    },
    {
     "name": "stdout",
     "output_type": "stream",
     "text": [
      "\u001b[36m(tune_with_parameters pid=2633008)\u001b[0m loss: 0.588\u001b[32m [repeated 24x across cluster]\u001b[0m\n",
      "\u001b[36m(tune_with_parameters pid=2633008)\u001b[0m loss: 0.572\u001b[32m [repeated 5x across cluster]\u001b[0m\n"
     ]
    },
    {
     "name": "stderr",
     "output_type": "stream",
     "text": [
      "Val Epoch:72: 0it [00:00, ?it/s]\u001b[32m [repeated 2x across cluster]\u001b[0m\n",
      "Val Epoch:84: 47it [00:03, 14.58it/s]\u001b[32m [repeated 24x across cluster]\u001b[0m\n"
     ]
    },
    {
     "name": "stdout",
     "output_type": "stream",
     "text": [
      "\u001b[36m(tune_with_parameters pid=2633008)\u001b[0m loss: 0.588\u001b[32m [repeated 26x across cluster]\u001b[0m\n"
     ]
    },
    {
     "name": "stderr",
     "output_type": "stream",
     "text": [
      "Val Epoch:72: 47it [00:02, 18.78it/s]4)\u001b[0m \n"
     ]
    },
    {
     "name": "stdout",
     "output_type": "stream",
     "text": [
      "\u001b[36m(tune_with_parameters pid=2633008)\u001b[0m loss: 0.598\u001b[32m [repeated 9x across cluster]\u001b[0m\n"
     ]
    },
    {
     "name": "stderr",
     "output_type": "stream",
     "text": [
      "Val Epoch:73: 0it [00:00, ?it/s]\u001b[32m [repeated 2x across cluster]\u001b[0m\n",
      "Val Epoch:85: 47it [00:02, 19.21it/s]\u001b[32m [repeated 23x across cluster]\u001b[0m\n"
     ]
    },
    {
     "name": "stdout",
     "output_type": "stream",
     "text": [
      "\u001b[36m(tune_with_parameters pid=2652194)\u001b[0m loss: 0.327\u001b[32m [repeated 22x across cluster]\u001b[0m\n",
      "\u001b[36m(tune_with_parameters pid=2633008)\u001b[0m loss: 0.591\u001b[32m [repeated 24x across cluster]\u001b[0m\n"
     ]
    },
    {
     "name": "stderr",
     "output_type": "stream",
     "text": [
      "Val Epoch:74: 0it [00:00, ?it/s]\u001b[32m [repeated 2x across cluster]\u001b[0m\n",
      "Val Epoch:86: 47it [00:02, 20.05it/s]\u001b[32m [repeated 25x across cluster]\u001b[0m\n",
      "Val Epoch:74: 47it [00:03, 13.80it/s]4)\u001b[0m \n"
     ]
    },
    {
     "name": "stdout",
     "output_type": "stream",
     "text": [
      "\u001b[36m(tune_with_parameters pid=2652194)\u001b[0m loss: 0.279\u001b[32m [repeated 6x across cluster]\u001b[0m\n",
      "\u001b[36m(tune_with_parameters pid=2633008)\u001b[0m loss: 0.589\u001b[32m [repeated 24x across cluster]\u001b[0m\n"
     ]
    },
    {
     "name": "stderr",
     "output_type": "stream",
     "text": [
      "Val Epoch:75: 0it [00:00, ?it/s]\u001b[32m [repeated 2x across cluster]\u001b[0m\n",
      "Val Epoch:87: 41it [00:02, 11.41it/s]\u001b[32m [repeated 23x across cluster]\u001b[0m\n",
      "Val Epoch:87: 47it [00:02, 16.52it/s]8)\u001b[0m \n"
     ]
    },
    {
     "name": "stdout",
     "output_type": "stream",
     "text": [
      "\u001b[36m(tune_with_parameters pid=2633008)\u001b[0m loss: 0.609\u001b[32m [repeated 8x across cluster]\u001b[0m\n"
     ]
    },
    {
     "name": "stderr",
     "output_type": "stream",
     "text": [
      "Val Epoch:76: 0it [00:00, ?it/s]\u001b[32m [repeated 2x across cluster]\u001b[0m\n",
      "Val Epoch:88: 47it [00:02, 17.03it/s]\u001b[32m [repeated 26x across cluster]\u001b[0m\n"
     ]
    },
    {
     "name": "stdout",
     "output_type": "stream",
     "text": [
      "\u001b[36m(tune_with_parameters pid=2633008)\u001b[0m loss: 0.590\u001b[32m [repeated 26x across cluster]\u001b[0m\n",
      "\u001b[36m(tune_with_parameters pid=2633008)\u001b[0m loss: 0.581\u001b[32m [repeated 4x across cluster]\u001b[0m\n"
     ]
    },
    {
     "name": "stderr",
     "output_type": "stream",
     "text": [
      "Val Epoch:77: 0it [00:00, ?it/s]\u001b[32m [repeated 2x across cluster]\u001b[0m\n",
      "Val Epoch:89: 47it [00:03, 15.16it/s]\u001b[32m [repeated 27x across cluster]\u001b[0m\n"
     ]
    },
    {
     "name": "stdout",
     "output_type": "stream",
     "text": [
      "\u001b[36m(tune_with_parameters pid=2633008)\u001b[0m loss: 0.599\u001b[32m [repeated 27x across cluster]\u001b[0m\n",
      "\u001b[36m(tune_with_parameters pid=2633008)\u001b[0m loss: 0.611\u001b[32m [repeated 8x across cluster]\u001b[0m\n"
     ]
    },
    {
     "name": "stderr",
     "output_type": "stream",
     "text": [
      "Val Epoch:78: 0it [00:00, ?it/s]\u001b[32m [repeated 2x across cluster]\u001b[0m\n",
      "Val Epoch:90: 47it [00:02, 18.28it/s]\u001b[32m [repeated 26x across cluster]\u001b[0m\n"
     ]
    },
    {
     "name": "stdout",
     "output_type": "stream",
     "text": [
      "\u001b[36m(tune_with_parameters pid=2652194)\u001b[0m loss: 0.265\u001b[32m [repeated 23x across cluster]\u001b[0m\n"
     ]
    },
    {
     "name": "stderr",
     "output_type": "stream",
     "text": [
      "Val Epoch:79: 0it [00:00, ?it/s]\u001b[32m [repeated 2x across cluster]\u001b[0m\n",
      "Val Epoch:91: 47it [00:02, 18.47it/s]\u001b[32m [repeated 27x across cluster]\u001b[0m\n"
     ]
    },
    {
     "name": "stdout",
     "output_type": "stream",
     "text": [
      "\u001b[36m(tune_with_parameters pid=2652194)\u001b[0m loss: 0.326\u001b[32m [repeated 15x across cluster]\u001b[0m\n"
     ]
    },
    {
     "name": "stderr",
     "output_type": "stream",
     "text": [
      "Val Epoch:80: 0it [00:00, ?it/s]652194)\u001b[0m \n",
      "Val Epoch:79: 47it [00:01, 25.34it/s]\u001b[32m [repeated 10x across cluster]\u001b[0m\n"
     ]
    },
    {
     "name": "stdout",
     "output_type": "stream",
     "text": [
      "\u001b[36m(tune_with_parameters pid=2652194)\u001b[0m loss: 0.267\u001b[32m [repeated 15x across cluster]\u001b[0m\n"
     ]
    },
    {
     "name": "stderr",
     "output_type": "stream",
     "text": [
      "\u001b[36m(tune_with_parameters pid=2778909)\u001b[0m /users/k23058970/miniforge3/envs/Training/lib/python3.10/site-packages/torch/nn/modules/lazy.py:181: UserWarning: Lazy modules are a new feature under heavy development so changes to the API or functionality can happen at any moment.\n",
      "\u001b[36m(tune_with_parameters pid=2778909)\u001b[0m   warnings.warn('Lazy modules are a new feature under heavy development '\n",
      "Val Epoch:80: 47it [00:02, 23.14it/s]\u001b[32m [repeated 11x across cluster]\u001b[0m\n",
      "Val Epoch:81: 0it [00:00, ?it/s]652194)\u001b[0m \n",
      "Val Epoch:81: 47it [00:02, 23.28it/s]4)\u001b[0m \n"
     ]
    },
    {
     "name": "stdout",
     "output_type": "stream",
     "text": [
      "\u001b[36m(tune_with_parameters pid=2652194)\u001b[0m loss: 0.225\u001b[32m [repeated 15x across cluster]\u001b[0m\n",
      "\u001b[36m(tune_with_parameters pid=2778909)\u001b[0m loss: 0.917\u001b[32m [repeated 20x across cluster]\u001b[0m\n"
     ]
    },
    {
     "name": "stderr",
     "output_type": "stream",
     "text": [
      "Val Epoch:82: 0it [00:00, ?it/s]652194)\u001b[0m \n",
      "Val Epoch:81: 41it [00:01, 42.67it/s]\u001b[32m [repeated 9x across cluster]\u001b[0m\n",
      "Val Epoch:0: 0it [00:00, ?it/s]2778909)\u001b[0m \n"
     ]
    },
    {
     "name": "stdout",
     "output_type": "stream",
     "text": [
      "\u001b[36m(tune_with_parameters pid=2652194)\u001b[0m loss: 0.271\u001b[32m [repeated 13x across cluster]\u001b[0m\n"
     ]
    },
    {
     "name": "stderr",
     "output_type": "stream",
     "text": [
      "Val Epoch:0: 1it [00:00,  1.39it/s]\u001b[32m [repeated 14x across cluster]\u001b[0m\n",
      "Val Epoch:0: 39it [00:01, 31.61it/s]09)\u001b[0m \n"
     ]
    },
    {
     "name": "stdout",
     "output_type": "stream",
     "text": [
      "\u001b[36m(tune_with_parameters pid=2778909)\u001b[0m /tmp/tmp7s_0eqzm/checkpoint.pt\n"
     ]
    },
    {
     "name": "stderr",
     "output_type": "stream",
     "text": [
      "\u001b[36m(tune_with_parameters pid=2778909)\u001b[0m Checkpoint successfully created at: Checkpoint(filesystem=local, path=/scratch/users/k23058970/Model training/results/Complex Peak LSTM Null/tune_with_parameters_2024-08-19_22-55-16/tune_with_parameters_cf806_00003_3_dp=0.2500,hidden_size=300,lr=0.0034,num_layers=1_2024-08-19_22-55-55/checkpoint_000000)\n",
      "Val Epoch:83: 0it [00:00, ?it/s]652194)\u001b[0m \n"
     ]
    },
    {
     "name": "stdout",
     "output_type": "stream",
     "text": [
      "\u001b[36m(tune_with_parameters pid=2778909)\u001b[0m loss: 0.620\u001b[32m [repeated 13x across cluster]\u001b[0m\n"
     ]
    },
    {
     "name": "stderr",
     "output_type": "stream",
     "text": [
      "Val Epoch:83: 17it [00:00, 18.89it/s]\u001b[32m [repeated 15x across cluster]\u001b[0m\n"
     ]
    },
    {
     "name": "stdout",
     "output_type": "stream",
     "text": [
      "\u001b[36m(tune_with_parameters pid=2652194)\u001b[0m loss: 0.275\u001b[32m [repeated 19x across cluster]\u001b[0m\n"
     ]
    },
    {
     "name": "stderr",
     "output_type": "stream",
     "text": [
      "Val Epoch:1: 0it [00:00, ?it/s]2778909)\u001b[0m \n",
      "Val Epoch:83: 47it [00:01, 25.15it/s]\u001b[32m [repeated 7x across cluster]\u001b[0m\n"
     ]
    },
    {
     "name": "stdout",
     "output_type": "stream",
     "text": [
      "\u001b[36m(tune_with_parameters pid=2778909)\u001b[0m /tmp/tmpop1hpe97/checkpoint.pt\n",
      "\u001b[36m(tune_with_parameters pid=2652194)\u001b[0m loss: 0.277\u001b[32m [repeated 9x across cluster]\u001b[0m\n"
     ]
    },
    {
     "name": "stderr",
     "output_type": "stream",
     "text": [
      "\u001b[36m(tune_with_parameters pid=2778909)\u001b[0m Checkpoint successfully created at: Checkpoint(filesystem=local, path=/scratch/users/k23058970/Model training/results/Complex Peak LSTM Null/tune_with_parameters_2024-08-19_22-55-16/tune_with_parameters_cf806_00003_3_dp=0.2500,hidden_size=300,lr=0.0034,num_layers=1_2024-08-19_22-55-55/checkpoint_000001)\n"
     ]
    },
    {
     "name": "stdout",
     "output_type": "stream",
     "text": [
      "\u001b[36m(tune_with_parameters pid=2652194)\u001b[0m loss: 0.280\u001b[32m [repeated 16x across cluster]\u001b[0m\n"
     ]
    },
    {
     "name": "stderr",
     "output_type": "stream",
     "text": [
      "Val Epoch:85: 0it [00:00, ?it/s]\u001b[32m [repeated 2x across cluster]\u001b[0m\n",
      "Val Epoch:84: 47it [00:01, 30.86it/s]\u001b[32m [repeated 22x across cluster]\u001b[0m\n"
     ]
    },
    {
     "name": "stdout",
     "output_type": "stream",
     "text": [
      "\u001b[36m(tune_with_parameters pid=2652194)\u001b[0m loss: 0.319\u001b[32m [repeated 15x across cluster]\u001b[0m\n",
      "\u001b[36m(tune_with_parameters pid=2778909)\u001b[0m loss: 0.603\u001b[32m [repeated 24x across cluster]\u001b[0m\n"
     ]
    },
    {
     "name": "stderr",
     "output_type": "stream",
     "text": [
      "Val Epoch:86: 0it [00:00, ?it/s]\u001b[32m [repeated 2x across cluster]\u001b[0m\n",
      "Val Epoch:2: 47it [00:03, 15.50it/s]\u001b[32m [repeated 27x across cluster]\u001b[0m\n"
     ]
    },
    {
     "name": "stdout",
     "output_type": "stream",
     "text": [
      "\u001b[36m(tune_with_parameters pid=2652194)\u001b[0m loss: 0.258\u001b[32m [repeated 8x across cluster]\u001b[0m\n"
     ]
    },
    {
     "name": "stderr",
     "output_type": "stream",
     "text": [
      "Val Epoch:87: 0it [00:00, ?it/s]\u001b[32m [repeated 2x across cluster]\u001b[0m\n",
      "Val Epoch:3: 47it [00:02, 17.84it/s]\u001b[32m [repeated 24x across cluster]\u001b[0m\n"
     ]
    },
    {
     "name": "stdout",
     "output_type": "stream",
     "text": [
      "\u001b[36m(tune_with_parameters pid=2778909)\u001b[0m loss: 0.597\u001b[32m [repeated 26x across cluster]\u001b[0m\n",
      "\u001b[36m(tune_with_parameters pid=2778909)\u001b[0m /tmp/tmpn369e7o9/checkpoint.pt\n",
      "\u001b[36m(tune_with_parameters pid=2652194)\u001b[0m loss: 0.268\u001b[32m [repeated 8x across cluster]\u001b[0m\n"
     ]
    },
    {
     "name": "stderr",
     "output_type": "stream",
     "text": [
      "\u001b[36m(tune_with_parameters pid=2778909)\u001b[0m Checkpoint successfully created at: Checkpoint(filesystem=local, path=/scratch/users/k23058970/Model training/results/Complex Peak LSTM Null/tune_with_parameters_2024-08-19_22-55-16/tune_with_parameters_cf806_00003_3_dp=0.2500,hidden_size=300,lr=0.0034,num_layers=1_2024-08-19_22-55-55/checkpoint_000002)\n",
      "Val Epoch:4: 0it [00:00, ?it/s]2778909)\u001b[0m \n",
      "Val Epoch:4: 47it [00:02, 17.43it/s]\u001b[32m [repeated 25x across cluster]\u001b[0m\n",
      "Val Epoch:88: 0it [00:00, ?it/s]652194)\u001b[0m \n",
      "Val Epoch:88: 12it [00:00, 18.34it/s]\u001b[32m [repeated 4x across cluster]\u001b[0m\n"
     ]
    },
    {
     "name": "stdout",
     "output_type": "stream",
     "text": [
      "\u001b[36m(tune_with_parameters pid=2778909)\u001b[0m loss: 0.580\u001b[32m [repeated 17x across cluster]\u001b[0m\n"
     ]
    },
    {
     "name": "stderr",
     "output_type": "stream",
     "text": [
      "Val Epoch:5: 0it [00:00, ?it/s]2778909)\u001b[0m \n",
      "Val Epoch:5: 29it [00:01, 31.52it/s]\u001b[32m [repeated 17x across cluster]\u001b[0m\n"
     ]
    },
    {
     "name": "stdout",
     "output_type": "stream",
     "text": [
      "\u001b[36m(tune_with_parameters pid=2652194)\u001b[0m loss: 0.270\u001b[32m [repeated 14x across cluster]\u001b[0m\n",
      "\u001b[36m(tune_with_parameters pid=2778909)\u001b[0m /tmp/tmpq_g4p_m1/checkpoint.pt\n"
     ]
    },
    {
     "name": "stderr",
     "output_type": "stream",
     "text": [
      "\u001b[36m(tune_with_parameters pid=2778909)\u001b[0m Checkpoint successfully created at: Checkpoint(filesystem=local, path=/scratch/users/k23058970/Model training/results/Complex Peak LSTM Null/tune_with_parameters_2024-08-19_22-55-16/tune_with_parameters_cf806_00003_3_dp=0.2500,hidden_size=300,lr=0.0034,num_layers=1_2024-08-19_22-55-55/checkpoint_000003)\n",
      "Val Epoch:89: 0it [00:00, ?it/s]652194)\u001b[0m \n",
      "Val Epoch:89: 36it [00:02, 29.27it/s]\u001b[32m [repeated 16x across cluster]\u001b[0m\n"
     ]
    },
    {
     "name": "stdout",
     "output_type": "stream",
     "text": [
      "\u001b[36m(tune_with_parameters pid=2778909)\u001b[0m loss: 0.577\u001b[32m [repeated 13x across cluster]\u001b[0m\n"
     ]
    },
    {
     "name": "stderr",
     "output_type": "stream",
     "text": [
      "Val Epoch:6: 0it [00:00, ?it/s]2778909)\u001b[0m \n",
      "Val Epoch:89: 47it [00:02, 18.35it/s]\u001b[32m [repeated 3x across cluster]\u001b[0m\n"
     ]
    },
    {
     "name": "stdout",
     "output_type": "stream",
     "text": [
      "\u001b[36m(tune_with_parameters pid=2652194)\u001b[0m loss: 0.278\u001b[32m [repeated 23x across cluster]\u001b[0m\n"
     ]
    },
    {
     "name": "stderr",
     "output_type": "stream",
     "text": [
      "Val Epoch:90: 0it [00:00, ?it/s]652194)\u001b[0m \n"
     ]
    },
    {
     "name": "stdout",
     "output_type": "stream",
     "text": [
      "\u001b[36m(tune_with_parameters pid=2778909)\u001b[0m /tmp/tmp_alsp4by/checkpoint.pt\n"
     ]
    },
    {
     "name": "stderr",
     "output_type": "stream",
     "text": [
      "\u001b[36m(tune_with_parameters pid=2778909)\u001b[0m Checkpoint successfully created at: Checkpoint(filesystem=local, path=/scratch/users/k23058970/Model training/results/Complex Peak LSTM Null/tune_with_parameters_2024-08-19_22-55-16/tune_with_parameters_cf806_00003_3_dp=0.2500,hidden_size=300,lr=0.0034,num_layers=1_2024-08-19_22-55-55/checkpoint_000004)\n"
     ]
    },
    {
     "name": "stdout",
     "output_type": "stream",
     "text": [
      "\u001b[36m(tune_with_parameters pid=2778909)\u001b[0m loss: 0.525\u001b[32m [repeated 5x across cluster]\u001b[0m\n"
     ]
    },
    {
     "name": "stderr",
     "output_type": "stream",
     "text": [
      "Val Epoch:90: 47it [00:01, 30.80it/s]\u001b[32m [repeated 24x across cluster]\u001b[0m\n",
      "Val Epoch:7: 0it [00:00, ?it/s]2778909)\u001b[0m \n"
     ]
    },
    {
     "name": "stdout",
     "output_type": "stream",
     "text": [
      "\u001b[36m(tune_with_parameters pid=2778909)\u001b[0m /tmp/tmp5bbsmxlv/checkpoint.pt\n",
      "\u001b[36m(tune_with_parameters pid=2778909)\u001b[0m loss: 0.509\u001b[32m [repeated 11x across cluster]\u001b[0m\n"
     ]
    },
    {
     "name": "stderr",
     "output_type": "stream",
     "text": [
      "\u001b[36m(tune_with_parameters pid=2778909)\u001b[0m Checkpoint successfully created at: Checkpoint(filesystem=local, path=/scratch/users/k23058970/Model training/results/Complex Peak LSTM Null/tune_with_parameters_2024-08-19_22-55-16/tune_with_parameters_cf806_00003_3_dp=0.2500,hidden_size=300,lr=0.0034,num_layers=1_2024-08-19_22-55-55/checkpoint_000005)\n"
     ]
    },
    {
     "name": "stdout",
     "output_type": "stream",
     "text": [
      "\u001b[36m(tune_with_parameters pid=2778909)\u001b[0m loss: 0.469\u001b[32m [repeated 12x across cluster]\u001b[0m\n"
     ]
    },
    {
     "name": "stderr",
     "output_type": "stream",
     "text": [
      "Val Epoch:8: 0it [00:00, ?it/s]2778909)\u001b[0m \n",
      "Val Epoch:7: 47it [00:01, 24.95it/s]\u001b[32m [repeated 12x across cluster]\u001b[0m\n",
      "\u001b[36m(tune_with_parameters pid=2793447)\u001b[0m /users/k23058970/miniforge3/envs/Training/lib/python3.10/site-packages/torch/nn/modules/lazy.py:181: UserWarning: Lazy modules are a new feature under heavy development so changes to the API or functionality can happen at any moment.\n",
      "\u001b[36m(tune_with_parameters pid=2793447)\u001b[0m   warnings.warn('Lazy modules are a new feature under heavy development '\n"
     ]
    },
    {
     "name": "stdout",
     "output_type": "stream",
     "text": [
      "\u001b[36m(tune_with_parameters pid=2778909)\u001b[0m /tmp/tmppcqmbgy2/checkpoint.pt\n"
     ]
    },
    {
     "name": "stderr",
     "output_type": "stream",
     "text": [
      "\u001b[36m(tune_with_parameters pid=2778909)\u001b[0m Checkpoint successfully created at: Checkpoint(filesystem=local, path=/scratch/users/k23058970/Model training/results/Complex Peak LSTM Null/tune_with_parameters_2024-08-19_22-55-16/tune_with_parameters_cf806_00003_3_dp=0.2500,hidden_size=300,lr=0.0034,num_layers=1_2024-08-19_22-55-55/checkpoint_000006)\n"
     ]
    },
    {
     "name": "stdout",
     "output_type": "stream",
     "text": [
      "\u001b[36m(tune_with_parameters pid=2778909)\u001b[0m loss: 0.473\u001b[32m [repeated 4x across cluster]\u001b[0m\n",
      "\u001b[36m(tune_with_parameters pid=2778909)\u001b[0m loss: 0.410\u001b[32m [repeated 21x across cluster]\u001b[0m\n"
     ]
    },
    {
     "name": "stderr",
     "output_type": "stream",
     "text": [
      "Val Epoch:9: 0it [00:00, ?it/s]2778909)\u001b[0m \n",
      "Val Epoch:8: 47it [00:02, 21.68it/s]\u001b[32m [repeated 12x across cluster]\u001b[0m\n",
      "Val Epoch:0: 0it [00:00, ?it/s]2793447)\u001b[0m \n"
     ]
    },
    {
     "name": "stdout",
     "output_type": "stream",
     "text": [
      "\u001b[36m(tune_with_parameters pid=2778909)\u001b[0m loss: 0.361\u001b[32m [repeated 11x across cluster]\u001b[0m\n"
     ]
    },
    {
     "name": "stderr",
     "output_type": "stream",
     "text": [
      "Val Epoch:0: 10it [00:00, 18.72it/s]47)\u001b[0m \n",
      "Val Epoch:0: 30it [00:01, 31.65it/s]\u001b[32m [repeated 19x across cluster]\u001b[0m\n"
     ]
    },
    {
     "name": "stdout",
     "output_type": "stream",
     "text": [
      "\u001b[36m(tune_with_parameters pid=2793447)\u001b[0m /tmp/tmpl_nnbpe0/checkpoint.pt\n"
     ]
    },
    {
     "name": "stderr",
     "output_type": "stream",
     "text": [
      "\u001b[36m(tune_with_parameters pid=2793447)\u001b[0m Checkpoint successfully created at: Checkpoint(filesystem=local, path=/scratch/users/k23058970/Model training/results/Complex Peak LSTM Null/tune_with_parameters_2024-08-19_22-55-16/tune_with_parameters_cf806_00004_4_dp=0.1000,hidden_size=400,lr=0.0355,num_layers=3_2024-08-19_22-55-55/checkpoint_000000)\n"
     ]
    },
    {
     "name": "stdout",
     "output_type": "stream",
     "text": [
      "\u001b[36m(tune_with_parameters pid=2793447)\u001b[0m loss: 1.097\u001b[32m [repeated 19x across cluster]\u001b[0m\n"
     ]
    },
    {
     "name": "stderr",
     "output_type": "stream",
     "text": [
      "Val Epoch:10: 0it [00:00, ?it/s]778909)\u001b[0m \n",
      "Val Epoch:0: 47it [00:02, 23.04it/s]\u001b[32m [repeated 4x across cluster]\u001b[0m\n",
      "Val Epoch:1: 0it [00:00, ?it/s]2793447)\u001b[0m \n"
     ]
    },
    {
     "name": "stdout",
     "output_type": "stream",
     "text": [
      "\u001b[36m(tune_with_parameters pid=2778909)\u001b[0m loss: 0.331\u001b[32m [repeated 12x across cluster]\u001b[0m\n"
     ]
    },
    {
     "name": "stderr",
     "output_type": "stream",
     "text": [
      "Val Epoch:1: 5it [00:00,  9.00it/s]\u001b[32m [repeated 16x across cluster]\u001b[0m\n"
     ]
    },
    {
     "name": "stdout",
     "output_type": "stream",
     "text": [
      "\u001b[36m(tune_with_parameters pid=2793447)\u001b[0m /tmp/tmpeti5enlp/checkpoint.pt\n"
     ]
    },
    {
     "name": "stderr",
     "output_type": "stream",
     "text": [
      "\u001b[36m(tune_with_parameters pid=2793447)\u001b[0m Checkpoint successfully created at: Checkpoint(filesystem=local, path=/scratch/users/k23058970/Model training/results/Complex Peak LSTM Null/tune_with_parameters_2024-08-19_22-55-16/tune_with_parameters_cf806_00004_4_dp=0.1000,hidden_size=400,lr=0.0355,num_layers=3_2024-08-19_22-55-55/checkpoint_000001)\n",
      "Val Epoch:11: 0it [00:00, ?it/s]778909)\u001b[0m \n",
      "Val Epoch:1: 47it [00:02, 21.03it/s]\u001b[32m [repeated 10x across cluster]\u001b[0m\n"
     ]
    },
    {
     "name": "stdout",
     "output_type": "stream",
     "text": [
      "\u001b[36m(tune_with_parameters pid=2793447)\u001b[0m loss: 1.090\u001b[32m [repeated 17x across cluster]\u001b[0m\n",
      "\u001b[36m(tune_with_parameters pid=2778909)\u001b[0m /tmp/tmp4v3p_qud/checkpoint.pt\n"
     ]
    },
    {
     "name": "stderr",
     "output_type": "stream",
     "text": [
      "\u001b[36m(tune_with_parameters pid=2778909)\u001b[0m Checkpoint successfully created at: Checkpoint(filesystem=local, path=/scratch/users/k23058970/Model training/results/Complex Peak LSTM Null/tune_with_parameters_2024-08-19_22-55-16/tune_with_parameters_cf806_00003_3_dp=0.2500,hidden_size=300,lr=0.0034,num_layers=1_2024-08-19_22-55-55/checkpoint_000007)\n",
      "Val Epoch:2: 0it [00:00, ?it/s]2793447)\u001b[0m \n",
      "Val Epoch:2: 6it [00:00,  7.44it/s]\u001b[32m [repeated 15x across cluster]\u001b[0m\n"
     ]
    },
    {
     "name": "stdout",
     "output_type": "stream",
     "text": [
      "\u001b[36m(tune_with_parameters pid=2778909)\u001b[0m loss: 0.320\u001b[32m [repeated 10x across cluster]\u001b[0m\n"
     ]
    },
    {
     "name": "stderr",
     "output_type": "stream",
     "text": [
      "\u001b[36m(tune_with_parameters pid=2793447)\u001b[0m /scratch/users/k23058970/Model training/training_insilico_lstm.py:63: RuntimeWarning: invalid value encountered in divide\n",
      "\u001b[36m(tune_with_parameters pid=2793447)\u001b[0m   self.precision = self.tp/(self.tp + self.fp)\n"
     ]
    },
    {
     "name": "stdout",
     "output_type": "stream",
     "text": [
      "\u001b[36m(tune_with_parameters pid=2778909)\u001b[0m loss: 0.315\u001b[32m [repeated 18x across cluster]\u001b[0m\n"
     ]
    },
    {
     "name": "stderr",
     "output_type": "stream",
     "text": [
      "Val Epoch:12: 0it [00:00, ?it/s]778909)\u001b[0m \n",
      "Val Epoch:2: 47it [00:02, 18.81it/s]\u001b[32m [repeated 12x across cluster]\u001b[0m\n",
      "Val Epoch:3: 0it [00:00, ?it/s]2793447)\u001b[0m \n"
     ]
    },
    {
     "name": "stdout",
     "output_type": "stream",
     "text": [
      "\u001b[36m(tune_with_parameters pid=2778909)\u001b[0m loss: 0.347\u001b[32m [repeated 12x across cluster]\u001b[0m\n",
      "\u001b[36m(tune_with_parameters pid=2793447)\u001b[0m /tmp/tmpfmygq6jl/checkpoint.pt\n"
     ]
    },
    {
     "name": "stderr",
     "output_type": "stream",
     "text": [
      "\u001b[36m(tune_with_parameters pid=2793447)\u001b[0m Checkpoint successfully created at: Checkpoint(filesystem=local, path=/scratch/users/k23058970/Model training/results/Complex Peak LSTM Null/tune_with_parameters_2024-08-19_22-55-16/tune_with_parameters_cf806_00004_4_dp=0.1000,hidden_size=400,lr=0.0355,num_layers=3_2024-08-19_22-55-55/checkpoint_000002)\n",
      "Val Epoch:3: 47it [00:03, 14.80it/s]\u001b[32m [repeated 26x across cluster]\u001b[0m\n"
     ]
    },
    {
     "name": "stdout",
     "output_type": "stream",
     "text": [
      "\u001b[36m(tune_with_parameters pid=2778909)\u001b[0m loss: 0.305\u001b[32m [repeated 20x across cluster]\u001b[0m\n"
     ]
    },
    {
     "name": "stderr",
     "output_type": "stream",
     "text": [
      "Val Epoch:13: 0it [00:00, ?it/s]778909)\u001b[0m \n",
      "Val Epoch:13: 1it [00:00,  2.71it/s]09)\u001b[0m \n",
      "Val Epoch:13: 4it [00:00,  9.63it/s]09)\u001b[0m \n",
      "Val Epoch:13: 7it [00:00, 14.01it/s]09)\u001b[0m \n",
      "Val Epoch:13: 13it [00:00, 25.79it/s]9)\u001b[0m \n",
      "Val Epoch:13: 17it [00:00, 23.27it/s]9)\u001b[0m \n",
      "Val Epoch:13: 22it [00:01, 28.47it/s]9)\u001b[0m \n",
      "Val Epoch:13: 27it [00:01, 31.29it/s]9)\u001b[0m \n",
      "Val Epoch:13: 31it [00:01, 31.11it/s]9)\u001b[0m \n",
      "Val Epoch:13: 35it [00:01, 24.34it/s]9)\u001b[0m \n",
      "Val Epoch:13: 39it [00:01, 27.32it/s]9)\u001b[0m \n",
      "Val Epoch:13: 47it [00:01, 37.67it/s]9)\u001b[0m \n",
      "Val Epoch:4: 0it [00:00, ?it/s]2793447)\u001b[0m \n",
      "Val Epoch:13: 47it [00:02, 20.20it/s]9)\u001b[0m \n"
     ]
    },
    {
     "name": "stdout",
     "output_type": "stream",
     "text": [
      "\u001b[36m(tune_with_parameters pid=2778909)\u001b[0m loss: 0.289\u001b[32m [repeated 12x across cluster]\u001b[0m\n"
     ]
    },
    {
     "name": "stderr",
     "output_type": "stream",
     "text": [
      "Val Epoch:4: 47it [00:02, 19.32it/s]\u001b[32m [repeated 15x across cluster]\u001b[0m\n",
      "Val Epoch:14: 0it [00:00, ?it/s]778909)\u001b[0m \n"
     ]
    },
    {
     "name": "stdout",
     "output_type": "stream",
     "text": [
      "\u001b[36m(tune_with_parameters pid=2793447)\u001b[0m loss: 0.533\u001b[32m [repeated 23x across cluster]\u001b[0m\n"
     ]
    },
    {
     "name": "stderr",
     "output_type": "stream",
     "text": [
      "Val Epoch:5: 0it [00:00, ?it/s]2793447)\u001b[0m \n",
      "Val Epoch:5: 33it [00:02, 19.81it/s]\u001b[32m [repeated 21x across cluster]\u001b[0m\n"
     ]
    },
    {
     "name": "stdout",
     "output_type": "stream",
     "text": [
      "\u001b[36m(tune_with_parameters pid=2778909)\u001b[0m loss: 0.287\u001b[32m [repeated 9x across cluster]\u001b[0m\n",
      "\u001b[36m(tune_with_parameters pid=2793447)\u001b[0m /tmp/tmpck_d10lo/checkpoint.pt\n"
     ]
    },
    {
     "name": "stderr",
     "output_type": "stream",
     "text": [
      "\u001b[36m(tune_with_parameters pid=2793447)\u001b[0m Checkpoint successfully created at: Checkpoint(filesystem=local, path=/scratch/users/k23058970/Model training/results/Complex Peak LSTM Null/tune_with_parameters_2024-08-19_22-55-16/tune_with_parameters_cf806_00004_4_dp=0.1000,hidden_size=400,lr=0.0355,num_layers=3_2024-08-19_22-55-55/checkpoint_000003)\n",
      "Val Epoch:15: 0it [00:00, ?it/s]778909)\u001b[0m \n",
      "Val Epoch:5: 47it [00:03, 14.50it/s]\u001b[32m [repeated 3x across cluster]\u001b[0m\n"
     ]
    },
    {
     "name": "stdout",
     "output_type": "stream",
     "text": [
      "\u001b[36m(tune_with_parameters pid=2793447)\u001b[0m loss: 0.521\u001b[32m [repeated 21x across cluster]\u001b[0m\n"
     ]
    },
    {
     "name": "stderr",
     "output_type": "stream",
     "text": [
      "Val Epoch:6: 0it [00:00, ?it/s]2793447)\u001b[0m \n"
     ]
    },
    {
     "name": "stdout",
     "output_type": "stream",
     "text": [
      "\u001b[36m(tune_with_parameters pid=2778909)\u001b[0m /tmp/tmpy_vf09g6/checkpoint.pt\n"
     ]
    },
    {
     "name": "stderr",
     "output_type": "stream",
     "text": [
      "Val Epoch:6: 47it [00:01, 27.64it/s]47)\u001b[0m \n",
      "\u001b[36m(tune_with_parameters pid=2778909)\u001b[0m Checkpoint successfully created at: Checkpoint(filesystem=local, path=/scratch/users/k23058970/Model training/results/Complex Peak LSTM Null/tune_with_parameters_2024-08-19_22-55-16/tune_with_parameters_cf806_00003_3_dp=0.2500,hidden_size=300,lr=0.0034,num_layers=1_2024-08-19_22-55-55/checkpoint_000008)\n"
     ]
    },
    {
     "name": "stdout",
     "output_type": "stream",
     "text": [
      "\u001b[36m(tune_with_parameters pid=2793447)\u001b[0m loss: 0.481\u001b[32m [repeated 5x across cluster]\u001b[0m\n",
      "\u001b[36m(tune_with_parameters pid=2778909)\u001b[0m loss: 0.289\u001b[32m [repeated 24x across cluster]\u001b[0m\n"
     ]
    },
    {
     "name": "stderr",
     "output_type": "stream",
     "text": [
      "Val Epoch:7: 0it [00:00, ?it/s]2793447)\u001b[0m \n",
      "Val Epoch:6: 42it [00:01, 34.36it/s]\u001b[32m [repeated 21x across cluster]\u001b[0m\n",
      "Val Epoch:16: 0it [00:00, ?it/s]778909)\u001b[0m \n"
     ]
    },
    {
     "name": "stdout",
     "output_type": "stream",
     "text": [
      "\u001b[36m(tune_with_parameters pid=2793447)\u001b[0m /tmp/tmppx1si7lo/checkpoint.pt\n"
     ]
    },
    {
     "name": "stderr",
     "output_type": "stream",
     "text": [
      "\u001b[36m(tune_with_parameters pid=2793447)\u001b[0m Checkpoint successfully created at: Checkpoint(filesystem=local, path=/scratch/users/k23058970/Model training/results/Complex Peak LSTM Null/tune_with_parameters_2024-08-19_22-55-16/tune_with_parameters_cf806_00004_4_dp=0.1000,hidden_size=400,lr=0.0355,num_layers=3_2024-08-19_22-55-55/checkpoint_000004)\n"
     ]
    },
    {
     "name": "stdout",
     "output_type": "stream",
     "text": [
      "\u001b[36m(tune_with_parameters pid=2793447)\u001b[0m loss: 0.541\u001b[32m [repeated 6x across cluster]\u001b[0m\n",
      "\u001b[36m(tune_with_parameters pid=2793447)\u001b[0m loss: 0.527\u001b[32m [repeated 23x across cluster]\u001b[0m\n"
     ]
    },
    {
     "name": "stderr",
     "output_type": "stream",
     "text": [
      "Val Epoch:16: 47it [00:03, 14.70it/s]\u001b[32m [repeated 24x across cluster]\u001b[0m\n",
      "Val Epoch:8: 0it [00:00, ?it/s]2793447)\u001b[0m \n",
      "Val Epoch:17: 0it [00:00, ?it/s]778909)\u001b[0m \n"
     ]
    },
    {
     "name": "stdout",
     "output_type": "stream",
     "text": [
      "\u001b[36m(tune_with_parameters pid=2793447)\u001b[0m loss: 0.475\u001b[32m [repeated 7x across cluster]\u001b[0m\n",
      "\u001b[36m(tune_with_parameters pid=2778909)\u001b[0m loss: 0.275\u001b[32m [repeated 20x across cluster]\u001b[0m\n"
     ]
    },
    {
     "name": "stderr",
     "output_type": "stream",
     "text": [
      "Val Epoch:17: 47it [00:03, 15.64it/s]\u001b[32m [repeated 27x across cluster]\u001b[0m\n",
      "Val Epoch:9: 0it [00:00, ?it/s]2793447)\u001b[0m \n",
      "Val Epoch:18: 0it [00:00, ?it/s]778909)\u001b[0m \n"
     ]
    },
    {
     "name": "stdout",
     "output_type": "stream",
     "text": [
      "\u001b[36m(tune_with_parameters pid=2778909)\u001b[0m /tmp/tmp9bbs1mw9/checkpoint.pt\n",
      "\u001b[36m(tune_with_parameters pid=2778909)\u001b[0m loss: 0.284\u001b[32m [repeated 9x across cluster]\u001b[0m\n"
     ]
    },
    {
     "name": "stderr",
     "output_type": "stream",
     "text": [
      "\u001b[36m(tune_with_parameters pid=2778909)\u001b[0m Checkpoint successfully created at: Checkpoint(filesystem=local, path=/scratch/users/k23058970/Model training/results/Complex Peak LSTM Null/tune_with_parameters_2024-08-19_22-55-16/tune_with_parameters_cf806_00003_3_dp=0.2500,hidden_size=300,lr=0.0034,num_layers=1_2024-08-19_22-55-55/checkpoint_000009)\n",
      "Val Epoch:18: 47it [00:01, 30.87it/s]\u001b[32m [repeated 23x across cluster]\u001b[0m\n"
     ]
    },
    {
     "name": "stdout",
     "output_type": "stream",
     "text": [
      "\u001b[36m(tune_with_parameters pid=2778909)\u001b[0m loss: 0.280\u001b[32m [repeated 12x across cluster]\u001b[0m\n"
     ]
    },
    {
     "name": "stderr",
     "output_type": "stream",
     "text": [
      "Val Epoch:19: 0it [00:00, ?it/s]778909)\u001b[0m \n",
      "Val Epoch:19: 1it [00:01,  1.17s/it]09)\u001b[0m \n",
      "Val Epoch:19: 7it [00:01,  7.15it/s]09)\u001b[0m \n",
      "Val Epoch:19: 11it [00:01, 11.42it/s]9)\u001b[0m \n",
      "Val Epoch:19: 15it [00:01, 15.50it/s]9)\u001b[0m \n",
      "Val Epoch:19: 19it [00:01, 18.59it/s]9)\u001b[0m \n",
      "Val Epoch:19: 24it [00:01, 22.44it/s]9)\u001b[0m \n",
      "Val Epoch:19: 28it [00:02, 21.13it/s]9)\u001b[0m \n",
      "Val Epoch:19: 34it [00:02, 27.23it/s]9)\u001b[0m \n",
      "Val Epoch:19: 39it [00:02, 31.31it/s]9)\u001b[0m \n",
      "Val Epoch:19: 45it [00:02, 35.29it/s]9)\u001b[0m \n",
      "Val Epoch:19: 47it [00:02, 17.27it/s]9)\u001b[0m \n"
     ]
    },
    {
     "name": "stdout",
     "output_type": "stream",
     "text": [
      "\u001b[36m(tune_with_parameters pid=2778909)\u001b[0m loss: 0.292\u001b[32m [repeated 5x across cluster]\u001b[0m\n",
      "\u001b[36m(tune_with_parameters pid=2778909)\u001b[0m loss: 0.282\u001b[32m [repeated 13x across cluster]\u001b[0m\n"
     ]
    },
    {
     "name": "stderr",
     "output_type": "stream",
     "text": [
      "Val Epoch:20: 0it [00:00, ?it/s]778909)\u001b[0m \n",
      "Val Epoch:20: 1it [00:00,  4.13it/s]09)\u001b[0m \n",
      "Val Epoch:20: 6it [00:00, 19.26it/s]09)\u001b[0m \n",
      "Val Epoch:20: 9it [00:00, 21.69it/s]09)\u001b[0m \n",
      "Val Epoch:20: 13it [00:00, 25.02it/s]9)\u001b[0m \n",
      "Val Epoch:20: 18it [00:00, 31.56it/s]9)\u001b[0m \n",
      "Val Epoch:20: 23it [00:00, 35.08it/s]9)\u001b[0m \n",
      "Val Epoch:20: 28it [00:00, 34.81it/s]9)\u001b[0m \n",
      "Val Epoch:20: 34it [00:01, 40.25it/s]9)\u001b[0m \n",
      "\u001b[36m(tune_with_parameters pid=2809933)\u001b[0m /users/k23058970/miniforge3/envs/Training/lib/python3.10/site-packages/torch/nn/modules/lazy.py:181: UserWarning: Lazy modules are a new feature under heavy development so changes to the API or functionality can happen at any moment.\n",
      "\u001b[36m(tune_with_parameters pid=2809933)\u001b[0m   warnings.warn('Lazy modules are a new feature under heavy development '\n",
      "Val Epoch:20: 39it [00:01, 40.53it/s]9)\u001b[0m \n",
      "Val Epoch:20: 44it [00:01, 39.20it/s]9)\u001b[0m \n",
      "Val Epoch:20: 47it [00:01, 32.20it/s]9)\u001b[0m \n"
     ]
    },
    {
     "name": "stdout",
     "output_type": "stream",
     "text": [
      "\u001b[36m(tune_with_parameters pid=2778909)\u001b[0m loss: 0.285\u001b[32m [repeated 6x across cluster]\u001b[0m\n"
     ]
    },
    {
     "name": "stderr",
     "output_type": "stream",
     "text": [
      "Val Epoch:21: 0it [00:00, ?it/s]778909)\u001b[0m \n",
      "Val Epoch:21: 1it [00:00,  2.46it/s]09)\u001b[0m \n",
      "Val Epoch:21: 6it [00:00, 14.57it/s]09)\u001b[0m \n",
      "Val Epoch:21: 10it [00:00, 20.99it/s]9)\u001b[0m \n"
     ]
    },
    {
     "name": "stdout",
     "output_type": "stream",
     "text": [
      "\u001b[36m(tune_with_parameters pid=2809933)\u001b[0m loss: 1.099\u001b[32m [repeated 14x across cluster]\u001b[0m\n"
     ]
    },
    {
     "name": "stderr",
     "output_type": "stream",
     "text": [
      "Val Epoch:21: 14it [00:00, 21.02it/s]9)\u001b[0m \n",
      "Val Epoch:21: 18it [00:00, 22.55it/s]9)\u001b[0m \n",
      "Val Epoch:21: 23it [00:01, 28.39it/s]9)\u001b[0m \n",
      "Val Epoch:21: 27it [00:01, 30.13it/s]9)\u001b[0m \n",
      "Val Epoch:21: 31it [00:01, 31.85it/s]9)\u001b[0m \n",
      "Val Epoch:21: 35it [00:01, 29.91it/s]9)\u001b[0m \n",
      "Val Epoch:21: 40it [00:01, 33.09it/s]9)\u001b[0m \n",
      "Val Epoch:21: 44it [00:01, 30.42it/s]9)\u001b[0m \n",
      "Val Epoch:21: 47it [00:01, 25.23it/s]9)\u001b[0m \n",
      "Val Epoch:0: 0it [00:00, ?it/s]2809933)\u001b[0m \n"
     ]
    },
    {
     "name": "stdout",
     "output_type": "stream",
     "text": [
      "\u001b[36m(tune_with_parameters pid=2778909)\u001b[0m loss: 0.280\u001b[32m [repeated 18x across cluster]\u001b[0m\n"
     ]
    },
    {
     "name": "stderr",
     "output_type": "stream",
     "text": [
      "Val Epoch:0: 1it [00:00,  3.93it/s]933)\u001b[0m \n",
      "Val Epoch:0: 6it [00:00, 18.53it/s]933)\u001b[0m \n",
      "Val Epoch:0: 10it [00:00, 25.12it/s]33)\u001b[0m \n",
      "Val Epoch:0: 14it [00:00, 25.45it/s]33)\u001b[0m \n",
      "Val Epoch:0: 19it [00:00, 28.16it/s]33)\u001b[0m \n",
      "Val Epoch:0: 23it [00:00, 29.29it/s]33)\u001b[0m \n",
      "Val Epoch:0: 29it [00:01, 35.50it/s]33)\u001b[0m \n",
      "Val Epoch:0: 34it [00:01, 35.88it/s]33)\u001b[0m \n",
      "Val Epoch:0: 39it [00:01, 37.07it/s]33)\u001b[0m \n",
      "Val Epoch:0: 43it [00:01, 34.55it/s]33)\u001b[0m \n",
      "Val Epoch:0: 47it [00:01, 28.80it/s]33)\u001b[0m \n"
     ]
    },
    {
     "name": "stdout",
     "output_type": "stream",
     "text": [
      "\u001b[36m(tune_with_parameters pid=2809933)\u001b[0m /tmp/tmpdqxki8h5/checkpoint.pt\n"
     ]
    },
    {
     "name": "stderr",
     "output_type": "stream",
     "text": [
      "\u001b[36m(tune_with_parameters pid=2809933)\u001b[0m Checkpoint successfully created at: Checkpoint(filesystem=local, path=/scratch/users/k23058970/Model training/results/Complex Peak LSTM Null/tune_with_parameters_2024-08-19_22-55-16/tune_with_parameters_cf806_00005_5_dp=0.2500,hidden_size=400,lr=0.0015,num_layers=2_2024-08-19_22-55-55/checkpoint_000000)\n",
      "Val Epoch:22: 0it [00:00, ?it/s]778909)\u001b[0m \n",
      "Val Epoch:22: 16it [00:01, 14.16it/s]\u001b[32m [repeated 7x across cluster]\u001b[0m\n"
     ]
    },
    {
     "name": "stdout",
     "output_type": "stream",
     "text": [
      "\u001b[36m(tune_with_parameters pid=2809933)\u001b[0m loss: 1.095\u001b[32m [repeated 12x across cluster]\u001b[0m\n"
     ]
    },
    {
     "name": "stderr",
     "output_type": "stream",
     "text": [
      "Val Epoch:1: 0it [00:00, ?it/s]2809933)\u001b[0m \n"
     ]
    },
    {
     "name": "stdout",
     "output_type": "stream",
     "text": [
      "\u001b[36m(tune_with_parameters pid=2778909)\u001b[0m loss: 0.289\u001b[32m [repeated 17x across cluster]\u001b[0m\n"
     ]
    },
    {
     "name": "stderr",
     "output_type": "stream",
     "text": [
      "Val Epoch:1: 1it [00:00,  1.60it/s]\u001b[32m [repeated 9x across cluster]\u001b[0m\n"
     ]
    },
    {
     "name": "stdout",
     "output_type": "stream",
     "text": [
      "\u001b[36m(tune_with_parameters pid=2809933)\u001b[0m /tmp/tmpxm0vmhlf/checkpoint.pt\n"
     ]
    },
    {
     "name": "stderr",
     "output_type": "stream",
     "text": [
      "\u001b[36m(tune_with_parameters pid=2809933)\u001b[0m Checkpoint successfully created at: Checkpoint(filesystem=local, path=/scratch/users/k23058970/Model training/results/Complex Peak LSTM Null/tune_with_parameters_2024-08-19_22-55-16/tune_with_parameters_cf806_00005_5_dp=0.2500,hidden_size=400,lr=0.0015,num_layers=2_2024-08-19_22-55-55/checkpoint_000001)\n",
      "Val Epoch:23: 0it [00:00, ?it/s]778909)\u001b[0m \n",
      "Val Epoch:23: 14it [00:01, 13.75it/s]\u001b[32m [repeated 17x across cluster]\u001b[0m\n"
     ]
    },
    {
     "name": "stdout",
     "output_type": "stream",
     "text": [
      "\u001b[36m(tune_with_parameters pid=2809933)\u001b[0m loss: 1.090\u001b[32m [repeated 12x across cluster]\u001b[0m\n"
     ]
    },
    {
     "name": "stderr",
     "output_type": "stream",
     "text": [
      "Val Epoch:2: 0it [00:00, ?it/s]2809933)\u001b[0m \n",
      "Val Epoch:23: 47it [00:02, 19.66it/s]\u001b[32m [repeated 9x across cluster]\u001b[0m\n"
     ]
    },
    {
     "name": "stdout",
     "output_type": "stream",
     "text": [
      "\u001b[36m(tune_with_parameters pid=2778909)\u001b[0m loss: 0.282\u001b[32m [repeated 19x across cluster]\u001b[0m\n",
      "\u001b[36m(tune_with_parameters pid=2809933)\u001b[0m /tmp/tmp3bd6bg__/checkpoint.pt\n"
     ]
    },
    {
     "name": "stderr",
     "output_type": "stream",
     "text": [
      "\u001b[36m(tune_with_parameters pid=2809933)\u001b[0m Checkpoint successfully created at: Checkpoint(filesystem=local, path=/scratch/users/k23058970/Model training/results/Complex Peak LSTM Null/tune_with_parameters_2024-08-19_22-55-16/tune_with_parameters_cf806_00005_5_dp=0.2500,hidden_size=400,lr=0.0015,num_layers=2_2024-08-19_22-55-55/checkpoint_000002)\n",
      "Val Epoch:24: 0it [00:00, ?it/s]778909)\u001b[0m \n",
      "Val Epoch:24: 23it [00:01, 22.20it/s]\u001b[32m [repeated 18x across cluster]\u001b[0m\n"
     ]
    },
    {
     "name": "stdout",
     "output_type": "stream",
     "text": [
      "\u001b[36m(tune_with_parameters pid=2809933)\u001b[0m loss: 1.085\u001b[32m [repeated 13x across cluster]\u001b[0m\n"
     ]
    },
    {
     "name": "stderr",
     "output_type": "stream",
     "text": [
      "Val Epoch:3: 0it [00:00, ?it/s]2809933)\u001b[0m \n",
      "Val Epoch:3: 1it [00:01,  1.16s/it]\u001b[32m [repeated 7x across cluster]\u001b[0m\n"
     ]
    },
    {
     "name": "stdout",
     "output_type": "stream",
     "text": [
      "\u001b[36m(tune_with_parameters pid=2778909)\u001b[0m loss: 0.285\u001b[32m [repeated 19x across cluster]\u001b[0m\n",
      "\u001b[36m(tune_with_parameters pid=2809933)\u001b[0m /tmp/tmpl01_fbsl/checkpoint.pt\n"
     ]
    },
    {
     "name": "stderr",
     "output_type": "stream",
     "text": [
      "\u001b[36m(tune_with_parameters pid=2809933)\u001b[0m Checkpoint successfully created at: Checkpoint(filesystem=local, path=/scratch/users/k23058970/Model training/results/Complex Peak LSTM Null/tune_with_parameters_2024-08-19_22-55-16/tune_with_parameters_cf806_00005_5_dp=0.2500,hidden_size=400,lr=0.0015,num_layers=2_2024-08-19_22-55-55/checkpoint_000003)\n",
      "Val Epoch:25: 0it [00:00, ?it/s]778909)\u001b[0m \n",
      "Val Epoch:25: 32it [00:02, 12.30it/s]\u001b[32m [repeated 20x across cluster]\u001b[0m\n"
     ]
    },
    {
     "name": "stdout",
     "output_type": "stream",
     "text": [
      "\u001b[36m(tune_with_parameters pid=2809933)\u001b[0m loss: 1.079\u001b[32m [repeated 11x across cluster]\u001b[0m\n"
     ]
    },
    {
     "name": "stderr",
     "output_type": "stream",
     "text": [
      "Val Epoch:4: 0it [00:00, ?it/s]2809933)\u001b[0m \n",
      "Val Epoch:4: 14it [00:01, 11.19it/s]\u001b[32m [repeated 9x across cluster]\u001b[0m\n"
     ]
    },
    {
     "name": "stdout",
     "output_type": "stream",
     "text": [
      "\u001b[36m(tune_with_parameters pid=2778909)\u001b[0m loss: 0.289\u001b[32m [repeated 19x across cluster]\u001b[0m\n",
      "\u001b[36m(tune_with_parameters pid=2809933)\u001b[0m /tmp/tmpckc_dtg_/checkpoint.pt\n"
     ]
    },
    {
     "name": "stderr",
     "output_type": "stream",
     "text": [
      "\u001b[36m(tune_with_parameters pid=2809933)\u001b[0m Checkpoint successfully created at: Checkpoint(filesystem=local, path=/scratch/users/k23058970/Model training/results/Complex Peak LSTM Null/tune_with_parameters_2024-08-19_22-55-16/tune_with_parameters_cf806_00005_5_dp=0.2500,hidden_size=400,lr=0.0015,num_layers=2_2024-08-19_22-55-55/checkpoint_000004)\n",
      "Val Epoch:26: 0it [00:00, ?it/s]778909)\u001b[0m \n",
      "Val Epoch:26: 36it [00:01, 22.41it/s]\u001b[32m [repeated 19x across cluster]\u001b[0m\n"
     ]
    },
    {
     "name": "stdout",
     "output_type": "stream",
     "text": [
      "\u001b[36m(tune_with_parameters pid=2809933)\u001b[0m loss: 1.072\u001b[32m [repeated 11x across cluster]\u001b[0m\n",
      "\u001b[36m(tune_with_parameters pid=2778909)\u001b[0m loss: 0.282\u001b[32m [repeated 17x across cluster]\u001b[0m\n"
     ]
    },
    {
     "name": "stderr",
     "output_type": "stream",
     "text": [
      "Val Epoch:5: 0it [00:00, ?it/s]2809933)\u001b[0m \n",
      "Val Epoch:26: 47it [00:02, 17.79it/s]\u001b[32m [repeated 3x across cluster]\u001b[0m\n",
      "Val Epoch:27: 0it [00:00, ?it/s]778909)\u001b[0m \n",
      "Val Epoch:27: 24it [00:00, 32.86it/s]\u001b[32m [repeated 21x across cluster]\u001b[0m\n"
     ]
    },
    {
     "name": "stdout",
     "output_type": "stream",
     "text": [
      "\u001b[36m(tune_with_parameters pid=2809933)\u001b[0m loss: 1.063\u001b[32m [repeated 11x across cluster]\u001b[0m\n"
     ]
    },
    {
     "name": "stderr",
     "output_type": "stream",
     "text": [
      "Val Epoch:6: 0it [00:00, ?it/s]2809933)\u001b[0m \n",
      "Val Epoch:27: 47it [00:02, 21.11it/s]\u001b[32m [repeated 7x across cluster]\u001b[0m\n"
     ]
    },
    {
     "name": "stdout",
     "output_type": "stream",
     "text": [
      "\u001b[36m(tune_with_parameters pid=2778909)\u001b[0m loss: 0.272\u001b[32m [repeated 20x across cluster]\u001b[0m\n"
     ]
    },
    {
     "name": "stderr",
     "output_type": "stream",
     "text": [
      "Val Epoch:28: 17it [00:01, 18.01it/s]9)\u001b[0m \n",
      "Val Epoch:28: 0it [00:00, ?it/s]778909)\u001b[0m \n",
      "Val Epoch:28: 11it [00:01, 13.19it/s]\u001b[32m [repeated 16x across cluster]\u001b[0m\n"
     ]
    },
    {
     "name": "stdout",
     "output_type": "stream",
     "text": [
      "\u001b[36m(tune_with_parameters pid=2809933)\u001b[0m loss: 1.053\u001b[32m [repeated 10x across cluster]\u001b[0m\n",
      "\u001b[36m(tune_with_parameters pid=2778909)\u001b[0m /tmp/tmp61uv9skx/checkpoint.pt\n"
     ]
    },
    {
     "name": "stderr",
     "output_type": "stream",
     "text": [
      "\u001b[36m(tune_with_parameters pid=2778909)\u001b[0m Checkpoint successfully created at: Checkpoint(filesystem=local, path=/scratch/users/k23058970/Model training/results/Complex Peak LSTM Null/tune_with_parameters_2024-08-19_22-55-16/tune_with_parameters_cf806_00003_3_dp=0.2500,hidden_size=300,lr=0.0034,num_layers=1_2024-08-19_22-55-55/checkpoint_000010)\n",
      "Val Epoch:7: 0it [00:00, ?it/s]2809933)\u001b[0m \n",
      "Val Epoch:7: 1it [00:00,  2.80it/s]\u001b[32m [repeated 8x across cluster]\u001b[0m\n"
     ]
    },
    {
     "name": "stdout",
     "output_type": "stream",
     "text": [
      "\u001b[36m(tune_with_parameters pid=2778909)\u001b[0m loss: 0.283\u001b[32m [repeated 14x across cluster]\u001b[0m\n",
      "\u001b[36m(tune_with_parameters pid=2778909)\u001b[0m loss: 0.278\u001b[32m [repeated 18x across cluster]\u001b[0m\n"
     ]
    },
    {
     "name": "stderr",
     "output_type": "stream",
     "text": [
      "Val Epoch:29: 0it [00:00, ?it/s]778909)\u001b[0m \n",
      "Val Epoch:7: 47it [00:01, 25.92it/s]\u001b[32m [repeated 11x across cluster]\u001b[0m\n",
      "Val Epoch:8: 0it [00:00, ?it/s]2809933)\u001b[0m \n"
     ]
    },
    {
     "name": "stdout",
     "output_type": "stream",
     "text": [
      "\u001b[36m(tune_with_parameters pid=2778909)\u001b[0m loss: 0.300\u001b[32m [repeated 10x across cluster]\u001b[0m\n"
     ]
    },
    {
     "name": "stderr",
     "output_type": "stream",
     "text": [
      "Val Epoch:8: 29it [00:02, 25.58it/s]\u001b[32m [repeated 22x across cluster]\u001b[0m\n"
     ]
    },
    {
     "name": "stdout",
     "output_type": "stream",
     "text": [
      "\u001b[36m(tune_with_parameters pid=2809933)\u001b[0m loss: 1.022\u001b[32m [repeated 18x across cluster]\u001b[0m\n"
     ]
    },
    {
     "name": "stderr",
     "output_type": "stream",
     "text": [
      "Val Epoch:30: 0it [00:00, ?it/s]778909)\u001b[0m \n",
      "Val Epoch:8: 47it [00:02, 17.19it/s]\u001b[32m [repeated 5x across cluster]\u001b[0m\n",
      "Val Epoch:9: 0it [00:00, ?it/s]2809933)\u001b[0m \n"
     ]
    },
    {
     "name": "stdout",
     "output_type": "stream",
     "text": [
      "\u001b[36m(tune_with_parameters pid=2778909)\u001b[0m loss: 0.345\u001b[32m [repeated 12x across cluster]\u001b[0m\n"
     ]
    },
    {
     "name": "stderr",
     "output_type": "stream",
     "text": [
      "Val Epoch:9: 29it [00:02, 22.58it/s]\u001b[32m [repeated 23x across cluster]\u001b[0m\n",
      "Val Epoch:9: 47it [00:02, 16.67it/s]33)\u001b[0m \n"
     ]
    },
    {
     "name": "stdout",
     "output_type": "stream",
     "text": [
      "\u001b[36m(tune_with_parameters pid=2778909)\u001b[0m loss: 0.277\u001b[32m [repeated 14x across cluster]\u001b[0m\n"
     ]
    },
    {
     "name": "stderr",
     "output_type": "stream",
     "text": [
      "Val Epoch:31: 0it [00:00, ?it/s]778909)\u001b[0m \n",
      "Val Epoch:9: 42it [00:02, 28.59it/s]\u001b[32m [repeated 3x across cluster]\u001b[0m\n"
     ]
    },
    {
     "name": "stdout",
     "output_type": "stream",
     "text": [
      "\u001b[36m(tune_with_parameters pid=2778909)\u001b[0m loss: 0.277\u001b[32m [repeated 7x across cluster]\u001b[0m\n"
     ]
    },
    {
     "name": "stderr",
     "output_type": "stream",
     "text": [
      "Val Epoch:32: 0it [00:00, ?it/s]778909)\u001b[0m \n",
      "Val Epoch:31: 47it [00:02, 19.73it/s]\u001b[32m [repeated 12x across cluster]\u001b[0m\n"
     ]
    },
    {
     "name": "stdout",
     "output_type": "stream",
     "text": [
      "\u001b[36m(tune_with_parameters pid=2778909)\u001b[0m loss: 0.347\u001b[32m [repeated 9x across cluster]\u001b[0m\n"
     ]
    },
    {
     "name": "stderr",
     "output_type": "stream",
     "text": [
      "\u001b[36m(tune_with_parameters pid=2826806)\u001b[0m /users/k23058970/miniforge3/envs/Training/lib/python3.10/site-packages/torch/nn/modules/lazy.py:181: UserWarning: Lazy modules are a new feature under heavy development so changes to the API or functionality can happen at any moment.\n",
      "\u001b[36m(tune_with_parameters pid=2826806)\u001b[0m   warnings.warn('Lazy modules are a new feature under heavy development '\n",
      "Val Epoch:32: 47it [00:02, 17.95it/s]\u001b[32m [repeated 11x across cluster]\u001b[0m\n"
     ]
    },
    {
     "name": "stdout",
     "output_type": "stream",
     "text": [
      "\u001b[36m(tune_with_parameters pid=2778909)\u001b[0m loss: 0.276\u001b[32m [repeated 14x across cluster]\u001b[0m\n"
     ]
    },
    {
     "name": "stderr",
     "output_type": "stream",
     "text": [
      "Val Epoch:33: 0it [00:00, ?it/s]778909)\u001b[0m \n",
      "Val Epoch:33: 47it [00:01, 24.99it/s]9)\u001b[0m \n"
     ]
    },
    {
     "name": "stdout",
     "output_type": "stream",
     "text": [
      "\u001b[36m(tune_with_parameters pid=2778909)\u001b[0m loss: 0.272\u001b[32m [repeated 6x across cluster]\u001b[0m\n"
     ]
    },
    {
     "name": "stderr",
     "output_type": "stream",
     "text": [
      "Val Epoch:34: 0it [00:00, ?it/s]778909)\u001b[0m \n",
      "Val Epoch:33: 39it [00:01, 22.25it/s]\u001b[32m [repeated 8x across cluster]\u001b[0m\n"
     ]
    },
    {
     "name": "stdout",
     "output_type": "stream",
     "text": [
      "\u001b[36m(tune_with_parameters pid=2826806)\u001b[0m loss: 1.100\u001b[32m [repeated 24x across cluster]\u001b[0m\n"
     ]
    },
    {
     "name": "stderr",
     "output_type": "stream",
     "text": [
      "Val Epoch:0: 0it [00:00, ?it/s]2826806)\u001b[0m \n"
     ]
    },
    {
     "name": "stdout",
     "output_type": "stream",
     "text": [
      "\u001b[36m(tune_with_parameters pid=2826806)\u001b[0m /tmp/tmpaxaqzj6z/checkpoint.pt\n"
     ]
    },
    {
     "name": "stderr",
     "output_type": "stream",
     "text": [
      "\u001b[36m(tune_with_parameters pid=2826806)\u001b[0m Checkpoint successfully created at: Checkpoint(filesystem=local, path=/scratch/users/k23058970/Model training/results/Complex Peak LSTM Null/tune_with_parameters_2024-08-19_22-55-16/tune_with_parameters_cf806_00006_6_dp=0.5000,hidden_size=300,lr=0.0741,num_layers=3_2024-08-19_22-55-55/checkpoint_000000)\n"
     ]
    },
    {
     "name": "stdout",
     "output_type": "stream",
     "text": [
      "\u001b[36m(tune_with_parameters pid=2826806)\u001b[0m loss: 1.097\u001b[32m [repeated 9x across cluster]\u001b[0m\n"
     ]
    },
    {
     "name": "stderr",
     "output_type": "stream",
     "text": [
      "Val Epoch:0: 47it [00:02, 16.74it/s]\u001b[32m [repeated 24x across cluster]\u001b[0m\n",
      "Val Epoch:35: 0it [00:00, ?it/s]778909)\u001b[0m \n",
      "Val Epoch:35: 21it [00:00, 35.40it/s]9)\u001b[0m \n",
      "Val Epoch:1: 0it [00:00, ?it/s]2826806)\u001b[0m \n"
     ]
    },
    {
     "name": "stdout",
     "output_type": "stream",
     "text": [
      "\u001b[36m(tune_with_parameters pid=2778909)\u001b[0m loss: 0.174\u001b[32m [repeated 22x across cluster]\u001b[0m\n",
      "\u001b[36m(tune_with_parameters pid=2826806)\u001b[0m /tmp/tmpbag61l9w/checkpoint.pt\n"
     ]
    },
    {
     "name": "stderr",
     "output_type": "stream",
     "text": [
      "\u001b[36m(tune_with_parameters pid=2826806)\u001b[0m Checkpoint successfully created at: Checkpoint(filesystem=local, path=/scratch/users/k23058970/Model training/results/Complex Peak LSTM Null/tune_with_parameters_2024-08-19_22-55-16/tune_with_parameters_cf806_00006_6_dp=0.5000,hidden_size=300,lr=0.0741,num_layers=3_2024-08-19_22-55-55/checkpoint_000001)\n"
     ]
    },
    {
     "name": "stdout",
     "output_type": "stream",
     "text": [
      "\u001b[36m(tune_with_parameters pid=2778909)\u001b[0m loss: 0.279\u001b[32m [repeated 20x across cluster]\u001b[0m\n"
     ]
    },
    {
     "name": "stderr",
     "output_type": "stream",
     "text": [
      "Val Epoch:1: 47it [00:02, 18.97it/s]\u001b[32m [repeated 23x across cluster]\u001b[0m\n",
      "Val Epoch:36: 0it [00:00, ?it/s]778909)\u001b[0m \n",
      "Val Epoch:2: 0it [00:00, ?it/s]2826806)\u001b[0m \n"
     ]
    },
    {
     "name": "stdout",
     "output_type": "stream",
     "text": [
      "\u001b[36m(tune_with_parameters pid=2778909)\u001b[0m loss: 0.225\u001b[32m [repeated 10x across cluster]\u001b[0m\n",
      "\u001b[36m(tune_with_parameters pid=2778909)\u001b[0m loss: 0.266\u001b[32m [repeated 20x across cluster]\u001b[0m\n"
     ]
    },
    {
     "name": "stderr",
     "output_type": "stream",
     "text": [
      "Val Epoch:2: 47it [00:02, 16.37it/s]\u001b[32m [repeated 27x across cluster]\u001b[0m\n",
      "Val Epoch:37: 0it [00:00, ?it/s]778909)\u001b[0m \n",
      "Val Epoch:3: 0it [00:00, ?it/s]2826806)\u001b[0m \n"
     ]
    },
    {
     "name": "stdout",
     "output_type": "stream",
     "text": [
      "\u001b[36m(tune_with_parameters pid=2778909)\u001b[0m loss: 0.241\u001b[32m [repeated 10x across cluster]\u001b[0m\n",
      "\u001b[36m(tune_with_parameters pid=2826806)\u001b[0m /tmp/tmpc0rxb7w8/checkpoint.pt\n"
     ]
    },
    {
     "name": "stderr",
     "output_type": "stream",
     "text": [
      "\u001b[36m(tune_with_parameters pid=2826806)\u001b[0m Checkpoint successfully created at: Checkpoint(filesystem=local, path=/scratch/users/k23058970/Model training/results/Complex Peak LSTM Null/tune_with_parameters_2024-08-19_22-55-16/tune_with_parameters_cf806_00006_6_dp=0.5000,hidden_size=300,lr=0.0741,num_layers=3_2024-08-19_22-55-55/checkpoint_000002)\n",
      "Val Epoch:3: 47it [00:02, 16.31it/s]\u001b[32m [repeated 26x across cluster]\u001b[0m\n"
     ]
    },
    {
     "name": "stdout",
     "output_type": "stream",
     "text": [
      "\u001b[36m(tune_with_parameters pid=2778909)\u001b[0m loss: 0.271\u001b[32m [repeated 23x across cluster]\u001b[0m\n"
     ]
    },
    {
     "name": "stderr",
     "output_type": "stream",
     "text": [
      "Val Epoch:38: 0it [00:00, ?it/s]778909)\u001b[0m \n",
      "Val Epoch:38: 2it [00:00, 12.05it/s]09)\u001b[0m \n",
      "Val Epoch:38: 7it [00:00, 26.27it/s]09)\u001b[0m \n",
      "Val Epoch:38: 10it [00:00, 26.33it/s]9)\u001b[0m \n",
      "Val Epoch:38: 14it [00:00, 27.36it/s]9)\u001b[0m \n",
      "Val Epoch:38: 18it [00:00, 29.96it/s]9)\u001b[0m \n",
      "Val Epoch:38: 22it [00:00, 30.84it/s]9)\u001b[0m \n",
      "Val Epoch:38: 29it [00:00, 39.18it/s]9)\u001b[0m \n",
      "Val Epoch:38: 33it [00:01, 21.48it/s]9)\u001b[0m \n",
      "Val Epoch:4: 0it [00:00, ?it/s]2826806)\u001b[0m \n",
      "Val Epoch:38: 37it [00:01, 15.74it/s]9)\u001b[0m \n",
      "Val Epoch:38: 40it [00:01, 16.99it/s]9)\u001b[0m \n",
      "Val Epoch:38: 44it [00:01, 20.61it/s]9)\u001b[0m \n"
     ]
    },
    {
     "name": "stdout",
     "output_type": "stream",
     "text": [
      "\u001b[36m(tune_with_parameters pid=2778909)\u001b[0m loss: 0.292\u001b[32m [repeated 9x across cluster]\u001b[0m\n",
      "\u001b[36m(tune_with_parameters pid=2826806)\u001b[0m /tmp/tmp27heoujb/checkpoint.pt\n"
     ]
    },
    {
     "name": "stderr",
     "output_type": "stream",
     "text": [
      "\u001b[36m(tune_with_parameters pid=2826806)\u001b[0m Checkpoint successfully created at: Checkpoint(filesystem=local, path=/scratch/users/k23058970/Model training/results/Complex Peak LSTM Null/tune_with_parameters_2024-08-19_22-55-16/tune_with_parameters_cf806_00006_6_dp=0.5000,hidden_size=300,lr=0.0741,num_layers=3_2024-08-19_22-55-55/checkpoint_000003)\n",
      "Val Epoch:4: 47it [00:03, 15.60it/s]\u001b[32m [repeated 15x across cluster]\u001b[0m\n",
      "Val Epoch:39: 0it [00:00, ?it/s]778909)\u001b[0m \n"
     ]
    },
    {
     "name": "stdout",
     "output_type": "stream",
     "text": [
      "\u001b[36m(tune_with_parameters pid=2826806)\u001b[0m loss: 0.779\u001b[32m [repeated 23x across cluster]\u001b[0m\n"
     ]
    },
    {
     "name": "stderr",
     "output_type": "stream",
     "text": [
      "Val Epoch:5: 0it [00:00, ?it/s]2826806)\u001b[0m \n",
      "Val Epoch:5: 32it [00:02, 24.65it/s]\u001b[32m [repeated 22x across cluster]\u001b[0m\n"
     ]
    },
    {
     "name": "stdout",
     "output_type": "stream",
     "text": [
      "\u001b[36m(tune_with_parameters pid=2778909)\u001b[0m loss: 0.284\u001b[32m [repeated 8x across cluster]\u001b[0m\n",
      "\u001b[36m(tune_with_parameters pid=2826806)\u001b[0m /tmp/tmp3stxrask/checkpoint.pt\n"
     ]
    },
    {
     "name": "stderr",
     "output_type": "stream",
     "text": [
      "\u001b[36m(tune_with_parameters pid=2826806)\u001b[0m Checkpoint successfully created at: Checkpoint(filesystem=local, path=/scratch/users/k23058970/Model training/results/Complex Peak LSTM Null/tune_with_parameters_2024-08-19_22-55-16/tune_with_parameters_cf806_00006_6_dp=0.5000,hidden_size=300,lr=0.0741,num_layers=3_2024-08-19_22-55-55/checkpoint_000004)\n",
      "Val Epoch:40: 0it [00:00, ?it/s]778909)\u001b[0m \n",
      "Val Epoch:5: 47it [00:02, 16.38it/s]\u001b[32m [repeated 4x across cluster]\u001b[0m\n"
     ]
    },
    {
     "name": "stdout",
     "output_type": "stream",
     "text": [
      "\u001b[36m(tune_with_parameters pid=2826806)\u001b[0m loss: 0.792\u001b[32m [repeated 21x across cluster]\u001b[0m\n"
     ]
    },
    {
     "name": "stderr",
     "output_type": "stream",
     "text": [
      "Val Epoch:6: 0it [00:00, ?it/s]2826806)\u001b[0m \n",
      "Val Epoch:6: 21it [00:02, 15.25it/s]\u001b[32m [repeated 19x across cluster]\u001b[0m\n"
     ]
    },
    {
     "name": "stdout",
     "output_type": "stream",
     "text": [
      "\u001b[36m(tune_with_parameters pid=2778909)\u001b[0m loss: 0.276\u001b[32m [repeated 10x across cluster]\u001b[0m\n"
     ]
    },
    {
     "name": "stderr",
     "output_type": "stream",
     "text": [
      "Val Epoch:6: 47it [00:02, 16.56it/s]06)\u001b[0m \n",
      "\u001b[36m(tune_with_parameters pid=2826806)\u001b[0m /scratch/users/k23058970/Model training/training_insilico_lstm.py:63: RuntimeWarning: invalid value encountered in divide\n",
      "\u001b[36m(tune_with_parameters pid=2826806)\u001b[0m   self.precision = self.tp/(self.tp + self.fp)\n",
      "Val Epoch:41: 0it [00:00, ?it/s]778909)\u001b[0m \n",
      "Val Epoch:6: 43it [00:02, 30.64it/s]\u001b[32m [repeated 5x across cluster]\u001b[0m\n"
     ]
    },
    {
     "name": "stdout",
     "output_type": "stream",
     "text": [
      "\u001b[36m(tune_with_parameters pid=2826806)\u001b[0m loss: 0.789\u001b[32m [repeated 20x across cluster]\u001b[0m\n"
     ]
    },
    {
     "name": "stderr",
     "output_type": "stream",
     "text": [
      "Val Epoch:7: 0it [00:00, ?it/s]2826806)\u001b[0m \n",
      "Val Epoch:7: 47it [00:02, 18.54it/s]06)\u001b[0m \n"
     ]
    },
    {
     "name": "stdout",
     "output_type": "stream",
     "text": [
      "\u001b[36m(tune_with_parameters pid=2826806)\u001b[0m loss: 0.812\u001b[32m [repeated 10x across cluster]\u001b[0m\n"
     ]
    },
    {
     "name": "stderr",
     "output_type": "stream",
     "text": [
      "Val Epoch:7: 43it [00:02, 27.96it/s]\u001b[32m [repeated 23x across cluster]\u001b[0m\n",
      "Val Epoch:42: 0it [00:00, ?it/s]778909)\u001b[0m \n"
     ]
    },
    {
     "name": "stdout",
     "output_type": "stream",
     "text": [
      "\u001b[36m(tune_with_parameters pid=2826806)\u001b[0m loss: 0.788\u001b[32m [repeated 25x across cluster]\u001b[0m\n"
     ]
    },
    {
     "name": "stderr",
     "output_type": "stream",
     "text": [
      "Val Epoch:8: 0it [00:00, ?it/s]2826806)\u001b[0m \n"
     ]
    },
    {
     "name": "stdout",
     "output_type": "stream",
     "text": [
      "\u001b[36m(tune_with_parameters pid=2826806)\u001b[0m loss: 0.810\u001b[32m [repeated 4x across cluster]\u001b[0m\n"
     ]
    },
    {
     "name": "stderr",
     "output_type": "stream",
     "text": [
      "Val Epoch:8: 47it [00:03, 15.00it/s]\u001b[32m [repeated 27x across cluster]\u001b[0m\n",
      "Val Epoch:43: 0it [00:00, ?it/s]778909)\u001b[0m \n",
      "Val Epoch:9: 0it [00:00, ?it/s]2826806)\u001b[0m \n"
     ]
    },
    {
     "name": "stdout",
     "output_type": "stream",
     "text": [
      "\u001b[36m(tune_with_parameters pid=2778909)\u001b[0m loss: 0.397\u001b[32m [repeated 27x across cluster]\u001b[0m\n",
      "\u001b[36m(tune_with_parameters pid=2778909)\u001b[0m loss: 0.279\u001b[32m [repeated 14x across cluster]\u001b[0m\n"
     ]
    },
    {
     "name": "stderr",
     "output_type": "stream",
     "text": [
      "Val Epoch:9: 47it [00:02, 16.47it/s]\u001b[32m [repeated 29x across cluster]\u001b[0m\n",
      "Val Epoch:44: 0it [00:00, ?it/s]778909)\u001b[0m \n"
     ]
    },
    {
     "name": "stdout",
     "output_type": "stream",
     "text": [
      "\u001b[36m(tune_with_parameters pid=2778909)\u001b[0m loss: 0.277\u001b[32m [repeated 8x across cluster]\u001b[0m\n"
     ]
    },
    {
     "name": "stderr",
     "output_type": "stream",
     "text": [
      "Val Epoch:45: 0it [00:00, ?it/s]778909)\u001b[0m \n",
      "Val Epoch:44: 47it [00:01, 37.93it/s]\u001b[32m [repeated 10x across cluster]\u001b[0m\n"
     ]
    },
    {
     "name": "stdout",
     "output_type": "stream",
     "text": [
      "\u001b[36m(tune_with_parameters pid=2778909)\u001b[0m loss: 0.347\u001b[32m [repeated 8x across cluster]\u001b[0m\n"
     ]
    },
    {
     "name": "stderr",
     "output_type": "stream",
     "text": [
      "\u001b[36m(tune_with_parameters pid=2844440)\u001b[0m /users/k23058970/miniforge3/envs/Training/lib/python3.10/site-packages/torch/nn/modules/lazy.py:181: UserWarning: Lazy modules are a new feature under heavy development so changes to the API or functionality can happen at any moment.\n",
      "\u001b[36m(tune_with_parameters pid=2844440)\u001b[0m   warnings.warn('Lazy modules are a new feature under heavy development '\n",
      "Val Epoch:45: 47it [00:02, 20.12it/s]\u001b[32m [repeated 12x across cluster]\u001b[0m\n",
      "Val Epoch:46: 0it [00:00, ?it/s]778909)\u001b[0m \n"
     ]
    },
    {
     "name": "stdout",
     "output_type": "stream",
     "text": [
      "\u001b[36m(tune_with_parameters pid=2778909)\u001b[0m loss: 0.259\u001b[32m [repeated 15x across cluster]\u001b[0m\n"
     ]
    },
    {
     "name": "stderr",
     "output_type": "stream",
     "text": [
      "Val Epoch:47: 0it [00:00, ?it/s]778909)\u001b[0m \n",
      "Val Epoch:46: 47it [00:01, 26.16it/s]\u001b[32m [repeated 11x across cluster]\u001b[0m\n"
     ]
    },
    {
     "name": "stdout",
     "output_type": "stream",
     "text": [
      "\u001b[36m(tune_with_parameters pid=2844440)\u001b[0m loss: 0.705\u001b[32m [repeated 28x across cluster]\u001b[0m\n"
     ]
    },
    {
     "name": "stderr",
     "output_type": "stream",
     "text": [
      "Val Epoch:0: 0it [00:00, ?it/s]2844440)\u001b[0m \n",
      "Val Epoch:47: 46it [00:02, 25.88it/s]9)\u001b[0m \n",
      "\u001b[36m(tune_with_parameters pid=2844440)\u001b[0m /scratch/users/k23058970/Model training/training_insilico_lstm.py:63: RuntimeWarning: invalid value encountered in divide\n",
      "\u001b[36m(tune_with_parameters pid=2844440)\u001b[0m   self.precision = self.tp/(self.tp + self.fp)\n",
      "\u001b[36m(tune_with_parameters pid=2844440)\u001b[0m Checkpoint successfully created at: Checkpoint(filesystem=local, path=/scratch/users/k23058970/Model training/results/Complex Peak LSTM Null/tune_with_parameters_2024-08-19_22-55-16/tune_with_parameters_cf806_00007_7_dp=0.2000,hidden_size=200,lr=0.0462,num_layers=1_2024-08-19_22-55-55/checkpoint_000000)\n"
     ]
    },
    {
     "name": "stdout",
     "output_type": "stream",
     "text": [
      "\u001b[36m(tune_with_parameters pid=2844440)\u001b[0m /tmp/tmpj0bdxm71/checkpoint.pt\n",
      "\u001b[36m(tune_with_parameters pid=2844440)\u001b[0m loss: 0.605\u001b[32m [repeated 7x across cluster]\u001b[0m\n"
     ]
    },
    {
     "name": "stderr",
     "output_type": "stream",
     "text": [
      "Val Epoch:0: 47it [00:02, 17.29it/s]\u001b[32m [repeated 23x across cluster]\u001b[0m\n",
      "Val Epoch:48: 0it [00:00, ?it/s]778909)\u001b[0m \n",
      "Val Epoch:1: 0it [00:00, ?it/s]2844440)\u001b[0m \n"
     ]
    },
    {
     "name": "stdout",
     "output_type": "stream",
     "text": [
      "\u001b[36m(tune_with_parameters pid=2778909)\u001b[0m loss: 0.309\u001b[32m [repeated 25x across cluster]\u001b[0m\n",
      "\u001b[36m(tune_with_parameters pid=2844440)\u001b[0m /tmp/tmpali_y4g4/checkpoint.pt\n"
     ]
    },
    {
     "name": "stderr",
     "output_type": "stream",
     "text": [
      "\u001b[36m(tune_with_parameters pid=2844440)\u001b[0m Checkpoint successfully created at: Checkpoint(filesystem=local, path=/scratch/users/k23058970/Model training/results/Complex Peak LSTM Null/tune_with_parameters_2024-08-19_22-55-16/tune_with_parameters_cf806_00007_7_dp=0.2000,hidden_size=200,lr=0.0462,num_layers=1_2024-08-19_22-55-55/checkpoint_000001)\n"
     ]
    },
    {
     "name": "stdout",
     "output_type": "stream",
     "text": [
      "\u001b[36m(tune_with_parameters pid=2778909)\u001b[0m loss: 0.286\u001b[32m [repeated 22x across cluster]\u001b[0m\n"
     ]
    },
    {
     "name": "stderr",
     "output_type": "stream",
     "text": [
      "Val Epoch:1: 47it [00:03, 14.61it/s]\u001b[32m [repeated 25x across cluster]\u001b[0m\n",
      "Val Epoch:49: 0it [00:00, ?it/s]778909)\u001b[0m \n",
      "Val Epoch:2: 0it [00:00, ?it/s]2844440)\u001b[0m \n",
      "Val Epoch:49: 23it [00:02,  9.18it/s]9)\u001b[0m \n"
     ]
    },
    {
     "name": "stdout",
     "output_type": "stream",
     "text": [
      "\u001b[36m(tune_with_parameters pid=2778909)\u001b[0m loss: 0.207\u001b[32m [repeated 8x across cluster]\u001b[0m\n",
      "\u001b[36m(tune_with_parameters pid=2844440)\u001b[0m /tmp/tmppb9zdpi7/checkpoint.pt\n"
     ]
    },
    {
     "name": "stderr",
     "output_type": "stream",
     "text": [
      "\u001b[36m(tune_with_parameters pid=2844440)\u001b[0m Checkpoint successfully created at: Checkpoint(filesystem=local, path=/scratch/users/k23058970/Model training/results/Complex Peak LSTM Null/tune_with_parameters_2024-08-19_22-55-16/tune_with_parameters_cf806_00007_7_dp=0.2000,hidden_size=200,lr=0.0462,num_layers=1_2024-08-19_22-55-55/checkpoint_000002)\n"
     ]
    },
    {
     "name": "stdout",
     "output_type": "stream",
     "text": [
      "\u001b[36m(tune_with_parameters pid=2778909)\u001b[0m loss: 0.271\u001b[32m [repeated 25x across cluster]\u001b[0m\n"
     ]
    },
    {
     "name": "stderr",
     "output_type": "stream",
     "text": [
      "Val Epoch:2: 47it [00:03, 14.76it/s]\u001b[32m [repeated 24x across cluster]\u001b[0m\n",
      "Val Epoch:50: 0it [00:00, ?it/s]778909)\u001b[0m \n",
      "Val Epoch:3: 0it [00:00, ?it/s]2844440)\u001b[0m \n"
     ]
    },
    {
     "name": "stdout",
     "output_type": "stream",
     "text": [
      "\u001b[36m(tune_with_parameters pid=2778909)\u001b[0m loss: 0.270\u001b[32m [repeated 6x across cluster]\u001b[0m\n",
      "\u001b[36m(tune_with_parameters pid=2844440)\u001b[0m /tmp/tmp5wtw2gdg/checkpoint.pt\n"
     ]
    },
    {
     "name": "stderr",
     "output_type": "stream",
     "text": [
      "\u001b[36m(tune_with_parameters pid=2844440)\u001b[0m Checkpoint successfully created at: Checkpoint(filesystem=local, path=/scratch/users/k23058970/Model training/results/Complex Peak LSTM Null/tune_with_parameters_2024-08-19_22-55-16/tune_with_parameters_cf806_00007_7_dp=0.2000,hidden_size=200,lr=0.0462,num_layers=1_2024-08-19_22-55-55/checkpoint_000003)\n",
      "Val Epoch:3: 47it [00:02, 19.40it/s]\u001b[32m [repeated 25x across cluster]\u001b[0m\n"
     ]
    },
    {
     "name": "stdout",
     "output_type": "stream",
     "text": [
      "\u001b[36m(tune_with_parameters pid=2844440)\u001b[0m loss: 0.241\u001b[32m [repeated 24x across cluster]\u001b[0m\n"
     ]
    },
    {
     "name": "stderr",
     "output_type": "stream",
     "text": [
      "Val Epoch:51: 0it [00:00, ?it/s]778909)\u001b[0m \n",
      "Val Epoch:51: 1it [00:00,  1.92it/s]09)\u001b[0m \n",
      "Val Epoch:51: 4it [00:00,  7.84it/s]09)\u001b[0m \n",
      "Val Epoch:51: 8it [00:00, 14.93it/s]09)\u001b[0m \n",
      "Val Epoch:51: 12it [00:00, 18.60it/s]9)\u001b[0m \n",
      "Val Epoch:51: 15it [00:01, 20.72it/s]9)\u001b[0m \n",
      "Val Epoch:51: 20it [00:01, 27.06it/s]9)\u001b[0m \n",
      "Val Epoch:51: 24it [00:01, 25.81it/s]9)\u001b[0m \n",
      "Val Epoch:51: 30it [00:01, 33.18it/s]9)\u001b[0m \n",
      "Val Epoch:51: 35it [00:01, 35.94it/s]9)\u001b[0m \n",
      "Val Epoch:51: 39it [00:01, 36.28it/s]9)\u001b[0m \n",
      "Val Epoch:51: 43it [00:02, 15.16it/s]9)\u001b[0m \n",
      "Val Epoch:4: 0it [00:00, ?it/s]2844440)\u001b[0m \n",
      "Val Epoch:51: 46it [00:02, 14.23it/s]9)\u001b[0m \n",
      "Val Epoch:51: 47it [00:02, 16.90it/s]9)\u001b[0m \n"
     ]
    },
    {
     "name": "stdout",
     "output_type": "stream",
     "text": [
      "\u001b[36m(tune_with_parameters pid=2778909)\u001b[0m loss: 0.285\u001b[32m [repeated 7x across cluster]\u001b[0m\n",
      "\u001b[36m(tune_with_parameters pid=2844440)\u001b[0m /tmp/tmpugjkhu1i/checkpoint.pt\n"
     ]
    },
    {
     "name": "stderr",
     "output_type": "stream",
     "text": [
      "\u001b[36m(tune_with_parameters pid=2844440)\u001b[0m Checkpoint successfully created at: Checkpoint(filesystem=local, path=/scratch/users/k23058970/Model training/results/Complex Peak LSTM Null/tune_with_parameters_2024-08-19_22-55-16/tune_with_parameters_cf806_00007_7_dp=0.2000,hidden_size=200,lr=0.0462,num_layers=1_2024-08-19_22-55-55/checkpoint_000004)\n"
     ]
    },
    {
     "name": "stdout",
     "output_type": "stream",
     "text": [
      "\u001b[36m(tune_with_parameters pid=2778909)\u001b[0m loss: 0.283\u001b[32m [repeated 21x across cluster]\u001b[0m\n"
     ]
    },
    {
     "name": "stderr",
     "output_type": "stream",
     "text": [
      "Val Epoch:4: 47it [00:02, 17.10it/s]\u001b[32m [repeated 13x across cluster]\u001b[0m\n",
      "Val Epoch:52: 0it [00:00, ?it/s]778909)\u001b[0m \n",
      "Val Epoch:5: 0it [00:00, ?it/s]2844440)\u001b[0m \n"
     ]
    },
    {
     "name": "stdout",
     "output_type": "stream",
     "text": [
      "\u001b[36m(tune_with_parameters pid=2778909)\u001b[0m loss: 0.284\u001b[32m [repeated 8x across cluster]\u001b[0m\n"
     ]
    },
    {
     "name": "stderr",
     "output_type": "stream",
     "text": [
      "Val Epoch:5: 47it [00:03, 15.59it/s]\u001b[32m [repeated 25x across cluster]\u001b[0m\n",
      "\u001b[36m(tune_with_parameters pid=2844440)\u001b[0m Checkpoint successfully created at: Checkpoint(filesystem=local, path=/scratch/users/k23058970/Model training/results/Complex Peak LSTM Null/tune_with_parameters_2024-08-19_22-55-16/tune_with_parameters_cf806_00007_7_dp=0.2000,hidden_size=200,lr=0.0462,num_layers=1_2024-08-19_22-55-55/checkpoint_000005)\n"
     ]
    },
    {
     "name": "stdout",
     "output_type": "stream",
     "text": [
      "\u001b[36m(tune_with_parameters pid=2844440)\u001b[0m /tmp/tmpkrjtlr_3/checkpoint.pt\n",
      "\u001b[36m(tune_with_parameters pid=2844440)\u001b[0m \n"
     ]
    },
    {
     "name": "stderr",
     "output_type": "stream",
     "text": [
      "Val Epoch:53: 0it [00:00, ?it/s]778909)\u001b[0m \n"
     ]
    },
    {
     "name": "stdout",
     "output_type": "stream",
     "text": [
      "\u001b[36m(tune_with_parameters pid=2844440)\u001b[0m loss: 0.212\u001b[32m [repeated 24x across cluster]\u001b[0m\n"
     ]
    },
    {
     "name": "stderr",
     "output_type": "stream",
     "text": [
      "Val Epoch:53: 1it [00:00,  1.15it/s]09)\u001b[0m \n",
      "Val Epoch:53: 3it [00:00,  3.74it/s]09)\u001b[0m \n",
      "Val Epoch:53: 8it [00:01, 10.70it/s]09)\u001b[0m \n",
      "Val Epoch:53: 12it [00:01, 15.64it/s]9)\u001b[0m \n",
      "Val Epoch:53: 15it [00:01, 18.17it/s]9)\u001b[0m \n",
      "Val Epoch:53: 18it [00:01, 20.68it/s]9)\u001b[0m \n",
      "Val Epoch:53: 21it [00:01, 22.86it/s]9)\u001b[0m \n",
      "Val Epoch:53: 25it [00:01, 26.65it/s]9)\u001b[0m \n",
      "Val Epoch:53: 29it [00:01, 28.52it/s]9)\u001b[0m \n",
      "Val Epoch:53: 33it [00:01, 29.80it/s]9)\u001b[0m \n",
      "Val Epoch:53: 39it [00:02, 36.61it/s]9)\u001b[0m \n",
      "Val Epoch:53: 43it [00:02, 33.86it/s]9)\u001b[0m \n",
      "Val Epoch:6: 0it [00:00, ?it/s]2844440)\u001b[0m \n",
      "Val Epoch:53: 47it [00:03, 15.34it/s]9)\u001b[0m \n"
     ]
    },
    {
     "name": "stdout",
     "output_type": "stream",
     "text": [
      "\u001b[36m(tune_with_parameters pid=2778909)\u001b[0m loss: 0.276\u001b[32m [repeated 8x across cluster]\u001b[0m\n"
     ]
    },
    {
     "name": "stderr",
     "output_type": "stream",
     "text": [
      "Val Epoch:6: 47it [00:02, 16.40it/s]\u001b[32m [repeated 14x across cluster]\u001b[0m\n",
      "Val Epoch:54: 0it [00:00, ?it/s]778909)\u001b[0m \n"
     ]
    },
    {
     "name": "stdout",
     "output_type": "stream",
     "text": [
      "\u001b[36m(tune_with_parameters pid=2844440)\u001b[0m loss: 0.215\u001b[32m [repeated 23x across cluster]\u001b[0m\n"
     ]
    },
    {
     "name": "stderr",
     "output_type": "stream",
     "text": [
      "Val Epoch:7: 0it [00:00, ?it/s]2844440)\u001b[0m \n"
     ]
    },
    {
     "name": "stdout",
     "output_type": "stream",
     "text": [
      "\u001b[36m(tune_with_parameters pid=2844440)\u001b[0m loss: 0.208\u001b[32m [repeated 7x across cluster]\u001b[0m\n"
     ]
    },
    {
     "name": "stderr",
     "output_type": "stream",
     "text": [
      "Val Epoch:7: 47it [00:02, 17.57it/s]\u001b[32m [repeated 27x across cluster]\u001b[0m\n",
      "Val Epoch:55: 0it [00:00, ?it/s]778909)\u001b[0m \n"
     ]
    },
    {
     "name": "stdout",
     "output_type": "stream",
     "text": [
      "\u001b[36m(tune_with_parameters pid=2844440)\u001b[0m loss: 0.220\u001b[32m [repeated 26x across cluster]\u001b[0m\n"
     ]
    },
    {
     "name": "stderr",
     "output_type": "stream",
     "text": [
      "Val Epoch:8: 0it [00:00, ?it/s]2844440)\u001b[0m \n"
     ]
    },
    {
     "name": "stdout",
     "output_type": "stream",
     "text": [
      "\u001b[36m(tune_with_parameters pid=2778909)\u001b[0m loss: 0.260\u001b[32m [repeated 6x across cluster]\u001b[0m\n"
     ]
    },
    {
     "name": "stderr",
     "output_type": "stream",
     "text": [
      "Val Epoch:8: 47it [00:02, 20.10it/s]\u001b[32m [repeated 27x across cluster]\u001b[0m\n",
      "Val Epoch:56: 0it [00:00, ?it/s]778909)\u001b[0m \n",
      "Val Epoch:9: 0it [00:00, ?it/s]2844440)\u001b[0m \n"
     ]
    },
    {
     "name": "stdout",
     "output_type": "stream",
     "text": [
      "\u001b[36m(tune_with_parameters pid=2778909)\u001b[0m loss: 0.293\u001b[32m [repeated 25x across cluster]\u001b[0m\n"
     ]
    },
    {
     "name": "stderr",
     "output_type": "stream",
     "text": [
      "Val Epoch:10: 0it [00:00, ?it/s]844440)\u001b[0m \n",
      "Val Epoch:9: 47it [00:01, 24.47it/s]\u001b[32m [repeated 26x across cluster]\u001b[0m\n",
      "Val Epoch:57: 0it [00:00, ?it/s]778909)\u001b[0m \n"
     ]
    },
    {
     "name": "stdout",
     "output_type": "stream",
     "text": [
      "\u001b[36m(tune_with_parameters pid=2778909)\u001b[0m loss: 0.310\u001b[32m [repeated 30x across cluster]\u001b[0m\n",
      "\u001b[36m(tune_with_parameters pid=2778909)\u001b[0m loss: 0.285\u001b[32m [repeated 29x across cluster]\u001b[0m\n"
     ]
    },
    {
     "name": "stderr",
     "output_type": "stream",
     "text": [
      "Val Epoch:10: 47it [00:02, 19.12it/s]\u001b[32m [repeated 26x across cluster]\u001b[0m\n",
      "Val Epoch:11: 0it [00:00, ?it/s]844440)\u001b[0m \n",
      "Val Epoch:58: 0it [00:00, ?it/s]778909)\u001b[0m \n"
     ]
    },
    {
     "name": "stdout",
     "output_type": "stream",
     "text": [
      "\u001b[36m(tune_with_parameters pid=2844440)\u001b[0m loss: 0.226\u001b[32m [repeated 2x across cluster]\u001b[0m\n"
     ]
    },
    {
     "name": "stderr",
     "output_type": "stream",
     "text": [
      "Val Epoch:58: 47it [00:03, 14.66it/s]\u001b[32m [repeated 26x across cluster]\u001b[0m\n",
      "Val Epoch:12: 0it [00:00, ?it/s]844440)\u001b[0m \n"
     ]
    },
    {
     "name": "stdout",
     "output_type": "stream",
     "text": [
      "\u001b[36m(tune_with_parameters pid=2778909)\u001b[0m loss: 0.274\u001b[32m [repeated 27x across cluster]\u001b[0m\n"
     ]
    },
    {
     "name": "stderr",
     "output_type": "stream",
     "text": [
      "Val Epoch:59: 0it [00:00, ?it/s]778909)\u001b[0m \n"
     ]
    },
    {
     "name": "stdout",
     "output_type": "stream",
     "text": [
      "\u001b[36m(tune_with_parameters pid=2844440)\u001b[0m /tmp/tmphsnfxls4/checkpoint.pt\n"
     ]
    },
    {
     "name": "stderr",
     "output_type": "stream",
     "text": [
      "\u001b[36m(tune_with_parameters pid=2844440)\u001b[0m Checkpoint successfully created at: Checkpoint(filesystem=local, path=/scratch/users/k23058970/Model training/results/Complex Peak LSTM Null/tune_with_parameters_2024-08-19_22-55-16/tune_with_parameters_cf806_00007_7_dp=0.2000,hidden_size=200,lr=0.0462,num_layers=1_2024-08-19_22-55-55/checkpoint_000006)\n"
     ]
    },
    {
     "name": "stdout",
     "output_type": "stream",
     "text": [
      "\u001b[36m(tune_with_parameters pid=2778909)\u001b[0m loss: 0.265\u001b[32m [repeated 6x across cluster]\u001b[0m\n"
     ]
    },
    {
     "name": "stderr",
     "output_type": "stream",
     "text": [
      "Val Epoch:59: 47it [00:02, 19.74it/s]\u001b[32m [repeated 25x across cluster]\u001b[0m\n",
      "Val Epoch:13: 0it [00:00, ?it/s]844440)\u001b[0m \n"
     ]
    },
    {
     "name": "stdout",
     "output_type": "stream",
     "text": [
      "\u001b[36m(tune_with_parameters pid=2778909)\u001b[0m loss: 0.268\u001b[32m [repeated 25x across cluster]\u001b[0m\n"
     ]
    },
    {
     "name": "stderr",
     "output_type": "stream",
     "text": [
      "Val Epoch:60: 0it [00:00, ?it/s]778909)\u001b[0m \n",
      "Val Epoch:60: 47it [00:03, 14.82it/s]\u001b[32m [repeated 24x across cluster]\u001b[0m\n"
     ]
    },
    {
     "name": "stdout",
     "output_type": "stream",
     "text": [
      "\u001b[36m(tune_with_parameters pid=2844440)\u001b[0m loss: 0.218\u001b[32m [repeated 5x across cluster]\u001b[0m\n"
     ]
    },
    {
     "name": "stderr",
     "output_type": "stream",
     "text": [
      "Val Epoch:14: 0it [00:00, ?it/s]844440)\u001b[0m \n",
      "Val Epoch:14: 1it [00:00,  2.89it/s]40)\u001b[0m \n"
     ]
    },
    {
     "name": "stdout",
     "output_type": "stream",
     "text": [
      "\u001b[36m(tune_with_parameters pid=2778909)\u001b[0m loss: 0.275\u001b[32m [repeated 24x across cluster]\u001b[0m\n"
     ]
    },
    {
     "name": "stderr",
     "output_type": "stream",
     "text": [
      "Val Epoch:14: 4it [00:00,  8.43it/s]40)\u001b[0m \n",
      "Val Epoch:14: 7it [00:00, 12.43it/s]40)\u001b[0m \n",
      "Val Epoch:14: 11it [00:00, 17.58it/s]0)\u001b[0m \n",
      "Val Epoch:14: 15it [00:00, 21.38it/s]0)\u001b[0m \n",
      "Val Epoch:14: 20it [00:01, 28.04it/s]0)\u001b[0m \n",
      "Val Epoch:14: 25it [00:01, 33.40it/s]0)\u001b[0m \n",
      "Val Epoch:14: 29it [00:01, 12.95it/s]0)\u001b[0m \n",
      "Val Epoch:61: 0it [00:00, ?it/s]778909)\u001b[0m \n",
      "Val Epoch:14: 32it [00:02,  9.53it/s]0)\u001b[0m \n",
      "Val Epoch:14: 35it [00:02, 11.57it/s]0)\u001b[0m \n"
     ]
    },
    {
     "name": "stdout",
     "output_type": "stream",
     "text": [
      "\u001b[36m(tune_with_parameters pid=2844440)\u001b[0m loss: 0.216\u001b[32m [repeated 6x across cluster]\u001b[0m\n"
     ]
    },
    {
     "name": "stderr",
     "output_type": "stream",
     "text": [
      "Val Epoch:61: 47it [00:02, 19.36it/s]\u001b[32m [repeated 15x across cluster]\u001b[0m\n",
      "Val Epoch:15: 0it [00:00, ?it/s]844440)\u001b[0m \n"
     ]
    },
    {
     "name": "stdout",
     "output_type": "stream",
     "text": [
      "\u001b[36m(tune_with_parameters pid=2778909)\u001b[0m loss: 0.279\u001b[32m [repeated 22x across cluster]\u001b[0m\n"
     ]
    },
    {
     "name": "stderr",
     "output_type": "stream",
     "text": [
      "Val Epoch:62: 0it [00:00, ?it/s]778909)\u001b[0m \n",
      "Val Epoch:62: 29it [00:02, 20.12it/s]\u001b[32m [repeated 22x across cluster]\u001b[0m\n"
     ]
    },
    {
     "name": "stdout",
     "output_type": "stream",
     "text": [
      "\u001b[36m(tune_with_parameters pid=2844440)\u001b[0m loss: 0.225\u001b[32m [repeated 8x across cluster]\u001b[0m\n"
     ]
    },
    {
     "name": "stderr",
     "output_type": "stream",
     "text": [
      "Val Epoch:16: 0it [00:00, ?it/s]844440)\u001b[0m \n",
      "Val Epoch:62: 47it [00:03, 15.23it/s]\u001b[32m [repeated 5x across cluster]\u001b[0m\n"
     ]
    },
    {
     "name": "stdout",
     "output_type": "stream",
     "text": [
      "\u001b[36m(tune_with_parameters pid=2778909)\u001b[0m loss: 0.275\u001b[32m [repeated 22x across cluster]\u001b[0m\n"
     ]
    },
    {
     "name": "stderr",
     "output_type": "stream",
     "text": [
      "Val Epoch:63: 0it [00:00, ?it/s]778909)\u001b[0m \n",
      "Val Epoch:63: 41it [00:01, 30.00it/s]\u001b[32m [repeated 24x across cluster]\u001b[0m\n"
     ]
    },
    {
     "name": "stdout",
     "output_type": "stream",
     "text": [
      "\u001b[36m(tune_with_parameters pid=2844440)\u001b[0m loss: 0.207\u001b[32m [repeated 10x across cluster]\u001b[0m\n"
     ]
    },
    {
     "name": "stderr",
     "output_type": "stream",
     "text": [
      "Val Epoch:17: 0it [00:00, ?it/s]844440)\u001b[0m \n",
      "Val Epoch:17: 1it [00:00,  2.25it/s]\u001b[32m [repeated 3x across cluster]\u001b[0m\n"
     ]
    },
    {
     "name": "stdout",
     "output_type": "stream",
     "text": [
      "\u001b[36m(tune_with_parameters pid=2778909)\u001b[0m loss: 0.273\u001b[32m [repeated 20x across cluster]\u001b[0m\n"
     ]
    },
    {
     "name": "stderr",
     "output_type": "stream",
     "text": [
      "Val Epoch:64: 0it [00:00, ?it/s]778909)\u001b[0m \n",
      "Val Epoch:64: 27it [00:01, 29.67it/s]\u001b[32m [repeated 18x across cluster]\u001b[0m\n"
     ]
    },
    {
     "name": "stdout",
     "output_type": "stream",
     "text": [
      "\u001b[36m(tune_with_parameters pid=2844440)\u001b[0m loss: 0.230\u001b[32m [repeated 11x across cluster]\u001b[0m\n"
     ]
    },
    {
     "name": "stderr",
     "output_type": "stream",
     "text": [
      "Val Epoch:18: 0it [00:00, ?it/s]844440)\u001b[0m \n",
      "Val Epoch:18: 9it [00:00, 19.83it/s]\u001b[32m [repeated 8x across cluster]\u001b[0m\n"
     ]
    },
    {
     "name": "stdout",
     "output_type": "stream",
     "text": [
      "\u001b[36m(tune_with_parameters pid=2778909)\u001b[0m loss: 0.271\u001b[32m [repeated 17x across cluster]\u001b[0m\n"
     ]
    },
    {
     "name": "stderr",
     "output_type": "stream",
     "text": [
      "Val Epoch:65: 0it [00:00, ?it/s]778909)\u001b[0m \n",
      "Val Epoch:65: 47it [00:01, 25.64it/s]\u001b[32m [repeated 21x across cluster]\u001b[0m\n"
     ]
    },
    {
     "name": "stdout",
     "output_type": "stream",
     "text": [
      "\u001b[36m(tune_with_parameters pid=2844440)\u001b[0m loss: 0.230\u001b[32m [repeated 14x across cluster]\u001b[0m\n"
     ]
    },
    {
     "name": "stderr",
     "output_type": "stream",
     "text": [
      "Val Epoch:19: 0it [00:00, ?it/s]844440)\u001b[0m \n",
      "Val Epoch:19: 20it [00:00, 32.08it/s]\u001b[32m [repeated 5x across cluster]\u001b[0m\n"
     ]
    },
    {
     "name": "stdout",
     "output_type": "stream",
     "text": [
      "\u001b[36m(tune_with_parameters pid=2844440)\u001b[0m loss: 0.172\u001b[32m [repeated 19x across cluster]\u001b[0m\n"
     ]
    },
    {
     "name": "stderr",
     "output_type": "stream",
     "text": [
      "Val Epoch:66: 0it [00:00, ?it/s]778909)\u001b[0m \n",
      "Val Epoch:66: 19it [00:01, 23.52it/s]\u001b[32m [repeated 12x across cluster]\u001b[0m\n"
     ]
    },
    {
     "name": "stdout",
     "output_type": "stream",
     "text": [
      "\u001b[36m(tune_with_parameters pid=2778909)\u001b[0m loss: 0.292\u001b[32m [repeated 13x across cluster]\u001b[0m\n"
     ]
    },
    {
     "name": "stderr",
     "output_type": "stream",
     "text": [
      "Val Epoch:20: 0it [00:00, ?it/s]844440)\u001b[0m \n",
      "Val Epoch:20: 1it [00:00,  5.47it/s]\u001b[32m [repeated 8x across cluster]\u001b[0m\n"
     ]
    },
    {
     "name": "stdout",
     "output_type": "stream",
     "text": [
      "\u001b[36m(tune_with_parameters pid=2778909)\u001b[0m loss: 0.284\u001b[32m [repeated 16x across cluster]\u001b[0m\n"
     ]
    },
    {
     "name": "stderr",
     "output_type": "stream",
     "text": [
      "Val Epoch:67: 0it [00:00, ?it/s]778909)\u001b[0m \n",
      "Val Epoch:67: 1it [00:00,  1.43it/s]\u001b[32m [repeated 11x across cluster]\u001b[0m\n"
     ]
    },
    {
     "name": "stdout",
     "output_type": "stream",
     "text": [
      "\u001b[36m(tune_with_parameters pid=2778909)\u001b[0m loss: 0.263\u001b[32m [repeated 15x across cluster]\u001b[0m\n"
     ]
    },
    {
     "name": "stderr",
     "output_type": "stream",
     "text": [
      "Val Epoch:21: 0it [00:00, ?it/s]844440)\u001b[0m \n",
      "Val Epoch:67: 47it [00:02, 22.71it/s]\u001b[32m [repeated 10x across cluster]\u001b[0m\n"
     ]
    },
    {
     "name": "stdout",
     "output_type": "stream",
     "text": [
      "\u001b[36m(tune_with_parameters pid=2778909)\u001b[0m loss: 0.273\u001b[32m [repeated 15x across cluster]\u001b[0m\n"
     ]
    },
    {
     "name": "stderr",
     "output_type": "stream",
     "text": [
      "Val Epoch:68: 0it [00:00, ?it/s]778909)\u001b[0m \n",
      "Val Epoch:21: 47it [00:02, 23.09it/s]\u001b[32m [repeated 12x across cluster]\u001b[0m\n"
     ]
    },
    {
     "name": "stdout",
     "output_type": "stream",
     "text": [
      "\u001b[36m(tune_with_parameters pid=2778909)\u001b[0m loss: 0.225\u001b[32m [repeated 16x across cluster]\u001b[0m\n"
     ]
    },
    {
     "name": "stderr",
     "output_type": "stream",
     "text": [
      "Val Epoch:22: 0it [00:00, ?it/s]844440)\u001b[0m \n",
      "Val Epoch:68: 47it [00:02, 22.56it/s]\u001b[32m [repeated 13x across cluster]\u001b[0m\n"
     ]
    },
    {
     "name": "stdout",
     "output_type": "stream",
     "text": [
      "\u001b[36m(tune_with_parameters pid=2844440)\u001b[0m loss: 0.142\u001b[32m [repeated 13x across cluster]\u001b[0m\n"
     ]
    },
    {
     "name": "stderr",
     "output_type": "stream",
     "text": [
      "Val Epoch:69: 0it [00:00, ?it/s]778909)\u001b[0m \n",
      "Val Epoch:22: 47it [00:01, 26.33it/s]\u001b[32m [repeated 12x across cluster]\u001b[0m\n"
     ]
    },
    {
     "name": "stdout",
     "output_type": "stream",
     "text": [
      "\u001b[36m(tune_with_parameters pid=2778909)\u001b[0m loss: 0.310\u001b[32m [repeated 18x across cluster]\u001b[0m\n"
     ]
    },
    {
     "name": "stderr",
     "output_type": "stream",
     "text": [
      "Val Epoch:23: 0it [00:00, ?it/s]844440)\u001b[0m \n",
      "Val Epoch:23: 1it [00:00,  1.46it/s]\u001b[32m [repeated 14x across cluster]\u001b[0m\n"
     ]
    },
    {
     "name": "stdout",
     "output_type": "stream",
     "text": [
      "\u001b[36m(tune_with_parameters pid=2778909)\u001b[0m loss: 0.272\u001b[32m [repeated 12x across cluster]\u001b[0m\n"
     ]
    },
    {
     "name": "stderr",
     "output_type": "stream",
     "text": [
      "Val Epoch:70: 0it [00:00, ?it/s]778909)\u001b[0m \n",
      "Val Epoch:23: 47it [00:01, 23.53it/s]\u001b[32m [repeated 11x across cluster]\u001b[0m\n"
     ]
    },
    {
     "name": "stdout",
     "output_type": "stream",
     "text": [
      "\u001b[36m(tune_with_parameters pid=2778909)\u001b[0m loss: 0.174\u001b[32m [repeated 18x across cluster]\u001b[0m\n"
     ]
    },
    {
     "name": "stderr",
     "output_type": "stream",
     "text": [
      "Val Epoch:24: 0it [00:00, ?it/s]844440)\u001b[0m \n",
      "Val Epoch:70: 47it [00:02, 22.85it/s]\u001b[32m [repeated 13x across cluster]\u001b[0m\n"
     ]
    },
    {
     "name": "stdout",
     "output_type": "stream",
     "text": [
      "\u001b[36m(tune_with_parameters pid=2778909)\u001b[0m loss: 0.274\u001b[32m [repeated 16x across cluster]\u001b[0m\n"
     ]
    },
    {
     "name": "stderr",
     "output_type": "stream",
     "text": [
      "Val Epoch:71: 0it [00:00, ?it/s]778909)\u001b[0m \n",
      "Val Epoch:24: 47it [00:01, 26.92it/s]\u001b[32m [repeated 13x across cluster]\u001b[0m\n"
     ]
    },
    {
     "name": "stdout",
     "output_type": "stream",
     "text": [
      "\u001b[36m(tune_with_parameters pid=2844440)\u001b[0m loss: 0.221\u001b[32m [repeated 13x across cluster]\u001b[0m\n"
     ]
    },
    {
     "name": "stderr",
     "output_type": "stream",
     "text": [
      "Val Epoch:25: 0it [00:00, ?it/s]844440)\u001b[0m \n",
      "Val Epoch:25: 1it [00:00,  1.64it/s]\u001b[32m [repeated 13x across cluster]\u001b[0m\n"
     ]
    },
    {
     "name": "stdout",
     "output_type": "stream",
     "text": [
      "\u001b[36m(tune_with_parameters pid=2778909)\u001b[0m loss: 0.276\u001b[32m [repeated 16x across cluster]\u001b[0m\n"
     ]
    },
    {
     "name": "stderr",
     "output_type": "stream",
     "text": [
      "Val Epoch:72: 0it [00:00, ?it/s]778909)\u001b[0m \n",
      "Val Epoch:72: 1it [00:01,  1.07s/it]\u001b[32m [repeated 11x across cluster]\u001b[0m\n",
      "Val Epoch:72: 47it [00:02, 19.16it/s]9)\u001b[0m \n"
     ]
    },
    {
     "name": "stdout",
     "output_type": "stream",
     "text": [
      "\u001b[36m(tune_with_parameters pid=2844440)\u001b[0m loss: 0.217\u001b[32m [repeated 14x across cluster]\u001b[0m\n"
     ]
    },
    {
     "name": "stderr",
     "output_type": "stream",
     "text": [
      "Val Epoch:26: 0it [00:00, ?it/s]844440)\u001b[0m \n",
      "Val Epoch:26: 14it [00:01, 13.59it/s]\u001b[32m [repeated 17x across cluster]\u001b[0m\n"
     ]
    },
    {
     "name": "stdout",
     "output_type": "stream",
     "text": [
      "\u001b[36m(tune_with_parameters pid=2778909)\u001b[0m loss: 0.288\u001b[32m [repeated 16x across cluster]\u001b[0m\n"
     ]
    },
    {
     "name": "stderr",
     "output_type": "stream",
     "text": [
      "Val Epoch:73: 0it [00:00, ?it/s]778909)\u001b[0m \n",
      "Val Epoch:73: 4it [00:00,  5.57it/s]\u001b[32m [repeated 10x across cluster]\u001b[0m\n"
     ]
    },
    {
     "name": "stdout",
     "output_type": "stream",
     "text": [
      "\u001b[36m(tune_with_parameters pid=2778909)\u001b[0m /tmp/tmpw7n7hz5c/checkpoint.pt\n",
      "\u001b[36m(tune_with_parameters pid=2844440)\u001b[0m loss: 0.226\u001b[32m [repeated 16x across cluster]\u001b[0m\n"
     ]
    },
    {
     "name": "stderr",
     "output_type": "stream",
     "text": [
      "\u001b[36m(tune_with_parameters pid=2778909)\u001b[0m Checkpoint successfully created at: Checkpoint(filesystem=local, path=/scratch/users/k23058970/Model training/results/Complex Peak LSTM Null/tune_with_parameters_2024-08-19_22-55-16/tune_with_parameters_cf806_00003_3_dp=0.2500,hidden_size=300,lr=0.0034,num_layers=1_2024-08-19_22-55-55/checkpoint_000011)\n",
      "Val Epoch:27: 0it [00:00, ?it/s]844440)\u001b[0m \n",
      "Val Epoch:27: 47it [00:02, 20.41it/s]\u001b[32m [repeated 22x across cluster]\u001b[0m\n"
     ]
    },
    {
     "name": "stdout",
     "output_type": "stream",
     "text": [
      "\u001b[36m(tune_with_parameters pid=2778909)\u001b[0m loss: 0.271\u001b[32m [repeated 16x across cluster]\u001b[0m\n"
     ]
    }
   ],
   "source": [
    "DATASET_DIR = \"/scratch/users/k23058970/Model training/Null Dataset/Complex Peak\"\n",
    "main(dataset_dir=DATASET_DIR,dset_name = \"Complex Peak LSTM Null\")"
   ]
  },
  {
   "cell_type": "code",
   "execution_count": null,
   "id": "4335c910-9f28-4a55-a7f4-b336f589199d",
   "metadata": {},
   "outputs": [],
   "source": [
    " "
   ]
  }
 ],
 "metadata": {
  "kernelspec": {
   "display_name": "Training",
   "language": "python",
   "name": "training"
  },
  "language_info": {
   "codemirror_mode": {
    "name": "ipython",
    "version": 3
   },
   "file_extension": ".py",
   "mimetype": "text/x-python",
   "name": "python",
   "nbconvert_exporter": "python",
   "pygments_lexer": "ipython3",
   "version": "3.10.14"
  }
 },
 "nbformat": 4,
 "nbformat_minor": 5
}
