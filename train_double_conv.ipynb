{
 "cells": [
  {
   "cell_type": "code",
   "execution_count": 1,
   "metadata": {},
   "outputs": [],
   "source": [
    "#Call Main and let it run\n",
    "from training_insilico_conv import main"
   ]
  },
  {
   "cell_type": "code",
   "execution_count": 2,
   "metadata": {},
   "outputs": [
    {
     "data": {
      "text/html": [
       "<div class=\"tuneStatus\">\n",
       "  <div style=\"display: flex;flex-direction: row\">\n",
       "    <div style=\"display: flex;flex-direction: column;\">\n",
       "      <h3>Tune Status</h3>\n",
       "      <table>\n",
       "<tbody>\n",
       "<tr><td>Current time:</td><td>2024-08-19 22:13:37</td></tr>\n",
       "<tr><td>Running for: </td><td>00:19:17.73        </td></tr>\n",
       "<tr><td>Memory:      </td><td>65.0/1007.5 GiB    </td></tr>\n",
       "</tbody>\n",
       "</table>\n",
       "    </div>\n",
       "    <div class=\"vDivider\"></div>\n",
       "    <div class=\"systemInfo\">\n",
       "      <h3>System Info</h3>\n",
       "      Using AsyncHyperBand: num_stopped=6<br>Bracket: Iter 60.000: -0.0032304879045929684 | Iter 30.000: -0.0029768588053128314 | Iter 15.000: -0.012655704457234178<br>Logical resource usage: 24.0/96 CPUs, 0.5/1 GPUs (0.0/1.0 accelerator_type:A30)\n",
       "    </div>\n",
       "    <div class=\"vDivider\"></div>\n",
       "<div class=\"messages\">\n",
       "  <h3>Messages</h3>\n",
       "  \n",
       "  \n",
       "  Number of errored trials: 4<br><table>\n",
       "<thead>\n",
       "<tr><th>Trial name                      </th><th style=\"text-align: right;\">  # failures</th><th>error file                                                                                                                                                                                                                                          </th></tr>\n",
       "</thead>\n",
       "<tbody>\n",
       "<tr><td>tune_with_parameters_347d1_00001</td><td style=\"text-align: right;\">           1</td><td>/tmp/ray/session_2024-08-19_21-53-48_376036_2238261/artifacts/2024-08-19_21-54-19/tune_with_parameters_2024-08-19_21-53-48/driver_artifacts/tune_with_parameters_347d1_00001_1_dp=0.5000,k1=7,k2=7,k3=5,k4=5,lr=0.0095_2024-08-19_21-54-19/error.txt</td></tr>\n",
       "<tr><td>tune_with_parameters_347d1_00006</td><td style=\"text-align: right;\">           1</td><td>/tmp/ray/session_2024-08-19_21-53-48_376036_2238261/artifacts/2024-08-19_21-54-19/tune_with_parameters_2024-08-19_21-53-48/driver_artifacts/tune_with_parameters_347d1_00006_6_dp=0.2500,k1=7,k2=7,k3=7,k4=3,lr=0.0074_2024-08-19_21-54-20/error.txt</td></tr>\n",
       "<tr><td>tune_with_parameters_347d1_00007</td><td style=\"text-align: right;\">           1</td><td>/tmp/ray/session_2024-08-19_21-53-48_376036_2238261/artifacts/2024-08-19_21-54-19/tune_with_parameters_2024-08-19_21-53-48/driver_artifacts/tune_with_parameters_347d1_00007_7_dp=0.2500,k1=7,k2=7,k3=7,k4=5,lr=0.0010_2024-08-19_21-54-20/error.txt</td></tr>\n",
       "<tr><td>tune_with_parameters_347d1_00008</td><td style=\"text-align: right;\">           1</td><td>/tmp/ray/session_2024-08-19_21-53-48_376036_2238261/artifacts/2024-08-19_21-54-19/tune_with_parameters_2024-08-19_21-53-48/driver_artifacts/tune_with_parameters_347d1_00008_8_dp=0.1000,k1=7,k2=3,k3=7,k4=5,lr=0.0196_2024-08-19_21-54-20/error.txt</td></tr>\n",
       "</tbody>\n",
       "</table>\n",
       "</div>\n",
       "<style>\n",
       ".messages {\n",
       "  color: var(--jp-ui-font-color1);\n",
       "  display: flex;\n",
       "  flex-direction: column;\n",
       "  padding-left: 1em;\n",
       "  overflow-y: auto;\n",
       "}\n",
       ".messages h3 {\n",
       "  font-weight: bold;\n",
       "}\n",
       ".vDivider {\n",
       "  border-left-width: var(--jp-border-width);\n",
       "  border-left-color: var(--jp-border-color0);\n",
       "  border-left-style: solid;\n",
       "  margin: 0.5em 1em 0.5em 1em;\n",
       "}\n",
       "</style>\n",
       "\n",
       "  </div>\n",
       "  <div class=\"hDivider\"></div>\n",
       "  <div class=\"trialStatus\">\n",
       "    <h3>Trial Status</h3>\n",
       "    <table>\n",
       "<thead>\n",
       "<tr><th>Trial name                      </th><th>status    </th><th>loc               </th><th style=\"text-align: right;\">  dp</th><th style=\"text-align: right;\">  k1</th><th style=\"text-align: right;\">  k2</th><th style=\"text-align: right;\">  k3</th><th style=\"text-align: right;\">  k4</th><th style=\"text-align: right;\">        lr</th><th style=\"text-align: right;\">  iter</th><th style=\"text-align: right;\">  total time (s)</th><th style=\"text-align: right;\">      loss</th><th style=\"text-align: right;\">  accuracy</th><th style=\"text-align: right;\">      f1</th></tr>\n",
       "</thead>\n",
       "<tbody>\n",
       "<tr><td>tune_with_parameters_347d1_00000</td><td>TERMINATED</td><td>10.211.4.4:2244203</td><td style=\"text-align: right;\">0.25</td><td style=\"text-align: right;\">   1</td><td style=\"text-align: right;\">   5</td><td style=\"text-align: right;\">   5</td><td style=\"text-align: right;\">   5</td><td style=\"text-align: right;\">0.052521  </td><td style=\"text-align: right;\">   100</td><td style=\"text-align: right;\">        603.392 </td><td style=\"text-align: right;\">0.00651127</td><td style=\"text-align: right;\">  0.998333</td><td style=\"text-align: right;\">0.998332</td></tr>\n",
       "<tr><td>tune_with_parameters_347d1_00002</td><td>TERMINATED</td><td>10.211.4.4:2247197</td><td style=\"text-align: right;\">0.5 </td><td style=\"text-align: right;\">   5</td><td style=\"text-align: right;\">   7</td><td style=\"text-align: right;\">   1</td><td style=\"text-align: right;\">   1</td><td style=\"text-align: right;\">0.0663793 </td><td style=\"text-align: right;\">    15</td><td style=\"text-align: right;\">         88.6469</td><td style=\"text-align: right;\">0.0747667 </td><td style=\"text-align: right;\">  0.955333</td><td style=\"text-align: right;\">0.95593 </td></tr>\n",
       "<tr><td>tune_with_parameters_347d1_00003</td><td>TERMINATED</td><td>10.211.4.4:2265334</td><td style=\"text-align: right;\">0.1 </td><td style=\"text-align: right;\">   7</td><td style=\"text-align: right;\">   1</td><td style=\"text-align: right;\">   3</td><td style=\"text-align: right;\">   1</td><td style=\"text-align: right;\">0.019086  </td><td style=\"text-align: right;\">    30</td><td style=\"text-align: right;\">        119.97  </td><td style=\"text-align: right;\">0.0116334 </td><td style=\"text-align: right;\">  0.996667</td><td style=\"text-align: right;\">0.996663</td></tr>\n",
       "<tr><td>tune_with_parameters_347d1_00004</td><td>TERMINATED</td><td>10.211.4.4:2281961</td><td style=\"text-align: right;\">0.2 </td><td style=\"text-align: right;\">   1</td><td style=\"text-align: right;\">   7</td><td style=\"text-align: right;\">   5</td><td style=\"text-align: right;\">   1</td><td style=\"text-align: right;\">0.0362063 </td><td style=\"text-align: right;\">   100</td><td style=\"text-align: right;\">        671.171 </td><td style=\"text-align: right;\">0.00379106</td><td style=\"text-align: right;\">  0.999   </td><td style=\"text-align: right;\">0.999   </td></tr>\n",
       "<tr><td>tune_with_parameters_347d1_00005</td><td>TERMINATED</td><td>10.211.4.4:2329379</td><td style=\"text-align: right;\">0.1 </td><td style=\"text-align: right;\">   3</td><td style=\"text-align: right;\">   3</td><td style=\"text-align: right;\">   7</td><td style=\"text-align: right;\">   5</td><td style=\"text-align: right;\">0.0168569 </td><td style=\"text-align: right;\">   100</td><td style=\"text-align: right;\">        535.017 </td><td style=\"text-align: right;\">0.00313277</td><td style=\"text-align: right;\">  0.999333</td><td style=\"text-align: right;\">0.999333</td></tr>\n",
       "<tr><td>tune_with_parameters_347d1_00009</td><td>TERMINATED</td><td>10.211.4.4:2389458</td><td style=\"text-align: right;\">0.2 </td><td style=\"text-align: right;\">   1</td><td style=\"text-align: right;\">   1</td><td style=\"text-align: right;\">   3</td><td style=\"text-align: right;\">   3</td><td style=\"text-align: right;\">0.00526093</td><td style=\"text-align: right;\">    15</td><td style=\"text-align: right;\">         72.0697</td><td style=\"text-align: right;\">0.0202663 </td><td style=\"text-align: right;\">  0.995333</td><td style=\"text-align: right;\">0.995327</td></tr>\n",
       "<tr><td>tune_with_parameters_347d1_00001</td><td>ERROR     </td><td>10.211.4.4:2244204</td><td style=\"text-align: right;\">0.5 </td><td style=\"text-align: right;\">   7</td><td style=\"text-align: right;\">   7</td><td style=\"text-align: right;\">   5</td><td style=\"text-align: right;\">   5</td><td style=\"text-align: right;\">0.0094889 </td><td style=\"text-align: right;\">      </td><td style=\"text-align: right;\">                </td><td style=\"text-align: right;\">          </td><td style=\"text-align: right;\">          </td><td style=\"text-align: right;\">        </td></tr>\n",
       "<tr><td>tune_with_parameters_347d1_00006</td><td>ERROR     </td><td>10.211.4.4:2379791</td><td style=\"text-align: right;\">0.25</td><td style=\"text-align: right;\">   7</td><td style=\"text-align: right;\">   7</td><td style=\"text-align: right;\">   7</td><td style=\"text-align: right;\">   3</td><td style=\"text-align: right;\">0.00739232</td><td style=\"text-align: right;\">      </td><td style=\"text-align: right;\">                </td><td style=\"text-align: right;\">          </td><td style=\"text-align: right;\">          </td><td style=\"text-align: right;\">        </td></tr>\n",
       "<tr><td>tune_with_parameters_347d1_00007</td><td>ERROR     </td><td>10.211.4.4:2383194</td><td style=\"text-align: right;\">0.25</td><td style=\"text-align: right;\">   7</td><td style=\"text-align: right;\">   7</td><td style=\"text-align: right;\">   7</td><td style=\"text-align: right;\">   5</td><td style=\"text-align: right;\">0.00103836</td><td style=\"text-align: right;\">      </td><td style=\"text-align: right;\">                </td><td style=\"text-align: right;\">          </td><td style=\"text-align: right;\">          </td><td style=\"text-align: right;\">        </td></tr>\n",
       "<tr><td>tune_with_parameters_347d1_00008</td><td>ERROR     </td><td>10.211.4.4:2386332</td><td style=\"text-align: right;\">0.1 </td><td style=\"text-align: right;\">   7</td><td style=\"text-align: right;\">   3</td><td style=\"text-align: right;\">   7</td><td style=\"text-align: right;\">   5</td><td style=\"text-align: right;\">0.0196373 </td><td style=\"text-align: right;\">      </td><td style=\"text-align: right;\">                </td><td style=\"text-align: right;\">          </td><td style=\"text-align: right;\">          </td><td style=\"text-align: right;\">        </td></tr>\n",
       "</tbody>\n",
       "</table>\n",
       "  </div>\n",
       "</div>\n",
       "<style>\n",
       ".tuneStatus {\n",
       "  color: var(--jp-ui-font-color1);\n",
       "}\n",
       ".tuneStatus .systemInfo {\n",
       "  display: flex;\n",
       "  flex-direction: column;\n",
       "}\n",
       ".tuneStatus td {\n",
       "  white-space: nowrap;\n",
       "}\n",
       ".tuneStatus .trialStatus {\n",
       "  display: flex;\n",
       "  flex-direction: column;\n",
       "}\n",
       ".tuneStatus h3 {\n",
       "  font-weight: bold;\n",
       "}\n",
       ".tuneStatus .hDivider {\n",
       "  border-bottom-width: var(--jp-border-width);\n",
       "  border-bottom-color: var(--jp-border-color0);\n",
       "  border-bottom-style: solid;\n",
       "}\n",
       ".tuneStatus .vDivider {\n",
       "  border-left-width: var(--jp-border-width);\n",
       "  border-left-color: var(--jp-border-color0);\n",
       "  border-left-style: solid;\n",
       "  margin: 0.5em 1em 0.5em 1em;\n",
       "}\n",
       "</style>\n"
      ],
      "text/plain": [
       "<IPython.core.display.HTML object>"
      ]
     },
     "metadata": {},
     "output_type": "display_data"
    },
    {
     "name": "stderr",
     "output_type": "stream",
     "text": [
      "\u001b[36m(tune_with_parameters pid=2244203)\u001b[0m /users/k23058970/miniforge3/envs/Training/lib/python3.10/site-packages/torch/nn/modules/lazy.py:181: UserWarning: Lazy modules are a new feature under heavy development so changes to the API or functionality can happen at any moment.\n",
      "\u001b[36m(tune_with_parameters pid=2244203)\u001b[0m   warnings.warn('Lazy modules are a new feature under heavy development '\n",
      "2024-08-19 21:54:38,353\tERROR tune_controller.py:1331 -- Trial task failed for trial tune_with_parameters_347d1_00001\n",
      "Traceback (most recent call last):\n",
      "  File \"/users/k23058970/miniforge3/envs/Training/lib/python3.10/site-packages/ray/air/execution/_internal/event_manager.py\", line 110, in resolve_future\n",
      "    result = ray.get(future)\n",
      "  File \"/users/k23058970/miniforge3/envs/Training/lib/python3.10/site-packages/ray/_private/auto_init_hook.py\", line 21, in auto_init_wrapper\n",
      "    return fn(*args, **kwargs)\n",
      "  File \"/users/k23058970/miniforge3/envs/Training/lib/python3.10/site-packages/ray/_private/client_mode_hook.py\", line 103, in wrapper\n",
      "    return func(*args, **kwargs)\n",
      "  File \"/users/k23058970/miniforge3/envs/Training/lib/python3.10/site-packages/ray/_private/worker.py\", line 2613, in get\n",
      "    values, debugger_breakpoint = worker.get_objects(object_refs, timeout=timeout)\n",
      "  File \"/users/k23058970/miniforge3/envs/Training/lib/python3.10/site-packages/ray/_private/worker.py\", line 861, in get_objects\n",
      "    raise value.as_instanceof_cause()\n",
      "ray.exceptions.RayTaskError(RuntimeError): \u001b[36mray::ImplicitFunc.train()\u001b[39m (pid=2244204, ip=10.211.4.4, actor_id=d4c928aa7c6c818168c47aa401000000, repr=tune_with_parameters)\n",
      "  File \"/users/k23058970/miniforge3/envs/Training/lib/python3.10/site-packages/ray/tune/trainable/trainable.py\", line 331, in train\n",
      "    raise skipped from exception_cause(skipped)\n",
      "  File \"/users/k23058970/miniforge3/envs/Training/lib/python3.10/site-packages/ray/air/_internal/util.py\", line 98, in run\n",
      "    self._ret = self._target(*self._args, **self._kwargs)\n",
      "  File \"/users/k23058970/miniforge3/envs/Training/lib/python3.10/site-packages/ray/tune/trainable/function_trainable.py\", line 45, in <lambda>\n",
      "    training_func=lambda: self._trainable_func(self.config),\n",
      "  File \"/users/k23058970/miniforge3/envs/Training/lib/python3.10/site-packages/ray/tune/trainable/function_trainable.py\", line 248, in _trainable_func\n",
      "    output = fn()\n",
      "  File \"/users/k23058970/miniforge3/envs/Training/lib/python3.10/site-packages/ray/tune/trainable/util.py\", line 130, in inner\n",
      "    return trainable(config, **fn_kwargs)\n",
      "  File \"/scratch/users/k23058970/Model training/training_insilico_conv.py\", line 200, in train_spectra\n",
      "    outputs = model(inputs)\n",
      "  File \"/users/k23058970/miniforge3/envs/Training/lib/python3.10/site-packages/torch/nn/modules/module.py\", line 1532, in _wrapped_call_impl\n",
      "    return self._call_impl(*args, **kwargs)\n",
      "  File \"/users/k23058970/miniforge3/envs/Training/lib/python3.10/site-packages/torch/nn/modules/module.py\", line 1541, in _call_impl\n",
      "    return forward_call(*args, **kwargs)\n",
      "  File \"/scratch/users/k23058970/Model training/insilico_conv.py\", line 47, in forward\n",
      "    x = self.conv4(x)\n",
      "  File \"/users/k23058970/miniforge3/envs/Training/lib/python3.10/site-packages/torch/nn/modules/module.py\", line 1532, in _wrapped_call_impl\n",
      "    return self._call_impl(*args, **kwargs)\n",
      "  File \"/users/k23058970/miniforge3/envs/Training/lib/python3.10/site-packages/torch/nn/modules/module.py\", line 1541, in _call_impl\n",
      "    return forward_call(*args, **kwargs)\n",
      "  File \"/users/k23058970/miniforge3/envs/Training/lib/python3.10/site-packages/torch/nn/modules/conv.py\", line 310, in forward\n",
      "    return self._conv_forward(input, self.weight, self.bias)\n",
      "  File \"/users/k23058970/miniforge3/envs/Training/lib/python3.10/site-packages/torch/nn/modules/conv.py\", line 306, in _conv_forward\n",
      "    return F.conv1d(input, weight, bias, self.stride,\n",
      "RuntimeError: Calculated padded input size per channel: (2). Kernel size: (5). Kernel size can't be greater than actual input size\n"
     ]
    },
    {
     "name": "stdout",
     "output_type": "stream",
     "text": [
      "\u001b[36m(tune_with_parameters pid=2244203)\u001b[0m loss: 1.114\n",
      "\u001b[36m(tune_with_parameters pid=2244203)\u001b[0m loss: 0.991\n",
      "\u001b[36m(tune_with_parameters pid=2244203)\u001b[0m loss: 0.829\n",
      "\u001b[36m(tune_with_parameters pid=2244203)\u001b[0m loss: 0.650\n",
      "\u001b[36m(tune_with_parameters pid=2244203)\u001b[0m loss: 0.522\n",
      "\u001b[36m(tune_with_parameters pid=2244203)\u001b[0m loss: 0.447\n",
      "\u001b[36m(tune_with_parameters pid=2244203)\u001b[0m loss: 0.384\n",
      "\u001b[36m(tune_with_parameters pid=2244203)\u001b[0m loss: 0.335\n",
      "\u001b[36m(tune_with_parameters pid=2244203)\u001b[0m loss: 0.300\n",
      "\u001b[36m(tune_with_parameters pid=2244203)\u001b[0m loss: 0.270\n",
      "\u001b[36m(tune_with_parameters pid=2244203)\u001b[0m loss: 0.247\n",
      "\u001b[36m(tune_with_parameters pid=2244203)\u001b[0m loss: 0.227\n",
      "\u001b[36m(tune_with_parameters pid=2244203)\u001b[0m loss: 0.209\n",
      "\u001b[36m(tune_with_parameters pid=2244203)\u001b[0m loss: 0.196\n",
      "\u001b[36m(tune_with_parameters pid=2244203)\u001b[0m loss: 0.184\n"
     ]
    },
    {
     "name": "stderr",
     "output_type": "stream",
     "text": [
      "Val Epoch:0: 0it [00:00, ?it/s]2244203)\u001b[0m \n",
      "\u001b[36m(tune_with_parameters pid=2244204)\u001b[0m /users/k23058970/miniforge3/envs/Training/lib/python3.10/site-packages/torch/nn/modules/lazy.py:181: UserWarning: Lazy modules are a new feature under heavy development so changes to the API or functionality can happen at any moment.\n",
      "\u001b[36m(tune_with_parameters pid=2244204)\u001b[0m   warnings.warn('Lazy modules are a new feature under heavy development '\n",
      "Val Epoch:0: 1it [00:00,  4.61it/s]203)\u001b[0m \n",
      "Val Epoch:0: 11it [00:00, 40.70it/s]03)\u001b[0m \n",
      "Val Epoch:0: 18it [00:00, 49.05it/s]03)\u001b[0m \n",
      "Val Epoch:0: 25it [00:00, 53.76it/s]03)\u001b[0m \n",
      "Val Epoch:0: 33it [00:00, 59.68it/s]03)\u001b[0m \n",
      "Val Epoch:0: 40it [00:00, 61.19it/s]03)\u001b[0m \n"
     ]
    },
    {
     "name": "stdout",
     "output_type": "stream",
     "text": [
      "\u001b[36m(tune_with_parameters pid=2244203)\u001b[0m /tmp/tmpaxcio7ty/checkpoint.pt\n"
     ]
    },
    {
     "name": "stderr",
     "output_type": "stream",
     "text": [
      "Val Epoch:0: 47it [00:00, 51.55it/s]03)\u001b[0m \n",
      "\u001b[36m(tune_with_parameters pid=2244203)\u001b[0m Checkpoint successfully created at: Checkpoint(filesystem=local, path=/scratch/users/k23058970/Model training/results/Double Peak Conv Null/tune_with_parameters_2024-08-19_21-53-48/tune_with_parameters_347d1_00000_0_dp=0.2500,k1=1,k2=5,k3=5,k4=5,lr=0.0525_2024-08-19_21-54-19/checkpoint_000000)\n"
     ]
    },
    {
     "name": "stdout",
     "output_type": "stream",
     "text": [
      "\u001b[36m(tune_with_parameters pid=2244203)\u001b[0m loss: 0.126\n",
      "\u001b[36m(tune_with_parameters pid=2244203)\u001b[0m loss: 0.030\n",
      "\u001b[36m(tune_with_parameters pid=2244203)\u001b[0m loss: 0.022\n",
      "\u001b[36m(tune_with_parameters pid=2244203)\u001b[0m loss: 0.019\n",
      "\u001b[36m(tune_with_parameters pid=2244203)\u001b[0m loss: 0.016\n",
      "\u001b[36m(tune_with_parameters pid=2244203)\u001b[0m loss: 0.015\n",
      "\u001b[36m(tune_with_parameters pid=2244203)\u001b[0m loss: 0.014\n",
      "\u001b[36m(tune_with_parameters pid=2244203)\u001b[0m loss: 0.014\n",
      "\u001b[36m(tune_with_parameters pid=2244203)\u001b[0m loss: 0.014\n",
      "\u001b[36m(tune_with_parameters pid=2244203)\u001b[0m loss: 0.013\n",
      "\u001b[36m(tune_with_parameters pid=2244203)\u001b[0m loss: 0.013\n",
      "\u001b[36m(tune_with_parameters pid=2244203)\u001b[0m loss: 0.013\n",
      "\u001b[36m(tune_with_parameters pid=2244203)\u001b[0m loss: 0.014\n",
      "\u001b[36m(tune_with_parameters pid=2244203)\u001b[0m loss: 0.013\n",
      "\u001b[36m(tune_with_parameters pid=2244203)\u001b[0m loss: 0.013\n"
     ]
    },
    {
     "name": "stderr",
     "output_type": "stream",
     "text": [
      "Val Epoch:1: 0it [00:00, ?it/s]2244203)\u001b[0m \n",
      "Val Epoch:1: 1it [00:00,  3.09it/s]203)\u001b[0m \n",
      "Val Epoch:1: 5it [00:00, 14.17it/s]203)\u001b[0m \n",
      "Val Epoch:1: 10it [00:00, 24.88it/s]03)\u001b[0m \n",
      "Val Epoch:1: 15it [00:00, 31.77it/s]03)\u001b[0m \n",
      "\u001b[36m(tune_with_parameters pid=2247197)\u001b[0m /users/k23058970/miniforge3/envs/Training/lib/python3.10/site-packages/torch/nn/modules/lazy.py:181: UserWarning: Lazy modules are a new feature under heavy development so changes to the API or functionality can happen at any moment.\n",
      "\u001b[36m(tune_with_parameters pid=2247197)\u001b[0m   warnings.warn('Lazy modules are a new feature under heavy development '\n",
      "Val Epoch:1: 19it [00:00, 34.17it/s]03)\u001b[0m \n",
      "Val Epoch:1: 26it [00:00, 44.17it/s]03)\u001b[0m \n",
      "Val Epoch:1: 31it [00:00, 45.05it/s]03)\u001b[0m \n",
      "Val Epoch:1: 46it [00:01, 60.90it/s]03)\u001b[0m \n"
     ]
    },
    {
     "name": "stdout",
     "output_type": "stream",
     "text": [
      "\u001b[36m(tune_with_parameters pid=2244203)\u001b[0m /tmp/tmpzatln5wa/checkpoint.pt\n"
     ]
    },
    {
     "name": "stderr",
     "output_type": "stream",
     "text": [
      "Val Epoch:1: 47it [00:01, 39.53it/s]03)\u001b[0m \n",
      "\u001b[36m(tune_with_parameters pid=2244203)\u001b[0m Checkpoint successfully created at: Checkpoint(filesystem=local, path=/scratch/users/k23058970/Model training/results/Double Peak Conv Null/tune_with_parameters_2024-08-19_21-53-48/tune_with_parameters_347d1_00000_0_dp=0.2500,k1=1,k2=5,k3=5,k4=5,lr=0.0525_2024-08-19_21-54-19/checkpoint_000001)\n"
     ]
    },
    {
     "name": "stdout",
     "output_type": "stream",
     "text": [
      "\u001b[36m(tune_with_parameters pid=2244203)\u001b[0m loss: 0.006\n",
      "\u001b[36m(tune_with_parameters pid=2244203)\u001b[0m loss: 0.003\n",
      "\u001b[36m(tune_with_parameters pid=2244203)\u001b[0m loss: 0.003\n",
      "\u001b[36m(tune_with_parameters pid=2244203)\u001b[0m loss: 0.004\n",
      "\u001b[36m(tune_with_parameters pid=2244203)\u001b[0m loss: 0.005\n",
      "\u001b[36m(tune_with_parameters pid=2244203)\u001b[0m loss: 0.005\n",
      "\u001b[36m(tune_with_parameters pid=2244203)\u001b[0m loss: 0.005\n",
      "\u001b[36m(tune_with_parameters pid=2244203)\u001b[0m loss: 0.005\n",
      "\u001b[36m(tune_with_parameters pid=2244203)\u001b[0m loss: 0.004\n",
      "\u001b[36m(tune_with_parameters pid=2244203)\u001b[0m loss: 0.004\n",
      "\u001b[36m(tune_with_parameters pid=2244203)\u001b[0m loss: 0.004\n",
      "\u001b[36m(tune_with_parameters pid=2244203)\u001b[0m loss: 0.004\n"
     ]
    },
    {
     "name": "stderr",
     "output_type": "stream",
     "text": [
      "Val Epoch:2: 0it [00:00, ?it/s]2244203)\u001b[0m \n",
      "Val Epoch:2: 1it [00:00,  6.04it/s]203)\u001b[0m \n",
      "Val Epoch:2: 7it [00:00, 30.80it/s]203)\u001b[0m \n",
      "Val Epoch:2: 13it [00:00, 38.66it/s]03)\u001b[0m \n",
      "Val Epoch:2: 19it [00:00, 39.02it/s]03)\u001b[0m \n",
      "Val Epoch:2: 25it [00:00, 42.67it/s]03)\u001b[0m \n",
      "Val Epoch:2: 30it [00:00, 41.67it/s]03)\u001b[0m \n",
      "Val Epoch:2: 37it [00:00, 46.31it/s]03)\u001b[0m \n",
      "Val Epoch:2: 47it [00:01, 41.73it/s]03)\u001b[0m \n",
      "\u001b[36m(tune_with_parameters pid=2244203)\u001b[0m Checkpoint successfully created at: Checkpoint(filesystem=local, path=/scratch/users/k23058970/Model training/results/Double Peak Conv Null/tune_with_parameters_2024-08-19_21-53-48/tune_with_parameters_347d1_00000_0_dp=0.2500,k1=1,k2=5,k3=5,k4=5,lr=0.0525_2024-08-19_21-54-19/checkpoint_000002)\n"
     ]
    },
    {
     "name": "stdout",
     "output_type": "stream",
     "text": [
      "\u001b[36m(tune_with_parameters pid=2247197)\u001b[0m loss: 0.224\u001b[32m [repeated 12x across cluster] (Ray deduplicates logs by default. Set RAY_DEDUP_LOGS=0 to disable log deduplication, or see https://docs.ray.io/en/master/ray-observability/user-guides/configure-logging.html#log-deduplication for more options.)\u001b[0m\n",
      "\u001b[36m(tune_with_parameters pid=2244203)\u001b[0m /tmp/tmp_ar5wxun/checkpoint.pt\n",
      "\u001b[36m(tune_with_parameters pid=2247197)\u001b[0m /tmp/tmpjxh4bq7g/checkpoint.pt\n"
     ]
    },
    {
     "name": "stderr",
     "output_type": "stream",
     "text": [
      "Val Epoch:3: 0it [00:00, ?it/s]\u001b[32m [repeated 2x across cluster]\u001b[0m\n",
      "Val Epoch:0: 47it [00:01, 34.15it/s]\u001b[32m [repeated 10x across cluster]\u001b[0m\n",
      "\u001b[36m(tune_with_parameters pid=2247197)\u001b[0m Checkpoint successfully created at: Checkpoint(filesystem=local, path=/scratch/users/k23058970/Model training/results/Double Peak Conv Null/tune_with_parameters_2024-08-19_21-53-48/tune_with_parameters_347d1_00002_2_dp=0.5000,k1=5,k2=7,k3=1,k4=1,lr=0.0664_2024-08-19_21-54-20/checkpoint_000000)\n"
     ]
    },
    {
     "name": "stdout",
     "output_type": "stream",
     "text": [
      "\u001b[36m(tune_with_parameters pid=2247197)\u001b[0m loss: 0.098\u001b[32m [repeated 24x across cluster]\u001b[0m\n",
      "\u001b[36m(tune_with_parameters pid=2244203)\u001b[0m /tmp/tmpvbf4m0d4/checkpoint.pt\n"
     ]
    },
    {
     "name": "stderr",
     "output_type": "stream",
     "text": [
      "\u001b[36m(tune_with_parameters pid=2244203)\u001b[0m Checkpoint successfully created at: Checkpoint(filesystem=local, path=/scratch/users/k23058970/Model training/results/Double Peak Conv Null/tune_with_parameters_2024-08-19_21-53-48/tune_with_parameters_347d1_00000_0_dp=0.2500,k1=1,k2=5,k3=5,k4=5,lr=0.0525_2024-08-19_21-54-19/checkpoint_000003)\n",
      "Val Epoch:1: 47it [00:01, 36.72it/s]97)\u001b[0m \n",
      "Val Epoch:1: 0it [00:00, ?it/s]2247197)\u001b[0m \n",
      "Val Epoch:1: 37it [00:01, 41.69it/s]\u001b[32m [repeated 17x across cluster]\u001b[0m\n"
     ]
    },
    {
     "name": "stdout",
     "output_type": "stream",
     "text": [
      "\u001b[36m(tune_with_parameters pid=2244203)\u001b[0m loss: 0.002\u001b[32m [repeated 26x across cluster]\u001b[0m\n",
      "\u001b[36m(tune_with_parameters pid=2247197)\u001b[0m /tmp/tmp7crfh7gk/checkpoint.pt\n"
     ]
    },
    {
     "name": "stderr",
     "output_type": "stream",
     "text": [
      "Val Epoch:4: 0it [00:00, ?it/s]2244203)\u001b[0m \n",
      "\u001b[36m(tune_with_parameters pid=2247197)\u001b[0m Checkpoint successfully created at: Checkpoint(filesystem=local, path=/scratch/users/k23058970/Model training/results/Double Peak Conv Null/tune_with_parameters_2024-08-19_21-53-48/tune_with_parameters_347d1_00002_2_dp=0.5000,k1=5,k2=7,k3=1,k4=1,lr=0.0664_2024-08-19_21-54-20/checkpoint_000001)\n"
     ]
    },
    {
     "name": "stdout",
     "output_type": "stream",
     "text": [
      "\u001b[36m(tune_with_parameters pid=2244203)\u001b[0m loss: 0.001\u001b[32m [repeated 22x across cluster]\u001b[0m\n"
     ]
    },
    {
     "name": "stderr",
     "output_type": "stream",
     "text": [
      "Val Epoch:4: 47it [00:01, 36.92it/s]\u001b[32m [repeated 10x across cluster]\u001b[0m\n",
      "Val Epoch:2: 0it [00:00, ?it/s]2247197)\u001b[0m \n",
      "Val Epoch:5: 0it [00:00, ?it/s]2244203)\u001b[0m \n"
     ]
    },
    {
     "name": "stdout",
     "output_type": "stream",
     "text": [
      "\u001b[36m(tune_with_parameters pid=2247197)\u001b[0m loss: 0.077\u001b[32m [repeated 15x across cluster]\u001b[0m\n"
     ]
    },
    {
     "name": "stderr",
     "output_type": "stream",
     "text": [
      "Val Epoch:5: 47it [00:02, 22.80it/s]\u001b[32m [repeated 19x across cluster]\u001b[0m\n",
      "Val Epoch:3: 0it [00:00, ?it/s]2247197)\u001b[0m \n"
     ]
    },
    {
     "name": "stdout",
     "output_type": "stream",
     "text": [
      "\u001b[36m(tune_with_parameters pid=2247197)\u001b[0m /tmp/tmpdqpghmg_/checkpoint.pt\n"
     ]
    },
    {
     "name": "stderr",
     "output_type": "stream",
     "text": [
      "\u001b[36m(tune_with_parameters pid=2247197)\u001b[0m Checkpoint successfully created at: Checkpoint(filesystem=local, path=/scratch/users/k23058970/Model training/results/Double Peak Conv Null/tune_with_parameters_2024-08-19_21-53-48/tune_with_parameters_347d1_00002_2_dp=0.5000,k1=5,k2=7,k3=1,k4=1,lr=0.0664_2024-08-19_21-54-20/checkpoint_000002)\n",
      "Val Epoch:6: 0it [00:00, ?it/s]2244203)\u001b[0m \n"
     ]
    },
    {
     "name": "stdout",
     "output_type": "stream",
     "text": [
      "\u001b[36m(tune_with_parameters pid=2247197)\u001b[0m loss: 0.077\u001b[32m [repeated 26x across cluster]\u001b[0m\n",
      "\u001b[36m(tune_with_parameters pid=2244203)\u001b[0m /tmp/tmpw9lu5l6p/checkpoint.pt\n"
     ]
    },
    {
     "name": "stderr",
     "output_type": "stream",
     "text": [
      "Val Epoch:6: 47it [00:02, 22.63it/s]\u001b[32m [repeated 20x across cluster]\u001b[0m\n",
      "\u001b[36m(tune_with_parameters pid=2244203)\u001b[0m Checkpoint successfully created at: Checkpoint(filesystem=local, path=/scratch/users/k23058970/Model training/results/Double Peak Conv Null/tune_with_parameters_2024-08-19_21-53-48/tune_with_parameters_347d1_00000_0_dp=0.2500,k1=1,k2=5,k3=5,k4=5,lr=0.0525_2024-08-19_21-54-19/checkpoint_000004)\n",
      "Val Epoch:4: 0it [00:00, ?it/s]2247197)\u001b[0m \n"
     ]
    },
    {
     "name": "stdout",
     "output_type": "stream",
     "text": [
      "\u001b[36m(tune_with_parameters pid=2244203)\u001b[0m loss: 0.001\u001b[32m [repeated 28x across cluster]\u001b[0m\n"
     ]
    },
    {
     "name": "stderr",
     "output_type": "stream",
     "text": [
      "Val Epoch:7: 0it [00:00, ?it/s]2244203)\u001b[0m \n",
      "Val Epoch:7: 47it [00:01, 27.60it/s]03)\u001b[0m \n",
      "Val Epoch:7: 39it [00:01, 39.01it/s]\u001b[32m [repeated 17x across cluster]\u001b[0m\n"
     ]
    },
    {
     "name": "stdout",
     "output_type": "stream",
     "text": [
      "\u001b[36m(tune_with_parameters pid=2244203)\u001b[0m loss: 0.001\u001b[32m [repeated 25x across cluster]\u001b[0m\n"
     ]
    },
    {
     "name": "stderr",
     "output_type": "stream",
     "text": [
      "Val Epoch:5: 0it [00:00, ?it/s]2247197)\u001b[0m \n",
      "Val Epoch:8: 0it [00:00, ?it/s]2244203)\u001b[0m \n"
     ]
    },
    {
     "name": "stdout",
     "output_type": "stream",
     "text": [
      "\u001b[36m(tune_with_parameters pid=2244203)\u001b[0m /tmp/tmpcen0ktng/checkpoint.pt\n"
     ]
    },
    {
     "name": "stderr",
     "output_type": "stream",
     "text": [
      "\u001b[36m(tune_with_parameters pid=2244203)\u001b[0m Checkpoint successfully created at: Checkpoint(filesystem=local, path=/scratch/users/k23058970/Model training/results/Double Peak Conv Null/tune_with_parameters_2024-08-19_21-53-48/tune_with_parameters_347d1_00000_0_dp=0.2500,k1=1,k2=5,k3=5,k4=5,lr=0.0525_2024-08-19_21-54-19/checkpoint_000005)\n"
     ]
    },
    {
     "name": "stdout",
     "output_type": "stream",
     "text": [
      "\u001b[36m(tune_with_parameters pid=2244203)\u001b[0m loss: 0.001\u001b[32m [repeated 18x across cluster]\u001b[0m\n"
     ]
    },
    {
     "name": "stderr",
     "output_type": "stream",
     "text": [
      "Val Epoch:8: 47it [00:01, 43.96it/s]\u001b[32m [repeated 19x across cluster]\u001b[0m\n",
      "Val Epoch:6: 0it [00:00, ?it/s]2247197)\u001b[0m \n",
      "Val Epoch:9: 0it [00:00, ?it/s]2244203)\u001b[0m \n"
     ]
    },
    {
     "name": "stdout",
     "output_type": "stream",
     "text": [
      "\u001b[36m(tune_with_parameters pid=2244203)\u001b[0m loss: 0.000\u001b[32m [repeated 24x across cluster]\u001b[0m\n"
     ]
    },
    {
     "name": "stderr",
     "output_type": "stream",
     "text": [
      "Val Epoch:9: 47it [00:01, 35.34it/s]\u001b[32m [repeated 20x across cluster]\u001b[0m\n",
      "Val Epoch:7: 0it [00:00, ?it/s]2247197)\u001b[0m \n",
      "Val Epoch:7: 47it [00:01, 32.38it/s]97)\u001b[0m \n",
      "Val Epoch:10: 0it [00:00, ?it/s]244203)\u001b[0m \n"
     ]
    },
    {
     "name": "stdout",
     "output_type": "stream",
     "text": [
      "\u001b[36m(tune_with_parameters pid=2247197)\u001b[0m loss: 0.121\u001b[32m [repeated 24x across cluster]\u001b[0m\n"
     ]
    },
    {
     "name": "stderr",
     "output_type": "stream",
     "text": [
      "Val Epoch:10: 40it [00:01, 49.88it/s]\u001b[32m [repeated 16x across cluster]\u001b[0m\n",
      "Val Epoch:10: 47it [00:01, 36.00it/s]3)\u001b[0m \n",
      "Val Epoch:8: 0it [00:00, ?it/s]2247197)\u001b[0m \n",
      "Val Epoch:11: 0it [00:00, ?it/s]244203)\u001b[0m \n"
     ]
    },
    {
     "name": "stdout",
     "output_type": "stream",
     "text": [
      "\u001b[36m(tune_with_parameters pid=2247197)\u001b[0m loss: 0.051\u001b[32m [repeated 30x across cluster]\u001b[0m\n"
     ]
    },
    {
     "name": "stderr",
     "output_type": "stream",
     "text": [
      "Val Epoch:11: 47it [00:01, 30.93it/s]\u001b[32m [repeated 18x across cluster]\u001b[0m\n",
      "Val Epoch:9: 0it [00:00, ?it/s]2247197)\u001b[0m \n",
      "Val Epoch:12: 0it [00:00, ?it/s]244203)\u001b[0m \n"
     ]
    },
    {
     "name": "stdout",
     "output_type": "stream",
     "text": [
      "\u001b[36m(tune_with_parameters pid=2247197)\u001b[0m loss: 0.052\u001b[32m [repeated 30x across cluster]\u001b[0m\n"
     ]
    },
    {
     "name": "stderr",
     "output_type": "stream",
     "text": [
      "Val Epoch:12: 47it [00:02, 22.88it/s]\u001b[32m [repeated 20x across cluster]\u001b[0m\n",
      "Val Epoch:10: 0it [00:00, ?it/s]247197)\u001b[0m \n",
      "Val Epoch:13: 0it [00:00, ?it/s]244203)\u001b[0m \n"
     ]
    },
    {
     "name": "stdout",
     "output_type": "stream",
     "text": [
      "\u001b[36m(tune_with_parameters pid=2247197)\u001b[0m loss: 0.053\u001b[32m [repeated 30x across cluster]\u001b[0m\n"
     ]
    },
    {
     "name": "stderr",
     "output_type": "stream",
     "text": [
      "Val Epoch:13: 47it [00:01, 25.66it/s]\u001b[32m [repeated 20x across cluster]\u001b[0m\n",
      "Val Epoch:11: 0it [00:00, ?it/s]247197)\u001b[0m \n",
      "Val Epoch:14: 0it [00:00, ?it/s]244203)\u001b[0m \n",
      "Val Epoch:14: 47it [00:01, 33.99it/s]3)\u001b[0m \n"
     ]
    },
    {
     "name": "stdout",
     "output_type": "stream",
     "text": [
      "\u001b[36m(tune_with_parameters pid=2244203)\u001b[0m loss: 0.000\u001b[32m [repeated 30x across cluster]\u001b[0m\n"
     ]
    },
    {
     "name": "stderr",
     "output_type": "stream",
     "text": [
      "Val Epoch:15: 0it [00:00, ?it/s]244203)\u001b[0m \n",
      "Val Epoch:14: 39it [00:01, 38.49it/s]\u001b[32m [repeated 16x across cluster]\u001b[0m\n"
     ]
    },
    {
     "name": "stdout",
     "output_type": "stream",
     "text": [
      "\u001b[36m(tune_with_parameters pid=2244203)\u001b[0m loss: 0.000\u001b[32m [repeated 17x across cluster]\u001b[0m\n"
     ]
    },
    {
     "name": "stderr",
     "output_type": "stream",
     "text": [
      "Val Epoch:16: 0it [00:00, ?it/s]244203)\u001b[0m \n",
      "Val Epoch:15: 47it [00:01, 45.26it/s]\u001b[32m [repeated 8x across cluster]\u001b[0m\n"
     ]
    },
    {
     "name": "stdout",
     "output_type": "stream",
     "text": [
      "\u001b[36m(tune_with_parameters pid=2244203)\u001b[0m loss: 0.000\u001b[32m [repeated 13x across cluster]\u001b[0m\n"
     ]
    },
    {
     "name": "stderr",
     "output_type": "stream",
     "text": [
      "\u001b[36m(tune_with_parameters pid=2265334)\u001b[0m /users/k23058970/miniforge3/envs/Training/lib/python3.10/site-packages/torch/nn/modules/lazy.py:181: UserWarning: Lazy modules are a new feature under heavy development so changes to the API or functionality can happen at any moment.\n",
      "\u001b[36m(tune_with_parameters pid=2265334)\u001b[0m   warnings.warn('Lazy modules are a new feature under heavy development '\n",
      "Val Epoch:17: 0it [00:00, ?it/s]244203)\u001b[0m \n",
      "Val Epoch:17: 1it [00:00,  1.19it/s]\u001b[32m [repeated 10x across cluster]\u001b[0m\n",
      "Val Epoch:17: 47it [00:01, 26.34it/s]3)\u001b[0m \n"
     ]
    },
    {
     "name": "stdout",
     "output_type": "stream",
     "text": [
      "\u001b[36m(tune_with_parameters pid=2265334)\u001b[0m loss: 0.863\u001b[32m [repeated 20x across cluster]\u001b[0m\n"
     ]
    },
    {
     "name": "stderr",
     "output_type": "stream",
     "text": [
      "Val Epoch:0: 0it [00:00, ?it/s]2265334)\u001b[0m \n",
      "Val Epoch:0: 37it [00:01, 49.47it/s]\u001b[32m [repeated 13x across cluster]\u001b[0m\n"
     ]
    },
    {
     "name": "stdout",
     "output_type": "stream",
     "text": [
      "\u001b[36m(tune_with_parameters pid=2265334)\u001b[0m /tmp/tmpws0aehob/checkpoint.pt\n"
     ]
    },
    {
     "name": "stderr",
     "output_type": "stream",
     "text": [
      "\u001b[36m(tune_with_parameters pid=2265334)\u001b[0m Checkpoint successfully created at: Checkpoint(filesystem=local, path=/scratch/users/k23058970/Model training/results/Double Peak Conv Null/tune_with_parameters_2024-08-19_21-53-48/tune_with_parameters_347d1_00003_3_dp=0.1000,k1=7,k2=1,k3=3,k4=1,lr=0.0191_2024-08-19_21-54-20/checkpoint_000000)\n"
     ]
    },
    {
     "name": "stdout",
     "output_type": "stream",
     "text": [
      "\u001b[36m(tune_with_parameters pid=2265334)\u001b[0m loss: 0.146\u001b[32m [repeated 25x across cluster]\u001b[0m\n"
     ]
    },
    {
     "name": "stderr",
     "output_type": "stream",
     "text": [
      "Val Epoch:1: 0it [00:00, ?it/s]\u001b[32m [repeated 2x across cluster]\u001b[0m\n",
      "Val Epoch:18: 47it [00:02, 20.78it/s]\u001b[32m [repeated 12x across cluster]\u001b[0m\n"
     ]
    },
    {
     "name": "stdout",
     "output_type": "stream",
     "text": [
      "\u001b[36m(tune_with_parameters pid=2244203)\u001b[0m loss: 0.000\u001b[32m [repeated 29x across cluster]\u001b[0m\n",
      "\u001b[36m(tune_with_parameters pid=2265334)\u001b[0m /tmp/tmpvd1f_xtx/checkpoint.pt\n"
     ]
    },
    {
     "name": "stderr",
     "output_type": "stream",
     "text": [
      "\u001b[36m(tune_with_parameters pid=2265334)\u001b[0m Checkpoint successfully created at: Checkpoint(filesystem=local, path=/scratch/users/k23058970/Model training/results/Double Peak Conv Null/tune_with_parameters_2024-08-19_21-53-48/tune_with_parameters_347d1_00003_3_dp=0.1000,k1=7,k2=1,k3=3,k4=1,lr=0.0191_2024-08-19_21-54-20/checkpoint_000001)\n",
      "Val Epoch:2: 0it [00:00, ?it/s]\u001b[32m [repeated 2x across cluster]\u001b[0m\n",
      "Val Epoch:19: 47it [00:01, 32.80it/s]\u001b[32m [repeated 18x across cluster]\u001b[0m\n"
     ]
    },
    {
     "name": "stdout",
     "output_type": "stream",
     "text": [
      "\u001b[36m(tune_with_parameters pid=2244203)\u001b[0m loss: 0.000\u001b[32m [repeated 25x across cluster]\u001b[0m\n"
     ]
    },
    {
     "name": "stderr",
     "output_type": "stream",
     "text": [
      "Val Epoch:2: 5it [00:00, 19.42it/s]334)\u001b[0m \n",
      "Val Epoch:2: 47it [00:01, 36.83it/s]34)\u001b[0m \n",
      "\u001b[36m(tune_with_parameters pid=2265334)\u001b[0m Checkpoint successfully created at: Checkpoint(filesystem=local, path=/scratch/users/k23058970/Model training/results/Double Peak Conv Null/tune_with_parameters_2024-08-19_21-53-48/tune_with_parameters_347d1_00003_3_dp=0.1000,k1=7,k2=1,k3=3,k4=1,lr=0.0191_2024-08-19_21-54-20/checkpoint_000002)\n"
     ]
    },
    {
     "name": "stdout",
     "output_type": "stream",
     "text": [
      "\u001b[36m(tune_with_parameters pid=2265334)\u001b[0m /tmp/tmpa42a7w2l/checkpoint.pt\n",
      "\u001b[36m(tune_with_parameters pid=2265334)\u001b[0m loss: 0.041\u001b[32m [repeated 20x across cluster]\u001b[0m\n"
     ]
    },
    {
     "name": "stderr",
     "output_type": "stream",
     "text": [
      "Val Epoch:3: 0it [00:00, ?it/s]\u001b[32m [repeated 2x across cluster]\u001b[0m\n",
      "Val Epoch:20: 47it [00:02, 23.00it/s]\u001b[32m [repeated 17x across cluster]\u001b[0m\n"
     ]
    },
    {
     "name": "stdout",
     "output_type": "stream",
     "text": [
      "\u001b[36m(tune_with_parameters pid=2265334)\u001b[0m /tmp/tmp868c46vd/checkpoint.pt\n"
     ]
    },
    {
     "name": "stderr",
     "output_type": "stream",
     "text": [
      "\u001b[36m(tune_with_parameters pid=2265334)\u001b[0m Checkpoint successfully created at: Checkpoint(filesystem=local, path=/scratch/users/k23058970/Model training/results/Double Peak Conv Null/tune_with_parameters_2024-08-19_21-53-48/tune_with_parameters_347d1_00003_3_dp=0.1000,k1=7,k2=1,k3=3,k4=1,lr=0.0191_2024-08-19_21-54-20/checkpoint_000003)\n"
     ]
    },
    {
     "name": "stdout",
     "output_type": "stream",
     "text": [
      "\u001b[36m(tune_with_parameters pid=2265334)\u001b[0m loss: 0.030\u001b[32m [repeated 20x across cluster]\u001b[0m\n"
     ]
    },
    {
     "name": "stderr",
     "output_type": "stream",
     "text": [
      "Val Epoch:4: 0it [00:00, ?it/s]\u001b[32m [repeated 2x across cluster]\u001b[0m\n",
      "Val Epoch:21: 47it [00:01, 34.55it/s]\u001b[32m [repeated 17x across cluster]\u001b[0m\n"
     ]
    },
    {
     "name": "stdout",
     "output_type": "stream",
     "text": [
      "\u001b[36m(tune_with_parameters pid=2265334)\u001b[0m /tmp/tmphgax906u/checkpoint.pt\n",
      "\u001b[36m(tune_with_parameters pid=2244203)\u001b[0m loss: 0.000\u001b[32m [repeated 25x across cluster]\u001b[0m\n"
     ]
    },
    {
     "name": "stderr",
     "output_type": "stream",
     "text": [
      "\u001b[36m(tune_with_parameters pid=2265334)\u001b[0m Checkpoint successfully created at: Checkpoint(filesystem=local, path=/scratch/users/k23058970/Model training/results/Double Peak Conv Null/tune_with_parameters_2024-08-19_21-53-48/tune_with_parameters_347d1_00003_3_dp=0.1000,k1=7,k2=1,k3=3,k4=1,lr=0.0191_2024-08-19_21-54-20/checkpoint_000004)\n",
      "Val Epoch:5: 0it [00:00, ?it/s]\u001b[32m [repeated 2x across cluster]\u001b[0m\n",
      "Val Epoch:22: 47it [00:01, 30.66it/s]\u001b[32m [repeated 19x across cluster]\u001b[0m\n"
     ]
    },
    {
     "name": "stdout",
     "output_type": "stream",
     "text": [
      "\u001b[36m(tune_with_parameters pid=2244203)\u001b[0m loss: 0.000\u001b[32m [repeated 28x across cluster]\u001b[0m\n",
      "\u001b[36m(tune_with_parameters pid=2265334)\u001b[0m /tmp/tmpva4zhq0g/checkpoint.pt\n"
     ]
    },
    {
     "name": "stderr",
     "output_type": "stream",
     "text": [
      "\u001b[36m(tune_with_parameters pid=2265334)\u001b[0m Checkpoint successfully created at: Checkpoint(filesystem=local, path=/scratch/users/k23058970/Model training/results/Double Peak Conv Null/tune_with_parameters_2024-08-19_21-53-48/tune_with_parameters_347d1_00003_3_dp=0.1000,k1=7,k2=1,k3=3,k4=1,lr=0.0191_2024-08-19_21-54-20/checkpoint_000005)\n"
     ]
    },
    {
     "name": "stdout",
     "output_type": "stream",
     "text": [
      "\u001b[36m(tune_with_parameters pid=2244203)\u001b[0m /tmp/tmpwbnhk_zb/checkpoint.pt\n",
      "\u001b[36m(tune_with_parameters pid=2244203)\u001b[0m loss: 0.000\u001b[32m [repeated 22x across cluster]\u001b[0m\n"
     ]
    },
    {
     "name": "stderr",
     "output_type": "stream",
     "text": [
      "Val Epoch:6: 0it [00:00, ?it/s]\u001b[32m [repeated 2x across cluster]\u001b[0m\n",
      "Val Epoch:23: 47it [00:02, 23.21it/s]\u001b[32m [repeated 19x across cluster]\u001b[0m\n",
      "\u001b[36m(tune_with_parameters pid=2244203)\u001b[0m Checkpoint successfully created at: Checkpoint(filesystem=local, path=/scratch/users/k23058970/Model training/results/Double Peak Conv Null/tune_with_parameters_2024-08-19_21-53-48/tune_with_parameters_347d1_00000_0_dp=0.2500,k1=1,k2=5,k3=5,k4=5,lr=0.0525_2024-08-19_21-54-19/checkpoint_000006)\n"
     ]
    },
    {
     "name": "stdout",
     "output_type": "stream",
     "text": [
      "\u001b[36m(tune_with_parameters pid=2265334)\u001b[0m /tmp/tmp1v5q7j_c/checkpoint.pt\n"
     ]
    },
    {
     "name": "stderr",
     "output_type": "stream",
     "text": [
      "\u001b[36m(tune_with_parameters pid=2265334)\u001b[0m Checkpoint successfully created at: Checkpoint(filesystem=local, path=/scratch/users/k23058970/Model training/results/Double Peak Conv Null/tune_with_parameters_2024-08-19_21-53-48/tune_with_parameters_347d1_00003_3_dp=0.1000,k1=7,k2=1,k3=3,k4=1,lr=0.0191_2024-08-19_21-54-20/checkpoint_000006)\n"
     ]
    },
    {
     "name": "stdout",
     "output_type": "stream",
     "text": [
      "\u001b[36m(tune_with_parameters pid=2265334)\u001b[0m loss: 0.017\u001b[32m [repeated 16x across cluster]\u001b[0m\n"
     ]
    },
    {
     "name": "stderr",
     "output_type": "stream",
     "text": [
      "Val Epoch:7: 0it [00:00, ?it/s]\u001b[32m [repeated 2x across cluster]\u001b[0m\n",
      "Val Epoch:24: 47it [00:01, 26.20it/s]\u001b[32m [repeated 20x across cluster]\u001b[0m\n"
     ]
    },
    {
     "name": "stdout",
     "output_type": "stream",
     "text": [
      "\u001b[36m(tune_with_parameters pid=2265334)\u001b[0m /tmp/tmpd5a5wg8r/checkpoint.pt\n"
     ]
    },
    {
     "name": "stderr",
     "output_type": "stream",
     "text": [
      "\u001b[36m(tune_with_parameters pid=2265334)\u001b[0m Checkpoint successfully created at: Checkpoint(filesystem=local, path=/scratch/users/k23058970/Model training/results/Double Peak Conv Null/tune_with_parameters_2024-08-19_21-53-48/tune_with_parameters_347d1_00003_3_dp=0.1000,k1=7,k2=1,k3=3,k4=1,lr=0.0191_2024-08-19_21-54-20/checkpoint_000007)\n"
     ]
    },
    {
     "name": "stdout",
     "output_type": "stream",
     "text": [
      "\u001b[36m(tune_with_parameters pid=2265334)\u001b[0m loss: 0.034\u001b[32m [repeated 25x across cluster]\u001b[0m\n"
     ]
    },
    {
     "name": "stderr",
     "output_type": "stream",
     "text": [
      "Val Epoch:8: 0it [00:00, ?it/s]\u001b[32m [repeated 2x across cluster]\u001b[0m\n",
      "Val Epoch:25: 47it [00:01, 24.63it/s]\u001b[32m [repeated 19x across cluster]\u001b[0m\n"
     ]
    },
    {
     "name": "stdout",
     "output_type": "stream",
     "text": [
      "\u001b[36m(tune_with_parameters pid=2265334)\u001b[0m /tmp/tmp_x29akxh/checkpoint.pt\n",
      "\u001b[36m(tune_with_parameters pid=2244203)\u001b[0m loss: 0.000\u001b[32m [repeated 29x across cluster]\u001b[0m\n"
     ]
    },
    {
     "name": "stderr",
     "output_type": "stream",
     "text": [
      "\u001b[36m(tune_with_parameters pid=2265334)\u001b[0m Checkpoint successfully created at: Checkpoint(filesystem=local, path=/scratch/users/k23058970/Model training/results/Double Peak Conv Null/tune_with_parameters_2024-08-19_21-53-48/tune_with_parameters_347d1_00003_3_dp=0.1000,k1=7,k2=1,k3=3,k4=1,lr=0.0191_2024-08-19_21-54-20/checkpoint_000008)\n",
      "Val Epoch:9: 0it [00:00, ?it/s]\u001b[32m [repeated 2x across cluster]\u001b[0m\n",
      "Val Epoch:26: 47it [00:01, 29.86it/s]\u001b[32m [repeated 19x across cluster]\u001b[0m\n"
     ]
    },
    {
     "name": "stdout",
     "output_type": "stream",
     "text": [
      "\u001b[36m(tune_with_parameters pid=2244203)\u001b[0m loss: 0.000\u001b[32m [repeated 29x across cluster]\u001b[0m\n",
      "\u001b[36m(tune_with_parameters pid=2265334)\u001b[0m /tmp/tmpjpplh4o7/checkpoint.pt\n"
     ]
    },
    {
     "name": "stderr",
     "output_type": "stream",
     "text": [
      "\u001b[36m(tune_with_parameters pid=2265334)\u001b[0m Checkpoint successfully created at: Checkpoint(filesystem=local, path=/scratch/users/k23058970/Model training/results/Double Peak Conv Null/tune_with_parameters_2024-08-19_21-53-48/tune_with_parameters_347d1_00003_3_dp=0.1000,k1=7,k2=1,k3=3,k4=1,lr=0.0191_2024-08-19_21-54-20/checkpoint_000009)\n"
     ]
    },
    {
     "name": "stdout",
     "output_type": "stream",
     "text": [
      "\u001b[36m(tune_with_parameters pid=2244203)\u001b[0m loss: 0.000\u001b[32m [repeated 24x across cluster]\u001b[0m\n"
     ]
    },
    {
     "name": "stderr",
     "output_type": "stream",
     "text": [
      "Val Epoch:10: 0it [00:00, ?it/s]\u001b[32m [repeated 2x across cluster]\u001b[0m\n",
      "Val Epoch:27: 47it [00:02, 22.39it/s]\u001b[32m [repeated 18x across cluster]\u001b[0m\n"
     ]
    },
    {
     "name": "stdout",
     "output_type": "stream",
     "text": [
      "\u001b[36m(tune_with_parameters pid=2265334)\u001b[0m /tmp/tmpu_eodcxb/checkpoint.pt\n"
     ]
    },
    {
     "name": "stderr",
     "output_type": "stream",
     "text": [
      "\u001b[36m(tune_with_parameters pid=2265334)\u001b[0m Checkpoint successfully created at: Checkpoint(filesystem=local, path=/scratch/users/k23058970/Model training/results/Double Peak Conv Null/tune_with_parameters_2024-08-19_21-53-48/tune_with_parameters_347d1_00003_3_dp=0.1000,k1=7,k2=1,k3=3,k4=1,lr=0.0191_2024-08-19_21-54-20/checkpoint_000010)\n",
      "Val Epoch:28: 47it [00:01, 31.15it/s]3)\u001b[0m \n"
     ]
    },
    {
     "name": "stdout",
     "output_type": "stream",
     "text": [
      "\u001b[36m(tune_with_parameters pid=2244203)\u001b[0m loss: 0.000\u001b[32m [repeated 12x across cluster]\u001b[0m\n"
     ]
    },
    {
     "name": "stderr",
     "output_type": "stream",
     "text": [
      "Val Epoch:11: 0it [00:00, ?it/s]\u001b[32m [repeated 2x across cluster]\u001b[0m\n",
      "Val Epoch:28: 40it [00:01, 37.28it/s]\u001b[32m [repeated 17x across cluster]\u001b[0m\n"
     ]
    },
    {
     "name": "stdout",
     "output_type": "stream",
     "text": [
      "\u001b[36m(tune_with_parameters pid=2265334)\u001b[0m loss: 0.010\u001b[32m [repeated 26x across cluster]\u001b[0m\n"
     ]
    },
    {
     "name": "stderr",
     "output_type": "stream",
     "text": [
      "Val Epoch:12: 0it [00:00, ?it/s]\u001b[32m [repeated 2x across cluster]\u001b[0m\n",
      "Val Epoch:29: 47it [00:01, 32.52it/s]\u001b[32m [repeated 19x across cluster]\u001b[0m\n",
      "Val Epoch:12: 47it [00:01, 30.48it/s]4)\u001b[0m \n",
      "\u001b[36m(tune_with_parameters pid=2265334)\u001b[0m Checkpoint successfully created at: Checkpoint(filesystem=local, path=/scratch/users/k23058970/Model training/results/Double Peak Conv Null/tune_with_parameters_2024-08-19_21-53-48/tune_with_parameters_347d1_00003_3_dp=0.1000,k1=7,k2=1,k3=3,k4=1,lr=0.0191_2024-08-19_21-54-20/checkpoint_000011)\n"
     ]
    },
    {
     "name": "stdout",
     "output_type": "stream",
     "text": [
      "\u001b[36m(tune_with_parameters pid=2265334)\u001b[0m /tmp/tmp15z2nriy/checkpoint.pt\n",
      "\u001b[36m(tune_with_parameters pid=2244203)\u001b[0m loss: 0.000\u001b[32m [repeated 29x across cluster]\u001b[0m\n"
     ]
    },
    {
     "name": "stderr",
     "output_type": "stream",
     "text": [
      "Val Epoch:13: 0it [00:00, ?it/s]\u001b[32m [repeated 2x across cluster]\u001b[0m\n",
      "Val Epoch:30: 47it [00:01, 27.55it/s]\u001b[32m [repeated 16x across cluster]\u001b[0m\n"
     ]
    },
    {
     "name": "stdout",
     "output_type": "stream",
     "text": [
      "\u001b[36m(tune_with_parameters pid=2244203)\u001b[0m loss: 0.000\u001b[32m [repeated 28x across cluster]\u001b[0m\n",
      "\u001b[36m(tune_with_parameters pid=2244203)\u001b[0m loss: 0.000\u001b[32m [repeated 20x across cluster]\u001b[0m\n"
     ]
    },
    {
     "name": "stderr",
     "output_type": "stream",
     "text": [
      "Val Epoch:14: 0it [00:00, ?it/s]\u001b[32m [repeated 2x across cluster]\u001b[0m\n",
      "Val Epoch:31: 47it [00:01, 25.01it/s]\u001b[32m [repeated 21x across cluster]\u001b[0m\n"
     ]
    },
    {
     "name": "stdout",
     "output_type": "stream",
     "text": [
      "\u001b[36m(tune_with_parameters pid=2244203)\u001b[0m loss: 0.000\u001b[32m [repeated 18x across cluster]\u001b[0m\n"
     ]
    },
    {
     "name": "stderr",
     "output_type": "stream",
     "text": [
      "Val Epoch:15: 0it [00:00, ?it/s]\u001b[32m [repeated 2x across cluster]\u001b[0m\n",
      "Val Epoch:32: 47it [00:01, 34.43it/s]\u001b[32m [repeated 20x across cluster]\u001b[0m\n"
     ]
    },
    {
     "name": "stdout",
     "output_type": "stream",
     "text": [
      "\u001b[36m(tune_with_parameters pid=2265334)\u001b[0m /tmp/tmpfx35i0ui/checkpoint.pt\n"
     ]
    },
    {
     "name": "stderr",
     "output_type": "stream",
     "text": [
      "\u001b[36m(tune_with_parameters pid=2265334)\u001b[0m Checkpoint successfully created at: Checkpoint(filesystem=local, path=/scratch/users/k23058970/Model training/results/Double Peak Conv Null/tune_with_parameters_2024-08-19_21-53-48/tune_with_parameters_347d1_00003_3_dp=0.1000,k1=7,k2=1,k3=3,k4=1,lr=0.0191_2024-08-19_21-54-20/checkpoint_000012)\n"
     ]
    },
    {
     "name": "stdout",
     "output_type": "stream",
     "text": [
      "\u001b[36m(tune_with_parameters pid=2265334)\u001b[0m loss: 0.003\u001b[32m [repeated 25x across cluster]\u001b[0m\n"
     ]
    },
    {
     "name": "stderr",
     "output_type": "stream",
     "text": [
      "Val Epoch:16: 0it [00:00, ?it/s]\u001b[32m [repeated 2x across cluster]\u001b[0m\n",
      "Val Epoch:33: 47it [00:01, 23.79it/s]\u001b[32m [repeated 18x across cluster]\u001b[0m\n"
     ]
    },
    {
     "name": "stdout",
     "output_type": "stream",
     "text": [
      "\u001b[36m(tune_with_parameters pid=2244203)\u001b[0m loss: 0.000\u001b[32m [repeated 30x across cluster]\u001b[0m\n"
     ]
    },
    {
     "name": "stderr",
     "output_type": "stream",
     "text": [
      "Val Epoch:35: 0it [00:00, ?it/s]\u001b[32m [repeated 2x across cluster]\u001b[0m\n",
      "Val Epoch:34: 47it [00:01, 36.50it/s]\u001b[32m [repeated 16x across cluster]\u001b[0m\n"
     ]
    },
    {
     "name": "stdout",
     "output_type": "stream",
     "text": [
      "\u001b[36m(tune_with_parameters pid=2244203)\u001b[0m loss: 0.000\u001b[32m [repeated 16x across cluster]\u001b[0m\n"
     ]
    },
    {
     "name": "stderr",
     "output_type": "stream",
     "text": [
      "Val Epoch:36: 0it [00:00, ?it/s]244203)\u001b[0m \n",
      "Val Epoch:35: 47it [00:01, 35.70it/s]\u001b[32m [repeated 7x across cluster]\u001b[0m\n"
     ]
    },
    {
     "name": "stdout",
     "output_type": "stream",
     "text": [
      "\u001b[36m(tune_with_parameters pid=2244203)\u001b[0m loss: 0.000\u001b[32m [repeated 14x across cluster]\u001b[0m\n"
     ]
    },
    {
     "name": "stderr",
     "output_type": "stream",
     "text": [
      "\u001b[36m(tune_with_parameters pid=2281961)\u001b[0m /users/k23058970/miniforge3/envs/Training/lib/python3.10/site-packages/torch/nn/modules/lazy.py:181: UserWarning: Lazy modules are a new feature under heavy development so changes to the API or functionality can happen at any moment.\n",
      "\u001b[36m(tune_with_parameters pid=2281961)\u001b[0m   warnings.warn('Lazy modules are a new feature under heavy development '\n",
      "Val Epoch:37: 0it [00:00, ?it/s]244203)\u001b[0m \n",
      "Val Epoch:37: 1it [00:00,  2.67it/s]\u001b[32m [repeated 10x across cluster]\u001b[0m\n"
     ]
    },
    {
     "name": "stdout",
     "output_type": "stream",
     "text": [
      "\u001b[36m(tune_with_parameters pid=2281961)\u001b[0m loss: 1.087\u001b[32m [repeated 15x across cluster]\u001b[0m\n"
     ]
    },
    {
     "name": "stderr",
     "output_type": "stream",
     "text": [
      "Val Epoch:38: 0it [00:00, ?it/s]244203)\u001b[0m \n",
      "Val Epoch:37: 47it [00:01, 28.77it/s]\u001b[32m [repeated 7x across cluster]\u001b[0m\n",
      "Val Epoch:0: 0it [00:00, ?it/s]2281961)\u001b[0m \n"
     ]
    },
    {
     "name": "stdout",
     "output_type": "stream",
     "text": [
      "\u001b[36m(tune_with_parameters pid=2244203)\u001b[0m loss: 0.000\u001b[32m [repeated 30x across cluster]\u001b[0m\n",
      "\u001b[36m(tune_with_parameters pid=2281961)\u001b[0m /tmp/tmpj241s4f0/checkpoint.pt\n"
     ]
    },
    {
     "name": "stderr",
     "output_type": "stream",
     "text": [
      "\u001b[36m(tune_with_parameters pid=2281961)\u001b[0m Checkpoint successfully created at: Checkpoint(filesystem=local, path=/scratch/users/k23058970/Model training/results/Double Peak Conv Null/tune_with_parameters_2024-08-19_21-53-48/tune_with_parameters_347d1_00004_4_dp=0.2000,k1=1,k2=7,k3=5,k4=1,lr=0.0362_2024-08-19_21-54-20/checkpoint_000000)\n",
      "Val Epoch:0: 47it [00:01, 26.28it/s]\u001b[32m [repeated 20x across cluster]\u001b[0m\n",
      "Val Epoch:39: 0it [00:00, ?it/s]244203)\u001b[0m \n",
      "Val Epoch:1: 0it [00:00, ?it/s]2281961)\u001b[0m \n"
     ]
    },
    {
     "name": "stdout",
     "output_type": "stream",
     "text": [
      "\u001b[36m(tune_with_parameters pid=2244203)\u001b[0m loss: 0.000\u001b[32m [repeated 30x across cluster]\u001b[0m\n",
      "\u001b[36m(tune_with_parameters pid=2281961)\u001b[0m /tmp/tmpkm1u7af5/checkpoint.pt\n"
     ]
    },
    {
     "name": "stderr",
     "output_type": "stream",
     "text": [
      "\u001b[36m(tune_with_parameters pid=2281961)\u001b[0m Checkpoint successfully created at: Checkpoint(filesystem=local, path=/scratch/users/k23058970/Model training/results/Double Peak Conv Null/tune_with_parameters_2024-08-19_21-53-48/tune_with_parameters_347d1_00004_4_dp=0.2000,k1=1,k2=7,k3=5,k4=1,lr=0.0362_2024-08-19_21-54-20/checkpoint_000001)\n",
      "Val Epoch:1: 47it [00:01, 27.58it/s]\u001b[32m [repeated 17x across cluster]\u001b[0m\n",
      "Val Epoch:40: 0it [00:00, ?it/s]244203)\u001b[0m \n",
      "Val Epoch:2: 0it [00:00, ?it/s]2281961)\u001b[0m \n",
      "Val Epoch:40: 47it [00:01, 24.86it/s]3)\u001b[0m \n"
     ]
    },
    {
     "name": "stdout",
     "output_type": "stream",
     "text": [
      "\u001b[36m(tune_with_parameters pid=2244203)\u001b[0m loss: 0.000\u001b[32m [repeated 30x across cluster]\u001b[0m\n"
     ]
    },
    {
     "name": "stderr",
     "output_type": "stream",
     "text": [
      "Val Epoch:2: 47it [00:01, 24.91it/s]\u001b[32m [repeated 17x across cluster]\u001b[0m\n",
      "Val Epoch:41: 0it [00:00, ?it/s]244203)\u001b[0m \n"
     ]
    },
    {
     "name": "stdout",
     "output_type": "stream",
     "text": [
      "\u001b[36m(tune_with_parameters pid=2281961)\u001b[0m loss: 0.000\u001b[32m [repeated 28x across cluster]\u001b[0m\n"
     ]
    },
    {
     "name": "stderr",
     "output_type": "stream",
     "text": [
      "Val Epoch:3: 0it [00:00, ?it/s]2281961)\u001b[0m \n"
     ]
    },
    {
     "name": "stdout",
     "output_type": "stream",
     "text": [
      "\u001b[36m(tune_with_parameters pid=2244203)\u001b[0m loss: 0.000\u001b[32m [repeated 20x across cluster]\u001b[0m\n"
     ]
    },
    {
     "name": "stderr",
     "output_type": "stream",
     "text": [
      "Val Epoch:3: 47it [00:02, 21.77it/s]\u001b[32m [repeated 18x across cluster]\u001b[0m\n",
      "Val Epoch:42: 0it [00:00, ?it/s]244203)\u001b[0m \n",
      "Val Epoch:4: 0it [00:00, ?it/s]2281961)\u001b[0m \n",
      "Val Epoch:4: 47it [00:01, 33.15it/s]61)\u001b[0m \n"
     ]
    },
    {
     "name": "stdout",
     "output_type": "stream",
     "text": [
      "\u001b[36m(tune_with_parameters pid=2244203)\u001b[0m loss: 0.000\u001b[32m [repeated 18x across cluster]\u001b[0m\n"
     ]
    },
    {
     "name": "stderr",
     "output_type": "stream",
     "text": [
      "Val Epoch:4: 40it [00:01, 42.67it/s]\u001b[32m [repeated 17x across cluster]\u001b[0m\n",
      "Val Epoch:43: 0it [00:00, ?it/s]244203)\u001b[0m \n",
      "Val Epoch:5: 0it [00:00, ?it/s]2281961)\u001b[0m \n"
     ]
    },
    {
     "name": "stdout",
     "output_type": "stream",
     "text": [
      "\u001b[36m(tune_with_parameters pid=2244203)\u001b[0m loss: 0.000\u001b[32m [repeated 26x across cluster]\u001b[0m\n"
     ]
    },
    {
     "name": "stderr",
     "output_type": "stream",
     "text": [
      "Val Epoch:5: 47it [00:01, 29.67it/s]\u001b[32m [repeated 19x across cluster]\u001b[0m\n",
      "Val Epoch:44: 0it [00:00, ?it/s]244203)\u001b[0m \n",
      "Val Epoch:44: 28it [00:00, 41.97it/s]3)\u001b[0m \n"
     ]
    },
    {
     "name": "stdout",
     "output_type": "stream",
     "text": [
      "\u001b[36m(tune_with_parameters pid=2281961)\u001b[0m loss: 0.000\u001b[32m [repeated 27x across cluster]\u001b[0m\n"
     ]
    },
    {
     "name": "stderr",
     "output_type": "stream",
     "text": [
      "Val Epoch:6: 0it [00:00, ?it/s]2281961)\u001b[0m \n",
      "Val Epoch:6: 47it [00:01, 35.52it/s]\u001b[32m [repeated 17x across cluster]\u001b[0m\n"
     ]
    },
    {
     "name": "stdout",
     "output_type": "stream",
     "text": [
      "\u001b[36m(tune_with_parameters pid=2281961)\u001b[0m loss: 0.000\u001b[32m [repeated 24x across cluster]\u001b[0m\n"
     ]
    },
    {
     "name": "stderr",
     "output_type": "stream",
     "text": [
      "Val Epoch:45: 0it [00:00, ?it/s]244203)\u001b[0m \n",
      "Val Epoch:7: 0it [00:00, ?it/s]2281961)\u001b[0m \n"
     ]
    },
    {
     "name": "stdout",
     "output_type": "stream",
     "text": [
      "\u001b[36m(tune_with_parameters pid=2244203)\u001b[0m loss: 0.000\u001b[32m [repeated 26x across cluster]\u001b[0m\n"
     ]
    },
    {
     "name": "stderr",
     "output_type": "stream",
     "text": [
      "Val Epoch:7: 47it [00:01, 34.60it/s]\u001b[32m [repeated 19x across cluster]\u001b[0m\n",
      "Val Epoch:8: 0it [00:00, ?it/s]\u001b[32m [repeated 2x across cluster]\u001b[0m\n"
     ]
    },
    {
     "name": "stdout",
     "output_type": "stream",
     "text": [
      "\u001b[36m(tune_with_parameters pid=2244203)\u001b[0m loss: 0.000\u001b[32m [repeated 20x across cluster]\u001b[0m\n"
     ]
    },
    {
     "name": "stderr",
     "output_type": "stream",
     "text": [
      "Val Epoch:8: 47it [00:01, 40.13it/s]\u001b[32m [repeated 19x across cluster]\u001b[0m\n",
      "Val Epoch:47: 47it [00:01, 35.53it/s]3)\u001b[0m \n",
      "Val Epoch:9: 0it [00:00, ?it/s]\u001b[32m [repeated 2x across cluster]\u001b[0m\n"
     ]
    },
    {
     "name": "stdout",
     "output_type": "stream",
     "text": [
      "\u001b[36m(tune_with_parameters pid=2244203)\u001b[0m loss: 0.001\u001b[32m [repeated 25x across cluster]\u001b[0m\n"
     ]
    },
    {
     "name": "stderr",
     "output_type": "stream",
     "text": [
      "Val Epoch:9: 47it [00:01, 28.70it/s]\u001b[32m [repeated 18x across cluster]\u001b[0m\n",
      "Val Epoch:48: 0it [00:00, ?it/s]244203)\u001b[0m \n"
     ]
    },
    {
     "name": "stdout",
     "output_type": "stream",
     "text": [
      "\u001b[36m(tune_with_parameters pid=2244203)\u001b[0m loss: 0.000\u001b[32m [repeated 21x across cluster]\u001b[0m\n"
     ]
    },
    {
     "name": "stderr",
     "output_type": "stream",
     "text": [
      "Val Epoch:10: 0it [00:00, ?it/s]281961)\u001b[0m \n",
      "Val Epoch:10: 39it [00:01, 44.33it/s]\u001b[32m [repeated 18x across cluster]\u001b[0m\n"
     ]
    },
    {
     "name": "stdout",
     "output_type": "stream",
     "text": [
      "\u001b[36m(tune_with_parameters pid=2281961)\u001b[0m loss: 0.000\u001b[32m [repeated 23x across cluster]\u001b[0m\n"
     ]
    },
    {
     "name": "stderr",
     "output_type": "stream",
     "text": [
      "Val Epoch:11: 0it [00:00, ?it/s]\u001b[32m [repeated 2x across cluster]\u001b[0m\n",
      "Val Epoch:49: 47it [00:01, 38.35it/s]\u001b[32m [repeated 12x across cluster]\u001b[0m\n"
     ]
    },
    {
     "name": "stdout",
     "output_type": "stream",
     "text": [
      "\u001b[36m(tune_with_parameters pid=2281961)\u001b[0m loss: 0.000\u001b[32m [repeated 27x across cluster]\u001b[0m\n"
     ]
    },
    {
     "name": "stderr",
     "output_type": "stream",
     "text": [
      "Val Epoch:12: 0it [00:00, ?it/s]\u001b[32m [repeated 2x across cluster]\u001b[0m\n",
      "Val Epoch:50: 47it [00:01, 25.67it/s]\u001b[32m [repeated 20x across cluster]\u001b[0m\n"
     ]
    },
    {
     "name": "stdout",
     "output_type": "stream",
     "text": [
      "\u001b[36m(tune_with_parameters pid=2244203)\u001b[0m loss: 0.000\u001b[32m [repeated 28x across cluster]\u001b[0m\n"
     ]
    },
    {
     "name": "stderr",
     "output_type": "stream",
     "text": [
      "Val Epoch:51: 47it [00:02, 21.54it/s]3)\u001b[0m \n"
     ]
    },
    {
     "name": "stdout",
     "output_type": "stream",
     "text": [
      "\u001b[36m(tune_with_parameters pid=2244203)\u001b[0m loss: 0.000\u001b[32m [repeated 20x across cluster]\u001b[0m\n"
     ]
    },
    {
     "name": "stderr",
     "output_type": "stream",
     "text": [
      "Val Epoch:13: 0it [00:00, ?it/s]\u001b[32m [repeated 2x across cluster]\u001b[0m\n",
      "Val Epoch:51: 42it [00:01, 40.31it/s]\u001b[32m [repeated 20x across cluster]\u001b[0m\n",
      "Val Epoch:13: 47it [00:01, 34.90it/s]1)\u001b[0m \n",
      "Val Epoch:52: 47it [00:01, 32.49it/s]3)\u001b[0m \n"
     ]
    },
    {
     "name": "stdout",
     "output_type": "stream",
     "text": [
      "\u001b[36m(tune_with_parameters pid=2244203)\u001b[0m loss: 0.000\u001b[32m [repeated 21x across cluster]\u001b[0m\n"
     ]
    },
    {
     "name": "stderr",
     "output_type": "stream",
     "text": [
      "Val Epoch:14: 0it [00:00, ?it/s]\u001b[32m [repeated 2x across cluster]\u001b[0m\n",
      "Val Epoch:52: 41it [00:01, 44.22it/s]\u001b[32m [repeated 16x across cluster]\u001b[0m\n"
     ]
    },
    {
     "name": "stdout",
     "output_type": "stream",
     "text": [
      "\u001b[36m(tune_with_parameters pid=2281961)\u001b[0m loss: 0.000\u001b[32m [repeated 22x across cluster]\u001b[0m\n"
     ]
    },
    {
     "name": "stderr",
     "output_type": "stream",
     "text": [
      "Val Epoch:15: 0it [00:00, ?it/s]\u001b[32m [repeated 2x across cluster]\u001b[0m\n",
      "Val Epoch:53: 47it [00:01, 23.52it/s]\u001b[32m [repeated 18x across cluster]\u001b[0m\n",
      "Val Epoch:15: 47it [00:01, 31.29it/s]1)\u001b[0m \n"
     ]
    },
    {
     "name": "stdout",
     "output_type": "stream",
     "text": [
      "\u001b[36m(tune_with_parameters pid=2281961)\u001b[0m loss: 0.000\u001b[32m [repeated 29x across cluster]\u001b[0m\n",
      "\u001b[36m(tune_with_parameters pid=2244203)\u001b[0m /tmp/tmp4bpb5vzx/checkpoint.pt\n"
     ]
    },
    {
     "name": "stderr",
     "output_type": "stream",
     "text": [
      "\u001b[36m(tune_with_parameters pid=2244203)\u001b[0m Checkpoint successfully created at: Checkpoint(filesystem=local, path=/scratch/users/k23058970/Model training/results/Double Peak Conv Null/tune_with_parameters_2024-08-19_21-53-48/tune_with_parameters_347d1_00000_0_dp=0.2500,k1=1,k2=5,k3=5,k4=5,lr=0.0525_2024-08-19_21-54-19/checkpoint_000007)\n",
      "Val Epoch:16: 0it [00:00, ?it/s]\u001b[32m [repeated 2x across cluster]\u001b[0m\n",
      "Val Epoch:54: 39it [00:01, 19.36it/s]\u001b[32m [repeated 14x across cluster]\u001b[0m\n",
      "Val Epoch:54: 47it [00:01, 29.26it/s]3)\u001b[0m \n"
     ]
    },
    {
     "name": "stdout",
     "output_type": "stream",
     "text": [
      "\u001b[36m(tune_with_parameters pid=2281961)\u001b[0m /tmp/tmpmorg1rk0/checkpoint.pt\n",
      "\u001b[36m(tune_with_parameters pid=2244203)\u001b[0m loss: 0.000\u001b[32m [repeated 29x across cluster]\u001b[0m\n"
     ]
    },
    {
     "name": "stderr",
     "output_type": "stream",
     "text": [
      "\u001b[36m(tune_with_parameters pid=2281961)\u001b[0m Checkpoint successfully created at: Checkpoint(filesystem=local, path=/scratch/users/k23058970/Model training/results/Double Peak Conv Null/tune_with_parameters_2024-08-19_21-53-48/tune_with_parameters_347d1_00004_4_dp=0.2000,k1=1,k2=7,k3=5,k4=1,lr=0.0362_2024-08-19_21-54-20/checkpoint_000002)\n",
      "Val Epoch:17: 0it [00:00, ?it/s]\u001b[32m [repeated 2x across cluster]\u001b[0m\n",
      "Val Epoch:55: 47it [00:01, 28.30it/s]\u001b[32m [repeated 19x across cluster]\u001b[0m\n"
     ]
    },
    {
     "name": "stdout",
     "output_type": "stream",
     "text": [
      "\u001b[36m(tune_with_parameters pid=2244203)\u001b[0m loss: 0.000\u001b[32m [repeated 31x across cluster]\u001b[0m\n"
     ]
    },
    {
     "name": "stderr",
     "output_type": "stream",
     "text": [
      "Val Epoch:57: 0it [00:00, ?it/s]\u001b[32m [repeated 2x across cluster]\u001b[0m\n",
      "Val Epoch:17: 47it [00:01, 25.45it/s]\u001b[32m [repeated 19x across cluster]\u001b[0m\n"
     ]
    },
    {
     "name": "stdout",
     "output_type": "stream",
     "text": [
      "\u001b[36m(tune_with_parameters pid=2244203)\u001b[0m loss: 0.000\u001b[32m [repeated 30x across cluster]\u001b[0m\n"
     ]
    },
    {
     "name": "stderr",
     "output_type": "stream",
     "text": [
      "Val Epoch:58: 0it [00:00, ?it/s]\u001b[32m [repeated 2x across cluster]\u001b[0m\n",
      "Val Epoch:18: 47it [00:02, 21.55it/s]\u001b[32m [repeated 19x across cluster]\u001b[0m\n"
     ]
    },
    {
     "name": "stdout",
     "output_type": "stream",
     "text": [
      "\u001b[36m(tune_with_parameters pid=2244203)\u001b[0m loss: 0.000\u001b[32m [repeated 30x across cluster]\u001b[0m\n"
     ]
    },
    {
     "name": "stderr",
     "output_type": "stream",
     "text": [
      "Val Epoch:59: 0it [00:00, ?it/s]\u001b[32m [repeated 2x across cluster]\u001b[0m\n",
      "Val Epoch:19: 47it [00:01, 26.16it/s]\u001b[32m [repeated 18x across cluster]\u001b[0m\n"
     ]
    },
    {
     "name": "stdout",
     "output_type": "stream",
     "text": [
      "\u001b[36m(tune_with_parameters pid=2244203)\u001b[0m loss: 0.000\u001b[32m [repeated 30x across cluster]\u001b[0m\n"
     ]
    },
    {
     "name": "stderr",
     "output_type": "stream",
     "text": [
      "Val Epoch:60: 0it [00:00, ?it/s]\u001b[32m [repeated 2x across cluster]\u001b[0m\n",
      "Val Epoch:20: 47it [00:01, 24.17it/s]\u001b[32m [repeated 18x across cluster]\u001b[0m\n"
     ]
    },
    {
     "name": "stdout",
     "output_type": "stream",
     "text": [
      "\u001b[36m(tune_with_parameters pid=2244203)\u001b[0m loss: 0.000\u001b[32m [repeated 30x across cluster]\u001b[0m\n"
     ]
    },
    {
     "name": "stderr",
     "output_type": "stream",
     "text": [
      "Val Epoch:21: 47it [00:01, 25.07it/s]1)\u001b[0m \n",
      "Val Epoch:61: 0it [00:00, ?it/s]\u001b[32m [repeated 2x across cluster]\u001b[0m\n",
      "Val Epoch:21: 41it [00:01, 36.84it/s]\u001b[32m [repeated 18x across cluster]\u001b[0m\n"
     ]
    },
    {
     "name": "stdout",
     "output_type": "stream",
     "text": [
      "\u001b[36m(tune_with_parameters pid=2244203)\u001b[0m loss: 0.000\u001b[32m [repeated 30x across cluster]\u001b[0m\n"
     ]
    },
    {
     "name": "stderr",
     "output_type": "stream",
     "text": [
      "Val Epoch:62: 0it [00:00, ?it/s]\u001b[32m [repeated 2x across cluster]\u001b[0m\n",
      "Val Epoch:22: 47it [00:01, 29.30it/s]\u001b[32m [repeated 19x across cluster]\u001b[0m\n"
     ]
    },
    {
     "name": "stdout",
     "output_type": "stream",
     "text": [
      "\u001b[36m(tune_with_parameters pid=2281961)\u001b[0m loss: 0.000\u001b[32m [repeated 29x across cluster]\u001b[0m\n",
      "\u001b[36m(tune_with_parameters pid=2244203)\u001b[0m loss: 0.000\u001b[32m [repeated 23x across cluster]\u001b[0m\n"
     ]
    },
    {
     "name": "stderr",
     "output_type": "stream",
     "text": [
      "Val Epoch:63: 0it [00:00, ?it/s]\u001b[32m [repeated 2x across cluster]\u001b[0m\n",
      "Val Epoch:23: 47it [00:01, 29.79it/s]\u001b[32m [repeated 21x across cluster]\u001b[0m\n"
     ]
    },
    {
     "name": "stdout",
     "output_type": "stream",
     "text": [
      "\u001b[36m(tune_with_parameters pid=2244203)\u001b[0m loss: 0.000\u001b[32m [repeated 15x across cluster]\u001b[0m\n"
     ]
    },
    {
     "name": "stderr",
     "output_type": "stream",
     "text": [
      "Val Epoch:64: 0it [00:00, ?it/s]\u001b[32m [repeated 2x across cluster]\u001b[0m\n",
      "Val Epoch:24: 47it [00:01, 36.83it/s]\u001b[32m [repeated 19x across cluster]\u001b[0m\n"
     ]
    },
    {
     "name": "stdout",
     "output_type": "stream",
     "text": [
      "\u001b[36m(tune_with_parameters pid=2244203)\u001b[0m loss: 0.000\u001b[32m [repeated 26x across cluster]\u001b[0m\n"
     ]
    },
    {
     "name": "stderr",
     "output_type": "stream",
     "text": [
      "Val Epoch:25: 10it [00:00, 19.36it/s]1)\u001b[0m \n",
      "Val Epoch:65: 0it [00:00, ?it/s]\u001b[32m [repeated 2x across cluster]\u001b[0m\n",
      "Val Epoch:25: 47it [00:01, 31.45it/s]\u001b[32m [repeated 18x across cluster]\u001b[0m\n"
     ]
    },
    {
     "name": "stdout",
     "output_type": "stream",
     "text": [
      "\u001b[36m(tune_with_parameters pid=2244203)\u001b[0m loss: 0.000\u001b[32m [repeated 24x across cluster]\u001b[0m\n"
     ]
    },
    {
     "name": "stderr",
     "output_type": "stream",
     "text": [
      "Val Epoch:66: 0it [00:00, ?it/s]\u001b[32m [repeated 2x across cluster]\u001b[0m\n",
      "Val Epoch:26: 47it [00:01, 30.35it/s]\u001b[32m [repeated 19x across cluster]\u001b[0m\n"
     ]
    },
    {
     "name": "stdout",
     "output_type": "stream",
     "text": [
      "\u001b[36m(tune_with_parameters pid=2281961)\u001b[0m loss: 0.000\u001b[32m [repeated 24x across cluster]\u001b[0m\n",
      "\u001b[36m(tune_with_parameters pid=2244203)\u001b[0m loss: 0.000\u001b[32m [repeated 22x across cluster]\u001b[0m\n"
     ]
    },
    {
     "name": "stderr",
     "output_type": "stream",
     "text": [
      "Val Epoch:67: 0it [00:00, ?it/s]\u001b[32m [repeated 2x across cluster]\u001b[0m\n",
      "Val Epoch:27: 47it [00:01, 29.28it/s]\u001b[32m [repeated 18x across cluster]\u001b[0m\n"
     ]
    },
    {
     "name": "stdout",
     "output_type": "stream",
     "text": [
      "\u001b[36m(tune_with_parameters pid=2244203)\u001b[0m loss: 0.000\u001b[32m [repeated 24x across cluster]\u001b[0m\n"
     ]
    },
    {
     "name": "stderr",
     "output_type": "stream",
     "text": [
      "Val Epoch:68: 0it [00:00, ?it/s]\u001b[32m [repeated 2x across cluster]\u001b[0m\n",
      "Val Epoch:28: 47it [00:01, 36.15it/s]\u001b[32m [repeated 19x across cluster]\u001b[0m\n"
     ]
    },
    {
     "name": "stdout",
     "output_type": "stream",
     "text": [
      "\u001b[36m(tune_with_parameters pid=2244203)\u001b[0m loss: 0.000\u001b[32m [repeated 22x across cluster]\u001b[0m\n"
     ]
    },
    {
     "name": "stderr",
     "output_type": "stream",
     "text": [
      "Val Epoch:29: 0it [00:00, ?it/s]281961)\u001b[0m \n",
      "Val Epoch:29: 6it [00:00, 15.68it/s]\u001b[32m [repeated 12x across cluster]\u001b[0m\n",
      "Val Epoch:69: 0it [00:00, ?it/s]244203)\u001b[0m \n"
     ]
    },
    {
     "name": "stdout",
     "output_type": "stream",
     "text": [
      "\u001b[36m(tune_with_parameters pid=2281961)\u001b[0m loss: 0.000\u001b[32m [repeated 20x across cluster]\u001b[0m\n"
     ]
    },
    {
     "name": "stderr",
     "output_type": "stream",
     "text": [
      "Val Epoch:69: 47it [00:02, 22.87it/s]\u001b[32m [repeated 18x across cluster]\u001b[0m\n",
      "Val Epoch:30: 0it [00:00, ?it/s]281961)\u001b[0m \n",
      "Val Epoch:70: 0it [00:00, ?it/s]244203)\u001b[0m \n",
      "Val Epoch:30: 47it [00:02, 21.87it/s]1)\u001b[0m \n"
     ]
    },
    {
     "name": "stdout",
     "output_type": "stream",
     "text": [
      "\u001b[36m(tune_with_parameters pid=2281961)\u001b[0m loss: 0.000\u001b[32m [repeated 26x across cluster]\u001b[0m\n"
     ]
    },
    {
     "name": "stderr",
     "output_type": "stream",
     "text": [
      "Val Epoch:70: 40it [00:01, 41.10it/s]\u001b[32m [repeated 16x across cluster]\u001b[0m\n",
      "Val Epoch:31: 0it [00:00, ?it/s]281961)\u001b[0m \n",
      "Val Epoch:70: 47it [00:01, 25.90it/s]3)\u001b[0m \n"
     ]
    },
    {
     "name": "stdout",
     "output_type": "stream",
     "text": [
      "\u001b[36m(tune_with_parameters pid=2244203)\u001b[0m loss: 0.000\u001b[32m [repeated 29x across cluster]\u001b[0m\n"
     ]
    },
    {
     "name": "stderr",
     "output_type": "stream",
     "text": [
      "Val Epoch:71: 0it [00:00, ?it/s]244203)\u001b[0m \n"
     ]
    },
    {
     "name": "stdout",
     "output_type": "stream",
     "text": [
      "\u001b[36m(tune_with_parameters pid=2281961)\u001b[0m loss: 0.000\u001b[32m [repeated 23x across cluster]\u001b[0m\n"
     ]
    },
    {
     "name": "stderr",
     "output_type": "stream",
     "text": [
      "Val Epoch:71: 47it [00:01, 29.31it/s]\u001b[32m [repeated 21x across cluster]\u001b[0m\n",
      "Val Epoch:32: 0it [00:00, ?it/s]281961)\u001b[0m \n",
      "Val Epoch:72: 0it [00:00, ?it/s]244203)\u001b[0m \n"
     ]
    },
    {
     "name": "stdout",
     "output_type": "stream",
     "text": [
      "\u001b[36m(tune_with_parameters pid=2244203)\u001b[0m loss: 0.000\u001b[32m [repeated 13x across cluster]\u001b[0m\n"
     ]
    },
    {
     "name": "stderr",
     "output_type": "stream",
     "text": [
      "Val Epoch:72: 47it [00:01, 28.01it/s]\u001b[32m [repeated 18x across cluster]\u001b[0m\n",
      "Val Epoch:33: 0it [00:00, ?it/s]281961)\u001b[0m \n",
      "Val Epoch:73: 0it [00:00, ?it/s]244203)\u001b[0m \n"
     ]
    },
    {
     "name": "stdout",
     "output_type": "stream",
     "text": [
      "\u001b[36m(tune_with_parameters pid=2281961)\u001b[0m loss: 0.000\u001b[32m [repeated 25x across cluster]\u001b[0m\n"
     ]
    },
    {
     "name": "stderr",
     "output_type": "stream",
     "text": [
      "Val Epoch:73: 47it [00:01, 25.58it/s]\u001b[32m [repeated 18x across cluster]\u001b[0m\n",
      "Val Epoch:34: 0it [00:00, ?it/s]281961)\u001b[0m \n",
      "Val Epoch:74: 0it [00:00, ?it/s]244203)\u001b[0m \n"
     ]
    },
    {
     "name": "stdout",
     "output_type": "stream",
     "text": [
      "\u001b[36m(tune_with_parameters pid=2281961)\u001b[0m loss: 0.000\u001b[32m [repeated 30x across cluster]\u001b[0m\n"
     ]
    },
    {
     "name": "stderr",
     "output_type": "stream",
     "text": [
      "Val Epoch:74: 47it [00:02, 19.60it/s]\u001b[32m [repeated 20x across cluster]\u001b[0m\n",
      "Val Epoch:35: 0it [00:00, ?it/s]281961)\u001b[0m \n",
      "Val Epoch:75: 0it [00:00, ?it/s]244203)\u001b[0m \n"
     ]
    },
    {
     "name": "stdout",
     "output_type": "stream",
     "text": [
      "\u001b[36m(tune_with_parameters pid=2244203)\u001b[0m loss: 0.000\u001b[32m [repeated 30x across cluster]\u001b[0m\n"
     ]
    },
    {
     "name": "stderr",
     "output_type": "stream",
     "text": [
      "Val Epoch:76: 0it [00:00, ?it/s]244203)\u001b[0m \n",
      "Val Epoch:35: 47it [00:01, 25.25it/s]\u001b[32m [repeated 19x across cluster]\u001b[0m\n",
      "Val Epoch:36: 0it [00:00, ?it/s]281961)\u001b[0m \n"
     ]
    },
    {
     "name": "stdout",
     "output_type": "stream",
     "text": [
      "\u001b[36m(tune_with_parameters pid=2281961)\u001b[0m loss: 0.000\u001b[32m [repeated 30x across cluster]\u001b[0m\n"
     ]
    },
    {
     "name": "stderr",
     "output_type": "stream",
     "text": [
      "Val Epoch:76: 47it [00:02, 23.43it/s]\u001b[32m [repeated 18x across cluster]\u001b[0m\n",
      "Val Epoch:77: 0it [00:00, ?it/s]244203)\u001b[0m \n",
      "Val Epoch:37: 0it [00:00, ?it/s]281961)\u001b[0m \n"
     ]
    },
    {
     "name": "stdout",
     "output_type": "stream",
     "text": [
      "\u001b[36m(tune_with_parameters pid=2244203)\u001b[0m loss: 0.000\u001b[32m [repeated 30x across cluster]\u001b[0m\n"
     ]
    },
    {
     "name": "stderr",
     "output_type": "stream",
     "text": [
      "Val Epoch:37: 47it [00:01, 29.18it/s]\u001b[32m [repeated 18x across cluster]\u001b[0m\n",
      "Val Epoch:78: 0it [00:00, ?it/s]244203)\u001b[0m \n",
      "Val Epoch:38: 0it [00:00, ?it/s]281961)\u001b[0m \n"
     ]
    },
    {
     "name": "stdout",
     "output_type": "stream",
     "text": [
      "\u001b[36m(tune_with_parameters pid=2244203)\u001b[0m loss: 0.000\u001b[32m [repeated 30x across cluster]\u001b[0m\n"
     ]
    },
    {
     "name": "stderr",
     "output_type": "stream",
     "text": [
      "Val Epoch:38: 47it [00:01, 26.88it/s]\u001b[32m [repeated 19x across cluster]\u001b[0m\n",
      "Val Epoch:79: 0it [00:00, ?it/s]244203)\u001b[0m \n"
     ]
    },
    {
     "name": "stdout",
     "output_type": "stream",
     "text": [
      "\u001b[36m(tune_with_parameters pid=2281961)\u001b[0m loss: 0.000\u001b[32m [repeated 29x across cluster]\u001b[0m\n"
     ]
    },
    {
     "name": "stderr",
     "output_type": "stream",
     "text": [
      "Val Epoch:39: 0it [00:00, ?it/s]281961)\u001b[0m \n",
      "Val Epoch:39: 27it [00:02, 17.07it/s]1)\u001b[0m \n"
     ]
    },
    {
     "name": "stdout",
     "output_type": "stream",
     "text": [
      "\u001b[36m(tune_with_parameters pid=2281961)\u001b[0m loss: 0.000\u001b[32m [repeated 20x across cluster]\u001b[0m\n"
     ]
    },
    {
     "name": "stderr",
     "output_type": "stream",
     "text": [
      "Val Epoch:39: 47it [00:02, 17.96it/s]\u001b[32m [repeated 17x across cluster]\u001b[0m\n",
      "Val Epoch:80: 0it [00:00, ?it/s]244203)\u001b[0m \n",
      "Val Epoch:40: 0it [00:00, ?it/s]281961)\u001b[0m \n"
     ]
    },
    {
     "name": "stdout",
     "output_type": "stream",
     "text": [
      "\u001b[36m(tune_with_parameters pid=2244203)\u001b[0m loss: 0.000\u001b[32m [repeated 21x across cluster]\u001b[0m\n"
     ]
    },
    {
     "name": "stderr",
     "output_type": "stream",
     "text": [
      "Val Epoch:40: 47it [00:01, 35.52it/s]\u001b[32m [repeated 20x across cluster]\u001b[0m\n",
      "Val Epoch:81: 0it [00:00, ?it/s]244203)\u001b[0m \n",
      "Val Epoch:41: 0it [00:00, ?it/s]281961)\u001b[0m \n"
     ]
    },
    {
     "name": "stdout",
     "output_type": "stream",
     "text": [
      "\u001b[36m(tune_with_parameters pid=2244203)\u001b[0m loss: 0.001\u001b[32m [repeated 22x across cluster]\u001b[0m\n"
     ]
    },
    {
     "name": "stderr",
     "output_type": "stream",
     "text": [
      "Val Epoch:41: 47it [00:01, 29.47it/s]\u001b[32m [repeated 18x across cluster]\u001b[0m\n",
      "Val Epoch:82: 0it [00:00, ?it/s]244203)\u001b[0m \n"
     ]
    },
    {
     "name": "stdout",
     "output_type": "stream",
     "text": [
      "\u001b[36m(tune_with_parameters pid=2281961)\u001b[0m loss: 0.000\u001b[32m [repeated 27x across cluster]\u001b[0m\n"
     ]
    },
    {
     "name": "stderr",
     "output_type": "stream",
     "text": [
      "Val Epoch:42: 0it [00:00, ?it/s]281961)\u001b[0m \n",
      "Val Epoch:42: 47it [00:01, 38.61it/s]\u001b[32m [repeated 18x across cluster]\u001b[0m\n"
     ]
    },
    {
     "name": "stdout",
     "output_type": "stream",
     "text": [
      "\u001b[36m(tune_with_parameters pid=2281961)\u001b[0m loss: 0.000\u001b[32m [repeated 26x across cluster]\u001b[0m\n"
     ]
    },
    {
     "name": "stderr",
     "output_type": "stream",
     "text": [
      "Val Epoch:83: 0it [00:00, ?it/s]244203)\u001b[0m \n",
      "Val Epoch:43: 0it [00:00, ?it/s]281961)\u001b[0m \n"
     ]
    },
    {
     "name": "stdout",
     "output_type": "stream",
     "text": [
      "\u001b[36m(tune_with_parameters pid=2281961)\u001b[0m loss: 0.000\u001b[32m [repeated 19x across cluster]\u001b[0m\n"
     ]
    },
    {
     "name": "stderr",
     "output_type": "stream",
     "text": [
      "Val Epoch:43: 47it [00:01, 32.14it/s]\u001b[32m [repeated 19x across cluster]\u001b[0m\n",
      "Val Epoch:84: 0it [00:00, ?it/s]244203)\u001b[0m \n",
      "Val Epoch:44: 0it [00:00, ?it/s]281961)\u001b[0m \n"
     ]
    },
    {
     "name": "stdout",
     "output_type": "stream",
     "text": [
      "\u001b[36m(tune_with_parameters pid=2244203)\u001b[0m loss: 0.000\u001b[32m [repeated 20x across cluster]\u001b[0m\n"
     ]
    },
    {
     "name": "stderr",
     "output_type": "stream",
     "text": [
      "Val Epoch:44: 47it [00:01, 34.91it/s]\u001b[32m [repeated 19x across cluster]\u001b[0m\n",
      "Val Epoch:85: 0it [00:00, ?it/s]244203)\u001b[0m \n"
     ]
    },
    {
     "name": "stdout",
     "output_type": "stream",
     "text": [
      "\u001b[36m(tune_with_parameters pid=2244203)\u001b[0m loss: 0.000\u001b[32m [repeated 24x across cluster]\u001b[0m\n"
     ]
    },
    {
     "name": "stderr",
     "output_type": "stream",
     "text": [
      "Val Epoch:45: 0it [00:00, ?it/s]281961)\u001b[0m \n",
      "Val Epoch:45: 47it [00:01, 33.64it/s]\u001b[32m [repeated 20x across cluster]\u001b[0m\n"
     ]
    },
    {
     "name": "stdout",
     "output_type": "stream",
     "text": [
      "\u001b[36m(tune_with_parameters pid=2281961)\u001b[0m loss: 0.000\u001b[32m [repeated 25x across cluster]\u001b[0m\n"
     ]
    },
    {
     "name": "stderr",
     "output_type": "stream",
     "text": [
      "Val Epoch:86: 0it [00:00, ?it/s]244203)\u001b[0m \n",
      "Val Epoch:46: 0it [00:00, ?it/s]281961)\u001b[0m \n"
     ]
    },
    {
     "name": "stdout",
     "output_type": "stream",
     "text": [
      "\u001b[36m(tune_with_parameters pid=2281961)\u001b[0m loss: 0.000\u001b[32m [repeated 21x across cluster]\u001b[0m\n"
     ]
    },
    {
     "name": "stderr",
     "output_type": "stream",
     "text": [
      "Val Epoch:46: 47it [00:01, 38.03it/s]\u001b[32m [repeated 19x across cluster]\u001b[0m\n",
      "Val Epoch:87: 0it [00:00, ?it/s]244203)\u001b[0m \n",
      "Val Epoch:47: 0it [00:00, ?it/s]281961)\u001b[0m \n"
     ]
    },
    {
     "name": "stdout",
     "output_type": "stream",
     "text": [
      "\u001b[36m(tune_with_parameters pid=2244203)\u001b[0m loss: 0.000\u001b[32m [repeated 23x across cluster]\u001b[0m\n"
     ]
    },
    {
     "name": "stderr",
     "output_type": "stream",
     "text": [
      "Val Epoch:47: 47it [00:01, 40.64it/s]\u001b[32m [repeated 19x across cluster]\u001b[0m\n"
     ]
    },
    {
     "name": "stdout",
     "output_type": "stream",
     "text": [
      "\u001b[36m(tune_with_parameters pid=2244203)\u001b[0m loss: 0.000\u001b[32m [repeated 24x across cluster]\u001b[0m\n"
     ]
    },
    {
     "name": "stderr",
     "output_type": "stream",
     "text": [
      "Val Epoch:48: 0it [00:00, ?it/s]\u001b[32m [repeated 2x across cluster]\u001b[0m\n",
      "Val Epoch:48: 47it [00:01, 35.06it/s]\u001b[32m [repeated 17x across cluster]\u001b[0m\n"
     ]
    },
    {
     "name": "stdout",
     "output_type": "stream",
     "text": [
      "\u001b[36m(tune_with_parameters pid=2281961)\u001b[0m loss: 0.000\u001b[32m [repeated 22x across cluster]\u001b[0m\n"
     ]
    },
    {
     "name": "stderr",
     "output_type": "stream",
     "text": [
      "Val Epoch:49: 0it [00:00, ?it/s]\u001b[32m [repeated 2x across cluster]\u001b[0m\n",
      "Val Epoch:49: 47it [00:01, 36.01it/s]\u001b[32m [repeated 19x across cluster]\u001b[0m\n"
     ]
    },
    {
     "name": "stdout",
     "output_type": "stream",
     "text": [
      "\u001b[36m(tune_with_parameters pid=2281961)\u001b[0m loss: 0.000\u001b[32m [repeated 23x across cluster]\u001b[0m\n"
     ]
    },
    {
     "name": "stderr",
     "output_type": "stream",
     "text": [
      "Val Epoch:50: 0it [00:00, ?it/s]\u001b[32m [repeated 2x across cluster]\u001b[0m\n",
      "Val Epoch:50: 19it [00:00, 27.76it/s]\u001b[32m [repeated 13x across cluster]\u001b[0m\n"
     ]
    },
    {
     "name": "stdout",
     "output_type": "stream",
     "text": [
      "\u001b[36m(tune_with_parameters pid=2244203)\u001b[0m loss: 0.000\u001b[32m [repeated 27x across cluster]\u001b[0m\n"
     ]
    },
    {
     "name": "stderr",
     "output_type": "stream",
     "text": [
      "Val Epoch:91: 2it [00:00,  3.19it/s]03)\u001b[0m \n",
      "Val Epoch:51: 0it [00:00, ?it/s]\u001b[32m [repeated 2x across cluster]\u001b[0m\n",
      "Val Epoch:91: 47it [00:01, 30.17it/s]\u001b[32m [repeated 13x across cluster]\u001b[0m\n"
     ]
    },
    {
     "name": "stdout",
     "output_type": "stream",
     "text": [
      "\u001b[36m(tune_with_parameters pid=2281961)\u001b[0m loss: 0.000\u001b[32m [repeated 17x across cluster]\u001b[0m\n"
     ]
    },
    {
     "name": "stderr",
     "output_type": "stream",
     "text": [
      "Val Epoch:52: 0it [00:00, ?it/s]281961)\u001b[0m \n",
      "Val Epoch:51: 47it [00:01, 29.46it/s]\u001b[32m [repeated 7x across cluster]\u001b[0m\n"
     ]
    },
    {
     "name": "stdout",
     "output_type": "stream",
     "text": [
      "\u001b[36m(tune_with_parameters pid=2281961)\u001b[0m loss: 0.000\u001b[32m [repeated 15x across cluster]\u001b[0m\n"
     ]
    },
    {
     "name": "stderr",
     "output_type": "stream",
     "text": [
      "\u001b[36m(tune_with_parameters pid=2329379)\u001b[0m /users/k23058970/miniforge3/envs/Training/lib/python3.10/site-packages/torch/nn/modules/lazy.py:181: UserWarning: Lazy modules are a new feature under heavy development so changes to the API or functionality can happen at any moment.\n",
      "\u001b[36m(tune_with_parameters pid=2329379)\u001b[0m   warnings.warn('Lazy modules are a new feature under heavy development '\n",
      "Val Epoch:53: 0it [00:00, ?it/s]281961)\u001b[0m \n",
      "Val Epoch:52: 47it [00:01, 23.52it/s]\u001b[32m [repeated 10x across cluster]\u001b[0m\n"
     ]
    },
    {
     "name": "stdout",
     "output_type": "stream",
     "text": [
      "\u001b[36m(tune_with_parameters pid=2281961)\u001b[0m loss: 0.000\u001b[32m [repeated 15x across cluster]\u001b[0m\n"
     ]
    },
    {
     "name": "stderr",
     "output_type": "stream",
     "text": [
      "Val Epoch:54: 0it [00:00, ?it/s]281961)\u001b[0m \n",
      "Val Epoch:53: 47it [00:01, 44.68it/s]\u001b[32m [repeated 8x across cluster]\u001b[0m\n"
     ]
    },
    {
     "name": "stdout",
     "output_type": "stream",
     "text": [
      "\u001b[36m(tune_with_parameters pid=2329379)\u001b[0m loss: 0.186\u001b[32m [repeated 27x across cluster]\u001b[0m\n"
     ]
    },
    {
     "name": "stderr",
     "output_type": "stream",
     "text": [
      "Val Epoch:0: 0it [00:00, ?it/s]2329379)\u001b[0m \n"
     ]
    },
    {
     "name": "stdout",
     "output_type": "stream",
     "text": [
      "\u001b[36m(tune_with_parameters pid=2329379)\u001b[0m /tmp/tmp906pluoq/checkpoint.pt\n"
     ]
    },
    {
     "name": "stderr",
     "output_type": "stream",
     "text": [
      "\u001b[36m(tune_with_parameters pid=2329379)\u001b[0m Checkpoint successfully created at: Checkpoint(filesystem=local, path=/scratch/users/k23058970/Model training/results/Double Peak Conv Null/tune_with_parameters_2024-08-19_21-53-48/tune_with_parameters_347d1_00005_5_dp=0.1000,k1=3,k2=3,k3=7,k4=5,lr=0.0169_2024-08-19_21-54-20/checkpoint_000000)\n"
     ]
    },
    {
     "name": "stdout",
     "output_type": "stream",
     "text": [
      "\u001b[36m(tune_with_parameters pid=2281961)\u001b[0m loss: 0.000\u001b[32m [repeated 23x across cluster]\u001b[0m\n"
     ]
    },
    {
     "name": "stderr",
     "output_type": "stream",
     "text": [
      "Val Epoch:0: 47it [00:01, 27.89it/s]\u001b[32m [repeated 19x across cluster]\u001b[0m\n",
      "Val Epoch:55: 0it [00:00, ?it/s]281961)\u001b[0m \n",
      "Val Epoch:1: 0it [00:00, ?it/s]2329379)\u001b[0m \n"
     ]
    },
    {
     "name": "stdout",
     "output_type": "stream",
     "text": [
      "\u001b[36m(tune_with_parameters pid=2281961)\u001b[0m loss: 0.000\u001b[32m [repeated 16x across cluster]\u001b[0m\n"
     ]
    },
    {
     "name": "stderr",
     "output_type": "stream",
     "text": [
      "Val Epoch:1: 47it [00:01, 33.72it/s]\u001b[32m [repeated 18x across cluster]\u001b[0m\n",
      "Val Epoch:56: 0it [00:00, ?it/s]281961)\u001b[0m \n",
      "Val Epoch:2: 0it [00:00, ?it/s]2329379)\u001b[0m \n"
     ]
    },
    {
     "name": "stdout",
     "output_type": "stream",
     "text": [
      "\u001b[36m(tune_with_parameters pid=2281961)\u001b[0m loss: 0.000\u001b[32m [repeated 26x across cluster]\u001b[0m\n",
      "\u001b[36m(tune_with_parameters pid=2329379)\u001b[0m /tmp/tmpeb0hbi69/checkpoint.pt\n"
     ]
    },
    {
     "name": "stderr",
     "output_type": "stream",
     "text": [
      "\u001b[36m(tune_with_parameters pid=2329379)\u001b[0m Checkpoint successfully created at: Checkpoint(filesystem=local, path=/scratch/users/k23058970/Model training/results/Double Peak Conv Null/tune_with_parameters_2024-08-19_21-53-48/tune_with_parameters_347d1_00005_5_dp=0.1000,k1=3,k2=3,k3=7,k4=5,lr=0.0169_2024-08-19_21-54-20/checkpoint_000001)\n",
      "Val Epoch:2: 47it [00:01, 38.64it/s]\u001b[32m [repeated 18x across cluster]\u001b[0m\n"
     ]
    },
    {
     "name": "stdout",
     "output_type": "stream",
     "text": [
      "\u001b[36m(tune_with_parameters pid=2281961)\u001b[0m loss: 0.000\u001b[32m [repeated 25x across cluster]\u001b[0m\n"
     ]
    },
    {
     "name": "stderr",
     "output_type": "stream",
     "text": [
      "Val Epoch:3: 0it [00:00, ?it/s]\u001b[32m [repeated 2x across cluster]\u001b[0m\n",
      "Val Epoch:3: 47it [00:01, 46.64it/s]79)\u001b[0m \n",
      "Val Epoch:3: 37it [00:00, 47.59it/s]\u001b[32m [repeated 16x across cluster]\u001b[0m\n"
     ]
    },
    {
     "name": "stdout",
     "output_type": "stream",
     "text": [
      "\u001b[36m(tune_with_parameters pid=2329379)\u001b[0m loss: 0.002\u001b[32m [repeated 25x across cluster]\u001b[0m\n"
     ]
    },
    {
     "name": "stderr",
     "output_type": "stream",
     "text": [
      "Val Epoch:4: 0it [00:00, ?it/s]\u001b[32m [repeated 2x across cluster]\u001b[0m\n"
     ]
    },
    {
     "name": "stdout",
     "output_type": "stream",
     "text": [
      "\u001b[36m(tune_with_parameters pid=2329379)\u001b[0m /tmp/tmp2t25y9aj/checkpoint.pt\n"
     ]
    },
    {
     "name": "stderr",
     "output_type": "stream",
     "text": [
      "\u001b[36m(tune_with_parameters pid=2329379)\u001b[0m Checkpoint successfully created at: Checkpoint(filesystem=local, path=/scratch/users/k23058970/Model training/results/Double Peak Conv Null/tune_with_parameters_2024-08-19_21-53-48/tune_with_parameters_347d1_00005_5_dp=0.1000,k1=3,k2=3,k3=7,k4=5,lr=0.0169_2024-08-19_21-54-20/checkpoint_000002)\n"
     ]
    },
    {
     "name": "stdout",
     "output_type": "stream",
     "text": [
      "\u001b[36m(tune_with_parameters pid=2329379)\u001b[0m loss: 0.001\u001b[32m [repeated 22x across cluster]\u001b[0m\n"
     ]
    },
    {
     "name": "stderr",
     "output_type": "stream",
     "text": [
      "Val Epoch:4: 47it [00:01, 34.54it/s]\u001b[32m [repeated 20x across cluster]\u001b[0m\n",
      "Val Epoch:59: 0it [00:00, ?it/s]281961)\u001b[0m \n",
      "Val Epoch:5: 0it [00:00, ?it/s]2329379)\u001b[0m \n"
     ]
    },
    {
     "name": "stdout",
     "output_type": "stream",
     "text": [
      "\u001b[36m(tune_with_parameters pid=2281961)\u001b[0m loss: 0.000\u001b[32m [repeated 20x across cluster]\u001b[0m\n",
      "\u001b[36m(tune_with_parameters pid=2329379)\u001b[0m /tmp/tmpcsulbzg5/checkpoint.pt\n"
     ]
    },
    {
     "name": "stderr",
     "output_type": "stream",
     "text": [
      "\u001b[36m(tune_with_parameters pid=2329379)\u001b[0m Checkpoint successfully created at: Checkpoint(filesystem=local, path=/scratch/users/k23058970/Model training/results/Double Peak Conv Null/tune_with_parameters_2024-08-19_21-53-48/tune_with_parameters_347d1_00005_5_dp=0.1000,k1=3,k2=3,k3=7,k4=5,lr=0.0169_2024-08-19_21-54-20/checkpoint_000003)\n",
      "Val Epoch:5: 47it [00:01, 35.70it/s]\u001b[32m [repeated 19x across cluster]\u001b[0m\n",
      "Val Epoch:60: 0it [00:00, ?it/s]281961)\u001b[0m \n"
     ]
    },
    {
     "name": "stdout",
     "output_type": "stream",
     "text": [
      "\u001b[36m(tune_with_parameters pid=2281961)\u001b[0m loss: 0.000\u001b[32m [repeated 22x across cluster]\u001b[0m\n"
     ]
    },
    {
     "name": "stderr",
     "output_type": "stream",
     "text": [
      "Val Epoch:6: 0it [00:00, ?it/s]2329379)\u001b[0m \n",
      "Val Epoch:6: 47it [00:01, 27.61it/s]\u001b[32m [repeated 19x across cluster]\u001b[0m\n"
     ]
    },
    {
     "name": "stdout",
     "output_type": "stream",
     "text": [
      "\u001b[36m(tune_with_parameters pid=2329379)\u001b[0m loss: 0.001\u001b[32m [repeated 23x across cluster]\u001b[0m\n"
     ]
    },
    {
     "name": "stderr",
     "output_type": "stream",
     "text": [
      "Val Epoch:61: 0it [00:00, ?it/s]281961)\u001b[0m \n",
      "Val Epoch:7: 0it [00:00, ?it/s]2329379)\u001b[0m \n",
      "Val Epoch:7: 47it [00:01, 29.07it/s]79)\u001b[0m \n",
      "Val Epoch:7: 41it [00:01, 43.16it/s]\u001b[32m [repeated 19x across cluster]\u001b[0m\n"
     ]
    },
    {
     "name": "stdout",
     "output_type": "stream",
     "text": [
      "\u001b[36m(tune_with_parameters pid=2281961)\u001b[0m loss: 0.000\u001b[32m [repeated 23x across cluster]\u001b[0m\n"
     ]
    },
    {
     "name": "stderr",
     "output_type": "stream",
     "text": [
      "Val Epoch:8: 0it [00:00, ?it/s]\u001b[32m [repeated 2x across cluster]\u001b[0m\n",
      "Val Epoch:62: 47it [00:01, 35.79it/s]\u001b[32m [repeated 9x across cluster]\u001b[0m\n"
     ]
    },
    {
     "name": "stdout",
     "output_type": "stream",
     "text": [
      "\u001b[36m(tune_with_parameters pid=2281961)\u001b[0m loss: 0.000\u001b[32m [repeated 24x across cluster]\u001b[0m\n",
      "\u001b[36m(tune_with_parameters pid=2329379)\u001b[0m loss: 0.001\u001b[32m [repeated 21x across cluster]\u001b[0m\n"
     ]
    },
    {
     "name": "stderr",
     "output_type": "stream",
     "text": [
      "Val Epoch:9: 0it [00:00, ?it/s]\u001b[32m [repeated 2x across cluster]\u001b[0m\n",
      "Val Epoch:63: 47it [00:01, 31.77it/s]\u001b[32m [repeated 19x across cluster]\u001b[0m\n"
     ]
    },
    {
     "name": "stdout",
     "output_type": "stream",
     "text": [
      "\u001b[36m(tune_with_parameters pid=2329379)\u001b[0m /tmp/tmp59k4c73u/checkpoint.pt\n"
     ]
    },
    {
     "name": "stderr",
     "output_type": "stream",
     "text": [
      "\u001b[36m(tune_with_parameters pid=2329379)\u001b[0m Checkpoint successfully created at: Checkpoint(filesystem=local, path=/scratch/users/k23058970/Model training/results/Double Peak Conv Null/tune_with_parameters_2024-08-19_21-53-48/tune_with_parameters_347d1_00005_5_dp=0.1000,k1=3,k2=3,k3=7,k4=5,lr=0.0169_2024-08-19_21-54-20/checkpoint_000004)\n"
     ]
    },
    {
     "name": "stdout",
     "output_type": "stream",
     "text": [
      "\u001b[36m(tune_with_parameters pid=2329379)\u001b[0m loss: 0.001\u001b[32m [repeated 22x across cluster]\u001b[0m\n"
     ]
    },
    {
     "name": "stderr",
     "output_type": "stream",
     "text": [
      "Val Epoch:10: 0it [00:00, ?it/s]\u001b[32m [repeated 2x across cluster]\u001b[0m\n",
      "Val Epoch:64: 47it [00:01, 32.23it/s]\u001b[32m [repeated 18x across cluster]\u001b[0m\n"
     ]
    },
    {
     "name": "stdout",
     "output_type": "stream",
     "text": [
      "\u001b[36m(tune_with_parameters pid=2329379)\u001b[0m /tmp/tmpbn6utbgi/checkpoint.pt\n"
     ]
    },
    {
     "name": "stderr",
     "output_type": "stream",
     "text": [
      "\u001b[36m(tune_with_parameters pid=2329379)\u001b[0m Checkpoint successfully created at: Checkpoint(filesystem=local, path=/scratch/users/k23058970/Model training/results/Double Peak Conv Null/tune_with_parameters_2024-08-19_21-53-48/tune_with_parameters_347d1_00005_5_dp=0.1000,k1=3,k2=3,k3=7,k4=5,lr=0.0169_2024-08-19_21-54-20/checkpoint_000005)\n"
     ]
    },
    {
     "name": "stdout",
     "output_type": "stream",
     "text": [
      "\u001b[36m(tune_with_parameters pid=2281961)\u001b[0m loss: 0.000\u001b[32m [repeated 25x across cluster]\u001b[0m\n"
     ]
    },
    {
     "name": "stderr",
     "output_type": "stream",
     "text": [
      "Val Epoch:65: 47it [00:01, 37.10it/s]1)\u001b[0m \n",
      "Val Epoch:11: 0it [00:00, ?it/s]\u001b[32m [repeated 2x across cluster]\u001b[0m\n",
      "Val Epoch:65: 40it [00:01, 49.09it/s]\u001b[32m [repeated 18x across cluster]\u001b[0m\n"
     ]
    },
    {
     "name": "stdout",
     "output_type": "stream",
     "text": [
      "\u001b[36m(tune_with_parameters pid=2281961)\u001b[0m loss: 0.000\u001b[32m [repeated 25x across cluster]\u001b[0m\n",
      "\u001b[36m(tune_with_parameters pid=2281961)\u001b[0m loss: 0.000\u001b[32m [repeated 21x across cluster]\u001b[0m\n"
     ]
    },
    {
     "name": "stderr",
     "output_type": "stream",
     "text": [
      "Val Epoch:12: 0it [00:00, ?it/s]\u001b[32m [repeated 2x across cluster]\u001b[0m\n",
      "Val Epoch:66: 47it [00:01, 40.80it/s]\u001b[32m [repeated 17x across cluster]\u001b[0m\n"
     ]
    },
    {
     "name": "stdout",
     "output_type": "stream",
     "text": [
      "\u001b[36m(tune_with_parameters pid=2329379)\u001b[0m /tmp/tmp6noru8a6/checkpoint.pt\n"
     ]
    },
    {
     "name": "stderr",
     "output_type": "stream",
     "text": [
      "\u001b[36m(tune_with_parameters pid=2329379)\u001b[0m Checkpoint successfully created at: Checkpoint(filesystem=local, path=/scratch/users/k23058970/Model training/results/Double Peak Conv Null/tune_with_parameters_2024-08-19_21-53-48/tune_with_parameters_347d1_00005_5_dp=0.1000,k1=3,k2=3,k3=7,k4=5,lr=0.0169_2024-08-19_21-54-20/checkpoint_000006)\n"
     ]
    },
    {
     "name": "stdout",
     "output_type": "stream",
     "text": [
      "\u001b[36m(tune_with_parameters pid=2281961)\u001b[0m loss: 0.000\u001b[32m [repeated 18x across cluster]\u001b[0m\n",
      "\u001b[36m(tune_with_parameters pid=2329379)\u001b[0m \n"
     ]
    },
    {
     "name": "stderr",
     "output_type": "stream",
     "text": [
      "Val Epoch:13: 0it [00:00, ?it/s]\u001b[32m [repeated 2x across cluster]\u001b[0m\n",
      "Val Epoch:67: 47it [00:01, 28.35it/s]\u001b[32m [repeated 18x across cluster]\u001b[0m\n"
     ]
    },
    {
     "name": "stdout",
     "output_type": "stream",
     "text": [
      "\u001b[36m(tune_with_parameters pid=2329379)\u001b[0m loss: 0.001\u001b[32m [repeated 27x across cluster]\u001b[0m\n"
     ]
    },
    {
     "name": "stderr",
     "output_type": "stream",
     "text": [
      "Val Epoch:14: 0it [00:00, ?it/s]\u001b[32m [repeated 2x across cluster]\u001b[0m\n",
      "Val Epoch:68: 47it [00:01, 35.62it/s]\u001b[32m [repeated 17x across cluster]\u001b[0m\n",
      "Val Epoch:14: 47it [00:01, 28.12it/s]9)\u001b[0m \n"
     ]
    },
    {
     "name": "stdout",
     "output_type": "stream",
     "text": [
      "\u001b[36m(tune_with_parameters pid=2329379)\u001b[0m loss: 0.000\u001b[32m [repeated 30x across cluster]\u001b[0m\n"
     ]
    },
    {
     "name": "stderr",
     "output_type": "stream",
     "text": [
      "Val Epoch:15: 0it [00:00, ?it/s]\u001b[32m [repeated 2x across cluster]\u001b[0m\n",
      "Val Epoch:69: 47it [00:01, 31.76it/s]\u001b[32m [repeated 16x across cluster]\u001b[0m\n"
     ]
    },
    {
     "name": "stdout",
     "output_type": "stream",
     "text": [
      "\u001b[36m(tune_with_parameters pid=2329379)\u001b[0m loss: 0.000\u001b[32m [repeated 30x across cluster]\u001b[0m\n"
     ]
    },
    {
     "name": "stderr",
     "output_type": "stream",
     "text": [
      "Val Epoch:16: 0it [00:00, ?it/s]\u001b[32m [repeated 2x across cluster]\u001b[0m\n",
      "Val Epoch:70: 47it [00:01, 29.83it/s]\u001b[32m [repeated 17x across cluster]\u001b[0m\n"
     ]
    },
    {
     "name": "stdout",
     "output_type": "stream",
     "text": [
      "\u001b[36m(tune_with_parameters pid=2329379)\u001b[0m loss: 0.000\u001b[32m [repeated 30x across cluster]\u001b[0m\n"
     ]
    },
    {
     "name": "stderr",
     "output_type": "stream",
     "text": [
      "Val Epoch:17: 0it [00:00, ?it/s]\u001b[32m [repeated 2x across cluster]\u001b[0m\n",
      "Val Epoch:71: 47it [00:01, 28.89it/s]\u001b[32m [repeated 19x across cluster]\u001b[0m\n"
     ]
    },
    {
     "name": "stdout",
     "output_type": "stream",
     "text": [
      "\u001b[36m(tune_with_parameters pid=2329379)\u001b[0m loss: 0.000\u001b[32m [repeated 30x across cluster]\u001b[0m\n"
     ]
    },
    {
     "name": "stderr",
     "output_type": "stream",
     "text": [
      "Val Epoch:73: 0it [00:00, ?it/s]\u001b[32m [repeated 2x across cluster]\u001b[0m\n",
      "Val Epoch:72: 47it [00:01, 38.08it/s]\u001b[32m [repeated 17x across cluster]\u001b[0m\n"
     ]
    },
    {
     "name": "stdout",
     "output_type": "stream",
     "text": [
      "\u001b[36m(tune_with_parameters pid=2281961)\u001b[0m loss: 0.000\u001b[32m [repeated 30x across cluster]\u001b[0m\n"
     ]
    },
    {
     "name": "stderr",
     "output_type": "stream",
     "text": [
      "Val Epoch:74: 0it [00:00, ?it/s]\u001b[32m [repeated 2x across cluster]\u001b[0m\n",
      "Val Epoch:18: 47it [00:01, 25.12it/s]\u001b[32m [repeated 17x across cluster]\u001b[0m\n",
      "Val Epoch:74: 47it [00:01, 29.54it/s]1)\u001b[0m \n"
     ]
    },
    {
     "name": "stdout",
     "output_type": "stream",
     "text": [
      "\u001b[36m(tune_with_parameters pid=2281961)\u001b[0m loss: 0.000\u001b[32m [repeated 30x across cluster]\u001b[0m\n"
     ]
    },
    {
     "name": "stderr",
     "output_type": "stream",
     "text": [
      "Val Epoch:75: 0it [00:00, ?it/s]\u001b[32m [repeated 2x across cluster]\u001b[0m\n",
      "Val Epoch:19: 47it [00:00, 50.42it/s]\u001b[32m [repeated 16x across cluster]\u001b[0m\n"
     ]
    },
    {
     "name": "stdout",
     "output_type": "stream",
     "text": [
      "\u001b[36m(tune_with_parameters pid=2329379)\u001b[0m /tmp/tmpi6fyq3jh/checkpoint.pt\n",
      "\u001b[36m(tune_with_parameters pid=2329379)\u001b[0m loss: 0.000\u001b[32m [repeated 29x across cluster]\u001b[0m\n"
     ]
    },
    {
     "name": "stderr",
     "output_type": "stream",
     "text": [
      "\u001b[36m(tune_with_parameters pid=2329379)\u001b[0m Checkpoint successfully created at: Checkpoint(filesystem=local, path=/scratch/users/k23058970/Model training/results/Double Peak Conv Null/tune_with_parameters_2024-08-19_21-53-48/tune_with_parameters_347d1_00005_5_dp=0.1000,k1=3,k2=3,k3=7,k4=5,lr=0.0169_2024-08-19_21-54-20/checkpoint_000007)\n",
      "Val Epoch:76: 0it [00:00, ?it/s]\u001b[32m [repeated 2x across cluster]\u001b[0m\n",
      "Val Epoch:20: 47it [00:02, 22.47it/s]\u001b[32m [repeated 20x across cluster]\u001b[0m\n"
     ]
    },
    {
     "name": "stdout",
     "output_type": "stream",
     "text": [
      "\u001b[36m(tune_with_parameters pid=2281961)\u001b[0m loss: 0.000\u001b[32m [repeated 31x across cluster]\u001b[0m\n"
     ]
    },
    {
     "name": "stderr",
     "output_type": "stream",
     "text": [
      "Val Epoch:77: 0it [00:00, ?it/s]\u001b[32m [repeated 2x across cluster]\u001b[0m\n",
      "Val Epoch:21: 47it [00:01, 24.45it/s]\u001b[32m [repeated 20x across cluster]\u001b[0m\n"
     ]
    },
    {
     "name": "stdout",
     "output_type": "stream",
     "text": [
      "\u001b[36m(tune_with_parameters pid=2281961)\u001b[0m loss: 0.000\u001b[32m [repeated 30x across cluster]\u001b[0m\n",
      "\u001b[36m(tune_with_parameters pid=2329379)\u001b[0m \n"
     ]
    },
    {
     "name": "stderr",
     "output_type": "stream",
     "text": [
      "Val Epoch:78: 0it [00:00, ?it/s]\u001b[32m [repeated 2x across cluster]\u001b[0m\n",
      "Val Epoch:22: 47it [00:01, 25.35it/s]\u001b[32m [repeated 20x across cluster]\u001b[0m\n"
     ]
    },
    {
     "name": "stdout",
     "output_type": "stream",
     "text": [
      "\u001b[36m(tune_with_parameters pid=2281961)\u001b[0m loss: 0.000\u001b[32m [repeated 30x across cluster]\u001b[0m\n"
     ]
    },
    {
     "name": "stderr",
     "output_type": "stream",
     "text": [
      "Val Epoch:79: 0it [00:00, ?it/s]\u001b[32m [repeated 2x across cluster]\u001b[0m\n",
      "Val Epoch:23: 47it [00:01, 27.07it/s]\u001b[32m [repeated 21x across cluster]\u001b[0m\n"
     ]
    },
    {
     "name": "stdout",
     "output_type": "stream",
     "text": [
      "\u001b[36m(tune_with_parameters pid=2281961)\u001b[0m loss: 0.000\u001b[32m [repeated 30x across cluster]\u001b[0m\n"
     ]
    },
    {
     "name": "stderr",
     "output_type": "stream",
     "text": [
      "Val Epoch:24: 47it [00:01, 30.45it/s]9)\u001b[0m \n",
      "Val Epoch:80: 0it [00:00, ?it/s]\u001b[32m [repeated 2x across cluster]\u001b[0m\n",
      "Val Epoch:24: 41it [00:01, 20.98it/s]\u001b[32m [repeated 15x across cluster]\u001b[0m\n",
      "Val Epoch:25: 16it [00:00, 47.49it/s]9)\u001b[0m \n"
     ]
    },
    {
     "name": "stdout",
     "output_type": "stream",
     "text": [
      "\u001b[36m(tune_with_parameters pid=2281961)\u001b[0m loss: 0.000\u001b[32m [repeated 30x across cluster]\u001b[0m\n"
     ]
    },
    {
     "name": "stderr",
     "output_type": "stream",
     "text": [
      "Val Epoch:81: 0it [00:00, ?it/s]\u001b[32m [repeated 2x across cluster]\u001b[0m\n",
      "Val Epoch:25: 47it [00:01, 31.97it/s]\u001b[32m [repeated 15x across cluster]\u001b[0m\n"
     ]
    },
    {
     "name": "stdout",
     "output_type": "stream",
     "text": [
      "\u001b[36m(tune_with_parameters pid=2329379)\u001b[0m loss: 0.000\u001b[32m [repeated 29x across cluster]\u001b[0m\n",
      "\u001b[36m(tune_with_parameters pid=2281961)\u001b[0m loss: 0.000\u001b[32m [repeated 21x across cluster]\u001b[0m\n"
     ]
    },
    {
     "name": "stderr",
     "output_type": "stream",
     "text": [
      "Val Epoch:82: 0it [00:00, ?it/s]\u001b[32m [repeated 2x across cluster]\u001b[0m\n",
      "Val Epoch:26: 47it [00:01, 23.72it/s]\u001b[32m [repeated 18x across cluster]\u001b[0m\n"
     ]
    },
    {
     "name": "stdout",
     "output_type": "stream",
     "text": [
      "\u001b[36m(tune_with_parameters pid=2281961)\u001b[0m loss: 0.000\u001b[32m [repeated 14x across cluster]\u001b[0m\n"
     ]
    },
    {
     "name": "stderr",
     "output_type": "stream",
     "text": [
      "Val Epoch:83: 0it [00:00, ?it/s]\u001b[32m [repeated 2x across cluster]\u001b[0m\n",
      "Val Epoch:27: 47it [00:02, 23.26it/s]\u001b[32m [repeated 18x across cluster]\u001b[0m\n"
     ]
    },
    {
     "name": "stdout",
     "output_type": "stream",
     "text": [
      "\u001b[36m(tune_with_parameters pid=2281961)\u001b[0m loss: 0.000\u001b[32m [repeated 27x across cluster]\u001b[0m\n"
     ]
    },
    {
     "name": "stderr",
     "output_type": "stream",
     "text": [
      "Val Epoch:84: 0it [00:00, ?it/s]\u001b[32m [repeated 2x across cluster]\u001b[0m\n",
      "Val Epoch:28: 47it [00:01, 32.38it/s]\u001b[32m [repeated 18x across cluster]\u001b[0m\n"
     ]
    },
    {
     "name": "stdout",
     "output_type": "stream",
     "text": [
      "\u001b[36m(tune_with_parameters pid=2329379)\u001b[0m loss: 0.000\u001b[32m [repeated 24x across cluster]\u001b[0m\n",
      "\u001b[36m(tune_with_parameters pid=2281961)\u001b[0m loss: 0.000\u001b[32m [repeated 16x across cluster]\u001b[0m\n"
     ]
    },
    {
     "name": "stderr",
     "output_type": "stream",
     "text": [
      "Val Epoch:85: 0it [00:00, ?it/s]\u001b[32m [repeated 2x across cluster]\u001b[0m\n",
      "Val Epoch:29: 47it [00:01, 33.87it/s]\u001b[32m [repeated 19x across cluster]\u001b[0m\n"
     ]
    },
    {
     "name": "stdout",
     "output_type": "stream",
     "text": [
      "\u001b[36m(tune_with_parameters pid=2281961)\u001b[0m loss: 0.000\u001b[32m [repeated 24x across cluster]\u001b[0m\n"
     ]
    },
    {
     "name": "stderr",
     "output_type": "stream",
     "text": [
      "Val Epoch:86: 0it [00:00, ?it/s]\u001b[32m [repeated 2x across cluster]\u001b[0m\n",
      "Val Epoch:30: 47it [00:01, 46.96it/s]\u001b[32m [repeated 19x across cluster]\u001b[0m\n"
     ]
    },
    {
     "name": "stdout",
     "output_type": "stream",
     "text": [
      "\u001b[36m(tune_with_parameters pid=2281961)\u001b[0m loss: 0.000\u001b[32m [repeated 24x across cluster]\u001b[0m\n",
      "\u001b[36m(tune_with_parameters pid=2329379)\u001b[0m loss: 0.000\u001b[32m [repeated 24x across cluster]\u001b[0m\n"
     ]
    },
    {
     "name": "stderr",
     "output_type": "stream",
     "text": [
      "Val Epoch:87: 0it [00:00, ?it/s]\u001b[32m [repeated 2x across cluster]\u001b[0m\n",
      "Val Epoch:31: 47it [00:01, 35.63it/s]\u001b[32m [repeated 21x across cluster]\u001b[0m\n"
     ]
    },
    {
     "name": "stdout",
     "output_type": "stream",
     "text": [
      "\u001b[36m(tune_with_parameters pid=2281961)\u001b[0m loss: 0.000\u001b[32m [repeated 18x across cluster]\u001b[0m\n"
     ]
    },
    {
     "name": "stderr",
     "output_type": "stream",
     "text": [
      "Val Epoch:88: 0it [00:00, ?it/s]\u001b[32m [repeated 2x across cluster]\u001b[0m\n",
      "Val Epoch:32: 47it [00:01, 26.70it/s]\u001b[32m [repeated 20x across cluster]\u001b[0m\n"
     ]
    },
    {
     "name": "stdout",
     "output_type": "stream",
     "text": [
      "\u001b[36m(tune_with_parameters pid=2281961)\u001b[0m loss: 0.000\u001b[32m [repeated 24x across cluster]\u001b[0m\n"
     ]
    },
    {
     "name": "stderr",
     "output_type": "stream",
     "text": [
      "Val Epoch:89: 0it [00:00, ?it/s]\u001b[32m [repeated 2x across cluster]\u001b[0m\n",
      "Val Epoch:33: 47it [00:01, 43.48it/s]\u001b[32m [repeated 19x across cluster]\u001b[0m\n"
     ]
    },
    {
     "name": "stdout",
     "output_type": "stream",
     "text": [
      "\u001b[36m(tune_with_parameters pid=2329379)\u001b[0m loss: 0.000\u001b[32m [repeated 22x across cluster]\u001b[0m\n"
     ]
    },
    {
     "name": "stderr",
     "output_type": "stream",
     "text": [
      "Val Epoch:90: 0it [00:00, ?it/s]\u001b[32m [repeated 2x across cluster]\u001b[0m\n",
      "Val Epoch:34: 47it [00:01, 34.97it/s]\u001b[32m [repeated 20x across cluster]\u001b[0m\n"
     ]
    },
    {
     "name": "stdout",
     "output_type": "stream",
     "text": [
      "\u001b[36m(tune_with_parameters pid=2329379)\u001b[0m loss: 0.000\u001b[32m [repeated 24x across cluster]\u001b[0m\n",
      "\u001b[36m(tune_with_parameters pid=2329379)\u001b[0m /tmp/tmpzgzllouf/checkpoint.pt\n"
     ]
    },
    {
     "name": "stderr",
     "output_type": "stream",
     "text": [
      "\u001b[36m(tune_with_parameters pid=2329379)\u001b[0m Checkpoint successfully created at: Checkpoint(filesystem=local, path=/scratch/users/k23058970/Model training/results/Double Peak Conv Null/tune_with_parameters_2024-08-19_21-53-48/tune_with_parameters_347d1_00005_5_dp=0.1000,k1=3,k2=3,k3=7,k4=5,lr=0.0169_2024-08-19_21-54-20/checkpoint_000008)\n"
     ]
    },
    {
     "name": "stdout",
     "output_type": "stream",
     "text": [
      "\u001b[36m(tune_with_parameters pid=2281961)\u001b[0m loss: 0.000\u001b[32m [repeated 20x across cluster]\u001b[0m\n"
     ]
    },
    {
     "name": "stderr",
     "output_type": "stream",
     "text": [
      "Val Epoch:91: 0it [00:00, ?it/s]\u001b[32m [repeated 2x across cluster]\u001b[0m\n",
      "Val Epoch:35: 47it [00:01, 27.19it/s]\u001b[32m [repeated 18x across cluster]\u001b[0m\n"
     ]
    },
    {
     "name": "stdout",
     "output_type": "stream",
     "text": [
      "\u001b[36m(tune_with_parameters pid=2281961)\u001b[0m loss: 0.000\u001b[32m [repeated 23x across cluster]\u001b[0m\n",
      "\u001b[36m(tune_with_parameters pid=2329379)\u001b[0m /tmp/tmpubl4tvo7/checkpoint.pt\n"
     ]
    },
    {
     "name": "stderr",
     "output_type": "stream",
     "text": [
      "\u001b[36m(tune_with_parameters pid=2329379)\u001b[0m Checkpoint successfully created at: Checkpoint(filesystem=local, path=/scratch/users/k23058970/Model training/results/Double Peak Conv Null/tune_with_parameters_2024-08-19_21-53-48/tune_with_parameters_347d1_00005_5_dp=0.1000,k1=3,k2=3,k3=7,k4=5,lr=0.0169_2024-08-19_21-54-20/checkpoint_000009)\n",
      "Val Epoch:92: 0it [00:00, ?it/s]\u001b[32m [repeated 2x across cluster]\u001b[0m\n",
      "Val Epoch:36: 47it [00:01, 39.57it/s]\u001b[32m [repeated 19x across cluster]\u001b[0m\n",
      "Val Epoch:92: 47it [00:01, 35.66it/s]1)\u001b[0m \n"
     ]
    },
    {
     "name": "stdout",
     "output_type": "stream",
     "text": [
      "\u001b[36m(tune_with_parameters pid=2329379)\u001b[0m loss: 0.000\u001b[32m [repeated 22x across cluster]\u001b[0m\n"
     ]
    },
    {
     "name": "stderr",
     "output_type": "stream",
     "text": [
      "Val Epoch:93: 0it [00:00, ?it/s]\u001b[32m [repeated 2x across cluster]\u001b[0m\n",
      "Val Epoch:37: 47it [00:01, 32.02it/s]\u001b[32m [repeated 18x across cluster]\u001b[0m\n"
     ]
    },
    {
     "name": "stdout",
     "output_type": "stream",
     "text": [
      "\u001b[36m(tune_with_parameters pid=2329379)\u001b[0m loss: 0.000\u001b[32m [repeated 26x across cluster]\u001b[0m\n",
      "\u001b[36m(tune_with_parameters pid=2281961)\u001b[0m loss: 0.000\u001b[32m [repeated 19x across cluster]\u001b[0m\n"
     ]
    },
    {
     "name": "stderr",
     "output_type": "stream",
     "text": [
      "Val Epoch:94: 0it [00:00, ?it/s]\u001b[32m [repeated 2x across cluster]\u001b[0m\n",
      "Val Epoch:38: 47it [00:01, 34.18it/s]\u001b[32m [repeated 18x across cluster]\u001b[0m\n"
     ]
    },
    {
     "name": "stdout",
     "output_type": "stream",
     "text": [
      "\u001b[36m(tune_with_parameters pid=2281961)\u001b[0m loss: 0.000\u001b[32m [repeated 25x across cluster]\u001b[0m\n"
     ]
    },
    {
     "name": "stderr",
     "output_type": "stream",
     "text": [
      "Val Epoch:39: 0it [00:00, ?it/s]329379)\u001b[0m \n",
      "Val Epoch:39: 36it [00:01, 42.76it/s]\u001b[32m [repeated 17x across cluster]\u001b[0m\n",
      "Val Epoch:95: 0it [00:00, ?it/s]281961)\u001b[0m \n"
     ]
    },
    {
     "name": "stdout",
     "output_type": "stream",
     "text": [
      "\u001b[36m(tune_with_parameters pid=2329379)\u001b[0m loss: 0.000\u001b[32m [repeated 19x across cluster]\u001b[0m\n"
     ]
    },
    {
     "name": "stderr",
     "output_type": "stream",
     "text": [
      "Val Epoch:95: 47it [00:01, 30.49it/s]\u001b[32m [repeated 12x across cluster]\u001b[0m\n",
      "Val Epoch:40: 0it [00:00, ?it/s]329379)\u001b[0m \n",
      "Val Epoch:96: 0it [00:00, ?it/s]281961)\u001b[0m \n"
     ]
    },
    {
     "name": "stdout",
     "output_type": "stream",
     "text": [
      "\u001b[36m(tune_with_parameters pid=2329379)\u001b[0m loss: 0.000\u001b[32m [repeated 24x across cluster]\u001b[0m\n"
     ]
    },
    {
     "name": "stderr",
     "output_type": "stream",
     "text": [
      "Val Epoch:96: 47it [00:01, 33.74it/s]\u001b[32m [repeated 19x across cluster]\u001b[0m\n",
      "Val Epoch:41: 47it [00:01, 39.60it/s]9)\u001b[0m \n"
     ]
    },
    {
     "name": "stdout",
     "output_type": "stream",
     "text": [
      "\u001b[36m(tune_with_parameters pid=2329379)\u001b[0m loss: 0.000\u001b[32m [repeated 12x across cluster]\u001b[0m\n"
     ]
    },
    {
     "name": "stderr",
     "output_type": "stream",
     "text": [
      "Val Epoch:42: 0it [00:00, ?it/s]\u001b[32m [repeated 2x across cluster]\u001b[0m\n",
      "Val Epoch:41: 40it [00:01, 42.86it/s]\u001b[32m [repeated 8x across cluster]\u001b[0m\n"
     ]
    },
    {
     "name": "stdout",
     "output_type": "stream",
     "text": [
      "\u001b[36m(tune_with_parameters pid=2329379)\u001b[0m loss: 0.000\u001b[32m [repeated 14x across cluster]\u001b[0m\n"
     ]
    },
    {
     "name": "stderr",
     "output_type": "stream",
     "text": [
      "\u001b[36m(tune_with_parameters pid=2379791)\u001b[0m /users/k23058970/miniforge3/envs/Training/lib/python3.10/site-packages/torch/nn/modules/lazy.py:181: UserWarning: Lazy modules are a new feature under heavy development so changes to the API or functionality can happen at any moment.\n",
      "\u001b[36m(tune_with_parameters pid=2379791)\u001b[0m   warnings.warn('Lazy modules are a new feature under heavy development '\n",
      "Val Epoch:42: 47it [00:01, 37.27it/s]\u001b[32m [repeated 8x across cluster]\u001b[0m\n",
      "Val Epoch:43: 0it [00:00, ?it/s]329379)\u001b[0m \n"
     ]
    },
    {
     "name": "stdout",
     "output_type": "stream",
     "text": [
      "\u001b[36m(tune_with_parameters pid=2329379)\u001b[0m loss: 0.000\u001b[32m [repeated 15x across cluster]\u001b[0m\n"
     ]
    },
    {
     "name": "stderr",
     "output_type": "stream",
     "text": [
      "2024-08-19 22:09:59,376\tERROR tune_controller.py:1331 -- Trial task failed for trial tune_with_parameters_347d1_00006\n",
      "Traceback (most recent call last):\n",
      "  File \"/users/k23058970/miniforge3/envs/Training/lib/python3.10/site-packages/ray/air/execution/_internal/event_manager.py\", line 110, in resolve_future\n",
      "    result = ray.get(future)\n",
      "  File \"/users/k23058970/miniforge3/envs/Training/lib/python3.10/site-packages/ray/_private/auto_init_hook.py\", line 21, in auto_init_wrapper\n",
      "    return fn(*args, **kwargs)\n",
      "  File \"/users/k23058970/miniforge3/envs/Training/lib/python3.10/site-packages/ray/_private/client_mode_hook.py\", line 103, in wrapper\n",
      "    return func(*args, **kwargs)\n",
      "  File \"/users/k23058970/miniforge3/envs/Training/lib/python3.10/site-packages/ray/_private/worker.py\", line 2613, in get\n",
      "    values, debugger_breakpoint = worker.get_objects(object_refs, timeout=timeout)\n",
      "  File \"/users/k23058970/miniforge3/envs/Training/lib/python3.10/site-packages/ray/_private/worker.py\", line 861, in get_objects\n",
      "    raise value.as_instanceof_cause()\n",
      "ray.exceptions.RayTaskError(RuntimeError): \u001b[36mray::ImplicitFunc.train()\u001b[39m (pid=2379791, ip=10.211.4.4, actor_id=1023d592f69c33f82febfee301000000, repr=tune_with_parameters)\n",
      "  File \"/users/k23058970/miniforge3/envs/Training/lib/python3.10/site-packages/ray/tune/trainable/trainable.py\", line 331, in train\n",
      "    raise skipped from exception_cause(skipped)\n",
      "  File \"/users/k23058970/miniforge3/envs/Training/lib/python3.10/site-packages/ray/air/_internal/util.py\", line 98, in run\n",
      "    self._ret = self._target(*self._args, **self._kwargs)\n",
      "  File \"/users/k23058970/miniforge3/envs/Training/lib/python3.10/site-packages/ray/tune/trainable/function_trainable.py\", line 45, in <lambda>\n",
      "    training_func=lambda: self._trainable_func(self.config),\n",
      "  File \"/users/k23058970/miniforge3/envs/Training/lib/python3.10/site-packages/ray/tune/trainable/function_trainable.py\", line 248, in _trainable_func\n",
      "    output = fn()\n",
      "  File \"/users/k23058970/miniforge3/envs/Training/lib/python3.10/site-packages/ray/tune/trainable/util.py\", line 130, in inner\n",
      "    return trainable(config, **fn_kwargs)\n",
      "  File \"/scratch/users/k23058970/Model training/training_insilico_conv.py\", line 200, in train_spectra\n",
      "    outputs = model(inputs)\n",
      "  File \"/users/k23058970/miniforge3/envs/Training/lib/python3.10/site-packages/torch/nn/modules/module.py\", line 1532, in _wrapped_call_impl\n",
      "    return self._call_impl(*args, **kwargs)\n",
      "  File \"/users/k23058970/miniforge3/envs/Training/lib/python3.10/site-packages/torch/nn/modules/module.py\", line 1541, in _call_impl\n",
      "    return forward_call(*args, **kwargs)\n",
      "  File \"/scratch/users/k23058970/Model training/insilico_conv.py\", line 47, in forward\n",
      "    x = self.conv4(x)\n",
      "  File \"/users/k23058970/miniforge3/envs/Training/lib/python3.10/site-packages/torch/nn/modules/module.py\", line 1532, in _wrapped_call_impl\n",
      "    return self._call_impl(*args, **kwargs)\n",
      "  File \"/users/k23058970/miniforge3/envs/Training/lib/python3.10/site-packages/torch/nn/modules/module.py\", line 1541, in _call_impl\n",
      "    return forward_call(*args, **kwargs)\n",
      "  File \"/users/k23058970/miniforge3/envs/Training/lib/python3.10/site-packages/torch/nn/modules/conv.py\", line 310, in forward\n",
      "    return self._conv_forward(input, self.weight, self.bias)\n",
      "  File \"/users/k23058970/miniforge3/envs/Training/lib/python3.10/site-packages/torch/nn/modules/conv.py\", line 306, in _conv_forward\n",
      "    return F.conv1d(input, weight, bias, self.stride,\n",
      "RuntimeError: Calculated padded input size per channel: (1). Kernel size: (3). Kernel size can't be greater than actual input size\n",
      "Val Epoch:44: 0it [00:00, ?it/s]329379)\u001b[0m \n",
      "Val Epoch:43: 47it [00:00, 60.04it/s]\u001b[32m [repeated 7x across cluster]\u001b[0m\n",
      "Val Epoch:44: 47it [00:01, 44.70it/s]9)\u001b[0m \n"
     ]
    },
    {
     "name": "stdout",
     "output_type": "stream",
     "text": [
      "\u001b[36m(tune_with_parameters pid=2329379)\u001b[0m loss: 0.002\u001b[32m [repeated 15x across cluster]\u001b[0m\n"
     ]
    },
    {
     "name": "stderr",
     "output_type": "stream",
     "text": [
      "Val Epoch:45: 0it [00:00, ?it/s]329379)\u001b[0m \n",
      "Val Epoch:44: 37it [00:00, 41.58it/s]\u001b[32m [repeated 7x across cluster]\u001b[0m\n"
     ]
    },
    {
     "name": "stdout",
     "output_type": "stream",
     "text": [
      "\u001b[36m(tune_with_parameters pid=2329379)\u001b[0m loss: 0.000\u001b[32m [repeated 15x across cluster]\u001b[0m\n"
     ]
    },
    {
     "name": "stderr",
     "output_type": "stream",
     "text": [
      "\u001b[36m(tune_with_parameters pid=2383194)\u001b[0m /users/k23058970/miniforge3/envs/Training/lib/python3.10/site-packages/torch/nn/modules/lazy.py:181: UserWarning: Lazy modules are a new feature under heavy development so changes to the API or functionality can happen at any moment.\n",
      "\u001b[36m(tune_with_parameters pid=2383194)\u001b[0m   warnings.warn('Lazy modules are a new feature under heavy development '\n",
      "Val Epoch:45: 47it [00:01, 36.73it/s]\u001b[32m [repeated 8x across cluster]\u001b[0m\n",
      "Val Epoch:46: 0it [00:00, ?it/s]329379)\u001b[0m \n"
     ]
    },
    {
     "name": "stdout",
     "output_type": "stream",
     "text": [
      "\u001b[36m(tune_with_parameters pid=2329379)\u001b[0m loss: 0.000\u001b[32m [repeated 15x across cluster]\u001b[0m\n"
     ]
    },
    {
     "name": "stderr",
     "output_type": "stream",
     "text": [
      "2024-08-19 22:10:17,437\tERROR tune_controller.py:1331 -- Trial task failed for trial tune_with_parameters_347d1_00007\n",
      "Traceback (most recent call last):\n",
      "  File \"/users/k23058970/miniforge3/envs/Training/lib/python3.10/site-packages/ray/air/execution/_internal/event_manager.py\", line 110, in resolve_future\n",
      "    result = ray.get(future)\n",
      "  File \"/users/k23058970/miniforge3/envs/Training/lib/python3.10/site-packages/ray/_private/auto_init_hook.py\", line 21, in auto_init_wrapper\n",
      "    return fn(*args, **kwargs)\n",
      "  File \"/users/k23058970/miniforge3/envs/Training/lib/python3.10/site-packages/ray/_private/client_mode_hook.py\", line 103, in wrapper\n",
      "    return func(*args, **kwargs)\n",
      "  File \"/users/k23058970/miniforge3/envs/Training/lib/python3.10/site-packages/ray/_private/worker.py\", line 2613, in get\n",
      "    values, debugger_breakpoint = worker.get_objects(object_refs, timeout=timeout)\n",
      "  File \"/users/k23058970/miniforge3/envs/Training/lib/python3.10/site-packages/ray/_private/worker.py\", line 861, in get_objects\n",
      "    raise value.as_instanceof_cause()\n",
      "ray.exceptions.RayTaskError(RuntimeError): \u001b[36mray::ImplicitFunc.train()\u001b[39m (pid=2383194, ip=10.211.4.4, actor_id=1e3d604975f0b6572930a97601000000, repr=tune_with_parameters)\n",
      "  File \"/users/k23058970/miniforge3/envs/Training/lib/python3.10/site-packages/ray/tune/trainable/trainable.py\", line 331, in train\n",
      "    raise skipped from exception_cause(skipped)\n",
      "  File \"/users/k23058970/miniforge3/envs/Training/lib/python3.10/site-packages/ray/air/_internal/util.py\", line 98, in run\n",
      "    self._ret = self._target(*self._args, **self._kwargs)\n",
      "  File \"/users/k23058970/miniforge3/envs/Training/lib/python3.10/site-packages/ray/tune/trainable/function_trainable.py\", line 45, in <lambda>\n",
      "    training_func=lambda: self._trainable_func(self.config),\n",
      "  File \"/users/k23058970/miniforge3/envs/Training/lib/python3.10/site-packages/ray/tune/trainable/function_trainable.py\", line 248, in _trainable_func\n",
      "    output = fn()\n",
      "  File \"/users/k23058970/miniforge3/envs/Training/lib/python3.10/site-packages/ray/tune/trainable/util.py\", line 130, in inner\n",
      "    return trainable(config, **fn_kwargs)\n",
      "  File \"/scratch/users/k23058970/Model training/training_insilico_conv.py\", line 200, in train_spectra\n",
      "    outputs = model(inputs)\n",
      "  File \"/users/k23058970/miniforge3/envs/Training/lib/python3.10/site-packages/torch/nn/modules/module.py\", line 1532, in _wrapped_call_impl\n",
      "    return self._call_impl(*args, **kwargs)\n",
      "  File \"/users/k23058970/miniforge3/envs/Training/lib/python3.10/site-packages/torch/nn/modules/module.py\", line 1541, in _call_impl\n",
      "    return forward_call(*args, **kwargs)\n",
      "  File \"/scratch/users/k23058970/Model training/insilico_conv.py\", line 47, in forward\n",
      "    x = self.conv4(x)\n",
      "  File \"/users/k23058970/miniforge3/envs/Training/lib/python3.10/site-packages/torch/nn/modules/module.py\", line 1532, in _wrapped_call_impl\n",
      "    return self._call_impl(*args, **kwargs)\n",
      "  File \"/users/k23058970/miniforge3/envs/Training/lib/python3.10/site-packages/torch/nn/modules/module.py\", line 1541, in _call_impl\n",
      "    return forward_call(*args, **kwargs)\n",
      "  File \"/users/k23058970/miniforge3/envs/Training/lib/python3.10/site-packages/torch/nn/modules/conv.py\", line 310, in forward\n",
      "    return self._conv_forward(input, self.weight, self.bias)\n",
      "  File \"/users/k23058970/miniforge3/envs/Training/lib/python3.10/site-packages/torch/nn/modules/conv.py\", line 306, in _conv_forward\n",
      "    return F.conv1d(input, weight, bias, self.stride,\n",
      "RuntimeError: Calculated padded input size per channel: (1). Kernel size: (5). Kernel size can't be greater than actual input size\n",
      "Val Epoch:47: 0it [00:00, ?it/s]329379)\u001b[0m \n",
      "Val Epoch:46: 47it [00:00, 51.51it/s]\u001b[32m [repeated 7x across cluster]\u001b[0m\n"
     ]
    },
    {
     "name": "stdout",
     "output_type": "stream",
     "text": [
      "\u001b[36m(tune_with_parameters pid=2329379)\u001b[0m loss: 0.000\u001b[32m [repeated 15x across cluster]\u001b[0m\n"
     ]
    },
    {
     "name": "stderr",
     "output_type": "stream",
     "text": [
      "Val Epoch:48: 0it [00:00, ?it/s]329379)\u001b[0m \n",
      "Val Epoch:47: 47it [00:01, 37.77it/s]\u001b[32m [repeated 9x across cluster]\u001b[0m\n"
     ]
    },
    {
     "name": "stdout",
     "output_type": "stream",
     "text": [
      "\u001b[36m(tune_with_parameters pid=2329379)\u001b[0m loss: 0.000\u001b[32m [repeated 15x across cluster]\u001b[0m\n"
     ]
    },
    {
     "name": "stderr",
     "output_type": "stream",
     "text": [
      "\u001b[36m(tune_with_parameters pid=2386332)\u001b[0m /users/k23058970/miniforge3/envs/Training/lib/python3.10/site-packages/torch/nn/modules/lazy.py:181: UserWarning: Lazy modules are a new feature under heavy development so changes to the API or functionality can happen at any moment.\n",
      "\u001b[36m(tune_with_parameters pid=2386332)\u001b[0m   warnings.warn('Lazy modules are a new feature under heavy development '\n",
      "Val Epoch:49: 0it [00:00, ?it/s]329379)\u001b[0m \n",
      "Val Epoch:48: 47it [00:01, 27.65it/s]\u001b[32m [repeated 8x across cluster]\u001b[0m\n",
      "Val Epoch:49: 22it [00:00, 46.02it/s]9)\u001b[0m \n"
     ]
    },
    {
     "name": "stdout",
     "output_type": "stream",
     "text": [
      "\u001b[36m(tune_with_parameters pid=2329379)\u001b[0m loss: 0.000\u001b[32m [repeated 15x across cluster]\u001b[0m\n"
     ]
    },
    {
     "name": "stderr",
     "output_type": "stream",
     "text": [
      "2024-08-19 22:10:33,887\tERROR tune_controller.py:1331 -- Trial task failed for trial tune_with_parameters_347d1_00008\n",
      "Traceback (most recent call last):\n",
      "  File \"/users/k23058970/miniforge3/envs/Training/lib/python3.10/site-packages/ray/air/execution/_internal/event_manager.py\", line 110, in resolve_future\n",
      "    result = ray.get(future)\n",
      "  File \"/users/k23058970/miniforge3/envs/Training/lib/python3.10/site-packages/ray/_private/auto_init_hook.py\", line 21, in auto_init_wrapper\n",
      "    return fn(*args, **kwargs)\n",
      "  File \"/users/k23058970/miniforge3/envs/Training/lib/python3.10/site-packages/ray/_private/client_mode_hook.py\", line 103, in wrapper\n",
      "    return func(*args, **kwargs)\n",
      "  File \"/users/k23058970/miniforge3/envs/Training/lib/python3.10/site-packages/ray/_private/worker.py\", line 2613, in get\n",
      "    values, debugger_breakpoint = worker.get_objects(object_refs, timeout=timeout)\n",
      "  File \"/users/k23058970/miniforge3/envs/Training/lib/python3.10/site-packages/ray/_private/worker.py\", line 861, in get_objects\n",
      "    raise value.as_instanceof_cause()\n",
      "ray.exceptions.RayTaskError(RuntimeError): \u001b[36mray::ImplicitFunc.train()\u001b[39m (pid=2386332, ip=10.211.4.4, actor_id=849dbc2410d92f788873d30a01000000, repr=tune_with_parameters)\n",
      "  File \"/users/k23058970/miniforge3/envs/Training/lib/python3.10/site-packages/ray/tune/trainable/trainable.py\", line 331, in train\n",
      "    raise skipped from exception_cause(skipped)\n",
      "  File \"/users/k23058970/miniforge3/envs/Training/lib/python3.10/site-packages/ray/air/_internal/util.py\", line 98, in run\n",
      "    self._ret = self._target(*self._args, **self._kwargs)\n",
      "  File \"/users/k23058970/miniforge3/envs/Training/lib/python3.10/site-packages/ray/tune/trainable/function_trainable.py\", line 45, in <lambda>\n",
      "    training_func=lambda: self._trainable_func(self.config),\n",
      "  File \"/users/k23058970/miniforge3/envs/Training/lib/python3.10/site-packages/ray/tune/trainable/function_trainable.py\", line 248, in _trainable_func\n",
      "    output = fn()\n",
      "  File \"/users/k23058970/miniforge3/envs/Training/lib/python3.10/site-packages/ray/tune/trainable/util.py\", line 130, in inner\n",
      "    return trainable(config, **fn_kwargs)\n",
      "  File \"/scratch/users/k23058970/Model training/training_insilico_conv.py\", line 200, in train_spectra\n",
      "    outputs = model(inputs)\n",
      "  File \"/users/k23058970/miniforge3/envs/Training/lib/python3.10/site-packages/torch/nn/modules/module.py\", line 1532, in _wrapped_call_impl\n",
      "    return self._call_impl(*args, **kwargs)\n",
      "  File \"/users/k23058970/miniforge3/envs/Training/lib/python3.10/site-packages/torch/nn/modules/module.py\", line 1541, in _call_impl\n",
      "    return forward_call(*args, **kwargs)\n",
      "  File \"/scratch/users/k23058970/Model training/insilico_conv.py\", line 47, in forward\n",
      "    x = self.conv4(x)\n",
      "  File \"/users/k23058970/miniforge3/envs/Training/lib/python3.10/site-packages/torch/nn/modules/module.py\", line 1532, in _wrapped_call_impl\n",
      "    return self._call_impl(*args, **kwargs)\n",
      "  File \"/users/k23058970/miniforge3/envs/Training/lib/python3.10/site-packages/torch/nn/modules/module.py\", line 1541, in _call_impl\n",
      "    return forward_call(*args, **kwargs)\n",
      "  File \"/users/k23058970/miniforge3/envs/Training/lib/python3.10/site-packages/torch/nn/modules/conv.py\", line 310, in forward\n",
      "    return self._conv_forward(input, self.weight, self.bias)\n",
      "  File \"/users/k23058970/miniforge3/envs/Training/lib/python3.10/site-packages/torch/nn/modules/conv.py\", line 306, in _conv_forward\n",
      "    return F.conv1d(input, weight, bias, self.stride,\n",
      "RuntimeError: Calculated padded input size per channel: (4). Kernel size: (5). Kernel size can't be greater than actual input size\n",
      "Val Epoch:50: 0it [00:00, ?it/s]329379)\u001b[0m \n",
      "Val Epoch:49: 47it [00:01, 44.77it/s]\u001b[32m [repeated 6x across cluster]\u001b[0m\n",
      "Val Epoch:50: 47it [00:01, 41.63it/s]9)\u001b[0m \n"
     ]
    },
    {
     "name": "stdout",
     "output_type": "stream",
     "text": [
      "\u001b[36m(tune_with_parameters pid=2329379)\u001b[0m loss: 0.000\u001b[32m [repeated 17x across cluster]\u001b[0m\n"
     ]
    },
    {
     "name": "stderr",
     "output_type": "stream",
     "text": [
      "Val Epoch:51: 0it [00:00, ?it/s]329379)\u001b[0m \n",
      "Val Epoch:50: 37it [00:00, 50.39it/s]\u001b[32m [repeated 6x across cluster]\u001b[0m\n"
     ]
    },
    {
     "name": "stdout",
     "output_type": "stream",
     "text": [
      "\u001b[36m(tune_with_parameters pid=2329379)\u001b[0m loss: 0.000\u001b[32m [repeated 13x across cluster]\u001b[0m\n"
     ]
    },
    {
     "name": "stderr",
     "output_type": "stream",
     "text": [
      "\u001b[36m(tune_with_parameters pid=2389458)\u001b[0m /users/k23058970/miniforge3/envs/Training/lib/python3.10/site-packages/torch/nn/modules/lazy.py:181: UserWarning: Lazy modules are a new feature under heavy development so changes to the API or functionality can happen at any moment.\n",
      "\u001b[36m(tune_with_parameters pid=2389458)\u001b[0m   warnings.warn('Lazy modules are a new feature under heavy development '\n",
      "Val Epoch:52: 0it [00:00, ?it/s]329379)\u001b[0m \n",
      "Val Epoch:51: 47it [00:00, 51.97it/s]\u001b[32m [repeated 7x across cluster]\u001b[0m\n",
      "Val Epoch:52: 47it [00:00, 58.41it/s]9)\u001b[0m \n"
     ]
    },
    {
     "name": "stdout",
     "output_type": "stream",
     "text": [
      "\u001b[36m(tune_with_parameters pid=2329379)\u001b[0m loss: 0.001\u001b[32m [repeated 15x across cluster]\u001b[0m\n"
     ]
    },
    {
     "name": "stderr",
     "output_type": "stream",
     "text": [
      "Val Epoch:53: 0it [00:00, ?it/s]329379)\u001b[0m \n",
      "Val Epoch:52: 34it [00:00, 54.45it/s]\u001b[32m [repeated 5x across cluster]\u001b[0m\n"
     ]
    },
    {
     "name": "stdout",
     "output_type": "stream",
     "text": [
      "\u001b[36m(tune_with_parameters pid=2389458)\u001b[0m loss: 0.393\u001b[32m [repeated 28x across cluster]\u001b[0m\n"
     ]
    },
    {
     "name": "stderr",
     "output_type": "stream",
     "text": [
      "Val Epoch:0: 0it [00:00, ?it/s]2389458)\u001b[0m \n"
     ]
    },
    {
     "name": "stdout",
     "output_type": "stream",
     "text": [
      "\u001b[36m(tune_with_parameters pid=2389458)\u001b[0m /tmp/tmpv3678_b3/checkpoint.pt\n"
     ]
    },
    {
     "name": "stderr",
     "output_type": "stream",
     "text": [
      "\u001b[36m(tune_with_parameters pid=2389458)\u001b[0m Checkpoint successfully created at: Checkpoint(filesystem=local, path=/scratch/users/k23058970/Model training/results/Double Peak Conv Null/tune_with_parameters_2024-08-19_21-53-48/tune_with_parameters_347d1_00009_9_dp=0.2000,k1=1,k2=1,k3=3,k4=3,lr=0.0053_2024-08-19_21-54-20/checkpoint_000000)\n"
     ]
    },
    {
     "name": "stdout",
     "output_type": "stream",
     "text": [
      "\u001b[36m(tune_with_parameters pid=2329379)\u001b[0m loss: 0.000\u001b[32m [repeated 20x across cluster]\u001b[0m\n"
     ]
    },
    {
     "name": "stderr",
     "output_type": "stream",
     "text": [
      "Val Epoch:0: 47it [00:01, 39.28it/s]\u001b[32m [repeated 20x across cluster]\u001b[0m\n",
      "Val Epoch:54: 0it [00:00, ?it/s]329379)\u001b[0m \n",
      "Val Epoch:1: 0it [00:00, ?it/s]2389458)\u001b[0m \n"
     ]
    },
    {
     "name": "stdout",
     "output_type": "stream",
     "text": [
      "\u001b[36m(tune_with_parameters pid=2389458)\u001b[0m /tmp/tmpfvlhyvid/checkpoint.pt\n"
     ]
    },
    {
     "name": "stderr",
     "output_type": "stream",
     "text": [
      "\u001b[36m(tune_with_parameters pid=2389458)\u001b[0m Checkpoint successfully created at: Checkpoint(filesystem=local, path=/scratch/users/k23058970/Model training/results/Double Peak Conv Null/tune_with_parameters_2024-08-19_21-53-48/tune_with_parameters_347d1_00009_9_dp=0.2000,k1=1,k2=1,k3=3,k4=3,lr=0.0053_2024-08-19_21-54-20/checkpoint_000001)\n"
     ]
    },
    {
     "name": "stdout",
     "output_type": "stream",
     "text": [
      "\u001b[36m(tune_with_parameters pid=2389458)\u001b[0m loss: 0.049\u001b[32m [repeated 18x across cluster]\u001b[0m\n"
     ]
    },
    {
     "name": "stderr",
     "output_type": "stream",
     "text": [
      "Val Epoch:1: 47it [00:02, 23.35it/s]\u001b[32m [repeated 21x across cluster]\u001b[0m\n",
      "Val Epoch:55: 0it [00:00, ?it/s]329379)\u001b[0m \n",
      "Val Epoch:2: 0it [00:00, ?it/s]2389458)\u001b[0m \n"
     ]
    },
    {
     "name": "stdout",
     "output_type": "stream",
     "text": [
      "\u001b[36m(tune_with_parameters pid=2329379)\u001b[0m loss: 0.000\u001b[32m [repeated 24x across cluster]\u001b[0m\n",
      "\u001b[36m(tune_with_parameters pid=2389458)\u001b[0m /tmp/tmpr63h_ett/checkpoint.pt\n"
     ]
    },
    {
     "name": "stderr",
     "output_type": "stream",
     "text": [
      "\u001b[36m(tune_with_parameters pid=2389458)\u001b[0m Checkpoint successfully created at: Checkpoint(filesystem=local, path=/scratch/users/k23058970/Model training/results/Double Peak Conv Null/tune_with_parameters_2024-08-19_21-53-48/tune_with_parameters_347d1_00009_9_dp=0.2000,k1=1,k2=1,k3=3,k4=3,lr=0.0053_2024-08-19_21-54-20/checkpoint_000002)\n",
      "Val Epoch:2: 47it [00:02, 22.38it/s]\u001b[32m [repeated 19x across cluster]\u001b[0m\n",
      "Val Epoch:56: 0it [00:00, ?it/s]329379)\u001b[0m \n"
     ]
    },
    {
     "name": "stdout",
     "output_type": "stream",
     "text": [
      "\u001b[36m(tune_with_parameters pid=2389458)\u001b[0m loss: 0.029\u001b[32m [repeated 28x across cluster]\u001b[0m\n"
     ]
    },
    {
     "name": "stderr",
     "output_type": "stream",
     "text": [
      "Val Epoch:3: 0it [00:00, ?it/s]2389458)\u001b[0m \n"
     ]
    },
    {
     "name": "stdout",
     "output_type": "stream",
     "text": [
      "\u001b[36m(tune_with_parameters pid=2389458)\u001b[0m /tmp/tmpjgiq5o_7/checkpoint.pt\n"
     ]
    },
    {
     "name": "stderr",
     "output_type": "stream",
     "text": [
      "\u001b[36m(tune_with_parameters pid=2389458)\u001b[0m Checkpoint successfully created at: Checkpoint(filesystem=local, path=/scratch/users/k23058970/Model training/results/Double Peak Conv Null/tune_with_parameters_2024-08-19_21-53-48/tune_with_parameters_347d1_00009_9_dp=0.2000,k1=1,k2=1,k3=3,k4=3,lr=0.0053_2024-08-19_21-54-20/checkpoint_000003)\n"
     ]
    },
    {
     "name": "stdout",
     "output_type": "stream",
     "text": [
      "\u001b[36m(tune_with_parameters pid=2329379)\u001b[0m loss: 0.000\u001b[32m [repeated 16x across cluster]\u001b[0m\n"
     ]
    },
    {
     "name": "stderr",
     "output_type": "stream",
     "text": [
      "Val Epoch:3: 47it [00:01, 24.03it/s]\u001b[32m [repeated 20x across cluster]\u001b[0m\n",
      "Val Epoch:57: 0it [00:00, ?it/s]329379)\u001b[0m \n",
      "Val Epoch:57: 47it [00:01, 28.14it/s]9)\u001b[0m \n",
      "Val Epoch:4: 0it [00:00, ?it/s]2389458)\u001b[0m \n"
     ]
    },
    {
     "name": "stdout",
     "output_type": "stream",
     "text": [
      "\u001b[36m(tune_with_parameters pid=2329379)\u001b[0m loss: 0.000\u001b[32m [repeated 18x across cluster]\u001b[0m\n"
     ]
    },
    {
     "name": "stderr",
     "output_type": "stream",
     "text": [
      "Val Epoch:4: 47it [00:01, 23.76it/s]\u001b[32m [repeated 19x across cluster]\u001b[0m\n",
      "Val Epoch:58: 0it [00:00, ?it/s]329379)\u001b[0m \n",
      "Val Epoch:5: 0it [00:00, ?it/s]2389458)\u001b[0m \n"
     ]
    },
    {
     "name": "stdout",
     "output_type": "stream",
     "text": [
      "\u001b[36m(tune_with_parameters pid=2329379)\u001b[0m loss: 0.000\u001b[32m [repeated 28x across cluster]\u001b[0m\n",
      "\u001b[36m(tune_with_parameters pid=2389458)\u001b[0m /tmp/tmpxcptik7x/checkpoint.pt\n"
     ]
    },
    {
     "name": "stderr",
     "output_type": "stream",
     "text": [
      "\u001b[36m(tune_with_parameters pid=2389458)\u001b[0m Checkpoint successfully created at: Checkpoint(filesystem=local, path=/scratch/users/k23058970/Model training/results/Double Peak Conv Null/tune_with_parameters_2024-08-19_21-53-48/tune_with_parameters_347d1_00009_9_dp=0.2000,k1=1,k2=1,k3=3,k4=3,lr=0.0053_2024-08-19_21-54-20/checkpoint_000004)\n",
      "Val Epoch:5: 47it [00:01, 27.06it/s]\u001b[32m [repeated 21x across cluster]\u001b[0m\n",
      "Val Epoch:59: 0it [00:00, ?it/s]329379)\u001b[0m \n"
     ]
    },
    {
     "name": "stdout",
     "output_type": "stream",
     "text": [
      "\u001b[36m(tune_with_parameters pid=2389458)\u001b[0m loss: 0.016\u001b[32m [repeated 28x across cluster]\u001b[0m\n"
     ]
    },
    {
     "name": "stderr",
     "output_type": "stream",
     "text": [
      "Val Epoch:59: 33it [00:01, 46.25it/s]9)\u001b[0m \n",
      "Val Epoch:6: 0it [00:00, ?it/s]2389458)\u001b[0m \n"
     ]
    },
    {
     "name": "stdout",
     "output_type": "stream",
     "text": [
      "\u001b[36m(tune_with_parameters pid=2389458)\u001b[0m loss: 0.014\u001b[32m [repeated 19x across cluster]\u001b[0m\n"
     ]
    },
    {
     "name": "stderr",
     "output_type": "stream",
     "text": [
      "Val Epoch:6: 47it [00:01, 24.91it/s]\u001b[32m [repeated 16x across cluster]\u001b[0m\n",
      "Val Epoch:60: 0it [00:00, ?it/s]329379)\u001b[0m \n",
      "Val Epoch:7: 0it [00:00, ?it/s]2389458)\u001b[0m \n"
     ]
    },
    {
     "name": "stdout",
     "output_type": "stream",
     "text": [
      "\u001b[36m(tune_with_parameters pid=2389458)\u001b[0m /tmp/tmpgkm278lx/checkpoint.pt\n"
     ]
    },
    {
     "name": "stderr",
     "output_type": "stream",
     "text": [
      "\u001b[36m(tune_with_parameters pid=2389458)\u001b[0m Checkpoint successfully created at: Checkpoint(filesystem=local, path=/scratch/users/k23058970/Model training/results/Double Peak Conv Null/tune_with_parameters_2024-08-19_21-53-48/tune_with_parameters_347d1_00009_9_dp=0.2000,k1=1,k2=1,k3=3,k4=3,lr=0.0053_2024-08-19_21-54-20/checkpoint_000005)\n"
     ]
    },
    {
     "name": "stdout",
     "output_type": "stream",
     "text": [
      "\u001b[36m(tune_with_parameters pid=2329379)\u001b[0m loss: 0.000\u001b[32m [repeated 15x across cluster]\u001b[0m\n"
     ]
    },
    {
     "name": "stderr",
     "output_type": "stream",
     "text": [
      "Val Epoch:7: 47it [00:01, 28.91it/s]\u001b[32m [repeated 19x across cluster]\u001b[0m\n",
      "Val Epoch:61: 0it [00:00, ?it/s]329379)\u001b[0m \n",
      "Val Epoch:8: 0it [00:00, ?it/s]2389458)\u001b[0m \n"
     ]
    },
    {
     "name": "stdout",
     "output_type": "stream",
     "text": [
      "\u001b[36m(tune_with_parameters pid=2329379)\u001b[0m loss: 0.000\u001b[32m [repeated 28x across cluster]\u001b[0m\n"
     ]
    },
    {
     "name": "stderr",
     "output_type": "stream",
     "text": [
      "Val Epoch:8: 47it [00:02, 21.78it/s]\u001b[32m [repeated 22x across cluster]\u001b[0m\n",
      "Val Epoch:62: 0it [00:00, ?it/s]329379)\u001b[0m \n"
     ]
    },
    {
     "name": "stdout",
     "output_type": "stream",
     "text": [
      "\u001b[36m(tune_with_parameters pid=2329379)\u001b[0m loss: 0.000\u001b[32m [repeated 22x across cluster]\u001b[0m\n"
     ]
    },
    {
     "name": "stderr",
     "output_type": "stream",
     "text": [
      "Val Epoch:63: 0it [00:00, ?it/s]329379)\u001b[0m \n",
      "Val Epoch:64: 0it [00:00, ?it/s]329379)\u001b[0m \n",
      "Val Epoch:63: 47it [00:00, 69.03it/s]\u001b[32m [repeated 10x across cluster]\u001b[0m\n"
     ]
    },
    {
     "name": "stdout",
     "output_type": "stream",
     "text": [
      "\u001b[36m(tune_with_parameters pid=2329379)\u001b[0m loss: 0.000\u001b[32m [repeated 23x across cluster]\u001b[0m\n"
     ]
    },
    {
     "name": "stderr",
     "output_type": "stream",
     "text": [
      "Val Epoch:65: 0it [00:00, ?it/s]329379)\u001b[0m \n"
     ]
    },
    {
     "name": "stdout",
     "output_type": "stream",
     "text": [
      "\u001b[36m(tune_with_parameters pid=2329379)\u001b[0m loss: 0.000\u001b[32m [repeated 22x across cluster]\u001b[0m\n"
     ]
    },
    {
     "name": "stderr",
     "output_type": "stream",
     "text": [
      "Val Epoch:66: 0it [00:00, ?it/s]329379)\u001b[0m \n",
      "Val Epoch:65: 47it [00:00, 55.58it/s]\u001b[32m [repeated 10x across cluster]\u001b[0m\n",
      "Val Epoch:67: 0it [00:00, ?it/s]329379)\u001b[0m \n"
     ]
    },
    {
     "name": "stdout",
     "output_type": "stream",
     "text": [
      "\u001b[36m(tune_with_parameters pid=2329379)\u001b[0m loss: 0.000\u001b[32m [repeated 23x across cluster]\u001b[0m\n"
     ]
    },
    {
     "name": "stderr",
     "output_type": "stream",
     "text": [
      "Val Epoch:68: 0it [00:00, ?it/s]329379)\u001b[0m \n",
      "Val Epoch:67: 47it [00:00, 66.97it/s]\u001b[32m [repeated 10x across cluster]\u001b[0m\n",
      "Val Epoch:68: 47it [00:00, 59.49it/s]9)\u001b[0m \n"
     ]
    },
    {
     "name": "stdout",
     "output_type": "stream",
     "text": [
      "\u001b[36m(tune_with_parameters pid=2329379)\u001b[0m loss: 0.000\u001b[32m [repeated 26x across cluster]\u001b[0m\n"
     ]
    },
    {
     "name": "stderr",
     "output_type": "stream",
     "text": [
      "Val Epoch:69: 0it [00:00, ?it/s]329379)\u001b[0m \n",
      "Val Epoch:70: 0it [00:00, ?it/s]329379)\u001b[0m \n",
      "Val Epoch:69: 47it [00:00, 61.54it/s]\u001b[32m [repeated 9x across cluster]\u001b[0m\n"
     ]
    },
    {
     "name": "stdout",
     "output_type": "stream",
     "text": [
      "\u001b[36m(tune_with_parameters pid=2329379)\u001b[0m loss: 0.000\u001b[32m [repeated 19x across cluster]\u001b[0m\n"
     ]
    },
    {
     "name": "stderr",
     "output_type": "stream",
     "text": [
      "Val Epoch:71: 0it [00:00, ?it/s]329379)\u001b[0m \n",
      "Val Epoch:71: 47it [00:00, 78.65it/s]9)\u001b[0m \n"
     ]
    },
    {
     "name": "stdout",
     "output_type": "stream",
     "text": [
      "\u001b[36m(tune_with_parameters pid=2329379)\u001b[0m loss: 0.000\u001b[32m [repeated 29x across cluster]\u001b[0m\n"
     ]
    },
    {
     "name": "stderr",
     "output_type": "stream",
     "text": [
      "Val Epoch:72: 0it [00:00, ?it/s]329379)\u001b[0m \n",
      "Val Epoch:71: 27it [00:00, 77.68it/s]\u001b[32m [repeated 8x across cluster]\u001b[0m\n",
      "Val Epoch:72: 47it [00:00, 99.22it/s] )\u001b[0m \n",
      "Val Epoch:73: 0it [00:00, ?it/s]329379)\u001b[0m \n"
     ]
    },
    {
     "name": "stdout",
     "output_type": "stream",
     "text": [
      "\u001b[36m(tune_with_parameters pid=2329379)\u001b[0m loss: 0.000\u001b[32m [repeated 16x across cluster]\u001b[0m\n"
     ]
    },
    {
     "name": "stderr",
     "output_type": "stream",
     "text": [
      "Val Epoch:74: 0it [00:00, ?it/s]329379)\u001b[0m \n",
      "Val Epoch:73: 47it [00:00, 74.78it/s]\u001b[32m [repeated 8x across cluster]\u001b[0m\n"
     ]
    },
    {
     "name": "stdout",
     "output_type": "stream",
     "text": [
      "\u001b[36m(tune_with_parameters pid=2329379)\u001b[0m loss: 0.000\u001b[32m [repeated 26x across cluster]\u001b[0m\n"
     ]
    },
    {
     "name": "stderr",
     "output_type": "stream",
     "text": [
      "Val Epoch:75: 0it [00:00, ?it/s]329379)\u001b[0m \n",
      "Val Epoch:76: 0it [00:00, ?it/s]329379)\u001b[0m \n",
      "Val Epoch:75: 47it [00:00, 83.83it/s]\u001b[32m [repeated 10x across cluster]\u001b[0m\n"
     ]
    },
    {
     "name": "stdout",
     "output_type": "stream",
     "text": [
      "\u001b[36m(tune_with_parameters pid=2329379)\u001b[0m loss: 0.000\u001b[32m [repeated 19x across cluster]\u001b[0m\n"
     ]
    },
    {
     "name": "stderr",
     "output_type": "stream",
     "text": [
      "Val Epoch:77: 0it [00:00, ?it/s]329379)\u001b[0m \n"
     ]
    },
    {
     "name": "stdout",
     "output_type": "stream",
     "text": [
      "\u001b[36m(tune_with_parameters pid=2329379)\u001b[0m loss: 0.000\u001b[32m [repeated 29x across cluster]\u001b[0m\n"
     ]
    },
    {
     "name": "stderr",
     "output_type": "stream",
     "text": [
      "Val Epoch:78: 0it [00:00, ?it/s]329379)\u001b[0m \n",
      "Val Epoch:77: 47it [00:00, 87.40it/s]\u001b[32m [repeated 10x across cluster]\u001b[0m\n",
      "Val Epoch:78: 47it [00:00, 73.10it/s]9)\u001b[0m \n",
      "Val Epoch:79: 0it [00:00, ?it/s]329379)\u001b[0m \n"
     ]
    },
    {
     "name": "stdout",
     "output_type": "stream",
     "text": [
      "\u001b[36m(tune_with_parameters pid=2329379)\u001b[0m loss: 0.000\u001b[32m [repeated 16x across cluster]\u001b[0m\n"
     ]
    },
    {
     "name": "stderr",
     "output_type": "stream",
     "text": [
      "Val Epoch:80: 0it [00:00, ?it/s]329379)\u001b[0m \n",
      "Val Epoch:79: 47it [00:00, 74.58it/s]\u001b[32m [repeated 9x across cluster]\u001b[0m\n"
     ]
    },
    {
     "name": "stdout",
     "output_type": "stream",
     "text": [
      "\u001b[36m(tune_with_parameters pid=2329379)\u001b[0m loss: 0.000\u001b[32m [repeated 28x across cluster]\u001b[0m\n"
     ]
    },
    {
     "name": "stderr",
     "output_type": "stream",
     "text": [
      "Val Epoch:81: 0it [00:00, ?it/s]329379)\u001b[0m \n",
      "Val Epoch:82: 0it [00:00, ?it/s]329379)\u001b[0m \n",
      "Val Epoch:81: 47it [00:01, 46.68it/s]\u001b[32m [repeated 11x across cluster]\u001b[0m\n"
     ]
    },
    {
     "name": "stdout",
     "output_type": "stream",
     "text": [
      "\u001b[36m(tune_with_parameters pid=2329379)\u001b[0m loss: 0.000\u001b[32m [repeated 17x across cluster]\u001b[0m\n"
     ]
    },
    {
     "name": "stderr",
     "output_type": "stream",
     "text": [
      "Val Epoch:83: 0it [00:00, ?it/s]329379)\u001b[0m \n"
     ]
    },
    {
     "name": "stdout",
     "output_type": "stream",
     "text": [
      "\u001b[36m(tune_with_parameters pid=2329379)\u001b[0m loss: 0.000\u001b[32m [repeated 27x across cluster]\u001b[0m\n"
     ]
    },
    {
     "name": "stderr",
     "output_type": "stream",
     "text": [
      "Val Epoch:84: 0it [00:00, ?it/s]329379)\u001b[0m \n",
      "Val Epoch:83: 47it [00:00, 67.31it/s]\u001b[32m [repeated 10x across cluster]\u001b[0m\n",
      "Val Epoch:85: 0it [00:00, ?it/s]329379)\u001b[0m \n"
     ]
    },
    {
     "name": "stdout",
     "output_type": "stream",
     "text": [
      "\u001b[36m(tune_with_parameters pid=2329379)\u001b[0m loss: 0.000\u001b[32m [repeated 18x across cluster]\u001b[0m\n"
     ]
    },
    {
     "name": "stderr",
     "output_type": "stream",
     "text": [
      "Val Epoch:86: 0it [00:00, ?it/s]329379)\u001b[0m \n",
      "Val Epoch:85: 47it [00:00, 86.71it/s]\u001b[32m [repeated 10x across cluster]\u001b[0m\n"
     ]
    },
    {
     "name": "stdout",
     "output_type": "stream",
     "text": [
      "\u001b[36m(tune_with_parameters pid=2329379)\u001b[0m loss: 0.000\u001b[32m [repeated 28x across cluster]\u001b[0m\n"
     ]
    },
    {
     "name": "stderr",
     "output_type": "stream",
     "text": [
      "Val Epoch:87: 0it [00:00, ?it/s]329379)\u001b[0m \n",
      "Val Epoch:88: 0it [00:00, ?it/s]329379)\u001b[0m \n",
      "Val Epoch:87: 47it [00:00, 65.52it/s]\u001b[32m [repeated 10x across cluster]\u001b[0m\n"
     ]
    },
    {
     "name": "stdout",
     "output_type": "stream",
     "text": [
      "\u001b[36m(tune_with_parameters pid=2329379)\u001b[0m loss: 0.000\u001b[32m [repeated 17x across cluster]\u001b[0m\n"
     ]
    },
    {
     "name": "stderr",
     "output_type": "stream",
     "text": [
      "Val Epoch:89: 0it [00:00, ?it/s]329379)\u001b[0m \n",
      "2024-08-19 22:13:37,503\tINFO tune.py:1009 -- Wrote the latest version of all result files and experiment state to '/scratch/users/k23058970/Model training/results/Double Peak Conv Null/tune_with_parameters_2024-08-19_21-53-48' in 0.0505s.\n",
      "2024-08-19 22:13:37,521\tERROR tune.py:1037 -- Trials did not complete: [tune_with_parameters_347d1_00001, tune_with_parameters_347d1_00006, tune_with_parameters_347d1_00007, tune_with_parameters_347d1_00008]\n",
      "2024-08-19 22:13:37,523\tINFO tune.py:1041 -- Total run time: 1157.85 seconds (1157.67 seconds for the tuning loop).\n"
     ]
    },
    {
     "name": "stdout",
     "output_type": "stream",
     "text": [
      "Best trial config: {'nc1': 4, 'k1': 3, 'nc2': 4, 'k2': 3, 'nc3': 128, 'k3': 7, 'nc4': 128, 'k4': 5, 'dp': 0.1, 'l1': 128, 'l2': 4096, 'lr': 0.01685688077404977}\n",
      "Best trial final validation loss: 0.0031327667309626046\n",
      "Best trial final validation accuracy: 0.9993333333333333\n",
      "Best trial f1-score: 0.9993333419164021\n"
     ]
    },
    {
     "name": "stderr",
     "output_type": "stream",
     "text": [
      "/users/k23058970/miniforge3/envs/Training/lib/python3.10/site-packages/torch/nn/modules/lazy.py:181: UserWarning: Lazy modules are a new feature under heavy development so changes to the API or functionality can happen at any moment.\n",
      "  warnings.warn('Lazy modules are a new feature under heavy development '\n",
      "Test Epoch: 100%|██████████| 47/47 [00:02<00:00, 16.31it/s]"
     ]
    },
    {
     "name": "stdout",
     "output_type": "stream",
     "text": [
      "Best Test Set Accuracy:0.998\n",
      "Best F1-Score: <training_insilico_conv.F1_score_running object at 0x781bd17fc2b0>\n"
     ]
    },
    {
     "name": "stderr",
     "output_type": "stream",
     "text": [
      "\n"
     ]
    }
   ],
   "source": [
    "DATASET_DIR = \"/scratch/users/k23058970/Model training/Null Dataset/Double Peak\"\n",
    "main(dataset_dir=DATASET_DIR,dset_name = \"Double Peak Conv Null\")"
   ]
  },
  {
   "cell_type": "code",
   "execution_count": null,
   "metadata": {},
   "outputs": [],
   "source": []
  }
 ],
 "metadata": {
  "kernelspec": {
   "display_name": "Training",
   "language": "python",
   "name": "training"
  },
  "language_info": {
   "codemirror_mode": {
    "name": "ipython",
    "version": 3
   },
   "file_extension": ".py",
   "mimetype": "text/x-python",
   "name": "python",
   "nbconvert_exporter": "python",
   "pygments_lexer": "ipython3",
   "version": "3.10.14"
  }
 },
 "nbformat": 4,
 "nbformat_minor": 4
}
