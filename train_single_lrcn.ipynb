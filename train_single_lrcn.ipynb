{
 "cells": [
  {
   "cell_type": "code",
   "execution_count": 1,
   "metadata": {},
   "outputs": [],
   "source": [
    "#Call Main and let it run\n",
    "from training_insilico_lrcn import main"
   ]
  },
  {
   "cell_type": "code",
   "execution_count": null,
   "metadata": {},
   "outputs": [
    {
     "data": {
      "text/html": [
       "<div class=\"tuneStatus\">\n",
       "  <div style=\"display: flex;flex-direction: row\">\n",
       "    <div style=\"display: flex;flex-direction: column;\">\n",
       "      <h3>Tune Status</h3>\n",
       "      <table>\n",
       "<tbody>\n",
       "<tr><td>Current time:</td><td>2024-08-30 03:07:16</td></tr>\n",
       "<tr><td>Running for: </td><td>00:12:44.18        </td></tr>\n",
       "<tr><td>Memory:      </td><td>45.8/1511.6 GiB    </td></tr>\n",
       "</tbody>\n",
       "</table>\n",
       "    </div>\n",
       "    <div class=\"vDivider\"></div>\n",
       "    <div class=\"systemInfo\">\n",
       "      <h3>System Info</h3>\n",
       "      Using AsyncHyperBand: num_stopped=2<br>Bracket: Iter 60.000: None | Iter 30.000: -0.45354414296646917 | Iter 15.000: -0.45528845116496086<br>Logical resource usage: 48.0/256 CPUs, 1.0/1 GPUs (0.0/1.0 accelerator_type:A100)\n",
       "    </div>\n",
       "    \n",
       "  </div>\n",
       "  <div class=\"hDivider\"></div>\n",
       "  <div class=\"trialStatus\">\n",
       "    <h3>Trial Status</h3>\n",
       "    <table>\n",
       "<thead>\n",
       "<tr><th>Trial name                      </th><th>status    </th><th>loc                </th><th style=\"text-align: right;\">  dp</th><th style=\"text-align: right;\">  k1</th><th style=\"text-align: right;\">  k2</th><th style=\"text-align: right;\">  k3</th><th style=\"text-align: right;\">  k4</th><th style=\"text-align: right;\">        lr</th><th style=\"text-align: right;\">  iter</th><th style=\"text-align: right;\">  total time (s)</th><th style=\"text-align: right;\">    loss</th><th style=\"text-align: right;\">  accuracy</th><th style=\"text-align: right;\">      f1</th></tr>\n",
       "</thead>\n",
       "<tbody>\n",
       "<tr><td>tune_with_parameters_cd2c3_00000</td><td>RUNNING   </td><td>10.211.4.28:1980526</td><td style=\"text-align: right;\"> 0.5</td><td style=\"text-align: right;\">   5</td><td style=\"text-align: right;\">   1</td><td style=\"text-align: right;\">   1</td><td style=\"text-align: right;\">   1</td><td style=\"text-align: right;\">0.0196522 </td><td style=\"text-align: right;\">    55</td><td style=\"text-align: right;\">         733.604</td><td style=\"text-align: right;\">0.429649</td><td style=\"text-align: right;\">  0.831333</td><td style=\"text-align: right;\">0.812371</td></tr>\n",
       "<tr><td>tune_with_parameters_cd2c3_00003</td><td>RUNNING   </td><td>10.211.4.28:2000354</td><td style=\"text-align: right;\"> 0.1</td><td style=\"text-align: right;\">   1</td><td style=\"text-align: right;\">   3</td><td style=\"text-align: right;\">   1</td><td style=\"text-align: right;\">   5</td><td style=\"text-align: right;\">0.00862472</td><td style=\"text-align: right;\">     7</td><td style=\"text-align: right;\">         136.033</td><td style=\"text-align: right;\">0.53191 </td><td style=\"text-align: right;\">  0.816   </td><td style=\"text-align: right;\">0.799258</td></tr>\n",
       "<tr><td>tune_with_parameters_cd2c3_00004</td><td>PENDING   </td><td>                   </td><td style=\"text-align: right;\"> 0.1</td><td style=\"text-align: right;\">   1</td><td style=\"text-align: right;\">   3</td><td style=\"text-align: right;\">   1</td><td style=\"text-align: right;\">   1</td><td style=\"text-align: right;\">0.00141138</td><td style=\"text-align: right;\">      </td><td style=\"text-align: right;\">                </td><td style=\"text-align: right;\">        </td><td style=\"text-align: right;\">          </td><td style=\"text-align: right;\">        </td></tr>\n",
       "<tr><td>tune_with_parameters_cd2c3_00005</td><td>PENDING   </td><td>                   </td><td style=\"text-align: right;\"> 0.2</td><td style=\"text-align: right;\">   1</td><td style=\"text-align: right;\">   3</td><td style=\"text-align: right;\">   3</td><td style=\"text-align: right;\">   5</td><td style=\"text-align: right;\">0.0245114 </td><td style=\"text-align: right;\">      </td><td style=\"text-align: right;\">                </td><td style=\"text-align: right;\">        </td><td style=\"text-align: right;\">          </td><td style=\"text-align: right;\">        </td></tr>\n",
       "<tr><td>tune_with_parameters_cd2c3_00006</td><td>PENDING   </td><td>                   </td><td style=\"text-align: right;\"> 0.5</td><td style=\"text-align: right;\">   3</td><td style=\"text-align: right;\">   3</td><td style=\"text-align: right;\">   5</td><td style=\"text-align: right;\">   3</td><td style=\"text-align: right;\">0.0371326 </td><td style=\"text-align: right;\">      </td><td style=\"text-align: right;\">                </td><td style=\"text-align: right;\">        </td><td style=\"text-align: right;\">          </td><td style=\"text-align: right;\">        </td></tr>\n",
       "<tr><td>tune_with_parameters_cd2c3_00007</td><td>PENDING   </td><td>                   </td><td style=\"text-align: right;\"> 0.1</td><td style=\"text-align: right;\">   5</td><td style=\"text-align: right;\">   3</td><td style=\"text-align: right;\">   5</td><td style=\"text-align: right;\">   3</td><td style=\"text-align: right;\">0.00138199</td><td style=\"text-align: right;\">      </td><td style=\"text-align: right;\">                </td><td style=\"text-align: right;\">        </td><td style=\"text-align: right;\">          </td><td style=\"text-align: right;\">        </td></tr>\n",
       "<tr><td>tune_with_parameters_cd2c3_00008</td><td>PENDING   </td><td>                   </td><td style=\"text-align: right;\"> 0.1</td><td style=\"text-align: right;\">   3</td><td style=\"text-align: right;\">   5</td><td style=\"text-align: right;\">   5</td><td style=\"text-align: right;\">   1</td><td style=\"text-align: right;\">0.00528562</td><td style=\"text-align: right;\">      </td><td style=\"text-align: right;\">                </td><td style=\"text-align: right;\">        </td><td style=\"text-align: right;\">          </td><td style=\"text-align: right;\">        </td></tr>\n",
       "<tr><td>tune_with_parameters_cd2c3_00009</td><td>PENDING   </td><td>                   </td><td style=\"text-align: right;\"> 0.2</td><td style=\"text-align: right;\">   3</td><td style=\"text-align: right;\">   3</td><td style=\"text-align: right;\">   5</td><td style=\"text-align: right;\">   3</td><td style=\"text-align: right;\">0.0165916 </td><td style=\"text-align: right;\">      </td><td style=\"text-align: right;\">                </td><td style=\"text-align: right;\">        </td><td style=\"text-align: right;\">          </td><td style=\"text-align: right;\">        </td></tr>\n",
       "<tr><td>tune_with_parameters_cd2c3_00001</td><td>TERMINATED</td><td>10.211.4.28:1980527</td><td style=\"text-align: right;\"> 0.5</td><td style=\"text-align: right;\">   1</td><td style=\"text-align: right;\">   3</td><td style=\"text-align: right;\">   5</td><td style=\"text-align: right;\">   5</td><td style=\"text-align: right;\">0.0796983 </td><td style=\"text-align: right;\">    15</td><td style=\"text-align: right;\">         159.125</td><td style=\"text-align: right;\">0.530281</td><td style=\"text-align: right;\">  0.78    </td><td style=\"text-align: right;\">0.762895</td></tr>\n",
       "<tr><td>tune_with_parameters_cd2c3_00002</td><td>TERMINATED</td><td>10.211.4.28:1985810</td><td style=\"text-align: right;\"> 0.5</td><td style=\"text-align: right;\">   5</td><td style=\"text-align: right;\">   5</td><td style=\"text-align: right;\">   1</td><td style=\"text-align: right;\">   5</td><td style=\"text-align: right;\">0.0401759 </td><td style=\"text-align: right;\">    30</td><td style=\"text-align: right;\">         414.308</td><td style=\"text-align: right;\">0.468548</td><td style=\"text-align: right;\">  0.818667</td><td style=\"text-align: right;\">0.80195 </td></tr>\n",
       "</tbody>\n",
       "</table>\n",
       "  </div>\n",
       "</div>\n",
       "<style>\n",
       ".tuneStatus {\n",
       "  color: var(--jp-ui-font-color1);\n",
       "}\n",
       ".tuneStatus .systemInfo {\n",
       "  display: flex;\n",
       "  flex-direction: column;\n",
       "}\n",
       ".tuneStatus td {\n",
       "  white-space: nowrap;\n",
       "}\n",
       ".tuneStatus .trialStatus {\n",
       "  display: flex;\n",
       "  flex-direction: column;\n",
       "}\n",
       ".tuneStatus h3 {\n",
       "  font-weight: bold;\n",
       "}\n",
       ".tuneStatus .hDivider {\n",
       "  border-bottom-width: var(--jp-border-width);\n",
       "  border-bottom-color: var(--jp-border-color0);\n",
       "  border-bottom-style: solid;\n",
       "}\n",
       ".tuneStatus .vDivider {\n",
       "  border-left-width: var(--jp-border-width);\n",
       "  border-left-color: var(--jp-border-color0);\n",
       "  border-left-style: solid;\n",
       "  margin: 0.5em 1em 0.5em 1em;\n",
       "}\n",
       "</style>\n"
      ],
      "text/plain": [
       "<IPython.core.display.HTML object>"
      ]
     },
     "metadata": {},
     "output_type": "display_data"
    },
    {
     "name": "stderr",
     "output_type": "stream",
     "text": [
      "2024-08-30 02:54:32,718\tWARNING tune_controller.py:2132 -- The maximum number of pending trials has been automatically set to the number of available cluster CPUs, which is high (281 CPUs/pending trials). If you're running an experiment with a large number of trials, this could lead to scheduling overhead. In this case, consider setting the `TUNE_MAX_PENDING_TRIALS_PG` environment variable to the desired maximum number of concurrent pending trials.\n",
      "2024-08-30 02:54:32,787\tWARNING tune_controller.py:2132 -- The maximum number of pending trials has been automatically set to the number of available cluster CPUs, which is high (281 CPUs/pending trials). If you're running an experiment with a large number of trials, this could lead to scheduling overhead. In this case, consider setting the `TUNE_MAX_PENDING_TRIALS_PG` environment variable to the desired maximum number of concurrent pending trials.\n",
      "\u001b[36m(tune_with_parameters pid=1980526)\u001b[0m /users/k23058970/miniforge3/envs/Training/lib/python3.10/site-packages/torch/nn/modules/lazy.py:181: UserWarning: Lazy modules are a new feature under heavy development so changes to the API or functionality can happen at any moment.\n",
      "\u001b[36m(tune_with_parameters pid=1980526)\u001b[0m   warnings.warn('Lazy modules are a new feature under heavy development '\n"
     ]
    },
    {
     "name": "stdout",
     "output_type": "stream",
     "text": [
      "\u001b[36m(tune_with_parameters pid=1980526)\u001b[0m loss: 1.182\n",
      "\u001b[36m(tune_with_parameters pid=1980526)\u001b[0m loss: 1.123\u001b[32m [repeated 18x across cluster] (Ray deduplicates logs by default. Set RAY_DEDUP_LOGS=0 to disable log deduplication, or see https://docs.ray.io/en/master/ray-observability/user-guides/configure-logging.html#log-deduplication for more options.)\u001b[0m\n"
     ]
    },
    {
     "name": "stderr",
     "output_type": "stream",
     "text": [
      "Val Epoch:0: 0it [00:00, ?it/s]1980526)\u001b[0m \n",
      "\u001b[36m(tune_with_parameters pid=1980527)\u001b[0m /users/k23058970/miniforge3/envs/Training/lib/python3.10/site-packages/torch/nn/modules/lazy.py:181: UserWarning: Lazy modules are a new feature under heavy development so changes to the API or functionality can happen at any moment.\n",
      "\u001b[36m(tune_with_parameters pid=1980527)\u001b[0m   warnings.warn('Lazy modules are a new feature under heavy development '\n",
      "Val Epoch:0: 1it [00:01,  1.45s/it]526)\u001b[0m \n"
     ]
    },
    {
     "name": "stdout",
     "output_type": "stream",
     "text": [
      "\u001b[36m(tune_with_parameters pid=1980527)\u001b[0m /tmp/tmp2najq2x2/checkpoint.pt\n",
      "\u001b[36m(tune_with_parameters pid=1980527)\u001b[0m loss: 1.100\u001b[32m [repeated 19x across cluster]\u001b[0m\n",
      "\u001b[36m(tune_with_parameters pid=1980526)\u001b[0m /tmp/tmprewmnbap/checkpoint.pt\n"
     ]
    },
    {
     "name": "stderr",
     "output_type": "stream",
     "text": [
      "\u001b[36m(tune_with_parameters pid=1980527)\u001b[0m Checkpoint successfully created at: Checkpoint(filesystem=local, path=/scratch/users/k23058970/Spectral-Training-Scripts/results/Single Peak LRCN Null/tune_with_parameters_2024-08-30_02-53-25/tune_with_parameters_cd2c3_00001_1_dp=0.5000,k1=1,k2=3,k3=5,k4=5,lr=0.0797_2024-08-30_02-54-33/checkpoint_000000)\n"
     ]
    },
    {
     "name": "stdout",
     "output_type": "stream",
     "text": [
      "\u001b[36m(tune_with_parameters pid=1980527)\u001b[0m loss: 1.100\u001b[32m [repeated 11x across cluster]\u001b[0m\n",
      "\u001b[36m(tune_with_parameters pid=1980527)\u001b[0m loss: 1.099\u001b[32m [repeated 18x across cluster]\u001b[0m\n"
     ]
    },
    {
     "name": "stderr",
     "output_type": "stream",
     "text": [
      "Val Epoch:1: 0it [00:00, ?it/s]\u001b[32m [repeated 2x across cluster]\u001b[0m\n",
      "Val Epoch:0: 24it [00:01, 16.20it/s]\u001b[32m [repeated 14x across cluster]\u001b[0m\n",
      "\u001b[36m(tune_with_parameters pid=1980526)\u001b[0m Checkpoint successfully created at: Checkpoint(filesystem=local, path=/scratch/users/k23058970/Spectral-Training-Scripts/results/Single Peak LRCN Null/tune_with_parameters_2024-08-30_02-53-25/tune_with_parameters_cd2c3_00000_0_dp=0.5000,k1=5,k2=1,k3=1,k4=1,lr=0.0197_2024-08-30_02-54-32/checkpoint_000000)\n"
     ]
    },
    {
     "name": "stdout",
     "output_type": "stream",
     "text": [
      "\u001b[36m(tune_with_parameters pid=1980527)\u001b[0m /tmp/tmpz7drnoa1/checkpoint.pt\n",
      "\u001b[36m(tune_with_parameters pid=1980526)\u001b[0m loss: 1.076\u001b[32m [repeated 9x across cluster]\u001b[0m\n"
     ]
    },
    {
     "name": "stderr",
     "output_type": "stream",
     "text": [
      "\u001b[36m(tune_with_parameters pid=1980527)\u001b[0m Checkpoint successfully created at: Checkpoint(filesystem=local, path=/scratch/users/k23058970/Spectral-Training-Scripts/results/Single Peak LRCN Null/tune_with_parameters_2024-08-30_02-53-25/tune_with_parameters_cd2c3_00001_1_dp=0.5000,k1=1,k2=3,k3=5,k4=5,lr=0.0797_2024-08-30_02-54-33/checkpoint_000001)\n",
      "Val Epoch:1: 10it [00:01, 13.90it/s]26)\u001b[0m \n",
      "Val Epoch:1: 0it [00:00, ?it/s]1980526)\u001b[0m \n",
      "Val Epoch:1: 24it [00:02,  9.84it/s]\u001b[32m [repeated 15x across cluster]\u001b[0m\n"
     ]
    },
    {
     "name": "stdout",
     "output_type": "stream",
     "text": [
      "\u001b[36m(tune_with_parameters pid=1980526)\u001b[0m /tmp/tmpnp61uiqg/checkpoint.pt\n",
      "\u001b[36m(tune_with_parameters pid=1980527)\u001b[0m loss: 1.098\u001b[32m [repeated 12x across cluster]\u001b[0m\n",
      "\u001b[36m(tune_with_parameters pid=1980527)\u001b[0m loss: 1.098\u001b[32m [repeated 20x across cluster]\u001b[0m\n"
     ]
    },
    {
     "name": "stderr",
     "output_type": "stream",
     "text": [
      "Val Epoch:2: 0it [00:00, ?it/s]1980527)\u001b[0m \n",
      "\u001b[36m(tune_with_parameters pid=1980526)\u001b[0m Checkpoint successfully created at: Checkpoint(filesystem=local, path=/scratch/users/k23058970/Spectral-Training-Scripts/results/Single Peak LRCN Null/tune_with_parameters_2024-08-30_02-53-25/tune_with_parameters_cd2c3_00000_0_dp=0.5000,k1=5,k2=1,k3=1,k4=1,lr=0.0197_2024-08-30_02-54-32/checkpoint_000001)\n",
      "Val Epoch:2: 2it [00:00,  7.85it/s]527)\u001b[0m \n",
      "Val Epoch:2: 5it [00:00, 14.80it/s]527)\u001b[0m \n",
      "Val Epoch:2: 11it [00:00, 23.17it/s]27)\u001b[0m \n",
      "Val Epoch:2: 15it [00:00, 27.68it/s]27)\u001b[0m \n",
      "Val Epoch:2: 19it [00:00, 25.44it/s]27)\u001b[0m \n",
      "Val Epoch:2: 24it [00:01, 22.95it/s]27)\u001b[0m \n"
     ]
    },
    {
     "name": "stdout",
     "output_type": "stream",
     "text": [
      "\u001b[36m(tune_with_parameters pid=1980527)\u001b[0m loss: 1.096\u001b[32m [repeated 7x across cluster]\u001b[0m\n",
      "\u001b[36m(tune_with_parameters pid=1980526)\u001b[0m /tmp/tmpll_mqowx/checkpoint.pt\n"
     ]
    },
    {
     "name": "stderr",
     "output_type": "stream",
     "text": [
      "\u001b[36m(tune_with_parameters pid=1980526)\u001b[0m Checkpoint successfully created at: Checkpoint(filesystem=local, path=/scratch/users/k23058970/Spectral-Training-Scripts/results/Single Peak LRCN Null/tune_with_parameters_2024-08-30_02-53-25/tune_with_parameters_cd2c3_00000_0_dp=0.5000,k1=5,k2=1,k3=1,k4=1,lr=0.0197_2024-08-30_02-54-32/checkpoint_000002)\n"
     ]
    },
    {
     "name": "stdout",
     "output_type": "stream",
     "text": [
      "\u001b[36m(tune_with_parameters pid=1980527)\u001b[0m loss: 1.094\u001b[32m [repeated 11x across cluster]\u001b[0m\n",
      "\u001b[36m(tune_with_parameters pid=1980526)\u001b[0m loss: 0.559\u001b[32m [repeated 19x across cluster]\u001b[0m\n"
     ]
    },
    {
     "name": "stderr",
     "output_type": "stream",
     "text": [
      "Val Epoch:3: 0it [00:00, ?it/s]\u001b[32m [repeated 2x across cluster]\u001b[0m\n",
      "Val Epoch:2: 24it [00:01, 14.02it/s]\u001b[32m [repeated 9x across cluster]\u001b[0m\n"
     ]
    },
    {
     "name": "stdout",
     "output_type": "stream",
     "text": [
      "\u001b[36m(tune_with_parameters pid=1980527)\u001b[0m /tmp/tmpi7otlzm4/checkpoint.pt\n"
     ]
    },
    {
     "name": "stderr",
     "output_type": "stream",
     "text": [
      "\u001b[36m(tune_with_parameters pid=1980527)\u001b[0m Checkpoint successfully created at: Checkpoint(filesystem=local, path=/scratch/users/k23058970/Spectral-Training-Scripts/results/Single Peak LRCN Null/tune_with_parameters_2024-08-30_02-53-25/tune_with_parameters_cd2c3_00001_1_dp=0.5000,k1=1,k2=3,k3=5,k4=5,lr=0.0797_2024-08-30_02-54-33/checkpoint_000002)\n"
     ]
    },
    {
     "name": "stdout",
     "output_type": "stream",
     "text": [
      "\u001b[36m(tune_with_parameters pid=1980527)\u001b[0m loss: 1.071\u001b[32m [repeated 10x across cluster]\u001b[0m\n"
     ]
    },
    {
     "name": "stderr",
     "output_type": "stream",
     "text": [
      "Val Epoch:3: 0it [00:00, ?it/s]1980526)\u001b[0m \n",
      "Val Epoch:3: 1it [00:00,  1.91it/s]\u001b[32m [repeated 9x across cluster]\u001b[0m\n"
     ]
    },
    {
     "name": "stdout",
     "output_type": "stream",
     "text": [
      "\u001b[36m(tune_with_parameters pid=1980526)\u001b[0m /tmp/tmpdwc9almi/checkpoint.pt\n",
      "\u001b[36m(tune_with_parameters pid=1980526)\u001b[0m loss: 0.501\u001b[32m [repeated 14x across cluster]\u001b[0m\n"
     ]
    },
    {
     "name": "stderr",
     "output_type": "stream",
     "text": [
      "Val Epoch:4: 0it [00:00, ?it/s]1980527)\u001b[0m \n",
      "\u001b[36m(tune_with_parameters pid=1980526)\u001b[0m Checkpoint successfully created at: Checkpoint(filesystem=local, path=/scratch/users/k23058970/Spectral-Training-Scripts/results/Single Peak LRCN Null/tune_with_parameters_2024-08-30_02-53-25/tune_with_parameters_cd2c3_00000_0_dp=0.5000,k1=5,k2=1,k3=1,k4=1,lr=0.0197_2024-08-30_02-54-32/checkpoint_000003)\n",
      "Val Epoch:3: 24it [00:01, 15.36it/s]\u001b[32m [repeated 8x across cluster]\u001b[0m\n"
     ]
    },
    {
     "name": "stdout",
     "output_type": "stream",
     "text": [
      "\u001b[36m(tune_with_parameters pid=1980526)\u001b[0m loss: 0.496\u001b[32m [repeated 17x across cluster]\u001b[0m\n",
      "\u001b[36m(tune_with_parameters pid=1980527)\u001b[0m /tmp/tmpuxdaq0kh/checkpoint.pt\n"
     ]
    },
    {
     "name": "stderr",
     "output_type": "stream",
     "text": [
      "\u001b[36m(tune_with_parameters pid=1980527)\u001b[0m Checkpoint successfully created at: Checkpoint(filesystem=local, path=/scratch/users/k23058970/Spectral-Training-Scripts/results/Single Peak LRCN Null/tune_with_parameters_2024-08-30_02-53-25/tune_with_parameters_cd2c3_00001_1_dp=0.5000,k1=1,k2=3,k3=5,k4=5,lr=0.0797_2024-08-30_02-54-33/checkpoint_000003)\n",
      "Val Epoch:4: 0it [00:00, ?it/s]1980526)\u001b[0m \n",
      "Val Epoch:4: 24it [00:01, 14.93it/s]\u001b[32m [repeated 9x across cluster]\u001b[0m\n"
     ]
    },
    {
     "name": "stdout",
     "output_type": "stream",
     "text": [
      "\u001b[36m(tune_with_parameters pid=1980527)\u001b[0m loss: 0.654\u001b[32m [repeated 9x across cluster]\u001b[0m\n",
      "\u001b[36m(tune_with_parameters pid=1980526)\u001b[0m /tmp/tmp_9nqrwlo/checkpoint.pt\n"
     ]
    },
    {
     "name": "stderr",
     "output_type": "stream",
     "text": [
      "\u001b[36m(tune_with_parameters pid=1980526)\u001b[0m Checkpoint successfully created at: Checkpoint(filesystem=local, path=/scratch/users/k23058970/Spectral-Training-Scripts/results/Single Peak LRCN Null/tune_with_parameters_2024-08-30_02-53-25/tune_with_parameters_cd2c3_00000_0_dp=0.5000,k1=5,k2=1,k3=1,k4=1,lr=0.0197_2024-08-30_02-54-32/checkpoint_000004)\n"
     ]
    },
    {
     "name": "stdout",
     "output_type": "stream",
     "text": [
      "\u001b[36m(tune_with_parameters pid=1980527)\u001b[0m loss: 0.608\u001b[32m [repeated 13x across cluster]\u001b[0m\n"
     ]
    },
    {
     "name": "stderr",
     "output_type": "stream",
     "text": [
      "Val Epoch:5: 0it [00:00, ?it/s]1980527)\u001b[0m \n",
      "Val Epoch:4: 24it [00:01, 12.19it/s]\u001b[32m [repeated 10x across cluster]\u001b[0m\n"
     ]
    },
    {
     "name": "stdout",
     "output_type": "stream",
     "text": [
      "\u001b[36m(tune_with_parameters pid=1980526)\u001b[0m loss: 0.467\u001b[32m [repeated 15x across cluster]\u001b[0m\n",
      "\u001b[36m(tune_with_parameters pid=1980527)\u001b[0m /tmp/tmpel55tj_j/checkpoint.pt\n"
     ]
    },
    {
     "name": "stderr",
     "output_type": "stream",
     "text": [
      "\u001b[36m(tune_with_parameters pid=1980527)\u001b[0m Checkpoint successfully created at: Checkpoint(filesystem=local, path=/scratch/users/k23058970/Spectral-Training-Scripts/results/Single Peak LRCN Null/tune_with_parameters_2024-08-30_02-53-25/tune_with_parameters_cd2c3_00001_1_dp=0.5000,k1=1,k2=3,k3=5,k4=5,lr=0.0797_2024-08-30_02-54-33/checkpoint_000004)\n",
      "Val Epoch:5: 0it [00:00, ?it/s]1980526)\u001b[0m \n",
      "Val Epoch:5: 24it [00:01, 12.78it/s]\u001b[32m [repeated 8x across cluster]\u001b[0m\n"
     ]
    },
    {
     "name": "stdout",
     "output_type": "stream",
     "text": [
      "\u001b[36m(tune_with_parameters pid=1980527)\u001b[0m loss: 0.530\u001b[32m [repeated 11x across cluster]\u001b[0m\n",
      "\u001b[36m(tune_with_parameters pid=1980526)\u001b[0m /tmp/tmp4udhlqw2/checkpoint.pt\n"
     ]
    },
    {
     "name": "stderr",
     "output_type": "stream",
     "text": [
      "\u001b[36m(tune_with_parameters pid=1980526)\u001b[0m Checkpoint successfully created at: Checkpoint(filesystem=local, path=/scratch/users/k23058970/Spectral-Training-Scripts/results/Single Peak LRCN Null/tune_with_parameters_2024-08-30_02-53-25/tune_with_parameters_cd2c3_00000_0_dp=0.5000,k1=5,k2=1,k3=1,k4=1,lr=0.0197_2024-08-30_02-54-32/checkpoint_000005)\n"
     ]
    },
    {
     "name": "stdout",
     "output_type": "stream",
     "text": [
      "\u001b[36m(tune_with_parameters pid=1980527)\u001b[0m loss: 0.533\u001b[32m [repeated 14x across cluster]\u001b[0m\n"
     ]
    },
    {
     "name": "stderr",
     "output_type": "stream",
     "text": [
      "Val Epoch:6: 0it [00:00, ?it/s]1980527)\u001b[0m \n",
      "Val Epoch:5: 24it [00:01, 15.00it/s]\u001b[32m [repeated 9x across cluster]\u001b[0m\n"
     ]
    },
    {
     "name": "stdout",
     "output_type": "stream",
     "text": [
      "\u001b[36m(tune_with_parameters pid=1980527)\u001b[0m loss: 0.625\u001b[32m [repeated 14x across cluster]\u001b[0m\n"
     ]
    },
    {
     "name": "stderr",
     "output_type": "stream",
     "text": [
      "Val Epoch:6: 0it [00:00, ?it/s]1980526)\u001b[0m \n",
      "Val Epoch:6: 24it [00:01, 17.36it/s]\u001b[32m [repeated 8x across cluster]\u001b[0m\n"
     ]
    },
    {
     "name": "stdout",
     "output_type": "stream",
     "text": [
      "\u001b[36m(tune_with_parameters pid=1980527)\u001b[0m loss: 0.515\u001b[32m [repeated 14x across cluster]\u001b[0m\n",
      "\u001b[36m(tune_with_parameters pid=1980527)\u001b[0m \n",
      "\u001b[36m(tune_with_parameters pid=1980526)\u001b[0m loss: 0.454\u001b[32m [repeated 18x across cluster]\u001b[0m\n"
     ]
    },
    {
     "name": "stderr",
     "output_type": "stream",
     "text": [
      "Val Epoch:7: 0it [00:00, ?it/s]1980527)\u001b[0m \n",
      "Val Epoch:6: 24it [00:02,  9.47it/s]\u001b[32m [repeated 9x across cluster]\u001b[0m\n"
     ]
    },
    {
     "name": "stdout",
     "output_type": "stream",
     "text": [
      "\u001b[36m(tune_with_parameters pid=1980527)\u001b[0m /tmp/tmpjqbm4x0x/checkpoint.pt\n"
     ]
    },
    {
     "name": "stderr",
     "output_type": "stream",
     "text": [
      "\u001b[36m(tune_with_parameters pid=1980527)\u001b[0m Checkpoint successfully created at: Checkpoint(filesystem=local, path=/scratch/users/k23058970/Spectral-Training-Scripts/results/Single Peak LRCN Null/tune_with_parameters_2024-08-30_02-53-25/tune_with_parameters_cd2c3_00001_1_dp=0.5000,k1=1,k2=3,k3=5,k4=5,lr=0.0797_2024-08-30_02-54-33/checkpoint_000005)\n"
     ]
    },
    {
     "name": "stdout",
     "output_type": "stream",
     "text": [
      "\u001b[36m(tune_with_parameters pid=1980527)\u001b[0m loss: 0.586\u001b[32m [repeated 6x across cluster]\u001b[0m\n"
     ]
    },
    {
     "name": "stderr",
     "output_type": "stream",
     "text": [
      "Val Epoch:7: 0it [00:00, ?it/s]1980526)\u001b[0m \n",
      "Val Epoch:7: 24it [00:01, 15.40it/s]\u001b[32m [repeated 7x across cluster]\u001b[0m\n"
     ]
    },
    {
     "name": "stdout",
     "output_type": "stream",
     "text": [
      "\u001b[36m(tune_with_parameters pid=1980527)\u001b[0m loss: 0.504\u001b[32m [repeated 14x across cluster]\u001b[0m\n",
      "\u001b[36m(tune_with_parameters pid=1980526)\u001b[0m /tmp/tmp5v2xpnxe/checkpoint.pt\n"
     ]
    },
    {
     "name": "stderr",
     "output_type": "stream",
     "text": [
      "\u001b[36m(tune_with_parameters pid=1980526)\u001b[0m Checkpoint successfully created at: Checkpoint(filesystem=local, path=/scratch/users/k23058970/Spectral-Training-Scripts/results/Single Peak LRCN Null/tune_with_parameters_2024-08-30_02-53-25/tune_with_parameters_cd2c3_00000_0_dp=0.5000,k1=5,k2=1,k3=1,k4=1,lr=0.0197_2024-08-30_02-54-32/checkpoint_000006)\n"
     ]
    },
    {
     "name": "stdout",
     "output_type": "stream",
     "text": [
      "\u001b[36m(tune_with_parameters pid=1980526)\u001b[0m loss: 0.445\u001b[32m [repeated 14x across cluster]\u001b[0m\n"
     ]
    },
    {
     "name": "stderr",
     "output_type": "stream",
     "text": [
      "Val Epoch:8: 0it [00:00, ?it/s]1980527)\u001b[0m \n",
      "Val Epoch:7: 24it [00:01, 14.88it/s]\u001b[32m [repeated 9x across cluster]\u001b[0m\n"
     ]
    },
    {
     "name": "stdout",
     "output_type": "stream",
     "text": [
      "\u001b[36m(tune_with_parameters pid=1980526)\u001b[0m loss: 0.451\u001b[32m [repeated 8x across cluster]\u001b[0m\n"
     ]
    },
    {
     "name": "stderr",
     "output_type": "stream",
     "text": [
      "Val Epoch:8: 0it [00:00, ?it/s]1980526)\u001b[0m \n",
      "Val Epoch:8: 24it [00:02, 10.22it/s]\u001b[32m [repeated 8x across cluster]\u001b[0m\n"
     ]
    },
    {
     "name": "stdout",
     "output_type": "stream",
     "text": [
      "\u001b[36m(tune_with_parameters pid=1980526)\u001b[0m /tmp/tmpju8bne86/checkpoint.pt\n"
     ]
    },
    {
     "name": "stderr",
     "output_type": "stream",
     "text": [
      "\u001b[36m(tune_with_parameters pid=1980526)\u001b[0m Checkpoint successfully created at: Checkpoint(filesystem=local, path=/scratch/users/k23058970/Spectral-Training-Scripts/results/Single Peak LRCN Null/tune_with_parameters_2024-08-30_02-53-25/tune_with_parameters_cd2c3_00000_0_dp=0.5000,k1=5,k2=1,k3=1,k4=1,lr=0.0197_2024-08-30_02-54-32/checkpoint_000007)\n"
     ]
    },
    {
     "name": "stdout",
     "output_type": "stream",
     "text": [
      "\u001b[36m(tune_with_parameters pid=1980526)\u001b[0m loss: 0.496\u001b[32m [repeated 7x across cluster]\u001b[0m\n",
      "\u001b[36m(tune_with_parameters pid=1980526)\u001b[0m loss: 0.447\u001b[32m [repeated 15x across cluster]\u001b[0m\n"
     ]
    },
    {
     "name": "stderr",
     "output_type": "stream",
     "text": [
      "Val Epoch:9: 0it [00:00, ?it/s]1980526)\u001b[0m \n",
      "Val Epoch:8: 24it [00:01, 16.68it/s]\u001b[32m [repeated 6x across cluster]\u001b[0m\n"
     ]
    },
    {
     "name": "stdout",
     "output_type": "stream",
     "text": [
      "\u001b[36m(tune_with_parameters pid=1980526)\u001b[0m loss: 0.449\u001b[32m [repeated 4x across cluster]\u001b[0m\n"
     ]
    },
    {
     "name": "stderr",
     "output_type": "stream",
     "text": [
      "\u001b[36m(tune_with_parameters pid=1985810)\u001b[0m /users/k23058970/miniforge3/envs/Training/lib/python3.10/site-packages/torch/nn/modules/lazy.py:181: UserWarning: Lazy modules are a new feature under heavy development so changes to the API or functionality can happen at any moment.\n",
      "\u001b[36m(tune_with_parameters pid=1985810)\u001b[0m   warnings.warn('Lazy modules are a new feature under heavy development '\n",
      "Val Epoch:9: 24it [00:02, 11.26it/s]\u001b[32m [repeated 8x across cluster]\u001b[0m\n"
     ]
    },
    {
     "name": "stdout",
     "output_type": "stream",
     "text": [
      "\u001b[36m(tune_with_parameters pid=1980526)\u001b[0m loss: 0.448\u001b[32m [repeated 10x across cluster]\u001b[0m\n"
     ]
    },
    {
     "name": "stderr",
     "output_type": "stream",
     "text": [
      "Val Epoch:10: 0it [00:00, ?it/s]980526)\u001b[0m \n",
      "Val Epoch:10: 1it [00:00,  2.04it/s]26)\u001b[0m \n",
      "Val Epoch:10: 6it [00:00, 12.27it/s]26)\u001b[0m \n",
      "Val Epoch:10: 10it [00:00, 17.54it/s]6)\u001b[0m \n",
      "Val Epoch:10: 13it [00:00, 20.10it/s]6)\u001b[0m \n",
      "Val Epoch:10: 18it [00:01, 20.69it/s]6)\u001b[0m \n",
      "Val Epoch:10: 24it [00:02, 11.05it/s]6)\u001b[0m \n"
     ]
    },
    {
     "name": "stdout",
     "output_type": "stream",
     "text": [
      "\u001b[36m(tune_with_parameters pid=1980526)\u001b[0m loss: 0.431\u001b[32m [repeated 9x across cluster]\u001b[0m\n",
      "\u001b[36m(tune_with_parameters pid=1980526)\u001b[0m loss: 0.444\u001b[32m [repeated 19x across cluster]\u001b[0m\n"
     ]
    },
    {
     "name": "stderr",
     "output_type": "stream",
     "text": [
      "Val Epoch:11: 0it [00:00, ?it/s]980526)\u001b[0m \n",
      "Val Epoch:11: 1it [00:00,  3.91it/s]26)\u001b[0m \n",
      "Val Epoch:11: 2it [00:00,  5.80it/s]26)\u001b[0m \n",
      "Val Epoch:11: 7it [00:00, 18.67it/s]26)\u001b[0m \n",
      "Val Epoch:11: 11it [00:00, 22.46it/s]6)\u001b[0m \n"
     ]
    },
    {
     "name": "stdout",
     "output_type": "stream",
     "text": [
      "\u001b[36m(tune_with_parameters pid=1985810)\u001b[0m loss: 1.130\u001b[32m [repeated 17x across cluster]\u001b[0m\n"
     ]
    },
    {
     "name": "stderr",
     "output_type": "stream",
     "text": [
      "Val Epoch:11: 15it [00:00, 23.05it/s]6)\u001b[0m \n",
      "Val Epoch:11: 18it [00:01, 17.38it/s]6)\u001b[0m \n",
      "Val Epoch:11: 20it [00:01, 16.69it/s]6)\u001b[0m \n",
      "Val Epoch:11: 24it [00:01, 20.96it/s]6)\u001b[0m \n",
      "Val Epoch:11: 24it [00:01, 16.02it/s]6)\u001b[0m \n",
      "Val Epoch:0: 0it [00:00, ?it/s]1985810)\u001b[0m \n",
      "Val Epoch:0: 15it [00:01, 17.96it/s]\u001b[32m [repeated 5x across cluster]\u001b[0m\n"
     ]
    },
    {
     "name": "stdout",
     "output_type": "stream",
     "text": [
      "\u001b[36m(tune_with_parameters pid=1980526)\u001b[0m loss: 0.455\u001b[32m [repeated 6x across cluster]\u001b[0m\n",
      "\u001b[36m(tune_with_parameters pid=1985810)\u001b[0m /tmp/tmpyuc6damw/checkpoint.pt\n"
     ]
    },
    {
     "name": "stderr",
     "output_type": "stream",
     "text": [
      "\u001b[36m(tune_with_parameters pid=1985810)\u001b[0m Checkpoint successfully created at: Checkpoint(filesystem=local, path=/scratch/users/k23058970/Spectral-Training-Scripts/results/Single Peak LRCN Null/tune_with_parameters_2024-08-30_02-53-25/tune_with_parameters_cd2c3_00002_2_dp=0.5000,k1=5,k2=5,k3=1,k4=5,lr=0.0402_2024-08-30_02-54-33/checkpoint_000000)\n"
     ]
    },
    {
     "name": "stdout",
     "output_type": "stream",
     "text": [
      "\u001b[36m(tune_with_parameters pid=1985810)\u001b[0m loss: 0.711\u001b[32m [repeated 16x across cluster]\u001b[0m\n"
     ]
    },
    {
     "name": "stderr",
     "output_type": "stream",
     "text": [
      "Val Epoch:12: 0it [00:00, ?it/s]980526)\u001b[0m \n",
      "Val Epoch:0: 24it [00:01, 13.10it/s]\u001b[32m [repeated 3x across cluster]\u001b[0m\n"
     ]
    },
    {
     "name": "stdout",
     "output_type": "stream",
     "text": [
      "\u001b[36m(tune_with_parameters pid=1985810)\u001b[0m loss: 0.623\u001b[32m [repeated 14x across cluster]\u001b[0m\n"
     ]
    },
    {
     "name": "stderr",
     "output_type": "stream",
     "text": [
      "Val Epoch:1: 0it [00:00, ?it/s]1985810)\u001b[0m \n",
      "Val Epoch:1: 1it [00:01,  1.00s/it]\u001b[32m [repeated 10x across cluster]\u001b[0m\n"
     ]
    },
    {
     "name": "stdout",
     "output_type": "stream",
     "text": [
      "\u001b[36m(tune_with_parameters pid=1980526)\u001b[0m loss: 0.429\u001b[32m [repeated 8x across cluster]\u001b[0m\n",
      "\u001b[36m(tune_with_parameters pid=1985810)\u001b[0m /tmp/tmpzgfik7te/checkpoint.pt\n"
     ]
    },
    {
     "name": "stderr",
     "output_type": "stream",
     "text": [
      "\u001b[36m(tune_with_parameters pid=1985810)\u001b[0m Checkpoint successfully created at: Checkpoint(filesystem=local, path=/scratch/users/k23058970/Spectral-Training-Scripts/results/Single Peak LRCN Null/tune_with_parameters_2024-08-30_02-53-25/tune_with_parameters_cd2c3_00002_2_dp=0.5000,k1=5,k2=5,k3=1,k4=5,lr=0.0402_2024-08-30_02-54-33/checkpoint_000001)\n"
     ]
    },
    {
     "name": "stdout",
     "output_type": "stream",
     "text": [
      "\u001b[36m(tune_with_parameters pid=1985810)\u001b[0m loss: 0.526\u001b[32m [repeated 11x across cluster]\u001b[0m\n"
     ]
    },
    {
     "name": "stderr",
     "output_type": "stream",
     "text": [
      "Val Epoch:13: 0it [00:00, ?it/s]980526)\u001b[0m \n",
      "Val Epoch:1: 24it [00:02,  9.32it/s]\u001b[32m [repeated 8x across cluster]\u001b[0m\n"
     ]
    },
    {
     "name": "stdout",
     "output_type": "stream",
     "text": [
      "\u001b[36m(tune_with_parameters pid=1985810)\u001b[0m loss: 0.534\u001b[32m [repeated 17x across cluster]\u001b[0m\n"
     ]
    },
    {
     "name": "stderr",
     "output_type": "stream",
     "text": [
      "Val Epoch:13: 5it [00:00, 17.33it/s]26)\u001b[0m \n",
      "Val Epoch:2: 0it [00:00, ?it/s]1985810)\u001b[0m \n",
      "Val Epoch:2: 1it [00:01,  1.13s/it]\u001b[32m [repeated 8x across cluster]\u001b[0m\n"
     ]
    },
    {
     "name": "stdout",
     "output_type": "stream",
     "text": [
      "\u001b[36m(tune_with_parameters pid=1980526)\u001b[0m loss: 0.441\u001b[32m [repeated 10x across cluster]\u001b[0m\n",
      "\u001b[36m(tune_with_parameters pid=1980526)\u001b[0m loss: 0.433\u001b[32m [repeated 13x across cluster]\u001b[0m\n"
     ]
    },
    {
     "name": "stderr",
     "output_type": "stream",
     "text": [
      "Val Epoch:14: 0it [00:00, ?it/s]980526)\u001b[0m \n",
      "Val Epoch:2: 24it [00:02, 11.76it/s]\u001b[32m [repeated 7x across cluster]\u001b[0m\n"
     ]
    },
    {
     "name": "stdout",
     "output_type": "stream",
     "text": [
      "\u001b[36m(tune_with_parameters pid=1985810)\u001b[0m loss: 0.515\u001b[32m [repeated 16x across cluster]\u001b[0m\n"
     ]
    },
    {
     "name": "stderr",
     "output_type": "stream",
     "text": [
      "Val Epoch:3: 0it [00:00, ?it/s]1985810)\u001b[0m \n",
      "Val Epoch:3: 1it [00:00,  1.33it/s]\u001b[32m [repeated 8x across cluster]\u001b[0m\n"
     ]
    },
    {
     "name": "stdout",
     "output_type": "stream",
     "text": [
      "\u001b[36m(tune_with_parameters pid=1980526)\u001b[0m loss: 0.435\u001b[32m [repeated 11x across cluster]\u001b[0m\n",
      "\u001b[36m(tune_with_parameters pid=1980526)\u001b[0m loss: 0.438\u001b[32m [repeated 16x across cluster]\u001b[0m\n"
     ]
    },
    {
     "name": "stderr",
     "output_type": "stream",
     "text": [
      "Val Epoch:15: 0it [00:00, ?it/s]980526)\u001b[0m \n",
      "Val Epoch:3: 24it [00:02, 10.59it/s]\u001b[32m [repeated 8x across cluster]\u001b[0m\n"
     ]
    },
    {
     "name": "stdout",
     "output_type": "stream",
     "text": [
      "\u001b[36m(tune_with_parameters pid=1980526)\u001b[0m /tmp/tmpj_kxqyf2/checkpoint.pt\n",
      "\u001b[36m(tune_with_parameters pid=1985810)\u001b[0m loss: 0.498\u001b[32m [repeated 12x across cluster]\u001b[0m\n"
     ]
    },
    {
     "name": "stderr",
     "output_type": "stream",
     "text": [
      "\u001b[36m(tune_with_parameters pid=1980526)\u001b[0m Checkpoint successfully created at: Checkpoint(filesystem=local, path=/scratch/users/k23058970/Spectral-Training-Scripts/results/Single Peak LRCN Null/tune_with_parameters_2024-08-30_02-53-25/tune_with_parameters_cd2c3_00000_0_dp=0.5000,k1=5,k2=1,k3=1,k4=1,lr=0.0197_2024-08-30_02-54-32/checkpoint_000008)\n",
      "Val Epoch:4: 0it [00:00, ?it/s]1985810)\u001b[0m \n",
      "Val Epoch:15: 24it [00:01, 15.34it/s]\u001b[32m [repeated 8x across cluster]\u001b[0m\n",
      "Val Epoch:4: 6it [00:00, 21.30it/s]810)\u001b[0m \n"
     ]
    },
    {
     "name": "stdout",
     "output_type": "stream",
     "text": [
      "\u001b[36m(tune_with_parameters pid=1980526)\u001b[0m loss: 0.420\u001b[32m [repeated 8x across cluster]\u001b[0m\n",
      "\u001b[36m(tune_with_parameters pid=1985810)\u001b[0m loss: 0.498\u001b[32m [repeated 17x across cluster]\u001b[0m\n"
     ]
    },
    {
     "name": "stderr",
     "output_type": "stream",
     "text": [
      "Val Epoch:16: 0it [00:00, ?it/s]980526)\u001b[0m \n",
      "Val Epoch:4: 24it [00:00, 24.07it/s]\u001b[32m [repeated 5x across cluster]\u001b[0m\n"
     ]
    },
    {
     "name": "stdout",
     "output_type": "stream",
     "text": [
      "\u001b[36m(tune_with_parameters pid=1985810)\u001b[0m loss: 0.494\u001b[32m [repeated 15x across cluster]\u001b[0m\n"
     ]
    },
    {
     "name": "stderr",
     "output_type": "stream",
     "text": [
      "Val Epoch:5: 0it [00:00, ?it/s]1985810)\u001b[0m \n",
      "Val Epoch:5: 1it [00:00,  2.40it/s]\u001b[32m [repeated 11x across cluster]\u001b[0m\n"
     ]
    },
    {
     "name": "stdout",
     "output_type": "stream",
     "text": [
      "\u001b[36m(tune_with_parameters pid=1985810)\u001b[0m /tmp/tmp1g_na1qk/checkpoint.pt\n"
     ]
    },
    {
     "name": "stderr",
     "output_type": "stream",
     "text": [
      "\u001b[36m(tune_with_parameters pid=1985810)\u001b[0m Checkpoint successfully created at: Checkpoint(filesystem=local, path=/scratch/users/k23058970/Spectral-Training-Scripts/results/Single Peak LRCN Null/tune_with_parameters_2024-08-30_02-53-25/tune_with_parameters_cd2c3_00002_2_dp=0.5000,k1=5,k2=5,k3=1,k4=5,lr=0.0402_2024-08-30_02-54-33/checkpoint_000002)\n"
     ]
    },
    {
     "name": "stdout",
     "output_type": "stream",
     "text": [
      "\u001b[36m(tune_with_parameters pid=1980526)\u001b[0m loss: 0.429\u001b[32m [repeated 7x across cluster]\u001b[0m\n",
      "\u001b[36m(tune_with_parameters pid=1980526)\u001b[0m loss: 0.434\u001b[32m [repeated 18x across cluster]\u001b[0m\n"
     ]
    },
    {
     "name": "stderr",
     "output_type": "stream",
     "text": [
      "Val Epoch:17: 0it [00:00, ?it/s]980526)\u001b[0m \n",
      "Val Epoch:5: 24it [00:01, 17.40it/s]\u001b[32m [repeated 7x across cluster]\u001b[0m\n"
     ]
    },
    {
     "name": "stdout",
     "output_type": "stream",
     "text": [
      "\u001b[36m(tune_with_parameters pid=1985810)\u001b[0m loss: 0.474\u001b[32m [repeated 13x across cluster]\u001b[0m\n"
     ]
    },
    {
     "name": "stderr",
     "output_type": "stream",
     "text": [
      "Val Epoch:6: 0it [00:00, ?it/s]1985810)\u001b[0m \n",
      "Val Epoch:6: 1it [00:00,  1.40it/s]\u001b[32m [repeated 8x across cluster]\u001b[0m\n"
     ]
    },
    {
     "name": "stdout",
     "output_type": "stream",
     "text": [
      "\u001b[36m(tune_with_parameters pid=1980526)\u001b[0m loss: 0.441\u001b[32m [repeated 7x across cluster]\u001b[0m\n",
      "\u001b[36m(tune_with_parameters pid=1985810)\u001b[0m loss: 0.485\u001b[32m [repeated 17x across cluster]\u001b[0m\n"
     ]
    },
    {
     "name": "stderr",
     "output_type": "stream",
     "text": [
      "Val Epoch:18: 0it [00:00, ?it/s]980526)\u001b[0m \n",
      "Val Epoch:6: 24it [00:01, 13.81it/s]\u001b[32m [repeated 8x across cluster]\u001b[0m\n"
     ]
    },
    {
     "name": "stdout",
     "output_type": "stream",
     "text": [
      "\u001b[36m(tune_with_parameters pid=1985810)\u001b[0m loss: 0.480\u001b[32m [repeated 13x across cluster]\u001b[0m\n"
     ]
    },
    {
     "name": "stderr",
     "output_type": "stream",
     "text": [
      "Val Epoch:7: 0it [00:00, ?it/s]1985810)\u001b[0m \n",
      "Val Epoch:18: 24it [00:02,  9.02it/s]\u001b[32m [repeated 9x across cluster]\u001b[0m\n"
     ]
    },
    {
     "name": "stdout",
     "output_type": "stream",
     "text": [
      "\u001b[36m(tune_with_parameters pid=1980526)\u001b[0m loss: 0.430\u001b[32m [repeated 8x across cluster]\u001b[0m\n",
      "\u001b[36m(tune_with_parameters pid=1985810)\u001b[0m /tmp/tmpwlwxz6gp/checkpoint.pt\n"
     ]
    },
    {
     "name": "stderr",
     "output_type": "stream",
     "text": [
      "\u001b[36m(tune_with_parameters pid=1985810)\u001b[0m Checkpoint successfully created at: Checkpoint(filesystem=local, path=/scratch/users/k23058970/Spectral-Training-Scripts/results/Single Peak LRCN Null/tune_with_parameters_2024-08-30_02-53-25/tune_with_parameters_cd2c3_00002_2_dp=0.5000,k1=5,k2=5,k3=1,k4=5,lr=0.0402_2024-08-30_02-54-33/checkpoint_000003)\n"
     ]
    },
    {
     "name": "stdout",
     "output_type": "stream",
     "text": [
      "\u001b[36m(tune_with_parameters pid=1985810)\u001b[0m loss: 0.463\u001b[32m [repeated 15x across cluster]\u001b[0m\n"
     ]
    },
    {
     "name": "stderr",
     "output_type": "stream",
     "text": [
      "Val Epoch:19: 0it [00:00, ?it/s]980526)\u001b[0m \n",
      "Val Epoch:7: 24it [00:02,  9.14it/s]\u001b[32m [repeated 9x across cluster]\u001b[0m\n"
     ]
    },
    {
     "name": "stdout",
     "output_type": "stream",
     "text": [
      "\u001b[36m(tune_with_parameters pid=1985810)\u001b[0m loss: 0.468\u001b[32m [repeated 14x across cluster]\u001b[0m\n"
     ]
    },
    {
     "name": "stderr",
     "output_type": "stream",
     "text": [
      "Val Epoch:8: 0it [00:00, ?it/s]1985810)\u001b[0m \n",
      "Val Epoch:19: 24it [00:01, 15.71it/s]\u001b[32m [repeated 9x across cluster]\u001b[0m\n"
     ]
    },
    {
     "name": "stdout",
     "output_type": "stream",
     "text": [
      "\u001b[36m(tune_with_parameters pid=1980526)\u001b[0m loss: 0.430\u001b[32m [repeated 9x across cluster]\u001b[0m\n",
      "\u001b[36m(tune_with_parameters pid=1980526)\u001b[0m loss: 0.428\u001b[32m [repeated 14x across cluster]\u001b[0m\n"
     ]
    },
    {
     "name": "stderr",
     "output_type": "stream",
     "text": [
      "Val Epoch:20: 0it [00:00, ?it/s]980526)\u001b[0m \n",
      "Val Epoch:8: 24it [00:01, 12.99it/s]\u001b[32m [repeated 8x across cluster]\u001b[0m\n"
     ]
    },
    {
     "name": "stdout",
     "output_type": "stream",
     "text": [
      "\u001b[36m(tune_with_parameters pid=1985810)\u001b[0m loss: 0.476\u001b[32m [repeated 13x across cluster]\u001b[0m\n"
     ]
    },
    {
     "name": "stderr",
     "output_type": "stream",
     "text": [
      "Val Epoch:9: 0it [00:00, ?it/s]1985810)\u001b[0m \n",
      "Val Epoch:20: 24it [00:02,  9.94it/s]\u001b[32m [repeated 8x across cluster]\u001b[0m\n"
     ]
    },
    {
     "name": "stdout",
     "output_type": "stream",
     "text": [
      "\u001b[36m(tune_with_parameters pid=1980526)\u001b[0m loss: 0.428\u001b[32m [repeated 10x across cluster]\u001b[0m\n",
      "\u001b[36m(tune_with_parameters pid=1985810)\u001b[0m /tmp/tmpwpykwfc6/checkpoint.pt\n"
     ]
    },
    {
     "name": "stderr",
     "output_type": "stream",
     "text": [
      "\u001b[36m(tune_with_parameters pid=1985810)\u001b[0m Checkpoint successfully created at: Checkpoint(filesystem=local, path=/scratch/users/k23058970/Spectral-Training-Scripts/results/Single Peak LRCN Null/tune_with_parameters_2024-08-30_02-53-25/tune_with_parameters_cd2c3_00002_2_dp=0.5000,k1=5,k2=5,k3=1,k4=5,lr=0.0402_2024-08-30_02-54-33/checkpoint_000004)\n"
     ]
    },
    {
     "name": "stdout",
     "output_type": "stream",
     "text": [
      "\u001b[36m(tune_with_parameters pid=1985810)\u001b[0m loss: 0.477\u001b[32m [repeated 15x across cluster]\u001b[0m\n"
     ]
    },
    {
     "name": "stderr",
     "output_type": "stream",
     "text": [
      "Val Epoch:21: 0it [00:00, ?it/s]980526)\u001b[0m \n",
      "Val Epoch:9: 24it [00:02,  8.65it/s]\u001b[32m [repeated 8x across cluster]\u001b[0m\n"
     ]
    },
    {
     "name": "stdout",
     "output_type": "stream",
     "text": [
      "\u001b[36m(tune_with_parameters pid=1985810)\u001b[0m loss: 0.464\u001b[32m [repeated 13x across cluster]\u001b[0m\n"
     ]
    },
    {
     "name": "stderr",
     "output_type": "stream",
     "text": [
      "Val Epoch:10: 0it [00:00, ?it/s]985810)\u001b[0m \n",
      "Val Epoch:21: 24it [00:01, 15.55it/s]\u001b[32m [repeated 9x across cluster]\u001b[0m\n"
     ]
    },
    {
     "name": "stdout",
     "output_type": "stream",
     "text": [
      "\u001b[36m(tune_with_parameters pid=1980526)\u001b[0m loss: 0.427\u001b[32m [repeated 12x across cluster]\u001b[0m\n",
      "\u001b[36m(tune_with_parameters pid=1980526)\u001b[0m loss: 0.429\u001b[32m [repeated 14x across cluster]\u001b[0m\n"
     ]
    },
    {
     "name": "stderr",
     "output_type": "stream",
     "text": [
      "Val Epoch:22: 0it [00:00, ?it/s]980526)\u001b[0m \n",
      "Val Epoch:10: 24it [00:01, 13.31it/s]\u001b[32m [repeated 8x across cluster]\u001b[0m\n"
     ]
    },
    {
     "name": "stdout",
     "output_type": "stream",
     "text": [
      "\u001b[36m(tune_with_parameters pid=1985810)\u001b[0m loss: 0.469\u001b[32m [repeated 13x across cluster]\u001b[0m\n"
     ]
    },
    {
     "name": "stderr",
     "output_type": "stream",
     "text": [
      "Val Epoch:11: 0it [00:00, ?it/s]985810)\u001b[0m \n",
      "Val Epoch:22: 24it [00:01, 13.43it/s]\u001b[32m [repeated 7x across cluster]\u001b[0m\n"
     ]
    },
    {
     "name": "stdout",
     "output_type": "stream",
     "text": [
      "\u001b[36m(tune_with_parameters pid=1980526)\u001b[0m loss: 0.434\u001b[32m [repeated 11x across cluster]\u001b[0m\n",
      "\u001b[36m(tune_with_parameters pid=1985810)\u001b[0m loss: 0.466\u001b[32m [repeated 15x across cluster]\u001b[0m\n"
     ]
    },
    {
     "name": "stderr",
     "output_type": "stream",
     "text": [
      "Val Epoch:23: 0it [00:00, ?it/s]980526)\u001b[0m \n",
      "Val Epoch:11: 24it [00:01, 12.76it/s]\u001b[32m [repeated 8x across cluster]\u001b[0m\n"
     ]
    },
    {
     "name": "stdout",
     "output_type": "stream",
     "text": [
      "\u001b[36m(tune_with_parameters pid=1985810)\u001b[0m loss: 0.465\u001b[32m [repeated 14x across cluster]\u001b[0m\n"
     ]
    },
    {
     "name": "stderr",
     "output_type": "stream",
     "text": [
      "Val Epoch:12: 0it [00:00, ?it/s]985810)\u001b[0m \n",
      "Val Epoch:23: 24it [00:01, 21.59it/s]\u001b[32m [repeated 8x across cluster]\u001b[0m\n"
     ]
    },
    {
     "name": "stdout",
     "output_type": "stream",
     "text": [
      "\u001b[36m(tune_with_parameters pid=1980526)\u001b[0m loss: 0.437\u001b[32m [repeated 12x across cluster]\u001b[0m\n"
     ]
    },
    {
     "name": "stderr",
     "output_type": "stream",
     "text": [
      "Val Epoch:24: 0it [00:00, ?it/s]980526)\u001b[0m \n",
      "Val Epoch:12: 24it [00:02,  9.88it/s]\u001b[32m [repeated 8x across cluster]\u001b[0m\n"
     ]
    },
    {
     "name": "stdout",
     "output_type": "stream",
     "text": [
      "\u001b[36m(tune_with_parameters pid=1985810)\u001b[0m loss: 0.473\u001b[32m [repeated 21x across cluster]\u001b[0m\n"
     ]
    },
    {
     "name": "stderr",
     "output_type": "stream",
     "text": [
      "Val Epoch:13: 0it [00:00, ?it/s]985810)\u001b[0m \n",
      "Val Epoch:24: 24it [00:02, 10.35it/s]\u001b[32m [repeated 9x across cluster]\u001b[0m\n"
     ]
    },
    {
     "name": "stdout",
     "output_type": "stream",
     "text": [
      "\u001b[36m(tune_with_parameters pid=1980526)\u001b[0m loss: 0.420\u001b[32m [repeated 15x across cluster]\u001b[0m\n",
      "\u001b[36m(tune_with_parameters pid=1985810)\u001b[0m loss: 0.466\u001b[32m [repeated 14x across cluster]\u001b[0m\n"
     ]
    },
    {
     "name": "stderr",
     "output_type": "stream",
     "text": [
      "Val Epoch:25: 0it [00:00, ?it/s]980526)\u001b[0m \n",
      "Val Epoch:13: 24it [00:02,  8.19it/s]\u001b[32m [repeated 10x across cluster]\u001b[0m\n"
     ]
    },
    {
     "name": "stdout",
     "output_type": "stream",
     "text": [
      "\u001b[36m(tune_with_parameters pid=1985810)\u001b[0m loss: 0.473\u001b[32m [repeated 11x across cluster]\u001b[0m\n"
     ]
    },
    {
     "name": "stderr",
     "output_type": "stream",
     "text": [
      "Val Epoch:14: 0it [00:00, ?it/s]985810)\u001b[0m \n",
      "Val Epoch:25: 24it [00:01, 21.49it/s]\u001b[32m [repeated 8x across cluster]\u001b[0m\n"
     ]
    },
    {
     "name": "stdout",
     "output_type": "stream",
     "text": [
      "\u001b[36m(tune_with_parameters pid=1980526)\u001b[0m loss: 0.422\u001b[32m [repeated 12x across cluster]\u001b[0m\n",
      "\u001b[36m(tune_with_parameters pid=1980526)\u001b[0m loss: 0.429\u001b[32m [repeated 15x across cluster]\u001b[0m\n"
     ]
    },
    {
     "name": "stderr",
     "output_type": "stream",
     "text": [
      "Val Epoch:26: 0it [00:00, ?it/s]980526)\u001b[0m \n",
      "Val Epoch:14: 24it [00:01, 13.12it/s]\u001b[32m [repeated 7x across cluster]\u001b[0m\n"
     ]
    },
    {
     "name": "stdout",
     "output_type": "stream",
     "text": [
      "\u001b[36m(tune_with_parameters pid=1985810)\u001b[0m loss: 0.470\u001b[32m [repeated 13x across cluster]\u001b[0m\n"
     ]
    },
    {
     "name": "stderr",
     "output_type": "stream",
     "text": [
      "Val Epoch:15: 0it [00:00, ?it/s]985810)\u001b[0m \n",
      "Val Epoch:26: 24it [00:02, 10.70it/s]\u001b[32m [repeated 10x across cluster]\u001b[0m\n"
     ]
    },
    {
     "name": "stdout",
     "output_type": "stream",
     "text": [
      "\u001b[36m(tune_with_parameters pid=1980526)\u001b[0m loss: 0.423\u001b[32m [repeated 11x across cluster]\u001b[0m\n",
      "\u001b[36m(tune_with_parameters pid=1980526)\u001b[0m loss: 0.427\u001b[32m [repeated 17x across cluster]\u001b[0m\n"
     ]
    },
    {
     "name": "stderr",
     "output_type": "stream",
     "text": [
      "Val Epoch:27: 0it [00:00, ?it/s]980526)\u001b[0m \n",
      "Val Epoch:15: 24it [00:02, 10.77it/s]\u001b[32m [repeated 9x across cluster]\u001b[0m\n"
     ]
    },
    {
     "name": "stdout",
     "output_type": "stream",
     "text": [
      "\u001b[36m(tune_with_parameters pid=1985810)\u001b[0m loss: 0.457\u001b[32m [repeated 11x across cluster]\u001b[0m\n"
     ]
    },
    {
     "name": "stderr",
     "output_type": "stream",
     "text": [
      "Val Epoch:16: 0it [00:00, ?it/s]985810)\u001b[0m \n",
      "Val Epoch:27: 24it [00:01, 17.01it/s]\u001b[32m [repeated 8x across cluster]\u001b[0m\n"
     ]
    },
    {
     "name": "stdout",
     "output_type": "stream",
     "text": [
      "\u001b[36m(tune_with_parameters pid=1985810)\u001b[0m loss: 0.522\u001b[32m [repeated 11x across cluster]\u001b[0m\n",
      "\u001b[36m(tune_with_parameters pid=1980526)\u001b[0m loss: 0.424\u001b[32m [repeated 19x across cluster]\u001b[0m\n"
     ]
    },
    {
     "name": "stderr",
     "output_type": "stream",
     "text": [
      "Val Epoch:28: 0it [00:00, ?it/s]980526)\u001b[0m \n",
      "Val Epoch:16: 24it [00:01, 13.37it/s]\u001b[32m [repeated 8x across cluster]\u001b[0m\n",
      "Val Epoch:28: 24it [00:01, 14.75it/s]6)\u001b[0m \n"
     ]
    },
    {
     "name": "stdout",
     "output_type": "stream",
     "text": [
      "\u001b[36m(tune_with_parameters pid=1980526)\u001b[0m loss: 0.341\u001b[32m [repeated 8x across cluster]\u001b[0m\n"
     ]
    },
    {
     "name": "stderr",
     "output_type": "stream",
     "text": [
      "Val Epoch:17: 0it [00:00, ?it/s]985810)\u001b[0m \n",
      "Val Epoch:28: 19it [00:01, 27.30it/s]\u001b[32m [repeated 5x across cluster]\u001b[0m\n"
     ]
    },
    {
     "name": "stdout",
     "output_type": "stream",
     "text": [
      "\u001b[36m(tune_with_parameters pid=1980526)\u001b[0m loss: 0.415\u001b[32m [repeated 12x across cluster]\u001b[0m\n",
      "\u001b[36m(tune_with_parameters pid=1985810)\u001b[0m loss: 0.460\u001b[32m [repeated 21x across cluster]\u001b[0m\n"
     ]
    },
    {
     "name": "stderr",
     "output_type": "stream",
     "text": [
      "Val Epoch:29: 0it [00:00, ?it/s]980526)\u001b[0m \n",
      "Val Epoch:17: 24it [00:02, 10.67it/s]\u001b[32m [repeated 9x across cluster]\u001b[0m\n"
     ]
    },
    {
     "name": "stdout",
     "output_type": "stream",
     "text": [
      "\u001b[36m(tune_with_parameters pid=1980526)\u001b[0m loss: 0.448\u001b[32m [repeated 12x across cluster]\u001b[0m\n"
     ]
    },
    {
     "name": "stderr",
     "output_type": "stream",
     "text": [
      "Val Epoch:18: 0it [00:00, ?it/s]985810)\u001b[0m \n",
      "Val Epoch:18: 1it [00:01,  1.19it/s]\u001b[32m [repeated 9x across cluster]\u001b[0m\n"
     ]
    },
    {
     "name": "stdout",
     "output_type": "stream",
     "text": [
      "\u001b[36m(tune_with_parameters pid=1980526)\u001b[0m loss: 0.429\u001b[32m [repeated 7x across cluster]\u001b[0m\n"
     ]
    },
    {
     "name": "stderr",
     "output_type": "stream",
     "text": [
      "Val Epoch:30: 0it [00:00, ?it/s]980526)\u001b[0m \n",
      "Val Epoch:18: 24it [00:02,  9.87it/s]\u001b[32m [repeated 10x across cluster]\u001b[0m\n"
     ]
    },
    {
     "name": "stdout",
     "output_type": "stream",
     "text": [
      "\u001b[36m(tune_with_parameters pid=1985810)\u001b[0m loss: 0.463\u001b[32m [repeated 20x across cluster]\u001b[0m\n",
      "\u001b[36m(tune_with_parameters pid=1980526)\u001b[0m loss: 0.419\u001b[32m [repeated 11x across cluster]\u001b[0m\n"
     ]
    },
    {
     "name": "stderr",
     "output_type": "stream",
     "text": [
      "Val Epoch:19: 0it [00:00, ?it/s]985810)\u001b[0m \n",
      "Val Epoch:30: 24it [00:01, 16.30it/s]\u001b[32m [repeated 9x across cluster]\u001b[0m\n"
     ]
    },
    {
     "name": "stdout",
     "output_type": "stream",
     "text": [
      "\u001b[36m(tune_with_parameters pid=1980526)\u001b[0m loss: 0.425\u001b[32m [repeated 8x across cluster]\u001b[0m\n"
     ]
    },
    {
     "name": "stderr",
     "output_type": "stream",
     "text": [
      "Val Epoch:31: 0it [00:00, ?it/s]980526)\u001b[0m \n",
      "Val Epoch:19: 24it [00:01, 14.10it/s]\u001b[32m [repeated 8x across cluster]\u001b[0m\n"
     ]
    },
    {
     "name": "stdout",
     "output_type": "stream",
     "text": [
      "\u001b[36m(tune_with_parameters pid=1985810)\u001b[0m loss: 0.461\u001b[32m [repeated 21x across cluster]\u001b[0m\n"
     ]
    },
    {
     "name": "stderr",
     "output_type": "stream",
     "text": [
      "Val Epoch:20: 0it [00:00, ?it/s]985810)\u001b[0m \n",
      "Val Epoch:31: 24it [00:01, 13.63it/s]\u001b[32m [repeated 8x across cluster]\u001b[0m\n"
     ]
    },
    {
     "name": "stdout",
     "output_type": "stream",
     "text": [
      "\u001b[36m(tune_with_parameters pid=1980526)\u001b[0m loss: 0.427\u001b[32m [repeated 11x across cluster]\u001b[0m\n",
      "\u001b[36m(tune_with_parameters pid=1980526)\u001b[0m loss: 0.427\u001b[32m [repeated 17x across cluster]\u001b[0m\n"
     ]
    },
    {
     "name": "stderr",
     "output_type": "stream",
     "text": [
      "Val Epoch:32: 0it [00:00, ?it/s]980526)\u001b[0m \n",
      "Val Epoch:20: 24it [00:01, 13.59it/s]\u001b[32m [repeated 8x across cluster]\u001b[0m\n"
     ]
    },
    {
     "name": "stdout",
     "output_type": "stream",
     "text": [
      "\u001b[36m(tune_with_parameters pid=1985810)\u001b[0m loss: 0.454\u001b[32m [repeated 12x across cluster]\u001b[0m\n"
     ]
    },
    {
     "name": "stderr",
     "output_type": "stream",
     "text": [
      "Val Epoch:21: 0it [00:00, ?it/s]985810)\u001b[0m \n",
      "Val Epoch:32: 24it [00:01, 15.10it/s]\u001b[32m [repeated 8x across cluster]\u001b[0m\n"
     ]
    },
    {
     "name": "stdout",
     "output_type": "stream",
     "text": [
      "\u001b[36m(tune_with_parameters pid=1980526)\u001b[0m loss: 0.416\u001b[32m [repeated 7x across cluster]\u001b[0m\n",
      "\u001b[36m(tune_with_parameters pid=1985810)\u001b[0m loss: 0.471\u001b[32m [repeated 12x across cluster]\u001b[0m\n"
     ]
    },
    {
     "name": "stderr",
     "output_type": "stream",
     "text": [
      "Val Epoch:33: 0it [00:00, ?it/s]980526)\u001b[0m \n",
      "Val Epoch:21: 24it [00:02,  9.88it/s]\u001b[32m [repeated 8x across cluster]\u001b[0m\n"
     ]
    },
    {
     "name": "stdout",
     "output_type": "stream",
     "text": [
      "\u001b[36m(tune_with_parameters pid=1985810)\u001b[0m loss: 0.455\u001b[32m [repeated 16x across cluster]\u001b[0m\n"
     ]
    },
    {
     "name": "stderr",
     "output_type": "stream",
     "text": [
      "Val Epoch:22: 0it [00:00, ?it/s]985810)\u001b[0m \n",
      "Val Epoch:33: 24it [00:02, 11.05it/s]\u001b[32m [repeated 9x across cluster]\u001b[0m\n"
     ]
    },
    {
     "name": "stdout",
     "output_type": "stream",
     "text": [
      "\u001b[36m(tune_with_parameters pid=1980526)\u001b[0m loss: 0.441\u001b[32m [repeated 12x across cluster]\u001b[0m\n",
      "\u001b[36m(tune_with_parameters pid=1985810)\u001b[0m loss: 0.458\u001b[32m [repeated 15x across cluster]\u001b[0m\n"
     ]
    },
    {
     "name": "stderr",
     "output_type": "stream",
     "text": [
      "Val Epoch:34: 0it [00:00, ?it/s]980526)\u001b[0m \n",
      "Val Epoch:22: 24it [00:02,  8.93it/s]\u001b[32m [repeated 11x across cluster]\u001b[0m\n"
     ]
    },
    {
     "name": "stdout",
     "output_type": "stream",
     "text": [
      "\u001b[36m(tune_with_parameters pid=1980526)\u001b[0m loss: 0.470\u001b[32m [repeated 13x across cluster]\u001b[0m\n"
     ]
    },
    {
     "name": "stderr",
     "output_type": "stream",
     "text": [
      "Val Epoch:23: 0it [00:00, ?it/s]985810)\u001b[0m \n",
      "Val Epoch:34: 24it [00:01, 22.59it/s]\u001b[32m [repeated 8x across cluster]\u001b[0m\n",
      "Val Epoch:23: 9it [00:00, 14.60it/s]10)\u001b[0m \n"
     ]
    },
    {
     "name": "stdout",
     "output_type": "stream",
     "text": [
      "\u001b[36m(tune_with_parameters pid=1980526)\u001b[0m loss: 0.432\u001b[32m [repeated 13x across cluster]\u001b[0m\n",
      "\u001b[36m(tune_with_parameters pid=1985810)\u001b[0m loss: 0.469\u001b[32m [repeated 16x across cluster]\u001b[0m\n"
     ]
    },
    {
     "name": "stderr",
     "output_type": "stream",
     "text": [
      "Val Epoch:35: 0it [00:00, ?it/s]980526)\u001b[0m \n",
      "Val Epoch:23: 24it [00:01, 15.07it/s]\u001b[32m [repeated 5x across cluster]\u001b[0m\n"
     ]
    },
    {
     "name": "stdout",
     "output_type": "stream",
     "text": [
      "\u001b[36m(tune_with_parameters pid=1980526)\u001b[0m loss: 0.447\u001b[32m [repeated 8x across cluster]\u001b[0m\n"
     ]
    },
    {
     "name": "stderr",
     "output_type": "stream",
     "text": [
      "Val Epoch:24: 0it [00:00, ?it/s]985810)\u001b[0m \n",
      "Val Epoch:35: 24it [00:01, 13.81it/s]\u001b[32m [repeated 8x across cluster]\u001b[0m\n"
     ]
    },
    {
     "name": "stdout",
     "output_type": "stream",
     "text": [
      "\u001b[36m(tune_with_parameters pid=1980526)\u001b[0m loss: 0.422\u001b[32m [repeated 14x across cluster]\u001b[0m\n",
      "\u001b[36m(tune_with_parameters pid=1980526)\u001b[0m \n"
     ]
    },
    {
     "name": "stderr",
     "output_type": "stream",
     "text": [
      "Val Epoch:36: 0it [00:00, ?it/s]980526)\u001b[0m \n",
      "Val Epoch:24: 24it [00:02, 10.79it/s]\u001b[32m [repeated 8x across cluster]\u001b[0m\n"
     ]
    },
    {
     "name": "stdout",
     "output_type": "stream",
     "text": [
      "\u001b[36m(tune_with_parameters pid=1980526)\u001b[0m loss: 0.419\u001b[32m [repeated 10x across cluster]\u001b[0m\n",
      "\u001b[36m(tune_with_parameters pid=1980526)\u001b[0m loss: 0.426\u001b[32m [repeated 13x across cluster]\u001b[0m\n"
     ]
    },
    {
     "name": "stderr",
     "output_type": "stream",
     "text": [
      "Val Epoch:37: 0it [00:00, ?it/s]980526)\u001b[0m \n",
      "Val Epoch:36: 24it [00:01, 17.60it/s]\u001b[32m [repeated 9x across cluster]\u001b[0m\n"
     ]
    },
    {
     "name": "stdout",
     "output_type": "stream",
     "text": [
      "\u001b[36m(tune_with_parameters pid=1980526)\u001b[0m loss: 0.466\u001b[32m [repeated 6x across cluster]\u001b[0m\n",
      "\u001b[36m(tune_with_parameters pid=1980526)\u001b[0m loss: 0.421\u001b[32m [repeated 9x across cluster]\u001b[0m\n"
     ]
    },
    {
     "name": "stderr",
     "output_type": "stream",
     "text": [
      "\u001b[36m(tune_with_parameters pid=2000354)\u001b[0m /users/k23058970/miniforge3/envs/Training/lib/python3.10/site-packages/torch/nn/modules/lazy.py:181: UserWarning: Lazy modules are a new feature under heavy development so changes to the API or functionality can happen at any moment.\n",
      "\u001b[36m(tune_with_parameters pid=2000354)\u001b[0m   warnings.warn('Lazy modules are a new feature under heavy development '\n",
      "Val Epoch:37: 24it [00:02,  8.45it/s]\u001b[32m [repeated 9x across cluster]\u001b[0m\n",
      "Val Epoch:38: 0it [00:00, ?it/s]980526)\u001b[0m \n",
      "Val Epoch:38: 1it [00:00,  1.09it/s]26)\u001b[0m \n",
      "Val Epoch:38: 4it [00:01,  4.91it/s]26)\u001b[0m \n",
      "Val Epoch:38: 6it [00:01,  7.05it/s]26)\u001b[0m \n",
      "Val Epoch:38: 10it [00:01, 12.50it/s]6)\u001b[0m \n",
      "Val Epoch:38: 14it [00:01, 17.78it/s]6)\u001b[0m \n",
      "Val Epoch:38: 17it [00:01, 20.29it/s]6)\u001b[0m \n",
      "Val Epoch:38: 21it [00:01, 23.25it/s]6)\u001b[0m \n",
      "Val Epoch:38: 24it [00:02, 10.25it/s]6)\u001b[0m \n",
      "Val Epoch:38: 24it [00:02,  8.78it/s]6)\u001b[0m \n"
     ]
    },
    {
     "name": "stdout",
     "output_type": "stream",
     "text": [
      "\u001b[36m(tune_with_parameters pid=1980526)\u001b[0m loss: 0.358\u001b[32m [repeated 10x across cluster]\u001b[0m\n",
      "\u001b[36m(tune_with_parameters pid=1980526)\u001b[0m loss: 0.423\u001b[32m [repeated 14x across cluster]\u001b[0m\n",
      "\u001b[36m(tune_with_parameters pid=1980526)\u001b[0m loss: 0.423\u001b[32m [repeated 14x across cluster]\u001b[0m\n"
     ]
    },
    {
     "name": "stderr",
     "output_type": "stream",
     "text": [
      "Val Epoch:39: 0it [00:00, ?it/s]980526)\u001b[0m \n",
      "Val Epoch:39: 1it [00:00,  1.00it/s]26)\u001b[0m \n",
      "Val Epoch:39: 4it [00:01,  4.39it/s]26)\u001b[0m \n",
      "Val Epoch:39: 7it [00:01,  7.93it/s]26)\u001b[0m \n",
      "Val Epoch:39: 10it [00:01, 11.59it/s]6)\u001b[0m \n",
      "Val Epoch:39: 13it [00:01, 14.75it/s]6)\u001b[0m \n",
      "Val Epoch:39: 16it [00:01, 17.15it/s]6)\u001b[0m \n",
      "Val Epoch:39: 20it [00:01, 21.33it/s]6)\u001b[0m \n",
      "Val Epoch:39: 24it [00:01, 12.54it/s]6)\u001b[0m \n"
     ]
    },
    {
     "name": "stdout",
     "output_type": "stream",
     "text": [
      "\u001b[36m(tune_with_parameters pid=1980526)\u001b[0m loss: 0.260\u001b[32m [repeated 4x across cluster]\u001b[0m\n",
      "\u001b[36m(tune_with_parameters pid=2000354)\u001b[0m loss: 1.096\u001b[32m [repeated 17x across cluster]\u001b[0m\n"
     ]
    },
    {
     "name": "stderr",
     "output_type": "stream",
     "text": [
      "Val Epoch:0: 0it [00:00, ?it/s]2000354)\u001b[0m \n",
      "Val Epoch:0: 1it [00:00,  1.76it/s]354)\u001b[0m \n",
      "Val Epoch:0: 3it [00:00,  5.27it/s]354)\u001b[0m \n",
      "Val Epoch:0: 6it [00:00, 10.49it/s]354)\u001b[0m \n",
      "Val Epoch:0: 10it [00:01, 14.17it/s]54)\u001b[0m \n",
      "Val Epoch:0: 13it [00:01, 15.43it/s]54)\u001b[0m \n",
      "Val Epoch:0: 15it [00:01, 15.12it/s]54)\u001b[0m \n",
      "Val Epoch:0: 18it [00:01, 16.74it/s]54)\u001b[0m \n",
      "Val Epoch:0: 20it [00:01, 15.63it/s]54)\u001b[0m \n",
      "Val Epoch:0: 24it [00:01, 19.99it/s]54)\u001b[0m \n",
      "Val Epoch:0: 24it [00:01, 12.62it/s]54)\u001b[0m \n",
      "\u001b[36m(tune_with_parameters pid=2000354)\u001b[0m /scratch/users/k23058970/Spectral-Training-Scripts/training_insilico_lrcn.py:63: RuntimeWarning: invalid value encountered in divide\n",
      "\u001b[36m(tune_with_parameters pid=2000354)\u001b[0m   self.precision = self.tp/(self.tp + self.fp)\n",
      "Val Epoch:40: 0it [00:00, ?it/s]980526)\u001b[0m \n"
     ]
    },
    {
     "name": "stdout",
     "output_type": "stream",
     "text": [
      "\u001b[36m(tune_with_parameters pid=2000354)\u001b[0m /tmp/tmpz0yn89c7/checkpoint.pt\n",
      "\u001b[36m(tune_with_parameters pid=1980526)\u001b[0m loss: 0.424\u001b[32m [repeated 7x across cluster]\u001b[0m\n"
     ]
    },
    {
     "name": "stderr",
     "output_type": "stream",
     "text": [
      "Val Epoch:40: 23it [00:02, 23.26it/s]\u001b[32m [repeated 11x across cluster]\u001b[0m\n",
      "\u001b[36m(tune_with_parameters pid=2000354)\u001b[0m Checkpoint successfully created at: Checkpoint(filesystem=local, path=/scratch/users/k23058970/Spectral-Training-Scripts/results/Single Peak LRCN Null/tune_with_parameters_2024-08-30_02-53-25/tune_with_parameters_cd2c3_00003_3_dp=0.1000,k1=1,k2=3,k3=1,k4=5,lr=0.0086_2024-08-30_02-54-33/checkpoint_000000)\n"
     ]
    },
    {
     "name": "stdout",
     "output_type": "stream",
     "text": [
      "\u001b[36m(tune_with_parameters pid=1980526)\u001b[0m loss: 0.422\u001b[32m [repeated 8x across cluster]\u001b[0m\n",
      "\u001b[36m(tune_with_parameters pid=1980526)\u001b[0m loss: 0.421\u001b[32m [repeated 17x across cluster]\u001b[0m\n"
     ]
    },
    {
     "name": "stderr",
     "output_type": "stream",
     "text": [
      "Val Epoch:41: 0it [00:00, ?it/s]980526)\u001b[0m \n",
      "Val Epoch:40: 24it [00:02,  9.90it/s]6)\u001b[0m \n",
      "Val Epoch:41: 1it [00:00,  2.66it/s]26)\u001b[0m \n",
      "Val Epoch:41: 2it [00:00,  4.18it/s]26)\u001b[0m \n",
      "Val Epoch:41: 5it [00:00, 10.77it/s]26)\u001b[0m \n",
      "Val Epoch:41: 8it [00:00, 15.70it/s]26)\u001b[0m \n",
      "Val Epoch:41: 12it [00:00, 20.22it/s]6)\u001b[0m \n",
      "Val Epoch:41: 15it [00:00, 22.40it/s]6)\u001b[0m \n",
      "Val Epoch:41: 18it [00:01, 21.67it/s]6)\u001b[0m \n",
      "Val Epoch:41: 22it [00:01, 26.16it/s]6)\u001b[0m \n"
     ]
    },
    {
     "name": "stdout",
     "output_type": "stream",
     "text": [
      "\u001b[36m(tune_with_parameters pid=2000354)\u001b[0m loss: 1.086\u001b[32m [repeated 8x across cluster]\u001b[0m\n"
     ]
    },
    {
     "name": "stderr",
     "output_type": "stream",
     "text": [
      "Val Epoch:41: 24it [00:01, 16.78it/s]6)\u001b[0m \n"
     ]
    },
    {
     "name": "stdout",
     "output_type": "stream",
     "text": [
      "\u001b[36m(tune_with_parameters pid=2000354)\u001b[0m loss: 1.084\u001b[32m [repeated 10x across cluster]\u001b[0m\n"
     ]
    },
    {
     "name": "stderr",
     "output_type": "stream",
     "text": [
      "Val Epoch:1: 0it [00:00, ?it/s]2000354)\u001b[0m \n",
      "Val Epoch:1: 1it [00:01,  1.68s/it]354)\u001b[0m \n",
      "Val Epoch:1: 2it [00:01,  1.15it/s]354)\u001b[0m \n",
      "Val Epoch:1: 5it [00:02,  3.64it/s]354)\u001b[0m \n",
      "Val Epoch:1: 7it [00:02,  5.41it/s]354)\u001b[0m \n",
      "Val Epoch:1: 10it [00:02,  8.22it/s]54)\u001b[0m \n",
      "Val Epoch:1: 14it [00:02, 11.65it/s]54)\u001b[0m \n",
      "Val Epoch:1: 16it [00:02, 11.80it/s]54)\u001b[0m \n"
     ]
    },
    {
     "name": "stdout",
     "output_type": "stream",
     "text": [
      "\u001b[36m(tune_with_parameters pid=1980526)\u001b[0m loss: 0.426\u001b[32m [repeated 9x across cluster]\u001b[0m\n"
     ]
    },
    {
     "name": "stderr",
     "output_type": "stream",
     "text": [
      "Val Epoch:1: 19it [00:02, 14.76it/s]54)\u001b[0m \n",
      "Val Epoch:1: 22it [00:02, 16.62it/s]54)\u001b[0m \n",
      "Val Epoch:1: 24it [00:03,  7.51it/s]54)\u001b[0m \n"
     ]
    },
    {
     "name": "stdout",
     "output_type": "stream",
     "text": [
      "\u001b[36m(tune_with_parameters pid=2000354)\u001b[0m /tmp/tmpus453ff9/checkpoint.pt\n"
     ]
    },
    {
     "name": "stderr",
     "output_type": "stream",
     "text": [
      "\u001b[36m(tune_with_parameters pid=2000354)\u001b[0m Checkpoint successfully created at: Checkpoint(filesystem=local, path=/scratch/users/k23058970/Spectral-Training-Scripts/results/Single Peak LRCN Null/tune_with_parameters_2024-08-30_02-53-25/tune_with_parameters_cd2c3_00003_3_dp=0.1000,k1=1,k2=3,k3=1,k4=5,lr=0.0086_2024-08-30_02-54-33/checkpoint_000001)\n",
      "Val Epoch:42: 0it [00:00, ?it/s]980526)\u001b[0m \n",
      "Val Epoch:42: 1it [00:00,  5.81it/s]26)\u001b[0m \n",
      "Val Epoch:42: 2it [00:01,  1.52it/s]26)\u001b[0m \n",
      "Val Epoch:42: 3it [00:01,  2.43it/s]26)\u001b[0m \n",
      "Val Epoch:42: 4it [00:01,  2.74it/s]26)\u001b[0m \n",
      "Val Epoch:42: 8it [00:01,  7.20it/s]26)\u001b[0m \n",
      "Val Epoch:42: 10it [00:02,  7.65it/s]6)\u001b[0m \n"
     ]
    },
    {
     "name": "stdout",
     "output_type": "stream",
     "text": [
      "\u001b[36m(tune_with_parameters pid=2000354)\u001b[0m loss: 1.061\u001b[32m [repeated 6x across cluster]\u001b[0m\n"
     ]
    },
    {
     "name": "stderr",
     "output_type": "stream",
     "text": [
      "Val Epoch:42: 13it [00:02,  8.39it/s]6)\u001b[0m \n",
      "Val Epoch:42: 15it [00:02,  9.63it/s]6)\u001b[0m \n",
      "Val Epoch:42: 18it [00:02, 12.47it/s]6)\u001b[0m \n",
      "Val Epoch:42: 20it [00:02, 13.55it/s]6)\u001b[0m \n",
      "Val Epoch:42: 24it [00:02,  8.05it/s]6)\u001b[0m \n"
     ]
    },
    {
     "name": "stdout",
     "output_type": "stream",
     "text": [
      "\u001b[36m(tune_with_parameters pid=1980526)\u001b[0m loss: 0.427\u001b[32m [repeated 11x across cluster]\u001b[0m\n",
      "\u001b[36m(tune_with_parameters pid=1980526)\u001b[0m loss: 0.422\u001b[32m [repeated 15x across cluster]\u001b[0m\n"
     ]
    },
    {
     "name": "stderr",
     "output_type": "stream",
     "text": [
      "Val Epoch:43: 0it [00:00, ?it/s]980526)\u001b[0m \n",
      "Val Epoch:43: 1it [00:00,  6.18it/s]26)\u001b[0m \n",
      "Val Epoch:43: 4it [00:00, 17.16it/s]26)\u001b[0m \n",
      "Val Epoch:43: 8it [00:00, 23.43it/s]26)\u001b[0m \n",
      "Val Epoch:43: 12it [00:00, 26.47it/s]6)\u001b[0m \n",
      "Val Epoch:43: 16it [00:00, 29.04it/s]6)\u001b[0m \n",
      "Val Epoch:43: 19it [00:00, 26.71it/s]6)\u001b[0m \n",
      "Val Epoch:43: 24it [00:00, 32.67it/s]6)\u001b[0m \n",
      "Val Epoch:43: 24it [00:01, 21.82it/s]6)\u001b[0m \n"
     ]
    },
    {
     "name": "stdout",
     "output_type": "stream",
     "text": [
      "\u001b[36m(tune_with_parameters pid=1980526)\u001b[0m loss: 0.408\u001b[32m [repeated 8x across cluster]\u001b[0m\n"
     ]
    },
    {
     "name": "stderr",
     "output_type": "stream",
     "text": [
      "Val Epoch:2: 0it [00:00, ?it/s]2000354)\u001b[0m \n",
      "Val Epoch:2: 1it [00:00,  1.89it/s]354)\u001b[0m \n",
      "Val Epoch:2: 4it [00:00,  7.53it/s]354)\u001b[0m \n"
     ]
    },
    {
     "name": "stdout",
     "output_type": "stream",
     "text": [
      "\u001b[36m(tune_with_parameters pid=1980526)\u001b[0m loss: 0.419\u001b[32m [repeated 13x across cluster]\u001b[0m\n"
     ]
    },
    {
     "name": "stderr",
     "output_type": "stream",
     "text": [
      "Val Epoch:2: 6it [00:00, 10.26it/s]354)\u001b[0m \n",
      "Val Epoch:2: 9it [00:00, 14.08it/s]354)\u001b[0m \n",
      "Val Epoch:2: 11it [00:01, 12.65it/s]54)\u001b[0m \n",
      "Val Epoch:2: 14it [00:01, 13.71it/s]54)\u001b[0m \n",
      "Val Epoch:2: 17it [00:01, 14.08it/s]54)\u001b[0m \n",
      "Val Epoch:2: 20it [00:01, 15.30it/s]54)\u001b[0m \n",
      "Val Epoch:2: 23it [00:01, 17.97it/s]54)\u001b[0m \n",
      "Val Epoch:2: 24it [00:01, 12.50it/s]54)\u001b[0m \n"
     ]
    },
    {
     "name": "stdout",
     "output_type": "stream",
     "text": [
      "\u001b[36m(tune_with_parameters pid=2000354)\u001b[0m /tmp/tmpf360u4tw/checkpoint.pt\n"
     ]
    },
    {
     "name": "stderr",
     "output_type": "stream",
     "text": [
      "\u001b[36m(tune_with_parameters pid=2000354)\u001b[0m Checkpoint successfully created at: Checkpoint(filesystem=local, path=/scratch/users/k23058970/Spectral-Training-Scripts/results/Single Peak LRCN Null/tune_with_parameters_2024-08-30_02-53-25/tune_with_parameters_cd2c3_00003_3_dp=0.1000,k1=1,k2=3,k3=1,k4=5,lr=0.0086_2024-08-30_02-54-33/checkpoint_000002)\n",
      "Val Epoch:44: 0it [00:00, ?it/s]980526)\u001b[0m \n",
      "Val Epoch:44: 1it [00:00,  3.73it/s]26)\u001b[0m \n",
      "Val Epoch:44: 2it [00:00,  5.26it/s]26)\u001b[0m \n"
     ]
    },
    {
     "name": "stdout",
     "output_type": "stream",
     "text": [
      "\u001b[36m(tune_with_parameters pid=2000354)\u001b[0m loss: 0.736\u001b[32m [repeated 10x across cluster]\u001b[0m\n"
     ]
    },
    {
     "name": "stderr",
     "output_type": "stream",
     "text": [
      "Val Epoch:44: 5it [00:00, 12.75it/s]26)\u001b[0m \n",
      "Val Epoch:44: 7it [00:00, 13.23it/s]26)\u001b[0m \n",
      "Val Epoch:44: 11it [00:00, 20.23it/s]6)\u001b[0m \n",
      "Val Epoch:44: 14it [00:01, 11.41it/s]6)\u001b[0m \n",
      "Val Epoch:44: 16it [00:01,  8.18it/s]6)\u001b[0m \n",
      "Val Epoch:44: 18it [00:01,  8.83it/s]6)\u001b[0m \n",
      "Val Epoch:44: 20it [00:02,  9.00it/s]6)\u001b[0m \n",
      "Val Epoch:44: 24it [00:02,  9.87it/s]6)\u001b[0m \n"
     ]
    },
    {
     "name": "stdout",
     "output_type": "stream",
     "text": [
      "\u001b[36m(tune_with_parameters pid=1980526)\u001b[0m loss: 0.426\u001b[32m [repeated 6x across cluster]\u001b[0m\n",
      "\u001b[36m(tune_with_parameters pid=1980526)\u001b[0m loss: 0.417\u001b[32m [repeated 16x across cluster]\u001b[0m\n"
     ]
    },
    {
     "name": "stderr",
     "output_type": "stream",
     "text": [
      "Val Epoch:45: 0it [00:00, ?it/s]980526)\u001b[0m \n",
      "Val Epoch:45: 1it [00:00,  1.03it/s]26)\u001b[0m \n",
      "Val Epoch:45: 2it [00:01,  1.87it/s]26)\u001b[0m \n",
      "Val Epoch:45: 6it [00:01,  7.04it/s]26)\u001b[0m \n"
     ]
    },
    {
     "name": "stdout",
     "output_type": "stream",
     "text": [
      "\u001b[36m(tune_with_parameters pid=2000354)\u001b[0m loss: 0.621\u001b[32m [repeated 11x across cluster]\u001b[0m\n"
     ]
    },
    {
     "name": "stderr",
     "output_type": "stream",
     "text": [
      "Val Epoch:45: 8it [00:01,  8.53it/s]26)\u001b[0m \n",
      "Val Epoch:45: 11it [00:01, 12.27it/s]6)\u001b[0m \n",
      "Val Epoch:45: 14it [00:01, 15.42it/s]6)\u001b[0m \n",
      "Val Epoch:45: 17it [00:01, 14.37it/s]6)\u001b[0m \n",
      "Val Epoch:45: 21it [00:02, 18.98it/s]6)\u001b[0m \n",
      "Val Epoch:45: 24it [00:02, 11.15it/s]6)\u001b[0m \n"
     ]
    },
    {
     "name": "stdout",
     "output_type": "stream",
     "text": [
      "\u001b[36m(tune_with_parameters pid=2000354)\u001b[0m loss: 0.605\u001b[32m [repeated 9x across cluster]\u001b[0m\n"
     ]
    },
    {
     "name": "stderr",
     "output_type": "stream",
     "text": [
      "Val Epoch:3: 0it [00:00, ?it/s]2000354)\u001b[0m \n",
      "Val Epoch:3: 1it [00:00,  2.51it/s]354)\u001b[0m \n",
      "Val Epoch:3: 2it [00:00,  4.35it/s]354)\u001b[0m \n",
      "Val Epoch:3: 4it [00:00,  7.93it/s]354)\u001b[0m \n",
      "Val Epoch:3: 6it [00:00, 10.20it/s]354)\u001b[0m \n",
      "Val Epoch:3: 9it [00:00, 12.97it/s]354)\u001b[0m \n",
      "Val Epoch:3: 11it [00:01, 13.08it/s]54)\u001b[0m \n",
      "Val Epoch:3: 13it [00:01, 13.82it/s]54)\u001b[0m \n",
      "Val Epoch:3: 15it [00:01, 14.09it/s]54)\u001b[0m \n",
      "Val Epoch:3: 18it [00:01, 15.99it/s]54)\u001b[0m \n",
      "Val Epoch:3: 20it [00:01, 15.83it/s]54)\u001b[0m \n",
      "Val Epoch:3: 22it [00:01, 16.57it/s]54)\u001b[0m \n",
      "Val Epoch:3: 24it [00:01, 12.62it/s]54)\u001b[0m \n"
     ]
    },
    {
     "name": "stdout",
     "output_type": "stream",
     "text": [
      "\u001b[36m(tune_with_parameters pid=1980526)\u001b[0m loss: 0.425\u001b[32m [repeated 9x across cluster]\u001b[0m\n"
     ]
    }
   ],
   "source": [
    "DATASET_DIR = \"/scratch/users/k23058970/Spectral-Training-Scripts/Simulated Dataset/Single Peak\"\n",
    "main(dataset_dir=DATASET_DIR,dset_name = \"Single Peak LRCN Null\")"
   ]
  }
 ],
 "metadata": {
  "kernelspec": {
   "display_name": "Training",
   "language": "python",
   "name": "training"
  },
  "language_info": {
   "codemirror_mode": {
    "name": "ipython",
    "version": 3
   },
   "file_extension": ".py",
   "mimetype": "text/x-python",
   "name": "python",
   "nbconvert_exporter": "python",
   "pygments_lexer": "ipython3",
   "version": "3.10.14"
  }
 },
 "nbformat": 4,
 "nbformat_minor": 4
}
