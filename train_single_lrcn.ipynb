{
 "cells": [
  {
   "cell_type": "code",
   "execution_count": 1,
   "metadata": {},
   "outputs": [],
   "source": [
    "#Call Main and let it run\n",
    "from training_insilico_lrcn import main"
   ]
  },
  {
   "cell_type": "code",
   "execution_count": 2,
   "metadata": {},
   "outputs": [
    {
     "data": {
      "text/html": [
       "<div class=\"tuneStatus\">\n",
       "  <div style=\"display: flex;flex-direction: row\">\n",
       "    <div style=\"display: flex;flex-direction: column;\">\n",
       "      <h3>Tune Status</h3>\n",
       "      <table>\n",
       "<tbody>\n",
       "<tr><td>Current time:</td><td>2024-08-19 14:26:44</td></tr>\n",
       "<tr><td>Running for: </td><td>00:56:42.71        </td></tr>\n",
       "<tr><td>Memory:      </td><td>52.9/1007.5 GiB    </td></tr>\n",
       "</tbody>\n",
       "</table>\n",
       "    </div>\n",
       "    <div class=\"vDivider\"></div>\n",
       "    <div class=\"systemInfo\">\n",
       "      <h3>System Info</h3>\n",
       "      Using AsyncHyperBand: num_stopped=10<br>Bracket: Iter 60.000: -0.00151451082939865 | Iter 30.000: -0.001977787649554963 | Iter 15.000: -0.008928557751208613<br>Logical resource usage: 24.0/96 CPUs, 0.5/1 GPUs (0.0/1.0 accelerator_type:A30)\n",
       "    </div>\n",
       "    \n",
       "  </div>\n",
       "  <div class=\"hDivider\"></div>\n",
       "  <div class=\"trialStatus\">\n",
       "    <h3>Trial Status</h3>\n",
       "    <table>\n",
       "<thead>\n",
       "<tr><th>Trial name                      </th><th>status    </th><th>loc               </th><th style=\"text-align: right;\">  dp</th><th style=\"text-align: right;\">  k1</th><th style=\"text-align: right;\">  k2</th><th style=\"text-align: right;\">  k3</th><th style=\"text-align: right;\">  k4</th><th style=\"text-align: right;\">        lr</th><th style=\"text-align: right;\">  iter</th><th style=\"text-align: right;\">  total time (s)</th><th style=\"text-align: right;\">       loss</th><th style=\"text-align: right;\">  accuracy</th><th style=\"text-align: right;\">      f1</th></tr>\n",
       "</thead>\n",
       "<tbody>\n",
       "<tr><td>tune_with_parameters_c1630_00000</td><td>TERMINATED</td><td>10.211.4.4:1858736</td><td style=\"text-align: right;\">0.25</td><td style=\"text-align: right;\">   1</td><td style=\"text-align: right;\">   3</td><td style=\"text-align: right;\">   5</td><td style=\"text-align: right;\">   3</td><td style=\"text-align: right;\">0.00302616</td><td style=\"text-align: right;\">   100</td><td style=\"text-align: right;\">        503.703 </td><td style=\"text-align: right;\">0.0436631  </td><td style=\"text-align: right;\">  0.99    </td><td style=\"text-align: right;\">0.989977</td></tr>\n",
       "<tr><td>tune_with_parameters_c1630_00001</td><td>TERMINATED</td><td>10.211.4.4:1858762</td><td style=\"text-align: right;\">0.25</td><td style=\"text-align: right;\">   3</td><td style=\"text-align: right;\">   3</td><td style=\"text-align: right;\">   5</td><td style=\"text-align: right;\">   3</td><td style=\"text-align: right;\">0.00454964</td><td style=\"text-align: right;\">   100</td><td style=\"text-align: right;\">        620.306 </td><td style=\"text-align: right;\">0.00374858 </td><td style=\"text-align: right;\">  0.999   </td><td style=\"text-align: right;\">0.999   </td></tr>\n",
       "<tr><td>tune_with_parameters_c1630_00002</td><td>TERMINATED</td><td>10.211.4.4:1969427</td><td style=\"text-align: right;\">0.2 </td><td style=\"text-align: right;\">   1</td><td style=\"text-align: right;\">   1</td><td style=\"text-align: right;\">   1</td><td style=\"text-align: right;\">   5</td><td style=\"text-align: right;\">0.00312083</td><td style=\"text-align: right;\">   100</td><td style=\"text-align: right;\">        589.28  </td><td style=\"text-align: right;\">0.0115284  </td><td style=\"text-align: right;\">  0.997667</td><td style=\"text-align: right;\">0.997668</td></tr>\n",
       "<tr><td>tune_with_parameters_c1630_00003</td><td>TERMINATED</td><td>10.211.4.4:1995743</td><td style=\"text-align: right;\">0.2 </td><td style=\"text-align: right;\">   1</td><td style=\"text-align: right;\">   5</td><td style=\"text-align: right;\">   1</td><td style=\"text-align: right;\">   3</td><td style=\"text-align: right;\">0.0312976 </td><td style=\"text-align: right;\">   100</td><td style=\"text-align: right;\">        601.021 </td><td style=\"text-align: right;\">0.00210463 </td><td style=\"text-align: right;\">  0.999667</td><td style=\"text-align: right;\">0.999667</td></tr>\n",
       "<tr><td>tune_with_parameters_c1630_00004</td><td>TERMINATED</td><td>10.211.4.4:2084169</td><td style=\"text-align: right;\">0.25</td><td style=\"text-align: right;\">   1</td><td style=\"text-align: right;\">   5</td><td style=\"text-align: right;\">   1</td><td style=\"text-align: right;\">   5</td><td style=\"text-align: right;\">0.0872964 </td><td style=\"text-align: right;\">   100</td><td style=\"text-align: right;\">       1479.18  </td><td style=\"text-align: right;\">0.000101462</td><td style=\"text-align: right;\">  1       </td><td style=\"text-align: right;\">1       </td></tr>\n",
       "<tr><td>tune_with_parameters_c1630_00005</td><td>TERMINATED</td><td>10.211.4.4:2098255</td><td style=\"text-align: right;\">0.5 </td><td style=\"text-align: right;\">   1</td><td style=\"text-align: right;\">   1</td><td style=\"text-align: right;\">   3</td><td style=\"text-align: right;\">   5</td><td style=\"text-align: right;\">0.0125685 </td><td style=\"text-align: right;\">   100</td><td style=\"text-align: right;\">        926.405 </td><td style=\"text-align: right;\">0.000636323</td><td style=\"text-align: right;\">  0.999667</td><td style=\"text-align: right;\">0.999667</td></tr>\n",
       "<tr><td>tune_with_parameters_c1630_00006</td><td>TERMINATED</td><td>10.211.4.4:2144361</td><td style=\"text-align: right;\">0.2 </td><td style=\"text-align: right;\">   5</td><td style=\"text-align: right;\">   3</td><td style=\"text-align: right;\">   3</td><td style=\"text-align: right;\">   3</td><td style=\"text-align: right;\">0.082681  </td><td style=\"text-align: right;\">   100</td><td style=\"text-align: right;\">        613.131 </td><td style=\"text-align: right;\">0.00121453 </td><td style=\"text-align: right;\">  0.999667</td><td style=\"text-align: right;\">0.999667</td></tr>\n",
       "<tr><td>tune_with_parameters_c1630_00007</td><td>TERMINATED</td><td>10.211.4.4:2169643</td><td style=\"text-align: right;\">0.25</td><td style=\"text-align: right;\">   1</td><td style=\"text-align: right;\">   5</td><td style=\"text-align: right;\">   1</td><td style=\"text-align: right;\">   1</td><td style=\"text-align: right;\">0.017799  </td><td style=\"text-align: right;\">    60</td><td style=\"text-align: right;\">        599.651 </td><td style=\"text-align: right;\">0.00165489 </td><td style=\"text-align: right;\">  0.999667</td><td style=\"text-align: right;\">0.999667</td></tr>\n",
       "<tr><td>tune_with_parameters_c1630_00008</td><td>TERMINATED</td><td>10.211.4.4:2181635</td><td style=\"text-align: right;\">0.5 </td><td style=\"text-align: right;\">   5</td><td style=\"text-align: right;\">   5</td><td style=\"text-align: right;\">   3</td><td style=\"text-align: right;\">   3</td><td style=\"text-align: right;\">0.0848701 </td><td style=\"text-align: right;\">    15</td><td style=\"text-align: right;\">         83.0471</td><td style=\"text-align: right;\">0.00908334 </td><td style=\"text-align: right;\">  0.996333</td><td style=\"text-align: right;\">0.996334</td></tr>\n",
       "<tr><td>tune_with_parameters_c1630_00009</td><td>TERMINATED</td><td>10.211.4.4:2186413</td><td style=\"text-align: right;\">0.2 </td><td style=\"text-align: right;\">   1</td><td style=\"text-align: right;\">   5</td><td style=\"text-align: right;\">   3</td><td style=\"text-align: right;\">   3</td><td style=\"text-align: right;\">0.0169378 </td><td style=\"text-align: right;\">   100</td><td style=\"text-align: right;\">        507.259 </td><td style=\"text-align: right;\">0.000270819</td><td style=\"text-align: right;\">  1       </td><td style=\"text-align: right;\">1       </td></tr>\n",
       "</tbody>\n",
       "</table>\n",
       "  </div>\n",
       "</div>\n",
       "<style>\n",
       ".tuneStatus {\n",
       "  color: var(--jp-ui-font-color1);\n",
       "}\n",
       ".tuneStatus .systemInfo {\n",
       "  display: flex;\n",
       "  flex-direction: column;\n",
       "}\n",
       ".tuneStatus td {\n",
       "  white-space: nowrap;\n",
       "}\n",
       ".tuneStatus .trialStatus {\n",
       "  display: flex;\n",
       "  flex-direction: column;\n",
       "}\n",
       ".tuneStatus h3 {\n",
       "  font-weight: bold;\n",
       "}\n",
       ".tuneStatus .hDivider {\n",
       "  border-bottom-width: var(--jp-border-width);\n",
       "  border-bottom-color: var(--jp-border-color0);\n",
       "  border-bottom-style: solid;\n",
       "}\n",
       ".tuneStatus .vDivider {\n",
       "  border-left-width: var(--jp-border-width);\n",
       "  border-left-color: var(--jp-border-color0);\n",
       "  border-left-style: solid;\n",
       "  margin: 0.5em 1em 0.5em 1em;\n",
       "}\n",
       "</style>\n"
      ],
      "text/plain": [
       "<IPython.core.display.HTML object>"
      ]
     },
     "metadata": {},
     "output_type": "display_data"
    },
    {
     "name": "stderr",
     "output_type": "stream",
     "text": [
      "\u001b[36m(tune_with_parameters pid=1858736)\u001b[0m /users/k23058970/miniforge3/envs/Training/lib/python3.10/site-packages/torch/nn/modules/lazy.py:181: UserWarning: Lazy modules are a new feature under heavy development so changes to the API or functionality can happen at any moment.\n",
      "\u001b[36m(tune_with_parameters pid=1858736)\u001b[0m   warnings.warn('Lazy modules are a new feature under heavy development '\n"
     ]
    },
    {
     "name": "stdout",
     "output_type": "stream",
     "text": [
      "\u001b[36m(tune_with_parameters pid=1858762)\u001b[0m loss: 1.093\n"
     ]
    },
    {
     "name": "stderr",
     "output_type": "stream",
     "text": [
      "Val Epoch:0: 0it [00:00, ?it/s]1858736)\u001b[0m \n",
      "\u001b[36m(tune_with_parameters pid=1858762)\u001b[0m /users/k23058970/miniforge3/envs/Training/lib/python3.10/site-packages/torch/nn/modules/lazy.py:181: UserWarning: Lazy modules are a new feature under heavy development so changes to the API or functionality can happen at any moment.\n",
      "\u001b[36m(tune_with_parameters pid=1858762)\u001b[0m   warnings.warn('Lazy modules are a new feature under heavy development '\n",
      "Val Epoch:0: 1it [00:00,  6.85it/s]736)\u001b[0m \n"
     ]
    },
    {
     "name": "stdout",
     "output_type": "stream",
     "text": [
      "\u001b[36m(tune_with_parameters pid=1858762)\u001b[0m /tmp/tmpllt7i2sx/checkpoint.pt\n",
      "\u001b[36m(tune_with_parameters pid=1858762)\u001b[0m loss: 1.099\u001b[32m [repeated 29x across cluster] (Ray deduplicates logs by default. Set RAY_DEDUP_LOGS=0 to disable log deduplication, or see https://docs.ray.io/en/master/ray-observability/user-guides/configure-logging.html#log-deduplication for more options.)\u001b[0m\n",
      "\u001b[36m(tune_with_parameters pid=1858736)\u001b[0m /tmp/tmpvlufga8j/checkpoint.pt\n"
     ]
    },
    {
     "name": "stderr",
     "output_type": "stream",
     "text": [
      "\u001b[36m(tune_with_parameters pid=1858762)\u001b[0m Checkpoint successfully created at: Checkpoint(filesystem=local, path=/scratch/users/k23058970/Model training/results/Single Peak LRCN Null/tune_with_parameters_2024-08-19_13-29-31/tune_with_parameters_c1630_00001_1_dp=0.2500,k1=3,k2=3,k3=5,k4=3,lr=0.0045_2024-08-19_13-30-01/checkpoint_000000)\n"
     ]
    },
    {
     "name": "stdout",
     "output_type": "stream",
     "text": [
      "\u001b[36m(tune_with_parameters pid=1858736)\u001b[0m loss: 1.099\u001b[32m [repeated 28x across cluster]\u001b[0m\n"
     ]
    },
    {
     "name": "stderr",
     "output_type": "stream",
     "text": [
      "Val Epoch:1: 0it [00:00, ?it/s]\u001b[32m [repeated 2x across cluster]\u001b[0m\n",
      "Val Epoch:0: 47it [00:01, 38.31it/s]\u001b[32m [repeated 19x across cluster]\u001b[0m\n",
      "\u001b[36m(tune_with_parameters pid=1858736)\u001b[0m Checkpoint successfully created at: Checkpoint(filesystem=local, path=/scratch/users/k23058970/Model training/results/Single Peak LRCN Null/tune_with_parameters_2024-08-19_13-29-31/tune_with_parameters_c1630_00000_0_dp=0.2500,k1=1,k2=3,k3=5,k4=3,lr=0.0030_2024-08-19_13-30-01/checkpoint_000000)\n"
     ]
    },
    {
     "name": "stdout",
     "output_type": "stream",
     "text": [
      "\u001b[36m(tune_with_parameters pid=1858736)\u001b[0m /tmp/tmpg7_entx3/checkpoint.pt\n"
     ]
    },
    {
     "name": "stderr",
     "output_type": "stream",
     "text": [
      "\u001b[36m(tune_with_parameters pid=1858736)\u001b[0m Checkpoint successfully created at: Checkpoint(filesystem=local, path=/scratch/users/k23058970/Model training/results/Single Peak LRCN Null/tune_with_parameters_2024-08-19_13-29-31/tune_with_parameters_c1630_00000_0_dp=0.2500,k1=1,k2=3,k3=5,k4=3,lr=0.0030_2024-08-19_13-30-01/checkpoint_000001)\n"
     ]
    },
    {
     "name": "stdout",
     "output_type": "stream",
     "text": [
      "\u001b[36m(tune_with_parameters pid=1858736)\u001b[0m loss: 1.099\u001b[32m [repeated 9x across cluster]\u001b[0m\n"
     ]
    },
    {
     "name": "stderr",
     "output_type": "stream",
     "text": [
      "Val Epoch:2: 0it [00:00, ?it/s]\u001b[32m [repeated 2x across cluster]\u001b[0m\n",
      "Val Epoch:1: 47it [00:01, 39.87it/s]\u001b[32m [repeated 18x across cluster]\u001b[0m\n"
     ]
    },
    {
     "name": "stdout",
     "output_type": "stream",
     "text": [
      "\u001b[36m(tune_with_parameters pid=1858736)\u001b[0m loss: 1.097\u001b[32m [repeated 24x across cluster]\u001b[0m\n",
      "\u001b[36m(tune_with_parameters pid=1858762)\u001b[0m \n"
     ]
    },
    {
     "name": "stderr",
     "output_type": "stream",
     "text": [
      "Val Epoch:3: 0it [00:00, ?it/s]\u001b[32m [repeated 2x across cluster]\u001b[0m\n",
      "Val Epoch:2: 47it [00:01, 24.71it/s]\u001b[32m [repeated 20x across cluster]\u001b[0m\n"
     ]
    },
    {
     "name": "stdout",
     "output_type": "stream",
     "text": [
      "\u001b[36m(tune_with_parameters pid=1858762)\u001b[0m loss: 1.099\u001b[32m [repeated 27x across cluster]\u001b[0m\n"
     ]
    },
    {
     "name": "stderr",
     "output_type": "stream",
     "text": [
      "Val Epoch:3: 47it [00:01, 27.00it/s]36)\u001b[0m \n"
     ]
    },
    {
     "name": "stdout",
     "output_type": "stream",
     "text": [
      "\u001b[36m(tune_with_parameters pid=1858736)\u001b[0m loss: 1.099\u001b[32m [repeated 17x across cluster]\u001b[0m\n"
     ]
    },
    {
     "name": "stderr",
     "output_type": "stream",
     "text": [
      "Val Epoch:4: 0it [00:00, ?it/s]\u001b[32m [repeated 2x across cluster]\u001b[0m\n",
      "Val Epoch:3: 47it [00:01, 23.57it/s]\u001b[32m [repeated 18x across cluster]\u001b[0m\n",
      "Val Epoch:4: 47it [00:01, 33.07it/s]36)\u001b[0m \n"
     ]
    },
    {
     "name": "stdout",
     "output_type": "stream",
     "text": [
      "\u001b[36m(tune_with_parameters pid=1858736)\u001b[0m loss: 1.098\u001b[32m [repeated 19x across cluster]\u001b[0m\n"
     ]
    },
    {
     "name": "stderr",
     "output_type": "stream",
     "text": [
      "Val Epoch:5: 0it [00:00, ?it/s]\u001b[32m [repeated 2x across cluster]\u001b[0m\n",
      "Val Epoch:4: 47it [00:01, 28.33it/s]\u001b[32m [repeated 18x across cluster]\u001b[0m\n",
      "Val Epoch:5: 47it [00:01, 39.30it/s]36)\u001b[0m \n"
     ]
    },
    {
     "name": "stdout",
     "output_type": "stream",
     "text": [
      "\u001b[36m(tune_with_parameters pid=1858762)\u001b[0m loss: 1.099\u001b[32m [repeated 25x across cluster]\u001b[0m\n"
     ]
    },
    {
     "name": "stderr",
     "output_type": "stream",
     "text": [
      "Val Epoch:6: 0it [00:00, ?it/s]\u001b[32m [repeated 2x across cluster]\u001b[0m\n",
      "Val Epoch:5: 47it [00:01, 28.24it/s]\u001b[32m [repeated 19x across cluster]\u001b[0m\n"
     ]
    },
    {
     "name": "stdout",
     "output_type": "stream",
     "text": [
      "\u001b[36m(tune_with_parameters pid=1858762)\u001b[0m loss: 1.099\u001b[32m [repeated 24x across cluster]\u001b[0m\n",
      "\u001b[36m(tune_with_parameters pid=1858736)\u001b[0m loss: 1.099\u001b[32m [repeated 18x across cluster]\u001b[0m\n"
     ]
    },
    {
     "name": "stderr",
     "output_type": "stream",
     "text": [
      "Val Epoch:7: 0it [00:00, ?it/s]\u001b[32m [repeated 2x across cluster]\u001b[0m\n",
      "Val Epoch:6: 47it [00:01, 42.28it/s]\u001b[32m [repeated 18x across cluster]\u001b[0m\n"
     ]
    },
    {
     "name": "stdout",
     "output_type": "stream",
     "text": [
      "\u001b[36m(tune_with_parameters pid=1858736)\u001b[0m /tmp/tmpfuzdon8y/checkpoint.pt\n"
     ]
    },
    {
     "name": "stderr",
     "output_type": "stream",
     "text": [
      "\u001b[36m(tune_with_parameters pid=1858736)\u001b[0m Checkpoint successfully created at: Checkpoint(filesystem=local, path=/scratch/users/k23058970/Model training/results/Single Peak LRCN Null/tune_with_parameters_2024-08-19_13-29-31/tune_with_parameters_c1630_00000_0_dp=0.2500,k1=1,k2=3,k3=5,k4=3,lr=0.0030_2024-08-19_13-30-01/checkpoint_000002)\n"
     ]
    },
    {
     "name": "stdout",
     "output_type": "stream",
     "text": [
      "\u001b[36m(tune_with_parameters pid=1858736)\u001b[0m loss: 1.098\u001b[32m [repeated 21x across cluster]\u001b[0m\n"
     ]
    },
    {
     "name": "stderr",
     "output_type": "stream",
     "text": [
      "Val Epoch:7: 0it [00:00, ?it/s]1858762)\u001b[0m \n",
      "Val Epoch:7: 37it [00:01, 42.26it/s]\u001b[32m [repeated 18x across cluster]\u001b[0m\n",
      "Val Epoch:8: 0it [00:00, ?it/s]1858736)\u001b[0m \n"
     ]
    },
    {
     "name": "stdout",
     "output_type": "stream",
     "text": [
      "\u001b[36m(tune_with_parameters pid=1858762)\u001b[0m loss: 1.099\u001b[32m [repeated 20x across cluster]\u001b[0m\n"
     ]
    },
    {
     "name": "stderr",
     "output_type": "stream",
     "text": [
      "Val Epoch:8: 47it [00:01, 46.01it/s]\u001b[32m [repeated 11x across cluster]\u001b[0m\n",
      "Val Epoch:8: 47it [00:01, 33.66it/s]62)\u001b[0m \n"
     ]
    },
    {
     "name": "stdout",
     "output_type": "stream",
     "text": [
      "\u001b[36m(tune_with_parameters pid=1858762)\u001b[0m loss: 1.099\u001b[32m [repeated 19x across cluster]\u001b[0m\n"
     ]
    },
    {
     "name": "stderr",
     "output_type": "stream",
     "text": [
      "Val Epoch:9: 0it [00:00, ?it/s]\u001b[32m [repeated 2x across cluster]\u001b[0m\n",
      "Val Epoch:9: 42it [00:01, 40.64it/s]\u001b[32m [repeated 16x across cluster]\u001b[0m\n"
     ]
    },
    {
     "name": "stdout",
     "output_type": "stream",
     "text": [
      "\u001b[36m(tune_with_parameters pid=1858736)\u001b[0m loss: 1.098\u001b[32m [repeated 25x across cluster]\u001b[0m\n"
     ]
    },
    {
     "name": "stderr",
     "output_type": "stream",
     "text": [
      "Val Epoch:9: 0it [00:00, ?it/s]1858762)\u001b[0m \n",
      "Val Epoch:10: 0it [00:00, ?it/s]858736)\u001b[0m \n",
      "Val Epoch:9: 47it [00:01, 36.12it/s]\u001b[32m [repeated 11x across cluster]\u001b[0m\n",
      "Val Epoch:10: 47it [00:01, 41.15it/s]6)\u001b[0m \n"
     ]
    },
    {
     "name": "stdout",
     "output_type": "stream",
     "text": [
      "\u001b[36m(tune_with_parameters pid=1858762)\u001b[0m loss: 1.099\u001b[32m [repeated 18x across cluster]\u001b[0m\n"
     ]
    },
    {
     "name": "stderr",
     "output_type": "stream",
     "text": [
      "Val Epoch:10: 0it [00:00, ?it/s]858762)\u001b[0m \n",
      "Val Epoch:10: 35it [00:01, 45.97it/s]\u001b[32m [repeated 15x across cluster]\u001b[0m\n"
     ]
    },
    {
     "name": "stdout",
     "output_type": "stream",
     "text": [
      "\u001b[36m(tune_with_parameters pid=1858736)\u001b[0m loss: 1.098\u001b[32m [repeated 21x across cluster]\u001b[0m\n"
     ]
    },
    {
     "name": "stderr",
     "output_type": "stream",
     "text": [
      "Val Epoch:11: 0it [00:00, ?it/s]858736)\u001b[0m \n"
     ]
    },
    {
     "name": "stdout",
     "output_type": "stream",
     "text": [
      "\u001b[36m(tune_with_parameters pid=1858736)\u001b[0m /tmp/tmp5h45j46g/checkpoint.pt\n"
     ]
    },
    {
     "name": "stderr",
     "output_type": "stream",
     "text": [
      "\u001b[36m(tune_with_parameters pid=1858736)\u001b[0m Checkpoint successfully created at: Checkpoint(filesystem=local, path=/scratch/users/k23058970/Model training/results/Single Peak LRCN Null/tune_with_parameters_2024-08-19_13-29-31/tune_with_parameters_c1630_00000_0_dp=0.2500,k1=1,k2=3,k3=5,k4=3,lr=0.0030_2024-08-19_13-30-01/checkpoint_000003)\n",
      "Val Epoch:11: 47it [00:01, 32.82it/s]\u001b[32m [repeated 13x across cluster]\u001b[0m\n"
     ]
    },
    {
     "name": "stdout",
     "output_type": "stream",
     "text": [
      "\u001b[36m(tune_with_parameters pid=1858736)\u001b[0m loss: 1.098\u001b[32m [repeated 22x across cluster]\u001b[0m\n"
     ]
    },
    {
     "name": "stderr",
     "output_type": "stream",
     "text": [
      "Val Epoch:11: 0it [00:00, ?it/s]858762)\u001b[0m \n",
      "Val Epoch:12: 0it [00:00, ?it/s]858736)\u001b[0m \n",
      "Val Epoch:12: 23it [00:00, 36.12it/s]6)\u001b[0m \n",
      "Val Epoch:12: 47it [00:01, 32.87it/s]6)\u001b[0m \n"
     ]
    },
    {
     "name": "stdout",
     "output_type": "stream",
     "text": [
      "\u001b[36m(tune_with_parameters pid=1858762)\u001b[0m loss: 1.099\u001b[32m [repeated 17x across cluster]\u001b[0m\n"
     ]
    },
    {
     "name": "stderr",
     "output_type": "stream",
     "text": [
      "Val Epoch:12: 39it [00:01, 42.79it/s]\u001b[32m [repeated 16x across cluster]\u001b[0m\n",
      "Val Epoch:12: 0it [00:00, ?it/s]858762)\u001b[0m \n",
      "Val Epoch:13: 0it [00:00, ?it/s]858736)\u001b[0m \n"
     ]
    },
    {
     "name": "stdout",
     "output_type": "stream",
     "text": [
      "\u001b[36m(tune_with_parameters pid=1858762)\u001b[0m loss: 1.098\u001b[32m [repeated 24x across cluster]\u001b[0m\n",
      "\u001b[36m(tune_with_parameters pid=1858736)\u001b[0m /tmp/tmpra_rfil6/checkpoint.pt\n"
     ]
    },
    {
     "name": "stderr",
     "output_type": "stream",
     "text": [
      "\u001b[36m(tune_with_parameters pid=1858736)\u001b[0m Checkpoint successfully created at: Checkpoint(filesystem=local, path=/scratch/users/k23058970/Model training/results/Single Peak LRCN Null/tune_with_parameters_2024-08-19_13-29-31/tune_with_parameters_c1630_00000_0_dp=0.2500,k1=1,k2=3,k3=5,k4=3,lr=0.0030_2024-08-19_13-30-01/checkpoint_000004)\n",
      "Val Epoch:13: 47it [00:01, 34.66it/s]\u001b[32m [repeated 19x across cluster]\u001b[0m\n",
      "Val Epoch:13: 0it [00:00, ?it/s]858762)\u001b[0m \n"
     ]
    },
    {
     "name": "stdout",
     "output_type": "stream",
     "text": [
      "\u001b[36m(tune_with_parameters pid=1858736)\u001b[0m loss: 1.098\u001b[32m [repeated 23x across cluster]\u001b[0m\n"
     ]
    },
    {
     "name": "stderr",
     "output_type": "stream",
     "text": [
      "Val Epoch:14: 0it [00:00, ?it/s]858736)\u001b[0m \n"
     ]
    },
    {
     "name": "stdout",
     "output_type": "stream",
     "text": [
      "\u001b[36m(tune_with_parameters pid=1858736)\u001b[0m loss: 1.098\u001b[32m [repeated 17x across cluster]\u001b[0m\n"
     ]
    },
    {
     "name": "stderr",
     "output_type": "stream",
     "text": [
      "Val Epoch:14: 47it [00:01, 33.23it/s]\u001b[32m [repeated 20x across cluster]\u001b[0m\n",
      "Val Epoch:14: 0it [00:00, ?it/s]858762)\u001b[0m \n",
      "Val Epoch:14: 3it [00:00, 11.77it/s]62)\u001b[0m \n",
      "Val Epoch:15: 0it [00:00, ?it/s]858736)\u001b[0m \n"
     ]
    },
    {
     "name": "stdout",
     "output_type": "stream",
     "text": [
      "\u001b[36m(tune_with_parameters pid=1858762)\u001b[0m loss: 1.098\u001b[32m [repeated 20x across cluster]\u001b[0m\n"
     ]
    },
    {
     "name": "stderr",
     "output_type": "stream",
     "text": [
      "Val Epoch:15: 47it [00:01, 30.00it/s]\u001b[32m [repeated 18x across cluster]\u001b[0m\n",
      "Val Epoch:15: 0it [00:00, ?it/s]858762)\u001b[0m \n"
     ]
    },
    {
     "name": "stdout",
     "output_type": "stream",
     "text": [
      "\u001b[36m(tune_with_parameters pid=1858736)\u001b[0m loss: 1.098\u001b[32m [repeated 26x across cluster]\u001b[0m\n"
     ]
    },
    {
     "name": "stderr",
     "output_type": "stream",
     "text": [
      "Val Epoch:16: 0it [00:00, ?it/s]858736)\u001b[0m \n"
     ]
    },
    {
     "name": "stdout",
     "output_type": "stream",
     "text": [
      "\u001b[36m(tune_with_parameters pid=1858736)\u001b[0m loss: 1.098\u001b[32m [repeated 14x across cluster]\u001b[0m\n",
      "\u001b[36m(tune_with_parameters pid=1858762)\u001b[0m \n"
     ]
    },
    {
     "name": "stderr",
     "output_type": "stream",
     "text": [
      "Val Epoch:16: 47it [00:01, 27.20it/s]\u001b[32m [repeated 20x across cluster]\u001b[0m\n",
      "Val Epoch:16: 0it [00:00, ?it/s]858762)\u001b[0m \n",
      "Val Epoch:17: 0it [00:00, ?it/s]858736)\u001b[0m \n"
     ]
    },
    {
     "name": "stdout",
     "output_type": "stream",
     "text": [
      "\u001b[36m(tune_with_parameters pid=1858762)\u001b[0m loss: 1.099\u001b[32m [repeated 18x across cluster]\u001b[0m\n"
     ]
    },
    {
     "name": "stderr",
     "output_type": "stream",
     "text": [
      "Val Epoch:18: 0it [00:00, ?it/s]858736)\u001b[0m \n",
      "Val Epoch:17: 47it [00:01, 30.77it/s]\u001b[32m [repeated 21x across cluster]\u001b[0m\n",
      "Val Epoch:17: 0it [00:00, ?it/s]858762)\u001b[0m \n",
      "Val Epoch:18: 47it [00:01, 28.65it/s]6)\u001b[0m \n"
     ]
    },
    {
     "name": "stdout",
     "output_type": "stream",
     "text": [
      "\u001b[36m(tune_with_parameters pid=1858736)\u001b[0m /tmp/tmpv9ek8bss/checkpoint.pt\n",
      "\u001b[36m(tune_with_parameters pid=1858762)\u001b[0m loss: 1.098\u001b[32m [repeated 29x across cluster]\u001b[0m\n"
     ]
    },
    {
     "name": "stderr",
     "output_type": "stream",
     "text": [
      "\u001b[36m(tune_with_parameters pid=1858736)\u001b[0m Checkpoint successfully created at: Checkpoint(filesystem=local, path=/scratch/users/k23058970/Model training/results/Single Peak LRCN Null/tune_with_parameters_2024-08-19_13-29-31/tune_with_parameters_c1630_00000_0_dp=0.2500,k1=1,k2=3,k3=5,k4=3,lr=0.0030_2024-08-19_13-30-01/checkpoint_000005)\n",
      "Val Epoch:17: 47it [00:01, 38.62it/s]\u001b[32m [repeated 17x across cluster]\u001b[0m\n",
      "Val Epoch:19: 0it [00:00, ?it/s]858736)\u001b[0m \n",
      "Val Epoch:18: 0it [00:00, ?it/s]858762)\u001b[0m \n"
     ]
    },
    {
     "name": "stdout",
     "output_type": "stream",
     "text": [
      "\u001b[36m(tune_with_parameters pid=1858736)\u001b[0m /tmp/tmpflkbu5r3/checkpoint.pt\n",
      "\u001b[36m(tune_with_parameters pid=1858762)\u001b[0m loss: 1.098\u001b[32m [repeated 30x across cluster]\u001b[0m\n"
     ]
    },
    {
     "name": "stderr",
     "output_type": "stream",
     "text": [
      "\u001b[36m(tune_with_parameters pid=1858736)\u001b[0m Checkpoint successfully created at: Checkpoint(filesystem=local, path=/scratch/users/k23058970/Model training/results/Single Peak LRCN Null/tune_with_parameters_2024-08-19_13-29-31/tune_with_parameters_c1630_00000_0_dp=0.2500,k1=1,k2=3,k3=5,k4=3,lr=0.0030_2024-08-19_13-30-01/checkpoint_000006)\n"
     ]
    },
    {
     "name": "stdout",
     "output_type": "stream",
     "text": [
      "\u001b[36m(tune_with_parameters pid=1858762)\u001b[0m loss: 1.098\u001b[32m [repeated 26x across cluster]\u001b[0m\n"
     ]
    },
    {
     "name": "stderr",
     "output_type": "stream",
     "text": [
      "Val Epoch:18: 47it [00:01, 29.67it/s]\u001b[32m [repeated 22x across cluster]\u001b[0m\n",
      "Val Epoch:20: 0it [00:00, ?it/s]858736)\u001b[0m \n",
      "Val Epoch:19: 0it [00:00, ?it/s]858762)\u001b[0m \n"
     ]
    },
    {
     "name": "stdout",
     "output_type": "stream",
     "text": [
      "\u001b[36m(tune_with_parameters pid=1858736)\u001b[0m /tmp/tmpu9e3k62o/checkpoint.pt\n"
     ]
    },
    {
     "name": "stderr",
     "output_type": "stream",
     "text": [
      "\u001b[36m(tune_with_parameters pid=1858736)\u001b[0m Checkpoint successfully created at: Checkpoint(filesystem=local, path=/scratch/users/k23058970/Model training/results/Single Peak LRCN Null/tune_with_parameters_2024-08-19_13-29-31/tune_with_parameters_c1630_00000_0_dp=0.2500,k1=1,k2=3,k3=5,k4=3,lr=0.0030_2024-08-19_13-30-01/checkpoint_000007)\n"
     ]
    },
    {
     "name": "stdout",
     "output_type": "stream",
     "text": [
      "\u001b[36m(tune_with_parameters pid=1858736)\u001b[0m loss: 1.097\u001b[32m [repeated 10x across cluster]\u001b[0m\n"
     ]
    },
    {
     "name": "stderr",
     "output_type": "stream",
     "text": [
      "Val Epoch:19: 47it [00:01, 38.24it/s]\u001b[32m [repeated 21x across cluster]\u001b[0m\n",
      "Val Epoch:21: 0it [00:00, ?it/s]858736)\u001b[0m \n",
      "Val Epoch:20: 0it [00:00, ?it/s]858762)\u001b[0m \n"
     ]
    },
    {
     "name": "stdout",
     "output_type": "stream",
     "text": [
      "\u001b[36m(tune_with_parameters pid=1858736)\u001b[0m loss: 1.097\u001b[32m [repeated 25x across cluster]\u001b[0m\n"
     ]
    },
    {
     "name": "stderr",
     "output_type": "stream",
     "text": [
      "Val Epoch:20: 47it [00:01, 39.15it/s]\u001b[32m [repeated 23x across cluster]\u001b[0m\n",
      "Val Epoch:22: 0it [00:00, ?it/s]858736)\u001b[0m \n"
     ]
    },
    {
     "name": "stdout",
     "output_type": "stream",
     "text": [
      "\u001b[36m(tune_with_parameters pid=1858762)\u001b[0m loss: 1.098\u001b[32m [repeated 29x across cluster]\u001b[0m\n"
     ]
    },
    {
     "name": "stderr",
     "output_type": "stream",
     "text": [
      "Val Epoch:21: 0it [00:00, ?it/s]858762)\u001b[0m \n",
      "Val Epoch:21: 47it [00:01, 24.52it/s]2)\u001b[0m \n"
     ]
    },
    {
     "name": "stdout",
     "output_type": "stream",
     "text": [
      "\u001b[36m(tune_with_parameters pid=1858736)\u001b[0m loss: 1.097\u001b[32m [repeated 13x across cluster]\u001b[0m\n"
     ]
    },
    {
     "name": "stderr",
     "output_type": "stream",
     "text": [
      "Val Epoch:21: 39it [00:01, 34.71it/s]\u001b[32m [repeated 19x across cluster]\u001b[0m\n",
      "Val Epoch:23: 0it [00:00, ?it/s]858736)\u001b[0m \n",
      "Val Epoch:22: 0it [00:00, ?it/s]858762)\u001b[0m \n",
      "Val Epoch:23: 47it [00:01, 30.82it/s]6)\u001b[0m \n"
     ]
    },
    {
     "name": "stdout",
     "output_type": "stream",
     "text": [
      "\u001b[36m(tune_with_parameters pid=1858736)\u001b[0m loss: 1.097\u001b[32m [repeated 19x across cluster]\u001b[0m\n",
      "\u001b[36m(tune_with_parameters pid=1858762)\u001b[0m /tmp/tmpc_uw7ui1/checkpoint.pt\n"
     ]
    },
    {
     "name": "stderr",
     "output_type": "stream",
     "text": [
      "\u001b[36m(tune_with_parameters pid=1858762)\u001b[0m Checkpoint successfully created at: Checkpoint(filesystem=local, path=/scratch/users/k23058970/Model training/results/Single Peak LRCN Null/tune_with_parameters_2024-08-19_13-29-31/tune_with_parameters_c1630_00001_1_dp=0.2500,k1=3,k2=3,k3=5,k4=3,lr=0.0045_2024-08-19_13-30-01/checkpoint_000001)\n",
      "Val Epoch:22: 47it [00:01, 25.44it/s]\u001b[32m [repeated 20x across cluster]\u001b[0m\n",
      "Val Epoch:24: 0it [00:00, ?it/s]858736)\u001b[0m \n"
     ]
    },
    {
     "name": "stdout",
     "output_type": "stream",
     "text": [
      "\u001b[36m(tune_with_parameters pid=1858762)\u001b[0m loss: 1.098\u001b[32m [repeated 25x across cluster]\u001b[0m\n"
     ]
    },
    {
     "name": "stderr",
     "output_type": "stream",
     "text": [
      "Val Epoch:23: 0it [00:00, ?it/s]858762)\u001b[0m \n"
     ]
    },
    {
     "name": "stdout",
     "output_type": "stream",
     "text": [
      "\u001b[36m(tune_with_parameters pid=1858736)\u001b[0m /tmp/tmp77uj_s5d/checkpoint.pt\n"
     ]
    },
    {
     "name": "stderr",
     "output_type": "stream",
     "text": [
      "\u001b[36m(tune_with_parameters pid=1858736)\u001b[0m Checkpoint successfully created at: Checkpoint(filesystem=local, path=/scratch/users/k23058970/Model training/results/Single Peak LRCN Null/tune_with_parameters_2024-08-19_13-29-31/tune_with_parameters_c1630_00000_0_dp=0.2500,k1=1,k2=3,k3=5,k4=3,lr=0.0030_2024-08-19_13-30-01/checkpoint_000008)\n",
      "Val Epoch:23: 47it [00:01, 26.09it/s]2)\u001b[0m \n"
     ]
    },
    {
     "name": "stdout",
     "output_type": "stream",
     "text": [
      "\u001b[36m(tune_with_parameters pid=1858762)\u001b[0m /tmp/tmpddy209p1/checkpoint.pt\n",
      "\u001b[36m(tune_with_parameters pid=1858736)\u001b[0m loss: 1.096\u001b[32m [repeated 15x across cluster]\u001b[0m\n"
     ]
    },
    {
     "name": "stderr",
     "output_type": "stream",
     "text": [
      "Val Epoch:23: 39it [00:01, 31.86it/s]\u001b[32m [repeated 18x across cluster]\u001b[0m\n",
      "Val Epoch:25: 0it [00:00, ?it/s]858736)\u001b[0m \n",
      "\u001b[36m(tune_with_parameters pid=1858762)\u001b[0m Checkpoint successfully created at: Checkpoint(filesystem=local, path=/scratch/users/k23058970/Model training/results/Single Peak LRCN Null/tune_with_parameters_2024-08-19_13-29-31/tune_with_parameters_c1630_00001_1_dp=0.2500,k1=3,k2=3,k3=5,k4=3,lr=0.0045_2024-08-19_13-30-01/checkpoint_000002)\n",
      "Val Epoch:24: 0it [00:00, ?it/s]858762)\u001b[0m \n"
     ]
    },
    {
     "name": "stdout",
     "output_type": "stream",
     "text": [
      "\u001b[36m(tune_with_parameters pid=1858736)\u001b[0m loss: 1.096\u001b[32m [repeated 20x across cluster]\u001b[0m\n"
     ]
    },
    {
     "name": "stderr",
     "output_type": "stream",
     "text": [
      "Val Epoch:24: 47it [00:02, 22.49it/s]\u001b[32m [repeated 21x across cluster]\u001b[0m\n",
      "Val Epoch:26: 0it [00:00, ?it/s]858736)\u001b[0m \n"
     ]
    },
    {
     "name": "stdout",
     "output_type": "stream",
     "text": [
      "\u001b[36m(tune_with_parameters pid=1858762)\u001b[0m loss: 1.097\u001b[32m [repeated 25x across cluster]\u001b[0m\n"
     ]
    },
    {
     "name": "stderr",
     "output_type": "stream",
     "text": [
      "Val Epoch:25: 0it [00:00, ?it/s]858762)\u001b[0m \n"
     ]
    },
    {
     "name": "stdout",
     "output_type": "stream",
     "text": [
      "\u001b[36m(tune_with_parameters pid=1858736)\u001b[0m /tmp/tmpqj7x17kc/checkpoint.pt\n"
     ]
    },
    {
     "name": "stderr",
     "output_type": "stream",
     "text": [
      "\u001b[36m(tune_with_parameters pid=1858736)\u001b[0m Checkpoint successfully created at: Checkpoint(filesystem=local, path=/scratch/users/k23058970/Model training/results/Single Peak LRCN Null/tune_with_parameters_2024-08-19_13-29-31/tune_with_parameters_c1630_00000_0_dp=0.2500,k1=1,k2=3,k3=5,k4=3,lr=0.0030_2024-08-19_13-30-01/checkpoint_000009)\n"
     ]
    },
    {
     "name": "stdout",
     "output_type": "stream",
     "text": [
      "\u001b[36m(tune_with_parameters pid=1858762)\u001b[0m loss: 1.097\u001b[32m [repeated 12x across cluster]\u001b[0m\n"
     ]
    },
    {
     "name": "stderr",
     "output_type": "stream",
     "text": [
      "Val Epoch:25: 47it [00:02, 21.39it/s]\u001b[32m [repeated 20x across cluster]\u001b[0m\n",
      "Val Epoch:27: 0it [00:00, ?it/s]858736)\u001b[0m \n",
      "Val Epoch:26: 0it [00:00, ?it/s]858762)\u001b[0m \n"
     ]
    },
    {
     "name": "stdout",
     "output_type": "stream",
     "text": [
      "\u001b[36m(tune_with_parameters pid=1858736)\u001b[0m /tmp/tmpoe283qh6/checkpoint.pt\n"
     ]
    },
    {
     "name": "stderr",
     "output_type": "stream",
     "text": [
      "\u001b[36m(tune_with_parameters pid=1858736)\u001b[0m Checkpoint successfully created at: Checkpoint(filesystem=local, path=/scratch/users/k23058970/Model training/results/Single Peak LRCN Null/tune_with_parameters_2024-08-19_13-29-31/tune_with_parameters_c1630_00000_0_dp=0.2500,k1=1,k2=3,k3=5,k4=3,lr=0.0030_2024-08-19_13-30-01/checkpoint_000010)\n"
     ]
    },
    {
     "name": "stdout",
     "output_type": "stream",
     "text": [
      "\u001b[36m(tune_with_parameters pid=1858736)\u001b[0m loss: 1.096\u001b[32m [repeated 22x across cluster]\u001b[0m\n",
      "\u001b[36m(tune_with_parameters pid=1858762)\u001b[0m /tmp/tmpipdor9t2/checkpoint.pt\n"
     ]
    },
    {
     "name": "stderr",
     "output_type": "stream",
     "text": [
      "Val Epoch:26: 47it [00:02, 23.15it/s]\u001b[32m [repeated 19x across cluster]\u001b[0m\n",
      "Val Epoch:28: 0it [00:00, ?it/s]858736)\u001b[0m \n",
      "\u001b[36m(tune_with_parameters pid=1858762)\u001b[0m Checkpoint successfully created at: Checkpoint(filesystem=local, path=/scratch/users/k23058970/Model training/results/Single Peak LRCN Null/tune_with_parameters_2024-08-19_13-29-31/tune_with_parameters_c1630_00001_1_dp=0.2500,k1=3,k2=3,k3=5,k4=3,lr=0.0045_2024-08-19_13-30-01/checkpoint_000003)\n"
     ]
    },
    {
     "name": "stdout",
     "output_type": "stream",
     "text": [
      "\u001b[36m(tune_with_parameters pid=1858762)\u001b[0m loss: 1.097\u001b[32m [repeated 25x across cluster]\u001b[0m\n",
      "\u001b[36m(tune_with_parameters pid=1858736)\u001b[0m /tmp/tmpk6mozpvn/checkpoint.pt\n"
     ]
    },
    {
     "name": "stderr",
     "output_type": "stream",
     "text": [
      "\u001b[36m(tune_with_parameters pid=1858736)\u001b[0m Checkpoint successfully created at: Checkpoint(filesystem=local, path=/scratch/users/k23058970/Model training/results/Single Peak LRCN Null/tune_with_parameters_2024-08-19_13-29-31/tune_with_parameters_c1630_00000_0_dp=0.2500,k1=1,k2=3,k3=5,k4=3,lr=0.0030_2024-08-19_13-30-01/checkpoint_000011)\n",
      "Val Epoch:27: 0it [00:00, ?it/s]858762)\u001b[0m \n"
     ]
    },
    {
     "name": "stdout",
     "output_type": "stream",
     "text": [
      "\u001b[36m(tune_with_parameters pid=1858762)\u001b[0m /tmp/tmprcvxpnfz/checkpoint.pt\n",
      "\u001b[36m(tune_with_parameters pid=1858736)\u001b[0m loss: 1.095\u001b[32m [repeated 17x across cluster]\u001b[0m\n"
     ]
    },
    {
     "name": "stderr",
     "output_type": "stream",
     "text": [
      "Val Epoch:27: 47it [00:01, 29.62it/s]\u001b[32m [repeated 19x across cluster]\u001b[0m\n",
      "\u001b[36m(tune_with_parameters pid=1858762)\u001b[0m Checkpoint successfully created at: Checkpoint(filesystem=local, path=/scratch/users/k23058970/Model training/results/Single Peak LRCN Null/tune_with_parameters_2024-08-19_13-29-31/tune_with_parameters_c1630_00001_1_dp=0.2500,k1=3,k2=3,k3=5,k4=3,lr=0.0045_2024-08-19_13-30-01/checkpoint_000004)\n",
      "Val Epoch:29: 0it [00:00, ?it/s]858736)\u001b[0m \n",
      "Val Epoch:29: 25it [00:00, 39.01it/s]6)\u001b[0m \n"
     ]
    },
    {
     "name": "stdout",
     "output_type": "stream",
     "text": [
      "\u001b[36m(tune_with_parameters pid=1858736)\u001b[0m /tmp/tmpbcg7im0n/checkpoint.pt\n"
     ]
    },
    {
     "name": "stderr",
     "output_type": "stream",
     "text": [
      "\u001b[36m(tune_with_parameters pid=1858736)\u001b[0m Checkpoint successfully created at: Checkpoint(filesystem=local, path=/scratch/users/k23058970/Model training/results/Single Peak LRCN Null/tune_with_parameters_2024-08-19_13-29-31/tune_with_parameters_c1630_00000_0_dp=0.2500,k1=1,k2=3,k3=5,k4=3,lr=0.0030_2024-08-19_13-30-01/checkpoint_000012)\n",
      "Val Epoch:28: 0it [00:00, ?it/s]858762)\u001b[0m \n"
     ]
    },
    {
     "name": "stdout",
     "output_type": "stream",
     "text": [
      "\u001b[36m(tune_with_parameters pid=1858736)\u001b[0m loss: 1.094\u001b[32m [repeated 19x across cluster]\u001b[0m\n"
     ]
    },
    {
     "name": "stderr",
     "output_type": "stream",
     "text": [
      "Val Epoch:28: 47it [00:01, 38.22it/s]\u001b[32m [repeated 18x across cluster]\u001b[0m\n",
      "Val Epoch:30: 0it [00:00, ?it/s]858736)\u001b[0m \n"
     ]
    },
    {
     "name": "stdout",
     "output_type": "stream",
     "text": [
      "\u001b[36m(tune_with_parameters pid=1858762)\u001b[0m loss: 1.096\u001b[32m [repeated 23x across cluster]\u001b[0m\n",
      "\u001b[36m(tune_with_parameters pid=1858736)\u001b[0m /tmp/tmp4ta1i6ai/checkpoint.pt\n"
     ]
    },
    {
     "name": "stderr",
     "output_type": "stream",
     "text": [
      "\u001b[36m(tune_with_parameters pid=1858736)\u001b[0m Checkpoint successfully created at: Checkpoint(filesystem=local, path=/scratch/users/k23058970/Model training/results/Single Peak LRCN Null/tune_with_parameters_2024-08-19_13-29-31/tune_with_parameters_c1630_00000_0_dp=0.2500,k1=1,k2=3,k3=5,k4=3,lr=0.0030_2024-08-19_13-30-01/checkpoint_000013)\n",
      "Val Epoch:29: 0it [00:00, ?it/s]858762)\u001b[0m \n"
     ]
    },
    {
     "name": "stdout",
     "output_type": "stream",
     "text": [
      "\u001b[36m(tune_with_parameters pid=1858736)\u001b[0m loss: 1.093\u001b[32m [repeated 20x across cluster]\u001b[0m\n"
     ]
    },
    {
     "name": "stderr",
     "output_type": "stream",
     "text": [
      "Val Epoch:29: 47it [00:01, 36.57it/s]\u001b[32m [repeated 19x across cluster]\u001b[0m\n",
      "Val Epoch:31: 0it [00:00, ?it/s]858736)\u001b[0m \n",
      "Val Epoch:30: 0it [00:00, ?it/s]858762)\u001b[0m \n"
     ]
    },
    {
     "name": "stdout",
     "output_type": "stream",
     "text": [
      "\u001b[36m(tune_with_parameters pid=1858736)\u001b[0m loss: 1.093\u001b[32m [repeated 21x across cluster]\u001b[0m\n"
     ]
    },
    {
     "name": "stderr",
     "output_type": "stream",
     "text": [
      "Val Epoch:30: 47it [00:01, 38.34it/s]\u001b[32m [repeated 19x across cluster]\u001b[0m\n",
      "Val Epoch:32: 0it [00:00, ?it/s]858736)\u001b[0m \n"
     ]
    },
    {
     "name": "stdout",
     "output_type": "stream",
     "text": [
      "\u001b[36m(tune_with_parameters pid=1858762)\u001b[0m loss: 1.095\u001b[32m [repeated 19x across cluster]\u001b[0m\n",
      "\u001b[36m(tune_with_parameters pid=1858736)\u001b[0m /tmp/tmpcdl84h9q/checkpoint.pt\n"
     ]
    },
    {
     "name": "stderr",
     "output_type": "stream",
     "text": [
      "\u001b[36m(tune_with_parameters pid=1858736)\u001b[0m Checkpoint successfully created at: Checkpoint(filesystem=local, path=/scratch/users/k23058970/Model training/results/Single Peak LRCN Null/tune_with_parameters_2024-08-19_13-29-31/tune_with_parameters_c1630_00000_0_dp=0.2500,k1=1,k2=3,k3=5,k4=3,lr=0.0030_2024-08-19_13-30-01/checkpoint_000014)\n",
      "Val Epoch:31: 0it [00:00, ?it/s]858762)\u001b[0m \n",
      "Val Epoch:31: 30it [00:00, 43.11it/s]\u001b[32m [repeated 17x across cluster]\u001b[0m\n"
     ]
    },
    {
     "name": "stdout",
     "output_type": "stream",
     "text": [
      "\u001b[36m(tune_with_parameters pid=1858736)\u001b[0m loss: 1.092\u001b[32m [repeated 20x across cluster]\u001b[0m\n"
     ]
    },
    {
     "name": "stderr",
     "output_type": "stream",
     "text": [
      "Val Epoch:33: 47it [00:01, 38.46it/s]6)\u001b[0m \n"
     ]
    },
    {
     "name": "stdout",
     "output_type": "stream",
     "text": [
      "\u001b[36m(tune_with_parameters pid=1858736)\u001b[0m /tmp/tmpsti1gsa7/checkpoint.pt\n"
     ]
    },
    {
     "name": "stderr",
     "output_type": "stream",
     "text": [
      "\u001b[36m(tune_with_parameters pid=1858736)\u001b[0m Checkpoint successfully created at: Checkpoint(filesystem=local, path=/scratch/users/k23058970/Model training/results/Single Peak LRCN Null/tune_with_parameters_2024-08-19_13-29-31/tune_with_parameters_c1630_00000_0_dp=0.2500,k1=1,k2=3,k3=5,k4=3,lr=0.0030_2024-08-19_13-30-01/checkpoint_000015)\n",
      "Val Epoch:33: 0it [00:00, ?it/s]858736)\u001b[0m \n",
      "Val Epoch:32: 0it [00:00, ?it/s]858762)\u001b[0m \n",
      "Val Epoch:33: 37it [00:01, 46.38it/s]\u001b[32m [repeated 10x across cluster]\u001b[0m\n"
     ]
    },
    {
     "name": "stdout",
     "output_type": "stream",
     "text": [
      "\u001b[36m(tune_with_parameters pid=1858736)\u001b[0m loss: 1.091\u001b[32m [repeated 21x across cluster]\u001b[0m\n"
     ]
    },
    {
     "name": "stderr",
     "output_type": "stream",
     "text": [
      "Val Epoch:34: 0it [00:00, ?it/s]858736)\u001b[0m \n",
      "Val Epoch:34: 36it [00:00, 47.74it/s]\u001b[32m [repeated 17x across cluster]\u001b[0m\n"
     ]
    },
    {
     "name": "stdout",
     "output_type": "stream",
     "text": [
      "\u001b[36m(tune_with_parameters pid=1858736)\u001b[0m /tmp/tmp8nbqmglk/checkpoint.pt\n",
      "\u001b[36m(tune_with_parameters pid=1858762)\u001b[0m loss: 1.093\u001b[32m [repeated 18x across cluster]\u001b[0m\n"
     ]
    },
    {
     "name": "stderr",
     "output_type": "stream",
     "text": [
      "\u001b[36m(tune_with_parameters pid=1858736)\u001b[0m Checkpoint successfully created at: Checkpoint(filesystem=local, path=/scratch/users/k23058970/Model training/results/Single Peak LRCN Null/tune_with_parameters_2024-08-19_13-29-31/tune_with_parameters_c1630_00000_0_dp=0.2500,k1=1,k2=3,k3=5,k4=3,lr=0.0030_2024-08-19_13-30-01/checkpoint_000016)\n",
      "Val Epoch:33: 0it [00:00, ?it/s]858762)\u001b[0m \n"
     ]
    },
    {
     "name": "stdout",
     "output_type": "stream",
     "text": [
      "\u001b[36m(tune_with_parameters pid=1858736)\u001b[0m loss: 1.089\u001b[32m [repeated 22x across cluster]\u001b[0m\n"
     ]
    },
    {
     "name": "stderr",
     "output_type": "stream",
     "text": [
      "Val Epoch:33: 47it [00:01, 33.75it/s]\u001b[32m [repeated 13x across cluster]\u001b[0m\n"
     ]
    },
    {
     "name": "stdout",
     "output_type": "stream",
     "text": [
      "\u001b[36m(tune_with_parameters pid=1858736)\u001b[0m /tmp/tmpxadoirf9/checkpoint.pt\n"
     ]
    },
    {
     "name": "stderr",
     "output_type": "stream",
     "text": [
      "\u001b[36m(tune_with_parameters pid=1858736)\u001b[0m Checkpoint successfully created at: Checkpoint(filesystem=local, path=/scratch/users/k23058970/Model training/results/Single Peak LRCN Null/tune_with_parameters_2024-08-19_13-29-31/tune_with_parameters_c1630_00000_0_dp=0.2500,k1=1,k2=3,k3=5,k4=3,lr=0.0030_2024-08-19_13-30-01/checkpoint_000017)\n",
      "Val Epoch:35: 0it [00:00, ?it/s]858736)\u001b[0m \n",
      "Val Epoch:34: 0it [00:00, ?it/s]858762)\u001b[0m \n"
     ]
    },
    {
     "name": "stdout",
     "output_type": "stream",
     "text": [
      "\u001b[36m(tune_with_parameters pid=1858736)\u001b[0m loss: 1.088\u001b[32m [repeated 21x across cluster]\u001b[0m\n"
     ]
    },
    {
     "name": "stderr",
     "output_type": "stream",
     "text": [
      "Val Epoch:34: 36it [00:00, 40.51it/s]\u001b[32m [repeated 18x across cluster]\u001b[0m\n",
      "Val Epoch:36: 0it [00:00, ?it/s]858736)\u001b[0m \n"
     ]
    },
    {
     "name": "stdout",
     "output_type": "stream",
     "text": [
      "\u001b[36m(tune_with_parameters pid=1858762)\u001b[0m loss: 1.088\u001b[32m [repeated 18x across cluster]\u001b[0m\n",
      "\u001b[36m(tune_with_parameters pid=1858736)\u001b[0m /tmp/tmpcyadjw97/checkpoint.pt\n"
     ]
    },
    {
     "name": "stderr",
     "output_type": "stream",
     "text": [
      "\u001b[36m(tune_with_parameters pid=1858736)\u001b[0m Checkpoint successfully created at: Checkpoint(filesystem=local, path=/scratch/users/k23058970/Model training/results/Single Peak LRCN Null/tune_with_parameters_2024-08-19_13-29-31/tune_with_parameters_c1630_00000_0_dp=0.2500,k1=1,k2=3,k3=5,k4=3,lr=0.0030_2024-08-19_13-30-01/checkpoint_000018)\n",
      "Val Epoch:35: 0it [00:00, ?it/s]858762)\u001b[0m \n",
      "Val Epoch:36: 47it [00:01, 31.53it/s]\u001b[32m [repeated 12x across cluster]\u001b[0m\n",
      "Val Epoch:35: 47it [00:01, 37.41it/s]2)\u001b[0m \n"
     ]
    },
    {
     "name": "stdout",
     "output_type": "stream",
     "text": [
      "\u001b[36m(tune_with_parameters pid=1858762)\u001b[0m /tmp/tmpgc7olod4/checkpoint.pt\n",
      "\u001b[36m(tune_with_parameters pid=1858762)\u001b[0m loss: 1.084\u001b[32m [repeated 18x across cluster]\u001b[0m\n"
     ]
    },
    {
     "name": "stderr",
     "output_type": "stream",
     "text": [
      "\u001b[36m(tune_with_parameters pid=1858762)\u001b[0m Checkpoint successfully created at: Checkpoint(filesystem=local, path=/scratch/users/k23058970/Model training/results/Single Peak LRCN Null/tune_with_parameters_2024-08-19_13-29-31/tune_with_parameters_c1630_00001_1_dp=0.2500,k1=3,k2=3,k3=5,k4=3,lr=0.0045_2024-08-19_13-30-01/checkpoint_000005)\n",
      "Val Epoch:37: 0it [00:00, ?it/s]858736)\u001b[0m \n",
      "Val Epoch:37: 25it [00:01, 30.51it/s]\u001b[32m [repeated 13x across cluster]\u001b[0m\n"
     ]
    },
    {
     "name": "stdout",
     "output_type": "stream",
     "text": [
      "\u001b[36m(tune_with_parameters pid=1858736)\u001b[0m /tmp/tmp8cci84jg/checkpoint.pt\n"
     ]
    },
    {
     "name": "stderr",
     "output_type": "stream",
     "text": [
      "\u001b[36m(tune_with_parameters pid=1858736)\u001b[0m Checkpoint successfully created at: Checkpoint(filesystem=local, path=/scratch/users/k23058970/Model training/results/Single Peak LRCN Null/tune_with_parameters_2024-08-19_13-29-31/tune_with_parameters_c1630_00000_0_dp=0.2500,k1=1,k2=3,k3=5,k4=3,lr=0.0030_2024-08-19_13-30-01/checkpoint_000019)\n",
      "Val Epoch:36: 0it [00:00, ?it/s]858762)\u001b[0m \n"
     ]
    },
    {
     "name": "stdout",
     "output_type": "stream",
     "text": [
      "\u001b[36m(tune_with_parameters pid=1858736)\u001b[0m loss: 1.083\u001b[32m [repeated 23x across cluster]\u001b[0m\n"
     ]
    },
    {
     "name": "stderr",
     "output_type": "stream",
     "text": [
      "Val Epoch:36: 47it [00:01, 39.34it/s]\u001b[32m [repeated 14x across cluster]\u001b[0m\n"
     ]
    },
    {
     "name": "stdout",
     "output_type": "stream",
     "text": [
      "\u001b[36m(tune_with_parameters pid=1858736)\u001b[0m loss: 1.079\u001b[32m [repeated 19x across cluster]\u001b[0m\n"
     ]
    },
    {
     "name": "stderr",
     "output_type": "stream",
     "text": [
      "Val Epoch:37: 0it [00:00, ?it/s]\u001b[32m [repeated 2x across cluster]\u001b[0m\n",
      "Val Epoch:37: 27it [00:01, 35.71it/s]\u001b[32m [repeated 15x across cluster]\u001b[0m\n"
     ]
    },
    {
     "name": "stdout",
     "output_type": "stream",
     "text": [
      "\u001b[36m(tune_with_parameters pid=1858736)\u001b[0m loss: 1.078\u001b[32m [repeated 21x across cluster]\u001b[0m\n"
     ]
    },
    {
     "name": "stderr",
     "output_type": "stream",
     "text": [
      "Val Epoch:39: 0it [00:00, ?it/s]858736)\u001b[0m \n",
      "Val Epoch:38: 0it [00:00, ?it/s]858762)\u001b[0m \n",
      "Val Epoch:39: 47it [00:01, 40.65it/s]\u001b[32m [repeated 14x across cluster]\u001b[0m\n"
     ]
    },
    {
     "name": "stdout",
     "output_type": "stream",
     "text": [
      "\u001b[36m(tune_with_parameters pid=1858736)\u001b[0m loss: 1.073\u001b[32m [repeated 22x across cluster]\u001b[0m\n",
      "\u001b[36m(tune_with_parameters pid=1858762)\u001b[0m /tmp/tmpq0sy_2gw/checkpoint.pt\n"
     ]
    },
    {
     "name": "stderr",
     "output_type": "stream",
     "text": [
      "\u001b[36m(tune_with_parameters pid=1858762)\u001b[0m Checkpoint successfully created at: Checkpoint(filesystem=local, path=/scratch/users/k23058970/Model training/results/Single Peak LRCN Null/tune_with_parameters_2024-08-19_13-29-31/tune_with_parameters_c1630_00001_1_dp=0.2500,k1=3,k2=3,k3=5,k4=3,lr=0.0045_2024-08-19_13-30-01/checkpoint_000006)\n"
     ]
    },
    {
     "name": "stdout",
     "output_type": "stream",
     "text": [
      "\u001b[36m(tune_with_parameters pid=1858736)\u001b[0m loss: 1.061\u001b[32m [repeated 15x across cluster]\u001b[0m\n"
     ]
    },
    {
     "name": "stderr",
     "output_type": "stream",
     "text": [
      "Val Epoch:39: 0it [00:00, ?it/s]\u001b[32m [repeated 2x across cluster]\u001b[0m\n",
      "Val Epoch:40: 47it [00:01, 43.90it/s]\u001b[32m [repeated 19x across cluster]\u001b[0m\n"
     ]
    },
    {
     "name": "stdout",
     "output_type": "stream",
     "text": [
      "\u001b[36m(tune_with_parameters pid=1858762)\u001b[0m /tmp/tmps3034t1h/checkpoint.pt\n"
     ]
    },
    {
     "name": "stderr",
     "output_type": "stream",
     "text": [
      "\u001b[36m(tune_with_parameters pid=1858762)\u001b[0m Checkpoint successfully created at: Checkpoint(filesystem=local, path=/scratch/users/k23058970/Model training/results/Single Peak LRCN Null/tune_with_parameters_2024-08-19_13-29-31/tune_with_parameters_c1630_00001_1_dp=0.2500,k1=3,k2=3,k3=5,k4=3,lr=0.0045_2024-08-19_13-30-01/checkpoint_000007)\n"
     ]
    },
    {
     "name": "stdout",
     "output_type": "stream",
     "text": [
      "\u001b[36m(tune_with_parameters pid=1858736)\u001b[0m loss: 1.063\u001b[32m [repeated 22x across cluster]\u001b[0m\n"
     ]
    },
    {
     "name": "stderr",
     "output_type": "stream",
     "text": [
      "Val Epoch:41: 9it [00:00, 20.31it/s]36)\u001b[0m \n"
     ]
    },
    {
     "name": "stdout",
     "output_type": "stream",
     "text": [
      "\u001b[36m(tune_with_parameters pid=1858736)\u001b[0m loss: 1.052\u001b[32m [repeated 25x across cluster]\u001b[0m\n"
     ]
    },
    {
     "name": "stderr",
     "output_type": "stream",
     "text": [
      "Val Epoch:40: 0it [00:00, ?it/s]\u001b[32m [repeated 2x across cluster]\u001b[0m\n",
      "Val Epoch:41: 47it [00:01, 35.82it/s]\u001b[32m [repeated 20x across cluster]\u001b[0m\n"
     ]
    },
    {
     "name": "stdout",
     "output_type": "stream",
     "text": [
      "\u001b[36m(tune_with_parameters pid=1858762)\u001b[0m loss: 0.876\u001b[32m [repeated 12x across cluster]\u001b[0m\n"
     ]
    },
    {
     "name": "stderr",
     "output_type": "stream",
     "text": [
      "Val Epoch:41: 0it [00:00, ?it/s]\u001b[32m [repeated 2x across cluster]\u001b[0m\n",
      "Val Epoch:42: 47it [00:01, 28.45it/s]\u001b[32m [repeated 19x across cluster]\u001b[0m\n"
     ]
    },
    {
     "name": "stdout",
     "output_type": "stream",
     "text": [
      "\u001b[36m(tune_with_parameters pid=1858762)\u001b[0m loss: 0.652\u001b[32m [repeated 24x across cluster]\u001b[0m\n"
     ]
    },
    {
     "name": "stderr",
     "output_type": "stream",
     "text": [
      "Val Epoch:44: 0it [00:00, ?it/s]\u001b[32m [repeated 2x across cluster]\u001b[0m\n",
      "Val Epoch:43: 47it [00:01, 24.59it/s]\u001b[32m [repeated 19x across cluster]\u001b[0m\n"
     ]
    },
    {
     "name": "stdout",
     "output_type": "stream",
     "text": [
      "\u001b[36m(tune_with_parameters pid=1858736)\u001b[0m loss: 0.972\u001b[32m [repeated 30x across cluster]\u001b[0m\n",
      "\u001b[36m(tune_with_parameters pid=1858762)\u001b[0m /tmp/tmp7i9g0wvd/checkpoint.pt\n"
     ]
    },
    {
     "name": "stderr",
     "output_type": "stream",
     "text": [
      "\u001b[36m(tune_with_parameters pid=1858762)\u001b[0m Checkpoint successfully created at: Checkpoint(filesystem=local, path=/scratch/users/k23058970/Model training/results/Single Peak LRCN Null/tune_with_parameters_2024-08-19_13-29-31/tune_with_parameters_c1630_00001_1_dp=0.2500,k1=3,k2=3,k3=5,k4=3,lr=0.0045_2024-08-19_13-30-01/checkpoint_000008)\n",
      "Val Epoch:45: 0it [00:00, ?it/s]\u001b[32m [repeated 2x across cluster]\u001b[0m\n",
      "Val Epoch:42: 47it [00:01, 27.64it/s]\u001b[32m [repeated 19x across cluster]\u001b[0m\n"
     ]
    },
    {
     "name": "stdout",
     "output_type": "stream",
     "text": [
      "\u001b[36m(tune_with_parameters pid=1858762)\u001b[0m loss: 0.249\u001b[32m [repeated 27x across cluster]\u001b[0m\n"
     ]
    },
    {
     "name": "stderr",
     "output_type": "stream",
     "text": [
      "Val Epoch:43: 46it [00:01, 37.19it/s]2)\u001b[0m \n"
     ]
    },
    {
     "name": "stdout",
     "output_type": "stream",
     "text": [
      "\u001b[36m(tune_with_parameters pid=1858762)\u001b[0m /tmp/tmpktty3txl/checkpoint.pt\n"
     ]
    },
    {
     "name": "stderr",
     "output_type": "stream",
     "text": [
      "\u001b[36m(tune_with_parameters pid=1858762)\u001b[0m Checkpoint successfully created at: Checkpoint(filesystem=local, path=/scratch/users/k23058970/Model training/results/Single Peak LRCN Null/tune_with_parameters_2024-08-19_13-29-31/tune_with_parameters_c1630_00001_1_dp=0.2500,k1=3,k2=3,k3=5,k4=3,lr=0.0045_2024-08-19_13-30-01/checkpoint_000009)\n"
     ]
    },
    {
     "name": "stdout",
     "output_type": "stream",
     "text": [
      "\u001b[36m(tune_with_parameters pid=1858762)\u001b[0m loss: 0.143\u001b[32m [repeated 18x across cluster]\u001b[0m\n"
     ]
    },
    {
     "name": "stderr",
     "output_type": "stream",
     "text": [
      "Val Epoch:46: 0it [00:00, ?it/s]\u001b[32m [repeated 2x across cluster]\u001b[0m\n",
      "Val Epoch:43: 47it [00:01, 31.29it/s]\u001b[32m [repeated 17x across cluster]\u001b[0m\n"
     ]
    },
    {
     "name": "stdout",
     "output_type": "stream",
     "text": [
      "\u001b[36m(tune_with_parameters pid=1858736)\u001b[0m loss: 0.691\u001b[32m [repeated 18x across cluster]\u001b[0m\n",
      "\u001b[36m(tune_with_parameters pid=1858762)\u001b[0m /tmp/tmphw14y3vp/checkpoint.pt\n"
     ]
    },
    {
     "name": "stderr",
     "output_type": "stream",
     "text": [
      "\u001b[36m(tune_with_parameters pid=1858762)\u001b[0m Checkpoint successfully created at: Checkpoint(filesystem=local, path=/scratch/users/k23058970/Model training/results/Single Peak LRCN Null/tune_with_parameters_2024-08-19_13-29-31/tune_with_parameters_c1630_00001_1_dp=0.2500,k1=3,k2=3,k3=5,k4=3,lr=0.0045_2024-08-19_13-30-01/checkpoint_000010)\n",
      "Val Epoch:47: 0it [00:00, ?it/s]\u001b[32m [repeated 2x across cluster]\u001b[0m\n",
      "Val Epoch:44: 47it [00:01, 32.25it/s]\u001b[32m [repeated 20x across cluster]\u001b[0m\n"
     ]
    },
    {
     "name": "stdout",
     "output_type": "stream",
     "text": [
      "\u001b[36m(tune_with_parameters pid=1858762)\u001b[0m loss: 0.071\u001b[32m [repeated 22x across cluster]\u001b[0m\n",
      "\u001b[36m(tune_with_parameters pid=1858762)\u001b[0m /tmp/tmpfjyaqapo/checkpoint.pt\n"
     ]
    },
    {
     "name": "stderr",
     "output_type": "stream",
     "text": [
      "\u001b[36m(tune_with_parameters pid=1858762)\u001b[0m Checkpoint successfully created at: Checkpoint(filesystem=local, path=/scratch/users/k23058970/Model training/results/Single Peak LRCN Null/tune_with_parameters_2024-08-19_13-29-31/tune_with_parameters_c1630_00001_1_dp=0.2500,k1=3,k2=3,k3=5,k4=3,lr=0.0045_2024-08-19_13-30-01/checkpoint_000011)\n"
     ]
    },
    {
     "name": "stdout",
     "output_type": "stream",
     "text": [
      "\u001b[36m(tune_with_parameters pid=1858736)\u001b[0m loss: 0.556\u001b[32m [repeated 23x across cluster]\u001b[0m\n"
     ]
    },
    {
     "name": "stderr",
     "output_type": "stream",
     "text": [
      "Val Epoch:48: 0it [00:00, ?it/s]\u001b[32m [repeated 2x across cluster]\u001b[0m\n",
      "Val Epoch:45: 47it [00:01, 45.13it/s]\u001b[32m [repeated 18x across cluster]\u001b[0m\n"
     ]
    },
    {
     "name": "stdout",
     "output_type": "stream",
     "text": [
      "\u001b[36m(tune_with_parameters pid=1858736)\u001b[0m loss: 0.522\u001b[32m [repeated 18x across cluster]\u001b[0m\n"
     ]
    },
    {
     "name": "stderr",
     "output_type": "stream",
     "text": [
      "Val Epoch:46: 0it [00:00, ?it/s]858762)\u001b[0m \n",
      "Val Epoch:46: 42it [00:01, 44.32it/s]\u001b[32m [repeated 18x across cluster]\u001b[0m\n"
     ]
    },
    {
     "name": "stdout",
     "output_type": "stream",
     "text": [
      "\u001b[36m(tune_with_parameters pid=1858762)\u001b[0m /tmp/tmpw50jt2y6/checkpoint.pt\n"
     ]
    },
    {
     "name": "stderr",
     "output_type": "stream",
     "text": [
      "\u001b[36m(tune_with_parameters pid=1858762)\u001b[0m Checkpoint successfully created at: Checkpoint(filesystem=local, path=/scratch/users/k23058970/Model training/results/Single Peak LRCN Null/tune_with_parameters_2024-08-19_13-29-31/tune_with_parameters_c1630_00001_1_dp=0.2500,k1=3,k2=3,k3=5,k4=3,lr=0.0045_2024-08-19_13-30-01/checkpoint_000012)\n",
      "Val Epoch:49: 0it [00:00, ?it/s]858736)\u001b[0m \n",
      "Val Epoch:49: 47it [00:01, 28.94it/s]6)\u001b[0m \n"
     ]
    },
    {
     "name": "stdout",
     "output_type": "stream",
     "text": [
      "\u001b[36m(tune_with_parameters pid=1858736)\u001b[0m loss: 0.537\u001b[32m [repeated 18x across cluster]\u001b[0m\n",
      "\u001b[36m(tune_with_parameters pid=1858762)\u001b[0m \n"
     ]
    },
    {
     "name": "stderr",
     "output_type": "stream",
     "text": [
      "Val Epoch:49: 38it [00:01, 35.37it/s]\u001b[32m [repeated 9x across cluster]\u001b[0m\n",
      "Val Epoch:47: 0it [00:00, ?it/s]858762)\u001b[0m \n"
     ]
    },
    {
     "name": "stdout",
     "output_type": "stream",
     "text": [
      "\u001b[36m(tune_with_parameters pid=1858762)\u001b[0m /tmp/tmpfup0scjn/checkpoint.pt\n"
     ]
    },
    {
     "name": "stderr",
     "output_type": "stream",
     "text": [
      "\u001b[36m(tune_with_parameters pid=1858762)\u001b[0m Checkpoint successfully created at: Checkpoint(filesystem=local, path=/scratch/users/k23058970/Model training/results/Single Peak LRCN Null/tune_with_parameters_2024-08-19_13-29-31/tune_with_parameters_c1630_00001_1_dp=0.2500,k1=3,k2=3,k3=5,k4=3,lr=0.0045_2024-08-19_13-30-01/checkpoint_000013)\n",
      "Val Epoch:50: 0it [00:00, ?it/s]858736)\u001b[0m \n"
     ]
    },
    {
     "name": "stdout",
     "output_type": "stream",
     "text": [
      "\u001b[36m(tune_with_parameters pid=1858762)\u001b[0m loss: 0.026\u001b[32m [repeated 24x across cluster]\u001b[0m\n",
      "\u001b[36m(tune_with_parameters pid=1858736)\u001b[0m /tmp/tmp4bi9c_en/checkpoint.pt\n"
     ]
    },
    {
     "name": "stderr",
     "output_type": "stream",
     "text": [
      "Val Epoch:50: 47it [00:01, 42.40it/s]\u001b[32m [repeated 18x across cluster]\u001b[0m\n",
      "\u001b[36m(tune_with_parameters pid=1858736)\u001b[0m Checkpoint successfully created at: Checkpoint(filesystem=local, path=/scratch/users/k23058970/Model training/results/Single Peak LRCN Null/tune_with_parameters_2024-08-19_13-29-31/tune_with_parameters_c1630_00000_0_dp=0.2500,k1=1,k2=3,k3=5,k4=3,lr=0.0030_2024-08-19_13-30-01/checkpoint_000020)\n"
     ]
    },
    {
     "name": "stdout",
     "output_type": "stream",
     "text": [
      "\u001b[36m(tune_with_parameters pid=1858736)\u001b[0m loss: 0.444\u001b[32m [repeated 20x across cluster]\u001b[0m\n"
     ]
    },
    {
     "name": "stderr",
     "output_type": "stream",
     "text": [
      "Val Epoch:48: 0it [00:00, ?it/s]858762)\u001b[0m \n",
      "Val Epoch:51: 0it [00:00, ?it/s]858736)\u001b[0m \n"
     ]
    },
    {
     "name": "stdout",
     "output_type": "stream",
     "text": [
      "\u001b[36m(tune_with_parameters pid=1858736)\u001b[0m /tmp/tmpmhglx05s/checkpoint.pt\n"
     ]
    },
    {
     "name": "stderr",
     "output_type": "stream",
     "text": [
      "\u001b[36m(tune_with_parameters pid=1858736)\u001b[0m Checkpoint successfully created at: Checkpoint(filesystem=local, path=/scratch/users/k23058970/Model training/results/Single Peak LRCN Null/tune_with_parameters_2024-08-19_13-29-31/tune_with_parameters_c1630_00000_0_dp=0.2500,k1=1,k2=3,k3=5,k4=3,lr=0.0030_2024-08-19_13-30-01/checkpoint_000021)\n"
     ]
    },
    {
     "name": "stdout",
     "output_type": "stream",
     "text": [
      "\u001b[36m(tune_with_parameters pid=1858736)\u001b[0m loss: 0.389\u001b[32m [repeated 17x across cluster]\u001b[0m\n"
     ]
    },
    {
     "name": "stderr",
     "output_type": "stream",
     "text": [
      "Val Epoch:51: 47it [00:01, 42.12it/s]\u001b[32m [repeated 20x across cluster]\u001b[0m\n",
      "Val Epoch:49: 0it [00:00, ?it/s]858762)\u001b[0m \n"
     ]
    },
    {
     "name": "stdout",
     "output_type": "stream",
     "text": [
      "\u001b[36m(tune_with_parameters pid=1858762)\u001b[0m loss: 0.018\u001b[32m [repeated 23x across cluster]\u001b[0m\n"
     ]
    },
    {
     "name": "stderr",
     "output_type": "stream",
     "text": [
      "Val Epoch:52: 0it [00:00, ?it/s]858736)\u001b[0m \n"
     ]
    },
    {
     "name": "stdout",
     "output_type": "stream",
     "text": [
      "\u001b[36m(tune_with_parameters pid=1858736)\u001b[0m /tmp/tmpvigf3mrw/checkpoint.pt\n"
     ]
    },
    {
     "name": "stderr",
     "output_type": "stream",
     "text": [
      "\u001b[36m(tune_with_parameters pid=1858736)\u001b[0m Checkpoint successfully created at: Checkpoint(filesystem=local, path=/scratch/users/k23058970/Model training/results/Single Peak LRCN Null/tune_with_parameters_2024-08-19_13-29-31/tune_with_parameters_c1630_00000_0_dp=0.2500,k1=1,k2=3,k3=5,k4=3,lr=0.0030_2024-08-19_13-30-01/checkpoint_000022)\n",
      "Val Epoch:52: 47it [00:01, 41.13it/s]\u001b[32m [repeated 20x across cluster]\u001b[0m\n"
     ]
    },
    {
     "name": "stdout",
     "output_type": "stream",
     "text": [
      "\u001b[36m(tune_with_parameters pid=1858736)\u001b[0m loss: 0.311\u001b[32m [repeated 21x across cluster]\u001b[0m\n"
     ]
    },
    {
     "name": "stderr",
     "output_type": "stream",
     "text": [
      "Val Epoch:50: 0it [00:00, ?it/s]858762)\u001b[0m \n"
     ]
    },
    {
     "name": "stdout",
     "output_type": "stream",
     "text": [
      "\u001b[36m(tune_with_parameters pid=1858762)\u001b[0m /tmp/tmp7jcd90pu/checkpoint.pt\n"
     ]
    },
    {
     "name": "stderr",
     "output_type": "stream",
     "text": [
      "Val Epoch:53: 0it [00:00, ?it/s]858736)\u001b[0m \n",
      "\u001b[36m(tune_with_parameters pid=1858762)\u001b[0m Checkpoint successfully created at: Checkpoint(filesystem=local, path=/scratch/users/k23058970/Model training/results/Single Peak LRCN Null/tune_with_parameters_2024-08-19_13-29-31/tune_with_parameters_c1630_00001_1_dp=0.2500,k1=3,k2=3,k3=5,k4=3,lr=0.0045_2024-08-19_13-30-01/checkpoint_000014)\n",
      "Val Epoch:50: 47it [00:01, 35.82it/s]\u001b[32m [repeated 10x across cluster]\u001b[0m\n"
     ]
    },
    {
     "name": "stdout",
     "output_type": "stream",
     "text": [
      "\u001b[36m(tune_with_parameters pid=1858736)\u001b[0m /tmp/tmpk95jpvf0/checkpoint.pt\n"
     ]
    },
    {
     "name": "stderr",
     "output_type": "stream",
     "text": [
      "\u001b[36m(tune_with_parameters pid=1858736)\u001b[0m Checkpoint successfully created at: Checkpoint(filesystem=local, path=/scratch/users/k23058970/Model training/results/Single Peak LRCN Null/tune_with_parameters_2024-08-19_13-29-31/tune_with_parameters_c1630_00000_0_dp=0.2500,k1=1,k2=3,k3=5,k4=3,lr=0.0030_2024-08-19_13-30-01/checkpoint_000023)\n"
     ]
    },
    {
     "name": "stdout",
     "output_type": "stream",
     "text": [
      "\u001b[36m(tune_with_parameters pid=1858762)\u001b[0m loss: 0.016\u001b[32m [repeated 17x across cluster]\u001b[0m\n"
     ]
    },
    {
     "name": "stderr",
     "output_type": "stream",
     "text": [
      "Val Epoch:51: 0it [00:00, ?it/s]858762)\u001b[0m \n",
      "Val Epoch:51: 1it [00:00,  2.41it/s]\u001b[32m [repeated 11x across cluster]\u001b[0m\n",
      "Val Epoch:54: 0it [00:00, ?it/s]858736)\u001b[0m \n"
     ]
    },
    {
     "name": "stdout",
     "output_type": "stream",
     "text": [
      "\u001b[36m(tune_with_parameters pid=1858762)\u001b[0m loss: 0.015\u001b[32m [repeated 22x across cluster]\u001b[0m\n"
     ]
    },
    {
     "name": "stderr",
     "output_type": "stream",
     "text": [
      "Val Epoch:54: 47it [00:01, 32.78it/s]6)\u001b[0m \n"
     ]
    },
    {
     "name": "stdout",
     "output_type": "stream",
     "text": [
      "\u001b[36m(tune_with_parameters pid=1858736)\u001b[0m /tmp/tmp01dbusdw/checkpoint.pt\n"
     ]
    },
    {
     "name": "stderr",
     "output_type": "stream",
     "text": [
      "\u001b[36m(tune_with_parameters pid=1858736)\u001b[0m Checkpoint successfully created at: Checkpoint(filesystem=local, path=/scratch/users/k23058970/Model training/results/Single Peak LRCN Null/tune_with_parameters_2024-08-19_13-29-31/tune_with_parameters_c1630_00000_0_dp=0.2500,k1=1,k2=3,k3=5,k4=3,lr=0.0030_2024-08-19_13-30-01/checkpoint_000024)\n",
      "Val Epoch:54: 40it [00:01, 39.81it/s]\u001b[32m [repeated 17x across cluster]\u001b[0m\n",
      "Val Epoch:52: 0it [00:00, ?it/s]858762)\u001b[0m \n"
     ]
    },
    {
     "name": "stdout",
     "output_type": "stream",
     "text": [
      "\u001b[36m(tune_with_parameters pid=1858736)\u001b[0m loss: 0.172\u001b[32m [repeated 22x across cluster]\u001b[0m\n",
      "\u001b[36m(tune_with_parameters pid=1858762)\u001b[0m /tmp/tmppis42alh/checkpoint.pt\n"
     ]
    },
    {
     "name": "stderr",
     "output_type": "stream",
     "text": [
      "Val Epoch:55: 0it [00:00, ?it/s]858736)\u001b[0m \n",
      "\u001b[36m(tune_with_parameters pid=1858762)\u001b[0m Checkpoint successfully created at: Checkpoint(filesystem=local, path=/scratch/users/k23058970/Model training/results/Single Peak LRCN Null/tune_with_parameters_2024-08-19_13-29-31/tune_with_parameters_c1630_00001_1_dp=0.2500,k1=3,k2=3,k3=5,k4=3,lr=0.0045_2024-08-19_13-30-01/checkpoint_000015)\n"
     ]
    },
    {
     "name": "stdout",
     "output_type": "stream",
     "text": [
      "\u001b[36m(tune_with_parameters pid=1858736)\u001b[0m /tmp/tmp6d6kapqp/checkpoint.pt\n"
     ]
    },
    {
     "name": "stderr",
     "output_type": "stream",
     "text": [
      "\u001b[36m(tune_with_parameters pid=1858736)\u001b[0m Checkpoint successfully created at: Checkpoint(filesystem=local, path=/scratch/users/k23058970/Model training/results/Single Peak LRCN Null/tune_with_parameters_2024-08-19_13-29-31/tune_with_parameters_c1630_00000_0_dp=0.2500,k1=1,k2=3,k3=5,k4=3,lr=0.0030_2024-08-19_13-30-01/checkpoint_000025)\n"
     ]
    },
    {
     "name": "stdout",
     "output_type": "stream",
     "text": [
      "\u001b[36m(tune_with_parameters pid=1858736)\u001b[0m loss: 0.154\u001b[32m [repeated 14x across cluster]\u001b[0m\n"
     ]
    },
    {
     "name": "stderr",
     "output_type": "stream",
     "text": [
      "Val Epoch:55: 47it [00:01, 33.93it/s]\u001b[32m [repeated 20x across cluster]\u001b[0m\n",
      "Val Epoch:53: 0it [00:00, ?it/s]858762)\u001b[0m \n",
      "Val Epoch:56: 0it [00:00, ?it/s]858736)\u001b[0m \n"
     ]
    },
    {
     "name": "stdout",
     "output_type": "stream",
     "text": [
      "\u001b[36m(tune_with_parameters pid=1858762)\u001b[0m loss: 0.011\u001b[32m [repeated 22x across cluster]\u001b[0m\n",
      "\u001b[36m(tune_with_parameters pid=1858736)\u001b[0m /tmp/tmpp_iap6ag/checkpoint.pt\n"
     ]
    },
    {
     "name": "stderr",
     "output_type": "stream",
     "text": [
      "\u001b[36m(tune_with_parameters pid=1858736)\u001b[0m Checkpoint successfully created at: Checkpoint(filesystem=local, path=/scratch/users/k23058970/Model training/results/Single Peak LRCN Null/tune_with_parameters_2024-08-19_13-29-31/tune_with_parameters_c1630_00000_0_dp=0.2500,k1=1,k2=3,k3=5,k4=3,lr=0.0030_2024-08-19_13-30-01/checkpoint_000026)\n",
      "Val Epoch:56: 47it [00:01, 30.25it/s]\u001b[32m [repeated 19x across cluster]\u001b[0m\n",
      "Val Epoch:54: 0it [00:00, ?it/s]858762)\u001b[0m \n"
     ]
    },
    {
     "name": "stdout",
     "output_type": "stream",
     "text": [
      "\u001b[36m(tune_with_parameters pid=1858736)\u001b[0m loss: 0.099\u001b[32m [repeated 23x across cluster]\u001b[0m\n"
     ]
    },
    {
     "name": "stderr",
     "output_type": "stream",
     "text": [
      "Val Epoch:57: 0it [00:00, ?it/s]858736)\u001b[0m \n",
      "Val Epoch:57: 37it [00:00, 46.66it/s]6)\u001b[0m \n"
     ]
    },
    {
     "name": "stdout",
     "output_type": "stream",
     "text": [
      "\u001b[36m(tune_with_parameters pid=1858736)\u001b[0m loss: 0.075\u001b[32m [repeated 19x across cluster]\u001b[0m\n"
     ]
    },
    {
     "name": "stderr",
     "output_type": "stream",
     "text": [
      "Val Epoch:57: 47it [00:01, 37.79it/s]\u001b[32m [repeated 17x across cluster]\u001b[0m\n",
      "Val Epoch:55: 0it [00:00, ?it/s]858762)\u001b[0m \n"
     ]
    },
    {
     "name": "stdout",
     "output_type": "stream",
     "text": [
      "\u001b[36m(tune_with_parameters pid=1858762)\u001b[0m /tmp/tmpbmgj6zvh/checkpoint.pt\n"
     ]
    },
    {
     "name": "stderr",
     "output_type": "stream",
     "text": [
      "\u001b[36m(tune_with_parameters pid=1858762)\u001b[0m Checkpoint successfully created at: Checkpoint(filesystem=local, path=/scratch/users/k23058970/Model training/results/Single Peak LRCN Null/tune_with_parameters_2024-08-19_13-29-31/tune_with_parameters_c1630_00001_1_dp=0.2500,k1=3,k2=3,k3=5,k4=3,lr=0.0045_2024-08-19_13-30-01/checkpoint_000016)\n",
      "Val Epoch:55: 47it [00:01, 41.38it/s]2)\u001b[0m \n",
      "Val Epoch:58: 0it [00:00, ?it/s]858736)\u001b[0m \n"
     ]
    },
    {
     "name": "stdout",
     "output_type": "stream",
     "text": [
      "\u001b[36m(tune_with_parameters pid=1858762)\u001b[0m loss: 0.014\u001b[32m [repeated 19x across cluster]\u001b[0m\n"
     ]
    },
    {
     "name": "stderr",
     "output_type": "stream",
     "text": [
      "Val Epoch:58: 47it [00:01, 32.19it/s]6)\u001b[0m \n"
     ]
    },
    {
     "name": "stdout",
     "output_type": "stream",
     "text": [
      "\u001b[36m(tune_with_parameters pid=1858736)\u001b[0m /tmp/tmpyamheq_u/checkpoint.pt\n"
     ]
    },
    {
     "name": "stderr",
     "output_type": "stream",
     "text": [
      "Val Epoch:58: 40it [00:01, 44.64it/s]\u001b[32m [repeated 15x across cluster]\u001b[0m\n",
      "\u001b[36m(tune_with_parameters pid=1858736)\u001b[0m Checkpoint successfully created at: Checkpoint(filesystem=local, path=/scratch/users/k23058970/Model training/results/Single Peak LRCN Null/tune_with_parameters_2024-08-19_13-29-31/tune_with_parameters_c1630_00000_0_dp=0.2500,k1=1,k2=3,k3=5,k4=3,lr=0.0030_2024-08-19_13-30-01/checkpoint_000027)\n",
      "Val Epoch:56: 0it [00:00, ?it/s]858762)\u001b[0m \n"
     ]
    },
    {
     "name": "stdout",
     "output_type": "stream",
     "text": [
      "\u001b[36m(tune_with_parameters pid=1858736)\u001b[0m loss: 0.062\u001b[32m [repeated 24x across cluster]\u001b[0m\n"
     ]
    },
    {
     "name": "stderr",
     "output_type": "stream",
     "text": [
      "Val Epoch:59: 0it [00:00, ?it/s]858736)\u001b[0m \n",
      "Val Epoch:59: 27it [00:01, 34.68it/s]6)\u001b[0m \n",
      "Val Epoch:59: 47it [00:01, 26.64it/s]6)\u001b[0m \n"
     ]
    },
    {
     "name": "stdout",
     "output_type": "stream",
     "text": [
      "\u001b[36m(tune_with_parameters pid=1858736)\u001b[0m /tmp/tmpnxfai8ve/checkpoint.pt\n"
     ]
    },
    {
     "name": "stderr",
     "output_type": "stream",
     "text": [
      "\u001b[36m(tune_with_parameters pid=1858736)\u001b[0m Checkpoint successfully created at: Checkpoint(filesystem=local, path=/scratch/users/k23058970/Model training/results/Single Peak LRCN Null/tune_with_parameters_2024-08-19_13-29-31/tune_with_parameters_c1630_00000_0_dp=0.2500,k1=1,k2=3,k3=5,k4=3,lr=0.0030_2024-08-19_13-30-01/checkpoint_000028)\n"
     ]
    },
    {
     "name": "stdout",
     "output_type": "stream",
     "text": [
      "\u001b[36m(tune_with_parameters pid=1858736)\u001b[0m loss: 0.051\u001b[32m [repeated 16x across cluster]\u001b[0m\n"
     ]
    },
    {
     "name": "stderr",
     "output_type": "stream",
     "text": [
      "Val Epoch:59: 38it [00:01, 41.24it/s]\u001b[32m [repeated 17x across cluster]\u001b[0m\n",
      "Val Epoch:57: 0it [00:00, ?it/s]858762)\u001b[0m \n",
      "Val Epoch:60: 0it [00:00, ?it/s]858736)\u001b[0m \n"
     ]
    },
    {
     "name": "stdout",
     "output_type": "stream",
     "text": [
      "\u001b[36m(tune_with_parameters pid=1858762)\u001b[0m loss: 0.008\u001b[32m [repeated 19x across cluster]\u001b[0m\n"
     ]
    },
    {
     "name": "stderr",
     "output_type": "stream",
     "text": [
      "Val Epoch:60: 47it [00:01, 26.10it/s]6)\u001b[0m \n"
     ]
    },
    {
     "name": "stdout",
     "output_type": "stream",
     "text": [
      "\u001b[36m(tune_with_parameters pid=1858736)\u001b[0m /tmp/tmp46paamrg/checkpoint.pt\n"
     ]
    },
    {
     "name": "stderr",
     "output_type": "stream",
     "text": [
      "\u001b[36m(tune_with_parameters pid=1858736)\u001b[0m Checkpoint successfully created at: Checkpoint(filesystem=local, path=/scratch/users/k23058970/Model training/results/Single Peak LRCN Null/tune_with_parameters_2024-08-19_13-29-31/tune_with_parameters_c1630_00000_0_dp=0.2500,k1=1,k2=3,k3=5,k4=3,lr=0.0030_2024-08-19_13-30-01/checkpoint_000029)\n",
      "Val Epoch:60: 41it [00:01, 35.07it/s]\u001b[32m [repeated 17x across cluster]\u001b[0m\n",
      "Val Epoch:58: 0it [00:00, ?it/s]858762)\u001b[0m \n"
     ]
    },
    {
     "name": "stdout",
     "output_type": "stream",
     "text": [
      "\u001b[36m(tune_with_parameters pid=1858736)\u001b[0m loss: 0.043\u001b[32m [repeated 26x across cluster]\u001b[0m\n"
     ]
    },
    {
     "name": "stderr",
     "output_type": "stream",
     "text": [
      "Val Epoch:61: 0it [00:00, ?it/s]858736)\u001b[0m \n"
     ]
    },
    {
     "name": "stdout",
     "output_type": "stream",
     "text": [
      "\u001b[36m(tune_with_parameters pid=1858762)\u001b[0m /tmp/tmp42yb5rma/checkpoint.pt\n"
     ]
    },
    {
     "name": "stderr",
     "output_type": "stream",
     "text": [
      "\u001b[36m(tune_with_parameters pid=1858762)\u001b[0m Checkpoint successfully created at: Checkpoint(filesystem=local, path=/scratch/users/k23058970/Model training/results/Single Peak LRCN Null/tune_with_parameters_2024-08-19_13-29-31/tune_with_parameters_c1630_00001_1_dp=0.2500,k1=3,k2=3,k3=5,k4=3,lr=0.0045_2024-08-19_13-30-01/checkpoint_000017)\n"
     ]
    },
    {
     "name": "stdout",
     "output_type": "stream",
     "text": [
      "\u001b[36m(tune_with_parameters pid=1858736)\u001b[0m /tmp/tmp6xoo2i5s/checkpoint.pt\n",
      "\u001b[36m(tune_with_parameters pid=1858762)\u001b[0m loss: 0.008\u001b[32m [repeated 12x across cluster]\u001b[0m\n"
     ]
    },
    {
     "name": "stderr",
     "output_type": "stream",
     "text": [
      "Val Epoch:61: 47it [00:02, 23.29it/s]\u001b[32m [repeated 20x across cluster]\u001b[0m\n",
      "Val Epoch:59: 0it [00:00, ?it/s]858762)\u001b[0m \n",
      "\u001b[36m(tune_with_parameters pid=1858736)\u001b[0m Checkpoint successfully created at: Checkpoint(filesystem=local, path=/scratch/users/k23058970/Model training/results/Single Peak LRCN Null/tune_with_parameters_2024-08-19_13-29-31/tune_with_parameters_c1630_00000_0_dp=0.2500,k1=1,k2=3,k3=5,k4=3,lr=0.0030_2024-08-19_13-30-01/checkpoint_000030)\n",
      "Val Epoch:62: 0it [00:00, ?it/s]858736)\u001b[0m \n"
     ]
    },
    {
     "name": "stdout",
     "output_type": "stream",
     "text": [
      "\u001b[36m(tune_with_parameters pid=1858762)\u001b[0m loss: 0.005\u001b[32m [repeated 21x across cluster]\u001b[0m\n",
      "\u001b[36m(tune_with_parameters pid=1858762)\u001b[0m loss: 0.006\u001b[32m [repeated 29x across cluster]\u001b[0m\n"
     ]
    },
    {
     "name": "stderr",
     "output_type": "stream",
     "text": [
      "Val Epoch:63: 0it [00:00, ?it/s]858736)\u001b[0m \n",
      "Val Epoch:62: 47it [00:02, 23.16it/s]\u001b[32m [repeated 18x across cluster]\u001b[0m\n",
      "Val Epoch:60: 0it [00:00, ?it/s]858762)\u001b[0m \n"
     ]
    },
    {
     "name": "stdout",
     "output_type": "stream",
     "text": [
      "\u001b[36m(tune_with_parameters pid=1858736)\u001b[0m /tmp/tmp9jl3b3yo/checkpoint.pt\n"
     ]
    },
    {
     "name": "stderr",
     "output_type": "stream",
     "text": [
      "\u001b[36m(tune_with_parameters pid=1858736)\u001b[0m Checkpoint successfully created at: Checkpoint(filesystem=local, path=/scratch/users/k23058970/Model training/results/Single Peak LRCN Null/tune_with_parameters_2024-08-19_13-29-31/tune_with_parameters_c1630_00000_0_dp=0.2500,k1=1,k2=3,k3=5,k4=3,lr=0.0030_2024-08-19_13-30-01/checkpoint_000031)\n"
     ]
    },
    {
     "name": "stdout",
     "output_type": "stream",
     "text": [
      "\u001b[36m(tune_with_parameters pid=1858762)\u001b[0m loss: 0.006\u001b[32m [repeated 9x across cluster]\u001b[0m\n"
     ]
    },
    {
     "name": "stderr",
     "output_type": "stream",
     "text": [
      "Val Epoch:60: 47it [00:01, 30.05it/s]\u001b[32m [repeated 22x across cluster]\u001b[0m\n",
      "Val Epoch:64: 0it [00:00, ?it/s]858736)\u001b[0m \n",
      "Val Epoch:61: 0it [00:00, ?it/s]858762)\u001b[0m \n"
     ]
    },
    {
     "name": "stdout",
     "output_type": "stream",
     "text": [
      "\u001b[36m(tune_with_parameters pid=1858736)\u001b[0m /tmp/tmp8lohaxt2/checkpoint.pt\n",
      "\u001b[36m(tune_with_parameters pid=1858762)\u001b[0m loss: 0.006\u001b[32m [repeated 21x across cluster]\u001b[0m\n"
     ]
    },
    {
     "name": "stderr",
     "output_type": "stream",
     "text": [
      "\u001b[36m(tune_with_parameters pid=1858736)\u001b[0m Checkpoint successfully created at: Checkpoint(filesystem=local, path=/scratch/users/k23058970/Model training/results/Single Peak LRCN Null/tune_with_parameters_2024-08-19_13-29-31/tune_with_parameters_c1630_00000_0_dp=0.2500,k1=1,k2=3,k3=5,k4=3,lr=0.0030_2024-08-19_13-30-01/checkpoint_000032)\n"
     ]
    },
    {
     "name": "stdout",
     "output_type": "stream",
     "text": [
      "\u001b[36m(tune_with_parameters pid=1858736)\u001b[0m loss: 0.029\u001b[32m [repeated 26x across cluster]\u001b[0m\n"
     ]
    },
    {
     "name": "stderr",
     "output_type": "stream",
     "text": [
      "Val Epoch:61: 47it [00:01, 43.45it/s]\u001b[32m [repeated 19x across cluster]\u001b[0m\n",
      "Val Epoch:65: 0it [00:00, ?it/s]858736)\u001b[0m \n",
      "Val Epoch:62: 0it [00:00, ?it/s]858762)\u001b[0m \n"
     ]
    },
    {
     "name": "stdout",
     "output_type": "stream",
     "text": [
      "\u001b[36m(tune_with_parameters pid=1858736)\u001b[0m /tmp/tmp_pfk6it8/checkpoint.pt\n"
     ]
    },
    {
     "name": "stderr",
     "output_type": "stream",
     "text": [
      "\u001b[36m(tune_with_parameters pid=1858736)\u001b[0m Checkpoint successfully created at: Checkpoint(filesystem=local, path=/scratch/users/k23058970/Model training/results/Single Peak LRCN Null/tune_with_parameters_2024-08-19_13-29-31/tune_with_parameters_c1630_00000_0_dp=0.2500,k1=1,k2=3,k3=5,k4=3,lr=0.0030_2024-08-19_13-30-01/checkpoint_000033)\n"
     ]
    },
    {
     "name": "stdout",
     "output_type": "stream",
     "text": [
      "\u001b[36m(tune_with_parameters pid=1858762)\u001b[0m loss: 0.004\u001b[32m [repeated 10x across cluster]\u001b[0m\n"
     ]
    },
    {
     "name": "stderr",
     "output_type": "stream",
     "text": [
      "Val Epoch:63: 0it [00:00, ?it/s]858762)\u001b[0m \n",
      "Val Epoch:62: 47it [00:01, 29.55it/s]\u001b[32m [repeated 22x across cluster]\u001b[0m\n"
     ]
    },
    {
     "name": "stdout",
     "output_type": "stream",
     "text": [
      "\u001b[36m(tune_with_parameters pid=1858762)\u001b[0m loss: 0.003\u001b[32m [repeated 12x across cluster]\u001b[0m\n"
     ]
    },
    {
     "name": "stderr",
     "output_type": "stream",
     "text": [
      "Val Epoch:64: 0it [00:00, ?it/s]858762)\u001b[0m \n",
      "Val Epoch:63: 47it [00:01, 40.29it/s]\u001b[32m [repeated 8x across cluster]\u001b[0m\n",
      "\u001b[36m(tune_with_parameters pid=1969427)\u001b[0m /users/k23058970/miniforge3/envs/Training/lib/python3.10/site-packages/torch/nn/modules/lazy.py:181: UserWarning: Lazy modules are a new feature under heavy development so changes to the API or functionality can happen at any moment.\n",
      "\u001b[36m(tune_with_parameters pid=1969427)\u001b[0m   warnings.warn('Lazy modules are a new feature under heavy development '\n"
     ]
    },
    {
     "name": "stdout",
     "output_type": "stream",
     "text": [
      "\u001b[36m(tune_with_parameters pid=1858762)\u001b[0m /tmp/tmpul9mc5hs/checkpoint.pt\n",
      "\u001b[36m(tune_with_parameters pid=1858762)\u001b[0m loss: 0.004\u001b[32m [repeated 12x across cluster]\u001b[0m\n"
     ]
    },
    {
     "name": "stderr",
     "output_type": "stream",
     "text": [
      "\u001b[36m(tune_with_parameters pid=1858762)\u001b[0m Checkpoint successfully created at: Checkpoint(filesystem=local, path=/scratch/users/k23058970/Model training/results/Single Peak LRCN Null/tune_with_parameters_2024-08-19_13-29-31/tune_with_parameters_c1630_00001_1_dp=0.2500,k1=3,k2=3,k3=5,k4=3,lr=0.0045_2024-08-19_13-30-01/checkpoint_000018)\n",
      "Val Epoch:65: 0it [00:00, ?it/s]858762)\u001b[0m \n",
      "Val Epoch:64: 47it [00:02, 19.82it/s]\u001b[32m [repeated 10x across cluster]\u001b[0m\n"
     ]
    },
    {
     "name": "stdout",
     "output_type": "stream",
     "text": [
      "\u001b[36m(tune_with_parameters pid=1969427)\u001b[0m loss: 1.107\u001b[32m [repeated 19x across cluster]\u001b[0m\n"
     ]
    },
    {
     "name": "stderr",
     "output_type": "stream",
     "text": [
      "Val Epoch:0: 0it [00:00, ?it/s]1969427)\u001b[0m \n",
      "Val Epoch:0: 1it [00:00,  3.11it/s]\u001b[32m [repeated 11x across cluster]\u001b[0m\n"
     ]
    },
    {
     "name": "stdout",
     "output_type": "stream",
     "text": [
      "\u001b[36m(tune_with_parameters pid=1858762)\u001b[0m loss: 0.004\u001b[32m [repeated 21x across cluster]\u001b[0m\n"
     ]
    },
    {
     "name": "stderr",
     "output_type": "stream",
     "text": [
      "\u001b[36m(tune_with_parameters pid=1969427)\u001b[0m /scratch/users/k23058970/Model training/training_insilico_lrcn.py:63: RuntimeWarning: invalid value encountered in divide\n",
      "\u001b[36m(tune_with_parameters pid=1969427)\u001b[0m   self.precision = self.tp/(self.tp + self.fp)\n"
     ]
    },
    {
     "name": "stdout",
     "output_type": "stream",
     "text": [
      "\u001b[36m(tune_with_parameters pid=1969427)\u001b[0m /tmp/tmpal8548uz/checkpoint.pt\n"
     ]
    },
    {
     "name": "stderr",
     "output_type": "stream",
     "text": [
      "\u001b[36m(tune_with_parameters pid=1969427)\u001b[0m Checkpoint successfully created at: Checkpoint(filesystem=local, path=/scratch/users/k23058970/Model training/results/Single Peak LRCN Null/tune_with_parameters_2024-08-19_13-29-31/tune_with_parameters_c1630_00002_2_dp=0.2000,k1=1,k2=1,k3=1,k4=5,lr=0.0031_2024-08-19_13-30-01/checkpoint_000000)\n",
      "Val Epoch:66: 47it [00:01, 32.85it/s]2)\u001b[0m \n"
     ]
    },
    {
     "name": "stdout",
     "output_type": "stream",
     "text": [
      "\u001b[36m(tune_with_parameters pid=1858762)\u001b[0m loss: 0.003\u001b[32m [repeated 12x across cluster]\u001b[0m\n"
     ]
    },
    {
     "name": "stderr",
     "output_type": "stream",
     "text": [
      "Val Epoch:67: 0it [00:00, ?it/s]\u001b[32m [repeated 2x across cluster]\u001b[0m\n",
      "Val Epoch:66: 39it [00:01, 43.18it/s]\u001b[32m [repeated 17x across cluster]\u001b[0m\n"
     ]
    },
    {
     "name": "stdout",
     "output_type": "stream",
     "text": [
      "\u001b[36m(tune_with_parameters pid=1858762)\u001b[0m loss: 0.002\u001b[32m [repeated 24x across cluster]\u001b[0m\n",
      "\u001b[36m(tune_with_parameters pid=1969427)\u001b[0m /tmp/tmp3n9zhdv0/checkpoint.pt\n"
     ]
    },
    {
     "name": "stderr",
     "output_type": "stream",
     "text": [
      "\u001b[36m(tune_with_parameters pid=1969427)\u001b[0m Checkpoint successfully created at: Checkpoint(filesystem=local, path=/scratch/users/k23058970/Model training/results/Single Peak LRCN Null/tune_with_parameters_2024-08-19_13-29-31/tune_with_parameters_c1630_00002_2_dp=0.2000,k1=1,k2=1,k3=1,k4=5,lr=0.0031_2024-08-19_13-30-01/checkpoint_000001)\n",
      "Val Epoch:68: 0it [00:00, ?it/s]\u001b[32m [repeated 2x across cluster]\u001b[0m\n",
      "Val Epoch:1: 47it [00:01, 24.60it/s]\u001b[32m [repeated 23x across cluster]\u001b[0m\n"
     ]
    },
    {
     "name": "stdout",
     "output_type": "stream",
     "text": [
      "\u001b[36m(tune_with_parameters pid=1969427)\u001b[0m loss: 1.099\u001b[32m [repeated 22x across cluster]\u001b[0m\n"
     ]
    },
    {
     "name": "stderr",
     "output_type": "stream",
     "text": [
      "Val Epoch:68: 47it [00:01, 25.06it/s]2)\u001b[0m \n"
     ]
    },
    {
     "name": "stdout",
     "output_type": "stream",
     "text": [
      "\u001b[36m(tune_with_parameters pid=1858762)\u001b[0m loss: 0.004\u001b[32m [repeated 19x across cluster]\u001b[0m\n",
      "\u001b[36m(tune_with_parameters pid=1969427)\u001b[0m /tmp/tmp1qqeoze4/checkpoint.pt\n"
     ]
    },
    {
     "name": "stderr",
     "output_type": "stream",
     "text": [
      "\u001b[36m(tune_with_parameters pid=1969427)\u001b[0m Checkpoint successfully created at: Checkpoint(filesystem=local, path=/scratch/users/k23058970/Model training/results/Single Peak LRCN Null/tune_with_parameters_2024-08-19_13-29-31/tune_with_parameters_c1630_00002_2_dp=0.2000,k1=1,k2=1,k3=1,k4=5,lr=0.0031_2024-08-19_13-30-01/checkpoint_000002)\n",
      "Val Epoch:2: 0it [00:00, ?it/s]1969427)\u001b[0m \n",
      "Val Epoch:2: 47it [00:01, 44.61it/s]\u001b[32m [repeated 17x across cluster]\u001b[0m\n",
      "Val Epoch:69: 0it [00:00, ?it/s]858762)\u001b[0m \n"
     ]
    },
    {
     "name": "stdout",
     "output_type": "stream",
     "text": [
      "\u001b[36m(tune_with_parameters pid=1969427)\u001b[0m loss: 1.098\u001b[32m [repeated 16x across cluster]\u001b[0m\n"
     ]
    },
    {
     "name": "stderr",
     "output_type": "stream",
     "text": [
      "Val Epoch:69: 47it [00:01, 29.05it/s]\u001b[32m [repeated 10x across cluster]\u001b[0m\n",
      "Val Epoch:3: 0it [00:00, ?it/s]1969427)\u001b[0m \n",
      "Val Epoch:70: 0it [00:00, ?it/s]858762)\u001b[0m \n"
     ]
    },
    {
     "name": "stdout",
     "output_type": "stream",
     "text": [
      "\u001b[36m(tune_with_parameters pid=1969427)\u001b[0m /tmp/tmpwym4y0vs/checkpoint.pt\n",
      "\u001b[36m(tune_with_parameters pid=1858762)\u001b[0m loss: 0.003\u001b[32m [repeated 17x across cluster]\u001b[0m\n"
     ]
    },
    {
     "name": "stderr",
     "output_type": "stream",
     "text": [
      "\u001b[36m(tune_with_parameters pid=1969427)\u001b[0m Checkpoint successfully created at: Checkpoint(filesystem=local, path=/scratch/users/k23058970/Model training/results/Single Peak LRCN Null/tune_with_parameters_2024-08-19_13-29-31/tune_with_parameters_c1630_00002_2_dp=0.2000,k1=1,k2=1,k3=1,k4=5,lr=0.0031_2024-08-19_13-30-01/checkpoint_000003)\n"
     ]
    },
    {
     "name": "stdout",
     "output_type": "stream",
     "text": [
      "\u001b[36m(tune_with_parameters pid=1969427)\u001b[0m loss: 1.098\u001b[32m [repeated 27x across cluster]\u001b[0m\n"
     ]
    },
    {
     "name": "stderr",
     "output_type": "stream",
     "text": [
      "Val Epoch:71: 0it [00:00, ?it/s]858762)\u001b[0m \n",
      "Val Epoch:70: 47it [00:01, 33.83it/s]\u001b[32m [repeated 19x across cluster]\u001b[0m\n",
      "Val Epoch:4: 0it [00:00, ?it/s]1969427)\u001b[0m \n"
     ]
    },
    {
     "name": "stdout",
     "output_type": "stream",
     "text": [
      "\u001b[36m(tune_with_parameters pid=1858762)\u001b[0m loss: 0.003\u001b[32m [repeated 11x across cluster]\u001b[0m\n"
     ]
    },
    {
     "name": "stderr",
     "output_type": "stream",
     "text": [
      "Val Epoch:4: 47it [00:01, 24.87it/s]\u001b[32m [repeated 19x across cluster]\u001b[0m\n",
      "Val Epoch:72: 0it [00:00, ?it/s]858762)\u001b[0m \n",
      "Val Epoch:5: 0it [00:00, ?it/s]1969427)\u001b[0m \n"
     ]
    },
    {
     "name": "stdout",
     "output_type": "stream",
     "text": [
      "\u001b[36m(tune_with_parameters pid=1858762)\u001b[0m loss: 0.001\u001b[32m [repeated 23x across cluster]\u001b[0m\n",
      "\u001b[36m(tune_with_parameters pid=1969427)\u001b[0m /tmp/tmpdrch2ovn/checkpoint.pt\n"
     ]
    },
    {
     "name": "stderr",
     "output_type": "stream",
     "text": [
      "\u001b[36m(tune_with_parameters pid=1969427)\u001b[0m Checkpoint successfully created at: Checkpoint(filesystem=local, path=/scratch/users/k23058970/Model training/results/Single Peak LRCN Null/tune_with_parameters_2024-08-19_13-29-31/tune_with_parameters_c1630_00002_2_dp=0.2000,k1=1,k2=1,k3=1,k4=5,lr=0.0031_2024-08-19_13-30-01/checkpoint_000004)\n",
      "Val Epoch:5: 47it [00:01, 28.52it/s]\u001b[32m [repeated 18x across cluster]\u001b[0m\n",
      "Val Epoch:73: 0it [00:00, ?it/s]858762)\u001b[0m \n"
     ]
    },
    {
     "name": "stdout",
     "output_type": "stream",
     "text": [
      "\u001b[36m(tune_with_parameters pid=1969427)\u001b[0m loss: 1.097\u001b[32m [repeated 19x across cluster]\u001b[0m\n"
     ]
    },
    {
     "name": "stderr",
     "output_type": "stream",
     "text": [
      "Val Epoch:6: 0it [00:00, ?it/s]1969427)\u001b[0m \n",
      "Val Epoch:6: 29it [00:00, 41.86it/s]\u001b[32m [repeated 16x across cluster]\u001b[0m\n"
     ]
    },
    {
     "name": "stdout",
     "output_type": "stream",
     "text": [
      "\u001b[36m(tune_with_parameters pid=1858762)\u001b[0m loss: 0.003\u001b[32m [repeated 20x across cluster]\u001b[0m\n",
      "\u001b[36m(tune_with_parameters pid=1858762)\u001b[0m loss: 0.003\u001b[32m [repeated 20x across cluster]\u001b[0m\n"
     ]
    },
    {
     "name": "stderr",
     "output_type": "stream",
     "text": [
      "Val Epoch:7: 0it [00:00, ?it/s]\u001b[32m [repeated 2x across cluster]\u001b[0m\n",
      "Val Epoch:74: 47it [00:01, 34.44it/s]\u001b[32m [repeated 13x across cluster]\u001b[0m\n"
     ]
    },
    {
     "name": "stdout",
     "output_type": "stream",
     "text": [
      "\u001b[36m(tune_with_parameters pid=1969427)\u001b[0m /tmp/tmp9rcualrb/checkpoint.pt\n"
     ]
    },
    {
     "name": "stderr",
     "output_type": "stream",
     "text": [
      "\u001b[36m(tune_with_parameters pid=1969427)\u001b[0m Checkpoint successfully created at: Checkpoint(filesystem=local, path=/scratch/users/k23058970/Model training/results/Single Peak LRCN Null/tune_with_parameters_2024-08-19_13-29-31/tune_with_parameters_c1630_00002_2_dp=0.2000,k1=1,k2=1,k3=1,k4=5,lr=0.0031_2024-08-19_13-30-01/checkpoint_000005)\n"
     ]
    },
    {
     "name": "stdout",
     "output_type": "stream",
     "text": [
      "\u001b[36m(tune_with_parameters pid=1858762)\u001b[0m loss: 0.001\u001b[32m [repeated 16x across cluster]\u001b[0m\n"
     ]
    },
    {
     "name": "stderr",
     "output_type": "stream",
     "text": [
      "Val Epoch:8: 0it [00:00, ?it/s]\u001b[32m [repeated 2x across cluster]\u001b[0m\n",
      "Val Epoch:75: 47it [00:00, 49.62it/s]\u001b[32m [repeated 17x across cluster]\u001b[0m\n"
     ]
    },
    {
     "name": "stdout",
     "output_type": "stream",
     "text": [
      "\u001b[36m(tune_with_parameters pid=1858762)\u001b[0m loss: 0.003\u001b[32m [repeated 29x across cluster]\u001b[0m\n",
      "\u001b[36m(tune_with_parameters pid=1858762)\u001b[0m /tmp/tmpnpk4meb7/checkpoint.pt\n"
     ]
    },
    {
     "name": "stderr",
     "output_type": "stream",
     "text": [
      "\u001b[36m(tune_with_parameters pid=1858762)\u001b[0m Checkpoint successfully created at: Checkpoint(filesystem=local, path=/scratch/users/k23058970/Model training/results/Single Peak LRCN Null/tune_with_parameters_2024-08-19_13-29-31/tune_with_parameters_c1630_00001_1_dp=0.2500,k1=3,k2=3,k3=5,k4=3,lr=0.0045_2024-08-19_13-30-01/checkpoint_000019)\n"
     ]
    },
    {
     "name": "stdout",
     "output_type": "stream",
     "text": [
      "\u001b[36m(tune_with_parameters pid=1969427)\u001b[0m /tmp/tmpeva1d170/checkpoint.pt\n",
      "\u001b[36m(tune_with_parameters pid=1969427)\u001b[0m loss: 1.094\u001b[32m [repeated 9x across cluster]\u001b[0m\n"
     ]
    },
    {
     "name": "stderr",
     "output_type": "stream",
     "text": [
      "Val Epoch:77: 0it [00:00, ?it/s]\u001b[32m [repeated 2x across cluster]\u001b[0m\n",
      "Val Epoch:76: 47it [00:01, 37.48it/s]\u001b[32m [repeated 21x across cluster]\u001b[0m\n",
      "\u001b[36m(tune_with_parameters pid=1969427)\u001b[0m Checkpoint successfully created at: Checkpoint(filesystem=local, path=/scratch/users/k23058970/Model training/results/Single Peak LRCN Null/tune_with_parameters_2024-08-19_13-29-31/tune_with_parameters_c1630_00002_2_dp=0.2000,k1=1,k2=1,k3=1,k4=5,lr=0.0031_2024-08-19_13-30-01/checkpoint_000006)\n"
     ]
    },
    {
     "name": "stdout",
     "output_type": "stream",
     "text": [
      "\u001b[36m(tune_with_parameters pid=1858762)\u001b[0m loss: 0.002\u001b[32m [repeated 23x across cluster]\u001b[0m\n",
      "\u001b[36m(tune_with_parameters pid=1969427)\u001b[0m /tmp/tmpnv3befqf/checkpoint.pt\n"
     ]
    },
    {
     "name": "stderr",
     "output_type": "stream",
     "text": [
      "\u001b[36m(tune_with_parameters pid=1969427)\u001b[0m Checkpoint successfully created at: Checkpoint(filesystem=local, path=/scratch/users/k23058970/Model training/results/Single Peak LRCN Null/tune_with_parameters_2024-08-19_13-29-31/tune_with_parameters_c1630_00002_2_dp=0.2000,k1=1,k2=1,k3=1,k4=5,lr=0.0031_2024-08-19_13-30-01/checkpoint_000007)\n",
      "Val Epoch:9: 0it [00:00, ?it/s]1969427)\u001b[0m \n",
      "Val Epoch:9: 47it [00:01, 40.94it/s]\u001b[32m [repeated 18x across cluster]\u001b[0m\n",
      "Val Epoch:78: 0it [00:00, ?it/s]858762)\u001b[0m \n"
     ]
    },
    {
     "name": "stdout",
     "output_type": "stream",
     "text": [
      "\u001b[36m(tune_with_parameters pid=1969427)\u001b[0m loss: 1.092\u001b[32m [repeated 16x across cluster]\u001b[0m\n",
      "\u001b[36m(tune_with_parameters pid=1858762)\u001b[0m /tmp/tmpzowhyri5/checkpoint.pt\n"
     ]
    },
    {
     "name": "stderr",
     "output_type": "stream",
     "text": [
      "\u001b[36m(tune_with_parameters pid=1858762)\u001b[0m Checkpoint successfully created at: Checkpoint(filesystem=local, path=/scratch/users/k23058970/Model training/results/Single Peak LRCN Null/tune_with_parameters_2024-08-19_13-29-31/tune_with_parameters_c1630_00001_1_dp=0.2500,k1=3,k2=3,k3=5,k4=3,lr=0.0045_2024-08-19_13-30-01/checkpoint_000020)\n",
      "Val Epoch:78: 47it [00:01, 37.04it/s]\u001b[32m [repeated 9x across cluster]\u001b[0m\n",
      "Val Epoch:10: 0it [00:00, ?it/s]969427)\u001b[0m \n"
     ]
    },
    {
     "name": "stdout",
     "output_type": "stream",
     "text": [
      "\u001b[36m(tune_with_parameters pid=1969427)\u001b[0m /tmp/tmp9ldxr338/checkpoint.pt\n",
      "\u001b[36m(tune_with_parameters pid=1969427)\u001b[0m loss: 1.092\u001b[32m [repeated 12x across cluster]\u001b[0m\n"
     ]
    },
    {
     "name": "stderr",
     "output_type": "stream",
     "text": [
      "\u001b[36m(tune_with_parameters pid=1969427)\u001b[0m Checkpoint successfully created at: Checkpoint(filesystem=local, path=/scratch/users/k23058970/Model training/results/Single Peak LRCN Null/tune_with_parameters_2024-08-19_13-29-31/tune_with_parameters_c1630_00002_2_dp=0.2000,k1=1,k2=1,k3=1,k4=5,lr=0.0031_2024-08-19_13-30-01/checkpoint_000008)\n"
     ]
    },
    {
     "name": "stdout",
     "output_type": "stream",
     "text": [
      "\u001b[36m(tune_with_parameters pid=1969427)\u001b[0m loss: 1.089\u001b[32m [repeated 15x across cluster]\u001b[0m\n"
     ]
    },
    {
     "name": "stderr",
     "output_type": "stream",
     "text": [
      "Val Epoch:11: 0it [00:00, ?it/s]969427)\u001b[0m \n",
      "Val Epoch:10: 47it [00:01, 27.85it/s]\u001b[32m [repeated 9x across cluster]\u001b[0m\n",
      "\u001b[36m(tune_with_parameters pid=1995743)\u001b[0m /users/k23058970/miniforge3/envs/Training/lib/python3.10/site-packages/torch/nn/modules/lazy.py:181: UserWarning: Lazy modules are a new feature under heavy development so changes to the API or functionality can happen at any moment.\n",
      "\u001b[36m(tune_with_parameters pid=1995743)\u001b[0m   warnings.warn('Lazy modules are a new feature under heavy development '\n",
      "Val Epoch:11: 47it [00:01, 38.18it/s]7)\u001b[0m \n"
     ]
    },
    {
     "name": "stdout",
     "output_type": "stream",
     "text": [
      "\u001b[36m(tune_with_parameters pid=1969427)\u001b[0m /tmp/tmp4inwf9fm/checkpoint.pt\n"
     ]
    },
    {
     "name": "stderr",
     "output_type": "stream",
     "text": [
      "\u001b[36m(tune_with_parameters pid=1969427)\u001b[0m Checkpoint successfully created at: Checkpoint(filesystem=local, path=/scratch/users/k23058970/Model training/results/Single Peak LRCN Null/tune_with_parameters_2024-08-19_13-29-31/tune_with_parameters_c1630_00002_2_dp=0.2000,k1=1,k2=1,k3=1,k4=5,lr=0.0031_2024-08-19_13-30-01/checkpoint_000009)\n"
     ]
    },
    {
     "name": "stdout",
     "output_type": "stream",
     "text": [
      "\u001b[36m(tune_with_parameters pid=1995743)\u001b[0m loss: 1.100\u001b[32m [repeated 4x across cluster]\u001b[0m\n"
     ]
    },
    {
     "name": "stderr",
     "output_type": "stream",
     "text": [
      "Val Epoch:0: 0it [00:00, ?it/s]1995743)\u001b[0m \n",
      "Val Epoch:11: 38it [00:01, 52.90it/s]\u001b[32m [repeated 6x across cluster]\u001b[0m\n",
      "Val Epoch:12: 0it [00:00, ?it/s]969427)\u001b[0m \n",
      "\u001b[36m(tune_with_parameters pid=1995743)\u001b[0m /scratch/users/k23058970/Model training/training_insilico_lrcn.py:63: RuntimeWarning: invalid value encountered in divide\n",
      "\u001b[36m(tune_with_parameters pid=1995743)\u001b[0m   self.precision = self.tp/(self.tp + self.fp)\n",
      "\u001b[36m(tune_with_parameters pid=1995743)\u001b[0m Checkpoint successfully created at: Checkpoint(filesystem=local, path=/scratch/users/k23058970/Model training/results/Single Peak LRCN Null/tune_with_parameters_2024-08-19_13-29-31/tune_with_parameters_c1630_00003_3_dp=0.2000,k1=1,k2=5,k3=1,k4=3,lr=0.0313_2024-08-19_13-30-01/checkpoint_000000)\n"
     ]
    },
    {
     "name": "stdout",
     "output_type": "stream",
     "text": [
      "\u001b[36m(tune_with_parameters pid=1995743)\u001b[0m /tmp/tmptpt47n_y/checkpoint.pt\n",
      "\u001b[36m(tune_with_parameters pid=1969427)\u001b[0m loss: 1.083\u001b[32m [repeated 26x across cluster]\u001b[0m\n",
      "\u001b[36m(tune_with_parameters pid=1969427)\u001b[0m /tmp/tmpgqlkmylh/checkpoint.pt\n"
     ]
    },
    {
     "name": "stderr",
     "output_type": "stream",
     "text": [
      "Val Epoch:12: 47it [00:01, 26.04it/s]\u001b[32m [repeated 21x across cluster]\u001b[0m\n",
      "Val Epoch:1: 0it [00:00, ?it/s]1995743)\u001b[0m \n"
     ]
    },
    {
     "name": "stdout",
     "output_type": "stream",
     "text": [
      "\u001b[36m(tune_with_parameters pid=1969427)\u001b[0m loss: 1.080\u001b[32m [repeated 22x across cluster]\u001b[0m\n"
     ]
    },
    {
     "name": "stderr",
     "output_type": "stream",
     "text": [
      "\u001b[36m(tune_with_parameters pid=1969427)\u001b[0m Checkpoint successfully created at: Checkpoint(filesystem=local, path=/scratch/users/k23058970/Model training/results/Single Peak LRCN Null/tune_with_parameters_2024-08-19_13-29-31/tune_with_parameters_c1630_00002_2_dp=0.2000,k1=1,k2=1,k3=1,k4=5,lr=0.0031_2024-08-19_13-30-01/checkpoint_000010)\n"
     ]
    },
    {
     "name": "stdout",
     "output_type": "stream",
     "text": [
      "\u001b[36m(tune_with_parameters pid=1995743)\u001b[0m /tmp/tmpyrdhp73o/checkpoint.pt\n"
     ]
    },
    {
     "name": "stderr",
     "output_type": "stream",
     "text": [
      "\u001b[36m(tune_with_parameters pid=1995743)\u001b[0m Checkpoint successfully created at: Checkpoint(filesystem=local, path=/scratch/users/k23058970/Model training/results/Single Peak LRCN Null/tune_with_parameters_2024-08-19_13-29-31/tune_with_parameters_c1630_00003_3_dp=0.2000,k1=1,k2=5,k3=1,k4=3,lr=0.0313_2024-08-19_13-30-01/checkpoint_000001)\n",
      "Val Epoch:13: 0it [00:00, ?it/s]969427)\u001b[0m \n",
      "Val Epoch:13: 35it [00:01, 32.64it/s]\u001b[32m [repeated 18x across cluster]\u001b[0m\n",
      "Val Epoch:13: 47it [00:02, 22.63it/s]7)\u001b[0m \n"
     ]
    },
    {
     "name": "stdout",
     "output_type": "stream",
     "text": [
      "\u001b[36m(tune_with_parameters pid=1995743)\u001b[0m loss: 0.158\u001b[32m [repeated 19x across cluster]\u001b[0m\n",
      "\u001b[36m(tune_with_parameters pid=1969427)\u001b[0m /tmp/tmp9ez42yxv/checkpoint.pt\n"
     ]
    },
    {
     "name": "stderr",
     "output_type": "stream",
     "text": [
      "\u001b[36m(tune_with_parameters pid=1969427)\u001b[0m Checkpoint successfully created at: Checkpoint(filesystem=local, path=/scratch/users/k23058970/Model training/results/Single Peak LRCN Null/tune_with_parameters_2024-08-19_13-29-31/tune_with_parameters_c1630_00002_2_dp=0.2000,k1=1,k2=1,k3=1,k4=5,lr=0.0031_2024-08-19_13-30-01/checkpoint_000011)\n",
      "Val Epoch:2: 0it [00:00, ?it/s]1995743)\u001b[0m \n"
     ]
    },
    {
     "name": "stdout",
     "output_type": "stream",
     "text": [
      "\u001b[36m(tune_with_parameters pid=1995743)\u001b[0m /tmp/tmp6vdxot3y/checkpoint.pt\n",
      "\u001b[36m(tune_with_parameters pid=1995743)\u001b[0m loss: 0.039\u001b[32m [repeated 11x across cluster]\u001b[0m\n"
     ]
    },
    {
     "name": "stderr",
     "output_type": "stream",
     "text": [
      "Val Epoch:3: 0it [00:00, ?it/s]1995743)\u001b[0m \n",
      "Val Epoch:2: 42it [00:01, 22.58it/s]\u001b[32m [repeated 8x across cluster]\u001b[0m\n",
      "Val Epoch:2: 47it [00:02, 22.66it/s]43)\u001b[0m \n",
      "\u001b[36m(tune_with_parameters pid=1995743)\u001b[0m Checkpoint successfully created at: Checkpoint(filesystem=local, path=/scratch/users/k23058970/Model training/results/Single Peak LRCN Null/tune_with_parameters_2024-08-19_13-29-31/tune_with_parameters_c1630_00003_3_dp=0.2000,k1=1,k2=5,k3=1,k4=3,lr=0.0313_2024-08-19_13-30-01/checkpoint_000002)\n"
     ]
    },
    {
     "name": "stdout",
     "output_type": "stream",
     "text": [
      "\u001b[36m(tune_with_parameters pid=1995743)\u001b[0m /tmp/tmpazsxkpkq/checkpoint.pt\n",
      "\u001b[36m(tune_with_parameters pid=1969427)\u001b[0m loss: 1.070\u001b[32m [repeated 23x across cluster]\u001b[0m\n"
     ]
    },
    {
     "name": "stderr",
     "output_type": "stream",
     "text": [
      "\u001b[36m(tune_with_parameters pid=1995743)\u001b[0m Checkpoint successfully created at: Checkpoint(filesystem=local, path=/scratch/users/k23058970/Model training/results/Single Peak LRCN Null/tune_with_parameters_2024-08-19_13-29-31/tune_with_parameters_c1630_00003_3_dp=0.2000,k1=1,k2=5,k3=1,k4=3,lr=0.0313_2024-08-19_13-30-01/checkpoint_000003)\n"
     ]
    },
    {
     "name": "stdout",
     "output_type": "stream",
     "text": [
      "\u001b[36m(tune_with_parameters pid=1969427)\u001b[0m /tmp/tmpeeh5qcba/checkpoint.pt\n"
     ]
    },
    {
     "name": "stderr",
     "output_type": "stream",
     "text": [
      "Val Epoch:4: 0it [00:00, ?it/s]\u001b[32m [repeated 2x across cluster]\u001b[0m\n",
      "Val Epoch:14: 47it [00:01, 36.06it/s]\u001b[32m [repeated 19x across cluster]\u001b[0m\n",
      "\u001b[36m(tune_with_parameters pid=1969427)\u001b[0m Checkpoint successfully created at: Checkpoint(filesystem=local, path=/scratch/users/k23058970/Model training/results/Single Peak LRCN Null/tune_with_parameters_2024-08-19_13-29-31/tune_with_parameters_c1630_00002_2_dp=0.2000,k1=1,k2=1,k3=1,k4=5,lr=0.0031_2024-08-19_13-30-01/checkpoint_000012)\n"
     ]
    },
    {
     "name": "stdout",
     "output_type": "stream",
     "text": [
      "\u001b[36m(tune_with_parameters pid=1969427)\u001b[0m loss: 1.064\u001b[32m [repeated 22x across cluster]\u001b[0m\n"
     ]
    },
    {
     "name": "stderr",
     "output_type": "stream",
     "text": [
      "Val Epoch:15: 0it [00:00, ?it/s]969427)\u001b[0m \n",
      "Val Epoch:15: 47it [00:01, 25.55it/s]\u001b[32m [repeated 20x across cluster]\u001b[0m\n"
     ]
    },
    {
     "name": "stdout",
     "output_type": "stream",
     "text": [
      "\u001b[36m(tune_with_parameters pid=1995743)\u001b[0m loss: 0.008\u001b[32m [repeated 23x across cluster]\u001b[0m\n"
     ]
    },
    {
     "name": "stderr",
     "output_type": "stream",
     "text": [
      "Val Epoch:5: 0it [00:00, ?it/s]1995743)\u001b[0m \n"
     ]
    },
    {
     "name": "stdout",
     "output_type": "stream",
     "text": [
      "\u001b[36m(tune_with_parameters pid=1969427)\u001b[0m /tmp/tmps7k0wbs2/checkpoint.pt\n"
     ]
    },
    {
     "name": "stderr",
     "output_type": "stream",
     "text": [
      "\u001b[36m(tune_with_parameters pid=1969427)\u001b[0m Checkpoint successfully created at: Checkpoint(filesystem=local, path=/scratch/users/k23058970/Model training/results/Single Peak LRCN Null/tune_with_parameters_2024-08-19_13-29-31/tune_with_parameters_c1630_00002_2_dp=0.2000,k1=1,k2=1,k3=1,k4=5,lr=0.0031_2024-08-19_13-30-01/checkpoint_000013)\n"
     ]
    },
    {
     "name": "stdout",
     "output_type": "stream",
     "text": [
      "\u001b[36m(tune_with_parameters pid=1995743)\u001b[0m /tmp/tmppeewmh18/checkpoint.pt\n",
      "\u001b[36m(tune_with_parameters pid=1995743)\u001b[0m loss: 0.009\u001b[32m [repeated 16x across cluster]\u001b[0m\n"
     ]
    },
    {
     "name": "stderr",
     "output_type": "stream",
     "text": [
      "Val Epoch:6: 0it [00:00, ?it/s]1995743)\u001b[0m \n",
      "Val Epoch:5: 47it [00:00, 50.51it/s]\u001b[32m [repeated 8x across cluster]\u001b[0m\n",
      "\u001b[36m(tune_with_parameters pid=1995743)\u001b[0m Checkpoint successfully created at: Checkpoint(filesystem=local, path=/scratch/users/k23058970/Model training/results/Single Peak LRCN Null/tune_with_parameters_2024-08-19_13-29-31/tune_with_parameters_c1630_00003_3_dp=0.2000,k1=1,k2=5,k3=1,k4=3,lr=0.0313_2024-08-19_13-30-01/checkpoint_000004)\n",
      "Val Epoch:16: 0it [00:00, ?it/s]969427)\u001b[0m \n"
     ]
    },
    {
     "name": "stdout",
     "output_type": "stream",
     "text": [
      "\u001b[36m(tune_with_parameters pid=1995743)\u001b[0m /tmp/tmptkj5ozot/checkpoint.pt\n"
     ]
    },
    {
     "name": "stderr",
     "output_type": "stream",
     "text": [
      "\u001b[36m(tune_with_parameters pid=1995743)\u001b[0m Checkpoint successfully created at: Checkpoint(filesystem=local, path=/scratch/users/k23058970/Model training/results/Single Peak LRCN Null/tune_with_parameters_2024-08-19_13-29-31/tune_with_parameters_c1630_00003_3_dp=0.2000,k1=1,k2=5,k3=1,k4=3,lr=0.0313_2024-08-19_13-30-01/checkpoint_000005)\n"
     ]
    },
    {
     "name": "stdout",
     "output_type": "stream",
     "text": [
      "\u001b[36m(tune_with_parameters pid=1995743)\u001b[0m loss: 0.005\u001b[32m [repeated 17x across cluster]\u001b[0m\n",
      "\u001b[36m(tune_with_parameters pid=1969427)\u001b[0m /tmp/tmpevapq5v_/checkpoint.pt\n"
     ]
    },
    {
     "name": "stderr",
     "output_type": "stream",
     "text": [
      "Val Epoch:16: 47it [00:01, 26.06it/s]\u001b[32m [repeated 20x across cluster]\u001b[0m\n",
      "Val Epoch:7: 0it [00:00, ?it/s]1995743)\u001b[0m \n",
      "\u001b[36m(tune_with_parameters pid=1969427)\u001b[0m Checkpoint successfully created at: Checkpoint(filesystem=local, path=/scratch/users/k23058970/Model training/results/Single Peak LRCN Null/tune_with_parameters_2024-08-19_13-29-31/tune_with_parameters_c1630_00002_2_dp=0.2000,k1=1,k2=1,k3=1,k4=5,lr=0.0031_2024-08-19_13-30-01/checkpoint_000014)\n"
     ]
    },
    {
     "name": "stdout",
     "output_type": "stream",
     "text": [
      "\u001b[36m(tune_with_parameters pid=1969427)\u001b[0m loss: 1.032\u001b[32m [repeated 20x across cluster]\u001b[0m\n"
     ]
    },
    {
     "name": "stderr",
     "output_type": "stream",
     "text": [
      "Val Epoch:17: 0it [00:00, ?it/s]969427)\u001b[0m \n",
      "Val Epoch:17: 13it [00:00, 19.38it/s]\u001b[32m [repeated 14x across cluster]\u001b[0m\n",
      "Val Epoch:17: 47it [00:01, 27.99it/s]7)\u001b[0m \n"
     ]
    },
    {
     "name": "stdout",
     "output_type": "stream",
     "text": [
      "\u001b[36m(tune_with_parameters pid=1995743)\u001b[0m loss: 0.003\u001b[32m [repeated 22x across cluster]\u001b[0m\n",
      "\u001b[36m(tune_with_parameters pid=1969427)\u001b[0m /tmp/tmpnekup77g/checkpoint.pt\n"
     ]
    },
    {
     "name": "stderr",
     "output_type": "stream",
     "text": [
      "\u001b[36m(tune_with_parameters pid=1969427)\u001b[0m Checkpoint successfully created at: Checkpoint(filesystem=local, path=/scratch/users/k23058970/Model training/results/Single Peak LRCN Null/tune_with_parameters_2024-08-19_13-29-31/tune_with_parameters_c1630_00002_2_dp=0.2000,k1=1,k2=1,k3=1,k4=5,lr=0.0031_2024-08-19_13-30-01/checkpoint_000015)\n"
     ]
    },
    {
     "name": "stdout",
     "output_type": "stream",
     "text": [
      "\u001b[36m(tune_with_parameters pid=1995743)\u001b[0m loss: 0.002\u001b[32m [repeated 19x across cluster]\u001b[0m\n"
     ]
    },
    {
     "name": "stderr",
     "output_type": "stream",
     "text": [
      "Val Epoch:9: 0it [00:00, ?it/s]\u001b[32m [repeated 2x across cluster]\u001b[0m\n",
      "Val Epoch:8: 47it [00:01, 37.09it/s]\u001b[32m [repeated 13x across cluster]\u001b[0m\n"
     ]
    },
    {
     "name": "stdout",
     "output_type": "stream",
     "text": [
      "\u001b[36m(tune_with_parameters pid=1995743)\u001b[0m /tmp/tmp0o9jalwv/checkpoint.pt\n"
     ]
    },
    {
     "name": "stderr",
     "output_type": "stream",
     "text": [
      "\u001b[36m(tune_with_parameters pid=1995743)\u001b[0m Checkpoint successfully created at: Checkpoint(filesystem=local, path=/scratch/users/k23058970/Model training/results/Single Peak LRCN Null/tune_with_parameters_2024-08-19_13-29-31/tune_with_parameters_c1630_00003_3_dp=0.2000,k1=1,k2=5,k3=1,k4=3,lr=0.0313_2024-08-19_13-30-01/checkpoint_000006)\n"
     ]
    },
    {
     "name": "stdout",
     "output_type": "stream",
     "text": [
      "\u001b[36m(tune_with_parameters pid=1995743)\u001b[0m \n",
      "\u001b[36m(tune_with_parameters pid=1995743)\u001b[0m loss: 0.001\u001b[32m [repeated 15x across cluster]\u001b[0m\n"
     ]
    },
    {
     "name": "stderr",
     "output_type": "stream",
     "text": [
      "Val Epoch:10: 0it [00:00, ?it/s]\u001b[32m [repeated 2x across cluster]\u001b[0m\n",
      "Val Epoch:18: 47it [00:01, 25.33it/s]\u001b[32m [repeated 21x across cluster]\u001b[0m\n"
     ]
    },
    {
     "name": "stdout",
     "output_type": "stream",
     "text": [
      "\u001b[36m(tune_with_parameters pid=1969427)\u001b[0m loss: 0.948\u001b[32m [repeated 25x across cluster]\u001b[0m\n"
     ]
    },
    {
     "name": "stderr",
     "output_type": "stream",
     "text": [
      "Val Epoch:11: 0it [00:00, ?it/s]\u001b[32m [repeated 2x across cluster]\u001b[0m\n",
      "Val Epoch:19: 47it [00:01, 30.42it/s]\u001b[32m [repeated 18x across cluster]\u001b[0m\n"
     ]
    },
    {
     "name": "stdout",
     "output_type": "stream",
     "text": [
      "\u001b[36m(tune_with_parameters pid=1969427)\u001b[0m loss: 0.898\u001b[32m [repeated 22x across cluster]\u001b[0m\n",
      "\u001b[36m(tune_with_parameters pid=1969427)\u001b[0m loss: 0.833\u001b[32m [repeated 23x across cluster]\u001b[0m\n"
     ]
    },
    {
     "name": "stderr",
     "output_type": "stream",
     "text": [
      "Val Epoch:12: 0it [00:00, ?it/s]\u001b[32m [repeated 2x across cluster]\u001b[0m\n",
      "Val Epoch:20: 47it [00:01, 35.79it/s]\u001b[32m [repeated 20x across cluster]\u001b[0m\n"
     ]
    },
    {
     "name": "stdout",
     "output_type": "stream",
     "text": [
      "\u001b[36m(tune_with_parameters pid=1969427)\u001b[0m loss: 0.801\u001b[32m [repeated 25x across cluster]\u001b[0m\n"
     ]
    },
    {
     "name": "stderr",
     "output_type": "stream",
     "text": [
      "Val Epoch:21: 0it [00:00, ?it/s]969427)\u001b[0m \n",
      "Val Epoch:12: 47it [00:01, 29.38it/s]\u001b[32m [repeated 10x across cluster]\u001b[0m\n",
      "Val Epoch:13: 0it [00:00, ?it/s]995743)\u001b[0m \n"
     ]
    },
    {
     "name": "stdout",
     "output_type": "stream",
     "text": [
      "\u001b[36m(tune_with_parameters pid=1969427)\u001b[0m loss: 0.754\u001b[32m [repeated 12x across cluster]\u001b[0m\n"
     ]
    },
    {
     "name": "stderr",
     "output_type": "stream",
     "text": [
      "Val Epoch:13: 47it [00:01, 28.04it/s]\u001b[32m [repeated 19x across cluster]\u001b[0m\n",
      "Val Epoch:22: 0it [00:00, ?it/s]969427)\u001b[0m \n",
      "Val Epoch:14: 0it [00:00, ?it/s]995743)\u001b[0m \n",
      "Val Epoch:22: 47it [00:01, 24.13it/s]7)\u001b[0m \n"
     ]
    },
    {
     "name": "stdout",
     "output_type": "stream",
     "text": [
      "\u001b[36m(tune_with_parameters pid=1969427)\u001b[0m loss: 0.716\u001b[32m [repeated 25x across cluster]\u001b[0m\n"
     ]
    },
    {
     "name": "stderr",
     "output_type": "stream",
     "text": [
      "Val Epoch:15: 0it [00:00, ?it/s]995743)\u001b[0m \n",
      "Val Epoch:14: 47it [00:01, 23.57it/s]\u001b[32m [repeated 19x across cluster]\u001b[0m\n"
     ]
    },
    {
     "name": "stdout",
     "output_type": "stream",
     "text": [
      "\u001b[36m(tune_with_parameters pid=1969427)\u001b[0m loss: 0.671\u001b[32m [repeated 29x across cluster]\u001b[0m\n"
     ]
    },
    {
     "name": "stderr",
     "output_type": "stream",
     "text": [
      "Val Epoch:23: 0it [00:00, ?it/s]969427)\u001b[0m \n"
     ]
    },
    {
     "name": "stdout",
     "output_type": "stream",
     "text": [
      "\u001b[36m(tune_with_parameters pid=1995743)\u001b[0m /tmp/tmph6f0gxva/checkpoint.pt\n"
     ]
    },
    {
     "name": "stderr",
     "output_type": "stream",
     "text": [
      "\u001b[36m(tune_with_parameters pid=1995743)\u001b[0m Checkpoint successfully created at: Checkpoint(filesystem=local, path=/scratch/users/k23058970/Model training/results/Single Peak LRCN Null/tune_with_parameters_2024-08-19_13-29-31/tune_with_parameters_c1630_00003_3_dp=0.2000,k1=1,k2=5,k3=1,k4=3,lr=0.0313_2024-08-19_13-30-01/checkpoint_000007)\n"
     ]
    },
    {
     "name": "stdout",
     "output_type": "stream",
     "text": [
      "\u001b[36m(tune_with_parameters pid=1969427)\u001b[0m /tmp/tmpbwpw1ac0/checkpoint.pt\n",
      "\u001b[36m(tune_with_parameters pid=1995743)\u001b[0m loss: 0.001\u001b[32m [repeated 11x across cluster]\u001b[0m\n"
     ]
    },
    {
     "name": "stderr",
     "output_type": "stream",
     "text": [
      "Val Epoch:23: 47it [00:02, 21.23it/s]\u001b[32m [repeated 18x across cluster]\u001b[0m\n",
      "Val Epoch:16: 0it [00:00, ?it/s]995743)\u001b[0m \n",
      "\u001b[36m(tune_with_parameters pid=1969427)\u001b[0m Checkpoint successfully created at: Checkpoint(filesystem=local, path=/scratch/users/k23058970/Model training/results/Single Peak LRCN Null/tune_with_parameters_2024-08-19_13-29-31/tune_with_parameters_c1630_00002_2_dp=0.2000,k1=1,k2=1,k3=1,k4=5,lr=0.0031_2024-08-19_13-30-01/checkpoint_000016)\n"
     ]
    },
    {
     "name": "stdout",
     "output_type": "stream",
     "text": [
      "\u001b[36m(tune_with_parameters pid=1969427)\u001b[0m loss: 0.621\u001b[32m [repeated 25x across cluster]\u001b[0m\n"
     ]
    },
    {
     "name": "stderr",
     "output_type": "stream",
     "text": [
      "Val Epoch:24: 0it [00:00, ?it/s]969427)\u001b[0m \n",
      "Val Epoch:24: 31it [00:00, 41.86it/s]\u001b[32m [repeated 16x across cluster]\u001b[0m\n"
     ]
    },
    {
     "name": "stdout",
     "output_type": "stream",
     "text": [
      "\u001b[36m(tune_with_parameters pid=1969427)\u001b[0m /tmp/tmpf5ckvw3q/checkpoint.pt\n"
     ]
    },
    {
     "name": "stderr",
     "output_type": "stream",
     "text": [
      "Val Epoch:17: 47it [00:01, 38.64it/s]3)\u001b[0m \n",
      "\u001b[36m(tune_with_parameters pid=1969427)\u001b[0m Checkpoint successfully created at: Checkpoint(filesystem=local, path=/scratch/users/k23058970/Model training/results/Single Peak LRCN Null/tune_with_parameters_2024-08-19_13-29-31/tune_with_parameters_c1630_00002_2_dp=0.2000,k1=1,k2=1,k3=1,k4=5,lr=0.0031_2024-08-19_13-30-01/checkpoint_000017)\n"
     ]
    },
    {
     "name": "stdout",
     "output_type": "stream",
     "text": [
      "\u001b[36m(tune_with_parameters pid=1969427)\u001b[0m loss: 0.621\u001b[32m [repeated 11x across cluster]\u001b[0m\n"
     ]
    },
    {
     "name": "stderr",
     "output_type": "stream",
     "text": [
      "Val Epoch:18: 0it [00:00, ?it/s]\u001b[32m [repeated 2x across cluster]\u001b[0m\n",
      "Val Epoch:17: 38it [00:01, 48.56it/s]\u001b[32m [repeated 10x across cluster]\u001b[0m\n",
      "Val Epoch:18: 47it [00:01, 33.63it/s]3)\u001b[0m \n"
     ]
    },
    {
     "name": "stdout",
     "output_type": "stream",
     "text": [
      "\u001b[36m(tune_with_parameters pid=1995743)\u001b[0m loss: 0.001\u001b[32m [repeated 29x across cluster]\u001b[0m\n",
      "\u001b[36m(tune_with_parameters pid=1969427)\u001b[0m /tmp/tmphywjt78v/checkpoint.pt\n"
     ]
    },
    {
     "name": "stderr",
     "output_type": "stream",
     "text": [
      "\u001b[36m(tune_with_parameters pid=1969427)\u001b[0m Checkpoint successfully created at: Checkpoint(filesystem=local, path=/scratch/users/k23058970/Model training/results/Single Peak LRCN Null/tune_with_parameters_2024-08-19_13-29-31/tune_with_parameters_c1630_00002_2_dp=0.2000,k1=1,k2=1,k3=1,k4=5,lr=0.0031_2024-08-19_13-30-01/checkpoint_000018)\n",
      "Val Epoch:25: 0it [00:00, ?it/s]969427)\u001b[0m \n",
      "Val Epoch:25: 47it [00:01, 26.81it/s]\u001b[32m [repeated 18x across cluster]\u001b[0m\n",
      "Val Epoch:19: 0it [00:00, ?it/s]995743)\u001b[0m \n"
     ]
    },
    {
     "name": "stdout",
     "output_type": "stream",
     "text": [
      "\u001b[36m(tune_with_parameters pid=1969427)\u001b[0m loss: 0.538\u001b[32m [repeated 18x across cluster]\u001b[0m\n"
     ]
    },
    {
     "name": "stderr",
     "output_type": "stream",
     "text": [
      "Val Epoch:19: 47it [00:01, 31.41it/s]\u001b[32m [repeated 10x across cluster]\u001b[0m\n",
      "Val Epoch:26: 0it [00:00, ?it/s]969427)\u001b[0m \n"
     ]
    },
    {
     "name": "stdout",
     "output_type": "stream",
     "text": [
      "\u001b[36m(tune_with_parameters pid=1995743)\u001b[0m loss: 0.001\u001b[32m [repeated 24x across cluster]\u001b[0m\n"
     ]
    },
    {
     "name": "stderr",
     "output_type": "stream",
     "text": [
      "Val Epoch:20: 0it [00:00, ?it/s]995743)\u001b[0m \n"
     ]
    },
    {
     "name": "stdout",
     "output_type": "stream",
     "text": [
      "\u001b[36m(tune_with_parameters pid=1969427)\u001b[0m /tmp/tmpo6gc39ki/checkpoint.pt\n"
     ]
    },
    {
     "name": "stderr",
     "output_type": "stream",
     "text": [
      "\u001b[36m(tune_with_parameters pid=1969427)\u001b[0m Checkpoint successfully created at: Checkpoint(filesystem=local, path=/scratch/users/k23058970/Model training/results/Single Peak LRCN Null/tune_with_parameters_2024-08-19_13-29-31/tune_with_parameters_c1630_00002_2_dp=0.2000,k1=1,k2=1,k3=1,k4=5,lr=0.0031_2024-08-19_13-30-01/checkpoint_000019)\n"
     ]
    },
    {
     "name": "stdout",
     "output_type": "stream",
     "text": [
      "\u001b[36m(tune_with_parameters pid=1969427)\u001b[0m loss: 0.466\u001b[32m [repeated 12x across cluster]\u001b[0m\n"
     ]
    },
    {
     "name": "stderr",
     "output_type": "stream",
     "text": [
      "Val Epoch:21: 0it [00:00, ?it/s]995743)\u001b[0m \n",
      "Val Epoch:20: 47it [00:00, 47.24it/s]\u001b[32m [repeated 19x across cluster]\u001b[0m\n",
      "Val Epoch:27: 0it [00:00, ?it/s]969427)\u001b[0m \n"
     ]
    },
    {
     "name": "stdout",
     "output_type": "stream",
     "text": [
      "\u001b[36m(tune_with_parameters pid=1995743)\u001b[0m loss: 0.000\u001b[32m [repeated 23x across cluster]\u001b[0m\n",
      "\u001b[36m(tune_with_parameters pid=1969427)\u001b[0m /tmp/tmp0f2gcgc7/checkpoint.pt\n"
     ]
    },
    {
     "name": "stderr",
     "output_type": "stream",
     "text": [
      "Val Epoch:27: 47it [00:01, 31.28it/s]\u001b[32m [repeated 20x across cluster]\u001b[0m\n",
      "\u001b[36m(tune_with_parameters pid=1969427)\u001b[0m Checkpoint successfully created at: Checkpoint(filesystem=local, path=/scratch/users/k23058970/Model training/results/Single Peak LRCN Null/tune_with_parameters_2024-08-19_13-29-31/tune_with_parameters_c1630_00002_2_dp=0.2000,k1=1,k2=1,k3=1,k4=5,lr=0.0031_2024-08-19_13-30-01/checkpoint_000020)\n",
      "Val Epoch:22: 0it [00:00, ?it/s]995743)\u001b[0m \n"
     ]
    },
    {
     "name": "stdout",
     "output_type": "stream",
     "text": [
      "\u001b[36m(tune_with_parameters pid=1995743)\u001b[0m loss: 0.000\u001b[32m [repeated 16x across cluster]\u001b[0m\n"
     ]
    },
    {
     "name": "stderr",
     "output_type": "stream",
     "text": [
      "Val Epoch:28: 0it [00:00, ?it/s]969427)\u001b[0m \n",
      "Val Epoch:22: 47it [00:01, 28.01it/s]\u001b[32m [repeated 9x across cluster]\u001b[0m\n"
     ]
    },
    {
     "name": "stdout",
     "output_type": "stream",
     "text": [
      "\u001b[36m(tune_with_parameters pid=1995743)\u001b[0m loss: 0.000\u001b[32m [repeated 27x across cluster]\u001b[0m\n",
      "\u001b[36m(tune_with_parameters pid=1969427)\u001b[0m /tmp/tmpiqi_z7fp/checkpoint.pt\n"
     ]
    },
    {
     "name": "stderr",
     "output_type": "stream",
     "text": [
      "\u001b[36m(tune_with_parameters pid=1969427)\u001b[0m Checkpoint successfully created at: Checkpoint(filesystem=local, path=/scratch/users/k23058970/Model training/results/Single Peak LRCN Null/tune_with_parameters_2024-08-19_13-29-31/tune_with_parameters_c1630_00002_2_dp=0.2000,k1=1,k2=1,k3=1,k4=5,lr=0.0031_2024-08-19_13-30-01/checkpoint_000021)\n",
      "Val Epoch:24: 0it [00:00, ?it/s]\u001b[32m [repeated 2x across cluster]\u001b[0m\n",
      "Val Epoch:23: 47it [00:01, 35.31it/s]\u001b[32m [repeated 19x across cluster]\u001b[0m\n"
     ]
    },
    {
     "name": "stdout",
     "output_type": "stream",
     "text": [
      "\u001b[36m(tune_with_parameters pid=1969427)\u001b[0m loss: 0.303\u001b[32m [repeated 22x across cluster]\u001b[0m\n"
     ]
    },
    {
     "name": "stderr",
     "output_type": "stream",
     "text": [
      "Val Epoch:25: 0it [00:00, ?it/s]\u001b[32m [repeated 2x across cluster]\u001b[0m\n",
      "Val Epoch:29: 47it [00:01, 35.01it/s]\u001b[32m [repeated 19x across cluster]\u001b[0m\n"
     ]
    },
    {
     "name": "stdout",
     "output_type": "stream",
     "text": [
      "\u001b[36m(tune_with_parameters pid=1969427)\u001b[0m /tmp/tmpza4kdjgu/checkpoint.pt\n",
      "\u001b[36m(tune_with_parameters pid=1995743)\u001b[0m loss: 0.000\u001b[32m [repeated 22x across cluster]\u001b[0m\n"
     ]
    },
    {
     "name": "stderr",
     "output_type": "stream",
     "text": [
      "\u001b[36m(tune_with_parameters pid=1969427)\u001b[0m Checkpoint successfully created at: Checkpoint(filesystem=local, path=/scratch/users/k23058970/Model training/results/Single Peak LRCN Null/tune_with_parameters_2024-08-19_13-29-31/tune_with_parameters_c1630_00002_2_dp=0.2000,k1=1,k2=1,k3=1,k4=5,lr=0.0031_2024-08-19_13-30-01/checkpoint_000022)\n"
     ]
    },
    {
     "name": "stdout",
     "output_type": "stream",
     "text": [
      "\u001b[36m(tune_with_parameters pid=1969427)\u001b[0m loss: 0.244\u001b[32m [repeated 27x across cluster]\u001b[0m\n"
     ]
    },
    {
     "name": "stderr",
     "output_type": "stream",
     "text": [
      "Val Epoch:26: 0it [00:00, ?it/s]995743)\u001b[0m \n",
      "Val Epoch:25: 47it [00:00, 54.69it/s]\u001b[32m [repeated 8x across cluster]\u001b[0m\n",
      "Val Epoch:30: 0it [00:00, ?it/s]969427)\u001b[0m \n",
      "Val Epoch:30: 47it [00:02, 17.93it/s]7)\u001b[0m \n"
     ]
    },
    {
     "name": "stdout",
     "output_type": "stream",
     "text": [
      "\u001b[36m(tune_with_parameters pid=1969427)\u001b[0m /tmp/tmpyv8sq5qf/checkpoint.pt\n"
     ]
    },
    {
     "name": "stderr",
     "output_type": "stream",
     "text": [
      "\u001b[36m(tune_with_parameters pid=1969427)\u001b[0m Checkpoint successfully created at: Checkpoint(filesystem=local, path=/scratch/users/k23058970/Model training/results/Single Peak LRCN Null/tune_with_parameters_2024-08-19_13-29-31/tune_with_parameters_c1630_00002_2_dp=0.2000,k1=1,k2=1,k3=1,k4=5,lr=0.0031_2024-08-19_13-30-01/checkpoint_000023)\n",
      "Val Epoch:30: 37it [00:02, 32.71it/s]\u001b[32m [repeated 18x across cluster]\u001b[0m\n"
     ]
    },
    {
     "name": "stdout",
     "output_type": "stream",
     "text": [
      "\u001b[36m(tune_with_parameters pid=1995743)\u001b[0m loss: 0.001\u001b[32m [repeated 14x across cluster]\u001b[0m\n"
     ]
    },
    {
     "name": "stderr",
     "output_type": "stream",
     "text": [
      "Val Epoch:27: 0it [00:00, ?it/s]995743)\u001b[0m \n"
     ]
    },
    {
     "name": "stdout",
     "output_type": "stream",
     "text": [
      "\u001b[36m(tune_with_parameters pid=1969427)\u001b[0m loss: 0.205\u001b[32m [repeated 19x across cluster]\u001b[0m\n"
     ]
    },
    {
     "name": "stderr",
     "output_type": "stream",
     "text": [
      "Val Epoch:31: 0it [00:00, ?it/s]969427)\u001b[0m \n",
      "Val Epoch:27: 47it [00:01, 34.97it/s]\u001b[32m [repeated 9x across cluster]\u001b[0m\n",
      "Val Epoch:28: 47it [00:00, 48.94it/s]3)\u001b[0m \n"
     ]
    },
    {
     "name": "stdout",
     "output_type": "stream",
     "text": [
      "\u001b[36m(tune_with_parameters pid=1995743)\u001b[0m loss: 0.000\u001b[32m [repeated 16x across cluster]\u001b[0m\n",
      "\u001b[36m(tune_with_parameters pid=1969427)\u001b[0m /tmp/tmp3kj799k1/checkpoint.pt\n"
     ]
    },
    {
     "name": "stderr",
     "output_type": "stream",
     "text": [
      "\u001b[36m(tune_with_parameters pid=1969427)\u001b[0m Checkpoint successfully created at: Checkpoint(filesystem=local, path=/scratch/users/k23058970/Model training/results/Single Peak LRCN Null/tune_with_parameters_2024-08-19_13-29-31/tune_with_parameters_c1630_00002_2_dp=0.2000,k1=1,k2=1,k3=1,k4=5,lr=0.0031_2024-08-19_13-30-01/checkpoint_000024)\n",
      "Val Epoch:29: 0it [00:00, ?it/s]\u001b[32m [repeated 2x across cluster]\u001b[0m\n",
      "Val Epoch:28: 40it [00:00, 56.61it/s]\u001b[32m [repeated 18x across cluster]\u001b[0m\n"
     ]
    },
    {
     "name": "stdout",
     "output_type": "stream",
     "text": [
      "\u001b[36m(tune_with_parameters pid=1969427)\u001b[0m loss: 0.161\u001b[32m [repeated 26x across cluster]\u001b[0m\n",
      "\u001b[36m(tune_with_parameters pid=1969427)\u001b[0m /tmp/tmp9297pkto/checkpoint.pt\n"
     ]
    },
    {
     "name": "stderr",
     "output_type": "stream",
     "text": [
      "Val Epoch:30: 0it [00:00, ?it/s]\u001b[32m [repeated 2x across cluster]\u001b[0m\n",
      "Val Epoch:32: 47it [00:01, 33.88it/s]\u001b[32m [repeated 19x across cluster]\u001b[0m\n",
      "\u001b[36m(tune_with_parameters pid=1969427)\u001b[0m Checkpoint successfully created at: Checkpoint(filesystem=local, path=/scratch/users/k23058970/Model training/results/Single Peak LRCN Null/tune_with_parameters_2024-08-19_13-29-31/tune_with_parameters_c1630_00002_2_dp=0.2000,k1=1,k2=1,k3=1,k4=5,lr=0.0031_2024-08-19_13-30-01/checkpoint_000025)\n"
     ]
    },
    {
     "name": "stdout",
     "output_type": "stream",
     "text": [
      "\u001b[36m(tune_with_parameters pid=1969427)\u001b[0m loss: 0.176\u001b[32m [repeated 19x across cluster]\u001b[0m\n"
     ]
    },
    {
     "name": "stderr",
     "output_type": "stream",
     "text": [
      "Val Epoch:33: 0it [00:00, ?it/s]969427)\u001b[0m \n",
      "Val Epoch:30: 47it [00:01, 27.76it/s]\u001b[32m [repeated 11x across cluster]\u001b[0m\n",
      "Val Epoch:31: 0it [00:00, ?it/s]995743)\u001b[0m \n"
     ]
    },
    {
     "name": "stdout",
     "output_type": "stream",
     "text": [
      "\u001b[36m(tune_with_parameters pid=1995743)\u001b[0m loss: 0.000\u001b[32m [repeated 30x across cluster]\u001b[0m\n",
      "\u001b[36m(tune_with_parameters pid=1969427)\u001b[0m /tmp/tmpht2asygk/checkpoint.pt\n"
     ]
    },
    {
     "name": "stderr",
     "output_type": "stream",
     "text": [
      "\u001b[36m(tune_with_parameters pid=1969427)\u001b[0m Checkpoint successfully created at: Checkpoint(filesystem=local, path=/scratch/users/k23058970/Model training/results/Single Peak LRCN Null/tune_with_parameters_2024-08-19_13-29-31/tune_with_parameters_c1630_00002_2_dp=0.2000,k1=1,k2=1,k3=1,k4=5,lr=0.0031_2024-08-19_13-30-01/checkpoint_000026)\n",
      "Val Epoch:32: 0it [00:00, ?it/s]995743)\u001b[0m \n",
      "Val Epoch:33: 47it [00:01, 36.81it/s]\u001b[32m [repeated 19x across cluster]\u001b[0m\n"
     ]
    },
    {
     "name": "stdout",
     "output_type": "stream",
     "text": [
      "\u001b[36m(tune_with_parameters pid=1969427)\u001b[0m loss: 0.109\u001b[32m [repeated 21x across cluster]\u001b[0m\n"
     ]
    },
    {
     "name": "stderr",
     "output_type": "stream",
     "text": [
      "Val Epoch:34: 0it [00:00, ?it/s]969427)\u001b[0m \n",
      "Val Epoch:34: 14it [00:00, 23.56it/s]\u001b[32m [repeated 13x across cluster]\u001b[0m\n"
     ]
    },
    {
     "name": "stdout",
     "output_type": "stream",
     "text": [
      "\u001b[36m(tune_with_parameters pid=1995743)\u001b[0m loss: 0.000\u001b[32m [repeated 24x across cluster]\u001b[0m\n",
      "\u001b[36m(tune_with_parameters pid=1969427)\u001b[0m /tmp/tmpapt5o0v5/checkpoint.pt\n"
     ]
    },
    {
     "name": "stderr",
     "output_type": "stream",
     "text": [
      "\u001b[36m(tune_with_parameters pid=1969427)\u001b[0m Checkpoint successfully created at: Checkpoint(filesystem=local, path=/scratch/users/k23058970/Model training/results/Single Peak LRCN Null/tune_with_parameters_2024-08-19_13-29-31/tune_with_parameters_c1630_00002_2_dp=0.2000,k1=1,k2=1,k3=1,k4=5,lr=0.0031_2024-08-19_13-30-01/checkpoint_000027)\n",
      "Val Epoch:34: 0it [00:00, ?it/s]\u001b[32m [repeated 2x across cluster]\u001b[0m\n",
      "Val Epoch:33: 47it [00:01, 42.06it/s]\u001b[32m [repeated 14x across cluster]\u001b[0m\n"
     ]
    },
    {
     "name": "stdout",
     "output_type": "stream",
     "text": [
      "\u001b[36m(tune_with_parameters pid=1969427)\u001b[0m loss: 0.091\u001b[32m [repeated 25x across cluster]\u001b[0m\n",
      "\u001b[36m(tune_with_parameters pid=1969427)\u001b[0m /tmp/tmp2eeftq3w/checkpoint.pt\n",
      "\u001b[36m(tune_with_parameters pid=1995743)\u001b[0m loss: 0.000\u001b[32m [repeated 19x across cluster]\u001b[0m\n"
     ]
    },
    {
     "name": "stderr",
     "output_type": "stream",
     "text": [
      "Val Epoch:35: 0it [00:00, ?it/s]\u001b[32m [repeated 2x across cluster]\u001b[0m\n",
      "Val Epoch:35: 47it [00:01, 29.57it/s]\u001b[32m [repeated 19x across cluster]\u001b[0m\n",
      "\u001b[36m(tune_with_parameters pid=1969427)\u001b[0m Checkpoint successfully created at: Checkpoint(filesystem=local, path=/scratch/users/k23058970/Model training/results/Single Peak LRCN Null/tune_with_parameters_2024-08-19_13-29-31/tune_with_parameters_c1630_00002_2_dp=0.2000,k1=1,k2=1,k3=1,k4=5,lr=0.0031_2024-08-19_13-30-01/checkpoint_000028)\n"
     ]
    },
    {
     "name": "stdout",
     "output_type": "stream",
     "text": [
      "\u001b[36m(tune_with_parameters pid=1969427)\u001b[0m loss: 0.070\u001b[32m [repeated 19x across cluster]\u001b[0m\n"
     ]
    },
    {
     "name": "stderr",
     "output_type": "stream",
     "text": [
      "Val Epoch:36: 0it [00:00, ?it/s]995743)\u001b[0m \n",
      "Val Epoch:35: 47it [00:01, 24.01it/s]\u001b[32m [repeated 9x across cluster]\u001b[0m\n",
      "Val Epoch:36: 0it [00:00, ?it/s]969427)\u001b[0m \n",
      "Val Epoch:36: 47it [00:02, 21.27it/s]7)\u001b[0m \n"
     ]
    },
    {
     "name": "stdout",
     "output_type": "stream",
     "text": [
      "\u001b[36m(tune_with_parameters pid=1995743)\u001b[0m loss: 0.000\u001b[32m [repeated 16x across cluster]\u001b[0m\n",
      "\u001b[36m(tune_with_parameters pid=1969427)\u001b[0m /tmp/tmppz9vnda2/checkpoint.pt\n"
     ]
    },
    {
     "name": "stderr",
     "output_type": "stream",
     "text": [
      "\u001b[36m(tune_with_parameters pid=1969427)\u001b[0m Checkpoint successfully created at: Checkpoint(filesystem=local, path=/scratch/users/k23058970/Model training/results/Single Peak LRCN Null/tune_with_parameters_2024-08-19_13-29-31/tune_with_parameters_c1630_00002_2_dp=0.2000,k1=1,k2=1,k3=1,k4=5,lr=0.0031_2024-08-19_13-30-01/checkpoint_000029)\n",
      "Val Epoch:36: 41it [00:02, 18.73it/s]\u001b[32m [repeated 20x across cluster]\u001b[0m\n",
      "Val Epoch:37: 0it [00:00, ?it/s]995743)\u001b[0m \n"
     ]
    },
    {
     "name": "stdout",
     "output_type": "stream",
     "text": [
      "\u001b[36m(tune_with_parameters pid=1969427)\u001b[0m loss: 0.065\u001b[32m [repeated 21x across cluster]\u001b[0m\n",
      "\u001b[36m(tune_with_parameters pid=1969427)\u001b[0m \n"
     ]
    },
    {
     "name": "stderr",
     "output_type": "stream",
     "text": [
      "Val Epoch:37: 0it [00:00, ?it/s]969427)\u001b[0m \n",
      "Val Epoch:37: 29it [00:00, 40.16it/s]\u001b[32m [repeated 17x across cluster]\u001b[0m\n",
      "Val Epoch:37: 47it [00:01, 36.28it/s]7)\u001b[0m \n"
     ]
    },
    {
     "name": "stdout",
     "output_type": "stream",
     "text": [
      "\u001b[36m(tune_with_parameters pid=1969427)\u001b[0m /tmp/tmp7jto7dv6/checkpoint.pt\n"
     ]
    },
    {
     "name": "stderr",
     "output_type": "stream",
     "text": [
      "\u001b[36m(tune_with_parameters pid=1969427)\u001b[0m Checkpoint successfully created at: Checkpoint(filesystem=local, path=/scratch/users/k23058970/Model training/results/Single Peak LRCN Null/tune_with_parameters_2024-08-19_13-29-31/tune_with_parameters_c1630_00002_2_dp=0.2000,k1=1,k2=1,k3=1,k4=5,lr=0.0031_2024-08-19_13-30-01/checkpoint_000030)\n"
     ]
    },
    {
     "name": "stdout",
     "output_type": "stream",
     "text": [
      "\u001b[36m(tune_with_parameters pid=1969427)\u001b[0m loss: 0.055\u001b[32m [repeated 20x across cluster]\u001b[0m\n"
     ]
    },
    {
     "name": "stderr",
     "output_type": "stream",
     "text": [
      "Val Epoch:39: 0it [00:00, ?it/s]\u001b[32m [repeated 2x across cluster]\u001b[0m\n",
      "Val Epoch:38: 47it [00:01, 39.90it/s]\u001b[32m [repeated 11x across cluster]\u001b[0m\n"
     ]
    },
    {
     "name": "stdout",
     "output_type": "stream",
     "text": [
      "\u001b[36m(tune_with_parameters pid=1995743)\u001b[0m loss: 0.000\u001b[32m [repeated 30x across cluster]\u001b[0m\n",
      "\u001b[36m(tune_with_parameters pid=1969427)\u001b[0m /tmp/tmpan7ds5ap/checkpoint.pt\n"
     ]
    },
    {
     "name": "stderr",
     "output_type": "stream",
     "text": [
      "\u001b[36m(tune_with_parameters pid=1969427)\u001b[0m Checkpoint successfully created at: Checkpoint(filesystem=local, path=/scratch/users/k23058970/Model training/results/Single Peak LRCN Null/tune_with_parameters_2024-08-19_13-29-31/tune_with_parameters_c1630_00002_2_dp=0.2000,k1=1,k2=1,k3=1,k4=5,lr=0.0031_2024-08-19_13-30-01/checkpoint_000031)\n",
      "Val Epoch:40: 0it [00:00, ?it/s]\u001b[32m [repeated 2x across cluster]\u001b[0m\n",
      "Val Epoch:38: 47it [00:02, 23.26it/s]\u001b[32m [repeated 21x across cluster]\u001b[0m\n"
     ]
    },
    {
     "name": "stdout",
     "output_type": "stream",
     "text": [
      "\u001b[36m(tune_with_parameters pid=1969427)\u001b[0m loss: 0.042\u001b[32m [repeated 18x across cluster]\u001b[0m\n"
     ]
    },
    {
     "name": "stderr",
     "output_type": "stream",
     "text": [
      "Val Epoch:40: 47it [00:01, 30.89it/s]3)\u001b[0m \n",
      "Val Epoch:39: 0it [00:00, ?it/s]969427)\u001b[0m \n",
      "Val Epoch:40: 39it [00:01, 45.82it/s]\u001b[32m [repeated 8x across cluster]\u001b[0m\n"
     ]
    },
    {
     "name": "stdout",
     "output_type": "stream",
     "text": [
      "\u001b[36m(tune_with_parameters pid=1995743)\u001b[0m loss: 0.000\u001b[32m [repeated 25x across cluster]\u001b[0m\n"
     ]
    },
    {
     "name": "stderr",
     "output_type": "stream",
     "text": [
      "Val Epoch:41: 0it [00:00, ?it/s]995743)\u001b[0m \n"
     ]
    },
    {
     "name": "stdout",
     "output_type": "stream",
     "text": [
      "\u001b[36m(tune_with_parameters pid=1969427)\u001b[0m loss: 0.041\u001b[32m [repeated 19x across cluster]\u001b[0m\n"
     ]
    },
    {
     "name": "stderr",
     "output_type": "stream",
     "text": [
      "Val Epoch:41: 47it [00:01, 27.64it/s]\u001b[32m [repeated 20x across cluster]\u001b[0m\n",
      "Val Epoch:40: 0it [00:00, ?it/s]969427)\u001b[0m \n",
      "Val Epoch:42: 0it [00:00, ?it/s]995743)\u001b[0m \n"
     ]
    },
    {
     "name": "stdout",
     "output_type": "stream",
     "text": [
      "\u001b[36m(tune_with_parameters pid=1995743)\u001b[0m loss: 0.001\u001b[32m [repeated 16x across cluster]\u001b[0m\n",
      "\u001b[36m(tune_with_parameters pid=1969427)\u001b[0m /tmp/tmpkw2ue7qt/checkpoint.pt\n"
     ]
    },
    {
     "name": "stderr",
     "output_type": "stream",
     "text": [
      "\u001b[36m(tune_with_parameters pid=1969427)\u001b[0m Checkpoint successfully created at: Checkpoint(filesystem=local, path=/scratch/users/k23058970/Model training/results/Single Peak LRCN Null/tune_with_parameters_2024-08-19_13-29-31/tune_with_parameters_c1630_00002_2_dp=0.2000,k1=1,k2=1,k3=1,k4=5,lr=0.0031_2024-08-19_13-30-01/checkpoint_000032)\n",
      "Val Epoch:43: 0it [00:00, ?it/s]995743)\u001b[0m \n",
      "Val Epoch:42: 47it [00:01, 44.81it/s]\u001b[32m [repeated 19x across cluster]\u001b[0m\n"
     ]
    },
    {
     "name": "stdout",
     "output_type": "stream",
     "text": [
      "\u001b[36m(tune_with_parameters pid=1969427)\u001b[0m loss: 0.041\u001b[32m [repeated 22x across cluster]\u001b[0m\n"
     ]
    },
    {
     "name": "stderr",
     "output_type": "stream",
     "text": [
      "Val Epoch:43: 47it [00:01, 35.80it/s]3)\u001b[0m \n",
      "Val Epoch:41: 0it [00:00, ?it/s]969427)\u001b[0m \n",
      "Val Epoch:41: 47it [00:01, 27.51it/s]\u001b[32m [repeated 18x across cluster]\u001b[0m\n"
     ]
    },
    {
     "name": "stdout",
     "output_type": "stream",
     "text": [
      "\u001b[36m(tune_with_parameters pid=1969427)\u001b[0m loss: 0.033\u001b[32m [repeated 23x across cluster]\u001b[0m\n"
     ]
    },
    {
     "name": "stderr",
     "output_type": "stream",
     "text": [
      "Val Epoch:42: 0it [00:00, ?it/s]\u001b[32m [repeated 2x across cluster]\u001b[0m\n",
      "Val Epoch:42: 1it [00:00,  1.63it/s]\u001b[32m [repeated 10x across cluster]\u001b[0m\n"
     ]
    },
    {
     "name": "stdout",
     "output_type": "stream",
     "text": [
      "\u001b[36m(tune_with_parameters pid=1995743)\u001b[0m loss: 0.000\u001b[32m [repeated 22x across cluster]\u001b[0m\n"
     ]
    },
    {
     "name": "stderr",
     "output_type": "stream",
     "text": [
      "Val Epoch:42: 47it [00:01, 30.53it/s]7)\u001b[0m \n"
     ]
    },
    {
     "name": "stdout",
     "output_type": "stream",
     "text": [
      "\u001b[36m(tune_with_parameters pid=1969427)\u001b[0m /tmp/tmp42mno928/checkpoint.pt\n"
     ]
    },
    {
     "name": "stderr",
     "output_type": "stream",
     "text": [
      "\u001b[36m(tune_with_parameters pid=1969427)\u001b[0m Checkpoint successfully created at: Checkpoint(filesystem=local, path=/scratch/users/k23058970/Model training/results/Single Peak LRCN Null/tune_with_parameters_2024-08-19_13-29-31/tune_with_parameters_c1630_00002_2_dp=0.2000,k1=1,k2=1,k3=1,k4=5,lr=0.0031_2024-08-19_13-30-01/checkpoint_000033)\n"
     ]
    },
    {
     "name": "stdout",
     "output_type": "stream",
     "text": [
      "\u001b[36m(tune_with_parameters pid=1969427)\u001b[0m loss: 0.034\u001b[32m [repeated 11x across cluster]\u001b[0m\n"
     ]
    },
    {
     "name": "stderr",
     "output_type": "stream",
     "text": [
      "Val Epoch:46: 0it [00:00, ?it/s]\u001b[32m [repeated 2x across cluster]\u001b[0m\n",
      "Val Epoch:45: 36it [00:01, 35.72it/s]\u001b[32m [repeated 12x across cluster]\u001b[0m\n",
      "Val Epoch:45: 47it [00:01, 38.23it/s]\u001b[32m [repeated 2x across cluster]\u001b[0m\n"
     ]
    },
    {
     "name": "stdout",
     "output_type": "stream",
     "text": [
      "\u001b[36m(tune_with_parameters pid=1995743)\u001b[0m loss: 0.000\u001b[32m [repeated 25x across cluster]\u001b[0m\n"
     ]
    },
    {
     "name": "stderr",
     "output_type": "stream",
     "text": [
      "Val Epoch:47: 0it [00:00, ?it/s]\u001b[32m [repeated 2x across cluster]\u001b[0m\n",
      "Val Epoch:43: 47it [00:01, 42.22it/s]\u001b[32m [repeated 19x across cluster]\u001b[0m\n"
     ]
    },
    {
     "name": "stdout",
     "output_type": "stream",
     "text": [
      "\u001b[36m(tune_with_parameters pid=1969427)\u001b[0m loss: 0.027\u001b[32m [repeated 23x across cluster]\u001b[0m\n"
     ]
    },
    {
     "name": "stderr",
     "output_type": "stream",
     "text": [
      "Val Epoch:44: 47it [00:01, 36.14it/s]7)\u001b[0m \n"
     ]
    },
    {
     "name": "stdout",
     "output_type": "stream",
     "text": [
      "\u001b[36m(tune_with_parameters pid=1995743)\u001b[0m loss: 0.000\u001b[32m [repeated 23x across cluster]\u001b[0m\n"
     ]
    },
    {
     "name": "stderr",
     "output_type": "stream",
     "text": [
      "Val Epoch:48: 0it [00:00, ?it/s]\u001b[32m [repeated 2x across cluster]\u001b[0m\n",
      "Val Epoch:44: 38it [00:01, 40.84it/s]\u001b[32m [repeated 17x across cluster]\u001b[0m\n"
     ]
    },
    {
     "name": "stdout",
     "output_type": "stream",
     "text": [
      "\u001b[36m(tune_with_parameters pid=1995743)\u001b[0m loss: 0.000\u001b[32m [repeated 23x across cluster]\u001b[0m\n"
     ]
    },
    {
     "name": "stderr",
     "output_type": "stream",
     "text": [
      "Val Epoch:45: 0it [00:00, ?it/s]969427)\u001b[0m \n",
      "Val Epoch:45: 26it [00:00, 42.50it/s]\u001b[32m [repeated 15x across cluster]\u001b[0m\n",
      "Val Epoch:49: 0it [00:00, ?it/s]995743)\u001b[0m \n"
     ]
    },
    {
     "name": "stdout",
     "output_type": "stream",
     "text": [
      "\u001b[36m(tune_with_parameters pid=1995743)\u001b[0m loss: 0.000\u001b[32m [repeated 17x across cluster]\u001b[0m\n"
     ]
    },
    {
     "name": "stderr",
     "output_type": "stream",
     "text": [
      "Val Epoch:49: 47it [00:01, 26.78it/s]\u001b[32m [repeated 14x across cluster]\u001b[0m\n",
      "Val Epoch:46: 0it [00:00, ?it/s]969427)\u001b[0m \n",
      "Val Epoch:50: 0it [00:00, ?it/s]995743)\u001b[0m \n",
      "Val Epoch:50: 47it [00:00, 53.80it/s]3)\u001b[0m \n"
     ]
    },
    {
     "name": "stdout",
     "output_type": "stream",
     "text": [
      "\u001b[36m(tune_with_parameters pid=1995743)\u001b[0m loss: 0.001\u001b[32m [repeated 18x across cluster]\u001b[0m\n",
      "\u001b[36m(tune_with_parameters pid=1969427)\u001b[0m /tmp/tmpvk4sgzjl/checkpoint.pt\n"
     ]
    },
    {
     "name": "stderr",
     "output_type": "stream",
     "text": [
      "\u001b[36m(tune_with_parameters pid=1969427)\u001b[0m Checkpoint successfully created at: Checkpoint(filesystem=local, path=/scratch/users/k23058970/Model training/results/Single Peak LRCN Null/tune_with_parameters_2024-08-19_13-29-31/tune_with_parameters_c1630_00002_2_dp=0.2000,k1=1,k2=1,k3=1,k4=5,lr=0.0031_2024-08-19_13-30-01/checkpoint_000034)\n",
      "Val Epoch:51: 0it [00:00, ?it/s]995743)\u001b[0m \n",
      "Val Epoch:50: 36it [00:00, 54.78it/s]\u001b[32m [repeated 15x across cluster]\u001b[0m\n"
     ]
    },
    {
     "name": "stdout",
     "output_type": "stream",
     "text": [
      "\u001b[36m(tune_with_parameters pid=1969427)\u001b[0m loss: 0.022\u001b[32m [repeated 24x across cluster]\u001b[0m\n"
     ]
    },
    {
     "name": "stderr",
     "output_type": "stream",
     "text": [
      "Val Epoch:47: 0it [00:00, ?it/s]969427)\u001b[0m \n"
     ]
    },
    {
     "name": "stdout",
     "output_type": "stream",
     "text": [
      "\u001b[36m(tune_with_parameters pid=1995743)\u001b[0m loss: 0.000\u001b[32m [repeated 21x across cluster]\u001b[0m\n"
     ]
    },
    {
     "name": "stderr",
     "output_type": "stream",
     "text": [
      "Val Epoch:47: 47it [00:01, 40.35it/s]\u001b[32m [repeated 19x across cluster]\u001b[0m\n",
      "Val Epoch:52: 0it [00:00, ?it/s]995743)\u001b[0m \n",
      "Val Epoch:48: 0it [00:00, ?it/s]969427)\u001b[0m \n"
     ]
    },
    {
     "name": "stdout",
     "output_type": "stream",
     "text": [
      "\u001b[36m(tune_with_parameters pid=1995743)\u001b[0m loss: 0.000\u001b[32m [repeated 20x across cluster]\u001b[0m\n"
     ]
    },
    {
     "name": "stderr",
     "output_type": "stream",
     "text": [
      "Val Epoch:48: 47it [00:01, 35.33it/s]\u001b[32m [repeated 18x across cluster]\u001b[0m\n"
     ]
    },
    {
     "name": "stdout",
     "output_type": "stream",
     "text": [
      "\u001b[36m(tune_with_parameters pid=1995743)\u001b[0m loss: 0.000\u001b[32m [repeated 21x across cluster]\u001b[0m\n"
     ]
    },
    {
     "name": "stderr",
     "output_type": "stream",
     "text": [
      "Val Epoch:49: 0it [00:00, ?it/s]\u001b[32m [repeated 2x across cluster]\u001b[0m\n",
      "Val Epoch:49: 27it [00:01, 37.05it/s]\u001b[32m [repeated 17x across cluster]\u001b[0m\n",
      "Val Epoch:49: 47it [00:01, 32.78it/s]7)\u001b[0m \n"
     ]
    },
    {
     "name": "stdout",
     "output_type": "stream",
     "text": [
      "\u001b[36m(tune_with_parameters pid=1969427)\u001b[0m loss: 0.018\u001b[32m [repeated 22x across cluster]\u001b[0m\n"
     ]
    },
    {
     "name": "stderr",
     "output_type": "stream",
     "text": [
      "Val Epoch:50: 0it [00:00, ?it/s]\u001b[32m [repeated 2x across cluster]\u001b[0m\n",
      "Val Epoch:54: 47it [00:01, 37.17it/s]\u001b[32m [repeated 11x across cluster]\u001b[0m\n"
     ]
    },
    {
     "name": "stdout",
     "output_type": "stream",
     "text": [
      "\u001b[36m(tune_with_parameters pid=1995743)\u001b[0m loss: 0.000\u001b[32m [repeated 24x across cluster]\u001b[0m\n",
      "\u001b[36m(tune_with_parameters pid=1969427)\u001b[0m /tmp/tmpg18ihhzk/checkpoint.pt\n"
     ]
    },
    {
     "name": "stderr",
     "output_type": "stream",
     "text": [
      "\u001b[36m(tune_with_parameters pid=1969427)\u001b[0m Checkpoint successfully created at: Checkpoint(filesystem=local, path=/scratch/users/k23058970/Model training/results/Single Peak LRCN Null/tune_with_parameters_2024-08-19_13-29-31/tune_with_parameters_c1630_00002_2_dp=0.2000,k1=1,k2=1,k3=1,k4=5,lr=0.0031_2024-08-19_13-30-01/checkpoint_000035)\n"
     ]
    },
    {
     "name": "stdout",
     "output_type": "stream",
     "text": [
      "\u001b[36m(tune_with_parameters pid=1969427)\u001b[0m loss: 0.017\u001b[32m [repeated 13x across cluster]\u001b[0m\n"
     ]
    },
    {
     "name": "stderr",
     "output_type": "stream",
     "text": [
      "Val Epoch:56: 0it [00:00, ?it/s]\u001b[32m [repeated 2x across cluster]\u001b[0m\n",
      "Val Epoch:55: 47it [00:01, 29.76it/s]\u001b[32m [repeated 18x across cluster]\u001b[0m\n"
     ]
    },
    {
     "name": "stdout",
     "output_type": "stream",
     "text": [
      "\u001b[36m(tune_with_parameters pid=1995743)\u001b[0m loss: 0.001\u001b[32m [repeated 23x across cluster]\u001b[0m\n"
     ]
    },
    {
     "name": "stderr",
     "output_type": "stream",
     "text": [
      "Val Epoch:57: 0it [00:00, ?it/s]\u001b[32m [repeated 2x across cluster]\u001b[0m\n",
      "Val Epoch:51: 47it [00:01, 32.09it/s]\u001b[32m [repeated 20x across cluster]\u001b[0m\n"
     ]
    },
    {
     "name": "stdout",
     "output_type": "stream",
     "text": [
      "\u001b[36m(tune_with_parameters pid=1969427)\u001b[0m loss: 0.014\u001b[32m [repeated 21x across cluster]\u001b[0m\n"
     ]
    },
    {
     "name": "stderr",
     "output_type": "stream",
     "text": [
      "Val Epoch:52: 0it [00:00, ?it/s]969427)\u001b[0m \n",
      "Val Epoch:52: 28it [00:01, 35.49it/s]\u001b[32m [repeated 16x across cluster]\u001b[0m\n",
      "Val Epoch:58: 0it [00:00, ?it/s]995743)\u001b[0m \n"
     ]
    },
    {
     "name": "stdout",
     "output_type": "stream",
     "text": [
      "\u001b[36m(tune_with_parameters pid=1969427)\u001b[0m loss: 0.012\u001b[32m [repeated 22x across cluster]\u001b[0m\n"
     ]
    },
    {
     "name": "stderr",
     "output_type": "stream",
     "text": [
      "Val Epoch:58: 47it [00:01, 40.78it/s]\u001b[32m [repeated 13x across cluster]\u001b[0m\n",
      "Val Epoch:53: 7it [00:00, 30.38it/s]27)\u001b[0m \n",
      "Val Epoch:53: 0it [00:00, ?it/s]969427)\u001b[0m \n"
     ]
    },
    {
     "name": "stdout",
     "output_type": "stream",
     "text": [
      "\u001b[36m(tune_with_parameters pid=1995743)\u001b[0m loss: 0.000\u001b[32m [repeated 26x across cluster]\u001b[0m\n"
     ]
    },
    {
     "name": "stderr",
     "output_type": "stream",
     "text": [
      "Val Epoch:53: 30it [00:00, 50.62it/s]7)\u001b[0m \n",
      "Val Epoch:59: 0it [00:00, ?it/s]995743)\u001b[0m \n"
     ]
    },
    {
     "name": "stdout",
     "output_type": "stream",
     "text": [
      "\u001b[36m(tune_with_parameters pid=1995743)\u001b[0m loss: 0.000\u001b[32m [repeated 18x across cluster]\u001b[0m\n"
     ]
    },
    {
     "name": "stderr",
     "output_type": "stream",
     "text": [
      "Val Epoch:60: 0it [00:00, ?it/s]995743)\u001b[0m \n",
      "Val Epoch:59: 47it [00:01, 26.50it/s]\u001b[32m [repeated 14x across cluster]\u001b[0m\n",
      "Val Epoch:54: 0it [00:00, ?it/s]969427)\u001b[0m \n"
     ]
    },
    {
     "name": "stdout",
     "output_type": "stream",
     "text": [
      "\u001b[36m(tune_with_parameters pid=1969427)\u001b[0m loss: 0.010\u001b[32m [repeated 17x across cluster]\u001b[0m\n"
     ]
    },
    {
     "name": "stderr",
     "output_type": "stream",
     "text": [
      "Val Epoch:54: 47it [00:01, 24.76it/s]\u001b[32m [repeated 20x across cluster]\u001b[0m\n",
      "Val Epoch:61: 0it [00:00, ?it/s]995743)\u001b[0m \n",
      "Val Epoch:55: 0it [00:00, ?it/s]969427)\u001b[0m \n"
     ]
    },
    {
     "name": "stdout",
     "output_type": "stream",
     "text": [
      "\u001b[36m(tune_with_parameters pid=1995743)\u001b[0m loss: 0.000\u001b[32m [repeated 28x across cluster]\u001b[0m\n"
     ]
    },
    {
     "name": "stderr",
     "output_type": "stream",
     "text": [
      "Val Epoch:55: 47it [00:01, 35.00it/s]\u001b[32m [repeated 20x across cluster]\u001b[0m\n",
      "Val Epoch:62: 0it [00:00, ?it/s]995743)\u001b[0m \n"
     ]
    },
    {
     "name": "stdout",
     "output_type": "stream",
     "text": [
      "\u001b[36m(tune_with_parameters pid=1969427)\u001b[0m loss: 0.011\u001b[32m [repeated 25x across cluster]\u001b[0m\n"
     ]
    },
    {
     "name": "stderr",
     "output_type": "stream",
     "text": [
      "Val Epoch:56: 0it [00:00, ?it/s]969427)\u001b[0m \n",
      "Val Epoch:56: 47it [00:01, 29.91it/s]\u001b[32m [repeated 20x across cluster]\u001b[0m\n"
     ]
    },
    {
     "name": "stdout",
     "output_type": "stream",
     "text": [
      "\u001b[36m(tune_with_parameters pid=1969427)\u001b[0m /tmp/tmpcqtz61fc/checkpoint.pt\n",
      "\u001b[36m(tune_with_parameters pid=1995743)\u001b[0m loss: 0.000\u001b[32m [repeated 19x across cluster]\u001b[0m\n"
     ]
    },
    {
     "name": "stderr",
     "output_type": "stream",
     "text": [
      "\u001b[36m(tune_with_parameters pid=1969427)\u001b[0m Checkpoint successfully created at: Checkpoint(filesystem=local, path=/scratch/users/k23058970/Model training/results/Single Peak LRCN Null/tune_with_parameters_2024-08-19_13-29-31/tune_with_parameters_c1630_00002_2_dp=0.2000,k1=1,k2=1,k3=1,k4=5,lr=0.0031_2024-08-19_13-30-01/checkpoint_000036)\n"
     ]
    },
    {
     "name": "stdout",
     "output_type": "stream",
     "text": [
      "\u001b[36m(tune_with_parameters pid=1969427)\u001b[0m loss: 0.010\u001b[32m [repeated 26x across cluster]\u001b[0m\n"
     ]
    },
    {
     "name": "stderr",
     "output_type": "stream",
     "text": [
      "Val Epoch:64: 0it [00:00, ?it/s]\u001b[32m [repeated 2x across cluster]\u001b[0m\n",
      "Val Epoch:63: 47it [00:01, 26.64it/s]\u001b[32m [repeated 9x across cluster]\u001b[0m\n"
     ]
    },
    {
     "name": "stdout",
     "output_type": "stream",
     "text": [
      "\u001b[36m(tune_with_parameters pid=1995743)\u001b[0m loss: 0.000\u001b[32m [repeated 10x across cluster]\u001b[0m\n"
     ]
    },
    {
     "name": "stderr",
     "output_type": "stream",
     "text": [
      "Val Epoch:65: 0it [00:00, ?it/s]\u001b[32m [repeated 2x across cluster]\u001b[0m\n",
      "Val Epoch:57: 47it [00:01, 25.84it/s]\u001b[32m [repeated 19x across cluster]\u001b[0m\n"
     ]
    },
    {
     "name": "stdout",
     "output_type": "stream",
     "text": [
      "\u001b[36m(tune_with_parameters pid=1995743)\u001b[0m loss: 0.000\u001b[32m [repeated 25x across cluster]\u001b[0m\n"
     ]
    },
    {
     "name": "stderr",
     "output_type": "stream",
     "text": [
      "Val Epoch:66: 0it [00:00, ?it/s]\u001b[32m [repeated 2x across cluster]\u001b[0m\n",
      "Val Epoch:58: 47it [00:01, 26.78it/s]\u001b[32m [repeated 19x across cluster]\u001b[0m\n"
     ]
    },
    {
     "name": "stdout",
     "output_type": "stream",
     "text": [
      "\u001b[36m(tune_with_parameters pid=1969427)\u001b[0m loss: 0.010\u001b[32m [repeated 28x across cluster]\u001b[0m\n",
      "\u001b[36m(tune_with_parameters pid=1995743)\u001b[0m loss: 0.000\u001b[32m [repeated 22x across cluster]\u001b[0m\n"
     ]
    },
    {
     "name": "stderr",
     "output_type": "stream",
     "text": [
      "Val Epoch:67: 0it [00:00, ?it/s]\u001b[32m [repeated 2x across cluster]\u001b[0m\n",
      "Val Epoch:59: 47it [00:01, 33.30it/s]\u001b[32m [repeated 20x across cluster]\u001b[0m\n"
     ]
    },
    {
     "name": "stdout",
     "output_type": "stream",
     "text": [
      "\u001b[36m(tune_with_parameters pid=1995743)\u001b[0m loss: 0.000\u001b[32m [repeated 19x across cluster]\u001b[0m\n"
     ]
    },
    {
     "name": "stderr",
     "output_type": "stream",
     "text": [
      "Val Epoch:68: 0it [00:00, ?it/s]\u001b[32m [repeated 2x across cluster]\u001b[0m\n",
      "Val Epoch:60: 47it [00:01, 32.43it/s]\u001b[32m [repeated 22x across cluster]\u001b[0m\n",
      "Val Epoch:68: 47it [00:01, 38.73it/s]3)\u001b[0m \n"
     ]
    },
    {
     "name": "stdout",
     "output_type": "stream",
     "text": [
      "\u001b[36m(tune_with_parameters pid=1969427)\u001b[0m loss: 0.008\u001b[32m [repeated 19x across cluster]\u001b[0m\n"
     ]
    },
    {
     "name": "stderr",
     "output_type": "stream",
     "text": [
      "Val Epoch:61: 0it [00:00, ?it/s]969427)\u001b[0m \n",
      "Val Epoch:61: 13it [00:00, 34.78it/s]\u001b[32m [repeated 10x across cluster]\u001b[0m\n",
      "Val Epoch:69: 0it [00:00, ?it/s]995743)\u001b[0m \n",
      "Val Epoch:61: 47it [00:01, 38.82it/s]7)\u001b[0m \n"
     ]
    },
    {
     "name": "stdout",
     "output_type": "stream",
     "text": [
      "\u001b[36m(tune_with_parameters pid=1969427)\u001b[0m loss: 0.008\u001b[32m [repeated 21x across cluster]\u001b[0m\n"
     ]
    },
    {
     "name": "stderr",
     "output_type": "stream",
     "text": [
      "Val Epoch:69: 47it [00:01, 29.14it/s]3)\u001b[0m \n",
      "Val Epoch:69: 40it [00:01, 44.40it/s]\u001b[32m [repeated 15x across cluster]\u001b[0m\n",
      "Val Epoch:62: 0it [00:00, ?it/s]969427)\u001b[0m \n",
      "Val Epoch:70: 0it [00:00, ?it/s]995743)\u001b[0m \n"
     ]
    },
    {
     "name": "stdout",
     "output_type": "stream",
     "text": [
      "\u001b[36m(tune_with_parameters pid=1995743)\u001b[0m loss: 0.000\u001b[32m [repeated 26x across cluster]\u001b[0m\n"
     ]
    },
    {
     "name": "stderr",
     "output_type": "stream",
     "text": [
      "Val Epoch:71: 0it [00:00, ?it/s]995743)\u001b[0m \n",
      "Val Epoch:70: 47it [00:01, 39.09it/s]\u001b[32m [repeated 18x across cluster]\u001b[0m\n"
     ]
    },
    {
     "name": "stdout",
     "output_type": "stream",
     "text": [
      "\u001b[36m(tune_with_parameters pid=1995743)\u001b[0m loss: 0.000\u001b[32m [repeated 15x across cluster]\u001b[0m\n"
     ]
    },
    {
     "name": "stderr",
     "output_type": "stream",
     "text": [
      "Val Epoch:72: 0it [00:00, ?it/s]995743)\u001b[0m \n",
      "Val Epoch:71: 47it [00:01, 41.44it/s]\u001b[32m [repeated 8x across cluster]\u001b[0m\n"
     ]
    },
    {
     "name": "stdout",
     "output_type": "stream",
     "text": [
      "\u001b[36m(tune_with_parameters pid=1995743)\u001b[0m loss: 0.000\u001b[32m [repeated 15x across cluster]\u001b[0m\n"
     ]
    },
    {
     "name": "stderr",
     "output_type": "stream",
     "text": [
      "\u001b[36m(tune_with_parameters pid=2084169)\u001b[0m /users/k23058970/miniforge3/envs/Training/lib/python3.10/site-packages/torch/nn/modules/lazy.py:181: UserWarning: Lazy modules are a new feature under heavy development so changes to the API or functionality can happen at any moment.\n",
      "\u001b[36m(tune_with_parameters pid=2084169)\u001b[0m   warnings.warn('Lazy modules are a new feature under heavy development '\n",
      "Val Epoch:73: 0it [00:00, ?it/s]995743)\u001b[0m \n",
      "Val Epoch:72: 47it [00:01, 32.52it/s]\u001b[32m [repeated 10x across cluster]\u001b[0m\n",
      "Val Epoch:73: 47it [00:01, 31.89it/s]3)\u001b[0m \n"
     ]
    },
    {
     "name": "stdout",
     "output_type": "stream",
     "text": [
      "\u001b[36m(tune_with_parameters pid=1995743)\u001b[0m loss: 0.000\u001b[32m [repeated 17x across cluster]\u001b[0m\n"
     ]
    },
    {
     "name": "stderr",
     "output_type": "stream",
     "text": [
      "Val Epoch:74: 0it [00:00, ?it/s]995743)\u001b[0m \n",
      "Val Epoch:73: 38it [00:01, 43.04it/s]\u001b[32m [repeated 7x across cluster]\u001b[0m\n"
     ]
    },
    {
     "name": "stdout",
     "output_type": "stream",
     "text": [
      "\u001b[36m(tune_with_parameters pid=1995743)\u001b[0m loss: 0.000\u001b[32m [repeated 23x across cluster]\u001b[0m\n",
      "\u001b[36m(tune_with_parameters pid=1995743)\u001b[0m \n"
     ]
    },
    {
     "name": "stderr",
     "output_type": "stream",
     "text": [
      "Val Epoch:0: 0it [00:00, ?it/s]2084169)\u001b[0m \n",
      "Val Epoch:74: 47it [00:01, 43.97it/s]\u001b[32m [repeated 9x across cluster]\u001b[0m\n",
      "Val Epoch:75: 0it [00:00, ?it/s]995743)\u001b[0m \n"
     ]
    },
    {
     "name": "stdout",
     "output_type": "stream",
     "text": [
      "\u001b[36m(tune_with_parameters pid=1995743)\u001b[0m loss: 0.000\u001b[32m [repeated 20x across cluster]\u001b[0m\n",
      "\u001b[36m(tune_with_parameters pid=2084169)\u001b[0m /tmp/tmphx9vlpmc/checkpoint.pt\n"
     ]
    },
    {
     "name": "stderr",
     "output_type": "stream",
     "text": [
      "\u001b[36m(tune_with_parameters pid=2084169)\u001b[0m Checkpoint successfully created at: Checkpoint(filesystem=local, path=/scratch/users/k23058970/Model training/results/Single Peak LRCN Null/tune_with_parameters_2024-08-19_13-29-31/tune_with_parameters_c1630_00004_4_dp=0.2500,k1=1,k2=5,k3=1,k4=5,lr=0.0873_2024-08-19_13-30-01/checkpoint_000000)\n",
      "Val Epoch:76: 0it [00:00, ?it/s]995743)\u001b[0m \n",
      "Val Epoch:75: 47it [00:01, 29.27it/s]\u001b[32m [repeated 25x across cluster]\u001b[0m\n"
     ]
    },
    {
     "name": "stdout",
     "output_type": "stream",
     "text": [
      "\u001b[36m(tune_with_parameters pid=2084169)\u001b[0m loss: 0.011\u001b[32m [repeated 20x across cluster]\u001b[0m\n"
     ]
    },
    {
     "name": "stderr",
     "output_type": "stream",
     "text": [
      "Val Epoch:77: 0it [00:00, ?it/s]995743)\u001b[0m \n",
      "Val Epoch:76: 47it [00:01, 33.66it/s]\u001b[32m [repeated 9x across cluster]\u001b[0m\n"
     ]
    },
    {
     "name": "stdout",
     "output_type": "stream",
     "text": [
      "\u001b[36m(tune_with_parameters pid=2084169)\u001b[0m loss: 0.010\u001b[32m [repeated 22x across cluster]\u001b[0m\n"
     ]
    },
    {
     "name": "stderr",
     "output_type": "stream",
     "text": [
      "Val Epoch:1: 0it [00:00, ?it/s]2084169)\u001b[0m \n",
      "Val Epoch:1: 37it [00:02, 20.92it/s]\u001b[32m [repeated 21x across cluster]\u001b[0m\n",
      "Val Epoch:78: 0it [00:00, ?it/s]995743)\u001b[0m \n"
     ]
    },
    {
     "name": "stdout",
     "output_type": "stream",
     "text": [
      "\u001b[36m(tune_with_parameters pid=2084169)\u001b[0m /tmp/tmp2tefugdm/checkpoint.pt\n",
      "\u001b[36m(tune_with_parameters pid=1995743)\u001b[0m loss: 0.000\u001b[32m [repeated 17x across cluster]\u001b[0m\n"
     ]
    },
    {
     "name": "stderr",
     "output_type": "stream",
     "text": [
      "\u001b[36m(tune_with_parameters pid=2084169)\u001b[0m Checkpoint successfully created at: Checkpoint(filesystem=local, path=/scratch/users/k23058970/Model training/results/Single Peak LRCN Null/tune_with_parameters_2024-08-19_13-29-31/tune_with_parameters_c1630_00004_4_dp=0.2500,k1=1,k2=5,k3=1,k4=5,lr=0.0873_2024-08-19_13-30-01/checkpoint_000001)\n",
      "Val Epoch:79: 0it [00:00, ?it/s]995743)\u001b[0m \n",
      "Val Epoch:78: 47it [00:01, 24.82it/s]\u001b[32m [repeated 12x across cluster]\u001b[0m\n"
     ]
    },
    {
     "name": "stdout",
     "output_type": "stream",
     "text": [
      "\u001b[36m(tune_with_parameters pid=2084169)\u001b[0m loss: 0.001\u001b[32m [repeated 22x across cluster]\u001b[0m\n"
     ]
    },
    {
     "name": "stderr",
     "output_type": "stream",
     "text": [
      "Val Epoch:80: 0it [00:00, ?it/s]995743)\u001b[0m \n",
      "Val Epoch:79: 47it [00:01, 44.91it/s]\u001b[32m [repeated 8x across cluster]\u001b[0m\n"
     ]
    },
    {
     "name": "stdout",
     "output_type": "stream",
     "text": [
      "\u001b[36m(tune_with_parameters pid=2084169)\u001b[0m loss: 0.001\u001b[32m [repeated 22x across cluster]\u001b[0m\n",
      "\u001b[36m(tune_with_parameters pid=1995743)\u001b[0m loss: 0.000\u001b[32m [repeated 13x across cluster]\u001b[0m\n"
     ]
    },
    {
     "name": "stderr",
     "output_type": "stream",
     "text": [
      "Val Epoch:81: 0it [00:00, ?it/s]\u001b[32m [repeated 2x across cluster]\u001b[0m\n",
      "Val Epoch:2: 47it [00:02, 16.36it/s]\u001b[32m [repeated 24x across cluster]\u001b[0m\n"
     ]
    },
    {
     "name": "stdout",
     "output_type": "stream",
     "text": [
      "\u001b[36m(tune_with_parameters pid=1995743)\u001b[0m loss: 0.000\u001b[32m [repeated 16x across cluster]\u001b[0m\n"
     ]
    },
    {
     "name": "stderr",
     "output_type": "stream",
     "text": [
      "Val Epoch:82: 0it [00:00, ?it/s]995743)\u001b[0m \n",
      "Val Epoch:81: 47it [00:01, 32.87it/s]\u001b[32m [repeated 9x across cluster]\u001b[0m\n"
     ]
    },
    {
     "name": "stdout",
     "output_type": "stream",
     "text": [
      "\u001b[36m(tune_with_parameters pid=1995743)\u001b[0m loss: 0.000\u001b[32m [repeated 21x across cluster]\u001b[0m\n"
     ]
    },
    {
     "name": "stderr",
     "output_type": "stream",
     "text": [
      "Val Epoch:3: 0it [00:00, ?it/s]2084169)\u001b[0m \n",
      "Val Epoch:3: 27it [00:01, 27.82it/s]\u001b[32m [repeated 17x across cluster]\u001b[0m\n"
     ]
    },
    {
     "name": "stdout",
     "output_type": "stream",
     "text": [
      "\u001b[36m(tune_with_parameters pid=1995743)\u001b[0m loss: 0.000\u001b[32m [repeated 14x across cluster]\u001b[0m\n"
     ]
    },
    {
     "name": "stderr",
     "output_type": "stream",
     "text": [
      "Val Epoch:84: 0it [00:00, ?it/s]\u001b[32m [repeated 2x across cluster]\u001b[0m\n",
      "Val Epoch:83: 47it [00:01, 26.20it/s]\u001b[32m [repeated 17x across cluster]\u001b[0m\n"
     ]
    },
    {
     "name": "stdout",
     "output_type": "stream",
     "text": [
      "\u001b[36m(tune_with_parameters pid=1995743)\u001b[0m loss: 0.000\u001b[32m [repeated 22x across cluster]\u001b[0m\n"
     ]
    },
    {
     "name": "stderr",
     "output_type": "stream",
     "text": [
      "Val Epoch:85: 0it [00:00, ?it/s]995743)\u001b[0m \n",
      "Val Epoch:84: 47it [00:01, 27.82it/s]\u001b[32m [repeated 8x across cluster]\u001b[0m\n",
      "Val Epoch:4: 0it [00:00, ?it/s]2084169)\u001b[0m \n"
     ]
    },
    {
     "name": "stdout",
     "output_type": "stream",
     "text": [
      "\u001b[36m(tune_with_parameters pid=1995743)\u001b[0m loss: 0.000\u001b[32m [repeated 21x across cluster]\u001b[0m\n"
     ]
    },
    {
     "name": "stderr",
     "output_type": "stream",
     "text": [
      "Val Epoch:4: 47it [00:02, 17.46it/s]\u001b[32m [repeated 23x across cluster]\u001b[0m\n",
      "Val Epoch:86: 0it [00:00, ?it/s]995743)\u001b[0m \n"
     ]
    },
    {
     "name": "stdout",
     "output_type": "stream",
     "text": [
      "\u001b[36m(tune_with_parameters pid=2084169)\u001b[0m loss: 0.000\u001b[32m [repeated 20x across cluster]\u001b[0m\n"
     ]
    },
    {
     "name": "stderr",
     "output_type": "stream",
     "text": [
      "Val Epoch:87: 0it [00:00, ?it/s]995743)\u001b[0m \n",
      "Val Epoch:86: 47it [00:01, 37.98it/s]\u001b[32m [repeated 9x across cluster]\u001b[0m\n"
     ]
    },
    {
     "name": "stdout",
     "output_type": "stream",
     "text": [
      "\u001b[36m(tune_with_parameters pid=2084169)\u001b[0m loss: 0.000\u001b[32m [repeated 22x across cluster]\u001b[0m\n",
      "\u001b[36m(tune_with_parameters pid=1995743)\u001b[0m loss: 0.000\u001b[32m [repeated 15x across cluster]\u001b[0m\n"
     ]
    },
    {
     "name": "stderr",
     "output_type": "stream",
     "text": [
      "Val Epoch:88: 0it [00:00, ?it/s]\u001b[32m [repeated 2x across cluster]\u001b[0m\n",
      "Val Epoch:5: 47it [00:01, 24.10it/s]\u001b[32m [repeated 24x across cluster]\u001b[0m\n"
     ]
    },
    {
     "name": "stdout",
     "output_type": "stream",
     "text": [
      "\u001b[36m(tune_with_parameters pid=1995743)\u001b[0m loss: 0.000\u001b[32m [repeated 19x across cluster]\u001b[0m\n"
     ]
    },
    {
     "name": "stderr",
     "output_type": "stream",
     "text": [
      "Val Epoch:89: 0it [00:00, ?it/s]995743)\u001b[0m \n",
      "Val Epoch:88: 47it [00:01, 32.54it/s]\u001b[32m [repeated 9x across cluster]\u001b[0m\n"
     ]
    },
    {
     "name": "stdout",
     "output_type": "stream",
     "text": [
      "\u001b[36m(tune_with_parameters pid=1995743)\u001b[0m loss: 0.000\u001b[32m [repeated 18x across cluster]\u001b[0m\n"
     ]
    },
    {
     "name": "stderr",
     "output_type": "stream",
     "text": [
      "Val Epoch:6: 0it [00:00, ?it/s]2084169)\u001b[0m \n",
      "Val Epoch:6: 5it [00:00, 12.05it/s]\u001b[32m [repeated 11x across cluster]\u001b[0m\n"
     ]
    },
    {
     "name": "stdout",
     "output_type": "stream",
     "text": [
      "\u001b[36m(tune_with_parameters pid=1995743)\u001b[0m loss: 0.000\u001b[32m [repeated 12x across cluster]\u001b[0m\n"
     ]
    },
    {
     "name": "stderr",
     "output_type": "stream",
     "text": [
      "Val Epoch:91: 0it [00:00, ?it/s]\u001b[32m [repeated 2x across cluster]\u001b[0m\n",
      "Val Epoch:90: 47it [00:01, 30.31it/s]\u001b[32m [repeated 21x across cluster]\u001b[0m\n"
     ]
    },
    {
     "name": "stdout",
     "output_type": "stream",
     "text": [
      "\u001b[36m(tune_with_parameters pid=2084169)\u001b[0m loss: 0.000\u001b[32m [repeated 23x across cluster]\u001b[0m\n"
     ]
    },
    {
     "name": "stderr",
     "output_type": "stream",
     "text": [
      "Val Epoch:7: 0it [00:00, ?it/s]2084169)\u001b[0m \n",
      "Val Epoch:91: 47it [00:01, 45.86it/s]\u001b[32m [repeated 9x across cluster]\u001b[0m\n"
     ]
    },
    {
     "name": "stdout",
     "output_type": "stream",
     "text": [
      "\u001b[36m(tune_with_parameters pid=2084169)\u001b[0m loss: 0.000\u001b[32m [repeated 6x across cluster]\u001b[0m\n"
     ]
    },
    {
     "name": "stderr",
     "output_type": "stream",
     "text": [
      "\u001b[36m(tune_with_parameters pid=2098255)\u001b[0m /users/k23058970/miniforge3/envs/Training/lib/python3.10/site-packages/torch/nn/modules/lazy.py:181: UserWarning: Lazy modules are a new feature under heavy development so changes to the API or functionality can happen at any moment.\n",
      "\u001b[36m(tune_with_parameters pid=2098255)\u001b[0m   warnings.warn('Lazy modules are a new feature under heavy development '\n",
      "Val Epoch:7: 47it [00:01, 35.25it/s]\u001b[32m [repeated 12x across cluster]\u001b[0m\n"
     ]
    },
    {
     "name": "stdout",
     "output_type": "stream",
     "text": [
      "\u001b[36m(tune_with_parameters pid=2084169)\u001b[0m loss: 0.000\u001b[32m [repeated 8x across cluster]\u001b[0m\n"
     ]
    },
    {
     "name": "stderr",
     "output_type": "stream",
     "text": [
      "Val Epoch:8: 0it [00:00, ?it/s]2084169)\u001b[0m \n"
     ]
    },
    {
     "name": "stdout",
     "output_type": "stream",
     "text": [
      "\u001b[36m(tune_with_parameters pid=2098255)\u001b[0m loss: 1.099\u001b[32m [repeated 13x across cluster]\u001b[0m\n"
     ]
    },
    {
     "name": "stderr",
     "output_type": "stream",
     "text": [
      "Val Epoch:8: 1it [00:00,  3.98it/s]169)\u001b[0m \n",
      "Val Epoch:8: 4it [00:00, 13.03it/s]169)\u001b[0m \n",
      "Val Epoch:8: 7it [00:00, 18.11it/s]169)\u001b[0m \n",
      "Val Epoch:8: 10it [00:00, 20.56it/s]69)\u001b[0m \n",
      "Val Epoch:8: 13it [00:00, 21.59it/s]69)\u001b[0m \n",
      "Val Epoch:8: 16it [00:00, 23.72it/s]69)\u001b[0m \n",
      "Val Epoch:8: 19it [00:00, 24.68it/s]69)\u001b[0m \n",
      "Val Epoch:8: 22it [00:01, 25.05it/s]69)\u001b[0m \n",
      "Val Epoch:8: 25it [00:01, 25.06it/s]69)\u001b[0m \n",
      "Val Epoch:8: 28it [00:01, 25.73it/s]69)\u001b[0m \n",
      "Val Epoch:8: 31it [00:01, 26.00it/s]69)\u001b[0m \n",
      "Val Epoch:8: 34it [00:01, 26.94it/s]69)\u001b[0m \n",
      "Val Epoch:8: 38it [00:01, 27.86it/s]69)\u001b[0m \n",
      "Val Epoch:8: 41it [00:01, 27.46it/s]69)\u001b[0m \n",
      "Val Epoch:8: 44it [00:01, 27.86it/s]69)\u001b[0m \n",
      "Val Epoch:8: 47it [00:01, 23.73it/s]69)\u001b[0m \n",
      "Val Epoch:0: 0it [00:00, ?it/s]2098255)\u001b[0m \n",
      "Val Epoch:0: 2it [00:00, 17.11it/s]255)\u001b[0m \n",
      "Val Epoch:0: 8it [00:00, 38.85it/s]255)\u001b[0m \n",
      "Val Epoch:0: 12it [00:00, 36.25it/s]55)\u001b[0m \n",
      "Val Epoch:0: 16it [00:00, 37.29it/s]55)\u001b[0m \n"
     ]
    },
    {
     "name": "stdout",
     "output_type": "stream",
     "text": [
      "\u001b[36m(tune_with_parameters pid=2084169)\u001b[0m loss: 0.000\u001b[32m [repeated 12x across cluster]\u001b[0m\n"
     ]
    },
    {
     "name": "stderr",
     "output_type": "stream",
     "text": [
      "Val Epoch:0: 21it [00:00, 38.23it/s]55)\u001b[0m \n",
      "Val Epoch:0: 25it [00:00, 38.48it/s]55)\u001b[0m \n",
      "Val Epoch:0: 30it [00:00, 39.27it/s]55)\u001b[0m \n",
      "Val Epoch:0: 35it [00:00, 40.19it/s]55)\u001b[0m \n",
      "Val Epoch:0: 40it [00:01, 38.69it/s]55)\u001b[0m \n",
      "Val Epoch:0: 44it [00:01, 38.52it/s]55)\u001b[0m \n",
      "Val Epoch:0: 47it [00:01, 35.99it/s]55)\u001b[0m \n"
     ]
    },
    {
     "name": "stdout",
     "output_type": "stream",
     "text": [
      "\u001b[36m(tune_with_parameters pid=2098255)\u001b[0m /tmp/tmpudbki5sj/checkpoint.pt\n"
     ]
    },
    {
     "name": "stderr",
     "output_type": "stream",
     "text": [
      "\u001b[36m(tune_with_parameters pid=2098255)\u001b[0m Checkpoint successfully created at: Checkpoint(filesystem=local, path=/scratch/users/k23058970/Model training/results/Single Peak LRCN Null/tune_with_parameters_2024-08-19_13-29-31/tune_with_parameters_c1630_00005_5_dp=0.5000,k1=1,k2=1,k3=3,k4=5,lr=0.0126_2024-08-19_13-30-01/checkpoint_000000)\n"
     ]
    },
    {
     "name": "stdout",
     "output_type": "stream",
     "text": [
      "\u001b[36m(tune_with_parameters pid=2098255)\u001b[0m loss: 1.091\u001b[32m [repeated 13x across cluster]\u001b[0m\n"
     ]
    },
    {
     "name": "stderr",
     "output_type": "stream",
     "text": [
      "Val Epoch:9: 0it [00:00, ?it/s]2084169)\u001b[0m \n",
      "Val Epoch:9: 1it [00:00,  1.01it/s]169)\u001b[0m \n",
      "Val Epoch:9: 5it [00:01,  5.76it/s]169)\u001b[0m \n"
     ]
    },
    {
     "name": "stdout",
     "output_type": "stream",
     "text": [
      "\u001b[36m(tune_with_parameters pid=2098255)\u001b[0m /tmp/tmpbang446l/checkpoint.pt\n",
      "\u001b[36m(tune_with_parameters pid=2098255)\u001b[0m loss: 1.087\u001b[32m [repeated 13x across cluster]\u001b[0m\n"
     ]
    },
    {
     "name": "stderr",
     "output_type": "stream",
     "text": [
      "\u001b[36m(tune_with_parameters pid=2098255)\u001b[0m Checkpoint successfully created at: Checkpoint(filesystem=local, path=/scratch/users/k23058970/Model training/results/Single Peak LRCN Null/tune_with_parameters_2024-08-19_13-29-31/tune_with_parameters_c1630_00005_5_dp=0.5000,k1=1,k2=1,k3=3,k4=5,lr=0.0126_2024-08-19_13-30-01/checkpoint_000001)\n"
     ]
    },
    {
     "name": "stdout",
     "output_type": "stream",
     "text": [
      "\u001b[36m(tune_with_parameters pid=2098255)\u001b[0m loss: 1.061\u001b[32m [repeated 14x across cluster]\u001b[0m\n"
     ]
    },
    {
     "name": "stderr",
     "output_type": "stream",
     "text": [
      "Val Epoch:2: 0it [00:00, ?it/s]\u001b[32m [repeated 2x across cluster]\u001b[0m\n",
      "Val Epoch:9: 47it [00:02, 18.43it/s]\u001b[32m [repeated 23x across cluster]\u001b[0m\n"
     ]
    },
    {
     "name": "stdout",
     "output_type": "stream",
     "text": [
      "\u001b[36m(tune_with_parameters pid=2098255)\u001b[0m /tmp/tmp14ooobil/checkpoint.pt\n",
      "\u001b[36m(tune_with_parameters pid=2084169)\u001b[0m loss: 0.000\u001b[32m [repeated 13x across cluster]\u001b[0m\n"
     ]
    },
    {
     "name": "stderr",
     "output_type": "stream",
     "text": [
      "\u001b[36m(tune_with_parameters pid=2098255)\u001b[0m Checkpoint successfully created at: Checkpoint(filesystem=local, path=/scratch/users/k23058970/Model training/results/Single Peak LRCN Null/tune_with_parameters_2024-08-19_13-29-31/tune_with_parameters_c1630_00005_5_dp=0.5000,k1=1,k2=1,k3=3,k4=5,lr=0.0126_2024-08-19_13-30-01/checkpoint_000002)\n",
      "Val Epoch:10: 0it [00:00, ?it/s]084169)\u001b[0m \n",
      "Val Epoch:10: 12it [00:01, 17.04it/s]\u001b[32m [repeated 16x across cluster]\u001b[0m\n"
     ]
    },
    {
     "name": "stdout",
     "output_type": "stream",
     "text": [
      "\u001b[36m(tune_with_parameters pid=2084169)\u001b[0m loss: 0.000\u001b[32m [repeated 12x across cluster]\u001b[0m\n"
     ]
    },
    {
     "name": "stderr",
     "output_type": "stream",
     "text": [
      "Val Epoch:3: 0it [00:00, ?it/s]2098255)\u001b[0m \n",
      "Val Epoch:10: 47it [00:02, 19.67it/s]\u001b[32m [repeated 12x across cluster]\u001b[0m\n"
     ]
    },
    {
     "name": "stdout",
     "output_type": "stream",
     "text": [
      "\u001b[36m(tune_with_parameters pid=2084169)\u001b[0m loss: 0.000\u001b[32m [repeated 13x across cluster]\u001b[0m\n"
     ]
    },
    {
     "name": "stderr",
     "output_type": "stream",
     "text": [
      "Val Epoch:3: 47it [00:01, 29.98it/s]55)\u001b[0m \n"
     ]
    },
    {
     "name": "stdout",
     "output_type": "stream",
     "text": [
      "\u001b[36m(tune_with_parameters pid=2098255)\u001b[0m /tmp/tmpv846m226/checkpoint.pt\n"
     ]
    },
    {
     "name": "stderr",
     "output_type": "stream",
     "text": [
      "\u001b[36m(tune_with_parameters pid=2098255)\u001b[0m Checkpoint successfully created at: Checkpoint(filesystem=local, path=/scratch/users/k23058970/Model training/results/Single Peak LRCN Null/tune_with_parameters_2024-08-19_13-29-31/tune_with_parameters_c1630_00005_5_dp=0.5000,k1=1,k2=1,k3=3,k4=5,lr=0.0126_2024-08-19_13-30-01/checkpoint_000003)\n"
     ]
    },
    {
     "name": "stdout",
     "output_type": "stream",
     "text": [
      "\u001b[36m(tune_with_parameters pid=2098255)\u001b[0m loss: 0.038\u001b[32m [repeated 15x across cluster]\u001b[0m\n"
     ]
    },
    {
     "name": "stderr",
     "output_type": "stream",
     "text": [
      "Val Epoch:11: 0it [00:00, ?it/s]084169)\u001b[0m \n",
      "Val Epoch:3: 40it [00:01, 38.12it/s]\u001b[32m [repeated 10x across cluster]\u001b[0m\n",
      "Val Epoch:11: 47it [00:01, 24.75it/s]9)\u001b[0m \n",
      "Val Epoch:4: 0it [00:00, ?it/s]2098255)\u001b[0m \n"
     ]
    },
    {
     "name": "stdout",
     "output_type": "stream",
     "text": [
      "\u001b[36m(tune_with_parameters pid=2084169)\u001b[0m loss: 0.000\u001b[32m [repeated 10x across cluster]\u001b[0m\n",
      "\u001b[36m(tune_with_parameters pid=2098255)\u001b[0m /tmp/tmpgl868401/checkpoint.pt\n"
     ]
    },
    {
     "name": "stderr",
     "output_type": "stream",
     "text": [
      "\u001b[36m(tune_with_parameters pid=2098255)\u001b[0m Checkpoint successfully created at: Checkpoint(filesystem=local, path=/scratch/users/k23058970/Model training/results/Single Peak LRCN Null/tune_with_parameters_2024-08-19_13-29-31/tune_with_parameters_c1630_00005_5_dp=0.5000,k1=1,k2=1,k3=3,k4=5,lr=0.0126_2024-08-19_13-30-01/checkpoint_000004)\n"
     ]
    },
    {
     "name": "stdout",
     "output_type": "stream",
     "text": [
      "\u001b[36m(tune_with_parameters pid=2084169)\u001b[0m loss: 0.000\u001b[32m [repeated 13x across cluster]\u001b[0m\n"
     ]
    },
    {
     "name": "stderr",
     "output_type": "stream",
     "text": [
      "Val Epoch:5: 0it [00:00, ?it/s]2098255)\u001b[0m \n",
      "Val Epoch:4: 40it [00:01, 38.61it/s]\u001b[32m [repeated 22x across cluster]\u001b[0m\n",
      "Val Epoch:4: 47it [00:01, 29.93it/s]55)\u001b[0m \n"
     ]
    },
    {
     "name": "stdout",
     "output_type": "stream",
     "text": [
      "\u001b[36m(tune_with_parameters pid=2084169)\u001b[0m loss: 0.000\u001b[32m [repeated 15x across cluster]\u001b[0m\n"
     ]
    },
    {
     "name": "stderr",
     "output_type": "stream",
     "text": [
      "Val Epoch:12: 0it [00:00, ?it/s]084169)\u001b[0m \n"
     ]
    },
    {
     "name": "stdout",
     "output_type": "stream",
     "text": [
      "\u001b[36m(tune_with_parameters pid=2098255)\u001b[0m /tmp/tmpon6cjud7/checkpoint.pt\n"
     ]
    },
    {
     "name": "stderr",
     "output_type": "stream",
     "text": [
      "\u001b[36m(tune_with_parameters pid=2098255)\u001b[0m Checkpoint successfully created at: Checkpoint(filesystem=local, path=/scratch/users/k23058970/Model training/results/Single Peak LRCN Null/tune_with_parameters_2024-08-19_13-29-31/tune_with_parameters_c1630_00005_5_dp=0.5000,k1=1,k2=1,k3=3,k4=5,lr=0.0126_2024-08-19_13-30-01/checkpoint_000005)\n",
      "Val Epoch:12: 47it [00:02, 18.23it/s]9)\u001b[0m \n"
     ]
    },
    {
     "name": "stdout",
     "output_type": "stream",
     "text": [
      "\u001b[36m(tune_with_parameters pid=2084169)\u001b[0m loss: 0.000\u001b[32m [repeated 10x across cluster]\u001b[0m\n"
     ]
    },
    {
     "name": "stderr",
     "output_type": "stream",
     "text": [
      "Val Epoch:12: 44it [00:02, 28.08it/s]\u001b[32m [repeated 28x across cluster]\u001b[0m\n",
      "Val Epoch:6: 0it [00:00, ?it/s]2098255)\u001b[0m \n"
     ]
    },
    {
     "name": "stdout",
     "output_type": "stream",
     "text": [
      "\u001b[36m(tune_with_parameters pid=2084169)\u001b[0m loss: 0.000\u001b[32m [repeated 14x across cluster]\u001b[0m\n"
     ]
    },
    {
     "name": "stderr",
     "output_type": "stream",
     "text": [
      "Val Epoch:6: 47it [00:01, 26.48it/s]55)\u001b[0m \n"
     ]
    },
    {
     "name": "stdout",
     "output_type": "stream",
     "text": [
      "\u001b[36m(tune_with_parameters pid=2098255)\u001b[0m /tmp/tmpq_0uew19/checkpoint.pt\n"
     ]
    },
    {
     "name": "stderr",
     "output_type": "stream",
     "text": [
      "\u001b[36m(tune_with_parameters pid=2098255)\u001b[0m Checkpoint successfully created at: Checkpoint(filesystem=local, path=/scratch/users/k23058970/Model training/results/Single Peak LRCN Null/tune_with_parameters_2024-08-19_13-29-31/tune_with_parameters_c1630_00005_5_dp=0.5000,k1=1,k2=1,k3=3,k4=5,lr=0.0126_2024-08-19_13-30-01/checkpoint_000006)\n"
     ]
    },
    {
     "name": "stdout",
     "output_type": "stream",
     "text": [
      "\u001b[36m(tune_with_parameters pid=2084169)\u001b[0m loss: 0.000\u001b[32m [repeated 14x across cluster]\u001b[0m\n"
     ]
    },
    {
     "name": "stderr",
     "output_type": "stream",
     "text": [
      "Val Epoch:13: 0it [00:00, ?it/s]084169)\u001b[0m \n",
      "Val Epoch:6: 42it [00:01, 36.72it/s]\u001b[32m [repeated 11x across cluster]\u001b[0m\n"
     ]
    },
    {
     "name": "stdout",
     "output_type": "stream",
     "text": [
      "\u001b[36m(tune_with_parameters pid=2084169)\u001b[0m loss: 0.000\u001b[32m [repeated 10x across cluster]\u001b[0m\n"
     ]
    },
    {
     "name": "stderr",
     "output_type": "stream",
     "text": [
      "Val Epoch:7: 0it [00:00, ?it/s]2098255)\u001b[0m \n",
      "Val Epoch:7: 26it [00:00, 36.79it/s]\u001b[32m [repeated 22x across cluster]\u001b[0m\n"
     ]
    },
    {
     "name": "stdout",
     "output_type": "stream",
     "text": [
      "\u001b[36m(tune_with_parameters pid=2098255)\u001b[0m /tmp/tmpfe1id9gu/checkpoint.pt\n"
     ]
    },
    {
     "name": "stderr",
     "output_type": "stream",
     "text": [
      "\u001b[36m(tune_with_parameters pid=2098255)\u001b[0m Checkpoint successfully created at: Checkpoint(filesystem=local, path=/scratch/users/k23058970/Model training/results/Single Peak LRCN Null/tune_with_parameters_2024-08-19_13-29-31/tune_with_parameters_c1630_00005_5_dp=0.5000,k1=1,k2=1,k3=3,k4=5,lr=0.0126_2024-08-19_13-30-01/checkpoint_000007)\n"
     ]
    },
    {
     "name": "stdout",
     "output_type": "stream",
     "text": [
      "\u001b[36m(tune_with_parameters pid=2098255)\u001b[0m loss: 0.011\u001b[32m [repeated 14x across cluster]\u001b[0m\n"
     ]
    },
    {
     "name": "stderr",
     "output_type": "stream",
     "text": [
      "Val Epoch:8: 0it [00:00, ?it/s]2098255)\u001b[0m \n",
      "Val Epoch:7: 47it [00:01, 28.56it/s]\u001b[32m [repeated 5x across cluster]\u001b[0m\n"
     ]
    },
    {
     "name": "stdout",
     "output_type": "stream",
     "text": [
      "\u001b[36m(tune_with_parameters pid=2098255)\u001b[0m /tmp/tmpu1aq5ipf/checkpoint.pt\n",
      "\u001b[36m(tune_with_parameters pid=2084169)\u001b[0m loss: 0.000\u001b[32m [repeated 13x across cluster]\u001b[0m\n"
     ]
    },
    {
     "name": "stderr",
     "output_type": "stream",
     "text": [
      "\u001b[36m(tune_with_parameters pid=2098255)\u001b[0m Checkpoint successfully created at: Checkpoint(filesystem=local, path=/scratch/users/k23058970/Model training/results/Single Peak LRCN Null/tune_with_parameters_2024-08-19_13-29-31/tune_with_parameters_c1630_00005_5_dp=0.5000,k1=1,k2=1,k3=3,k4=5,lr=0.0126_2024-08-19_13-30-01/checkpoint_000008)\n"
     ]
    },
    {
     "name": "stdout",
     "output_type": "stream",
     "text": [
      "\u001b[36m(tune_with_parameters pid=2098255)\u001b[0m loss: 0.008\u001b[32m [repeated 12x across cluster]\u001b[0m\n"
     ]
    },
    {
     "name": "stderr",
     "output_type": "stream",
     "text": [
      "Val Epoch:9: 0it [00:00, ?it/s]\u001b[32m [repeated 2x across cluster]\u001b[0m\n",
      "Val Epoch:14: 47it [00:02, 20.07it/s]\u001b[32m [repeated 25x across cluster]\u001b[0m\n"
     ]
    },
    {
     "name": "stdout",
     "output_type": "stream",
     "text": [
      "\u001b[36m(tune_with_parameters pid=2084169)\u001b[0m loss: 0.000\u001b[32m [repeated 14x across cluster]\u001b[0m\n",
      "\u001b[36m(tune_with_parameters pid=2098255)\u001b[0m /tmp/tmp3tymmhr5/checkpoint.pt\n"
     ]
    },
    {
     "name": "stderr",
     "output_type": "stream",
     "text": [
      "\u001b[36m(tune_with_parameters pid=2098255)\u001b[0m Checkpoint successfully created at: Checkpoint(filesystem=local, path=/scratch/users/k23058970/Model training/results/Single Peak LRCN Null/tune_with_parameters_2024-08-19_13-29-31/tune_with_parameters_c1630_00005_5_dp=0.5000,k1=1,k2=1,k3=3,k4=5,lr=0.0126_2024-08-19_13-30-01/checkpoint_000009)\n",
      "Val Epoch:15: 0it [00:00, ?it/s]084169)\u001b[0m \n",
      "Val Epoch:9: 47it [00:01, 27.78it/s]\u001b[32m [repeated 13x across cluster]\u001b[0m\n"
     ]
    },
    {
     "name": "stdout",
     "output_type": "stream",
     "text": [
      "\u001b[36m(tune_with_parameters pid=2098255)\u001b[0m loss: 0.007\u001b[32m [repeated 12x across cluster]\u001b[0m\n"
     ]
    },
    {
     "name": "stderr",
     "output_type": "stream",
     "text": [
      "Val Epoch:10: 0it [00:00, ?it/s]098255)\u001b[0m \n",
      "Val Epoch:15: 47it [00:02, 22.19it/s]\u001b[32m [repeated 16x across cluster]\u001b[0m\n"
     ]
    },
    {
     "name": "stdout",
     "output_type": "stream",
     "text": [
      "\u001b[36m(tune_with_parameters pid=2084169)\u001b[0m loss: 0.000\u001b[32m [repeated 13x across cluster]\u001b[0m\n",
      "\u001b[36m(tune_with_parameters pid=2098255)\u001b[0m loss: 0.008\u001b[32m [repeated 16x across cluster]\u001b[0m\n"
     ]
    },
    {
     "name": "stderr",
     "output_type": "stream",
     "text": [
      "Val Epoch:16: 0it [00:00, ?it/s]084169)\u001b[0m \n",
      "Val Epoch:10: 47it [00:01, 25.35it/s]\u001b[32m [repeated 12x across cluster]\u001b[0m\n",
      "Val Epoch:11: 0it [00:00, ?it/s]098255)\u001b[0m \n"
     ]
    },
    {
     "name": "stdout",
     "output_type": "stream",
     "text": [
      "\u001b[36m(tune_with_parameters pid=2098255)\u001b[0m loss: 0.003\u001b[32m [repeated 9x across cluster]\u001b[0m\n",
      "\u001b[36m(tune_with_parameters pid=2084169)\u001b[0m loss: 0.000\u001b[32m [repeated 16x across cluster]\u001b[0m\n"
     ]
    },
    {
     "name": "stderr",
     "output_type": "stream",
     "text": [
      "Val Epoch:12: 0it [00:00, ?it/s]098255)\u001b[0m \n",
      "Val Epoch:16: 47it [00:02, 18.61it/s]\u001b[32m [repeated 27x across cluster]\u001b[0m\n"
     ]
    },
    {
     "name": "stdout",
     "output_type": "stream",
     "text": [
      "\u001b[36m(tune_with_parameters pid=2098255)\u001b[0m loss: 0.001\u001b[32m [repeated 11x across cluster]\u001b[0m\n"
     ]
    },
    {
     "name": "stderr",
     "output_type": "stream",
     "text": [
      "Val Epoch:17: 0it [00:00, ?it/s]084169)\u001b[0m \n",
      "Val Epoch:12: 47it [00:01, 29.40it/s]\u001b[32m [repeated 13x across cluster]\u001b[0m\n"
     ]
    },
    {
     "name": "stdout",
     "output_type": "stream",
     "text": [
      "\u001b[36m(tune_with_parameters pid=2098255)\u001b[0m loss: 0.004\u001b[32m [repeated 13x across cluster]\u001b[0m\n"
     ]
    },
    {
     "name": "stderr",
     "output_type": "stream",
     "text": [
      "Val Epoch:13: 0it [00:00, ?it/s]098255)\u001b[0m \n",
      "Val Epoch:17: 47it [00:01, 24.24it/s]\u001b[32m [repeated 15x across cluster]\u001b[0m\n",
      "Val Epoch:13: 47it [00:01, 33.78it/s]5)\u001b[0m \n"
     ]
    },
    {
     "name": "stdout",
     "output_type": "stream",
     "text": [
      "\u001b[36m(tune_with_parameters pid=2098255)\u001b[0m /tmp/tmpwf_78x18/checkpoint.pt\n"
     ]
    },
    {
     "name": "stderr",
     "output_type": "stream",
     "text": [
      "\u001b[36m(tune_with_parameters pid=2098255)\u001b[0m Checkpoint successfully created at: Checkpoint(filesystem=local, path=/scratch/users/k23058970/Model training/results/Single Peak LRCN Null/tune_with_parameters_2024-08-19_13-29-31/tune_with_parameters_c1630_00005_5_dp=0.5000,k1=1,k2=1,k3=3,k4=5,lr=0.0126_2024-08-19_13-30-01/checkpoint_000010)\n"
     ]
    },
    {
     "name": "stdout",
     "output_type": "stream",
     "text": [
      "\u001b[36m(tune_with_parameters pid=2098255)\u001b[0m loss: 0.001\u001b[32m [repeated 12x across cluster]\u001b[0m\n",
      "\u001b[36m(tune_with_parameters pid=2098255)\u001b[0m loss: 0.003\u001b[32m [repeated 17x across cluster]\u001b[0m\n"
     ]
    },
    {
     "name": "stderr",
     "output_type": "stream",
     "text": [
      "Val Epoch:18: 0it [00:00, ?it/s]084169)\u001b[0m \n",
      "Val Epoch:13: 41it [00:01, 32.97it/s]\u001b[32m [repeated 10x across cluster]\u001b[0m\n"
     ]
    },
    {
     "name": "stdout",
     "output_type": "stream",
     "text": [
      "\u001b[36m(tune_with_parameters pid=2084169)\u001b[0m loss: 0.000\u001b[32m [repeated 7x across cluster]\u001b[0m\n",
      "\u001b[36m(tune_with_parameters pid=2098255)\u001b[0m loss: 0.003\u001b[32m [repeated 15x across cluster]\u001b[0m\n"
     ]
    },
    {
     "name": "stderr",
     "output_type": "stream",
     "text": [
      "Val Epoch:15: 0it [00:00, ?it/s]\u001b[32m [repeated 2x across cluster]\u001b[0m\n",
      "Val Epoch:14: 47it [00:02, 22.56it/s]\u001b[32m [repeated 26x across cluster]\u001b[0m\n"
     ]
    },
    {
     "name": "stdout",
     "output_type": "stream",
     "text": [
      "\u001b[36m(tune_with_parameters pid=2098255)\u001b[0m loss: 0.000\u001b[32m [repeated 12x across cluster]\u001b[0m\n"
     ]
    },
    {
     "name": "stderr",
     "output_type": "stream",
     "text": [
      "Val Epoch:19: 0it [00:00, ?it/s]084169)\u001b[0m \n",
      "Val Epoch:19: 29it [00:01, 26.13it/s]\u001b[32m [repeated 21x across cluster]\u001b[0m\n"
     ]
    },
    {
     "name": "stdout",
     "output_type": "stream",
     "text": [
      "\u001b[36m(tune_with_parameters pid=2084169)\u001b[0m loss: 0.000\u001b[32m [repeated 13x across cluster]\u001b[0m\n"
     ]
    },
    {
     "name": "stderr",
     "output_type": "stream",
     "text": [
      "Val Epoch:16: 0it [00:00, ?it/s]098255)\u001b[0m \n",
      "Val Epoch:16: 1it [00:00,  1.93it/s]\u001b[32m [repeated 7x across cluster]\u001b[0m\n"
     ]
    },
    {
     "name": "stdout",
     "output_type": "stream",
     "text": [
      "\u001b[36m(tune_with_parameters pid=2084169)\u001b[0m loss: 0.000\u001b[32m [repeated 12x across cluster]\u001b[0m\n",
      "\u001b[36m(tune_with_parameters pid=2098255)\u001b[0m loss: 0.003\u001b[32m [repeated 17x across cluster]\u001b[0m\n"
     ]
    },
    {
     "name": "stderr",
     "output_type": "stream",
     "text": [
      "Val Epoch:20: 0it [00:00, ?it/s]084169)\u001b[0m \n",
      "Val Epoch:16: 47it [00:01, 26.72it/s]\u001b[32m [repeated 11x across cluster]\u001b[0m\n",
      "Val Epoch:17: 0it [00:00, ?it/s]098255)\u001b[0m \n",
      "Val Epoch:17: 47it [00:02, 22.33it/s]5)\u001b[0m \n"
     ]
    },
    {
     "name": "stdout",
     "output_type": "stream",
     "text": [
      "\u001b[36m(tune_with_parameters pid=2098255)\u001b[0m loss: 0.004\u001b[32m [repeated 6x across cluster]\u001b[0m\n",
      "\u001b[36m(tune_with_parameters pid=2098255)\u001b[0m loss: 0.003\u001b[32m [repeated 18x across cluster]\u001b[0m\n"
     ]
    },
    {
     "name": "stderr",
     "output_type": "stream",
     "text": [
      "Val Epoch:18: 0it [00:00, ?it/s]098255)\u001b[0m \n",
      "Val Epoch:17: 43it [00:01, 21.77it/s]\u001b[32m [repeated 26x across cluster]\u001b[0m\n"
     ]
    },
    {
     "name": "stdout",
     "output_type": "stream",
     "text": [
      "\u001b[36m(tune_with_parameters pid=2098255)\u001b[0m loss: 0.002\u001b[32m [repeated 13x across cluster]\u001b[0m\n"
     ]
    },
    {
     "name": "stderr",
     "output_type": "stream",
     "text": [
      "Val Epoch:21: 0it [00:00, ?it/s]084169)\u001b[0m \n",
      "Val Epoch:21: 10it [00:00, 17.47it/s]\u001b[32m [repeated 16x across cluster]\u001b[0m\n"
     ]
    },
    {
     "name": "stdout",
     "output_type": "stream",
     "text": [
      "\u001b[36m(tune_with_parameters pid=2084169)\u001b[0m loss: 0.000\u001b[32m [repeated 12x across cluster]\u001b[0m\n"
     ]
    },
    {
     "name": "stderr",
     "output_type": "stream",
     "text": [
      "Val Epoch:19: 0it [00:00, ?it/s]098255)\u001b[0m \n",
      "Val Epoch:21: 47it [00:02, 23.13it/s]\u001b[32m [repeated 12x across cluster]\u001b[0m\n"
     ]
    },
    {
     "name": "stdout",
     "output_type": "stream",
     "text": [
      "\u001b[36m(tune_with_parameters pid=2084169)\u001b[0m loss: 0.000\u001b[32m [repeated 11x across cluster]\u001b[0m\n",
      "\u001b[36m(tune_with_parameters pid=2098255)\u001b[0m loss: 0.002\u001b[32m [repeated 17x across cluster]\u001b[0m\n"
     ]
    },
    {
     "name": "stderr",
     "output_type": "stream",
     "text": [
      "Val Epoch:22: 0it [00:00, ?it/s]084169)\u001b[0m \n",
      "Val Epoch:19: 47it [00:01, 29.34it/s]\u001b[32m [repeated 12x across cluster]\u001b[0m\n",
      "Val Epoch:22: 47it [00:02, 20.37it/s]9)\u001b[0m \n"
     ]
    },
    {
     "name": "stdout",
     "output_type": "stream",
     "text": [
      "\u001b[36m(tune_with_parameters pid=2084169)\u001b[0m loss: 0.000\u001b[32m [repeated 7x across cluster]\u001b[0m\n",
      "\u001b[36m(tune_with_parameters pid=2098255)\u001b[0m loss: 0.002\u001b[32m [repeated 16x across cluster]\u001b[0m\n"
     ]
    },
    {
     "name": "stderr",
     "output_type": "stream",
     "text": [
      "Val Epoch:21: 0it [00:00, ?it/s]\u001b[32m [repeated 2x across cluster]\u001b[0m\n",
      "Val Epoch:20: 47it [00:01, 24.67it/s]\u001b[32m [repeated 24x across cluster]\u001b[0m\n"
     ]
    },
    {
     "name": "stdout",
     "output_type": "stream",
     "text": [
      "\u001b[36m(tune_with_parameters pid=2098255)\u001b[0m loss: 0.002\u001b[32m [repeated 12x across cluster]\u001b[0m\n"
     ]
    },
    {
     "name": "stderr",
     "output_type": "stream",
     "text": [
      "Val Epoch:23: 0it [00:00, ?it/s]084169)\u001b[0m \n",
      "Val Epoch:23: 31it [00:01, 24.42it/s]\u001b[32m [repeated 24x across cluster]\u001b[0m\n"
     ]
    },
    {
     "name": "stdout",
     "output_type": "stream",
     "text": [
      "\u001b[36m(tune_with_parameters pid=2098255)\u001b[0m loss: 0.002\u001b[32m [repeated 14x across cluster]\u001b[0m\n"
     ]
    },
    {
     "name": "stderr",
     "output_type": "stream",
     "text": [
      "Val Epoch:22: 0it [00:00, ?it/s]098255)\u001b[0m \n",
      "Val Epoch:23: 47it [00:02, 18.52it/s]\u001b[32m [repeated 6x across cluster]\u001b[0m\n"
     ]
    },
    {
     "name": "stdout",
     "output_type": "stream",
     "text": [
      "\u001b[36m(tune_with_parameters pid=2098255)\u001b[0m loss: 0.001\u001b[32m [repeated 11x across cluster]\u001b[0m\n"
     ]
    },
    {
     "name": "stderr",
     "output_type": "stream",
     "text": [
      "Val Epoch:24: 0it [00:00, ?it/s]084169)\u001b[0m \n",
      "Val Epoch:22: 47it [00:01, 33.27it/s]\u001b[32m [repeated 12x across cluster]\u001b[0m\n"
     ]
    },
    {
     "name": "stdout",
     "output_type": "stream",
     "text": [
      "\u001b[36m(tune_with_parameters pid=2098255)\u001b[0m loss: 0.002\u001b[32m [repeated 15x across cluster]\u001b[0m\n"
     ]
    },
    {
     "name": "stderr",
     "output_type": "stream",
     "text": [
      "Val Epoch:23: 0it [00:00, ?it/s]098255)\u001b[0m \n"
     ]
    },
    {
     "name": "stdout",
     "output_type": "stream",
     "text": [
      "\u001b[36m(tune_with_parameters pid=2098255)\u001b[0m /tmp/tmpj12pt48f/checkpoint.pt\n"
     ]
    },
    {
     "name": "stderr",
     "output_type": "stream",
     "text": [
      "\u001b[36m(tune_with_parameters pid=2098255)\u001b[0m Checkpoint successfully created at: Checkpoint(filesystem=local, path=/scratch/users/k23058970/Model training/results/Single Peak LRCN Null/tune_with_parameters_2024-08-19_13-29-31/tune_with_parameters_c1630_00005_5_dp=0.5000,k1=1,k2=1,k3=3,k4=5,lr=0.0126_2024-08-19_13-30-01/checkpoint_000011)\n"
     ]
    },
    {
     "name": "stdout",
     "output_type": "stream",
     "text": [
      "\u001b[36m(tune_with_parameters pid=2098255)\u001b[0m loss: 0.002\u001b[32m [repeated 9x across cluster]\u001b[0m\n",
      "\u001b[36m(tune_with_parameters pid=2084169)\u001b[0m loss: 0.000\u001b[32m [repeated 17x across cluster]\u001b[0m\n"
     ]
    },
    {
     "name": "stderr",
     "output_type": "stream",
     "text": [
      "Val Epoch:24: 0it [00:00, ?it/s]098255)\u001b[0m \n",
      "Val Epoch:23: 47it [00:02, 23.47it/s]\u001b[32m [repeated 28x across cluster]\u001b[0m\n",
      "Val Epoch:25: 0it [00:00, ?it/s]084169)\u001b[0m \n"
     ]
    },
    {
     "name": "stdout",
     "output_type": "stream",
     "text": [
      "\u001b[36m(tune_with_parameters pid=2098255)\u001b[0m loss: 0.002\u001b[32m [repeated 9x across cluster]\u001b[0m\n"
     ]
    },
    {
     "name": "stderr",
     "output_type": "stream",
     "text": [
      "Val Epoch:25: 42it [00:01, 27.52it/s]\u001b[32m [repeated 27x across cluster]\u001b[0m\n"
     ]
    },
    {
     "name": "stdout",
     "output_type": "stream",
     "text": [
      "\u001b[36m(tune_with_parameters pid=2098255)\u001b[0m loss: 0.002\u001b[32m [repeated 14x across cluster]\u001b[0m\n"
     ]
    },
    {
     "name": "stderr",
     "output_type": "stream",
     "text": [
      "Val Epoch:25: 0it [00:00, ?it/s]098255)\u001b[0m \n",
      "Val Epoch:25: 47it [00:02, 21.46it/s]\u001b[32m [repeated 2x across cluster]\u001b[0m\n",
      "Val Epoch:25: 47it [00:01, 29.16it/s]5)\u001b[0m \n"
     ]
    },
    {
     "name": "stdout",
     "output_type": "stream",
     "text": [
      "\u001b[36m(tune_with_parameters pid=2084169)\u001b[0m loss: 0.000\u001b[32m [repeated 12x across cluster]\u001b[0m\n"
     ]
    },
    {
     "name": "stderr",
     "output_type": "stream",
     "text": [
      "Val Epoch:26: 0it [00:00, ?it/s]084169)\u001b[0m \n",
      "Val Epoch:25: 41it [00:01, 34.59it/s]\u001b[32m [repeated 11x across cluster]\u001b[0m\n"
     ]
    },
    {
     "name": "stdout",
     "output_type": "stream",
     "text": [
      "\u001b[36m(tune_with_parameters pid=2098255)\u001b[0m loss: 0.001\u001b[32m [repeated 15x across cluster]\u001b[0m\n",
      "\u001b[36m(tune_with_parameters pid=2084169)\u001b[0m loss: 0.000\u001b[32m [repeated 9x across cluster]\u001b[0m\n",
      "\u001b[36m(tune_with_parameters pid=2098255)\u001b[0m loss: 0.001\u001b[32m [repeated 18x across cluster]\u001b[0m\n"
     ]
    },
    {
     "name": "stderr",
     "output_type": "stream",
     "text": [
      "Val Epoch:27: 0it [00:00, ?it/s]\u001b[32m [repeated 2x across cluster]\u001b[0m\n",
      "Val Epoch:26: 47it [00:01, 32.07it/s]\u001b[32m [repeated 27x across cluster]\u001b[0m\n",
      "Val Epoch:27: 47it [00:01, 32.49it/s]5)\u001b[0m \n"
     ]
    },
    {
     "name": "stdout",
     "output_type": "stream",
     "text": [
      "\u001b[36m(tune_with_parameters pid=2098255)\u001b[0m loss: 0.003\u001b[32m [repeated 8x across cluster]\u001b[0m\n"
     ]
    },
    {
     "name": "stderr",
     "output_type": "stream",
     "text": [
      "Val Epoch:27: 0it [00:00, ?it/s]084169)\u001b[0m \n",
      "Val Epoch:27: 33it [00:02, 26.47it/s]\u001b[32m [repeated 21x across cluster]\u001b[0m\n"
     ]
    },
    {
     "name": "stdout",
     "output_type": "stream",
     "text": [
      "\u001b[36m(tune_with_parameters pid=2098255)\u001b[0m loss: 0.002\u001b[32m [repeated 15x across cluster]\u001b[0m\n"
     ]
    },
    {
     "name": "stderr",
     "output_type": "stream",
     "text": [
      "Val Epoch:28: 0it [00:00, ?it/s]098255)\u001b[0m \n",
      "Val Epoch:27: 47it [00:02, 16.17it/s]\u001b[32m [repeated 5x across cluster]\u001b[0m\n",
      "Val Epoch:28: 47it [00:01, 29.76it/s]5)\u001b[0m \n"
     ]
    },
    {
     "name": "stdout",
     "output_type": "stream",
     "text": [
      "\u001b[36m(tune_with_parameters pid=2084169)\u001b[0m loss: 0.000\u001b[32m [repeated 10x across cluster]\u001b[0m\n"
     ]
    },
    {
     "name": "stderr",
     "output_type": "stream",
     "text": [
      "Val Epoch:28: 0it [00:00, ?it/s]084169)\u001b[0m \n",
      "Val Epoch:28: 40it [00:01, 38.40it/s]\u001b[32m [repeated 9x across cluster]\u001b[0m\n"
     ]
    },
    {
     "name": "stdout",
     "output_type": "stream",
     "text": [
      "\u001b[36m(tune_with_parameters pid=2098255)\u001b[0m loss: 0.002\u001b[32m [repeated 16x across cluster]\u001b[0m\n"
     ]
    },
    {
     "name": "stderr",
     "output_type": "stream",
     "text": [
      "Val Epoch:29: 0it [00:00, ?it/s]098255)\u001b[0m \n",
      "Val Epoch:29: 47it [00:02, 16.92it/s]5)\u001b[0m \n"
     ]
    },
    {
     "name": "stdout",
     "output_type": "stream",
     "text": [
      "\u001b[36m(tune_with_parameters pid=2098255)\u001b[0m loss: 0.001\u001b[32m [repeated 8x across cluster]\u001b[0m\n",
      "\u001b[36m(tune_with_parameters pid=2098255)\u001b[0m loss: 0.002\u001b[32m [repeated 17x across cluster]\u001b[0m\n"
     ]
    },
    {
     "name": "stderr",
     "output_type": "stream",
     "text": [
      "Val Epoch:30: 0it [00:00, ?it/s]098255)\u001b[0m \n",
      "Val Epoch:29: 41it [00:02, 34.79it/s]\u001b[32m [repeated 27x across cluster]\u001b[0m\n",
      "Val Epoch:29: 0it [00:00, ?it/s]084169)\u001b[0m \n"
     ]
    },
    {
     "name": "stdout",
     "output_type": "stream",
     "text": [
      "\u001b[36m(tune_with_parameters pid=2098255)\u001b[0m loss: 0.001\u001b[32m [repeated 10x across cluster]\u001b[0m\n"
     ]
    },
    {
     "name": "stderr",
     "output_type": "stream",
     "text": [
      "Val Epoch:29: 47it [00:01, 23.74it/s]\u001b[32m [repeated 27x across cluster]\u001b[0m\n"
     ]
    },
    {
     "name": "stdout",
     "output_type": "stream",
     "text": [
      "\u001b[36m(tune_with_parameters pid=2098255)\u001b[0m loss: 0.001\u001b[32m [repeated 15x across cluster]\u001b[0m\n"
     ]
    },
    {
     "name": "stderr",
     "output_type": "stream",
     "text": [
      "Val Epoch:31: 0it [00:00, ?it/s]098255)\u001b[0m \n",
      "Val Epoch:31: 1it [00:00,  2.09it/s]55)\u001b[0m \n",
      "Val Epoch:31: 6it [00:00, 12.90it/s]55)\u001b[0m \n",
      "Val Epoch:31: 11it [00:00, 21.49it/s]5)\u001b[0m \n",
      "Val Epoch:31: 17it [00:00, 30.87it/s]5)\u001b[0m \n",
      "Val Epoch:31: 22it [00:00, 33.19it/s]5)\u001b[0m \n",
      "Val Epoch:31: 27it [00:01, 36.15it/s]5)\u001b[0m \n",
      "Val Epoch:31: 32it [00:01, 37.14it/s]5)\u001b[0m \n",
      "Val Epoch:31: 37it [00:01, 36.05it/s]5)\u001b[0m \n",
      "Val Epoch:31: 42it [00:01, 37.66it/s]5)\u001b[0m \n",
      "Val Epoch:31: 47it [00:01, 29.74it/s]5)\u001b[0m \n"
     ]
    },
    {
     "name": "stdout",
     "output_type": "stream",
     "text": [
      "\u001b[36m(tune_with_parameters pid=2098255)\u001b[0m loss: 0.001\u001b[32m [repeated 10x across cluster]\u001b[0m\n"
     ]
    },
    {
     "name": "stderr",
     "output_type": "stream",
     "text": [
      "Val Epoch:30: 0it [00:00, ?it/s]084169)\u001b[0m \n",
      "Val Epoch:30: 1it [00:00,  2.28it/s]69)\u001b[0m \n",
      "Val Epoch:30: 5it [00:00, 10.60it/s]69)\u001b[0m \n",
      "Val Epoch:30: 9it [00:00, 17.31it/s]69)\u001b[0m \n",
      "Val Epoch:30: 12it [00:00, 19.69it/s]9)\u001b[0m \n",
      "Val Epoch:30: 15it [00:00, 20.26it/s]9)\u001b[0m \n",
      "Val Epoch:30: 18it [00:01, 21.07it/s]9)\u001b[0m \n",
      "Val Epoch:30: 21it [00:01, 21.57it/s]9)\u001b[0m \n",
      "Val Epoch:30: 24it [00:01, 22.30it/s]9)\u001b[0m \n"
     ]
    },
    {
     "name": "stdout",
     "output_type": "stream",
     "text": [
      "\u001b[36m(tune_with_parameters pid=2098255)\u001b[0m loss: 0.001\u001b[32m [repeated 14x across cluster]\u001b[0m\n"
     ]
    },
    {
     "name": "stderr",
     "output_type": "stream",
     "text": [
      "Val Epoch:30: 27it [00:01, 23.45it/s]9)\u001b[0m \n",
      "Val Epoch:30: 31it [00:01, 26.74it/s]9)\u001b[0m \n",
      "Val Epoch:30: 34it [00:01, 24.13it/s]9)\u001b[0m \n",
      "Val Epoch:30: 38it [00:01, 26.05it/s]9)\u001b[0m \n",
      "Val Epoch:30: 41it [00:02, 12.98it/s]9)\u001b[0m \n",
      "Val Epoch:30: 44it [00:02, 15.39it/s]9)\u001b[0m \n"
     ]
    },
    {
     "name": "stdout",
     "output_type": "stream",
     "text": [
      "\u001b[36m(tune_with_parameters pid=2098255)\u001b[0m loss: 0.000\u001b[32m [repeated 10x across cluster]\u001b[0m\n",
      "\u001b[36m(tune_with_parameters pid=2098255)\u001b[0m loss: 0.001\u001b[32m [repeated 17x across cluster]\u001b[0m\n"
     ]
    },
    {
     "name": "stderr",
     "output_type": "stream",
     "text": [
      "Val Epoch:33: 0it [00:00, ?it/s]\u001b[32m [repeated 2x across cluster]\u001b[0m\n",
      "Val Epoch:32: 47it [00:01, 25.03it/s]\u001b[32m [repeated 12x across cluster]\u001b[0m\n",
      "Val Epoch:33: 47it [00:02, 22.90it/s]5)\u001b[0m \n",
      "Val Epoch:31: 0it [00:00, ?it/s]084169)\u001b[0m \n",
      "Val Epoch:31: 24it [00:01, 27.98it/s]\u001b[32m [repeated 17x across cluster]\u001b[0m\n"
     ]
    },
    {
     "name": "stdout",
     "output_type": "stream",
     "text": [
      "\u001b[36m(tune_with_parameters pid=2098255)\u001b[0m loss: 0.001\u001b[32m [repeated 9x across cluster]\u001b[0m\n",
      "\u001b[36m(tune_with_parameters pid=2084169)\u001b[0m loss: 0.000\u001b[32m [repeated 13x across cluster]\u001b[0m\n"
     ]
    },
    {
     "name": "stderr",
     "output_type": "stream",
     "text": [
      "Val Epoch:34: 0it [00:00, ?it/s]098255)\u001b[0m \n",
      "Val Epoch:31: 47it [00:02, 19.64it/s]\u001b[32m [repeated 8x across cluster]\u001b[0m\n"
     ]
    },
    {
     "name": "stdout",
     "output_type": "stream",
     "text": [
      "\u001b[36m(tune_with_parameters pid=2084169)\u001b[0m loss: 0.000\u001b[32m [repeated 13x across cluster]\u001b[0m\n"
     ]
    },
    {
     "name": "stderr",
     "output_type": "stream",
     "text": [
      "Val Epoch:32: 0it [00:00, ?it/s]084169)\u001b[0m \n",
      "Val Epoch:34: 47it [00:01, 28.01it/s]\u001b[32m [repeated 12x across cluster]\u001b[0m\n",
      "Val Epoch:35: 0it [00:00, ?it/s]098255)\u001b[0m \n"
     ]
    },
    {
     "name": "stdout",
     "output_type": "stream",
     "text": [
      "\u001b[36m(tune_with_parameters pid=2084169)\u001b[0m loss: 0.000\u001b[32m [repeated 15x across cluster]\u001b[0m\n",
      "\u001b[36m(tune_with_parameters pid=2098255)\u001b[0m loss: 0.001\u001b[32m [repeated 13x across cluster]\u001b[0m\n"
     ]
    },
    {
     "name": "stderr",
     "output_type": "stream",
     "text": [
      "Val Epoch:36: 0it [00:00, ?it/s]098255)\u001b[0m \n",
      "Val Epoch:35: 47it [00:02, 22.78it/s]\u001b[32m [repeated 26x across cluster]\u001b[0m\n"
     ]
    },
    {
     "name": "stdout",
     "output_type": "stream",
     "text": [
      "\u001b[36m(tune_with_parameters pid=2084169)\u001b[0m loss: 0.000\u001b[32m [repeated 15x across cluster]\u001b[0m\n"
     ]
    },
    {
     "name": "stderr",
     "output_type": "stream",
     "text": [
      "Val Epoch:33: 0it [00:00, ?it/s]084169)\u001b[0m \n",
      "Val Epoch:33: 27it [00:01, 26.40it/s]\u001b[32m [repeated 21x across cluster]\u001b[0m\n"
     ]
    },
    {
     "name": "stdout",
     "output_type": "stream",
     "text": [
      "\u001b[36m(tune_with_parameters pid=2084169)\u001b[0m loss: 0.000\u001b[32m [repeated 11x across cluster]\u001b[0m\n"
     ]
    },
    {
     "name": "stderr",
     "output_type": "stream",
     "text": [
      "Val Epoch:37: 0it [00:00, ?it/s]098255)\u001b[0m \n",
      "Val Epoch:33: 47it [00:02, 22.33it/s]\u001b[32m [repeated 7x across cluster]\u001b[0m\n"
     ]
    },
    {
     "name": "stdout",
     "output_type": "stream",
     "text": [
      "\u001b[36m(tune_with_parameters pid=2084169)\u001b[0m loss: 0.000\u001b[32m [repeated 13x across cluster]\u001b[0m\n",
      "\u001b[36m(tune_with_parameters pid=2098255)\u001b[0m loss: 0.001\u001b[32m [repeated 14x across cluster]\u001b[0m\n"
     ]
    },
    {
     "name": "stderr",
     "output_type": "stream",
     "text": [
      "Val Epoch:34: 0it [00:00, ?it/s]084169)\u001b[0m \n",
      "Val Epoch:37: 47it [00:01, 23.98it/s]\u001b[32m [repeated 13x across cluster]\u001b[0m\n"
     ]
    },
    {
     "name": "stdout",
     "output_type": "stream",
     "text": [
      "\u001b[36m(tune_with_parameters pid=2084169)\u001b[0m loss: 0.000\u001b[32m [repeated 10x across cluster]\u001b[0m\n",
      "\u001b[36m(tune_with_parameters pid=2098255)\u001b[0m loss: 0.000\u001b[32m [repeated 15x across cluster]\u001b[0m\n"
     ]
    },
    {
     "name": "stderr",
     "output_type": "stream",
     "text": [
      "Val Epoch:39: 0it [00:00, ?it/s]\u001b[32m [repeated 2x across cluster]\u001b[0m\n",
      "Val Epoch:38: 47it [00:01, 28.39it/s]\u001b[32m [repeated 28x across cluster]\u001b[0m\n"
     ]
    },
    {
     "name": "stdout",
     "output_type": "stream",
     "text": [
      "\u001b[36m(tune_with_parameters pid=2084169)\u001b[0m loss: 0.000\u001b[32m [repeated 13x across cluster]\u001b[0m\n",
      "\u001b[36m(tune_with_parameters pid=2084169)\u001b[0m loss: 0.000\u001b[32m [repeated 10x across cluster]\u001b[0m\n"
     ]
    },
    {
     "name": "stderr",
     "output_type": "stream",
     "text": [
      "Val Epoch:40: 0it [00:00, ?it/s]\u001b[32m [repeated 2x across cluster]\u001b[0m\n",
      "Val Epoch:35: 47it [00:01, 23.68it/s]\u001b[32m [repeated 27x across cluster]\u001b[0m\n"
     ]
    },
    {
     "name": "stdout",
     "output_type": "stream",
     "text": [
      "\u001b[36m(tune_with_parameters pid=2084169)\u001b[0m loss: 0.000\u001b[32m [repeated 14x across cluster]\u001b[0m\n"
     ]
    },
    {
     "name": "stderr",
     "output_type": "stream",
     "text": [
      "Val Epoch:36: 0it [00:00, ?it/s]084169)\u001b[0m \n",
      "Val Epoch:40: 47it [00:01, 24.59it/s]\u001b[32m [repeated 12x across cluster]\u001b[0m\n"
     ]
    },
    {
     "name": "stdout",
     "output_type": "stream",
     "text": [
      "\u001b[36m(tune_with_parameters pid=2098255)\u001b[0m loss: 0.000\u001b[32m [repeated 15x across cluster]\u001b[0m\n"
     ]
    },
    {
     "name": "stderr",
     "output_type": "stream",
     "text": [
      "Val Epoch:41: 0it [00:00, ?it/s]098255)\u001b[0m \n",
      "Val Epoch:41: 27it [00:01, 23.99it/s]\u001b[32m [repeated 23x across cluster]\u001b[0m\n",
      "Val Epoch:41: 47it [00:01, 26.51it/s]5)\u001b[0m \n"
     ]
    },
    {
     "name": "stdout",
     "output_type": "stream",
     "text": [
      "\u001b[36m(tune_with_parameters pid=2084169)\u001b[0m loss: 0.000\u001b[32m [repeated 11x across cluster]\u001b[0m\n",
      "\u001b[36m(tune_with_parameters pid=2098255)\u001b[0m loss: 0.000\u001b[32m [repeated 17x across cluster]\u001b[0m\n"
     ]
    },
    {
     "name": "stderr",
     "output_type": "stream",
     "text": [
      "Val Epoch:42: 0it [00:00, ?it/s]098255)\u001b[0m \n",
      "Val Epoch:41: 42it [00:01, 32.04it/s]\u001b[32m [repeated 4x across cluster]\u001b[0m\n",
      "Val Epoch:37: 0it [00:00, ?it/s]084169)\u001b[0m \n",
      "Val Epoch:42: 47it [00:02, 18.56it/s]5)\u001b[0m \n"
     ]
    },
    {
     "name": "stdout",
     "output_type": "stream",
     "text": [
      "\u001b[36m(tune_with_parameters pid=2098255)\u001b[0m loss: 0.000\u001b[32m [repeated 9x across cluster]\u001b[0m\n",
      "\u001b[36m(tune_with_parameters pid=2098255)\u001b[0m loss: 0.001\u001b[32m [repeated 14x across cluster]\u001b[0m\n"
     ]
    },
    {
     "name": "stderr",
     "output_type": "stream",
     "text": [
      "Val Epoch:37: 43it [00:02, 24.96it/s]\u001b[32m [repeated 24x across cluster]\u001b[0m\n",
      "Val Epoch:43: 0it [00:00, ?it/s]098255)\u001b[0m \n",
      "Val Epoch:37: 47it [00:02, 18.49it/s]9)\u001b[0m \n",
      "Val Epoch:43: 47it [00:01, 27.49it/s]5)\u001b[0m \n"
     ]
    },
    {
     "name": "stdout",
     "output_type": "stream",
     "text": [
      "\u001b[36m(tune_with_parameters pid=2098255)\u001b[0m loss: 0.001\u001b[32m [repeated 12x across cluster]\u001b[0m\n"
     ]
    },
    {
     "name": "stderr",
     "output_type": "stream",
     "text": [
      "Val Epoch:38: 0it [00:00, ?it/s]084169)\u001b[0m \n",
      "Val Epoch:43: 41it [00:01, 30.88it/s]\u001b[32m [repeated 10x across cluster]\u001b[0m\n"
     ]
    },
    {
     "name": "stdout",
     "output_type": "stream",
     "text": [
      "\u001b[36m(tune_with_parameters pid=2098255)\u001b[0m loss: 0.001\u001b[32m [repeated 14x across cluster]\u001b[0m\n"
     ]
    },
    {
     "name": "stderr",
     "output_type": "stream",
     "text": [
      "Val Epoch:44: 0it [00:00, ?it/s]098255)\u001b[0m \n",
      "Val Epoch:38: 47it [00:02, 22.95it/s]\u001b[32m [repeated 16x across cluster]\u001b[0m\n"
     ]
    },
    {
     "name": "stdout",
     "output_type": "stream",
     "text": [
      "\u001b[36m(tune_with_parameters pid=2084169)\u001b[0m loss: 0.000\u001b[32m [repeated 12x across cluster]\u001b[0m\n",
      "\u001b[36m(tune_with_parameters pid=2098255)\u001b[0m loss: 0.000\u001b[32m [repeated 17x across cluster]\u001b[0m\n"
     ]
    },
    {
     "name": "stderr",
     "output_type": "stream",
     "text": [
      "Val Epoch:39: 0it [00:00, ?it/s]084169)\u001b[0m \n",
      "Val Epoch:44: 47it [00:01, 29.59it/s]\u001b[32m [repeated 12x across cluster]\u001b[0m\n"
     ]
    },
    {
     "name": "stdout",
     "output_type": "stream",
     "text": [
      "\u001b[36m(tune_with_parameters pid=2098255)\u001b[0m loss: 0.000\u001b[32m [repeated 6x across cluster]\u001b[0m\n",
      "\u001b[36m(tune_with_parameters pid=2084169)\u001b[0m loss: 0.000\u001b[32m [repeated 18x across cluster]\u001b[0m\n"
     ]
    },
    {
     "name": "stderr",
     "output_type": "stream",
     "text": [
      "Val Epoch:46: 0it [00:00, ?it/s]\u001b[32m [repeated 2x across cluster]\u001b[0m\n",
      "Val Epoch:39: 47it [00:03, 14.82it/s]\u001b[32m [repeated 27x across cluster]\u001b[0m\n"
     ]
    },
    {
     "name": "stdout",
     "output_type": "stream",
     "text": [
      "\u001b[36m(tune_with_parameters pid=2098255)\u001b[0m loss: 0.000\u001b[32m [repeated 12x across cluster]\u001b[0m\n"
     ]
    },
    {
     "name": "stderr",
     "output_type": "stream",
     "text": [
      "Val Epoch:40: 0it [00:00, ?it/s]084169)\u001b[0m \n",
      "Val Epoch:40: 4it [00:00, 13.85it/s]\u001b[32m [repeated 14x across cluster]\u001b[0m\n",
      "Val Epoch:40: 47it [00:01, 24.92it/s]9)\u001b[0m \n"
     ]
    },
    {
     "name": "stdout",
     "output_type": "stream",
     "text": [
      "\u001b[36m(tune_with_parameters pid=2098255)\u001b[0m loss: 0.000\u001b[32m [repeated 13x across cluster]\u001b[0m\n"
     ]
    },
    {
     "name": "stderr",
     "output_type": "stream",
     "text": [
      "Val Epoch:47: 0it [00:00, ?it/s]098255)\u001b[0m \n",
      "Val Epoch:40: 43it [00:01, 24.37it/s]\u001b[32m [repeated 10x across cluster]\u001b[0m\n"
     ]
    },
    {
     "name": "stdout",
     "output_type": "stream",
     "text": [
      "\u001b[36m(tune_with_parameters pid=2098255)\u001b[0m loss: 0.000\u001b[32m [repeated 12x across cluster]\u001b[0m\n",
      "\u001b[36m(tune_with_parameters pid=2084169)\u001b[0m loss: 0.000\u001b[32m [repeated 17x across cluster]\u001b[0m\n"
     ]
    },
    {
     "name": "stderr",
     "output_type": "stream",
     "text": [
      "Val Epoch:41: 0it [00:00, ?it/s]084169)\u001b[0m \n",
      "Val Epoch:47: 47it [00:01, 26.11it/s]\u001b[32m [repeated 12x across cluster]\u001b[0m\n",
      "Val Epoch:48: 0it [00:00, ?it/s]098255)\u001b[0m \n"
     ]
    },
    {
     "name": "stdout",
     "output_type": "stream",
     "text": [
      "\u001b[36m(tune_with_parameters pid=2098255)\u001b[0m loss: 0.000\u001b[32m [repeated 7x across cluster]\u001b[0m\n",
      "\u001b[36m(tune_with_parameters pid=2098255)\u001b[0m loss: 0.001\u001b[32m [repeated 17x across cluster]\u001b[0m\n"
     ]
    },
    {
     "name": "stderr",
     "output_type": "stream",
     "text": [
      "Val Epoch:49: 0it [00:00, ?it/s]098255)\u001b[0m \n",
      "Val Epoch:48: 47it [00:02, 21.60it/s]\u001b[32m [repeated 26x across cluster]\u001b[0m\n"
     ]
    },
    {
     "name": "stdout",
     "output_type": "stream",
     "text": [
      "\u001b[36m(tune_with_parameters pid=2084169)\u001b[0m loss: 0.000\u001b[32m [repeated 10x across cluster]\u001b[0m\n"
     ]
    },
    {
     "name": "stderr",
     "output_type": "stream",
     "text": [
      "Val Epoch:42: 0it [00:00, ?it/s]084169)\u001b[0m \n",
      "Val Epoch:42: 15it [00:01, 21.71it/s]\u001b[32m [repeated 16x across cluster]\u001b[0m\n"
     ]
    },
    {
     "name": "stdout",
     "output_type": "stream",
     "text": [
      "\u001b[36m(tune_with_parameters pid=2098255)\u001b[0m loss: 0.000\u001b[32m [repeated 12x across cluster]\u001b[0m\n"
     ]
    },
    {
     "name": "stderr",
     "output_type": "stream",
     "text": [
      "Val Epoch:50: 0it [00:00, ?it/s]098255)\u001b[0m \n",
      "Val Epoch:42: 47it [00:02, 22.02it/s]\u001b[32m [repeated 9x across cluster]\u001b[0m\n"
     ]
    },
    {
     "name": "stdout",
     "output_type": "stream",
     "text": [
      "\u001b[36m(tune_with_parameters pid=2084169)\u001b[0m loss: 0.000\u001b[32m [repeated 11x across cluster]\u001b[0m\n"
     ]
    },
    {
     "name": "stderr",
     "output_type": "stream",
     "text": [
      "Val Epoch:43: 0it [00:00, ?it/s]084169)\u001b[0m \n",
      "Val Epoch:50: 47it [00:01, 29.59it/s]\u001b[32m [repeated 12x across cluster]\u001b[0m\n"
     ]
    },
    {
     "name": "stdout",
     "output_type": "stream",
     "text": [
      "\u001b[36m(tune_with_parameters pid=2098255)\u001b[0m loss: 0.000\u001b[32m [repeated 16x across cluster]\u001b[0m\n"
     ]
    },
    {
     "name": "stderr",
     "output_type": "stream",
     "text": [
      "Val Epoch:43: 47it [00:02, 19.29it/s]9)\u001b[0m \n"
     ]
    },
    {
     "name": "stdout",
     "output_type": "stream",
     "text": [
      "\u001b[36m(tune_with_parameters pid=2098255)\u001b[0m loss: 0.000\u001b[32m [repeated 8x across cluster]\u001b[0m\n",
      "\u001b[36m(tune_with_parameters pid=2084169)\u001b[0m loss: 0.000\u001b[32m [repeated 17x across cluster]\u001b[0m\n"
     ]
    },
    {
     "name": "stderr",
     "output_type": "stream",
     "text": [
      "Val Epoch:52: 0it [00:00, ?it/s]\u001b[32m [repeated 2x across cluster]\u001b[0m\n",
      "Val Epoch:51: 47it [00:01, 30.37it/s]\u001b[32m [repeated 26x across cluster]\u001b[0m\n",
      "Val Epoch:52: 47it [00:01, 27.79it/s]5)\u001b[0m \n"
     ]
    },
    {
     "name": "stdout",
     "output_type": "stream",
     "text": [
      "\u001b[36m(tune_with_parameters pid=2098255)\u001b[0m loss: 0.000\u001b[32m [repeated 12x across cluster]\u001b[0m\n",
      "\u001b[36m(tune_with_parameters pid=2098255)\u001b[0m loss: 0.001\u001b[32m [repeated 13x across cluster]\u001b[0m\n"
     ]
    },
    {
     "name": "stderr",
     "output_type": "stream",
     "text": [
      "Val Epoch:53: 0it [00:00, ?it/s]\u001b[32m [repeated 2x across cluster]\u001b[0m\n",
      "Val Epoch:44: 42it [00:01, 30.55it/s]\u001b[32m [repeated 22x across cluster]\u001b[0m\n",
      "Val Epoch:44: 47it [00:02, 23.41it/s]\u001b[32m [repeated 2x across cluster]\u001b[0m\n"
     ]
    },
    {
     "name": "stdout",
     "output_type": "stream",
     "text": [
      "\u001b[36m(tune_with_parameters pid=2098255)\u001b[0m loss: 0.000\u001b[32m [repeated 12x across cluster]\u001b[0m\n"
     ]
    },
    {
     "name": "stderr",
     "output_type": "stream",
     "text": [
      "Val Epoch:45: 0it [00:00, ?it/s]084169)\u001b[0m \n",
      "Val Epoch:53: 47it [00:01, 25.26it/s]\u001b[32m [repeated 11x across cluster]\u001b[0m\n"
     ]
    },
    {
     "name": "stdout",
     "output_type": "stream",
     "text": [
      "\u001b[36m(tune_with_parameters pid=2098255)\u001b[0m loss: 0.000\u001b[32m [repeated 15x across cluster]\u001b[0m\n"
     ]
    },
    {
     "name": "stderr",
     "output_type": "stream",
     "text": [
      "Val Epoch:54: 0it [00:00, ?it/s]098255)\u001b[0m \n"
     ]
    },
    {
     "name": "stdout",
     "output_type": "stream",
     "text": [
      "\u001b[36m(tune_with_parameters pid=2098255)\u001b[0m loss: 0.001\u001b[32m [repeated 9x across cluster]\u001b[0m\n",
      "\u001b[36m(tune_with_parameters pid=2098255)\u001b[0m loss: 0.000\u001b[32m [repeated 17x across cluster]\u001b[0m\n"
     ]
    },
    {
     "name": "stderr",
     "output_type": "stream",
     "text": [
      "Val Epoch:55: 0it [00:00, ?it/s]098255)\u001b[0m \n",
      "Val Epoch:54: 47it [00:01, 34.17it/s]\u001b[32m [repeated 28x across cluster]\u001b[0m\n",
      "Val Epoch:46: 0it [00:00, ?it/s]084169)\u001b[0m \n"
     ]
    },
    {
     "name": "stdout",
     "output_type": "stream",
     "text": [
      "\u001b[36m(tune_with_parameters pid=2098255)\u001b[0m loss: 0.000\u001b[32m [repeated 9x across cluster]\u001b[0m\n"
     ]
    },
    {
     "name": "stderr",
     "output_type": "stream",
     "text": [
      "Val Epoch:46: 47it [00:02, 20.31it/s]\u001b[32m [repeated 28x across cluster]\u001b[0m\n"
     ]
    },
    {
     "name": "stdout",
     "output_type": "stream",
     "text": [
      "\u001b[36m(tune_with_parameters pid=2098255)\u001b[0m loss: 0.000\u001b[32m [repeated 14x across cluster]\u001b[0m\n"
     ]
    },
    {
     "name": "stderr",
     "output_type": "stream",
     "text": [
      "Val Epoch:56: 0it [00:00, ?it/s]098255)\u001b[0m \n",
      "Val Epoch:56: 1it [00:00,  7.46it/s]55)\u001b[0m \n",
      "Val Epoch:56: 6it [00:00, 27.52it/s]55)\u001b[0m \n",
      "Val Epoch:56: 10it [00:00, 31.42it/s]5)\u001b[0m \n",
      "Val Epoch:56: 14it [00:00, 33.01it/s]5)\u001b[0m \n",
      "Val Epoch:56: 18it [00:00, 34.27it/s]5)\u001b[0m \n",
      "Val Epoch:56: 22it [00:00, 35.52it/s]5)\u001b[0m \n",
      "Val Epoch:56: 26it [00:00, 36.76it/s]5)\u001b[0m \n",
      "Val Epoch:56: 30it [00:00, 36.66it/s]5)\u001b[0m \n",
      "Val Epoch:56: 34it [00:01, 36.70it/s]5)\u001b[0m \n",
      "Val Epoch:56: 39it [00:01, 40.14it/s]5)\u001b[0m \n",
      "Val Epoch:56: 44it [00:01, 42.55it/s]5)\u001b[0m \n",
      "Val Epoch:56: 47it [00:01, 35.08it/s]5)\u001b[0m \n"
     ]
    },
    {
     "name": "stdout",
     "output_type": "stream",
     "text": [
      "\u001b[36m(tune_with_parameters pid=2084169)\u001b[0m loss: 0.000\u001b[32m [repeated 13x across cluster]\u001b[0m\n"
     ]
    },
    {
     "name": "stderr",
     "output_type": "stream",
     "text": [
      "Val Epoch:47: 0it [00:00, ?it/s]084169)\u001b[0m \n",
      "Val Epoch:47: 1it [00:00,  1.64it/s]69)\u001b[0m \n",
      "Val Epoch:47: 4it [00:00,  6.55it/s]69)\u001b[0m \n",
      "Val Epoch:47: 6it [00:00,  8.68it/s]69)\u001b[0m \n",
      "Val Epoch:47: 9it [00:01, 12.65it/s]69)\u001b[0m \n",
      "Val Epoch:47: 12it [00:01, 16.39it/s]9)\u001b[0m \n",
      "Val Epoch:47: 15it [00:01, 18.63it/s]9)\u001b[0m \n",
      "Val Epoch:47: 18it [00:01, 20.86it/s]9)\u001b[0m \n",
      "Val Epoch:47: 22it [00:01, 24.04it/s]9)\u001b[0m \n",
      "Val Epoch:47: 25it [00:01, 23.62it/s]9)\u001b[0m \n",
      "Val Epoch:47: 28it [00:01, 24.68it/s]9)\u001b[0m \n",
      "Val Epoch:47: 31it [00:01, 25.73it/s]9)\u001b[0m \n"
     ]
    },
    {
     "name": "stdout",
     "output_type": "stream",
     "text": [
      "\u001b[36m(tune_with_parameters pid=2098255)\u001b[0m loss: 0.001\u001b[32m [repeated 14x across cluster]\u001b[0m\n"
     ]
    },
    {
     "name": "stderr",
     "output_type": "stream",
     "text": [
      "Val Epoch:47: 35it [00:01, 27.20it/s]9)\u001b[0m \n",
      "Val Epoch:47: 39it [00:02, 28.52it/s]9)\u001b[0m \n",
      "Val Epoch:47: 43it [00:02, 29.15it/s]9)\u001b[0m \n",
      "Val Epoch:47: 46it [00:02, 29.32it/s]9)\u001b[0m \n",
      "Val Epoch:47: 47it [00:02, 19.75it/s]9)\u001b[0m \n"
     ]
    },
    {
     "name": "stdout",
     "output_type": "stream",
     "text": [
      "\u001b[36m(tune_with_parameters pid=2084169)\u001b[0m loss: 0.000\u001b[32m [repeated 9x across cluster]\u001b[0m\n",
      "\u001b[36m(tune_with_parameters pid=2098255)\u001b[0m loss: 0.000\u001b[32m [repeated 17x across cluster]\u001b[0m\n"
     ]
    },
    {
     "name": "stderr",
     "output_type": "stream",
     "text": [
      "Val Epoch:58: 0it [00:00, ?it/s]\u001b[32m [repeated 2x across cluster]\u001b[0m\n",
      "Val Epoch:57: 47it [00:01, 27.78it/s]\u001b[32m [repeated 12x across cluster]\u001b[0m\n"
     ]
    },
    {
     "name": "stdout",
     "output_type": "stream",
     "text": [
      "\u001b[36m(tune_with_parameters pid=2098255)\u001b[0m loss: 0.000\u001b[32m [repeated 10x across cluster]\u001b[0m\n",
      "\u001b[36m(tune_with_parameters pid=2098255)\u001b[0m loss: 0.000\u001b[32m [repeated 16x across cluster]\u001b[0m\n"
     ]
    },
    {
     "name": "stderr",
     "output_type": "stream",
     "text": [
      "Val Epoch:59: 0it [00:00, ?it/s]\u001b[32m [repeated 2x across cluster]\u001b[0m\n",
      "Val Epoch:48: 47it [00:02, 23.02it/s]\u001b[32m [repeated 28x across cluster]\u001b[0m\n"
     ]
    },
    {
     "name": "stdout",
     "output_type": "stream",
     "text": [
      "\u001b[36m(tune_with_parameters pid=2098255)\u001b[0m loss: 0.001\u001b[32m [repeated 13x across cluster]\u001b[0m\n"
     ]
    },
    {
     "name": "stderr",
     "output_type": "stream",
     "text": [
      "Val Epoch:49: 0it [00:00, ?it/s]084169)\u001b[0m \n",
      "Val Epoch:59: 47it [00:01, 32.58it/s]\u001b[32m [repeated 11x across cluster]\u001b[0m\n"
     ]
    },
    {
     "name": "stdout",
     "output_type": "stream",
     "text": [
      "\u001b[36m(tune_with_parameters pid=2098255)\u001b[0m \n",
      "\u001b[36m(tune_with_parameters pid=2098255)\u001b[0m loss: 0.001\u001b[32m [repeated 11x across cluster]\u001b[0m\n"
     ]
    },
    {
     "name": "stderr",
     "output_type": "stream",
     "text": [
      "Val Epoch:60: 0it [00:00, ?it/s]098255)\u001b[0m \n",
      "Val Epoch:60: 47it [00:01, 34.38it/s]5)\u001b[0m \n"
     ]
    },
    {
     "name": "stdout",
     "output_type": "stream",
     "text": [
      "\u001b[36m(tune_with_parameters pid=2084169)\u001b[0m loss: 0.000\u001b[32m [repeated 10x across cluster]\u001b[0m\n",
      "\u001b[36m(tune_with_parameters pid=2098255)\u001b[0m loss: 0.000\u001b[32m [repeated 17x across cluster]\u001b[0m\n"
     ]
    },
    {
     "name": "stderr",
     "output_type": "stream",
     "text": [
      "Val Epoch:61: 0it [00:00, ?it/s]098255)\u001b[0m \n",
      "Val Epoch:60: 41it [00:01, 41.28it/s]\u001b[32m [repeated 24x across cluster]\u001b[0m\n",
      "Val Epoch:50: 0it [00:00, ?it/s]084169)\u001b[0m \n"
     ]
    },
    {
     "name": "stdout",
     "output_type": "stream",
     "text": [
      "\u001b[36m(tune_with_parameters pid=2098255)\u001b[0m loss: 0.000\u001b[32m [repeated 8x across cluster]\u001b[0m\n",
      "\u001b[36m(tune_with_parameters pid=2084169)\u001b[0m loss: 0.000\u001b[32m [repeated 14x across cluster]\u001b[0m\n"
     ]
    },
    {
     "name": "stderr",
     "output_type": "stream",
     "text": [
      "Val Epoch:50: 47it [00:02, 22.88it/s]\u001b[32m [repeated 28x across cluster]\u001b[0m\n",
      "Val Epoch:62: 0it [00:00, ?it/s]098255)\u001b[0m \n"
     ]
    },
    {
     "name": "stdout",
     "output_type": "stream",
     "text": [
      "\u001b[36m(tune_with_parameters pid=2098255)\u001b[0m loss: 0.000\u001b[32m [repeated 11x across cluster]\u001b[0m\n"
     ]
    },
    {
     "name": "stderr",
     "output_type": "stream",
     "text": [
      "Val Epoch:51: 0it [00:00, ?it/s]084169)\u001b[0m \n",
      "Val Epoch:62: 47it [00:01, 32.96it/s]\u001b[32m [repeated 12x across cluster]\u001b[0m\n"
     ]
    },
    {
     "name": "stdout",
     "output_type": "stream",
     "text": [
      "\u001b[36m(tune_with_parameters pid=2098255)\u001b[0m loss: 0.000\u001b[32m [repeated 14x across cluster]\u001b[0m\n",
      "\u001b[36m(tune_with_parameters pid=2098255)\u001b[0m loss: 0.000\u001b[32m [repeated 10x across cluster]\u001b[0m\n",
      "\u001b[36m(tune_with_parameters pid=2098255)\u001b[0m loss: 0.000\u001b[32m [repeated 17x across cluster]\u001b[0m\n"
     ]
    },
    {
     "name": "stderr",
     "output_type": "stream",
     "text": [
      "Val Epoch:64: 0it [00:00, ?it/s]\u001b[32m [repeated 2x across cluster]\u001b[0m\n",
      "Val Epoch:63: 47it [00:01, 35.43it/s]\u001b[32m [repeated 27x across cluster]\u001b[0m\n",
      "Val Epoch:64: 14it [00:00, 25.45it/s]5)\u001b[0m \n"
     ]
    },
    {
     "name": "stdout",
     "output_type": "stream",
     "text": [
      "\u001b[36m(tune_with_parameters pid=2098255)\u001b[0m loss: 0.000\u001b[32m [repeated 8x across cluster]\u001b[0m\n",
      "\u001b[36m(tune_with_parameters pid=2084169)\u001b[0m loss: 0.000\u001b[32m [repeated 15x across cluster]\u001b[0m\n"
     ]
    },
    {
     "name": "stderr",
     "output_type": "stream",
     "text": [
      "Val Epoch:65: 0it [00:00, ?it/s]\u001b[32m [repeated 2x across cluster]\u001b[0m\n",
      "Val Epoch:52: 47it [00:02, 16.36it/s]\u001b[32m [repeated 28x across cluster]\u001b[0m\n"
     ]
    },
    {
     "name": "stdout",
     "output_type": "stream",
     "text": [
      "\u001b[36m(tune_with_parameters pid=2084169)\u001b[0m loss: 0.000\u001b[32m [repeated 12x across cluster]\u001b[0m\n"
     ]
    },
    {
     "name": "stderr",
     "output_type": "stream",
     "text": [
      "Val Epoch:53: 0it [00:00, ?it/s]084169)\u001b[0m \n",
      "Val Epoch:65: 47it [00:01, 29.87it/s]\u001b[32m [repeated 12x across cluster]\u001b[0m\n"
     ]
    },
    {
     "name": "stdout",
     "output_type": "stream",
     "text": [
      "\u001b[36m(tune_with_parameters pid=2084169)\u001b[0m loss: 0.000\u001b[32m [repeated 14x across cluster]\u001b[0m\n"
     ]
    },
    {
     "name": "stderr",
     "output_type": "stream",
     "text": [
      "Val Epoch:66: 0it [00:00, ?it/s]098255)\u001b[0m \n",
      "Val Epoch:66: 37it [00:01, 38.03it/s]\u001b[32m [repeated 24x across cluster]\u001b[0m\n"
     ]
    },
    {
     "name": "stdout",
     "output_type": "stream",
     "text": [
      "\u001b[36m(tune_with_parameters pid=2098255)\u001b[0m loss: 0.000\u001b[32m [repeated 11x across cluster]\u001b[0m\n"
     ]
    },
    {
     "name": "stderr",
     "output_type": "stream",
     "text": [
      "Val Epoch:67: 0it [00:00, ?it/s]098255)\u001b[0m \n",
      "Val Epoch:66: 47it [00:01, 31.60it/s]\u001b[32m [repeated 3x across cluster]\u001b[0m\n"
     ]
    },
    {
     "name": "stdout",
     "output_type": "stream",
     "text": [
      "\u001b[36m(tune_with_parameters pid=2084169)\u001b[0m loss: 0.000\u001b[32m [repeated 17x across cluster]\u001b[0m\n"
     ]
    },
    {
     "name": "stderr",
     "output_type": "stream",
     "text": [
      "Val Epoch:54: 0it [00:00, ?it/s]084169)\u001b[0m \n"
     ]
    },
    {
     "name": "stdout",
     "output_type": "stream",
     "text": [
      "\u001b[36m(tune_with_parameters pid=2084169)\u001b[0m loss: 0.000\u001b[32m [repeated 8x across cluster]\u001b[0m\n"
     ]
    },
    {
     "name": "stderr",
     "output_type": "stream",
     "text": [
      "Val Epoch:54: 47it [00:02, 23.20it/s]\u001b[32m [repeated 27x across cluster]\u001b[0m\n",
      "Val Epoch:68: 0it [00:00, ?it/s]098255)\u001b[0m \n"
     ]
    },
    {
     "name": "stdout",
     "output_type": "stream",
     "text": [
      "\u001b[36m(tune_with_parameters pid=2084169)\u001b[0m loss: 0.000\u001b[32m [repeated 17x across cluster]\u001b[0m\n",
      "\u001b[36m(tune_with_parameters pid=2084169)\u001b[0m loss: 0.000\u001b[32m [repeated 13x across cluster]\u001b[0m\n"
     ]
    },
    {
     "name": "stderr",
     "output_type": "stream",
     "text": [
      "Val Epoch:55: 0it [00:00, ?it/s]084169)\u001b[0m \n",
      "Val Epoch:68: 47it [00:01, 31.46it/s]\u001b[32m [repeated 12x across cluster]\u001b[0m\n"
     ]
    },
    {
     "name": "stdout",
     "output_type": "stream",
     "text": [
      "\u001b[36m(tune_with_parameters pid=2084169)\u001b[0m loss: 0.000\u001b[32m [repeated 11x across cluster]\u001b[0m\n"
     ]
    },
    {
     "name": "stderr",
     "output_type": "stream",
     "text": [
      "Val Epoch:69: 0it [00:00, ?it/s]098255)\u001b[0m \n",
      "Val Epoch:69: 47it [00:01, 36.46it/s]\u001b[32m [repeated 28x across cluster]\u001b[0m\n"
     ]
    },
    {
     "name": "stdout",
     "output_type": "stream",
     "text": [
      "\u001b[36m(tune_with_parameters pid=2098255)\u001b[0m loss: 0.000\u001b[32m [repeated 14x across cluster]\u001b[0m\n"
     ]
    },
    {
     "name": "stderr",
     "output_type": "stream",
     "text": [
      "Val Epoch:70: 0it [00:00, ?it/s]098255)\u001b[0m \n",
      "Val Epoch:69: 47it [00:01, 31.00it/s]5)\u001b[0m \n",
      "Val Epoch:70: 1it [00:00,  3.94it/s]55)\u001b[0m \n",
      "Val Epoch:70: 4it [00:00, 12.88it/s]55)\u001b[0m \n",
      "Val Epoch:70: 8it [00:00, 21.01it/s]55)\u001b[0m \n",
      "Val Epoch:70: 12it [00:00, 24.72it/s]5)\u001b[0m \n",
      "Val Epoch:70: 16it [00:00, 27.58it/s]5)\u001b[0m \n",
      "Val Epoch:70: 19it [00:00, 28.20it/s]5)\u001b[0m \n",
      "Val Epoch:70: 23it [00:00, 31.37it/s]5)\u001b[0m \n",
      "Val Epoch:70: 27it [00:01, 33.19it/s]5)\u001b[0m \n"
     ]
    },
    {
     "name": "stdout",
     "output_type": "stream",
     "text": [
      "\u001b[36m(tune_with_parameters pid=2084169)\u001b[0m loss: 0.000\u001b[32m [repeated 14x across cluster]\u001b[0m\n"
     ]
    },
    {
     "name": "stderr",
     "output_type": "stream",
     "text": [
      "Val Epoch:70: 33it [00:01, 39.35it/s]5)\u001b[0m \n",
      "Val Epoch:70: 38it [00:01, 16.39it/s]5)\u001b[0m \n",
      "Val Epoch:56: 47it [00:02, 18.16it/s]9)\u001b[0m \n"
     ]
    },
    {
     "name": "stdout",
     "output_type": "stream",
     "text": [
      "\u001b[36m(tune_with_parameters pid=2098255)\u001b[0m loss: 0.000\u001b[32m [repeated 9x across cluster]\u001b[0m\n"
     ]
    },
    {
     "name": "stderr",
     "output_type": "stream",
     "text": [
      "Val Epoch:71: 0it [00:00, ?it/s]\u001b[32m [repeated 2x across cluster]\u001b[0m\n",
      "Val Epoch:56: 43it [00:02, 26.11it/s]\u001b[32m [repeated 16x across cluster]\u001b[0m\n"
     ]
    },
    {
     "name": "stdout",
     "output_type": "stream",
     "text": [
      "\u001b[36m(tune_with_parameters pid=2084169)\u001b[0m loss: 0.000\u001b[32m [repeated 15x across cluster]\u001b[0m\n",
      "\u001b[36m(tune_with_parameters pid=2084169)\u001b[0m loss: 0.000\u001b[32m [repeated 13x across cluster]\u001b[0m\n"
     ]
    },
    {
     "name": "stderr",
     "output_type": "stream",
     "text": [
      "Val Epoch:57: 0it [00:00, ?it/s]084169)\u001b[0m \n",
      "Val Epoch:71: 47it [00:01, 29.79it/s]\u001b[32m [repeated 12x across cluster]\u001b[0m\n"
     ]
    },
    {
     "name": "stdout",
     "output_type": "stream",
     "text": [
      "\u001b[36m(tune_with_parameters pid=2098255)\u001b[0m \n"
     ]
    },
    {
     "name": "stderr",
     "output_type": "stream",
     "text": [
      "Val Epoch:72: 0it [00:00, ?it/s]098255)\u001b[0m \n"
     ]
    },
    {
     "name": "stdout",
     "output_type": "stream",
     "text": [
      "\u001b[36m(tune_with_parameters pid=2084169)\u001b[0m loss: 0.000\u001b[32m [repeated 11x across cluster]\u001b[0m\n"
     ]
    },
    {
     "name": "stderr",
     "output_type": "stream",
     "text": [
      "Val Epoch:72: 30it [00:00, 38.75it/s]\u001b[32m [repeated 24x across cluster]\u001b[0m\n"
     ]
    },
    {
     "name": "stdout",
     "output_type": "stream",
     "text": [
      "\u001b[36m(tune_with_parameters pid=2098255)\u001b[0m loss: 0.000\u001b[32m [repeated 15x across cluster]\u001b[0m\n"
     ]
    },
    {
     "name": "stderr",
     "output_type": "stream",
     "text": [
      "Val Epoch:73: 0it [00:00, ?it/s]098255)\u001b[0m \n",
      "Val Epoch:72: 47it [00:01, 35.46it/s]\u001b[32m [repeated 5x across cluster]\u001b[0m\n",
      "Val Epoch:58: 0it [00:00, ?it/s]084169)\u001b[0m \n",
      "Val Epoch:73: 47it [00:02, 20.58it/s]5)\u001b[0m \n"
     ]
    },
    {
     "name": "stdout",
     "output_type": "stream",
     "text": [
      "\u001b[36m(tune_with_parameters pid=2098255)\u001b[0m loss: 0.000\u001b[32m [repeated 13x across cluster]\u001b[0m\n",
      "\u001b[36m(tune_with_parameters pid=2098255)\u001b[0m loss: 0.000\u001b[32m [repeated 13x across cluster]\u001b[0m\n"
     ]
    },
    {
     "name": "stderr",
     "output_type": "stream",
     "text": [
      "Val Epoch:58: 47it [00:02, 17.67it/s]\u001b[32m [repeated 24x across cluster]\u001b[0m\n",
      "Val Epoch:74: 0it [00:00, ?it/s]098255)\u001b[0m \n",
      "Val Epoch:74: 47it [00:02, 23.45it/s]5)\u001b[0m \n"
     ]
    },
    {
     "name": "stdout",
     "output_type": "stream",
     "text": [
      "\u001b[36m(tune_with_parameters pid=2098255)\u001b[0m loss: 0.000\u001b[32m [repeated 12x across cluster]\u001b[0m\n"
     ]
    },
    {
     "name": "stderr",
     "output_type": "stream",
     "text": [
      "Val Epoch:59: 0it [00:00, ?it/s]084169)\u001b[0m \n",
      "Val Epoch:74: 41it [00:01, 38.45it/s]\u001b[32m [repeated 10x across cluster]\u001b[0m\n"
     ]
    },
    {
     "name": "stdout",
     "output_type": "stream",
     "text": [
      "\u001b[36m(tune_with_parameters pid=2098255)\u001b[0m loss: 0.000\u001b[32m [repeated 15x across cluster]\u001b[0m\n"
     ]
    },
    {
     "name": "stderr",
     "output_type": "stream",
     "text": [
      "Val Epoch:75: 0it [00:00, ?it/s]098255)\u001b[0m \n",
      "Val Epoch:75: 28it [00:00, 39.11it/s]\u001b[32m [repeated 23x across cluster]\u001b[0m\n"
     ]
    },
    {
     "name": "stdout",
     "output_type": "stream",
     "text": [
      "\u001b[36m(tune_with_parameters pid=2098255)\u001b[0m loss: 0.000\u001b[32m [repeated 9x across cluster]\u001b[0m\n",
      "\u001b[36m(tune_with_parameters pid=2084169)\u001b[0m loss: 0.000\u001b[32m [repeated 17x across cluster]\u001b[0m\n"
     ]
    },
    {
     "name": "stderr",
     "output_type": "stream",
     "text": [
      "Val Epoch:76: 0it [00:00, ?it/s]098255)\u001b[0m \n",
      "Val Epoch:75: 47it [00:01, 37.08it/s]\u001b[32m [repeated 5x across cluster]\u001b[0m\n"
     ]
    },
    {
     "name": "stdout",
     "output_type": "stream",
     "text": [
      "\u001b[36m(tune_with_parameters pid=2098255)\u001b[0m loss: 0.000\u001b[32m [repeated 9x across cluster]\u001b[0m\n",
      "\u001b[36m(tune_with_parameters pid=2084169)\u001b[0m loss: 0.000\u001b[32m [repeated 14x across cluster]\u001b[0m\n"
     ]
    },
    {
     "name": "stderr",
     "output_type": "stream",
     "text": [
      "Val Epoch:77: 0it [00:00, ?it/s]\u001b[32m [repeated 2x across cluster]\u001b[0m\n",
      "Val Epoch:60: 47it [00:02, 17.37it/s]\u001b[32m [repeated 27x across cluster]\u001b[0m\n"
     ]
    },
    {
     "name": "stdout",
     "output_type": "stream",
     "text": [
      "\u001b[36m(tune_with_parameters pid=2098255)\u001b[0m loss: 0.000\u001b[32m [repeated 11x across cluster]\u001b[0m\n"
     ]
    },
    {
     "name": "stderr",
     "output_type": "stream",
     "text": [
      "Val Epoch:61: 0it [00:00, ?it/s]084169)\u001b[0m \n",
      "Val Epoch:77: 47it [00:01, 27.96it/s]\u001b[32m [repeated 12x across cluster]\u001b[0m\n"
     ]
    },
    {
     "name": "stdout",
     "output_type": "stream",
     "text": [
      "\u001b[36m(tune_with_parameters pid=2098255)\u001b[0m loss: 0.000\u001b[32m [repeated 15x across cluster]\u001b[0m\n"
     ]
    },
    {
     "name": "stderr",
     "output_type": "stream",
     "text": [
      "Val Epoch:78: 0it [00:00, ?it/s]098255)\u001b[0m \n",
      "Val Epoch:78: 26it [00:01, 32.78it/s]\u001b[32m [repeated 24x across cluster]\u001b[0m\n"
     ]
    },
    {
     "name": "stdout",
     "output_type": "stream",
     "text": [
      "\u001b[36m(tune_with_parameters pid=2084169)\u001b[0m loss: 0.000\u001b[32m [repeated 9x across cluster]\u001b[0m\n",
      "\u001b[36m(tune_with_parameters pid=2098255)\u001b[0m loss: 0.000\u001b[32m [repeated 18x across cluster]\u001b[0m\n"
     ]
    },
    {
     "name": "stderr",
     "output_type": "stream",
     "text": [
      "Val Epoch:79: 0it [00:00, ?it/s]098255)\u001b[0m \n",
      "Val Epoch:78: 47it [00:01, 27.07it/s]\u001b[32m [repeated 5x across cluster]\u001b[0m\n",
      "Val Epoch:62: 0it [00:00, ?it/s]084169)\u001b[0m \n"
     ]
    },
    {
     "name": "stdout",
     "output_type": "stream",
     "text": [
      "\u001b[36m(tune_with_parameters pid=2098255)\u001b[0m loss: 0.000\u001b[32m [repeated 9x across cluster]\u001b[0m\n",
      "\u001b[36m(tune_with_parameters pid=2098255)\u001b[0m loss: 0.000\u001b[32m [repeated 15x across cluster]\u001b[0m\n"
     ]
    },
    {
     "name": "stderr",
     "output_type": "stream",
     "text": [
      "Val Epoch:62: 47it [00:02, 18.22it/s]\u001b[32m [repeated 27x across cluster]\u001b[0m\n",
      "Val Epoch:80: 0it [00:00, ?it/s]098255)\u001b[0m \n"
     ]
    },
    {
     "name": "stdout",
     "output_type": "stream",
     "text": [
      "\u001b[36m(tune_with_parameters pid=2084169)\u001b[0m loss: 0.000\u001b[32m [repeated 11x across cluster]\u001b[0m\n"
     ]
    },
    {
     "name": "stderr",
     "output_type": "stream",
     "text": [
      "Val Epoch:63: 0it [00:00, ?it/s]084169)\u001b[0m \n",
      "Val Epoch:80: 47it [00:01, 31.05it/s]\u001b[32m [repeated 11x across cluster]\u001b[0m\n"
     ]
    },
    {
     "name": "stdout",
     "output_type": "stream",
     "text": [
      "\u001b[36m(tune_with_parameters pid=2098255)\u001b[0m loss: 0.000\u001b[32m [repeated 14x across cluster]\u001b[0m\n"
     ]
    },
    {
     "name": "stderr",
     "output_type": "stream",
     "text": [
      "Val Epoch:81: 0it [00:00, ?it/s]098255)\u001b[0m \n",
      "Val Epoch:81: 17it [00:00, 28.07it/s]\u001b[32m [repeated 20x across cluster]\u001b[0m\n"
     ]
    },
    {
     "name": "stdout",
     "output_type": "stream",
     "text": [
      "\u001b[36m(tune_with_parameters pid=2098255)\u001b[0m loss: 0.000\u001b[32m [repeated 10x across cluster]\u001b[0m\n",
      "\u001b[36m(tune_with_parameters pid=2084169)\u001b[0m loss: 0.000\u001b[32m [repeated 17x across cluster]\u001b[0m\n"
     ]
    },
    {
     "name": "stderr",
     "output_type": "stream",
     "text": [
      "Val Epoch:82: 0it [00:00, ?it/s]098255)\u001b[0m \n",
      "Val Epoch:81: 47it [00:01, 25.55it/s]\u001b[32m [repeated 8x across cluster]\u001b[0m\n"
     ]
    },
    {
     "name": "stdout",
     "output_type": "stream",
     "text": [
      "\u001b[36m(tune_with_parameters pid=2098255)\u001b[0m loss: 0.000\u001b[32m [repeated 9x across cluster]\u001b[0m\n",
      "\u001b[36m(tune_with_parameters pid=2098255)\u001b[0m loss: 0.000\u001b[32m [repeated 16x across cluster]\u001b[0m\n"
     ]
    },
    {
     "name": "stderr",
     "output_type": "stream",
     "text": [
      "Val Epoch:83: 0it [00:00, ?it/s]\u001b[32m [repeated 2x across cluster]\u001b[0m\n",
      "Val Epoch:64: 47it [00:02, 19.22it/s]\u001b[32m [repeated 28x across cluster]\u001b[0m\n"
     ]
    },
    {
     "name": "stdout",
     "output_type": "stream",
     "text": [
      "\u001b[36m(tune_with_parameters pid=2098255)\u001b[0m loss: 0.000\u001b[32m [repeated 10x across cluster]\u001b[0m\n"
     ]
    },
    {
     "name": "stderr",
     "output_type": "stream",
     "text": [
      "Val Epoch:65: 0it [00:00, ?it/s]084169)\u001b[0m \n",
      "Val Epoch:83: 47it [00:01, 28.89it/s]\u001b[32m [repeated 12x across cluster]\u001b[0m\n"
     ]
    },
    {
     "name": "stdout",
     "output_type": "stream",
     "text": [
      "\u001b[36m(tune_with_parameters pid=2084169)\u001b[0m loss: 0.000\u001b[32m [repeated 14x across cluster]\u001b[0m\n"
     ]
    },
    {
     "name": "stderr",
     "output_type": "stream",
     "text": [
      "Val Epoch:84: 0it [00:00, ?it/s]098255)\u001b[0m \n",
      "Val Epoch:84: 16it [00:01, 21.17it/s]\u001b[32m [repeated 21x across cluster]\u001b[0m\n"
     ]
    },
    {
     "name": "stdout",
     "output_type": "stream",
     "text": [
      "\u001b[36m(tune_with_parameters pid=2098255)\u001b[0m loss: 0.000\u001b[32m [repeated 12x across cluster]\u001b[0m\n",
      "\u001b[36m(tune_with_parameters pid=2098255)\u001b[0m loss: 0.000\u001b[32m [repeated 17x across cluster]\u001b[0m\n"
     ]
    },
    {
     "name": "stderr",
     "output_type": "stream",
     "text": [
      "Val Epoch:85: 0it [00:00, ?it/s]098255)\u001b[0m \n",
      "Val Epoch:84: 47it [00:02, 22.51it/s]\u001b[32m [repeated 7x across cluster]\u001b[0m\n",
      "Val Epoch:66: 0it [00:00, ?it/s]084169)\u001b[0m \n"
     ]
    },
    {
     "name": "stdout",
     "output_type": "stream",
     "text": [
      "\u001b[36m(tune_with_parameters pid=2098255)\u001b[0m loss: 0.000\u001b[32m [repeated 6x across cluster]\u001b[0m\n",
      "\u001b[36m(tune_with_parameters pid=2084169)\u001b[0m loss: 0.000\u001b[32m [repeated 16x across cluster]\u001b[0m\n"
     ]
    },
    {
     "name": "stderr",
     "output_type": "stream",
     "text": [
      "Val Epoch:66: 47it [00:02, 17.43it/s]\u001b[32m [repeated 27x across cluster]\u001b[0m\n",
      "Val Epoch:86: 0it [00:00, ?it/s]098255)\u001b[0m \n"
     ]
    },
    {
     "name": "stdout",
     "output_type": "stream",
     "text": [
      "\u001b[36m(tune_with_parameters pid=2098255)\u001b[0m loss: 0.000\u001b[32m [repeated 11x across cluster]\u001b[0m\n"
     ]
    },
    {
     "name": "stderr",
     "output_type": "stream",
     "text": [
      "Val Epoch:67: 0it [00:00, ?it/s]084169)\u001b[0m \n",
      "Val Epoch:86: 47it [00:01, 34.24it/s]\u001b[32m [repeated 12x across cluster]\u001b[0m\n"
     ]
    },
    {
     "name": "stdout",
     "output_type": "stream",
     "text": [
      "\u001b[36m(tune_with_parameters pid=2084169)\u001b[0m loss: 0.000\u001b[32m [repeated 12x across cluster]\u001b[0m\n"
     ]
    },
    {
     "name": "stderr",
     "output_type": "stream",
     "text": [
      "Val Epoch:87: 0it [00:00, ?it/s]098255)\u001b[0m \n",
      "Val Epoch:67: 47it [00:02, 19.55it/s]\u001b[32m [repeated 16x across cluster]\u001b[0m\n"
     ]
    },
    {
     "name": "stdout",
     "output_type": "stream",
     "text": [
      "\u001b[36m(tune_with_parameters pid=2084169)\u001b[0m loss: 0.000\u001b[32m [repeated 11x across cluster]\u001b[0m\n"
     ]
    },
    {
     "name": "stderr",
     "output_type": "stream",
     "text": [
      "Val Epoch:68: 0it [00:00, ?it/s]084169)\u001b[0m \n",
      "Val Epoch:87: 47it [00:01, 31.26it/s]\u001b[32m [repeated 12x across cluster]\u001b[0m\n"
     ]
    },
    {
     "name": "stdout",
     "output_type": "stream",
     "text": [
      "\u001b[36m(tune_with_parameters pid=2084169)\u001b[0m loss: 0.000\u001b[32m [repeated 8x across cluster]\u001b[0m\n"
     ]
    },
    {
     "name": "stderr",
     "output_type": "stream",
     "text": [
      "\u001b[36m(tune_with_parameters pid=2144361)\u001b[0m /users/k23058970/miniforge3/envs/Training/lib/python3.10/site-packages/torch/nn/modules/lazy.py:181: UserWarning: Lazy modules are a new feature under heavy development so changes to the API or functionality can happen at any moment.\n",
      "\u001b[36m(tune_with_parameters pid=2144361)\u001b[0m   warnings.warn('Lazy modules are a new feature under heavy development '\n",
      "Val Epoch:68: 47it [00:01, 25.51it/s]\u001b[32m [repeated 11x across cluster]\u001b[0m\n"
     ]
    },
    {
     "name": "stdout",
     "output_type": "stream",
     "text": [
      "\u001b[36m(tune_with_parameters pid=2084169)\u001b[0m loss: 0.000\u001b[32m [repeated 8x across cluster]\u001b[0m\n"
     ]
    },
    {
     "name": "stderr",
     "output_type": "stream",
     "text": [
      "Val Epoch:69: 0it [00:00, ?it/s]084169)\u001b[0m \n",
      "Val Epoch:69: 1it [00:00,  2.60it/s]69)\u001b[0m \n",
      "Val Epoch:69: 3it [00:00,  7.12it/s]69)\u001b[0m \n"
     ]
    },
    {
     "name": "stdout",
     "output_type": "stream",
     "text": [
      "\u001b[36m(tune_with_parameters pid=2144361)\u001b[0m loss: 1.100\u001b[32m [repeated 20x across cluster]\u001b[0m\n"
     ]
    },
    {
     "name": "stderr",
     "output_type": "stream",
     "text": [
      "Val Epoch:69: 7it [00:00, 15.53it/s]69)\u001b[0m \n",
      "Val Epoch:69: 11it [00:00, 20.86it/s]9)\u001b[0m \n",
      "Val Epoch:69: 15it [00:00, 24.42it/s]9)\u001b[0m \n",
      "Val Epoch:69: 18it [00:01, 10.19it/s]9)\u001b[0m \n",
      "Val Epoch:69: 21it [00:01, 12.32it/s]9)\u001b[0m \n",
      "\u001b[36m(tune_with_parameters pid=2144361)\u001b[0m /scratch/users/k23058970/Model training/training_insilico_lrcn.py:63: RuntimeWarning: invalid value encountered in divide\n",
      "\u001b[36m(tune_with_parameters pid=2144361)\u001b[0m   self.precision = self.tp/(self.tp + self.fp)\n"
     ]
    },
    {
     "name": "stdout",
     "output_type": "stream",
     "text": [
      "\u001b[36m(tune_with_parameters pid=2144361)\u001b[0m /tmp/tmpgjdp58nk/checkpoint.pt\n"
     ]
    },
    {
     "name": "stderr",
     "output_type": "stream",
     "text": [
      "\u001b[36m(tune_with_parameters pid=2144361)\u001b[0m Checkpoint successfully created at: Checkpoint(filesystem=local, path=/scratch/users/k23058970/Model training/results/Single Peak LRCN Null/tune_with_parameters_2024-08-19_13-29-31/tune_with_parameters_c1630_00006_6_dp=0.2000,k1=5,k2=3,k3=3,k4=3,lr=0.0827_2024-08-19_13-30-01/checkpoint_000000)\n"
     ]
    },
    {
     "name": "stdout",
     "output_type": "stream",
     "text": [
      "\u001b[36m(tune_with_parameters pid=2084169)\u001b[0m loss: 0.000\u001b[32m [repeated 9x across cluster]\u001b[0m\n"
     ]
    },
    {
     "name": "stderr",
     "output_type": "stream",
     "text": [
      "Val Epoch:1: 0it [00:00, ?it/s]\u001b[32m [repeated 2x across cluster]\u001b[0m\n",
      "Val Epoch:0: 47it [00:01, 27.63it/s]\u001b[32m [repeated 16x across cluster]\u001b[0m\n",
      "Val Epoch:1: 19it [00:00, 29.15it/s]61)\u001b[0m \n"
     ]
    },
    {
     "name": "stdout",
     "output_type": "stream",
     "text": [
      "\u001b[36m(tune_with_parameters pid=2144361)\u001b[0m /tmp/tmpwxuhap11/checkpoint.pt\n"
     ]
    },
    {
     "name": "stderr",
     "output_type": "stream",
     "text": [
      "\u001b[36m(tune_with_parameters pid=2144361)\u001b[0m Checkpoint successfully created at: Checkpoint(filesystem=local, path=/scratch/users/k23058970/Model training/results/Single Peak LRCN Null/tune_with_parameters_2024-08-19_13-29-31/tune_with_parameters_c1630_00006_6_dp=0.2000,k1=5,k2=3,k3=3,k4=3,lr=0.0827_2024-08-19_13-30-01/checkpoint_000001)\n"
     ]
    },
    {
     "name": "stdout",
     "output_type": "stream",
     "text": [
      "\u001b[36m(tune_with_parameters pid=2144361)\u001b[0m loss: 1.080\u001b[32m [repeated 18x across cluster]\u001b[0m\n"
     ]
    },
    {
     "name": "stderr",
     "output_type": "stream",
     "text": [
      "Val Epoch:2: 0it [00:00, ?it/s]2144361)\u001b[0m \n",
      "Val Epoch:1: 47it [00:01, 38.41it/s]\u001b[32m [repeated 7x across cluster]\u001b[0m\n",
      "Val Epoch:70: 0it [00:00, ?it/s]084169)\u001b[0m \n"
     ]
    },
    {
     "name": "stdout",
     "output_type": "stream",
     "text": [
      "\u001b[36m(tune_with_parameters pid=2144361)\u001b[0m /tmp/tmpogj89q4t/checkpoint.pt\n",
      "\u001b[36m(tune_with_parameters pid=2084169)\u001b[0m loss: 0.000\u001b[32m [repeated 19x across cluster]\u001b[0m\n"
     ]
    },
    {
     "name": "stderr",
     "output_type": "stream",
     "text": [
      "\u001b[36m(tune_with_parameters pid=2144361)\u001b[0m Checkpoint successfully created at: Checkpoint(filesystem=local, path=/scratch/users/k23058970/Model training/results/Single Peak LRCN Null/tune_with_parameters_2024-08-19_13-29-31/tune_with_parameters_c1630_00006_6_dp=0.2000,k1=5,k2=3,k3=3,k4=3,lr=0.0827_2024-08-19_13-30-01/checkpoint_000002)\n",
      "Val Epoch:70: 47it [00:02, 21.36it/s]\u001b[32m [repeated 23x across cluster]\u001b[0m\n",
      "Val Epoch:3: 0it [00:00, ?it/s]2144361)\u001b[0m \n"
     ]
    },
    {
     "name": "stdout",
     "output_type": "stream",
     "text": [
      "\u001b[36m(tune_with_parameters pid=2084169)\u001b[0m loss: 0.000\u001b[32m [repeated 21x across cluster]\u001b[0m\n",
      "\u001b[36m(tune_with_parameters pid=2144361)\u001b[0m /tmp/tmpygabh_j9/checkpoint.pt\n"
     ]
    },
    {
     "name": "stderr",
     "output_type": "stream",
     "text": [
      "\u001b[36m(tune_with_parameters pid=2144361)\u001b[0m Checkpoint successfully created at: Checkpoint(filesystem=local, path=/scratch/users/k23058970/Model training/results/Single Peak LRCN Null/tune_with_parameters_2024-08-19_13-29-31/tune_with_parameters_c1630_00006_6_dp=0.2000,k1=5,k2=3,k3=3,k4=3,lr=0.0827_2024-08-19_13-30-01/checkpoint_000003)\n"
     ]
    },
    {
     "name": "stdout",
     "output_type": "stream",
     "text": [
      "\u001b[36m(tune_with_parameters pid=2144361)\u001b[0m loss: 0.006\u001b[32m [repeated 21x across cluster]\u001b[0m\n"
     ]
    },
    {
     "name": "stderr",
     "output_type": "stream",
     "text": [
      "Val Epoch:4: 0it [00:00, ?it/s]2144361)\u001b[0m \n",
      "Val Epoch:3: 47it [00:01, 32.90it/s]\u001b[32m [repeated 9x across cluster]\u001b[0m\n"
     ]
    },
    {
     "name": "stdout",
     "output_type": "stream",
     "text": [
      "\u001b[36m(tune_with_parameters pid=2144361)\u001b[0m /tmp/tmpc6srv3e_/checkpoint.pt\n"
     ]
    },
    {
     "name": "stderr",
     "output_type": "stream",
     "text": [
      "\u001b[36m(tune_with_parameters pid=2144361)\u001b[0m Checkpoint successfully created at: Checkpoint(filesystem=local, path=/scratch/users/k23058970/Model training/results/Single Peak LRCN Null/tune_with_parameters_2024-08-19_13-29-31/tune_with_parameters_c1630_00006_6_dp=0.2000,k1=5,k2=3,k3=3,k4=3,lr=0.0827_2024-08-19_13-30-01/checkpoint_000004)\n"
     ]
    },
    {
     "name": "stdout",
     "output_type": "stream",
     "text": [
      "\u001b[36m(tune_with_parameters pid=2084169)\u001b[0m loss: 0.000\u001b[32m [repeated 9x across cluster]\u001b[0m\n"
     ]
    },
    {
     "name": "stderr",
     "output_type": "stream",
     "text": [
      "Val Epoch:5: 0it [00:00, ?it/s]\u001b[32m [repeated 2x across cluster]\u001b[0m\n",
      "Val Epoch:71: 47it [00:02, 15.82it/s]\u001b[32m [repeated 23x across cluster]\u001b[0m\n"
     ]
    },
    {
     "name": "stdout",
     "output_type": "stream",
     "text": [
      "\u001b[36m(tune_with_parameters pid=2144361)\u001b[0m /tmp/tmpip5ksd6m/checkpoint.pt\n"
     ]
    },
    {
     "name": "stderr",
     "output_type": "stream",
     "text": [
      "\u001b[36m(tune_with_parameters pid=2144361)\u001b[0m Checkpoint successfully created at: Checkpoint(filesystem=local, path=/scratch/users/k23058970/Model training/results/Single Peak LRCN Null/tune_with_parameters_2024-08-19_13-29-31/tune_with_parameters_c1630_00006_6_dp=0.2000,k1=5,k2=3,k3=3,k4=3,lr=0.0827_2024-08-19_13-30-01/checkpoint_000005)\n"
     ]
    },
    {
     "name": "stdout",
     "output_type": "stream",
     "text": [
      "\u001b[36m(tune_with_parameters pid=2144361)\u001b[0m loss: 0.001\u001b[32m [repeated 18x across cluster]\u001b[0m\n"
     ]
    },
    {
     "name": "stderr",
     "output_type": "stream",
     "text": [
      "Val Epoch:6: 0it [00:00, ?it/s]2144361)\u001b[0m \n",
      "Val Epoch:5: 47it [00:01, 29.27it/s]\u001b[32m [repeated 10x across cluster]\u001b[0m\n"
     ]
    },
    {
     "name": "stdout",
     "output_type": "stream",
     "text": [
      "\u001b[36m(tune_with_parameters pid=2084169)\u001b[0m loss: 0.000\u001b[32m [repeated 21x across cluster]\u001b[0m\n"
     ]
    },
    {
     "name": "stderr",
     "output_type": "stream",
     "text": [
      "Val Epoch:72: 0it [00:00, ?it/s]084169)\u001b[0m \n",
      "Val Epoch:72: 44it [00:02, 20.63it/s]\u001b[32m [repeated 23x across cluster]\u001b[0m\n"
     ]
    },
    {
     "name": "stdout",
     "output_type": "stream",
     "text": [
      "\u001b[36m(tune_with_parameters pid=2144361)\u001b[0m loss: 0.001\u001b[32m [repeated 16x across cluster]\u001b[0m\n"
     ]
    },
    {
     "name": "stderr",
     "output_type": "stream",
     "text": [
      "Val Epoch:7: 0it [00:00, ?it/s]2144361)\u001b[0m \n"
     ]
    },
    {
     "name": "stdout",
     "output_type": "stream",
     "text": [
      "\u001b[36m(tune_with_parameters pid=2144361)\u001b[0m loss: 0.001\u001b[32m [repeated 19x across cluster]\u001b[0m\n"
     ]
    },
    {
     "name": "stderr",
     "output_type": "stream",
     "text": [
      "Val Epoch:8: 0it [00:00, ?it/s]2144361)\u001b[0m \n",
      "Val Epoch:7: 47it [00:01, 38.27it/s]\u001b[32m [repeated 10x across cluster]\u001b[0m\n"
     ]
    },
    {
     "name": "stdout",
     "output_type": "stream",
     "text": [
      "\u001b[36m(tune_with_parameters pid=2144361)\u001b[0m /tmp/tmpipekccdr/checkpoint.pt\n"
     ]
    },
    {
     "name": "stderr",
     "output_type": "stream",
     "text": [
      "\u001b[36m(tune_with_parameters pid=2144361)\u001b[0m Checkpoint successfully created at: Checkpoint(filesystem=local, path=/scratch/users/k23058970/Model training/results/Single Peak LRCN Null/tune_with_parameters_2024-08-19_13-29-31/tune_with_parameters_c1630_00006_6_dp=0.2000,k1=5,k2=3,k3=3,k4=3,lr=0.0827_2024-08-19_13-30-01/checkpoint_000006)\n"
     ]
    },
    {
     "name": "stdout",
     "output_type": "stream",
     "text": [
      "\u001b[36m(tune_with_parameters pid=2144361)\u001b[0m loss: 0.001\u001b[32m [repeated 16x across cluster]\u001b[0m\n"
     ]
    },
    {
     "name": "stderr",
     "output_type": "stream",
     "text": [
      "Val Epoch:73: 0it [00:00, ?it/s]084169)\u001b[0m \n",
      "Val Epoch:73: 35it [00:01, 29.32it/s]\u001b[32m [repeated 19x across cluster]\u001b[0m\n",
      "Val Epoch:73: 47it [00:01, 28.24it/s]9)\u001b[0m \n",
      "Val Epoch:9: 0it [00:00, ?it/s]2144361)\u001b[0m \n"
     ]
    },
    {
     "name": "stdout",
     "output_type": "stream",
     "text": [
      "\u001b[36m(tune_with_parameters pid=2144361)\u001b[0m loss: 0.000\u001b[32m [repeated 13x across cluster]\u001b[0m\n"
     ]
    },
    {
     "name": "stderr",
     "output_type": "stream",
     "text": [
      "Val Epoch:10: 0it [00:00, ?it/s]144361)\u001b[0m \n",
      "Val Epoch:9: 47it [00:01, 39.92it/s]\u001b[32m [repeated 11x across cluster]\u001b[0m\n"
     ]
    },
    {
     "name": "stdout",
     "output_type": "stream",
     "text": [
      "\u001b[36m(tune_with_parameters pid=2084169)\u001b[0m loss: 0.000\u001b[32m [repeated 22x across cluster]\u001b[0m\n"
     ]
    },
    {
     "name": "stderr",
     "output_type": "stream",
     "text": [
      "Val Epoch:74: 0it [00:00, ?it/s]084169)\u001b[0m \n",
      "Val Epoch:10: 47it [00:01, 31.89it/s]\u001b[32m [repeated 10x across cluster]\u001b[0m\n",
      "Val Epoch:11: 47it [00:01, 29.10it/s]1)\u001b[0m \n"
     ]
    },
    {
     "name": "stdout",
     "output_type": "stream",
     "text": [
      "\u001b[36m(tune_with_parameters pid=2084169)\u001b[0m loss: 0.000\u001b[32m [repeated 20x across cluster]\u001b[0m\n"
     ]
    },
    {
     "name": "stderr",
     "output_type": "stream",
     "text": [
      "Val Epoch:12: 0it [00:00, ?it/s]\u001b[32m [repeated 2x across cluster]\u001b[0m\n",
      "Val Epoch:11: 42it [00:01, 37.36it/s]\u001b[32m [repeated 23x across cluster]\u001b[0m\n"
     ]
    },
    {
     "name": "stdout",
     "output_type": "stream",
     "text": [
      "\u001b[36m(tune_with_parameters pid=2084169)\u001b[0m loss: 0.000\u001b[32m [repeated 21x across cluster]\u001b[0m\n"
     ]
    },
    {
     "name": "stderr",
     "output_type": "stream",
     "text": [
      "Val Epoch:13: 0it [00:00, ?it/s]144361)\u001b[0m \n",
      "Val Epoch:12: 47it [00:00, 54.08it/s]\u001b[32m [repeated 8x across cluster]\u001b[0m\n"
     ]
    },
    {
     "name": "stdout",
     "output_type": "stream",
     "text": [
      "\u001b[36m(tune_with_parameters pid=2084169)\u001b[0m loss: 0.000\u001b[32m [repeated 22x across cluster]\u001b[0m\n"
     ]
    },
    {
     "name": "stderr",
     "output_type": "stream",
     "text": [
      "Val Epoch:75: 0it [00:00, ?it/s]084169)\u001b[0m \n"
     ]
    },
    {
     "name": "stdout",
     "output_type": "stream",
     "text": [
      "\u001b[36m(tune_with_parameters pid=2144361)\u001b[0m loss: 0.000\u001b[32m [repeated 11x across cluster]\u001b[0m\n"
     ]
    },
    {
     "name": "stderr",
     "output_type": "stream",
     "text": [
      "Val Epoch:75: 47it [00:02, 17.54it/s]\u001b[32m [repeated 25x across cluster]\u001b[0m\n",
      "Val Epoch:14: 0it [00:00, ?it/s]144361)\u001b[0m \n",
      "Val Epoch:14: 47it [00:01, 41.05it/s]1)\u001b[0m \n"
     ]
    },
    {
     "name": "stdout",
     "output_type": "stream",
     "text": [
      "\u001b[36m(tune_with_parameters pid=2144361)\u001b[0m loss: 0.000\u001b[32m [repeated 17x across cluster]\u001b[0m\n",
      "\u001b[36m(tune_with_parameters pid=2084169)\u001b[0m \n"
     ]
    },
    {
     "name": "stderr",
     "output_type": "stream",
     "text": [
      "Val Epoch:15: 0it [00:00, ?it/s]144361)\u001b[0m \n",
      "Val Epoch:14: 40it [00:00, 51.53it/s]\u001b[32m [repeated 8x across cluster]\u001b[0m\n"
     ]
    },
    {
     "name": "stdout",
     "output_type": "stream",
     "text": [
      "\u001b[36m(tune_with_parameters pid=2144361)\u001b[0m loss: 0.000\u001b[32m [repeated 18x across cluster]\u001b[0m\n"
     ]
    },
    {
     "name": "stderr",
     "output_type": "stream",
     "text": [
      "Val Epoch:76: 0it [00:00, ?it/s]084169)\u001b[0m \n",
      "Val Epoch:76: 47it [00:02, 21.23it/s]\u001b[32m [repeated 23x across cluster]\u001b[0m\n",
      "Val Epoch:16: 0it [00:00, ?it/s]144361)\u001b[0m \n"
     ]
    },
    {
     "name": "stdout",
     "output_type": "stream",
     "text": [
      "\u001b[36m(tune_with_parameters pid=2084169)\u001b[0m loss: 0.000\u001b[32m [repeated 18x across cluster]\u001b[0m\n"
     ]
    },
    {
     "name": "stderr",
     "output_type": "stream",
     "text": [
      "Val Epoch:17: 0it [00:00, ?it/s]144361)\u001b[0m \n",
      "Val Epoch:16: 47it [00:01, 35.12it/s]\u001b[32m [repeated 9x across cluster]\u001b[0m\n"
     ]
    },
    {
     "name": "stdout",
     "output_type": "stream",
     "text": [
      "\u001b[36m(tune_with_parameters pid=2084169)\u001b[0m loss: 0.000\u001b[32m [repeated 23x across cluster]\u001b[0m\n"
     ]
    },
    {
     "name": "stderr",
     "output_type": "stream",
     "text": [
      "Val Epoch:77: 0it [00:00, ?it/s]084169)\u001b[0m \n",
      "Val Epoch:77: 25it [00:01, 29.58it/s]\u001b[32m [repeated 16x across cluster]\u001b[0m\n"
     ]
    },
    {
     "name": "stdout",
     "output_type": "stream",
     "text": [
      "\u001b[36m(tune_with_parameters pid=2144361)\u001b[0m loss: 0.000\u001b[32m [repeated 18x across cluster]\u001b[0m\n",
      "\u001b[36m(tune_with_parameters pid=2144361)\u001b[0m loss: 0.000\u001b[32m [repeated 15x across cluster]\u001b[0m\n"
     ]
    },
    {
     "name": "stderr",
     "output_type": "stream",
     "text": [
      "Val Epoch:19: 0it [00:00, ?it/s]\u001b[32m [repeated 2x across cluster]\u001b[0m\n",
      "Val Epoch:18: 47it [00:01, 35.67it/s]\u001b[32m [repeated 16x across cluster]\u001b[0m\n",
      "Val Epoch:19: 47it [00:01, 40.26it/s]1)\u001b[0m \n"
     ]
    },
    {
     "name": "stdout",
     "output_type": "stream",
     "text": [
      "\u001b[36m(tune_with_parameters pid=2144361)\u001b[0m loss: 0.000\u001b[32m [repeated 19x across cluster]\u001b[0m\n"
     ]
    },
    {
     "name": "stderr",
     "output_type": "stream",
     "text": [
      "Val Epoch:78: 0it [00:00, ?it/s]084169)\u001b[0m \n",
      "Val Epoch:19: 38it [00:00, 42.95it/s]\u001b[32m [repeated 8x across cluster]\u001b[0m\n",
      "Val Epoch:20: 0it [00:00, ?it/s]144361)\u001b[0m \n"
     ]
    },
    {
     "name": "stdout",
     "output_type": "stream",
     "text": [
      "\u001b[36m(tune_with_parameters pid=2144361)\u001b[0m loss: 0.000\u001b[32m [repeated 13x across cluster]\u001b[0m\n"
     ]
    },
    {
     "name": "stderr",
     "output_type": "stream",
     "text": [
      "Val Epoch:21: 0it [00:00, ?it/s]144361)\u001b[0m \n",
      "Val Epoch:78: 47it [00:02, 15.72it/s]\u001b[32m [repeated 25x across cluster]\u001b[0m\n"
     ]
    },
    {
     "name": "stdout",
     "output_type": "stream",
     "text": [
      "\u001b[36m(tune_with_parameters pid=2084169)\u001b[0m loss: 0.000\u001b[32m [repeated 21x across cluster]\u001b[0m\n"
     ]
    },
    {
     "name": "stderr",
     "output_type": "stream",
     "text": [
      "Val Epoch:21: 47it [00:01, 55.23it/s]1)\u001b[0m \n"
     ]
    },
    {
     "name": "stdout",
     "output_type": "stream",
     "text": [
      "\u001b[36m(tune_with_parameters pid=2084169)\u001b[0m loss: 0.000\u001b[32m [repeated 21x across cluster]\u001b[0m\n"
     ]
    },
    {
     "name": "stderr",
     "output_type": "stream",
     "text": [
      "Val Epoch:22: 0it [00:00, ?it/s]144361)\u001b[0m \n",
      "Val Epoch:21: 47it [00:01, 39.98it/s]\u001b[32m [repeated 8x across cluster]\u001b[0m\n"
     ]
    },
    {
     "name": "stdout",
     "output_type": "stream",
     "text": [
      "\u001b[36m(tune_with_parameters pid=2144361)\u001b[0m loss: 0.000\u001b[32m [repeated 12x across cluster]\u001b[0m\n"
     ]
    },
    {
     "name": "stderr",
     "output_type": "stream",
     "text": [
      "Val Epoch:23: 0it [00:00, ?it/s]\u001b[32m [repeated 2x across cluster]\u001b[0m\n",
      "Val Epoch:79: 47it [00:02, 18.99it/s]\u001b[32m [repeated 24x across cluster]\u001b[0m\n"
     ]
    },
    {
     "name": "stdout",
     "output_type": "stream",
     "text": [
      "\u001b[36m(tune_with_parameters pid=2144361)\u001b[0m loss: 0.000\u001b[32m [repeated 19x across cluster]\u001b[0m\n"
     ]
    },
    {
     "name": "stderr",
     "output_type": "stream",
     "text": [
      "Val Epoch:24: 0it [00:00, ?it/s]144361)\u001b[0m \n",
      "Val Epoch:23: 47it [00:01, 30.27it/s]\u001b[32m [repeated 10x across cluster]\u001b[0m\n"
     ]
    },
    {
     "name": "stdout",
     "output_type": "stream",
     "text": [
      "\u001b[36m(tune_with_parameters pid=2084169)\u001b[0m loss: 0.000\u001b[32m [repeated 18x across cluster]\u001b[0m\n"
     ]
    },
    {
     "name": "stderr",
     "output_type": "stream",
     "text": [
      "Val Epoch:80: 0it [00:00, ?it/s]084169)\u001b[0m \n",
      "Val Epoch:80: 47it [00:01, 27.23it/s]9)\u001b[0m \n",
      "Val Epoch:80: 43it [00:01, 30.43it/s]\u001b[32m [repeated 23x across cluster]\u001b[0m\n"
     ]
    },
    {
     "name": "stdout",
     "output_type": "stream",
     "text": [
      "\u001b[36m(tune_with_parameters pid=2084169)\u001b[0m loss: 0.000\u001b[32m [repeated 16x across cluster]\u001b[0m\n",
      "\u001b[36m(tune_with_parameters pid=2084169)\u001b[0m loss: 0.000\u001b[32m [repeated 23x across cluster]\u001b[0m\n"
     ]
    },
    {
     "name": "stderr",
     "output_type": "stream",
     "text": [
      "Val Epoch:26: 0it [00:00, ?it/s]\u001b[32m [repeated 2x across cluster]\u001b[0m\n",
      "Val Epoch:25: 47it [00:01, 35.80it/s]\u001b[32m [repeated 9x across cluster]\u001b[0m\n",
      "Val Epoch:81: 0it [00:00, ?it/s]084169)\u001b[0m \n",
      "Val Epoch:81: 38it [00:01, 28.70it/s]\u001b[32m [repeated 20x across cluster]\u001b[0m\n"
     ]
    },
    {
     "name": "stdout",
     "output_type": "stream",
     "text": [
      "\u001b[36m(tune_with_parameters pid=2144361)\u001b[0m loss: 0.000\u001b[32m [repeated 16x across cluster]\u001b[0m\n"
     ]
    },
    {
     "name": "stderr",
     "output_type": "stream",
     "text": [
      "Val Epoch:27: 0it [00:00, ?it/s]144361)\u001b[0m \n"
     ]
    },
    {
     "name": "stdout",
     "output_type": "stream",
     "text": [
      "\u001b[36m(tune_with_parameters pid=2144361)\u001b[0m loss: 0.000\u001b[32m [repeated 13x across cluster]\u001b[0m\n"
     ]
    },
    {
     "name": "stderr",
     "output_type": "stream",
     "text": [
      "Val Epoch:28: 0it [00:00, ?it/s]144361)\u001b[0m \n",
      "Val Epoch:27: 47it [00:01, 34.45it/s]\u001b[32m [repeated 12x across cluster]\u001b[0m\n"
     ]
    },
    {
     "name": "stdout",
     "output_type": "stream",
     "text": [
      "\u001b[36m(tune_with_parameters pid=2084169)\u001b[0m loss: 0.000\u001b[32m [repeated 18x across cluster]\u001b[0m\n"
     ]
    },
    {
     "name": "stderr",
     "output_type": "stream",
     "text": [
      "Val Epoch:82: 0it [00:00, ?it/s]084169)\u001b[0m \n",
      "Val Epoch:82: 1it [00:00,  3.10it/s]\u001b[32m [repeated 13x across cluster]\u001b[0m\n"
     ]
    },
    {
     "name": "stdout",
     "output_type": "stream",
     "text": [
      "\u001b[36m(tune_with_parameters pid=2084169)\u001b[0m loss: 0.000\u001b[32m [repeated 18x across cluster]\u001b[0m\n"
     ]
    },
    {
     "name": "stderr",
     "output_type": "stream",
     "text": [
      "Val Epoch:30: 0it [00:00, ?it/s]\u001b[32m [repeated 2x across cluster]\u001b[0m\n",
      "Val Epoch:29: 47it [00:01, 29.98it/s]\u001b[32m [repeated 23x across cluster]\u001b[0m\n"
     ]
    },
    {
     "name": "stdout",
     "output_type": "stream",
     "text": [
      "\u001b[36m(tune_with_parameters pid=2084169)\u001b[0m loss: 0.000\u001b[32m [repeated 23x across cluster]\u001b[0m\n"
     ]
    },
    {
     "name": "stderr",
     "output_type": "stream",
     "text": [
      "Val Epoch:83: 0it [00:00, ?it/s]084169)\u001b[0m \n",
      "Val Epoch:30: 47it [00:01, 39.69it/s]\u001b[32m [repeated 9x across cluster]\u001b[0m\n"
     ]
    },
    {
     "name": "stdout",
     "output_type": "stream",
     "text": [
      "\u001b[36m(tune_with_parameters pid=2144361)\u001b[0m loss: 0.000\u001b[32m [repeated 21x across cluster]\u001b[0m\n"
     ]
    },
    {
     "name": "stderr",
     "output_type": "stream",
     "text": [
      "Val Epoch:31: 0it [00:00, ?it/s]144361)\u001b[0m \n"
     ]
    },
    {
     "name": "stdout",
     "output_type": "stream",
     "text": [
      "\u001b[36m(tune_with_parameters pid=2144361)\u001b[0m loss: 0.000\u001b[32m [repeated 11x across cluster]\u001b[0m\n"
     ]
    },
    {
     "name": "stderr",
     "output_type": "stream",
     "text": [
      "Val Epoch:32: 0it [00:00, ?it/s]144361)\u001b[0m \n",
      "Val Epoch:83: 47it [00:02, 19.65it/s]\u001b[32m [repeated 22x across cluster]\u001b[0m\n"
     ]
    },
    {
     "name": "stdout",
     "output_type": "stream",
     "text": [
      "\u001b[36m(tune_with_parameters pid=2144361)\u001b[0m loss: 0.000\u001b[32m [repeated 18x across cluster]\u001b[0m\n"
     ]
    },
    {
     "name": "stderr",
     "output_type": "stream",
     "text": [
      "Val Epoch:33: 0it [00:00, ?it/s]144361)\u001b[0m \n",
      "Val Epoch:32: 47it [00:01, 42.79it/s]\u001b[32m [repeated 9x across cluster]\u001b[0m\n"
     ]
    },
    {
     "name": "stdout",
     "output_type": "stream",
     "text": [
      "\u001b[36m(tune_with_parameters pid=2144361)\u001b[0m loss: 0.000\u001b[32m [repeated 17x across cluster]\u001b[0m\n"
     ]
    },
    {
     "name": "stderr",
     "output_type": "stream",
     "text": [
      "Val Epoch:34: 0it [00:00, ?it/s]\u001b[32m [repeated 2x across cluster]\u001b[0m\n",
      "Val Epoch:84: 47it [00:02, 18.99it/s]\u001b[32m [repeated 24x across cluster]\u001b[0m\n"
     ]
    },
    {
     "name": "stdout",
     "output_type": "stream",
     "text": [
      "\u001b[36m(tune_with_parameters pid=2084169)\u001b[0m loss: 0.000\u001b[32m [repeated 19x across cluster]\u001b[0m\n"
     ]
    },
    {
     "name": "stderr",
     "output_type": "stream",
     "text": [
      "Val Epoch:35: 0it [00:00, ?it/s]144361)\u001b[0m \n",
      "Val Epoch:34: 47it [00:01, 41.24it/s]\u001b[32m [repeated 9x across cluster]\u001b[0m\n"
     ]
    },
    {
     "name": "stdout",
     "output_type": "stream",
     "text": [
      "\u001b[36m(tune_with_parameters pid=2084169)\u001b[0m loss: 0.000\u001b[32m [repeated 22x across cluster]\u001b[0m\n"
     ]
    },
    {
     "name": "stderr",
     "output_type": "stream",
     "text": [
      "Val Epoch:85: 0it [00:00, ?it/s]084169)\u001b[0m \n",
      "Val Epoch:85: 14it [00:00, 24.02it/s]\u001b[32m [repeated 14x across cluster]\u001b[0m\n"
     ]
    },
    {
     "name": "stdout",
     "output_type": "stream",
     "text": [
      "\u001b[36m(tune_with_parameters pid=2084169)\u001b[0m loss: 0.000\u001b[32m [repeated 19x across cluster]\u001b[0m\n"
     ]
    },
    {
     "name": "stderr",
     "output_type": "stream",
     "text": [
      "Val Epoch:37: 0it [00:00, ?it/s]\u001b[32m [repeated 2x across cluster]\u001b[0m\n",
      "Val Epoch:36: 47it [00:01, 31.55it/s]\u001b[32m [repeated 19x across cluster]\u001b[0m\n"
     ]
    },
    {
     "name": "stdout",
     "output_type": "stream",
     "text": [
      "\u001b[36m(tune_with_parameters pid=2084169)\u001b[0m loss: 0.000\u001b[32m [repeated 22x across cluster]\u001b[0m\n",
      "\u001b[36m(tune_with_parameters pid=2084169)\u001b[0m loss: 0.000\u001b[32m [repeated 19x across cluster]\u001b[0m\n"
     ]
    },
    {
     "name": "stderr",
     "output_type": "stream",
     "text": [
      "Val Epoch:86: 0it [00:00, ?it/s]084169)\u001b[0m \n",
      "Val Epoch:37: 47it [00:01, 32.06it/s]\u001b[32m [repeated 10x across cluster]\u001b[0m\n",
      "Val Epoch:38: 0it [00:00, ?it/s]144361)\u001b[0m \n",
      "Val Epoch:86: 47it [00:02, 16.18it/s]9)\u001b[0m \n"
     ]
    },
    {
     "name": "stdout",
     "output_type": "stream",
     "text": [
      "\u001b[36m(tune_with_parameters pid=2084169)\u001b[0m loss: 0.000\u001b[32m [repeated 10x across cluster]\u001b[0m\n",
      "\u001b[36m(tune_with_parameters pid=2144361)\u001b[0m \n"
     ]
    },
    {
     "name": "stderr",
     "output_type": "stream",
     "text": [
      "Val Epoch:39: 0it [00:00, ?it/s]144361)\u001b[0m \n",
      "Val Epoch:38: 47it [00:01, 26.22it/s]\u001b[32m [repeated 22x across cluster]\u001b[0m\n"
     ]
    },
    {
     "name": "stdout",
     "output_type": "stream",
     "text": [
      "\u001b[36m(tune_with_parameters pid=2144361)\u001b[0m loss: 0.000\u001b[32m [repeated 17x across cluster]\u001b[0m\n"
     ]
    },
    {
     "name": "stderr",
     "output_type": "stream",
     "text": [
      "Val Epoch:40: 0it [00:00, ?it/s]144361)\u001b[0m \n",
      "Val Epoch:39: 47it [00:01, 36.29it/s]\u001b[32m [repeated 9x across cluster]\u001b[0m\n",
      "Val Epoch:40: 11it [00:00, 35.83it/s]1)\u001b[0m \n"
     ]
    },
    {
     "name": "stdout",
     "output_type": "stream",
     "text": [
      "\u001b[36m(tune_with_parameters pid=2144361)\u001b[0m loss: 0.000\u001b[32m [repeated 22x across cluster]\u001b[0m\n"
     ]
    },
    {
     "name": "stderr",
     "output_type": "stream",
     "text": [
      "Val Epoch:41: 0it [00:00, ?it/s]\u001b[32m [repeated 2x across cluster]\u001b[0m\n",
      "Val Epoch:87: 47it [00:02, 19.20it/s]\u001b[32m [repeated 24x across cluster]\u001b[0m\n"
     ]
    },
    {
     "name": "stdout",
     "output_type": "stream",
     "text": [
      "\u001b[36m(tune_with_parameters pid=2084169)\u001b[0m loss: 0.000\u001b[32m [repeated 18x across cluster]\u001b[0m\n"
     ]
    },
    {
     "name": "stderr",
     "output_type": "stream",
     "text": [
      "Val Epoch:42: 0it [00:00, ?it/s]144361)\u001b[0m \n",
      "Val Epoch:41: 47it [00:01, 46.40it/s]\u001b[32m [repeated 9x across cluster]\u001b[0m\n"
     ]
    },
    {
     "name": "stdout",
     "output_type": "stream",
     "text": [
      "\u001b[36m(tune_with_parameters pid=2084169)\u001b[0m loss: 0.000\u001b[32m [repeated 22x across cluster]\u001b[0m\n"
     ]
    },
    {
     "name": "stderr",
     "output_type": "stream",
     "text": [
      "Val Epoch:88: 0it [00:00, ?it/s]084169)\u001b[0m \n",
      "Val Epoch:88: 33it [00:01, 30.14it/s]\u001b[32m [repeated 19x across cluster]\u001b[0m\n"
     ]
    },
    {
     "name": "stdout",
     "output_type": "stream",
     "text": [
      "\u001b[36m(tune_with_parameters pid=2144361)\u001b[0m loss: 0.000\u001b[32m [repeated 17x across cluster]\u001b[0m\n",
      "\u001b[36m(tune_with_parameters pid=2144361)\u001b[0m loss: 0.000\u001b[32m [repeated 17x across cluster]\u001b[0m\n"
     ]
    },
    {
     "name": "stderr",
     "output_type": "stream",
     "text": [
      "Val Epoch:44: 0it [00:00, ?it/s]\u001b[32m [repeated 2x across cluster]\u001b[0m\n",
      "Val Epoch:43: 47it [00:01, 46.64it/s]\u001b[32m [repeated 13x across cluster]\u001b[0m\n"
     ]
    },
    {
     "name": "stdout",
     "output_type": "stream",
     "text": [
      "\u001b[36m(tune_with_parameters pid=2084169)\u001b[0m loss: 0.000\u001b[32m [repeated 18x across cluster]\u001b[0m\n"
     ]
    },
    {
     "name": "stderr",
     "output_type": "stream",
     "text": [
      "Val Epoch:89: 0it [00:00, ?it/s]084169)\u001b[0m \n",
      "Val Epoch:89: 1it [00:00,  2.42it/s]\u001b[32m [repeated 11x across cluster]\u001b[0m\n",
      "Val Epoch:45: 0it [00:00, ?it/s]144361)\u001b[0m \n"
     ]
    },
    {
     "name": "stdout",
     "output_type": "stream",
     "text": [
      "\u001b[36m(tune_with_parameters pid=2084169)\u001b[0m loss: 0.000\u001b[32m [repeated 13x across cluster]\u001b[0m\n"
     ]
    },
    {
     "name": "stderr",
     "output_type": "stream",
     "text": [
      "Val Epoch:46: 0it [00:00, ?it/s]144361)\u001b[0m \n",
      "Val Epoch:45: 47it [00:02, 23.41it/s]\u001b[32m [repeated 22x across cluster]\u001b[0m\n"
     ]
    },
    {
     "name": "stdout",
     "output_type": "stream",
     "text": [
      "\u001b[36m(tune_with_parameters pid=2084169)\u001b[0m loss: 0.000\u001b[32m [repeated 22x across cluster]\u001b[0m\n"
     ]
    },
    {
     "name": "stderr",
     "output_type": "stream",
     "text": [
      "Val Epoch:47: 0it [00:00, ?it/s]144361)\u001b[0m \n",
      "Val Epoch:46: 47it [00:01, 32.64it/s]\u001b[32m [repeated 9x across cluster]\u001b[0m\n"
     ]
    },
    {
     "name": "stdout",
     "output_type": "stream",
     "text": [
      "\u001b[36m(tune_with_parameters pid=2084169)\u001b[0m loss: 0.000\u001b[32m [repeated 22x across cluster]\u001b[0m\n",
      "\u001b[36m(tune_with_parameters pid=2144361)\u001b[0m loss: 0.000\u001b[32m [repeated 10x across cluster]\u001b[0m\n"
     ]
    },
    {
     "name": "stderr",
     "output_type": "stream",
     "text": [
      "Val Epoch:48: 0it [00:00, ?it/s]\u001b[32m [repeated 2x across cluster]\u001b[0m\n",
      "Val Epoch:90: 47it [00:02, 16.17it/s]\u001b[32m [repeated 22x across cluster]\u001b[0m\n",
      "Val Epoch:48: 47it [00:01, 38.20it/s]1)\u001b[0m \n"
     ]
    },
    {
     "name": "stdout",
     "output_type": "stream",
     "text": [
      "\u001b[36m(tune_with_parameters pid=2084169)\u001b[0m loss: 0.000\u001b[32m [repeated 18x across cluster]\u001b[0m\n"
     ]
    },
    {
     "name": "stderr",
     "output_type": "stream",
     "text": [
      "Val Epoch:49: 0it [00:00, ?it/s]144361)\u001b[0m \n",
      "Val Epoch:48: 39it [00:01, 44.05it/s]\u001b[32m [repeated 8x across cluster]\u001b[0m\n",
      "Val Epoch:49: 47it [00:01, 33.77it/s]1)\u001b[0m \n",
      "Val Epoch:91: 0it [00:00, ?it/s]084169)\u001b[0m \n"
     ]
    },
    {
     "name": "stdout",
     "output_type": "stream",
     "text": [
      "\u001b[36m(tune_with_parameters pid=2144361)\u001b[0m loss: 0.000\u001b[32m [repeated 19x across cluster]\u001b[0m\n"
     ]
    },
    {
     "name": "stderr",
     "output_type": "stream",
     "text": [
      "Val Epoch:91: 47it [00:02, 21.47it/s]\u001b[32m [repeated 22x across cluster]\u001b[0m\n",
      "Val Epoch:50: 0it [00:00, ?it/s]144361)\u001b[0m \n"
     ]
    },
    {
     "name": "stdout",
     "output_type": "stream",
     "text": [
      "\u001b[36m(tune_with_parameters pid=2084169)\u001b[0m loss: 0.000\u001b[32m [repeated 18x across cluster]\u001b[0m\n"
     ]
    },
    {
     "name": "stderr",
     "output_type": "stream",
     "text": [
      "Val Epoch:51: 0it [00:00, ?it/s]144361)\u001b[0m \n",
      "Val Epoch:50: 47it [00:01, 46.83it/s]\u001b[32m [repeated 9x across cluster]\u001b[0m\n"
     ]
    },
    {
     "name": "stdout",
     "output_type": "stream",
     "text": [
      "\u001b[36m(tune_with_parameters pid=2084169)\u001b[0m loss: 0.000\u001b[32m [repeated 22x across cluster]\u001b[0m\n"
     ]
    },
    {
     "name": "stderr",
     "output_type": "stream",
     "text": [
      "Val Epoch:92: 0it [00:00, ?it/s]084169)\u001b[0m \n",
      "Val Epoch:92: 42it [00:01, 29.35it/s]\u001b[32m [repeated 22x across cluster]\u001b[0m\n",
      "Val Epoch:92: 47it [00:02, 23.08it/s]9)\u001b[0m \n"
     ]
    },
    {
     "name": "stdout",
     "output_type": "stream",
     "text": [
      "\u001b[36m(tune_with_parameters pid=2084169)\u001b[0m loss: 0.000\u001b[32m [repeated 16x across cluster]\u001b[0m\n"
     ]
    },
    {
     "name": "stderr",
     "output_type": "stream",
     "text": [
      "Val Epoch:52: 0it [00:00, ?it/s]144361)\u001b[0m \n"
     ]
    },
    {
     "name": "stdout",
     "output_type": "stream",
     "text": [
      "\u001b[36m(tune_with_parameters pid=2144361)\u001b[0m loss: 0.000\u001b[32m [repeated 17x across cluster]\u001b[0m\n"
     ]
    },
    {
     "name": "stderr",
     "output_type": "stream",
     "text": [
      "Val Epoch:53: 0it [00:00, ?it/s]144361)\u001b[0m \n",
      "Val Epoch:52: 47it [00:01, 37.59it/s]\u001b[32m [repeated 9x across cluster]\u001b[0m\n"
     ]
    },
    {
     "name": "stdout",
     "output_type": "stream",
     "text": [
      "\u001b[36m(tune_with_parameters pid=2144361)\u001b[0m loss: 0.000\u001b[32m [repeated 17x across cluster]\u001b[0m\n"
     ]
    },
    {
     "name": "stderr",
     "output_type": "stream",
     "text": [
      "Val Epoch:93: 0it [00:00, ?it/s]084169)\u001b[0m \n",
      "Val Epoch:53: 47it [00:01, 28.42it/s]\u001b[32m [repeated 9x across cluster]\u001b[0m\n"
     ]
    },
    {
     "name": "stdout",
     "output_type": "stream",
     "text": [
      "\u001b[36m(tune_with_parameters pid=2144361)\u001b[0m loss: 0.000\u001b[32m [repeated 14x across cluster]\u001b[0m\n"
     ]
    },
    {
     "name": "stderr",
     "output_type": "stream",
     "text": [
      "Val Epoch:55: 0it [00:00, ?it/s]\u001b[32m [repeated 2x across cluster]\u001b[0m\n",
      "Val Epoch:54: 47it [00:01, 46.76it/s]\u001b[32m [repeated 22x across cluster]\u001b[0m\n"
     ]
    },
    {
     "name": "stdout",
     "output_type": "stream",
     "text": [
      "\u001b[36m(tune_with_parameters pid=2084169)\u001b[0m loss: 0.000\u001b[32m [repeated 23x across cluster]\u001b[0m\n"
     ]
    },
    {
     "name": "stderr",
     "output_type": "stream",
     "text": [
      "Val Epoch:56: 0it [00:00, ?it/s]144361)\u001b[0m \n",
      "Val Epoch:55: 47it [00:01, 31.35it/s]\u001b[32m [repeated 9x across cluster]\u001b[0m\n",
      "Val Epoch:94: 0it [00:00, ?it/s]084169)\u001b[0m \n",
      "Val Epoch:56: 47it [00:01, 26.00it/s]1)\u001b[0m \n"
     ]
    },
    {
     "name": "stdout",
     "output_type": "stream",
     "text": [
      "\u001b[36m(tune_with_parameters pid=2144361)\u001b[0m loss: 0.000\u001b[32m [repeated 22x across cluster]\u001b[0m\n"
     ]
    },
    {
     "name": "stderr",
     "output_type": "stream",
     "text": [
      "Val Epoch:94: 47it [00:02, 18.26it/s]\u001b[32m [repeated 24x across cluster]\u001b[0m\n",
      "Val Epoch:57: 0it [00:00, ?it/s]144361)\u001b[0m \n"
     ]
    },
    {
     "name": "stdout",
     "output_type": "stream",
     "text": [
      "\u001b[36m(tune_with_parameters pid=2084169)\u001b[0m loss: 0.000\u001b[32m [repeated 20x across cluster]\u001b[0m\n"
     ]
    },
    {
     "name": "stderr",
     "output_type": "stream",
     "text": [
      "Val Epoch:58: 0it [00:00, ?it/s]144361)\u001b[0m \n",
      "Val Epoch:57: 47it [00:01, 43.34it/s]\u001b[32m [repeated 9x across cluster]\u001b[0m\n"
     ]
    },
    {
     "name": "stdout",
     "output_type": "stream",
     "text": [
      "\u001b[36m(tune_with_parameters pid=2084169)\u001b[0m loss: 0.000\u001b[32m [repeated 21x across cluster]\u001b[0m\n"
     ]
    },
    {
     "name": "stderr",
     "output_type": "stream",
     "text": [
      "Val Epoch:95: 0it [00:00, ?it/s]084169)\u001b[0m \n",
      "Val Epoch:95: 42it [00:01, 32.13it/s]\u001b[32m [repeated 22x across cluster]\u001b[0m\n"
     ]
    },
    {
     "name": "stdout",
     "output_type": "stream",
     "text": [
      "\u001b[36m(tune_with_parameters pid=2084169)\u001b[0m loss: 0.000\u001b[32m [repeated 15x across cluster]\u001b[0m\n"
     ]
    },
    {
     "name": "stderr",
     "output_type": "stream",
     "text": [
      "Val Epoch:59: 0it [00:00, ?it/s]144361)\u001b[0m \n"
     ]
    },
    {
     "name": "stdout",
     "output_type": "stream",
     "text": [
      "\u001b[36m(tune_with_parameters pid=2144361)\u001b[0m loss: 0.000\u001b[32m [repeated 20x across cluster]\u001b[0m\n"
     ]
    },
    {
     "name": "stderr",
     "output_type": "stream",
     "text": [
      "Val Epoch:60: 0it [00:00, ?it/s]144361)\u001b[0m \n",
      "Val Epoch:59: 47it [00:01, 36.12it/s]\u001b[32m [repeated 12x across cluster]\u001b[0m\n"
     ]
    },
    {
     "name": "stdout",
     "output_type": "stream",
     "text": [
      "\u001b[36m(tune_with_parameters pid=2144361)\u001b[0m loss: 0.000\u001b[32m [repeated 18x across cluster]\u001b[0m\n"
     ]
    },
    {
     "name": "stderr",
     "output_type": "stream",
     "text": [
      "Val Epoch:96: 0it [00:00, ?it/s]084169)\u001b[0m \n",
      "Val Epoch:96: 9it [00:00, 26.69it/s]\u001b[32m [repeated 12x across cluster]\u001b[0m\n"
     ]
    },
    {
     "name": "stdout",
     "output_type": "stream",
     "text": [
      "\u001b[36m(tune_with_parameters pid=2144361)\u001b[0m loss: 0.000\u001b[32m [repeated 13x across cluster]\u001b[0m\n"
     ]
    },
    {
     "name": "stderr",
     "output_type": "stream",
     "text": [
      "Val Epoch:62: 0it [00:00, ?it/s]\u001b[32m [repeated 2x across cluster]\u001b[0m\n",
      "Val Epoch:61: 47it [00:01, 27.58it/s]\u001b[32m [repeated 20x across cluster]\u001b[0m\n",
      "Val Epoch:62: 47it [00:01, 39.19it/s]1)\u001b[0m \n"
     ]
    },
    {
     "name": "stdout",
     "output_type": "stream",
     "text": [
      "\u001b[36m(tune_with_parameters pid=2084169)\u001b[0m loss: 0.000\u001b[32m [repeated 22x across cluster]\u001b[0m\n"
     ]
    },
    {
     "name": "stderr",
     "output_type": "stream",
     "text": [
      "Val Epoch:97: 0it [00:00, ?it/s]084169)\u001b[0m \n",
      "Val Epoch:62: 39it [00:00, 50.34it/s]\u001b[32m [repeated 7x across cluster]\u001b[0m\n",
      "Val Epoch:63: 0it [00:00, ?it/s]144361)\u001b[0m \n"
     ]
    },
    {
     "name": "stdout",
     "output_type": "stream",
     "text": [
      "\u001b[36m(tune_with_parameters pid=2144361)\u001b[0m loss: 0.000\u001b[32m [repeated 21x across cluster]\u001b[0m\n"
     ]
    },
    {
     "name": "stderr",
     "output_type": "stream",
     "text": [
      "Val Epoch:64: 0it [00:00, ?it/s]144361)\u001b[0m \n",
      "Val Epoch:97: 47it [00:02, 20.73it/s]\u001b[32m [repeated 26x across cluster]\u001b[0m\n"
     ]
    },
    {
     "name": "stdout",
     "output_type": "stream",
     "text": [
      "\u001b[36m(tune_with_parameters pid=2144361)\u001b[0m loss: 0.000\u001b[32m [repeated 15x across cluster]\u001b[0m\n"
     ]
    },
    {
     "name": "stderr",
     "output_type": "stream",
     "text": [
      "Val Epoch:65: 0it [00:00, ?it/s]144361)\u001b[0m \n",
      "Val Epoch:64: 47it [00:01, 46.53it/s]\u001b[32m [repeated 8x across cluster]\u001b[0m\n",
      "Val Epoch:65: 47it [00:01, 39.10it/s]1)\u001b[0m \n"
     ]
    },
    {
     "name": "stdout",
     "output_type": "stream",
     "text": [
      "\u001b[36m(tune_with_parameters pid=2144361)\u001b[0m loss: 0.000\u001b[32m [repeated 15x across cluster]\u001b[0m\n"
     ]
    },
    {
     "name": "stderr",
     "output_type": "stream",
     "text": [
      "\u001b[36m(tune_with_parameters pid=2169643)\u001b[0m /users/k23058970/miniforge3/envs/Training/lib/python3.10/site-packages/torch/nn/modules/lazy.py:181: UserWarning: Lazy modules are a new feature under heavy development so changes to the API or functionality can happen at any moment.\n",
      "\u001b[36m(tune_with_parameters pid=2169643)\u001b[0m   warnings.warn('Lazy modules are a new feature under heavy development '\n",
      "Val Epoch:66: 0it [00:00, ?it/s]144361)\u001b[0m \n",
      "Val Epoch:65: 39it [00:01, 47.52it/s]\u001b[32m [repeated 8x across cluster]\u001b[0m\n"
     ]
    },
    {
     "name": "stdout",
     "output_type": "stream",
     "text": [
      "\u001b[36m(tune_with_parameters pid=2169643)\u001b[0m loss: 1.098\u001b[32m [repeated 15x across cluster]\u001b[0m\n"
     ]
    },
    {
     "name": "stderr",
     "output_type": "stream",
     "text": [
      "Val Epoch:67: 0it [00:00, ?it/s]144361)\u001b[0m \n",
      "Val Epoch:66: 47it [00:00, 47.86it/s]\u001b[32m [repeated 8x across cluster]\u001b[0m\n"
     ]
    },
    {
     "name": "stdout",
     "output_type": "stream",
     "text": [
      "\u001b[36m(tune_with_parameters pid=2169643)\u001b[0m loss: 1.096\u001b[32m [repeated 25x across cluster]\u001b[0m\n",
      "\u001b[36m(tune_with_parameters pid=2169643)\u001b[0m /tmp/tmptu6yo6zl/checkpoint.pt\n"
     ]
    },
    {
     "name": "stderr",
     "output_type": "stream",
     "text": [
      "\u001b[36m(tune_with_parameters pid=2169643)\u001b[0m Checkpoint successfully created at: Checkpoint(filesystem=local, path=/scratch/users/k23058970/Model training/results/Single Peak LRCN Null/tune_with_parameters_2024-08-19_13-29-31/tune_with_parameters_c1630_00007_7_dp=0.2500,k1=1,k2=5,k3=1,k4=1,lr=0.0178_2024-08-19_13-30-01/checkpoint_000000)\n",
      "Val Epoch:0: 0it [00:00, ?it/s]2169643)\u001b[0m \n",
      "Val Epoch:0: 47it [00:01, 31.58it/s]\u001b[32m [repeated 22x across cluster]\u001b[0m\n"
     ]
    },
    {
     "name": "stdout",
     "output_type": "stream",
     "text": [
      "\u001b[36m(tune_with_parameters pid=2144361)\u001b[0m loss: 0.000\u001b[32m [repeated 17x across cluster]\u001b[0m\n"
     ]
    },
    {
     "name": "stderr",
     "output_type": "stream",
     "text": [
      "Val Epoch:68: 0it [00:00, ?it/s]144361)\u001b[0m \n"
     ]
    },
    {
     "name": "stdout",
     "output_type": "stream",
     "text": [
      "\u001b[36m(tune_with_parameters pid=2169643)\u001b[0m loss: 1.069\u001b[32m [repeated 17x across cluster]\u001b[0m\n"
     ]
    },
    {
     "name": "stderr",
     "output_type": "stream",
     "text": [
      "Val Epoch:69: 0it [00:00, ?it/s]144361)\u001b[0m \n",
      "Val Epoch:68: 47it [00:01, 31.19it/s]\u001b[32m [repeated 10x across cluster]\u001b[0m\n",
      "Val Epoch:1: 0it [00:00, ?it/s]2169643)\u001b[0m \n"
     ]
    },
    {
     "name": "stdout",
     "output_type": "stream",
     "text": [
      "\u001b[36m(tune_with_parameters pid=2144361)\u001b[0m loss: 0.000\u001b[32m [repeated 16x across cluster]\u001b[0m\n",
      "\u001b[36m(tune_with_parameters pid=2169643)\u001b[0m /tmp/tmpoc6ji13h/checkpoint.pt\n"
     ]
    },
    {
     "name": "stderr",
     "output_type": "stream",
     "text": [
      "\u001b[36m(tune_with_parameters pid=2169643)\u001b[0m Checkpoint successfully created at: Checkpoint(filesystem=local, path=/scratch/users/k23058970/Model training/results/Single Peak LRCN Null/tune_with_parameters_2024-08-19_13-29-31/tune_with_parameters_c1630_00007_7_dp=0.2500,k1=1,k2=5,k3=1,k4=1,lr=0.0178_2024-08-19_13-30-01/checkpoint_000001)\n",
      "Val Epoch:1: 47it [00:02, 19.11it/s]\u001b[32m [repeated 22x across cluster]\u001b[0m\n",
      "Val Epoch:70: 0it [00:00, ?it/s]144361)\u001b[0m \n"
     ]
    },
    {
     "name": "stdout",
     "output_type": "stream",
     "text": [
      "\u001b[36m(tune_with_parameters pid=2169643)\u001b[0m loss: 0.810\u001b[32m [repeated 19x across cluster]\u001b[0m\n"
     ]
    },
    {
     "name": "stderr",
     "output_type": "stream",
     "text": [
      "Val Epoch:71: 0it [00:00, ?it/s]144361)\u001b[0m \n",
      "Val Epoch:70: 47it [00:01, 41.99it/s]\u001b[32m [repeated 10x across cluster]\u001b[0m\n"
     ]
    },
    {
     "name": "stdout",
     "output_type": "stream",
     "text": [
      "\u001b[36m(tune_with_parameters pid=2169643)\u001b[0m loss: 0.388\u001b[32m [repeated 25x across cluster]\u001b[0m\n"
     ]
    },
    {
     "name": "stderr",
     "output_type": "stream",
     "text": [
      "Val Epoch:71: 47it [00:01, 34.19it/s]1)\u001b[0m \n"
     ]
    },
    {
     "name": "stdout",
     "output_type": "stream",
     "text": [
      "\u001b[36m(tune_with_parameters pid=2169643)\u001b[0m /tmp/tmpt1ttp__4/checkpoint.pt\n"
     ]
    },
    {
     "name": "stderr",
     "output_type": "stream",
     "text": [
      "\u001b[36m(tune_with_parameters pid=2169643)\u001b[0m Checkpoint successfully created at: Checkpoint(filesystem=local, path=/scratch/users/k23058970/Model training/results/Single Peak LRCN Null/tune_with_parameters_2024-08-19_13-29-31/tune_with_parameters_c1630_00007_7_dp=0.2500,k1=1,k2=5,k3=1,k4=1,lr=0.0178_2024-08-19_13-30-01/checkpoint_000002)\n"
     ]
    },
    {
     "name": "stdout",
     "output_type": "stream",
     "text": [
      "\u001b[36m(tune_with_parameters pid=2144361)\u001b[0m loss: 0.000\u001b[32m [repeated 13x across cluster]\u001b[0m\n"
     ]
    },
    {
     "name": "stderr",
     "output_type": "stream",
     "text": [
      "Val Epoch:72: 0it [00:00, ?it/s]\u001b[32m [repeated 2x across cluster]\u001b[0m\n",
      "Val Epoch:2: 47it [00:01, 23.72it/s]\u001b[32m [repeated 20x across cluster]\u001b[0m\n"
     ]
    },
    {
     "name": "stdout",
     "output_type": "stream",
     "text": [
      "\u001b[36m(tune_with_parameters pid=2169643)\u001b[0m loss: 0.027\u001b[32m [repeated 17x across cluster]\u001b[0m\n"
     ]
    },
    {
     "name": "stderr",
     "output_type": "stream",
     "text": [
      "Val Epoch:3: 0it [00:00, ?it/s]2169643)\u001b[0m \n",
      "Val Epoch:72: 47it [00:01, 25.52it/s]\u001b[32m [repeated 10x across cluster]\u001b[0m\n",
      "Val Epoch:73: 0it [00:00, ?it/s]144361)\u001b[0m \n"
     ]
    },
    {
     "name": "stdout",
     "output_type": "stream",
     "text": [
      "\u001b[36m(tune_with_parameters pid=2144361)\u001b[0m loss: 0.000\u001b[32m [repeated 16x across cluster]\u001b[0m\n",
      "\u001b[36m(tune_with_parameters pid=2169643)\u001b[0m /tmp/tmpkcqfa835/checkpoint.pt\n"
     ]
    },
    {
     "name": "stderr",
     "output_type": "stream",
     "text": [
      "\u001b[36m(tune_with_parameters pid=2169643)\u001b[0m Checkpoint successfully created at: Checkpoint(filesystem=local, path=/scratch/users/k23058970/Model training/results/Single Peak LRCN Null/tune_with_parameters_2024-08-19_13-29-31/tune_with_parameters_c1630_00007_7_dp=0.2500,k1=1,k2=5,k3=1,k4=1,lr=0.0178_2024-08-19_13-30-01/checkpoint_000003)\n",
      "Val Epoch:74: 0it [00:00, ?it/s]144361)\u001b[0m \n",
      "Val Epoch:3: 47it [00:02, 18.05it/s]\u001b[32m [repeated 21x across cluster]\u001b[0m\n"
     ]
    },
    {
     "name": "stdout",
     "output_type": "stream",
     "text": [
      "\u001b[36m(tune_with_parameters pid=2169643)\u001b[0m loss: 0.013\u001b[32m [repeated 22x across cluster]\u001b[0m\n"
     ]
    },
    {
     "name": "stderr",
     "output_type": "stream",
     "text": [
      "Val Epoch:4: 0it [00:00, ?it/s]2169643)\u001b[0m \n",
      "Val Epoch:4: 1it [00:00,  1.90it/s]\u001b[32m [repeated 11x across cluster]\u001b[0m\n"
     ]
    },
    {
     "name": "stdout",
     "output_type": "stream",
     "text": [
      "\u001b[36m(tune_with_parameters pid=2144361)\u001b[0m loss: 0.000\u001b[32m [repeated 19x across cluster]\u001b[0m\n",
      "\u001b[36m(tune_with_parameters pid=2169643)\u001b[0m /tmp/tmpu9zmbk70/checkpoint.pt\n"
     ]
    },
    {
     "name": "stderr",
     "output_type": "stream",
     "text": [
      "\u001b[36m(tune_with_parameters pid=2169643)\u001b[0m Checkpoint successfully created at: Checkpoint(filesystem=local, path=/scratch/users/k23058970/Model training/results/Single Peak LRCN Null/tune_with_parameters_2024-08-19_13-29-31/tune_with_parameters_c1630_00007_7_dp=0.2500,k1=1,k2=5,k3=1,k4=1,lr=0.0178_2024-08-19_13-30-01/checkpoint_000004)\n"
     ]
    },
    {
     "name": "stdout",
     "output_type": "stream",
     "text": [
      "\u001b[36m(tune_with_parameters pid=2144361)\u001b[0m loss: 0.000\u001b[32m [repeated 12x across cluster]\u001b[0m\n"
     ]
    },
    {
     "name": "stderr",
     "output_type": "stream",
     "text": [
      "Val Epoch:76: 0it [00:00, ?it/s]\u001b[32m [repeated 2x across cluster]\u001b[0m\n",
      "Val Epoch:75: 47it [00:01, 43.01it/s]\u001b[32m [repeated 20x across cluster]\u001b[0m\n",
      "Val Epoch:76: 47it [00:01, 31.95it/s]1)\u001b[0m \n"
     ]
    },
    {
     "name": "stdout",
     "output_type": "stream",
     "text": [
      "\u001b[36m(tune_with_parameters pid=2144361)\u001b[0m loss: 0.000\u001b[32m [repeated 22x across cluster]\u001b[0m\n"
     ]
    },
    {
     "name": "stderr",
     "output_type": "stream",
     "text": [
      "Val Epoch:5: 0it [00:00, ?it/s]2169643)\u001b[0m \n",
      "Val Epoch:5: 42it [00:01, 33.09it/s]\u001b[32m [repeated 19x across cluster]\u001b[0m\n"
     ]
    },
    {
     "name": "stdout",
     "output_type": "stream",
     "text": [
      "\u001b[36m(tune_with_parameters pid=2169643)\u001b[0m /tmp/tmp7xd2shyk/checkpoint.pt\n"
     ]
    },
    {
     "name": "stderr",
     "output_type": "stream",
     "text": [
      "Val Epoch:77: 0it [00:00, ?it/s]144361)\u001b[0m \n",
      "\u001b[36m(tune_with_parameters pid=2169643)\u001b[0m Checkpoint successfully created at: Checkpoint(filesystem=local, path=/scratch/users/k23058970/Model training/results/Single Peak LRCN Null/tune_with_parameters_2024-08-19_13-29-31/tune_with_parameters_c1630_00007_7_dp=0.2500,k1=1,k2=5,k3=1,k4=1,lr=0.0178_2024-08-19_13-30-01/checkpoint_000005)\n",
      "Val Epoch:77: 9it [00:01, 10.91it/s]61)\u001b[0m \n"
     ]
    },
    {
     "name": "stdout",
     "output_type": "stream",
     "text": [
      "\u001b[36m(tune_with_parameters pid=2169643)\u001b[0m loss: 0.002\u001b[32m [repeated 15x across cluster]\u001b[0m\n",
      "\u001b[36m(tune_with_parameters pid=2144361)\u001b[0m loss: 0.000\u001b[32m [repeated 23x across cluster]\u001b[0m\n"
     ]
    },
    {
     "name": "stderr",
     "output_type": "stream",
     "text": [
      "Val Epoch:78: 0it [00:00, ?it/s]144361)\u001b[0m \n",
      "Val Epoch:77: 47it [00:01, 25.67it/s]\u001b[32m [repeated 11x across cluster]\u001b[0m\n",
      "Val Epoch:6: 0it [00:00, ?it/s]2169643)\u001b[0m \n"
     ]
    },
    {
     "name": "stdout",
     "output_type": "stream",
     "text": [
      "\u001b[36m(tune_with_parameters pid=2144361)\u001b[0m loss: 0.000\u001b[32m [repeated 14x across cluster]\u001b[0m\n"
     ]
    },
    {
     "name": "stderr",
     "output_type": "stream",
     "text": [
      "Val Epoch:6: 47it [00:01, 27.78it/s]\u001b[32m [repeated 23x across cluster]\u001b[0m\n",
      "Val Epoch:79: 0it [00:00, ?it/s]144361)\u001b[0m \n"
     ]
    },
    {
     "name": "stdout",
     "output_type": "stream",
     "text": [
      "\u001b[36m(tune_with_parameters pid=2144361)\u001b[0m loss: 0.000\u001b[32m [repeated 19x across cluster]\u001b[0m\n"
     ]
    },
    {
     "name": "stderr",
     "output_type": "stream",
     "text": [
      "Val Epoch:7: 0it [00:00, ?it/s]2169643)\u001b[0m \n",
      "Val Epoch:79: 47it [00:01, 38.22it/s]\u001b[32m [repeated 9x across cluster]\u001b[0m\n"
     ]
    },
    {
     "name": "stdout",
     "output_type": "stream",
     "text": [
      "\u001b[36m(tune_with_parameters pid=2169643)\u001b[0m loss: 0.001\u001b[32m [repeated 19x across cluster]\u001b[0m\n"
     ]
    },
    {
     "name": "stderr",
     "output_type": "stream",
     "text": [
      "Val Epoch:81: 0it [00:00, ?it/s]\u001b[32m [repeated 2x across cluster]\u001b[0m\n",
      "Val Epoch:80: 47it [00:01, 33.00it/s]\u001b[32m [repeated 23x across cluster]\u001b[0m\n"
     ]
    },
    {
     "name": "stdout",
     "output_type": "stream",
     "text": [
      "\u001b[36m(tune_with_parameters pid=2169643)\u001b[0m loss: 0.003\u001b[32m [repeated 24x across cluster]\u001b[0m\n"
     ]
    },
    {
     "name": "stderr",
     "output_type": "stream",
     "text": [
      "Val Epoch:8: 0it [00:00, ?it/s]2169643)\u001b[0m \n",
      "Val Epoch:8: 31it [00:01, 30.87it/s]\u001b[32m [repeated 19x across cluster]\u001b[0m\n"
     ]
    },
    {
     "name": "stdout",
     "output_type": "stream",
     "text": [
      "\u001b[36m(tune_with_parameters pid=2144361)\u001b[0m loss: 0.000\u001b[32m [repeated 15x across cluster]\u001b[0m\n"
     ]
    },
    {
     "name": "stderr",
     "output_type": "stream",
     "text": [
      "Val Epoch:82: 0it [00:00, ?it/s]144361)\u001b[0m \n"
     ]
    },
    {
     "name": "stdout",
     "output_type": "stream",
     "text": [
      "\u001b[36m(tune_with_parameters pid=2144361)\u001b[0m loss: 0.000\u001b[32m [repeated 14x across cluster]\u001b[0m\n"
     ]
    },
    {
     "name": "stderr",
     "output_type": "stream",
     "text": [
      "Val Epoch:83: 0it [00:00, ?it/s]144361)\u001b[0m \n",
      "Val Epoch:82: 47it [00:01, 37.64it/s]\u001b[32m [repeated 14x across cluster]\u001b[0m\n",
      "Val Epoch:9: 0it [00:00, ?it/s]2169643)\u001b[0m \n"
     ]
    },
    {
     "name": "stdout",
     "output_type": "stream",
     "text": [
      "\u001b[36m(tune_with_parameters pid=2144361)\u001b[0m loss: 0.000\u001b[32m [repeated 22x across cluster]\u001b[0m\n"
     ]
    },
    {
     "name": "stderr",
     "output_type": "stream",
     "text": [
      "Val Epoch:9: 47it [00:02, 22.12it/s]\u001b[32m [repeated 22x across cluster]\u001b[0m\n",
      "Val Epoch:84: 0it [00:00, ?it/s]144361)\u001b[0m \n"
     ]
    },
    {
     "name": "stdout",
     "output_type": "stream",
     "text": [
      "\u001b[36m(tune_with_parameters pid=2169643)\u001b[0m loss: 0.004\u001b[32m [repeated 22x across cluster]\u001b[0m\n"
     ]
    },
    {
     "name": "stderr",
     "output_type": "stream",
     "text": [
      "Val Epoch:10: 0it [00:00, ?it/s]169643)\u001b[0m \n",
      "Val Epoch:10: 12it [00:00, 18.28it/s]\u001b[32m [repeated 14x across cluster]\u001b[0m\n"
     ]
    },
    {
     "name": "stdout",
     "output_type": "stream",
     "text": [
      "\u001b[36m(tune_with_parameters pid=2144361)\u001b[0m loss: 0.000\u001b[32m [repeated 18x across cluster]\u001b[0m\n",
      "\u001b[36m(tune_with_parameters pid=2144361)\u001b[0m loss: 0.000\u001b[32m [repeated 15x across cluster]\u001b[0m\n"
     ]
    },
    {
     "name": "stderr",
     "output_type": "stream",
     "text": [
      "Val Epoch:86: 0it [00:00, ?it/s]\u001b[32m [repeated 2x across cluster]\u001b[0m\n",
      "Val Epoch:85: 47it [00:01, 30.73it/s]\u001b[32m [repeated 19x across cluster]\u001b[0m\n"
     ]
    },
    {
     "name": "stdout",
     "output_type": "stream",
     "text": [
      "\u001b[36m(tune_with_parameters pid=2144361)\u001b[0m loss: 0.000\u001b[32m [repeated 19x across cluster]\u001b[0m\n"
     ]
    },
    {
     "name": "stderr",
     "output_type": "stream",
     "text": [
      "Val Epoch:87: 0it [00:00, ?it/s]\u001b[32m [repeated 2x across cluster]\u001b[0m\n",
      "Val Epoch:11: 47it [00:01, 25.90it/s]\u001b[32m [repeated 23x across cluster]\u001b[0m\n"
     ]
    },
    {
     "name": "stdout",
     "output_type": "stream",
     "text": [
      "\u001b[36m(tune_with_parameters pid=2169643)\u001b[0m loss: 0.003\u001b[32m [repeated 20x across cluster]\u001b[0m\n",
      "\u001b[36m(tune_with_parameters pid=2144361)\u001b[0m loss: 0.000\u001b[32m [repeated 23x across cluster]\u001b[0m\n"
     ]
    },
    {
     "name": "stderr",
     "output_type": "stream",
     "text": [
      "Val Epoch:88: 0it [00:00, ?it/s]144361)\u001b[0m \n",
      "Val Epoch:87: 47it [00:01, 35.77it/s]\u001b[32m [repeated 10x across cluster]\u001b[0m\n",
      "Val Epoch:12: 0it [00:00, ?it/s]169643)\u001b[0m \n"
     ]
    },
    {
     "name": "stdout",
     "output_type": "stream",
     "text": [
      "\u001b[36m(tune_with_parameters pid=2144361)\u001b[0m loss: 0.000\u001b[32m [repeated 10x across cluster]\u001b[0m\n"
     ]
    },
    {
     "name": "stderr",
     "output_type": "stream",
     "text": [
      "Val Epoch:12: 47it [00:02, 21.53it/s]\u001b[32m [repeated 23x across cluster]\u001b[0m\n",
      "Val Epoch:89: 0it [00:00, ?it/s]144361)\u001b[0m \n"
     ]
    },
    {
     "name": "stdout",
     "output_type": "stream",
     "text": [
      "\u001b[36m(tune_with_parameters pid=2144361)\u001b[0m loss: 0.000\u001b[32m [repeated 20x across cluster]\u001b[0m\n"
     ]
    },
    {
     "name": "stderr",
     "output_type": "stream",
     "text": [
      "Val Epoch:13: 0it [00:00, ?it/s]169643)\u001b[0m \n",
      "Val Epoch:13: 5it [00:00, 23.58it/s]\u001b[32m [repeated 12x across cluster]\u001b[0m\n"
     ]
    },
    {
     "name": "stdout",
     "output_type": "stream",
     "text": [
      "\u001b[36m(tune_with_parameters pid=2169643)\u001b[0m /tmp/tmpjlx144dw/checkpoint.pt\n"
     ]
    },
    {
     "name": "stderr",
     "output_type": "stream",
     "text": [
      "\u001b[36m(tune_with_parameters pid=2169643)\u001b[0m Checkpoint successfully created at: Checkpoint(filesystem=local, path=/scratch/users/k23058970/Model training/results/Single Peak LRCN Null/tune_with_parameters_2024-08-19_13-29-31/tune_with_parameters_c1630_00007_7_dp=0.2500,k1=1,k2=5,k3=1,k4=1,lr=0.0178_2024-08-19_13-30-01/checkpoint_000006)\n"
     ]
    },
    {
     "name": "stdout",
     "output_type": "stream",
     "text": [
      "\u001b[36m(tune_with_parameters pid=2169643)\u001b[0m loss: 0.001\u001b[32m [repeated 18x across cluster]\u001b[0m\n"
     ]
    },
    {
     "name": "stderr",
     "output_type": "stream",
     "text": [
      "Val Epoch:91: 0it [00:00, ?it/s]\u001b[32m [repeated 2x across cluster]\u001b[0m\n",
      "Val Epoch:90: 47it [00:02, 23.32it/s]\u001b[32m [repeated 19x across cluster]\u001b[0m\n"
     ]
    },
    {
     "name": "stdout",
     "output_type": "stream",
     "text": [
      "\u001b[36m(tune_with_parameters pid=2169643)\u001b[0m loss: 0.001\u001b[32m [repeated 24x across cluster]\u001b[0m\n"
     ]
    },
    {
     "name": "stderr",
     "output_type": "stream",
     "text": [
      "Val Epoch:14: 0it [00:00, ?it/s]169643)\u001b[0m \n",
      "Val Epoch:14: 34it [00:01, 33.58it/s]\u001b[32m [repeated 19x across cluster]\u001b[0m\n"
     ]
    },
    {
     "name": "stdout",
     "output_type": "stream",
     "text": [
      "\u001b[36m(tune_with_parameters pid=2144361)\u001b[0m loss: 0.000\u001b[32m [repeated 18x across cluster]\u001b[0m\n"
     ]
    },
    {
     "name": "stderr",
     "output_type": "stream",
     "text": [
      "Val Epoch:92: 0it [00:00, ?it/s]144361)\u001b[0m \n"
     ]
    },
    {
     "name": "stdout",
     "output_type": "stream",
     "text": [
      "\u001b[36m(tune_with_parameters pid=2169643)\u001b[0m loss: 0.001\u001b[32m [repeated 13x across cluster]\u001b[0m\n"
     ]
    },
    {
     "name": "stderr",
     "output_type": "stream",
     "text": [
      "Val Epoch:92: 47it [00:01, 35.67it/s]\u001b[32m [repeated 13x across cluster]\u001b[0m\n",
      "Val Epoch:15: 0it [00:00, ?it/s]169643)\u001b[0m \n"
     ]
    },
    {
     "name": "stdout",
     "output_type": "stream",
     "text": [
      "\u001b[36m(tune_with_parameters pid=2169643)\u001b[0m loss: 0.001\u001b[32m [repeated 7x across cluster]\u001b[0m\n"
     ]
    },
    {
     "name": "stderr",
     "output_type": "stream",
     "text": [
      "\u001b[36m(tune_with_parameters pid=2181635)\u001b[0m /users/k23058970/miniforge3/envs/Training/lib/python3.10/site-packages/torch/nn/modules/lazy.py:181: UserWarning: Lazy modules are a new feature under heavy development so changes to the API or functionality can happen at any moment.\n",
      "\u001b[36m(tune_with_parameters pid=2181635)\u001b[0m   warnings.warn('Lazy modules are a new feature under heavy development '\n",
      "Val Epoch:15: 47it [00:02, 22.76it/s]\u001b[32m [repeated 11x across cluster]\u001b[0m\n"
     ]
    },
    {
     "name": "stdout",
     "output_type": "stream",
     "text": [
      "\u001b[36m(tune_with_parameters pid=2169643)\u001b[0m loss: 0.001\u001b[32m [repeated 10x across cluster]\u001b[0m\n"
     ]
    },
    {
     "name": "stderr",
     "output_type": "stream",
     "text": [
      "Val Epoch:16: 0it [00:00, ?it/s]169643)\u001b[0m \n"
     ]
    },
    {
     "name": "stdout",
     "output_type": "stream",
     "text": [
      "\u001b[36m(tune_with_parameters pid=2169643)\u001b[0m loss: 0.001\u001b[32m [repeated 13x across cluster]\u001b[0m\n"
     ]
    },
    {
     "name": "stderr",
     "output_type": "stream",
     "text": [
      "Val Epoch:16: 47it [00:01, 25.99it/s]\u001b[32m [repeated 12x across cluster]\u001b[0m\n",
      "Val Epoch:0: 0it [00:00, ?it/s]2181635)\u001b[0m \n"
     ]
    },
    {
     "name": "stdout",
     "output_type": "stream",
     "text": [
      "\u001b[36m(tune_with_parameters pid=2169643)\u001b[0m loss: 0.001\u001b[32m [repeated 17x across cluster]\u001b[0m\n",
      "\u001b[36m(tune_with_parameters pid=2181635)\u001b[0m /tmp/tmphp7rko0l/checkpoint.pt\n"
     ]
    },
    {
     "name": "stderr",
     "output_type": "stream",
     "text": [
      "\u001b[36m(tune_with_parameters pid=2181635)\u001b[0m Checkpoint successfully created at: Checkpoint(filesystem=local, path=/scratch/users/k23058970/Model training/results/Single Peak LRCN Null/tune_with_parameters_2024-08-19_13-29-31/tune_with_parameters_c1630_00008_8_dp=0.5000,k1=5,k2=5,k3=3,k4=3,lr=0.0849_2024-08-19_13-30-01/checkpoint_000000)\n",
      "Val Epoch:17: 0it [00:00, ?it/s]169643)\u001b[0m \n",
      "Val Epoch:17: 12it [00:00, 22.76it/s]\u001b[32m [repeated 15x across cluster]\u001b[0m\n"
     ]
    },
    {
     "name": "stdout",
     "output_type": "stream",
     "text": [
      "\u001b[36m(tune_with_parameters pid=2169643)\u001b[0m loss: 0.001\u001b[32m [repeated 14x across cluster]\u001b[0m\n"
     ]
    },
    {
     "name": "stderr",
     "output_type": "stream",
     "text": [
      "Val Epoch:1: 0it [00:00, ?it/s]2181635)\u001b[0m \n",
      "Val Epoch:1: 2it [00:00,  5.08it/s]\u001b[32m [repeated 11x across cluster]\u001b[0m\n"
     ]
    },
    {
     "name": "stdout",
     "output_type": "stream",
     "text": [
      "\u001b[36m(tune_with_parameters pid=2181635)\u001b[0m /tmp/tmpqk1g5r8e/checkpoint.pt\n"
     ]
    },
    {
     "name": "stderr",
     "output_type": "stream",
     "text": [
      "\u001b[36m(tune_with_parameters pid=2181635)\u001b[0m Checkpoint successfully created at: Checkpoint(filesystem=local, path=/scratch/users/k23058970/Model training/results/Single Peak LRCN Null/tune_with_parameters_2024-08-19_13-29-31/tune_with_parameters_c1630_00008_8_dp=0.5000,k1=5,k2=5,k3=3,k4=3,lr=0.0849_2024-08-19_13-30-01/checkpoint_000001)\n"
     ]
    },
    {
     "name": "stdout",
     "output_type": "stream",
     "text": [
      "\u001b[36m(tune_with_parameters pid=2169643)\u001b[0m loss: 0.001\u001b[32m [repeated 16x across cluster]\u001b[0m\n"
     ]
    },
    {
     "name": "stderr",
     "output_type": "stream",
     "text": [
      "Val Epoch:18: 0it [00:00, ?it/s]169643)\u001b[0m \n",
      "Val Epoch:18: 3it [00:00, 13.29it/s]\u001b[32m [repeated 11x across cluster]\u001b[0m\n"
     ]
    },
    {
     "name": "stdout",
     "output_type": "stream",
     "text": [
      "\u001b[36m(tune_with_parameters pid=2181635)\u001b[0m loss: 1.017\u001b[32m [repeated 14x across cluster]\u001b[0m\n"
     ]
    },
    {
     "name": "stderr",
     "output_type": "stream",
     "text": [
      "Val Epoch:2: 0it [00:00, ?it/s]2181635)\u001b[0m \n",
      "Val Epoch:2: 13it [00:00, 27.47it/s]\u001b[32m [repeated 16x across cluster]\u001b[0m\n"
     ]
    },
    {
     "name": "stdout",
     "output_type": "stream",
     "text": [
      "\u001b[36m(tune_with_parameters pid=2181635)\u001b[0m /tmp/tmp1nkb5efo/checkpoint.pt\n"
     ]
    },
    {
     "name": "stderr",
     "output_type": "stream",
     "text": [
      "\u001b[36m(tune_with_parameters pid=2181635)\u001b[0m Checkpoint successfully created at: Checkpoint(filesystem=local, path=/scratch/users/k23058970/Model training/results/Single Peak LRCN Null/tune_with_parameters_2024-08-19_13-29-31/tune_with_parameters_c1630_00008_8_dp=0.5000,k1=5,k2=5,k3=3,k4=3,lr=0.0849_2024-08-19_13-30-01/checkpoint_000002)\n"
     ]
    },
    {
     "name": "stdout",
     "output_type": "stream",
     "text": [
      "\u001b[36m(tune_with_parameters pid=2169643)\u001b[0m loss: 0.001\u001b[32m [repeated 15x across cluster]\u001b[0m\n"
     ]
    },
    {
     "name": "stderr",
     "output_type": "stream",
     "text": [
      "Val Epoch:19: 0it [00:00, ?it/s]169643)\u001b[0m \n",
      "Val Epoch:2: 47it [00:01, 31.38it/s]\u001b[32m [repeated 7x across cluster]\u001b[0m\n"
     ]
    },
    {
     "name": "stdout",
     "output_type": "stream",
     "text": [
      "\u001b[36m(tune_with_parameters pid=2169643)\u001b[0m loss: 0.000\u001b[32m [repeated 15x across cluster]\u001b[0m\n"
     ]
    },
    {
     "name": "stderr",
     "output_type": "stream",
     "text": [
      "Val Epoch:3: 0it [00:00, ?it/s]2181635)\u001b[0m \n",
      "Val Epoch:3: 1it [00:00,  2.26it/s]\u001b[32m [repeated 15x across cluster]\u001b[0m\n"
     ]
    },
    {
     "name": "stdout",
     "output_type": "stream",
     "text": [
      "\u001b[36m(tune_with_parameters pid=2181635)\u001b[0m /tmp/tmpacu8n13y/checkpoint.pt\n"
     ]
    },
    {
     "name": "stderr",
     "output_type": "stream",
     "text": [
      "\u001b[36m(tune_with_parameters pid=2181635)\u001b[0m Checkpoint successfully created at: Checkpoint(filesystem=local, path=/scratch/users/k23058970/Model training/results/Single Peak LRCN Null/tune_with_parameters_2024-08-19_13-29-31/tune_with_parameters_c1630_00008_8_dp=0.5000,k1=5,k2=5,k3=3,k4=3,lr=0.0849_2024-08-19_13-30-01/checkpoint_000003)\n"
     ]
    },
    {
     "name": "stdout",
     "output_type": "stream",
     "text": [
      "\u001b[36m(tune_with_parameters pid=2181635)\u001b[0m loss: 0.005\u001b[32m [repeated 15x across cluster]\u001b[0m\n"
     ]
    },
    {
     "name": "stderr",
     "output_type": "stream",
     "text": [
      "Val Epoch:20: 0it [00:00, ?it/s]169643)\u001b[0m \n",
      "Val Epoch:3: 47it [00:01, 29.27it/s]\u001b[32m [repeated 10x across cluster]\u001b[0m\n"
     ]
    },
    {
     "name": "stdout",
     "output_type": "stream",
     "text": [
      "\u001b[36m(tune_with_parameters pid=2169643)\u001b[0m loss: 0.001\u001b[32m [repeated 19x across cluster]\u001b[0m\n",
      "\u001b[36m(tune_with_parameters pid=2181635)\u001b[0m /tmp/tmph1ohqnj9/checkpoint.pt\n"
     ]
    },
    {
     "name": "stderr",
     "output_type": "stream",
     "text": [
      "\u001b[36m(tune_with_parameters pid=2181635)\u001b[0m Checkpoint successfully created at: Checkpoint(filesystem=local, path=/scratch/users/k23058970/Model training/results/Single Peak LRCN Null/tune_with_parameters_2024-08-19_13-29-31/tune_with_parameters_c1630_00008_8_dp=0.5000,k1=5,k2=5,k3=3,k4=3,lr=0.0849_2024-08-19_13-30-01/checkpoint_000004)\n",
      "Val Epoch:4: 0it [00:00, ?it/s]2181635)\u001b[0m \n",
      "Val Epoch:4: 47it [00:01, 32.72it/s]\u001b[32m [repeated 23x across cluster]\u001b[0m\n"
     ]
    },
    {
     "name": "stdout",
     "output_type": "stream",
     "text": [
      "\u001b[36m(tune_with_parameters pid=2181635)\u001b[0m loss: 0.007\u001b[32m [repeated 12x across cluster]\u001b[0m\n"
     ]
    },
    {
     "name": "stderr",
     "output_type": "stream",
     "text": [
      "Val Epoch:21: 0it [00:00, ?it/s]169643)\u001b[0m \n",
      "Val Epoch:21: 21it [00:01, 23.25it/s]\u001b[32m [repeated 6x across cluster]\u001b[0m\n"
     ]
    },
    {
     "name": "stdout",
     "output_type": "stream",
     "text": [
      "\u001b[36m(tune_with_parameters pid=2169643)\u001b[0m loss: 0.000\u001b[32m [repeated 18x across cluster]\u001b[0m\n"
     ]
    },
    {
     "name": "stderr",
     "output_type": "stream",
     "text": [
      "Val Epoch:5: 47it [00:01, 23.94it/s]35)\u001b[0m \n"
     ]
    },
    {
     "name": "stdout",
     "output_type": "stream",
     "text": [
      "\u001b[36m(tune_with_parameters pid=2181635)\u001b[0m /tmp/tmp10izxeb2/checkpoint.pt\n"
     ]
    },
    {
     "name": "stderr",
     "output_type": "stream",
     "text": [
      "\u001b[36m(tune_with_parameters pid=2181635)\u001b[0m Checkpoint successfully created at: Checkpoint(filesystem=local, path=/scratch/users/k23058970/Model training/results/Single Peak LRCN Null/tune_with_parameters_2024-08-19_13-29-31/tune_with_parameters_c1630_00008_8_dp=0.5000,k1=5,k2=5,k3=3,k4=3,lr=0.0849_2024-08-19_13-30-01/checkpoint_000005)\n",
      "Val Epoch:5: 0it [00:00, ?it/s]2181635)\u001b[0m \n"
     ]
    },
    {
     "name": "stdout",
     "output_type": "stream",
     "text": [
      "\u001b[36m(tune_with_parameters pid=2181635)\u001b[0m loss: 0.004\u001b[32m [repeated 17x across cluster]\u001b[0m\n"
     ]
    },
    {
     "name": "stderr",
     "output_type": "stream",
     "text": [
      "Val Epoch:22: 0it [00:00, ?it/s]169643)\u001b[0m \n",
      "Val Epoch:5: 39it [00:01, 37.64it/s]\u001b[32m [repeated 18x across cluster]\u001b[0m\n"
     ]
    },
    {
     "name": "stdout",
     "output_type": "stream",
     "text": [
      "\u001b[36m(tune_with_parameters pid=2169643)\u001b[0m loss: 0.001\u001b[32m [repeated 13x across cluster]\u001b[0m\n",
      "\u001b[36m(tune_with_parameters pid=2181635)\u001b[0m /tmp/tmp8a82f1k0/checkpoint.pt\n"
     ]
    },
    {
     "name": "stderr",
     "output_type": "stream",
     "text": [
      "\u001b[36m(tune_with_parameters pid=2181635)\u001b[0m Checkpoint successfully created at: Checkpoint(filesystem=local, path=/scratch/users/k23058970/Model training/results/Single Peak LRCN Null/tune_with_parameters_2024-08-19_13-29-31/tune_with_parameters_c1630_00008_8_dp=0.5000,k1=5,k2=5,k3=3,k4=3,lr=0.0849_2024-08-19_13-30-01/checkpoint_000006)\n",
      "Val Epoch:6: 0it [00:00, ?it/s]2181635)\u001b[0m \n",
      "Val Epoch:6: 47it [00:02, 22.15it/s]\u001b[32m [repeated 24x across cluster]\u001b[0m\n"
     ]
    },
    {
     "name": "stdout",
     "output_type": "stream",
     "text": [
      "\u001b[36m(tune_with_parameters pid=2181635)\u001b[0m loss: 0.003\u001b[32m [repeated 17x across cluster]\u001b[0m\n"
     ]
    },
    {
     "name": "stderr",
     "output_type": "stream",
     "text": [
      "Val Epoch:23: 0it [00:00, ?it/s]169643)\u001b[0m \n",
      "Val Epoch:7: 2it [00:00, 11.04it/s]635)\u001b[0m \n",
      "Val Epoch:23: 47it [00:01, 25.13it/s]3)\u001b[0m \n"
     ]
    },
    {
     "name": "stdout",
     "output_type": "stream",
     "text": [
      "\u001b[36m(tune_with_parameters pid=2169643)\u001b[0m loss: 0.000\u001b[32m [repeated 13x across cluster]\u001b[0m\n",
      "\u001b[36m(tune_with_parameters pid=2169643)\u001b[0m loss: 0.001\u001b[32m [repeated 13x across cluster]\u001b[0m\n"
     ]
    },
    {
     "name": "stderr",
     "output_type": "stream",
     "text": [
      "Val Epoch:24: 0it [00:00, ?it/s]\u001b[32m [repeated 2x across cluster]\u001b[0m\n",
      "Val Epoch:23: 37it [00:01, 34.05it/s]\u001b[32m [repeated 19x across cluster]\u001b[0m\n",
      "\u001b[36m(tune_with_parameters pid=2186413)\u001b[0m /users/k23058970/miniforge3/envs/Training/lib/python3.10/site-packages/torch/nn/modules/lazy.py:181: UserWarning: Lazy modules are a new feature under heavy development so changes to the API or functionality can happen at any moment.\n",
      "\u001b[36m(tune_with_parameters pid=2186413)\u001b[0m   warnings.warn('Lazy modules are a new feature under heavy development '\n"
     ]
    },
    {
     "name": "stdout",
     "output_type": "stream",
     "text": [
      "\u001b[36m(tune_with_parameters pid=2169643)\u001b[0m loss: 0.000\u001b[32m [repeated 5x across cluster]\u001b[0m\n"
     ]
    },
    {
     "name": "stderr",
     "output_type": "stream",
     "text": [
      "Val Epoch:25: 0it [00:00, ?it/s]169643)\u001b[0m \n",
      "Val Epoch:24: 47it [00:01, 25.01it/s]\u001b[32m [repeated 12x across cluster]\u001b[0m\n"
     ]
    },
    {
     "name": "stdout",
     "output_type": "stream",
     "text": [
      "\u001b[36m(tune_with_parameters pid=2186413)\u001b[0m loss: 1.100\u001b[32m [repeated 18x across cluster]\u001b[0m\n"
     ]
    },
    {
     "name": "stderr",
     "output_type": "stream",
     "text": [
      "Val Epoch:25: 47it [00:01, 30.07it/s]3)\u001b[0m \n",
      "Val Epoch:0: 0it [00:00, ?it/s]2186413)\u001b[0m \n",
      "Val Epoch:0: 47it [00:01, 37.15it/s]\u001b[32m [repeated 21x across cluster]\u001b[0m\n"
     ]
    },
    {
     "name": "stdout",
     "output_type": "stream",
     "text": [
      "\u001b[36m(tune_with_parameters pid=2186413)\u001b[0m /tmp/tmpi4nx2tqu/checkpoint.pt\n"
     ]
    },
    {
     "name": "stderr",
     "output_type": "stream",
     "text": [
      "\u001b[36m(tune_with_parameters pid=2186413)\u001b[0m Checkpoint successfully created at: Checkpoint(filesystem=local, path=/scratch/users/k23058970/Model training/results/Single Peak LRCN Null/tune_with_parameters_2024-08-19_13-29-31/tune_with_parameters_c1630_00009_9_dp=0.2000,k1=1,k2=5,k3=3,k4=3,lr=0.0169_2024-08-19_13-30-01/checkpoint_000000)\n"
     ]
    },
    {
     "name": "stdout",
     "output_type": "stream",
     "text": [
      "\u001b[36m(tune_with_parameters pid=2186413)\u001b[0m loss: 1.096\u001b[32m [repeated 14x across cluster]\u001b[0m\n"
     ]
    },
    {
     "name": "stderr",
     "output_type": "stream",
     "text": [
      "Val Epoch:1: 0it [00:00, ?it/s]2186413)\u001b[0m \n",
      "Val Epoch:26: 0it [00:00, ?it/s]169643)\u001b[0m \n",
      "Val Epoch:26: 1it [00:00,  2.00it/s]43)\u001b[0m \n"
     ]
    },
    {
     "name": "stdout",
     "output_type": "stream",
     "text": [
      "\u001b[36m(tune_with_parameters pid=2186413)\u001b[0m /tmp/tmp8ao50zj2/checkpoint.pt\n",
      "\u001b[36m(tune_with_parameters pid=2186413)\u001b[0m loss: 1.091\u001b[32m [repeated 24x across cluster]\u001b[0m\n"
     ]
    },
    {
     "name": "stderr",
     "output_type": "stream",
     "text": [
      "\u001b[36m(tune_with_parameters pid=2186413)\u001b[0m Checkpoint successfully created at: Checkpoint(filesystem=local, path=/scratch/users/k23058970/Model training/results/Single Peak LRCN Null/tune_with_parameters_2024-08-19_13-29-31/tune_with_parameters_c1630_00009_9_dp=0.2000,k1=1,k2=5,k3=3,k4=3,lr=0.0169_2024-08-19_13-30-01/checkpoint_000001)\n"
     ]
    },
    {
     "name": "stdout",
     "output_type": "stream",
     "text": [
      "\u001b[36m(tune_with_parameters pid=2186413)\u001b[0m loss: 1.069\u001b[32m [repeated 23x across cluster]\u001b[0m\n"
     ]
    },
    {
     "name": "stderr",
     "output_type": "stream",
     "text": [
      "Val Epoch:2: 0it [00:00, ?it/s]2186413)\u001b[0m \n",
      "Val Epoch:26: 47it [00:01, 26.62it/s]\u001b[32m [repeated 21x across cluster]\u001b[0m\n"
     ]
    },
    {
     "name": "stdout",
     "output_type": "stream",
     "text": [
      "\u001b[36m(tune_with_parameters pid=2186413)\u001b[0m /tmp/tmpy5ilg2u6/checkpoint.pt\n"
     ]
    },
    {
     "name": "stderr",
     "output_type": "stream",
     "text": [
      "\u001b[36m(tune_with_parameters pid=2186413)\u001b[0m Checkpoint successfully created at: Checkpoint(filesystem=local, path=/scratch/users/k23058970/Model training/results/Single Peak LRCN Null/tune_with_parameters_2024-08-19_13-29-31/tune_with_parameters_c1630_00009_9_dp=0.2000,k1=1,k2=5,k3=3,k4=3,lr=0.0169_2024-08-19_13-30-01/checkpoint_000002)\n",
      "Val Epoch:27: 0it [00:00, ?it/s]169643)\u001b[0m \n"
     ]
    },
    {
     "name": "stdout",
     "output_type": "stream",
     "text": [
      "\u001b[36m(tune_with_parameters pid=2186413)\u001b[0m loss: 0.998\u001b[32m [repeated 12x across cluster]\u001b[0m\n"
     ]
    },
    {
     "name": "stderr",
     "output_type": "stream",
     "text": [
      "Val Epoch:27: 47it [00:01, 26.50it/s]\u001b[32m [repeated 23x across cluster]\u001b[0m\n",
      "Val Epoch:3: 0it [00:00, ?it/s]2186413)\u001b[0m \n"
     ]
    },
    {
     "name": "stdout",
     "output_type": "stream",
     "text": [
      "\u001b[36m(tune_with_parameters pid=2169643)\u001b[0m loss: 0.001\u001b[32m [repeated 17x across cluster]\u001b[0m\n",
      "\u001b[36m(tune_with_parameters pid=2186413)\u001b[0m /tmp/tmpk09_opmv/checkpoint.pt\n"
     ]
    },
    {
     "name": "stderr",
     "output_type": "stream",
     "text": [
      "\u001b[36m(tune_with_parameters pid=2186413)\u001b[0m Checkpoint successfully created at: Checkpoint(filesystem=local, path=/scratch/users/k23058970/Model training/results/Single Peak LRCN Null/tune_with_parameters_2024-08-19_13-29-31/tune_with_parameters_c1630_00009_9_dp=0.2000,k1=1,k2=5,k3=3,k4=3,lr=0.0169_2024-08-19_13-30-01/checkpoint_000003)\n",
      "Val Epoch:28: 0it [00:00, ?it/s]169643)\u001b[0m \n",
      "Val Epoch:3: 47it [00:01, 32.27it/s]\u001b[32m [repeated 11x across cluster]\u001b[0m\n"
     ]
    },
    {
     "name": "stdout",
     "output_type": "stream",
     "text": [
      "\u001b[36m(tune_with_parameters pid=2186413)\u001b[0m loss: 0.154\u001b[32m [repeated 19x across cluster]\u001b[0m\n",
      "\u001b[36m(tune_with_parameters pid=2186413)\u001b[0m /tmp/tmpetb2exp7/checkpoint.pt\n"
     ]
    },
    {
     "name": "stderr",
     "output_type": "stream",
     "text": [
      "\u001b[36m(tune_with_parameters pid=2186413)\u001b[0m Checkpoint successfully created at: Checkpoint(filesystem=local, path=/scratch/users/k23058970/Model training/results/Single Peak LRCN Null/tune_with_parameters_2024-08-19_13-29-31/tune_with_parameters_c1630_00009_9_dp=0.2000,k1=1,k2=5,k3=3,k4=3,lr=0.0169_2024-08-19_13-30-01/checkpoint_000004)\n"
     ]
    },
    {
     "name": "stdout",
     "output_type": "stream",
     "text": [
      "\u001b[36m(tune_with_parameters pid=2169643)\u001b[0m loss: 0.000\u001b[32m [repeated 10x across cluster]\u001b[0m\n"
     ]
    },
    {
     "name": "stderr",
     "output_type": "stream",
     "text": [
      "Val Epoch:5: 0it [00:00, ?it/s]\u001b[32m [repeated 2x across cluster]\u001b[0m\n",
      "Val Epoch:4: 47it [00:01, 26.18it/s]\u001b[32m [repeated 23x across cluster]\u001b[0m\n"
     ]
    },
    {
     "name": "stdout",
     "output_type": "stream",
     "text": [
      "\u001b[36m(tune_with_parameters pid=2169643)\u001b[0m loss: 0.000\u001b[32m [repeated 24x across cluster]\u001b[0m\n"
     ]
    },
    {
     "name": "stderr",
     "output_type": "stream",
     "text": [
      "Val Epoch:5: 47it [00:02, 19.62it/s]13)\u001b[0m \n"
     ]
    },
    {
     "name": "stdout",
     "output_type": "stream",
     "text": [
      "\u001b[36m(tune_with_parameters pid=2186413)\u001b[0m /tmp/tmphlpd2wl2/checkpoint.pt\n"
     ]
    },
    {
     "name": "stderr",
     "output_type": "stream",
     "text": [
      "\u001b[36m(tune_with_parameters pid=2186413)\u001b[0m Checkpoint successfully created at: Checkpoint(filesystem=local, path=/scratch/users/k23058970/Model training/results/Single Peak LRCN Null/tune_with_parameters_2024-08-19_13-29-31/tune_with_parameters_c1630_00009_9_dp=0.2000,k1=1,k2=5,k3=3,k4=3,lr=0.0169_2024-08-19_13-30-01/checkpoint_000005)\n"
     ]
    },
    {
     "name": "stdout",
     "output_type": "stream",
     "text": [
      "\u001b[36m(tune_with_parameters pid=2186413)\u001b[0m loss: 0.014\u001b[32m [repeated 11x across cluster]\u001b[0m\n"
     ]
    },
    {
     "name": "stderr",
     "output_type": "stream",
     "text": [
      "Val Epoch:6: 0it [00:00, ?it/s]\u001b[32m [repeated 2x across cluster]\u001b[0m\n",
      "Val Epoch:29: 47it [00:02, 16.65it/s]\u001b[32m [repeated 20x across cluster]\u001b[0m\n"
     ]
    },
    {
     "name": "stdout",
     "output_type": "stream",
     "text": [
      "\u001b[36m(tune_with_parameters pid=2186413)\u001b[0m /tmp/tmp6n00c6rz/checkpoint.pt\n"
     ]
    },
    {
     "name": "stderr",
     "output_type": "stream",
     "text": [
      "\u001b[36m(tune_with_parameters pid=2186413)\u001b[0m Checkpoint successfully created at: Checkpoint(filesystem=local, path=/scratch/users/k23058970/Model training/results/Single Peak LRCN Null/tune_with_parameters_2024-08-19_13-29-31/tune_with_parameters_c1630_00009_9_dp=0.2000,k1=1,k2=5,k3=3,k4=3,lr=0.0169_2024-08-19_13-30-01/checkpoint_000006)\n"
     ]
    },
    {
     "name": "stdout",
     "output_type": "stream",
     "text": [
      "\u001b[36m(tune_with_parameters pid=2169643)\u001b[0m loss: 0.000\u001b[32m [repeated 18x across cluster]\u001b[0m\n"
     ]
    },
    {
     "name": "stderr",
     "output_type": "stream",
     "text": [
      "Val Epoch:30: 0it [00:00, ?it/s]169643)\u001b[0m \n",
      "Val Epoch:30: 33it [00:01, 24.41it/s]\u001b[32m [repeated 19x across cluster]\u001b[0m\n",
      "Val Epoch:7: 0it [00:00, ?it/s]2186413)\u001b[0m \n"
     ]
    },
    {
     "name": "stdout",
     "output_type": "stream",
     "text": [
      "\u001b[36m(tune_with_parameters pid=2169643)\u001b[0m loss: 0.000\u001b[32m [repeated 20x across cluster]\u001b[0m\n",
      "\u001b[36m(tune_with_parameters pid=2186413)\u001b[0m /tmp/tmp26a3532p/checkpoint.pt\n"
     ]
    },
    {
     "name": "stderr",
     "output_type": "stream",
     "text": [
      "\u001b[36m(tune_with_parameters pid=2186413)\u001b[0m Checkpoint successfully created at: Checkpoint(filesystem=local, path=/scratch/users/k23058970/Model training/results/Single Peak LRCN Null/tune_with_parameters_2024-08-19_13-29-31/tune_with_parameters_c1630_00009_9_dp=0.2000,k1=1,k2=5,k3=3,k4=3,lr=0.0169_2024-08-19_13-30-01/checkpoint_000007)\n"
     ]
    },
    {
     "name": "stdout",
     "output_type": "stream",
     "text": [
      "\u001b[36m(tune_with_parameters pid=2169643)\u001b[0m loss: 0.000\u001b[32m [repeated 19x across cluster]\u001b[0m\n"
     ]
    },
    {
     "name": "stderr",
     "output_type": "stream",
     "text": [
      "Val Epoch:7: 47it [00:01, 29.94it/s]\u001b[32m [repeated 15x across cluster]\u001b[0m\n",
      "Val Epoch:31: 0it [00:00, ?it/s]169643)\u001b[0m \n",
      "Val Epoch:8: 0it [00:00, ?it/s]2186413)\u001b[0m \n"
     ]
    },
    {
     "name": "stdout",
     "output_type": "stream",
     "text": [
      "\u001b[36m(tune_with_parameters pid=2186413)\u001b[0m /tmp/tmpxs7nxvr0/checkpoint.pt\n"
     ]
    },
    {
     "name": "stderr",
     "output_type": "stream",
     "text": [
      "\u001b[36m(tune_with_parameters pid=2186413)\u001b[0m Checkpoint successfully created at: Checkpoint(filesystem=local, path=/scratch/users/k23058970/Model training/results/Single Peak LRCN Null/tune_with_parameters_2024-08-19_13-29-31/tune_with_parameters_c1630_00009_9_dp=0.2000,k1=1,k2=5,k3=3,k4=3,lr=0.0169_2024-08-19_13-30-01/checkpoint_000008)\n"
     ]
    },
    {
     "name": "stdout",
     "output_type": "stream",
     "text": [
      "\u001b[36m(tune_with_parameters pid=2186413)\u001b[0m loss: 0.002\u001b[32m [repeated 11x across cluster]\u001b[0m\n"
     ]
    },
    {
     "name": "stderr",
     "output_type": "stream",
     "text": [
      "Val Epoch:9: 0it [00:00, ?it/s]2186413)\u001b[0m \n",
      "Val Epoch:8: 47it [00:02, 22.21it/s]\u001b[32m [repeated 23x across cluster]\u001b[0m\n"
     ]
    },
    {
     "name": "stdout",
     "output_type": "stream",
     "text": [
      "\u001b[36m(tune_with_parameters pid=2169643)\u001b[0m loss: 0.000\u001b[32m [repeated 25x across cluster]\u001b[0m\n"
     ]
    },
    {
     "name": "stderr",
     "output_type": "stream",
     "text": [
      "Val Epoch:32: 0it [00:00, ?it/s]169643)\u001b[0m \n"
     ]
    },
    {
     "name": "stdout",
     "output_type": "stream",
     "text": [
      "\u001b[36m(tune_with_parameters pid=2186413)\u001b[0m /tmp/tmpkb5mtnlp/checkpoint.pt\n"
     ]
    },
    {
     "name": "stderr",
     "output_type": "stream",
     "text": [
      "\u001b[36m(tune_with_parameters pid=2186413)\u001b[0m Checkpoint successfully created at: Checkpoint(filesystem=local, path=/scratch/users/k23058970/Model training/results/Single Peak LRCN Null/tune_with_parameters_2024-08-19_13-29-31/tune_with_parameters_c1630_00009_9_dp=0.2000,k1=1,k2=5,k3=3,k4=3,lr=0.0169_2024-08-19_13-30-01/checkpoint_000009)\n"
     ]
    },
    {
     "name": "stdout",
     "output_type": "stream",
     "text": [
      "\u001b[36m(tune_with_parameters pid=2169643)\u001b[0m loss: 0.000\u001b[32m [repeated 12x across cluster]\u001b[0m\n"
     ]
    },
    {
     "name": "stderr",
     "output_type": "stream",
     "text": [
      "Val Epoch:32: 47it [00:02, 21.88it/s]\u001b[32m [repeated 21x across cluster]\u001b[0m\n",
      "Val Epoch:10: 0it [00:00, ?it/s]186413)\u001b[0m \n"
     ]
    },
    {
     "name": "stdout",
     "output_type": "stream",
     "text": [
      "\u001b[36m(tune_with_parameters pid=2186413)\u001b[0m loss: 0.002\u001b[32m [repeated 19x across cluster]\u001b[0m\n"
     ]
    },
    {
     "name": "stderr",
     "output_type": "stream",
     "text": [
      "Val Epoch:33: 0it [00:00, ?it/s]169643)\u001b[0m \n",
      "Val Epoch:33: 14it [00:00, 21.05it/s]\u001b[32m [repeated 14x across cluster]\u001b[0m\n"
     ]
    },
    {
     "name": "stdout",
     "output_type": "stream",
     "text": [
      "\u001b[36m(tune_with_parameters pid=2169643)\u001b[0m loss: 0.000\u001b[32m [repeated 18x across cluster]\u001b[0m\n"
     ]
    },
    {
     "name": "stderr",
     "output_type": "stream",
     "text": [
      "Val Epoch:11: 0it [00:00, ?it/s]186413)\u001b[0m \n"
     ]
    },
    {
     "name": "stdout",
     "output_type": "stream",
     "text": [
      "\u001b[36m(tune_with_parameters pid=2186413)\u001b[0m /tmp/tmpw1f7rwmu/checkpoint.pt\n"
     ]
    },
    {
     "name": "stderr",
     "output_type": "stream",
     "text": [
      "\u001b[36m(tune_with_parameters pid=2186413)\u001b[0m Checkpoint successfully created at: Checkpoint(filesystem=local, path=/scratch/users/k23058970/Model training/results/Single Peak LRCN Null/tune_with_parameters_2024-08-19_13-29-31/tune_with_parameters_c1630_00009_9_dp=0.2000,k1=1,k2=5,k3=3,k4=3,lr=0.0169_2024-08-19_13-30-01/checkpoint_000010)\n"
     ]
    },
    {
     "name": "stdout",
     "output_type": "stream",
     "text": [
      "\u001b[36m(tune_with_parameters pid=2169643)\u001b[0m loss: 0.000\u001b[32m [repeated 18x across cluster]\u001b[0m\n"
     ]
    },
    {
     "name": "stderr",
     "output_type": "stream",
     "text": [
      "Val Epoch:34: 0it [00:00, ?it/s]169643)\u001b[0m \n",
      "Val Epoch:11: 47it [00:01, 30.65it/s]\u001b[32m [repeated 18x across cluster]\u001b[0m\n"
     ]
    },
    {
     "name": "stdout",
     "output_type": "stream",
     "text": [
      "\u001b[36m(tune_with_parameters pid=2169643)\u001b[0m loss: 0.000\u001b[32m [repeated 11x across cluster]\u001b[0m\n"
     ]
    },
    {
     "name": "stderr",
     "output_type": "stream",
     "text": [
      "Val Epoch:13: 0it [00:00, ?it/s]\u001b[32m [repeated 2x across cluster]\u001b[0m\n",
      "Val Epoch:34: 47it [00:03, 15.36it/s]\u001b[32m [repeated 23x across cluster]\u001b[0m\n"
     ]
    },
    {
     "name": "stdout",
     "output_type": "stream",
     "text": [
      "\u001b[36m(tune_with_parameters pid=2169643)\u001b[0m loss: 0.000\u001b[32m [repeated 24x across cluster]\u001b[0m\n",
      "\u001b[36m(tune_with_parameters pid=2186413)\u001b[0m /tmp/tmp53d_ayxl/checkpoint.pt\n"
     ]
    },
    {
     "name": "stderr",
     "output_type": "stream",
     "text": [
      "\u001b[36m(tune_with_parameters pid=2186413)\u001b[0m Checkpoint successfully created at: Checkpoint(filesystem=local, path=/scratch/users/k23058970/Model training/results/Single Peak LRCN Null/tune_with_parameters_2024-08-19_13-29-31/tune_with_parameters_c1630_00009_9_dp=0.2000,k1=1,k2=5,k3=3,k4=3,lr=0.0169_2024-08-19_13-30-01/checkpoint_000011)\n",
      "Val Epoch:35: 0it [00:00, ?it/s]169643)\u001b[0m \n",
      "Val Epoch:35: 40it [00:01, 33.26it/s]\u001b[32m [repeated 22x across cluster]\u001b[0m\n"
     ]
    },
    {
     "name": "stdout",
     "output_type": "stream",
     "text": [
      "\u001b[36m(tune_with_parameters pid=2186413)\u001b[0m loss: 0.001\u001b[32m [repeated 15x across cluster]\u001b[0m\n"
     ]
    },
    {
     "name": "stderr",
     "output_type": "stream",
     "text": [
      "Val Epoch:14: 0it [00:00, ?it/s]186413)\u001b[0m \n",
      "Val Epoch:14: 47it [00:01, 31.18it/s]3)\u001b[0m \n"
     ]
    },
    {
     "name": "stdout",
     "output_type": "stream",
     "text": [
      "\u001b[36m(tune_with_parameters pid=2169643)\u001b[0m loss: 0.000\u001b[32m [repeated 18x across cluster]\u001b[0m\n"
     ]
    },
    {
     "name": "stderr",
     "output_type": "stream",
     "text": [
      "Val Epoch:15: 0it [00:00, ?it/s]186413)\u001b[0m \n",
      "Val Epoch:14: 40it [00:01, 43.33it/s]\u001b[32m [repeated 12x across cluster]\u001b[0m\n",
      "Val Epoch:36: 0it [00:00, ?it/s]169643)\u001b[0m \n"
     ]
    },
    {
     "name": "stdout",
     "output_type": "stream",
     "text": [
      "\u001b[36m(tune_with_parameters pid=2186413)\u001b[0m loss: 0.001\u001b[32m [repeated 17x across cluster]\u001b[0m\n"
     ]
    },
    {
     "name": "stderr",
     "output_type": "stream",
     "text": [
      "Val Epoch:36: 47it [00:01, 27.66it/s]\u001b[32m [repeated 25x across cluster]\u001b[0m\n",
      "Val Epoch:16: 0it [00:00, ?it/s]186413)\u001b[0m \n"
     ]
    },
    {
     "name": "stdout",
     "output_type": "stream",
     "text": [
      "\u001b[36m(tune_with_parameters pid=2169643)\u001b[0m loss: 0.000\u001b[32m [repeated 24x across cluster]\u001b[0m\n"
     ]
    },
    {
     "name": "stderr",
     "output_type": "stream",
     "text": [
      "Val Epoch:37: 0it [00:00, ?it/s]169643)\u001b[0m \n",
      "Val Epoch:37: 16it [00:01, 19.59it/s]\u001b[32m [repeated 15x across cluster]\u001b[0m\n"
     ]
    },
    {
     "name": "stdout",
     "output_type": "stream",
     "text": [
      "\u001b[36m(tune_with_parameters pid=2186413)\u001b[0m loss: 0.001\u001b[32m [repeated 14x across cluster]\u001b[0m\n"
     ]
    },
    {
     "name": "stderr",
     "output_type": "stream",
     "text": [
      "Val Epoch:17: 0it [00:00, ?it/s]186413)\u001b[0m \n"
     ]
    },
    {
     "name": "stdout",
     "output_type": "stream",
     "text": [
      "\u001b[36m(tune_with_parameters pid=2169643)\u001b[0m loss: 0.000\u001b[32m [repeated 14x across cluster]\u001b[0m\n"
     ]
    },
    {
     "name": "stderr",
     "output_type": "stream",
     "text": [
      "Val Epoch:38: 0it [00:00, ?it/s]169643)\u001b[0m \n",
      "Val Epoch:17: 47it [00:01, 35.80it/s]\u001b[32m [repeated 18x across cluster]\u001b[0m\n"
     ]
    },
    {
     "name": "stdout",
     "output_type": "stream",
     "text": [
      "\u001b[36m(tune_with_parameters pid=2169643)\u001b[0m loss: 0.000\u001b[32m [repeated 23x across cluster]\u001b[0m\n",
      "\u001b[36m(tune_with_parameters pid=2169643)\u001b[0m loss: 0.000\u001b[32m [repeated 25x across cluster]\u001b[0m\n"
     ]
    },
    {
     "name": "stderr",
     "output_type": "stream",
     "text": [
      "Val Epoch:19: 0it [00:00, ?it/s]\u001b[32m [repeated 2x across cluster]\u001b[0m\n",
      "Val Epoch:18: 47it [00:01, 30.15it/s]\u001b[32m [repeated 21x across cluster]\u001b[0m\n"
     ]
    },
    {
     "name": "stdout",
     "output_type": "stream",
     "text": [
      "\u001b[36m(tune_with_parameters pid=2186413)\u001b[0m loss: 0.001\u001b[32m [repeated 12x across cluster]\u001b[0m\n"
     ]
    },
    {
     "name": "stderr",
     "output_type": "stream",
     "text": [
      "Val Epoch:20: 0it [00:00, ?it/s]\u001b[32m [repeated 2x across cluster]\u001b[0m\n",
      "Val Epoch:39: 47it [00:02, 22.96it/s]\u001b[32m [repeated 22x across cluster]\u001b[0m\n",
      "Val Epoch:20: 19it [00:00, 34.18it/s]3)\u001b[0m \n"
     ]
    },
    {
     "name": "stdout",
     "output_type": "stream",
     "text": [
      "\u001b[36m(tune_with_parameters pid=2186413)\u001b[0m loss: 0.000\u001b[32m [repeated 16x across cluster]\u001b[0m\n"
     ]
    },
    {
     "name": "stderr",
     "output_type": "stream",
     "text": [
      "Val Epoch:40: 0it [00:00, ?it/s]169643)\u001b[0m \n",
      "Val Epoch:20: 47it [00:01, 35.09it/s]\u001b[32m [repeated 8x across cluster]\u001b[0m\n",
      "Val Epoch:21: 0it [00:00, ?it/s]186413)\u001b[0m \n"
     ]
    },
    {
     "name": "stdout",
     "output_type": "stream",
     "text": [
      "\u001b[36m(tune_with_parameters pid=2169643)\u001b[0m loss: 0.000\u001b[32m [repeated 22x across cluster]\u001b[0m\n",
      "\u001b[36m(tune_with_parameters pid=2186413)\u001b[0m loss: 0.000\u001b[32m [repeated 22x across cluster]\u001b[0m\n"
     ]
    },
    {
     "name": "stderr",
     "output_type": "stream",
     "text": [
      "Val Epoch:22: 0it [00:00, ?it/s]186413)\u001b[0m \n",
      "Val Epoch:21: 47it [00:02, 22.94it/s]\u001b[32m [repeated 24x across cluster]\u001b[0m\n",
      "Val Epoch:41: 0it [00:00, ?it/s]169643)\u001b[0m \n"
     ]
    },
    {
     "name": "stdout",
     "output_type": "stream",
     "text": [
      "\u001b[36m(tune_with_parameters pid=2186413)\u001b[0m loss: 0.000\u001b[32m [repeated 13x across cluster]\u001b[0m\n"
     ]
    },
    {
     "name": "stderr",
     "output_type": "stream",
     "text": [
      "Val Epoch:41: 47it [00:01, 26.92it/s]\u001b[32m [repeated 24x across cluster]\u001b[0m\n",
      "Val Epoch:23: 0it [00:00, ?it/s]186413)\u001b[0m \n"
     ]
    },
    {
     "name": "stdout",
     "output_type": "stream",
     "text": [
      "\u001b[36m(tune_with_parameters pid=2169643)\u001b[0m loss: 0.000\u001b[32m [repeated 18x across cluster]\u001b[0m\n"
     ]
    },
    {
     "name": "stderr",
     "output_type": "stream",
     "text": [
      "Val Epoch:42: 0it [00:00, ?it/s]169643)\u001b[0m \n",
      "Val Epoch:23: 47it [00:01, 38.29it/s]\u001b[32m [repeated 10x across cluster]\u001b[0m\n"
     ]
    },
    {
     "name": "stdout",
     "output_type": "stream",
     "text": [
      "\u001b[36m(tune_with_parameters pid=2186413)\u001b[0m loss: 0.000\u001b[32m [repeated 21x across cluster]\u001b[0m\n",
      "\u001b[36m(tune_with_parameters pid=2186413)\u001b[0m loss: 0.000\u001b[32m [repeated 13x across cluster]\u001b[0m\n"
     ]
    },
    {
     "name": "stderr",
     "output_type": "stream",
     "text": [
      "Val Epoch:25: 0it [00:00, ?it/s]\u001b[32m [repeated 2x across cluster]\u001b[0m\n",
      "Val Epoch:24: 47it [00:01, 28.57it/s]\u001b[32m [repeated 24x across cluster]\u001b[0m\n"
     ]
    },
    {
     "name": "stdout",
     "output_type": "stream",
     "text": [
      "\u001b[36m(tune_with_parameters pid=2186413)\u001b[0m loss: 0.000\u001b[32m [repeated 18x across cluster]\u001b[0m\n"
     ]
    },
    {
     "name": "stderr",
     "output_type": "stream",
     "text": [
      "Val Epoch:26: 0it [00:00, ?it/s]\u001b[32m [repeated 2x across cluster]\u001b[0m\n",
      "Val Epoch:43: 47it [00:01, 27.88it/s]\u001b[32m [repeated 23x across cluster]\u001b[0m\n"
     ]
    },
    {
     "name": "stdout",
     "output_type": "stream",
     "text": [
      "\u001b[36m(tune_with_parameters pid=2169643)\u001b[0m loss: 0.000\u001b[32m [repeated 21x across cluster]\u001b[0m\n"
     ]
    },
    {
     "name": "stderr",
     "output_type": "stream",
     "text": [
      "Val Epoch:44: 0it [00:00, ?it/s]169643)\u001b[0m \n",
      "Val Epoch:26: 47it [00:01, 33.08it/s]\u001b[32m [repeated 10x across cluster]\u001b[0m\n"
     ]
    },
    {
     "name": "stdout",
     "output_type": "stream",
     "text": [
      "\u001b[36m(tune_with_parameters pid=2186413)\u001b[0m loss: 0.000\u001b[32m [repeated 18x across cluster]\u001b[0m\n"
     ]
    },
    {
     "name": "stderr",
     "output_type": "stream",
     "text": [
      "Val Epoch:27: 0it [00:00, ?it/s]186413)\u001b[0m \n"
     ]
    },
    {
     "name": "stdout",
     "output_type": "stream",
     "text": [
      "\u001b[36m(tune_with_parameters pid=2169643)\u001b[0m loss: 0.000\u001b[32m [repeated 11x across cluster]\u001b[0m\n"
     ]
    },
    {
     "name": "stderr",
     "output_type": "stream",
     "text": [
      "Val Epoch:28: 0it [00:00, ?it/s]186413)\u001b[0m \n",
      "Val Epoch:27: 47it [00:01, 25.65it/s]\u001b[32m [repeated 23x across cluster]\u001b[0m\n"
     ]
    },
    {
     "name": "stdout",
     "output_type": "stream",
     "text": [
      "\u001b[36m(tune_with_parameters pid=2169643)\u001b[0m loss: 0.000\u001b[32m [repeated 24x across cluster]\u001b[0m\n"
     ]
    },
    {
     "name": "stderr",
     "output_type": "stream",
     "text": [
      "Val Epoch:45: 0it [00:00, ?it/s]169643)\u001b[0m \n",
      "Val Epoch:45: 7it [00:00, 25.27it/s]43)\u001b[0m \n"
     ]
    },
    {
     "name": "stdout",
     "output_type": "stream",
     "text": [
      "\u001b[36m(tune_with_parameters pid=2169643)\u001b[0m loss: 0.000\u001b[32m [repeated 13x across cluster]\u001b[0m\n"
     ]
    },
    {
     "name": "stderr",
     "output_type": "stream",
     "text": [
      "Val Epoch:45: 47it [00:01, 26.62it/s]\u001b[32m [repeated 21x across cluster]\u001b[0m\n",
      "Val Epoch:29: 0it [00:00, ?it/s]186413)\u001b[0m \n"
     ]
    },
    {
     "name": "stdout",
     "output_type": "stream",
     "text": [
      "\u001b[36m(tune_with_parameters pid=2186413)\u001b[0m loss: 0.000\u001b[32m [repeated 18x across cluster]\u001b[0m\n"
     ]
    },
    {
     "name": "stderr",
     "output_type": "stream",
     "text": [
      "Val Epoch:46: 0it [00:00, ?it/s]169643)\u001b[0m \n",
      "Val Epoch:46: 26it [00:00, 35.76it/s]\u001b[32m [repeated 17x across cluster]\u001b[0m\n"
     ]
    },
    {
     "name": "stdout",
     "output_type": "stream",
     "text": [
      "\u001b[36m(tune_with_parameters pid=2169643)\u001b[0m loss: 0.000\u001b[32m [repeated 18x across cluster]\u001b[0m\n"
     ]
    },
    {
     "name": "stderr",
     "output_type": "stream",
     "text": [
      "Val Epoch:30: 0it [00:00, ?it/s]186413)\u001b[0m \n"
     ]
    },
    {
     "name": "stdout",
     "output_type": "stream",
     "text": [
      "\u001b[36m(tune_with_parameters pid=2169643)\u001b[0m loss: 0.000\u001b[32m [repeated 21x across cluster]\u001b[0m\n"
     ]
    },
    {
     "name": "stderr",
     "output_type": "stream",
     "text": [
      "Val Epoch:47: 0it [00:00, ?it/s]169643)\u001b[0m \n",
      "Val Epoch:30: 47it [00:01, 27.17it/s]\u001b[32m [repeated 16x across cluster]\u001b[0m\n"
     ]
    },
    {
     "name": "stdout",
     "output_type": "stream",
     "text": [
      "\u001b[36m(tune_with_parameters pid=2169643)\u001b[0m loss: 0.000\u001b[32m [repeated 9x across cluster]\u001b[0m\n"
     ]
    },
    {
     "name": "stderr",
     "output_type": "stream",
     "text": [
      "Val Epoch:32: 0it [00:00, ?it/s]\u001b[32m [repeated 2x across cluster]\u001b[0m\n",
      "Val Epoch:31: 47it [00:01, 26.99it/s]\u001b[32m [repeated 25x across cluster]\u001b[0m\n"
     ]
    },
    {
     "name": "stdout",
     "output_type": "stream",
     "text": [
      "\u001b[36m(tune_with_parameters pid=2169643)\u001b[0m loss: 0.000\u001b[32m [repeated 22x across cluster]\u001b[0m\n"
     ]
    },
    {
     "name": "stderr",
     "output_type": "stream",
     "text": [
      "Val Epoch:48: 0it [00:00, ?it/s]169643)\u001b[0m \n",
      "Val Epoch:48: 6it [00:00, 12.10it/s]\u001b[32m [repeated 13x across cluster]\u001b[0m\n"
     ]
    },
    {
     "name": "stdout",
     "output_type": "stream",
     "text": [
      "\u001b[36m(tune_with_parameters pid=2169643)\u001b[0m loss: 0.000\u001b[32m [repeated 16x across cluster]\u001b[0m\n"
     ]
    },
    {
     "name": "stderr",
     "output_type": "stream",
     "text": [
      "Val Epoch:33: 0it [00:00, ?it/s]186413)\u001b[0m \n",
      "Val Epoch:33: 47it [00:01, 35.27it/s]3)\u001b[0m \n"
     ]
    },
    {
     "name": "stdout",
     "output_type": "stream",
     "text": [
      "\u001b[36m(tune_with_parameters pid=2169643)\u001b[0m loss: 0.000\u001b[32m [repeated 18x across cluster]\u001b[0m\n"
     ]
    },
    {
     "name": "stderr",
     "output_type": "stream",
     "text": [
      "Val Epoch:33: 40it [00:01, 42.66it/s]\u001b[32m [repeated 19x across cluster]\u001b[0m\n",
      "Val Epoch:49: 0it [00:00, ?it/s]169643)\u001b[0m \n",
      "Val Epoch:34: 0it [00:00, ?it/s]186413)\u001b[0m \n"
     ]
    },
    {
     "name": "stdout",
     "output_type": "stream",
     "text": [
      "\u001b[36m(tune_with_parameters pid=2186413)\u001b[0m loss: 0.000\u001b[32m [repeated 16x across cluster]\u001b[0m\n"
     ]
    },
    {
     "name": "stderr",
     "output_type": "stream",
     "text": [
      "Val Epoch:35: 0it [00:00, ?it/s]186413)\u001b[0m \n",
      "Val Epoch:34: 47it [00:01, 29.23it/s]\u001b[32m [repeated 24x across cluster]\u001b[0m\n"
     ]
    },
    {
     "name": "stdout",
     "output_type": "stream",
     "text": [
      "\u001b[36m(tune_with_parameters pid=2169643)\u001b[0m loss: 0.000\u001b[32m [repeated 25x across cluster]\u001b[0m\n"
     ]
    },
    {
     "name": "stderr",
     "output_type": "stream",
     "text": [
      "Val Epoch:50: 0it [00:00, ?it/s]169643)\u001b[0m \n",
      "Val Epoch:50: 47it [00:01, 29.70it/s]3)\u001b[0m \n",
      "Val Epoch:50: 43it [00:01, 31.88it/s]\u001b[32m [repeated 21x across cluster]\u001b[0m\n"
     ]
    },
    {
     "name": "stdout",
     "output_type": "stream",
     "text": [
      "\u001b[36m(tune_with_parameters pid=2186413)\u001b[0m loss: 0.000\u001b[32m [repeated 14x across cluster]\u001b[0m\n"
     ]
    },
    {
     "name": "stderr",
     "output_type": "stream",
     "text": [
      "Val Epoch:36: 0it [00:00, ?it/s]186413)\u001b[0m \n"
     ]
    },
    {
     "name": "stdout",
     "output_type": "stream",
     "text": [
      "\u001b[36m(tune_with_parameters pid=2186413)\u001b[0m loss: 0.000\u001b[32m [repeated 15x across cluster]\u001b[0m\n"
     ]
    },
    {
     "name": "stderr",
     "output_type": "stream",
     "text": [
      "Val Epoch:51: 0it [00:00, ?it/s]169643)\u001b[0m \n",
      "Val Epoch:36: 47it [00:01, 36.98it/s]\u001b[32m [repeated 10x across cluster]\u001b[0m\n"
     ]
    },
    {
     "name": "stdout",
     "output_type": "stream",
     "text": [
      "\u001b[36m(tune_with_parameters pid=2169643)\u001b[0m loss: 0.000\u001b[32m [repeated 21x across cluster]\u001b[0m\n",
      "\u001b[36m(tune_with_parameters pid=2169643)\u001b[0m loss: 0.000\u001b[32m [repeated 24x across cluster]\u001b[0m\n"
     ]
    },
    {
     "name": "stderr",
     "output_type": "stream",
     "text": [
      "Val Epoch:38: 0it [00:00, ?it/s]\u001b[32m [repeated 2x across cluster]\u001b[0m\n",
      "Val Epoch:37: 47it [00:02, 22.80it/s]\u001b[32m [repeated 22x across cluster]\u001b[0m\n"
     ]
    },
    {
     "name": "stdout",
     "output_type": "stream",
     "text": [
      "\u001b[36m(tune_with_parameters pid=2186413)\u001b[0m loss: 0.000\u001b[32m [repeated 11x across cluster]\u001b[0m\n"
     ]
    },
    {
     "name": "stderr",
     "output_type": "stream",
     "text": [
      "Val Epoch:39: 0it [00:00, ?it/s]\u001b[32m [repeated 2x across cluster]\u001b[0m\n",
      "Val Epoch:52: 47it [00:02, 22.47it/s]\u001b[32m [repeated 23x across cluster]\u001b[0m\n",
      "Val Epoch:39: 47it [00:00, 59.31it/s]3)\u001b[0m \n"
     ]
    },
    {
     "name": "stdout",
     "output_type": "stream",
     "text": [
      "\u001b[36m(tune_with_parameters pid=2186413)\u001b[0m loss: 0.000\u001b[32m [repeated 20x across cluster]\u001b[0m\n"
     ]
    },
    {
     "name": "stderr",
     "output_type": "stream",
     "text": [
      "Val Epoch:40: 47it [00:00, 73.27it/s]3)\u001b[0m \n",
      "Val Epoch:41: 0it [00:00, ?it/s]\u001b[32m [repeated 2x across cluster]\u001b[0m\n",
      "Val Epoch:40: 31it [00:00, 69.61it/s]\u001b[32m [repeated 8x across cluster]\u001b[0m\n"
     ]
    },
    {
     "name": "stdout",
     "output_type": "stream",
     "text": [
      "\u001b[36m(tune_with_parameters pid=2186413)\u001b[0m loss: 0.000\u001b[32m [repeated 20x across cluster]\u001b[0m\n"
     ]
    },
    {
     "name": "stderr",
     "output_type": "stream",
     "text": [
      "Val Epoch:42: 0it [00:00, ?it/s]186413)\u001b[0m \n",
      "Val Epoch:42: 21it [00:00, 41.16it/s]\u001b[32m [repeated 9x across cluster]\u001b[0m\n"
     ]
    },
    {
     "name": "stdout",
     "output_type": "stream",
     "text": [
      "\u001b[36m(tune_with_parameters pid=2186413)\u001b[0m loss: 0.000\u001b[32m [repeated 22x across cluster]\u001b[0m\n"
     ]
    },
    {
     "name": "stderr",
     "output_type": "stream",
     "text": [
      "Val Epoch:43: 0it [00:00, ?it/s]186413)\u001b[0m \n",
      "Val Epoch:44: 0it [00:00, ?it/s]186413)\u001b[0m \n",
      "Val Epoch:43: 47it [00:00, 68.10it/s]\u001b[32m [repeated 9x across cluster]\u001b[0m\n",
      "Val Epoch:44: 47it [00:01, 44.16it/s]3)\u001b[0m \n"
     ]
    },
    {
     "name": "stdout",
     "output_type": "stream",
     "text": [
      "\u001b[36m(tune_with_parameters pid=2186413)\u001b[0m loss: 0.000\u001b[32m [repeated 23x across cluster]\u001b[0m\n"
     ]
    },
    {
     "name": "stderr",
     "output_type": "stream",
     "text": [
      "Val Epoch:45: 0it [00:00, ?it/s]186413)\u001b[0m \n",
      "Val Epoch:45: 47it [00:00, 66.48it/s]3)\u001b[0m \n"
     ]
    },
    {
     "name": "stdout",
     "output_type": "stream",
     "text": [
      "\u001b[36m(tune_with_parameters pid=2186413)\u001b[0m loss: 0.000\u001b[32m [repeated 25x across cluster]\u001b[0m\n"
     ]
    },
    {
     "name": "stderr",
     "output_type": "stream",
     "text": [
      "Val Epoch:46: 0it [00:00, ?it/s]186413)\u001b[0m \n",
      "Val Epoch:45: 33it [00:00, 75.41it/s]\u001b[32m [repeated 9x across cluster]\u001b[0m\n",
      "Val Epoch:46: 47it [00:00, 60.93it/s]3)\u001b[0m \n",
      "Val Epoch:47: 0it [00:00, ?it/s]186413)\u001b[0m \n"
     ]
    },
    {
     "name": "stdout",
     "output_type": "stream",
     "text": [
      "\u001b[36m(tune_with_parameters pid=2186413)\u001b[0m loss: 0.000\u001b[32m [repeated 20x across cluster]\u001b[0m\n"
     ]
    },
    {
     "name": "stderr",
     "output_type": "stream",
     "text": [
      "Val Epoch:48: 0it [00:00, ?it/s]186413)\u001b[0m \n",
      "Val Epoch:47: 47it [00:00, 62.87it/s]\u001b[32m [repeated 10x across cluster]\u001b[0m\n"
     ]
    },
    {
     "name": "stdout",
     "output_type": "stream",
     "text": [
      "\u001b[36m(tune_with_parameters pid=2186413)\u001b[0m loss: 0.000\u001b[32m [repeated 20x across cluster]\u001b[0m\n"
     ]
    },
    {
     "name": "stderr",
     "output_type": "stream",
     "text": [
      "Val Epoch:49: 0it [00:00, ?it/s]186413)\u001b[0m \n",
      "Val Epoch:49: 21it [00:00, 43.31it/s]\u001b[32m [repeated 9x across cluster]\u001b[0m\n",
      "Val Epoch:49: 47it [00:00, 49.03it/s]3)\u001b[0m \n"
     ]
    },
    {
     "name": "stdout",
     "output_type": "stream",
     "text": [
      "\u001b[36m(tune_with_parameters pid=2186413)\u001b[0m loss: 0.000\u001b[32m [repeated 22x across cluster]\u001b[0m\n"
     ]
    },
    {
     "name": "stderr",
     "output_type": "stream",
     "text": [
      "Val Epoch:50: 0it [00:00, ?it/s]186413)\u001b[0m \n",
      "Val Epoch:50: 47it [00:00, 82.56it/s]3)\u001b[0m \n",
      "Val Epoch:51: 0it [00:00, ?it/s]186413)\u001b[0m \n",
      "Val Epoch:50: 35it [00:00, 91.21it/s]\u001b[32m [repeated 5x across cluster]\u001b[0m\n"
     ]
    },
    {
     "name": "stdout",
     "output_type": "stream",
     "text": [
      "\u001b[36m(tune_with_parameters pid=2186413)\u001b[0m loss: 0.000\u001b[32m [repeated 18x across cluster]\u001b[0m\n"
     ]
    },
    {
     "name": "stderr",
     "output_type": "stream",
     "text": [
      "Val Epoch:52: 0it [00:00, ?it/s]186413)\u001b[0m \n",
      "Val Epoch:52: 47it [00:00, 58.23it/s]3)\u001b[0m \n"
     ]
    },
    {
     "name": "stdout",
     "output_type": "stream",
     "text": [
      "\u001b[36m(tune_with_parameters pid=2186413)\u001b[0m loss: 0.000\u001b[32m [repeated 21x across cluster]\u001b[0m\n"
     ]
    },
    {
     "name": "stderr",
     "output_type": "stream",
     "text": [
      "Val Epoch:53: 0it [00:00, ?it/s]186413)\u001b[0m \n",
      "Val Epoch:52: 31it [00:00, 65.70it/s]\u001b[32m [repeated 9x across cluster]\u001b[0m\n",
      "Val Epoch:54: 0it [00:00, ?it/s]186413)\u001b[0m \n"
     ]
    },
    {
     "name": "stdout",
     "output_type": "stream",
     "text": [
      "\u001b[36m(tune_with_parameters pid=2186413)\u001b[0m loss: 0.000\u001b[32m [repeated 24x across cluster]\u001b[0m\n"
     ]
    },
    {
     "name": "stderr",
     "output_type": "stream",
     "text": [
      "Val Epoch:55: 0it [00:00, ?it/s]186413)\u001b[0m \n",
      "Val Epoch:54: 47it [00:00, 47.16it/s]\u001b[32m [repeated 11x across cluster]\u001b[0m\n"
     ]
    },
    {
     "name": "stdout",
     "output_type": "stream",
     "text": [
      "\u001b[36m(tune_with_parameters pid=2186413)\u001b[0m loss: 0.000\u001b[32m [repeated 24x across cluster]\u001b[0m\n"
     ]
    },
    {
     "name": "stderr",
     "output_type": "stream",
     "text": [
      "Val Epoch:56: 0it [00:00, ?it/s]186413)\u001b[0m \n",
      "Val Epoch:57: 0it [00:00, ?it/s]186413)\u001b[0m \n",
      "Val Epoch:56: 47it [00:00, 78.11it/s]\u001b[32m [repeated 12x across cluster]\u001b[0m\n"
     ]
    },
    {
     "name": "stdout",
     "output_type": "stream",
     "text": [
      "\u001b[36m(tune_with_parameters pid=2186413)\u001b[0m loss: 0.000\u001b[32m [repeated 21x across cluster]\u001b[0m\n"
     ]
    },
    {
     "name": "stderr",
     "output_type": "stream",
     "text": [
      "Val Epoch:58: 0it [00:00, ?it/s]186413)\u001b[0m \n",
      "Val Epoch:58: 47it [00:00, 76.63it/s]3)\u001b[0m \n"
     ]
    },
    {
     "name": "stdout",
     "output_type": "stream",
     "text": [
      "\u001b[36m(tune_with_parameters pid=2186413)\u001b[0m loss: 0.000\u001b[32m [repeated 22x across cluster]\u001b[0m\n"
     ]
    },
    {
     "name": "stderr",
     "output_type": "stream",
     "text": [
      "Val Epoch:59: 0it [00:00, ?it/s]186413)\u001b[0m \n",
      "Val Epoch:58: 31it [00:00, 82.12it/s]\u001b[32m [repeated 10x across cluster]\u001b[0m\n",
      "Val Epoch:59: 47it [00:00, 61.64it/s]3)\u001b[0m \n"
     ]
    },
    {
     "name": "stdout",
     "output_type": "stream",
     "text": [
      "\u001b[36m(tune_with_parameters pid=2186413)\u001b[0m loss: 0.000\u001b[32m [repeated 22x across cluster]\u001b[0m\n"
     ]
    },
    {
     "name": "stderr",
     "output_type": "stream",
     "text": [
      "Val Epoch:60: 0it [00:00, ?it/s]186413)\u001b[0m \n",
      "Val Epoch:60: 47it [00:01, 41.62it/s]\u001b[32m [repeated 10x across cluster]\u001b[0m\n",
      "Val Epoch:61: 0it [00:00, ?it/s]186413)\u001b[0m \n"
     ]
    },
    {
     "name": "stdout",
     "output_type": "stream",
     "text": [
      "\u001b[36m(tune_with_parameters pid=2186413)\u001b[0m loss: 0.000\u001b[32m [repeated 16x across cluster]\u001b[0m\n"
     ]
    },
    {
     "name": "stderr",
     "output_type": "stream",
     "text": [
      "Val Epoch:62: 0it [00:00, ?it/s]186413)\u001b[0m \n",
      "Val Epoch:61: 47it [00:00, 73.15it/s]\u001b[32m [repeated 6x across cluster]\u001b[0m\n",
      "Val Epoch:62: 47it [00:00, 65.34it/s]3)\u001b[0m \n"
     ]
    },
    {
     "name": "stdout",
     "output_type": "stream",
     "text": [
      "\u001b[36m(tune_with_parameters pid=2186413)\u001b[0m loss: 0.000\u001b[32m [repeated 23x across cluster]\u001b[0m\n"
     ]
    },
    {
     "name": "stderr",
     "output_type": "stream",
     "text": [
      "Val Epoch:63: 0it [00:00, ?it/s]186413)\u001b[0m \n",
      "Val Epoch:63: 47it [00:00, 62.07it/s]3)\u001b[0m \n",
      "Val Epoch:64: 0it [00:00, ?it/s]186413)\u001b[0m \n",
      "Val Epoch:63: 32it [00:00, 69.96it/s]\u001b[32m [repeated 8x across cluster]\u001b[0m\n"
     ]
    },
    {
     "name": "stdout",
     "output_type": "stream",
     "text": [
      "\u001b[36m(tune_with_parameters pid=2186413)\u001b[0m loss: 0.000\u001b[32m [repeated 22x across cluster]\u001b[0m\n"
     ]
    },
    {
     "name": "stderr",
     "output_type": "stream",
     "text": [
      "Val Epoch:65: 0it [00:00, ?it/s]186413)\u001b[0m \n",
      "Val Epoch:65: 47it [00:00, 59.56it/s]3)\u001b[0m \n"
     ]
    },
    {
     "name": "stdout",
     "output_type": "stream",
     "text": [
      "\u001b[36m(tune_with_parameters pid=2186413)\u001b[0m loss: 0.000\u001b[32m [repeated 22x across cluster]\u001b[0m\n"
     ]
    },
    {
     "name": "stderr",
     "output_type": "stream",
     "text": [
      "Val Epoch:66: 0it [00:00, ?it/s]186413)\u001b[0m \n",
      "Val Epoch:65: 32it [00:00, 68.40it/s]\u001b[32m [repeated 10x across cluster]\u001b[0m\n",
      "Val Epoch:67: 0it [00:00, ?it/s]186413)\u001b[0m \n"
     ]
    },
    {
     "name": "stdout",
     "output_type": "stream",
     "text": [
      "\u001b[36m(tune_with_parameters pid=2186413)\u001b[0m loss: 0.000\u001b[32m [repeated 23x across cluster]\u001b[0m\n"
     ]
    },
    {
     "name": "stderr",
     "output_type": "stream",
     "text": [
      "Val Epoch:68: 0it [00:00, ?it/s]186413)\u001b[0m \n",
      "Val Epoch:67: 47it [00:00, 62.93it/s]\u001b[32m [repeated 12x across cluster]\u001b[0m\n"
     ]
    },
    {
     "name": "stdout",
     "output_type": "stream",
     "text": [
      "\u001b[36m(tune_with_parameters pid=2186413)\u001b[0m loss: 0.000\u001b[32m [repeated 20x across cluster]\u001b[0m\n"
     ]
    },
    {
     "name": "stderr",
     "output_type": "stream",
     "text": [
      "Val Epoch:69: 0it [00:00, ?it/s]186413)\u001b[0m \n",
      "Val Epoch:69: 47it [00:00, 59.29it/s]3)\u001b[0m \n"
     ]
    },
    {
     "name": "stdout",
     "output_type": "stream",
     "text": [
      "\u001b[36m(tune_with_parameters pid=2186413)\u001b[0m loss: 0.000\u001b[32m [repeated 23x across cluster]\u001b[0m\n"
     ]
    },
    {
     "name": "stderr",
     "output_type": "stream",
     "text": [
      "Val Epoch:70: 0it [00:00, ?it/s]186413)\u001b[0m \n",
      "Val Epoch:69: 31it [00:00, 66.63it/s]\u001b[32m [repeated 10x across cluster]\u001b[0m\n",
      "Val Epoch:71: 0it [00:00, ?it/s]186413)\u001b[0m \n"
     ]
    },
    {
     "name": "stdout",
     "output_type": "stream",
     "text": [
      "\u001b[36m(tune_with_parameters pid=2186413)\u001b[0m loss: 0.000\u001b[32m [repeated 17x across cluster]\u001b[0m\n"
     ]
    },
    {
     "name": "stderr",
     "output_type": "stream",
     "text": [
      "Val Epoch:72: 0it [00:00, ?it/s]186413)\u001b[0m \n",
      "Val Epoch:71: 47it [00:00, 59.69it/s]\u001b[32m [repeated 12x across cluster]\u001b[0m\n",
      "Val Epoch:72: 47it [00:00, 49.30it/s]3)\u001b[0m \n"
     ]
    },
    {
     "name": "stdout",
     "output_type": "stream",
     "text": [
      "\u001b[36m(tune_with_parameters pid=2186413)\u001b[0m loss: 0.000\u001b[32m [repeated 22x across cluster]\u001b[0m\n"
     ]
    },
    {
     "name": "stderr",
     "output_type": "stream",
     "text": [
      "Val Epoch:73: 0it [00:00, ?it/s]186413)\u001b[0m \n",
      "Val Epoch:74: 0it [00:00, ?it/s]186413)\u001b[0m \n",
      "Val Epoch:73: 47it [00:00, 62.81it/s]\u001b[32m [repeated 10x across cluster]\u001b[0m\n",
      "Val Epoch:74: 47it [00:00, 63.40it/s]3)\u001b[0m \n"
     ]
    },
    {
     "name": "stdout",
     "output_type": "stream",
     "text": [
      "\u001b[36m(tune_with_parameters pid=2186413)\u001b[0m loss: 0.000\u001b[32m [repeated 23x across cluster]\u001b[0m\n"
     ]
    },
    {
     "name": "stderr",
     "output_type": "stream",
     "text": [
      "Val Epoch:75: 0it [00:00, ?it/s]186413)\u001b[0m \n",
      "Val Epoch:75: 47it [00:00, 63.28it/s]3)\u001b[0m \n"
     ]
    },
    {
     "name": "stdout",
     "output_type": "stream",
     "text": [
      "\u001b[36m(tune_with_parameters pid=2186413)\u001b[0m loss: 0.000\u001b[32m [repeated 22x across cluster]\u001b[0m\n"
     ]
    },
    {
     "name": "stderr",
     "output_type": "stream",
     "text": [
      "Val Epoch:76: 0it [00:00, ?it/s]186413)\u001b[0m \n",
      "Val Epoch:75: 29it [00:00, 69.32it/s]\u001b[32m [repeated 8x across cluster]\u001b[0m\n",
      "Val Epoch:77: 0it [00:00, ?it/s]186413)\u001b[0m \n",
      "Val Epoch:77: 47it [00:00, 60.68it/s]3)\u001b[0m \n"
     ]
    },
    {
     "name": "stdout",
     "output_type": "stream",
     "text": [
      "\u001b[36m(tune_with_parameters pid=2186413)\u001b[0m loss: 0.000\u001b[32m [repeated 23x across cluster]\u001b[0m\n"
     ]
    },
    {
     "name": "stderr",
     "output_type": "stream",
     "text": [
      "Val Epoch:78: 0it [00:00, ?it/s]186413)\u001b[0m \n",
      "Val Epoch:77: 31it [00:00, 70.03it/s]\u001b[32m [repeated 10x across cluster]\u001b[0m\n",
      "Val Epoch:78: 47it [00:00, 60.08it/s]3)\u001b[0m \n"
     ]
    },
    {
     "name": "stdout",
     "output_type": "stream",
     "text": [
      "\u001b[36m(tune_with_parameters pid=2186413)\u001b[0m loss: 0.000\u001b[32m [repeated 21x across cluster]\u001b[0m\n"
     ]
    },
    {
     "name": "stderr",
     "output_type": "stream",
     "text": [
      "Val Epoch:79: 0it [00:00, ?it/s]186413)\u001b[0m \n",
      "Val Epoch:79: 42it [00:00, 81.06it/s]3)\u001b[0m \n"
     ]
    },
    {
     "name": "stdout",
     "output_type": "stream",
     "text": [
      "\u001b[36m(tune_with_parameters pid=2186413)\u001b[0m loss: 0.000\u001b[32m [repeated 23x across cluster]\u001b[0m\n"
     ]
    },
    {
     "name": "stderr",
     "output_type": "stream",
     "text": [
      "Val Epoch:80: 0it [00:00, ?it/s]186413)\u001b[0m \n",
      "Val Epoch:79: 47it [00:00, 60.77it/s]\u001b[32m [repeated 8x across cluster]\u001b[0m\n",
      "Val Epoch:81: 0it [00:00, ?it/s]186413)\u001b[0m \n"
     ]
    },
    {
     "name": "stdout",
     "output_type": "stream",
     "text": [
      "\u001b[36m(tune_with_parameters pid=2186413)\u001b[0m loss: 0.000\u001b[32m [repeated 16x across cluster]\u001b[0m\n"
     ]
    },
    {
     "name": "stderr",
     "output_type": "stream",
     "text": [
      "Val Epoch:82: 0it [00:00, ?it/s]186413)\u001b[0m \n",
      "Val Epoch:81: 47it [00:00, 59.94it/s]\u001b[32m [repeated 12x across cluster]\u001b[0m\n"
     ]
    },
    {
     "name": "stdout",
     "output_type": "stream",
     "text": [
      "\u001b[36m(tune_with_parameters pid=2186413)\u001b[0m loss: 0.000\u001b[32m [repeated 26x across cluster]\u001b[0m\n"
     ]
    },
    {
     "name": "stderr",
     "output_type": "stream",
     "text": [
      "Val Epoch:83: 0it [00:00, ?it/s]186413)\u001b[0m \n",
      "Val Epoch:83: 47it [00:00, 49.37it/s]3)\u001b[0m \n",
      "Val Epoch:84: 0it [00:00, ?it/s]186413)\u001b[0m \n",
      "Val Epoch:83: 31it [00:00, 56.98it/s]\u001b[32m [repeated 10x across cluster]\u001b[0m\n",
      "Val Epoch:84: 6it [00:00, 14.95it/s]13)\u001b[0m \n",
      "Val Epoch:84: 47it [00:01, 45.74it/s]3)\u001b[0m \n"
     ]
    },
    {
     "name": "stdout",
     "output_type": "stream",
     "text": [
      "\u001b[36m(tune_with_parameters pid=2186413)\u001b[0m loss: 0.000\u001b[32m [repeated 19x across cluster]\u001b[0m\n"
     ]
    },
    {
     "name": "stderr",
     "output_type": "stream",
     "text": [
      "Val Epoch:85: 0it [00:00, ?it/s]186413)\u001b[0m \n"
     ]
    },
    {
     "name": "stdout",
     "output_type": "stream",
     "text": [
      "\u001b[36m(tune_with_parameters pid=2186413)\u001b[0m loss: 0.000\u001b[32m [repeated 22x across cluster]\u001b[0m\n"
     ]
    },
    {
     "name": "stderr",
     "output_type": "stream",
     "text": [
      "Val Epoch:86: 0it [00:00, ?it/s]186413)\u001b[0m \n",
      "Val Epoch:85: 47it [00:00, 52.10it/s]\u001b[32m [repeated 9x across cluster]\u001b[0m\n",
      "Val Epoch:86: 47it [00:00, 66.82it/s]3)\u001b[0m \n"
     ]
    },
    {
     "name": "stdout",
     "output_type": "stream",
     "text": [
      "\u001b[36m(tune_with_parameters pid=2186413)\u001b[0m loss: 0.000\u001b[32m [repeated 22x across cluster]\u001b[0m\n"
     ]
    },
    {
     "name": "stderr",
     "output_type": "stream",
     "text": [
      "Val Epoch:87: 0it [00:00, ?it/s]186413)\u001b[0m \n",
      "Val Epoch:87: 47it [00:00, 54.48it/s]3)\u001b[0m \n",
      "2024-08-19 14:26:44,540\tINFO tune.py:1009 -- Wrote the latest version of all result files and experiment state to '/scratch/users/k23058970/Model training/results/Single Peak LRCN Null/tune_with_parameters_2024-08-19_13-29-31' in 0.0416s.\n",
      "2024-08-19 14:26:44,553\tINFO tune.py:1041 -- Total run time: 3402.76 seconds (3402.67 seconds for the tuning loop).\n"
     ]
    },
    {
     "name": "stdout",
     "output_type": "stream",
     "text": [
      "Best trial config: {'nc1': 4, 'k1': 1, 'nc2': 32, 'k2': 5, 'nc3': 128, 'k3': 1, 'nc4': 256, 'k4': 5, 'dp': 0.25, 'l1': 256, 'l2': 128, 'lr': 0.08729640957981641}\n",
      "Best trial final validation loss: 0.00010146182013605844\n",
      "Best trial final validation accuracy: 1.0\n",
      "Best trial f1-score: 1.0\n"
     ]
    },
    {
     "ename": "RuntimeError",
     "evalue": "running_mean should contain 900 elements not 4",
     "output_type": "error",
     "traceback": [
      "\u001b[0;31m---------------------------------------------------------------------------\u001b[0m",
      "\u001b[0;31mRuntimeError\u001b[0m                              Traceback (most recent call last)",
      "Cell \u001b[0;32mIn[2], line 2\u001b[0m\n\u001b[1;32m      1\u001b[0m DATASET_DIR \u001b[38;5;241m=\u001b[39m \u001b[38;5;124m\"\u001b[39m\u001b[38;5;124m/scratch/users/k23058970/Model training/Null Dataset/Single Peak\u001b[39m\u001b[38;5;124m\"\u001b[39m\n\u001b[0;32m----> 2\u001b[0m \u001b[43mmain\u001b[49m\u001b[43m(\u001b[49m\u001b[43mdataset_dir\u001b[49m\u001b[38;5;241;43m=\u001b[39;49m\u001b[43mDATASET_DIR\u001b[49m\u001b[43m,\u001b[49m\u001b[43mdset_name\u001b[49m\u001b[43m \u001b[49m\u001b[38;5;241;43m=\u001b[39;49m\u001b[43m \u001b[49m\u001b[38;5;124;43m\"\u001b[39;49m\u001b[38;5;124;43mSingle Peak LRCN Null\u001b[39;49m\u001b[38;5;124;43m\"\u001b[39;49m\u001b[43m)\u001b[49m\n",
      "File \u001b[0;32m/scratch/users/k23058970/Model training/training_insilico_lrcn.py:367\u001b[0m, in \u001b[0;36mmain\u001b[0;34m(dataset_dir, num_samples, max_num_epochs, gpus_per_trial, dset_name)\u001b[0m\n\u001b[1;32m    361\u001b[0m \u001b[38;5;28mprint\u001b[39m(\u001b[38;5;124m\"\u001b[39m\u001b[38;5;124mBest trial final validation accuracy: \u001b[39m\u001b[38;5;132;01m{}\u001b[39;00m\u001b[38;5;124m\"\u001b[39m\u001b[38;5;241m.\u001b[39mformat(\n\u001b[1;32m    362\u001b[0m     best_result\u001b[38;5;241m.\u001b[39mmetrics[\u001b[38;5;124m\"\u001b[39m\u001b[38;5;124maccuracy\u001b[39m\u001b[38;5;124m\"\u001b[39m]))\n\u001b[1;32m    363\u001b[0m \u001b[38;5;28mprint\u001b[39m(\u001b[38;5;124m\"\u001b[39m\u001b[38;5;124mBest trial f1-score: \u001b[39m\u001b[38;5;132;01m{}\u001b[39;00m\u001b[38;5;124m\"\u001b[39m\u001b[38;5;241m.\u001b[39mformat(\n\u001b[1;32m    364\u001b[0m     best_result\u001b[38;5;241m.\u001b[39mmetrics[\u001b[38;5;124m'\u001b[39m\u001b[38;5;124mf1\u001b[39m\u001b[38;5;124m'\u001b[39m]\n\u001b[1;32m    365\u001b[0m ))\n\u001b[0;32m--> 367\u001b[0m \u001b[43mtest_best_model\u001b[49m\u001b[43m(\u001b[49m\u001b[43mbest_result\u001b[49m\u001b[43m,\u001b[49m\u001b[43mdataset_dir\u001b[49m\u001b[38;5;241;43m=\u001b[39;49m\u001b[43mdataset_dir\u001b[49m\u001b[43m)\u001b[49m\n",
      "File \u001b[0;32m/scratch/users/k23058970/Model training/training_insilico_lrcn.py:267\u001b[0m, in \u001b[0;36mtest_best_model\u001b[0;34m(best_config, dataset_dir)\u001b[0m\n\u001b[1;32m    266\u001b[0m \u001b[38;5;28;01mdef\u001b[39;00m \u001b[38;5;21mtest_best_model\u001b[39m(best_config,dataset_dir):\n\u001b[0;32m--> 267\u001b[0m     best_model \u001b[38;5;241m=\u001b[39m \u001b[43mInSilicoLRCN\u001b[49m\u001b[43m(\u001b[49m\n\u001b[1;32m    268\u001b[0m \u001b[43m        \u001b[49m\u001b[43mbest_config\u001b[49m\u001b[38;5;241;43m.\u001b[39;49m\u001b[43mconfig\u001b[49m\u001b[43m[\u001b[49m\u001b[38;5;124;43m'\u001b[39;49m\u001b[38;5;124;43mnc1\u001b[39;49m\u001b[38;5;124;43m'\u001b[39;49m\u001b[43m]\u001b[49m\u001b[43m,\u001b[49m\n\u001b[1;32m    269\u001b[0m \u001b[43m        \u001b[49m\u001b[43mbest_config\u001b[49m\u001b[38;5;241;43m.\u001b[39;49m\u001b[43mconfig\u001b[49m\u001b[43m[\u001b[49m\u001b[38;5;124;43m'\u001b[39;49m\u001b[38;5;124;43mk1\u001b[39;49m\u001b[38;5;124;43m'\u001b[39;49m\u001b[43m]\u001b[49m\u001b[43m,\u001b[49m\n\u001b[1;32m    270\u001b[0m \u001b[43m        \u001b[49m\u001b[43mbest_config\u001b[49m\u001b[38;5;241;43m.\u001b[39;49m\u001b[43mconfig\u001b[49m\u001b[43m[\u001b[49m\u001b[38;5;124;43m'\u001b[39;49m\u001b[38;5;124;43mnc2\u001b[39;49m\u001b[38;5;124;43m'\u001b[39;49m\u001b[43m]\u001b[49m\u001b[43m,\u001b[49m\n\u001b[1;32m    271\u001b[0m \u001b[43m        \u001b[49m\u001b[43mbest_config\u001b[49m\u001b[38;5;241;43m.\u001b[39;49m\u001b[43mconfig\u001b[49m\u001b[43m[\u001b[49m\u001b[38;5;124;43m'\u001b[39;49m\u001b[38;5;124;43mk2\u001b[39;49m\u001b[38;5;124;43m'\u001b[39;49m\u001b[43m]\u001b[49m\u001b[43m,\u001b[49m\n\u001b[1;32m    272\u001b[0m \u001b[43m        \u001b[49m\u001b[43mbest_config\u001b[49m\u001b[38;5;241;43m.\u001b[39;49m\u001b[43mconfig\u001b[49m\u001b[43m[\u001b[49m\u001b[38;5;124;43m'\u001b[39;49m\u001b[38;5;124;43mnc3\u001b[39;49m\u001b[38;5;124;43m'\u001b[39;49m\u001b[43m]\u001b[49m\u001b[43m,\u001b[49m\n\u001b[1;32m    273\u001b[0m \u001b[43m        \u001b[49m\u001b[43mbest_config\u001b[49m\u001b[38;5;241;43m.\u001b[39;49m\u001b[43mconfig\u001b[49m\u001b[43m[\u001b[49m\u001b[38;5;124;43m'\u001b[39;49m\u001b[38;5;124;43mk3\u001b[39;49m\u001b[38;5;124;43m'\u001b[39;49m\u001b[43m]\u001b[49m\u001b[43m,\u001b[49m\n\u001b[1;32m    274\u001b[0m \u001b[43m        \u001b[49m\u001b[43mbest_config\u001b[49m\u001b[38;5;241;43m.\u001b[39;49m\u001b[43mconfig\u001b[49m\u001b[43m[\u001b[49m\u001b[38;5;124;43m'\u001b[39;49m\u001b[38;5;124;43mnc4\u001b[39;49m\u001b[38;5;124;43m'\u001b[39;49m\u001b[43m]\u001b[49m\u001b[43m,\u001b[49m\n\u001b[1;32m    275\u001b[0m \u001b[43m        \u001b[49m\u001b[43mbest_config\u001b[49m\u001b[38;5;241;43m.\u001b[39;49m\u001b[43mconfig\u001b[49m\u001b[43m[\u001b[49m\u001b[38;5;124;43m'\u001b[39;49m\u001b[38;5;124;43mk4\u001b[39;49m\u001b[38;5;124;43m'\u001b[39;49m\u001b[43m]\u001b[49m\u001b[43m,\u001b[49m\n\u001b[1;32m    276\u001b[0m \u001b[43m        \u001b[49m\u001b[43mbest_config\u001b[49m\u001b[38;5;241;43m.\u001b[39;49m\u001b[43mconfig\u001b[49m\u001b[43m[\u001b[49m\u001b[38;5;124;43m'\u001b[39;49m\u001b[38;5;124;43mdp\u001b[39;49m\u001b[38;5;124;43m'\u001b[39;49m\u001b[43m]\u001b[49m\u001b[43m,\u001b[49m\n\u001b[1;32m    277\u001b[0m \u001b[43m        \u001b[49m\u001b[43mbest_config\u001b[49m\u001b[38;5;241;43m.\u001b[39;49m\u001b[43mconfig\u001b[49m\u001b[43m[\u001b[49m\u001b[38;5;124;43m'\u001b[39;49m\u001b[38;5;124;43ml1\u001b[39;49m\u001b[38;5;124;43m'\u001b[39;49m\u001b[43m]\u001b[49m\u001b[43m,\u001b[49m\n\u001b[1;32m    278\u001b[0m \u001b[43m        \u001b[49m\u001b[43mbest_config\u001b[49m\u001b[38;5;241;43m.\u001b[39;49m\u001b[43mconfig\u001b[49m\u001b[43m[\u001b[49m\u001b[38;5;124;43m'\u001b[39;49m\u001b[38;5;124;43ml2\u001b[39;49m\u001b[38;5;124;43m'\u001b[39;49m\u001b[43m]\u001b[49m\n\u001b[1;32m    279\u001b[0m \u001b[43m    \u001b[49m\u001b[43m)\u001b[49m\n\u001b[1;32m    281\u001b[0m     \u001b[38;5;28;01mif\u001b[39;00m torch\u001b[38;5;241m.\u001b[39mcuda\u001b[38;5;241m.\u001b[39mis_available():\n\u001b[1;32m    282\u001b[0m         device \u001b[38;5;241m=\u001b[39m \u001b[38;5;124m'\u001b[39m\u001b[38;5;124mcuda:0\u001b[39m\u001b[38;5;124m'\u001b[39m\n",
      "File \u001b[0;32m/scratch/users/k23058970/Model training/insilico_lrcn.py:35\u001b[0m, in \u001b[0;36mInSilicoLRCN.__init__\u001b[0;34m(self, nc1, k1, nc2, k2, nc3, k3, nc4, k4, dp, l1, l2, init_input)\u001b[0m\n\u001b[1;32m     32\u001b[0m \u001b[38;5;28mself\u001b[39m\u001b[38;5;241m.\u001b[39mdropout \u001b[38;5;241m=\u001b[39m nn\u001b[38;5;241m.\u001b[39mDropout1d(p\u001b[38;5;241m=\u001b[39mdp)\n\u001b[1;32m     34\u001b[0m \u001b[38;5;66;03m# We need to find the length of the input for the LSTM\u001b[39;00m\n\u001b[0;32m---> 35\u001b[0m \u001b[38;5;28mself\u001b[39m\u001b[38;5;241m.\u001b[39mlstm_shape \u001b[38;5;241m=\u001b[39m \u001b[38;5;28;43mself\u001b[39;49m\u001b[38;5;241;43m.\u001b[39;49m\u001b[43mlength_lstm\u001b[49m\u001b[43m(\u001b[49m\u001b[43minit_input\u001b[49m\u001b[43m)\u001b[49m\n\u001b[1;32m     36\u001b[0m \u001b[38;5;28mself\u001b[39m\u001b[38;5;241m.\u001b[39mlstm1 \u001b[38;5;241m=\u001b[39m nn\u001b[38;5;241m.\u001b[39mLSTM(input_size \u001b[38;5;241m=\u001b[39m \u001b[38;5;28mself\u001b[39m\u001b[38;5;241m.\u001b[39mlstm_shape[\u001b[38;5;241m-\u001b[39m\u001b[38;5;241m1\u001b[39m],\n\u001b[1;32m     37\u001b[0m                      hidden_size \u001b[38;5;241m=\u001b[39m \u001b[38;5;241m500\u001b[39m,\n\u001b[1;32m     38\u001b[0m                      num_layers\u001b[38;5;241m=\u001b[39m\u001b[38;5;241m3\u001b[39m,\n\u001b[1;32m     39\u001b[0m                      batch_first\u001b[38;5;241m=\u001b[39m\u001b[38;5;28;01mTrue\u001b[39;00m)\n\u001b[1;32m     41\u001b[0m \u001b[38;5;28mself\u001b[39m\u001b[38;5;241m.\u001b[39mflatten \u001b[38;5;241m=\u001b[39m nn\u001b[38;5;241m.\u001b[39mFlatten()\n",
      "File \u001b[0;32m/scratch/users/k23058970/Model training/insilico_lrcn.py:72\u001b[0m, in \u001b[0;36mInSilicoLRCN.length_lstm\u001b[0;34m(self, x)\u001b[0m\n\u001b[1;32m     70\u001b[0m x \u001b[38;5;241m=\u001b[39m \u001b[38;5;28mself\u001b[39m\u001b[38;5;241m.\u001b[39mconv1(x)\n\u001b[1;32m     71\u001b[0m x \u001b[38;5;241m=\u001b[39m \u001b[38;5;28mself\u001b[39m\u001b[38;5;241m.\u001b[39mpool1(F\u001b[38;5;241m.\u001b[39mgelu(x))\n\u001b[0;32m---> 72\u001b[0m x \u001b[38;5;241m=\u001b[39m \u001b[38;5;28;43mself\u001b[39;49m\u001b[38;5;241;43m.\u001b[39;49m\u001b[43mbn1\u001b[49m\u001b[43m(\u001b[49m\u001b[43mx\u001b[49m\u001b[43m)\u001b[49m\n\u001b[1;32m     73\u001b[0m x \u001b[38;5;241m=\u001b[39m \u001b[38;5;28mself\u001b[39m\u001b[38;5;241m.\u001b[39mconv2(x)\n\u001b[1;32m     74\u001b[0m x \u001b[38;5;241m=\u001b[39m \u001b[38;5;28mself\u001b[39m\u001b[38;5;241m.\u001b[39mpool2(F\u001b[38;5;241m.\u001b[39mgelu(x))\n",
      "File \u001b[0;32m~/miniforge3/envs/Training/lib/python3.10/site-packages/torch/nn/modules/module.py:1532\u001b[0m, in \u001b[0;36mModule._wrapped_call_impl\u001b[0;34m(self, *args, **kwargs)\u001b[0m\n\u001b[1;32m   1530\u001b[0m     \u001b[38;5;28;01mreturn\u001b[39;00m \u001b[38;5;28mself\u001b[39m\u001b[38;5;241m.\u001b[39m_compiled_call_impl(\u001b[38;5;241m*\u001b[39margs, \u001b[38;5;241m*\u001b[39m\u001b[38;5;241m*\u001b[39mkwargs)  \u001b[38;5;66;03m# type: ignore[misc]\u001b[39;00m\n\u001b[1;32m   1531\u001b[0m \u001b[38;5;28;01melse\u001b[39;00m:\n\u001b[0;32m-> 1532\u001b[0m     \u001b[38;5;28;01mreturn\u001b[39;00m \u001b[38;5;28;43mself\u001b[39;49m\u001b[38;5;241;43m.\u001b[39;49m\u001b[43m_call_impl\u001b[49m\u001b[43m(\u001b[49m\u001b[38;5;241;43m*\u001b[39;49m\u001b[43margs\u001b[49m\u001b[43m,\u001b[49m\u001b[43m \u001b[49m\u001b[38;5;241;43m*\u001b[39;49m\u001b[38;5;241;43m*\u001b[39;49m\u001b[43mkwargs\u001b[49m\u001b[43m)\u001b[49m\n",
      "File \u001b[0;32m~/miniforge3/envs/Training/lib/python3.10/site-packages/torch/nn/modules/module.py:1541\u001b[0m, in \u001b[0;36mModule._call_impl\u001b[0;34m(self, *args, **kwargs)\u001b[0m\n\u001b[1;32m   1536\u001b[0m \u001b[38;5;66;03m# If we don't have any hooks, we want to skip the rest of the logic in\u001b[39;00m\n\u001b[1;32m   1537\u001b[0m \u001b[38;5;66;03m# this function, and just call forward.\u001b[39;00m\n\u001b[1;32m   1538\u001b[0m \u001b[38;5;28;01mif\u001b[39;00m \u001b[38;5;129;01mnot\u001b[39;00m (\u001b[38;5;28mself\u001b[39m\u001b[38;5;241m.\u001b[39m_backward_hooks \u001b[38;5;129;01mor\u001b[39;00m \u001b[38;5;28mself\u001b[39m\u001b[38;5;241m.\u001b[39m_backward_pre_hooks \u001b[38;5;129;01mor\u001b[39;00m \u001b[38;5;28mself\u001b[39m\u001b[38;5;241m.\u001b[39m_forward_hooks \u001b[38;5;129;01mor\u001b[39;00m \u001b[38;5;28mself\u001b[39m\u001b[38;5;241m.\u001b[39m_forward_pre_hooks\n\u001b[1;32m   1539\u001b[0m         \u001b[38;5;129;01mor\u001b[39;00m _global_backward_pre_hooks \u001b[38;5;129;01mor\u001b[39;00m _global_backward_hooks\n\u001b[1;32m   1540\u001b[0m         \u001b[38;5;129;01mor\u001b[39;00m _global_forward_hooks \u001b[38;5;129;01mor\u001b[39;00m _global_forward_pre_hooks):\n\u001b[0;32m-> 1541\u001b[0m     \u001b[38;5;28;01mreturn\u001b[39;00m \u001b[43mforward_call\u001b[49m\u001b[43m(\u001b[49m\u001b[38;5;241;43m*\u001b[39;49m\u001b[43margs\u001b[49m\u001b[43m,\u001b[49m\u001b[43m \u001b[49m\u001b[38;5;241;43m*\u001b[39;49m\u001b[38;5;241;43m*\u001b[39;49m\u001b[43mkwargs\u001b[49m\u001b[43m)\u001b[49m\n\u001b[1;32m   1543\u001b[0m \u001b[38;5;28;01mtry\u001b[39;00m:\n\u001b[1;32m   1544\u001b[0m     result \u001b[38;5;241m=\u001b[39m \u001b[38;5;28;01mNone\u001b[39;00m\n",
      "File \u001b[0;32m~/miniforge3/envs/Training/lib/python3.10/site-packages/torch/nn/modules/batchnorm.py:175\u001b[0m, in \u001b[0;36m_BatchNorm.forward\u001b[0;34m(self, input)\u001b[0m\n\u001b[1;32m    168\u001b[0m     bn_training \u001b[38;5;241m=\u001b[39m (\u001b[38;5;28mself\u001b[39m\u001b[38;5;241m.\u001b[39mrunning_mean \u001b[38;5;129;01mis\u001b[39;00m \u001b[38;5;28;01mNone\u001b[39;00m) \u001b[38;5;129;01mand\u001b[39;00m (\u001b[38;5;28mself\u001b[39m\u001b[38;5;241m.\u001b[39mrunning_var \u001b[38;5;129;01mis\u001b[39;00m \u001b[38;5;28;01mNone\u001b[39;00m)\n\u001b[1;32m    170\u001b[0m \u001b[38;5;250m\u001b[39m\u001b[38;5;124mr\u001b[39m\u001b[38;5;124;03m\"\"\"\u001b[39;00m\n\u001b[1;32m    171\u001b[0m \u001b[38;5;124;03mBuffers are only updated if they are to be tracked and we are in training mode. Thus they only need to be\u001b[39;00m\n\u001b[1;32m    172\u001b[0m \u001b[38;5;124;03mpassed when the update should occur (i.e. in training mode when they are tracked), or when buffer stats are\u001b[39;00m\n\u001b[1;32m    173\u001b[0m \u001b[38;5;124;03mused for normalization (i.e. in eval mode when buffers are not None).\u001b[39;00m\n\u001b[1;32m    174\u001b[0m \u001b[38;5;124;03m\"\"\"\u001b[39;00m\n\u001b[0;32m--> 175\u001b[0m \u001b[38;5;28;01mreturn\u001b[39;00m \u001b[43mF\u001b[49m\u001b[38;5;241;43m.\u001b[39;49m\u001b[43mbatch_norm\u001b[49m\u001b[43m(\u001b[49m\n\u001b[1;32m    176\u001b[0m \u001b[43m    \u001b[49m\u001b[38;5;28;43minput\u001b[39;49m\u001b[43m,\u001b[49m\n\u001b[1;32m    177\u001b[0m \u001b[43m    \u001b[49m\u001b[38;5;66;43;03m# If buffers are not to be tracked, ensure that they won't be updated\u001b[39;49;00m\n\u001b[1;32m    178\u001b[0m \u001b[43m    \u001b[49m\u001b[38;5;28;43mself\u001b[39;49m\u001b[38;5;241;43m.\u001b[39;49m\u001b[43mrunning_mean\u001b[49m\n\u001b[1;32m    179\u001b[0m \u001b[43m    \u001b[49m\u001b[38;5;28;43;01mif\u001b[39;49;00m\u001b[43m \u001b[49m\u001b[38;5;129;43;01mnot\u001b[39;49;00m\u001b[43m \u001b[49m\u001b[38;5;28;43mself\u001b[39;49m\u001b[38;5;241;43m.\u001b[39;49m\u001b[43mtraining\u001b[49m\u001b[43m \u001b[49m\u001b[38;5;129;43;01mor\u001b[39;49;00m\u001b[43m \u001b[49m\u001b[38;5;28;43mself\u001b[39;49m\u001b[38;5;241;43m.\u001b[39;49m\u001b[43mtrack_running_stats\u001b[49m\n\u001b[1;32m    180\u001b[0m \u001b[43m    \u001b[49m\u001b[38;5;28;43;01melse\u001b[39;49;00m\u001b[43m \u001b[49m\u001b[38;5;28;43;01mNone\u001b[39;49;00m\u001b[43m,\u001b[49m\n\u001b[1;32m    181\u001b[0m \u001b[43m    \u001b[49m\u001b[38;5;28;43mself\u001b[39;49m\u001b[38;5;241;43m.\u001b[39;49m\u001b[43mrunning_var\u001b[49m\u001b[43m \u001b[49m\u001b[38;5;28;43;01mif\u001b[39;49;00m\u001b[43m \u001b[49m\u001b[38;5;129;43;01mnot\u001b[39;49;00m\u001b[43m \u001b[49m\u001b[38;5;28;43mself\u001b[39;49m\u001b[38;5;241;43m.\u001b[39;49m\u001b[43mtraining\u001b[49m\u001b[43m \u001b[49m\u001b[38;5;129;43;01mor\u001b[39;49;00m\u001b[43m \u001b[49m\u001b[38;5;28;43mself\u001b[39;49m\u001b[38;5;241;43m.\u001b[39;49m\u001b[43mtrack_running_stats\u001b[49m\u001b[43m \u001b[49m\u001b[38;5;28;43;01melse\u001b[39;49;00m\u001b[43m \u001b[49m\u001b[38;5;28;43;01mNone\u001b[39;49;00m\u001b[43m,\u001b[49m\n\u001b[1;32m    182\u001b[0m \u001b[43m    \u001b[49m\u001b[38;5;28;43mself\u001b[39;49m\u001b[38;5;241;43m.\u001b[39;49m\u001b[43mweight\u001b[49m\u001b[43m,\u001b[49m\n\u001b[1;32m    183\u001b[0m \u001b[43m    \u001b[49m\u001b[38;5;28;43mself\u001b[39;49m\u001b[38;5;241;43m.\u001b[39;49m\u001b[43mbias\u001b[49m\u001b[43m,\u001b[49m\n\u001b[1;32m    184\u001b[0m \u001b[43m    \u001b[49m\u001b[43mbn_training\u001b[49m\u001b[43m,\u001b[49m\n\u001b[1;32m    185\u001b[0m \u001b[43m    \u001b[49m\u001b[43mexponential_average_factor\u001b[49m\u001b[43m,\u001b[49m\n\u001b[1;32m    186\u001b[0m \u001b[43m    \u001b[49m\u001b[38;5;28;43mself\u001b[39;49m\u001b[38;5;241;43m.\u001b[39;49m\u001b[43meps\u001b[49m\u001b[43m,\u001b[49m\n\u001b[1;32m    187\u001b[0m \u001b[43m\u001b[49m\u001b[43m)\u001b[49m\n",
      "File \u001b[0;32m~/miniforge3/envs/Training/lib/python3.10/site-packages/torch/nn/functional.py:2509\u001b[0m, in \u001b[0;36mbatch_norm\u001b[0;34m(input, running_mean, running_var, weight, bias, training, momentum, eps)\u001b[0m\n\u001b[1;32m   2506\u001b[0m \u001b[38;5;28;01mif\u001b[39;00m training:\n\u001b[1;32m   2507\u001b[0m     _verify_batch_size(\u001b[38;5;28minput\u001b[39m\u001b[38;5;241m.\u001b[39msize())\n\u001b[0;32m-> 2509\u001b[0m \u001b[38;5;28;01mreturn\u001b[39;00m \u001b[43mtorch\u001b[49m\u001b[38;5;241;43m.\u001b[39;49m\u001b[43mbatch_norm\u001b[49m\u001b[43m(\u001b[49m\n\u001b[1;32m   2510\u001b[0m \u001b[43m    \u001b[49m\u001b[38;5;28;43minput\u001b[39;49m\u001b[43m,\u001b[49m\u001b[43m \u001b[49m\u001b[43mweight\u001b[49m\u001b[43m,\u001b[49m\u001b[43m \u001b[49m\u001b[43mbias\u001b[49m\u001b[43m,\u001b[49m\u001b[43m \u001b[49m\u001b[43mrunning_mean\u001b[49m\u001b[43m,\u001b[49m\u001b[43m \u001b[49m\u001b[43mrunning_var\u001b[49m\u001b[43m,\u001b[49m\u001b[43m \u001b[49m\u001b[43mtraining\u001b[49m\u001b[43m,\u001b[49m\u001b[43m \u001b[49m\u001b[43mmomentum\u001b[49m\u001b[43m,\u001b[49m\u001b[43m \u001b[49m\u001b[43meps\u001b[49m\u001b[43m,\u001b[49m\u001b[43m \u001b[49m\u001b[43mtorch\u001b[49m\u001b[38;5;241;43m.\u001b[39;49m\u001b[43mbackends\u001b[49m\u001b[38;5;241;43m.\u001b[39;49m\u001b[43mcudnn\u001b[49m\u001b[38;5;241;43m.\u001b[39;49m\u001b[43menabled\u001b[49m\n\u001b[1;32m   2511\u001b[0m \u001b[43m\u001b[49m\u001b[43m)\u001b[49m\n",
      "\u001b[0;31mRuntimeError\u001b[0m: running_mean should contain 900 elements not 4"
     ]
    }
   ],
   "source": [
    "DATASET_DIR = \"/scratch/users/k23058970/Model training/Null Dataset/Single Peak\"\n",
    "main(dataset_dir=DATASET_DIR,dset_name = \"Single Peak LRCN Null\")"
   ]
  },
  {
   "cell_type": "code",
   "execution_count": null,
   "metadata": {},
   "outputs": [],
   "source": []
  }
 ],
 "metadata": {
  "kernelspec": {
   "display_name": "Training",
   "language": "python",
   "name": "training"
  },
  "language_info": {
   "codemirror_mode": {
    "name": "ipython",
    "version": 3
   },
   "file_extension": ".py",
   "mimetype": "text/x-python",
   "name": "python",
   "nbconvert_exporter": "python",
   "pygments_lexer": "ipython3",
   "version": "3.10.14"
  }
 },
 "nbformat": 4,
 "nbformat_minor": 4
}
