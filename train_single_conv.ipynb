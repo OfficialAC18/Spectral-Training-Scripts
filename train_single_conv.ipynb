{
 "cells": [
  {
   "cell_type": "code",
   "execution_count": 1,
   "metadata": {},
   "outputs": [],
   "source": [
    "#Call Main and let it run\n",
    "from training_insilico_conv import main"
   ]
  },
  {
   "cell_type": "code",
   "execution_count": 2,
   "metadata": {},
   "outputs": [
    {
     "data": {
      "text/html": [
       "<div class=\"tuneStatus\">\n",
       "  <div style=\"display: flex;flex-direction: row\">\n",
       "    <div style=\"display: flex;flex-direction: column;\">\n",
       "      <h3>Tune Status</h3>\n",
       "      <table>\n",
       "<tbody>\n",
       "<tr><td>Current time:</td><td>2024-08-19 13:52:41</td></tr>\n",
       "<tr><td>Running for: </td><td>00:27:07.33        </td></tr>\n",
       "<tr><td>Memory:      </td><td>54.0/1007.5 GiB    </td></tr>\n",
       "</tbody>\n",
       "</table>\n",
       "    </div>\n",
       "    <div class=\"vDivider\"></div>\n",
       "    <div class=\"systemInfo\">\n",
       "      <h3>System Info</h3>\n",
       "      Using AsyncHyperBand: num_stopped=7<br>Bracket: Iter 60.000: -0.00023984707047233354 | Iter 30.000: -0.0003814038072186064 | Iter 15.000: -0.0011545906615557466<br>Logical resource usage: 24.0/96 CPUs, 0.5/1 GPUs (0.0/1.0 accelerator_type:A30)\n",
       "    </div>\n",
       "    <div class=\"vDivider\"></div>\n",
       "<div class=\"messages\">\n",
       "  <h3>Messages</h3>\n",
       "  \n",
       "  \n",
       "  Number of errored trials: 3<br><table>\n",
       "<thead>\n",
       "<tr><th>Trial name                      </th><th style=\"text-align: right;\">  # failures</th><th>error file                                                                                                                                                                                                                                          </th></tr>\n",
       "</thead>\n",
       "<tbody>\n",
       "<tr><td>tune_with_parameters_21b89_00000</td><td style=\"text-align: right;\">           1</td><td>/tmp/ray/session_2024-08-19_13-25-03_810683_1823264/artifacts/2024-08-19_13-25-33/tune_with_parameters_2024-08-19_13-25-03/driver_artifacts/tune_with_parameters_21b89_00000_0_dp=0.2500,k1=7,k2=3,k3=7,k4=5,lr=0.0341_2024-08-19_13-25-33/error.txt</td></tr>\n",
       "<tr><td>tune_with_parameters_21b89_00003</td><td style=\"text-align: right;\">           1</td><td>/tmp/ray/session_2024-08-19_13-25-03_810683_1823264/artifacts/2024-08-19_13-25-33/tune_with_parameters_2024-08-19_13-25-03/driver_artifacts/tune_with_parameters_21b89_00003_3_dp=0.2000,k1=7,k2=3,k3=7,k4=5,lr=0.0064_2024-08-19_13-25-34/error.txt</td></tr>\n",
       "<tr><td>tune_with_parameters_21b89_00005</td><td style=\"text-align: right;\">           1</td><td>/tmp/ray/session_2024-08-19_13-25-03_810683_1823264/artifacts/2024-08-19_13-25-33/tune_with_parameters_2024-08-19_13-25-03/driver_artifacts/tune_with_parameters_21b89_00005_5_dp=0.5000,k1=5,k2=7,k3=5,k4=5,lr=0.0243_2024-08-19_13-25-34/error.txt</td></tr>\n",
       "</tbody>\n",
       "</table>\n",
       "</div>\n",
       "<style>\n",
       ".messages {\n",
       "  color: var(--jp-ui-font-color1);\n",
       "  display: flex;\n",
       "  flex-direction: column;\n",
       "  padding-left: 1em;\n",
       "  overflow-y: auto;\n",
       "}\n",
       ".messages h3 {\n",
       "  font-weight: bold;\n",
       "}\n",
       ".vDivider {\n",
       "  border-left-width: var(--jp-border-width);\n",
       "  border-left-color: var(--jp-border-color0);\n",
       "  border-left-style: solid;\n",
       "  margin: 0.5em 1em 0.5em 1em;\n",
       "}\n",
       "</style>\n",
       "\n",
       "  </div>\n",
       "  <div class=\"hDivider\"></div>\n",
       "  <div class=\"trialStatus\">\n",
       "    <h3>Trial Status</h3>\n",
       "    <table>\n",
       "<thead>\n",
       "<tr><th>Trial name                      </th><th>status    </th><th>loc               </th><th style=\"text-align: right;\">  dp</th><th style=\"text-align: right;\">  k1</th><th style=\"text-align: right;\">  k2</th><th style=\"text-align: right;\">  k3</th><th style=\"text-align: right;\">  k4</th><th style=\"text-align: right;\">        lr</th><th style=\"text-align: right;\">  iter</th><th style=\"text-align: right;\">  total time (s)</th><th style=\"text-align: right;\">       loss</th><th style=\"text-align: right;\">  accuracy</th><th style=\"text-align: right;\">      f1</th></tr>\n",
       "</thead>\n",
       "<tbody>\n",
       "<tr><td>tune_with_parameters_21b89_00001</td><td>TERMINATED</td><td>10.211.4.4:1830126</td><td style=\"text-align: right;\">0.2 </td><td style=\"text-align: right;\">   7</td><td style=\"text-align: right;\">   1</td><td style=\"text-align: right;\">   3</td><td style=\"text-align: right;\">   1</td><td style=\"text-align: right;\">0.0425621 </td><td style=\"text-align: right;\">   100</td><td style=\"text-align: right;\">        652.863 </td><td style=\"text-align: right;\">2.09466e-06</td><td style=\"text-align: right;\">  1       </td><td style=\"text-align: right;\">1       </td></tr>\n",
       "<tr><td>tune_with_parameters_21b89_00002</td><td>TERMINATED</td><td>10.211.4.4:1832119</td><td style=\"text-align: right;\">0.2 </td><td style=\"text-align: right;\">   5</td><td style=\"text-align: right;\">   3</td><td style=\"text-align: right;\">   3</td><td style=\"text-align: right;\">   5</td><td style=\"text-align: right;\">0.0018533 </td><td style=\"text-align: right;\">   100</td><td style=\"text-align: right;\">        523.42  </td><td style=\"text-align: right;\">0.00316394 </td><td style=\"text-align: right;\">  0.998667</td><td style=\"text-align: right;\">0.998667</td></tr>\n",
       "<tr><td>tune_with_parameters_21b89_00004</td><td>TERMINATED</td><td>10.211.4.4:1921116</td><td style=\"text-align: right;\">0.1 </td><td style=\"text-align: right;\">   7</td><td style=\"text-align: right;\">   1</td><td style=\"text-align: right;\">   7</td><td style=\"text-align: right;\">   5</td><td style=\"text-align: right;\">0.0157057 </td><td style=\"text-align: right;\">   100</td><td style=\"text-align: right;\">        619.794 </td><td style=\"text-align: right;\">0.000119313</td><td style=\"text-align: right;\">  1       </td><td style=\"text-align: right;\">1       </td></tr>\n",
       "<tr><td>tune_with_parameters_21b89_00006</td><td>TERMINATED</td><td>10.211.4.4:1945681</td><td style=\"text-align: right;\">0.25</td><td style=\"text-align: right;\">   3</td><td style=\"text-align: right;\">   7</td><td style=\"text-align: right;\">   1</td><td style=\"text-align: right;\">   5</td><td style=\"text-align: right;\">0.0754248 </td><td style=\"text-align: right;\">    15</td><td style=\"text-align: right;\">         87.3809</td><td style=\"text-align: right;\">0.00301707 </td><td style=\"text-align: right;\">  0.998333</td><td style=\"text-align: right;\">0.998334</td></tr>\n",
       "<tr><td>tune_with_parameters_21b89_00007</td><td>TERMINATED</td><td>10.211.4.4:1968260</td><td style=\"text-align: right;\">0.1 </td><td style=\"text-align: right;\">   5</td><td style=\"text-align: right;\">   1</td><td style=\"text-align: right;\">   3</td><td style=\"text-align: right;\">   3</td><td style=\"text-align: right;\">0.0374935 </td><td style=\"text-align: right;\">    30</td><td style=\"text-align: right;\">        188.609 </td><td style=\"text-align: right;\">0.000689144</td><td style=\"text-align: right;\">  0.999667</td><td style=\"text-align: right;\">0.999667</td></tr>\n",
       "<tr><td>tune_with_parameters_21b89_00008</td><td>TERMINATED</td><td>10.211.4.4:2012603</td><td style=\"text-align: right;\">0.25</td><td style=\"text-align: right;\">   3</td><td style=\"text-align: right;\">   3</td><td style=\"text-align: right;\">   3</td><td style=\"text-align: right;\">   5</td><td style=\"text-align: right;\">0.00146781</td><td style=\"text-align: right;\">    15</td><td style=\"text-align: right;\">         69.1186</td><td style=\"text-align: right;\">0.0110135  </td><td style=\"text-align: right;\">  0.999   </td><td style=\"text-align: right;\">0.999   </td></tr>\n",
       "<tr><td>tune_with_parameters_21b89_00009</td><td>TERMINATED</td><td>10.211.4.4:2029255</td><td style=\"text-align: right;\">0.5 </td><td style=\"text-align: right;\">   5</td><td style=\"text-align: right;\">   7</td><td style=\"text-align: right;\">   3</td><td style=\"text-align: right;\">   1</td><td style=\"text-align: right;\">0.00533735</td><td style=\"text-align: right;\">   100</td><td style=\"text-align: right;\">        565.302 </td><td style=\"text-align: right;\">0.0001533  </td><td style=\"text-align: right;\">  1       </td><td style=\"text-align: right;\">1       </td></tr>\n",
       "<tr><td>tune_with_parameters_21b89_00000</td><td>ERROR     </td><td>10.211.4.4:1830100</td><td style=\"text-align: right;\">0.25</td><td style=\"text-align: right;\">   7</td><td style=\"text-align: right;\">   3</td><td style=\"text-align: right;\">   7</td><td style=\"text-align: right;\">   5</td><td style=\"text-align: right;\">0.0340752 </td><td style=\"text-align: right;\">      </td><td style=\"text-align: right;\">                </td><td style=\"text-align: right;\">           </td><td style=\"text-align: right;\">          </td><td style=\"text-align: right;\">        </td></tr>\n",
       "<tr><td>tune_with_parameters_21b89_00003</td><td>ERROR     </td><td>10.211.4.4:1917056</td><td style=\"text-align: right;\">0.2 </td><td style=\"text-align: right;\">   7</td><td style=\"text-align: right;\">   3</td><td style=\"text-align: right;\">   7</td><td style=\"text-align: right;\">   5</td><td style=\"text-align: right;\">0.00640873</td><td style=\"text-align: right;\">      </td><td style=\"text-align: right;\">                </td><td style=\"text-align: right;\">           </td><td style=\"text-align: right;\">          </td><td style=\"text-align: right;\">        </td></tr>\n",
       "<tr><td>tune_with_parameters_21b89_00005</td><td>ERROR     </td><td>10.211.4.4:1942148</td><td style=\"text-align: right;\">0.5 </td><td style=\"text-align: right;\">   5</td><td style=\"text-align: right;\">   7</td><td style=\"text-align: right;\">   5</td><td style=\"text-align: right;\">   5</td><td style=\"text-align: right;\">0.0242526 </td><td style=\"text-align: right;\">      </td><td style=\"text-align: right;\">                </td><td style=\"text-align: right;\">           </td><td style=\"text-align: right;\">          </td><td style=\"text-align: right;\">        </td></tr>\n",
       "</tbody>\n",
       "</table>\n",
       "  </div>\n",
       "</div>\n",
       "<style>\n",
       ".tuneStatus {\n",
       "  color: var(--jp-ui-font-color1);\n",
       "}\n",
       ".tuneStatus .systemInfo {\n",
       "  display: flex;\n",
       "  flex-direction: column;\n",
       "}\n",
       ".tuneStatus td {\n",
       "  white-space: nowrap;\n",
       "}\n",
       ".tuneStatus .trialStatus {\n",
       "  display: flex;\n",
       "  flex-direction: column;\n",
       "}\n",
       ".tuneStatus h3 {\n",
       "  font-weight: bold;\n",
       "}\n",
       ".tuneStatus .hDivider {\n",
       "  border-bottom-width: var(--jp-border-width);\n",
       "  border-bottom-color: var(--jp-border-color0);\n",
       "  border-bottom-style: solid;\n",
       "}\n",
       ".tuneStatus .vDivider {\n",
       "  border-left-width: var(--jp-border-width);\n",
       "  border-left-color: var(--jp-border-color0);\n",
       "  border-left-style: solid;\n",
       "  margin: 0.5em 1em 0.5em 1em;\n",
       "}\n",
       "</style>\n"
      ],
      "text/plain": [
       "<IPython.core.display.HTML object>"
      ]
     },
     "metadata": {},
     "output_type": "display_data"
    },
    {
     "name": "stderr",
     "output_type": "stream",
     "text": [
      "\u001b[36m(tune_with_parameters pid=1830100)\u001b[0m /users/k23058970/miniforge3/envs/Training/lib/python3.10/site-packages/torch/nn/modules/lazy.py:181: UserWarning: Lazy modules are a new feature under heavy development so changes to the API or functionality can happen at any moment.\n",
      "\u001b[36m(tune_with_parameters pid=1830100)\u001b[0m   warnings.warn('Lazy modules are a new feature under heavy development '\n",
      "2024-08-19 13:25:55,616\tERROR tune_controller.py:1331 -- Trial task failed for trial tune_with_parameters_21b89_00000\n",
      "Traceback (most recent call last):\n",
      "  File \"/users/k23058970/miniforge3/envs/Training/lib/python3.10/site-packages/ray/air/execution/_internal/event_manager.py\", line 110, in resolve_future\n",
      "    result = ray.get(future)\n",
      "  File \"/users/k23058970/miniforge3/envs/Training/lib/python3.10/site-packages/ray/_private/auto_init_hook.py\", line 21, in auto_init_wrapper\n",
      "    return fn(*args, **kwargs)\n",
      "  File \"/users/k23058970/miniforge3/envs/Training/lib/python3.10/site-packages/ray/_private/client_mode_hook.py\", line 103, in wrapper\n",
      "    return func(*args, **kwargs)\n",
      "  File \"/users/k23058970/miniforge3/envs/Training/lib/python3.10/site-packages/ray/_private/worker.py\", line 2613, in get\n",
      "    values, debugger_breakpoint = worker.get_objects(object_refs, timeout=timeout)\n",
      "  File \"/users/k23058970/miniforge3/envs/Training/lib/python3.10/site-packages/ray/_private/worker.py\", line 861, in get_objects\n",
      "    raise value.as_instanceof_cause()\n",
      "ray.exceptions.RayTaskError(RuntimeError): \u001b[36mray::ImplicitFunc.train()\u001b[39m (pid=1830100, ip=10.211.4.4, actor_id=6373e8cc25b7558c51089ef801000000, repr=tune_with_parameters)\n",
      "  File \"/users/k23058970/miniforge3/envs/Training/lib/python3.10/site-packages/ray/tune/trainable/trainable.py\", line 331, in train\n",
      "    raise skipped from exception_cause(skipped)\n",
      "  File \"/users/k23058970/miniforge3/envs/Training/lib/python3.10/site-packages/ray/air/_internal/util.py\", line 98, in run\n",
      "    self._ret = self._target(*self._args, **self._kwargs)\n",
      "  File \"/users/k23058970/miniforge3/envs/Training/lib/python3.10/site-packages/ray/tune/trainable/function_trainable.py\", line 45, in <lambda>\n",
      "    training_func=lambda: self._trainable_func(self.config),\n",
      "  File \"/users/k23058970/miniforge3/envs/Training/lib/python3.10/site-packages/ray/tune/trainable/function_trainable.py\", line 248, in _trainable_func\n",
      "    output = fn()\n",
      "  File \"/users/k23058970/miniforge3/envs/Training/lib/python3.10/site-packages/ray/tune/trainable/util.py\", line 130, in inner\n",
      "    return trainable(config, **fn_kwargs)\n",
      "  File \"/scratch/users/k23058970/Model training/training_insilico_conv.py\", line 200, in train_spectra\n",
      "    outputs = model(inputs)\n",
      "  File \"/users/k23058970/miniforge3/envs/Training/lib/python3.10/site-packages/torch/nn/modules/module.py\", line 1532, in _wrapped_call_impl\n",
      "    return self._call_impl(*args, **kwargs)\n",
      "  File \"/users/k23058970/miniforge3/envs/Training/lib/python3.10/site-packages/torch/nn/modules/module.py\", line 1541, in _call_impl\n",
      "    return forward_call(*args, **kwargs)\n",
      "  File \"/scratch/users/k23058970/Model training/insilico_conv.py\", line 47, in forward\n",
      "    x = self.conv4(x)\n",
      "  File \"/users/k23058970/miniforge3/envs/Training/lib/python3.10/site-packages/torch/nn/modules/module.py\", line 1532, in _wrapped_call_impl\n",
      "    return self._call_impl(*args, **kwargs)\n",
      "  File \"/users/k23058970/miniforge3/envs/Training/lib/python3.10/site-packages/torch/nn/modules/module.py\", line 1541, in _call_impl\n",
      "    return forward_call(*args, **kwargs)\n",
      "  File \"/users/k23058970/miniforge3/envs/Training/lib/python3.10/site-packages/torch/nn/modules/conv.py\", line 310, in forward\n",
      "    return self._conv_forward(input, self.weight, self.bias)\n",
      "  File \"/users/k23058970/miniforge3/envs/Training/lib/python3.10/site-packages/torch/nn/modules/conv.py\", line 306, in _conv_forward\n",
      "    return F.conv1d(input, weight, bias, self.stride,\n",
      "RuntimeError: Calculated padded input size per channel: (4). Kernel size: (5). Kernel size can't be greater than actual input size\n"
     ]
    },
    {
     "name": "stdout",
     "output_type": "stream",
     "text": [
      "\u001b[36m(tune_with_parameters pid=1830126)\u001b[0m loss: 1.097\n",
      "\u001b[36m(tune_with_parameters pid=1830126)\u001b[0m loss: 0.463\n",
      "\u001b[36m(tune_with_parameters pid=1830126)\u001b[0m loss: 0.269\n",
      "\u001b[36m(tune_with_parameters pid=1830126)\u001b[0m loss: 0.186\n",
      "\u001b[36m(tune_with_parameters pid=1830126)\u001b[0m loss: 0.141\n",
      "\u001b[36m(tune_with_parameters pid=1830126)\u001b[0m loss: 0.114\n",
      "\u001b[36m(tune_with_parameters pid=1830126)\u001b[0m loss: 0.096\n",
      "\u001b[36m(tune_with_parameters pid=1830126)\u001b[0m loss: 0.082\n",
      "\u001b[36m(tune_with_parameters pid=1830126)\u001b[0m loss: 0.072\n",
      "\u001b[36m(tune_with_parameters pid=1830126)\u001b[0m loss: 0.064\n",
      "\u001b[36m(tune_with_parameters pid=1830126)\u001b[0m loss: 0.059\n",
      "\u001b[36m(tune_with_parameters pid=1830126)\u001b[0m loss: 0.055\n",
      "\u001b[36m(tune_with_parameters pid=1830126)\u001b[0m loss: 0.055\n",
      "\u001b[36m(tune_with_parameters pid=1830126)\u001b[0m loss: 0.054\n",
      "\u001b[36m(tune_with_parameters pid=1830126)\u001b[0m loss: 0.053\n"
     ]
    },
    {
     "name": "stderr",
     "output_type": "stream",
     "text": [
      "Val Epoch:0: 0it [00:00, ?it/s]1830126)\u001b[0m \n",
      "\u001b[36m(tune_with_parameters pid=1830126)\u001b[0m /users/k23058970/miniforge3/envs/Training/lib/python3.10/site-packages/torch/nn/modules/lazy.py:181: UserWarning: Lazy modules are a new feature under heavy development so changes to the API or functionality can happen at any moment.\n",
      "\u001b[36m(tune_with_parameters pid=1830126)\u001b[0m   warnings.warn('Lazy modules are a new feature under heavy development '\n",
      "Val Epoch:0: 1it [00:00,  2.10it/s]126)\u001b[0m \n",
      "Val Epoch:0: 7it [00:00, 15.41it/s]126)\u001b[0m \n",
      "Val Epoch:0: 12it [00:00, 22.92it/s]26)\u001b[0m \n",
      "Val Epoch:0: 18it [00:00, 31.46it/s]26)\u001b[0m \n",
      "Val Epoch:0: 25it [00:00, 39.83it/s]26)\u001b[0m \n",
      "Val Epoch:0: 31it [00:01, 43.95it/s]26)\u001b[0m \n",
      "Val Epoch:0: 37it [00:01, 44.82it/s]26)\u001b[0m \n",
      "Val Epoch:0: 43it [00:01, 47.36it/s]26)\u001b[0m \n"
     ]
    },
    {
     "name": "stdout",
     "output_type": "stream",
     "text": [
      "\u001b[36m(tune_with_parameters pid=1830126)\u001b[0m /tmp/tmprqr85iho/checkpoint.pt\n"
     ]
    },
    {
     "name": "stderr",
     "output_type": "stream",
     "text": [
      "Val Epoch:0: 47it [00:01, 33.83it/s]26)\u001b[0m \n",
      "\u001b[36m(tune_with_parameters pid=1830126)\u001b[0m Checkpoint successfully created at: Checkpoint(filesystem=local, path=/scratch/users/k23058970/Model training/results/Single Peak Conv Null/tune_with_parameters_2024-08-19_13-25-03/tune_with_parameters_21b89_00001_1_dp=0.2000,k1=7,k2=1,k3=3,k4=1,lr=0.0426_2024-08-19_13-25-34/checkpoint_000000)\n"
     ]
    },
    {
     "name": "stdout",
     "output_type": "stream",
     "text": [
      "\u001b[36m(tune_with_parameters pid=1830126)\u001b[0m loss: 0.000\n",
      "\u001b[36m(tune_with_parameters pid=1830126)\u001b[0m loss: 0.026\n",
      "\u001b[36m(tune_with_parameters pid=1830126)\u001b[0m loss: 0.029\n",
      "\u001b[36m(tune_with_parameters pid=1830126)\u001b[0m loss: 0.032\n",
      "\u001b[36m(tune_with_parameters pid=1830126)\u001b[0m loss: 0.032\n",
      "\u001b[36m(tune_with_parameters pid=1830126)\u001b[0m loss: 0.031\n",
      "\u001b[36m(tune_with_parameters pid=1830126)\u001b[0m loss: 0.026\n",
      "\u001b[36m(tune_with_parameters pid=1830126)\u001b[0m loss: 0.022\n",
      "\u001b[36m(tune_with_parameters pid=1830126)\u001b[0m loss: 0.028\n",
      "\u001b[36m(tune_with_parameters pid=1830126)\u001b[0m loss: 0.025\n",
      "\u001b[36m(tune_with_parameters pid=1830126)\u001b[0m loss: 0.023\n",
      "\u001b[36m(tune_with_parameters pid=1830126)\u001b[0m loss: 0.021\n",
      "\u001b[36m(tune_with_parameters pid=1830126)\u001b[0m loss: 0.019\n",
      "\u001b[36m(tune_with_parameters pid=1830126)\u001b[0m loss: 0.018\n",
      "\u001b[36m(tune_with_parameters pid=1830126)\u001b[0m loss: 0.017\n"
     ]
    },
    {
     "name": "stderr",
     "output_type": "stream",
     "text": [
      "Val Epoch:1: 0it [00:00, ?it/s]1830126)\u001b[0m \n",
      "Val Epoch:1: 1it [00:00,  4.02it/s]126)\u001b[0m \n",
      "Val Epoch:1: 7it [00:00, 23.39it/s]126)\u001b[0m \n",
      "Val Epoch:1: 12it [00:00, 30.70it/s]26)\u001b[0m \n",
      "Val Epoch:1: 19it [00:00, 40.82it/s]26)\u001b[0m \n",
      "Val Epoch:1: 25it [00:00, 42.84it/s]26)\u001b[0m \n",
      "Val Epoch:1: 33it [00:00, 50.04it/s]26)\u001b[0m \n",
      "Val Epoch:1: 39it [00:00, 50.87it/s]26)\u001b[0m \n",
      "Val Epoch:1: 45it [00:01, 52.85it/s]26)\u001b[0m \n",
      "Val Epoch:1: 47it [00:01, 41.39it/s]26)\u001b[0m \n",
      "\u001b[36m(tune_with_parameters pid=1830126)\u001b[0m Checkpoint successfully created at: Checkpoint(filesystem=local, path=/scratch/users/k23058970/Model training/results/Single Peak Conv Null/tune_with_parameters_2024-08-19_13-25-03/tune_with_parameters_21b89_00001_1_dp=0.2000,k1=7,k2=1,k3=3,k4=1,lr=0.0426_2024-08-19_13-25-34/checkpoint_000001)\n"
     ]
    },
    {
     "name": "stdout",
     "output_type": "stream",
     "text": [
      "\u001b[36m(tune_with_parameters pid=1830126)\u001b[0m /tmp/tmp1tqyfuor/checkpoint.pt\n",
      "\u001b[36m(tune_with_parameters pid=1830126)\u001b[0m loss: 0.000\n"
     ]
    },
    {
     "name": "stderr",
     "output_type": "stream",
     "text": [
      "\u001b[36m(tune_with_parameters pid=1832119)\u001b[0m /users/k23058970/miniforge3/envs/Training/lib/python3.10/site-packages/torch/nn/modules/lazy.py:181: UserWarning: Lazy modules are a new feature under heavy development so changes to the API or functionality can happen at any moment.\n",
      "\u001b[36m(tune_with_parameters pid=1832119)\u001b[0m   warnings.warn('Lazy modules are a new feature under heavy development '\n"
     ]
    },
    {
     "name": "stdout",
     "output_type": "stream",
     "text": [
      "\u001b[36m(tune_with_parameters pid=1830126)\u001b[0m loss: 0.004\n",
      "\u001b[36m(tune_with_parameters pid=1830126)\u001b[0m loss: 0.008\n",
      "\u001b[36m(tune_with_parameters pid=1830126)\u001b[0m loss: 0.008\n",
      "\u001b[36m(tune_with_parameters pid=1830126)\u001b[0m loss: 0.008\n",
      "\u001b[36m(tune_with_parameters pid=1830126)\u001b[0m loss: 0.007\n",
      "\u001b[36m(tune_with_parameters pid=1830126)\u001b[0m loss: 0.006\n",
      "\u001b[36m(tune_with_parameters pid=1830126)\u001b[0m loss: 0.005\n",
      "\u001b[36m(tune_with_parameters pid=1830126)\u001b[0m loss: 0.004\n",
      "\u001b[36m(tune_with_parameters pid=1830126)\u001b[0m loss: 0.004\n",
      "\u001b[36m(tune_with_parameters pid=1830126)\u001b[0m loss: 0.003\n",
      "\u001b[36m(tune_with_parameters pid=1830126)\u001b[0m loss: 0.003\n",
      "\u001b[36m(tune_with_parameters pid=1830126)\u001b[0m loss: 0.003\n",
      "\u001b[36m(tune_with_parameters pid=1830126)\u001b[0m loss: 0.003\n",
      "\u001b[36m(tune_with_parameters pid=1830126)\u001b[0m loss: 0.002\n"
     ]
    },
    {
     "name": "stderr",
     "output_type": "stream",
     "text": [
      "Val Epoch:2: 0it [00:00, ?it/s]1830126)\u001b[0m \n",
      "Val Epoch:2: 1it [00:00,  3.18it/s]126)\u001b[0m \n",
      "Val Epoch:2: 10it [00:00, 29.73it/s]26)\u001b[0m \n",
      "Val Epoch:2: 18it [00:00, 43.37it/s]26)\u001b[0m \n",
      "Val Epoch:2: 25it [00:00, 46.65it/s]26)\u001b[0m \n",
      "Val Epoch:2: 31it [00:00, 45.07it/s]26)\u001b[0m \n",
      "Val Epoch:2: 37it [00:00, 48.91it/s]26)\u001b[0m \n",
      "Val Epoch:2: 43it [00:01, 44.53it/s]26)\u001b[0m \n",
      "Val Epoch:2: 47it [00:01, 40.77it/s]26)\u001b[0m \n",
      "\u001b[36m(tune_with_parameters pid=1830126)\u001b[0m Checkpoint successfully created at: Checkpoint(filesystem=local, path=/scratch/users/k23058970/Model training/results/Single Peak Conv Null/tune_with_parameters_2024-08-19_13-25-03/tune_with_parameters_21b89_00001_1_dp=0.2000,k1=7,k2=1,k3=3,k4=1,lr=0.0426_2024-08-19_13-25-34/checkpoint_000002)\n"
     ]
    },
    {
     "name": "stdout",
     "output_type": "stream",
     "text": [
      "\u001b[36m(tune_with_parameters pid=1830126)\u001b[0m /tmp/tmpz3r12k45/checkpoint.pt\n",
      "\u001b[36m(tune_with_parameters pid=1832119)\u001b[0m loss: 1.007\u001b[32m [repeated 6x across cluster] (Ray deduplicates logs by default. Set RAY_DEDUP_LOGS=0 to disable log deduplication, or see https://docs.ray.io/en/master/ray-observability/user-guides/configure-logging.html#log-deduplication for more options.)\u001b[0m\n"
     ]
    },
    {
     "name": "stderr",
     "output_type": "stream",
     "text": [
      "Val Epoch:0: 0it [00:00, ?it/s]1832119)\u001b[0m \n",
      "Val Epoch:0: 18it [00:00, 36.40it/s]\u001b[32m [repeated 4x across cluster]\u001b[0m\n"
     ]
    },
    {
     "name": "stdout",
     "output_type": "stream",
     "text": [
      "\u001b[36m(tune_with_parameters pid=1832119)\u001b[0m /tmp/tmpxkz2b0hx/checkpoint.pt\n"
     ]
    },
    {
     "name": "stderr",
     "output_type": "stream",
     "text": [
      "Val Epoch:3: 0it [00:00, ?it/s]1830126)\u001b[0m \n",
      "\u001b[36m(tune_with_parameters pid=1832119)\u001b[0m Checkpoint successfully created at: Checkpoint(filesystem=local, path=/scratch/users/k23058970/Model training/results/Single Peak Conv Null/tune_with_parameters_2024-08-19_13-25-03/tune_with_parameters_21b89_00002_2_dp=0.2000,k1=5,k2=3,k3=3,k4=5,lr=0.0019_2024-08-19_13-25-34/checkpoint_000000)\n"
     ]
    },
    {
     "name": "stdout",
     "output_type": "stream",
     "text": [
      "\u001b[36m(tune_with_parameters pid=1832119)\u001b[0m loss: 0.352\u001b[32m [repeated 25x across cluster]\u001b[0m\n"
     ]
    },
    {
     "name": "stderr",
     "output_type": "stream",
     "text": [
      "Val Epoch:3: 47it [00:01, 27.85it/s]\u001b[32m [repeated 16x across cluster]\u001b[0m\n",
      "Val Epoch:1: 0it [00:00, ?it/s]1832119)\u001b[0m \n"
     ]
    },
    {
     "name": "stdout",
     "output_type": "stream",
     "text": [
      "\u001b[36m(tune_with_parameters pid=1832119)\u001b[0m /tmp/tmp15rp30ba/checkpoint.pt\n",
      "\u001b[36m(tune_with_parameters pid=1830126)\u001b[0m loss: 0.000\u001b[32m [repeated 29x across cluster]\u001b[0m\n"
     ]
    },
    {
     "name": "stderr",
     "output_type": "stream",
     "text": [
      "\u001b[36m(tune_with_parameters pid=1832119)\u001b[0m Checkpoint successfully created at: Checkpoint(filesystem=local, path=/scratch/users/k23058970/Model training/results/Single Peak Conv Null/tune_with_parameters_2024-08-19_13-25-03/tune_with_parameters_21b89_00002_2_dp=0.2000,k1=5,k2=3,k3=3,k4=5,lr=0.0019_2024-08-19_13-25-34/checkpoint_000001)\n",
      "Val Epoch:4: 0it [00:00, ?it/s]1830126)\u001b[0m \n"
     ]
    },
    {
     "name": "stdout",
     "output_type": "stream",
     "text": [
      "\u001b[36m(tune_with_parameters pid=1830126)\u001b[0m loss: 0.000\u001b[32m [repeated 24x across cluster]\u001b[0m\n"
     ]
    },
    {
     "name": "stderr",
     "output_type": "stream",
     "text": [
      "Val Epoch:4: 47it [00:01, 25.29it/s]\u001b[32m [repeated 18x across cluster]\u001b[0m\n",
      "Val Epoch:2: 0it [00:00, ?it/s]1832119)\u001b[0m \n"
     ]
    },
    {
     "name": "stdout",
     "output_type": "stream",
     "text": [
      "\u001b[36m(tune_with_parameters pid=1832119)\u001b[0m /tmp/tmphgoy8tzh/checkpoint.pt\n"
     ]
    },
    {
     "name": "stderr",
     "output_type": "stream",
     "text": [
      "\u001b[36m(tune_with_parameters pid=1832119)\u001b[0m Checkpoint successfully created at: Checkpoint(filesystem=local, path=/scratch/users/k23058970/Model training/results/Single Peak Conv Null/tune_with_parameters_2024-08-19_13-25-03/tune_with_parameters_21b89_00002_2_dp=0.2000,k1=5,k2=3,k3=3,k4=5,lr=0.0019_2024-08-19_13-25-34/checkpoint_000002)\n",
      "Val Epoch:5: 0it [00:00, ?it/s]1830126)\u001b[0m \n"
     ]
    },
    {
     "name": "stdout",
     "output_type": "stream",
     "text": [
      "\u001b[36m(tune_with_parameters pid=1830126)\u001b[0m loss: 0.000\u001b[32m [repeated 19x across cluster]\u001b[0m\n"
     ]
    },
    {
     "name": "stderr",
     "output_type": "stream",
     "text": [
      "Val Epoch:5: 47it [00:01, 26.56it/s]\u001b[32m [repeated 18x across cluster]\u001b[0m\n",
      "Val Epoch:3: 0it [00:00, ?it/s]1832119)\u001b[0m \n",
      "Val Epoch:3: 47it [00:01, 34.50it/s]19)\u001b[0m \n",
      "\u001b[36m(tune_with_parameters pid=1832119)\u001b[0m Checkpoint successfully created at: Checkpoint(filesystem=local, path=/scratch/users/k23058970/Model training/results/Single Peak Conv Null/tune_with_parameters_2024-08-19_13-25-03/tune_with_parameters_21b89_00002_2_dp=0.2000,k1=5,k2=3,k3=3,k4=5,lr=0.0019_2024-08-19_13-25-34/checkpoint_000003)\n"
     ]
    },
    {
     "name": "stdout",
     "output_type": "stream",
     "text": [
      "\u001b[36m(tune_with_parameters pid=1832119)\u001b[0m /tmp/tmp5_j2eg_f/checkpoint.pt\n"
     ]
    },
    {
     "name": "stderr",
     "output_type": "stream",
     "text": [
      "Val Epoch:6: 0it [00:00, ?it/s]1830126)\u001b[0m \n"
     ]
    },
    {
     "name": "stdout",
     "output_type": "stream",
     "text": [
      "\u001b[36m(tune_with_parameters pid=1832119)\u001b[0m loss: 0.052\u001b[32m [repeated 22x across cluster]\u001b[0m\n"
     ]
    },
    {
     "name": "stderr",
     "output_type": "stream",
     "text": [
      "Val Epoch:6: 47it [00:01, 44.70it/s]\u001b[32m [repeated 17x across cluster]\u001b[0m\n",
      "Val Epoch:4: 33it [00:01, 35.64it/s]19)\u001b[0m \n"
     ]
    },
    {
     "name": "stdout",
     "output_type": "stream",
     "text": [
      "\u001b[36m(tune_with_parameters pid=1832119)\u001b[0m /tmp/tmp9dp8v3on/checkpoint.pt\n"
     ]
    },
    {
     "name": "stderr",
     "output_type": "stream",
     "text": [
      "\u001b[36m(tune_with_parameters pid=1832119)\u001b[0m Checkpoint successfully created at: Checkpoint(filesystem=local, path=/scratch/users/k23058970/Model training/results/Single Peak Conv Null/tune_with_parameters_2024-08-19_13-25-03/tune_with_parameters_21b89_00002_2_dp=0.2000,k1=5,k2=3,k3=3,k4=5,lr=0.0019_2024-08-19_13-25-34/checkpoint_000004)\n"
     ]
    },
    {
     "name": "stdout",
     "output_type": "stream",
     "text": [
      "\u001b[36m(tune_with_parameters pid=1830126)\u001b[0m loss: 0.000\u001b[32m [repeated 25x across cluster]\u001b[0m\n"
     ]
    },
    {
     "name": "stderr",
     "output_type": "stream",
     "text": [
      "Val Epoch:7: 0it [00:00, ?it/s]\u001b[32m [repeated 2x across cluster]\u001b[0m\n",
      "Val Epoch:7: 47it [00:01, 38.32it/s]\u001b[32m [repeated 17x across cluster]\u001b[0m\n"
     ]
    },
    {
     "name": "stdout",
     "output_type": "stream",
     "text": [
      "\u001b[36m(tune_with_parameters pid=1830126)\u001b[0m loss: 0.000\u001b[32m [repeated 26x across cluster]\u001b[0m\n",
      "\u001b[36m(tune_with_parameters pid=1832119)\u001b[0m /tmp/tmpiyp67a30/checkpoint.pt\n"
     ]
    },
    {
     "name": "stderr",
     "output_type": "stream",
     "text": [
      "\u001b[36m(tune_with_parameters pid=1832119)\u001b[0m Checkpoint successfully created at: Checkpoint(filesystem=local, path=/scratch/users/k23058970/Model training/results/Single Peak Conv Null/tune_with_parameters_2024-08-19_13-25-03/tune_with_parameters_21b89_00002_2_dp=0.2000,k1=5,k2=3,k3=3,k4=5,lr=0.0019_2024-08-19_13-25-34/checkpoint_000005)\n",
      "Val Epoch:8: 0it [00:00, ?it/s]\u001b[32m [repeated 2x across cluster]\u001b[0m\n",
      "Val Epoch:8: 47it [00:01, 46.26it/s]\u001b[32m [repeated 18x across cluster]\u001b[0m\n"
     ]
    },
    {
     "name": "stdout",
     "output_type": "stream",
     "text": [
      "\u001b[36m(tune_with_parameters pid=1830126)\u001b[0m loss: 0.000\u001b[32m [repeated 25x across cluster]\u001b[0m\n",
      "\u001b[36m(tune_with_parameters pid=1832119)\u001b[0m /tmp/tmpikwdqups/checkpoint.pt\n"
     ]
    },
    {
     "name": "stderr",
     "output_type": "stream",
     "text": [
      "\u001b[36m(tune_with_parameters pid=1832119)\u001b[0m Checkpoint successfully created at: Checkpoint(filesystem=local, path=/scratch/users/k23058970/Model training/results/Single Peak Conv Null/tune_with_parameters_2024-08-19_13-25-03/tune_with_parameters_21b89_00002_2_dp=0.2000,k1=5,k2=3,k3=3,k4=5,lr=0.0019_2024-08-19_13-25-34/checkpoint_000006)\n",
      "Val Epoch:9: 0it [00:00, ?it/s]\u001b[32m [repeated 2x across cluster]\u001b[0m\n"
     ]
    },
    {
     "name": "stdout",
     "output_type": "stream",
     "text": [
      "\u001b[36m(tune_with_parameters pid=1832119)\u001b[0m loss: 0.028\u001b[32m [repeated 23x across cluster]\u001b[0m\n"
     ]
    },
    {
     "name": "stderr",
     "output_type": "stream",
     "text": [
      "Val Epoch:9: 47it [00:01, 33.00it/s]\u001b[32m [repeated 19x across cluster]\u001b[0m\n"
     ]
    },
    {
     "name": "stdout",
     "output_type": "stream",
     "text": [
      "\u001b[36m(tune_with_parameters pid=1832119)\u001b[0m /tmp/tmp8vf772lr/checkpoint.pt\n"
     ]
    },
    {
     "name": "stderr",
     "output_type": "stream",
     "text": [
      "\u001b[36m(tune_with_parameters pid=1832119)\u001b[0m Checkpoint successfully created at: Checkpoint(filesystem=local, path=/scratch/users/k23058970/Model training/results/Single Peak Conv Null/tune_with_parameters_2024-08-19_13-25-03/tune_with_parameters_21b89_00002_2_dp=0.2000,k1=5,k2=3,k3=3,k4=5,lr=0.0019_2024-08-19_13-25-34/checkpoint_000007)\n",
      "Val Epoch:10: 0it [00:00, ?it/s]\u001b[32m [repeated 2x across cluster]\u001b[0m\n"
     ]
    },
    {
     "name": "stdout",
     "output_type": "stream",
     "text": [
      "\u001b[36m(tune_with_parameters pid=1832119)\u001b[0m loss: 0.025\u001b[32m [repeated 24x across cluster]\u001b[0m\n"
     ]
    },
    {
     "name": "stderr",
     "output_type": "stream",
     "text": [
      "Val Epoch:10: 47it [00:01, 35.40it/s]\u001b[32m [repeated 18x across cluster]\u001b[0m\n"
     ]
    },
    {
     "name": "stdout",
     "output_type": "stream",
     "text": [
      "\u001b[36m(tune_with_parameters pid=1832119)\u001b[0m loss: 0.021\u001b[32m [repeated 27x across cluster]\u001b[0m\n"
     ]
    },
    {
     "name": "stderr",
     "output_type": "stream",
     "text": [
      "Val Epoch:11: 0it [00:00, ?it/s]\u001b[32m [repeated 2x across cluster]\u001b[0m\n",
      "Val Epoch:11: 1it [00:00,  1.88it/s]\u001b[32m [repeated 10x across cluster]\u001b[0m\n"
     ]
    },
    {
     "name": "stdout",
     "output_type": "stream",
     "text": [
      "\u001b[36m(tune_with_parameters pid=1832119)\u001b[0m /tmp/tmpwcjtzlk9/checkpoint.pt\n"
     ]
    },
    {
     "name": "stderr",
     "output_type": "stream",
     "text": [
      "\u001b[36m(tune_with_parameters pid=1832119)\u001b[0m Checkpoint successfully created at: Checkpoint(filesystem=local, path=/scratch/users/k23058970/Model training/results/Single Peak Conv Null/tune_with_parameters_2024-08-19_13-25-03/tune_with_parameters_21b89_00002_2_dp=0.2000,k1=5,k2=3,k3=3,k4=5,lr=0.0019_2024-08-19_13-25-34/checkpoint_000008)\n"
     ]
    },
    {
     "name": "stdout",
     "output_type": "stream",
     "text": [
      "\u001b[36m(tune_with_parameters pid=1830126)\u001b[0m loss: 0.000\u001b[32m [repeated 20x across cluster]\u001b[0m\n"
     ]
    },
    {
     "name": "stderr",
     "output_type": "stream",
     "text": [
      "Val Epoch:12: 0it [00:00, ?it/s]\u001b[32m [repeated 2x across cluster]\u001b[0m\n",
      "Val Epoch:9: 47it [00:01, 40.74it/s]\u001b[32m [repeated 18x across cluster]\u001b[0m\n"
     ]
    },
    {
     "name": "stdout",
     "output_type": "stream",
     "text": [
      "\u001b[36m(tune_with_parameters pid=1830126)\u001b[0m loss: 0.000\u001b[32m [repeated 26x across cluster]\u001b[0m\n",
      "\u001b[36m(tune_with_parameters pid=1832119)\u001b[0m /tmp/tmpbjesswn0/checkpoint.pt\n"
     ]
    },
    {
     "name": "stderr",
     "output_type": "stream",
     "text": [
      "\u001b[36m(tune_with_parameters pid=1832119)\u001b[0m Checkpoint successfully created at: Checkpoint(filesystem=local, path=/scratch/users/k23058970/Model training/results/Single Peak Conv Null/tune_with_parameters_2024-08-19_13-25-03/tune_with_parameters_21b89_00002_2_dp=0.2000,k1=5,k2=3,k3=3,k4=5,lr=0.0019_2024-08-19_13-25-34/checkpoint_000009)\n",
      "Val Epoch:13: 0it [00:00, ?it/s]\u001b[32m [repeated 2x across cluster]\u001b[0m\n",
      "Val Epoch:10: 47it [00:01, 38.21it/s]\u001b[32m [repeated 18x across cluster]\u001b[0m\n"
     ]
    },
    {
     "name": "stdout",
     "output_type": "stream",
     "text": [
      "\u001b[36m(tune_with_parameters pid=1830126)\u001b[0m loss: 0.000\u001b[32m [repeated 22x across cluster]\u001b[0m\n",
      "\u001b[36m(tune_with_parameters pid=1832119)\u001b[0m /tmp/tmprijlqyub/checkpoint.pt\n"
     ]
    },
    {
     "name": "stderr",
     "output_type": "stream",
     "text": [
      "\u001b[36m(tune_with_parameters pid=1832119)\u001b[0m Checkpoint successfully created at: Checkpoint(filesystem=local, path=/scratch/users/k23058970/Model training/results/Single Peak Conv Null/tune_with_parameters_2024-08-19_13-25-03/tune_with_parameters_21b89_00002_2_dp=0.2000,k1=5,k2=3,k3=3,k4=5,lr=0.0019_2024-08-19_13-25-34/checkpoint_000010)\n",
      "Val Epoch:14: 0it [00:00, ?it/s]\u001b[32m [repeated 2x across cluster]\u001b[0m\n",
      "Val Epoch:11: 47it [00:01, 42.67it/s]\u001b[32m [repeated 18x across cluster]\u001b[0m\n"
     ]
    },
    {
     "name": "stdout",
     "output_type": "stream",
     "text": [
      "\u001b[36m(tune_with_parameters pid=1832119)\u001b[0m loss: 0.018\u001b[32m [repeated 26x across cluster]\u001b[0m\n"
     ]
    },
    {
     "name": "stderr",
     "output_type": "stream",
     "text": [
      "Val Epoch:14: 47it [00:01, 39.11it/s]6)\u001b[0m \n"
     ]
    },
    {
     "name": "stdout",
     "output_type": "stream",
     "text": [
      "\u001b[36m(tune_with_parameters pid=1830126)\u001b[0m loss: 0.000\u001b[32m [repeated 23x across cluster]\u001b[0m\n"
     ]
    },
    {
     "name": "stderr",
     "output_type": "stream",
     "text": [
      "Val Epoch:15: 0it [00:00, ?it/s]\u001b[32m [repeated 2x across cluster]\u001b[0m\n",
      "Val Epoch:12: 47it [00:01, 32.36it/s]\u001b[32m [repeated 17x across cluster]\u001b[0m\n"
     ]
    },
    {
     "name": "stdout",
     "output_type": "stream",
     "text": [
      "\u001b[36m(tune_with_parameters pid=1832119)\u001b[0m loss: 0.019\u001b[32m [repeated 23x across cluster]\u001b[0m\n"
     ]
    },
    {
     "name": "stderr",
     "output_type": "stream",
     "text": [
      "Val Epoch:16: 0it [00:00, ?it/s]\u001b[32m [repeated 2x across cluster]\u001b[0m\n",
      "Val Epoch:13: 47it [00:01, 43.45it/s]\u001b[32m [repeated 18x across cluster]\u001b[0m\n"
     ]
    },
    {
     "name": "stdout",
     "output_type": "stream",
     "text": [
      "\u001b[36m(tune_with_parameters pid=1830126)\u001b[0m loss: 0.000\u001b[32m [repeated 24x across cluster]\u001b[0m\n",
      "\u001b[36m(tune_with_parameters pid=1832119)\u001b[0m /tmp/tmp2fh0aaqs/checkpoint.pt\n"
     ]
    },
    {
     "name": "stderr",
     "output_type": "stream",
     "text": [
      "\u001b[36m(tune_with_parameters pid=1832119)\u001b[0m Checkpoint successfully created at: Checkpoint(filesystem=local, path=/scratch/users/k23058970/Model training/results/Single Peak Conv Null/tune_with_parameters_2024-08-19_13-25-03/tune_with_parameters_21b89_00002_2_dp=0.2000,k1=5,k2=3,k3=3,k4=5,lr=0.0019_2024-08-19_13-25-34/checkpoint_000011)\n",
      "Val Epoch:17: 0it [00:00, ?it/s]\u001b[32m [repeated 2x across cluster]\u001b[0m\n",
      "Val Epoch:14: 47it [00:02, 23.50it/s]\u001b[32m [repeated 19x across cluster]\u001b[0m\n"
     ]
    },
    {
     "name": "stdout",
     "output_type": "stream",
     "text": [
      "\u001b[36m(tune_with_parameters pid=1830126)\u001b[0m loss: 0.000\u001b[32m [repeated 27x across cluster]\u001b[0m\n",
      "\u001b[36m(tune_with_parameters pid=1832119)\u001b[0m /tmp/tmpasqucxoo/checkpoint.pt\n"
     ]
    },
    {
     "name": "stderr",
     "output_type": "stream",
     "text": [
      "Val Epoch:15: 47it [00:01, 31.06it/s]9)\u001b[0m \n",
      "\u001b[36m(tune_with_parameters pid=1832119)\u001b[0m Checkpoint successfully created at: Checkpoint(filesystem=local, path=/scratch/users/k23058970/Model training/results/Single Peak Conv Null/tune_with_parameters_2024-08-19_13-25-03/tune_with_parameters_21b89_00002_2_dp=0.2000,k1=5,k2=3,k3=3,k4=5,lr=0.0019_2024-08-19_13-25-34/checkpoint_000012)\n",
      "Val Epoch:18: 0it [00:00, ?it/s]\u001b[32m [repeated 2x across cluster]\u001b[0m\n",
      "Val Epoch:15: 39it [00:01, 46.07it/s]\u001b[32m [repeated 15x across cluster]\u001b[0m\n"
     ]
    },
    {
     "name": "stdout",
     "output_type": "stream",
     "text": [
      "\u001b[36m(tune_with_parameters pid=1830126)\u001b[0m loss: 0.000\u001b[32m [repeated 30x across cluster]\u001b[0m\n",
      "\u001b[36m(tune_with_parameters pid=1832119)\u001b[0m /tmp/tmpa0_q2_bh/checkpoint.pt\n"
     ]
    },
    {
     "name": "stderr",
     "output_type": "stream",
     "text": [
      "\u001b[36m(tune_with_parameters pid=1832119)\u001b[0m Checkpoint successfully created at: Checkpoint(filesystem=local, path=/scratch/users/k23058970/Model training/results/Single Peak Conv Null/tune_with_parameters_2024-08-19_13-25-03/tune_with_parameters_21b89_00002_2_dp=0.2000,k1=5,k2=3,k3=3,k4=5,lr=0.0019_2024-08-19_13-25-34/checkpoint_000013)\n",
      "Val Epoch:19: 0it [00:00, ?it/s]\u001b[32m [repeated 2x across cluster]\u001b[0m\n",
      "Val Epoch:16: 47it [00:01, 31.23it/s]\u001b[32m [repeated 19x across cluster]\u001b[0m\n"
     ]
    },
    {
     "name": "stdout",
     "output_type": "stream",
     "text": [
      "\u001b[36m(tune_with_parameters pid=1830126)\u001b[0m loss: 0.000\u001b[32m [repeated 30x across cluster]\u001b[0m\n"
     ]
    },
    {
     "name": "stderr",
     "output_type": "stream",
     "text": [
      "Val Epoch:17: 47it [00:01, 27.78it/s]9)\u001b[0m \n",
      "\u001b[36m(tune_with_parameters pid=1832119)\u001b[0m Checkpoint successfully created at: Checkpoint(filesystem=local, path=/scratch/users/k23058970/Model training/results/Single Peak Conv Null/tune_with_parameters_2024-08-19_13-25-03/tune_with_parameters_21b89_00002_2_dp=0.2000,k1=5,k2=3,k3=3,k4=5,lr=0.0019_2024-08-19_13-25-34/checkpoint_000014)\n"
     ]
    },
    {
     "name": "stdout",
     "output_type": "stream",
     "text": [
      "\u001b[36m(tune_with_parameters pid=1832119)\u001b[0m /tmp/tmp5kjn8rxg/checkpoint.pt\n"
     ]
    },
    {
     "name": "stderr",
     "output_type": "stream",
     "text": [
      "Val Epoch:20: 0it [00:00, ?it/s]\u001b[32m [repeated 2x across cluster]\u001b[0m\n",
      "Val Epoch:17: 40it [00:01, 35.97it/s]\u001b[32m [repeated 18x across cluster]\u001b[0m\n"
     ]
    },
    {
     "name": "stdout",
     "output_type": "stream",
     "text": [
      "\u001b[36m(tune_with_parameters pid=1830126)\u001b[0m loss: 0.000\u001b[32m [repeated 30x across cluster]\u001b[0m\n"
     ]
    },
    {
     "name": "stderr",
     "output_type": "stream",
     "text": [
      "Val Epoch:21: 0it [00:00, ?it/s]\u001b[32m [repeated 2x across cluster]\u001b[0m\n",
      "Val Epoch:18: 47it [00:01, 28.27it/s]\u001b[32m [repeated 18x across cluster]\u001b[0m\n",
      "Val Epoch:21: 47it [00:01, 26.26it/s]6)\u001b[0m \n"
     ]
    },
    {
     "name": "stdout",
     "output_type": "stream",
     "text": [
      "\u001b[36m(tune_with_parameters pid=1830126)\u001b[0m loss: 0.000\u001b[32m [repeated 30x across cluster]\u001b[0m\n"
     ]
    },
    {
     "name": "stderr",
     "output_type": "stream",
     "text": [
      "Val Epoch:22: 0it [00:00, ?it/s]\u001b[32m [repeated 2x across cluster]\u001b[0m\n",
      "Val Epoch:19: 40it [00:01, 25.97it/s]\u001b[32m [repeated 14x across cluster]\u001b[0m\n",
      "Val Epoch:19: 47it [00:01, 25.82it/s]9)\u001b[0m \n"
     ]
    },
    {
     "name": "stdout",
     "output_type": "stream",
     "text": [
      "\u001b[36m(tune_with_parameters pid=1830126)\u001b[0m loss: 0.000\u001b[32m [repeated 30x across cluster]\u001b[0m\n"
     ]
    },
    {
     "name": "stderr",
     "output_type": "stream",
     "text": [
      "Val Epoch:23: 0it [00:00, ?it/s]\u001b[32m [repeated 2x across cluster]\u001b[0m\n",
      "Val Epoch:20: 47it [00:02, 20.24it/s]\u001b[32m [repeated 18x across cluster]\u001b[0m\n"
     ]
    },
    {
     "name": "stdout",
     "output_type": "stream",
     "text": [
      "\u001b[36m(tune_with_parameters pid=1830126)\u001b[0m loss: 0.000\u001b[32m [repeated 30x across cluster]\u001b[0m\n"
     ]
    },
    {
     "name": "stderr",
     "output_type": "stream",
     "text": [
      "Val Epoch:21: 47it [00:01, 27.15it/s]9)\u001b[0m \n",
      "Val Epoch:24: 0it [00:00, ?it/s]\u001b[32m [repeated 2x across cluster]\u001b[0m\n",
      "Val Epoch:21: 39it [00:01, 28.74it/s]\u001b[32m [repeated 17x across cluster]\u001b[0m\n"
     ]
    },
    {
     "name": "stdout",
     "output_type": "stream",
     "text": [
      "\u001b[36m(tune_with_parameters pid=1830126)\u001b[0m loss: 0.000\u001b[32m [repeated 30x across cluster]\u001b[0m\n"
     ]
    },
    {
     "name": "stderr",
     "output_type": "stream",
     "text": [
      "Val Epoch:25: 0it [00:00, ?it/s]\u001b[32m [repeated 2x across cluster]\u001b[0m\n",
      "Val Epoch:22: 47it [00:01, 31.28it/s]\u001b[32m [repeated 17x across cluster]\u001b[0m\n"
     ]
    },
    {
     "name": "stdout",
     "output_type": "stream",
     "text": [
      "\u001b[36m(tune_with_parameters pid=1830126)\u001b[0m loss: 0.000\u001b[32m [repeated 30x across cluster]\u001b[0m\n"
     ]
    },
    {
     "name": "stderr",
     "output_type": "stream",
     "text": [
      "Val Epoch:26: 0it [00:00, ?it/s]\u001b[32m [repeated 2x across cluster]\u001b[0m\n",
      "Val Epoch:23: 47it [00:01, 24.24it/s]\u001b[32m [repeated 19x across cluster]\u001b[0m\n"
     ]
    },
    {
     "name": "stdout",
     "output_type": "stream",
     "text": [
      "\u001b[36m(tune_with_parameters pid=1830126)\u001b[0m loss: 0.000\u001b[32m [repeated 30x across cluster]\u001b[0m\n"
     ]
    },
    {
     "name": "stderr",
     "output_type": "stream",
     "text": [
      "Val Epoch:27: 0it [00:00, ?it/s]\u001b[32m [repeated 2x across cluster]\u001b[0m\n",
      "Val Epoch:24: 47it [00:01, 24.84it/s]\u001b[32m [repeated 19x across cluster]\u001b[0m\n"
     ]
    },
    {
     "name": "stdout",
     "output_type": "stream",
     "text": [
      "\u001b[36m(tune_with_parameters pid=1830126)\u001b[0m loss: 0.000\u001b[32m [repeated 30x across cluster]\u001b[0m\n"
     ]
    },
    {
     "name": "stderr",
     "output_type": "stream",
     "text": [
      "Val Epoch:28: 0it [00:00, ?it/s]\u001b[32m [repeated 2x across cluster]\u001b[0m\n",
      "Val Epoch:25: 47it [00:01, 24.13it/s]\u001b[32m [repeated 19x across cluster]\u001b[0m\n"
     ]
    },
    {
     "name": "stdout",
     "output_type": "stream",
     "text": [
      "\u001b[36m(tune_with_parameters pid=1830126)\u001b[0m loss: 0.000\u001b[32m [repeated 30x across cluster]\u001b[0m\n"
     ]
    },
    {
     "name": "stderr",
     "output_type": "stream",
     "text": [
      "Val Epoch:27: 0it [00:00, ?it/s]\u001b[32m [repeated 2x across cluster]\u001b[0m\n",
      "Val Epoch:26: 47it [00:01, 36.03it/s]\u001b[32m [repeated 18x across cluster]\u001b[0m\n"
     ]
    },
    {
     "name": "stdout",
     "output_type": "stream",
     "text": [
      "\u001b[36m(tune_with_parameters pid=1832119)\u001b[0m /tmp/tmpvd59eg34/checkpoint.pt\n",
      "\u001b[36m(tune_with_parameters pid=1830126)\u001b[0m loss: 0.000\u001b[32m [repeated 29x across cluster]\u001b[0m\n"
     ]
    },
    {
     "name": "stderr",
     "output_type": "stream",
     "text": [
      "\u001b[36m(tune_with_parameters pid=1832119)\u001b[0m Checkpoint successfully created at: Checkpoint(filesystem=local, path=/scratch/users/k23058970/Model training/results/Single Peak Conv Null/tune_with_parameters_2024-08-19_13-25-03/tune_with_parameters_21b89_00002_2_dp=0.2000,k1=5,k2=3,k3=3,k4=5,lr=0.0019_2024-08-19_13-25-34/checkpoint_000015)\n",
      "Val Epoch:28: 0it [00:00, ?it/s]\u001b[32m [repeated 2x across cluster]\u001b[0m\n",
      "Val Epoch:29: 47it [00:01, 39.45it/s]\u001b[32m [repeated 18x across cluster]\u001b[0m\n"
     ]
    },
    {
     "name": "stdout",
     "output_type": "stream",
     "text": [
      "\u001b[36m(tune_with_parameters pid=1830126)\u001b[0m loss: 0.000\u001b[32m [repeated 30x across cluster]\u001b[0m\n",
      "\u001b[36m(tune_with_parameters pid=1830126)\u001b[0m loss: 0.000\u001b[32m [repeated 21x across cluster]\u001b[0m\n"
     ]
    },
    {
     "name": "stderr",
     "output_type": "stream",
     "text": [
      "Val Epoch:29: 0it [00:00, ?it/s]\u001b[32m [repeated 2x across cluster]\u001b[0m\n",
      "Val Epoch:30: 47it [00:01, 27.86it/s]\u001b[32m [repeated 20x across cluster]\u001b[0m\n"
     ]
    },
    {
     "name": "stdout",
     "output_type": "stream",
     "text": [
      "\u001b[36m(tune_with_parameters pid=1832119)\u001b[0m /tmp/tmpqdlnah49/checkpoint.pt\n"
     ]
    },
    {
     "name": "stderr",
     "output_type": "stream",
     "text": [
      "\u001b[36m(tune_with_parameters pid=1832119)\u001b[0m Checkpoint successfully created at: Checkpoint(filesystem=local, path=/scratch/users/k23058970/Model training/results/Single Peak Conv Null/tune_with_parameters_2024-08-19_13-25-03/tune_with_parameters_21b89_00002_2_dp=0.2000,k1=5,k2=3,k3=3,k4=5,lr=0.0019_2024-08-19_13-25-34/checkpoint_000016)\n"
     ]
    },
    {
     "name": "stdout",
     "output_type": "stream",
     "text": [
      "\u001b[36m(tune_with_parameters pid=1830126)\u001b[0m loss: 0.000\u001b[32m [repeated 17x across cluster]\u001b[0m\n"
     ]
    },
    {
     "name": "stderr",
     "output_type": "stream",
     "text": [
      "Val Epoch:30: 0it [00:00, ?it/s]\u001b[32m [repeated 2x across cluster]\u001b[0m\n",
      "Val Epoch:31: 47it [00:01, 27.76it/s]\u001b[32m [repeated 18x across cluster]\u001b[0m\n",
      "Val Epoch:32: 47it [00:01, 26.87it/s]6)\u001b[0m \n"
     ]
    },
    {
     "name": "stdout",
     "output_type": "stream",
     "text": [
      "\u001b[36m(tune_with_parameters pid=1832119)\u001b[0m loss: 0.004\u001b[32m [repeated 24x across cluster]\u001b[0m\n"
     ]
    },
    {
     "name": "stderr",
     "output_type": "stream",
     "text": [
      "Val Epoch:31: 0it [00:00, ?it/s]\u001b[32m [repeated 2x across cluster]\u001b[0m\n",
      "Val Epoch:32: 40it [00:01, 28.69it/s]\u001b[32m [repeated 16x across cluster]\u001b[0m\n"
     ]
    },
    {
     "name": "stdout",
     "output_type": "stream",
     "text": [
      "\u001b[36m(tune_with_parameters pid=1832119)\u001b[0m loss: 0.047\u001b[32m [repeated 29x across cluster]\u001b[0m\n"
     ]
    },
    {
     "name": "stderr",
     "output_type": "stream",
     "text": [
      "Val Epoch:32: 0it [00:00, ?it/s]\u001b[32m [repeated 2x across cluster]\u001b[0m\n",
      "Val Epoch:33: 47it [00:01, 26.62it/s]\u001b[32m [repeated 18x across cluster]\u001b[0m\n"
     ]
    },
    {
     "name": "stdout",
     "output_type": "stream",
     "text": [
      "\u001b[36m(tune_with_parameters pid=1832119)\u001b[0m loss: 0.015\u001b[32m [repeated 30x across cluster]\u001b[0m\n"
     ]
    },
    {
     "name": "stderr",
     "output_type": "stream",
     "text": [
      "Val Epoch:33: 0it [00:00, ?it/s]\u001b[32m [repeated 2x across cluster]\u001b[0m\n",
      "Val Epoch:34: 47it [00:01, 26.40it/s]\u001b[32m [repeated 18x across cluster]\u001b[0m\n"
     ]
    },
    {
     "name": "stdout",
     "output_type": "stream",
     "text": [
      "\u001b[36m(tune_with_parameters pid=1830126)\u001b[0m loss: 0.000\u001b[32m [repeated 29x across cluster]\u001b[0m\n",
      "\u001b[36m(tune_with_parameters pid=1830126)\u001b[0m loss: 0.000\u001b[32m [repeated 25x across cluster]\u001b[0m\n"
     ]
    },
    {
     "name": "stderr",
     "output_type": "stream",
     "text": [
      "Val Epoch:34: 0it [00:00, ?it/s]\u001b[32m [repeated 2x across cluster]\u001b[0m\n",
      "Val Epoch:35: 47it [00:01, 29.11it/s]\u001b[32m [repeated 19x across cluster]\u001b[0m\n"
     ]
    },
    {
     "name": "stdout",
     "output_type": "stream",
     "text": [
      "\u001b[36m(tune_with_parameters pid=1832119)\u001b[0m /tmp/tmpy7w8q5i4/checkpoint.pt\n"
     ]
    },
    {
     "name": "stderr",
     "output_type": "stream",
     "text": [
      "\u001b[36m(tune_with_parameters pid=1832119)\u001b[0m Checkpoint successfully created at: Checkpoint(filesystem=local, path=/scratch/users/k23058970/Model training/results/Single Peak Conv Null/tune_with_parameters_2024-08-19_13-25-03/tune_with_parameters_21b89_00002_2_dp=0.2000,k1=5,k2=3,k3=3,k4=5,lr=0.0019_2024-08-19_13-25-34/checkpoint_000017)\n"
     ]
    },
    {
     "name": "stdout",
     "output_type": "stream",
     "text": [
      "\u001b[36m(tune_with_parameters pid=1830126)\u001b[0m loss: 0.000\u001b[32m [repeated 19x across cluster]\u001b[0m\n"
     ]
    },
    {
     "name": "stderr",
     "output_type": "stream",
     "text": [
      "Val Epoch:35: 0it [00:00, ?it/s]\u001b[32m [repeated 2x across cluster]\u001b[0m\n",
      "Val Epoch:36: 47it [00:01, 32.49it/s]\u001b[32m [repeated 18x across cluster]\u001b[0m\n"
     ]
    },
    {
     "name": "stdout",
     "output_type": "stream",
     "text": [
      "\u001b[36m(tune_with_parameters pid=1830126)\u001b[0m loss: 0.000\u001b[32m [repeated 21x across cluster]\u001b[0m\n"
     ]
    },
    {
     "name": "stderr",
     "output_type": "stream",
     "text": [
      "Val Epoch:36: 0it [00:00, ?it/s]\u001b[32m [repeated 2x across cluster]\u001b[0m\n",
      "Val Epoch:37: 47it [00:01, 30.55it/s]\u001b[32m [repeated 20x across cluster]\u001b[0m\n"
     ]
    },
    {
     "name": "stdout",
     "output_type": "stream",
     "text": [
      "\u001b[36m(tune_with_parameters pid=1832119)\u001b[0m loss: 0.004\u001b[32m [repeated 27x across cluster]\u001b[0m\n"
     ]
    },
    {
     "name": "stderr",
     "output_type": "stream",
     "text": [
      "Val Epoch:38: 47it [00:02, 23.50it/s]6)\u001b[0m \n",
      "Val Epoch:37: 0it [00:00, ?it/s]\u001b[32m [repeated 2x across cluster]\u001b[0m\n",
      "Val Epoch:38: 41it [00:01, 43.14it/s]\u001b[32m [repeated 20x across cluster]\u001b[0m\n"
     ]
    },
    {
     "name": "stdout",
     "output_type": "stream",
     "text": [
      "\u001b[36m(tune_with_parameters pid=1830126)\u001b[0m loss: 0.000\u001b[32m [repeated 28x across cluster]\u001b[0m\n"
     ]
    },
    {
     "name": "stderr",
     "output_type": "stream",
     "text": [
      "Val Epoch:38: 0it [00:00, ?it/s]\u001b[32m [repeated 2x across cluster]\u001b[0m\n",
      "Val Epoch:39: 47it [00:01, 29.51it/s]\u001b[32m [repeated 18x across cluster]\u001b[0m\n"
     ]
    },
    {
     "name": "stdout",
     "output_type": "stream",
     "text": [
      "\u001b[36m(tune_with_parameters pid=1830126)\u001b[0m loss: 0.000\u001b[32m [repeated 24x across cluster]\u001b[0m\n",
      "\u001b[36m(tune_with_parameters pid=1830126)\u001b[0m loss: 0.000\u001b[32m [repeated 22x across cluster]\u001b[0m\n"
     ]
    },
    {
     "name": "stderr",
     "output_type": "stream",
     "text": [
      "Val Epoch:39: 0it [00:00, ?it/s]\u001b[32m [repeated 2x across cluster]\u001b[0m\n",
      "Val Epoch:40: 47it [00:01, 43.46it/s]\u001b[32m [repeated 18x across cluster]\u001b[0m\n"
     ]
    },
    {
     "name": "stdout",
     "output_type": "stream",
     "text": [
      "\u001b[36m(tune_with_parameters pid=1832119)\u001b[0m loss: 0.004\u001b[32m [repeated 23x across cluster]\u001b[0m\n"
     ]
    },
    {
     "name": "stderr",
     "output_type": "stream",
     "text": [
      "Val Epoch:40: 0it [00:00, ?it/s]\u001b[32m [repeated 2x across cluster]\u001b[0m\n",
      "Val Epoch:41: 47it [00:01, 37.96it/s]\u001b[32m [repeated 19x across cluster]\u001b[0m\n"
     ]
    },
    {
     "name": "stdout",
     "output_type": "stream",
     "text": [
      "\u001b[36m(tune_with_parameters pid=1832119)\u001b[0m loss: 0.004\u001b[32m [repeated 22x across cluster]\u001b[0m\n"
     ]
    },
    {
     "name": "stderr",
     "output_type": "stream",
     "text": [
      "Val Epoch:41: 0it [00:00, ?it/s]\u001b[32m [repeated 2x across cluster]\u001b[0m\n",
      "Val Epoch:42: 47it [00:01, 37.80it/s]\u001b[32m [repeated 18x across cluster]\u001b[0m\n",
      "Val Epoch:41: 7it [00:00, 32.26it/s]19)\u001b[0m \n"
     ]
    },
    {
     "name": "stdout",
     "output_type": "stream",
     "text": [
      "\u001b[36m(tune_with_parameters pid=1830126)\u001b[0m loss: 0.000\u001b[32m [repeated 21x across cluster]\u001b[0m\n",
      "\u001b[36m(tune_with_parameters pid=1832119)\u001b[0m loss: 0.005\u001b[32m [repeated 25x across cluster]\u001b[0m\n"
     ]
    },
    {
     "name": "stderr",
     "output_type": "stream",
     "text": [
      "Val Epoch:42: 0it [00:00, ?it/s]\u001b[32m [repeated 2x across cluster]\u001b[0m\n",
      "Val Epoch:43: 47it [00:01, 38.74it/s]\u001b[32m [repeated 16x across cluster]\u001b[0m\n",
      "Val Epoch:42: 47it [00:01, 23.95it/s]9)\u001b[0m \n"
     ]
    },
    {
     "name": "stdout",
     "output_type": "stream",
     "text": [
      "\u001b[36m(tune_with_parameters pid=1832119)\u001b[0m loss: 0.005\u001b[32m [repeated 21x across cluster]\u001b[0m\n"
     ]
    },
    {
     "name": "stderr",
     "output_type": "stream",
     "text": [
      "Val Epoch:44: 0it [00:00, ?it/s]830126)\u001b[0m \n",
      "Val Epoch:44: 27it [00:00, 45.71it/s]\u001b[32m [repeated 13x across cluster]\u001b[0m\n",
      "Val Epoch:43: 0it [00:00, ?it/s]832119)\u001b[0m \n",
      "Val Epoch:44: 47it [00:01, 41.67it/s]6)\u001b[0m \n"
     ]
    },
    {
     "name": "stdout",
     "output_type": "stream",
     "text": [
      "\u001b[36m(tune_with_parameters pid=1830126)\u001b[0m loss: 0.000\u001b[32m [repeated 26x across cluster]\u001b[0m\n"
     ]
    },
    {
     "name": "stderr",
     "output_type": "stream",
     "text": [
      "Val Epoch:43: 47it [00:01, 40.28it/s]\u001b[32m [repeated 11x across cluster]\u001b[0m\n",
      "Val Epoch:45: 0it [00:00, ?it/s]830126)\u001b[0m \n",
      "Val Epoch:44: 0it [00:00, ?it/s]832119)\u001b[0m \n",
      "Val Epoch:44: 13it [00:00, 43.88it/s]9)\u001b[0m \n"
     ]
    },
    {
     "name": "stdout",
     "output_type": "stream",
     "text": [
      "\u001b[36m(tune_with_parameters pid=1832119)\u001b[0m loss: 0.001\u001b[32m [repeated 18x across cluster]\u001b[0m\n"
     ]
    },
    {
     "name": "stderr",
     "output_type": "stream",
     "text": [
      "Val Epoch:44: 47it [00:01, 46.91it/s]\u001b[32m [repeated 17x across cluster]\u001b[0m\n",
      "Val Epoch:45: 0it [00:00, ?it/s]\u001b[32m [repeated 2x across cluster]\u001b[0m\n"
     ]
    },
    {
     "name": "stdout",
     "output_type": "stream",
     "text": [
      "\u001b[36m(tune_with_parameters pid=1830126)\u001b[0m loss: 0.000\u001b[32m [repeated 25x across cluster]\u001b[0m\n"
     ]
    },
    {
     "name": "stderr",
     "output_type": "stream",
     "text": [
      "Val Epoch:45: 47it [00:01, 28.22it/s]\u001b[32m [repeated 20x across cluster]\u001b[0m\n",
      "Val Epoch:47: 0it [00:00, ?it/s]830126)\u001b[0m \n",
      "Val Epoch:46: 0it [00:00, ?it/s]832119)\u001b[0m \n",
      "Val Epoch:47: 47it [00:01, 29.11it/s]6)\u001b[0m \n"
     ]
    },
    {
     "name": "stdout",
     "output_type": "stream",
     "text": [
      "\u001b[36m(tune_with_parameters pid=1830126)\u001b[0m loss: 0.000\u001b[32m [repeated 29x across cluster]\u001b[0m\n"
     ]
    },
    {
     "name": "stderr",
     "output_type": "stream",
     "text": [
      "Val Epoch:46: 47it [00:01, 25.15it/s]\u001b[32m [repeated 16x across cluster]\u001b[0m\n",
      "Val Epoch:48: 0it [00:00, ?it/s]830126)\u001b[0m \n",
      "Val Epoch:47: 0it [00:00, ?it/s]832119)\u001b[0m \n"
     ]
    },
    {
     "name": "stdout",
     "output_type": "stream",
     "text": [
      "\u001b[36m(tune_with_parameters pid=1830126)\u001b[0m loss: 0.000\u001b[32m [repeated 30x across cluster]\u001b[0m\n",
      "\u001b[36m(tune_with_parameters pid=1832119)\u001b[0m /tmp/tmper3f9bc6/checkpoint.pt\n"
     ]
    },
    {
     "name": "stderr",
     "output_type": "stream",
     "text": [
      "\u001b[36m(tune_with_parameters pid=1832119)\u001b[0m Checkpoint successfully created at: Checkpoint(filesystem=local, path=/scratch/users/k23058970/Model training/results/Single Peak Conv Null/tune_with_parameters_2024-08-19_13-25-03/tune_with_parameters_21b89_00002_2_dp=0.2000,k1=5,k2=3,k3=3,k4=5,lr=0.0019_2024-08-19_13-25-34/checkpoint_000018)\n",
      "Val Epoch:47: 47it [00:01, 24.54it/s]\u001b[32m [repeated 18x across cluster]\u001b[0m\n",
      "Val Epoch:49: 0it [00:00, ?it/s]830126)\u001b[0m \n",
      "Val Epoch:48: 0it [00:00, ?it/s]832119)\u001b[0m \n"
     ]
    },
    {
     "name": "stdout",
     "output_type": "stream",
     "text": [
      "\u001b[36m(tune_with_parameters pid=1830126)\u001b[0m loss: 0.000\u001b[32m [repeated 30x across cluster]\u001b[0m\n"
     ]
    },
    {
     "name": "stderr",
     "output_type": "stream",
     "text": [
      "Val Epoch:49: 0it [00:00, ?it/s]832119)\u001b[0m \n",
      "Val Epoch:48: 47it [00:01, 44.44it/s]\u001b[32m [repeated 18x across cluster]\u001b[0m\n",
      "Val Epoch:50: 0it [00:00, ?it/s]830126)\u001b[0m \n"
     ]
    },
    {
     "name": "stdout",
     "output_type": "stream",
     "text": [
      "\u001b[36m(tune_with_parameters pid=1832119)\u001b[0m /tmp/tmp86gv40d7/checkpoint.pt\n",
      "\u001b[36m(tune_with_parameters pid=1832119)\u001b[0m loss: 0.004\u001b[32m [repeated 29x across cluster]\u001b[0m\n"
     ]
    },
    {
     "name": "stderr",
     "output_type": "stream",
     "text": [
      "\u001b[36m(tune_with_parameters pid=1832119)\u001b[0m Checkpoint successfully created at: Checkpoint(filesystem=local, path=/scratch/users/k23058970/Model training/results/Single Peak Conv Null/tune_with_parameters_2024-08-19_13-25-03/tune_with_parameters_21b89_00002_2_dp=0.2000,k1=5,k2=3,k3=3,k4=5,lr=0.0019_2024-08-19_13-25-34/checkpoint_000019)\n",
      "Val Epoch:49: 47it [00:01, 29.30it/s]\u001b[32m [repeated 19x across cluster]\u001b[0m\n",
      "Val Epoch:50: 0it [00:00, ?it/s]832119)\u001b[0m \n"
     ]
    },
    {
     "name": "stdout",
     "output_type": "stream",
     "text": [
      "\u001b[36m(tune_with_parameters pid=1830126)\u001b[0m loss: 0.000\u001b[32m [repeated 30x across cluster]\u001b[0m\n"
     ]
    },
    {
     "name": "stderr",
     "output_type": "stream",
     "text": [
      "Val Epoch:51: 0it [00:00, ?it/s]830126)\u001b[0m \n",
      "Val Epoch:50: 47it [00:01, 28.95it/s]9)\u001b[0m \n"
     ]
    },
    {
     "name": "stdout",
     "output_type": "stream",
     "text": [
      "\u001b[36m(tune_with_parameters pid=1830126)\u001b[0m loss: 0.000\u001b[32m [repeated 25x across cluster]\u001b[0m\n"
     ]
    },
    {
     "name": "stderr",
     "output_type": "stream",
     "text": [
      "Val Epoch:51: 47it [00:01, 27.27it/s]\u001b[32m [repeated 16x across cluster]\u001b[0m\n",
      "Val Epoch:51: 0it [00:00, ?it/s]832119)\u001b[0m \n",
      "Val Epoch:52: 0it [00:00, ?it/s]830126)\u001b[0m \n"
     ]
    },
    {
     "name": "stdout",
     "output_type": "stream",
     "text": [
      "\u001b[36m(tune_with_parameters pid=1832119)\u001b[0m loss: 0.003\u001b[32m [repeated 16x across cluster]\u001b[0m\n"
     ]
    },
    {
     "name": "stderr",
     "output_type": "stream",
     "text": [
      "Val Epoch:52: 47it [00:01, 24.53it/s]\u001b[32m [repeated 19x across cluster]\u001b[0m\n",
      "Val Epoch:52: 0it [00:00, ?it/s]832119)\u001b[0m \n",
      "Val Epoch:53: 0it [00:00, ?it/s]830126)\u001b[0m \n"
     ]
    },
    {
     "name": "stdout",
     "output_type": "stream",
     "text": [
      "\u001b[36m(tune_with_parameters pid=1832119)\u001b[0m loss: 0.004\u001b[32m [repeated 23x across cluster]\u001b[0m\n"
     ]
    },
    {
     "name": "stderr",
     "output_type": "stream",
     "text": [
      "Val Epoch:53: 47it [00:01, 28.87it/s]\u001b[32m [repeated 19x across cluster]\u001b[0m\n",
      "Val Epoch:53: 0it [00:00, ?it/s]832119)\u001b[0m \n",
      "Val Epoch:53: 47it [00:01, 46.05it/s]9)\u001b[0m \n",
      "Val Epoch:54: 0it [00:00, ?it/s]830126)\u001b[0m \n"
     ]
    },
    {
     "name": "stdout",
     "output_type": "stream",
     "text": [
      "\u001b[36m(tune_with_parameters pid=1832119)\u001b[0m loss: 0.001\u001b[32m [repeated 27x across cluster]\u001b[0m\n"
     ]
    },
    {
     "name": "stderr",
     "output_type": "stream",
     "text": [
      "Val Epoch:54: 47it [00:01, 30.11it/s]\u001b[32m [repeated 17x across cluster]\u001b[0m\n",
      "Val Epoch:54: 0it [00:00, ?it/s]832119)\u001b[0m \n"
     ]
    },
    {
     "name": "stdout",
     "output_type": "stream",
     "text": [
      "\u001b[36m(tune_with_parameters pid=1830126)\u001b[0m loss: 0.000\u001b[32m [repeated 28x across cluster]\u001b[0m\n"
     ]
    },
    {
     "name": "stderr",
     "output_type": "stream",
     "text": [
      "Val Epoch:55: 0it [00:00, ?it/s]830126)\u001b[0m \n",
      "Val Epoch:55: 47it [00:01, 34.28it/s]\u001b[32m [repeated 20x across cluster]\u001b[0m\n"
     ]
    },
    {
     "name": "stdout",
     "output_type": "stream",
     "text": [
      "\u001b[36m(tune_with_parameters pid=1830126)\u001b[0m loss: 0.000\u001b[32m [repeated 24x across cluster]\u001b[0m\n"
     ]
    },
    {
     "name": "stderr",
     "output_type": "stream",
     "text": [
      "Val Epoch:55: 0it [00:00, ?it/s]832119)\u001b[0m \n",
      "Val Epoch:55: 47it [00:01, 37.56it/s]9)\u001b[0m \n",
      "Val Epoch:56: 0it [00:00, ?it/s]830126)\u001b[0m \n"
     ]
    },
    {
     "name": "stdout",
     "output_type": "stream",
     "text": [
      "\u001b[36m(tune_with_parameters pid=1830126)\u001b[0m loss: 0.000\u001b[32m [repeated 21x across cluster]\u001b[0m\n"
     ]
    },
    {
     "name": "stderr",
     "output_type": "stream",
     "text": [
      "Val Epoch:56: 47it [00:01, 40.23it/s]\u001b[32m [repeated 16x across cluster]\u001b[0m\n",
      "Val Epoch:56: 0it [00:00, ?it/s]832119)\u001b[0m \n",
      "Val Epoch:57: 0it [00:00, ?it/s]830126)\u001b[0m \n"
     ]
    },
    {
     "name": "stdout",
     "output_type": "stream",
     "text": [
      "\u001b[36m(tune_with_parameters pid=1832119)\u001b[0m loss: 0.003\u001b[32m [repeated 23x across cluster]\u001b[0m\n"
     ]
    },
    {
     "name": "stderr",
     "output_type": "stream",
     "text": [
      "Val Epoch:57: 47it [00:00, 47.24it/s]\u001b[32m [repeated 18x across cluster]\u001b[0m\n",
      "Val Epoch:57: 0it [00:00, ?it/s]832119)\u001b[0m \n"
     ]
    },
    {
     "name": "stdout",
     "output_type": "stream",
     "text": [
      "\u001b[36m(tune_with_parameters pid=1830126)\u001b[0m loss: 0.000\u001b[32m [repeated 24x across cluster]\u001b[0m\n"
     ]
    },
    {
     "name": "stderr",
     "output_type": "stream",
     "text": [
      "Val Epoch:58: 0it [00:00, ?it/s]830126)\u001b[0m \n",
      "Val Epoch:58: 47it [00:01, 28.83it/s]\u001b[32m [repeated 18x across cluster]\u001b[0m\n"
     ]
    },
    {
     "name": "stdout",
     "output_type": "stream",
     "text": [
      "\u001b[36m(tune_with_parameters pid=1830126)\u001b[0m loss: 0.000\u001b[32m [repeated 22x across cluster]\u001b[0m\n"
     ]
    },
    {
     "name": "stderr",
     "output_type": "stream",
     "text": [
      "Val Epoch:58: 0it [00:00, ?it/s]832119)\u001b[0m \n",
      "Val Epoch:59: 0it [00:00, ?it/s]830126)\u001b[0m \n",
      "Val Epoch:59: 47it [00:01, 32.40it/s]6)\u001b[0m \n"
     ]
    },
    {
     "name": "stdout",
     "output_type": "stream",
     "text": [
      "\u001b[36m(tune_with_parameters pid=1830126)\u001b[0m loss: 0.000\u001b[32m [repeated 23x across cluster]\u001b[0m\n"
     ]
    },
    {
     "name": "stderr",
     "output_type": "stream",
     "text": [
      "Val Epoch:59: 40it [00:01, 42.27it/s]\u001b[32m [repeated 18x across cluster]\u001b[0m\n",
      "Val Epoch:60: 0it [00:00, ?it/s]\u001b[32m [repeated 2x across cluster]\u001b[0m\n",
      "Val Epoch:59: 47it [00:01, 35.12it/s]9)\u001b[0m \n"
     ]
    },
    {
     "name": "stdout",
     "output_type": "stream",
     "text": [
      "\u001b[36m(tune_with_parameters pid=1832119)\u001b[0m loss: 0.004\u001b[32m [repeated 26x across cluster]\u001b[0m\n"
     ]
    },
    {
     "name": "stderr",
     "output_type": "stream",
     "text": [
      "Val Epoch:60: 35it [00:00, 44.13it/s]\u001b[32m [repeated 15x across cluster]\u001b[0m\n"
     ]
    },
    {
     "name": "stdout",
     "output_type": "stream",
     "text": [
      "\u001b[36m(tune_with_parameters pid=1830126)\u001b[0m loss: 0.000\u001b[32m [repeated 19x across cluster]\u001b[0m\n"
     ]
    },
    {
     "name": "stderr",
     "output_type": "stream",
     "text": [
      "Val Epoch:61: 0it [00:00, ?it/s]\u001b[32m [repeated 2x across cluster]\u001b[0m\n",
      "Val Epoch:60: 47it [00:01, 44.73it/s]\u001b[32m [repeated 11x across cluster]\u001b[0m\n"
     ]
    },
    {
     "name": "stdout",
     "output_type": "stream",
     "text": [
      "\u001b[36m(tune_with_parameters pid=1830126)\u001b[0m loss: 0.000\u001b[32m [repeated 20x across cluster]\u001b[0m\n"
     ]
    },
    {
     "name": "stderr",
     "output_type": "stream",
     "text": [
      "Val Epoch:62: 0it [00:00, ?it/s]\u001b[32m [repeated 2x across cluster]\u001b[0m\n",
      "Val Epoch:61: 47it [00:01, 28.16it/s]\u001b[32m [repeated 20x across cluster]\u001b[0m\n"
     ]
    },
    {
     "name": "stdout",
     "output_type": "stream",
     "text": [
      "\u001b[36m(tune_with_parameters pid=1830126)\u001b[0m loss: 0.000\u001b[32m [repeated 25x across cluster]\u001b[0m\n"
     ]
    },
    {
     "name": "stderr",
     "output_type": "stream",
     "text": [
      "Val Epoch:63: 0it [00:00, ?it/s]\u001b[32m [repeated 2x across cluster]\u001b[0m\n",
      "Val Epoch:62: 47it [00:01, 30.86it/s]\u001b[32m [repeated 20x across cluster]\u001b[0m\n"
     ]
    },
    {
     "name": "stdout",
     "output_type": "stream",
     "text": [
      "\u001b[36m(tune_with_parameters pid=1832119)\u001b[0m loss: 0.003\u001b[32m [repeated 28x across cluster]\u001b[0m\n",
      "\u001b[36m(tune_with_parameters pid=1830126)\u001b[0m loss: 0.000\u001b[32m [repeated 24x across cluster]\u001b[0m\n"
     ]
    },
    {
     "name": "stderr",
     "output_type": "stream",
     "text": [
      "Val Epoch:64: 0it [00:00, ?it/s]\u001b[32m [repeated 2x across cluster]\u001b[0m\n",
      "Val Epoch:63: 47it [00:01, 33.71it/s]\u001b[32m [repeated 18x across cluster]\u001b[0m\n"
     ]
    },
    {
     "name": "stdout",
     "output_type": "stream",
     "text": [
      "\u001b[36m(tune_with_parameters pid=1832119)\u001b[0m loss: 0.004\u001b[32m [repeated 16x across cluster]\u001b[0m\n"
     ]
    },
    {
     "name": "stderr",
     "output_type": "stream",
     "text": [
      "Val Epoch:65: 0it [00:00, ?it/s]\u001b[32m [repeated 2x across cluster]\u001b[0m\n",
      "Val Epoch:64: 47it [00:01, 30.82it/s]\u001b[32m [repeated 19x across cluster]\u001b[0m\n"
     ]
    },
    {
     "name": "stdout",
     "output_type": "stream",
     "text": [
      "\u001b[36m(tune_with_parameters pid=1830126)\u001b[0m loss: 0.000\u001b[32m [repeated 22x across cluster]\u001b[0m\n"
     ]
    },
    {
     "name": "stderr",
     "output_type": "stream",
     "text": [
      "Val Epoch:65: 47it [00:01, 23.88it/s]9)\u001b[0m \n",
      "Val Epoch:66: 0it [00:00, ?it/s]\u001b[32m [repeated 2x across cluster]\u001b[0m\n",
      "Val Epoch:65: 40it [00:01, 25.13it/s]\u001b[32m [repeated 17x across cluster]\u001b[0m\n"
     ]
    },
    {
     "name": "stdout",
     "output_type": "stream",
     "text": [
      "\u001b[36m(tune_with_parameters pid=1830126)\u001b[0m loss: 0.000\u001b[32m [repeated 30x across cluster]\u001b[0m\n"
     ]
    },
    {
     "name": "stderr",
     "output_type": "stream",
     "text": [
      "Val Epoch:66: 47it [00:01, 24.40it/s]9)\u001b[0m \n"
     ]
    },
    {
     "name": "stdout",
     "output_type": "stream",
     "text": [
      "\u001b[36m(tune_with_parameters pid=1830126)\u001b[0m \n"
     ]
    },
    {
     "name": "stderr",
     "output_type": "stream",
     "text": [
      "Val Epoch:67: 0it [00:00, ?it/s]\u001b[32m [repeated 2x across cluster]\u001b[0m\n",
      "Val Epoch:66: 38it [00:00, 55.44it/s]\u001b[32m [repeated 17x across cluster]\u001b[0m\n"
     ]
    },
    {
     "name": "stdout",
     "output_type": "stream",
     "text": [
      "\u001b[36m(tune_with_parameters pid=1830126)\u001b[0m loss: 0.000\u001b[32m [repeated 30x across cluster]\u001b[0m\n"
     ]
    },
    {
     "name": "stderr",
     "output_type": "stream",
     "text": [
      "Val Epoch:68: 0it [00:00, ?it/s]\u001b[32m [repeated 2x across cluster]\u001b[0m\n",
      "Val Epoch:67: 47it [00:02, 22.79it/s]\u001b[32m [repeated 19x across cluster]\u001b[0m\n"
     ]
    },
    {
     "name": "stdout",
     "output_type": "stream",
     "text": [
      "\u001b[36m(tune_with_parameters pid=1830126)\u001b[0m loss: 0.000\u001b[32m [repeated 30x across cluster]\u001b[0m\n"
     ]
    },
    {
     "name": "stderr",
     "output_type": "stream",
     "text": [
      "Val Epoch:69: 0it [00:00, ?it/s]\u001b[32m [repeated 2x across cluster]\u001b[0m\n",
      "Val Epoch:68: 47it [00:01, 28.77it/s]\u001b[32m [repeated 19x across cluster]\u001b[0m\n",
      "Val Epoch:69: 12it [00:00, 26.37it/s]9)\u001b[0m \n"
     ]
    },
    {
     "name": "stdout",
     "output_type": "stream",
     "text": [
      "\u001b[36m(tune_with_parameters pid=1830126)\u001b[0m loss: 0.000\u001b[32m [repeated 30x across cluster]\u001b[0m\n"
     ]
    },
    {
     "name": "stderr",
     "output_type": "stream",
     "text": [
      "Val Epoch:70: 0it [00:00, ?it/s]\u001b[32m [repeated 2x across cluster]\u001b[0m\n",
      "Val Epoch:69: 47it [00:01, 29.58it/s]\u001b[32m [repeated 16x across cluster]\u001b[0m\n"
     ]
    },
    {
     "name": "stdout",
     "output_type": "stream",
     "text": [
      "\u001b[36m(tune_with_parameters pid=1832119)\u001b[0m loss: 0.000\u001b[32m [repeated 30x across cluster]\u001b[0m\n"
     ]
    },
    {
     "name": "stderr",
     "output_type": "stream",
     "text": [
      "Val Epoch:71: 0it [00:00, ?it/s]\u001b[32m [repeated 2x across cluster]\u001b[0m\n",
      "Val Epoch:70: 47it [00:01, 24.55it/s]\u001b[32m [repeated 18x across cluster]\u001b[0m\n",
      "Val Epoch:71: 42it [00:01, 52.53it/s]6)\u001b[0m \n"
     ]
    },
    {
     "name": "stdout",
     "output_type": "stream",
     "text": [
      "\u001b[36m(tune_with_parameters pid=1830126)\u001b[0m loss: 0.000\u001b[32m [repeated 30x across cluster]\u001b[0m\n"
     ]
    },
    {
     "name": "stderr",
     "output_type": "stream",
     "text": [
      "Val Epoch:72: 0it [00:00, ?it/s]\u001b[32m [repeated 2x across cluster]\u001b[0m\n",
      "Val Epoch:71: 47it [00:01, 27.40it/s]\u001b[32m [repeated 16x across cluster]\u001b[0m\n"
     ]
    },
    {
     "name": "stdout",
     "output_type": "stream",
     "text": [
      "\u001b[36m(tune_with_parameters pid=1832119)\u001b[0m loss: 0.003\u001b[32m [repeated 30x across cluster]\u001b[0m\n"
     ]
    },
    {
     "name": "stderr",
     "output_type": "stream",
     "text": [
      "Val Epoch:73: 0it [00:00, ?it/s]\u001b[32m [repeated 2x across cluster]\u001b[0m\n",
      "Val Epoch:72: 47it [00:01, 27.32it/s]\u001b[32m [repeated 21x across cluster]\u001b[0m\n",
      "Val Epoch:73: 47it [00:01, 25.58it/s]9)\u001b[0m \n"
     ]
    },
    {
     "name": "stdout",
     "output_type": "stream",
     "text": [
      "\u001b[36m(tune_with_parameters pid=1832119)\u001b[0m loss: 0.001\u001b[32m [repeated 30x across cluster]\u001b[0m\n"
     ]
    },
    {
     "name": "stderr",
     "output_type": "stream",
     "text": [
      "Val Epoch:74: 0it [00:00, ?it/s]\u001b[32m [repeated 2x across cluster]\u001b[0m\n",
      "Val Epoch:73: 47it [00:01, 27.46it/s]\u001b[32m [repeated 18x across cluster]\u001b[0m\n",
      "Val Epoch:74: 47it [00:01, 30.70it/s]9)\u001b[0m \n"
     ]
    },
    {
     "name": "stdout",
     "output_type": "stream",
     "text": [
      "\u001b[36m(tune_with_parameters pid=1832119)\u001b[0m loss: 0.001\u001b[32m [repeated 30x across cluster]\u001b[0m\n"
     ]
    },
    {
     "name": "stderr",
     "output_type": "stream",
     "text": [
      "Val Epoch:75: 0it [00:00, ?it/s]\u001b[32m [repeated 2x across cluster]\u001b[0m\n",
      "Val Epoch:74: 47it [00:02, 21.28it/s]\u001b[32m [repeated 17x across cluster]\u001b[0m\n",
      "Val Epoch:75: 47it [00:01, 34.07it/s]9)\u001b[0m \n"
     ]
    },
    {
     "name": "stdout",
     "output_type": "stream",
     "text": [
      "\u001b[36m(tune_with_parameters pid=1832119)\u001b[0m loss: 0.003\u001b[32m [repeated 30x across cluster]\u001b[0m\n"
     ]
    },
    {
     "name": "stderr",
     "output_type": "stream",
     "text": [
      "Val Epoch:76: 0it [00:00, ?it/s]\u001b[32m [repeated 2x across cluster]\u001b[0m\n",
      "Val Epoch:75: 47it [00:01, 27.00it/s]\u001b[32m [repeated 16x across cluster]\u001b[0m\n"
     ]
    },
    {
     "name": "stdout",
     "output_type": "stream",
     "text": [
      "\u001b[36m(tune_with_parameters pid=1830126)\u001b[0m loss: 0.000\u001b[32m [repeated 28x across cluster]\u001b[0m\n",
      "\u001b[36m(tune_with_parameters pid=1830126)\u001b[0m loss: 0.000\u001b[32m [repeated 21x across cluster]\u001b[0m\n"
     ]
    },
    {
     "name": "stderr",
     "output_type": "stream",
     "text": [
      "Val Epoch:77: 0it [00:00, ?it/s]\u001b[32m [repeated 2x across cluster]\u001b[0m\n",
      "Val Epoch:76: 47it [00:01, 23.75it/s]\u001b[32m [repeated 17x across cluster]\u001b[0m\n"
     ]
    },
    {
     "name": "stdout",
     "output_type": "stream",
     "text": [
      "\u001b[36m(tune_with_parameters pid=1830126)\u001b[0m loss: 0.000\u001b[32m [repeated 15x across cluster]\u001b[0m\n"
     ]
    },
    {
     "name": "stderr",
     "output_type": "stream",
     "text": [
      "Val Epoch:78: 0it [00:00, ?it/s]\u001b[32m [repeated 2x across cluster]\u001b[0m\n",
      "Val Epoch:77: 47it [00:01, 24.20it/s]\u001b[32m [repeated 21x across cluster]\u001b[0m\n"
     ]
    },
    {
     "name": "stdout",
     "output_type": "stream",
     "text": [
      "\u001b[36m(tune_with_parameters pid=1832119)\u001b[0m loss: 0.003\u001b[32m [repeated 26x across cluster]\u001b[0m\n"
     ]
    },
    {
     "name": "stderr",
     "output_type": "stream",
     "text": [
      "Val Epoch:79: 0it [00:00, ?it/s]\u001b[32m [repeated 2x across cluster]\u001b[0m\n",
      "Val Epoch:78: 47it [00:01, 30.97it/s]\u001b[32m [repeated 20x across cluster]\u001b[0m\n"
     ]
    },
    {
     "name": "stdout",
     "output_type": "stream",
     "text": [
      "\u001b[36m(tune_with_parameters pid=1830126)\u001b[0m loss: 0.000\u001b[32m [repeated 29x across cluster]\u001b[0m\n",
      "\u001b[36m(tune_with_parameters pid=1830126)\u001b[0m loss: 0.000\u001b[32m [repeated 12x across cluster]\u001b[0m\n"
     ]
    },
    {
     "name": "stderr",
     "output_type": "stream",
     "text": [
      "Val Epoch:80: 0it [00:00, ?it/s]\u001b[32m [repeated 2x across cluster]\u001b[0m\n",
      "Val Epoch:79: 47it [00:01, 31.11it/s]\u001b[32m [repeated 18x across cluster]\u001b[0m\n",
      "Val Epoch:80: 47it [00:01, 37.01it/s]6)\u001b[0m \n"
     ]
    },
    {
     "name": "stdout",
     "output_type": "stream",
     "text": [
      "\u001b[36m(tune_with_parameters pid=1830126)\u001b[0m loss: 0.000\u001b[32m [repeated 14x across cluster]\u001b[0m\n"
     ]
    },
    {
     "name": "stderr",
     "output_type": "stream",
     "text": [
      "Val Epoch:81: 0it [00:00, ?it/s]830126)\u001b[0m \n",
      "Val Epoch:80: 38it [00:01, 50.57it/s]\u001b[32m [repeated 6x across cluster]\u001b[0m\n",
      "\u001b[36m(tune_with_parameters pid=1917056)\u001b[0m /users/k23058970/miniforge3/envs/Training/lib/python3.10/site-packages/torch/nn/modules/lazy.py:181: UserWarning: Lazy modules are a new feature under heavy development so changes to the API or functionality can happen at any moment.\n",
      "\u001b[36m(tune_with_parameters pid=1917056)\u001b[0m   warnings.warn('Lazy modules are a new feature under heavy development '\n"
     ]
    },
    {
     "name": "stdout",
     "output_type": "stream",
     "text": [
      "\u001b[36m(tune_with_parameters pid=1830126)\u001b[0m loss: 0.000\u001b[32m [repeated 14x across cluster]\u001b[0m\n"
     ]
    },
    {
     "name": "stderr",
     "output_type": "stream",
     "text": [
      "Val Epoch:82: 0it [00:00, ?it/s]830126)\u001b[0m \n",
      "Val Epoch:81: 47it [00:01, 36.71it/s]\u001b[32m [repeated 9x across cluster]\u001b[0m\n",
      "2024-08-19 13:35:06,050\tERROR tune_controller.py:1331 -- Trial task failed for trial tune_with_parameters_21b89_00003\n",
      "Traceback (most recent call last):\n",
      "  File \"/users/k23058970/miniforge3/envs/Training/lib/python3.10/site-packages/ray/air/execution/_internal/event_manager.py\", line 110, in resolve_future\n",
      "    result = ray.get(future)\n",
      "  File \"/users/k23058970/miniforge3/envs/Training/lib/python3.10/site-packages/ray/_private/auto_init_hook.py\", line 21, in auto_init_wrapper\n",
      "    return fn(*args, **kwargs)\n",
      "  File \"/users/k23058970/miniforge3/envs/Training/lib/python3.10/site-packages/ray/_private/client_mode_hook.py\", line 103, in wrapper\n",
      "    return func(*args, **kwargs)\n",
      "  File \"/users/k23058970/miniforge3/envs/Training/lib/python3.10/site-packages/ray/_private/worker.py\", line 2613, in get\n",
      "    values, debugger_breakpoint = worker.get_objects(object_refs, timeout=timeout)\n",
      "  File \"/users/k23058970/miniforge3/envs/Training/lib/python3.10/site-packages/ray/_private/worker.py\", line 861, in get_objects\n",
      "    raise value.as_instanceof_cause()\n",
      "ray.exceptions.RayTaskError(RuntimeError): \u001b[36mray::ImplicitFunc.train()\u001b[39m (pid=1917056, ip=10.211.4.4, actor_id=5a66f10da5c111b610ffb0c601000000, repr=tune_with_parameters)\n",
      "  File \"/users/k23058970/miniforge3/envs/Training/lib/python3.10/site-packages/ray/tune/trainable/trainable.py\", line 331, in train\n",
      "    raise skipped from exception_cause(skipped)\n",
      "  File \"/users/k23058970/miniforge3/envs/Training/lib/python3.10/site-packages/ray/air/_internal/util.py\", line 98, in run\n",
      "    self._ret = self._target(*self._args, **self._kwargs)\n",
      "  File \"/users/k23058970/miniforge3/envs/Training/lib/python3.10/site-packages/ray/tune/trainable/function_trainable.py\", line 45, in <lambda>\n",
      "    training_func=lambda: self._trainable_func(self.config),\n",
      "  File \"/users/k23058970/miniforge3/envs/Training/lib/python3.10/site-packages/ray/tune/trainable/function_trainable.py\", line 248, in _trainable_func\n",
      "    output = fn()\n",
      "  File \"/users/k23058970/miniforge3/envs/Training/lib/python3.10/site-packages/ray/tune/trainable/util.py\", line 130, in inner\n",
      "    return trainable(config, **fn_kwargs)\n",
      "  File \"/scratch/users/k23058970/Model training/training_insilico_conv.py\", line 200, in train_spectra\n",
      "    outputs = model(inputs)\n",
      "  File \"/users/k23058970/miniforge3/envs/Training/lib/python3.10/site-packages/torch/nn/modules/module.py\", line 1532, in _wrapped_call_impl\n",
      "    return self._call_impl(*args, **kwargs)\n",
      "  File \"/users/k23058970/miniforge3/envs/Training/lib/python3.10/site-packages/torch/nn/modules/module.py\", line 1541, in _call_impl\n",
      "    return forward_call(*args, **kwargs)\n",
      "  File \"/scratch/users/k23058970/Model training/insilico_conv.py\", line 47, in forward\n",
      "    x = self.conv4(x)\n",
      "  File \"/users/k23058970/miniforge3/envs/Training/lib/python3.10/site-packages/torch/nn/modules/module.py\", line 1532, in _wrapped_call_impl\n",
      "    return self._call_impl(*args, **kwargs)\n",
      "  File \"/users/k23058970/miniforge3/envs/Training/lib/python3.10/site-packages/torch/nn/modules/module.py\", line 1541, in _call_impl\n",
      "    return forward_call(*args, **kwargs)\n",
      "  File \"/users/k23058970/miniforge3/envs/Training/lib/python3.10/site-packages/torch/nn/modules/conv.py\", line 310, in forward\n",
      "    return self._conv_forward(input, self.weight, self.bias)\n",
      "  File \"/users/k23058970/miniforge3/envs/Training/lib/python3.10/site-packages/torch/nn/modules/conv.py\", line 306, in _conv_forward\n",
      "    return F.conv1d(input, weight, bias, self.stride,\n",
      "RuntimeError: Calculated padded input size per channel: (4). Kernel size: (5). Kernel size can't be greater than actual input size\n"
     ]
    },
    {
     "name": "stdout",
     "output_type": "stream",
     "text": [
      "\u001b[36m(tune_with_parameters pid=1830126)\u001b[0m loss: 0.000\u001b[32m [repeated 13x across cluster]\u001b[0m\n"
     ]
    },
    {
     "name": "stderr",
     "output_type": "stream",
     "text": [
      "Val Epoch:83: 0it [00:00, ?it/s]830126)\u001b[0m \n",
      "Val Epoch:83: 1it [00:00,  1.34it/s]\u001b[32m [repeated 7x across cluster]\u001b[0m\n"
     ]
    },
    {
     "name": "stdout",
     "output_type": "stream",
     "text": [
      "\u001b[36m(tune_with_parameters pid=1830126)\u001b[0m loss: 0.000\u001b[32m [repeated 14x across cluster]\u001b[0m\n"
     ]
    },
    {
     "name": "stderr",
     "output_type": "stream",
     "text": [
      "Val Epoch:84: 0it [00:00, ?it/s]830126)\u001b[0m \n",
      "Val Epoch:83: 47it [00:01, 32.08it/s]\u001b[32m [repeated 7x across cluster]\u001b[0m\n"
     ]
    },
    {
     "name": "stdout",
     "output_type": "stream",
     "text": [
      "\u001b[36m(tune_with_parameters pid=1830126)\u001b[0m loss: 0.000\u001b[32m [repeated 12x across cluster]\u001b[0m\n"
     ]
    },
    {
     "name": "stderr",
     "output_type": "stream",
     "text": [
      "\u001b[36m(tune_with_parameters pid=1921116)\u001b[0m /users/k23058970/miniforge3/envs/Training/lib/python3.10/site-packages/torch/nn/modules/lazy.py:181: UserWarning: Lazy modules are a new feature under heavy development so changes to the API or functionality can happen at any moment.\n",
      "\u001b[36m(tune_with_parameters pid=1921116)\u001b[0m   warnings.warn('Lazy modules are a new feature under heavy development '\n",
      "Val Epoch:85: 0it [00:00, ?it/s]830126)\u001b[0m \n",
      "Val Epoch:84: 47it [00:01, 35.52it/s]\u001b[32m [repeated 8x across cluster]\u001b[0m\n"
     ]
    },
    {
     "name": "stdout",
     "output_type": "stream",
     "text": [
      "\u001b[36m(tune_with_parameters pid=1830126)\u001b[0m loss: 0.000\u001b[32m [repeated 12x across cluster]\u001b[0m\n"
     ]
    },
    {
     "name": "stderr",
     "output_type": "stream",
     "text": [
      "Val Epoch:0: 0it [00:00, ?it/s]1921116)\u001b[0m \n",
      "Val Epoch:85: 47it [00:01, 25.62it/s]\u001b[32m [repeated 8x across cluster]\u001b[0m\n"
     ]
    },
    {
     "name": "stdout",
     "output_type": "stream",
     "text": [
      "\u001b[36m(tune_with_parameters pid=1921116)\u001b[0m /tmp/tmp4pu91fnq/checkpoint.pt\n",
      "\u001b[36m(tune_with_parameters pid=1830126)\u001b[0m loss: 0.000\u001b[32m [repeated 29x across cluster]\u001b[0m\n"
     ]
    },
    {
     "name": "stderr",
     "output_type": "stream",
     "text": [
      "\u001b[36m(tune_with_parameters pid=1921116)\u001b[0m Checkpoint successfully created at: Checkpoint(filesystem=local, path=/scratch/users/k23058970/Model training/results/Single Peak Conv Null/tune_with_parameters_2024-08-19_13-25-03/tune_with_parameters_21b89_00004_4_dp=0.1000,k1=7,k2=1,k3=7,k4=5,lr=0.0157_2024-08-19_13-25-34/checkpoint_000000)\n",
      "Val Epoch:1: 0it [00:00, ?it/s]\u001b[32m [repeated 2x across cluster]\u001b[0m\n",
      "Val Epoch:86: 47it [00:01, 30.23it/s]\u001b[32m [repeated 19x across cluster]\u001b[0m\n"
     ]
    },
    {
     "name": "stdout",
     "output_type": "stream",
     "text": [
      "\u001b[36m(tune_with_parameters pid=1830126)\u001b[0m loss: 0.000\u001b[32m [repeated 30x across cluster]\u001b[0m\n",
      "\u001b[36m(tune_with_parameters pid=1921116)\u001b[0m /tmp/tmpsqpx_483/checkpoint.pt\n"
     ]
    },
    {
     "name": "stderr",
     "output_type": "stream",
     "text": [
      "\u001b[36m(tune_with_parameters pid=1921116)\u001b[0m Checkpoint successfully created at: Checkpoint(filesystem=local, path=/scratch/users/k23058970/Model training/results/Single Peak Conv Null/tune_with_parameters_2024-08-19_13-25-03/tune_with_parameters_21b89_00004_4_dp=0.1000,k1=7,k2=1,k3=7,k4=5,lr=0.0157_2024-08-19_13-25-34/checkpoint_000001)\n"
     ]
    },
    {
     "name": "stdout",
     "output_type": "stream",
     "text": [
      "\u001b[36m(tune_with_parameters pid=1830126)\u001b[0m loss: 0.000\u001b[32m [repeated 22x across cluster]\u001b[0m\n"
     ]
    },
    {
     "name": "stderr",
     "output_type": "stream",
     "text": [
      "Val Epoch:2: 0it [00:00, ?it/s]\u001b[32m [repeated 2x across cluster]\u001b[0m\n",
      "Val Epoch:87: 47it [00:01, 25.21it/s]\u001b[32m [repeated 19x across cluster]\u001b[0m\n"
     ]
    },
    {
     "name": "stdout",
     "output_type": "stream",
     "text": [
      "\u001b[36m(tune_with_parameters pid=1921116)\u001b[0m /tmp/tmpxpflw5ue/checkpoint.pt\n"
     ]
    },
    {
     "name": "stderr",
     "output_type": "stream",
     "text": [
      "\u001b[36m(tune_with_parameters pid=1921116)\u001b[0m Checkpoint successfully created at: Checkpoint(filesystem=local, path=/scratch/users/k23058970/Model training/results/Single Peak Conv Null/tune_with_parameters_2024-08-19_13-25-03/tune_with_parameters_21b89_00004_4_dp=0.1000,k1=7,k2=1,k3=7,k4=5,lr=0.0157_2024-08-19_13-25-34/checkpoint_000002)\n"
     ]
    },
    {
     "name": "stdout",
     "output_type": "stream",
     "text": [
      "\u001b[36m(tune_with_parameters pid=1921116)\u001b[0m loss: 0.003\u001b[32m [repeated 19x across cluster]\u001b[0m\n"
     ]
    },
    {
     "name": "stderr",
     "output_type": "stream",
     "text": [
      "Val Epoch:3: 0it [00:00, ?it/s]\u001b[32m [repeated 2x across cluster]\u001b[0m\n",
      "Val Epoch:88: 47it [00:01, 24.26it/s]\u001b[32m [repeated 20x across cluster]\u001b[0m\n"
     ]
    },
    {
     "name": "stdout",
     "output_type": "stream",
     "text": [
      "\u001b[36m(tune_with_parameters pid=1921116)\u001b[0m loss: 0.001\u001b[32m [repeated 20x across cluster]\u001b[0m\n"
     ]
    },
    {
     "name": "stderr",
     "output_type": "stream",
     "text": [
      "Val Epoch:4: 0it [00:00, ?it/s]\u001b[32m [repeated 2x across cluster]\u001b[0m\n",
      "Val Epoch:89: 47it [00:01, 26.61it/s]\u001b[32m [repeated 19x across cluster]\u001b[0m\n"
     ]
    },
    {
     "name": "stdout",
     "output_type": "stream",
     "text": [
      "\u001b[36m(tune_with_parameters pid=1830126)\u001b[0m loss: 0.000\u001b[32m [repeated 29x across cluster]\u001b[0m\n",
      "\u001b[36m(tune_with_parameters pid=1830126)\u001b[0m loss: 0.000\u001b[32m [repeated 20x across cluster]\u001b[0m\n"
     ]
    },
    {
     "name": "stderr",
     "output_type": "stream",
     "text": [
      "Val Epoch:5: 0it [00:00, ?it/s]\u001b[32m [repeated 2x across cluster]\u001b[0m\n",
      "Val Epoch:90: 47it [00:01, 25.77it/s]\u001b[32m [repeated 19x across cluster]\u001b[0m\n",
      "Val Epoch:5: 20it [00:00, 48.87it/s]16)\u001b[0m \n"
     ]
    },
    {
     "name": "stdout",
     "output_type": "stream",
     "text": [
      "\u001b[36m(tune_with_parameters pid=1830126)\u001b[0m loss: 0.000\u001b[32m [repeated 16x across cluster]\u001b[0m\n"
     ]
    },
    {
     "name": "stderr",
     "output_type": "stream",
     "text": [
      "Val Epoch:6: 0it [00:00, ?it/s]\u001b[32m [repeated 2x across cluster]\u001b[0m\n",
      "Val Epoch:91: 47it [00:01, 26.54it/s]\u001b[32m [repeated 16x across cluster]\u001b[0m\n"
     ]
    },
    {
     "name": "stdout",
     "output_type": "stream",
     "text": [
      "\u001b[36m(tune_with_parameters pid=1921116)\u001b[0m loss: 0.001\u001b[32m [repeated 25x across cluster]\u001b[0m\n"
     ]
    },
    {
     "name": "stderr",
     "output_type": "stream",
     "text": [
      "Val Epoch:7: 0it [00:00, ?it/s]\u001b[32m [repeated 2x across cluster]\u001b[0m\n",
      "Val Epoch:92: 47it [00:01, 30.20it/s]\u001b[32m [repeated 19x across cluster]\u001b[0m\n"
     ]
    },
    {
     "name": "stdout",
     "output_type": "stream",
     "text": [
      "\u001b[36m(tune_with_parameters pid=1921116)\u001b[0m loss: 0.000\u001b[32m [repeated 30x across cluster]\u001b[0m\n"
     ]
    },
    {
     "name": "stderr",
     "output_type": "stream",
     "text": [
      "Val Epoch:8: 0it [00:00, ?it/s]\u001b[32m [repeated 2x across cluster]\u001b[0m\n",
      "Val Epoch:93: 47it [00:01, 27.98it/s]\u001b[32m [repeated 18x across cluster]\u001b[0m\n"
     ]
    },
    {
     "name": "stdout",
     "output_type": "stream",
     "text": [
      "\u001b[36m(tune_with_parameters pid=1921116)\u001b[0m loss: 0.000\u001b[32m [repeated 30x across cluster]\u001b[0m\n"
     ]
    },
    {
     "name": "stderr",
     "output_type": "stream",
     "text": [
      "Val Epoch:9: 0it [00:00, ?it/s]\u001b[32m [repeated 2x across cluster]\u001b[0m\n",
      "Val Epoch:94: 47it [00:01, 26.32it/s]\u001b[32m [repeated 18x across cluster]\u001b[0m\n"
     ]
    },
    {
     "name": "stdout",
     "output_type": "stream",
     "text": [
      "\u001b[36m(tune_with_parameters pid=1921116)\u001b[0m loss: 0.001\u001b[32m [repeated 30x across cluster]\u001b[0m\n"
     ]
    },
    {
     "name": "stderr",
     "output_type": "stream",
     "text": [
      "Val Epoch:10: 0it [00:00, ?it/s]\u001b[32m [repeated 2x across cluster]\u001b[0m\n",
      "Val Epoch:95: 47it [00:01, 24.84it/s]\u001b[32m [repeated 20x across cluster]\u001b[0m\n"
     ]
    },
    {
     "name": "stdout",
     "output_type": "stream",
     "text": [
      "\u001b[36m(tune_with_parameters pid=1830126)\u001b[0m loss: 0.000\u001b[32m [repeated 29x across cluster]\u001b[0m\n"
     ]
    },
    {
     "name": "stderr",
     "output_type": "stream",
     "text": [
      "Val Epoch:96: 47it [00:01, 28.19it/s]6)\u001b[0m \n",
      "Val Epoch:11: 0it [00:00, ?it/s]\u001b[32m [repeated 2x across cluster]\u001b[0m\n",
      "Val Epoch:96: 38it [00:01, 44.32it/s]\u001b[32m [repeated 18x across cluster]\u001b[0m\n"
     ]
    },
    {
     "name": "stdout",
     "output_type": "stream",
     "text": [
      "\u001b[36m(tune_with_parameters pid=1921116)\u001b[0m loss: 0.001\u001b[32m [repeated 16x across cluster]\u001b[0m\n"
     ]
    },
    {
     "name": "stderr",
     "output_type": "stream",
     "text": [
      "Val Epoch:11: 9it [00:00, 44.67it/s]16)\u001b[0m \n",
      "Val Epoch:12: 0it [00:00, ?it/s]921116)\u001b[0m \n",
      "Val Epoch:12: 10it [00:00, 36.77it/s]\u001b[32m [repeated 8x across cluster]\u001b[0m\n"
     ]
    },
    {
     "name": "stdout",
     "output_type": "stream",
     "text": [
      "\u001b[36m(tune_with_parameters pid=1921116)\u001b[0m loss: 0.000\u001b[32m [repeated 17x across cluster]\u001b[0m\n"
     ]
    },
    {
     "name": "stderr",
     "output_type": "stream",
     "text": [
      "\u001b[36m(tune_with_parameters pid=1942148)\u001b[0m /users/k23058970/miniforge3/envs/Training/lib/python3.10/site-packages/torch/nn/modules/lazy.py:181: UserWarning: Lazy modules are a new feature under heavy development so changes to the API or functionality can happen at any moment.\n",
      "\u001b[36m(tune_with_parameters pid=1942148)\u001b[0m   warnings.warn('Lazy modules are a new feature under heavy development '\n",
      "Val Epoch:13: 0it [00:00, ?it/s]921116)\u001b[0m \n",
      "Val Epoch:12: 47it [00:01, 42.65it/s]\u001b[32m [repeated 6x across cluster]\u001b[0m\n"
     ]
    },
    {
     "name": "stdout",
     "output_type": "stream",
     "text": [
      "\u001b[36m(tune_with_parameters pid=1921116)\u001b[0m loss: 0.000\u001b[32m [repeated 13x across cluster]\u001b[0m\n"
     ]
    },
    {
     "name": "stderr",
     "output_type": "stream",
     "text": [
      "2024-08-19 13:36:53,639\tERROR tune_controller.py:1331 -- Trial task failed for trial tune_with_parameters_21b89_00005\n",
      "Traceback (most recent call last):\n",
      "  File \"/users/k23058970/miniforge3/envs/Training/lib/python3.10/site-packages/ray/air/execution/_internal/event_manager.py\", line 110, in resolve_future\n",
      "    result = ray.get(future)\n",
      "  File \"/users/k23058970/miniforge3/envs/Training/lib/python3.10/site-packages/ray/_private/auto_init_hook.py\", line 21, in auto_init_wrapper\n",
      "    return fn(*args, **kwargs)\n",
      "  File \"/users/k23058970/miniforge3/envs/Training/lib/python3.10/site-packages/ray/_private/client_mode_hook.py\", line 103, in wrapper\n",
      "    return func(*args, **kwargs)\n",
      "  File \"/users/k23058970/miniforge3/envs/Training/lib/python3.10/site-packages/ray/_private/worker.py\", line 2613, in get\n",
      "    values, debugger_breakpoint = worker.get_objects(object_refs, timeout=timeout)\n",
      "  File \"/users/k23058970/miniforge3/envs/Training/lib/python3.10/site-packages/ray/_private/worker.py\", line 861, in get_objects\n",
      "    raise value.as_instanceof_cause()\n",
      "ray.exceptions.RayTaskError(RuntimeError): \u001b[36mray::ImplicitFunc.train()\u001b[39m (pid=1942148, ip=10.211.4.4, actor_id=6fc9a7967f469cc049e2959301000000, repr=tune_with_parameters)\n",
      "  File \"/users/k23058970/miniforge3/envs/Training/lib/python3.10/site-packages/ray/tune/trainable/trainable.py\", line 331, in train\n",
      "    raise skipped from exception_cause(skipped)\n",
      "  File \"/users/k23058970/miniforge3/envs/Training/lib/python3.10/site-packages/ray/air/_internal/util.py\", line 98, in run\n",
      "    self._ret = self._target(*self._args, **self._kwargs)\n",
      "  File \"/users/k23058970/miniforge3/envs/Training/lib/python3.10/site-packages/ray/tune/trainable/function_trainable.py\", line 45, in <lambda>\n",
      "    training_func=lambda: self._trainable_func(self.config),\n",
      "  File \"/users/k23058970/miniforge3/envs/Training/lib/python3.10/site-packages/ray/tune/trainable/function_trainable.py\", line 248, in _trainable_func\n",
      "    output = fn()\n",
      "  File \"/users/k23058970/miniforge3/envs/Training/lib/python3.10/site-packages/ray/tune/trainable/util.py\", line 130, in inner\n",
      "    return trainable(config, **fn_kwargs)\n",
      "  File \"/scratch/users/k23058970/Model training/training_insilico_conv.py\", line 200, in train_spectra\n",
      "    outputs = model(inputs)\n",
      "  File \"/users/k23058970/miniforge3/envs/Training/lib/python3.10/site-packages/torch/nn/modules/module.py\", line 1532, in _wrapped_call_impl\n",
      "    return self._call_impl(*args, **kwargs)\n",
      "  File \"/users/k23058970/miniforge3/envs/Training/lib/python3.10/site-packages/torch/nn/modules/module.py\", line 1541, in _call_impl\n",
      "    return forward_call(*args, **kwargs)\n",
      "  File \"/scratch/users/k23058970/Model training/insilico_conv.py\", line 47, in forward\n",
      "    x = self.conv4(x)\n",
      "  File \"/users/k23058970/miniforge3/envs/Training/lib/python3.10/site-packages/torch/nn/modules/module.py\", line 1532, in _wrapped_call_impl\n",
      "    return self._call_impl(*args, **kwargs)\n",
      "  File \"/users/k23058970/miniforge3/envs/Training/lib/python3.10/site-packages/torch/nn/modules/module.py\", line 1541, in _call_impl\n",
      "    return forward_call(*args, **kwargs)\n",
      "  File \"/users/k23058970/miniforge3/envs/Training/lib/python3.10/site-packages/torch/nn/modules/conv.py\", line 310, in forward\n",
      "    return self._conv_forward(input, self.weight, self.bias)\n",
      "  File \"/users/k23058970/miniforge3/envs/Training/lib/python3.10/site-packages/torch/nn/modules/conv.py\", line 306, in _conv_forward\n",
      "    return F.conv1d(input, weight, bias, self.stride,\n",
      "RuntimeError: Calculated padded input size per channel: (3). Kernel size: (5). Kernel size can't be greater than actual input size\n",
      "Val Epoch:14: 0it [00:00, ?it/s]921116)\u001b[0m \n",
      "Val Epoch:13: 47it [00:00, 53.41it/s]\u001b[32m [repeated 8x across cluster]\u001b[0m\n"
     ]
    },
    {
     "name": "stdout",
     "output_type": "stream",
     "text": [
      "\u001b[36m(tune_with_parameters pid=1921116)\u001b[0m loss: 0.000\u001b[32m [repeated 15x across cluster]\u001b[0m\n"
     ]
    },
    {
     "name": "stderr",
     "output_type": "stream",
     "text": [
      "Val Epoch:15: 0it [00:00, ?it/s]921116)\u001b[0m \n",
      "Val Epoch:15: 1it [00:00,  2.25it/s]\u001b[32m [repeated 9x across cluster]\u001b[0m\n"
     ]
    },
    {
     "name": "stdout",
     "output_type": "stream",
     "text": [
      "\u001b[36m(tune_with_parameters pid=1921116)\u001b[0m loss: 0.001\u001b[32m [repeated 16x across cluster]\u001b[0m\n"
     ]
    },
    {
     "name": "stderr",
     "output_type": "stream",
     "text": [
      "Val Epoch:16: 0it [00:00, ?it/s]921116)\u001b[0m \n",
      "Val Epoch:15: 47it [00:01, 41.80it/s]\u001b[32m [repeated 6x across cluster]\u001b[0m\n",
      "\u001b[36m(tune_with_parameters pid=1945681)\u001b[0m /users/k23058970/miniforge3/envs/Training/lib/python3.10/site-packages/torch/nn/modules/lazy.py:181: UserWarning: Lazy modules are a new feature under heavy development so changes to the API or functionality can happen at any moment.\n",
      "\u001b[36m(tune_with_parameters pid=1945681)\u001b[0m   warnings.warn('Lazy modules are a new feature under heavy development '\n"
     ]
    },
    {
     "name": "stdout",
     "output_type": "stream",
     "text": [
      "\u001b[36m(tune_with_parameters pid=1921116)\u001b[0m loss: 0.000\u001b[32m [repeated 14x across cluster]\u001b[0m\n"
     ]
    },
    {
     "name": "stderr",
     "output_type": "stream",
     "text": [
      "Val Epoch:17: 0it [00:00, ?it/s]921116)\u001b[0m \n",
      "Val Epoch:16: 47it [00:01, 45.67it/s]\u001b[32m [repeated 8x across cluster]\u001b[0m\n"
     ]
    },
    {
     "name": "stdout",
     "output_type": "stream",
     "text": [
      "\u001b[36m(tune_with_parameters pid=1921116)\u001b[0m loss: 0.001\u001b[32m [repeated 22x across cluster]\u001b[0m\n",
      "\u001b[36m(tune_with_parameters pid=1945681)\u001b[0m /tmp/tmpa2o8m1xy/checkpoint.pt\n"
     ]
    },
    {
     "name": "stderr",
     "output_type": "stream",
     "text": [
      "\u001b[36m(tune_with_parameters pid=1945681)\u001b[0m Checkpoint successfully created at: Checkpoint(filesystem=local, path=/scratch/users/k23058970/Model training/results/Single Peak Conv Null/tune_with_parameters_2024-08-19_13-25-03/tune_with_parameters_21b89_00006_6_dp=0.2500,k1=3,k2=7,k3=1,k4=5,lr=0.0754_2024-08-19_13-25-34/checkpoint_000000)\n",
      "Val Epoch:18: 0it [00:00, ?it/s]\u001b[32m [repeated 2x across cluster]\u001b[0m\n",
      "Val Epoch:0: 47it [00:01, 44.57it/s]\u001b[32m [repeated 18x across cluster]\u001b[0m\n"
     ]
    },
    {
     "name": "stdout",
     "output_type": "stream",
     "text": [
      "\u001b[36m(tune_with_parameters pid=1945681)\u001b[0m loss: 0.013\u001b[32m [repeated 24x across cluster]\u001b[0m\n"
     ]
    },
    {
     "name": "stderr",
     "output_type": "stream",
     "text": [
      "Val Epoch:1: 0it [00:00, ?it/s]1945681)\u001b[0m \n",
      "Val Epoch:18: 47it [00:02, 21.53it/s]\u001b[32m [repeated 9x across cluster]\u001b[0m\n"
     ]
    },
    {
     "name": "stdout",
     "output_type": "stream",
     "text": [
      "\u001b[36m(tune_with_parameters pid=1921116)\u001b[0m loss: 0.000\u001b[32m [repeated 27x across cluster]\u001b[0m\n"
     ]
    },
    {
     "name": "stderr",
     "output_type": "stream",
     "text": [
      "Val Epoch:19: 0it [00:00, ?it/s]921116)\u001b[0m \n"
     ]
    },
    {
     "name": "stdout",
     "output_type": "stream",
     "text": [
      "\u001b[36m(tune_with_parameters pid=1921116)\u001b[0m loss: 0.001\u001b[32m [repeated 26x across cluster]\u001b[0m\n"
     ]
    },
    {
     "name": "stderr",
     "output_type": "stream",
     "text": [
      "Val Epoch:19: 47it [00:01, 26.13it/s]\u001b[32m [repeated 21x across cluster]\u001b[0m\n",
      "Val Epoch:2: 0it [00:00, ?it/s]1945681)\u001b[0m \n",
      "Val Epoch:20: 0it [00:00, ?it/s]921116)\u001b[0m \n"
     ]
    },
    {
     "name": "stdout",
     "output_type": "stream",
     "text": [
      "\u001b[36m(tune_with_parameters pid=1945681)\u001b[0m loss: 0.005\u001b[32m [repeated 13x across cluster]\u001b[0m\n"
     ]
    },
    {
     "name": "stderr",
     "output_type": "stream",
     "text": [
      "Val Epoch:20: 47it [00:01, 26.45it/s]\u001b[32m [repeated 19x across cluster]\u001b[0m\n",
      "Val Epoch:3: 0it [00:00, ?it/s]1945681)\u001b[0m \n"
     ]
    },
    {
     "name": "stdout",
     "output_type": "stream",
     "text": [
      "\u001b[36m(tune_with_parameters pid=1945681)\u001b[0m /tmp/tmpjz11nebj/checkpoint.pt\n"
     ]
    },
    {
     "name": "stderr",
     "output_type": "stream",
     "text": [
      "Val Epoch:3: 47it [00:01, 33.36it/s]81)\u001b[0m \n",
      "\u001b[36m(tune_with_parameters pid=1945681)\u001b[0m Checkpoint successfully created at: Checkpoint(filesystem=local, path=/scratch/users/k23058970/Model training/results/Single Peak Conv Null/tune_with_parameters_2024-08-19_13-25-03/tune_with_parameters_21b89_00006_6_dp=0.2500,k1=3,k2=7,k3=1,k4=5,lr=0.0754_2024-08-19_13-25-34/checkpoint_000001)\n",
      "Val Epoch:21: 0it [00:00, ?it/s]921116)\u001b[0m \n"
     ]
    },
    {
     "name": "stdout",
     "output_type": "stream",
     "text": [
      "\u001b[36m(tune_with_parameters pid=1945681)\u001b[0m loss: 0.006\u001b[32m [repeated 24x across cluster]\u001b[0m\n"
     ]
    },
    {
     "name": "stderr",
     "output_type": "stream",
     "text": [
      "Val Epoch:21: 47it [00:01, 25.15it/s]\u001b[32m [repeated 20x across cluster]\u001b[0m\n",
      "Val Epoch:4: 0it [00:00, ?it/s]1945681)\u001b[0m \n",
      "Val Epoch:22: 0it [00:00, ?it/s]921116)\u001b[0m \n"
     ]
    },
    {
     "name": "stdout",
     "output_type": "stream",
     "text": [
      "\u001b[36m(tune_with_parameters pid=1945681)\u001b[0m loss: 0.000\u001b[32m [repeated 29x across cluster]\u001b[0m\n"
     ]
    },
    {
     "name": "stderr",
     "output_type": "stream",
     "text": [
      "Val Epoch:22: 47it [00:01, 25.88it/s]\u001b[32m [repeated 21x across cluster]\u001b[0m\n",
      "Val Epoch:5: 0it [00:00, ?it/s]1945681)\u001b[0m \n"
     ]
    },
    {
     "name": "stdout",
     "output_type": "stream",
     "text": [
      "\u001b[36m(tune_with_parameters pid=1921116)\u001b[0m loss: 0.001\u001b[32m [repeated 28x across cluster]\u001b[0m\n"
     ]
    },
    {
     "name": "stderr",
     "output_type": "stream",
     "text": [
      "Val Epoch:23: 0it [00:00, ?it/s]921116)\u001b[0m \n",
      "\u001b[36m(tune_with_parameters pid=1945681)\u001b[0m Checkpoint successfully created at: Checkpoint(filesystem=local, path=/scratch/users/k23058970/Model training/results/Single Peak Conv Null/tune_with_parameters_2024-08-19_13-25-03/tune_with_parameters_21b89_00006_6_dp=0.2500,k1=3,k2=7,k3=1,k4=5,lr=0.0754_2024-08-19_13-25-34/checkpoint_000002)\n"
     ]
    },
    {
     "name": "stdout",
     "output_type": "stream",
     "text": [
      "\u001b[36m(tune_with_parameters pid=1945681)\u001b[0m /tmp/tmp4gnbg_9d/checkpoint.pt\n",
      "\u001b[36m(tune_with_parameters pid=1921116)\u001b[0m loss: 0.000\u001b[32m [repeated 25x across cluster]\u001b[0m\n"
     ]
    },
    {
     "name": "stderr",
     "output_type": "stream",
     "text": [
      "Val Epoch:23: 47it [00:01, 32.67it/s]\u001b[32m [repeated 17x across cluster]\u001b[0m\n",
      "Val Epoch:6: 0it [00:00, ?it/s]1945681)\u001b[0m \n",
      "Val Epoch:24: 0it [00:00, ?it/s]921116)\u001b[0m \n"
     ]
    },
    {
     "name": "stdout",
     "output_type": "stream",
     "text": [
      "\u001b[36m(tune_with_parameters pid=1921116)\u001b[0m loss: 0.000\u001b[32m [repeated 16x across cluster]\u001b[0m\n"
     ]
    },
    {
     "name": "stderr",
     "output_type": "stream",
     "text": [
      "Val Epoch:24: 47it [00:01, 34.23it/s]\u001b[32m [repeated 18x across cluster]\u001b[0m\n",
      "Val Epoch:7: 0it [00:00, ?it/s]1945681)\u001b[0m \n",
      "Val Epoch:25: 0it [00:00, ?it/s]921116)\u001b[0m \n"
     ]
    },
    {
     "name": "stdout",
     "output_type": "stream",
     "text": [
      "\u001b[36m(tune_with_parameters pid=1945681)\u001b[0m loss: 0.002\u001b[32m [repeated 22x across cluster]\u001b[0m\n"
     ]
    },
    {
     "name": "stderr",
     "output_type": "stream",
     "text": [
      "Val Epoch:25: 47it [00:02, 22.64it/s]\u001b[32m [repeated 19x across cluster]\u001b[0m\n",
      "Val Epoch:8: 0it [00:00, ?it/s]1945681)\u001b[0m \n",
      "Val Epoch:26: 0it [00:00, ?it/s]921116)\u001b[0m \n"
     ]
    },
    {
     "name": "stdout",
     "output_type": "stream",
     "text": [
      "\u001b[36m(tune_with_parameters pid=1945681)\u001b[0m loss: 0.000\u001b[32m [repeated 29x across cluster]\u001b[0m\n"
     ]
    },
    {
     "name": "stderr",
     "output_type": "stream",
     "text": [
      "Val Epoch:26: 47it [00:01, 29.18it/s]\u001b[32m [repeated 19x across cluster]\u001b[0m\n",
      "Val Epoch:9: 0it [00:00, ?it/s]1945681)\u001b[0m \n"
     ]
    },
    {
     "name": "stdout",
     "output_type": "stream",
     "text": [
      "\u001b[36m(tune_with_parameters pid=1921116)\u001b[0m loss: 0.000\u001b[32m [repeated 27x across cluster]\u001b[0m\n"
     ]
    },
    {
     "name": "stderr",
     "output_type": "stream",
     "text": [
      "Val Epoch:9: 47it [00:01, 35.79it/s]81)\u001b[0m \n",
      "Val Epoch:27: 0it [00:00, ?it/s]921116)\u001b[0m \n",
      "Val Epoch:27: 40it [00:01, 43.54it/s]\u001b[32m [repeated 16x across cluster]\u001b[0m\n",
      "Val Epoch:27: 47it [00:01, 32.81it/s]6)\u001b[0m \n"
     ]
    },
    {
     "name": "stdout",
     "output_type": "stream",
     "text": [
      "\u001b[36m(tune_with_parameters pid=1921116)\u001b[0m loss: 0.000\u001b[32m [repeated 26x across cluster]\u001b[0m\n"
     ]
    },
    {
     "name": "stderr",
     "output_type": "stream",
     "text": [
      "Val Epoch:10: 0it [00:00, ?it/s]945681)\u001b[0m \n",
      "Val Epoch:28: 0it [00:00, ?it/s]921116)\u001b[0m \n"
     ]
    },
    {
     "name": "stdout",
     "output_type": "stream",
     "text": [
      "\u001b[36m(tune_with_parameters pid=1945681)\u001b[0m loss: 0.004\u001b[32m [repeated 18x across cluster]\u001b[0m\n"
     ]
    },
    {
     "name": "stderr",
     "output_type": "stream",
     "text": [
      "Val Epoch:28: 47it [00:01, 35.83it/s]\u001b[32m [repeated 20x across cluster]\u001b[0m\n",
      "Val Epoch:11: 0it [00:00, ?it/s]945681)\u001b[0m \n",
      "Val Epoch:29: 0it [00:00, ?it/s]921116)\u001b[0m \n"
     ]
    },
    {
     "name": "stdout",
     "output_type": "stream",
     "text": [
      "\u001b[36m(tune_with_parameters pid=1921116)\u001b[0m loss: 0.000\u001b[32m [repeated 19x across cluster]\u001b[0m\n"
     ]
    },
    {
     "name": "stderr",
     "output_type": "stream",
     "text": [
      "Val Epoch:30: 0it [00:00, ?it/s]921116)\u001b[0m \n",
      "Val Epoch:29: 47it [00:01, 26.41it/s]\u001b[32m [repeated 20x across cluster]\u001b[0m\n"
     ]
    },
    {
     "name": "stdout",
     "output_type": "stream",
     "text": [
      "\u001b[36m(tune_with_parameters pid=1921116)\u001b[0m loss: 0.000\u001b[32m [repeated 17x across cluster]\u001b[0m\n"
     ]
    },
    {
     "name": "stderr",
     "output_type": "stream",
     "text": [
      "Val Epoch:31: 0it [00:00, ?it/s]921116)\u001b[0m \n",
      "Val Epoch:30: 47it [00:01, 39.71it/s]\u001b[32m [repeated 9x across cluster]\u001b[0m\n",
      "\u001b[36m(tune_with_parameters pid=1968260)\u001b[0m /users/k23058970/miniforge3/envs/Training/lib/python3.10/site-packages/torch/nn/modules/lazy.py:181: UserWarning: Lazy modules are a new feature under heavy development so changes to the API or functionality can happen at any moment.\n",
      "\u001b[36m(tune_with_parameters pid=1968260)\u001b[0m   warnings.warn('Lazy modules are a new feature under heavy development '\n"
     ]
    },
    {
     "name": "stdout",
     "output_type": "stream",
     "text": [
      "\u001b[36m(tune_with_parameters pid=1921116)\u001b[0m loss: 0.000\u001b[32m [repeated 13x across cluster]\u001b[0m\n"
     ]
    },
    {
     "name": "stderr",
     "output_type": "stream",
     "text": [
      "Val Epoch:32: 0it [00:00, ?it/s]921116)\u001b[0m \n",
      "Val Epoch:31: 47it [00:01, 25.19it/s]\u001b[32m [repeated 11x across cluster]\u001b[0m\n"
     ]
    },
    {
     "name": "stdout",
     "output_type": "stream",
     "text": [
      "\u001b[36m(tune_with_parameters pid=1921116)\u001b[0m loss: 0.000\u001b[32m [repeated 20x across cluster]\u001b[0m\n"
     ]
    },
    {
     "name": "stderr",
     "output_type": "stream",
     "text": [
      "Val Epoch:0: 0it [00:00, ?it/s]1968260)\u001b[0m \n",
      "Val Epoch:0: 15it [00:00, 21.37it/s]\u001b[32m [repeated 12x across cluster]\u001b[0m\n"
     ]
    },
    {
     "name": "stdout",
     "output_type": "stream",
     "text": [
      "\u001b[36m(tune_with_parameters pid=1968260)\u001b[0m /tmp/tmpba35l4as/checkpoint.pt\n"
     ]
    },
    {
     "name": "stderr",
     "output_type": "stream",
     "text": [
      "\u001b[36m(tune_with_parameters pid=1968260)\u001b[0m Checkpoint successfully created at: Checkpoint(filesystem=local, path=/scratch/users/k23058970/Model training/results/Single Peak Conv Null/tune_with_parameters_2024-08-19_13-25-03/tune_with_parameters_21b89_00007_7_dp=0.1000,k1=5,k2=1,k3=3,k4=3,lr=0.0375_2024-08-19_13-25-34/checkpoint_000000)\n"
     ]
    },
    {
     "name": "stdout",
     "output_type": "stream",
     "text": [
      "\u001b[36m(tune_with_parameters pid=1968260)\u001b[0m loss: 0.001\u001b[32m [repeated 25x across cluster]\u001b[0m\n"
     ]
    },
    {
     "name": "stderr",
     "output_type": "stream",
     "text": [
      "Val Epoch:1: 0it [00:00, ?it/s]\u001b[32m [repeated 2x across cluster]\u001b[0m\n",
      "Val Epoch:33: 47it [00:01, 26.07it/s]\u001b[32m [repeated 14x across cluster]\u001b[0m\n"
     ]
    },
    {
     "name": "stdout",
     "output_type": "stream",
     "text": [
      "\u001b[36m(tune_with_parameters pid=1968260)\u001b[0m /tmp/tmpp3966jv_/checkpoint.pt\n",
      "\u001b[36m(tune_with_parameters pid=1921116)\u001b[0m loss: 0.000\u001b[32m [repeated 29x across cluster]\u001b[0m\n"
     ]
    },
    {
     "name": "stderr",
     "output_type": "stream",
     "text": [
      "Val Epoch:1: 47it [00:01, 26.18it/s]60)\u001b[0m \n",
      "\u001b[36m(tune_with_parameters pid=1968260)\u001b[0m Checkpoint successfully created at: Checkpoint(filesystem=local, path=/scratch/users/k23058970/Model training/results/Single Peak Conv Null/tune_with_parameters_2024-08-19_13-25-03/tune_with_parameters_21b89_00007_7_dp=0.1000,k1=5,k2=1,k3=3,k4=3,lr=0.0375_2024-08-19_13-25-34/checkpoint_000001)\n",
      "Val Epoch:2: 0it [00:00, ?it/s]\u001b[32m [repeated 2x across cluster]\u001b[0m\n",
      "Val Epoch:34: 47it [00:01, 30.68it/s]\u001b[32m [repeated 17x across cluster]\u001b[0m\n"
     ]
    },
    {
     "name": "stdout",
     "output_type": "stream",
     "text": [
      "\u001b[36m(tune_with_parameters pid=1921116)\u001b[0m loss: 0.000\u001b[32m [repeated 29x across cluster]\u001b[0m\n",
      "\u001b[36m(tune_with_parameters pid=1921116)\u001b[0m loss: 0.000\u001b[32m [repeated 19x across cluster]\u001b[0m\n"
     ]
    },
    {
     "name": "stderr",
     "output_type": "stream",
     "text": [
      "Val Epoch:3: 0it [00:00, ?it/s]\u001b[32m [repeated 2x across cluster]\u001b[0m\n",
      "Val Epoch:35: 47it [00:02, 22.01it/s]\u001b[32m [repeated 18x across cluster]\u001b[0m\n"
     ]
    },
    {
     "name": "stdout",
     "output_type": "stream",
     "text": [
      "\u001b[36m(tune_with_parameters pid=1968260)\u001b[0m loss: 0.000\u001b[32m [repeated 18x across cluster]\u001b[0m\n"
     ]
    },
    {
     "name": "stderr",
     "output_type": "stream",
     "text": [
      "Val Epoch:4: 0it [00:00, ?it/s]\u001b[32m [repeated 2x across cluster]\u001b[0m\n",
      "Val Epoch:36: 47it [00:01, 27.25it/s]\u001b[32m [repeated 19x across cluster]\u001b[0m\n"
     ]
    },
    {
     "name": "stdout",
     "output_type": "stream",
     "text": [
      "\u001b[36m(tune_with_parameters pid=1968260)\u001b[0m loss: 0.000\u001b[32m [repeated 25x across cluster]\u001b[0m\n"
     ]
    },
    {
     "name": "stderr",
     "output_type": "stream",
     "text": [
      "Val Epoch:5: 0it [00:00, ?it/s]\u001b[32m [repeated 2x across cluster]\u001b[0m\n",
      "Val Epoch:37: 47it [00:01, 30.56it/s]\u001b[32m [repeated 20x across cluster]\u001b[0m\n"
     ]
    },
    {
     "name": "stdout",
     "output_type": "stream",
     "text": [
      "\u001b[36m(tune_with_parameters pid=1968260)\u001b[0m loss: 0.000\u001b[32m [repeated 30x across cluster]\u001b[0m\n"
     ]
    },
    {
     "name": "stderr",
     "output_type": "stream",
     "text": [
      "Val Epoch:6: 0it [00:00, ?it/s]\u001b[32m [repeated 2x across cluster]\u001b[0m\n",
      "Val Epoch:38: 47it [00:01, 25.60it/s]\u001b[32m [repeated 18x across cluster]\u001b[0m\n"
     ]
    },
    {
     "name": "stdout",
     "output_type": "stream",
     "text": [
      "\u001b[36m(tune_with_parameters pid=1968260)\u001b[0m loss: 0.000\u001b[32m [repeated 30x across cluster]\u001b[0m\n"
     ]
    },
    {
     "name": "stderr",
     "output_type": "stream",
     "text": [
      "Val Epoch:7: 0it [00:00, ?it/s]\u001b[32m [repeated 2x across cluster]\u001b[0m\n",
      "Val Epoch:39: 47it [00:02, 20.41it/s]\u001b[32m [repeated 19x across cluster]\u001b[0m\n"
     ]
    },
    {
     "name": "stdout",
     "output_type": "stream",
     "text": [
      "\u001b[36m(tune_with_parameters pid=1921116)\u001b[0m loss: 0.000\u001b[32m [repeated 29x across cluster]\u001b[0m\n",
      "\u001b[36m(tune_with_parameters pid=1921116)\u001b[0m loss: 0.000\u001b[32m [repeated 26x across cluster]\u001b[0m\n"
     ]
    },
    {
     "name": "stderr",
     "output_type": "stream",
     "text": [
      "Val Epoch:8: 0it [00:00, ?it/s]\u001b[32m [repeated 2x across cluster]\u001b[0m\n",
      "Val Epoch:40: 47it [00:02, 23.23it/s]\u001b[32m [repeated 17x across cluster]\u001b[0m\n",
      "Val Epoch:8: 47it [00:01, 34.57it/s]60)\u001b[0m \n"
     ]
    },
    {
     "name": "stdout",
     "output_type": "stream",
     "text": [
      "\u001b[36m(tune_with_parameters pid=1921116)\u001b[0m loss: 0.000\u001b[32m [repeated 15x across cluster]\u001b[0m\n"
     ]
    },
    {
     "name": "stderr",
     "output_type": "stream",
     "text": [
      "Val Epoch:9: 0it [00:00, ?it/s]\u001b[32m [repeated 2x across cluster]\u001b[0m\n",
      "Val Epoch:41: 47it [00:02, 22.09it/s]\u001b[32m [repeated 16x across cluster]\u001b[0m\n"
     ]
    },
    {
     "name": "stdout",
     "output_type": "stream",
     "text": [
      "\u001b[36m(tune_with_parameters pid=1968260)\u001b[0m loss: 0.000\u001b[32m [repeated 21x across cluster]\u001b[0m\n"
     ]
    },
    {
     "name": "stderr",
     "output_type": "stream",
     "text": [
      "Val Epoch:10: 0it [00:00, ?it/s]\u001b[32m [repeated 2x across cluster]\u001b[0m\n",
      "Val Epoch:42: 47it [00:02, 22.35it/s]\u001b[32m [repeated 17x across cluster]\u001b[0m\n"
     ]
    },
    {
     "name": "stdout",
     "output_type": "stream",
     "text": [
      "\u001b[36m(tune_with_parameters pid=1968260)\u001b[0m loss: 0.000\u001b[32m [repeated 29x across cluster]\u001b[0m\n"
     ]
    },
    {
     "name": "stderr",
     "output_type": "stream",
     "text": [
      "Val Epoch:11: 0it [00:00, ?it/s]\u001b[32m [repeated 2x across cluster]\u001b[0m\n",
      "Val Epoch:43: 47it [00:01, 24.98it/s]\u001b[32m [repeated 18x across cluster]\u001b[0m\n"
     ]
    },
    {
     "name": "stdout",
     "output_type": "stream",
     "text": [
      "\u001b[36m(tune_with_parameters pid=1968260)\u001b[0m loss: 0.000\u001b[32m [repeated 30x across cluster]\u001b[0m\n"
     ]
    },
    {
     "name": "stderr",
     "output_type": "stream",
     "text": [
      "Val Epoch:12: 0it [00:00, ?it/s]\u001b[32m [repeated 2x across cluster]\u001b[0m\n",
      "Val Epoch:44: 47it [00:01, 26.71it/s]\u001b[32m [repeated 18x across cluster]\u001b[0m\n",
      "Val Epoch:12: 47it [00:01, 23.69it/s]0)\u001b[0m \n"
     ]
    },
    {
     "name": "stdout",
     "output_type": "stream",
     "text": [
      "\u001b[36m(tune_with_parameters pid=1968260)\u001b[0m loss: 0.000\u001b[32m [repeated 30x across cluster]\u001b[0m\n"
     ]
    },
    {
     "name": "stderr",
     "output_type": "stream",
     "text": [
      "Val Epoch:13: 0it [00:00, ?it/s]\u001b[32m [repeated 2x across cluster]\u001b[0m\n",
      "Val Epoch:45: 47it [00:01, 30.79it/s]\u001b[32m [repeated 16x across cluster]\u001b[0m\n"
     ]
    },
    {
     "name": "stdout",
     "output_type": "stream",
     "text": [
      "\u001b[36m(tune_with_parameters pid=1921116)\u001b[0m loss: 0.000\u001b[32m [repeated 29x across cluster]\u001b[0m\n"
     ]
    },
    {
     "name": "stderr",
     "output_type": "stream",
     "text": [
      "Val Epoch:13: 47it [00:01, 27.48it/s]0)\u001b[0m \n"
     ]
    },
    {
     "name": "stdout",
     "output_type": "stream",
     "text": [
      "\u001b[36m(tune_with_parameters pid=1921116)\u001b[0m loss: 0.000\u001b[32m [repeated 23x across cluster]\u001b[0m\n"
     ]
    },
    {
     "name": "stderr",
     "output_type": "stream",
     "text": [
      "Val Epoch:14: 0it [00:00, ?it/s]\u001b[32m [repeated 2x across cluster]\u001b[0m\n",
      "Val Epoch:46: 39it [00:01, 26.18it/s]\u001b[32m [repeated 13x across cluster]\u001b[0m\n",
      "Val Epoch:46: 47it [00:01, 27.41it/s]6)\u001b[0m \n"
     ]
    },
    {
     "name": "stdout",
     "output_type": "stream",
     "text": [
      "\u001b[36m(tune_with_parameters pid=1968260)\u001b[0m /tmp/tmpnuv8qohq/checkpoint.pt\n"
     ]
    },
    {
     "name": "stderr",
     "output_type": "stream",
     "text": [
      "\u001b[36m(tune_with_parameters pid=1968260)\u001b[0m Checkpoint successfully created at: Checkpoint(filesystem=local, path=/scratch/users/k23058970/Model training/results/Single Peak Conv Null/tune_with_parameters_2024-08-19_13-25-03/tune_with_parameters_21b89_00007_7_dp=0.1000,k1=5,k2=1,k3=3,k4=3,lr=0.0375_2024-08-19_13-25-34/checkpoint_000002)\n"
     ]
    },
    {
     "name": "stdout",
     "output_type": "stream",
     "text": [
      "\u001b[36m(tune_with_parameters pid=1921116)\u001b[0m loss: 0.000\u001b[32m [repeated 19x across cluster]\u001b[0m\n"
     ]
    },
    {
     "name": "stderr",
     "output_type": "stream",
     "text": [
      "Val Epoch:15: 0it [00:00, ?it/s]\u001b[32m [repeated 2x across cluster]\u001b[0m\n",
      "Val Epoch:47: 47it [00:01, 31.52it/s]\u001b[32m [repeated 18x across cluster]\u001b[0m\n",
      "Val Epoch:48: 47it [00:02, 23.17it/s]6)\u001b[0m \n"
     ]
    },
    {
     "name": "stdout",
     "output_type": "stream",
     "text": [
      "\u001b[36m(tune_with_parameters pid=1968260)\u001b[0m loss: 0.000\u001b[32m [repeated 19x across cluster]\u001b[0m\n"
     ]
    },
    {
     "name": "stderr",
     "output_type": "stream",
     "text": [
      "Val Epoch:16: 0it [00:00, ?it/s]\u001b[32m [repeated 2x across cluster]\u001b[0m\n",
      "Val Epoch:15: 47it [00:01, 24.74it/s]\u001b[32m [repeated 20x across cluster]\u001b[0m\n"
     ]
    },
    {
     "name": "stdout",
     "output_type": "stream",
     "text": [
      "\u001b[36m(tune_with_parameters pid=1968260)\u001b[0m loss: 0.000\u001b[32m [repeated 30x across cluster]\u001b[0m\n"
     ]
    },
    {
     "name": "stderr",
     "output_type": "stream",
     "text": [
      "Val Epoch:17: 0it [00:00, ?it/s]\u001b[32m [repeated 2x across cluster]\u001b[0m\n",
      "Val Epoch:49: 47it [00:01, 28.42it/s]\u001b[32m [repeated 19x across cluster]\u001b[0m\n",
      "Val Epoch:50: 47it [00:01, 41.17it/s]6)\u001b[0m \n"
     ]
    },
    {
     "name": "stdout",
     "output_type": "stream",
     "text": [
      "\u001b[36m(tune_with_parameters pid=1921116)\u001b[0m loss: 0.000\u001b[32m [repeated 30x across cluster]\u001b[0m\n"
     ]
    },
    {
     "name": "stderr",
     "output_type": "stream",
     "text": [
      "Val Epoch:18: 0it [00:00, ?it/s]\u001b[32m [repeated 2x across cluster]\u001b[0m\n",
      "Val Epoch:17: 47it [00:01, 32.40it/s]\u001b[32m [repeated 16x across cluster]\u001b[0m\n",
      "Val Epoch:51: 47it [00:02, 23.14it/s]6)\u001b[0m \n"
     ]
    },
    {
     "name": "stdout",
     "output_type": "stream",
     "text": [
      "\u001b[36m(tune_with_parameters pid=1968260)\u001b[0m loss: 0.000\u001b[32m [repeated 30x across cluster]\u001b[0m\n"
     ]
    },
    {
     "name": "stderr",
     "output_type": "stream",
     "text": [
      "Val Epoch:19: 0it [00:00, ?it/s]\u001b[32m [repeated 2x across cluster]\u001b[0m\n",
      "Val Epoch:18: 47it [00:01, 23.75it/s]\u001b[32m [repeated 20x across cluster]\u001b[0m\n",
      "Val Epoch:19: 47it [00:01, 27.66it/s]0)\u001b[0m \n"
     ]
    },
    {
     "name": "stdout",
     "output_type": "stream",
     "text": [
      "\u001b[36m(tune_with_parameters pid=1968260)\u001b[0m loss: 0.000\u001b[32m [repeated 30x across cluster]\u001b[0m\n"
     ]
    },
    {
     "name": "stderr",
     "output_type": "stream",
     "text": [
      "Val Epoch:20: 0it [00:00, ?it/s]\u001b[32m [repeated 2x across cluster]\u001b[0m\n",
      "Val Epoch:52: 47it [00:01, 35.44it/s]\u001b[32m [repeated 17x across cluster]\u001b[0m\n"
     ]
    },
    {
     "name": "stdout",
     "output_type": "stream",
     "text": [
      "\u001b[36m(tune_with_parameters pid=1921116)\u001b[0m loss: 0.000\u001b[32m [repeated 30x across cluster]\u001b[0m\n"
     ]
    },
    {
     "name": "stderr",
     "output_type": "stream",
     "text": [
      "Val Epoch:54: 0it [00:00, ?it/s]\u001b[32m [repeated 2x across cluster]\u001b[0m\n",
      "Val Epoch:20: 47it [00:01, 31.94it/s]\u001b[32m [repeated 18x across cluster]\u001b[0m\n"
     ]
    },
    {
     "name": "stdout",
     "output_type": "stream",
     "text": [
      "\u001b[36m(tune_with_parameters pid=1921116)\u001b[0m loss: 0.000\u001b[32m [repeated 30x across cluster]\u001b[0m\n"
     ]
    },
    {
     "name": "stderr",
     "output_type": "stream",
     "text": [
      "Val Epoch:21: 47it [00:01, 25.94it/s]0)\u001b[0m \n",
      "Val Epoch:55: 0it [00:00, ?it/s]\u001b[32m [repeated 2x across cluster]\u001b[0m\n",
      "Val Epoch:21: 41it [00:01, 26.40it/s]\u001b[32m [repeated 18x across cluster]\u001b[0m\n"
     ]
    },
    {
     "name": "stdout",
     "output_type": "stream",
     "text": [
      "\u001b[36m(tune_with_parameters pid=1921116)\u001b[0m loss: 0.000\u001b[32m [repeated 30x across cluster]\u001b[0m\n"
     ]
    },
    {
     "name": "stderr",
     "output_type": "stream",
     "text": [
      "Val Epoch:22: 47it [00:01, 26.59it/s]0)\u001b[0m \n",
      "Val Epoch:56: 0it [00:00, ?it/s]\u001b[32m [repeated 2x across cluster]\u001b[0m\n",
      "Val Epoch:22: 39it [00:01, 28.66it/s]\u001b[32m [repeated 16x across cluster]\u001b[0m\n"
     ]
    },
    {
     "name": "stdout",
     "output_type": "stream",
     "text": [
      "\u001b[36m(tune_with_parameters pid=1968260)\u001b[0m loss: 0.000\u001b[32m [repeated 30x across cluster]\u001b[0m\n"
     ]
    },
    {
     "name": "stderr",
     "output_type": "stream",
     "text": [
      "Val Epoch:24: 0it [00:00, ?it/s]\u001b[32m [repeated 2x across cluster]\u001b[0m\n",
      "Val Epoch:23: 47it [00:01, 34.01it/s]\u001b[32m [repeated 18x across cluster]\u001b[0m\n",
      "Val Epoch:57: 42it [00:01, 50.58it/s]6)\u001b[0m \n"
     ]
    },
    {
     "name": "stdout",
     "output_type": "stream",
     "text": [
      "\u001b[36m(tune_with_parameters pid=1968260)\u001b[0m loss: 0.000\u001b[32m [repeated 30x across cluster]\u001b[0m\n"
     ]
    },
    {
     "name": "stderr",
     "output_type": "stream",
     "text": [
      "Val Epoch:25: 0it [00:00, ?it/s]\u001b[32m [repeated 2x across cluster]\u001b[0m\n",
      "Val Epoch:57: 47it [00:01, 28.95it/s]\u001b[32m [repeated 17x across cluster]\u001b[0m\n"
     ]
    },
    {
     "name": "stdout",
     "output_type": "stream",
     "text": [
      "\u001b[36m(tune_with_parameters pid=1968260)\u001b[0m loss: 0.000\u001b[32m [repeated 30x across cluster]\u001b[0m\n"
     ]
    },
    {
     "name": "stderr",
     "output_type": "stream",
     "text": [
      "Val Epoch:26: 0it [00:00, ?it/s]\u001b[32m [repeated 2x across cluster]\u001b[0m\n",
      "Val Epoch:58: 47it [00:01, 24.25it/s]\u001b[32m [repeated 18x across cluster]\u001b[0m\n"
     ]
    },
    {
     "name": "stdout",
     "output_type": "stream",
     "text": [
      "\u001b[36m(tune_with_parameters pid=1921116)\u001b[0m loss: 0.000\u001b[32m [repeated 30x across cluster]\u001b[0m\n"
     ]
    },
    {
     "name": "stderr",
     "output_type": "stream",
     "text": [
      "Val Epoch:60: 0it [00:00, ?it/s]\u001b[32m [repeated 2x across cluster]\u001b[0m\n",
      "Val Epoch:59: 47it [00:01, 40.43it/s]\u001b[32m [repeated 19x across cluster]\u001b[0m\n",
      "Val Epoch:60: 47it [00:01, 34.61it/s]6)\u001b[0m \n"
     ]
    },
    {
     "name": "stdout",
     "output_type": "stream",
     "text": [
      "\u001b[36m(tune_with_parameters pid=1921116)\u001b[0m loss: 0.000\u001b[32m [repeated 15x across cluster]\u001b[0m\n"
     ]
    },
    {
     "name": "stderr",
     "output_type": "stream",
     "text": [
      "Val Epoch:61: 0it [00:00, ?it/s]921116)\u001b[0m \n",
      "Val Epoch:60: 34it [00:01, 47.96it/s]\u001b[32m [repeated 5x across cluster]\u001b[0m\n"
     ]
    },
    {
     "name": "stdout",
     "output_type": "stream",
     "text": [
      "\u001b[36m(tune_with_parameters pid=1921116)\u001b[0m loss: 0.000\u001b[32m [repeated 15x across cluster]\u001b[0m\n"
     ]
    },
    {
     "name": "stderr",
     "output_type": "stream",
     "text": [
      "\u001b[36m(tune_with_parameters pid=2012603)\u001b[0m /users/k23058970/miniforge3/envs/Training/lib/python3.10/site-packages/torch/nn/modules/lazy.py:181: UserWarning: Lazy modules are a new feature under heavy development so changes to the API or functionality can happen at any moment.\n",
      "\u001b[36m(tune_with_parameters pid=2012603)\u001b[0m   warnings.warn('Lazy modules are a new feature under heavy development '\n",
      "Val Epoch:62: 0it [00:00, ?it/s]921116)\u001b[0m \n",
      "Val Epoch:61: 47it [00:01, 28.21it/s]\u001b[32m [repeated 9x across cluster]\u001b[0m\n"
     ]
    },
    {
     "name": "stdout",
     "output_type": "stream",
     "text": [
      "\u001b[36m(tune_with_parameters pid=1921116)\u001b[0m loss: 0.000\u001b[32m [repeated 15x across cluster]\u001b[0m\n"
     ]
    },
    {
     "name": "stderr",
     "output_type": "stream",
     "text": [
      "Val Epoch:63: 0it [00:00, ?it/s]921116)\u001b[0m \n",
      "Val Epoch:62: 47it [00:01, 40.39it/s]\u001b[32m [repeated 8x across cluster]\u001b[0m\n",
      "Val Epoch:0: 0it [00:00, ?it/s]2012603)\u001b[0m \n"
     ]
    },
    {
     "name": "stdout",
     "output_type": "stream",
     "text": [
      "\u001b[36m(tune_with_parameters pid=1921116)\u001b[0m loss: 0.001\u001b[32m [repeated 30x across cluster]\u001b[0m\n",
      "\u001b[36m(tune_with_parameters pid=2012603)\u001b[0m /tmp/tmp1lscurq7/checkpoint.pt\n"
     ]
    },
    {
     "name": "stderr",
     "output_type": "stream",
     "text": [
      "\u001b[36m(tune_with_parameters pid=2012603)\u001b[0m Checkpoint successfully created at: Checkpoint(filesystem=local, path=/scratch/users/k23058970/Model training/results/Single Peak Conv Null/tune_with_parameters_2024-08-19_13-25-03/tune_with_parameters_21b89_00008_8_dp=0.2500,k1=3,k2=3,k3=3,k4=5,lr=0.0015_2024-08-19_13-25-34/checkpoint_000000)\n",
      "Val Epoch:0: 47it [00:01, 23.64it/s]\u001b[32m [repeated 21x across cluster]\u001b[0m\n",
      "Val Epoch:64: 0it [00:00, ?it/s]921116)\u001b[0m \n",
      "Val Epoch:64: 39it [00:01, 53.00it/s]6)\u001b[0m \n"
     ]
    },
    {
     "name": "stdout",
     "output_type": "stream",
     "text": [
      "\u001b[36m(tune_with_parameters pid=2012603)\u001b[0m loss: 0.081\u001b[32m [repeated 26x across cluster]\u001b[0m\n"
     ]
    },
    {
     "name": "stderr",
     "output_type": "stream",
     "text": [
      "Val Epoch:1: 0it [00:00, ?it/s]2012603)\u001b[0m \n"
     ]
    },
    {
     "name": "stdout",
     "output_type": "stream",
     "text": [
      "\u001b[36m(tune_with_parameters pid=2012603)\u001b[0m /tmp/tmpjkp_vvk_/checkpoint.pt\n"
     ]
    },
    {
     "name": "stderr",
     "output_type": "stream",
     "text": [
      "\u001b[36m(tune_with_parameters pid=2012603)\u001b[0m Checkpoint successfully created at: Checkpoint(filesystem=local, path=/scratch/users/k23058970/Model training/results/Single Peak Conv Null/tune_with_parameters_2024-08-19_13-25-03/tune_with_parameters_21b89_00008_8_dp=0.2500,k1=3,k2=3,k3=3,k4=5,lr=0.0015_2024-08-19_13-25-34/checkpoint_000001)\n"
     ]
    },
    {
     "name": "stdout",
     "output_type": "stream",
     "text": [
      "\u001b[36m(tune_with_parameters pid=1921116)\u001b[0m loss: 0.000\u001b[32m [repeated 19x across cluster]\u001b[0m\n"
     ]
    },
    {
     "name": "stderr",
     "output_type": "stream",
     "text": [
      "Val Epoch:1: 47it [00:01, 35.88it/s]\u001b[32m [repeated 18x across cluster]\u001b[0m\n",
      "Val Epoch:2: 0it [00:00, ?it/s]\u001b[32m [repeated 2x across cluster]\u001b[0m\n"
     ]
    },
    {
     "name": "stdout",
     "output_type": "stream",
     "text": [
      "\u001b[36m(tune_with_parameters pid=1921116)\u001b[0m loss: 0.000\u001b[32m [repeated 25x across cluster]\u001b[0m\n"
     ]
    },
    {
     "name": "stderr",
     "output_type": "stream",
     "text": [
      "Val Epoch:2: 47it [00:01, 35.02it/s]\u001b[32m [repeated 19x across cluster]\u001b[0m\n"
     ]
    },
    {
     "name": "stdout",
     "output_type": "stream",
     "text": [
      "\u001b[36m(tune_with_parameters pid=2012603)\u001b[0m /tmp/tmpext2o_da/checkpoint.pt\n"
     ]
    },
    {
     "name": "stderr",
     "output_type": "stream",
     "text": [
      "\u001b[36m(tune_with_parameters pid=2012603)\u001b[0m Checkpoint successfully created at: Checkpoint(filesystem=local, path=/scratch/users/k23058970/Model training/results/Single Peak Conv Null/tune_with_parameters_2024-08-19_13-25-03/tune_with_parameters_21b89_00008_8_dp=0.2500,k1=3,k2=3,k3=3,k4=5,lr=0.0015_2024-08-19_13-25-34/checkpoint_000002)\n"
     ]
    },
    {
     "name": "stdout",
     "output_type": "stream",
     "text": [
      "\u001b[36m(tune_with_parameters pid=1921116)\u001b[0m loss: 0.000\u001b[32m [repeated 19x across cluster]\u001b[0m\n"
     ]
    },
    {
     "name": "stderr",
     "output_type": "stream",
     "text": [
      "Val Epoch:3: 0it [00:00, ?it/s]\u001b[32m [repeated 2x across cluster]\u001b[0m\n",
      "Val Epoch:66: 47it [00:02, 23.03it/s]\u001b[32m [repeated 11x across cluster]\u001b[0m\n"
     ]
    },
    {
     "name": "stdout",
     "output_type": "stream",
     "text": [
      "\u001b[36m(tune_with_parameters pid=2012603)\u001b[0m /tmp/tmpshd6eeoh/checkpoint.pt\n"
     ]
    },
    {
     "name": "stderr",
     "output_type": "stream",
     "text": [
      "\u001b[36m(tune_with_parameters pid=2012603)\u001b[0m Checkpoint successfully created at: Checkpoint(filesystem=local, path=/scratch/users/k23058970/Model training/results/Single Peak Conv Null/tune_with_parameters_2024-08-19_13-25-03/tune_with_parameters_21b89_00008_8_dp=0.2500,k1=3,k2=3,k3=3,k4=5,lr=0.0015_2024-08-19_13-25-34/checkpoint_000003)\n"
     ]
    },
    {
     "name": "stdout",
     "output_type": "stream",
     "text": [
      "\u001b[36m(tune_with_parameters pid=1921116)\u001b[0m loss: 0.001\u001b[32m [repeated 17x across cluster]\u001b[0m\n"
     ]
    },
    {
     "name": "stderr",
     "output_type": "stream",
     "text": [
      "Val Epoch:68: 0it [00:00, ?it/s]\u001b[32m [repeated 2x across cluster]\u001b[0m\n",
      "Val Epoch:67: 47it [00:01, 25.65it/s]\u001b[32m [repeated 19x across cluster]\u001b[0m\n"
     ]
    },
    {
     "name": "stdout",
     "output_type": "stream",
     "text": [
      "\u001b[36m(tune_with_parameters pid=1921116)\u001b[0m loss: 0.000\u001b[32m [repeated 29x across cluster]\u001b[0m\n",
      "\u001b[36m(tune_with_parameters pid=2012603)\u001b[0m /tmp/tmp49_7v0be/checkpoint.pt\n"
     ]
    },
    {
     "name": "stderr",
     "output_type": "stream",
     "text": [
      "\u001b[36m(tune_with_parameters pid=2012603)\u001b[0m Checkpoint successfully created at: Checkpoint(filesystem=local, path=/scratch/users/k23058970/Model training/results/Single Peak Conv Null/tune_with_parameters_2024-08-19_13-25-03/tune_with_parameters_21b89_00008_8_dp=0.2500,k1=3,k2=3,k3=3,k4=5,lr=0.0015_2024-08-19_13-25-34/checkpoint_000004)\n",
      "Val Epoch:69: 0it [00:00, ?it/s]\u001b[32m [repeated 2x across cluster]\u001b[0m\n",
      "Val Epoch:4: 47it [00:01, 36.00it/s]\u001b[32m [repeated 18x across cluster]\u001b[0m\n"
     ]
    },
    {
     "name": "stdout",
     "output_type": "stream",
     "text": [
      "\u001b[36m(tune_with_parameters pid=1921116)\u001b[0m loss: 0.000\u001b[32m [repeated 30x across cluster]\u001b[0m\n",
      "\u001b[36m(tune_with_parameters pid=2012603)\u001b[0m /tmp/tmpunuos9wm/checkpoint.pt\n"
     ]
    },
    {
     "name": "stderr",
     "output_type": "stream",
     "text": [
      "\u001b[36m(tune_with_parameters pid=2012603)\u001b[0m Checkpoint successfully created at: Checkpoint(filesystem=local, path=/scratch/users/k23058970/Model training/results/Single Peak Conv Null/tune_with_parameters_2024-08-19_13-25-03/tune_with_parameters_21b89_00008_8_dp=0.2500,k1=3,k2=3,k3=3,k4=5,lr=0.0015_2024-08-19_13-25-34/checkpoint_000005)\n",
      "Val Epoch:70: 0it [00:00, ?it/s]\u001b[32m [repeated 2x across cluster]\u001b[0m\n",
      "Val Epoch:5: 47it [00:01, 23.67it/s]\u001b[32m [repeated 19x across cluster]\u001b[0m\n"
     ]
    },
    {
     "name": "stdout",
     "output_type": "stream",
     "text": [
      "\u001b[36m(tune_with_parameters pid=2012603)\u001b[0m loss: 0.015\u001b[32m [repeated 27x across cluster]\u001b[0m\n",
      "\u001b[36m(tune_with_parameters pid=1921116)\u001b[0m loss: 0.000\u001b[32m [repeated 19x across cluster]\u001b[0m\n"
     ]
    },
    {
     "name": "stderr",
     "output_type": "stream",
     "text": [
      "Val Epoch:71: 0it [00:00, ?it/s]\u001b[32m [repeated 2x across cluster]\u001b[0m\n",
      "Val Epoch:6: 47it [00:02, 23.10it/s]\u001b[32m [repeated 20x across cluster]\u001b[0m\n"
     ]
    },
    {
     "name": "stdout",
     "output_type": "stream",
     "text": [
      "\u001b[36m(tune_with_parameters pid=1921116)\u001b[0m loss: 0.000\u001b[32m [repeated 19x across cluster]\u001b[0m\n",
      "\u001b[36m(tune_with_parameters pid=2012603)\u001b[0m /tmp/tmp0bql8kgp/checkpoint.pt\n"
     ]
    },
    {
     "name": "stderr",
     "output_type": "stream",
     "text": [
      "\u001b[36m(tune_with_parameters pid=2012603)\u001b[0m Checkpoint successfully created at: Checkpoint(filesystem=local, path=/scratch/users/k23058970/Model training/results/Single Peak Conv Null/tune_with_parameters_2024-08-19_13-25-03/tune_with_parameters_21b89_00008_8_dp=0.2500,k1=3,k2=3,k3=3,k4=5,lr=0.0015_2024-08-19_13-25-34/checkpoint_000006)\n",
      "Val Epoch:72: 0it [00:00, ?it/s]\u001b[32m [repeated 2x across cluster]\u001b[0m\n",
      "Val Epoch:7: 47it [00:01, 34.92it/s]\u001b[32m [repeated 19x across cluster]\u001b[0m\n"
     ]
    },
    {
     "name": "stdout",
     "output_type": "stream",
     "text": [
      "\u001b[36m(tune_with_parameters pid=1921116)\u001b[0m loss: 0.000\u001b[32m [repeated 15x across cluster]\u001b[0m\n"
     ]
    },
    {
     "name": "stderr",
     "output_type": "stream",
     "text": [
      "Val Epoch:73: 0it [00:00, ?it/s]921116)\u001b[0m \n",
      "Val Epoch:72: 47it [00:01, 35.17it/s]\u001b[32m [repeated 7x across cluster]\u001b[0m\n"
     ]
    },
    {
     "name": "stdout",
     "output_type": "stream",
     "text": [
      "\u001b[36m(tune_with_parameters pid=1921116)\u001b[0m loss: 0.000\u001b[32m [repeated 15x across cluster]\u001b[0m\n"
     ]
    },
    {
     "name": "stderr",
     "output_type": "stream",
     "text": [
      "Val Epoch:74: 0it [00:00, ?it/s]921116)\u001b[0m \n",
      "Val Epoch:73: 47it [00:00, 48.25it/s]\u001b[32m [repeated 7x across cluster]\u001b[0m\n",
      "\u001b[36m(tune_with_parameters pid=2029255)\u001b[0m /users/k23058970/miniforge3/envs/Training/lib/python3.10/site-packages/torch/nn/modules/lazy.py:181: UserWarning: Lazy modules are a new feature under heavy development so changes to the API or functionality can happen at any moment.\n",
      "\u001b[36m(tune_with_parameters pid=2029255)\u001b[0m   warnings.warn('Lazy modules are a new feature under heavy development '\n",
      "Val Epoch:74: 47it [00:01, 37.78it/s]6)\u001b[0m \n"
     ]
    },
    {
     "name": "stdout",
     "output_type": "stream",
     "text": [
      "\u001b[36m(tune_with_parameters pid=1921116)\u001b[0m loss: 0.000\u001b[32m [repeated 14x across cluster]\u001b[0m\n"
     ]
    },
    {
     "name": "stderr",
     "output_type": "stream",
     "text": [
      "Val Epoch:75: 0it [00:00, ?it/s]921116)\u001b[0m \n",
      "Val Epoch:74: 33it [00:01, 49.76it/s]\u001b[32m [repeated 6x across cluster]\u001b[0m\n"
     ]
    },
    {
     "name": "stdout",
     "output_type": "stream",
     "text": [
      "\u001b[36m(tune_with_parameters pid=1921116)\u001b[0m loss: 0.000\u001b[32m [repeated 17x across cluster]\u001b[0m\n"
     ]
    },
    {
     "name": "stderr",
     "output_type": "stream",
     "text": [
      "Val Epoch:76: 0it [00:00, ?it/s]921116)\u001b[0m \n",
      "Val Epoch:75: 47it [00:01, 38.72it/s]\u001b[32m [repeated 9x across cluster]\u001b[0m\n"
     ]
    },
    {
     "name": "stdout",
     "output_type": "stream",
     "text": [
      "\u001b[36m(tune_with_parameters pid=1921116)\u001b[0m loss: 0.000\u001b[32m [repeated 24x across cluster]\u001b[0m\n",
      "\u001b[36m(tune_with_parameters pid=2029255)\u001b[0m /tmp/tmprirkxkcp/checkpoint.pt\n"
     ]
    },
    {
     "name": "stderr",
     "output_type": "stream",
     "text": [
      "\u001b[36m(tune_with_parameters pid=2029255)\u001b[0m Checkpoint successfully created at: Checkpoint(filesystem=local, path=/scratch/users/k23058970/Model training/results/Single Peak Conv Null/tune_with_parameters_2024-08-19_13-25-03/tune_with_parameters_21b89_00009_9_dp=0.5000,k1=5,k2=7,k3=3,k4=1,lr=0.0053_2024-08-19_13-25-34/checkpoint_000000)\n",
      "Val Epoch:77: 0it [00:00, ?it/s]\u001b[32m [repeated 2x across cluster]\u001b[0m\n",
      "Val Epoch:0: 47it [00:01, 25.03it/s]\u001b[32m [repeated 18x across cluster]\u001b[0m\n"
     ]
    },
    {
     "name": "stdout",
     "output_type": "stream",
     "text": [
      "\u001b[36m(tune_with_parameters pid=2029255)\u001b[0m loss: 0.013\u001b[32m [repeated 24x across cluster]\u001b[0m\n"
     ]
    },
    {
     "name": "stderr",
     "output_type": "stream",
     "text": [
      "Val Epoch:77: 47it [00:01, 40.54it/s]6)\u001b[0m \n",
      "Val Epoch:1: 0it [00:00, ?it/s]2029255)\u001b[0m \n",
      "Val Epoch:1: 33it [00:00, 44.71it/s]\u001b[32m [repeated 14x across cluster]\u001b[0m\n"
     ]
    },
    {
     "name": "stdout",
     "output_type": "stream",
     "text": [
      "\u001b[36m(tune_with_parameters pid=2029255)\u001b[0m /tmp/tmpmzyyyhuq/checkpoint.pt\n"
     ]
    },
    {
     "name": "stderr",
     "output_type": "stream",
     "text": [
      "\u001b[36m(tune_with_parameters pid=2029255)\u001b[0m Checkpoint successfully created at: Checkpoint(filesystem=local, path=/scratch/users/k23058970/Model training/results/Single Peak Conv Null/tune_with_parameters_2024-08-19_13-25-03/tune_with_parameters_21b89_00009_9_dp=0.5000,k1=5,k2=7,k3=3,k4=1,lr=0.0053_2024-08-19_13-25-34/checkpoint_000001)\n",
      "Val Epoch:78: 0it [00:00, ?it/s]921116)\u001b[0m \n",
      "Val Epoch:1: 47it [00:01, 37.64it/s]55)\u001b[0m \n"
     ]
    },
    {
     "name": "stdout",
     "output_type": "stream",
     "text": [
      "\u001b[36m(tune_with_parameters pid=2029255)\u001b[0m loss: 0.003\u001b[32m [repeated 21x across cluster]\u001b[0m\n"
     ]
    },
    {
     "name": "stderr",
     "output_type": "stream",
     "text": [
      "Val Epoch:79: 0it [00:00, ?it/s]921116)\u001b[0m \n",
      "Val Epoch:78: 47it [00:01, 39.60it/s]\u001b[32m [repeated 10x across cluster]\u001b[0m\n"
     ]
    },
    {
     "name": "stdout",
     "output_type": "stream",
     "text": [
      "\u001b[36m(tune_with_parameters pid=2029255)\u001b[0m loss: 0.007\u001b[32m [repeated 28x across cluster]\u001b[0m\n"
     ]
    },
    {
     "name": "stderr",
     "output_type": "stream",
     "text": [
      "Val Epoch:2: 0it [00:00, ?it/s]2029255)\u001b[0m \n"
     ]
    },
    {
     "name": "stdout",
     "output_type": "stream",
     "text": [
      "\u001b[36m(tune_with_parameters pid=2029255)\u001b[0m /tmp/tmphmbjya14/checkpoint.pt\n"
     ]
    },
    {
     "name": "stderr",
     "output_type": "stream",
     "text": [
      "\u001b[36m(tune_with_parameters pid=2029255)\u001b[0m Checkpoint successfully created at: Checkpoint(filesystem=local, path=/scratch/users/k23058970/Model training/results/Single Peak Conv Null/tune_with_parameters_2024-08-19_13-25-03/tune_with_parameters_21b89_00009_9_dp=0.5000,k1=5,k2=7,k3=3,k4=1,lr=0.0053_2024-08-19_13-25-34/checkpoint_000002)\n"
     ]
    },
    {
     "name": "stdout",
     "output_type": "stream",
     "text": [
      "\u001b[36m(tune_with_parameters pid=1921116)\u001b[0m loss: 0.000\u001b[32m [repeated 18x across cluster]\u001b[0m\n"
     ]
    },
    {
     "name": "stderr",
     "output_type": "stream",
     "text": [
      "Val Epoch:2: 47it [00:01, 24.10it/s]\u001b[32m [repeated 18x across cluster]\u001b[0m\n",
      "Val Epoch:80: 0it [00:00, ?it/s]921116)\u001b[0m \n",
      "Val Epoch:3: 0it [00:00, ?it/s]2029255)\u001b[0m \n"
     ]
    },
    {
     "name": "stdout",
     "output_type": "stream",
     "text": [
      "\u001b[36m(tune_with_parameters pid=1921116)\u001b[0m loss: 0.000\u001b[32m [repeated 25x across cluster]\u001b[0m\n"
     ]
    },
    {
     "name": "stderr",
     "output_type": "stream",
     "text": [
      "Val Epoch:3: 6it [00:00, 22.45it/s]\u001b[32m [repeated 11x across cluster]\u001b[0m\n"
     ]
    },
    {
     "name": "stdout",
     "output_type": "stream",
     "text": [
      "\u001b[36m(tune_with_parameters pid=2029255)\u001b[0m /tmp/tmpqb3apgws/checkpoint.pt\n"
     ]
    },
    {
     "name": "stderr",
     "output_type": "stream",
     "text": [
      "\u001b[36m(tune_with_parameters pid=2029255)\u001b[0m Checkpoint successfully created at: Checkpoint(filesystem=local, path=/scratch/users/k23058970/Model training/results/Single Peak Conv Null/tune_with_parameters_2024-08-19_13-25-03/tune_with_parameters_21b89_00009_9_dp=0.5000,k1=5,k2=7,k3=3,k4=1,lr=0.0053_2024-08-19_13-25-34/checkpoint_000003)\n"
     ]
    },
    {
     "name": "stdout",
     "output_type": "stream",
     "text": [
      "\u001b[36m(tune_with_parameters pid=1921116)\u001b[0m loss: 0.000\u001b[32m [repeated 15x across cluster]\u001b[0m\n"
     ]
    },
    {
     "name": "stderr",
     "output_type": "stream",
     "text": [
      "Val Epoch:82: 0it [00:00, ?it/s]\u001b[32m [repeated 2x across cluster]\u001b[0m\n",
      "Val Epoch:81: 47it [00:01, 24.10it/s]\u001b[32m [repeated 18x across cluster]\u001b[0m\n"
     ]
    },
    {
     "name": "stdout",
     "output_type": "stream",
     "text": [
      "\u001b[36m(tune_with_parameters pid=1921116)\u001b[0m loss: 0.000\u001b[32m [repeated 19x across cluster]\u001b[0m\n",
      "\u001b[36m(tune_with_parameters pid=2029255)\u001b[0m /tmp/tmpswgw25cc/checkpoint.pt\n"
     ]
    },
    {
     "name": "stderr",
     "output_type": "stream",
     "text": [
      "\u001b[36m(tune_with_parameters pid=2029255)\u001b[0m Checkpoint successfully created at: Checkpoint(filesystem=local, path=/scratch/users/k23058970/Model training/results/Single Peak Conv Null/tune_with_parameters_2024-08-19_13-25-03/tune_with_parameters_21b89_00009_9_dp=0.5000,k1=5,k2=7,k3=3,k4=1,lr=0.0053_2024-08-19_13-25-34/checkpoint_000004)\n",
      "Val Epoch:83: 0it [00:00, ?it/s]\u001b[32m [repeated 2x across cluster]\u001b[0m\n",
      "Val Epoch:4: 47it [00:01, 37.12it/s]\u001b[32m [repeated 18x across cluster]\u001b[0m\n"
     ]
    },
    {
     "name": "stdout",
     "output_type": "stream",
     "text": [
      "\u001b[36m(tune_with_parameters pid=2029255)\u001b[0m loss: 0.002\u001b[32m [repeated 23x across cluster]\u001b[0m\n"
     ]
    },
    {
     "name": "stderr",
     "output_type": "stream",
     "text": [
      "Val Epoch:83: 47it [00:01, 32.71it/s]6)\u001b[0m \n",
      "Val Epoch:5: 0it [00:00, ?it/s]2029255)\u001b[0m \n",
      "Val Epoch:5: 9it [00:00, 19.85it/s]\u001b[32m [repeated 10x across cluster]\u001b[0m\n",
      "Val Epoch:84: 0it [00:00, ?it/s]921116)\u001b[0m \n"
     ]
    },
    {
     "name": "stdout",
     "output_type": "stream",
     "text": [
      "\u001b[36m(tune_with_parameters pid=2029255)\u001b[0m loss: 0.002\u001b[32m [repeated 22x across cluster]\u001b[0m\n"
     ]
    },
    {
     "name": "stderr",
     "output_type": "stream",
     "text": [
      "Val Epoch:85: 0it [00:00, ?it/s]921116)\u001b[0m \n",
      "Val Epoch:84: 47it [00:01, 27.43it/s]\u001b[32m [repeated 16x across cluster]\u001b[0m\n"
     ]
    },
    {
     "name": "stdout",
     "output_type": "stream",
     "text": [
      "\u001b[36m(tune_with_parameters pid=2029255)\u001b[0m loss: 0.002\u001b[32m [repeated 28x across cluster]\u001b[0m\n"
     ]
    },
    {
     "name": "stderr",
     "output_type": "stream",
     "text": [
      "Val Epoch:85: 15it [00:00, 36.12it/s]6)\u001b[0m \n",
      "Val Epoch:6: 0it [00:00, ?it/s]2029255)\u001b[0m \n"
     ]
    },
    {
     "name": "stdout",
     "output_type": "stream",
     "text": [
      "\u001b[36m(tune_with_parameters pid=1921116)\u001b[0m loss: 0.000\u001b[32m [repeated 16x across cluster]\u001b[0m\n"
     ]
    },
    {
     "name": "stderr",
     "output_type": "stream",
     "text": [
      "Val Epoch:6: 47it [00:01, 32.30it/s]\u001b[32m [repeated 16x across cluster]\u001b[0m\n",
      "Val Epoch:86: 0it [00:00, ?it/s]921116)\u001b[0m \n"
     ]
    },
    {
     "name": "stdout",
     "output_type": "stream",
     "text": [
      "\u001b[36m(tune_with_parameters pid=1921116)\u001b[0m loss: 0.000\u001b[32m [repeated 22x across cluster]\u001b[0m\n"
     ]
    },
    {
     "name": "stderr",
     "output_type": "stream",
     "text": [
      "Val Epoch:7: 0it [00:00, ?it/s]2029255)\u001b[0m \n",
      "Val Epoch:7: 24it [00:00, 39.10it/s]\u001b[32m [repeated 15x across cluster]\u001b[0m\n",
      "Val Epoch:7: 45it [00:01, 40.06it/s]55)\u001b[0m \n"
     ]
    },
    {
     "name": "stdout",
     "output_type": "stream",
     "text": [
      "\u001b[36m(tune_with_parameters pid=2029255)\u001b[0m loss: 0.002\u001b[32m [repeated 13x across cluster]\u001b[0m\n"
     ]
    },
    {
     "name": "stderr",
     "output_type": "stream",
     "text": [
      "Val Epoch:88: 0it [00:00, ?it/s]\u001b[32m [repeated 2x across cluster]\u001b[0m\n",
      "Val Epoch:87: 47it [00:01, 37.99it/s]\u001b[32m [repeated 12x across cluster]\u001b[0m\n"
     ]
    },
    {
     "name": "stdout",
     "output_type": "stream",
     "text": [
      "\u001b[36m(tune_with_parameters pid=1921116)\u001b[0m loss: 0.000\u001b[32m [repeated 26x across cluster]\u001b[0m\n"
     ]
    },
    {
     "name": "stderr",
     "output_type": "stream",
     "text": [
      "Val Epoch:89: 0it [00:00, ?it/s]\u001b[32m [repeated 2x across cluster]\u001b[0m\n",
      "Val Epoch:8: 47it [00:01, 28.75it/s]\u001b[32m [repeated 21x across cluster]\u001b[0m\n"
     ]
    },
    {
     "name": "stdout",
     "output_type": "stream",
     "text": [
      "\u001b[36m(tune_with_parameters pid=2029255)\u001b[0m loss: 0.001\u001b[32m [repeated 26x across cluster]\u001b[0m\n"
     ]
    },
    {
     "name": "stderr",
     "output_type": "stream",
     "text": [
      "Val Epoch:90: 0it [00:00, ?it/s]\u001b[32m [repeated 2x across cluster]\u001b[0m\n",
      "Val Epoch:9: 47it [00:01, 35.29it/s]\u001b[32m [repeated 18x across cluster]\u001b[0m\n"
     ]
    },
    {
     "name": "stdout",
     "output_type": "stream",
     "text": [
      "\u001b[36m(tune_with_parameters pid=2029255)\u001b[0m loss: 0.001\u001b[32m [repeated 22x across cluster]\u001b[0m\n"
     ]
    },
    {
     "name": "stderr",
     "output_type": "stream",
     "text": [
      "Val Epoch:90: 7it [00:00, 15.69it/s]16)\u001b[0m \n"
     ]
    },
    {
     "name": "stdout",
     "output_type": "stream",
     "text": [
      "\u001b[36m(tune_with_parameters pid=1921116)\u001b[0m loss: 0.000\u001b[32m [repeated 25x across cluster]\u001b[0m\n"
     ]
    },
    {
     "name": "stderr",
     "output_type": "stream",
     "text": [
      "Val Epoch:10: 0it [00:00, ?it/s]029255)\u001b[0m \n",
      "Val Epoch:90: 47it [00:01, 31.23it/s]\u001b[32m [repeated 7x across cluster]\u001b[0m\n",
      "Val Epoch:91: 0it [00:00, ?it/s]921116)\u001b[0m \n",
      "Val Epoch:91: 47it [00:01, 25.88it/s]6)\u001b[0m \n"
     ]
    },
    {
     "name": "stdout",
     "output_type": "stream",
     "text": [
      "\u001b[36m(tune_with_parameters pid=1921116)\u001b[0m loss: 0.000\u001b[32m [repeated 15x across cluster]\u001b[0m\n"
     ]
    },
    {
     "name": "stderr",
     "output_type": "stream",
     "text": [
      "Val Epoch:92: 0it [00:00, ?it/s]921116)\u001b[0m \n",
      "Val Epoch:91: 40it [00:01, 26.47it/s]\u001b[32m [repeated 17x across cluster]\u001b[0m\n",
      "Val Epoch:11: 0it [00:00, ?it/s]029255)\u001b[0m \n"
     ]
    },
    {
     "name": "stdout",
     "output_type": "stream",
     "text": [
      "\u001b[36m(tune_with_parameters pid=1921116)\u001b[0m loss: 0.000\u001b[32m [repeated 20x across cluster]\u001b[0m\n"
     ]
    },
    {
     "name": "stderr",
     "output_type": "stream",
     "text": [
      "Val Epoch:11: 47it [00:01, 44.10it/s]\u001b[32m [repeated 17x across cluster]\u001b[0m\n"
     ]
    },
    {
     "name": "stdout",
     "output_type": "stream",
     "text": [
      "\u001b[36m(tune_with_parameters pid=1921116)\u001b[0m loss: 0.000\u001b[32m [repeated 20x across cluster]\u001b[0m\n"
     ]
    },
    {
     "name": "stderr",
     "output_type": "stream",
     "text": [
      "Val Epoch:12: 0it [00:00, ?it/s]\u001b[32m [repeated 2x across cluster]\u001b[0m\n",
      "Val Epoch:93: 47it [00:01, 36.04it/s]\u001b[32m [repeated 9x across cluster]\u001b[0m\n"
     ]
    },
    {
     "name": "stdout",
     "output_type": "stream",
     "text": [
      "\u001b[36m(tune_with_parameters pid=2029255)\u001b[0m loss: 0.000\u001b[32m [repeated 22x across cluster]\u001b[0m\n"
     ]
    },
    {
     "name": "stderr",
     "output_type": "stream",
     "text": [
      "Val Epoch:95: 0it [00:00, ?it/s]\u001b[32m [repeated 2x across cluster]\u001b[0m\n",
      "Val Epoch:94: 47it [00:01, 40.94it/s]\u001b[32m [repeated 18x across cluster]\u001b[0m\n"
     ]
    },
    {
     "name": "stdout",
     "output_type": "stream",
     "text": [
      "\u001b[36m(tune_with_parameters pid=1921116)\u001b[0m loss: 0.000\u001b[32m [repeated 27x across cluster]\u001b[0m\n"
     ]
    },
    {
     "name": "stderr",
     "output_type": "stream",
     "text": [
      "Val Epoch:96: 0it [00:00, ?it/s]\u001b[32m [repeated 2x across cluster]\u001b[0m\n",
      "Val Epoch:13: 47it [00:01, 35.78it/s]\u001b[32m [repeated 18x across cluster]\u001b[0m\n"
     ]
    },
    {
     "name": "stdout",
     "output_type": "stream",
     "text": [
      "\u001b[36m(tune_with_parameters pid=2029255)\u001b[0m loss: 0.000\u001b[32m [repeated 22x across cluster]\u001b[0m\n"
     ]
    },
    {
     "name": "stderr",
     "output_type": "stream",
     "text": [
      "Val Epoch:14: 0it [00:00, ?it/s]029255)\u001b[0m \n",
      "Val Epoch:14: 13it [00:00, 32.99it/s]\u001b[32m [repeated 12x across cluster]\u001b[0m\n"
     ]
    },
    {
     "name": "stdout",
     "output_type": "stream",
     "text": [
      "\u001b[36m(tune_with_parameters pid=2029255)\u001b[0m loss: 0.001\u001b[32m [repeated 11x across cluster]\u001b[0m\n"
     ]
    },
    {
     "name": "stderr",
     "output_type": "stream",
     "text": [
      "Val Epoch:15: 0it [00:00, ?it/s]029255)\u001b[0m \n",
      "Val Epoch:15: 1it [00:00,  4.61it/s]\u001b[32m [repeated 4x across cluster]\u001b[0m\n",
      "Val Epoch:15: 47it [00:00, 70.50it/s]5)\u001b[0m \n"
     ]
    },
    {
     "name": "stdout",
     "output_type": "stream",
     "text": [
      "\u001b[36m(tune_with_parameters pid=2029255)\u001b[0m loss: 0.000\u001b[32m [repeated 15x across cluster]\u001b[0m\n"
     ]
    },
    {
     "name": "stderr",
     "output_type": "stream",
     "text": [
      "Val Epoch:16: 0it [00:00, ?it/s]029255)\u001b[0m \n",
      "Val Epoch:15: 34it [00:00, 79.58it/s]\u001b[32m [repeated 3x across cluster]\u001b[0m\n"
     ]
    },
    {
     "name": "stdout",
     "output_type": "stream",
     "text": [
      "\u001b[36m(tune_with_parameters pid=2029255)\u001b[0m loss: 0.001\u001b[32m [repeated 16x across cluster]\u001b[0m\n"
     ]
    },
    {
     "name": "stderr",
     "output_type": "stream",
     "text": [
      "Val Epoch:17: 0it [00:00, ?it/s]029255)\u001b[0m \n",
      "Val Epoch:16: 47it [00:00, 72.71it/s]\u001b[32m [repeated 5x across cluster]\u001b[0m\n",
      "Val Epoch:17: 47it [00:00, 103.74it/s])\u001b[0m \n"
     ]
    },
    {
     "name": "stdout",
     "output_type": "stream",
     "text": [
      "\u001b[36m(tune_with_parameters pid=2029255)\u001b[0m loss: 0.000\u001b[32m [repeated 15x across cluster]\u001b[0m\n"
     ]
    },
    {
     "name": "stderr",
     "output_type": "stream",
     "text": [
      "Val Epoch:18: 0it [00:00, ?it/s]029255)\u001b[0m \n",
      "Val Epoch:18: 1it [00:00,  1.82it/s]\u001b[32m [repeated 4x across cluster]\u001b[0m\n"
     ]
    },
    {
     "name": "stdout",
     "output_type": "stream",
     "text": [
      "\u001b[36m(tune_with_parameters pid=2029255)\u001b[0m loss: 0.001\u001b[32m [repeated 14x across cluster]\u001b[0m\n"
     ]
    },
    {
     "name": "stderr",
     "output_type": "stream",
     "text": [
      "Val Epoch:19: 0it [00:00, ?it/s]029255)\u001b[0m \n",
      "Val Epoch:19: 1it [00:00,  4.19it/s]\u001b[32m [repeated 5x across cluster]\u001b[0m\n"
     ]
    },
    {
     "name": "stdout",
     "output_type": "stream",
     "text": [
      "\u001b[36m(tune_with_parameters pid=2029255)\u001b[0m loss: 0.000\u001b[32m [repeated 15x across cluster]\u001b[0m\n"
     ]
    },
    {
     "name": "stderr",
     "output_type": "stream",
     "text": [
      "Val Epoch:20: 0it [00:00, ?it/s]029255)\u001b[0m \n",
      "Val Epoch:20: 1it [00:00,  2.00it/s]\u001b[32m [repeated 5x across cluster]\u001b[0m\n"
     ]
    },
    {
     "name": "stdout",
     "output_type": "stream",
     "text": [
      "\u001b[36m(tune_with_parameters pid=2029255)\u001b[0m loss: 0.001\u001b[32m [repeated 15x across cluster]\u001b[0m\n"
     ]
    },
    {
     "name": "stderr",
     "output_type": "stream",
     "text": [
      "Val Epoch:21: 0it [00:00, ?it/s]029255)\u001b[0m \n",
      "Val Epoch:21: 1it [00:00,  2.85it/s]\u001b[32m [repeated 5x across cluster]\u001b[0m\n"
     ]
    },
    {
     "name": "stdout",
     "output_type": "stream",
     "text": [
      "\u001b[36m(tune_with_parameters pid=2029255)\u001b[0m loss: 0.000\u001b[32m [repeated 15x across cluster]\u001b[0m\n"
     ]
    },
    {
     "name": "stderr",
     "output_type": "stream",
     "text": [
      "Val Epoch:22: 0it [00:00, ?it/s]029255)\u001b[0m \n",
      "Val Epoch:22: 1it [00:00,  4.77it/s]\u001b[32m [repeated 5x across cluster]\u001b[0m\n"
     ]
    },
    {
     "name": "stdout",
     "output_type": "stream",
     "text": [
      "\u001b[36m(tune_with_parameters pid=2029255)\u001b[0m loss: 0.000\u001b[32m [repeated 15x across cluster]\u001b[0m\n"
     ]
    },
    {
     "name": "stderr",
     "output_type": "stream",
     "text": [
      "Val Epoch:23: 0it [00:00, ?it/s]029255)\u001b[0m \n",
      "Val Epoch:23: 12it [00:00, 38.07it/s]\u001b[32m [repeated 6x across cluster]\u001b[0m\n"
     ]
    },
    {
     "name": "stdout",
     "output_type": "stream",
     "text": [
      "\u001b[36m(tune_with_parameters pid=2029255)\u001b[0m loss: 0.001\u001b[32m [repeated 16x across cluster]\u001b[0m\n"
     ]
    },
    {
     "name": "stderr",
     "output_type": "stream",
     "text": [
      "Val Epoch:24: 0it [00:00, ?it/s]029255)\u001b[0m \n",
      "Val Epoch:24: 1it [00:00,  1.25it/s]\u001b[32m [repeated 4x across cluster]\u001b[0m\n"
     ]
    },
    {
     "name": "stdout",
     "output_type": "stream",
     "text": [
      "\u001b[36m(tune_with_parameters pid=2029255)\u001b[0m loss: 0.000\u001b[32m [repeated 15x across cluster]\u001b[0m\n"
     ]
    },
    {
     "name": "stderr",
     "output_type": "stream",
     "text": [
      "Val Epoch:25: 0it [00:00, ?it/s]029255)\u001b[0m \n",
      "Val Epoch:25: 1it [00:00,  4.37it/s]\u001b[32m [repeated 5x across cluster]\u001b[0m\n"
     ]
    },
    {
     "name": "stdout",
     "output_type": "stream",
     "text": [
      "\u001b[36m(tune_with_parameters pid=2029255)\u001b[0m loss: 0.000\u001b[32m [repeated 14x across cluster]\u001b[0m\n"
     ]
    },
    {
     "name": "stderr",
     "output_type": "stream",
     "text": [
      "Val Epoch:26: 0it [00:00, ?it/s]029255)\u001b[0m \n",
      "Val Epoch:26: 2it [00:00,  4.29it/s]\u001b[32m [repeated 5x across cluster]\u001b[0m\n"
     ]
    },
    {
     "name": "stdout",
     "output_type": "stream",
     "text": [
      "\u001b[36m(tune_with_parameters pid=2029255)\u001b[0m loss: 0.000\u001b[32m [repeated 15x across cluster]\u001b[0m\n"
     ]
    },
    {
     "name": "stderr",
     "output_type": "stream",
     "text": [
      "Val Epoch:27: 0it [00:00, ?it/s]029255)\u001b[0m \n",
      "Val Epoch:27: 1it [00:00,  1.90it/s]\u001b[32m [repeated 5x across cluster]\u001b[0m\n"
     ]
    },
    {
     "name": "stdout",
     "output_type": "stream",
     "text": [
      "\u001b[36m(tune_with_parameters pid=2029255)\u001b[0m loss: 0.000\u001b[32m [repeated 15x across cluster]\u001b[0m\n"
     ]
    },
    {
     "name": "stderr",
     "output_type": "stream",
     "text": [
      "Val Epoch:28: 0it [00:00, ?it/s]029255)\u001b[0m \n",
      "Val Epoch:28: 12it [00:00, 63.09it/s]\u001b[32m [repeated 6x across cluster]\u001b[0m\n",
      "Val Epoch:28: 47it [00:00, 83.28it/s]5)\u001b[0m \n"
     ]
    },
    {
     "name": "stdout",
     "output_type": "stream",
     "text": [
      "\u001b[36m(tune_with_parameters pid=2029255)\u001b[0m loss: 0.000\u001b[32m [repeated 15x across cluster]\u001b[0m\n"
     ]
    },
    {
     "name": "stderr",
     "output_type": "stream",
     "text": [
      "Val Epoch:29: 0it [00:00, ?it/s]029255)\u001b[0m \n",
      "Val Epoch:29: 1it [00:00,  4.29it/s]\u001b[32m [repeated 3x across cluster]\u001b[0m\n"
     ]
    },
    {
     "name": "stdout",
     "output_type": "stream",
     "text": [
      "\u001b[36m(tune_with_parameters pid=2029255)\u001b[0m loss: 0.005\u001b[32m [repeated 15x across cluster]\u001b[0m\n"
     ]
    },
    {
     "name": "stderr",
     "output_type": "stream",
     "text": [
      "Val Epoch:30: 0it [00:00, ?it/s]029255)\u001b[0m \n",
      "Val Epoch:29: 47it [00:00, 69.23it/s]\u001b[32m [repeated 5x across cluster]\u001b[0m\n"
     ]
    },
    {
     "name": "stdout",
     "output_type": "stream",
     "text": [
      "\u001b[36m(tune_with_parameters pid=2029255)\u001b[0m loss: 0.000\u001b[32m [repeated 15x across cluster]\u001b[0m\n"
     ]
    },
    {
     "name": "stderr",
     "output_type": "stream",
     "text": [
      "Val Epoch:31: 0it [00:00, ?it/s]029255)\u001b[0m \n",
      "Val Epoch:30: 47it [00:00, 53.03it/s]\u001b[32m [repeated 5x across cluster]\u001b[0m\n"
     ]
    },
    {
     "name": "stdout",
     "output_type": "stream",
     "text": [
      "\u001b[36m(tune_with_parameters pid=2029255)\u001b[0m loss: 0.000\u001b[32m [repeated 16x across cluster]\u001b[0m\n"
     ]
    },
    {
     "name": "stderr",
     "output_type": "stream",
     "text": [
      "Val Epoch:32: 0it [00:00, ?it/s]029255)\u001b[0m \n",
      "Val Epoch:32: 1it [00:00,  1.42it/s]\u001b[32m [repeated 6x across cluster]\u001b[0m\n",
      "Val Epoch:32: 26it [00:00, 41.31it/s]5)\u001b[0m \n"
     ]
    },
    {
     "name": "stdout",
     "output_type": "stream",
     "text": [
      "\u001b[36m(tune_with_parameters pid=2029255)\u001b[0m loss: 0.001\u001b[32m [repeated 15x across cluster]\u001b[0m\n"
     ]
    },
    {
     "name": "stderr",
     "output_type": "stream",
     "text": [
      "Val Epoch:33: 0it [00:00, ?it/s]029255)\u001b[0m \n",
      "Val Epoch:32: 47it [00:01, 42.14it/s]\u001b[32m [repeated 2x across cluster]\u001b[0m\n"
     ]
    },
    {
     "name": "stdout",
     "output_type": "stream",
     "text": [
      "\u001b[36m(tune_with_parameters pid=2029255)\u001b[0m loss: 0.000\u001b[32m [repeated 15x across cluster]\u001b[0m\n"
     ]
    },
    {
     "name": "stderr",
     "output_type": "stream",
     "text": [
      "Val Epoch:34: 0it [00:00, ?it/s]029255)\u001b[0m \n",
      "Val Epoch:34: 8it [00:00, 77.96it/s]\u001b[32m [repeated 5x across cluster]\u001b[0m\n",
      "Val Epoch:34: 47it [00:00, 105.07it/s])\u001b[0m \n"
     ]
    },
    {
     "name": "stdout",
     "output_type": "stream",
     "text": [
      "\u001b[36m(tune_with_parameters pid=2029255)\u001b[0m loss: 0.000\u001b[32m [repeated 16x across cluster]\u001b[0m\n"
     ]
    },
    {
     "name": "stderr",
     "output_type": "stream",
     "text": [
      "Val Epoch:35: 0it [00:00, ?it/s]029255)\u001b[0m \n",
      "Val Epoch:35: 38it [00:00, 85.91it/s]\u001b[32m [repeated 6x across cluster]\u001b[0m\n"
     ]
    },
    {
     "name": "stdout",
     "output_type": "stream",
     "text": [
      "\u001b[36m(tune_with_parameters pid=2029255)\u001b[0m loss: 0.000\u001b[32m [repeated 15x across cluster]\u001b[0m\n"
     ]
    },
    {
     "name": "stderr",
     "output_type": "stream",
     "text": [
      "Val Epoch:36: 0it [00:00, ?it/s]029255)\u001b[0m \n",
      "Val Epoch:36: 1it [00:00,  2.53it/s]\u001b[32m [repeated 2x across cluster]\u001b[0m\n",
      "Val Epoch:36: 47it [00:00, 58.56it/s]5)\u001b[0m \n"
     ]
    },
    {
     "name": "stdout",
     "output_type": "stream",
     "text": [
      "\u001b[36m(tune_with_parameters pid=2029255)\u001b[0m loss: 0.000\u001b[32m [repeated 14x across cluster]\u001b[0m\n"
     ]
    },
    {
     "name": "stderr",
     "output_type": "stream",
     "text": [
      "Val Epoch:37: 0it [00:00, ?it/s]029255)\u001b[0m \n",
      "Val Epoch:37: 1it [00:00,  2.13it/s]\u001b[32m [repeated 3x across cluster]\u001b[0m\n"
     ]
    },
    {
     "name": "stdout",
     "output_type": "stream",
     "text": [
      "\u001b[36m(tune_with_parameters pid=2029255)\u001b[0m loss: 0.000\u001b[32m [repeated 14x across cluster]\u001b[0m\n"
     ]
    },
    {
     "name": "stderr",
     "output_type": "stream",
     "text": [
      "Val Epoch:38: 0it [00:00, ?it/s]029255)\u001b[0m \n",
      "Val Epoch:37: 47it [00:00, 54.21it/s]\u001b[32m [repeated 4x across cluster]\u001b[0m\n"
     ]
    },
    {
     "name": "stdout",
     "output_type": "stream",
     "text": [
      "\u001b[36m(tune_with_parameters pid=2029255)\u001b[0m loss: 0.000\u001b[32m [repeated 15x across cluster]\u001b[0m\n"
     ]
    },
    {
     "name": "stderr",
     "output_type": "stream",
     "text": [
      "Val Epoch:39: 0it [00:00, ?it/s]029255)\u001b[0m \n",
      "Val Epoch:39: 1it [00:00,  2.21it/s]\u001b[32m [repeated 6x across cluster]\u001b[0m\n"
     ]
    },
    {
     "name": "stdout",
     "output_type": "stream",
     "text": [
      "\u001b[36m(tune_with_parameters pid=2029255)\u001b[0m loss: 0.000\u001b[32m [repeated 15x across cluster]\u001b[0m\n"
     ]
    },
    {
     "name": "stderr",
     "output_type": "stream",
     "text": [
      "Val Epoch:40: 0it [00:00, ?it/s]029255)\u001b[0m \n",
      "Val Epoch:40: 12it [00:00, 60.45it/s]\u001b[32m [repeated 6x across cluster]\u001b[0m\n"
     ]
    },
    {
     "name": "stdout",
     "output_type": "stream",
     "text": [
      "\u001b[36m(tune_with_parameters pid=2029255)\u001b[0m loss: 0.000\u001b[32m [repeated 16x across cluster]\u001b[0m\n"
     ]
    },
    {
     "name": "stderr",
     "output_type": "stream",
     "text": [
      "Val Epoch:41: 0it [00:00, ?it/s]029255)\u001b[0m \n",
      "Val Epoch:41: 4it [00:00, 11.19it/s]\u001b[32m [repeated 5x across cluster]\u001b[0m\n"
     ]
    },
    {
     "name": "stdout",
     "output_type": "stream",
     "text": [
      "\u001b[36m(tune_with_parameters pid=2029255)\u001b[0m loss: 0.001\u001b[32m [repeated 14x across cluster]\u001b[0m\n"
     ]
    },
    {
     "name": "stderr",
     "output_type": "stream",
     "text": [
      "Val Epoch:42: 0it [00:00, ?it/s]029255)\u001b[0m \n",
      "Val Epoch:42: 1it [00:00,  3.28it/s]\u001b[32m [repeated 5x across cluster]\u001b[0m\n"
     ]
    },
    {
     "name": "stdout",
     "output_type": "stream",
     "text": [
      "\u001b[36m(tune_with_parameters pid=2029255)\u001b[0m loss: 0.000\u001b[32m [repeated 15x across cluster]\u001b[0m\n"
     ]
    },
    {
     "name": "stderr",
     "output_type": "stream",
     "text": [
      "Val Epoch:43: 0it [00:00, ?it/s]029255)\u001b[0m \n",
      "Val Epoch:42: 47it [00:00, 65.93it/s]\u001b[32m [repeated 4x across cluster]\u001b[0m\n"
     ]
    },
    {
     "name": "stdout",
     "output_type": "stream",
     "text": [
      "\u001b[36m(tune_with_parameters pid=2029255)\u001b[0m loss: 0.000\u001b[32m [repeated 15x across cluster]\u001b[0m\n"
     ]
    },
    {
     "name": "stderr",
     "output_type": "stream",
     "text": [
      "Val Epoch:44: 0it [00:00, ?it/s]029255)\u001b[0m \n",
      "Val Epoch:43: 47it [00:00, 73.49it/s]\u001b[32m [repeated 5x across cluster]\u001b[0m\n"
     ]
    },
    {
     "name": "stdout",
     "output_type": "stream",
     "text": [
      "\u001b[36m(tune_with_parameters pid=2029255)\u001b[0m loss: 0.000\u001b[32m [repeated 15x across cluster]\u001b[0m\n"
     ]
    },
    {
     "name": "stderr",
     "output_type": "stream",
     "text": [
      "Val Epoch:45: 0it [00:00, ?it/s]029255)\u001b[0m \n",
      "Val Epoch:45: 1it [00:00,  2.42it/s]\u001b[32m [repeated 6x across cluster]\u001b[0m\n"
     ]
    },
    {
     "name": "stdout",
     "output_type": "stream",
     "text": [
      "\u001b[36m(tune_with_parameters pid=2029255)\u001b[0m loss: 0.000\u001b[32m [repeated 15x across cluster]\u001b[0m\n"
     ]
    },
    {
     "name": "stderr",
     "output_type": "stream",
     "text": [
      "Val Epoch:46: 0it [00:00, ?it/s]029255)\u001b[0m \n",
      "Val Epoch:46: 1it [00:00,  1.88it/s]\u001b[32m [repeated 5x across cluster]\u001b[0m\n",
      "Val Epoch:46: 47it [00:00, 51.40it/s]5)\u001b[0m \n"
     ]
    },
    {
     "name": "stdout",
     "output_type": "stream",
     "text": [
      "\u001b[36m(tune_with_parameters pid=2029255)\u001b[0m loss: 0.000\u001b[32m [repeated 15x across cluster]\u001b[0m\n"
     ]
    },
    {
     "name": "stderr",
     "output_type": "stream",
     "text": [
      "Val Epoch:47: 0it [00:00, ?it/s]029255)\u001b[0m \n",
      "Val Epoch:46: 27it [00:00, 51.11it/s]\u001b[32m [repeated 2x across cluster]\u001b[0m\n"
     ]
    },
    {
     "name": "stdout",
     "output_type": "stream",
     "text": [
      "\u001b[36m(tune_with_parameters pid=2029255)\u001b[0m loss: 0.000\u001b[32m [repeated 15x across cluster]\u001b[0m\n"
     ]
    },
    {
     "name": "stderr",
     "output_type": "stream",
     "text": [
      "Val Epoch:48: 0it [00:00, ?it/s]029255)\u001b[0m \n",
      "Val Epoch:47: 47it [00:00, 102.54it/s]\u001b[32m [repeated 5x across cluster]\u001b[0m\n"
     ]
    },
    {
     "name": "stdout",
     "output_type": "stream",
     "text": [
      "\u001b[36m(tune_with_parameters pid=2029255)\u001b[0m loss: 0.000\u001b[32m [repeated 15x across cluster]\u001b[0m\n"
     ]
    },
    {
     "name": "stderr",
     "output_type": "stream",
     "text": [
      "Val Epoch:49: 0it [00:00, ?it/s]029255)\u001b[0m \n",
      "Val Epoch:48: 47it [00:00, 78.31it/s]\u001b[32m [repeated 5x across cluster]\u001b[0m\n"
     ]
    },
    {
     "name": "stdout",
     "output_type": "stream",
     "text": [
      "\u001b[36m(tune_with_parameters pid=2029255)\u001b[0m loss: 0.000\u001b[32m [repeated 15x across cluster]\u001b[0m\n"
     ]
    },
    {
     "name": "stderr",
     "output_type": "stream",
     "text": [
      "Val Epoch:50: 0it [00:00, ?it/s]029255)\u001b[0m \n",
      "Val Epoch:49: 47it [00:00, 67.99it/s]\u001b[32m [repeated 5x across cluster]\u001b[0m\n"
     ]
    },
    {
     "name": "stdout",
     "output_type": "stream",
     "text": [
      "\u001b[36m(tune_with_parameters pid=2029255)\u001b[0m loss: 0.000\u001b[32m [repeated 15x across cluster]\u001b[0m\n"
     ]
    },
    {
     "name": "stderr",
     "output_type": "stream",
     "text": [
      "Val Epoch:51: 0it [00:00, ?it/s]029255)\u001b[0m \n",
      "Val Epoch:50: 47it [00:00, 67.87it/s]\u001b[32m [repeated 5x across cluster]\u001b[0m\n"
     ]
    },
    {
     "name": "stdout",
     "output_type": "stream",
     "text": [
      "\u001b[36m(tune_with_parameters pid=2029255)\u001b[0m loss: 0.000\u001b[32m [repeated 15x across cluster]\u001b[0m\n"
     ]
    },
    {
     "name": "stderr",
     "output_type": "stream",
     "text": [
      "Val Epoch:52: 0it [00:00, ?it/s]029255)\u001b[0m \n",
      "Val Epoch:51: 47it [00:00, 72.44it/s]\u001b[32m [repeated 5x across cluster]\u001b[0m\n"
     ]
    },
    {
     "name": "stdout",
     "output_type": "stream",
     "text": [
      "\u001b[36m(tune_with_parameters pid=2029255)\u001b[0m loss: 0.000\u001b[32m [repeated 15x across cluster]\u001b[0m\n"
     ]
    },
    {
     "name": "stderr",
     "output_type": "stream",
     "text": [
      "Val Epoch:53: 0it [00:00, ?it/s]029255)\u001b[0m \n",
      "Val Epoch:52: 47it [00:00, 49.20it/s]\u001b[32m [repeated 6x across cluster]\u001b[0m\n"
     ]
    },
    {
     "name": "stdout",
     "output_type": "stream",
     "text": [
      "\u001b[36m(tune_with_parameters pid=2029255)\u001b[0m loss: 0.000\u001b[32m [repeated 15x across cluster]\u001b[0m\n"
     ]
    },
    {
     "name": "stderr",
     "output_type": "stream",
     "text": [
      "Val Epoch:54: 0it [00:00, ?it/s]029255)\u001b[0m \n",
      "Val Epoch:53: 47it [00:01, 46.35it/s]\u001b[32m [repeated 5x across cluster]\u001b[0m\n"
     ]
    },
    {
     "name": "stdout",
     "output_type": "stream",
     "text": [
      "\u001b[36m(tune_with_parameters pid=2029255)\u001b[0m loss: 0.000\u001b[32m [repeated 16x across cluster]\u001b[0m\n"
     ]
    },
    {
     "name": "stderr",
     "output_type": "stream",
     "text": [
      "Val Epoch:55: 0it [00:00, ?it/s]029255)\u001b[0m \n",
      "Val Epoch:54: 47it [00:00, 57.06it/s]\u001b[32m [repeated 5x across cluster]\u001b[0m\n"
     ]
    },
    {
     "name": "stdout",
     "output_type": "stream",
     "text": [
      "\u001b[36m(tune_with_parameters pid=2029255)\u001b[0m loss: 0.000\u001b[32m [repeated 16x across cluster]\u001b[0m\n"
     ]
    },
    {
     "name": "stderr",
     "output_type": "stream",
     "text": [
      "Val Epoch:56: 0it [00:00, ?it/s]029255)\u001b[0m \n",
      "Val Epoch:55: 47it [00:00, 72.30it/s]\u001b[32m [repeated 5x across cluster]\u001b[0m\n",
      "Val Epoch:56: 47it [00:00, 73.17it/s]5)\u001b[0m \n"
     ]
    },
    {
     "name": "stdout",
     "output_type": "stream",
     "text": [
      "\u001b[36m(tune_with_parameters pid=2029255)\u001b[0m loss: 0.000\u001b[32m [repeated 14x across cluster]\u001b[0m\n"
     ]
    },
    {
     "name": "stderr",
     "output_type": "stream",
     "text": [
      "Val Epoch:57: 0it [00:00, ?it/s]029255)\u001b[0m \n",
      "Val Epoch:56: 32it [00:00, 84.22it/s]\u001b[32m [repeated 4x across cluster]\u001b[0m\n"
     ]
    },
    {
     "name": "stdout",
     "output_type": "stream",
     "text": [
      "\u001b[36m(tune_with_parameters pid=2029255)\u001b[0m loss: 0.000\u001b[32m [repeated 15x across cluster]\u001b[0m\n"
     ]
    },
    {
     "name": "stderr",
     "output_type": "stream",
     "text": [
      "Val Epoch:58: 0it [00:00, ?it/s]029255)\u001b[0m \n",
      "Val Epoch:57: 47it [00:00, 82.21it/s]\u001b[32m [repeated 5x across cluster]\u001b[0m\n"
     ]
    },
    {
     "name": "stdout",
     "output_type": "stream",
     "text": [
      "\u001b[36m(tune_with_parameters pid=2029255)\u001b[0m loss: 0.000\u001b[32m [repeated 15x across cluster]\u001b[0m\n"
     ]
    },
    {
     "name": "stderr",
     "output_type": "stream",
     "text": [
      "Val Epoch:59: 0it [00:00, ?it/s]029255)\u001b[0m \n",
      "Val Epoch:58: 47it [00:00, 71.65it/s]\u001b[32m [repeated 5x across cluster]\u001b[0m\n"
     ]
    },
    {
     "name": "stdout",
     "output_type": "stream",
     "text": [
      "\u001b[36m(tune_with_parameters pid=2029255)\u001b[0m loss: 0.000\u001b[32m [repeated 15x across cluster]\u001b[0m\n"
     ]
    },
    {
     "name": "stderr",
     "output_type": "stream",
     "text": [
      "Val Epoch:60: 0it [00:00, ?it/s]029255)\u001b[0m \n",
      "Val Epoch:59: 47it [00:00, 68.77it/s]\u001b[32m [repeated 5x across cluster]\u001b[0m\n",
      "Val Epoch:60: 47it [00:00, 74.43it/s]5)\u001b[0m \n"
     ]
    },
    {
     "name": "stdout",
     "output_type": "stream",
     "text": [
      "\u001b[36m(tune_with_parameters pid=2029255)\u001b[0m loss: 0.000\u001b[32m [repeated 14x across cluster]\u001b[0m\n"
     ]
    },
    {
     "name": "stderr",
     "output_type": "stream",
     "text": [
      "Val Epoch:61: 0it [00:00, ?it/s]029255)\u001b[0m \n",
      "Val Epoch:60: 31it [00:00, 74.91it/s]\u001b[32m [repeated 4x across cluster]\u001b[0m\n"
     ]
    },
    {
     "name": "stdout",
     "output_type": "stream",
     "text": [
      "\u001b[36m(tune_with_parameters pid=2029255)\u001b[0m loss: 0.001\u001b[32m [repeated 15x across cluster]\u001b[0m\n"
     ]
    },
    {
     "name": "stderr",
     "output_type": "stream",
     "text": [
      "Val Epoch:62: 0it [00:00, ?it/s]029255)\u001b[0m \n",
      "Val Epoch:62: 1it [00:00,  1.73it/s]\u001b[32m [repeated 6x across cluster]\u001b[0m\n"
     ]
    },
    {
     "name": "stdout",
     "output_type": "stream",
     "text": [
      "\u001b[36m(tune_with_parameters pid=2029255)\u001b[0m loss: 0.000\u001b[32m [repeated 15x across cluster]\u001b[0m\n"
     ]
    },
    {
     "name": "stderr",
     "output_type": "stream",
     "text": [
      "Val Epoch:63: 0it [00:00, ?it/s]029255)\u001b[0m \n",
      "Val Epoch:63: 2it [00:00,  7.38it/s]\u001b[32m [repeated 5x across cluster]\u001b[0m\n",
      "Val Epoch:63: 47it [00:00, 69.97it/s]5)\u001b[0m \n"
     ]
    },
    {
     "name": "stdout",
     "output_type": "stream",
     "text": [
      "\u001b[36m(tune_with_parameters pid=2029255)\u001b[0m loss: 0.000\u001b[32m [repeated 15x across cluster]\u001b[0m\n"
     ]
    },
    {
     "name": "stderr",
     "output_type": "stream",
     "text": [
      "Val Epoch:64: 0it [00:00, ?it/s]029255)\u001b[0m \n",
      "Val Epoch:64: 1it [00:00,  2.56it/s]\u001b[32m [repeated 3x across cluster]\u001b[0m\n",
      "Val Epoch:64: 47it [00:00, 59.74it/s]5)\u001b[0m \n"
     ]
    },
    {
     "name": "stdout",
     "output_type": "stream",
     "text": [
      "\u001b[36m(tune_with_parameters pid=2029255)\u001b[0m loss: 0.000\u001b[32m [repeated 15x across cluster]\u001b[0m\n"
     ]
    },
    {
     "name": "stderr",
     "output_type": "stream",
     "text": [
      "Val Epoch:65: 0it [00:00, ?it/s]029255)\u001b[0m \n",
      "Val Epoch:65: 1it [00:00,  3.46it/s]\u001b[32m [repeated 3x across cluster]\u001b[0m\n"
     ]
    },
    {
     "name": "stdout",
     "output_type": "stream",
     "text": [
      "\u001b[36m(tune_with_parameters pid=2029255)\u001b[0m loss: 0.000\u001b[32m [repeated 15x across cluster]\u001b[0m\n"
     ]
    },
    {
     "name": "stderr",
     "output_type": "stream",
     "text": [
      "Val Epoch:66: 0it [00:00, ?it/s]029255)\u001b[0m \n",
      "Val Epoch:65: 47it [00:00, 65.79it/s]\u001b[32m [repeated 4x across cluster]\u001b[0m\n",
      "Val Epoch:66: 47it [00:00, 105.75it/s])\u001b[0m \n"
     ]
    },
    {
     "name": "stdout",
     "output_type": "stream",
     "text": [
      "\u001b[36m(tune_with_parameters pid=2029255)\u001b[0m loss: 0.000\u001b[32m [repeated 15x across cluster]\u001b[0m\n"
     ]
    },
    {
     "name": "stderr",
     "output_type": "stream",
     "text": [
      "Val Epoch:67: 0it [00:00, ?it/s]029255)\u001b[0m \n",
      "Val Epoch:67: 1it [00:00,  3.78it/s]\u001b[32m [repeated 4x across cluster]\u001b[0m\n",
      "Val Epoch:67: 47it [00:00, 66.20it/s]5)\u001b[0m \n"
     ]
    },
    {
     "name": "stdout",
     "output_type": "stream",
     "text": [
      "\u001b[36m(tune_with_parameters pid=2029255)\u001b[0m loss: 0.000\u001b[32m [repeated 15x across cluster]\u001b[0m\n"
     ]
    },
    {
     "name": "stderr",
     "output_type": "stream",
     "text": [
      "Val Epoch:68: 0it [00:00, ?it/s]029255)\u001b[0m \n",
      "Val Epoch:68: 1it [00:00,  6.32it/s]\u001b[32m [repeated 4x across cluster]\u001b[0m\n"
     ]
    },
    {
     "name": "stdout",
     "output_type": "stream",
     "text": [
      "\u001b[36m(tune_with_parameters pid=2029255)\u001b[0m loss: 0.000\u001b[32m [repeated 15x across cluster]\u001b[0m\n"
     ]
    },
    {
     "name": "stderr",
     "output_type": "stream",
     "text": [
      "Val Epoch:69: 0it [00:00, ?it/s]029255)\u001b[0m \n",
      "Val Epoch:69: 1it [00:00,  5.11it/s]\u001b[32m [repeated 5x across cluster]\u001b[0m\n"
     ]
    },
    {
     "name": "stdout",
     "output_type": "stream",
     "text": [
      "\u001b[36m(tune_with_parameters pid=2029255)\u001b[0m loss: 0.000\u001b[32m [repeated 15x across cluster]\u001b[0m\n"
     ]
    },
    {
     "name": "stderr",
     "output_type": "stream",
     "text": [
      "Val Epoch:70: 0it [00:00, ?it/s]029255)\u001b[0m \n",
      "Val Epoch:70: 1it [00:00,  2.85it/s]\u001b[32m [repeated 5x across cluster]\u001b[0m\n",
      "Val Epoch:70: 47it [00:00, 64.06it/s]5)\u001b[0m \n"
     ]
    },
    {
     "name": "stdout",
     "output_type": "stream",
     "text": [
      "\u001b[36m(tune_with_parameters pid=2029255)\u001b[0m loss: 0.000\u001b[32m [repeated 15x across cluster]\u001b[0m\n"
     ]
    },
    {
     "name": "stderr",
     "output_type": "stream",
     "text": [
      "Val Epoch:71: 0it [00:00, ?it/s]029255)\u001b[0m \n",
      "Val Epoch:71: 1it [00:01,  1.04s/it]\u001b[32m [repeated 3x across cluster]\u001b[0m\n"
     ]
    },
    {
     "name": "stdout",
     "output_type": "stream",
     "text": [
      "\u001b[36m(tune_with_parameters pid=2029255)\u001b[0m loss: 0.000\u001b[32m [repeated 15x across cluster]\u001b[0m\n"
     ]
    },
    {
     "name": "stderr",
     "output_type": "stream",
     "text": [
      "Val Epoch:72: 0it [00:00, ?it/s]029255)\u001b[0m \n",
      "Val Epoch:72: 2it [00:00,  6.03it/s]\u001b[32m [repeated 5x across cluster]\u001b[0m\n"
     ]
    },
    {
     "name": "stdout",
     "output_type": "stream",
     "text": [
      "\u001b[36m(tune_with_parameters pid=2029255)\u001b[0m loss: 0.000\u001b[32m [repeated 15x across cluster]\u001b[0m\n"
     ]
    },
    {
     "name": "stderr",
     "output_type": "stream",
     "text": [
      "Val Epoch:73: 0it [00:00, ?it/s]029255)\u001b[0m \n",
      "Val Epoch:73: 1it [00:00,  3.25it/s]\u001b[32m [repeated 5x across cluster]\u001b[0m\n"
     ]
    },
    {
     "name": "stdout",
     "output_type": "stream",
     "text": [
      "\u001b[36m(tune_with_parameters pid=2029255)\u001b[0m loss: 0.000\u001b[32m [repeated 15x across cluster]\u001b[0m\n"
     ]
    },
    {
     "name": "stderr",
     "output_type": "stream",
     "text": [
      "Val Epoch:74: 0it [00:00, ?it/s]029255)\u001b[0m \n",
      "Val Epoch:74: 2it [00:00,  4.90it/s]\u001b[32m [repeated 5x across cluster]\u001b[0m\n"
     ]
    },
    {
     "name": "stdout",
     "output_type": "stream",
     "text": [
      "\u001b[36m(tune_with_parameters pid=2029255)\u001b[0m loss: 0.000\u001b[32m [repeated 15x across cluster]\u001b[0m\n"
     ]
    },
    {
     "name": "stderr",
     "output_type": "stream",
     "text": [
      "Val Epoch:75: 0it [00:00, ?it/s]029255)\u001b[0m \n",
      "Val Epoch:75: 1it [00:00,  1.67it/s]\u001b[32m [repeated 5x across cluster]\u001b[0m\n"
     ]
    },
    {
     "name": "stdout",
     "output_type": "stream",
     "text": [
      "\u001b[36m(tune_with_parameters pid=2029255)\u001b[0m loss: 0.000\u001b[32m [repeated 15x across cluster]\u001b[0m\n"
     ]
    },
    {
     "name": "stderr",
     "output_type": "stream",
     "text": [
      "Val Epoch:76: 0it [00:00, ?it/s]029255)\u001b[0m \n",
      "Val Epoch:76: 8it [00:00, 70.25it/s]\u001b[32m [repeated 5x across cluster]\u001b[0m\n"
     ]
    },
    {
     "name": "stdout",
     "output_type": "stream",
     "text": [
      "\u001b[36m(tune_with_parameters pid=2029255)\u001b[0m loss: 0.001\u001b[32m [repeated 15x across cluster]\u001b[0m\n"
     ]
    },
    {
     "name": "stderr",
     "output_type": "stream",
     "text": [
      "Val Epoch:77: 0it [00:00, ?it/s]029255)\u001b[0m \n",
      "Val Epoch:77: 1it [00:00,  4.18it/s]\u001b[32m [repeated 4x across cluster]\u001b[0m\n"
     ]
    },
    {
     "name": "stdout",
     "output_type": "stream",
     "text": [
      "\u001b[36m(tune_with_parameters pid=2029255)\u001b[0m loss: 0.000\u001b[32m [repeated 15x across cluster]\u001b[0m\n"
     ]
    },
    {
     "name": "stderr",
     "output_type": "stream",
     "text": [
      "Val Epoch:78: 0it [00:00, ?it/s]029255)\u001b[0m \n",
      "Val Epoch:77: 47it [00:00, 72.99it/s]\u001b[32m [repeated 4x across cluster]\u001b[0m\n"
     ]
    },
    {
     "name": "stdout",
     "output_type": "stream",
     "text": [
      "\u001b[36m(tune_with_parameters pid=2029255)\u001b[0m loss: 0.000\u001b[32m [repeated 15x across cluster]\u001b[0m\n"
     ]
    },
    {
     "name": "stderr",
     "output_type": "stream",
     "text": [
      "Val Epoch:79: 0it [00:00, ?it/s]029255)\u001b[0m \n",
      "Val Epoch:78: 47it [00:00, 74.12it/s]\u001b[32m [repeated 5x across cluster]\u001b[0m\n",
      "Val Epoch:79: 47it [00:00, 61.32it/s]5)\u001b[0m \n"
     ]
    },
    {
     "name": "stdout",
     "output_type": "stream",
     "text": [
      "\u001b[36m(tune_with_parameters pid=2029255)\u001b[0m loss: 0.000\u001b[32m [repeated 15x across cluster]\u001b[0m\n"
     ]
    },
    {
     "name": "stderr",
     "output_type": "stream",
     "text": [
      "Val Epoch:80: 0it [00:00, ?it/s]029255)\u001b[0m \n",
      "Val Epoch:79: 25it [00:00, 59.56it/s]\u001b[32m [repeated 3x across cluster]\u001b[0m\n"
     ]
    },
    {
     "name": "stdout",
     "output_type": "stream",
     "text": [
      "\u001b[36m(tune_with_parameters pid=2029255)\u001b[0m loss: 0.000\u001b[32m [repeated 16x across cluster]\u001b[0m\n"
     ]
    },
    {
     "name": "stderr",
     "output_type": "stream",
     "text": [
      "Val Epoch:81: 0it [00:00, ?it/s]029255)\u001b[0m \n",
      "Val Epoch:80: 47it [00:00, 94.17it/s] \u001b[32m [repeated 5x across cluster]\u001b[0m\n"
     ]
    },
    {
     "name": "stdout",
     "output_type": "stream",
     "text": [
      "\u001b[36m(tune_with_parameters pid=2029255)\u001b[0m loss: 0.000\u001b[32m [repeated 14x across cluster]\u001b[0m\n"
     ]
    },
    {
     "name": "stderr",
     "output_type": "stream",
     "text": [
      "Val Epoch:82: 0it [00:00, ?it/s]029255)\u001b[0m \n",
      "Val Epoch:81: 47it [00:00, 58.70it/s]\u001b[32m [repeated 6x across cluster]\u001b[0m\n"
     ]
    },
    {
     "name": "stdout",
     "output_type": "stream",
     "text": [
      "\u001b[36m(tune_with_parameters pid=2029255)\u001b[0m loss: 0.000\u001b[32m [repeated 15x across cluster]\u001b[0m\n"
     ]
    },
    {
     "name": "stderr",
     "output_type": "stream",
     "text": [
      "Val Epoch:83: 0it [00:00, ?it/s]029255)\u001b[0m \n",
      "Val Epoch:82: 47it [00:00, 52.62it/s]\u001b[32m [repeated 6x across cluster]\u001b[0m\n"
     ]
    },
    {
     "name": "stdout",
     "output_type": "stream",
     "text": [
      "\u001b[36m(tune_with_parameters pid=2029255)\u001b[0m loss: 0.000\u001b[32m [repeated 15x across cluster]\u001b[0m\n"
     ]
    },
    {
     "name": "stderr",
     "output_type": "stream",
     "text": [
      "Val Epoch:84: 0it [00:00, ?it/s]029255)\u001b[0m \n",
      "Val Epoch:83: 47it [00:00, 61.13it/s]\u001b[32m [repeated 6x across cluster]\u001b[0m\n"
     ]
    },
    {
     "name": "stdout",
     "output_type": "stream",
     "text": [
      "\u001b[36m(tune_with_parameters pid=2029255)\u001b[0m loss: 0.000\u001b[32m [repeated 15x across cluster]\u001b[0m\n"
     ]
    },
    {
     "name": "stderr",
     "output_type": "stream",
     "text": [
      "Val Epoch:85: 0it [00:00, ?it/s]029255)\u001b[0m \n",
      "Val Epoch:84: 47it [00:00, 66.72it/s]\u001b[32m [repeated 6x across cluster]\u001b[0m\n"
     ]
    },
    {
     "name": "stdout",
     "output_type": "stream",
     "text": [
      "\u001b[36m(tune_with_parameters pid=2029255)\u001b[0m loss: 0.001\u001b[32m [repeated 15x across cluster]\u001b[0m\n"
     ]
    },
    {
     "name": "stderr",
     "output_type": "stream",
     "text": [
      "Val Epoch:86: 0it [00:00, ?it/s]029255)\u001b[0m \n",
      "Val Epoch:85: 47it [00:00, 61.81it/s]\u001b[32m [repeated 6x across cluster]\u001b[0m\n",
      "Val Epoch:86: 47it [00:00, 73.11it/s]5)\u001b[0m \n"
     ]
    },
    {
     "name": "stdout",
     "output_type": "stream",
     "text": [
      "\u001b[36m(tune_with_parameters pid=2029255)\u001b[0m loss: 0.000\u001b[32m [repeated 16x across cluster]\u001b[0m\n"
     ]
    },
    {
     "name": "stderr",
     "output_type": "stream",
     "text": [
      "Val Epoch:87: 0it [00:00, ?it/s]029255)\u001b[0m \n",
      "Val Epoch:87: 2it [00:00,  5.96it/s]\u001b[32m [repeated 5x across cluster]\u001b[0m\n",
      "Val Epoch:87: 47it [00:00, 54.23it/s]5)\u001b[0m \n"
     ]
    },
    {
     "name": "stdout",
     "output_type": "stream",
     "text": [
      "\u001b[36m(tune_with_parameters pid=2029255)\u001b[0m loss: 0.000\u001b[32m [repeated 14x across cluster]\u001b[0m\n"
     ]
    },
    {
     "name": "stderr",
     "output_type": "stream",
     "text": [
      "Val Epoch:88: 0it [00:00, ?it/s]029255)\u001b[0m \n",
      "Val Epoch:88: 1it [00:00,  2.86it/s]\u001b[32m [repeated 4x across cluster]\u001b[0m\n"
     ]
    },
    {
     "name": "stdout",
     "output_type": "stream",
     "text": [
      "\u001b[36m(tune_with_parameters pid=2029255)\u001b[0m loss: 0.000\u001b[32m [repeated 15x across cluster]\u001b[0m\n"
     ]
    },
    {
     "name": "stderr",
     "output_type": "stream",
     "text": [
      "Val Epoch:89: 0it [00:00, ?it/s]029255)\u001b[0m \n",
      "Val Epoch:88: 47it [00:00, 54.90it/s]\u001b[32m [repeated 5x across cluster]\u001b[0m\n"
     ]
    },
    {
     "name": "stdout",
     "output_type": "stream",
     "text": [
      "\u001b[36m(tune_with_parameters pid=2029255)\u001b[0m loss: 0.000\u001b[32m [repeated 15x across cluster]\u001b[0m\n"
     ]
    },
    {
     "name": "stderr",
     "output_type": "stream",
     "text": [
      "Val Epoch:90: 0it [00:00, ?it/s]029255)\u001b[0m \n",
      "Val Epoch:89: 47it [00:00, 59.37it/s]\u001b[32m [repeated 6x across cluster]\u001b[0m\n"
     ]
    },
    {
     "name": "stdout",
     "output_type": "stream",
     "text": [
      "\u001b[36m(tune_with_parameters pid=2029255)\u001b[0m loss: 0.000\u001b[32m [repeated 15x across cluster]\u001b[0m\n"
     ]
    },
    {
     "name": "stderr",
     "output_type": "stream",
     "text": [
      "Val Epoch:91: 0it [00:00, ?it/s]029255)\u001b[0m \n",
      "Val Epoch:90: 47it [00:00, 77.63it/s]\u001b[32m [repeated 6x across cluster]\u001b[0m\n",
      "Val Epoch:91: 47it [00:00, 57.30it/s]5)\u001b[0m \n"
     ]
    },
    {
     "name": "stdout",
     "output_type": "stream",
     "text": [
      "\u001b[36m(tune_with_parameters pid=2029255)\u001b[0m loss: 0.000\u001b[32m [repeated 15x across cluster]\u001b[0m\n"
     ]
    },
    {
     "name": "stderr",
     "output_type": "stream",
     "text": [
      "Val Epoch:92: 0it [00:00, ?it/s]029255)\u001b[0m \n",
      "Val Epoch:91: 27it [00:00, 52.98it/s]\u001b[32m [repeated 4x across cluster]\u001b[0m\n"
     ]
    },
    {
     "name": "stdout",
     "output_type": "stream",
     "text": [
      "\u001b[36m(tune_with_parameters pid=2029255)\u001b[0m loss: 0.000\u001b[32m [repeated 15x across cluster]\u001b[0m\n"
     ]
    },
    {
     "name": "stderr",
     "output_type": "stream",
     "text": [
      "Val Epoch:93: 0it [00:00, ?it/s]029255)\u001b[0m \n",
      "Val Epoch:92: 47it [00:00, 49.95it/s]\u001b[32m [repeated 5x across cluster]\u001b[0m\n"
     ]
    },
    {
     "name": "stdout",
     "output_type": "stream",
     "text": [
      "\u001b[36m(tune_with_parameters pid=2029255)\u001b[0m loss: 0.000\u001b[32m [repeated 15x across cluster]\u001b[0m\n"
     ]
    },
    {
     "name": "stderr",
     "output_type": "stream",
     "text": [
      "Val Epoch:94: 0it [00:00, ?it/s]029255)\u001b[0m \n",
      "Val Epoch:93: 47it [00:01, 43.93it/s]\u001b[32m [repeated 5x across cluster]\u001b[0m\n",
      "2024-08-19 13:52:41,275\tINFO tune.py:1009 -- Wrote the latest version of all result files and experiment state to '/scratch/users/k23058970/Model training/results/Single Peak Conv Null/tune_with_parameters_2024-08-19_13-25-03' in 0.0507s.\n",
      "2024-08-19 13:52:41,301\tERROR tune.py:1037 -- Trials did not complete: [tune_with_parameters_21b89_00000, tune_with_parameters_21b89_00003, tune_with_parameters_21b89_00005]\n",
      "2024-08-19 13:52:41,304\tINFO tune.py:1041 -- Total run time: 1627.38 seconds (1627.28 seconds for the tuning loop).\n",
      "/users/k23058970/miniforge3/envs/Training/lib/python3.10/site-packages/torch/nn/modules/lazy.py:181: UserWarning: Lazy modules are a new feature under heavy development so changes to the API or functionality can happen at any moment.\n",
      "  warnings.warn('Lazy modules are a new feature under heavy development '\n"
     ]
    },
    {
     "name": "stdout",
     "output_type": "stream",
     "text": [
      "Best trial config: {'nc1': 256, 'k1': 7, 'nc2': 128, 'k2': 1, 'nc3': 256, 'k3': 3, 'nc4': 128, 'k4': 1, 'dp': 0.2, 'l1': 128, 'l2': 16384, 'lr': 0.04256213497278301}\n",
      "Best trial final validation loss: 2.094655798105893e-06\n",
      "Best trial final validation accuracy: 1.0\n",
      "Best trial f1-score: 1.0\n"
     ]
    },
    {
     "name": "stderr",
     "output_type": "stream",
     "text": [
      "Test Epoch:   0%|          | 0/6 [00:03<?, ?it/s]\n"
     ]
    },
    {
     "ename": "AttributeError",
     "evalue": "'builtin_function_or_method' object has no attribute 'numpy'",
     "output_type": "error",
     "traceback": [
      "\u001b[0;31m---------------------------------------------------------------------------\u001b[0m",
      "\u001b[0;31mAttributeError\u001b[0m                            Traceback (most recent call last)",
      "Cell \u001b[0;32mIn[2], line 2\u001b[0m\n\u001b[1;32m      1\u001b[0m DATASET_DIR \u001b[38;5;241m=\u001b[39m \u001b[38;5;124m\"\u001b[39m\u001b[38;5;124m/scratch/users/k23058970/Model training/Null Dataset/Single Peak\u001b[39m\u001b[38;5;124m\"\u001b[39m\n\u001b[0;32m----> 2\u001b[0m \u001b[43mmain\u001b[49m\u001b[43m(\u001b[49m\u001b[43mdataset_dir\u001b[49m\u001b[38;5;241;43m=\u001b[39;49m\u001b[43mDATASET_DIR\u001b[49m\u001b[43m,\u001b[49m\u001b[43mdset_name\u001b[49m\u001b[43m \u001b[49m\u001b[38;5;241;43m=\u001b[39;49m\u001b[43m \u001b[49m\u001b[38;5;124;43m\"\u001b[39;49m\u001b[38;5;124;43mSingle Peak Conv Null\u001b[39;49m\u001b[38;5;124;43m\"\u001b[39;49m\u001b[43m)\u001b[49m\n",
      "File \u001b[0;32m/scratch/users/k23058970/Model training/training_insilico_conv.py:366\u001b[0m, in \u001b[0;36mmain\u001b[0;34m(dataset_dir, num_samples, max_num_epochs, gpus_per_trial, dset_name)\u001b[0m\n\u001b[1;32m    360\u001b[0m \u001b[38;5;28mprint\u001b[39m(\u001b[38;5;124m\"\u001b[39m\u001b[38;5;124mBest trial final validation accuracy: \u001b[39m\u001b[38;5;132;01m{}\u001b[39;00m\u001b[38;5;124m\"\u001b[39m\u001b[38;5;241m.\u001b[39mformat(\n\u001b[1;32m    361\u001b[0m     best_result\u001b[38;5;241m.\u001b[39mmetrics[\u001b[38;5;124m\"\u001b[39m\u001b[38;5;124maccuracy\u001b[39m\u001b[38;5;124m\"\u001b[39m]))\n\u001b[1;32m    362\u001b[0m \u001b[38;5;28mprint\u001b[39m(\u001b[38;5;124m\"\u001b[39m\u001b[38;5;124mBest trial f1-score: \u001b[39m\u001b[38;5;132;01m{}\u001b[39;00m\u001b[38;5;124m\"\u001b[39m\u001b[38;5;241m.\u001b[39mformat(\n\u001b[1;32m    363\u001b[0m     best_result\u001b[38;5;241m.\u001b[39mmetrics[\u001b[38;5;124m'\u001b[39m\u001b[38;5;124mf1\u001b[39m\u001b[38;5;124m'\u001b[39m]\n\u001b[1;32m    364\u001b[0m ))\n\u001b[0;32m--> 366\u001b[0m \u001b[43mtest_best_model\u001b[49m\u001b[43m(\u001b[49m\u001b[43mbest_result\u001b[49m\u001b[43m,\u001b[49m\u001b[43mdataset_dir\u001b[49m\u001b[38;5;241;43m=\u001b[39;49m\u001b[43mdataset_dir\u001b[49m\u001b[43m)\u001b[49m\n",
      "File \u001b[0;32m/scratch/users/k23058970/Model training/training_insilico_conv.py:313\u001b[0m, in \u001b[0;36mtest_best_model\u001b[0;34m(best_config, dataset_dir)\u001b[0m\n\u001b[1;32m    311\u001b[0m         _, predicted \u001b[38;5;241m=\u001b[39m torch\u001b[38;5;241m.\u001b[39mmax(outputs\u001b[38;5;241m.\u001b[39mdata, \u001b[38;5;241m1\u001b[39m)\n\u001b[1;32m    312\u001b[0m         total \u001b[38;5;241m+\u001b[39m\u001b[38;5;241m=\u001b[39m labels\u001b[38;5;241m.\u001b[39msize(\u001b[38;5;241m0\u001b[39m)\n\u001b[0;32m--> 313\u001b[0m         f1\u001b[38;5;241m.\u001b[39mlog(torch\u001b[38;5;241m.\u001b[39margmax(outputs,\u001b[38;5;241m-\u001b[39m\u001b[38;5;241m1\u001b[39m)\u001b[38;5;241m.\u001b[39mcpu()\u001b[38;5;241m.\u001b[39mnumpy(),\u001b[43mlabels\u001b[49m\u001b[38;5;241;43m.\u001b[39;49m\u001b[43mcpu\u001b[49m\u001b[38;5;241;43m.\u001b[39;49m\u001b[43mnumpy\u001b[49m())\n\u001b[1;32m    314\u001b[0m         correct \u001b[38;5;241m+\u001b[39m\u001b[38;5;241m=\u001b[39m (predicted \u001b[38;5;241m==\u001b[39m labels)\u001b[38;5;241m.\u001b[39msum()\u001b[38;5;241m.\u001b[39mitem()\n\u001b[1;32m    316\u001b[0m \u001b[38;5;28mprint\u001b[39m(\u001b[38;5;124m\"\u001b[39m\u001b[38;5;124mBest Test Set Accuracy:\u001b[39m\u001b[38;5;132;01m{}\u001b[39;00m\u001b[38;5;124m\"\u001b[39m\u001b[38;5;241m.\u001b[39mformat(correct\u001b[38;5;241m/\u001b[39mtotal))\n",
      "\u001b[0;31mAttributeError\u001b[0m: 'builtin_function_or_method' object has no attribute 'numpy'"
     ]
    }
   ],
   "source": [
    "DATASET_DIR = \"/scratch/users/k23058970/Model training/Null Dataset/Double Peak\"\n",
    "main(dataset_dir=DATASET_DIR,dset_name = \"Double Peak Conv Null\")"
   ]
  },
  {
   "cell_type": "code",
   "execution_count": null,
   "metadata": {},
   "outputs": [],
   "source": []
  }
 ],
 "metadata": {
  "kernelspec": {
   "display_name": "Training",
   "language": "python",
   "name": "training"
  },
  "language_info": {
   "codemirror_mode": {
    "name": "ipython",
    "version": 3
   },
   "file_extension": ".py",
   "mimetype": "text/x-python",
   "name": "python",
   "nbconvert_exporter": "python",
   "pygments_lexer": "ipython3",
   "version": "3.10.14"
  }
 },
 "nbformat": 4,
 "nbformat_minor": 4
}
