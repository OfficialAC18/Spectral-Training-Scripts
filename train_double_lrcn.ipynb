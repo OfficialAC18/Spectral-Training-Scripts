{
 "cells": [
  {
   "cell_type": "code",
   "execution_count": 1,
   "metadata": {},
   "outputs": [],
   "source": [
    "#Call Main and let it run\n",
    "from training_insilico_lrcn import main"
   ]
  },
  {
   "cell_type": "code",
   "execution_count": 2,
   "metadata": {},
   "outputs": [
    {
     "data": {
      "text/html": [
       "<div class=\"tuneStatus\">\n",
       "  <div style=\"display: flex;flex-direction: row\">\n",
       "    <div style=\"display: flex;flex-direction: column;\">\n",
       "      <h3>Tune Status</h3>\n",
       "      <table>\n",
       "<tbody>\n",
       "<tr><td>Current time:</td><td>2024-08-19 22:38:06</td></tr>\n",
       "<tr><td>Running for: </td><td>00:42:52.35        </td></tr>\n",
       "<tr><td>Memory:      </td><td>63.3/1007.5 GiB    </td></tr>\n",
       "</tbody>\n",
       "</table>\n",
       "    </div>\n",
       "    <div class=\"vDivider\"></div>\n",
       "    <div class=\"systemInfo\">\n",
       "      <h3>System Info</h3>\n",
       "      Using AsyncHyperBand: num_stopped=9<br>Bracket: Iter 60.000: -0.01594437938307392 | Iter 30.000: -0.036995952790404886 | Iter 15.000: -0.49166663910480257<br>Logical resource usage: 24.0/96 CPUs, 0.5/1 GPUs (0.0/1.0 accelerator_type:A30)\n",
       "    </div>\n",
       "    <div class=\"vDivider\"></div>\n",
       "<div class=\"messages\">\n",
       "  <h3>Messages</h3>\n",
       "  \n",
       "  \n",
       "  Number of errored trials: 1<br><table>\n",
       "<thead>\n",
       "<tr><th>Trial name                      </th><th style=\"text-align: right;\">  # failures</th><th>error file                                                                                                                                                                                                                                          </th></tr>\n",
       "</thead>\n",
       "<tbody>\n",
       "<tr><td>tune_with_parameters_54ae7_00004</td><td style=\"text-align: right;\">           1</td><td>/tmp/ray/session_2024-08-19_21-54-39_857059_2246900/artifacts/2024-08-19_21-55-13/tune_with_parameters_2024-08-19_21-54-39/driver_artifacts/tune_with_parameters_54ae7_00004_4_dp=0.2500,k1=5,k2=5,k3=5,k4=5,lr=0.0786_2024-08-19_21-55-13/error.txt</td></tr>\n",
       "</tbody>\n",
       "</table>\n",
       "</div>\n",
       "<style>\n",
       ".messages {\n",
       "  color: var(--jp-ui-font-color1);\n",
       "  display: flex;\n",
       "  flex-direction: column;\n",
       "  padding-left: 1em;\n",
       "  overflow-y: auto;\n",
       "}\n",
       ".messages h3 {\n",
       "  font-weight: bold;\n",
       "}\n",
       ".vDivider {\n",
       "  border-left-width: var(--jp-border-width);\n",
       "  border-left-color: var(--jp-border-color0);\n",
       "  border-left-style: solid;\n",
       "  margin: 0.5em 1em 0.5em 1em;\n",
       "}\n",
       "</style>\n",
       "\n",
       "  </div>\n",
       "  <div class=\"hDivider\"></div>\n",
       "  <div class=\"trialStatus\">\n",
       "    <h3>Trial Status</h3>\n",
       "    <table>\n",
       "<thead>\n",
       "<tr><th>Trial name                      </th><th>status    </th><th>loc               </th><th style=\"text-align: right;\">  dp</th><th style=\"text-align: right;\">  k1</th><th style=\"text-align: right;\">  k2</th><th style=\"text-align: right;\">  k3</th><th style=\"text-align: right;\">  k4</th><th style=\"text-align: right;\">        lr</th><th style=\"text-align: right;\">  iter</th><th style=\"text-align: right;\">  total time (s)</th><th style=\"text-align: right;\">      loss</th><th style=\"text-align: right;\">  accuracy</th><th style=\"text-align: right;\">      f1</th></tr>\n",
       "</thead>\n",
       "<tbody>\n",
       "<tr><td>tune_with_parameters_54ae7_00000</td><td>TERMINATED</td><td>10.211.4.4:2257447</td><td style=\"text-align: right;\">0.25</td><td style=\"text-align: right;\">   3</td><td style=\"text-align: right;\">   3</td><td style=\"text-align: right;\">   5</td><td style=\"text-align: right;\">   3</td><td style=\"text-align: right;\">0.00114921</td><td style=\"text-align: right;\">    15</td><td style=\"text-align: right;\">        100.619 </td><td style=\"text-align: right;\">1.09819   </td><td style=\"text-align: right;\">  0.354333</td><td style=\"text-align: right;\">0.336975</td></tr>\n",
       "<tr><td>tune_with_parameters_54ae7_00001</td><td>TERMINATED</td><td>10.211.4.4:2257448</td><td style=\"text-align: right;\">0.2 </td><td style=\"text-align: right;\">   1</td><td style=\"text-align: right;\">   3</td><td style=\"text-align: right;\">   5</td><td style=\"text-align: right;\">   1</td><td style=\"text-align: right;\">0.00693078</td><td style=\"text-align: right;\">   100</td><td style=\"text-align: right;\">        605.709 </td><td style=\"text-align: right;\">0.00833816</td><td style=\"text-align: right;\">  0.996   </td><td style=\"text-align: right;\">0.995996</td></tr>\n",
       "<tr><td>tune_with_parameters_54ae7_00002</td><td>TERMINATED</td><td>10.211.4.4:2272128</td><td style=\"text-align: right;\">0.25</td><td style=\"text-align: right;\">   5</td><td style=\"text-align: right;\">   3</td><td style=\"text-align: right;\">   3</td><td style=\"text-align: right;\">   1</td><td style=\"text-align: right;\">0.0141285 </td><td style=\"text-align: right;\">   100</td><td style=\"text-align: right;\">        998.901 </td><td style=\"text-align: right;\">0.0173434 </td><td style=\"text-align: right;\">  0.996333</td><td style=\"text-align: right;\">0.996331</td></tr>\n",
       "<tr><td>tune_with_parameters_54ae7_00003</td><td>TERMINATED</td><td>10.211.4.4:2336775</td><td style=\"text-align: right;\">0.25</td><td style=\"text-align: right;\">   1</td><td style=\"text-align: right;\">   3</td><td style=\"text-align: right;\">   1</td><td style=\"text-align: right;\">   3</td><td style=\"text-align: right;\">0.00715289</td><td style=\"text-align: right;\">   100</td><td style=\"text-align: right;\">        750.324 </td><td style=\"text-align: right;\">0.0101117 </td><td style=\"text-align: right;\">  0.997   </td><td style=\"text-align: right;\">0.997   </td></tr>\n",
       "<tr><td>tune_with_parameters_54ae7_00005</td><td>TERMINATED</td><td>10.211.4.4:2428921</td><td style=\"text-align: right;\">0.25</td><td style=\"text-align: right;\">   3</td><td style=\"text-align: right;\">   1</td><td style=\"text-align: right;\">   1</td><td style=\"text-align: right;\">   1</td><td style=\"text-align: right;\">0.0262178 </td><td style=\"text-align: right;\">   100</td><td style=\"text-align: right;\">       1425.71  </td><td style=\"text-align: right;\">0.00700284</td><td style=\"text-align: right;\">  0.997667</td><td style=\"text-align: right;\">0.997666</td></tr>\n",
       "<tr><td>tune_with_parameters_54ae7_00006</td><td>TERMINATED</td><td>10.211.4.4:2456423</td><td style=\"text-align: right;\">0.5 </td><td style=\"text-align: right;\">   3</td><td style=\"text-align: right;\">   3</td><td style=\"text-align: right;\">   1</td><td style=\"text-align: right;\">   1</td><td style=\"text-align: right;\">0.0565652 </td><td style=\"text-align: right;\">    30</td><td style=\"text-align: right;\">        127.174 </td><td style=\"text-align: right;\">0.0905741 </td><td style=\"text-align: right;\">  0.953667</td><td style=\"text-align: right;\">0.954049</td></tr>\n",
       "<tr><td>tune_with_parameters_54ae7_00007</td><td>TERMINATED</td><td>10.211.4.4:2471028</td><td style=\"text-align: right;\">0.5 </td><td style=\"text-align: right;\">   3</td><td style=\"text-align: right;\">   5</td><td style=\"text-align: right;\">   3</td><td style=\"text-align: right;\">   5</td><td style=\"text-align: right;\">0.00499851</td><td style=\"text-align: right;\">    15</td><td style=\"text-align: right;\">         93.5231</td><td style=\"text-align: right;\">1.09831   </td><td style=\"text-align: right;\">  0.347333</td><td style=\"text-align: right;\">0.333439</td></tr>\n",
       "<tr><td>tune_with_parameters_54ae7_00008</td><td>TERMINATED</td><td>10.211.4.4:2482410</td><td style=\"text-align: right;\">0.5 </td><td style=\"text-align: right;\">   3</td><td style=\"text-align: right;\">   1</td><td style=\"text-align: right;\">   1</td><td style=\"text-align: right;\">   1</td><td style=\"text-align: right;\">0.0883653 </td><td style=\"text-align: right;\">    30</td><td style=\"text-align: right;\">        162.095 </td><td style=\"text-align: right;\">0.0801124 </td><td style=\"text-align: right;\">  0.951667</td><td style=\"text-align: right;\">0.952374</td></tr>\n",
       "<tr><td>tune_with_parameters_54ae7_00009</td><td>TERMINATED</td><td>10.211.4.4:2503034</td><td style=\"text-align: right;\">0.25</td><td style=\"text-align: right;\">   3</td><td style=\"text-align: right;\">   5</td><td style=\"text-align: right;\">   3</td><td style=\"text-align: right;\">   3</td><td style=\"text-align: right;\">0.0158998 </td><td style=\"text-align: right;\">    60</td><td style=\"text-align: right;\">        456.278 </td><td style=\"text-align: right;\">0.0379427 </td><td style=\"text-align: right;\">  0.993667</td><td style=\"text-align: right;\">0.993651</td></tr>\n",
       "<tr><td>tune_with_parameters_54ae7_00004</td><td>ERROR     </td><td>10.211.4.4:2427221</td><td style=\"text-align: right;\">0.25</td><td style=\"text-align: right;\">   5</td><td style=\"text-align: right;\">   5</td><td style=\"text-align: right;\">   5</td><td style=\"text-align: right;\">   5</td><td style=\"text-align: right;\">0.0786217 </td><td style=\"text-align: right;\">      </td><td style=\"text-align: right;\">                </td><td style=\"text-align: right;\">          </td><td style=\"text-align: right;\">          </td><td style=\"text-align: right;\">        </td></tr>\n",
       "</tbody>\n",
       "</table>\n",
       "  </div>\n",
       "</div>\n",
       "<style>\n",
       ".tuneStatus {\n",
       "  color: var(--jp-ui-font-color1);\n",
       "}\n",
       ".tuneStatus .systemInfo {\n",
       "  display: flex;\n",
       "  flex-direction: column;\n",
       "}\n",
       ".tuneStatus td {\n",
       "  white-space: nowrap;\n",
       "}\n",
       ".tuneStatus .trialStatus {\n",
       "  display: flex;\n",
       "  flex-direction: column;\n",
       "}\n",
       ".tuneStatus h3 {\n",
       "  font-weight: bold;\n",
       "}\n",
       ".tuneStatus .hDivider {\n",
       "  border-bottom-width: var(--jp-border-width);\n",
       "  border-bottom-color: var(--jp-border-color0);\n",
       "  border-bottom-style: solid;\n",
       "}\n",
       ".tuneStatus .vDivider {\n",
       "  border-left-width: var(--jp-border-width);\n",
       "  border-left-color: var(--jp-border-color0);\n",
       "  border-left-style: solid;\n",
       "  margin: 0.5em 1em 0.5em 1em;\n",
       "}\n",
       "</style>\n"
      ],
      "text/plain": [
       "<IPython.core.display.HTML object>"
      ]
     },
     "metadata": {},
     "output_type": "display_data"
    },
    {
     "name": "stderr",
     "output_type": "stream",
     "text": [
      "\u001b[36m(tune_with_parameters pid=2257448)\u001b[0m /users/k23058970/miniforge3/envs/Training/lib/python3.10/site-packages/torch/nn/modules/lazy.py:181: UserWarning: Lazy modules are a new feature under heavy development so changes to the API or functionality can happen at any moment.\n",
      "\u001b[36m(tune_with_parameters pid=2257448)\u001b[0m   warnings.warn('Lazy modules are a new feature under heavy development '\n"
     ]
    },
    {
     "name": "stdout",
     "output_type": "stream",
     "text": [
      "\u001b[36m(tune_with_parameters pid=2257448)\u001b[0m loss: 1.111\n",
      "\u001b[36m(tune_with_parameters pid=2257447)\u001b[0m loss: 1.099\u001b[32m [repeated 28x across cluster] (Ray deduplicates logs by default. Set RAY_DEDUP_LOGS=0 to disable log deduplication, or see https://docs.ray.io/en/master/ray-observability/user-guides/configure-logging.html#log-deduplication for more options.)\u001b[0m\n"
     ]
    },
    {
     "name": "stderr",
     "output_type": "stream",
     "text": [
      "Val Epoch:0: 0it [00:00, ?it/s]2257447)\u001b[0m \n",
      "\u001b[36m(tune_with_parameters pid=2257447)\u001b[0m /users/k23058970/miniforge3/envs/Training/lib/python3.10/site-packages/torch/nn/modules/lazy.py:181: UserWarning: Lazy modules are a new feature under heavy development so changes to the API or functionality can happen at any moment.\n",
      "\u001b[36m(tune_with_parameters pid=2257447)\u001b[0m   warnings.warn('Lazy modules are a new feature under heavy development '\n",
      "Val Epoch:0: 1it [00:00,  1.28it/s]447)\u001b[0m \n",
      "Val Epoch:0: 15it [00:00, 24.07it/s]48)\u001b[0m \n",
      "\u001b[36m(tune_with_parameters pid=2257448)\u001b[0m /scratch/users/k23058970/Model training/training_insilico_lrcn.py:63: RuntimeWarning: invalid value encountered in divide\n",
      "\u001b[36m(tune_with_parameters pid=2257448)\u001b[0m   self.precision = self.tp/(self.tp + self.fp)\n"
     ]
    },
    {
     "name": "stdout",
     "output_type": "stream",
     "text": [
      "\u001b[36m(tune_with_parameters pid=2257448)\u001b[0m /tmp/tmpjphvb2ns/checkpoint.pt\n"
     ]
    },
    {
     "name": "stderr",
     "output_type": "stream",
     "text": [
      "\u001b[36m(tune_with_parameters pid=2257448)\u001b[0m Checkpoint successfully created at: Checkpoint(filesystem=local, path=/scratch/users/k23058970/Model training/results/Double Peak LRCN Null/tune_with_parameters_2024-08-19_21-54-39/tune_with_parameters_54ae7_00001_1_dp=0.2000,k1=1,k2=3,k3=5,k4=1,lr=0.0069_2024-08-19_21-55-13/checkpoint_000000)\n"
     ]
    },
    {
     "name": "stdout",
     "output_type": "stream",
     "text": [
      "\u001b[36m(tune_with_parameters pid=2257447)\u001b[0m /tmp/tmpgmmp6s_t/checkpoint.pt\n",
      "\u001b[36m(tune_with_parameters pid=2257448)\u001b[0m loss: 1.099\u001b[32m [repeated 4x across cluster]\u001b[0m\n"
     ]
    },
    {
     "name": "stderr",
     "output_type": "stream",
     "text": [
      "Val Epoch:1: 0it [00:00, ?it/s]\u001b[32m [repeated 2x across cluster]\u001b[0m\n",
      "Val Epoch:0: 47it [00:02, 16.72it/s]\u001b[32m [repeated 25x across cluster]\u001b[0m\n",
      "\u001b[36m(tune_with_parameters pid=2257447)\u001b[0m /scratch/users/k23058970/Model training/training_insilico_lrcn.py:63: RuntimeWarning: invalid value encountered in divide\n",
      "\u001b[36m(tune_with_parameters pid=2257447)\u001b[0m   self.precision = self.tp/(self.tp + self.fp)\n",
      "\u001b[36m(tune_with_parameters pid=2257447)\u001b[0m Checkpoint successfully created at: Checkpoint(filesystem=local, path=/scratch/users/k23058970/Model training/results/Double Peak LRCN Null/tune_with_parameters_2024-08-19_21-54-39/tune_with_parameters_54ae7_00000_0_dp=0.2500,k1=3,k2=3,k3=5,k4=3,lr=0.0011_2024-08-19_21-55-13/checkpoint_000000)\n"
     ]
    },
    {
     "name": "stdout",
     "output_type": "stream",
     "text": [
      "\u001b[36m(tune_with_parameters pid=2257447)\u001b[0m loss: 1.099\u001b[32m [repeated 25x across cluster]\u001b[0m\n",
      "\u001b[36m(tune_with_parameters pid=2257448)\u001b[0m /tmp/tmp7h19j5fn/checkpoint.pt\n"
     ]
    },
    {
     "name": "stderr",
     "output_type": "stream",
     "text": [
      "\u001b[36m(tune_with_parameters pid=2257448)\u001b[0m Checkpoint successfully created at: Checkpoint(filesystem=local, path=/scratch/users/k23058970/Model training/results/Double Peak LRCN Null/tune_with_parameters_2024-08-19_21-54-39/tune_with_parameters_54ae7_00001_1_dp=0.2000,k1=1,k2=3,k3=5,k4=1,lr=0.0069_2024-08-19_21-55-13/checkpoint_000001)\n"
     ]
    },
    {
     "name": "stdout",
     "output_type": "stream",
     "text": [
      "\u001b[36m(tune_with_parameters pid=2257447)\u001b[0m /tmp/tmptw13u5nu/checkpoint.pt\n",
      "\u001b[36m(tune_with_parameters pid=2257448)\u001b[0m loss: 1.097\u001b[32m [repeated 8x across cluster]\u001b[0m\n"
     ]
    },
    {
     "name": "stderr",
     "output_type": "stream",
     "text": [
      "Val Epoch:2: 0it [00:00, ?it/s]\u001b[32m [repeated 2x across cluster]\u001b[0m\n",
      "Val Epoch:1: 47it [00:02, 22.99it/s]\u001b[32m [repeated 22x across cluster]\u001b[0m\n",
      "\u001b[36m(tune_with_parameters pid=2257447)\u001b[0m Checkpoint successfully created at: Checkpoint(filesystem=local, path=/scratch/users/k23058970/Model training/results/Double Peak LRCN Null/tune_with_parameters_2024-08-19_21-54-39/tune_with_parameters_54ae7_00000_0_dp=0.2500,k1=3,k2=3,k3=5,k4=3,lr=0.0011_2024-08-19_21-55-13/checkpoint_000001)\n",
      "Val Epoch:2: 47it [00:02, 22.50it/s]48)\u001b[0m \n"
     ]
    },
    {
     "name": "stdout",
     "output_type": "stream",
     "text": [
      "\u001b[36m(tune_with_parameters pid=2257447)\u001b[0m loss: 1.099\u001b[32m [repeated 22x across cluster]\u001b[0m\n",
      "\u001b[36m(tune_with_parameters pid=2257448)\u001b[0m /tmp/tmp52opa4r8/checkpoint.pt\n"
     ]
    },
    {
     "name": "stderr",
     "output_type": "stream",
     "text": [
      "\u001b[36m(tune_with_parameters pid=2257448)\u001b[0m Checkpoint successfully created at: Checkpoint(filesystem=local, path=/scratch/users/k23058970/Model training/results/Double Peak LRCN Null/tune_with_parameters_2024-08-19_21-54-39/tune_with_parameters_54ae7_00001_1_dp=0.2000,k1=1,k2=3,k3=5,k4=1,lr=0.0069_2024-08-19_21-55-13/checkpoint_000002)\n",
      "Val Epoch:2: 0it [00:00, ?it/s]2257447)\u001b[0m \n",
      "Val Epoch:2: 38it [00:01, 29.17it/s]\u001b[32m [repeated 19x across cluster]\u001b[0m\n"
     ]
    },
    {
     "name": "stdout",
     "output_type": "stream",
     "text": [
      "\u001b[36m(tune_with_parameters pid=2257447)\u001b[0m /tmp/tmpf7vibdiw/checkpoint.pt\n",
      "\u001b[36m(tune_with_parameters pid=2257448)\u001b[0m loss: 1.096\u001b[32m [repeated 11x across cluster]\u001b[0m\n"
     ]
    },
    {
     "name": "stderr",
     "output_type": "stream",
     "text": [
      "Val Epoch:3: 0it [00:00, ?it/s]2257448)\u001b[0m \n",
      "Val Epoch:2: 47it [00:01, 26.38it/s]47)\u001b[0m \n",
      "\u001b[36m(tune_with_parameters pid=2257447)\u001b[0m Checkpoint successfully created at: Checkpoint(filesystem=local, path=/scratch/users/k23058970/Model training/results/Double Peak LRCN Null/tune_with_parameters_2024-08-19_21-54-39/tune_with_parameters_54ae7_00000_0_dp=0.2500,k1=3,k2=3,k3=5,k4=3,lr=0.0011_2024-08-19_21-55-13/checkpoint_000002)\n",
      "Val Epoch:3: 1it [00:00,  1.42it/s]448)\u001b[0m \n",
      "Val Epoch:3: 6it [00:00,  9.35it/s]448)\u001b[0m \n",
      "Val Epoch:3: 9it [00:01, 10.98it/s]448)\u001b[0m \n",
      "Val Epoch:3: 14it [00:01, 17.35it/s]48)\u001b[0m \n",
      "Val Epoch:3: 19it [00:01, 22.70it/s]48)\u001b[0m \n",
      "Val Epoch:3: 24it [00:01, 27.85it/s]48)\u001b[0m \n",
      "Val Epoch:3: 28it [00:01, 29.51it/s]48)\u001b[0m \n",
      "Val Epoch:3: 33it [00:01, 34.22it/s]48)\u001b[0m \n",
      "Val Epoch:3: 38it [00:01, 36.28it/s]48)\u001b[0m \n",
      "Val Epoch:3: 43it [00:01, 34.79it/s]48)\u001b[0m \n",
      "Val Epoch:3: 47it [00:02, 23.13it/s]48)\u001b[0m \n"
     ]
    },
    {
     "name": "stdout",
     "output_type": "stream",
     "text": [
      "\u001b[36m(tune_with_parameters pid=2257448)\u001b[0m /tmp/tmp4kg_ovx4/checkpoint.pt\n"
     ]
    },
    {
     "name": "stderr",
     "output_type": "stream",
     "text": [
      "\u001b[36m(tune_with_parameters pid=2257448)\u001b[0m Checkpoint successfully created at: Checkpoint(filesystem=local, path=/scratch/users/k23058970/Model training/results/Double Peak LRCN Null/tune_with_parameters_2024-08-19_21-54-39/tune_with_parameters_54ae7_00001_1_dp=0.2000,k1=1,k2=3,k3=5,k4=1,lr=0.0069_2024-08-19_21-55-13/checkpoint_000003)\n"
     ]
    },
    {
     "name": "stdout",
     "output_type": "stream",
     "text": [
      "\u001b[36m(tune_with_parameters pid=2257447)\u001b[0m loss: 1.098\u001b[32m [repeated 18x across cluster]\u001b[0m\n"
     ]
    },
    {
     "name": "stderr",
     "output_type": "stream",
     "text": [
      "Val Epoch:3: 0it [00:00, ?it/s]2257447)\u001b[0m \n",
      "Val Epoch:3: 21it [00:01, 25.80it/s]\u001b[32m [repeated 6x across cluster]\u001b[0m\n"
     ]
    },
    {
     "name": "stdout",
     "output_type": "stream",
     "text": [
      "\u001b[36m(tune_with_parameters pid=2257447)\u001b[0m /tmp/tmpw98psvfg/checkpoint.pt\n"
     ]
    },
    {
     "name": "stderr",
     "output_type": "stream",
     "text": [
      "\u001b[36m(tune_with_parameters pid=2257447)\u001b[0m Checkpoint successfully created at: Checkpoint(filesystem=local, path=/scratch/users/k23058970/Model training/results/Double Peak LRCN Null/tune_with_parameters_2024-08-19_21-54-39/tune_with_parameters_54ae7_00000_0_dp=0.2500,k1=3,k2=3,k3=5,k4=3,lr=0.0011_2024-08-19_21-55-13/checkpoint_000003)\n"
     ]
    },
    {
     "name": "stdout",
     "output_type": "stream",
     "text": [
      "\u001b[36m(tune_with_parameters pid=2257448)\u001b[0m loss: 1.093\u001b[32m [repeated 16x across cluster]\u001b[0m\n"
     ]
    },
    {
     "name": "stderr",
     "output_type": "stream",
     "text": [
      "Val Epoch:4: 0it [00:00, ?it/s]2257448)\u001b[0m \n",
      "Val Epoch:4: 44it [00:01, 36.23it/s]\u001b[32m [repeated 18x across cluster]\u001b[0m\n"
     ]
    },
    {
     "name": "stdout",
     "output_type": "stream",
     "text": [
      "\u001b[36m(tune_with_parameters pid=2257448)\u001b[0m /tmp/tmpsad9rl8w/checkpoint.pt\n"
     ]
    },
    {
     "name": "stderr",
     "output_type": "stream",
     "text": [
      "\u001b[36m(tune_with_parameters pid=2257448)\u001b[0m Checkpoint successfully created at: Checkpoint(filesystem=local, path=/scratch/users/k23058970/Model training/results/Double Peak LRCN Null/tune_with_parameters_2024-08-19_21-54-39/tune_with_parameters_54ae7_00001_1_dp=0.2000,k1=1,k2=3,k3=5,k4=1,lr=0.0069_2024-08-19_21-55-13/checkpoint_000004)\n"
     ]
    },
    {
     "name": "stdout",
     "output_type": "stream",
     "text": [
      "\u001b[36m(tune_with_parameters pid=2257448)\u001b[0m loss: 1.092\u001b[32m [repeated 19x across cluster]\u001b[0m\n"
     ]
    },
    {
     "name": "stderr",
     "output_type": "stream",
     "text": [
      "Val Epoch:4: 0it [00:00, ?it/s]2257447)\u001b[0m \n",
      "Val Epoch:4: 34it [00:00, 41.16it/s]\u001b[32m [repeated 9x across cluster]\u001b[0m\n",
      "Val Epoch:5: 0it [00:00, ?it/s]2257448)\u001b[0m \n"
     ]
    },
    {
     "name": "stdout",
     "output_type": "stream",
     "text": [
      "\u001b[36m(tune_with_parameters pid=2257447)\u001b[0m loss: 1.098\u001b[32m [repeated 17x across cluster]\u001b[0m\n",
      "\u001b[36m(tune_with_parameters pid=2257448)\u001b[0m /tmp/tmponvo40ln/checkpoint.pt\n"
     ]
    },
    {
     "name": "stderr",
     "output_type": "stream",
     "text": [
      "\u001b[36m(tune_with_parameters pid=2257448)\u001b[0m Checkpoint successfully created at: Checkpoint(filesystem=local, path=/scratch/users/k23058970/Model training/results/Double Peak LRCN Null/tune_with_parameters_2024-08-19_21-54-39/tune_with_parameters_54ae7_00001_1_dp=0.2000,k1=1,k2=3,k3=5,k4=1,lr=0.0069_2024-08-19_21-55-13/checkpoint_000005)\n",
      "Val Epoch:5: 47it [00:01, 29.45it/s]\u001b[32m [repeated 14x across cluster]\u001b[0m\n",
      "Val Epoch:5: 0it [00:00, ?it/s]2257447)\u001b[0m \n"
     ]
    },
    {
     "name": "stdout",
     "output_type": "stream",
     "text": [
      "\u001b[36m(tune_with_parameters pid=2257448)\u001b[0m loss: 1.087\u001b[32m [repeated 20x across cluster]\u001b[0m\n",
      "\u001b[36m(tune_with_parameters pid=2257447)\u001b[0m /tmp/tmpq36wwa68/checkpoint.pt\n"
     ]
    },
    {
     "name": "stderr",
     "output_type": "stream",
     "text": [
      "\u001b[36m(tune_with_parameters pid=2257447)\u001b[0m Checkpoint successfully created at: Checkpoint(filesystem=local, path=/scratch/users/k23058970/Model training/results/Double Peak LRCN Null/tune_with_parameters_2024-08-19_21-54-39/tune_with_parameters_54ae7_00000_0_dp=0.2500,k1=3,k2=3,k3=5,k4=3,lr=0.0011_2024-08-19_21-55-13/checkpoint_000004)\n",
      "Val Epoch:6: 0it [00:00, ?it/s]2257448)\u001b[0m \n",
      "Val Epoch:6: 35it [00:01, 36.12it/s]\u001b[32m [repeated 20x across cluster]\u001b[0m\n"
     ]
    },
    {
     "name": "stdout",
     "output_type": "stream",
     "text": [
      "\u001b[36m(tune_with_parameters pid=2257448)\u001b[0m /tmp/tmpu5mw_6ot/checkpoint.pt\n",
      "\u001b[36m(tune_with_parameters pid=2257447)\u001b[0m loss: 1.098\u001b[32m [repeated 12x across cluster]\u001b[0m\n"
     ]
    },
    {
     "name": "stderr",
     "output_type": "stream",
     "text": [
      "\u001b[36m(tune_with_parameters pid=2257448)\u001b[0m Checkpoint successfully created at: Checkpoint(filesystem=local, path=/scratch/users/k23058970/Model training/results/Double Peak LRCN Null/tune_with_parameters_2024-08-19_21-54-39/tune_with_parameters_54ae7_00001_1_dp=0.2000,k1=1,k2=3,k3=5,k4=1,lr=0.0069_2024-08-19_21-55-13/checkpoint_000006)\n",
      "Val Epoch:6: 0it [00:00, ?it/s]2257447)\u001b[0m \n",
      "Val Epoch:6: 47it [00:01, 29.13it/s]\u001b[32m [repeated 3x across cluster]\u001b[0m\n"
     ]
    },
    {
     "name": "stdout",
     "output_type": "stream",
     "text": [
      "\u001b[36m(tune_with_parameters pid=2257448)\u001b[0m loss: 1.075\u001b[32m [repeated 22x across cluster]\u001b[0m\n"
     ]
    },
    {
     "name": "stderr",
     "output_type": "stream",
     "text": [
      "Val Epoch:7: 0it [00:00, ?it/s]2257448)\u001b[0m \n"
     ]
    },
    {
     "name": "stdout",
     "output_type": "stream",
     "text": [
      "\u001b[36m(tune_with_parameters pid=2257447)\u001b[0m /tmp/tmpsqpizp41/checkpoint.pt\n"
     ]
    },
    {
     "name": "stderr",
     "output_type": "stream",
     "text": [
      "\u001b[36m(tune_with_parameters pid=2257447)\u001b[0m Checkpoint successfully created at: Checkpoint(filesystem=local, path=/scratch/users/k23058970/Model training/results/Double Peak LRCN Null/tune_with_parameters_2024-08-19_21-54-39/tune_with_parameters_54ae7_00000_0_dp=0.2500,k1=3,k2=3,k3=5,k4=3,lr=0.0011_2024-08-19_21-55-13/checkpoint_000005)\n"
     ]
    },
    {
     "name": "stdout",
     "output_type": "stream",
     "text": [
      "\u001b[36m(tune_with_parameters pid=2257448)\u001b[0m /tmp/tmppvb9xm14/checkpoint.pt\n",
      "\u001b[36m(tune_with_parameters pid=2257448)\u001b[0m loss: 1.061\u001b[32m [repeated 11x across cluster]\u001b[0m\n"
     ]
    },
    {
     "name": "stderr",
     "output_type": "stream",
     "text": [
      "Val Epoch:7: 47it [00:02, 21.81it/s]\u001b[32m [repeated 23x across cluster]\u001b[0m\n",
      "Val Epoch:7: 0it [00:00, ?it/s]2257447)\u001b[0m \n",
      "\u001b[36m(tune_with_parameters pid=2257448)\u001b[0m Checkpoint successfully created at: Checkpoint(filesystem=local, path=/scratch/users/k23058970/Model training/results/Double Peak LRCN Null/tune_with_parameters_2024-08-19_21-54-39/tune_with_parameters_54ae7_00001_1_dp=0.2000,k1=1,k2=3,k3=5,k4=1,lr=0.0069_2024-08-19_21-55-13/checkpoint_000007)\n",
      "Val Epoch:8: 0it [00:00, ?it/s]2257448)\u001b[0m \n"
     ]
    },
    {
     "name": "stdout",
     "output_type": "stream",
     "text": [
      "\u001b[36m(tune_with_parameters pid=2257447)\u001b[0m loss: 1.098\u001b[32m [repeated 22x across cluster]\u001b[0m\n",
      "\u001b[36m(tune_with_parameters pid=2257448)\u001b[0m loss: 0.948\u001b[32m [repeated 24x across cluster]\u001b[0m\n"
     ]
    },
    {
     "name": "stderr",
     "output_type": "stream",
     "text": [
      "Val Epoch:8: 47it [00:02, 19.81it/s]\u001b[32m [repeated 24x across cluster]\u001b[0m\n",
      "Val Epoch:8: 0it [00:00, ?it/s]2257447)\u001b[0m \n",
      "Val Epoch:9: 0it [00:00, ?it/s]2257448)\u001b[0m \n"
     ]
    },
    {
     "name": "stdout",
     "output_type": "stream",
     "text": [
      "\u001b[36m(tune_with_parameters pid=2257448)\u001b[0m loss: 0.732\u001b[32m [repeated 6x across cluster]\u001b[0m\n"
     ]
    },
    {
     "name": "stderr",
     "output_type": "stream",
     "text": [
      "Val Epoch:10: 0it [00:00, ?it/s]257448)\u001b[0m \n",
      "Val Epoch:9: 47it [00:01, 27.09it/s]\u001b[32m [repeated 22x across cluster]\u001b[0m\n"
     ]
    },
    {
     "name": "stdout",
     "output_type": "stream",
     "text": [
      "\u001b[36m(tune_with_parameters pid=2257448)\u001b[0m /tmp/tmpikr43nii/checkpoint.pt\n",
      "\u001b[36m(tune_with_parameters pid=2257448)\u001b[0m loss: 0.506\u001b[32m [repeated 14x across cluster]\u001b[0m\n"
     ]
    },
    {
     "name": "stderr",
     "output_type": "stream",
     "text": [
      "\u001b[36m(tune_with_parameters pid=2257448)\u001b[0m Checkpoint successfully created at: Checkpoint(filesystem=local, path=/scratch/users/k23058970/Model training/results/Double Peak LRCN Null/tune_with_parameters_2024-08-19_21-54-39/tune_with_parameters_54ae7_00001_1_dp=0.2000,k1=1,k2=3,k3=5,k4=1,lr=0.0069_2024-08-19_21-55-13/checkpoint_000008)\n"
     ]
    },
    {
     "name": "stdout",
     "output_type": "stream",
     "text": [
      "\u001b[36m(tune_with_parameters pid=2257448)\u001b[0m loss: 0.310\u001b[32m [repeated 12x across cluster]\u001b[0m\n"
     ]
    },
    {
     "name": "stderr",
     "output_type": "stream",
     "text": [
      "\u001b[36m(tune_with_parameters pid=2272128)\u001b[0m /users/k23058970/miniforge3/envs/Training/lib/python3.10/site-packages/torch/nn/modules/lazy.py:181: UserWarning: Lazy modules are a new feature under heavy development so changes to the API or functionality can happen at any moment.\n",
      "\u001b[36m(tune_with_parameters pid=2272128)\u001b[0m   warnings.warn('Lazy modules are a new feature under heavy development '\n",
      "Val Epoch:10: 47it [00:01, 32.38it/s]\u001b[32m [repeated 11x across cluster]\u001b[0m\n",
      "Val Epoch:11: 0it [00:00, ?it/s]257448)\u001b[0m \n"
     ]
    },
    {
     "name": "stdout",
     "output_type": "stream",
     "text": [
      "\u001b[36m(tune_with_parameters pid=2257448)\u001b[0m /tmp/tmpgg4yhluz/checkpoint.pt\n"
     ]
    },
    {
     "name": "stderr",
     "output_type": "stream",
     "text": [
      "\u001b[36m(tune_with_parameters pid=2257448)\u001b[0m Checkpoint successfully created at: Checkpoint(filesystem=local, path=/scratch/users/k23058970/Model training/results/Double Peak LRCN Null/tune_with_parameters_2024-08-19_21-54-39/tune_with_parameters_54ae7_00001_1_dp=0.2000,k1=1,k2=3,k3=5,k4=1,lr=0.0069_2024-08-19_21-55-13/checkpoint_000009)\n"
     ]
    },
    {
     "name": "stdout",
     "output_type": "stream",
     "text": [
      "\u001b[36m(tune_with_parameters pid=2257448)\u001b[0m loss: 0.239\u001b[32m [repeated 6x across cluster]\u001b[0m\n"
     ]
    },
    {
     "name": "stderr",
     "output_type": "stream",
     "text": [
      "Val Epoch:12: 0it [00:00, ?it/s]257448)\u001b[0m \n",
      "Val Epoch:11: 47it [00:01, 30.91it/s]\u001b[32m [repeated 9x across cluster]\u001b[0m\n"
     ]
    },
    {
     "name": "stdout",
     "output_type": "stream",
     "text": [
      "\u001b[36m(tune_with_parameters pid=2272128)\u001b[0m loss: 1.099\u001b[32m [repeated 20x across cluster]\u001b[0m\n",
      "\u001b[36m(tune_with_parameters pid=2257448)\u001b[0m /tmp/tmpzb_ie_bm/checkpoint.pt\n"
     ]
    },
    {
     "name": "stderr",
     "output_type": "stream",
     "text": [
      "\u001b[36m(tune_with_parameters pid=2257448)\u001b[0m Checkpoint successfully created at: Checkpoint(filesystem=local, path=/scratch/users/k23058970/Model training/results/Double Peak LRCN Null/tune_with_parameters_2024-08-19_21-54-39/tune_with_parameters_54ae7_00001_1_dp=0.2000,k1=1,k2=3,k3=5,k4=1,lr=0.0069_2024-08-19_21-55-13/checkpoint_000010)\n",
      "Val Epoch:0: 0it [00:00, ?it/s]2272128)\u001b[0m \n",
      "Val Epoch:12: 47it [00:02, 21.76it/s]\u001b[32m [repeated 11x across cluster]\u001b[0m\n"
     ]
    },
    {
     "name": "stdout",
     "output_type": "stream",
     "text": [
      "\u001b[36m(tune_with_parameters pid=2257448)\u001b[0m loss: 0.136\u001b[32m [repeated 15x across cluster]\u001b[0m\n"
     ]
    },
    {
     "name": "stderr",
     "output_type": "stream",
     "text": [
      "\u001b[36m(tune_with_parameters pid=2272128)\u001b[0m /scratch/users/k23058970/Model training/training_insilico_lrcn.py:63: RuntimeWarning: invalid value encountered in divide\n",
      "\u001b[36m(tune_with_parameters pid=2272128)\u001b[0m   self.precision = self.tp/(self.tp + self.fp)\n"
     ]
    },
    {
     "name": "stdout",
     "output_type": "stream",
     "text": [
      "\u001b[36m(tune_with_parameters pid=2272128)\u001b[0m /tmp/tmp485ik7r8/checkpoint.pt\n"
     ]
    },
    {
     "name": "stderr",
     "output_type": "stream",
     "text": [
      "Val Epoch:13: 0it [00:00, ?it/s]257448)\u001b[0m \n",
      "Val Epoch:13: 28it [00:01, 25.22it/s]\u001b[32m [repeated 20x across cluster]\u001b[0m\n",
      "\u001b[36m(tune_with_parameters pid=2272128)\u001b[0m Checkpoint successfully created at: Checkpoint(filesystem=local, path=/scratch/users/k23058970/Model training/results/Double Peak LRCN Null/tune_with_parameters_2024-08-19_21-54-39/tune_with_parameters_54ae7_00002_2_dp=0.2500,k1=5,k2=3,k3=3,k4=1,lr=0.0141_2024-08-19_21-55-13/checkpoint_000000)\n"
     ]
    },
    {
     "name": "stdout",
     "output_type": "stream",
     "text": [
      "\u001b[36m(tune_with_parameters pid=2257448)\u001b[0m /tmp/tmpyzk8l5bs/checkpoint.pt\n",
      "\u001b[36m(tune_with_parameters pid=2272128)\u001b[0m loss: 1.098\u001b[32m [repeated 8x across cluster]\u001b[0m\n",
      "\u001b[36m(tune_with_parameters pid=2272128)\u001b[0m loss: 1.098\u001b[32m [repeated 25x across cluster]\u001b[0m\n"
     ]
    },
    {
     "name": "stderr",
     "output_type": "stream",
     "text": [
      "Val Epoch:14: 0it [00:00, ?it/s]257448)\u001b[0m \n",
      "Val Epoch:13: 47it [00:01, 25.95it/s]\u001b[32m [repeated 4x across cluster]\u001b[0m\n",
      "\u001b[36m(tune_with_parameters pid=2257448)\u001b[0m Checkpoint successfully created at: Checkpoint(filesystem=local, path=/scratch/users/k23058970/Model training/results/Double Peak LRCN Null/tune_with_parameters_2024-08-19_21-54-39/tune_with_parameters_54ae7_00001_1_dp=0.2000,k1=1,k2=3,k3=5,k4=1,lr=0.0069_2024-08-19_21-55-13/checkpoint_000011)\n"
     ]
    },
    {
     "name": "stdout",
     "output_type": "stream",
     "text": [
      "\u001b[36m(tune_with_parameters pid=2257448)\u001b[0m /tmp/tmpg0faa8fu/checkpoint.pt\n"
     ]
    },
    {
     "name": "stderr",
     "output_type": "stream",
     "text": [
      "\u001b[36m(tune_with_parameters pid=2257448)\u001b[0m Checkpoint successfully created at: Checkpoint(filesystem=local, path=/scratch/users/k23058970/Model training/results/Double Peak LRCN Null/tune_with_parameters_2024-08-19_21-54-39/tune_with_parameters_54ae7_00001_1_dp=0.2000,k1=1,k2=3,k3=5,k4=1,lr=0.0069_2024-08-19_21-55-13/checkpoint_000012)\n"
     ]
    },
    {
     "name": "stdout",
     "output_type": "stream",
     "text": [
      "\u001b[36m(tune_with_parameters pid=2257448)\u001b[0m loss: 0.113\u001b[32m [repeated 7x across cluster]\u001b[0m\n"
     ]
    },
    {
     "name": "stderr",
     "output_type": "stream",
     "text": [
      "Val Epoch:15: 0it [00:00, ?it/s]\u001b[32m [repeated 2x across cluster]\u001b[0m\n",
      "Val Epoch:1: 47it [00:02, 17.81it/s]\u001b[32m [repeated 23x across cluster]\u001b[0m\n"
     ]
    },
    {
     "name": "stdout",
     "output_type": "stream",
     "text": [
      "\u001b[36m(tune_with_parameters pid=2272128)\u001b[0m loss: 1.098\u001b[32m [repeated 22x across cluster]\u001b[0m\n",
      "\u001b[36m(tune_with_parameters pid=2257448)\u001b[0m /tmp/tmp7rl9omrl/checkpoint.pt\n"
     ]
    },
    {
     "name": "stderr",
     "output_type": "stream",
     "text": [
      "\u001b[36m(tune_with_parameters pid=2257448)\u001b[0m Checkpoint successfully created at: Checkpoint(filesystem=local, path=/scratch/users/k23058970/Model training/results/Double Peak LRCN Null/tune_with_parameters_2024-08-19_21-54-39/tune_with_parameters_54ae7_00001_1_dp=0.2000,k1=1,k2=3,k3=5,k4=1,lr=0.0069_2024-08-19_21-55-13/checkpoint_000013)\n",
      "Val Epoch:2: 0it [00:00, ?it/s]2272128)\u001b[0m \n",
      "Val Epoch:2: 25it [00:01, 22.92it/s]\u001b[32m [repeated 18x across cluster]\u001b[0m\n"
     ]
    },
    {
     "name": "stdout",
     "output_type": "stream",
     "text": [
      "\u001b[36m(tune_with_parameters pid=2257448)\u001b[0m loss: 0.085\u001b[32m [repeated 13x across cluster]\u001b[0m\n"
     ]
    },
    {
     "name": "stderr",
     "output_type": "stream",
     "text": [
      "Val Epoch:16: 0it [00:00, ?it/s]257448)\u001b[0m \n"
     ]
    },
    {
     "name": "stdout",
     "output_type": "stream",
     "text": [
      "\u001b[36m(tune_with_parameters pid=2272128)\u001b[0m /tmp/tmp7048dolu/checkpoint.pt\n"
     ]
    },
    {
     "name": "stderr",
     "output_type": "stream",
     "text": [
      "\u001b[36m(tune_with_parameters pid=2272128)\u001b[0m Checkpoint successfully created at: Checkpoint(filesystem=local, path=/scratch/users/k23058970/Model training/results/Double Peak LRCN Null/tune_with_parameters_2024-08-19_21-54-39/tune_with_parameters_54ae7_00002_2_dp=0.2500,k1=5,k2=3,k3=3,k4=1,lr=0.0141_2024-08-19_21-55-13/checkpoint_000001)\n",
      "Val Epoch:16: 41it [00:01, 43.18it/s]\u001b[32m [repeated 15x across cluster]\u001b[0m\n"
     ]
    },
    {
     "name": "stdout",
     "output_type": "stream",
     "text": [
      "\u001b[36m(tune_with_parameters pid=2257448)\u001b[0m /tmp/tmplohkr8zj/checkpoint.pt\n",
      "\u001b[36m(tune_with_parameters pid=2272128)\u001b[0m loss: 1.096\u001b[32m [repeated 8x across cluster]\u001b[0m\n",
      "\u001b[36m(tune_with_parameters pid=2257448)\u001b[0m loss: 0.080\u001b[32m [repeated 22x across cluster]\u001b[0m\n"
     ]
    },
    {
     "name": "stderr",
     "output_type": "stream",
     "text": [
      "Val Epoch:17: 0it [00:00, ?it/s]257448)\u001b[0m \n",
      "\u001b[36m(tune_with_parameters pid=2257448)\u001b[0m Checkpoint successfully created at: Checkpoint(filesystem=local, path=/scratch/users/k23058970/Model training/results/Double Peak LRCN Null/tune_with_parameters_2024-08-19_21-54-39/tune_with_parameters_54ae7_00001_1_dp=0.2000,k1=1,k2=3,k3=5,k4=1,lr=0.0069_2024-08-19_21-55-13/checkpoint_000014)\n",
      "Val Epoch:16: 47it [00:01, 29.21it/s]\u001b[32m [repeated 2x across cluster]\u001b[0m\n",
      "Val Epoch:3: 0it [00:00, ?it/s]2272128)\u001b[0m \n"
     ]
    },
    {
     "name": "stdout",
     "output_type": "stream",
     "text": [
      "\u001b[36m(tune_with_parameters pid=2257448)\u001b[0m /tmp/tmpbl8952w1/checkpoint.pt\n"
     ]
    },
    {
     "name": "stderr",
     "output_type": "stream",
     "text": [
      "\u001b[36m(tune_with_parameters pid=2257448)\u001b[0m Checkpoint successfully created at: Checkpoint(filesystem=local, path=/scratch/users/k23058970/Model training/results/Double Peak LRCN Null/tune_with_parameters_2024-08-19_21-54-39/tune_with_parameters_54ae7_00001_1_dp=0.2000,k1=1,k2=3,k3=5,k4=1,lr=0.0069_2024-08-19_21-55-13/checkpoint_000015)\n"
     ]
    },
    {
     "name": "stdout",
     "output_type": "stream",
     "text": [
      "\u001b[36m(tune_with_parameters pid=2257448)\u001b[0m loss: 0.074\u001b[32m [repeated 10x across cluster]\u001b[0m\n"
     ]
    },
    {
     "name": "stderr",
     "output_type": "stream",
     "text": [
      "Val Epoch:3: 47it [00:02, 19.79it/s]\u001b[32m [repeated 23x across cluster]\u001b[0m\n",
      "Val Epoch:18: 0it [00:00, ?it/s]257448)\u001b[0m \n"
     ]
    },
    {
     "name": "stdout",
     "output_type": "stream",
     "text": [
      "\u001b[36m(tune_with_parameters pid=2272128)\u001b[0m loss: 1.096\u001b[32m [repeated 22x across cluster]\u001b[0m\n",
      "\u001b[36m(tune_with_parameters pid=2257448)\u001b[0m /tmp/tmptdhpj2bh/checkpoint.pt\n"
     ]
    },
    {
     "name": "stderr",
     "output_type": "stream",
     "text": [
      "\u001b[36m(tune_with_parameters pid=2257448)\u001b[0m Checkpoint successfully created at: Checkpoint(filesystem=local, path=/scratch/users/k23058970/Model training/results/Double Peak LRCN Null/tune_with_parameters_2024-08-19_21-54-39/tune_with_parameters_54ae7_00001_1_dp=0.2000,k1=1,k2=3,k3=5,k4=1,lr=0.0069_2024-08-19_21-55-13/checkpoint_000016)\n",
      "Val Epoch:4: 0it [00:00, ?it/s]2272128)\u001b[0m \n"
     ]
    },
    {
     "name": "stdout",
     "output_type": "stream",
     "text": [
      "\u001b[36m(tune_with_parameters pid=2257448)\u001b[0m loss: 0.086\u001b[32m [repeated 10x across cluster]\u001b[0m\n"
     ]
    },
    {
     "name": "stderr",
     "output_type": "stream",
     "text": [
      "Val Epoch:4: 35it [00:01, 28.45it/s]\u001b[32m [repeated 21x across cluster]\u001b[0m\n"
     ]
    },
    {
     "name": "stdout",
     "output_type": "stream",
     "text": [
      "\u001b[36m(tune_with_parameters pid=2272128)\u001b[0m /tmp/tmpsig9oiub/checkpoint.pt\n"
     ]
    },
    {
     "name": "stderr",
     "output_type": "stream",
     "text": [
      "Val Epoch:19: 0it [00:00, ?it/s]257448)\u001b[0m \n",
      "\u001b[36m(tune_with_parameters pid=2272128)\u001b[0m Checkpoint successfully created at: Checkpoint(filesystem=local, path=/scratch/users/k23058970/Model training/results/Double Peak LRCN Null/tune_with_parameters_2024-08-19_21-54-39/tune_with_parameters_54ae7_00002_2_dp=0.2500,k1=5,k2=3,k3=3,k4=1,lr=0.0141_2024-08-19_21-55-13/checkpoint_000002)\n",
      "Val Epoch:19: 37it [00:01, 24.63it/s]\u001b[32m [repeated 13x across cluster]\u001b[0m\n"
     ]
    },
    {
     "name": "stdout",
     "output_type": "stream",
     "text": [
      "\u001b[36m(tune_with_parameters pid=2272128)\u001b[0m loss: 1.093\u001b[32m [repeated 11x across cluster]\u001b[0m\n",
      "\u001b[36m(tune_with_parameters pid=2257448)\u001b[0m loss: 0.065\u001b[32m [repeated 23x across cluster]\u001b[0m\n"
     ]
    },
    {
     "name": "stderr",
     "output_type": "stream",
     "text": [
      "Val Epoch:20: 0it [00:00, ?it/s]257448)\u001b[0m \n",
      "Val Epoch:19: 47it [00:02, 17.28it/s]\u001b[32m [repeated 3x across cluster]\u001b[0m\n"
     ]
    },
    {
     "name": "stdout",
     "output_type": "stream",
     "text": [
      "\u001b[36m(tune_with_parameters pid=2257448)\u001b[0m loss: 0.052\u001b[32m [repeated 10x across cluster]\u001b[0m\n"
     ]
    },
    {
     "name": "stderr",
     "output_type": "stream",
     "text": [
      "Val Epoch:21: 0it [00:00, ?it/s]\u001b[32m [repeated 2x across cluster]\u001b[0m\n",
      "Val Epoch:5: 47it [00:02, 20.70it/s]\u001b[32m [repeated 27x across cluster]\u001b[0m\n"
     ]
    },
    {
     "name": "stdout",
     "output_type": "stream",
     "text": [
      "\u001b[36m(tune_with_parameters pid=2272128)\u001b[0m loss: 1.092\u001b[32m [repeated 20x across cluster]\u001b[0m\n",
      "\u001b[36m(tune_with_parameters pid=2257448)\u001b[0m /tmp/tmp8kzojkog/checkpoint.pt\n"
     ]
    },
    {
     "name": "stderr",
     "output_type": "stream",
     "text": [
      "\u001b[36m(tune_with_parameters pid=2257448)\u001b[0m Checkpoint successfully created at: Checkpoint(filesystem=local, path=/scratch/users/k23058970/Model training/results/Double Peak LRCN Null/tune_with_parameters_2024-08-19_21-54-39/tune_with_parameters_54ae7_00001_1_dp=0.2000,k1=1,k2=3,k3=5,k4=1,lr=0.0069_2024-08-19_21-55-13/checkpoint_000017)\n",
      "Val Epoch:6: 0it [00:00, ?it/s]2272128)\u001b[0m \n",
      "Val Epoch:6: 1it [00:01,  1.11s/it]\u001b[32m [repeated 12x across cluster]\u001b[0m\n"
     ]
    },
    {
     "name": "stdout",
     "output_type": "stream",
     "text": [
      "\u001b[36m(tune_with_parameters pid=2257448)\u001b[0m loss: 0.056\u001b[32m [repeated 13x across cluster]\u001b[0m\n"
     ]
    },
    {
     "name": "stderr",
     "output_type": "stream",
     "text": [
      "Val Epoch:22: 0it [00:00, ?it/s]257448)\u001b[0m \n",
      "Val Epoch:22: 14it [00:00, 20.60it/s]\u001b[32m [repeated 14x across cluster]\u001b[0m\n"
     ]
    },
    {
     "name": "stdout",
     "output_type": "stream",
     "text": [
      "\u001b[36m(tune_with_parameters pid=2272128)\u001b[0m loss: 1.088\u001b[32m [repeated 16x across cluster]\u001b[0m\n"
     ]
    },
    {
     "name": "stderr",
     "output_type": "stream",
     "text": [
      "Val Epoch:7: 0it [00:00, ?it/s]2272128)\u001b[0m \n",
      "Val Epoch:7: 1it [00:01,  1.10s/it]\u001b[32m [repeated 10x across cluster]\u001b[0m\n"
     ]
    },
    {
     "name": "stdout",
     "output_type": "stream",
     "text": [
      "\u001b[36m(tune_with_parameters pid=2257448)\u001b[0m loss: 0.054\u001b[32m [repeated 17x across cluster]\u001b[0m\n"
     ]
    },
    {
     "name": "stderr",
     "output_type": "stream",
     "text": [
      "Val Epoch:23: 0it [00:00, ?it/s]257448)\u001b[0m \n"
     ]
    },
    {
     "name": "stdout",
     "output_type": "stream",
     "text": [
      "\u001b[36m(tune_with_parameters pid=2257448)\u001b[0m /tmp/tmp5z3395uv/checkpoint.pt\n"
     ]
    },
    {
     "name": "stderr",
     "output_type": "stream",
     "text": [
      "\u001b[36m(tune_with_parameters pid=2257448)\u001b[0m Checkpoint successfully created at: Checkpoint(filesystem=local, path=/scratch/users/k23058970/Model training/results/Double Peak LRCN Null/tune_with_parameters_2024-08-19_21-54-39/tune_with_parameters_54ae7_00001_1_dp=0.2000,k1=1,k2=3,k3=5,k4=1,lr=0.0069_2024-08-19_21-55-13/checkpoint_000018)\n"
     ]
    },
    {
     "name": "stdout",
     "output_type": "stream",
     "text": [
      "\u001b[36m(tune_with_parameters pid=2272128)\u001b[0m /tmp/tmp5bm3ez25/checkpoint.pt\n",
      "\u001b[36m(tune_with_parameters pid=2257448)\u001b[0m loss: 0.047\u001b[32m [repeated 7x across cluster]\u001b[0m\n"
     ]
    },
    {
     "name": "stderr",
     "output_type": "stream",
     "text": [
      "Val Epoch:23: 47it [00:01, 23.84it/s]\u001b[32m [repeated 22x across cluster]\u001b[0m\n",
      "Val Epoch:24: 0it [00:00, ?it/s]257448)\u001b[0m \n",
      "\u001b[36m(tune_with_parameters pid=2272128)\u001b[0m Checkpoint successfully created at: Checkpoint(filesystem=local, path=/scratch/users/k23058970/Model training/results/Double Peak LRCN Null/tune_with_parameters_2024-08-19_21-54-39/tune_with_parameters_54ae7_00002_2_dp=0.2500,k1=5,k2=3,k3=3,k4=1,lr=0.0141_2024-08-19_21-55-13/checkpoint_000003)\n"
     ]
    },
    {
     "name": "stdout",
     "output_type": "stream",
     "text": [
      "\u001b[36m(tune_with_parameters pid=2272128)\u001b[0m loss: 1.082\u001b[32m [repeated 20x across cluster]\u001b[0m\n"
     ]
    },
    {
     "name": "stderr",
     "output_type": "stream",
     "text": [
      "Val Epoch:24: 11it [00:00, 23.78it/s]\u001b[32m [repeated 3x across cluster]\u001b[0m\n"
     ]
    },
    {
     "name": "stdout",
     "output_type": "stream",
     "text": [
      "\u001b[36m(tune_with_parameters pid=2257448)\u001b[0m /tmp/tmpb9ht4i4z/checkpoint.pt\n"
     ]
    },
    {
     "name": "stderr",
     "output_type": "stream",
     "text": [
      "\u001b[36m(tune_with_parameters pid=2257448)\u001b[0m Checkpoint successfully created at: Checkpoint(filesystem=local, path=/scratch/users/k23058970/Model training/results/Double Peak LRCN Null/tune_with_parameters_2024-08-19_21-54-39/tune_with_parameters_54ae7_00001_1_dp=0.2000,k1=1,k2=3,k3=5,k4=1,lr=0.0069_2024-08-19_21-55-13/checkpoint_000019)\n",
      "Val Epoch:8: 0it [00:00, ?it/s]2272128)\u001b[0m \n"
     ]
    },
    {
     "name": "stdout",
     "output_type": "stream",
     "text": [
      "\u001b[36m(tune_with_parameters pid=2257448)\u001b[0m loss: 0.046\u001b[32m [repeated 15x across cluster]\u001b[0m\n"
     ]
    },
    {
     "name": "stderr",
     "output_type": "stream",
     "text": [
      "Val Epoch:8: 14it [00:01, 17.64it/s]\u001b[32m [repeated 12x across cluster]\u001b[0m\n",
      "Val Epoch:25: 0it [00:00, ?it/s]257448)\u001b[0m \n",
      "Val Epoch:25: 22it [00:01, 27.95it/s]\u001b[32m [repeated 14x across cluster]\u001b[0m\n"
     ]
    },
    {
     "name": "stdout",
     "output_type": "stream",
     "text": [
      "\u001b[36m(tune_with_parameters pid=2272128)\u001b[0m loss: 1.068\u001b[32m [repeated 14x across cluster]\u001b[0m\n",
      "\u001b[36m(tune_with_parameters pid=2257448)\u001b[0m /tmp/tmp6uie0x5l/checkpoint.pt\n"
     ]
    },
    {
     "name": "stderr",
     "output_type": "stream",
     "text": [
      "\u001b[36m(tune_with_parameters pid=2257448)\u001b[0m Checkpoint successfully created at: Checkpoint(filesystem=local, path=/scratch/users/k23058970/Model training/results/Double Peak LRCN Null/tune_with_parameters_2024-08-19_21-54-39/tune_with_parameters_54ae7_00001_1_dp=0.2000,k1=1,k2=3,k3=5,k4=1,lr=0.0069_2024-08-19_21-55-13/checkpoint_000020)\n",
      "Val Epoch:9: 0it [00:00, ?it/s]2272128)\u001b[0m \n",
      "Val Epoch:25: 47it [00:01, 24.74it/s]\u001b[32m [repeated 6x across cluster]\u001b[0m\n"
     ]
    },
    {
     "name": "stdout",
     "output_type": "stream",
     "text": [
      "\u001b[36m(tune_with_parameters pid=2257448)\u001b[0m loss: 0.043\u001b[32m [repeated 20x across cluster]\u001b[0m\n",
      "\u001b[36m(tune_with_parameters pid=2257448)\u001b[0m loss: 0.034\u001b[32m [repeated 7x across cluster]\u001b[0m\n",
      "\u001b[36m(tune_with_parameters pid=2272128)\u001b[0m /tmp/tmppztbene4/checkpoint.pt\n"
     ]
    },
    {
     "name": "stderr",
     "output_type": "stream",
     "text": [
      "\u001b[36m(tune_with_parameters pid=2272128)\u001b[0m Checkpoint successfully created at: Checkpoint(filesystem=local, path=/scratch/users/k23058970/Model training/results/Double Peak LRCN Null/tune_with_parameters_2024-08-19_21-54-39/tune_with_parameters_54ae7_00002_2_dp=0.2500,k1=5,k2=3,k3=3,k4=1,lr=0.0141_2024-08-19_21-55-13/checkpoint_000004)\n",
      "Val Epoch:26: 0it [00:00, ?it/s]257448)\u001b[0m \n",
      "Val Epoch:26: 47it [00:01, 30.47it/s]\u001b[32m [repeated 23x across cluster]\u001b[0m\n",
      "Val Epoch:27: 0it [00:00, ?it/s]257448)\u001b[0m \n"
     ]
    },
    {
     "name": "stdout",
     "output_type": "stream",
     "text": [
      "\u001b[36m(tune_with_parameters pid=2272128)\u001b[0m loss: 1.013\u001b[32m [repeated 17x across cluster]\u001b[0m\n",
      "\u001b[36m(tune_with_parameters pid=2257448)\u001b[0m \n",
      "\u001b[36m(tune_with_parameters pid=2257448)\u001b[0m loss: 0.033\u001b[32m [repeated 19x across cluster]\u001b[0m\n"
     ]
    },
    {
     "name": "stderr",
     "output_type": "stream",
     "text": [
      "Val Epoch:27: 47it [00:01, 28.46it/s]\u001b[32m [repeated 12x across cluster]\u001b[0m\n",
      "Val Epoch:10: 0it [00:00, ?it/s]272128)\u001b[0m \n",
      "Val Epoch:28: 0it [00:00, ?it/s]257448)\u001b[0m \n",
      "Val Epoch:28: 47it [00:01, 30.08it/s]\u001b[32m [repeated 23x across cluster]\u001b[0m\n"
     ]
    },
    {
     "name": "stdout",
     "output_type": "stream",
     "text": [
      "\u001b[36m(tune_with_parameters pid=2272128)\u001b[0m loss: 0.557\u001b[32m [repeated 11x across cluster]\u001b[0m\n",
      "\u001b[36m(tune_with_parameters pid=2257448)\u001b[0m /tmp/tmpfeo0gfkp/checkpoint.pt\n"
     ]
    },
    {
     "name": "stderr",
     "output_type": "stream",
     "text": [
      "\u001b[36m(tune_with_parameters pid=2257448)\u001b[0m Checkpoint successfully created at: Checkpoint(filesystem=local, path=/scratch/users/k23058970/Model training/results/Double Peak LRCN Null/tune_with_parameters_2024-08-19_21-54-39/tune_with_parameters_54ae7_00001_1_dp=0.2000,k1=1,k2=3,k3=5,k4=1,lr=0.0069_2024-08-19_21-55-13/checkpoint_000021)\n"
     ]
    },
    {
     "name": "stdout",
     "output_type": "stream",
     "text": [
      "\u001b[36m(tune_with_parameters pid=2272128)\u001b[0m loss: 0.384\u001b[32m [repeated 23x across cluster]\u001b[0m\n"
     ]
    },
    {
     "name": "stderr",
     "output_type": "stream",
     "text": [
      "Val Epoch:11: 0it [00:00, ?it/s]272128)\u001b[0m \n",
      "Val Epoch:11: 1it [00:00,  3.63it/s]28)\u001b[0m \n",
      "Val Epoch:11: 3it [00:00,  5.18it/s]28)\u001b[0m \n",
      "Val Epoch:29: 0it [00:00, ?it/s]257448)\u001b[0m \n",
      "Val Epoch:11: 23it [00:01, 22.16it/s]8)\u001b[0m \n",
      "Val Epoch:11: 47it [00:02, 19.46it/s]8)\u001b[0m \n"
     ]
    },
    {
     "name": "stdout",
     "output_type": "stream",
     "text": [
      "\u001b[36m(tune_with_parameters pid=2257448)\u001b[0m loss: 0.028\u001b[32m [repeated 6x across cluster]\u001b[0m\n",
      "\u001b[36m(tune_with_parameters pid=2272128)\u001b[0m /tmp/tmpb55a_h5e/checkpoint.pt\n"
     ]
    },
    {
     "name": "stderr",
     "output_type": "stream",
     "text": [
      "\u001b[36m(tune_with_parameters pid=2272128)\u001b[0m Checkpoint successfully created at: Checkpoint(filesystem=local, path=/scratch/users/k23058970/Model training/results/Double Peak LRCN Null/tune_with_parameters_2024-08-19_21-54-39/tune_with_parameters_54ae7_00002_2_dp=0.2500,k1=5,k2=3,k3=3,k4=1,lr=0.0141_2024-08-19_21-55-13/checkpoint_000005)\n",
      "Val Epoch:29: 47it [00:01, 26.11it/s]\u001b[32m [repeated 20x across cluster]\u001b[0m\n",
      "Val Epoch:30: 0it [00:00, ?it/s]257448)\u001b[0m \n"
     ]
    },
    {
     "name": "stdout",
     "output_type": "stream",
     "text": [
      "\u001b[36m(tune_with_parameters pid=2272128)\u001b[0m loss: 0.169\u001b[32m [repeated 15x across cluster]\u001b[0m\n",
      "\u001b[36m(tune_with_parameters pid=2257448)\u001b[0m /tmp/tmpg4u77i9w/checkpoint.pt\n",
      "\u001b[36m(tune_with_parameters pid=2272128)\u001b[0m loss: 0.128\u001b[32m [repeated 17x across cluster]\u001b[0m\n"
     ]
    },
    {
     "name": "stderr",
     "output_type": "stream",
     "text": [
      "\u001b[36m(tune_with_parameters pid=2257448)\u001b[0m Checkpoint successfully created at: Checkpoint(filesystem=local, path=/scratch/users/k23058970/Model training/results/Double Peak LRCN Null/tune_with_parameters_2024-08-19_21-54-39/tune_with_parameters_54ae7_00001_1_dp=0.2000,k1=1,k2=3,k3=5,k4=1,lr=0.0069_2024-08-19_21-55-13/checkpoint_000022)\n",
      "Val Epoch:30: 47it [00:01, 30.38it/s]\u001b[32m [repeated 11x across cluster]\u001b[0m\n",
      "Val Epoch:12: 0it [00:00, ?it/s]272128)\u001b[0m \n",
      "Val Epoch:31: 0it [00:00, ?it/s]257448)\u001b[0m \n"
     ]
    },
    {
     "name": "stdout",
     "output_type": "stream",
     "text": [
      "\u001b[36m(tune_with_parameters pid=2257448)\u001b[0m /tmp/tmpwbiooio4/checkpoint.pt\n",
      "\u001b[36m(tune_with_parameters pid=2257448)\u001b[0m loss: 0.028\u001b[32m [repeated 9x across cluster]\u001b[0m\n"
     ]
    },
    {
     "name": "stderr",
     "output_type": "stream",
     "text": [
      "\u001b[36m(tune_with_parameters pid=2257448)\u001b[0m Checkpoint successfully created at: Checkpoint(filesystem=local, path=/scratch/users/k23058970/Model training/results/Double Peak LRCN Null/tune_with_parameters_2024-08-19_21-54-39/tune_with_parameters_54ae7_00001_1_dp=0.2000,k1=1,k2=3,k3=5,k4=1,lr=0.0069_2024-08-19_21-55-13/checkpoint_000023)\n"
     ]
    },
    {
     "name": "stdout",
     "output_type": "stream",
     "text": [
      "\u001b[36m(tune_with_parameters pid=2272128)\u001b[0m /tmp/tmpqz2rw_3q/checkpoint.pt\n"
     ]
    },
    {
     "name": "stderr",
     "output_type": "stream",
     "text": [
      "Val Epoch:31: 47it [00:01, 33.06it/s]\u001b[32m [repeated 22x across cluster]\u001b[0m\n"
     ]
    },
    {
     "name": "stdout",
     "output_type": "stream",
     "text": [
      "\u001b[36m(tune_with_parameters pid=2272128)\u001b[0m loss: 0.083\u001b[32m [repeated 15x across cluster]\u001b[0m\n"
     ]
    },
    {
     "name": "stderr",
     "output_type": "stream",
     "text": [
      "Val Epoch:32: 0it [00:00, ?it/s]257448)\u001b[0m \n",
      "\u001b[36m(tune_with_parameters pid=2272128)\u001b[0m Checkpoint successfully created at: Checkpoint(filesystem=local, path=/scratch/users/k23058970/Model training/results/Double Peak LRCN Null/tune_with_parameters_2024-08-19_21-54-39/tune_with_parameters_54ae7_00002_2_dp=0.2500,k1=5,k2=3,k3=3,k4=1,lr=0.0141_2024-08-19_21-55-13/checkpoint_000006)\n",
      "Val Epoch:32: 22it [00:01, 26.18it/s]\u001b[32m [repeated 5x across cluster]\u001b[0m\n"
     ]
    },
    {
     "name": "stdout",
     "output_type": "stream",
     "text": [
      "\u001b[36m(tune_with_parameters pid=2257448)\u001b[0m loss: 0.034\u001b[32m [repeated 18x across cluster]\u001b[0m\n"
     ]
    },
    {
     "name": "stderr",
     "output_type": "stream",
     "text": [
      "Val Epoch:13: 0it [00:00, ?it/s]272128)\u001b[0m \n",
      "Val Epoch:13: 27it [00:01, 21.40it/s]\u001b[32m [repeated 13x across cluster]\u001b[0m\n"
     ]
    },
    {
     "name": "stdout",
     "output_type": "stream",
     "text": [
      "\u001b[36m(tune_with_parameters pid=2272128)\u001b[0m loss: 0.049\u001b[32m [repeated 15x across cluster]\u001b[0m\n"
     ]
    },
    {
     "name": "stderr",
     "output_type": "stream",
     "text": [
      "Val Epoch:33: 0it [00:00, ?it/s]257448)\u001b[0m \n"
     ]
    },
    {
     "name": "stdout",
     "output_type": "stream",
     "text": [
      "\u001b[36m(tune_with_parameters pid=2257448)\u001b[0m loss: 0.027\u001b[32m [repeated 18x across cluster]\u001b[0m\n"
     ]
    },
    {
     "name": "stderr",
     "output_type": "stream",
     "text": [
      "Val Epoch:14: 0it [00:00, ?it/s]272128)\u001b[0m \n",
      "Val Epoch:33: 47it [00:01, 27.34it/s]\u001b[32m [repeated 19x across cluster]\u001b[0m\n"
     ]
    },
    {
     "name": "stdout",
     "output_type": "stream",
     "text": [
      "\u001b[36m(tune_with_parameters pid=2257448)\u001b[0m loss: 0.029\u001b[32m [repeated 10x across cluster]\u001b[0m\n",
      "\u001b[36m(tune_with_parameters pid=2272128)\u001b[0m /tmp/tmp3_1m1wxb/checkpoint.pt\n"
     ]
    },
    {
     "name": "stderr",
     "output_type": "stream",
     "text": [
      "\u001b[36m(tune_with_parameters pid=2272128)\u001b[0m Checkpoint successfully created at: Checkpoint(filesystem=local, path=/scratch/users/k23058970/Model training/results/Double Peak LRCN Null/tune_with_parameters_2024-08-19_21-54-39/tune_with_parameters_54ae7_00002_2_dp=0.2500,k1=5,k2=3,k3=3,k4=1,lr=0.0141_2024-08-19_21-55-13/checkpoint_000007)\n",
      "Val Epoch:34: 0it [00:00, ?it/s]257448)\u001b[0m \n",
      "Val Epoch:34: 47it [00:01, 36.90it/s]\u001b[32m [repeated 24x across cluster]\u001b[0m\n"
     ]
    },
    {
     "name": "stdout",
     "output_type": "stream",
     "text": [
      "\u001b[36m(tune_with_parameters pid=2257448)\u001b[0m loss: 0.021\u001b[32m [repeated 16x across cluster]\u001b[0m\n"
     ]
    },
    {
     "name": "stderr",
     "output_type": "stream",
     "text": [
      "Val Epoch:35: 0it [00:00, ?it/s]257448)\u001b[0m \n",
      "Val Epoch:35: 28it [00:01, 35.47it/s]\u001b[32m [repeated 8x across cluster]\u001b[0m\n"
     ]
    },
    {
     "name": "stdout",
     "output_type": "stream",
     "text": [
      "\u001b[36m(tune_with_parameters pid=2272128)\u001b[0m loss: 0.044\u001b[32m [repeated 14x across cluster]\u001b[0m\n"
     ]
    },
    {
     "name": "stderr",
     "output_type": "stream",
     "text": [
      "Val Epoch:15: 0it [00:00, ?it/s]272128)\u001b[0m \n",
      "Val Epoch:15: 1it [00:00,  2.00it/s]\u001b[32m [repeated 6x across cluster]\u001b[0m\n",
      "Val Epoch:36: 0it [00:00, ?it/s]257448)\u001b[0m \n",
      "Val Epoch:36: 47it [00:01, 37.62it/s]8)\u001b[0m \n"
     ]
    },
    {
     "name": "stdout",
     "output_type": "stream",
     "text": [
      "\u001b[36m(tune_with_parameters pid=2257448)\u001b[0m /tmp/tmp1w4z_ix6/checkpoint.pt\n",
      "\u001b[36m(tune_with_parameters pid=2257448)\u001b[0m loss: 0.022\u001b[32m [repeated 14x across cluster]\u001b[0m\n"
     ]
    },
    {
     "name": "stderr",
     "output_type": "stream",
     "text": [
      "\u001b[36m(tune_with_parameters pid=2257448)\u001b[0m Checkpoint successfully created at: Checkpoint(filesystem=local, path=/scratch/users/k23058970/Model training/results/Double Peak LRCN Null/tune_with_parameters_2024-08-19_21-54-39/tune_with_parameters_54ae7_00001_1_dp=0.2000,k1=1,k2=3,k3=5,k4=1,lr=0.0069_2024-08-19_21-55-13/checkpoint_000024)\n"
     ]
    },
    {
     "name": "stdout",
     "output_type": "stream",
     "text": [
      "\u001b[36m(tune_with_parameters pid=2272128)\u001b[0m /tmp/tmpijy26n33/checkpoint.pt\n"
     ]
    },
    {
     "name": "stderr",
     "output_type": "stream",
     "text": [
      "Val Epoch:36: 37it [00:01, 38.63it/s]\u001b[32m [repeated 20x across cluster]\u001b[0m\n"
     ]
    },
    {
     "name": "stdout",
     "output_type": "stream",
     "text": [
      "\u001b[36m(tune_with_parameters pid=2257448)\u001b[0m loss: 0.021\u001b[32m [repeated 15x across cluster]\u001b[0m\n"
     ]
    },
    {
     "name": "stderr",
     "output_type": "stream",
     "text": [
      "Val Epoch:37: 0it [00:00, ?it/s]257448)\u001b[0m \n",
      "\u001b[36m(tune_with_parameters pid=2272128)\u001b[0m Checkpoint successfully created at: Checkpoint(filesystem=local, path=/scratch/users/k23058970/Model training/results/Double Peak LRCN Null/tune_with_parameters_2024-08-19_21-54-39/tune_with_parameters_54ae7_00002_2_dp=0.2500,k1=5,k2=3,k3=3,k4=1,lr=0.0141_2024-08-19_21-55-13/checkpoint_000008)\n",
      "Val Epoch:37: 29it [00:01, 34.94it/s]\u001b[32m [repeated 8x across cluster]\u001b[0m\n"
     ]
    },
    {
     "name": "stdout",
     "output_type": "stream",
     "text": [
      "\u001b[36m(tune_with_parameters pid=2257448)\u001b[0m loss: 0.020\u001b[32m [repeated 16x across cluster]\u001b[0m\n"
     ]
    },
    {
     "name": "stderr",
     "output_type": "stream",
     "text": [
      "Val Epoch:16: 0it [00:00, ?it/s]272128)\u001b[0m \n",
      "Val Epoch:16: 1it [00:00,  4.67it/s]\u001b[32m [repeated 5x across cluster]\u001b[0m\n"
     ]
    },
    {
     "name": "stdout",
     "output_type": "stream",
     "text": [
      "\u001b[36m(tune_with_parameters pid=2257448)\u001b[0m loss: 0.045\u001b[32m [repeated 15x across cluster]\u001b[0m\n",
      "\u001b[36m(tune_with_parameters pid=2272128)\u001b[0m /tmp/tmptcaflhu3/checkpoint.pt\n"
     ]
    },
    {
     "name": "stderr",
     "output_type": "stream",
     "text": [
      "\u001b[36m(tune_with_parameters pid=2272128)\u001b[0m Checkpoint successfully created at: Checkpoint(filesystem=local, path=/scratch/users/k23058970/Model training/results/Double Peak LRCN Null/tune_with_parameters_2024-08-19_21-54-39/tune_with_parameters_54ae7_00002_2_dp=0.2500,k1=5,k2=3,k3=3,k4=1,lr=0.0141_2024-08-19_21-55-13/checkpoint_000009)\n",
      "Val Epoch:38: 0it [00:00, ?it/s]257448)\u001b[0m \n",
      "Val Epoch:38: 47it [00:01, 31.06it/s]\u001b[32m [repeated 21x across cluster]\u001b[0m\n"
     ]
    },
    {
     "name": "stdout",
     "output_type": "stream",
     "text": [
      "\u001b[36m(tune_with_parameters pid=2257448)\u001b[0m loss: 0.019\u001b[32m [repeated 20x across cluster]\u001b[0m\n"
     ]
    },
    {
     "name": "stderr",
     "output_type": "stream",
     "text": [
      "Val Epoch:39: 0it [00:00, ?it/s]257448)\u001b[0m \n",
      "Val Epoch:39: 1it [00:00,  8.49it/s]48)\u001b[0m \n",
      "Val Epoch:39: 4it [00:00, 18.66it/s]48)\u001b[0m \n",
      "Val Epoch:39: 10it [00:00, 30.57it/s]8)\u001b[0m \n",
      "Val Epoch:39: 14it [00:00, 32.44it/s]8)\u001b[0m \n",
      "Val Epoch:39: 18it [00:00, 32.31it/s]8)\u001b[0m \n",
      "Val Epoch:39: 23it [00:00, 35.55it/s]8)\u001b[0m \n",
      "Val Epoch:39: 27it [00:00, 35.63it/s]8)\u001b[0m \n",
      "Val Epoch:39: 31it [00:01, 24.37it/s]8)\u001b[0m \n",
      "Val Epoch:39: 34it [00:01, 25.06it/s]8)\u001b[0m \n",
      "Val Epoch:39: 38it [00:01, 27.35it/s]8)\u001b[0m \n",
      "Val Epoch:39: 42it [00:01, 27.86it/s]8)\u001b[0m \n",
      "Val Epoch:39: 47it [00:01, 28.84it/s]8)\u001b[0m \n"
     ]
    },
    {
     "name": "stdout",
     "output_type": "stream",
     "text": [
      "\u001b[36m(tune_with_parameters pid=2257448)\u001b[0m loss: 0.017\u001b[32m [repeated 15x across cluster]\u001b[0m\n"
     ]
    },
    {
     "name": "stderr",
     "output_type": "stream",
     "text": [
      "Val Epoch:17: 0it [00:00, ?it/s]272128)\u001b[0m \n",
      "Val Epoch:17: 21it [00:01, 24.42it/s]\u001b[32m [repeated 6x across cluster]\u001b[0m\n",
      "Val Epoch:40: 0it [00:00, ?it/s]257448)\u001b[0m \n",
      "Val Epoch:40: 47it [00:01, 38.16it/s]8)\u001b[0m \n"
     ]
    },
    {
     "name": "stdout",
     "output_type": "stream",
     "text": [
      "\u001b[36m(tune_with_parameters pid=2272128)\u001b[0m /tmp/tmp5pffc67_/checkpoint.pt\n",
      "\u001b[36m(tune_with_parameters pid=2257448)\u001b[0m loss: 0.006\u001b[32m [repeated 10x across cluster]\u001b[0m\n"
     ]
    },
    {
     "name": "stderr",
     "output_type": "stream",
     "text": [
      "\u001b[36m(tune_with_parameters pid=2272128)\u001b[0m Checkpoint successfully created at: Checkpoint(filesystem=local, path=/scratch/users/k23058970/Model training/results/Double Peak LRCN Null/tune_with_parameters_2024-08-19_21-54-39/tune_with_parameters_54ae7_00002_2_dp=0.2500,k1=5,k2=3,k3=3,k4=1,lr=0.0141_2024-08-19_21-55-13/checkpoint_000010)\n",
      "Val Epoch:40: 38it [00:01, 42.86it/s]\u001b[32m [repeated 14x across cluster]\u001b[0m\n"
     ]
    },
    {
     "name": "stdout",
     "output_type": "stream",
     "text": [
      "\u001b[36m(tune_with_parameters pid=2257448)\u001b[0m loss: 0.017\u001b[32m [repeated 20x across cluster]\u001b[0m\n"
     ]
    },
    {
     "name": "stderr",
     "output_type": "stream",
     "text": [
      "Val Epoch:41: 0it [00:00, ?it/s]257448)\u001b[0m \n",
      "Val Epoch:41: 1it [00:00,  4.65it/s]48)\u001b[0m \n",
      "Val Epoch:41: 4it [00:00, 13.96it/s]48)\u001b[0m \n",
      "Val Epoch:41: 8it [00:00, 21.89it/s]48)\u001b[0m \n",
      "Val Epoch:41: 13it [00:00, 30.07it/s]8)\u001b[0m \n",
      "Val Epoch:41: 17it [00:00, 31.57it/s]8)\u001b[0m \n",
      "Val Epoch:41: 22it [00:00, 36.47it/s]8)\u001b[0m \n",
      "Val Epoch:41: 26it [00:00, 34.70it/s]8)\u001b[0m \n",
      "Val Epoch:41: 30it [00:01, 33.28it/s]8)\u001b[0m \n",
      "Val Epoch:41: 34it [00:01, 31.44it/s]8)\u001b[0m \n",
      "Val Epoch:41: 39it [00:01, 34.67it/s]8)\u001b[0m \n",
      "Val Epoch:41: 43it [00:01, 35.99it/s]8)\u001b[0m \n",
      "Val Epoch:41: 47it [00:01, 31.11it/s]8)\u001b[0m \n"
     ]
    },
    {
     "name": "stdout",
     "output_type": "stream",
     "text": [
      "\u001b[36m(tune_with_parameters pid=2257448)\u001b[0m /tmp/tmp4na4r88c/checkpoint.pt\n"
     ]
    },
    {
     "name": "stderr",
     "output_type": "stream",
     "text": [
      "\u001b[36m(tune_with_parameters pid=2257448)\u001b[0m Checkpoint successfully created at: Checkpoint(filesystem=local, path=/scratch/users/k23058970/Model training/results/Double Peak LRCN Null/tune_with_parameters_2024-08-19_21-54-39/tune_with_parameters_54ae7_00001_1_dp=0.2000,k1=1,k2=3,k3=5,k4=1,lr=0.0069_2024-08-19_21-55-13/checkpoint_000025)\n",
      "Val Epoch:18: 0it [00:00, ?it/s]272128)\u001b[0m \n"
     ]
    },
    {
     "name": "stdout",
     "output_type": "stream",
     "text": [
      "\u001b[36m(tune_with_parameters pid=2257448)\u001b[0m loss: 0.014\u001b[32m [repeated 13x across cluster]\u001b[0m\n"
     ]
    },
    {
     "name": "stderr",
     "output_type": "stream",
     "text": [
      "Val Epoch:18: 24it [00:01, 32.99it/s]8)\u001b[0m \n",
      "Val Epoch:18: 28it [00:01, 24.92it/s]\u001b[32m [repeated 6x across cluster]\u001b[0m\n",
      "Val Epoch:42: 0it [00:00, ?it/s]257448)\u001b[0m \n"
     ]
    },
    {
     "name": "stdout",
     "output_type": "stream",
     "text": [
      "\u001b[36m(tune_with_parameters pid=2272128)\u001b[0m /tmp/tmpg5cu_ru2/checkpoint.pt\n",
      "\u001b[36m(tune_with_parameters pid=2257448)\u001b[0m loss: 0.009\u001b[32m [repeated 12x across cluster]\u001b[0m\n"
     ]
    },
    {
     "name": "stderr",
     "output_type": "stream",
     "text": [
      "\u001b[36m(tune_with_parameters pid=2272128)\u001b[0m Checkpoint successfully created at: Checkpoint(filesystem=local, path=/scratch/users/k23058970/Model training/results/Double Peak LRCN Null/tune_with_parameters_2024-08-19_21-54-39/tune_with_parameters_54ae7_00002_2_dp=0.2500,k1=5,k2=3,k3=3,k4=1,lr=0.0141_2024-08-19_21-55-13/checkpoint_000011)\n",
      "Val Epoch:42: 47it [00:01, 33.23it/s]\u001b[32m [repeated 15x across cluster]\u001b[0m\n"
     ]
    },
    {
     "name": "stdout",
     "output_type": "stream",
     "text": [
      "\u001b[36m(tune_with_parameters pid=2257448)\u001b[0m loss: 0.015\u001b[32m [repeated 21x across cluster]\u001b[0m\n"
     ]
    },
    {
     "name": "stderr",
     "output_type": "stream",
     "text": [
      "Val Epoch:43: 0it [00:00, ?it/s]257448)\u001b[0m \n",
      "Val Epoch:43: 2it [00:00, 11.26it/s]48)\u001b[0m \n",
      "Val Epoch:43: 7it [00:00, 26.98it/s]48)\u001b[0m \n",
      "Val Epoch:43: 11it [00:00, 26.81it/s]8)\u001b[0m \n",
      "Val Epoch:43: 18it [00:00, 28.91it/s]8)\u001b[0m \n",
      "Val Epoch:43: 22it [00:00, 32.00it/s]8)\u001b[0m \n",
      "Val Epoch:43: 26it [00:00, 33.16it/s]8)\u001b[0m \n",
      "Val Epoch:43: 30it [00:00, 34.88it/s]8)\u001b[0m \n",
      "Val Epoch:43: 34it [00:01, 35.81it/s]8)\u001b[0m \n",
      "Val Epoch:43: 39it [00:01, 37.19it/s]8)\u001b[0m \n",
      "Val Epoch:43: 43it [00:01, 35.47it/s]8)\u001b[0m \n",
      "Val Epoch:43: 47it [00:01, 30.78it/s]8)\u001b[0m \n"
     ]
    },
    {
     "name": "stdout",
     "output_type": "stream",
     "text": [
      "\u001b[36m(tune_with_parameters pid=2257448)\u001b[0m loss: 0.018\u001b[32m [repeated 12x across cluster]\u001b[0m\n"
     ]
    },
    {
     "name": "stderr",
     "output_type": "stream",
     "text": [
      "Val Epoch:19: 0it [00:00, ?it/s]272128)\u001b[0m \n",
      "Val Epoch:19: 34it [00:01, 33.41it/s]\u001b[32m [repeated 9x across cluster]\u001b[0m\n",
      "Val Epoch:44: 0it [00:00, ?it/s]257448)\u001b[0m \n"
     ]
    },
    {
     "name": "stdout",
     "output_type": "stream",
     "text": [
      "\u001b[36m(tune_with_parameters pid=2272128)\u001b[0m /tmp/tmpki5ws9wd/checkpoint.pt\n",
      "\u001b[36m(tune_with_parameters pid=2257448)\u001b[0m loss: 0.007\u001b[32m [repeated 12x across cluster]\u001b[0m\n"
     ]
    },
    {
     "name": "stderr",
     "output_type": "stream",
     "text": [
      "\u001b[36m(tune_with_parameters pid=2272128)\u001b[0m Checkpoint successfully created at: Checkpoint(filesystem=local, path=/scratch/users/k23058970/Model training/results/Double Peak LRCN Null/tune_with_parameters_2024-08-19_21-54-39/tune_with_parameters_54ae7_00002_2_dp=0.2500,k1=5,k2=3,k3=3,k4=1,lr=0.0141_2024-08-19_21-55-13/checkpoint_000012)\n",
      "Val Epoch:44: 47it [00:01, 25.60it/s]\u001b[32m [repeated 13x across cluster]\u001b[0m\n"
     ]
    },
    {
     "name": "stdout",
     "output_type": "stream",
     "text": [
      "\u001b[36m(tune_with_parameters pid=2257448)\u001b[0m loss: 0.015\u001b[32m [repeated 21x across cluster]\u001b[0m\n"
     ]
    },
    {
     "name": "stderr",
     "output_type": "stream",
     "text": [
      "Val Epoch:45: 0it [00:00, ?it/s]257448)\u001b[0m \n",
      "Val Epoch:45: 1it [00:00,  1.41it/s]48)\u001b[0m \n",
      "Val Epoch:45: 5it [00:00,  7.86it/s]48)\u001b[0m \n",
      "Val Epoch:45: 10it [00:00, 15.62it/s]8)\u001b[0m \n",
      "Val Epoch:45: 17it [00:01, 26.19it/s]8)\u001b[0m \n",
      "Val Epoch:45: 22it [00:01, 28.69it/s]8)\u001b[0m \n",
      "Val Epoch:45: 27it [00:01, 31.69it/s]8)\u001b[0m \n",
      "Val Epoch:45: 32it [00:01, 35.26it/s]8)\u001b[0m \n",
      "Val Epoch:45: 37it [00:01, 35.29it/s]8)\u001b[0m \n",
      "Val Epoch:45: 42it [00:01, 38.37it/s]8)\u001b[0m \n",
      "Val Epoch:45: 47it [00:01, 25.92it/s]8)\u001b[0m \n"
     ]
    },
    {
     "name": "stdout",
     "output_type": "stream",
     "text": [
      "\u001b[36m(tune_with_parameters pid=2257448)\u001b[0m /tmp/tmptuervjo1/checkpoint.pt\n"
     ]
    },
    {
     "name": "stderr",
     "output_type": "stream",
     "text": [
      "\u001b[36m(tune_with_parameters pid=2257448)\u001b[0m Checkpoint successfully created at: Checkpoint(filesystem=local, path=/scratch/users/k23058970/Model training/results/Double Peak LRCN Null/tune_with_parameters_2024-08-19_21-54-39/tune_with_parameters_54ae7_00001_1_dp=0.2000,k1=1,k2=3,k3=5,k4=1,lr=0.0069_2024-08-19_21-55-13/checkpoint_000026)\n",
      "Val Epoch:20: 0it [00:00, ?it/s]272128)\u001b[0m \n"
     ]
    },
    {
     "name": "stdout",
     "output_type": "stream",
     "text": [
      "\u001b[36m(tune_with_parameters pid=2257448)\u001b[0m loss: 0.017\u001b[32m [repeated 12x across cluster]\u001b[0m\n"
     ]
    },
    {
     "name": "stderr",
     "output_type": "stream",
     "text": [
      "Val Epoch:20: 47it [00:02, 21.22it/s]\u001b[32m [repeated 12x across cluster]\u001b[0m\n",
      "Val Epoch:46: 0it [00:00, ?it/s]257448)\u001b[0m \n"
     ]
    },
    {
     "name": "stdout",
     "output_type": "stream",
     "text": [
      "\u001b[36m(tune_with_parameters pid=2272128)\u001b[0m loss: 0.018\u001b[32m [repeated 19x across cluster]\u001b[0m\n"
     ]
    },
    {
     "name": "stderr",
     "output_type": "stream",
     "text": [
      "Val Epoch:21: 0it [00:00, ?it/s]272128)\u001b[0m \n",
      "Val Epoch:46: 47it [00:01, 24.77it/s]\u001b[32m [repeated 12x across cluster]\u001b[0m\n",
      "Val Epoch:21: 3it [00:00,  7.81it/s]28)\u001b[0m \n"
     ]
    },
    {
     "name": "stdout",
     "output_type": "stream",
     "text": [
      "\u001b[36m(tune_with_parameters pid=2257448)\u001b[0m loss: 0.016\u001b[32m [repeated 15x across cluster]\u001b[0m\n",
      "\u001b[36m(tune_with_parameters pid=2257448)\u001b[0m /tmp/tmp7j8psoe3/checkpoint.pt\n"
     ]
    },
    {
     "name": "stderr",
     "output_type": "stream",
     "text": [
      "\u001b[36m(tune_with_parameters pid=2257448)\u001b[0m Checkpoint successfully created at: Checkpoint(filesystem=local, path=/scratch/users/k23058970/Model training/results/Double Peak LRCN Null/tune_with_parameters_2024-08-19_21-54-39/tune_with_parameters_54ae7_00001_1_dp=0.2000,k1=1,k2=3,k3=5,k4=1,lr=0.0069_2024-08-19_21-55-13/checkpoint_000027)\n"
     ]
    },
    {
     "name": "stdout",
     "output_type": "stream",
     "text": [
      "\u001b[36m(tune_with_parameters pid=2257448)\u001b[0m loss: 0.014\u001b[32m [repeated 8x across cluster]\u001b[0m\n",
      "\u001b[36m(tune_with_parameters pid=2272128)\u001b[0m /tmp/tmps_hyt3vs/checkpoint.pt\n"
     ]
    },
    {
     "name": "stderr",
     "output_type": "stream",
     "text": [
      "Val Epoch:47: 0it [00:00, ?it/s]257448)\u001b[0m \n",
      "Val Epoch:47: 47it [00:01, 28.18it/s]\u001b[32m [repeated 20x across cluster]\u001b[0m\n"
     ]
    },
    {
     "name": "stdout",
     "output_type": "stream",
     "text": [
      "\u001b[36m(tune_with_parameters pid=2272128)\u001b[0m loss: 0.014\u001b[32m [repeated 19x across cluster]\u001b[0m\n"
     ]
    },
    {
     "name": "stderr",
     "output_type": "stream",
     "text": [
      "Val Epoch:48: 0it [00:00, ?it/s]257448)\u001b[0m \n",
      "\u001b[36m(tune_with_parameters pid=2272128)\u001b[0m Checkpoint successfully created at: Checkpoint(filesystem=local, path=/scratch/users/k23058970/Model training/results/Double Peak LRCN Null/tune_with_parameters_2024-08-19_21-54-39/tune_with_parameters_54ae7_00002_2_dp=0.2500,k1=5,k2=3,k3=3,k4=1,lr=0.0141_2024-08-19_21-55-13/checkpoint_000013)\n",
      "Val Epoch:48: 1it [00:00,  2.13it/s]48)\u001b[0m \n",
      "Val Epoch:48: 4it [00:00,  8.60it/s]48)\u001b[0m \n",
      "Val Epoch:48: 9it [00:00, 18.08it/s]48)\u001b[0m \n",
      "Val Epoch:48: 14it [00:00, 26.04it/s]8)\u001b[0m \n",
      "Val Epoch:48: 18it [00:00, 29.51it/s]8)\u001b[0m \n",
      "Val Epoch:48: 22it [00:01, 30.87it/s]8)\u001b[0m \n",
      "Val Epoch:48: 27it [00:01, 34.74it/s]8)\u001b[0m \n",
      "Val Epoch:48: 31it [00:01, 34.01it/s]8)\u001b[0m \n",
      "Val Epoch:48: 35it [00:01, 35.57it/s]8)\u001b[0m \n",
      "Val Epoch:48: 40it [00:01, 36.76it/s]8)\u001b[0m \n",
      "Val Epoch:48: 45it [00:01, 40.04it/s]8)\u001b[0m \n",
      "Val Epoch:48: 47it [00:01, 27.63it/s]8)\u001b[0m \n"
     ]
    },
    {
     "name": "stdout",
     "output_type": "stream",
     "text": [
      "\u001b[36m(tune_with_parameters pid=2257448)\u001b[0m /tmp/tmpirnw1peo/checkpoint.pt\n"
     ]
    },
    {
     "name": "stderr",
     "output_type": "stream",
     "text": [
      "\u001b[36m(tune_with_parameters pid=2257448)\u001b[0m Checkpoint successfully created at: Checkpoint(filesystem=local, path=/scratch/users/k23058970/Model training/results/Double Peak LRCN Null/tune_with_parameters_2024-08-19_21-54-39/tune_with_parameters_54ae7_00001_1_dp=0.2000,k1=1,k2=3,k3=5,k4=1,lr=0.0069_2024-08-19_21-55-13/checkpoint_000028)\n"
     ]
    },
    {
     "name": "stdout",
     "output_type": "stream",
     "text": [
      "\u001b[36m(tune_with_parameters pid=2257448)\u001b[0m loss: 0.009\u001b[32m [repeated 13x across cluster]\u001b[0m\n"
     ]
    },
    {
     "name": "stderr",
     "output_type": "stream",
     "text": [
      "Val Epoch:22: 0it [00:00, ?it/s]272128)\u001b[0m \n",
      "Val Epoch:22: 41it [00:01, 32.03it/s]\u001b[32m [repeated 11x across cluster]\u001b[0m\n"
     ]
    },
    {
     "name": "stdout",
     "output_type": "stream",
     "text": [
      "\u001b[36m(tune_with_parameters pid=2257448)\u001b[0m loss: 0.011\u001b[32m [repeated 18x across cluster]\u001b[0m\n"
     ]
    },
    {
     "name": "stderr",
     "output_type": "stream",
     "text": [
      "Val Epoch:49: 0it [00:00, ?it/s]257448)\u001b[0m \n",
      "Val Epoch:49: 1it [00:00,  2.32it/s]\u001b[32m [repeated 3x across cluster]\u001b[0m\n",
      "Val Epoch:23: 0it [00:00, ?it/s]272128)\u001b[0m \n"
     ]
    },
    {
     "name": "stdout",
     "output_type": "stream",
     "text": [
      "\u001b[36m(tune_with_parameters pid=2257448)\u001b[0m loss: 0.011\u001b[32m [repeated 17x across cluster]\u001b[0m\n"
     ]
    },
    {
     "name": "stderr",
     "output_type": "stream",
     "text": [
      "Val Epoch:23: 12it [00:01, 14.53it/s]\u001b[32m [repeated 14x across cluster]\u001b[0m\n",
      "Val Epoch:50: 0it [00:00, ?it/s]257448)\u001b[0m \n"
     ]
    },
    {
     "name": "stdout",
     "output_type": "stream",
     "text": [
      "\u001b[36m(tune_with_parameters pid=2272128)\u001b[0m loss: 0.012\u001b[32m [repeated 14x across cluster]\u001b[0m\n"
     ]
    },
    {
     "name": "stderr",
     "output_type": "stream",
     "text": [
      "Val Epoch:50: 47it [00:01, 27.00it/s]\u001b[32m [repeated 20x across cluster]\u001b[0m\n",
      "Val Epoch:24: 0it [00:00, ?it/s]272128)\u001b[0m \n"
     ]
    },
    {
     "name": "stdout",
     "output_type": "stream",
     "text": [
      "\u001b[36m(tune_with_parameters pid=2257448)\u001b[0m loss: 0.009\u001b[32m [repeated 20x across cluster]\u001b[0m\n"
     ]
    },
    {
     "name": "stderr",
     "output_type": "stream",
     "text": [
      "Val Epoch:51: 0it [00:00, ?it/s]257448)\u001b[0m \n",
      "Val Epoch:51: 47it [00:01, 36.28it/s]8)\u001b[0m \n"
     ]
    },
    {
     "name": "stdout",
     "output_type": "stream",
     "text": [
      "\u001b[36m(tune_with_parameters pid=2257448)\u001b[0m /tmp/tmpw7lx4hya/checkpoint.pt\n"
     ]
    },
    {
     "name": "stderr",
     "output_type": "stream",
     "text": [
      "\u001b[36m(tune_with_parameters pid=2257448)\u001b[0m Checkpoint successfully created at: Checkpoint(filesystem=local, path=/scratch/users/k23058970/Model training/results/Double Peak LRCN Null/tune_with_parameters_2024-08-19_21-54-39/tune_with_parameters_54ae7_00001_1_dp=0.2000,k1=1,k2=3,k3=5,k4=1,lr=0.0069_2024-08-19_21-55-13/checkpoint_000029)\n"
     ]
    },
    {
     "name": "stdout",
     "output_type": "stream",
     "text": [
      "\u001b[36m(tune_with_parameters pid=2257448)\u001b[0m loss: 0.009\u001b[32m [repeated 7x across cluster]\u001b[0m\n",
      "\u001b[36m(tune_with_parameters pid=2272128)\u001b[0m /tmp/tmpoqp27xd8/checkpoint.pt\n"
     ]
    },
    {
     "name": "stderr",
     "output_type": "stream",
     "text": [
      "Val Epoch:51: 39it [00:01, 46.27it/s]\u001b[32m [repeated 20x across cluster]\u001b[0m\n",
      "Val Epoch:52: 0it [00:00, ?it/s]257448)\u001b[0m \n",
      "\u001b[36m(tune_with_parameters pid=2272128)\u001b[0m Checkpoint successfully created at: Checkpoint(filesystem=local, path=/scratch/users/k23058970/Model training/results/Double Peak LRCN Null/tune_with_parameters_2024-08-19_21-54-39/tune_with_parameters_54ae7_00002_2_dp=0.2500,k1=5,k2=3,k3=3,k4=1,lr=0.0141_2024-08-19_21-55-13/checkpoint_000014)\n"
     ]
    },
    {
     "name": "stdout",
     "output_type": "stream",
     "text": [
      "\u001b[36m(tune_with_parameters pid=2272128)\u001b[0m loss: 0.009\u001b[32m [repeated 17x across cluster]\u001b[0m\n"
     ]
    },
    {
     "name": "stderr",
     "output_type": "stream",
     "text": [
      "Val Epoch:52: 25it [00:00, 35.05it/s]\u001b[32m [repeated 6x across cluster]\u001b[0m\n",
      "Val Epoch:25: 0it [00:00, ?it/s]272128)\u001b[0m \n"
     ]
    },
    {
     "name": "stdout",
     "output_type": "stream",
     "text": [
      "\u001b[36m(tune_with_parameters pid=2257448)\u001b[0m loss: 0.011\u001b[32m [repeated 19x across cluster]\u001b[0m\n"
     ]
    },
    {
     "name": "stderr",
     "output_type": "stream",
     "text": [
      "Val Epoch:25: 1it [00:00,  1.48it/s]\u001b[32m [repeated 6x across cluster]\u001b[0m\n",
      "Val Epoch:53: 0it [00:00, ?it/s]257448)\u001b[0m \n",
      "Val Epoch:53: 47it [00:01, 29.84it/s]8)\u001b[0m \n"
     ]
    },
    {
     "name": "stdout",
     "output_type": "stream",
     "text": [
      "\u001b[36m(tune_with_parameters pid=2257448)\u001b[0m /tmp/tmp8wjrh07h/checkpoint.pt\n"
     ]
    },
    {
     "name": "stderr",
     "output_type": "stream",
     "text": [
      "\u001b[36m(tune_with_parameters pid=2257448)\u001b[0m Checkpoint successfully created at: Checkpoint(filesystem=local, path=/scratch/users/k23058970/Model training/results/Double Peak LRCN Null/tune_with_parameters_2024-08-19_21-54-39/tune_with_parameters_54ae7_00001_1_dp=0.2000,k1=1,k2=3,k3=5,k4=1,lr=0.0069_2024-08-19_21-55-13/checkpoint_000030)\n"
     ]
    },
    {
     "name": "stdout",
     "output_type": "stream",
     "text": [
      "\u001b[36m(tune_with_parameters pid=2257448)\u001b[0m loss: 0.003\u001b[32m [repeated 11x across cluster]\u001b[0m\n"
     ]
    },
    {
     "name": "stderr",
     "output_type": "stream",
     "text": [
      "Val Epoch:26: 0it [00:00, ?it/s]272128)\u001b[0m \n",
      "Val Epoch:53: 41it [00:01, 31.01it/s]\u001b[32m [repeated 21x across cluster]\u001b[0m\n"
     ]
    },
    {
     "name": "stdout",
     "output_type": "stream",
     "text": [
      "\u001b[36m(tune_with_parameters pid=2257448)\u001b[0m loss: 0.008\u001b[32m [repeated 24x across cluster]\u001b[0m\n",
      "\u001b[36m(tune_with_parameters pid=2257448)\u001b[0m /tmp/tmpyfz5c8qy/checkpoint.pt\n"
     ]
    },
    {
     "name": "stderr",
     "output_type": "stream",
     "text": [
      "\u001b[36m(tune_with_parameters pid=2257448)\u001b[0m Checkpoint successfully created at: Checkpoint(filesystem=local, path=/scratch/users/k23058970/Model training/results/Double Peak LRCN Null/tune_with_parameters_2024-08-19_21-54-39/tune_with_parameters_54ae7_00001_1_dp=0.2000,k1=1,k2=3,k3=5,k4=1,lr=0.0069_2024-08-19_21-55-13/checkpoint_000031)\n"
     ]
    },
    {
     "name": "stdout",
     "output_type": "stream",
     "text": [
      "\u001b[36m(tune_with_parameters pid=2257448)\u001b[0m loss: 0.008\u001b[32m [repeated 4x across cluster]\u001b[0m\n"
     ]
    },
    {
     "name": "stderr",
     "output_type": "stream",
     "text": [
      "Val Epoch:55: 0it [00:00, ?it/s]\u001b[32m [repeated 2x across cluster]\u001b[0m\n",
      "Val Epoch:26: 47it [00:02, 17.92it/s]\u001b[32m [repeated 28x across cluster]\u001b[0m\n"
     ]
    },
    {
     "name": "stdout",
     "output_type": "stream",
     "text": [
      "\u001b[36m(tune_with_parameters pid=2272128)\u001b[0m loss: 0.010\u001b[32m [repeated 24x across cluster]\u001b[0m\n",
      "\u001b[36m(tune_with_parameters pid=2257448)\u001b[0m loss: 0.007\u001b[32m [repeated 7x across cluster]\u001b[0m\n"
     ]
    },
    {
     "name": "stderr",
     "output_type": "stream",
     "text": [
      "Val Epoch:56: 0it [00:00, ?it/s]\u001b[32m [repeated 2x across cluster]\u001b[0m\n",
      "Val Epoch:27: 47it [00:02, 19.57it/s]\u001b[32m [repeated 22x across cluster]\u001b[0m\n"
     ]
    },
    {
     "name": "stdout",
     "output_type": "stream",
     "text": [
      "\u001b[36m(tune_with_parameters pid=2272128)\u001b[0m loss: 0.007\u001b[32m [repeated 22x across cluster]\u001b[0m\n",
      "\u001b[36m(tune_with_parameters pid=2257448)\u001b[0m /tmp/tmp3a2fyza9/checkpoint.pt\n"
     ]
    },
    {
     "name": "stderr",
     "output_type": "stream",
     "text": [
      "\u001b[36m(tune_with_parameters pid=2257448)\u001b[0m Checkpoint successfully created at: Checkpoint(filesystem=local, path=/scratch/users/k23058970/Model training/results/Double Peak LRCN Null/tune_with_parameters_2024-08-19_21-54-39/tune_with_parameters_54ae7_00001_1_dp=0.2000,k1=1,k2=3,k3=5,k4=1,lr=0.0069_2024-08-19_21-55-13/checkpoint_000032)\n",
      "Val Epoch:28: 0it [00:00, ?it/s]272128)\u001b[0m \n",
      "Val Epoch:28: 10it [00:01, 13.26it/s]\u001b[32m [repeated 17x across cluster]\u001b[0m\n"
     ]
    },
    {
     "name": "stdout",
     "output_type": "stream",
     "text": [
      "\u001b[36m(tune_with_parameters pid=2257448)\u001b[0m loss: 0.007\u001b[32m [repeated 12x across cluster]\u001b[0m\n"
     ]
    },
    {
     "name": "stderr",
     "output_type": "stream",
     "text": [
      "Val Epoch:57: 0it [00:00, ?it/s]257448)\u001b[0m \n",
      "Val Epoch:57: 1it [00:00,  1.21it/s]\u001b[32m [repeated 11x across cluster]\u001b[0m\n"
     ]
    },
    {
     "name": "stdout",
     "output_type": "stream",
     "text": [
      "\u001b[36m(tune_with_parameters pid=2272128)\u001b[0m loss: 0.008\u001b[32m [repeated 16x across cluster]\u001b[0m\n"
     ]
    },
    {
     "name": "stderr",
     "output_type": "stream",
     "text": [
      "Val Epoch:29: 0it [00:00, ?it/s]272128)\u001b[0m \n",
      "Val Epoch:57: 47it [00:02, 22.77it/s]\u001b[32m [repeated 11x across cluster]\u001b[0m\n"
     ]
    },
    {
     "name": "stdout",
     "output_type": "stream",
     "text": [
      "\u001b[36m(tune_with_parameters pid=2257448)\u001b[0m loss: 0.009\u001b[32m [repeated 17x across cluster]\u001b[0m\n"
     ]
    },
    {
     "name": "stderr",
     "output_type": "stream",
     "text": [
      "Val Epoch:58: 0it [00:00, ?it/s]257448)\u001b[0m \n",
      "Val Epoch:58: 34it [00:01, 20.24it/s]\u001b[32m [repeated 20x across cluster]\u001b[0m\n"
     ]
    },
    {
     "name": "stdout",
     "output_type": "stream",
     "text": [
      "\u001b[36m(tune_with_parameters pid=2272128)\u001b[0m \n",
      "\u001b[36m(tune_with_parameters pid=2257448)\u001b[0m loss: 0.006\u001b[32m [repeated 16x across cluster]\u001b[0m\n"
     ]
    },
    {
     "name": "stderr",
     "output_type": "stream",
     "text": [
      "Val Epoch:30: 0it [00:00, ?it/s]272128)\u001b[0m \n",
      "Val Epoch:30: 1it [00:00,  1.43it/s]\u001b[32m [repeated 4x across cluster]\u001b[0m\n",
      "Val Epoch:59: 0it [00:00, ?it/s]257448)\u001b[0m \n"
     ]
    },
    {
     "name": "stdout",
     "output_type": "stream",
     "text": [
      "\u001b[36m(tune_with_parameters pid=2272128)\u001b[0m loss: 0.006\u001b[32m [repeated 18x across cluster]\u001b[0m\n",
      "\u001b[36m(tune_with_parameters pid=2257448)\u001b[0m loss: 0.006\u001b[32m [repeated 20x across cluster]\u001b[0m\n"
     ]
    },
    {
     "name": "stderr",
     "output_type": "stream",
     "text": [
      "Val Epoch:59: 47it [00:01, 23.68it/s]\u001b[32m [repeated 25x across cluster]\u001b[0m\n",
      "Val Epoch:31: 0it [00:00, ?it/s]272128)\u001b[0m \n",
      "Val Epoch:60: 0it [00:00, ?it/s]257448)\u001b[0m \n"
     ]
    },
    {
     "name": "stdout",
     "output_type": "stream",
     "text": [
      "\u001b[36m(tune_with_parameters pid=2257448)\u001b[0m loss: 0.004\u001b[32m [repeated 10x across cluster]\u001b[0m\n",
      "\u001b[36m(tune_with_parameters pid=2257448)\u001b[0m loss: 0.007\u001b[32m [repeated 21x across cluster]\u001b[0m\n"
     ]
    },
    {
     "name": "stderr",
     "output_type": "stream",
     "text": [
      "Val Epoch:61: 0it [00:00, ?it/s]257448)\u001b[0m \n",
      "Val Epoch:31: 47it [00:02, 17.14it/s]\u001b[32m [repeated 23x across cluster]\u001b[0m\n",
      "Val Epoch:32: 0it [00:00, ?it/s]272128)\u001b[0m \n"
     ]
    },
    {
     "name": "stdout",
     "output_type": "stream",
     "text": [
      "\u001b[36m(tune_with_parameters pid=2257448)\u001b[0m loss: 0.007\u001b[32m [repeated 11x across cluster]\u001b[0m\n"
     ]
    },
    {
     "name": "stderr",
     "output_type": "stream",
     "text": [
      "Val Epoch:32: 47it [00:01, 26.61it/s]\u001b[32m [repeated 26x across cluster]\u001b[0m\n",
      "Val Epoch:62: 0it [00:00, ?it/s]257448)\u001b[0m \n"
     ]
    },
    {
     "name": "stdout",
     "output_type": "stream",
     "text": [
      "\u001b[36m(tune_with_parameters pid=2272128)\u001b[0m loss: 0.004\u001b[32m [repeated 20x across cluster]\u001b[0m\n"
     ]
    },
    {
     "name": "stderr",
     "output_type": "stream",
     "text": [
      "Val Epoch:33: 0it [00:00, ?it/s]272128)\u001b[0m \n",
      "Val Epoch:33: 3it [00:00,  4.91it/s]\u001b[32m [repeated 13x across cluster]\u001b[0m\n"
     ]
    },
    {
     "name": "stdout",
     "output_type": "stream",
     "text": [
      "\u001b[36m(tune_with_parameters pid=2257448)\u001b[0m loss: 0.007\u001b[32m [repeated 15x across cluster]\u001b[0m\n"
     ]
    },
    {
     "name": "stderr",
     "output_type": "stream",
     "text": [
      "Val Epoch:33: 47it [00:01, 23.64it/s]8)\u001b[0m \n",
      "Val Epoch:63: 0it [00:00, ?it/s]257448)\u001b[0m \n",
      "Val Epoch:63: 29it [00:00, 35.83it/s]\u001b[32m [repeated 15x across cluster]\u001b[0m\n"
     ]
    },
    {
     "name": "stdout",
     "output_type": "stream",
     "text": [
      "\u001b[36m(tune_with_parameters pid=2272128)\u001b[0m loss: 0.006\u001b[32m [repeated 14x across cluster]\u001b[0m\n"
     ]
    },
    {
     "name": "stderr",
     "output_type": "stream",
     "text": [
      "Val Epoch:34: 0it [00:00, ?it/s]272128)\u001b[0m \n",
      "Val Epoch:63: 47it [00:01, 32.96it/s]\u001b[32m [repeated 4x across cluster]\u001b[0m\n"
     ]
    },
    {
     "name": "stdout",
     "output_type": "stream",
     "text": [
      "\u001b[36m(tune_with_parameters pid=2257448)\u001b[0m loss: 0.006\u001b[32m [repeated 20x across cluster]\u001b[0m\n",
      "\u001b[36m(tune_with_parameters pid=2272128)\u001b[0m loss: 0.003\u001b[32m [repeated 10x across cluster]\u001b[0m\n"
     ]
    },
    {
     "name": "stderr",
     "output_type": "stream",
     "text": [
      "Val Epoch:65: 0it [00:00, ?it/s]\u001b[32m [repeated 2x across cluster]\u001b[0m\n",
      "Val Epoch:64: 47it [00:02, 21.02it/s]\u001b[32m [repeated 25x across cluster]\u001b[0m\n"
     ]
    },
    {
     "name": "stdout",
     "output_type": "stream",
     "text": [
      "\u001b[36m(tune_with_parameters pid=2272128)\u001b[0m loss: 0.004\u001b[32m [repeated 23x across cluster]\u001b[0m\n"
     ]
    },
    {
     "name": "stderr",
     "output_type": "stream",
     "text": [
      "Val Epoch:65: 47it [00:01, 27.91it/s]8)\u001b[0m \n"
     ]
    },
    {
     "name": "stdout",
     "output_type": "stream",
     "text": [
      "\u001b[36m(tune_with_parameters pid=2257448)\u001b[0m loss: 0.005\u001b[32m [repeated 10x across cluster]\u001b[0m\n",
      "\u001b[36m(tune_with_parameters pid=2272128)\u001b[0m /tmp/tmp_4j85vw3/checkpoint.pt\n"
     ]
    },
    {
     "name": "stderr",
     "output_type": "stream",
     "text": [
      "\u001b[36m(tune_with_parameters pid=2272128)\u001b[0m Checkpoint successfully created at: Checkpoint(filesystem=local, path=/scratch/users/k23058970/Model training/results/Double Peak LRCN Null/tune_with_parameters_2024-08-19_21-54-39/tune_with_parameters_54ae7_00002_2_dp=0.2500,k1=5,k2=3,k3=3,k4=1,lr=0.0141_2024-08-19_21-55-13/checkpoint_000015)\n",
      "Val Epoch:35: 0it [00:00, ?it/s]272128)\u001b[0m \n",
      "Val Epoch:35: 47it [00:02, 21.03it/s]\u001b[32m [repeated 21x across cluster]\u001b[0m\n",
      "Val Epoch:66: 0it [00:00, ?it/s]257448)\u001b[0m \n"
     ]
    },
    {
     "name": "stdout",
     "output_type": "stream",
     "text": [
      "\u001b[36m(tune_with_parameters pid=2272128)\u001b[0m loss: 0.003\u001b[32m [repeated 11x across cluster]\u001b[0m\n"
     ]
    },
    {
     "name": "stderr",
     "output_type": "stream",
     "text": [
      "Val Epoch:66: 47it [00:01, 29.40it/s]\u001b[32m [repeated 11x across cluster]\u001b[0m\n",
      "Val Epoch:36: 0it [00:00, ?it/s]272128)\u001b[0m \n",
      "Val Epoch:36: 47it [00:01, 33.65it/s]8)\u001b[0m \n"
     ]
    },
    {
     "name": "stdout",
     "output_type": "stream",
     "text": [
      "\u001b[36m(tune_with_parameters pid=2272128)\u001b[0m loss: 0.004\u001b[32m [repeated 10x across cluster]\u001b[0m\n",
      "\u001b[36m(tune_with_parameters pid=2272128)\u001b[0m loss: 0.003\u001b[32m [repeated 11x across cluster]\u001b[0m\n"
     ]
    },
    {
     "name": "stderr",
     "output_type": "stream",
     "text": [
      "\u001b[36m(tune_with_parameters pid=2336775)\u001b[0m /users/k23058970/miniforge3/envs/Training/lib/python3.10/site-packages/torch/nn/modules/lazy.py:181: UserWarning: Lazy modules are a new feature under heavy development so changes to the API or functionality can happen at any moment.\n",
      "\u001b[36m(tune_with_parameters pid=2336775)\u001b[0m   warnings.warn('Lazy modules are a new feature under heavy development '\n",
      "Val Epoch:36: 40it [00:01, 45.46it/s]\u001b[32m [repeated 8x across cluster]\u001b[0m\n",
      "Val Epoch:37: 0it [00:00, ?it/s]272128)\u001b[0m \n",
      "Val Epoch:37: 47it [00:01, 25.50it/s]8)\u001b[0m \n"
     ]
    },
    {
     "name": "stdout",
     "output_type": "stream",
     "text": [
      "\u001b[36m(tune_with_parameters pid=2336775)\u001b[0m loss: 1.096\u001b[32m [repeated 4x across cluster]\u001b[0m\n",
      "\u001b[36m(tune_with_parameters pid=2272128)\u001b[0m /tmp/tmpefcl3eq8/checkpoint.pt\n"
     ]
    },
    {
     "name": "stderr",
     "output_type": "stream",
     "text": [
      "\u001b[36m(tune_with_parameters pid=2272128)\u001b[0m Checkpoint successfully created at: Checkpoint(filesystem=local, path=/scratch/users/k23058970/Model training/results/Double Peak LRCN Null/tune_with_parameters_2024-08-19_21-54-39/tune_with_parameters_54ae7_00002_2_dp=0.2500,k1=5,k2=3,k3=3,k4=1,lr=0.0141_2024-08-19_21-55-13/checkpoint_000016)\n",
      "Val Epoch:37: 41it [00:01, 39.02it/s]\u001b[32m [repeated 9x across cluster]\u001b[0m\n"
     ]
    },
    {
     "name": "stdout",
     "output_type": "stream",
     "text": [
      "\u001b[36m(tune_with_parameters pid=2336775)\u001b[0m loss: 1.098\u001b[32m [repeated 19x across cluster]\u001b[0m\n"
     ]
    },
    {
     "name": "stderr",
     "output_type": "stream",
     "text": [
      "Val Epoch:0: 0it [00:00, ?it/s]2336775)\u001b[0m \n",
      "Val Epoch:0: 21it [00:00, 21.80it/s]\u001b[32m [repeated 7x across cluster]\u001b[0m\n"
     ]
    },
    {
     "name": "stdout",
     "output_type": "stream",
     "text": [
      "\u001b[36m(tune_with_parameters pid=2336775)\u001b[0m /tmp/tmphz0809db/checkpoint.pt\n"
     ]
    },
    {
     "name": "stderr",
     "output_type": "stream",
     "text": [
      "\u001b[36m(tune_with_parameters pid=2336775)\u001b[0m Checkpoint successfully created at: Checkpoint(filesystem=local, path=/scratch/users/k23058970/Model training/results/Double Peak LRCN Null/tune_with_parameters_2024-08-19_21-54-39/tune_with_parameters_54ae7_00003_3_dp=0.2500,k1=1,k2=3,k3=1,k4=3,lr=0.0072_2024-08-19_21-55-13/checkpoint_000000)\n"
     ]
    },
    {
     "name": "stdout",
     "output_type": "stream",
     "text": [
      "\u001b[36m(tune_with_parameters pid=2272128)\u001b[0m loss: 0.002\u001b[32m [repeated 14x across cluster]\u001b[0m\n"
     ]
    },
    {
     "name": "stderr",
     "output_type": "stream",
     "text": [
      "Val Epoch:38: 0it [00:00, ?it/s]272128)\u001b[0m \n",
      "Val Epoch:38: 30it [00:01, 28.28it/s]\u001b[32m [repeated 14x across cluster]\u001b[0m\n"
     ]
    },
    {
     "name": "stdout",
     "output_type": "stream",
     "text": [
      "\u001b[36m(tune_with_parameters pid=2272128)\u001b[0m loss: 0.002\u001b[32m [repeated 15x across cluster]\u001b[0m\n"
     ]
    },
    {
     "name": "stderr",
     "output_type": "stream",
     "text": [
      "Val Epoch:1: 0it [00:00, ?it/s]2336775)\u001b[0m \n",
      "Val Epoch:1: 37it [00:01, 35.40it/s]\u001b[32m [repeated 13x across cluster]\u001b[0m\n"
     ]
    },
    {
     "name": "stdout",
     "output_type": "stream",
     "text": [
      "\u001b[36m(tune_with_parameters pid=2336775)\u001b[0m /tmp/tmpb6j7eg4k/checkpoint.pt\n"
     ]
    },
    {
     "name": "stderr",
     "output_type": "stream",
     "text": [
      "\u001b[36m(tune_with_parameters pid=2336775)\u001b[0m Checkpoint successfully created at: Checkpoint(filesystem=local, path=/scratch/users/k23058970/Model training/results/Double Peak LRCN Null/tune_with_parameters_2024-08-19_21-54-39/tune_with_parameters_54ae7_00003_3_dp=0.2500,k1=1,k2=3,k3=1,k4=3,lr=0.0072_2024-08-19_21-55-13/checkpoint_000001)\n"
     ]
    },
    {
     "name": "stdout",
     "output_type": "stream",
     "text": [
      "\u001b[36m(tune_with_parameters pid=2272128)\u001b[0m loss: 0.002\u001b[32m [repeated 14x across cluster]\u001b[0m\n"
     ]
    },
    {
     "name": "stderr",
     "output_type": "stream",
     "text": [
      "Val Epoch:39: 0it [00:00, ?it/s]272128)\u001b[0m \n",
      "Val Epoch:39: 10it [00:00, 15.14it/s]\u001b[32m [repeated 5x across cluster]\u001b[0m\n",
      "Val Epoch:39: 47it [00:02, 22.74it/s]8)\u001b[0m \n",
      "Val Epoch:2: 0it [00:00, ?it/s]2336775)\u001b[0m \n"
     ]
    },
    {
     "name": "stdout",
     "output_type": "stream",
     "text": [
      "\u001b[36m(tune_with_parameters pid=2272128)\u001b[0m loss: 0.002\u001b[32m [repeated 16x across cluster]\u001b[0m\n"
     ]
    },
    {
     "name": "stderr",
     "output_type": "stream",
     "text": [
      "Val Epoch:2: 44it [00:01, 31.27it/s]\u001b[32m [repeated 18x across cluster]\u001b[0m\n"
     ]
    },
    {
     "name": "stdout",
     "output_type": "stream",
     "text": [
      "\u001b[36m(tune_with_parameters pid=2336775)\u001b[0m /tmp/tmp6avgy9c1/checkpoint.pt\n"
     ]
    },
    {
     "name": "stderr",
     "output_type": "stream",
     "text": [
      "\u001b[36m(tune_with_parameters pid=2336775)\u001b[0m Checkpoint successfully created at: Checkpoint(filesystem=local, path=/scratch/users/k23058970/Model training/results/Double Peak LRCN Null/tune_with_parameters_2024-08-19_21-54-39/tune_with_parameters_54ae7_00003_3_dp=0.2500,k1=1,k2=3,k3=1,k4=3,lr=0.0072_2024-08-19_21-55-13/checkpoint_000002)\n"
     ]
    },
    {
     "name": "stdout",
     "output_type": "stream",
     "text": [
      "\u001b[36m(tune_with_parameters pid=2336775)\u001b[0m loss: 1.081\u001b[32m [repeated 18x across cluster]\u001b[0m\n"
     ]
    },
    {
     "name": "stderr",
     "output_type": "stream",
     "text": [
      "Val Epoch:40: 0it [00:00, ?it/s]272128)\u001b[0m \n",
      "Val Epoch:40: 1it [00:00,  2.25it/s]\u001b[32m [repeated 2x across cluster]\u001b[0m\n",
      "Val Epoch:40: 47it [00:01, 25.53it/s]8)\u001b[0m \n",
      "Val Epoch:3: 0it [00:00, ?it/s]2336775)\u001b[0m \n"
     ]
    },
    {
     "name": "stdout",
     "output_type": "stream",
     "text": [
      "\u001b[36m(tune_with_parameters pid=2272128)\u001b[0m loss: 0.001\u001b[32m [repeated 11x across cluster]\u001b[0m\n"
     ]
    },
    {
     "name": "stderr",
     "output_type": "stream",
     "text": [
      "Val Epoch:3: 36it [00:01, 28.23it/s]\u001b[32m [repeated 19x across cluster]\u001b[0m\n"
     ]
    },
    {
     "name": "stdout",
     "output_type": "stream",
     "text": [
      "\u001b[36m(tune_with_parameters pid=2336775)\u001b[0m \n",
      "\u001b[36m(tune_with_parameters pid=2336775)\u001b[0m loss: 1.056\u001b[32m [repeated 18x across cluster]\u001b[0m\n"
     ]
    },
    {
     "name": "stderr",
     "output_type": "stream",
     "text": [
      "Val Epoch:41: 0it [00:00, ?it/s]272128)\u001b[0m \n",
      "Val Epoch:3: 47it [00:01, 25.80it/s]\u001b[32m [repeated 3x across cluster]\u001b[0m\n",
      "Val Epoch:4: 0it [00:00, ?it/s]2336775)\u001b[0m \n"
     ]
    },
    {
     "name": "stdout",
     "output_type": "stream",
     "text": [
      "\u001b[36m(tune_with_parameters pid=2272128)\u001b[0m loss: 0.002\u001b[32m [repeated 10x across cluster]\u001b[0m\n",
      "\u001b[36m(tune_with_parameters pid=2336775)\u001b[0m /tmp/tmputs5mc0v/checkpoint.pt\n"
     ]
    },
    {
     "name": "stderr",
     "output_type": "stream",
     "text": [
      "\u001b[36m(tune_with_parameters pid=2336775)\u001b[0m Checkpoint successfully created at: Checkpoint(filesystem=local, path=/scratch/users/k23058970/Model training/results/Double Peak LRCN Null/tune_with_parameters_2024-08-19_21-54-39/tune_with_parameters_54ae7_00003_3_dp=0.2500,k1=1,k2=3,k3=1,k4=3,lr=0.0072_2024-08-19_21-55-13/checkpoint_000003)\n",
      "Val Epoch:4: 47it [00:02, 16.48it/s]\u001b[32m [repeated 24x across cluster]\u001b[0m\n"
     ]
    },
    {
     "name": "stdout",
     "output_type": "stream",
     "text": [
      "\u001b[36m(tune_with_parameters pid=2272128)\u001b[0m loss: 0.001\u001b[32m [repeated 17x across cluster]\u001b[0m\n"
     ]
    },
    {
     "name": "stderr",
     "output_type": "stream",
     "text": [
      "Val Epoch:42: 0it [00:00, ?it/s]272128)\u001b[0m \n",
      "Val Epoch:42: 1it [00:00,  4.31it/s]28)\u001b[0m \n",
      "Val Epoch:42: 2it [00:00,  5.90it/s]28)\u001b[0m \n",
      "Val Epoch:42: 5it [00:00, 11.35it/s]28)\u001b[0m \n",
      "Val Epoch:42: 7it [00:00, 13.59it/s]28)\u001b[0m \n",
      "Val Epoch:42: 11it [00:00, 19.12it/s]8)\u001b[0m \n",
      "Val Epoch:42: 16it [00:00, 25.93it/s]8)\u001b[0m \n",
      "Val Epoch:42: 21it [00:01, 20.55it/s]8)\u001b[0m \n",
      "Val Epoch:5: 0it [00:00, ?it/s]2336775)\u001b[0m \n",
      "Val Epoch:42: 24it [00:01, 11.07it/s]8)\u001b[0m \n",
      "Val Epoch:42: 28it [00:01, 14.54it/s]8)\u001b[0m \n"
     ]
    },
    {
     "name": "stdout",
     "output_type": "stream",
     "text": [
      "\u001b[36m(tune_with_parameters pid=2272128)\u001b[0m loss: 0.001\u001b[32m [repeated 13x across cluster]\u001b[0m\n",
      "\u001b[36m(tune_with_parameters pid=2336775)\u001b[0m /tmp/tmp55z4x2fa/checkpoint.pt\n"
     ]
    },
    {
     "name": "stderr",
     "output_type": "stream",
     "text": [
      "\u001b[36m(tune_with_parameters pid=2336775)\u001b[0m Checkpoint successfully created at: Checkpoint(filesystem=local, path=/scratch/users/k23058970/Model training/results/Double Peak LRCN Null/tune_with_parameters_2024-08-19_21-54-39/tune_with_parameters_54ae7_00003_3_dp=0.2500,k1=1,k2=3,k3=1,k4=3,lr=0.0072_2024-08-19_21-55-13/checkpoint_000004)\n"
     ]
    },
    {
     "name": "stdout",
     "output_type": "stream",
     "text": [
      "\u001b[36m(tune_with_parameters pid=2336775)\u001b[0m loss: 0.289\u001b[32m [repeated 21x across cluster]\u001b[0m\n"
     ]
    },
    {
     "name": "stderr",
     "output_type": "stream",
     "text": [
      "Val Epoch:6: 0it [00:00, ?it/s]2336775)\u001b[0m \n",
      "Val Epoch:5: 47it [00:02, 21.08it/s]\u001b[32m [repeated 17x across cluster]\u001b[0m\n",
      "Val Epoch:43: 0it [00:00, ?it/s]272128)\u001b[0m \n",
      "Val Epoch:6: 38it [00:02, 33.62it/s]75)\u001b[0m \n"
     ]
    },
    {
     "name": "stdout",
     "output_type": "stream",
     "text": [
      "\u001b[36m(tune_with_parameters pid=2336775)\u001b[0m /tmp/tmpg75dm_20/checkpoint.pt\n",
      "\u001b[36m(tune_with_parameters pid=2336775)\u001b[0m loss: 0.237\u001b[32m [repeated 8x across cluster]\u001b[0m\n"
     ]
    },
    {
     "name": "stderr",
     "output_type": "stream",
     "text": [
      "\u001b[36m(tune_with_parameters pid=2336775)\u001b[0m Checkpoint successfully created at: Checkpoint(filesystem=local, path=/scratch/users/k23058970/Model training/results/Double Peak LRCN Null/tune_with_parameters_2024-08-19_21-54-39/tune_with_parameters_54ae7_00003_3_dp=0.2500,k1=1,k2=3,k3=1,k4=3,lr=0.0072_2024-08-19_21-55-13/checkpoint_000005)\n"
     ]
    },
    {
     "name": "stdout",
     "output_type": "stream",
     "text": [
      "\u001b[36m(tune_with_parameters pid=2336775)\u001b[0m loss: 0.078\u001b[32m [repeated 21x across cluster]\u001b[0m\n"
     ]
    },
    {
     "name": "stderr",
     "output_type": "stream",
     "text": [
      "Val Epoch:6: 47it [00:02, 20.27it/s]\u001b[32m [repeated 23x across cluster]\u001b[0m\n",
      "Val Epoch:7: 0it [00:00, ?it/s]2336775)\u001b[0m \n",
      "Val Epoch:44: 0it [00:00, ?it/s]272128)\u001b[0m \n"
     ]
    },
    {
     "name": "stdout",
     "output_type": "stream",
     "text": [
      "\u001b[36m(tune_with_parameters pid=2336775)\u001b[0m /tmp/tmpd4nu3g5g/checkpoint.pt\n"
     ]
    },
    {
     "name": "stderr",
     "output_type": "stream",
     "text": [
      "\u001b[36m(tune_with_parameters pid=2336775)\u001b[0m Checkpoint successfully created at: Checkpoint(filesystem=local, path=/scratch/users/k23058970/Model training/results/Double Peak LRCN Null/tune_with_parameters_2024-08-19_21-54-39/tune_with_parameters_54ae7_00003_3_dp=0.2500,k1=1,k2=3,k3=1,k4=3,lr=0.0072_2024-08-19_21-55-13/checkpoint_000006)\n"
     ]
    },
    {
     "name": "stdout",
     "output_type": "stream",
     "text": [
      "\u001b[36m(tune_with_parameters pid=2336775)\u001b[0m loss: 0.044\u001b[32m [repeated 10x across cluster]\u001b[0m\n",
      "\u001b[36m(tune_with_parameters pid=2336775)\u001b[0m loss: 0.056\u001b[32m [repeated 25x across cluster]\u001b[0m\n"
     ]
    },
    {
     "name": "stderr",
     "output_type": "stream",
     "text": [
      "Val Epoch:44: 47it [00:02, 23.19it/s]\u001b[32m [repeated 23x across cluster]\u001b[0m\n",
      "Val Epoch:8: 0it [00:00, ?it/s]2336775)\u001b[0m \n",
      "Val Epoch:45: 0it [00:00, ?it/s]272128)\u001b[0m \n"
     ]
    },
    {
     "name": "stdout",
     "output_type": "stream",
     "text": [
      "\u001b[36m(tune_with_parameters pid=2336775)\u001b[0m /tmp/tmpz3ydw450/checkpoint.pt\n"
     ]
    },
    {
     "name": "stderr",
     "output_type": "stream",
     "text": [
      "\u001b[36m(tune_with_parameters pid=2336775)\u001b[0m Checkpoint successfully created at: Checkpoint(filesystem=local, path=/scratch/users/k23058970/Model training/results/Double Peak LRCN Null/tune_with_parameters_2024-08-19_21-54-39/tune_with_parameters_54ae7_00003_3_dp=0.2500,k1=1,k2=3,k3=1,k4=3,lr=0.0072_2024-08-19_21-55-13/checkpoint_000007)\n"
     ]
    },
    {
     "name": "stdout",
     "output_type": "stream",
     "text": [
      "\u001b[36m(tune_with_parameters pid=2336775)\u001b[0m loss: 0.051\u001b[32m [repeated 7x across cluster]\u001b[0m\n"
     ]
    },
    {
     "name": "stderr",
     "output_type": "stream",
     "text": [
      "Val Epoch:45: 47it [00:01, 24.54it/s]\u001b[32m [repeated 25x across cluster]\u001b[0m\n",
      "Val Epoch:9: 0it [00:00, ?it/s]2336775)\u001b[0m \n"
     ]
    },
    {
     "name": "stdout",
     "output_type": "stream",
     "text": [
      "\u001b[36m(tune_with_parameters pid=2272128)\u001b[0m loss: 0.001\u001b[32m [repeated 22x across cluster]\u001b[0m\n",
      "\u001b[36m(tune_with_parameters pid=2336775)\u001b[0m /tmp/tmpokocyujh/checkpoint.pt\n"
     ]
    },
    {
     "name": "stderr",
     "output_type": "stream",
     "text": [
      "\u001b[36m(tune_with_parameters pid=2336775)\u001b[0m Checkpoint successfully created at: Checkpoint(filesystem=local, path=/scratch/users/k23058970/Model training/results/Double Peak LRCN Null/tune_with_parameters_2024-08-19_21-54-39/tune_with_parameters_54ae7_00003_3_dp=0.2500,k1=1,k2=3,k3=1,k4=3,lr=0.0072_2024-08-19_21-55-13/checkpoint_000008)\n",
      "Val Epoch:46: 0it [00:00, ?it/s]272128)\u001b[0m \n",
      "Val Epoch:46: 39it [00:01, 36.70it/s]\u001b[32m [repeated 23x across cluster]\u001b[0m\n"
     ]
    },
    {
     "name": "stdout",
     "output_type": "stream",
     "text": [
      "\u001b[36m(tune_with_parameters pid=2336775)\u001b[0m loss: 0.039\u001b[32m [repeated 11x across cluster]\u001b[0m\n",
      "\u001b[36m(tune_with_parameters pid=2272128)\u001b[0m /tmp/tmpaomhulnu/checkpoint.pt\n"
     ]
    },
    {
     "name": "stderr",
     "output_type": "stream",
     "text": [
      "Val Epoch:10: 0it [00:00, ?it/s]336775)\u001b[0m \n",
      "\u001b[36m(tune_with_parameters pid=2272128)\u001b[0m Checkpoint successfully created at: Checkpoint(filesystem=local, path=/scratch/users/k23058970/Model training/results/Double Peak LRCN Null/tune_with_parameters_2024-08-19_21-54-39/tune_with_parameters_54ae7_00002_2_dp=0.2500,k1=5,k2=3,k3=3,k4=1,lr=0.0141_2024-08-19_21-55-13/checkpoint_000017)\n",
      "Val Epoch:10: 31it [00:01, 38.38it/s]\u001b[32m [repeated 10x across cluster]\u001b[0m\n"
     ]
    },
    {
     "name": "stdout",
     "output_type": "stream",
     "text": [
      "\u001b[36m(tune_with_parameters pid=2272128)\u001b[0m loss: 0.003\u001b[32m [repeated 10x across cluster]\u001b[0m\n",
      "\u001b[36m(tune_with_parameters pid=2336775)\u001b[0m /tmp/tmpkaczfwb7/checkpoint.pt\n",
      "\u001b[36m(tune_with_parameters pid=2272128)\u001b[0m loss: 0.002\u001b[32m [repeated 20x across cluster]\u001b[0m\n"
     ]
    },
    {
     "name": "stderr",
     "output_type": "stream",
     "text": [
      "Val Epoch:11: 0it [00:00, ?it/s]336775)\u001b[0m \n",
      "\u001b[36m(tune_with_parameters pid=2336775)\u001b[0m Checkpoint successfully created at: Checkpoint(filesystem=local, path=/scratch/users/k23058970/Model training/results/Double Peak LRCN Null/tune_with_parameters_2024-08-19_21-54-39/tune_with_parameters_54ae7_00003_3_dp=0.2500,k1=1,k2=3,k3=1,k4=3,lr=0.0072_2024-08-19_21-55-13/checkpoint_000009)\n",
      "Val Epoch:10: 47it [00:02, 19.91it/s]\u001b[32m [repeated 4x across cluster]\u001b[0m\n"
     ]
    },
    {
     "name": "stdout",
     "output_type": "stream",
     "text": [
      "\u001b[36m(tune_with_parameters pid=2272128)\u001b[0m loss: 0.004\u001b[32m [repeated 10x across cluster]\u001b[0m\n",
      "\u001b[36m(tune_with_parameters pid=2336775)\u001b[0m /tmp/tmp8qt1l_by/checkpoint.pt\n"
     ]
    },
    {
     "name": "stderr",
     "output_type": "stream",
     "text": [
      "\u001b[36m(tune_with_parameters pid=2336775)\u001b[0m Checkpoint successfully created at: Checkpoint(filesystem=local, path=/scratch/users/k23058970/Model training/results/Double Peak LRCN Null/tune_with_parameters_2024-08-19_21-54-39/tune_with_parameters_54ae7_00003_3_dp=0.2500,k1=1,k2=3,k3=1,k4=3,lr=0.0072_2024-08-19_21-55-13/checkpoint_000010)\n"
     ]
    },
    {
     "name": "stdout",
     "output_type": "stream",
     "text": [
      "\u001b[36m(tune_with_parameters pid=2272128)\u001b[0m loss: 0.001\u001b[32m [repeated 21x across cluster]\u001b[0m\n"
     ]
    },
    {
     "name": "stderr",
     "output_type": "stream",
     "text": [
      "Val Epoch:12: 0it [00:00, ?it/s]\u001b[32m [repeated 2x across cluster]\u001b[0m\n",
      "Val Epoch:11: 47it [00:02, 15.89it/s]\u001b[32m [repeated 23x across cluster]\u001b[0m\n"
     ]
    },
    {
     "name": "stdout",
     "output_type": "stream",
     "text": [
      "\u001b[36m(tune_with_parameters pid=2336775)\u001b[0m /tmp/tmpbitjl45g/checkpoint.pt\n"
     ]
    },
    {
     "name": "stderr",
     "output_type": "stream",
     "text": [
      "\u001b[36m(tune_with_parameters pid=2336775)\u001b[0m Checkpoint successfully created at: Checkpoint(filesystem=local, path=/scratch/users/k23058970/Model training/results/Double Peak LRCN Null/tune_with_parameters_2024-08-19_21-54-39/tune_with_parameters_54ae7_00003_3_dp=0.2500,k1=1,k2=3,k3=1,k4=3,lr=0.0072_2024-08-19_21-55-13/checkpoint_000011)\n"
     ]
    },
    {
     "name": "stdout",
     "output_type": "stream",
     "text": [
      "\u001b[36m(tune_with_parameters pid=2336775)\u001b[0m loss: 0.067\u001b[32m [repeated 9x across cluster]\u001b[0m\n",
      "\u001b[36m(tune_with_parameters pid=2272128)\u001b[0m loss: 0.001\u001b[32m [repeated 23x across cluster]\u001b[0m\n"
     ]
    },
    {
     "name": "stderr",
     "output_type": "stream",
     "text": [
      "Val Epoch:13: 0it [00:00, ?it/s]\u001b[32m [repeated 2x across cluster]\u001b[0m\n",
      "Val Epoch:48: 47it [00:02, 20.34it/s]\u001b[32m [repeated 23x across cluster]\u001b[0m\n"
     ]
    },
    {
     "name": "stdout",
     "output_type": "stream",
     "text": [
      "\u001b[36m(tune_with_parameters pid=2336775)\u001b[0m loss: 0.020\u001b[32m [repeated 10x across cluster]\u001b[0m\n",
      "\u001b[36m(tune_with_parameters pid=2272128)\u001b[0m loss: 0.001\u001b[32m [repeated 21x across cluster]\u001b[0m\n"
     ]
    },
    {
     "name": "stderr",
     "output_type": "stream",
     "text": [
      "Val Epoch:14: 0it [00:00, ?it/s]\u001b[32m [repeated 2x across cluster]\u001b[0m\n",
      "Val Epoch:49: 47it [00:02, 20.69it/s]\u001b[32m [repeated 24x across cluster]\u001b[0m\n",
      "Val Epoch:14: 36it [00:01, 33.39it/s]5)\u001b[0m \n"
     ]
    },
    {
     "name": "stdout",
     "output_type": "stream",
     "text": [
      "\u001b[36m(tune_with_parameters pid=2336775)\u001b[0m /tmp/tmp_tjb9sc9/checkpoint.pt\n"
     ]
    },
    {
     "name": "stderr",
     "output_type": "stream",
     "text": [
      "\u001b[36m(tune_with_parameters pid=2336775)\u001b[0m Checkpoint successfully created at: Checkpoint(filesystem=local, path=/scratch/users/k23058970/Model training/results/Double Peak LRCN Null/tune_with_parameters_2024-08-19_21-54-39/tune_with_parameters_54ae7_00003_3_dp=0.2500,k1=1,k2=3,k3=1,k4=3,lr=0.0072_2024-08-19_21-55-13/checkpoint_000012)\n"
     ]
    },
    {
     "name": "stdout",
     "output_type": "stream",
     "text": [
      "\u001b[36m(tune_with_parameters pid=2336775)\u001b[0m loss: 0.023\u001b[32m [repeated 7x across cluster]\u001b[0m\n"
     ]
    },
    {
     "name": "stderr",
     "output_type": "stream",
     "text": [
      "Val Epoch:50: 0it [00:00, ?it/s]272128)\u001b[0m \n",
      "Val Epoch:50: 33it [00:01, 40.18it/s]\u001b[32m [repeated 19x across cluster]\u001b[0m\n"
     ]
    },
    {
     "name": "stdout",
     "output_type": "stream",
     "text": [
      "\u001b[36m(tune_with_parameters pid=2336775)\u001b[0m loss: 0.020\u001b[32m [repeated 18x across cluster]\u001b[0m\n"
     ]
    },
    {
     "name": "stderr",
     "output_type": "stream",
     "text": [
      "Val Epoch:15: 0it [00:00, ?it/s]336775)\u001b[0m \n",
      "Val Epoch:50: 47it [00:01, 25.46it/s]\u001b[32m [repeated 3x across cluster]\u001b[0m\n"
     ]
    },
    {
     "name": "stdout",
     "output_type": "stream",
     "text": [
      "\u001b[36m(tune_with_parameters pid=2336775)\u001b[0m loss: 0.017\u001b[32m [repeated 13x across cluster]\u001b[0m\n"
     ]
    },
    {
     "name": "stderr",
     "output_type": "stream",
     "text": [
      "Val Epoch:51: 0it [00:00, ?it/s]272128)\u001b[0m \n",
      "Val Epoch:51: 23it [00:00, 30.32it/s]\u001b[32m [repeated 19x across cluster]\u001b[0m\n"
     ]
    },
    {
     "name": "stdout",
     "output_type": "stream",
     "text": [
      "\u001b[36m(tune_with_parameters pid=2336775)\u001b[0m loss: 0.019\u001b[32m [repeated 18x across cluster]\u001b[0m\n"
     ]
    },
    {
     "name": "stderr",
     "output_type": "stream",
     "text": [
      "Val Epoch:16: 0it [00:00, ?it/s]336775)\u001b[0m \n",
      "Val Epoch:51: 47it [00:01, 28.99it/s]\u001b[32m [repeated 5x across cluster]\u001b[0m\n"
     ]
    },
    {
     "name": "stdout",
     "output_type": "stream",
     "text": [
      "\u001b[36m(tune_with_parameters pid=2336775)\u001b[0m loss: 0.019\u001b[32m [repeated 13x across cluster]\u001b[0m\n"
     ]
    },
    {
     "name": "stderr",
     "output_type": "stream",
     "text": [
      "Val Epoch:52: 0it [00:00, ?it/s]272128)\u001b[0m \n",
      "Val Epoch:52: 9it [00:00, 14.67it/s]\u001b[32m [repeated 16x across cluster]\u001b[0m\n",
      "Val Epoch:17: 0it [00:00, ?it/s]336775)\u001b[0m \n",
      "Val Epoch:52: 47it [00:02, 23.34it/s]\u001b[32m [repeated 10x across cluster]\u001b[0m\n"
     ]
    },
    {
     "name": "stdout",
     "output_type": "stream",
     "text": [
      "\u001b[36m(tune_with_parameters pid=2272128)\u001b[0m loss: 0.001\u001b[32m [repeated 19x across cluster]\u001b[0m\n"
     ]
    },
    {
     "name": "stderr",
     "output_type": "stream",
     "text": [
      "Val Epoch:53: 3it [00:00,  6.74it/s]28)\u001b[0m \n",
      "Val Epoch:53: 0it [00:00, ?it/s]272128)\u001b[0m \n",
      "Val Epoch:17: 47it [00:02, 23.14it/s]\u001b[32m [repeated 14x across cluster]\u001b[0m\n"
     ]
    },
    {
     "name": "stdout",
     "output_type": "stream",
     "text": [
      "\u001b[36m(tune_with_parameters pid=2336775)\u001b[0m loss: 0.018\u001b[32m [repeated 12x across cluster]\u001b[0m\n"
     ]
    },
    {
     "name": "stderr",
     "output_type": "stream",
     "text": [
      "Val Epoch:18: 0it [00:00, ?it/s]336775)\u001b[0m \n",
      "Val Epoch:18: 1it [00:00,  1.69it/s]\u001b[32m [repeated 12x across cluster]\u001b[0m\n"
     ]
    },
    {
     "name": "stdout",
     "output_type": "stream",
     "text": [
      "\u001b[36m(tune_with_parameters pid=2272128)\u001b[0m loss: 0.001\u001b[32m [repeated 17x across cluster]\u001b[0m\n",
      "\u001b[36m(tune_with_parameters pid=2336775)\u001b[0m /tmp/tmpmonsvlog/checkpoint.pt\n"
     ]
    },
    {
     "name": "stderr",
     "output_type": "stream",
     "text": [
      "\u001b[36m(tune_with_parameters pid=2336775)\u001b[0m Checkpoint successfully created at: Checkpoint(filesystem=local, path=/scratch/users/k23058970/Model training/results/Double Peak LRCN Null/tune_with_parameters_2024-08-19_21-54-39/tune_with_parameters_54ae7_00003_3_dp=0.2500,k1=1,k2=3,k3=1,k4=3,lr=0.0072_2024-08-19_21-55-13/checkpoint_000013)\n"
     ]
    },
    {
     "name": "stdout",
     "output_type": "stream",
     "text": [
      "\u001b[36m(tune_with_parameters pid=2336775)\u001b[0m loss: 0.015\u001b[32m [repeated 16x across cluster]\u001b[0m\n"
     ]
    },
    {
     "name": "stderr",
     "output_type": "stream",
     "text": [
      "Val Epoch:54: 0it [00:00, ?it/s]272128)\u001b[0m \n",
      "Val Epoch:18: 47it [00:02, 22.78it/s]\u001b[32m [repeated 13x across cluster]\u001b[0m\n",
      "Val Epoch:19: 0it [00:00, ?it/s]336775)\u001b[0m \n",
      "Val Epoch:19: 1it [00:00,  2.79it/s]\u001b[32m [repeated 13x across cluster]\u001b[0m\n"
     ]
    },
    {
     "name": "stdout",
     "output_type": "stream",
     "text": [
      "\u001b[36m(tune_with_parameters pid=2272128)\u001b[0m loss: 0.001\u001b[32m [repeated 11x across cluster]\u001b[0m\n",
      "\u001b[36m(tune_with_parameters pid=2336775)\u001b[0m /tmp/tmpfcbkuj81/checkpoint.pt\n"
     ]
    },
    {
     "name": "stderr",
     "output_type": "stream",
     "text": [
      "\u001b[36m(tune_with_parameters pid=2336775)\u001b[0m Checkpoint successfully created at: Checkpoint(filesystem=local, path=/scratch/users/k23058970/Model training/results/Double Peak LRCN Null/tune_with_parameters_2024-08-19_21-54-39/tune_with_parameters_54ae7_00003_3_dp=0.2500,k1=1,k2=3,k3=1,k4=3,lr=0.0072_2024-08-19_21-55-13/checkpoint_000014)\n"
     ]
    },
    {
     "name": "stdout",
     "output_type": "stream",
     "text": [
      "\u001b[36m(tune_with_parameters pid=2272128)\u001b[0m loss: 0.001\u001b[32m [repeated 18x across cluster]\u001b[0m\n"
     ]
    },
    {
     "name": "stderr",
     "output_type": "stream",
     "text": [
      "Val Epoch:55: 0it [00:00, ?it/s]272128)\u001b[0m \n",
      "Val Epoch:19: 47it [00:01, 29.78it/s]\u001b[32m [repeated 11x across cluster]\u001b[0m\n",
      "Val Epoch:20: 0it [00:00, ?it/s]336775)\u001b[0m \n"
     ]
    },
    {
     "name": "stdout",
     "output_type": "stream",
     "text": [
      "\u001b[36m(tune_with_parameters pid=2272128)\u001b[0m loss: 0.002\u001b[32m [repeated 12x across cluster]\u001b[0m\n"
     ]
    },
    {
     "name": "stderr",
     "output_type": "stream",
     "text": [
      "Val Epoch:20: 46it [00:01, 31.88it/s]5)\u001b[0m \n"
     ]
    },
    {
     "name": "stdout",
     "output_type": "stream",
     "text": [
      "\u001b[36m(tune_with_parameters pid=2336775)\u001b[0m loss: 0.014\u001b[32m [repeated 22x across cluster]\u001b[0m\n"
     ]
    },
    {
     "name": "stderr",
     "output_type": "stream",
     "text": [
      "Val Epoch:20: 47it [00:01, 26.24it/s]\u001b[32m [repeated 23x across cluster]\u001b[0m\n",
      "Val Epoch:56: 0it [00:00, ?it/s]272128)\u001b[0m \n",
      "Val Epoch:21: 0it [00:00, ?it/s]336775)\u001b[0m \n"
     ]
    },
    {
     "name": "stdout",
     "output_type": "stream",
     "text": [
      "\u001b[36m(tune_with_parameters pid=2272128)\u001b[0m loss: 0.002\u001b[32m [repeated 7x across cluster]\u001b[0m\n",
      "\u001b[36m(tune_with_parameters pid=2272128)\u001b[0m loss: 0.002\u001b[32m [repeated 21x across cluster]\u001b[0m\n"
     ]
    },
    {
     "name": "stderr",
     "output_type": "stream",
     "text": [
      "Val Epoch:21: 47it [00:02, 17.57it/s]\u001b[32m [repeated 26x across cluster]\u001b[0m\n",
      "Val Epoch:57: 0it [00:00, ?it/s]272128)\u001b[0m \n",
      "Val Epoch:22: 0it [00:00, ?it/s]336775)\u001b[0m \n"
     ]
    },
    {
     "name": "stdout",
     "output_type": "stream",
     "text": [
      "\u001b[36m(tune_with_parameters pid=2336775)\u001b[0m /tmp/tmp1r_t2k54/checkpoint.pt\n"
     ]
    },
    {
     "name": "stderr",
     "output_type": "stream",
     "text": [
      "\u001b[36m(tune_with_parameters pid=2336775)\u001b[0m Checkpoint successfully created at: Checkpoint(filesystem=local, path=/scratch/users/k23058970/Model training/results/Double Peak LRCN Null/tune_with_parameters_2024-08-19_21-54-39/tune_with_parameters_54ae7_00003_3_dp=0.2500,k1=1,k2=3,k3=1,k4=3,lr=0.0072_2024-08-19_21-55-13/checkpoint_000015)\n"
     ]
    },
    {
     "name": "stdout",
     "output_type": "stream",
     "text": [
      "\u001b[36m(tune_with_parameters pid=2272128)\u001b[0m loss: 0.001\u001b[32m [repeated 8x across cluster]\u001b[0m\n",
      "\u001b[36m(tune_with_parameters pid=2272128)\u001b[0m loss: 0.001\u001b[32m [repeated 25x across cluster]\u001b[0m\n"
     ]
    },
    {
     "name": "stderr",
     "output_type": "stream",
     "text": [
      "Val Epoch:23: 0it [00:00, ?it/s]336775)\u001b[0m \n",
      "Val Epoch:22: 47it [00:01, 30.97it/s]\u001b[32m [repeated 25x across cluster]\u001b[0m\n",
      "Val Epoch:58: 0it [00:00, ?it/s]272128)\u001b[0m \n"
     ]
    },
    {
     "name": "stdout",
     "output_type": "stream",
     "text": [
      "\u001b[36m(tune_with_parameters pid=2336775)\u001b[0m loss: 0.012\u001b[32m [repeated 6x across cluster]\u001b[0m\n"
     ]
    },
    {
     "name": "stderr",
     "output_type": "stream",
     "text": [
      "Val Epoch:58: 47it [00:02, 18.30it/s]\u001b[32m [repeated 25x across cluster]\u001b[0m\n",
      "Val Epoch:24: 0it [00:00, ?it/s]336775)\u001b[0m \n"
     ]
    },
    {
     "name": "stdout",
     "output_type": "stream",
     "text": [
      "\u001b[36m(tune_with_parameters pid=2272128)\u001b[0m loss: 0.001\u001b[32m [repeated 23x across cluster]\u001b[0m\n",
      "\u001b[36m(tune_with_parameters pid=2336775)\u001b[0m /tmp/tmpeyadagam/checkpoint.pt\n"
     ]
    },
    {
     "name": "stderr",
     "output_type": "stream",
     "text": [
      "\u001b[36m(tune_with_parameters pid=2336775)\u001b[0m Checkpoint successfully created at: Checkpoint(filesystem=local, path=/scratch/users/k23058970/Model training/results/Double Peak LRCN Null/tune_with_parameters_2024-08-19_21-54-39/tune_with_parameters_54ae7_00003_3_dp=0.2500,k1=1,k2=3,k3=1,k4=3,lr=0.0072_2024-08-19_21-55-13/checkpoint_000016)\n",
      "Val Epoch:59: 0it [00:00, ?it/s]272128)\u001b[0m \n"
     ]
    },
    {
     "name": "stdout",
     "output_type": "stream",
     "text": [
      "\u001b[36m(tune_with_parameters pid=2272128)\u001b[0m loss: 0.000\u001b[32m [repeated 10x across cluster]\u001b[0m\n"
     ]
    },
    {
     "name": "stderr",
     "output_type": "stream",
     "text": [
      "Val Epoch:59: 47it [00:02, 17.63it/s]\u001b[32m [repeated 27x across cluster]\u001b[0m\n",
      "Val Epoch:25: 0it [00:00, ?it/s]336775)\u001b[0m \n"
     ]
    },
    {
     "name": "stdout",
     "output_type": "stream",
     "text": [
      "\u001b[36m(tune_with_parameters pid=2272128)\u001b[0m loss: 0.001\u001b[32m [repeated 21x across cluster]\u001b[0m\n"
     ]
    },
    {
     "name": "stderr",
     "output_type": "stream",
     "text": [
      "Val Epoch:25: 47it [00:01, 25.12it/s]5)\u001b[0m \n",
      "Val Epoch:60: 0it [00:00, ?it/s]272128)\u001b[0m \n",
      "Val Epoch:60: 26it [00:01, 27.12it/s]\u001b[32m [repeated 18x across cluster]\u001b[0m\n"
     ]
    },
    {
     "name": "stdout",
     "output_type": "stream",
     "text": [
      "\u001b[36m(tune_with_parameters pid=2272128)\u001b[0m loss: 0.001\u001b[32m [repeated 11x across cluster]\u001b[0m\n"
     ]
    },
    {
     "name": "stderr",
     "output_type": "stream",
     "text": [
      "Val Epoch:26: 0it [00:00, ?it/s]336775)\u001b[0m \n",
      "Val Epoch:60: 47it [00:01, 26.91it/s]\u001b[32m [repeated 5x across cluster]\u001b[0m\n"
     ]
    },
    {
     "name": "stdout",
     "output_type": "stream",
     "text": [
      "\u001b[36m(tune_with_parameters pid=2272128)\u001b[0m loss: 0.000\u001b[32m [repeated 18x across cluster]\u001b[0m\n",
      "\u001b[36m(tune_with_parameters pid=2336775)\u001b[0m /tmp/tmpypp9ba1y/checkpoint.pt\n"
     ]
    },
    {
     "name": "stderr",
     "output_type": "stream",
     "text": [
      "\u001b[36m(tune_with_parameters pid=2336775)\u001b[0m Checkpoint successfully created at: Checkpoint(filesystem=local, path=/scratch/users/k23058970/Model training/results/Double Peak LRCN Null/tune_with_parameters_2024-08-19_21-54-39/tune_with_parameters_54ae7_00003_3_dp=0.2500,k1=1,k2=3,k3=1,k4=3,lr=0.0072_2024-08-19_21-55-13/checkpoint_000017)\n",
      "Val Epoch:61: 0it [00:00, ?it/s]272128)\u001b[0m \n",
      "Val Epoch:26: 47it [00:02, 21.72it/s]\u001b[32m [repeated 13x across cluster]\u001b[0m\n"
     ]
    },
    {
     "name": "stdout",
     "output_type": "stream",
     "text": [
      "\u001b[36m(tune_with_parameters pid=2336775)\u001b[0m loss: 0.008\u001b[32m [repeated 12x across cluster]\u001b[0m\n"
     ]
    },
    {
     "name": "stderr",
     "output_type": "stream",
     "text": [
      "Val Epoch:27: 0it [00:00, ?it/s]336775)\u001b[0m \n",
      "Val Epoch:61: 47it [00:01, 30.60it/s]\u001b[32m [repeated 11x across cluster]\u001b[0m\n"
     ]
    },
    {
     "name": "stdout",
     "output_type": "stream",
     "text": [
      "\u001b[36m(tune_with_parameters pid=2272128)\u001b[0m loss: 0.001\u001b[32m [repeated 16x across cluster]\u001b[0m\n",
      "\u001b[36m(tune_with_parameters pid=2336775)\u001b[0m /tmp/tmpmgfqw4vr/checkpoint.pt\n"
     ]
    },
    {
     "name": "stderr",
     "output_type": "stream",
     "text": [
      "\u001b[36m(tune_with_parameters pid=2336775)\u001b[0m Checkpoint successfully created at: Checkpoint(filesystem=local, path=/scratch/users/k23058970/Model training/results/Double Peak LRCN Null/tune_with_parameters_2024-08-19_21-54-39/tune_with_parameters_54ae7_00003_3_dp=0.2500,k1=1,k2=3,k3=1,k4=3,lr=0.0072_2024-08-19_21-55-13/checkpoint_000018)\n",
      "Val Epoch:62: 0it [00:00, ?it/s]272128)\u001b[0m \n",
      "Val Epoch:27: 47it [00:01, 26.22it/s]\u001b[32m [repeated 11x across cluster]\u001b[0m\n"
     ]
    },
    {
     "name": "stdout",
     "output_type": "stream",
     "text": [
      "\u001b[36m(tune_with_parameters pid=2336775)\u001b[0m loss: 0.009\u001b[32m [repeated 14x across cluster]\u001b[0m\n"
     ]
    },
    {
     "name": "stderr",
     "output_type": "stream",
     "text": [
      "Val Epoch:62: 47it [00:01, 30.52it/s]8)\u001b[0m \n",
      "Val Epoch:28: 0it [00:00, ?it/s]336775)\u001b[0m \n",
      "Val Epoch:28: 34it [00:01, 26.23it/s]\u001b[32m [repeated 20x across cluster]\u001b[0m\n"
     ]
    },
    {
     "name": "stdout",
     "output_type": "stream",
     "text": [
      "\u001b[36m(tune_with_parameters pid=2272128)\u001b[0m /tmp/tmpenmqf9ma/checkpoint.pt\n",
      "\u001b[36m(tune_with_parameters pid=2336775)\u001b[0m loss: 0.026\u001b[32m [repeated 8x across cluster]\u001b[0m\n"
     ]
    },
    {
     "name": "stderr",
     "output_type": "stream",
     "text": [
      "\u001b[36m(tune_with_parameters pid=2272128)\u001b[0m Checkpoint successfully created at: Checkpoint(filesystem=local, path=/scratch/users/k23058970/Model training/results/Double Peak LRCN Null/tune_with_parameters_2024-08-19_21-54-39/tune_with_parameters_54ae7_00002_2_dp=0.2500,k1=5,k2=3,k3=3,k4=1,lr=0.0141_2024-08-19_21-55-13/checkpoint_000018)\n"
     ]
    },
    {
     "name": "stdout",
     "output_type": "stream",
     "text": [
      "\u001b[36m(tune_with_parameters pid=2272128)\u001b[0m loss: 0.000\u001b[32m [repeated 19x across cluster]\u001b[0m\n"
     ]
    },
    {
     "name": "stderr",
     "output_type": "stream",
     "text": [
      "Val Epoch:29: 0it [00:00, ?it/s]336775)\u001b[0m \n",
      "Val Epoch:28: 47it [00:02, 22.48it/s]\u001b[32m [repeated 4x across cluster]\u001b[0m\n",
      "Val Epoch:29: 47it [00:01, 24.65it/s]5)\u001b[0m \n"
     ]
    },
    {
     "name": "stdout",
     "output_type": "stream",
     "text": [
      "\u001b[36m(tune_with_parameters pid=2336775)\u001b[0m /tmp/tmpc58f8vft/checkpoint.pt\n"
     ]
    },
    {
     "name": "stderr",
     "output_type": "stream",
     "text": [
      "\u001b[36m(tune_with_parameters pid=2336775)\u001b[0m Checkpoint successfully created at: Checkpoint(filesystem=local, path=/scratch/users/k23058970/Model training/results/Double Peak LRCN Null/tune_with_parameters_2024-08-19_21-54-39/tune_with_parameters_54ae7_00003_3_dp=0.2500,k1=1,k2=3,k3=1,k4=3,lr=0.0072_2024-08-19_21-55-13/checkpoint_000019)\n"
     ]
    },
    {
     "name": "stdout",
     "output_type": "stream",
     "text": [
      "\u001b[36m(tune_with_parameters pid=2336775)\u001b[0m loss: 0.003\u001b[32m [repeated 11x across cluster]\u001b[0m\n"
     ]
    },
    {
     "name": "stderr",
     "output_type": "stream",
     "text": [
      "Val Epoch:63: 0it [00:00, ?it/s]272128)\u001b[0m \n",
      "Val Epoch:63: 30it [00:01, 33.23it/s]\u001b[32m [repeated 18x across cluster]\u001b[0m\n"
     ]
    },
    {
     "name": "stdout",
     "output_type": "stream",
     "text": [
      "\u001b[36m(tune_with_parameters pid=2336775)\u001b[0m loss: 0.007\u001b[32m [repeated 15x across cluster]\u001b[0m\n"
     ]
    },
    {
     "name": "stderr",
     "output_type": "stream",
     "text": [
      "Val Epoch:30: 0it [00:00, ?it/s]336775)\u001b[0m \n",
      "Val Epoch:63: 47it [00:01, 25.56it/s]\u001b[32m [repeated 5x across cluster]\u001b[0m\n"
     ]
    },
    {
     "name": "stdout",
     "output_type": "stream",
     "text": [
      "\u001b[36m(tune_with_parameters pid=2272128)\u001b[0m loss: 0.000\u001b[32m [repeated 13x across cluster]\u001b[0m\n"
     ]
    },
    {
     "name": "stderr",
     "output_type": "stream",
     "text": [
      "Val Epoch:64: 0it [00:00, ?it/s]272128)\u001b[0m \n",
      "Val Epoch:64: 34it [00:01, 30.65it/s]\u001b[32m [repeated 20x across cluster]\u001b[0m\n",
      "Val Epoch:64: 47it [00:01, 26.52it/s]8)\u001b[0m \n"
     ]
    },
    {
     "name": "stdout",
     "output_type": "stream",
     "text": [
      "\u001b[36m(tune_with_parameters pid=2336775)\u001b[0m loss: 0.009\u001b[32m [repeated 18x across cluster]\u001b[0m\n"
     ]
    },
    {
     "name": "stderr",
     "output_type": "stream",
     "text": [
      "Val Epoch:31: 0it [00:00, ?it/s]336775)\u001b[0m \n",
      "Val Epoch:31: 8it [00:00, 16.79it/s]\u001b[32m [repeated 5x across cluster]\u001b[0m\n"
     ]
    },
    {
     "name": "stdout",
     "output_type": "stream",
     "text": [
      "\u001b[36m(tune_with_parameters pid=2272128)\u001b[0m loss: 0.000\u001b[32m [repeated 14x across cluster]\u001b[0m\n"
     ]
    },
    {
     "name": "stderr",
     "output_type": "stream",
     "text": [
      "Val Epoch:65: 0it [00:00, ?it/s]272128)\u001b[0m \n",
      "Val Epoch:65: 6it [00:00, 20.77it/s]\u001b[32m [repeated 11x across cluster]\u001b[0m\n"
     ]
    },
    {
     "name": "stdout",
     "output_type": "stream",
     "text": [
      "\u001b[36m(tune_with_parameters pid=2272128)\u001b[0m loss: 0.000\u001b[32m [repeated 15x across cluster]\u001b[0m\n"
     ]
    },
    {
     "name": "stderr",
     "output_type": "stream",
     "text": [
      "Val Epoch:32: 0it [00:00, ?it/s]336775)\u001b[0m \n",
      "Val Epoch:32: 22it [00:00, 28.95it/s]\u001b[32m [repeated 16x across cluster]\u001b[0m\n"
     ]
    },
    {
     "name": "stdout",
     "output_type": "stream",
     "text": [
      "\u001b[36m(tune_with_parameters pid=2272128)\u001b[0m loss: 0.001\u001b[32m [repeated 15x across cluster]\u001b[0m\n"
     ]
    },
    {
     "name": "stderr",
     "output_type": "stream",
     "text": [
      "Val Epoch:66: 0it [00:00, ?it/s]272128)\u001b[0m \n",
      "Val Epoch:32: 47it [00:01, 27.89it/s]\u001b[32m [repeated 6x across cluster]\u001b[0m\n"
     ]
    },
    {
     "name": "stdout",
     "output_type": "stream",
     "text": [
      "\u001b[36m(tune_with_parameters pid=2272128)\u001b[0m loss: 0.000\u001b[32m [repeated 15x across cluster]\u001b[0m\n"
     ]
    },
    {
     "name": "stderr",
     "output_type": "stream",
     "text": [
      "Val Epoch:33: 0it [00:00, ?it/s]336775)\u001b[0m \n",
      "Val Epoch:33: 31it [00:01, 33.00it/s]\u001b[32m [repeated 19x across cluster]\u001b[0m\n"
     ]
    },
    {
     "name": "stdout",
     "output_type": "stream",
     "text": [
      "\u001b[36m(tune_with_parameters pid=2272128)\u001b[0m loss: 0.000\u001b[32m [repeated 14x across cluster]\u001b[0m\n"
     ]
    },
    {
     "name": "stderr",
     "output_type": "stream",
     "text": [
      "Val Epoch:67: 0it [00:00, ?it/s]272128)\u001b[0m \n",
      "Val Epoch:33: 47it [00:01, 26.13it/s]\u001b[32m [repeated 4x across cluster]\u001b[0m\n"
     ]
    },
    {
     "name": "stdout",
     "output_type": "stream",
     "text": [
      "\u001b[36m(tune_with_parameters pid=2272128)\u001b[0m loss: 0.000\u001b[32m [repeated 16x across cluster]\u001b[0m\n"
     ]
    },
    {
     "name": "stderr",
     "output_type": "stream",
     "text": [
      "Val Epoch:34: 0it [00:00, ?it/s]336775)\u001b[0m \n",
      "Val Epoch:34: 36it [00:02, 33.47it/s]\u001b[32m [repeated 22x across cluster]\u001b[0m\n"
     ]
    },
    {
     "name": "stdout",
     "output_type": "stream",
     "text": [
      "\u001b[36m(tune_with_parameters pid=2272128)\u001b[0m loss: 0.000\u001b[32m [repeated 13x across cluster]\u001b[0m\n"
     ]
    },
    {
     "name": "stderr",
     "output_type": "stream",
     "text": [
      "Val Epoch:68: 0it [00:00, ?it/s]272128)\u001b[0m \n",
      "Val Epoch:34: 47it [00:02, 19.60it/s]\u001b[32m [repeated 3x across cluster]\u001b[0m\n",
      "Val Epoch:35: 0it [00:00, ?it/s]336775)\u001b[0m \n"
     ]
    },
    {
     "name": "stdout",
     "output_type": "stream",
     "text": [
      "\u001b[36m(tune_with_parameters pid=2272128)\u001b[0m loss: 0.000\u001b[32m [repeated 17x across cluster]\u001b[0m\n",
      "\u001b[36m(tune_with_parameters pid=2272128)\u001b[0m loss: 0.001\u001b[32m [repeated 19x across cluster]\u001b[0m\n"
     ]
    },
    {
     "name": "stderr",
     "output_type": "stream",
     "text": [
      "Val Epoch:35: 47it [00:02, 16.29it/s]\u001b[32m [repeated 24x across cluster]\u001b[0m\n",
      "Val Epoch:69: 0it [00:00, ?it/s]272128)\u001b[0m \n",
      "Val Epoch:36: 0it [00:00, ?it/s]336775)\u001b[0m \n"
     ]
    },
    {
     "name": "stdout",
     "output_type": "stream",
     "text": [
      "\u001b[36m(tune_with_parameters pid=2272128)\u001b[0m loss: 0.000\u001b[32m [repeated 11x across cluster]\u001b[0m\n",
      "\u001b[36m(tune_with_parameters pid=2336775)\u001b[0m loss: 0.006\u001b[32m [repeated 25x across cluster]\u001b[0m\n"
     ]
    },
    {
     "name": "stderr",
     "output_type": "stream",
     "text": [
      "Val Epoch:37: 0it [00:00, ?it/s]336775)\u001b[0m \n",
      "Val Epoch:36: 47it [00:01, 26.54it/s]\u001b[32m [repeated 25x across cluster]\u001b[0m\n",
      "Val Epoch:70: 0it [00:00, ?it/s]272128)\u001b[0m \n",
      "Val Epoch:37: 47it [00:01, 24.57it/s]5)\u001b[0m \n"
     ]
    },
    {
     "name": "stdout",
     "output_type": "stream",
     "text": [
      "\u001b[36m(tune_with_parameters pid=2336775)\u001b[0m loss: 0.003\u001b[32m [repeated 7x across cluster]\u001b[0m\n"
     ]
    },
    {
     "name": "stderr",
     "output_type": "stream",
     "text": [
      "Val Epoch:70: 47it [00:02, 15.86it/s]\u001b[32m [repeated 21x across cluster]\u001b[0m\n",
      "Val Epoch:38: 0it [00:00, ?it/s]336775)\u001b[0m \n"
     ]
    },
    {
     "name": "stdout",
     "output_type": "stream",
     "text": [
      "\u001b[36m(tune_with_parameters pid=2272128)\u001b[0m loss: 0.000\u001b[32m [repeated 23x across cluster]\u001b[0m\n"
     ]
    },
    {
     "name": "stderr",
     "output_type": "stream",
     "text": [
      "Val Epoch:71: 0it [00:00, ?it/s]272128)\u001b[0m \n",
      "Val Epoch:71: 47it [00:01, 24.50it/s]8)\u001b[0m \n"
     ]
    },
    {
     "name": "stdout",
     "output_type": "stream",
     "text": [
      "\u001b[36m(tune_with_parameters pid=2272128)\u001b[0m loss: 0.000\u001b[32m [repeated 10x across cluster]\u001b[0m\n"
     ]
    },
    {
     "name": "stderr",
     "output_type": "stream",
     "text": [
      "Val Epoch:71: 42it [00:01, 33.69it/s]\u001b[32m [repeated 23x across cluster]\u001b[0m\n",
      "Val Epoch:39: 0it [00:00, ?it/s]336775)\u001b[0m \n"
     ]
    },
    {
     "name": "stdout",
     "output_type": "stream",
     "text": [
      "\u001b[36m(tune_with_parameters pid=2272128)\u001b[0m loss: 0.000\u001b[32m [repeated 20x across cluster]\u001b[0m\n"
     ]
    },
    {
     "name": "stderr",
     "output_type": "stream",
     "text": [
      "Val Epoch:72: 0it [00:00, ?it/s]272128)\u001b[0m \n",
      "Val Epoch:72: 34it [00:01, 33.53it/s]\u001b[32m [repeated 21x across cluster]\u001b[0m\n"
     ]
    },
    {
     "name": "stdout",
     "output_type": "stream",
     "text": [
      "\u001b[36m(tune_with_parameters pid=2336775)\u001b[0m loss: 0.006\u001b[32m [repeated 12x across cluster]\u001b[0m\n"
     ]
    },
    {
     "name": "stderr",
     "output_type": "stream",
     "text": [
      "Val Epoch:40: 0it [00:00, ?it/s]336775)\u001b[0m \n",
      "Val Epoch:40: 5it [00:00,  8.09it/s]\u001b[32m [repeated 5x across cluster]\u001b[0m\n",
      "Val Epoch:40: 47it [00:01, 24.27it/s]5)\u001b[0m \n"
     ]
    },
    {
     "name": "stdout",
     "output_type": "stream",
     "text": [
      "\u001b[36m(tune_with_parameters pid=2272128)\u001b[0m loss: 0.000\u001b[32m [repeated 18x across cluster]\u001b[0m\n"
     ]
    },
    {
     "name": "stderr",
     "output_type": "stream",
     "text": [
      "Val Epoch:73: 0it [00:00, ?it/s]272128)\u001b[0m \n",
      "Val Epoch:73: 8it [00:00, 11.91it/s]\u001b[32m [repeated 12x across cluster]\u001b[0m\n"
     ]
    },
    {
     "name": "stdout",
     "output_type": "stream",
     "text": [
      "\u001b[36m(tune_with_parameters pid=2336775)\u001b[0m loss: 0.004\u001b[32m [repeated 16x across cluster]\u001b[0m\n"
     ]
    },
    {
     "name": "stderr",
     "output_type": "stream",
     "text": [
      "Val Epoch:41: 0it [00:00, ?it/s]336775)\u001b[0m \n",
      "Val Epoch:41: 32it [00:01, 33.62it/s]\u001b[32m [repeated 18x across cluster]\u001b[0m\n"
     ]
    },
    {
     "name": "stdout",
     "output_type": "stream",
     "text": [
      "\u001b[36m(tune_with_parameters pid=2272128)\u001b[0m loss: 0.000\u001b[32m [repeated 16x across cluster]\u001b[0m\n"
     ]
    },
    {
     "name": "stderr",
     "output_type": "stream",
     "text": [
      "Val Epoch:74: 0it [00:00, ?it/s]272128)\u001b[0m \n",
      "Val Epoch:41: 47it [00:01, 27.29it/s]\u001b[32m [repeated 4x across cluster]\u001b[0m\n"
     ]
    },
    {
     "name": "stdout",
     "output_type": "stream",
     "text": [
      "\u001b[36m(tune_with_parameters pid=2272128)\u001b[0m loss: 0.000\u001b[32m [repeated 18x across cluster]\u001b[0m\n",
      "\u001b[36m(tune_with_parameters pid=2336775)\u001b[0m loss: 0.003\u001b[32m [repeated 13x across cluster]\u001b[0m\n"
     ]
    },
    {
     "name": "stderr",
     "output_type": "stream",
     "text": [
      "Val Epoch:75: 0it [00:00, ?it/s]\u001b[32m [repeated 2x across cluster]\u001b[0m\n",
      "Val Epoch:42: 47it [00:01, 28.94it/s]\u001b[32m [repeated 25x across cluster]\u001b[0m\n"
     ]
    },
    {
     "name": "stdout",
     "output_type": "stream",
     "text": [
      "\u001b[36m(tune_with_parameters pid=2272128)\u001b[0m loss: 0.000\u001b[32m [repeated 17x across cluster]\u001b[0m\n",
      "\u001b[36m(tune_with_parameters pid=2336775)\u001b[0m /tmp/tmpvk3d1w_6/checkpoint.pt\n"
     ]
    },
    {
     "name": "stderr",
     "output_type": "stream",
     "text": [
      "\u001b[36m(tune_with_parameters pid=2336775)\u001b[0m Checkpoint successfully created at: Checkpoint(filesystem=local, path=/scratch/users/k23058970/Model training/results/Double Peak LRCN Null/tune_with_parameters_2024-08-19_21-54-39/tune_with_parameters_54ae7_00003_3_dp=0.2500,k1=1,k2=3,k3=1,k4=3,lr=0.0072_2024-08-19_21-55-13/checkpoint_000020)\n"
     ]
    },
    {
     "name": "stdout",
     "output_type": "stream",
     "text": [
      "\u001b[36m(tune_with_parameters pid=2272128)\u001b[0m loss: 0.000\u001b[32m [repeated 22x across cluster]\u001b[0m\n"
     ]
    },
    {
     "name": "stderr",
     "output_type": "stream",
     "text": [
      "Val Epoch:76: 0it [00:00, ?it/s]\u001b[32m [repeated 2x across cluster]\u001b[0m\n",
      "Val Epoch:43: 47it [00:02, 21.90it/s]\u001b[32m [repeated 25x across cluster]\u001b[0m\n"
     ]
    },
    {
     "name": "stdout",
     "output_type": "stream",
     "text": [
      "\u001b[36m(tune_with_parameters pid=2272128)\u001b[0m loss: 0.000\u001b[32m [repeated 8x across cluster]\u001b[0m\n",
      "\u001b[36m(tune_with_parameters pid=2272128)\u001b[0m loss: 0.000\u001b[32m [repeated 24x across cluster]\u001b[0m\n"
     ]
    },
    {
     "name": "stderr",
     "output_type": "stream",
     "text": [
      "Val Epoch:45: 0it [00:00, ?it/s]\u001b[32m [repeated 2x across cluster]\u001b[0m\n",
      "Val Epoch:44: 47it [00:01, 33.30it/s]\u001b[32m [repeated 25x across cluster]\u001b[0m\n"
     ]
    },
    {
     "name": "stdout",
     "output_type": "stream",
     "text": [
      "\u001b[36m(tune_with_parameters pid=2336775)\u001b[0m loss: 0.005\u001b[32m [repeated 8x across cluster]\u001b[0m\n",
      "\u001b[36m(tune_with_parameters pid=2336775)\u001b[0m loss: 0.003\u001b[32m [repeated 20x across cluster]\u001b[0m\n"
     ]
    },
    {
     "name": "stderr",
     "output_type": "stream",
     "text": [
      "Val Epoch:46: 0it [00:00, ?it/s]\u001b[32m [repeated 2x across cluster]\u001b[0m\n",
      "Val Epoch:77: 47it [00:02, 18.15it/s]\u001b[32m [repeated 25x across cluster]\u001b[0m\n"
     ]
    },
    {
     "name": "stdout",
     "output_type": "stream",
     "text": [
      "\u001b[36m(tune_with_parameters pid=2336775)\u001b[0m loss: 0.003\u001b[32m [repeated 10x across cluster]\u001b[0m\n",
      "\u001b[36m(tune_with_parameters pid=2336775)\u001b[0m loss: 0.004\u001b[32m [repeated 21x across cluster]\u001b[0m\n"
     ]
    },
    {
     "name": "stderr",
     "output_type": "stream",
     "text": [
      "Val Epoch:47: 0it [00:00, ?it/s]\u001b[32m [repeated 2x across cluster]\u001b[0m\n",
      "Val Epoch:78: 47it [00:02, 20.08it/s]\u001b[32m [repeated 24x across cluster]\u001b[0m\n"
     ]
    },
    {
     "name": "stdout",
     "output_type": "stream",
     "text": [
      "\u001b[36m(tune_with_parameters pid=2336775)\u001b[0m loss: 0.002\u001b[32m [repeated 10x across cluster]\u001b[0m\n"
     ]
    },
    {
     "name": "stderr",
     "output_type": "stream",
     "text": [
      "Val Epoch:79: 0it [00:00, ?it/s]272128)\u001b[0m \n",
      "Val Epoch:79: 42it [00:01, 26.06it/s]\u001b[32m [repeated 24x across cluster]\u001b[0m\n",
      "Val Epoch:48: 0it [00:00, ?it/s]336775)\u001b[0m \n"
     ]
    },
    {
     "name": "stdout",
     "output_type": "stream",
     "text": [
      "\u001b[36m(tune_with_parameters pid=2272128)\u001b[0m loss: 0.000\u001b[32m [repeated 18x across cluster]\u001b[0m\n"
     ]
    },
    {
     "name": "stderr",
     "output_type": "stream",
     "text": [
      "Val Epoch:48: 16it [00:01, 20.30it/s]\u001b[32m [repeated 5x across cluster]\u001b[0m\n",
      "Val Epoch:80: 0it [00:00, ?it/s]272128)\u001b[0m \n"
     ]
    },
    {
     "name": "stdout",
     "output_type": "stream",
     "text": [
      "\u001b[36m(tune_with_parameters pid=2336775)\u001b[0m loss: 0.004\u001b[32m [repeated 15x across cluster]\u001b[0m\n"
     ]
    },
    {
     "name": "stderr",
     "output_type": "stream",
     "text": [
      "Val Epoch:80: 4it [00:00,  6.80it/s]\u001b[32m [repeated 9x across cluster]\u001b[0m\n",
      "Val Epoch:80: 47it [00:01, 23.97it/s]8)\u001b[0m \n",
      "Val Epoch:49: 0it [00:00, ?it/s]336775)\u001b[0m \n"
     ]
    },
    {
     "name": "stdout",
     "output_type": "stream",
     "text": [
      "\u001b[36m(tune_with_parameters pid=2336775)\u001b[0m loss: 0.003\u001b[32m [repeated 9x across cluster]\u001b[0m\n"
     ]
    },
    {
     "name": "stderr",
     "output_type": "stream",
     "text": [
      "Val Epoch:50: 0it [00:00, ?it/s]336775)\u001b[0m \n",
      "Val Epoch:49: 47it [00:01, 25.50it/s]\u001b[32m [repeated 21x across cluster]\u001b[0m\n"
     ]
    },
    {
     "name": "stdout",
     "output_type": "stream",
     "text": [
      "\u001b[36m(tune_with_parameters pid=2336775)\u001b[0m loss: 0.001\u001b[32m [repeated 15x across cluster]\u001b[0m\n"
     ]
    },
    {
     "name": "stderr",
     "output_type": "stream",
     "text": [
      "2024-08-19 22:14:10,837\tERROR tune_controller.py:1331 -- Trial task failed for trial tune_with_parameters_54ae7_00004\n",
      "Traceback (most recent call last):\n",
      "  File \"/users/k23058970/miniforge3/envs/Training/lib/python3.10/site-packages/ray/air/execution/_internal/event_manager.py\", line 110, in resolve_future\n",
      "    result = ray.get(future)\n",
      "  File \"/users/k23058970/miniforge3/envs/Training/lib/python3.10/site-packages/ray/_private/auto_init_hook.py\", line 21, in auto_init_wrapper\n",
      "    return fn(*args, **kwargs)\n",
      "  File \"/users/k23058970/miniforge3/envs/Training/lib/python3.10/site-packages/ray/_private/client_mode_hook.py\", line 103, in wrapper\n",
      "    return func(*args, **kwargs)\n",
      "  File \"/users/k23058970/miniforge3/envs/Training/lib/python3.10/site-packages/ray/_private/worker.py\", line 2613, in get\n",
      "    values, debugger_breakpoint = worker.get_objects(object_refs, timeout=timeout)\n",
      "  File \"/users/k23058970/miniforge3/envs/Training/lib/python3.10/site-packages/ray/_private/worker.py\", line 861, in get_objects\n",
      "    raise value.as_instanceof_cause()\n",
      "ray.exceptions.RayTaskError(RuntimeError): \u001b[36mray::ImplicitFunc.train()\u001b[39m (pid=2427221, ip=10.211.4.4, actor_id=b1f700d61357f79dc10a15f001000000, repr=tune_with_parameters)\n",
      "  File \"/users/k23058970/miniforge3/envs/Training/lib/python3.10/site-packages/ray/tune/trainable/trainable.py\", line 331, in train\n",
      "    raise skipped from exception_cause(skipped)\n",
      "  File \"/users/k23058970/miniforge3/envs/Training/lib/python3.10/site-packages/ray/air/_internal/util.py\", line 98, in run\n",
      "    self._ret = self._target(*self._args, **self._kwargs)\n",
      "  File \"/users/k23058970/miniforge3/envs/Training/lib/python3.10/site-packages/ray/tune/trainable/function_trainable.py\", line 45, in <lambda>\n",
      "    training_func=lambda: self._trainable_func(self.config),\n",
      "  File \"/users/k23058970/miniforge3/envs/Training/lib/python3.10/site-packages/ray/tune/trainable/function_trainable.py\", line 248, in _trainable_func\n",
      "    output = fn()\n",
      "  File \"/users/k23058970/miniforge3/envs/Training/lib/python3.10/site-packages/ray/tune/trainable/util.py\", line 130, in inner\n",
      "    return trainable(config, **fn_kwargs)\n",
      "  File \"/scratch/users/k23058970/Model training/training_insilico_lrcn.py\", line 143, in train_spectra\n",
      "    model = InSilicoLRCN(\n",
      "  File \"/scratch/users/k23058970/Model training/insilico_lrcn.py\", line 35, in __init__\n",
      "    self.lstm_shape = self.length_lstm(init_input)\n",
      "  File \"/scratch/users/k23058970/Model training/insilico_lrcn.py\", line 80, in length_lstm\n",
      "    x = self.pool4(F.gelu(x))\n",
      "  File \"/users/k23058970/miniforge3/envs/Training/lib/python3.10/site-packages/torch/nn/modules/module.py\", line 1532, in _wrapped_call_impl\n",
      "    return self._call_impl(*args, **kwargs)\n",
      "  File \"/users/k23058970/miniforge3/envs/Training/lib/python3.10/site-packages/torch/nn/modules/module.py\", line 1541, in _call_impl\n",
      "    return forward_call(*args, **kwargs)\n",
      "  File \"/users/k23058970/miniforge3/envs/Training/lib/python3.10/site-packages/torch/nn/modules/pooling.py\", line 91, in forward\n",
      "    return F.max_pool1d(input, self.kernel_size, self.stride,\n",
      "  File \"/users/k23058970/miniforge3/envs/Training/lib/python3.10/site-packages/torch/_jit_internal.py\", line 497, in fn\n",
      "    return if_false(*args, **kwargs)\n",
      "  File \"/users/k23058970/miniforge3/envs/Training/lib/python3.10/site-packages/torch/nn/functional.py\", line 710, in _max_pool1d\n",
      "    return torch.max_pool1d(input, kernel_size, stride, padding, dilation, ceil_mode)\n",
      "RuntimeError: max_pool1d() Invalid computed output size: 0\n",
      "Val Epoch:51: 0it [00:00, ?it/s]336775)\u001b[0m \n",
      "Val Epoch:50: 47it [00:02, 19.94it/s]\u001b[32m [repeated 13x across cluster]\u001b[0m\n"
     ]
    },
    {
     "name": "stdout",
     "output_type": "stream",
     "text": [
      "\u001b[36m(tune_with_parameters pid=2336775)\u001b[0m loss: 0.001\u001b[32m [repeated 15x across cluster]\u001b[0m\n",
      "\u001b[36m(tune_with_parameters pid=2336775)\u001b[0m loss: 0.003\u001b[32m [repeated 13x across cluster]\u001b[0m\n"
     ]
    },
    {
     "name": "stderr",
     "output_type": "stream",
     "text": [
      "Val Epoch:52: 0it [00:00, ?it/s]336775)\u001b[0m \n",
      "Val Epoch:51: 47it [00:01, 36.54it/s]\u001b[32m [repeated 10x across cluster]\u001b[0m\n",
      "\u001b[36m(tune_with_parameters pid=2428921)\u001b[0m /users/k23058970/miniforge3/envs/Training/lib/python3.10/site-packages/torch/nn/modules/lazy.py:181: UserWarning: Lazy modules are a new feature under heavy development so changes to the API or functionality can happen at any moment.\n",
      "\u001b[36m(tune_with_parameters pid=2428921)\u001b[0m   warnings.warn('Lazy modules are a new feature under heavy development '\n"
     ]
    },
    {
     "name": "stdout",
     "output_type": "stream",
     "text": [
      "\u001b[36m(tune_with_parameters pid=2336775)\u001b[0m loss: 0.006\u001b[32m [repeated 5x across cluster]\u001b[0m\n"
     ]
    },
    {
     "name": "stderr",
     "output_type": "stream",
     "text": [
      "Val Epoch:53: 0it [00:00, ?it/s]336775)\u001b[0m \n",
      "Val Epoch:52: 47it [00:02, 22.34it/s]\u001b[32m [repeated 14x across cluster]\u001b[0m\n"
     ]
    },
    {
     "name": "stdout",
     "output_type": "stream",
     "text": [
      "\u001b[36m(tune_with_parameters pid=2428921)\u001b[0m loss: 1.091\u001b[32m [repeated 17x across cluster]\u001b[0m\n"
     ]
    },
    {
     "name": "stderr",
     "output_type": "stream",
     "text": [
      "Val Epoch:53: 47it [00:01, 27.79it/s]5)\u001b[0m \n"
     ]
    },
    {
     "name": "stdout",
     "output_type": "stream",
     "text": [
      "\u001b[36m(tune_with_parameters pid=2336775)\u001b[0m loss: 0.002\u001b[32m [repeated 15x across cluster]\u001b[0m\n"
     ]
    },
    {
     "name": "stderr",
     "output_type": "stream",
     "text": [
      "Val Epoch:54: 0it [00:00, ?it/s]336775)\u001b[0m \n",
      "Val Epoch:53: 41it [00:01, 37.40it/s]\u001b[32m [repeated 10x across cluster]\u001b[0m\n",
      "Val Epoch:0: 0it [00:00, ?it/s]2428921)\u001b[0m \n"
     ]
    },
    {
     "name": "stdout",
     "output_type": "stream",
     "text": [
      "\u001b[36m(tune_with_parameters pid=2336775)\u001b[0m loss: 0.003\u001b[32m [repeated 11x across cluster]\u001b[0m\n"
     ]
    },
    {
     "name": "stderr",
     "output_type": "stream",
     "text": [
      "Val Epoch:0: 35it [00:01, 21.30it/s]\u001b[32m [repeated 23x across cluster]\u001b[0m\n",
      "Val Epoch:55: 0it [00:00, ?it/s]336775)\u001b[0m \n"
     ]
    },
    {
     "name": "stdout",
     "output_type": "stream",
     "text": [
      "\u001b[36m(tune_with_parameters pid=2428921)\u001b[0m /tmp/tmpapafh1kg/checkpoint.pt\n",
      "\u001b[36m(tune_with_parameters pid=2336775)\u001b[0m loss: 0.002\u001b[32m [repeated 13x across cluster]\u001b[0m\n"
     ]
    },
    {
     "name": "stderr",
     "output_type": "stream",
     "text": [
      "Val Epoch:55: 44it [00:01, 38.70it/s]\u001b[32m [repeated 15x across cluster]\u001b[0m\n",
      "\u001b[36m(tune_with_parameters pid=2428921)\u001b[0m Checkpoint successfully created at: Checkpoint(filesystem=local, path=/scratch/users/k23058970/Model training/results/Double Peak LRCN Null/tune_with_parameters_2024-08-19_21-54-39/tune_with_parameters_54ae7_00005_5_dp=0.2500,k1=3,k2=1,k3=1,k4=1,lr=0.0262_2024-08-19_21-55-13/checkpoint_000000)\n"
     ]
    },
    {
     "name": "stdout",
     "output_type": "stream",
     "text": [
      "\u001b[36m(tune_with_parameters pid=2336775)\u001b[0m loss: 0.002\u001b[32m [repeated 11x across cluster]\u001b[0m\n"
     ]
    },
    {
     "name": "stderr",
     "output_type": "stream",
     "text": [
      "Val Epoch:56: 0it [00:00, ?it/s]336775)\u001b[0m \n",
      "Val Epoch:55: 47it [00:01, 31.32it/s]5)\u001b[0m \n",
      "Val Epoch:56: 1it [00:00,  2.13it/s]75)\u001b[0m \n",
      "Val Epoch:56: 3it [00:00,  5.85it/s]75)\u001b[0m \n",
      "Val Epoch:56: 7it [00:00, 13.18it/s]75)\u001b[0m \n",
      "Val Epoch:56: 12it [00:00, 20.73it/s]5)\u001b[0m \n",
      "Val Epoch:56: 16it [00:00, 25.09it/s]5)\u001b[0m \n",
      "Val Epoch:56: 20it [00:01, 26.37it/s]5)\u001b[0m \n",
      "Val Epoch:56: 25it [00:01, 29.99it/s]5)\u001b[0m \n",
      "Val Epoch:56: 29it [00:01, 30.37it/s]5)\u001b[0m \n",
      "Val Epoch:56: 33it [00:01, 30.05it/s]5)\u001b[0m \n",
      "Val Epoch:56: 38it [00:01, 34.17it/s]5)\u001b[0m \n",
      "Val Epoch:56: 45it [00:01, 40.57it/s]5)\u001b[0m \n",
      "Val Epoch:56: 47it [00:01, 25.55it/s]5)\u001b[0m \n"
     ]
    },
    {
     "name": "stdout",
     "output_type": "stream",
     "text": [
      "\u001b[36m(tune_with_parameters pid=2428921)\u001b[0m loss: 0.313\u001b[32m [repeated 13x across cluster]\u001b[0m\n",
      "\u001b[36m(tune_with_parameters pid=2336775)\u001b[0m loss: 0.002\u001b[32m [repeated 18x across cluster]\u001b[0m\n"
     ]
    },
    {
     "name": "stderr",
     "output_type": "stream",
     "text": [
      "Val Epoch:1: 0it [00:00, ?it/s]2428921)\u001b[0m \n",
      "Val Epoch:57: 0it [00:00, ?it/s]336775)\u001b[0m \n",
      "Val Epoch:57: 1it [00:00,  3.67it/s]75)\u001b[0m \n"
     ]
    },
    {
     "name": "stdout",
     "output_type": "stream",
     "text": [
      "\u001b[36m(tune_with_parameters pid=2336775)\u001b[0m loss: 0.002\u001b[32m [repeated 6x across cluster]\u001b[0m\n",
      "\u001b[36m(tune_with_parameters pid=2428921)\u001b[0m /tmp/tmpbv1h66ec/checkpoint.pt\n"
     ]
    },
    {
     "name": "stderr",
     "output_type": "stream",
     "text": [
      "\u001b[36m(tune_with_parameters pid=2428921)\u001b[0m Checkpoint successfully created at: Checkpoint(filesystem=local, path=/scratch/users/k23058970/Model training/results/Double Peak LRCN Null/tune_with_parameters_2024-08-19_21-54-39/tune_with_parameters_54ae7_00005_5_dp=0.2500,k1=3,k2=1,k3=1,k4=1,lr=0.0262_2024-08-19_21-55-13/checkpoint_000001)\n",
      "Val Epoch:1: 47it [00:03, 13.92it/s]\u001b[32m [repeated 28x across cluster]\u001b[0m\n",
      "Val Epoch:58: 0it [00:00, ?it/s]336775)\u001b[0m \n"
     ]
    },
    {
     "name": "stdout",
     "output_type": "stream",
     "text": [
      "\u001b[36m(tune_with_parameters pid=2428921)\u001b[0m loss: 0.112\u001b[32m [repeated 14x across cluster]\u001b[0m\n",
      "\u001b[36m(tune_with_parameters pid=2336775)\u001b[0m loss: 0.002\u001b[32m [repeated 13x across cluster]\u001b[0m\n"
     ]
    },
    {
     "name": "stderr",
     "output_type": "stream",
     "text": [
      "Val Epoch:59: 0it [00:00, ?it/s]336775)\u001b[0m \n",
      "Val Epoch:58: 47it [00:01, 24.09it/s]\u001b[32m [repeated 11x across cluster]\u001b[0m\n"
     ]
    },
    {
     "name": "stdout",
     "output_type": "stream",
     "text": [
      "\u001b[36m(tune_with_parameters pid=2428921)\u001b[0m loss: 0.095\u001b[32m [repeated 12x across cluster]\u001b[0m\n"
     ]
    },
    {
     "name": "stderr",
     "output_type": "stream",
     "text": [
      "Val Epoch:2: 0it [00:00, ?it/s]2428921)\u001b[0m \n",
      "Val Epoch:59: 47it [00:01, 26.75it/s]\u001b[32m [repeated 12x across cluster]\u001b[0m\n"
     ]
    },
    {
     "name": "stdout",
     "output_type": "stream",
     "text": [
      "\u001b[36m(tune_with_parameters pid=2336775)\u001b[0m loss: 0.002\u001b[32m [repeated 16x across cluster]\u001b[0m\n",
      "\u001b[36m(tune_with_parameters pid=2336775)\u001b[0m loss: 0.001\u001b[32m [repeated 7x across cluster]\u001b[0m\n",
      "\u001b[36m(tune_with_parameters pid=2428921)\u001b[0m /tmp/tmp955srsj7/checkpoint.pt\n",
      "\u001b[36m(tune_with_parameters pid=2336775)\u001b[0m \n"
     ]
    },
    {
     "name": "stderr",
     "output_type": "stream",
     "text": [
      "\u001b[36m(tune_with_parameters pid=2428921)\u001b[0m Checkpoint successfully created at: Checkpoint(filesystem=local, path=/scratch/users/k23058970/Model training/results/Double Peak LRCN Null/tune_with_parameters_2024-08-19_21-54-39/tune_with_parameters_54ae7_00005_5_dp=0.2500,k1=3,k2=1,k3=1,k4=1,lr=0.0262_2024-08-19_21-55-13/checkpoint_000002)\n",
      "Val Epoch:60: 0it [00:00, ?it/s]336775)\u001b[0m \n",
      "Val Epoch:60: 47it [00:02, 23.46it/s]\u001b[32m [repeated 28x across cluster]\u001b[0m\n",
      "Val Epoch:61: 0it [00:00, ?it/s]336775)\u001b[0m \n",
      "Val Epoch:61: 14it [00:00, 22.66it/s]\u001b[32m [repeated 4x across cluster]\u001b[0m\n"
     ]
    },
    {
     "name": "stdout",
     "output_type": "stream",
     "text": [
      "\u001b[36m(tune_with_parameters pid=2428921)\u001b[0m loss: 0.077\u001b[32m [repeated 15x across cluster]\u001b[0m\n",
      "\u001b[36m(tune_with_parameters pid=2428921)\u001b[0m loss: 0.063\u001b[32m [repeated 14x across cluster]\u001b[0m\n"
     ]
    },
    {
     "name": "stderr",
     "output_type": "stream",
     "text": [
      "Val Epoch:62: 0it [00:00, ?it/s]336775)\u001b[0m \n",
      "Val Epoch:61: 47it [00:01, 26.00it/s]\u001b[32m [repeated 8x across cluster]\u001b[0m\n"
     ]
    },
    {
     "name": "stdout",
     "output_type": "stream",
     "text": [
      "\u001b[36m(tune_with_parameters pid=2336775)\u001b[0m loss: 0.001\u001b[32m [repeated 11x across cluster]\u001b[0m\n"
     ]
    },
    {
     "name": "stderr",
     "output_type": "stream",
     "text": [
      "Val Epoch:3: 0it [00:00, ?it/s]2428921)\u001b[0m \n",
      "Val Epoch:3: 28it [00:01, 17.13it/s]\u001b[32m [repeated 20x across cluster]\u001b[0m\n"
     ]
    },
    {
     "name": "stdout",
     "output_type": "stream",
     "text": [
      "\u001b[36m(tune_with_parameters pid=2336775)\u001b[0m loss: 0.002\u001b[32m [repeated 14x across cluster]\u001b[0m\n"
     ]
    },
    {
     "name": "stderr",
     "output_type": "stream",
     "text": [
      "Val Epoch:63: 0it [00:00, ?it/s]336775)\u001b[0m \n"
     ]
    },
    {
     "name": "stdout",
     "output_type": "stream",
     "text": [
      "\u001b[36m(tune_with_parameters pid=2428921)\u001b[0m /tmp/tmpveisco6v/checkpoint.pt\n"
     ]
    },
    {
     "name": "stderr",
     "output_type": "stream",
     "text": [
      "\u001b[36m(tune_with_parameters pid=2428921)\u001b[0m Checkpoint successfully created at: Checkpoint(filesystem=local, path=/scratch/users/k23058970/Model training/results/Double Peak LRCN Null/tune_with_parameters_2024-08-19_21-54-39/tune_with_parameters_54ae7_00005_5_dp=0.2500,k1=3,k2=1,k3=1,k4=1,lr=0.0262_2024-08-19_21-55-13/checkpoint_000003)\n",
      "Val Epoch:63: 43it [00:01, 36.86it/s]\u001b[32m [repeated 18x across cluster]\u001b[0m\n"
     ]
    },
    {
     "name": "stdout",
     "output_type": "stream",
     "text": [
      "\u001b[36m(tune_with_parameters pid=2336775)\u001b[0m loss: 0.002\u001b[32m [repeated 5x across cluster]\u001b[0m\n"
     ]
    },
    {
     "name": "stderr",
     "output_type": "stream",
     "text": [
      "Val Epoch:64: 0it [00:00, ?it/s]336775)\u001b[0m \n",
      "Val Epoch:63: 47it [00:02, 22.59it/s]5)\u001b[0m \n",
      "Val Epoch:64: 1it [00:00,  2.95it/s]75)\u001b[0m \n",
      "Val Epoch:64: 6it [00:00, 16.75it/s]75)\u001b[0m \n",
      "Val Epoch:64: 11it [00:00, 25.20it/s]5)\u001b[0m \n",
      "Val Epoch:64: 16it [00:00, 28.70it/s]5)\u001b[0m \n",
      "Val Epoch:64: 20it [00:00, 31.61it/s]5)\u001b[0m \n",
      "Val Epoch:64: 25it [00:00, 33.37it/s]5)\u001b[0m \n"
     ]
    },
    {
     "name": "stdout",
     "output_type": "stream",
     "text": [
      "\u001b[36m(tune_with_parameters pid=2428921)\u001b[0m loss: 0.039\u001b[32m [repeated 18x across cluster]\u001b[0m\n"
     ]
    },
    {
     "name": "stderr",
     "output_type": "stream",
     "text": [
      "Val Epoch:64: 30it [00:01, 37.00it/s]5)\u001b[0m \n",
      "Val Epoch:64: 34it [00:01, 36.32it/s]5)\u001b[0m \n",
      "Val Epoch:64: 38it [00:01, 36.19it/s]5)\u001b[0m \n",
      "Val Epoch:64: 42it [00:01, 35.08it/s]5)\u001b[0m \n",
      "Val Epoch:64: 47it [00:01, 29.85it/s]5)\u001b[0m \n"
     ]
    },
    {
     "name": "stdout",
     "output_type": "stream",
     "text": [
      "\u001b[36m(tune_with_parameters pid=2428921)\u001b[0m loss: 0.035\u001b[32m [repeated 15x across cluster]\u001b[0m\n"
     ]
    },
    {
     "name": "stderr",
     "output_type": "stream",
     "text": [
      "Val Epoch:65: 0it [00:00, ?it/s]336775)\u001b[0m \n",
      "Val Epoch:65: 1it [00:00,  2.86it/s]75)\u001b[0m \n",
      "Val Epoch:65: 4it [00:00, 10.72it/s]75)\u001b[0m \n",
      "Val Epoch:65: 6it [00:00, 13.18it/s]75)\u001b[0m \n",
      "Val Epoch:65: 8it [00:00, 14.68it/s]75)\u001b[0m \n",
      "Val Epoch:65: 10it [00:00, 15.52it/s]5)\u001b[0m \n",
      "Val Epoch:65: 14it [00:00, 22.12it/s]5)\u001b[0m \n",
      "Val Epoch:65: 17it [00:01, 23.84it/s]5)\u001b[0m \n",
      "Val Epoch:65: 22it [00:01, 30.66it/s]5)\u001b[0m \n",
      "Val Epoch:65: 29it [00:01, 38.22it/s]5)\u001b[0m \n",
      "Val Epoch:65: 34it [00:01, 40.67it/s]5)\u001b[0m \n",
      "Val Epoch:65: 39it [00:01, 39.86it/s]5)\u001b[0m \n",
      "Val Epoch:65: 47it [00:01, 49.68it/s]5)\u001b[0m \n",
      "Val Epoch:4: 0it [00:00, ?it/s]2428921)\u001b[0m \n",
      "Val Epoch:65: 47it [00:02, 18.87it/s]5)\u001b[0m \n"
     ]
    },
    {
     "name": "stdout",
     "output_type": "stream",
     "text": [
      "\u001b[36m(tune_with_parameters pid=2336775)\u001b[0m loss: 0.004\u001b[32m [repeated 9x across cluster]\u001b[0m\n",
      "\u001b[36m(tune_with_parameters pid=2428921)\u001b[0m /tmp/tmpsb04t1zo/checkpoint.pt\n",
      "\u001b[36m(tune_with_parameters pid=2336775)\u001b[0m loss: 0.002\u001b[32m [repeated 14x across cluster]\u001b[0m\n"
     ]
    },
    {
     "name": "stderr",
     "output_type": "stream",
     "text": [
      "\u001b[36m(tune_with_parameters pid=2428921)\u001b[0m Checkpoint successfully created at: Checkpoint(filesystem=local, path=/scratch/users/k23058970/Model training/results/Double Peak LRCN Null/tune_with_parameters_2024-08-19_21-54-39/tune_with_parameters_54ae7_00005_5_dp=0.2500,k1=3,k2=1,k3=1,k4=1,lr=0.0262_2024-08-19_21-55-13/checkpoint_000004)\n",
      "Val Epoch:4: 47it [00:02, 15.88it/s]\u001b[32m [repeated 16x across cluster]\u001b[0m\n",
      "Val Epoch:66: 0it [00:00, ?it/s]336775)\u001b[0m \n"
     ]
    },
    {
     "name": "stdout",
     "output_type": "stream",
     "text": [
      "\u001b[36m(tune_with_parameters pid=2336775)\u001b[0m loss: 0.001\u001b[32m [repeated 7x across cluster]\u001b[0m\n"
     ]
    },
    {
     "name": "stderr",
     "output_type": "stream",
     "text": [
      "Val Epoch:67: 0it [00:00, ?it/s]336775)\u001b[0m \n",
      "Val Epoch:66: 47it [00:03, 15.58it/s]\u001b[32m [repeated 13x across cluster]\u001b[0m\n"
     ]
    },
    {
     "name": "stdout",
     "output_type": "stream",
     "text": [
      "\u001b[36m(tune_with_parameters pid=2428921)\u001b[0m loss: 0.032\u001b[32m [repeated 17x across cluster]\u001b[0m\n",
      "\u001b[36m(tune_with_parameters pid=2428921)\u001b[0m loss: 0.029\u001b[32m [repeated 15x across cluster]\u001b[0m\n"
     ]
    },
    {
     "name": "stderr",
     "output_type": "stream",
     "text": [
      "Val Epoch:5: 0it [00:00, ?it/s]2428921)\u001b[0m \n",
      "Val Epoch:67: 47it [00:01, 35.56it/s]\u001b[32m [repeated 11x across cluster]\u001b[0m\n",
      "Val Epoch:5: 29it [00:02, 14.89it/s]21)\u001b[0m \n",
      "Val Epoch:5: 47it [00:03, 14.79it/s]21)\u001b[0m \n"
     ]
    },
    {
     "name": "stdout",
     "output_type": "stream",
     "text": [
      "\u001b[36m(tune_with_parameters pid=2336775)\u001b[0m loss: 0.005\u001b[32m [repeated 7x across cluster]\u001b[0m\n",
      "\u001b[36m(tune_with_parameters pid=2428921)\u001b[0m /tmp/tmp0d2an_dk/checkpoint.pt\n"
     ]
    },
    {
     "name": "stderr",
     "output_type": "stream",
     "text": [
      "\u001b[36m(tune_with_parameters pid=2428921)\u001b[0m Checkpoint successfully created at: Checkpoint(filesystem=local, path=/scratch/users/k23058970/Model training/results/Double Peak LRCN Null/tune_with_parameters_2024-08-19_21-54-39/tune_with_parameters_54ae7_00005_5_dp=0.2500,k1=3,k2=1,k3=1,k4=1,lr=0.0262_2024-08-19_21-55-13/checkpoint_000005)\n",
      "Val Epoch:68: 0it [00:00, ?it/s]336775)\u001b[0m \n",
      "Val Epoch:68: 47it [00:01, 30.29it/s]\u001b[32m [repeated 26x across cluster]\u001b[0m\n"
     ]
    },
    {
     "name": "stdout",
     "output_type": "stream",
     "text": [
      "\u001b[36m(tune_with_parameters pid=2336775)\u001b[0m loss: 0.001\u001b[32m [repeated 14x across cluster]\u001b[0m\n"
     ]
    },
    {
     "name": "stderr",
     "output_type": "stream",
     "text": [
      "Val Epoch:69: 0it [00:00, ?it/s]336775)\u001b[0m \n",
      "Val Epoch:69: 32it [00:01, 36.63it/s]5)\u001b[0m \n"
     ]
    },
    {
     "name": "stdout",
     "output_type": "stream",
     "text": [
      "\u001b[36m(tune_with_parameters pid=2336775)\u001b[0m loss: 0.002\u001b[32m [repeated 9x across cluster]\u001b[0m\n"
     ]
    },
    {
     "name": "stderr",
     "output_type": "stream",
     "text": [
      "Val Epoch:70: 0it [00:00, ?it/s]336775)\u001b[0m \n",
      "Val Epoch:69: 47it [00:01, 28.29it/s]\u001b[32m [repeated 10x across cluster]\u001b[0m\n"
     ]
    },
    {
     "name": "stdout",
     "output_type": "stream",
     "text": [
      "\u001b[36m(tune_with_parameters pid=2428921)\u001b[0m loss: 0.023\u001b[32m [repeated 17x across cluster]\u001b[0m\n"
     ]
    },
    {
     "name": "stderr",
     "output_type": "stream",
     "text": [
      "Val Epoch:6: 0it [00:00, ?it/s]2428921)\u001b[0m \n",
      "Val Epoch:6: 4it [00:00,  8.90it/s]\u001b[32m [repeated 13x across cluster]\u001b[0m\n"
     ]
    },
    {
     "name": "stdout",
     "output_type": "stream",
     "text": [
      "\u001b[36m(tune_with_parameters pid=2336775)\u001b[0m loss: 0.002\u001b[32m [repeated 12x across cluster]\u001b[0m\n"
     ]
    },
    {
     "name": "stderr",
     "output_type": "stream",
     "text": [
      "Val Epoch:71: 0it [00:00, ?it/s]336775)\u001b[0m \n",
      "Val Epoch:71: 47it [00:01, 33.59it/s]\u001b[32m [repeated 25x across cluster]\u001b[0m\n"
     ]
    },
    {
     "name": "stdout",
     "output_type": "stream",
     "text": [
      "\u001b[36m(tune_with_parameters pid=2336775)\u001b[0m loss: 0.000\u001b[32m [repeated 8x across cluster]\u001b[0m\n",
      "\u001b[36m(tune_with_parameters pid=2428921)\u001b[0m /tmp/tmpwb_mx255/checkpoint.pt\n"
     ]
    },
    {
     "name": "stderr",
     "output_type": "stream",
     "text": [
      "\u001b[36m(tune_with_parameters pid=2428921)\u001b[0m Checkpoint successfully created at: Checkpoint(filesystem=local, path=/scratch/users/k23058970/Model training/results/Double Peak LRCN Null/tune_with_parameters_2024-08-19_21-54-39/tune_with_parameters_54ae7_00005_5_dp=0.2500,k1=3,k2=1,k3=1,k4=1,lr=0.0262_2024-08-19_21-55-13/checkpoint_000006)\n"
     ]
    },
    {
     "name": "stdout",
     "output_type": "stream",
     "text": [
      "\u001b[36m(tune_with_parameters pid=2336775)\u001b[0m loss: 0.001\u001b[32m [repeated 16x across cluster]\u001b[0m\n"
     ]
    },
    {
     "name": "stderr",
     "output_type": "stream",
     "text": [
      "Val Epoch:72: 0it [00:00, ?it/s]336775)\u001b[0m \n",
      "Val Epoch:72: 1it [00:00,  3.51it/s]75)\u001b[0m \n",
      "Val Epoch:72: 4it [00:00, 11.14it/s]75)\u001b[0m \n",
      "Val Epoch:72: 8it [00:00, 19.18it/s]75)\u001b[0m \n",
      "Val Epoch:72: 14it [00:00, 30.32it/s]5)\u001b[0m \n",
      "Val Epoch:72: 19it [00:00, 33.19it/s]5)\u001b[0m \n",
      "Val Epoch:72: 23it [00:00, 34.54it/s]5)\u001b[0m \n",
      "Val Epoch:72: 27it [00:00, 34.10it/s]5)\u001b[0m \n",
      "Val Epoch:72: 33it [00:01, 39.28it/s]5)\u001b[0m \n",
      "Val Epoch:72: 38it [00:01, 38.78it/s]5)\u001b[0m \n",
      "Val Epoch:72: 42it [00:01, 37.96it/s]5)\u001b[0m \n",
      "Val Epoch:72: 47it [00:01, 31.25it/s]5)\u001b[0m \n"
     ]
    },
    {
     "name": "stdout",
     "output_type": "stream",
     "text": [
      "\u001b[36m(tune_with_parameters pid=2336775)\u001b[0m loss: 0.001\u001b[32m [repeated 9x across cluster]\u001b[0m\n"
     ]
    },
    {
     "name": "stderr",
     "output_type": "stream",
     "text": [
      "Val Epoch:73: 0it [00:00, ?it/s]336775)\u001b[0m \n",
      "Val Epoch:73: 1it [00:00,  2.93it/s]75)\u001b[0m \n",
      "Val Epoch:73: 5it [00:00, 13.72it/s]75)\u001b[0m \n",
      "Val Epoch:73: 9it [00:00, 20.35it/s]75)\u001b[0m \n",
      "Val Epoch:73: 13it [00:00, 25.55it/s]5)\u001b[0m \n"
     ]
    },
    {
     "name": "stdout",
     "output_type": "stream",
     "text": [
      "\u001b[36m(tune_with_parameters pid=2428921)\u001b[0m loss: 0.017\u001b[32m [repeated 17x across cluster]\u001b[0m\n"
     ]
    },
    {
     "name": "stderr",
     "output_type": "stream",
     "text": [
      "Val Epoch:73: 17it [00:00, 28.63it/s]5)\u001b[0m \n",
      "Val Epoch:73: 22it [00:00, 33.35it/s]5)\u001b[0m \n",
      "Val Epoch:73: 27it [00:01, 36.07it/s]5)\u001b[0m \n",
      "Val Epoch:73: 31it [00:01, 36.31it/s]5)\u001b[0m \n",
      "Val Epoch:73: 35it [00:01, 35.86it/s]5)\u001b[0m \n",
      "Val Epoch:73: 40it [00:01, 37.95it/s]5)\u001b[0m \n",
      "Val Epoch:73: 44it [00:01, 35.68it/s]5)\u001b[0m \n",
      "Val Epoch:73: 47it [00:01, 29.82it/s]5)\u001b[0m \n",
      "Val Epoch:7: 0it [00:00, ?it/s]2428921)\u001b[0m \n",
      "Val Epoch:7: 7it [00:00, 19.49it/s]921)\u001b[0m \n",
      "Val Epoch:7: 37it [00:01, 19.14it/s]\u001b[32m [repeated 11x across cluster]\u001b[0m\n"
     ]
    },
    {
     "name": "stdout",
     "output_type": "stream",
     "text": [
      "\u001b[36m(tune_with_parameters pid=2336775)\u001b[0m loss: 0.001\u001b[32m [repeated 10x across cluster]\u001b[0m\n"
     ]
    },
    {
     "name": "stderr",
     "output_type": "stream",
     "text": [
      "Val Epoch:74: 0it [00:00, ?it/s]336775)\u001b[0m \n"
     ]
    },
    {
     "name": "stdout",
     "output_type": "stream",
     "text": [
      "\u001b[36m(tune_with_parameters pid=2428921)\u001b[0m /tmp/tmpegxklie5/checkpoint.pt\n"
     ]
    },
    {
     "name": "stderr",
     "output_type": "stream",
     "text": [
      "\u001b[36m(tune_with_parameters pid=2428921)\u001b[0m Checkpoint successfully created at: Checkpoint(filesystem=local, path=/scratch/users/k23058970/Model training/results/Double Peak LRCN Null/tune_with_parameters_2024-08-19_21-54-39/tune_with_parameters_54ae7_00005_5_dp=0.2500,k1=3,k2=1,k3=1,k4=1,lr=0.0262_2024-08-19_21-55-13/checkpoint_000007)\n",
      "Val Epoch:74: 47it [00:02, 17.82it/s]\u001b[32m [repeated 15x across cluster]\u001b[0m\n"
     ]
    },
    {
     "name": "stdout",
     "output_type": "stream",
     "text": [
      "\u001b[36m(tune_with_parameters pid=2428921)\u001b[0m loss: 0.010\u001b[32m [repeated 8x across cluster]\u001b[0m\n",
      "\u001b[36m(tune_with_parameters pid=2336775)\u001b[0m loss: 0.001\u001b[32m [repeated 19x across cluster]\u001b[0m\n"
     ]
    },
    {
     "name": "stderr",
     "output_type": "stream",
     "text": [
      "Val Epoch:75: 0it [00:00, ?it/s]336775)\u001b[0m \n",
      "Val Epoch:75: 1it [00:00,  2.82it/s]75)\u001b[0m \n",
      "Val Epoch:75: 4it [00:00, 10.21it/s]75)\u001b[0m \n",
      "Val Epoch:75: 9it [00:00, 20.07it/s]75)\u001b[0m \n",
      "Val Epoch:75: 13it [00:00, 24.28it/s]5)\u001b[0m \n",
      "Val Epoch:75: 18it [00:00, 30.07it/s]5)\u001b[0m \n",
      "Val Epoch:75: 22it [00:00, 31.88it/s]5)\u001b[0m \n",
      "Val Epoch:75: 28it [00:01, 37.39it/s]5)\u001b[0m \n",
      "Val Epoch:75: 32it [00:01, 37.10it/s]5)\u001b[0m \n",
      "Val Epoch:75: 36it [00:01, 37.22it/s]5)\u001b[0m \n",
      "Val Epoch:75: 40it [00:01, 36.84it/s]5)\u001b[0m \n",
      "Val Epoch:75: 44it [00:01, 36.13it/s]5)\u001b[0m \n",
      "Val Epoch:75: 47it [00:01, 28.84it/s]5)\u001b[0m \n"
     ]
    },
    {
     "name": "stdout",
     "output_type": "stream",
     "text": [
      "\u001b[36m(tune_with_parameters pid=2336775)\u001b[0m loss: 0.001\u001b[32m [repeated 12x across cluster]\u001b[0m\n"
     ]
    },
    {
     "name": "stderr",
     "output_type": "stream",
     "text": [
      "Val Epoch:8: 0it [00:00, ?it/s]2428921)\u001b[0m \n",
      "Val Epoch:76: 0it [00:00, ?it/s]336775)\u001b[0m \n",
      "Val Epoch:76: 1it [00:00,  1.42it/s]75)\u001b[0m \n"
     ]
    },
    {
     "name": "stdout",
     "output_type": "stream",
     "text": [
      "\u001b[36m(tune_with_parameters pid=2336775)\u001b[0m loss: 0.003\u001b[32m [repeated 14x across cluster]\u001b[0m\n",
      "\u001b[36m(tune_with_parameters pid=2428921)\u001b[0m loss: 0.012\u001b[32m [repeated 16x across cluster]\u001b[0m\n"
     ]
    },
    {
     "name": "stderr",
     "output_type": "stream",
     "text": [
      "Val Epoch:77: 0it [00:00, ?it/s]336775)\u001b[0m \n",
      "Val Epoch:8: 47it [00:03, 14.17it/s]\u001b[32m [repeated 28x across cluster]\u001b[0m\n"
     ]
    },
    {
     "name": "stdout",
     "output_type": "stream",
     "text": [
      "\u001b[36m(tune_with_parameters pid=2336775)\u001b[0m loss: 0.001\u001b[32m [repeated 13x across cluster]\u001b[0m\n"
     ]
    },
    {
     "name": "stderr",
     "output_type": "stream",
     "text": [
      "Val Epoch:78: 0it [00:00, ?it/s]336775)\u001b[0m \n",
      "Val Epoch:77: 47it [00:01, 35.55it/s]\u001b[32m [repeated 11x across cluster]\u001b[0m\n"
     ]
    },
    {
     "name": "stdout",
     "output_type": "stream",
     "text": [
      "\u001b[36m(tune_with_parameters pid=2428921)\u001b[0m loss: 0.011\u001b[32m [repeated 15x across cluster]\u001b[0m\n",
      "\u001b[36m(tune_with_parameters pid=2428921)\u001b[0m /tmp/tmptortu08c/checkpoint.pt\n"
     ]
    },
    {
     "name": "stderr",
     "output_type": "stream",
     "text": [
      "\u001b[36m(tune_with_parameters pid=2428921)\u001b[0m Checkpoint successfully created at: Checkpoint(filesystem=local, path=/scratch/users/k23058970/Model training/results/Double Peak LRCN Null/tune_with_parameters_2024-08-19_21-54-39/tune_with_parameters_54ae7_00005_5_dp=0.2500,k1=3,k2=1,k3=1,k4=1,lr=0.0262_2024-08-19_21-55-13/checkpoint_000008)\n",
      "Val Epoch:9: 0it [00:00, ?it/s]2428921)\u001b[0m \n",
      "Val Epoch:9: 47it [00:02, 16.26it/s]\u001b[32m [repeated 32x across cluster]\u001b[0m\n"
     ]
    },
    {
     "name": "stdout",
     "output_type": "stream",
     "text": [
      "\u001b[36m(tune_with_parameters pid=2428921)\u001b[0m loss: 0.002\n",
      "\u001b[36m(tune_with_parameters pid=2428921)\u001b[0m loss: 0.005\n",
      "\u001b[36m(tune_with_parameters pid=2428921)\u001b[0m loss: 0.005\n",
      "\u001b[36m(tune_with_parameters pid=2428921)\u001b[0m loss: 0.005\n",
      "\u001b[36m(tune_with_parameters pid=2428921)\u001b[0m loss: 0.006\n",
      "\u001b[36m(tune_with_parameters pid=2428921)\u001b[0m loss: 0.007\n"
     ]
    },
    {
     "name": "stderr",
     "output_type": "stream",
     "text": [
      "\u001b[36m(tune_with_parameters pid=2456423)\u001b[0m /users/k23058970/miniforge3/envs/Training/lib/python3.10/site-packages/torch/nn/modules/lazy.py:181: UserWarning: Lazy modules are a new feature under heavy development so changes to the API or functionality can happen at any moment.\n",
      "\u001b[36m(tune_with_parameters pid=2456423)\u001b[0m   warnings.warn('Lazy modules are a new feature under heavy development '\n"
     ]
    },
    {
     "name": "stdout",
     "output_type": "stream",
     "text": [
      "\u001b[36m(tune_with_parameters pid=2428921)\u001b[0m loss: 0.007\n",
      "\u001b[36m(tune_with_parameters pid=2428921)\u001b[0m loss: 0.007\n",
      "\u001b[36m(tune_with_parameters pid=2428921)\u001b[0m loss: 0.007\n",
      "\u001b[36m(tune_with_parameters pid=2428921)\u001b[0m loss: 0.007\n",
      "\u001b[36m(tune_with_parameters pid=2456423)\u001b[0m loss: 1.114\u001b[32m [repeated 12x across cluster]\u001b[0m\n"
     ]
    },
    {
     "name": "stderr",
     "output_type": "stream",
     "text": [
      "Val Epoch:10: 0it [00:00, ?it/s]428921)\u001b[0m \n",
      "Val Epoch:10: 1it [00:00,  4.55it/s]21)\u001b[0m \n",
      "Val Epoch:10: 4it [00:00, 12.97it/s]21)\u001b[0m \n",
      "Val Epoch:10: 6it [00:01,  3.93it/s]21)\u001b[0m \n",
      "Val Epoch:10: 8it [00:01,  5.59it/s]21)\u001b[0m \n"
     ]
    },
    {
     "name": "stdout",
     "output_type": "stream",
     "text": [
      "\u001b[36m(tune_with_parameters pid=2456423)\u001b[0m /tmp/tmpkj_4xtj3/checkpoint.pt\n"
     ]
    },
    {
     "name": "stderr",
     "output_type": "stream",
     "text": [
      "\u001b[36m(tune_with_parameters pid=2456423)\u001b[0m Checkpoint successfully created at: Checkpoint(filesystem=local, path=/scratch/users/k23058970/Model training/results/Double Peak LRCN Null/tune_with_parameters_2024-08-19_21-54-39/tune_with_parameters_54ae7_00006_6_dp=0.5000,k1=3,k2=3,k3=1,k4=1,lr=0.0566_2024-08-19_21-55-13/checkpoint_000000)\n"
     ]
    },
    {
     "name": "stdout",
     "output_type": "stream",
     "text": [
      "\u001b[36m(tune_with_parameters pid=2456423)\u001b[0m loss: 1.100\u001b[32m [repeated 9x across cluster]\u001b[0m\n",
      "\u001b[36m(tune_with_parameters pid=2428921)\u001b[0m /tmp/tmpn4rmd25r/checkpoint.pt\n"
     ]
    },
    {
     "name": "stderr",
     "output_type": "stream",
     "text": [
      "Val Epoch:1: 0it [00:00, ?it/s]\u001b[32m [repeated 2x across cluster]\u001b[0m\n",
      "Val Epoch:10: 47it [00:03, 13.03it/s]\u001b[32m [repeated 24x across cluster]\u001b[0m\n",
      "\u001b[36m(tune_with_parameters pid=2428921)\u001b[0m Checkpoint successfully created at: Checkpoint(filesystem=local, path=/scratch/users/k23058970/Model training/results/Double Peak LRCN Null/tune_with_parameters_2024-08-19_21-54-39/tune_with_parameters_54ae7_00005_5_dp=0.2500,k1=3,k2=1,k3=1,k4=1,lr=0.0262_2024-08-19_21-55-13/checkpoint_000009)\n"
     ]
    },
    {
     "name": "stdout",
     "output_type": "stream",
     "text": [
      "\u001b[36m(tune_with_parameters pid=2428921)\u001b[0m loss: 0.001\u001b[32m [repeated 15x across cluster]\u001b[0m\n",
      "\u001b[36m(tune_with_parameters pid=2456423)\u001b[0m /tmp/tmprnz0ia47/checkpoint.pt\n"
     ]
    },
    {
     "name": "stderr",
     "output_type": "stream",
     "text": [
      "\u001b[36m(tune_with_parameters pid=2456423)\u001b[0m /scratch/users/k23058970/Model training/training_insilico_lrcn.py:63: RuntimeWarning: invalid value encountered in divide\n",
      "\u001b[36m(tune_with_parameters pid=2456423)\u001b[0m   self.precision = self.tp/(self.tp + self.fp)\n"
     ]
    },
    {
     "name": "stdout",
     "output_type": "stream",
     "text": [
      "\u001b[36m(tune_with_parameters pid=2456423)\u001b[0m loss: 1.099\u001b[32m [repeated 20x across cluster]\u001b[0m\n"
     ]
    },
    {
     "name": "stderr",
     "output_type": "stream",
     "text": [
      "Val Epoch:2: 0it [00:00, ?it/s]2456423)\u001b[0m \n",
      "Val Epoch:1: 47it [00:02, 19.79it/s]\u001b[32m [repeated 12x across cluster]\u001b[0m\n",
      "\u001b[36m(tune_with_parameters pid=2456423)\u001b[0m Checkpoint successfully created at: Checkpoint(filesystem=local, path=/scratch/users/k23058970/Model training/results/Double Peak LRCN Null/tune_with_parameters_2024-08-19_21-54-39/tune_with_parameters_54ae7_00006_6_dp=0.5000,k1=3,k2=3,k3=1,k4=1,lr=0.0566_2024-08-19_21-55-13/checkpoint_000001)\n"
     ]
    },
    {
     "name": "stdout",
     "output_type": "stream",
     "text": [
      "\u001b[36m(tune_with_parameters pid=2456423)\u001b[0m /tmp/tmpwjxzxjsj/checkpoint.pt\n"
     ]
    },
    {
     "name": "stderr",
     "output_type": "stream",
     "text": [
      "\u001b[36m(tune_with_parameters pid=2456423)\u001b[0m Checkpoint successfully created at: Checkpoint(filesystem=local, path=/scratch/users/k23058970/Model training/results/Double Peak LRCN Null/tune_with_parameters_2024-08-19_21-54-39/tune_with_parameters_54ae7_00006_6_dp=0.5000,k1=3,k2=3,k3=1,k4=1,lr=0.0566_2024-08-19_21-55-13/checkpoint_000002)\n"
     ]
    },
    {
     "name": "stdout",
     "output_type": "stream",
     "text": [
      "\u001b[36m(tune_with_parameters pid=2456423)\u001b[0m loss: 1.098\u001b[32m [repeated 11x across cluster]\u001b[0m\n"
     ]
    },
    {
     "name": "stderr",
     "output_type": "stream",
     "text": [
      "Val Epoch:3: 0it [00:00, ?it/s]2456423)\u001b[0m \n",
      "Val Epoch:2: 47it [00:01, 26.89it/s]\u001b[32m [repeated 10x across cluster]\u001b[0m\n"
     ]
    },
    {
     "name": "stdout",
     "output_type": "stream",
     "text": [
      "\u001b[36m(tune_with_parameters pid=2456423)\u001b[0m loss: 1.102\u001b[32m [repeated 14x across cluster]\u001b[0m\n",
      "\u001b[36m(tune_with_parameters pid=2428921)\u001b[0m /tmp/tmpnmyjdzvg/checkpoint.pt\n"
     ]
    },
    {
     "name": "stderr",
     "output_type": "stream",
     "text": [
      "Val Epoch:4: 0it [00:00, ?it/s]\u001b[32m [repeated 2x across cluster]\u001b[0m\n",
      "Val Epoch:11: 47it [00:03, 14.20it/s]\u001b[32m [repeated 27x across cluster]\u001b[0m\n",
      "\u001b[36m(tune_with_parameters pid=2428921)\u001b[0m Checkpoint successfully created at: Checkpoint(filesystem=local, path=/scratch/users/k23058970/Model training/results/Double Peak LRCN Null/tune_with_parameters_2024-08-19_21-54-39/tune_with_parameters_54ae7_00005_5_dp=0.2500,k1=3,k2=1,k3=1,k4=1,lr=0.0262_2024-08-19_21-55-13/checkpoint_000010)\n",
      "Val Epoch:4: 47it [00:01, 24.50it/s]23)\u001b[0m \n"
     ]
    },
    {
     "name": "stdout",
     "output_type": "stream",
     "text": [
      "\u001b[36m(tune_with_parameters pid=2428921)\u001b[0m loss: 0.004\u001b[32m [repeated 15x across cluster]\u001b[0m\n",
      "\u001b[36m(tune_with_parameters pid=2456423)\u001b[0m /tmp/tmppq446x9f/checkpoint.pt\n"
     ]
    },
    {
     "name": "stderr",
     "output_type": "stream",
     "text": [
      "Val Epoch:5: 0it [00:00, ?it/s]2456423)\u001b[0m \n",
      "Val Epoch:4: 42it [00:01, 27.97it/s]\u001b[32m [repeated 9x across cluster]\u001b[0m\n",
      "\u001b[36m(tune_with_parameters pid=2456423)\u001b[0m Checkpoint successfully created at: Checkpoint(filesystem=local, path=/scratch/users/k23058970/Model training/results/Double Peak LRCN Null/tune_with_parameters_2024-08-19_21-54-39/tune_with_parameters_54ae7_00006_6_dp=0.5000,k1=3,k2=3,k3=1,k4=1,lr=0.0566_2024-08-19_21-55-13/checkpoint_000003)\n"
     ]
    },
    {
     "name": "stdout",
     "output_type": "stream",
     "text": [
      "\u001b[36m(tune_with_parameters pid=2428921)\u001b[0m loss: 0.004\u001b[32m [repeated 21x across cluster]\u001b[0m\n",
      "\u001b[36m(tune_with_parameters pid=2456423)\u001b[0m loss: 1.090\u001b[32m [repeated 19x across cluster]\u001b[0m\n"
     ]
    },
    {
     "name": "stderr",
     "output_type": "stream",
     "text": [
      "Val Epoch:6: 0it [00:00, ?it/s]2456423)\u001b[0m \n",
      "Val Epoch:5: 47it [00:01, 23.59it/s]\u001b[32m [repeated 10x across cluster]\u001b[0m\n"
     ]
    },
    {
     "name": "stdout",
     "output_type": "stream",
     "text": [
      "\u001b[36m(tune_with_parameters pid=2456423)\u001b[0m /tmp/tmpnhtuhjua/checkpoint.pt\n"
     ]
    },
    {
     "name": "stderr",
     "output_type": "stream",
     "text": [
      "\u001b[36m(tune_with_parameters pid=2456423)\u001b[0m Checkpoint successfully created at: Checkpoint(filesystem=local, path=/scratch/users/k23058970/Model training/results/Double Peak LRCN Null/tune_with_parameters_2024-08-19_21-54-39/tune_with_parameters_54ae7_00006_6_dp=0.5000,k1=3,k2=3,k3=1,k4=1,lr=0.0566_2024-08-19_21-55-13/checkpoint_000004)\n"
     ]
    },
    {
     "name": "stdout",
     "output_type": "stream",
     "text": [
      "\u001b[36m(tune_with_parameters pid=2456423)\u001b[0m loss: 1.082\u001b[32m [repeated 9x across cluster]\u001b[0m\n"
     ]
    },
    {
     "name": "stderr",
     "output_type": "stream",
     "text": [
      "Val Epoch:12: 0it [00:00, ?it/s]428921)\u001b[0m \n",
      "Val Epoch:12: 35it [00:01, 23.85it/s]\u001b[32m [repeated 22x across cluster]\u001b[0m\n",
      "Val Epoch:7: 0it [00:00, ?it/s]2456423)\u001b[0m \n"
     ]
    },
    {
     "name": "stdout",
     "output_type": "stream",
     "text": [
      "\u001b[36m(tune_with_parameters pid=2428921)\u001b[0m loss: 0.003\u001b[32m [repeated 13x across cluster]\u001b[0m\n"
     ]
    },
    {
     "name": "stderr",
     "output_type": "stream",
     "text": [
      "Val Epoch:7: 47it [00:01, 32.82it/s]23)\u001b[0m \n"
     ]
    },
    {
     "name": "stdout",
     "output_type": "stream",
     "text": [
      "\u001b[36m(tune_with_parameters pid=2456423)\u001b[0m /tmp/tmpyp1htlud/checkpoint.pt\n"
     ]
    },
    {
     "name": "stderr",
     "output_type": "stream",
     "text": [
      "\u001b[36m(tune_with_parameters pid=2456423)\u001b[0m Checkpoint successfully created at: Checkpoint(filesystem=local, path=/scratch/users/k23058970/Model training/results/Double Peak LRCN Null/tune_with_parameters_2024-08-19_21-54-39/tune_with_parameters_54ae7_00006_6_dp=0.5000,k1=3,k2=3,k3=1,k4=1,lr=0.0566_2024-08-19_21-55-13/checkpoint_000005)\n",
      "Val Epoch:7: 40it [00:01, 36.83it/s]\u001b[32m [repeated 13x across cluster]\u001b[0m\n"
     ]
    },
    {
     "name": "stdout",
     "output_type": "stream",
     "text": [
      "\u001b[36m(tune_with_parameters pid=2456423)\u001b[0m loss: 0.746\u001b[32m [repeated 18x across cluster]\u001b[0m\n"
     ]
    },
    {
     "name": "stderr",
     "output_type": "stream",
     "text": [
      "Val Epoch:8: 0it [00:00, ?it/s]2456423)\u001b[0m \n",
      "Val Epoch:8: 2it [00:00, 13.80it/s]423)\u001b[0m \n",
      "Val Epoch:8: 8it [00:00, 35.61it/s]423)\u001b[0m \n",
      "Val Epoch:8: 12it [00:00, 36.66it/s]23)\u001b[0m \n",
      "Val Epoch:8: 18it [00:00, 44.55it/s]23)\u001b[0m \n",
      "Val Epoch:8: 23it [00:00, 43.72it/s]23)\u001b[0m \n",
      "Val Epoch:8: 28it [00:00, 41.51it/s]23)\u001b[0m \n",
      "Val Epoch:8: 33it [00:00, 42.24it/s]23)\u001b[0m \n",
      "Val Epoch:8: 38it [00:01, 36.02it/s]23)\u001b[0m \n",
      "Val Epoch:8: 42it [00:01, 35.04it/s]23)\u001b[0m \n",
      "Val Epoch:8: 47it [00:01, 36.84it/s]23)\u001b[0m \n",
      "\u001b[36m(tune_with_parameters pid=2456423)\u001b[0m Checkpoint successfully created at: Checkpoint(filesystem=local, path=/scratch/users/k23058970/Model training/results/Double Peak LRCN Null/tune_with_parameters_2024-08-19_21-54-39/tune_with_parameters_54ae7_00006_6_dp=0.5000,k1=3,k2=3,k3=1,k4=1,lr=0.0566_2024-08-19_21-55-13/checkpoint_000006)\n"
     ]
    },
    {
     "name": "stdout",
     "output_type": "stream",
     "text": [
      "\u001b[36m(tune_with_parameters pid=2456423)\u001b[0m /tmp/tmpettysqt2/checkpoint.pt\n",
      "\u001b[36m(tune_with_parameters pid=2456423)\u001b[0m loss: 0.438\u001b[32m [repeated 13x across cluster]\u001b[0m\n"
     ]
    },
    {
     "name": "stderr",
     "output_type": "stream",
     "text": [
      "Val Epoch:13: 0it [00:00, ?it/s]428921)\u001b[0m \n",
      "Val Epoch:13: 1it [00:00,  2.97it/s]21)\u001b[0m \n",
      "Val Epoch:13: 4it [00:00, 10.14it/s]21)\u001b[0m \n",
      "Val Epoch:13: 6it [00:00, 11.72it/s]21)\u001b[0m \n",
      "Val Epoch:13: 8it [00:00, 12.06it/s]21)\u001b[0m \n",
      "Val Epoch:13: 10it [00:00, 13.65it/s]1)\u001b[0m \n",
      "Val Epoch:13: 13it [00:00, 16.79it/s]1)\u001b[0m \n",
      "Val Epoch:13: 15it [00:01, 17.29it/s]1)\u001b[0m \n",
      "Val Epoch:13: 18it [00:01, 19.52it/s]1)\u001b[0m \n",
      "Val Epoch:13: 21it [00:01, 21.55it/s]1)\u001b[0m \n",
      "Val Epoch:13: 24it [00:01, 23.42it/s]1)\u001b[0m \n",
      "Val Epoch:13: 27it [00:01, 25.21it/s]1)\u001b[0m \n",
      "Val Epoch:13: 30it [00:01, 25.26it/s]1)\u001b[0m \n",
      "Val Epoch:13: 33it [00:02,  8.98it/s]1)\u001b[0m \n"
     ]
    },
    {
     "name": "stdout",
     "output_type": "stream",
     "text": [
      "\u001b[36m(tune_with_parameters pid=2456423)\u001b[0m /tmp/tmp9lwqgesk/checkpoint.pt\n",
      "\u001b[36m(tune_with_parameters pid=2456423)\u001b[0m loss: 0.362\u001b[32m [repeated 11x across cluster]\u001b[0m\n"
     ]
    },
    {
     "name": "stderr",
     "output_type": "stream",
     "text": [
      "\u001b[36m(tune_with_parameters pid=2456423)\u001b[0m Checkpoint successfully created at: Checkpoint(filesystem=local, path=/scratch/users/k23058970/Model training/results/Double Peak LRCN Null/tune_with_parameters_2024-08-19_21-54-39/tune_with_parameters_54ae7_00006_6_dp=0.5000,k1=3,k2=3,k3=1,k4=1,lr=0.0566_2024-08-19_21-55-13/checkpoint_000007)\n"
     ]
    },
    {
     "name": "stdout",
     "output_type": "stream",
     "text": [
      "\u001b[36m(tune_with_parameters pid=2428921)\u001b[0m /tmp/tmpexpe0upc/checkpoint.pt\n"
     ]
    },
    {
     "name": "stderr",
     "output_type": "stream",
     "text": [
      "Val Epoch:9: 0it [00:00, ?it/s]2456423)\u001b[0m \n",
      "Val Epoch:9: 47it [00:01, 34.06it/s]\u001b[32m [repeated 14x across cluster]\u001b[0m\n"
     ]
    },
    {
     "name": "stdout",
     "output_type": "stream",
     "text": [
      "\u001b[36m(tune_with_parameters pid=2428921)\u001b[0m loss: 0.001\u001b[32m [repeated 14x across cluster]\u001b[0m\n"
     ]
    },
    {
     "name": "stderr",
     "output_type": "stream",
     "text": [
      "Val Epoch:10: 0it [00:00, ?it/s]456423)\u001b[0m \n",
      "\u001b[36m(tune_with_parameters pid=2428921)\u001b[0m Checkpoint successfully created at: Checkpoint(filesystem=local, path=/scratch/users/k23058970/Model training/results/Double Peak LRCN Null/tune_with_parameters_2024-08-19_21-54-39/tune_with_parameters_54ae7_00005_5_dp=0.2500,k1=3,k2=1,k3=1,k4=1,lr=0.0262_2024-08-19_21-55-13/checkpoint_000011)\n"
     ]
    },
    {
     "name": "stdout",
     "output_type": "stream",
     "text": [
      "\u001b[36m(tune_with_parameters pid=2456423)\u001b[0m /tmp/tmpf71yqtd2/checkpoint.pt\n"
     ]
    },
    {
     "name": "stderr",
     "output_type": "stream",
     "text": [
      "\u001b[36m(tune_with_parameters pid=2456423)\u001b[0m Checkpoint successfully created at: Checkpoint(filesystem=local, path=/scratch/users/k23058970/Model training/results/Double Peak LRCN Null/tune_with_parameters_2024-08-19_21-54-39/tune_with_parameters_54ae7_00006_6_dp=0.5000,k1=3,k2=3,k3=1,k4=1,lr=0.0566_2024-08-19_21-55-13/checkpoint_000008)\n"
     ]
    },
    {
     "name": "stdout",
     "output_type": "stream",
     "text": [
      "\u001b[36m(tune_with_parameters pid=2456423)\u001b[0m loss: 0.212\u001b[32m [repeated 12x across cluster]\u001b[0m\n"
     ]
    },
    {
     "name": "stderr",
     "output_type": "stream",
     "text": [
      "Val Epoch:11: 0it [00:00, ?it/s]456423)\u001b[0m \n",
      "Val Epoch:10: 47it [00:01, 39.50it/s]\u001b[32m [repeated 10x across cluster]\u001b[0m\n"
     ]
    },
    {
     "name": "stdout",
     "output_type": "stream",
     "text": [
      "\u001b[36m(tune_with_parameters pid=2456423)\u001b[0m /tmp/tmpazytbr3r/checkpoint.pt\n"
     ]
    },
    {
     "name": "stderr",
     "output_type": "stream",
     "text": [
      "\u001b[36m(tune_with_parameters pid=2456423)\u001b[0m Checkpoint successfully created at: Checkpoint(filesystem=local, path=/scratch/users/k23058970/Model training/results/Double Peak LRCN Null/tune_with_parameters_2024-08-19_21-54-39/tune_with_parameters_54ae7_00006_6_dp=0.5000,k1=3,k2=3,k3=1,k4=1,lr=0.0566_2024-08-19_21-55-13/checkpoint_000009)\n"
     ]
    },
    {
     "name": "stdout",
     "output_type": "stream",
     "text": [
      "\u001b[36m(tune_with_parameters pid=2456423)\u001b[0m loss: 0.319\u001b[32m [repeated 15x across cluster]\u001b[0m\n"
     ]
    },
    {
     "name": "stderr",
     "output_type": "stream",
     "text": [
      "Val Epoch:12: 0it [00:00, ?it/s]456423)\u001b[0m \n",
      "Val Epoch:11: 47it [00:01, 28.71it/s]\u001b[32m [repeated 10x across cluster]\u001b[0m\n",
      "Val Epoch:14: 8it [00:01, 11.31it/s]21)\u001b[0m \n"
     ]
    },
    {
     "name": "stdout",
     "output_type": "stream",
     "text": [
      "\u001b[36m(tune_with_parameters pid=2456423)\u001b[0m /tmp/tmpawhfw6jb/checkpoint.pt\n",
      "\u001b[36m(tune_with_parameters pid=2428921)\u001b[0m loss: 0.003\u001b[32m [repeated 19x across cluster]\u001b[0m\n"
     ]
    },
    {
     "name": "stderr",
     "output_type": "stream",
     "text": [
      "\u001b[36m(tune_with_parameters pid=2456423)\u001b[0m Checkpoint successfully created at: Checkpoint(filesystem=local, path=/scratch/users/k23058970/Model training/results/Double Peak LRCN Null/tune_with_parameters_2024-08-19_21-54-39/tune_with_parameters_54ae7_00006_6_dp=0.5000,k1=3,k2=3,k3=1,k4=1,lr=0.0566_2024-08-19_21-55-13/checkpoint_000010)\n"
     ]
    },
    {
     "name": "stdout",
     "output_type": "stream",
     "text": [
      "\u001b[36m(tune_with_parameters pid=2456423)\u001b[0m loss: 0.137\u001b[32m [repeated 18x across cluster]\u001b[0m\n"
     ]
    },
    {
     "name": "stderr",
     "output_type": "stream",
     "text": [
      "Val Epoch:13: 0it [00:00, ?it/s]\u001b[32m [repeated 2x across cluster]\u001b[0m\n",
      "Val Epoch:14: 47it [00:03, 14.19it/s]\u001b[32m [repeated 25x across cluster]\u001b[0m\n"
     ]
    },
    {
     "name": "stdout",
     "output_type": "stream",
     "text": [
      "\u001b[36m(tune_with_parameters pid=2456423)\u001b[0m /tmp/tmp35ibbb9b/checkpoint.pt\n"
     ]
    },
    {
     "name": "stderr",
     "output_type": "stream",
     "text": [
      "\u001b[36m(tune_with_parameters pid=2456423)\u001b[0m Checkpoint successfully created at: Checkpoint(filesystem=local, path=/scratch/users/k23058970/Model training/results/Double Peak LRCN Null/tune_with_parameters_2024-08-19_21-54-39/tune_with_parameters_54ae7_00006_6_dp=0.5000,k1=3,k2=3,k3=1,k4=1,lr=0.0566_2024-08-19_21-55-13/checkpoint_000011)\n"
     ]
    },
    {
     "name": "stdout",
     "output_type": "stream",
     "text": [
      "\u001b[36m(tune_with_parameters pid=2456423)\u001b[0m loss: 0.116\u001b[32m [repeated 12x across cluster]\u001b[0m\n"
     ]
    },
    {
     "name": "stderr",
     "output_type": "stream",
     "text": [
      "Val Epoch:14: 0it [00:00, ?it/s]456423)\u001b[0m \n",
      "Val Epoch:13: 47it [00:01, 27.46it/s]\u001b[32m [repeated 11x across cluster]\u001b[0m\n"
     ]
    },
    {
     "name": "stdout",
     "output_type": "stream",
     "text": [
      "\u001b[36m(tune_with_parameters pid=2456423)\u001b[0m /tmp/tmp19un_n1k/checkpoint.pt\n",
      "\u001b[36m(tune_with_parameters pid=2428921)\u001b[0m loss: 0.002\u001b[32m [repeated 14x across cluster]\u001b[0m\n"
     ]
    },
    {
     "name": "stderr",
     "output_type": "stream",
     "text": [
      "\u001b[36m(tune_with_parameters pid=2456423)\u001b[0m Checkpoint successfully created at: Checkpoint(filesystem=local, path=/scratch/users/k23058970/Model training/results/Double Peak LRCN Null/tune_with_parameters_2024-08-19_21-54-39/tune_with_parameters_54ae7_00006_6_dp=0.5000,k1=3,k2=3,k3=1,k4=1,lr=0.0566_2024-08-19_21-55-13/checkpoint_000012)\n",
      "Val Epoch:15: 0it [00:00, ?it/s]428921)\u001b[0m \n",
      "Val Epoch:15: 40it [00:02, 20.62it/s]\u001b[32m [repeated 27x across cluster]\u001b[0m\n",
      "Val Epoch:15: 0it [00:00, ?it/s]456423)\u001b[0m \n"
     ]
    },
    {
     "name": "stdout",
     "output_type": "stream",
     "text": [
      "\u001b[36m(tune_with_parameters pid=2428921)\u001b[0m /tmp/tmpst8x7es8/checkpoint.pt\n",
      "\u001b[36m(tune_with_parameters pid=2456423)\u001b[0m loss: 0.115\u001b[32m [repeated 16x across cluster]\u001b[0m\n",
      "\u001b[36m(tune_with_parameters pid=2456423)\u001b[0m /tmp/tmpcohjil0f/checkpoint.pt\n"
     ]
    },
    {
     "name": "stderr",
     "output_type": "stream",
     "text": [
      "\u001b[36m(tune_with_parameters pid=2456423)\u001b[0m Checkpoint successfully created at: Checkpoint(filesystem=local, path=/scratch/users/k23058970/Model training/results/Double Peak LRCN Null/tune_with_parameters_2024-08-19_21-54-39/tune_with_parameters_54ae7_00006_6_dp=0.5000,k1=3,k2=3,k3=1,k4=1,lr=0.0566_2024-08-19_21-55-13/checkpoint_000013)\n"
     ]
    },
    {
     "name": "stdout",
     "output_type": "stream",
     "text": [
      "\u001b[36m(tune_with_parameters pid=2428921)\u001b[0m loss: 0.002\u001b[32m [repeated 6x across cluster]\u001b[0m\n"
     ]
    },
    {
     "name": "stderr",
     "output_type": "stream",
     "text": [
      "\u001b[36m(tune_with_parameters pid=2471028)\u001b[0m /users/k23058970/miniforge3/envs/Training/lib/python3.10/site-packages/torch/nn/modules/lazy.py:181: UserWarning: Lazy modules are a new feature under heavy development so changes to the API or functionality can happen at any moment.\n",
      "\u001b[36m(tune_with_parameters pid=2471028)\u001b[0m   warnings.warn('Lazy modules are a new feature under heavy development '\n",
      "Val Epoch:15: 47it [00:01, 39.81it/s]\u001b[32m [repeated 12x across cluster]\u001b[0m\n",
      "\u001b[36m(tune_with_parameters pid=2428921)\u001b[0m Checkpoint successfully created at: Checkpoint(filesystem=local, path=/scratch/users/k23058970/Model training/results/Double Peak LRCN Null/tune_with_parameters_2024-08-19_21-54-39/tune_with_parameters_54ae7_00005_5_dp=0.2500,k1=3,k2=1,k3=1,k4=1,lr=0.0262_2024-08-19_21-55-13/checkpoint_000012)\n"
     ]
    },
    {
     "name": "stdout",
     "output_type": "stream",
     "text": [
      "\u001b[36m(tune_with_parameters pid=2428921)\u001b[0m loss: 0.002\u001b[32m [repeated 6x across cluster]\u001b[0m\n"
     ]
    },
    {
     "name": "stderr",
     "output_type": "stream",
     "text": [
      "Val Epoch:16: 0it [00:00, ?it/s]428921)\u001b[0m \n",
      "Val Epoch:16: 31it [00:01, 20.53it/s]\u001b[32m [repeated 11x across cluster]\u001b[0m\n"
     ]
    },
    {
     "name": "stdout",
     "output_type": "stream",
     "text": [
      "\u001b[36m(tune_with_parameters pid=2471028)\u001b[0m loss: 1.103\u001b[32m [repeated 8x across cluster]\u001b[0m\n"
     ]
    },
    {
     "name": "stderr",
     "output_type": "stream",
     "text": [
      "Val Epoch:0: 0it [00:00, ?it/s]2471028)\u001b[0m \n",
      "Val Epoch:0: 7it [00:00, 17.25it/s]\u001b[32m [repeated 7x across cluster]\u001b[0m\n"
     ]
    },
    {
     "name": "stdout",
     "output_type": "stream",
     "text": [
      "\u001b[36m(tune_with_parameters pid=2428921)\u001b[0m loss: 0.002\u001b[32m [repeated 15x across cluster]\u001b[0m\n",
      "\u001b[36m(tune_with_parameters pid=2471028)\u001b[0m /tmp/tmph97hry4i/checkpoint.pt\n"
     ]
    },
    {
     "name": "stderr",
     "output_type": "stream",
     "text": [
      "\u001b[36m(tune_with_parameters pid=2471028)\u001b[0m Checkpoint successfully created at: Checkpoint(filesystem=local, path=/scratch/users/k23058970/Model training/results/Double Peak LRCN Null/tune_with_parameters_2024-08-19_21-54-39/tune_with_parameters_54ae7_00007_7_dp=0.5000,k1=3,k2=5,k3=3,k4=5,lr=0.0050_2024-08-19_21-55-13/checkpoint_000000)\n"
     ]
    },
    {
     "name": "stdout",
     "output_type": "stream",
     "text": [
      "\u001b[36m(tune_with_parameters pid=2471028)\u001b[0m loss: 1.099\u001b[32m [repeated 14x across cluster]\u001b[0m\n"
     ]
    },
    {
     "name": "stderr",
     "output_type": "stream",
     "text": [
      "Val Epoch:1: 0it [00:00, ?it/s]2471028)\u001b[0m \n",
      "Val Epoch:0: 47it [00:01, 30.80it/s]\u001b[32m [repeated 9x across cluster]\u001b[0m\n"
     ]
    },
    {
     "name": "stdout",
     "output_type": "stream",
     "text": [
      "\u001b[36m(tune_with_parameters pid=2471028)\u001b[0m /tmp/tmprmz3ykwx/checkpoint.pt\n",
      "\u001b[36m(tune_with_parameters pid=2428921)\u001b[0m loss: 0.002\u001b[32m [repeated 11x across cluster]\u001b[0m\n"
     ]
    },
    {
     "name": "stderr",
     "output_type": "stream",
     "text": [
      "\u001b[36m(tune_with_parameters pid=2471028)\u001b[0m Checkpoint successfully created at: Checkpoint(filesystem=local, path=/scratch/users/k23058970/Model training/results/Double Peak LRCN Null/tune_with_parameters_2024-08-19_21-54-39/tune_with_parameters_54ae7_00007_7_dp=0.5000,k1=3,k2=5,k3=3,k4=5,lr=0.0050_2024-08-19_21-55-13/checkpoint_000001)\n",
      "Val Epoch:17: 0it [00:00, ?it/s]428921)\u001b[0m \n",
      "Val Epoch:17: 39it [00:02, 20.82it/s]\u001b[32m [repeated 23x across cluster]\u001b[0m\n"
     ]
    },
    {
     "name": "stdout",
     "output_type": "stream",
     "text": [
      "\u001b[36m(tune_with_parameters pid=2471028)\u001b[0m loss: 1.099\u001b[32m [repeated 13x across cluster]\u001b[0m\n"
     ]
    },
    {
     "name": "stderr",
     "output_type": "stream",
     "text": [
      "Val Epoch:2: 0it [00:00, ?it/s]2471028)\u001b[0m \n",
      "Val Epoch:2: 4it [00:00, 14.37it/s]\u001b[32m [repeated 5x across cluster]\u001b[0m\n"
     ]
    },
    {
     "name": "stdout",
     "output_type": "stream",
     "text": [
      "\u001b[36m(tune_with_parameters pid=2471028)\u001b[0m /tmp/tmpuhc0uixi/checkpoint.pt\n"
     ]
    },
    {
     "name": "stderr",
     "output_type": "stream",
     "text": [
      "\u001b[36m(tune_with_parameters pid=2471028)\u001b[0m Checkpoint successfully created at: Checkpoint(filesystem=local, path=/scratch/users/k23058970/Model training/results/Double Peak LRCN Null/tune_with_parameters_2024-08-19_21-54-39/tune_with_parameters_54ae7_00007_7_dp=0.5000,k1=3,k2=5,k3=3,k4=5,lr=0.0050_2024-08-19_21-55-13/checkpoint_000002)\n"
     ]
    },
    {
     "name": "stdout",
     "output_type": "stream",
     "text": [
      "\u001b[36m(tune_with_parameters pid=2471028)\u001b[0m loss: 1.097\u001b[32m [repeated 10x across cluster]\u001b[0m\n"
     ]
    },
    {
     "name": "stderr",
     "output_type": "stream",
     "text": [
      "Val Epoch:3: 0it [00:00, ?it/s]2471028)\u001b[0m \n",
      "Val Epoch:2: 47it [00:01, 36.71it/s]\u001b[32m [repeated 9x across cluster]\u001b[0m\n"
     ]
    },
    {
     "name": "stdout",
     "output_type": "stream",
     "text": [
      "\u001b[36m(tune_with_parameters pid=2428921)\u001b[0m loss: 0.001\u001b[32m [repeated 20x across cluster]\u001b[0m\n"
     ]
    },
    {
     "name": "stderr",
     "output_type": "stream",
     "text": [
      "Val Epoch:18: 0it [00:00, ?it/s]428921)\u001b[0m \n",
      "Val Epoch:18: 39it [00:02, 25.81it/s]\u001b[32m [repeated 25x across cluster]\u001b[0m\n"
     ]
    },
    {
     "name": "stdout",
     "output_type": "stream",
     "text": [
      "\u001b[36m(tune_with_parameters pid=2471028)\u001b[0m loss: 1.098\u001b[32m [repeated 9x across cluster]\u001b[0m\n"
     ]
    },
    {
     "name": "stderr",
     "output_type": "stream",
     "text": [
      "Val Epoch:4: 0it [00:00, ?it/s]2471028)\u001b[0m \n"
     ]
    },
    {
     "name": "stdout",
     "output_type": "stream",
     "text": [
      "\u001b[36m(tune_with_parameters pid=2428921)\u001b[0m /tmp/tmps78yj9zn/checkpoint.pt\n",
      "\u001b[36m(tune_with_parameters pid=2471028)\u001b[0m loss: 1.091\u001b[32m [repeated 9x across cluster]\u001b[0m\n"
     ]
    },
    {
     "name": "stderr",
     "output_type": "stream",
     "text": [
      "\u001b[36m(tune_with_parameters pid=2428921)\u001b[0m Checkpoint successfully created at: Checkpoint(filesystem=local, path=/scratch/users/k23058970/Model training/results/Double Peak LRCN Null/tune_with_parameters_2024-08-19_21-54-39/tune_with_parameters_54ae7_00005_5_dp=0.2500,k1=3,k2=1,k3=1,k4=1,lr=0.0262_2024-08-19_21-55-13/checkpoint_000013)\n",
      "Val Epoch:4: 47it [00:01, 40.77it/s]\u001b[32m [repeated 13x across cluster]\u001b[0m\n",
      "Val Epoch:5: 0it [00:00, ?it/s]2471028)\u001b[0m \n",
      "Val Epoch:5: 1it [00:00,  1.74it/s]028)\u001b[0m \n",
      "Val Epoch:5: 8it [00:00, 14.49it/s]028)\u001b[0m \n",
      "Val Epoch:5: 13it [00:00, 21.37it/s]28)\u001b[0m \n",
      "Val Epoch:5: 18it [00:00, 26.50it/s]28)\u001b[0m \n"
     ]
    },
    {
     "name": "stdout",
     "output_type": "stream",
     "text": [
      "\u001b[36m(tune_with_parameters pid=2428921)\u001b[0m loss: 0.001\u001b[32m [repeated 20x across cluster]\u001b[0m\n"
     ]
    },
    {
     "name": "stderr",
     "output_type": "stream",
     "text": [
      "Val Epoch:5: 22it [00:01, 24.41it/s]28)\u001b[0m \n",
      "Val Epoch:5: 26it [00:01, 27.68it/s]28)\u001b[0m \n",
      "Val Epoch:5: 31it [00:01, 32.87it/s]28)\u001b[0m \n",
      "Val Epoch:5: 36it [00:01, 35.93it/s]28)\u001b[0m \n",
      "Val Epoch:5: 41it [00:01, 37.17it/s]28)\u001b[0m \n",
      "Val Epoch:5: 46it [00:01, 39.96it/s]28)\u001b[0m \n",
      "Val Epoch:5: 47it [00:01, 26.64it/s]28)\u001b[0m \n"
     ]
    },
    {
     "name": "stdout",
     "output_type": "stream",
     "text": [
      "\u001b[36m(tune_with_parameters pid=2471028)\u001b[0m loss: 1.099\u001b[32m [repeated 16x across cluster]\u001b[0m\n"
     ]
    },
    {
     "name": "stderr",
     "output_type": "stream",
     "text": [
      "Val Epoch:6: 0it [00:00, ?it/s]2471028)\u001b[0m \n",
      "Val Epoch:6: 1it [00:00,  1.17it/s]028)\u001b[0m \n",
      "Val Epoch:6: 5it [00:00,  6.70it/s]028)\u001b[0m \n",
      "Val Epoch:6: 10it [00:01, 13.64it/s]28)\u001b[0m \n",
      "Val Epoch:6: 15it [00:01, 20.33it/s]28)\u001b[0m \n",
      "Val Epoch:6: 20it [00:01, 25.73it/s]28)\u001b[0m \n",
      "Val Epoch:6: 24it [00:01, 28.20it/s]28)\u001b[0m \n",
      "Val Epoch:6: 28it [00:01, 30.81it/s]28)\u001b[0m \n",
      "Val Epoch:6: 33it [00:01, 34.32it/s]28)\u001b[0m \n",
      "Val Epoch:6: 39it [00:01, 40.52it/s]28)\u001b[0m \n",
      "Val Epoch:6: 44it [00:01, 39.17it/s]28)\u001b[0m \n",
      "Val Epoch:6: 47it [00:01, 23.78it/s]28)\u001b[0m \n",
      "Val Epoch:19: 0it [00:00, ?it/s]428921)\u001b[0m \n"
     ]
    },
    {
     "name": "stdout",
     "output_type": "stream",
     "text": [
      "\u001b[36m(tune_with_parameters pid=2471028)\u001b[0m loss: 1.099\u001b[32m [repeated 12x across cluster]\u001b[0m\n"
     ]
    },
    {
     "name": "stderr",
     "output_type": "stream",
     "text": [
      "Val Epoch:19: 30it [00:01, 23.77it/s]\u001b[32m [repeated 12x across cluster]\u001b[0m\n",
      "Val Epoch:7: 0it [00:00, ?it/s]2471028)\u001b[0m \n"
     ]
    },
    {
     "name": "stdout",
     "output_type": "stream",
     "text": [
      "\u001b[36m(tune_with_parameters pid=2428921)\u001b[0m loss: 0.001\u001b[32m [repeated 14x across cluster]\u001b[0m\n",
      "\u001b[36m(tune_with_parameters pid=2471028)\u001b[0m loss: 1.099\u001b[32m [repeated 16x across cluster]\u001b[0m\n"
     ]
    },
    {
     "name": "stderr",
     "output_type": "stream",
     "text": [
      "Val Epoch:8: 0it [00:00, ?it/s]2471028)\u001b[0m \n",
      "Val Epoch:7: 47it [00:02, 22.86it/s]\u001b[32m [repeated 19x across cluster]\u001b[0m\n"
     ]
    },
    {
     "name": "stdout",
     "output_type": "stream",
     "text": [
      "\u001b[36m(tune_with_parameters pid=2471028)\u001b[0m /tmp/tmpbpx91y40/checkpoint.pt\n"
     ]
    },
    {
     "name": "stderr",
     "output_type": "stream",
     "text": [
      "\u001b[36m(tune_with_parameters pid=2471028)\u001b[0m Checkpoint successfully created at: Checkpoint(filesystem=local, path=/scratch/users/k23058970/Model training/results/Double Peak LRCN Null/tune_with_parameters_2024-08-19_21-54-39/tune_with_parameters_54ae7_00007_7_dp=0.5000,k1=3,k2=5,k3=3,k4=5,lr=0.0050_2024-08-19_21-55-13/checkpoint_000003)\n"
     ]
    },
    {
     "name": "stdout",
     "output_type": "stream",
     "text": [
      "\u001b[36m(tune_with_parameters pid=2471028)\u001b[0m loss: 1.096\u001b[32m [repeated 10x across cluster]\u001b[0m\n"
     ]
    },
    {
     "name": "stderr",
     "output_type": "stream",
     "text": [
      "Val Epoch:20: 0it [00:00, ?it/s]428921)\u001b[0m \n",
      "Val Epoch:8: 47it [00:01, 25.17it/s]\u001b[32m [repeated 10x across cluster]\u001b[0m\n"
     ]
    },
    {
     "name": "stdout",
     "output_type": "stream",
     "text": [
      "\u001b[36m(tune_with_parameters pid=2471028)\u001b[0m loss: 1.098\u001b[32m [repeated 15x across cluster]\u001b[0m\n"
     ]
    },
    {
     "name": "stderr",
     "output_type": "stream",
     "text": [
      "Val Epoch:9: 0it [00:00, ?it/s]2471028)\u001b[0m \n",
      "Val Epoch:9: 13it [00:00, 37.69it/s]\u001b[32m [repeated 21x across cluster]\u001b[0m\n"
     ]
    },
    {
     "name": "stdout",
     "output_type": "stream",
     "text": [
      "\u001b[36m(tune_with_parameters pid=2471028)\u001b[0m /tmp/tmpeknp4emo/checkpoint.pt\n"
     ]
    },
    {
     "name": "stderr",
     "output_type": "stream",
     "text": [
      "\u001b[36m(tune_with_parameters pid=2471028)\u001b[0m Checkpoint successfully created at: Checkpoint(filesystem=local, path=/scratch/users/k23058970/Model training/results/Double Peak LRCN Null/tune_with_parameters_2024-08-19_21-54-39/tune_with_parameters_54ae7_00007_7_dp=0.5000,k1=3,k2=5,k3=3,k4=5,lr=0.0050_2024-08-19_21-55-13/checkpoint_000004)\n"
     ]
    },
    {
     "name": "stdout",
     "output_type": "stream",
     "text": [
      "\u001b[36m(tune_with_parameters pid=2428921)\u001b[0m loss: 0.001\u001b[32m [repeated 8x across cluster]\u001b[0m\n"
     ]
    },
    {
     "name": "stderr",
     "output_type": "stream",
     "text": [
      "Val Epoch:21: 0it [00:00, ?it/s]428921)\u001b[0m \n",
      "Val Epoch:9: 47it [00:01, 43.57it/s]\u001b[32m [repeated 7x across cluster]\u001b[0m\n"
     ]
    },
    {
     "name": "stdout",
     "output_type": "stream",
     "text": [
      "\u001b[36m(tune_with_parameters pid=2428921)\u001b[0m loss: 0.001\u001b[32m [repeated 9x across cluster]\u001b[0m\n"
     ]
    },
    {
     "name": "stderr",
     "output_type": "stream",
     "text": [
      "\u001b[36m(tune_with_parameters pid=2482410)\u001b[0m /users/k23058970/miniforge3/envs/Training/lib/python3.10/site-packages/torch/nn/modules/lazy.py:181: UserWarning: Lazy modules are a new feature under heavy development so changes to the API or functionality can happen at any moment.\n",
      "\u001b[36m(tune_with_parameters pid=2482410)\u001b[0m   warnings.warn('Lazy modules are a new feature under heavy development '\n",
      "Val Epoch:21: 47it [00:02, 15.98it/s]\u001b[32m [repeated 15x across cluster]\u001b[0m\n"
     ]
    },
    {
     "name": "stdout",
     "output_type": "stream",
     "text": [
      "\u001b[36m(tune_with_parameters pid=2482410)\u001b[0m loss: 1.101\u001b[32m [repeated 6x across cluster]\u001b[0m\n"
     ]
    },
    {
     "name": "stderr",
     "output_type": "stream",
     "text": [
      "Val Epoch:0: 0it [00:00, ?it/s]2482410)\u001b[0m \n",
      "Val Epoch:0: 1it [00:00,  2.23it/s]410)\u001b[0m \n",
      "Val Epoch:0: 5it [00:00, 11.05it/s]410)\u001b[0m \n",
      "Val Epoch:0: 8it [00:00, 15.55it/s]410)\u001b[0m \n",
      "Val Epoch:0: 13it [00:00, 22.49it/s]10)\u001b[0m \n",
      "Val Epoch:0: 16it [00:01, 18.54it/s]10)\u001b[0m \n",
      "Val Epoch:0: 21it [00:01, 24.66it/s]10)\u001b[0m \n",
      "Val Epoch:0: 27it [00:01, 31.70it/s]10)\u001b[0m \n",
      "Val Epoch:0: 33it [00:01, 37.62it/s]10)\u001b[0m \n"
     ]
    },
    {
     "name": "stdout",
     "output_type": "stream",
     "text": [
      "\u001b[36m(tune_with_parameters pid=2428921)\u001b[0m loss: 0.001\u001b[32m [repeated 21x across cluster]\u001b[0m\n"
     ]
    },
    {
     "name": "stderr",
     "output_type": "stream",
     "text": [
      "Val Epoch:0: 39it [00:01, 42.17it/s]10)\u001b[0m \n",
      "Val Epoch:0: 44it [00:01, 43.32it/s]10)\u001b[0m \n",
      "Val Epoch:0: 47it [00:01, 27.28it/s]10)\u001b[0m \n",
      "\u001b[36m(tune_with_parameters pid=2482410)\u001b[0m /scratch/users/k23058970/Model training/training_insilico_lrcn.py:63: RuntimeWarning: invalid value encountered in divide\n",
      "\u001b[36m(tune_with_parameters pid=2482410)\u001b[0m   self.precision = self.tp/(self.tp + self.fp)\n"
     ]
    },
    {
     "name": "stdout",
     "output_type": "stream",
     "text": [
      "\u001b[36m(tune_with_parameters pid=2482410)\u001b[0m /tmp/tmpxih94cbp/checkpoint.pt\n"
     ]
    },
    {
     "name": "stderr",
     "output_type": "stream",
     "text": [
      "\u001b[36m(tune_with_parameters pid=2482410)\u001b[0m Checkpoint successfully created at: Checkpoint(filesystem=local, path=/scratch/users/k23058970/Model training/results/Double Peak LRCN Null/tune_with_parameters_2024-08-19_21-54-39/tune_with_parameters_54ae7_00008_8_dp=0.5000,k1=3,k2=1,k3=1,k4=1,lr=0.0884_2024-08-19_21-55-13/checkpoint_000000)\n",
      "Val Epoch:22: 0it [00:00, ?it/s]428921)\u001b[0m \n",
      "Val Epoch:22: 9it [00:00, 13.08it/s]\u001b[32m [repeated 4x across cluster]\u001b[0m\n"
     ]
    },
    {
     "name": "stdout",
     "output_type": "stream",
     "text": [
      "\u001b[36m(tune_with_parameters pid=2482410)\u001b[0m loss: 1.099\u001b[32m [repeated 12x across cluster]\u001b[0m\n"
     ]
    },
    {
     "name": "stderr",
     "output_type": "stream",
     "text": [
      "Val Epoch:1: 0it [00:00, ?it/s]2482410)\u001b[0m \n",
      "Val Epoch:1: 40it [00:01, 45.03it/s]10)\u001b[0m \n"
     ]
    },
    {
     "name": "stdout",
     "output_type": "stream",
     "text": [
      "\u001b[36m(tune_with_parameters pid=2482410)\u001b[0m /tmp/tmpk47ejwgz/checkpoint.pt\n"
     ]
    },
    {
     "name": "stderr",
     "output_type": "stream",
     "text": [
      "\u001b[36m(tune_with_parameters pid=2482410)\u001b[0m Checkpoint successfully created at: Checkpoint(filesystem=local, path=/scratch/users/k23058970/Model training/results/Double Peak LRCN Null/tune_with_parameters_2024-08-19_21-54-39/tune_with_parameters_54ae7_00008_8_dp=0.5000,k1=3,k2=1,k3=1,k4=1,lr=0.0884_2024-08-19_21-55-13/checkpoint_000001)\n"
     ]
    },
    {
     "name": "stdout",
     "output_type": "stream",
     "text": [
      "\u001b[36m(tune_with_parameters pid=2482410)\u001b[0m loss: 1.095\u001b[32m [repeated 10x across cluster]\u001b[0m\n"
     ]
    },
    {
     "name": "stderr",
     "output_type": "stream",
     "text": [
      "Val Epoch:2: 0it [00:00, ?it/s]2482410)\u001b[0m \n",
      "Val Epoch:1: 47it [00:01, 28.75it/s]\u001b[32m [repeated 21x across cluster]\u001b[0m\n"
     ]
    },
    {
     "name": "stdout",
     "output_type": "stream",
     "text": [
      "\u001b[36m(tune_with_parameters pid=2428921)\u001b[0m loss: 0.001\u001b[32m [repeated 20x across cluster]\u001b[0m\n",
      "\u001b[36m(tune_with_parameters pid=2482410)\u001b[0m /tmp/tmp9bmev4sx/checkpoint.pt\n"
     ]
    },
    {
     "name": "stderr",
     "output_type": "stream",
     "text": [
      "\u001b[36m(tune_with_parameters pid=2482410)\u001b[0m Checkpoint successfully created at: Checkpoint(filesystem=local, path=/scratch/users/k23058970/Model training/results/Double Peak LRCN Null/tune_with_parameters_2024-08-19_21-54-39/tune_with_parameters_54ae7_00008_8_dp=0.5000,k1=3,k2=1,k3=1,k4=1,lr=0.0884_2024-08-19_21-55-13/checkpoint_000002)\n",
      "Val Epoch:23: 0it [00:00, ?it/s]428921)\u001b[0m \n",
      "Val Epoch:2: 47it [00:01, 28.98it/s]\u001b[32m [repeated 11x across cluster]\u001b[0m\n"
     ]
    },
    {
     "name": "stdout",
     "output_type": "stream",
     "text": [
      "\u001b[36m(tune_with_parameters pid=2482410)\u001b[0m loss: 0.326\u001b[32m [repeated 20x across cluster]\u001b[0m\n"
     ]
    },
    {
     "name": "stderr",
     "output_type": "stream",
     "text": [
      "Val Epoch:23: 4it [00:01,  3.38it/s]21)\u001b[0m \n"
     ]
    },
    {
     "name": "stdout",
     "output_type": "stream",
     "text": [
      "\u001b[36m(tune_with_parameters pid=2482410)\u001b[0m /tmp/tmpxbnahlun/checkpoint.pt\n"
     ]
    },
    {
     "name": "stderr",
     "output_type": "stream",
     "text": [
      "\u001b[36m(tune_with_parameters pid=2482410)\u001b[0m Checkpoint successfully created at: Checkpoint(filesystem=local, path=/scratch/users/k23058970/Model training/results/Double Peak LRCN Null/tune_with_parameters_2024-08-19_21-54-39/tune_with_parameters_54ae7_00008_8_dp=0.5000,k1=3,k2=1,k3=1,k4=1,lr=0.0884_2024-08-19_21-55-13/checkpoint_000003)\n",
      "Val Epoch:23: 47it [00:03, 13.38it/s]1)\u001b[0m \n"
     ]
    },
    {
     "name": "stdout",
     "output_type": "stream",
     "text": [
      "\u001b[36m(tune_with_parameters pid=2482410)\u001b[0m loss: 0.139\u001b[32m [repeated 10x across cluster]\u001b[0m\n"
     ]
    },
    {
     "name": "stderr",
     "output_type": "stream",
     "text": [
      "Val Epoch:4: 0it [00:00, ?it/s]\u001b[32m [repeated 2x across cluster]\u001b[0m\n",
      "Val Epoch:23: 43it [00:03, 12.59it/s]\u001b[32m [repeated 25x across cluster]\u001b[0m\n"
     ]
    },
    {
     "name": "stdout",
     "output_type": "stream",
     "text": [
      "\u001b[36m(tune_with_parameters pid=2482410)\u001b[0m /tmp/tmpi2wxs56g/checkpoint.pt\n"
     ]
    },
    {
     "name": "stderr",
     "output_type": "stream",
     "text": [
      "\u001b[36m(tune_with_parameters pid=2482410)\u001b[0m Checkpoint successfully created at: Checkpoint(filesystem=local, path=/scratch/users/k23058970/Model training/results/Double Peak LRCN Null/tune_with_parameters_2024-08-19_21-54-39/tune_with_parameters_54ae7_00008_8_dp=0.5000,k1=3,k2=1,k3=1,k4=1,lr=0.0884_2024-08-19_21-55-13/checkpoint_000004)\n"
     ]
    },
    {
     "name": "stdout",
     "output_type": "stream",
     "text": [
      "\u001b[36m(tune_with_parameters pid=2428921)\u001b[0m loss: 0.000\u001b[32m [repeated 12x across cluster]\u001b[0m\n"
     ]
    },
    {
     "name": "stderr",
     "output_type": "stream",
     "text": [
      "Val Epoch:5: 0it [00:00, ?it/s]2482410)\u001b[0m \n",
      "Val Epoch:4: 47it [00:01, 34.39it/s]\u001b[32m [repeated 10x across cluster]\u001b[0m\n"
     ]
    },
    {
     "name": "stdout",
     "output_type": "stream",
     "text": [
      "\u001b[36m(tune_with_parameters pid=2428921)\u001b[0m loss: 0.001\u001b[32m [repeated 21x across cluster]\u001b[0m\n"
     ]
    },
    {
     "name": "stderr",
     "output_type": "stream",
     "text": [
      "Val Epoch:24: 0it [00:00, ?it/s]428921)\u001b[0m \n",
      "Val Epoch:24: 3it [00:00,  7.36it/s]\u001b[32m [repeated 13x across cluster]\u001b[0m\n",
      "Val Epoch:24: 20it [00:01, 23.94it/s]1)\u001b[0m \n"
     ]
    },
    {
     "name": "stdout",
     "output_type": "stream",
     "text": [
      "\u001b[36m(tune_with_parameters pid=2482410)\u001b[0m loss: 0.084\u001b[32m [repeated 15x across cluster]\u001b[0m\n",
      "\u001b[36m(tune_with_parameters pid=2482410)\u001b[0m /tmp/tmpdqfslesj/checkpoint.pt\n"
     ]
    },
    {
     "name": "stderr",
     "output_type": "stream",
     "text": [
      "\u001b[36m(tune_with_parameters pid=2482410)\u001b[0m Checkpoint successfully created at: Checkpoint(filesystem=local, path=/scratch/users/k23058970/Model training/results/Double Peak LRCN Null/tune_with_parameters_2024-08-19_21-54-39/tune_with_parameters_54ae7_00008_8_dp=0.5000,k1=3,k2=1,k3=1,k4=1,lr=0.0884_2024-08-19_21-55-13/checkpoint_000005)\n"
     ]
    },
    {
     "name": "stdout",
     "output_type": "stream",
     "text": [
      "\u001b[36m(tune_with_parameters pid=2482410)\u001b[0m loss: 0.084\u001b[32m [repeated 13x across cluster]\u001b[0m\n"
     ]
    },
    {
     "name": "stderr",
     "output_type": "stream",
     "text": [
      "Val Epoch:7: 0it [00:00, ?it/s]\u001b[32m [repeated 2x across cluster]\u001b[0m\n",
      "Val Epoch:6: 40it [00:00, 46.04it/s]\u001b[32m [repeated 21x across cluster]\u001b[0m\n",
      "Val Epoch:6: 47it [00:01, 40.01it/s]10)\u001b[0m \n",
      "Val Epoch:7: 47it [00:01, 31.39it/s]10)\u001b[0m \n"
     ]
    },
    {
     "name": "stdout",
     "output_type": "stream",
     "text": [
      "\u001b[36m(tune_with_parameters pid=2482410)\u001b[0m /tmp/tmps9y0uu70/checkpoint.pt\n"
     ]
    },
    {
     "name": "stderr",
     "output_type": "stream",
     "text": [
      "\u001b[36m(tune_with_parameters pid=2482410)\u001b[0m Checkpoint successfully created at: Checkpoint(filesystem=local, path=/scratch/users/k23058970/Model training/results/Double Peak LRCN Null/tune_with_parameters_2024-08-19_21-54-39/tune_with_parameters_54ae7_00008_8_dp=0.5000,k1=3,k2=1,k3=1,k4=1,lr=0.0884_2024-08-19_21-55-13/checkpoint_000006)\n"
     ]
    },
    {
     "name": "stdout",
     "output_type": "stream",
     "text": [
      "\u001b[36m(tune_with_parameters pid=2428921)\u001b[0m loss: 0.001\u001b[32m [repeated 14x across cluster]\u001b[0m\n"
     ]
    },
    {
     "name": "stderr",
     "output_type": "stream",
     "text": [
      "Val Epoch:8: 0it [00:00, ?it/s]2482410)\u001b[0m \n",
      "Val Epoch:7: 39it [00:01, 46.54it/s]\u001b[32m [repeated 8x across cluster]\u001b[0m\n",
      "Val Epoch:25: 0it [00:00, ?it/s]428921)\u001b[0m \n",
      "Val Epoch:8: 47it [00:02, 19.22it/s]10)\u001b[0m \n"
     ]
    },
    {
     "name": "stdout",
     "output_type": "stream",
     "text": [
      "\u001b[36m(tune_with_parameters pid=2482410)\u001b[0m loss: 0.097\u001b[32m [repeated 21x across cluster]\u001b[0m\n"
     ]
    },
    {
     "name": "stderr",
     "output_type": "stream",
     "text": [
      "Val Epoch:25: 47it [00:03, 14.88it/s]\u001b[32m [repeated 28x across cluster]\u001b[0m\n",
      "Val Epoch:9: 0it [00:00, ?it/s]2482410)\u001b[0m \n"
     ]
    },
    {
     "name": "stdout",
     "output_type": "stream",
     "text": [
      "\u001b[36m(tune_with_parameters pid=2428921)\u001b[0m loss: 0.000\u001b[32m [repeated 19x across cluster]\u001b[0m\n",
      "\u001b[36m(tune_with_parameters pid=2482410)\u001b[0m /tmp/tmpwjrps_nm/checkpoint.pt\n"
     ]
    },
    {
     "name": "stderr",
     "output_type": "stream",
     "text": [
      "\u001b[36m(tune_with_parameters pid=2482410)\u001b[0m Checkpoint successfully created at: Checkpoint(filesystem=local, path=/scratch/users/k23058970/Model training/results/Double Peak LRCN Null/tune_with_parameters_2024-08-19_21-54-39/tune_with_parameters_54ae7_00008_8_dp=0.5000,k1=3,k2=1,k3=1,k4=1,lr=0.0884_2024-08-19_21-55-13/checkpoint_000007)\n"
     ]
    },
    {
     "name": "stdout",
     "output_type": "stream",
     "text": [
      "\u001b[36m(tune_with_parameters pid=2428921)\u001b[0m loss: 0.000\u001b[32m [repeated 17x across cluster]\u001b[0m\n"
     ]
    },
    {
     "name": "stderr",
     "output_type": "stream",
     "text": [
      "Val Epoch:10: 0it [00:00, ?it/s]482410)\u001b[0m \n",
      "Val Epoch:9: 47it [00:01, 25.29it/s]\u001b[32m [repeated 10x across cluster]\u001b[0m\n",
      "Val Epoch:10: 47it [00:01, 28.91it/s]0)\u001b[0m \n"
     ]
    },
    {
     "name": "stdout",
     "output_type": "stream",
     "text": [
      "\u001b[36m(tune_with_parameters pid=2482410)\u001b[0m /tmp/tmpl7s5xxaf/checkpoint.pt\n"
     ]
    },
    {
     "name": "stderr",
     "output_type": "stream",
     "text": [
      "\u001b[36m(tune_with_parameters pid=2482410)\u001b[0m Checkpoint successfully created at: Checkpoint(filesystem=local, path=/scratch/users/k23058970/Model training/results/Double Peak LRCN Null/tune_with_parameters_2024-08-19_21-54-39/tune_with_parameters_54ae7_00008_8_dp=0.5000,k1=3,k2=1,k3=1,k4=1,lr=0.0884_2024-08-19_21-55-13/checkpoint_000008)\n"
     ]
    },
    {
     "name": "stdout",
     "output_type": "stream",
     "text": [
      "\u001b[36m(tune_with_parameters pid=2482410)\u001b[0m loss: 0.067\u001b[32m [repeated 13x across cluster]\u001b[0m\n"
     ]
    },
    {
     "name": "stderr",
     "output_type": "stream",
     "text": [
      "Val Epoch:26: 0it [00:00, ?it/s]428921)\u001b[0m \n",
      "Val Epoch:26: 1it [00:00,  2.05it/s]\u001b[32m [repeated 10x across cluster]\u001b[0m\n",
      "Val Epoch:26: 47it [00:02, 17.87it/s]1)\u001b[0m \n",
      "Val Epoch:11: 0it [00:00, ?it/s]482410)\u001b[0m \n"
     ]
    },
    {
     "name": "stdout",
     "output_type": "stream",
     "text": [
      "\u001b[36m(tune_with_parameters pid=2428921)\u001b[0m loss: 0.000\u001b[32m [repeated 12x across cluster]\u001b[0m\n"
     ]
    },
    {
     "name": "stderr",
     "output_type": "stream",
     "text": [
      "Val Epoch:12: 0it [00:00, ?it/s]482410)\u001b[0m \n",
      "Val Epoch:11: 47it [00:01, 26.79it/s]\u001b[32m [repeated 26x across cluster]\u001b[0m\n"
     ]
    },
    {
     "name": "stdout",
     "output_type": "stream",
     "text": [
      "\u001b[36m(tune_with_parameters pid=2428921)\u001b[0m loss: 0.000\u001b[32m [repeated 21x across cluster]\u001b[0m\n",
      "\u001b[36m(tune_with_parameters pid=2428921)\u001b[0m loss: 0.000\u001b[32m [repeated 17x across cluster]\u001b[0m\n"
     ]
    },
    {
     "name": "stderr",
     "output_type": "stream",
     "text": [
      "Val Epoch:13: 0it [00:00, ?it/s]482410)\u001b[0m \n",
      "Val Epoch:12: 47it [00:01, 34.92it/s]\u001b[32m [repeated 10x across cluster]\u001b[0m\n",
      "Val Epoch:13: 47it [00:02, 22.02it/s]0)\u001b[0m \n"
     ]
    },
    {
     "name": "stdout",
     "output_type": "stream",
     "text": [
      "\u001b[36m(tune_with_parameters pid=2482410)\u001b[0m loss: 0.070\u001b[32m [repeated 9x across cluster]\u001b[0m\n"
     ]
    },
    {
     "name": "stderr",
     "output_type": "stream",
     "text": [
      "Val Epoch:14: 0it [00:00, ?it/s]\u001b[32m [repeated 2x across cluster]\u001b[0m\n",
      "Val Epoch:27: 47it [00:02, 16.04it/s]\u001b[32m [repeated 26x across cluster]\u001b[0m\n"
     ]
    },
    {
     "name": "stdout",
     "output_type": "stream",
     "text": [
      "\u001b[36m(tune_with_parameters pid=2428921)\u001b[0m loss: 0.000\u001b[32m [repeated 15x across cluster]\u001b[0m\n"
     ]
    },
    {
     "name": "stderr",
     "output_type": "stream",
     "text": [
      "Val Epoch:14: 47it [00:01, 34.23it/s]0)\u001b[0m \n"
     ]
    },
    {
     "name": "stdout",
     "output_type": "stream",
     "text": [
      "\u001b[36m(tune_with_parameters pid=2482410)\u001b[0m loss: 0.069\u001b[32m [repeated 20x across cluster]\u001b[0m\n"
     ]
    },
    {
     "name": "stderr",
     "output_type": "stream",
     "text": [
      "Val Epoch:15: 0it [00:00, ?it/s]482410)\u001b[0m \n",
      "Val Epoch:14: 37it [00:01, 38.51it/s]\u001b[32m [repeated 8x across cluster]\u001b[0m\n",
      "Val Epoch:15: 47it [00:01, 31.44it/s]0)\u001b[0m \n"
     ]
    },
    {
     "name": "stdout",
     "output_type": "stream",
     "text": [
      "\u001b[36m(tune_with_parameters pid=2428921)\u001b[0m loss: 0.000\u001b[32m [repeated 15x across cluster]\u001b[0m\n"
     ]
    },
    {
     "name": "stderr",
     "output_type": "stream",
     "text": [
      "Val Epoch:28: 0it [00:00, ?it/s]428921)\u001b[0m \n",
      "Val Epoch:15: 41it [00:01, 37.17it/s]\u001b[32m [repeated 9x across cluster]\u001b[0m\n",
      "Val Epoch:16: 47it [00:02, 22.66it/s]0)\u001b[0m \n"
     ]
    },
    {
     "name": "stdout",
     "output_type": "stream",
     "text": [
      "\u001b[36m(tune_with_parameters pid=2482410)\u001b[0m loss: 0.016\u001b[32m [repeated 8x across cluster]\u001b[0m\n"
     ]
    },
    {
     "name": "stderr",
     "output_type": "stream",
     "text": [
      "Val Epoch:17: 0it [00:00, ?it/s]\u001b[32m [repeated 2x across cluster]\u001b[0m\n",
      "Val Epoch:16: 42it [00:01, 17.85it/s]\u001b[32m [repeated 26x across cluster]\u001b[0m\n"
     ]
    },
    {
     "name": "stdout",
     "output_type": "stream",
     "text": [
      "\u001b[36m(tune_with_parameters pid=2428921)\u001b[0m loss: 0.000\u001b[32m [repeated 21x across cluster]\u001b[0m\n",
      "\u001b[36m(tune_with_parameters pid=2428921)\u001b[0m loss: 0.000\u001b[32m [repeated 18x across cluster]\u001b[0m\n"
     ]
    },
    {
     "name": "stderr",
     "output_type": "stream",
     "text": [
      "Val Epoch:18: 0it [00:00, ?it/s]482410)\u001b[0m \n",
      "Val Epoch:17: 47it [00:01, 37.96it/s]\u001b[32m [repeated 10x across cluster]\u001b[0m\n",
      "Val Epoch:29: 0it [00:00, ?it/s]428921)\u001b[0m \n"
     ]
    },
    {
     "name": "stdout",
     "output_type": "stream",
     "text": [
      "\u001b[36m(tune_with_parameters pid=2482410)\u001b[0m loss: 0.055\u001b[32m [repeated 9x across cluster]\u001b[0m\n"
     ]
    },
    {
     "name": "stderr",
     "output_type": "stream",
     "text": [
      "Val Epoch:29: 41it [00:02, 24.69it/s]\u001b[32m [repeated 24x across cluster]\u001b[0m\n",
      "Val Epoch:19: 0it [00:00, ?it/s]482410)\u001b[0m \n"
     ]
    },
    {
     "name": "stdout",
     "output_type": "stream",
     "text": [
      "\u001b[36m(tune_with_parameters pid=2428921)\u001b[0m loss: 0.000\u001b[32m [repeated 14x across cluster]\u001b[0m\n"
     ]
    },
    {
     "name": "stderr",
     "output_type": "stream",
     "text": [
      "Val Epoch:19: 44it [00:01, 39.98it/s]\u001b[32m [repeated 11x across cluster]\u001b[0m\n"
     ]
    },
    {
     "name": "stdout",
     "output_type": "stream",
     "text": [
      "\u001b[36m(tune_with_parameters pid=2482410)\u001b[0m loss: 0.065\u001b[32m [repeated 20x across cluster]\u001b[0m\n"
     ]
    },
    {
     "name": "stderr",
     "output_type": "stream",
     "text": [
      "Val Epoch:20: 0it [00:00, ?it/s]482410)\u001b[0m \n",
      "Val Epoch:19: 47it [00:01, 26.44it/s]0)\u001b[0m \n",
      "Val Epoch:20: 1it [00:00,  4.00it/s]10)\u001b[0m \n",
      "Val Epoch:20: 5it [00:00, 17.03it/s]10)\u001b[0m \n",
      "Val Epoch:20: 10it [00:00, 26.64it/s]0)\u001b[0m \n",
      "Val Epoch:20: 16it [00:00, 36.21it/s]0)\u001b[0m \n",
      "Val Epoch:20: 21it [00:00, 36.36it/s]0)\u001b[0m \n",
      "Val Epoch:20: 26it [00:00, 38.67it/s]0)\u001b[0m \n",
      "Val Epoch:20: 32it [00:00, 42.97it/s]0)\u001b[0m \n",
      "Val Epoch:20: 37it [00:01, 40.72it/s]0)\u001b[0m \n",
      "Val Epoch:20: 44it [00:01, 45.77it/s]0)\u001b[0m \n",
      "Val Epoch:20: 47it [00:01, 34.32it/s]0)\u001b[0m \n"
     ]
    },
    {
     "name": "stdout",
     "output_type": "stream",
     "text": [
      "\u001b[36m(tune_with_parameters pid=2428921)\u001b[0m loss: 0.000\u001b[32m [repeated 6x across cluster]\u001b[0m\n"
     ]
    },
    {
     "name": "stderr",
     "output_type": "stream",
     "text": [
      "Val Epoch:30: 0it [00:00, ?it/s]428921)\u001b[0m \n",
      "Val Epoch:30: 1it [00:00,  1.20it/s]21)\u001b[0m \n",
      "Val Epoch:30: 4it [00:00,  5.40it/s]21)\u001b[0m \n",
      "Val Epoch:30: 7it [00:01,  9.39it/s]21)\u001b[0m \n",
      "Val Epoch:30: 11it [00:01, 14.59it/s]1)\u001b[0m \n",
      "Val Epoch:30: 14it [00:01, 17.32it/s]1)\u001b[0m \n",
      "Val Epoch:30: 17it [00:01, 19.89it/s]1)\u001b[0m \n",
      "Val Epoch:30: 20it [00:01, 15.25it/s]1)\u001b[0m \n",
      "Val Epoch:30: 24it [00:01, 19.27it/s]1)\u001b[0m \n",
      "Val Epoch:30: 28it [00:01, 23.16it/s]1)\u001b[0m \n",
      "Val Epoch:30: 32it [00:02, 25.89it/s]1)\u001b[0m \n",
      "Val Epoch:30: 36it [00:02, 27.03it/s]1)\u001b[0m \n",
      "Val Epoch:30: 40it [00:02, 20.05it/s]1)\u001b[0m \n",
      "Val Epoch:30: 43it [00:02, 21.45it/s]1)\u001b[0m \n",
      "Val Epoch:30: 47it [00:02, 17.19it/s]1)\u001b[0m \n"
     ]
    },
    {
     "name": "stdout",
     "output_type": "stream",
     "text": [
      "\u001b[36m(tune_with_parameters pid=2428921)\u001b[0m loss: 0.000\u001b[32m [repeated 3x across cluster]\u001b[0m\n"
     ]
    },
    {
     "name": "stderr",
     "output_type": "stream",
     "text": [
      "\u001b[36m(tune_with_parameters pid=2503034)\u001b[0m /users/k23058970/miniforge3/envs/Training/lib/python3.10/site-packages/torch/nn/modules/lazy.py:181: UserWarning: Lazy modules are a new feature under heavy development so changes to the API or functionality can happen at any moment.\n",
      "\u001b[36m(tune_with_parameters pid=2503034)\u001b[0m   warnings.warn('Lazy modules are a new feature under heavy development '\n"
     ]
    },
    {
     "name": "stdout",
     "output_type": "stream",
     "text": [
      "\u001b[36m(tune_with_parameters pid=2428921)\u001b[0m loss: 0.000\u001b[32m [repeated 6x across cluster]\u001b[0m\n",
      "\u001b[36m(tune_with_parameters pid=2503034)\u001b[0m loss: 1.099\u001b[32m [repeated 13x across cluster]\u001b[0m\n"
     ]
    },
    {
     "name": "stderr",
     "output_type": "stream",
     "text": [
      "Val Epoch:31: 0it [00:00, ?it/s]428921)\u001b[0m \n",
      "Val Epoch:31: 1it [00:00,  1.61it/s]21)\u001b[0m \n",
      "Val Epoch:31: 4it [00:00,  6.86it/s]21)\u001b[0m \n",
      "Val Epoch:31: 7it [00:00, 10.94it/s]21)\u001b[0m \n",
      "Val Epoch:31: 9it [00:00, 12.72it/s]21)\u001b[0m \n",
      "Val Epoch:31: 12it [00:01, 15.72it/s]1)\u001b[0m \n",
      "Val Epoch:31: 15it [00:01, 15.98it/s]1)\u001b[0m \n",
      "Val Epoch:31: 18it [00:01, 18.47it/s]1)\u001b[0m \n",
      "Val Epoch:31: 21it [00:01, 19.25it/s]1)\u001b[0m \n",
      "Val Epoch:31: 24it [00:01, 21.50it/s]1)\u001b[0m \n",
      "Val Epoch:31: 27it [00:01, 19.85it/s]1)\u001b[0m \n",
      "Val Epoch:31: 30it [00:02, 15.97it/s]1)\u001b[0m \n",
      "Val Epoch:31: 32it [00:02, 16.18it/s]1)\u001b[0m \n",
      "Val Epoch:31: 35it [00:02, 17.61it/s]1)\u001b[0m \n",
      "Val Epoch:31: 37it [00:02, 17.95it/s]1)\u001b[0m \n",
      "Val Epoch:31: 39it [00:02, 18.28it/s]1)\u001b[0m \n",
      "Val Epoch:31: 42it [00:02, 19.53it/s]1)\u001b[0m \n",
      "Val Epoch:31: 45it [00:02, 22.11it/s]1)\u001b[0m \n",
      "Val Epoch:31: 47it [00:03, 14.87it/s]1)\u001b[0m \n"
     ]
    },
    {
     "name": "stdout",
     "output_type": "stream",
     "text": [
      "\u001b[36m(tune_with_parameters pid=2428921)\u001b[0m loss: 0.000\u001b[32m [repeated 10x across cluster]\u001b[0m\n"
     ]
    },
    {
     "name": "stderr",
     "output_type": "stream",
     "text": [
      "Val Epoch:0: 0it [00:00, ?it/s]2503034)\u001b[0m \n",
      "\u001b[36m(tune_with_parameters pid=2503034)\u001b[0m /scratch/users/k23058970/Model training/training_insilico_lrcn.py:63: RuntimeWarning: invalid value encountered in divide\n",
      "\u001b[36m(tune_with_parameters pid=2503034)\u001b[0m   self.precision = self.tp/(self.tp + self.fp)\n"
     ]
    },
    {
     "name": "stdout",
     "output_type": "stream",
     "text": [
      "\u001b[36m(tune_with_parameters pid=2503034)\u001b[0m /tmp/tmp2iyqqcnd/checkpoint.pt\n"
     ]
    },
    {
     "name": "stderr",
     "output_type": "stream",
     "text": [
      "\u001b[36m(tune_with_parameters pid=2503034)\u001b[0m Checkpoint successfully created at: Checkpoint(filesystem=local, path=/scratch/users/k23058970/Model training/results/Double Peak LRCN Null/tune_with_parameters_2024-08-19_21-54-39/tune_with_parameters_54ae7_00009_9_dp=0.2500,k1=3,k2=5,k3=3,k4=3,lr=0.0159_2024-08-19_21-55-13/checkpoint_000000)\n"
     ]
    },
    {
     "name": "stdout",
     "output_type": "stream",
     "text": [
      "\u001b[36m(tune_with_parameters pid=2503034)\u001b[0m loss: 1.098\u001b[32m [repeated 16x across cluster]\u001b[0m\n"
     ]
    },
    {
     "name": "stderr",
     "output_type": "stream",
     "text": [
      "Val Epoch:1: 0it [00:00, ?it/s]2503034)\u001b[0m \n",
      "Val Epoch:0: 47it [00:01, 23.75it/s]\u001b[32m [repeated 12x across cluster]\u001b[0m\n"
     ]
    },
    {
     "name": "stdout",
     "output_type": "stream",
     "text": [
      "\u001b[36m(tune_with_parameters pid=2503034)\u001b[0m /tmp/tmph7skc5p8/checkpoint.pt\n"
     ]
    },
    {
     "name": "stderr",
     "output_type": "stream",
     "text": [
      "\u001b[36m(tune_with_parameters pid=2503034)\u001b[0m Checkpoint successfully created at: Checkpoint(filesystem=local, path=/scratch/users/k23058970/Model training/results/Double Peak LRCN Null/tune_with_parameters_2024-08-19_21-54-39/tune_with_parameters_54ae7_00009_9_dp=0.2500,k1=3,k2=5,k3=3,k4=3,lr=0.0159_2024-08-19_21-55-13/checkpoint_000001)\n"
     ]
    },
    {
     "name": "stdout",
     "output_type": "stream",
     "text": [
      "\u001b[36m(tune_with_parameters pid=2503034)\u001b[0m loss: 1.097\u001b[32m [repeated 10x across cluster]\u001b[0m\n"
     ]
    },
    {
     "name": "stderr",
     "output_type": "stream",
     "text": [
      "Val Epoch:32: 0it [00:00, ?it/s]428921)\u001b[0m \n",
      "Val Epoch:1: 47it [00:02, 23.33it/s]\u001b[32m [repeated 12x across cluster]\u001b[0m\n"
     ]
    },
    {
     "name": "stdout",
     "output_type": "stream",
     "text": [
      "\u001b[36m(tune_with_parameters pid=2503034)\u001b[0m loss: 1.094\u001b[32m [repeated 16x across cluster]\u001b[0m\n"
     ]
    },
    {
     "name": "stderr",
     "output_type": "stream",
     "text": [
      "Val Epoch:2: 0it [00:00, ?it/s]2503034)\u001b[0m \n",
      "Val Epoch:2: 47it [00:02, 19.14it/s]\u001b[32m [repeated 29x across cluster]\u001b[0m\n"
     ]
    },
    {
     "name": "stdout",
     "output_type": "stream",
     "text": [
      "\u001b[36m(tune_with_parameters pid=2428921)\u001b[0m loss: 0.000\u001b[32m [repeated 5x across cluster]\u001b[0m\n"
     ]
    },
    {
     "name": "stderr",
     "output_type": "stream",
     "text": [
      "Val Epoch:3: 0it [00:00, ?it/s]2503034)\u001b[0m \n",
      "Val Epoch:3: 1it [00:00,  6.94it/s]034)\u001b[0m \n",
      "Val Epoch:3: 5it [00:00, 19.77it/s]034)\u001b[0m \n",
      "Val Epoch:3: 11it [00:00, 34.05it/s]34)\u001b[0m \n",
      "Val Epoch:3: 16it [00:00, 38.36it/s]34)\u001b[0m \n"
     ]
    },
    {
     "name": "stdout",
     "output_type": "stream",
     "text": [
      "\u001b[36m(tune_with_parameters pid=2428921)\u001b[0m loss: 0.000\u001b[32m [repeated 20x across cluster]\u001b[0m\n"
     ]
    },
    {
     "name": "stderr",
     "output_type": "stream",
     "text": [
      "Val Epoch:3: 21it [00:00, 36.10it/s]34)\u001b[0m \n",
      "Val Epoch:3: 25it [00:00, 35.61it/s]34)\u001b[0m \n",
      "Val Epoch:3: 29it [00:00, 35.19it/s]34)\u001b[0m \n",
      "Val Epoch:3: 34it [00:00, 39.20it/s]34)\u001b[0m \n",
      "Val Epoch:3: 39it [00:01, 25.49it/s]34)\u001b[0m \n",
      "Val Epoch:3: 43it [00:01, 26.29it/s]34)\u001b[0m \n",
      "Val Epoch:3: 47it [00:01, 29.60it/s]34)\u001b[0m \n"
     ]
    },
    {
     "name": "stdout",
     "output_type": "stream",
     "text": [
      "\u001b[36m(tune_with_parameters pid=2503034)\u001b[0m /tmp/tmplshaqbyo/checkpoint.pt\n"
     ]
    },
    {
     "name": "stderr",
     "output_type": "stream",
     "text": [
      "\u001b[36m(tune_with_parameters pid=2503034)\u001b[0m Checkpoint successfully created at: Checkpoint(filesystem=local, path=/scratch/users/k23058970/Model training/results/Double Peak LRCN Null/tune_with_parameters_2024-08-19_21-54-39/tune_with_parameters_54ae7_00009_9_dp=0.2500,k1=3,k2=5,k3=3,k4=3,lr=0.0159_2024-08-19_21-55-13/checkpoint_000002)\n"
     ]
    },
    {
     "name": "stdout",
     "output_type": "stream",
     "text": [
      "\u001b[36m(tune_with_parameters pid=2503034)\u001b[0m loss: 0.991\u001b[32m [repeated 14x across cluster]\u001b[0m\n"
     ]
    },
    {
     "name": "stderr",
     "output_type": "stream",
     "text": [
      "Val Epoch:33: 0it [00:00, ?it/s]428921)\u001b[0m \n",
      "Val Epoch:33: 1it [00:00,  2.88it/s]21)\u001b[0m \n",
      "Val Epoch:33: 3it [00:00,  7.19it/s]21)\u001b[0m \n",
      "Val Epoch:33: 5it [00:00, 10.39it/s]21)\u001b[0m \n",
      "Val Epoch:33: 7it [00:00, 11.91it/s]21)\u001b[0m \n",
      "Val Epoch:33: 10it [00:00, 15.85it/s]1)\u001b[0m \n",
      "Val Epoch:33: 13it [00:01, 13.59it/s]1)\u001b[0m \n",
      "Val Epoch:33: 15it [00:01, 14.26it/s]1)\u001b[0m \n",
      "Val Epoch:33: 19it [00:01, 18.57it/s]1)\u001b[0m \n",
      "Val Epoch:33: 22it [00:01, 19.67it/s]1)\u001b[0m \n",
      "Val Epoch:33: 26it [00:01, 22.70it/s]1)\u001b[0m \n",
      "Val Epoch:33: 29it [00:02, 12.75it/s]1)\u001b[0m \n"
     ]
    },
    {
     "name": "stdout",
     "output_type": "stream",
     "text": [
      "\u001b[36m(tune_with_parameters pid=2428921)\u001b[0m loss: 0.000\u001b[32m [repeated 8x across cluster]\u001b[0m\n",
      "\u001b[36m(tune_with_parameters pid=2503034)\u001b[0m /tmp/tmp_84f2chi/checkpoint.pt\n"
     ]
    },
    {
     "name": "stderr",
     "output_type": "stream",
     "text": [
      "\u001b[36m(tune_with_parameters pid=2503034)\u001b[0m Checkpoint successfully created at: Checkpoint(filesystem=local, path=/scratch/users/k23058970/Model training/results/Double Peak LRCN Null/tune_with_parameters_2024-08-19_21-54-39/tune_with_parameters_54ae7_00009_9_dp=0.2500,k1=3,k2=5,k3=3,k4=3,lr=0.0159_2024-08-19_21-55-13/checkpoint_000003)\n"
     ]
    },
    {
     "name": "stdout",
     "output_type": "stream",
     "text": [
      "\u001b[36m(tune_with_parameters pid=2503034)\u001b[0m loss: 0.160\u001b[32m [repeated 16x across cluster]\u001b[0m\n",
      "\u001b[36m(tune_with_parameters pid=2503034)\u001b[0m \n"
     ]
    },
    {
     "name": "stderr",
     "output_type": "stream",
     "text": [
      "Val Epoch:5: 0it [00:00, ?it/s]\u001b[32m [repeated 2x across cluster]\u001b[0m\n",
      "Val Epoch:4: 47it [00:02, 18.87it/s]\u001b[32m [repeated 18x across cluster]\u001b[0m\n"
     ]
    },
    {
     "name": "stdout",
     "output_type": "stream",
     "text": [
      "\u001b[36m(tune_with_parameters pid=2503034)\u001b[0m /tmp/tmpypd32cop/checkpoint.pt\n"
     ]
    },
    {
     "name": "stderr",
     "output_type": "stream",
     "text": [
      "\u001b[36m(tune_with_parameters pid=2503034)\u001b[0m Checkpoint successfully created at: Checkpoint(filesystem=local, path=/scratch/users/k23058970/Model training/results/Double Peak LRCN Null/tune_with_parameters_2024-08-19_21-54-39/tune_with_parameters_54ae7_00009_9_dp=0.2500,k1=3,k2=5,k3=3,k4=3,lr=0.0159_2024-08-19_21-55-13/checkpoint_000004)\n"
     ]
    },
    {
     "name": "stdout",
     "output_type": "stream",
     "text": [
      "\u001b[36m(tune_with_parameters pid=2503034)\u001b[0m loss: 0.073\u001b[32m [repeated 9x across cluster]\u001b[0m\n"
     ]
    },
    {
     "name": "stderr",
     "output_type": "stream",
     "text": [
      "Val Epoch:6: 0it [00:00, ?it/s]2503034)\u001b[0m \n",
      "Val Epoch:5: 47it [00:02, 20.98it/s]\u001b[32m [repeated 12x across cluster]\u001b[0m\n",
      "Val Epoch:34: 0it [00:00, ?it/s]428921)\u001b[0m \n"
     ]
    },
    {
     "name": "stdout",
     "output_type": "stream",
     "text": [
      "\u001b[36m(tune_with_parameters pid=2503034)\u001b[0m /tmp/tmpjpm2na45/checkpoint.pt\n",
      "\u001b[36m(tune_with_parameters pid=2503034)\u001b[0m loss: 0.063\u001b[32m [repeated 19x across cluster]\u001b[0m\n"
     ]
    },
    {
     "name": "stderr",
     "output_type": "stream",
     "text": [
      "\u001b[36m(tune_with_parameters pid=2503034)\u001b[0m Checkpoint successfully created at: Checkpoint(filesystem=local, path=/scratch/users/k23058970/Model training/results/Double Peak LRCN Null/tune_with_parameters_2024-08-19_21-54-39/tune_with_parameters_54ae7_00009_9_dp=0.2500,k1=3,k2=5,k3=3,k4=3,lr=0.0159_2024-08-19_21-55-13/checkpoint_000005)\n"
     ]
    },
    {
     "name": "stdout",
     "output_type": "stream",
     "text": [
      "\u001b[36m(tune_with_parameters pid=2503034)\u001b[0m loss: 0.038\u001b[32m [repeated 12x across cluster]\u001b[0m\n"
     ]
    },
    {
     "name": "stderr",
     "output_type": "stream",
     "text": [
      "Val Epoch:34: 47it [00:03, 15.13it/s]\u001b[32m [repeated 30x across cluster]\u001b[0m\n",
      "Val Epoch:7: 0it [00:00, ?it/s]2503034)\u001b[0m \n"
     ]
    },
    {
     "name": "stdout",
     "output_type": "stream",
     "text": [
      "\u001b[36m(tune_with_parameters pid=2503034)\u001b[0m loss: 0.043\u001b[32m [repeated 12x across cluster]\u001b[0m\n",
      "\u001b[36m(tune_with_parameters pid=2428921)\u001b[0m loss: 0.000\u001b[32m [repeated 20x across cluster]\u001b[0m\n"
     ]
    },
    {
     "name": "stderr",
     "output_type": "stream",
     "text": [
      "Val Epoch:8: 0it [00:00, ?it/s]2503034)\u001b[0m \n",
      "Val Epoch:7: 47it [00:01, 27.28it/s]\u001b[32m [repeated 13x across cluster]\u001b[0m\n"
     ]
    },
    {
     "name": "stdout",
     "output_type": "stream",
     "text": [
      "\u001b[36m(tune_with_parameters pid=2503034)\u001b[0m /tmp/tmp3wfeaeu1/checkpoint.pt\n"
     ]
    },
    {
     "name": "stderr",
     "output_type": "stream",
     "text": [
      "\u001b[36m(tune_with_parameters pid=2503034)\u001b[0m Checkpoint successfully created at: Checkpoint(filesystem=local, path=/scratch/users/k23058970/Model training/results/Double Peak LRCN Null/tune_with_parameters_2024-08-19_21-54-39/tune_with_parameters_54ae7_00009_9_dp=0.2500,k1=3,k2=5,k3=3,k4=3,lr=0.0159_2024-08-19_21-55-13/checkpoint_000006)\n"
     ]
    },
    {
     "name": "stdout",
     "output_type": "stream",
     "text": [
      "\u001b[36m(tune_with_parameters pid=2428921)\u001b[0m loss: 0.000\u001b[32m [repeated 6x across cluster]\u001b[0m\n"
     ]
    },
    {
     "name": "stderr",
     "output_type": "stream",
     "text": [
      "Val Epoch:9: 0it [00:00, ?it/s]\u001b[32m [repeated 2x across cluster]\u001b[0m\n",
      "Val Epoch:35: 47it [00:03, 15.52it/s]\u001b[32m [repeated 28x across cluster]\u001b[0m\n"
     ]
    },
    {
     "name": "stdout",
     "output_type": "stream",
     "text": [
      "\u001b[36m(tune_with_parameters pid=2428921)\u001b[0m loss: 0.000\u001b[32m [repeated 17x across cluster]\u001b[0m\n",
      "\u001b[36m(tune_with_parameters pid=2503034)\u001b[0m loss: 0.020\u001b[32m [repeated 16x across cluster]\u001b[0m\n"
     ]
    },
    {
     "name": "stderr",
     "output_type": "stream",
     "text": [
      "Val Epoch:10: 0it [00:00, ?it/s]503034)\u001b[0m \n",
      "Val Epoch:9: 47it [00:01, 34.81it/s]\u001b[32m [repeated 11x across cluster]\u001b[0m\n",
      "Val Epoch:36: 0it [00:00, ?it/s]428921)\u001b[0m \n"
     ]
    },
    {
     "name": "stdout",
     "output_type": "stream",
     "text": [
      "\u001b[36m(tune_with_parameters pid=2503034)\u001b[0m /tmp/tmpl1ipemkf/checkpoint.pt\n"
     ]
    },
    {
     "name": "stderr",
     "output_type": "stream",
     "text": [
      "\u001b[36m(tune_with_parameters pid=2503034)\u001b[0m Checkpoint successfully created at: Checkpoint(filesystem=local, path=/scratch/users/k23058970/Model training/results/Double Peak LRCN Null/tune_with_parameters_2024-08-19_21-54-39/tune_with_parameters_54ae7_00009_9_dp=0.2500,k1=3,k2=5,k3=3,k4=3,lr=0.0159_2024-08-19_21-55-13/checkpoint_000007)\n"
     ]
    },
    {
     "name": "stdout",
     "output_type": "stream",
     "text": [
      "\u001b[36m(tune_with_parameters pid=2503034)\u001b[0m loss: 0.097\u001b[32m [repeated 8x across cluster]\u001b[0m\n",
      "\u001b[36m(tune_with_parameters pid=2503034)\u001b[0m loss: 0.012\u001b[32m [repeated 17x across cluster]\u001b[0m\n"
     ]
    },
    {
     "name": "stderr",
     "output_type": "stream",
     "text": [
      "Val Epoch:36: 47it [00:02, 17.46it/s]\u001b[32m [repeated 28x across cluster]\u001b[0m\n",
      "Val Epoch:11: 0it [00:00, ?it/s]503034)\u001b[0m \n"
     ]
    },
    {
     "name": "stdout",
     "output_type": "stream",
     "text": [
      "\u001b[36m(tune_with_parameters pid=2503034)\u001b[0m /tmp/tmpfk7lbj5e/checkpoint.pt\n"
     ]
    },
    {
     "name": "stderr",
     "output_type": "stream",
     "text": [
      "\u001b[36m(tune_with_parameters pid=2503034)\u001b[0m Checkpoint successfully created at: Checkpoint(filesystem=local, path=/scratch/users/k23058970/Model training/results/Double Peak LRCN Null/tune_with_parameters_2024-08-19_21-54-39/tune_with_parameters_54ae7_00009_9_dp=0.2500,k1=3,k2=5,k3=3,k4=3,lr=0.0159_2024-08-19_21-55-13/checkpoint_000008)\n"
     ]
    },
    {
     "name": "stdout",
     "output_type": "stream",
     "text": [
      "\u001b[36m(tune_with_parameters pid=2503034)\u001b[0m loss: 0.011\u001b[32m [repeated 9x across cluster]\u001b[0m\n"
     ]
    },
    {
     "name": "stderr",
     "output_type": "stream",
     "text": [
      "Val Epoch:12: 0it [00:00, ?it/s]503034)\u001b[0m \n",
      "Val Epoch:11: 47it [00:01, 30.41it/s]\u001b[32m [repeated 11x across cluster]\u001b[0m\n"
     ]
    },
    {
     "name": "stdout",
     "output_type": "stream",
     "text": [
      "\u001b[36m(tune_with_parameters pid=2428921)\u001b[0m loss: 0.000\u001b[32m [repeated 17x across cluster]\u001b[0m\n",
      "\u001b[36m(tune_with_parameters pid=2503034)\u001b[0m loss: 0.007\u001b[32m [repeated 7x across cluster]\u001b[0m\n"
     ]
    },
    {
     "name": "stderr",
     "output_type": "stream",
     "text": [
      "Val Epoch:13: 0it [00:00, ?it/s]\u001b[32m [repeated 2x across cluster]\u001b[0m\n",
      "Val Epoch:37: 47it [00:02, 17.63it/s]\u001b[32m [repeated 29x across cluster]\u001b[0m\n"
     ]
    },
    {
     "name": "stdout",
     "output_type": "stream",
     "text": [
      "\u001b[36m(tune_with_parameters pid=2428921)\u001b[0m loss: 0.000\u001b[32m [repeated 15x across cluster]\u001b[0m\n",
      "\u001b[36m(tune_with_parameters pid=2503034)\u001b[0m loss: 0.007\u001b[32m [repeated 18x across cluster]\u001b[0m\n"
     ]
    },
    {
     "name": "stderr",
     "output_type": "stream",
     "text": [
      "Val Epoch:14: 0it [00:00, ?it/s]503034)\u001b[0m \n",
      "Val Epoch:13: 47it [00:02, 20.43it/s]\u001b[32m [repeated 12x across cluster]\u001b[0m\n",
      "Val Epoch:38: 0it [00:00, ?it/s]428921)\u001b[0m \n"
     ]
    },
    {
     "name": "stdout",
     "output_type": "stream",
     "text": [
      "\u001b[36m(tune_with_parameters pid=2503034)\u001b[0m loss: 0.008\u001b[32m [repeated 9x across cluster]\u001b[0m\n"
     ]
    },
    {
     "name": "stderr",
     "output_type": "stream",
     "text": [
      "Val Epoch:38: 25it [00:01, 23.41it/s]\u001b[32m [repeated 21x across cluster]\u001b[0m\n",
      "Val Epoch:38: 37it [00:02, 24.15it/s]1)\u001b[0m \n",
      "Val Epoch:15: 0it [00:00, ?it/s]503034)\u001b[0m \n"
     ]
    },
    {
     "name": "stdout",
     "output_type": "stream",
     "text": [
      "\u001b[36m(tune_with_parameters pid=2428921)\u001b[0m loss: 0.000\u001b[32m [repeated 16x across cluster]\u001b[0m\n"
     ]
    },
    {
     "name": "stderr",
     "output_type": "stream",
     "text": [
      "Val Epoch:15: 6it [00:00, 13.41it/s]\u001b[32m [repeated 8x across cluster]\u001b[0m\n",
      "Val Epoch:15: 47it [00:01, 25.96it/s]4)\u001b[0m \n"
     ]
    },
    {
     "name": "stdout",
     "output_type": "stream",
     "text": [
      "\u001b[36m(tune_with_parameters pid=2503034)\u001b[0m loss: 0.003\u001b[32m [repeated 13x across cluster]\u001b[0m\n"
     ]
    },
    {
     "name": "stderr",
     "output_type": "stream",
     "text": [
      "Val Epoch:16: 0it [00:00, ?it/s]503034)\u001b[0m \n",
      "Val Epoch:15: 41it [00:01, 30.77it/s]\u001b[32m [repeated 8x across cluster]\u001b[0m\n"
     ]
    },
    {
     "name": "stdout",
     "output_type": "stream",
     "text": [
      "\u001b[36m(tune_with_parameters pid=2428921)\u001b[0m loss: 0.000\u001b[32m [repeated 12x across cluster]\u001b[0m\n"
     ]
    },
    {
     "name": "stderr",
     "output_type": "stream",
     "text": [
      "Val Epoch:39: 0it [00:00, ?it/s]428921)\u001b[0m \n",
      "Val Epoch:39: 21it [00:01, 23.55it/s]\u001b[32m [repeated 20x across cluster]\u001b[0m\n"
     ]
    },
    {
     "name": "stdout",
     "output_type": "stream",
     "text": [
      "\u001b[36m(tune_with_parameters pid=2428921)\u001b[0m loss: 0.000\u001b[32m [repeated 12x across cluster]\u001b[0m\n"
     ]
    },
    {
     "name": "stderr",
     "output_type": "stream",
     "text": [
      "Val Epoch:17: 0it [00:00, ?it/s]503034)\u001b[0m \n",
      "Val Epoch:17: 9it [00:00, 30.24it/s]\u001b[32m [repeated 12x across cluster]\u001b[0m\n"
     ]
    },
    {
     "name": "stdout",
     "output_type": "stream",
     "text": [
      "\u001b[36m(tune_with_parameters pid=2503034)\u001b[0m loss: 0.006\u001b[32m [repeated 12x across cluster]\u001b[0m\n"
     ]
    },
    {
     "name": "stderr",
     "output_type": "stream",
     "text": [
      "Val Epoch:18: 0it [00:00, ?it/s]503034)\u001b[0m \n",
      "Val Epoch:17: 47it [00:01, 33.79it/s]\u001b[32m [repeated 8x across cluster]\u001b[0m\n"
     ]
    },
    {
     "name": "stdout",
     "output_type": "stream",
     "text": [
      "\u001b[36m(tune_with_parameters pid=2428921)\u001b[0m loss: 0.000\u001b[32m [repeated 18x across cluster]\u001b[0m\n",
      "\u001b[36m(tune_with_parameters pid=2503034)\u001b[0m /tmp/tmpz_ft6npb/checkpoint.pt\n"
     ]
    },
    {
     "name": "stderr",
     "output_type": "stream",
     "text": [
      "\u001b[36m(tune_with_parameters pid=2503034)\u001b[0m Checkpoint successfully created at: Checkpoint(filesystem=local, path=/scratch/users/k23058970/Model training/results/Double Peak LRCN Null/tune_with_parameters_2024-08-19_21-54-39/tune_with_parameters_54ae7_00009_9_dp=0.2500,k1=3,k2=5,k3=3,k4=3,lr=0.0159_2024-08-19_21-55-13/checkpoint_000009)\n",
      "Val Epoch:40: 0it [00:00, ?it/s]428921)\u001b[0m \n",
      "Val Epoch:18: 47it [00:01, 27.86it/s]\u001b[32m [repeated 12x across cluster]\u001b[0m\n"
     ]
    },
    {
     "name": "stdout",
     "output_type": "stream",
     "text": [
      "\u001b[36m(tune_with_parameters pid=2503034)\u001b[0m loss: 0.003\u001b[32m [repeated 12x across cluster]\u001b[0m\n",
      "\u001b[36m(tune_with_parameters pid=2503034)\u001b[0m \n"
     ]
    },
    {
     "name": "stderr",
     "output_type": "stream",
     "text": [
      "Val Epoch:19: 0it [00:00, ?it/s]503034)\u001b[0m \n",
      "Val Epoch:19: 1it [00:00,  1.43it/s]\u001b[32m [repeated 19x across cluster]\u001b[0m\n"
     ]
    },
    {
     "name": "stdout",
     "output_type": "stream",
     "text": [
      "\u001b[36m(tune_with_parameters pid=2428921)\u001b[0m loss: 0.000\u001b[32m [repeated 10x across cluster]\u001b[0m\n",
      "\u001b[36m(tune_with_parameters pid=2503034)\u001b[0m /tmp/tmp5oh1dy48/checkpoint.pt\n"
     ]
    },
    {
     "name": "stderr",
     "output_type": "stream",
     "text": [
      "\u001b[36m(tune_with_parameters pid=2503034)\u001b[0m Checkpoint successfully created at: Checkpoint(filesystem=local, path=/scratch/users/k23058970/Model training/results/Double Peak LRCN Null/tune_with_parameters_2024-08-19_21-54-39/tune_with_parameters_54ae7_00009_9_dp=0.2500,k1=3,k2=5,k3=3,k4=3,lr=0.0159_2024-08-19_21-55-13/checkpoint_000010)\n"
     ]
    },
    {
     "name": "stdout",
     "output_type": "stream",
     "text": [
      "\u001b[36m(tune_with_parameters pid=2503034)\u001b[0m loss: 0.002\u001b[32m [repeated 14x across cluster]\u001b[0m\n"
     ]
    },
    {
     "name": "stderr",
     "output_type": "stream",
     "text": [
      "Val Epoch:20: 0it [00:00, ?it/s]503034)\u001b[0m \n",
      "Val Epoch:19: 47it [00:02, 22.91it/s]\u001b[32m [repeated 10x across cluster]\u001b[0m\n"
     ]
    },
    {
     "name": "stdout",
     "output_type": "stream",
     "text": [
      "\u001b[36m(tune_with_parameters pid=2503034)\u001b[0m loss: 0.002\u001b[32m [repeated 11x across cluster]\u001b[0m\n"
     ]
    },
    {
     "name": "stderr",
     "output_type": "stream",
     "text": [
      "Val Epoch:41: 0it [00:00, ?it/s]428921)\u001b[0m \n",
      "Val Epoch:20: 47it [00:01, 26.34it/s]\u001b[32m [repeated 12x across cluster]\u001b[0m\n"
     ]
    },
    {
     "name": "stdout",
     "output_type": "stream",
     "text": [
      "\u001b[36m(tune_with_parameters pid=2503034)\u001b[0m loss: 0.001\u001b[32m [repeated 15x across cluster]\u001b[0m\n"
     ]
    },
    {
     "name": "stderr",
     "output_type": "stream",
     "text": [
      "Val Epoch:21: 0it [00:00, ?it/s]503034)\u001b[0m \n",
      "Val Epoch:21: 10it [00:00, 21.45it/s]\u001b[32m [repeated 20x across cluster]\u001b[0m\n"
     ]
    },
    {
     "name": "stdout",
     "output_type": "stream",
     "text": [
      "\u001b[36m(tune_with_parameters pid=2503034)\u001b[0m loss: 0.001\u001b[32m [repeated 8x across cluster]\u001b[0m\n"
     ]
    },
    {
     "name": "stderr",
     "output_type": "stream",
     "text": [
      "Val Epoch:22: 0it [00:00, ?it/s]503034)\u001b[0m \n",
      "Val Epoch:21: 47it [00:01, 25.76it/s]\u001b[32m [repeated 8x across cluster]\u001b[0m\n"
     ]
    },
    {
     "name": "stdout",
     "output_type": "stream",
     "text": [
      "\u001b[36m(tune_with_parameters pid=2428921)\u001b[0m loss: 0.000\u001b[32m [repeated 19x across cluster]\u001b[0m\n"
     ]
    },
    {
     "name": "stderr",
     "output_type": "stream",
     "text": [
      "Val Epoch:22: 47it [00:01, 30.24it/s]4)\u001b[0m \n",
      "Val Epoch:42: 0it [00:00, ?it/s]428921)\u001b[0m \n",
      "Val Epoch:22: 41it [00:01, 35.61it/s]\u001b[32m [repeated 10x across cluster]\u001b[0m\n"
     ]
    },
    {
     "name": "stdout",
     "output_type": "stream",
     "text": [
      "\u001b[36m(tune_with_parameters pid=2503034)\u001b[0m loss: 0.001\u001b[32m [repeated 14x across cluster]\u001b[0m\n"
     ]
    },
    {
     "name": "stderr",
     "output_type": "stream",
     "text": [
      "Val Epoch:23: 0it [00:00, ?it/s]503034)\u001b[0m \n",
      "Val Epoch:23: 21it [00:01, 27.72it/s]\u001b[32m [repeated 22x across cluster]\u001b[0m\n"
     ]
    },
    {
     "name": "stdout",
     "output_type": "stream",
     "text": [
      "\u001b[36m(tune_with_parameters pid=2428921)\u001b[0m loss: 0.000\u001b[32m [repeated 9x across cluster]\u001b[0m\n",
      "\u001b[36m(tune_with_parameters pid=2503034)\u001b[0m loss: 0.001\u001b[32m [repeated 16x across cluster]\u001b[0m\n"
     ]
    },
    {
     "name": "stderr",
     "output_type": "stream",
     "text": [
      "Val Epoch:24: 0it [00:00, ?it/s]503034)\u001b[0m \n",
      "Val Epoch:23: 47it [00:02, 23.49it/s]\u001b[32m [repeated 6x across cluster]\u001b[0m\n"
     ]
    },
    {
     "name": "stdout",
     "output_type": "stream",
     "text": [
      "\u001b[36m(tune_with_parameters pid=2503034)\u001b[0m loss: 0.001\u001b[32m [repeated 10x across cluster]\u001b[0m\n"
     ]
    },
    {
     "name": "stderr",
     "output_type": "stream",
     "text": [
      "Val Epoch:43: 0it [00:00, ?it/s]428921)\u001b[0m \n",
      "Val Epoch:24: 47it [00:01, 26.24it/s]\u001b[32m [repeated 13x across cluster]\u001b[0m\n"
     ]
    },
    {
     "name": "stdout",
     "output_type": "stream",
     "text": [
      "\u001b[36m(tune_with_parameters pid=2503034)\u001b[0m loss: 0.001\u001b[32m [repeated 16x across cluster]\u001b[0m\n"
     ]
    },
    {
     "name": "stderr",
     "output_type": "stream",
     "text": [
      "Val Epoch:25: 0it [00:00, ?it/s]503034)\u001b[0m \n",
      "Val Epoch:25: 30it [00:01, 29.42it/s]\u001b[32m [repeated 25x across cluster]\u001b[0m\n"
     ]
    },
    {
     "name": "stdout",
     "output_type": "stream",
     "text": [
      "\u001b[36m(tune_with_parameters pid=2503034)\u001b[0m loss: 0.001\u001b[32m [repeated 6x across cluster]\u001b[0m\n"
     ]
    },
    {
     "name": "stderr",
     "output_type": "stream",
     "text": [
      "Val Epoch:26: 0it [00:00, ?it/s]503034)\u001b[0m \n",
      "Val Epoch:25: 47it [00:02, 22.61it/s]\u001b[32m [repeated 4x across cluster]\u001b[0m\n"
     ]
    },
    {
     "name": "stdout",
     "output_type": "stream",
     "text": [
      "\u001b[36m(tune_with_parameters pid=2428921)\u001b[0m loss: 0.000\u001b[32m [repeated 18x across cluster]\u001b[0m\n",
      "\u001b[36m(tune_with_parameters pid=2428921)\u001b[0m loss: 0.000\u001b[32m [repeated 13x across cluster]\u001b[0m\n"
     ]
    },
    {
     "name": "stderr",
     "output_type": "stream",
     "text": [
      "Val Epoch:44: 0it [00:00, ?it/s]428921)\u001b[0m \n",
      "Val Epoch:26: 47it [00:01, 25.95it/s]\u001b[32m [repeated 12x across cluster]\u001b[0m\n"
     ]
    },
    {
     "name": "stdout",
     "output_type": "stream",
     "text": [
      "\u001b[36m(tune_with_parameters pid=2428921)\u001b[0m loss: 0.000\u001b[32m [repeated 9x across cluster]\u001b[0m\n",
      "\u001b[36m(tune_with_parameters pid=2428921)\u001b[0m loss: 0.000\u001b[32m [repeated 13x across cluster]\u001b[0m\n"
     ]
    },
    {
     "name": "stderr",
     "output_type": "stream",
     "text": [
      "Val Epoch:28: 0it [00:00, ?it/s]\u001b[32m [repeated 2x across cluster]\u001b[0m\n",
      "Val Epoch:27: 47it [00:02, 17.99it/s]\u001b[32m [repeated 30x across cluster]\u001b[0m\n"
     ]
    },
    {
     "name": "stdout",
     "output_type": "stream",
     "text": [
      "\u001b[36m(tune_with_parameters pid=2503034)\u001b[0m loss: 0.001\u001b[32m [repeated 12x across cluster]\u001b[0m\n"
     ]
    },
    {
     "name": "stderr",
     "output_type": "stream",
     "text": [
      "Val Epoch:45: 0it [00:00, ?it/s]428921)\u001b[0m \n",
      "Val Epoch:28: 47it [00:01, 25.27it/s]\u001b[32m [repeated 12x across cluster]\u001b[0m\n"
     ]
    },
    {
     "name": "stdout",
     "output_type": "stream",
     "text": [
      "\u001b[36m(tune_with_parameters pid=2503034)\u001b[0m loss: 0.002\u001b[32m [repeated 19x across cluster]\u001b[0m\n"
     ]
    },
    {
     "name": "stderr",
     "output_type": "stream",
     "text": [
      "Val Epoch:29: 0it [00:00, ?it/s]503034)\u001b[0m \n",
      "Val Epoch:29: 42it [00:01, 35.69it/s]4)\u001b[0m \n"
     ]
    },
    {
     "name": "stdout",
     "output_type": "stream",
     "text": [
      "\u001b[36m(tune_with_parameters pid=2428921)\u001b[0m loss: 0.000\u001b[32m [repeated 5x across cluster]\u001b[0m\n"
     ]
    },
    {
     "name": "stderr",
     "output_type": "stream",
     "text": [
      "Val Epoch:30: 0it [00:00, ?it/s]503034)\u001b[0m \n",
      "Val Epoch:45: 47it [00:03, 14.36it/s]\u001b[32m [repeated 28x across cluster]\u001b[0m\n"
     ]
    },
    {
     "name": "stdout",
     "output_type": "stream",
     "text": [
      "\u001b[36m(tune_with_parameters pid=2428921)\u001b[0m loss: 0.000\u001b[32m [repeated 18x across cluster]\u001b[0m\n",
      "\u001b[36m(tune_with_parameters pid=2428921)\u001b[0m loss: 0.000\u001b[32m [repeated 15x across cluster]\u001b[0m\n"
     ]
    },
    {
     "name": "stderr",
     "output_type": "stream",
     "text": [
      "Val Epoch:31: 0it [00:00, ?it/s]503034)\u001b[0m \n",
      "Val Epoch:30: 47it [00:01, 34.39it/s]\u001b[32m [repeated 11x across cluster]\u001b[0m\n"
     ]
    },
    {
     "name": "stdout",
     "output_type": "stream",
     "text": [
      "\u001b[36m(tune_with_parameters pid=2503034)\u001b[0m loss: 0.002\u001b[32m [repeated 8x across cluster]\u001b[0m\n",
      "\u001b[36m(tune_with_parameters pid=2503034)\u001b[0m loss: 0.001\u001b[32m [repeated 16x across cluster]\u001b[0m\n"
     ]
    },
    {
     "name": "stderr",
     "output_type": "stream",
     "text": [
      "Val Epoch:32: 0it [00:00, ?it/s]\u001b[32m [repeated 2x across cluster]\u001b[0m\n",
      "Val Epoch:46: 47it [00:03, 15.57it/s]\u001b[32m [repeated 30x across cluster]\u001b[0m\n"
     ]
    },
    {
     "name": "stdout",
     "output_type": "stream",
     "text": [
      "\u001b[36m(tune_with_parameters pid=2503034)\u001b[0m loss: 0.000\u001b[32m [repeated 13x across cluster]\u001b[0m\n"
     ]
    },
    {
     "name": "stderr",
     "output_type": "stream",
     "text": [
      "Val Epoch:33: 0it [00:00, ?it/s]503034)\u001b[0m \n",
      "Val Epoch:32: 47it [00:01, 28.51it/s]\u001b[32m [repeated 11x across cluster]\u001b[0m\n"
     ]
    },
    {
     "name": "stdout",
     "output_type": "stream",
     "text": [
      "\u001b[36m(tune_with_parameters pid=2428921)\u001b[0m loss: 0.000\u001b[32m [repeated 15x across cluster]\u001b[0m\n"
     ]
    },
    {
     "name": "stderr",
     "output_type": "stream",
     "text": [
      "Val Epoch:47: 0it [00:00, ?it/s]428921)\u001b[0m \n",
      "Val Epoch:47: 47it [00:03, 14.96it/s]\u001b[32m [repeated 30x across cluster]\u001b[0m\n"
     ]
    },
    {
     "name": "stdout",
     "output_type": "stream",
     "text": [
      "\u001b[36m(tune_with_parameters pid=2503034)\u001b[0m loss: 0.000\u001b[32m [repeated 7x across cluster]\u001b[0m\n"
     ]
    },
    {
     "name": "stderr",
     "output_type": "stream",
     "text": [
      "Val Epoch:34: 0it [00:00, ?it/s]503034)\u001b[0m \n",
      "Val Epoch:34: 1it [00:00,  3.79it/s]34)\u001b[0m \n",
      "Val Epoch:34: 6it [00:00, 19.23it/s]34)\u001b[0m \n",
      "Val Epoch:34: 11it [00:00, 28.82it/s]4)\u001b[0m \n",
      "Val Epoch:34: 16it [00:00, 34.11it/s]4)\u001b[0m \n",
      "Val Epoch:34: 22it [00:00, 39.73it/s]4)\u001b[0m \n",
      "Val Epoch:34: 27it [00:00, 37.46it/s]4)\u001b[0m \n"
     ]
    },
    {
     "name": "stdout",
     "output_type": "stream",
     "text": [
      "\u001b[36m(tune_with_parameters pid=2428921)\u001b[0m loss: 0.000\u001b[32m [repeated 14x across cluster]\u001b[0m\n"
     ]
    },
    {
     "name": "stderr",
     "output_type": "stream",
     "text": [
      "Val Epoch:34: 32it [00:00, 39.51it/s]4)\u001b[0m \n",
      "Val Epoch:34: 37it [00:01, 40.74it/s]4)\u001b[0m \n",
      "Val Epoch:34: 42it [00:01, 37.22it/s]4)\u001b[0m \n",
      "Val Epoch:34: 47it [00:01, 33.99it/s]4)\u001b[0m \n"
     ]
    },
    {
     "name": "stdout",
     "output_type": "stream",
     "text": [
      "\u001b[36m(tune_with_parameters pid=2428921)\u001b[0m loss: 0.000\u001b[32m [repeated 15x across cluster]\u001b[0m\n"
     ]
    },
    {
     "name": "stderr",
     "output_type": "stream",
     "text": [
      "Val Epoch:35: 0it [00:00, ?it/s]503034)\u001b[0m \n",
      "Val Epoch:35: 1it [00:00,  3.27it/s]34)\u001b[0m \n",
      "Val Epoch:35: 2it [00:00,  4.09it/s]34)\u001b[0m \n",
      "Val Epoch:35: 6it [00:00, 13.07it/s]34)\u001b[0m \n",
      "Val Epoch:35: 10it [00:00, 19.03it/s]4)\u001b[0m \n",
      "Val Epoch:35: 16it [00:00, 27.38it/s]4)\u001b[0m \n",
      "Val Epoch:35: 20it [00:00, 29.01it/s]4)\u001b[0m \n",
      "Val Epoch:35: 25it [00:01, 32.45it/s]4)\u001b[0m \n",
      "Val Epoch:35: 30it [00:01, 35.92it/s]4)\u001b[0m \n",
      "Val Epoch:35: 34it [00:01, 35.31it/s]4)\u001b[0m \n",
      "Val Epoch:35: 38it [00:01, 34.46it/s]4)\u001b[0m \n",
      "Val Epoch:35: 42it [00:01, 25.18it/s]4)\u001b[0m \n",
      "Val Epoch:35: 45it [00:01, 25.68it/s]4)\u001b[0m \n",
      "Val Epoch:35: 47it [00:01, 24.27it/s]4)\u001b[0m \n"
     ]
    },
    {
     "name": "stdout",
     "output_type": "stream",
     "text": [
      "\u001b[36m(tune_with_parameters pid=2503034)\u001b[0m loss: 0.000\u001b[32m [repeated 10x across cluster]\u001b[0m\n"
     ]
    },
    {
     "name": "stderr",
     "output_type": "stream",
     "text": [
      "Val Epoch:48: 0it [00:00, ?it/s]428921)\u001b[0m \n"
     ]
    },
    {
     "name": "stdout",
     "output_type": "stream",
     "text": [
      "\u001b[36m(tune_with_parameters pid=2503034)\u001b[0m loss: 0.000\u001b[32m [repeated 13x across cluster]\u001b[0m\n"
     ]
    },
    {
     "name": "stderr",
     "output_type": "stream",
     "text": [
      "Val Epoch:36: 0it [00:00, ?it/s]503034)\u001b[0m \n",
      "Val Epoch:48: 47it [00:02, 20.15it/s]\u001b[32m [repeated 17x across cluster]\u001b[0m\n"
     ]
    },
    {
     "name": "stdout",
     "output_type": "stream",
     "text": [
      "\u001b[36m(tune_with_parameters pid=2428921)\u001b[0m loss: 0.000\u001b[32m [repeated 10x across cluster]\u001b[0m\n"
     ]
    },
    {
     "name": "stderr",
     "output_type": "stream",
     "text": [
      "Val Epoch:37: 0it [00:00, ?it/s]503034)\u001b[0m \n",
      "Val Epoch:36: 47it [00:01, 24.70it/s]\u001b[32m [repeated 14x across cluster]\u001b[0m\n"
     ]
    },
    {
     "name": "stdout",
     "output_type": "stream",
     "text": [
      "\u001b[36m(tune_with_parameters pid=2428921)\u001b[0m loss: 0.000\u001b[32m [repeated 19x across cluster]\u001b[0m\n"
     ]
    },
    {
     "name": "stderr",
     "output_type": "stream",
     "text": [
      "Val Epoch:49: 0it [00:00, ?it/s]428921)\u001b[0m \n",
      "Val Epoch:49: 32it [00:02, 21.64it/s]\u001b[32m [repeated 24x across cluster]\u001b[0m\n"
     ]
    },
    {
     "name": "stdout",
     "output_type": "stream",
     "text": [
      "\u001b[36m(tune_with_parameters pid=2503034)\u001b[0m loss: 0.000\u001b[32m [repeated 9x across cluster]\u001b[0m\n"
     ]
    },
    {
     "name": "stderr",
     "output_type": "stream",
     "text": [
      "Val Epoch:38: 0it [00:00, ?it/s]503034)\u001b[0m \n",
      "Val Epoch:38: 1it [00:00,  2.00it/s]\u001b[32m [repeated 6x across cluster]\u001b[0m\n"
     ]
    },
    {
     "name": "stdout",
     "output_type": "stream",
     "text": [
      "\u001b[36m(tune_with_parameters pid=2428921)\u001b[0m loss: 0.000\u001b[32m [repeated 13x across cluster]\u001b[0m\n",
      "\u001b[36m(tune_with_parameters pid=2503034)\u001b[0m loss: 0.000\u001b[32m [repeated 14x across cluster]\u001b[0m\n"
     ]
    },
    {
     "name": "stderr",
     "output_type": "stream",
     "text": [
      "Val Epoch:39: 0it [00:00, ?it/s]503034)\u001b[0m \n",
      "Val Epoch:38: 47it [00:01, 26.09it/s]\u001b[32m [repeated 11x across cluster]\u001b[0m\n"
     ]
    },
    {
     "name": "stdout",
     "output_type": "stream",
     "text": [
      "\u001b[36m(tune_with_parameters pid=2428921)\u001b[0m loss: 0.000\u001b[32m [repeated 11x across cluster]\u001b[0m\n"
     ]
    },
    {
     "name": "stderr",
     "output_type": "stream",
     "text": [
      "Val Epoch:50: 0it [00:00, ?it/s]428921)\u001b[0m \n",
      "Val Epoch:50: 6it [00:00, 11.01it/s]\u001b[32m [repeated 16x across cluster]\u001b[0m\n"
     ]
    },
    {
     "name": "stdout",
     "output_type": "stream",
     "text": [
      "\u001b[36m(tune_with_parameters pid=2503034)\u001b[0m loss: 0.000\u001b[32m [repeated 12x across cluster]\u001b[0m\n"
     ]
    },
    {
     "name": "stderr",
     "output_type": "stream",
     "text": [
      "Val Epoch:40: 0it [00:00, ?it/s]503034)\u001b[0m \n",
      "Val Epoch:40: 6it [00:00, 18.21it/s]\u001b[32m [repeated 16x across cluster]\u001b[0m\n"
     ]
    },
    {
     "name": "stdout",
     "output_type": "stream",
     "text": [
      "\u001b[36m(tune_with_parameters pid=2428921)\u001b[0m loss: 0.000\u001b[32m [repeated 9x across cluster]\u001b[0m\n",
      "\u001b[36m(tune_with_parameters pid=2428921)\u001b[0m \n",
      "\u001b[36m(tune_with_parameters pid=2428921)\u001b[0m loss: 0.000\u001b[32m [repeated 19x across cluster]\u001b[0m\n"
     ]
    },
    {
     "name": "stderr",
     "output_type": "stream",
     "text": [
      "Val Epoch:41: 0it [00:00, ?it/s]503034)\u001b[0m \n",
      "Val Epoch:40: 47it [00:01, 31.74it/s]\u001b[32m [repeated 9x across cluster]\u001b[0m\n"
     ]
    },
    {
     "name": "stdout",
     "output_type": "stream",
     "text": [
      "\u001b[36m(tune_with_parameters pid=2428921)\u001b[0m loss: 0.000\u001b[32m [repeated 13x across cluster]\u001b[0m\n"
     ]
    },
    {
     "name": "stderr",
     "output_type": "stream",
     "text": [
      "Val Epoch:51: 0it [00:00, ?it/s]428921)\u001b[0m \n",
      "Val Epoch:41: 47it [00:01, 29.05it/s]\u001b[32m [repeated 12x across cluster]\u001b[0m\n"
     ]
    },
    {
     "name": "stdout",
     "output_type": "stream",
     "text": [
      "\u001b[36m(tune_with_parameters pid=2428921)\u001b[0m loss: 0.000\u001b[32m [repeated 9x across cluster]\u001b[0m\n"
     ]
    },
    {
     "name": "stderr",
     "output_type": "stream",
     "text": [
      "Val Epoch:42: 0it [00:00, ?it/s]503034)\u001b[0m \n",
      "Val Epoch:42: 47it [00:01, 26.54it/s]\u001b[32m [repeated 30x across cluster]\u001b[0m\n"
     ]
    },
    {
     "name": "stdout",
     "output_type": "stream",
     "text": [
      "\u001b[36m(tune_with_parameters pid=2428921)\u001b[0m loss: 0.000\u001b[32m [repeated 16x across cluster]\u001b[0m\n"
     ]
    },
    {
     "name": "stderr",
     "output_type": "stream",
     "text": [
      "Val Epoch:43: 0it [00:00, ?it/s]503034)\u001b[0m \n",
      "Val Epoch:43: 1it [00:00,  1.52it/s]34)\u001b[0m \n",
      "Val Epoch:43: 5it [00:00,  8.00it/s]34)\u001b[0m \n",
      "Val Epoch:43: 10it [00:00, 15.73it/s]4)\u001b[0m \n",
      "Val Epoch:43: 15it [00:01, 22.13it/s]4)\u001b[0m \n",
      "Val Epoch:43: 19it [00:01, 25.82it/s]4)\u001b[0m \n",
      "Val Epoch:43: 24it [00:01, 29.47it/s]4)\u001b[0m \n",
      "Val Epoch:43: 28it [00:01, 30.62it/s]4)\u001b[0m \n",
      "Val Epoch:43: 33it [00:01, 35.12it/s]4)\u001b[0m \n",
      "Val Epoch:43: 38it [00:01, 37.59it/s]4)\u001b[0m \n",
      "Val Epoch:43: 43it [00:01, 38.00it/s]4)\u001b[0m \n",
      "Val Epoch:43: 47it [00:01, 25.44it/s]4)\u001b[0m \n"
     ]
    },
    {
     "name": "stdout",
     "output_type": "stream",
     "text": [
      "\u001b[36m(tune_with_parameters pid=2428921)\u001b[0m loss: 0.000\u001b[32m [repeated 10x across cluster]\u001b[0m\n"
     ]
    },
    {
     "name": "stderr",
     "output_type": "stream",
     "text": [
      "Val Epoch:52: 0it [00:00, ?it/s]428921)\u001b[0m \n",
      "Val Epoch:52: 1it [00:00,  5.78it/s]21)\u001b[0m \n",
      "Val Epoch:52: 3it [00:00, 11.54it/s]21)\u001b[0m \n",
      "Val Epoch:52: 5it [00:00, 13.09it/s]21)\u001b[0m \n",
      "Val Epoch:52: 7it [00:00, 14.13it/s]21)\u001b[0m \n",
      "Val Epoch:52: 10it [00:00, 16.53it/s]1)\u001b[0m \n",
      "Val Epoch:52: 13it [00:00, 18.41it/s]1)\u001b[0m \n",
      "Val Epoch:52: 16it [00:00, 20.69it/s]1)\u001b[0m \n",
      "Val Epoch:52: 19it [00:01, 22.70it/s]1)\u001b[0m \n"
     ]
    },
    {
     "name": "stdout",
     "output_type": "stream",
     "text": [
      "\u001b[36m(tune_with_parameters pid=2503034)\u001b[0m loss: 0.000\u001b[32m [repeated 17x across cluster]\u001b[0m\n"
     ]
    },
    {
     "name": "stderr",
     "output_type": "stream",
     "text": [
      "Val Epoch:52: 22it [00:01, 15.12it/s]1)\u001b[0m \n",
      "Val Epoch:44: 0it [00:00, ?it/s]503034)\u001b[0m \n",
      "Val Epoch:52: 25it [00:01, 12.43it/s]1)\u001b[0m \n",
      "Val Epoch:52: 27it [00:01, 12.75it/s]1)\u001b[0m \n"
     ]
    },
    {
     "name": "stdout",
     "output_type": "stream",
     "text": [
      "\u001b[36m(tune_with_parameters pid=2503034)\u001b[0m loss: 0.000\u001b[32m [repeated 8x across cluster]\u001b[0m\n"
     ]
    },
    {
     "name": "stderr",
     "output_type": "stream",
     "text": [
      "Val Epoch:45: 0it [00:00, ?it/s]503034)\u001b[0m \n",
      "Val Epoch:44: 47it [00:01, 23.78it/s]\u001b[32m [repeated 19x across cluster]\u001b[0m\n"
     ]
    },
    {
     "name": "stdout",
     "output_type": "stream",
     "text": [
      "\u001b[36m(tune_with_parameters pid=2428921)\u001b[0m loss: 0.000\u001b[32m [repeated 16x across cluster]\u001b[0m\n",
      "\u001b[36m(tune_with_parameters pid=2428921)\u001b[0m loss: 0.000\u001b[32m [repeated 15x across cluster]\u001b[0m\n"
     ]
    },
    {
     "name": "stderr",
     "output_type": "stream",
     "text": [
      "Val Epoch:53: 0it [00:00, ?it/s]428921)\u001b[0m \n",
      "Val Epoch:45: 47it [00:01, 35.05it/s]\u001b[32m [repeated 11x across cluster]\u001b[0m\n"
     ]
    },
    {
     "name": "stdout",
     "output_type": "stream",
     "text": [
      "\u001b[36m(tune_with_parameters pid=2503034)\u001b[0m loss: 0.000\u001b[32m [repeated 7x across cluster]\u001b[0m\n",
      "\u001b[36m(tune_with_parameters pid=2503034)\u001b[0m loss: 0.000\u001b[32m [repeated 20x across cluster]\u001b[0m\n"
     ]
    },
    {
     "name": "stderr",
     "output_type": "stream",
     "text": [
      "Val Epoch:47: 0it [00:00, ?it/s]\u001b[32m [repeated 2x across cluster]\u001b[0m\n",
      "Val Epoch:53: 47it [00:02, 16.87it/s]\u001b[32m [repeated 28x across cluster]\u001b[0m\n"
     ]
    },
    {
     "name": "stdout",
     "output_type": "stream",
     "text": [
      "\u001b[36m(tune_with_parameters pid=2428921)\u001b[0m loss: 0.000\u001b[32m [repeated 11x across cluster]\u001b[0m\n"
     ]
    },
    {
     "name": "stderr",
     "output_type": "stream",
     "text": [
      "Val Epoch:48: 0it [00:00, ?it/s]503034)\u001b[0m \n",
      "Val Epoch:47: 47it [00:01, 27.21it/s]\u001b[32m [repeated 12x across cluster]\u001b[0m\n",
      "Val Epoch:54: 0it [00:00, ?it/s]428921)\u001b[0m \n"
     ]
    },
    {
     "name": "stdout",
     "output_type": "stream",
     "text": [
      "\u001b[36m(tune_with_parameters pid=2428921)\u001b[0m loss: 0.000\u001b[32m [repeated 14x across cluster]\u001b[0m\n",
      "\u001b[36m(tune_with_parameters pid=2428921)\u001b[0m loss: 0.000\u001b[32m [repeated 10x across cluster]\u001b[0m\n"
     ]
    },
    {
     "name": "stderr",
     "output_type": "stream",
     "text": [
      "Val Epoch:55: 0it [00:00, ?it/s]428921)\u001b[0m \n",
      "Val Epoch:54: 47it [00:02, 17.80it/s]\u001b[32m [repeated 28x across cluster]\u001b[0m\n"
     ]
    },
    {
     "name": "stdout",
     "output_type": "stream",
     "text": [
      "\u001b[36m(tune_with_parameters pid=2428921)\u001b[0m loss: 0.000\u001b[32m [repeated 6x across cluster]\u001b[0m\n",
      "\u001b[36m(tune_with_parameters pid=2428921)\u001b[0m loss: 0.000\u001b[32m [repeated 10x across cluster]\u001b[0m\n"
     ]
    },
    {
     "name": "stderr",
     "output_type": "stream",
     "text": [
      "Val Epoch:56: 0it [00:00, ?it/s]428921)\u001b[0m \n",
      "Val Epoch:55: 47it [00:01, 36.09it/s]\u001b[32m [repeated 10x across cluster]\u001b[0m\n",
      "Val Epoch:56: 17it [00:00, 32.68it/s]1)\u001b[0m \n",
      "Val Epoch:56: 47it [00:01, 32.60it/s]1)\u001b[0m \n"
     ]
    },
    {
     "name": "stdout",
     "output_type": "stream",
     "text": [
      "\u001b[36m(tune_with_parameters pid=2428921)\u001b[0m loss: 0.000\u001b[32m [repeated 6x across cluster]\u001b[0m\n",
      "\u001b[36m(tune_with_parameters pid=2428921)\u001b[0m loss: 0.000\u001b[32m [repeated 10x across cluster]\u001b[0m\n"
     ]
    },
    {
     "name": "stderr",
     "output_type": "stream",
     "text": [
      "Val Epoch:57: 0it [00:00, ?it/s]428921)\u001b[0m \n",
      "Val Epoch:56: 41it [00:01, 41.55it/s]\u001b[32m [repeated 7x across cluster]\u001b[0m\n"
     ]
    },
    {
     "name": "stdout",
     "output_type": "stream",
     "text": [
      "\u001b[36m(tune_with_parameters pid=2428921)\u001b[0m loss: 0.000\u001b[32m [repeated 6x across cluster]\u001b[0m\n",
      "\u001b[36m(tune_with_parameters pid=2428921)\u001b[0m loss: 0.000\u001b[32m [repeated 10x across cluster]\u001b[0m\n"
     ]
    },
    {
     "name": "stderr",
     "output_type": "stream",
     "text": [
      "Val Epoch:58: 0it [00:00, ?it/s]428921)\u001b[0m \n",
      "Val Epoch:57: 47it [00:01, 33.24it/s]\u001b[32m [repeated 10x across cluster]\u001b[0m\n",
      "Val Epoch:58: 47it [00:01, 32.45it/s]1)\u001b[0m \n"
     ]
    },
    {
     "name": "stdout",
     "output_type": "stream",
     "text": [
      "\u001b[36m(tune_with_parameters pid=2428921)\u001b[0m loss: 0.000\u001b[32m [repeated 5x across cluster]\u001b[0m\n",
      "\u001b[36m(tune_with_parameters pid=2428921)\u001b[0m loss: 0.000\u001b[32m [repeated 10x across cluster]\u001b[0m\n"
     ]
    },
    {
     "name": "stderr",
     "output_type": "stream",
     "text": [
      "Val Epoch:59: 0it [00:00, ?it/s]428921)\u001b[0m \n",
      "Val Epoch:58: 41it [00:01, 42.13it/s]\u001b[32m [repeated 9x across cluster]\u001b[0m\n"
     ]
    },
    {
     "name": "stdout",
     "output_type": "stream",
     "text": [
      "\u001b[36m(tune_with_parameters pid=2428921)\u001b[0m loss: 0.000\u001b[32m [repeated 5x across cluster]\u001b[0m\n",
      "\u001b[36m(tune_with_parameters pid=2428921)\u001b[0m loss: 0.000\u001b[32m [repeated 10x across cluster]\u001b[0m\n"
     ]
    },
    {
     "name": "stderr",
     "output_type": "stream",
     "text": [
      "Val Epoch:60: 0it [00:00, ?it/s]428921)\u001b[0m \n",
      "Val Epoch:59: 47it [00:01, 32.65it/s]\u001b[32m [repeated 10x across cluster]\u001b[0m\n"
     ]
    },
    {
     "name": "stdout",
     "output_type": "stream",
     "text": [
      "\u001b[36m(tune_with_parameters pid=2428921)\u001b[0m loss: 0.000\u001b[32m [repeated 5x across cluster]\u001b[0m\n",
      "\u001b[36m(tune_with_parameters pid=2428921)\u001b[0m loss: 0.000\u001b[32m [repeated 10x across cluster]\u001b[0m\n"
     ]
    },
    {
     "name": "stderr",
     "output_type": "stream",
     "text": [
      "Val Epoch:61: 0it [00:00, ?it/s]428921)\u001b[0m \n",
      "Val Epoch:60: 47it [00:01, 42.86it/s]\u001b[32m [repeated 10x across cluster]\u001b[0m\n"
     ]
    },
    {
     "name": "stdout",
     "output_type": "stream",
     "text": [
      "\u001b[36m(tune_with_parameters pid=2428921)\u001b[0m loss: 0.000\u001b[32m [repeated 5x across cluster]\u001b[0m\n",
      "\u001b[36m(tune_with_parameters pid=2428921)\u001b[0m loss: 0.000\u001b[32m [repeated 10x across cluster]\u001b[0m\n"
     ]
    },
    {
     "name": "stderr",
     "output_type": "stream",
     "text": [
      "Val Epoch:62: 0it [00:00, ?it/s]428921)\u001b[0m \n",
      "Val Epoch:61: 47it [00:01, 39.97it/s]\u001b[32m [repeated 10x across cluster]\u001b[0m\n"
     ]
    },
    {
     "name": "stdout",
     "output_type": "stream",
     "text": [
      "\u001b[36m(tune_with_parameters pid=2428921)\u001b[0m loss: 0.000\u001b[32m [repeated 5x across cluster]\u001b[0m\n",
      "\u001b[36m(tune_with_parameters pid=2428921)\u001b[0m loss: 0.000\u001b[32m [repeated 10x across cluster]\u001b[0m\n"
     ]
    },
    {
     "name": "stderr",
     "output_type": "stream",
     "text": [
      "Val Epoch:63: 0it [00:00, ?it/s]428921)\u001b[0m \n",
      "Val Epoch:62: 47it [00:01, 32.84it/s]\u001b[32m [repeated 10x across cluster]\u001b[0m\n"
     ]
    },
    {
     "name": "stdout",
     "output_type": "stream",
     "text": [
      "\u001b[36m(tune_with_parameters pid=2428921)\u001b[0m loss: 0.000\u001b[32m [repeated 5x across cluster]\u001b[0m\n",
      "\u001b[36m(tune_with_parameters pid=2428921)\u001b[0m loss: 0.000\u001b[32m [repeated 10x across cluster]\u001b[0m\n"
     ]
    },
    {
     "name": "stderr",
     "output_type": "stream",
     "text": [
      "Val Epoch:64: 0it [00:00, ?it/s]428921)\u001b[0m \n",
      "Val Epoch:63: 47it [00:01, 30.94it/s]\u001b[32m [repeated 11x across cluster]\u001b[0m\n"
     ]
    },
    {
     "name": "stdout",
     "output_type": "stream",
     "text": [
      "\u001b[36m(tune_with_parameters pid=2428921)\u001b[0m loss: 0.000\u001b[32m [repeated 6x across cluster]\u001b[0m\n",
      "\u001b[36m(tune_with_parameters pid=2428921)\u001b[0m loss: 0.000\u001b[32m [repeated 10x across cluster]\u001b[0m\n"
     ]
    },
    {
     "name": "stderr",
     "output_type": "stream",
     "text": [
      "Val Epoch:65: 0it [00:00, ?it/s]428921)\u001b[0m \n",
      "Val Epoch:64: 47it [00:01, 39.69it/s]\u001b[32m [repeated 10x across cluster]\u001b[0m\n",
      "Val Epoch:65: 47it [00:01, 34.45it/s]1)\u001b[0m \n"
     ]
    },
    {
     "name": "stdout",
     "output_type": "stream",
     "text": [
      "\u001b[36m(tune_with_parameters pid=2428921)\u001b[0m loss: 0.000\u001b[32m [repeated 6x across cluster]\u001b[0m\n"
     ]
    },
    {
     "name": "stderr",
     "output_type": "stream",
     "text": [
      "Val Epoch:66: 0it [00:00, ?it/s]428921)\u001b[0m \n",
      "Val Epoch:65: 41it [00:01, 46.39it/s]\u001b[32m [repeated 8x across cluster]\u001b[0m\n",
      "Val Epoch:66: 47it [00:01, 45.98it/s]1)\u001b[0m \n"
     ]
    },
    {
     "name": "stdout",
     "output_type": "stream",
     "text": [
      "\u001b[36m(tune_with_parameters pid=2428921)\u001b[0m loss: 0.000\u001b[32m [repeated 10x across cluster]\u001b[0m\n",
      "\u001b[36m(tune_with_parameters pid=2428921)\u001b[0m loss: 0.000\u001b[32m [repeated 10x across cluster]\u001b[0m\n"
     ]
    },
    {
     "name": "stderr",
     "output_type": "stream",
     "text": [
      "Val Epoch:67: 0it [00:00, ?it/s]428921)\u001b[0m \n",
      "Val Epoch:66: 41it [00:00, 48.43it/s]\u001b[32m [repeated 8x across cluster]\u001b[0m\n"
     ]
    },
    {
     "name": "stdout",
     "output_type": "stream",
     "text": [
      "\u001b[36m(tune_with_parameters pid=2428921)\u001b[0m loss: 0.000\u001b[32m [repeated 5x across cluster]\u001b[0m\n",
      "\u001b[36m(tune_with_parameters pid=2428921)\u001b[0m loss: 0.000\u001b[32m [repeated 10x across cluster]\u001b[0m\n"
     ]
    },
    {
     "name": "stderr",
     "output_type": "stream",
     "text": [
      "Val Epoch:68: 0it [00:00, ?it/s]428921)\u001b[0m \n",
      "Val Epoch:67: 47it [00:01, 36.04it/s]\u001b[32m [repeated 10x across cluster]\u001b[0m\n"
     ]
    },
    {
     "name": "stdout",
     "output_type": "stream",
     "text": [
      "\u001b[36m(tune_with_parameters pid=2428921)\u001b[0m loss: 0.000\u001b[32m [repeated 6x across cluster]\u001b[0m\n",
      "\u001b[36m(tune_with_parameters pid=2428921)\u001b[0m loss: 0.000\u001b[32m [repeated 10x across cluster]\u001b[0m\n"
     ]
    },
    {
     "name": "stderr",
     "output_type": "stream",
     "text": [
      "Val Epoch:69: 0it [00:00, ?it/s]428921)\u001b[0m \n",
      "Val Epoch:68: 47it [00:01, 41.98it/s]\u001b[32m [repeated 10x across cluster]\u001b[0m\n",
      "Val Epoch:69: 47it [00:01, 27.50it/s]1)\u001b[0m \n"
     ]
    },
    {
     "name": "stdout",
     "output_type": "stream",
     "text": [
      "\u001b[36m(tune_with_parameters pid=2428921)\u001b[0m loss: 0.000\u001b[32m [repeated 5x across cluster]\u001b[0m\n",
      "\u001b[36m(tune_with_parameters pid=2428921)\u001b[0m loss: 0.000\u001b[32m [repeated 10x across cluster]\u001b[0m\n"
     ]
    },
    {
     "name": "stderr",
     "output_type": "stream",
     "text": [
      "Val Epoch:70: 0it [00:00, ?it/s]428921)\u001b[0m \n",
      "Val Epoch:69: 41it [00:01, 42.46it/s]\u001b[32m [repeated 8x across cluster]\u001b[0m\n"
     ]
    },
    {
     "name": "stdout",
     "output_type": "stream",
     "text": [
      "\u001b[36m(tune_with_parameters pid=2428921)\u001b[0m loss: 0.000\u001b[32m [repeated 5x across cluster]\u001b[0m\n",
      "\u001b[36m(tune_with_parameters pid=2428921)\u001b[0m loss: 0.000\u001b[32m [repeated 10x across cluster]\u001b[0m\n"
     ]
    },
    {
     "name": "stderr",
     "output_type": "stream",
     "text": [
      "Val Epoch:71: 0it [00:00, ?it/s]428921)\u001b[0m \n",
      "Val Epoch:70: 47it [00:01, 32.33it/s]\u001b[32m [repeated 11x across cluster]\u001b[0m\n"
     ]
    },
    {
     "name": "stdout",
     "output_type": "stream",
     "text": [
      "\u001b[36m(tune_with_parameters pid=2428921)\u001b[0m loss: 0.000\u001b[32m [repeated 6x across cluster]\u001b[0m\n",
      "\u001b[36m(tune_with_parameters pid=2428921)\u001b[0m loss: 0.000\u001b[32m [repeated 10x across cluster]\u001b[0m\n"
     ]
    },
    {
     "name": "stderr",
     "output_type": "stream",
     "text": [
      "Val Epoch:72: 0it [00:00, ?it/s]428921)\u001b[0m \n",
      "Val Epoch:71: 47it [00:01, 41.53it/s]\u001b[32m [repeated 10x across cluster]\u001b[0m\n",
      "Val Epoch:72: 47it [00:01, 35.00it/s]1)\u001b[0m \n"
     ]
    },
    {
     "name": "stdout",
     "output_type": "stream",
     "text": [
      "\u001b[36m(tune_with_parameters pid=2428921)\u001b[0m loss: 0.000\u001b[32m [repeated 6x across cluster]\u001b[0m\n",
      "\u001b[36m(tune_with_parameters pid=2428921)\u001b[0m loss: 0.000\u001b[32m [repeated 10x across cluster]\u001b[0m\n"
     ]
    },
    {
     "name": "stderr",
     "output_type": "stream",
     "text": [
      "Val Epoch:73: 0it [00:00, ?it/s]428921)\u001b[0m \n",
      "Val Epoch:72: 41it [00:01, 44.64it/s]\u001b[32m [repeated 9x across cluster]\u001b[0m\n"
     ]
    },
    {
     "name": "stdout",
     "output_type": "stream",
     "text": [
      "\u001b[36m(tune_with_parameters pid=2428921)\u001b[0m loss: 0.000\u001b[32m [repeated 6x across cluster]\u001b[0m\n",
      "\u001b[36m(tune_with_parameters pid=2428921)\u001b[0m loss: 0.000\u001b[32m [repeated 10x across cluster]\u001b[0m\n"
     ]
    },
    {
     "name": "stderr",
     "output_type": "stream",
     "text": [
      "Val Epoch:74: 0it [00:00, ?it/s]428921)\u001b[0m \n",
      "Val Epoch:73: 47it [00:01, 34.62it/s]\u001b[32m [repeated 11x across cluster]\u001b[0m\n"
     ]
    },
    {
     "name": "stdout",
     "output_type": "stream",
     "text": [
      "\u001b[36m(tune_with_parameters pid=2428921)\u001b[0m loss: 0.000\u001b[32m [repeated 6x across cluster]\u001b[0m\n"
     ]
    },
    {
     "name": "stderr",
     "output_type": "stream",
     "text": [
      "Val Epoch:75: 0it [00:00, ?it/s]428921)\u001b[0m \n",
      "Val Epoch:74: 47it [00:01, 32.22it/s]\u001b[32m [repeated 10x across cluster]\u001b[0m\n"
     ]
    },
    {
     "name": "stdout",
     "output_type": "stream",
     "text": [
      "\u001b[36m(tune_with_parameters pid=2428921)\u001b[0m loss: 0.000\u001b[32m [repeated 10x across cluster]\u001b[0m\n",
      "\u001b[36m(tune_with_parameters pid=2428921)\u001b[0m loss: 0.000\u001b[32m [repeated 10x across cluster]\u001b[0m\n"
     ]
    },
    {
     "name": "stderr",
     "output_type": "stream",
     "text": [
      "Val Epoch:76: 0it [00:00, ?it/s]428921)\u001b[0m \n",
      "Val Epoch:75: 47it [00:01, 28.02it/s]\u001b[32m [repeated 10x across cluster]\u001b[0m\n"
     ]
    },
    {
     "name": "stdout",
     "output_type": "stream",
     "text": [
      "\u001b[36m(tune_with_parameters pid=2428921)\u001b[0m loss: 0.000\u001b[32m [repeated 6x across cluster]\u001b[0m\n",
      "\u001b[36m(tune_with_parameters pid=2428921)\u001b[0m loss: 0.000\u001b[32m [repeated 10x across cluster]\u001b[0m\n"
     ]
    },
    {
     "name": "stderr",
     "output_type": "stream",
     "text": [
      "Val Epoch:77: 0it [00:00, ?it/s]428921)\u001b[0m \n",
      "Val Epoch:76: 47it [00:01, 28.74it/s]\u001b[32m [repeated 11x across cluster]\u001b[0m\n"
     ]
    },
    {
     "name": "stdout",
     "output_type": "stream",
     "text": [
      "\u001b[36m(tune_with_parameters pid=2428921)\u001b[0m loss: 0.000\u001b[32m [repeated 5x across cluster]\u001b[0m\n",
      "\u001b[36m(tune_with_parameters pid=2428921)\u001b[0m loss: 0.000\u001b[32m [repeated 10x across cluster]\u001b[0m\n"
     ]
    },
    {
     "name": "stderr",
     "output_type": "stream",
     "text": [
      "Val Epoch:78: 0it [00:00, ?it/s]428921)\u001b[0m \n",
      "Val Epoch:77: 47it [00:01, 26.21it/s]\u001b[32m [repeated 11x across cluster]\u001b[0m\n"
     ]
    },
    {
     "name": "stdout",
     "output_type": "stream",
     "text": [
      "\u001b[36m(tune_with_parameters pid=2428921)\u001b[0m loss: 0.000\u001b[32m [repeated 5x across cluster]\u001b[0m\n",
      "\u001b[36m(tune_with_parameters pid=2428921)\u001b[0m loss: 0.000\u001b[32m [repeated 10x across cluster]\u001b[0m\n"
     ]
    },
    {
     "name": "stderr",
     "output_type": "stream",
     "text": [
      "Val Epoch:79: 0it [00:00, ?it/s]428921)\u001b[0m \n",
      "Val Epoch:78: 47it [00:01, 33.11it/s]\u001b[32m [repeated 11x across cluster]\u001b[0m\n"
     ]
    },
    {
     "name": "stdout",
     "output_type": "stream",
     "text": [
      "\u001b[36m(tune_with_parameters pid=2428921)\u001b[0m loss: 0.000\u001b[32m [repeated 5x across cluster]\u001b[0m\n",
      "\u001b[36m(tune_with_parameters pid=2428921)\u001b[0m loss: 0.000\u001b[32m [repeated 10x across cluster]\u001b[0m\n"
     ]
    },
    {
     "name": "stderr",
     "output_type": "stream",
     "text": [
      "Val Epoch:80: 0it [00:00, ?it/s]428921)\u001b[0m \n",
      "Val Epoch:79: 47it [00:01, 28.37it/s]\u001b[32m [repeated 11x across cluster]\u001b[0m\n",
      "Val Epoch:80: 47it [00:01, 32.24it/s]1)\u001b[0m \n"
     ]
    },
    {
     "name": "stdout",
     "output_type": "stream",
     "text": [
      "\u001b[36m(tune_with_parameters pid=2428921)\u001b[0m loss: 0.000\u001b[32m [repeated 6x across cluster]\u001b[0m\n",
      "\u001b[36m(tune_with_parameters pid=2428921)\u001b[0m loss: 0.000\u001b[32m [repeated 10x across cluster]\u001b[0m\n"
     ]
    },
    {
     "name": "stderr",
     "output_type": "stream",
     "text": [
      "Val Epoch:81: 0it [00:00, ?it/s]428921)\u001b[0m \n",
      "Val Epoch:80: 41it [00:01, 42.21it/s]\u001b[32m [repeated 9x across cluster]\u001b[0m\n"
     ]
    },
    {
     "name": "stdout",
     "output_type": "stream",
     "text": [
      "\u001b[36m(tune_with_parameters pid=2428921)\u001b[0m loss: 0.000\u001b[32m [repeated 6x across cluster]\u001b[0m\n",
      "\u001b[36m(tune_with_parameters pid=2428921)\u001b[0m loss: 0.000\u001b[32m [repeated 10x across cluster]\u001b[0m\n"
     ]
    },
    {
     "name": "stderr",
     "output_type": "stream",
     "text": [
      "Val Epoch:82: 0it [00:00, ?it/s]428921)\u001b[0m \n",
      "Val Epoch:81: 47it [00:01, 33.21it/s]\u001b[32m [repeated 10x across cluster]\u001b[0m\n"
     ]
    },
    {
     "name": "stdout",
     "output_type": "stream",
     "text": [
      "\u001b[36m(tune_with_parameters pid=2428921)\u001b[0m loss: 0.000\u001b[32m [repeated 5x across cluster]\u001b[0m\n",
      "\u001b[36m(tune_with_parameters pid=2428921)\u001b[0m loss: 0.000\u001b[32m [repeated 10x across cluster]\u001b[0m\n"
     ]
    },
    {
     "name": "stderr",
     "output_type": "stream",
     "text": [
      "Val Epoch:83: 0it [00:00, ?it/s]428921)\u001b[0m \n",
      "Val Epoch:82: 47it [00:01, 31.86it/s]\u001b[32m [repeated 11x across cluster]\u001b[0m\n"
     ]
    },
    {
     "name": "stdout",
     "output_type": "stream",
     "text": [
      "\u001b[36m(tune_with_parameters pid=2428921)\u001b[0m loss: 0.000\u001b[32m [repeated 4x across cluster]\u001b[0m\n",
      "\u001b[36m(tune_with_parameters pid=2428921)\u001b[0m \n",
      "\u001b[36m(tune_with_parameters pid=2428921)\u001b[0m loss: 0.000\u001b[32m [repeated 10x across cluster]\u001b[0m\n"
     ]
    },
    {
     "name": "stderr",
     "output_type": "stream",
     "text": [
      "Val Epoch:84: 0it [00:00, ?it/s]428921)\u001b[0m \n",
      "Val Epoch:83: 47it [00:01, 31.57it/s]\u001b[32m [repeated 10x across cluster]\u001b[0m\n"
     ]
    },
    {
     "name": "stdout",
     "output_type": "stream",
     "text": [
      "\u001b[36m(tune_with_parameters pid=2428921)\u001b[0m loss: 0.000\u001b[32m [repeated 5x across cluster]\u001b[0m\n",
      "\u001b[36m(tune_with_parameters pid=2428921)\u001b[0m loss: 0.000\u001b[32m [repeated 10x across cluster]\u001b[0m\n"
     ]
    },
    {
     "name": "stderr",
     "output_type": "stream",
     "text": [
      "Val Epoch:85: 0it [00:00, ?it/s]428921)\u001b[0m \n",
      "Val Epoch:84: 47it [00:01, 35.86it/s]\u001b[32m [repeated 10x across cluster]\u001b[0m\n",
      "2024-08-19 22:38:06,061\tINFO tune.py:1009 -- Wrote the latest version of all result files and experiment state to '/scratch/users/k23058970/Model training/results/Double Peak LRCN Null/tune_with_parameters_2024-08-19_21-54-39' in 0.1315s.\n",
      "2024-08-19 22:38:06,083\tERROR tune.py:1037 -- Trials did not complete: [tune_with_parameters_54ae7_00004]\n",
      "2024-08-19 22:38:06,085\tINFO tune.py:1041 -- Total run time: 2572.40 seconds (2572.22 seconds for the tuning loop).\n"
     ]
    },
    {
     "name": "stdout",
     "output_type": "stream",
     "text": [
      "Best trial config: {'nc1': 64, 'k1': 3, 'nc2': 4, 'k2': 1, 'nc3': 32, 'k3': 1, 'nc4': 256, 'k4': 1, 'dp': 0.25, 'l1': 1024, 'l2': 256, 'lr': 0.026217844250380935}\n",
      "Best trial final validation loss: 0.007002844638064899\n",
      "Best trial final validation accuracy: 0.9976666666666667\n",
      "Best trial f1-score: 0.9976656635602315\n"
     ]
    },
    {
     "name": "stderr",
     "output_type": "stream",
     "text": [
      "/users/k23058970/miniforge3/envs/Training/lib/python3.10/site-packages/torch/nn/modules/lazy.py:181: UserWarning: Lazy modules are a new feature under heavy development so changes to the API or functionality can happen at any moment.\n",
      "  warnings.warn('Lazy modules are a new feature under heavy development '\n",
      "Test Epoch: 100%|██████████| 47/47 [00:04<00:00, 11.54it/s]"
     ]
    },
    {
     "name": "stdout",
     "output_type": "stream",
     "text": [
      "Best Test Set Accuracy:0.9973333333333333\n",
      "Best F1-Score: <training_insilico_lrcn.F1_score_running object at 0x73bfb853f9a0>\n"
     ]
    },
    {
     "name": "stderr",
     "output_type": "stream",
     "text": [
      "\n"
     ]
    }
   ],
   "source": [
    "DATASET_DIR = \"/scratch/users/k23058970/Model training/Null Dataset/Double Peak\"\n",
    "main(dataset_dir=DATASET_DIR,dset_name = \"Double Peak LRCN Null\")"
   ]
  },
  {
   "cell_type": "code",
   "execution_count": null,
   "metadata": {},
   "outputs": [],
   "source": []
  }
 ],
 "metadata": {
  "kernelspec": {
   "display_name": "Training",
   "language": "python",
   "name": "training"
  },
  "language_info": {
   "codemirror_mode": {
    "name": "ipython",
    "version": 3
   },
   "file_extension": ".py",
   "mimetype": "text/x-python",
   "name": "python",
   "nbconvert_exporter": "python",
   "pygments_lexer": "ipython3",
   "version": "3.10.14"
  }
 },
 "nbformat": 4,
 "nbformat_minor": 4
}
