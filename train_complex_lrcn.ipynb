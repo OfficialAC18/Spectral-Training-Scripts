{
 "cells": [
  {
   "cell_type": "code",
   "execution_count": 1,
   "id": "5d115776-afdf-4da6-9552-79b0bae74001",
   "metadata": {},
   "outputs": [],
   "source": [
    "#Call Main and let it run\n",
    "from training_insilico_lrcn import main"
   ]
  },
  {
   "cell_type": "code",
   "execution_count": null,
   "id": "b9b5ace6-a806-4353-948a-8112482fd7ce",
   "metadata": {},
   "outputs": [
    {
     "data": {
      "text/html": [
       "<div class=\"tuneStatus\">\n",
       "  <div style=\"display: flex;flex-direction: row\">\n",
       "    <div style=\"display: flex;flex-direction: column;\">\n",
       "      <h3>Tune Status</h3>\n",
       "      <table>\n",
       "<tbody>\n",
       "<tr><td>Current time:</td><td>2024-08-19 23:26:12</td></tr>\n",
       "<tr><td>Running for: </td><td>00:31:29.20        </td></tr>\n",
       "<tr><td>Memory:      </td><td>77.2/1007.5 GiB    </td></tr>\n",
       "</tbody>\n",
       "</table>\n",
       "    </div>\n",
       "    <div class=\"vDivider\"></div>\n",
       "    <div class=\"systemInfo\">\n",
       "      <h3>System Info</h3>\n",
       "      Using AsyncHyperBand: num_stopped=4<br>Bracket: Iter 60.000: -6.407024122207541e-05 | Iter 30.000: -0.0001263037155830658 | Iter 15.000: -0.0047448359793943766<br>Logical resource usage: 48.0/96 CPUs, 1.0/1 GPUs (0.0/1.0 accelerator_type:A30)\n",
       "    </div>\n",
       "    \n",
       "  </div>\n",
       "  <div class=\"hDivider\"></div>\n",
       "  <div class=\"trialStatus\">\n",
       "    <h3>Trial Status</h3>\n",
       "    <table>\n",
       "<thead>\n",
       "<tr><th>Trial name                      </th><th>status    </th><th>loc               </th><th style=\"text-align: right;\">  dp</th><th style=\"text-align: right;\">  k1</th><th style=\"text-align: right;\">  k2</th><th style=\"text-align: right;\">  k3</th><th style=\"text-align: right;\">  k4</th><th style=\"text-align: right;\">        lr</th><th style=\"text-align: right;\">  iter</th><th style=\"text-align: right;\">  total time (s)</th><th style=\"text-align: right;\">       loss</th><th style=\"text-align: right;\">  accuracy</th><th style=\"text-align: right;\">      f1</th></tr>\n",
       "</thead>\n",
       "<tbody>\n",
       "<tr><td>tune_with_parameters_a4509_00004</td><td>RUNNING   </td><td>10.211.4.4:2815408</td><td style=\"text-align: right;\">0.1 </td><td style=\"text-align: right;\">   5</td><td style=\"text-align: right;\">   5</td><td style=\"text-align: right;\">   1</td><td style=\"text-align: right;\">   5</td><td style=\"text-align: right;\">0.0466695 </td><td style=\"text-align: right;\">    35</td><td style=\"text-align: right;\">         560.802</td><td style=\"text-align: right;\">7.54134e-05</td><td style=\"text-align: right;\">  1       </td><td style=\"text-align: right;\">1       </td></tr>\n",
       "<tr><td>tune_with_parameters_a4509_00005</td><td>RUNNING   </td><td>10.211.4.4:2885909</td><td style=\"text-align: right;\">0.25</td><td style=\"text-align: right;\">   5</td><td style=\"text-align: right;\">   1</td><td style=\"text-align: right;\">   1</td><td style=\"text-align: right;\">   5</td><td style=\"text-align: right;\">0.00270289</td><td style=\"text-align: right;\">     4</td><td style=\"text-align: right;\">          36.053</td><td style=\"text-align: right;\">1.09195    </td><td style=\"text-align: right;\">  0.596667</td><td style=\"text-align: right;\">0.567462</td></tr>\n",
       "<tr><td>tune_with_parameters_a4509_00006</td><td>PENDING   </td><td>                  </td><td style=\"text-align: right;\">0.25</td><td style=\"text-align: right;\">   1</td><td style=\"text-align: right;\">   5</td><td style=\"text-align: right;\">   1</td><td style=\"text-align: right;\">   1</td><td style=\"text-align: right;\">0.0943459 </td><td style=\"text-align: right;\">      </td><td style=\"text-align: right;\">                </td><td style=\"text-align: right;\">           </td><td style=\"text-align: right;\">          </td><td style=\"text-align: right;\">        </td></tr>\n",
       "<tr><td>tune_with_parameters_a4509_00007</td><td>PENDING   </td><td>                  </td><td style=\"text-align: right;\">0.2 </td><td style=\"text-align: right;\">   1</td><td style=\"text-align: right;\">   1</td><td style=\"text-align: right;\">   1</td><td style=\"text-align: right;\">   1</td><td style=\"text-align: right;\">0.00955624</td><td style=\"text-align: right;\">      </td><td style=\"text-align: right;\">                </td><td style=\"text-align: right;\">           </td><td style=\"text-align: right;\">          </td><td style=\"text-align: right;\">        </td></tr>\n",
       "<tr><td>tune_with_parameters_a4509_00008</td><td>PENDING   </td><td>                  </td><td style=\"text-align: right;\">0.1 </td><td style=\"text-align: right;\">   3</td><td style=\"text-align: right;\">   1</td><td style=\"text-align: right;\">   1</td><td style=\"text-align: right;\">   3</td><td style=\"text-align: right;\">0.0115805 </td><td style=\"text-align: right;\">      </td><td style=\"text-align: right;\">                </td><td style=\"text-align: right;\">           </td><td style=\"text-align: right;\">          </td><td style=\"text-align: right;\">        </td></tr>\n",
       "<tr><td>tune_with_parameters_a4509_00009</td><td>PENDING   </td><td>                  </td><td style=\"text-align: right;\">0.2 </td><td style=\"text-align: right;\">   1</td><td style=\"text-align: right;\">   1</td><td style=\"text-align: right;\">   1</td><td style=\"text-align: right;\">   3</td><td style=\"text-align: right;\">0.00385713</td><td style=\"text-align: right;\">      </td><td style=\"text-align: right;\">                </td><td style=\"text-align: right;\">           </td><td style=\"text-align: right;\">          </td><td style=\"text-align: right;\">        </td></tr>\n",
       "<tr><td>tune_with_parameters_a4509_00000</td><td>TERMINATED</td><td>10.211.4.4:2615834</td><td style=\"text-align: right;\">0.2 </td><td style=\"text-align: right;\">   5</td><td style=\"text-align: right;\">   1</td><td style=\"text-align: right;\">   1</td><td style=\"text-align: right;\">   3</td><td style=\"text-align: right;\">0.00907384</td><td style=\"text-align: right;\">    15</td><td style=\"text-align: right;\">         252.037</td><td style=\"text-align: right;\">0.441502   </td><td style=\"text-align: right;\">  0.783   </td><td style=\"text-align: right;\">0.772121</td></tr>\n",
       "<tr><td>tune_with_parameters_a4509_00001</td><td>TERMINATED</td><td>10.211.4.4:2615841</td><td style=\"text-align: right;\">0.2 </td><td style=\"text-align: right;\">   5</td><td style=\"text-align: right;\">   1</td><td style=\"text-align: right;\">   5</td><td style=\"text-align: right;\">   5</td><td style=\"text-align: right;\">0.0678615 </td><td style=\"text-align: right;\">   100</td><td style=\"text-align: right;\">         985.859</td><td style=\"text-align: right;\">6.90714e-05</td><td style=\"text-align: right;\">  1       </td><td style=\"text-align: right;\">1       </td></tr>\n",
       "<tr><td>tune_with_parameters_a4509_00002</td><td>TERMINATED</td><td>10.211.4.4:2664558</td><td style=\"text-align: right;\">0.5 </td><td style=\"text-align: right;\">   3</td><td style=\"text-align: right;\">   5</td><td style=\"text-align: right;\">   3</td><td style=\"text-align: right;\">   3</td><td style=\"text-align: right;\">0.0428666 </td><td style=\"text-align: right;\">   100</td><td style=\"text-align: right;\">        1535.42 </td><td style=\"text-align: right;\">1.58498e-05</td><td style=\"text-align: right;\">  1       </td><td style=\"text-align: right;\">1       </td></tr>\n",
       "<tr><td>tune_with_parameters_a4509_00003</td><td>TERMINATED</td><td>10.211.4.4:2777761</td><td style=\"text-align: right;\">0.25</td><td style=\"text-align: right;\">   3</td><td style=\"text-align: right;\">   3</td><td style=\"text-align: right;\">   5</td><td style=\"text-align: right;\">   1</td><td style=\"text-align: right;\">0.00131102</td><td style=\"text-align: right;\">    15</td><td style=\"text-align: right;\">         277.777</td><td style=\"text-align: right;\">1.08588    </td><td style=\"text-align: right;\">  0.671333</td><td style=\"text-align: right;\">0.657496</td></tr>\n",
       "</tbody>\n",
       "</table>\n",
       "  </div>\n",
       "</div>\n",
       "<style>\n",
       ".tuneStatus {\n",
       "  color: var(--jp-ui-font-color1);\n",
       "}\n",
       ".tuneStatus .systemInfo {\n",
       "  display: flex;\n",
       "  flex-direction: column;\n",
       "}\n",
       ".tuneStatus td {\n",
       "  white-space: nowrap;\n",
       "}\n",
       ".tuneStatus .trialStatus {\n",
       "  display: flex;\n",
       "  flex-direction: column;\n",
       "}\n",
       ".tuneStatus h3 {\n",
       "  font-weight: bold;\n",
       "}\n",
       ".tuneStatus .hDivider {\n",
       "  border-bottom-width: var(--jp-border-width);\n",
       "  border-bottom-color: var(--jp-border-color0);\n",
       "  border-bottom-style: solid;\n",
       "}\n",
       ".tuneStatus .vDivider {\n",
       "  border-left-width: var(--jp-border-width);\n",
       "  border-left-color: var(--jp-border-color0);\n",
       "  border-left-style: solid;\n",
       "  margin: 0.5em 1em 0.5em 1em;\n",
       "}\n",
       "</style>\n"
      ],
      "text/plain": [
       "<IPython.core.display.HTML object>"
      ]
     },
     "metadata": {},
     "output_type": "display_data"
    },
    {
     "name": "stderr",
     "output_type": "stream",
     "text": [
      "\u001b[36m(tune_with_parameters pid=2615834)\u001b[0m /users/k23058970/miniforge3/envs/Training/lib/python3.10/site-packages/torch/nn/modules/lazy.py:181: UserWarning: Lazy modules are a new feature under heavy development so changes to the API or functionality can happen at any moment.\n",
      "\u001b[36m(tune_with_parameters pid=2615834)\u001b[0m   warnings.warn('Lazy modules are a new feature under heavy development '\n",
      "\u001b[36m(tune_with_parameters pid=2615841)\u001b[0m /users/k23058970/miniforge3/envs/Training/lib/python3.10/site-packages/torch/nn/modules/lazy.py:181: UserWarning: Lazy modules are a new feature under heavy development so changes to the API or functionality can happen at any moment.\n",
      "\u001b[36m(tune_with_parameters pid=2615841)\u001b[0m   warnings.warn('Lazy modules are a new feature under heavy development '\n"
     ]
    },
    {
     "name": "stdout",
     "output_type": "stream",
     "text": [
      "\u001b[36m(tune_with_parameters pid=2615834)\u001b[0m loss: 1.113\n",
      "\u001b[36m(tune_with_parameters pid=2615834)\u001b[0m loss: 1.113\n",
      "\u001b[36m(tune_with_parameters pid=2615834)\u001b[0m loss: 1.110\n",
      "\u001b[36m(tune_with_parameters pid=2615834)\u001b[0m loss: 1.110\n",
      "\u001b[36m(tune_with_parameters pid=2615834)\u001b[0m loss: 1.107\n",
      "\u001b[36m(tune_with_parameters pid=2615841)\u001b[0m loss: 1.099\u001b[32m [repeated 3x across cluster] (Ray deduplicates logs by default. Set RAY_DEDUP_LOGS=0 to disable log deduplication, or see https://docs.ray.io/en/master/ray-observability/user-guides/configure-logging.html#log-deduplication for more options.)\u001b[0m\n",
      "\u001b[36m(tune_with_parameters pid=2615841)\u001b[0m loss: 1.098\u001b[32m [repeated 18x across cluster]\u001b[0m\n"
     ]
    },
    {
     "name": "stderr",
     "output_type": "stream",
     "text": [
      "Val Epoch:0: 0it [00:00, ?it/s]2615841)\u001b[0m \n",
      "Val Epoch:0: 1it [00:00,  5.37it/s]841)\u001b[0m \n",
      "Val Epoch:0: 2it [00:00,  4.03it/s]841)\u001b[0m \n",
      "Val Epoch:0: 5it [00:00,  9.13it/s]841)\u001b[0m \n",
      "Val Epoch:0: 8it [00:00, 13.84it/s]841)\u001b[0m \n",
      "Val Epoch:0: 11it [00:00, 14.27it/s]41)\u001b[0m \n",
      "Val Epoch:0: 15it [00:01, 15.58it/s]41)\u001b[0m \n",
      "Val Epoch:0: 17it [00:01, 15.59it/s]41)\u001b[0m \n",
      "Val Epoch:0: 20it [00:01, 18.48it/s]41)\u001b[0m \n",
      "Val Epoch:0: 23it [00:01, 18.90it/s]41)\u001b[0m \n",
      "Val Epoch:0: 26it [00:01, 20.87it/s]41)\u001b[0m \n",
      "Val Epoch:0: 29it [00:01, 18.22it/s]41)\u001b[0m \n",
      "Val Epoch:0: 32it [00:01, 20.63it/s]41)\u001b[0m \n",
      "Val Epoch:0: 35it [00:02, 18.86it/s]41)\u001b[0m \n",
      "Val Epoch:0: 38it [00:02, 19.93it/s]41)\u001b[0m \n",
      "Val Epoch:0: 41it [00:02, 18.81it/s]41)\u001b[0m \n",
      "Val Epoch:0: 45it [00:02, 22.46it/s]41)\u001b[0m \n",
      "Val Epoch:0: 47it [00:02, 17.34it/s]41)\u001b[0m \n"
     ]
    },
    {
     "name": "stdout",
     "output_type": "stream",
     "text": [
      "\u001b[36m(tune_with_parameters pid=2615841)\u001b[0m /tmp/tmpo2v3qck6/checkpoint.pt\n"
     ]
    },
    {
     "name": "stderr",
     "output_type": "stream",
     "text": [
      "\u001b[36m(tune_with_parameters pid=2615841)\u001b[0m Checkpoint successfully created at: Checkpoint(filesystem=local, path=/scratch/users/k23058970/Model training/results/Complex Peak LRCN Null/tune_with_parameters_2024-08-19_22-54-03/tune_with_parameters_a4509_00001_1_dp=0.2000,k1=5,k2=1,k3=5,k4=5,lr=0.0679_2024-08-19_22-54-43/checkpoint_000000)\n"
     ]
    },
    {
     "name": "stdout",
     "output_type": "stream",
     "text": [
      "\u001b[36m(tune_with_parameters pid=2615841)\u001b[0m loss: 1.093\u001b[32m [repeated 5x across cluster]\u001b[0m\n"
     ]
    },
    {
     "name": "stderr",
     "output_type": "stream",
     "text": [
      "Val Epoch:0: 0it [00:00, ?it/s]2615834)\u001b[0m \n",
      "Val Epoch:0: 8it [00:01,  6.59it/s]\u001b[32m [repeated 4x across cluster]\u001b[0m\n",
      "\u001b[36m(tune_with_parameters pid=2615834)\u001b[0m /scratch/users/k23058970/Model training/training_insilico_lrcn.py:63: RuntimeWarning: invalid value encountered in divide\n",
      "\u001b[36m(tune_with_parameters pid=2615834)\u001b[0m   self.precision = self.tp/(self.tp + self.fp)\n"
     ]
    },
    {
     "name": "stdout",
     "output_type": "stream",
     "text": [
      "\u001b[36m(tune_with_parameters pid=2615834)\u001b[0m /tmp/tmpax0yimeo/checkpoint.pt\n",
      "\u001b[36m(tune_with_parameters pid=2615841)\u001b[0m loss: 1.088\u001b[32m [repeated 13x across cluster]\u001b[0m\n"
     ]
    },
    {
     "name": "stderr",
     "output_type": "stream",
     "text": [
      "Val Epoch:1: 0it [00:00, ?it/s]2615841)\u001b[0m \n",
      "Val Epoch:0: 47it [00:04, 11.51it/s]\u001b[32m [repeated 16x across cluster]\u001b[0m\n",
      "\u001b[36m(tune_with_parameters pid=2615834)\u001b[0m Checkpoint successfully created at: Checkpoint(filesystem=local, path=/scratch/users/k23058970/Model training/results/Complex Peak LRCN Null/tune_with_parameters_2024-08-19_22-54-03/tune_with_parameters_a4509_00000_0_dp=0.2000,k1=5,k2=1,k3=1,k4=3,lr=0.0091_2024-08-19_22-54-43/checkpoint_000000)\n",
      "Val Epoch:1: 47it [00:03, 13.28it/s]41)\u001b[0m \n"
     ]
    },
    {
     "name": "stdout",
     "output_type": "stream",
     "text": [
      "\u001b[36m(tune_with_parameters pid=2615841)\u001b[0m /tmp/tmpye1tmdwc/checkpoint.pt\n",
      "\u001b[36m(tune_with_parameters pid=2615841)\u001b[0m loss: 1.057\u001b[32m [repeated 4x across cluster]\u001b[0m\n",
      "\u001b[36m(tune_with_parameters pid=2615841)\u001b[0m loss: 0.678\u001b[32m [repeated 18x across cluster]\u001b[0m\n"
     ]
    },
    {
     "name": "stderr",
     "output_type": "stream",
     "text": [
      "Val Epoch:2: 0it [00:00, ?it/s]2615841)\u001b[0m \n",
      "Val Epoch:1: 42it [00:03, 28.62it/s]\u001b[32m [repeated 11x across cluster]\u001b[0m\n",
      "\u001b[36m(tune_with_parameters pid=2615841)\u001b[0m Checkpoint successfully created at: Checkpoint(filesystem=local, path=/scratch/users/k23058970/Model training/results/Complex Peak LRCN Null/tune_with_parameters_2024-08-19_22-54-03/tune_with_parameters_a4509_00001_1_dp=0.2000,k1=5,k2=1,k3=5,k4=5,lr=0.0679_2024-08-19_22-54-43/checkpoint_000001)\n"
     ]
    },
    {
     "name": "stdout",
     "output_type": "stream",
     "text": [
      "\u001b[36m(tune_with_parameters pid=2615841)\u001b[0m loss: 0.456\u001b[32m [repeated 6x across cluster]\u001b[0m\n"
     ]
    },
    {
     "name": "stderr",
     "output_type": "stream",
     "text": [
      "Val Epoch:1: 0it [00:00, ?it/s]2615834)\u001b[0m \n",
      "Val Epoch:2: 47it [00:03, 15.66it/s]\u001b[32m [repeated 13x across cluster]\u001b[0m\n"
     ]
    },
    {
     "name": "stdout",
     "output_type": "stream",
     "text": [
      "\u001b[36m(tune_with_parameters pid=2615841)\u001b[0m loss: 0.464\u001b[32m [repeated 17x across cluster]\u001b[0m\n",
      "\u001b[36m(tune_with_parameters pid=2615841)\u001b[0m /tmp/tmp66h29p_n/checkpoint.pt\n"
     ]
    },
    {
     "name": "stderr",
     "output_type": "stream",
     "text": [
      "\u001b[36m(tune_with_parameters pid=2615841)\u001b[0m Checkpoint successfully created at: Checkpoint(filesystem=local, path=/scratch/users/k23058970/Model training/results/Complex Peak LRCN Null/tune_with_parameters_2024-08-19_22-54-03/tune_with_parameters_a4509_00001_1_dp=0.2000,k1=5,k2=1,k3=5,k4=5,lr=0.0679_2024-08-19_22-54-43/checkpoint_000002)\n"
     ]
    },
    {
     "name": "stdout",
     "output_type": "stream",
     "text": [
      "\u001b[36m(tune_with_parameters pid=2615841)\u001b[0m loss: 0.469\u001b[32m [repeated 4x across cluster]\u001b[0m\n",
      "\u001b[36m(tune_with_parameters pid=2615834)\u001b[0m /tmp/tmpj032n8k8/checkpoint.pt\n"
     ]
    },
    {
     "name": "stderr",
     "output_type": "stream",
     "text": [
      "Val Epoch:3: 0it [00:00, ?it/s]2615841)\u001b[0m \n",
      "Val Epoch:3: 47it [00:02, 16.91it/s]\u001b[32m [repeated 34x across cluster]\u001b[0m\n"
     ]
    },
    {
     "name": "stdout",
     "output_type": "stream",
     "text": [
      "\u001b[36m(tune_with_parameters pid=2615834)\u001b[0m loss: 0.789\u001b[32m [repeated 12x across cluster]\u001b[0m\n"
     ]
    },
    {
     "name": "stderr",
     "output_type": "stream",
     "text": [
      "Val Epoch:4: 0it [00:00, ?it/s]2615841)\u001b[0m \n",
      "\u001b[36m(tune_with_parameters pid=2615834)\u001b[0m Checkpoint successfully created at: Checkpoint(filesystem=local, path=/scratch/users/k23058970/Model training/results/Complex Peak LRCN Null/tune_with_parameters_2024-08-19_22-54-03/tune_with_parameters_a4509_00000_0_dp=0.2000,k1=5,k2=1,k3=1,k4=3,lr=0.0091_2024-08-19_22-54-43/checkpoint_000001)\n",
      "Val Epoch:4: 1it [00:00,  1.43it/s]841)\u001b[0m \n",
      "Val Epoch:4: 3it [00:00,  4.49it/s]841)\u001b[0m \n",
      "Val Epoch:4: 7it [00:00, 11.03it/s]841)\u001b[0m \n",
      "Val Epoch:4: 12it [00:01, 17.55it/s]41)\u001b[0m \n",
      "Val Epoch:4: 16it [00:01, 20.67it/s]41)\u001b[0m \n",
      "Val Epoch:4: 19it [00:01, 22.09it/s]41)\u001b[0m \n",
      "Val Epoch:4: 23it [00:01, 25.43it/s]41)\u001b[0m \n",
      "Val Epoch:4: 26it [00:01, 25.71it/s]41)\u001b[0m \n",
      "Val Epoch:4: 29it [00:02, 13.48it/s]41)\u001b[0m \n",
      "Val Epoch:4: 33it [00:02, 17.13it/s]41)\u001b[0m \n",
      "Val Epoch:4: 36it [00:02, 19.05it/s]41)\u001b[0m \n",
      "Val Epoch:4: 42it [00:02, 24.79it/s]41)\u001b[0m \n",
      "Val Epoch:4: 46it [00:02, 27.16it/s]41)\u001b[0m \n",
      "Val Epoch:4: 47it [00:02, 17.60it/s]41)\u001b[0m \n"
     ]
    },
    {
     "name": "stdout",
     "output_type": "stream",
     "text": [
      "\u001b[36m(tune_with_parameters pid=2615841)\u001b[0m /tmp/tmph56akkyc/checkpoint.pt\n"
     ]
    },
    {
     "name": "stderr",
     "output_type": "stream",
     "text": [
      "\u001b[36m(tune_with_parameters pid=2615841)\u001b[0m Checkpoint successfully created at: Checkpoint(filesystem=local, path=/scratch/users/k23058970/Model training/results/Complex Peak LRCN Null/tune_with_parameters_2024-08-19_22-54-03/tune_with_parameters_a4509_00001_1_dp=0.2000,k1=5,k2=1,k3=5,k4=5,lr=0.0679_2024-08-19_22-54-43/checkpoint_000003)\n"
     ]
    },
    {
     "name": "stdout",
     "output_type": "stream",
     "text": [
      "\u001b[36m(tune_with_parameters pid=2615841)\u001b[0m loss: 0.430\u001b[32m [repeated 7x across cluster]\u001b[0m\n",
      "\u001b[36m(tune_with_parameters pid=2615834)\u001b[0m loss: 0.590\u001b[32m [repeated 19x across cluster]\u001b[0m\n"
     ]
    },
    {
     "name": "stderr",
     "output_type": "stream",
     "text": [
      "Val Epoch:5: 0it [00:00, ?it/s]2615841)\u001b[0m \n",
      "Val Epoch:5: 1it [00:00,  1.93it/s]841)\u001b[0m \n",
      "Val Epoch:5: 6it [00:00, 11.86it/s]841)\u001b[0m \n",
      "Val Epoch:5: 10it [00:00, 17.21it/s]41)\u001b[0m \n",
      "Val Epoch:5: 14it [00:00, 21.65it/s]41)\u001b[0m \n",
      "Val Epoch:5: 18it [00:00, 25.27it/s]41)\u001b[0m \n",
      "Val Epoch:5: 22it [00:01, 27.21it/s]41)\u001b[0m \n",
      "Val Epoch:5: 26it [00:01, 27.99it/s]41)\u001b[0m \n",
      "Val Epoch:5: 31it [00:01, 29.01it/s]41)\u001b[0m \n",
      "Val Epoch:5: 35it [00:01, 28.20it/s]41)\u001b[0m \n",
      "Val Epoch:5: 38it [00:01, 27.31it/s]41)\u001b[0m \n",
      "Val Epoch:5: 42it [00:01, 28.80it/s]41)\u001b[0m \n",
      "Val Epoch:5: 47it [00:01, 24.26it/s]41)\u001b[0m \n"
     ]
    },
    {
     "name": "stdout",
     "output_type": "stream",
     "text": [
      "\u001b[36m(tune_with_parameters pid=2615841)\u001b[0m /tmp/tmphujrh8_g/checkpoint.pt\n"
     ]
    },
    {
     "name": "stderr",
     "output_type": "stream",
     "text": [
      "\u001b[36m(tune_with_parameters pid=2615841)\u001b[0m Checkpoint successfully created at: Checkpoint(filesystem=local, path=/scratch/users/k23058970/Model training/results/Complex Peak LRCN Null/tune_with_parameters_2024-08-19_22-54-03/tune_with_parameters_a4509_00001_1_dp=0.2000,k1=5,k2=1,k3=5,k4=5,lr=0.0679_2024-08-19_22-54-43/checkpoint_000004)\n",
      "Val Epoch:2: 0it [00:00, ?it/s]2615834)\u001b[0m \n"
     ]
    },
    {
     "name": "stdout",
     "output_type": "stream",
     "text": [
      "\u001b[36m(tune_with_parameters pid=2615841)\u001b[0m loss: 0.042\u001b[32m [repeated 7x across cluster]\u001b[0m\n"
     ]
    },
    {
     "name": "stderr",
     "output_type": "stream",
     "text": [
      "Val Epoch:2: 12it [00:01, 15.10it/s]\u001b[32m [repeated 5x across cluster]\u001b[0m\n"
     ]
    },
    {
     "name": "stdout",
     "output_type": "stream",
     "text": [
      "\u001b[36m(tune_with_parameters pid=2615834)\u001b[0m /tmp/tmpxfhn1pgm/checkpoint.pt\n"
     ]
    },
    {
     "name": "stderr",
     "output_type": "stream",
     "text": [
      "Val Epoch:6: 0it [00:00, ?it/s]2615841)\u001b[0m \n",
      "Val Epoch:2: 47it [00:03, 15.47it/s]\u001b[32m [repeated 14x across cluster]\u001b[0m\n",
      "\u001b[36m(tune_with_parameters pid=2615834)\u001b[0m Checkpoint successfully created at: Checkpoint(filesystem=local, path=/scratch/users/k23058970/Model training/results/Complex Peak LRCN Null/tune_with_parameters_2024-08-19_22-54-03/tune_with_parameters_a4509_00000_0_dp=0.2000,k1=5,k2=1,k3=1,k4=3,lr=0.0091_2024-08-19_22-54-43/checkpoint_000002)\n"
     ]
    },
    {
     "name": "stdout",
     "output_type": "stream",
     "text": [
      "\u001b[36m(tune_with_parameters pid=2615834)\u001b[0m \n",
      "\u001b[36m(tune_with_parameters pid=2615834)\u001b[0m loss: 0.448\u001b[32m [repeated 13x across cluster]\u001b[0m\n",
      "\u001b[36m(tune_with_parameters pid=2615841)\u001b[0m /tmp/tmp32f0sakw/checkpoint.pt\n",
      "\u001b[36m(tune_with_parameters pid=2615834)\u001b[0m loss: 0.461\u001b[32m [repeated 12x across cluster]\u001b[0m\n"
     ]
    },
    {
     "name": "stderr",
     "output_type": "stream",
     "text": [
      "Val Epoch:7: 0it [00:00, ?it/s]2615841)\u001b[0m \n",
      "Val Epoch:6: 47it [00:03, 14.74it/s]\u001b[32m [repeated 14x across cluster]\u001b[0m\n",
      "\u001b[36m(tune_with_parameters pid=2615841)\u001b[0m Checkpoint successfully created at: Checkpoint(filesystem=local, path=/scratch/users/k23058970/Model training/results/Complex Peak LRCN Null/tune_with_parameters_2024-08-19_22-54-03/tune_with_parameters_a4509_00001_1_dp=0.2000,k1=5,k2=1,k3=5,k4=5,lr=0.0679_2024-08-19_22-54-43/checkpoint_000005)\n"
     ]
    },
    {
     "name": "stdout",
     "output_type": "stream",
     "text": [
      "\u001b[36m(tune_with_parameters pid=2615834)\u001b[0m loss: 0.467\u001b[32m [repeated 12x across cluster]\u001b[0m\n"
     ]
    },
    {
     "name": "stderr",
     "output_type": "stream",
     "text": [
      "Val Epoch:3: 0it [00:00, ?it/s]2615834)\u001b[0m \n",
      "Val Epoch:7: 47it [00:01, 24.35it/s]\u001b[32m [repeated 11x across cluster]\u001b[0m\n"
     ]
    },
    {
     "name": "stdout",
     "output_type": "stream",
     "text": [
      "\u001b[36m(tune_with_parameters pid=2615841)\u001b[0m loss: 0.006\u001b[32m [repeated 19x across cluster]\u001b[0m\n"
     ]
    },
    {
     "name": "stderr",
     "output_type": "stream",
     "text": [
      "Val Epoch:8: 0it [00:00, ?it/s]2615841)\u001b[0m \n",
      "Val Epoch:3: 20it [00:02, 12.58it/s]34)\u001b[0m \n"
     ]
    },
    {
     "name": "stdout",
     "output_type": "stream",
     "text": [
      "\u001b[36m(tune_with_parameters pid=2615841)\u001b[0m loss: 0.003\u001b[32m [repeated 2x across cluster]\u001b[0m\n",
      "\u001b[36m(tune_with_parameters pid=2615841)\u001b[0m loss: 0.004\u001b[32m [repeated 18x across cluster]\u001b[0m\n"
     ]
    },
    {
     "name": "stderr",
     "output_type": "stream",
     "text": [
      "Val Epoch:9: 0it [00:00, ?it/s]2615841)\u001b[0m \n",
      "Val Epoch:3: 47it [00:04,  9.67it/s]\u001b[32m [repeated 30x across cluster]\u001b[0m\n"
     ]
    },
    {
     "name": "stdout",
     "output_type": "stream",
     "text": [
      "\u001b[36m(tune_with_parameters pid=2615841)\u001b[0m /tmp/tmp1x4p9lnh/checkpoint.pt\n"
     ]
    },
    {
     "name": "stderr",
     "output_type": "stream",
     "text": [
      "\u001b[36m(tune_with_parameters pid=2615841)\u001b[0m Checkpoint successfully created at: Checkpoint(filesystem=local, path=/scratch/users/k23058970/Model training/results/Complex Peak LRCN Null/tune_with_parameters_2024-08-19_22-54-03/tune_with_parameters_a4509_00001_1_dp=0.2000,k1=5,k2=1,k3=5,k4=5,lr=0.0679_2024-08-19_22-54-43/checkpoint_000006)\n"
     ]
    },
    {
     "name": "stdout",
     "output_type": "stream",
     "text": [
      "\u001b[36m(tune_with_parameters pid=2615841)\u001b[0m loss: 0.003\u001b[32m [repeated 8x across cluster]\u001b[0m\n"
     ]
    },
    {
     "name": "stderr",
     "output_type": "stream",
     "text": [
      "Val Epoch:10: 0it [00:00, ?it/s]615841)\u001b[0m \n",
      "Val Epoch:9: 47it [00:01, 26.84it/s]\u001b[32m [repeated 12x across cluster]\u001b[0m\n",
      "Val Epoch:10: 26it [00:02, 21.77it/s]1)\u001b[0m \n"
     ]
    },
    {
     "name": "stdout",
     "output_type": "stream",
     "text": [
      "\u001b[36m(tune_with_parameters pid=2615841)\u001b[0m loss: 0.001\u001b[32m [repeated 19x across cluster]\u001b[0m\n",
      "\u001b[36m(tune_with_parameters pid=2615834)\u001b[0m /tmp/tmpt7l4psbf/checkpoint.pt\n"
     ]
    },
    {
     "name": "stderr",
     "output_type": "stream",
     "text": [
      "\u001b[36m(tune_with_parameters pid=2615834)\u001b[0m Checkpoint successfully created at: Checkpoint(filesystem=local, path=/scratch/users/k23058970/Model training/results/Complex Peak LRCN Null/tune_with_parameters_2024-08-19_22-54-03/tune_with_parameters_a4509_00000_0_dp=0.2000,k1=5,k2=1,k3=1,k4=3,lr=0.0091_2024-08-19_22-54-43/checkpoint_000003)\n",
      "Val Epoch:4: 0it [00:00, ?it/s]2615834)\u001b[0m \n",
      "Val Epoch:4: 44it [00:03, 12.69it/s]\u001b[32m [repeated 31x across cluster]\u001b[0m\n",
      "Val Epoch:4: 47it [00:03, 13.41it/s]34)\u001b[0m \n"
     ]
    },
    {
     "name": "stdout",
     "output_type": "stream",
     "text": [
      "\u001b[36m(tune_with_parameters pid=2615834)\u001b[0m loss: 0.434\u001b[32m [repeated 12x across cluster]\u001b[0m\n"
     ]
    },
    {
     "name": "stderr",
     "output_type": "stream",
     "text": [
      "Val Epoch:11: 0it [00:00, ?it/s]615841)\u001b[0m \n",
      "Val Epoch:11: 33it [00:01, 32.97it/s]\u001b[32m [repeated 9x across cluster]\u001b[0m\n",
      "Val Epoch:11: 47it [00:01, 23.62it/s]1)\u001b[0m \n"
     ]
    },
    {
     "name": "stdout",
     "output_type": "stream",
     "text": [
      "\u001b[36m(tune_with_parameters pid=2615841)\u001b[0m loss: 0.001\u001b[32m [repeated 7x across cluster]\u001b[0m\n",
      "\u001b[36m(tune_with_parameters pid=2615834)\u001b[0m loss: 0.463\u001b[32m [repeated 18x across cluster]\u001b[0m\n"
     ]
    },
    {
     "name": "stderr",
     "output_type": "stream",
     "text": [
      "Val Epoch:12: 0it [00:00, ?it/s]615841)\u001b[0m \n",
      "Val Epoch:11: 41it [00:01, 32.04it/s]\u001b[32m [repeated 2x across cluster]\u001b[0m\n",
      "Val Epoch:12: 24it [00:01, 21.74it/s]1)\u001b[0m \n"
     ]
    },
    {
     "name": "stdout",
     "output_type": "stream",
     "text": [
      "\u001b[36m(tune_with_parameters pid=2615834)\u001b[0m loss: 0.461\u001b[32m [repeated 8x across cluster]\u001b[0m\n"
     ]
    },
    {
     "name": "stderr",
     "output_type": "stream",
     "text": [
      "Val Epoch:5: 0it [00:00, ?it/s]2615834)\u001b[0m \n",
      "Val Epoch:12: 47it [00:02, 18.78it/s]\u001b[32m [repeated 11x across cluster]\u001b[0m\n"
     ]
    },
    {
     "name": "stdout",
     "output_type": "stream",
     "text": [
      "\u001b[36m(tune_with_parameters pid=2615841)\u001b[0m loss: 0.002\u001b[32m [repeated 12x across cluster]\u001b[0m\n"
     ]
    },
    {
     "name": "stderr",
     "output_type": "stream",
     "text": [
      "Val Epoch:13: 0it [00:00, ?it/s]615841)\u001b[0m \n",
      "Val Epoch:13: 1it [00:01,  1.56s/it]\u001b[32m [repeated 20x across cluster]\u001b[0m\n"
     ]
    },
    {
     "name": "stdout",
     "output_type": "stream",
     "text": [
      "\u001b[36m(tune_with_parameters pid=2615834)\u001b[0m loss: 0.455\u001b[32m [repeated 7x across cluster]\u001b[0m\n",
      "\u001b[36m(tune_with_parameters pid=2615841)\u001b[0m loss: 0.001\u001b[32m [repeated 19x across cluster]\u001b[0m\n"
     ]
    },
    {
     "name": "stderr",
     "output_type": "stream",
     "text": [
      "Val Epoch:14: 0it [00:00, ?it/s]615841)\u001b[0m \n",
      "Val Epoch:13: 47it [00:03, 15.32it/s]\u001b[32m [repeated 12x across cluster]\u001b[0m\n"
     ]
    },
    {
     "name": "stdout",
     "output_type": "stream",
     "text": [
      "\u001b[36m(tune_with_parameters pid=2615841)\u001b[0m loss: 0.002\u001b[32m [repeated 7x across cluster]\u001b[0m\n"
     ]
    },
    {
     "name": "stderr",
     "output_type": "stream",
     "text": [
      "Val Epoch:6: 0it [00:00, ?it/s]2615834)\u001b[0m \n",
      "Val Epoch:14: 47it [00:02, 23.36it/s]\u001b[32m [repeated 13x across cluster]\u001b[0m\n"
     ]
    },
    {
     "name": "stdout",
     "output_type": "stream",
     "text": [
      "\u001b[36m(tune_with_parameters pid=2615841)\u001b[0m loss: 0.001\u001b[32m [repeated 13x across cluster]\u001b[0m\n"
     ]
    },
    {
     "name": "stderr",
     "output_type": "stream",
     "text": [
      "Val Epoch:15: 0it [00:00, ?it/s]615841)\u001b[0m \n",
      "Val Epoch:15: 38it [00:02, 15.22it/s]\u001b[32m [repeated 32x across cluster]\u001b[0m\n"
     ]
    },
    {
     "name": "stdout",
     "output_type": "stream",
     "text": [
      "\u001b[36m(tune_with_parameters pid=2615841)\u001b[0m loss: 0.001\u001b[32m [repeated 3x across cluster]\u001b[0m\n",
      "\u001b[36m(tune_with_parameters pid=2615834)\u001b[0m loss: 0.458\u001b[32m [repeated 19x across cluster]\u001b[0m\n"
     ]
    },
    {
     "name": "stderr",
     "output_type": "stream",
     "text": [
      "Val Epoch:16: 0it [00:00, ?it/s]615841)\u001b[0m \n",
      "Val Epoch:15: 47it [00:02, 15.91it/s]\u001b[32m [repeated 3x across cluster]\u001b[0m\n"
     ]
    },
    {
     "name": "stdout",
     "output_type": "stream",
     "text": [
      "\u001b[36m(tune_with_parameters pid=2615834)\u001b[0m loss: 0.457\u001b[32m [repeated 8x across cluster]\u001b[0m\n"
     ]
    },
    {
     "name": "stderr",
     "output_type": "stream",
     "text": [
      "Val Epoch:7: 0it [00:00, ?it/s]2615834)\u001b[0m \n",
      "Val Epoch:16: 47it [00:02, 23.01it/s]\u001b[32m [repeated 13x across cluster]\u001b[0m\n"
     ]
    },
    {
     "name": "stdout",
     "output_type": "stream",
     "text": [
      "\u001b[36m(tune_with_parameters pid=2615841)\u001b[0m loss: 0.001\u001b[32m [repeated 15x across cluster]\u001b[0m\n",
      "\u001b[36m(tune_with_parameters pid=2615841)\u001b[0m loss: 0.001\u001b[32m [repeated 4x across cluster]\u001b[0m\n",
      "\u001b[36m(tune_with_parameters pid=2615834)\u001b[0m /tmp/tmpkp03inqm/checkpoint.pt\n"
     ]
    },
    {
     "name": "stderr",
     "output_type": "stream",
     "text": [
      "\u001b[36m(tune_with_parameters pid=2615834)\u001b[0m Checkpoint successfully created at: Checkpoint(filesystem=local, path=/scratch/users/k23058970/Model training/results/Complex Peak LRCN Null/tune_with_parameters_2024-08-19_22-54-03/tune_with_parameters_a4509_00000_0_dp=0.2000,k1=5,k2=1,k3=1,k4=3,lr=0.0091_2024-08-19_22-54-43/checkpoint_000004)\n",
      "Val Epoch:17: 0it [00:00, ?it/s]615841)\u001b[0m \n",
      "Val Epoch:7: 47it [00:03, 12.14it/s]\u001b[32m [repeated 33x across cluster]\u001b[0m\n"
     ]
    },
    {
     "name": "stdout",
     "output_type": "stream",
     "text": [
      "\u001b[36m(tune_with_parameters pid=2615841)\u001b[0m loss: 0.001\u001b[32m [repeated 14x across cluster]\u001b[0m\n"
     ]
    },
    {
     "name": "stderr",
     "output_type": "stream",
     "text": [
      "Val Epoch:18: 0it [00:00, ?it/s]615841)\u001b[0m \n",
      "Val Epoch:18: 1it [00:00,  1.21it/s]41)\u001b[0m \n",
      "Val Epoch:18: 6it [00:00,  8.30it/s]41)\u001b[0m \n",
      "Val Epoch:18: 10it [00:01, 13.38it/s]1)\u001b[0m \n",
      "Val Epoch:18: 14it [00:01, 17.52it/s]1)\u001b[0m \n",
      "Val Epoch:18: 18it [00:01, 21.51it/s]1)\u001b[0m \n",
      "Val Epoch:18: 22it [00:01, 24.72it/s]1)\u001b[0m \n",
      "Val Epoch:18: 27it [00:01, 28.94it/s]1)\u001b[0m \n",
      "Val Epoch:18: 31it [00:01, 28.78it/s]1)\u001b[0m \n",
      "Val Epoch:18: 35it [00:01, 28.94it/s]1)\u001b[0m \n",
      "Val Epoch:18: 40it [00:02, 23.85it/s]1)\u001b[0m \n",
      "Val Epoch:18: 44it [00:02, 26.69it/s]1)\u001b[0m \n",
      "Val Epoch:18: 47it [00:02, 20.42it/s]1)\u001b[0m \n"
     ]
    },
    {
     "name": "stdout",
     "output_type": "stream",
     "text": [
      "\u001b[36m(tune_with_parameters pid=2615841)\u001b[0m loss: 0.001\u001b[32m [repeated 7x across cluster]\u001b[0m\n"
     ]
    },
    {
     "name": "stderr",
     "output_type": "stream",
     "text": [
      "Val Epoch:19: 0it [00:00, ?it/s]615841)\u001b[0m \n",
      "Val Epoch:19: 1it [00:00,  4.04it/s]41)\u001b[0m \n",
      "Val Epoch:19: 6it [00:00, 20.33it/s]41)\u001b[0m \n",
      "Val Epoch:19: 10it [00:00, 26.29it/s]1)\u001b[0m \n",
      "Val Epoch:19: 14it [00:00, 29.42it/s]1)\u001b[0m \n"
     ]
    },
    {
     "name": "stdout",
     "output_type": "stream",
     "text": [
      "\u001b[36m(tune_with_parameters pid=2615834)\u001b[0m loss: 0.454\u001b[32m [repeated 19x across cluster]\u001b[0m\n"
     ]
    },
    {
     "name": "stderr",
     "output_type": "stream",
     "text": [
      "Val Epoch:19: 18it [00:00, 31.12it/s]1)\u001b[0m \n",
      "Val Epoch:19: 22it [00:00, 33.36it/s]1)\u001b[0m \n",
      "Val Epoch:19: 26it [00:00, 29.69it/s]1)\u001b[0m \n",
      "Val Epoch:19: 30it [00:01, 28.39it/s]1)\u001b[0m \n",
      "Val Epoch:19: 34it [00:01, 28.57it/s]1)\u001b[0m \n",
      "Val Epoch:19: 39it [00:01, 30.44it/s]1)\u001b[0m \n",
      "Val Epoch:19: 44it [00:01, 33.73it/s]1)\u001b[0m \n",
      "Val Epoch:19: 47it [00:01, 28.64it/s]1)\u001b[0m \n",
      "Val Epoch:8: 0it [00:00, ?it/s]2615834)\u001b[0m \n",
      "Val Epoch:8: 18it [00:01, 12.62it/s]\u001b[32m [repeated 9x across cluster]\u001b[0m\n"
     ]
    },
    {
     "name": "stdout",
     "output_type": "stream",
     "text": [
      "\u001b[36m(tune_with_parameters pid=2615841)\u001b[0m loss: 0.001\u001b[32m [repeated 9x across cluster]\u001b[0m\n"
     ]
    },
    {
     "name": "stderr",
     "output_type": "stream",
     "text": [
      "Val Epoch:20: 0it [00:00, ?it/s]615841)\u001b[0m \n",
      "Val Epoch:20: 1it [00:00,  2.39it/s]\u001b[32m [repeated 14x across cluster]\u001b[0m\n"
     ]
    },
    {
     "name": "stdout",
     "output_type": "stream",
     "text": [
      "\u001b[36m(tune_with_parameters pid=2615834)\u001b[0m loss: 0.433\u001b[32m [repeated 12x across cluster]\u001b[0m\n",
      "\u001b[36m(tune_with_parameters pid=2615841)\u001b[0m loss: 0.001\u001b[32m [repeated 13x across cluster]\u001b[0m\n"
     ]
    },
    {
     "name": "stderr",
     "output_type": "stream",
     "text": [
      "Val Epoch:21: 0it [00:00, ?it/s]615841)\u001b[0m \n",
      "Val Epoch:20: 47it [00:01, 25.99it/s]\u001b[32m [repeated 11x across cluster]\u001b[0m\n"
     ]
    },
    {
     "name": "stdout",
     "output_type": "stream",
     "text": [
      "\u001b[36m(tune_with_parameters pid=2615841)\u001b[0m loss: 0.000\u001b[32m [repeated 12x across cluster]\u001b[0m\n"
     ]
    },
    {
     "name": "stderr",
     "output_type": "stream",
     "text": [
      "Val Epoch:9: 0it [00:00, ?it/s]2615834)\u001b[0m \n",
      "Val Epoch:21: 47it [00:02, 18.77it/s]\u001b[32m [repeated 13x across cluster]\u001b[0m\n"
     ]
    },
    {
     "name": "stdout",
     "output_type": "stream",
     "text": [
      "\u001b[36m(tune_with_parameters pid=2615841)\u001b[0m loss: 0.001\u001b[32m [repeated 14x across cluster]\u001b[0m\n"
     ]
    },
    {
     "name": "stderr",
     "output_type": "stream",
     "text": [
      "Val Epoch:22: 0it [00:00, ?it/s]615841)\u001b[0m \n",
      "Val Epoch:22: 1it [00:00,  1.04it/s]\u001b[32m [repeated 21x across cluster]\u001b[0m\n"
     ]
    },
    {
     "name": "stdout",
     "output_type": "stream",
     "text": [
      "\u001b[36m(tune_with_parameters pid=2615841)\u001b[0m loss: 0.000\u001b[32m [repeated 3x across cluster]\u001b[0m\n",
      "\u001b[36m(tune_with_parameters pid=2615841)\u001b[0m loss: 0.000\u001b[32m [repeated 13x across cluster]\u001b[0m\n"
     ]
    },
    {
     "name": "stderr",
     "output_type": "stream",
     "text": [
      "Val Epoch:23: 0it [00:00, ?it/s]615841)\u001b[0m \n",
      "Val Epoch:22: 47it [00:03, 14.86it/s]\u001b[32m [repeated 14x across cluster]\u001b[0m\n"
     ]
    },
    {
     "name": "stdout",
     "output_type": "stream",
     "text": [
      "\u001b[36m(tune_with_parameters pid=2615841)\u001b[0m loss: 0.000\u001b[32m [repeated 3x across cluster]\u001b[0m\n"
     ]
    },
    {
     "name": "stderr",
     "output_type": "stream",
     "text": [
      "\u001b[36m(tune_with_parameters pid=2664558)\u001b[0m /users/k23058970/miniforge3/envs/Training/lib/python3.10/site-packages/torch/nn/modules/lazy.py:181: UserWarning: Lazy modules are a new feature under heavy development so changes to the API or functionality can happen at any moment.\n",
      "\u001b[36m(tune_with_parameters pid=2664558)\u001b[0m   warnings.warn('Lazy modules are a new feature under heavy development '\n",
      "Val Epoch:23: 47it [00:01, 27.58it/s]\u001b[32m [repeated 11x across cluster]\u001b[0m\n"
     ]
    },
    {
     "name": "stdout",
     "output_type": "stream",
     "text": [
      "\u001b[36m(tune_with_parameters pid=2615841)\u001b[0m loss: 0.001\u001b[32m [repeated 12x across cluster]\u001b[0m\n"
     ]
    },
    {
     "name": "stderr",
     "output_type": "stream",
     "text": [
      "Val Epoch:24: 0it [00:00, ?it/s]615841)\u001b[0m \n"
     ]
    },
    {
     "name": "stdout",
     "output_type": "stream",
     "text": [
      "\u001b[36m(tune_with_parameters pid=2615841)\u001b[0m loss: 0.000\u001b[32m [repeated 4x across cluster]\u001b[0m\n",
      "\u001b[36m(tune_with_parameters pid=2664558)\u001b[0m loss: 1.097\u001b[32m [repeated 16x across cluster]\u001b[0m\n"
     ]
    },
    {
     "name": "stderr",
     "output_type": "stream",
     "text": [
      "Val Epoch:25: 0it [00:00, ?it/s]615841)\u001b[0m \n",
      "Val Epoch:24: 47it [00:02, 22.29it/s]\u001b[32m [repeated 13x across cluster]\u001b[0m\n"
     ]
    },
    {
     "name": "stdout",
     "output_type": "stream",
     "text": [
      "\u001b[36m(tune_with_parameters pid=2615841)\u001b[0m loss: 0.001\u001b[32m [repeated 9x across cluster]\u001b[0m\n"
     ]
    },
    {
     "name": "stderr",
     "output_type": "stream",
     "text": [
      "Val Epoch:0: 0it [00:00, ?it/s]2664558)\u001b[0m \n",
      "Val Epoch:25: 47it [00:02, 23.14it/s]\u001b[32m [repeated 14x across cluster]\u001b[0m\n"
     ]
    },
    {
     "name": "stdout",
     "output_type": "stream",
     "text": [
      "\u001b[36m(tune_with_parameters pid=2615841)\u001b[0m loss: 0.001\u001b[32m [repeated 16x across cluster]\u001b[0m\n",
      "\u001b[36m(tune_with_parameters pid=2664558)\u001b[0m /tmp/tmprnsqca2d/checkpoint.pt\n"
     ]
    },
    {
     "name": "stderr",
     "output_type": "stream",
     "text": [
      "\u001b[36m(tune_with_parameters pid=2664558)\u001b[0m Checkpoint successfully created at: Checkpoint(filesystem=local, path=/scratch/users/k23058970/Model training/results/Complex Peak LRCN Null/tune_with_parameters_2024-08-19_22-54-03/tune_with_parameters_a4509_00002_2_dp=0.5000,k1=3,k2=5,k3=3,k4=3,lr=0.0429_2024-08-19_22-54-43/checkpoint_000000)\n",
      "Val Epoch:26: 0it [00:00, ?it/s]615841)\u001b[0m \n",
      "Val Epoch:26: 34it [00:02, 14.66it/s]\u001b[32m [repeated 24x across cluster]\u001b[0m\n"
     ]
    },
    {
     "name": "stdout",
     "output_type": "stream",
     "text": [
      "\u001b[36m(tune_with_parameters pid=2664558)\u001b[0m loss: 0.481\u001b[32m [repeated 4x across cluster]\u001b[0m\n",
      "\u001b[36m(tune_with_parameters pid=2615841)\u001b[0m loss: 0.000\u001b[32m [repeated 20x across cluster]\u001b[0m\n"
     ]
    },
    {
     "name": "stderr",
     "output_type": "stream",
     "text": [
      "Val Epoch:27: 0it [00:00, ?it/s]615841)\u001b[0m \n",
      "Val Epoch:26: 47it [00:02, 17.19it/s]\u001b[32m [repeated 4x across cluster]\u001b[0m\n",
      "Val Epoch:1: 0it [00:00, ?it/s]2664558)\u001b[0m \n",
      "Val Epoch:27: 47it [00:02, 19.78it/s]\u001b[32m [repeated 12x across cluster]\u001b[0m\n"
     ]
    },
    {
     "name": "stdout",
     "output_type": "stream",
     "text": [
      "\u001b[36m(tune_with_parameters pid=2615841)\u001b[0m loss: 0.001\u001b[32m [repeated 11x across cluster]\u001b[0m\n",
      "\u001b[36m(tune_with_parameters pid=2664558)\u001b[0m /tmp/tmpduqqyqq4/checkpoint.pt\n"
     ]
    },
    {
     "name": "stderr",
     "output_type": "stream",
     "text": [
      "\u001b[36m(tune_with_parameters pid=2664558)\u001b[0m Checkpoint successfully created at: Checkpoint(filesystem=local, path=/scratch/users/k23058970/Model training/results/Complex Peak LRCN Null/tune_with_parameters_2024-08-19_22-54-03/tune_with_parameters_a4509_00002_2_dp=0.5000,k1=3,k2=5,k3=3,k4=3,lr=0.0429_2024-08-19_22-54-43/checkpoint_000001)\n"
     ]
    },
    {
     "name": "stdout",
     "output_type": "stream",
     "text": [
      "\u001b[36m(tune_with_parameters pid=2664558)\u001b[0m loss: 0.487\u001b[32m [repeated 11x across cluster]\u001b[0m\n"
     ]
    },
    {
     "name": "stderr",
     "output_type": "stream",
     "text": [
      "Val Epoch:28: 0it [00:00, ?it/s]615841)\u001b[0m \n",
      "Val Epoch:1: 47it [00:02, 16.00it/s]\u001b[32m [repeated 18x across cluster]\u001b[0m\n"
     ]
    },
    {
     "name": "stdout",
     "output_type": "stream",
     "text": [
      "\u001b[36m(tune_with_parameters pid=2615841)\u001b[0m loss: 0.000\u001b[32m [repeated 8x across cluster]\u001b[0m\n"
     ]
    },
    {
     "name": "stderr",
     "output_type": "stream",
     "text": [
      "Val Epoch:29: 0it [00:00, ?it/s]615841)\u001b[0m \n",
      "Val Epoch:28: 47it [00:02, 19.32it/s]\u001b[32m [repeated 13x across cluster]\u001b[0m\n"
     ]
    },
    {
     "name": "stdout",
     "output_type": "stream",
     "text": [
      "\u001b[36m(tune_with_parameters pid=2664558)\u001b[0m loss: 0.462\u001b[32m [repeated 20x across cluster]\u001b[0m\n"
     ]
    },
    {
     "name": "stderr",
     "output_type": "stream",
     "text": [
      "Val Epoch:2: 0it [00:00, ?it/s]2664558)\u001b[0m \n",
      "Val Epoch:2: 21it [00:01, 13.87it/s]\u001b[32m [repeated 20x across cluster]\u001b[0m\n"
     ]
    },
    {
     "name": "stdout",
     "output_type": "stream",
     "text": [
      "\u001b[36m(tune_with_parameters pid=2615841)\u001b[0m loss: 0.000\u001b[32m [repeated 8x across cluster]\u001b[0m\n",
      "\u001b[36m(tune_with_parameters pid=2664558)\u001b[0m /tmp/tmpfmg5omib/checkpoint.pt\n"
     ]
    },
    {
     "name": "stderr",
     "output_type": "stream",
     "text": [
      "\u001b[36m(tune_with_parameters pid=2664558)\u001b[0m Checkpoint successfully created at: Checkpoint(filesystem=local, path=/scratch/users/k23058970/Model training/results/Complex Peak LRCN Null/tune_with_parameters_2024-08-19_22-54-03/tune_with_parameters_a4509_00002_2_dp=0.5000,k1=3,k2=5,k3=3,k4=3,lr=0.0429_2024-08-19_22-54-43/checkpoint_000002)\n",
      "Val Epoch:30: 0it [00:00, ?it/s]615841)\u001b[0m \n",
      "Val Epoch:2: 47it [00:02, 15.70it/s]\u001b[32m [repeated 9x across cluster]\u001b[0m\n"
     ]
    },
    {
     "name": "stdout",
     "output_type": "stream",
     "text": [
      "\u001b[36m(tune_with_parameters pid=2664558)\u001b[0m loss: 0.454\u001b[32m [repeated 13x across cluster]\u001b[0m\n",
      "\u001b[36m(tune_with_parameters pid=2615841)\u001b[0m loss: 0.000\u001b[32m [repeated 11x across cluster]\u001b[0m\n"
     ]
    },
    {
     "name": "stderr",
     "output_type": "stream",
     "text": [
      "Val Epoch:31: 0it [00:00, ?it/s]615841)\u001b[0m \n",
      "Val Epoch:30: 47it [00:01, 24.44it/s]\u001b[32m [repeated 12x across cluster]\u001b[0m\n"
     ]
    },
    {
     "name": "stdout",
     "output_type": "stream",
     "text": [
      "\u001b[36m(tune_with_parameters pid=2615841)\u001b[0m loss: 0.000\u001b[32m [repeated 16x across cluster]\u001b[0m\n",
      "\u001b[36m(tune_with_parameters pid=2664558)\u001b[0m /tmp/tmpbfcuz5t4/checkpoint.pt\n"
     ]
    },
    {
     "name": "stderr",
     "output_type": "stream",
     "text": [
      "\u001b[36m(tune_with_parameters pid=2664558)\u001b[0m Checkpoint successfully created at: Checkpoint(filesystem=local, path=/scratch/users/k23058970/Model training/results/Complex Peak LRCN Null/tune_with_parameters_2024-08-19_22-54-03/tune_with_parameters_a4509_00002_2_dp=0.5000,k1=3,k2=5,k3=3,k4=3,lr=0.0429_2024-08-19_22-54-43/checkpoint_000003)\n",
      "Val Epoch:3: 0it [00:00, ?it/s]2664558)\u001b[0m \n",
      "Val Epoch:3: 47it [00:03, 12.70it/s]\u001b[32m [repeated 31x across cluster]\u001b[0m\n"
     ]
    },
    {
     "name": "stdout",
     "output_type": "stream",
     "text": [
      "\u001b[36m(tune_with_parameters pid=2664558)\u001b[0m loss: 0.002\u001b[32m [repeated 16x across cluster]\u001b[0m\n"
     ]
    },
    {
     "name": "stderr",
     "output_type": "stream",
     "text": [
      "Val Epoch:32: 0it [00:00, ?it/s]615841)\u001b[0m \n",
      "Val Epoch:32: 1it [00:00,  3.64it/s]41)\u001b[0m \n",
      "Val Epoch:32: 5it [00:00, 15.80it/s]41)\u001b[0m \n",
      "Val Epoch:32: 10it [00:00, 21.38it/s]1)\u001b[0m \n",
      "Val Epoch:32: 13it [00:00, 22.03it/s]1)\u001b[0m \n",
      "Val Epoch:32: 16it [00:00, 23.54it/s]1)\u001b[0m \n",
      "Val Epoch:32: 21it [00:00, 27.53it/s]1)\u001b[0m \n",
      "Val Epoch:32: 25it [00:01, 30.19it/s]1)\u001b[0m \n",
      "Val Epoch:32: 29it [00:01, 29.22it/s]1)\u001b[0m \n",
      "Val Epoch:32: 33it [00:01, 27.64it/s]1)\u001b[0m \n",
      "Val Epoch:32: 36it [00:01, 22.99it/s]1)\u001b[0m \n",
      "Val Epoch:32: 39it [00:01, 23.99it/s]1)\u001b[0m \n",
      "Val Epoch:32: 44it [00:01, 29.67it/s]1)\u001b[0m \n",
      "Val Epoch:32: 47it [00:01, 24.96it/s]1)\u001b[0m \n"
     ]
    },
    {
     "name": "stdout",
     "output_type": "stream",
     "text": [
      "\u001b[36m(tune_with_parameters pid=2615841)\u001b[0m loss: 0.000\u001b[32m [repeated 10x across cluster]\u001b[0m\n"
     ]
    },
    {
     "name": "stderr",
     "output_type": "stream",
     "text": [
      "Val Epoch:4: 0it [00:00, ?it/s]2664558)\u001b[0m \n",
      "Val Epoch:4: 1it [00:00,  3.79it/s]558)\u001b[0m \n",
      "Val Epoch:4: 4it [00:00, 11.31it/s]558)\u001b[0m \n",
      "Val Epoch:4: 7it [00:00, 16.64it/s]558)\u001b[0m \n",
      "Val Epoch:4: 10it [00:00, 18.55it/s]58)\u001b[0m \n",
      "Val Epoch:4: 14it [00:00, 19.85it/s]58)\u001b[0m \n",
      "Val Epoch:4: 17it [00:01, 19.10it/s]58)\u001b[0m \n",
      "Val Epoch:4: 20it [00:01, 18.88it/s]58)\u001b[0m \n",
      "Val Epoch:4: 23it [00:01, 20.00it/s]58)\u001b[0m \n"
     ]
    },
    {
     "name": "stdout",
     "output_type": "stream",
     "text": [
      "\u001b[36m(tune_with_parameters pid=2615841)\u001b[0m loss: 0.000\u001b[32m [repeated 16x across cluster]\u001b[0m\n"
     ]
    },
    {
     "name": "stderr",
     "output_type": "stream",
     "text": [
      "Val Epoch:4: 26it [00:01, 20.96it/s]58)\u001b[0m \n",
      "Val Epoch:4: 29it [00:01, 20.28it/s]58)\u001b[0m \n",
      "Val Epoch:4: 32it [00:01, 20.79it/s]58)\u001b[0m \n",
      "Val Epoch:4: 35it [00:01, 21.51it/s]58)\u001b[0m \n",
      "Val Epoch:4: 38it [00:01, 23.29it/s]58)\u001b[0m \n",
      "Val Epoch:4: 42it [00:02, 25.65it/s]58)\u001b[0m \n",
      "Val Epoch:33: 0it [00:00, ?it/s]615841)\u001b[0m \n",
      "Val Epoch:4: 46it [00:02, 13.94it/s]58)\u001b[0m \n",
      "Val Epoch:4: 47it [00:03, 13.81it/s]58)\u001b[0m \n"
     ]
    },
    {
     "name": "stdout",
     "output_type": "stream",
     "text": [
      "\u001b[36m(tune_with_parameters pid=2664558)\u001b[0m /tmp/tmpwkjs7itj/checkpoint.pt\n"
     ]
    },
    {
     "name": "stderr",
     "output_type": "stream",
     "text": [
      "\u001b[36m(tune_with_parameters pid=2664558)\u001b[0m Checkpoint successfully created at: Checkpoint(filesystem=local, path=/scratch/users/k23058970/Model training/results/Complex Peak LRCN Null/tune_with_parameters_2024-08-19_22-54-03/tune_with_parameters_a4509_00002_2_dp=0.5000,k1=3,k2=5,k3=3,k4=3,lr=0.0429_2024-08-19_22-54-43/checkpoint_000004)\n",
      "Val Epoch:33: 28it [00:03,  7.47it/s]\u001b[32m [repeated 8x across cluster]\u001b[0m\n"
     ]
    },
    {
     "name": "stdout",
     "output_type": "stream",
     "text": [
      "\u001b[36m(tune_with_parameters pid=2664558)\u001b[0m loss: 0.001\u001b[32m [repeated 4x across cluster]\u001b[0m\n",
      "\u001b[36m(tune_with_parameters pid=2615841)\u001b[0m loss: 0.000\u001b[32m [repeated 21x across cluster]\u001b[0m\n"
     ]
    },
    {
     "name": "stderr",
     "output_type": "stream",
     "text": [
      "Val Epoch:34: 0it [00:00, ?it/s]615841)\u001b[0m \n",
      "Val Epoch:33: 47it [00:04, 11.29it/s]\u001b[32m [repeated 5x across cluster]\u001b[0m\n"
     ]
    },
    {
     "name": "stdout",
     "output_type": "stream",
     "text": [
      "\u001b[36m(tune_with_parameters pid=2664558)\u001b[0m loss: 0.000\u001b[32m [repeated 9x across cluster]\u001b[0m\n"
     ]
    },
    {
     "name": "stderr",
     "output_type": "stream",
     "text": [
      "Val Epoch:5: 0it [00:00, ?it/s]2664558)\u001b[0m \n",
      "Val Epoch:5: 1it [00:00,  1.81it/s]\u001b[32m [repeated 14x across cluster]\u001b[0m\n"
     ]
    },
    {
     "name": "stdout",
     "output_type": "stream",
     "text": [
      "\u001b[36m(tune_with_parameters pid=2615841)\u001b[0m loss: 0.001\u001b[32m [repeated 10x across cluster]\u001b[0m\n"
     ]
    },
    {
     "name": "stderr",
     "output_type": "stream",
     "text": [
      "Val Epoch:35: 0it [00:00, ?it/s]615841)\u001b[0m \n",
      "Val Epoch:5: 47it [00:02, 15.72it/s]\u001b[32m [repeated 17x across cluster]\u001b[0m\n"
     ]
    },
    {
     "name": "stdout",
     "output_type": "stream",
     "text": [
      "\u001b[36m(tune_with_parameters pid=2615841)\u001b[0m loss: 0.000\u001b[32m [repeated 10x across cluster]\u001b[0m\n",
      "\u001b[36m(tune_with_parameters pid=2615841)\u001b[0m loss: 0.000\u001b[32m [repeated 20x across cluster]\u001b[0m\n"
     ]
    },
    {
     "name": "stderr",
     "output_type": "stream",
     "text": [
      "Val Epoch:6: 0it [00:00, ?it/s]2664558)\u001b[0m \n",
      "Val Epoch:35: 47it [00:02, 17.81it/s]\u001b[32m [repeated 15x across cluster]\u001b[0m\n"
     ]
    },
    {
     "name": "stdout",
     "output_type": "stream",
     "text": [
      "\u001b[36m(tune_with_parameters pid=2615841)\u001b[0m loss: 0.000\u001b[32m [repeated 4x across cluster]\u001b[0m\n",
      "\u001b[36m(tune_with_parameters pid=2664558)\u001b[0m loss: 0.000\u001b[32m [repeated 21x across cluster]\u001b[0m\n"
     ]
    },
    {
     "name": "stderr",
     "output_type": "stream",
     "text": [
      "Val Epoch:37: 0it [00:00, ?it/s]\u001b[32m [repeated 2x across cluster]\u001b[0m\n",
      "Val Epoch:6: 47it [00:03, 13.01it/s]\u001b[32m [repeated 30x across cluster]\u001b[0m\n"
     ]
    },
    {
     "name": "stdout",
     "output_type": "stream",
     "text": [
      "\u001b[36m(tune_with_parameters pid=2615841)\u001b[0m loss: 0.000\u001b[32m [repeated 10x across cluster]\u001b[0m\n"
     ]
    },
    {
     "name": "stderr",
     "output_type": "stream",
     "text": [
      "Val Epoch:7: 0it [00:00, ?it/s]2664558)\u001b[0m \n",
      "Val Epoch:37: 47it [00:02, 22.84it/s]\u001b[32m [repeated 13x across cluster]\u001b[0m\n"
     ]
    },
    {
     "name": "stdout",
     "output_type": "stream",
     "text": [
      "\u001b[36m(tune_with_parameters pid=2615841)\u001b[0m loss: 0.000\u001b[32m [repeated 12x across cluster]\u001b[0m\n"
     ]
    },
    {
     "name": "stderr",
     "output_type": "stream",
     "text": [
      "Val Epoch:38: 0it [00:00, ?it/s]615841)\u001b[0m \n",
      "Val Epoch:7: 47it [00:02, 17.50it/s]\u001b[32m [repeated 19x across cluster]\u001b[0m\n"
     ]
    },
    {
     "name": "stdout",
     "output_type": "stream",
     "text": [
      "\u001b[36m(tune_with_parameters pid=2664558)\u001b[0m loss: 0.000\u001b[32m [repeated 7x across cluster]\u001b[0m\n",
      "\u001b[36m(tune_with_parameters pid=2615841)\u001b[0m loss: 0.000\u001b[32m [repeated 20x across cluster]\u001b[0m\n"
     ]
    },
    {
     "name": "stderr",
     "output_type": "stream",
     "text": [
      "Val Epoch:39: 0it [00:00, ?it/s]615841)\u001b[0m \n",
      "Val Epoch:38: 47it [00:01, 23.63it/s]\u001b[32m [repeated 14x across cluster]\u001b[0m\n",
      "Val Epoch:8: 0it [00:00, ?it/s]2664558)\u001b[0m \n"
     ]
    },
    {
     "name": "stdout",
     "output_type": "stream",
     "text": [
      "\u001b[36m(tune_with_parameters pid=2615841)\u001b[0m loss: 0.000\u001b[32m [repeated 5x across cluster]\u001b[0m\n"
     ]
    },
    {
     "name": "stderr",
     "output_type": "stream",
     "text": [
      "Val Epoch:8: 31it [00:02, 16.83it/s]\u001b[32m [repeated 22x across cluster]\u001b[0m\n"
     ]
    },
    {
     "name": "stdout",
     "output_type": "stream",
     "text": [
      "\u001b[36m(tune_with_parameters pid=2615841)\u001b[0m loss: 0.000\u001b[32m [repeated 14x across cluster]\u001b[0m\n"
     ]
    },
    {
     "name": "stderr",
     "output_type": "stream",
     "text": [
      "Val Epoch:40: 0it [00:00, ?it/s]615841)\u001b[0m \n",
      "Val Epoch:8: 47it [00:03, 13.98it/s]\u001b[32m [repeated 5x across cluster]\u001b[0m\n"
     ]
    },
    {
     "name": "stdout",
     "output_type": "stream",
     "text": [
      "\u001b[36m(tune_with_parameters pid=2615841)\u001b[0m loss: 0.000\u001b[32m [repeated 11x across cluster]\u001b[0m\n"
     ]
    },
    {
     "name": "stderr",
     "output_type": "stream",
     "text": [
      "Val Epoch:9: 0it [00:00, ?it/s]2664558)\u001b[0m \n",
      "Val Epoch:40: 47it [00:01, 25.49it/s]\u001b[32m [repeated 13x across cluster]\u001b[0m\n"
     ]
    },
    {
     "name": "stdout",
     "output_type": "stream",
     "text": [
      "\u001b[36m(tune_with_parameters pid=2615841)\u001b[0m loss: 0.001\u001b[32m [repeated 17x across cluster]\u001b[0m\n"
     ]
    },
    {
     "name": "stderr",
     "output_type": "stream",
     "text": [
      "Val Epoch:41: 0it [00:00, ?it/s]615841)\u001b[0m \n",
      "Val Epoch:41: 23it [00:02, 22.70it/s]\u001b[32m [repeated 26x across cluster]\u001b[0m\n"
     ]
    },
    {
     "name": "stdout",
     "output_type": "stream",
     "text": [
      "\u001b[36m(tune_with_parameters pid=2615841)\u001b[0m loss: 0.000\u001b[32m [repeated 5x across cluster]\u001b[0m\n",
      "\u001b[36m(tune_with_parameters pid=2615841)\u001b[0m loss: 0.000\u001b[32m [repeated 20x across cluster]\u001b[0m\n"
     ]
    },
    {
     "name": "stderr",
     "output_type": "stream",
     "text": [
      "Val Epoch:42: 0it [00:00, ?it/s]615841)\u001b[0m \n",
      "Val Epoch:41: 47it [00:03, 13.98it/s]\u001b[32m [repeated 6x across cluster]\u001b[0m\n"
     ]
    },
    {
     "name": "stdout",
     "output_type": "stream",
     "text": [
      "\u001b[36m(tune_with_parameters pid=2615841)\u001b[0m loss: 0.000\u001b[32m [repeated 10x across cluster]\u001b[0m\n"
     ]
    },
    {
     "name": "stderr",
     "output_type": "stream",
     "text": [
      "Val Epoch:10: 0it [00:00, ?it/s]664558)\u001b[0m \n",
      "Val Epoch:10: 7it [00:00, 20.84it/s]\u001b[32m [repeated 17x across cluster]\u001b[0m\n"
     ]
    },
    {
     "name": "stdout",
     "output_type": "stream",
     "text": [
      "\u001b[36m(tune_with_parameters pid=2615841)\u001b[0m loss: 0.001\u001b[32m [repeated 12x across cluster]\u001b[0m\n"
     ]
    },
    {
     "name": "stderr",
     "output_type": "stream",
     "text": [
      "Val Epoch:43: 0it [00:00, ?it/s]615841)\u001b[0m \n",
      "Val Epoch:10: 47it [00:02, 17.01it/s]\u001b[32m [repeated 15x across cluster]\u001b[0m\n"
     ]
    },
    {
     "name": "stdout",
     "output_type": "stream",
     "text": [
      "\u001b[36m(tune_with_parameters pid=2615841)\u001b[0m loss: 0.000\u001b[32m [repeated 10x across cluster]\u001b[0m\n"
     ]
    },
    {
     "name": "stderr",
     "output_type": "stream",
     "text": [
      "Val Epoch:11: 0it [00:00, ?it/s]664558)\u001b[0m \n",
      "Val Epoch:43: 47it [00:02, 22.75it/s]\u001b[32m [repeated 12x across cluster]\u001b[0m\n"
     ]
    },
    {
     "name": "stdout",
     "output_type": "stream",
     "text": [
      "\u001b[36m(tune_with_parameters pid=2615841)\u001b[0m loss: 0.000\u001b[32m [repeated 20x across cluster]\u001b[0m\n"
     ]
    },
    {
     "name": "stderr",
     "output_type": "stream",
     "text": [
      "Val Epoch:44: 0it [00:00, ?it/s]615841)\u001b[0m \n"
     ]
    },
    {
     "name": "stdout",
     "output_type": "stream",
     "text": [
      "\u001b[36m(tune_with_parameters pid=2664558)\u001b[0m loss: 0.000\u001b[32m [repeated 2x across cluster]\u001b[0m\n",
      "\u001b[36m(tune_with_parameters pid=2615841)\u001b[0m loss: 0.001\u001b[32m [repeated 20x across cluster]\u001b[0m\n"
     ]
    },
    {
     "name": "stderr",
     "output_type": "stream",
     "text": [
      "Val Epoch:45: 0it [00:00, ?it/s]615841)\u001b[0m \n",
      "Val Epoch:44: 47it [00:02, 17.42it/s]\u001b[32m [repeated 30x across cluster]\u001b[0m\n",
      "Val Epoch:45: 47it [00:02, 19.87it/s]1)\u001b[0m \n"
     ]
    },
    {
     "name": "stdout",
     "output_type": "stream",
     "text": [
      "\u001b[36m(tune_with_parameters pid=2615841)\u001b[0m loss: 0.000\u001b[32m [repeated 9x across cluster]\u001b[0m\n"
     ]
    },
    {
     "name": "stderr",
     "output_type": "stream",
     "text": [
      "Val Epoch:12: 0it [00:00, ?it/s]664558)\u001b[0m \n",
      "Val Epoch:45: 41it [00:02, 25.94it/s]\u001b[32m [repeated 13x across cluster]\u001b[0m\n"
     ]
    },
    {
     "name": "stdout",
     "output_type": "stream",
     "text": [
      "\u001b[36m(tune_with_parameters pid=2615841)\u001b[0m loss: 0.000\u001b[32m [repeated 13x across cluster]\u001b[0m\n"
     ]
    },
    {
     "name": "stderr",
     "output_type": "stream",
     "text": [
      "Val Epoch:46: 0it [00:00, ?it/s]615841)\u001b[0m \n",
      "Val Epoch:12: 47it [00:03, 14.11it/s]\u001b[32m [repeated 17x across cluster]\u001b[0m\n"
     ]
    },
    {
     "name": "stdout",
     "output_type": "stream",
     "text": [
      "\u001b[36m(tune_with_parameters pid=2615841)\u001b[0m loss: 0.000\u001b[32m [repeated 8x across cluster]\u001b[0m\n",
      "\u001b[36m(tune_with_parameters pid=2615841)\u001b[0m loss: 0.000\u001b[32m [repeated 20x across cluster]\u001b[0m\n"
     ]
    },
    {
     "name": "stderr",
     "output_type": "stream",
     "text": [
      "Val Epoch:47: 0it [00:00, ?it/s]615841)\u001b[0m \n",
      "Val Epoch:46: 47it [00:02, 17.57it/s]\u001b[32m [repeated 14x across cluster]\u001b[0m\n"
     ]
    },
    {
     "name": "stdout",
     "output_type": "stream",
     "text": [
      "\u001b[36m(tune_with_parameters pid=2615841)\u001b[0m loss: 0.000\u001b[32m [repeated 4x across cluster]\u001b[0m\n",
      "\u001b[36m(tune_with_parameters pid=2615841)\u001b[0m loss: 0.000\u001b[32m [repeated 17x across cluster]\u001b[0m\n"
     ]
    },
    {
     "name": "stderr",
     "output_type": "stream",
     "text": [
      "Val Epoch:48: 0it [00:00, ?it/s]\u001b[32m [repeated 2x across cluster]\u001b[0m\n",
      "Val Epoch:13: 47it [00:03, 15.32it/s]\u001b[32m [repeated 31x across cluster]\u001b[0m\n"
     ]
    },
    {
     "name": "stdout",
     "output_type": "stream",
     "text": [
      "\u001b[36m(tune_with_parameters pid=2615841)\u001b[0m loss: 0.000\u001b[32m [repeated 9x across cluster]\u001b[0m\n"
     ]
    },
    {
     "name": "stderr",
     "output_type": "stream",
     "text": [
      "Val Epoch:14: 0it [00:00, ?it/s]664558)\u001b[0m \n",
      "Val Epoch:48: 47it [00:02, 18.28it/s]\u001b[32m [repeated 14x across cluster]\u001b[0m\n"
     ]
    },
    {
     "name": "stdout",
     "output_type": "stream",
     "text": [
      "\u001b[36m(tune_with_parameters pid=2615841)\u001b[0m loss: 0.000\u001b[32m [repeated 15x across cluster]\u001b[0m\n"
     ]
    },
    {
     "name": "stderr",
     "output_type": "stream",
     "text": [
      "Val Epoch:49: 0it [00:00, ?it/s]615841)\u001b[0m \n",
      "Val Epoch:49: 1it [00:00,  9.74it/s]\u001b[32m [repeated 17x across cluster]\u001b[0m\n"
     ]
    },
    {
     "name": "stdout",
     "output_type": "stream",
     "text": [
      "\u001b[36m(tune_with_parameters pid=2615841)\u001b[0m loss: 0.000\u001b[32m [repeated 8x across cluster]\u001b[0m\n",
      "\u001b[36m(tune_with_parameters pid=2615841)\u001b[0m loss: 0.000\u001b[32m [repeated 20x across cluster]\u001b[0m\n"
     ]
    },
    {
     "name": "stderr",
     "output_type": "stream",
     "text": [
      "Val Epoch:50: 0it [00:00, ?it/s]615841)\u001b[0m \n",
      "Val Epoch:49: 47it [00:02, 22.61it/s]\u001b[32m [repeated 13x across cluster]\u001b[0m\n",
      "Val Epoch:15: 0it [00:00, ?it/s]664558)\u001b[0m \n"
     ]
    },
    {
     "name": "stdout",
     "output_type": "stream",
     "text": [
      "\u001b[36m(tune_with_parameters pid=2615841)\u001b[0m loss: 0.000\u001b[32m [repeated 6x across cluster]\u001b[0m\n"
     ]
    },
    {
     "name": "stderr",
     "output_type": "stream",
     "text": [
      "Val Epoch:15: 44it [00:02, 19.73it/s]\u001b[32m [repeated 28x across cluster]\u001b[0m\n"
     ]
    },
    {
     "name": "stdout",
     "output_type": "stream",
     "text": [
      "\u001b[36m(tune_with_parameters pid=2664558)\u001b[0m loss: 0.000\u001b[32m [repeated 15x across cluster]\u001b[0m\n"
     ]
    },
    {
     "name": "stderr",
     "output_type": "stream",
     "text": [
      "Val Epoch:51: 0it [00:00, ?it/s]615841)\u001b[0m \n",
      "Val Epoch:15: 47it [00:03, 15.07it/s]8)\u001b[0m \n",
      "Val Epoch:51: 1it [00:00,  2.64it/s]41)\u001b[0m \n",
      "Val Epoch:51: 4it [00:00, 10.11it/s]41)\u001b[0m \n",
      "Val Epoch:51: 8it [00:00, 15.11it/s]41)\u001b[0m \n",
      "Val Epoch:51: 11it [00:00, 13.82it/s]1)\u001b[0m \n",
      "Val Epoch:51: 14it [00:01, 16.89it/s]1)\u001b[0m \n",
      "Val Epoch:51: 18it [00:01, 20.75it/s]1)\u001b[0m \n",
      "Val Epoch:51: 22it [00:01, 23.41it/s]1)\u001b[0m \n",
      "Val Epoch:51: 26it [00:01, 26.23it/s]1)\u001b[0m \n",
      "Val Epoch:51: 30it [00:01, 27.87it/s]1)\u001b[0m \n",
      "Val Epoch:51: 33it [00:01, 16.28it/s]1)\u001b[0m \n",
      "Val Epoch:51: 37it [00:02, 18.85it/s]1)\u001b[0m \n",
      "Val Epoch:51: 41it [00:02, 22.50it/s]1)\u001b[0m \n",
      "Val Epoch:51: 47it [00:02, 20.30it/s]1)\u001b[0m \n"
     ]
    },
    {
     "name": "stdout",
     "output_type": "stream",
     "text": [
      "\u001b[36m(tune_with_parameters pid=2615841)\u001b[0m loss: 0.000\u001b[32m [repeated 9x across cluster]\u001b[0m\n"
     ]
    },
    {
     "name": "stderr",
     "output_type": "stream",
     "text": [
      "Val Epoch:16: 0it [00:00, ?it/s]664558)\u001b[0m \n",
      "Val Epoch:16: 1it [00:00,  5.41it/s]58)\u001b[0m \n",
      "Val Epoch:16: 5it [00:00, 20.00it/s]58)\u001b[0m \n",
      "Val Epoch:16: 8it [00:00, 21.12it/s]58)\u001b[0m \n",
      "Val Epoch:16: 11it [00:00, 21.35it/s]8)\u001b[0m \n"
     ]
    },
    {
     "name": "stdout",
     "output_type": "stream",
     "text": [
      "\u001b[36m(tune_with_parameters pid=2615841)\u001b[0m loss: 0.001\u001b[32m [repeated 16x across cluster]\u001b[0m\n"
     ]
    },
    {
     "name": "stderr",
     "output_type": "stream",
     "text": [
      "Val Epoch:16: 14it [00:00, 20.22it/s]8)\u001b[0m \n",
      "Val Epoch:16: 17it [00:00, 18.09it/s]8)\u001b[0m \n",
      "Val Epoch:16: 20it [00:01, 18.96it/s]8)\u001b[0m \n",
      "Val Epoch:16: 22it [00:01, 19.01it/s]8)\u001b[0m \n",
      "Val Epoch:16: 25it [00:01, 21.07it/s]8)\u001b[0m \n",
      "Val Epoch:16: 28it [00:01, 22.46it/s]8)\u001b[0m \n",
      "Val Epoch:16: 31it [00:01, 20.89it/s]8)\u001b[0m \n",
      "Val Epoch:16: 34it [00:01, 19.73it/s]8)\u001b[0m \n",
      "Val Epoch:16: 37it [00:01, 19.48it/s]8)\u001b[0m \n",
      "Val Epoch:16: 40it [00:01, 21.58it/s]8)\u001b[0m \n",
      "Val Epoch:16: 44it [00:02, 25.22it/s]8)\u001b[0m \n",
      "Val Epoch:16: 47it [00:03,  8.29it/s]8)\u001b[0m \n",
      "Val Epoch:52: 0it [00:00, ?it/s]615841)\u001b[0m \n",
      "Val Epoch:52: 23it [00:02,  9.91it/s]\u001b[32m [repeated 10x across cluster]\u001b[0m\n"
     ]
    },
    {
     "name": "stdout",
     "output_type": "stream",
     "text": [
      "\u001b[36m(tune_with_parameters pid=2664558)\u001b[0m loss: 0.000\u001b[32m [repeated 6x across cluster]\u001b[0m\n",
      "\u001b[36m(tune_with_parameters pid=2664558)\u001b[0m loss: 0.000\u001b[32m [repeated 17x across cluster]\u001b[0m\n"
     ]
    },
    {
     "name": "stderr",
     "output_type": "stream",
     "text": [
      "Val Epoch:53: 0it [00:00, ?it/s]615841)\u001b[0m \n",
      "Val Epoch:52: 47it [00:03, 14.40it/s]\u001b[32m [repeated 7x across cluster]\u001b[0m\n"
     ]
    },
    {
     "name": "stdout",
     "output_type": "stream",
     "text": [
      "\u001b[36m(tune_with_parameters pid=2615841)\u001b[0m loss: 0.000\u001b[32m [repeated 11x across cluster]\u001b[0m\n"
     ]
    },
    {
     "name": "stderr",
     "output_type": "stream",
     "text": [
      "Val Epoch:17: 0it [00:00, ?it/s]664558)\u001b[0m \n",
      "Val Epoch:17: 6it [00:00,  9.93it/s]\u001b[32m [repeated 15x across cluster]\u001b[0m\n"
     ]
    },
    {
     "name": "stdout",
     "output_type": "stream",
     "text": [
      "\u001b[36m(tune_with_parameters pid=2615841)\u001b[0m loss: 0.000\u001b[32m [repeated 10x across cluster]\u001b[0m\n"
     ]
    },
    {
     "name": "stderr",
     "output_type": "stream",
     "text": [
      "Val Epoch:54: 0it [00:00, ?it/s]615841)\u001b[0m \n",
      "Val Epoch:17: 47it [00:02, 16.87it/s]\u001b[32m [repeated 14x across cluster]\u001b[0m\n"
     ]
    },
    {
     "name": "stdout",
     "output_type": "stream",
     "text": [
      "\u001b[36m(tune_with_parameters pid=2615841)\u001b[0m loss: 0.000\u001b[32m [repeated 13x across cluster]\u001b[0m\n",
      "\u001b[36m(tune_with_parameters pid=2615841)\u001b[0m loss: 0.000\u001b[32m [repeated 21x across cluster]\u001b[0m\n"
     ]
    },
    {
     "name": "stderr",
     "output_type": "stream",
     "text": [
      "Val Epoch:55: 0it [00:00, ?it/s]615841)\u001b[0m \n",
      "Val Epoch:54: 47it [00:02, 22.41it/s]\u001b[32m [repeated 14x across cluster]\u001b[0m\n",
      "Val Epoch:18: 0it [00:00, ?it/s]664558)\u001b[0m \n"
     ]
    },
    {
     "name": "stdout",
     "output_type": "stream",
     "text": [
      "\u001b[36m(tune_with_parameters pid=2615841)\u001b[0m loss: 0.000\u001b[32m [repeated 2x across cluster]\u001b[0m\n"
     ]
    },
    {
     "name": "stderr",
     "output_type": "stream",
     "text": [
      "Val Epoch:18: 37it [00:03, 12.54it/s]\u001b[32m [repeated 27x across cluster]\u001b[0m\n"
     ]
    },
    {
     "name": "stdout",
     "output_type": "stream",
     "text": [
      "\u001b[36m(tune_with_parameters pid=2664558)\u001b[0m loss: 0.000\u001b[32m [repeated 16x across cluster]\u001b[0m\n"
     ]
    },
    {
     "name": "stderr",
     "output_type": "stream",
     "text": [
      "Val Epoch:56: 0it [00:00, ?it/s]615841)\u001b[0m \n",
      "Val Epoch:18: 47it [00:03, 13.02it/s]\u001b[32m [repeated 4x across cluster]\u001b[0m\n"
     ]
    },
    {
     "name": "stdout",
     "output_type": "stream",
     "text": [
      "\u001b[36m(tune_with_parameters pid=2664558)\u001b[0m loss: 0.000\u001b[32m [repeated 11x across cluster]\u001b[0m\n"
     ]
    },
    {
     "name": "stderr",
     "output_type": "stream",
     "text": [
      "Val Epoch:19: 0it [00:00, ?it/s]664558)\u001b[0m \n",
      "Val Epoch:56: 47it [00:01, 25.09it/s]\u001b[32m [repeated 14x across cluster]\u001b[0m\n"
     ]
    },
    {
     "name": "stdout",
     "output_type": "stream",
     "text": [
      "\u001b[36m(tune_with_parameters pid=2615841)\u001b[0m loss: 0.000\u001b[32m [repeated 16x across cluster]\u001b[0m\n"
     ]
    },
    {
     "name": "stderr",
     "output_type": "stream",
     "text": [
      "Val Epoch:57: 0it [00:00, ?it/s]615841)\u001b[0m \n",
      "Val Epoch:57: 1it [00:00,  1.62it/s]\u001b[32m [repeated 18x across cluster]\u001b[0m\n"
     ]
    },
    {
     "name": "stdout",
     "output_type": "stream",
     "text": [
      "\u001b[36m(tune_with_parameters pid=2615841)\u001b[0m loss: 0.000\u001b[32m [repeated 7x across cluster]\u001b[0m\n"
     ]
    },
    {
     "name": "stderr",
     "output_type": "stream",
     "text": [
      "Val Epoch:58: 0it [00:00, ?it/s]615841)\u001b[0m \n",
      "Val Epoch:57: 47it [00:02, 20.75it/s]\u001b[32m [repeated 12x across cluster]\u001b[0m\n"
     ]
    },
    {
     "name": "stdout",
     "output_type": "stream",
     "text": [
      "\u001b[36m(tune_with_parameters pid=2664558)\u001b[0m loss: 0.000\u001b[32m [repeated 21x across cluster]\u001b[0m\n"
     ]
    },
    {
     "name": "stderr",
     "output_type": "stream",
     "text": [
      "Val Epoch:20: 0it [00:00, ?it/s]664558)\u001b[0m \n",
      "Val Epoch:20: 13it [00:01, 15.53it/s]\u001b[32m [repeated 19x across cluster]\u001b[0m\n"
     ]
    },
    {
     "name": "stdout",
     "output_type": "stream",
     "text": [
      "\u001b[36m(tune_with_parameters pid=2615841)\u001b[0m loss: 0.001\u001b[32m [repeated 7x across cluster]\u001b[0m\n",
      "\u001b[36m(tune_with_parameters pid=2615841)\u001b[0m loss: 0.000\u001b[32m [repeated 15x across cluster]\u001b[0m\n"
     ]
    },
    {
     "name": "stderr",
     "output_type": "stream",
     "text": [
      "Val Epoch:59: 0it [00:00, ?it/s]615841)\u001b[0m \n",
      "Val Epoch:20: 47it [00:02, 18.16it/s]\u001b[32m [repeated 12x across cluster]\u001b[0m\n"
     ]
    },
    {
     "name": "stdout",
     "output_type": "stream",
     "text": [
      "\u001b[36m(tune_with_parameters pid=2615841)\u001b[0m loss: 0.000\u001b[32m [repeated 8x across cluster]\u001b[0m\n"
     ]
    },
    {
     "name": "stderr",
     "output_type": "stream",
     "text": [
      "Val Epoch:21: 0it [00:00, ?it/s]664558)\u001b[0m \n",
      "Val Epoch:59: 47it [00:01, 23.77it/s]\u001b[32m [repeated 12x across cluster]\u001b[0m\n"
     ]
    },
    {
     "name": "stdout",
     "output_type": "stream",
     "text": [
      "\u001b[36m(tune_with_parameters pid=2615841)\u001b[0m loss: 0.000\u001b[32m [repeated 18x across cluster]\u001b[0m\n"
     ]
    },
    {
     "name": "stderr",
     "output_type": "stream",
     "text": [
      "Val Epoch:60: 0it [00:00, ?it/s]615841)\u001b[0m \n"
     ]
    },
    {
     "name": "stdout",
     "output_type": "stream",
     "text": [
      "\u001b[36m(tune_with_parameters pid=2615841)\u001b[0m loss: 0.000\u001b[32m [repeated 2x across cluster]\u001b[0m\n",
      "\u001b[36m(tune_with_parameters pid=2615841)\u001b[0m loss: 0.000\u001b[32m [repeated 20x across cluster]\u001b[0m\n"
     ]
    },
    {
     "name": "stderr",
     "output_type": "stream",
     "text": [
      "Val Epoch:61: 0it [00:00, ?it/s]615841)\u001b[0m \n",
      "Val Epoch:60: 47it [00:03, 14.79it/s]\u001b[32m [repeated 30x across cluster]\u001b[0m\n"
     ]
    },
    {
     "name": "stdout",
     "output_type": "stream",
     "text": [
      "\u001b[36m(tune_with_parameters pid=2615841)\u001b[0m loss: 0.000\u001b[32m [repeated 9x across cluster]\u001b[0m\n"
     ]
    },
    {
     "name": "stderr",
     "output_type": "stream",
     "text": [
      "Val Epoch:22: 0it [00:00, ?it/s]664558)\u001b[0m \n",
      "Val Epoch:61: 47it [00:01, 24.28it/s]\u001b[32m [repeated 12x across cluster]\u001b[0m\n"
     ]
    },
    {
     "name": "stdout",
     "output_type": "stream",
     "text": [
      "\u001b[36m(tune_with_parameters pid=2615841)\u001b[0m loss: 0.001\u001b[32m [repeated 12x across cluster]\u001b[0m\n"
     ]
    },
    {
     "name": "stderr",
     "output_type": "stream",
     "text": [
      "Val Epoch:62: 0it [00:00, ?it/s]615841)\u001b[0m \n",
      "Val Epoch:62: 1it [00:01,  1.07s/it]\u001b[32m [repeated 18x across cluster]\u001b[0m\n"
     ]
    },
    {
     "name": "stdout",
     "output_type": "stream",
     "text": [
      "\u001b[36m(tune_with_parameters pid=2615841)\u001b[0m loss: 0.000\u001b[32m [repeated 8x across cluster]\u001b[0m\n",
      "\u001b[36m(tune_with_parameters pid=2615841)\u001b[0m loss: 0.000\u001b[32m [repeated 19x across cluster]\u001b[0m\n"
     ]
    },
    {
     "name": "stderr",
     "output_type": "stream",
     "text": [
      "Val Epoch:63: 0it [00:00, ?it/s]615841)\u001b[0m \n",
      "Val Epoch:62: 47it [00:02, 17.21it/s]\u001b[32m [repeated 12x across cluster]\u001b[0m\n"
     ]
    },
    {
     "name": "stdout",
     "output_type": "stream",
     "text": [
      "\u001b[36m(tune_with_parameters pid=2615841)\u001b[0m loss: 0.000\u001b[32m [repeated 6x across cluster]\u001b[0m\n"
     ]
    },
    {
     "name": "stderr",
     "output_type": "stream",
     "text": [
      "Val Epoch:23: 0it [00:00, ?it/s]664558)\u001b[0m \n",
      "Val Epoch:23: 35it [00:02, 13.16it/s]\u001b[32m [repeated 24x across cluster]\u001b[0m\n"
     ]
    },
    {
     "name": "stdout",
     "output_type": "stream",
     "text": [
      "\u001b[36m(tune_with_parameters pid=2664558)\u001b[0m loss: 0.000\u001b[32m [repeated 15x across cluster]\u001b[0m\n"
     ]
    },
    {
     "name": "stderr",
     "output_type": "stream",
     "text": [
      "Val Epoch:64: 0it [00:00, ?it/s]615841)\u001b[0m \n",
      "Val Epoch:23: 47it [00:03, 13.57it/s]\u001b[32m [repeated 5x across cluster]\u001b[0m\n"
     ]
    },
    {
     "name": "stdout",
     "output_type": "stream",
     "text": [
      "\u001b[36m(tune_with_parameters pid=2615841)\u001b[0m loss: 0.000\u001b[32m [repeated 10x across cluster]\u001b[0m\n"
     ]
    },
    {
     "name": "stderr",
     "output_type": "stream",
     "text": [
      "Val Epoch:24: 0it [00:00, ?it/s]664558)\u001b[0m \n",
      "Val Epoch:64: 47it [00:01, 31.70it/s]\u001b[32m [repeated 12x across cluster]\u001b[0m\n"
     ]
    },
    {
     "name": "stdout",
     "output_type": "stream",
     "text": [
      "\u001b[36m(tune_with_parameters pid=2615841)\u001b[0m loss: 0.000\u001b[32m [repeated 15x across cluster]\u001b[0m\n"
     ]
    },
    {
     "name": "stderr",
     "output_type": "stream",
     "text": [
      "Val Epoch:65: 0it [00:00, ?it/s]615841)\u001b[0m \n",
      "Val Epoch:65: 1it [00:00,  1.33it/s]\u001b[32m [repeated 16x across cluster]\u001b[0m\n"
     ]
    },
    {
     "name": "stdout",
     "output_type": "stream",
     "text": [
      "\u001b[36m(tune_with_parameters pid=2664558)\u001b[0m loss: 0.000\u001b[32m [repeated 7x across cluster]\u001b[0m\n",
      "\u001b[36m(tune_with_parameters pid=2615841)\u001b[0m loss: 0.000\u001b[32m [repeated 16x across cluster]\u001b[0m\n"
     ]
    },
    {
     "name": "stderr",
     "output_type": "stream",
     "text": [
      "Val Epoch:66: 0it [00:00, ?it/s]615841)\u001b[0m \n",
      "Val Epoch:65: 47it [00:02, 19.47it/s]\u001b[32m [repeated 13x across cluster]\u001b[0m\n",
      "Val Epoch:25: 0it [00:00, ?it/s]664558)\u001b[0m \n"
     ]
    },
    {
     "name": "stdout",
     "output_type": "stream",
     "text": [
      "\u001b[36m(tune_with_parameters pid=2615841)\u001b[0m loss: 0.000\u001b[32m [repeated 12x across cluster]\u001b[0m\n"
     ]
    },
    {
     "name": "stderr",
     "output_type": "stream",
     "text": [
      "Val Epoch:25: 20it [00:02, 11.52it/s]\u001b[32m [repeated 19x across cluster]\u001b[0m\n",
      "Val Epoch:25: 47it [00:03, 13.50it/s]8)\u001b[0m \n"
     ]
    },
    {
     "name": "stdout",
     "output_type": "stream",
     "text": [
      "\u001b[36m(tune_with_parameters pid=2615841)\u001b[0m loss: 0.000\u001b[32m [repeated 14x across cluster]\u001b[0m\n"
     ]
    },
    {
     "name": "stderr",
     "output_type": "stream",
     "text": [
      "Val Epoch:67: 0it [00:00, ?it/s]615841)\u001b[0m \n",
      "Val Epoch:25: 43it [00:03, 19.85it/s]\u001b[32m [repeated 7x across cluster]\u001b[0m\n"
     ]
    },
    {
     "name": "stdout",
     "output_type": "stream",
     "text": [
      "\u001b[36m(tune_with_parameters pid=2615841)\u001b[0m loss: 0.000\u001b[32m [repeated 10x across cluster]\u001b[0m\n"
     ]
    },
    {
     "name": "stderr",
     "output_type": "stream",
     "text": [
      "Val Epoch:26: 0it [00:00, ?it/s]664558)\u001b[0m \n",
      "Val Epoch:67: 47it [00:02, 19.08it/s]\u001b[32m [repeated 13x across cluster]\u001b[0m\n"
     ]
    },
    {
     "name": "stdout",
     "output_type": "stream",
     "text": [
      "\u001b[36m(tune_with_parameters pid=2615841)\u001b[0m loss: 0.000\u001b[32m [repeated 18x across cluster]\u001b[0m\n"
     ]
    },
    {
     "name": "stderr",
     "output_type": "stream",
     "text": [
      "Val Epoch:26: 47it [00:02, 20.02it/s]8)\u001b[0m \n",
      "Val Epoch:68: 0it [00:00, ?it/s]615841)\u001b[0m \n",
      "Val Epoch:68: 37it [00:01, 29.74it/s]\u001b[32m [repeated 25x across cluster]\u001b[0m\n"
     ]
    },
    {
     "name": "stdout",
     "output_type": "stream",
     "text": [
      "\u001b[36m(tune_with_parameters pid=2615841)\u001b[0m loss: 0.000\u001b[32m [repeated 7x across cluster]\u001b[0m\n"
     ]
    },
    {
     "name": "stderr",
     "output_type": "stream",
     "text": [
      "Val Epoch:69: 0it [00:00, ?it/s]615841)\u001b[0m \n",
      "Val Epoch:68: 47it [00:02, 20.93it/s]\u001b[32m [repeated 3x across cluster]\u001b[0m\n"
     ]
    },
    {
     "name": "stdout",
     "output_type": "stream",
     "text": [
      "\u001b[36m(tune_with_parameters pid=2664558)\u001b[0m loss: 0.000\u001b[32m [repeated 21x across cluster]\u001b[0m\n"
     ]
    },
    {
     "name": "stderr",
     "output_type": "stream",
     "text": [
      "Val Epoch:27: 0it [00:00, ?it/s]664558)\u001b[0m \n",
      "Val Epoch:69: 47it [00:02, 18.06it/s]\u001b[32m [repeated 13x across cluster]\u001b[0m\n"
     ]
    },
    {
     "name": "stdout",
     "output_type": "stream",
     "text": [
      "\u001b[36m(tune_with_parameters pid=2615841)\u001b[0m loss: 0.000\u001b[32m [repeated 11x across cluster]\u001b[0m\n"
     ]
    },
    {
     "name": "stderr",
     "output_type": "stream",
     "text": [
      "Val Epoch:70: 0it [00:00, ?it/s]615841)\u001b[0m \n",
      "Val Epoch:27: 47it [00:02, 18.11it/s]\u001b[32m [repeated 17x across cluster]\u001b[0m\n"
     ]
    },
    {
     "name": "stdout",
     "output_type": "stream",
     "text": [
      "\u001b[36m(tune_with_parameters pid=2664558)\u001b[0m loss: 0.000\u001b[32m [repeated 12x across cluster]\u001b[0m\n",
      "\u001b[36m(tune_with_parameters pid=2615841)\u001b[0m loss: 0.000\u001b[32m [repeated 13x across cluster]\u001b[0m\n",
      "\u001b[36m(tune_with_parameters pid=2615841)\u001b[0m \n"
     ]
    },
    {
     "name": "stderr",
     "output_type": "stream",
     "text": [
      "Val Epoch:28: 0it [00:00, ?it/s]664558)\u001b[0m \n",
      "Val Epoch:70: 47it [00:01, 24.00it/s]\u001b[32m [repeated 14x across cluster]\u001b[0m\n",
      "Val Epoch:71: 0it [00:00, ?it/s]615841)\u001b[0m \n"
     ]
    },
    {
     "name": "stdout",
     "output_type": "stream",
     "text": [
      "\u001b[36m(tune_with_parameters pid=2615841)\u001b[0m loss: 0.000\u001b[32m [repeated 14x across cluster]\u001b[0m\n",
      "\u001b[36m(tune_with_parameters pid=2615841)\u001b[0m loss: 0.000\u001b[32m [repeated 17x across cluster]\u001b[0m\n"
     ]
    },
    {
     "name": "stderr",
     "output_type": "stream",
     "text": [
      "Val Epoch:72: 0it [00:00, ?it/s]615841)\u001b[0m \n",
      "Val Epoch:28: 47it [00:03, 12.39it/s]\u001b[32m [repeated 32x across cluster]\u001b[0m\n"
     ]
    },
    {
     "name": "stdout",
     "output_type": "stream",
     "text": [
      "\u001b[36m(tune_with_parameters pid=2615841)\u001b[0m loss: 0.000\u001b[32m [repeated 9x across cluster]\u001b[0m\n"
     ]
    },
    {
     "name": "stderr",
     "output_type": "stream",
     "text": [
      "Val Epoch:29: 0it [00:00, ?it/s]664558)\u001b[0m \n",
      "Val Epoch:72: 47it [00:01, 24.47it/s]\u001b[32m [repeated 13x across cluster]\u001b[0m\n"
     ]
    },
    {
     "name": "stdout",
     "output_type": "stream",
     "text": [
      "\u001b[36m(tune_with_parameters pid=2615841)\u001b[0m loss: 0.000\u001b[32m [repeated 15x across cluster]\u001b[0m\n"
     ]
    },
    {
     "name": "stderr",
     "output_type": "stream",
     "text": [
      "Val Epoch:73: 0it [00:00, ?it/s]615841)\u001b[0m \n",
      "Val Epoch:29: 47it [00:02, 16.43it/s]\u001b[32m [repeated 16x across cluster]\u001b[0m\n"
     ]
    },
    {
     "name": "stdout",
     "output_type": "stream",
     "text": [
      "\u001b[36m(tune_with_parameters pid=2615841)\u001b[0m loss: 0.000\u001b[32m [repeated 9x across cluster]\u001b[0m\n",
      "\u001b[36m(tune_with_parameters pid=2615841)\u001b[0m loss: 0.000\u001b[32m [repeated 21x across cluster]\u001b[0m\n"
     ]
    },
    {
     "name": "stderr",
     "output_type": "stream",
     "text": [
      "Val Epoch:74: 0it [00:00, ?it/s]615841)\u001b[0m \n",
      "Val Epoch:73: 47it [00:02, 20.38it/s]\u001b[32m [repeated 13x across cluster]\u001b[0m\n"
     ]
    },
    {
     "name": "stdout",
     "output_type": "stream",
     "text": [
      "\u001b[36m(tune_with_parameters pid=2615841)\u001b[0m loss: 0.000\u001b[32m [repeated 6x across cluster]\u001b[0m\n",
      "\u001b[36m(tune_with_parameters pid=2664558)\u001b[0m loss: 0.000\u001b[32m [repeated 15x across cluster]\u001b[0m\n"
     ]
    },
    {
     "name": "stderr",
     "output_type": "stream",
     "text": [
      "Val Epoch:75: 0it [00:00, ?it/s]\u001b[32m [repeated 2x across cluster]\u001b[0m\n",
      "Val Epoch:30: 47it [00:03, 12.65it/s]\u001b[32m [repeated 32x across cluster]\u001b[0m\n"
     ]
    },
    {
     "name": "stdout",
     "output_type": "stream",
     "text": [
      "\u001b[36m(tune_with_parameters pid=2615841)\u001b[0m loss: 0.000\u001b[32m [repeated 10x across cluster]\u001b[0m\n"
     ]
    },
    {
     "name": "stderr",
     "output_type": "stream",
     "text": [
      "Val Epoch:31: 0it [00:00, ?it/s]664558)\u001b[0m \n",
      "Val Epoch:75: 47it [00:02, 22.46it/s]\u001b[32m [repeated 14x across cluster]\u001b[0m\n"
     ]
    },
    {
     "name": "stdout",
     "output_type": "stream",
     "text": [
      "\u001b[36m(tune_with_parameters pid=2615841)\u001b[0m loss: 0.000\u001b[32m [repeated 16x across cluster]\u001b[0m\n"
     ]
    },
    {
     "name": "stderr",
     "output_type": "stream",
     "text": [
      "Val Epoch:76: 0it [00:00, ?it/s]615841)\u001b[0m \n",
      "Val Epoch:76: 47it [00:02, 17.97it/s]\u001b[32m [repeated 30x across cluster]\u001b[0m\n"
     ]
    },
    {
     "name": "stdout",
     "output_type": "stream",
     "text": [
      "\u001b[36m(tune_with_parameters pid=2615841)\u001b[0m loss: 0.001\u001b[32m [repeated 4x across cluster]\u001b[0m\n",
      "\u001b[36m(tune_with_parameters pid=2615841)\u001b[0m loss: 0.000\u001b[32m [repeated 21x across cluster]\u001b[0m\n"
     ]
    },
    {
     "name": "stderr",
     "output_type": "stream",
     "text": [
      "Val Epoch:77: 0it [00:00, ?it/s]615841)\u001b[0m \n",
      "Val Epoch:77: 1it [00:00,  7.06it/s]41)\u001b[0m \n",
      "Val Epoch:77: 2it [00:00,  7.39it/s]41)\u001b[0m \n",
      "Val Epoch:77: 7it [00:00, 23.08it/s]41)\u001b[0m \n",
      "Val Epoch:77: 11it [00:00, 24.79it/s]1)\u001b[0m \n",
      "Val Epoch:77: 14it [00:00, 19.55it/s]1)\u001b[0m \n",
      "Val Epoch:77: 18it [00:00, 22.91it/s]1)\u001b[0m \n",
      "Val Epoch:77: 22it [00:00, 26.60it/s]1)\u001b[0m \n",
      "Val Epoch:77: 26it [00:01, 28.64it/s]1)\u001b[0m \n",
      "Val Epoch:77: 31it [00:01, 33.48it/s]1)\u001b[0m \n",
      "Val Epoch:77: 35it [00:01, 34.20it/s]1)\u001b[0m \n",
      "Val Epoch:77: 39it [00:01, 33.82it/s]1)\u001b[0m \n",
      "Val Epoch:77: 43it [00:01, 33.72it/s]1)\u001b[0m \n",
      "Val Epoch:77: 47it [00:01, 27.76it/s]1)\u001b[0m \n"
     ]
    },
    {
     "name": "stdout",
     "output_type": "stream",
     "text": [
      "\u001b[36m(tune_with_parameters pid=2615841)\u001b[0m loss: 0.000\u001b[32m [repeated 9x across cluster]\u001b[0m\n"
     ]
    },
    {
     "name": "stderr",
     "output_type": "stream",
     "text": [
      "Val Epoch:32: 0it [00:00, ?it/s]664558)\u001b[0m \n",
      "Val Epoch:32: 1it [00:00,  2.70it/s]58)\u001b[0m \n",
      "Val Epoch:32: 3it [00:00,  7.25it/s]58)\u001b[0m \n",
      "Val Epoch:32: 6it [00:00, 12.44it/s]58)\u001b[0m \n",
      "Val Epoch:32: 8it [00:00, 13.94it/s]58)\u001b[0m \n",
      "Val Epoch:32: 10it [00:00, 13.36it/s]8)\u001b[0m \n",
      "Val Epoch:32: 13it [00:01, 14.66it/s]8)\u001b[0m \n",
      "Val Epoch:32: 15it [00:01, 15.68it/s]8)\u001b[0m \n",
      "Val Epoch:32: 19it [00:01, 20.14it/s]8)\u001b[0m \n",
      "Val Epoch:32: 22it [00:01, 20.58it/s]8)\u001b[0m \n",
      "Val Epoch:32: 25it [00:01, 21.95it/s]8)\u001b[0m \n",
      "Val Epoch:32: 28it [00:01, 22.16it/s]8)\u001b[0m \n",
      "Val Epoch:32: 31it [00:01, 23.34it/s]8)\u001b[0m \n",
      "Val Epoch:32: 35it [00:01, 25.72it/s]8)\u001b[0m \n",
      "Val Epoch:32: 38it [00:02, 23.55it/s]8)\u001b[0m \n",
      "Val Epoch:32: 41it [00:02, 24.05it/s]8)\u001b[0m \n",
      "Val Epoch:32: 44it [00:02, 24.26it/s]8)\u001b[0m \n",
      "Val Epoch:32: 47it [00:02, 18.79it/s]8)\u001b[0m \n"
     ]
    },
    {
     "name": "stdout",
     "output_type": "stream",
     "text": [
      "\u001b[36m(tune_with_parameters pid=2615841)\u001b[0m loss: 0.000\u001b[32m [repeated 11x across cluster]\u001b[0m\n"
     ]
    },
    {
     "name": "stderr",
     "output_type": "stream",
     "text": [
      "Val Epoch:78: 0it [00:00, ?it/s]615841)\u001b[0m \n",
      "Val Epoch:78: 1it [00:00,  1.89it/s]41)\u001b[0m \n",
      "Val Epoch:78: 2it [00:00,  3.31it/s]41)\u001b[0m \n",
      "Val Epoch:78: 6it [00:00, 10.67it/s]41)\u001b[0m \n",
      "Val Epoch:78: 8it [00:00, 12.71it/s]41)\u001b[0m \n",
      "Val Epoch:78: 12it [00:01, 19.10it/s]1)\u001b[0m \n",
      "Val Epoch:78: 15it [00:01, 20.52it/s]1)\u001b[0m \n",
      "Val Epoch:78: 18it [00:01, 22.36it/s]1)\u001b[0m \n",
      "Val Epoch:78: 22it [00:01, 26.22it/s]1)\u001b[0m \n",
      "Val Epoch:78: 26it [00:01, 29.00it/s]1)\u001b[0m \n",
      "Val Epoch:78: 30it [00:01, 29.93it/s]1)\u001b[0m \n",
      "Val Epoch:78: 34it [00:01, 30.83it/s]1)\u001b[0m \n",
      "Val Epoch:78: 38it [00:01, 25.74it/s]1)\u001b[0m \n",
      "Val Epoch:78: 41it [00:02, 25.55it/s]1)\u001b[0m \n",
      "Val Epoch:78: 45it [00:02, 26.88it/s]1)\u001b[0m \n",
      "Val Epoch:78: 47it [00:02, 20.52it/s]1)\u001b[0m \n"
     ]
    },
    {
     "name": "stdout",
     "output_type": "stream",
     "text": [
      "\u001b[36m(tune_with_parameters pid=2615841)\u001b[0m loss: 0.000\u001b[32m [repeated 10x across cluster]\u001b[0m\n"
     ]
    },
    {
     "name": "stderr",
     "output_type": "stream",
     "text": [
      "Val Epoch:33: 0it [00:00, ?it/s]664558)\u001b[0m \n"
     ]
    },
    {
     "name": "stdout",
     "output_type": "stream",
     "text": [
      "\u001b[36m(tune_with_parameters pid=2615841)\u001b[0m loss: 0.000\u001b[32m [repeated 21x across cluster]\u001b[0m\n"
     ]
    },
    {
     "name": "stderr",
     "output_type": "stream",
     "text": [
      "Val Epoch:33: 1it [00:00,  2.19it/s]58)\u001b[0m \n",
      "Val Epoch:33: 4it [00:00,  6.74it/s]58)\u001b[0m \n",
      "Val Epoch:33: 5it [00:01,  4.31it/s]58)\u001b[0m \n",
      "Val Epoch:33: 7it [00:01,  6.47it/s]58)\u001b[0m \n"
     ]
    },
    {
     "name": "stdout",
     "output_type": "stream",
     "text": [
      "\u001b[36m(tune_with_parameters pid=2664558)\u001b[0m loss: 0.000\u001b[32m [repeated 4x across cluster]\u001b[0m\n",
      "\u001b[36m(tune_with_parameters pid=2615841)\u001b[0m \n"
     ]
    },
    {
     "name": "stderr",
     "output_type": "stream",
     "text": [
      "Val Epoch:80: 0it [00:00, ?it/s]\u001b[32m [repeated 2x across cluster]\u001b[0m\n",
      "Val Epoch:33: 47it [00:03, 12.59it/s]\u001b[32m [repeated 30x across cluster]\u001b[0m\n"
     ]
    },
    {
     "name": "stdout",
     "output_type": "stream",
     "text": [
      "\u001b[36m(tune_with_parameters pid=2664558)\u001b[0m loss: 0.000\u001b[32m [repeated 21x across cluster]\u001b[0m\n"
     ]
    },
    {
     "name": "stderr",
     "output_type": "stream",
     "text": [
      "Val Epoch:80: 47it [00:02, 20.50it/s]1)\u001b[0m \n",
      "Val Epoch:34: 0it [00:00, ?it/s]664558)\u001b[0m \n",
      "Val Epoch:80: 41it [00:02, 29.72it/s]\u001b[32m [repeated 12x across cluster]\u001b[0m\n"
     ]
    },
    {
     "name": "stdout",
     "output_type": "stream",
     "text": [
      "\u001b[36m(tune_with_parameters pid=2615841)\u001b[0m loss: 0.000\u001b[32m [repeated 12x across cluster]\u001b[0m\n"
     ]
    },
    {
     "name": "stderr",
     "output_type": "stream",
     "text": [
      "Val Epoch:81: 0it [00:00, ?it/s]615841)\u001b[0m \n",
      "Val Epoch:34: 47it [00:02, 16.76it/s]\u001b[32m [repeated 18x across cluster]\u001b[0m\n"
     ]
    },
    {
     "name": "stdout",
     "output_type": "stream",
     "text": [
      "\u001b[36m(tune_with_parameters pid=2664558)\u001b[0m loss: 0.000\u001b[32m [repeated 10x across cluster]\u001b[0m\n",
      "\u001b[36m(tune_with_parameters pid=2664558)\u001b[0m loss: 0.000\u001b[32m [repeated 11x across cluster]\u001b[0m\n"
     ]
    },
    {
     "name": "stderr",
     "output_type": "stream",
     "text": [
      "Val Epoch:82: 0it [00:00, ?it/s]615841)\u001b[0m \n",
      "Val Epoch:81: 47it [00:01, 26.44it/s]\u001b[32m [repeated 12x across cluster]\u001b[0m\n"
     ]
    },
    {
     "name": "stdout",
     "output_type": "stream",
     "text": [
      "\u001b[36m(tune_with_parameters pid=2664558)\u001b[0m loss: 0.000\u001b[32m [repeated 17x across cluster]\u001b[0m\n"
     ]
    },
    {
     "name": "stderr",
     "output_type": "stream",
     "text": [
      "Val Epoch:35: 0it [00:00, ?it/s]664558)\u001b[0m \n",
      "Val Epoch:35: 33it [00:03, 11.04it/s]\u001b[32m [repeated 25x across cluster]\u001b[0m\n"
     ]
    },
    {
     "name": "stdout",
     "output_type": "stream",
     "text": [
      "\u001b[36m(tune_with_parameters pid=2615841)\u001b[0m loss: 0.000\u001b[32m [repeated 5x across cluster]\u001b[0m\n"
     ]
    },
    {
     "name": "stderr",
     "output_type": "stream",
     "text": [
      "Val Epoch:83: 0it [00:00, ?it/s]615841)\u001b[0m \n",
      "Val Epoch:35: 47it [00:04, 11.33it/s]\u001b[32m [repeated 6x across cluster]\u001b[0m\n"
     ]
    },
    {
     "name": "stdout",
     "output_type": "stream",
     "text": [
      "\u001b[36m(tune_with_parameters pid=2664558)\u001b[0m loss: 0.000\u001b[32m [repeated 17x across cluster]\u001b[0m\n",
      "\u001b[36m(tune_with_parameters pid=2615841)\u001b[0m loss: 0.000\u001b[32m [repeated 14x across cluster]\u001b[0m\n"
     ]
    },
    {
     "name": "stderr",
     "output_type": "stream",
     "text": [
      "Val Epoch:36: 0it [00:00, ?it/s]664558)\u001b[0m \n",
      "Val Epoch:83: 47it [00:01, 27.11it/s]\u001b[32m [repeated 13x across cluster]\u001b[0m\n"
     ]
    },
    {
     "name": "stdout",
     "output_type": "stream",
     "text": [
      "\u001b[36m(tune_with_parameters pid=2664558)\u001b[0m loss: 0.000\u001b[32m [repeated 10x across cluster]\u001b[0m\n"
     ]
    },
    {
     "name": "stderr",
     "output_type": "stream",
     "text": [
      "Val Epoch:84: 0it [00:00, ?it/s]615841)\u001b[0m \n",
      "Val Epoch:84: 47it [00:03, 15.01it/s]\u001b[32m [repeated 32x across cluster]\u001b[0m\n"
     ]
    },
    {
     "name": "stdout",
     "output_type": "stream",
     "text": [
      "\u001b[36m(tune_with_parameters pid=2615841)\u001b[0m loss: 0.000\u001b[32m [repeated 16x across cluster]\u001b[0m\n"
     ]
    },
    {
     "name": "stderr",
     "output_type": "stream",
     "text": [
      "Val Epoch:85: 0it [00:00, ?it/s]615841)\u001b[0m \n",
      "Val Epoch:85: 1it [00:00,  5.10it/s]41)\u001b[0m \n",
      "Val Epoch:85: 5it [00:00, 18.21it/s]41)\u001b[0m \n",
      "Val Epoch:85: 8it [00:00, 17.81it/s]41)\u001b[0m \n",
      "Val Epoch:85: 10it [00:00, 17.16it/s]1)\u001b[0m \n",
      "Val Epoch:85: 13it [00:00, 20.68it/s]1)\u001b[0m \n",
      "Val Epoch:85: 17it [00:00, 25.70it/s]1)\u001b[0m \n",
      "Val Epoch:85: 20it [00:00, 24.96it/s]1)\u001b[0m \n",
      "Val Epoch:85: 25it [00:01, 31.71it/s]1)\u001b[0m \n",
      "Val Epoch:85: 29it [00:01, 33.77it/s]1)\u001b[0m \n",
      "Val Epoch:85: 33it [00:01, 30.11it/s]1)\u001b[0m \n",
      "Val Epoch:85: 37it [00:01, 23.83it/s]1)\u001b[0m \n",
      "Val Epoch:85: 41it [00:01, 25.84it/s]1)\u001b[0m \n",
      "Val Epoch:85: 46it [00:01, 30.97it/s]1)\u001b[0m \n",
      "Val Epoch:85: 47it [00:01, 25.16it/s]1)\u001b[0m \n"
     ]
    },
    {
     "name": "stdout",
     "output_type": "stream",
     "text": [
      "\u001b[36m(tune_with_parameters pid=2615841)\u001b[0m loss: 0.000\u001b[32m [repeated 12x across cluster]\u001b[0m\n"
     ]
    },
    {
     "name": "stderr",
     "output_type": "stream",
     "text": [
      "Val Epoch:37: 0it [00:00, ?it/s]664558)\u001b[0m \n",
      "Val Epoch:37: 9it [00:00, 13.15it/s]\u001b[32m [repeated 4x across cluster]\u001b[0m\n"
     ]
    },
    {
     "name": "stdout",
     "output_type": "stream",
     "text": [
      "\u001b[36m(tune_with_parameters pid=2615841)\u001b[0m loss: 0.000\u001b[32m [repeated 12x across cluster]\u001b[0m\n"
     ]
    },
    {
     "name": "stderr",
     "output_type": "stream",
     "text": [
      "Val Epoch:86: 0it [00:00, ?it/s]615841)\u001b[0m \n",
      "Val Epoch:37: 47it [00:03, 14.55it/s]\u001b[32m [repeated 16x across cluster]\u001b[0m\n"
     ]
    },
    {
     "name": "stdout",
     "output_type": "stream",
     "text": [
      "\u001b[36m(tune_with_parameters pid=2615841)\u001b[0m loss: 0.000\u001b[32m [repeated 11x across cluster]\u001b[0m\n",
      "\u001b[36m(tune_with_parameters pid=2664558)\u001b[0m loss: 0.000\u001b[32m [repeated 21x across cluster]\u001b[0m\n"
     ]
    },
    {
     "name": "stderr",
     "output_type": "stream",
     "text": [
      "Val Epoch:38: 0it [00:00, ?it/s]664558)\u001b[0m \n",
      "Val Epoch:86: 47it [00:02, 22.60it/s]\u001b[32m [repeated 15x across cluster]\u001b[0m\n",
      "Val Epoch:87: 0it [00:00, ?it/s]615841)\u001b[0m \n"
     ]
    },
    {
     "name": "stdout",
     "output_type": "stream",
     "text": [
      "\u001b[36m(tune_with_parameters pid=2615841)\u001b[0m loss: 0.000\u001b[32m [repeated 3x across cluster]\u001b[0m\n",
      "\u001b[36m(tune_with_parameters pid=2615841)\u001b[0m loss: 0.000\u001b[32m [repeated 21x across cluster]\u001b[0m\n"
     ]
    },
    {
     "name": "stderr",
     "output_type": "stream",
     "text": [
      "Val Epoch:88: 0it [00:00, ?it/s]615841)\u001b[0m \n",
      "Val Epoch:38: 47it [00:03, 14.26it/s]\u001b[32m [repeated 30x across cluster]\u001b[0m\n"
     ]
    },
    {
     "name": "stdout",
     "output_type": "stream",
     "text": [
      "\u001b[36m(tune_with_parameters pid=2664558)\u001b[0m \n",
      "\u001b[36m(tune_with_parameters pid=2664558)\u001b[0m loss: 0.000\u001b[32m [repeated 10x across cluster]\u001b[0m\n"
     ]
    },
    {
     "name": "stderr",
     "output_type": "stream",
     "text": [
      "Val Epoch:39: 0it [00:00, ?it/s]664558)\u001b[0m \n",
      "Val Epoch:88: 47it [00:02, 20.23it/s]\u001b[32m [repeated 12x across cluster]\u001b[0m\n"
     ]
    },
    {
     "name": "stdout",
     "output_type": "stream",
     "text": [
      "\u001b[36m(tune_with_parameters pid=2615841)\u001b[0m loss: 0.001\u001b[32m [repeated 11x across cluster]\u001b[0m\n"
     ]
    },
    {
     "name": "stderr",
     "output_type": "stream",
     "text": [
      "Val Epoch:89: 0it [00:00, ?it/s]615841)\u001b[0m \n",
      "Val Epoch:89: 1it [00:00,  1.10it/s]\u001b[32m [repeated 19x across cluster]\u001b[0m\n"
     ]
    },
    {
     "name": "stdout",
     "output_type": "stream",
     "text": [
      "\u001b[36m(tune_with_parameters pid=2615841)\u001b[0m loss: 0.000\u001b[32m [repeated 11x across cluster]\u001b[0m\n"
     ]
    },
    {
     "name": "stderr",
     "output_type": "stream",
     "text": [
      "Val Epoch:90: 0it [00:00, ?it/s]615841)\u001b[0m \n",
      "Val Epoch:89: 47it [00:02, 16.19it/s]\u001b[32m [repeated 14x across cluster]\u001b[0m\n"
     ]
    },
    {
     "name": "stdout",
     "output_type": "stream",
     "text": [
      "\u001b[36m(tune_with_parameters pid=2664558)\u001b[0m loss: 0.000\u001b[32m [repeated 20x across cluster]\u001b[0m\n"
     ]
    },
    {
     "name": "stderr",
     "output_type": "stream",
     "text": [
      "Val Epoch:40: 0it [00:00, ?it/s]664558)\u001b[0m \n",
      "Val Epoch:40: 38it [00:03, 20.36it/s]\u001b[32m [repeated 27x across cluster]\u001b[0m\n"
     ]
    },
    {
     "name": "stdout",
     "output_type": "stream",
     "text": [
      "\u001b[36m(tune_with_parameters pid=2615841)\u001b[0m loss: 0.000\u001b[32m [repeated 7x across cluster]\u001b[0m\n"
     ]
    },
    {
     "name": "stderr",
     "output_type": "stream",
     "text": [
      "Val Epoch:91: 0it [00:00, ?it/s]615841)\u001b[0m \n",
      "Val Epoch:40: 47it [00:04, 11.65it/s]\u001b[32m [repeated 3x across cluster]\u001b[0m\n"
     ]
    },
    {
     "name": "stdout",
     "output_type": "stream",
     "text": [
      "\u001b[36m(tune_with_parameters pid=2664558)\u001b[0m loss: 0.000\u001b[32m [repeated 16x across cluster]\u001b[0m\n",
      "\u001b[36m(tune_with_parameters pid=2615841)\u001b[0m loss: 0.000\u001b[32m [repeated 11x across cluster]\u001b[0m\n"
     ]
    },
    {
     "name": "stderr",
     "output_type": "stream",
     "text": [
      "Val Epoch:41: 0it [00:00, ?it/s]664558)\u001b[0m \n",
      "Val Epoch:91: 47it [00:02, 19.98it/s]\u001b[32m [repeated 14x across cluster]\u001b[0m\n",
      "Val Epoch:92: 0it [00:00, ?it/s]615841)\u001b[0m \n",
      "Val Epoch:92: 5it [00:02,  3.02it/s]41)\u001b[0m \n",
      "Val Epoch:92: 6it [00:02,  3.31it/s]\u001b[32m [repeated 20x across cluster]\u001b[0m\n"
     ]
    },
    {
     "name": "stdout",
     "output_type": "stream",
     "text": [
      "\u001b[36m(tune_with_parameters pid=2664558)\u001b[0m loss: 0.000\u001b[32m [repeated 13x across cluster]\u001b[0m\n",
      "\u001b[36m(tune_with_parameters pid=2664558)\u001b[0m loss: 0.000\u001b[32m [repeated 7x across cluster]\u001b[0m\n"
     ]
    },
    {
     "name": "stderr",
     "output_type": "stream",
     "text": [
      "Val Epoch:42: 0it [00:00, ?it/s]664558)\u001b[0m \n",
      "Val Epoch:92: 47it [00:04, 11.75it/s]\u001b[32m [repeated 12x across cluster]\u001b[0m\n"
     ]
    },
    {
     "name": "stdout",
     "output_type": "stream",
     "text": [
      "\u001b[36m(tune_with_parameters pid=2664558)\u001b[0m loss: 0.000\u001b[32m [repeated 8x across cluster]\u001b[0m\n"
     ]
    },
    {
     "name": "stderr",
     "output_type": "stream",
     "text": [
      "\u001b[36m(tune_with_parameters pid=2777761)\u001b[0m /users/k23058970/miniforge3/envs/Training/lib/python3.10/site-packages/torch/nn/modules/lazy.py:181: UserWarning: Lazy modules are a new feature under heavy development so changes to the API or functionality can happen at any moment.\n",
      "\u001b[36m(tune_with_parameters pid=2777761)\u001b[0m   warnings.warn('Lazy modules are a new feature under heavy development '\n",
      "Val Epoch:42: 47it [00:02, 18.76it/s]\u001b[32m [repeated 14x across cluster]\u001b[0m\n"
     ]
    },
    {
     "name": "stdout",
     "output_type": "stream",
     "text": [
      "\u001b[36m(tune_with_parameters pid=2664558)\u001b[0m loss: 0.000\u001b[32m [repeated 7x across cluster]\u001b[0m\n",
      "\u001b[36m(tune_with_parameters pid=2777761)\u001b[0m loss: 1.098\u001b[32m [repeated 7x across cluster]\u001b[0m\n"
     ]
    },
    {
     "name": "stderr",
     "output_type": "stream",
     "text": [
      "Val Epoch:43: 0it [00:00, ?it/s]664558)\u001b[0m \n",
      "Val Epoch:43: 1it [00:00,  1.49it/s]58)\u001b[0m \n",
      "Val Epoch:43: 4it [00:00,  6.29it/s]58)\u001b[0m \n",
      "Val Epoch:43: 7it [00:00, 10.92it/s]58)\u001b[0m \n",
      "Val Epoch:43: 10it [00:01, 13.53it/s]8)\u001b[0m \n",
      "Val Epoch:43: 13it [00:01, 15.85it/s]8)\u001b[0m \n",
      "Val Epoch:43: 18it [00:01, 21.35it/s]8)\u001b[0m \n",
      "Val Epoch:43: 21it [00:01, 14.27it/s]8)\u001b[0m \n",
      "Val Epoch:43: 25it [00:01, 17.32it/s]8)\u001b[0m \n",
      "Val Epoch:43: 28it [00:01, 18.55it/s]8)\u001b[0m \n",
      "Val Epoch:43: 32it [00:02, 20.49it/s]8)\u001b[0m \n",
      "Val Epoch:43: 35it [00:02, 20.69it/s]8)\u001b[0m \n",
      "Val Epoch:43: 39it [00:02, 23.63it/s]8)\u001b[0m \n",
      "Val Epoch:43: 42it [00:02, 22.00it/s]8)\u001b[0m \n",
      "Val Epoch:43: 45it [00:02, 23.16it/s]8)\u001b[0m \n",
      "Val Epoch:43: 47it [00:02, 16.85it/s]8)\u001b[0m \n"
     ]
    },
    {
     "name": "stdout",
     "output_type": "stream",
     "text": [
      "\u001b[36m(tune_with_parameters pid=2664558)\u001b[0m loss: 0.000\u001b[32m [repeated 6x across cluster]\u001b[0m\n",
      "\u001b[36m(tune_with_parameters pid=2664558)\u001b[0m loss: 0.000\u001b[32m [repeated 13x across cluster]\u001b[0m\n"
     ]
    },
    {
     "name": "stderr",
     "output_type": "stream",
     "text": [
      "Val Epoch:44: 0it [00:00, ?it/s]664558)\u001b[0m \n",
      "Val Epoch:44: 1it [00:00,  1.29it/s]58)\u001b[0m \n",
      "Val Epoch:44: 3it [00:00,  4.11it/s]58)\u001b[0m \n",
      "Val Epoch:44: 6it [00:00,  8.60it/s]58)\u001b[0m \n",
      "Val Epoch:44: 10it [00:01, 14.04it/s]8)\u001b[0m \n",
      "Val Epoch:44: 13it [00:01, 15.99it/s]8)\u001b[0m \n",
      "Val Epoch:44: 17it [00:01, 18.37it/s]8)\u001b[0m \n"
     ]
    },
    {
     "name": "stdout",
     "output_type": "stream",
     "text": [
      "\u001b[36m(tune_with_parameters pid=2777761)\u001b[0m loss: 1.098\u001b[32m [repeated 10x across cluster]\u001b[0m\n"
     ]
    },
    {
     "name": "stderr",
     "output_type": "stream",
     "text": [
      "Val Epoch:44: 20it [00:01, 20.18it/s]8)\u001b[0m \n",
      "Val Epoch:44: 23it [00:01, 21.57it/s]8)\u001b[0m \n",
      "Val Epoch:44: 26it [00:01, 22.71it/s]8)\u001b[0m \n",
      "Val Epoch:44: 30it [00:01, 24.57it/s]8)\u001b[0m \n",
      "Val Epoch:44: 35it [00:02, 28.07it/s]8)\u001b[0m \n",
      "Val Epoch:44: 38it [00:02, 28.37it/s]8)\u001b[0m \n",
      "Val Epoch:44: 43it [00:02, 33.75it/s]8)\u001b[0m \n",
      "Val Epoch:44: 47it [00:02, 34.65it/s]8)\u001b[0m \n",
      "Val Epoch:44: 47it [00:02, 18.44it/s]8)\u001b[0m \n",
      "Val Epoch:0: 0it [00:00, ?it/s]2777761)\u001b[0m \n",
      "Val Epoch:0: 18it [00:02, 16.56it/s]\u001b[32m [repeated 7x across cluster]\u001b[0m\n"
     ]
    },
    {
     "name": "stdout",
     "output_type": "stream",
     "text": [
      "\u001b[36m(tune_with_parameters pid=2664558)\u001b[0m loss: 0.000\u001b[32m [repeated 5x across cluster]\u001b[0m\n"
     ]
    },
    {
     "name": "stderr",
     "output_type": "stream",
     "text": [
      "\u001b[36m(tune_with_parameters pid=2777761)\u001b[0m /scratch/users/k23058970/Model training/training_insilico_lrcn.py:63: RuntimeWarning: invalid value encountered in divide\n",
      "\u001b[36m(tune_with_parameters pid=2777761)\u001b[0m   self.precision = self.tp/(self.tp + self.fp)\n"
     ]
    },
    {
     "name": "stdout",
     "output_type": "stream",
     "text": [
      "\u001b[36m(tune_with_parameters pid=2664558)\u001b[0m loss: 0.000\u001b[32m [repeated 9x across cluster]\u001b[0m\n"
     ]
    },
    {
     "name": "stderr",
     "output_type": "stream",
     "text": [
      "Val Epoch:45: 0it [00:00, ?it/s]664558)\u001b[0m \n",
      "Val Epoch:0: 47it [00:03, 13.62it/s]\u001b[32m [repeated 10x across cluster]\u001b[0m\n"
     ]
    },
    {
     "name": "stdout",
     "output_type": "stream",
     "text": [
      "\u001b[36m(tune_with_parameters pid=2777761)\u001b[0m /tmp/tmppgiyurz3/checkpoint.pt\n",
      "\u001b[36m(tune_with_parameters pid=2664558)\u001b[0m loss: 0.000\u001b[32m [repeated 3x across cluster]\u001b[0m\n"
     ]
    },
    {
     "name": "stderr",
     "output_type": "stream",
     "text": [
      "\u001b[36m(tune_with_parameters pid=2777761)\u001b[0m Checkpoint successfully created at: Checkpoint(filesystem=local, path=/scratch/users/k23058970/Model training/results/Complex Peak LRCN Null/tune_with_parameters_2024-08-19_22-54-03/tune_with_parameters_a4509_00003_3_dp=0.2500,k1=3,k2=3,k3=5,k4=1,lr=0.0013_2024-08-19_22-54-43/checkpoint_000000)\n",
      "Val Epoch:45: 47it [00:02, 16.20it/s]\u001b[32m [repeated 15x across cluster]\u001b[0m\n"
     ]
    },
    {
     "name": "stdout",
     "output_type": "stream",
     "text": [
      "\u001b[36m(tune_with_parameters pid=2664558)\u001b[0m loss: 0.000\u001b[32m [repeated 9x across cluster]\u001b[0m\n"
     ]
    },
    {
     "name": "stderr",
     "output_type": "stream",
     "text": [
      "Val Epoch:46: 0it [00:00, ?it/s]664558)\u001b[0m \n"
     ]
    },
    {
     "name": "stdout",
     "output_type": "stream",
     "text": [
      "\u001b[36m(tune_with_parameters pid=2777761)\u001b[0m loss: 1.097\u001b[32m [repeated 13x across cluster]\u001b[0m\n"
     ]
    },
    {
     "name": "stderr",
     "output_type": "stream",
     "text": [
      "Val Epoch:46: 1it [00:00,  1.99it/s]58)\u001b[0m \n",
      "Val Epoch:46: 4it [00:00,  7.83it/s]58)\u001b[0m \n",
      "Val Epoch:46: 8it [00:00, 13.69it/s]58)\u001b[0m \n",
      "Val Epoch:46: 11it [00:00, 15.99it/s]8)\u001b[0m \n",
      "Val Epoch:46: 15it [00:01, 19.81it/s]8)\u001b[0m \n",
      "Val Epoch:46: 18it [00:01, 18.76it/s]8)\u001b[0m \n",
      "Val Epoch:46: 22it [00:01, 21.39it/s]8)\u001b[0m \n",
      "Val Epoch:46: 25it [00:01, 21.72it/s]8)\u001b[0m \n",
      "Val Epoch:46: 28it [00:01, 21.35it/s]8)\u001b[0m \n",
      "Val Epoch:46: 31it [00:01, 23.28it/s]8)\u001b[0m \n",
      "Val Epoch:46: 34it [00:01, 24.55it/s]8)\u001b[0m \n",
      "Val Epoch:46: 37it [00:02, 23.25it/s]8)\u001b[0m \n",
      "Val Epoch:46: 40it [00:02, 22.70it/s]8)\u001b[0m \n",
      "Val Epoch:46: 44it [00:02, 26.08it/s]8)\u001b[0m \n",
      "Val Epoch:46: 47it [00:02, 19.83it/s]8)\u001b[0m \n"
     ]
    },
    {
     "name": "stdout",
     "output_type": "stream",
     "text": [
      "\u001b[36m(tune_with_parameters pid=2777761)\u001b[0m loss: 1.097\u001b[32m [repeated 7x across cluster]\u001b[0m\n"
     ]
    },
    {
     "name": "stderr",
     "output_type": "stream",
     "text": [
      "Val Epoch:1: 0it [00:00, ?it/s]2777761)\u001b[0m \n",
      "Val Epoch:1: 1it [00:00,  3.76it/s]761)\u001b[0m \n",
      "Val Epoch:1: 2it [00:00,  2.69it/s]761)\u001b[0m \n",
      "Val Epoch:1: 5it [00:00,  7.44it/s]761)\u001b[0m \n",
      "Val Epoch:1: 8it [00:00, 10.91it/s]761)\u001b[0m \n",
      "Val Epoch:1: 10it [00:01, 12.53it/s]61)\u001b[0m \n",
      "Val Epoch:1: 13it [00:01, 13.88it/s]61)\u001b[0m \n"
     ]
    },
    {
     "name": "stdout",
     "output_type": "stream",
     "text": [
      "\u001b[36m(tune_with_parameters pid=2664558)\u001b[0m loss: 0.000\u001b[32m [repeated 10x across cluster]\u001b[0m\n"
     ]
    },
    {
     "name": "stderr",
     "output_type": "stream",
     "text": [
      "Val Epoch:1: 16it [00:01, 15.72it/s]61)\u001b[0m \n",
      "Val Epoch:1: 18it [00:01, 16.53it/s]61)\u001b[0m \n",
      "Val Epoch:1: 21it [00:01, 18.36it/s]61)\u001b[0m \n",
      "Val Epoch:1: 24it [00:01, 19.00it/s]61)\u001b[0m \n",
      "Val Epoch:1: 26it [00:01, 16.64it/s]61)\u001b[0m \n",
      "Val Epoch:1: 28it [00:02, 15.28it/s]61)\u001b[0m \n",
      "Val Epoch:1: 31it [00:02, 17.74it/s]61)\u001b[0m \n",
      "Val Epoch:1: 34it [00:02, 19.47it/s]61)\u001b[0m \n",
      "Val Epoch:1: 37it [00:02, 20.61it/s]61)\u001b[0m \n",
      "Val Epoch:1: 40it [00:02, 22.60it/s]61)\u001b[0m \n",
      "Val Epoch:1: 43it [00:02, 23.63it/s]61)\u001b[0m \n",
      "Val Epoch:1: 47it [00:02, 26.79it/s]61)\u001b[0m \n",
      "Val Epoch:1: 47it [00:02, 16.07it/s]61)\u001b[0m \n",
      "Val Epoch:47: 0it [00:00, ?it/s]664558)\u001b[0m \n"
     ]
    },
    {
     "name": "stdout",
     "output_type": "stream",
     "text": [
      "\u001b[36m(tune_with_parameters pid=2777761)\u001b[0m loss: 1.096\u001b[32m [repeated 8x across cluster]\u001b[0m\n"
     ]
    },
    {
     "name": "stderr",
     "output_type": "stream",
     "text": [
      "Val Epoch:47: 1it [00:00,  3.16it/s]58)\u001b[0m \n",
      "Val Epoch:47: 3it [00:00,  7.37it/s]58)\u001b[0m \n",
      "Val Epoch:47: 6it [00:00, 11.61it/s]58)\u001b[0m \n",
      "Val Epoch:47: 8it [00:00, 13.58it/s]58)\u001b[0m \n",
      "Val Epoch:47: 11it [00:00, 16.81it/s]8)\u001b[0m \n",
      "Val Epoch:47: 13it [00:00, 17.62it/s]8)\u001b[0m \n",
      "Val Epoch:47: 17it [00:01, 22.57it/s]8)\u001b[0m \n",
      "Val Epoch:47: 20it [00:01, 22.57it/s]8)\u001b[0m \n",
      "Val Epoch:47: 23it [00:01, 20.47it/s]8)\u001b[0m \n",
      "Val Epoch:47: 26it [00:01, 19.85it/s]8)\u001b[0m \n",
      "Val Epoch:47: 29it [00:01, 21.41it/s]8)\u001b[0m \n",
      "Val Epoch:47: 32it [00:01, 21.83it/s]8)\u001b[0m \n",
      "Val Epoch:47: 35it [00:01, 23.71it/s]8)\u001b[0m \n",
      "Val Epoch:47: 38it [00:02, 23.31it/s]8)\u001b[0m \n",
      "Val Epoch:47: 41it [00:02, 23.79it/s]8)\u001b[0m \n",
      "Val Epoch:47: 44it [00:02, 24.09it/s]8)\u001b[0m \n",
      "Val Epoch:47: 47it [00:02, 25.37it/s]8)\u001b[0m \n",
      "Val Epoch:47: 47it [00:02, 19.07it/s]8)\u001b[0m \n"
     ]
    },
    {
     "name": "stdout",
     "output_type": "stream",
     "text": [
      "\u001b[36m(tune_with_parameters pid=2777761)\u001b[0m loss: 1.096\u001b[32m [repeated 6x across cluster]\u001b[0m\n",
      "\u001b[36m(tune_with_parameters pid=2664558)\u001b[0m loss: 0.000\u001b[32m [repeated 12x across cluster]\u001b[0m\n"
     ]
    },
    {
     "name": "stderr",
     "output_type": "stream",
     "text": [
      "Val Epoch:2: 0it [00:00, ?it/s]2777761)\u001b[0m \n",
      "Val Epoch:48: 0it [00:00, ?it/s]664558)\u001b[0m \n",
      "Val Epoch:2: 1it [00:01,  1.20s/it]761)\u001b[0m \n",
      "Val Epoch:2: 3it [00:01,  2.87it/s]761)\u001b[0m \n",
      "Val Epoch:2: 6it [00:01,  6.20it/s]761)\u001b[0m \n"
     ]
    },
    {
     "name": "stdout",
     "output_type": "stream",
     "text": [
      "\u001b[36m(tune_with_parameters pid=2664558)\u001b[0m loss: 0.000\u001b[32m [repeated 10x across cluster]\u001b[0m\n",
      "\u001b[36m(tune_with_parameters pid=2664558)\u001b[0m loss: 0.000\u001b[32m [repeated 9x across cluster]\u001b[0m\n",
      "\u001b[36m(tune_with_parameters pid=2777761)\u001b[0m /tmp/tmpeupec8s5/checkpoint.pt\n"
     ]
    },
    {
     "name": "stderr",
     "output_type": "stream",
     "text": [
      "Val Epoch:49: 0it [00:00, ?it/s]664558)\u001b[0m \n",
      "Val Epoch:2: 47it [00:03, 13.09it/s]\u001b[32m [repeated 31x across cluster]\u001b[0m\n",
      "\u001b[36m(tune_with_parameters pid=2777761)\u001b[0m Checkpoint successfully created at: Checkpoint(filesystem=local, path=/scratch/users/k23058970/Model training/results/Complex Peak LRCN Null/tune_with_parameters_2024-08-19_22-54-03/tune_with_parameters_a4509_00003_3_dp=0.2500,k1=3,k2=3,k3=5,k4=1,lr=0.0013_2024-08-19_22-54-43/checkpoint_000001)\n"
     ]
    },
    {
     "name": "stdout",
     "output_type": "stream",
     "text": [
      "\u001b[36m(tune_with_parameters pid=2664558)\u001b[0m loss: 0.000\u001b[32m [repeated 6x across cluster]\u001b[0m\n",
      "\u001b[36m(tune_with_parameters pid=2664558)\u001b[0m loss: 0.000\u001b[32m [repeated 12x across cluster]\u001b[0m\n"
     ]
    },
    {
     "name": "stderr",
     "output_type": "stream",
     "text": [
      "Val Epoch:50: 0it [00:00, ?it/s]664558)\u001b[0m \n",
      "Val Epoch:49: 47it [00:02, 20.63it/s]\u001b[32m [repeated 15x across cluster]\u001b[0m\n"
     ]
    },
    {
     "name": "stdout",
     "output_type": "stream",
     "text": [
      "\u001b[36m(tune_with_parameters pid=2777761)\u001b[0m loss: 1.095\u001b[32m [repeated 13x across cluster]\u001b[0m\n"
     ]
    },
    {
     "name": "stderr",
     "output_type": "stream",
     "text": [
      "Val Epoch:3: 0it [00:00, ?it/s]2777761)\u001b[0m \n",
      "Val Epoch:50: 47it [00:02, 22.27it/s]\u001b[32m [repeated 16x across cluster]\u001b[0m\n"
     ]
    },
    {
     "name": "stdout",
     "output_type": "stream",
     "text": [
      "\u001b[36m(tune_with_parameters pid=2664558)\u001b[0m loss: 0.000\u001b[32m [repeated 9x across cluster]\u001b[0m\n",
      "\u001b[36m(tune_with_parameters pid=2664558)\u001b[0m loss: 0.000\u001b[32m [repeated 8x across cluster]\u001b[0m\n"
     ]
    },
    {
     "name": "stderr",
     "output_type": "stream",
     "text": [
      "Val Epoch:51: 0it [00:00, ?it/s]664558)\u001b[0m \n",
      "Val Epoch:3: 47it [00:03, 14.40it/s]\u001b[32m [repeated 17x across cluster]\u001b[0m\n"
     ]
    },
    {
     "name": "stdout",
     "output_type": "stream",
     "text": [
      "\u001b[36m(tune_with_parameters pid=2777761)\u001b[0m /tmp/tmpuc7xok6s/checkpoint.pt\n",
      "\u001b[36m(tune_with_parameters pid=2664558)\u001b[0m loss: 0.000\u001b[32m [repeated 3x across cluster]\u001b[0m\n"
     ]
    },
    {
     "name": "stderr",
     "output_type": "stream",
     "text": [
      "\u001b[36m(tune_with_parameters pid=2777761)\u001b[0m Checkpoint successfully created at: Checkpoint(filesystem=local, path=/scratch/users/k23058970/Model training/results/Complex Peak LRCN Null/tune_with_parameters_2024-08-19_22-54-03/tune_with_parameters_a4509_00003_3_dp=0.2500,k1=3,k2=3,k3=5,k4=1,lr=0.0013_2024-08-19_22-54-43/checkpoint_000002)\n",
      "Val Epoch:51: 47it [00:02, 18.77it/s]\u001b[32m [repeated 15x across cluster]\u001b[0m\n"
     ]
    },
    {
     "name": "stdout",
     "output_type": "stream",
     "text": [
      "\u001b[36m(tune_with_parameters pid=2664558)\u001b[0m loss: 0.000\u001b[32m [repeated 9x across cluster]\u001b[0m\n"
     ]
    },
    {
     "name": "stderr",
     "output_type": "stream",
     "text": [
      "Val Epoch:52: 0it [00:00, ?it/s]664558)\u001b[0m \n",
      "Val Epoch:52: 1it [00:00,  1.45it/s]58)\u001b[0m \n",
      "Val Epoch:52: 2it [00:00,  2.80it/s]58)\u001b[0m \n",
      "Val Epoch:52: 4it [00:00,  6.02it/s]58)\u001b[0m \n",
      "Val Epoch:52: 7it [00:01, 10.92it/s]58)\u001b[0m \n",
      "Val Epoch:52: 10it [00:01, 13.80it/s]8)\u001b[0m \n",
      "Val Epoch:52: 13it [00:01, 17.21it/s]8)\u001b[0m \n"
     ]
    },
    {
     "name": "stdout",
     "output_type": "stream",
     "text": [
      "\u001b[36m(tune_with_parameters pid=2777761)\u001b[0m loss: 1.094\u001b[32m [repeated 13x across cluster]\u001b[0m\n"
     ]
    },
    {
     "name": "stderr",
     "output_type": "stream",
     "text": [
      "Val Epoch:52: 17it [00:01, 22.19it/s]8)\u001b[0m \n",
      "Val Epoch:52: 20it [00:01, 23.64it/s]8)\u001b[0m \n",
      "Val Epoch:52: 24it [00:01, 24.32it/s]8)\u001b[0m \n",
      "Val Epoch:52: 27it [00:01, 24.34it/s]8)\u001b[0m \n",
      "Val Epoch:52: 30it [00:01, 23.13it/s]8)\u001b[0m \n",
      "Val Epoch:52: 33it [00:02, 23.02it/s]8)\u001b[0m \n",
      "Val Epoch:52: 36it [00:02, 22.55it/s]8)\u001b[0m \n",
      "Val Epoch:52: 40it [00:02, 25.42it/s]8)\u001b[0m \n",
      "Val Epoch:52: 43it [00:02, 25.38it/s]8)\u001b[0m \n",
      "Val Epoch:52: 47it [00:02, 17.88it/s]8)\u001b[0m \n"
     ]
    },
    {
     "name": "stdout",
     "output_type": "stream",
     "text": [
      "\u001b[36m(tune_with_parameters pid=2664558)\u001b[0m loss: 0.000\u001b[32m [repeated 8x across cluster]\u001b[0m\n"
     ]
    },
    {
     "name": "stderr",
     "output_type": "stream",
     "text": [
      "Val Epoch:4: 0it [00:00, ?it/s]2777761)\u001b[0m \n",
      "Val Epoch:4: 1it [00:00,  1.36it/s]761)\u001b[0m \n",
      "Val Epoch:4: 3it [00:00,  4.25it/s]761)\u001b[0m \n",
      "Val Epoch:4: 6it [00:00,  8.78it/s]761)\u001b[0m \n",
      "Val Epoch:4: 9it [00:01, 12.94it/s]761)\u001b[0m \n",
      "Val Epoch:4: 13it [00:01, 17.13it/s]61)\u001b[0m \n",
      "Val Epoch:4: 16it [00:01, 16.28it/s]61)\u001b[0m \n",
      "Val Epoch:4: 19it [00:01, 14.43it/s]61)\u001b[0m \n",
      "Val Epoch:4: 22it [00:01, 16.51it/s]61)\u001b[0m \n",
      "Val Epoch:4: 26it [00:01, 19.32it/s]61)\u001b[0m \n",
      "Val Epoch:4: 30it [00:02, 21.79it/s]61)\u001b[0m \n"
     ]
    },
    {
     "name": "stdout",
     "output_type": "stream",
     "text": [
      "\u001b[36m(tune_with_parameters pid=2664558)\u001b[0m loss: 0.000\u001b[32m [repeated 9x across cluster]\u001b[0m\n"
     ]
    },
    {
     "name": "stderr",
     "output_type": "stream",
     "text": [
      "Val Epoch:4: 33it [00:02, 21.69it/s]61)\u001b[0m \n",
      "Val Epoch:4: 37it [00:02, 24.33it/s]61)\u001b[0m \n",
      "Val Epoch:4: 40it [00:02, 24.25it/s]61)\u001b[0m \n",
      "Val Epoch:4: 43it [00:02, 25.19it/s]61)\u001b[0m \n",
      "Val Epoch:4: 46it [00:02, 26.38it/s]61)\u001b[0m \n",
      "Val Epoch:4: 47it [00:02, 16.67it/s]61)\u001b[0m \n",
      "Val Epoch:53: 0it [00:00, ?it/s]664558)\u001b[0m \n",
      "Val Epoch:53: 1it [00:00,  2.59it/s]58)\u001b[0m \n",
      "Val Epoch:53: 4it [00:00,  9.07it/s]58)\u001b[0m \n",
      "Val Epoch:53: 8it [00:00, 16.27it/s]58)\u001b[0m \n",
      "Val Epoch:53: 12it [00:00, 16.47it/s]8)\u001b[0m \n",
      "Val Epoch:53: 15it [00:01, 17.45it/s]8)\u001b[0m \n",
      "Val Epoch:53: 18it [00:01, 19.17it/s]8)\u001b[0m \n",
      "Val Epoch:53: 21it [00:01, 19.84it/s]8)\u001b[0m \n",
      "Val Epoch:53: 24it [00:01, 19.67it/s]8)\u001b[0m \n",
      "Val Epoch:53: 28it [00:01, 23.09it/s]8)\u001b[0m \n",
      "Val Epoch:53: 31it [00:01, 23.97it/s]8)\u001b[0m \n",
      "Val Epoch:53: 34it [00:01, 24.94it/s]8)\u001b[0m \n",
      "Val Epoch:53: 38it [00:01, 26.64it/s]8)\u001b[0m \n",
      "Val Epoch:53: 41it [00:02, 25.49it/s]8)\u001b[0m \n",
      "Val Epoch:53: 44it [00:02, 26.45it/s]8)\u001b[0m \n",
      "Val Epoch:53: 47it [00:02, 20.68it/s]8)\u001b[0m \n"
     ]
    },
    {
     "name": "stdout",
     "output_type": "stream",
     "text": [
      "\u001b[36m(tune_with_parameters pid=2664558)\u001b[0m loss: 0.000\u001b[32m [repeated 6x across cluster]\u001b[0m\n",
      "\u001b[36m(tune_with_parameters pid=2777761)\u001b[0m /tmp/tmpw3pc3eu9/checkpoint.pt\n"
     ]
    },
    {
     "name": "stderr",
     "output_type": "stream",
     "text": [
      "\u001b[36m(tune_with_parameters pid=2777761)\u001b[0m Checkpoint successfully created at: Checkpoint(filesystem=local, path=/scratch/users/k23058970/Model training/results/Complex Peak LRCN Null/tune_with_parameters_2024-08-19_22-54-03/tune_with_parameters_a4509_00003_3_dp=0.2500,k1=3,k2=3,k3=5,k4=1,lr=0.0013_2024-08-19_22-54-43/checkpoint_000003)\n"
     ]
    },
    {
     "name": "stdout",
     "output_type": "stream",
     "text": [
      "\u001b[36m(tune_with_parameters pid=2664558)\u001b[0m loss: 0.000\u001b[32m [repeated 8x across cluster]\u001b[0m\n",
      "\u001b[36m(tune_with_parameters pid=2777761)\u001b[0m loss: 1.093\u001b[32m [repeated 9x across cluster]\u001b[0m\n"
     ]
    },
    {
     "name": "stderr",
     "output_type": "stream",
     "text": [
      "Val Epoch:54: 0it [00:00, ?it/s]664558)\u001b[0m \n",
      "Val Epoch:54: 1it [00:00,  2.37it/s]58)\u001b[0m \n",
      "Val Epoch:54: 2it [00:00,  3.77it/s]58)\u001b[0m \n",
      "Val Epoch:54: 4it [00:00,  7.39it/s]58)\u001b[0m \n",
      "Val Epoch:54: 7it [00:00,  9.63it/s]58)\u001b[0m \n",
      "Val Epoch:54: 9it [00:01, 10.63it/s]58)\u001b[0m \n",
      "Val Epoch:54: 13it [00:01, 15.88it/s]8)\u001b[0m \n",
      "Val Epoch:54: 16it [00:01, 18.69it/s]8)\u001b[0m \n",
      "Val Epoch:54: 19it [00:01, 20.21it/s]8)\u001b[0m \n",
      "Val Epoch:54: 22it [00:01, 22.58it/s]8)\u001b[0m \n",
      "Val Epoch:54: 25it [00:01, 22.11it/s]8)\u001b[0m \n",
      "Val Epoch:54: 28it [00:01, 20.23it/s]8)\u001b[0m \n",
      "Val Epoch:54: 31it [00:01, 21.84it/s]8)\u001b[0m \n",
      "Val Epoch:54: 34it [00:02, 17.77it/s]8)\u001b[0m \n",
      "Val Epoch:54: 36it [00:02, 16.33it/s]8)\u001b[0m \n",
      "Val Epoch:54: 40it [00:02, 19.79it/s]8)\u001b[0m \n",
      "Val Epoch:54: 43it [00:02, 21.84it/s]8)\u001b[0m \n",
      "Val Epoch:54: 47it [00:02, 25.87it/s]8)\u001b[0m \n",
      "Val Epoch:54: 47it [00:02, 16.59it/s]8)\u001b[0m \n"
     ]
    },
    {
     "name": "stdout",
     "output_type": "stream",
     "text": [
      "\u001b[36m(tune_with_parameters pid=2664558)\u001b[0m loss: 0.000\u001b[32m [repeated 5x across cluster]\u001b[0m\n",
      "\u001b[36m(tune_with_parameters pid=2664558)\u001b[0m loss: 0.000\u001b[32m [repeated 13x across cluster]\u001b[0m\n"
     ]
    },
    {
     "name": "stderr",
     "output_type": "stream",
     "text": [
      "Val Epoch:5: 0it [00:00, ?it/s]2777761)\u001b[0m \n",
      "Val Epoch:5: 1it [00:01,  1.01s/it]761)\u001b[0m \n",
      "Val Epoch:5: 3it [00:01,  3.32it/s]761)\u001b[0m \n",
      "Val Epoch:5: 6it [00:01,  7.04it/s]761)\u001b[0m \n",
      "Val Epoch:5: 9it [00:01, 10.41it/s]761)\u001b[0m \n",
      "Val Epoch:5: 11it [00:01, 12.04it/s]61)\u001b[0m \n",
      "Val Epoch:5: 13it [00:01, 13.21it/s]61)\u001b[0m \n",
      "Val Epoch:55: 0it [00:00, ?it/s]664558)\u001b[0m \n",
      "Val Epoch:5: 15it [00:02,  6.65it/s]61)\u001b[0m \n",
      "Val Epoch:5: 17it [00:02,  8.00it/s]61)\u001b[0m \n"
     ]
    },
    {
     "name": "stdout",
     "output_type": "stream",
     "text": [
      "\u001b[36m(tune_with_parameters pid=2664558)\u001b[0m loss: 0.000\u001b[32m [repeated 10x across cluster]\u001b[0m\n",
      "\u001b[36m(tune_with_parameters pid=2664558)\u001b[0m loss: 0.000\u001b[32m [repeated 9x across cluster]\u001b[0m\n",
      "\u001b[36m(tune_with_parameters pid=2777761)\u001b[0m /tmp/tmpxtxfwblh/checkpoint.pt\n"
     ]
    },
    {
     "name": "stderr",
     "output_type": "stream",
     "text": [
      "Val Epoch:56: 0it [00:00, ?it/s]664558)\u001b[0m \n",
      "Val Epoch:55: 47it [00:02, 16.24it/s]\u001b[32m [repeated 29x across cluster]\u001b[0m\n",
      "\u001b[36m(tune_with_parameters pid=2777761)\u001b[0m Checkpoint successfully created at: Checkpoint(filesystem=local, path=/scratch/users/k23058970/Model training/results/Complex Peak LRCN Null/tune_with_parameters_2024-08-19_22-54-03/tune_with_parameters_a4509_00003_3_dp=0.2500,k1=3,k2=3,k3=5,k4=1,lr=0.0013_2024-08-19_22-54-43/checkpoint_000004)\n"
     ]
    },
    {
     "name": "stdout",
     "output_type": "stream",
     "text": [
      "\u001b[36m(tune_with_parameters pid=2777761)\u001b[0m loss: 1.091\u001b[32m [repeated 6x across cluster]\u001b[0m\n"
     ]
    },
    {
     "name": "stderr",
     "output_type": "stream",
     "text": [
      "Val Epoch:56: 47it [00:03, 13.16it/s]8)\u001b[0m \n"
     ]
    },
    {
     "name": "stdout",
     "output_type": "stream",
     "text": [
      "\u001b[36m(tune_with_parameters pid=2664558)\u001b[0m loss: 0.000\u001b[32m [repeated 10x across cluster]\u001b[0m\n",
      "\u001b[36m(tune_with_parameters pid=2664558)\u001b[0m loss: 0.000\u001b[32m [repeated 13x across cluster]\u001b[0m\n"
     ]
    },
    {
     "name": "stderr",
     "output_type": "stream",
     "text": [
      "Val Epoch:57: 0it [00:00, ?it/s]664558)\u001b[0m \n",
      "Val Epoch:56: 42it [00:03, 22.71it/s]\u001b[32m [repeated 15x across cluster]\u001b[0m\n",
      "Val Epoch:57: 47it [00:02, 19.05it/s]8)\u001b[0m \n"
     ]
    },
    {
     "name": "stdout",
     "output_type": "stream",
     "text": [
      "\u001b[36m(tune_with_parameters pid=2664558)\u001b[0m loss: 0.000\u001b[32m [repeated 6x across cluster]\u001b[0m\n"
     ]
    },
    {
     "name": "stderr",
     "output_type": "stream",
     "text": [
      "Val Epoch:6: 0it [00:00, ?it/s]2777761)\u001b[0m \n",
      "Val Epoch:57: 43it [00:02, 22.24it/s]\u001b[32m [repeated 15x across cluster]\u001b[0m\n"
     ]
    },
    {
     "name": "stdout",
     "output_type": "stream",
     "text": [
      "\u001b[36m(tune_with_parameters pid=2664558)\u001b[0m loss: 0.000\u001b[32m [repeated 7x across cluster]\u001b[0m\n",
      "\u001b[36m(tune_with_parameters pid=2777761)\u001b[0m loss: 1.089\u001b[32m [repeated 13x across cluster]\u001b[0m\n"
     ]
    },
    {
     "name": "stderr",
     "output_type": "stream",
     "text": [
      "Val Epoch:58: 0it [00:00, ?it/s]664558)\u001b[0m \n",
      "Val Epoch:6: 47it [00:03, 15.20it/s]\u001b[32m [repeated 17x across cluster]\u001b[0m\n"
     ]
    },
    {
     "name": "stdout",
     "output_type": "stream",
     "text": [
      "\u001b[36m(tune_with_parameters pid=2664558)\u001b[0m loss: 0.000\u001b[32m [repeated 5x across cluster]\u001b[0m\n",
      "\u001b[36m(tune_with_parameters pid=2664558)\u001b[0m loss: 0.000\u001b[32m [repeated 12x across cluster]\u001b[0m\n"
     ]
    },
    {
     "name": "stderr",
     "output_type": "stream",
     "text": [
      "Val Epoch:7: 0it [00:00, ?it/s]2777761)\u001b[0m \n",
      "Val Epoch:58: 47it [00:02, 17.86it/s]\u001b[32m [repeated 17x across cluster]\u001b[0m\n"
     ]
    },
    {
     "name": "stdout",
     "output_type": "stream",
     "text": [
      "\u001b[36m(tune_with_parameters pid=2664558)\u001b[0m loss: 0.000\u001b[32m [repeated 7x across cluster]\u001b[0m\n"
     ]
    },
    {
     "name": "stderr",
     "output_type": "stream",
     "text": [
      "Val Epoch:59: 0it [00:00, ?it/s]664558)\u001b[0m \n",
      "Val Epoch:59: 6it [00:00, 12.95it/s]\u001b[32m [repeated 20x across cluster]\u001b[0m\n"
     ]
    },
    {
     "name": "stdout",
     "output_type": "stream",
     "text": [
      "\u001b[36m(tune_with_parameters pid=2664558)\u001b[0m loss: 0.000\u001b[32m [repeated 2x across cluster]\u001b[0m\n",
      "\u001b[36m(tune_with_parameters pid=2777761)\u001b[0m /tmp/tmpfc4asuou/checkpoint.pt\n",
      "\u001b[36m(tune_with_parameters pid=2664558)\u001b[0m loss: 0.000\u001b[32m [repeated 8x across cluster]\u001b[0m\n"
     ]
    },
    {
     "name": "stderr",
     "output_type": "stream",
     "text": [
      "\u001b[36m(tune_with_parameters pid=2777761)\u001b[0m Checkpoint successfully created at: Checkpoint(filesystem=local, path=/scratch/users/k23058970/Model training/results/Complex Peak LRCN Null/tune_with_parameters_2024-08-19_22-54-03/tune_with_parameters_a4509_00003_3_dp=0.2500,k1=3,k2=3,k3=5,k4=1,lr=0.0013_2024-08-19_22-54-43/checkpoint_000005)\n",
      "Val Epoch:59: 47it [00:02, 17.50it/s]\u001b[32m [repeated 14x across cluster]\u001b[0m\n",
      "Val Epoch:60: 0it [00:00, ?it/s]664558)\u001b[0m \n",
      "Val Epoch:60: 2it [00:00, 13.76it/s]58)\u001b[0m \n",
      "Val Epoch:60: 5it [00:00, 21.54it/s]58)\u001b[0m \n",
      "Val Epoch:60: 8it [00:00, 23.96it/s]58)\u001b[0m \n",
      "Val Epoch:60: 11it [00:00, 25.74it/s]8)\u001b[0m \n",
      "Val Epoch:60: 14it [00:00, 22.81it/s]8)\u001b[0m \n",
      "Val Epoch:60: 18it [00:00, 27.17it/s]8)\u001b[0m \n",
      "Val Epoch:60: 21it [00:00, 23.87it/s]8)\u001b[0m \n"
     ]
    },
    {
     "name": "stdout",
     "output_type": "stream",
     "text": [
      "\u001b[36m(tune_with_parameters pid=2777761)\u001b[0m loss: 1.088\u001b[32m [repeated 11x across cluster]\u001b[0m\n"
     ]
    },
    {
     "name": "stderr",
     "output_type": "stream",
     "text": [
      "Val Epoch:60: 24it [00:01, 24.23it/s]8)\u001b[0m \n",
      "Val Epoch:60: 27it [00:01, 21.12it/s]8)\u001b[0m \n",
      "Val Epoch:60: 30it [00:01, 22.63it/s]8)\u001b[0m \n",
      "Val Epoch:60: 33it [00:01, 22.00it/s]8)\u001b[0m \n",
      "Val Epoch:60: 36it [00:01, 18.69it/s]8)\u001b[0m \n",
      "Val Epoch:60: 39it [00:01, 18.26it/s]8)\u001b[0m \n",
      "Val Epoch:60: 41it [00:01, 18.24it/s]8)\u001b[0m \n",
      "Val Epoch:60: 44it [00:02, 20.78it/s]8)\u001b[0m \n",
      "Val Epoch:60: 47it [00:02, 20.88it/s]8)\u001b[0m \n"
     ]
    },
    {
     "name": "stdout",
     "output_type": "stream",
     "text": [
      "\u001b[36m(tune_with_parameters pid=2664558)\u001b[0m loss: 0.000\u001b[32m [repeated 9x across cluster]\u001b[0m\n",
      "\u001b[36m(tune_with_parameters pid=2664558)\u001b[0m loss: 0.000\u001b[32m [repeated 13x across cluster]\u001b[0m\n"
     ]
    },
    {
     "name": "stderr",
     "output_type": "stream",
     "text": [
      "Val Epoch:8: 0it [00:00, ?it/s]2777761)\u001b[0m \n",
      "Val Epoch:8: 1it [00:00,  2.27it/s]761)\u001b[0m \n",
      "Val Epoch:8: 4it [00:00,  9.01it/s]761)\u001b[0m \n",
      "Val Epoch:8: 7it [00:00, 13.91it/s]761)\u001b[0m \n",
      "Val Epoch:8: 10it [00:00, 17.62it/s]61)\u001b[0m \n",
      "Val Epoch:8: 13it [00:01, 10.40it/s]61)\u001b[0m \n",
      "Val Epoch:61: 0it [00:00, ?it/s]664558)\u001b[0m \n",
      "Val Epoch:8: 15it [00:01,  6.42it/s]61)\u001b[0m \n"
     ]
    },
    {
     "name": "stdout",
     "output_type": "stream",
     "text": [
      "\u001b[36m(tune_with_parameters pid=2664558)\u001b[0m loss: 0.000\u001b[32m [repeated 4x across cluster]\u001b[0m\n",
      "\u001b[36m(tune_with_parameters pid=2664558)\u001b[0m loss: 0.000\u001b[32m [repeated 8x across cluster]\u001b[0m\n"
     ]
    },
    {
     "name": "stderr",
     "output_type": "stream",
     "text": [
      "Val Epoch:62: 0it [00:00, ?it/s]664558)\u001b[0m \n",
      "Val Epoch:61: 47it [00:02, 21.98it/s]\u001b[32m [repeated 28x across cluster]\u001b[0m\n"
     ]
    },
    {
     "name": "stdout",
     "output_type": "stream",
     "text": [
      "\u001b[36m(tune_with_parameters pid=2664558)\u001b[0m loss: 0.000\u001b[32m [repeated 7x across cluster]\u001b[0m\n"
     ]
    },
    {
     "name": "stderr",
     "output_type": "stream",
     "text": [
      "\u001b[36m(tune_with_parameters pid=2815408)\u001b[0m /users/k23058970/miniforge3/envs/Training/lib/python3.10/site-packages/torch/nn/modules/lazy.py:181: UserWarning: Lazy modules are a new feature under heavy development so changes to the API or functionality can happen at any moment.\n",
      "\u001b[36m(tune_with_parameters pid=2815408)\u001b[0m   warnings.warn('Lazy modules are a new feature under heavy development '\n",
      "Val Epoch:62: 47it [00:03, 13.43it/s]\u001b[32m [repeated 18x across cluster]\u001b[0m\n"
     ]
    },
    {
     "name": "stdout",
     "output_type": "stream",
     "text": [
      "\u001b[36m(tune_with_parameters pid=2664558)\u001b[0m loss: 0.000\u001b[32m [repeated 7x across cluster]\u001b[0m\n",
      "\u001b[36m(tune_with_parameters pid=2664558)\u001b[0m loss: 0.000\u001b[32m [repeated 14x across cluster]\u001b[0m\n"
     ]
    },
    {
     "name": "stderr",
     "output_type": "stream",
     "text": [
      "Val Epoch:63: 0it [00:00, ?it/s]664558)\u001b[0m \n",
      "Val Epoch:63: 1it [00:00,  3.39it/s]58)\u001b[0m \n",
      "Val Epoch:63: 4it [00:00, 11.18it/s]58)\u001b[0m \n",
      "Val Epoch:63: 7it [00:00, 16.59it/s]58)\u001b[0m \n",
      "Val Epoch:63: 10it [00:00, 17.26it/s]8)\u001b[0m \n",
      "Val Epoch:63: 13it [00:00, 19.96it/s]8)\u001b[0m \n",
      "Val Epoch:63: 16it [00:01, 13.97it/s]8)\u001b[0m \n",
      "Val Epoch:63: 18it [00:01, 14.67it/s]8)\u001b[0m \n",
      "Val Epoch:63: 21it [00:01, 16.61it/s]8)\u001b[0m \n",
      "Val Epoch:63: 24it [00:01, 19.32it/s]8)\u001b[0m \n",
      "Val Epoch:63: 27it [00:01, 20.94it/s]8)\u001b[0m \n",
      "Val Epoch:63: 30it [00:01, 18.19it/s]8)\u001b[0m \n",
      "Val Epoch:63: 33it [00:01, 19.34it/s]8)\u001b[0m \n",
      "Val Epoch:63: 36it [00:02, 20.02it/s]8)\u001b[0m \n",
      "Val Epoch:63: 39it [00:02, 20.59it/s]8)\u001b[0m \n",
      "Val Epoch:63: 43it [00:02, 16.66it/s]8)\u001b[0m \n",
      "Val Epoch:63: 45it [00:02, 15.51it/s]8)\u001b[0m \n",
      "Val Epoch:63: 47it [00:02, 16.20it/s]8)\u001b[0m \n"
     ]
    },
    {
     "name": "stdout",
     "output_type": "stream",
     "text": [
      "\u001b[36m(tune_with_parameters pid=2664558)\u001b[0m loss: 0.000\u001b[32m [repeated 8x across cluster]\u001b[0m\n"
     ]
    },
    {
     "name": "stderr",
     "output_type": "stream",
     "text": [
      "Val Epoch:0: 0it [00:00, ?it/s]2815408)\u001b[0m \n",
      "Val Epoch:0: 1it [00:00,  6.01it/s]408)\u001b[0m \n",
      "Val Epoch:0: 4it [00:00, 16.68it/s]408)\u001b[0m \n",
      "Val Epoch:0: 7it [00:00, 20.28it/s]408)\u001b[0m \n",
      "Val Epoch:0: 10it [00:00, 15.98it/s]08)\u001b[0m \n",
      "Val Epoch:0: 12it [00:00, 15.18it/s]08)\u001b[0m \n",
      "Val Epoch:0: 16it [00:00, 20.37it/s]08)\u001b[0m \n",
      "Val Epoch:0: 19it [00:01, 21.53it/s]08)\u001b[0m \n",
      "Val Epoch:0: 23it [00:01, 24.96it/s]08)\u001b[0m \n",
      "Val Epoch:0: 26it [00:01, 26.15it/s]08)\u001b[0m \n",
      "Val Epoch:0: 30it [00:01, 26.50it/s]08)\u001b[0m \n",
      "Val Epoch:0: 33it [00:01, 27.12it/s]08)\u001b[0m \n",
      "Val Epoch:0: 36it [00:01, 27.05it/s]08)\u001b[0m \n",
      "Val Epoch:0: 40it [00:01, 27.54it/s]08)\u001b[0m \n",
      "Val Epoch:0: 43it [00:01, 27.80it/s]08)\u001b[0m \n",
      "Val Epoch:0: 47it [00:01, 28.95it/s]08)\u001b[0m \n",
      "Val Epoch:0: 47it [00:02, 22.73it/s]08)\u001b[0m \n",
      "\u001b[36m(tune_with_parameters pid=2815408)\u001b[0m /scratch/users/k23058970/Model training/training_insilico_lrcn.py:63: RuntimeWarning: invalid value encountered in divide\n",
      "\u001b[36m(tune_with_parameters pid=2815408)\u001b[0m   self.precision = self.tp/(self.tp + self.fp)\n"
     ]
    },
    {
     "name": "stdout",
     "output_type": "stream",
     "text": [
      "\u001b[36m(tune_with_parameters pid=2664558)\u001b[0m loss: 0.000\u001b[32m [repeated 8x across cluster]\u001b[0m\n"
     ]
    },
    {
     "name": "stderr",
     "output_type": "stream",
     "text": [
      "Val Epoch:64: 0it [00:00, ?it/s]664558)\u001b[0m \n",
      "Val Epoch:64: 1it [00:00,  8.13it/s]58)\u001b[0m \n",
      "Val Epoch:64: 4it [00:00, 19.49it/s]58)\u001b[0m \n",
      "Val Epoch:64: 7it [00:00, 22.70it/s]58)\u001b[0m \n",
      "Val Epoch:64: 10it [00:00, 24.52it/s]8)\u001b[0m \n",
      "Val Epoch:64: 13it [00:00, 23.22it/s]8)\u001b[0m \n",
      "Val Epoch:64: 16it [00:00, 25.01it/s]8)\u001b[0m \n",
      "Val Epoch:64: 19it [00:00, 24.80it/s]8)\u001b[0m \n",
      "Val Epoch:64: 23it [00:00, 26.98it/s]8)\u001b[0m \n",
      "Val Epoch:64: 26it [00:01, 27.33it/s]8)\u001b[0m \n",
      "Val Epoch:64: 29it [00:01, 26.29it/s]8)\u001b[0m \n",
      "Val Epoch:64: 32it [00:01, 25.26it/s]8)\u001b[0m \n",
      "Val Epoch:64: 35it [00:01, 25.79it/s]8)\u001b[0m \n",
      "Val Epoch:64: 38it [00:01, 25.05it/s]8)\u001b[0m \n",
      "Val Epoch:64: 41it [00:01, 25.30it/s]8)\u001b[0m \n",
      "Val Epoch:64: 44it [00:01, 26.04it/s]8)\u001b[0m \n"
     ]
    },
    {
     "name": "stdout",
     "output_type": "stream",
     "text": [
      "\u001b[36m(tune_with_parameters pid=2815408)\u001b[0m /tmp/tmpshoapikc/checkpoint.pt\n",
      "\u001b[36m(tune_with_parameters pid=2664558)\u001b[0m loss: 0.000\u001b[32m [repeated 7x across cluster]\u001b[0m\n"
     ]
    },
    {
     "name": "stderr",
     "output_type": "stream",
     "text": [
      "Val Epoch:64: 47it [00:01, 24.76it/s]8)\u001b[0m \n",
      "\u001b[36m(tune_with_parameters pid=2815408)\u001b[0m Checkpoint successfully created at: Checkpoint(filesystem=local, path=/scratch/users/k23058970/Model training/results/Complex Peak LRCN Null/tune_with_parameters_2024-08-19_22-54-03/tune_with_parameters_a4509_00004_4_dp=0.1000,k1=5,k2=5,k3=1,k4=5,lr=0.0467_2024-08-19_22-54-43/checkpoint_000000)\n"
     ]
    },
    {
     "name": "stdout",
     "output_type": "stream",
     "text": [
      "\u001b[36m(tune_with_parameters pid=2664558)\u001b[0m loss: 0.000\u001b[32m [repeated 8x across cluster]\u001b[0m\n",
      "\u001b[36m(tune_with_parameters pid=2815408)\u001b[0m loss: 0.558\u001b[32m [repeated 15x across cluster]\u001b[0m\n"
     ]
    },
    {
     "name": "stderr",
     "output_type": "stream",
     "text": [
      "Val Epoch:65: 0it [00:00, ?it/s]664558)\u001b[0m \n",
      "Val Epoch:65: 1it [00:00,  6.16it/s]58)\u001b[0m \n",
      "Val Epoch:65: 4it [00:00, 15.03it/s]58)\u001b[0m \n",
      "Val Epoch:65: 6it [00:00, 16.70it/s]58)\u001b[0m \n",
      "Val Epoch:65: 9it [00:00, 19.92it/s]58)\u001b[0m \n",
      "Val Epoch:65: 12it [00:00, 21.54it/s]8)\u001b[0m \n",
      "Val Epoch:65: 15it [00:00, 22.91it/s]8)\u001b[0m \n",
      "Val Epoch:65: 19it [00:00, 24.29it/s]8)\u001b[0m \n",
      "Val Epoch:65: 22it [00:01, 24.10it/s]8)\u001b[0m \n",
      "Val Epoch:65: 25it [00:01, 25.52it/s]8)\u001b[0m \n",
      "Val Epoch:65: 28it [00:01, 26.58it/s]8)\u001b[0m \n",
      "Val Epoch:65: 31it [00:01, 26.06it/s]8)\u001b[0m \n",
      "Val Epoch:65: 34it [00:01, 26.42it/s]8)\u001b[0m \n",
      "Val Epoch:65: 38it [00:01, 28.11it/s]8)\u001b[0m \n",
      "Val Epoch:65: 41it [00:01, 26.50it/s]8)\u001b[0m \n",
      "Val Epoch:65: 44it [00:01, 27.13it/s]8)\u001b[0m \n",
      "Val Epoch:65: 47it [00:02, 23.33it/s]8)\u001b[0m \n"
     ]
    },
    {
     "name": "stdout",
     "output_type": "stream",
     "text": [
      "\u001b[36m(tune_with_parameters pid=2664558)\u001b[0m loss: 0.000\u001b[32m [repeated 8x across cluster]\u001b[0m\n"
     ]
    },
    {
     "name": "stderr",
     "output_type": "stream",
     "text": [
      "Val Epoch:1: 0it [00:00, ?it/s]2815408)\u001b[0m \n",
      "Val Epoch:1: 1it [00:01,  1.06s/it]408)\u001b[0m \n",
      "Val Epoch:1: 4it [00:01,  4.32it/s]408)\u001b[0m \n",
      "Val Epoch:1: 7it [00:01,  7.82it/s]408)\u001b[0m \n",
      "Val Epoch:1: 11it [00:01, 12.42it/s]08)\u001b[0m \n",
      "Val Epoch:1: 14it [00:01, 14.98it/s]08)\u001b[0m \n",
      "Val Epoch:1: 17it [00:01, 17.20it/s]08)\u001b[0m \n",
      "Val Epoch:1: 20it [00:01, 17.38it/s]08)\u001b[0m \n",
      "Val Epoch:1: 23it [00:01, 19.94it/s]08)\u001b[0m \n",
      "Val Epoch:1: 26it [00:02, 21.91it/s]08)\u001b[0m \n",
      "Val Epoch:1: 29it [00:02, 23.20it/s]08)\u001b[0m \n",
      "Val Epoch:1: 32it [00:02, 22.43it/s]08)\u001b[0m \n",
      "Val Epoch:1: 35it [00:02, 21.89it/s]08)\u001b[0m \n",
      "Val Epoch:1: 38it [00:02, 23.65it/s]08)\u001b[0m \n",
      "Val Epoch:1: 41it [00:02, 23.27it/s]08)\u001b[0m \n",
      "Val Epoch:1: 45it [00:02, 25.85it/s]08)\u001b[0m \n",
      "Val Epoch:1: 47it [00:02, 15.88it/s]08)\u001b[0m \n"
     ]
    },
    {
     "name": "stdout",
     "output_type": "stream",
     "text": [
      "\u001b[36m(tune_with_parameters pid=2664558)\u001b[0m loss: 0.000\u001b[32m [repeated 8x across cluster]\u001b[0m\n"
     ]
    },
    {
     "name": "stderr",
     "output_type": "stream",
     "text": [
      "Val Epoch:66: 0it [00:00, ?it/s]664558)\u001b[0m \n",
      "Val Epoch:66: 1it [00:00,  1.03it/s]58)\u001b[0m \n",
      "Val Epoch:66: 2it [00:01,  2.17it/s]58)\u001b[0m \n",
      "Val Epoch:66: 4it [00:01,  4.83it/s]58)\u001b[0m \n",
      "Val Epoch:66: 7it [00:01,  8.89it/s]58)\u001b[0m \n",
      "Val Epoch:66: 9it [00:01, 10.79it/s]58)\u001b[0m \n",
      "Val Epoch:66: 13it [00:01, 16.37it/s]8)\u001b[0m \n",
      "Val Epoch:66: 16it [00:01, 18.69it/s]8)\u001b[0m \n",
      "Val Epoch:66: 19it [00:01, 21.12it/s]8)\u001b[0m \n",
      "Val Epoch:66: 22it [00:01, 22.33it/s]8)\u001b[0m \n",
      "Val Epoch:66: 25it [00:02, 22.96it/s]8)\u001b[0m \n",
      "Val Epoch:66: 28it [00:02, 22.53it/s]8)\u001b[0m \n",
      "Val Epoch:66: 31it [00:02, 24.05it/s]8)\u001b[0m \n",
      "Val Epoch:66: 35it [00:02, 25.00it/s]8)\u001b[0m \n",
      "Val Epoch:66: 38it [00:02, 25.25it/s]8)\u001b[0m \n",
      "Val Epoch:66: 41it [00:02, 21.15it/s]8)\u001b[0m \n"
     ]
    },
    {
     "name": "stdout",
     "output_type": "stream",
     "text": [
      "\u001b[36m(tune_with_parameters pid=2815408)\u001b[0m /tmp/tmpq6bt46v3/checkpoint.pt\n",
      "\u001b[36m(tune_with_parameters pid=2664558)\u001b[0m loss: 0.000\u001b[32m [repeated 6x across cluster]\u001b[0m\n"
     ]
    },
    {
     "name": "stderr",
     "output_type": "stream",
     "text": [
      "Val Epoch:66: 44it [00:03, 14.27it/s]8)\u001b[0m \n",
      "Val Epoch:66: 47it [00:03, 14.36it/s]8)\u001b[0m \n",
      "\u001b[36m(tune_with_parameters pid=2815408)\u001b[0m Checkpoint successfully created at: Checkpoint(filesystem=local, path=/scratch/users/k23058970/Model training/results/Complex Peak LRCN Null/tune_with_parameters_2024-08-19_22-54-03/tune_with_parameters_a4509_00004_4_dp=0.1000,k1=5,k2=5,k3=1,k4=5,lr=0.0467_2024-08-19_22-54-43/checkpoint_000001)\n"
     ]
    },
    {
     "name": "stdout",
     "output_type": "stream",
     "text": [
      "\u001b[36m(tune_with_parameters pid=2664558)\u001b[0m loss: 0.000\u001b[32m [repeated 5x across cluster]\u001b[0m\n",
      "\u001b[36m(tune_with_parameters pid=2664558)\u001b[0m loss: 0.000\u001b[32m [repeated 15x across cluster]\u001b[0m\n"
     ]
    },
    {
     "name": "stderr",
     "output_type": "stream",
     "text": [
      "Val Epoch:67: 0it [00:00, ?it/s]664558)\u001b[0m \n",
      "Val Epoch:67: 1it [00:00,  1.17it/s]58)\u001b[0m \n",
      "Val Epoch:67: 3it [00:00,  3.73it/s]58)\u001b[0m \n",
      "Val Epoch:67: 6it [00:01,  7.67it/s]58)\u001b[0m \n",
      "Val Epoch:67: 9it [00:01, 10.03it/s]58)\u001b[0m \n",
      "Val Epoch:67: 11it [00:01, 10.65it/s]8)\u001b[0m \n",
      "Val Epoch:67: 13it [00:01, 12.28it/s]8)\u001b[0m \n",
      "Val Epoch:67: 16it [00:01, 15.16it/s]8)\u001b[0m \n",
      "Val Epoch:67: 19it [00:01, 15.58it/s]8)\u001b[0m \n",
      "Val Epoch:67: 22it [00:02, 15.96it/s]8)\u001b[0m \n",
      "Val Epoch:67: 26it [00:02, 19.20it/s]8)\u001b[0m \n",
      "Val Epoch:67: 29it [00:02, 20.86it/s]8)\u001b[0m \n",
      "Val Epoch:67: 32it [00:02, 22.84it/s]8)\u001b[0m \n",
      "Val Epoch:67: 35it [00:02, 23.60it/s]8)\u001b[0m \n",
      "Val Epoch:67: 38it [00:02, 24.96it/s]8)\u001b[0m \n",
      "Val Epoch:67: 41it [00:02, 25.05it/s]8)\u001b[0m \n",
      "Val Epoch:67: 44it [00:02, 24.91it/s]8)\u001b[0m \n",
      "Val Epoch:67: 47it [00:03, 15.45it/s]8)\u001b[0m \n"
     ]
    },
    {
     "name": "stdout",
     "output_type": "stream",
     "text": [
      "\u001b[36m(tune_with_parameters pid=2664558)\u001b[0m loss: 0.000\u001b[32m [repeated 9x across cluster]\u001b[0m\n"
     ]
    },
    {
     "name": "stderr",
     "output_type": "stream",
     "text": [
      "Val Epoch:2: 0it [00:00, ?it/s]2815408)\u001b[0m \n",
      "Val Epoch:2: 1it [00:00,  1.95it/s]408)\u001b[0m \n",
      "Val Epoch:2: 4it [00:00,  7.16it/s]408)\u001b[0m \n",
      "Val Epoch:2: 7it [00:00, 11.90it/s]408)\u001b[0m \n",
      "Val Epoch:2: 10it [00:00, 14.41it/s]08)\u001b[0m \n",
      "Val Epoch:2: 13it [00:01, 15.89it/s]08)\u001b[0m \n",
      "Val Epoch:2: 15it [00:01, 16.66it/s]08)\u001b[0m \n",
      "Val Epoch:2: 19it [00:01, 21.25it/s]08)\u001b[0m \n",
      "Val Epoch:2: 22it [00:01, 21.67it/s]08)\u001b[0m \n",
      "Val Epoch:2: 25it [00:01, 21.95it/s]08)\u001b[0m \n",
      "Val Epoch:2: 29it [00:01, 25.89it/s]08)\u001b[0m \n",
      "Val Epoch:2: 32it [00:01, 24.53it/s]08)\u001b[0m \n",
      "Val Epoch:2: 35it [00:01, 25.82it/s]08)\u001b[0m \n",
      "Val Epoch:2: 39it [00:02, 28.38it/s]08)\u001b[0m \n",
      "Val Epoch:2: 42it [00:02, 22.49it/s]08)\u001b[0m \n",
      "Val Epoch:2: 46it [00:02, 26.45it/s]08)\u001b[0m \n",
      "Val Epoch:2: 47it [00:02, 18.59it/s]08)\u001b[0m \n"
     ]
    },
    {
     "name": "stdout",
     "output_type": "stream",
     "text": [
      "\u001b[36m(tune_with_parameters pid=2664558)\u001b[0m loss: 0.000\u001b[32m [repeated 9x across cluster]\u001b[0m\n"
     ]
    },
    {
     "name": "stderr",
     "output_type": "stream",
     "text": [
      "Val Epoch:68: 0it [00:00, ?it/s]664558)\u001b[0m \n",
      "Val Epoch:68: 1it [00:00,  1.62it/s]58)\u001b[0m \n",
      "Val Epoch:68: 4it [00:00,  6.96it/s]58)\u001b[0m \n",
      "Val Epoch:68: 7it [00:00, 11.46it/s]58)\u001b[0m \n",
      "Val Epoch:68: 11it [00:00, 16.08it/s]8)\u001b[0m \n",
      "Val Epoch:68: 14it [00:01, 17.32it/s]8)\u001b[0m \n",
      "Val Epoch:68: 17it [00:01, 18.15it/s]8)\u001b[0m \n",
      "Val Epoch:68: 20it [00:01, 19.47it/s]8)\u001b[0m \n",
      "Val Epoch:68: 23it [00:01, 20.65it/s]8)\u001b[0m \n",
      "Val Epoch:68: 27it [00:01, 24.40it/s]8)\u001b[0m \n",
      "Val Epoch:68: 30it [00:01, 24.91it/s]8)\u001b[0m \n"
     ]
    },
    {
     "name": "stdout",
     "output_type": "stream",
     "text": [
      "\u001b[36m(tune_with_parameters pid=2815408)\u001b[0m /tmp/tmp904gakjq/checkpoint.pt\n",
      "\u001b[36m(tune_with_parameters pid=2664558)\u001b[0m loss: 0.000\u001b[32m [repeated 7x across cluster]\u001b[0m\n"
     ]
    },
    {
     "name": "stderr",
     "output_type": "stream",
     "text": [
      "Val Epoch:68: 33it [00:01, 23.07it/s]8)\u001b[0m \n",
      "Val Epoch:68: 36it [00:02, 23.06it/s]8)\u001b[0m \n",
      "Val Epoch:68: 39it [00:02, 23.22it/s]8)\u001b[0m \n",
      "Val Epoch:68: 42it [00:02, 21.49it/s]8)\u001b[0m \n",
      "Val Epoch:68: 47it [00:02, 27.26it/s]8)\u001b[0m \n",
      "Val Epoch:68: 47it [00:02, 18.38it/s]8)\u001b[0m \n",
      "\u001b[36m(tune_with_parameters pid=2815408)\u001b[0m Checkpoint successfully created at: Checkpoint(filesystem=local, path=/scratch/users/k23058970/Model training/results/Complex Peak LRCN Null/tune_with_parameters_2024-08-19_22-54-03/tune_with_parameters_a4509_00004_4_dp=0.1000,k1=5,k2=5,k3=1,k4=5,lr=0.0467_2024-08-19_22-54-43/checkpoint_000002)\n"
     ]
    },
    {
     "name": "stdout",
     "output_type": "stream",
     "text": [
      "\u001b[36m(tune_with_parameters pid=2664558)\u001b[0m loss: 0.000\u001b[32m [repeated 5x across cluster]\u001b[0m\n",
      "\u001b[36m(tune_with_parameters pid=2815408)\u001b[0m loss: 0.460\u001b[32m [repeated 13x across cluster]\u001b[0m\n"
     ]
    },
    {
     "name": "stderr",
     "output_type": "stream",
     "text": [
      "Val Epoch:69: 0it [00:00, ?it/s]664558)\u001b[0m \n",
      "Val Epoch:69: 1it [00:00,  1.13it/s]58)\u001b[0m \n",
      "Val Epoch:69: 4it [00:00,  5.04it/s]58)\u001b[0m \n",
      "Val Epoch:69: 8it [00:01, 10.36it/s]58)\u001b[0m \n",
      "Val Epoch:69: 11it [00:01, 13.03it/s]8)\u001b[0m \n",
      "Val Epoch:69: 15it [00:01, 16.64it/s]8)\u001b[0m \n",
      "Val Epoch:69: 18it [00:01, 17.68it/s]8)\u001b[0m \n",
      "Val Epoch:69: 21it [00:01, 12.82it/s]8)\u001b[0m \n",
      "Val Epoch:69: 23it [00:02, 13.65it/s]8)\u001b[0m \n",
      "Val Epoch:69: 27it [00:02, 18.07it/s]8)\u001b[0m \n",
      "Val Epoch:69: 31it [00:02, 20.93it/s]8)\u001b[0m \n",
      "Val Epoch:69: 34it [00:02, 22.01it/s]8)\u001b[0m \n",
      "Val Epoch:69: 37it [00:02, 22.70it/s]8)\u001b[0m \n"
     ]
    },
    {
     "name": "stdout",
     "output_type": "stream",
     "text": [
      "\u001b[36m(tune_with_parameters pid=2815408)\u001b[0m loss: 0.461\u001b[32m [repeated 10x across cluster]\u001b[0m\n"
     ]
    },
    {
     "name": "stderr",
     "output_type": "stream",
     "text": [
      "Val Epoch:69: 40it [00:02, 23.61it/s]8)\u001b[0m \n",
      "Val Epoch:69: 43it [00:02, 23.18it/s]8)\u001b[0m \n",
      "Val Epoch:69: 47it [00:02, 15.90it/s]8)\u001b[0m \n",
      "Val Epoch:3: 0it [00:00, ?it/s]2815408)\u001b[0m \n",
      "Val Epoch:3: 1it [00:00,  1.81it/s]408)\u001b[0m \n",
      "Val Epoch:3: 3it [00:00,  5.47it/s]408)\u001b[0m \n",
      "Val Epoch:3: 6it [00:00, 10.17it/s]408)\u001b[0m \n",
      "Val Epoch:3: 10it [00:00, 15.94it/s]08)\u001b[0m \n",
      "Val Epoch:3: 15it [00:01, 22.09it/s]08)\u001b[0m \n",
      "Val Epoch:3: 19it [00:01, 25.54it/s]08)\u001b[0m \n",
      "Val Epoch:3: 24it [00:01, 31.29it/s]08)\u001b[0m \n",
      "Val Epoch:3: 28it [00:01, 29.43it/s]08)\u001b[0m \n",
      "Val Epoch:3: 32it [00:01, 21.25it/s]08)\u001b[0m \n",
      "Val Epoch:3: 35it [00:01, 17.75it/s]08)\u001b[0m \n",
      "Val Epoch:3: 38it [00:02, 19.01it/s]08)\u001b[0m \n",
      "Val Epoch:3: 41it [00:02, 19.60it/s]08)\u001b[0m \n",
      "Val Epoch:3: 45it [00:02, 22.80it/s]08)\u001b[0m \n",
      "Val Epoch:3: 47it [00:02, 18.78it/s]08)\u001b[0m \n"
     ]
    },
    {
     "name": "stdout",
     "output_type": "stream",
     "text": [
      "\u001b[36m(tune_with_parameters pid=2664558)\u001b[0m loss: 0.000\u001b[32m [repeated 7x across cluster]\u001b[0m\n",
      "\u001b[36m(tune_with_parameters pid=2815408)\u001b[0m loss: 0.463\u001b[32m [repeated 13x across cluster]\u001b[0m\n"
     ]
    },
    {
     "name": "stderr",
     "output_type": "stream",
     "text": [
      "Val Epoch:70: 0it [00:00, ?it/s]664558)\u001b[0m \n",
      "Val Epoch:70: 1it [00:00,  1.28it/s]58)\u001b[0m \n",
      "Val Epoch:70: 3it [00:00,  3.89it/s]58)\u001b[0m \n",
      "Val Epoch:70: 5it [00:01,  6.62it/s]58)\u001b[0m \n",
      "Val Epoch:70: 8it [00:01, 10.17it/s]58)\u001b[0m \n",
      "Val Epoch:70: 11it [00:01, 13.08it/s]8)\u001b[0m \n",
      "Val Epoch:70: 15it [00:01, 14.36it/s]8)\u001b[0m \n",
      "Val Epoch:70: 17it [00:01, 12.85it/s]8)\u001b[0m \n",
      "Val Epoch:70: 19it [00:02,  9.42it/s]8)\u001b[0m \n",
      "Val Epoch:70: 23it [00:02, 13.41it/s]8)\u001b[0m \n",
      "Val Epoch:70: 26it [00:02, 15.45it/s]8)\u001b[0m \n",
      "Val Epoch:70: 29it [00:02, 17.57it/s]8)\u001b[0m \n",
      "Val Epoch:70: 32it [00:02, 18.81it/s]8)\u001b[0m \n",
      "Val Epoch:70: 35it [00:02, 20.48it/s]8)\u001b[0m \n"
     ]
    },
    {
     "name": "stdout",
     "output_type": "stream",
     "text": [
      "\u001b[36m(tune_with_parameters pid=2815408)\u001b[0m loss: 0.462\u001b[32m [repeated 10x across cluster]\u001b[0m\n"
     ]
    },
    {
     "name": "stderr",
     "output_type": "stream",
     "text": [
      "Val Epoch:70: 39it [00:02, 23.62it/s]8)\u001b[0m \n",
      "Val Epoch:70: 42it [00:03, 23.73it/s]8)\u001b[0m \n",
      "Val Epoch:70: 45it [00:03, 25.02it/s]8)\u001b[0m \n",
      "Val Epoch:70: 47it [00:03, 14.33it/s]8)\u001b[0m \n",
      "Val Epoch:4: 0it [00:00, ?it/s]2815408)\u001b[0m \n",
      "Val Epoch:4: 1it [00:00,  6.81it/s]408)\u001b[0m \n",
      "Val Epoch:4: 3it [00:00, 12.44it/s]408)\u001b[0m \n",
      "Val Epoch:4: 7it [00:00, 20.17it/s]408)\u001b[0m \n",
      "Val Epoch:4: 11it [00:00, 23.13it/s]08)\u001b[0m \n",
      "Val Epoch:4: 14it [00:00, 18.21it/s]08)\u001b[0m \n",
      "Val Epoch:4: 17it [00:00, 20.56it/s]08)\u001b[0m \n",
      "Val Epoch:4: 20it [00:01, 19.59it/s]08)\u001b[0m \n",
      "Val Epoch:4: 23it [00:01, 19.02it/s]08)\u001b[0m \n",
      "Val Epoch:4: 26it [00:01, 20.57it/s]08)\u001b[0m \n",
      "Val Epoch:4: 30it [00:01, 24.39it/s]08)\u001b[0m \n",
      "Val Epoch:4: 33it [00:01, 25.43it/s]08)\u001b[0m \n",
      "Val Epoch:4: 38it [00:01, 29.34it/s]08)\u001b[0m \n"
     ]
    },
    {
     "name": "stdout",
     "output_type": "stream",
     "text": [
      "\u001b[36m(tune_with_parameters pid=2664558)\u001b[0m loss: 0.000\u001b[32m [repeated 6x across cluster]\u001b[0m\n"
     ]
    },
    {
     "name": "stderr",
     "output_type": "stream",
     "text": [
      "Val Epoch:4: 42it [00:01, 30.41it/s]08)\u001b[0m \n",
      "Val Epoch:4: 46it [00:01, 32.44it/s]08)\u001b[0m \n",
      "Val Epoch:4: 47it [00:02, 23.40it/s]08)\u001b[0m \n"
     ]
    },
    {
     "name": "stdout",
     "output_type": "stream",
     "text": [
      "\u001b[36m(tune_with_parameters pid=2664558)\u001b[0m loss: 0.000\u001b[32m [repeated 9x across cluster]\u001b[0m\n"
     ]
    },
    {
     "name": "stderr",
     "output_type": "stream",
     "text": [
      "Val Epoch:71: 0it [00:00, ?it/s]664558)\u001b[0m \n",
      "Val Epoch:71: 1it [00:00,  2.87it/s]58)\u001b[0m \n",
      "Val Epoch:71: 5it [00:00, 10.88it/s]58)\u001b[0m \n",
      "Val Epoch:71: 7it [00:00, 11.05it/s]58)\u001b[0m \n",
      "Val Epoch:71: 9it [00:00, 12.48it/s]58)\u001b[0m \n",
      "Val Epoch:71: 12it [00:00, 16.46it/s]8)\u001b[0m \n",
      "Val Epoch:71: 15it [00:01, 18.86it/s]8)\u001b[0m \n",
      "Val Epoch:71: 18it [00:01, 20.43it/s]8)\u001b[0m \n",
      "Val Epoch:71: 21it [00:01, 20.33it/s]8)\u001b[0m \n"
     ]
    },
    {
     "name": "stdout",
     "output_type": "stream",
     "text": [
      "\u001b[36m(tune_with_parameters pid=2815408)\u001b[0m /tmp/tmp5y877q0q/checkpoint.pt\n"
     ]
    },
    {
     "name": "stderr",
     "output_type": "stream",
     "text": [
      "Val Epoch:71: 25it [00:01, 21.83it/s]8)\u001b[0m \n",
      "Val Epoch:71: 29it [00:01, 23.91it/s]8)\u001b[0m \n",
      "Val Epoch:71: 32it [00:01, 24.82it/s]8)\u001b[0m \n",
      "Val Epoch:71: 35it [00:01, 23.89it/s]8)\u001b[0m \n",
      "Val Epoch:71: 38it [00:02, 22.47it/s]8)\u001b[0m \n",
      "Val Epoch:71: 41it [00:02, 23.43it/s]8)\u001b[0m \n",
      "Val Epoch:71: 44it [00:02, 24.70it/s]8)\u001b[0m \n",
      "Val Epoch:71: 47it [00:02, 19.58it/s]8)\u001b[0m \n"
     ]
    },
    {
     "name": "stdout",
     "output_type": "stream",
     "text": [
      "\u001b[36m(tune_with_parameters pid=2664558)\u001b[0m loss: 0.000\u001b[32m [repeated 3x across cluster]\u001b[0m\n"
     ]
    },
    {
     "name": "stderr",
     "output_type": "stream",
     "text": [
      "\u001b[36m(tune_with_parameters pid=2815408)\u001b[0m Checkpoint successfully created at: Checkpoint(filesystem=local, path=/scratch/users/k23058970/Model training/results/Complex Peak LRCN Null/tune_with_parameters_2024-08-19_22-54-03/tune_with_parameters_a4509_00004_4_dp=0.1000,k1=5,k2=5,k3=1,k4=5,lr=0.0467_2024-08-19_22-54-43/checkpoint_000003)\n"
     ]
    },
    {
     "name": "stdout",
     "output_type": "stream",
     "text": [
      "\u001b[36m(tune_with_parameters pid=2815408)\u001b[0m loss: 0.456\u001b[32m [repeated 10x across cluster]\u001b[0m\n",
      "\u001b[36m(tune_with_parameters pid=2815408)\u001b[0m \n",
      "\u001b[36m(tune_with_parameters pid=2664558)\u001b[0m loss: 0.000\u001b[32m [repeated 15x across cluster]\u001b[0m\n"
     ]
    },
    {
     "name": "stderr",
     "output_type": "stream",
     "text": [
      "Val Epoch:72: 0it [00:00, ?it/s]664558)\u001b[0m \n",
      "Val Epoch:72: 1it [00:00,  1.80it/s]58)\u001b[0m \n",
      "Val Epoch:72: 2it [00:00,  3.17it/s]58)\u001b[0m \n",
      "Val Epoch:72: 5it [00:00,  8.32it/s]58)\u001b[0m \n",
      "Val Epoch:72: 8it [00:00, 12.82it/s]58)\u001b[0m \n",
      "Val Epoch:72: 10it [00:01, 12.80it/s]8)\u001b[0m \n",
      "Val Epoch:72: 12it [00:01, 13.82it/s]8)\u001b[0m \n",
      "Val Epoch:72: 15it [00:01, 17.10it/s]8)\u001b[0m \n",
      "Val Epoch:72: 17it [00:01, 16.95it/s]8)\u001b[0m \n",
      "Val Epoch:72: 19it [00:01, 17.57it/s]8)\u001b[0m \n",
      "Val Epoch:72: 23it [00:01, 22.33it/s]8)\u001b[0m \n",
      "Val Epoch:72: 26it [00:01, 18.85it/s]8)\u001b[0m \n",
      "Val Epoch:72: 29it [00:02, 16.19it/s]8)\u001b[0m \n",
      "Val Epoch:72: 32it [00:02, 18.57it/s]8)\u001b[0m \n",
      "Val Epoch:72: 35it [00:02, 20.84it/s]8)\u001b[0m \n",
      "Val Epoch:72: 38it [00:02, 19.93it/s]8)\u001b[0m \n",
      "Val Epoch:72: 41it [00:02, 20.31it/s]8)\u001b[0m \n",
      "Val Epoch:72: 45it [00:02, 23.23it/s]8)\u001b[0m \n",
      "Val Epoch:72: 47it [00:02, 16.11it/s]8)\u001b[0m \n",
      "Val Epoch:5: 0it [00:00, ?it/s]2815408)\u001b[0m \n"
     ]
    },
    {
     "name": "stdout",
     "output_type": "stream",
     "text": [
      "\u001b[36m(tune_with_parameters pid=2664558)\u001b[0m loss: 0.000\u001b[32m [repeated 5x across cluster]\u001b[0m\n"
     ]
    },
    {
     "name": "stderr",
     "output_type": "stream",
     "text": [
      "Val Epoch:5: 8it [00:00, 13.40it/s]408)\u001b[0m \n",
      "Val Epoch:5: 24it [00:01, 18.88it/s]\u001b[32m [repeated 7x across cluster]\u001b[0m\n"
     ]
    },
    {
     "name": "stdout",
     "output_type": "stream",
     "text": [
      "\u001b[36m(tune_with_parameters pid=2664558)\u001b[0m loss: 0.000\u001b[32m [repeated 8x across cluster]\u001b[0m\n",
      "\u001b[36m(tune_with_parameters pid=2815408)\u001b[0m /tmp/tmphfn8z754/checkpoint.pt\n"
     ]
    },
    {
     "name": "stderr",
     "output_type": "stream",
     "text": [
      "Val Epoch:73: 0it [00:00, ?it/s]664558)\u001b[0m \n",
      "Val Epoch:5: 47it [00:02, 16.90it/s]\u001b[32m [repeated 8x across cluster]\u001b[0m\n",
      "\u001b[36m(tune_with_parameters pid=2815408)\u001b[0m Checkpoint successfully created at: Checkpoint(filesystem=local, path=/scratch/users/k23058970/Model training/results/Complex Peak LRCN Null/tune_with_parameters_2024-08-19_22-54-03/tune_with_parameters_a4509_00004_4_dp=0.1000,k1=5,k2=5,k3=1,k4=5,lr=0.0467_2024-08-19_22-54-43/checkpoint_000004)\n"
     ]
    },
    {
     "name": "stdout",
     "output_type": "stream",
     "text": [
      "\u001b[36m(tune_with_parameters pid=2664558)\u001b[0m loss: 0.000\u001b[32m [repeated 7x across cluster]\u001b[0m\n",
      "\u001b[36m(tune_with_parameters pid=2664558)\u001b[0m loss: 0.000\u001b[32m [repeated 11x across cluster]\u001b[0m\n",
      "\u001b[36m(tune_with_parameters pid=2664558)\u001b[0m loss: 0.000\u001b[32m [repeated 15x across cluster]\u001b[0m\n"
     ]
    },
    {
     "name": "stderr",
     "output_type": "stream",
     "text": [
      "Val Epoch:74: 0it [00:00, ?it/s]664558)\u001b[0m \n",
      "Val Epoch:73: 47it [00:02, 16.18it/s]\u001b[32m [repeated 16x across cluster]\u001b[0m\n",
      "Val Epoch:6: 0it [00:00, ?it/s]2815408)\u001b[0m \n",
      "Val Epoch:6: 26it [00:02,  6.21it/s]\u001b[32m [repeated 26x across cluster]\u001b[0m\n"
     ]
    },
    {
     "name": "stdout",
     "output_type": "stream",
     "text": [
      "\u001b[36m(tune_with_parameters pid=2664558)\u001b[0m loss: 0.000\u001b[32m [repeated 4x across cluster]\u001b[0m\n",
      "\u001b[36m(tune_with_parameters pid=2664558)\u001b[0m loss: 0.000\u001b[32m [repeated 11x across cluster]\u001b[0m\n",
      "\u001b[36m(tune_with_parameters pid=2815408)\u001b[0m loss: 0.002\u001b[32m [repeated 15x across cluster]\u001b[0m\n"
     ]
    },
    {
     "name": "stderr",
     "output_type": "stream",
     "text": [
      "Val Epoch:75: 0it [00:00, ?it/s]664558)\u001b[0m \n",
      "Val Epoch:6: 47it [00:03, 13.02it/s]\u001b[32m [repeated 7x across cluster]\u001b[0m\n"
     ]
    },
    {
     "name": "stdout",
     "output_type": "stream",
     "text": [
      "\u001b[36m(tune_with_parameters pid=2664558)\u001b[0m loss: 0.000\u001b[32m [repeated 4x across cluster]\u001b[0m\n"
     ]
    },
    {
     "name": "stderr",
     "output_type": "stream",
     "text": [
      "Val Epoch:7: 0it [00:00, ?it/s]2815408)\u001b[0m \n",
      "Val Epoch:7: 14it [00:01, 20.35it/s]\u001b[32m [repeated 21x across cluster]\u001b[0m\n"
     ]
    },
    {
     "name": "stdout",
     "output_type": "stream",
     "text": [
      "\u001b[36m(tune_with_parameters pid=2664558)\u001b[0m loss: 0.000\u001b[32m [repeated 10x across cluster]\u001b[0m\n"
     ]
    },
    {
     "name": "stderr",
     "output_type": "stream",
     "text": [
      "Val Epoch:76: 0it [00:00, ?it/s]664558)\u001b[0m \n",
      "Val Epoch:7: 47it [00:02, 19.78it/s]\u001b[32m [repeated 10x across cluster]\u001b[0m\n"
     ]
    },
    {
     "name": "stdout",
     "output_type": "stream",
     "text": [
      "\u001b[36m(tune_with_parameters pid=2815408)\u001b[0m loss: 0.001\u001b[32m [repeated 15x across cluster]\u001b[0m\n"
     ]
    },
    {
     "name": "stderr",
     "output_type": "stream",
     "text": [
      "Val Epoch:76: 3it [00:01,  3.56it/s]58)\u001b[0m \n",
      "Val Epoch:8: 0it [00:00, ?it/s]2815408)\u001b[0m \n",
      "Val Epoch:76: 47it [00:03, 14.48it/s]\u001b[32m [repeated 14x across cluster]\u001b[0m\n"
     ]
    },
    {
     "name": "stdout",
     "output_type": "stream",
     "text": [
      "\u001b[36m(tune_with_parameters pid=2664558)\u001b[0m loss: 0.000\u001b[32m [repeated 6x across cluster]\u001b[0m\n",
      "\u001b[36m(tune_with_parameters pid=2664558)\u001b[0m loss: 0.000\u001b[32m [repeated 11x across cluster]\u001b[0m\n"
     ]
    },
    {
     "name": "stderr",
     "output_type": "stream",
     "text": [
      "Val Epoch:77: 0it [00:00, ?it/s]664558)\u001b[0m \n",
      "Val Epoch:8: 47it [00:02, 20.83it/s]\u001b[32m [repeated 15x across cluster]\u001b[0m\n"
     ]
    },
    {
     "name": "stdout",
     "output_type": "stream",
     "text": [
      "\u001b[36m(tune_with_parameters pid=2815408)\u001b[0m loss: 0.001\u001b[32m [repeated 14x across cluster]\u001b[0m\n"
     ]
    },
    {
     "name": "stderr",
     "output_type": "stream",
     "text": [
      "Val Epoch:9: 0it [00:00, ?it/s]2815408)\u001b[0m \n",
      "Val Epoch:9: 6it [00:00,  9.15it/s]\u001b[32m [repeated 19x across cluster]\u001b[0m\n"
     ]
    },
    {
     "name": "stdout",
     "output_type": "stream",
     "text": [
      "\u001b[36m(tune_with_parameters pid=2664558)\u001b[0m loss: 0.000\u001b[32m [repeated 6x across cluster]\u001b[0m\n",
      "\u001b[36m(tune_with_parameters pid=2815408)\u001b[0m loss: 0.001\u001b[32m [repeated 11x across cluster]\u001b[0m\n"
     ]
    },
    {
     "name": "stderr",
     "output_type": "stream",
     "text": [
      "Val Epoch:78: 0it [00:00, ?it/s]664558)\u001b[0m \n",
      "Val Epoch:9: 47it [00:02, 17.00it/s]\u001b[32m [repeated 13x across cluster]\u001b[0m\n"
     ]
    },
    {
     "name": "stdout",
     "output_type": "stream",
     "text": [
      "\u001b[36m(tune_with_parameters pid=2815408)\u001b[0m loss: 0.001\u001b[32m [repeated 12x across cluster]\u001b[0m\n"
     ]
    },
    {
     "name": "stderr",
     "output_type": "stream",
     "text": [
      "Val Epoch:10: 0it [00:00, ?it/s]815408)\u001b[0m \n",
      "Val Epoch:78: 47it [00:03, 15.36it/s]\u001b[32m [repeated 17x across cluster]\u001b[0m\n"
     ]
    },
    {
     "name": "stdout",
     "output_type": "stream",
     "text": [
      "\u001b[36m(tune_with_parameters pid=2664558)\u001b[0m loss: 0.000\u001b[32m [repeated 7x across cluster]\u001b[0m\n",
      "\u001b[36m(tune_with_parameters pid=2664558)\u001b[0m loss: 0.000\u001b[32m [repeated 10x across cluster]\u001b[0m\n"
     ]
    },
    {
     "name": "stderr",
     "output_type": "stream",
     "text": [
      "Val Epoch:79: 0it [00:00, ?it/s]664558)\u001b[0m \n",
      "Val Epoch:10: 47it [00:02, 16.71it/s]\u001b[32m [repeated 16x across cluster]\u001b[0m\n"
     ]
    },
    {
     "name": "stdout",
     "output_type": "stream",
     "text": [
      "\u001b[36m(tune_with_parameters pid=2815408)\u001b[0m loss: 0.000\u001b[32m [repeated 12x across cluster]\u001b[0m\n"
     ]
    },
    {
     "name": "stderr",
     "output_type": "stream",
     "text": [
      "Val Epoch:11: 0it [00:00, ?it/s]815408)\u001b[0m \n",
      "Val Epoch:79: 47it [00:03, 15.57it/s]\u001b[32m [repeated 17x across cluster]\u001b[0m\n"
     ]
    },
    {
     "name": "stdout",
     "output_type": "stream",
     "text": [
      "\u001b[36m(tune_with_parameters pid=2664558)\u001b[0m loss: 0.000\u001b[32m [repeated 9x across cluster]\u001b[0m\n",
      "\u001b[36m(tune_with_parameters pid=2664558)\u001b[0m loss: 0.000\u001b[32m [repeated 10x across cluster]\u001b[0m\n"
     ]
    },
    {
     "name": "stderr",
     "output_type": "stream",
     "text": [
      "Val Epoch:80: 0it [00:00, ?it/s]664558)\u001b[0m \n",
      "Val Epoch:11: 47it [00:02, 16.10it/s]\u001b[32m [repeated 16x across cluster]\u001b[0m\n"
     ]
    },
    {
     "name": "stdout",
     "output_type": "stream",
     "text": [
      "\u001b[36m(tune_with_parameters pid=2815408)\u001b[0m loss: 0.001\u001b[32m [repeated 11x across cluster]\u001b[0m\n"
     ]
    },
    {
     "name": "stderr",
     "output_type": "stream",
     "text": [
      "Val Epoch:12: 0it [00:00, ?it/s]815408)\u001b[0m \n",
      "Val Epoch:80: 47it [00:02, 19.76it/s]\u001b[32m [repeated 15x across cluster]\u001b[0m\n"
     ]
    },
    {
     "name": "stdout",
     "output_type": "stream",
     "text": [
      "\u001b[36m(tune_with_parameters pid=2664558)\u001b[0m loss: 0.000\u001b[32m [repeated 12x across cluster]\u001b[0m\n",
      "\u001b[36m(tune_with_parameters pid=2664558)\u001b[0m loss: 0.000\u001b[32m [repeated 11x across cluster]\u001b[0m\n"
     ]
    },
    {
     "name": "stderr",
     "output_type": "stream",
     "text": [
      "Val Epoch:81: 0it [00:00, ?it/s]664558)\u001b[0m \n",
      "Val Epoch:12: 47it [00:02, 16.55it/s]\u001b[32m [repeated 15x across cluster]\u001b[0m\n"
     ]
    },
    {
     "name": "stdout",
     "output_type": "stream",
     "text": [
      "\u001b[36m(tune_with_parameters pid=2815408)\u001b[0m loss: 0.000\u001b[32m [repeated 8x across cluster]\u001b[0m\n"
     ]
    },
    {
     "name": "stderr",
     "output_type": "stream",
     "text": [
      "Val Epoch:13: 0it [00:00, ?it/s]815408)\u001b[0m \n",
      "Val Epoch:81: 47it [00:02, 17.79it/s]\u001b[32m [repeated 19x across cluster]\u001b[0m\n"
     ]
    },
    {
     "name": "stdout",
     "output_type": "stream",
     "text": [
      "\u001b[36m(tune_with_parameters pid=2664558)\u001b[0m loss: 0.000\u001b[32m [repeated 11x across cluster]\u001b[0m\n",
      "\u001b[36m(tune_with_parameters pid=2664558)\u001b[0m loss: 0.000\u001b[32m [repeated 11x across cluster]\u001b[0m\n"
     ]
    },
    {
     "name": "stderr",
     "output_type": "stream",
     "text": [
      "Val Epoch:82: 0it [00:00, ?it/s]664558)\u001b[0m \n",
      "Val Epoch:13: 47it [00:02, 21.32it/s]\u001b[32m [repeated 15x across cluster]\u001b[0m\n"
     ]
    },
    {
     "name": "stdout",
     "output_type": "stream",
     "text": [
      "\u001b[36m(tune_with_parameters pid=2664558)\u001b[0m loss: 0.000\u001b[32m [repeated 8x across cluster]\u001b[0m\n"
     ]
    },
    {
     "name": "stderr",
     "output_type": "stream",
     "text": [
      "Val Epoch:14: 0it [00:00, ?it/s]815408)\u001b[0m \n",
      "Val Epoch:82: 47it [00:02, 17.33it/s]\u001b[32m [repeated 15x across cluster]\u001b[0m\n"
     ]
    },
    {
     "name": "stdout",
     "output_type": "stream",
     "text": [
      "\u001b[36m(tune_with_parameters pid=2664558)\u001b[0m loss: 0.000\u001b[32m [repeated 11x across cluster]\u001b[0m\n",
      "\u001b[36m(tune_with_parameters pid=2664558)\u001b[0m loss: 0.000\u001b[32m [repeated 10x across cluster]\u001b[0m\n"
     ]
    },
    {
     "name": "stderr",
     "output_type": "stream",
     "text": [
      "Val Epoch:83: 0it [00:00, ?it/s]664558)\u001b[0m \n",
      "Val Epoch:14: 47it [00:02, 20.72it/s]\u001b[32m [repeated 15x across cluster]\u001b[0m\n"
     ]
    },
    {
     "name": "stdout",
     "output_type": "stream",
     "text": [
      "\u001b[36m(tune_with_parameters pid=2815408)\u001b[0m loss: 0.000\u001b[32m [repeated 9x across cluster]\u001b[0m\n"
     ]
    },
    {
     "name": "stderr",
     "output_type": "stream",
     "text": [
      "Val Epoch:15: 0it [00:00, ?it/s]815408)\u001b[0m \n",
      "Val Epoch:83: 47it [00:02, 16.79it/s]\u001b[32m [repeated 16x across cluster]\u001b[0m\n"
     ]
    },
    {
     "name": "stdout",
     "output_type": "stream",
     "text": [
      "\u001b[36m(tune_with_parameters pid=2664558)\u001b[0m loss: 0.000\u001b[32m [repeated 11x across cluster]\u001b[0m\n",
      "\u001b[36m(tune_with_parameters pid=2664558)\u001b[0m loss: 0.000\u001b[32m [repeated 12x across cluster]\u001b[0m\n"
     ]
    },
    {
     "name": "stderr",
     "output_type": "stream",
     "text": [
      "Val Epoch:84: 0it [00:00, ?it/s]664558)\u001b[0m \n",
      "Val Epoch:15: 47it [00:02, 19.47it/s]\u001b[32m [repeated 14x across cluster]\u001b[0m\n"
     ]
    },
    {
     "name": "stdout",
     "output_type": "stream",
     "text": [
      "\u001b[36m(tune_with_parameters pid=2664558)\u001b[0m loss: 0.000\u001b[32m [repeated 7x across cluster]\u001b[0m\n"
     ]
    },
    {
     "name": "stderr",
     "output_type": "stream",
     "text": [
      "Val Epoch:16: 0it [00:00, ?it/s]815408)\u001b[0m \n",
      "Val Epoch:84: 47it [00:03, 15.01it/s]\u001b[32m [repeated 16x across cluster]\u001b[0m\n"
     ]
    },
    {
     "name": "stdout",
     "output_type": "stream",
     "text": [
      "\u001b[36m(tune_with_parameters pid=2664558)\u001b[0m loss: 0.000\u001b[32m [repeated 12x across cluster]\u001b[0m\n",
      "\u001b[36m(tune_with_parameters pid=2664558)\u001b[0m loss: 0.000\u001b[32m [repeated 13x across cluster]\u001b[0m\n"
     ]
    },
    {
     "name": "stderr",
     "output_type": "stream",
     "text": [
      "Val Epoch:85: 0it [00:00, ?it/s]664558)\u001b[0m \n",
      "Val Epoch:16: 47it [00:02, 22.32it/s]\u001b[32m [repeated 14x across cluster]\u001b[0m\n"
     ]
    },
    {
     "name": "stdout",
     "output_type": "stream",
     "text": [
      "\u001b[36m(tune_with_parameters pid=2815408)\u001b[0m loss: 0.000\u001b[32m [repeated 7x across cluster]\u001b[0m\n"
     ]
    },
    {
     "name": "stderr",
     "output_type": "stream",
     "text": [
      "Val Epoch:17: 0it [00:00, ?it/s]815408)\u001b[0m \n",
      "Val Epoch:85: 47it [00:02, 16.72it/s]\u001b[32m [repeated 18x across cluster]\u001b[0m\n"
     ]
    },
    {
     "name": "stdout",
     "output_type": "stream",
     "text": [
      "\u001b[36m(tune_with_parameters pid=2664558)\u001b[0m loss: 0.000\u001b[32m [repeated 10x across cluster]\u001b[0m\n",
      "\u001b[36m(tune_with_parameters pid=2664558)\u001b[0m loss: 0.000\u001b[32m [repeated 11x across cluster]\u001b[0m\n"
     ]
    },
    {
     "name": "stderr",
     "output_type": "stream",
     "text": [
      "Val Epoch:86: 0it [00:00, ?it/s]664558)\u001b[0m \n",
      "Val Epoch:17: 47it [00:02, 20.03it/s]\u001b[32m [repeated 16x across cluster]\u001b[0m\n"
     ]
    },
    {
     "name": "stdout",
     "output_type": "stream",
     "text": [
      "\u001b[36m(tune_with_parameters pid=2664558)\u001b[0m loss: 0.000\u001b[32m [repeated 8x across cluster]\u001b[0m\n"
     ]
    },
    {
     "name": "stderr",
     "output_type": "stream",
     "text": [
      "Val Epoch:18: 0it [00:00, ?it/s]815408)\u001b[0m \n",
      "Val Epoch:86: 47it [00:03, 14.32it/s]\u001b[32m [repeated 16x across cluster]\u001b[0m\n"
     ]
    },
    {
     "name": "stdout",
     "output_type": "stream",
     "text": [
      "\u001b[36m(tune_with_parameters pid=2664558)\u001b[0m loss: 0.000\u001b[32m [repeated 11x across cluster]\u001b[0m\n",
      "\u001b[36m(tune_with_parameters pid=2664558)\u001b[0m loss: 0.000\u001b[32m [repeated 11x across cluster]\u001b[0m\n"
     ]
    },
    {
     "name": "stderr",
     "output_type": "stream",
     "text": [
      "Val Epoch:87: 0it [00:00, ?it/s]664558)\u001b[0m \n",
      "Val Epoch:18: 47it [00:02, 21.38it/s]\u001b[32m [repeated 14x across cluster]\u001b[0m\n"
     ]
    },
    {
     "name": "stdout",
     "output_type": "stream",
     "text": [
      "\u001b[36m(tune_with_parameters pid=2664558)\u001b[0m loss: 0.000\u001b[32m [repeated 7x across cluster]\u001b[0m\n"
     ]
    },
    {
     "name": "stderr",
     "output_type": "stream",
     "text": [
      "Val Epoch:19: 0it [00:00, ?it/s]815408)\u001b[0m \n",
      "Val Epoch:87: 47it [00:02, 21.31it/s]\u001b[32m [repeated 16x across cluster]\u001b[0m\n"
     ]
    },
    {
     "name": "stdout",
     "output_type": "stream",
     "text": [
      "\u001b[36m(tune_with_parameters pid=2664558)\u001b[0m loss: 0.000\u001b[32m [repeated 12x across cluster]\u001b[0m\n",
      "\u001b[36m(tune_with_parameters pid=2664558)\u001b[0m loss: 0.000\u001b[32m [repeated 10x across cluster]\u001b[0m\n"
     ]
    },
    {
     "name": "stderr",
     "output_type": "stream",
     "text": [
      "Val Epoch:88: 0it [00:00, ?it/s]664558)\u001b[0m \n",
      "Val Epoch:19: 47it [00:02, 18.63it/s]\u001b[32m [repeated 15x across cluster]\u001b[0m\n"
     ]
    },
    {
     "name": "stdout",
     "output_type": "stream",
     "text": [
      "\u001b[36m(tune_with_parameters pid=2664558)\u001b[0m loss: 0.000\u001b[32m [repeated 8x across cluster]\u001b[0m\n"
     ]
    },
    {
     "name": "stderr",
     "output_type": "stream",
     "text": [
      "Val Epoch:20: 0it [00:00, ?it/s]815408)\u001b[0m \n",
      "Val Epoch:88: 47it [00:02, 16.65it/s]\u001b[32m [repeated 17x across cluster]\u001b[0m\n"
     ]
    },
    {
     "name": "stdout",
     "output_type": "stream",
     "text": [
      "\u001b[36m(tune_with_parameters pid=2664558)\u001b[0m loss: 0.000\u001b[32m [repeated 11x across cluster]\u001b[0m\n",
      "\u001b[36m(tune_with_parameters pid=2815408)\u001b[0m loss: 0.000\u001b[32m [repeated 11x across cluster]\u001b[0m\n"
     ]
    },
    {
     "name": "stderr",
     "output_type": "stream",
     "text": [
      "Val Epoch:89: 0it [00:00, ?it/s]664558)\u001b[0m \n",
      "Val Epoch:20: 47it [00:02, 19.73it/s]\u001b[32m [repeated 15x across cluster]\u001b[0m\n"
     ]
    },
    {
     "name": "stdout",
     "output_type": "stream",
     "text": [
      "\u001b[36m(tune_with_parameters pid=2815408)\u001b[0m loss: 0.000\u001b[32m [repeated 8x across cluster]\u001b[0m\n"
     ]
    },
    {
     "name": "stderr",
     "output_type": "stream",
     "text": [
      "Val Epoch:21: 0it [00:00, ?it/s]815408)\u001b[0m \n",
      "Val Epoch:89: 47it [00:02, 16.06it/s]\u001b[32m [repeated 17x across cluster]\u001b[0m\n"
     ]
    },
    {
     "name": "stdout",
     "output_type": "stream",
     "text": [
      "\u001b[36m(tune_with_parameters pid=2664558)\u001b[0m loss: 0.000\u001b[32m [repeated 12x across cluster]\u001b[0m\n",
      "\u001b[36m(tune_with_parameters pid=2664558)\u001b[0m loss: 0.000\u001b[32m [repeated 10x across cluster]\u001b[0m\n"
     ]
    },
    {
     "name": "stderr",
     "output_type": "stream",
     "text": [
      "Val Epoch:90: 0it [00:00, ?it/s]664558)\u001b[0m \n",
      "Val Epoch:21: 47it [00:02, 21.93it/s]\u001b[32m [repeated 13x across cluster]\u001b[0m\n"
     ]
    },
    {
     "name": "stdout",
     "output_type": "stream",
     "text": [
      "\u001b[36m(tune_with_parameters pid=2664558)\u001b[0m loss: 0.000\u001b[32m [repeated 8x across cluster]\u001b[0m\n"
     ]
    },
    {
     "name": "stderr",
     "output_type": "stream",
     "text": [
      "Val Epoch:22: 0it [00:00, ?it/s]815408)\u001b[0m \n",
      "Val Epoch:90: 47it [00:02, 17.31it/s]\u001b[32m [repeated 16x across cluster]\u001b[0m\n"
     ]
    },
    {
     "name": "stdout",
     "output_type": "stream",
     "text": [
      "\u001b[36m(tune_with_parameters pid=2664558)\u001b[0m loss: 0.000\u001b[32m [repeated 11x across cluster]\u001b[0m\n",
      "\u001b[36m(tune_with_parameters pid=2664558)\u001b[0m loss: 0.000\u001b[32m [repeated 9x across cluster]\u001b[0m\n"
     ]
    },
    {
     "name": "stderr",
     "output_type": "stream",
     "text": [
      "Val Epoch:91: 0it [00:00, ?it/s]664558)\u001b[0m \n",
      "Val Epoch:22: 47it [00:02, 16.54it/s]\u001b[32m [repeated 15x across cluster]\u001b[0m\n"
     ]
    },
    {
     "name": "stdout",
     "output_type": "stream",
     "text": [
      "\u001b[36m(tune_with_parameters pid=2815408)\u001b[0m loss: 0.000\u001b[32m [repeated 9x across cluster]\u001b[0m\n"
     ]
    },
    {
     "name": "stderr",
     "output_type": "stream",
     "text": [
      "Val Epoch:23: 0it [00:00, ?it/s]815408)\u001b[0m \n",
      "Val Epoch:91: 47it [00:02, 16.62it/s]\u001b[32m [repeated 16x across cluster]\u001b[0m\n"
     ]
    },
    {
     "name": "stdout",
     "output_type": "stream",
     "text": [
      "\u001b[36m(tune_with_parameters pid=2664558)\u001b[0m loss: 0.000\u001b[32m [repeated 11x across cluster]\u001b[0m\n",
      "\u001b[36m(tune_with_parameters pid=2664558)\u001b[0m loss: 0.000\u001b[32m [repeated 9x across cluster]\u001b[0m\n"
     ]
    },
    {
     "name": "stderr",
     "output_type": "stream",
     "text": [
      "Val Epoch:92: 0it [00:00, ?it/s]664558)\u001b[0m \n",
      "Val Epoch:23: 47it [00:02, 20.29it/s]\u001b[32m [repeated 14x across cluster]\u001b[0m\n"
     ]
    },
    {
     "name": "stdout",
     "output_type": "stream",
     "text": [
      "\u001b[36m(tune_with_parameters pid=2815408)\u001b[0m loss: 0.000\u001b[32m [repeated 10x across cluster]\u001b[0m\n",
      "\u001b[36m(tune_with_parameters pid=2664558)\u001b[0m loss: 0.000\u001b[32m [repeated 11x across cluster]\u001b[0m\n"
     ]
    },
    {
     "name": "stderr",
     "output_type": "stream",
     "text": [
      "Val Epoch:24: 0it [00:00, ?it/s]815408)\u001b[0m \n",
      "Val Epoch:92: 47it [00:02, 16.84it/s]\u001b[32m [repeated 18x across cluster]\u001b[0m\n"
     ]
    },
    {
     "name": "stdout",
     "output_type": "stream",
     "text": [
      "\u001b[36m(tune_with_parameters pid=2815408)\u001b[0m loss: 0.000\u001b[32m [repeated 8x across cluster]\u001b[0m\n"
     ]
    },
    {
     "name": "stderr",
     "output_type": "stream",
     "text": [
      "Val Epoch:93: 0it [00:00, ?it/s]664558)\u001b[0m \n",
      "Val Epoch:24: 47it [00:03, 15.55it/s]\u001b[32m [repeated 17x across cluster]\u001b[0m\n"
     ]
    },
    {
     "name": "stdout",
     "output_type": "stream",
     "text": [
      "\u001b[36m(tune_with_parameters pid=2815408)\u001b[0m loss: 0.000\u001b[32m [repeated 10x across cluster]\u001b[0m\n",
      "\u001b[36m(tune_with_parameters pid=2815408)\u001b[0m loss: 0.000\u001b[32m [repeated 12x across cluster]\u001b[0m\n"
     ]
    },
    {
     "name": "stderr",
     "output_type": "stream",
     "text": [
      "Val Epoch:25: 0it [00:00, ?it/s]815408)\u001b[0m \n",
      "Val Epoch:93: 47it [00:02, 18.45it/s]\u001b[32m [repeated 16x across cluster]\u001b[0m\n"
     ]
    },
    {
     "name": "stdout",
     "output_type": "stream",
     "text": [
      "\u001b[36m(tune_with_parameters pid=2815408)\u001b[0m loss: 0.000\u001b[32m [repeated 6x across cluster]\u001b[0m\n"
     ]
    },
    {
     "name": "stderr",
     "output_type": "stream",
     "text": [
      "Val Epoch:94: 0it [00:00, ?it/s]664558)\u001b[0m \n",
      "Val Epoch:25: 47it [00:03, 13.54it/s]\u001b[32m [repeated 16x across cluster]\u001b[0m\n"
     ]
    },
    {
     "name": "stdout",
     "output_type": "stream",
     "text": [
      "\u001b[36m(tune_with_parameters pid=2815408)\u001b[0m loss: 0.000\u001b[32m [repeated 11x across cluster]\u001b[0m\n",
      "\u001b[36m(tune_with_parameters pid=2815408)\u001b[0m loss: 0.000\u001b[32m [repeated 7x across cluster]\u001b[0m\n"
     ]
    },
    {
     "name": "stderr",
     "output_type": "stream",
     "text": [
      "Val Epoch:26: 0it [00:00, ?it/s]815408)\u001b[0m \n",
      "Val Epoch:94: 47it [00:02, 17.39it/s]\u001b[32m [repeated 16x across cluster]\u001b[0m\n"
     ]
    },
    {
     "name": "stdout",
     "output_type": "stream",
     "text": [
      "\u001b[36m(tune_with_parameters pid=2815408)\u001b[0m loss: 0.000\u001b[32m [repeated 3x across cluster]\u001b[0m\n",
      "\u001b[36m(tune_with_parameters pid=2815408)\u001b[0m loss: 0.000\u001b[32m [repeated 7x across cluster]\u001b[0m\n"
     ]
    },
    {
     "name": "stderr",
     "output_type": "stream",
     "text": [
      "\u001b[36m(tune_with_parameters pid=2885909)\u001b[0m /users/k23058970/miniforge3/envs/Training/lib/python3.10/site-packages/torch/nn/modules/lazy.py:181: UserWarning: Lazy modules are a new feature under heavy development so changes to the API or functionality can happen at any moment.\n",
      "\u001b[36m(tune_with_parameters pid=2885909)\u001b[0m   warnings.warn('Lazy modules are a new feature under heavy development '\n",
      "Val Epoch:26: 47it [00:02, 18.11it/s]\u001b[32m [repeated 16x across cluster]\u001b[0m\n",
      "Val Epoch:27: 0it [00:00, ?it/s]815408)\u001b[0m \n"
     ]
    },
    {
     "name": "stdout",
     "output_type": "stream",
     "text": [
      "\u001b[36m(tune_with_parameters pid=2815408)\u001b[0m loss: 0.000\u001b[32m [repeated 6x across cluster]\u001b[0m\n",
      "\u001b[36m(tune_with_parameters pid=2885909)\u001b[0m loss: 1.099\u001b[32m [repeated 13x across cluster]\u001b[0m\n",
      "\u001b[36m(tune_with_parameters pid=2815408)\u001b[0m loss: 0.000\u001b[32m [repeated 14x across cluster]\u001b[0m\n"
     ]
    },
    {
     "name": "stderr",
     "output_type": "stream",
     "text": [
      "Val Epoch:27: 47it [00:01, 23.62it/s]\u001b[32m [repeated 14x across cluster]\u001b[0m\n",
      "Val Epoch:0: 0it [00:00, ?it/s]2885909)\u001b[0m \n",
      "Val Epoch:28: 0it [00:00, ?it/s]815408)\u001b[0m \n"
     ]
    },
    {
     "name": "stdout",
     "output_type": "stream",
     "text": [
      "\u001b[36m(tune_with_parameters pid=2885909)\u001b[0m /tmp/tmp9lx9uzpq/checkpoint.pt\n"
     ]
    },
    {
     "name": "stderr",
     "output_type": "stream",
     "text": [
      "\u001b[36m(tune_with_parameters pid=2885909)\u001b[0m Checkpoint successfully created at: Checkpoint(filesystem=local, path=/scratch/users/k23058970/Model training/results/Complex Peak LRCN Null/tune_with_parameters_2024-08-19_22-54-03/tune_with_parameters_a4509_00005_5_dp=0.2500,k1=5,k2=1,k3=1,k4=5,lr=0.0027_2024-08-19_22-54-43/checkpoint_000000)\n"
     ]
    },
    {
     "name": "stdout",
     "output_type": "stream",
     "text": [
      "\u001b[36m(tune_with_parameters pid=2885909)\u001b[0m loss: 1.096\u001b[32m [repeated 5x across cluster]\u001b[0m\n",
      "\u001b[36m(tune_with_parameters pid=2885909)\u001b[0m loss: 1.095\u001b[32m [repeated 16x across cluster]\u001b[0m\n"
     ]
    },
    {
     "name": "stderr",
     "output_type": "stream",
     "text": [
      "Val Epoch:28: 47it [00:03, 15.27it/s]\u001b[32m [repeated 27x across cluster]\u001b[0m\n",
      "Val Epoch:1: 0it [00:00, ?it/s]2885909)\u001b[0m \n"
     ]
    },
    {
     "name": "stdout",
     "output_type": "stream",
     "text": [
      "\u001b[36m(tune_with_parameters pid=2885909)\u001b[0m /tmp/tmp97i9e8o2/checkpoint.pt\n"
     ]
    },
    {
     "name": "stderr",
     "output_type": "stream",
     "text": [
      "\u001b[36m(tune_with_parameters pid=2885909)\u001b[0m Checkpoint successfully created at: Checkpoint(filesystem=local, path=/scratch/users/k23058970/Model training/results/Complex Peak LRCN Null/tune_with_parameters_2024-08-19_22-54-03/tune_with_parameters_a4509_00005_5_dp=0.2500,k1=5,k2=1,k3=1,k4=5,lr=0.0027_2024-08-19_22-54-43/checkpoint_000001)\n"
     ]
    },
    {
     "name": "stdout",
     "output_type": "stream",
     "text": [
      "\u001b[36m(tune_with_parameters pid=2815408)\u001b[0m loss: 0.000\u001b[32m [repeated 9x across cluster]\u001b[0m\n"
     ]
    },
    {
     "name": "stderr",
     "output_type": "stream",
     "text": [
      "Val Epoch:29: 0it [00:00, ?it/s]815408)\u001b[0m \n",
      "Val Epoch:1: 47it [00:01, 23.97it/s]\u001b[32m [repeated 14x across cluster]\u001b[0m\n"
     ]
    },
    {
     "name": "stdout",
     "output_type": "stream",
     "text": [
      "\u001b[36m(tune_with_parameters pid=2885909)\u001b[0m loss: 1.090\u001b[32m [repeated 12x across cluster]\u001b[0m\n"
     ]
    },
    {
     "name": "stderr",
     "output_type": "stream",
     "text": [
      "Val Epoch:2: 0it [00:00, ?it/s]2885909)\u001b[0m \n",
      "Val Epoch:29: 47it [00:02, 23.25it/s]\u001b[32m [repeated 16x across cluster]\u001b[0m\n"
     ]
    },
    {
     "name": "stdout",
     "output_type": "stream",
     "text": [
      "\u001b[36m(tune_with_parameters pid=2815408)\u001b[0m loss: 0.000\u001b[32m [repeated 12x across cluster]\u001b[0m\n"
     ]
    }
   ],
   "source": [
    "DATASET_DIR = \"/scratch/users/k23058970/Model training/Null Dataset/Complex Peak\"\n",
    "main(dataset_dir=DATASET_DIR,dset_name = \"Complex Peak LRCN Null\")"
   ]
  },
  {
   "cell_type": "code",
   "execution_count": null,
   "id": "4335c910-9f28-4a55-a7f4-b336f589199d",
   "metadata": {},
   "outputs": [],
   "source": [
    " "
   ]
  }
 ],
 "metadata": {
  "kernelspec": {
   "display_name": "Training",
   "language": "python",
   "name": "training"
  },
  "language_info": {
   "codemirror_mode": {
    "name": "ipython",
    "version": 3
   },
   "file_extension": ".py",
   "mimetype": "text/x-python",
   "name": "python",
   "nbconvert_exporter": "python",
   "pygments_lexer": "ipython3",
   "version": "3.10.14"
  }
 },
 "nbformat": 4,
 "nbformat_minor": 5
}
