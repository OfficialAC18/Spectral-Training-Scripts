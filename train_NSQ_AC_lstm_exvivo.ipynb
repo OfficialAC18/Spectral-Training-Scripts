{
 "cells": [
  {
   "cell_type": "code",
   "execution_count": 1,
   "id": "5d115776-afdf-4da6-9552-79b0bae74001",
   "metadata": {},
   "outputs": [],
   "source": [
    "#Call Main and let it run\n",
    "from training_two_class_exvivo_lstm import main"
   ]
  },
  {
   "cell_type": "code",
   "execution_count": 2,
   "id": "b9b5ace6-a806-4353-948a-8112482fd7ce",
   "metadata": {},
   "outputs": [
    {
     "data": {
      "text/html": [
       "<div class=\"tuneStatus\">\n",
       "  <div style=\"display: flex;flex-direction: row\">\n",
       "    <div style=\"display: flex;flex-direction: column;\">\n",
       "      <h3>Tune Status</h3>\n",
       "      <table>\n",
       "<tbody>\n",
       "<tr><td>Current time:</td><td>2024-07-30 18:13:53</td></tr>\n",
       "<tr><td>Running for: </td><td>04:39:30.45        </td></tr>\n",
       "<tr><td>Memory:      </td><td>71.6/1007.5 GiB    </td></tr>\n",
       "</tbody>\n",
       "</table>\n",
       "    </div>\n",
       "    <div class=\"vDivider\"></div>\n",
       "    <div class=\"systemInfo\">\n",
       "      <h3>System Info</h3>\n",
       "      Using AsyncHyperBand: num_stopped=11<br>Bracket: Iter 960.000: None | Iter 480.000: None | Iter 240.000: None | Iter 120.000: None | Iter 60.000: -0.7425036418437958 | Iter 30.000: -0.7390136915445328 | Iter 15.000: -0.7372660911083222<br>Logical resource usage: 96.0/96 CPUs, 0.8/1 GPUs (0.0/1.0 accelerator_type:A30)\n",
       "    </div>\n",
       "    \n",
       "  </div>\n",
       "  <div class=\"hDivider\"></div>\n",
       "  <div class=\"trialStatus\">\n",
       "    <h3>Trial Status</h3>\n",
       "    <table>\n",
       "<thead>\n",
       "<tr><th>Trial name                      </th><th>status    </th><th>loc               </th><th style=\"text-align: right;\">  dp</th><th style=\"text-align: right;\">  hidden_size</th><th style=\"text-align: right;\">        lr</th><th style=\"text-align: right;\">  num_layers</th><th style=\"text-align: right;\">  iter</th><th style=\"text-align: right;\">  total time (s)</th><th style=\"text-align: right;\">    loss</th><th style=\"text-align: right;\">  accuracy</th><th style=\"text-align: right;\">      f1</th></tr>\n",
       "</thead>\n",
       "<tbody>\n",
       "<tr><td>tune_with_parameters_0ca84_00002</td><td>RUNNING   </td><td>10.211.4.4:2663640</td><td style=\"text-align: right;\">0.25</td><td style=\"text-align: right;\">          500</td><td style=\"text-align: right;\">0.00744005</td><td style=\"text-align: right;\">           2</td><td style=\"text-align: right;\">    84</td><td style=\"text-align: right;\">        16602.1 </td><td style=\"text-align: right;\">0.73847 </td><td style=\"text-align: right;\">  0.571581</td><td style=\"text-align: right;\">0.415765</td></tr>\n",
       "<tr><td>tune_with_parameters_0ca84_00011</td><td>RUNNING   </td><td>10.211.4.4:3099986</td><td style=\"text-align: right;\">0.2 </td><td style=\"text-align: right;\">          400</td><td style=\"text-align: right;\">0.00362843</td><td style=\"text-align: right;\">           2</td><td style=\"text-align: right;\">    24</td><td style=\"text-align: right;\">         5047.45</td><td style=\"text-align: right;\">0.755952</td><td style=\"text-align: right;\">  0.570793</td><td style=\"text-align: right;\">0.41667 </td></tr>\n",
       "<tr><td>tune_with_parameters_0ca84_00013</td><td>RUNNING   </td><td>10.211.4.4:3189460</td><td style=\"text-align: right;\">0.25</td><td style=\"text-align: right;\">          300</td><td style=\"text-align: right;\">0.0161527 </td><td style=\"text-align: right;\">           1</td><td style=\"text-align: right;\">    11</td><td style=\"text-align: right;\">         2480.34</td><td style=\"text-align: right;\">0.734258</td><td style=\"text-align: right;\">  0.571581</td><td style=\"text-align: right;\">0.415765</td></tr>\n",
       "<tr><td>tune_with_parameters_0ca84_00014</td><td>RUNNING   </td><td>10.211.4.4:3220521</td><td style=\"text-align: right;\">0.25</td><td style=\"text-align: right;\">          400</td><td style=\"text-align: right;\">0.0905367 </td><td style=\"text-align: right;\">           2</td><td style=\"text-align: right;\">     6</td><td style=\"text-align: right;\">         1354.83</td><td style=\"text-align: right;\">0.737963</td><td style=\"text-align: right;\">  0.571581</td><td style=\"text-align: right;\">0.415765</td></tr>\n",
       "<tr><td>tune_with_parameters_0ca84_00015</td><td>PENDING   </td><td>                  </td><td style=\"text-align: right;\">0.1 </td><td style=\"text-align: right;\">          200</td><td style=\"text-align: right;\">0.00411206</td><td style=\"text-align: right;\">           1</td><td style=\"text-align: right;\">      </td><td style=\"text-align: right;\">                </td><td style=\"text-align: right;\">        </td><td style=\"text-align: right;\">          </td><td style=\"text-align: right;\">        </td></tr>\n",
       "<tr><td>tune_with_parameters_0ca84_00016</td><td>PENDING   </td><td>                  </td><td style=\"text-align: right;\">0.25</td><td style=\"text-align: right;\">          500</td><td style=\"text-align: right;\">0.0151907 </td><td style=\"text-align: right;\">           5</td><td style=\"text-align: right;\">      </td><td style=\"text-align: right;\">                </td><td style=\"text-align: right;\">        </td><td style=\"text-align: right;\">          </td><td style=\"text-align: right;\">        </td></tr>\n",
       "<tr><td>tune_with_parameters_0ca84_00017</td><td>PENDING   </td><td>                  </td><td style=\"text-align: right;\">0.5 </td><td style=\"text-align: right;\">          100</td><td style=\"text-align: right;\">0.0197032 </td><td style=\"text-align: right;\">           2</td><td style=\"text-align: right;\">      </td><td style=\"text-align: right;\">                </td><td style=\"text-align: right;\">        </td><td style=\"text-align: right;\">          </td><td style=\"text-align: right;\">        </td></tr>\n",
       "<tr><td>tune_with_parameters_0ca84_00018</td><td>PENDING   </td><td>                  </td><td style=\"text-align: right;\">0.1 </td><td style=\"text-align: right;\">          400</td><td style=\"text-align: right;\">0.0219639 </td><td style=\"text-align: right;\">           4</td><td style=\"text-align: right;\">      </td><td style=\"text-align: right;\">                </td><td style=\"text-align: right;\">        </td><td style=\"text-align: right;\">          </td><td style=\"text-align: right;\">        </td></tr>\n",
       "<tr><td>tune_with_parameters_0ca84_00019</td><td>PENDING   </td><td>                  </td><td style=\"text-align: right;\">0.2 </td><td style=\"text-align: right;\">          200</td><td style=\"text-align: right;\">0.0346776 </td><td style=\"text-align: right;\">           4</td><td style=\"text-align: right;\">      </td><td style=\"text-align: right;\">                </td><td style=\"text-align: right;\">        </td><td style=\"text-align: right;\">          </td><td style=\"text-align: right;\">        </td></tr>\n",
       "<tr><td>tune_with_parameters_0ca84_00020</td><td>PENDING   </td><td>                  </td><td style=\"text-align: right;\">0.25</td><td style=\"text-align: right;\">          300</td><td style=\"text-align: right;\">0.0339974 </td><td style=\"text-align: right;\">           5</td><td style=\"text-align: right;\">      </td><td style=\"text-align: right;\">                </td><td style=\"text-align: right;\">        </td><td style=\"text-align: right;\">          </td><td style=\"text-align: right;\">        </td></tr>\n",
       "<tr><td>tune_with_parameters_0ca84_00021</td><td>PENDING   </td><td>                  </td><td style=\"text-align: right;\">0.25</td><td style=\"text-align: right;\">          500</td><td style=\"text-align: right;\">0.0412001 </td><td style=\"text-align: right;\">           1</td><td style=\"text-align: right;\">      </td><td style=\"text-align: right;\">                </td><td style=\"text-align: right;\">        </td><td style=\"text-align: right;\">          </td><td style=\"text-align: right;\">        </td></tr>\n",
       "<tr><td>tune_with_parameters_0ca84_00022</td><td>PENDING   </td><td>                  </td><td style=\"text-align: right;\">0.5 </td><td style=\"text-align: right;\">          500</td><td style=\"text-align: right;\">0.0282691 </td><td style=\"text-align: right;\">           4</td><td style=\"text-align: right;\">      </td><td style=\"text-align: right;\">                </td><td style=\"text-align: right;\">        </td><td style=\"text-align: right;\">          </td><td style=\"text-align: right;\">        </td></tr>\n",
       "<tr><td>tune_with_parameters_0ca84_00023</td><td>PENDING   </td><td>                  </td><td style=\"text-align: right;\">0.1 </td><td style=\"text-align: right;\">          300</td><td style=\"text-align: right;\">0.00168291</td><td style=\"text-align: right;\">           2</td><td style=\"text-align: right;\">      </td><td style=\"text-align: right;\">                </td><td style=\"text-align: right;\">        </td><td style=\"text-align: right;\">          </td><td style=\"text-align: right;\">        </td></tr>\n",
       "<tr><td>tune_with_parameters_0ca84_00024</td><td>PENDING   </td><td>                  </td><td style=\"text-align: right;\">0.5 </td><td style=\"text-align: right;\">          200</td><td style=\"text-align: right;\">0.0828814 </td><td style=\"text-align: right;\">           4</td><td style=\"text-align: right;\">      </td><td style=\"text-align: right;\">                </td><td style=\"text-align: right;\">        </td><td style=\"text-align: right;\">          </td><td style=\"text-align: right;\">        </td></tr>\n",
       "<tr><td>tune_with_parameters_0ca84_00025</td><td>PENDING   </td><td>                  </td><td style=\"text-align: right;\">0.2 </td><td style=\"text-align: right;\">          300</td><td style=\"text-align: right;\">0.0198177 </td><td style=\"text-align: right;\">           5</td><td style=\"text-align: right;\">      </td><td style=\"text-align: right;\">                </td><td style=\"text-align: right;\">        </td><td style=\"text-align: right;\">          </td><td style=\"text-align: right;\">        </td></tr>\n",
       "<tr><td>tune_with_parameters_0ca84_00026</td><td>PENDING   </td><td>                  </td><td style=\"text-align: right;\">0.2 </td><td style=\"text-align: right;\">          500</td><td style=\"text-align: right;\">0.00961784</td><td style=\"text-align: right;\">           4</td><td style=\"text-align: right;\">      </td><td style=\"text-align: right;\">                </td><td style=\"text-align: right;\">        </td><td style=\"text-align: right;\">          </td><td style=\"text-align: right;\">        </td></tr>\n",
       "<tr><td>tune_with_parameters_0ca84_00027</td><td>PENDING   </td><td>                  </td><td style=\"text-align: right;\">0.25</td><td style=\"text-align: right;\">          100</td><td style=\"text-align: right;\">0.0838125 </td><td style=\"text-align: right;\">           4</td><td style=\"text-align: right;\">      </td><td style=\"text-align: right;\">                </td><td style=\"text-align: right;\">        </td><td style=\"text-align: right;\">          </td><td style=\"text-align: right;\">        </td></tr>\n",
       "<tr><td>tune_with_parameters_0ca84_00028</td><td>PENDING   </td><td>                  </td><td style=\"text-align: right;\">0.2 </td><td style=\"text-align: right;\">          200</td><td style=\"text-align: right;\">0.0633437 </td><td style=\"text-align: right;\">           2</td><td style=\"text-align: right;\">      </td><td style=\"text-align: right;\">                </td><td style=\"text-align: right;\">        </td><td style=\"text-align: right;\">          </td><td style=\"text-align: right;\">        </td></tr>\n",
       "<tr><td>tune_with_parameters_0ca84_00029</td><td>PENDING   </td><td>                  </td><td style=\"text-align: right;\">0.1 </td><td style=\"text-align: right;\">          100</td><td style=\"text-align: right;\">0.00603275</td><td style=\"text-align: right;\">           1</td><td style=\"text-align: right;\">      </td><td style=\"text-align: right;\">                </td><td style=\"text-align: right;\">        </td><td style=\"text-align: right;\">          </td><td style=\"text-align: right;\">        </td></tr>\n",
       "<tr><td>tune_with_parameters_0ca84_00030</td><td>PENDING   </td><td>                  </td><td style=\"text-align: right;\">0.2 </td><td style=\"text-align: right;\">          300</td><td style=\"text-align: right;\">0.0132169 </td><td style=\"text-align: right;\">           4</td><td style=\"text-align: right;\">      </td><td style=\"text-align: right;\">                </td><td style=\"text-align: right;\">        </td><td style=\"text-align: right;\">          </td><td style=\"text-align: right;\">        </td></tr>\n",
       "<tr><td>tune_with_parameters_0ca84_00031</td><td>PENDING   </td><td>                  </td><td style=\"text-align: right;\">0.25</td><td style=\"text-align: right;\">          300</td><td style=\"text-align: right;\">0.00102491</td><td style=\"text-align: right;\">           4</td><td style=\"text-align: right;\">      </td><td style=\"text-align: right;\">                </td><td style=\"text-align: right;\">        </td><td style=\"text-align: right;\">          </td><td style=\"text-align: right;\">        </td></tr>\n",
       "<tr><td>tune_with_parameters_0ca84_00032</td><td>PENDING   </td><td>                  </td><td style=\"text-align: right;\">0.2 </td><td style=\"text-align: right;\">          200</td><td style=\"text-align: right;\">0.0520178 </td><td style=\"text-align: right;\">           5</td><td style=\"text-align: right;\">      </td><td style=\"text-align: right;\">                </td><td style=\"text-align: right;\">        </td><td style=\"text-align: right;\">          </td><td style=\"text-align: right;\">        </td></tr>\n",
       "<tr><td>tune_with_parameters_0ca84_00033</td><td>PENDING   </td><td>                  </td><td style=\"text-align: right;\">0.5 </td><td style=\"text-align: right;\">          300</td><td style=\"text-align: right;\">0.0199431 </td><td style=\"text-align: right;\">           2</td><td style=\"text-align: right;\">      </td><td style=\"text-align: right;\">                </td><td style=\"text-align: right;\">        </td><td style=\"text-align: right;\">          </td><td style=\"text-align: right;\">        </td></tr>\n",
       "<tr><td>tune_with_parameters_0ca84_00034</td><td>PENDING   </td><td>                  </td><td style=\"text-align: right;\">0.25</td><td style=\"text-align: right;\">          100</td><td style=\"text-align: right;\">0.00388251</td><td style=\"text-align: right;\">           3</td><td style=\"text-align: right;\">      </td><td style=\"text-align: right;\">                </td><td style=\"text-align: right;\">        </td><td style=\"text-align: right;\">          </td><td style=\"text-align: right;\">        </td></tr>\n",
       "<tr><td>tune_with_parameters_0ca84_00035</td><td>PENDING   </td><td>                  </td><td style=\"text-align: right;\">0.25</td><td style=\"text-align: right;\">          200</td><td style=\"text-align: right;\">0.0102658 </td><td style=\"text-align: right;\">           1</td><td style=\"text-align: right;\">      </td><td style=\"text-align: right;\">                </td><td style=\"text-align: right;\">        </td><td style=\"text-align: right;\">          </td><td style=\"text-align: right;\">        </td></tr>\n",
       "<tr><td>tune_with_parameters_0ca84_00036</td><td>PENDING   </td><td>                  </td><td style=\"text-align: right;\">0.25</td><td style=\"text-align: right;\">          200</td><td style=\"text-align: right;\">0.0473937 </td><td style=\"text-align: right;\">           1</td><td style=\"text-align: right;\">      </td><td style=\"text-align: right;\">                </td><td style=\"text-align: right;\">        </td><td style=\"text-align: right;\">          </td><td style=\"text-align: right;\">        </td></tr>\n",
       "<tr><td>tune_with_parameters_0ca84_00037</td><td>PENDING   </td><td>                  </td><td style=\"text-align: right;\">0.2 </td><td style=\"text-align: right;\">          300</td><td style=\"text-align: right;\">0.0327641 </td><td style=\"text-align: right;\">           5</td><td style=\"text-align: right;\">      </td><td style=\"text-align: right;\">                </td><td style=\"text-align: right;\">        </td><td style=\"text-align: right;\">          </td><td style=\"text-align: right;\">        </td></tr>\n",
       "<tr><td>tune_with_parameters_0ca84_00038</td><td>PENDING   </td><td>                  </td><td style=\"text-align: right;\">0.1 </td><td style=\"text-align: right;\">          500</td><td style=\"text-align: right;\">0.00798215</td><td style=\"text-align: right;\">           2</td><td style=\"text-align: right;\">      </td><td style=\"text-align: right;\">                </td><td style=\"text-align: right;\">        </td><td style=\"text-align: right;\">          </td><td style=\"text-align: right;\">        </td></tr>\n",
       "<tr><td>tune_with_parameters_0ca84_00039</td><td>PENDING   </td><td>                  </td><td style=\"text-align: right;\">0.2 </td><td style=\"text-align: right;\">          200</td><td style=\"text-align: right;\">0.0506152 </td><td style=\"text-align: right;\">           5</td><td style=\"text-align: right;\">      </td><td style=\"text-align: right;\">                </td><td style=\"text-align: right;\">        </td><td style=\"text-align: right;\">          </td><td style=\"text-align: right;\">        </td></tr>\n",
       "<tr><td>tune_with_parameters_0ca84_00040</td><td>PENDING   </td><td>                  </td><td style=\"text-align: right;\">0.25</td><td style=\"text-align: right;\">          200</td><td style=\"text-align: right;\">0.0056743 </td><td style=\"text-align: right;\">           3</td><td style=\"text-align: right;\">      </td><td style=\"text-align: right;\">                </td><td style=\"text-align: right;\">        </td><td style=\"text-align: right;\">          </td><td style=\"text-align: right;\">        </td></tr>\n",
       "<tr><td>tune_with_parameters_0ca84_00041</td><td>PENDING   </td><td>                  </td><td style=\"text-align: right;\">0.5 </td><td style=\"text-align: right;\">          200</td><td style=\"text-align: right;\">0.00373368</td><td style=\"text-align: right;\">           5</td><td style=\"text-align: right;\">      </td><td style=\"text-align: right;\">                </td><td style=\"text-align: right;\">        </td><td style=\"text-align: right;\">          </td><td style=\"text-align: right;\">        </td></tr>\n",
       "<tr><td>tune_with_parameters_0ca84_00042</td><td>PENDING   </td><td>                  </td><td style=\"text-align: right;\">0.25</td><td style=\"text-align: right;\">          400</td><td style=\"text-align: right;\">0.00251647</td><td style=\"text-align: right;\">           1</td><td style=\"text-align: right;\">      </td><td style=\"text-align: right;\">                </td><td style=\"text-align: right;\">        </td><td style=\"text-align: right;\">          </td><td style=\"text-align: right;\">        </td></tr>\n",
       "<tr><td>tune_with_parameters_0ca84_00043</td><td>PENDING   </td><td>                  </td><td style=\"text-align: right;\">0.2 </td><td style=\"text-align: right;\">          300</td><td style=\"text-align: right;\">0.00161158</td><td style=\"text-align: right;\">           3</td><td style=\"text-align: right;\">      </td><td style=\"text-align: right;\">                </td><td style=\"text-align: right;\">        </td><td style=\"text-align: right;\">          </td><td style=\"text-align: right;\">        </td></tr>\n",
       "<tr><td>tune_with_parameters_0ca84_00044</td><td>PENDING   </td><td>                  </td><td style=\"text-align: right;\">0.2 </td><td style=\"text-align: right;\">          400</td><td style=\"text-align: right;\">0.00323467</td><td style=\"text-align: right;\">           5</td><td style=\"text-align: right;\">      </td><td style=\"text-align: right;\">                </td><td style=\"text-align: right;\">        </td><td style=\"text-align: right;\">          </td><td style=\"text-align: right;\">        </td></tr>\n",
       "<tr><td>tune_with_parameters_0ca84_00045</td><td>PENDING   </td><td>                  </td><td style=\"text-align: right;\">0.5 </td><td style=\"text-align: right;\">          200</td><td style=\"text-align: right;\">0.096611  </td><td style=\"text-align: right;\">           5</td><td style=\"text-align: right;\">      </td><td style=\"text-align: right;\">                </td><td style=\"text-align: right;\">        </td><td style=\"text-align: right;\">          </td><td style=\"text-align: right;\">        </td></tr>\n",
       "<tr><td>tune_with_parameters_0ca84_00046</td><td>PENDING   </td><td>                  </td><td style=\"text-align: right;\">0.2 </td><td style=\"text-align: right;\">          400</td><td style=\"text-align: right;\">0.00875239</td><td style=\"text-align: right;\">           5</td><td style=\"text-align: right;\">      </td><td style=\"text-align: right;\">                </td><td style=\"text-align: right;\">        </td><td style=\"text-align: right;\">          </td><td style=\"text-align: right;\">        </td></tr>\n",
       "<tr><td>tune_with_parameters_0ca84_00047</td><td>PENDING   </td><td>                  </td><td style=\"text-align: right;\">0.2 </td><td style=\"text-align: right;\">          100</td><td style=\"text-align: right;\">0.0410975 </td><td style=\"text-align: right;\">           3</td><td style=\"text-align: right;\">      </td><td style=\"text-align: right;\">                </td><td style=\"text-align: right;\">        </td><td style=\"text-align: right;\">          </td><td style=\"text-align: right;\">        </td></tr>\n",
       "<tr><td>tune_with_parameters_0ca84_00048</td><td>PENDING   </td><td>                  </td><td style=\"text-align: right;\">0.1 </td><td style=\"text-align: right;\">          300</td><td style=\"text-align: right;\">0.00574378</td><td style=\"text-align: right;\">           2</td><td style=\"text-align: right;\">      </td><td style=\"text-align: right;\">                </td><td style=\"text-align: right;\">        </td><td style=\"text-align: right;\">          </td><td style=\"text-align: right;\">        </td></tr>\n",
       "<tr><td>tune_with_parameters_0ca84_00049</td><td>PENDING   </td><td>                  </td><td style=\"text-align: right;\">0.25</td><td style=\"text-align: right;\">          300</td><td style=\"text-align: right;\">0.0271576 </td><td style=\"text-align: right;\">           1</td><td style=\"text-align: right;\">      </td><td style=\"text-align: right;\">                </td><td style=\"text-align: right;\">        </td><td style=\"text-align: right;\">          </td><td style=\"text-align: right;\">        </td></tr>\n",
       "<tr><td>tune_with_parameters_0ca84_00000</td><td>TERMINATED</td><td>10.211.4.4:2663638</td><td style=\"text-align: right;\">0.5 </td><td style=\"text-align: right;\">          500</td><td style=\"text-align: right;\">0.0126756 </td><td style=\"text-align: right;\">           4</td><td style=\"text-align: right;\">    15</td><td style=\"text-align: right;\">         2704.73</td><td style=\"text-align: right;\">0.738822</td><td style=\"text-align: right;\">  0.571581</td><td style=\"text-align: right;\">0.415765</td></tr>\n",
       "<tr><td>tune_with_parameters_0ca84_00001</td><td>TERMINATED</td><td>10.211.4.4:2663639</td><td style=\"text-align: right;\">0.2 </td><td style=\"text-align: right;\">          100</td><td style=\"text-align: right;\">0.00243559</td><td style=\"text-align: right;\">           5</td><td style=\"text-align: right;\">    15</td><td style=\"text-align: right;\">         2736.24</td><td style=\"text-align: right;\">0.736384</td><td style=\"text-align: right;\">  0.571581</td><td style=\"text-align: right;\">0.415765</td></tr>\n",
       "<tr><td>tune_with_parameters_0ca84_00003</td><td>TERMINATED</td><td>10.211.4.4:2663641</td><td style=\"text-align: right;\">0.25</td><td style=\"text-align: right;\">          300</td><td style=\"text-align: right;\">0.0012373 </td><td style=\"text-align: right;\">           3</td><td style=\"text-align: right;\">    30</td><td style=\"text-align: right;\">         5532.95</td><td style=\"text-align: right;\">0.737131</td><td style=\"text-align: right;\">  0.571581</td><td style=\"text-align: right;\">0.415765</td></tr>\n",
       "<tr><td>tune_with_parameters_0ca84_00004</td><td>TERMINATED</td><td>10.211.4.4:2770411</td><td style=\"text-align: right;\">0.1 </td><td style=\"text-align: right;\">          300</td><td style=\"text-align: right;\">0.0185804 </td><td style=\"text-align: right;\">           1</td><td style=\"text-align: right;\">    15</td><td style=\"text-align: right;\">         2814.93</td><td style=\"text-align: right;\">0.737861</td><td style=\"text-align: right;\">  0.571581</td><td style=\"text-align: right;\">0.415765</td></tr>\n",
       "<tr><td>tune_with_parameters_0ca84_00005</td><td>TERMINATED</td><td>10.211.4.4:2771257</td><td style=\"text-align: right;\">0.1 </td><td style=\"text-align: right;\">          400</td><td style=\"text-align: right;\">0.0572499 </td><td style=\"text-align: right;\">           4</td><td style=\"text-align: right;\">    15</td><td style=\"text-align: right;\">         2820.31</td><td style=\"text-align: right;\">0.745274</td><td style=\"text-align: right;\">  0.571581</td><td style=\"text-align: right;\">0.415765</td></tr>\n",
       "<tr><td>tune_with_parameters_0ca84_00006</td><td>TERMINATED</td><td>10.211.4.4:2878214</td><td style=\"text-align: right;\">0.2 </td><td style=\"text-align: right;\">          400</td><td style=\"text-align: right;\">0.0858813 </td><td style=\"text-align: right;\">           1</td><td style=\"text-align: right;\">    30</td><td style=\"text-align: right;\">         5975.15</td><td style=\"text-align: right;\">0.754217</td><td style=\"text-align: right;\">  0.571581</td><td style=\"text-align: right;\">0.415765</td></tr>\n",
       "<tr><td>tune_with_parameters_0ca84_00007</td><td>TERMINATED</td><td>10.211.4.4:2878938</td><td style=\"text-align: right;\">0.1 </td><td style=\"text-align: right;\">          500</td><td style=\"text-align: right;\">0.0209949 </td><td style=\"text-align: right;\">           1</td><td style=\"text-align: right;\">    15</td><td style=\"text-align: right;\">         2968.6 </td><td style=\"text-align: right;\">0.738229</td><td style=\"text-align: right;\">  0.571581</td><td style=\"text-align: right;\">0.415765</td></tr>\n",
       "<tr><td>tune_with_parameters_0ca84_00008</td><td>TERMINATED</td><td>10.211.4.4:2880171</td><td style=\"text-align: right;\">0.5 </td><td style=\"text-align: right;\">          300</td><td style=\"text-align: right;\">0.0026417 </td><td style=\"text-align: right;\">           3</td><td style=\"text-align: right;\">    15</td><td style=\"text-align: right;\">         2944.28</td><td style=\"text-align: right;\">0.737836</td><td style=\"text-align: right;\">  0.571581</td><td style=\"text-align: right;\">0.415765</td></tr>\n",
       "<tr><td>tune_with_parameters_0ca84_00009</td><td>TERMINATED</td><td>10.211.4.4:2992472</td><td style=\"text-align: right;\">0.5 </td><td style=\"text-align: right;\">          300</td><td style=\"text-align: right;\">0.00533745</td><td style=\"text-align: right;\">           3</td><td style=\"text-align: right;\">    30</td><td style=\"text-align: right;\">         5456.37</td><td style=\"text-align: right;\">0.740897</td><td style=\"text-align: right;\">  0.570753</td><td style=\"text-align: right;\">0.417912</td></tr>\n",
       "<tr><td>tune_with_parameters_0ca84_00010</td><td>TERMINATED</td><td>10.211.4.4:2992529</td><td style=\"text-align: right;\">0.2 </td><td style=\"text-align: right;\">          100</td><td style=\"text-align: right;\">0.0848233 </td><td style=\"text-align: right;\">           5</td><td style=\"text-align: right;\">    15</td><td style=\"text-align: right;\">         3054.97</td><td style=\"text-align: right;\">0.737266</td><td style=\"text-align: right;\">  0.571581</td><td style=\"text-align: right;\">0.415765</td></tr>\n",
       "<tr><td>tune_with_parameters_0ca84_00012</td><td>TERMINATED</td><td>10.211.4.4:3105646</td><td style=\"text-align: right;\">0.5 </td><td style=\"text-align: right;\">          300</td><td style=\"text-align: right;\">0.00220916</td><td style=\"text-align: right;\">           3</td><td style=\"text-align: right;\">    15</td><td style=\"text-align: right;\">         3231.26</td><td style=\"text-align: right;\">0.73872 </td><td style=\"text-align: right;\">  0.571581</td><td style=\"text-align: right;\">0.415765</td></tr>\n",
       "</tbody>\n",
       "</table>\n",
       "  </div>\n",
       "</div>\n",
       "<style>\n",
       ".tuneStatus {\n",
       "  color: var(--jp-ui-font-color1);\n",
       "}\n",
       ".tuneStatus .systemInfo {\n",
       "  display: flex;\n",
       "  flex-direction: column;\n",
       "}\n",
       ".tuneStatus td {\n",
       "  white-space: nowrap;\n",
       "}\n",
       ".tuneStatus .trialStatus {\n",
       "  display: flex;\n",
       "  flex-direction: column;\n",
       "}\n",
       ".tuneStatus h3 {\n",
       "  font-weight: bold;\n",
       "}\n",
       ".tuneStatus .hDivider {\n",
       "  border-bottom-width: var(--jp-border-width);\n",
       "  border-bottom-color: var(--jp-border-color0);\n",
       "  border-bottom-style: solid;\n",
       "}\n",
       ".tuneStatus .vDivider {\n",
       "  border-left-width: var(--jp-border-width);\n",
       "  border-left-color: var(--jp-border-color0);\n",
       "  border-left-style: solid;\n",
       "  margin: 0.5em 1em 0.5em 1em;\n",
       "}\n",
       "</style>\n"
      ],
      "text/plain": [
       "<IPython.core.display.HTML object>"
      ]
     },
     "metadata": {},
     "output_type": "display_data"
    },
    {
     "name": "stderr",
     "output_type": "stream",
     "text": [
      "\u001b[36m(tune_with_parameters pid=2663640)\u001b[0m /users/k23058970/miniforge3/envs/Training/lib/python3.10/site-packages/torch/utils/data/dataloader.py:558: UserWarning: This DataLoader will create 8 worker processes in total. Our suggested max number of worker in current system is 2, which is smaller than what this DataLoader is going to create. Please be aware that excessive worker creation might get DataLoader running slow or even freeze, lower the worker number to avoid potential slowness/freeze if necessary.\n",
      "\u001b[36m(tune_with_parameters pid=2663640)\u001b[0m   warnings.warn(_create_warning_msg(\n",
      "\u001b[36m(tune_with_parameters pid=2663639)\u001b[0m /users/k23058970/miniforge3/envs/Training/lib/python3.10/site-packages/torch/utils/data/dataloader.py:558: UserWarning: This DataLoader will create 8 worker processes in total. Our suggested max number of worker in current system is 2, which is smaller than what this DataLoader is going to create. Please be aware that excessive worker creation might get DataLoader running slow or even freeze, lower the worker number to avoid potential slowness/freeze if necessary.\u001b[32m [repeated 3x across cluster] (Ray deduplicates logs by default. Set RAY_DEDUP_LOGS=0 to disable log deduplication, or see https://docs.ray.io/en/master/ray-observability/user-guides/configure-logging.html#log-deduplication for more options.)\u001b[0m\n",
      "\u001b[36m(tune_with_parameters pid=2663639)\u001b[0m   warnings.warn(_create_warning_msg(\u001b[32m [repeated 3x across cluster]\u001b[0m\n",
      "\u001b[36m(tune_with_parameters pid=2663640)\u001b[0m /users/k23058970/miniforge3/envs/Training/lib/python3.10/site-packages/torch/nn/modules/lazy.py:181: UserWarning: Lazy modules are a new feature under heavy development so changes to the API or functionality can happen at any moment.\n",
      "\u001b[36m(tune_with_parameters pid=2663640)\u001b[0m   warnings.warn('Lazy modules are a new feature under heavy development '\n",
      "\u001b[36m(tune_with_parameters pid=2663638)\u001b[0m /users/k23058970/miniforge3/envs/Training/lib/python3.10/site-packages/torch/nn/modules/lazy.py:181: UserWarning: Lazy modules are a new feature under heavy development so changes to the API or functionality can happen at any moment.\n",
      "\u001b[36m(tune_with_parameters pid=2663638)\u001b[0m   warnings.warn('Lazy modules are a new feature under heavy development '\n",
      "\u001b[36m(tune_with_parameters pid=2663639)\u001b[0m /users/k23058970/miniforge3/envs/Training/lib/python3.10/site-packages/torch/nn/modules/lazy.py:181: UserWarning: Lazy modules are a new feature under heavy development so changes to the API or functionality can happen at any moment.\n",
      "\u001b[36m(tune_with_parameters pid=2663639)\u001b[0m   warnings.warn('Lazy modules are a new feature under heavy development '\n",
      "\u001b[36m(tune_with_parameters pid=2663640)\u001b[0m /users/k23058970/miniforge3/envs/Training/lib/python3.10/site-packages/torch/utils/data/dataloader.py:558: UserWarning: This DataLoader will create 8 worker processes in total. Our suggested max number of worker in current system is 2, which is smaller than what this DataLoader is going to create. Please be aware that excessive worker creation might get DataLoader running slow or even freeze, lower the worker number to avoid potential slowness/freeze if necessary.\n",
      "\u001b[36m(tune_with_parameters pid=2663640)\u001b[0m   warnings.warn(_create_warning_msg(\n",
      "\u001b[36m(tune_with_parameters pid=2663641)\u001b[0m /users/k23058970/miniforge3/envs/Training/lib/python3.10/site-packages/torch/nn/modules/lazy.py:181: UserWarning: Lazy modules are a new feature under heavy development so changes to the API or functionality can happen at any moment.\n",
      "\u001b[36m(tune_with_parameters pid=2663641)\u001b[0m   warnings.warn('Lazy modules are a new feature under heavy development '\n"
     ]
    },
    {
     "name": "stdout",
     "output_type": "stream",
     "text": [
      "\u001b[36m(tune_with_parameters pid=2663640)\u001b[0m loss: 0.746\n"
     ]
    },
    {
     "name": "stderr",
     "output_type": "stream",
     "text": [
      "\u001b[36m(tune_with_parameters pid=2663639)\u001b[0m /users/k23058970/miniforge3/envs/Training/lib/python3.10/site-packages/torch/utils/data/dataloader.py:558: UserWarning: This DataLoader will create 8 worker processes in total. Our suggested max number of worker in current system is 2, which is smaller than what this DataLoader is going to create. Please be aware that excessive worker creation might get DataLoader running slow or even freeze, lower the worker number to avoid potential slowness/freeze if necessary.\u001b[32m [repeated 3x across cluster]\u001b[0m\n",
      "\u001b[36m(tune_with_parameters pid=2663639)\u001b[0m   warnings.warn(_create_warning_msg(\u001b[32m [repeated 3x across cluster]\u001b[0m\n"
     ]
    },
    {
     "name": "stdout",
     "output_type": "stream",
     "text": [
      "\u001b[36m(tune_with_parameters pid=2663638)\u001b[0m loss: 0.685\n",
      "\u001b[36m(tune_with_parameters pid=2663641)\u001b[0m loss: 0.766\n",
      "\u001b[36m(tune_with_parameters pid=2663640)\u001b[0m loss: 0.586\u001b[32m [repeated 2x across cluster]\u001b[0m\n",
      "\u001b[36m(tune_with_parameters pid=2663638)\u001b[0m loss: 0.604\n",
      "\u001b[36m(tune_with_parameters pid=2663641)\u001b[0m loss: 0.697\n",
      "\u001b[36m(tune_with_parameters pid=2663639)\u001b[0m loss: 0.599\n",
      "\u001b[36m(tune_with_parameters pid=2663640)\u001b[0m loss: 0.572\n",
      "\u001b[36m(tune_with_parameters pid=2663638)\u001b[0m loss: 0.596\n",
      "\u001b[36m(tune_with_parameters pid=2663641)\u001b[0m loss: 0.662\n"
     ]
    },
    {
     "name": "stderr",
     "output_type": "stream",
     "text": [
      "Val Epoch:0: 0it [00:00, ?it/s]2663640)\u001b[0m \n"
     ]
    },
    {
     "name": "stdout",
     "output_type": "stream",
     "text": [
      "\u001b[36m(tune_with_parameters pid=2663639)\u001b[0m loss: 0.594\n"
     ]
    },
    {
     "name": "stderr",
     "output_type": "stream",
     "text": [
      "Val Epoch:0: 1it [00:05,  5.30s/it]640)\u001b[0m \n",
      "Val Epoch:0: 2it [00:06,  3.08s/it]640)\u001b[0m \n",
      "Val Epoch:0: 3it [00:07,  1.81s/it]640)\u001b[0m \n",
      "Val Epoch:0: 4it [00:07,  1.16s/it]640)\u001b[0m \n",
      "Val Epoch:0: 6it [00:07,  1.68it/s]640)\u001b[0m \n",
      "Val Epoch:0: 7it [00:07,  2.05it/s]640)\u001b[0m \n",
      "Val Epoch:0: 8it [00:07,  2.29it/s]640)\u001b[0m \n",
      "Val Epoch:0: 9it [00:08,  2.73it/s]640)\u001b[0m \n",
      "Val Epoch:0: 10it [00:08,  2.50it/s]40)\u001b[0m \n",
      "Val Epoch:0: 11it [00:09,  2.50it/s]40)\u001b[0m \n",
      "Val Epoch:0: 12it [00:09,  3.12it/s]40)\u001b[0m \n",
      "Val Epoch:0: 13it [00:09,  3.26it/s]40)\u001b[0m \n",
      "Val Epoch:0: 14it [00:09,  3.83it/s]40)\u001b[0m \n",
      "Val Epoch:0: 15it [00:09,  4.46it/s]40)\u001b[0m \n",
      "Val Epoch:0: 16it [00:10,  3.86it/s]40)\u001b[0m \n",
      "Val Epoch:0: 17it [00:10,  3.14it/s]40)\u001b[0m \n",
      "Val Epoch:0: 18it [00:11,  2.53it/s]40)\u001b[0m \n",
      "Val Epoch:0: 19it [00:11,  1.95it/s]40)\u001b[0m \n",
      "Val Epoch:0: 20it [00:12,  2.49it/s]40)\u001b[0m \n",
      "Val Epoch:0: 21it [00:12,  3.13it/s]40)\u001b[0m \n",
      "Val Epoch:0: 23it [00:12,  4.99it/s]40)\u001b[0m \n",
      "Val Epoch:0: 24it [00:12,  4.18it/s]40)\u001b[0m \n",
      "Val Epoch:0: 25it [00:13,  2.28it/s]40)\u001b[0m \n",
      "Val Epoch:0: 26it [00:15,  1.20it/s]40)\u001b[0m \n",
      "Val Epoch:0: 27it [00:15,  1.55it/s]40)\u001b[0m \n",
      "Val Epoch:0: 29it [00:15,  2.42it/s]40)\u001b[0m \n",
      "Val Epoch:0: 31it [00:16,  3.27it/s]40)\u001b[0m \n",
      "Val Epoch:0: 32it [00:16,  3.46it/s]40)\u001b[0m \n",
      "Val Epoch:0: 33it [00:17,  2.48it/s]40)\u001b[0m \n",
      "Val Epoch:0: 34it [00:17,  3.02it/s]40)\u001b[0m \n",
      "Val Epoch:0: 35it [00:17,  3.22it/s]40)\u001b[0m \n",
      "Val Epoch:0: 36it [00:17,  3.62it/s]40)\u001b[0m \n",
      "Val Epoch:0: 39it [00:18,  5.00it/s]40)\u001b[0m \n",
      "Val Epoch:0: 40it [00:18,  5.36it/s]40)\u001b[0m \n",
      "Val Epoch:0: 41it [00:18,  3.64it/s]40)\u001b[0m \n",
      "Val Epoch:0: 42it [00:19,  2.80it/s]40)\u001b[0m \n",
      "Val Epoch:0: 0it [00:00, ?it/s]2663638)\u001b[0m \n",
      "Val Epoch:0: 43it [00:19,  3.16it/s]40)\u001b[0m \n",
      "Val Epoch:0: 44it [00:19,  3.60it/s]40)\u001b[0m \n",
      "Val Epoch:0: 45it [00:20,  4.34it/s]40)\u001b[0m \n",
      "Val Epoch:0: 49it [00:21,  3.62it/s]40)\u001b[0m \n",
      "Val Epoch:0: 50it [00:21,  2.30it/s]40)\u001b[0m \n",
      "Val Epoch:0: 1it [00:02,  2.15s/it]638)\u001b[0m \n"
     ]
    },
    {
     "name": "stdout",
     "output_type": "stream",
     "text": [
      "\u001b[36m(tune_with_parameters pid=2663640)\u001b[0m /tmp/tmp9hwxh9d4/checkpoint.pt\n"
     ]
    },
    {
     "name": "stderr",
     "output_type": "stream",
     "text": [
      "Val Epoch:0: 2it [00:03,  1.41s/it]638)\u001b[0m \n",
      "Val Epoch:0: 5it [00:03,  2.12it/s]638)\u001b[0m \n",
      "\u001b[36m(tune_with_parameters pid=2663640)\u001b[0m Checkpoint successfully created at: Checkpoint(filesystem=local, path=/scratch/users/k23058970/Model training/results/NSQ vs AC LSTM/tune_with_parameters_2024-07-30_13-33-38/tune_with_parameters_0ca84_00002_2_dp=0.2500,hidden_size=500,lr=0.0074,num_layers=2_2024-07-30_13-34-22/checkpoint_000000)\n",
      "Val Epoch:0: 0it [00:00, ?it/s]\u001b[32m [repeated 2x across cluster]\u001b[0m\n",
      "Val Epoch:0: 23it [00:08,  1.87it/s]\u001b[32m [repeated 21x across cluster]\u001b[0m\n",
      "Val Epoch:0: 36it [00:13,  2.30it/s]\u001b[32m [repeated 33x across cluster]\u001b[0m\n"
     ]
    },
    {
     "name": "stdout",
     "output_type": "stream",
     "text": [
      "\u001b[36m(tune_with_parameters pid=2663640)\u001b[0m loss: 0.576\n"
     ]
    },
    {
     "name": "stderr",
     "output_type": "stream",
     "text": [
      "\u001b[36m(tune_with_parameters pid=2663638)\u001b[0m /scratch/users/k23058970/Model training/training_two_class_exvivo_lstm.py:63: RuntimeWarning: invalid value encountered in divide\n",
      "\u001b[36m(tune_with_parameters pid=2663638)\u001b[0m   self.precision = self.tp/(self.tp + self.fp)\n",
      "Val Epoch:0: 25it [00:13,  2.40it/s]\u001b[32m [repeated 38x across cluster]\u001b[0m\n"
     ]
    },
    {
     "name": "stdout",
     "output_type": "stream",
     "text": [
      "\u001b[36m(tune_with_parameters pid=2663638)\u001b[0m /tmp/tmps9hl201c/checkpoint.pt\n",
      "\u001b[36m(tune_with_parameters pid=2663641)\u001b[0m /tmp/tmp18orjeya/checkpoint.pt\n"
     ]
    },
    {
     "name": "stderr",
     "output_type": "stream",
     "text": [
      "\u001b[36m(tune_with_parameters pid=2663641)\u001b[0m Checkpoint successfully created at: Checkpoint(filesystem=local, path=/scratch/users/k23058970/Model training/results/NSQ vs AC LSTM/tune_with_parameters_2024-07-30_13-33-38/tune_with_parameters_0ca84_00003_3_dp=0.2500,hidden_size=300,lr=0.0012,num_layers=3_2024-07-30_13-34-22/checkpoint_000000)\n",
      "\u001b[36m(tune_with_parameters pid=2663641)\u001b[0m /scratch/users/k23058970/Model training/training_two_class_exvivo_lstm.py:63: RuntimeWarning: invalid value encountered in divide\n",
      "\u001b[36m(tune_with_parameters pid=2663641)\u001b[0m   self.precision = self.tp/(self.tp + self.fp)\n",
      "Val Epoch:0: 41it [00:19,  1.60it/s]\u001b[32m [repeated 14x across cluster]\u001b[0m\n",
      "\u001b[36m(tune_with_parameters pid=2663638)\u001b[0m Checkpoint successfully created at: Checkpoint(filesystem=local, path=/scratch/users/k23058970/Model training/results/NSQ vs AC LSTM/tune_with_parameters_2024-07-30_13-33-38/tune_with_parameters_0ca84_00000_0_dp=0.5000,hidden_size=500,lr=0.0127,num_layers=4_2024-07-30_13-34-22/checkpoint_000000)\n",
      "\u001b[36m(tune_with_parameters pid=2663639)\u001b[0m /scratch/users/k23058970/Model training/training_two_class_exvivo_lstm.py:63: RuntimeWarning: invalid value encountered in divide\n",
      "\u001b[36m(tune_with_parameters pid=2663639)\u001b[0m   self.precision = self.tp/(self.tp + self.fp)\n"
     ]
    },
    {
     "name": "stdout",
     "output_type": "stream",
     "text": [
      "\u001b[36m(tune_with_parameters pid=2663641)\u001b[0m loss: 0.640\n",
      "\u001b[36m(tune_with_parameters pid=2663638)\u001b[0m loss: 0.598\n",
      "\u001b[36m(tune_with_parameters pid=2663639)\u001b[0m /tmp/tmpdccspybs/checkpoint.pt\n"
     ]
    },
    {
     "name": "stderr",
     "output_type": "stream",
     "text": [
      "\u001b[36m(tune_with_parameters pid=2663639)\u001b[0m Checkpoint successfully created at: Checkpoint(filesystem=local, path=/scratch/users/k23058970/Model training/results/NSQ vs AC LSTM/tune_with_parameters_2024-07-30_13-33-38/tune_with_parameters_0ca84_00001_1_dp=0.2000,hidden_size=100,lr=0.0024,num_layers=5_2024-07-30_13-34-22/checkpoint_000000)\n",
      "Val Epoch:0: 50it [00:23,  2.10it/s]\u001b[32m [repeated 8x across cluster]\u001b[0m\n"
     ]
    },
    {
     "name": "stdout",
     "output_type": "stream",
     "text": [
      "\u001b[36m(tune_with_parameters pid=2663639)\u001b[0m loss: 0.584\n",
      "\u001b[36m(tune_with_parameters pid=2663640)\u001b[0m loss: 0.572\n",
      "\u001b[36m(tune_with_parameters pid=2663641)\u001b[0m loss: 0.611\n",
      "\u001b[36m(tune_with_parameters pid=2663638)\u001b[0m loss: 0.587\n",
      "\u001b[36m(tune_with_parameters pid=2663639)\u001b[0m loss: 0.586\n",
      "\u001b[36m(tune_with_parameters pid=2663640)\u001b[0m loss: 0.580\n",
      "\u001b[36m(tune_with_parameters pid=2663641)\u001b[0m loss: 0.609\n",
      "\u001b[36m(tune_with_parameters pid=2663638)\u001b[0m loss: 0.586\n"
     ]
    },
    {
     "name": "stderr",
     "output_type": "stream",
     "text": [
      "Val Epoch:1: 0it [00:00, ?it/s]2663640)\u001b[0m \n",
      "Val Epoch:1: 1it [00:04,  4.21s/it]640)\u001b[0m \n",
      "Val Epoch:1: 2it [00:04,  2.05s/it]640)\u001b[0m \n",
      "Val Epoch:1: 3it [00:05,  1.66s/it]640)\u001b[0m \n",
      "Val Epoch:1: 4it [00:06,  1.06s/it]640)\u001b[0m \n",
      "Val Epoch:1: 5it [00:06,  1.40it/s]640)\u001b[0m \n",
      "Val Epoch:1: 7it [00:06,  2.45it/s]640)\u001b[0m \n",
      "Val Epoch:1: 8it [00:06,  2.93it/s]640)\u001b[0m \n",
      "Val Epoch:1: 9it [00:07,  2.11it/s]640)\u001b[0m \n",
      "Val Epoch:1: 11it [00:07,  2.59it/s]40)\u001b[0m \n",
      "Val Epoch:1: 12it [00:08,  2.85it/s]40)\u001b[0m \n",
      "Val Epoch:1: 13it [00:08,  3.36it/s]40)\u001b[0m \n",
      "Val Epoch:1: 14it [00:08,  3.13it/s]40)\u001b[0m \n",
      "Val Epoch:1: 15it [00:08,  3.69it/s]40)\u001b[0m \n",
      "Val Epoch:1: 16it [00:09,  4.14it/s]40)\u001b[0m \n",
      "Val Epoch:1: 17it [00:10,  2.08it/s]40)\u001b[0m \n",
      "Val Epoch:1: 18it [00:10,  1.99it/s]40)\u001b[0m \n",
      "Val Epoch:1: 19it [00:10,  2.48it/s]40)\u001b[0m \n",
      "Val Epoch:1: 21it [00:11,  3.40it/s]40)\u001b[0m \n",
      "Val Epoch:1: 23it [00:11,  4.65it/s]40)\u001b[0m \n",
      "Val Epoch:1: 25it [00:12,  2.64it/s]40)\u001b[0m \n",
      "Val Epoch:1: 26it [00:12,  2.96it/s]40)\u001b[0m \n",
      "Val Epoch:1: 29it [00:12,  4.89it/s]40)\u001b[0m \n",
      "Val Epoch:1: 30it [00:13,  4.69it/s]40)\u001b[0m \n",
      "Val Epoch:1: 31it [00:13,  4.50it/s]40)\u001b[0m \n",
      "Val Epoch:1: 32it [00:13,  4.08it/s]40)\u001b[0m \n",
      "Val Epoch:1: 0it [00:00, ?it/s]2663641)\u001b[0m \n",
      "Val Epoch:1: 34it [00:15,  2.19it/s]40)\u001b[0m \n",
      "Val Epoch:1: 35it [00:15,  2.56it/s]40)\u001b[0m \n",
      "Val Epoch:1: 38it [00:15,  4.56it/s]40)\u001b[0m \n",
      "Val Epoch:1: 40it [00:16,  5.81it/s]40)\u001b[0m \n",
      "Val Epoch:1: 41it [00:17,  3.16it/s]40)\u001b[0m \n"
     ]
    },
    {
     "name": "stdout",
     "output_type": "stream",
     "text": [
      "\u001b[36m(tune_with_parameters pid=2663639)\u001b[0m loss: 0.586\n"
     ]
    },
    {
     "name": "stderr",
     "output_type": "stream",
     "text": [
      "Val Epoch:1: 0it [00:00, ?it/s]2663638)\u001b[0m \n",
      "Val Epoch:1: 19it [00:05,  3.02it/s]\u001b[32m [repeated 27x across cluster]\u001b[0m\n",
      "Val Epoch:1: 28it [00:10,  1.63it/s]\u001b[32m [repeated 16x across cluster]\u001b[0m\n",
      "Val Epoch:1: 33it [00:14,  1.63it/s]\u001b[32m [repeated 15x across cluster]\u001b[0m\n"
     ]
    },
    {
     "name": "stdout",
     "output_type": "stream",
     "text": [
      "\u001b[36m(tune_with_parameters pid=2663640)\u001b[0m loss: 0.579\n"
     ]
    },
    {
     "name": "stderr",
     "output_type": "stream",
     "text": [
      "Val Epoch:1: 49it [00:20,  1.98it/s]\u001b[32m [repeated 19x across cluster]\u001b[0m\n",
      "Val Epoch:1: 0it [00:00, ?it/s]2663639)\u001b[0m \n",
      "Val Epoch:1: 50it [00:22,  2.26it/s]\u001b[32m [repeated 2x across cluster]\u001b[0m\n"
     ]
    },
    {
     "name": "stdout",
     "output_type": "stream",
     "text": [
      "\u001b[36m(tune_with_parameters pid=2663641)\u001b[0m loss: 0.610\n",
      "\u001b[36m(tune_with_parameters pid=2663638)\u001b[0m loss: 0.558\n"
     ]
    },
    {
     "name": "stderr",
     "output_type": "stream",
     "text": [
      "Val Epoch:1: 16it [00:05,  4.43it/s]\u001b[32m [repeated 10x across cluster]\u001b[0m\n",
      "Val Epoch:1: 30it [00:10,  3.32it/s]\u001b[32m [repeated 13x across cluster]\u001b[0m\n",
      "Val Epoch:1: 41it [00:15,  1.35it/s]\u001b[32m [repeated 11x across cluster]\u001b[0m\n"
     ]
    },
    {
     "name": "stdout",
     "output_type": "stream",
     "text": [
      "\u001b[36m(tune_with_parameters pid=2663639)\u001b[0m loss: 0.571\n",
      "\u001b[36m(tune_with_parameters pid=2663640)\u001b[0m loss: 0.586\n",
      "\u001b[36m(tune_with_parameters pid=2663641)\u001b[0m loss: 0.604\n",
      "\u001b[36m(tune_with_parameters pid=2663638)\u001b[0m loss: 0.584\n",
      "\u001b[36m(tune_with_parameters pid=2663639)\u001b[0m loss: 0.585\n",
      "\u001b[36m(tune_with_parameters pid=2663640)\u001b[0m loss: 0.583\n",
      "\u001b[36m(tune_with_parameters pid=2663641)\u001b[0m loss: 0.603\n",
      "\u001b[36m(tune_with_parameters pid=2663638)\u001b[0m loss: 0.586\n"
     ]
    },
    {
     "name": "stderr",
     "output_type": "stream",
     "text": [
      "Val Epoch:2: 0it [00:00, ?it/s]2663640)\u001b[0m \n",
      "Val Epoch:1: 50it [00:19,  2.54it/s]\u001b[32m [repeated 10x across cluster]\u001b[0m\n",
      "Val Epoch:2: 24it [00:05,  6.20it/s]\u001b[32m [repeated 12x across cluster]\u001b[0m\n",
      "Val Epoch:2: 0it [00:00, ?it/s]2663641)\u001b[0m \n",
      "Val Epoch:2: 36it [00:10,  1.96it/s]\u001b[32m [repeated 9x across cluster]\u001b[0m\n",
      "Val Epoch:2: 40it [00:10,  3.65it/s]40)\u001b[0m \n"
     ]
    },
    {
     "name": "stdout",
     "output_type": "stream",
     "text": [
      "\u001b[36m(tune_with_parameters pid=2663639)\u001b[0m loss: 0.586\n"
     ]
    },
    {
     "name": "stderr",
     "output_type": "stream",
     "text": [
      "Val Epoch:2: 0it [00:00, ?it/s]2663638)\u001b[0m \n",
      "\u001b[36m(tune_with_parameters pid=2663640)\u001b[0m /scratch/users/k23058970/Model training/training_two_class_exvivo_lstm.py:63: RuntimeWarning: invalid value encountered in divide\n",
      "\u001b[36m(tune_with_parameters pid=2663640)\u001b[0m   self.precision = self.tp/(self.tp + self.fp)\n",
      "Val Epoch:2: 50it [00:15,  3.24it/s]\u001b[32m [repeated 11x across cluster]\u001b[0m\n",
      "Val Epoch:2: 7it [00:07,  1.40it/s]\u001b[32m [repeated 15x across cluster]\u001b[0m\n",
      "Val Epoch:2: 11it [00:09,  1.84it/s]38)\u001b[0m \n",
      "Val Epoch:2: 20it [00:15,  1.42it/s]\u001b[32m [repeated 15x across cluster]\u001b[0m\n"
     ]
    },
    {
     "name": "stdout",
     "output_type": "stream",
     "text": [
      "\u001b[36m(tune_with_parameters pid=2663640)\u001b[0m loss: 0.589\n"
     ]
    },
    {
     "name": "stderr",
     "output_type": "stream",
     "text": [
      "Val Epoch:2: 33it [00:17,  2.76it/s]\u001b[32m [repeated 27x across cluster]\u001b[0m\n",
      "Val Epoch:2: 0it [00:00, ?it/s]2663639)\u001b[0m \n",
      "Val Epoch:2: 1it [00:02,  2.72s/it]\u001b[32m [repeated 17x across cluster]\u001b[0m\n",
      "Val Epoch:2: 15it [00:08,  2.75it/s]\u001b[32m [repeated 10x across cluster]\u001b[0m\n"
     ]
    },
    {
     "name": "stdout",
     "output_type": "stream",
     "text": [
      "\u001b[36m(tune_with_parameters pid=2663641)\u001b[0m loss: 0.598\n",
      "\u001b[36m(tune_with_parameters pid=2663638)\u001b[0m loss: 0.616\n"
     ]
    },
    {
     "name": "stderr",
     "output_type": "stream",
     "text": [
      "Val Epoch:2: 25it [00:13,  1.58it/s]\u001b[32m [repeated 10x across cluster]\u001b[0m\n",
      "Val Epoch:2: 37it [00:19,  1.59it/s]\u001b[32m [repeated 12x across cluster]\u001b[0m\n"
     ]
    },
    {
     "name": "stdout",
     "output_type": "stream",
     "text": [
      "\u001b[36m(tune_with_parameters pid=2663639)\u001b[0m loss: 0.588\n",
      "\u001b[36m(tune_with_parameters pid=2663640)\u001b[0m loss: 0.577\n",
      "\u001b[36m(tune_with_parameters pid=2663641)\u001b[0m loss: 0.600\n",
      "\u001b[36m(tune_with_parameters pid=2663638)\u001b[0m loss: 0.585\n",
      "\u001b[36m(tune_with_parameters pid=2663639)\u001b[0m loss: 0.585\n",
      "\u001b[36m(tune_with_parameters pid=2663640)\u001b[0m loss: 0.580\n",
      "\u001b[36m(tune_with_parameters pid=2663641)\u001b[0m loss: 0.600\n",
      "\u001b[36m(tune_with_parameters pid=2663638)\u001b[0m loss: 0.586\n"
     ]
    },
    {
     "name": "stderr",
     "output_type": "stream",
     "text": [
      "Val Epoch:3: 0it [00:00, ?it/s]2663640)\u001b[0m \n",
      "Val Epoch:2: 50it [00:23,  2.09it/s]\u001b[32m [repeated 14x across cluster]\u001b[0m\n",
      "Val Epoch:3: 18it [00:05,  2.53it/s]\u001b[32m [repeated 13x across cluster]\u001b[0m\n",
      "Val Epoch:3: 26it [00:10,  1.11it/s]\u001b[32m [repeated 6x across cluster]\u001b[0m\n",
      "Val Epoch:3: 0it [00:00, ?it/s]2663641)\u001b[0m \n",
      "Val Epoch:3: 38it [00:16,  2.09it/s]\u001b[32m [repeated 8x across cluster]\u001b[0m\n"
     ]
    },
    {
     "name": "stdout",
     "output_type": "stream",
     "text": [
      "\u001b[36m(tune_with_parameters pid=2663639)\u001b[0m loss: 0.586\n"
     ]
    },
    {
     "name": "stderr",
     "output_type": "stream",
     "text": [
      "Val Epoch:3: 0it [00:00, ?it/s]2663638)\u001b[0m \n",
      "Val Epoch:3: 50it [00:21,  2.82it/s]\u001b[32m [repeated 9x across cluster]\u001b[0m\n",
      "Val Epoch:3: 18it [00:10,  2.66it/s]\u001b[32m [repeated 26x across cluster]\u001b[0m\n"
     ]
    },
    {
     "name": "stdout",
     "output_type": "stream",
     "text": [
      "\u001b[36m(tune_with_parameters pid=2663640)\u001b[0m loss: 0.580\n"
     ]
    },
    {
     "name": "stderr",
     "output_type": "stream",
     "text": [
      "Val Epoch:3: 47it [00:13, 10.19it/s]\u001b[32m [repeated 37x across cluster]\u001b[0m\n",
      "Val Epoch:3: 0it [00:00, ?it/s]2663639)\u001b[0m \n",
      "Val Epoch:3: 50it [00:14,  3.41it/s]\u001b[32m [repeated 3x across cluster]\u001b[0m\n",
      "Val Epoch:3: 1it [00:05,  5.24s/it]639)\u001b[0m \n",
      "Val Epoch:3: 2it [00:05,  2.26s/it]639)\u001b[0m \n",
      "Val Epoch:3: 3it [00:06,  1.66s/it]639)\u001b[0m \n",
      "Val Epoch:3: 4it [00:06,  1.08s/it]639)\u001b[0m \n",
      "Val Epoch:3: 5it [00:06,  1.21it/s]639)\u001b[0m \n",
      "Val Epoch:3: 6it [00:07,  1.56it/s]639)\u001b[0m \n"
     ]
    },
    {
     "name": "stdout",
     "output_type": "stream",
     "text": [
      "\u001b[36m(tune_with_parameters pid=2663641)\u001b[0m loss: 0.601\n"
     ]
    },
    {
     "name": "stderr",
     "output_type": "stream",
     "text": [
      "Val Epoch:3: 7it [00:07,  1.71it/s]639)\u001b[0m \n",
      "Val Epoch:3: 8it [00:07,  2.17it/s]639)\u001b[0m \n"
     ]
    },
    {
     "name": "stdout",
     "output_type": "stream",
     "text": [
      "\u001b[36m(tune_with_parameters pid=2663638)\u001b[0m loss: 0.566\n"
     ]
    },
    {
     "name": "stderr",
     "output_type": "stream",
     "text": [
      "Val Epoch:3: 9it [00:08,  1.86it/s]639)\u001b[0m \n",
      "Val Epoch:3: 10it [00:09,  1.44it/s]39)\u001b[0m \n",
      "Val Epoch:3: 11it [00:09,  1.77it/s]39)\u001b[0m \n",
      "Val Epoch:3: 12it [00:10,  2.11it/s]39)\u001b[0m \n",
      "Val Epoch:3: 13it [00:10,  2.57it/s]39)\u001b[0m \n",
      "Val Epoch:3: 14it [00:10,  2.82it/s]39)\u001b[0m \n",
      "Val Epoch:3: 15it [00:11,  2.35it/s]39)\u001b[0m \n",
      "Val Epoch:3: 16it [00:11,  2.57it/s]39)\u001b[0m \n",
      "Val Epoch:3: 17it [00:12,  2.05it/s]39)\u001b[0m \n",
      "Val Epoch:3: 19it [00:12,  2.46it/s]39)\u001b[0m \n",
      "Val Epoch:3: 21it [00:13,  3.64it/s]39)\u001b[0m \n",
      "Val Epoch:3: 22it [00:13,  4.17it/s]39)\u001b[0m \n",
      "Val Epoch:3: 23it [00:13,  4.52it/s]39)\u001b[0m \n",
      "Val Epoch:3: 24it [00:13,  4.76it/s]39)\u001b[0m \n",
      "Val Epoch:3: 25it [00:13,  4.32it/s]39)\u001b[0m \n",
      "Val Epoch:3: 26it [00:13,  4.52it/s]39)\u001b[0m \n",
      "Val Epoch:3: 27it [00:14,  3.99it/s]39)\u001b[0m \n",
      "Val Epoch:3: 28it [00:14,  4.82it/s]39)\u001b[0m \n",
      "Val Epoch:3: 29it [00:14,  5.62it/s]39)\u001b[0m \n",
      "Val Epoch:3: 31it [00:14,  7.18it/s]39)\u001b[0m \n",
      "Val Epoch:3: 32it [00:14,  7.67it/s]39)\u001b[0m \n",
      "Val Epoch:3: 33it [00:15,  4.54it/s]39)\u001b[0m \n",
      "Val Epoch:3: 34it [00:15,  4.30it/s]39)\u001b[0m \n",
      "Val Epoch:3: 35it [00:16,  3.19it/s]39)\u001b[0m \n",
      "Val Epoch:3: 36it [00:16,  2.95it/s]39)\u001b[0m \n",
      "Val Epoch:3: 37it [00:16,  3.46it/s]39)\u001b[0m \n",
      "Val Epoch:3: 38it [00:16,  3.79it/s]39)\u001b[0m \n",
      "Val Epoch:3: 39it [00:16,  4.50it/s]39)\u001b[0m \n",
      "Val Epoch:3: 40it [00:17,  4.17it/s]39)\u001b[0m \n",
      "Val Epoch:3: 41it [00:17,  4.70it/s]39)\u001b[0m \n",
      "Val Epoch:3: 42it [00:17,  4.82it/s]39)\u001b[0m \n",
      "Val Epoch:3: 43it [00:17,  5.61it/s]39)\u001b[0m \n",
      "Val Epoch:3: 44it [00:17,  5.93it/s]39)\u001b[0m \n",
      "Val Epoch:3: 46it [00:18,  6.87it/s]39)\u001b[0m \n",
      "Val Epoch:3: 48it [00:18,  8.00it/s]39)\u001b[0m \n",
      "Val Epoch:3: 49it [00:18,  7.86it/s]39)\u001b[0m \n",
      "Val Epoch:3: 50it [00:18,  2.64it/s]39)\u001b[0m \n"
     ]
    },
    {
     "name": "stdout",
     "output_type": "stream",
     "text": [
      "\u001b[36m(tune_with_parameters pid=2663639)\u001b[0m loss: 0.570\n",
      "\u001b[36m(tune_with_parameters pid=2663640)\u001b[0m loss: 0.579\n",
      "\u001b[36m(tune_with_parameters pid=2663638)\u001b[0m loss: 0.584\n",
      "\u001b[36m(tune_with_parameters pid=2663641)\u001b[0m loss: 0.599\n",
      "\u001b[36m(tune_with_parameters pid=2663639)\u001b[0m loss: 0.586\n",
      "\u001b[36m(tune_with_parameters pid=2663640)\u001b[0m loss: 0.581\n",
      "\u001b[36m(tune_with_parameters pid=2663641)\u001b[0m loss: 0.598\n",
      "\u001b[36m(tune_with_parameters pid=2663638)\u001b[0m loss: 0.585\n"
     ]
    },
    {
     "name": "stderr",
     "output_type": "stream",
     "text": [
      "Val Epoch:4: 0it [00:00, ?it/s]2663640)\u001b[0m \n",
      "Val Epoch:4: 1it [00:04,  4.09s/it]640)\u001b[0m \n",
      "Val Epoch:4: 3it [00:04,  1.17s/it]640)\u001b[0m \n",
      "Val Epoch:4: 4it [00:05,  1.03s/it]640)\u001b[0m \n",
      "Val Epoch:4: 6it [00:05,  1.79it/s]640)\u001b[0m \n",
      "Val Epoch:4: 7it [00:05,  2.16it/s]640)\u001b[0m \n",
      "Val Epoch:4: 8it [00:05,  2.66it/s]640)\u001b[0m \n",
      "Val Epoch:4: 9it [00:06,  1.62it/s]640)\u001b[0m \n",
      "Val Epoch:4: 10it [00:07,  2.02it/s]40)\u001b[0m \n",
      "Val Epoch:4: 11it [00:07,  2.41it/s]40)\u001b[0m \n",
      "Val Epoch:4: 12it [00:07,  3.05it/s]40)\u001b[0m \n",
      "Val Epoch:4: 14it [00:07,  4.36it/s]40)\u001b[0m \n",
      "Val Epoch:4: 15it [00:07,  3.80it/s]40)\u001b[0m \n",
      "Val Epoch:4: 16it [00:08,  4.44it/s]40)\u001b[0m \n",
      "Val Epoch:4: 17it [00:11,  1.10s/it]40)\u001b[0m \n",
      "Val Epoch:4: 19it [00:12,  1.14it/s]40)\u001b[0m \n",
      "Val Epoch:4: 20it [00:14,  1.02it/s]40)\u001b[0m \n",
      "Val Epoch:4: 21it [00:14,  1.19it/s]40)\u001b[0m \n",
      "Val Epoch:4: 23it [00:14,  1.83it/s]40)\u001b[0m \n",
      "Val Epoch:4: 24it [00:16,  1.37it/s]40)\u001b[0m \n",
      "Val Epoch:4: 25it [00:17,  1.12it/s]40)\u001b[0m \n",
      "Val Epoch:4: 26it [00:17,  1.44it/s]40)\u001b[0m \n",
      "Val Epoch:4: 27it [00:18,  1.46it/s]40)\u001b[0m \n",
      "Val Epoch:4: 0it [00:00, ?it/s]2663638)\u001b[0m \n",
      "Val Epoch:4: 28it [00:18,  1.65it/s]40)\u001b[0m \n",
      "Val Epoch:4: 29it [00:18,  2.14it/s]40)\u001b[0m \n",
      "Val Epoch:4: 31it [00:19,  3.17it/s]40)\u001b[0m \n",
      "Val Epoch:4: 32it [00:19,  3.44it/s]40)\u001b[0m \n",
      "Val Epoch:4: 33it [00:19,  2.56it/s]40)\u001b[0m \n",
      "Val Epoch:4: 34it [00:20,  3.19it/s]40)\u001b[0m \n",
      "Val Epoch:4: 36it [00:20,  3.53it/s]40)\u001b[0m \n"
     ]
    },
    {
     "name": "stdout",
     "output_type": "stream",
     "text": [
      "\u001b[36m(tune_with_parameters pid=2663639)\u001b[0m loss: 0.586\n"
     ]
    },
    {
     "name": "stderr",
     "output_type": "stream",
     "text": [
      "Val Epoch:4: 0it [00:00, ?it/s]2663641)\u001b[0m \n",
      "Val Epoch:4: 18it [00:05,  4.16it/s]\u001b[32m [repeated 26x across cluster]\u001b[0m\n",
      "Val Epoch:4: 38it [00:09,  5.67it/s]\u001b[32m [repeated 29x across cluster]\u001b[0m\n"
     ]
    },
    {
     "name": "stdout",
     "output_type": "stream",
     "text": [
      "\u001b[36m(tune_with_parameters pid=2663640)\u001b[0m loss: 0.608\n"
     ]
    },
    {
     "name": "stderr",
     "output_type": "stream",
     "text": [
      "Val Epoch:4: 0it [00:00, ?it/s]2663639)\u001b[0m \n",
      "Val Epoch:4: 50it [00:13,  3.66it/s]\u001b[32m [repeated 12x across cluster]\u001b[0m\n"
     ]
    },
    {
     "name": "stdout",
     "output_type": "stream",
     "text": [
      "\u001b[36m(tune_with_parameters pid=2663638)\u001b[0m loss: 0.603\n"
     ]
    },
    {
     "name": "stderr",
     "output_type": "stream",
     "text": [
      "Val Epoch:4: 2it [00:05,  2.14s/it]\u001b[32m [repeated 2x across cluster]\u001b[0m\n"
     ]
    },
    {
     "name": "stdout",
     "output_type": "stream",
     "text": [
      "\u001b[36m(tune_with_parameters pid=2663641)\u001b[0m loss: 0.600\n"
     ]
    },
    {
     "name": "stderr",
     "output_type": "stream",
     "text": [
      "Val Epoch:4: 24it [00:10,  5.51it/s]\u001b[32m [repeated 15x across cluster]\u001b[0m\n"
     ]
    },
    {
     "name": "stdout",
     "output_type": "stream",
     "text": [
      "\u001b[36m(tune_with_parameters pid=2663639)\u001b[0m loss: 0.586\n",
      "\u001b[36m(tune_with_parameters pid=2663640)\u001b[0m loss: 0.578\n",
      "\u001b[36m(tune_with_parameters pid=2663638)\u001b[0m loss: 0.588\n",
      "\u001b[36m(tune_with_parameters pid=2663641)\u001b[0m loss: 0.597\n",
      "\u001b[36m(tune_with_parameters pid=2663639)\u001b[0m loss: 0.586\n",
      "\u001b[36m(tune_with_parameters pid=2663640)\u001b[0m loss: 0.582\n",
      "\u001b[36m(tune_with_parameters pid=2663638)\u001b[0m loss: 0.586\n",
      "\u001b[36m(tune_with_parameters pid=2663641)\u001b[0m loss: 0.595\n"
     ]
    },
    {
     "name": "stderr",
     "output_type": "stream",
     "text": [
      "Val Epoch:5: 0it [00:00, ?it/s]2663640)\u001b[0m \n",
      "Val Epoch:4: 50it [00:15,  3.33it/s]\u001b[32m [repeated 19x across cluster]\u001b[0m\n",
      "Val Epoch:5: 5it [00:05,  1.31it/s]\u001b[32m [repeated 4x across cluster]\u001b[0m\n",
      "Val Epoch:5: 17it [00:11,  1.48it/s]\u001b[32m [repeated 10x across cluster]\u001b[0m\n",
      "Val Epoch:5: 0it [00:00, ?it/s]2663638)\u001b[0m \n",
      "Val Epoch:5: 35it [00:15,  4.12it/s]40)\u001b[0m \n",
      "Val Epoch:5: 37it [00:16,  3.91it/s]\u001b[32m [repeated 18x across cluster]\u001b[0m\n",
      "Val Epoch:5: 0it [00:00, ?it/s]2663641)\u001b[0m \n"
     ]
    },
    {
     "name": "stdout",
     "output_type": "stream",
     "text": [
      "\u001b[36m(tune_with_parameters pid=2663639)\u001b[0m loss: 0.586\n"
     ]
    },
    {
     "name": "stderr",
     "output_type": "stream",
     "text": [
      "Val Epoch:5: 32it [00:08,  4.70it/s]\u001b[32m [repeated 31x across cluster]\u001b[0m\n",
      "Val Epoch:5: 43it [00:14,  2.63it/s]\u001b[32m [repeated 21x across cluster]\u001b[0m\n"
     ]
    },
    {
     "name": "stdout",
     "output_type": "stream",
     "text": [
      "\u001b[36m(tune_with_parameters pid=2663640)\u001b[0m loss: 0.603\n"
     ]
    },
    {
     "name": "stderr",
     "output_type": "stream",
     "text": [
      "Val Epoch:5: 41it [00:15,  2.30it/s]\u001b[32m [repeated 21x across cluster]\u001b[0m\n",
      "Val Epoch:5: 50it [00:20,  2.40it/s]\u001b[32m [repeated 6x across cluster]\u001b[0m\n",
      "Val Epoch:5: 0it [00:00, ?it/s]2663639)\u001b[0m \n"
     ]
    },
    {
     "name": "stdout",
     "output_type": "stream",
     "text": [
      "\u001b[36m(tune_with_parameters pid=2663638)\u001b[0m loss: 0.584\n"
     ]
    },
    {
     "name": "stderr",
     "output_type": "stream",
     "text": [
      "Val Epoch:5: 1it [00:02,  2.48s/it]639)\u001b[0m \n",
      "Val Epoch:5: 2it [00:02,  1.21s/it]639)\u001b[0m \n"
     ]
    },
    {
     "name": "stdout",
     "output_type": "stream",
     "text": [
      "\u001b[36m(tune_with_parameters pid=2663641)\u001b[0m loss: 0.560\n"
     ]
    },
    {
     "name": "stderr",
     "output_type": "stream",
     "text": [
      "Val Epoch:5: 3it [00:03,  1.16it/s]639)\u001b[0m \n",
      "Val Epoch:5: 4it [00:03,  1.78it/s]639)\u001b[0m \n",
      "Val Epoch:5: 5it [00:03,  2.26it/s]639)\u001b[0m \n",
      "Val Epoch:5: 6it [00:03,  3.04it/s]639)\u001b[0m \n",
      "Val Epoch:5: 7it [00:03,  3.92it/s]639)\u001b[0m \n",
      "Val Epoch:5: 8it [00:03,  4.50it/s]639)\u001b[0m \n",
      "Val Epoch:5: 9it [00:04,  2.98it/s]639)\u001b[0m \n",
      "Val Epoch:5: 10it [00:04,  2.93it/s]39)\u001b[0m \n",
      "Val Epoch:5: 11it [00:05,  3.63it/s]39)\u001b[0m \n",
      "Val Epoch:5: 13it [00:05,  5.20it/s]39)\u001b[0m \n",
      "Val Epoch:5: 14it [00:05,  5.49it/s]39)\u001b[0m \n",
      "Val Epoch:5: 16it [00:05,  6.25it/s]39)\u001b[0m \n",
      "Val Epoch:5: 18it [00:05,  6.01it/s]39)\u001b[0m \n",
      "Val Epoch:5: 19it [00:06,  5.97it/s]39)\u001b[0m \n",
      "Val Epoch:5: 20it [00:06,  5.35it/s]39)\u001b[0m \n",
      "Val Epoch:5: 21it [00:06,  5.23it/s]39)\u001b[0m \n",
      "Val Epoch:5: 22it [00:06,  5.94it/s]39)\u001b[0m \n",
      "Val Epoch:5: 23it [00:06,  6.06it/s]39)\u001b[0m \n",
      "Val Epoch:5: 24it [00:07,  5.41it/s]39)\u001b[0m \n",
      "Val Epoch:5: 25it [00:08,  2.16it/s]39)\u001b[0m \n",
      "Val Epoch:5: 26it [00:08,  2.61it/s]39)\u001b[0m \n",
      "Val Epoch:5: 27it [00:08,  2.90it/s]39)\u001b[0m \n",
      "Val Epoch:5: 28it [00:09,  2.65it/s]39)\u001b[0m \n",
      "Val Epoch:5: 29it [00:09,  2.84it/s]39)\u001b[0m \n",
      "Val Epoch:5: 30it [00:09,  3.34it/s]39)\u001b[0m \n",
      "Val Epoch:5: 31it [00:09,  3.57it/s]39)\u001b[0m \n",
      "Val Epoch:5: 32it [00:10,  3.82it/s]39)\u001b[0m \n",
      "Val Epoch:5: 33it [00:10,  3.80it/s]39)\u001b[0m \n",
      "Val Epoch:5: 34it [00:10,  3.19it/s]39)\u001b[0m \n",
      "Val Epoch:5: 35it [00:11,  2.26it/s]39)\u001b[0m \n",
      "Val Epoch:5: 36it [00:11,  2.85it/s]39)\u001b[0m \n",
      "Val Epoch:5: 37it [00:12,  1.56it/s]39)\u001b[0m \n",
      "Val Epoch:5: 38it [00:13,  1.99it/s]39)\u001b[0m \n",
      "Val Epoch:5: 39it [00:13,  2.45it/s]39)\u001b[0m \n",
      "Val Epoch:5: 40it [00:13,  2.99it/s]39)\u001b[0m \n",
      "Val Epoch:5: 41it [00:13,  2.78it/s]39)\u001b[0m \n",
      "Val Epoch:5: 42it [00:14,  2.80it/s]39)\u001b[0m \n",
      "Val Epoch:5: 43it [00:14,  3.21it/s]39)\u001b[0m \n",
      "Val Epoch:5: 44it [00:14,  3.98it/s]39)\u001b[0m \n",
      "Val Epoch:5: 45it [00:14,  3.91it/s]39)\u001b[0m \n",
      "Val Epoch:5: 46it [00:15,  3.92it/s]39)\u001b[0m \n",
      "Val Epoch:5: 47it [00:15,  4.49it/s]39)\u001b[0m \n",
      "Val Epoch:5: 48it [00:15,  4.67it/s]39)\u001b[0m \n",
      "Val Epoch:5: 49it [00:15,  4.68it/s]39)\u001b[0m \n",
      "Val Epoch:5: 50it [00:15,  4.58it/s]39)\u001b[0m \n",
      "Val Epoch:5: 50it [00:16,  2.96it/s]39)\u001b[0m \n"
     ]
    },
    {
     "name": "stdout",
     "output_type": "stream",
     "text": [
      "\u001b[36m(tune_with_parameters pid=2663639)\u001b[0m loss: 0.583\n",
      "\u001b[36m(tune_with_parameters pid=2663640)\u001b[0m loss: 0.586\n",
      "\u001b[36m(tune_with_parameters pid=2663638)\u001b[0m loss: 0.584\n",
      "\u001b[36m(tune_with_parameters pid=2663641)\u001b[0m loss: 0.592\n",
      "\u001b[36m(tune_with_parameters pid=2663639)\u001b[0m loss: 0.586\n",
      "\u001b[36m(tune_with_parameters pid=2663640)\u001b[0m loss: 0.585\n",
      "\u001b[36m(tune_with_parameters pid=2663638)\u001b[0m loss: 0.586\n",
      "\u001b[36m(tune_with_parameters pid=2663641)\u001b[0m loss: 0.594\n"
     ]
    },
    {
     "name": "stderr",
     "output_type": "stream",
     "text": [
      "Val Epoch:6: 0it [00:00, ?it/s]2663640)\u001b[0m \n",
      "Val Epoch:6: 1it [00:01,  1.73s/it]640)\u001b[0m \n",
      "Val Epoch:6: 4it [00:02,  2.42it/s]640)\u001b[0m \n",
      "Val Epoch:6: 6it [00:02,  3.89it/s]640)\u001b[0m \n",
      "Val Epoch:6: 9it [00:02,  3.78it/s]640)\u001b[0m \n",
      "Val Epoch:6: 11it [00:03,  4.77it/s]40)\u001b[0m \n",
      "Val Epoch:6: 14it [00:03,  6.36it/s]40)\u001b[0m \n",
      "Val Epoch:6: 16it [00:03,  5.83it/s]40)\u001b[0m \n",
      "Val Epoch:6: 17it [00:05,  2.63it/s]40)\u001b[0m \n",
      "Val Epoch:6: 19it [00:05,  3.35it/s]40)\u001b[0m \n",
      "Val Epoch:6: 21it [00:05,  3.75it/s]40)\u001b[0m \n",
      "Val Epoch:6: 23it [00:06,  4.37it/s]40)\u001b[0m \n",
      "Val Epoch:6: 25it [00:07,  3.41it/s]40)\u001b[0m \n",
      "Val Epoch:6: 26it [00:07,  3.22it/s]40)\u001b[0m \n",
      "Val Epoch:6: 27it [00:07,  2.90it/s]40)\u001b[0m \n",
      "Val Epoch:6: 0it [00:00, ?it/s]2663638)\u001b[0m \n",
      "Val Epoch:6: 31it [00:08,  4.68it/s]40)\u001b[0m \n",
      "Val Epoch:6: 33it [00:08,  4.07it/s]40)\u001b[0m \n",
      "Val Epoch:6: 34it [00:09,  3.55it/s]40)\u001b[0m \n",
      "Val Epoch:6: 35it [00:09,  3.18it/s]40)\u001b[0m \n",
      "Val Epoch:6: 37it [00:10,  4.48it/s]40)\u001b[0m \n",
      "Val Epoch:6: 6it [00:03,  2.32it/s]\u001b[32m [repeated 16x across cluster]\u001b[0m\n",
      "Val Epoch:6: 0it [00:00, ?it/s]2663641)\u001b[0m \n"
     ]
    },
    {
     "name": "stdout",
     "output_type": "stream",
     "text": [
      "\u001b[36m(tune_with_parameters pid=2663639)\u001b[0m loss: 0.586\n"
     ]
    },
    {
     "name": "stderr",
     "output_type": "stream",
     "text": [
      "Val Epoch:6: 19it [00:10,  1.40it/s]\u001b[32m [repeated 27x across cluster]\u001b[0m\n",
      "Val Epoch:6: 28it [00:15,  1.49it/s]\u001b[32m [repeated 16x across cluster]\u001b[0m\n",
      "Val Epoch:6: 37it [00:20,  1.97it/s]\u001b[32m [repeated 17x across cluster]\u001b[0m\n"
     ]
    },
    {
     "name": "stdout",
     "output_type": "stream",
     "text": [
      "\u001b[36m(tune_with_parameters pid=2663640)\u001b[0m loss: 0.603\n"
     ]
    },
    {
     "name": "stderr",
     "output_type": "stream",
     "text": [
      "Val Epoch:6: 0it [00:00, ?it/s]2663639)\u001b[0m \n",
      "Val Epoch:6: 50it [00:23,  2.14it/s]\u001b[32m [repeated 18x across cluster]\u001b[0m\n"
     ]
    },
    {
     "name": "stdout",
     "output_type": "stream",
     "text": [
      "\u001b[36m(tune_with_parameters pid=2663638)\u001b[0m loss: 0.566\n",
      "\u001b[36m(tune_with_parameters pid=2663641)\u001b[0m loss: 0.610\n"
     ]
    },
    {
     "name": "stderr",
     "output_type": "stream",
     "text": [
      "Val Epoch:6: 8it [00:04,  1.94it/s]\u001b[32m [repeated 8x across cluster]\u001b[0m\n",
      "Val Epoch:6: 17it [00:09,  1.53it/s]\u001b[32m [repeated 9x across cluster]\u001b[0m\n",
      "Val Epoch:6: 28it [00:15,  1.48it/s]\u001b[32m [repeated 11x across cluster]\u001b[0m\n",
      "Val Epoch:6: 41it [00:20,  2.42it/s]\u001b[32m [repeated 13x across cluster]\u001b[0m\n"
     ]
    },
    {
     "name": "stdout",
     "output_type": "stream",
     "text": [
      "\u001b[36m(tune_with_parameters pid=2663639)\u001b[0m loss: 0.617\n",
      "\u001b[36m(tune_with_parameters pid=2663640)\u001b[0m loss: 0.581\n",
      "\u001b[36m(tune_with_parameters pid=2663638)\u001b[0m loss: 0.586\n",
      "\u001b[36m(tune_with_parameters pid=2663641)\u001b[0m loss: 0.593\n",
      "\u001b[36m(tune_with_parameters pid=2663639)\u001b[0m loss: 0.586\n",
      "\u001b[36m(tune_with_parameters pid=2663640)\u001b[0m loss: 0.583\n",
      "\u001b[36m(tune_with_parameters pid=2663638)\u001b[0m loss: 0.586\n",
      "\u001b[36m(tune_with_parameters pid=2663641)\u001b[0m loss: 0.593\n"
     ]
    },
    {
     "name": "stderr",
     "output_type": "stream",
     "text": [
      "Val Epoch:7: 0it [00:00, ?it/s]2663640)\u001b[0m \n",
      "Val Epoch:6: 50it [00:23,  2.17it/s]\u001b[32m [repeated 6x across cluster]\u001b[0m\n",
      "Val Epoch:7: 17it [00:05,  3.80it/s]\u001b[32m [repeated 10x across cluster]\u001b[0m\n",
      "Val Epoch:7: 0it [00:00, ?it/s]2663638)\u001b[0m \n",
      "Val Epoch:7: 30it [00:10,  2.66it/s]\u001b[32m [repeated 11x across cluster]\u001b[0m\n",
      "Val Epoch:7: 38it [00:15,  1.71it/s]\u001b[32m [repeated 8x across cluster]\u001b[0m\n",
      "Val Epoch:7: 0it [00:00, ?it/s]2663641)\u001b[0m \n",
      "Val Epoch:7: 49it [00:21,  1.78it/s]\u001b[32m [repeated 21x across cluster]\u001b[0m\n"
     ]
    },
    {
     "name": "stdout",
     "output_type": "stream",
     "text": [
      "\u001b[36m(tune_with_parameters pid=2663639)\u001b[0m loss: 0.586\n"
     ]
    },
    {
     "name": "stderr",
     "output_type": "stream",
     "text": [
      "Val Epoch:7: 17it [00:08,  3.66it/s]\u001b[32m [repeated 24x across cluster]\u001b[0m\n"
     ]
    },
    {
     "name": "stdout",
     "output_type": "stream",
     "text": [
      "\u001b[36m(tune_with_parameters pid=2663640)\u001b[0m loss: 0.569\n"
     ]
    },
    {
     "name": "stderr",
     "output_type": "stream",
     "text": [
      "Val Epoch:7: 40it [00:13,  7.02it/s]\u001b[32m [repeated 28x across cluster]\u001b[0m\n",
      "Val Epoch:7: 0it [00:00, ?it/s]2663639)\u001b[0m \n",
      "Val Epoch:7: 50it [00:15,  3.18it/s]\u001b[32m [repeated 6x across cluster]\u001b[0m\n"
     ]
    },
    {
     "name": "stdout",
     "output_type": "stream",
     "text": [
      "\u001b[36m(tune_with_parameters pid=2663638)\u001b[0m loss: 0.600\n",
      "\u001b[36m(tune_with_parameters pid=2663641)\u001b[0m loss: 0.589\n"
     ]
    },
    {
     "name": "stderr",
     "output_type": "stream",
     "text": [
      "Val Epoch:7: 1it [00:06,  6.40s/it]639)\u001b[0m \n",
      "Val Epoch:7: 2it [00:06,  2.72s/it]639)\u001b[0m \n",
      "Val Epoch:7: 3it [00:06,  1.56s/it]639)\u001b[0m \n",
      "Val Epoch:7: 4it [00:06,  1.02s/it]639)\u001b[0m \n",
      "Val Epoch:7: 5it [00:07,  1.34it/s]639)\u001b[0m \n",
      "Val Epoch:7: 6it [00:07,  1.83it/s]639)\u001b[0m \n",
      "Val Epoch:7: 7it [00:07,  2.05it/s]639)\u001b[0m \n",
      "Val Epoch:7: 8it [00:07,  2.67it/s]639)\u001b[0m \n",
      "Val Epoch:7: 9it [00:08,  1.68it/s]639)\u001b[0m \n",
      "Val Epoch:7: 11it [00:09,  2.37it/s]39)\u001b[0m \n",
      "Val Epoch:7: 12it [00:09,  2.52it/s]39)\u001b[0m \n",
      "Val Epoch:7: 14it [00:09,  3.87it/s]39)\u001b[0m \n",
      "Val Epoch:7: 16it [00:09,  5.28it/s]39)\u001b[0m \n",
      "Val Epoch:7: 17it [00:10,  4.91it/s]39)\u001b[0m \n",
      "Val Epoch:7: 18it [00:10,  3.88it/s]39)\u001b[0m \n",
      "Val Epoch:7: 19it [00:10,  4.21it/s]39)\u001b[0m \n",
      "Val Epoch:7: 20it [00:11,  4.10it/s]39)\u001b[0m \n",
      "Val Epoch:7: 22it [00:11,  5.60it/s]39)\u001b[0m \n",
      "Val Epoch:7: 23it [00:11,  5.93it/s]39)\u001b[0m \n",
      "Val Epoch:7: 25it [00:11,  5.81it/s]39)\u001b[0m \n",
      "Val Epoch:7: 26it [00:12,  4.96it/s]39)\u001b[0m \n",
      "Val Epoch:7: 27it [00:12,  4.51it/s]39)\u001b[0m \n",
      "Val Epoch:7: 28it [00:12,  4.63it/s]39)\u001b[0m \n",
      "Val Epoch:7: 30it [00:12,  5.90it/s]39)\u001b[0m \n",
      "Val Epoch:7: 32it [00:12,  7.12it/s]39)\u001b[0m \n",
      "Val Epoch:7: 33it [00:13,  5.51it/s]39)\u001b[0m \n",
      "Val Epoch:7: 34it [00:13,  3.76it/s]39)\u001b[0m \n",
      "Val Epoch:7: 35it [00:14,  3.50it/s]39)\u001b[0m \n",
      "Val Epoch:7: 36it [00:14,  3.66it/s]39)\u001b[0m \n",
      "Val Epoch:7: 38it [00:14,  5.29it/s]39)\u001b[0m \n",
      "Val Epoch:7: 39it [00:14,  5.78it/s]39)\u001b[0m \n",
      "Val Epoch:7: 41it [00:15,  5.99it/s]39)\u001b[0m \n",
      "Val Epoch:7: 42it [00:15,  4.47it/s]39)\u001b[0m \n",
      "Val Epoch:7: 44it [00:15,  4.98it/s]39)\u001b[0m \n",
      "Val Epoch:7: 45it [00:15,  5.42it/s]39)\u001b[0m \n",
      "Val Epoch:7: 47it [00:16,  7.15it/s]39)\u001b[0m \n",
      "Val Epoch:7: 48it [00:16,  7.45it/s]39)\u001b[0m \n",
      "Val Epoch:7: 49it [00:16,  7.55it/s]39)\u001b[0m \n",
      "Val Epoch:7: 50it [00:16,  2.97it/s]39)\u001b[0m \n"
     ]
    },
    {
     "name": "stdout",
     "output_type": "stream",
     "text": [
      "\u001b[36m(tune_with_parameters pid=2663639)\u001b[0m loss: 0.584\n",
      "\u001b[36m(tune_with_parameters pid=2663640)\u001b[0m loss: 0.583\n",
      "\u001b[36m(tune_with_parameters pid=2663638)\u001b[0m loss: 0.587\n",
      "\u001b[36m(tune_with_parameters pid=2663641)\u001b[0m loss: 0.591\n",
      "\u001b[36m(tune_with_parameters pid=2663639)\u001b[0m loss: 0.587\n",
      "\u001b[36m(tune_with_parameters pid=2663640)\u001b[0m loss: 0.581\n",
      "\u001b[36m(tune_with_parameters pid=2663638)\u001b[0m loss: 0.586\n",
      "\u001b[36m(tune_with_parameters pid=2663641)\u001b[0m loss: 0.591\n"
     ]
    },
    {
     "name": "stderr",
     "output_type": "stream",
     "text": [
      "Val Epoch:8: 0it [00:00, ?it/s]2663640)\u001b[0m \n",
      "Val Epoch:8: 1it [00:06,  6.12s/it]640)\u001b[0m \n",
      "Val Epoch:8: 2it [00:06,  2.72s/it]640)\u001b[0m \n",
      "Val Epoch:8: 3it [00:06,  1.57s/it]640)\u001b[0m \n",
      "Val Epoch:8: 4it [00:07,  1.08s/it]640)\u001b[0m \n",
      "Val Epoch:8: 5it [00:07,  1.17it/s]640)\u001b[0m \n",
      "Val Epoch:8: 6it [00:07,  1.56it/s]640)\u001b[0m \n",
      "Val Epoch:8: 8it [00:08,  1.86it/s]640)\u001b[0m \n",
      "Val Epoch:8: 9it [00:09,  1.48it/s]640)\u001b[0m \n",
      "Val Epoch:8: 10it [00:09,  1.82it/s]40)\u001b[0m \n",
      "Val Epoch:8: 0it [00:00, ?it/s]2663638)\u001b[0m \n",
      "Val Epoch:8: 11it [00:10,  1.65it/s]40)\u001b[0m \n",
      "Val Epoch:8: 12it [00:11,  1.48it/s]40)\u001b[0m \n",
      "Val Epoch:8: 13it [00:11,  1.87it/s]40)\u001b[0m \n",
      "Val Epoch:8: 14it [00:11,  2.41it/s]40)\u001b[0m \n",
      "Val Epoch:8: 15it [00:11,  2.99it/s]40)\u001b[0m \n",
      "Val Epoch:8: 17it [00:13,  1.67it/s]40)\u001b[0m \n",
      "Val Epoch:8: 11it [00:06,  2.93it/s]\u001b[32m [repeated 11x across cluster]\u001b[0m\n",
      "Val Epoch:8: 0it [00:00, ?it/s]2663641)\u001b[0m \n"
     ]
    },
    {
     "name": "stdout",
     "output_type": "stream",
     "text": [
      "\u001b[36m(tune_with_parameters pid=2663639)\u001b[0m loss: 0.586\n"
     ]
    },
    {
     "name": "stderr",
     "output_type": "stream",
     "text": [
      "Val Epoch:8: 14it [00:04,  4.43it/s]\u001b[32m [repeated 38x across cluster]\u001b[0m\n",
      "Val Epoch:8: 34it [00:12,  1.03s/it]\u001b[32m [repeated 22x across cluster]\u001b[0m\n",
      "Val Epoch:8: 46it [00:17,  2.16it/s]\u001b[32m [repeated 6x across cluster]\u001b[0m\n"
     ]
    },
    {
     "name": "stdout",
     "output_type": "stream",
     "text": [
      "\u001b[36m(tune_with_parameters pid=2663640)\u001b[0m loss: 0.565\n",
      "\u001b[36m(tune_with_parameters pid=2663638)\u001b[0m loss: 0.559\n"
     ]
    },
    {
     "name": "stderr",
     "output_type": "stream",
     "text": [
      "Val Epoch:8: 0it [00:00, ?it/s]2663639)\u001b[0m \n",
      "Val Epoch:8: 50it [00:19,  2.55it/s]\u001b[32m [repeated 4x across cluster]\u001b[0m\n"
     ]
    },
    {
     "name": "stdout",
     "output_type": "stream",
     "text": [
      "\u001b[36m(tune_with_parameters pid=2663641)\u001b[0m loss: 0.606\n"
     ]
    },
    {
     "name": "stderr",
     "output_type": "stream",
     "text": [
      "Val Epoch:8: 18it [00:05,  3.83it/s]\u001b[32m [repeated 14x across cluster]\u001b[0m\n",
      "Val Epoch:8: 36it [00:10,  2.84it/s]\u001b[32m [repeated 15x across cluster]\u001b[0m\n"
     ]
    },
    {
     "name": "stdout",
     "output_type": "stream",
     "text": [
      "\u001b[36m(tune_with_parameters pid=2663639)\u001b[0m loss: 0.579\n",
      "\u001b[36m(tune_with_parameters pid=2663640)\u001b[0m loss: 0.582\n",
      "\u001b[36m(tune_with_parameters pid=2663641)\u001b[0m loss: 0.591\u001b[32m [repeated 2x across cluster]\u001b[0m\n",
      "\u001b[36m(tune_with_parameters pid=2663639)\u001b[0m loss: 0.586\n",
      "\u001b[36m(tune_with_parameters pid=2663640)\u001b[0m loss: 0.585\n",
      "\u001b[36m(tune_with_parameters pid=2663641)\u001b[0m loss: 0.590\u001b[32m [repeated 2x across cluster]\u001b[0m\n"
     ]
    },
    {
     "name": "stderr",
     "output_type": "stream",
     "text": [
      "Val Epoch:9: 0it [00:00, ?it/s]2663640)\u001b[0m \n",
      "Val Epoch:8: 50it [00:14,  3.36it/s]\u001b[32m [repeated 15x across cluster]\u001b[0m\n",
      "Val Epoch:9: 0it [00:00, ?it/s]2663638)\u001b[0m \n",
      "Val Epoch:9: 18it [00:06,  3.40it/s]\u001b[32m [repeated 10x across cluster]\u001b[0m\n",
      "Val Epoch:9: 0it [00:00, ?it/s]2663641)\u001b[0m \n",
      "Val Epoch:9: 17it [00:06,  2.50it/s]\u001b[32m [repeated 19x across cluster]\u001b[0m\n"
     ]
    },
    {
     "name": "stdout",
     "output_type": "stream",
     "text": [
      "\u001b[36m(tune_with_parameters pid=2663639)\u001b[0m loss: 0.586\n"
     ]
    },
    {
     "name": "stderr",
     "output_type": "stream",
     "text": [
      "Val Epoch:9: 8it [00:06,  2.84it/s]\u001b[32m [repeated 30x across cluster]\u001b[0m\n",
      "Val Epoch:9: 40it [00:17,  2.24it/s]\u001b[32m [repeated 18x across cluster]\u001b[0m\n",
      "Val Epoch:9: 50it [00:22,  1.85it/s]\u001b[32m [repeated 16x across cluster]\u001b[0m\n",
      "Val Epoch:9: 26it [00:17,  1.58it/s]41)\u001b[0m \n"
     ]
    },
    {
     "name": "stdout",
     "output_type": "stream",
     "text": [
      "\u001b[36m(tune_with_parameters pid=2663640)\u001b[0m loss: 0.591\n"
     ]
    },
    {
     "name": "stderr",
     "output_type": "stream",
     "text": [
      "Val Epoch:9: 42it [00:21,  3.58it/s]\u001b[32m [repeated 14x across cluster]\u001b[0m\n"
     ]
    },
    {
     "name": "stdout",
     "output_type": "stream",
     "text": [
      "\u001b[36m(tune_with_parameters pid=2663638)\u001b[0m loss: 0.570\n"
     ]
    },
    {
     "name": "stderr",
     "output_type": "stream",
     "text": [
      "Val Epoch:9: 0it [00:00, ?it/s]2663639)\u001b[0m \n",
      "Val Epoch:9: 50it [00:23,  2.11it/s]\u001b[32m [repeated 4x across cluster]\u001b[0m\n"
     ]
    },
    {
     "name": "stdout",
     "output_type": "stream",
     "text": [
      "\u001b[36m(tune_with_parameters pid=2663641)\u001b[0m loss: 0.578\n"
     ]
    },
    {
     "name": "stderr",
     "output_type": "stream",
     "text": [
      "Val Epoch:9: 9it [00:05,  1.61it/s]\u001b[32m [repeated 9x across cluster]\u001b[0m\n",
      "Val Epoch:9: 22it [00:11,  2.31it/s]\u001b[32m [repeated 13x across cluster]\u001b[0m\n",
      "Val Epoch:9: 33it [00:17,  1.19it/s]\u001b[32m [repeated 11x across cluster]\u001b[0m\n",
      "Val Epoch:9: 49it [00:23,  2.90it/s]\u001b[32m [repeated 14x across cluster]\u001b[0m\n"
     ]
    },
    {
     "name": "stdout",
     "output_type": "stream",
     "text": [
      "\u001b[36m(tune_with_parameters pid=2663639)\u001b[0m loss: 0.577\n",
      "\u001b[36m(tune_with_parameters pid=2663640)\u001b[0m loss: 0.585\n",
      "\u001b[36m(tune_with_parameters pid=2663641)\u001b[0m loss: 0.589\u001b[32m [repeated 2x across cluster]\u001b[0m\n",
      "\u001b[36m(tune_with_parameters pid=2663639)\u001b[0m loss: 0.585\n",
      "\u001b[36m(tune_with_parameters pid=2663640)\u001b[0m loss: 0.586\n",
      "\u001b[36m(tune_with_parameters pid=2663641)\u001b[0m loss: 0.589\u001b[32m [repeated 2x across cluster]\u001b[0m\n"
     ]
    },
    {
     "name": "stderr",
     "output_type": "stream",
     "text": [
      "Val Epoch:10: 0it [00:00, ?it/s]663640)\u001b[0m \n",
      "Val Epoch:9: 50it [00:23,  2.10it/s]\u001b[32m [repeated 2x across cluster]\u001b[0m\n",
      "Val Epoch:10: 0it [00:00, ?it/s]663638)\u001b[0m \n",
      "Val Epoch:10: 9it [00:05,  1.38it/s]\u001b[32m [repeated 8x across cluster]\u001b[0m\n",
      "Val Epoch:10: 17it [00:11,  1.24s/it]\u001b[32m [repeated 12x across cluster]\u001b[0m\n",
      "Val Epoch:10: 0it [00:00, ?it/s]663641)\u001b[0m \n",
      "Val Epoch:10: 26it [00:16,  1.19it/s]\u001b[32m [repeated 15x across cluster]\u001b[0m\n",
      "Val Epoch:10: 5it [00:06,  1.30it/s]\u001b[32m [repeated 25x across cluster]\u001b[0m\n"
     ]
    },
    {
     "name": "stdout",
     "output_type": "stream",
     "text": [
      "\u001b[36m(tune_with_parameters pid=2663639)\u001b[0m loss: 0.586\n"
     ]
    },
    {
     "name": "stderr",
     "output_type": "stream",
     "text": [
      "Val Epoch:10: 50it [00:22,  2.18it/s]\u001b[32m [repeated 38x across cluster]\u001b[0m\n"
     ]
    },
    {
     "name": "stdout",
     "output_type": "stream",
     "text": [
      "\u001b[36m(tune_with_parameters pid=2663640)\u001b[0m loss: 0.584\n"
     ]
    },
    {
     "name": "stderr",
     "output_type": "stream",
     "text": [
      "Val Epoch:10: 0it [00:00, ?it/s]663639)\u001b[0m \n",
      "Val Epoch:10: 50it [00:15,  3.15it/s]\u001b[32m [repeated 9x across cluster]\u001b[0m\n"
     ]
    },
    {
     "name": "stdout",
     "output_type": "stream",
     "text": [
      "\u001b[36m(tune_with_parameters pid=2663641)\u001b[0m loss: 0.585\u001b[32m [repeated 2x across cluster]\u001b[0m\n"
     ]
    },
    {
     "name": "stderr",
     "output_type": "stream",
     "text": [
      "Val Epoch:10: 2it [00:05,  2.34s/it]\u001b[32m [repeated 2x across cluster]\u001b[0m\n",
      "Val Epoch:10: 25it [00:10,  4.76it/s]\u001b[32m [repeated 17x across cluster]\u001b[0m\n"
     ]
    },
    {
     "name": "stdout",
     "output_type": "stream",
     "text": [
      "\u001b[36m(tune_with_parameters pid=2663639)\u001b[0m loss: 0.591\n",
      "\u001b[36m(tune_with_parameters pid=2663640)\u001b[0m loss: 0.585\n",
      "\u001b[36m(tune_with_parameters pid=2663638)\u001b[0m loss: 0.586\n",
      "\u001b[36m(tune_with_parameters pid=2663641)\u001b[0m loss: 0.589\n",
      "\u001b[36m(tune_with_parameters pid=2663639)\u001b[0m loss: 0.586\n",
      "\u001b[36m(tune_with_parameters pid=2663640)\u001b[0m loss: 0.583\n",
      "\u001b[36m(tune_with_parameters pid=2663641)\u001b[0m loss: 0.589\u001b[32m [repeated 2x across cluster]\u001b[0m\n"
     ]
    },
    {
     "name": "stderr",
     "output_type": "stream",
     "text": [
      "Val Epoch:11: 0it [00:00, ?it/s]663640)\u001b[0m \n",
      "Val Epoch:10: 50it [00:14,  3.33it/s]\u001b[32m [repeated 16x across cluster]\u001b[0m\n",
      "Val Epoch:11: 3it [00:05,  1.34s/it]\u001b[32m [repeated 2x across cluster]\u001b[0m\n",
      "Val Epoch:11: 0it [00:00, ?it/s]663638)\u001b[0m \n",
      "Val Epoch:11: 2it [00:04,  2.04s/it]\u001b[32m [repeated 10x across cluster]\u001b[0m\n",
      "Val Epoch:11: 0it [00:00, ?it/s]663641)\u001b[0m \n",
      "Val Epoch:11: 18it [00:10,  3.17it/s]\u001b[32m [repeated 25x across cluster]\u001b[0m\n"
     ]
    },
    {
     "name": "stdout",
     "output_type": "stream",
     "text": [
      "\u001b[36m(tune_with_parameters pid=2663639)\u001b[0m loss: 0.586\n"
     ]
    },
    {
     "name": "stderr",
     "output_type": "stream",
     "text": [
      "Val Epoch:11: 26it [00:06,  4.11it/s]\u001b[32m [repeated 41x across cluster]\u001b[0m\n",
      "Val Epoch:11: 41it [00:13,  1.41it/s]\u001b[32m [repeated 10x across cluster]\u001b[0m\n"
     ]
    },
    {
     "name": "stdout",
     "output_type": "stream",
     "text": [
      "\u001b[36m(tune_with_parameters pid=2663640)\u001b[0m loss: 0.563\n",
      "\u001b[36m(tune_with_parameters pid=2663641)\u001b[0m loss: 0.578\u001b[32m [repeated 2x across cluster]\u001b[0m\n"
     ]
    },
    {
     "name": "stderr",
     "output_type": "stream",
     "text": [
      "Val Epoch:11: 0it [00:00, ?it/s]663639)\u001b[0m \n",
      "Val Epoch:11: 50it [00:18,  2.74it/s]\u001b[32m [repeated 9x across cluster]\u001b[0m\n",
      "Val Epoch:11: 12it [00:05,  3.01it/s]\u001b[32m [repeated 9x across cluster]\u001b[0m\n",
      "Val Epoch:11: 30it [00:10,  2.97it/s]\u001b[32m [repeated 17x across cluster]\u001b[0m\n",
      "Val Epoch:11: 41it [00:15,  2.22it/s]\u001b[32m [repeated 11x across cluster]\u001b[0m\n"
     ]
    },
    {
     "name": "stdout",
     "output_type": "stream",
     "text": [
      "\u001b[36m(tune_with_parameters pid=2663639)\u001b[0m loss: 0.600\n",
      "\u001b[36m(tune_with_parameters pid=2663640)\u001b[0m loss: 0.586\n",
      "\u001b[36m(tune_with_parameters pid=2663641)\u001b[0m loss: 0.589\u001b[32m [repeated 2x across cluster]\u001b[0m\n",
      "\u001b[36m(tune_with_parameters pid=2663639)\u001b[0m loss: 0.587\n",
      "\u001b[36m(tune_with_parameters pid=2663640)\u001b[0m loss: 0.584\n",
      "\u001b[36m(tune_with_parameters pid=2663641)\u001b[0m loss: 0.588\u001b[32m [repeated 2x across cluster]\u001b[0m\n"
     ]
    },
    {
     "name": "stderr",
     "output_type": "stream",
     "text": [
      "Val Epoch:12: 0it [00:00, ?it/s]663640)\u001b[0m \n",
      "Val Epoch:11: 50it [00:18,  2.66it/s]\u001b[32m [repeated 10x across cluster]\u001b[0m\n",
      "Val Epoch:12: 0it [00:00, ?it/s]663638)\u001b[0m \n",
      "Val Epoch:12: 9it [00:05,  2.16it/s]\u001b[32m [repeated 6x across cluster]\u001b[0m\n",
      "Val Epoch:12: 0it [00:00, ?it/s]663641)\u001b[0m \n",
      "Val Epoch:12: 11it [00:03,  4.95it/s]\u001b[32m [repeated 31x across cluster]\u001b[0m\n",
      "Val Epoch:12: 24it [00:08,  3.27it/s]\u001b[32m [repeated 34x across cluster]\u001b[0m\n"
     ]
    },
    {
     "name": "stdout",
     "output_type": "stream",
     "text": [
      "\u001b[36m(tune_with_parameters pid=2663639)\u001b[0m loss: 0.587\n"
     ]
    },
    {
     "name": "stderr",
     "output_type": "stream",
     "text": [
      "Val Epoch:12: 44it [00:16,  2.74it/s]\u001b[32m [repeated 22x across cluster]\u001b[0m\n",
      "Val Epoch:12: 44it [00:18,  2.02it/s]\u001b[32m [repeated 16x across cluster]\u001b[0m\n"
     ]
    },
    {
     "name": "stdout",
     "output_type": "stream",
     "text": [
      "\u001b[36m(tune_with_parameters pid=2663640)\u001b[0m loss: 0.604\n",
      "\u001b[36m(tune_with_parameters pid=2663641)\u001b[0m loss: 0.577\u001b[32m [repeated 2x across cluster]\u001b[0m\n"
     ]
    },
    {
     "name": "stderr",
     "output_type": "stream",
     "text": [
      "Val Epoch:12: 0it [00:00, ?it/s]663639)\u001b[0m \n",
      "Val Epoch:12: 50it [00:23,  2.15it/s]\u001b[32m [repeated 5x across cluster]\u001b[0m\n",
      "Val Epoch:12: 2it [00:05,  2.13s/it]\u001b[32m [repeated 2x across cluster]\u001b[0m\n",
      "Val Epoch:12: 13it [00:10,  1.84it/s]\u001b[32m [repeated 11x across cluster]\u001b[0m\n",
      "Val Epoch:12: 25it [00:16,  1.33it/s]\u001b[32m [repeated 12x across cluster]\u001b[0m\n"
     ]
    },
    {
     "name": "stdout",
     "output_type": "stream",
     "text": [
      "\u001b[36m(tune_with_parameters pid=2663639)\u001b[0m loss: 0.547\n",
      "\u001b[36m(tune_with_parameters pid=2663640)\u001b[0m loss: 0.584\n",
      "\u001b[36m(tune_with_parameters pid=2663641)\u001b[0m loss: 0.587\u001b[32m [repeated 2x across cluster]\u001b[0m\n",
      "\u001b[36m(tune_with_parameters pid=2663639)\u001b[0m loss: 0.586\n",
      "\u001b[36m(tune_with_parameters pid=2663640)\u001b[0m loss: 0.585\n",
      "\u001b[36m(tune_with_parameters pid=2663638)\u001b[0m loss: 0.586\n",
      "\u001b[36m(tune_with_parameters pid=2663641)\u001b[0m loss: 0.587\n"
     ]
    },
    {
     "name": "stderr",
     "output_type": "stream",
     "text": [
      "Val Epoch:13: 0it [00:00, ?it/s]663640)\u001b[0m \n",
      "Val Epoch:12: 50it [00:21,  2.34it/s]\u001b[32m [repeated 17x across cluster]\u001b[0m\n",
      "Val Epoch:13: 0it [00:00, ?it/s]663638)\u001b[0m \n",
      "Val Epoch:13: 4it [00:05,  1.25s/it]\u001b[32m [repeated 3x across cluster]\u001b[0m\n",
      "Val Epoch:13: 0it [00:00, ?it/s]663641)\u001b[0m \n",
      "Val Epoch:13: 9it [00:08,  1.48it/s]\u001b[32m [repeated 19x across cluster]\u001b[0m\n",
      "Val Epoch:13: 30it [00:16,  2.81it/s]\u001b[32m [repeated 23x across cluster]\u001b[0m\n",
      "Val Epoch:13: 18it [00:11,  1.59it/s]\u001b[32m [repeated 29x across cluster]\u001b[0m\n"
     ]
    },
    {
     "name": "stdout",
     "output_type": "stream",
     "text": [
      "\u001b[36m(tune_with_parameters pid=2663639)\u001b[0m loss: 0.585\n"
     ]
    },
    {
     "name": "stderr",
     "output_type": "stream",
     "text": [
      "Val Epoch:13: 44it [00:17,  5.22it/s]\u001b[32m [repeated 32x across cluster]\u001b[0m\n"
     ]
    },
    {
     "name": "stdout",
     "output_type": "stream",
     "text": [
      "\u001b[36m(tune_with_parameters pid=2663640)\u001b[0m loss: 0.581\n",
      "\u001b[36m(tune_with_parameters pid=2663641)\u001b[0m loss: 0.573\n"
     ]
    },
    {
     "name": "stderr",
     "output_type": "stream",
     "text": [
      "Val Epoch:13: 0it [00:00, ?it/s]663639)\u001b[0m \n",
      "Val Epoch:13: 50it [00:18,  2.68it/s]\u001b[32m [repeated 3x across cluster]\u001b[0m\n",
      "Val Epoch:13: 7it [00:05,  2.40it/s]\u001b[32m [repeated 7x across cluster]\u001b[0m\n",
      "Val Epoch:13: 27it [00:10,  6.67it/s]\u001b[32m [repeated 15x across cluster]\u001b[0m\n"
     ]
    },
    {
     "name": "stdout",
     "output_type": "stream",
     "text": [
      "\u001b[36m(tune_with_parameters pid=2663640)\u001b[0m loss: 0.587\n",
      "\u001b[36m(tune_with_parameters pid=2663640)\u001b[0m loss: 0.587\u001b[32m [repeated 2x across cluster]\u001b[0m\n"
     ]
    },
    {
     "name": "stderr",
     "output_type": "stream",
     "text": [
      "Val Epoch:14: 0it [00:00, ?it/s]663640)\u001b[0m \n",
      "Val Epoch:13: 50it [00:13,  3.58it/s]\u001b[32m [repeated 13x across cluster]\u001b[0m\n",
      "Val Epoch:14: 7it [00:05,  2.20it/s]\u001b[32m [repeated 5x across cluster]\u001b[0m\n",
      "Val Epoch:14: 0it [00:00, ?it/s]663641)\u001b[0m \n",
      "\u001b[36m(tune_with_parameters pid=2770411)\u001b[0m /users/k23058970/miniforge3/envs/Training/lib/python3.10/site-packages/torch/utils/data/dataloader.py:558: UserWarning: This DataLoader will create 8 worker processes in total. Our suggested max number of worker in current system is 2, which is smaller than what this DataLoader is going to create. Please be aware that excessive worker creation might get DataLoader running slow or even freeze, lower the worker number to avoid potential slowness/freeze if necessary.\n",
      "\u001b[36m(tune_with_parameters pid=2770411)\u001b[0m   warnings.warn(_create_warning_msg(\n",
      "Val Epoch:14: 17it [00:10,  1.71it/s]\u001b[32m [repeated 7x across cluster]\u001b[0m\n",
      "Val Epoch:14: 22it [00:08,  6.56it/s]\u001b[32m [repeated 30x across cluster]\u001b[0m\n"
     ]
    },
    {
     "name": "stdout",
     "output_type": "stream",
     "text": [
      "\u001b[36m(tune_with_parameters pid=2663640)\u001b[0m loss: 0.528\u001b[32m [repeated 2x across cluster]\u001b[0m\n"
     ]
    },
    {
     "name": "stderr",
     "output_type": "stream",
     "text": [
      "\u001b[36m(tune_with_parameters pid=2771257)\u001b[0m /users/k23058970/miniforge3/envs/Training/lib/python3.10/site-packages/torch/utils/data/dataloader.py:558: UserWarning: This DataLoader will create 8 worker processes in total. Our suggested max number of worker in current system is 2, which is smaller than what this DataLoader is going to create. Please be aware that excessive worker creation might get DataLoader running slow or even freeze, lower the worker number to avoid potential slowness/freeze if necessary.\n",
      "\u001b[36m(tune_with_parameters pid=2771257)\u001b[0m   warnings.warn(_create_warning_msg(\n",
      "Val Epoch:14: 50it [00:13,  3.77it/s]\u001b[32m [repeated 20x across cluster]\u001b[0m\n",
      "\u001b[36m(tune_with_parameters pid=2770411)\u001b[0m /users/k23058970/miniforge3/envs/Training/lib/python3.10/site-packages/torch/nn/modules/lazy.py:181: UserWarning: Lazy modules are a new feature under heavy development so changes to the API or functionality can happen at any moment.\n",
      "\u001b[36m(tune_with_parameters pid=2770411)\u001b[0m   warnings.warn('Lazy modules are a new feature under heavy development '\n",
      "\u001b[36m(tune_with_parameters pid=2771257)\u001b[0m /users/k23058970/miniforge3/envs/Training/lib/python3.10/site-packages/torch/nn/modules/lazy.py:181: UserWarning: Lazy modules are a new feature under heavy development so changes to the API or functionality can happen at any moment.\n",
      "\u001b[36m(tune_with_parameters pid=2771257)\u001b[0m   warnings.warn('Lazy modules are a new feature under heavy development '\n"
     ]
    },
    {
     "name": "stdout",
     "output_type": "stream",
     "text": [
      "\u001b[36m(tune_with_parameters pid=2663640)\u001b[0m loss: 0.585\u001b[32m [repeated 2x across cluster]\u001b[0m\n"
     ]
    },
    {
     "name": "stderr",
     "output_type": "stream",
     "text": [
      "\u001b[36m(tune_with_parameters pid=2770411)\u001b[0m /users/k23058970/miniforge3/envs/Training/lib/python3.10/site-packages/torch/utils/data/dataloader.py:558: UserWarning: This DataLoader will create 8 worker processes in total. Our suggested max number of worker in current system is 2, which is smaller than what this DataLoader is going to create. Please be aware that excessive worker creation might get DataLoader running slow or even freeze, lower the worker number to avoid potential slowness/freeze if necessary.\n",
      "\u001b[36m(tune_with_parameters pid=2770411)\u001b[0m   warnings.warn(_create_warning_msg(\n"
     ]
    },
    {
     "name": "stdout",
     "output_type": "stream",
     "text": [
      "\u001b[36m(tune_with_parameters pid=2770411)\u001b[0m loss: 0.711\u001b[32m [repeated 2x across cluster]\u001b[0m\n"
     ]
    },
    {
     "name": "stderr",
     "output_type": "stream",
     "text": [
      "\u001b[36m(tune_with_parameters pid=2771257)\u001b[0m /users/k23058970/miniforge3/envs/Training/lib/python3.10/site-packages/torch/utils/data/dataloader.py:558: UserWarning: This DataLoader will create 8 worker processes in total. Our suggested max number of worker in current system is 2, which is smaller than what this DataLoader is going to create. Please be aware that excessive worker creation might get DataLoader running slow or even freeze, lower the worker number to avoid potential slowness/freeze if necessary.\n",
      "\u001b[36m(tune_with_parameters pid=2771257)\u001b[0m   warnings.warn(_create_warning_msg(\n"
     ]
    },
    {
     "name": "stdout",
     "output_type": "stream",
     "text": [
      "\u001b[36m(tune_with_parameters pid=2771257)\u001b[0m loss: 0.681\n",
      "\u001b[36m(tune_with_parameters pid=2663640)\u001b[0m loss: 0.586\n",
      "\u001b[36m(tune_with_parameters pid=2770411)\u001b[0m loss: 0.593\u001b[32m [repeated 2x across cluster]\u001b[0m\n"
     ]
    },
    {
     "name": "stderr",
     "output_type": "stream",
     "text": [
      "Val Epoch:15: 0it [00:00, ?it/s]663640)\u001b[0m \n",
      "Val Epoch:15: 1it [00:02,  2.58s/it]40)\u001b[0m \n",
      "Val Epoch:15: 4it [00:03,  1.42it/s]40)\u001b[0m \n",
      "Val Epoch:15: 6it [00:03,  2.32it/s]40)\u001b[0m \n",
      "Val Epoch:15: 8it [00:03,  3.13it/s]40)\u001b[0m \n",
      "Val Epoch:15: 9it [00:04,  2.67it/s]40)\u001b[0m \n",
      "Val Epoch:15: 10it [00:04,  3.22it/s]0)\u001b[0m \n",
      "Val Epoch:15: 12it [00:05,  3.47it/s]0)\u001b[0m \n",
      "Val Epoch:15: 0it [00:00, ?it/s]663641)\u001b[0m \n",
      "Val Epoch:15: 14it [00:05,  3.77it/s]0)\u001b[0m \n",
      "Val Epoch:15: 25it [00:07,  5.79it/s]\u001b[32m [repeated 12x across cluster]\u001b[0m\n",
      "Val Epoch:15: 45it [00:12,  2.90it/s]\u001b[32m [repeated 26x across cluster]\u001b[0m\n",
      "Val Epoch:15: 33it [00:14,  1.08it/s]\u001b[32m [repeated 13x across cluster]\u001b[0m\n",
      "Val Epoch:15: 49it [00:21,  1.68it/s]\u001b[32m [repeated 11x across cluster]\u001b[0m\n"
     ]
    },
    {
     "name": "stdout",
     "output_type": "stream",
     "text": [
      "\u001b[36m(tune_with_parameters pid=2771257)\u001b[0m loss: 0.590\n",
      "\u001b[36m(tune_with_parameters pid=2663640)\u001b[0m loss: 0.592\n",
      "\u001b[36m(tune_with_parameters pid=2663641)\u001b[0m loss: 0.564\n",
      "\u001b[36m(tune_with_parameters pid=2770411)\u001b[0m loss: 0.590\n"
     ]
    },
    {
     "name": "stderr",
     "output_type": "stream",
     "text": [
      "Val Epoch:0: 0it [00:00, ?it/s]2770411)\u001b[0m \n",
      "Val Epoch:15: 50it [00:23,  2.16it/s]\u001b[32m [repeated 2x across cluster]\u001b[0m\n",
      "Val Epoch:0: 1it [00:05,  5.19s/it]411)\u001b[0m \n",
      "Val Epoch:0: 3it [00:05,  1.42s/it]411)\u001b[0m \n",
      "Val Epoch:0: 4it [00:05,  1.03it/s]411)\u001b[0m \n",
      "Val Epoch:0: 7it [00:05,  2.33it/s]411)\u001b[0m \n",
      "Val Epoch:0: 9it [00:06,  2.14it/s]411)\u001b[0m \n",
      "Val Epoch:0: 12it [00:06,  3.40it/s]11)\u001b[0m \n",
      "Val Epoch:0: 13it [00:07,  3.80it/s]11)\u001b[0m \n",
      "Val Epoch:0: 16it [00:07,  5.44it/s]11)\u001b[0m \n",
      "Val Epoch:0: 18it [00:08,  4.08it/s]11)\u001b[0m \n",
      "Val Epoch:0: 21it [00:08,  5.78it/s]11)\u001b[0m \n",
      "Val Epoch:0: 23it [00:08,  7.04it/s]11)\u001b[0m \n",
      "Val Epoch:0: 25it [00:09,  4.01it/s]11)\u001b[0m \n",
      "Val Epoch:0: 27it [00:09,  4.95it/s]11)\u001b[0m \n",
      "Val Epoch:0: 30it [00:09,  6.71it/s]11)\u001b[0m \n",
      "Val Epoch:0: 32it [00:09,  8.06it/s]11)\u001b[0m \n"
     ]
    },
    {
     "name": "stdout",
     "output_type": "stream",
     "text": [
      "\u001b[36m(tune_with_parameters pid=2771257)\u001b[0m loss: 0.588\n"
     ]
    },
    {
     "name": "stderr",
     "output_type": "stream",
     "text": [
      "Val Epoch:0: 34it [00:11,  3.89it/s]11)\u001b[0m \n",
      "Val Epoch:0: 36it [00:11,  4.78it/s]11)\u001b[0m \n",
      "Val Epoch:0: 38it [00:11,  6.05it/s]11)\u001b[0m \n",
      "Val Epoch:0: 40it [00:11,  7.20it/s]11)\u001b[0m \n"
     ]
    },
    {
     "name": "stdout",
     "output_type": "stream",
     "text": [
      "\u001b[36m(tune_with_parameters pid=2663640)\u001b[0m loss: 0.588\n"
     ]
    },
    {
     "name": "stderr",
     "output_type": "stream",
     "text": [
      "Val Epoch:0: 42it [00:12,  3.56it/s]11)\u001b[0m \n",
      "Val Epoch:0: 45it [00:12,  5.23it/s]11)\u001b[0m \n",
      "Val Epoch:0: 47it [00:13,  6.40it/s]11)\u001b[0m \n",
      "Val Epoch:0: 49it [00:13,  4.46it/s]11)\u001b[0m \n",
      "Val Epoch:0: 50it [00:14,  3.47it/s]11)\u001b[0m \n",
      "\u001b[36m(tune_with_parameters pid=2770411)\u001b[0m /scratch/users/k23058970/Model training/training_two_class_exvivo_lstm.py:63: RuntimeWarning: invalid value encountered in divide\n",
      "\u001b[36m(tune_with_parameters pid=2770411)\u001b[0m   self.precision = self.tp/(self.tp + self.fp)\n"
     ]
    },
    {
     "name": "stdout",
     "output_type": "stream",
     "text": [
      "\u001b[36m(tune_with_parameters pid=2770411)\u001b[0m /tmp/tmpoix8p2cb/checkpoint.pt\n"
     ]
    },
    {
     "name": "stderr",
     "output_type": "stream",
     "text": [
      "\u001b[36m(tune_with_parameters pid=2770411)\u001b[0m Checkpoint successfully created at: Checkpoint(filesystem=local, path=/scratch/users/k23058970/Model training/results/NSQ vs AC LSTM/tune_with_parameters_2024-07-30_13-33-38/tune_with_parameters_0ca84_00004_4_dp=0.1000,hidden_size=300,lr=0.0186,num_layers=1_2024-07-30_13-34-22/checkpoint_000000)\n"
     ]
    },
    {
     "name": "stdout",
     "output_type": "stream",
     "text": [
      "\u001b[36m(tune_with_parameters pid=2770411)\u001b[0m loss: 0.564\u001b[32m [repeated 2x across cluster]\u001b[0m\n"
     ]
    },
    {
     "name": "stderr",
     "output_type": "stream",
     "text": [
      "Val Epoch:0: 0it [00:00, ?it/s]2771257)\u001b[0m \n",
      "Val Epoch:0: 1it [00:02,  2.53s/it]257)\u001b[0m \n",
      "Val Epoch:0: 2it [00:02,  1.10s/it]257)\u001b[0m \n",
      "Val Epoch:0: 3it [00:02,  1.36it/s]257)\u001b[0m \n",
      "Val Epoch:0: 4it [00:03,  1.89it/s]257)\u001b[0m \n",
      "Val Epoch:0: 6it [00:03,  3.42it/s]257)\u001b[0m \n",
      "Val Epoch:0: 7it [00:03,  3.79it/s]257)\u001b[0m \n",
      "Val Epoch:0: 9it [00:03,  5.40it/s]257)\u001b[0m \n",
      "Val Epoch:0: 11it [00:03,  7.20it/s]57)\u001b[0m \n",
      "Val Epoch:0: 13it [00:04,  4.53it/s]57)\u001b[0m \n",
      "Val Epoch:0: 15it [00:04,  5.60it/s]57)\u001b[0m \n",
      "Val Epoch:0: 17it [00:05,  5.16it/s]57)\u001b[0m \n",
      "Val Epoch:0: 18it [00:05,  5.60it/s]57)\u001b[0m \n",
      "Val Epoch:0: 20it [00:05,  6.60it/s]57)\u001b[0m \n",
      "Val Epoch:0: 21it [00:05,  5.70it/s]57)\u001b[0m \n",
      "Val Epoch:0: 23it [00:05,  7.70it/s]57)\u001b[0m \n",
      "Val Epoch:0: 25it [00:06,  4.92it/s]57)\u001b[0m \n",
      "Val Epoch:0: 27it [00:06,  6.11it/s]57)\u001b[0m \n",
      "Val Epoch:0: 28it [00:06,  6.14it/s]57)\u001b[0m \n",
      "Val Epoch:0: 29it [00:07,  4.54it/s]57)\u001b[0m \n",
      "Val Epoch:0: 32it [00:07,  6.61it/s]57)\u001b[0m \n",
      "Val Epoch:0: 33it [00:07,  4.85it/s]57)\u001b[0m \n",
      "Val Epoch:0: 34it [00:08,  5.25it/s]57)\u001b[0m \n",
      "Val Epoch:0: 35it [00:08,  5.01it/s]57)\u001b[0m \n",
      "Val Epoch:0: 36it [00:08,  4.37it/s]57)\u001b[0m \n",
      "Val Epoch:0: 37it [00:09,  2.15it/s]57)\u001b[0m \n",
      "Val Epoch:0: 39it [00:09,  3.24it/s]57)\u001b[0m \n",
      "Val Epoch:0: 40it [00:10,  3.55it/s]57)\u001b[0m \n",
      "Val Epoch:0: 41it [00:11,  1.75it/s]57)\u001b[0m \n",
      "Val Epoch:0: 42it [00:11,  2.18it/s]57)\u001b[0m \n",
      "Val Epoch:0: 43it [00:11,  2.66it/s]57)\u001b[0m \n",
      "Val Epoch:0: 44it [00:12,  3.15it/s]57)\u001b[0m \n",
      "Val Epoch:0: 45it [00:13,  1.92it/s]57)\u001b[0m \n",
      "Val Epoch:0: 46it [00:13,  2.42it/s]57)\u001b[0m \n",
      "Val Epoch:0: 47it [00:13,  2.97it/s]57)\u001b[0m \n",
      "Val Epoch:0: 48it [00:13,  3.71it/s]57)\u001b[0m \n",
      "Val Epoch:0: 49it [00:14,  2.16it/s]57)\u001b[0m \n",
      "Val Epoch:0: 50it [00:14,  2.75it/s]57)\u001b[0m \n",
      "Val Epoch:0: 50it [00:15,  3.23it/s]57)\u001b[0m \n",
      "\u001b[36m(tune_with_parameters pid=2771257)\u001b[0m /scratch/users/k23058970/Model training/training_two_class_exvivo_lstm.py:63: RuntimeWarning: invalid value encountered in divide\n",
      "\u001b[36m(tune_with_parameters pid=2771257)\u001b[0m   self.precision = self.tp/(self.tp + self.fp)\n"
     ]
    },
    {
     "name": "stdout",
     "output_type": "stream",
     "text": [
      "\u001b[36m(tune_with_parameters pid=2771257)\u001b[0m /tmp/tmpgzvtyj4a/checkpoint.pt\n"
     ]
    },
    {
     "name": "stderr",
     "output_type": "stream",
     "text": [
      "\u001b[36m(tune_with_parameters pid=2771257)\u001b[0m Checkpoint successfully created at: Checkpoint(filesystem=local, path=/scratch/users/k23058970/Model training/results/NSQ vs AC LSTM/tune_with_parameters_2024-07-30_13-33-38/tune_with_parameters_0ca84_00005_5_dp=0.1000,hidden_size=400,lr=0.0572,num_layers=4_2024-07-30_13-34-23/checkpoint_000000)\n"
     ]
    },
    {
     "name": "stdout",
     "output_type": "stream",
     "text": [
      "\u001b[36m(tune_with_parameters pid=2771257)\u001b[0m loss: 0.573\n",
      "\u001b[36m(tune_with_parameters pid=2663640)\u001b[0m loss: 0.586\n",
      "\u001b[36m(tune_with_parameters pid=2663641)\u001b[0m loss: 0.586\n",
      "\u001b[36m(tune_with_parameters pid=2770411)\u001b[0m loss: 0.585\n"
     ]
    },
    {
     "name": "stderr",
     "output_type": "stream",
     "text": [
      "Val Epoch:16: 0it [00:00, ?it/s]663640)\u001b[0m \n",
      "Val Epoch:16: 1it [00:01,  1.54s/it]40)\u001b[0m \n",
      "Val Epoch:16: 2it [00:03,  1.99s/it]40)\u001b[0m \n",
      "Val Epoch:16: 4it [00:03,  1.29it/s]40)\u001b[0m \n",
      "Val Epoch:16: 6it [00:04,  2.15it/s]40)\u001b[0m \n",
      "Val Epoch:16: 7it [00:04,  2.43it/s]40)\u001b[0m \n",
      "Val Epoch:16: 8it [00:05,  2.02it/s]40)\u001b[0m \n",
      "Val Epoch:16: 9it [00:06,  1.45it/s]40)\u001b[0m \n",
      "Val Epoch:16: 0it [00:00, ?it/s]663641)\u001b[0m \n",
      "Val Epoch:16: 10it [00:06,  1.53it/s]0)\u001b[0m \n",
      "Val Epoch:16: 11it [00:07,  1.98it/s]0)\u001b[0m \n",
      "Val Epoch:16: 12it [00:07,  2.56it/s]0)\u001b[0m \n",
      "Val Epoch:16: 13it [00:07,  3.09it/s]0)\u001b[0m \n",
      "Val Epoch:16: 14it [00:07,  2.92it/s]0)\u001b[0m \n",
      "Val Epoch:16: 15it [00:08,  2.55it/s]0)\u001b[0m \n",
      "Val Epoch:16: 16it [00:08,  2.81it/s]0)\u001b[0m \n",
      "Val Epoch:16: 17it [00:08,  2.91it/s]0)\u001b[0m \n",
      "Val Epoch:16: 18it [00:09,  2.05it/s]0)\u001b[0m \n",
      "Val Epoch:16: 19it [00:09,  2.59it/s]0)\u001b[0m \n",
      "Val Epoch:16: 20it [00:10,  2.56it/s]0)\u001b[0m \n",
      "Val Epoch:16: 5it [00:05,  1.56it/s]\u001b[32m [repeated 7x across cluster]\u001b[0m\n",
      "Val Epoch:16: 15it [00:10,  2.02it/s]\u001b[32m [repeated 19x across cluster]\u001b[0m\n",
      "Val Epoch:16: 26it [00:15,  1.65it/s]\u001b[32m [repeated 17x across cluster]\u001b[0m\n",
      "Val Epoch:16: 49it [00:20,  4.06it/s]\u001b[32m [repeated 17x across cluster]\u001b[0m\n"
     ]
    },
    {
     "name": "stdout",
     "output_type": "stream",
     "text": [
      "\u001b[36m(tune_with_parameters pid=2663640)\u001b[0m loss: 0.582\n",
      "\u001b[36m(tune_with_parameters pid=2663641)\u001b[0m loss: 0.574\u001b[32m [repeated 2x across cluster]\u001b[0m\n",
      "\u001b[36m(tune_with_parameters pid=2770411)\u001b[0m loss: 0.585\n"
     ]
    },
    {
     "name": "stderr",
     "output_type": "stream",
     "text": [
      "Val Epoch:1: 0it [00:00, ?it/s]2770411)\u001b[0m \n",
      "Val Epoch:16: 50it [00:21,  2.32it/s]\u001b[32m [repeated 2x across cluster]\u001b[0m\n",
      "Val Epoch:1: 17it [00:05,  2.61it/s]\u001b[32m [repeated 11x across cluster]\u001b[0m\n",
      "Val Epoch:1: 32it [00:10,  3.73it/s]\u001b[32m [repeated 13x across cluster]\u001b[0m\n"
     ]
    },
    {
     "name": "stdout",
     "output_type": "stream",
     "text": [
      "\u001b[36m(tune_with_parameters pid=2663640)\u001b[0m loss: 0.587\n"
     ]
    },
    {
     "name": "stderr",
     "output_type": "stream",
     "text": [
      "Val Epoch:1: 41it [00:16,  1.76it/s]\u001b[32m [repeated 6x across cluster]\u001b[0m\n"
     ]
    },
    {
     "name": "stdout",
     "output_type": "stream",
     "text": [
      "\u001b[36m(tune_with_parameters pid=2663641)\u001b[0m loss: 0.585\u001b[32m [repeated 2x across cluster]\u001b[0m\n",
      "\u001b[36m(tune_with_parameters pid=2770411)\u001b[0m loss: 0.576\n"
     ]
    },
    {
     "name": "stderr",
     "output_type": "stream",
     "text": [
      "Val Epoch:1: 0it [00:00, ?it/s]2771257)\u001b[0m \n",
      "Val Epoch:1: 50it [00:20,  2.41it/s]\u001b[32m [repeated 8x across cluster]\u001b[0m\n",
      "Val Epoch:1: 2it [00:05,  2.41s/it]\u001b[32m [repeated 2x across cluster]\u001b[0m\n",
      "Val Epoch:1: 17it [00:11,  1.26it/s]\u001b[32m [repeated 15x across cluster]\u001b[0m\n",
      "Val Epoch:1: 30it [00:16,  2.79it/s]\u001b[32m [repeated 13x across cluster]\u001b[0m\n",
      "Val Epoch:1: 50it [00:21,  2.32it/s]\u001b[32m [repeated 15x across cluster]\u001b[0m\n"
     ]
    },
    {
     "name": "stdout",
     "output_type": "stream",
     "text": [
      "\u001b[36m(tune_with_parameters pid=2771257)\u001b[0m loss: 0.576\n",
      "\u001b[36m(tune_with_parameters pid=2663640)\u001b[0m loss: 0.586\n",
      "\u001b[36m(tune_with_parameters pid=2663641)\u001b[0m loss: 0.586\n"
     ]
    },
    {
     "name": "stderr",
     "output_type": "stream",
     "text": [
      "Val Epoch:17: 0it [00:00, ?it/s]663640)\u001b[0m \n",
      "Val Epoch:17: 1it [00:04,  4.94s/it]40)\u001b[0m \n",
      "Val Epoch:17: 3it [00:05,  1.33s/it]40)\u001b[0m \n",
      "Val Epoch:17: 4it [00:06,  1.32s/it]40)\u001b[0m \n",
      "Val Epoch:17: 5it [00:06,  1.09it/s]40)\u001b[0m \n",
      "Val Epoch:17: 7it [00:07,  1.59it/s]40)\u001b[0m \n",
      "Val Epoch:17: 8it [00:07,  2.00it/s]40)\u001b[0m \n",
      "Val Epoch:17: 9it [00:08,  1.31it/s]40)\u001b[0m \n",
      "Val Epoch:17: 10it [00:10,  1.10it/s]0)\u001b[0m \n",
      "Val Epoch:17: 11it [00:10,  1.46it/s]0)\u001b[0m \n",
      "Val Epoch:17: 12it [00:11,  1.10it/s]0)\u001b[0m \n",
      "Val Epoch:17: 13it [00:11,  1.46it/s]0)\u001b[0m \n",
      "Val Epoch:17: 15it [00:11,  2.42it/s]0)\u001b[0m \n",
      "Val Epoch:17: 0it [00:00, ?it/s]663641)\u001b[0m \n",
      "Val Epoch:17: 17it [00:12,  3.39it/s]0)\u001b[0m \n",
      "Val Epoch:17: 18it [00:12,  2.93it/s]0)\u001b[0m \n",
      "Val Epoch:17: 20it [00:12,  3.82it/s]0)\u001b[0m \n",
      "Val Epoch:17: 22it [00:13,  4.99it/s]0)\u001b[0m \n",
      "Val Epoch:17: 23it [00:13,  5.45it/s]0)\u001b[0m \n",
      "Val Epoch:17: 25it [00:13,  5.96it/s]0)\u001b[0m \n",
      "Val Epoch:17: 9it [00:03,  3.36it/s]\u001b[32m [repeated 10x across cluster]\u001b[0m\n",
      "Val Epoch:17: 35it [00:09,  3.19it/s]\u001b[32m [repeated 24x across cluster]\u001b[0m\n",
      "Val Epoch:17: 49it [00:15,  1.59it/s]\u001b[32m [repeated 11x across cluster]\u001b[0m\n"
     ]
    },
    {
     "name": "stdout",
     "output_type": "stream",
     "text": [
      "\u001b[36m(tune_with_parameters pid=2663640)\u001b[0m loss: 0.614\u001b[32m [repeated 2x across cluster]\u001b[0m\n",
      "\u001b[36m(tune_with_parameters pid=2771257)\u001b[0m loss: 0.587\n",
      "\u001b[36m(tune_with_parameters pid=2663641)\u001b[0m loss: 0.574\n",
      "\u001b[36m(tune_with_parameters pid=2770411)\u001b[0m loss: 0.584\n"
     ]
    },
    {
     "name": "stderr",
     "output_type": "stream",
     "text": [
      "Val Epoch:2: 0it [00:00, ?it/s]2770411)\u001b[0m \n",
      "Val Epoch:17: 50it [00:16,  3.02it/s]\u001b[32m [repeated 2x across cluster]\u001b[0m\n",
      "Val Epoch:2: 2it [00:05,  2.49s/it]\u001b[32m [repeated 2x across cluster]\u001b[0m\n",
      "Val Epoch:2: 17it [00:11,  1.59it/s]\u001b[32m [repeated 13x across cluster]\u001b[0m\n"
     ]
    },
    {
     "name": "stdout",
     "output_type": "stream",
     "text": [
      "\u001b[36m(tune_with_parameters pid=2663640)\u001b[0m loss: 0.586\n"
     ]
    },
    {
     "name": "stderr",
     "output_type": "stream",
     "text": [
      "Val Epoch:2: 34it [00:16,  3.04it/s]\u001b[32m [repeated 12x across cluster]\u001b[0m\n"
     ]
    },
    {
     "name": "stdout",
     "output_type": "stream",
     "text": [
      "\u001b[36m(tune_with_parameters pid=2770411)\u001b[0m loss: 0.585\u001b[32m [repeated 3x across cluster]\u001b[0m\n"
     ]
    },
    {
     "name": "stderr",
     "output_type": "stream",
     "text": [
      "Val Epoch:2: 0it [00:00, ?it/s]2771257)\u001b[0m \n",
      "Val Epoch:2: 50it [00:19,  2.58it/s]\u001b[32m [repeated 8x across cluster]\u001b[0m\n",
      "Val Epoch:2: 17it [00:05,  3.76it/s]\u001b[32m [repeated 12x across cluster]\u001b[0m\n",
      "Val Epoch:2: 42it [00:10,  3.26it/s]\u001b[32m [repeated 16x across cluster]\u001b[0m\n"
     ]
    },
    {
     "name": "stdout",
     "output_type": "stream",
     "text": [
      "\u001b[36m(tune_with_parameters pid=2771257)\u001b[0m loss: 0.550\n",
      "\u001b[36m(tune_with_parameters pid=2663640)\u001b[0m loss: 0.586\n",
      "\u001b[36m(tune_with_parameters pid=2663641)\u001b[0m loss: 0.586\n",
      "\u001b[36m(tune_with_parameters pid=2770411)\u001b[0m loss: 0.586\n"
     ]
    },
    {
     "name": "stderr",
     "output_type": "stream",
     "text": [
      "Val Epoch:18: 0it [00:00, ?it/s]663640)\u001b[0m \n",
      "Val Epoch:2: 50it [00:13,  3.70it/s]\u001b[32m [repeated 8x across cluster]\u001b[0m\n",
      "Val Epoch:18: 17it [00:05,  4.98it/s]\u001b[32m [repeated 9x across cluster]\u001b[0m\n",
      "Val Epoch:18: 0it [00:00, ?it/s]663641)\u001b[0m \n",
      "Val Epoch:18: 2it [00:04,  1.78s/it]\u001b[32m [repeated 11x across cluster]\u001b[0m\n",
      "Val Epoch:18: 14it [00:09,  2.55it/s]\u001b[32m [repeated 23x across cluster]\u001b[0m\n",
      "Val Epoch:18: 25it [00:14,  1.70it/s]\u001b[32m [repeated 20x across cluster]\u001b[0m\n",
      "Val Epoch:18: 33it [00:19,  1.06s/it]\u001b[32m [repeated 8x across cluster]\u001b[0m\n"
     ]
    },
    {
     "name": "stdout",
     "output_type": "stream",
     "text": [
      "\u001b[36m(tune_with_parameters pid=2663640)\u001b[0m loss: 0.581\n",
      "\u001b[36m(tune_with_parameters pid=2771257)\u001b[0m loss: 0.587\n",
      "\u001b[36m(tune_with_parameters pid=2663641)\u001b[0m loss: 0.604\n",
      "\u001b[36m(tune_with_parameters pid=2770411)\u001b[0m loss: 0.586\n"
     ]
    },
    {
     "name": "stderr",
     "output_type": "stream",
     "text": [
      "Val Epoch:3: 0it [00:00, ?it/s]2770411)\u001b[0m \n",
      "Val Epoch:18: 50it [00:23,  2.13it/s]\u001b[32m [repeated 9x across cluster]\u001b[0m\n",
      "Val Epoch:3: 16it [00:05,  4.56it/s]\u001b[32m [repeated 12x across cluster]\u001b[0m\n"
     ]
    },
    {
     "name": "stdout",
     "output_type": "stream",
     "text": [
      "\u001b[36m(tune_with_parameters pid=2663640)\u001b[0m loss: 0.586\n"
     ]
    },
    {
     "name": "stderr",
     "output_type": "stream",
     "text": [
      "Val Epoch:3: 34it [00:10,  1.77it/s]\u001b[32m [repeated 12x across cluster]\u001b[0m\n"
     ]
    },
    {
     "name": "stdout",
     "output_type": "stream",
     "text": [
      "\u001b[36m(tune_with_parameters pid=2771257)\u001b[0m loss: 0.586\n"
     ]
    },
    {
     "name": "stderr",
     "output_type": "stream",
     "text": [
      "Val Epoch:3: 49it [00:16,  1.99it/s]\u001b[32m [repeated 12x across cluster]\u001b[0m\n"
     ]
    },
    {
     "name": "stdout",
     "output_type": "stream",
     "text": [
      "\u001b[36m(tune_with_parameters pid=2663641)\u001b[0m loss: 0.586\n",
      "\u001b[36m(tune_with_parameters pid=2770411)\u001b[0m loss: 0.598\n"
     ]
    },
    {
     "name": "stderr",
     "output_type": "stream",
     "text": [
      "Val Epoch:3: 0it [00:00, ?it/s]2771257)\u001b[0m \n",
      "Val Epoch:3: 50it [00:17,  2.90it/s]\u001b[32m [repeated 2x across cluster]\u001b[0m\n",
      "Val Epoch:3: 9it [00:05,  2.03it/s]\u001b[32m [repeated 7x across cluster]\u001b[0m\n",
      "Val Epoch:3: 19it [00:10,  1.69it/s]\u001b[32m [repeated 9x across cluster]\u001b[0m\n",
      "Val Epoch:3: 32it [00:15,  3.43it/s]\u001b[32m [repeated 11x across cluster]\u001b[0m\n",
      "Val Epoch:3: 42it [00:20,  1.79it/s]\u001b[32m [repeated 9x across cluster]\u001b[0m\n"
     ]
    },
    {
     "name": "stdout",
     "output_type": "stream",
     "text": [
      "\u001b[36m(tune_with_parameters pid=2771257)\u001b[0m loss: 0.571\n",
      "\u001b[36m(tune_with_parameters pid=2663640)\u001b[0m loss: 0.586\n",
      "\u001b[36m(tune_with_parameters pid=2663641)\u001b[0m loss: 0.586\n",
      "\u001b[36m(tune_with_parameters pid=2770411)\u001b[0m loss: 0.587\n"
     ]
    },
    {
     "name": "stderr",
     "output_type": "stream",
     "text": [
      "Val Epoch:19: 0it [00:00, ?it/s]663640)\u001b[0m \n",
      "Val Epoch:3: 50it [00:23,  2.16it/s]\u001b[32m [repeated 7x across cluster]\u001b[0m\n",
      "Val Epoch:19: 7it [00:05,  1.98it/s]\u001b[32m [repeated 4x across cluster]\u001b[0m\n",
      "Val Epoch:19: 17it [00:11,  1.06s/it]\u001b[32m [repeated 8x across cluster]\u001b[0m\n",
      "Val Epoch:19: 0it [00:00, ?it/s]663641)\u001b[0m \n",
      "Val Epoch:19: 25it [00:16,  1.01it/s]\u001b[32m [repeated 8x across cluster]\u001b[0m\n",
      "Val Epoch:19: 13it [00:05,  5.62it/s]\u001b[32m [repeated 20x across cluster]\u001b[0m\n",
      "Val Epoch:19: 34it [00:10,  3.52it/s]\u001b[32m [repeated 17x across cluster]\u001b[0m\n",
      "Val Epoch:19: 50it [00:15,  3.18it/s]\u001b[32m [repeated 10x across cluster]\u001b[0m\n"
     ]
    },
    {
     "name": "stdout",
     "output_type": "stream",
     "text": [
      "\u001b[36m(tune_with_parameters pid=2663640)\u001b[0m loss: 0.600\n",
      "\u001b[36m(tune_with_parameters pid=2771257)\u001b[0m loss: 0.585\n",
      "\u001b[36m(tune_with_parameters pid=2663641)\u001b[0m loss: 0.583\n",
      "\u001b[36m(tune_with_parameters pid=2770411)\u001b[0m loss: 0.586\n"
     ]
    },
    {
     "name": "stderr",
     "output_type": "stream",
     "text": [
      "Val Epoch:4: 0it [00:00, ?it/s]2770411)\u001b[0m \n",
      "Val Epoch:4: 1it [00:04,  4.68s/it]411)\u001b[0m \n",
      "Val Epoch:4: 2it [00:05,  2.38s/it]411)\u001b[0m \n",
      "Val Epoch:4: 3it [00:05,  1.38s/it]411)\u001b[0m \n",
      "Val Epoch:4: 5it [00:06,  1.34it/s]411)\u001b[0m \n",
      "Val Epoch:4: 6it [00:06,  1.36it/s]411)\u001b[0m \n",
      "Val Epoch:4: 7it [00:07,  1.70it/s]411)\u001b[0m \n",
      "Val Epoch:4: 8it [00:07,  2.22it/s]411)\u001b[0m \n",
      "Val Epoch:4: 9it [00:07,  2.00it/s]411)\u001b[0m \n",
      "Val Epoch:4: 10it [00:08,  1.79it/s]11)\u001b[0m \n",
      "Val Epoch:4: 11it [00:08,  2.26it/s]11)\u001b[0m \n",
      "Val Epoch:4: 12it [00:08,  2.71it/s]11)\u001b[0m \n",
      "Val Epoch:4: 13it [00:09,  2.80it/s]11)\u001b[0m \n",
      "Val Epoch:4: 14it [00:09,  2.89it/s]11)\u001b[0m \n",
      "Val Epoch:4: 15it [00:09,  3.45it/s]11)\u001b[0m \n"
     ]
    },
    {
     "name": "stdout",
     "output_type": "stream",
     "text": [
      "\u001b[36m(tune_with_parameters pid=2663640)\u001b[0m loss: 0.587\n"
     ]
    },
    {
     "name": "stderr",
     "output_type": "stream",
     "text": [
      "Val Epoch:4: 16it [00:09,  3.75it/s]11)\u001b[0m \n",
      "Val Epoch:4: 17it [00:11,  1.89it/s]11)\u001b[0m \n",
      "Val Epoch:4: 18it [00:11,  2.17it/s]11)\u001b[0m \n",
      "Val Epoch:4: 19it [00:11,  2.53it/s]11)\u001b[0m \n",
      "Val Epoch:4: 20it [00:11,  2.81it/s]11)\u001b[0m \n",
      "Val Epoch:4: 21it [00:12,  3.30it/s]11)\u001b[0m \n",
      "Val Epoch:4: 22it [00:12,  4.01it/s]11)\u001b[0m \n",
      "Val Epoch:4: 23it [00:12,  2.41it/s]11)\u001b[0m \n",
      "Val Epoch:4: 24it [00:13,  2.67it/s]11)\u001b[0m \n",
      "Val Epoch:4: 25it [00:14,  1.49it/s]11)\u001b[0m \n",
      "Val Epoch:4: 26it [00:14,  1.98it/s]11)\u001b[0m \n",
      "Val Epoch:4: 27it [00:15,  2.03it/s]11)\u001b[0m \n",
      "Val Epoch:4: 28it [00:15,  2.32it/s]11)\u001b[0m \n",
      "Val Epoch:4: 30it [00:15,  3.36it/s]11)\u001b[0m \n",
      "Val Epoch:4: 32it [00:15,  4.97it/s]11)\u001b[0m \n",
      "Val Epoch:4: 33it [00:16,  5.10it/s]11)\u001b[0m \n",
      "Val Epoch:4: 34it [00:16,  4.57it/s]11)\u001b[0m \n",
      "Val Epoch:4: 35it [00:16,  4.63it/s]11)\u001b[0m \n",
      "Val Epoch:4: 37it [00:16,  5.43it/s]11)\u001b[0m \n",
      "Val Epoch:4: 40it [00:17,  7.93it/s]11)\u001b[0m \n"
     ]
    },
    {
     "name": "stdout",
     "output_type": "stream",
     "text": [
      "\u001b[36m(tune_with_parameters pid=2771257)\u001b[0m loss: 0.585\n"
     ]
    },
    {
     "name": "stderr",
     "output_type": "stream",
     "text": [
      "Val Epoch:4: 41it [00:17,  4.72it/s]11)\u001b[0m \n",
      "Val Epoch:4: 42it [00:17,  4.24it/s]11)\u001b[0m \n",
      "Val Epoch:4: 45it [00:18,  5.98it/s]11)\u001b[0m \n",
      "Val Epoch:4: 47it [00:18,  7.18it/s]11)\u001b[0m \n",
      "Val Epoch:4: 49it [00:18,  6.23it/s]11)\u001b[0m \n",
      "Val Epoch:4: 50it [00:19,  2.59it/s]11)\u001b[0m \n"
     ]
    },
    {
     "name": "stdout",
     "output_type": "stream",
     "text": [
      "\u001b[36m(tune_with_parameters pid=2770411)\u001b[0m loss: 0.600\u001b[32m [repeated 2x across cluster]\u001b[0m\n"
     ]
    },
    {
     "name": "stderr",
     "output_type": "stream",
     "text": [
      "Val Epoch:4: 0it [00:00, ?it/s]2771257)\u001b[0m \n",
      "Val Epoch:4: 1it [00:02,  2.40s/it]257)\u001b[0m \n",
      "Val Epoch:4: 2it [00:02,  1.14s/it]257)\u001b[0m \n",
      "Val Epoch:4: 4it [00:02,  1.88it/s]257)\u001b[0m \n",
      "Val Epoch:4: 5it [00:03,  2.50it/s]257)\u001b[0m \n",
      "Val Epoch:4: 7it [00:03,  3.27it/s]257)\u001b[0m \n",
      "Val Epoch:4: 8it [00:03,  3.91it/s]257)\u001b[0m \n",
      "Val Epoch:4: 9it [00:04,  2.67it/s]257)\u001b[0m \n",
      "Val Epoch:4: 10it [00:04,  2.18it/s]57)\u001b[0m \n",
      "Val Epoch:4: 12it [00:05,  3.20it/s]57)\u001b[0m \n",
      "Val Epoch:4: 13it [00:05,  3.79it/s]57)\u001b[0m \n",
      "Val Epoch:4: 14it [00:05,  4.41it/s]57)\u001b[0m \n",
      "Val Epoch:4: 15it [00:05,  3.72it/s]57)\u001b[0m \n",
      "Val Epoch:4: 17it [00:06,  3.18it/s]57)\u001b[0m \n",
      "Val Epoch:4: 19it [00:06,  4.25it/s]57)\u001b[0m \n",
      "Val Epoch:4: 20it [00:07,  4.26it/s]57)\u001b[0m \n",
      "Val Epoch:4: 23it [00:07,  6.62it/s]57)\u001b[0m \n",
      "Val Epoch:4: 25it [00:07,  6.33it/s]57)\u001b[0m \n",
      "Val Epoch:4: 26it [00:07,  5.52it/s]57)\u001b[0m \n",
      "Val Epoch:4: 28it [00:08,  4.75it/s]57)\u001b[0m \n",
      "Val Epoch:4: 30it [00:08,  5.98it/s]57)\u001b[0m \n",
      "Val Epoch:4: 32it [00:08,  7.22it/s]57)\u001b[0m \n",
      "Val Epoch:4: 33it [00:09,  4.72it/s]57)\u001b[0m \n",
      "Val Epoch:4: 34it [00:09,  4.26it/s]57)\u001b[0m \n",
      "Val Epoch:4: 35it [00:09,  4.89it/s]57)\u001b[0m \n",
      "Val Epoch:4: 36it [00:09,  4.81it/s]57)\u001b[0m \n",
      "Val Epoch:4: 39it [00:10,  7.93it/s]57)\u001b[0m \n",
      "Val Epoch:4: 41it [00:10,  6.72it/s]57)\u001b[0m \n",
      "Val Epoch:4: 42it [00:10,  5.39it/s]57)\u001b[0m \n",
      "Val Epoch:4: 43it [00:10,  5.49it/s]57)\u001b[0m \n",
      "Val Epoch:4: 44it [00:11,  5.87it/s]57)\u001b[0m \n",
      "Val Epoch:4: 45it [00:11,  6.06it/s]57)\u001b[0m \n",
      "Val Epoch:4: 47it [00:11,  6.58it/s]57)\u001b[0m \n",
      "Val Epoch:4: 49it [00:12,  3.76it/s]57)\u001b[0m \n",
      "Val Epoch:4: 50it [00:12,  4.20it/s]57)\u001b[0m \n",
      "Val Epoch:4: 50it [00:13,  3.71it/s]57)\u001b[0m \n"
     ]
    },
    {
     "name": "stdout",
     "output_type": "stream",
     "text": [
      "\u001b[36m(tune_with_parameters pid=2771257)\u001b[0m loss: 0.585\n",
      "\u001b[36m(tune_with_parameters pid=2663640)\u001b[0m loss: 0.586\n",
      "\u001b[36m(tune_with_parameters pid=2663641)\u001b[0m loss: 0.585\n"
     ]
    },
    {
     "name": "stderr",
     "output_type": "stream",
     "text": [
      "Val Epoch:20: 0it [00:00, ?it/s]663640)\u001b[0m \n"
     ]
    },
    {
     "name": "stdout",
     "output_type": "stream",
     "text": [
      "\u001b[36m(tune_with_parameters pid=2770411)\u001b[0m loss: 0.585\n"
     ]
    },
    {
     "name": "stderr",
     "output_type": "stream",
     "text": [
      "Val Epoch:20: 1it [00:02,  2.20s/it]40)\u001b[0m \n",
      "Val Epoch:20: 2it [00:02,  1.03s/it]40)\u001b[0m \n",
      "Val Epoch:20: 5it [00:02,  2.65it/s]40)\u001b[0m \n",
      "Val Epoch:20: 7it [00:02,  3.93it/s]40)\u001b[0m \n",
      "Val Epoch:20: 8it [00:03,  3.81it/s]40)\u001b[0m \n",
      "Val Epoch:20: 9it [00:03,  3.98it/s]40)\u001b[0m \n",
      "Val Epoch:20: 10it [00:03,  4.64it/s]0)\u001b[0m \n",
      "Val Epoch:20: 13it [00:03,  6.70it/s]0)\u001b[0m \n",
      "Val Epoch:20: 15it [00:04,  4.98it/s]0)\u001b[0m \n",
      "Val Epoch:20: 17it [00:05,  3.06it/s]0)\u001b[0m \n",
      "Val Epoch:20: 18it [00:05,  3.48it/s]0)\u001b[0m \n",
      "Val Epoch:20: 20it [00:05,  4.85it/s]0)\u001b[0m \n",
      "Val Epoch:20: 21it [00:06,  4.21it/s]0)\u001b[0m \n",
      "Val Epoch:20: 23it [00:06,  5.00it/s]0)\u001b[0m \n",
      "Val Epoch:20: 24it [00:06,  4.52it/s]0)\u001b[0m \n",
      "Val Epoch:20: 25it [00:07,  3.01it/s]0)\u001b[0m \n",
      "Val Epoch:20: 27it [00:07,  4.32it/s]0)\u001b[0m \n",
      "Val Epoch:20: 29it [00:07,  5.11it/s]0)\u001b[0m \n",
      "Val Epoch:20: 30it [00:08,  4.85it/s]0)\u001b[0m \n",
      "Val Epoch:20: 31it [00:08,  3.61it/s]0)\u001b[0m \n",
      "Val Epoch:20: 0it [00:00, ?it/s]663641)\u001b[0m \n",
      "Val Epoch:20: 33it [00:09,  3.08it/s]0)\u001b[0m \n",
      "Val Epoch:20: 35it [00:09,  4.01it/s]0)\u001b[0m \n",
      "Val Epoch:20: 37it [00:10,  4.20it/s]0)\u001b[0m \n",
      "Val Epoch:20: 38it [00:10,  4.41it/s]0)\u001b[0m \n",
      "Val Epoch:20: 39it [00:10,  4.40it/s]0)\u001b[0m \n",
      "Val Epoch:20: 9it [00:04,  2.64it/s]\u001b[32m [repeated 11x across cluster]\u001b[0m\n",
      "Val Epoch:20: 21it [00:09,  2.13it/s]\u001b[32m [repeated 14x across cluster]\u001b[0m\n",
      "Val Epoch:20: 30it [00:14,  1.90it/s]\u001b[32m [repeated 9x across cluster]\u001b[0m\n",
      "Val Epoch:20: 40it [00:19,  2.59it/s]\u001b[32m [repeated 8x across cluster]\u001b[0m\n"
     ]
    },
    {
     "name": "stdout",
     "output_type": "stream",
     "text": [
      "\u001b[36m(tune_with_parameters pid=2663640)\u001b[0m loss: 0.592\n",
      "\u001b[36m(tune_with_parameters pid=2771257)\u001b[0m loss: 0.586\n",
      "\u001b[36m(tune_with_parameters pid=2770411)\u001b[0m loss: 0.586\u001b[32m [repeated 2x across cluster]\u001b[0m\n"
     ]
    },
    {
     "name": "stderr",
     "output_type": "stream",
     "text": [
      "Val Epoch:5: 0it [00:00, ?it/s]2770411)\u001b[0m \n",
      "Val Epoch:20: 50it [00:23,  2.12it/s]\u001b[32m [repeated 10x across cluster]\u001b[0m\n"
     ]
    },
    {
     "name": "stdout",
     "output_type": "stream",
     "text": [
      "\u001b[36m(tune_with_parameters pid=2663640)\u001b[0m loss: 0.584\n"
     ]
    },
    {
     "name": "stderr",
     "output_type": "stream",
     "text": [
      "Val Epoch:5: 19it [00:05,  4.61it/s]\u001b[32m [repeated 13x across cluster]\u001b[0m\n"
     ]
    },
    {
     "name": "stdout",
     "output_type": "stream",
     "text": [
      "\u001b[36m(tune_with_parameters pid=2771257)\u001b[0m loss: 0.586\n"
     ]
    },
    {
     "name": "stderr",
     "output_type": "stream",
     "text": [
      "Val Epoch:5: 35it [00:10,  2.03it/s]\u001b[32m [repeated 12x across cluster]\u001b[0m\n",
      "Val Epoch:5: 49it [00:15,  2.14it/s]\u001b[32m [repeated 13x across cluster]\u001b[0m\n"
     ]
    },
    {
     "name": "stdout",
     "output_type": "stream",
     "text": [
      "\u001b[36m(tune_with_parameters pid=2663641)\u001b[0m loss: 0.586\n",
      "\u001b[36m(tune_with_parameters pid=2770411)\u001b[0m loss: 0.579\n"
     ]
    },
    {
     "name": "stderr",
     "output_type": "stream",
     "text": [
      "Val Epoch:5: 0it [00:00, ?it/s]2771257)\u001b[0m \n",
      "Val Epoch:5: 50it [00:17,  2.94it/s]\u001b[32m [repeated 2x across cluster]\u001b[0m\n",
      "Val Epoch:5: 11it [00:05,  2.06it/s]\u001b[32m [repeated 10x across cluster]\u001b[0m\n",
      "Val Epoch:5: 25it [00:10,  2.82it/s]\u001b[32m [repeated 13x across cluster]\u001b[0m\n",
      "Val Epoch:5: 35it [00:15,  1.67it/s]\u001b[32m [repeated 9x across cluster]\u001b[0m\n",
      "Val Epoch:5: 49it [00:20,  2.07it/s]\u001b[32m [repeated 13x across cluster]\u001b[0m\n"
     ]
    },
    {
     "name": "stdout",
     "output_type": "stream",
     "text": [
      "\u001b[36m(tune_with_parameters pid=2771257)\u001b[0m loss: 0.591\n",
      "\u001b[36m(tune_with_parameters pid=2663640)\u001b[0m loss: 0.586\n",
      "\u001b[36m(tune_with_parameters pid=2663641)\u001b[0m loss: 0.585\n"
     ]
    },
    {
     "name": "stderr",
     "output_type": "stream",
     "text": [
      "Val Epoch:21: 0it [00:00, ?it/s]663640)\u001b[0m \n",
      "Val Epoch:5: 50it [00:22,  2.27it/s]\u001b[32m [repeated 2x across cluster]\u001b[0m\n"
     ]
    },
    {
     "name": "stdout",
     "output_type": "stream",
     "text": [
      "\u001b[36m(tune_with_parameters pid=2770411)\u001b[0m loss: 0.587\n"
     ]
    },
    {
     "name": "stderr",
     "output_type": "stream",
     "text": [
      "Val Epoch:21: 13it [00:05,  2.24it/s]\u001b[32m [repeated 9x across cluster]\u001b[0m\n",
      "Val Epoch:21: 26it [00:10,  1.40it/s]\u001b[32m [repeated 11x across cluster]\u001b[0m\n",
      "Val Epoch:21: 34it [00:16,  1.04s/it]\u001b[32m [repeated 8x across cluster]\u001b[0m\n",
      "Val Epoch:21: 0it [00:00, ?it/s]663641)\u001b[0m \n",
      "Val Epoch:21: 3it [00:04,  1.19s/it]\u001b[32m [repeated 13x across cluster]\u001b[0m\n",
      "Val Epoch:21: 20it [00:09,  3.34it/s]\u001b[32m [repeated 15x across cluster]\u001b[0m\n"
     ]
    },
    {
     "name": "stdout",
     "output_type": "stream",
     "text": [
      "\u001b[36m(tune_with_parameters pid=2663640)\u001b[0m loss: 0.619\n"
     ]
    },
    {
     "name": "stderr",
     "output_type": "stream",
     "text": [
      "Val Epoch:21: 43it [00:14,  5.24it/s]\u001b[32m [repeated 15x across cluster]\u001b[0m\n"
     ]
    },
    {
     "name": "stdout",
     "output_type": "stream",
     "text": [
      "\u001b[36m(tune_with_parameters pid=2771257)\u001b[0m loss: 0.583\n",
      "\u001b[36m(tune_with_parameters pid=2770411)\u001b[0m loss: 0.586\u001b[32m [repeated 2x across cluster]\u001b[0m\n"
     ]
    },
    {
     "name": "stderr",
     "output_type": "stream",
     "text": [
      "Val Epoch:6: 0it [00:00, ?it/s]2770411)\u001b[0m \n",
      "Val Epoch:21: 50it [00:16,  3.01it/s]\u001b[32m [repeated 4x across cluster]\u001b[0m\n",
      "Val Epoch:6: 3it [00:07,  2.10s/it]\u001b[32m [repeated 2x across cluster]\u001b[0m\n"
     ]
    },
    {
     "name": "stdout",
     "output_type": "stream",
     "text": [
      "\u001b[36m(tune_with_parameters pid=2663640)\u001b[0m loss: 0.586\n"
     ]
    },
    {
     "name": "stderr",
     "output_type": "stream",
     "text": [
      "Val Epoch:6: 18it [00:12,  2.06it/s]\u001b[32m [repeated 14x across cluster]\u001b[0m\n",
      "Val Epoch:6: 28it [00:16,  2.47it/s]11)\u001b[0m \n",
      "Val Epoch:6: 33it [00:19,  1.47it/s]\u001b[32m [repeated 11x across cluster]\u001b[0m\n"
     ]
    },
    {
     "name": "stdout",
     "output_type": "stream",
     "text": [
      "\u001b[36m(tune_with_parameters pid=2771257)\u001b[0m loss: 0.585\n",
      "\u001b[36m(tune_with_parameters pid=2770411)\u001b[0m loss: 0.590\u001b[32m [repeated 2x across cluster]\u001b[0m\n"
     ]
    },
    {
     "name": "stderr",
     "output_type": "stream",
     "text": [
      "Val Epoch:6: 0it [00:00, ?it/s]2771257)\u001b[0m \n",
      "Val Epoch:6: 50it [00:22,  2.22it/s]\u001b[32m [repeated 12x across cluster]\u001b[0m\n",
      "Val Epoch:6: 3it [00:05,  1.45s/it]\u001b[32m [repeated 3x across cluster]\u001b[0m\n",
      "Val Epoch:6: 26it [00:11,  3.42it/s]\u001b[32m [repeated 13x across cluster]\u001b[0m\n"
     ]
    },
    {
     "name": "stdout",
     "output_type": "stream",
     "text": [
      "\u001b[36m(tune_with_parameters pid=2771257)\u001b[0m loss: 0.591\n",
      "\u001b[36m(tune_with_parameters pid=2663640)\u001b[0m loss: 0.586\n",
      "\u001b[36m(tune_with_parameters pid=2663641)\u001b[0m loss: 0.585\n"
     ]
    },
    {
     "name": "stderr",
     "output_type": "stream",
     "text": [
      "Val Epoch:22: 0it [00:00, ?it/s]663640)\u001b[0m \n",
      "Val Epoch:6: 50it [00:15,  3.16it/s]\u001b[32m [repeated 14x across cluster]\u001b[0m\n",
      "Val Epoch:22: 3it [00:05,  1.39s/it]\u001b[32m [repeated 3x across cluster]\u001b[0m\n"
     ]
    },
    {
     "name": "stdout",
     "output_type": "stream",
     "text": [
      "\u001b[36m(tune_with_parameters pid=2770411)\u001b[0m loss: 0.586\n"
     ]
    },
    {
     "name": "stderr",
     "output_type": "stream",
     "text": [
      "Val Epoch:22: 21it [00:10,  3.46it/s]\u001b[32m [repeated 14x across cluster]\u001b[0m\n",
      "Val Epoch:22: 0it [00:00, ?it/s]663641)\u001b[0m \n",
      "Val Epoch:22: 43it [00:15,  4.24it/s]0)\u001b[0m \n",
      "Val Epoch:22: 4it [00:02,  2.35it/s]\u001b[32m [repeated 19x across cluster]\u001b[0m\n",
      "Val Epoch:22: 21it [00:07,  1.99it/s]\u001b[32m [repeated 15x across cluster]\u001b[0m\n",
      "Val Epoch:22: 31it [00:13,  1.99it/s]\u001b[32m [repeated 10x across cluster]\u001b[0m\n"
     ]
    },
    {
     "name": "stdout",
     "output_type": "stream",
     "text": [
      "\u001b[36m(tune_with_parameters pid=2663640)\u001b[0m loss: 0.563\n"
     ]
    },
    {
     "name": "stderr",
     "output_type": "stream",
     "text": [
      "Val Epoch:22: 41it [00:18,  1.58it/s]\u001b[32m [repeated 8x across cluster]\u001b[0m\n"
     ]
    },
    {
     "name": "stdout",
     "output_type": "stream",
     "text": [
      "\u001b[36m(tune_with_parameters pid=2771257)\u001b[0m loss: 0.584\n",
      "\u001b[36m(tune_with_parameters pid=2770411)\u001b[0m loss: 0.586\u001b[32m [repeated 2x across cluster]\u001b[0m\n"
     ]
    },
    {
     "name": "stderr",
     "output_type": "stream",
     "text": [
      "Val Epoch:7: 0it [00:00, ?it/s]2770411)\u001b[0m \n",
      "Val Epoch:22: 50it [00:22,  2.26it/s]\u001b[32m [repeated 7x across cluster]\u001b[0m\n"
     ]
    },
    {
     "name": "stdout",
     "output_type": "stream",
     "text": [
      "\u001b[36m(tune_with_parameters pid=2663640)\u001b[0m loss: 0.587\n"
     ]
    },
    {
     "name": "stderr",
     "output_type": "stream",
     "text": [
      "Val Epoch:7: 20it [00:05,  4.08it/s]\u001b[32m [repeated 12x across cluster]\u001b[0m\n"
     ]
    },
    {
     "name": "stdout",
     "output_type": "stream",
     "text": [
      "\u001b[36m(tune_with_parameters pid=2771257)\u001b[0m loss: 0.585\n"
     ]
    },
    {
     "name": "stderr",
     "output_type": "stream",
     "text": [
      "Val Epoch:7: 42it [00:10,  3.92it/s]\u001b[32m [repeated 15x across cluster]\u001b[0m\n"
     ]
    },
    {
     "name": "stdout",
     "output_type": "stream",
     "text": [
      "\u001b[36m(tune_with_parameters pid=2770411)\u001b[0m loss: 0.564\u001b[32m [repeated 2x across cluster]\u001b[0m\n"
     ]
    },
    {
     "name": "stderr",
     "output_type": "stream",
     "text": [
      "Val Epoch:7: 0it [00:00, ?it/s]2771257)\u001b[0m \n",
      "Val Epoch:7: 50it [00:14,  3.46it/s]\u001b[32m [repeated 6x across cluster]\u001b[0m\n",
      "Val Epoch:7: 12it [00:05,  2.79it/s]\u001b[32m [repeated 11x across cluster]\u001b[0m\n",
      "Val Epoch:7: 22it [00:10,  2.31it/s]\u001b[32m [repeated 10x across cluster]\u001b[0m\n",
      "Val Epoch:7: 33it [00:16,  1.25it/s]\u001b[32m [repeated 10x across cluster]\u001b[0m\n",
      "Val Epoch:7: 49it [00:22,  1.54it/s]\u001b[32m [repeated 14x across cluster]\u001b[0m\n"
     ]
    },
    {
     "name": "stdout",
     "output_type": "stream",
     "text": [
      "\u001b[36m(tune_with_parameters pid=2771257)\u001b[0m loss: 0.598\n",
      "\u001b[36m(tune_with_parameters pid=2663640)\u001b[0m loss: 0.586\n",
      "\u001b[36m(tune_with_parameters pid=2663641)\u001b[0m loss: 0.586\n"
     ]
    },
    {
     "name": "stderr",
     "output_type": "stream",
     "text": [
      "Val Epoch:23: 0it [00:00, ?it/s]663640)\u001b[0m \n",
      "Val Epoch:7: 50it [00:23,  2.13it/s]\u001b[32m [repeated 2x across cluster]\u001b[0m\n"
     ]
    },
    {
     "name": "stdout",
     "output_type": "stream",
     "text": [
      "\u001b[36m(tune_with_parameters pid=2770411)\u001b[0m loss: 0.585\n"
     ]
    },
    {
     "name": "stderr",
     "output_type": "stream",
     "text": [
      "Val Epoch:23: 11it [00:05,  1.45it/s]\u001b[32m [repeated 11x across cluster]\u001b[0m\n",
      "Val Epoch:23: 22it [00:10,  2.16it/s]\u001b[32m [repeated 11x across cluster]\u001b[0m\n",
      "Val Epoch:23: 0it [00:00, ?it/s]663641)\u001b[0m \n",
      "Val Epoch:23: 32it [00:16,  2.16it/s]\u001b[32m [repeated 9x across cluster]\u001b[0m\n",
      "Val Epoch:23: 9it [00:07,  1.88it/s]\u001b[32m [repeated 17x across cluster]\u001b[0m\n",
      "Val Epoch:23: 31it [00:12,  4.94it/s]\u001b[32m [repeated 25x across cluster]\u001b[0m\n"
     ]
    },
    {
     "name": "stdout",
     "output_type": "stream",
     "text": [
      "\u001b[36m(tune_with_parameters pid=2663640)\u001b[0m loss: 0.567\n",
      "\u001b[36m(tune_with_parameters pid=2663641)\u001b[0m loss: 0.620\n",
      "\u001b[36m(tune_with_parameters pid=2770411)\u001b[0m loss: 0.586\u001b[32m [repeated 2x across cluster]\u001b[0m\n"
     ]
    },
    {
     "name": "stderr",
     "output_type": "stream",
     "text": [
      "Val Epoch:8: 0it [00:00, ?it/s]2770411)\u001b[0m \n",
      "Val Epoch:23: 50it [00:17,  2.92it/s]\u001b[32m [repeated 12x across cluster]\u001b[0m\n",
      "Val Epoch:8: 5it [00:05,  1.57it/s]\u001b[32m [repeated 5x across cluster]\u001b[0m\n"
     ]
    },
    {
     "name": "stdout",
     "output_type": "stream",
     "text": [
      "\u001b[36m(tune_with_parameters pid=2663640)\u001b[0m loss: 0.585\n"
     ]
    },
    {
     "name": "stderr",
     "output_type": "stream",
     "text": [
      "Val Epoch:8: 17it [00:11,  1.29it/s]\u001b[32m [repeated 9x across cluster]\u001b[0m\n",
      "Val Epoch:8: 33it [00:17,  2.43it/s]\u001b[32m [repeated 14x across cluster]\u001b[0m\n"
     ]
    },
    {
     "name": "stdout",
     "output_type": "stream",
     "text": [
      "\u001b[36m(tune_with_parameters pid=2771257)\u001b[0m loss: 0.584\n"
     ]
    },
    {
     "name": "stderr",
     "output_type": "stream",
     "text": [
      "Val Epoch:8: 50it [00:22,  2.22it/s]\u001b[32m [repeated 13x across cluster]\u001b[0m\n"
     ]
    },
    {
     "name": "stdout",
     "output_type": "stream",
     "text": [
      "\u001b[36m(tune_with_parameters pid=2770411)\u001b[0m loss: 0.535\u001b[32m [repeated 2x across cluster]\u001b[0m\n"
     ]
    },
    {
     "name": "stderr",
     "output_type": "stream",
     "text": [
      "Val Epoch:8: 0it [00:00, ?it/s]2771257)\u001b[0m \n",
      "Val Epoch:8: 1it [00:02,  2.26s/it]257)\u001b[0m \n",
      "Val Epoch:8: 2it [00:02,  1.21s/it]257)\u001b[0m \n",
      "Val Epoch:8: 5it [00:03,  2.44it/s]257)\u001b[0m \n",
      "Val Epoch:8: 6it [00:03,  2.70it/s]257)\u001b[0m \n",
      "Val Epoch:8: 7it [00:03,  3.14it/s]257)\u001b[0m \n",
      "Val Epoch:8: 8it [00:03,  3.76it/s]257)\u001b[0m \n",
      "Val Epoch:8: 9it [00:04,  3.07it/s]257)\u001b[0m \n",
      "Val Epoch:8: 10it [00:04,  3.46it/s]57)\u001b[0m \n",
      "Val Epoch:8: 13it [00:04,  6.00it/s]57)\u001b[0m \n",
      "Val Epoch:8: 14it [00:04,  5.28it/s]57)\u001b[0m \n",
      "Val Epoch:8: 17it [00:05,  4.81it/s]57)\u001b[0m \n",
      "Val Epoch:8: 18it [00:05,  4.31it/s]57)\u001b[0m \n",
      "Val Epoch:8: 20it [00:05,  5.51it/s]57)\u001b[0m \n",
      "Val Epoch:8: 23it [00:06,  8.01it/s]57)\u001b[0m \n",
      "Val Epoch:8: 25it [00:07,  4.28it/s]57)\u001b[0m \n",
      "Val Epoch:8: 26it [00:07,  3.88it/s]57)\u001b[0m \n",
      "Val Epoch:8: 28it [00:07,  5.06it/s]57)\u001b[0m \n",
      "Val Epoch:8: 30it [00:07,  5.77it/s]57)\u001b[0m \n",
      "Val Epoch:8: 33it [00:08,  4.46it/s]57)\u001b[0m \n",
      "Val Epoch:8: 34it [00:08,  4.65it/s]57)\u001b[0m \n",
      "Val Epoch:8: 35it [00:09,  5.12it/s]57)\u001b[0m \n",
      "Val Epoch:8: 36it [00:09,  5.66it/s]57)\u001b[0m \n",
      "Val Epoch:8: 39it [00:09,  8.18it/s]57)\u001b[0m \n",
      "Val Epoch:8: 41it [00:10,  4.93it/s]57)\u001b[0m \n",
      "Val Epoch:8: 42it [00:10,  3.63it/s]57)\u001b[0m \n",
      "Val Epoch:8: 43it [00:10,  3.98it/s]57)\u001b[0m \n",
      "Val Epoch:8: 44it [00:10,  4.58it/s]57)\u001b[0m \n",
      "Val Epoch:8: 46it [00:11,  5.90it/s]57)\u001b[0m \n",
      "Val Epoch:8: 48it [00:11,  6.81it/s]57)\u001b[0m \n",
      "Val Epoch:8: 49it [00:12,  2.46it/s]57)\u001b[0m \n",
      "Val Epoch:8: 50it [00:12,  2.77it/s]57)\u001b[0m \n",
      "Val Epoch:8: 50it [00:14,  3.56it/s]57)\u001b[0m \n"
     ]
    },
    {
     "name": "stdout",
     "output_type": "stream",
     "text": [
      "\u001b[36m(tune_with_parameters pid=2771257)\u001b[0m loss: 0.594\n",
      "\u001b[36m(tune_with_parameters pid=2663640)\u001b[0m loss: 0.586\n",
      "\u001b[36m(tune_with_parameters pid=2663641)\u001b[0m loss: 0.585\n",
      "\u001b[36m(tune_with_parameters pid=2770411)\u001b[0m loss: 0.586\n"
     ]
    },
    {
     "name": "stderr",
     "output_type": "stream",
     "text": [
      "Val Epoch:24: 0it [00:00, ?it/s]663640)\u001b[0m \n",
      "Val Epoch:24: 1it [00:01,  1.74s/it]40)\u001b[0m \n",
      "Val Epoch:24: 4it [00:01,  2.70it/s]40)\u001b[0m \n",
      "Val Epoch:24: 6it [00:02,  3.81it/s]40)\u001b[0m \n",
      "Val Epoch:24: 8it [00:02,  5.13it/s]40)\u001b[0m \n",
      "Val Epoch:24: 10it [00:03,  2.78it/s]0)\u001b[0m \n",
      "Val Epoch:24: 11it [00:03,  2.90it/s]0)\u001b[0m \n",
      "Val Epoch:24: 13it [00:04,  4.13it/s]0)\u001b[0m \n",
      "Val Epoch:24: 14it [00:04,  4.58it/s]0)\u001b[0m \n",
      "Val Epoch:24: 15it [00:04,  5.19it/s]0)\u001b[0m \n",
      "Val Epoch:24: 16it [00:04,  4.41it/s]0)\u001b[0m \n",
      "Val Epoch:24: 17it [00:05,  2.92it/s]0)\u001b[0m \n",
      "Val Epoch:24: 19it [00:05,  3.59it/s]0)\u001b[0m \n",
      "Val Epoch:24: 21it [00:05,  5.51it/s]0)\u001b[0m \n",
      "Val Epoch:24: 23it [00:06,  4.21it/s]0)\u001b[0m \n",
      "Val Epoch:24: 25it [00:07,  3.27it/s]0)\u001b[0m \n",
      "Val Epoch:24: 0it [00:00, ?it/s]663641)\u001b[0m \n",
      "Val Epoch:24: 26it [00:07,  2.69it/s]0)\u001b[0m \n",
      "Val Epoch:24: 29it [00:08,  3.62it/s]0)\u001b[0m \n",
      "Val Epoch:24: 31it [00:08,  4.37it/s]0)\u001b[0m \n",
      "Val Epoch:24: 12it [00:05,  2.92it/s]\u001b[32m [repeated 22x across cluster]\u001b[0m\n",
      "Val Epoch:24: 23it [00:10,  2.32it/s]\u001b[32m [repeated 15x across cluster]\u001b[0m\n",
      "Val Epoch:24: 32it [00:16,  1.93it/s]\u001b[32m [repeated 9x across cluster]\u001b[0m\n",
      "Val Epoch:24: 41it [00:21,  1.47it/s]\u001b[32m [repeated 8x across cluster]\u001b[0m\n"
     ]
    },
    {
     "name": "stdout",
     "output_type": "stream",
     "text": [
      "\u001b[36m(tune_with_parameters pid=2663640)\u001b[0m loss: 0.579\n",
      "\u001b[36m(tune_with_parameters pid=2771257)\u001b[0m loss: 0.585\n",
      "\u001b[36m(tune_with_parameters pid=2770411)\u001b[0m loss: 0.586\u001b[32m [repeated 2x across cluster]\u001b[0m\n"
     ]
    },
    {
     "name": "stderr",
     "output_type": "stream",
     "text": [
      "Val Epoch:9: 0it [00:00, ?it/s]2770411)\u001b[0m \n",
      "Val Epoch:24: 50it [00:24,  2.06it/s]\u001b[32m [repeated 5x across cluster]\u001b[0m\n"
     ]
    },
    {
     "name": "stdout",
     "output_type": "stream",
     "text": [
      "\u001b[36m(tune_with_parameters pid=2663640)\u001b[0m loss: 0.584\n"
     ]
    },
    {
     "name": "stderr",
     "output_type": "stream",
     "text": [
      "Val Epoch:9: 18it [00:05,  2.81it/s]\u001b[32m [repeated 12x across cluster]\u001b[0m\n",
      "Val Epoch:9: 34it [00:10,  2.13it/s]\u001b[32m [repeated 8x across cluster]\u001b[0m\n",
      "Val Epoch:9: 49it [00:16,  2.09it/s]\u001b[32m [repeated 11x across cluster]\u001b[0m\n"
     ]
    },
    {
     "name": "stdout",
     "output_type": "stream",
     "text": [
      "\u001b[36m(tune_with_parameters pid=2771257)\u001b[0m loss: 0.584\n",
      "\u001b[36m(tune_with_parameters pid=2770411)\u001b[0m loss: 0.579\u001b[32m [repeated 2x across cluster]\u001b[0m\n"
     ]
    },
    {
     "name": "stderr",
     "output_type": "stream",
     "text": [
      "Val Epoch:9: 0it [00:00, ?it/s]2771257)\u001b[0m \n",
      "Val Epoch:9: 50it [00:18,  2.78it/s]11)\u001b[0m \n",
      "Val Epoch:9: 1it [00:04,  4.70s/it]257)\u001b[0m \n",
      "Val Epoch:9: 2it [00:05,  2.12s/it]257)\u001b[0m \n",
      "Val Epoch:9: 3it [00:05,  1.29s/it]257)\u001b[0m \n",
      "Val Epoch:9: 4it [00:05,  1.19it/s]257)\u001b[0m \n",
      "Val Epoch:9: 5it [00:05,  1.67it/s]257)\u001b[0m \n",
      "Val Epoch:9: 6it [00:05,  2.17it/s]257)\u001b[0m \n",
      "Val Epoch:9: 7it [00:06,  2.58it/s]257)\u001b[0m \n",
      "Val Epoch:9: 8it [00:06,  2.88it/s]257)\u001b[0m \n",
      "Val Epoch:9: 9it [00:08,  1.08it/s]257)\u001b[0m \n",
      "Val Epoch:9: 10it [00:08,  1.46it/s]57)\u001b[0m \n",
      "Val Epoch:9: 11it [00:09,  1.64it/s]57)\u001b[0m \n",
      "Val Epoch:9: 13it [00:09,  2.76it/s]57)\u001b[0m \n",
      "Val Epoch:9: 14it [00:09,  2.61it/s]57)\u001b[0m \n",
      "Val Epoch:9: 15it [00:10,  2.65it/s]57)\u001b[0m \n",
      "Val Epoch:9: 16it [00:10,  2.38it/s]57)\u001b[0m \n",
      "Val Epoch:9: 17it [00:11,  1.58it/s]57)\u001b[0m \n",
      "Val Epoch:9: 18it [00:11,  2.00it/s]57)\u001b[0m \n",
      "Val Epoch:9: 19it [00:12,  1.79it/s]57)\u001b[0m \n",
      "Val Epoch:9: 20it [00:12,  2.25it/s]57)\u001b[0m \n",
      "Val Epoch:9: 21it [00:13,  2.72it/s]57)\u001b[0m \n",
      "Val Epoch:9: 23it [00:13,  4.08it/s]57)\u001b[0m \n",
      "Val Epoch:9: 24it [00:13,  4.38it/s]57)\u001b[0m \n",
      "Val Epoch:9: 25it [00:15,  1.62it/s]57)\u001b[0m \n",
      "Val Epoch:9: 26it [00:15,  1.91it/s]57)\u001b[0m \n",
      "Val Epoch:9: 27it [00:15,  2.35it/s]57)\u001b[0m \n",
      "Val Epoch:9: 28it [00:15,  2.52it/s]57)\u001b[0m \n",
      "Val Epoch:9: 29it [00:16,  2.83it/s]57)\u001b[0m \n",
      "Val Epoch:9: 30it [00:16,  2.77it/s]57)\u001b[0m \n",
      "Val Epoch:9: 31it [00:16,  3.46it/s]57)\u001b[0m \n",
      "Val Epoch:9: 32it [00:16,  3.43it/s]57)\u001b[0m \n",
      "Val Epoch:9: 33it [00:18,  1.83it/s]57)\u001b[0m \n",
      "Val Epoch:9: 34it [00:18,  1.72it/s]57)\u001b[0m \n",
      "Val Epoch:9: 37it [00:19,  3.25it/s]57)\u001b[0m \n",
      "Val Epoch:9: 39it [00:19,  4.58it/s]57)\u001b[0m \n",
      "Val Epoch:9: 41it [00:19,  5.41it/s]57)\u001b[0m \n",
      "Val Epoch:9: 42it [00:19,  4.18it/s]57)\u001b[0m \n",
      "Val Epoch:9: 44it [00:19,  5.75it/s]57)\u001b[0m \n",
      "Val Epoch:9: 46it [00:20,  7.04it/s]57)\u001b[0m \n",
      "Val Epoch:9: 49it [00:20,  5.29it/s]57)\u001b[0m \n",
      "Val Epoch:9: 50it [00:21,  2.32it/s]57)\u001b[0m \n"
     ]
    },
    {
     "name": "stdout",
     "output_type": "stream",
     "text": [
      "\u001b[36m(tune_with_parameters pid=2771257)\u001b[0m loss: 0.587\n",
      "\u001b[36m(tune_with_parameters pid=2663640)\u001b[0m loss: 0.586\n",
      "\u001b[36m(tune_with_parameters pid=2663641)\u001b[0m loss: 0.585\n",
      "\u001b[36m(tune_with_parameters pid=2770411)\u001b[0m loss: 0.587\n"
     ]
    },
    {
     "name": "stderr",
     "output_type": "stream",
     "text": [
      "Val Epoch:25: 0it [00:00, ?it/s]663640)\u001b[0m \n",
      "Val Epoch:25: 1it [00:03,  3.75s/it]40)\u001b[0m \n",
      "Val Epoch:25: 2it [00:04,  2.28s/it]40)\u001b[0m \n",
      "Val Epoch:25: 3it [00:05,  1.31s/it]40)\u001b[0m \n",
      "Val Epoch:25: 4it [00:05,  1.17it/s]40)\u001b[0m \n",
      "Val Epoch:25: 5it [00:05,  1.67it/s]40)\u001b[0m \n",
      "Val Epoch:25: 6it [00:05,  2.01it/s]40)\u001b[0m \n",
      "Val Epoch:25: 7it [00:06,  1.93it/s]40)\u001b[0m \n",
      "Val Epoch:25: 8it [00:06,  2.51it/s]40)\u001b[0m \n",
      "Val Epoch:25: 9it [00:06,  2.58it/s]40)\u001b[0m \n",
      "Val Epoch:25: 10it [00:07,  2.04it/s]0)\u001b[0m \n",
      "Val Epoch:25: 11it [00:07,  2.58it/s]0)\u001b[0m \n",
      "Val Epoch:25: 12it [00:07,  3.17it/s]0)\u001b[0m \n",
      "Val Epoch:25: 13it [00:08,  3.57it/s]0)\u001b[0m \n",
      "Val Epoch:25: 14it [00:08,  3.90it/s]0)\u001b[0m \n",
      "Val Epoch:25: 15it [00:08,  3.32it/s]0)\u001b[0m \n",
      "Val Epoch:25: 16it [00:08,  4.01it/s]0)\u001b[0m \n",
      "Val Epoch:25: 17it [00:11,  1.12it/s]0)\u001b[0m \n",
      "Val Epoch:25: 18it [00:11,  1.28it/s]0)\u001b[0m \n",
      "Val Epoch:25: 19it [00:12,  1.48it/s]0)\u001b[0m \n",
      "Val Epoch:25: 20it [00:12,  1.94it/s]0)\u001b[0m \n",
      "Val Epoch:25: 21it [00:12,  2.16it/s]0)\u001b[0m \n",
      "Val Epoch:25: 22it [00:13,  2.15it/s]0)\u001b[0m \n",
      "Val Epoch:25: 23it [00:13,  2.02it/s]0)\u001b[0m \n",
      "Val Epoch:25: 24it [00:13,  2.63it/s]0)\u001b[0m \n",
      "Val Epoch:25: 25it [00:15,  1.23it/s]0)\u001b[0m \n",
      "Val Epoch:25: 26it [00:16,  1.28it/s]0)\u001b[0m \n",
      "Val Epoch:25: 27it [00:17,  1.24it/s]0)\u001b[0m \n",
      "Val Epoch:25: 28it [00:17,  1.45it/s]0)\u001b[0m \n",
      "Val Epoch:25: 29it [00:18,  1.40it/s]0)\u001b[0m \n",
      "Val Epoch:25: 0it [00:00, ?it/s]663641)\u001b[0m \n",
      "Val Epoch:25: 30it [00:18,  1.83it/s]0)\u001b[0m \n",
      "Val Epoch:25: 33it [00:19,  2.87it/s]0)\u001b[0m \n",
      "Val Epoch:25: 34it [00:19,  2.40it/s]0)\u001b[0m \n",
      "Val Epoch:25: 37it [00:20,  3.76it/s]0)\u001b[0m \n",
      "Val Epoch:25: 15it [00:03,  6.50it/s]\u001b[32m [repeated 14x across cluster]\u001b[0m\n",
      "Val Epoch:25: 34it [00:09,  2.47it/s]\u001b[32m [repeated 13x across cluster]\u001b[0m\n"
     ]
    },
    {
     "name": "stdout",
     "output_type": "stream",
     "text": [
      "\u001b[36m(tune_with_parameters pid=2663640)\u001b[0m loss: 0.622\n"
     ]
    },
    {
     "name": "stderr",
     "output_type": "stream",
     "text": [
      "Val Epoch:25: 50it [00:15,  3.26it/s]\u001b[32m [repeated 12x across cluster]\u001b[0m\n"
     ]
    },
    {
     "name": "stdout",
     "output_type": "stream",
     "text": [
      "\u001b[36m(tune_with_parameters pid=2663641)\u001b[0m loss: 0.624\n",
      "\u001b[36m(tune_with_parameters pid=2770411)\u001b[0m loss: 0.586\u001b[32m [repeated 2x across cluster]\u001b[0m\n"
     ]
    },
    {
     "name": "stderr",
     "output_type": "stream",
     "text": [
      "Val Epoch:10: 0it [00:00, ?it/s]770411)\u001b[0m \n",
      "Val Epoch:10: 1it [00:04,  4.68s/it]11)\u001b[0m \n",
      "Val Epoch:10: 2it [00:04,  2.05s/it]11)\u001b[0m \n",
      "Val Epoch:10: 3it [00:05,  1.21s/it]11)\u001b[0m \n",
      "Val Epoch:10: 4it [00:05,  1.20it/s]11)\u001b[0m \n",
      "Val Epoch:10: 5it [00:05,  1.69it/s]11)\u001b[0m \n",
      "Val Epoch:10: 6it [00:05,  1.90it/s]11)\u001b[0m \n",
      "Val Epoch:10: 7it [00:06,  2.04it/s]11)\u001b[0m \n",
      "Val Epoch:10: 8it [00:06,  2.60it/s]11)\u001b[0m \n",
      "Val Epoch:10: 9it [00:08,  1.33it/s]11)\u001b[0m \n",
      "Val Epoch:10: 10it [00:08,  1.76it/s]1)\u001b[0m \n",
      "Val Epoch:10: 11it [00:08,  2.20it/s]1)\u001b[0m \n",
      "Val Epoch:10: 12it [00:08,  2.82it/s]1)\u001b[0m \n",
      "Val Epoch:10: 13it [00:08,  3.32it/s]1)\u001b[0m \n",
      "Val Epoch:10: 14it [00:09,  3.20it/s]1)\u001b[0m \n",
      "Val Epoch:10: 15it [00:09,  3.15it/s]1)\u001b[0m \n",
      "Val Epoch:10: 16it [00:09,  3.66it/s]1)\u001b[0m \n"
     ]
    },
    {
     "name": "stdout",
     "output_type": "stream",
     "text": [
      "\u001b[36m(tune_with_parameters pid=2663640)\u001b[0m loss: 0.587\n"
     ]
    },
    {
     "name": "stderr",
     "output_type": "stream",
     "text": [
      "Val Epoch:10: 17it [00:11,  1.15it/s]1)\u001b[0m \n",
      "Val Epoch:10: 18it [00:12,  1.50it/s]1)\u001b[0m \n",
      "Val Epoch:10: 19it [00:12,  1.86it/s]1)\u001b[0m \n",
      "Val Epoch:10: 20it [00:12,  2.39it/s]1)\u001b[0m \n",
      "Val Epoch:10: 21it [00:12,  2.47it/s]1)\u001b[0m \n",
      "Val Epoch:10: 22it [00:13,  1.88it/s]1)\u001b[0m \n",
      "Val Epoch:10: 23it [00:13,  2.38it/s]1)\u001b[0m \n",
      "Val Epoch:10: 25it [00:14,  3.21it/s]1)\u001b[0m \n",
      "Val Epoch:10: 26it [00:14,  2.93it/s]1)\u001b[0m \n",
      "Val Epoch:10: 27it [00:14,  3.49it/s]1)\u001b[0m \n",
      "Val Epoch:10: 29it [00:14,  5.03it/s]1)\u001b[0m \n",
      "Val Epoch:10: 32it [00:15,  5.40it/s]1)\u001b[0m \n",
      "Val Epoch:10: 33it [00:15,  5.37it/s]1)\u001b[0m \n",
      "Val Epoch:10: 34it [00:16,  3.57it/s]1)\u001b[0m \n",
      "Val Epoch:10: 35it [00:16,  3.89it/s]1)\u001b[0m \n",
      "Val Epoch:10: 37it [00:16,  5.79it/s]1)\u001b[0m \n",
      "Val Epoch:10: 39it [00:16,  7.64it/s]1)\u001b[0m \n",
      "Val Epoch:10: 41it [00:17,  5.67it/s]1)\u001b[0m \n",
      "Val Epoch:10: 42it [00:17,  4.16it/s]1)\u001b[0m \n",
      "Val Epoch:10: 44it [00:17,  5.77it/s]1)\u001b[0m \n",
      "Val Epoch:10: 46it [00:17,  7.54it/s]1)\u001b[0m \n",
      "Val Epoch:10: 48it [00:18,  7.05it/s]1)\u001b[0m \n",
      "Val Epoch:10: 50it [00:18,  7.96it/s]1)\u001b[0m \n",
      "Val Epoch:10: 50it [00:18,  2.66it/s]1)\u001b[0m \n"
     ]
    },
    {
     "name": "stdout",
     "output_type": "stream",
     "text": [
      "\u001b[36m(tune_with_parameters pid=2771257)\u001b[0m loss: 0.583\n",
      "\u001b[36m(tune_with_parameters pid=2770411)\u001b[0m loss: 0.576\u001b[32m [repeated 2x across cluster]\u001b[0m\n"
     ]
    },
    {
     "name": "stderr",
     "output_type": "stream",
     "text": [
      "Val Epoch:10: 0it [00:00, ?it/s]771257)\u001b[0m \n",
      "Val Epoch:10: 1it [00:01,  1.76s/it]57)\u001b[0m \n",
      "Val Epoch:10: 2it [00:02,  1.11it/s]57)\u001b[0m \n",
      "Val Epoch:10: 3it [00:02,  1.87it/s]57)\u001b[0m \n",
      "Val Epoch:10: 5it [00:02,  3.50it/s]57)\u001b[0m \n",
      "Val Epoch:10: 7it [00:02,  4.77it/s]57)\u001b[0m \n",
      "Val Epoch:10: 9it [00:02,  5.26it/s]57)\u001b[0m \n",
      "Val Epoch:10: 10it [00:03,  3.37it/s]7)\u001b[0m \n",
      "Val Epoch:10: 11it [00:03,  3.91it/s]7)\u001b[0m \n",
      "Val Epoch:10: 13it [00:03,  5.31it/s]7)\u001b[0m \n",
      "Val Epoch:10: 15it [00:04,  6.71it/s]7)\u001b[0m \n",
      "Val Epoch:10: 17it [00:04,  5.82it/s]7)\u001b[0m \n",
      "Val Epoch:10: 18it [00:05,  3.27it/s]7)\u001b[0m \n",
      "Val Epoch:10: 21it [00:05,  5.32it/s]7)\u001b[0m \n",
      "Val Epoch:10: 23it [00:05,  5.94it/s]7)\u001b[0m \n",
      "Val Epoch:10: 25it [00:05,  6.59it/s]7)\u001b[0m \n",
      "Val Epoch:10: 26it [00:06,  3.88it/s]7)\u001b[0m \n",
      "Val Epoch:10: 29it [00:06,  5.68it/s]7)\u001b[0m \n",
      "Val Epoch:10: 31it [00:07,  5.19it/s]7)\u001b[0m \n",
      "Val Epoch:10: 32it [00:07,  5.30it/s]7)\u001b[0m \n",
      "Val Epoch:10: 33it [00:08,  3.98it/s]7)\u001b[0m \n",
      "Val Epoch:10: 34it [00:08,  3.12it/s]7)\u001b[0m \n",
      "Val Epoch:10: 35it [00:08,  3.58it/s]7)\u001b[0m \n",
      "Val Epoch:10: 36it [00:08,  3.92it/s]7)\u001b[0m \n",
      "Val Epoch:10: 37it [00:09,  4.63it/s]7)\u001b[0m \n",
      "Val Epoch:10: 38it [00:09,  3.91it/s]7)\u001b[0m \n",
      "Val Epoch:10: 39it [00:10,  2.68it/s]7)\u001b[0m \n",
      "Val Epoch:10: 40it [00:10,  2.88it/s]7)\u001b[0m \n",
      "Val Epoch:10: 42it [00:11,  2.12it/s]7)\u001b[0m \n",
      "Val Epoch:10: 43it [00:11,  2.55it/s]7)\u001b[0m \n",
      "Val Epoch:10: 44it [00:11,  3.07it/s]7)\u001b[0m \n",
      "Val Epoch:10: 46it [00:12,  3.11it/s]7)\u001b[0m \n",
      "Val Epoch:10: 47it [00:12,  3.12it/s]7)\u001b[0m \n",
      "Val Epoch:10: 48it [00:12,  3.66it/s]7)\u001b[0m \n",
      "Val Epoch:10: 49it [00:13,  4.26it/s]7)\u001b[0m \n",
      "Val Epoch:10: 50it [00:13,  3.58it/s]7)\u001b[0m \n"
     ]
    },
    {
     "name": "stdout",
     "output_type": "stream",
     "text": [
      "\u001b[36m(tune_with_parameters pid=2771257)\u001b[0m loss: 0.599\n",
      "\u001b[36m(tune_with_parameters pid=2663640)\u001b[0m loss: 0.586\n",
      "\u001b[36m(tune_with_parameters pid=2663641)\u001b[0m loss: 0.584\n"
     ]
    },
    {
     "name": "stderr",
     "output_type": "stream",
     "text": [
      "Val Epoch:26: 0it [00:00, ?it/s]663640)\u001b[0m \n"
     ]
    },
    {
     "name": "stdout",
     "output_type": "stream",
     "text": [
      "\u001b[36m(tune_with_parameters pid=2770411)\u001b[0m loss: 0.587\n"
     ]
    },
    {
     "name": "stderr",
     "output_type": "stream",
     "text": [
      "Val Epoch:26: 1it [00:01,  1.58s/it]40)\u001b[0m \n",
      "Val Epoch:26: 2it [00:01,  1.29it/s]40)\u001b[0m \n",
      "Val Epoch:26: 3it [00:01,  2.07it/s]40)\u001b[0m \n",
      "Val Epoch:26: 5it [00:02,  3.79it/s]40)\u001b[0m \n",
      "Val Epoch:26: 7it [00:02,  4.87it/s]40)\u001b[0m \n",
      "Val Epoch:26: 9it [00:02,  4.86it/s]40)\u001b[0m \n",
      "Val Epoch:26: 10it [00:02,  5.09it/s]0)\u001b[0m \n",
      "Val Epoch:26: 11it [00:03,  5.18it/s]0)\u001b[0m \n",
      "Val Epoch:26: 13it [00:03,  5.75it/s]0)\u001b[0m \n",
      "Val Epoch:26: 14it [00:03,  6.31it/s]0)\u001b[0m \n",
      "Val Epoch:26: 16it [00:03,  6.99it/s]0)\u001b[0m \n",
      "Val Epoch:26: 17it [00:03,  7.03it/s]0)\u001b[0m \n",
      "Val Epoch:26: 18it [00:04,  3.99it/s]0)\u001b[0m \n",
      "Val Epoch:26: 19it [00:05,  2.51it/s]0)\u001b[0m \n",
      "Val Epoch:26: 21it [00:05,  3.44it/s]0)\u001b[0m \n",
      "Val Epoch:26: 24it [00:05,  5.50it/s]0)\u001b[0m \n",
      "Val Epoch:26: 26it [00:06,  3.51it/s]0)\u001b[0m \n",
      "Val Epoch:26: 27it [00:07,  3.11it/s]0)\u001b[0m \n",
      "Val Epoch:26: 28it [00:07,  3.56it/s]0)\u001b[0m \n",
      "Val Epoch:26: 32it [00:08,  4.52it/s]0)\u001b[0m \n",
      "Val Epoch:26: 33it [00:08,  4.83it/s]0)\u001b[0m \n",
      "Val Epoch:26: 0it [00:00, ?it/s]663641)\u001b[0m \n",
      "Val Epoch:26: 34it [00:09,  2.65it/s]0)\u001b[0m \n",
      "Val Epoch:26: 35it [00:09,  2.71it/s]0)\u001b[0m \n",
      "Val Epoch:26: 36it [00:09,  3.20it/s]0)\u001b[0m \n",
      "Val Epoch:26: 38it [00:10,  4.32it/s]0)\u001b[0m \n",
      "Val Epoch:26: 39it [00:10,  2.89it/s]0)\u001b[0m \n",
      "Val Epoch:26: 40it [00:12,  1.71it/s]0)\u001b[0m \n",
      "Val Epoch:26: 41it [00:12,  2.07it/s]0)\u001b[0m \n",
      "Val Epoch:26: 1it [00:03,  3.93s/it]41)\u001b[0m \n",
      "Val Epoch:26: 43it [00:12,  2.40it/s]0)\u001b[0m \n",
      "Val Epoch:26: 44it [00:13,  2.79it/s]0)\u001b[0m \n",
      "Val Epoch:26: 17it [00:10,  1.20it/s]\u001b[32m [repeated 18x across cluster]\u001b[0m\n",
      "Val Epoch:26: 26it [00:15,  1.35it/s]\u001b[32m [repeated 8x across cluster]\u001b[0m\n",
      "Val Epoch:26: 35it [00:20,  1.22it/s]\u001b[32m [repeated 9x across cluster]\u001b[0m\n"
     ]
    },
    {
     "name": "stdout",
     "output_type": "stream",
     "text": [
      "\u001b[36m(tune_with_parameters pid=2663640)\u001b[0m loss: 0.579\n",
      "\u001b[36m(tune_with_parameters pid=2771257)\u001b[0m loss: 0.579\n",
      "\u001b[36m(tune_with_parameters pid=2663641)\u001b[0m loss: 0.584\n",
      "\u001b[36m(tune_with_parameters pid=2770411)\u001b[0m loss: 0.586\n"
     ]
    },
    {
     "name": "stderr",
     "output_type": "stream",
     "text": [
      "Val Epoch:11: 0it [00:00, ?it/s]770411)\u001b[0m \n",
      "Val Epoch:26: 50it [00:23,  2.11it/s]\u001b[32m [repeated 9x across cluster]\u001b[0m\n"
     ]
    },
    {
     "name": "stdout",
     "output_type": "stream",
     "text": [
      "\u001b[36m(tune_with_parameters pid=2663640)\u001b[0m loss: 0.585\n"
     ]
    },
    {
     "name": "stderr",
     "output_type": "stream",
     "text": [
      "Val Epoch:11: 17it [00:05,  3.44it/s]\u001b[32m [repeated 8x across cluster]\u001b[0m\n",
      "Val Epoch:11: 31it [00:10,  4.15it/s]\u001b[32m [repeated 12x across cluster]\u001b[0m\n"
     ]
    },
    {
     "name": "stdout",
     "output_type": "stream",
     "text": [
      "\u001b[36m(tune_with_parameters pid=2771257)\u001b[0m loss: 0.577\n"
     ]
    },
    {
     "name": "stderr",
     "output_type": "stream",
     "text": [
      "Val Epoch:11: 41it [00:16,  1.56it/s]\u001b[32m [repeated 9x across cluster]\u001b[0m\n"
     ]
    },
    {
     "name": "stdout",
     "output_type": "stream",
     "text": [
      "\u001b[36m(tune_with_parameters pid=2663641)\u001b[0m loss: 0.584\n",
      "\u001b[36m(tune_with_parameters pid=2770411)\u001b[0m loss: 0.572\n"
     ]
    },
    {
     "name": "stderr",
     "output_type": "stream",
     "text": [
      "Val Epoch:11: 0it [00:00, ?it/s]771257)\u001b[0m \n",
      "Val Epoch:11: 50it [00:21,  2.38it/s]\u001b[32m [repeated 7x across cluster]\u001b[0m\n",
      "Val Epoch:11: 5it [00:05,  1.39it/s]\u001b[32m [repeated 4x across cluster]\u001b[0m\n",
      "Val Epoch:11: 17it [00:11,  1.21it/s]\u001b[32m [repeated 11x across cluster]\u001b[0m\n",
      "Val Epoch:11: 30it [00:16,  2.61it/s]\u001b[32m [repeated 11x across cluster]\u001b[0m\n"
     ]
    },
    {
     "name": "stdout",
     "output_type": "stream",
     "text": [
      "\u001b[36m(tune_with_parameters pid=2771257)\u001b[0m loss: 0.557\n",
      "\u001b[36m(tune_with_parameters pid=2663640)\u001b[0m loss: 0.586\n",
      "\u001b[36m(tune_with_parameters pid=2663641)\u001b[0m loss: 0.584\n"
     ]
    },
    {
     "name": "stderr",
     "output_type": "stream",
     "text": [
      "Val Epoch:27: 0it [00:00, ?it/s]663640)\u001b[0m \n",
      "Val Epoch:11: 50it [00:21,  2.30it/s]\u001b[32m [repeated 12x across cluster]\u001b[0m\n"
     ]
    },
    {
     "name": "stdout",
     "output_type": "stream",
     "text": [
      "\u001b[36m(tune_with_parameters pid=2770411)\u001b[0m loss: 0.586\n"
     ]
    },
    {
     "name": "stderr",
     "output_type": "stream",
     "text": [
      "Val Epoch:27: 4it [00:04,  1.17it/s]\u001b[32m [repeated 4x across cluster]\u001b[0m\n",
      "Val Epoch:27: 17it [00:10,  1.64it/s]\u001b[32m [repeated 12x across cluster]\u001b[0m\n",
      "Val Epoch:27: 30it [00:15,  3.82it/s]\u001b[32m [repeated 9x across cluster]\u001b[0m\n",
      "Val Epoch:27: 0it [00:00, ?it/s]663641)\u001b[0m \n",
      "Val Epoch:27: 9it [00:03,  3.08it/s]\u001b[32m [repeated 19x across cluster]\u001b[0m\n",
      "Val Epoch:27: 26it [00:09,  2.22it/s]1)\u001b[0m \n",
      "Val Epoch:27: 24it [00:07,  4.65it/s]\u001b[32m [repeated 9x across cluster]\u001b[0m\n"
     ]
    },
    {
     "name": "stdout",
     "output_type": "stream",
     "text": [
      "\u001b[36m(tune_with_parameters pid=2663640)\u001b[0m loss: 0.624\n"
     ]
    },
    {
     "name": "stderr",
     "output_type": "stream",
     "text": [
      "Val Epoch:27: 41it [00:16,  1.56it/s]\u001b[32m [repeated 11x across cluster]\u001b[0m\n",
      "Val Epoch:27: 49it [00:22,  1.46s/it]\u001b[32m [repeated 7x across cluster]\u001b[0m\n"
     ]
    },
    {
     "name": "stdout",
     "output_type": "stream",
     "text": [
      "\u001b[36m(tune_with_parameters pid=2771257)\u001b[0m loss: 0.581\n",
      "\u001b[36m(tune_with_parameters pid=2663641)\u001b[0m loss: 0.582\n",
      "\u001b[36m(tune_with_parameters pid=2770411)\u001b[0m loss: 0.587\n"
     ]
    },
    {
     "name": "stderr",
     "output_type": "stream",
     "text": [
      "Val Epoch:12: 0it [00:00, ?it/s]770411)\u001b[0m \n",
      "Val Epoch:27: 50it [00:23,  2.12it/s]1)\u001b[0m \n",
      "Val Epoch:12: 1it [00:04,  4.35s/it]11)\u001b[0m \n",
      "Val Epoch:12: 2it [00:04,  1.90s/it]11)\u001b[0m \n",
      "Val Epoch:12: 3it [00:04,  1.11s/it]11)\u001b[0m \n",
      "Val Epoch:12: 4it [00:04,  1.28it/s]11)\u001b[0m \n",
      "Val Epoch:12: 5it [00:05,  1.22it/s]11)\u001b[0m \n",
      "Val Epoch:12: 6it [00:06,  1.68it/s]11)\u001b[0m \n",
      "Val Epoch:12: 7it [00:06,  1.79it/s]11)\u001b[0m \n",
      "Val Epoch:12: 8it [00:06,  2.33it/s]11)\u001b[0m \n",
      "Val Epoch:12: 9it [00:07,  2.17it/s]11)\u001b[0m \n",
      "Val Epoch:12: 10it [00:07,  2.64it/s]1)\u001b[0m \n"
     ]
    },
    {
     "name": "stdout",
     "output_type": "stream",
     "text": [
      "\u001b[36m(tune_with_parameters pid=2663640)\u001b[0m loss: 0.586\n"
     ]
    },
    {
     "name": "stderr",
     "output_type": "stream",
     "text": [
      "Val Epoch:12: 11it [00:07,  2.85it/s]1)\u001b[0m \n",
      "Val Epoch:12: 13it [00:07,  4.00it/s]1)\u001b[0m \n",
      "Val Epoch:12: 14it [00:08,  3.94it/s]1)\u001b[0m \n",
      "Val Epoch:12: 16it [00:08,  4.76it/s]1)\u001b[0m \n",
      "Val Epoch:12: 17it [00:08,  4.00it/s]1)\u001b[0m \n",
      "Val Epoch:12: 19it [00:09,  4.58it/s]1)\u001b[0m \n",
      "Val Epoch:12: 21it [00:09,  6.17it/s]1)\u001b[0m \n",
      "Val Epoch:12: 23it [00:09,  7.81it/s]1)\u001b[0m \n",
      "Val Epoch:12: 25it [00:10,  4.04it/s]1)\u001b[0m \n",
      "Val Epoch:12: 26it [00:10,  3.85it/s]1)\u001b[0m \n",
      "Val Epoch:12: 27it [00:11,  3.36it/s]1)\u001b[0m \n",
      "Val Epoch:12: 29it [00:11,  4.47it/s]1)\u001b[0m \n",
      "Val Epoch:12: 31it [00:11,  5.98it/s]1)\u001b[0m \n",
      "Val Epoch:12: 32it [00:11,  6.05it/s]1)\u001b[0m \n",
      "Val Epoch:12: 33it [00:12,  4.25it/s]1)\u001b[0m \n",
      "Val Epoch:12: 34it [00:12,  4.29it/s]1)\u001b[0m \n",
      "Val Epoch:12: 35it [00:12,  3.96it/s]1)\u001b[0m \n",
      "Val Epoch:12: 36it [00:12,  4.56it/s]1)\u001b[0m \n",
      "Val Epoch:12: 39it [00:12,  8.02it/s]1)\u001b[0m \n"
     ]
    },
    {
     "name": "stdout",
     "output_type": "stream",
     "text": [
      "\u001b[36m(tune_with_parameters pid=2771257)\u001b[0m loss: 0.583\n"
     ]
    },
    {
     "name": "stderr",
     "output_type": "stream",
     "text": [
      "Val Epoch:12: 41it [00:13,  5.22it/s]1)\u001b[0m \n",
      "Val Epoch:12: 42it [00:14,  3.90it/s]1)\u001b[0m \n",
      "Val Epoch:12: 45it [00:14,  6.19it/s]1)\u001b[0m \n",
      "Val Epoch:12: 48it [00:14,  8.43it/s]1)\u001b[0m \n",
      "Val Epoch:12: 50it [00:14,  6.30it/s]1)\u001b[0m \n",
      "Val Epoch:12: 50it [00:15,  3.23it/s]1)\u001b[0m \n"
     ]
    },
    {
     "name": "stdout",
     "output_type": "stream",
     "text": [
      "\u001b[36m(tune_with_parameters pid=2663641)\u001b[0m loss: 0.584\n",
      "\u001b[36m(tune_with_parameters pid=2770411)\u001b[0m loss: 0.594\n"
     ]
    },
    {
     "name": "stderr",
     "output_type": "stream",
     "text": [
      "Val Epoch:12: 0it [00:00, ?it/s]771257)\u001b[0m \n",
      "Val Epoch:12: 1it [00:01,  1.68s/it]57)\u001b[0m \n",
      "Val Epoch:12: 2it [00:01,  1.22it/s]57)\u001b[0m \n",
      "Val Epoch:12: 4it [00:02,  2.63it/s]57)\u001b[0m \n",
      "Val Epoch:12: 5it [00:02,  2.56it/s]57)\u001b[0m \n",
      "Val Epoch:12: 6it [00:02,  3.27it/s]57)\u001b[0m \n",
      "Val Epoch:12: 8it [00:02,  4.79it/s]57)\u001b[0m \n",
      "Val Epoch:12: 9it [00:03,  3.83it/s]57)\u001b[0m \n",
      "Val Epoch:12: 10it [00:03,  4.17it/s]7)\u001b[0m \n",
      "Val Epoch:12: 11it [00:03,  4.58it/s]7)\u001b[0m \n",
      "Val Epoch:12: 13it [00:03,  6.04it/s]7)\u001b[0m \n",
      "Val Epoch:12: 15it [00:03,  8.10it/s]7)\u001b[0m \n",
      "Val Epoch:12: 17it [00:04,  4.63it/s]7)\u001b[0m \n",
      "Val Epoch:12: 18it [00:05,  3.56it/s]7)\u001b[0m \n",
      "Val Epoch:12: 20it [00:05,  4.67it/s]7)\u001b[0m \n",
      "Val Epoch:12: 23it [00:05,  6.57it/s]7)\u001b[0m \n",
      "Val Epoch:12: 24it [00:05,  5.50it/s]7)\u001b[0m \n",
      "Val Epoch:12: 25it [00:06,  4.05it/s]7)\u001b[0m \n",
      "Val Epoch:12: 26it [00:07,  2.44it/s]7)\u001b[0m \n",
      "Val Epoch:12: 27it [00:07,  2.75it/s]7)\u001b[0m \n",
      "Val Epoch:12: 28it [00:07,  2.97it/s]7)\u001b[0m \n",
      "Val Epoch:12: 29it [00:08,  2.92it/s]7)\u001b[0m \n",
      "Val Epoch:12: 30it [00:08,  3.57it/s]7)\u001b[0m \n",
      "Val Epoch:12: 31it [00:08,  4.02it/s]7)\u001b[0m \n",
      "Val Epoch:12: 33it [00:09,  2.67it/s]7)\u001b[0m \n",
      "Val Epoch:12: 34it [00:11,  1.53it/s]7)\u001b[0m \n",
      "Val Epoch:12: 36it [00:11,  2.19it/s]7)\u001b[0m \n",
      "Val Epoch:12: 37it [00:11,  2.27it/s]7)\u001b[0m \n",
      "Val Epoch:12: 39it [00:12,  3.20it/s]7)\u001b[0m \n",
      "Val Epoch:12: 41it [00:12,  3.10it/s]7)\u001b[0m \n",
      "Val Epoch:12: 42it [00:14,  1.93it/s]7)\u001b[0m \n",
      "Val Epoch:12: 43it [00:14,  2.28it/s]7)\u001b[0m \n",
      "Val Epoch:12: 44it [00:14,  2.72it/s]7)\u001b[0m \n",
      "Val Epoch:12: 45it [00:14,  3.18it/s]7)\u001b[0m \n",
      "Val Epoch:12: 47it [00:14,  4.57it/s]7)\u001b[0m \n",
      "Val Epoch:12: 48it [00:14,  4.90it/s]7)\u001b[0m \n",
      "Val Epoch:12: 49it [00:16,  2.17it/s]7)\u001b[0m \n",
      "Val Epoch:12: 50it [00:16,  2.67it/s]7)\u001b[0m \n",
      "Val Epoch:12: 50it [00:17,  2.91it/s]7)\u001b[0m \n"
     ]
    },
    {
     "name": "stdout",
     "output_type": "stream",
     "text": [
      "\u001b[36m(tune_with_parameters pid=2771257)\u001b[0m loss: 0.582\n",
      "\u001b[36m(tune_with_parameters pid=2663640)\u001b[0m loss: 0.586\n",
      "\u001b[36m(tune_with_parameters pid=2663641)\u001b[0m loss: 0.585\n"
     ]
    },
    {
     "name": "stderr",
     "output_type": "stream",
     "text": [
      "Val Epoch:28: 0it [00:00, ?it/s]663640)\u001b[0m \n"
     ]
    },
    {
     "name": "stdout",
     "output_type": "stream",
     "text": [
      "\u001b[36m(tune_with_parameters pid=2770411)\u001b[0m loss: 0.587\n"
     ]
    },
    {
     "name": "stderr",
     "output_type": "stream",
     "text": [
      "Val Epoch:28: 1it [00:01,  1.70s/it]40)\u001b[0m \n",
      "Val Epoch:28: 2it [00:02,  1.13it/s]40)\u001b[0m \n",
      "Val Epoch:28: 4it [00:02,  2.61it/s]40)\u001b[0m \n",
      "Val Epoch:28: 6it [00:02,  3.90it/s]40)\u001b[0m \n",
      "Val Epoch:28: 7it [00:02,  3.95it/s]40)\u001b[0m \n",
      "Val Epoch:28: 9it [00:02,  5.86it/s]40)\u001b[0m \n",
      "Val Epoch:28: 11it [00:03,  3.69it/s]0)\u001b[0m \n",
      "Val Epoch:28: 13it [00:03,  5.00it/s]0)\u001b[0m \n",
      "Val Epoch:28: 15it [00:04,  5.58it/s]0)\u001b[0m \n",
      "Val Epoch:28: 17it [00:04,  5.53it/s]0)\u001b[0m \n",
      "Val Epoch:28: 18it [00:04,  4.00it/s]0)\u001b[0m \n",
      "Val Epoch:28: 19it [00:05,  4.51it/s]0)\u001b[0m \n",
      "Val Epoch:28: 21it [00:05,  4.62it/s]0)\u001b[0m \n",
      "Val Epoch:28: 23it [00:05,  5.82it/s]0)\u001b[0m \n",
      "Val Epoch:28: 24it [00:05,  6.27it/s]0)\u001b[0m \n",
      "Val Epoch:28: 25it [00:06,  3.27it/s]0)\u001b[0m \n",
      "Val Epoch:28: 26it [00:08,  1.66it/s]0)\u001b[0m \n",
      "Val Epoch:28: 27it [00:08,  2.03it/s]0)\u001b[0m \n",
      "Val Epoch:28: 29it [00:08,  3.05it/s]0)\u001b[0m \n",
      "Val Epoch:28: 30it [00:08,  3.13it/s]0)\u001b[0m \n",
      "Val Epoch:28: 31it [00:09,  2.95it/s]0)\u001b[0m \n",
      "Val Epoch:28: 32it [00:09,  3.54it/s]0)\u001b[0m \n",
      "Val Epoch:28: 33it [00:10,  2.59it/s]0)\u001b[0m \n",
      "Val Epoch:28: 34it [00:10,  1.82it/s]0)\u001b[0m \n",
      "Val Epoch:28: 36it [00:11,  2.72it/s]0)\u001b[0m \n",
      "Val Epoch:28: 37it [00:11,  2.85it/s]0)\u001b[0m \n",
      "Val Epoch:28: 39it [00:11,  3.61it/s]0)\u001b[0m \n",
      "Val Epoch:28: 40it [00:12,  3.94it/s]0)\u001b[0m \n",
      "Val Epoch:28: 41it [00:13,  2.15it/s]0)\u001b[0m \n",
      "Val Epoch:28: 42it [00:14,  1.44it/s]0)\u001b[0m \n",
      "Val Epoch:28: 44it [00:14,  2.36it/s]0)\u001b[0m \n",
      "Val Epoch:28: 45it [00:14,  2.80it/s]0)\u001b[0m \n",
      "Val Epoch:28: 46it [00:14,  3.40it/s]0)\u001b[0m \n",
      "Val Epoch:28: 47it [00:15,  2.73it/s]0)\u001b[0m \n",
      "Val Epoch:28: 49it [00:16,  2.34it/s]0)\u001b[0m \n",
      "Val Epoch:28: 50it [00:16,  2.60it/s]0)\u001b[0m \n",
      "Val Epoch:28: 50it [00:17,  2.81it/s]0)\u001b[0m \n",
      "Val Epoch:28: 0it [00:00, ?it/s]663641)\u001b[0m \n",
      "Val Epoch:28: 1it [00:05,  5.27s/it]41)\u001b[0m \n",
      "Val Epoch:28: 3it [00:05,  1.44s/it]41)\u001b[0m \n",
      "Val Epoch:28: 6it [00:05,  1.67it/s]41)\u001b[0m \n",
      "Val Epoch:28: 8it [00:05,  2.46it/s]41)\u001b[0m \n",
      "Val Epoch:28: 10it [00:06,  2.71it/s]1)\u001b[0m \n",
      "Val Epoch:28: 11it [00:06,  3.13it/s]1)\u001b[0m \n",
      "Val Epoch:28: 13it [00:06,  4.16it/s]1)\u001b[0m \n",
      "Val Epoch:28: 14it [00:06,  4.13it/s]1)\u001b[0m \n"
     ]
    },
    {
     "name": "stdout",
     "output_type": "stream",
     "text": [
      "\u001b[36m(tune_with_parameters pid=2663640)\u001b[0m loss: 0.579\n"
     ]
    },
    {
     "name": "stderr",
     "output_type": "stream",
     "text": [
      "Val Epoch:28: 17it [00:07,  4.09it/s]1)\u001b[0m \n",
      "Val Epoch:28: 18it [00:07,  4.56it/s]1)\u001b[0m \n",
      "Val Epoch:28: 21it [00:08,  6.29it/s]1)\u001b[0m \n",
      "Val Epoch:28: 22it [00:08,  6.53it/s]1)\u001b[0m \n",
      "Val Epoch:28: 23it [00:08,  4.60it/s]1)\u001b[0m \n",
      "Val Epoch:28: 25it [00:09,  3.63it/s]1)\u001b[0m \n",
      "Val Epoch:28: 27it [00:09,  4.95it/s]1)\u001b[0m \n",
      "Val Epoch:28: 30it [00:09,  6.22it/s]1)\u001b[0m \n",
      "Val Epoch:28: 31it [00:09,  6.61it/s]1)\u001b[0m \n",
      "Val Epoch:28: 33it [00:11,  3.25it/s]1)\u001b[0m \n",
      "Val Epoch:28: 34it [00:11,  3.52it/s]1)\u001b[0m \n",
      "Val Epoch:28: 36it [00:11,  4.83it/s]1)\u001b[0m \n",
      "Val Epoch:28: 38it [00:11,  6.46it/s]1)\u001b[0m \n",
      "Val Epoch:28: 40it [00:12,  5.98it/s]1)\u001b[0m \n",
      "Val Epoch:28: 42it [00:12,  5.29it/s]1)\u001b[0m \n",
      "Val Epoch:28: 45it [00:12,  7.62it/s]1)\u001b[0m \n",
      "Val Epoch:28: 47it [00:12,  8.66it/s]1)\u001b[0m \n",
      "Val Epoch:28: 49it [00:14,  2.56it/s]1)\u001b[0m \n"
     ]
    },
    {
     "name": "stdout",
     "output_type": "stream",
     "text": [
      "\u001b[36m(tune_with_parameters pid=2771257)\u001b[0m loss: 0.585\n"
     ]
    },
    {
     "name": "stderr",
     "output_type": "stream",
     "text": [
      "Val Epoch:28: 50it [00:16,  3.07it/s]1)\u001b[0m \n",
      "\u001b[36m(tune_with_parameters pid=2663641)\u001b[0m [2024-07-30 15:07:06,866 E 2663641 2663995] logging.cc:115: Stack trace: \n",
      "\u001b[36m(tune_with_parameters pid=2663641)\u001b[0m  /users/k23058970/miniforge3/envs/Training/lib/python3.10/site-packages/ray/_raylet.so(+0x1033f2a) [0x7d2e53f86f2a] ray::operator<<()\n",
      "\u001b[36m(tune_with_parameters pid=2663641)\u001b[0m /users/k23058970/miniforge3/envs/Training/lib/python3.10/site-packages/ray/_raylet.so(+0x1036f72) [0x7d2e53f89f72] ray::TerminateHandler()\n",
      "\u001b[36m(tune_with_parameters pid=2663641)\u001b[0m /users/k23058970/miniforge3/envs/Training/bin/../lib/libstdc++.so.6(+0xb643c) [0x7d2e52e2643c] __cxxabiv1::__terminate()\n",
      "\u001b[36m(tune_with_parameters pid=2663641)\u001b[0m /users/k23058970/miniforge3/envs/Training/bin/../lib/libstdc++.so.6(+0xb648e) [0x7d2e52e2648e] __cxxabiv1::__unexpected()\n",
      "\u001b[36m(tune_with_parameters pid=2663641)\u001b[0m /users/k23058970/miniforge3/envs/Training/bin/../lib/libstdc++.so.6(__gxx_personality_v0+0x3e0) [0x7d2e52e26109] __gxx_personality_v0\n",
      "\u001b[36m(tune_with_parameters pid=2663641)\u001b[0m /users/k23058970/miniforge3/envs/Training/bin/../lib/libgcc_s.so.1(+0x12899) [0x7d2e52d67899] _Unwind_ForcedUnwind_Phase2\n",
      "\u001b[36m(tune_with_parameters pid=2663641)\u001b[0m /users/k23058970/miniforge3/envs/Training/bin/../lib/libgcc_s.so.1(_Unwind_ForcedUnwind+0x74) [0x7d2e52d67bfc] _Unwind_ForcedUnwind\n",
      "\u001b[36m(tune_with_parameters pid=2663641)\u001b[0m /lib/x86_64-linux-gnu/libc.so.6(+0x9d446) [0x7d2e5509d446]\n",
      "\u001b[36m(tune_with_parameters pid=2663641)\u001b[0m /lib/x86_64-linux-gnu/libc.so.6(pthread_exit+0x3a) [0x7d2e55095cba] pthread_exit\n",
      "\u001b[36m(tune_with_parameters pid=2663641)\u001b[0m ray::ImplicitFunc(+0xe929a) [0x57b23650a29a] _append_preinit_entry.isra.0\n",
      "\u001b[36m(tune_with_parameters pid=2663641)\u001b[0m ray::ImplicitFunc(+0x5df15) [0x57b23647ef15] take_gil.cold\n",
      "\u001b[36m(tune_with_parameters pid=2663641)\u001b[0m ray::ImplicitFunc(PyEval_RestoreThread+0x12) [0x57b236580622] PyEval_RestoreThread\n",
      "\u001b[36m(tune_with_parameters pid=2663641)\u001b[0m /users/k23058970/miniforge3/envs/Training/lib/python3.10/site-packages/torch/lib/libtorch_python.so(+0x850e77) [0x7cff43e5ae77] THPVariable_clear()\n",
      "\u001b[36m(tune_with_parameters pid=2663641)\u001b[0m /users/k23058970/miniforge3/envs/Training/lib/python3.10/site-packages/torch/lib/libtorch_python.so(_Z28THPVariable_subclass_deallocP7_object+0x2f6) [0x7cff43e5b406] THPVariable_subclass_dealloc()\n",
      "\u001b[36m(tune_with_parameters pid=2663641)\u001b[0m ray::ImplicitFunc(+0x1310ef) [0x57b2365520ef] dict_dealloc\n",
      "\u001b[36m(tune_with_parameters pid=2663641)\u001b[0m ray::ImplicitFunc(+0x1310ef) [0x57b2365520ef] dict_dealloc\n",
      "\u001b[36m(tune_with_parameters pid=2663641)\u001b[0m ray::ImplicitFunc(+0x131156) [0x57b236552156] dict_dealloc\n",
      "\u001b[36m(tune_with_parameters pid=2663641)\u001b[0m ray::ImplicitFunc(+0x153c24) [0x57b236574c24] subtype_dealloc\n",
      "\u001b[36m(tune_with_parameters pid=2663641)\u001b[0m ray::ImplicitFunc(+0x131156) [0x57b236552156] dict_dealloc\n",
      "\u001b[36m(tune_with_parameters pid=2663641)\u001b[0m ray::ImplicitFunc(+0x153c24) [0x57b236574c24] subtype_dealloc\n",
      "\u001b[36m(tune_with_parameters pid=2663641)\u001b[0m ray::ImplicitFunc(+0x13d697) [0x57b23655e697] frame_dealloc\n",
      "\u001b[36m(tune_with_parameters pid=2663641)\u001b[0m ray::ImplicitFunc(+0x14dcf6) [0x57b23656ecf6] tb_dealloc\n",
      "\u001b[36m(tune_with_parameters pid=2663641)\u001b[0m ray::ImplicitFunc(+0x14dd53) [0x57b23656ed53] tb_dealloc\n",
      "\u001b[36m(tune_with_parameters pid=2663641)\u001b[0m ray::ImplicitFunc(+0x14dd53) [0x57b23656ed53] tb_dealloc\n",
      "\u001b[36m(tune_with_parameters pid=2663641)\u001b[0m ray::ImplicitFunc(+0x14dd53) [0x57b23656ed53] tb_dealloc\n",
      "\u001b[36m(tune_with_parameters pid=2663641)\u001b[0m ray::ImplicitFunc(+0x14dd53) [0x57b23656ed53] tb_dealloc\n",
      "\u001b[36m(tune_with_parameters pid=2663641)\u001b[0m ray::ImplicitFunc(+0x14dd53) [0x57b23656ed53] tb_dealloc\n",
      "\u001b[36m(tune_with_parameters pid=2663641)\u001b[0m ray::ImplicitFunc(+0x129739) [0x57b23654a739] BaseException_clear\n",
      "\u001b[36m(tune_with_parameters pid=2663641)\u001b[0m ray::ImplicitFunc(+0x20f3d1) [0x57b2366303d1] NameError_dealloc\n",
      "\u001b[36m(tune_with_parameters pid=2663641)\u001b[0m ray::ImplicitFunc(_PyEval_EvalFrameDefault+0x4937) [0x57b236559e67] _PyEval_EvalFrameDefault\n",
      "\u001b[36m(tune_with_parameters pid=2663641)\u001b[0m ray::ImplicitFunc(_PyFunction_Vectorcall+0x6c) [0x57b236565a2c] _PyFunction_Vectorcall\n",
      "\u001b[36m(tune_with_parameters pid=2663641)\u001b[0m ray::ImplicitFunc(_PyEval_EvalFrameDefault+0x72c) [0x57b236555c5c] _PyEval_EvalFrameDefault\n",
      "\u001b[36m(tune_with_parameters pid=2663641)\u001b[0m ray::ImplicitFunc(_PyFunction_Vectorcall+0x6c) [0x57b236565a2c] _PyFunction_Vectorcall\n",
      "\u001b[36m(tune_with_parameters pid=2663641)\u001b[0m ray::ImplicitFunc(_PyEval_EvalFrameDefault+0x72c) [0x57b236555c5c] _PyEval_EvalFrameDefault\n",
      "\u001b[36m(tune_with_parameters pid=2663641)\u001b[0m ray::ImplicitFunc(+0x150804) [0x57b236571804] method_vectorcall\n",
      "\u001b[36m(tune_with_parameters pid=2663641)\u001b[0m ray::ImplicitFunc(+0x228372) [0x57b236649372] thread_run\n",
      "\u001b[36m(tune_with_parameters pid=2663641)\u001b[0m ray::ImplicitFunc(+0x228324) [0x57b236649324] pythread_wrapper\n",
      "\u001b[36m(tune_with_parameters pid=2663641)\u001b[0m /lib/x86_64-linux-gnu/libc.so.6(+0x94ac3) [0x7d2e55094ac3]\n",
      "\u001b[36m(tune_with_parameters pid=2663641)\u001b[0m /lib/x86_64-linux-gnu/libc.so.6(+0x126850) [0x7d2e55126850]\n",
      "\u001b[36m(tune_with_parameters pid=2663641)\u001b[0m \n"
     ]
    },
    {
     "name": "stdout",
     "output_type": "stream",
     "text": [
      "\u001b[36m(tune_with_parameters pid=2770411)\u001b[0m loss: 0.586\n"
     ]
    },
    {
     "name": "stderr",
     "output_type": "stream",
     "text": [
      "Val Epoch:13: 0it [00:00, ?it/s]770411)\u001b[0m \n",
      "Val Epoch:13: 1it [00:02,  2.58s/it]11)\u001b[0m \n"
     ]
    },
    {
     "name": "stdout",
     "output_type": "stream",
     "text": [
      "\u001b[36m(tune_with_parameters pid=2663640)\u001b[0m loss: 0.587\n"
     ]
    },
    {
     "name": "stderr",
     "output_type": "stream",
     "text": [
      "Val Epoch:13: 4it [00:02,  1.79it/s]11)\u001b[0m \n",
      "Val Epoch:13: 6it [00:03,  2.44it/s]11)\u001b[0m \n",
      "Val Epoch:13: 9it [00:03,  3.97it/s]11)\u001b[0m \n",
      "Val Epoch:13: 10it [00:03,  3.43it/s]1)\u001b[0m \n",
      "Val Epoch:13: 13it [00:04,  5.34it/s]1)\u001b[0m \n",
      "Val Epoch:13: 15it [00:04,  6.00it/s]1)\u001b[0m \n",
      "Val Epoch:13: 17it [00:04,  6.58it/s]1)\u001b[0m \n",
      "Val Epoch:13: 18it [00:05,  4.70it/s]1)\u001b[0m \n",
      "Val Epoch:13: 19it [00:05,  4.62it/s]1)\u001b[0m \n",
      "Val Epoch:13: 21it [00:05,  6.19it/s]1)\u001b[0m \n",
      "Val Epoch:13: 22it [00:05,  6.39it/s]1)\u001b[0m \n",
      "Val Epoch:13: 24it [00:05,  7.97it/s]1)\u001b[0m \n",
      "Val Epoch:13: 26it [00:06,  4.63it/s]1)\u001b[0m \n",
      "Val Epoch:13: 27it [00:06,  4.00it/s]1)\u001b[0m \n",
      "Val Epoch:13: 29it [00:07,  5.23it/s]1)\u001b[0m \n",
      "Val Epoch:13: 32it [00:07,  7.97it/s]1)\u001b[0m \n",
      "Val Epoch:13: 34it [00:07,  5.06it/s]1)\u001b[0m \n",
      "Val Epoch:13: 36it [00:08,  6.13it/s]1)\u001b[0m \n",
      "Val Epoch:13: 39it [00:08,  8.83it/s]1)\u001b[0m \n",
      "Val Epoch:13: 41it [00:08,  9.56it/s]1)\u001b[0m \n"
     ]
    },
    {
     "name": "stdout",
     "output_type": "stream",
     "text": [
      "\u001b[36m(tune_with_parameters pid=2771257)\u001b[0m loss: 0.587\n"
     ]
    },
    {
     "name": "stderr",
     "output_type": "stream",
     "text": [
      "Val Epoch:13: 43it [00:09,  5.94it/s]1)\u001b[0m \n",
      "Val Epoch:13: 46it [00:09,  8.25it/s]1)\u001b[0m \n",
      "Val Epoch:13: 49it [00:09, 10.89it/s]1)\u001b[0m \n",
      "Val Epoch:13: 50it [00:09,  5.09it/s]1)\u001b[0m \n",
      "Val Epoch:13: 0it [00:00, ?it/s]771257)\u001b[0m \n",
      "Val Epoch:13: 1it [00:01,  1.98s/it]57)\u001b[0m \n",
      "Val Epoch:13: 2it [00:02,  1.00it/s]57)\u001b[0m \n",
      "Val Epoch:13: 3it [00:02,  1.57it/s]57)\u001b[0m \n",
      "Val Epoch:13: 4it [00:02,  1.93it/s]57)\u001b[0m \n",
      "Val Epoch:13: 8it [00:03,  4.99it/s]57)\u001b[0m \n",
      "Val Epoch:13: 9it [00:03,  4.25it/s]57)\u001b[0m \n",
      "Val Epoch:13: 11it [00:03,  5.90it/s]7)\u001b[0m \n",
      "Val Epoch:13: 15it [00:03,  9.35it/s]7)\u001b[0m \n",
      "Val Epoch:13: 17it [00:04,  5.41it/s]7)\u001b[0m \n",
      "Val Epoch:13: 19it [00:04,  6.54it/s]7)\u001b[0m \n",
      "Val Epoch:13: 21it [00:04,  7.89it/s]7)\u001b[0m \n",
      "Val Epoch:13: 24it [00:05,  9.26it/s]7)\u001b[0m \n",
      "Val Epoch:13: 26it [00:05,  7.72it/s]7)\u001b[0m \n",
      "Val Epoch:13: 28it [00:05,  8.72it/s]7)\u001b[0m \n",
      "Val Epoch:13: 31it [00:05, 11.59it/s]7)\u001b[0m \n",
      "Val Epoch:13: 33it [00:06,  7.95it/s]7)\u001b[0m \n",
      "Val Epoch:13: 35it [00:06,  7.89it/s]7)\u001b[0m \n",
      "Val Epoch:13: 37it [00:06,  9.14it/s]7)\u001b[0m \n",
      "Val Epoch:13: 40it [00:06, 11.86it/s]7)\u001b[0m \n",
      "Val Epoch:13: 42it [00:06,  9.92it/s]7)\u001b[0m \n",
      "Val Epoch:13: 44it [00:07, 10.53it/s]7)\u001b[0m \n",
      "Val Epoch:13: 48it [00:07, 15.44it/s]7)\u001b[0m \n",
      "Val Epoch:13: 50it [00:07,  6.60it/s]7)\u001b[0m \n"
     ]
    },
    {
     "name": "stdout",
     "output_type": "stream",
     "text": [
      "\u001b[36m(tune_with_parameters pid=2663640)\u001b[0m loss: 0.586\n"
     ]
    },
    {
     "name": "stderr",
     "output_type": "stream",
     "text": [
      "Val Epoch:29: 0it [00:00, ?it/s]663640)\u001b[0m \n",
      "Val Epoch:29: 1it [00:01,  1.67s/it]40)\u001b[0m \n",
      "Val Epoch:29: 2it [00:01,  1.34it/s]40)\u001b[0m \n",
      "Val Epoch:29: 4it [00:02,  2.85it/s]40)\u001b[0m \n",
      "Val Epoch:29: 5it [00:02,  3.53it/s]40)\u001b[0m \n",
      "Val Epoch:29: 6it [00:02,  4.38it/s]40)\u001b[0m \n",
      "Val Epoch:29: 8it [00:02,  6.77it/s]40)\u001b[0m \n",
      "Val Epoch:29: 10it [00:02,  5.93it/s]0)\u001b[0m \n",
      "Val Epoch:29: 12it [00:02,  7.29it/s]0)\u001b[0m \n",
      "Val Epoch:29: 14it [00:03,  7.33it/s]0)\u001b[0m \n",
      "Val Epoch:29: 16it [00:03,  6.50it/s]0)\u001b[0m \n",
      "Val Epoch:29: 17it [00:03,  5.73it/s]0)\u001b[0m \n",
      "Val Epoch:29: 19it [00:03,  7.18it/s]0)\u001b[0m \n",
      "Val Epoch:29: 22it [00:04,  9.42it/s]0)\u001b[0m \n",
      "Val Epoch:29: 24it [00:04,  9.98it/s]0)\u001b[0m \n",
      "Val Epoch:29: 26it [00:04,  6.82it/s]0)\u001b[0m \n",
      "Val Epoch:29: 27it [00:05,  5.60it/s]0)\u001b[0m \n",
      "Val Epoch:29: 32it [00:05, 10.60it/s]0)\u001b[0m \n",
      "Val Epoch:29: 34it [00:05,  8.04it/s]0)\u001b[0m \n",
      "Val Epoch:29: 36it [00:06,  7.02it/s]0)\u001b[0m \n",
      "Val Epoch:29: 39it [00:06,  9.14it/s]0)\u001b[0m \n",
      "Val Epoch:29: 41it [00:06, 10.20it/s]0)\u001b[0m \n",
      "Val Epoch:29: 43it [00:06,  8.50it/s]0)\u001b[0m \n",
      "Val Epoch:29: 49it [00:06, 13.93it/s]0)\u001b[0m \n",
      "Val Epoch:29: 50it [00:07,  6.93it/s]0)\u001b[0m \n",
      "\u001b[36m(tune_with_parameters pid=2878214)\u001b[0m /users/k23058970/miniforge3/envs/Training/lib/python3.10/site-packages/torch/utils/data/dataloader.py:558: UserWarning: This DataLoader will create 8 worker processes in total. Our suggested max number of worker in current system is 2, which is smaller than what this DataLoader is going to create. Please be aware that excessive worker creation might get DataLoader running slow or even freeze, lower the worker number to avoid potential slowness/freeze if necessary.\n",
      "\u001b[36m(tune_with_parameters pid=2878214)\u001b[0m   warnings.warn(_create_warning_msg(\n"
     ]
    },
    {
     "name": "stdout",
     "output_type": "stream",
     "text": [
      "\u001b[36m(tune_with_parameters pid=2663640)\u001b[0m loss: 0.639\n"
     ]
    },
    {
     "name": "stderr",
     "output_type": "stream",
     "text": [
      "\u001b[36m(tune_with_parameters pid=2878214)\u001b[0m /users/k23058970/miniforge3/envs/Training/lib/python3.10/site-packages/torch/nn/modules/lazy.py:181: UserWarning: Lazy modules are a new feature under heavy development so changes to the API or functionality can happen at any moment.\n",
      "\u001b[36m(tune_with_parameters pid=2878214)\u001b[0m   warnings.warn('Lazy modules are a new feature under heavy development '\n"
     ]
    },
    {
     "name": "stdout",
     "output_type": "stream",
     "text": [
      "\u001b[36m(tune_with_parameters pid=2663640)\u001b[0m loss: 0.586\n"
     ]
    },
    {
     "name": "stderr",
     "output_type": "stream",
     "text": [
      "\u001b[36m(tune_with_parameters pid=2878938)\u001b[0m /users/k23058970/miniforge3/envs/Training/lib/python3.10/site-packages/torch/utils/data/dataloader.py:558: UserWarning: This DataLoader will create 8 worker processes in total. Our suggested max number of worker in current system is 2, which is smaller than what this DataLoader is going to create. Please be aware that excessive worker creation might get DataLoader running slow or even freeze, lower the worker number to avoid potential slowness/freeze if necessary.\n",
      "\u001b[36m(tune_with_parameters pid=2878938)\u001b[0m   warnings.warn(_create_warning_msg(\n",
      "\u001b[36m(tune_with_parameters pid=2878214)\u001b[0m /users/k23058970/miniforge3/envs/Training/lib/python3.10/site-packages/torch/utils/data/dataloader.py:558: UserWarning: This DataLoader will create 8 worker processes in total. Our suggested max number of worker in current system is 2, which is smaller than what this DataLoader is going to create. Please be aware that excessive worker creation might get DataLoader running slow or even freeze, lower the worker number to avoid potential slowness/freeze if necessary.\n",
      "\u001b[36m(tune_with_parameters pid=2878214)\u001b[0m   warnings.warn(_create_warning_msg(\n"
     ]
    },
    {
     "name": "stdout",
     "output_type": "stream",
     "text": [
      "\u001b[36m(tune_with_parameters pid=2878214)\u001b[0m loss: 0.716\n"
     ]
    },
    {
     "name": "stderr",
     "output_type": "stream",
     "text": [
      "\u001b[36m(tune_with_parameters pid=2880171)\u001b[0m /users/k23058970/miniforge3/envs/Training/lib/python3.10/site-packages/torch/utils/data/dataloader.py:558: UserWarning: This DataLoader will create 8 worker processes in total. Our suggested max number of worker in current system is 2, which is smaller than what this DataLoader is going to create. Please be aware that excessive worker creation might get DataLoader running slow or even freeze, lower the worker number to avoid potential slowness/freeze if necessary.\n",
      "\u001b[36m(tune_with_parameters pid=2880171)\u001b[0m   warnings.warn(_create_warning_msg(\n",
      "\u001b[36m(tune_with_parameters pid=2878938)\u001b[0m /users/k23058970/miniforge3/envs/Training/lib/python3.10/site-packages/torch/nn/modules/lazy.py:181: UserWarning: Lazy modules are a new feature under heavy development so changes to the API or functionality can happen at any moment.\n",
      "\u001b[36m(tune_with_parameters pid=2878938)\u001b[0m   warnings.warn('Lazy modules are a new feature under heavy development '\n"
     ]
    },
    {
     "name": "stdout",
     "output_type": "stream",
     "text": [
      "\u001b[36m(tune_with_parameters pid=2663640)\u001b[0m loss: 0.586\n"
     ]
    },
    {
     "name": "stderr",
     "output_type": "stream",
     "text": [
      "Val Epoch:30: 0it [00:00, ?it/s]663640)\u001b[0m \n",
      "Val Epoch:30: 1it [00:02,  2.95s/it]40)\u001b[0m \n",
      "Val Epoch:30: 2it [00:03,  1.30s/it]40)\u001b[0m \n",
      "Val Epoch:30: 3it [00:03,  1.01s/it]40)\u001b[0m \n",
      "Val Epoch:30: 4it [00:03,  1.48it/s]40)\u001b[0m \n",
      "Val Epoch:30: 5it [00:04,  1.82it/s]40)\u001b[0m \n",
      "Val Epoch:30: 6it [00:04,  2.18it/s]40)\u001b[0m \n",
      "Val Epoch:30: 7it [00:04,  2.79it/s]40)\u001b[0m \n",
      "Val Epoch:30: 9it [00:06,  1.98it/s]40)\u001b[0m \n",
      "Val Epoch:30: 10it [00:06,  2.17it/s]0)\u001b[0m \n",
      "Val Epoch:30: 11it [00:06,  2.15it/s]0)\u001b[0m \n",
      "Val Epoch:30: 12it [00:06,  2.68it/s]0)\u001b[0m \n",
      "Val Epoch:30: 13it [00:07,  3.15it/s]0)\u001b[0m \n",
      "Val Epoch:30: 14it [00:07,  3.74it/s]0)\u001b[0m \n",
      "Val Epoch:30: 16it [00:07,  5.41it/s]0)\u001b[0m \n",
      "Val Epoch:30: 17it [00:08,  2.00it/s]0)\u001b[0m \n",
      "Val Epoch:30: 18it [00:09,  2.48it/s]0)\u001b[0m \n",
      "Val Epoch:30: 19it [00:09,  2.67it/s]0)\u001b[0m \n",
      "Val Epoch:30: 20it [00:09,  2.71it/s]0)\u001b[0m \n",
      "Val Epoch:30: 21it [00:10,  1.68it/s]0)\u001b[0m \n",
      "Val Epoch:30: 22it [00:10,  2.21it/s]0)\u001b[0m \n",
      "Val Epoch:30: 23it [00:11,  2.74it/s]0)\u001b[0m \n",
      "Val Epoch:30: 25it [00:11,  3.19it/s]0)\u001b[0m \n",
      "Val Epoch:30: 27it [00:12,  3.07it/s]0)\u001b[0m \n",
      "Val Epoch:30: 28it [00:12,  3.60it/s]0)\u001b[0m \n"
     ]
    },
    {
     "name": "stdout",
     "output_type": "stream",
     "text": [
      "\u001b[36m(tune_with_parameters pid=2878214)\u001b[0m loss: 0.589\n"
     ]
    },
    {
     "name": "stderr",
     "output_type": "stream",
     "text": [
      "\u001b[36m(tune_with_parameters pid=2880171)\u001b[0m /users/k23058970/miniforge3/envs/Training/lib/python3.10/site-packages/torch/nn/modules/lazy.py:181: UserWarning: Lazy modules are a new feature under heavy development so changes to the API or functionality can happen at any moment.\n",
      "\u001b[36m(tune_with_parameters pid=2880171)\u001b[0m   warnings.warn('Lazy modules are a new feature under heavy development '\n",
      "Val Epoch:30: 29it [00:13,  2.14it/s]0)\u001b[0m \n",
      "Val Epoch:30: 31it [00:13,  3.08it/s]0)\u001b[0m \n",
      "Val Epoch:30: 33it [00:14,  3.75it/s]0)\u001b[0m \n",
      "Val Epoch:30: 34it [00:14,  4.06it/s]0)\u001b[0m \n",
      "Val Epoch:30: 35it [00:14,  3.97it/s]0)\u001b[0m \n",
      "Val Epoch:30: 36it [00:14,  4.55it/s]0)\u001b[0m \n",
      "Val Epoch:30: 37it [00:15,  2.54it/s]0)\u001b[0m \n",
      "Val Epoch:30: 38it [00:15,  3.18it/s]0)\u001b[0m \n",
      "Val Epoch:30: 40it [00:15,  4.66it/s]0)\u001b[0m \n",
      "Val Epoch:30: 42it [00:15,  6.20it/s]0)\u001b[0m \n",
      "\u001b[36m(tune_with_parameters pid=2878938)\u001b[0m /users/k23058970/miniforge3/envs/Training/lib/python3.10/site-packages/torch/utils/data/dataloader.py:558: UserWarning: This DataLoader will create 8 worker processes in total. Our suggested max number of worker in current system is 2, which is smaller than what this DataLoader is going to create. Please be aware that excessive worker creation might get DataLoader running slow or even freeze, lower the worker number to avoid potential slowness/freeze if necessary.\n",
      "\u001b[36m(tune_with_parameters pid=2878938)\u001b[0m   warnings.warn(_create_warning_msg(\n",
      "Val Epoch:30: 45it [00:17,  3.69it/s]0)\u001b[0m \n",
      "Val Epoch:30: 46it [00:17,  3.79it/s]0)\u001b[0m \n",
      "Val Epoch:30: 47it [00:17,  3.96it/s]0)\u001b[0m \n",
      "Val Epoch:30: 48it [00:17,  4.33it/s]0)\u001b[0m \n",
      "Val Epoch:30: 49it [00:18,  2.87it/s]0)\u001b[0m \n",
      "Val Epoch:30: 50it [00:19,  2.55it/s]0)\u001b[0m \n"
     ]
    },
    {
     "name": "stdout",
     "output_type": "stream",
     "text": [
      "\u001b[36m(tune_with_parameters pid=2878938)\u001b[0m loss: 0.748\n"
     ]
    },
    {
     "name": "stderr",
     "output_type": "stream",
     "text": [
      "\u001b[36m(tune_with_parameters pid=2880171)\u001b[0m /users/k23058970/miniforge3/envs/Training/lib/python3.10/site-packages/torch/utils/data/dataloader.py:558: UserWarning: This DataLoader will create 8 worker processes in total. Our suggested max number of worker in current system is 2, which is smaller than what this DataLoader is going to create. Please be aware that excessive worker creation might get DataLoader running slow or even freeze, lower the worker number to avoid potential slowness/freeze if necessary.\n",
      "\u001b[36m(tune_with_parameters pid=2880171)\u001b[0m   warnings.warn(_create_warning_msg(\n"
     ]
    },
    {
     "name": "stdout",
     "output_type": "stream",
     "text": [
      "\u001b[36m(tune_with_parameters pid=2880171)\u001b[0m loss: 0.730\u001b[32m [repeated 2x across cluster]\u001b[0m\n",
      "\u001b[36m(tune_with_parameters pid=2878214)\u001b[0m loss: 0.588\n",
      "\u001b[36m(tune_with_parameters pid=2878938)\u001b[0m loss: 0.598\n"
     ]
    },
    {
     "name": "stderr",
     "output_type": "stream",
     "text": [
      "Val Epoch:0: 0it [00:00, ?it/s]2878214)\u001b[0m \n",
      "Val Epoch:0: 1it [00:05,  5.62s/it]214)\u001b[0m \n",
      "Val Epoch:0: 2it [00:06,  2.58s/it]214)\u001b[0m \n",
      "Val Epoch:0: 3it [00:06,  1.55s/it]214)\u001b[0m \n",
      "Val Epoch:0: 4it [00:06,  1.01s/it]214)\u001b[0m \n",
      "Val Epoch:0: 5it [00:06,  1.36it/s]214)\u001b[0m \n",
      "Val Epoch:0: 6it [00:07,  1.45it/s]214)\u001b[0m \n",
      "Val Epoch:0: 7it [00:07,  1.91it/s]214)\u001b[0m \n",
      "Val Epoch:0: 8it [00:07,  2.28it/s]214)\u001b[0m \n",
      "Val Epoch:0: 9it [00:08,  2.57it/s]214)\u001b[0m \n",
      "Val Epoch:0: 10it [00:09,  1.34it/s]14)\u001b[0m \n",
      "Val Epoch:0: 11it [00:09,  1.76it/s]14)\u001b[0m \n",
      "Val Epoch:0: 12it [00:10,  2.19it/s]14)\u001b[0m \n",
      "Val Epoch:0: 14it [00:10,  3.59it/s]14)\u001b[0m \n",
      "Val Epoch:0: 15it [00:10,  3.94it/s]14)\u001b[0m \n",
      "Val Epoch:0: 16it [00:10,  3.98it/s]14)\u001b[0m \n",
      "Val Epoch:0: 17it [00:11,  2.18it/s]14)\u001b[0m \n",
      "Val Epoch:0: 18it [00:11,  2.65it/s]14)\u001b[0m \n",
      "Val Epoch:0: 19it [00:11,  3.19it/s]14)\u001b[0m \n",
      "Val Epoch:0: 20it [00:12,  2.57it/s]14)\u001b[0m \n",
      "Val Epoch:0: 21it [00:12,  2.62it/s]14)\u001b[0m \n",
      "Val Epoch:0: 22it [00:13,  2.80it/s]14)\u001b[0m \n",
      "Val Epoch:0: 24it [00:13,  3.98it/s]14)\u001b[0m \n",
      "Val Epoch:0: 25it [00:13,  3.33it/s]14)\u001b[0m \n",
      "Val Epoch:0: 26it [00:14,  2.46it/s]14)\u001b[0m \n",
      "Val Epoch:0: 29it [00:14,  4.11it/s]14)\u001b[0m \n",
      "Val Epoch:0: 30it [00:15,  3.91it/s]14)\u001b[0m \n",
      "Val Epoch:0: 32it [00:15,  4.36it/s]14)\u001b[0m \n",
      "Val Epoch:0: 33it [00:15,  4.39it/s]14)\u001b[0m \n",
      "Val Epoch:0: 34it [00:16,  4.40it/s]14)\u001b[0m \n",
      "Val Epoch:0: 35it [00:16,  4.98it/s]14)\u001b[0m \n",
      "Val Epoch:0: 36it [00:16,  3.68it/s]14)\u001b[0m \n",
      "Val Epoch:0: 37it [00:16,  3.37it/s]14)\u001b[0m \n",
      "Val Epoch:0: 39it [00:17,  4.84it/s]14)\u001b[0m \n",
      "Val Epoch:0: 41it [00:17,  5.75it/s]14)\u001b[0m \n",
      "Val Epoch:0: 43it [00:17,  6.90it/s]14)\u001b[0m \n",
      "Val Epoch:0: 45it [00:17,  8.63it/s]14)\u001b[0m \n",
      "Val Epoch:0: 49it [00:18, 10.41it/s]14)\u001b[0m \n",
      "Val Epoch:0: 50it [00:18,  2.69it/s]14)\u001b[0m \n",
      "\u001b[36m(tune_with_parameters pid=2878214)\u001b[0m /scratch/users/k23058970/Model training/training_two_class_exvivo_lstm.py:63: RuntimeWarning: invalid value encountered in divide\n",
      "\u001b[36m(tune_with_parameters pid=2878214)\u001b[0m   self.precision = self.tp/(self.tp + self.fp)\n"
     ]
    },
    {
     "name": "stdout",
     "output_type": "stream",
     "text": [
      "\u001b[36m(tune_with_parameters pid=2878214)\u001b[0m /tmp/tmp46bp1xcs/checkpoint.pt\n",
      "\u001b[36m(tune_with_parameters pid=2663640)\u001b[0m loss: 0.588\n"
     ]
    },
    {
     "name": "stderr",
     "output_type": "stream",
     "text": [
      "\u001b[36m(tune_with_parameters pid=2878214)\u001b[0m Checkpoint successfully created at: Checkpoint(filesystem=local, path=/scratch/users/k23058970/Model training/results/NSQ vs AC LSTM/tune_with_parameters_2024-07-30_13-33-38/tune_with_parameters_0ca84_00006_6_dp=0.2000,hidden_size=400,lr=0.0859,num_layers=1_2024-07-30_13-34-23/checkpoint_000000)\n"
     ]
    },
    {
     "name": "stdout",
     "output_type": "stream",
     "text": [
      "\u001b[36m(tune_with_parameters pid=2878214)\u001b[0m loss: 0.584\n",
      "\u001b[36m(tune_with_parameters pid=2878938)\u001b[0m loss: 0.593\u001b[32m [repeated 2x across cluster]\u001b[0m\n",
      "\u001b[36m(tune_with_parameters pid=2663640)\u001b[0m loss: 0.586\n"
     ]
    },
    {
     "name": "stderr",
     "output_type": "stream",
     "text": [
      "Val Epoch:0: 0it [00:00, ?it/s]2878938)\u001b[0m \n",
      "Val Epoch:0: 1it [00:06,  6.45s/it]938)\u001b[0m \n",
      "Val Epoch:31: 0it [00:00, ?it/s]663640)\u001b[0m \n",
      "Val Epoch:0: 2it [00:07,  3.27s/it]938)\u001b[0m \n",
      "Val Epoch:0: 3it [00:07,  1.85s/it]938)\u001b[0m \n",
      "Val Epoch:0: 4it [00:07,  1.24s/it]938)\u001b[0m \n",
      "Val Epoch:0: 5it [00:08,  1.01s/it]938)\u001b[0m \n",
      "Val Epoch:0: 6it [00:08,  1.40it/s]938)\u001b[0m \n",
      "Val Epoch:0: 7it [00:08,  1.82it/s]938)\u001b[0m \n",
      "Val Epoch:0: 8it [00:09,  2.32it/s]938)\u001b[0m \n",
      "Val Epoch:0: 9it [00:09,  2.29it/s]938)\u001b[0m \n",
      "Val Epoch:0: 11it [00:10,  2.81it/s]38)\u001b[0m \n",
      "Val Epoch:0: 12it [00:10,  3.40it/s]38)\u001b[0m \n",
      "Val Epoch:0: 13it [00:11,  2.19it/s]38)\u001b[0m \n",
      "Val Epoch:0: 14it [00:11,  2.68it/s]38)\u001b[0m \n",
      "Val Epoch:31: 1it [00:04,  4.19s/it]40)\u001b[0m \n",
      "Val Epoch:0: 15it [00:12,  1.96it/s]38)\u001b[0m \n",
      "Val Epoch:0: 16it [00:12,  2.33it/s]38)\u001b[0m \n",
      "Val Epoch:0: 17it [00:12,  2.74it/s]38)\u001b[0m \n",
      "Val Epoch:0: 18it [00:12,  2.85it/s]38)\u001b[0m \n",
      "Val Epoch:0: 26it [00:17,  1.48it/s]\u001b[32m [repeated 22x across cluster]\u001b[0m\n"
     ]
    },
    {
     "name": "stdout",
     "output_type": "stream",
     "text": [
      "\u001b[36m(tune_with_parameters pid=2878214)\u001b[0m loss: 0.589\n"
     ]
    },
    {
     "name": "stderr",
     "output_type": "stream",
     "text": [
      "Val Epoch:31: 34it [00:15,  3.10it/s]\u001b[32m [repeated 24x across cluster]\u001b[0m\n",
      "\u001b[36m(tune_with_parameters pid=2878938)\u001b[0m /scratch/users/k23058970/Model training/training_two_class_exvivo_lstm.py:63: RuntimeWarning: invalid value encountered in divide\n",
      "\u001b[36m(tune_with_parameters pid=2878938)\u001b[0m   self.precision = self.tp/(self.tp + self.fp)\n"
     ]
    },
    {
     "name": "stdout",
     "output_type": "stream",
     "text": [
      "\u001b[36m(tune_with_parameters pid=2878938)\u001b[0m /tmp/tmp9gj8_d90/checkpoint.pt\n"
     ]
    },
    {
     "name": "stderr",
     "output_type": "stream",
     "text": [
      "\u001b[36m(tune_with_parameters pid=2878938)\u001b[0m Checkpoint successfully created at: Checkpoint(filesystem=local, path=/scratch/users/k23058970/Model training/results/NSQ vs AC LSTM/tune_with_parameters_2024-07-30_13-33-38/tune_with_parameters_0ca84_00007_7_dp=0.1000,hidden_size=500,lr=0.0210,num_layers=1_2024-07-30_13-34-23/checkpoint_000000)\n"
     ]
    },
    {
     "name": "stdout",
     "output_type": "stream",
     "text": [
      "\u001b[36m(tune_with_parameters pid=2878938)\u001b[0m loss: 0.603\u001b[32m [repeated 2x across cluster]\u001b[0m\n"
     ]
    },
    {
     "name": "stderr",
     "output_type": "stream",
     "text": [
      "Val Epoch:0: 0it [00:00, ?it/s]2880171)\u001b[0m \n",
      "Val Epoch:31: 50it [00:16,  2.99it/s]\u001b[32m [repeated 8x across cluster]\u001b[0m\n",
      "Val Epoch:0: 19it [00:05,  3.99it/s]\u001b[32m [repeated 12x across cluster]\u001b[0m\n",
      "Val Epoch:0: 38it [00:10,  2.82it/s]\u001b[32m [repeated 13x across cluster]\u001b[0m\n",
      "Val Epoch:0: 49it [00:15,  1.78it/s]\u001b[32m [repeated 8x across cluster]\u001b[0m\n",
      "\u001b[36m(tune_with_parameters pid=2880171)\u001b[0m /scratch/users/k23058970/Model training/training_two_class_exvivo_lstm.py:63: RuntimeWarning: invalid value encountered in divide\n",
      "\u001b[36m(tune_with_parameters pid=2880171)\u001b[0m   self.precision = self.tp/(self.tp + self.fp)\n"
     ]
    },
    {
     "name": "stdout",
     "output_type": "stream",
     "text": [
      "\u001b[36m(tune_with_parameters pid=2880171)\u001b[0m /tmp/tmpd5stdrfy/checkpoint.pt\n",
      "\u001b[36m(tune_with_parameters pid=2663640)\u001b[0m loss: 0.609\n"
     ]
    },
    {
     "name": "stderr",
     "output_type": "stream",
     "text": [
      "\u001b[36m(tune_with_parameters pid=2880171)\u001b[0m Checkpoint successfully created at: Checkpoint(filesystem=local, path=/scratch/users/k23058970/Model training/results/NSQ vs AC LSTM/tune_with_parameters_2024-07-30_13-33-38/tune_with_parameters_0ca84_00008_8_dp=0.5000,hidden_size=300,lr=0.0026,num_layers=3_2024-07-30_13-34-23/checkpoint_000000)\n"
     ]
    },
    {
     "name": "stdout",
     "output_type": "stream",
     "text": [
      "\u001b[36m(tune_with_parameters pid=2880171)\u001b[0m loss: 0.619\n",
      "\u001b[36m(tune_with_parameters pid=2878214)\u001b[0m loss: 0.587\n",
      "\u001b[36m(tune_with_parameters pid=2663640)\u001b[0m loss: 0.586\n"
     ]
    },
    {
     "name": "stderr",
     "output_type": "stream",
     "text": [
      "Val Epoch:1: 0it [00:00, ?it/s]2878214)\u001b[0m \n",
      "Val Epoch:0: 50it [00:16,  3.02it/s]\u001b[32m [repeated 2x across cluster]\u001b[0m\n",
      "Val Epoch:1: 10it [00:06,  1.37it/s]\u001b[32m [repeated 9x across cluster]\u001b[0m\n",
      "Val Epoch:1: 25it [00:11,  2.64it/s]\u001b[32m [repeated 11x across cluster]\u001b[0m\n",
      "Val Epoch:1: 34it [00:17,  1.16it/s]\u001b[32m [repeated 9x across cluster]\u001b[0m\n",
      "Val Epoch:1: 50it [00:23,  2.17it/s]\u001b[32m [repeated 12x across cluster]\u001b[0m\n"
     ]
    },
    {
     "name": "stdout",
     "output_type": "stream",
     "text": [
      "\u001b[36m(tune_with_parameters pid=2878214)\u001b[0m loss: 0.602\u001b[32m [repeated 2x across cluster]\u001b[0m\n",
      "\u001b[36m(tune_with_parameters pid=2663640)\u001b[0m loss: 0.586\u001b[32m [repeated 2x across cluster]\u001b[0m\n"
     ]
    },
    {
     "name": "stderr",
     "output_type": "stream",
     "text": [
      "Val Epoch:32: 0it [00:00, ?it/s]663640)\u001b[0m \n",
      "Val Epoch:32: 1it [00:02,  2.41s/it]40)\u001b[0m \n",
      "Val Epoch:32: 2it [00:02,  1.24s/it]40)\u001b[0m \n",
      "Val Epoch:32: 3it [00:03,  1.25it/s]40)\u001b[0m \n",
      "Val Epoch:32: 4it [00:03,  1.59it/s]40)\u001b[0m \n",
      "Val Epoch:32: 5it [00:03,  2.22it/s]40)\u001b[0m \n",
      "Val Epoch:32: 6it [00:04,  2.17it/s]40)\u001b[0m \n",
      "Val Epoch:32: 7it [00:04,  2.02it/s]40)\u001b[0m \n",
      "Val Epoch:32: 9it [00:04,  3.17it/s]40)\u001b[0m \n",
      "Val Epoch:32: 10it [00:05,  2.35it/s]0)\u001b[0m \n",
      "Val Epoch:1: 0it [00:00, ?it/s]2878938)\u001b[0m \n",
      "Val Epoch:32: 11it [00:05,  2.70it/s]0)\u001b[0m \n",
      "Val Epoch:32: 12it [00:06,  2.36it/s]0)\u001b[0m \n",
      "Val Epoch:32: 13it [00:06,  2.90it/s]0)\u001b[0m \n",
      "Val Epoch:1: 5it [00:04,  1.56it/s]\u001b[32m [repeated 6x across cluster]\u001b[0m\n",
      "Val Epoch:1: 15it [00:09,  2.68it/s]\u001b[32m [repeated 18x across cluster]\u001b[0m\n"
     ]
    },
    {
     "name": "stdout",
     "output_type": "stream",
     "text": [
      "\u001b[36m(tune_with_parameters pid=2878214)\u001b[0m loss: 0.585\u001b[32m [repeated 2x across cluster]\u001b[0m\n"
     ]
    },
    {
     "name": "stderr",
     "output_type": "stream",
     "text": [
      "Val Epoch:1: 26it [00:15,  2.41it/s]\u001b[32m [repeated 19x across cluster]\u001b[0m\n",
      "Val Epoch:1: 37it [00:20,  2.64it/s]\u001b[32m [repeated 20x across cluster]\u001b[0m\n"
     ]
    },
    {
     "name": "stdout",
     "output_type": "stream",
     "text": [
      "\u001b[36m(tune_with_parameters pid=2663640)\u001b[0m loss: 0.585\u001b[32m [repeated 2x across cluster]\u001b[0m\n"
     ]
    },
    {
     "name": "stderr",
     "output_type": "stream",
     "text": [
      "Val Epoch:1: 0it [00:00, ?it/s]2880171)\u001b[0m \n",
      "Val Epoch:1: 50it [00:24,  2.07it/s]\u001b[32m [repeated 15x across cluster]\u001b[0m\n",
      "Val Epoch:1: 5it [00:05,  1.53it/s]\u001b[32m [repeated 5x across cluster]\u001b[0m\n",
      "Val Epoch:1: 17it [00:11,  1.43it/s]\u001b[32m [repeated 10x across cluster]\u001b[0m\n",
      "Val Epoch:1: 44it [00:16,  5.05it/s]\u001b[32m [repeated 17x across cluster]\u001b[0m\n"
     ]
    },
    {
     "name": "stdout",
     "output_type": "stream",
     "text": [
      "\u001b[36m(tune_with_parameters pid=2880171)\u001b[0m loss: 0.582\u001b[32m [repeated 2x across cluster]\u001b[0m\n",
      "\u001b[36m(tune_with_parameters pid=2878214)\u001b[0m loss: 0.586\n",
      "\u001b[36m(tune_with_parameters pid=2663640)\u001b[0m loss: 0.584\n",
      "\u001b[36m(tune_with_parameters pid=2878938)\u001b[0m loss: 0.586\n"
     ]
    },
    {
     "name": "stderr",
     "output_type": "stream",
     "text": [
      "Val Epoch:2: 0it [00:00, ?it/s]2878214)\u001b[0m \n",
      "Val Epoch:1: 50it [00:18,  2.76it/s]\u001b[32m [repeated 3x across cluster]\u001b[0m\n",
      "Val Epoch:2: 19it [00:05,  5.53it/s]\u001b[32m [repeated 13x across cluster]\u001b[0m\n",
      "Val Epoch:2: 33it [00:10,  1.97it/s]\u001b[32m [repeated 10x across cluster]\u001b[0m\n",
      "Val Epoch:2: 49it [00:17,  1.61it/s]\u001b[32m [repeated 13x across cluster]\u001b[0m\n"
     ]
    },
    {
     "name": "stdout",
     "output_type": "stream",
     "text": [
      "\u001b[36m(tune_with_parameters pid=2878214)\u001b[0m loss: 0.570\n",
      "\u001b[36m(tune_with_parameters pid=2663640)\u001b[0m loss: 0.586\u001b[32m [repeated 2x across cluster]\u001b[0m\n"
     ]
    },
    {
     "name": "stderr",
     "output_type": "stream",
     "text": [
      "Val Epoch:33: 0it [00:00, ?it/s]663640)\u001b[0m \n",
      "Val Epoch:2: 50it [00:18,  2.70it/s]\u001b[32m [repeated 2x across cluster]\u001b[0m\n",
      "Val Epoch:2: 0it [00:00, ?it/s]2878938)\u001b[0m \n",
      "Val Epoch:2: 5it [00:02,  2.69it/s]\u001b[32m [repeated 15x across cluster]\u001b[0m\n"
     ]
    },
    {
     "name": "stdout",
     "output_type": "stream",
     "text": [
      "\u001b[36m(tune_with_parameters pid=2878214)\u001b[0m loss: 0.587\u001b[32m [repeated 2x across cluster]\u001b[0m\n"
     ]
    },
    {
     "name": "stderr",
     "output_type": "stream",
     "text": [
      "Val Epoch:33: 33it [00:10,  1.85it/s]\u001b[32m [repeated 23x across cluster]\u001b[0m\n",
      "Val Epoch:33: 49it [00:16,  1.75it/s]\u001b[32m [repeated 22x across cluster]\u001b[0m\n",
      "Val Epoch:2: 50it [00:18,  2.69it/s]\u001b[32m [repeated 14x across cluster]\u001b[0m\n"
     ]
    },
    {
     "name": "stdout",
     "output_type": "stream",
     "text": [
      "\u001b[36m(tune_with_parameters pid=2663640)\u001b[0m loss: 0.558\u001b[32m [repeated 2x across cluster]\u001b[0m\n"
     ]
    },
    {
     "name": "stderr",
     "output_type": "stream",
     "text": [
      "Val Epoch:2: 0it [00:00, ?it/s]2880171)\u001b[0m \n",
      "Val Epoch:2: 1it [00:03,  3.03s/it]171)\u001b[0m \n",
      "Val Epoch:2: 2it [00:03,  1.32s/it]171)\u001b[0m \n",
      "Val Epoch:2: 3it [00:03,  1.13it/s]171)\u001b[0m \n",
      "Val Epoch:2: 4it [00:04,  1.19it/s]171)\u001b[0m \n",
      "Val Epoch:2: 5it [00:04,  1.69it/s]171)\u001b[0m \n",
      "Val Epoch:2: 6it [00:04,  2.15it/s]171)\u001b[0m \n",
      "Val Epoch:2: 7it [00:04,  2.64it/s]171)\u001b[0m \n",
      "Val Epoch:2: 8it [00:05,  3.03it/s]171)\u001b[0m \n",
      "Val Epoch:2: 9it [00:05,  2.55it/s]171)\u001b[0m \n",
      "Val Epoch:2: 10it [00:06,  2.50it/s]71)\u001b[0m \n",
      "Val Epoch:2: 11it [00:06,  1.81it/s]71)\u001b[0m \n",
      "Val Epoch:2: 12it [00:07,  2.11it/s]71)\u001b[0m \n",
      "Val Epoch:2: 13it [00:07,  2.32it/s]71)\u001b[0m \n",
      "Val Epoch:2: 14it [00:08,  1.71it/s]71)\u001b[0m \n",
      "Val Epoch:2: 15it [00:08,  2.09it/s]71)\u001b[0m \n",
      "Val Epoch:2: 16it [00:09,  2.10it/s]71)\u001b[0m \n",
      "Val Epoch:2: 17it [00:10,  1.72it/s]71)\u001b[0m \n",
      "Val Epoch:2: 18it [00:10,  2.21it/s]71)\u001b[0m \n",
      "Val Epoch:2: 19it [00:10,  2.09it/s]71)\u001b[0m \n",
      "Val Epoch:2: 20it [00:10,  2.57it/s]71)\u001b[0m \n",
      "Val Epoch:2: 21it [00:11,  2.48it/s]71)\u001b[0m \n",
      "Val Epoch:2: 22it [00:11,  2.56it/s]71)\u001b[0m \n",
      "Val Epoch:2: 23it [00:11,  3.10it/s]71)\u001b[0m \n",
      "Val Epoch:2: 24it [00:12,  2.76it/s]71)\u001b[0m \n",
      "Val Epoch:2: 25it [00:13,  1.47it/s]71)\u001b[0m \n",
      "Val Epoch:2: 26it [00:13,  1.90it/s]71)\u001b[0m \n",
      "Val Epoch:2: 27it [00:14,  2.22it/s]71)\u001b[0m \n",
      "Val Epoch:2: 28it [00:14,  2.61it/s]71)\u001b[0m \n",
      "Val Epoch:2: 29it [00:15,  1.97it/s]71)\u001b[0m \n",
      "Val Epoch:2: 30it [00:15,  2.47it/s]71)\u001b[0m \n",
      "Val Epoch:2: 31it [00:15,  3.08it/s]71)\u001b[0m \n",
      "Val Epoch:2: 32it [00:16,  2.37it/s]71)\u001b[0m \n",
      "Val Epoch:2: 33it [00:17,  1.67it/s]71)\u001b[0m \n",
      "Val Epoch:2: 34it [00:17,  2.11it/s]71)\u001b[0m \n",
      "Val Epoch:2: 35it [00:18,  1.70it/s]71)\u001b[0m \n",
      "Val Epoch:2: 36it [00:18,  1.81it/s]71)\u001b[0m \n",
      "Val Epoch:2: 37it [00:19,  1.73it/s]71)\u001b[0m \n",
      "Val Epoch:2: 38it [00:19,  1.97it/s]71)\u001b[0m \n",
      "Val Epoch:2: 39it [00:19,  2.43it/s]71)\u001b[0m \n",
      "Val Epoch:2: 40it [00:20,  2.59it/s]71)\u001b[0m \n",
      "Val Epoch:2: 41it [00:20,  2.25it/s]71)\u001b[0m \n",
      "Val Epoch:2: 42it [00:21,  2.22it/s]71)\u001b[0m \n",
      "Val Epoch:2: 43it [00:21,  2.32it/s]71)\u001b[0m \n",
      "Val Epoch:2: 44it [00:21,  2.78it/s]71)\u001b[0m \n",
      "Val Epoch:2: 45it [00:22,  2.65it/s]71)\u001b[0m \n",
      "Val Epoch:2: 46it [00:22,  2.55it/s]71)\u001b[0m \n",
      "Val Epoch:2: 47it [00:22,  3.18it/s]71)\u001b[0m \n",
      "Val Epoch:2: 48it [00:23,  3.17it/s]71)\u001b[0m \n",
      "Val Epoch:2: 49it [00:23,  3.29it/s]71)\u001b[0m \n",
      "Val Epoch:2: 50it [00:23,  2.10it/s]71)\u001b[0m \n"
     ]
    },
    {
     "name": "stdout",
     "output_type": "stream",
     "text": [
      "\u001b[36m(tune_with_parameters pid=2880171)\u001b[0m loss: 0.607\u001b[32m [repeated 2x across cluster]\u001b[0m\n",
      "\u001b[36m(tune_with_parameters pid=2878214)\u001b[0m loss: 0.586\n",
      "\u001b[36m(tune_with_parameters pid=2663640)\u001b[0m loss: 0.585\n",
      "\u001b[36m(tune_with_parameters pid=2878938)\u001b[0m loss: 0.585\n"
     ]
    },
    {
     "name": "stderr",
     "output_type": "stream",
     "text": [
      "Val Epoch:3: 0it [00:00, ?it/s]2878214)\u001b[0m \n",
      "Val Epoch:3: 1it [00:04,  4.45s/it]214)\u001b[0m \n",
      "Val Epoch:3: 2it [00:05,  2.46s/it]214)\u001b[0m \n",
      "Val Epoch:3: 3it [00:05,  1.41s/it]214)\u001b[0m \n",
      "Val Epoch:3: 4it [00:06,  1.00it/s]214)\u001b[0m \n",
      "Val Epoch:3: 5it [00:06,  1.42it/s]214)\u001b[0m \n",
      "Val Epoch:3: 7it [00:06,  2.57it/s]214)\u001b[0m \n",
      "Val Epoch:3: 8it [00:06,  2.28it/s]214)\u001b[0m \n",
      "Val Epoch:3: 9it [00:08,  1.64it/s]214)\u001b[0m \n",
      "Val Epoch:3: 10it [00:08,  1.73it/s]14)\u001b[0m \n",
      "Val Epoch:3: 13it [00:08,  3.30it/s]14)\u001b[0m \n",
      "Val Epoch:3: 15it [00:08,  4.19it/s]14)\u001b[0m \n",
      "Val Epoch:3: 16it [00:09,  4.30it/s]14)\u001b[0m \n",
      "Val Epoch:3: 17it [00:11,  1.41it/s]14)\u001b[0m \n",
      "Val Epoch:3: 18it [00:11,  1.66it/s]14)\u001b[0m \n",
      "Val Epoch:3: 20it [00:12,  2.58it/s]14)\u001b[0m \n",
      "Val Epoch:3: 23it [00:12,  4.30it/s]14)\u001b[0m \n",
      "Val Epoch:3: 25it [00:13,  3.12it/s]14)\u001b[0m \n",
      "Val Epoch:3: 26it [00:13,  3.17it/s]14)\u001b[0m \n",
      "Val Epoch:3: 29it [00:13,  5.10it/s]14)\u001b[0m \n",
      "Val Epoch:3: 32it [00:13,  7.04it/s]14)\u001b[0m \n",
      "Val Epoch:3: 34it [00:15,  3.55it/s]14)\u001b[0m \n",
      "Val Epoch:3: 37it [00:15,  4.91it/s]14)\u001b[0m \n",
      "Val Epoch:3: 39it [00:15,  6.07it/s]14)\u001b[0m \n",
      "Val Epoch:3: 41it [00:16,  4.04it/s]14)\u001b[0m \n",
      "Val Epoch:3: 44it [00:16,  5.33it/s]14)\u001b[0m \n",
      "Val Epoch:3: 46it [00:16,  6.51it/s]14)\u001b[0m \n",
      "Val Epoch:3: 48it [00:16,  7.16it/s]14)\u001b[0m \n",
      "Val Epoch:3: 50it [00:17,  6.35it/s]14)\u001b[0m \n",
      "Val Epoch:3: 50it [00:17,  2.81it/s]14)\u001b[0m \n"
     ]
    },
    {
     "name": "stdout",
     "output_type": "stream",
     "text": [
      "\u001b[36m(tune_with_parameters pid=2878214)\u001b[0m loss: 0.594\n",
      "\u001b[36m(tune_with_parameters pid=2663640)\u001b[0m loss: 0.585\u001b[32m [repeated 2x across cluster]\u001b[0m\n"
     ]
    },
    {
     "name": "stderr",
     "output_type": "stream",
     "text": [
      "Val Epoch:34: 0it [00:00, ?it/s]663640)\u001b[0m \n",
      "Val Epoch:34: 1it [00:06,  6.16s/it]40)\u001b[0m \n",
      "Val Epoch:34: 3it [00:06,  1.66s/it]40)\u001b[0m \n",
      "Val Epoch:34: 4it [00:06,  1.14s/it]40)\u001b[0m \n",
      "Val Epoch:3: 0it [00:00, ?it/s]2878938)\u001b[0m \n",
      "Val Epoch:34: 5it [00:06,  1.14it/s]40)\u001b[0m \n",
      "Val Epoch:34: 6it [00:07,  1.34it/s]40)\u001b[0m \n",
      "Val Epoch:34: 7it [00:07,  1.60it/s]40)\u001b[0m \n",
      "Val Epoch:34: 8it [00:08,  1.70it/s]40)\u001b[0m \n",
      "Val Epoch:34: 9it [00:10,  1.00it/s]40)\u001b[0m \n",
      "Val Epoch:34: 10it [00:10,  1.36it/s]0)\u001b[0m \n",
      "Val Epoch:34: 11it [00:10,  1.79it/s]0)\u001b[0m \n",
      "Val Epoch:34: 13it [00:10,  2.75it/s]0)\u001b[0m \n",
      "Val Epoch:34: 14it [00:10,  2.86it/s]0)\u001b[0m \n",
      "Val Epoch:3: 2it [00:04,  1.98s/it]\u001b[32m [repeated 3x across cluster]\u001b[0m\n"
     ]
    },
    {
     "name": "stdout",
     "output_type": "stream",
     "text": [
      "\u001b[36m(tune_with_parameters pid=2878214)\u001b[0m loss: 0.588\u001b[32m [repeated 2x across cluster]\u001b[0m\n"
     ]
    },
    {
     "name": "stderr",
     "output_type": "stream",
     "text": [
      "Val Epoch:3: 33it [00:09,  8.20it/s]\u001b[32m [repeated 28x across cluster]\u001b[0m\n",
      "Val Epoch:3: 50it [00:15,  3.32it/s]\u001b[32m [repeated 12x across cluster]\u001b[0m\n"
     ]
    },
    {
     "name": "stdout",
     "output_type": "stream",
     "text": [
      "\u001b[36m(tune_with_parameters pid=2663640)\u001b[0m loss: 0.561\u001b[32m [repeated 2x across cluster]\u001b[0m\n",
      "\u001b[36m(tune_with_parameters pid=2878938)\u001b[0m loss: 0.606\n"
     ]
    },
    {
     "name": "stderr",
     "output_type": "stream",
     "text": [
      "Val Epoch:3: 0it [00:00, ?it/s]2880171)\u001b[0m \n",
      "Val Epoch:3: 1it [00:01,  1.93s/it]171)\u001b[0m \n",
      "Val Epoch:3: 2it [00:02,  1.03s/it]171)\u001b[0m \n",
      "Val Epoch:3: 3it [00:02,  1.49it/s]171)\u001b[0m \n",
      "Val Epoch:3: 5it [00:02,  3.00it/s]171)\u001b[0m \n",
      "Val Epoch:3: 6it [00:02,  3.57it/s]171)\u001b[0m \n",
      "Val Epoch:3: 8it [00:03,  4.24it/s]171)\u001b[0m \n",
      "Val Epoch:3: 9it [00:03,  4.44it/s]171)\u001b[0m \n",
      "Val Epoch:3: 11it [00:03,  5.12it/s]71)\u001b[0m \n",
      "Val Epoch:3: 14it [00:03,  7.37it/s]71)\u001b[0m \n",
      "Val Epoch:3: 16it [00:04,  9.11it/s]71)\u001b[0m \n",
      "Val Epoch:3: 18it [00:05,  3.87it/s]71)\u001b[0m \n",
      "Val Epoch:3: 19it [00:05,  3.80it/s]71)\u001b[0m \n",
      "Val Epoch:3: 21it [00:05,  4.69it/s]71)\u001b[0m \n",
      "Val Epoch:3: 23it [00:05,  6.23it/s]71)\u001b[0m \n",
      "Val Epoch:3: 25it [00:06,  3.54it/s]71)\u001b[0m \n",
      "Val Epoch:3: 26it [00:07,  2.48it/s]71)\u001b[0m \n",
      "Val Epoch:3: 27it [00:07,  2.92it/s]71)\u001b[0m \n",
      "Val Epoch:3: 28it [00:08,  3.47it/s]71)\u001b[0m \n",
      "Val Epoch:3: 29it [00:08,  3.41it/s]71)\u001b[0m \n",
      "Val Epoch:3: 31it [00:08,  4.09it/s]71)\u001b[0m \n",
      "Val Epoch:3: 33it [00:09,  2.61it/s]71)\u001b[0m \n",
      "Val Epoch:3: 34it [00:11,  1.74it/s]71)\u001b[0m \n",
      "Val Epoch:3: 36it [00:11,  2.46it/s]71)\u001b[0m \n",
      "Val Epoch:3: 38it [00:11,  3.32it/s]71)\u001b[0m \n",
      "Val Epoch:3: 39it [00:11,  3.79it/s]71)\u001b[0m \n",
      "Val Epoch:3: 40it [00:12,  3.53it/s]71)\u001b[0m \n",
      "Val Epoch:3: 41it [00:13,  2.30it/s]71)\u001b[0m \n",
      "Val Epoch:3: 42it [00:14,  1.34it/s]71)\u001b[0m \n",
      "Val Epoch:3: 43it [00:14,  1.72it/s]71)\u001b[0m \n",
      "Val Epoch:3: 44it [00:15,  2.18it/s]71)\u001b[0m \n",
      "Val Epoch:3: 45it [00:15,  2.76it/s]71)\u001b[0m \n",
      "Val Epoch:3: 47it [00:15,  4.27it/s]71)\u001b[0m \n",
      "Val Epoch:3: 48it [00:15,  4.80it/s]71)\u001b[0m \n",
      "Val Epoch:3: 49it [00:16,  2.53it/s]71)\u001b[0m \n",
      "Val Epoch:3: 50it [00:16,  3.06it/s]71)\u001b[0m \n",
      "Val Epoch:3: 50it [00:17,  2.86it/s]71)\u001b[0m \n"
     ]
    },
    {
     "name": "stdout",
     "output_type": "stream",
     "text": [
      "\u001b[36m(tune_with_parameters pid=2880171)\u001b[0m loss: 0.594\n",
      "\u001b[36m(tune_with_parameters pid=2878214)\u001b[0m loss: 0.587\n",
      "\u001b[36m(tune_with_parameters pid=2663640)\u001b[0m loss: 0.585\n"
     ]
    },
    {
     "name": "stderr",
     "output_type": "stream",
     "text": [
      "Val Epoch:4: 0it [00:00, ?it/s]2878214)\u001b[0m \n",
      "Val Epoch:4: 1it [00:03,  3.10s/it]214)\u001b[0m \n",
      "Val Epoch:4: 3it [00:03,  1.14it/s]214)\u001b[0m \n",
      "Val Epoch:4: 4it [00:04,  1.20it/s]214)\u001b[0m \n",
      "Val Epoch:4: 5it [00:04,  1.63it/s]214)\u001b[0m \n",
      "Val Epoch:4: 6it [00:04,  1.76it/s]214)\u001b[0m \n",
      "Val Epoch:4: 7it [00:04,  2.30it/s]214)\u001b[0m \n",
      "Val Epoch:4: 8it [00:05,  2.18it/s]214)\u001b[0m \n",
      "Val Epoch:4: 9it [00:05,  2.07it/s]214)\u001b[0m \n",
      "Val Epoch:4: 10it [00:06,  1.97it/s]14)\u001b[0m \n",
      "Val Epoch:4: 11it [00:07,  1.52it/s]14)\u001b[0m \n",
      "Val Epoch:4: 12it [00:07,  1.68it/s]14)\u001b[0m \n",
      "Val Epoch:4: 13it [00:08,  2.15it/s]14)\u001b[0m \n",
      "Val Epoch:4: 14it [00:08,  2.43it/s]14)\u001b[0m \n",
      "Val Epoch:4: 15it [00:08,  2.94it/s]14)\u001b[0m \n",
      "Val Epoch:4: 16it [00:08,  2.98it/s]14)\u001b[0m \n",
      "Val Epoch:4: 17it [00:10,  1.54it/s]14)\u001b[0m \n",
      "Val Epoch:4: 18it [00:10,  1.80it/s]14)\u001b[0m \n",
      "Val Epoch:4: 19it [00:10,  2.05it/s]14)\u001b[0m \n",
      "Val Epoch:4: 20it [00:11,  1.82it/s]14)\u001b[0m \n",
      "Val Epoch:4: 21it [00:11,  2.14it/s]14)\u001b[0m \n",
      "Val Epoch:4: 22it [00:12,  2.73it/s]14)\u001b[0m \n",
      "Val Epoch:4: 24it [00:12,  4.41it/s]14)\u001b[0m \n",
      "Val Epoch:4: 25it [00:13,  1.70it/s]14)\u001b[0m \n",
      "Val Epoch:4: 26it [00:14,  1.76it/s]14)\u001b[0m \n",
      "Val Epoch:4: 27it [00:15,  1.65it/s]14)\u001b[0m \n",
      "Val Epoch:4: 28it [00:15,  1.72it/s]14)\u001b[0m \n",
      "Val Epoch:4: 29it [00:15,  2.18it/s]14)\u001b[0m \n",
      "Val Epoch:4: 30it [00:15,  2.74it/s]14)\u001b[0m \n",
      "Val Epoch:4: 32it [00:16,  3.42it/s]14)\u001b[0m \n",
      "Val Epoch:4: 33it [00:17,  1.75it/s]14)\u001b[0m \n",
      "Val Epoch:4: 34it [00:18,  1.79it/s]14)\u001b[0m \n",
      "Val Epoch:4: 35it [00:18,  2.16it/s]14)\u001b[0m \n",
      "Val Epoch:4: 36it [00:19,  1.92it/s]14)\u001b[0m \n",
      "Val Epoch:4: 38it [00:19,  2.67it/s]14)\u001b[0m \n",
      "Val Epoch:4: 39it [00:19,  3.05it/s]14)\u001b[0m \n",
      "Val Epoch:4: 40it [00:19,  3.23it/s]14)\u001b[0m \n",
      "Val Epoch:4: 41it [00:21,  1.63it/s]14)\u001b[0m \n",
      "Val Epoch:4: 42it [00:22,  1.60it/s]14)\u001b[0m \n",
      "Val Epoch:4: 43it [00:22,  2.02it/s]14)\u001b[0m \n",
      "Val Epoch:4: 44it [00:22,  2.49it/s]14)\u001b[0m \n",
      "Val Epoch:4: 46it [00:22,  3.96it/s]14)\u001b[0m \n",
      "Val Epoch:4: 48it [00:22,  5.65it/s]14)\u001b[0m \n",
      "Val Epoch:4: 50it [00:23,  4.44it/s]14)\u001b[0m \n",
      "Val Epoch:4: 50it [00:23,  2.10it/s]14)\u001b[0m \n"
     ]
    },
    {
     "name": "stdout",
     "output_type": "stream",
     "text": [
      "\u001b[36m(tune_with_parameters pid=2880171)\u001b[0m loss: 0.588\u001b[32m [repeated 2x across cluster]\u001b[0m\n",
      "\u001b[36m(tune_with_parameters pid=2663640)\u001b[0m loss: 0.584\u001b[32m [repeated 2x across cluster]\u001b[0m\n"
     ]
    },
    {
     "name": "stderr",
     "output_type": "stream",
     "text": [
      "Val Epoch:35: 0it [00:00, ?it/s]663640)\u001b[0m \n",
      "Val Epoch:35: 1it [00:04,  4.01s/it]40)\u001b[0m \n",
      "Val Epoch:35: 2it [00:04,  2.19s/it]40)\u001b[0m \n",
      "Val Epoch:35: 3it [00:05,  1.26s/it]40)\u001b[0m \n",
      "Val Epoch:4: 0it [00:00, ?it/s]2878938)\u001b[0m \n",
      "Val Epoch:35: 4it [00:06,  1.31s/it]40)\u001b[0m \n",
      "Val Epoch:35: 6it [00:06,  1.50it/s]40)\u001b[0m \n",
      "Val Epoch:35: 7it [00:06,  1.90it/s]40)\u001b[0m \n",
      "Val Epoch:35: 8it [00:07,  2.01it/s]40)\u001b[0m \n",
      "Val Epoch:35: 9it [00:07,  2.14it/s]40)\u001b[0m \n",
      "Val Epoch:35: 12it [00:09,  2.40it/s]\u001b[32m [repeated 4x across cluster]\u001b[0m\n",
      "Val Epoch:4: 15it [00:10,  2.76it/s]\u001b[32m [repeated 23x across cluster]\u001b[0m\n"
     ]
    },
    {
     "name": "stdout",
     "output_type": "stream",
     "text": [
      "\u001b[36m(tune_with_parameters pid=2880171)\u001b[0m loss: 0.587\u001b[32m [repeated 2x across cluster]\u001b[0m\n"
     ]
    },
    {
     "name": "stderr",
     "output_type": "stream",
     "text": [
      "Val Epoch:35: 33it [00:19,  1.55it/s]\u001b[32m [repeated 15x across cluster]\u001b[0m\n",
      "Val Epoch:4: 49it [00:22,  4.94it/s]\u001b[32m [repeated 27x across cluster]\u001b[0m\n"
     ]
    },
    {
     "name": "stdout",
     "output_type": "stream",
     "text": [
      "\u001b[36m(tune_with_parameters pid=2663640)\u001b[0m loss: 0.566\u001b[32m [repeated 2x across cluster]\u001b[0m\n",
      "\u001b[36m(tune_with_parameters pid=2878938)\u001b[0m loss: 0.570\n"
     ]
    },
    {
     "name": "stderr",
     "output_type": "stream",
     "text": [
      "Val Epoch:4: 0it [00:00, ?it/s]2880171)\u001b[0m \n",
      "Val Epoch:4: 50it [00:22,  2.18it/s]\u001b[32m [repeated 2x across cluster]\u001b[0m\n",
      "Val Epoch:4: 2it [00:06,  2.75s/it]\u001b[32m [repeated 2x across cluster]\u001b[0m\n",
      "Val Epoch:4: 17it [00:11,  1.43it/s]\u001b[32m [repeated 13x across cluster]\u001b[0m\n",
      "Val Epoch:4: 42it [00:17,  5.03it/s]\u001b[32m [repeated 13x across cluster]\u001b[0m\n"
     ]
    },
    {
     "name": "stdout",
     "output_type": "stream",
     "text": [
      "\u001b[36m(tune_with_parameters pid=2880171)\u001b[0m loss: 0.590\n",
      "\u001b[36m(tune_with_parameters pid=2878214)\u001b[0m loss: 0.586\n",
      "\u001b[36m(tune_with_parameters pid=2663640)\u001b[0m loss: 0.580\n",
      "\u001b[36m(tune_with_parameters pid=2878938)\u001b[0m loss: 0.586\n"
     ]
    },
    {
     "name": "stderr",
     "output_type": "stream",
     "text": [
      "Val Epoch:5: 0it [00:00, ?it/s]2878214)\u001b[0m \n",
      "Val Epoch:4: 50it [00:19,  2.55it/s]\u001b[32m [repeated 4x across cluster]\u001b[0m\n",
      "Val Epoch:5: 12it [00:04,  4.55it/s]14)\u001b[0m \n",
      "Val Epoch:5: 17it [00:05,  2.91it/s]\u001b[32m [repeated 10x across cluster]\u001b[0m\n",
      "Val Epoch:5: 30it [00:10,  2.76it/s]\u001b[32m [repeated 12x across cluster]\u001b[0m\n",
      "Val Epoch:5: 41it [00:16,  1.72it/s]\u001b[32m [repeated 9x across cluster]\u001b[0m\n"
     ]
    },
    {
     "name": "stdout",
     "output_type": "stream",
     "text": [
      "\u001b[36m(tune_with_parameters pid=2880171)\u001b[0m loss: 0.588\n",
      "\u001b[36m(tune_with_parameters pid=2663640)\u001b[0m loss: 0.581\u001b[32m [repeated 2x across cluster]\u001b[0m\n",
      "\u001b[36m(tune_with_parameters pid=2878938)\u001b[0m loss: 0.586\n"
     ]
    },
    {
     "name": "stderr",
     "output_type": "stream",
     "text": [
      "Val Epoch:36: 0it [00:00, ?it/s]663640)\u001b[0m \n",
      "Val Epoch:5: 50it [00:21,  2.38it/s]\u001b[32m [repeated 8x across cluster]\u001b[0m\n",
      "Val Epoch:36: 17it [00:05,  2.58it/s]\u001b[32m [repeated 11x across cluster]\u001b[0m\n",
      "Val Epoch:5: 0it [00:00, ?it/s]2878938)\u001b[0m \n"
     ]
    },
    {
     "name": "stdout",
     "output_type": "stream",
     "text": [
      "\u001b[36m(tune_with_parameters pid=2880171)\u001b[0m loss: 0.587\n"
     ]
    },
    {
     "name": "stderr",
     "output_type": "stream",
     "text": [
      "Val Epoch:36: 33it [00:10,  1.73it/s]\u001b[32m [repeated 14x across cluster]\u001b[0m\n",
      "Val Epoch:5: 18it [00:09,  2.55it/s]38)\u001b[0m \n",
      "Val Epoch:36: 47it [00:15,  4.20it/s]\u001b[32m [repeated 20x across cluster]\u001b[0m\n",
      "Val Epoch:5: 28it [00:15,  1.35it/s]\u001b[32m [repeated 12x across cluster]\u001b[0m\n",
      "Val Epoch:5: 38it [00:20,  1.83it/s]\u001b[32m [repeated 8x across cluster]\u001b[0m\n"
     ]
    },
    {
     "name": "stdout",
     "output_type": "stream",
     "text": [
      "\u001b[36m(tune_with_parameters pid=2663640)\u001b[0m loss: 0.578\u001b[32m [repeated 2x across cluster]\u001b[0m\n"
     ]
    },
    {
     "name": "stderr",
     "output_type": "stream",
     "text": [
      "Val Epoch:5: 0it [00:00, ?it/s]2880171)\u001b[0m \n",
      "Val Epoch:5: 50it [00:24,  2.08it/s]\u001b[32m [repeated 10x across cluster]\u001b[0m\n"
     ]
    },
    {
     "name": "stdout",
     "output_type": "stream",
     "text": [
      "\u001b[36m(tune_with_parameters pid=2878938)\u001b[0m loss: 0.609\n"
     ]
    },
    {
     "name": "stderr",
     "output_type": "stream",
     "text": [
      "Val Epoch:5: 5it [00:05,  1.31it/s]\u001b[32m [repeated 4x across cluster]\u001b[0m\n",
      "Val Epoch:5: 17it [00:10,  1.68it/s]\u001b[32m [repeated 12x across cluster]\u001b[0m\n",
      "Val Epoch:5: 29it [00:16,  2.21it/s]\u001b[32m [repeated 12x across cluster]\u001b[0m\n",
      "Val Epoch:5: 41it [00:22,  1.52it/s]\u001b[32m [repeated 10x across cluster]\u001b[0m\n"
     ]
    },
    {
     "name": "stdout",
     "output_type": "stream",
     "text": [
      "\u001b[36m(tune_with_parameters pid=2880171)\u001b[0m loss: 0.578\n",
      "\u001b[36m(tune_with_parameters pid=2878214)\u001b[0m loss: 0.587\n",
      "\u001b[36m(tune_with_parameters pid=2663640)\u001b[0m loss: 0.585\n"
     ]
    },
    {
     "name": "stderr",
     "output_type": "stream",
     "text": [
      "Val Epoch:6: 0it [00:00, ?it/s]2878214)\u001b[0m \n",
      "Val Epoch:5: 50it [00:23,  2.08it/s]\u001b[32m [repeated 5x across cluster]\u001b[0m\n"
     ]
    },
    {
     "name": "stdout",
     "output_type": "stream",
     "text": [
      "\u001b[36m(tune_with_parameters pid=2878938)\u001b[0m loss: 0.587\n"
     ]
    },
    {
     "name": "stderr",
     "output_type": "stream",
     "text": [
      "Val Epoch:6: 14it [00:05,  4.34it/s]\u001b[32m [repeated 10x across cluster]\u001b[0m\n",
      "Val Epoch:6: 38it [00:10,  4.18it/s]\u001b[32m [repeated 16x across cluster]\u001b[0m\n"
     ]
    },
    {
     "name": "stdout",
     "output_type": "stream",
     "text": [
      "\u001b[36m(tune_with_parameters pid=2880171)\u001b[0m loss: 0.585\n",
      "\u001b[36m(tune_with_parameters pid=2663640)\u001b[0m loss: 0.580\u001b[32m [repeated 2x across cluster]\u001b[0m\n",
      "\u001b[36m(tune_with_parameters pid=2878938)\u001b[0m loss: 0.586\n"
     ]
    },
    {
     "name": "stderr",
     "output_type": "stream",
     "text": [
      "Val Epoch:37: 0it [00:00, ?it/s]663640)\u001b[0m \n",
      "Val Epoch:6: 50it [00:15,  3.30it/s]\u001b[32m [repeated 13x across cluster]\u001b[0m\n",
      "Val Epoch:37: 3it [00:05,  1.47s/it]\u001b[32m [repeated 2x across cluster]\u001b[0m\n",
      "Val Epoch:37: 17it [00:11,  1.44it/s]\u001b[32m [repeated 13x across cluster]\u001b[0m\n",
      "Val Epoch:37: 33it [00:17,  2.42it/s]\u001b[32m [repeated 13x across cluster]\u001b[0m\n",
      "Val Epoch:6: 0it [00:00, ?it/s]2878938)\u001b[0m \n"
     ]
    },
    {
     "name": "stdout",
     "output_type": "stream",
     "text": [
      "\u001b[36m(tune_with_parameters pid=2880171)\u001b[0m loss: 0.585\n"
     ]
    },
    {
     "name": "stderr",
     "output_type": "stream",
     "text": [
      "Val Epoch:6: 12it [00:03,  4.14it/s]\u001b[32m [repeated 21x across cluster]\u001b[0m\n",
      "Val Epoch:6: 25it [00:10,  1.11it/s]\u001b[32m [repeated 12x across cluster]\u001b[0m\n"
     ]
    },
    {
     "name": "stdout",
     "output_type": "stream",
     "text": [
      "\u001b[36m(tune_with_parameters pid=2663640)\u001b[0m loss: 0.552\u001b[32m [repeated 2x across cluster]\u001b[0m\n"
     ]
    },
    {
     "name": "stderr",
     "output_type": "stream",
     "text": [
      "Val Epoch:6: 37it [00:15,  1.84it/s]\u001b[32m [repeated 10x across cluster]\u001b[0m\n",
      "Val Epoch:6: 50it [00:21,  2.36it/s]\u001b[32m [repeated 10x across cluster]\u001b[0m\n",
      "Val Epoch:6: 0it [00:00, ?it/s]2880171)\u001b[0m \n",
      "Val Epoch:6: 1it [00:01,  1.54s/it]171)\u001b[0m \n",
      "Val Epoch:6: 3it [00:01,  2.22it/s]171)\u001b[0m \n",
      "Val Epoch:6: 4it [00:01,  2.89it/s]171)\u001b[0m \n"
     ]
    },
    {
     "name": "stdout",
     "output_type": "stream",
     "text": [
      "\u001b[36m(tune_with_parameters pid=2878938)\u001b[0m loss: 0.585\n"
     ]
    },
    {
     "name": "stderr",
     "output_type": "stream",
     "text": [
      "Val Epoch:6: 5it [00:02,  2.92it/s]171)\u001b[0m \n",
      "Val Epoch:6: 6it [00:02,  2.84it/s]171)\u001b[0m \n",
      "Val Epoch:6: 8it [00:02,  4.58it/s]171)\u001b[0m \n",
      "Val Epoch:6: 9it [00:02,  5.20it/s]171)\u001b[0m \n",
      "Val Epoch:6: 10it [00:03,  4.65it/s]71)\u001b[0m \n",
      "Val Epoch:6: 11it [00:03,  3.98it/s]71)\u001b[0m \n",
      "Val Epoch:6: 12it [00:03,  4.29it/s]71)\u001b[0m \n",
      "Val Epoch:6: 13it [00:04,  2.34it/s]71)\u001b[0m \n",
      "Val Epoch:6: 14it [00:04,  2.55it/s]71)\u001b[0m \n",
      "Val Epoch:6: 15it [00:05,  2.96it/s]71)\u001b[0m \n",
      "Val Epoch:6: 16it [00:05,  3.73it/s]71)\u001b[0m \n",
      "Val Epoch:6: 17it [00:05,  3.39it/s]71)\u001b[0m \n",
      "Val Epoch:6: 18it [00:06,  2.77it/s]71)\u001b[0m \n",
      "Val Epoch:6: 19it [00:06,  2.84it/s]71)\u001b[0m \n",
      "Val Epoch:6: 20it [00:06,  3.46it/s]71)\u001b[0m \n",
      "Val Epoch:6: 21it [00:07,  2.02it/s]71)\u001b[0m \n",
      "Val Epoch:6: 22it [00:07,  2.51it/s]71)\u001b[0m \n",
      "Val Epoch:6: 23it [00:07,  2.83it/s]71)\u001b[0m \n",
      "Val Epoch:6: 25it [00:08,  4.10it/s]71)\u001b[0m \n",
      "Val Epoch:6: 26it [00:09,  2.02it/s]71)\u001b[0m \n",
      "Val Epoch:6: 27it [00:10,  1.72it/s]71)\u001b[0m \n",
      "Val Epoch:6: 28it [00:10,  2.06it/s]71)\u001b[0m \n",
      "Val Epoch:6: 29it [00:11,  1.89it/s]71)\u001b[0m \n",
      "Val Epoch:6: 31it [00:11,  3.01it/s]71)\u001b[0m \n",
      "Val Epoch:6: 32it [00:11,  3.22it/s]71)\u001b[0m \n",
      "Val Epoch:6: 33it [00:12,  2.18it/s]71)\u001b[0m \n",
      "Val Epoch:6: 34it [00:13,  1.51it/s]71)\u001b[0m \n",
      "Val Epoch:6: 35it [00:13,  1.74it/s]71)\u001b[0m \n",
      "Val Epoch:6: 36it [00:14,  2.05it/s]71)\u001b[0m \n",
      "Val Epoch:6: 37it [00:15,  1.60it/s]71)\u001b[0m \n",
      "Val Epoch:6: 38it [00:15,  1.83it/s]71)\u001b[0m \n",
      "Val Epoch:6: 39it [00:15,  2.28it/s]71)\u001b[0m \n",
      "Val Epoch:6: 41it [00:16,  2.80it/s]71)\u001b[0m \n",
      "Val Epoch:6: 42it [00:16,  2.68it/s]71)\u001b[0m \n",
      "Val Epoch:6: 43it [00:16,  3.00it/s]71)\u001b[0m \n",
      "Val Epoch:6: 44it [00:17,  3.49it/s]71)\u001b[0m \n",
      "Val Epoch:6: 45it [00:17,  2.61it/s]71)\u001b[0m \n",
      "Val Epoch:6: 48it [00:17,  4.90it/s]71)\u001b[0m \n",
      "Val Epoch:6: 49it [00:18,  2.89it/s]71)\u001b[0m \n",
      "Val Epoch:6: 50it [00:18,  3.45it/s]71)\u001b[0m \n",
      "Val Epoch:6: 50it [00:19,  2.52it/s]71)\u001b[0m \n"
     ]
    },
    {
     "name": "stdout",
     "output_type": "stream",
     "text": [
      "\u001b[36m(tune_with_parameters pid=2880171)\u001b[0m loss: 0.590\n",
      "\u001b[36m(tune_with_parameters pid=2878214)\u001b[0m loss: 0.587\n",
      "\u001b[36m(tune_with_parameters pid=2663640)\u001b[0m loss: 0.589\n"
     ]
    },
    {
     "name": "stderr",
     "output_type": "stream",
     "text": [
      "Val Epoch:7: 0it [00:00, ?it/s]2878214)\u001b[0m \n"
     ]
    },
    {
     "name": "stdout",
     "output_type": "stream",
     "text": [
      "\u001b[36m(tune_with_parameters pid=2878938)\u001b[0m loss: 0.585\n"
     ]
    },
    {
     "name": "stderr",
     "output_type": "stream",
     "text": [
      "Val Epoch:7: 1it [00:03,  3.59s/it]214)\u001b[0m \n",
      "Val Epoch:7: 2it [00:04,  1.92s/it]214)\u001b[0m \n",
      "Val Epoch:7: 3it [00:05,  1.35s/it]214)\u001b[0m \n",
      "Val Epoch:7: 4it [00:05,  1.00it/s]214)\u001b[0m \n",
      "Val Epoch:7: 5it [00:05,  1.44it/s]214)\u001b[0m \n",
      "Val Epoch:7: 6it [00:05,  1.89it/s]214)\u001b[0m \n",
      "Val Epoch:7: 7it [00:06,  2.15it/s]214)\u001b[0m \n",
      "Val Epoch:7: 9it [00:07,  1.69it/s]214)\u001b[0m \n",
      "Val Epoch:7: 10it [00:08,  1.77it/s]14)\u001b[0m \n",
      "Val Epoch:7: 11it [00:08,  2.02it/s]14)\u001b[0m \n",
      "Val Epoch:7: 12it [00:09,  1.83it/s]14)\u001b[0m \n",
      "Val Epoch:7: 13it [00:09,  1.94it/s]14)\u001b[0m \n",
      "Val Epoch:7: 14it [00:09,  2.34it/s]14)\u001b[0m \n",
      "Val Epoch:7: 15it [00:10,  2.39it/s]14)\u001b[0m \n",
      "Val Epoch:7: 16it [00:10,  2.91it/s]14)\u001b[0m \n",
      "Val Epoch:7: 17it [00:10,  2.64it/s]14)\u001b[0m \n",
      "Val Epoch:7: 18it [00:11,  2.06it/s]14)\u001b[0m \n",
      "Val Epoch:7: 19it [00:12,  1.83it/s]14)\u001b[0m \n",
      "Val Epoch:7: 20it [00:12,  2.17it/s]14)\u001b[0m \n",
      "Val Epoch:7: 21it [00:12,  2.71it/s]14)\u001b[0m \n",
      "Val Epoch:7: 23it [00:12,  3.48it/s]14)\u001b[0m \n",
      "Val Epoch:7: 25it [00:13,  4.74it/s]14)\u001b[0m \n",
      "Val Epoch:7: 26it [00:13,  3.84it/s]14)\u001b[0m \n",
      "Val Epoch:7: 27it [00:13,  3.72it/s]14)\u001b[0m \n",
      "Val Epoch:7: 29it [00:14,  4.55it/s]14)\u001b[0m \n",
      "Val Epoch:7: 30it [00:14,  5.08it/s]14)\u001b[0m \n",
      "Val Epoch:7: 31it [00:14,  4.35it/s]14)\u001b[0m \n",
      "Val Epoch:7: 33it [00:14,  6.31it/s]14)\u001b[0m \n",
      "Val Epoch:7: 34it [00:15,  4.14it/s]14)\u001b[0m \n",
      "Val Epoch:7: 35it [00:16,  2.75it/s]14)\u001b[0m \n",
      "Val Epoch:7: 37it [00:16,  3.29it/s]14)\u001b[0m \n",
      "Val Epoch:7: 38it [00:16,  3.83it/s]14)\u001b[0m \n",
      "Val Epoch:7: 40it [00:16,  5.40it/s]14)\u001b[0m \n",
      "Val Epoch:7: 41it [00:16,  5.52it/s]14)\u001b[0m \n",
      "Val Epoch:7: 42it [00:17,  5.43it/s]14)\u001b[0m \n",
      "Val Epoch:7: 45it [00:17,  8.60it/s]14)\u001b[0m \n",
      "Val Epoch:7: 48it [00:17, 10.95it/s]14)\u001b[0m \n",
      "Val Epoch:7: 50it [00:17,  7.02it/s]14)\u001b[0m \n",
      "Val Epoch:7: 50it [00:18,  2.72it/s]14)\u001b[0m \n"
     ]
    },
    {
     "name": "stdout",
     "output_type": "stream",
     "text": [
      "\u001b[36m(tune_with_parameters pid=2880171)\u001b[0m loss: 0.584\n",
      "\u001b[36m(tune_with_parameters pid=2663640)\u001b[0m loss: 0.588\u001b[32m [repeated 2x across cluster]\u001b[0m\n",
      "\u001b[36m(tune_with_parameters pid=2878938)\u001b[0m loss: 0.586\n"
     ]
    },
    {
     "name": "stderr",
     "output_type": "stream",
     "text": [
      "Val Epoch:38: 0it [00:00, ?it/s]663640)\u001b[0m \n",
      "Val Epoch:38: 1it [00:01,  1.48s/it]40)\u001b[0m \n",
      "Val Epoch:38: 2it [00:02,  1.50s/it]40)\u001b[0m \n",
      "Val Epoch:38: 3it [00:03,  1.16s/it]40)\u001b[0m \n",
      "Val Epoch:38: 5it [00:04,  1.73it/s]40)\u001b[0m \n",
      "Val Epoch:38: 6it [00:04,  2.16it/s]40)\u001b[0m \n",
      "Val Epoch:38: 7it [00:04,  2.63it/s]40)\u001b[0m \n",
      "Val Epoch:38: 8it [00:04,  2.74it/s]40)\u001b[0m \n",
      "Val Epoch:38: 9it [00:05,  2.77it/s]40)\u001b[0m \n",
      "Val Epoch:38: 10it [00:06,  1.31it/s]0)\u001b[0m \n",
      "Val Epoch:38: 12it [00:07,  2.14it/s]0)\u001b[0m \n",
      "Val Epoch:38: 13it [00:07,  2.48it/s]0)\u001b[0m \n",
      "Val Epoch:38: 14it [00:07,  3.03it/s]0)\u001b[0m \n",
      "Val Epoch:38: 15it [00:07,  3.59it/s]0)\u001b[0m \n",
      "Val Epoch:38: 16it [00:07,  3.59it/s]0)\u001b[0m \n",
      "Val Epoch:38: 17it [00:07,  4.24it/s]0)\u001b[0m \n",
      "Val Epoch:38: 18it [00:09,  1.45it/s]0)\u001b[0m \n",
      "Val Epoch:38: 19it [00:09,  1.86it/s]0)\u001b[0m \n",
      "Val Epoch:38: 20it [00:10,  2.30it/s]0)\u001b[0m \n",
      "Val Epoch:38: 21it [00:10,  2.57it/s]0)\u001b[0m \n",
      "Val Epoch:38: 22it [00:10,  3.20it/s]0)\u001b[0m \n",
      "Val Epoch:38: 23it [00:10,  3.69it/s]0)\u001b[0m \n",
      "Val Epoch:38: 24it [00:10,  3.70it/s]0)\u001b[0m \n",
      "Val Epoch:38: 25it [00:11,  4.35it/s]0)\u001b[0m \n",
      "Val Epoch:38: 26it [00:14,  1.10s/it]0)\u001b[0m \n",
      "Val Epoch:38: 27it [00:14,  1.24it/s]0)\u001b[0m \n",
      "Val Epoch:38: 28it [00:14,  1.65it/s]0)\u001b[0m \n",
      "Val Epoch:38: 29it [00:14,  1.91it/s]0)\u001b[0m \n",
      "Val Epoch:38: 30it [00:15,  2.02it/s]0)\u001b[0m \n",
      "Val Epoch:38: 31it [00:15,  2.57it/s]0)\u001b[0m \n",
      "Val Epoch:38: 32it [00:15,  2.79it/s]0)\u001b[0m \n",
      "Val Epoch:38: 33it [00:15,  3.43it/s]0)\u001b[0m \n",
      "Val Epoch:38: 34it [00:18,  1.07it/s]0)\u001b[0m \n",
      "Val Epoch:38: 36it [00:18,  1.66it/s]0)\u001b[0m \n",
      "Val Epoch:38: 37it [00:19,  1.62it/s]0)\u001b[0m \n",
      "Val Epoch:38: 39it [00:19,  2.58it/s]0)\u001b[0m \n",
      "Val Epoch:38: 40it [00:19,  3.08it/s]0)\u001b[0m \n",
      "Val Epoch:38: 41it [00:20,  2.32it/s]0)\u001b[0m \n",
      "Val Epoch:7: 0it [00:00, ?it/s]2878938)\u001b[0m \n",
      "Val Epoch:38: 42it [00:22,  1.06it/s]0)\u001b[0m \n",
      "Val Epoch:38: 43it [00:22,  1.37it/s]0)\u001b[0m \n",
      "Val Epoch:38: 44it [00:22,  1.78it/s]0)\u001b[0m \n",
      "Val Epoch:38: 46it [00:23,  2.80it/s]0)\u001b[0m \n",
      "Val Epoch:38: 47it [00:23,  3.27it/s]0)\u001b[0m \n",
      "Val Epoch:38: 49it [00:23,  4.90it/s]0)\u001b[0m \n"
     ]
    },
    {
     "name": "stdout",
     "output_type": "stream",
     "text": [
      "\u001b[36m(tune_with_parameters pid=2880171)\u001b[0m loss: 0.585\n"
     ]
    },
    {
     "name": "stderr",
     "output_type": "stream",
     "text": [
      "Val Epoch:7: 4it [00:04,  1.22it/s]\u001b[32m [repeated 4x across cluster]\u001b[0m\n",
      "Val Epoch:7: 28it [00:09,  3.96it/s]\u001b[32m [repeated 14x across cluster]\u001b[0m\n"
     ]
    },
    {
     "name": "stdout",
     "output_type": "stream",
     "text": [
      "\u001b[36m(tune_with_parameters pid=2663640)\u001b[0m loss: 0.549\u001b[32m [repeated 2x across cluster]\u001b[0m\n"
     ]
    },
    {
     "name": "stderr",
     "output_type": "stream",
     "text": [
      "Val Epoch:7: 49it [00:15,  1.59it/s]\u001b[32m [repeated 14x across cluster]\u001b[0m\n",
      "Val Epoch:7: 0it [00:00, ?it/s]2880171)\u001b[0m \n",
      "Val Epoch:7: 50it [00:17,  2.90it/s]\u001b[32m [repeated 2x across cluster]\u001b[0m\n",
      "Val Epoch:7: 1it [00:05,  5.15s/it]171)\u001b[0m \n",
      "Val Epoch:7: 2it [00:05,  2.28s/it]171)\u001b[0m \n",
      "Val Epoch:7: 4it [00:05,  1.07it/s]171)\u001b[0m \n",
      "Val Epoch:7: 5it [00:06,  1.33it/s]171)\u001b[0m \n",
      "Val Epoch:7: 6it [00:06,  1.56it/s]171)\u001b[0m \n",
      "Val Epoch:7: 8it [00:06,  2.28it/s]171)\u001b[0m \n",
      "Val Epoch:7: 9it [00:08,  1.54it/s]171)\u001b[0m \n",
      "Val Epoch:7: 11it [00:08,  2.40it/s]71)\u001b[0m \n"
     ]
    },
    {
     "name": "stdout",
     "output_type": "stream",
     "text": [
      "\u001b[36m(tune_with_parameters pid=2878938)\u001b[0m loss: 0.565\n"
     ]
    },
    {
     "name": "stderr",
     "output_type": "stream",
     "text": [
      "Val Epoch:7: 12it [00:08,  2.52it/s]71)\u001b[0m \n",
      "Val Epoch:7: 14it [00:08,  3.64it/s]71)\u001b[0m \n",
      "Val Epoch:7: 15it [00:09,  3.82it/s]71)\u001b[0m \n",
      "Val Epoch:7: 17it [00:09,  3.91it/s]71)\u001b[0m \n",
      "Val Epoch:7: 18it [00:09,  3.89it/s]71)\u001b[0m \n",
      "Val Epoch:7: 20it [00:09,  5.08it/s]71)\u001b[0m \n",
      "Val Epoch:7: 21it [00:10,  3.91it/s]71)\u001b[0m \n",
      "Val Epoch:7: 23it [00:10,  5.40it/s]71)\u001b[0m \n",
      "Val Epoch:7: 25it [00:11,  3.48it/s]71)\u001b[0m \n",
      "Val Epoch:7: 27it [00:11,  4.60it/s]71)\u001b[0m \n",
      "Val Epoch:7: 28it [00:11,  5.02it/s]71)\u001b[0m \n",
      "Val Epoch:7: 29it [00:12,  4.26it/s]71)\u001b[0m \n",
      "Val Epoch:7: 32it [00:12,  6.90it/s]71)\u001b[0m \n",
      "Val Epoch:7: 34it [00:13,  4.31it/s]71)\u001b[0m \n",
      "Val Epoch:7: 36it [00:13,  5.67it/s]71)\u001b[0m \n",
      "Val Epoch:7: 38it [00:13,  5.61it/s]71)\u001b[0m \n",
      "Val Epoch:7: 39it [00:13,  5.87it/s]71)\u001b[0m \n",
      "Val Epoch:7: 40it [00:13,  6.05it/s]71)\u001b[0m \n",
      "Val Epoch:7: 41it [00:14,  3.93it/s]71)\u001b[0m \n",
      "Val Epoch:7: 43it [00:14,  5.48it/s]71)\u001b[0m \n",
      "Val Epoch:7: 45it [00:14,  6.79it/s]71)\u001b[0m \n",
      "Val Epoch:7: 48it [00:14,  9.06it/s]71)\u001b[0m \n",
      "Val Epoch:7: 50it [00:15,  5.02it/s]71)\u001b[0m \n",
      "Val Epoch:7: 50it [00:16,  3.01it/s]71)\u001b[0m \n"
     ]
    },
    {
     "name": "stdout",
     "output_type": "stream",
     "text": [
      "\u001b[36m(tune_with_parameters pid=2880171)\u001b[0m loss: 0.582\n",
      "\u001b[36m(tune_with_parameters pid=2878214)\u001b[0m loss: 0.587\n",
      "\u001b[36m(tune_with_parameters pid=2663640)\u001b[0m loss: 0.586\n",
      "\u001b[36m(tune_with_parameters pid=2878938)\u001b[0m loss: 0.586\n"
     ]
    },
    {
     "name": "stderr",
     "output_type": "stream",
     "text": [
      "Val Epoch:8: 0it [00:00, ?it/s]2878214)\u001b[0m \n",
      "Val Epoch:8: 1it [00:04,  4.51s/it]214)\u001b[0m \n",
      "Val Epoch:8: 2it [00:05,  2.38s/it]214)\u001b[0m \n",
      "Val Epoch:8: 3it [00:05,  1.37s/it]214)\u001b[0m \n",
      "Val Epoch:8: 4it [00:05,  1.13it/s]214)\u001b[0m \n",
      "Val Epoch:8: 5it [00:05,  1.54it/s]214)\u001b[0m \n",
      "Val Epoch:8: 6it [00:06,  1.68it/s]214)\u001b[0m \n",
      "Val Epoch:8: 7it [00:06,  1.76it/s]214)\u001b[0m \n",
      "Val Epoch:8: 8it [00:07,  2.24it/s]214)\u001b[0m \n",
      "Val Epoch:8: 9it [00:07,  1.86it/s]214)\u001b[0m \n",
      "Val Epoch:8: 10it [00:08,  2.25it/s]14)\u001b[0m \n",
      "Val Epoch:8: 11it [00:09,  1.54it/s]14)\u001b[0m \n",
      "Val Epoch:8: 12it [00:09,  2.00it/s]14)\u001b[0m \n",
      "Val Epoch:8: 13it [00:09,  2.49it/s]14)\u001b[0m \n",
      "Val Epoch:8: 14it [00:09,  2.97it/s]14)\u001b[0m \n",
      "Val Epoch:8: 15it [00:10,  2.50it/s]14)\u001b[0m \n",
      "Val Epoch:8: 16it [00:10,  2.99it/s]14)\u001b[0m \n",
      "Val Epoch:8: 17it [00:11,  1.88it/s]14)\u001b[0m \n",
      "Val Epoch:8: 18it [00:11,  2.04it/s]14)\u001b[0m \n",
      "Val Epoch:8: 19it [00:13,  1.25it/s]14)\u001b[0m \n",
      "Val Epoch:8: 20it [00:13,  1.66it/s]14)\u001b[0m \n",
      "Val Epoch:8: 21it [00:13,  2.09it/s]14)\u001b[0m \n",
      "Val Epoch:8: 23it [00:14,  2.88it/s]14)\u001b[0m \n",
      "Val Epoch:8: 25it [00:15,  2.15it/s]14)\u001b[0m \n",
      "Val Epoch:8: 26it [00:16,  1.58it/s]14)\u001b[0m \n",
      "Val Epoch:8: 27it [00:16,  1.95it/s]14)\u001b[0m \n",
      "Val Epoch:8: 28it [00:16,  2.36it/s]14)\u001b[0m \n",
      "Val Epoch:8: 29it [00:17,  2.80it/s]14)\u001b[0m \n",
      "Val Epoch:8: 30it [00:17,  3.26it/s]14)\u001b[0m \n",
      "Val Epoch:8: 31it [00:17,  3.14it/s]14)\u001b[0m \n",
      "Val Epoch:8: 33it [00:19,  1.67it/s]14)\u001b[0m \n",
      "Val Epoch:8: 34it [00:19,  1.92it/s]14)\u001b[0m \n",
      "Val Epoch:8: 35it [00:20,  1.58it/s]14)\u001b[0m \n",
      "Val Epoch:8: 37it [00:21,  2.34it/s]14)\u001b[0m \n",
      "Val Epoch:8: 40it [00:21,  3.71it/s]14)\u001b[0m \n",
      "Val Epoch:8: 41it [00:22,  2.71it/s]14)\u001b[0m \n",
      "Val Epoch:8: 42it [00:22,  3.21it/s]14)\u001b[0m \n",
      "Val Epoch:8: 44it [00:22,  4.64it/s]14)\u001b[0m \n",
      "Val Epoch:8: 45it [00:22,  5.23it/s]14)\u001b[0m \n",
      "Val Epoch:8: 47it [00:22,  6.75it/s]14)\u001b[0m \n",
      "Val Epoch:8: 49it [00:23,  4.51it/s]14)\u001b[0m \n",
      "Val Epoch:8: 50it [00:24,  2.08it/s]14)\u001b[0m \n"
     ]
    },
    {
     "name": "stdout",
     "output_type": "stream",
     "text": [
      "\u001b[36m(tune_with_parameters pid=2880171)\u001b[0m loss: 0.585\n",
      "\u001b[36m(tune_with_parameters pid=2878214)\u001b[0m loss: 0.602\n",
      "\u001b[36m(tune_with_parameters pid=2663640)\u001b[0m loss: 0.588\n",
      "\u001b[36m(tune_with_parameters pid=2878938)\u001b[0m loss: 0.586\n"
     ]
    },
    {
     "name": "stderr",
     "output_type": "stream",
     "text": [
      "Val Epoch:39: 0it [00:00, ?it/s]663640)\u001b[0m \n",
      "Val Epoch:39: 1it [00:01,  1.61s/it]40)\u001b[0m \n",
      "Val Epoch:39: 2it [00:01,  1.37it/s]40)\u001b[0m \n",
      "Val Epoch:39: 3it [00:02,  1.82it/s]40)\u001b[0m \n",
      "Val Epoch:39: 4it [00:02,  2.59it/s]40)\u001b[0m \n",
      "Val Epoch:39: 7it [00:02,  5.02it/s]40)\u001b[0m \n",
      "Val Epoch:39: 8it [00:02,  4.09it/s]40)\u001b[0m \n",
      "Val Epoch:39: 9it [00:03,  4.41it/s]40)\u001b[0m \n",
      "Val Epoch:39: 10it [00:03,  4.16it/s]0)\u001b[0m \n",
      "Val Epoch:39: 11it [00:03,  4.88it/s]0)\u001b[0m \n",
      "Val Epoch:39: 12it [00:03,  4.27it/s]0)\u001b[0m \n",
      "Val Epoch:39: 15it [00:03,  7.19it/s]0)\u001b[0m \n",
      "Val Epoch:39: 16it [00:04,  6.53it/s]0)\u001b[0m \n",
      "Val Epoch:39: 17it [00:04,  5.49it/s]0)\u001b[0m \n",
      "Val Epoch:39: 18it [00:04,  3.63it/s]0)\u001b[0m \n",
      "Val Epoch:39: 20it [00:05,  5.42it/s]0)\u001b[0m \n",
      "Val Epoch:39: 22it [00:05,  7.19it/s]0)\u001b[0m \n",
      "Val Epoch:39: 24it [00:05,  7.00it/s]0)\u001b[0m \n",
      "Val Epoch:39: 25it [00:06,  4.56it/s]0)\u001b[0m \n",
      "Val Epoch:39: 26it [00:06,  3.85it/s]0)\u001b[0m \n",
      "Val Epoch:39: 29it [00:06,  6.26it/s]0)\u001b[0m \n",
      "Val Epoch:39: 31it [00:06,  7.16it/s]0)\u001b[0m \n",
      "Val Epoch:39: 32it [00:07,  6.27it/s]0)\u001b[0m \n",
      "Val Epoch:39: 33it [00:07,  4.79it/s]0)\u001b[0m \n",
      "Val Epoch:39: 34it [00:09,  1.82it/s]0)\u001b[0m \n",
      "Val Epoch:39: 35it [00:09,  2.24it/s]0)\u001b[0m \n",
      "Val Epoch:39: 37it [00:09,  2.86it/s]0)\u001b[0m \n",
      "Val Epoch:39: 38it [00:10,  2.75it/s]0)\u001b[0m \n",
      "Val Epoch:39: 39it [00:10,  2.31it/s]0)\u001b[0m \n",
      "Val Epoch:39: 40it [00:11,  2.30it/s]0)\u001b[0m \n",
      "Val Epoch:39: 41it [00:11,  2.39it/s]0)\u001b[0m \n",
      "Val Epoch:39: 42it [00:13,  1.36it/s]0)\u001b[0m \n",
      "Val Epoch:39: 43it [00:13,  1.72it/s]0)\u001b[0m \n",
      "Val Epoch:39: 44it [00:13,  2.22it/s]0)\u001b[0m \n",
      "Val Epoch:39: 46it [00:13,  3.60it/s]0)\u001b[0m \n",
      "Val Epoch:39: 47it [00:13,  3.84it/s]0)\u001b[0m \n",
      "Val Epoch:39: 48it [00:13,  4.05it/s]0)\u001b[0m \n"
     ]
    },
    {
     "name": "stdout",
     "output_type": "stream",
     "text": [
      "\u001b[36m(tune_with_parameters pid=2880171)\u001b[0m loss: 0.585\n"
     ]
    },
    {
     "name": "stderr",
     "output_type": "stream",
     "text": [
      "Val Epoch:39: 49it [00:15,  2.07it/s]0)\u001b[0m \n",
      "Val Epoch:39: 50it [00:15,  2.00it/s]0)\u001b[0m \n",
      "Val Epoch:8: 0it [00:00, ?it/s]2878938)\u001b[0m \n",
      "Val Epoch:39: 50it [00:16,  2.98it/s]0)\u001b[0m \n",
      "Val Epoch:8: 1it [00:05,  5.97s/it]938)\u001b[0m \n",
      "Val Epoch:8: 3it [00:06,  1.78s/it]938)\u001b[0m \n",
      "Val Epoch:8: 4it [00:06,  1.21s/it]938)\u001b[0m \n",
      "Val Epoch:8: 5it [00:06,  1.17it/s]938)\u001b[0m \n",
      "Val Epoch:8: 6it [00:07,  1.22it/s]938)\u001b[0m \n",
      "Val Epoch:8: 7it [00:07,  1.56it/s]938)\u001b[0m \n",
      "Val Epoch:8: 8it [00:08,  1.49it/s]938)\u001b[0m \n",
      "Val Epoch:8: 9it [00:09,  1.17it/s]938)\u001b[0m \n",
      "Val Epoch:8: 10it [00:10,  1.46it/s]38)\u001b[0m \n",
      "Val Epoch:8: 11it [00:10,  1.92it/s]38)\u001b[0m \n",
      "Val Epoch:8: 12it [00:10,  2.46it/s]38)\u001b[0m \n",
      "Val Epoch:8: 13it [00:10,  2.98it/s]38)\u001b[0m \n",
      "Val Epoch:8: 15it [00:10,  4.06it/s]38)\u001b[0m \n",
      "Val Epoch:8: 16it [00:11,  4.09it/s]38)\u001b[0m \n",
      "Val Epoch:8: 17it [00:13,  1.39it/s]38)\u001b[0m \n",
      "Val Epoch:8: 19it [00:13,  2.11it/s]38)\u001b[0m \n",
      "Val Epoch:8: 21it [00:13,  3.15it/s]38)\u001b[0m \n",
      "Val Epoch:8: 22it [00:13,  3.42it/s]38)\u001b[0m \n"
     ]
    },
    {
     "name": "stdout",
     "output_type": "stream",
     "text": [
      "\u001b[36m(tune_with_parameters pid=2663640)\u001b[0m loss: 0.576\n"
     ]
    },
    {
     "name": "stderr",
     "output_type": "stream",
     "text": [
      "Val Epoch:8: 24it [00:14,  4.30it/s]38)\u001b[0m \n"
     ]
    },
    {
     "name": "stdout",
     "output_type": "stream",
     "text": [
      "\u001b[36m(tune_with_parameters pid=2878214)\u001b[0m loss: 0.588\n"
     ]
    },
    {
     "name": "stderr",
     "output_type": "stream",
     "text": [
      "Val Epoch:8: 25it [00:14,  2.68it/s]38)\u001b[0m \n",
      "Val Epoch:8: 27it [00:15,  3.67it/s]38)\u001b[0m \n",
      "Val Epoch:8: 29it [00:15,  4.43it/s]38)\u001b[0m \n",
      "Val Epoch:8: 31it [00:15,  5.47it/s]38)\u001b[0m \n",
      "Val Epoch:8: 33it [00:16,  3.81it/s]38)\u001b[0m \n",
      "Val Epoch:8: 35it [00:16,  4.84it/s]38)\u001b[0m \n",
      "Val Epoch:8: 39it [00:16,  7.45it/s]38)\u001b[0m \n",
      "Val Epoch:8: 41it [00:18,  4.12it/s]38)\u001b[0m \n",
      "Val Epoch:8: 42it [00:18,  4.29it/s]38)\u001b[0m \n",
      "Val Epoch:8: 44it [00:18,  5.33it/s]38)\u001b[0m \n",
      "Val Epoch:8: 47it [00:18,  7.85it/s]38)\u001b[0m \n",
      "Val Epoch:8: 49it [00:19,  4.19it/s]38)\u001b[0m \n",
      "Val Epoch:8: 50it [00:20,  2.46it/s]38)\u001b[0m \n",
      "Val Epoch:8: 0it [00:00, ?it/s]2880171)\u001b[0m \n",
      "Val Epoch:8: 1it [00:04,  4.29s/it]171)\u001b[0m \n",
      "Val Epoch:8: 2it [00:05,  2.26s/it]171)\u001b[0m \n",
      "Val Epoch:8: 3it [00:05,  1.57s/it]171)\u001b[0m \n",
      "Val Epoch:8: 4it [00:06,  1.17s/it]171)\u001b[0m \n",
      "Val Epoch:8: 6it [00:06,  1.58it/s]171)\u001b[0m \n",
      "Val Epoch:8: 7it [00:07,  1.55it/s]171)\u001b[0m \n",
      "Val Epoch:8: 8it [00:07,  1.82it/s]171)\u001b[0m \n",
      "Val Epoch:8: 9it [00:08,  1.87it/s]171)\u001b[0m \n",
      "Val Epoch:8: 10it [00:08,  2.12it/s]71)\u001b[0m \n",
      "Val Epoch:8: 11it [00:08,  2.32it/s]71)\u001b[0m \n",
      "Val Epoch:8: 12it [00:09,  2.78it/s]71)\u001b[0m \n",
      "Val Epoch:8: 13it [00:09,  3.37it/s]71)\u001b[0m \n",
      "Val Epoch:8: 14it [00:09,  3.89it/s]71)\u001b[0m \n",
      "Val Epoch:8: 15it [00:09,  3.40it/s]71)\u001b[0m \n",
      "Val Epoch:8: 16it [00:10,  2.97it/s]71)\u001b[0m \n",
      "Val Epoch:8: 17it [00:11,  1.53it/s]71)\u001b[0m \n",
      "Val Epoch:8: 18it [00:12,  1.54it/s]71)\u001b[0m \n",
      "Val Epoch:8: 19it [00:12,  1.97it/s]71)\u001b[0m \n",
      "Val Epoch:8: 20it [00:12,  2.46it/s]71)\u001b[0m \n",
      "Val Epoch:8: 21it [00:12,  2.48it/s]71)\u001b[0m \n",
      "Val Epoch:8: 22it [00:13,  2.60it/s]71)\u001b[0m \n"
     ]
    },
    {
     "name": "stdout",
     "output_type": "stream",
     "text": [
      "\u001b[36m(tune_with_parameters pid=2878938)\u001b[0m loss: 0.590\n"
     ]
    },
    {
     "name": "stderr",
     "output_type": "stream",
     "text": [
      "Val Epoch:8: 23it [00:13,  2.84it/s]71)\u001b[0m \n",
      "Val Epoch:8: 24it [00:13,  3.38it/s]71)\u001b[0m \n",
      "Val Epoch:8: 25it [00:15,  1.46it/s]71)\u001b[0m \n",
      "Val Epoch:8: 26it [00:16,  1.29it/s]71)\u001b[0m \n",
      "Val Epoch:8: 27it [00:16,  1.53it/s]71)\u001b[0m \n",
      "Val Epoch:8: 28it [00:16,  1.87it/s]71)\u001b[0m \n",
      "Val Epoch:8: 30it [00:17,  2.50it/s]71)\u001b[0m \n",
      "Val Epoch:8: 31it [00:17,  2.58it/s]71)\u001b[0m \n",
      "Val Epoch:8: 32it [00:17,  3.03it/s]71)\u001b[0m \n",
      "Val Epoch:8: 33it [00:19,  1.89it/s]71)\u001b[0m \n",
      "Val Epoch:8: 34it [00:20,  1.40it/s]71)\u001b[0m \n",
      "Val Epoch:8: 35it [00:20,  1.75it/s]71)\u001b[0m \n",
      "Val Epoch:8: 36it [00:20,  2.18it/s]71)\u001b[0m \n",
      "Val Epoch:8: 37it [00:21,  1.82it/s]71)\u001b[0m \n",
      "Val Epoch:8: 38it [00:21,  2.25it/s]71)\u001b[0m \n",
      "Val Epoch:8: 40it [00:21,  3.65it/s]71)\u001b[0m \n",
      "Val Epoch:8: 41it [00:22,  3.21it/s]71)\u001b[0m \n",
      "Val Epoch:8: 42it [00:22,  3.27it/s]71)\u001b[0m \n",
      "Val Epoch:8: 46it [00:22,  6.75it/s]71)\u001b[0m \n",
      "Val Epoch:8: 49it [00:23,  4.94it/s]71)\u001b[0m \n",
      "Val Epoch:8: 50it [00:23,  2.09it/s]71)\u001b[0m \n"
     ]
    },
    {
     "name": "stdout",
     "output_type": "stream",
     "text": [
      "\u001b[36m(tune_with_parameters pid=2880171)\u001b[0m loss: 0.588\n",
      "\u001b[36m(tune_with_parameters pid=2663640)\u001b[0m loss: 0.586\n",
      "\u001b[36m(tune_with_parameters pid=2878214)\u001b[0m loss: 0.587\n",
      "\u001b[36m(tune_with_parameters pid=2878938)\u001b[0m loss: 0.585\n"
     ]
    },
    {
     "name": "stderr",
     "output_type": "stream",
     "text": [
      "Val Epoch:9: 0it [00:00, ?it/s]2878214)\u001b[0m \n",
      "Val Epoch:9: 1it [00:02,  2.32s/it]214)\u001b[0m \n",
      "Val Epoch:9: 2it [00:03,  1.60s/it]214)\u001b[0m \n",
      "Val Epoch:9: 3it [00:03,  1.03it/s]214)\u001b[0m \n",
      "Val Epoch:9: 4it [00:03,  1.48it/s]214)\u001b[0m \n",
      "Val Epoch:9: 5it [00:04,  1.82it/s]214)\u001b[0m \n",
      "Val Epoch:9: 6it [00:04,  2.31it/s]214)\u001b[0m \n",
      "Val Epoch:9: 7it [00:04,  2.78it/s]214)\u001b[0m \n",
      "Val Epoch:9: 8it [00:04,  3.38it/s]214)\u001b[0m \n",
      "Val Epoch:9: 9it [00:06,  1.50it/s]214)\u001b[0m \n",
      "Val Epoch:9: 10it [00:07,  1.30it/s]14)\u001b[0m \n",
      "Val Epoch:9: 11it [00:07,  1.72it/s]14)\u001b[0m \n",
      "Val Epoch:9: 12it [00:07,  2.18it/s]14)\u001b[0m \n",
      "Val Epoch:9: 13it [00:07,  2.72it/s]14)\u001b[0m \n",
      "Val Epoch:9: 14it [00:08,  2.39it/s]14)\u001b[0m \n",
      "Val Epoch:9: 15it [00:08,  2.86it/s]14)\u001b[0m \n",
      "Val Epoch:9: 17it [00:09,  1.92it/s]14)\u001b[0m \n",
      "Val Epoch:9: 18it [00:10,  1.67it/s]14)\u001b[0m \n",
      "Val Epoch:9: 19it [00:11,  1.75it/s]14)\u001b[0m \n",
      "Val Epoch:9: 20it [00:12,  1.54it/s]14)\u001b[0m \n",
      "Val Epoch:9: 21it [00:12,  1.77it/s]14)\u001b[0m \n",
      "Val Epoch:9: 22it [00:12,  2.23it/s]14)\u001b[0m \n",
      "Val Epoch:9: 23it [00:12,  2.62it/s]14)\u001b[0m \n",
      "Val Epoch:9: 25it [00:14,  2.06it/s]14)\u001b[0m \n",
      "Val Epoch:9: 26it [00:14,  1.79it/s]14)\u001b[0m \n",
      "Val Epoch:9: 27it [00:14,  2.20it/s]14)\u001b[0m \n",
      "Val Epoch:9: 28it [00:15,  2.37it/s]14)\u001b[0m \n",
      "Val Epoch:9: 29it [00:15,  2.21it/s]14)\u001b[0m \n",
      "Val Epoch:9: 30it [00:15,  2.71it/s]14)\u001b[0m \n",
      "Val Epoch:9: 32it [00:16,  3.90it/s]14)\u001b[0m \n",
      "Val Epoch:9: 33it [00:17,  1.78it/s]14)\u001b[0m \n",
      "Val Epoch:9: 34it [00:18,  1.40it/s]14)\u001b[0m \n",
      "Val Epoch:9: 35it [00:19,  1.74it/s]14)\u001b[0m \n",
      "Val Epoch:9: 37it [00:19,  2.52it/s]14)\u001b[0m \n",
      "Val Epoch:9: 38it [00:19,  2.49it/s]14)\u001b[0m \n",
      "Val Epoch:9: 39it [00:19,  2.95it/s]14)\u001b[0m \n",
      "Val Epoch:9: 40it [00:20,  3.43it/s]14)\u001b[0m \n"
     ]
    },
    {
     "name": "stdout",
     "output_type": "stream",
     "text": [
      "\u001b[36m(tune_with_parameters pid=2880171)\u001b[0m loss: 0.585\n"
     ]
    },
    {
     "name": "stderr",
     "output_type": "stream",
     "text": [
      "Val Epoch:9: 41it [00:21,  1.55it/s]14)\u001b[0m \n",
      "Val Epoch:9: 42it [00:22,  1.66it/s]14)\u001b[0m \n",
      "Val Epoch:9: 43it [00:22,  2.09it/s]14)\u001b[0m \n",
      "Val Epoch:9: 44it [00:22,  2.60it/s]14)\u001b[0m \n",
      "Val Epoch:9: 46it [00:22,  3.92it/s]14)\u001b[0m \n",
      "Val Epoch:9: 47it [00:22,  4.39it/s]14)\u001b[0m \n",
      "Val Epoch:9: 49it [00:23,  3.02it/s]14)\u001b[0m \n",
      "Val Epoch:9: 50it [00:24,  2.03it/s]14)\u001b[0m \n"
     ]
    },
    {
     "name": "stdout",
     "output_type": "stream",
     "text": [
      "\u001b[36m(tune_with_parameters pid=2878214)\u001b[0m loss: 0.618\n",
      "\u001b[36m(tune_with_parameters pid=2663640)\u001b[0m loss: 0.586\n",
      "\u001b[36m(tune_with_parameters pid=2878938)\u001b[0m loss: 0.586\n"
     ]
    },
    {
     "name": "stderr",
     "output_type": "stream",
     "text": [
      "Val Epoch:40: 0it [00:00, ?it/s]663640)\u001b[0m \n",
      "Val Epoch:40: 1it [00:03,  3.66s/it]40)\u001b[0m \n",
      "Val Epoch:40: 2it [00:04,  1.76s/it]40)\u001b[0m \n",
      "Val Epoch:40: 3it [00:04,  1.16s/it]40)\u001b[0m \n",
      "Val Epoch:40: 4it [00:04,  1.23it/s]40)\u001b[0m \n",
      "Val Epoch:40: 5it [00:04,  1.76it/s]40)\u001b[0m \n",
      "Val Epoch:40: 6it [00:05,  2.21it/s]40)\u001b[0m \n",
      "Val Epoch:40: 7it [00:05,  2.78it/s]40)\u001b[0m \n",
      "Val Epoch:40: 8it [00:05,  3.42it/s]40)\u001b[0m \n",
      "Val Epoch:40: 9it [00:07,  1.23it/s]40)\u001b[0m \n",
      "Val Epoch:40: 10it [00:07,  1.62it/s]0)\u001b[0m \n",
      "Val Epoch:40: 11it [00:08,  1.81it/s]0)\u001b[0m \n",
      "Val Epoch:40: 12it [00:08,  2.04it/s]0)\u001b[0m \n",
      "Val Epoch:40: 13it [00:08,  2.55it/s]0)\u001b[0m \n",
      "Val Epoch:40: 14it [00:08,  3.01it/s]0)\u001b[0m \n",
      "Val Epoch:40: 15it [00:09,  2.97it/s]0)\u001b[0m \n",
      "Val Epoch:40: 16it [00:09,  3.50it/s]0)\u001b[0m \n",
      "Val Epoch:40: 17it [00:11,  1.35it/s]0)\u001b[0m \n",
      "Val Epoch:40: 18it [00:11,  1.73it/s]0)\u001b[0m \n",
      "Val Epoch:40: 20it [00:11,  2.77it/s]0)\u001b[0m \n",
      "Val Epoch:40: 22it [00:12,  3.03it/s]0)\u001b[0m \n",
      "Val Epoch:40: 24it [00:12,  3.67it/s]0)\u001b[0m \n",
      "Val Epoch:40: 25it [00:12,  3.68it/s]0)\u001b[0m \n",
      "Val Epoch:40: 26it [00:13,  3.20it/s]0)\u001b[0m \n",
      "Val Epoch:40: 27it [00:13,  3.46it/s]0)\u001b[0m \n",
      "Val Epoch:40: 30it [00:13,  6.32it/s]0)\u001b[0m \n",
      "Val Epoch:40: 32it [00:13,  8.01it/s]0)\u001b[0m \n",
      "Val Epoch:40: 34it [00:14,  3.75it/s]0)\u001b[0m \n",
      "Val Epoch:40: 36it [00:15,  4.16it/s]0)\u001b[0m \n",
      "Val Epoch:40: 39it [00:15,  5.77it/s]0)\u001b[0m \n",
      "Val Epoch:40: 41it [00:15,  7.18it/s]0)\u001b[0m \n",
      "Val Epoch:40: 43it [00:15,  6.25it/s]0)\u001b[0m \n",
      "Val Epoch:40: 46it [00:15,  8.71it/s]0)\u001b[0m \n",
      "Val Epoch:40: 48it [00:16,  8.80it/s]0)\u001b[0m \n",
      "Val Epoch:40: 50it [00:16,  7.64it/s]0)\u001b[0m \n",
      "Val Epoch:40: 50it [00:17,  2.92it/s]0)\u001b[0m \n"
     ]
    },
    {
     "name": "stdout",
     "output_type": "stream",
     "text": [
      "\u001b[36m(tune_with_parameters pid=2880171)\u001b[0m loss: 0.585\n"
     ]
    },
    {
     "name": "stderr",
     "output_type": "stream",
     "text": [
      "Val Epoch:9: 0it [00:00, ?it/s]2878938)\u001b[0m \n",
      "Val Epoch:9: 1it [00:04,  4.29s/it]938)\u001b[0m \n",
      "Val Epoch:9: 2it [00:04,  2.04s/it]938)\u001b[0m \n",
      "Val Epoch:9: 3it [00:05,  1.46s/it]938)\u001b[0m \n",
      "Val Epoch:9: 5it [00:05,  1.40it/s]938)\u001b[0m \n",
      "Val Epoch:9: 6it [00:05,  1.80it/s]938)\u001b[0m \n"
     ]
    },
    {
     "name": "stdout",
     "output_type": "stream",
     "text": [
      "\u001b[36m(tune_with_parameters pid=2663640)\u001b[0m loss: 0.583\n"
     ]
    },
    {
     "name": "stderr",
     "output_type": "stream",
     "text": [
      "Val Epoch:9: 8it [00:06,  2.84it/s]938)\u001b[0m \n",
      "Val Epoch:9: 9it [00:08,  1.23it/s]938)\u001b[0m \n",
      "Val Epoch:9: 10it [00:08,  1.56it/s]38)\u001b[0m \n",
      "Val Epoch:9: 11it [00:09,  1.39it/s]38)\u001b[0m \n",
      "Val Epoch:9: 12it [00:09,  1.79it/s]38)\u001b[0m \n",
      "Val Epoch:9: 13it [00:09,  2.00it/s]38)\u001b[0m \n",
      "Val Epoch:9: 14it [00:10,  2.49it/s]38)\u001b[0m \n",
      "Val Epoch:9: 15it [00:10,  3.00it/s]38)\u001b[0m \n",
      "Val Epoch:9: 16it [00:10,  3.43it/s]38)\u001b[0m \n",
      "Val Epoch:9: 17it [00:11,  1.77it/s]38)\u001b[0m \n",
      "Val Epoch:9: 18it [00:12,  1.90it/s]38)\u001b[0m \n",
      "Val Epoch:9: 19it [00:12,  1.75it/s]38)\u001b[0m \n",
      "Val Epoch:9: 20it [00:12,  2.26it/s]38)\u001b[0m \n",
      "Val Epoch:9: 21it [00:13,  2.40it/s]38)\u001b[0m \n",
      "Val Epoch:9: 22it [00:13,  2.63it/s]38)\u001b[0m \n",
      "Val Epoch:9: 23it [00:13,  3.23it/s]38)\u001b[0m \n",
      "Val Epoch:9: 24it [00:13,  3.83it/s]38)\u001b[0m \n",
      "Val Epoch:9: 25it [00:16,  1.10it/s]38)\u001b[0m \n",
      "Val Epoch:9: 26it [00:16,  1.49it/s]38)\u001b[0m \n",
      "Val Epoch:9: 27it [00:16,  1.96it/s]38)\u001b[0m \n"
     ]
    },
    {
     "name": "stdout",
     "output_type": "stream",
     "text": [
      "\u001b[36m(tune_with_parameters pid=2878214)\u001b[0m loss: 0.586\n"
     ]
    },
    {
     "name": "stderr",
     "output_type": "stream",
     "text": [
      "Val Epoch:9: 28it [00:17,  2.07it/s]38)\u001b[0m \n",
      "Val Epoch:9: 29it [00:17,  2.54it/s]38)\u001b[0m \n",
      "Val Epoch:9: 30it [00:17,  3.02it/s]38)\u001b[0m \n",
      "Val Epoch:9: 33it [00:18,  3.25it/s]38)\u001b[0m \n",
      "Val Epoch:9: 34it [00:18,  3.24it/s]38)\u001b[0m \n",
      "Val Epoch:9: 35it [00:18,  3.83it/s]38)\u001b[0m \n",
      "Val Epoch:9: 39it [00:18,  7.56it/s]38)\u001b[0m \n",
      "Val Epoch:9: 41it [00:19,  4.07it/s]38)\u001b[0m \n",
      "Val Epoch:9: 42it [00:20,  3.74it/s]38)\u001b[0m \n",
      "Val Epoch:9: 44it [00:20,  4.99it/s]38)\u001b[0m \n",
      "Val Epoch:9: 47it [00:20,  7.27it/s]38)\u001b[0m \n",
      "Val Epoch:9: 49it [00:21,  4.18it/s]38)\u001b[0m \n",
      "Val Epoch:9: 0it [00:00, ?it/s]2880171)\u001b[0m \n",
      "Val Epoch:9: 50it [00:22,  2.26it/s]38)\u001b[0m \n",
      "Val Epoch:9: 13it [00:06,  1.95it/s]\u001b[32m [repeated 10x across cluster]\u001b[0m\n",
      "Val Epoch:9: 25it [00:12,  1.63it/s]\u001b[32m [repeated 12x across cluster]\u001b[0m\n"
     ]
    },
    {
     "name": "stdout",
     "output_type": "stream",
     "text": [
      "\u001b[36m(tune_with_parameters pid=2878938)\u001b[0m loss: 0.573\n"
     ]
    },
    {
     "name": "stderr",
     "output_type": "stream",
     "text": [
      "Val Epoch:9: 37it [00:17,  2.56it/s]\u001b[32m [repeated 11x across cluster]\u001b[0m\n",
      "Val Epoch:9: 49it [00:23,  1.43it/s]\u001b[32m [repeated 10x across cluster]\u001b[0m\n"
     ]
    },
    {
     "name": "stdout",
     "output_type": "stream",
     "text": [
      "\u001b[36m(tune_with_parameters pid=2880171)\u001b[0m loss: 0.619\n",
      "\u001b[36m(tune_with_parameters pid=2663640)\u001b[0m loss: 0.586\n",
      "\u001b[36m(tune_with_parameters pid=2878214)\u001b[0m loss: 0.586\n",
      "\u001b[36m(tune_with_parameters pid=2878938)\u001b[0m loss: 0.586\n"
     ]
    },
    {
     "name": "stderr",
     "output_type": "stream",
     "text": [
      "Val Epoch:10: 0it [00:00, ?it/s]878214)\u001b[0m \n",
      "Val Epoch:9: 50it [00:24,  2.07it/s]\u001b[32m [repeated 2x across cluster]\u001b[0m\n",
      "Val Epoch:10: 13it [00:05,  3.42it/s]\u001b[32m [repeated 12x across cluster]\u001b[0m\n",
      "Val Epoch:10: 20it [00:10,  1.51it/s]4)\u001b[0m \n",
      "Val Epoch:10: 18it [00:08,  1.49it/s]\u001b[32m [repeated 5x across cluster]\u001b[0m\n"
     ]
    },
    {
     "name": "stdout",
     "output_type": "stream",
     "text": [
      "\u001b[36m(tune_with_parameters pid=2880171)\u001b[0m loss: 0.584\n"
     ]
    },
    {
     "name": "stderr",
     "output_type": "stream",
     "text": [
      "Val Epoch:10: 33it [00:15,  1.76it/s]\u001b[32m [repeated 12x across cluster]\u001b[0m\n",
      "Val Epoch:10: 48it [00:20,  4.86it/s]4)\u001b[0m \n",
      "Val Epoch:10: 49it [00:21,  1.66it/s]\u001b[32m [repeated 12x across cluster]\u001b[0m\n"
     ]
    },
    {
     "name": "stdout",
     "output_type": "stream",
     "text": [
      "\u001b[36m(tune_with_parameters pid=2878214)\u001b[0m loss: 0.627\n",
      "\u001b[36m(tune_with_parameters pid=2663640)\u001b[0m loss: 0.587\n"
     ]
    },
    {
     "name": "stderr",
     "output_type": "stream",
     "text": [
      "Val Epoch:41: 0it [00:00, ?it/s]663640)\u001b[0m \n",
      "Val Epoch:10: 50it [00:23,  2.14it/s]4)\u001b[0m \n"
     ]
    },
    {
     "name": "stdout",
     "output_type": "stream",
     "text": [
      "\u001b[36m(tune_with_parameters pid=2878938)\u001b[0m loss: 0.586\n"
     ]
    },
    {
     "name": "stderr",
     "output_type": "stream",
     "text": [
      "Val Epoch:41: 1it [00:04,  4.36s/it]40)\u001b[0m \n",
      "Val Epoch:41: 3it [00:04,  1.29s/it]40)\u001b[0m \n",
      "Val Epoch:41: 5it [00:05,  1.20it/s]40)\u001b[0m \n",
      "Val Epoch:41: 7it [00:05,  1.82it/s]40)\u001b[0m \n",
      "Val Epoch:41: 8it [00:06,  2.19it/s]40)\u001b[0m \n",
      "Val Epoch:41: 9it [00:07,  1.28it/s]40)\u001b[0m \n",
      "Val Epoch:41: 11it [00:08,  1.81it/s]0)\u001b[0m \n",
      "Val Epoch:41: 12it [00:08,  2.15it/s]0)\u001b[0m \n",
      "Val Epoch:41: 13it [00:08,  2.13it/s]0)\u001b[0m \n",
      "Val Epoch:41: 14it [00:09,  2.64it/s]0)\u001b[0m \n",
      "Val Epoch:41: 15it [00:09,  3.24it/s]0)\u001b[0m \n",
      "Val Epoch:41: 16it [00:09,  3.56it/s]0)\u001b[0m \n",
      "Val Epoch:41: 17it [00:12,  1.01it/s]0)\u001b[0m \n",
      "Val Epoch:41: 19it [00:12,  1.73it/s]0)\u001b[0m \n",
      "Val Epoch:41: 20it [00:12,  1.85it/s]0)\u001b[0m \n",
      "Val Epoch:41: 21it [00:13,  1.64it/s]0)\u001b[0m \n",
      "Val Epoch:41: 23it [00:13,  2.57it/s]0)\u001b[0m \n",
      "Val Epoch:41: 25it [00:15,  1.58it/s]0)\u001b[0m \n",
      "Val Epoch:41: 26it [00:16,  1.81it/s]0)\u001b[0m \n",
      "Val Epoch:41: 27it [00:16,  2.15it/s]0)\u001b[0m \n",
      "Val Epoch:41: 28it [00:16,  2.58it/s]0)\u001b[0m \n",
      "Val Epoch:41: 29it [00:16,  2.82it/s]0)\u001b[0m \n",
      "Val Epoch:41: 30it [00:16,  3.36it/s]0)\u001b[0m \n",
      "Val Epoch:41: 31it [00:16,  3.84it/s]0)\u001b[0m \n",
      "Val Epoch:41: 32it [00:17,  3.78it/s]0)\u001b[0m \n",
      "Val Epoch:41: 33it [00:19,  1.05it/s]0)\u001b[0m \n",
      "Val Epoch:41: 35it [00:20,  1.75it/s]0)\u001b[0m \n",
      "Val Epoch:41: 37it [00:20,  2.46it/s]0)\u001b[0m \n",
      "Val Epoch:41: 38it [00:20,  2.89it/s]0)\u001b[0m \n",
      "Val Epoch:41: 40it [00:20,  3.88it/s]0)\u001b[0m \n",
      "Val Epoch:41: 41it [00:21,  2.40it/s]0)\u001b[0m \n",
      "Val Epoch:41: 45it [00:22,  4.14it/s]0)\u001b[0m \n",
      "Val Epoch:41: 49it [00:22,  6.44it/s]0)\u001b[0m \n",
      "Val Epoch:41: 50it [00:22,  2.19it/s]0)\u001b[0m \n"
     ]
    },
    {
     "name": "stdout",
     "output_type": "stream",
     "text": [
      "\u001b[36m(tune_with_parameters pid=2880171)\u001b[0m loss: 0.584\n"
     ]
    },
    {
     "name": "stderr",
     "output_type": "stream",
     "text": [
      "Val Epoch:10: 0it [00:00, ?it/s]878938)\u001b[0m \n"
     ]
    },
    {
     "name": "stdout",
     "output_type": "stream",
     "text": [
      "\u001b[36m(tune_with_parameters pid=2663640)\u001b[0m loss: 0.625\n"
     ]
    },
    {
     "name": "stderr",
     "output_type": "stream",
     "text": [
      "Val Epoch:10: 1it [00:03,  3.66s/it]38)\u001b[0m \n",
      "Val Epoch:10: 2it [00:04,  1.76s/it]38)\u001b[0m \n",
      "Val Epoch:10: 3it [00:04,  1.19s/it]38)\u001b[0m \n",
      "Val Epoch:10: 4it [00:05,  1.01it/s]38)\u001b[0m \n",
      "Val Epoch:10: 5it [00:05,  1.41it/s]38)\u001b[0m \n",
      "Val Epoch:10: 6it [00:06,  1.52it/s]38)\u001b[0m \n",
      "Val Epoch:10: 7it [00:06,  2.10it/s]38)\u001b[0m \n",
      "Val Epoch:10: 9it [00:07,  1.97it/s]38)\u001b[0m \n",
      "Val Epoch:10: 10it [00:07,  2.41it/s]8)\u001b[0m \n",
      "Val Epoch:10: 11it [00:07,  2.20it/s]8)\u001b[0m \n",
      "Val Epoch:10: 12it [00:08,  2.43it/s]8)\u001b[0m \n",
      "Val Epoch:10: 13it [00:08,  2.88it/s]8)\u001b[0m \n",
      "Val Epoch:10: 14it [00:08,  3.46it/s]8)\u001b[0m \n",
      "Val Epoch:10: 15it [00:08,  3.95it/s]8)\u001b[0m \n",
      "Val Epoch:10: 17it [00:10,  1.57it/s]8)\u001b[0m \n",
      "Val Epoch:10: 18it [00:11,  1.96it/s]8)\u001b[0m \n",
      "Val Epoch:10: 19it [00:11,  1.69it/s]8)\u001b[0m \n",
      "Val Epoch:10: 20it [00:12,  2.09it/s]8)\u001b[0m \n",
      "Val Epoch:10: 21it [00:12,  2.57it/s]8)\u001b[0m \n",
      "Val Epoch:10: 22it [00:12,  2.67it/s]8)\u001b[0m \n",
      "Val Epoch:10: 23it [00:12,  2.81it/s]8)\u001b[0m \n"
     ]
    },
    {
     "name": "stdout",
     "output_type": "stream",
     "text": [
      "\u001b[36m(tune_with_parameters pid=2878214)\u001b[0m loss: 0.589\n"
     ]
    },
    {
     "name": "stderr",
     "output_type": "stream",
     "text": [
      "Val Epoch:10: 25it [00:15,  1.18it/s]8)\u001b[0m \n",
      "Val Epoch:10: 26it [00:15,  1.48it/s]8)\u001b[0m \n",
      "Val Epoch:10: 27it [00:17,  1.09it/s]8)\u001b[0m \n",
      "Val Epoch:10: 28it [00:17,  1.42it/s]8)\u001b[0m \n",
      "Val Epoch:10: 29it [00:17,  1.82it/s]8)\u001b[0m \n",
      "Val Epoch:10: 31it [00:17,  2.86it/s]8)\u001b[0m \n",
      "Val Epoch:10: 32it [00:18,  2.63it/s]8)\u001b[0m \n",
      "Val Epoch:10: 33it [00:19,  1.67it/s]8)\u001b[0m \n",
      "Val Epoch:10: 34it [00:19,  2.12it/s]8)\u001b[0m \n",
      "Val Epoch:10: 35it [00:20,  1.84it/s]8)\u001b[0m \n",
      "Val Epoch:10: 36it [00:21,  1.85it/s]8)\u001b[0m \n",
      "Val Epoch:10: 37it [00:21,  2.42it/s]8)\u001b[0m \n",
      "Val Epoch:10: 0it [00:00, ?it/s]880171)\u001b[0m \n",
      "Val Epoch:10: 41it [00:22,  2.74it/s]8)\u001b[0m \n",
      "Val Epoch:10: 43it [00:22,  3.61it/s]8)\u001b[0m \n",
      "Val Epoch:10: 46it [00:22,  5.47it/s]8)\u001b[0m \n",
      "Val Epoch:10: 48it [00:22,  6.57it/s]8)\u001b[0m \n",
      "Val Epoch:10: 3it [00:01,  2.80it/s]71)\u001b[0m \n",
      "Val Epoch:10: 25it [00:06,  3.29it/s]\u001b[32m [repeated 17x across cluster]\u001b[0m\n",
      "Val Epoch:10: 39it [00:11,  1.53it/s]\u001b[32m [repeated 11x across cluster]\u001b[0m\n"
     ]
    },
    {
     "name": "stdout",
     "output_type": "stream",
     "text": [
      "\u001b[36m(tune_with_parameters pid=2878938)\u001b[0m loss: 0.582\n",
      "\u001b[36m(tune_with_parameters pid=2880171)\u001b[0m loss: 0.575\n",
      "\u001b[36m(tune_with_parameters pid=2663640)\u001b[0m loss: 0.587\n",
      "\u001b[36m(tune_with_parameters pid=2878214)\u001b[0m loss: 0.586\n",
      "\u001b[36m(tune_with_parameters pid=2878938)\u001b[0m loss: 0.584\n"
     ]
    },
    {
     "name": "stderr",
     "output_type": "stream",
     "text": [
      "Val Epoch:11: 0it [00:00, ?it/s]878214)\u001b[0m \n",
      "Val Epoch:10: 50it [00:16,  3.10it/s]\u001b[32m [repeated 8x across cluster]\u001b[0m\n",
      "Val Epoch:11: 18it [00:05,  3.22it/s]\u001b[32m [repeated 11x across cluster]\u001b[0m\n"
     ]
    },
    {
     "name": "stdout",
     "output_type": "stream",
     "text": [
      "\u001b[36m(tune_with_parameters pid=2880171)\u001b[0m loss: 0.585\n"
     ]
    },
    {
     "name": "stderr",
     "output_type": "stream",
     "text": [
      "Val Epoch:11: 32it [00:10,  3.20it/s]\u001b[32m [repeated 14x across cluster]\u001b[0m\n",
      "Val Epoch:11: 41it [00:16,  1.29it/s]\u001b[32m [repeated 8x across cluster]\u001b[0m\n"
     ]
    },
    {
     "name": "stdout",
     "output_type": "stream",
     "text": [
      "\u001b[36m(tune_with_parameters pid=2878214)\u001b[0m loss: 0.615\n",
      "\u001b[36m(tune_with_parameters pid=2663640)\u001b[0m loss: 0.586\n"
     ]
    },
    {
     "name": "stderr",
     "output_type": "stream",
     "text": [
      "Val Epoch:42: 0it [00:00, ?it/s]663640)\u001b[0m \n",
      "Val Epoch:11: 50it [00:20,  2.40it/s]\u001b[32m [repeated 9x across cluster]\u001b[0m\n"
     ]
    },
    {
     "name": "stdout",
     "output_type": "stream",
     "text": [
      "\u001b[36m(tune_with_parameters pid=2878938)\u001b[0m loss: 0.586\n"
     ]
    },
    {
     "name": "stderr",
     "output_type": "stream",
     "text": [
      "Val Epoch:42: 9it [00:05,  1.93it/s]\u001b[32m [repeated 9x across cluster]\u001b[0m\n",
      "Val Epoch:42: 21it [00:10,  2.89it/s]\u001b[32m [repeated 12x across cluster]\u001b[0m\n",
      "Val Epoch:42: 33it [00:17,  1.86it/s]\u001b[32m [repeated 10x across cluster]\u001b[0m\n"
     ]
    },
    {
     "name": "stdout",
     "output_type": "stream",
     "text": [
      "\u001b[36m(tune_with_parameters pid=2880171)\u001b[0m loss: 0.585\n"
     ]
    },
    {
     "name": "stderr",
     "output_type": "stream",
     "text": [
      "Val Epoch:42: 47it [00:22,  4.88it/s]\u001b[32m [repeated 11x across cluster]\u001b[0m\n",
      "Val Epoch:11: 0it [00:00, ?it/s]878938)\u001b[0m \n",
      "Val Epoch:42: 50it [00:24,  2.07it/s]\u001b[32m [repeated 3x across cluster]\u001b[0m\n"
     ]
    },
    {
     "name": "stdout",
     "output_type": "stream",
     "text": [
      "\u001b[36m(tune_with_parameters pid=2663640)\u001b[0m loss: 0.600\n"
     ]
    },
    {
     "name": "stderr",
     "output_type": "stream",
     "text": [
      "Val Epoch:11: 3it [00:04,  1.23s/it]\u001b[32m [repeated 3x across cluster]\u001b[0m\n",
      "Val Epoch:11: 16it [00:10,  2.45it/s]\u001b[32m [repeated 10x across cluster]\u001b[0m\n"
     ]
    },
    {
     "name": "stdout",
     "output_type": "stream",
     "text": [
      "\u001b[36m(tune_with_parameters pid=2878214)\u001b[0m loss: 0.588\n"
     ]
    },
    {
     "name": "stderr",
     "output_type": "stream",
     "text": [
      "Val Epoch:11: 0it [00:00, ?it/s]880171)\u001b[0m \n",
      "Val Epoch:11: 24it [00:15,  2.58it/s]\u001b[32m [repeated 7x across cluster]\u001b[0m\n",
      "Val Epoch:11: 6it [00:06,  1.82it/s]\u001b[32m [repeated 12x across cluster]\u001b[0m\n",
      "Val Epoch:11: 34it [00:12,  3.27it/s]\u001b[32m [repeated 29x across cluster]\u001b[0m\n"
     ]
    },
    {
     "name": "stdout",
     "output_type": "stream",
     "text": [
      "\u001b[36m(tune_with_parameters pid=2878938)\u001b[0m loss: 0.577\n",
      "\u001b[36m(tune_with_parameters pid=2878938)\u001b[0m \n",
      "\u001b[36m(tune_with_parameters pid=2880171)\u001b[0m loss: 0.571\n",
      "\u001b[36m(tune_with_parameters pid=2663640)\u001b[0m loss: 0.587\n",
      "\u001b[36m(tune_with_parameters pid=2878214)\u001b[0m loss: 0.587\n"
     ]
    },
    {
     "name": "stderr",
     "output_type": "stream",
     "text": [
      "Val Epoch:12: 0it [00:00, ?it/s]878214)\u001b[0m \n",
      "Val Epoch:11: 50it [00:17,  2.92it/s]\u001b[32m [repeated 9x across cluster]\u001b[0m\n"
     ]
    },
    {
     "name": "stdout",
     "output_type": "stream",
     "text": [
      "\u001b[36m(tune_with_parameters pid=2878938)\u001b[0m loss: 0.587\n"
     ]
    },
    {
     "name": "stderr",
     "output_type": "stream",
     "text": [
      "Val Epoch:12: 18it [00:05,  3.39it/s]\u001b[32m [repeated 13x across cluster]\u001b[0m\n"
     ]
    },
    {
     "name": "stdout",
     "output_type": "stream",
     "text": [
      "\u001b[36m(tune_with_parameters pid=2880171)\u001b[0m loss: 0.584\n"
     ]
    },
    {
     "name": "stderr",
     "output_type": "stream",
     "text": [
      "Val Epoch:12: 41it [00:10,  3.14it/s]\u001b[32m [repeated 12x across cluster]\u001b[0m\n"
     ]
    },
    {
     "name": "stdout",
     "output_type": "stream",
     "text": [
      "\u001b[36m(tune_with_parameters pid=2878214)\u001b[0m loss: 0.601\n",
      "\u001b[36m(tune_with_parameters pid=2663640)\u001b[0m loss: 0.586\n"
     ]
    },
    {
     "name": "stderr",
     "output_type": "stream",
     "text": [
      "Val Epoch:43: 0it [00:00, ?it/s]663640)\u001b[0m \n",
      "Val Epoch:12: 50it [00:15,  3.14it/s]\u001b[32m [repeated 8x across cluster]\u001b[0m\n",
      "Val Epoch:43: 20it [00:06,  2.53it/s]\u001b[32m [repeated 12x across cluster]\u001b[0m\n"
     ]
    },
    {
     "name": "stdout",
     "output_type": "stream",
     "text": [
      "\u001b[36m(tune_with_parameters pid=2878938)\u001b[0m loss: 0.586\n"
     ]
    },
    {
     "name": "stderr",
     "output_type": "stream",
     "text": [
      "Val Epoch:43: 34it [00:13,  1.31it/s]\u001b[32m [repeated 12x across cluster]\u001b[0m\n",
      "Val Epoch:43: 50it [00:18,  5.23it/s]\u001b[32m [repeated 13x across cluster]\u001b[0m\n"
     ]
    },
    {
     "name": "stdout",
     "output_type": "stream",
     "text": [
      "\u001b[36m(tune_with_parameters pid=2880171)\u001b[0m loss: 0.585\n",
      "\u001b[36m(tune_with_parameters pid=2663640)\u001b[0m loss: 0.575\n"
     ]
    },
    {
     "name": "stderr",
     "output_type": "stream",
     "text": [
      "Val Epoch:12: 0it [00:00, ?it/s]878938)\u001b[0m \n",
      "Val Epoch:43: 50it [00:19,  2.63it/s]0)\u001b[0m \n"
     ]
    },
    {
     "name": "stdout",
     "output_type": "stream",
     "text": [
      "\u001b[36m(tune_with_parameters pid=2878214)\u001b[0m loss: 0.587\n"
     ]
    },
    {
     "name": "stderr",
     "output_type": "stream",
     "text": [
      "Val Epoch:12: 1it [00:03,  3.97s/it]38)\u001b[0m \n",
      "Val Epoch:12: 2it [00:05,  2.59s/it]38)\u001b[0m \n",
      "Val Epoch:12: 4it [00:06,  1.38s/it]38)\u001b[0m \n",
      "Val Epoch:12: 5it [00:07,  1.03s/it]38)\u001b[0m \n",
      "Val Epoch:12: 6it [00:07,  1.31it/s]38)\u001b[0m \n",
      "Val Epoch:12: 7it [00:07,  1.60it/s]38)\u001b[0m \n",
      "Val Epoch:12: 8it [00:08,  1.81it/s]38)\u001b[0m \n",
      "Val Epoch:12: 9it [00:08,  1.63it/s]38)\u001b[0m \n",
      "Val Epoch:12: 0it [00:00, ?it/s]880171)\u001b[0m \n",
      "Val Epoch:12: 10it [00:09,  1.41it/s]8)\u001b[0m \n",
      "Val Epoch:12: 11it [00:10,  1.65it/s]8)\u001b[0m \n",
      "Val Epoch:12: 12it [00:10,  1.65it/s]8)\u001b[0m \n",
      "Val Epoch:12: 14it [00:10,  2.56it/s]8)\u001b[0m \n",
      "Val Epoch:12: 15it [00:11,  2.96it/s]8)\u001b[0m \n",
      "Val Epoch:12: 17it [00:11,  3.25it/s]8)\u001b[0m \n",
      "Val Epoch:12: 18it [00:13,  1.46it/s]8)\u001b[0m \n",
      "Val Epoch:12: 3it [00:05,  1.42s/it]\u001b[32m [repeated 4x across cluster]\u001b[0m\n",
      "Val Epoch:12: 17it [00:11,  1.37it/s]\u001b[32m [repeated 24x across cluster]\u001b[0m\n",
      "Val Epoch:12: 42it [00:16,  3.51it/s]\u001b[32m [repeated 22x across cluster]\u001b[0m\n"
     ]
    },
    {
     "name": "stdout",
     "output_type": "stream",
     "text": [
      "\u001b[36m(tune_with_parameters pid=2878938)\u001b[0m loss: 0.584\n",
      "\u001b[36m(tune_with_parameters pid=2880171)\u001b[0m loss: 0.589\n",
      "\u001b[36m(tune_with_parameters pid=2663640)\u001b[0m loss: 0.586\n",
      "\u001b[36m(tune_with_parameters pid=2878214)\u001b[0m loss: 0.587\n"
     ]
    },
    {
     "name": "stderr",
     "output_type": "stream",
     "text": [
      "Val Epoch:13: 0it [00:00, ?it/s]878214)\u001b[0m \n",
      "Val Epoch:12: 50it [00:18,  2.73it/s]\u001b[32m [repeated 4x across cluster]\u001b[0m\n",
      "Val Epoch:13: 2it [00:04,  1.87s/it]14)\u001b[0m \n",
      "Val Epoch:13: 5it [00:05,  1.84it/s]\u001b[32m [repeated 3x across cluster]\u001b[0m\n"
     ]
    },
    {
     "name": "stdout",
     "output_type": "stream",
     "text": [
      "\u001b[36m(tune_with_parameters pid=2878938)\u001b[0m loss: 0.587\n"
     ]
    },
    {
     "name": "stderr",
     "output_type": "stream",
     "text": [
      "Val Epoch:13: 25it [00:10,  3.92it/s]\u001b[32m [repeated 13x across cluster]\u001b[0m\n"
     ]
    },
    {
     "name": "stdout",
     "output_type": "stream",
     "text": [
      "\u001b[36m(tune_with_parameters pid=2880171)\u001b[0m loss: 0.584\n"
     ]
    },
    {
     "name": "stderr",
     "output_type": "stream",
     "text": [
      "Val Epoch:13: 49it [00:15,  2.79it/s]\u001b[32m [repeated 15x across cluster]\u001b[0m\n"
     ]
    },
    {
     "name": "stdout",
     "output_type": "stream",
     "text": [
      "\u001b[36m(tune_with_parameters pid=2878214)\u001b[0m loss: 0.606\n",
      "\u001b[36m(tune_with_parameters pid=2663640)\u001b[0m loss: 0.586\n"
     ]
    },
    {
     "name": "stderr",
     "output_type": "stream",
     "text": [
      "Val Epoch:44: 0it [00:00, ?it/s]663640)\u001b[0m \n",
      "Val Epoch:13: 50it [00:16,  3.04it/s]\u001b[32m [repeated 2x across cluster]\u001b[0m\n",
      "Val Epoch:44: 17it [00:05,  3.56it/s]\u001b[32m [repeated 8x across cluster]\u001b[0m\n",
      "Val Epoch:44: 37it [00:10,  3.86it/s]\u001b[32m [repeated 8x across cluster]\u001b[0m\n"
     ]
    },
    {
     "name": "stdout",
     "output_type": "stream",
     "text": [
      "\u001b[36m(tune_with_parameters pid=2878938)\u001b[0m loss: 0.585\n",
      "\u001b[36m(tune_with_parameters pid=2880171)\u001b[0m loss: 0.585\n"
     ]
    },
    {
     "name": "stderr",
     "output_type": "stream",
     "text": [
      "Val Epoch:44: 49it [00:16,  1.67it/s]\u001b[32m [repeated 9x across cluster]\u001b[0m\n"
     ]
    },
    {
     "name": "stdout",
     "output_type": "stream",
     "text": [
      "\u001b[36m(tune_with_parameters pid=2663640)\u001b[0m loss: 0.571\n",
      "\u001b[36m(tune_with_parameters pid=2878214)\u001b[0m loss: 0.588\n"
     ]
    },
    {
     "name": "stderr",
     "output_type": "stream",
     "text": [
      "Val Epoch:13: 0it [00:00, ?it/s]878938)\u001b[0m \n",
      "Val Epoch:44: 50it [00:18,  2.78it/s]0)\u001b[0m \n",
      "Val Epoch:13: 1it [00:04,  4.68s/it]38)\u001b[0m \n",
      "Val Epoch:13: 2it [00:04,  2.05s/it]38)\u001b[0m \n",
      "Val Epoch:13: 3it [00:05,  1.19s/it]38)\u001b[0m \n",
      "Val Epoch:13: 0it [00:00, ?it/s]880171)\u001b[0m \n",
      "Val Epoch:13: 4it [00:05,  1.23it/s]38)\u001b[0m \n",
      "Val Epoch:13: 5it [00:05,  1.78it/s]38)\u001b[0m \n",
      "Val Epoch:13: 6it [00:05,  2.22it/s]38)\u001b[0m \n",
      "Val Epoch:13: 7it [00:05,  2.87it/s]38)\u001b[0m \n",
      "Val Epoch:13: 8it [00:06,  2.92it/s]38)\u001b[0m \n",
      "Val Epoch:13: 14it [00:09,  2.27it/s]\u001b[32m [repeated 13x across cluster]\u001b[0m\n",
      "Val Epoch:13: 18it [00:11,  1.43it/s]\u001b[32m [repeated 19x across cluster]\u001b[0m\n",
      "Val Epoch:13: 30it [00:17,  2.51it/s]8)\u001b[0m \n",
      "Val Epoch:13: 32it [00:17,  2.99it/s]\u001b[32m [repeated 21x across cluster]\u001b[0m\n"
     ]
    },
    {
     "name": "stdout",
     "output_type": "stream",
     "text": [
      "\u001b[36m(tune_with_parameters pid=2663640)\u001b[0m loss: 0.584\n",
      "\u001b[36m(tune_with_parameters pid=2878214)\u001b[0m loss: 0.587\n"
     ]
    },
    {
     "name": "stderr",
     "output_type": "stream",
     "text": [
      "Val Epoch:14: 0it [00:00, ?it/s]878214)\u001b[0m \n",
      "Val Epoch:13: 50it [00:21,  2.28it/s]\u001b[32m [repeated 25x across cluster]\u001b[0m\n",
      "Val Epoch:14: 17it [00:05,  3.84it/s]\u001b[32m [repeated 13x across cluster]\u001b[0m\n",
      "Val Epoch:14: 37it [00:11,  3.07it/s]\u001b[32m [repeated 18x across cluster]\u001b[0m\n"
     ]
    },
    {
     "name": "stdout",
     "output_type": "stream",
     "text": [
      "\u001b[36m(tune_with_parameters pid=2878214)\u001b[0m loss: 0.562\n",
      "\u001b[36m(tune_with_parameters pid=2663640)\u001b[0m loss: 0.586\n"
     ]
    },
    {
     "name": "stderr",
     "output_type": "stream",
     "text": [
      "Val Epoch:45: 0it [00:00, ?it/s]663640)\u001b[0m \n",
      "Val Epoch:14: 50it [00:13,  3.61it/s]\u001b[32m [repeated 9x across cluster]\u001b[0m\n",
      "Val Epoch:45: 18it [00:06,  2.89it/s]\u001b[32m [repeated 13x across cluster]\u001b[0m\n"
     ]
    },
    {
     "name": "stdout",
     "output_type": "stream",
     "text": [
      "\u001b[36m(tune_with_parameters pid=2663640)\u001b[0m loss: 0.579\n",
      "\u001b[36m(tune_with_parameters pid=2878214)\u001b[0m loss: 0.587\n"
     ]
    },
    {
     "name": "stderr",
     "output_type": "stream",
     "text": [
      "\u001b[36m(tune_with_parameters pid=2992529)\u001b[0m /users/k23058970/miniforge3/envs/Training/lib/python3.10/site-packages/torch/utils/data/dataloader.py:558: UserWarning: This DataLoader will create 8 worker processes in total. Our suggested max number of worker in current system is 2, which is smaller than what this DataLoader is going to create. Please be aware that excessive worker creation might get DataLoader running slow or even freeze, lower the worker number to avoid potential slowness/freeze if necessary.\n",
      "\u001b[36m(tune_with_parameters pid=2992529)\u001b[0m   warnings.warn(_create_warning_msg(\n",
      "Val Epoch:45: 50it [00:09,  5.28it/s]\u001b[32m [repeated 13x across cluster]\u001b[0m\n",
      "\u001b[36m(tune_with_parameters pid=2992529)\u001b[0m /users/k23058970/miniforge3/envs/Training/lib/python3.10/site-packages/torch/nn/modules/lazy.py:181: UserWarning: Lazy modules are a new feature under heavy development so changes to the API or functionality can happen at any moment.\n",
      "\u001b[36m(tune_with_parameters pid=2992529)\u001b[0m   warnings.warn('Lazy modules are a new feature under heavy development '\n",
      "\u001b[36m(tune_with_parameters pid=2992472)\u001b[0m /users/k23058970/miniforge3/envs/Training/lib/python3.10/site-packages/torch/utils/data/dataloader.py:558: UserWarning: This DataLoader will create 8 worker processes in total. Our suggested max number of worker in current system is 2, which is smaller than what this DataLoader is going to create. Please be aware that excessive worker creation might get DataLoader running slow or even freeze, lower the worker number to avoid potential slowness/freeze if necessary.\n",
      "\u001b[36m(tune_with_parameters pid=2992472)\u001b[0m   warnings.warn(_create_warning_msg(\n"
     ]
    },
    {
     "name": "stdout",
     "output_type": "stream",
     "text": [
      "\u001b[36m(tune_with_parameters pid=2663640)\u001b[0m loss: 0.586\n",
      "\u001b[36m(tune_with_parameters pid=2878214)\u001b[0m loss: 0.587\n"
     ]
    },
    {
     "name": "stderr",
     "output_type": "stream",
     "text": [
      "Val Epoch:15: 0it [00:00, ?it/s]878214)\u001b[0m \n",
      "\u001b[36m(tune_with_parameters pid=2992472)\u001b[0m /users/k23058970/miniforge3/envs/Training/lib/python3.10/site-packages/torch/nn/modules/lazy.py:181: UserWarning: Lazy modules are a new feature under heavy development so changes to the API or functionality can happen at any moment.\n",
      "\u001b[36m(tune_with_parameters pid=2992472)\u001b[0m   warnings.warn('Lazy modules are a new feature under heavy development '\n",
      "Val Epoch:15: 1it [00:00,  1.04it/s]14)\u001b[0m \n",
      "Val Epoch:15: 2it [00:01,  2.14it/s]14)\u001b[0m \n",
      "Val Epoch:15: 4it [00:01,  4.52it/s]14)\u001b[0m \n",
      "Val Epoch:15: 6it [00:01,  6.27it/s]14)\u001b[0m \n",
      "Val Epoch:15: 8it [00:01,  8.57it/s]14)\u001b[0m \n",
      "Val Epoch:15: 10it [00:02,  3.60it/s]4)\u001b[0m \n",
      "Val Epoch:15: 13it [00:02,  5.38it/s]4)\u001b[0m \n",
      "Val Epoch:15: 15it [00:03,  5.26it/s]4)\u001b[0m \n",
      "Val Epoch:15: 16it [00:03,  5.70it/s]4)\u001b[0m \n",
      "Val Epoch:15: 17it [00:03,  5.84it/s]4)\u001b[0m \n",
      "Val Epoch:15: 18it [00:03,  4.29it/s]4)\u001b[0m \n",
      "Val Epoch:15: 19it [00:04,  4.84it/s]4)\u001b[0m \n",
      "Val Epoch:15: 21it [00:04,  5.18it/s]4)\u001b[0m \n",
      "Val Epoch:15: 22it [00:04,  5.27it/s]4)\u001b[0m \n",
      "Val Epoch:15: 23it [00:04,  5.07it/s]4)\u001b[0m \n",
      "Val Epoch:15: 24it [00:04,  5.75it/s]4)\u001b[0m \n",
      "Val Epoch:15: 25it [00:05,  2.80it/s]4)\u001b[0m \n",
      "\u001b[36m(tune_with_parameters pid=2992529)\u001b[0m /users/k23058970/miniforge3/envs/Training/lib/python3.10/site-packages/torch/utils/data/dataloader.py:558: UserWarning: This DataLoader will create 8 worker processes in total. Our suggested max number of worker in current system is 2, which is smaller than what this DataLoader is going to create. Please be aware that excessive worker creation might get DataLoader running slow or even freeze, lower the worker number to avoid potential slowness/freeze if necessary.\n",
      "\u001b[36m(tune_with_parameters pid=2992529)\u001b[0m   warnings.warn(_create_warning_msg(\n",
      "Val Epoch:15: 26it [00:05,  3.19it/s]4)\u001b[0m \n",
      "Val Epoch:15: 27it [00:06,  3.48it/s]4)\u001b[0m \n",
      "Val Epoch:15: 28it [00:06,  4.20it/s]4)\u001b[0m \n",
      "Val Epoch:15: 29it [00:06,  3.75it/s]4)\u001b[0m \n",
      "Val Epoch:15: 30it [00:07,  2.45it/s]4)\u001b[0m \n",
      "Val Epoch:15: 31it [00:07,  3.04it/s]4)\u001b[0m \n",
      "Val Epoch:15: 32it [00:07,  3.79it/s]4)\u001b[0m \n",
      "Val Epoch:15: 33it [00:09,  1.40it/s]4)\u001b[0m \n",
      "Val Epoch:15: 34it [00:10,  1.22it/s]4)\u001b[0m \n",
      "Val Epoch:15: 35it [00:10,  1.63it/s]4)\u001b[0m \n",
      "Val Epoch:15: 36it [00:11,  1.63it/s]4)\u001b[0m \n",
      "\u001b[36m(tune_with_parameters pid=2992472)\u001b[0m /users/k23058970/miniforge3/envs/Training/lib/python3.10/site-packages/torch/utils/data/dataloader.py:558: UserWarning: This DataLoader will create 8 worker processes in total. Our suggested max number of worker in current system is 2, which is smaller than what this DataLoader is going to create. Please be aware that excessive worker creation might get DataLoader running slow or even freeze, lower the worker number to avoid potential slowness/freeze if necessary.\n",
      "\u001b[36m(tune_with_parameters pid=2992472)\u001b[0m   warnings.warn(_create_warning_msg(\n",
      "Val Epoch:15: 37it [00:12,  1.25it/s]4)\u001b[0m \n",
      "Val Epoch:15: 38it [00:12,  1.68it/s]4)\u001b[0m \n",
      "Val Epoch:15: 40it [00:13,  2.36it/s]4)\u001b[0m \n",
      "Val Epoch:15: 41it [00:14,  1.57it/s]4)\u001b[0m \n",
      "Val Epoch:15: 42it [00:15,  1.25it/s]4)\u001b[0m \n",
      "Val Epoch:15: 43it [00:15,  1.58it/s]4)\u001b[0m \n",
      "Val Epoch:15: 44it [00:16,  1.78it/s]4)\u001b[0m \n",
      "Val Epoch:15: 45it [00:16,  2.16it/s]4)\u001b[0m \n",
      "Val Epoch:15: 47it [00:16,  3.31it/s]4)\u001b[0m \n",
      "Val Epoch:15: 48it [00:16,  3.31it/s]4)\u001b[0m \n",
      "Val Epoch:15: 49it [00:18,  1.38it/s]4)\u001b[0m \n",
      "Val Epoch:15: 50it [00:20,  2.46it/s]4)\u001b[0m \n"
     ]
    },
    {
     "name": "stdout",
     "output_type": "stream",
     "text": [
      "\u001b[36m(tune_with_parameters pid=2992529)\u001b[0m loss: 0.681\n",
      "\u001b[36m(tune_with_parameters pid=2992472)\u001b[0m loss: 0.680\n",
      "\u001b[36m(tune_with_parameters pid=2663640)\u001b[0m loss: 0.586\u001b[32m [repeated 2x across cluster]\u001b[0m\n"
     ]
    },
    {
     "name": "stderr",
     "output_type": "stream",
     "text": [
      "Val Epoch:46: 0it [00:00, ?it/s]663640)\u001b[0m \n",
      "Val Epoch:46: 1it [00:02,  2.84s/it]40)\u001b[0m \n",
      "Val Epoch:46: 2it [00:04,  1.94s/it]40)\u001b[0m \n",
      "Val Epoch:46: 3it [00:04,  1.11s/it]40)\u001b[0m \n",
      "Val Epoch:46: 4it [00:05,  1.03it/s]40)\u001b[0m \n",
      "Val Epoch:46: 5it [00:05,  1.48it/s]40)\u001b[0m \n",
      "Val Epoch:46: 6it [00:05,  1.70it/s]40)\u001b[0m \n",
      "Val Epoch:46: 7it [00:05,  2.19it/s]40)\u001b[0m \n",
      "Val Epoch:46: 8it [00:05,  2.70it/s]40)\u001b[0m \n",
      "Val Epoch:46: 10it [00:06,  2.56it/s]0)\u001b[0m \n",
      "Val Epoch:46: 11it [00:07,  1.93it/s]0)\u001b[0m \n",
      "Val Epoch:46: 12it [00:08,  1.48it/s]0)\u001b[0m \n",
      "Val Epoch:46: 14it [00:09,  2.24it/s]0)\u001b[0m \n",
      "Val Epoch:46: 15it [00:09,  2.65it/s]0)\u001b[0m \n",
      "Val Epoch:46: 16it [00:09,  3.03it/s]0)\u001b[0m \n",
      "Val Epoch:46: 17it [00:09,  3.41it/s]0)\u001b[0m \n",
      "Val Epoch:46: 18it [00:10,  1.92it/s]0)\u001b[0m \n",
      "Val Epoch:46: 19it [00:11,  1.47it/s]0)\u001b[0m \n",
      "Val Epoch:46: 20it [00:12,  1.47it/s]0)\u001b[0m \n",
      "Val Epoch:46: 21it [00:12,  1.82it/s]0)\u001b[0m \n",
      "Val Epoch:46: 23it [00:12,  2.94it/s]0)\u001b[0m \n",
      "Val Epoch:46: 24it [00:13,  3.40it/s]0)\u001b[0m \n",
      "Val Epoch:46: 25it [00:13,  3.14it/s]0)\u001b[0m \n",
      "Val Epoch:46: 26it [00:14,  1.94it/s]0)\u001b[0m \n",
      "Val Epoch:46: 27it [00:15,  1.80it/s]0)\u001b[0m \n",
      "Val Epoch:46: 28it [00:15,  1.67it/s]0)\u001b[0m \n",
      "Val Epoch:46: 29it [00:16,  2.02it/s]0)\u001b[0m \n",
      "Val Epoch:46: 31it [00:16,  3.18it/s]0)\u001b[0m \n",
      "Val Epoch:46: 32it [00:16,  3.63it/s]0)\u001b[0m \n",
      "Val Epoch:46: 33it [00:17,  2.48it/s]0)\u001b[0m \n",
      "Val Epoch:46: 34it [00:18,  1.75it/s]0)\u001b[0m \n",
      "Val Epoch:46: 35it [00:19,  1.27it/s]0)\u001b[0m \n",
      "Val Epoch:46: 36it [00:20,  1.33it/s]0)\u001b[0m \n",
      "Val Epoch:46: 37it [00:20,  1.72it/s]0)\u001b[0m \n",
      "Val Epoch:46: 39it [00:20,  2.76it/s]0)\u001b[0m \n",
      "Val Epoch:46: 40it [00:20,  3.24it/s]0)\u001b[0m \n",
      "Val Epoch:46: 41it [00:20,  3.58it/s]0)\u001b[0m \n",
      "Val Epoch:46: 42it [00:22,  1.74it/s]0)\u001b[0m \n",
      "Val Epoch:46: 43it [00:22,  1.94it/s]0)\u001b[0m \n",
      "Val Epoch:46: 44it [00:22,  2.32it/s]0)\u001b[0m \n",
      "Val Epoch:46: 45it [00:23,  2.89it/s]0)\u001b[0m \n",
      "Val Epoch:46: 47it [00:23,  4.32it/s]0)\u001b[0m \n",
      "Val Epoch:46: 49it [00:23,  3.53it/s]0)\u001b[0m \n",
      "Val Epoch:46: 50it [00:24,  2.05it/s]0)\u001b[0m \n"
     ]
    },
    {
     "name": "stdout",
     "output_type": "stream",
     "text": [
      "\u001b[36m(tune_with_parameters pid=2992529)\u001b[0m loss: 0.589\n",
      "\u001b[36m(tune_with_parameters pid=2663640)\u001b[0m loss: 0.610\n",
      "\u001b[36m(tune_with_parameters pid=2878214)\u001b[0m loss: 0.587\u001b[32m [repeated 2x across cluster]\u001b[0m\n",
      "\u001b[36m(tune_with_parameters pid=2992529)\u001b[0m loss: 0.588\n",
      "\u001b[36m(tune_with_parameters pid=2663640)\u001b[0m loss: 0.585\n",
      "\u001b[36m(tune_with_parameters pid=2878214)\u001b[0m loss: 0.586\u001b[32m [repeated 2x across cluster]\u001b[0m\n"
     ]
    },
    {
     "name": "stderr",
     "output_type": "stream",
     "text": [
      "Val Epoch:0: 0it [00:00, ?it/s]2992529)\u001b[0m \n",
      "Val Epoch:0: 1it [00:05,  5.84s/it]529)\u001b[0m \n",
      "Val Epoch:0: 0it [00:00, ?it/s]2992472)\u001b[0m \n",
      "Val Epoch:0: 2it [00:05,  2.49s/it]529)\u001b[0m \n",
      "Val Epoch:0: 4it [00:07,  1.45s/it]529)\u001b[0m \n",
      "Val Epoch:0: 5it [00:07,  1.08s/it]529)\u001b[0m \n",
      "Val Epoch:0: 6it [00:08,  1.24it/s]529)\u001b[0m \n",
      "Val Epoch:0: 7it [00:08,  1.44it/s]529)\u001b[0m \n",
      "Val Epoch:0: 8it [00:08,  1.72it/s]529)\u001b[0m \n",
      "Val Epoch:0: 9it [00:09,  1.45it/s]529)\u001b[0m \n",
      "Val Epoch:0: 10it [00:10,  1.76it/s]29)\u001b[0m \n",
      "Val Epoch:0: 2it [00:06,  2.83s/it]\u001b[32m [repeated 4x across cluster]\u001b[0m\n",
      "Val Epoch:16: 0it [00:00, ?it/s]878214)\u001b[0m \n",
      "Val Epoch:16: 7it [00:02,  4.43it/s]\u001b[32m [repeated 42x across cluster]\u001b[0m\n",
      "\u001b[36m(tune_with_parameters pid=2992529)\u001b[0m /scratch/users/k23058970/Model training/training_two_class_exvivo_lstm.py:63: RuntimeWarning: invalid value encountered in divide\n",
      "\u001b[36m(tune_with_parameters pid=2992529)\u001b[0m   self.precision = self.tp/(self.tp + self.fp)\n"
     ]
    },
    {
     "name": "stdout",
     "output_type": "stream",
     "text": [
      "\u001b[36m(tune_with_parameters pid=2992529)\u001b[0m /tmp/tmp2b7mkaui/checkpoint.pt\n"
     ]
    },
    {
     "name": "stderr",
     "output_type": "stream",
     "text": [
      "\u001b[36m(tune_with_parameters pid=2992529)\u001b[0m Checkpoint successfully created at: Checkpoint(filesystem=local, path=/scratch/users/k23058970/Model training/results/NSQ vs AC LSTM/tune_with_parameters_2024-07-30_13-33-38/tune_with_parameters_0ca84_00010_10_dp=0.2000,hidden_size=100,lr=0.0848,num_layers=5_2024-07-30_13-34-23/checkpoint_000000)\n",
      "Val Epoch:16: 32it [00:07,  6.33it/s]\u001b[32m [repeated 45x across cluster]\u001b[0m\n",
      "\u001b[36m(tune_with_parameters pid=2992472)\u001b[0m /scratch/users/k23058970/Model training/training_two_class_exvivo_lstm.py:63: RuntimeWarning: invalid value encountered in divide\n",
      "\u001b[36m(tune_with_parameters pid=2992472)\u001b[0m   self.precision = self.tp/(self.tp + self.fp)\n",
      "Val Epoch:16: 39it [00:12,  2.00it/s]\u001b[32m [repeated 6x across cluster]\u001b[0m\n"
     ]
    },
    {
     "name": "stdout",
     "output_type": "stream",
     "text": [
      "\u001b[36m(tune_with_parameters pid=2992472)\u001b[0m /tmp/tmp1u68c82b/checkpoint.pt\n",
      "\u001b[36m(tune_with_parameters pid=2992529)\u001b[0m loss: 0.555\n"
     ]
    },
    {
     "name": "stderr",
     "output_type": "stream",
     "text": [
      "\u001b[36m(tune_with_parameters pid=2992472)\u001b[0m Checkpoint successfully created at: Checkpoint(filesystem=local, path=/scratch/users/k23058970/Model training/results/NSQ vs AC LSTM/tune_with_parameters_2024-07-30_13-33-38/tune_with_parameters_0ca84_00009_9_dp=0.5000,hidden_size=300,lr=0.0053,num_layers=3_2024-07-30_13-34-23/checkpoint_000000)\n",
      "Val Epoch:16: 50it [00:16,  2.95it/s]\u001b[32m [repeated 9x across cluster]\u001b[0m\n"
     ]
    },
    {
     "name": "stdout",
     "output_type": "stream",
     "text": [
      "\u001b[36m(tune_with_parameters pid=2878214)\u001b[0m loss: 0.594\n",
      "\u001b[36m(tune_with_parameters pid=2992472)\u001b[0m loss: 0.608\n"
     ]
    },
    {
     "name": "stderr",
     "output_type": "stream",
     "text": [
      "Val Epoch:47: 0it [00:00, ?it/s]663640)\u001b[0m \n",
      "Val Epoch:47: 1it [00:01,  1.71s/it]40)\u001b[0m \n",
      "Val Epoch:47: 2it [00:02,  1.13it/s]40)\u001b[0m \n",
      "Val Epoch:47: 3it [00:03,  1.18s/it]40)\u001b[0m \n",
      "Val Epoch:47: 4it [00:03,  1.24it/s]40)\u001b[0m \n",
      "Val Epoch:47: 5it [00:03,  1.73it/s]40)\u001b[0m \n",
      "Val Epoch:47: 7it [00:04,  3.18it/s]40)\u001b[0m \n",
      "Val Epoch:47: 8it [00:04,  3.17it/s]40)\u001b[0m \n",
      "Val Epoch:47: 9it [00:04,  3.09it/s]40)\u001b[0m \n",
      "Val Epoch:47: 10it [00:04,  3.33it/s]0)\u001b[0m \n",
      "Val Epoch:47: 11it [00:06,  1.48it/s]0)\u001b[0m \n",
      "Val Epoch:47: 12it [00:06,  1.95it/s]0)\u001b[0m \n",
      "Val Epoch:47: 13it [00:06,  2.31it/s]0)\u001b[0m \n",
      "Val Epoch:47: 14it [00:07,  2.65it/s]0)\u001b[0m \n",
      "Val Epoch:47: 15it [00:07,  3.13it/s]0)\u001b[0m \n",
      "Val Epoch:47: 16it [00:07,  2.86it/s]0)\u001b[0m \n",
      "Val Epoch:47: 17it [00:08,  2.50it/s]0)\u001b[0m \n",
      "Val Epoch:47: 18it [00:08,  2.09it/s]0)\u001b[0m \n",
      "Val Epoch:47: 19it [00:09,  2.17it/s]0)\u001b[0m \n",
      "Val Epoch:47: 20it [00:09,  2.40it/s]0)\u001b[0m \n",
      "Val Epoch:47: 21it [00:09,  2.88it/s]0)\u001b[0m \n",
      "Val Epoch:47: 22it [00:10,  3.32it/s]0)\u001b[0m \n",
      "Val Epoch:47: 23it [00:10,  3.89it/s]0)\u001b[0m \n",
      "Val Epoch:47: 25it [00:11,  2.26it/s]0)\u001b[0m \n",
      "Val Epoch:47: 26it [00:12,  1.49it/s]0)\u001b[0m \n",
      "Val Epoch:47: 27it [00:13,  1.37it/s]0)\u001b[0m \n",
      "Val Epoch:47: 28it [00:14,  1.42it/s]0)\u001b[0m \n",
      "Val Epoch:47: 30it [00:14,  2.27it/s]0)\u001b[0m \n",
      "Val Epoch:47: 31it [00:14,  2.59it/s]0)\u001b[0m \n",
      "Val Epoch:47: 32it [00:15,  3.03it/s]0)\u001b[0m \n",
      "Val Epoch:47: 33it [00:15,  2.31it/s]0)\u001b[0m \n",
      "Val Epoch:47: 34it [00:16,  2.16it/s]0)\u001b[0m \n",
      "Val Epoch:47: 35it [00:16,  2.13it/s]0)\u001b[0m \n",
      "Val Epoch:47: 36it [00:18,  1.19it/s]0)\u001b[0m \n",
      "Val Epoch:47: 37it [00:18,  1.49it/s]0)\u001b[0m \n",
      "Val Epoch:47: 39it [00:18,  2.44it/s]0)\u001b[0m \n",
      "Val Epoch:47: 40it [00:19,  2.50it/s]0)\u001b[0m \n",
      "Val Epoch:47: 41it [00:19,  2.60it/s]0)\u001b[0m \n",
      "Val Epoch:47: 42it [00:20,  2.66it/s]0)\u001b[0m \n",
      "Val Epoch:47: 43it [00:20,  2.17it/s]0)\u001b[0m \n",
      "Val Epoch:47: 44it [00:21,  1.78it/s]0)\u001b[0m \n",
      "Val Epoch:47: 45it [00:21,  2.24it/s]0)\u001b[0m \n",
      "Val Epoch:47: 46it [00:21,  2.86it/s]0)\u001b[0m \n",
      "Val Epoch:47: 48it [00:21,  4.43it/s]0)\u001b[0m \n",
      "Val Epoch:47: 49it [00:22,  2.84it/s]0)\u001b[0m \n",
      "Val Epoch:47: 50it [00:23,  2.09it/s]0)\u001b[0m \n"
     ]
    },
    {
     "name": "stdout",
     "output_type": "stream",
     "text": [
      "\u001b[36m(tune_with_parameters pid=2992529)\u001b[0m loss: 0.587\u001b[32m [repeated 2x across cluster]\u001b[0m\n",
      "\u001b[36m(tune_with_parameters pid=2878214)\u001b[0m loss: 0.586\u001b[32m [repeated 2x across cluster]\u001b[0m\n",
      "\u001b[36m(tune_with_parameters pid=2992472)\u001b[0m loss: 0.586\n",
      "\u001b[36m(tune_with_parameters pid=2992529)\u001b[0m loss: 0.586\n",
      "\u001b[36m(tune_with_parameters pid=2878214)\u001b[0m loss: 0.587\u001b[32m [repeated 2x across cluster]\u001b[0m\n"
     ]
    },
    {
     "name": "stderr",
     "output_type": "stream",
     "text": [
      "Val Epoch:1: 0it [00:00, ?it/s]2992529)\u001b[0m \n",
      "Val Epoch:1: 1it [00:04,  4.19s/it]529)\u001b[0m \n",
      "Val Epoch:1: 2it [00:05,  2.32s/it]529)\u001b[0m \n",
      "Val Epoch:1: 3it [00:05,  1.33s/it]529)\u001b[0m \n",
      "Val Epoch:1: 4it [00:05,  1.15it/s]529)\u001b[0m \n",
      "Val Epoch:1: 5it [00:06,  1.35it/s]529)\u001b[0m \n",
      "Val Epoch:1: 7it [00:06,  2.16it/s]529)\u001b[0m \n",
      "Val Epoch:1: 8it [00:06,  2.20it/s]529)\u001b[0m \n",
      "Val Epoch:1: 9it [00:08,  1.48it/s]529)\u001b[0m \n",
      "Val Epoch:1: 10it [00:08,  1.55it/s]29)\u001b[0m \n",
      "Val Epoch:1: 11it [00:09,  1.43it/s]29)\u001b[0m \n",
      "Val Epoch:1: 12it [00:09,  1.86it/s]29)\u001b[0m \n",
      "Val Epoch:17: 0it [00:00, ?it/s]878214)\u001b[0m \n",
      "Val Epoch:1: 13it [00:10,  1.47it/s]29)\u001b[0m \n",
      "Val Epoch:1: 14it [00:10,  1.83it/s]29)\u001b[0m \n",
      "Val Epoch:1: 15it [00:11,  1.59it/s]29)\u001b[0m \n",
      "Val Epoch:1: 16it [00:11,  2.07it/s]29)\u001b[0m \n",
      "Val Epoch:1: 17it [00:12,  1.63it/s]29)\u001b[0m \n",
      "Val Epoch:1: 18it [00:12,  2.14it/s]29)\u001b[0m \n",
      "Val Epoch:1: 19it [00:13,  2.57it/s]29)\u001b[0m \n",
      "Val Epoch:1: 20it [00:13,  2.91it/s]29)\u001b[0m \n",
      "Val Epoch:17: 2it [00:05,  2.20s/it]\u001b[32m [repeated 3x across cluster]\u001b[0m\n",
      "Val Epoch:1: 0it [00:00, ?it/s]2992472)\u001b[0m \n",
      "Val Epoch:17: 25it [00:10,  4.70it/s]\u001b[32m [repeated 34x across cluster]\u001b[0m\n",
      "Val Epoch:1: 24it [00:08,  3.54it/s]\u001b[32m [repeated 30x across cluster]\u001b[0m\n",
      "Val Epoch:17: 50it [00:21,  2.34it/s]\u001b[32m [repeated 13x across cluster]\u001b[0m\n"
     ]
    },
    {
     "name": "stdout",
     "output_type": "stream",
     "text": [
      "\u001b[36m(tune_with_parameters pid=2992529)\u001b[0m loss: 0.603\u001b[32m [repeated 2x across cluster]\u001b[0m\n"
     ]
    },
    {
     "name": "stderr",
     "output_type": "stream",
     "text": [
      "Val Epoch:1: 49it [00:20,  1.27it/s]\u001b[32m [repeated 17x across cluster]\u001b[0m\n"
     ]
    },
    {
     "name": "stdout",
     "output_type": "stream",
     "text": [
      "\u001b[36m(tune_with_parameters pid=2878214)\u001b[0m loss: 0.580\n",
      "\u001b[36m(tune_with_parameters pid=2992472)\u001b[0m loss: 0.603\n"
     ]
    },
    {
     "name": "stderr",
     "output_type": "stream",
     "text": [
      "Val Epoch:48: 0it [00:00, ?it/s]663640)\u001b[0m \n",
      "Val Epoch:1: 50it [00:22,  2.21it/s]\u001b[32m [repeated 2x across cluster]\u001b[0m\n",
      "Val Epoch:48: 9it [00:06,  1.32it/s]\u001b[32m [repeated 8x across cluster]\u001b[0m\n",
      "Val Epoch:48: 25it [00:13,  1.29it/s]\u001b[32m [repeated 13x across cluster]\u001b[0m\n",
      "Val Epoch:48: 35it [00:18,  1.81it/s]0)\u001b[0m \n",
      "Val Epoch:48: 36it [00:18,  2.24it/s]\u001b[32m [repeated 8x across cluster]\u001b[0m\n",
      "Val Epoch:48: 49it [00:23,  2.04it/s]\u001b[32m [repeated 9x across cluster]\u001b[0m\n"
     ]
    },
    {
     "name": "stdout",
     "output_type": "stream",
     "text": [
      "\u001b[36m(tune_with_parameters pid=2992529)\u001b[0m loss: 0.583\u001b[32m [repeated 2x across cluster]\u001b[0m\n",
      "\u001b[36m(tune_with_parameters pid=2878214)\u001b[0m loss: 0.587\u001b[32m [repeated 2x across cluster]\u001b[0m\n",
      "\u001b[36m(tune_with_parameters pid=2992472)\u001b[0m loss: 0.585\n",
      "\u001b[36m(tune_with_parameters pid=2992529)\u001b[0m loss: 0.585\n",
      "\u001b[36m(tune_with_parameters pid=2663640)\u001b[0m loss: 0.585\n",
      "\u001b[36m(tune_with_parameters pid=2878214)\u001b[0m loss: 0.587\n"
     ]
    },
    {
     "name": "stderr",
     "output_type": "stream",
     "text": [
      "Val Epoch:2: 0it [00:00, ?it/s]2992529)\u001b[0m \n",
      "Val Epoch:48: 50it [00:24,  2.01it/s]\u001b[32m [repeated 2x across cluster]\u001b[0m\n",
      "Val Epoch:2: 1it [00:05,  5.40s/it]529)\u001b[0m \n",
      "Val Epoch:2: 2it [00:05,  2.32s/it]529)\u001b[0m \n",
      "Val Epoch:2: 3it [00:06,  1.74s/it]529)\u001b[0m \n",
      "Val Epoch:2: 4it [00:07,  1.35s/it]529)\u001b[0m \n",
      "Val Epoch:2: 5it [00:07,  1.10it/s]529)\u001b[0m \n",
      "Val Epoch:2: 7it [00:08,  1.64it/s]529)\u001b[0m \n",
      "Val Epoch:2: 8it [00:08,  1.56it/s]529)\u001b[0m \n",
      "Val Epoch:2: 9it [00:10,  1.14it/s]529)\u001b[0m \n",
      "Val Epoch:18: 0it [00:00, ?it/s]878214)\u001b[0m \n",
      "Val Epoch:2: 10it [00:10,  1.48it/s]29)\u001b[0m \n",
      "Val Epoch:2: 11it [00:11,  1.51it/s]29)\u001b[0m \n",
      "Val Epoch:2: 12it [00:11,  1.85it/s]29)\u001b[0m \n",
      "Val Epoch:2: 13it [00:11,  2.23it/s]29)\u001b[0m \n",
      "Val Epoch:2: 14it [00:11,  2.63it/s]29)\u001b[0m \n",
      "Val Epoch:2: 15it [00:12,  2.98it/s]29)\u001b[0m \n",
      "Val Epoch:2: 16it [00:12,  2.85it/s]29)\u001b[0m \n",
      "Val Epoch:2: 17it [00:13,  2.03it/s]29)\u001b[0m \n",
      "Val Epoch:2: 18it [00:13,  2.20it/s]29)\u001b[0m \n",
      "Val Epoch:2: 19it [00:13,  2.38it/s]29)\u001b[0m \n",
      "Val Epoch:2: 20it [00:14,  2.66it/s]29)\u001b[0m \n",
      "Val Epoch:2: 21it [00:14,  3.27it/s]29)\u001b[0m \n",
      "Val Epoch:18: 6it [00:06,  1.62it/s]\u001b[32m [repeated 9x across cluster]\u001b[0m\n",
      "Val Epoch:2: 0it [00:00, ?it/s]2992472)\u001b[0m \n",
      "Val Epoch:2: 2it [00:02,  1.16it/s]472)\u001b[0m \n",
      "Val Epoch:18: 33it [00:11,  4.00it/s]\u001b[32m [repeated 40x across cluster]\u001b[0m\n",
      "Val Epoch:18: 31it [00:10,  6.81it/s]4)\u001b[0m \n",
      "Val Epoch:2: 19it [00:08,  2.30it/s]\u001b[32m [repeated 24x across cluster]\u001b[0m\n",
      "Val Epoch:2: 31it [00:13,  2.37it/s]\u001b[32m [repeated 15x across cluster]\u001b[0m\n"
     ]
    },
    {
     "name": "stdout",
     "output_type": "stream",
     "text": [
      "\u001b[36m(tune_with_parameters pid=2992529)\u001b[0m loss: 0.625\u001b[32m [repeated 2x across cluster]\u001b[0m\n"
     ]
    },
    {
     "name": "stderr",
     "output_type": "stream",
     "text": [
      "Val Epoch:2: 43it [00:19,  2.15it/s]\u001b[32m [repeated 11x across cluster]\u001b[0m\n"
     ]
    },
    {
     "name": "stdout",
     "output_type": "stream",
     "text": [
      "\u001b[36m(tune_with_parameters pid=2878214)\u001b[0m loss: 0.565\n",
      "\u001b[36m(tune_with_parameters pid=2992472)\u001b[0m loss: 0.559\n",
      "\u001b[36m(tune_with_parameters pid=2663640)\u001b[0m loss: 0.585\n"
     ]
    },
    {
     "name": "stderr",
     "output_type": "stream",
     "text": [
      "Val Epoch:49: 0it [00:00, ?it/s]663640)\u001b[0m \n",
      "Val Epoch:2: 50it [00:23,  2.14it/s]\u001b[32m [repeated 8x across cluster]\u001b[0m\n",
      "Val Epoch:49: 4it [00:05,  1.06it/s]\u001b[32m [repeated 4x across cluster]\u001b[0m\n",
      "Val Epoch:49: 17it [00:11,  1.88it/s]\u001b[32m [repeated 12x across cluster]\u001b[0m\n",
      "Val Epoch:49: 29it [00:16,  2.89it/s]\u001b[32m [repeated 10x across cluster]\u001b[0m\n",
      "Val Epoch:49: 46it [00:21,  7.51it/s]\u001b[32m [repeated 12x across cluster]\u001b[0m\n"
     ]
    },
    {
     "name": "stdout",
     "output_type": "stream",
     "text": [
      "\u001b[36m(tune_with_parameters pid=2992529)\u001b[0m loss: 0.587\n",
      "\u001b[36m(tune_with_parameters pid=2878214)\u001b[0m loss: 0.586\n",
      "\u001b[36m(tune_with_parameters pid=2663640)\u001b[0m loss: 0.603\n",
      "\u001b[36m(tune_with_parameters pid=2992472)\u001b[0m loss: 0.584\n",
      "\u001b[36m(tune_with_parameters pid=2992529)\u001b[0m loss: 0.586\n",
      "\u001b[36m(tune_with_parameters pid=2878214)\u001b[0m loss: 0.586\n",
      "\u001b[36m(tune_with_parameters pid=2663640)\u001b[0m loss: 0.587\n"
     ]
    },
    {
     "name": "stderr",
     "output_type": "stream",
     "text": [
      "Val Epoch:3: 0it [00:00, ?it/s]2992529)\u001b[0m \n",
      "Val Epoch:49: 50it [00:22,  2.20it/s]\u001b[32m [repeated 3x across cluster]\u001b[0m\n",
      "Val Epoch:3: 5it [00:05,  1.25it/s]\u001b[32m [repeated 4x across cluster]\u001b[0m\n",
      "Val Epoch:3: 15it [00:10,  1.82it/s]\u001b[32m [repeated 8x across cluster]\u001b[0m\n",
      "Val Epoch:19: 0it [00:00, ?it/s]878214)\u001b[0m \n",
      "Val Epoch:3: 25it [00:16,  2.09it/s]\u001b[32m [repeated 9x across cluster]\u001b[0m\n",
      "Val Epoch:19: 16it [00:07,  5.27it/s]4)\u001b[0m \n",
      "Val Epoch:3: 41it [00:20,  4.30it/s]\u001b[32m [repeated 23x across cluster]\u001b[0m\n",
      "Val Epoch:3: 0it [00:00, ?it/s]2992472)\u001b[0m \n",
      "Val Epoch:3: 8it [00:04,  2.85it/s]\u001b[32m [repeated 24x across cluster]\u001b[0m\n",
      "Val Epoch:3: 17it [00:09,  2.28it/s]\u001b[32m [repeated 17x across cluster]\u001b[0m\n",
      "Val Epoch:19: 50it [00:20,  2.01it/s]4)\u001b[0m \n"
     ]
    },
    {
     "name": "stdout",
     "output_type": "stream",
     "text": [
      "\u001b[36m(tune_with_parameters pid=2992529)\u001b[0m loss: 0.573\u001b[32m [repeated 2x across cluster]\u001b[0m\n"
     ]
    },
    {
     "name": "stderr",
     "output_type": "stream",
     "text": [
      "Val Epoch:3: 30it [00:15,  1.62it/s]\u001b[32m [repeated 20x across cluster]\u001b[0m\n",
      "Val Epoch:3: 39it [00:20,  1.59it/s]\u001b[32m [repeated 8x across cluster]\u001b[0m\n",
      "Val Epoch:3: 50it [00:25,  1.93it/s]\u001b[32m [repeated 11x across cluster]\u001b[0m\n"
     ]
    },
    {
     "name": "stdout",
     "output_type": "stream",
     "text": [
      "\u001b[36m(tune_with_parameters pid=2878214)\u001b[0m loss: 0.592\n",
      "\u001b[36m(tune_with_parameters pid=2992472)\u001b[0m loss: 0.592\n",
      "\u001b[36m(tune_with_parameters pid=2663640)\u001b[0m loss: 0.586\n"
     ]
    },
    {
     "name": "stderr",
     "output_type": "stream",
     "text": [
      "Val Epoch:50: 0it [00:00, ?it/s]663640)\u001b[0m \n",
      "Val Epoch:50: 1it [00:03,  3.77s/it]40)\u001b[0m \n",
      "Val Epoch:50: 2it [00:04,  2.02s/it]40)\u001b[0m \n",
      "Val Epoch:50: 3it [00:04,  1.19s/it]40)\u001b[0m \n",
      "Val Epoch:50: 4it [00:04,  1.26it/s]40)\u001b[0m \n",
      "Val Epoch:50: 5it [00:05,  1.52it/s]40)\u001b[0m \n",
      "Val Epoch:50: 6it [00:05,  1.57it/s]40)\u001b[0m \n",
      "Val Epoch:50: 7it [00:06,  2.05it/s]40)\u001b[0m \n",
      "Val Epoch:50: 8it [00:06,  2.51it/s]40)\u001b[0m \n",
      "Val Epoch:50: 9it [00:08,  1.04s/it]40)\u001b[0m \n",
      "Val Epoch:50: 10it [00:08,  1.30it/s]0)\u001b[0m \n",
      "Val Epoch:50: 11it [00:09,  1.63it/s]0)\u001b[0m \n",
      "Val Epoch:50: 12it [00:09,  1.96it/s]0)\u001b[0m \n",
      "Val Epoch:50: 13it [00:09,  2.45it/s]0)\u001b[0m \n",
      "Val Epoch:50: 15it [00:09,  3.90it/s]0)\u001b[0m \n",
      "Val Epoch:50: 17it [00:10,  3.57it/s]0)\u001b[0m \n",
      "Val Epoch:50: 18it [00:11,  2.13it/s]0)\u001b[0m \n",
      "Val Epoch:50: 19it [00:12,  1.98it/s]0)\u001b[0m \n",
      "Val Epoch:50: 20it [00:12,  2.38it/s]0)\u001b[0m \n",
      "Val Epoch:50: 21it [00:13,  1.70it/s]0)\u001b[0m \n",
      "Val Epoch:50: 22it [00:13,  2.08it/s]0)\u001b[0m \n",
      "Val Epoch:50: 24it [00:13,  3.35it/s]0)\u001b[0m \n",
      "Val Epoch:50: 25it [00:14,  2.96it/s]0)\u001b[0m \n",
      "Val Epoch:50: 26it [00:15,  2.21it/s]0)\u001b[0m \n",
      "Val Epoch:50: 27it [00:15,  2.05it/s]0)\u001b[0m \n",
      "Val Epoch:50: 29it [00:16,  2.08it/s]0)\u001b[0m \n",
      "Val Epoch:50: 30it [00:16,  2.45it/s]0)\u001b[0m \n",
      "Val Epoch:50: 32it [00:16,  3.55it/s]0)\u001b[0m \n",
      "Val Epoch:50: 33it [00:17,  2.80it/s]0)\u001b[0m \n",
      "Val Epoch:50: 34it [00:18,  2.38it/s]0)\u001b[0m \n",
      "Val Epoch:50: 37it [00:18,  3.06it/s]0)\u001b[0m \n",
      "Val Epoch:50: 40it [00:19,  4.68it/s]0)\u001b[0m \n",
      "Val Epoch:50: 41it [00:19,  4.06it/s]0)\u001b[0m \n",
      "Val Epoch:50: 42it [00:19,  4.45it/s]0)\u001b[0m \n",
      "Val Epoch:50: 44it [00:19,  5.67it/s]0)\u001b[0m \n",
      "Val Epoch:50: 45it [00:20,  3.69it/s]0)\u001b[0m \n",
      "Val Epoch:50: 48it [00:20,  5.38it/s]0)\u001b[0m \n",
      "Val Epoch:50: 50it [00:20,  6.60it/s]0)\u001b[0m \n"
     ]
    },
    {
     "name": "stdout",
     "output_type": "stream",
     "text": [
      "\u001b[36m(tune_with_parameters pid=2992529)\u001b[0m loss: 0.587\n"
     ]
    },
    {
     "name": "stderr",
     "output_type": "stream",
     "text": [
      "Val Epoch:50: 50it [00:21,  2.34it/s]0)\u001b[0m \n"
     ]
    },
    {
     "name": "stdout",
     "output_type": "stream",
     "text": [
      "\u001b[36m(tune_with_parameters pid=2663640)\u001b[0m loss: 0.581\n",
      "\u001b[36m(tune_with_parameters pid=2878214)\u001b[0m loss: 0.588\n",
      "\u001b[36m(tune_with_parameters pid=2992472)\u001b[0m loss: 0.585\n",
      "\u001b[36m(tune_with_parameters pid=2992529)\u001b[0m loss: 0.586\n",
      "\u001b[36m(tune_with_parameters pid=2663640)\u001b[0m loss: 0.585\n",
      "\u001b[36m(tune_with_parameters pid=2878214)\u001b[0m loss: 0.588\n",
      "\u001b[36m(tune_with_parameters pid=2992472)\u001b[0m loss: 0.585\n"
     ]
    },
    {
     "name": "stderr",
     "output_type": "stream",
     "text": [
      "Val Epoch:4: 0it [00:00, ?it/s]2992529)\u001b[0m \n",
      "Val Epoch:4: 1it [00:03,  3.18s/it]529)\u001b[0m \n",
      "Val Epoch:4: 2it [00:03,  1.70s/it]529)\u001b[0m \n",
      "Val Epoch:4: 3it [00:04,  1.11s/it]529)\u001b[0m \n",
      "Val Epoch:4: 4it [00:05,  1.16s/it]529)\u001b[0m \n",
      "Val Epoch:4: 5it [00:05,  1.27it/s]529)\u001b[0m \n",
      "Val Epoch:4: 6it [00:05,  1.68it/s]529)\u001b[0m \n",
      "Val Epoch:4: 7it [00:06,  1.82it/s]529)\u001b[0m \n",
      "Val Epoch:4: 8it [00:06,  2.25it/s]529)\u001b[0m \n",
      "Val Epoch:4: 9it [00:06,  2.43it/s]529)\u001b[0m \n",
      "Val Epoch:4: 10it [00:07,  2.09it/s]29)\u001b[0m \n",
      "Val Epoch:4: 11it [00:07,  2.45it/s]29)\u001b[0m \n",
      "Val Epoch:4: 12it [00:07,  3.00it/s]29)\u001b[0m \n",
      "Val Epoch:4: 13it [00:08,  2.83it/s]29)\u001b[0m \n",
      "Val Epoch:4: 14it [00:08,  2.44it/s]29)\u001b[0m \n",
      "Val Epoch:4: 15it [00:09,  2.56it/s]29)\u001b[0m \n",
      "Val Epoch:4: 16it [00:09,  3.02it/s]29)\u001b[0m \n",
      "Val Epoch:4: 17it [00:11,  1.05it/s]29)\u001b[0m \n",
      "Val Epoch:4: 18it [00:12,  1.12it/s]29)\u001b[0m \n",
      "Val Epoch:20: 0it [00:00, ?it/s]878214)\u001b[0m \n",
      "Val Epoch:4: 19it [00:14,  1.17s/it]29)\u001b[0m \n",
      "Val Epoch:4: 20it [00:14,  1.09it/s]29)\u001b[0m \n",
      "Val Epoch:4: 21it [00:14,  1.44it/s]29)\u001b[0m \n",
      "Val Epoch:4: 22it [00:15,  1.84it/s]29)\u001b[0m \n",
      "Val Epoch:4: 23it [00:15,  2.34it/s]29)\u001b[0m \n",
      "Val Epoch:4: 24it [00:15,  2.47it/s]29)\u001b[0m \n",
      "Val Epoch:4: 25it [00:16,  2.27it/s]29)\u001b[0m \n",
      "Val Epoch:4: 26it [00:16,  2.59it/s]29)\u001b[0m \n",
      "Val Epoch:4: 27it [00:16,  2.30it/s]29)\u001b[0m \n",
      "Val Epoch:4: 28it [00:16,  2.93it/s]29)\u001b[0m \n",
      "Val Epoch:4: 29it [00:17,  3.58it/s]29)\u001b[0m \n",
      "Val Epoch:20: 10it [00:05,  2.49it/s]\u001b[32m [repeated 12x across cluster]\u001b[0m\n",
      "Val Epoch:4: 0it [00:00, ?it/s]2992472)\u001b[0m \n",
      "Val Epoch:20: 32it [00:10,  3.54it/s]\u001b[32m [repeated 20x across cluster]\u001b[0m\n",
      "Val Epoch:20: 41it [00:16,  1.01s/it]\u001b[32m [repeated 15x across cluster]\u001b[0m\n"
     ]
    },
    {
     "name": "stdout",
     "output_type": "stream",
     "text": [
      "\u001b[36m(tune_with_parameters pid=2992529)\u001b[0m loss: 0.581\n"
     ]
    },
    {
     "name": "stderr",
     "output_type": "stream",
     "text": [
      "Val Epoch:4: 24it [00:14,  2.23it/s]\u001b[32m [repeated 24x across cluster]\u001b[0m\n",
      "Val Epoch:4: 33it [00:20,  1.23it/s]\u001b[32m [repeated 9x across cluster]\u001b[0m\n"
     ]
    },
    {
     "name": "stdout",
     "output_type": "stream",
     "text": [
      "\u001b[36m(tune_with_parameters pid=2878214)\u001b[0m loss: 0.549\n"
     ]
    },
    {
     "name": "stderr",
     "output_type": "stream",
     "text": [
      "Val Epoch:4: 50it [00:25,  3.79it/s]72)\u001b[0m \n",
      "Val Epoch:4: 48it [00:24,  5.80it/s]\u001b[32m [repeated 13x across cluster]\u001b[0m\n"
     ]
    },
    {
     "name": "stdout",
     "output_type": "stream",
     "text": [
      "\u001b[36m(tune_with_parameters pid=2992472)\u001b[0m loss: 0.609\n",
      "\u001b[36m(tune_with_parameters pid=2663640)\u001b[0m loss: 0.586\n"
     ]
    },
    {
     "name": "stderr",
     "output_type": "stream",
     "text": [
      "Val Epoch:51: 0it [00:00, ?it/s]663640)\u001b[0m \n",
      "Val Epoch:4: 50it [00:25,  1.93it/s]72)\u001b[0m \n",
      "Val Epoch:51: 1it [00:04,  4.74s/it]40)\u001b[0m \n",
      "Val Epoch:51: 3it [00:05,  1.50s/it]40)\u001b[0m \n",
      "Val Epoch:51: 5it [00:05,  1.28it/s]40)\u001b[0m \n",
      "Val Epoch:51: 6it [00:05,  1.54it/s]40)\u001b[0m \n",
      "Val Epoch:51: 7it [00:06,  1.56it/s]40)\u001b[0m \n",
      "Val Epoch:51: 8it [00:06,  1.98it/s]40)\u001b[0m \n",
      "Val Epoch:51: 9it [00:08,  1.01it/s]40)\u001b[0m \n",
      "Val Epoch:51: 10it [00:09,  1.33it/s]0)\u001b[0m \n",
      "Val Epoch:51: 11it [00:09,  1.72it/s]0)\u001b[0m \n",
      "Val Epoch:51: 12it [00:09,  2.20it/s]0)\u001b[0m \n",
      "Val Epoch:51: 14it [00:09,  3.40it/s]0)\u001b[0m \n",
      "Val Epoch:51: 15it [00:10,  2.37it/s]0)\u001b[0m \n",
      "Val Epoch:51: 16it [00:10,  2.81it/s]0)\u001b[0m \n",
      "Val Epoch:51: 17it [00:12,  1.24it/s]0)\u001b[0m \n",
      "Val Epoch:51: 18it [00:12,  1.54it/s]0)\u001b[0m \n",
      "Val Epoch:51: 19it [00:13,  1.90it/s]0)\u001b[0m \n",
      "Val Epoch:51: 20it [00:13,  2.27it/s]0)\u001b[0m \n",
      "Val Epoch:51: 21it [00:13,  2.74it/s]0)\u001b[0m \n",
      "Val Epoch:51: 23it [00:17,  1.08s/it]0)\u001b[0m \n",
      "Val Epoch:51: 24it [00:17,  1.18it/s]0)\u001b[0m \n",
      "Val Epoch:51: 25it [00:17,  1.50it/s]0)\u001b[0m \n",
      "Val Epoch:51: 26it [00:17,  1.87it/s]0)\u001b[0m \n",
      "Val Epoch:51: 27it [00:18,  2.33it/s]0)\u001b[0m \n",
      "Val Epoch:51: 28it [00:18,  2.91it/s]0)\u001b[0m \n",
      "Val Epoch:51: 31it [00:18,  3.34it/s]0)\u001b[0m \n",
      "Val Epoch:51: 33it [00:19,  3.55it/s]0)\u001b[0m \n",
      "Val Epoch:51: 34it [00:19,  3.79it/s]0)\u001b[0m \n",
      "Val Epoch:51: 35it [00:19,  4.24it/s]0)\u001b[0m \n",
      "Val Epoch:51: 37it [00:19,  6.02it/s]0)\u001b[0m \n",
      "Val Epoch:51: 39it [00:20,  5.47it/s]0)\u001b[0m \n",
      "Val Epoch:51: 41it [00:20,  6.29it/s]0)\u001b[0m \n",
      "Val Epoch:51: 42it [00:20,  6.58it/s]0)\u001b[0m \n",
      "Val Epoch:51: 44it [00:20,  8.42it/s]0)\u001b[0m \n",
      "Val Epoch:51: 47it [00:21,  5.44it/s]0)\u001b[0m \n",
      "Val Epoch:51: 49it [00:21,  6.79it/s]0)\u001b[0m \n"
     ]
    },
    {
     "name": "stdout",
     "output_type": "stream",
     "text": [
      "\u001b[36m(tune_with_parameters pid=2992529)\u001b[0m loss: 0.586\n"
     ]
    },
    {
     "name": "stderr",
     "output_type": "stream",
     "text": [
      "Val Epoch:51: 50it [00:22,  2.25it/s]0)\u001b[0m \n"
     ]
    },
    {
     "name": "stdout",
     "output_type": "stream",
     "text": [
      "\u001b[36m(tune_with_parameters pid=2878214)\u001b[0m loss: 0.586\n",
      "\u001b[36m(tune_with_parameters pid=2663640)\u001b[0m loss: 0.598\n",
      "\u001b[36m(tune_with_parameters pid=2992472)\u001b[0m loss: 0.585\n",
      "\u001b[36m(tune_with_parameters pid=2992529)\u001b[0m loss: 0.585\n",
      "\u001b[36m(tune_with_parameters pid=2878214)\u001b[0m loss: 0.587\n",
      "\u001b[36m(tune_with_parameters pid=2663640)\u001b[0m loss: 0.586\n",
      "\u001b[36m(tune_with_parameters pid=2992472)\u001b[0m loss: 0.584\n"
     ]
    },
    {
     "name": "stderr",
     "output_type": "stream",
     "text": [
      "Val Epoch:5: 0it [00:00, ?it/s]2992529)\u001b[0m \n",
      "Val Epoch:5: 1it [00:03,  3.42s/it]529)\u001b[0m \n",
      "Val Epoch:5: 3it [00:04,  1.32s/it]529)\u001b[0m \n",
      "Val Epoch:5: 5it [00:04,  1.45it/s]529)\u001b[0m \n",
      "Val Epoch:5: 6it [00:04,  1.83it/s]529)\u001b[0m \n",
      "Val Epoch:5: 7it [00:05,  2.29it/s]529)\u001b[0m \n",
      "Val Epoch:5: 8it [00:05,  2.40it/s]529)\u001b[0m \n",
      "Val Epoch:5: 9it [00:08,  1.06s/it]529)\u001b[0m \n",
      "Val Epoch:5: 10it [00:08,  1.18it/s]29)\u001b[0m \n",
      "Val Epoch:5: 11it [00:09,  1.06it/s]29)\u001b[0m \n",
      "Val Epoch:5: 12it [00:09,  1.41it/s]29)\u001b[0m \n",
      "Val Epoch:5: 14it [00:09,  2.30it/s]29)\u001b[0m \n",
      "Val Epoch:5: 15it [00:10,  2.63it/s]29)\u001b[0m \n",
      "Val Epoch:5: 16it [00:10,  2.77it/s]29)\u001b[0m \n",
      "Val Epoch:5: 17it [00:13,  1.09s/it]29)\u001b[0m \n",
      "Val Epoch:5: 18it [00:13,  1.16it/s]29)\u001b[0m \n",
      "Val Epoch:5: 19it [00:14,  1.22it/s]29)\u001b[0m \n",
      "Val Epoch:5: 20it [00:14,  1.57it/s]29)\u001b[0m \n",
      "Val Epoch:5: 22it [00:15,  2.14it/s]29)\u001b[0m \n",
      "Val Epoch:21: 0it [00:00, ?it/s]878214)\u001b[0m \n",
      "Val Epoch:5: 24it [00:15,  3.22it/s]29)\u001b[0m \n",
      "Val Epoch:5: 25it [00:16,  1.97it/s]29)\u001b[0m \n",
      "Val Epoch:5: 27it [00:16,  2.90it/s]29)\u001b[0m \n",
      "Val Epoch:5: 30it [00:16,  4.79it/s]29)\u001b[0m \n",
      "Val Epoch:5: 32it [00:17,  5.81it/s]29)\u001b[0m \n",
      "Val Epoch:21: 17it [00:04,  4.35it/s]\u001b[32m [repeated 17x across cluster]\u001b[0m\n",
      "Val Epoch:5: 0it [00:00, ?it/s]2992472)\u001b[0m \n",
      "Val Epoch:21: 33it [00:13,  1.55s/it]\u001b[32m [repeated 15x across cluster]\u001b[0m\n",
      "Val Epoch:5: 10it [00:09,  2.02it/s]\u001b[32m [repeated 18x across cluster]\u001b[0m\n"
     ]
    },
    {
     "name": "stdout",
     "output_type": "stream",
     "text": [
      "\u001b[36m(tune_with_parameters pid=2992529)\u001b[0m loss: 0.574\n"
     ]
    },
    {
     "name": "stderr",
     "output_type": "stream",
     "text": [
      "Val Epoch:5: 22it [00:14,  2.05it/s]\u001b[32m [repeated 14x across cluster]\u001b[0m\n",
      "Val Epoch:5: 33it [00:20,  2.15it/s]\u001b[32m [repeated 11x across cluster]\u001b[0m\n"
     ]
    },
    {
     "name": "stdout",
     "output_type": "stream",
     "text": [
      "\u001b[36m(tune_with_parameters pid=2878214)\u001b[0m loss: 0.579\n",
      "\u001b[36m(tune_with_parameters pid=2992472)\u001b[0m loss: 0.554\n",
      "\u001b[36m(tune_with_parameters pid=2663640)\u001b[0m loss: 0.586\n"
     ]
    },
    {
     "name": "stderr",
     "output_type": "stream",
     "text": [
      "Val Epoch:52: 0it [00:00, ?it/s]663640)\u001b[0m \n",
      "Val Epoch:5: 50it [00:24,  2.04it/s]\u001b[32m [repeated 12x across cluster]\u001b[0m\n",
      "Val Epoch:52: 2it [00:04,  2.33s/it]\u001b[32m [repeated 2x across cluster]\u001b[0m\n",
      "Val Epoch:52: 16it [00:10,  3.71it/s]\u001b[32m [repeated 13x across cluster]\u001b[0m\n",
      "Val Epoch:52: 30it [00:15,  4.56it/s]\u001b[32m [repeated 11x across cluster]\u001b[0m\n"
     ]
    },
    {
     "name": "stdout",
     "output_type": "stream",
     "text": [
      "\u001b[36m(tune_with_parameters pid=2992529)\u001b[0m loss: 0.584\n",
      "\u001b[36m(tune_with_parameters pid=2663640)\u001b[0m loss: 0.614\n",
      "\u001b[36m(tune_with_parameters pid=2878214)\u001b[0m loss: 0.587\n",
      "\u001b[36m(tune_with_parameters pid=2992472)\u001b[0m loss: 0.585\n",
      "\u001b[36m(tune_with_parameters pid=2992529)\u001b[0m loss: 0.586\n",
      "\u001b[36m(tune_with_parameters pid=2663640)\u001b[0m loss: 0.587\n",
      "\u001b[36m(tune_with_parameters pid=2878214)\u001b[0m loss: 0.587\n"
     ]
    },
    {
     "name": "stderr",
     "output_type": "stream",
     "text": [
      "Val Epoch:6: 0it [00:00, ?it/s]2992529)\u001b[0m \n",
      "Val Epoch:52: 50it [00:19,  2.51it/s]\u001b[32m [repeated 14x across cluster]\u001b[0m\n"
     ]
    },
    {
     "name": "stdout",
     "output_type": "stream",
     "text": [
      "\u001b[36m(tune_with_parameters pid=2992472)\u001b[0m loss: 0.584\n"
     ]
    },
    {
     "name": "stderr",
     "output_type": "stream",
     "text": [
      "Val Epoch:6: 5it [00:05,  1.25it/s]\u001b[32m [repeated 3x across cluster]\u001b[0m\n",
      "Val Epoch:6: 10it [00:06,  2.07it/s]29)\u001b[0m \n",
      "Val Epoch:6: 22it [00:10,  3.80it/s]\u001b[32m [repeated 11x across cluster]\u001b[0m\n",
      "Val Epoch:22: 0it [00:00, ?it/s]878214)\u001b[0m \n",
      "Val Epoch:22: 5it [00:02,  2.25it/s]\u001b[32m [repeated 20x across cluster]\u001b[0m\n",
      "Val Epoch:22: 14it [00:08,  1.42it/s]\u001b[32m [repeated 8x across cluster]\u001b[0m\n",
      "Val Epoch:22: 23it [00:13,  1.62it/s]\u001b[32m [repeated 9x across cluster]\u001b[0m\n",
      "Val Epoch:6: 0it [00:00, ?it/s]2992472)\u001b[0m \n"
     ]
    },
    {
     "name": "stdout",
     "output_type": "stream",
     "text": [
      "\u001b[36m(tune_with_parameters pid=2992529)\u001b[0m loss: 0.553\n"
     ]
    },
    {
     "name": "stderr",
     "output_type": "stream",
     "text": [
      "Val Epoch:22: 32it [00:18,  2.28it/s]\u001b[32m [repeated 7x across cluster]\u001b[0m\n",
      "Val Epoch:6: 15it [00:09,  2.96it/s]\u001b[32m [repeated 29x across cluster]\u001b[0m\n",
      "Val Epoch:6: 33it [00:14,  3.51it/s]\u001b[32m [repeated 19x across cluster]\u001b[0m\n"
     ]
    },
    {
     "name": "stdout",
     "output_type": "stream",
     "text": [
      "\u001b[36m(tune_with_parameters pid=2878214)\u001b[0m loss: 0.564\n",
      "\u001b[36m(tune_with_parameters pid=2992472)\u001b[0m loss: 0.577\n"
     ]
    },
    {
     "name": "stderr",
     "output_type": "stream",
     "text": [
      "Val Epoch:53: 0it [00:00, ?it/s]663640)\u001b[0m \n",
      "Val Epoch:6: 50it [00:19,  2.62it/s]\u001b[32m [repeated 14x across cluster]\u001b[0m\n",
      "Val Epoch:53: 1it [00:06,  6.48s/it]40)\u001b[0m \n",
      "Val Epoch:53: 3it [00:06,  1.74s/it]40)\u001b[0m \n",
      "Val Epoch:53: 4it [00:06,  1.19s/it]40)\u001b[0m \n",
      "Val Epoch:53: 5it [00:06,  1.18it/s]40)\u001b[0m \n",
      "Val Epoch:53: 6it [00:07,  1.57it/s]40)\u001b[0m \n",
      "Val Epoch:53: 8it [00:07,  2.40it/s]40)\u001b[0m \n",
      "Val Epoch:53: 9it [00:08,  1.95it/s]40)\u001b[0m \n",
      "Val Epoch:53: 13it [00:08,  4.47it/s]0)\u001b[0m \n",
      "Val Epoch:53: 15it [00:08,  4.95it/s]0)\u001b[0m \n",
      "Val Epoch:53: 17it [00:09,  3.10it/s]0)\u001b[0m \n",
      "Val Epoch:53: 20it [00:10,  4.54it/s]0)\u001b[0m \n",
      "Val Epoch:53: 22it [00:10,  5.48it/s]0)\u001b[0m \n",
      "Val Epoch:53: 25it [00:11,  3.53it/s]0)\u001b[0m \n",
      "Val Epoch:53: 27it [00:11,  4.39it/s]0)\u001b[0m \n",
      "Val Epoch:53: 29it [00:11,  5.44it/s]0)\u001b[0m \n",
      "Val Epoch:53: 32it [00:12,  7.28it/s]0)\u001b[0m \n",
      "Val Epoch:53: 34it [00:13,  3.88it/s]0)\u001b[0m \n",
      "Val Epoch:53: 36it [00:13,  4.74it/s]0)\u001b[0m \n",
      "Val Epoch:53: 38it [00:13,  5.60it/s]0)\u001b[0m \n",
      "Val Epoch:53: 40it [00:13,  6.49it/s]0)\u001b[0m \n",
      "Val Epoch:53: 42it [00:14,  4.09it/s]0)\u001b[0m \n",
      "Val Epoch:53: 43it [00:14,  4.48it/s]0)\u001b[0m \n",
      "Val Epoch:53: 45it [00:15,  5.52it/s]0)\u001b[0m \n",
      "Val Epoch:53: 47it [00:15,  7.05it/s]0)\u001b[0m \n"
     ]
    },
    {
     "name": "stdout",
     "output_type": "stream",
     "text": [
      "\u001b[36m(tune_with_parameters pid=2992529)\u001b[0m loss: 0.584\u001b[32m [repeated 2x across cluster]\u001b[0m\n"
     ]
    },
    {
     "name": "stderr",
     "output_type": "stream",
     "text": [
      "Val Epoch:53: 49it [00:17,  2.46it/s]0)\u001b[0m \n",
      "Val Epoch:53: 50it [00:18,  2.71it/s]0)\u001b[0m \n"
     ]
    },
    {
     "name": "stdout",
     "output_type": "stream",
     "text": [
      "\u001b[36m(tune_with_parameters pid=2663640)\u001b[0m loss: 0.583\n",
      "\u001b[36m(tune_with_parameters pid=2878214)\u001b[0m loss: 0.587\n",
      "\u001b[36m(tune_with_parameters pid=2992472)\u001b[0m loss: 0.585\n",
      "\u001b[36m(tune_with_parameters pid=2992529)\u001b[0m loss: 0.585\n",
      "\u001b[36m(tune_with_parameters pid=2663640)\u001b[0m loss: 0.586\n",
      "\u001b[36m(tune_with_parameters pid=2878214)\u001b[0m loss: 0.587\n"
     ]
    },
    {
     "name": "stderr",
     "output_type": "stream",
     "text": [
      "Val Epoch:7: 0it [00:00, ?it/s]2992529)\u001b[0m \n",
      "Val Epoch:7: 1it [00:04,  4.52s/it]529)\u001b[0m \n",
      "Val Epoch:7: 3it [00:04,  1.26s/it]529)\u001b[0m \n",
      "Val Epoch:7: 4it [00:05,  1.03s/it]529)\u001b[0m \n",
      "Val Epoch:7: 5it [00:05,  1.19it/s]529)\u001b[0m \n",
      "Val Epoch:7: 6it [00:05,  1.65it/s]529)\u001b[0m \n",
      "Val Epoch:7: 7it [00:06,  2.12it/s]529)\u001b[0m \n",
      "Val Epoch:7: 8it [00:06,  2.38it/s]529)\u001b[0m \n",
      "Val Epoch:7: 9it [00:07,  1.40it/s]529)\u001b[0m \n",
      "Val Epoch:7: 11it [00:08,  2.17it/s]29)\u001b[0m \n",
      "Val Epoch:7: 12it [00:08,  2.27it/s]29)\u001b[0m \n",
      "Val Epoch:7: 13it [00:08,  2.37it/s]29)\u001b[0m \n",
      "Val Epoch:7: 15it [00:09,  2.92it/s]29)\u001b[0m \n",
      "Val Epoch:7: 16it [00:09,  3.22it/s]29)\u001b[0m \n",
      "Val Epoch:7: 17it [00:11,  1.47it/s]29)\u001b[0m \n",
      "Val Epoch:7: 18it [00:11,  1.72it/s]29)\u001b[0m \n",
      "Val Epoch:7: 19it [00:11,  2.13it/s]29)\u001b[0m \n"
     ]
    },
    {
     "name": "stdout",
     "output_type": "stream",
     "text": [
      "\u001b[36m(tune_with_parameters pid=2992472)\u001b[0m loss: 0.583\n"
     ]
    },
    {
     "name": "stderr",
     "output_type": "stream",
     "text": [
      "Val Epoch:7: 20it [00:12,  2.50it/s]29)\u001b[0m \n",
      "Val Epoch:7: 21it [00:12,  2.15it/s]29)\u001b[0m \n",
      "Val Epoch:7: 22it [00:12,  2.58it/s]29)\u001b[0m \n",
      "Val Epoch:7: 23it [00:13,  2.83it/s]29)\u001b[0m \n",
      "Val Epoch:7: 24it [00:13,  3.10it/s]29)\u001b[0m \n",
      "Val Epoch:7: 25it [00:13,  2.95it/s]29)\u001b[0m \n",
      "Val Epoch:7: 27it [00:13,  4.55it/s]29)\u001b[0m \n",
      "Val Epoch:7: 28it [00:14,  3.63it/s]29)\u001b[0m \n",
      "Val Epoch:7: 29it [00:14,  4.22it/s]29)\u001b[0m \n",
      "Val Epoch:7: 31it [00:14,  6.15it/s]29)\u001b[0m \n",
      "Val Epoch:7: 33it [00:15,  4.24it/s]29)\u001b[0m \n",
      "Val Epoch:7: 36it [00:15,  6.41it/s]29)\u001b[0m \n",
      "Val Epoch:7: 38it [00:16,  5.02it/s]29)\u001b[0m \n",
      "Val Epoch:7: 40it [00:16,  6.12it/s]29)\u001b[0m \n",
      "Val Epoch:7: 41it [00:16,  6.53it/s]29)\u001b[0m \n",
      "Val Epoch:7: 43it [00:16,  7.42it/s]29)\u001b[0m \n",
      "Val Epoch:7: 45it [00:16,  6.51it/s]29)\u001b[0m \n",
      "Val Epoch:7: 46it [00:17,  6.91it/s]29)\u001b[0m \n",
      "Val Epoch:7: 49it [00:18,  4.54it/s]29)\u001b[0m \n",
      "Val Epoch:7: 50it [00:18,  2.67it/s]29)\u001b[0m \n",
      "Val Epoch:23: 0it [00:00, ?it/s]878214)\u001b[0m \n",
      "Val Epoch:23: 1it [00:03,  3.42s/it]14)\u001b[0m \n",
      "Val Epoch:23: 2it [00:04,  2.05s/it]14)\u001b[0m \n",
      "Val Epoch:23: 3it [00:05,  1.77s/it]14)\u001b[0m \n",
      "Val Epoch:23: 4it [00:06,  1.39s/it]14)\u001b[0m \n",
      "Val Epoch:23: 5it [00:06,  1.07it/s]14)\u001b[0m \n",
      "Val Epoch:23: 6it [00:07,  1.49it/s]14)\u001b[0m \n",
      "Val Epoch:23: 7it [00:08,  1.21it/s]14)\u001b[0m \n",
      "Val Epoch:23: 8it [00:08,  1.52it/s]14)\u001b[0m \n",
      "Val Epoch:23: 9it [00:08,  1.79it/s]14)\u001b[0m \n",
      "Val Epoch:23: 10it [00:10,  1.16it/s]4)\u001b[0m \n",
      "Val Epoch:23: 11it [00:10,  1.44it/s]4)\u001b[0m \n",
      "Val Epoch:23: 12it [00:11,  1.69it/s]4)\u001b[0m \n",
      "Val Epoch:23: 14it [00:11,  2.85it/s]4)\u001b[0m \n",
      "Val Epoch:23: 15it [00:12,  1.89it/s]4)\u001b[0m \n",
      "Val Epoch:23: 16it [00:12,  2.27it/s]4)\u001b[0m \n"
     ]
    },
    {
     "name": "stdout",
     "output_type": "stream",
     "text": [
      "\u001b[36m(tune_with_parameters pid=2992529)\u001b[0m loss: 0.590\n"
     ]
    },
    {
     "name": "stderr",
     "output_type": "stream",
     "text": [
      "Val Epoch:23: 17it [00:12,  2.14it/s]4)\u001b[0m \n",
      "Val Epoch:7: 0it [00:00, ?it/s]2992472)\u001b[0m \n",
      "Val Epoch:23: 18it [00:14,  1.16it/s]4)\u001b[0m \n",
      "Val Epoch:23: 19it [00:15,  1.33it/s]4)\u001b[0m \n",
      "Val Epoch:23: 20it [00:15,  1.55it/s]4)\u001b[0m \n",
      "Val Epoch:23: 22it [00:15,  2.55it/s]4)\u001b[0m \n",
      "Val Epoch:23: 23it [00:16,  2.89it/s]4)\u001b[0m \n",
      "Val Epoch:23: 24it [00:16,  3.35it/s]4)\u001b[0m \n",
      "Val Epoch:23: 25it [00:17,  2.12it/s]4)\u001b[0m \n",
      "Val Epoch:7: 6it [00:05,  2.05it/s]\u001b[32m [repeated 11x across cluster]\u001b[0m\n",
      "Val Epoch:7: 35it [00:11,  5.05it/s]\u001b[32m [repeated 26x across cluster]\u001b[0m\n",
      "Val Epoch:7: 49it [00:17,  1.23it/s]\u001b[32m [repeated 13x across cluster]\u001b[0m\n"
     ]
    },
    {
     "name": "stdout",
     "output_type": "stream",
     "text": [
      "\u001b[36m(tune_with_parameters pid=2878214)\u001b[0m loss: 0.569\n",
      "\u001b[36m(tune_with_parameters pid=2992472)\u001b[0m loss: 0.604\n"
     ]
    },
    {
     "name": "stderr",
     "output_type": "stream",
     "text": [
      "Val Epoch:54: 0it [00:00, ?it/s]663640)\u001b[0m \n",
      "Val Epoch:7: 50it [00:19,  2.62it/s]\u001b[32m [repeated 2x across cluster]\u001b[0m\n",
      "Val Epoch:54: 9it [00:05,  3.06it/s]\u001b[32m [repeated 6x across cluster]\u001b[0m\n",
      "Val Epoch:54: 33it [00:10,  2.95it/s]\u001b[32m [repeated 12x across cluster]\u001b[0m\n"
     ]
    },
    {
     "name": "stdout",
     "output_type": "stream",
     "text": [
      "\u001b[36m(tune_with_parameters pid=2992529)\u001b[0m loss: 0.586\u001b[32m [repeated 2x across cluster]\u001b[0m\n"
     ]
    },
    {
     "name": "stderr",
     "output_type": "stream",
     "text": [
      "Val Epoch:54: 48it [00:16,  3.68it/s]\u001b[32m [repeated 12x across cluster]\u001b[0m\n"
     ]
    },
    {
     "name": "stdout",
     "output_type": "stream",
     "text": [
      "\u001b[36m(tune_with_parameters pid=2663640)\u001b[0m loss: 0.591\n",
      "\u001b[36m(tune_with_parameters pid=2878214)\u001b[0m loss: 0.584\n",
      "\u001b[36m(tune_with_parameters pid=2992472)\u001b[0m loss: 0.584\n",
      "\u001b[36m(tune_with_parameters pid=2992529)\u001b[0m loss: 0.586\n",
      "\u001b[36m(tune_with_parameters pid=2663640)\u001b[0m loss: 0.587\n",
      "\u001b[36m(tune_with_parameters pid=2878214)\u001b[0m loss: 0.586\n"
     ]
    },
    {
     "name": "stderr",
     "output_type": "stream",
     "text": [
      "Val Epoch:8: 0it [00:00, ?it/s]2992529)\u001b[0m \n",
      "Val Epoch:54: 50it [00:19,  2.61it/s]\u001b[32m [repeated 3x across cluster]\u001b[0m\n",
      "Val Epoch:8: 3it [00:05,  1.33s/it]\u001b[32m [repeated 3x across cluster]\u001b[0m\n"
     ]
    },
    {
     "name": "stdout",
     "output_type": "stream",
     "text": [
      "\u001b[36m(tune_with_parameters pid=2992472)\u001b[0m loss: 0.582\n"
     ]
    },
    {
     "name": "stderr",
     "output_type": "stream",
     "text": [
      "Val Epoch:8: 23it [00:10,  6.83it/s]\u001b[32m [repeated 17x across cluster]\u001b[0m\n",
      "Val Epoch:8: 49it [00:16,  2.06it/s]\u001b[32m [repeated 16x across cluster]\u001b[0m\n",
      "Val Epoch:24: 0it [00:00, ?it/s]878214)\u001b[0m \n",
      "Val Epoch:8: 50it [00:17,  2.81it/s]29)\u001b[0m \n",
      "Val Epoch:24: 1it [00:05,  5.44s/it]14)\u001b[0m \n",
      "Val Epoch:24: 2it [00:06,  2.68s/it]14)\u001b[0m \n",
      "Val Epoch:24: 3it [00:07,  1.94s/it]14)\u001b[0m \n",
      "Val Epoch:24: 4it [00:08,  1.53s/it]14)\u001b[0m \n",
      "Val Epoch:24: 5it [00:08,  1.05s/it]14)\u001b[0m \n",
      "Val Epoch:24: 7it [00:08,  1.80it/s]14)\u001b[0m \n",
      "Val Epoch:24: 8it [00:09,  1.82it/s]14)\u001b[0m \n",
      "Val Epoch:24: 9it [00:10,  1.23it/s]14)\u001b[0m \n",
      "Val Epoch:24: 10it [00:11,  1.34it/s]4)\u001b[0m \n",
      "Val Epoch:24: 11it [00:11,  1.62it/s]4)\u001b[0m \n",
      "Val Epoch:24: 13it [00:12,  2.08it/s]4)\u001b[0m \n",
      "Val Epoch:24: 14it [00:12,  2.47it/s]4)\u001b[0m \n",
      "Val Epoch:24: 15it [00:12,  2.80it/s]4)\u001b[0m \n",
      "Val Epoch:8: 0it [00:00, ?it/s]2992472)\u001b[0m \n",
      "Val Epoch:24: 16it [00:12,  2.96it/s]4)\u001b[0m \n"
     ]
    },
    {
     "name": "stdout",
     "output_type": "stream",
     "text": [
      "\u001b[36m(tune_with_parameters pid=2992529)\u001b[0m loss: 0.607\n"
     ]
    },
    {
     "name": "stderr",
     "output_type": "stream",
     "text": [
      "Val Epoch:24: 17it [00:15,  1.11it/s]4)\u001b[0m \n",
      "Val Epoch:24: 20it [00:15,  2.22it/s]4)\u001b[0m \n",
      "Val Epoch:24: 25it [00:16,  3.29it/s]\u001b[32m [repeated 6x across cluster]\u001b[0m\n",
      "Val Epoch:8: 29it [00:08,  5.08it/s]\u001b[32m [repeated 35x across cluster]\u001b[0m\n",
      "Val Epoch:8: 41it [00:14,  2.37it/s]\u001b[32m [repeated 10x across cluster]\u001b[0m\n"
     ]
    },
    {
     "name": "stdout",
     "output_type": "stream",
     "text": [
      "\u001b[36m(tune_with_parameters pid=2878214)\u001b[0m loss: 0.578\n",
      "\u001b[36m(tune_with_parameters pid=2992472)\u001b[0m loss: 0.585\n"
     ]
    },
    {
     "name": "stderr",
     "output_type": "stream",
     "text": [
      "Val Epoch:55: 0it [00:00, ?it/s]663640)\u001b[0m \n",
      "Val Epoch:8: 50it [00:18,  2.65it/s]\u001b[32m [repeated 8x across cluster]\u001b[0m\n",
      "Val Epoch:55: 17it [00:05,  4.05it/s]\u001b[32m [repeated 10x across cluster]\u001b[0m\n",
      "Val Epoch:55: 33it [00:11,  1.40it/s]\u001b[32m [repeated 13x across cluster]\u001b[0m\n"
     ]
    },
    {
     "name": "stdout",
     "output_type": "stream",
     "text": [
      "\u001b[36m(tune_with_parameters pid=2992529)\u001b[0m loss: 0.585\u001b[32m [repeated 2x across cluster]\u001b[0m\n"
     ]
    },
    {
     "name": "stderr",
     "output_type": "stream",
     "text": [
      "Val Epoch:55: 49it [00:18,  2.14it/s]\u001b[32m [repeated 14x across cluster]\u001b[0m\n"
     ]
    },
    {
     "name": "stdout",
     "output_type": "stream",
     "text": [
      "\u001b[36m(tune_with_parameters pid=2663640)\u001b[0m loss: 0.598\n",
      "\u001b[36m(tune_with_parameters pid=2878214)\u001b[0m loss: 0.587\n",
      "\u001b[36m(tune_with_parameters pid=2992472)\u001b[0m loss: 0.582\n",
      "\u001b[36m(tune_with_parameters pid=2992529)\u001b[0m loss: 0.586\n",
      "\u001b[36m(tune_with_parameters pid=2663640)\u001b[0m loss: 0.587\n"
     ]
    },
    {
     "name": "stderr",
     "output_type": "stream",
     "text": [
      "Val Epoch:9: 0it [00:00, ?it/s]2992529)\u001b[0m \n",
      "Val Epoch:55: 50it [00:19,  2.59it/s]\u001b[32m [repeated 2x across cluster]\u001b[0m\n"
     ]
    },
    {
     "name": "stdout",
     "output_type": "stream",
     "text": [
      "\u001b[36m(tune_with_parameters pid=2878214)\u001b[0m loss: 0.586\n"
     ]
    },
    {
     "name": "stderr",
     "output_type": "stream",
     "text": [
      "Val Epoch:9: 13it [00:05,  5.11it/s]\u001b[32m [repeated 10x across cluster]\u001b[0m\n"
     ]
    },
    {
     "name": "stdout",
     "output_type": "stream",
     "text": [
      "\u001b[36m(tune_with_parameters pid=2992472)\u001b[0m loss: 0.581\n"
     ]
    },
    {
     "name": "stderr",
     "output_type": "stream",
     "text": [
      "Val Epoch:9: 32it [00:10,  3.97it/s]\u001b[32m [repeated 17x across cluster]\u001b[0m\n",
      "Val Epoch:9: 49it [00:15,  3.57it/s]\u001b[32m [repeated 13x across cluster]\u001b[0m\n",
      "Val Epoch:25: 0it [00:00, ?it/s]878214)\u001b[0m \n",
      "Val Epoch:9: 50it [00:16,  3.01it/s]29)\u001b[0m \n",
      "Val Epoch:25: 1it [00:05,  5.63s/it]14)\u001b[0m \n",
      "Val Epoch:25: 2it [00:06,  2.57s/it]14)\u001b[0m \n",
      "Val Epoch:25: 3it [00:06,  1.49s/it]14)\u001b[0m \n",
      "Val Epoch:25: 6it [00:06,  1.67it/s]14)\u001b[0m \n"
     ]
    },
    {
     "name": "stdout",
     "output_type": "stream",
     "text": [
      "\u001b[36m(tune_with_parameters pid=2992529)\u001b[0m loss: 0.581\n"
     ]
    },
    {
     "name": "stderr",
     "output_type": "stream",
     "text": [
      "Val Epoch:25: 7it [00:06,  1.90it/s]14)\u001b[0m \n",
      "Val Epoch:25: 8it [00:07,  2.38it/s]14)\u001b[0m \n",
      "Val Epoch:25: 9it [00:07,  2.88it/s]14)\u001b[0m \n",
      "Val Epoch:25: 10it [00:07,  2.31it/s]4)\u001b[0m \n",
      "Val Epoch:25: 11it [00:08,  2.62it/s]4)\u001b[0m \n",
      "Val Epoch:25: 13it [00:08,  3.67it/s]4)\u001b[0m \n",
      "Val Epoch:9: 0it [00:00, ?it/s]2992472)\u001b[0m \n",
      "Val Epoch:25: 15it [00:08,  4.50it/s]4)\u001b[0m \n",
      "Val Epoch:25: 17it [00:08,  5.61it/s]4)\u001b[0m \n",
      "Val Epoch:25: 18it [00:09,  3.88it/s]4)\u001b[0m \n",
      "Val Epoch:25: 20it [00:09,  5.15it/s]4)\u001b[0m \n",
      "Val Epoch:25: 21it [00:09,  5.69it/s]4)\u001b[0m \n",
      "Val Epoch:25: 25it [00:10,  4.94it/s]\u001b[32m [repeated 5x across cluster]\u001b[0m\n",
      "Val Epoch:9: 20it [00:07,  2.17it/s]\u001b[32m [repeated 24x across cluster]\u001b[0m\n",
      "Val Epoch:9: 34it [00:14,  1.26it/s]\u001b[32m [repeated 23x across cluster]\u001b[0m\n",
      "Val Epoch:9: 47it [00:19,  2.45it/s]\u001b[32m [repeated 13x across cluster]\u001b[0m\n"
     ]
    },
    {
     "name": "stdout",
     "output_type": "stream",
     "text": [
      "\u001b[36m(tune_with_parameters pid=2878214)\u001b[0m loss: 0.619\n",
      "\u001b[36m(tune_with_parameters pid=2992472)\u001b[0m loss: 0.568\n"
     ]
    },
    {
     "name": "stderr",
     "output_type": "stream",
     "text": [
      "Val Epoch:56: 0it [00:00, ?it/s]663640)\u001b[0m \n",
      "Val Epoch:9: 50it [00:22,  2.26it/s]\u001b[32m [repeated 3x across cluster]\u001b[0m\n",
      "Val Epoch:56: 13it [00:04,  3.50it/s]\u001b[32m [repeated 10x across cluster]\u001b[0m\n",
      "Val Epoch:56: 25it [00:11,  1.60it/s]\u001b[32m [repeated 11x across cluster]\u001b[0m\n"
     ]
    },
    {
     "name": "stdout",
     "output_type": "stream",
     "text": [
      "\u001b[36m(tune_with_parameters pid=2992529)\u001b[0m loss: 0.588\u001b[32m [repeated 2x across cluster]\u001b[0m\n"
     ]
    },
    {
     "name": "stderr",
     "output_type": "stream",
     "text": [
      "Val Epoch:56: 36it [00:16,  2.11it/s]\u001b[32m [repeated 10x across cluster]\u001b[0m\n",
      "Val Epoch:56: 49it [00:21,  1.88it/s]\u001b[32m [repeated 11x across cluster]\u001b[0m\n"
     ]
    },
    {
     "name": "stdout",
     "output_type": "stream",
     "text": [
      "\u001b[36m(tune_with_parameters pid=2663640)\u001b[0m loss: 0.598\n",
      "\u001b[36m(tune_with_parameters pid=2878214)\u001b[0m loss: 0.588\n",
      "\u001b[36m(tune_with_parameters pid=2992472)\u001b[0m loss: 0.578\n",
      "\u001b[36m(tune_with_parameters pid=2992529)\u001b[0m loss: 0.586\n",
      "\u001b[36m(tune_with_parameters pid=2663640)\u001b[0m loss: 0.585\n"
     ]
    },
    {
     "name": "stderr",
     "output_type": "stream",
     "text": [
      "Val Epoch:10: 0it [00:00, ?it/s]992529)\u001b[0m \n",
      "Val Epoch:56: 50it [00:23,  2.17it/s]\u001b[32m [repeated 2x across cluster]\u001b[0m\n"
     ]
    },
    {
     "name": "stdout",
     "output_type": "stream",
     "text": [
      "\u001b[36m(tune_with_parameters pid=2878214)\u001b[0m loss: 0.587\n"
     ]
    },
    {
     "name": "stderr",
     "output_type": "stream",
     "text": [
      "Val Epoch:10: 18it [00:05,  5.00it/s]\u001b[32m [repeated 13x across cluster]\u001b[0m\n",
      "Val Epoch:10: 27it [00:10,  1.60it/s]\u001b[32m [repeated 9x across cluster]\u001b[0m\n",
      "Val Epoch:10: 41it [00:15,  2.25it/s]\u001b[32m [repeated 13x across cluster]\u001b[0m\n",
      "Val Epoch:26: 0it [00:00, ?it/s]878214)\u001b[0m \n",
      "Val Epoch:10: 50it [00:20,  2.48it/s]\u001b[32m [repeated 8x across cluster]\u001b[0m\n"
     ]
    },
    {
     "name": "stdout",
     "output_type": "stream",
     "text": [
      "\u001b[36m(tune_with_parameters pid=2992529)\u001b[0m loss: 0.628\u001b[32m [repeated 2x across cluster]\u001b[0m\n"
     ]
    },
    {
     "name": "stderr",
     "output_type": "stream",
     "text": [
      "Val Epoch:26: 17it [00:05,  3.78it/s]\u001b[32m [repeated 12x across cluster]\u001b[0m\n",
      "Val Epoch:10: 0it [00:00, ?it/s]992472)\u001b[0m \n",
      "Val Epoch:26: 31it [00:10,  2.89it/s]\u001b[32m [repeated 14x across cluster]\u001b[0m\n",
      "Val Epoch:10: 16it [00:10,  2.43it/s]\u001b[32m [repeated 20x across cluster]\u001b[0m\n",
      "Val Epoch:26: 50it [00:21,  2.38it/s]\u001b[32m [repeated 21x across cluster]\u001b[0m\n",
      "Val Epoch:10: 36it [00:20,  1.32it/s]\u001b[32m [repeated 9x across cluster]\u001b[0m\n"
     ]
    },
    {
     "name": "stdout",
     "output_type": "stream",
     "text": [
      "\u001b[36m(tune_with_parameters pid=2878214)\u001b[0m loss: 0.574\n",
      "\u001b[36m(tune_with_parameters pid=2663640)\u001b[0m loss: 0.586\n"
     ]
    },
    {
     "name": "stderr",
     "output_type": "stream",
     "text": [
      "Val Epoch:57: 0it [00:00, ?it/s]663640)\u001b[0m \n",
      "Val Epoch:10: 50it [00:25,  1.93it/s]\u001b[32m [repeated 13x across cluster]\u001b[0m\n",
      "Val Epoch:57: 9it [00:06,  1.55it/s]\u001b[32m [repeated 8x across cluster]\u001b[0m\n",
      "Val Epoch:57: 21it [00:11,  2.67it/s]\u001b[32m [repeated 12x across cluster]\u001b[0m\n",
      "Val Epoch:57: 28it [00:14,  2.75it/s]0)\u001b[0m \n",
      "Val Epoch:57: 33it [00:18,  1.01it/s]\u001b[32m [repeated 10x across cluster]\u001b[0m\n"
     ]
    },
    {
     "name": "stdout",
     "output_type": "stream",
     "text": [
      "\u001b[36m(tune_with_parameters pid=2992529)\u001b[0m loss: 0.585\u001b[32m [repeated 2x across cluster]\u001b[0m\n"
     ]
    },
    {
     "name": "stderr",
     "output_type": "stream",
     "text": [
      "Val Epoch:57: 49it [00:25,  1.61it/s]\u001b[32m [repeated 13x across cluster]\u001b[0m\n"
     ]
    },
    {
     "name": "stdout",
     "output_type": "stream",
     "text": [
      "\u001b[36m(tune_with_parameters pid=2663640)\u001b[0m loss: 0.595\n",
      "\u001b[36m(tune_with_parameters pid=2878214)\u001b[0m loss: 0.588\n",
      "\u001b[36m(tune_with_parameters pid=2992472)\u001b[0m loss: 0.577\n",
      "\u001b[36m(tune_with_parameters pid=2992529)\u001b[0m loss: 0.586\n",
      "\u001b[36m(tune_with_parameters pid=2663640)\u001b[0m loss: 0.586\n"
     ]
    },
    {
     "name": "stderr",
     "output_type": "stream",
     "text": [
      "Val Epoch:11: 0it [00:00, ?it/s]992529)\u001b[0m \n",
      "Val Epoch:57: 50it [00:25,  1.95it/s]0)\u001b[0m \n"
     ]
    },
    {
     "name": "stdout",
     "output_type": "stream",
     "text": [
      "\u001b[36m(tune_with_parameters pid=2878214)\u001b[0m loss: 0.587\n"
     ]
    },
    {
     "name": "stderr",
     "output_type": "stream",
     "text": [
      "Val Epoch:11: 1it [00:02,  2.29s/it]29)\u001b[0m \n",
      "Val Epoch:11: 2it [00:02,  1.07s/it]29)\u001b[0m \n",
      "Val Epoch:11: 3it [00:02,  1.38it/s]29)\u001b[0m \n",
      "Val Epoch:11: 4it [00:03,  1.29it/s]29)\u001b[0m \n",
      "Val Epoch:11: 6it [00:04,  1.73it/s]29)\u001b[0m \n",
      "Val Epoch:11: 7it [00:05,  1.60it/s]29)\u001b[0m \n",
      "Val Epoch:11: 9it [00:05,  1.94it/s]29)\u001b[0m \n",
      "Val Epoch:11: 11it [00:06,  2.59it/s]9)\u001b[0m \n",
      "Val Epoch:11: 12it [00:06,  3.03it/s]9)\u001b[0m \n",
      "Val Epoch:11: 13it [00:07,  2.02it/s]9)\u001b[0m \n",
      "Val Epoch:11: 15it [00:08,  2.30it/s]9)\u001b[0m \n",
      "Val Epoch:11: 17it [00:09,  1.69it/s]9)\u001b[0m \n",
      "Val Epoch:11: 19it [00:10,  2.09it/s]9)\u001b[0m \n",
      "Val Epoch:11: 21it [00:11,  2.28it/s]9)\u001b[0m \n",
      "Val Epoch:11: 22it [00:11,  2.19it/s]9)\u001b[0m \n",
      "Val Epoch:11: 23it [00:12,  2.23it/s]9)\u001b[0m \n"
     ]
    },
    {
     "name": "stdout",
     "output_type": "stream",
     "text": [
      "\u001b[36m(tune_with_parameters pid=2992472)\u001b[0m loss: 0.576\n"
     ]
    },
    {
     "name": "stderr",
     "output_type": "stream",
     "text": [
      "Val Epoch:11: 25it [00:14,  1.36it/s]9)\u001b[0m \n",
      "Val Epoch:11: 27it [00:14,  1.95it/s]9)\u001b[0m \n",
      "Val Epoch:11: 28it [00:14,  2.22it/s]9)\u001b[0m \n",
      "Val Epoch:11: 29it [00:17,  1.18it/s]9)\u001b[0m \n",
      "Val Epoch:11: 30it [00:17,  1.47it/s]9)\u001b[0m \n",
      "Val Epoch:11: 31it [00:17,  1.68it/s]9)\u001b[0m \n",
      "Val Epoch:11: 32it [00:17,  2.08it/s]9)\u001b[0m \n",
      "Val Epoch:11: 33it [00:18,  1.86it/s]9)\u001b[0m \n",
      "Val Epoch:11: 34it [00:18,  2.32it/s]9)\u001b[0m \n",
      "Val Epoch:11: 35it [00:18,  2.86it/s]9)\u001b[0m \n",
      "Val Epoch:11: 36it [00:18,  3.45it/s]9)\u001b[0m \n",
      "Val Epoch:11: 37it [00:19,  2.66it/s]9)\u001b[0m \n",
      "Val Epoch:11: 40it [00:19,  4.21it/s]9)\u001b[0m \n",
      "Val Epoch:11: 41it [00:21,  2.15it/s]9)\u001b[0m \n",
      "Val Epoch:11: 42it [00:21,  2.34it/s]9)\u001b[0m \n",
      "Val Epoch:11: 43it [00:21,  2.14it/s]9)\u001b[0m \n",
      "Val Epoch:11: 44it [00:22,  2.76it/s]9)\u001b[0m \n",
      "Val Epoch:11: 46it [00:22,  4.06it/s]9)\u001b[0m \n",
      "Val Epoch:11: 47it [00:22,  3.27it/s]9)\u001b[0m \n",
      "Val Epoch:11: 48it [00:23,  3.05it/s]9)\u001b[0m \n",
      "Val Epoch:11: 49it [00:25,  1.35it/s]9)\u001b[0m \n",
      "Val Epoch:11: 50it [00:25,  1.94it/s]9)\u001b[0m \n",
      "Val Epoch:27: 0it [00:00, ?it/s]878214)\u001b[0m \n",
      "Val Epoch:27: 1it [00:02,  2.15s/it]14)\u001b[0m \n",
      "Val Epoch:27: 2it [00:03,  1.59s/it]14)\u001b[0m \n",
      "Val Epoch:27: 3it [00:03,  1.09it/s]14)\u001b[0m \n",
      "Val Epoch:27: 4it [00:04,  1.09it/s]14)\u001b[0m \n",
      "Val Epoch:27: 6it [00:04,  2.19it/s]14)\u001b[0m \n",
      "Val Epoch:27: 7it [00:04,  2.47it/s]14)\u001b[0m \n",
      "Val Epoch:27: 9it [00:05,  2.62it/s]14)\u001b[0m \n",
      "Val Epoch:27: 10it [00:07,  1.24it/s]4)\u001b[0m \n"
     ]
    },
    {
     "name": "stdout",
     "output_type": "stream",
     "text": [
      "\u001b[36m(tune_with_parameters pid=2992529)\u001b[0m loss: 0.630\n"
     ]
    },
    {
     "name": "stderr",
     "output_type": "stream",
     "text": [
      "Val Epoch:27: 12it [00:07,  1.93it/s]4)\u001b[0m \n",
      "Val Epoch:27: 13it [00:07,  2.30it/s]4)\u001b[0m \n",
      "Val Epoch:27: 15it [00:08,  3.40it/s]4)\u001b[0m \n",
      "Val Epoch:27: 16it [00:08,  2.36it/s]4)\u001b[0m \n",
      "Val Epoch:27: 17it [00:09,  1.87it/s]4)\u001b[0m \n",
      "Val Epoch:27: 18it [00:10,  1.77it/s]4)\u001b[0m \n",
      "Val Epoch:27: 19it [00:10,  2.22it/s]4)\u001b[0m \n",
      "Val Epoch:27: 20it [00:11,  2.15it/s]4)\u001b[0m \n",
      "Val Epoch:27: 21it [00:11,  2.62it/s]4)\u001b[0m \n",
      "Val Epoch:11: 0it [00:00, ?it/s]992472)\u001b[0m \n",
      "Val Epoch:27: 23it [00:11,  3.88it/s]4)\u001b[0m \n",
      "Val Epoch:27: 24it [00:11,  4.06it/s]4)\u001b[0m \n",
      "Val Epoch:27: 25it [00:12,  1.99it/s]4)\u001b[0m \n",
      "Val Epoch:27: 26it [00:13,  2.04it/s]4)\u001b[0m \n",
      "Val Epoch:27: 27it [00:13,  2.46it/s]4)\u001b[0m \n",
      "Val Epoch:27: 28it [00:13,  3.00it/s]4)\u001b[0m \n",
      "Val Epoch:27: 29it [00:13,  3.41it/s]4)\u001b[0m \n",
      "Val Epoch:27: 31it [00:14,  3.19it/s]4)\u001b[0m \n",
      "Val Epoch:27: 40it [00:18,  2.93it/s]\u001b[32m [repeated 15x across cluster]\u001b[0m\n",
      "Val Epoch:11: 23it [00:12,  2.50it/s]\u001b[32m [repeated 24x across cluster]\u001b[0m\n",
      "Val Epoch:11: 36it [00:17,  3.61it/s]\u001b[32m [repeated 11x across cluster]\u001b[0m\n"
     ]
    },
    {
     "name": "stdout",
     "output_type": "stream",
     "text": [
      "\u001b[36m(tune_with_parameters pid=2878214)\u001b[0m loss: 0.554\n",
      "\u001b[36m(tune_with_parameters pid=2663640)\u001b[0m loss: 0.586\n"
     ]
    },
    {
     "name": "stderr",
     "output_type": "stream",
     "text": [
      "Val Epoch:58: 0it [00:00, ?it/s]663640)\u001b[0m \n",
      "Val Epoch:11: 50it [00:21,  2.35it/s]\u001b[32m [repeated 12x across cluster]\u001b[0m\n",
      "Val Epoch:58: 2it [00:05,  2.49s/it]\u001b[32m [repeated 2x across cluster]\u001b[0m\n",
      "Val Epoch:58: 17it [00:11,  1.84it/s]\u001b[32m [repeated 11x across cluster]\u001b[0m\n",
      "Val Epoch:58: 29it [00:17,  2.03it/s]\u001b[32m [repeated 10x across cluster]\u001b[0m\n"
     ]
    },
    {
     "name": "stdout",
     "output_type": "stream",
     "text": [
      "\u001b[36m(tune_with_parameters pid=2992529)\u001b[0m loss: 0.587\u001b[32m [repeated 2x across cluster]\u001b[0m\n"
     ]
    },
    {
     "name": "stderr",
     "output_type": "stream",
     "text": [
      "Val Epoch:58: 50it [00:22,  2.25it/s]\u001b[32m [repeated 13x across cluster]\u001b[0m\n"
     ]
    },
    {
     "name": "stdout",
     "output_type": "stream",
     "text": [
      "\u001b[36m(tune_with_parameters pid=2663640)\u001b[0m loss: 0.591\n",
      "\u001b[36m(tune_with_parameters pid=2878214)\u001b[0m loss: 0.587\n",
      "\u001b[36m(tune_with_parameters pid=2992472)\u001b[0m loss: 0.573\n",
      "\u001b[36m(tune_with_parameters pid=2992529)\u001b[0m loss: 0.586\n",
      "\u001b[36m(tune_with_parameters pid=2663640)\u001b[0m loss: 0.586\n"
     ]
    },
    {
     "name": "stderr",
     "output_type": "stream",
     "text": [
      "Val Epoch:12: 0it [00:00, ?it/s]992529)\u001b[0m \n"
     ]
    },
    {
     "name": "stdout",
     "output_type": "stream",
     "text": [
      "\u001b[36m(tune_with_parameters pid=2878214)\u001b[0m loss: 0.587\n"
     ]
    },
    {
     "name": "stderr",
     "output_type": "stream",
     "text": [
      "Val Epoch:12: 1it [00:04,  4.74s/it]29)\u001b[0m \n",
      "Val Epoch:12: 2it [00:04,  2.07s/it]29)\u001b[0m \n",
      "Val Epoch:12: 3it [00:05,  1.21s/it]29)\u001b[0m \n",
      "Val Epoch:12: 4it [00:05,  1.26it/s]29)\u001b[0m \n",
      "Val Epoch:12: 5it [00:05,  1.49it/s]29)\u001b[0m \n",
      "Val Epoch:12: 6it [00:05,  2.04it/s]29)\u001b[0m \n",
      "Val Epoch:12: 7it [00:06,  1.83it/s]29)\u001b[0m \n",
      "Val Epoch:12: 8it [00:06,  2.07it/s]29)\u001b[0m \n",
      "Val Epoch:12: 9it [00:08,  1.24it/s]29)\u001b[0m \n",
      "Val Epoch:12: 11it [00:08,  1.98it/s]9)\u001b[0m \n",
      "Val Epoch:12: 12it [00:08,  2.44it/s]9)\u001b[0m \n",
      "Val Epoch:12: 13it [00:09,  2.39it/s]9)\u001b[0m \n",
      "Val Epoch:12: 14it [00:09,  2.81it/s]9)\u001b[0m \n",
      "Val Epoch:12: 15it [00:10,  2.25it/s]9)\u001b[0m \n",
      "Val Epoch:12: 16it [00:10,  2.41it/s]9)\u001b[0m \n",
      "Val Epoch:12: 17it [00:12,  1.09it/s]9)\u001b[0m \n",
      "Val Epoch:12: 18it [00:12,  1.41it/s]9)\u001b[0m \n",
      "Val Epoch:12: 20it [00:13,  2.32it/s]9)\u001b[0m \n",
      "Val Epoch:12: 21it [00:13,  1.93it/s]9)\u001b[0m \n",
      "Val Epoch:12: 22it [00:14,  2.32it/s]9)\u001b[0m \n",
      "Val Epoch:12: 23it [00:14,  2.31it/s]9)\u001b[0m \n",
      "Val Epoch:12: 24it [00:14,  2.77it/s]9)\u001b[0m \n",
      "Val Epoch:12: 25it [00:15,  1.72it/s]9)\u001b[0m \n",
      "Val Epoch:12: 26it [00:15,  2.17it/s]9)\u001b[0m \n",
      "Val Epoch:12: 27it [00:16,  2.61it/s]9)\u001b[0m \n"
     ]
    },
    {
     "name": "stdout",
     "output_type": "stream",
     "text": [
      "\u001b[36m(tune_with_parameters pid=2992472)\u001b[0m loss: 0.572\n"
     ]
    },
    {
     "name": "stderr",
     "output_type": "stream",
     "text": [
      "Val Epoch:12: 28it [00:16,  3.11it/s]9)\u001b[0m \n",
      "Val Epoch:12: 29it [00:16,  3.68it/s]9)\u001b[0m \n",
      "Val Epoch:12: 30it [00:16,  2.87it/s]9)\u001b[0m \n",
      "Val Epoch:12: 31it [00:17,  3.03it/s]9)\u001b[0m \n",
      "Val Epoch:12: 33it [00:18,  2.25it/s]9)\u001b[0m \n",
      "Val Epoch:12: 34it [00:18,  2.77it/s]9)\u001b[0m \n",
      "Val Epoch:12: 36it [00:18,  3.85it/s]9)\u001b[0m \n",
      "Val Epoch:12: 37it [00:19,  3.81it/s]9)\u001b[0m \n",
      "Val Epoch:12: 38it [00:19,  4.31it/s]9)\u001b[0m \n",
      "Val Epoch:12: 40it [00:19,  6.16it/s]9)\u001b[0m \n",
      "Val Epoch:12: 41it [00:20,  3.25it/s]9)\u001b[0m \n",
      "Val Epoch:12: 43it [00:20,  4.76it/s]9)\u001b[0m \n",
      "Val Epoch:12: 46it [00:20,  7.56it/s]9)\u001b[0m \n",
      "Val Epoch:12: 49it [00:20,  6.83it/s]9)\u001b[0m \n",
      "Val Epoch:12: 50it [00:21,  2.35it/s]9)\u001b[0m \n",
      "Val Epoch:28: 0it [00:00, ?it/s]878214)\u001b[0m \n"
     ]
    },
    {
     "name": "stdout",
     "output_type": "stream",
     "text": [
      "\u001b[36m(tune_with_parameters pid=2992529)\u001b[0m loss: 0.559\n"
     ]
    },
    {
     "name": "stderr",
     "output_type": "stream",
     "text": [
      "Val Epoch:28: 1it [00:04,  4.03s/it]14)\u001b[0m \n",
      "Val Epoch:28: 2it [00:05,  2.65s/it]14)\u001b[0m \n",
      "Val Epoch:28: 3it [00:05,  1.53s/it]14)\u001b[0m \n",
      "Val Epoch:28: 4it [00:06,  1.00it/s]14)\u001b[0m \n",
      "Val Epoch:28: 5it [00:06,  1.19it/s]14)\u001b[0m \n",
      "Val Epoch:28: 6it [00:07,  1.48it/s]14)\u001b[0m \n",
      "Val Epoch:28: 7it [00:07,  1.95it/s]14)\u001b[0m \n",
      "Val Epoch:28: 8it [00:07,  1.83it/s]14)\u001b[0m \n",
      "Val Epoch:28: 9it [00:08,  1.36it/s]14)\u001b[0m \n",
      "Val Epoch:28: 10it [00:10,  1.20it/s]4)\u001b[0m \n",
      "Val Epoch:28: 12it [00:10,  1.80it/s]4)\u001b[0m \n",
      "Val Epoch:28: 13it [00:10,  2.18it/s]4)\u001b[0m \n",
      "Val Epoch:28: 14it [00:10,  2.57it/s]4)\u001b[0m \n",
      "Val Epoch:28: 15it [00:11,  2.80it/s]4)\u001b[0m \n",
      "Val Epoch:28: 16it [00:11,  2.33it/s]4)\u001b[0m \n",
      "Val Epoch:12: 0it [00:00, ?it/s]992472)\u001b[0m \n",
      "Val Epoch:28: 17it [00:14,  1.00it/s]4)\u001b[0m \n",
      "Val Epoch:28: 18it [00:15,  1.04it/s]4)\u001b[0m \n",
      "Val Epoch:28: 22it [00:15,  2.51it/s]4)\u001b[0m \n",
      "Val Epoch:28: 23it [00:15,  2.81it/s]4)\u001b[0m \n",
      "Val Epoch:28: 24it [00:15,  2.85it/s]4)\u001b[0m \n",
      "Val Epoch:28: 25it [00:17,  1.32it/s]4)\u001b[0m \n",
      "Val Epoch:28: 50it [00:23,  2.17it/s]\u001b[32m [repeated 31x across cluster]\u001b[0m\n",
      "\u001b[36m(tune_with_parameters pid=2878214)\u001b[0m [2024-07-30 16:48:01,994 E 2878214 2880085] logging.cc:115: Stack trace: \n",
      "\u001b[36m(tune_with_parameters pid=2878214)\u001b[0m  /users/k23058970/miniforge3/envs/Training/lib/python3.10/site-packages/ray/_raylet.so(+0x1033f2a) [0x7f21348d8f2a] ray::operator<<()\n",
      "\u001b[36m(tune_with_parameters pid=2878214)\u001b[0m /users/k23058970/miniforge3/envs/Training/lib/python3.10/site-packages/ray/_raylet.so(+0x1036f72) [0x7f21348dbf72] ray::TerminateHandler()\n",
      "\u001b[36m(tune_with_parameters pid=2878214)\u001b[0m /users/k23058970/miniforge3/envs/Training/bin/../lib/libstdc++.so.6(+0xb643c) [0x7f213377843c] __cxxabiv1::__terminate()\n",
      "\u001b[36m(tune_with_parameters pid=2878214)\u001b[0m /users/k23058970/miniforge3/envs/Training/bin/../lib/libstdc++.so.6(+0xb648e) [0x7f213377848e] __cxxabiv1::__unexpected()\n",
      "\u001b[36m(tune_with_parameters pid=2878214)\u001b[0m /users/k23058970/miniforge3/envs/Training/bin/../lib/libstdc++.so.6(__gxx_personality_v0+0x3e0) [0x7f2133778109] __gxx_personality_v0\n",
      "\u001b[36m(tune_with_parameters pid=2878214)\u001b[0m /users/k23058970/miniforge3/envs/Training/bin/../lib/libgcc_s.so.1(+0x12899) [0x7f21359d7899] _Unwind_ForcedUnwind_Phase2\n",
      "\u001b[36m(tune_with_parameters pid=2878214)\u001b[0m /users/k23058970/miniforge3/envs/Training/bin/../lib/libgcc_s.so.1(_Unwind_ForcedUnwind+0x74) [0x7f21359d7bfc] _Unwind_ForcedUnwind\n",
      "\u001b[36m(tune_with_parameters pid=2878214)\u001b[0m /lib/x86_64-linux-gnu/libc.so.6(+0x9d446) [0x7f2135a9d446]\n",
      "\u001b[36m(tune_with_parameters pid=2878214)\u001b[0m /lib/x86_64-linux-gnu/libc.so.6(pthread_exit+0x3a) [0x7f2135a95cba] pthread_exit\n",
      "\u001b[36m(tune_with_parameters pid=2878214)\u001b[0m ray::ImplicitFunc(+0xe929a) [0x63d692eb529a] _append_preinit_entry.isra.0\n",
      "\u001b[36m(tune_with_parameters pid=2878214)\u001b[0m ray::ImplicitFunc(+0x5df15) [0x63d692e29f15] take_gil.cold\n",
      "\u001b[36m(tune_with_parameters pid=2878214)\u001b[0m ray::ImplicitFunc(PyEval_RestoreThread+0x12) [0x63d692f2b622] PyEval_RestoreThread\n",
      "\u001b[36m(tune_with_parameters pid=2878214)\u001b[0m /users/k23058970/miniforge3/envs/Training/lib/python3.10/site-packages/torch/lib/libtorch_python.so(+0x850e77) [0x7ef22405ae77] THPVariable_clear()\n",
      "\u001b[36m(tune_with_parameters pid=2878214)\u001b[0m /users/k23058970/miniforge3/envs/Training/lib/python3.10/site-packages/torch/lib/libtorch_python.so(_Z28THPVariable_subclass_deallocP7_object+0x2f6) [0x7ef22405b406] THPVariable_subclass_dealloc()\n",
      "\u001b[36m(tune_with_parameters pid=2878214)\u001b[0m ray::ImplicitFunc(+0x13d697) [0x63d692f09697] frame_dealloc\n",
      "\u001b[36m(tune_with_parameters pid=2878214)\u001b[0m ray::ImplicitFunc(+0x14dcf6) [0x63d692f19cf6] tb_dealloc\n",
      "\u001b[36m(tune_with_parameters pid=2878214)\u001b[0m ray::ImplicitFunc(+0x14dd53) [0x63d692f19d53] tb_dealloc\n",
      "\u001b[36m(tune_with_parameters pid=2878214)\u001b[0m ray::ImplicitFunc(+0x14dd53) [0x63d692f19d53] tb_dealloc\n",
      "\u001b[36m(tune_with_parameters pid=2878214)\u001b[0m ray::ImplicitFunc(+0x14dd53) [0x63d692f19d53] tb_dealloc\n",
      "\u001b[36m(tune_with_parameters pid=2878214)\u001b[0m ray::ImplicitFunc(+0x14dd53) [0x63d692f19d53] tb_dealloc\n",
      "\u001b[36m(tune_with_parameters pid=2878214)\u001b[0m ray::ImplicitFunc(+0x14dd53) [0x63d692f19d53] tb_dealloc\n",
      "\u001b[36m(tune_with_parameters pid=2878214)\u001b[0m ray::ImplicitFunc(+0x129739) [0x63d692ef5739] BaseException_clear\n",
      "\u001b[36m(tune_with_parameters pid=2878214)\u001b[0m ray::ImplicitFunc(+0x20f3d1) [0x63d692fdb3d1] NameError_dealloc\n",
      "\u001b[36m(tune_with_parameters pid=2878214)\u001b[0m ray::ImplicitFunc(_PyEval_EvalFrameDefault+0x4937) [0x63d692f04e67] _PyEval_EvalFrameDefault\n",
      "\u001b[36m(tune_with_parameters pid=2878214)\u001b[0m ray::ImplicitFunc(_PyFunction_Vectorcall+0x6c) [0x63d692f10a2c] _PyFunction_Vectorcall\n",
      "\u001b[36m(tune_with_parameters pid=2878214)\u001b[0m ray::ImplicitFunc(_PyEval_EvalFrameDefault+0x72c) [0x63d692f00c5c] _PyEval_EvalFrameDefault\n",
      "\u001b[36m(tune_with_parameters pid=2878214)\u001b[0m ray::ImplicitFunc(_PyFunction_Vectorcall+0x6c) [0x63d692f10a2c] _PyFunction_Vectorcall\n",
      "\u001b[36m(tune_with_parameters pid=2878214)\u001b[0m ray::ImplicitFunc(_PyEval_EvalFrameDefault+0x72c) [0x63d692f00c5c] _PyEval_EvalFrameDefault\n",
      "\u001b[36m(tune_with_parameters pid=2878214)\u001b[0m ray::ImplicitFunc(+0x150804) [0x63d692f1c804] method_vectorcall\n",
      "\u001b[36m(tune_with_parameters pid=2878214)\u001b[0m ray::ImplicitFunc(+0x228372) [0x63d692ff4372] thread_run\n",
      "\u001b[36m(tune_with_parameters pid=2878214)\u001b[0m ray::ImplicitFunc(+0x228324) [0x63d692ff4324] pythread_wrapper\n",
      "\u001b[36m(tune_with_parameters pid=2878214)\u001b[0m /lib/x86_64-linux-gnu/libc.so.6(+0x94ac3) [0x7f2135a94ac3]\n",
      "\u001b[36m(tune_with_parameters pid=2878214)\u001b[0m /lib/x86_64-linux-gnu/libc.so.6(+0x126850) [0x7f2135b26850]\n",
      "\u001b[36m(tune_with_parameters pid=2878214)\u001b[0m \n",
      "Val Epoch:12: 41it [00:14,  3.76it/s]\u001b[32m [repeated 15x across cluster]\u001b[0m\n"
     ]
    },
    {
     "name": "stdout",
     "output_type": "stream",
     "text": [
      "\u001b[36m(tune_with_parameters pid=2663640)\u001b[0m loss: 0.586\n",
      "\u001b[36m(tune_with_parameters pid=2992472)\u001b[0m /tmp/tmpvgtlh2gq/checkpoint.pt\n"
     ]
    },
    {
     "name": "stderr",
     "output_type": "stream",
     "text": [
      "\u001b[36m(tune_with_parameters pid=2992472)\u001b[0m Checkpoint successfully created at: Checkpoint(filesystem=local, path=/scratch/users/k23058970/Model training/results/NSQ vs AC LSTM/tune_with_parameters_2024-07-30_13-33-38/tune_with_parameters_0ca84_00009_9_dp=0.5000,hidden_size=300,lr=0.0053,num_layers=3_2024-07-30_13-34-23/checkpoint_000001)\n",
      "Val Epoch:12: 50it [00:18,  2.77it/s]\u001b[32m [repeated 8x across cluster]\u001b[0m\n"
     ]
    },
    {
     "name": "stdout",
     "output_type": "stream",
     "text": [
      "\u001b[36m(tune_with_parameters pid=2992472)\u001b[0m loss: 0.568\n"
     ]
    },
    {
     "name": "stderr",
     "output_type": "stream",
     "text": [
      "Val Epoch:59: 0it [00:00, ?it/s]663640)\u001b[0m \n",
      "Val Epoch:59: 1it [00:02,  2.50s/it]40)\u001b[0m \n",
      "Val Epoch:59: 2it [00:02,  1.27s/it]40)\u001b[0m \n",
      "Val Epoch:59: 4it [00:03,  1.81it/s]40)\u001b[0m \n",
      "Val Epoch:59: 6it [00:03,  2.98it/s]40)\u001b[0m \n",
      "Val Epoch:59: 7it [00:03,  3.51it/s]40)\u001b[0m \n",
      "Val Epoch:59: 8it [00:03,  3.46it/s]40)\u001b[0m \n",
      "Val Epoch:59: 9it [00:04,  2.17it/s]40)\u001b[0m \n",
      "Val Epoch:59: 10it [00:04,  2.77it/s]0)\u001b[0m \n",
      "Val Epoch:59: 12it [00:05,  3.60it/s]0)\u001b[0m \n",
      "Val Epoch:59: 13it [00:05,  4.11it/s]0)\u001b[0m \n",
      "Val Epoch:59: 15it [00:05,  4.70it/s]0)\u001b[0m \n",
      "Val Epoch:59: 16it [00:06,  3.77it/s]0)\u001b[0m \n",
      "Val Epoch:59: 17it [00:07,  1.84it/s]0)\u001b[0m \n",
      "Val Epoch:59: 19it [00:08,  2.13it/s]0)\u001b[0m \n",
      "Val Epoch:59: 20it [00:08,  2.43it/s]0)\u001b[0m \n",
      "Val Epoch:59: 21it [00:08,  2.88it/s]0)\u001b[0m \n",
      "Val Epoch:59: 23it [00:08,  3.50it/s]0)\u001b[0m \n",
      "Val Epoch:59: 24it [00:09,  4.02it/s]0)\u001b[0m \n",
      "Val Epoch:59: 25it [00:10,  1.63it/s]0)\u001b[0m \n",
      "Val Epoch:59: 26it [00:10,  2.04it/s]0)\u001b[0m \n",
      "Val Epoch:59: 27it [00:11,  2.04it/s]0)\u001b[0m \n",
      "Val Epoch:59: 30it [00:11,  3.81it/s]0)\u001b[0m \n",
      "Val Epoch:59: 31it [00:12,  3.42it/s]0)\u001b[0m \n",
      "Val Epoch:59: 33it [00:13,  2.28it/s]0)\u001b[0m \n",
      "Val Epoch:59: 35it [00:14,  2.60it/s]0)\u001b[0m \n",
      "Val Epoch:59: 36it [00:14,  3.02it/s]0)\u001b[0m \n",
      "Val Epoch:59: 38it [00:14,  3.77it/s]0)\u001b[0m \n",
      "Val Epoch:59: 39it [00:14,  4.12it/s]0)\u001b[0m \n",
      "Val Epoch:59: 40it [00:14,  3.87it/s]0)\u001b[0m \n",
      "Val Epoch:59: 41it [00:16,  2.13it/s]0)\u001b[0m \n",
      "Val Epoch:59: 43it [00:16,  2.49it/s]0)\u001b[0m \n",
      "Val Epoch:59: 44it [00:16,  2.85it/s]0)\u001b[0m \n",
      "Val Epoch:59: 46it [00:16,  4.18it/s]0)\u001b[0m \n",
      "Val Epoch:59: 47it [00:17,  4.76it/s]0)\u001b[0m \n"
     ]
    },
    {
     "name": "stdout",
     "output_type": "stream",
     "text": [
      "\u001b[36m(tune_with_parameters pid=2992529)\u001b[0m loss: 0.587\n"
     ]
    },
    {
     "name": "stderr",
     "output_type": "stream",
     "text": [
      "Val Epoch:59: 49it [00:18,  2.51it/s]0)\u001b[0m \n",
      "Val Epoch:59: 50it [00:19,  2.60it/s]0)\u001b[0m \n"
     ]
    },
    {
     "name": "stdout",
     "output_type": "stream",
     "text": [
      "\u001b[36m(tune_with_parameters pid=2663640)\u001b[0m loss: 0.548\n",
      "\u001b[36m(tune_with_parameters pid=2992472)\u001b[0m loss: 0.566\n",
      "\u001b[36m(tune_with_parameters pid=2992529)\u001b[0m loss: 0.586\n",
      "\u001b[36m(tune_with_parameters pid=2663640)\u001b[0m loss: 0.586\n"
     ]
    },
    {
     "name": "stderr",
     "output_type": "stream",
     "text": [
      "Val Epoch:13: 0it [00:00, ?it/s]992529)\u001b[0m \n",
      "Val Epoch:13: 1it [00:03,  3.45s/it]29)\u001b[0m \n",
      "Val Epoch:13: 2it [00:03,  1.60s/it]29)\u001b[0m \n",
      "Val Epoch:13: 3it [00:03,  1.08it/s]29)\u001b[0m \n",
      "Val Epoch:13: 4it [00:03,  1.64it/s]29)\u001b[0m \n",
      "Val Epoch:13: 5it [00:04,  1.57it/s]29)\u001b[0m \n",
      "Val Epoch:13: 6it [00:04,  2.09it/s]29)\u001b[0m \n",
      "Val Epoch:13: 7it [00:05,  2.31it/s]29)\u001b[0m \n",
      "Val Epoch:13: 9it [00:06,  2.03it/s]29)\u001b[0m \n",
      "Val Epoch:13: 10it [00:06,  2.32it/s]9)\u001b[0m \n",
      "Val Epoch:13: 11it [00:06,  2.70it/s]9)\u001b[0m \n",
      "Val Epoch:13: 12it [00:07,  2.88it/s]9)\u001b[0m \n",
      "Val Epoch:13: 13it [00:07,  2.13it/s]9)\u001b[0m \n",
      "Val Epoch:13: 14it [00:08,  2.54it/s]9)\u001b[0m \n",
      "Val Epoch:13: 15it [00:08,  2.60it/s]9)\u001b[0m \n",
      "Val Epoch:13: 16it [00:08,  3.12it/s]9)\u001b[0m \n",
      "Val Epoch:13: 17it [00:08,  2.86it/s]9)\u001b[0m \n",
      "Val Epoch:13: 18it [00:10,  1.61it/s]9)\u001b[0m \n",
      "Val Epoch:13: 20it [00:10,  2.70it/s]9)\u001b[0m \n",
      "Val Epoch:13: 21it [00:10,  3.14it/s]9)\u001b[0m \n",
      "Val Epoch:13: 22it [00:10,  3.73it/s]9)\u001b[0m \n",
      "Val Epoch:13: 23it [00:10,  4.19it/s]9)\u001b[0m \n",
      "Val Epoch:13: 24it [00:10,  4.69it/s]9)\u001b[0m \n",
      "Val Epoch:13: 25it [00:11,  3.05it/s]9)\u001b[0m \n",
      "Val Epoch:13: 26it [00:13,  1.22it/s]9)\u001b[0m \n",
      "Val Epoch:13: 27it [00:13,  1.53it/s]9)\u001b[0m \n",
      "Val Epoch:13: 28it [00:14,  1.97it/s]9)\u001b[0m \n",
      "Val Epoch:13: 29it [00:14,  2.49it/s]9)\u001b[0m \n",
      "Val Epoch:13: 31it [00:14,  3.92it/s]9)\u001b[0m \n",
      "Val Epoch:13: 32it [00:14,  4.43it/s]9)\u001b[0m \n",
      "Val Epoch:13: 33it [00:15,  2.78it/s]9)\u001b[0m \n",
      "Val Epoch:13: 34it [00:16,  1.80it/s]9)\u001b[0m \n",
      "Val Epoch:13: 35it [00:16,  2.30it/s]9)\u001b[0m \n",
      "Val Epoch:13: 37it [00:16,  3.60it/s]9)\u001b[0m \n",
      "Val Epoch:13: 38it [00:16,  3.92it/s]9)\u001b[0m \n",
      "Val Epoch:13: 40it [00:17,  4.05it/s]9)\u001b[0m \n",
      "Val Epoch:13: 41it [00:17,  4.26it/s]9)\u001b[0m \n",
      "Val Epoch:13: 42it [00:18,  2.58it/s]9)\u001b[0m \n",
      "Val Epoch:13: 43it [00:18,  3.03it/s]9)\u001b[0m \n",
      "Val Epoch:13: 44it [00:18,  3.62it/s]9)\u001b[0m \n",
      "Val Epoch:13: 46it [00:18,  4.91it/s]9)\u001b[0m \n",
      "Val Epoch:13: 47it [00:18,  5.72it/s]9)\u001b[0m \n",
      "Val Epoch:13: 48it [00:19,  6.23it/s]9)\u001b[0m \n",
      "Val Epoch:13: 49it [00:19,  2.85it/s]9)\u001b[0m \n",
      "Val Epoch:13: 50it [00:20,  2.46it/s]9)\u001b[0m \n"
     ]
    },
    {
     "name": "stdout",
     "output_type": "stream",
     "text": [
      "\u001b[36m(tune_with_parameters pid=2992472)\u001b[0m loss: 0.565\n"
     ]
    },
    {
     "name": "stderr",
     "output_type": "stream",
     "text": [
      "\u001b[36m(tune_with_parameters pid=3099986)\u001b[0m /users/k23058970/miniforge3/envs/Training/lib/python3.10/site-packages/torch/utils/data/dataloader.py:558: UserWarning: This DataLoader will create 8 worker processes in total. Our suggested max number of worker in current system is 2, which is smaller than what this DataLoader is going to create. Please be aware that excessive worker creation might get DataLoader running slow or even freeze, lower the worker number to avoid potential slowness/freeze if necessary.\n",
      "\u001b[36m(tune_with_parameters pid=3099986)\u001b[0m   warnings.warn(_create_warning_msg(\n",
      "Val Epoch:13: 0it [00:00, ?it/s]992472)\u001b[0m \n",
      "Val Epoch:13: 1it [00:02,  2.63s/it]72)\u001b[0m \n",
      "Val Epoch:13: 3it [00:02,  1.33it/s]72)\u001b[0m \n",
      "Val Epoch:13: 4it [00:03,  1.55it/s]72)\u001b[0m \n",
      "Val Epoch:13: 5it [00:03,  2.03it/s]72)\u001b[0m \n",
      "Val Epoch:13: 7it [00:03,  3.30it/s]72)\u001b[0m \n",
      "Val Epoch:13: 9it [00:04,  3.75it/s]72)\u001b[0m \n",
      "Val Epoch:13: 11it [00:04,  5.24it/s]2)\u001b[0m \n",
      "Val Epoch:13: 14it [00:04,  6.64it/s]2)\u001b[0m \n",
      "Val Epoch:13: 15it [00:04,  6.90it/s]2)\u001b[0m \n",
      "Val Epoch:13: 17it [00:04,  6.58it/s]2)\u001b[0m \n",
      "Val Epoch:13: 19it [00:05,  6.64it/s]2)\u001b[0m \n",
      "Val Epoch:13: 21it [00:05,  7.71it/s]2)\u001b[0m \n",
      "Val Epoch:13: 23it [00:05,  7.82it/s]2)\u001b[0m \n",
      "Val Epoch:13: 25it [00:05,  8.90it/s]2)\u001b[0m \n"
     ]
    },
    {
     "name": "stdout",
     "output_type": "stream",
     "text": [
      "\u001b[36m(tune_with_parameters pid=2663640)\u001b[0m loss: 0.586\n"
     ]
    },
    {
     "name": "stderr",
     "output_type": "stream",
     "text": [
      "Val Epoch:13: 27it [00:06,  5.93it/s]2)\u001b[0m \n",
      "Val Epoch:13: 29it [00:06,  6.60it/s]2)\u001b[0m \n",
      "Val Epoch:13: 31it [00:06,  6.47it/s]2)\u001b[0m \n",
      "Val Epoch:13: 33it [00:07,  7.75it/s]2)\u001b[0m \n",
      "Val Epoch:13: 34it [00:07,  7.02it/s]2)\u001b[0m \n",
      "Val Epoch:13: 35it [00:07,  4.72it/s]2)\u001b[0m \n",
      "Val Epoch:13: 37it [00:07,  6.06it/s]2)\u001b[0m \n",
      "Val Epoch:13: 38it [00:08,  6.34it/s]2)\u001b[0m \n",
      "Val Epoch:13: 39it [00:08,  4.64it/s]2)\u001b[0m \n",
      "Val Epoch:13: 40it [00:08,  5.14it/s]2)\u001b[0m \n",
      "Val Epoch:13: 41it [00:08,  4.48it/s]2)\u001b[0m \n",
      "Val Epoch:13: 42it [00:09,  3.90it/s]2)\u001b[0m \n",
      "Val Epoch:13: 43it [00:09,  2.81it/s]2)\u001b[0m \n",
      "Val Epoch:13: 44it [00:10,  3.51it/s]2)\u001b[0m \n",
      "Val Epoch:13: 46it [00:10,  4.90it/s]2)\u001b[0m \n",
      "Val Epoch:13: 47it [00:10,  5.53it/s]2)\u001b[0m \n",
      "Val Epoch:13: 48it [00:10,  6.03it/s]2)\u001b[0m \n",
      "Val Epoch:13: 49it [00:10,  6.40it/s]2)\u001b[0m \n",
      "Val Epoch:13: 50it [00:10,  6.79it/s]2)\u001b[0m \n",
      "Val Epoch:13: 50it [00:11,  4.35it/s]2)\u001b[0m \n"
     ]
    },
    {
     "name": "stdout",
     "output_type": "stream",
     "text": [
      "\u001b[36m(tune_with_parameters pid=2992472)\u001b[0m /tmp/tmppx3xrnyn/checkpoint.pt\n"
     ]
    },
    {
     "name": "stderr",
     "output_type": "stream",
     "text": [
      "\u001b[36m(tune_with_parameters pid=3099986)\u001b[0m /users/k23058970/miniforge3/envs/Training/lib/python3.10/site-packages/torch/nn/modules/lazy.py:181: UserWarning: Lazy modules are a new feature under heavy development so changes to the API or functionality can happen at any moment.\n",
      "\u001b[36m(tune_with_parameters pid=3099986)\u001b[0m   warnings.warn('Lazy modules are a new feature under heavy development '\n",
      "\u001b[36m(tune_with_parameters pid=2992472)\u001b[0m Checkpoint successfully created at: Checkpoint(filesystem=local, path=/scratch/users/k23058970/Model training/results/NSQ vs AC LSTM/tune_with_parameters_2024-07-30_13-33-38/tune_with_parameters_0ca84_00009_9_dp=0.5000,hidden_size=300,lr=0.0053,num_layers=3_2024-07-30_13-34-23/checkpoint_000002)\n",
      "Val Epoch:60: 0it [00:00, ?it/s]663640)\u001b[0m \n",
      "Val Epoch:60: 1it [00:03,  3.39s/it]40)\u001b[0m \n",
      "Val Epoch:60: 2it [00:03,  1.62s/it]40)\u001b[0m \n",
      "Val Epoch:60: 4it [00:03,  1.55it/s]40)\u001b[0m \n",
      "Val Epoch:60: 5it [00:04,  1.57it/s]40)\u001b[0m \n",
      "Val Epoch:60: 7it [00:04,  2.76it/s]40)\u001b[0m \n",
      "Val Epoch:60: 9it [00:05,  2.91it/s]40)\u001b[0m \n",
      "Val Epoch:60: 10it [00:05,  3.39it/s]0)\u001b[0m \n",
      "Val Epoch:60: 12it [00:05,  4.30it/s]0)\u001b[0m \n",
      "Val Epoch:60: 13it [00:05,  4.56it/s]0)\u001b[0m \n",
      "Val Epoch:60: 14it [00:06,  4.17it/s]0)\u001b[0m \n",
      "Val Epoch:60: 15it [00:06,  4.78it/s]0)\u001b[0m \n",
      "Val Epoch:60: 16it [00:06,  4.85it/s]0)\u001b[0m \n",
      "Val Epoch:60: 17it [00:07,  2.59it/s]0)\u001b[0m \n",
      "Val Epoch:60: 19it [00:07,  3.85it/s]0)\u001b[0m \n"
     ]
    },
    {
     "name": "stdout",
     "output_type": "stream",
     "text": [
      "\u001b[36m(tune_with_parameters pid=2992472)\u001b[0m loss: 0.593\n"
     ]
    },
    {
     "name": "stderr",
     "output_type": "stream",
     "text": [
      "Val Epoch:60: 20it [00:07,  3.64it/s]0)\u001b[0m \n",
      "Val Epoch:60: 21it [00:08,  3.93it/s]0)\u001b[0m \n",
      "Val Epoch:60: 22it [00:08,  3.93it/s]0)\u001b[0m \n",
      "Val Epoch:60: 23it [00:08,  4.67it/s]0)\u001b[0m \n",
      "Val Epoch:60: 24it [00:08,  4.70it/s]0)\u001b[0m \n",
      "Val Epoch:60: 25it [00:09,  2.45it/s]0)\u001b[0m \n",
      "Val Epoch:60: 26it [00:09,  3.14it/s]0)\u001b[0m \n",
      "Val Epoch:60: 28it [00:09,  4.51it/s]0)\u001b[0m \n",
      "Val Epoch:60: 30it [00:10,  5.42it/s]0)\u001b[0m \n",
      "Val Epoch:60: 32it [00:10,  7.00it/s]0)\u001b[0m \n",
      "Val Epoch:60: 33it [00:10,  5.67it/s]0)\u001b[0m \n",
      "Val Epoch:60: 35it [00:10,  7.12it/s]0)\u001b[0m \n",
      "Val Epoch:60: 37it [00:10,  8.13it/s]0)\u001b[0m \n",
      "Val Epoch:60: 38it [00:11,  6.91it/s]0)\u001b[0m \n",
      "Val Epoch:60: 40it [00:11,  9.01it/s]0)\u001b[0m \n",
      "Val Epoch:60: 44it [00:11, 14.26it/s]0)\u001b[0m \n",
      "Val Epoch:60: 46it [00:11, 10.66it/s]0)\u001b[0m \n",
      "Val Epoch:60: 50it [00:11, 15.29it/s]0)\u001b[0m \n",
      "Val Epoch:60: 50it [00:12,  4.16it/s]0)\u001b[0m \n"
     ]
    },
    {
     "name": "stdout",
     "output_type": "stream",
     "text": [
      "\u001b[36m(tune_with_parameters pid=2663640)\u001b[0m loss: 0.600\n",
      "\u001b[36m(tune_with_parameters pid=2992472)\u001b[0m loss: 0.557\n"
     ]
    },
    {
     "name": "stderr",
     "output_type": "stream",
     "text": [
      "\u001b[36m(tune_with_parameters pid=3099986)\u001b[0m /users/k23058970/miniforge3/envs/Training/lib/python3.10/site-packages/torch/utils/data/dataloader.py:558: UserWarning: This DataLoader will create 8 worker processes in total. Our suggested max number of worker in current system is 2, which is smaller than what this DataLoader is going to create. Please be aware that excessive worker creation might get DataLoader running slow or even freeze, lower the worker number to avoid potential slowness/freeze if necessary.\n",
      "\u001b[36m(tune_with_parameters pid=3099986)\u001b[0m   warnings.warn(_create_warning_msg(\n"
     ]
    },
    {
     "name": "stdout",
     "output_type": "stream",
     "text": [
      "\u001b[36m(tune_with_parameters pid=3099986)\u001b[0m loss: 0.690\n",
      "\u001b[36m(tune_with_parameters pid=2663640)\u001b[0m loss: 0.585\n"
     ]
    },
    {
     "name": "stderr",
     "output_type": "stream",
     "text": [
      "\u001b[36m(tune_with_parameters pid=3105646)\u001b[0m /users/k23058970/miniforge3/envs/Training/lib/python3.10/site-packages/torch/utils/data/dataloader.py:558: UserWarning: This DataLoader will create 8 worker processes in total. Our suggested max number of worker in current system is 2, which is smaller than what this DataLoader is going to create. Please be aware that excessive worker creation might get DataLoader running slow or even freeze, lower the worker number to avoid potential slowness/freeze if necessary.\n",
      "\u001b[36m(tune_with_parameters pid=3105646)\u001b[0m   warnings.warn(_create_warning_msg(\n"
     ]
    },
    {
     "name": "stdout",
     "output_type": "stream",
     "text": [
      "\u001b[36m(tune_with_parameters pid=2992472)\u001b[0m loss: 0.554\n"
     ]
    },
    {
     "name": "stderr",
     "output_type": "stream",
     "text": [
      "\u001b[36m(tune_with_parameters pid=3105646)\u001b[0m /users/k23058970/miniforge3/envs/Training/lib/python3.10/site-packages/torch/nn/modules/lazy.py:181: UserWarning: Lazy modules are a new feature under heavy development so changes to the API or functionality can happen at any moment.\n",
      "\u001b[36m(tune_with_parameters pid=3105646)\u001b[0m   warnings.warn('Lazy modules are a new feature under heavy development '\n"
     ]
    },
    {
     "name": "stdout",
     "output_type": "stream",
     "text": [
      "\u001b[36m(tune_with_parameters pid=3099986)\u001b[0m loss: 0.601\n"
     ]
    },
    {
     "name": "stderr",
     "output_type": "stream",
     "text": [
      "Val Epoch:14: 0it [00:00, ?it/s]992472)\u001b[0m \n",
      "Val Epoch:14: 1it [00:02,  2.96s/it]72)\u001b[0m \n",
      "Val Epoch:14: 2it [00:03,  1.48s/it]72)\u001b[0m \n",
      "Val Epoch:14: 3it [00:03,  1.14it/s]72)\u001b[0m \n",
      "Val Epoch:14: 4it [00:04,  1.27it/s]72)\u001b[0m \n",
      "Val Epoch:14: 5it [00:04,  1.37it/s]72)\u001b[0m \n",
      "Val Epoch:14: 6it [00:05,  1.51it/s]72)\u001b[0m \n",
      "Val Epoch:14: 7it [00:05,  1.72it/s]72)\u001b[0m \n",
      "Val Epoch:14: 9it [00:06,  2.45it/s]72)\u001b[0m \n",
      "Val Epoch:14: 10it [00:06,  2.33it/s]2)\u001b[0m \n",
      "Val Epoch:14: 11it [00:07,  2.33it/s]2)\u001b[0m \n",
      "Val Epoch:14: 12it [00:08,  1.82it/s]2)\u001b[0m \n",
      "Val Epoch:14: 13it [00:08,  2.14it/s]2)\u001b[0m \n",
      "Val Epoch:14: 14it [00:08,  2.27it/s]2)\u001b[0m \n",
      "Val Epoch:14: 15it [00:08,  2.83it/s]2)\u001b[0m \n",
      "Val Epoch:14: 16it [00:09,  2.73it/s]2)\u001b[0m \n",
      "Val Epoch:14: 17it [00:09,  3.00it/s]2)\u001b[0m \n",
      "Val Epoch:14: 18it [00:09,  2.89it/s]2)\u001b[0m \n",
      "Val Epoch:14: 20it [00:11,  1.89it/s]2)\u001b[0m \n",
      "Val Epoch:14: 21it [00:11,  2.29it/s]2)\u001b[0m \n",
      "Val Epoch:14: 22it [00:11,  2.75it/s]2)\u001b[0m \n",
      "Val Epoch:14: 23it [00:11,  3.19it/s]2)\u001b[0m \n",
      "Val Epoch:14: 24it [00:11,  3.88it/s]2)\u001b[0m \n",
      "Val Epoch:14: 25it [00:12,  3.10it/s]2)\u001b[0m \n",
      "Val Epoch:14: 26it [00:13,  2.22it/s]2)\u001b[0m \n",
      "Val Epoch:14: 27it [00:13,  2.65it/s]2)\u001b[0m \n",
      "Val Epoch:14: 28it [00:14,  1.98it/s]2)\u001b[0m \n",
      "Val Epoch:14: 29it [00:14,  2.28it/s]2)\u001b[0m \n",
      "Val Epoch:14: 30it [00:14,  2.84it/s]2)\u001b[0m \n",
      "Val Epoch:14: 31it [00:14,  3.11it/s]2)\u001b[0m \n",
      "Val Epoch:14: 32it [00:15,  3.45it/s]2)\u001b[0m \n",
      "Val Epoch:14: 33it [00:15,  3.78it/s]2)\u001b[0m \n",
      "Val Epoch:14: 34it [00:15,  3.44it/s]2)\u001b[0m \n",
      "Val Epoch:14: 36it [00:15,  5.53it/s]2)\u001b[0m \n",
      "Val Epoch:14: 38it [00:16,  5.68it/s]2)\u001b[0m \n",
      "Val Epoch:14: 40it [00:16,  6.85it/s]2)\u001b[0m \n",
      "Val Epoch:14: 41it [00:16,  5.57it/s]2)\u001b[0m \n",
      "Val Epoch:14: 42it [00:16,  4.66it/s]2)\u001b[0m \n",
      "Val Epoch:14: 45it [00:17,  7.76it/s]2)\u001b[0m \n",
      "Val Epoch:14: 48it [00:17,  8.84it/s]2)\u001b[0m \n",
      "Val Epoch:61: 0it [00:00, ?it/s]663640)\u001b[0m \n",
      "Val Epoch:14: 50it [00:17,  6.13it/s]2)\u001b[0m \n",
      "Val Epoch:14: 50it [00:18,  2.73it/s]2)\u001b[0m \n",
      "Val Epoch:61: 8it [00:01,  7.35it/s]\u001b[32m [repeated 4x across cluster]\u001b[0m\n"
     ]
    },
    {
     "name": "stdout",
     "output_type": "stream",
     "text": [
      "\u001b[36m(tune_with_parameters pid=2992472)\u001b[0m /tmp/tmpbt47xbm7/checkpoint.pt\n",
      "\u001b[36m(tune_with_parameters pid=2663640)\u001b[0m loss: 0.586\n"
     ]
    },
    {
     "name": "stderr",
     "output_type": "stream",
     "text": [
      "\u001b[36m(tune_with_parameters pid=2992472)\u001b[0m Checkpoint successfully created at: Checkpoint(filesystem=local, path=/scratch/users/k23058970/Model training/results/NSQ vs AC LSTM/tune_with_parameters_2024-07-30_13-33-38/tune_with_parameters_0ca84_00009_9_dp=0.5000,hidden_size=300,lr=0.0053,num_layers=3_2024-07-30_13-34-23/checkpoint_000003)\n",
      "Val Epoch:61: 40it [00:06,  5.96it/s]\u001b[32m [repeated 14x across cluster]\u001b[0m\n",
      "\u001b[36m(tune_with_parameters pid=3105646)\u001b[0m /users/k23058970/miniforge3/envs/Training/lib/python3.10/site-packages/torch/utils/data/dataloader.py:558: UserWarning: This DataLoader will create 8 worker processes in total. Our suggested max number of worker in current system is 2, which is smaller than what this DataLoader is going to create. Please be aware that excessive worker creation might get DataLoader running slow or even freeze, lower the worker number to avoid potential slowness/freeze if necessary.\n",
      "\u001b[36m(tune_with_parameters pid=3105646)\u001b[0m   warnings.warn(_create_warning_msg(\n",
      "Val Epoch:61: 50it [00:11,  4.17it/s]\u001b[32m [repeated 6x across cluster]\u001b[0m\n"
     ]
    },
    {
     "name": "stdout",
     "output_type": "stream",
     "text": [
      "\u001b[36m(tune_with_parameters pid=2992472)\u001b[0m loss: 0.563\n",
      "\u001b[36m(tune_with_parameters pid=2663640)\u001b[0m loss: 0.591\n",
      "\u001b[36m(tune_with_parameters pid=3105646)\u001b[0m loss: 0.690\n",
      "\u001b[36m(tune_with_parameters pid=3099986)\u001b[0m loss: 0.590\n"
     ]
    },
    {
     "name": "stderr",
     "output_type": "stream",
     "text": [
      "Val Epoch:0: 0it [00:00, ?it/s]3099986)\u001b[0m \n",
      "Val Epoch:0: 1it [00:05,  5.69s/it]986)\u001b[0m \n",
      "Val Epoch:0: 2it [00:06,  2.68s/it]986)\u001b[0m \n",
      "Val Epoch:0: 3it [00:06,  1.54s/it]986)\u001b[0m \n",
      "Val Epoch:0: 4it [00:07,  1.21s/it]986)\u001b[0m \n",
      "Val Epoch:0: 5it [00:07,  1.08it/s]986)\u001b[0m \n",
      "Val Epoch:0: 6it [00:08,  1.16it/s]986)\u001b[0m \n",
      "Val Epoch:0: 7it [00:08,  1.57it/s]986)\u001b[0m \n",
      "Val Epoch:0: 8it [00:08,  1.91it/s]986)\u001b[0m \n",
      "Val Epoch:0: 9it [00:08,  2.30it/s]986)\u001b[0m \n",
      "Val Epoch:0: 10it [00:09,  2.14it/s]86)\u001b[0m \n",
      "Val Epoch:0: 11it [00:10,  2.04it/s]86)\u001b[0m \n",
      "Val Epoch:0: 12it [00:10,  2.47it/s]86)\u001b[0m \n",
      "Val Epoch:0: 13it [00:10,  2.10it/s]86)\u001b[0m \n",
      "Val Epoch:0: 14it [00:11,  2.55it/s]86)\u001b[0m \n",
      "Val Epoch:0: 15it [00:11,  1.97it/s]86)\u001b[0m \n",
      "Val Epoch:0: 16it [00:12,  2.45it/s]86)\u001b[0m \n",
      "Val Epoch:0: 17it [00:12,  2.20it/s]86)\u001b[0m \n",
      "Val Epoch:0: 18it [00:12,  2.45it/s]86)\u001b[0m \n",
      "Val Epoch:0: 19it [00:13,  1.95it/s]86)\u001b[0m \n",
      "Val Epoch:0: 20it [00:14,  1.93it/s]86)\u001b[0m \n",
      "Val Epoch:0: 21it [00:14,  2.40it/s]86)\u001b[0m \n",
      "Val Epoch:0: 22it [00:14,  2.24it/s]86)\u001b[0m \n",
      "Val Epoch:0: 23it [00:15,  2.38it/s]86)\u001b[0m \n",
      "Val Epoch:0: 24it [00:15,  2.13it/s]86)\u001b[0m \n",
      "Val Epoch:0: 25it [00:16,  2.05it/s]86)\u001b[0m \n",
      "Val Epoch:0: 26it [00:16,  2.60it/s]86)\u001b[0m \n",
      "Val Epoch:0: 27it [00:17,  2.35it/s]86)\u001b[0m \n",
      "Val Epoch:0: 28it [00:17,  2.18it/s]86)\u001b[0m \n",
      "Val Epoch:0: 29it [00:18,  1.99it/s]86)\u001b[0m \n",
      "Val Epoch:0: 30it [00:18,  1.97it/s]86)\u001b[0m \n",
      "Val Epoch:0: 31it [00:19,  1.97it/s]86)\u001b[0m \n",
      "Val Epoch:0: 32it [00:19,  2.26it/s]86)\u001b[0m \n",
      "Val Epoch:0: 33it [00:19,  2.30it/s]86)\u001b[0m \n",
      "Val Epoch:0: 34it [00:20,  2.80it/s]86)\u001b[0m \n",
      "Val Epoch:0: 36it [00:20,  3.66it/s]86)\u001b[0m \n",
      "Val Epoch:0: 38it [00:20,  4.25it/s]86)\u001b[0m \n",
      "Val Epoch:0: 39it [00:21,  4.40it/s]86)\u001b[0m \n",
      "Val Epoch:0: 41it [00:21,  4.95it/s]86)\u001b[0m \n",
      "Val Epoch:0: 43it [00:21,  6.47it/s]86)\u001b[0m \n",
      "Val Epoch:0: 45it [00:21,  7.89it/s]86)\u001b[0m \n",
      "Val Epoch:0: 47it [00:21,  8.73it/s]86)\u001b[0m \n",
      "Val Epoch:0: 49it [00:22,  4.00it/s]86)\u001b[0m \n",
      "Val Epoch:0: 50it [00:23,  2.13it/s]86)\u001b[0m \n",
      "\u001b[36m(tune_with_parameters pid=3099986)\u001b[0m /scratch/users/k23058970/Model training/training_two_class_exvivo_lstm.py:63: RuntimeWarning: invalid value encountered in divide\n",
      "\u001b[36m(tune_with_parameters pid=3099986)\u001b[0m   self.precision = self.tp/(self.tp + self.fp)\n"
     ]
    },
    {
     "name": "stdout",
     "output_type": "stream",
     "text": [
      "\u001b[36m(tune_with_parameters pid=2992472)\u001b[0m loss: 0.547\n",
      "\u001b[36m(tune_with_parameters pid=3105646)\u001b[0m loss: 0.623\u001b[32m [repeated 2x across cluster]\u001b[0m\n",
      "\u001b[36m(tune_with_parameters pid=3099986)\u001b[0m /tmp/tmp9rqt0pu7/checkpoint.pt\n"
     ]
    },
    {
     "name": "stderr",
     "output_type": "stream",
     "text": [
      "\u001b[36m(tune_with_parameters pid=3099986)\u001b[0m Checkpoint successfully created at: Checkpoint(filesystem=local, path=/scratch/users/k23058970/Model training/results/NSQ vs AC LSTM/tune_with_parameters_2024-07-30_13-33-38/tune_with_parameters_0ca84_00011_11_dp=0.2000,hidden_size=400,lr=0.0036,num_layers=2_2024-07-30_13-34-23/checkpoint_000000)\n"
     ]
    },
    {
     "name": "stdout",
     "output_type": "stream",
     "text": [
      "\u001b[36m(tune_with_parameters pid=2663640)\u001b[0m loss: 0.586\n",
      "\u001b[36m(tune_with_parameters pid=3105646)\u001b[0m loss: 0.611\u001b[32m [repeated 2x across cluster]\u001b[0m\n"
     ]
    },
    {
     "name": "stderr",
     "output_type": "stream",
     "text": [
      "Val Epoch:62: 0it [00:00, ?it/s]663640)\u001b[0m \n",
      "Val Epoch:62: 1it [00:03,  3.90s/it]40)\u001b[0m \n",
      "Val Epoch:62: 2it [00:04,  1.71s/it]40)\u001b[0m \n",
      "Val Epoch:62: 4it [00:04,  1.42it/s]40)\u001b[0m \n",
      "Val Epoch:62: 5it [00:04,  1.68it/s]40)\u001b[0m \n",
      "Val Epoch:62: 6it [00:05,  1.76it/s]40)\u001b[0m \n",
      "Val Epoch:15: 0it [00:00, ?it/s]992472)\u001b[0m \n",
      "Val Epoch:62: 15it [00:09,  2.54it/s]\u001b[32m [repeated 15x across cluster]\u001b[0m\n",
      "Val Epoch:62: 22it [00:14,  2.16it/s]\u001b[32m [repeated 15x across cluster]\u001b[0m\n",
      "Val Epoch:0: 0it [00:00, ?it/s]3105646)\u001b[0m \n",
      "Val Epoch:62: 31it [00:19,  2.26it/s]\u001b[32m [repeated 16x across cluster]\u001b[0m\n",
      "Val Epoch:0: 5it [00:07,  1.18it/s]646)\u001b[0m \n",
      "Val Epoch:15: 43it [00:23,  5.87it/s]\u001b[32m [repeated 37x across cluster]\u001b[0m\n",
      "Val Epoch:0: 38it [00:14,  2.64it/s]\u001b[32m [repeated 25x across cluster]\u001b[0m\n"
     ]
    },
    {
     "name": "stdout",
     "output_type": "stream",
     "text": [
      "\u001b[36m(tune_with_parameters pid=2992472)\u001b[0m /tmp/tmpoh14k_sy/checkpoint.pt\n",
      "\u001b[36m(tune_with_parameters pid=3099986)\u001b[0m loss: 0.576\n"
     ]
    },
    {
     "name": "stderr",
     "output_type": "stream",
     "text": [
      "\u001b[36m(tune_with_parameters pid=3105646)\u001b[0m /scratch/users/k23058970/Model training/training_two_class_exvivo_lstm.py:63: RuntimeWarning: invalid value encountered in divide\n",
      "\u001b[36m(tune_with_parameters pid=3105646)\u001b[0m   self.precision = self.tp/(self.tp + self.fp)\n"
     ]
    },
    {
     "name": "stdout",
     "output_type": "stream",
     "text": [
      "\u001b[36m(tune_with_parameters pid=2663640)\u001b[0m loss: 0.578\n"
     ]
    },
    {
     "name": "stderr",
     "output_type": "stream",
     "text": [
      "\u001b[36m(tune_with_parameters pid=2992472)\u001b[0m Checkpoint successfully created at: Checkpoint(filesystem=local, path=/scratch/users/k23058970/Model training/results/NSQ vs AC LSTM/tune_with_parameters_2024-07-30_13-33-38/tune_with_parameters_0ca84_00009_9_dp=0.5000,hidden_size=300,lr=0.0053,num_layers=3_2024-07-30_13-34-23/checkpoint_000004)\n"
     ]
    },
    {
     "name": "stdout",
     "output_type": "stream",
     "text": [
      "\u001b[36m(tune_with_parameters pid=2992472)\u001b[0m loss: 0.575\n",
      "\u001b[36m(tune_with_parameters pid=3105646)\u001b[0m /tmp/tmpdu6ssdna/checkpoint.pt\n"
     ]
    },
    {
     "name": "stderr",
     "output_type": "stream",
     "text": [
      "Val Epoch:0: 50it [00:17,  2.88it/s]\u001b[32m [repeated 10x across cluster]\u001b[0m\n",
      "\u001b[36m(tune_with_parameters pid=3105646)\u001b[0m Checkpoint successfully created at: Checkpoint(filesystem=local, path=/scratch/users/k23058970/Model training/results/NSQ vs AC LSTM/tune_with_parameters_2024-07-30_13-33-38/tune_with_parameters_0ca84_00012_12_dp=0.5000,hidden_size=300,lr=0.0022,num_layers=3_2024-07-30_13-34-23/checkpoint_000000)\n"
     ]
    },
    {
     "name": "stdout",
     "output_type": "stream",
     "text": [
      "\u001b[36m(tune_with_parameters pid=3099986)\u001b[0m loss: 0.556\n",
      "\u001b[36m(tune_with_parameters pid=2663640)\u001b[0m loss: 0.585\u001b[32m [repeated 2x across cluster]\u001b[0m\n",
      "\u001b[36m(tune_with_parameters pid=2992472)\u001b[0m loss: 0.546\n",
      "\u001b[36m(tune_with_parameters pid=3099986)\u001b[0m loss: 0.547\n"
     ]
    },
    {
     "name": "stderr",
     "output_type": "stream",
     "text": [
      "Val Epoch:1: 0it [00:00, ?it/s]3099986)\u001b[0m \n",
      "Val Epoch:1: 1it [00:02,  2.44s/it]986)\u001b[0m \n",
      "Val Epoch:1: 2it [00:02,  1.07s/it]986)\u001b[0m \n",
      "Val Epoch:1: 3it [00:02,  1.50it/s]986)\u001b[0m \n",
      "Val Epoch:1: 4it [00:02,  2.23it/s]986)\u001b[0m \n",
      "Val Epoch:1: 6it [00:03,  3.78it/s]986)\u001b[0m \n",
      "Val Epoch:1: 7it [00:03,  3.43it/s]986)\u001b[0m \n",
      "Val Epoch:1: 8it [00:03,  4.18it/s]986)\u001b[0m \n",
      "Val Epoch:1: 9it [00:04,  2.45it/s]986)\u001b[0m \n",
      "Val Epoch:1: 10it [00:04,  2.82it/s]86)\u001b[0m \n",
      "Val Epoch:1: 12it [00:04,  3.96it/s]86)\u001b[0m \n",
      "Val Epoch:1: 14it [00:05,  4.97it/s]86)\u001b[0m \n",
      "Val Epoch:1: 15it [00:05,  5.56it/s]86)\u001b[0m \n",
      "Val Epoch:1: 16it [00:05,  5.81it/s]86)\u001b[0m \n",
      "Val Epoch:1: 17it [00:06,  2.82it/s]86)\u001b[0m \n",
      "Val Epoch:1: 18it [00:06,  2.72it/s]86)\u001b[0m \n",
      "Val Epoch:1: 19it [00:06,  3.05it/s]86)\u001b[0m \n",
      "Val Epoch:1: 20it [00:07,  2.90it/s]86)\u001b[0m \n",
      "Val Epoch:1: 21it [00:07,  3.36it/s]86)\u001b[0m \n",
      "Val Epoch:1: 22it [00:07,  3.75it/s]86)\u001b[0m \n",
      "Val Epoch:1: 23it [00:07,  4.12it/s]86)\u001b[0m \n",
      "Val Epoch:1: 24it [00:07,  4.36it/s]86)\u001b[0m \n",
      "Val Epoch:1: 25it [00:08,  3.01it/s]86)\u001b[0m \n",
      "Val Epoch:1: 26it [00:09,  1.84it/s]86)\u001b[0m \n",
      "Val Epoch:1: 27it [00:09,  2.11it/s]86)\u001b[0m \n",
      "Val Epoch:1: 28it [00:10,  2.51it/s]86)\u001b[0m \n",
      "Val Epoch:1: 29it [00:10,  2.78it/s]86)\u001b[0m \n",
      "Val Epoch:1: 30it [00:10,  3.25it/s]86)\u001b[0m \n",
      "Val Epoch:1: 31it [00:10,  3.22it/s]86)\u001b[0m \n",
      "Val Epoch:1: 32it [00:11,  2.77it/s]86)\u001b[0m \n",
      "Val Epoch:1: 33it [00:11,  2.41it/s]86)\u001b[0m \n",
      "Val Epoch:1: 34it [00:13,  1.15it/s]86)\u001b[0m \n",
      "Val Epoch:1: 35it [00:14,  1.37it/s]86)\u001b[0m \n",
      "Val Epoch:1: 36it [00:14,  1.78it/s]86)\u001b[0m \n",
      "Val Epoch:1: 37it [00:14,  2.25it/s]86)\u001b[0m \n",
      "Val Epoch:1: 38it [00:14,  2.75it/s]86)\u001b[0m \n",
      "Val Epoch:1: 39it [00:15,  2.16it/s]86)\u001b[0m \n",
      "Val Epoch:1: 40it [00:15,  2.71it/s]86)\u001b[0m \n",
      "Val Epoch:1: 41it [00:16,  2.66it/s]86)\u001b[0m \n",
      "Val Epoch:1: 42it [00:17,  1.55it/s]86)\u001b[0m \n",
      "Val Epoch:1: 43it [00:17,  2.01it/s]86)\u001b[0m \n"
     ]
    },
    {
     "name": "stdout",
     "output_type": "stream",
     "text": [
      "\u001b[36m(tune_with_parameters pid=2663640)\u001b[0m loss: 0.586\u001b[32m [repeated 2x across cluster]\u001b[0m\n"
     ]
    },
    {
     "name": "stderr",
     "output_type": "stream",
     "text": [
      "Val Epoch:1: 44it [00:17,  2.50it/s]86)\u001b[0m \n",
      "Val Epoch:1: 45it [00:17,  3.11it/s]86)\u001b[0m \n",
      "Val Epoch:1: 46it [00:17,  3.64it/s]86)\u001b[0m \n",
      "Val Epoch:1: 47it [00:18,  4.20it/s]86)\u001b[0m \n",
      "Val Epoch:1: 48it [00:18,  4.58it/s]86)\u001b[0m \n",
      "Val Epoch:1: 49it [00:18,  2.71it/s]86)\u001b[0m \n",
      "Val Epoch:1: 50it [00:19,  3.36it/s]86)\u001b[0m \n",
      "Val Epoch:1: 50it [00:20,  2.47it/s]86)\u001b[0m \n"
     ]
    },
    {
     "name": "stdout",
     "output_type": "stream",
     "text": [
      "\u001b[36m(tune_with_parameters pid=2992472)\u001b[0m loss: 0.549\n"
     ]
    },
    {
     "name": "stderr",
     "output_type": "stream",
     "text": [
      "Val Epoch:63: 0it [00:00, ?it/s]663640)\u001b[0m \n",
      "Val Epoch:63: 1it [00:02,  2.77s/it]40)\u001b[0m \n",
      "Val Epoch:63: 2it [00:03,  1.29s/it]40)\u001b[0m \n",
      "Val Epoch:63: 5it [00:03,  2.46it/s]40)\u001b[0m \n",
      "Val Epoch:63: 6it [00:03,  3.00it/s]40)\u001b[0m \n",
      "Val Epoch:63: 7it [00:03,  3.49it/s]40)\u001b[0m \n",
      "Val Epoch:63: 8it [00:03,  3.85it/s]40)\u001b[0m \n",
      "Val Epoch:63: 9it [00:04,  2.05it/s]40)\u001b[0m \n",
      "Val Epoch:63: 11it [00:04,  3.29it/s]0)\u001b[0m \n",
      "Val Epoch:63: 12it [00:04,  3.90it/s]0)\u001b[0m \n",
      "Val Epoch:63: 13it [00:05,  3.55it/s]0)\u001b[0m \n",
      "Val Epoch:63: 14it [00:05,  4.27it/s]0)\u001b[0m \n",
      "Val Epoch:63: 15it [00:05,  4.85it/s]0)\u001b[0m \n",
      "Val Epoch:63: 17it [00:07,  1.57it/s]0)\u001b[0m \n"
     ]
    },
    {
     "name": "stdout",
     "output_type": "stream",
     "text": [
      "\u001b[36m(tune_with_parameters pid=3105646)\u001b[0m loss: 0.588\n"
     ]
    },
    {
     "name": "stderr",
     "output_type": "stream",
     "text": [
      "Val Epoch:63: 18it [00:08,  1.60it/s]0)\u001b[0m \n",
      "Val Epoch:63: 19it [00:08,  2.01it/s]0)\u001b[0m \n",
      "Val Epoch:63: 20it [00:08,  2.41it/s]0)\u001b[0m \n",
      "Val Epoch:63: 21it [00:10,  1.30it/s]0)\u001b[0m \n",
      "Val Epoch:63: 23it [00:10,  2.13it/s]0)\u001b[0m \n",
      "Val Epoch:63: 25it [00:11,  2.12it/s]0)\u001b[0m \n",
      "Val Epoch:63: 26it [00:12,  1.73it/s]0)\u001b[0m \n",
      "Val Epoch:63: 27it [00:12,  2.13it/s]0)\u001b[0m \n",
      "Val Epoch:63: 29it [00:12,  3.07it/s]0)\u001b[0m \n",
      "Val Epoch:63: 30it [00:13,  3.62it/s]0)\u001b[0m \n",
      "Val Epoch:63: 31it [00:13,  3.68it/s]0)\u001b[0m \n",
      "Val Epoch:63: 32it [00:13,  2.97it/s]0)\u001b[0m \n",
      "Val Epoch:16: 0it [00:00, ?it/s]992472)\u001b[0m \n",
      "Val Epoch:63: 33it [00:15,  1.36it/s]0)\u001b[0m \n",
      "Val Epoch:63: 34it [00:16,  1.54it/s]0)\u001b[0m \n",
      "Val Epoch:63: 35it [00:16,  1.99it/s]0)\u001b[0m \n",
      "Val Epoch:63: 37it [00:16,  2.96it/s]0)\u001b[0m \n",
      "Val Epoch:63: 39it [00:16,  3.98it/s]0)\u001b[0m \n",
      "Val Epoch:16: 12it [00:06,  2.77it/s]\u001b[32m [repeated 15x across cluster]\u001b[0m\n",
      "Val Epoch:16: 34it [00:11,  4.66it/s]\u001b[32m [repeated 18x across cluster]\u001b[0m\n"
     ]
    },
    {
     "name": "stdout",
     "output_type": "stream",
     "text": [
      "\u001b[36m(tune_with_parameters pid=2663640)\u001b[0m loss: 0.598\n",
      "\u001b[36m(tune_with_parameters pid=3099986)\u001b[0m /tmp/tmp5nt_nkqf/checkpoint.pt\n"
     ]
    },
    {
     "name": "stderr",
     "output_type": "stream",
     "text": [
      "Val Epoch:1: 0it [00:00, ?it/s]3105646)\u001b[0m \n",
      "Val Epoch:1: 1it [00:03,  3.66s/it]\u001b[32m [repeated 12x across cluster]\u001b[0m\n",
      "Val Epoch:1: 10it [00:09,  1.51it/s]\u001b[32m [repeated 8x across cluster]\u001b[0m\n"
     ]
    },
    {
     "name": "stdout",
     "output_type": "stream",
     "text": [
      "\u001b[36m(tune_with_parameters pid=2992472)\u001b[0m loss: 0.514\n"
     ]
    },
    {
     "name": "stderr",
     "output_type": "stream",
     "text": [
      "Val Epoch:1: 24it [00:14,  3.87it/s]\u001b[32m [repeated 13x across cluster]\u001b[0m\n",
      "Val Epoch:1: 37it [00:19,  3.14it/s]\u001b[32m [repeated 13x across cluster]\u001b[0m\n",
      "\u001b[36m(tune_with_parameters pid=3099986)\u001b[0m Checkpoint successfully created at: Checkpoint(filesystem=local, path=/scratch/users/k23058970/Model training/results/NSQ vs AC LSTM/tune_with_parameters_2024-07-30_13-33-38/tune_with_parameters_0ca84_00011_11_dp=0.2000,hidden_size=400,lr=0.0036,num_layers=2_2024-07-30_13-34-23/checkpoint_000001)\n"
     ]
    },
    {
     "name": "stdout",
     "output_type": "stream",
     "text": [
      "\u001b[36m(tune_with_parameters pid=3105646)\u001b[0m loss: 0.569\n",
      "\u001b[36m(tune_with_parameters pid=3099986)\u001b[0m loss: 0.521\n",
      "\u001b[36m(tune_with_parameters pid=2663640)\u001b[0m loss: 0.587\n",
      "\u001b[36m(tune_with_parameters pid=2992472)\u001b[0m loss: 0.562\n",
      "\u001b[36m(tune_with_parameters pid=3105646)\u001b[0m loss: 0.587\n",
      "\u001b[36m(tune_with_parameters pid=3099986)\u001b[0m loss: 0.508\n",
      "\u001b[36m(tune_with_parameters pid=2663640)\u001b[0m loss: 0.586\n",
      "\u001b[36m(tune_with_parameters pid=2992472)\u001b[0m loss: 0.567\n"
     ]
    },
    {
     "name": "stderr",
     "output_type": "stream",
     "text": [
      "Val Epoch:64: 0it [00:00, ?it/s]663640)\u001b[0m \n",
      "Val Epoch:1: 50it [00:23,  2.10it/s]\u001b[32m [repeated 14x across cluster]\u001b[0m\n",
      "Val Epoch:64: 5it [00:06,  1.01it/s]\u001b[32m [repeated 5x across cluster]\u001b[0m\n",
      "Val Epoch:64: 16it [00:11,  2.63it/s]\u001b[32m [repeated 9x across cluster]\u001b[0m\n"
     ]
    },
    {
     "name": "stdout",
     "output_type": "stream",
     "text": [
      "\u001b[36m(tune_with_parameters pid=3105646)\u001b[0m loss: 0.586\n"
     ]
    },
    {
     "name": "stderr",
     "output_type": "stream",
     "text": [
      "Val Epoch:17: 0it [00:00, ?it/s]992472)\u001b[0m \n",
      "Val Epoch:64: 25it [00:16,  1.79it/s]\u001b[32m [repeated 7x across cluster]\u001b[0m\n",
      "Val Epoch:17: 6it [00:07,  1.59it/s]\u001b[32m [repeated 16x across cluster]\u001b[0m\n"
     ]
    },
    {
     "name": "stdout",
     "output_type": "stream",
     "text": [
      "\u001b[36m(tune_with_parameters pid=3099986)\u001b[0m loss: 0.506\n"
     ]
    },
    {
     "name": "stderr",
     "output_type": "stream",
     "text": [
      "Val Epoch:17: 25it [00:12,  2.44it/s]\u001b[32m [repeated 20x across cluster]\u001b[0m\n",
      "Val Epoch:17: 38it [00:17,  2.11it/s]\u001b[32m [repeated 11x across cluster]\u001b[0m\n"
     ]
    },
    {
     "name": "stdout",
     "output_type": "stream",
     "text": [
      "\u001b[36m(tune_with_parameters pid=2663640)\u001b[0m loss: 0.561\n"
     ]
    },
    {
     "name": "stderr",
     "output_type": "stream",
     "text": [
      "Val Epoch:2: 0it [00:00, ?it/s]3105646)\u001b[0m \n",
      "Val Epoch:17: 50it [00:22,  2.24it/s]\u001b[32m [repeated 12x across cluster]\u001b[0m\n",
      "Val Epoch:2: 2it [00:05,  2.40s/it]\u001b[32m [repeated 2x across cluster]\u001b[0m\n",
      "Val Epoch:2: 10it [00:11,  1.16s/it]\u001b[32m [repeated 8x across cluster]\u001b[0m\n"
     ]
    },
    {
     "name": "stdout",
     "output_type": "stream",
     "text": [
      "\u001b[36m(tune_with_parameters pid=2992472)\u001b[0m loss: 0.568\n"
     ]
    },
    {
     "name": "stderr",
     "output_type": "stream",
     "text": [
      "Val Epoch:2: 0it [00:00, ?it/s]3099986)\u001b[0m \n",
      "Val Epoch:2: 7it [00:03,  3.70it/s]\u001b[32m [repeated 25x across cluster]\u001b[0m\n",
      "Val Epoch:2: 25it [00:09,  1.37it/s]\u001b[32m [repeated 28x across cluster]\u001b[0m\n",
      "Val Epoch:2: 34it [00:14,  1.06it/s]\u001b[32m [repeated 10x across cluster]\u001b[0m\n",
      "Val Epoch:2: 43it [00:19,  1.48it/s]\u001b[32m [repeated 8x across cluster]\u001b[0m\n"
     ]
    },
    {
     "name": "stdout",
     "output_type": "stream",
     "text": [
      "\u001b[36m(tune_with_parameters pid=3105646)\u001b[0m loss: 0.532\n",
      "\u001b[36m(tune_with_parameters pid=2663640)\u001b[0m loss: 0.586\n",
      "\u001b[36m(tune_with_parameters pid=3099986)\u001b[0m /tmp/tmpaeg_wpt3/checkpoint.pt\n"
     ]
    },
    {
     "name": "stderr",
     "output_type": "stream",
     "text": [
      "\u001b[36m(tune_with_parameters pid=3099986)\u001b[0m Checkpoint successfully created at: Checkpoint(filesystem=local, path=/scratch/users/k23058970/Model training/results/NSQ vs AC LSTM/tune_with_parameters_2024-07-30_13-33-38/tune_with_parameters_0ca84_00011_11_dp=0.2000,hidden_size=400,lr=0.0036,num_layers=2_2024-07-30_13-34-23/checkpoint_000002)\n",
      "Val Epoch:2: 50it [00:22,  2.21it/s]\u001b[32m [repeated 8x across cluster]\u001b[0m\n"
     ]
    },
    {
     "name": "stdout",
     "output_type": "stream",
     "text": [
      "\u001b[36m(tune_with_parameters pid=3105646)\u001b[0m loss: 0.584\u001b[32m [repeated 2x across cluster]\u001b[0m\n",
      "\u001b[36m(tune_with_parameters pid=3099986)\u001b[0m loss: 0.507\n",
      "\u001b[36m(tune_with_parameters pid=2663640)\u001b[0m loss: 0.586\n",
      "\u001b[36m(tune_with_parameters pid=2992472)\u001b[0m loss: 0.579\n"
     ]
    },
    {
     "name": "stderr",
     "output_type": "stream",
     "text": [
      "Val Epoch:65: 0it [00:00, ?it/s]663640)\u001b[0m \n",
      "Val Epoch:65: 1it [00:04,  4.24s/it]40)\u001b[0m \n",
      "Val Epoch:65: 2it [00:05,  2.48s/it]40)\u001b[0m \n",
      "Val Epoch:65: 3it [00:05,  1.48s/it]40)\u001b[0m \n"
     ]
    },
    {
     "name": "stdout",
     "output_type": "stream",
     "text": [
      "\u001b[36m(tune_with_parameters pid=3105646)\u001b[0m loss: 0.586\n"
     ]
    },
    {
     "name": "stderr",
     "output_type": "stream",
     "text": [
      "Val Epoch:65: 5it [00:06,  1.10it/s]40)\u001b[0m \n",
      "Val Epoch:65: 6it [00:06,  1.47it/s]40)\u001b[0m \n",
      "Val Epoch:65: 7it [00:07,  1.34it/s]40)\u001b[0m \n",
      "Val Epoch:65: 8it [00:07,  1.77it/s]40)\u001b[0m \n",
      "Val Epoch:65: 9it [00:09,  1.29it/s]40)\u001b[0m \n",
      "Val Epoch:65: 10it [00:09,  1.70it/s]0)\u001b[0m \n",
      "Val Epoch:65: 11it [00:09,  1.79it/s]0)\u001b[0m \n",
      "Val Epoch:65: 13it [00:10,  2.43it/s]0)\u001b[0m \n",
      "Val Epoch:65: 14it [00:10,  2.80it/s]0)\u001b[0m \n",
      "Val Epoch:18: 0it [00:00, ?it/s]992472)\u001b[0m \n",
      "Val Epoch:65: 15it [00:10,  2.75it/s]0)\u001b[0m \n",
      "Val Epoch:65: 16it [00:10,  3.27it/s]0)\u001b[0m \n",
      "Val Epoch:65: 17it [00:13,  1.02it/s]0)\u001b[0m \n",
      "Val Epoch:65: 18it [00:13,  1.34it/s]0)\u001b[0m \n",
      "Val Epoch:65: 19it [00:14,  1.71it/s]0)\u001b[0m \n",
      "Val Epoch:65: 20it [00:14,  2.16it/s]0)\u001b[0m \n",
      "Val Epoch:65: 21it [00:14,  2.16it/s]0)\u001b[0m \n",
      "Val Epoch:65: 23it [00:15,  2.95it/s]0)\u001b[0m \n",
      "Val Epoch:65: 24it [00:15,  3.32it/s]0)\u001b[0m \n",
      "Val Epoch:18: 1it [00:04,  4.60s/it]72)\u001b[0m \n",
      "Val Epoch:18: 2it [00:05,  2.21s/it]72)\u001b[0m \n",
      "Val Epoch:18: 3it [00:05,  1.29s/it]72)\u001b[0m \n",
      "Val Epoch:18: 12it [00:10,  1.95it/s]\u001b[32m [repeated 17x across cluster]\u001b[0m\n",
      "Val Epoch:18: 31it [00:15,  7.19it/s]\u001b[32m [repeated 30x across cluster]\u001b[0m\n"
     ]
    },
    {
     "name": "stdout",
     "output_type": "stream",
     "text": [
      "\u001b[36m(tune_with_parameters pid=3099986)\u001b[0m loss: 0.518\n"
     ]
    },
    {
     "name": "stderr",
     "output_type": "stream",
     "text": [
      "Val Epoch:18: 47it [00:20,  2.82it/s]\u001b[32m [repeated 11x across cluster]\u001b[0m\n",
      "Val Epoch:3: 0it [00:00, ?it/s]3105646)\u001b[0m \n"
     ]
    },
    {
     "name": "stdout",
     "output_type": "stream",
     "text": [
      "\u001b[36m(tune_with_parameters pid=2663640)\u001b[0m loss: 0.558\n"
     ]
    },
    {
     "name": "stderr",
     "output_type": "stream",
     "text": [
      "Val Epoch:3: 1it [00:04,  4.90s/it]\u001b[32m [repeated 5x across cluster]\u001b[0m\n",
      "Val Epoch:3: 9it [00:10,  1.24it/s]\u001b[32m [repeated 8x across cluster]\u001b[0m\n",
      "Val Epoch:3: 19it [00:15,  1.99it/s]\u001b[32m [repeated 10x across cluster]\u001b[0m\n"
     ]
    },
    {
     "name": "stdout",
     "output_type": "stream",
     "text": [
      "\u001b[36m(tune_with_parameters pid=2992472)\u001b[0m loss: 0.594\n"
     ]
    },
    {
     "name": "stderr",
     "output_type": "stream",
     "text": [
      "Val Epoch:3: 34it [00:20,  3.79it/s]\u001b[32m [repeated 13x across cluster]\u001b[0m\n"
     ]
    },
    {
     "name": "stdout",
     "output_type": "stream",
     "text": [
      "\u001b[36m(tune_with_parameters pid=3105646)\u001b[0m loss: 0.601\n",
      "\u001b[36m(tune_with_parameters pid=3099986)\u001b[0m loss: 0.531\n",
      "\u001b[36m(tune_with_parameters pid=2663640)\u001b[0m loss: 0.585\n",
      "\u001b[36m(tune_with_parameters pid=2992472)\u001b[0m loss: 0.572\n"
     ]
    },
    {
     "name": "stderr",
     "output_type": "stream",
     "text": [
      "Val Epoch:3: 0it [00:00, ?it/s]3099986)\u001b[0m \n",
      "Val Epoch:3: 50it [00:23,  2.11it/s]\u001b[32m [repeated 12x across cluster]\u001b[0m\n",
      "Val Epoch:3: 5it [00:05,  1.63it/s]\u001b[32m [repeated 5x across cluster]\u001b[0m\n",
      "Val Epoch:3: 27it [00:10,  3.26it/s]\u001b[32m [repeated 18x across cluster]\u001b[0m\n"
     ]
    },
    {
     "name": "stdout",
     "output_type": "stream",
     "text": [
      "\u001b[36m(tune_with_parameters pid=3105646)\u001b[0m loss: 0.585\n"
     ]
    },
    {
     "name": "stderr",
     "output_type": "stream",
     "text": [
      "Val Epoch:3: 41it [00:15,  1.96it/s]\u001b[32m [repeated 13x across cluster]\u001b[0m\n"
     ]
    },
    {
     "name": "stdout",
     "output_type": "stream",
     "text": [
      "\u001b[36m(tune_with_parameters pid=3099986)\u001b[0m loss: 0.572\n",
      "\u001b[36m(tune_with_parameters pid=2663640)\u001b[0m loss: 0.586\n",
      "\u001b[36m(tune_with_parameters pid=2992472)\u001b[0m loss: 0.577\n"
     ]
    },
    {
     "name": "stderr",
     "output_type": "stream",
     "text": [
      "Val Epoch:66: 0it [00:00, ?it/s]663640)\u001b[0m \n",
      "Val Epoch:3: 50it [00:19,  2.56it/s]\u001b[32m [repeated 10x across cluster]\u001b[0m\n",
      "Val Epoch:66: 1it [00:05,  5.46s/it]40)\u001b[0m \n",
      "Val Epoch:66: 3it [00:05,  1.53s/it]40)\u001b[0m \n",
      "Val Epoch:66: 4it [00:06,  1.17s/it]40)\u001b[0m \n",
      "Val Epoch:66: 5it [00:06,  1.02s/it]40)\u001b[0m \n",
      "Val Epoch:66: 6it [00:07,  1.37it/s]40)\u001b[0m \n",
      "Val Epoch:66: 9it [00:07,  2.85it/s]40)\u001b[0m \n",
      "Val Epoch:66: 10it [00:07,  3.11it/s]0)\u001b[0m \n",
      "Val Epoch:66: 12it [00:07,  4.24it/s]0)\u001b[0m \n"
     ]
    },
    {
     "name": "stdout",
     "output_type": "stream",
     "text": [
      "\u001b[36m(tune_with_parameters pid=3105646)\u001b[0m loss: 0.585\n"
     ]
    },
    {
     "name": "stderr",
     "output_type": "stream",
     "text": [
      "Val Epoch:66: 13it [00:08,  4.08it/s]0)\u001b[0m \n",
      "Val Epoch:66: 15it [00:08,  5.24it/s]0)\u001b[0m \n",
      "Val Epoch:19: 0it [00:00, ?it/s]992472)\u001b[0m \n",
      "Val Epoch:66: 17it [00:08,  3.87it/s]0)\u001b[0m \n",
      "Val Epoch:66: 18it [00:09,  3.22it/s]0)\u001b[0m \n",
      "Val Epoch:66: 20it [00:09,  4.54it/s]0)\u001b[0m \n",
      "Val Epoch:66: 22it [00:09,  5.67it/s]0)\u001b[0m \n",
      "Val Epoch:66: 23it [00:09,  6.02it/s]0)\u001b[0m \n",
      "Val Epoch:66: 25it [00:10,  3.44it/s]\u001b[32m [repeated 3x across cluster]\u001b[0m\n",
      "Val Epoch:66: 35it [00:15,  1.54it/s]\u001b[32m [repeated 20x across cluster]\u001b[0m\n",
      "Val Epoch:19: 25it [00:12,  2.54it/s]\u001b[32m [repeated 23x across cluster]\u001b[0m\n",
      "Val Epoch:19: 39it [00:17,  2.42it/s]\u001b[32m [repeated 17x across cluster]\u001b[0m\n"
     ]
    },
    {
     "name": "stdout",
     "output_type": "stream",
     "text": [
      "\u001b[36m(tune_with_parameters pid=3099986)\u001b[0m loss: 0.547\n"
     ]
    },
    {
     "name": "stderr",
     "output_type": "stream",
     "text": [
      "Val Epoch:19: 49it [00:23,  2.33it/s]\u001b[32m [repeated 10x across cluster]\u001b[0m\n"
     ]
    },
    {
     "name": "stdout",
     "output_type": "stream",
     "text": [
      "\u001b[36m(tune_with_parameters pid=2663640)\u001b[0m loss: 0.585\n"
     ]
    },
    {
     "name": "stderr",
     "output_type": "stream",
     "text": [
      "Val Epoch:4: 0it [00:00, ?it/s]3105646)\u001b[0m \n",
      "Val Epoch:19: 50it [00:25,  1.98it/s]\u001b[32m [repeated 2x across cluster]\u001b[0m\n",
      "Val Epoch:4: 9it [00:05,  2.09it/s]\u001b[32m [repeated 9x across cluster]\u001b[0m\n"
     ]
    },
    {
     "name": "stdout",
     "output_type": "stream",
     "text": [
      "\u001b[36m(tune_with_parameters pid=2992472)\u001b[0m loss: 0.620\n"
     ]
    },
    {
     "name": "stderr",
     "output_type": "stream",
     "text": [
      "Val Epoch:4: 21it [00:10,  1.74it/s]\u001b[32m [repeated 10x across cluster]\u001b[0m\n",
      "Val Epoch:4: 33it [00:16,  1.56it/s]\u001b[32m [repeated 12x across cluster]\u001b[0m\n",
      "Val Epoch:4: 49it [00:21,  1.67it/s]\u001b[32m [repeated 16x across cluster]\u001b[0m\n"
     ]
    },
    {
     "name": "stdout",
     "output_type": "stream",
     "text": [
      "\u001b[36m(tune_with_parameters pid=3105646)\u001b[0m loss: 0.551\n",
      "\u001b[36m(tune_with_parameters pid=3099986)\u001b[0m loss: 0.555\n",
      "\u001b[36m(tune_with_parameters pid=2663640)\u001b[0m loss: 0.587\n",
      "\u001b[36m(tune_with_parameters pid=2992472)\u001b[0m loss: 0.582\n"
     ]
    },
    {
     "name": "stderr",
     "output_type": "stream",
     "text": [
      "Val Epoch:4: 0it [00:00, ?it/s]3099986)\u001b[0m \n",
      "Val Epoch:4: 50it [00:23,  2.17it/s]\u001b[32m [repeated 2x across cluster]\u001b[0m\n",
      "Val Epoch:4: 2it [00:05,  2.24s/it]\u001b[32m [repeated 2x across cluster]\u001b[0m\n",
      "Val Epoch:4: 12it [00:10,  1.61it/s]\u001b[32m [repeated 10x across cluster]\u001b[0m\n"
     ]
    },
    {
     "name": "stdout",
     "output_type": "stream",
     "text": [
      "\u001b[36m(tune_with_parameters pid=3105646)\u001b[0m loss: 0.584\n"
     ]
    },
    {
     "name": "stderr",
     "output_type": "stream",
     "text": [
      "Val Epoch:4: 25it [00:15,  2.09it/s]\u001b[32m [repeated 13x across cluster]\u001b[0m\n",
      "Val Epoch:4: 48it [00:20,  6.70it/s]\u001b[32m [repeated 17x across cluster]\u001b[0m\n"
     ]
    },
    {
     "name": "stdout",
     "output_type": "stream",
     "text": [
      "\u001b[36m(tune_with_parameters pid=3099986)\u001b[0m loss: 0.564\n",
      "\u001b[36m(tune_with_parameters pid=2663640)\u001b[0m loss: 0.586\n",
      "\u001b[36m(tune_with_parameters pid=2992472)\u001b[0m loss: 0.581\n"
     ]
    },
    {
     "name": "stderr",
     "output_type": "stream",
     "text": [
      "Val Epoch:67: 0it [00:00, ?it/s]663640)\u001b[0m \n",
      "Val Epoch:4: 50it [00:21,  2.29it/s]\u001b[32m [repeated 2x across cluster]\u001b[0m\n",
      "Val Epoch:67: 1it [00:05,  5.77s/it]40)\u001b[0m \n",
      "Val Epoch:67: 2it [00:05,  2.44s/it]40)\u001b[0m \n",
      "Val Epoch:67: 3it [00:06,  1.39s/it]40)\u001b[0m \n",
      "Val Epoch:67: 4it [00:06,  1.06s/it]40)\u001b[0m \n",
      "Val Epoch:20: 0it [00:00, ?it/s]992472)\u001b[0m \n",
      "Val Epoch:67: 5it [00:07,  1.17s/it]40)\u001b[0m \n",
      "Val Epoch:67: 6it [00:08,  1.20it/s]40)\u001b[0m \n",
      "Val Epoch:67: 7it [00:08,  1.63it/s]40)\u001b[0m \n"
     ]
    },
    {
     "name": "stdout",
     "output_type": "stream",
     "text": [
      "\u001b[36m(tune_with_parameters pid=3105646)\u001b[0m loss: 0.585\n"
     ]
    },
    {
     "name": "stderr",
     "output_type": "stream",
     "text": [
      "Val Epoch:67: 8it [00:08,  1.93it/s]40)\u001b[0m \n",
      "Val Epoch:67: 9it [00:09,  1.69it/s]40)\u001b[0m \n",
      "Val Epoch:67: 10it [00:09,  2.20it/s]0)\u001b[0m \n",
      "Val Epoch:67: 11it [00:09,  2.67it/s]0)\u001b[0m \n",
      "Val Epoch:67: 12it [00:09,  3.29it/s]0)\u001b[0m \n",
      "Val Epoch:67: 13it [00:10,  1.89it/s]0)\u001b[0m \n",
      "Val Epoch:67: 14it [00:11,  2.35it/s]0)\u001b[0m \n",
      "Val Epoch:67: 15it [00:11,  2.42it/s]0)\u001b[0m \n",
      "Val Epoch:20: 13it [00:09,  2.71it/s]\u001b[32m [repeated 21x across cluster]\u001b[0m\n",
      "Val Epoch:67: 36it [00:21,  2.80it/s]\u001b[32m [repeated 21x across cluster]\u001b[0m\n",
      "Val Epoch:20: 46it [00:20,  7.33it/s]\u001b[32m [repeated 23x across cluster]\u001b[0m\n"
     ]
    },
    {
     "name": "stdout",
     "output_type": "stream",
     "text": [
      "\u001b[36m(tune_with_parameters pid=3099986)\u001b[0m loss: 0.573\n"
     ]
    },
    {
     "name": "stderr",
     "output_type": "stream",
     "text": [
      "Val Epoch:5: 0it [00:00, ?it/s]3105646)\u001b[0m \n",
      "Val Epoch:20: 50it [00:23,  2.17it/s]\u001b[32m [repeated 3x across cluster]\u001b[0m\n"
     ]
    },
    {
     "name": "stdout",
     "output_type": "stream",
     "text": [
      "\u001b[36m(tune_with_parameters pid=2663640)\u001b[0m loss: 0.603\n"
     ]
    },
    {
     "name": "stderr",
     "output_type": "stream",
     "text": [
      "Val Epoch:5: 1it [00:04,  4.96s/it]646)\u001b[0m \n",
      "Val Epoch:5: 2it [00:05,  2.12s/it]646)\u001b[0m \n",
      "Val Epoch:5: 3it [00:05,  1.39s/it]646)\u001b[0m \n",
      "Val Epoch:5: 4it [00:06,  1.23s/it]646)\u001b[0m \n",
      "Val Epoch:5: 5it [00:06,  1.19it/s]646)\u001b[0m \n",
      "Val Epoch:5: 6it [00:06,  1.64it/s]646)\u001b[0m \n",
      "Val Epoch:5: 7it [00:07,  1.93it/s]646)\u001b[0m \n",
      "Val Epoch:5: 8it [00:07,  1.80it/s]646)\u001b[0m \n",
      "Val Epoch:5: 9it [00:08,  1.89it/s]646)\u001b[0m \n",
      "Val Epoch:5: 10it [00:08,  1.94it/s]46)\u001b[0m \n",
      "Val Epoch:5: 11it [00:09,  2.41it/s]46)\u001b[0m \n",
      "Val Epoch:5: 12it [00:09,  2.14it/s]46)\u001b[0m \n"
     ]
    },
    {
     "name": "stdout",
     "output_type": "stream",
     "text": [
      "\u001b[36m(tune_with_parameters pid=2992472)\u001b[0m loss: 0.601\n"
     ]
    },
    {
     "name": "stderr",
     "output_type": "stream",
     "text": [
      "Val Epoch:5: 13it [00:10,  1.88it/s]46)\u001b[0m \n",
      "Val Epoch:5: 14it [00:10,  2.06it/s]46)\u001b[0m \n",
      "Val Epoch:5: 15it [00:11,  2.25it/s]46)\u001b[0m \n",
      "Val Epoch:5: 16it [00:11,  2.32it/s]46)\u001b[0m \n",
      "Val Epoch:5: 17it [00:12,  1.47it/s]46)\u001b[0m \n",
      "Val Epoch:5: 18it [00:12,  1.86it/s]46)\u001b[0m \n",
      "Val Epoch:5: 19it [00:13,  2.16it/s]46)\u001b[0m \n",
      "Val Epoch:5: 20it [00:13,  1.91it/s]46)\u001b[0m \n",
      "Val Epoch:5: 21it [00:14,  2.41it/s]46)\u001b[0m \n",
      "Val Epoch:5: 22it [00:14,  3.05it/s]46)\u001b[0m \n",
      "Val Epoch:5: 23it [00:14,  2.70it/s]46)\u001b[0m \n",
      "Val Epoch:5: 24it [00:14,  3.14it/s]46)\u001b[0m \n",
      "Val Epoch:5: 25it [00:15,  2.85it/s]46)\u001b[0m \n",
      "Val Epoch:5: 26it [00:15,  3.25it/s]46)\u001b[0m \n",
      "Val Epoch:5: 27it [00:15,  3.49it/s]46)\u001b[0m \n",
      "Val Epoch:5: 28it [00:15,  3.82it/s]46)\u001b[0m \n",
      "Val Epoch:5: 30it [00:16,  5.81it/s]46)\u001b[0m \n",
      "Val Epoch:5: 31it [00:16,  5.57it/s]46)\u001b[0m \n",
      "Val Epoch:5: 32it [00:16,  6.04it/s]46)\u001b[0m \n",
      "Val Epoch:5: 33it [00:17,  2.50it/s]46)\u001b[0m \n",
      "Val Epoch:5: 35it [00:17,  2.95it/s]46)\u001b[0m \n",
      "Val Epoch:5: 36it [00:18,  3.21it/s]46)\u001b[0m \n",
      "Val Epoch:5: 38it [00:18,  4.52it/s]46)\u001b[0m \n",
      "Val Epoch:5: 39it [00:18,  4.76it/s]46)\u001b[0m \n",
      "Val Epoch:5: 40it [00:18,  5.43it/s]46)\u001b[0m \n",
      "Val Epoch:5: 41it [00:18,  5.50it/s]46)\u001b[0m \n",
      "Val Epoch:5: 42it [00:18,  5.29it/s]46)\u001b[0m \n",
      "Val Epoch:5: 44it [00:19,  6.91it/s]46)\u001b[0m \n",
      "Val Epoch:5: 45it [00:19,  7.09it/s]46)\u001b[0m \n",
      "Val Epoch:5: 47it [00:19,  8.41it/s]46)\u001b[0m \n",
      "Val Epoch:5: 48it [00:19,  8.71it/s]46)\u001b[0m \n",
      "Val Epoch:5: 49it [00:20,  4.39it/s]46)\u001b[0m \n",
      "Val Epoch:5: 50it [00:21,  2.36it/s]46)\u001b[0m \n"
     ]
    },
    {
     "name": "stdout",
     "output_type": "stream",
     "text": [
      "\u001b[36m(tune_with_parameters pid=3105646)\u001b[0m loss: 0.602\n",
      "\u001b[36m(tune_with_parameters pid=3099986)\u001b[0m loss: 0.564\n",
      "\u001b[36m(tune_with_parameters pid=2663640)\u001b[0m loss: 0.585\n",
      "\u001b[36m(tune_with_parameters pid=2992472)\u001b[0m loss: 0.584\n"
     ]
    },
    {
     "name": "stderr",
     "output_type": "stream",
     "text": [
      "Val Epoch:5: 0it [00:00, ?it/s]3099986)\u001b[0m \n",
      "Val Epoch:5: 1it [00:02,  2.00s/it]986)\u001b[0m \n",
      "Val Epoch:5: 2it [00:02,  1.17s/it]986)\u001b[0m \n",
      "Val Epoch:5: 3it [00:03,  1.01it/s]986)\u001b[0m \n",
      "Val Epoch:5: 4it [00:04,  1.04it/s]986)\u001b[0m \n",
      "Val Epoch:5: 5it [00:04,  1.36it/s]986)\u001b[0m \n",
      "Val Epoch:5: 6it [00:04,  1.71it/s]986)\u001b[0m \n",
      "Val Epoch:5: 7it [00:05,  2.20it/s]986)\u001b[0m \n",
      "Val Epoch:5: 8it [00:05,  2.05it/s]986)\u001b[0m \n"
     ]
    },
    {
     "name": "stdout",
     "output_type": "stream",
     "text": [
      "\u001b[36m(tune_with_parameters pid=3105646)\u001b[0m loss: 0.582\n"
     ]
    },
    {
     "name": "stderr",
     "output_type": "stream",
     "text": [
      "Val Epoch:5: 9it [00:07,  1.28it/s]986)\u001b[0m \n",
      "Val Epoch:5: 10it [00:07,  1.47it/s]86)\u001b[0m \n",
      "Val Epoch:5: 11it [00:08,  1.57it/s]86)\u001b[0m \n",
      "Val Epoch:5: 12it [00:08,  1.56it/s]86)\u001b[0m \n",
      "Val Epoch:5: 13it [00:08,  1.99it/s]86)\u001b[0m \n",
      "Val Epoch:5: 14it [00:09,  2.49it/s]86)\u001b[0m \n",
      "Val Epoch:5: 15it [00:09,  2.71it/s]86)\u001b[0m \n",
      "Val Epoch:5: 16it [00:09,  2.74it/s]86)\u001b[0m \n",
      "Val Epoch:5: 17it [00:10,  1.90it/s]86)\u001b[0m \n",
      "Val Epoch:5: 18it [00:10,  2.12it/s]86)\u001b[0m \n",
      "Val Epoch:5: 19it [00:11,  1.63it/s]86)\u001b[0m \n",
      "Val Epoch:5: 20it [00:12,  1.47it/s]86)\u001b[0m \n",
      "Val Epoch:5: 21it [00:12,  1.89it/s]86)\u001b[0m \n",
      "Val Epoch:5: 22it [00:13,  2.33it/s]86)\u001b[0m \n",
      "Val Epoch:5: 23it [00:13,  2.59it/s]86)\u001b[0m \n",
      "Val Epoch:5: 24it [00:14,  2.19it/s]86)\u001b[0m \n",
      "Val Epoch:5: 25it [00:14,  2.13it/s]86)\u001b[0m \n",
      "Val Epoch:5: 26it [00:14,  2.55it/s]86)\u001b[0m \n",
      "Val Epoch:5: 27it [00:15,  1.96it/s]86)\u001b[0m \n",
      "Val Epoch:5: 28it [00:16,  1.90it/s]86)\u001b[0m \n",
      "Val Epoch:5: 29it [00:16,  2.20it/s]86)\u001b[0m \n",
      "Val Epoch:5: 30it [00:16,  2.48it/s]86)\u001b[0m \n",
      "Val Epoch:5: 31it [00:16,  2.70it/s]86)\u001b[0m \n",
      "Val Epoch:5: 32it [00:17,  2.24it/s]86)\u001b[0m \n",
      "Val Epoch:5: 33it [00:18,  2.14it/s]86)\u001b[0m \n",
      "Val Epoch:5: 34it [00:18,  2.06it/s]86)\u001b[0m \n",
      "Val Epoch:5: 35it [00:19,  1.63it/s]86)\u001b[0m \n",
      "Val Epoch:5: 36it [00:20,  1.66it/s]86)\u001b[0m \n",
      "Val Epoch:5: 37it [00:20,  2.09it/s]86)\u001b[0m \n",
      "Val Epoch:5: 38it [00:20,  2.54it/s]86)\u001b[0m \n",
      "Val Epoch:5: 39it [00:21,  1.93it/s]86)\u001b[0m \n",
      "Val Epoch:5: 40it [00:21,  2.39it/s]86)\u001b[0m \n",
      "Val Epoch:5: 41it [00:21,  2.68it/s]86)\u001b[0m \n",
      "Val Epoch:5: 42it [00:22,  2.54it/s]86)\u001b[0m \n",
      "Val Epoch:5: 43it [00:22,  2.69it/s]86)\u001b[0m \n",
      "Val Epoch:5: 44it [00:22,  3.05it/s]86)\u001b[0m \n",
      "Val Epoch:5: 45it [00:22,  3.64it/s]86)\u001b[0m \n",
      "Val Epoch:5: 46it [00:23,  4.37it/s]86)\u001b[0m \n",
      "Val Epoch:5: 47it [00:23,  4.82it/s]86)\u001b[0m \n",
      "Val Epoch:5: 48it [00:23,  5.03it/s]86)\u001b[0m \n",
      "Val Epoch:5: 49it [00:23,  4.41it/s]86)\u001b[0m \n",
      "Val Epoch:5: 50it [00:23,  4.85it/s]86)\u001b[0m \n",
      "Val Epoch:5: 50it [00:25,  1.99it/s]86)\u001b[0m \n"
     ]
    },
    {
     "name": "stdout",
     "output_type": "stream",
     "text": [
      "\u001b[36m(tune_with_parameters pid=2663640)\u001b[0m loss: 0.586\n",
      "\u001b[36m(tune_with_parameters pid=2992472)\u001b[0m loss: 0.583\n"
     ]
    },
    {
     "name": "stderr",
     "output_type": "stream",
     "text": [
      "Val Epoch:68: 0it [00:00, ?it/s]663640)\u001b[0m \n"
     ]
    },
    {
     "name": "stdout",
     "output_type": "stream",
     "text": [
      "\u001b[36m(tune_with_parameters pid=3099986)\u001b[0m /tmp/tmpnfsqdhwg/checkpoint.pt\n"
     ]
    },
    {
     "name": "stderr",
     "output_type": "stream",
     "text": [
      "Val Epoch:68: 1it [00:05,  5.15s/it]40)\u001b[0m \n",
      "Val Epoch:21: 0it [00:00, ?it/s]992472)\u001b[0m \n",
      "Val Epoch:68: 2it [00:05,  2.27s/it]40)\u001b[0m \n",
      "Val Epoch:68: 3it [00:06,  1.62s/it]40)\u001b[0m \n",
      "Val Epoch:68: 4it [00:06,  1.03s/it]40)\u001b[0m \n",
      "Val Epoch:68: 5it [00:06,  1.20it/s]40)\u001b[0m \n",
      "Val Epoch:68: 6it [00:07,  1.67it/s]40)\u001b[0m \n",
      "Val Epoch:68: 8it [00:07,  2.91it/s]40)\u001b[0m \n",
      "Val Epoch:68: 9it [00:07,  2.34it/s]40)\u001b[0m \n",
      "Val Epoch:68: 10it [00:08,  2.72it/s]0)\u001b[0m \n"
     ]
    },
    {
     "name": "stdout",
     "output_type": "stream",
     "text": [
      "\u001b[36m(tune_with_parameters pid=3105646)\u001b[0m loss: 0.585\n"
     ]
    },
    {
     "name": "stderr",
     "output_type": "stream",
     "text": [
      "Val Epoch:21: 6it [00:04,  1.86it/s]\u001b[32m [repeated 10x across cluster]\u001b[0m\n",
      "Val Epoch:68: 30it [00:15,  3.15it/s]\u001b[32m [repeated 23x across cluster]\u001b[0m\n",
      "Val Epoch:68: 49it [00:20,  4.55it/s]\u001b[32m [repeated 27x across cluster]\u001b[0m\n",
      "\u001b[36m(tune_with_parameters pid=3099986)\u001b[0m Checkpoint successfully created at: Checkpoint(filesystem=local, path=/scratch/users/k23058970/Model training/results/NSQ vs AC LSTM/tune_with_parameters_2024-07-30_13-33-38/tune_with_parameters_0ca84_00011_11_dp=0.2000,hidden_size=400,lr=0.0036,num_layers=2_2024-07-30_13-34-23/checkpoint_000003)\n",
      "Val Epoch:6: 0it [00:00, ?it/s]3105646)\u001b[0m \n",
      "Val Epoch:21: 50it [00:17,  2.83it/s]\u001b[32m [repeated 11x across cluster]\u001b[0m\n"
     ]
    },
    {
     "name": "stdout",
     "output_type": "stream",
     "text": [
      "\u001b[36m(tune_with_parameters pid=2663640)\u001b[0m loss: 0.603\n",
      "\u001b[36m(tune_with_parameters pid=2992472)\u001b[0m loss: 0.582\n"
     ]
    },
    {
     "name": "stderr",
     "output_type": "stream",
     "text": [
      "Val Epoch:6: 1it [00:05,  5.99s/it]646)\u001b[0m \n",
      "Val Epoch:6: 2it [00:07,  3.19s/it]646)\u001b[0m \n",
      "Val Epoch:6: 4it [00:07,  1.35s/it]646)\u001b[0m \n",
      "Val Epoch:6: 5it [00:07,  1.02it/s]646)\u001b[0m \n",
      "Val Epoch:6: 6it [00:08,  1.37it/s]646)\u001b[0m \n",
      "Val Epoch:6: 7it [00:08,  1.26it/s]646)\u001b[0m \n",
      "Val Epoch:6: 8it [00:09,  1.55it/s]646)\u001b[0m \n",
      "Val Epoch:6: 9it [00:09,  1.54it/s]646)\u001b[0m \n",
      "Val Epoch:6: 10it [00:10,  1.80it/s]46)\u001b[0m \n",
      "Val Epoch:6: 11it [00:10,  2.30it/s]46)\u001b[0m \n",
      "Val Epoch:6: 12it [00:10,  2.82it/s]46)\u001b[0m \n",
      "Val Epoch:6: 13it [00:10,  3.33it/s]46)\u001b[0m \n",
      "Val Epoch:6: 14it [00:11,  3.17it/s]46)\u001b[0m \n",
      "Val Epoch:6: 15it [00:11,  2.18it/s]46)\u001b[0m \n"
     ]
    },
    {
     "name": "stdout",
     "output_type": "stream",
     "text": [
      "\u001b[36m(tune_with_parameters pid=3099986)\u001b[0m loss: 0.554\n"
     ]
    },
    {
     "name": "stderr",
     "output_type": "stream",
     "text": [
      "Val Epoch:6: 16it [00:12,  2.61it/s]46)\u001b[0m \n",
      "Val Epoch:6: 17it [00:13,  1.55it/s]46)\u001b[0m \n",
      "Val Epoch:6: 18it [00:14,  1.33it/s]46)\u001b[0m \n",
      "Val Epoch:6: 19it [00:14,  1.67it/s]46)\u001b[0m \n",
      "Val Epoch:6: 20it [00:14,  2.05it/s]46)\u001b[0m \n",
      "Val Epoch:6: 21it [00:15,  2.29it/s]46)\u001b[0m \n",
      "Val Epoch:6: 22it [00:15,  2.59it/s]46)\u001b[0m \n",
      "Val Epoch:6: 23it [00:16,  2.23it/s]46)\u001b[0m \n",
      "Val Epoch:6: 24it [00:16,  2.28it/s]46)\u001b[0m \n",
      "Val Epoch:6: 25it [00:16,  2.15it/s]46)\u001b[0m \n",
      "Val Epoch:6: 26it [00:18,  1.43it/s]46)\u001b[0m \n",
      "Val Epoch:6: 27it [00:18,  1.80it/s]46)\u001b[0m \n",
      "Val Epoch:6: 28it [00:18,  2.03it/s]46)\u001b[0m \n",
      "Val Epoch:6: 29it [00:19,  2.26it/s]46)\u001b[0m \n",
      "Val Epoch:6: 30it [00:19,  2.07it/s]46)\u001b[0m \n",
      "Val Epoch:6: 32it [00:19,  3.06it/s]46)\u001b[0m \n",
      "Val Epoch:6: 33it [00:20,  3.04it/s]46)\u001b[0m \n",
      "Val Epoch:6: 34it [00:20,  2.98it/s]46)\u001b[0m \n",
      "Val Epoch:6: 35it [00:21,  2.10it/s]46)\u001b[0m \n",
      "Val Epoch:6: 36it [00:21,  2.52it/s]46)\u001b[0m \n",
      "Val Epoch:6: 37it [00:21,  3.00it/s]46)\u001b[0m \n",
      "Val Epoch:6: 38it [00:22,  3.58it/s]46)\u001b[0m \n",
      "Val Epoch:6: 40it [00:22,  5.31it/s]46)\u001b[0m \n",
      "Val Epoch:6: 41it [00:22,  5.06it/s]46)\u001b[0m \n",
      "Val Epoch:6: 43it [00:22,  5.88it/s]46)\u001b[0m \n",
      "Val Epoch:6: 45it [00:22,  6.74it/s]46)\u001b[0m \n",
      "Val Epoch:6: 46it [00:23,  6.48it/s]46)\u001b[0m \n",
      "Val Epoch:6: 48it [00:23,  7.71it/s]46)\u001b[0m \n",
      "Val Epoch:6: 49it [00:23,  6.17it/s]46)\u001b[0m \n",
      "Val Epoch:6: 50it [00:24,  2.03it/s]46)\u001b[0m \n"
     ]
    },
    {
     "name": "stdout",
     "output_type": "stream",
     "text": [
      "\u001b[36m(tune_with_parameters pid=3105646)\u001b[0m loss: 0.603\n",
      "\u001b[36m(tune_with_parameters pid=2663640)\u001b[0m loss: 0.587\n",
      "\u001b[36m(tune_with_parameters pid=2992472)\u001b[0m loss: 0.588\n",
      "\u001b[36m(tune_with_parameters pid=3099986)\u001b[0m loss: 0.554\n",
      "\u001b[36m(tune_with_parameters pid=3105646)\u001b[0m loss: 0.583\n",
      "\u001b[36m(tune_with_parameters pid=2663640)\u001b[0m loss: 0.586\n",
      "\u001b[36m(tune_with_parameters pid=2992472)\u001b[0m loss: 0.587\n",
      "\u001b[36m(tune_with_parameters pid=3099986)\u001b[0m loss: 0.565\n"
     ]
    },
    {
     "name": "stderr",
     "output_type": "stream",
     "text": [
      "Val Epoch:69: 0it [00:00, ?it/s]663640)\u001b[0m \n",
      "Val Epoch:69: 1it [00:05,  5.80s/it]40)\u001b[0m \n",
      "Val Epoch:69: 2it [00:06,  2.95s/it]40)\u001b[0m \n",
      "Val Epoch:69: 3it [00:07,  1.75s/it]40)\u001b[0m \n",
      "Val Epoch:69: 4it [00:07,  1.10s/it]40)\u001b[0m \n",
      "Val Epoch:69: 6it [00:07,  1.83it/s]40)\u001b[0m \n",
      "Val Epoch:22: 0it [00:00, ?it/s]992472)\u001b[0m \n",
      "Val Epoch:69: 8it [00:07,  2.33it/s]40)\u001b[0m \n",
      "Val Epoch:69: 10it [00:08,  3.06it/s]0)\u001b[0m \n",
      "Val Epoch:69: 13it [00:08,  4.68it/s]0)\u001b[0m \n",
      "Val Epoch:69: 15it [00:08,  5.62it/s]0)\u001b[0m \n",
      "Val Epoch:69: 17it [00:09,  5.02it/s]0)\u001b[0m \n",
      "Val Epoch:69: 18it [00:09,  4.10it/s]0)\u001b[0m \n",
      "Val Epoch:69: 21it [00:09,  6.09it/s]0)\u001b[0m \n",
      "Val Epoch:69: 22it [00:09,  6.31it/s]0)\u001b[0m \n",
      "Val Epoch:69: 25it [00:10,  3.87it/s]\u001b[32m [repeated 5x across cluster]\u001b[0m\n"
     ]
    },
    {
     "name": "stdout",
     "output_type": "stream",
     "text": [
      "\u001b[36m(tune_with_parameters pid=3105646)\u001b[0m loss: 0.584\n"
     ]
    },
    {
     "name": "stderr",
     "output_type": "stream",
     "text": [
      "Val Epoch:6: 0it [00:00, ?it/s]3099986)\u001b[0m \n",
      "Val Epoch:69: 38it [00:15,  1.99it/s]\u001b[32m [repeated 22x across cluster]\u001b[0m\n",
      "Val Epoch:69: 50it [00:21,  2.35it/s]\u001b[32m [repeated 28x across cluster]\u001b[0m\n",
      "Val Epoch:6: 15it [00:10,  2.53it/s]\u001b[32m [repeated 21x across cluster]\u001b[0m\n",
      "Val Epoch:6: 25it [00:16,  1.18it/s]\u001b[32m [repeated 16x across cluster]\u001b[0m\n"
     ]
    },
    {
     "name": "stdout",
     "output_type": "stream",
     "text": [
      "\u001b[36m(tune_with_parameters pid=2663640)\u001b[0m loss: 0.581\n"
     ]
    },
    {
     "name": "stderr",
     "output_type": "stream",
     "text": [
      "Val Epoch:6: 33it [00:22,  1.31s/it]\u001b[32m [repeated 8x across cluster]\u001b[0m\n",
      "Val Epoch:7: 0it [00:00, ?it/s]3105646)\u001b[0m \n"
     ]
    },
    {
     "name": "stdout",
     "output_type": "stream",
     "text": [
      "\u001b[36m(tune_with_parameters pid=2992472)\u001b[0m loss: 0.606\n"
     ]
    },
    {
     "name": "stderr",
     "output_type": "stream",
     "text": [
      "Val Epoch:7: 1it [00:02,  2.55s/it]\u001b[32m [repeated 13x across cluster]\u001b[0m\n",
      "Val Epoch:7: 10it [00:08,  1.37it/s]\u001b[32m [repeated 8x across cluster]\u001b[0m\n",
      "Val Epoch:7: 19it [00:13,  1.43it/s]\u001b[32m [repeated 9x across cluster]\u001b[0m\n"
     ]
    },
    {
     "name": "stdout",
     "output_type": "stream",
     "text": [
      "\u001b[36m(tune_with_parameters pid=3099986)\u001b[0m loss: 0.617\n"
     ]
    },
    {
     "name": "stderr",
     "output_type": "stream",
     "text": [
      "Val Epoch:7: 32it [00:19,  2.23it/s]\u001b[32m [repeated 13x across cluster]\u001b[0m\n",
      "Val Epoch:7: 44it [00:24,  2.59it/s]\u001b[32m [repeated 12x across cluster]\u001b[0m\n"
     ]
    },
    {
     "name": "stdout",
     "output_type": "stream",
     "text": [
      "\u001b[36m(tune_with_parameters pid=3105646)\u001b[0m loss: 0.592\n",
      "\u001b[36m(tune_with_parameters pid=2663640)\u001b[0m loss: 0.584\n",
      "\u001b[36m(tune_with_parameters pid=2992472)\u001b[0m loss: 0.586\n",
      "\u001b[36m(tune_with_parameters pid=3099986)\u001b[0m loss: 0.579\n",
      "\u001b[36m(tune_with_parameters pid=3105646)\u001b[0m loss: 0.583\n",
      "\u001b[36m(tune_with_parameters pid=2663640)\u001b[0m loss: 0.586\n",
      "\u001b[36m(tune_with_parameters pid=2992472)\u001b[0m loss: 0.585\n",
      "\u001b[36m(tune_with_parameters pid=3099986)\u001b[0m loss: 0.576\n"
     ]
    },
    {
     "name": "stderr",
     "output_type": "stream",
     "text": [
      "Val Epoch:70: 0it [00:00, ?it/s]663640)\u001b[0m \n",
      "Val Epoch:7: 50it [00:26,  1.87it/s]\u001b[32m [repeated 6x across cluster]\u001b[0m\n",
      "Val Epoch:70: 1it [00:06,  6.21s/it]40)\u001b[0m \n",
      "Val Epoch:70: 2it [00:06,  2.95s/it]40)\u001b[0m \n",
      "Val Epoch:70: 3it [00:06,  1.66s/it]40)\u001b[0m \n",
      "Val Epoch:70: 4it [00:07,  1.16s/it]40)\u001b[0m \n",
      "Val Epoch:70: 5it [00:08,  1.23s/it]40)\u001b[0m \n",
      "Val Epoch:70: 6it [00:09,  1.10it/s]40)\u001b[0m \n",
      "Val Epoch:70: 7it [00:09,  1.30it/s]40)\u001b[0m \n",
      "Val Epoch:70: 8it [00:09,  1.71it/s]40)\u001b[0m \n",
      "Val Epoch:70: 9it [00:10,  1.29it/s]40)\u001b[0m \n",
      "Val Epoch:70: 10it [00:11,  1.72it/s]0)\u001b[0m \n",
      "Val Epoch:23: 0it [00:00, ?it/s]992472)\u001b[0m \n",
      "Val Epoch:70: 11it [00:11,  2.03it/s]0)\u001b[0m \n",
      "Val Epoch:70: 12it [00:11,  2.57it/s]0)\u001b[0m \n",
      "Val Epoch:70: 13it [00:12,  1.72it/s]0)\u001b[0m \n",
      "Val Epoch:70: 14it [00:13,  1.50it/s]0)\u001b[0m \n",
      "Val Epoch:70: 15it [00:13,  1.95it/s]0)\u001b[0m \n",
      "Val Epoch:70: 26it [00:18,  2.01it/s]\u001b[32m [repeated 15x across cluster]\u001b[0m\n"
     ]
    },
    {
     "name": "stdout",
     "output_type": "stream",
     "text": [
      "\u001b[36m(tune_with_parameters pid=3105646)\u001b[0m loss: 0.584\n"
     ]
    },
    {
     "name": "stderr",
     "output_type": "stream",
     "text": [
      "Val Epoch:70: 46it [00:23,  5.99it/s]0)\u001b[0m \n",
      "Val Epoch:23: 25it [00:12,  3.81it/s]\u001b[32m [repeated 26x across cluster]\u001b[0m\n",
      "Val Epoch:7: 0it [00:00, ?it/s]3099986)\u001b[0m \n",
      "Val Epoch:23: 46it [00:17,  3.35it/s]\u001b[32m [repeated 19x across cluster]\u001b[0m\n",
      "Val Epoch:7: 11it [00:09,  1.07it/s]\u001b[32m [repeated 11x across cluster]\u001b[0m\n"
     ]
    },
    {
     "name": "stdout",
     "output_type": "stream",
     "text": [
      "\u001b[36m(tune_with_parameters pid=2663640)\u001b[0m loss: 0.621\n"
     ]
    },
    {
     "name": "stderr",
     "output_type": "stream",
     "text": [
      "Val Epoch:7: 24it [00:14,  2.05it/s]\u001b[32m [repeated 12x across cluster]\u001b[0m\n",
      "Val Epoch:7: 32it [00:20,  2.08it/s]\u001b[32m [repeated 8x across cluster]\u001b[0m\n",
      "Val Epoch:8: 0it [00:00, ?it/s]3105646)\u001b[0m \n"
     ]
    },
    {
     "name": "stdout",
     "output_type": "stream",
     "text": [
      "\u001b[36m(tune_with_parameters pid=2992472)\u001b[0m loss: 0.573\n"
     ]
    },
    {
     "name": "stderr",
     "output_type": "stream",
     "text": [
      "Val Epoch:7: 41it [00:25,  1.92it/s]\u001b[32m [repeated 9x across cluster]\u001b[0m\n",
      "Val Epoch:8: 19it [00:06,  3.32it/s]\u001b[32m [repeated 22x across cluster]\u001b[0m\n",
      "Val Epoch:8: 27it [00:11,  1.11it/s]\u001b[32m [repeated 7x across cluster]\u001b[0m\n",
      "Val Epoch:8: 41it [00:16,  3.66it/s]\u001b[32m [repeated 13x across cluster]\u001b[0m\n"
     ]
    },
    {
     "name": "stdout",
     "output_type": "stream",
     "text": [
      "\u001b[36m(tune_with_parameters pid=3099986)\u001b[0m loss: 0.570\n",
      "\u001b[36m(tune_with_parameters pid=3105646)\u001b[0m loss: 0.585\n",
      "\u001b[36m(tune_with_parameters pid=2663640)\u001b[0m loss: 0.585\n",
      "\u001b[36m(tune_with_parameters pid=2992472)\u001b[0m loss: 0.585\n",
      "\u001b[36m(tune_with_parameters pid=3099986)\u001b[0m loss: 0.557\n",
      "\u001b[36m(tune_with_parameters pid=3105646)\u001b[0m loss: 0.584\n",
      "\u001b[36m(tune_with_parameters pid=2663640)\u001b[0m loss: 0.586\n",
      "\u001b[36m(tune_with_parameters pid=2992472)\u001b[0m loss: 0.586\n"
     ]
    },
    {
     "name": "stderr",
     "output_type": "stream",
     "text": [
      "Val Epoch:71: 0it [00:00, ?it/s]663640)\u001b[0m \n",
      "Val Epoch:8: 50it [00:19,  2.54it/s]\u001b[32m [repeated 10x across cluster]\u001b[0m\n"
     ]
    },
    {
     "name": "stdout",
     "output_type": "stream",
     "text": [
      "\u001b[36m(tune_with_parameters pid=3099986)\u001b[0m loss: 0.563\n"
     ]
    },
    {
     "name": "stderr",
     "output_type": "stream",
     "text": [
      "Val Epoch:71: 13it [00:05,  3.55it/s]\u001b[32m [repeated 7x across cluster]\u001b[0m\n",
      "Val Epoch:24: 0it [00:00, ?it/s]992472)\u001b[0m \n",
      "Val Epoch:24: 2it [00:04,  1.97s/it]\u001b[32m [repeated 11x across cluster]\u001b[0m\n"
     ]
    },
    {
     "name": "stdout",
     "output_type": "stream",
     "text": [
      "\u001b[36m(tune_with_parameters pid=3105646)\u001b[0m loss: 0.583\n"
     ]
    },
    {
     "name": "stderr",
     "output_type": "stream",
     "text": [
      "Val Epoch:71: 36it [00:15,  1.87it/s]\u001b[32m [repeated 22x across cluster]\u001b[0m\n",
      "Val Epoch:71: 49it [00:20,  2.84it/s]\u001b[32m [repeated 22x across cluster]\u001b[0m\n",
      "Val Epoch:24: 35it [00:20,  1.29it/s]\u001b[32m [repeated 11x across cluster]\u001b[0m\n",
      "Val Epoch:24: 46it [00:25,  3.33it/s]\u001b[32m [repeated 9x across cluster]\u001b[0m\n",
      "Val Epoch:8: 0it [00:00, ?it/s]3099986)\u001b[0m \n"
     ]
    },
    {
     "name": "stdout",
     "output_type": "stream",
     "text": [
      "\u001b[36m(tune_with_parameters pid=2663640)\u001b[0m loss: 0.583\n"
     ]
    },
    {
     "name": "stderr",
     "output_type": "stream",
     "text": [
      "\u001b[36m(tune_with_parameters pid=2992472)\u001b[0m [2024-07-30 17:30:29,830 E 2992472 2994927] logging.cc:115: Stack trace: \n",
      "\u001b[36m(tune_with_parameters pid=2992472)\u001b[0m  /users/k23058970/miniforge3/envs/Training/lib/python3.10/site-packages/ray/_raylet.so(+0x1033f2a) [0x703365bd8f2a] ray::operator<<()\n",
      "\u001b[36m(tune_with_parameters pid=2992472)\u001b[0m /users/k23058970/miniforge3/envs/Training/lib/python3.10/site-packages/ray/_raylet.so(+0x1036f72) [0x703365bdbf72] ray::TerminateHandler()\n",
      "\u001b[36m(tune_with_parameters pid=2992472)\u001b[0m /users/k23058970/miniforge3/envs/Training/bin/../lib/libstdc++.so.6(+0xb643c) [0x703364a7843c] __cxxabiv1::__terminate()\n",
      "\u001b[36m(tune_with_parameters pid=2992472)\u001b[0m /users/k23058970/miniforge3/envs/Training/bin/../lib/libstdc++.so.6(+0xb648e) [0x703364a7848e] __cxxabiv1::__unexpected()\n",
      "\u001b[36m(tune_with_parameters pid=2992472)\u001b[0m /users/k23058970/miniforge3/envs/Training/bin/../lib/libstdc++.so.6(__gxx_personality_v0+0x3e0) [0x703364a78109] __gxx_personality_v0\n",
      "\u001b[36m(tune_with_parameters pid=2992472)\u001b[0m /users/k23058970/miniforge3/envs/Training/bin/../lib/libgcc_s.so.1(+0x12899) [0x703366bcb899] _Unwind_ForcedUnwind_Phase2\n",
      "\u001b[36m(tune_with_parameters pid=2992472)\u001b[0m /users/k23058970/miniforge3/envs/Training/bin/../lib/libgcc_s.so.1(_Unwind_ForcedUnwind+0x74) [0x703366bcbbfc] _Unwind_ForcedUnwind\n",
      "\u001b[36m(tune_with_parameters pid=2992472)\u001b[0m /lib/x86_64-linux-gnu/libc.so.6(+0x9d446) [0x703366c9d446]\n",
      "\u001b[36m(tune_with_parameters pid=2992472)\u001b[0m /lib/x86_64-linux-gnu/libc.so.6(pthread_exit+0x3a) [0x703366c95cba] pthread_exit\n",
      "\u001b[36m(tune_with_parameters pid=2992472)\u001b[0m ray::ImplicitFunc(+0xe929a) [0x5c1a7cbed29a] _append_preinit_entry.isra.0\n",
      "\u001b[36m(tune_with_parameters pid=2992472)\u001b[0m ray::ImplicitFunc(+0x5df15) [0x5c1a7cb61f15] take_gil.cold\n",
      "\u001b[36m(tune_with_parameters pid=2992472)\u001b[0m ray::ImplicitFunc(PyEval_RestoreThread+0x12) [0x5c1a7cc63622] PyEval_RestoreThread\n",
      "\u001b[36m(tune_with_parameters pid=2992472)\u001b[0m /users/k23058970/miniforge3/envs/Training/lib/python3.10/site-packages/torch/lib/libtorch_python.so(+0x850e77) [0x70045525ae77] THPVariable_clear()\n",
      "\u001b[36m(tune_with_parameters pid=2992472)\u001b[0m /users/k23058970/miniforge3/envs/Training/lib/python3.10/site-packages/torch/lib/libtorch_python.so(_Z28THPVariable_subclass_deallocP7_object+0x2f6) [0x70045525b406] THPVariable_subclass_dealloc()\n",
      "\u001b[36m(tune_with_parameters pid=2992472)\u001b[0m ray::ImplicitFunc(+0x13d697) [0x5c1a7cc41697] frame_dealloc\n",
      "\u001b[36m(tune_with_parameters pid=2992472)\u001b[0m ray::ImplicitFunc(+0x14dcf6) [0x5c1a7cc51cf6] tb_dealloc\n",
      "\u001b[36m(tune_with_parameters pid=2992472)\u001b[0m ray::ImplicitFunc(+0x14dd53) [0x5c1a7cc51d53] tb_dealloc\n",
      "\u001b[36m(tune_with_parameters pid=2992472)\u001b[0m ray::ImplicitFunc(+0x14dd53) [0x5c1a7cc51d53] tb_dealloc\n",
      "\u001b[36m(tune_with_parameters pid=2992472)\u001b[0m ray::ImplicitFunc(+0x14dd53) [0x5c1a7cc51d53] tb_dealloc\n",
      "\u001b[36m(tune_with_parameters pid=2992472)\u001b[0m ray::ImplicitFunc(+0x14dd53) [0x5c1a7cc51d53] tb_dealloc\n",
      "\u001b[36m(tune_with_parameters pid=2992472)\u001b[0m ray::ImplicitFunc(+0x14dd53) [0x5c1a7cc51d53] tb_dealloc\n",
      "\u001b[36m(tune_with_parameters pid=2992472)\u001b[0m ray::ImplicitFunc(+0x129739) [0x5c1a7cc2d739] BaseException_clear\n",
      "\u001b[36m(tune_with_parameters pid=2992472)\u001b[0m ray::ImplicitFunc(+0x20f3d1) [0x5c1a7cd133d1] NameError_dealloc\n",
      "\u001b[36m(tune_with_parameters pid=2992472)\u001b[0m ray::ImplicitFunc(_PyEval_EvalFrameDefault+0x4937) [0x5c1a7cc3ce67] _PyEval_EvalFrameDefault\n",
      "\u001b[36m(tune_with_parameters pid=2992472)\u001b[0m ray::ImplicitFunc(_PyFunction_Vectorcall+0x6c) [0x5c1a7cc48a2c] _PyFunction_Vectorcall\n",
      "\u001b[36m(tune_with_parameters pid=2992472)\u001b[0m ray::ImplicitFunc(_PyEval_EvalFrameDefault+0x72c) [0x5c1a7cc38c5c] _PyEval_EvalFrameDefault\n",
      "\u001b[36m(tune_with_parameters pid=2992472)\u001b[0m ray::ImplicitFunc(_PyFunction_Vectorcall+0x6c) [0x5c1a7cc48a2c] _PyFunction_Vectorcall\n",
      "\u001b[36m(tune_with_parameters pid=2992472)\u001b[0m ray::ImplicitFunc(_PyEval_EvalFrameDefault+0x72c) [0x5c1a7cc38c5c] _PyEval_EvalFrameDefault\n",
      "\u001b[36m(tune_with_parameters pid=2992472)\u001b[0m ray::ImplicitFunc(+0x150804) [0x5c1a7cc54804] method_vectorcall\n",
      "\u001b[36m(tune_with_parameters pid=2992472)\u001b[0m ray::ImplicitFunc(+0x228372) [0x5c1a7cd2c372] thread_run\n",
      "\u001b[36m(tune_with_parameters pid=2992472)\u001b[0m ray::ImplicitFunc(+0x228324) [0x5c1a7cd2c324] pythread_wrapper\n",
      "\u001b[36m(tune_with_parameters pid=2992472)\u001b[0m /lib/x86_64-linux-gnu/libc.so.6(+0x94ac3) [0x703366c94ac3]\n",
      "\u001b[36m(tune_with_parameters pid=2992472)\u001b[0m /lib/x86_64-linux-gnu/libc.so.6(+0x126850) [0x703366d26850]\n",
      "\u001b[36m(tune_with_parameters pid=2992472)\u001b[0m \n",
      "Val Epoch:8: 6it [00:03,  1.88it/s]\u001b[32m [repeated 10x across cluster]\u001b[0m\n",
      "Val Epoch:9: 0it [00:00, ?it/s]3105646)\u001b[0m \n",
      "Val Epoch:8: 17it [00:09,  2.04it/s]\u001b[32m [repeated 9x across cluster]\u001b[0m\n",
      "Val Epoch:9: 5it [00:05,  1.30it/s]\u001b[32m [repeated 20x across cluster]\u001b[0m\n",
      "Val Epoch:8: 47it [00:19,  3.93it/s]\u001b[32m [repeated 24x across cluster]\u001b[0m\n",
      "Val Epoch:9: 33it [00:16,  2.12it/s]\u001b[32m [repeated 17x across cluster]\u001b[0m\n"
     ]
    },
    {
     "name": "stdout",
     "output_type": "stream",
     "text": [
      "\u001b[36m(tune_with_parameters pid=3099986)\u001b[0m loss: 0.599\n",
      "\u001b[36m(tune_with_parameters pid=3105646)\u001b[0m loss: 0.590\n",
      "\u001b[36m(tune_with_parameters pid=2663640)\u001b[0m loss: 0.585\n",
      "\u001b[36m(tune_with_parameters pid=3099986)\u001b[0m loss: 0.575\n",
      "\u001b[36m(tune_with_parameters pid=3105646)\u001b[0m loss: 0.579\n",
      "\u001b[36m(tune_with_parameters pid=2663640)\u001b[0m loss: 0.586\n"
     ]
    },
    {
     "name": "stderr",
     "output_type": "stream",
     "text": [
      "Val Epoch:72: 0it [00:00, ?it/s]663640)\u001b[0m \n",
      "Val Epoch:9: 50it [00:20,  2.43it/s]\u001b[32m [repeated 10x across cluster]\u001b[0m\n",
      "Val Epoch:72: 6it [00:05,  1.84it/s]\u001b[32m [repeated 5x across cluster]\u001b[0m\n",
      "\u001b[36m(tune_with_parameters pid=3189460)\u001b[0m /users/k23058970/miniforge3/envs/Training/lib/python3.10/site-packages/torch/utils/data/dataloader.py:558: UserWarning: This DataLoader will create 8 worker processes in total. Our suggested max number of worker in current system is 2, which is smaller than what this DataLoader is going to create. Please be aware that excessive worker creation might get DataLoader running slow or even freeze, lower the worker number to avoid potential slowness/freeze if necessary.\n",
      "\u001b[36m(tune_with_parameters pid=3189460)\u001b[0m   warnings.warn(_create_warning_msg(\n"
     ]
    },
    {
     "name": "stdout",
     "output_type": "stream",
     "text": [
      "\u001b[36m(tune_with_parameters pid=3099986)\u001b[0m loss: 0.573\n"
     ]
    },
    {
     "name": "stderr",
     "output_type": "stream",
     "text": [
      "Val Epoch:72: 17it [00:10,  1.53it/s]\u001b[32m [repeated 9x across cluster]\u001b[0m\n",
      "Val Epoch:72: 25it [00:15,  1.31it/s]\u001b[32m [repeated 8x across cluster]\u001b[0m\n"
     ]
    },
    {
     "name": "stdout",
     "output_type": "stream",
     "text": [
      "\u001b[36m(tune_with_parameters pid=3105646)\u001b[0m loss: 0.582\n"
     ]
    },
    {
     "name": "stderr",
     "output_type": "stream",
     "text": [
      "Val Epoch:72: 36it [00:20,  1.79it/s]\u001b[32m [repeated 11x across cluster]\u001b[0m\n",
      "Val Epoch:72: 50it [00:26,  1.92it/s]\u001b[32m [repeated 10x across cluster]\u001b[0m\n",
      "Val Epoch:9: 0it [00:00, ?it/s]3099986)\u001b[0m \n"
     ]
    },
    {
     "name": "stdout",
     "output_type": "stream",
     "text": [
      "\u001b[36m(tune_with_parameters pid=2663640)\u001b[0m loss: 0.591\n"
     ]
    },
    {
     "name": "stderr",
     "output_type": "stream",
     "text": [
      "Val Epoch:9: 1it [00:05,  5.81s/it]986)\u001b[0m \n",
      "Val Epoch:9: 2it [00:06,  3.07s/it]986)\u001b[0m \n",
      "Val Epoch:9: 3it [00:07,  1.81s/it]986)\u001b[0m \n",
      "Val Epoch:10: 0it [00:00, ?it/s]105646)\u001b[0m \n",
      "Val Epoch:9: 4it [00:07,  1.29s/it]986)\u001b[0m \n",
      "Val Epoch:9: 5it [00:07,  1.14it/s]986)\u001b[0m \n",
      "Val Epoch:9: 6it [00:08,  1.33it/s]986)\u001b[0m \n",
      "Val Epoch:9: 7it [00:09,  1.28it/s]986)\u001b[0m \n",
      "Val Epoch:9: 8it [00:09,  1.70it/s]986)\u001b[0m \n",
      "Val Epoch:9: 9it [00:10,  1.66it/s]986)\u001b[0m \n",
      "Val Epoch:10: 1it [00:03,  3.45s/it]46)\u001b[0m \n",
      "Val Epoch:9: 10it [00:11,  1.20it/s]86)\u001b[0m \n",
      "Val Epoch:9: 26it [00:16,  2.34it/s]\u001b[32m [repeated 26x across cluster]\u001b[0m\n",
      "Val Epoch:10: 37it [00:14,  2.59it/s]\u001b[32m [repeated 33x across cluster]\u001b[0m\n",
      "\u001b[36m(tune_with_parameters pid=3189460)\u001b[0m /users/k23058970/miniforge3/envs/Training/lib/python3.10/site-packages/torch/nn/modules/lazy.py:181: UserWarning: Lazy modules are a new feature under heavy development so changes to the API or functionality can happen at any moment.\n",
      "\u001b[36m(tune_with_parameters pid=3189460)\u001b[0m   warnings.warn('Lazy modules are a new feature under heavy development '\n",
      "Val Epoch:10: 50it [00:18,  2.70it/s]\u001b[32m [repeated 12x across cluster]\u001b[0m\n"
     ]
    },
    {
     "name": "stdout",
     "output_type": "stream",
     "text": [
      "\u001b[36m(tune_with_parameters pid=3099986)\u001b[0m loss: 0.596\n",
      "\u001b[36m(tune_with_parameters pid=3105646)\u001b[0m loss: 0.580\n",
      "\u001b[36m(tune_with_parameters pid=2663640)\u001b[0m loss: 0.585\n"
     ]
    },
    {
     "name": "stderr",
     "output_type": "stream",
     "text": [
      "\u001b[36m(tune_with_parameters pid=3189460)\u001b[0m /users/k23058970/miniforge3/envs/Training/lib/python3.10/site-packages/torch/utils/data/dataloader.py:558: UserWarning: This DataLoader will create 8 worker processes in total. Our suggested max number of worker in current system is 2, which is smaller than what this DataLoader is going to create. Please be aware that excessive worker creation might get DataLoader running slow or even freeze, lower the worker number to avoid potential slowness/freeze if necessary.\n",
      "\u001b[36m(tune_with_parameters pid=3189460)\u001b[0m   warnings.warn(_create_warning_msg(\n"
     ]
    },
    {
     "name": "stdout",
     "output_type": "stream",
     "text": [
      "\u001b[36m(tune_with_parameters pid=3189460)\u001b[0m loss: 0.681\n",
      "\u001b[36m(tune_with_parameters pid=3099986)\u001b[0m loss: 0.569\n",
      "\u001b[36m(tune_with_parameters pid=3105646)\u001b[0m loss: 0.581\n",
      "\u001b[36m(tune_with_parameters pid=2663640)\u001b[0m loss: 0.586\n",
      "\u001b[36m(tune_with_parameters pid=3189460)\u001b[0m loss: 0.585\n"
     ]
    },
    {
     "name": "stderr",
     "output_type": "stream",
     "text": [
      "Val Epoch:73: 0it [00:00, ?it/s]663640)\u001b[0m \n",
      "Val Epoch:73: 1it [00:03,  3.96s/it]40)\u001b[0m \n",
      "Val Epoch:73: 2it [00:04,  1.88s/it]40)\u001b[0m \n",
      "Val Epoch:73: 3it [00:04,  1.25s/it]40)\u001b[0m \n",
      "Val Epoch:73: 4it [00:05,  1.17it/s]40)\u001b[0m \n",
      "Val Epoch:73: 5it [00:05,  1.29it/s]40)\u001b[0m \n",
      "Val Epoch:73: 6it [00:05,  1.73it/s]40)\u001b[0m \n",
      "Val Epoch:73: 7it [00:06,  2.16it/s]40)\u001b[0m \n",
      "Val Epoch:73: 8it [00:06,  2.17it/s]40)\u001b[0m \n",
      "Val Epoch:73: 9it [00:07,  1.39it/s]40)\u001b[0m \n",
      "Val Epoch:73: 10it [00:08,  1.81it/s]0)\u001b[0m \n",
      "Val Epoch:73: 11it [00:09,  1.36it/s]0)\u001b[0m \n",
      "Val Epoch:73: 12it [00:09,  1.79it/s]0)\u001b[0m \n",
      "Val Epoch:73: 13it [00:09,  2.14it/s]0)\u001b[0m \n",
      "Val Epoch:73: 14it [00:09,  2.67it/s]0)\u001b[0m \n",
      "Val Epoch:73: 15it [00:10,  3.15it/s]0)\u001b[0m \n",
      "Val Epoch:73: 16it [00:10,  2.62it/s]0)\u001b[0m \n",
      "Val Epoch:73: 17it [00:12,  1.31it/s]0)\u001b[0m \n",
      "Val Epoch:73: 18it [00:12,  1.70it/s]0)\u001b[0m \n",
      "Val Epoch:73: 19it [00:13,  1.50it/s]0)\u001b[0m \n",
      "Val Epoch:73: 20it [00:13,  1.44it/s]0)\u001b[0m \n",
      "Val Epoch:73: 22it [00:14,  2.24it/s]0)\u001b[0m \n"
     ]
    },
    {
     "name": "stdout",
     "output_type": "stream",
     "text": [
      "\u001b[36m(tune_with_parameters pid=3099986)\u001b[0m loss: 0.567\n"
     ]
    },
    {
     "name": "stderr",
     "output_type": "stream",
     "text": [
      "Val Epoch:73: 23it [00:14,  2.40it/s]0)\u001b[0m \n"
     ]
    },
    {
     "name": "stdout",
     "output_type": "stream",
     "text": [
      "\u001b[36m(tune_with_parameters pid=3105646)\u001b[0m loss: 0.582\n"
     ]
    },
    {
     "name": "stderr",
     "output_type": "stream",
     "text": [
      "Val Epoch:73: 25it [00:15,  2.92it/s]0)\u001b[0m \n",
      "Val Epoch:73: 27it [00:15,  3.93it/s]0)\u001b[0m \n",
      "Val Epoch:73: 28it [00:15,  4.32it/s]0)\u001b[0m \n",
      "Val Epoch:73: 30it [00:15,  6.06it/s]0)\u001b[0m \n",
      "Val Epoch:73: 31it [00:15,  5.78it/s]0)\u001b[0m \n",
      "Val Epoch:73: 32it [00:15,  5.78it/s]0)\u001b[0m \n",
      "Val Epoch:73: 33it [00:16,  3.67it/s]0)\u001b[0m \n",
      "Val Epoch:73: 34it [00:16,  3.81it/s]0)\u001b[0m \n",
      "Val Epoch:73: 36it [00:17,  3.92it/s]0)\u001b[0m \n",
      "Val Epoch:73: 38it [00:17,  5.06it/s]0)\u001b[0m \n",
      "Val Epoch:73: 39it [00:17,  3.80it/s]0)\u001b[0m \n",
      "Val Epoch:73: 41it [00:18,  5.18it/s]0)\u001b[0m \n",
      "Val Epoch:73: 42it [00:18,  5.49it/s]0)\u001b[0m \n",
      "Val Epoch:73: 43it [00:18,  5.63it/s]0)\u001b[0m \n",
      "Val Epoch:73: 45it [00:18,  7.16it/s]0)\u001b[0m \n",
      "Val Epoch:73: 47it [00:19,  5.46it/s]0)\u001b[0m \n",
      "Val Epoch:73: 48it [00:19,  5.74it/s]0)\u001b[0m \n",
      "Val Epoch:73: 49it [00:19,  5.73it/s]0)\u001b[0m \n",
      "Val Epoch:73: 50it [00:19,  6.06it/s]0)\u001b[0m \n",
      "Val Epoch:73: 50it [00:20,  2.43it/s]0)\u001b[0m \n"
     ]
    },
    {
     "name": "stdout",
     "output_type": "stream",
     "text": [
      "\u001b[36m(tune_with_parameters pid=2663640)\u001b[0m loss: 0.572\n"
     ]
    },
    {
     "name": "stderr",
     "output_type": "stream",
     "text": [
      "Val Epoch:10: 0it [00:00, ?it/s]099986)\u001b[0m \n",
      "Val Epoch:11: 1it [00:01,  1.79s/it]46)\u001b[0m \n",
      "Val Epoch:11: 0it [00:00, ?it/s]105646)\u001b[0m \n",
      "Val Epoch:10: 17it [00:06,  2.42it/s]\u001b[32m [repeated 31x across cluster]\u001b[0m\n",
      "Val Epoch:10: 28it [00:11,  2.87it/s]\u001b[32m [repeated 22x across cluster]\u001b[0m\n",
      "Val Epoch:10: 41it [00:17,  2.04it/s]\u001b[32m [repeated 23x across cluster]\u001b[0m\n"
     ]
    },
    {
     "name": "stdout",
     "output_type": "stream",
     "text": [
      "\u001b[36m(tune_with_parameters pid=3189460)\u001b[0m loss: 0.585\n",
      "\u001b[36m(tune_with_parameters pid=3099986)\u001b[0m loss: 0.522\u001b[32m [repeated 2x across cluster]\u001b[0m\n"
     ]
    },
    {
     "name": "stderr",
     "output_type": "stream",
     "text": [
      "Val Epoch:0: 0it [00:00, ?it/s]3189460)\u001b[0m \n",
      "Val Epoch:10: 50it [00:21,  2.34it/s]\u001b[32m [repeated 19x across cluster]\u001b[0m\n",
      "Val Epoch:0: 4it [00:05,  1.01s/it]\u001b[32m [repeated 3x across cluster]\u001b[0m\n",
      "Val Epoch:0: 28it [00:10,  2.27it/s]\u001b[32m [repeated 14x across cluster]\u001b[0m\n",
      "Val Epoch:0: 39it [00:15,  2.06it/s]\u001b[32m [repeated 10x across cluster]\u001b[0m\n"
     ]
    },
    {
     "name": "stdout",
     "output_type": "stream",
     "text": [
      "\u001b[36m(tune_with_parameters pid=2663640)\u001b[0m loss: 0.587\n"
     ]
    },
    {
     "name": "stderr",
     "output_type": "stream",
     "text": [
      "\u001b[36m(tune_with_parameters pid=3189460)\u001b[0m /scratch/users/k23058970/Model training/training_two_class_exvivo_lstm.py:63: RuntimeWarning: invalid value encountered in divide\n",
      "\u001b[36m(tune_with_parameters pid=3189460)\u001b[0m   self.precision = self.tp/(self.tp + self.fp)\n"
     ]
    },
    {
     "name": "stdout",
     "output_type": "stream",
     "text": [
      "\u001b[36m(tune_with_parameters pid=3189460)\u001b[0m /tmp/tmp4h_vfocg/checkpoint.pt\n"
     ]
    },
    {
     "name": "stderr",
     "output_type": "stream",
     "text": [
      "\u001b[36m(tune_with_parameters pid=3189460)\u001b[0m Checkpoint successfully created at: Checkpoint(filesystem=local, path=/scratch/users/k23058970/Model training/results/NSQ vs AC LSTM/tune_with_parameters_2024-07-30_13-33-38/tune_with_parameters_0ca84_00013_13_dp=0.2500,hidden_size=300,lr=0.0162,num_layers=1_2024-07-30_13-34-23/checkpoint_000000)\n",
      "Val Epoch:0: 50it [00:20,  2.40it/s]\u001b[32m [repeated 10x across cluster]\u001b[0m\n"
     ]
    },
    {
     "name": "stdout",
     "output_type": "stream",
     "text": [
      "\u001b[36m(tune_with_parameters pid=3189460)\u001b[0m loss: 0.593\n",
      "\u001b[36m(tune_with_parameters pid=3105646)\u001b[0m loss: 0.581\n",
      "\u001b[36m(tune_with_parameters pid=3099986)\u001b[0m loss: 0.558\n",
      "\u001b[36m(tune_with_parameters pid=2663640)\u001b[0m loss: 0.586\n",
      "\u001b[36m(tune_with_parameters pid=3189460)\u001b[0m loss: 0.586\n"
     ]
    },
    {
     "name": "stderr",
     "output_type": "stream",
     "text": [
      "Val Epoch:74: 0it [00:00, ?it/s]663640)\u001b[0m \n",
      "Val Epoch:74: 1it [00:01,  1.50s/it]40)\u001b[0m \n",
      "Val Epoch:74: 2it [00:01,  1.40it/s]40)\u001b[0m \n",
      "Val Epoch:74: 3it [00:02,  1.68it/s]40)\u001b[0m \n",
      "Val Epoch:74: 4it [00:02,  1.75it/s]40)\u001b[0m \n",
      "Val Epoch:74: 5it [00:02,  2.18it/s]40)\u001b[0m \n",
      "Val Epoch:74: 6it [00:03,  2.30it/s]40)\u001b[0m \n",
      "Val Epoch:74: 7it [00:03,  2.38it/s]40)\u001b[0m \n",
      "Val Epoch:74: 8it [00:03,  2.73it/s]40)\u001b[0m \n",
      "Val Epoch:74: 10it [00:04,  2.28it/s]0)\u001b[0m \n",
      "Val Epoch:74: 11it [00:05,  2.11it/s]0)\u001b[0m \n",
      "Val Epoch:74: 12it [00:05,  2.66it/s]0)\u001b[0m \n",
      "Val Epoch:74: 13it [00:06,  2.67it/s]0)\u001b[0m \n",
      "Val Epoch:74: 14it [00:06,  3.17it/s]0)\u001b[0m \n",
      "Val Epoch:74: 15it [00:06,  3.02it/s]0)\u001b[0m \n",
      "Val Epoch:74: 16it [00:07,  2.68it/s]0)\u001b[0m \n",
      "Val Epoch:74: 17it [00:07,  2.23it/s]0)\u001b[0m \n",
      "Val Epoch:74: 18it [00:09,  1.18it/s]0)\u001b[0m \n",
      "Val Epoch:74: 19it [00:09,  1.57it/s]0)\u001b[0m \n",
      "Val Epoch:74: 20it [00:10,  1.65it/s]0)\u001b[0m \n",
      "Val Epoch:74: 21it [00:10,  1.66it/s]0)\u001b[0m \n",
      "Val Epoch:74: 22it [00:10,  2.14it/s]0)\u001b[0m \n",
      "Val Epoch:74: 23it [00:11,  2.57it/s]0)\u001b[0m \n",
      "Val Epoch:74: 24it [00:11,  2.26it/s]0)\u001b[0m \n",
      "Val Epoch:74: 25it [00:12,  2.41it/s]0)\u001b[0m \n",
      "Val Epoch:74: 26it [00:13,  1.68it/s]0)\u001b[0m \n",
      "Val Epoch:74: 27it [00:13,  1.87it/s]0)\u001b[0m \n",
      "Val Epoch:74: 28it [00:14,  1.74it/s]0)\u001b[0m \n",
      "Val Epoch:74: 29it [00:14,  1.84it/s]0)\u001b[0m \n",
      "Val Epoch:74: 30it [00:14,  2.05it/s]0)\u001b[0m \n",
      "Val Epoch:74: 31it [00:15,  2.57it/s]0)\u001b[0m \n",
      "Val Epoch:74: 32it [00:15,  3.07it/s]0)\u001b[0m \n",
      "Val Epoch:74: 33it [00:15,  2.69it/s]0)\u001b[0m \n",
      "Val Epoch:74: 34it [00:16,  1.70it/s]0)\u001b[0m \n",
      "Val Epoch:74: 36it [00:17,  2.34it/s]0)\u001b[0m \n",
      "Val Epoch:74: 37it [00:17,  2.20it/s]0)\u001b[0m \n",
      "Val Epoch:74: 39it [00:18,  3.27it/s]0)\u001b[0m \n",
      "Val Epoch:74: 40it [00:18,  3.13it/s]0)\u001b[0m \n",
      "Val Epoch:74: 41it [00:19,  1.72it/s]0)\u001b[0m \n",
      "Val Epoch:74: 42it [00:20,  1.64it/s]0)\u001b[0m \n",
      "Val Epoch:74: 44it [00:21,  2.02it/s]0)\u001b[0m \n",
      "Val Epoch:74: 45it [00:21,  2.37it/s]0)\u001b[0m \n",
      "Val Epoch:74: 46it [00:21,  2.42it/s]0)\u001b[0m \n",
      "Val Epoch:74: 47it [00:21,  2.91it/s]0)\u001b[0m \n",
      "Val Epoch:74: 48it [00:21,  3.59it/s]0)\u001b[0m \n"
     ]
    },
    {
     "name": "stdout",
     "output_type": "stream",
     "text": [
      "\u001b[36m(tune_with_parameters pid=3105646)\u001b[0m loss: 0.581\n"
     ]
    },
    {
     "name": "stderr",
     "output_type": "stream",
     "text": [
      "Val Epoch:74: 49it [00:22,  2.36it/s]0)\u001b[0m \n",
      "Val Epoch:74: 50it [00:23,  2.66it/s]0)\u001b[0m \n",
      "Val Epoch:74: 50it [00:23,  2.09it/s]0)\u001b[0m \n"
     ]
    },
    {
     "name": "stdout",
     "output_type": "stream",
     "text": [
      "\u001b[36m(tune_with_parameters pid=3099986)\u001b[0m loss: 0.561\n",
      "\u001b[36m(tune_with_parameters pid=2663640)\u001b[0m loss: 0.562\n"
     ]
    },
    {
     "name": "stderr",
     "output_type": "stream",
     "text": [
      "Val Epoch:12: 0it [00:00, ?it/s]105646)\u001b[0m \n",
      "Val Epoch:11: 0it [00:00, ?it/s]099986)\u001b[0m \n",
      "Val Epoch:12: 1it [00:06,  6.83s/it]46)\u001b[0m \n",
      "Val Epoch:12: 2it [00:07,  2.92s/it]46)\u001b[0m \n",
      "Val Epoch:12: 3it [00:07,  1.67s/it]46)\u001b[0m \n",
      "Val Epoch:12: 4it [00:08,  1.54s/it]46)\u001b[0m \n",
      "Val Epoch:12: 5it [00:08,  1.09s/it]46)\u001b[0m \n",
      "Val Epoch:12: 8it [00:08,  2.17it/s]46)\u001b[0m \n",
      "Val Epoch:12: 9it [00:09,  2.33it/s]46)\u001b[0m \n",
      "Val Epoch:12: 10it [00:09,  2.81it/s]6)\u001b[0m \n",
      "Val Epoch:12: 19it [00:11,  3.31it/s]\u001b[32m [repeated 16x across cluster]\u001b[0m\n",
      "Val Epoch:11: 25it [00:10,  2.09it/s]\u001b[32m [repeated 26x across cluster]\u001b[0m\n",
      "Val Epoch:12: 49it [00:22,  1.72it/s]\u001b[32m [repeated 28x across cluster]\u001b[0m\n"
     ]
    },
    {
     "name": "stdout",
     "output_type": "stream",
     "text": [
      "\u001b[36m(tune_with_parameters pid=3189460)\u001b[0m loss: 0.586\n"
     ]
    },
    {
     "name": "stderr",
     "output_type": "stream",
     "text": [
      "Val Epoch:11: 50it [00:20,  2.43it/s]\u001b[32m [repeated 12x across cluster]\u001b[0m\n"
     ]
    },
    {
     "name": "stdout",
     "output_type": "stream",
     "text": [
      "\u001b[36m(tune_with_parameters pid=3105646)\u001b[0m loss: 0.576\n",
      "\u001b[36m(tune_with_parameters pid=3099986)\u001b[0m loss: 0.559\n"
     ]
    },
    {
     "name": "stderr",
     "output_type": "stream",
     "text": [
      "Val Epoch:1: 0it [00:00, ?it/s]3189460)\u001b[0m \n",
      "Val Epoch:1: 1it [00:04,  4.12s/it]460)\u001b[0m \n",
      "Val Epoch:1: 2it [00:04,  1.91s/it]460)\u001b[0m \n",
      "Val Epoch:1: 3it [00:04,  1.21s/it]460)\u001b[0m \n",
      "Val Epoch:1: 4it [00:05,  1.24it/s]460)\u001b[0m \n",
      "Val Epoch:1: 5it [00:05,  1.75it/s]460)\u001b[0m \n",
      "Val Epoch:1: 6it [00:06,  1.39it/s]460)\u001b[0m \n",
      "Val Epoch:1: 7it [00:06,  1.59it/s]460)\u001b[0m \n",
      "Val Epoch:1: 8it [00:06,  2.08it/s]460)\u001b[0m \n",
      "Val Epoch:1: 9it [00:07,  1.90it/s]460)\u001b[0m \n",
      "Val Epoch:1: 10it [00:08,  1.59it/s]60)\u001b[0m \n",
      "Val Epoch:1: 11it [00:08,  1.82it/s]60)\u001b[0m \n",
      "Val Epoch:1: 13it [00:09,  2.58it/s]60)\u001b[0m \n",
      "Val Epoch:1: 14it [00:09,  2.41it/s]60)\u001b[0m \n",
      "Val Epoch:1: 15it [00:09,  2.50it/s]60)\u001b[0m \n",
      "Val Epoch:1: 16it [00:10,  2.99it/s]60)\u001b[0m \n",
      "Val Epoch:1: 17it [00:11,  1.60it/s]60)\u001b[0m \n",
      "Val Epoch:1: 18it [00:11,  1.88it/s]60)\u001b[0m \n",
      "Val Epoch:1: 19it [00:12,  1.67it/s]60)\u001b[0m \n",
      "Val Epoch:1: 20it [00:12,  2.11it/s]60)\u001b[0m \n",
      "Val Epoch:1: 21it [00:13,  1.47it/s]60)\u001b[0m \n",
      "Val Epoch:1: 22it [00:14,  1.91it/s]60)\u001b[0m \n",
      "Val Epoch:1: 23it [00:14,  2.26it/s]60)\u001b[0m \n",
      "Val Epoch:1: 24it [00:14,  2.87it/s]60)\u001b[0m \n",
      "Val Epoch:1: 25it [00:15,  1.69it/s]60)\u001b[0m \n",
      "Val Epoch:1: 26it [00:16,  1.56it/s]60)\u001b[0m \n",
      "Val Epoch:1: 27it [00:16,  2.08it/s]60)\u001b[0m \n",
      "Val Epoch:1: 31it [00:16,  4.81it/s]60)\u001b[0m \n",
      "Val Epoch:1: 32it [00:16,  4.92it/s]60)\u001b[0m \n",
      "Val Epoch:1: 34it [00:17,  3.79it/s]60)\u001b[0m \n",
      "Val Epoch:1: 35it [00:17,  3.55it/s]60)\u001b[0m \n",
      "Val Epoch:1: 36it [00:18,  3.41it/s]60)\u001b[0m \n",
      "Val Epoch:1: 38it [00:18,  5.24it/s]60)\u001b[0m \n",
      "Val Epoch:1: 40it [00:18,  5.97it/s]60)\u001b[0m \n"
     ]
    },
    {
     "name": "stdout",
     "output_type": "stream",
     "text": [
      "\u001b[36m(tune_with_parameters pid=2663640)\u001b[0m loss: 0.585\n"
     ]
    },
    {
     "name": "stderr",
     "output_type": "stream",
     "text": [
      "Val Epoch:1: 41it [00:19,  3.84it/s]60)\u001b[0m \n",
      "Val Epoch:1: 43it [00:19,  5.37it/s]60)\u001b[0m \n",
      "Val Epoch:1: 46it [00:19,  7.66it/s]60)\u001b[0m \n",
      "Val Epoch:1: 48it [00:19,  6.57it/s]60)\u001b[0m \n",
      "Val Epoch:1: 49it [00:20,  3.84it/s]60)\u001b[0m \n",
      "Val Epoch:1: 50it [00:21,  2.34it/s]60)\u001b[0m \n"
     ]
    },
    {
     "name": "stdout",
     "output_type": "stream",
     "text": [
      "\u001b[36m(tune_with_parameters pid=3189460)\u001b[0m loss: 0.593\n",
      "\u001b[36m(tune_with_parameters pid=3105646)\u001b[0m loss: 0.581\n",
      "\u001b[36m(tune_with_parameters pid=3099986)\u001b[0m loss: 0.560\n",
      "\u001b[36m(tune_with_parameters pid=2663640)\u001b[0m loss: 0.586\n",
      "\u001b[36m(tune_with_parameters pid=3189460)\u001b[0m loss: 0.584\n"
     ]
    },
    {
     "name": "stderr",
     "output_type": "stream",
     "text": [
      "Val Epoch:75: 0it [00:00, ?it/s]663640)\u001b[0m \n",
      "Val Epoch:75: 1it [00:04,  4.16s/it]40)\u001b[0m \n",
      "Val Epoch:75: 2it [00:04,  1.88s/it]40)\u001b[0m \n",
      "Val Epoch:75: 3it [00:05,  1.37s/it]40)\u001b[0m \n",
      "Val Epoch:75: 4it [00:05,  1.03s/it]40)\u001b[0m \n",
      "Val Epoch:75: 6it [00:06,  1.78it/s]40)\u001b[0m \n",
      "Val Epoch:75: 7it [00:06,  2.19it/s]40)\u001b[0m \n",
      "Val Epoch:75: 8it [00:06,  2.67it/s]40)\u001b[0m \n",
      "Val Epoch:75: 9it [00:07,  2.09it/s]40)\u001b[0m \n",
      "Val Epoch:75: 10it [00:07,  2.08it/s]0)\u001b[0m \n",
      "Val Epoch:75: 11it [00:07,  2.61it/s]0)\u001b[0m \n",
      "Val Epoch:75: 12it [00:07,  2.91it/s]0)\u001b[0m \n",
      "Val Epoch:75: 15it [00:08,  5.03it/s]0)\u001b[0m \n",
      "Val Epoch:75: 17it [00:09,  3.42it/s]0)\u001b[0m \n",
      "Val Epoch:75: 18it [00:09,  3.91it/s]0)\u001b[0m \n",
      "Val Epoch:75: 19it [00:09,  4.17it/s]0)\u001b[0m \n",
      "Val Epoch:75: 21it [00:09,  5.69it/s]0)\u001b[0m \n",
      "Val Epoch:75: 23it [00:09,  6.88it/s]0)\u001b[0m \n",
      "Val Epoch:75: 24it [00:10,  6.19it/s]0)\u001b[0m \n",
      "Val Epoch:75: 25it [00:10,  4.67it/s]0)\u001b[0m \n",
      "Val Epoch:75: 26it [00:11,  2.23it/s]0)\u001b[0m \n",
      "Val Epoch:75: 27it [00:11,  2.54it/s]0)\u001b[0m \n",
      "Val Epoch:75: 29it [00:12,  3.75it/s]0)\u001b[0m \n",
      "Val Epoch:75: 30it [00:12,  4.02it/s]0)\u001b[0m \n",
      "Val Epoch:75: 31it [00:12,  4.30it/s]0)\u001b[0m \n",
      "Val Epoch:75: 32it [00:13,  2.51it/s]0)\u001b[0m \n",
      "Val Epoch:75: 33it [00:14,  1.88it/s]0)\u001b[0m \n",
      "Val Epoch:75: 34it [00:15,  1.51it/s]0)\u001b[0m \n",
      "Val Epoch:75: 36it [00:15,  1.96it/s]0)\u001b[0m \n",
      "Val Epoch:75: 37it [00:15,  2.26it/s]0)\u001b[0m \n",
      "Val Epoch:75: 39it [00:16,  3.30it/s]0)\u001b[0m \n",
      "Val Epoch:75: 40it [00:16,  3.29it/s]0)\u001b[0m \n",
      "Val Epoch:75: 41it [00:17,  1.92it/s]0)\u001b[0m \n",
      "Val Epoch:75: 42it [00:18,  2.14it/s]0)\u001b[0m \n",
      "Val Epoch:75: 43it [00:18,  2.62it/s]0)\u001b[0m \n",
      "Val Epoch:75: 44it [00:18,  2.44it/s]0)\u001b[0m \n",
      "Val Epoch:75: 45it [00:18,  2.74it/s]0)\u001b[0m \n",
      "Val Epoch:75: 47it [00:19,  3.78it/s]0)\u001b[0m \n",
      "Val Epoch:75: 49it [00:20,  2.31it/s]0)\u001b[0m \n",
      "Val Epoch:75: 50it [00:20,  2.48it/s]0)\u001b[0m \n",
      "Val Epoch:75: 50it [00:21,  2.28it/s]0)\u001b[0m \n"
     ]
    },
    {
     "name": "stdout",
     "output_type": "stream",
     "text": [
      "\u001b[36m(tune_with_parameters pid=3105646)\u001b[0m loss: 0.581\n",
      "\u001b[36m(tune_with_parameters pid=3099986)\u001b[0m loss: 0.556\n"
     ]
    },
    {
     "name": "stderr",
     "output_type": "stream",
     "text": [
      "Val Epoch:13: 0it [00:00, ?it/s]105646)\u001b[0m \n",
      "Val Epoch:13: 1it [00:05,  5.01s/it]46)\u001b[0m \n",
      "Val Epoch:13: 2it [00:05,  2.15s/it]46)\u001b[0m \n",
      "Val Epoch:13: 3it [00:05,  1.52s/it]46)\u001b[0m \n",
      "Val Epoch:13: 4it [00:06,  1.11s/it]46)\u001b[0m \n",
      "Val Epoch:13: 5it [00:08,  1.46s/it]46)\u001b[0m \n",
      "Val Epoch:13: 6it [00:08,  1.08s/it]46)\u001b[0m \n",
      "Val Epoch:13: 7it [00:09,  1.19it/s]46)\u001b[0m \n",
      "Val Epoch:13: 8it [00:09,  1.30it/s]46)\u001b[0m \n",
      "Val Epoch:13: 9it [00:10,  1.42it/s]46)\u001b[0m \n",
      "Val Epoch:13: 10it [00:10,  1.83it/s]6)\u001b[0m \n",
      "Val Epoch:12: 0it [00:00, ?it/s]099986)\u001b[0m \n",
      "Val Epoch:13: 11it [00:11,  1.51it/s]6)\u001b[0m \n",
      "Val Epoch:13: 12it [00:11,  1.93it/s]6)\u001b[0m \n",
      "Val Epoch:13: 15it [00:11,  3.84it/s]6)\u001b[0m \n",
      "Val Epoch:13: 17it [00:12,  2.77it/s]6)\u001b[0m \n",
      "Val Epoch:13: 18it [00:13,  3.19it/s]6)\u001b[0m \n",
      "Val Epoch:13: 19it [00:13,  3.73it/s]6)\u001b[0m \n",
      "Val Epoch:13: 21it [00:13,  4.77it/s]6)\u001b[0m \n",
      "Val Epoch:12: 9it [00:04,  3.95it/s]\u001b[32m [repeated 15x across cluster]\u001b[0m\n",
      "Val Epoch:13: 46it [00:20,  3.75it/s]\u001b[32m [repeated 22x across cluster]\u001b[0m\n"
     ]
    },
    {
     "name": "stdout",
     "output_type": "stream",
     "text": [
      "\u001b[36m(tune_with_parameters pid=3189460)\u001b[0m loss: 0.586\u001b[32m [repeated 2x across cluster]\u001b[0m\n"
     ]
    },
    {
     "name": "stderr",
     "output_type": "stream",
     "text": [
      "Val Epoch:12: 34it [00:14,  2.55it/s]\u001b[32m [repeated 20x across cluster]\u001b[0m\n",
      "\u001b[36m(tune_with_parameters pid=3105646)\u001b[0m [2024-07-30 17:45:40,948 E 3105646 3109894] logging.cc:115: Stack trace: \n",
      "\u001b[36m(tune_with_parameters pid=3105646)\u001b[0m  /users/k23058970/miniforge3/envs/Training/lib/python3.10/site-packages/ray/_raylet.so(+0x1033f2a) [0x78c91717ff2a] ray::operator<<()\n",
      "\u001b[36m(tune_with_parameters pid=3105646)\u001b[0m /users/k23058970/miniforge3/envs/Training/lib/python3.10/site-packages/ray/_raylet.so(+0x1036f72) [0x78c917182f72] ray::TerminateHandler()\n",
      "\u001b[36m(tune_with_parameters pid=3105646)\u001b[0m /users/k23058970/miniforge3/envs/Training/bin/../lib/libstdc++.so.6(+0xb643c) [0x78c91601f43c] __cxxabiv1::__terminate()\n",
      "\u001b[36m(tune_with_parameters pid=3105646)\u001b[0m /users/k23058970/miniforge3/envs/Training/bin/../lib/libstdc++.so.6(+0xb648e) [0x78c91601f48e] __cxxabiv1::__unexpected()\n",
      "\u001b[36m(tune_with_parameters pid=3105646)\u001b[0m /users/k23058970/miniforge3/envs/Training/bin/../lib/libstdc++.so.6(__gxx_personality_v0+0x3e0) [0x78c91601f109] __gxx_personality_v0\n",
      "\u001b[36m(tune_with_parameters pid=3105646)\u001b[0m /users/k23058970/miniforge3/envs/Training/bin/../lib/libgcc_s.so.1(+0x12899) [0x78c915f60899] _Unwind_ForcedUnwind_Phase2\n",
      "\u001b[36m(tune_with_parameters pid=3105646)\u001b[0m /users/k23058970/miniforge3/envs/Training/bin/../lib/libgcc_s.so.1(_Unwind_ForcedUnwind+0x74) [0x78c915f60bfc] _Unwind_ForcedUnwind\n",
      "\u001b[36m(tune_with_parameters pid=3105646)\u001b[0m /lib/x86_64-linux-gnu/libc.so.6(+0x9d446) [0x78c91829d446]\n",
      "\u001b[36m(tune_with_parameters pid=3105646)\u001b[0m /lib/x86_64-linux-gnu/libc.so.6(pthread_exit+0x3a) [0x78c918295cba] pthread_exit\n",
      "\u001b[36m(tune_with_parameters pid=3105646)\u001b[0m ray::ImplicitFunc(+0xe929a) [0x5ed71583b29a] _append_preinit_entry.isra.0\n",
      "\u001b[36m(tune_with_parameters pid=3105646)\u001b[0m ray::ImplicitFunc(+0x5df15) [0x5ed7157aff15] take_gil.cold\n",
      "\u001b[36m(tune_with_parameters pid=3105646)\u001b[0m ray::ImplicitFunc(PyEval_RestoreThread+0x12) [0x5ed7158b1622] PyEval_RestoreThread\n",
      "\u001b[36m(tune_with_parameters pid=3105646)\u001b[0m /users/k23058970/miniforge3/envs/Training/lib/python3.10/site-packages/torch/lib/libtorch_python.so(+0x850e77) [0x789a0685ae77] THPVariable_clear()\n",
      "\u001b[36m(tune_with_parameters pid=3105646)\u001b[0m /users/k23058970/miniforge3/envs/Training/lib/python3.10/site-packages/torch/lib/libtorch_python.so(_Z28THPVariable_subclass_deallocP7_object+0x2f6) [0x789a0685b406] THPVariable_subclass_dealloc()\n",
      "\u001b[36m(tune_with_parameters pid=3105646)\u001b[0m ray::ImplicitFunc(+0x13d697) [0x5ed71588f697] frame_dealloc\n",
      "\u001b[36m(tune_with_parameters pid=3105646)\u001b[0m ray::ImplicitFunc(+0x14dcf6) [0x5ed71589fcf6] tb_dealloc\n",
      "\u001b[36m(tune_with_parameters pid=3105646)\u001b[0m ray::ImplicitFunc(+0x14dd53) [0x5ed71589fd53] tb_dealloc\n",
      "\u001b[36m(tune_with_parameters pid=3105646)\u001b[0m ray::ImplicitFunc(+0x14dd53) [0x5ed71589fd53] tb_dealloc\n",
      "\u001b[36m(tune_with_parameters pid=3105646)\u001b[0m ray::ImplicitFunc(+0x14dd53) [0x5ed71589fd53] tb_dealloc\n",
      "\u001b[36m(tune_with_parameters pid=3105646)\u001b[0m ray::ImplicitFunc(+0x14dd53) [0x5ed71589fd53] tb_dealloc\n",
      "\u001b[36m(tune_with_parameters pid=3105646)\u001b[0m ray::ImplicitFunc(+0x14dd53) [0x5ed71589fd53] tb_dealloc\n",
      "\u001b[36m(tune_with_parameters pid=3105646)\u001b[0m ray::ImplicitFunc(+0x129739) [0x5ed71587b739] BaseException_clear\n",
      "\u001b[36m(tune_with_parameters pid=3105646)\u001b[0m ray::ImplicitFunc(+0x20f3d1) [0x5ed7159613d1] NameError_dealloc\n",
      "\u001b[36m(tune_with_parameters pid=3105646)\u001b[0m ray::ImplicitFunc(_PyEval_EvalFrameDefault+0x4937) [0x5ed71588ae67] _PyEval_EvalFrameDefault\n",
      "\u001b[36m(tune_with_parameters pid=3105646)\u001b[0m ray::ImplicitFunc(_PyFunction_Vectorcall+0x6c) [0x5ed715896a2c] _PyFunction_Vectorcall\n",
      "\u001b[36m(tune_with_parameters pid=3105646)\u001b[0m ray::ImplicitFunc(_PyEval_EvalFrameDefault+0x72c) [0x5ed715886c5c] _PyEval_EvalFrameDefault\n",
      "\u001b[36m(tune_with_parameters pid=3105646)\u001b[0m ray::ImplicitFunc(_PyFunction_Vectorcall+0x6c) [0x5ed715896a2c] _PyFunction_Vectorcall\n",
      "\u001b[36m(tune_with_parameters pid=3105646)\u001b[0m ray::ImplicitFunc(_PyEval_EvalFrameDefault+0x72c) [0x5ed715886c5c] _PyEval_EvalFrameDefault\n",
      "\u001b[36m(tune_with_parameters pid=3105646)\u001b[0m ray::ImplicitFunc(+0x150804) [0x5ed7158a2804] method_vectorcall\n",
      "\u001b[36m(tune_with_parameters pid=3105646)\u001b[0m ray::ImplicitFunc(+0x228372) [0x5ed71597a372] thread_run\n",
      "\u001b[36m(tune_with_parameters pid=3105646)\u001b[0m ray::ImplicitFunc(+0x228324) [0x5ed71597a324] pythread_wrapper\n",
      "\u001b[36m(tune_with_parameters pid=3105646)\u001b[0m /lib/x86_64-linux-gnu/libc.so.6(+0x94ac3) [0x78c918294ac3]\n",
      "\u001b[36m(tune_with_parameters pid=3105646)\u001b[0m /lib/x86_64-linux-gnu/libc.so.6(+0x126850) [0x78c918326850]\n",
      "\u001b[36m(tune_with_parameters pid=3105646)\u001b[0m \n",
      "Val Epoch:12: 50it [00:19,  2.53it/s]\u001b[32m [repeated 14x across cluster]\u001b[0m\n"
     ]
    },
    {
     "name": "stdout",
     "output_type": "stream",
     "text": [
      "\u001b[36m(tune_with_parameters pid=3099986)\u001b[0m loss: 0.527\n"
     ]
    },
    {
     "name": "stderr",
     "output_type": "stream",
     "text": [
      "Val Epoch:2: 0it [00:00, ?it/s]3189460)\u001b[0m \n",
      "Val Epoch:12: 50it [00:21,  2.36it/s]6)\u001b[0m \n",
      "Val Epoch:2: 1it [00:02,  2.55s/it]460)\u001b[0m \n",
      "Val Epoch:2: 2it [00:02,  1.30s/it]460)\u001b[0m \n",
      "Val Epoch:2: 3it [00:03,  1.29it/s]460)\u001b[0m \n",
      "Val Epoch:2: 4it [00:03,  1.64it/s]460)\u001b[0m \n",
      "Val Epoch:2: 5it [00:03,  2.29it/s]460)\u001b[0m \n",
      "Val Epoch:2: 6it [00:04,  2.25it/s]460)\u001b[0m \n",
      "Val Epoch:2: 8it [00:04,  2.68it/s]460)\u001b[0m \n",
      "Val Epoch:2: 9it [00:05,  2.39it/s]460)\u001b[0m \n",
      "Val Epoch:2: 10it [00:05,  2.47it/s]60)\u001b[0m \n",
      "Val Epoch:2: 11it [00:06,  2.21it/s]60)\u001b[0m \n",
      "Val Epoch:2: 12it [00:06,  2.81it/s]60)\u001b[0m \n",
      "Val Epoch:2: 13it [00:06,  3.43it/s]60)\u001b[0m \n",
      "Val Epoch:2: 14it [00:06,  4.22it/s]60)\u001b[0m \n",
      "Val Epoch:2: 15it [00:06,  4.52it/s]60)\u001b[0m \n",
      "Val Epoch:2: 16it [00:06,  4.48it/s]60)\u001b[0m \n",
      "Val Epoch:2: 17it [00:07,  2.15it/s]60)\u001b[0m \n",
      "Val Epoch:2: 18it [00:08,  1.78it/s]60)\u001b[0m \n",
      "Val Epoch:2: 19it [00:09,  1.86it/s]60)\u001b[0m \n",
      "Val Epoch:2: 21it [00:09,  2.47it/s]60)\u001b[0m \n",
      "Val Epoch:2: 22it [00:10,  2.42it/s]60)\u001b[0m \n",
      "Val Epoch:2: 23it [00:10,  2.69it/s]60)\u001b[0m \n",
      "Val Epoch:2: 25it [00:10,  4.06it/s]60)\u001b[0m \n",
      "Val Epoch:2: 26it [00:12,  1.81it/s]60)\u001b[0m \n",
      "Val Epoch:2: 27it [00:12,  2.17it/s]60)\u001b[0m \n",
      "Val Epoch:2: 28it [00:12,  2.49it/s]60)\u001b[0m \n",
      "Val Epoch:2: 30it [00:12,  3.30it/s]60)\u001b[0m \n"
     ]
    },
    {
     "name": "stdout",
     "output_type": "stream",
     "text": [
      "\u001b[36m(tune_with_parameters pid=2663640)\u001b[0m loss: 0.586\n"
     ]
    },
    {
     "name": "stderr",
     "output_type": "stream",
     "text": [
      "Val Epoch:2: 31it [00:13,  3.44it/s]60)\u001b[0m \n",
      "Val Epoch:2: 32it [00:13,  3.33it/s]60)\u001b[0m \n",
      "Val Epoch:2: 33it [00:13,  3.73it/s]60)\u001b[0m \n",
      "Val Epoch:2: 34it [00:14,  2.29it/s]60)\u001b[0m \n",
      "Val Epoch:2: 35it [00:15,  1.99it/s]60)\u001b[0m \n",
      "Val Epoch:2: 36it [00:15,  2.57it/s]60)\u001b[0m \n",
      "Val Epoch:2: 37it [00:15,  3.24it/s]60)\u001b[0m \n",
      "Val Epoch:2: 38it [00:15,  3.87it/s]60)\u001b[0m \n",
      "Val Epoch:2: 40it [00:16,  3.90it/s]60)\u001b[0m \n",
      "Val Epoch:2: 41it [00:16,  2.77it/s]60)\u001b[0m \n",
      "Val Epoch:2: 42it [00:18,  1.70it/s]60)\u001b[0m \n",
      "Val Epoch:2: 45it [00:18,  3.12it/s]60)\u001b[0m \n",
      "Val Epoch:2: 47it [00:18,  4.17it/s]60)\u001b[0m \n",
      "Val Epoch:2: 49it [00:19,  3.27it/s]60)\u001b[0m \n",
      "Val Epoch:2: 50it [00:20,  2.44it/s]60)\u001b[0m \n"
     ]
    },
    {
     "name": "stdout",
     "output_type": "stream",
     "text": [
      "\u001b[36m(tune_with_parameters pid=3189460)\u001b[0m loss: 0.619\n",
      "\u001b[36m(tune_with_parameters pid=3099986)\u001b[0m loss: 0.549\n",
      "\u001b[36m(tune_with_parameters pid=2663640)\u001b[0m loss: 0.586\n",
      "\u001b[36m(tune_with_parameters pid=3189460)\u001b[0m loss: 0.587\n"
     ]
    },
    {
     "name": "stderr",
     "output_type": "stream",
     "text": [
      "Val Epoch:76: 0it [00:00, ?it/s]663640)\u001b[0m \n",
      "Val Epoch:76: 1it [00:03,  3.73s/it]40)\u001b[0m \n",
      "Val Epoch:76: 2it [00:03,  1.64s/it]40)\u001b[0m \n",
      "Val Epoch:76: 3it [00:04,  1.04it/s]40)\u001b[0m \n",
      "Val Epoch:76: 4it [00:04,  1.15it/s]40)\u001b[0m \n",
      "Val Epoch:76: 5it [00:04,  1.64it/s]40)\u001b[0m \n",
      "Val Epoch:76: 6it [00:05,  2.24it/s]40)\u001b[0m \n",
      "Val Epoch:76: 8it [00:05,  3.42it/s]40)\u001b[0m \n",
      "Val Epoch:76: 9it [00:06,  2.41it/s]40)\u001b[0m \n",
      "Val Epoch:76: 10it [00:06,  2.67it/s]0)\u001b[0m \n",
      "Val Epoch:76: 11it [00:07,  2.05it/s]0)\u001b[0m \n",
      "Val Epoch:76: 12it [00:07,  2.31it/s]0)\u001b[0m \n",
      "Val Epoch:76: 13it [00:07,  2.90it/s]0)\u001b[0m \n",
      "Val Epoch:76: 14it [00:07,  3.66it/s]0)\u001b[0m \n",
      "Val Epoch:76: 15it [00:08,  3.27it/s]0)\u001b[0m \n",
      "Val Epoch:76: 16it [00:08,  3.71it/s]0)\u001b[0m \n",
      "Val Epoch:76: 17it [00:09,  1.95it/s]0)\u001b[0m \n",
      "Val Epoch:76: 18it [00:09,  2.29it/s]0)\u001b[0m \n",
      "Val Epoch:76: 19it [00:09,  2.84it/s]0)\u001b[0m \n",
      "Val Epoch:76: 20it [00:10,  2.06it/s]0)\u001b[0m \n",
      "Val Epoch:76: 21it [00:10,  2.56it/s]0)\u001b[0m \n",
      "Val Epoch:76: 22it [00:10,  3.13it/s]0)\u001b[0m \n",
      "Val Epoch:76: 23it [00:11,  3.29it/s]0)\u001b[0m \n",
      "Val Epoch:76: 24it [00:11,  3.00it/s]0)\u001b[0m \n",
      "Val Epoch:76: 25it [00:12,  1.82it/s]0)\u001b[0m \n",
      "Val Epoch:76: 26it [00:13,  1.80it/s]0)\u001b[0m \n",
      "Val Epoch:76: 27it [00:13,  2.34it/s]0)\u001b[0m \n",
      "Val Epoch:76: 28it [00:13,  2.97it/s]0)\u001b[0m \n",
      "Val Epoch:76: 29it [00:13,  3.42it/s]0)\u001b[0m \n",
      "Val Epoch:76: 31it [00:13,  4.91it/s]0)\u001b[0m \n",
      "Val Epoch:76: 32it [00:14,  4.71it/s]0)\u001b[0m \n",
      "Val Epoch:76: 33it [00:15,  1.80it/s]0)\u001b[0m \n",
      "Val Epoch:76: 34it [00:16,  1.61it/s]0)\u001b[0m \n",
      "Val Epoch:76: 35it [00:16,  2.07it/s]0)\u001b[0m \n",
      "Val Epoch:76: 36it [00:17,  1.87it/s]0)\u001b[0m \n",
      "Val Epoch:76: 38it [00:17,  2.94it/s]0)\u001b[0m \n",
      "Val Epoch:76: 39it [00:17,  3.50it/s]0)\u001b[0m \n",
      "Val Epoch:76: 40it [00:17,  4.02it/s]0)\u001b[0m \n",
      "Val Epoch:76: 41it [00:17,  4.10it/s]0)\u001b[0m \n",
      "Val Epoch:76: 42it [00:17,  4.57it/s]0)\u001b[0m \n",
      "Val Epoch:76: 45it [00:18,  8.07it/s]0)\u001b[0m \n",
      "Val Epoch:76: 48it [00:18,  9.76it/s]0)\u001b[0m \n",
      "Val Epoch:76: 50it [00:18,  7.68it/s]0)\u001b[0m \n",
      "Val Epoch:76: 50it [00:19,  2.62it/s]0)\u001b[0m \n"
     ]
    },
    {
     "name": "stdout",
     "output_type": "stream",
     "text": [
      "\u001b[36m(tune_with_parameters pid=2663640)\u001b[0m loss: 0.612\n",
      "\u001b[36m(tune_with_parameters pid=3099986)\u001b[0m loss: 0.556\n"
     ]
    },
    {
     "name": "stderr",
     "output_type": "stream",
     "text": [
      "\u001b[36m(tune_with_parameters pid=3220521)\u001b[0m /users/k23058970/miniforge3/envs/Training/lib/python3.10/site-packages/torch/utils/data/dataloader.py:558: UserWarning: This DataLoader will create 8 worker processes in total. Our suggested max number of worker in current system is 2, which is smaller than what this DataLoader is going to create. Please be aware that excessive worker creation might get DataLoader running slow or even freeze, lower the worker number to avoid potential slowness/freeze if necessary.\n",
      "\u001b[36m(tune_with_parameters pid=3220521)\u001b[0m   warnings.warn(_create_warning_msg(\n",
      "Val Epoch:13: 0it [00:00, ?it/s]099986)\u001b[0m \n",
      "Val Epoch:13: 1it [00:04,  4.52s/it]86)\u001b[0m \n",
      "Val Epoch:13: 2it [00:06,  2.82s/it]86)\u001b[0m \n",
      "Val Epoch:13: 3it [00:06,  1.62s/it]86)\u001b[0m \n",
      "Val Epoch:13: 4it [00:06,  1.04s/it]86)\u001b[0m \n",
      "Val Epoch:13: 5it [00:06,  1.37it/s]86)\u001b[0m \n",
      "Val Epoch:13: 6it [00:06,  1.83it/s]86)\u001b[0m \n",
      "Val Epoch:13: 7it [00:07,  2.14it/s]86)\u001b[0m \n",
      "Val Epoch:13: 8it [00:07,  2.08it/s]86)\u001b[0m \n",
      "Val Epoch:13: 9it [00:08,  2.02it/s]86)\u001b[0m \n",
      "Val Epoch:13: 10it [00:08,  1.83it/s]6)\u001b[0m \n"
     ]
    },
    {
     "name": "stdout",
     "output_type": "stream",
     "text": [
      "\u001b[36m(tune_with_parameters pid=3189460)\u001b[0m loss: 0.586\n"
     ]
    },
    {
     "name": "stderr",
     "output_type": "stream",
     "text": [
      "Val Epoch:13: 11it [00:09,  1.85it/s]6)\u001b[0m \n",
      "Val Epoch:13: 12it [00:10,  1.67it/s]6)\u001b[0m \n",
      "Val Epoch:13: 13it [00:10,  1.96it/s]6)\u001b[0m \n",
      "Val Epoch:13: 14it [00:10,  2.46it/s]6)\u001b[0m \n",
      "Val Epoch:13: 15it [00:11,  2.32it/s]6)\u001b[0m \n",
      "Val Epoch:13: 16it [00:11,  2.87it/s]6)\u001b[0m \n",
      "Val Epoch:13: 17it [00:11,  2.53it/s]6)\u001b[0m \n",
      "Val Epoch:13: 18it [00:11,  3.02it/s]6)\u001b[0m \n",
      "Val Epoch:13: 19it [00:12,  3.19it/s]6)\u001b[0m \n",
      "Val Epoch:13: 20it [00:12,  3.26it/s]6)\u001b[0m \n",
      "Val Epoch:13: 21it [00:12,  3.05it/s]6)\u001b[0m \n",
      "Val Epoch:13: 22it [00:12,  3.80it/s]6)\u001b[0m \n",
      "Val Epoch:13: 23it [00:13,  3.42it/s]6)\u001b[0m \n",
      "Val Epoch:13: 24it [00:13,  3.94it/s]6)\u001b[0m \n",
      "Val Epoch:13: 25it [00:13,  4.15it/s]6)\u001b[0m \n",
      "Val Epoch:13: 26it [00:14,  3.74it/s]6)\u001b[0m \n",
      "Val Epoch:13: 28it [00:14,  5.79it/s]6)\u001b[0m \n",
      "Val Epoch:13: 29it [00:14,  5.18it/s]6)\u001b[0m \n",
      "Val Epoch:13: 31it [00:14,  6.66it/s]6)\u001b[0m \n",
      "Val Epoch:13: 32it [00:14,  6.35it/s]6)\u001b[0m \n",
      "Val Epoch:13: 33it [00:15,  3.65it/s]6)\u001b[0m \n",
      "Val Epoch:13: 34it [00:16,  1.91it/s]6)\u001b[0m \n",
      "Val Epoch:13: 35it [00:16,  2.39it/s]6)\u001b[0m \n",
      "Val Epoch:13: 36it [00:16,  2.88it/s]6)\u001b[0m \n",
      "Val Epoch:13: 37it [00:17,  3.34it/s]6)\u001b[0m \n",
      "Val Epoch:13: 38it [00:17,  3.77it/s]6)\u001b[0m \n",
      "Val Epoch:13: 39it [00:17,  4.35it/s]6)\u001b[0m \n",
      "Val Epoch:13: 40it [00:17,  3.37it/s]6)\u001b[0m \n",
      "Val Epoch:13: 41it [00:18,  3.05it/s]6)\u001b[0m \n",
      "Val Epoch:13: 42it [00:18,  2.50it/s]6)\u001b[0m \n",
      "Val Epoch:13: 43it [00:19,  2.90it/s]6)\u001b[0m \n",
      "Val Epoch:13: 44it [00:19,  3.35it/s]6)\u001b[0m \n",
      "Val Epoch:13: 45it [00:19,  3.49it/s]6)\u001b[0m \n",
      "Val Epoch:13: 46it [00:19,  4.28it/s]6)\u001b[0m \n",
      "Val Epoch:13: 47it [00:19,  3.79it/s]6)\u001b[0m \n",
      "Val Epoch:13: 48it [00:20,  3.60it/s]6)\u001b[0m \n",
      "Val Epoch:13: 49it [00:20,  3.78it/s]6)\u001b[0m \n",
      "Val Epoch:13: 50it [00:20,  4.37it/s]6)\u001b[0m \n",
      "Val Epoch:13: 50it [00:21,  2.30it/s]6)\u001b[0m \n",
      "Val Epoch:3: 0it [00:00, ?it/s]3189460)\u001b[0m \n"
     ]
    },
    {
     "name": "stdout",
     "output_type": "stream",
     "text": [
      "\u001b[36m(tune_with_parameters pid=3099986)\u001b[0m loss: 0.566\n"
     ]
    },
    {
     "name": "stderr",
     "output_type": "stream",
     "text": [
      "Val Epoch:3: 1it [00:02,  2.91s/it]460)\u001b[0m \n",
      "Val Epoch:3: 2it [00:03,  1.41s/it]460)\u001b[0m \n",
      "Val Epoch:3: 3it [00:03,  1.21it/s]460)\u001b[0m \n",
      "Val Epoch:3: 4it [00:03,  1.62it/s]460)\u001b[0m \n",
      "Val Epoch:3: 5it [00:03,  2.08it/s]460)\u001b[0m \n",
      "Val Epoch:3: 6it [00:04,  2.41it/s]460)\u001b[0m \n",
      "Val Epoch:3: 9it [00:04,  4.66it/s]460)\u001b[0m \n",
      "Val Epoch:3: 11it [00:04,  6.14it/s]60)\u001b[0m \n",
      "Val Epoch:3: 12it [00:05,  4.70it/s]60)\u001b[0m \n",
      "\u001b[36m(tune_with_parameters pid=3220521)\u001b[0m /users/k23058970/miniforge3/envs/Training/lib/python3.10/site-packages/torch/nn/modules/lazy.py:181: UserWarning: Lazy modules are a new feature under heavy development so changes to the API or functionality can happen at any moment.\n",
      "\u001b[36m(tune_with_parameters pid=3220521)\u001b[0m   warnings.warn('Lazy modules are a new feature under heavy development '\n",
      "Val Epoch:3: 14it [00:05,  5.61it/s]60)\u001b[0m \n",
      "Val Epoch:3: 16it [00:05,  7.34it/s]60)\u001b[0m \n"
     ]
    },
    {
     "name": "stdout",
     "output_type": "stream",
     "text": [
      "\u001b[36m(tune_with_parameters pid=2663640)\u001b[0m loss: 0.586\n"
     ]
    },
    {
     "name": "stderr",
     "output_type": "stream",
     "text": [
      "Val Epoch:3: 18it [00:05,  6.12it/s]60)\u001b[0m \n",
      "Val Epoch:3: 19it [00:06,  4.41it/s]60)\u001b[0m \n",
      "Val Epoch:3: 22it [00:06,  4.74it/s]60)\u001b[0m \n",
      "Val Epoch:3: 23it [00:07,  4.34it/s]60)\u001b[0m \n",
      "Val Epoch:3: 25it [00:07,  4.44it/s]60)\u001b[0m \n",
      "Val Epoch:3: 26it [00:07,  4.12it/s]60)\u001b[0m \n",
      "Val Epoch:3: 27it [00:08,  3.57it/s]60)\u001b[0m \n",
      "Val Epoch:3: 28it [00:08,  4.09it/s]60)\u001b[0m \n",
      "Val Epoch:3: 29it [00:08,  4.56it/s]60)\u001b[0m \n",
      "Val Epoch:3: 30it [00:08,  4.84it/s]60)\u001b[0m \n",
      "Val Epoch:3: 31it [00:08,  5.16it/s]60)\u001b[0m \n",
      "Val Epoch:3: 33it [00:09,  3.35it/s]60)\u001b[0m \n",
      "Val Epoch:3: 34it [00:10,  3.18it/s]60)\u001b[0m \n",
      "Val Epoch:3: 35it [00:10,  3.72it/s]60)\u001b[0m \n",
      "Val Epoch:3: 36it [00:10,  3.03it/s]60)\u001b[0m \n",
      "Val Epoch:3: 37it [00:11,  2.67it/s]60)\u001b[0m \n",
      "Val Epoch:3: 38it [00:11,  2.98it/s]60)\u001b[0m \n",
      "Val Epoch:3: 39it [00:11,  3.51it/s]60)\u001b[0m \n",
      "Val Epoch:3: 41it [00:12,  3.41it/s]60)\u001b[0m \n",
      "Val Epoch:3: 42it [00:12,  3.96it/s]60)\u001b[0m \n",
      "Val Epoch:3: 44it [00:13,  3.53it/s]60)\u001b[0m \n",
      "Val Epoch:3: 45it [00:13,  3.82it/s]60)\u001b[0m \n",
      "Val Epoch:3: 48it [00:13,  5.17it/s]60)\u001b[0m \n",
      "Val Epoch:3: 49it [00:14,  2.93it/s]60)\u001b[0m \n",
      "Val Epoch:3: 50it [00:14,  3.34it/s]60)\u001b[0m \n",
      "Val Epoch:3: 50it [00:15,  3.17it/s]60)\u001b[0m \n"
     ]
    },
    {
     "name": "stdout",
     "output_type": "stream",
     "text": [
      "\u001b[36m(tune_with_parameters pid=3189460)\u001b[0m loss: 0.605\n"
     ]
    },
    {
     "name": "stderr",
     "output_type": "stream",
     "text": [
      "\u001b[36m(tune_with_parameters pid=3220521)\u001b[0m /users/k23058970/miniforge3/envs/Training/lib/python3.10/site-packages/torch/utils/data/dataloader.py:558: UserWarning: This DataLoader will create 8 worker processes in total. Our suggested max number of worker in current system is 2, which is smaller than what this DataLoader is going to create. Please be aware that excessive worker creation might get DataLoader running slow or even freeze, lower the worker number to avoid potential slowness/freeze if necessary.\n",
      "\u001b[36m(tune_with_parameters pid=3220521)\u001b[0m   warnings.warn(_create_warning_msg(\n"
     ]
    },
    {
     "name": "stdout",
     "output_type": "stream",
     "text": [
      "\u001b[36m(tune_with_parameters pid=3220521)\u001b[0m loss: 0.716\n",
      "\u001b[36m(tune_with_parameters pid=3099986)\u001b[0m loss: 0.567\n"
     ]
    },
    {
     "name": "stderr",
     "output_type": "stream",
     "text": [
      "Val Epoch:77: 0it [00:00, ?it/s]663640)\u001b[0m \n"
     ]
    },
    {
     "name": "stdout",
     "output_type": "stream",
     "text": [
      "\u001b[36m(tune_with_parameters pid=3189460)\u001b[0m loss: 0.585\u001b[32m [repeated 2x across cluster]\u001b[0m\n"
     ]
    },
    {
     "name": "stderr",
     "output_type": "stream",
     "text": [
      "Val Epoch:77: 1it [00:04,  4.34s/it]40)\u001b[0m \n",
      "Val Epoch:77: 3it [00:05,  1.52s/it]40)\u001b[0m \n",
      "Val Epoch:77: 4it [00:05,  1.06s/it]40)\u001b[0m \n",
      "Val Epoch:77: 5it [00:05,  1.29it/s]40)\u001b[0m \n",
      "Val Epoch:77: 7it [00:06,  2.18it/s]40)\u001b[0m \n",
      "Val Epoch:77: 8it [00:06,  1.84it/s]40)\u001b[0m \n",
      "Val Epoch:77: 9it [00:07,  1.67it/s]40)\u001b[0m \n",
      "Val Epoch:77: 10it [00:07,  1.84it/s]0)\u001b[0m \n",
      "Val Epoch:77: 11it [00:08,  1.75it/s]0)\u001b[0m \n",
      "Val Epoch:77: 12it [00:08,  2.20it/s]0)\u001b[0m \n",
      "Val Epoch:77: 13it [00:08,  2.63it/s]0)\u001b[0m \n",
      "Val Epoch:77: 14it [00:09,  2.70it/s]0)\u001b[0m \n",
      "Val Epoch:77: 15it [00:09,  2.70it/s]0)\u001b[0m \n",
      "Val Epoch:77: 16it [00:09,  3.44it/s]0)\u001b[0m \n",
      "Val Epoch:77: 17it [00:11,  1.47it/s]0)\u001b[0m \n",
      "Val Epoch:77: 18it [00:11,  1.61it/s]0)\u001b[0m \n",
      "Val Epoch:77: 19it [00:12,  1.52it/s]0)\u001b[0m \n",
      "Val Epoch:77: 20it [00:12,  1.93it/s]0)\u001b[0m \n",
      "Val Epoch:77: 21it [00:13,  1.83it/s]0)\u001b[0m \n",
      "Val Epoch:77: 22it [00:13,  2.32it/s]0)\u001b[0m \n",
      "Val Epoch:77: 23it [00:14,  2.33it/s]0)\u001b[0m \n",
      "Val Epoch:77: 24it [00:14,  2.26it/s]0)\u001b[0m \n",
      "Val Epoch:77: 25it [00:15,  1.38it/s]0)\u001b[0m \n",
      "Val Epoch:77: 26it [00:16,  1.65it/s]0)\u001b[0m \n",
      "Val Epoch:77: 27it [00:16,  1.78it/s]0)\u001b[0m \n",
      "Val Epoch:77: 28it [00:16,  2.20it/s]0)\u001b[0m \n",
      "Val Epoch:77: 30it [00:17,  2.40it/s]0)\u001b[0m \n",
      "Val Epoch:77: 32it [00:17,  3.51it/s]0)\u001b[0m \n",
      "Val Epoch:77: 33it [00:19,  1.87it/s]0)\u001b[0m \n",
      "Val Epoch:77: 34it [00:19,  2.26it/s]0)\u001b[0m \n",
      "Val Epoch:77: 35it [00:19,  2.69it/s]0)\u001b[0m \n",
      "Val Epoch:77: 36it [00:19,  3.16it/s]0)\u001b[0m \n",
      "Val Epoch:77: 37it [00:20,  2.43it/s]0)\u001b[0m \n",
      "Val Epoch:77: 40it [00:20,  4.91it/s]0)\u001b[0m \n",
      "Val Epoch:77: 42it [00:21,  3.49it/s]0)\u001b[0m \n",
      "Val Epoch:77: 45it [00:21,  5.26it/s]0)\u001b[0m \n",
      "Val Epoch:77: 47it [00:21,  6.14it/s]0)\u001b[0m \n",
      "Val Epoch:77: 49it [00:22,  4.24it/s]0)\u001b[0m \n",
      "Val Epoch:77: 50it [00:23,  2.12it/s]0)\u001b[0m \n"
     ]
    },
    {
     "name": "stdout",
     "output_type": "stream",
     "text": [
      "\u001b[36m(tune_with_parameters pid=2663640)\u001b[0m loss: 0.593\n",
      "\u001b[36m(tune_with_parameters pid=3220521)\u001b[0m loss: 0.594\n",
      "\u001b[36m(tune_with_parameters pid=3099986)\u001b[0m loss: 0.564\n"
     ]
    },
    {
     "name": "stderr",
     "output_type": "stream",
     "text": [
      "Val Epoch:14: 0it [00:00, ?it/s]099986)\u001b[0m \n"
     ]
    },
    {
     "name": "stdout",
     "output_type": "stream",
     "text": [
      "\u001b[36m(tune_with_parameters pid=3189460)\u001b[0m loss: 0.585\n"
     ]
    },
    {
     "name": "stderr",
     "output_type": "stream",
     "text": [
      "Val Epoch:14: 1it [00:04,  4.34s/it]86)\u001b[0m \n",
      "Val Epoch:14: 2it [00:04,  1.92s/it]86)\u001b[0m \n",
      "Val Epoch:14: 3it [00:04,  1.21s/it]86)\u001b[0m \n",
      "Val Epoch:14: 5it [00:05,  1.69it/s]86)\u001b[0m \n",
      "Val Epoch:14: 6it [00:05,  1.61it/s]86)\u001b[0m \n",
      "Val Epoch:14: 7it [00:06,  2.03it/s]86)\u001b[0m \n",
      "Val Epoch:14: 8it [00:06,  1.85it/s]86)\u001b[0m \n",
      "Val Epoch:14: 9it [00:08,  1.03it/s]86)\u001b[0m \n",
      "Val Epoch:14: 10it [00:09,  1.28it/s]6)\u001b[0m \n",
      "Val Epoch:14: 11it [00:09,  1.69it/s]6)\u001b[0m \n",
      "Val Epoch:14: 14it [00:09,  3.52it/s]6)\u001b[0m \n",
      "Val Epoch:14: 15it [00:09,  3.01it/s]6)\u001b[0m \n",
      "Val Epoch:14: 16it [00:10,  2.93it/s]6)\u001b[0m \n",
      "Val Epoch:14: 17it [00:12,  1.28it/s]6)\u001b[0m \n",
      "Val Epoch:14: 18it [00:12,  1.57it/s]6)\u001b[0m \n",
      "Val Epoch:14: 19it [00:12,  1.95it/s]6)\u001b[0m \n",
      "Val Epoch:14: 20it [00:12,  2.32it/s]6)\u001b[0m \n",
      "Val Epoch:14: 21it [00:13,  2.75it/s]6)\u001b[0m \n",
      "Val Epoch:14: 22it [00:13,  3.14it/s]6)\u001b[0m \n",
      "Val Epoch:14: 23it [00:14,  2.19it/s]6)\u001b[0m \n",
      "Val Epoch:14: 24it [00:14,  2.40it/s]6)\u001b[0m \n",
      "Val Epoch:14: 25it [00:16,  1.18it/s]6)\u001b[0m \n",
      "Val Epoch:14: 26it [00:16,  1.55it/s]6)\u001b[0m \n",
      "Val Epoch:14: 27it [00:16,  1.99it/s]6)\u001b[0m \n",
      "Val Epoch:14: 28it [00:16,  2.46it/s]6)\u001b[0m \n",
      "Val Epoch:14: 29it [00:16,  3.05it/s]6)\u001b[0m \n",
      "Val Epoch:14: 30it [00:17,  3.35it/s]6)\u001b[0m \n",
      "Val Epoch:14: 31it [00:17,  2.95it/s]6)\u001b[0m \n",
      "Val Epoch:14: 32it [00:17,  3.18it/s]6)\u001b[0m \n",
      "Val Epoch:14: 33it [00:19,  1.36it/s]6)\u001b[0m \n",
      "Val Epoch:14: 34it [00:19,  1.78it/s]6)\u001b[0m \n",
      "Val Epoch:14: 36it [00:20,  2.78it/s]6)\u001b[0m \n",
      "Val Epoch:14: 37it [00:20,  3.14it/s]6)\u001b[0m \n",
      "Val Epoch:14: 38it [00:20,  3.65it/s]6)\u001b[0m \n",
      "Val Epoch:14: 39it [00:21,  2.52it/s]6)\u001b[0m \n",
      "Val Epoch:14: 41it [00:22,  2.16it/s]6)\u001b[0m \n",
      "Val Epoch:14: 42it [00:22,  2.51it/s]6)\u001b[0m \n",
      "Val Epoch:14: 43it [00:22,  2.64it/s]6)\u001b[0m \n",
      "Val Epoch:14: 45it [00:22,  3.65it/s]6)\u001b[0m \n",
      "Val Epoch:14: 46it [00:23,  3.35it/s]6)\u001b[0m \n",
      "Val Epoch:14: 47it [00:23,  2.93it/s]6)\u001b[0m \n",
      "Val Epoch:14: 48it [00:23,  3.29it/s]6)\u001b[0m \n",
      "Val Epoch:14: 49it [00:25,  1.70it/s]6)\u001b[0m \n",
      "Val Epoch:14: 50it [00:26,  1.91it/s]6)\u001b[0m \n",
      "Val Epoch:4: 0it [00:00, ?it/s]3189460)\u001b[0m \n",
      "Val Epoch:4: 1it [00:05,  5.28s/it]460)\u001b[0m \n",
      "Val Epoch:4: 2it [00:05,  2.44s/it]460)\u001b[0m \n",
      "Val Epoch:4: 3it [00:06,  1.48s/it]460)\u001b[0m \n",
      "Val Epoch:4: 4it [00:06,  1.24s/it]460)\u001b[0m \n",
      "Val Epoch:4: 6it [00:07,  1.17it/s]460)\u001b[0m \n",
      "Val Epoch:4: 7it [00:08,  1.48it/s]460)\u001b[0m \n"
     ]
    },
    {
     "name": "stdout",
     "output_type": "stream",
     "text": [
      "\u001b[36m(tune_with_parameters pid=2663640)\u001b[0m loss: 0.585\n"
     ]
    },
    {
     "name": "stderr",
     "output_type": "stream",
     "text": [
      "Val Epoch:4: 9it [00:09,  1.51it/s]460)\u001b[0m \n",
      "Val Epoch:4: 10it [00:09,  1.85it/s]60)\u001b[0m \n",
      "Val Epoch:4: 11it [00:10,  1.99it/s]60)\u001b[0m \n",
      "Val Epoch:4: 12it [00:10,  1.98it/s]60)\u001b[0m \n",
      "Val Epoch:4: 13it [00:10,  2.28it/s]60)\u001b[0m \n",
      "Val Epoch:4: 14it [00:10,  2.74it/s]60)\u001b[0m \n",
      "Val Epoch:4: 15it [00:11,  2.67it/s]60)\u001b[0m \n",
      "Val Epoch:4: 16it [00:11,  2.62it/s]60)\u001b[0m \n",
      "Val Epoch:4: 17it [00:13,  1.43it/s]60)\u001b[0m \n"
     ]
    },
    {
     "name": "stdout",
     "output_type": "stream",
     "text": [
      "\u001b[36m(tune_with_parameters pid=3099986)\u001b[0m loss: 0.522\n"
     ]
    },
    {
     "name": "stderr",
     "output_type": "stream",
     "text": [
      "Val Epoch:4: 18it [00:13,  1.65it/s]60)\u001b[0m \n",
      "Val Epoch:4: 20it [00:14,  1.77it/s]60)\u001b[0m \n",
      "Val Epoch:4: 22it [00:14,  2.59it/s]60)\u001b[0m \n",
      "Val Epoch:4: 23it [00:15,  2.49it/s]60)\u001b[0m \n",
      "Val Epoch:4: 24it [00:15,  2.73it/s]60)\u001b[0m \n",
      "Val Epoch:4: 25it [00:17,  1.61it/s]60)\u001b[0m \n",
      "Val Epoch:4: 26it [00:17,  1.85it/s]60)\u001b[0m \n",
      "Val Epoch:4: 27it [00:17,  2.26it/s]60)\u001b[0m \n",
      "Val Epoch:4: 28it [00:18,  1.51it/s]60)\u001b[0m \n",
      "Val Epoch:4: 29it [00:18,  1.91it/s]60)\u001b[0m \n",
      "Val Epoch:4: 31it [00:19,  3.01it/s]60)\u001b[0m \n",
      "Val Epoch:4: 32it [00:19,  3.40it/s]60)\u001b[0m \n",
      "Val Epoch:4: 33it [00:21,  1.41it/s]60)\u001b[0m \n",
      "Val Epoch:4: 34it [00:21,  1.67it/s]60)\u001b[0m \n",
      "Val Epoch:4: 35it [00:21,  1.99it/s]60)\u001b[0m \n",
      "Val Epoch:4: 36it [00:22,  1.79it/s]60)\u001b[0m \n",
      "Val Epoch:4: 37it [00:22,  2.26it/s]60)\u001b[0m \n",
      "Val Epoch:4: 38it [00:22,  2.51it/s]60)\u001b[0m \n",
      "Val Epoch:4: 40it [00:23,  2.69it/s]60)\u001b[0m \n",
      "Val Epoch:4: 41it [00:24,  2.15it/s]60)\u001b[0m \n",
      "Val Epoch:4: 44it [00:24,  3.36it/s]60)\u001b[0m \n",
      "Val Epoch:4: 45it [00:24,  3.64it/s]60)\u001b[0m \n",
      "Val Epoch:4: 47it [00:24,  5.03it/s]60)\u001b[0m \n",
      "Val Epoch:4: 49it [00:25,  3.60it/s]60)\u001b[0m \n",
      "Val Epoch:4: 50it [00:26,  1.89it/s]60)\u001b[0m \n"
     ]
    },
    {
     "name": "stdout",
     "output_type": "stream",
     "text": [
      "\u001b[36m(tune_with_parameters pid=3189460)\u001b[0m loss: 0.579\u001b[32m [repeated 2x across cluster]\u001b[0m\n"
     ]
    },
    {
     "name": "stderr",
     "output_type": "stream",
     "text": [
      "Val Epoch:0: 0it [00:00, ?it/s]3220521)\u001b[0m \n",
      "Val Epoch:0: 1it [00:06,  6.48s/it]521)\u001b[0m \n",
      "Val Epoch:0: 3it [00:06,  1.82s/it]521)\u001b[0m \n",
      "Val Epoch:0: 4it [00:07,  1.38s/it]521)\u001b[0m \n",
      "Val Epoch:0: 5it [00:08,  1.20s/it]521)\u001b[0m \n",
      "Val Epoch:0: 6it [00:08,  1.18it/s]521)\u001b[0m \n",
      "Val Epoch:0: 7it [00:08,  1.59it/s]521)\u001b[0m \n",
      "Val Epoch:0: 8it [00:08,  2.03it/s]521)\u001b[0m \n",
      "Val Epoch:0: 9it [00:09,  1.58it/s]521)\u001b[0m \n",
      "Val Epoch:0: 10it [00:10,  1.78it/s]21)\u001b[0m \n",
      "Val Epoch:0: 11it [00:10,  2.36it/s]21)\u001b[0m \n",
      "Val Epoch:0: 12it [00:10,  2.31it/s]21)\u001b[0m \n",
      "Val Epoch:0: 13it [00:11,  2.15it/s]21)\u001b[0m \n",
      "Val Epoch:0: 14it [00:11,  2.69it/s]21)\u001b[0m \n",
      "Val Epoch:0: 15it [00:11,  3.11it/s]21)\u001b[0m \n",
      "Val Epoch:0: 16it [00:11,  3.69it/s]21)\u001b[0m \n",
      "Val Epoch:0: 17it [00:12,  2.45it/s]21)\u001b[0m \n",
      "Val Epoch:0: 18it [00:12,  2.13it/s]21)\u001b[0m \n",
      "Val Epoch:0: 20it [00:13,  3.48it/s]21)\u001b[0m \n",
      "Val Epoch:0: 21it [00:13,  3.90it/s]21)\u001b[0m \n",
      "Val Epoch:0: 23it [00:13,  5.53it/s]21)\u001b[0m \n",
      "Val Epoch:0: 24it [00:13,  4.66it/s]21)\u001b[0m \n",
      "Val Epoch:0: 25it [00:14,  3.85it/s]21)\u001b[0m \n",
      "Val Epoch:0: 26it [00:14,  3.53it/s]21)\u001b[0m \n",
      "Val Epoch:0: 28it [00:14,  5.11it/s]21)\u001b[0m \n",
      "Val Epoch:0: 29it [00:15,  4.16it/s]21)\u001b[0m \n",
      "Val Epoch:0: 31it [00:15,  5.21it/s]21)\u001b[0m \n",
      "Val Epoch:0: 32it [00:15,  5.19it/s]21)\u001b[0m \n",
      "Val Epoch:0: 33it [00:15,  4.39it/s]21)\u001b[0m \n",
      "Val Epoch:0: 34it [00:16,  3.49it/s]21)\u001b[0m \n",
      "Val Epoch:0: 36it [00:16,  4.83it/s]21)\u001b[0m \n",
      "Val Epoch:0: 37it [00:16,  5.08it/s]21)\u001b[0m \n",
      "Val Epoch:0: 39it [00:17,  5.21it/s]21)\u001b[0m \n",
      "Val Epoch:0: 40it [00:17,  5.32it/s]21)\u001b[0m \n",
      "Val Epoch:0: 41it [00:17,  3.16it/s]21)\u001b[0m \n",
      "Val Epoch:0: 42it [00:18,  2.75it/s]21)\u001b[0m \n",
      "Val Epoch:0: 43it [00:18,  3.14it/s]21)\u001b[0m \n",
      "Val Epoch:0: 45it [00:18,  4.21it/s]21)\u001b[0m \n",
      "Val Epoch:0: 47it [00:18,  5.92it/s]21)\u001b[0m \n",
      "Val Epoch:0: 48it [00:19,  6.26it/s]21)\u001b[0m \n",
      "Val Epoch:0: 49it [00:21,  1.76it/s]21)\u001b[0m \n",
      "Val Epoch:0: 50it [00:22,  2.27it/s]21)\u001b[0m \n",
      "\u001b[36m(tune_with_parameters pid=3220521)\u001b[0m /scratch/users/k23058970/Model training/training_two_class_exvivo_lstm.py:63: RuntimeWarning: invalid value encountered in divide\n",
      "\u001b[36m(tune_with_parameters pid=3220521)\u001b[0m   self.precision = self.tp/(self.tp + self.fp)\n"
     ]
    },
    {
     "name": "stdout",
     "output_type": "stream",
     "text": [
      "\u001b[36m(tune_with_parameters pid=3220521)\u001b[0m /tmp/tmppg98c3j0/checkpoint.pt\n"
     ]
    },
    {
     "name": "stderr",
     "output_type": "stream",
     "text": [
      "\u001b[36m(tune_with_parameters pid=3220521)\u001b[0m Checkpoint successfully created at: Checkpoint(filesystem=local, path=/scratch/users/k23058970/Model training/results/NSQ vs AC LSTM/tune_with_parameters_2024-07-30_13-33-38/tune_with_parameters_0ca84_00014_14_dp=0.2500,hidden_size=400,lr=0.0905,num_layers=2_2024-07-30_13-34-23/checkpoint_000000)\n"
     ]
    },
    {
     "name": "stdout",
     "output_type": "stream",
     "text": [
      "\u001b[36m(tune_with_parameters pid=3220521)\u001b[0m loss: 0.578\n",
      "\u001b[36m(tune_with_parameters pid=2663640)\u001b[0m loss: 0.586\n",
      "\u001b[36m(tune_with_parameters pid=3099986)\u001b[0m loss: 0.556\n"
     ]
    },
    {
     "name": "stderr",
     "output_type": "stream",
     "text": [
      "Val Epoch:78: 0it [00:00, ?it/s]663640)\u001b[0m \n"
     ]
    },
    {
     "name": "stdout",
     "output_type": "stream",
     "text": [
      "\u001b[36m(tune_with_parameters pid=3189460)\u001b[0m loss: 0.587\n"
     ]
    },
    {
     "name": "stderr",
     "output_type": "stream",
     "text": [
      "Val Epoch:78: 1it [00:04,  4.42s/it]40)\u001b[0m \n",
      "Val Epoch:78: 3it [00:04,  1.34s/it]40)\u001b[0m \n",
      "Val Epoch:78: 4it [00:05,  1.04s/it]40)\u001b[0m \n",
      "Val Epoch:78: 5it [00:06,  1.10it/s]40)\u001b[0m \n",
      "Val Epoch:78: 6it [00:07,  1.01s/it]40)\u001b[0m \n",
      "Val Epoch:78: 7it [00:07,  1.35it/s]40)\u001b[0m \n",
      "Val Epoch:78: 8it [00:07,  1.78it/s]40)\u001b[0m \n",
      "Val Epoch:78: 9it [00:08,  1.68it/s]40)\u001b[0m \n",
      "Val Epoch:78: 11it [00:08,  2.66it/s]0)\u001b[0m \n",
      "Val Epoch:78: 12it [00:09,  2.22it/s]0)\u001b[0m \n",
      "Val Epoch:78: 13it [00:09,  2.61it/s]0)\u001b[0m \n",
      "Val Epoch:78: 14it [00:09,  2.50it/s]0)\u001b[0m \n",
      "Val Epoch:78: 15it [00:10,  2.60it/s]0)\u001b[0m \n",
      "Val Epoch:78: 16it [00:10,  2.99it/s]0)\u001b[0m \n",
      "Val Epoch:78: 17it [00:11,  1.57it/s]0)\u001b[0m \n",
      "Val Epoch:78: 18it [00:12,  1.90it/s]0)\u001b[0m \n",
      "Val Epoch:78: 19it [00:12,  1.87it/s]0)\u001b[0m \n",
      "Val Epoch:78: 20it [00:12,  2.05it/s]0)\u001b[0m \n",
      "Val Epoch:78: 21it [00:13,  1.86it/s]0)\u001b[0m \n",
      "Val Epoch:78: 22it [00:13,  2.09it/s]0)\u001b[0m \n",
      "Val Epoch:78: 23it [00:14,  2.14it/s]0)\u001b[0m \n",
      "Val Epoch:78: 24it [00:14,  2.68it/s]0)\u001b[0m \n",
      "Val Epoch:78: 25it [00:15,  1.65it/s]0)\u001b[0m \n",
      "Val Epoch:78: 26it [00:15,  1.94it/s]0)\u001b[0m \n",
      "Val Epoch:78: 27it [00:16,  2.42it/s]0)\u001b[0m \n",
      "Val Epoch:78: 28it [00:16,  2.34it/s]0)\u001b[0m \n",
      "Val Epoch:78: 29it [00:16,  2.88it/s]0)\u001b[0m \n",
      "Val Epoch:78: 30it [00:17,  1.72it/s]0)\u001b[0m \n",
      "Val Epoch:78: 31it [00:18,  1.87it/s]0)\u001b[0m \n",
      "Val Epoch:78: 33it [00:19,  1.73it/s]0)\u001b[0m \n",
      "Val Epoch:78: 35it [00:19,  2.57it/s]0)\u001b[0m \n",
      "Val Epoch:78: 36it [00:19,  3.01it/s]0)\u001b[0m \n",
      "Val Epoch:78: 37it [00:20,  3.27it/s]0)\u001b[0m \n",
      "Val Epoch:78: 38it [00:20,  3.81it/s]0)\u001b[0m \n",
      "Val Epoch:78: 39it [00:20,  4.51it/s]0)\u001b[0m \n",
      "Val Epoch:78: 41it [00:21,  3.12it/s]0)\u001b[0m \n",
      "Val Epoch:78: 42it [00:21,  3.62it/s]0)\u001b[0m \n",
      "Val Epoch:78: 44it [00:21,  5.25it/s]0)\u001b[0m \n",
      "Val Epoch:78: 46it [00:21,  7.16it/s]0)\u001b[0m \n",
      "Val Epoch:78: 48it [00:21,  8.53it/s]0)\u001b[0m \n",
      "Val Epoch:78: 50it [00:22,  5.16it/s]0)\u001b[0m \n",
      "Val Epoch:78: 50it [00:23,  2.15it/s]0)\u001b[0m \n"
     ]
    },
    {
     "name": "stdout",
     "output_type": "stream",
     "text": [
      "\u001b[36m(tune_with_parameters pid=2663640)\u001b[0m loss: 0.593\n",
      "\u001b[36m(tune_with_parameters pid=3099986)\u001b[0m loss: 0.553\u001b[32m [repeated 2x across cluster]\u001b[0m\n",
      "\u001b[36m(tune_with_parameters pid=3189460)\u001b[0m loss: 0.586\n"
     ]
    },
    {
     "name": "stderr",
     "output_type": "stream",
     "text": [
      "Val Epoch:15: 0it [00:00, ?it/s]099986)\u001b[0m \n",
      "Val Epoch:15: 1it [00:03,  3.98s/it]86)\u001b[0m \n",
      "Val Epoch:15: 2it [00:04,  1.76s/it]86)\u001b[0m \n",
      "Val Epoch:15: 3it [00:05,  1.61s/it]86)\u001b[0m \n",
      "Val Epoch:15: 4it [00:05,  1.09s/it]86)\u001b[0m \n",
      "Val Epoch:15: 5it [00:06,  1.05s/it]86)\u001b[0m \n",
      "Val Epoch:15: 6it [00:07,  1.33it/s]86)\u001b[0m \n",
      "Val Epoch:15: 7it [00:07,  1.80it/s]86)\u001b[0m \n",
      "Val Epoch:15: 8it [00:07,  2.09it/s]86)\u001b[0m \n",
      "Val Epoch:15: 9it [00:09,  1.23it/s]86)\u001b[0m \n",
      "Val Epoch:15: 10it [00:09,  1.65it/s]6)\u001b[0m \n",
      "Val Epoch:15: 11it [00:09,  2.06it/s]6)\u001b[0m \n",
      "Val Epoch:15: 12it [00:09,  2.51it/s]6)\u001b[0m \n",
      "Val Epoch:15: 13it [00:10,  2.56it/s]6)\u001b[0m \n",
      "Val Epoch:15: 14it [00:10,  2.90it/s]6)\u001b[0m \n",
      "Val Epoch:15: 15it [00:10,  3.09it/s]6)\u001b[0m \n",
      "Val Epoch:15: 16it [00:10,  3.63it/s]6)\u001b[0m \n",
      "Val Epoch:15: 17it [00:12,  1.26it/s]6)\u001b[0m \n",
      "Val Epoch:15: 18it [00:12,  1.63it/s]6)\u001b[0m \n",
      "Val Epoch:15: 19it [00:13,  2.12it/s]6)\u001b[0m \n",
      "Val Epoch:15: 20it [00:13,  2.68it/s]6)\u001b[0m \n",
      "Val Epoch:15: 21it [00:13,  2.64it/s]6)\u001b[0m \n",
      "Val Epoch:15: 22it [00:13,  2.84it/s]6)\u001b[0m \n",
      "Val Epoch:15: 23it [00:14,  2.12it/s]6)\u001b[0m \n",
      "Val Epoch:15: 24it [00:14,  2.65it/s]6)\u001b[0m \n",
      "Val Epoch:15: 25it [00:15,  1.78it/s]6)\u001b[0m \n",
      "Val Epoch:15: 26it [00:16,  2.13it/s]6)\u001b[0m \n",
      "Val Epoch:15: 27it [00:16,  2.01it/s]6)\u001b[0m \n",
      "Val Epoch:15: 28it [00:16,  2.18it/s]6)\u001b[0m \n",
      "Val Epoch:15: 29it [00:17,  2.65it/s]6)\u001b[0m \n",
      "Val Epoch:15: 31it [00:17,  3.25it/s]6)\u001b[0m \n",
      "Val Epoch:15: 32it [00:17,  3.62it/s]6)\u001b[0m \n",
      "Val Epoch:15: 33it [00:18,  2.87it/s]6)\u001b[0m \n",
      "Val Epoch:15: 34it [00:18,  2.33it/s]6)\u001b[0m \n",
      "Val Epoch:15: 36it [00:19,  3.76it/s]6)\u001b[0m \n",
      "Val Epoch:15: 38it [00:19,  5.14it/s]6)\u001b[0m \n",
      "Val Epoch:15: 39it [00:19,  5.58it/s]6)\u001b[0m \n",
      "Val Epoch:15: 40it [00:19,  3.56it/s]6)\u001b[0m \n",
      "Val Epoch:5: 0it [00:00, ?it/s]3189460)\u001b[0m \n",
      "Val Epoch:15: 41it [00:20,  3.13it/s]6)\u001b[0m \n",
      "Val Epoch:15: 42it [00:20,  3.64it/s]6)\u001b[0m \n",
      "Val Epoch:15: 43it [00:20,  4.10it/s]6)\u001b[0m \n",
      "Val Epoch:15: 44it [00:20,  4.58it/s]6)\u001b[0m \n",
      "Val Epoch:15: 45it [00:21,  3.26it/s]6)\u001b[0m \n",
      "Val Epoch:15: 46it [00:21,  4.01it/s]6)\u001b[0m \n",
      "Val Epoch:15: 47it [00:21,  4.53it/s]6)\u001b[0m \n",
      "Val Epoch:15: 48it [00:21,  4.93it/s]6)\u001b[0m \n",
      "Val Epoch:15: 49it [00:23,  1.85it/s]6)\u001b[0m \n",
      "Val Epoch:15: 50it [00:23,  2.33it/s]6)\u001b[0m \n",
      "Val Epoch:5: 7it [00:05,  2.48it/s]\u001b[32m [repeated 7x across cluster]\u001b[0m\n"
     ]
    },
    {
     "name": "stdout",
     "output_type": "stream",
     "text": [
      "\u001b[36m(tune_with_parameters pid=3220521)\u001b[0m loss: 0.586\n"
     ]
    },
    {
     "name": "stderr",
     "output_type": "stream",
     "text": [
      "Val Epoch:5: 16it [00:10,  2.43it/s]\u001b[32m [repeated 8x across cluster]\u001b[0m\n",
      "Val Epoch:5: 25it [00:15,  1.79it/s]\u001b[32m [repeated 8x across cluster]\u001b[0m\n",
      "Val Epoch:5: 35it [00:21,  1.48it/s]\u001b[32m [repeated 9x across cluster]\u001b[0m\n"
     ]
    },
    {
     "name": "stdout",
     "output_type": "stream",
     "text": [
      "\u001b[36m(tune_with_parameters pid=3099986)\u001b[0m loss: 0.534\u001b[32m [repeated 2x across cluster]\u001b[0m\n"
     ]
    },
    {
     "name": "stderr",
     "output_type": "stream",
     "text": [
      "Val Epoch:5: 50it [00:26,  1.88it/s]\u001b[32m [repeated 12x across cluster]\u001b[0m\n",
      "Val Epoch:1: 0it [00:00, ?it/s]3220521)\u001b[0m \n"
     ]
    },
    {
     "name": "stdout",
     "output_type": "stream",
     "text": [
      "\u001b[36m(tune_with_parameters pid=3189460)\u001b[0m loss: 0.587\n"
     ]
    },
    {
     "name": "stderr",
     "output_type": "stream",
     "text": [
      "Val Epoch:1: 1it [00:03,  3.71s/it]521)\u001b[0m \n",
      "Val Epoch:1: 2it [00:04,  1.71s/it]521)\u001b[0m \n",
      "Val Epoch:1: 3it [00:04,  1.18s/it]521)\u001b[0m \n",
      "Val Epoch:1: 4it [00:05,  1.04s/it]521)\u001b[0m \n",
      "Val Epoch:1: 5it [00:05,  1.22it/s]521)\u001b[0m \n",
      "Val Epoch:1: 6it [00:06,  1.64it/s]521)\u001b[0m \n",
      "Val Epoch:1: 7it [00:06,  2.12it/s]521)\u001b[0m \n",
      "Val Epoch:1: 8it [00:06,  1.75it/s]521)\u001b[0m \n",
      "Val Epoch:1: 9it [00:07,  1.94it/s]521)\u001b[0m \n",
      "Val Epoch:1: 10it [00:07,  2.46it/s]21)\u001b[0m \n",
      "Val Epoch:1: 11it [00:07,  2.42it/s]21)\u001b[0m \n",
      "Val Epoch:1: 12it [00:09,  1.66it/s]21)\u001b[0m \n",
      "Val Epoch:1: 13it [00:09,  2.06it/s]21)\u001b[0m \n",
      "Val Epoch:1: 15it [00:09,  3.31it/s]21)\u001b[0m \n",
      "Val Epoch:1: 16it [00:09,  3.60it/s]21)\u001b[0m \n",
      "Val Epoch:1: 17it [00:11,  1.44it/s]21)\u001b[0m \n",
      "Val Epoch:1: 18it [00:11,  1.58it/s]21)\u001b[0m \n",
      "Val Epoch:1: 19it [00:12,  1.85it/s]21)\u001b[0m \n",
      "Val Epoch:1: 20it [00:13,  1.36it/s]21)\u001b[0m \n",
      "Val Epoch:1: 21it [00:13,  1.76it/s]21)\u001b[0m \n",
      "Val Epoch:1: 22it [00:14,  1.91it/s]21)\u001b[0m \n",
      "Val Epoch:1: 23it [00:14,  2.32it/s]21)\u001b[0m \n",
      "Val Epoch:1: 24it [00:14,  2.31it/s]21)\u001b[0m \n",
      "Val Epoch:1: 25it [00:15,  1.53it/s]21)\u001b[0m \n",
      "Val Epoch:1: 26it [00:16,  1.97it/s]21)\u001b[0m \n",
      "Val Epoch:1: 27it [00:16,  2.10it/s]21)\u001b[0m \n",
      "Val Epoch:1: 28it [00:17,  1.76it/s]21)\u001b[0m \n",
      "Val Epoch:1: 29it [00:17,  2.15it/s]21)\u001b[0m \n",
      "Val Epoch:1: 30it [00:17,  2.64it/s]21)\u001b[0m \n",
      "Val Epoch:1: 31it [00:17,  3.12it/s]21)\u001b[0m \n",
      "Val Epoch:1: 32it [00:17,  3.92it/s]21)\u001b[0m \n",
      "Val Epoch:1: 33it [00:18,  2.12it/s]21)\u001b[0m \n",
      "Val Epoch:1: 34it [00:19,  2.76it/s]21)\u001b[0m \n",
      "Val Epoch:1: 36it [00:19,  2.94it/s]21)\u001b[0m \n",
      "Val Epoch:1: 37it [00:19,  3.14it/s]21)\u001b[0m \n",
      "Val Epoch:1: 40it [00:20,  5.29it/s]21)\u001b[0m \n",
      "Val Epoch:1: 41it [00:20,  3.43it/s]21)\u001b[0m \n",
      "Val Epoch:1: 43it [00:20,  4.85it/s]21)\u001b[0m \n",
      "Val Epoch:1: 45it [00:21,  6.16it/s]21)\u001b[0m \n",
      "Val Epoch:1: 47it [00:21,  7.48it/s]21)\u001b[0m \n",
      "Val Epoch:1: 49it [00:22,  4.26it/s]21)\u001b[0m \n",
      "Val Epoch:1: 50it [00:23,  2.15it/s]21)\u001b[0m \n"
     ]
    },
    {
     "name": "stdout",
     "output_type": "stream",
     "text": [
      "\u001b[36m(tune_with_parameters pid=3220521)\u001b[0m loss: 0.579\n",
      "\u001b[36m(tune_with_parameters pid=2663640)\u001b[0m loss: 0.585\n",
      "\u001b[36m(tune_with_parameters pid=3099986)\u001b[0m loss: 0.546\n"
     ]
    },
    {
     "name": "stderr",
     "output_type": "stream",
     "text": [
      "Val Epoch:79: 0it [00:00, ?it/s]663640)\u001b[0m \n"
     ]
    },
    {
     "name": "stdout",
     "output_type": "stream",
     "text": [
      "\u001b[36m(tune_with_parameters pid=3189460)\u001b[0m loss: 0.584\n"
     ]
    },
    {
     "name": "stderr",
     "output_type": "stream",
     "text": [
      "Val Epoch:79: 1it [00:04,  4.35s/it]40)\u001b[0m \n",
      "Val Epoch:79: 2it [00:04,  1.98s/it]40)\u001b[0m \n",
      "Val Epoch:79: 3it [00:05,  1.31s/it]40)\u001b[0m \n",
      "Val Epoch:79: 4it [00:05,  1.08it/s]40)\u001b[0m \n",
      "Val Epoch:79: 5it [00:06,  1.30it/s]40)\u001b[0m \n",
      "Val Epoch:79: 6it [00:07,  1.15it/s]40)\u001b[0m \n",
      "Val Epoch:79: 7it [00:07,  1.58it/s]40)\u001b[0m \n",
      "Val Epoch:79: 8it [00:07,  2.04it/s]40)\u001b[0m \n",
      "Val Epoch:79: 9it [00:08,  1.91it/s]40)\u001b[0m \n",
      "Val Epoch:79: 10it [00:09,  1.41it/s]0)\u001b[0m \n",
      "Val Epoch:79: 11it [00:09,  1.91it/s]0)\u001b[0m \n",
      "Val Epoch:79: 12it [00:09,  2.32it/s]0)\u001b[0m \n",
      "Val Epoch:79: 13it [00:09,  2.76it/s]0)\u001b[0m \n",
      "Val Epoch:79: 14it [00:10,  2.51it/s]0)\u001b[0m \n",
      "Val Epoch:79: 15it [00:10,  3.02it/s]0)\u001b[0m \n",
      "Val Epoch:79: 16it [00:10,  2.42it/s]0)\u001b[0m \n",
      "Val Epoch:79: 17it [00:11,  1.71it/s]0)\u001b[0m \n",
      "Val Epoch:79: 18it [00:12,  2.11it/s]0)\u001b[0m \n",
      "Val Epoch:79: 19it [00:13,  1.52it/s]0)\u001b[0m \n",
      "Val Epoch:79: 20it [00:13,  1.93it/s]0)\u001b[0m \n",
      "Val Epoch:79: 21it [00:13,  2.39it/s]0)\u001b[0m \n",
      "Val Epoch:79: 22it [00:14,  1.72it/s]0)\u001b[0m \n",
      "Val Epoch:79: 23it [00:14,  2.20it/s]0)\u001b[0m \n",
      "Val Epoch:79: 25it [00:16,  1.67it/s]0)\u001b[0m \n",
      "Val Epoch:79: 26it [00:16,  2.06it/s]0)\u001b[0m \n",
      "Val Epoch:79: 27it [00:17,  1.69it/s]0)\u001b[0m \n",
      "Val Epoch:79: 28it [00:17,  2.16it/s]0)\u001b[0m \n",
      "Val Epoch:79: 29it [00:17,  2.58it/s]0)\u001b[0m \n",
      "Val Epoch:79: 30it [00:17,  2.66it/s]0)\u001b[0m \n",
      "Val Epoch:79: 31it [00:18,  3.06it/s]0)\u001b[0m \n",
      "Val Epoch:79: 32it [00:18,  2.23it/s]0)\u001b[0m \n",
      "Val Epoch:79: 33it [00:19,  1.85it/s]0)\u001b[0m \n",
      "Val Epoch:79: 35it [00:19,  3.05it/s]0)\u001b[0m \n",
      "Val Epoch:79: 36it [00:19,  3.43it/s]0)\u001b[0m \n",
      "Val Epoch:79: 39it [00:20,  5.88it/s]0)\u001b[0m \n",
      "Val Epoch:79: 41it [00:20,  4.35it/s]0)\u001b[0m \n",
      "Val Epoch:79: 42it [00:21,  4.51it/s]0)\u001b[0m \n",
      "Val Epoch:79: 43it [00:21,  5.04it/s]0)\u001b[0m \n",
      "Val Epoch:79: 44it [00:21,  5.20it/s]0)\u001b[0m \n",
      "Val Epoch:79: 46it [00:21,  7.11it/s]0)\u001b[0m \n",
      "Val Epoch:79: 48it [00:21,  9.23it/s]0)\u001b[0m \n",
      "Val Epoch:79: 50it [00:22,  6.11it/s]0)\u001b[0m \n",
      "Val Epoch:79: 50it [00:22,  2.21it/s]0)\u001b[0m \n"
     ]
    },
    {
     "name": "stdout",
     "output_type": "stream",
     "text": [
      "\u001b[36m(tune_with_parameters pid=3220521)\u001b[0m loss: 0.586\n",
      "\u001b[36m(tune_with_parameters pid=3099986)\u001b[0m loss: 0.551\u001b[32m [repeated 2x across cluster]\u001b[0m\n",
      "\u001b[36m(tune_with_parameters pid=3189460)\u001b[0m loss: 0.585\n"
     ]
    },
    {
     "name": "stderr",
     "output_type": "stream",
     "text": [
      "Val Epoch:16: 0it [00:00, ?it/s]099986)\u001b[0m \n",
      "Val Epoch:16: 1it [00:04,  4.24s/it]86)\u001b[0m \n",
      "Val Epoch:16: 2it [00:05,  2.24s/it]86)\u001b[0m \n",
      "Val Epoch:16: 3it [00:05,  1.29s/it]86)\u001b[0m \n",
      "Val Epoch:16: 4it [00:05,  1.03s/it]86)\u001b[0m \n",
      "Val Epoch:16: 5it [00:06,  1.40it/s]86)\u001b[0m \n",
      "Val Epoch:16: 6it [00:06,  1.96it/s]86)\u001b[0m \n",
      "Val Epoch:16: 7it [00:06,  2.25it/s]86)\u001b[0m \n",
      "Val Epoch:16: 8it [00:07,  1.80it/s]86)\u001b[0m \n",
      "Val Epoch:16: 9it [00:07,  1.80it/s]86)\u001b[0m \n",
      "Val Epoch:16: 10it [00:08,  1.79it/s]6)\u001b[0m \n",
      "Val Epoch:16: 11it [00:09,  1.57it/s]6)\u001b[0m \n",
      "Val Epoch:16: 12it [00:09,  2.09it/s]6)\u001b[0m \n",
      "Val Epoch:16: 14it [00:09,  3.44it/s]6)\u001b[0m \n",
      "Val Epoch:16: 15it [00:09,  3.23it/s]6)\u001b[0m \n",
      "Val Epoch:16: 16it [00:09,  3.65it/s]6)\u001b[0m \n",
      "Val Epoch:16: 17it [00:10,  2.79it/s]6)\u001b[0m \n",
      "Val Epoch:16: 18it [00:10,  3.31it/s]6)\u001b[0m \n",
      "Val Epoch:16: 20it [00:11,  3.75it/s]6)\u001b[0m \n",
      "Val Epoch:16: 22it [00:11,  5.15it/s]6)\u001b[0m \n",
      "Val Epoch:16: 23it [00:11,  4.28it/s]6)\u001b[0m \n",
      "Val Epoch:16: 24it [00:11,  4.10it/s]6)\u001b[0m \n",
      "Val Epoch:16: 25it [00:12,  2.37it/s]6)\u001b[0m \n",
      "Val Epoch:16: 26it [00:13,  2.35it/s]6)\u001b[0m \n",
      "Val Epoch:16: 28it [00:14,  2.32it/s]6)\u001b[0m \n",
      "Val Epoch:6: 0it [00:00, ?it/s]3189460)\u001b[0m \n",
      "Val Epoch:16: 29it [00:14,  2.69it/s]6)\u001b[0m \n",
      "Val Epoch:16: 30it [00:14,  3.03it/s]6)\u001b[0m \n",
      "Val Epoch:16: 31it [00:15,  2.88it/s]6)\u001b[0m \n",
      "Val Epoch:16: 32it [00:15,  3.18it/s]6)\u001b[0m \n",
      "Val Epoch:16: 33it [00:15,  2.31it/s]6)\u001b[0m \n",
      "Val Epoch:16: 34it [00:17,  1.64it/s]6)\u001b[0m \n",
      "Val Epoch:16: 35it [00:17,  2.08it/s]6)\u001b[0m \n"
     ]
    },
    {
     "name": "stdout",
     "output_type": "stream",
     "text": [
      "\u001b[36m(tune_with_parameters pid=3220521)\u001b[0m loss: 0.585\n"
     ]
    },
    {
     "name": "stderr",
     "output_type": "stream",
     "text": [
      "Val Epoch:16: 36it [00:18,  1.61it/s]6)\u001b[0m \n",
      "Val Epoch:16: 37it [00:18,  2.04it/s]6)\u001b[0m \n",
      "Val Epoch:16: 38it [00:18,  2.56it/s]6)\u001b[0m \n",
      "Val Epoch:16: 39it [00:18,  3.04it/s]6)\u001b[0m \n",
      "Val Epoch:6: 4it [00:05,  1.03s/it]\u001b[32m [repeated 5x across cluster]\u001b[0m\n",
      "Val Epoch:6: 8it [00:06,  2.95it/s]460)\u001b[0m \n",
      "Val Epoch:6: 10it [00:07,  1.94it/s]60)\u001b[0m \n"
     ]
    },
    {
     "name": "stdout",
     "output_type": "stream",
     "text": [
      "\u001b[36m(tune_with_parameters pid=2663640)\u001b[0m loss: 0.587\n"
     ]
    },
    {
     "name": "stderr",
     "output_type": "stream",
     "text": [
      "Val Epoch:6: 17it [00:12,  1.10s/it]\u001b[32m [repeated 18x across cluster]\u001b[0m\n",
      "Val Epoch:6: 25it [00:17,  1.13s/it]\u001b[32m [repeated 6x across cluster]\u001b[0m\n",
      "Val Epoch:6: 41it [00:24,  1.35it/s]\u001b[32m [repeated 15x across cluster]\u001b[0m\n"
     ]
    },
    {
     "name": "stdout",
     "output_type": "stream",
     "text": [
      "\u001b[36m(tune_with_parameters pid=3099986)\u001b[0m loss: 0.614\n"
     ]
    },
    {
     "name": "stderr",
     "output_type": "stream",
     "text": [
      "Val Epoch:2: 0it [00:00, ?it/s]3220521)\u001b[0m \n",
      "Val Epoch:6: 50it [00:26,  1.88it/s]\u001b[32m [repeated 8x across cluster]\u001b[0m\n",
      "Val Epoch:2: 3it [00:04,  1.33s/it]\u001b[32m [repeated 2x across cluster]\u001b[0m\n"
     ]
    },
    {
     "name": "stdout",
     "output_type": "stream",
     "text": [
      "\u001b[36m(tune_with_parameters pid=3189460)\u001b[0m loss: 0.604\n"
     ]
    },
    {
     "name": "stderr",
     "output_type": "stream",
     "text": [
      "Val Epoch:2: 15it [00:10,  2.74it/s]\u001b[32m [repeated 12x across cluster]\u001b[0m\n",
      "Val Epoch:2: 25it [00:15,  2.05it/s]\u001b[32m [repeated 9x across cluster]\u001b[0m\n",
      "Val Epoch:2: 34it [00:21,  1.15it/s]\u001b[32m [repeated 8x across cluster]\u001b[0m\n"
     ]
    },
    {
     "name": "stdout",
     "output_type": "stream",
     "text": [
      "\u001b[36m(tune_with_parameters pid=3220521)\u001b[0m loss: 0.608\n",
      "\u001b[36m(tune_with_parameters pid=2663640)\u001b[0m loss: 0.586\n",
      "\u001b[36m(tune_with_parameters pid=3099986)\u001b[0m loss: 0.580\n"
     ]
    },
    {
     "name": "stderr",
     "output_type": "stream",
     "text": [
      "Val Epoch:80: 0it [00:00, ?it/s]663640)\u001b[0m \n",
      "Val Epoch:2: 50it [00:24,  2.02it/s]\u001b[32m [repeated 10x across cluster]\u001b[0m\n"
     ]
    },
    {
     "name": "stdout",
     "output_type": "stream",
     "text": [
      "\u001b[36m(tune_with_parameters pid=3189460)\u001b[0m loss: 0.586\n"
     ]
    },
    {
     "name": "stderr",
     "output_type": "stream",
     "text": [
      "Val Epoch:80: 3it [00:05,  1.33s/it]\u001b[32m [repeated 3x across cluster]\u001b[0m\n",
      "Val Epoch:80: 15it [00:10,  2.84it/s]\u001b[32m [repeated 11x across cluster]\u001b[0m\n",
      "Val Epoch:80: 25it [00:15,  1.48it/s]\u001b[32m [repeated 10x across cluster]\u001b[0m\n",
      "Val Epoch:80: 34it [00:21,  1.11it/s]\u001b[32m [repeated 9x across cluster]\u001b[0m\n"
     ]
    },
    {
     "name": "stdout",
     "output_type": "stream",
     "text": [
      "\u001b[36m(tune_with_parameters pid=3220521)\u001b[0m loss: 0.587\n",
      "\u001b[36m(tune_with_parameters pid=2663640)\u001b[0m loss: 0.571\n",
      "\u001b[36m(tune_with_parameters pid=3099986)\u001b[0m loss: 0.583\n",
      "\u001b[36m(tune_with_parameters pid=3189460)\u001b[0m loss: 0.586\n"
     ]
    },
    {
     "name": "stderr",
     "output_type": "stream",
     "text": [
      "Val Epoch:17: 0it [00:00, ?it/s]099986)\u001b[0m \n",
      "Val Epoch:80: 50it [00:24,  2.04it/s]\u001b[32m [repeated 10x across cluster]\u001b[0m\n",
      "Val Epoch:17: 7it [00:05,  2.37it/s]\u001b[32m [repeated 6x across cluster]\u001b[0m\n",
      "Val Epoch:7: 0it [00:00, ?it/s]3189460)\u001b[0m \n"
     ]
    },
    {
     "name": "stdout",
     "output_type": "stream",
     "text": [
      "\u001b[36m(tune_with_parameters pid=3220521)\u001b[0m loss: 0.585\n"
     ]
    },
    {
     "name": "stderr",
     "output_type": "stream",
     "text": [
      "Val Epoch:7: 1it [00:03,  3.11s/it]\u001b[32m [repeated 11x across cluster]\u001b[0m\n",
      "Val Epoch:17: 30it [00:15,  1.79it/s]\u001b[32m [repeated 20x across cluster]\u001b[0m\n"
     ]
    },
    {
     "name": "stdout",
     "output_type": "stream",
     "text": [
      "\u001b[36m(tune_with_parameters pid=2663640)\u001b[0m loss: 0.585\n"
     ]
    },
    {
     "name": "stderr",
     "output_type": "stream",
     "text": [
      "Val Epoch:7: 20it [00:13,  1.47it/s]\u001b[32m [repeated 19x across cluster]\u001b[0m\n",
      "Val Epoch:7: 34it [00:18,  1.60it/s]\u001b[32m [repeated 23x across cluster]\u001b[0m\n",
      "Val Epoch:7: 45it [00:23,  2.65it/s]\u001b[32m [repeated 11x across cluster]\u001b[0m\n"
     ]
    },
    {
     "name": "stdout",
     "output_type": "stream",
     "text": [
      "\u001b[36m(tune_with_parameters pid=3099986)\u001b[0m loss: 0.596\n"
     ]
    },
    {
     "name": "stderr",
     "output_type": "stream",
     "text": [
      "Val Epoch:3: 0it [00:00, ?it/s]3220521)\u001b[0m \n",
      "Val Epoch:7: 50it [00:26,  1.92it/s]\u001b[32m [repeated 4x across cluster]\u001b[0m\n",
      "Val Epoch:3: 4it [00:05,  1.05it/s]\u001b[32m [repeated 4x across cluster]\u001b[0m\n"
     ]
    },
    {
     "name": "stdout",
     "output_type": "stream",
     "text": [
      "\u001b[36m(tune_with_parameters pid=3189460)\u001b[0m loss: 0.588\n"
     ]
    },
    {
     "name": "stderr",
     "output_type": "stream",
     "text": [
      "Val Epoch:3: 15it [00:10,  2.16it/s]\u001b[32m [repeated 9x across cluster]\u001b[0m\n",
      "Val Epoch:3: 25it [00:16,  1.38it/s]\u001b[32m [repeated 9x across cluster]\u001b[0m\n",
      "Val Epoch:3: 37it [00:21,  1.97it/s]\u001b[32m [repeated 10x across cluster]\u001b[0m\n"
     ]
    },
    {
     "name": "stdout",
     "output_type": "stream",
     "text": [
      "\u001b[36m(tune_with_parameters pid=3220521)\u001b[0m loss: 0.588\n",
      "\u001b[36m(tune_with_parameters pid=2663640)\u001b[0m loss: 0.585\n",
      "\u001b[36m(tune_with_parameters pid=3099986)\u001b[0m loss: 0.583\n"
     ]
    },
    {
     "name": "stderr",
     "output_type": "stream",
     "text": [
      "Val Epoch:81: 0it [00:00, ?it/s]663640)\u001b[0m \n",
      "Val Epoch:3: 50it [00:24,  2.04it/s]\u001b[32m [repeated 8x across cluster]\u001b[0m\n",
      "Val Epoch:81: 2it [00:05,  2.45s/it]\u001b[32m [repeated 2x across cluster]\u001b[0m\n",
      "Val Epoch:81: 17it [00:11,  1.35it/s]\u001b[32m [repeated 14x across cluster]\u001b[0m\n",
      "Val Epoch:81: 21it [00:13,  2.36it/s]0)\u001b[0m \n",
      "Val Epoch:81: 27it [00:17,  1.54it/s]\u001b[32m [repeated 6x across cluster]\u001b[0m\n",
      "Val Epoch:81: 45it [00:22,  5.29it/s]\u001b[32m [repeated 14x across cluster]\u001b[0m\n"
     ]
    },
    {
     "name": "stdout",
     "output_type": "stream",
     "text": [
      "\u001b[36m(tune_with_parameters pid=3220521)\u001b[0m loss: 0.585\u001b[32m [repeated 2x across cluster]\u001b[0m\n",
      "\u001b[36m(tune_with_parameters pid=2663640)\u001b[0m loss: 0.596\n",
      "\u001b[36m(tune_with_parameters pid=3099986)\u001b[0m loss: 0.583\n"
     ]
    },
    {
     "name": "stderr",
     "output_type": "stream",
     "text": [
      "Val Epoch:18: 0it [00:00, ?it/s]099986)\u001b[0m \n",
      "Val Epoch:81: 50it [00:23,  2.09it/s]\u001b[32m [repeated 2x across cluster]\u001b[0m\n"
     ]
    },
    {
     "name": "stdout",
     "output_type": "stream",
     "text": [
      "\u001b[36m(tune_with_parameters pid=3220521)\u001b[0m loss: 0.585\u001b[32m [repeated 2x across cluster]\u001b[0m\n"
     ]
    },
    {
     "name": "stderr",
     "output_type": "stream",
     "text": [
      "Val Epoch:8: 2it [00:03,  1.50s/it]460)\u001b[0m \n",
      "Val Epoch:8: 0it [00:00, ?it/s]3189460)\u001b[0m \n",
      "Val Epoch:8: 5it [00:04,  2.05it/s]\u001b[32m [repeated 8x across cluster]\u001b[0m\n",
      "Val Epoch:18: 17it [00:10,  1.46it/s]\u001b[32m [repeated 21x across cluster]\u001b[0m\n"
     ]
    },
    {
     "name": "stdout",
     "output_type": "stream",
     "text": [
      "\u001b[36m(tune_with_parameters pid=2663640)\u001b[0m loss: 0.587\n"
     ]
    },
    {
     "name": "stderr",
     "output_type": "stream",
     "text": [
      "Val Epoch:18: 29it [00:15,  2.51it/s]\u001b[32m [repeated 20x across cluster]\u001b[0m\n",
      "Val Epoch:18: 38it [00:20,  2.27it/s]\u001b[32m [repeated 14x across cluster]\u001b[0m\n",
      "Val Epoch:18: 50it [00:25,  1.93it/s]\u001b[32m [repeated 18x across cluster]\u001b[0m\n",
      "Val Epoch:4: 0it [00:00, ?it/s]3220521)\u001b[0m \n",
      "Val Epoch:8: 50it [00:25,  1.97it/s]60)\u001b[0m \n",
      "Val Epoch:4: 1it [00:05,  5.06s/it]521)\u001b[0m \n",
      "Val Epoch:4: 2it [00:05,  2.18s/it]521)\u001b[0m \n",
      "Val Epoch:4: 3it [00:05,  1.32s/it]521)\u001b[0m \n",
      "Val Epoch:4: 4it [00:05,  1.19it/s]521)\u001b[0m \n",
      "Val Epoch:4: 5it [00:05,  1.64it/s]521)\u001b[0m \n",
      "Val Epoch:4: 6it [00:06,  2.05it/s]521)\u001b[0m \n",
      "Val Epoch:4: 7it [00:06,  2.48it/s]521)\u001b[0m \n",
      "Val Epoch:4: 8it [00:06,  2.45it/s]521)\u001b[0m \n"
     ]
    },
    {
     "name": "stdout",
     "output_type": "stream",
     "text": [
      "\u001b[36m(tune_with_parameters pid=3189460)\u001b[0m loss: 0.583\n"
     ]
    },
    {
     "name": "stderr",
     "output_type": "stream",
     "text": [
      "Val Epoch:4: 9it [00:09,  1.03s/it]521)\u001b[0m \n",
      "Val Epoch:4: 11it [00:09,  1.52it/s]21)\u001b[0m \n",
      "Val Epoch:4: 12it [00:10,  1.37it/s]21)\u001b[0m \n",
      "Val Epoch:4: 13it [00:10,  1.71it/s]21)\u001b[0m \n",
      "Val Epoch:4: 14it [00:10,  2.15it/s]21)\u001b[0m \n",
      "Val Epoch:4: 15it [00:11,  2.55it/s]21)\u001b[0m \n",
      "Val Epoch:4: 16it [00:11,  2.58it/s]21)\u001b[0m \n",
      "Val Epoch:4: 17it [00:12,  1.64it/s]21)\u001b[0m \n",
      "Val Epoch:4: 18it [00:13,  1.58it/s]21)\u001b[0m \n",
      "Val Epoch:4: 19it [00:13,  1.82it/s]21)\u001b[0m \n",
      "Val Epoch:4: 20it [00:14,  1.96it/s]21)\u001b[0m \n",
      "Val Epoch:4: 21it [00:14,  2.13it/s]21)\u001b[0m \n",
      "Val Epoch:4: 22it [00:14,  2.19it/s]21)\u001b[0m \n",
      "Val Epoch:4: 23it [00:15,  2.00it/s]21)\u001b[0m \n",
      "Val Epoch:4: 24it [00:16,  1.92it/s]21)\u001b[0m \n",
      "Val Epoch:4: 25it [00:16,  1.99it/s]21)\u001b[0m \n",
      "Val Epoch:4: 26it [00:18,  1.09it/s]21)\u001b[0m \n",
      "Val Epoch:4: 27it [00:18,  1.39it/s]21)\u001b[0m \n",
      "Val Epoch:4: 28it [00:19,  1.31it/s]21)\u001b[0m \n",
      "Val Epoch:4: 29it [00:19,  1.61it/s]21)\u001b[0m \n",
      "Val Epoch:4: 30it [00:19,  2.09it/s]21)\u001b[0m \n",
      "Val Epoch:4: 31it [00:20,  2.36it/s]21)\u001b[0m \n",
      "Val Epoch:4: 32it [00:20,  3.05it/s]21)\u001b[0m \n",
      "Val Epoch:4: 33it [00:20,  3.40it/s]21)\u001b[0m \n",
      "Val Epoch:4: 34it [00:21,  1.74it/s]21)\u001b[0m \n",
      "Val Epoch:4: 36it [00:22,  2.30it/s]21)\u001b[0m \n",
      "Val Epoch:4: 37it [00:22,  2.58it/s]21)\u001b[0m \n",
      "Val Epoch:4: 38it [00:22,  2.99it/s]21)\u001b[0m \n",
      "Val Epoch:4: 39it [00:23,  2.98it/s]21)\u001b[0m \n",
      "Val Epoch:4: 40it [00:23,  3.09it/s]21)\u001b[0m \n",
      "Val Epoch:4: 41it [00:24,  2.14it/s]21)\u001b[0m \n",
      "Val Epoch:4: 42it [00:25,  1.71it/s]21)\u001b[0m \n",
      "Val Epoch:4: 44it [00:25,  2.91it/s]21)\u001b[0m \n",
      "Val Epoch:4: 46it [00:25,  4.36it/s]21)\u001b[0m \n",
      "Val Epoch:4: 49it [00:25,  5.00it/s]21)\u001b[0m \n",
      "Val Epoch:4: 50it [00:26,  1.89it/s]21)\u001b[0m \n"
     ]
    },
    {
     "name": "stdout",
     "output_type": "stream",
     "text": [
      "\u001b[36m(tune_with_parameters pid=3220521)\u001b[0m loss: 0.588\u001b[32m [repeated 2x across cluster]\u001b[0m\n",
      "\u001b[36m(tune_with_parameters pid=2663640)\u001b[0m loss: 0.586\n",
      "\u001b[36m(tune_with_parameters pid=3189460)\u001b[0m loss: 0.586\n"
     ]
    },
    {
     "name": "stderr",
     "output_type": "stream",
     "text": [
      "Val Epoch:82: 0it [00:00, ?it/s]663640)\u001b[0m \n",
      "Val Epoch:82: 1it [00:05,  5.09s/it]40)\u001b[0m \n",
      "Val Epoch:82: 3it [00:05,  1.63s/it]40)\u001b[0m \n",
      "Val Epoch:82: 4it [00:06,  1.13s/it]40)\u001b[0m \n",
      "Val Epoch:82: 5it [00:06,  1.14it/s]40)\u001b[0m \n",
      "Val Epoch:82: 6it [00:06,  1.52it/s]40)\u001b[0m \n",
      "Val Epoch:82: 7it [00:06,  1.86it/s]40)\u001b[0m \n",
      "Val Epoch:82: 8it [00:07,  1.88it/s]40)\u001b[0m \n",
      "Val Epoch:82: 9it [00:09,  1.14it/s]40)\u001b[0m \n",
      "Val Epoch:82: 10it [00:09,  1.51it/s]0)\u001b[0m \n",
      "Val Epoch:82: 12it [00:09,  2.54it/s]0)\u001b[0m \n",
      "Val Epoch:82: 13it [00:09,  2.92it/s]0)\u001b[0m \n",
      "Val Epoch:82: 14it [00:10,  2.37it/s]0)\u001b[0m \n",
      "Val Epoch:82: 15it [00:10,  2.81it/s]0)\u001b[0m \n",
      "Val Epoch:82: 16it [00:10,  3.26it/s]0)\u001b[0m \n",
      "Val Epoch:82: 17it [00:12,  1.32it/s]0)\u001b[0m \n",
      "Val Epoch:82: 19it [00:12,  2.11it/s]0)\u001b[0m \n",
      "Val Epoch:82: 20it [00:13,  2.56it/s]0)\u001b[0m \n",
      "Val Epoch:82: 21it [00:13,  3.05it/s]0)\u001b[0m \n",
      "Val Epoch:82: 22it [00:13,  3.48it/s]0)\u001b[0m \n",
      "Val Epoch:82: 23it [00:13,  3.09it/s]0)\u001b[0m \n",
      "Val Epoch:82: 24it [00:14,  2.69it/s]0)\u001b[0m \n",
      "Val Epoch:82: 25it [00:16,  1.27it/s]0)\u001b[0m \n",
      "Val Epoch:82: 26it [00:16,  1.70it/s]0)\u001b[0m \n",
      "Val Epoch:82: 29it [00:16,  3.50it/s]0)\u001b[0m \n",
      "Val Epoch:82: 30it [00:16,  3.85it/s]0)\u001b[0m \n",
      "Val Epoch:82: 31it [00:16,  4.13it/s]0)\u001b[0m \n",
      "Val Epoch:82: 33it [00:17,  4.48it/s]0)\u001b[0m \n",
      "Val Epoch:82: 34it [00:17,  4.53it/s]0)\u001b[0m \n",
      "Val Epoch:82: 35it [00:17,  4.67it/s]0)\u001b[0m \n",
      "Val Epoch:82: 36it [00:17,  4.24it/s]0)\u001b[0m \n",
      "Val Epoch:82: 37it [00:17,  4.89it/s]0)\u001b[0m \n",
      "Val Epoch:82: 38it [00:18,  5.26it/s]0)\u001b[0m \n",
      "Val Epoch:82: 39it [00:18,  6.04it/s]0)\u001b[0m \n",
      "Val Epoch:82: 40it [00:18,  6.41it/s]0)\u001b[0m \n",
      "Val Epoch:82: 41it [00:19,  3.04it/s]0)\u001b[0m \n",
      "Val Epoch:82: 43it [00:19,  4.84it/s]0)\u001b[0m \n",
      "Val Epoch:82: 46it [00:19,  6.11it/s]0)\u001b[0m \n",
      "Val Epoch:82: 47it [00:19,  6.11it/s]0)\u001b[0m \n",
      "Val Epoch:82: 48it [00:20,  5.60it/s]0)\u001b[0m \n",
      "Val Epoch:82: 49it [00:21,  2.09it/s]0)\u001b[0m \n",
      "Val Epoch:82: 50it [00:22,  2.21it/s]0)\u001b[0m \n"
     ]
    },
    {
     "name": "stdout",
     "output_type": "stream",
     "text": [
      "\u001b[36m(tune_with_parameters pid=3220521)\u001b[0m loss: 0.585\u001b[32m [repeated 2x across cluster]\u001b[0m\n",
      "\u001b[36m(tune_with_parameters pid=2663640)\u001b[0m loss: 0.600\n",
      "\u001b[36m(tune_with_parameters pid=3189460)\u001b[0m loss: 0.585\n",
      "\u001b[36m(tune_with_parameters pid=3099986)\u001b[0m loss: 0.597\n",
      "\u001b[36m(tune_with_parameters pid=3220521)\u001b[0m loss: 0.586\n"
     ]
    },
    {
     "name": "stderr",
     "output_type": "stream",
     "text": [
      "Val Epoch:9: 0it [00:00, ?it/s]3189460)\u001b[0m \n",
      "Val Epoch:9: 1it [00:05,  5.32s/it]460)\u001b[0m \n",
      "Val Epoch:9: 3it [00:06,  1.67s/it]460)\u001b[0m \n",
      "Val Epoch:9: 5it [00:06,  1.18it/s]460)\u001b[0m \n",
      "Val Epoch:9: 6it [00:06,  1.49it/s]460)\u001b[0m \n",
      "Val Epoch:9: 7it [00:06,  1.58it/s]460)\u001b[0m \n",
      "Val Epoch:9: 8it [00:07,  1.98it/s]460)\u001b[0m \n",
      "Val Epoch:19: 0it [00:00, ?it/s]099986)\u001b[0m \n",
      "Val Epoch:9: 9it [00:08,  1.14it/s]460)\u001b[0m \n",
      "Val Epoch:9: 10it [00:09,  1.48it/s]60)\u001b[0m \n",
      "Val Epoch:9: 12it [00:09,  2.31it/s]60)\u001b[0m \n",
      "Val Epoch:9: 13it [00:09,  2.76it/s]60)\u001b[0m \n",
      "Val Epoch:9: 14it [00:09,  3.19it/s]60)\u001b[0m \n",
      "Val Epoch:9: 16it [00:10,  3.23it/s]60)\u001b[0m \n"
     ]
    },
    {
     "name": "stdout",
     "output_type": "stream",
     "text": [
      "\u001b[36m(tune_with_parameters pid=2663640)\u001b[0m loss: 0.584\n"
     ]
    },
    {
     "name": "stderr",
     "output_type": "stream",
     "text": [
      "Val Epoch:19: 1it [00:04,  4.62s/it]86)\u001b[0m \n",
      "Val Epoch:19: 2it [00:04,  2.05s/it]86)\u001b[0m \n",
      "Val Epoch:19: 15it [00:09,  2.98it/s]\u001b[32m [repeated 25x across cluster]\u001b[0m\n",
      "Val Epoch:19: 25it [00:14,  2.13it/s]\u001b[32m [repeated 18x across cluster]\u001b[0m\n",
      "Val Epoch:5: 0it [00:00, ?it/s]3220521)\u001b[0m \n",
      "Val Epoch:19: 39it [00:20,  2.96it/s]\u001b[32m [repeated 15x across cluster]\u001b[0m\n",
      "Val Epoch:5: 6it [00:06,  1.17it/s]\u001b[32m [repeated 15x across cluster]\u001b[0m\n",
      "Val Epoch:5: 18it [00:11,  2.08it/s]21)\u001b[0m \n",
      "Val Epoch:5: 15it [00:09,  3.00it/s]\u001b[32m [repeated 7x across cluster]\u001b[0m\n"
     ]
    },
    {
     "name": "stdout",
     "output_type": "stream",
     "text": [
      "\u001b[36m(tune_with_parameters pid=3189460)\u001b[0m loss: 0.609\n"
     ]
    },
    {
     "name": "stderr",
     "output_type": "stream",
     "text": [
      "Val Epoch:5: 27it [00:17,  1.56it/s]\u001b[32m [repeated 8x across cluster]\u001b[0m\n",
      "2024-07-30 18:13:52,358\tWARNING tune.py:219 -- Stop signal received (e.g. via SIGINT/Ctrl+C), ending Ray Tune run. This will try to checkpoint the experiment state one last time. Press CTRL+C (or send SIGINT/SIGKILL/SIGTERM) to skip. \n",
      "Val Epoch:5: 34it [00:22,  1.09it/s]\u001b[32m [repeated 7x across cluster]\u001b[0m\n",
      "2024-07-30 18:13:53,236\tINFO tune.py:1009 -- Wrote the latest version of all result files and experiment state to '/scratch/users/k23058970/Model training/results/NSQ vs AC LSTM/tune_with_parameters_2024-07-30_13-33-38' in 0.8763s.\n"
     ]
    },
    {
     "name": "stdout",
     "output_type": "stream",
     "text": [
      "\u001b[36m(tune_with_parameters pid=3099986)\u001b[0m loss: 0.579\n"
     ]
    },
    {
     "name": "stderr",
     "output_type": "stream",
     "text": [
      "Val Epoch:5: 49it [00:27,  2.05it/s]\u001b[32m [repeated 13x across cluster]\u001b[0m\n",
      "2024-07-30 18:14:04,296\tINFO tune.py:1041 -- Total run time: 16782.24 seconds (16769.58 seconds for the tuning loop).\n",
      "2024-07-30 18:14:04,299\tWARNING tune.py:1056 -- Experiment has been interrupted, but the most recent state was saved.\n",
      "Resume experiment with: Tuner.restore(path=\"/scratch/users/k23058970/Model training/results/NSQ vs AC LSTM/tune_with_parameters_2024-07-30_13-33-38\", trainable=...)\n",
      "2024-07-30 18:14:04,497\tWARNING experiment_analysis.py:180 -- Failed to fetch metrics for 35 trial(s):\n",
      "- tune_with_parameters_0ca84_00015: FileNotFoundError('Could not fetch metrics for tune_with_parameters_0ca84_00015: both result.json and progress.csv were not found at /scratch/users/k23058970/Model training/results/NSQ vs AC LSTM/tune_with_parameters_2024-07-30_13-33-38/tune_with_parameters_0ca84_00015_15_dp=0.1000,hidden_size=200,lr=0.0041,num_layers=1_2024-07-30_13-34-23')\n",
      "- tune_with_parameters_0ca84_00016: FileNotFoundError('Could not fetch metrics for tune_with_parameters_0ca84_00016: both result.json and progress.csv were not found at /scratch/users/k23058970/Model training/results/NSQ vs AC LSTM/tune_with_parameters_2024-07-30_13-33-38/tune_with_parameters_0ca84_00016_16_dp=0.2500,hidden_size=500,lr=0.0152,num_layers=5_2024-07-30_13-34-23')\n",
      "- tune_with_parameters_0ca84_00017: FileNotFoundError('Could not fetch metrics for tune_with_parameters_0ca84_00017: both result.json and progress.csv were not found at /scratch/users/k23058970/Model training/results/NSQ vs AC LSTM/tune_with_parameters_2024-07-30_13-33-38/tune_with_parameters_0ca84_00017_17_dp=0.5000,hidden_size=100,lr=0.0197,num_layers=2_2024-07-30_13-34-23')\n",
      "- tune_with_parameters_0ca84_00018: FileNotFoundError('Could not fetch metrics for tune_with_parameters_0ca84_00018: both result.json and progress.csv were not found at /scratch/users/k23058970/Model training/results/NSQ vs AC LSTM/tune_with_parameters_2024-07-30_13-33-38/tune_with_parameters_0ca84_00018_18_dp=0.1000,hidden_size=400,lr=0.0220,num_layers=4_2024-07-30_13-34-23')\n",
      "- tune_with_parameters_0ca84_00019: FileNotFoundError('Could not fetch metrics for tune_with_parameters_0ca84_00019: both result.json and progress.csv were not found at /scratch/users/k23058970/Model training/results/NSQ vs AC LSTM/tune_with_parameters_2024-07-30_13-33-38/tune_with_parameters_0ca84_00019_19_dp=0.2000,hidden_size=200,lr=0.0347,num_layers=4_2024-07-30_13-34-23')\n",
      "- tune_with_parameters_0ca84_00020: FileNotFoundError('Could not fetch metrics for tune_with_parameters_0ca84_00020: both result.json and progress.csv were not found at /scratch/users/k23058970/Model training/results/NSQ vs AC LSTM/tune_with_parameters_2024-07-30_13-33-38/tune_with_parameters_0ca84_00020_20_dp=0.2500,hidden_size=300,lr=0.0340,num_layers=5_2024-07-30_13-34-23')\n",
      "- tune_with_parameters_0ca84_00021: FileNotFoundError('Could not fetch metrics for tune_with_parameters_0ca84_00021: both result.json and progress.csv were not found at /scratch/users/k23058970/Model training/results/NSQ vs AC LSTM/tune_with_parameters_2024-07-30_13-33-38/tune_with_parameters_0ca84_00021_21_dp=0.2500,hidden_size=500,lr=0.0412,num_layers=1_2024-07-30_13-34-23')\n",
      "- tune_with_parameters_0ca84_00022: FileNotFoundError('Could not fetch metrics for tune_with_parameters_0ca84_00022: both result.json and progress.csv were not found at /scratch/users/k23058970/Model training/results/NSQ vs AC LSTM/tune_with_parameters_2024-07-30_13-33-38/tune_with_parameters_0ca84_00022_22_dp=0.5000,hidden_size=500,lr=0.0283,num_layers=4_2024-07-30_13-34-23')\n",
      "- tune_with_parameters_0ca84_00023: FileNotFoundError('Could not fetch metrics for tune_with_parameters_0ca84_00023: both result.json and progress.csv were not found at /scratch/users/k23058970/Model training/results/NSQ vs AC LSTM/tune_with_parameters_2024-07-30_13-33-38/tune_with_parameters_0ca84_00023_23_dp=0.1000,hidden_size=300,lr=0.0017,num_layers=2_2024-07-30_13-34-23')\n",
      "- tune_with_parameters_0ca84_00024: FileNotFoundError('Could not fetch metrics for tune_with_parameters_0ca84_00024: both result.json and progress.csv were not found at /scratch/users/k23058970/Model training/results/NSQ vs AC LSTM/tune_with_parameters_2024-07-30_13-33-38/tune_with_parameters_0ca84_00024_24_dp=0.5000,hidden_size=200,lr=0.0829,num_layers=4_2024-07-30_13-34-23')\n",
      "- tune_with_parameters_0ca84_00025: FileNotFoundError('Could not fetch metrics for tune_with_parameters_0ca84_00025: both result.json and progress.csv were not found at /scratch/users/k23058970/Model training/results/NSQ vs AC LSTM/tune_with_parameters_2024-07-30_13-33-38/tune_with_parameters_0ca84_00025_25_dp=0.2000,hidden_size=300,lr=0.0198,num_layers=5_2024-07-30_13-34-23')\n",
      "- tune_with_parameters_0ca84_00026: FileNotFoundError('Could not fetch metrics for tune_with_parameters_0ca84_00026: both result.json and progress.csv were not found at /scratch/users/k23058970/Model training/results/NSQ vs AC LSTM/tune_with_parameters_2024-07-30_13-33-38/tune_with_parameters_0ca84_00026_26_dp=0.2000,hidden_size=500,lr=0.0096,num_layers=4_2024-07-30_13-34-23')\n",
      "- tune_with_parameters_0ca84_00027: FileNotFoundError('Could not fetch metrics for tune_with_parameters_0ca84_00027: both result.json and progress.csv were not found at /scratch/users/k23058970/Model training/results/NSQ vs AC LSTM/tune_with_parameters_2024-07-30_13-33-38/tune_with_parameters_0ca84_00027_27_dp=0.2500,hidden_size=100,lr=0.0838,num_layers=4_2024-07-30_13-34-23')\n",
      "- tune_with_parameters_0ca84_00028: FileNotFoundError('Could not fetch metrics for tune_with_parameters_0ca84_00028: both result.json and progress.csv were not found at /scratch/users/k23058970/Model training/results/NSQ vs AC LSTM/tune_with_parameters_2024-07-30_13-33-38/tune_with_parameters_0ca84_00028_28_dp=0.2000,hidden_size=200,lr=0.0633,num_layers=2_2024-07-30_13-34-23')\n",
      "- tune_with_parameters_0ca84_00029: FileNotFoundError('Could not fetch metrics for tune_with_parameters_0ca84_00029: both result.json and progress.csv were not found at /scratch/users/k23058970/Model training/results/NSQ vs AC LSTM/tune_with_parameters_2024-07-30_13-33-38/tune_with_parameters_0ca84_00029_29_dp=0.1000,hidden_size=100,lr=0.0060,num_layers=1_2024-07-30_13-34-23')\n",
      "- tune_with_parameters_0ca84_00030: FileNotFoundError('Could not fetch metrics for tune_with_parameters_0ca84_00030: both result.json and progress.csv were not found at /scratch/users/k23058970/Model training/results/NSQ vs AC LSTM/tune_with_parameters_2024-07-30_13-33-38/tune_with_parameters_0ca84_00030_30_dp=0.2000,hidden_size=300,lr=0.0132,num_layers=4_2024-07-30_13-34-23')\n",
      "- tune_with_parameters_0ca84_00031: FileNotFoundError('Could not fetch metrics for tune_with_parameters_0ca84_00031: both result.json and progress.csv were not found at /scratch/users/k23058970/Model training/results/NSQ vs AC LSTM/tune_with_parameters_2024-07-30_13-33-38/tune_with_parameters_0ca84_00031_31_dp=0.2500,hidden_size=300,lr=0.0010,num_layers=4_2024-07-30_13-34-23')\n",
      "- tune_with_parameters_0ca84_00032: FileNotFoundError('Could not fetch metrics for tune_with_parameters_0ca84_00032: both result.json and progress.csv were not found at /scratch/users/k23058970/Model training/results/NSQ vs AC LSTM/tune_with_parameters_2024-07-30_13-33-38/tune_with_parameters_0ca84_00032_32_dp=0.2000,hidden_size=200,lr=0.0520,num_layers=5_2024-07-30_13-34-23')\n",
      "- tune_with_parameters_0ca84_00033: FileNotFoundError('Could not fetch metrics for tune_with_parameters_0ca84_00033: both result.json and progress.csv were not found at /scratch/users/k23058970/Model training/results/NSQ vs AC LSTM/tune_with_parameters_2024-07-30_13-33-38/tune_with_parameters_0ca84_00033_33_dp=0.5000,hidden_size=300,lr=0.0199,num_layers=2_2024-07-30_13-34-23')\n",
      "- tune_with_parameters_0ca84_00034: FileNotFoundError('Could not fetch metrics for tune_with_parameters_0ca84_00034: both result.json and progress.csv were not found at /scratch/users/k23058970/Model training/results/NSQ vs AC LSTM/tune_with_parameters_2024-07-30_13-33-38/tune_with_parameters_0ca84_00034_34_dp=0.2500,hidden_size=100,lr=0.0039,num_layers=3_2024-07-30_13-34-23')\n",
      "- tune_with_parameters_0ca84_00035: FileNotFoundError('Could not fetch metrics for tune_with_parameters_0ca84_00035: both result.json and progress.csv were not found at /scratch/users/k23058970/Model training/results/NSQ vs AC LSTM/tune_with_parameters_2024-07-30_13-33-38/tune_with_parameters_0ca84_00035_35_dp=0.2500,hidden_size=200,lr=0.0103,num_layers=1_2024-07-30_13-34-23')\n",
      "- tune_with_parameters_0ca84_00036: FileNotFoundError('Could not fetch metrics for tune_with_parameters_0ca84_00036: both result.json and progress.csv were not found at /scratch/users/k23058970/Model training/results/NSQ vs AC LSTM/tune_with_parameters_2024-07-30_13-33-38/tune_with_parameters_0ca84_00036_36_dp=0.2500,hidden_size=200,lr=0.0474,num_layers=1_2024-07-30_13-34-23')\n",
      "- tune_with_parameters_0ca84_00037: FileNotFoundError('Could not fetch metrics for tune_with_parameters_0ca84_00037: both result.json and progress.csv were not found at /scratch/users/k23058970/Model training/results/NSQ vs AC LSTM/tune_with_parameters_2024-07-30_13-33-38/tune_with_parameters_0ca84_00037_37_dp=0.2000,hidden_size=300,lr=0.0328,num_layers=5_2024-07-30_13-34-23')\n",
      "- tune_with_parameters_0ca84_00038: FileNotFoundError('Could not fetch metrics for tune_with_parameters_0ca84_00038: both result.json and progress.csv were not found at /scratch/users/k23058970/Model training/results/NSQ vs AC LSTM/tune_with_parameters_2024-07-30_13-33-38/tune_with_parameters_0ca84_00038_38_dp=0.1000,hidden_size=500,lr=0.0080,num_layers=2_2024-07-30_13-34-23')\n",
      "- tune_with_parameters_0ca84_00039: FileNotFoundError('Could not fetch metrics for tune_with_parameters_0ca84_00039: both result.json and progress.csv were not found at /scratch/users/k23058970/Model training/results/NSQ vs AC LSTM/tune_with_parameters_2024-07-30_13-33-38/tune_with_parameters_0ca84_00039_39_dp=0.2000,hidden_size=200,lr=0.0506,num_layers=5_2024-07-30_13-34-23')\n",
      "- tune_with_parameters_0ca84_00040: FileNotFoundError('Could not fetch metrics for tune_with_parameters_0ca84_00040: both result.json and progress.csv were not found at /scratch/users/k23058970/Model training/results/NSQ vs AC LSTM/tune_with_parameters_2024-07-30_13-33-38/tune_with_parameters_0ca84_00040_40_dp=0.2500,hidden_size=200,lr=0.0057,num_layers=3_2024-07-30_13-34-23')\n",
      "- tune_with_parameters_0ca84_00041: FileNotFoundError('Could not fetch metrics for tune_with_parameters_0ca84_00041: both result.json and progress.csv were not found at /scratch/users/k23058970/Model training/results/NSQ vs AC LSTM/tune_with_parameters_2024-07-30_13-33-38/tune_with_parameters_0ca84_00041_41_dp=0.5000,hidden_size=200,lr=0.0037,num_layers=5_2024-07-30_13-34-23')\n",
      "- tune_with_parameters_0ca84_00042: FileNotFoundError('Could not fetch metrics for tune_with_parameters_0ca84_00042: both result.json and progress.csv were not found at /scratch/users/k23058970/Model training/results/NSQ vs AC LSTM/tune_with_parameters_2024-07-30_13-33-38/tune_with_parameters_0ca84_00042_42_dp=0.2500,hidden_size=400,lr=0.0025,num_layers=1_2024-07-30_13-34-23')\n",
      "- tune_with_parameters_0ca84_00043: FileNotFoundError('Could not fetch metrics for tune_with_parameters_0ca84_00043: both result.json and progress.csv were not found at /scratch/users/k23058970/Model training/results/NSQ vs AC LSTM/tune_with_parameters_2024-07-30_13-33-38/tune_with_parameters_0ca84_00043_43_dp=0.2000,hidden_size=300,lr=0.0016,num_layers=3_2024-07-30_13-34-23')\n",
      "- tune_with_parameters_0ca84_00044: FileNotFoundError('Could not fetch metrics for tune_with_parameters_0ca84_00044: both result.json and progress.csv were not found at /scratch/users/k23058970/Model training/results/NSQ vs AC LSTM/tune_with_parameters_2024-07-30_13-33-38/tune_with_parameters_0ca84_00044_44_dp=0.2000,hidden_size=400,lr=0.0032,num_layers=5_2024-07-30_13-34-23')\n",
      "- tune_with_parameters_0ca84_00045: FileNotFoundError('Could not fetch metrics for tune_with_parameters_0ca84_00045: both result.json and progress.csv were not found at /scratch/users/k23058970/Model training/results/NSQ vs AC LSTM/tune_with_parameters_2024-07-30_13-33-38/tune_with_parameters_0ca84_00045_45_dp=0.5000,hidden_size=200,lr=0.0966,num_layers=5_2024-07-30_13-34-23')\n",
      "- tune_with_parameters_0ca84_00046: FileNotFoundError('Could not fetch metrics for tune_with_parameters_0ca84_00046: both result.json and progress.csv were not found at /scratch/users/k23058970/Model training/results/NSQ vs AC LSTM/tune_with_parameters_2024-07-30_13-33-38/tune_with_parameters_0ca84_00046_46_dp=0.2000,hidden_size=400,lr=0.0088,num_layers=5_2024-07-30_13-34-23')\n",
      "- tune_with_parameters_0ca84_00047: FileNotFoundError('Could not fetch metrics for tune_with_parameters_0ca84_00047: both result.json and progress.csv were not found at /scratch/users/k23058970/Model training/results/NSQ vs AC LSTM/tune_with_parameters_2024-07-30_13-33-38/tune_with_parameters_0ca84_00047_47_dp=0.2000,hidden_size=100,lr=0.0411,num_layers=3_2024-07-30_13-34-23')\n",
      "- tune_with_parameters_0ca84_00048: FileNotFoundError('Could not fetch metrics for tune_with_parameters_0ca84_00048: both result.json and progress.csv were not found at /scratch/users/k23058970/Model training/results/NSQ vs AC LSTM/tune_with_parameters_2024-07-30_13-33-38/tune_with_parameters_0ca84_00048_48_dp=0.1000,hidden_size=300,lr=0.0057,num_layers=2_2024-07-30_13-34-23')\n",
      "- tune_with_parameters_0ca84_00049: FileNotFoundError('Could not fetch metrics for tune_with_parameters_0ca84_00049: both result.json and progress.csv were not found at /scratch/users/k23058970/Model training/results/NSQ vs AC LSTM/tune_with_parameters_2024-07-30_13-33-38/tune_with_parameters_0ca84_00049_49_dp=0.2500,hidden_size=300,lr=0.0272,num_layers=1_2024-07-30_13-34-23')\n",
      "/users/k23058970/miniforge3/envs/Training/lib/python3.10/site-packages/torch/nn/modules/lazy.py:181: UserWarning: Lazy modules are a new feature under heavy development so changes to the API or functionality can happen at any moment.\n",
      "  warnings.warn('Lazy modules are a new feature under heavy development '\n"
     ]
    },
    {
     "name": "stdout",
     "output_type": "stream",
     "text": [
      "Best trial config: {'hidden_size': 300, 'num_layers': 1, 'dp': 0.25, 'l1': 16, 'l2': 2048, 'lr': 0.016152684158278273}\n",
      "Best trial final validation loss: 0.7342575109004974\n",
      "Best trial final validation accuracy: 0.5715805231641979\n",
      "Best trial f1-score: 0.41576525644101897\n"
     ]
    },
    {
     "ename": "RuntimeError",
     "evalue": "Error(s) in loading state_dict for ExVivoLSTM:\n\tsize mismatch for lstm1.weight_ih_l0: copying a param with shape torch.Size([1200, 891]) from checkpoint, the shape in current model is torch.Size([1200, 900]).",
     "output_type": "error",
     "traceback": [
      "\u001b[0;31m---------------------------------------------------------------------------\u001b[0m",
      "\u001b[0;31mRuntimeError\u001b[0m                              Traceback (most recent call last)",
      "Cell \u001b[0;32mIn[2], line 2\u001b[0m\n\u001b[1;32m      1\u001b[0m DATASET_DIR \u001b[38;5;241m=\u001b[39m \u001b[38;5;124m\"\u001b[39m\u001b[38;5;124m/scratch/users/k23058970/Spectral Dataset/NSQ vs AC (Revised)\u001b[39m\u001b[38;5;124m\"\u001b[39m\n\u001b[0;32m----> 2\u001b[0m \u001b[43mmain\u001b[49m\u001b[43m(\u001b[49m\u001b[43mdataset_dir\u001b[49m\u001b[38;5;241;43m=\u001b[39;49m\u001b[43mDATASET_DIR\u001b[49m\u001b[43m,\u001b[49m\u001b[43mdset_name\u001b[49m\u001b[43m \u001b[49m\u001b[38;5;241;43m=\u001b[39;49m\u001b[43m \u001b[49m\u001b[38;5;124;43m\"\u001b[39;49m\u001b[38;5;124;43mNSQ vs AC LSTM\u001b[39;49m\u001b[38;5;124;43m\"\u001b[39;49m\u001b[43m)\u001b[49m\n",
      "File \u001b[0;32m/scratch/users/k23058970/Model training/training_two_class_exvivo_lstm.py:347\u001b[0m, in \u001b[0;36mmain\u001b[0;34m(dataset_dir, num_samples, max_num_epochs, gpus_per_trial, dset_name)\u001b[0m\n\u001b[1;32m    341\u001b[0m \u001b[38;5;28mprint\u001b[39m(\u001b[38;5;124m\"\u001b[39m\u001b[38;5;124mBest trial final validation accuracy: \u001b[39m\u001b[38;5;132;01m{}\u001b[39;00m\u001b[38;5;124m\"\u001b[39m\u001b[38;5;241m.\u001b[39mformat(\n\u001b[1;32m    342\u001b[0m     best_result\u001b[38;5;241m.\u001b[39mmetrics[\u001b[38;5;124m\"\u001b[39m\u001b[38;5;124maccuracy\u001b[39m\u001b[38;5;124m\"\u001b[39m]))\n\u001b[1;32m    343\u001b[0m \u001b[38;5;28mprint\u001b[39m(\u001b[38;5;124m\"\u001b[39m\u001b[38;5;124mBest trial f1-score: \u001b[39m\u001b[38;5;132;01m{}\u001b[39;00m\u001b[38;5;124m\"\u001b[39m\u001b[38;5;241m.\u001b[39mformat(\n\u001b[1;32m    344\u001b[0m     best_result\u001b[38;5;241m.\u001b[39mmetrics[\u001b[38;5;124m'\u001b[39m\u001b[38;5;124mf1\u001b[39m\u001b[38;5;124m'\u001b[39m]\n\u001b[1;32m    345\u001b[0m ))\n\u001b[0;32m--> 347\u001b[0m \u001b[43mtest_best_model\u001b[49m\u001b[43m(\u001b[49m\u001b[43mbest_result\u001b[49m\u001b[43m,\u001b[49m\u001b[43mdataset_dir\u001b[49m\u001b[38;5;241;43m=\u001b[39;49m\u001b[43mdataset_dir\u001b[49m\u001b[43m)\u001b[49m\n",
      "File \u001b[0;32m/scratch/users/k23058970/Model training/training_two_class_exvivo_lstm.py:277\u001b[0m, in \u001b[0;36mtest_best_model\u001b[0;34m(best_config, dataset_dir)\u001b[0m\n\u001b[1;32m    274\u001b[0m checkpoint_path \u001b[38;5;241m=\u001b[39m os\u001b[38;5;241m.\u001b[39mpath\u001b[38;5;241m.\u001b[39mjoin(best_config\u001b[38;5;241m.\u001b[39mcheckpoint\u001b[38;5;241m.\u001b[39mto_directory(), \u001b[38;5;124m\"\u001b[39m\u001b[38;5;124mcheckpoint.pt\u001b[39m\u001b[38;5;124m\"\u001b[39m)\n\u001b[1;32m    276\u001b[0m model_state, _ \u001b[38;5;241m=\u001b[39m torch\u001b[38;5;241m.\u001b[39mload(checkpoint_path)\n\u001b[0;32m--> 277\u001b[0m \u001b[43mbest_model\u001b[49m\u001b[38;5;241;43m.\u001b[39;49m\u001b[43mload_state_dict\u001b[49m\u001b[43m(\u001b[49m\u001b[43mmodel_state\u001b[49m\u001b[43m)\u001b[49m\n\u001b[1;32m    278\u001b[0m test_dset \u001b[38;5;241m=\u001b[39m ExVivoDataset(\u001b[38;5;124mf\u001b[39m\u001b[38;5;124m\"\u001b[39m\u001b[38;5;132;01m{\u001b[39;00mdataset_dir\u001b[38;5;132;01m}\u001b[39;00m\u001b[38;5;124m/Test\u001b[39m\u001b[38;5;124m\"\u001b[39m)\n\u001b[1;32m    280\u001b[0m test_dataloader \u001b[38;5;241m=\u001b[39m DataLoader(\n\u001b[1;32m    281\u001b[0m     test_dset,\n\u001b[1;32m    282\u001b[0m     batch_size\u001b[38;5;241m=\u001b[39m\u001b[38;5;241m512\u001b[39m,\n\u001b[1;32m    283\u001b[0m     shuffle\u001b[38;5;241m=\u001b[39m\u001b[38;5;28;01mTrue\u001b[39;00m,\n\u001b[1;32m    284\u001b[0m     num_workers\u001b[38;5;241m=\u001b[39m\u001b[38;5;241m8\u001b[39m,\n\u001b[1;32m    285\u001b[0m )\n",
      "File \u001b[0;32m~/miniforge3/envs/Training/lib/python3.10/site-packages/torch/nn/modules/module.py:2189\u001b[0m, in \u001b[0;36mModule.load_state_dict\u001b[0;34m(self, state_dict, strict, assign)\u001b[0m\n\u001b[1;32m   2184\u001b[0m         error_msgs\u001b[38;5;241m.\u001b[39minsert(\n\u001b[1;32m   2185\u001b[0m             \u001b[38;5;241m0\u001b[39m, \u001b[38;5;124m'\u001b[39m\u001b[38;5;124mMissing key(s) in state_dict: \u001b[39m\u001b[38;5;132;01m{}\u001b[39;00m\u001b[38;5;124m. \u001b[39m\u001b[38;5;124m'\u001b[39m\u001b[38;5;241m.\u001b[39mformat(\n\u001b[1;32m   2186\u001b[0m                 \u001b[38;5;124m'\u001b[39m\u001b[38;5;124m, \u001b[39m\u001b[38;5;124m'\u001b[39m\u001b[38;5;241m.\u001b[39mjoin(\u001b[38;5;124mf\u001b[39m\u001b[38;5;124m'\u001b[39m\u001b[38;5;124m\"\u001b[39m\u001b[38;5;132;01m{\u001b[39;00mk\u001b[38;5;132;01m}\u001b[39;00m\u001b[38;5;124m\"\u001b[39m\u001b[38;5;124m'\u001b[39m \u001b[38;5;28;01mfor\u001b[39;00m k \u001b[38;5;129;01min\u001b[39;00m missing_keys)))\n\u001b[1;32m   2188\u001b[0m \u001b[38;5;28;01mif\u001b[39;00m \u001b[38;5;28mlen\u001b[39m(error_msgs) \u001b[38;5;241m>\u001b[39m \u001b[38;5;241m0\u001b[39m:\n\u001b[0;32m-> 2189\u001b[0m     \u001b[38;5;28;01mraise\u001b[39;00m \u001b[38;5;167;01mRuntimeError\u001b[39;00m(\u001b[38;5;124m'\u001b[39m\u001b[38;5;124mError(s) in loading state_dict for \u001b[39m\u001b[38;5;132;01m{}\u001b[39;00m\u001b[38;5;124m:\u001b[39m\u001b[38;5;130;01m\\n\u001b[39;00m\u001b[38;5;130;01m\\t\u001b[39;00m\u001b[38;5;132;01m{}\u001b[39;00m\u001b[38;5;124m'\u001b[39m\u001b[38;5;241m.\u001b[39mformat(\n\u001b[1;32m   2190\u001b[0m                        \u001b[38;5;28mself\u001b[39m\u001b[38;5;241m.\u001b[39m\u001b[38;5;18m__class__\u001b[39m\u001b[38;5;241m.\u001b[39m\u001b[38;5;18m__name__\u001b[39m, \u001b[38;5;124m\"\u001b[39m\u001b[38;5;130;01m\\n\u001b[39;00m\u001b[38;5;130;01m\\t\u001b[39;00m\u001b[38;5;124m\"\u001b[39m\u001b[38;5;241m.\u001b[39mjoin(error_msgs)))\n\u001b[1;32m   2191\u001b[0m \u001b[38;5;28;01mreturn\u001b[39;00m _IncompatibleKeys(missing_keys, unexpected_keys)\n",
      "\u001b[0;31mRuntimeError\u001b[0m: Error(s) in loading state_dict for ExVivoLSTM:\n\tsize mismatch for lstm1.weight_ih_l0: copying a param with shape torch.Size([1200, 891]) from checkpoint, the shape in current model is torch.Size([1200, 900])."
     ]
    }
   ],
   "source": [
    "DATASET_DIR = \"/scratch/users/k23058970/Spectral Dataset/NSQ vs AC (Revised)\"\n",
    "main(dataset_dir=DATASET_DIR,dset_name = \"NSQ vs AC LSTM\")"
   ]
  },
  {
   "cell_type": "code",
   "execution_count": null,
   "id": "4335c910-9f28-4a55-a7f4-b336f589199d",
   "metadata": {},
   "outputs": [],
   "source": [
    " "
   ]
  }
 ],
 "metadata": {
  "kernelspec": {
   "display_name": "Training",
   "language": "python",
   "name": "training"
  },
  "language_info": {
   "codemirror_mode": {
    "name": "ipython",
    "version": 3
   },
   "file_extension": ".py",
   "mimetype": "text/x-python",
   "name": "python",
   "nbconvert_exporter": "python",
   "pygments_lexer": "ipython3",
   "version": "3.10.14"
  }
 },
 "nbformat": 4,
 "nbformat_minor": 5
}
